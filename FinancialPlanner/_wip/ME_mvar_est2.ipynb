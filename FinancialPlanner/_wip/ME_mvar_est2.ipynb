{
 "cells": [
  {
   "cell_type": "code",
   "execution_count": 1,
   "metadata": {},
   "outputs": [
    {
     "name": "stderr",
     "output_type": "stream",
     "text": [
      "\u001b[32m\u001b[1m  Activating\u001b[22m\u001b[39m project at `c:\\Users\\matsz\\programowanie\\Optymalizacja_portfela\\FinancialPlanner`\n"
     ]
    }
   ],
   "source": [
    "using Pkg\n",
    "Pkg.activate(\"../\")"
   ]
  },
  {
   "cell_type": "code",
   "execution_count": 2,
   "metadata": {},
   "outputs": [],
   "source": [
    "using StatsBase, Distributions, Plots, LinearAlgebra, Plots"
   ]
  },
  {
   "cell_type": "code",
   "execution_count": 3,
   "metadata": {},
   "outputs": [],
   "source": [
    "using Revise\n",
    "\n",
    "includet(\"../src/ESGModels/msvar.jl\")\n",
    "includet(\"../src/ESGModels/msvar_simulate.jl\") "
   ]
  },
  {
   "cell_type": "code",
   "execution_count": 4,
   "metadata": {},
   "outputs": [
    {
     "data": {
      "text/plain": [
       "1000×2 adjoint(::Matrix{Float64}) with eltype Float64:\n",
       " 0.114205   0.113078\n",
       " 0.0248267  0.0571793\n",
       " 0.171172   0.105244\n",
       " 0.269485   0.073048\n",
       " 0.337213   0.0939563\n",
       " 0.381221   0.181826\n",
       " 0.209308   0.148558\n",
       " 0.132612   0.107599\n",
       " 0.108395   0.0844667\n",
       " 0.188469   0.0681769\n",
       " ⋮          \n",
       " 0.259127   0.142622\n",
       " 0.452819   0.190182\n",
       " 0.249986   0.219635\n",
       " 0.058692   0.159856\n",
       " 0.166943   0.0871317\n",
       " 0.249897   0.141185\n",
       " 0.279124   0.186061\n",
       " 0.132887   0.182537\n",
       " 0.179412   0.168623"
      ]
     },
     "metadata": {},
     "output_type": "display_data"
    }
   ],
   "source": [
    "Β1 = [.09 .3 .2; .03 .1 .6]\n",
    "Σ1 = cor2cov([1 .3; .3 1], [.08, .03])\n",
    "Β2 = [-.02 .35 .25; .035 .15 .63]\n",
    "Σ2 = cor2cov([1 .35; .35 1], [.18, .035])\n",
    "\n",
    "\n",
    "transition_matrix = [.85 .15;.2 .8]\n",
    "\n",
    "states_zero = [.9, .1]\n",
    "X = [.12, .06]\n",
    "\n",
    "\n",
    "n_samples = 1000\n",
    "test_regimes = simulate_regimes(states_zero, transition_matrix, n_samples, 1)\n",
    "test_returns = simulate_msvar_returns(test_regimes, [Β1, Β2], [Σ1, Σ2], X, n_samples, 1)[:,:,1]'"
   ]
  },
  {
   "cell_type": "code",
   "execution_count": 5,
   "metadata": {},
   "outputs": [
    {
     "ename": "DimensionMismatch",
     "evalue": "DimensionMismatch: second dimension of A, 2, does not match length of x, 3",
     "output_type": "error",
     "traceback": [
      "DimensionMismatch: second dimension of A, 2, does not match length of x, 3\n",
      "\n",
      "Stacktrace:\n",
      "  [1] gemv!\n",
      "    @ C:\\Users\\matsz\\.julia\\juliaup\\julia-1.11.2+0.x64.w64.mingw32\\share\\julia\\stdlib\\v1.11\\LinearAlgebra\\src\\matmul.jl:438 [inlined]\n",
      "  [2] generic_matvecmul!\n",
      "    @ C:\\Users\\matsz\\.julia\\juliaup\\julia-1.11.2+0.x64.w64.mingw32\\share\\julia\\stdlib\\v1.11\\LinearAlgebra\\src\\matmul.jl:79 [inlined]\n",
      "  [3] _mul!\n",
      "    @ C:\\Users\\matsz\\.julia\\juliaup\\julia-1.11.2+0.x64.w64.mingw32\\share\\julia\\stdlib\\v1.11\\LinearAlgebra\\src\\matmul.jl:73 [inlined]\n",
      "  [4] mul!\n",
      "    @ C:\\Users\\matsz\\.julia\\juliaup\\julia-1.11.2+0.x64.w64.mingw32\\share\\julia\\stdlib\\v1.11\\LinearAlgebra\\src\\matmul.jl:70 [inlined]\n",
      "  [5] mul!\n",
      "    @ C:\\Users\\matsz\\.julia\\juliaup\\julia-1.11.2+0.x64.w64.mingw32\\share\\julia\\stdlib\\v1.11\\LinearAlgebra\\src\\matmul.jl:253 [inlined]\n",
      "  [6] *(A::Matrix{Float64}, x::Vector{Float64})\n",
      "    @ LinearAlgebra C:\\Users\\matsz\\.julia\\juliaup\\julia-1.11.2+0.x64.w64.mingw32\\share\\julia\\stdlib\\v1.11\\LinearAlgebra\\src\\matmul.jl:56\n",
      "  [7] (::var\"#11#12\"{Vector{Float64}, Vector{Float64}, Vector{Any}, Vector{Any}})(s::Int64)\n",
      "    @ Main .\\none:0\n",
      "  [8] iterate\n",
      "    @ .\\generator.jl:48 [inlined]\n",
      "  [9] collect(itr::Base.Generator{UnitRange{Int64}, var\"#11#12\"{Vector{Float64}, Vector{Float64}, Vector{Any}, Vector{Any}}})\n",
      "    @ Base .\\array.jl:791\n",
      " [10] likehood_t\n",
      "    @ c:\\Users\\matsz\\programowanie\\Optymalizacja_portfela\\FinancialPlanner\\src\\ESGModels\\msvar.jl:7 [inlined]\n",
      " [11] log_likehood(Y::Matrix{Float64}, X::Matrix{Float64}, Β::Vector{Any}, Σ::Vector{Any}, transition_matrix::Matrix{Float64}, states_zero::Vector{Float64})\n",
      "    @ Main c:\\Users\\matsz\\programowanie\\Optymalizacja_portfela\\FinancialPlanner\\src\\ESGModels\\msvar.jl:146\n",
      " [12] expectation_maximisation(Y::Matrix{Float64}, X::Matrix{Float64}, k::Int64, Β::Vector{Matrix{Float64}}, Σ::Vector{Matrix{Float64}}, transition_matrix::Matrix{Float64}, n_iterations::Int64)\n",
      "    @ Main c:\\Users\\matsz\\programowanie\\Optymalizacja_portfela\\FinancialPlanner\\src\\ESGModels\\msvar.jl:194\n",
      " [13] top-level scope\n",
      "    @ c:\\Users\\matsz\\programowanie\\Optymalizacja_portfela\\FinancialPlanner\\_wip\\jl_notebook_cell_df34fa98e69747e1a8f8a730347b8e2f_W4sZmlsZQ==.jl:26"
     ]
    }
   ],
   "source": [
    "Y = collect(test_returns[2:end,:])\n",
    "T = n_samples\n",
    "p = 1\n",
    "X = hcat(ones(T-1), test_returns[p:end-1,:])\n",
    "k= 2 #n_regimes\n",
    "n_variables = 2\n",
    "\n",
    "#Β = [randn(n_variables, n_variables+1) for _ in 1:k]\n",
    "\n",
    "Β1 = [.06 .35 .25; .035 .2 .65]\n",
    "\n",
    "Β2 = [-.05 .45 .15; .035 .15 .63]\n",
    "\n",
    "Β = [Β1, Β2]\n",
    "\n",
    "#= Σ1 = cor2cov([1 .1; .1 1], [.05, .02])\n",
    "Σ2 = cor2cov([1 .5; .5 1], [.10, .05]) =#\n",
    "\n",
    "Σ = rand(InverseWishart(4, [.001 0; 0 .015]),k)\n",
    "\n",
    "#init_regimes = rand(k) \n",
    "#init_regimes = init_regimes ./ sum(init_regimes)\n",
    "\n",
    "t_m = [.5 .5;.5 .5]\n",
    "\n",
    "result = expectation_maximisation(Y, X, k, Β, Σ, t_m, 100)\n",
    "\n"
   ]
  },
  {
   "cell_type": "code",
   "execution_count": 6,
   "metadata": {},
   "outputs": [
    {
     "ename": "UndefVarError",
     "evalue": "UndefVarError: `result` not defined in `Main`\nSuggestion: check for spelling errors or missing imports.",
     "output_type": "error",
     "traceback": [
      "UndefVarError: `result` not defined in `Main`\n",
      "Suggestion: check for spelling errors or missing imports.\n",
      "\n",
      "Stacktrace:\n",
      " [1] top-level scope\n",
      "   @ c:\\Users\\matsz\\programowanie\\Optymalizacja_portfela\\FinancialPlanner\\_wip\\jl_notebook_cell_df34fa98e69747e1a8f8a730347b8e2f_W5sZmlsZQ==.jl:1"
     ]
    }
   ],
   "source": [
    "round.(result.smoothed_regimes, digits=2)"
   ]
  },
  {
   "cell_type": "code",
   "execution_count": 7,
   "metadata": {},
   "outputs": [
    {
     "ename": "UndefVarError",
     "evalue": "UndefVarError: `result` not defined in `Main`\nSuggestion: check for spelling errors or missing imports.",
     "output_type": "error",
     "traceback": [
      "UndefVarError: `result` not defined in `Main`\n",
      "Suggestion: check for spelling errors or missing imports.\n",
      "\n",
      "Stacktrace:\n",
      " [1] top-level scope\n",
      "   @ c:\\Users\\matsz\\programowanie\\Optymalizacja_portfela\\FinancialPlanner\\_wip\\jl_notebook_cell_df34fa98e69747e1a8f8a730347b8e2f_W6sZmlsZQ==.jl:1"
     ]
    }
   ],
   "source": [
    "result.Β\n"
   ]
  },
  {
   "cell_type": "code",
   "execution_count": 8,
   "metadata": {},
   "outputs": [
    {
     "ename": "UndefVarError",
     "evalue": "UndefVarError: `result` not defined in `Main`\nSuggestion: check for spelling errors or missing imports.",
     "output_type": "error",
     "traceback": [
      "UndefVarError: `result` not defined in `Main`\n",
      "Suggestion: check for spelling errors or missing imports.\n",
      "\n",
      "Stacktrace:\n",
      " [1] top-level scope\n",
      "   @ c:\\Users\\matsz\\programowanie\\Optymalizacja_portfela\\FinancialPlanner\\_wip\\jl_notebook_cell_df34fa98e69747e1a8f8a730347b8e2f_X10sZmlsZQ==.jl:1"
     ]
    }
   ],
   "source": [
    "result.Σ"
   ]
  },
  {
   "cell_type": "code",
   "execution_count": 9,
   "metadata": {},
   "outputs": [
    {
     "ename": "UndefVarError",
     "evalue": "UndefVarError: `result` not defined in `Main`\nSuggestion: check for spelling errors or missing imports.",
     "output_type": "error",
     "traceback": [
      "UndefVarError: `result` not defined in `Main`\n",
      "Suggestion: check for spelling errors or missing imports.\n",
      "\n",
      "Stacktrace:\n",
      " [1] top-level scope\n",
      "   @ c:\\Users\\matsz\\programowanie\\Optymalizacja_portfela\\FinancialPlanner\\_wip\\jl_notebook_cell_df34fa98e69747e1a8f8a730347b8e2f_X11sZmlsZQ==.jl:1"
     ]
    }
   ],
   "source": [
    "result.transition_matrix"
   ]
  },
  {
   "cell_type": "code",
   "execution_count": 10,
   "metadata": {},
   "outputs": [
    {
     "ename": "UndefVarError",
     "evalue": "UndefVarError: `jr` not defined in `Main`\nSuggestion: check for spelling errors or missing imports.",
     "output_type": "error",
     "traceback": [
      "UndefVarError: `jr` not defined in `Main`\n",
      "Suggestion: check for spelling errors or missing imports.\n",
      "\n",
      "Stacktrace:\n",
      " [1] top-level scope\n",
      "   @ c:\\Users\\matsz\\programowanie\\Optymalizacja_portfela\\FinancialPlanner\\_wip\\jl_notebook_cell_df34fa98e69747e1a8f8a730347b8e2f_X12sZmlsZQ==.jl:1"
     ]
    }
   ],
   "source": [
    "est_transition_matrix(jr, r, [.5, .5])"
   ]
  }
 ],
 "metadata": {
  "kernelspec": {
   "display_name": "Julia 1.11.2",
   "language": "julia",
   "name": "julia-1.11"
  },
  "language_info": {
   "file_extension": ".jl",
   "mimetype": "application/julia",
   "name": "julia",
   "version": "1.11.2"
  }
 },
 "nbformat": 4,
 "nbformat_minor": 2
}
