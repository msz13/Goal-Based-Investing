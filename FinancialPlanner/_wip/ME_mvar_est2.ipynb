{
 "cells": [
  {
   "cell_type": "code",
   "execution_count": 1,
   "metadata": {},
   "outputs": [
    {
     "name": "stderr",
     "output_type": "stream",
     "text": [
      "\u001b[32m\u001b[1m  Activating\u001b[22m\u001b[39m project at `c:\\Users\\matsz\\programowanie\\Optymalizacja_portfela\\FinancialPlanner`\n"
     ]
    }
   ],
   "source": [
    "using Pkg\n",
    "Pkg.activate(\"../\")"
   ]
  },
  {
   "cell_type": "code",
   "execution_count": 75,
   "metadata": {},
   "outputs": [],
   "source": [
    "using StatsBase, Distributions, Plots, LinearAlgebra, Plots"
   ]
  },
  {
   "cell_type": "code",
   "execution_count": 3,
   "metadata": {},
   "outputs": [],
   "source": [
    "using Revise\n",
    "\n",
    "includet(\"../src/ESGModels/msvar.jl\")\n",
    "includet(\"../src/ESGModels/msvar_simulate.jl\") "
   ]
  },
  {
   "cell_type": "code",
   "execution_count": 4,
   "metadata": {},
   "outputs": [
    {
     "data": {
      "text/plain": [
       "1000×2 adjoint(::Matrix{Float64}) with eltype Float64:\n",
       "  0.0594498  0.0876271\n",
       "  0.0585175  0.0741366\n",
       " -0.384565   0.124349\n",
       " -0.0362412  0.084648\n",
       "  0.0883398  0.0856895\n",
       "  0.169986   0.100858\n",
       "  0.0793413  0.0859396\n",
       "  0.114779   0.0563473\n",
       "  0.189468   0.0865504\n",
       "  0.268172   0.109997\n",
       "  ⋮          \n",
       "  0.0718065  0.0827917\n",
       "  0.168601   0.103735\n",
       "  0.131264   0.0788732\n",
       "  0.139286   0.124723\n",
       "  0.205699   0.20088\n",
       "  0.278883   0.197581\n",
       "  0.244214   0.236575\n",
       "  0.21403    0.192462\n",
       "  0.229819   0.225787"
      ]
     },
     "metadata": {},
     "output_type": "display_data"
    }
   ],
   "source": [
    "Β1 = [.09 .3 .2; .03 .1 .6]\n",
    "Σ1 = cor2cov([1 .3; .3 1], [.08, .03])\n",
    "Β2 = [-.02 .35 .25; .035 .15 .63]\n",
    "Σ2 = cor2cov([1 .35; .35 1], [.18, .035])\n",
    "\n",
    "\n",
    "transition_matrix = [.85 .15;.2 .8]\n",
    "\n",
    "states_zero = [.9, .1]\n",
    "X = [.12, .06]\n",
    "\n",
    "\n",
    "n_samples = 1000\n",
    "test_regimes = simulate_regimes(states_zero, transition_matrix, n_samples, 1)\n",
    "test_returns = simulate_msvar_returns(test_regimes, [Β1, Β2], [Σ1, Σ2], X, n_samples, 1)[:,:,1]'"
   ]
  },
  {
   "cell_type": "code",
   "execution_count": 150,
   "metadata": {},
   "outputs": [
    {
     "data": {
      "text/plain": [
       "MSVARResult([2.375880182239418e-133 1.0; 0.0 1.0; … ; 2.7685275835337613e-192 1.0; 5.292372499730082e-163 1.0], [2.3758801822394213e-133 1.0000000000000013; 0.0 1.0000000000000013; … ; 2.7685275835337613e-192 1.0; 5.292372499730082e-163 1.0], [NaN 0.5000000000000003; NaN 0.5], Any[[0.26952981302575113 0.05431884325948068; 1.0471581565460704 0.16922505122797393; -0.058404573358992816 0.45532473221732145], [0.04328549619579321 0.028681271557113287; 0.3853279853860466 0.11947808110056227; 0.30854465512904816 0.5937076844352643]], Any[[0.0051624051178112045 0.0010575160920481602; 0.00105751609204816 0.001014943331415573], [0.011166842498007677 0.0006476057264638837; 0.0006476057264638837 0.001011745312505539]])"
      ]
     },
     "metadata": {},
     "output_type": "display_data"
    }
   ],
   "source": [
    "Y = collect(test_returns[2:end,:])\n",
    "T = n_samples\n",
    "p = 1\n",
    "X = hcat(ones(T-1), test_returns[p:end-1,:])\n",
    "k= 2 #n_regimes\n",
    "n_variables = 2\n",
    "\n",
    "#Β = [randn(n_variables, n_variables+1) for _ in 1:k]\n",
    "\n",
    "Β1 = [.06 .35 .25; .035 .2 .65]\n",
    "\n",
    "Β2 = [-.05 .45 .15; .035 .15 .63]\n",
    "\n",
    "\n",
    "#= Σ1 = cor2cov([1 .1; .1 1], [.05, .02])\n",
    "Σ2 = cor2cov([1 .5; .5 1], [.10, .05]) =#\n",
    "\n",
    "Σ = rand(InverseWishart(4, [.001 0; 0 .015]),k)\n",
    "\n",
    "#init_regimes = rand(k) \n",
    "#init_regimes = init_regimes ./ sum(init_regimes)\n",
    "\n",
    "t_m = [.5 .5;.5 .5]\n",
    "\n",
    "result = expectation_maximisation(Y, X, k, Β, Σ, t_m, 100)\n",
    "\n"
   ]
  },
  {
   "cell_type": "code",
   "execution_count": 157,
   "metadata": {},
   "outputs": [
    {
     "data": {
      "text/plain": [
       "999×2 Matrix{Float64}:\n",
       " 0.0  1.0\n",
       " 0.0  1.0\n",
       " 1.0  0.0\n",
       " 0.0  1.0\n",
       " 0.0  1.0\n",
       " 0.0  1.0\n",
       " 0.0  1.0\n",
       " 0.0  1.0\n",
       " 0.0  1.0\n",
       " 0.0  1.0\n",
       " ⋮    \n",
       " 0.0  1.0\n",
       " 0.0  1.0\n",
       " 0.0  1.0\n",
       " 0.0  1.0\n",
       " 0.0  1.0\n",
       " 0.0  1.0\n",
       " 0.0  1.0\n",
       " 0.0  1.0\n",
       " 0.0  1.0"
      ]
     },
     "metadata": {},
     "output_type": "display_data"
    }
   ],
   "source": [
    "round.(result.regimes, digits=2)"
   ]
  },
  {
   "cell_type": "code",
   "execution_count": 165,
   "metadata": {},
   "outputs": [
    {
     "data": {
      "text/plain": [
       "2-element Vector{Any}:\n",
       " [0.26952981302575113 0.05431884325948068; 1.0471581565460704 0.16922505122797393; -0.058404573358992816 0.45532473221732145]\n",
       " [0.04328549619579321 0.028681271557113287; 0.3853279853860466 0.11947808110056227; 0.30854465512904816 0.5937076844352643]"
      ]
     },
     "metadata": {},
     "output_type": "display_data"
    }
   ],
   "source": [
    "result.Β\n"
   ]
  },
  {
   "cell_type": "code",
   "execution_count": 168,
   "metadata": {},
   "outputs": [
    {
     "data": {
      "text/plain": [
       "5×4 Matrix{Float64}:\n",
       "   0.25    0.25  NaN    NaN\n",
       "   0.5     0.0   NaN    NaN\n",
       "   0.5     0.0   NaN    NaN\n",
       " NaN     NaN       0.5    0.0\n",
       "   0.0     0.5   NaN    NaN"
      ]
     },
     "metadata": {},
     "output_type": "display_data"
    }
   ],
   "source": [
    "r = [1. 0.; 1. 0.; 1. 0.; 0. 1.; 1. 0.]\n",
    "\n",
    "jr = joined_regimes_probs(r, r, [.5, .5], t_m)\n"
   ]
  },
  {
   "cell_type": "code",
   "execution_count": 169,
   "metadata": {},
   "outputs": [
    {
     "data": {
      "text/plain": [
       "2×2 Matrix{Float64}:\n",
       " NaN  NaN\n",
       " NaN  NaN"
      ]
     },
     "metadata": {},
     "output_type": "display_data"
    }
   ],
   "source": [
    "est_transition_matrix(jr, r, [.5, .5])"
   ]
  },
  {
   "cell_type": "code",
   "execution_count": null,
   "metadata": {},
   "outputs": [
    {
     "data": {
      "text/plain": [
       "2×2 Matrix{Float64}:\n",
       " 0.0016  0.0\n",
       " 0.0     0.0064"
      ]
     },
     "metadata": {},
     "output_type": "display_data"
    }
   ],
   "source": []
  }
 ],
 "metadata": {
  "kernelspec": {
   "display_name": "Julia 1.11.2",
   "language": "julia",
   "name": "julia-1.11"
  },
  "language_info": {
   "file_extension": ".jl",
   "mimetype": "application/julia",
   "name": "julia",
   "version": "1.11.2"
  }
 },
 "nbformat": 4,
 "nbformat_minor": 2
}
