{
 "cells": [
  {
   "cell_type": "markdown",
   "id": "e2130747",
   "metadata": {},
   "source": [
    "### TODO\n",
    "- tc model for two variables with no correlated erros - use state space inference library\n",
    "- estimate on simulated data\n",
    "- estimate on real data\n",
    "- add var error correlation\n",
    "- add trend correlation\n",
    "- extedn to more variables"
   ]
  },
  {
   "cell_type": "code",
   "execution_count": 66,
   "id": "a1cc4f13",
   "metadata": {},
   "outputs": [
    {
     "name": "stderr",
     "output_type": "stream",
     "text": [
      "\u001b[32m\u001b[1m  Activating\u001b[22m\u001b[39m project at `c:\\Users\\matsz\\programowanie\\Optymalizacja_portfela\\FinancialPlanner`\n"
     ]
    }
   ],
   "source": [
    "import Pkg\n",
    "Pkg.activate(\"../../../FinancialPlanner\")"
   ]
  },
  {
   "cell_type": "code",
   "execution_count": 67,
   "id": "b2f54f55",
   "metadata": {},
   "outputs": [],
   "source": [
    "using Revise\n",
    "using LinearAlgebra\n",
    "using Distributions\n",
    "using Plots\n",
    "using StateSpaceInference\n",
    "\n",
    "includet(\"TCVAR_model.jl\")"
   ]
  },
  {
   "cell_type": "code",
   "execution_count": 71,
   "id": "91e5b65b",
   "metadata": {},
   "outputs": [
    {
     "ename": "MethodError",
     "evalue": "MethodError: no method matching LinearGaussianStateSpaceModel(::Vector{Float64}, ::Matrix{Float64}, ::Matrix{Float64}, ::Vector{Float64}, ::Matrix{Float64}, ::Matrix{Int64}, ::Matrix{Float64})\nThe type `LinearGaussianStateSpaceModel` exists, but no method is defined for this combination of argument types when trying to construct it.\n\nClosest candidates are:\n  LinearGaussianStateSpaceModel(::Vector{XT}, ::AbstractMatrix{XT}, ::Matrix{XT}, ::Vector{XT}, ::AbstractMatrix{XT}, !Matched::Matrix{XT}, ::AbstractMatrix{XT}) where XT\n   @ StateSpaceInference C:\\Users\\matsz\\.julia\\packages\\StateSpaceInference\\EJ9sI\\src\\linear_models.jl:53\n  LinearGaussianStateSpaceModel(::Vector{XT}, !Matched::PDMats.PDMat{XT, S} where S<:AbstractMatrix{XT}, ::Matrix{XT}, ::Vector{XT}, !Matched::PDMats.PDMat{XT, S} where S<:AbstractMatrix{XT}, !Matched::Matrix{XT}, !Matched::PDMats.PDMat{XT, S} where S<:AbstractMatrix{XT}) where XT<:Number\n   @ StateSpaceInference C:\\Users\\matsz\\.julia\\packages\\StateSpaceInference\\EJ9sI\\src\\linear_models.jl:34\n",
     "output_type": "error",
     "traceback": [
      "MethodError: no method matching LinearGaussianStateSpaceModel(::Vector{Float64}, ::Matrix{Float64}, ::Matrix{Float64}, ::Vector{Float64}, ::Matrix{Float64}, ::Matrix{Int64}, ::Matrix{Float64})\n",
      "The type `LinearGaussianStateSpaceModel` exists, but no method is defined for this combination of argument types when trying to construct it.\n",
      "\n",
      "Closest candidates are:\n",
      "  LinearGaussianStateSpaceModel(::Vector{XT}, ::AbstractMatrix{XT}, ::Matrix{XT}, ::Vector{XT}, ::AbstractMatrix{XT}, !Matched::Matrix{XT}, ::AbstractMatrix{XT}) where XT\n",
      "   @ StateSpaceInference C:\\Users\\matsz\\.julia\\packages\\StateSpaceInference\\EJ9sI\\src\\linear_models.jl:53\n",
      "  LinearGaussianStateSpaceModel(::Vector{XT}, !Matched::PDMats.PDMat{XT, S} where S<:AbstractMatrix{XT}, ::Matrix{XT}, ::Vector{XT}, !Matched::PDMats.PDMat{XT, S} where S<:AbstractMatrix{XT}, !Matched::Matrix{XT}, !Matched::PDMats.PDMat{XT, S} where S<:AbstractMatrix{XT}) where XT<:Number\n",
      "   @ StateSpaceInference C:\\Users\\matsz\\.julia\\packages\\StateSpaceInference\\EJ9sI\\src\\linear_models.jl:34\n",
      "\n",
      "\n",
      "Stacktrace:\n",
      " [1] TCVAR(params::@NamedTuple{στπ::Float64, στr::Float64, Φ11::Float64, Φ12::Float64, Φ21::Float64, Φ22::Float64, σcπ::Float64, σcr::Float64}, initial_observation::Vector{Float64}, initial_covariance::Matrix{Float64})\n",
      "   @ Main c:\\Users\\matsz\\programowanie\\Optymalizacja_portfela\\FinancialPlanner\\_wip\\TCVAR\\TCVAR_model.jl:19\n",
      " [2] top-level scope\n",
      "   @ c:\\Users\\matsz\\programowanie\\Optymalizacja_portfela\\FinancialPlanner\\_wip\\TCVAR\\jl_notebook_cell_df34fa98e69747e1a8f8a730347b8e2f_W3sZmlsZQ==.jl:4"
     ]
    }
   ],
   "source": [
    "params_true = NamedTuple{(:στπ, :στr, :Φ11, :Φ12, :Φ21, :Φ22, :σcπ, :σcr)}((.02, .01, .6, .3, .4, .2, .015, .01))\n",
    "   \n",
    "\n",
    "TCVAR(params_true, [.02, .01], diagm([.01, .005]))\n",
    "\n"
   ]
  },
  {
   "cell_type": "code",
   "execution_count": 72,
   "id": "690ac1ca",
   "metadata": {},
   "outputs": [
    {
     "data": {
      "text/plain": [
       "3×3 Diagonal{Int64, Vector{Int64}}:\n",
       " 1  ⋅  ⋅\n",
       " ⋅  2  ⋅\n",
       " ⋅  ⋅  3"
      ]
     },
     "metadata": {},
     "output_type": "display_data"
    }
   ],
   "source": [
    "Diagonal([1,2,3])"
   ]
  }
 ],
 "metadata": {
  "kernelspec": {
   "display_name": "Julia 1.11.2",
   "language": "julia",
   "name": "julia-1.11"
  },
  "language_info": {
   "file_extension": ".jl",
   "mimetype": "application/julia",
   "name": "julia",
   "version": "1.11.2"
  }
 },
 "nbformat": 4,
 "nbformat_minor": 5
}
