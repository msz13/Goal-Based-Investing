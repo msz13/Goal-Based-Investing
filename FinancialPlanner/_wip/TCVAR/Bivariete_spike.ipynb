{
 "cells": [
  {
   "cell_type": "markdown",
   "id": "e2130747",
   "metadata": {},
   "source": [
    "### TODO\n",
    "- tc model for two variables with no correlated erros - use state space inference library\n",
    "- estimate on simulated data\n",
    "- estimate on real data\n",
    "- add var error correlation\n",
    "- add trend correlation\n",
    "- extedn to more variables"
   ]
  },
  {
   "cell_type": "code",
   "execution_count": 66,
   "id": "a1cc4f13",
   "metadata": {},
   "outputs": [
    {
     "name": "stderr",
     "output_type": "stream",
     "text": [
      "\u001b[32m\u001b[1m  Activating\u001b[22m\u001b[39m project at `c:\\Users\\matsz\\programowanie\\Optymalizacja_portfela\\FinancialPlanner`\n"
     ]
    }
   ],
   "source": [
    "import Pkg\n",
    "Pkg.activate(\"../../../FinancialPlanner\")"
   ]
  },
  {
   "cell_type": "code",
   "execution_count": 67,
   "id": "b2f54f55",
   "metadata": {},
   "outputs": [],
   "source": [
    "using Revise\n",
    "using LinearAlgebra\n",
    "using Distributions\n",
    "using Plots\n",
    "using StateSpaceInference\n",
    "\n",
    "includet(\"TCVAR_model.jl\")"
   ]
  },
  {
   "cell_type": "code",
   "execution_count": 74,
   "id": "91e5b65b",
   "metadata": {},
   "outputs": [
    {
     "data": {
      "text/plain": [
       "LinearGaussianStateSpaceModel{Float64}([0.02, 0.01], [0.01 0.0; 0.0 0.005], [1.0 0.0 0.0 0.0; 0.0 1.0 0.0 0.0; 0.0 0.0 0.6 0.4; 0.0 0.0 0.4 0.2], [0.0, 0.0], [0.02 0.0 0.0 0.0; 0.0 0.01 0.0 0.0; 0.0 0.0 0.015 0.0; 0.0 0.0 0.0 0.01], [1.0 0.0 1.0 0.0; 1.0 1.0 0.0 1.0], [0.0 0.0; 0.0 0.0])"
      ]
     },
     "metadata": {},
     "output_type": "display_data"
    }
   ],
   "source": [
    "params_true = NamedTuple{(:στπ, :στr, :Φ11, :Φ12, :Φ21, :Φ22, :σcπ, :σcr)}((.02, .01, .6, .3, .4, .2, .015, .01))\n",
    "   \n",
    "\n",
    "TCVAR(params_true, [.02, .01], diagm([.01, .005]))\n",
    "\n"
   ]
  },
  {
   "cell_type": "code",
   "execution_count": 73,
   "id": "690ac1ca",
   "metadata": {},
   "outputs": [
    {
     "data": {
      "text/plain": [
       "2×4 Matrix{Float64}:\n",
       " 1.0  0.0  1.0  0.0\n",
       " 1.0  1.0  0.0  1.0"
      ]
     },
     "metadata": {},
     "output_type": "display_data"
    }
   ],
   "source": [
    "B = [1. 0 1. 0\n",
    "         1. 1. 0 1.\n",
    "         ]"
   ]
  }
 ],
 "metadata": {
  "kernelspec": {
   "display_name": "Julia 1.11.2",
   "language": "julia",
   "name": "julia-1.11"
  },
  "language_info": {
   "file_extension": ".jl",
   "mimetype": "application/julia",
   "name": "julia",
   "version": "1.11.2"
  }
 },
 "nbformat": 4,
 "nbformat_minor": 5
}
