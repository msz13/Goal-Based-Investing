{
 "cells": [
  {
   "cell_type": "markdown",
   "id": "e2130747",
   "metadata": {},
   "source": [
    "### TODO\n",
    "- tc model for two variables with no correlated erros - use state space inference library\n",
    "- estimate on simulated data\n",
    "- estimate on real data\n",
    "- add var error correlation\n",
    "- add trend correlation\n",
    "- extedn to more variables"
   ]
  },
  {
   "cell_type": "code",
   "execution_count": 1,
   "id": "a1cc4f13",
   "metadata": {},
   "outputs": [
    {
     "name": "stderr",
     "output_type": "stream",
     "text": [
      "\u001b[32m\u001b[1m  Activating\u001b[22m\u001b[39m project at `c:\\Users\\matsz\\programowanie\\Optymalizacja_portfela\\FinancialPlanner\\_wip\\TCVAR`\n"
     ]
    }
   ],
   "source": [
    "import Pkg\n",
    "Pkg.activate(\"../../../FinancialPlanner/_wip/TCVAR\")"
   ]
  },
  {
   "cell_type": "code",
   "execution_count": 2,
   "id": "5074d284",
   "metadata": {},
   "outputs": [
    {
     "name": "stderr",
     "output_type": "stream",
     "text": [
      "\u001b[32m\u001b[1m    Updating\u001b[22m\u001b[39m git-repo `https://github.com/TuringLang/SSMProblems.jl`\n",
      "\u001b[32m\u001b[1m   Resolving\u001b[22m\u001b[39m package versions...\n",
      "\u001b[32m\u001b[1m  No Changes\u001b[22m\u001b[39m to `C:\\Users\\matsz\\programowanie\\Optymalizacja_portfela\\FinancialPlanner\\_wip\\TCVAR\\Project.toml`\n",
      "\u001b[32m\u001b[1m  No Changes\u001b[22m\u001b[39m to `C:\\Users\\matsz\\programowanie\\Optymalizacja_portfela\\FinancialPlanner\\_wip\\TCVAR\\Manifest.toml`\n",
      "\u001b[32m\u001b[1m    Updating\u001b[22m\u001b[39m git-repo `https://github.com/TuringLang/SSMProblems.jl`\n",
      "\u001b[32m\u001b[1m   Resolving\u001b[22m\u001b[39m package versions...\n",
      "\u001b[32m\u001b[1m  No Changes\u001b[22m\u001b[39m to `C:\\Users\\matsz\\programowanie\\Optymalizacja_portfela\\FinancialPlanner\\_wip\\TCVAR\\Project.toml`\n",
      "\u001b[32m\u001b[1m  No Changes\u001b[22m\u001b[39m to `C:\\Users\\matsz\\programowanie\\Optymalizacja_portfela\\FinancialPlanner\\_wip\\TCVAR\\Manifest.toml`\n"
     ]
    }
   ],
   "source": [
    "Pkg.add(url=\"https://github.com/TuringLang/SSMProblems.jl\", subdir=\"GeneralisedFilters\")\n",
    "Pkg.add(url=\"https://github.com/TuringLang/SSMProblems.jl\", subdir=\"SSMProblems\")"
   ]
  },
  {
   "cell_type": "code",
   "execution_count": 5,
   "id": "ee8207f2",
   "metadata": {},
   "outputs": [],
   "source": [
    "using ForwardDiff"
   ]
  },
  {
   "cell_type": "code",
   "execution_count": 6,
   "id": "b2f54f55",
   "metadata": {},
   "outputs": [],
   "source": [
    "using Revise\n",
    "using LinearAlgebra\n",
    "using SSMProblems\n",
    "using GeneralisedFilters\n",
    "using Turing\n",
    "using PDMats\n",
    "\n",
    "includet(\"TCVAR_model.jl\")"
   ]
  },
  {
   "cell_type": "code",
   "execution_count": 5,
   "id": "91e5b65b",
   "metadata": {},
   "outputs": [],
   "source": [
    "#params_true = NamedTuple{(:στπ, :στr, :Φ11, :Φ12, :Φ21, :Φ22, :σcπ, :σcr)}((.02, .01, .6, .3, .4, .2, .015, .01))\n",
    "   "
   ]
  },
  {
   "cell_type": "code",
   "execution_count": 11,
   "id": "df2b922e",
   "metadata": {},
   "outputs": [
    {
     "ename": "UndefVarError",
     "evalue": "UndefVarError: `ignore_derivatives` not defined in `ForwardDiff`\nSuggestion: check for spelling errors or missing imports.\nHint: a global variable of this name may be made accessible by importing ChainRulesCore in the current active module Main",
     "output_type": "error",
     "traceback": [
      "UndefVarError: `ignore_derivatives` not defined in `ForwardDiff`\n",
      "Suggestion: check for spelling errors or missing imports.\n",
      "Hint: a global variable of this name may be made accessible by importing ChainRulesCore in the current active module Main\n",
      "\n",
      "Stacktrace:\n",
      " [1] cholesky_decomposition(x::Symmetric{Float64, Matrix{Float64}})\n",
      "   @ Main c:\\Users\\matsz\\programowanie\\Optymalizacja_portfela\\FinancialPlanner\\_wip\\TCVAR\\TCVAR_model.jl:11\n",
      " [2] TCVAR(phi::Matrix{Float64}, Q_trend::Matrix{Float64}, Q_cycle::Matrix{Float64})\n",
      "   @ Main c:\\Users\\matsz\\programowanie\\Optymalizacja_portfela\\FinancialPlanner\\_wip\\TCVAR\\TCVAR_model.jl:64\n",
      " [3] top-level scope\n",
      "   @ c:\\Users\\matsz\\programowanie\\Optymalizacja_portfela\\FinancialPlanner\\_wip\\TCVAR\\jl_notebook_cell_df34fa98e69747e1a8f8a730347b8e2f_W4sZmlsZQ==.jl:6"
     ]
    }
   ],
   "source": [
    " # True parameters (for simulation)\n",
    "phi_true = [0.8 0.1; -0.1 0.7]\n",
    "Qcycle_true = [0.05 0.01; 0.01 0.08]\n",
    "Qtrend_true = [0.0004 0.0; 0.0 0.0004]\n",
    "\n",
    "true_tcvar_model = TCVAR(phi_true, Qtrend_true, Qcycle_true)\n",
    "\n",
    "initial, states, test_obs = sample(true_tcvar_model, 100)\n",
    "\n"
   ]
  },
  {
   "cell_type": "code",
   "execution_count": 10,
   "id": "3f42c107",
   "metadata": {},
   "outputs": [
    {
     "ename": "MethodError",
     "evalue": "MethodError: no method matching round(::Type{Float64}, ::Float64; digits::Int64)\nThis method may not support any kwargs.\n\nClosest candidates are:\n  round(::Type{T}, ::Any, !Matched::RoundingMode) where T got unsupported keyword argument \"digits\"\n   @ Base rounding.jl:479\n  round(::Type{T}, ::Any) where T got unsupported keyword argument \"digits\"\n   @ Base rounding.jl:477\n  round(!Matched::Type{UInt128}, ::Float64, !Matched::RoundingMode{:ToZero}) got unsupported keyword argument \"digits\"\n   @ Base float.jl:959\n  ...\n",
     "output_type": "error",
     "traceback": [
      "MethodError: no method matching round(::Type{Float64}, ::Float64; digits::Int64)\n",
      "This method may not support any kwargs.\n",
      "\n",
      "Closest candidates are:\n",
      "  round(::Type{T}, ::Any, !Matched::RoundingMode) where T got unsupported keyword argument \"digits\"\n",
      "   @ Base rounding.jl:479\n",
      "  round(::Type{T}, ::Any) where T got unsupported keyword argument \"digits\"\n",
      "   @ Base rounding.jl:477\n",
      "  round(!Matched::Type{UInt128}, ::Float64, !Matched::RoundingMode{:ToZero}) got unsupported keyword argument \"digits\"\n",
      "   @ Base float.jl:959\n",
      "  ...\n",
      "\n",
      "\n",
      "Stacktrace:\n",
      " [1] top-level scope\n",
      "   @ c:\\Users\\matsz\\programowanie\\Optymalizacja_portfela\\FinancialPlanner\\_wip\\TCVAR\\jl_notebook_cell_df34fa98e69747e1a8f8a730347b8e2f_X24sZmlsZQ==.jl:1"
     ]
    }
   ],
   "source": [
    "round(Float64, .3456;digits=2)"
   ]
  },
  {
   "cell_type": "code",
   "execution_count": 60,
   "id": "19938fce",
   "metadata": {},
   "outputs": [
    {
     "ename": "UndefVarError",
     "evalue": "UndefVarError: `value` not defined in `Main`\nSuggestion: check for spelling errors or missing imports.\nHint: a global variable of this name may be made accessible by importing LLVM in the current active module Main\nHint: a global variable of this name may be made accessible by importing NLSolversBase in the current active module Main",
     "output_type": "error",
     "traceback": [
      "UndefVarError: `value` not defined in `Main`\n",
      "Suggestion: check for spelling errors or missing imports.\n",
      "Hint: a global variable of this name may be made accessible by importing LLVM in the current active module Main\n",
      "Hint: a global variable of this name may be made accessible by importing NLSolversBase in the current active module Main\n",
      "\n",
      "Stacktrace:\n",
      "  [1] cholesky_decomposition(x::Symmetric{Float64, Matrix{Float64}})\n",
      "    @ Main c:\\Users\\matsz\\programowanie\\Optymalizacja_portfela\\FinancialPlanner\\_wip\\TCVAR\\TCVAR_model.jl:9\n",
      "  [2] TCVAR(phi::Matrix{Float64}, Q_trend::Matrix{Float64}, Q_cycle::Matrix{Float64})\n",
      "    @ Main c:\\Users\\matsz\\programowanie\\Optymalizacja_portfela\\FinancialPlanner\\_wip\\TCVAR\\TCVAR_model.jl:60\n",
      "  [3] trendcycle_model(__model__::DynamicPPL.Model{typeof(trendcycle_model), (:Y,), (:k_tr, :Ψ_tr, :k_cyc, :Ψ_cyc), (), Tuple{Vector{Vector{Float64}}}, Tuple{Float64, Matrix{Bool}, Float64, Matrix{Bool}}, DynamicPPL.DefaultContext}, __varinfo__::DynamicPPL.VarInfo{DynamicPPL.Metadata{Dict{AbstractPPL.VarName, Int64}, Vector{Distribution}, Vector{AbstractPPL.VarName}, Vector{Real}}, Float64}, __context__::DynamicPPL.DebugUtils.DebugContext{DynamicPPL.Model{typeof(trendcycle_model), (:Y,), (:k_tr, :Ψ_tr, :k_cyc, :Ψ_cyc), (), Tuple{Vector{Vector{Float64}}}, Tuple{Float64, Matrix{Bool}, Float64, Matrix{Bool}}, DynamicPPL.DefaultContext}, DynamicPPL.SamplingContext{DynamicPPL.SampleFromPrior, DynamicPPL.DefaultContext, Random.TaskLocalRNG}}, Y::Vector{Vector{Float64}}; k_tr::Float64, Ψ_tr::Matrix{Bool}, k_cyc::Float64, Ψ_cyc::Matrix{Bool})\n",
      "    @ Main c:\\Users\\matsz\\programowanie\\Optymalizacja_portfela\\FinancialPlanner\\_wip\\TCVAR\\TCVAR_model.jl:84\n",
      "  [4] trendcycle_model\n",
      "    @ c:\\Users\\matsz\\programowanie\\Optymalizacja_portfela\\FinancialPlanner\\_wip\\TCVAR\\TCVAR_model.jl:32 [inlined]\n",
      "  [5] _evaluate!!\n",
      "    @ C:\\Users\\matsz\\.julia\\packages\\DynamicPPL\\nxcz4\\src\\model.jl:913 [inlined]\n",
      "  [6] evaluate_threadunsafe!!\n",
      "    @ C:\\Users\\matsz\\.julia\\packages\\DynamicPPL\\nxcz4\\src\\model.jl:886 [inlined]\n",
      "  [7] check_model_and_trace(rng::Random.TaskLocalRNG, model::DynamicPPL.Model{typeof(trendcycle_model), (:Y,), (:k_tr, :Ψ_tr, :k_cyc, :Ψ_cyc), (), Tuple{Vector{Vector{Float64}}}, Tuple{Float64, Matrix{Bool}, Float64, Matrix{Bool}}, DynamicPPL.DefaultContext}; varinfo::DynamicPPL.VarInfo{DynamicPPL.Metadata{Dict{AbstractPPL.VarName, Int64}, Vector{Distribution}, Vector{AbstractPPL.VarName}, Vector{Real}}, Float64}, context::DynamicPPL.SamplingContext{DynamicPPL.SampleFromPrior, DynamicPPL.DefaultContext, Random.TaskLocalRNG}, error_on_failure::Bool, kwargs::@Kwargs{})\n",
      "    @ DynamicPPL.DebugUtils C:\\Users\\matsz\\.julia\\packages\\DynamicPPL\\nxcz4\\src\\debug_utils.jl:468\n",
      "  [8] check_model_and_trace\n",
      "    @ C:\\Users\\matsz\\.julia\\packages\\DynamicPPL\\nxcz4\\src\\debug_utils.jl:451 [inlined]\n",
      "  [9] #check_model_and_trace#6\n",
      "    @ C:\\Users\\matsz\\.julia\\packages\\DynamicPPL\\nxcz4\\src\\debug_utils.jl:449 [inlined]\n",
      " [10] check_model_and_trace\n",
      "    @ C:\\Users\\matsz\\.julia\\packages\\DynamicPPL\\nxcz4\\src\\debug_utils.jl:448 [inlined]\n",
      " [11] check_model\n",
      "    @ C:\\Users\\matsz\\.julia\\packages\\DynamicPPL\\nxcz4\\src\\debug_utils.jl:494 [inlined]\n",
      " [12] _check_model\n",
      "    @ C:\\Users\\matsz\\.julia\\packages\\Turing\\EEhvQ\\src\\mcmc\\abstractmcmc.jl:4 [inlined]\n",
      " [13] _check_model\n",
      "    @ C:\\Users\\matsz\\.julia\\packages\\Turing\\EEhvQ\\src\\mcmc\\abstractmcmc.jl:7 [inlined]\n",
      " [14] #sample#101\n",
      "    @ C:\\Users\\matsz\\.julia\\packages\\Turing\\EEhvQ\\src\\mcmc\\abstractmcmc.jl:28 [inlined]\n",
      " [15] sample\n",
      "    @ C:\\Users\\matsz\\.julia\\packages\\Turing\\EEhvQ\\src\\mcmc\\abstractmcmc.jl:20 [inlined]\n",
      " [16] #sample#100\n",
      "    @ C:\\Users\\matsz\\.julia\\packages\\Turing\\EEhvQ\\src\\mcmc\\abstractmcmc.jl:17 [inlined]\n",
      " [17] sample(model::DynamicPPL.Model{typeof(trendcycle_model), (:Y,), (:k_tr, :Ψ_tr, :k_cyc, :Ψ_cyc), (), Tuple{Vector{Vector{Float64}}}, Tuple{Float64, Matrix{Bool}, Float64, Matrix{Bool}}, DynamicPPL.DefaultContext}, alg::NUTS{AutoForwardDiff{nothing, Nothing}, AdvancedHMC.DiagEuclideanMetric}, N::Int64)\n",
      "    @ Turing.Inference C:\\Users\\matsz\\.julia\\packages\\Turing\\EEhvQ\\src\\mcmc\\abstractmcmc.jl:14\n",
      " [18] top-level scope\n",
      "    @ c:\\Users\\matsz\\programowanie\\Optymalizacja_portfela\\FinancialPlanner\\_wip\\TCVAR\\jl_notebook_cell_df34fa98e69747e1a8f8a730347b8e2f_X16sZmlsZQ==.jl:4"
     ]
    }
   ],
   "source": [
    "model = trendcycle_model(test_obs)\n",
    "\n",
    "n_samples = 500\n",
    "chain = sample(model, NUTS(), n_samples)"
   ]
  },
  {
   "cell_type": "code",
   "execution_count": 30,
   "id": "26dc53e9",
   "metadata": {},
   "outputs": [
    {
     "data": {
      "text/plain": [
       "3×3 Matrix{Int64}:\n",
       " 3  2   3\n",
       " 4  7   6\n",
       " 7  8  11"
      ]
     },
     "metadata": {},
     "output_type": "display_data"
    }
   ],
   "source": [
    "z = [1 2 3; 4 5 6; 7 8 9]\n",
    "z[diagind(z)] .+= 2\n",
    "\n",
    "z"
   ]
  },
  {
   "cell_type": "code",
   "execution_count": 16,
   "id": "8f85f066",
   "metadata": {},
   "outputs": [
    {
     "data": {
      "text/plain": [
       "0.02"
      ]
     },
     "metadata": {},
     "output_type": "display_data"
    }
   ],
   "source": [
    "priors = (\n",
    "    initial_trend_mean = 0.03,\n",
    "    initial_trend_std = 0.09,\n",
    "    initial_cycle = (mean=0., \n",
    "                     std = .02)\n",
    "\n",
    ")\n",
    "\n",
    "priors.initial_cycle.std"
   ]
  }
 ],
 "metadata": {
  "kernelspec": {
   "display_name": "Julia 1.11.2",
   "language": "julia",
   "name": "julia-1.11"
  },
  "language_info": {
   "file_extension": ".jl",
   "mimetype": "application/julia",
   "name": "julia",
   "version": "1.11.2"
  }
 },
 "nbformat": 4,
 "nbformat_minor": 5
}
