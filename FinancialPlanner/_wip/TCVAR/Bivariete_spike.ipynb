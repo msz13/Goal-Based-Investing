{
 "cells": [
  {
   "cell_type": "markdown",
   "id": "e2130747",
   "metadata": {},
   "source": [
    "### TODO\n",
    "- tc model for two variables with no correlated erros - use state space inference library\n",
    "- estimate on simulated data\n",
    "- estimate on real data\n",
    "- add var error correlation\n",
    "- add trend correlation\n",
    "- extedn to more variables"
   ]
  },
  {
   "cell_type": "code",
   "execution_count": 1,
   "id": "a1cc4f13",
   "metadata": {},
   "outputs": [
    {
     "name": "stderr",
     "output_type": "stream",
     "text": [
      "\u001b[32m\u001b[1m  Activating\u001b[22m\u001b[39m project at `c:\\Users\\matsz\\programowanie\\Optymalizacja_portfela\\FinancialPlanner\\_wip\\TCVAR`\n"
     ]
    }
   ],
   "source": [
    "import Pkg\n",
    "Pkg.activate(\"../../../FinancialPlanner/_wip/TCVAR\")"
   ]
  },
  {
   "cell_type": "code",
   "execution_count": 2,
   "id": "5074d284",
   "metadata": {},
   "outputs": [
    {
     "name": "stderr",
     "output_type": "stream",
     "text": [
      "\u001b[32m\u001b[1m    Updating\u001b[22m\u001b[39m git-repo `https://github.com/TuringLang/SSMProblems.jl`\n",
      "\u001b[32m\u001b[1m    Updating\u001b[22m\u001b[39m registry at `C:\\Users\\matsz\\.julia\\registries\\General.toml`\n",
      "\u001b[32m\u001b[1m   Resolving\u001b[22m\u001b[39m package versions...\n",
      "\u001b[32m\u001b[1m  No Changes\u001b[22m\u001b[39m to `C:\\Users\\matsz\\programowanie\\Optymalizacja_portfela\\FinancialPlanner\\_wip\\TCVAR\\Project.toml`\n",
      "\u001b[32m\u001b[1m  No Changes\u001b[22m\u001b[39m to `C:\\Users\\matsz\\programowanie\\Optymalizacja_portfela\\FinancialPlanner\\_wip\\TCVAR\\Manifest.toml`\n",
      "\u001b[32m\u001b[1m    Updating\u001b[22m\u001b[39m git-repo `https://github.com/TuringLang/SSMProblems.jl`\n",
      "\u001b[32m\u001b[1m   Resolving\u001b[22m\u001b[39m package versions...\n",
      "\u001b[32m\u001b[1m  No Changes\u001b[22m\u001b[39m to `C:\\Users\\matsz\\programowanie\\Optymalizacja_portfela\\FinancialPlanner\\_wip\\TCVAR\\Project.toml`\n",
      "\u001b[32m\u001b[1m  No Changes\u001b[22m\u001b[39m to `C:\\Users\\matsz\\programowanie\\Optymalizacja_portfela\\FinancialPlanner\\_wip\\TCVAR\\Manifest.toml`\n"
     ]
    }
   ],
   "source": [
    "Pkg.add(url=\"https://github.com/TuringLang/SSMProblems.jl\", subdir=\"GeneralisedFilters\")\n",
    "Pkg.add(url=\"https://github.com/TuringLang/SSMProblems.jl\", subdir=\"SSMProblems\")"
   ]
  },
  {
   "cell_type": "code",
   "execution_count": 3,
   "id": "b2f54f55",
   "metadata": {},
   "outputs": [],
   "source": [
    "using Revise\n",
    "using LinearAlgebra\n",
    "using SSMProblems\n",
    "using GeneralisedFilters\n",
    "using Turing\n",
    "\n",
    "includet(\"TCVAR_model.jl\")"
   ]
  },
  {
   "cell_type": "code",
   "execution_count": 5,
   "id": "91e5b65b",
   "metadata": {},
   "outputs": [],
   "source": [
    "#params_true = NamedTuple{(:στπ, :στr, :Φ11, :Φ12, :Φ21, :Φ22, :σcπ, :σcr)}((.02, .01, .6, .3, .4, .2, .015, .01))\n",
    "   "
   ]
  },
  {
   "cell_type": "code",
   "execution_count": 7,
   "id": "df2b922e",
   "metadata": {},
   "outputs": [
    {
     "data": {
      "text/plain": [
       "([0.37241329959417646, -10.632027304110208, 4.900613825812982, 6.615186528283386], [[0.3840207614389971, -10.669316243028119, 4.4743818517950364, 4.323582372534172], [0.41120751656382526, -10.684102375973794, 4.242209452719639, 2.2480713297427775], [0.39816039726788804, -10.69025682326522, 3.718355473948895, 1.0372804653220185], [0.4172285555540968, -10.662743622846683, 3.133799777897864, 0.6212285994440825], [0.42422844133644266, -10.644816295707823, 2.454050650538267, 0.651297783199887], [0.42574605961243517, -10.633908102856994, 2.0768189438307614, -0.13785102188912812], [0.4213607525609648, -10.640892972879449, 2.067699090862746, -0.48207734796595725], [0.41028299409271, -10.649738108447709, 1.157104108705836, -0.7523921828996911], [0.41234307019289573, -10.668839332048499, 0.86795726673427, -0.925597843783811], [0.4050186222741935, -10.68529876968966, 0.6206816376375864, -1.0383242464749427]  …  [0.14594753375704372, -10.97730075392246, -0.18153627944290684, -0.740619537775532], [0.14166380693124583, -10.989422561069409, 0.13096018948542654, -0.09872725334157445], [0.15697854844516348, -10.99619149736207, 0.16303046535682303, 0.019169934095486146], [0.15884859747322186, -11.010510429928468, 0.020942915967534975, -0.13176606556497833], [0.12475352700392217, -11.050139195022243, 0.21693724194552436, 0.07711953448355428], [0.14627467369523892, -11.05632181640667, -0.07275074614414412, 0.021411650754409164], [0.12634916904229254, -11.043551883310489, 0.2553373080100935, 0.03186785998608618], [0.14049447667571024, -11.024330909162238, 0.3970709395095735, 0.04338261763492072], [0.12816573002982196, -10.988774120816831, 0.6936488879665177, -0.10776498658389493], [0.1453777207231906, -11.004044836533039, 0.25431541024866267, 0.140010501167174]], [[4.858402606398355, -5.961713103512577], [4.653416986111836, -8.024823511283008], [4.116515868904006, -9.254815974944721], [3.5510283303977426, -9.62428645000896], [2.8782791062149347, -9.569290053532974], [2.5025650054852036, -10.346013079158313], [2.489059832531999, -10.701609589791769], [1.5673871013471439, -10.991847324833966], [1.2803003296815922, -11.182094102679118], [1.025700277016125, -11.318604381344365]  …  [-0.035588756237266685, -11.571972741260083], [0.272624008807431, -10.946485985511211], [0.3200089859524943, -10.820043031787497], [0.1797914985434374, -10.98342789477537], [0.3416907690476354, -10.848266116601366], [0.0735239240665012, -10.888635480787176], [0.38168646912392207, -10.885334846723508], [0.5375654146720853, -10.840453799315002], [0.8218146067806045, -10.968373383589059], [0.39969312050568895, -10.718656593566626]])"
      ]
     },
     "metadata": {},
     "output_type": "display_data"
    }
   ],
   "source": [
    " # True parameters (for simulation)\n",
    "phi_true = [0.8 0.1; -0.1 0.7]\n",
    "Qcycle_true = [0.05 0.01; 0.01 0.08]\n",
    "Qtrend_true = [0.0004 0.0; 0.0 0.0004]\n",
    "\n",
    "true_tcvar_model = TCVAR(phi_true, Qtrend_true, Qcycle_true)\n",
    "\n",
    "initial, states, test_obs = sample(true_tcvar_model, 100)\n",
    "\n"
   ]
  },
  {
   "cell_type": "code",
   "execution_count": 8,
   "id": "19938fce",
   "metadata": {},
   "outputs": [
    {
     "name": "stderr",
     "output_type": "stream",
     "text": [
      "\u001b[32mSampling   0%|█                                         |  ETA: N/A\u001b[39m\n",
      "\u001b[90mSampling 100%|██████████████████████████████████████████| Time: 0:00:01\u001b[39m\n"
     ]
    },
    {
     "ename": "MethodError",
     "evalue": "MethodError: no method matching Float64(::ForwardDiff.Dual{ForwardDiff.Tag{DynamicPPL.DynamicPPLTag, Float64}, Float64, 12})\nThe type `Float64` exists, but no method is defined for this combination of argument types when trying to construct it.\n\nClosest candidates are:\n  (::Type{T})(::Real, !Matched::RoundingMode) where T<:AbstractFloat\n   @ Base rounding.jl:265\n  (::Type{T})(::T) where T<:Number\n   @ Core boot.jl:900\n  Float64(!Matched::IrrationalConstants.Logπ)\n   @ IrrationalConstants C:\\Users\\matsz\\.julia\\packages\\IrrationalConstants\\lWTip\\src\\macro.jl:131\n  ...\n",
     "output_type": "error",
     "traceback": [
      "MethodError: no method matching Float64(::ForwardDiff.Dual{ForwardDiff.Tag{DynamicPPL.DynamicPPLTag, Float64}, Float64, 12})\n",
      "The type `Float64` exists, but no method is defined for this combination of argument types when trying to construct it.\n",
      "\n",
      "Closest candidates are:\n",
      "  (::Type{T})(::Real, !Matched::RoundingMode) where T<:AbstractFloat\n",
      "   @ Base rounding.jl:265\n",
      "  (::Type{T})(::T) where T<:Number\n",
      "   @ Core boot.jl:900\n",
      "  Float64(!Matched::IrrationalConstants.Logπ)\n",
      "   @ IrrationalConstants C:\\Users\\matsz\\.julia\\packages\\IrrationalConstants\\lWTip\\src\\macro.jl:131\n",
      "  ...\n",
      "\n",
      "\n",
      "Stacktrace:\n",
      "  [1] convert(::Type{Float64}, x::ForwardDiff.Dual{ForwardDiff.Tag{DynamicPPL.DynamicPPLTag, Float64}, Float64, 12})\n",
      "    @ Base .\\number.jl:7\n",
      "  [2] setindex!\n",
      "    @ .\\array.jl:994 [inlined]\n",
      "  [3] setindex!\n",
      "    @ .\\subarray.jl:372 [inlined]\n",
      "  [4] _setindex!\n",
      "    @ .\\abstractarray.jl:1443 [inlined]\n",
      "  [5] setindex!\n",
      "    @ .\\abstractarray.jl:1413 [inlined]\n",
      "  [6] copyto_unaliased!\n",
      "    @ .\\abstractarray.jl:1100 [inlined]\n",
      "  [7] copyto!(dest::SubArray{Float64, 2, Matrix{Float64}, Tuple{UnitRange{Int64}, UnitRange{Int64}}, false}, src::Matrix{ForwardDiff.Dual{ForwardDiff.Tag{DynamicPPL.DynamicPPLTag, Float64}, Float64, 12}})\n",
      "    @ Base .\\abstractarray.jl:1061\n",
      "  [8] copyto!\n",
      "    @ .\\broadcast.jl:961 [inlined]\n",
      "  [9] copyto!\n",
      "    @ .\\broadcast.jl:920 [inlined]\n",
      " [10] materialize!\n",
      "    @ .\\broadcast.jl:878 [inlined]\n",
      " [11] materialize!\n",
      "    @ .\\broadcast.jl:875 [inlined]\n",
      " [12] TCVAR(phi::Matrix{ForwardDiff.Dual{ForwardDiff.Tag{DynamicPPL.DynamicPPLTag, Float64}, Float64, 12}}, Q_trend::Matrix{ForwardDiff.Dual{ForwardDiff.Tag{DynamicPPL.DynamicPPLTag, Float64}, Float64, 12}}, Q_cycle::Matrix{ForwardDiff.Dual{ForwardDiff.Tag{DynamicPPL.DynamicPPLTag, Float64}, Float64, 12}})\n",
      "    @ Main c:\\Users\\matsz\\programowanie\\Optymalizacja_portfela\\FinancialPlanner\\_wip\\TCVAR\\TCVAR_model.jl:6\n",
      " [13] trendcycle_model(__model__::DynamicPPL.Model{typeof(trendcycle_model), (:Y,), (:k_tr, :Ψ_tr, :k_cyc, :Ψ_cyc), (), Tuple{Vector{Vector{Float64}}}, Tuple{Float64, Matrix{Bool}, Float64, Matrix{Bool}}, DynamicPPL.DefaultContext}, __varinfo__::DynamicPPL.ThreadSafeVarInfo{DynamicPPL.VarInfo{@NamedTuple{Q_tr::DynamicPPL.Metadata{Dict{AbstractPPL.VarName{:Q_tr, typeof(identity)}, Int64}, Vector{InverseWishart{Float64, PDMats.PDMat{Float64, Matrix{Float64}}}}, Vector{AbstractPPL.VarName{:Q_tr, typeof(identity)}}, Vector{ForwardDiff.Dual{ForwardDiff.Tag{DynamicPPL.DynamicPPLTag, Float64}, Float64, 12}}}, Q_cyc::DynamicPPL.Metadata{Dict{AbstractPPL.VarName{:Q_cyc, typeof(identity)}, Int64}, Vector{InverseWishart{Float64, PDMats.PDMat{Float64, Matrix{Float64}}}}, Vector{AbstractPPL.VarName{:Q_cyc, typeof(identity)}}, Vector{ForwardDiff.Dual{ForwardDiff.Tag{DynamicPPL.DynamicPPLTag, Float64}, Float64, 12}}}, σ_obs1::DynamicPPL.Metadata{Dict{AbstractPPL.VarName{:σ_obs1, typeof(identity)}, Int64}, Vector{Normal{Float64}}, Vector{AbstractPPL.VarName{:σ_obs1, typeof(identity)}}, Vector{ForwardDiff.Dual{ForwardDiff.Tag{DynamicPPL.DynamicPPLTag, Float64}, Float64, 12}}}, σ_obs2::DynamicPPL.Metadata{Dict{AbstractPPL.VarName{:σ_obs2, typeof(identity)}, Int64}, Vector{Normal{Float64}}, Vector{AbstractPPL.VarName{:σ_obs2, typeof(identity)}}, Vector{ForwardDiff.Dual{ForwardDiff.Tag{DynamicPPL.DynamicPPLTag, Float64}, Float64, 12}}}, φ11::DynamicPPL.Metadata{Dict{AbstractPPL.VarName{:φ11, typeof(identity)}, Int64}, Vector{Normal{Float64}}, Vector{AbstractPPL.VarName{:φ11, typeof(identity)}}, Vector{ForwardDiff.Dual{ForwardDiff.Tag{DynamicPPL.DynamicPPLTag, Float64}, Float64, 12}}}, φ12::DynamicPPL.Metadata{Dict{AbstractPPL.VarName{:φ12, typeof(identity)}, Int64}, Vector{Normal{Float64}}, Vector{AbstractPPL.VarName{:φ12, typeof(identity)}}, Vector{ForwardDiff.Dual{ForwardDiff.Tag{DynamicPPL.DynamicPPLTag, Float64}, Float64, 12}}}, φ21::DynamicPPL.Metadata{Dict{AbstractPPL.VarName{:φ21, typeof(identity)}, Int64}, Vector{Normal{Float64}}, Vector{AbstractPPL.VarName{:φ21, typeof(identity)}}, Vector{ForwardDiff.Dual{ForwardDiff.Tag{DynamicPPL.DynamicPPLTag, Float64}, Float64, 12}}}, φ22::DynamicPPL.Metadata{Dict{AbstractPPL.VarName{:φ22, typeof(identity)}, Int64}, Vector{Normal{Float64}}, Vector{AbstractPPL.VarName{:φ22, typeof(identity)}}, Vector{ForwardDiff.Dual{ForwardDiff.Tag{DynamicPPL.DynamicPPLTag, Float64}, Float64, 12}}}}, ForwardDiff.Dual{ForwardDiff.Tag{DynamicPPL.DynamicPPLTag, Float64}, Float64, 12}}, Vector{Base.RefValue{ForwardDiff.Dual{ForwardDiff.Tag{DynamicPPL.DynamicPPLTag, Float64}, Float64, 12}}}}, __context__::DynamicPPL.SamplingContext{DynamicPPL.Sampler{NUTS{AutoForwardDiff{nothing, Nothing}, AdvancedHMC.DiagEuclideanMetric}}, DynamicPPL.DefaultContext, Random.TaskLocalRNG}, Y::Vector{Vector{Float64}}; k_tr::Float64, Ψ_tr::Matrix{Bool}, k_cyc::Float64, Ψ_cyc::Matrix{Bool})\n",
      "    @ Main c:\\Users\\matsz\\programowanie\\Optymalizacja_portfela\\FinancialPlanner\\_wip\\TCVAR\\TCVAR_model.jl:52\n",
      " [14] trendcycle_model\n",
      "    @ c:\\Users\\matsz\\programowanie\\Optymalizacja_portfela\\FinancialPlanner\\_wip\\TCVAR\\TCVAR_model.jl:32 [inlined]\n",
      " [15] _evaluate!!(model::DynamicPPL.Model{typeof(trendcycle_model), (:Y,), (:k_tr, :Ψ_tr, :k_cyc, :Ψ_cyc), (), Tuple{Vector{Vector{Float64}}}, Tuple{Float64, Matrix{Bool}, Float64, Matrix{Bool}}, DynamicPPL.DefaultContext}, varinfo::DynamicPPL.ThreadSafeVarInfo{DynamicPPL.VarInfo{@NamedTuple{Q_tr::DynamicPPL.Metadata{Dict{AbstractPPL.VarName{:Q_tr, typeof(identity)}, Int64}, Vector{InverseWishart{Float64, PDMats.PDMat{Float64, Matrix{Float64}}}}, Vector{AbstractPPL.VarName{:Q_tr, typeof(identity)}}, Vector{ForwardDiff.Dual{ForwardDiff.Tag{DynamicPPL.DynamicPPLTag, Float64}, Float64, 12}}}, Q_cyc::DynamicPPL.Metadata{Dict{AbstractPPL.VarName{:Q_cyc, typeof(identity)}, Int64}, Vector{InverseWishart{Float64, PDMats.PDMat{Float64, Matrix{Float64}}}}, Vector{AbstractPPL.VarName{:Q_cyc, typeof(identity)}}, Vector{ForwardDiff.Dual{ForwardDiff.Tag{DynamicPPL.DynamicPPLTag, Float64}, Float64, 12}}}, σ_obs1::DynamicPPL.Metadata{Dict{AbstractPPL.VarName{:σ_obs1, typeof(identity)}, Int64}, Vector{Normal{Float64}}, Vector{AbstractPPL.VarName{:σ_obs1, typeof(identity)}}, Vector{ForwardDiff.Dual{ForwardDiff.Tag{DynamicPPL.DynamicPPLTag, Float64}, Float64, 12}}}, σ_obs2::DynamicPPL.Metadata{Dict{AbstractPPL.VarName{:σ_obs2, typeof(identity)}, Int64}, Vector{Normal{Float64}}, Vector{AbstractPPL.VarName{:σ_obs2, typeof(identity)}}, Vector{ForwardDiff.Dual{ForwardDiff.Tag{DynamicPPL.DynamicPPLTag, Float64}, Float64, 12}}}, φ11::DynamicPPL.Metadata{Dict{AbstractPPL.VarName{:φ11, typeof(identity)}, Int64}, Vector{Normal{Float64}}, Vector{AbstractPPL.VarName{:φ11, typeof(identity)}}, Vector{ForwardDiff.Dual{ForwardDiff.Tag{DynamicPPL.DynamicPPLTag, Float64}, Float64, 12}}}, φ12::DynamicPPL.Metadata{Dict{AbstractPPL.VarName{:φ12, typeof(identity)}, Int64}, Vector{Normal{Float64}}, Vector{AbstractPPL.VarName{:φ12, typeof(identity)}}, Vector{ForwardDiff.Dual{ForwardDiff.Tag{DynamicPPL.DynamicPPLTag, Float64}, Float64, 12}}}, φ21::DynamicPPL.Metadata{Dict{AbstractPPL.VarName{:φ21, typeof(identity)}, Int64}, Vector{Normal{Float64}}, Vector{AbstractPPL.VarName{:φ21, typeof(identity)}}, Vector{ForwardDiff.Dual{ForwardDiff.Tag{DynamicPPL.DynamicPPLTag, Float64}, Float64, 12}}}, φ22::DynamicPPL.Metadata{Dict{AbstractPPL.VarName{:φ22, typeof(identity)}, Int64}, Vector{Normal{Float64}}, Vector{AbstractPPL.VarName{:φ22, typeof(identity)}}, Vector{ForwardDiff.Dual{ForwardDiff.Tag{DynamicPPL.DynamicPPLTag, Float64}, Float64, 12}}}}, ForwardDiff.Dual{ForwardDiff.Tag{DynamicPPL.DynamicPPLTag, Float64}, Float64, 12}}, Vector{Base.RefValue{ForwardDiff.Dual{ForwardDiff.Tag{DynamicPPL.DynamicPPLTag, Float64}, Float64, 12}}}}, context::DynamicPPL.SamplingContext{DynamicPPL.Sampler{NUTS{AutoForwardDiff{nothing, Nothing}, AdvancedHMC.DiagEuclideanMetric}}, DynamicPPL.DefaultContext, Random.TaskLocalRNG})\n",
      "    @ DynamicPPL C:\\Users\\matsz\\.julia\\packages\\DynamicPPL\\nxcz4\\src\\model.jl:913\n",
      " [16] evaluate_threadsafe!!\n",
      "    @ C:\\Users\\matsz\\.julia\\packages\\DynamicPPL\\nxcz4\\src\\model.jl:902 [inlined]\n",
      " [17] evaluate!!\n",
      "    @ C:\\Users\\matsz\\.julia\\packages\\DynamicPPL\\nxcz4\\src\\model.jl:832 [inlined]\n",
      " [18] logdensity_at(x::Vector{ForwardDiff.Dual{ForwardDiff.Tag{DynamicPPL.DynamicPPLTag, Float64}, Float64, 12}}, model::DynamicPPL.Model{typeof(trendcycle_model), (:Y,), (:k_tr, :Ψ_tr, :k_cyc, :Ψ_cyc), (), Tuple{Vector{Vector{Float64}}}, Tuple{Float64, Matrix{Bool}, Float64, Matrix{Bool}}, DynamicPPL.DefaultContext}, varinfo::DynamicPPL.VarInfo{@NamedTuple{Q_tr::DynamicPPL.Metadata{Dict{AbstractPPL.VarName{:Q_tr, typeof(identity)}, Int64}, Vector{InverseWishart{Float64, PDMats.PDMat{Float64, Matrix{Float64}}}}, Vector{AbstractPPL.VarName{:Q_tr, typeof(identity)}}, Vector{Float64}}, Q_cyc::DynamicPPL.Metadata{Dict{AbstractPPL.VarName{:Q_cyc, typeof(identity)}, Int64}, Vector{InverseWishart{Float64, PDMats.PDMat{Float64, Matrix{Float64}}}}, Vector{AbstractPPL.VarName{:Q_cyc, typeof(identity)}}, Vector{Float64}}, σ_obs1::DynamicPPL.Metadata{Dict{AbstractPPL.VarName{:σ_obs1, typeof(identity)}, Int64}, Vector{Normal{Float64}}, Vector{AbstractPPL.VarName{:σ_obs1, typeof(identity)}}, Vector{Float64}}, σ_obs2::DynamicPPL.Metadata{Dict{AbstractPPL.VarName{:σ_obs2, typeof(identity)}, Int64}, Vector{Normal{Float64}}, Vector{AbstractPPL.VarName{:σ_obs2, typeof(identity)}}, Vector{Float64}}, φ11::DynamicPPL.Metadata{Dict{AbstractPPL.VarName{:φ11, typeof(identity)}, Int64}, Vector{Normal{Float64}}, Vector{AbstractPPL.VarName{:φ11, typeof(identity)}}, Vector{Float64}}, φ12::DynamicPPL.Metadata{Dict{AbstractPPL.VarName{:φ12, typeof(identity)}, Int64}, Vector{Normal{Float64}}, Vector{AbstractPPL.VarName{:φ12, typeof(identity)}}, Vector{Float64}}, φ21::DynamicPPL.Metadata{Dict{AbstractPPL.VarName{:φ21, typeof(identity)}, Int64}, Vector{Normal{Float64}}, Vector{AbstractPPL.VarName{:φ21, typeof(identity)}}, Vector{Float64}}, φ22::DynamicPPL.Metadata{Dict{AbstractPPL.VarName{:φ22, typeof(identity)}, Int64}, Vector{Normal{Float64}}, Vector{AbstractPPL.VarName{:φ22, typeof(identity)}}, Vector{Float64}}}, Float64}, context::DynamicPPL.SamplingContext{DynamicPPL.Sampler{NUTS{AutoForwardDiff{nothing, Nothing}, AdvancedHMC.DiagEuclideanMetric}}, DynamicPPL.DefaultContext, Random.TaskLocalRNG})\n",
      "    @ DynamicPPL C:\\Users\\matsz\\.julia\\packages\\DynamicPPL\\nxcz4\\src\\logdensityfunction.jl:183\n",
      " [19] FixTail\n",
      "    @ C:\\Users\\matsz\\.julia\\packages\\DifferentiationInterface\\D3LUI\\src\\utils\\context.jl:169 [inlined]\n",
      " [20] vector_mode_dual_eval!\n",
      "    @ C:\\Users\\matsz\\.julia\\packages\\ForwardDiff\\Wq9Wb\\src\\apiutils.jl:24 [inlined]\n",
      " [21] vector_mode_gradient!(result::DiffResults.MutableDiffResult{1, Float64, Tuple{Vector{Float64}}}, f::DifferentiationInterface.FixTail{typeof(DynamicPPL.logdensity_at), Tuple{DynamicPPL.Model{typeof(trendcycle_model), (:Y,), (:k_tr, :Ψ_tr, :k_cyc, :Ψ_cyc), (), Tuple{Vector{Vector{Float64}}}, Tuple{Float64, Matrix{Bool}, Float64, Matrix{Bool}}, DynamicPPL.DefaultContext}, DynamicPPL.VarInfo{@NamedTuple{Q_tr::DynamicPPL.Metadata{Dict{AbstractPPL.VarName{:Q_tr, typeof(identity)}, Int64}, Vector{InverseWishart{Float64, PDMats.PDMat{Float64, Matrix{Float64}}}}, Vector{AbstractPPL.VarName{:Q_tr, typeof(identity)}}, Vector{Float64}}, Q_cyc::DynamicPPL.Metadata{Dict{AbstractPPL.VarName{:Q_cyc, typeof(identity)}, Int64}, Vector{InverseWishart{Float64, PDMats.PDMat{Float64, Matrix{Float64}}}}, Vector{AbstractPPL.VarName{:Q_cyc, typeof(identity)}}, Vector{Float64}}, σ_obs1::DynamicPPL.Metadata{Dict{AbstractPPL.VarName{:σ_obs1, typeof(identity)}, Int64}, Vector{Normal{Float64}}, Vector{AbstractPPL.VarName{:σ_obs1, typeof(identity)}}, Vector{Float64}}, σ_obs2::DynamicPPL.Metadata{Dict{AbstractPPL.VarName{:σ_obs2, typeof(identity)}, Int64}, Vector{Normal{Float64}}, Vector{AbstractPPL.VarName{:σ_obs2, typeof(identity)}}, Vector{Float64}}, φ11::DynamicPPL.Metadata{Dict{AbstractPPL.VarName{:φ11, typeof(identity)}, Int64}, Vector{Normal{Float64}}, Vector{AbstractPPL.VarName{:φ11, typeof(identity)}}, Vector{Float64}}, φ12::DynamicPPL.Metadata{Dict{AbstractPPL.VarName{:φ12, typeof(identity)}, Int64}, Vector{Normal{Float64}}, Vector{AbstractPPL.VarName{:φ12, typeof(identity)}}, Vector{Float64}}, φ21::DynamicPPL.Metadata{Dict{AbstractPPL.VarName{:φ21, typeof(identity)}, Int64}, Vector{Normal{Float64}}, Vector{AbstractPPL.VarName{:φ21, typeof(identity)}}, Vector{Float64}}, φ22::DynamicPPL.Metadata{Dict{AbstractPPL.VarName{:φ22, typeof(identity)}, Int64}, Vector{Normal{Float64}}, Vector{AbstractPPL.VarName{:φ22, typeof(identity)}}, Vector{Float64}}}, Float64}, DynamicPPL.SamplingContext{DynamicPPL.Sampler{NUTS{AutoForwardDiff{nothing, Nothing}, AdvancedHMC.DiagEuclideanMetric}}, DynamicPPL.DefaultContext, Random.TaskLocalRNG}}}, x::Vector{Float64}, cfg::ForwardDiff.GradientConfig{ForwardDiff.Tag{DynamicPPL.DynamicPPLTag, Float64}, Float64, 12, Vector{ForwardDiff.Dual{ForwardDiff.Tag{DynamicPPL.DynamicPPLTag, Float64}, Float64, 12}}})\n",
      "    @ ForwardDiff C:\\Users\\matsz\\.julia\\packages\\ForwardDiff\\Wq9Wb\\src\\gradient.jl:105\n",
      " [22] gradient!\n",
      "    @ C:\\Users\\matsz\\.julia\\packages\\ForwardDiff\\Wq9Wb\\src\\gradient.jl:39 [inlined]\n",
      " [23] value_and_gradient(::typeof(DynamicPPL.logdensity_at), ::DifferentiationInterfaceForwardDiffExt.ForwardDiffGradientPrep{Tuple{typeof(DynamicPPL.logdensity_at), AutoForwardDiff{12, ForwardDiff.Tag{DynamicPPL.DynamicPPLTag, Float64}}, Vector{Float64}, Tuple{DifferentiationInterface.Constant{DynamicPPL.Model{typeof(trendcycle_model), (:Y,), (:k_tr, :Ψ_tr, :k_cyc, :Ψ_cyc), (), Tuple{Vector{Vector{Float64}}}, Tuple{Float64, Matrix{Bool}, Float64, Matrix{Bool}}, DynamicPPL.DefaultContext}}, DifferentiationInterface.Constant{DynamicPPL.VarInfo{@NamedTuple{Q_tr::DynamicPPL.Metadata{Dict{AbstractPPL.VarName{:Q_tr, typeof(identity)}, Int64}, Vector{InverseWishart{Float64, PDMats.PDMat{Float64, Matrix{Float64}}}}, Vector{AbstractPPL.VarName{:Q_tr, typeof(identity)}}, Vector{Float64}}, Q_cyc::DynamicPPL.Metadata{Dict{AbstractPPL.VarName{:Q_cyc, typeof(identity)}, Int64}, Vector{InverseWishart{Float64, PDMats.PDMat{Float64, Matrix{Float64}}}}, Vector{AbstractPPL.VarName{:Q_cyc, typeof(identity)}}, Vector{Float64}}, σ_obs1::DynamicPPL.Metadata{Dict{AbstractPPL.VarName{:σ_obs1, typeof(identity)}, Int64}, Vector{Normal{Float64}}, Vector{AbstractPPL.VarName{:σ_obs1, typeof(identity)}}, Vector{Float64}}, σ_obs2::DynamicPPL.Metadata{Dict{AbstractPPL.VarName{:σ_obs2, typeof(identity)}, Int64}, Vector{Normal{Float64}}, Vector{AbstractPPL.VarName{:σ_obs2, typeof(identity)}}, Vector{Float64}}, φ11::DynamicPPL.Metadata{Dict{AbstractPPL.VarName{:φ11, typeof(identity)}, Int64}, Vector{Normal{Float64}}, Vector{AbstractPPL.VarName{:φ11, typeof(identity)}}, Vector{Float64}}, φ12::DynamicPPL.Metadata{Dict{AbstractPPL.VarName{:φ12, typeof(identity)}, Int64}, Vector{Normal{Float64}}, Vector{AbstractPPL.VarName{:φ12, typeof(identity)}}, Vector{Float64}}, φ21::DynamicPPL.Metadata{Dict{AbstractPPL.VarName{:φ21, typeof(identity)}, Int64}, Vector{Normal{Float64}}, Vector{AbstractPPL.VarName{:φ21, typeof(identity)}}, Vector{Float64}}, φ22::DynamicPPL.Metadata{Dict{AbstractPPL.VarName{:φ22, typeof(identity)}, Int64}, Vector{Normal{Float64}}, Vector{AbstractPPL.VarName{:φ22, typeof(identity)}}, Vector{Float64}}}, Float64}}, DifferentiationInterface.Constant{DynamicPPL.SamplingContext{DynamicPPL.Sampler{NUTS{AutoForwardDiff{nothing, Nothing}, AdvancedHMC.DiagEuclideanMetric}}, DynamicPPL.DefaultContext, Random.TaskLocalRNG}}}}, ForwardDiff.GradientConfig{ForwardDiff.Tag{DynamicPPL.DynamicPPLTag, Float64}, Float64, 12, Vector{ForwardDiff.Dual{ForwardDiff.Tag{DynamicPPL.DynamicPPLTag, Float64}, Float64, 12}}}, Tuple{Nothing, Nothing, Nothing}}, ::AutoForwardDiff{12, ForwardDiff.Tag{DynamicPPL.DynamicPPLTag, Float64}}, ::Vector{Float64}, ::DifferentiationInterface.Constant{DynamicPPL.Model{typeof(trendcycle_model), (:Y,), (:k_tr, :Ψ_tr, :k_cyc, :Ψ_cyc), (), Tuple{Vector{Vector{Float64}}}, Tuple{Float64, Matrix{Bool}, Float64, Matrix{Bool}}, DynamicPPL.DefaultContext}}, ::DifferentiationInterface.Constant{DynamicPPL.VarInfo{@NamedTuple{Q_tr::DynamicPPL.Metadata{Dict{AbstractPPL.VarName{:Q_tr, typeof(identity)}, Int64}, Vector{InverseWishart{Float64, PDMats.PDMat{Float64, Matrix{Float64}}}}, Vector{AbstractPPL.VarName{:Q_tr, typeof(identity)}}, Vector{Float64}}, Q_cyc::DynamicPPL.Metadata{Dict{AbstractPPL.VarName{:Q_cyc, typeof(identity)}, Int64}, Vector{InverseWishart{Float64, PDMats.PDMat{Float64, Matrix{Float64}}}}, Vector{AbstractPPL.VarName{:Q_cyc, typeof(identity)}}, Vector{Float64}}, σ_obs1::DynamicPPL.Metadata{Dict{AbstractPPL.VarName{:σ_obs1, typeof(identity)}, Int64}, Vector{Normal{Float64}}, Vector{AbstractPPL.VarName{:σ_obs1, typeof(identity)}}, Vector{Float64}}, σ_obs2::DynamicPPL.Metadata{Dict{AbstractPPL.VarName{:σ_obs2, typeof(identity)}, Int64}, Vector{Normal{Float64}}, Vector{AbstractPPL.VarName{:σ_obs2, typeof(identity)}}, Vector{Float64}}, φ11::DynamicPPL.Metadata{Dict{AbstractPPL.VarName{:φ11, typeof(identity)}, Int64}, Vector{Normal{Float64}}, Vector{AbstractPPL.VarName{:φ11, typeof(identity)}}, Vector{Float64}}, φ12::DynamicPPL.Metadata{Dict{AbstractPPL.VarName{:φ12, typeof(identity)}, Int64}, Vector{Normal{Float64}}, Vector{AbstractPPL.VarName{:φ12, typeof(identity)}}, Vector{Float64}}, φ21::DynamicPPL.Metadata{Dict{AbstractPPL.VarName{:φ21, typeof(identity)}, Int64}, Vector{Normal{Float64}}, Vector{AbstractPPL.VarName{:φ21, typeof(identity)}}, Vector{Float64}}, φ22::DynamicPPL.Metadata{Dict{AbstractPPL.VarName{:φ22, typeof(identity)}, Int64}, Vector{Normal{Float64}}, Vector{AbstractPPL.VarName{:φ22, typeof(identity)}}, Vector{Float64}}}, Float64}}, ::DifferentiationInterface.Constant{DynamicPPL.SamplingContext{DynamicPPL.Sampler{NUTS{AutoForwardDiff{nothing, Nothing}, AdvancedHMC.DiagEuclideanMetric}}, DynamicPPL.DefaultContext, Random.TaskLocalRNG}})\n",
      "    @ DifferentiationInterfaceForwardDiffExt C:\\Users\\matsz\\.julia\\packages\\DifferentiationInterface\\D3LUI\\ext\\DifferentiationInterfaceForwardDiffExt\\onearg.jl:419\n",
      " [24] logdensity_and_gradient(f::LogDensityFunction{DynamicPPL.Model{typeof(trendcycle_model), (:Y,), (:k_tr, :Ψ_tr, :k_cyc, :Ψ_cyc), (), Tuple{Vector{Vector{Float64}}}, Tuple{Float64, Matrix{Bool}, Float64, Matrix{Bool}}, DynamicPPL.DefaultContext}, DynamicPPL.VarInfo{@NamedTuple{Q_tr::DynamicPPL.Metadata{Dict{AbstractPPL.VarName{:Q_tr, typeof(identity)}, Int64}, Vector{InverseWishart{Float64, PDMats.PDMat{Float64, Matrix{Float64}}}}, Vector{AbstractPPL.VarName{:Q_tr, typeof(identity)}}, Vector{Float64}}, Q_cyc::DynamicPPL.Metadata{Dict{AbstractPPL.VarName{:Q_cyc, typeof(identity)}, Int64}, Vector{InverseWishart{Float64, PDMats.PDMat{Float64, Matrix{Float64}}}}, Vector{AbstractPPL.VarName{:Q_cyc, typeof(identity)}}, Vector{Float64}}, σ_obs1::DynamicPPL.Metadata{Dict{AbstractPPL.VarName{:σ_obs1, typeof(identity)}, Int64}, Vector{Normal{Float64}}, Vector{AbstractPPL.VarName{:σ_obs1, typeof(identity)}}, Vector{Float64}}, σ_obs2::DynamicPPL.Metadata{Dict{AbstractPPL.VarName{:σ_obs2, typeof(identity)}, Int64}, Vector{Normal{Float64}}, Vector{AbstractPPL.VarName{:σ_obs2, typeof(identity)}}, Vector{Float64}}, φ11::DynamicPPL.Metadata{Dict{AbstractPPL.VarName{:φ11, typeof(identity)}, Int64}, Vector{Normal{Float64}}, Vector{AbstractPPL.VarName{:φ11, typeof(identity)}}, Vector{Float64}}, φ12::DynamicPPL.Metadata{Dict{AbstractPPL.VarName{:φ12, typeof(identity)}, Int64}, Vector{Normal{Float64}}, Vector{AbstractPPL.VarName{:φ12, typeof(identity)}}, Vector{Float64}}, φ21::DynamicPPL.Metadata{Dict{AbstractPPL.VarName{:φ21, typeof(identity)}, Int64}, Vector{Normal{Float64}}, Vector{AbstractPPL.VarName{:φ21, typeof(identity)}}, Vector{Float64}}, φ22::DynamicPPL.Metadata{Dict{AbstractPPL.VarName{:φ22, typeof(identity)}, Int64}, Vector{Normal{Float64}}, Vector{AbstractPPL.VarName{:φ22, typeof(identity)}}, Vector{Float64}}}, Float64}, DynamicPPL.SamplingContext{DynamicPPL.Sampler{NUTS{AutoForwardDiff{nothing, Nothing}, AdvancedHMC.DiagEuclideanMetric}}, DynamicPPL.DefaultContext, Random.TaskLocalRNG}, AutoForwardDiff{12, ForwardDiff.Tag{DynamicPPL.DynamicPPLTag, Float64}}}, x::Vector{Float64})\n",
      "    @ DynamicPPL C:\\Users\\matsz\\.julia\\packages\\DynamicPPL\\nxcz4\\src\\logdensityfunction.jl:234\n",
      " [25] Fix1\n",
      "    @ .\\operators.jl:1127 [inlined]\n",
      " [26] ∂H∂θ(h::AdvancedHMC.Hamiltonian{AdvancedHMC.DiagEuclideanMetric{Float64, Vector{Float64}}, AdvancedHMC.GaussianKinetic, Base.Fix1{typeof(LogDensityProblems.logdensity), LogDensityFunction{DynamicPPL.Model{typeof(trendcycle_model), (:Y,), (:k_tr, :Ψ_tr, :k_cyc, :Ψ_cyc), (), Tuple{Vector{Vector{Float64}}}, Tuple{Float64, Matrix{Bool}, Float64, Matrix{Bool}}, DynamicPPL.DefaultContext}, DynamicPPL.VarInfo{@NamedTuple{Q_tr::DynamicPPL.Metadata{Dict{AbstractPPL.VarName{:Q_tr, typeof(identity)}, Int64}, Vector{InverseWishart{Float64, PDMats.PDMat{Float64, Matrix{Float64}}}}, Vector{AbstractPPL.VarName{:Q_tr, typeof(identity)}}, Vector{Float64}}, Q_cyc::DynamicPPL.Metadata{Dict{AbstractPPL.VarName{:Q_cyc, typeof(identity)}, Int64}, Vector{InverseWishart{Float64, PDMats.PDMat{Float64, Matrix{Float64}}}}, Vector{AbstractPPL.VarName{:Q_cyc, typeof(identity)}}, Vector{Float64}}, σ_obs1::DynamicPPL.Metadata{Dict{AbstractPPL.VarName{:σ_obs1, typeof(identity)}, Int64}, Vector{Normal{Float64}}, Vector{AbstractPPL.VarName{:σ_obs1, typeof(identity)}}, Vector{Float64}}, σ_obs2::DynamicPPL.Metadata{Dict{AbstractPPL.VarName{:σ_obs2, typeof(identity)}, Int64}, Vector{Normal{Float64}}, Vector{AbstractPPL.VarName{:σ_obs2, typeof(identity)}}, Vector{Float64}}, φ11::DynamicPPL.Metadata{Dict{AbstractPPL.VarName{:φ11, typeof(identity)}, Int64}, Vector{Normal{Float64}}, Vector{AbstractPPL.VarName{:φ11, typeof(identity)}}, Vector{Float64}}, φ12::DynamicPPL.Metadata{Dict{AbstractPPL.VarName{:φ12, typeof(identity)}, Int64}, Vector{Normal{Float64}}, Vector{AbstractPPL.VarName{:φ12, typeof(identity)}}, Vector{Float64}}, φ21::DynamicPPL.Metadata{Dict{AbstractPPL.VarName{:φ21, typeof(identity)}, Int64}, Vector{Normal{Float64}}, Vector{AbstractPPL.VarName{:φ21, typeof(identity)}}, Vector{Float64}}, φ22::DynamicPPL.Metadata{Dict{AbstractPPL.VarName{:φ22, typeof(identity)}, Int64}, Vector{Normal{Float64}}, Vector{AbstractPPL.VarName{:φ22, typeof(identity)}}, Vector{Float64}}}, Float64}, DynamicPPL.SamplingContext{DynamicPPL.Sampler{NUTS{AutoForwardDiff{nothing, Nothing}, AdvancedHMC.DiagEuclideanMetric}}, DynamicPPL.DefaultContext, Random.TaskLocalRNG}, AutoForwardDiff{12, ForwardDiff.Tag{DynamicPPL.DynamicPPLTag, Float64}}}}, Base.Fix1{typeof(LogDensityProblems.logdensity_and_gradient), LogDensityFunction{DynamicPPL.Model{typeof(trendcycle_model), (:Y,), (:k_tr, :Ψ_tr, :k_cyc, :Ψ_cyc), (), Tuple{Vector{Vector{Float64}}}, Tuple{Float64, Matrix{Bool}, Float64, Matrix{Bool}}, DynamicPPL.DefaultContext}, DynamicPPL.VarInfo{@NamedTuple{Q_tr::DynamicPPL.Metadata{Dict{AbstractPPL.VarName{:Q_tr, typeof(identity)}, Int64}, Vector{InverseWishart{Float64, PDMats.PDMat{Float64, Matrix{Float64}}}}, Vector{AbstractPPL.VarName{:Q_tr, typeof(identity)}}, Vector{Float64}}, Q_cyc::DynamicPPL.Metadata{Dict{AbstractPPL.VarName{:Q_cyc, typeof(identity)}, Int64}, Vector{InverseWishart{Float64, PDMats.PDMat{Float64, Matrix{Float64}}}}, Vector{AbstractPPL.VarName{:Q_cyc, typeof(identity)}}, Vector{Float64}}, σ_obs1::DynamicPPL.Metadata{Dict{AbstractPPL.VarName{:σ_obs1, typeof(identity)}, Int64}, Vector{Normal{Float64}}, Vector{AbstractPPL.VarName{:σ_obs1, typeof(identity)}}, Vector{Float64}}, σ_obs2::DynamicPPL.Metadata{Dict{AbstractPPL.VarName{:σ_obs2, typeof(identity)}, Int64}, Vector{Normal{Float64}}, Vector{AbstractPPL.VarName{:σ_obs2, typeof(identity)}}, Vector{Float64}}, φ11::DynamicPPL.Metadata{Dict{AbstractPPL.VarName{:φ11, typeof(identity)}, Int64}, Vector{Normal{Float64}}, Vector{AbstractPPL.VarName{:φ11, typeof(identity)}}, Vector{Float64}}, φ12::DynamicPPL.Metadata{Dict{AbstractPPL.VarName{:φ12, typeof(identity)}, Int64}, Vector{Normal{Float64}}, Vector{AbstractPPL.VarName{:φ12, typeof(identity)}}, Vector{Float64}}, φ21::DynamicPPL.Metadata{Dict{AbstractPPL.VarName{:φ21, typeof(identity)}, Int64}, Vector{Normal{Float64}}, Vector{AbstractPPL.VarName{:φ21, typeof(identity)}}, Vector{Float64}}, φ22::DynamicPPL.Metadata{Dict{AbstractPPL.VarName{:φ22, typeof(identity)}, Int64}, Vector{Normal{Float64}}, Vector{AbstractPPL.VarName{:φ22, typeof(identity)}}, Vector{Float64}}}, Float64}, DynamicPPL.SamplingContext{DynamicPPL.Sampler{NUTS{AutoForwardDiff{nothing, Nothing}, AdvancedHMC.DiagEuclideanMetric}}, DynamicPPL.DefaultContext, Random.TaskLocalRNG}, AutoForwardDiff{12, ForwardDiff.Tag{DynamicPPL.DynamicPPLTag, Float64}}}}}, θ::Vector{Float64})\n",
      "    @ AdvancedHMC C:\\Users\\matsz\\.julia\\packages\\AdvancedHMC\\PZso2\\src\\hamiltonian.jl:46\n",
      " [27] phasepoint(h::AdvancedHMC.Hamiltonian{AdvancedHMC.DiagEuclideanMetric{Float64, Vector{Float64}}, AdvancedHMC.GaussianKinetic, Base.Fix1{typeof(LogDensityProblems.logdensity), LogDensityFunction{DynamicPPL.Model{typeof(trendcycle_model), (:Y,), (:k_tr, :Ψ_tr, :k_cyc, :Ψ_cyc), (), Tuple{Vector{Vector{Float64}}}, Tuple{Float64, Matrix{Bool}, Float64, Matrix{Bool}}, DynamicPPL.DefaultContext}, DynamicPPL.VarInfo{@NamedTuple{Q_tr::DynamicPPL.Metadata{Dict{AbstractPPL.VarName{:Q_tr, typeof(identity)}, Int64}, Vector{InverseWishart{Float64, PDMats.PDMat{Float64, Matrix{Float64}}}}, Vector{AbstractPPL.VarName{:Q_tr, typeof(identity)}}, Vector{Float64}}, Q_cyc::DynamicPPL.Metadata{Dict{AbstractPPL.VarName{:Q_cyc, typeof(identity)}, Int64}, Vector{InverseWishart{Float64, PDMats.PDMat{Float64, Matrix{Float64}}}}, Vector{AbstractPPL.VarName{:Q_cyc, typeof(identity)}}, Vector{Float64}}, σ_obs1::DynamicPPL.Metadata{Dict{AbstractPPL.VarName{:σ_obs1, typeof(identity)}, Int64}, Vector{Normal{Float64}}, Vector{AbstractPPL.VarName{:σ_obs1, typeof(identity)}}, Vector{Float64}}, σ_obs2::DynamicPPL.Metadata{Dict{AbstractPPL.VarName{:σ_obs2, typeof(identity)}, Int64}, Vector{Normal{Float64}}, Vector{AbstractPPL.VarName{:σ_obs2, typeof(identity)}}, Vector{Float64}}, φ11::DynamicPPL.Metadata{Dict{AbstractPPL.VarName{:φ11, typeof(identity)}, Int64}, Vector{Normal{Float64}}, Vector{AbstractPPL.VarName{:φ11, typeof(identity)}}, Vector{Float64}}, φ12::DynamicPPL.Metadata{Dict{AbstractPPL.VarName{:φ12, typeof(identity)}, Int64}, Vector{Normal{Float64}}, Vector{AbstractPPL.VarName{:φ12, typeof(identity)}}, Vector{Float64}}, φ21::DynamicPPL.Metadata{Dict{AbstractPPL.VarName{:φ21, typeof(identity)}, Int64}, Vector{Normal{Float64}}, Vector{AbstractPPL.VarName{:φ21, typeof(identity)}}, Vector{Float64}}, φ22::DynamicPPL.Metadata{Dict{AbstractPPL.VarName{:φ22, typeof(identity)}, Int64}, Vector{Normal{Float64}}, Vector{AbstractPPL.VarName{:φ22, typeof(identity)}}, Vector{Float64}}}, Float64}, DynamicPPL.SamplingContext{DynamicPPL.Sampler{NUTS{AutoForwardDiff{nothing, Nothing}, AdvancedHMC.DiagEuclideanMetric}}, DynamicPPL.DefaultContext, Random.TaskLocalRNG}, AutoForwardDiff{12, ForwardDiff.Tag{DynamicPPL.DynamicPPLTag, Float64}}}}, Base.Fix1{typeof(LogDensityProblems.logdensity_and_gradient), LogDensityFunction{DynamicPPL.Model{typeof(trendcycle_model), (:Y,), (:k_tr, :Ψ_tr, :k_cyc, :Ψ_cyc), (), Tuple{Vector{Vector{Float64}}}, Tuple{Float64, Matrix{Bool}, Float64, Matrix{Bool}}, DynamicPPL.DefaultContext}, DynamicPPL.VarInfo{@NamedTuple{Q_tr::DynamicPPL.Metadata{Dict{AbstractPPL.VarName{:Q_tr, typeof(identity)}, Int64}, Vector{InverseWishart{Float64, PDMats.PDMat{Float64, Matrix{Float64}}}}, Vector{AbstractPPL.VarName{:Q_tr, typeof(identity)}}, Vector{Float64}}, Q_cyc::DynamicPPL.Metadata{Dict{AbstractPPL.VarName{:Q_cyc, typeof(identity)}, Int64}, Vector{InverseWishart{Float64, PDMats.PDMat{Float64, Matrix{Float64}}}}, Vector{AbstractPPL.VarName{:Q_cyc, typeof(identity)}}, Vector{Float64}}, σ_obs1::DynamicPPL.Metadata{Dict{AbstractPPL.VarName{:σ_obs1, typeof(identity)}, Int64}, Vector{Normal{Float64}}, Vector{AbstractPPL.VarName{:σ_obs1, typeof(identity)}}, Vector{Float64}}, σ_obs2::DynamicPPL.Metadata{Dict{AbstractPPL.VarName{:σ_obs2, typeof(identity)}, Int64}, Vector{Normal{Float64}}, Vector{AbstractPPL.VarName{:σ_obs2, typeof(identity)}}, Vector{Float64}}, φ11::DynamicPPL.Metadata{Dict{AbstractPPL.VarName{:φ11, typeof(identity)}, Int64}, Vector{Normal{Float64}}, Vector{AbstractPPL.VarName{:φ11, typeof(identity)}}, Vector{Float64}}, φ12::DynamicPPL.Metadata{Dict{AbstractPPL.VarName{:φ12, typeof(identity)}, Int64}, Vector{Normal{Float64}}, Vector{AbstractPPL.VarName{:φ12, typeof(identity)}}, Vector{Float64}}, φ21::DynamicPPL.Metadata{Dict{AbstractPPL.VarName{:φ21, typeof(identity)}, Int64}, Vector{Normal{Float64}}, Vector{AbstractPPL.VarName{:φ21, typeof(identity)}}, Vector{Float64}}, φ22::DynamicPPL.Metadata{Dict{AbstractPPL.VarName{:φ22, typeof(identity)}, Int64}, Vector{Normal{Float64}}, Vector{AbstractPPL.VarName{:φ22, typeof(identity)}}, Vector{Float64}}}, Float64}, DynamicPPL.SamplingContext{DynamicPPL.Sampler{NUTS{AutoForwardDiff{nothing, Nothing}, AdvancedHMC.DiagEuclideanMetric}}, DynamicPPL.DefaultContext, Random.TaskLocalRNG}, AutoForwardDiff{12, ForwardDiff.Tag{DynamicPPL.DynamicPPLTag, Float64}}}}}, θ::Vector{Float64}, r::Vector{Float64})\n",
      "    @ AdvancedHMC C:\\Users\\matsz\\.julia\\packages\\AdvancedHMC\\PZso2\\src\\hamiltonian.jl:103\n",
      " [28] phasepoint\n",
      "    @ C:\\Users\\matsz\\.julia\\packages\\AdvancedHMC\\PZso2\\src\\hamiltonian.jl:185 [inlined]\n",
      " [29] find_initial_params(rng::Random.TaskLocalRNG, model::DynamicPPL.Model{typeof(trendcycle_model), (:Y,), (:k_tr, :Ψ_tr, :k_cyc, :Ψ_cyc), (), Tuple{Vector{Vector{Float64}}}, Tuple{Float64, Matrix{Bool}, Float64, Matrix{Bool}}, DynamicPPL.DefaultContext}, varinfo::DynamicPPL.VarInfo{@NamedTuple{Q_tr::DynamicPPL.Metadata{Dict{AbstractPPL.VarName{:Q_tr, typeof(identity)}, Int64}, Vector{InverseWishart{Float64, PDMats.PDMat{Float64, Matrix{Float64}}}}, Vector{AbstractPPL.VarName{:Q_tr, typeof(identity)}}, Vector{Float64}}, Q_cyc::DynamicPPL.Metadata{Dict{AbstractPPL.VarName{:Q_cyc, typeof(identity)}, Int64}, Vector{InverseWishart{Float64, PDMats.PDMat{Float64, Matrix{Float64}}}}, Vector{AbstractPPL.VarName{:Q_cyc, typeof(identity)}}, Vector{Float64}}, σ_obs1::DynamicPPL.Metadata{Dict{AbstractPPL.VarName{:σ_obs1, typeof(identity)}, Int64}, Vector{Normal{Float64}}, Vector{AbstractPPL.VarName{:σ_obs1, typeof(identity)}}, Vector{Float64}}, σ_obs2::DynamicPPL.Metadata{Dict{AbstractPPL.VarName{:σ_obs2, typeof(identity)}, Int64}, Vector{Normal{Float64}}, Vector{AbstractPPL.VarName{:σ_obs2, typeof(identity)}}, Vector{Float64}}, φ11::DynamicPPL.Metadata{Dict{AbstractPPL.VarName{:φ11, typeof(identity)}, Int64}, Vector{Normal{Float64}}, Vector{AbstractPPL.VarName{:φ11, typeof(identity)}}, Vector{Float64}}, φ12::DynamicPPL.Metadata{Dict{AbstractPPL.VarName{:φ12, typeof(identity)}, Int64}, Vector{Normal{Float64}}, Vector{AbstractPPL.VarName{:φ12, typeof(identity)}}, Vector{Float64}}, φ21::DynamicPPL.Metadata{Dict{AbstractPPL.VarName{:φ21, typeof(identity)}, Int64}, Vector{Normal{Float64}}, Vector{AbstractPPL.VarName{:φ21, typeof(identity)}}, Vector{Float64}}, φ22::DynamicPPL.Metadata{Dict{AbstractPPL.VarName{:φ22, typeof(identity)}, Int64}, Vector{Normal{Float64}}, Vector{AbstractPPL.VarName{:φ22, typeof(identity)}}, Vector{Float64}}}, Float64}, hamiltonian::AdvancedHMC.Hamiltonian{AdvancedHMC.DiagEuclideanMetric{Float64, Vector{Float64}}, AdvancedHMC.GaussianKinetic, Base.Fix1{typeof(LogDensityProblems.logdensity), LogDensityFunction{DynamicPPL.Model{typeof(trendcycle_model), (:Y,), (:k_tr, :Ψ_tr, :k_cyc, :Ψ_cyc), (), Tuple{Vector{Vector{Float64}}}, Tuple{Float64, Matrix{Bool}, Float64, Matrix{Bool}}, DynamicPPL.DefaultContext}, DynamicPPL.VarInfo{@NamedTuple{Q_tr::DynamicPPL.Metadata{Dict{AbstractPPL.VarName{:Q_tr, typeof(identity)}, Int64}, Vector{InverseWishart{Float64, PDMats.PDMat{Float64, Matrix{Float64}}}}, Vector{AbstractPPL.VarName{:Q_tr, typeof(identity)}}, Vector{Float64}}, Q_cyc::DynamicPPL.Metadata{Dict{AbstractPPL.VarName{:Q_cyc, typeof(identity)}, Int64}, Vector{InverseWishart{Float64, PDMats.PDMat{Float64, Matrix{Float64}}}}, Vector{AbstractPPL.VarName{:Q_cyc, typeof(identity)}}, Vector{Float64}}, σ_obs1::DynamicPPL.Metadata{Dict{AbstractPPL.VarName{:σ_obs1, typeof(identity)}, Int64}, Vector{Normal{Float64}}, Vector{AbstractPPL.VarName{:σ_obs1, typeof(identity)}}, Vector{Float64}}, σ_obs2::DynamicPPL.Metadata{Dict{AbstractPPL.VarName{:σ_obs2, typeof(identity)}, Int64}, Vector{Normal{Float64}}, Vector{AbstractPPL.VarName{:σ_obs2, typeof(identity)}}, Vector{Float64}}, φ11::DynamicPPL.Metadata{Dict{AbstractPPL.VarName{:φ11, typeof(identity)}, Int64}, Vector{Normal{Float64}}, Vector{AbstractPPL.VarName{:φ11, typeof(identity)}}, Vector{Float64}}, φ12::DynamicPPL.Metadata{Dict{AbstractPPL.VarName{:φ12, typeof(identity)}, Int64}, Vector{Normal{Float64}}, Vector{AbstractPPL.VarName{:φ12, typeof(identity)}}, Vector{Float64}}, φ21::DynamicPPL.Metadata{Dict{AbstractPPL.VarName{:φ21, typeof(identity)}, Int64}, Vector{Normal{Float64}}, Vector{AbstractPPL.VarName{:φ21, typeof(identity)}}, Vector{Float64}}, φ22::DynamicPPL.Metadata{Dict{AbstractPPL.VarName{:φ22, typeof(identity)}, Int64}, Vector{Normal{Float64}}, Vector{AbstractPPL.VarName{:φ22, typeof(identity)}}, Vector{Float64}}}, Float64}, DynamicPPL.SamplingContext{DynamicPPL.Sampler{NUTS{AutoForwardDiff{nothing, Nothing}, AdvancedHMC.DiagEuclideanMetric}}, DynamicPPL.DefaultContext, Random.TaskLocalRNG}, AutoForwardDiff{12, ForwardDiff.Tag{DynamicPPL.DynamicPPLTag, Float64}}}}, Base.Fix1{typeof(LogDensityProblems.logdensity_and_gradient), LogDensityFunction{DynamicPPL.Model{typeof(trendcycle_model), (:Y,), (:k_tr, :Ψ_tr, :k_cyc, :Ψ_cyc), (), Tuple{Vector{Vector{Float64}}}, Tuple{Float64, Matrix{Bool}, Float64, Matrix{Bool}}, DynamicPPL.DefaultContext}, DynamicPPL.VarInfo{@NamedTuple{Q_tr::DynamicPPL.Metadata{Dict{AbstractPPL.VarName{:Q_tr, typeof(identity)}, Int64}, Vector{InverseWishart{Float64, PDMats.PDMat{Float64, Matrix{Float64}}}}, Vector{AbstractPPL.VarName{:Q_tr, typeof(identity)}}, Vector{Float64}}, Q_cyc::DynamicPPL.Metadata{Dict{AbstractPPL.VarName{:Q_cyc, typeof(identity)}, Int64}, Vector{InverseWishart{Float64, PDMats.PDMat{Float64, Matrix{Float64}}}}, Vector{AbstractPPL.VarName{:Q_cyc, typeof(identity)}}, Vector{Float64}}, σ_obs1::DynamicPPL.Metadata{Dict{AbstractPPL.VarName{:σ_obs1, typeof(identity)}, Int64}, Vector{Normal{Float64}}, Vector{AbstractPPL.VarName{:σ_obs1, typeof(identity)}}, Vector{Float64}}, σ_obs2::DynamicPPL.Metadata{Dict{AbstractPPL.VarName{:σ_obs2, typeof(identity)}, Int64}, Vector{Normal{Float64}}, Vector{AbstractPPL.VarName{:σ_obs2, typeof(identity)}}, Vector{Float64}}, φ11::DynamicPPL.Metadata{Dict{AbstractPPL.VarName{:φ11, typeof(identity)}, Int64}, Vector{Normal{Float64}}, Vector{AbstractPPL.VarName{:φ11, typeof(identity)}}, Vector{Float64}}, φ12::DynamicPPL.Metadata{Dict{AbstractPPL.VarName{:φ12, typeof(identity)}, Int64}, Vector{Normal{Float64}}, Vector{AbstractPPL.VarName{:φ12, typeof(identity)}}, Vector{Float64}}, φ21::DynamicPPL.Metadata{Dict{AbstractPPL.VarName{:φ21, typeof(identity)}, Int64}, Vector{Normal{Float64}}, Vector{AbstractPPL.VarName{:φ21, typeof(identity)}}, Vector{Float64}}, φ22::DynamicPPL.Metadata{Dict{AbstractPPL.VarName{:φ22, typeof(identity)}, Int64}, Vector{Normal{Float64}}, Vector{AbstractPPL.VarName{:φ22, typeof(identity)}}, Vector{Float64}}}, Float64}, DynamicPPL.SamplingContext{DynamicPPL.Sampler{NUTS{AutoForwardDiff{nothing, Nothing}, AdvancedHMC.DiagEuclideanMetric}}, DynamicPPL.DefaultContext, Random.TaskLocalRNG}, AutoForwardDiff{12, ForwardDiff.Tag{DynamicPPL.DynamicPPLTag, Float64}}}}}; max_attempts::Int64)\n",
      "    @ Turing.Inference C:\\Users\\matsz\\.julia\\packages\\Turing\\EEhvQ\\src\\mcmc\\hmc.jl:156\n",
      " [30] find_initial_params(rng::Random.TaskLocalRNG, model::DynamicPPL.Model{typeof(trendcycle_model), (:Y,), (:k_tr, :Ψ_tr, :k_cyc, :Ψ_cyc), (), Tuple{Vector{Vector{Float64}}}, Tuple{Float64, Matrix{Bool}, Float64, Matrix{Bool}}, DynamicPPL.DefaultContext}, varinfo::DynamicPPL.VarInfo{@NamedTuple{Q_tr::DynamicPPL.Metadata{Dict{AbstractPPL.VarName{:Q_tr, typeof(identity)}, Int64}, Vector{InverseWishart{Float64, PDMats.PDMat{Float64, Matrix{Float64}}}}, Vector{AbstractPPL.VarName{:Q_tr, typeof(identity)}}, Vector{Float64}}, Q_cyc::DynamicPPL.Metadata{Dict{AbstractPPL.VarName{:Q_cyc, typeof(identity)}, Int64}, Vector{InverseWishart{Float64, PDMats.PDMat{Float64, Matrix{Float64}}}}, Vector{AbstractPPL.VarName{:Q_cyc, typeof(identity)}}, Vector{Float64}}, σ_obs1::DynamicPPL.Metadata{Dict{AbstractPPL.VarName{:σ_obs1, typeof(identity)}, Int64}, Vector{Normal{Float64}}, Vector{AbstractPPL.VarName{:σ_obs1, typeof(identity)}}, Vector{Float64}}, σ_obs2::DynamicPPL.Metadata{Dict{AbstractPPL.VarName{:σ_obs2, typeof(identity)}, Int64}, Vector{Normal{Float64}}, Vector{AbstractPPL.VarName{:σ_obs2, typeof(identity)}}, Vector{Float64}}, φ11::DynamicPPL.Metadata{Dict{AbstractPPL.VarName{:φ11, typeof(identity)}, Int64}, Vector{Normal{Float64}}, Vector{AbstractPPL.VarName{:φ11, typeof(identity)}}, Vector{Float64}}, φ12::DynamicPPL.Metadata{Dict{AbstractPPL.VarName{:φ12, typeof(identity)}, Int64}, Vector{Normal{Float64}}, Vector{AbstractPPL.VarName{:φ12, typeof(identity)}}, Vector{Float64}}, φ21::DynamicPPL.Metadata{Dict{AbstractPPL.VarName{:φ21, typeof(identity)}, Int64}, Vector{Normal{Float64}}, Vector{AbstractPPL.VarName{:φ21, typeof(identity)}}, Vector{Float64}}, φ22::DynamicPPL.Metadata{Dict{AbstractPPL.VarName{:φ22, typeof(identity)}, Int64}, Vector{Normal{Float64}}, Vector{AbstractPPL.VarName{:φ22, typeof(identity)}}, Vector{Float64}}}, Float64}, hamiltonian::AdvancedHMC.Hamiltonian{AdvancedHMC.DiagEuclideanMetric{Float64, Vector{Float64}}, AdvancedHMC.GaussianKinetic, Base.Fix1{typeof(LogDensityProblems.logdensity), LogDensityFunction{DynamicPPL.Model{typeof(trendcycle_model), (:Y,), (:k_tr, :Ψ_tr, :k_cyc, :Ψ_cyc), (), Tuple{Vector{Vector{Float64}}}, Tuple{Float64, Matrix{Bool}, Float64, Matrix{Bool}}, DynamicPPL.DefaultContext}, DynamicPPL.VarInfo{@NamedTuple{Q_tr::DynamicPPL.Metadata{Dict{AbstractPPL.VarName{:Q_tr, typeof(identity)}, Int64}, Vector{InverseWishart{Float64, PDMats.PDMat{Float64, Matrix{Float64}}}}, Vector{AbstractPPL.VarName{:Q_tr, typeof(identity)}}, Vector{Float64}}, Q_cyc::DynamicPPL.Metadata{Dict{AbstractPPL.VarName{:Q_cyc, typeof(identity)}, Int64}, Vector{InverseWishart{Float64, PDMats.PDMat{Float64, Matrix{Float64}}}}, Vector{AbstractPPL.VarName{:Q_cyc, typeof(identity)}}, Vector{Float64}}, σ_obs1::DynamicPPL.Metadata{Dict{AbstractPPL.VarName{:σ_obs1, typeof(identity)}, Int64}, Vector{Normal{Float64}}, Vector{AbstractPPL.VarName{:σ_obs1, typeof(identity)}}, Vector{Float64}}, σ_obs2::DynamicPPL.Metadata{Dict{AbstractPPL.VarName{:σ_obs2, typeof(identity)}, Int64}, Vector{Normal{Float64}}, Vector{AbstractPPL.VarName{:σ_obs2, typeof(identity)}}, Vector{Float64}}, φ11::DynamicPPL.Metadata{Dict{AbstractPPL.VarName{:φ11, typeof(identity)}, Int64}, Vector{Normal{Float64}}, Vector{AbstractPPL.VarName{:φ11, typeof(identity)}}, Vector{Float64}}, φ12::DynamicPPL.Metadata{Dict{AbstractPPL.VarName{:φ12, typeof(identity)}, Int64}, Vector{Normal{Float64}}, Vector{AbstractPPL.VarName{:φ12, typeof(identity)}}, Vector{Float64}}, φ21::DynamicPPL.Metadata{Dict{AbstractPPL.VarName{:φ21, typeof(identity)}, Int64}, Vector{Normal{Float64}}, Vector{AbstractPPL.VarName{:φ21, typeof(identity)}}, Vector{Float64}}, φ22::DynamicPPL.Metadata{Dict{AbstractPPL.VarName{:φ22, typeof(identity)}, Int64}, Vector{Normal{Float64}}, Vector{AbstractPPL.VarName{:φ22, typeof(identity)}}, Vector{Float64}}}, Float64}, DynamicPPL.SamplingContext{DynamicPPL.Sampler{NUTS{AutoForwardDiff{nothing, Nothing}, AdvancedHMC.DiagEuclideanMetric}}, DynamicPPL.DefaultContext, Random.TaskLocalRNG}, AutoForwardDiff{12, ForwardDiff.Tag{DynamicPPL.DynamicPPLTag, Float64}}}}, Base.Fix1{typeof(LogDensityProblems.logdensity_and_gradient), LogDensityFunction{DynamicPPL.Model{typeof(trendcycle_model), (:Y,), (:k_tr, :Ψ_tr, :k_cyc, :Ψ_cyc), (), Tuple{Vector{Vector{Float64}}}, Tuple{Float64, Matrix{Bool}, Float64, Matrix{Bool}}, DynamicPPL.DefaultContext}, DynamicPPL.VarInfo{@NamedTuple{Q_tr::DynamicPPL.Metadata{Dict{AbstractPPL.VarName{:Q_tr, typeof(identity)}, Int64}, Vector{InverseWishart{Float64, PDMats.PDMat{Float64, Matrix{Float64}}}}, Vector{AbstractPPL.VarName{:Q_tr, typeof(identity)}}, Vector{Float64}}, Q_cyc::DynamicPPL.Metadata{Dict{AbstractPPL.VarName{:Q_cyc, typeof(identity)}, Int64}, Vector{InverseWishart{Float64, PDMats.PDMat{Float64, Matrix{Float64}}}}, Vector{AbstractPPL.VarName{:Q_cyc, typeof(identity)}}, Vector{Float64}}, σ_obs1::DynamicPPL.Metadata{Dict{AbstractPPL.VarName{:σ_obs1, typeof(identity)}, Int64}, Vector{Normal{Float64}}, Vector{AbstractPPL.VarName{:σ_obs1, typeof(identity)}}, Vector{Float64}}, σ_obs2::DynamicPPL.Metadata{Dict{AbstractPPL.VarName{:σ_obs2, typeof(identity)}, Int64}, Vector{Normal{Float64}}, Vector{AbstractPPL.VarName{:σ_obs2, typeof(identity)}}, Vector{Float64}}, φ11::DynamicPPL.Metadata{Dict{AbstractPPL.VarName{:φ11, typeof(identity)}, Int64}, Vector{Normal{Float64}}, Vector{AbstractPPL.VarName{:φ11, typeof(identity)}}, Vector{Float64}}, φ12::DynamicPPL.Metadata{Dict{AbstractPPL.VarName{:φ12, typeof(identity)}, Int64}, Vector{Normal{Float64}}, Vector{AbstractPPL.VarName{:φ12, typeof(identity)}}, Vector{Float64}}, φ21::DynamicPPL.Metadata{Dict{AbstractPPL.VarName{:φ21, typeof(identity)}, Int64}, Vector{Normal{Float64}}, Vector{AbstractPPL.VarName{:φ21, typeof(identity)}}, Vector{Float64}}, φ22::DynamicPPL.Metadata{Dict{AbstractPPL.VarName{:φ22, typeof(identity)}, Int64}, Vector{Normal{Float64}}, Vector{AbstractPPL.VarName{:φ22, typeof(identity)}}, Vector{Float64}}}, Float64}, DynamicPPL.SamplingContext{DynamicPPL.Sampler{NUTS{AutoForwardDiff{nothing, Nothing}, AdvancedHMC.DiagEuclideanMetric}}, DynamicPPL.DefaultContext, Random.TaskLocalRNG}, AutoForwardDiff{12, ForwardDiff.Tag{DynamicPPL.DynamicPPLTag, Float64}}}}})\n",
      "    @ Turing.Inference C:\\Users\\matsz\\.julia\\packages\\Turing\\EEhvQ\\src\\mcmc\\hmc.jl:145\n",
      " [31] initialstep(rng::Random.TaskLocalRNG, model::DynamicPPL.Model{typeof(trendcycle_model), (:Y,), (:k_tr, :Ψ_tr, :k_cyc, :Ψ_cyc), (), Tuple{Vector{Vector{Float64}}}, Tuple{Float64, Matrix{Bool}, Float64, Matrix{Bool}}, DynamicPPL.DefaultContext}, spl::DynamicPPL.Sampler{NUTS{AutoForwardDiff{nothing, Nothing}, AdvancedHMC.DiagEuclideanMetric}}, vi_original::DynamicPPL.VarInfo{@NamedTuple{Q_tr::DynamicPPL.Metadata{Dict{AbstractPPL.VarName{:Q_tr, typeof(identity)}, Int64}, Vector{InverseWishart{Float64, PDMats.PDMat{Float64, Matrix{Float64}}}}, Vector{AbstractPPL.VarName{:Q_tr, typeof(identity)}}, Vector{Float64}}, Q_cyc::DynamicPPL.Metadata{Dict{AbstractPPL.VarName{:Q_cyc, typeof(identity)}, Int64}, Vector{InverseWishart{Float64, PDMats.PDMat{Float64, Matrix{Float64}}}}, Vector{AbstractPPL.VarName{:Q_cyc, typeof(identity)}}, Vector{Float64}}, σ_obs1::DynamicPPL.Metadata{Dict{AbstractPPL.VarName{:σ_obs1, typeof(identity)}, Int64}, Vector{Normal{Float64}}, Vector{AbstractPPL.VarName{:σ_obs1, typeof(identity)}}, Vector{Float64}}, σ_obs2::DynamicPPL.Metadata{Dict{AbstractPPL.VarName{:σ_obs2, typeof(identity)}, Int64}, Vector{Normal{Float64}}, Vector{AbstractPPL.VarName{:σ_obs2, typeof(identity)}}, Vector{Float64}}, φ11::DynamicPPL.Metadata{Dict{AbstractPPL.VarName{:φ11, typeof(identity)}, Int64}, Vector{Normal{Float64}}, Vector{AbstractPPL.VarName{:φ11, typeof(identity)}}, Vector{Float64}}, φ12::DynamicPPL.Metadata{Dict{AbstractPPL.VarName{:φ12, typeof(identity)}, Int64}, Vector{Normal{Float64}}, Vector{AbstractPPL.VarName{:φ12, typeof(identity)}}, Vector{Float64}}, φ21::DynamicPPL.Metadata{Dict{AbstractPPL.VarName{:φ21, typeof(identity)}, Int64}, Vector{Normal{Float64}}, Vector{AbstractPPL.VarName{:φ21, typeof(identity)}}, Vector{Float64}}, φ22::DynamicPPL.Metadata{Dict{AbstractPPL.VarName{:φ22, typeof(identity)}, Int64}, Vector{Normal{Float64}}, Vector{AbstractPPL.VarName{:φ22, typeof(identity)}}, Vector{Float64}}}, Float64}; initial_params::Nothing, nadapts::Int64, kwargs::@Kwargs{})\n",
      "    @ Turing.Inference C:\\Users\\matsz\\.julia\\packages\\Turing\\EEhvQ\\src\\mcmc\\hmc.jl:210\n",
      " [32] step(rng::Random.TaskLocalRNG, model::DynamicPPL.Model{typeof(trendcycle_model), (:Y,), (:k_tr, :Ψ_tr, :k_cyc, :Ψ_cyc), (), Tuple{Vector{Vector{Float64}}}, Tuple{Float64, Matrix{Bool}, Float64, Matrix{Bool}}, DynamicPPL.DefaultContext}, spl::DynamicPPL.Sampler{NUTS{AutoForwardDiff{nothing, Nothing}, AdvancedHMC.DiagEuclideanMetric}}; initial_params::Nothing, kwargs::@Kwargs{nadapts::Int64})\n",
      "    @ DynamicPPL C:\\Users\\matsz\\.julia\\packages\\DynamicPPL\\nxcz4\\src\\sampler.jl:125\n",
      " [33] step\n",
      "    @ C:\\Users\\matsz\\.julia\\packages\\DynamicPPL\\nxcz4\\src\\sampler.jl:108 [inlined]\n",
      " [34] macro expansion\n",
      "    @ C:\\Users\\matsz\\.julia\\packages\\AbstractMCMC\\7f1oY\\src\\sample.jl:171 [inlined]\n",
      " [35] (::AbstractMCMC.var\"#25#26\"{Nothing, Int64, Int64, Int64, UnionAll, Nothing, @Kwargs{nadapts::Int64}, Random.TaskLocalRNG, DynamicPPL.Model{typeof(trendcycle_model), (:Y,), (:k_tr, :Ψ_tr, :k_cyc, :Ψ_cyc), (), Tuple{Vector{Vector{Float64}}}, Tuple{Float64, Matrix{Bool}, Float64, Matrix{Bool}}, DynamicPPL.DefaultContext}, DynamicPPL.Sampler{NUTS{AutoForwardDiff{nothing, Nothing}, AdvancedHMC.DiagEuclideanMetric}}, Int64, Float64, Int64, Int64})()\n",
      "    @ AbstractMCMC C:\\Users\\matsz\\.julia\\packages\\AbstractMCMC\\7f1oY\\src\\logging.jl:134\n",
      " [36] with_logstate(f::AbstractMCMC.var\"#25#26\"{Nothing, Int64, Int64, Int64, UnionAll, Nothing, @Kwargs{nadapts::Int64}, Random.TaskLocalRNG, DynamicPPL.Model{typeof(trendcycle_model), (:Y,), (:k_tr, :Ψ_tr, :k_cyc, :Ψ_cyc), (), Tuple{Vector{Vector{Float64}}}, Tuple{Float64, Matrix{Bool}, Float64, Matrix{Bool}}, DynamicPPL.DefaultContext}, DynamicPPL.Sampler{NUTS{AutoForwardDiff{nothing, Nothing}, AdvancedHMC.DiagEuclideanMetric}}, Int64, Float64, Int64, Int64}, logstate::Base.CoreLogging.LogState)\n",
      "    @ Base.CoreLogging .\\logging\\logging.jl:522\n",
      " [37] with_logger(f::Function, logger::LoggingExtras.TeeLogger{Tuple{LoggingExtras.EarlyFilteredLogger{TerminalLoggers.TerminalLogger, AbstractMCMC.var\"#1#3\"{Module}}, LoggingExtras.EarlyFilteredLogger{Base.CoreLogging.SimpleLogger, AbstractMCMC.var\"#2#4\"{Module}}}})\n",
      "    @ Base.CoreLogging .\\logging\\logging.jl:632\n",
      " [38] with_progresslogger(f::Function, _module::Module, logger::Base.CoreLogging.SimpleLogger)\n",
      "    @ AbstractMCMC C:\\Users\\matsz\\.julia\\packages\\AbstractMCMC\\7f1oY\\src\\logging.jl:157\n",
      " [39] macro expansion\n",
      "    @ C:\\Users\\matsz\\.julia\\packages\\AbstractMCMC\\7f1oY\\src\\logging.jl:133 [inlined]\n",
      " [40] mcmcsample(rng::Random.TaskLocalRNG, model::DynamicPPL.Model{typeof(trendcycle_model), (:Y,), (:k_tr, :Ψ_tr, :k_cyc, :Ψ_cyc), (), Tuple{Vector{Vector{Float64}}}, Tuple{Float64, Matrix{Bool}, Float64, Matrix{Bool}}, DynamicPPL.DefaultContext}, sampler::DynamicPPL.Sampler{NUTS{AutoForwardDiff{nothing, Nothing}, AdvancedHMC.DiagEuclideanMetric}}, N::Int64; progress::Bool, progressname::String, callback::Nothing, num_warmup::Int64, discard_initial::Int64, thinning::Int64, chain_type::Type, initial_state::Nothing, kwargs::@Kwargs{nadapts::Int64})\n",
      "    @ AbstractMCMC C:\\Users\\matsz\\.julia\\packages\\AbstractMCMC\\7f1oY\\src\\sample.jl:151\n",
      " [41] sample(rng::Random.TaskLocalRNG, model::DynamicPPL.Model{typeof(trendcycle_model), (:Y,), (:k_tr, :Ψ_tr, :k_cyc, :Ψ_cyc), (), Tuple{Vector{Vector{Float64}}}, Tuple{Float64, Matrix{Bool}, Float64, Matrix{Bool}}, DynamicPPL.DefaultContext}, sampler::DynamicPPL.Sampler{NUTS{AutoForwardDiff{nothing, Nothing}, AdvancedHMC.DiagEuclideanMetric}}, N::Int64; chain_type::Type, resume_from::Nothing, initial_state::Nothing, progress::Bool, nadapts::Int64, discard_adapt::Bool, discard_initial::Int64, kwargs::@Kwargs{})\n",
      "    @ Turing.Inference C:\\Users\\matsz\\.julia\\packages\\Turing\\EEhvQ\\src\\mcmc\\hmc.jl:117\n",
      " [42] sample\n",
      "    @ C:\\Users\\matsz\\.julia\\packages\\Turing\\EEhvQ\\src\\mcmc\\hmc.jl:86 [inlined]\n",
      " [43] #sample#101\n",
      "    @ C:\\Users\\matsz\\.julia\\packages\\Turing\\EEhvQ\\src\\mcmc\\abstractmcmc.jl:29 [inlined]\n",
      " [44] sample\n",
      "    @ C:\\Users\\matsz\\.julia\\packages\\Turing\\EEhvQ\\src\\mcmc\\abstractmcmc.jl:20 [inlined]\n",
      " [45] #sample#100\n",
      "    @ C:\\Users\\matsz\\.julia\\packages\\Turing\\EEhvQ\\src\\mcmc\\abstractmcmc.jl:17 [inlined]\n",
      " [46] sample(model::DynamicPPL.Model{typeof(trendcycle_model), (:Y,), (:k_tr, :Ψ_tr, :k_cyc, :Ψ_cyc), (), Tuple{Vector{Vector{Float64}}}, Tuple{Float64, Matrix{Bool}, Float64, Matrix{Bool}}, DynamicPPL.DefaultContext}, alg::NUTS{AutoForwardDiff{nothing, Nothing}, AdvancedHMC.DiagEuclideanMetric}, N::Int64)\n",
      "    @ Turing.Inference C:\\Users\\matsz\\.julia\\packages\\Turing\\EEhvQ\\src\\mcmc\\abstractmcmc.jl:14\n",
      " [47] top-level scope\n",
      "    @ c:\\Users\\matsz\\programowanie\\Optymalizacja_portfela\\FinancialPlanner\\_wip\\TCVAR\\jl_notebook_cell_df34fa98e69747e1a8f8a730347b8e2f_X16sZmlsZQ==.jl:4"
     ]
    }
   ],
   "source": [
    "model = trendcycle_model(test_obs)\n",
    "\n",
    "n_samples = 500\n",
    "chain = sample(model, NUTS(), n_samples)"
   ]
  },
  {
   "cell_type": "code",
   "execution_count": 16,
   "id": "8f85f066",
   "metadata": {},
   "outputs": [
    {
     "data": {
      "text/plain": [
       "0.02"
      ]
     },
     "metadata": {},
     "output_type": "display_data"
    }
   ],
   "source": [
    "priors = (\n",
    "    initial_trend_mean = 0.03,\n",
    "    initial_trend_std = 0.09,\n",
    "    initial_cycle = (mean=0., \n",
    "                     std = .02)\n",
    "\n",
    ")\n",
    "\n",
    "priors.initial_cycle.std"
   ]
  }
 ],
 "metadata": {
  "kernelspec": {
   "display_name": "Julia 1.11.2",
   "language": "julia",
   "name": "julia-1.11"
  },
  "language_info": {
   "file_extension": ".jl",
   "mimetype": "application/julia",
   "name": "julia",
   "version": "1.11.2"
  }
 },
 "nbformat": 4,
 "nbformat_minor": 5
}
