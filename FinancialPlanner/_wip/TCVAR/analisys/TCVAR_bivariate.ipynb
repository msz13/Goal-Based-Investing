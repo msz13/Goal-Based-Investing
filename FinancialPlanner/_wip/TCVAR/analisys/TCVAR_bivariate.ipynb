{
 "cells": [
  {
   "cell_type": "code",
   "execution_count": 8,
   "id": "9d0ffc06",
   "metadata": {},
   "outputs": [
    {
     "name": "stderr",
     "output_type": "stream",
     "text": [
      "\u001b[32m\u001b[1m  Activating\u001b[22m\u001b[39m project at `c:\\Users\\matsz\\programowanie\\Optymalizacja_portfela\\FinancialPlanner\\_wip\\TCVAR`\n"
     ]
    }
   ],
   "source": [
    "import Pkg\n",
    "Pkg.activate(\"../\")"
   ]
  },
  {
   "cell_type": "code",
   "execution_count": 70,
   "id": "cf008cc8",
   "metadata": {},
   "outputs": [
    {
     "name": "stderr",
     "output_type": "stream",
     "text": [
      "WARNING: replacing module TCVAR.\n"
     ]
    },
    {
     "data": {
      "text/plain": [
       "Main.TCVAR"
      ]
     },
     "metadata": {},
     "output_type": "display_data"
    }
   ],
   "source": [
    "include(\"../src/TCVAR.jl\")"
   ]
  },
  {
   "cell_type": "code",
   "execution_count": 71,
   "id": "77be659d",
   "metadata": {},
   "outputs": [],
   "source": [
    "using .TCVAR\n",
    "using DataFrames, XLSX, TimeSeries\n",
    "using Statistics\n",
    "using LinearAlgebra"
   ]
  },
  {
   "cell_type": "code",
   "execution_count": 17,
   "id": "45e00694",
   "metadata": {},
   "outputs": [
    {
     "data": {
      "text/plain": [
       "292×12 TimeArray{Float64, 2, Date, Matrix{Float64}} 1951-12-01 to 2024-07-01\n",
       "┌────────────┬──────────┬───────────┬─────────────┬──────────┬────────┬─────────\n",
       "│\u001b[1m            \u001b[0m│\u001b[1m Yeld_10Y \u001b[0m│\u001b[1m Price_10Y \u001b[0m│\u001b[1m Stock_Price \u001b[0m│\u001b[1m Dividend \u001b[0m│\u001b[1m E      \u001b[0m│\u001b[1m CAPE  \u001b[0m ⋯\n",
       "├────────────┼──────────┼───────────┼─────────────┼──────────┼────────┼─────────\n",
       "│ 1951-12-01 │  0.02513 │   104.098 │       23.77 │  1.41333 │   2.44 │ 12.527 ⋯\n",
       "│ 1952-03-01 │  0.02505 │   104.824 │       24.37 │     1.43 │    2.4 │ 12.242 ⋯\n",
       "│ 1952-06-01 │  0.02415 │   106.295 │       24.96 │     1.45 │   2.34 │ 12.669 ⋯\n",
       "│ 1952-09-01 │  0.02685 │   104.468 │       24.54 │  1.43667 │   2.36 │ 12.131 ⋯\n",
       "│ 1952-12-01 │  0.02547 │   106.402 │       26.57 │     1.41 │    2.4 │ 13.010 ⋯\n",
       "│ 1953-03-01 │  0.02735 │   105.373 │       25.29 │  1.41333 │   2.43 │ 12.163 ⋯\n",
       "│ 1953-06-01 │  0.02987 │    103.86 │       24.14 │     1.42 │   2.51 │ 11.750 ⋯\n",
       "│ 1953-09-01 │  0.02636 │    107.81 │       23.35 │     1.43 │   2.55 │ 11.391 ⋯\n",
       "│     ⋮      │    ⋮     │     ⋮     │      ⋮      │    ⋮     │   ⋮    │    ⋮   ⋱\n",
       "│ 2023-03-01 │   0.0348 │   4521.58 │     4109.31 │  68.3767 │ 175.17 │ 28.764 ⋯\n",
       "│ 2023-06-01 │   0.0381 │   4438.75 │     4450.38 │   68.911 │ 181.01 │ 30.891 ⋯\n",
       "│ 2023-09-01 │   0.0459 │   4209.48 │     4288.05 │  69.6433 │ 184.25 │ 28.769 ⋯\n",
       "│ 2023-12-01 │   0.0388 │   4503.77 │     4769.83 │  70.4774 │ 192.43 │ 32.045 ⋯\n",
       "│ 2024-03-01 │    0.042 │   4432.83 │     5254.35 │  71.2085 │ 191.39 │ 33.141 ⋯\n",
       "│ 2024-06-01 │   0.0436 │   4423.92 │     5460.48 │  71.9758 │ 191.39 │ 35.707 ⋯\n",
       "│ 2024-07-01 │   0.0409 │   4536.57 │      5522.3 │  71.9758 │ 191.39 │ 35.081 ⋯\n",
       "└────────────┴──────────┴───────────┴─────────────┴──────────┴────────┴─────────\n",
       "\u001b[36m                                                  7 columns and 277 rows omitted\u001b[0m"
      ]
     },
     "metadata": {},
     "output_type": "display_data"
    }
   ],
   "source": [
    "df = DataFrame(XLSX.readtable(\"../../../data/usa_data.xlsx\", \"Data\", infer_eltypes=true))\n",
    "data_source = collapse(TimeArray(df; timestamp = :Date), Dates.quarter, last)"
   ]
  },
  {
   "cell_type": "code",
   "execution_count": 41,
   "id": "924f3c15",
   "metadata": {},
   "outputs": [
    {
     "data": {
      "text/plain": [
       "(20×2 TimeArray{Float64, 2, Date, Matrix{Float64}} 1952-12-01 to 1957-09-01, 268×2 TimeArray{Float64, 2, Date, Matrix{Float64}} 1957-12-01 to 2024-07-01)"
      ]
     },
     "metadata": {},
     "output_type": "display_data"
    }
   ],
   "source": [
    "cpi = data_source[:CPI] ./ lag(data_source[:CPI], 4) .- 1\n",
    "sr = data_source[:T_Bill]\n",
    "\n",
    "data = merge(cpi, sr) .* 100\n",
    "\n",
    "presample, data = to(data, Date(1957, 11, 30)), from(data, Date(1957, 12,01))\n"
   ]
  },
  {
   "cell_type": "code",
   "execution_count": 52,
   "id": "a568c7ca",
   "metadata": {},
   "outputs": [
    {
     "data": {
      "text/plain": [
       "1×2 TimeArray{Float64, 2, Date, Matrix{Float64}} 1957-09-01 to 1957-09-01\n",
       "┌────────────┬─────────┬────────┐\n",
       "│\u001b[1m            \u001b[0m│\u001b[1m CPI_CPI \u001b[0m│\u001b[1m T_Bill \u001b[0m│\n",
       "├────────────┼─────────┼────────┤\n",
       "│ 1957-09-01 │ 1.07596 │  2.071 │\n",
       "└────────────┴─────────┴────────┘"
      ]
     },
     "metadata": {},
     "output_type": "display_data"
    },
    {
     "data": {
      "text/plain": [
       "1×2 TimeArray{Float64, 2, Date, Matrix{Float64}} 1957-09-01 to 1957-09-01\n",
       "┌────────────┬─────────┬──────────┐\n",
       "│\u001b[1m            \u001b[0m│\u001b[1m CPI_CPI \u001b[0m│\u001b[1m T_Bill   \u001b[0m│\n",
       "├────────────┼─────────┼──────────┤\n",
       "│ 1957-09-01 │   1.849 │ 0.706494 │\n",
       "└────────────┴─────────┴──────────┘"
      ]
     },
     "metadata": {},
     "output_type": "display_data"
    },
    {
     "data": {
      "text/plain": [
       "1×2 TimeArray{Float64, 2, Date, Matrix{Float64}} 1957-09-01 to 1957-09-01\n",
       "┌────────────┬─────────┬──────────┐\n",
       "│\u001b[1m            \u001b[0m│\u001b[1m CPI_CPI \u001b[0m│\u001b[1m T_Bill   \u001b[0m│\n",
       "├────────────┼─────────┼──────────┤\n",
       "│ 1957-09-01 │ 3.41879 │ 0.499133 │\n",
       "└────────────┴─────────┴──────────┘"
      ]
     },
     "metadata": {},
     "output_type": "display_data"
    }
   ],
   "source": [
    "presample_mean = Statistics.mean(presample)\n",
    "display(presample_mean)\n",
    "\n",
    "presample_variance = var(presample)\n",
    "display(presample_variance)\n",
    "display(presample_variance .^ 2)"
   ]
  },
  {
   "cell_type": "code",
   "execution_count": 66,
   "id": "b95dedf1",
   "metadata": {},
   "outputs": [
    {
     "data": {
      "text/plain": [
       "(initial_trend_mean = [1.0759553361960457, 2.071], initial_cycle_mean = [0.0, 0.0], initial_trend_covariance = [1.0 0.0; 0.0 1.0], trend_covariance_df = 100, trend_covariance_mean = [0.04000000000000001 0.0; 0.0 0.0025000000000000005], cycle_coeff_mean = [0.0 0.0; 0.0 0.0], cycle_coeff_shrinkage_param = 0.2, cycle_covariance_mean = [1.8489975236133918 0.0; 0.0 0.7064936842105262], cycle_covariance_df = 4)"
      ]
     },
     "metadata": {},
     "output_type": "display_data"
    }
   ],
   "source": [
    "n = 2 #number of observatin variables\n",
    "\n",
    "priors = (\n",
    "        initial_trend_mean = values(presample_mean)[1,:],\n",
    "        initial_cycle_mean = zeros(2),\n",
    "        initial_trend_covariance = diagm([1., 1.]),\n",
    "        trend_covariance_df = 100,\n",
    "        trend_covariance_mean = diagm([2. /10, 1. /20].^2),\n",
    "        cycle_coeff_mean = zeros(2, 2),\n",
    "        cycle_coeff_shrinkage_param = .2,\n",
    "        cycle_covariance_mean = diagm(values(presample_variance)[1,:]), #diagm(presample_variance), \n",
    "        cycle_covariance_df = n+2\n",
    "        )\n"
   ]
  },
  {
   "cell_type": "code",
   "execution_count": 67,
   "id": "3b2cae40",
   "metadata": {},
   "outputs": [
    {
     "data": {
      "text/plain": [
       "2-element Vector{Float64}:\n",
       " 1.0759553361960457\n",
       " 2.071"
      ]
     },
     "metadata": {},
     "output_type": "display_data"
    }
   ],
   "source": [
    "priors.initial_trend_mean"
   ]
  },
  {
   "cell_type": "code",
   "execution_count": 72,
   "id": "d1d8a16b",
   "metadata": {},
   "outputs": [
    {
     "ename": "DimensionMismatch",
     "evalue": "DimensionMismatch: a has size (2, 2), b has size (4, 4), mismatch at dim 1",
     "output_type": "error",
     "traceback": [
      "DimensionMismatch: a has size (2, 2), b has size (4, 4), mismatch at dim 1\n",
      "\n",
      "Stacktrace:\n",
      " [1] throw_promote_shape_mismatch(a::Tuple{Base.OneTo{Int64}, Base.OneTo{Int64}}, b::Tuple{Base.OneTo{Int64}, Base.OneTo{Int64}}, i::Int64)\n",
      "   @ Base .\\indices.jl:135\n",
      " [2] promote_shape\n",
      "   @ .\\indices.jl:196 [inlined]\n",
      " [3] promote_shape\n",
      "   @ .\\indices.jl:188 [inlined]\n",
      " [4] +(A::Matrix{Float64}, B::Diagonal{Float64, Vector{Float64}})\n",
      "   @ Base .\\arraymath.jl:7\n",
      " [5] beta_posterior_dist(X::Matrix{Float64}, Σ::Matrix{Float64}, beta_posterior::Matrix{Float64}, Ω_inv::Diagonal{Float64, Vector{Float64}})\n",
      "   @ Main.TCVAR c:\\Users\\matsz\\programowanie\\Optymalizacja_portfela\\FinancialPlanner\\_wip\\TCVAR\\src\\gibbs_var_steps.jl:38\n",
      " [6] sample_var_params(data::Matrix{Float64}, p::Int64, β_prior_μ::Matrix{Float64}, Ω_inv::Diagonal{Float64, Vector{Float64}}, S::Matrix{Float64}, df::Int64)\n",
      "   @ Main.TCVAR c:\\Users\\matsz\\programowanie\\Optymalizacja_portfela\\FinancialPlanner\\_wip\\TCVAR\\src\\gibbs_var_steps.jl:77\n",
      " [7] gibs_sampler(data::Matrix{Float64}, priors::@NamedTuple{initial_trend_mean::Vector{Float64}, initial_cycle_mean::Vector{Float64}, initial_trend_covariance::Matrix{Float64}, trend_covariance_df::Int64, trend_covariance_mean::Matrix{Float64}, cycle_coeff_mean::Matrix{Float64}, cycle_coeff_shrinkage_param::Float64, cycle_covariance_mean::Matrix{Float64}, cycle_covariance_df::Int64}; burnin::Int64, n_samples::Int64, thin::Int64)\n",
      "   @ Main.TCVAR c:\\Users\\matsz\\programowanie\\Optymalizacja_portfela\\FinancialPlanner\\_wip\\TCVAR\\src\\gibbs_sampler.jl:78\n",
      " [8] top-level scope\n",
      "   @ c:\\Users\\matsz\\programowanie\\Optymalizacja_portfela\\FinancialPlanner\\_wip\\TCVAR\\analisys\\jl_notebook_cell_df34fa98e69747e1a8f8a730347b8e2f_X13sZmlsZQ==.jl:1"
     ]
    }
   ],
   "source": [
    "trend_states_samples, cycle_states_samples, trend_covariance_samples, betas_samples, sigmas_samples = TCVAR.gibs_sampler(values(data), priors; burnin = 5_000, n_samples = 5_000, thin=5)\n",
    "\n",
    "trend_states_mean, trend_states_lower, trend_states_upper = compute_posterior_statistics(trend_states_samples, credible_level=0.95)  \n",
    "cycle_states_mean, cycle_states_lower, cycle_states_upper = compute_posterior_statistics(cycle_states_samples, credible_level=0.95) "
   ]
  }
 ],
 "metadata": {
  "kernelspec": {
   "display_name": "Julia 1.11.2",
   "language": "julia",
   "name": "julia-1.11"
  },
  "language_info": {
   "file_extension": ".jl",
   "mimetype": "application/julia",
   "name": "julia",
   "version": "1.11.2"
  }
 },
 "nbformat": 4,
 "nbformat_minor": 5
}
