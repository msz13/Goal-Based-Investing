{
 "cells": [
  {
   "cell_type": "code",
   "execution_count": 5,
   "id": "65e30e72",
   "metadata": {},
   "outputs": [],
   "source": [
    "using Revise\n",
    "using Turing\n",
    "using LinearAlgebra\n",
    "using Distributions\n",
    "using Random\n",
    "using StatsPlots\n",
    "using PDMats\n",
    "using StatsBase\n",
    "using Base.Iterators\n",
    "using DataFrames, TimeSeries, XLSX"
   ]
  },
  {
   "cell_type": "code",
   "execution_count": 6,
   "id": "7f0b1860",
   "metadata": {},
   "outputs": [
    {
     "name": "stderr",
     "output_type": "stream",
     "text": [
      "\u001b[32m\u001b[1m  Activating\u001b[22m\u001b[39m project at `c:\\Users\\matsz\\programowanie\\Optymalizacja_portfela\\FinancialPlanner`\n"
     ]
    }
   ],
   "source": [
    "import Pkg\n",
    "Pkg.activate(\"../../../FinancialPlanner\")"
   ]
  },
  {
   "cell_type": "code",
   "execution_count": 20,
   "id": "5d49f941",
   "metadata": {},
   "outputs": [],
   "source": [
    "includet(\"utils.jl\")\n",
    "includet(\"turing_nw_bvar.jl\")"
   ]
  },
  {
   "cell_type": "code",
   "execution_count": 10,
   "id": "f6cf41d3",
   "metadata": {},
   "outputs": [
    {
     "data": {
      "text/plain": [
       "146×15 TimeArray{Float64, 2, Date, Matrix{Float64}} 1988-03-01 to 2024-04-01\n",
       "┌────────────┬──────────┬───────────┬─────────────┬──────────┬────────┬─────────\n",
       "│\u001b[1m            \u001b[0m│\u001b[1m Yeld_10Y \u001b[0m│\u001b[1m Price_10Y \u001b[0m│\u001b[1m Stock_Price \u001b[0m│\u001b[1m Dividend \u001b[0m│\u001b[1m E      \u001b[0m│\u001b[1m CAPE  \u001b[0m ⋯\n",
       "├────────────┼──────────┼───────────┼─────────────┼──────────┼────────┼─────────\n",
       "│ 1988-03-01 │   0.0857 │   677.401 │       262.6 │  9.04333 │  18.59 │ 14.433 ⋯\n",
       "│ 1988-06-01 │   0.0882 │   681.206 │       269.1 │  9.30667 │  21.67 │ 14.608 ⋯\n",
       "│ 1988-09-01 │   0.0887 │   694.387 │       277.4 │     9.55 │  22.73 │ 14.811 ⋯\n",
       "│ 1988-12-01 │   0.0914 │   697.568 │       285.4 │  9.81333 │  23.75 │ 15.088 ⋯\n",
       "│ 1989-03-01 │    0.093 │   706.377 │       302.3 │  10.0867 │  24.96 │ 15.686 ⋯\n",
       "│ 1989-06-01 │    0.081 │    780.73 │       331.9 │  10.4233 │  25.22 │ 17.013 ⋯\n",
       "│ 1989-09-01 │   0.0831 │   785.343 │       347.4 │  10.7967 │  23.69 │ 17.640 ⋯\n",
       "│ 1989-12-01 │   0.0793 │   821.683 │      339.97 │    11.14 │  22.87 │ 17.048 ⋯\n",
       "│     ⋮      │    ⋮     │     ⋮     │      ⋮      │    ⋮     │   ⋮    │    ⋮   ⋱\n",
       "│ 2022-12-01 │   0.0388 │   4337.28 │     3960.66 │    67.35 │ 172.75 │ 28.334 ⋯\n",
       "│ 2023-03-01 │   0.0348 │   4521.58 │     4121.47 │  68.3767 │ 175.17 │ 28.764 ⋯\n",
       "│ 2023-06-01 │   0.0381 │   4438.75 │     4508.08 │   68.911 │ 181.01 │ 30.891 ⋯\n",
       "│ 2023-09-01 │   0.0459 │   4209.48 │      4269.4 │  69.6433 │ 184.25 │ 28.769 ⋯\n",
       "│ 2023-12-01 │   0.0388 │   4503.77 │     4815.61 │  70.4774 │ 192.43 │ 32.045 ⋯\n",
       "│ 2024-03-01 │    0.042 │   4432.83 │     5112.49 │  47.2166 │ 191.39 │ 33.141 ⋯\n",
       "│ 2024-04-01 │   0.0469 │   4277.66 │     5235.23 │  23.6083 │ 191.39 │ 33.844 ⋯\n",
       "└────────────┴──────────┴───────────┴─────────────┴──────────┴────────┴─────────\n",
       "\u001b[36m                                                 10 columns and 131 rows omitted\u001b[0m"
      ]
     },
     "metadata": {},
     "output_type": "display_data"
    }
   ],
   "source": [
    "df = DataFrame(XLSX.readtable(\"../../data/usa_world_data.xlsx\", \"Arkusz1\", infer_eltypes=true))\n",
    "data_source = collapse(TimeArray(df; timestamp = :Date), Dates.quarter, last)"
   ]
  },
  {
   "cell_type": "code",
   "execution_count": 40,
   "id": "60f12ed2",
   "metadata": {},
   "outputs": [
    {
     "data": {
      "text/plain": [
       "\"Returns\""
      ]
     },
     "metadata": {},
     "output_type": "display_data"
    },
    {
     "data": {
      "text/html": [
       "<table>\n",
       "  <thead>\n",
       "    <tr class = \"header headerLastRow\">\n",
       "      <th class = \"rowLabel\" style = \"font-weight: bold; text-align: right;\"></th>\n",
       "      <th style = \"text-align: right;\">std</th>\n",
       "      <th style = \"text-align: right;\">max</th>\n",
       "      <th style = \"text-align: right;\">mean</th>\n",
       "      <th style = \"text-align: right;\">p75th</th>\n",
       "      <th style = \"text-align: right;\">min</th>\n",
       "      <th style = \"text-align: right;\">skewness</th>\n",
       "      <th style = \"text-align: right;\">p25th</th>\n",
       "      <th style = \"text-align: right;\">autocor</th>\n",
       "      <th style = \"text-align: right;\">kurtosis</th>\n",
       "      <th style = \"text-align: right;\">sr</th>\n",
       "      <th style = \"text-align: right;\">median</th>\n",
       "    </tr>\n",
       "  </thead>\n",
       "  <tbody>\n",
       "    <tr>\n",
       "      <td class = \"rowLabel\" style = \"font-weight: bold; text-align: right;\">Total_Stock</td>\n",
       "      <td style = \"text-align: right;\">0.0714</td>\n",
       "      <td style = \"text-align: right;\">0.1957</td>\n",
       "      <td style = \"text-align: right;\">0.0253</td>\n",
       "      <td style = \"text-align: right;\">0.0662</td>\n",
       "      <td style = \"text-align: right;\">-0.2537</td>\n",
       "      <td style = \"text-align: right;\">-0.8536</td>\n",
       "      <td style = \"text-align: right;\">-0.0039</td>\n",
       "      <td style = \"text-align: right;\">0.0712</td>\n",
       "      <td style = \"text-align: right;\">1.8048</td>\n",
       "      <td style = \"text-align: right;\">0.354</td>\n",
       "      <td style = \"text-align: right;\">0.0357</td>\n",
       "    </tr>\n",
       "    <tr>\n",
       "      <td class = \"rowLabel\" style = \"font-weight: bold; text-align: right;\">Price_10Y</td>\n",
       "      <td style = \"text-align: right;\">0.0418</td>\n",
       "      <td style = \"text-align: right;\">0.1423</td>\n",
       "      <td style = \"text-align: right;\">0.0133</td>\n",
       "      <td style = \"text-align: right;\">0.0423</td>\n",
       "      <td style = \"text-align: right;\">-0.0725</td>\n",
       "      <td style = \"text-align: right;\">0.3136</td>\n",
       "      <td style = \"text-align: right;\">-0.0175</td>\n",
       "      <td style = \"text-align: right;\">0.0162</td>\n",
       "      <td style = \"text-align: right;\">0.0266</td>\n",
       "      <td style = \"text-align: right;\">0.3188</td>\n",
       "      <td style = \"text-align: right;\">0.0078</td>\n",
       "    </tr>\n",
       "    <tr>\n",
       "      <td class = \"rowLabel\" style = \"font-weight: bold; text-align: right;\">World_ex_USA</td>\n",
       "      <td style = \"text-align: right;\">0.0838</td>\n",
       "      <td style = \"text-align: right;\">0.3042</td>\n",
       "      <td style = \"text-align: right;\">0.0116</td>\n",
       "      <td style = \"text-align: right;\">0.0656</td>\n",
       "      <td style = \"text-align: right;\">-0.4449</td>\n",
       "      <td style = \"text-align: right;\">-0.9618</td>\n",
       "      <td style = \"text-align: right;\">-0.0376</td>\n",
       "      <td style = \"text-align: right;\">0.124</td>\n",
       "      <td style = \"text-align: right;\">5.7703</td>\n",
       "      <td style = \"text-align: right;\">0.1386</td>\n",
       "      <td style = \"text-align: right;\">0.0189</td>\n",
       "    </tr>\n",
       "    <tr>\n",
       "      <td class = \"rowLabel\" style = \"font-weight: bold; text-align: right;\">EM_Net</td>\n",
       "      <td style = \"text-align: right;\">0.1265</td>\n",
       "      <td style = \"text-align: right;\">0.446</td>\n",
       "      <td style = \"text-align: right;\">0.02</td>\n",
       "      <td style = \"text-align: right;\">0.0954</td>\n",
       "      <td style = \"text-align: right;\">-0.5904</td>\n",
       "      <td style = \"text-align: right;\">-0.8653</td>\n",
       "      <td style = \"text-align: right;\">-0.0484</td>\n",
       "      <td style = \"text-align: right;\">0.0758</td>\n",
       "      <td style = \"text-align: right;\">4.3012</td>\n",
       "      <td style = \"text-align: right;\">0.1584</td>\n",
       "      <td style = \"text-align: right;\">0.0322</td>\n",
       "    </tr>\n",
       "  </tbody>\n",
       "</table>\n"
      ]
     },
     "metadata": {},
     "output_type": "display_data"
    },
    {
     "data": {
      "text/plain": [
       "nothing"
      ]
     },
     "metadata": {},
     "output_type": "display_data"
    },
    {
     "data": {
      "text/plain": [
       "\"real_returns\""
      ]
     },
     "metadata": {},
     "output_type": "display_data"
    },
    {
     "data": {
      "text/html": [
       "<table>\n",
       "  <thead>\n",
       "    <tr class = \"header headerLastRow\">\n",
       "      <th class = \"rowLabel\" style = \"font-weight: bold; text-align: right;\"></th>\n",
       "      <th style = \"text-align: right;\">std</th>\n",
       "      <th style = \"text-align: right;\">max</th>\n",
       "      <th style = \"text-align: right;\">mean</th>\n",
       "      <th style = \"text-align: right;\">p75th</th>\n",
       "      <th style = \"text-align: right;\">min</th>\n",
       "      <th style = \"text-align: right;\">skewness</th>\n",
       "      <th style = \"text-align: right;\">p25th</th>\n",
       "      <th style = \"text-align: right;\">autocor</th>\n",
       "      <th style = \"text-align: right;\">kurtosis</th>\n",
       "      <th style = \"text-align: right;\">sr</th>\n",
       "      <th style = \"text-align: right;\">median</th>\n",
       "    </tr>\n",
       "  </thead>\n",
       "  <tbody>\n",
       "    <tr>\n",
       "      <td class = \"rowLabel\" style = \"font-weight: bold; text-align: right;\">Total_Stock_CPI</td>\n",
       "      <td style = \"text-align: right;\">0.0714</td>\n",
       "      <td style = \"text-align: right;\">0.1938</td>\n",
       "      <td style = \"text-align: right;\">0.0186</td>\n",
       "      <td style = \"text-align: right;\">0.061</td>\n",
       "      <td style = \"text-align: right;\">-0.2381</td>\n",
       "      <td style = \"text-align: right;\">-0.728</td>\n",
       "      <td style = \"text-align: right;\">-0.011</td>\n",
       "      <td style = \"text-align: right;\">0.0581</td>\n",
       "      <td style = \"text-align: right;\">1.3742</td>\n",
       "      <td style = \"text-align: right;\">0.2603</td>\n",
       "      <td style = \"text-align: right;\">0.0283</td>\n",
       "    </tr>\n",
       "    <tr>\n",
       "      <td class = \"rowLabel\" style = \"font-weight: bold; text-align: right;\">Price_10Y_CPI</td>\n",
       "      <td style = \"text-align: right;\">0.0447</td>\n",
       "      <td style = \"text-align: right;\">0.1677</td>\n",
       "      <td style = \"text-align: right;\">0.0066</td>\n",
       "      <td style = \"text-align: right;\">0.0367</td>\n",
       "      <td style = \"text-align: right;\">-0.096</td>\n",
       "      <td style = \"text-align: right;\">0.3686</td>\n",
       "      <td style = \"text-align: right;\">-0.0257</td>\n",
       "      <td style = \"text-align: right;\">0.0313</td>\n",
       "      <td style = \"text-align: right;\">0.5634</td>\n",
       "      <td style = \"text-align: right;\">0.1488</td>\n",
       "      <td style = \"text-align: right;\">0.003</td>\n",
       "    </tr>\n",
       "    <tr>\n",
       "      <td class = \"rowLabel\" style = \"font-weight: bold; text-align: right;\">World_ex_USA_CPI</td>\n",
       "      <td style = \"text-align: right;\">0.082</td>\n",
       "      <td style = \"text-align: right;\">0.2943</td>\n",
       "      <td style = \"text-align: right;\">0.0049</td>\n",
       "      <td style = \"text-align: right;\">0.0565</td>\n",
       "      <td style = \"text-align: right;\">-0.4195</td>\n",
       "      <td style = \"text-align: right;\">-0.7637</td>\n",
       "      <td style = \"text-align: right;\">-0.0414</td>\n",
       "      <td style = \"text-align: right;\">0.1193</td>\n",
       "      <td style = \"text-align: right;\">4.7076</td>\n",
       "      <td style = \"text-align: right;\">0.0602</td>\n",
       "      <td style = \"text-align: right;\">0.0116</td>\n",
       "    </tr>\n",
       "    <tr>\n",
       "      <td class = \"rowLabel\" style = \"font-weight: bold; text-align: right;\">EM_Net_CPI</td>\n",
       "      <td style = \"text-align: right;\">0.1246</td>\n",
       "      <td style = \"text-align: right;\">0.4361</td>\n",
       "      <td style = \"text-align: right;\">0.0134</td>\n",
       "      <td style = \"text-align: right;\">0.0881</td>\n",
       "      <td style = \"text-align: right;\">-0.565</td>\n",
       "      <td style = \"text-align: right;\">-0.765</td>\n",
       "      <td style = \"text-align: right;\">-0.0561</td>\n",
       "      <td style = \"text-align: right;\">0.0713</td>\n",
       "      <td style = \"text-align: right;\">3.8365</td>\n",
       "      <td style = \"text-align: right;\">0.1072</td>\n",
       "      <td style = \"text-align: right;\">0.0166</td>\n",
       "    </tr>\n",
       "  </tbody>\n",
       "</table>\n"
      ]
     },
     "metadata": {},
     "output_type": "display_data"
    },
    {
     "data": {
      "text/plain": [
       "nothing"
      ]
     },
     "metadata": {},
     "output_type": "display_data"
    },
    {
     "data": {
      "text/plain": [
       "\"Correlations\""
      ]
     },
     "metadata": {},
     "output_type": "display_data"
    },
    {
     "data": {
      "text/plain": [
       "4×4 Matrix{Float64}:\n",
       "  1.0        -0.0970977   0.45003    0.316977\n",
       " -0.0970977   1.0        -0.357511  -0.405884\n",
       "  0.45003    -0.357511    1.0        0.716905\n",
       "  0.316977   -0.405884    0.716905   1.0"
      ]
     },
     "metadata": {},
     "output_type": "display_data"
    }
   ],
   "source": [
    "freq = 1\n",
    "#:Price_10Y\n",
    "returns = percentchange(data_source[:Total_Stock, :Price_10Y, :World_ex_USA, :EM_Net], :log)\n",
    "cpi = percentchange(data_source[:CPI], :log)\n",
    "real_returns = returns .- cpi\n",
    "#excess_returns = returns .- log1p.(data_source[:T_Bill]./freq)\n",
    "data = merge(excess_returns, real_t_bill, term, cpi, dy)\n",
    "\n",
    "\n",
    "start = Date(1989, 01,01)\n",
    "end_d = Date(2023, 12, 31)\n",
    "s_data = to(from(data, start),end_d)\n",
    "\n",
    "display(\"Returns\")\n",
    "display(returns_summarystats(to(from(returns, start),end_d), freq))\n",
    "display(\"real_returns\")\n",
    "display(returns_summarystats(to(from(real_returns, start),end_d), freq))\n",
    "\n",
    "display(\"Correlations\")\n",
    "display(cor(values(to(from(real_returns, start),end_d))))"
   ]
  },
  {
   "cell_type": "code",
   "execution_count": 41,
   "id": "2c1f7a6b",
   "metadata": {},
   "outputs": [
    {
     "name": "stderr",
     "output_type": "stream",
     "text": [
      "\u001b[32mSampling (4 threads)   0%|█                             |  ETA: N/A\u001b[39m\n",
      "┌ Info: Found initial step size\n",
      "│   ϵ = 0.000390625\n",
      "└ @ Turing.Inference C:\\Users\\matsz\\.julia\\packages\\Turing\\GSvwQ\\src\\mcmc\\hmc.jl:213\n",
      "┌ Info: Found initial step size\n",
      "│   ϵ = 0.003125\n",
      "└ @ Turing.Inference C:\\Users\\matsz\\.julia\\packages\\Turing\\GSvwQ\\src\\mcmc\\hmc.jl:213\n",
      "┌ Info: Found initial step size\n",
      "│   ϵ = 0.000390625\n",
      "└ @ Turing.Inference C:\\Users\\matsz\\.julia\\packages\\Turing\\GSvwQ\\src\\mcmc\\hmc.jl:213\n",
      "┌ Info: Found initial step size\n",
      "│   ϵ = 0.0001953125\n",
      "└ @ Turing.Inference C:\\Users\\matsz\\.julia\\packages\\Turing\\GSvwQ\\src\\mcmc\\hmc.jl:213\n",
      "\u001b[32mSampling (4 threads)  25%|████████                      |  ETA: 0:00:28\u001b[39m\n",
      "\u001b[32mSampling (4 threads)  50%|████████████████              |  ETA: 0:00:09\u001b[39m\n",
      "\u001b[32mSampling (4 threads)  75%|███████████████████████       |  ETA: 0:00:03\u001b[39m\n",
      "\u001b[32mSampling (4 threads) 100%|██████████████████████████████| Time: 0:00:10\u001b[39m\n",
      "\u001b[90mSampling (4 threads) 100%|██████████████████████████████| Time: 0:00:10\u001b[39m\n"
     ]
    },
    {
     "data": {
      "text/plain": [
       "Summary Statistics\n",
       " \u001b[1m parameters \u001b[0m \u001b[1m    mean \u001b[0m \u001b[1m     std \u001b[0m \u001b[1m    mcse \u001b[0m \u001b[1m  ess_bulk \u001b[0m \u001b[1m  ess_tail \u001b[0m \u001b[1m    rhat \u001b[0m \u001b[1m\u001b[0m ⋯\n",
       " \u001b[90m     Symbol \u001b[0m \u001b[90m Float64 \u001b[0m \u001b[90m Float64 \u001b[0m \u001b[90m Float64 \u001b[0m \u001b[90m   Float64 \u001b[0m \u001b[90m   Float64 \u001b[0m \u001b[90m Float64 \u001b[0m \u001b[90m\u001b[0m ⋯\n",
       "\n",
       "        μ[1]    0.0189    0.0059    0.0001   5432.4936   3281.0427    1.0013   ⋯\n",
       "        μ[2]    0.0059    0.0038    0.0001   5822.1992   3647.3465    1.0021   ⋯\n",
       "        μ[3]    0.0061    0.0070    0.0001   4163.5896   3600.2420    1.0023   ⋯\n",
       "        μ[4]    0.0144    0.0104    0.0002   4568.6166   3392.5135    1.0012   ⋯\n",
       "        σ[1]    0.0713    0.0042    0.0001   5379.0344   3332.7003    1.0033   ⋯\n",
       "        σ[2]    0.0449    0.0027    0.0000   5277.7992   3456.6862    1.0023   ⋯\n",
       "        σ[3]    0.0826    0.0047    0.0001   2940.1336   3026.7315    1.0010   ⋯\n",
       "        σ[4]    0.1242    0.0073    0.0001   3468.7748   2954.3670    1.0010   ⋯\n",
       "   L.L[1, 1]    1.0000    0.0000       NaN         NaN         NaN       NaN   ⋯\n",
       "   L.L[2, 1]   -0.0888    0.0830    0.0013   3944.1704   3273.6870    1.0007   ⋯\n",
       "   L.L[3, 1]    0.4299    0.0669    0.0013   2731.5317   2839.1885    1.0003   ⋯\n",
       "   L.L[4, 1]    0.2987    0.0744    0.0014   2726.2086   2776.1845    1.0004   ⋯\n",
       "   L.L[2, 2]    0.9925    0.0088    0.0002   3814.2077   3347.3713    1.0007   ⋯\n",
       "   L.L[3, 2]   -0.3062    0.0669    0.0011   3489.8338   3146.2403    1.0000   ⋯\n",
       "   L.L[4, 2]   -0.3645    0.0688    0.0012   3543.7699   3222.4731    1.0011   ⋯\n",
       "   L.L[3, 3]    0.8433    0.0361    0.0006   3230.6742   3086.2777    1.0001   ⋯\n",
       "   L.L[4, 3]    0.5288    0.0518    0.0008   4116.9886   3147.4860    1.0012   ⋯\n",
       "   L.L[4, 4]    0.6955    0.0400    0.0007   3673.4395   3248.6516    1.0007   ⋯\n",
       "\u001b[36m                                                                1 column omitted\u001b[0m\n"
      ]
     },
     "metadata": {},
     "output_type": "display_data"
    },
    {
     "data": {
      "text/plain": [
       "Quantiles\n",
       " \u001b[1m parameters \u001b[0m \u001b[1m    2.5% \u001b[0m \u001b[1m   25.0% \u001b[0m \u001b[1m   50.0% \u001b[0m \u001b[1m   75.0% \u001b[0m \u001b[1m   97.5% \u001b[0m\n",
       " \u001b[90m     Symbol \u001b[0m \u001b[90m Float64 \u001b[0m \u001b[90m Float64 \u001b[0m \u001b[90m Float64 \u001b[0m \u001b[90m Float64 \u001b[0m \u001b[90m Float64 \u001b[0m\n",
       "\n",
       "        μ[1]    0.0075    0.0149    0.0189    0.0229    0.0300\n",
       "        μ[2]   -0.0016    0.0032    0.0060    0.0086    0.0134\n",
       "        μ[3]   -0.0079    0.0015    0.0061    0.0109    0.0197\n",
       "        μ[4]   -0.0055    0.0074    0.0143    0.0215    0.0349\n",
       "        σ[1]    0.0636    0.0683    0.0710    0.0740    0.0802\n",
       "        σ[2]    0.0401    0.0430    0.0447    0.0465    0.0505\n",
       "        σ[3]    0.0739    0.0794    0.0826    0.0856    0.0924\n",
       "        σ[4]    0.1109    0.1192    0.1238    0.1289    0.1393\n",
       "   L.L[1, 1]    1.0000    1.0000    1.0000    1.0000    1.0000\n",
       "   L.L[2, 1]   -0.2499   -0.1463   -0.0887   -0.0342    0.0746\n",
       "   L.L[3, 1]    0.2911    0.3873    0.4327    0.4749    0.5541\n",
       "   L.L[4, 1]    0.1477    0.2489    0.3004    0.3506    0.4366\n",
       "   L.L[2, 2]    0.9683    0.9892    0.9958    0.9989    1.0000\n",
       "   L.L[3, 2]   -0.4342   -0.3530   -0.3075   -0.2607   -0.1756\n",
       "   L.L[4, 2]   -0.4944   -0.4120   -0.3666   -0.3194   -0.2260\n",
       "   L.L[3, 3]    0.7689    0.8197    0.8439    0.8678    0.9122\n",
       "   L.L[4, 3]    0.4257    0.4940    0.5280    0.5643    0.6295\n",
       "   L.L[4, 4]    0.6184    0.6679    0.6951    0.7219    0.7736\n"
      ]
     },
     "metadata": {},
     "output_type": "display_data"
    }
   ],
   "source": [
    "T, K = size(real_returns)\n",
    "\n",
    "model = mvnormal_lkjcholesky_model(values(real_returns), K, T)\n",
    "\n",
    "# Sample from the posterior\n",
    "chain = sample(model, NUTS(), MCMCThreads(), 1000, 4; discard_initial=1000)\n",
    "\n",
    "# Summarize results\n",
    "display(summarystats(chain))\n",
    "display(quantile(chain))\n"
   ]
  },
  {
   "cell_type": "code",
   "execution_count": 52,
   "id": "f475df4d",
   "metadata": {},
   "outputs": [
    {
     "data": {
      "text/plain": [
       "5-element Vector{Float64}:\n",
       " -0.12\n",
       " -0.03\n",
       "  0.02\n",
       "  0.07\n",
       "  0.16"
      ]
     },
     "metadata": {},
     "output_type": "display_data"
    },
    {
     "data": {
      "text/plain": [
       "5-element Vector{Float64}:\n",
       " -0.08\n",
       " -0.02\n",
       "  0.01\n",
       "  0.04\n",
       "  0.09"
      ]
     },
     "metadata": {},
     "output_type": "display_data"
    },
    {
     "data": {
      "text/plain": [
       "5-element Vector{Float64}:\n",
       " -0.15\n",
       " -0.05\n",
       "  0.01\n",
       "  0.06\n",
       "  0.16"
      ]
     },
     "metadata": {},
     "output_type": "display_data"
    },
    {
     "data": {
      "text/plain": [
       "5-element Vector{Float64}:\n",
       " -0.22\n",
       " -0.07\n",
       "  0.01\n",
       "  0.1\n",
       "  0.25"
      ]
     },
     "metadata": {},
     "output_type": "display_data"
    }
   ],
   "source": [
    "μ = mean(group(chain, :μ)).nt.mean\n",
    "σ = mean(group(chain, :σ)).nt.mean\n",
    "L = mean(group(chain, \"L.L\")).nt.mean\n",
    "\n",
    "Σ = est_covariance(σ, L)\n",
    "\n",
    "n_samples = 10000\n",
    "n_steps = 100\n",
    "scenarios = zeros(K, n_steps, n_samples)\n",
    "\n",
    "for t in 1:n_steps\n",
    "    scenarios[:,t,:]= rand(MvNormal(μ, Σ), 10000)\n",
    "end\n",
    "\n",
    "for k in 1:K\n",
    "    display(round.(quantile(scenarios[k,1,:], [.025, .25, .5, .75, .975]), digits=2))\n",
    "end\n"
   ]
  },
  {
   "cell_type": "markdown",
   "id": "d8be33d8",
   "metadata": {},
   "source": [
    "#### TODO\n",
    "- est cumr returns, 1, 5, 30\n",
    "- display table mean, std, skewness, kurtosis, for every series, every time step\n",
    "- display correlation matrix for every time step\n"
   ]
  },
  {
   "cell_type": "code",
   "execution_count": null,
   "id": "d6d5f880",
   "metadata": {},
   "outputs": [],
   "source": [
    "\n"
   ]
  }
 ],
 "metadata": {
  "kernelspec": {
   "display_name": "Julia 1.11.2",
   "language": "julia",
   "name": "julia-1.11"
  },
  "language_info": {
   "file_extension": ".jl",
   "mimetype": "application/julia",
   "name": "julia",
   "version": "1.11.2"
  }
 },
 "nbformat": 4,
 "nbformat_minor": 5
}
