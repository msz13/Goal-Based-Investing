{
 "cells": [
  {
   "cell_type": "code",
   "execution_count": 1,
   "id": "2c1134c5",
   "metadata": {},
   "outputs": [],
   "source": [
    "using Turing\n",
    "using LinearAlgebra\n",
    "using Distributions\n",
    "using Random"
   ]
  },
  {
   "cell_type": "code",
   "execution_count": 7,
   "id": "49fd1a54",
   "metadata": {},
   "outputs": [
    {
     "data": {
      "text/plain": [
       "prepare_var_data (generic function with 3 methods)"
      ]
     },
     "metadata": {},
     "output_type": "display_data"
    }
   ],
   "source": [
    "function prepare_var_data(Y::Matrix{Float64}, p::Int, X::Union{Matrix{Float64},Vector{Float64}} = Matrix{Float64}(undef, 0, 0), add_intercept::Bool = false)\n",
    "    T, n = size(Y)\n",
    "    Y_lagged = zeros(T - p, n * p)\n",
    "    for t in (p + 1):T\n",
    "        Y_lagged[t - p, :] = Y[t-p:t-1, :]'\n",
    "    end\n",
    "\n",
    "    predictors = Y_lagged\n",
    "\n",
    "    if !isempty(X)\n",
    "        if size(X, 1) != T\n",
    "            error(\"The number of rows in X must be equal to the number of rows in Y.\")\n",
    "        end\n",
    "        X_subset = X[p+1:end, :]\n",
    "        predictors = hcat(predictors, X_subset)\n",
    "    end\n",
    "\n",
    "    if add_intercept\n",
    "        intercept = ones(T - p, 1)\n",
    "        predictors = hcat(intercept, predictors)\n",
    "    end\n",
    "\n",
    "    return Y[p+1:end, :], predictors\n",
    "end"
   ]
  },
  {
   "cell_type": "code",
   "execution_count": 28,
   "id": "1b67c0a4",
   "metadata": {},
   "outputs": [
    {
     "name": "stdout",
     "output_type": "stream",
     "text": [
      "\u001b[0m\u001b[1mTest Summary:          | \u001b[22m\u001b[32m\u001b[1mPass  \u001b[22m\u001b[39m\u001b[36m\u001b[1mTotal  \u001b[22m\u001b[39m\u001b[0m\u001b[1mTime\u001b[22m\n",
      "prepare_var_data Tests | \u001b[32m  33  \u001b[39m\u001b[36m   33  \u001b[39m\u001b[0m0.0s\n"
     ]
    },
    {
     "data": {
      "text/plain": [
       "Test.DefaultTestSet(\"prepare_var_data Tests\", Any[], 33, false, false, true, 1.746994099196e9, 1.746994099196e9, false, \"c:\\\\Users\\\\matsz\\\\programowanie\\\\Optymalizacja_portfela\\\\FinancialPlanner\\\\_wip\\\\VARs\\\\jl_notebook_cell_df34fa98e69747e1a8f8a730347b8e2f_X10sZmlsZQ==.jl\")"
      ]
     },
     "metadata": {},
     "output_type": "display_data"
    }
   ],
   "source": [
    "using Test\n",
    "\n",
    "@testset \"prepare_var_data Tests\" begin\n",
    "\n",
    "    # Test case 1: Basic VAR data preparation (no exogenous variables, no intercept)\n",
    "    Y = [1.0 2.0; 3.0 4.0; 5.0 6.0; 7.0 8.0]\n",
    "    p1 = 1\n",
    "    Y_obs1, predictors1 = prepare_var_data(Y, p1)\n",
    "    @test size(Y_obs1) == (3, 2)\n",
    "    @test size(predictors1) == (3, 2)\n",
    "    @test predictors1[1, :] == [1.0, 2.0]\n",
    "    @test predictors1[2, :] == [3.0, 4.0]\n",
    "    @test predictors1[3, :] == [5.0, 6.0]\n",
    "    @test Y_obs1[1, :] == [3.0, 4.0]\n",
    "    @test Y_obs1[2, :] == [5.0, 6.0]\n",
    "    @test Y_obs1[3, :] == [7.0, 8.0] \n",
    "   \n",
    "\n",
    "    #Test case 2: VAR data preparation with 2 lags\n",
    "    p2 = 2\n",
    "    Y_obs2, predictors2 = prepare_var_data(Y, p2)\n",
    "    @test size(Y_obs2) == (2, 2)\n",
    "    @test size(predictors2) == (2, 4)\n",
    "    @test predictors2[1, :] == [1.0, 2.0, 3.0, 4.0]\n",
    "    @test predictors2[2, :] == [3.0, 4.0, 5.0, 6.0]   \n",
    "    @test Y_obs2[1, :] == [5.0, 6.0]\n",
    "    @test Y_obs2[2, :] == [7.0, 8.0]\n",
    "   \n",
    "\n",
    "   # Test case 3: VAR data preparation with exogenous variables\n",
    "    X3 = [0.1, 0.2, 0.3, 0.4]\n",
    "    p3 = 1\n",
    "    Y_obs3, predictors3 = prepare_var_data(Y, p3, X3)\n",
    "    @test size(Y_obs3) == (3, 2)\n",
    "    @test size(predictors3) == (3, 3)\n",
    "    @test predictors3[1, :] == [1.0, 2.0, 0.2]\n",
    "    @test predictors3[2, :] == [3.0, 4.0, 0.3]\n",
    "    @test predictors3[3, :] == [5.0, 6.0, 0.4]\n",
    "    @test Y_obs1[1, :] == [3.0, 4.0]\n",
    "    @test Y_obs1[2, :] == [5.0, 6.0]\n",
    "    @test Y_obs1[3, :] == [7.0, 8.0]  \n",
    "    \n",
    "    \n",
    "    # Test case 4: VAR data preparation with intercept\n",
    "    p4 = 1\n",
    "    Y_obs4, predictors4 = prepare_var_data(Y, p4, Matrix{Float64}(undef, 0, 0), true)\n",
    "    @test size(Y_obs4) == (3, 2)\n",
    "    @test size(predictors4) == (3, 3)\n",
    "    @test predictors4[1, :] == [1.0, 1.0, 2.0]\n",
    "    @test predictors4[2, :] == [1.0, 3.0, 4.0]\n",
    "    @test predictors4[3, :] == [1.0, 5.0, 6.0]\n",
    "    \n",
    "\n",
    "    # Test case 5: VAR data preparation with exogenous variables and intercept\n",
    "    X5 = [0.1 0.2; 0.3 0.4; 0.5 0.6; 0.7 0.8] \n",
    "    p5 = 1\n",
    "    Y_obs5, predictors5 = prepare_var_data(Y, p5, X5, true)\n",
    "    @test size(Y_obs5) == (3, 2)\n",
    "    @test size(predictors5) == (3, 5)\n",
    "    @test predictors5[1, :] == [1.0, 1.0, 2.0, 0.3, 0.4]\n",
    "    @test predictors5[2, :] == [1.0, 3.0, 4.0, 0.5, 0.6]\n",
    "    @test predictors5[3, :] == [1.0, 5.0, 6.0, 0.7, 0.8]\n",
    "   \n",
    "   \n",
    "\n",
    "    # Test case 6: Error if X has incorrect number of rows\n",
    "    X6 = [0.1, 0.2]\n",
    "    p6 = 1\n",
    "    @test_throws ErrorException prepare_var_data(Y, p6, X6) \n",
    "end"
   ]
  },
  {
   "cell_type": "code",
   "execution_count": 98,
   "id": "9fda4075",
   "metadata": {},
   "outputs": [
    {
     "data": {
      "text/plain": [
       "var_model (generic function with 4 methods)"
      ]
     },
     "metadata": {},
     "output_type": "display_data"
    }
   ],
   "source": [
    "@model function var_model(Y::Matrix{Float64}, predictors::Matrix{Float64}, p::Int, num_exo::Int = 0)\n",
    "    T_eff, num_regressors = size(predictors)\n",
    "    n = size(Y, 2)\n",
    "\n",
    "    # Priors for the coefficients (Normal)\n",
    "    μ_β ~ MvNormal(zeros(num_regressors * n), 5.0 * I(num_regressors * n))    \n",
    "    β = reshape(μ_β, n, num_regressors) # Reshape to n x (pn + k) matrix\n",
    "\n",
    "    # Prior for the covariance matrix (Inverse Wishart)\n",
    "    Σ ~ InverseWishart(T_eff-num_regressors, Matrix(I(n * n)))\n",
    "\n",
    "    # Likelihood\n",
    "    for t in 1:T_eff\n",
    "        #yt = Y[t, :]\n",
    "        xt = predictors[t, :]\n",
    "        Y[t, :] ~ MvNormal(β * xt, Σ)\n",
    "    end\n",
    "\n",
    "    return β, Σ\n",
    "end\n"
   ]
  },
  {
   "cell_type": "code",
   "execution_count": 42,
   "id": "24e042e0",
   "metadata": {},
   "outputs": [],
   "source": [
    "# Example Usage:\n",
    "# Generate some sample data\n",
    "T = 100  # Number of time points\n",
    "n = 2    # Number of variables\n",
    "p = 2    # Number of lags\n",
    "k = 1    # Number of exogenous variables\n",
    "\n",
    "# True parameters (for simulation)\n",
    "true_β_var = [0.5 0.1 -0.2 0.8; 0.3 -0.1 0.2 0.4]\n",
    "true_β_exo = [0.7; -0.5]\n",
    "true_β = hcat(true_β_var, true_β_exo)\n",
    "true_Ω = [1.0 0.2; 0.2 1.5]\n",
    "\n",
    "X = randn(T, k)\n",
    "Y = zeros(T, n)\n",
    "Y[1:p, :] = randn(p, n) # Initialize with random values\n",
    "\n",
    "for t in (p + 1):T\n",
    "    Y_lagged = vec(Y[t-p:t-1, :])\n",
    "    predictors = vcat(Y_lagged, X[t, :])\n",
    "    Y[t, :] = true_β * predictors + rand(MvNormal(zeros(n), true_Ω))\n",
    "end"
   ]
  },
  {
   "cell_type": "code",
   "execution_count": 99,
   "id": "92369d6f",
   "metadata": {},
   "outputs": [
    {
     "ename": "DimensionMismatch",
     "evalue": "DimensionMismatch: The dimensions of mu and Sigma are inconsistent.",
     "output_type": "error",
     "traceback": [
      "DimensionMismatch: The dimensions of mu and Sigma are inconsistent.\n",
      "\n",
      "Stacktrace:\n",
      "  [1] MvNormal\n",
      "    @ C:\\Users\\matsz\\.julia\\packages\\Distributions\\fi8Qd\\src\\multivariate\\mvnormal.jl:186 [inlined]\n",
      "  [2] MvNormal(μ::Vector{Float64}, Σ::Matrix{Float64})\n",
      "    @ Distributions C:\\Users\\matsz\\.julia\\packages\\Distributions\\fi8Qd\\src\\multivariate\\mvnormal.jl:201\n",
      "  [3] var_model(__model__::DynamicPPL.Model{typeof(var_model), (:Y, :predictors, :p, :num_exo), (), (), Tuple{Matrix{Float64}, Matrix{Float64}, Int64, Int64}, Tuple{}, DynamicPPL.DefaultContext}, __varinfo__::DynamicPPL.UntypedVarInfo{DynamicPPL.Metadata{Dict{AbstractPPL.VarName, Int64}, Vector{Distribution}, Vector{AbstractPPL.VarName}, Vector{Real}, Vector{Set{DynamicPPL.Selector}}}, Float64}, __context__::DynamicPPL.DebugUtils.DebugContext{DynamicPPL.Model{typeof(var_model), (:Y, :predictors, :p, :num_exo), (), (), Tuple{Matrix{Float64}, Matrix{Float64}, Int64, Int64}, Tuple{}, DynamicPPL.DefaultContext}, DynamicPPL.SamplingContext{DynamicPPL.SampleFromPrior, DynamicPPL.DefaultContext, TaskLocalRNG}}, Y::Matrix{Float64}, predictors::Matrix{Float64}, p::Int64, num_exo::Int64)\n",
      "    @ Main c:\\Users\\matsz\\programowanie\\Optymalizacja_portfela\\FinancialPlanner\\_wip\\VARs\\jl_notebook_cell_df34fa98e69747e1a8f8a730347b8e2f_W3sZmlsZQ==.jl:16\n",
      "  [4] _evaluate!!\n",
      "    @ C:\\Users\\matsz\\.julia\\packages\\DynamicPPL\\senfM\\src\\model.jl:936 [inlined]\n",
      "  [5] evaluate_threadunsafe!!\n",
      "    @ C:\\Users\\matsz\\.julia\\packages\\DynamicPPL\\senfM\\src\\model.jl:909 [inlined]\n",
      "  [6] check_model_and_trace(rng::TaskLocalRNG, model::DynamicPPL.Model{typeof(var_model), (:Y, :predictors, :p, :num_exo), (), (), Tuple{Matrix{Float64}, Matrix{Float64}, Int64, Int64}, Tuple{}, DynamicPPL.DefaultContext}; varinfo::DynamicPPL.UntypedVarInfo{DynamicPPL.Metadata{Dict{AbstractPPL.VarName, Int64}, Vector{Distribution}, Vector{AbstractPPL.VarName}, Vector{Real}, Vector{Set{DynamicPPL.Selector}}}, Float64}, context::DynamicPPL.SamplingContext{DynamicPPL.SampleFromPrior, DynamicPPL.DefaultContext, TaskLocalRNG}, error_on_failure::Bool, kwargs::@Kwargs{})\n",
      "    @ DynamicPPL.DebugUtils C:\\Users\\matsz\\.julia\\packages\\DynamicPPL\\senfM\\src\\debug_utils.jl:602\n",
      "  [7] check_model_and_trace\n",
      "    @ C:\\Users\\matsz\\.julia\\packages\\DynamicPPL\\senfM\\src\\debug_utils.jl:585 [inlined]\n",
      "  [8] #check_model_and_trace#8\n",
      "    @ C:\\Users\\matsz\\.julia\\packages\\DynamicPPL\\senfM\\src\\debug_utils.jl:583 [inlined]\n",
      "  [9] check_model_and_trace\n",
      "    @ C:\\Users\\matsz\\.julia\\packages\\DynamicPPL\\senfM\\src\\debug_utils.jl:582 [inlined]\n",
      " [10] check_model\n",
      "    @ C:\\Users\\matsz\\.julia\\packages\\DynamicPPL\\senfM\\src\\debug_utils.jl:628 [inlined]\n",
      " [11] _check_model\n",
      "    @ C:\\Users\\matsz\\.julia\\packages\\Turing\\GSvwQ\\src\\mcmc\\Inference.jl:296 [inlined]\n",
      " [12] _check_model\n",
      "    @ C:\\Users\\matsz\\.julia\\packages\\Turing\\GSvwQ\\src\\mcmc\\Inference.jl:299 [inlined]\n",
      " [13] #sample#8\n",
      "    @ C:\\Users\\matsz\\.julia\\packages\\Turing\\GSvwQ\\src\\mcmc\\Inference.jl:320 [inlined]\n",
      " [14] sample\n",
      "    @ C:\\Users\\matsz\\.julia\\packages\\Turing\\GSvwQ\\src\\mcmc\\Inference.jl:312 [inlined]\n",
      " [15] #sample#7\n",
      "    @ C:\\Users\\matsz\\.julia\\packages\\Turing\\GSvwQ\\src\\mcmc\\Inference.jl:309 [inlined]\n",
      " [16] sample(model::DynamicPPL.Model{typeof(var_model), (:Y, :predictors, :p, :num_exo), (), (), Tuple{Matrix{Float64}, Matrix{Float64}, Int64, Int64}, Tuple{}, DynamicPPL.DefaultContext}, alg::NUTS{AutoForwardDiff{nothing, Nothing}, (), AdvancedHMC.DiagEuclideanMetric}, N::Int64)\n",
      "    @ Turing.Inference C:\\Users\\matsz\\.julia\\packages\\Turing\\GSvwQ\\src\\mcmc\\Inference.jl:306\n",
      " [17] top-level scope\n",
      "    @ c:\\Users\\matsz\\programowanie\\Optymalizacja_portfela\\FinancialPlanner\\_wip\\VARs\\jl_notebook_cell_df34fa98e69747e1a8f8a730347b8e2f_W5sZmlsZQ==.jl:3"
     ]
    }
   ],
   "source": [
    "# Sample\n",
    "model = var_model(Y, X, p, k)\n",
    "chain = sample(model, NUTS(), 1000)"
   ]
  },
  {
   "cell_type": "code",
   "execution_count": 97,
   "id": "eabe6a40",
   "metadata": {},
   "outputs": [
    {
     "data": {
      "text/plain": [
       "2×2 Matrix{Float64}:\n",
       " 66.6255  10.3749\n",
       " 10.3749   5.57817"
      ]
     },
     "metadata": {},
     "output_type": "display_data"
    }
   ],
   "source": [
    "i = rand(InverseWishart(4, Matrix(I(2))), 1000)\n",
    "\n",
    "var(i)\n"
   ]
  }
 ],
 "metadata": {
  "kernelspec": {
   "display_name": "Julia 1.11.2",
   "language": "julia",
   "name": "julia-1.11"
  },
  "language_info": {
   "file_extension": ".jl",
   "mimetype": "application/julia",
   "name": "julia",
   "version": "1.11.2"
  }
 },
 "nbformat": 4,
 "nbformat_minor": 5
}
