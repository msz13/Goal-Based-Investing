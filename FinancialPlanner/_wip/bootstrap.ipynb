{
 "cells": [
  {
   "cell_type": "code",
   "execution_count": 1,
   "id": "498578e0",
   "metadata": {},
   "outputs": [
    {
     "name": "stderr",
     "output_type": "stream",
     "text": [
      "\u001b[32m\u001b[1m  Activating\u001b[22m\u001b[39m project at `c:\\Users\\matsz\\programowanie\\Optymalizacja_portfela\\FinancialPlanner`\n"
     ]
    }
   ],
   "source": [
    "import Pkg\n",
    "Pkg.activate(\"../../FinancialPlanner\")"
   ]
  },
  {
   "cell_type": "code",
   "execution_count": 2,
   "id": "5a002d9a",
   "metadata": {},
   "outputs": [],
   "source": [
    "using Revise\n",
    "using Turing\n",
    "using LinearAlgebra\n",
    "using Distributions\n",
    "using Random\n",
    "using StatsPlots\n",
    "using PDMats\n",
    "using StatsBase\n",
    "using Base.Iterators\n",
    "using DataFrames, TimeSeries, XLSX\n",
    "using PrettyTables"
   ]
  },
  {
   "cell_type": "code",
   "execution_count": 3,
   "id": "5b3b5050",
   "metadata": {},
   "outputs": [],
   "source": [
    "include(\"VARs/utils.jl\")\n",
    "includet(\"bootstrap_model.jl\")"
   ]
  },
  {
   "cell_type": "code",
   "execution_count": 4,
   "id": "37e8ad3d",
   "metadata": {},
   "outputs": [
    {
     "data": {
      "text/plain": [
       "872×11 TimeArray{Float64, 2, Date, Matrix{Float64}} 1951-12-01 to 2024-07-01\n",
       "┌────────────┬──────────┬───────────┬─────────────┬──────────┬─────────┬────────\n",
       "│\u001b[1m            \u001b[0m│\u001b[1m Yeld_10Y \u001b[0m│\u001b[1m Price_10Y \u001b[0m│\u001b[1m Stock_Price \u001b[0m│\u001b[1m Dividend \u001b[0m│\u001b[1m E       \u001b[0m│\u001b[1m CAPE \u001b[0m ⋯\n",
       "├────────────┼──────────┼───────────┼─────────────┼──────────┼─────────┼────────\n",
       "│ 1951-12-01 │  0.02513 │   104.098 │       24.19 │  1.41333 │    2.44 │ 12.52 ⋯\n",
       "│ 1952-01-01 │  0.02463 │   104.771 │       23.75 │  1.41667 │ 2.42667 │ 12.36 ⋯\n",
       "│ 1952-02-01 │  0.02617 │   103.585 │       23.81 │     1.42 │ 2.41333 │ 12.36 ⋯\n",
       "│ 1952-03-01 │  0.02505 │   104.824 │       23.74 │     1.43 │     2.4 │ 12.24 ⋯\n",
       "│ 1952-04-01 │  0.02422 │   105.806 │       23.73 │     1.44 │    2.38 │ 12.20 ⋯\n",
       "│ 1952-05-01 │  0.02384 │   106.373 │       24.38 │     1.45 │    2.36 │ 12.44 ⋯\n",
       "│ 1952-06-01 │  0.02415 │   106.295 │       25.08 │     1.45 │    2.34 │ 12.66 ⋯\n",
       "│ 1952-07-01 │  0.02466 │   106.034 │       25.18 │     1.45 │ 2.34667 │ 12.67 ⋯\n",
       "│     ⋮      │    ⋮     │     ⋮     │      ⋮      │    ⋮     │    ⋮    │    ⋮  ⋱\n",
       "│ 2024-01-01 │   0.0399 │   4478.09 │     5011.96 │  70.6511 │ 192.083 │ 33.03 ⋯\n",
       "│ 2024-02-01 │   0.0425 │   4399.56 │     5170.57 │  70.8248 │ 191.737 │ 33.75 ⋯\n",
       "│ 2024-03-01 │    0.042 │   4432.83 │     5112.49 │  71.2085 │  191.39 │ 33.14 ⋯\n",
       "│ 2024-04-01 │   0.0469 │   4277.66 │     5235.23 │  71.5921 │  191.39 │ 33.84 ⋯\n",
       "│ 2024-05-01 │   0.0451 │    4355.4 │     5415.14 │  71.9758 │  191.39 │ 34.95 ⋯\n",
       "│ 2024-06-01 │   0.0436 │   4423.92 │      5538.0 │  71.9758 │  191.39 │ 35.70 ⋯\n",
       "│ 2024-07-01 │   0.0409 │   4536.57 │     5446.68 │  71.9758 │  191.39 │ 35.08 ⋯\n",
       "└────────────┴──────────┴───────────┴─────────────┴──────────┴─────────┴────────\n",
       "\u001b[36m                                                  6 columns and 857 rows omitted\u001b[0m"
      ]
     },
     "metadata": {},
     "output_type": "display_data"
    }
   ],
   "source": [
    "#df = DataFrame(XLSX.readtable(\"../data/usa_world_data.xlsx\", \"Arkusz1\", infer_eltypes=true))\n",
    "df = DataFrame(XLSX.readtable(\"../data/usa_var_data.xlsx\", \"Data\", infer_eltypes=true))\n",
    "data_source = collapse(TimeArray(df; timestamp = :Date), Dates.month, last)"
   ]
  },
  {
   "cell_type": "code",
   "execution_count": 5,
   "id": "781b3faa",
   "metadata": {},
   "outputs": [],
   "source": [
    "#= freq = 12\n",
    "returns = percentchange(data_source[:ACWI_Net, :USA_Net, :Price_10Y, :World_ex_USA, :EM_Net], :log)\n",
    "cpi = percentchange(data_source[:CPI], :log)\n",
    "real_returns = returns .- cpi\n",
    "real_t_bill = log1p.(data_source[:T_Bill])./freq .- cpi\n",
    "#= real_10Y = log1p.(data_source[:Yeld_10Y])./freq .- cpi\n",
    "excess_returns = returns .- log1p.(data_source[:T_Bill]./freq)\n",
    "dy = log.(data_source[:Dividend_Yeld])\n",
    "term = log1p.(data_source[:Yeld_10Y] ./ freq)  .- log1p.(data_source[:T_Bill] ./ freq)\n",
    "term = data_source[:Yeld_10Y]   .- log1p.(data_source[:T_Bill]  =#\n",
    "\n",
    "\n",
    "start = Date(1988, 01,01)\n",
    "end_d = Date(2024, 12, 31)\n",
    "\n",
    "\n",
    "display(\"Returns\")\n",
    "display(returns_summarystats(to(from(returns, start),end_d), freq))\n",
    "display(\"Real_returns\")\n",
    "display(returns_summarystats(to(from(real_returns, start),end_d), freq))\n",
    "#= display(\"Excess_returns\")\n",
    "display(returns_summarystats(to(from(excess_returns, start),end_d), freq)) =#\n",
    "\n",
    "display(\"Correlations\")\n",
    "display(cor(values(to(from(real_returns, start),end_d))))  =#"
   ]
  },
  {
   "cell_type": "code",
   "execution_count": 11,
   "id": "6d531a3d",
   "metadata": {},
   "outputs": [
    {
     "data": {
      "text/plain": [
       "\"Returns\""
      ]
     },
     "metadata": {},
     "output_type": "display_data"
    },
    {
     "data": {
      "text/html": [
       "<table>\n",
       "  <thead>\n",
       "    <tr class = \"header headerLastRow\">\n",
       "      <th class = \"rowLabel\" style = \"font-weight: bold; text-align: right;\"></th>\n",
       "      <th style = \"text-align: right;\">std</th>\n",
       "      <th style = \"text-align: right;\">max</th>\n",
       "      <th style = \"text-align: right;\">mean</th>\n",
       "      <th style = \"text-align: right;\">p75th</th>\n",
       "      <th style = \"text-align: right;\">min</th>\n",
       "      <th style = \"text-align: right;\">skewness</th>\n",
       "      <th style = \"text-align: right;\">p25th</th>\n",
       "      <th style = \"text-align: right;\">autocor</th>\n",
       "      <th style = \"text-align: right;\">kurtosis</th>\n",
       "      <th style = \"text-align: right;\">sr</th>\n",
       "      <th style = \"text-align: right;\">median</th>\n",
       "    </tr>\n",
       "  </thead>\n",
       "  <tbody>\n",
       "    <tr>\n",
       "      <td class = \"rowLabel\" style = \"font-weight: bold; text-align: right;\">Total_Stock</td>\n",
       "      <td style = \"text-align: right;\">0.1275</td>\n",
       "      <td style = \"text-align: right;\">1.3903</td>\n",
       "      <td style = \"text-align: right;\">0.107</td>\n",
       "      <td style = \"text-align: right;\">0.3744</td>\n",
       "      <td style = \"text-align: right;\">-2.6994</td>\n",
       "      <td style = \"text-align: right;\">-1.2795</td>\n",
       "      <td style = \"text-align: right;\">-0.0945</td>\n",
       "      <td style = \"text-align: right;\">0.2222</td>\n",
       "      <td style = \"text-align: right;\">5.5086</td>\n",
       "      <td style = \"text-align: right;\">0.8393</td>\n",
       "      <td style = \"text-align: right;\">0.1432</td>\n",
       "    </tr>\n",
       "    <tr>\n",
       "      <td class = \"rowLabel\" style = \"font-weight: bold; text-align: right;\">Price_10Y</td>\n",
       "      <td style = \"text-align: right;\">0.0817</td>\n",
       "      <td style = \"text-align: right;\">1.3969</td>\n",
       "      <td style = \"text-align: right;\">0.0623</td>\n",
       "      <td style = \"text-align: right;\">0.224</td>\n",
       "      <td style = \"text-align: right;\">-0.9866</td>\n",
       "      <td style = \"text-align: right;\">0.2076</td>\n",
       "      <td style = \"text-align: right;\">-0.0999</td>\n",
       "      <td style = \"text-align: right;\">0.1187</td>\n",
       "      <td style = \"text-align: right;\">1.5372</td>\n",
       "      <td style = \"text-align: right;\">0.763</td>\n",
       "      <td style = \"text-align: right;\">0.0494</td>\n",
       "    </tr>\n",
       "  </tbody>\n",
       "</table>\n"
      ]
     },
     "metadata": {},
     "output_type": "display_data"
    },
    {
     "data": {
      "text/plain": [
       "nothing"
      ]
     },
     "metadata": {},
     "output_type": "display_data"
    },
    {
     "data": {
      "text/plain": [
       "\"Real_returns\""
      ]
     },
     "metadata": {},
     "output_type": "display_data"
    },
    {
     "data": {
      "text/html": [
       "<table>\n",
       "  <thead>\n",
       "    <tr class = \"header headerLastRow\">\n",
       "      <th class = \"rowLabel\" style = \"font-weight: bold; text-align: right;\"></th>\n",
       "      <th style = \"text-align: right;\">std</th>\n",
       "      <th style = \"text-align: right;\">max</th>\n",
       "      <th style = \"text-align: right;\">mean</th>\n",
       "      <th style = \"text-align: right;\">p75th</th>\n",
       "      <th style = \"text-align: right;\">min</th>\n",
       "      <th style = \"text-align: right;\">skewness</th>\n",
       "      <th style = \"text-align: right;\">p25th</th>\n",
       "      <th style = \"text-align: right;\">autocor</th>\n",
       "      <th style = \"text-align: right;\">kurtosis</th>\n",
       "      <th style = \"text-align: right;\">sr</th>\n",
       "      <th style = \"text-align: right;\">median</th>\n",
       "    </tr>\n",
       "  </thead>\n",
       "  <tbody>\n",
       "    <tr>\n",
       "      <td class = \"rowLabel\" style = \"font-weight: bold; text-align: right;\">Total_Stock_CPI</td>\n",
       "      <td style = \"text-align: right;\">0.1284</td>\n",
       "      <td style = \"text-align: right;\">1.3604</td>\n",
       "      <td style = \"text-align: right;\">0.0693</td>\n",
       "      <td style = \"text-align: right;\">0.3413</td>\n",
       "      <td style = \"text-align: right;\">-2.5776</td>\n",
       "      <td style = \"text-align: right;\">-1.1894</td>\n",
       "      <td style = \"text-align: right;\">-0.1274</td>\n",
       "      <td style = \"text-align: right;\">0.2229</td>\n",
       "      <td style = \"text-align: right;\">4.7154</td>\n",
       "      <td style = \"text-align: right;\">0.5394</td>\n",
       "      <td style = \"text-align: right;\">0.1041</td>\n",
       "    </tr>\n",
       "    <tr>\n",
       "      <td class = \"rowLabel\" style = \"font-weight: bold; text-align: right;\">Price_10Y_CPI</td>\n",
       "      <td style = \"text-align: right;\">0.0847</td>\n",
       "      <td style = \"text-align: right;\">1.279</td>\n",
       "      <td style = \"text-align: right;\">0.0246</td>\n",
       "      <td style = \"text-align: right;\">0.1927</td>\n",
       "      <td style = \"text-align: right;\">-1.1677</td>\n",
       "      <td style = \"text-align: right;\">0.1548</td>\n",
       "      <td style = \"text-align: right;\">-0.1582</td>\n",
       "      <td style = \"text-align: right;\">0.1652</td>\n",
       "      <td style = \"text-align: right;\">1.5452</td>\n",
       "      <td style = \"text-align: right;\">0.2903</td>\n",
       "      <td style = \"text-align: right;\">0.0184</td>\n",
       "    </tr>\n",
       "  </tbody>\n",
       "</table>\n"
      ]
     },
     "metadata": {},
     "output_type": "display_data"
    },
    {
     "data": {
      "text/plain": [
       "nothing"
      ]
     },
     "metadata": {},
     "output_type": "display_data"
    },
    {
     "data": {
      "text/plain": [
       "\"Excess_returns\""
      ]
     },
     "metadata": {},
     "output_type": "display_data"
    },
    {
     "data": {
      "text/html": [
       "<table>\n",
       "  <thead>\n",
       "    <tr class = \"header headerLastRow\">\n",
       "      <th class = \"rowLabel\" style = \"font-weight: bold; text-align: right;\"></th>\n",
       "      <th style = \"text-align: right;\">std</th>\n",
       "      <th style = \"text-align: right;\">max</th>\n",
       "      <th style = \"text-align: right;\">mean</th>\n",
       "      <th style = \"text-align: right;\">p75th</th>\n",
       "      <th style = \"text-align: right;\">min</th>\n",
       "      <th style = \"text-align: right;\">skewness</th>\n",
       "      <th style = \"text-align: right;\">p25th</th>\n",
       "      <th style = \"text-align: right;\">autocor</th>\n",
       "      <th style = \"text-align: right;\">kurtosis</th>\n",
       "      <th style = \"text-align: right;\">sr</th>\n",
       "      <th style = \"text-align: right;\">median</th>\n",
       "    </tr>\n",
       "  </thead>\n",
       "  <tbody>\n",
       "    <tr>\n",
       "      <td class = \"rowLabel\" style = \"font-weight: bold; text-align: right;\">Total_Stock_T_Bill</td>\n",
       "      <td style = \"text-align: right;\">0.1279</td>\n",
       "      <td style = \"text-align: right;\">1.3882</td>\n",
       "      <td style = \"text-align: right;\">0.0634</td>\n",
       "      <td style = \"text-align: right;\">0.3345</td>\n",
       "      <td style = \"text-align: right;\">-2.7107</td>\n",
       "      <td style = \"text-align: right;\">-1.2674</td>\n",
       "      <td style = \"text-align: right;\">-0.1381</td>\n",
       "      <td style = \"text-align: right;\">0.2256</td>\n",
       "      <td style = \"text-align: right;\">5.2627</td>\n",
       "      <td style = \"text-align: right;\">0.496</td>\n",
       "      <td style = \"text-align: right;\">0.1047</td>\n",
       "    </tr>\n",
       "    <tr>\n",
       "      <td class = \"rowLabel\" style = \"font-weight: bold; text-align: right;\">Price_10Y_T_Bill</td>\n",
       "      <td style = \"text-align: right;\">0.0815</td>\n",
       "      <td style = \"text-align: right;\">1.2656</td>\n",
       "      <td style = \"text-align: right;\">0.0188</td>\n",
       "      <td style = \"text-align: right;\">0.1865</td>\n",
       "      <td style = \"text-align: right;\">-1.1145</td>\n",
       "      <td style = \"text-align: right;\">0.0905</td>\n",
       "      <td style = \"text-align: right;\">-0.1602</td>\n",
       "      <td style = \"text-align: right;\">0.1157</td>\n",
       "      <td style = \"text-align: right;\">1.4351</td>\n",
       "      <td style = \"text-align: right;\">0.2303</td>\n",
       "      <td style = \"text-align: right;\">0.0215</td>\n",
       "    </tr>\n",
       "  </tbody>\n",
       "</table>\n"
      ]
     },
     "metadata": {},
     "output_type": "display_data"
    },
    {
     "data": {
      "text/plain": [
       "nothing"
      ]
     },
     "metadata": {},
     "output_type": "display_data"
    },
    {
     "data": {
      "text/plain": [
       "\"Correlations\""
      ]
     },
     "metadata": {},
     "output_type": "display_data"
    },
    {
     "data": {
      "text/plain": [
       "2×2 Matrix{Float64}:\n",
       " 1.0       0.182282\n",
       " 0.182282  1.0"
      ]
     },
     "metadata": {},
     "output_type": "display_data"
    }
   ],
   "source": [
    "freq = 12\n",
    "returns = percentchange(data_source[:Total_Stock, :Price_10Y], :log)\n",
    "cpi = percentchange(data_source[:CPI], :log)\n",
    "real_returns = returns .- cpi\n",
    "real_t_bill = log1p.(data_source[:T_Bill])./freq .- cpi\n",
    "excess_returns = returns .- log1p.(data_source[:T_Bill]./freq)\n",
    "yeld_diff = diff(data_source[:Yeld_10Y])\n",
    "start = Date(1974, 01,01)\n",
    "end_d = Date(2024, 12, 31)\n",
    "\n",
    "\n",
    "display(\"Returns\")\n",
    "display(returns_summarystats(to(from(returns, start),end_d), freq))\n",
    "display(\"Real_returns\")\n",
    "display(returns_summarystats(to(from(real_returns, start),end_d), freq))\n",
    "display(\"Excess_returns\")\n",
    "display(returns_summarystats(to(from(excess_returns, start),end_d), freq)) \n",
    "\n",
    "display(\"Correlations\")\n",
    "display(cor(values(to(from(real_returns, start),end_d)))) "
   ]
  },
  {
   "cell_type": "code",
   "execution_count": 15,
   "id": "0c5f8f12",
   "metadata": {},
   "outputs": [
    {
     "data": {
      "text/html": [
       "<table>\n",
       "  <thead>\n",
       "    <tr class = \"header headerLastRow\">\n",
       "      <th class = \"rowLabel\" style = \"font-weight: bold; text-align: right;\"></th>\n",
       "      <th style = \"text-align: right;\">std</th>\n",
       "      <th style = \"text-align: right;\">max</th>\n",
       "      <th style = \"text-align: right;\">mean</th>\n",
       "      <th style = \"text-align: right;\">p75th</th>\n",
       "      <th style = \"text-align: right;\">min</th>\n",
       "      <th style = \"text-align: right;\">skewness</th>\n",
       "      <th style = \"text-align: right;\">p25th</th>\n",
       "      <th style = \"text-align: right;\">autocor</th>\n",
       "      <th style = \"text-align: right;\">kurtosis</th>\n",
       "      <th style = \"text-align: right;\">sr</th>\n",
       "      <th style = \"text-align: right;\">median</th>\n",
       "    </tr>\n",
       "  </thead>\n",
       "  <tbody>\n",
       "    <tr>\n",
       "      <td class = \"rowLabel\" style = \"font-weight: bold; text-align: right;\">Yeld_10Y</td>\n",
       "      <td style = \"text-align: right;\">0.0034</td>\n",
       "      <td style = \"text-align: right;\">0.0159</td>\n",
       "      <td style = \"text-align: right;\">-0.0</td>\n",
       "      <td style = \"text-align: right;\">0.0018</td>\n",
       "      <td style = \"text-align: right;\">-0.0188</td>\n",
       "      <td style = \"text-align: right;\">-0.2394</td>\n",
       "      <td style = \"text-align: right;\">-0.0018</td>\n",
       "      <td style = \"text-align: right;\">0.1197</td>\n",
       "      <td style = \"text-align: right;\">3.4024</td>\n",
       "      <td style = \"text-align: right;\">-0.0136</td>\n",
       "      <td style = \"text-align: right;\">0.0</td>\n",
       "    </tr>\n",
       "  </tbody>\n",
       "</table>\n"
      ]
     },
     "metadata": {},
     "output_type": "display_data"
    },
    {
     "data": {
      "text/plain": [
       "nothing"
      ]
     },
     "metadata": {},
     "output_type": "display_data"
    }
   ],
   "source": [
    "display(returns_summarystats(to(from(yeld_diff, start),end_d),1))"
   ]
  },
  {
   "cell_type": "markdown",
   "id": "e86cf189",
   "metadata": {},
   "source": [
    "### Stationary bootstrap\n",
    "- get singe block\n",
    "- get multople blocs with static length\n",
    "- get single blocs with random lengt\n",
    "- get random block length\n",
    "- gent random block lengt when, lengt is greater when left length"
   ]
  },
  {
   "cell_type": "code",
   "execution_count": 7,
   "id": "9da73a33",
   "metadata": {},
   "outputs": [
    {
     "data": {
      "text/plain": [
       "607×2 TimeArray{Float64, 2, Date, Matrix{Float64}} 1974-01-01 to 2024-07-01\n",
       "┌────────────┬────────────────────┬──────────────────┐\n",
       "│\u001b[1m            \u001b[0m│\u001b[1m Total_Stock_T_Bill \u001b[0m│\u001b[1m Price_10Y_T_Bill \u001b[0m│\n",
       "├────────────┼────────────────────┼──────────────────┤\n",
       "│ 1974-01-01 │         -0.0313893 │      -0.00776991 │\n",
       "│ 1974-02-01 │           0.038712 │     -0.000801741 │\n",
       "│ 1974-03-01 │         -0.0557911 │       -0.0287593 │\n",
       "│ 1974-04-01 │         -0.0342284 │       -0.0179532 │\n",
       "│ 1974-05-01 │        -0.00225885 │       0.00908475 │\n",
       "│ 1974-06-01 │          -0.126481 │      -0.00853625 │\n",
       "│ 1974-07-01 │         -0.0444461 │       -0.0169384 │\n",
       "│ 1974-08-01 │          -0.112406 │       -0.0156933 │\n",
       "│     ⋮      │         ⋮          │        ⋮         │\n",
       "│ 2024-01-01 │          0.0367513 │       -0.0100599 │\n",
       "│ 2024-02-01 │          0.0279047 │       -0.0220494 │\n",
       "│ 2024-03-01 │         -0.0144803 │       0.00317747 │\n",
       "│ 2024-04-01 │          0.0204779 │       -0.0399888 │\n",
       "│ 2024-05-01 │          0.0304937 │        0.0136451 │\n",
       "│ 2024-06-01 │          0.0191367 │        0.0112514 │\n",
       "│ 2024-07-01 │         -0.0198329 │        0.0208206 │\n",
       "└────────────┴────────────────────┴──────────────────┘\n",
       "\u001b[36m                                      592 rows omitted\u001b[0m"
      ]
     },
     "metadata": {},
     "output_type": "display_data"
    }
   ],
   "source": [
    "#assets_names = [:USA_Net_CPI, :Price_10Y_CPI, :World_ex_USA_CPI, :EM_Net_CPI]\n",
    "#assets_names = [:Total_Stock_CPI, :Price_10Y_CPI]\n",
    "assets_names = [:Total_Stock_T_Bill, :Price_10Y_T_Bill]\n",
    "#data = to(from(real_returns[assets_names], start),end_d) \n",
    "data = to(from(excess_returns[assets_names], start),end_d) "
   ]
  },
  {
   "cell_type": "code",
   "execution_count": 8,
   "id": "a704e75f",
   "metadata": {},
   "outputs": [
    {
     "data": {
      "text/html": [
       "<table>\n",
       "  <caption style = \"text-align: left;\">Means</caption>\n",
       "  <thead>\n",
       "    <tr class = \"header headerLastRow\">\n",
       "      <th class = \"rowLabel\" style = \"font-weight: bold; text-align: right;\"></th>\n",
       "      <th style = \"text-align: right;\">Total_Stock_T_Bill</th>\n",
       "      <th style = \"text-align: right;\">Price_10Y_T_Bill</th>\n",
       "    </tr>\n",
       "  </thead>\n",
       "  <tbody>\n",
       "    <tr>\n",
       "      <td class = \"rowLabel\" style = \"font-weight: bold; text-align: right;\">1</td>\n",
       "      <td style = \"text-align: right;\">0.0616</td>\n",
       "      <td style = \"text-align: right;\">0.0286</td>\n",
       "    </tr>\n",
       "    <tr>\n",
       "      <td class = \"rowLabel\" style = \"font-weight: bold; text-align: right;\">5</td>\n",
       "      <td style = \"text-align: right;\">0.064</td>\n",
       "      <td style = \"text-align: right;\">0.0258</td>\n",
       "    </tr>\n",
       "    <tr>\n",
       "      <td class = \"rowLabel\" style = \"font-weight: bold; text-align: right;\">15</td>\n",
       "      <td style = \"text-align: right;\">0.0672</td>\n",
       "      <td style = \"text-align: right;\">0.0258</td>\n",
       "    </tr>\n",
       "    <tr>\n",
       "      <td class = \"rowLabel\" style = \"font-weight: bold; text-align: right;\">25</td>\n",
       "      <td style = \"text-align: right;\">0.0679</td>\n",
       "      <td style = \"text-align: right;\">0.0257</td>\n",
       "    </tr>\n",
       "  </tbody>\n",
       "</table>\n"
      ]
     },
     "metadata": {},
     "output_type": "display_data"
    },
    {
     "data": {
      "text/html": [
       "<table>\n",
       "  <caption style = \"text-align: left;\">Standard devations</caption>\n",
       "  <thead>\n",
       "    <tr class = \"header headerLastRow\">\n",
       "      <th class = \"rowLabel\" style = \"font-weight: bold; text-align: right;\"></th>\n",
       "      <th style = \"text-align: right;\">Total_Stock_T_Bill</th>\n",
       "      <th style = \"text-align: right;\">Price_10Y_T_Bill</th>\n",
       "    </tr>\n",
       "  </thead>\n",
       "  <tbody>\n",
       "    <tr>\n",
       "      <td class = \"rowLabel\" style = \"font-weight: bold; text-align: right;\">1</td>\n",
       "      <td style = \"text-align: right;\">0.1517</td>\n",
       "      <td style = \"text-align: right;\">0.0841</td>\n",
       "    </tr>\n",
       "    <tr>\n",
       "      <td class = \"rowLabel\" style = \"font-weight: bold; text-align: right;\">5</td>\n",
       "      <td style = \"text-align: right;\">0.0651</td>\n",
       "      <td style = \"text-align: right;\">0.0358</td>\n",
       "    </tr>\n",
       "    <tr>\n",
       "      <td class = \"rowLabel\" style = \"font-weight: bold; text-align: right;\">15</td>\n",
       "      <td style = \"text-align: right;\">0.0352</td>\n",
       "      <td style = \"text-align: right;\">0.019</td>\n",
       "    </tr>\n",
       "    <tr>\n",
       "      <td class = \"rowLabel\" style = \"font-weight: bold; text-align: right;\">25</td>\n",
       "      <td style = \"text-align: right;\">0.0262</td>\n",
       "      <td style = \"text-align: right;\">0.0146</td>\n",
       "    </tr>\n",
       "  </tbody>\n",
       "</table>\n"
      ]
     },
     "metadata": {},
     "output_type": "display_data"
    },
    {
     "data": {
      "text/html": [
       "<table>\n",
       "  <caption style = \"text-align: left;\">Skewness</caption>\n",
       "  <thead>\n",
       "    <tr class = \"header headerLastRow\">\n",
       "      <th class = \"rowLabel\" style = \"font-weight: bold; text-align: right;\"></th>\n",
       "      <th style = \"text-align: right;\">Total_Stock_T_Bill</th>\n",
       "      <th style = \"text-align: right;\">Price_10Y_T_Bill</th>\n",
       "    </tr>\n",
       "  </thead>\n",
       "  <tbody>\n",
       "    <tr>\n",
       "      <td class = \"rowLabel\" style = \"font-weight: bold; text-align: right;\">1</td>\n",
       "      <td style = \"text-align: right;\">-1.0184</td>\n",
       "      <td style = \"text-align: right;\">0.0231</td>\n",
       "    </tr>\n",
       "    <tr>\n",
       "      <td class = \"rowLabel\" style = \"font-weight: bold; text-align: right;\">5</td>\n",
       "      <td style = \"text-align: right;\">-0.35</td>\n",
       "      <td style = \"text-align: right;\">-0.57</td>\n",
       "    </tr>\n",
       "    <tr>\n",
       "      <td class = \"rowLabel\" style = \"font-weight: bold; text-align: right;\">15</td>\n",
       "      <td style = \"text-align: right;\">-0.2782</td>\n",
       "      <td style = \"text-align: right;\">-0.4108</td>\n",
       "    </tr>\n",
       "    <tr>\n",
       "      <td class = \"rowLabel\" style = \"font-weight: bold; text-align: right;\">25</td>\n",
       "      <td style = \"text-align: right;\">-0.1787</td>\n",
       "      <td style = \"text-align: right;\">-0.3617</td>\n",
       "    </tr>\n",
       "  </tbody>\n",
       "</table>\n"
      ]
     },
     "metadata": {},
     "output_type": "display_data"
    },
    {
     "data": {
      "text/html": [
       "<table>\n",
       "  <caption style = \"text-align: left;\">Kurtosis</caption>\n",
       "  <thead>\n",
       "    <tr class = \"header headerLastRow\">\n",
       "      <th class = \"rowLabel\" style = \"font-weight: bold; text-align: right;\"></th>\n",
       "      <th style = \"text-align: right;\">Total_Stock_T_Bill</th>\n",
       "      <th style = \"text-align: right;\">Price_10Y_T_Bill</th>\n",
       "    </tr>\n",
       "  </thead>\n",
       "  <tbody>\n",
       "    <tr>\n",
       "      <td class = \"rowLabel\" style = \"font-weight: bold; text-align: right;\">1</td>\n",
       "      <td style = \"text-align: right;\">1.6439</td>\n",
       "      <td style = \"text-align: right;\">0.4165</td>\n",
       "    </tr>\n",
       "    <tr>\n",
       "      <td class = \"rowLabel\" style = \"font-weight: bold; text-align: right;\">5</td>\n",
       "      <td style = \"text-align: right;\">-0.2647</td>\n",
       "      <td style = \"text-align: right;\">0.962</td>\n",
       "    </tr>\n",
       "    <tr>\n",
       "      <td class = \"rowLabel\" style = \"font-weight: bold; text-align: right;\">15</td>\n",
       "      <td style = \"text-align: right;\">0.0119</td>\n",
       "      <td style = \"text-align: right;\">0.2717</td>\n",
       "    </tr>\n",
       "    <tr>\n",
       "      <td class = \"rowLabel\" style = \"font-weight: bold; text-align: right;\">25</td>\n",
       "      <td style = \"text-align: right;\">-0.0189</td>\n",
       "      <td style = \"text-align: right;\">0.2263</td>\n",
       "    </tr>\n",
       "  </tbody>\n",
       "</table>\n"
      ]
     },
     "metadata": {},
     "output_type": "display_data"
    },
    {
     "data": {
      "text/html": [
       "<table>\n",
       "  <caption style = \"text-align: left;\">Total_Stock_T_Bill</caption>\n",
       "  <thead>\n",
       "    <tr class = \"header headerLastRow\">\n",
       "      <th class = \"rowLabel\" style = \"font-weight: bold; text-align: right;\"></th>\n",
       "      <th style = \"text-align: right;\">0.01</th>\n",
       "      <th style = \"text-align: right;\">0.025</th>\n",
       "      <th style = \"text-align: right;\">0.05</th>\n",
       "      <th style = \"text-align: right;\">0.25</th>\n",
       "      <th style = \"text-align: right;\">0.5</th>\n",
       "      <th style = \"text-align: right;\">0.75</th>\n",
       "      <th style = \"text-align: right;\">0.95</th>\n",
       "      <th style = \"text-align: right;\">0.975</th>\n",
       "      <th style = \"text-align: right;\">0.99</th>\n",
       "    </tr>\n",
       "  </thead>\n",
       "  <tbody>\n",
       "    <tr>\n",
       "      <td class = \"rowLabel\" style = \"font-weight: bold; text-align: right;\">1</td>\n",
       "      <td style = \"text-align: right;\">-0.4594</td>\n",
       "      <td style = \"text-align: right;\">-0.2863</td>\n",
       "      <td style = \"text-align: right;\">-0.2344</td>\n",
       "      <td style = \"text-align: right;\">-0.0075</td>\n",
       "      <td style = \"text-align: right;\">0.0824</td>\n",
       "      <td style = \"text-align: right;\">0.1652</td>\n",
       "      <td style = \"text-align: right;\">0.2592</td>\n",
       "      <td style = \"text-align: right;\">0.2897</td>\n",
       "      <td style = \"text-align: right;\">0.3551</td>\n",
       "    </tr>\n",
       "    <tr>\n",
       "      <td class = \"rowLabel\" style = \"font-weight: bold; text-align: right;\">5</td>\n",
       "      <td style = \"text-align: right;\">-0.0921</td>\n",
       "      <td style = \"text-align: right;\">-0.0674</td>\n",
       "      <td style = \"text-align: right;\">-0.0489</td>\n",
       "      <td style = \"text-align: right;\">0.0202</td>\n",
       "      <td style = \"text-align: right;\">0.0694</td>\n",
       "      <td style = \"text-align: right;\">0.1127</td>\n",
       "      <td style = \"text-align: right;\">0.1611</td>\n",
       "      <td style = \"text-align: right;\">0.1759</td>\n",
       "      <td style = \"text-align: right;\">0.1891</td>\n",
       "    </tr>\n",
       "    <tr>\n",
       "      <td class = \"rowLabel\" style = \"font-weight: bold; text-align: right;\">15</td>\n",
       "      <td style = \"text-align: right;\">-0.0215</td>\n",
       "      <td style = \"text-align: right;\">-0.0059</td>\n",
       "      <td style = \"text-align: right;\">0.007</td>\n",
       "      <td style = \"text-align: right;\">0.0444</td>\n",
       "      <td style = \"text-align: right;\">0.0685</td>\n",
       "      <td style = \"text-align: right;\">0.092</td>\n",
       "      <td style = \"text-align: right;\">0.1222</td>\n",
       "      <td style = \"text-align: right;\">0.131</td>\n",
       "      <td style = \"text-align: right;\">0.1394</td>\n",
       "    </tr>\n",
       "    <tr>\n",
       "      <td class = \"rowLabel\" style = \"font-weight: bold; text-align: right;\">25</td>\n",
       "      <td style = \"text-align: right;\">0.0035</td>\n",
       "      <td style = \"text-align: right;\">0.0139</td>\n",
       "      <td style = \"text-align: right;\">0.0232</td>\n",
       "      <td style = \"text-align: right;\">0.0508</td>\n",
       "      <td style = \"text-align: right;\">0.0687</td>\n",
       "      <td style = \"text-align: right;\">0.086</td>\n",
       "      <td style = \"text-align: right;\">0.1098</td>\n",
       "      <td style = \"text-align: right;\">0.117</td>\n",
       "      <td style = \"text-align: right;\">0.1253</td>\n",
       "    </tr>\n",
       "  </tbody>\n",
       "</table>\n"
      ]
     },
     "metadata": {},
     "output_type": "display_data"
    },
    {
     "data": {
      "text/html": [
       "<table>\n",
       "  <caption style = \"text-align: left;\">Price_10Y_T_Bill</caption>\n",
       "  <thead>\n",
       "    <tr class = \"header headerLastRow\">\n",
       "      <th class = \"rowLabel\" style = \"font-weight: bold; text-align: right;\"></th>\n",
       "      <th style = \"text-align: right;\">0.01</th>\n",
       "      <th style = \"text-align: right;\">0.025</th>\n",
       "      <th style = \"text-align: right;\">0.05</th>\n",
       "      <th style = \"text-align: right;\">0.25</th>\n",
       "      <th style = \"text-align: right;\">0.5</th>\n",
       "      <th style = \"text-align: right;\">0.75</th>\n",
       "      <th style = \"text-align: right;\">0.95</th>\n",
       "      <th style = \"text-align: right;\">0.975</th>\n",
       "      <th style = \"text-align: right;\">0.99</th>\n",
       "    </tr>\n",
       "  </thead>\n",
       "  <tbody>\n",
       "    <tr>\n",
       "      <td class = \"rowLabel\" style = \"font-weight: bold; text-align: right;\">1</td>\n",
       "      <td style = \"text-align: right;\">-0.1891</td>\n",
       "      <td style = \"text-align: right;\">-0.1339</td>\n",
       "      <td style = \"text-align: right;\">-0.1049</td>\n",
       "      <td style = \"text-align: right;\">-0.029</td>\n",
       "      <td style = \"text-align: right;\">0.0305</td>\n",
       "      <td style = \"text-align: right;\">0.0803</td>\n",
       "      <td style = \"text-align: right;\">0.1645</td>\n",
       "      <td style = \"text-align: right;\">0.2134</td>\n",
       "      <td style = \"text-align: right;\">0.237</td>\n",
       "    </tr>\n",
       "    <tr>\n",
       "      <td class = \"rowLabel\" style = \"font-weight: bold; text-align: right;\">5</td>\n",
       "      <td style = \"text-align: right;\">-0.0784</td>\n",
       "      <td style = \"text-align: right;\">-0.0636</td>\n",
       "      <td style = \"text-align: right;\">-0.0422</td>\n",
       "      <td style = \"text-align: right;\">0.0089</td>\n",
       "      <td style = \"text-align: right;\">0.0292</td>\n",
       "      <td style = \"text-align: right;\">0.048</td>\n",
       "      <td style = \"text-align: right;\">0.0789</td>\n",
       "      <td style = \"text-align: right;\">0.0909</td>\n",
       "      <td style = \"text-align: right;\">0.1075</td>\n",
       "    </tr>\n",
       "    <tr>\n",
       "      <td class = \"rowLabel\" style = \"font-weight: bold; text-align: right;\">15</td>\n",
       "      <td style = \"text-align: right;\">-0.0237</td>\n",
       "      <td style = \"text-align: right;\">-0.0154</td>\n",
       "      <td style = \"text-align: right;\">-0.0078</td>\n",
       "      <td style = \"text-align: right;\">0.0135</td>\n",
       "      <td style = \"text-align: right;\">0.028</td>\n",
       "      <td style = \"text-align: right;\">0.0389</td>\n",
       "      <td style = \"text-align: right;\">0.054</td>\n",
       "      <td style = \"text-align: right;\">0.0596</td>\n",
       "      <td style = \"text-align: right;\">0.0651</td>\n",
       "    </tr>\n",
       "    <tr>\n",
       "      <td class = \"rowLabel\" style = \"font-weight: bold; text-align: right;\">25</td>\n",
       "      <td style = \"text-align: right;\">-0.012</td>\n",
       "      <td style = \"text-align: right;\">-0.0056</td>\n",
       "      <td style = \"text-align: right;\">-0.0003</td>\n",
       "      <td style = \"text-align: right;\">0.0166</td>\n",
       "      <td style = \"text-align: right;\">0.0267</td>\n",
       "      <td style = \"text-align: right;\">0.036</td>\n",
       "      <td style = \"text-align: right;\">0.0476</td>\n",
       "      <td style = \"text-align: right;\">0.0518</td>\n",
       "      <td style = \"text-align: right;\">0.0563</td>\n",
       "    </tr>\n",
       "  </tbody>\n",
       "</table>\n"
      ]
     },
     "metadata": {},
     "output_type": "display_data"
    }
   ],
   "source": [
    "scenarios = block_bootstrap(values(data), 10_000; block_size=60, random_block=true)\n",
    "periods = [1,5, 15, 25]\n",
    "ret_in_years = cum_returns_in_periods(scenarios, periods, freq, true)\n",
    "print_scenarios_summary(ret_in_years, assets_names, string.(periods))\n",
    "n_assets = length(assets_names)\n",
    "for a in 1:n_assets\n",
    "    print_scenarios_percentiles(ret_in_years[a, :, :], [.01, .025, .05, .25, .5, .75, .95, .975, .99], string.(periods), string.(assets_names[a]))\n",
    "end  "
   ]
  },
  {
   "cell_type": "markdown",
   "id": "1422787e",
   "metadata": {},
   "source": [
    "Total_Stock_CPI\n",
    "0.01\t0.025\t0.05\t0.25\t0.5\t0.75\t0.95\t0.975\t0.99\n",
    "1\t-0.3984\t-0.2858\t-0.2207\t-0.0164\t0.084\t0.171\t0.2888\t0.3312\t0.377\n",
    "5\t-0.0938\t-0.0735\t-0.0533\t0.0156\t0.0759\t0.1147\t0.1759\t0.1916\t0.2098\n",
    "15\t-0.0292\t-0.015\t-0.0038\t0.0376\t0.0676\t0.0946\t0.1272\t0.1367\t0.1485\n",
    "25\t-0.0093\t0.0031\t0.0124\t0.0446\t0.0661\t0.0867\t0.1136\t0.1216\t0.1308\n",
    "Price_10Y_CPI\n",
    "0.01\t0.025\t0.05\t0.25\t0.5\t0.75\t0.95\t0.975\t0.99\n",
    "1\t-0.1618\t-0.1266\t-0.1007\t-0.0334\t0.0171\t0.0727\t0.1473\t0.2179\t0.2843\n",
    "5\t-0.0752\t-0.0602\t-0.0411\t-0.0038\t0.0194\t0.0463\t0.0892\t0.105\t0.1359\n",
    "15\t-0.0327\t-0.0248\t-0.018\t0.0028\t0.0205\t0.0383\t0.0636\t0.0727\t0.0818\n",
    "25\t-0.022\t-0.0164\t-0.011\t0.0066\t0.0203\t0.0346\t0.0545\t0.0607\t0.069\n"
   ]
  },
  {
   "cell_type": "code",
   "execution_count": 9,
   "id": "fbc54f81",
   "metadata": {},
   "outputs": [
    {
     "data": {
      "text/plain": [
       "5-element Vector{Float64}:\n",
       "   0.0\n",
       "  16.0\n",
       "  40.0\n",
       "  81.0\n",
       " 637.0"
      ]
     },
     "metadata": {},
     "output_type": "display_data"
    }
   ],
   "source": [
    "quantile(rand(Geometric(1/60), 10_000), [0., .25, .5, .75, 1.])"
   ]
  },
  {
   "cell_type": "markdown",
   "id": "1191a61d",
   "metadata": {},
   "source": [
    "gdy data length 120\n",
    "n_steps = 60\n",
    "stsrt_idx = 59\n",
    "\n",
    "max_end_idx = 1\n"
   ]
  }
 ],
 "metadata": {
  "kernelspec": {
   "display_name": "Julia 1.11.2",
   "language": "julia",
   "name": "julia-1.11"
  },
  "language_info": {
   "file_extension": ".jl",
   "mimetype": "application/julia",
   "name": "julia",
   "version": "1.11.2"
  }
 },
 "nbformat": 4,
 "nbformat_minor": 5
}
