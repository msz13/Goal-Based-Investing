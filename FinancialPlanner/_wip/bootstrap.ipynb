{
 "cells": [
  {
   "cell_type": "code",
   "execution_count": 29,
   "id": "498578e0",
   "metadata": {},
   "outputs": [
    {
     "name": "stderr",
     "output_type": "stream",
     "text": [
      "\u001b[32m\u001b[1m  Activating\u001b[22m\u001b[39m project at `c:\\Users\\matsz\\programowanie\\Optymalizacja_portfela\\FinancialPlanner`\n"
     ]
    }
   ],
   "source": [
    "import Pkg\n",
    "Pkg.activate(\"../../FinancialPlanner\")"
   ]
  },
  {
   "cell_type": "code",
   "execution_count": 30,
   "id": "5a002d9a",
   "metadata": {},
   "outputs": [],
   "source": [
    "using Revise\n",
    "using Turing\n",
    "using LinearAlgebra\n",
    "using Distributions\n",
    "using Random\n",
    "using StatsPlots\n",
    "using PDMats\n",
    "using StatsBase\n",
    "using Base.Iterators\n",
    "using DataFrames, TimeSeries, XLSX\n",
    "using PrettyTables"
   ]
  },
  {
   "cell_type": "code",
   "execution_count": 31,
   "id": "5b3b5050",
   "metadata": {},
   "outputs": [],
   "source": [
    "include(\"VARs/utils.jl\")\n",
    "includet(\"bootstrap_model.jl\")"
   ]
  },
  {
   "cell_type": "code",
   "execution_count": 35,
   "id": "37e8ad3d",
   "metadata": {},
   "outputs": [
    {
     "data": {
      "text/plain": [
       "872×11 TimeArray{Float64, 2, Date, Matrix{Float64}} 1951-12-01 to 2024-07-01\n",
       "┌────────────┬──────────┬───────────┬─────────────┬──────────┬─────────┬────────\n",
       "│\u001b[1m            \u001b[0m│\u001b[1m Yeld_10Y \u001b[0m│\u001b[1m Price_10Y \u001b[0m│\u001b[1m Stock_Price \u001b[0m│\u001b[1m Dividend \u001b[0m│\u001b[1m E       \u001b[0m│\u001b[1m CAPE \u001b[0m ⋯\n",
       "├────────────┼──────────┼───────────┼─────────────┼──────────┼─────────┼────────\n",
       "│ 1951-12-01 │  0.02513 │   104.098 │       24.19 │  1.41333 │    2.44 │ 12.52 ⋯\n",
       "│ 1952-01-01 │  0.02463 │   104.771 │       23.75 │  1.41667 │ 2.42667 │ 12.36 ⋯\n",
       "│ 1952-02-01 │  0.02617 │   103.585 │       23.81 │     1.42 │ 2.41333 │ 12.36 ⋯\n",
       "│ 1952-03-01 │  0.02505 │   104.824 │       23.74 │     1.43 │     2.4 │ 12.24 ⋯\n",
       "│ 1952-04-01 │  0.02422 │   105.806 │       23.73 │     1.44 │    2.38 │ 12.20 ⋯\n",
       "│ 1952-05-01 │  0.02384 │   106.373 │       24.38 │     1.45 │    2.36 │ 12.44 ⋯\n",
       "│ 1952-06-01 │  0.02415 │   106.295 │       25.08 │     1.45 │    2.34 │ 12.66 ⋯\n",
       "│ 1952-07-01 │  0.02466 │   106.034 │       25.18 │     1.45 │ 2.34667 │ 12.67 ⋯\n",
       "│     ⋮      │    ⋮     │     ⋮     │      ⋮      │    ⋮     │    ⋮    │    ⋮  ⋱\n",
       "│ 2024-01-01 │   0.0399 │   4478.09 │     5011.96 │  70.6511 │ 192.083 │ 33.03 ⋯\n",
       "│ 2024-02-01 │   0.0425 │   4399.56 │     5170.57 │  70.8248 │ 191.737 │ 33.75 ⋯\n",
       "│ 2024-03-01 │    0.042 │   4432.83 │     5112.49 │  71.2085 │  191.39 │ 33.14 ⋯\n",
       "│ 2024-04-01 │   0.0469 │   4277.66 │     5235.23 │  71.5921 │  191.39 │ 33.84 ⋯\n",
       "│ 2024-05-01 │   0.0451 │    4355.4 │     5415.14 │  71.9758 │  191.39 │ 34.95 ⋯\n",
       "│ 2024-06-01 │   0.0436 │   4423.92 │      5538.0 │  71.9758 │  191.39 │ 35.70 ⋯\n",
       "│ 2024-07-01 │   0.0409 │   4536.57 │     5446.68 │  71.9758 │  191.39 │ 35.08 ⋯\n",
       "└────────────┴──────────┴───────────┴─────────────┴──────────┴─────────┴────────\n",
       "\u001b[36m                                                  6 columns and 857 rows omitted\u001b[0m"
      ]
     },
     "metadata": {},
     "output_type": "display_data"
    }
   ],
   "source": [
    "#df = DataFrame(XLSX.readtable(\"../data/usa_world_data.xlsx\", \"Arkusz1\", infer_eltypes=true))\n",
    "df = DataFrame(XLSX.readtable(\"../data/usa_var_data.xlsx\", \"Data\", infer_eltypes=true))\n",
    "data_source = collapse(TimeArray(df; timestamp = :Date), Dates.month, last)"
   ]
  },
  {
   "cell_type": "code",
   "execution_count": 55,
   "id": "6d531a3d",
   "metadata": {},
   "outputs": [
    {
     "data": {
      "text/plain": [
       "\"Returns\""
      ]
     },
     "metadata": {},
     "output_type": "display_data"
    },
    {
     "data": {
      "text/html": [
       "<table>\n",
       "  <thead>\n",
       "    <tr class = \"header headerLastRow\">\n",
       "      <th class = \"rowLabel\" style = \"font-weight: bold; text-align: right;\"></th>\n",
       "      <th style = \"text-align: right;\">std</th>\n",
       "      <th style = \"text-align: right;\">max</th>\n",
       "      <th style = \"text-align: right;\">mean</th>\n",
       "      <th style = \"text-align: right;\">p75th</th>\n",
       "      <th style = \"text-align: right;\">min</th>\n",
       "      <th style = \"text-align: right;\">skewness</th>\n",
       "      <th style = \"text-align: right;\">p25th</th>\n",
       "      <th style = \"text-align: right;\">autocor</th>\n",
       "      <th style = \"text-align: right;\">kurtosis</th>\n",
       "      <th style = \"text-align: right;\">sr</th>\n",
       "      <th style = \"text-align: right;\">median</th>\n",
       "    </tr>\n",
       "  </thead>\n",
       "  <tbody>\n",
       "    <tr>\n",
       "      <td class = \"rowLabel\" style = \"font-weight: bold; text-align: right;\">Total_Stock</td>\n",
       "      <td style = \"text-align: right;\">0.1232</td>\n",
       "      <td style = \"text-align: right;\">1.3903</td>\n",
       "      <td style = \"text-align: right;\">0.1048</td>\n",
       "      <td style = \"text-align: right;\">0.3652</td>\n",
       "      <td style = \"text-align: right;\">-2.6994</td>\n",
       "      <td style = \"text-align: right;\">-1.5922</td>\n",
       "      <td style = \"text-align: right;\">-0.0728</td>\n",
       "      <td style = \"text-align: right;\">0.1903</td>\n",
       "      <td style = \"text-align: right;\">7.6171</td>\n",
       "      <td style = \"text-align: right;\">0.8504</td>\n",
       "      <td style = \"text-align: right;\">0.1515</td>\n",
       "    </tr>\n",
       "    <tr>\n",
       "      <td class = \"rowLabel\" style = \"font-weight: bold; text-align: right;\">Price_10Y</td>\n",
       "      <td style = \"text-align: right;\">0.0739</td>\n",
       "      <td style = \"text-align: right;\">1.0968</td>\n",
       "      <td style = \"text-align: right;\">0.053</td>\n",
       "      <td style = \"text-align: right;\">0.2173</td>\n",
       "      <td style = \"text-align: right;\">-0.902</td>\n",
       "      <td style = \"text-align: right;\">-0.06</td>\n",
       "      <td style = \"text-align: right;\">-0.096</td>\n",
       "      <td style = \"text-align: right;\">0.1066</td>\n",
       "      <td style = \"text-align: right;\">0.6796</td>\n",
       "      <td style = \"text-align: right;\">0.7176</td>\n",
       "      <td style = \"text-align: right;\">0.0452</td>\n",
       "    </tr>\n",
       "  </tbody>\n",
       "</table>\n"
      ]
     },
     "metadata": {},
     "output_type": "display_data"
    },
    {
     "data": {
      "text/plain": [
       "nothing"
      ]
     },
     "metadata": {},
     "output_type": "display_data"
    },
    {
     "data": {
      "text/plain": [
       "\"Real_returns\""
      ]
     },
     "metadata": {},
     "output_type": "display_data"
    },
    {
     "data": {
      "text/html": [
       "<table>\n",
       "  <thead>\n",
       "    <tr class = \"header headerLastRow\">\n",
       "      <th class = \"rowLabel\" style = \"font-weight: bold; text-align: right;\"></th>\n",
       "      <th style = \"text-align: right;\">std</th>\n",
       "      <th style = \"text-align: right;\">max</th>\n",
       "      <th style = \"text-align: right;\">mean</th>\n",
       "      <th style = \"text-align: right;\">p75th</th>\n",
       "      <th style = \"text-align: right;\">min</th>\n",
       "      <th style = \"text-align: right;\">skewness</th>\n",
       "      <th style = \"text-align: right;\">p25th</th>\n",
       "      <th style = \"text-align: right;\">autocor</th>\n",
       "      <th style = \"text-align: right;\">kurtosis</th>\n",
       "      <th style = \"text-align: right;\">sr</th>\n",
       "      <th style = \"text-align: right;\">median</th>\n",
       "    </tr>\n",
       "  </thead>\n",
       "  <tbody>\n",
       "    <tr>\n",
       "      <td class = \"rowLabel\" style = \"font-weight: bold; text-align: right;\">Total_Stock_CPI</td>\n",
       "      <td style = \"text-align: right;\">0.1234</td>\n",
       "      <td style = \"text-align: right;\">1.3604</td>\n",
       "      <td style = \"text-align: right;\">0.0775</td>\n",
       "      <td style = \"text-align: right;\">0.3395</td>\n",
       "      <td style = \"text-align: right;\">-2.5776</td>\n",
       "      <td style = \"text-align: right;\">-1.4543</td>\n",
       "      <td style = \"text-align: right;\">-0.0963</td>\n",
       "      <td style = \"text-align: right;\">0.1805</td>\n",
       "      <td style = \"text-align: right;\">6.5529</td>\n",
       "      <td style = \"text-align: right;\">0.6278</td>\n",
       "      <td style = \"text-align: right;\">0.1259</td>\n",
       "    </tr>\n",
       "    <tr>\n",
       "      <td class = \"rowLabel\" style = \"font-weight: bold; text-align: right;\">Price_10Y_CPI</td>\n",
       "      <td style = \"text-align: right;\">0.0765</td>\n",
       "      <td style = \"text-align: right;\">1.2215</td>\n",
       "      <td style = \"text-align: right;\">0.0257</td>\n",
       "      <td style = \"text-align: right;\">0.192</td>\n",
       "      <td style = \"text-align: right;\">-0.9476</td>\n",
       "      <td style = \"text-align: right;\">-0.0319</td>\n",
       "      <td style = \"text-align: right;\">-0.1374</td>\n",
       "      <td style = \"text-align: right;\">0.1496</td>\n",
       "      <td style = \"text-align: right;\">0.96</td>\n",
       "      <td style = \"text-align: right;\">0.336</td>\n",
       "      <td style = \"text-align: right;\">0.0253</td>\n",
       "    </tr>\n",
       "  </tbody>\n",
       "</table>\n"
      ]
     },
     "metadata": {},
     "output_type": "display_data"
    },
    {
     "data": {
      "text/plain": [
       "nothing"
      ]
     },
     "metadata": {},
     "output_type": "display_data"
    },
    {
     "data": {
      "text/plain": [
       "\"Excess_returns\""
      ]
     },
     "metadata": {},
     "output_type": "display_data"
    },
    {
     "data": {
      "text/html": [
       "<table>\n",
       "  <thead>\n",
       "    <tr class = \"header headerLastRow\">\n",
       "      <th class = \"rowLabel\" style = \"font-weight: bold; text-align: right;\"></th>\n",
       "      <th style = \"text-align: right;\">std</th>\n",
       "      <th style = \"text-align: right;\">max</th>\n",
       "      <th style = \"text-align: right;\">mean</th>\n",
       "      <th style = \"text-align: right;\">p75th</th>\n",
       "      <th style = \"text-align: right;\">min</th>\n",
       "      <th style = \"text-align: right;\">skewness</th>\n",
       "      <th style = \"text-align: right;\">p25th</th>\n",
       "      <th style = \"text-align: right;\">autocor</th>\n",
       "      <th style = \"text-align: right;\">kurtosis</th>\n",
       "      <th style = \"text-align: right;\">sr</th>\n",
       "      <th style = \"text-align: right;\">median</th>\n",
       "    </tr>\n",
       "  </thead>\n",
       "  <tbody>\n",
       "    <tr>\n",
       "      <td class = \"rowLabel\" style = \"font-weight: bold; text-align: right;\">Total_Stock_T_Bill</td>\n",
       "      <td style = \"text-align: right;\">0.1232</td>\n",
       "      <td style = \"text-align: right;\">1.3882</td>\n",
       "      <td style = \"text-align: right;\">0.0758</td>\n",
       "      <td style = \"text-align: right;\">0.3335</td>\n",
       "      <td style = \"text-align: right;\">-2.7107</td>\n",
       "      <td style = \"text-align: right;\">-1.5659</td>\n",
       "      <td style = \"text-align: right;\">-0.1069</td>\n",
       "      <td style = \"text-align: right;\">0.1885</td>\n",
       "      <td style = \"text-align: right;\">7.4388</td>\n",
       "      <td style = \"text-align: right;\">0.6151</td>\n",
       "      <td style = \"text-align: right;\">0.131</td>\n",
       "    </tr>\n",
       "    <tr>\n",
       "      <td class = \"rowLabel\" style = \"font-weight: bold; text-align: right;\">Price_10Y_T_Bill</td>\n",
       "      <td style = \"text-align: right;\">0.0734</td>\n",
       "      <td style = \"text-align: right;\">1.0949</td>\n",
       "      <td style = \"text-align: right;\">0.024</td>\n",
       "      <td style = \"text-align: right;\">0.1887</td>\n",
       "      <td style = \"text-align: right;\">-0.911</td>\n",
       "      <td style = \"text-align: right;\">-0.0258</td>\n",
       "      <td style = \"text-align: right;\">-0.1264</td>\n",
       "      <td style = \"text-align: right;\">0.0969</td>\n",
       "      <td style = \"text-align: right;\">0.7337</td>\n",
       "      <td style = \"text-align: right;\">0.3265</td>\n",
       "      <td style = \"text-align: right;\">0.0237</td>\n",
       "    </tr>\n",
       "  </tbody>\n",
       "</table>\n"
      ]
     },
     "metadata": {},
     "output_type": "display_data"
    },
    {
     "data": {
      "text/plain": [
       "nothing"
      ]
     },
     "metadata": {},
     "output_type": "display_data"
    },
    {
     "data": {
      "text/plain": [
       "\"Correlations\""
      ]
     },
     "metadata": {},
     "output_type": "display_data"
    },
    {
     "data": {
      "text/plain": [
       "2×2 Matrix{Float64}:\n",
       " 1.0        0.0876963\n",
       " 0.0876963  1.0"
      ]
     },
     "metadata": {},
     "output_type": "display_data"
    }
   ],
   "source": [
    "freq = 12\n",
    "returns = percentchange(data_source[:Total_Stock, :Price_10Y], :log)\n",
    "cpi = percentchange(data_source[:CPI], :log)\n",
    "real_returns = returns .- cpi\n",
    "real_t_bill = log1p.(data_source[:T_Bill])./freq .- cpi\n",
    "excess_returns = returns .- log1p.(data_source[:T_Bill]./freq)\n",
    "yeld_diff = diff(data_source[:Yeld_10Y])\n",
    "start = Date(1988, 01,01)\n",
    "end_d = Date(2024, 12, 31)\n",
    "\n",
    "\n",
    "display(\"Returns\")\n",
    "display(returns_summarystats(to(from(returns, start),end_d), freq))\n",
    "display(\"Real_returns\")\n",
    "display(returns_summarystats(to(from(real_returns, start),end_d), freq))\n",
    "display(\"Excess_returns\")\n",
    "display(returns_summarystats(to(from(excess_returns, start),end_d), freq)) \n",
    "\n",
    "display(\"Correlations\")\n",
    "display(cor(values(to(from(real_returns, start),end_d)))) "
   ]
  },
  {
   "cell_type": "code",
   "execution_count": 56,
   "id": "0c5f8f12",
   "metadata": {},
   "outputs": [
    {
     "data": {
      "text/html": [
       "<table>\n",
       "  <thead>\n",
       "    <tr class = \"header headerLastRow\">\n",
       "      <th class = \"rowLabel\" style = \"font-weight: bold; text-align: right;\"></th>\n",
       "      <th style = \"text-align: right;\">std</th>\n",
       "      <th style = \"text-align: right;\">max</th>\n",
       "      <th style = \"text-align: right;\">mean</th>\n",
       "      <th style = \"text-align: right;\">p75th</th>\n",
       "      <th style = \"text-align: right;\">min</th>\n",
       "      <th style = \"text-align: right;\">skewness</th>\n",
       "      <th style = \"text-align: right;\">p25th</th>\n",
       "      <th style = \"text-align: right;\">autocor</th>\n",
       "      <th style = \"text-align: right;\">kurtosis</th>\n",
       "      <th style = \"text-align: right;\">sr</th>\n",
       "      <th style = \"text-align: right;\">median</th>\n",
       "    </tr>\n",
       "  </thead>\n",
       "  <tbody>\n",
       "    <tr>\n",
       "      <td class = \"rowLabel\" style = \"font-weight: bold; text-align: right;\">Yeld_10Y</td>\n",
       "      <td style = \"text-align: right;\">0.0027</td>\n",
       "      <td style = \"text-align: right;\">0.0095</td>\n",
       "      <td style = \"text-align: right;\">-0.0001</td>\n",
       "      <td style = \"text-align: right;\">0.0015</td>\n",
       "      <td style = \"text-align: right;\">-0.0108</td>\n",
       "      <td style = \"text-align: right;\">0.0189</td>\n",
       "      <td style = \"text-align: right;\">-0.0017</td>\n",
       "      <td style = \"text-align: right;\">0.0997</td>\n",
       "      <td style = \"text-align: right;\">0.554</td>\n",
       "      <td style = \"text-align: right;\">-0.0405</td>\n",
       "      <td style = \"text-align: right;\">0.0</td>\n",
       "    </tr>\n",
       "  </tbody>\n",
       "</table>\n"
      ]
     },
     "metadata": {},
     "output_type": "display_data"
    },
    {
     "data": {
      "text/plain": [
       "nothing"
      ]
     },
     "metadata": {},
     "output_type": "display_data"
    }
   ],
   "source": [
    "display(returns_summarystats(to(from(yeld_diff, start),end_d),1))"
   ]
  },
  {
   "cell_type": "code",
   "execution_count": 57,
   "id": "4a7ee57e",
   "metadata": {},
   "outputs": [
    {
     "data": {
      "text/plain": [
       "([0.5167442719307588, 0.3764979947356336], [153, 54])"
      ]
     },
     "metadata": {},
     "output_type": "display_data"
    }
   ],
   "source": [
    "r = to(from(real_returns, start),end_d)\n",
    "max_drawdown_and_length(values(r))"
   ]
  },
  {
   "cell_type": "code",
   "execution_count": 58,
   "id": "97cc513d",
   "metadata": {},
   "outputs": [
    {
     "data": {
      "text/html": [
       "<table>\n",
       "  <thead>\n",
       "    <tr class = \"header headerLastRow\">\n",
       "      <th class = \"rowLabel\" style = \"font-weight: bold; text-align: right;\"></th>\n",
       "      <th style = \"text-align: right;\">std</th>\n",
       "      <th style = \"text-align: right;\">max</th>\n",
       "      <th style = \"text-align: right;\">mean</th>\n",
       "      <th style = \"text-align: right;\">p75th</th>\n",
       "      <th style = \"text-align: right;\">min</th>\n",
       "      <th style = \"text-align: right;\">skewness</th>\n",
       "      <th style = \"text-align: right;\">p25th</th>\n",
       "      <th style = \"text-align: right;\">autocor</th>\n",
       "      <th style = \"text-align: right;\">kurtosis</th>\n",
       "      <th style = \"text-align: right;\">sr</th>\n",
       "      <th style = \"text-align: right;\">median</th>\n",
       "    </tr>\n",
       "  </thead>\n",
       "  <tbody>\n",
       "    <tr>\n",
       "      <td class = \"rowLabel\" style = \"font-weight: bold; text-align: right;\">RealStock1y</td>\n",
       "      <td style = \"text-align: right;\">0.1477</td>\n",
       "      <td style = \"text-align: right;\">0.463</td>\n",
       "      <td style = \"text-align: right;\">0.101</td>\n",
       "      <td style = \"text-align: right;\">0.198</td>\n",
       "      <td style = \"text-align: right;\">-0.2128</td>\n",
       "      <td style = \"text-align: right;\">-0.1996</td>\n",
       "      <td style = \"text-align: right;\">0.0285</td>\n",
       "      <td style = \"text-align: right;\">0.9047</td>\n",
       "      <td style = \"text-align: right;\">-0.014</td>\n",
       "      <td style = \"text-align: right;\">0.6841</td>\n",
       "      <td style = \"text-align: right;\">0.1221</td>\n",
       "    </tr>\n",
       "    <tr>\n",
       "      <td class = \"rowLabel\" style = \"font-weight: bold; text-align: right;\">RealBonds1y</td>\n",
       "      <td style = \"text-align: right;\">0.1066</td>\n",
       "      <td style = \"text-align: right;\">0.2033</td>\n",
       "      <td style = \"text-align: right;\">-0.0317</td>\n",
       "      <td style = \"text-align: right;\">0.0533</td>\n",
       "      <td style = \"text-align: right;\">-0.2337</td>\n",
       "      <td style = \"text-align: right;\">0.2606</td>\n",
       "      <td style = \"text-align: right;\">-0.1079</td>\n",
       "      <td style = \"text-align: right;\">0.9586</td>\n",
       "      <td style = \"text-align: right;\">-0.6835</td>\n",
       "      <td style = \"text-align: right;\">-0.297</td>\n",
       "      <td style = \"text-align: right;\">-0.0522</td>\n",
       "    </tr>\n",
       "    <tr>\n",
       "      <td class = \"rowLabel\" style = \"font-weight: bold; text-align: right;\">RealStock5y</td>\n",
       "      <td style = \"text-align: right;\">0.0279</td>\n",
       "      <td style = \"text-align: right;\">0.1541</td>\n",
       "      <td style = \"text-align: right;\">0.1007</td>\n",
       "      <td style = \"text-align: right;\">0.118</td>\n",
       "      <td style = \"text-align: right;\">0.0508</td>\n",
       "      <td style = \"text-align: right;\">0.2019</td>\n",
       "      <td style = \"text-align: right;\">0.0785</td>\n",
       "      <td style = \"text-align: right;\">0.9176</td>\n",
       "      <td style = \"text-align: right;\">-0.869</td>\n",
       "      <td style = \"text-align: right;\">3.6103</td>\n",
       "      <td style = \"text-align: right;\">0.0988</td>\n",
       "    </tr>\n",
       "    <tr>\n",
       "      <td class = \"rowLabel\" style = \"font-weight: bold; text-align: right;\">RealBonds5y</td>\n",
       "      <td style = \"text-align: right;\">0.0261</td>\n",
       "      <td style = \"text-align: right;\">0.036</td>\n",
       "      <td style = \"text-align: right;\">-0.0083</td>\n",
       "      <td style = \"text-align: right;\">0.0115</td>\n",
       "      <td style = \"text-align: right;\">-0.0566</td>\n",
       "      <td style = \"text-align: right;\">-0.2034</td>\n",
       "      <td style = \"text-align: right;\">-0.0324</td>\n",
       "      <td style = \"text-align: right;\">0.9597</td>\n",
       "      <td style = \"text-align: right;\">-1.1381</td>\n",
       "      <td style = \"text-align: right;\">-0.3162</td>\n",
       "      <td style = \"text-align: right;\">-0.0029</td>\n",
       "    </tr>\n",
       "    <tr>\n",
       "      <td class = \"rowLabel\" style = \"font-weight: bold; text-align: right;\">RealStock10y</td>\n",
       "      <td style = \"text-align: right;\">0.0177</td>\n",
       "      <td style = \"text-align: right;\">0.1427</td>\n",
       "      <td style = \"text-align: right;\">0.108</td>\n",
       "      <td style = \"text-align: right;\">0.1191</td>\n",
       "      <td style = \"text-align: right;\">0.0742</td>\n",
       "      <td style = \"text-align: right;\">0.1046</td>\n",
       "      <td style = \"text-align: right;\">0.0942</td>\n",
       "      <td style = \"text-align: right;\">0.9093</td>\n",
       "      <td style = \"text-align: right;\">-0.8428</td>\n",
       "      <td style = \"text-align: right;\">6.1061</td>\n",
       "      <td style = \"text-align: right;\">0.1106</td>\n",
       "    </tr>\n",
       "    <tr>\n",
       "      <td class = \"rowLabel\" style = \"font-weight: bold; text-align: right;\">RealBonds10y</td>\n",
       "      <td style = \"text-align: right;\">0.0187</td>\n",
       "      <td style = \"text-align: right;\">0.0345</td>\n",
       "      <td style = \"text-align: right;\">0.0038</td>\n",
       "      <td style = \"text-align: right;\">0.0198</td>\n",
       "      <td style = \"text-align: right;\">-0.0259</td>\n",
       "      <td style = \"text-align: right;\">-0.2647</td>\n",
       "      <td style = \"text-align: right;\">-0.0175</td>\n",
       "      <td style = \"text-align: right;\">0.9682</td>\n",
       "      <td style = \"text-align: right;\">-1.4988</td>\n",
       "      <td style = \"text-align: right;\">0.2011</td>\n",
       "      <td style = \"text-align: right;\">0.0088</td>\n",
       "    </tr>\n",
       "    <tr>\n",
       "      <td class = \"rowLabel\" style = \"font-weight: bold; text-align: right;\">RealStock30y</td>\n",
       "      <td style = \"text-align: right;\">0.004</td>\n",
       "      <td style = \"text-align: right;\">0.083</td>\n",
       "      <td style = \"text-align: right;\">0.0753</td>\n",
       "      <td style = \"text-align: right;\">0.0786</td>\n",
       "      <td style = \"text-align: right;\">0.0682</td>\n",
       "      <td style = \"text-align: right;\">0.162</td>\n",
       "      <td style = \"text-align: right;\">0.0719</td>\n",
       "      <td style = \"text-align: right;\">0.8886</td>\n",
       "      <td style = \"text-align: right;\">-1.1935</td>\n",
       "      <td style = \"text-align: right;\">19.0038</td>\n",
       "      <td style = \"text-align: right;\">0.0752</td>\n",
       "    </tr>\n",
       "    <tr>\n",
       "      <td class = \"rowLabel\" style = \"font-weight: bold; text-align: right;\">RealBonds30y</td>\n",
       "      <td style = \"text-align: right;\">0.0092</td>\n",
       "      <td style = \"text-align: right;\">0.0431</td>\n",
       "      <td style = \"text-align: right;\">0.0309</td>\n",
       "      <td style = \"text-align: right;\">0.0381</td>\n",
       "      <td style = \"text-align: right;\">0.0138</td>\n",
       "      <td style = \"text-align: right;\">-0.5094</td>\n",
       "      <td style = \"text-align: right;\">0.0204</td>\n",
       "      <td style = \"text-align: right;\">0.9764</td>\n",
       "      <td style = \"text-align: right;\">-1.3468</td>\n",
       "      <td style = \"text-align: right;\">3.3801</td>\n",
       "      <td style = \"text-align: right;\">0.0356</td>\n",
       "    </tr>\n",
       "  </tbody>\n",
       "</table>\n"
      ]
     },
     "metadata": {},
     "output_type": "display_data"
    }
   ],
   "source": [
    "data = to(from(real_returns, start),end_d)\n",
    "returns1y = moving(sum,data[:Total_Stock_CPI, :Price_10Y_CPI,],12) ./1\n",
    "returns5y = moving(sum,data[:Total_Stock_CPI, :Price_10Y_CPI, ],60) ./5\n",
    "returns10y = moving(sum,data[:Total_Stock_CPI, :Price_10Y_CPI, ],120) ./10\n",
    "returns30y = moving(sum,data[:Total_Stock_CPI, :Price_10Y_CPI, ],360) ./30\n",
    "cum_returns = merge(TimeSeries.rename!(returns1y, [:RealStock1y, :RealBonds1y, ]), \n",
    "                    TimeSeries.rename!(returns5y, [:RealStock5y, :RealBonds5y, ]),\n",
    "                    TimeSeries.rename!(returns10y, [:RealStock10y, :RealBonds10y, ]),\n",
    "                    TimeSeries.rename!(returns30y, [:RealStock30y, :RealBonds30y, ]))\n",
    "returns_summarystats(expm1.(cum_returns),1)"
   ]
  },
  {
   "cell_type": "markdown",
   "id": "e86cf189",
   "metadata": {},
   "source": [
    "### Stationary bootstrap\n",
    "- get singe block\n",
    "- get multople blocs with static length\n",
    "- get single blocs with random lengt\n",
    "- get random block length\n",
    "- gent random block lengt when, lengt is greater when left length"
   ]
  },
  {
   "cell_type": "code",
   "execution_count": 59,
   "id": "9da73a33",
   "metadata": {},
   "outputs": [
    {
     "data": {
      "text/plain": [
       "439×2 TimeArray{Float64, 2, Date, Matrix{Float64}} 1988-01-01 to 2024-07-01\n",
       "┌────────────┬─────────────────┬───────────────┐\n",
       "│\u001b[1m            \u001b[0m│\u001b[1m Total_Stock_CPI \u001b[0m│\u001b[1m Price_10Y_CPI \u001b[0m│\n",
       "├────────────┼─────────────────┼───────────────┤\n",
       "│ 1988-01-01 │       0.0300847 │     0.0418491 │\n",
       "│ 1988-02-01 │       0.0274427 │    0.00920113 │\n",
       "│ 1988-03-01 │      -0.0139734 │    -0.0255694 │\n",
       "│ 1988-04-01 │      -0.0254302 │    -0.0158648 │\n",
       "│ 1988-05-01 │       0.0538815 │    -0.0181189 │\n",
       "│ 1988-06-01 │      -0.0072615 │     0.0277009 │\n",
       "│ 1988-07-01 │      -0.0214601 │    -0.0162429 │\n",
       "│ 1988-08-01 │       0.0123649 │   -0.00742173 │\n",
       "│     ⋮      │        ⋮        │       ⋮       │\n",
       "│ 2024-01-01 │       0.0349213 │      -0.01189 │\n",
       "│ 2024-02-01 │       0.0258185 │    -0.0241356 │\n",
       "│ 2024-03-01 │      -0.0140089 │     0.0036489 │\n",
       "│ 2024-04-01 │       0.0231748 │    -0.0372919 │\n",
       "│ 2024-05-01 │       0.0345217 │     0.0176731 │\n",
       "│ 2024-06-01 │       0.0233252 │     0.0154399 │\n",
       "│ 2024-07-01 │      -0.0155933 │     0.0250603 │\n",
       "└────────────┴─────────────────┴───────────────┘\n",
       "\u001b[36m                                424 rows omitted\u001b[0m"
      ]
     },
     "metadata": {},
     "output_type": "display_data"
    }
   ],
   "source": [
    "#assets_names = [:USA_Net_CPI, :Price_10Y_CPI, :World_ex_USA_CPI, :EM_Net_CPI]\n",
    "assets_names = [:Total_Stock_CPI, :Price_10Y_CPI]\n",
    "#assets_names = [:Total_Stock_T_Bill, :Price_10Y_T_Bill]\n",
    "data = to(from(real_returns[assets_names], start),end_d) \n",
    "#data = to(from(excess_returns[assets_names], start),end_d) \n"
   ]
  },
  {
   "cell_type": "code",
   "execution_count": 60,
   "id": "a704e75f",
   "metadata": {},
   "outputs": [
    {
     "data": {
      "text/html": [
       "<table>\n",
       "  <caption style = \"text-align: left;\">Means</caption>\n",
       "  <thead>\n",
       "    <tr class = \"header headerLastRow\">\n",
       "      <th class = \"rowLabel\" style = \"font-weight: bold; text-align: right;\"></th>\n",
       "      <th style = \"text-align: right;\">Total_Stock_CPI</th>\n",
       "      <th style = \"text-align: right;\">Price_10Y_CPI</th>\n",
       "    </tr>\n",
       "  </thead>\n",
       "  <tbody>\n",
       "    <tr>\n",
       "      <td class = \"rowLabel\" style = \"font-weight: bold; text-align: right;\">1</td>\n",
       "      <td style = \"text-align: right;\">0.0716</td>\n",
       "      <td style = \"text-align: right;\">0.042</td>\n",
       "    </tr>\n",
       "    <tr>\n",
       "      <td class = \"rowLabel\" style = \"font-weight: bold; text-align: right;\">5</td>\n",
       "      <td style = \"text-align: right;\">0.0703</td>\n",
       "      <td style = \"text-align: right;\">0.0396</td>\n",
       "    </tr>\n",
       "    <tr>\n",
       "      <td class = \"rowLabel\" style = \"font-weight: bold; text-align: right;\">15</td>\n",
       "      <td style = \"text-align: right;\">0.0682</td>\n",
       "      <td style = \"text-align: right;\">0.0324</td>\n",
       "    </tr>\n",
       "    <tr>\n",
       "      <td class = \"rowLabel\" style = \"font-weight: bold; text-align: right;\">25</td>\n",
       "      <td style = \"text-align: right;\">0.0685</td>\n",
       "      <td style = \"text-align: right;\">0.0298</td>\n",
       "    </tr>\n",
       "  </tbody>\n",
       "</table>\n"
      ]
     },
     "metadata": {},
     "output_type": "display_data"
    },
    {
     "data": {
      "text/html": [
       "<table>\n",
       "  <caption style = \"text-align: left;\">Standard devations</caption>\n",
       "  <thead>\n",
       "    <tr class = \"header headerLastRow\">\n",
       "      <th class = \"rowLabel\" style = \"font-weight: bold; text-align: right;\"></th>\n",
       "      <th style = \"text-align: right;\">Total_Stock_CPI</th>\n",
       "      <th style = \"text-align: right;\">Price_10Y_CPI</th>\n",
       "    </tr>\n",
       "  </thead>\n",
       "  <tbody>\n",
       "    <tr>\n",
       "      <td class = \"rowLabel\" style = \"font-weight: bold; text-align: right;\">1</td>\n",
       "      <td style = \"text-align: right;\">0.1626</td>\n",
       "      <td style = \"text-align: right;\">0.0686</td>\n",
       "    </tr>\n",
       "    <tr>\n",
       "      <td class = \"rowLabel\" style = \"font-weight: bold; text-align: right;\">5</td>\n",
       "      <td style = \"text-align: right;\">0.076</td>\n",
       "      <td style = \"text-align: right;\">0.023</td>\n",
       "    </tr>\n",
       "    <tr>\n",
       "      <td class = \"rowLabel\" style = \"font-weight: bold; text-align: right;\">15</td>\n",
       "      <td style = \"text-align: right;\">0.0371</td>\n",
       "      <td style = \"text-align: right;\">0.018</td>\n",
       "    </tr>\n",
       "    <tr>\n",
       "      <td class = \"rowLabel\" style = \"font-weight: bold; text-align: right;\">25</td>\n",
       "      <td style = \"text-align: right;\">0.0269</td>\n",
       "      <td style = \"text-align: right;\">0.0146</td>\n",
       "    </tr>\n",
       "  </tbody>\n",
       "</table>\n"
      ]
     },
     "metadata": {},
     "output_type": "display_data"
    },
    {
     "data": {
      "text/html": [
       "<table>\n",
       "  <caption style = \"text-align: left;\">Skewness</caption>\n",
       "  <thead>\n",
       "    <tr class = \"header headerLastRow\">\n",
       "      <th class = \"rowLabel\" style = \"font-weight: bold; text-align: right;\"></th>\n",
       "      <th style = \"text-align: right;\">Total_Stock_CPI</th>\n",
       "      <th style = \"text-align: right;\">Price_10Y_CPI</th>\n",
       "    </tr>\n",
       "  </thead>\n",
       "  <tbody>\n",
       "    <tr>\n",
       "      <td class = \"rowLabel\" style = \"font-weight: bold; text-align: right;\">1</td>\n",
       "      <td style = \"text-align: right;\">-1.261</td>\n",
       "      <td style = \"text-align: right;\">-0.3479</td>\n",
       "    </tr>\n",
       "    <tr>\n",
       "      <td class = \"rowLabel\" style = \"font-weight: bold; text-align: right;\">5</td>\n",
       "      <td style = \"text-align: right;\">-0.174</td>\n",
       "      <td style = \"text-align: right;\">-0.1544</td>\n",
       "    </tr>\n",
       "    <tr>\n",
       "      <td class = \"rowLabel\" style = \"font-weight: bold; text-align: right;\">15</td>\n",
       "      <td style = \"text-align: right;\">-0.1519</td>\n",
       "      <td style = \"text-align: right;\">-0.685</td>\n",
       "    </tr>\n",
       "    <tr>\n",
       "      <td class = \"rowLabel\" style = \"font-weight: bold; text-align: right;\">25</td>\n",
       "      <td style = \"text-align: right;\">-0.1344</td>\n",
       "      <td style = \"text-align: right;\">-0.3624</td>\n",
       "    </tr>\n",
       "  </tbody>\n",
       "</table>\n"
      ]
     },
     "metadata": {},
     "output_type": "display_data"
    },
    {
     "data": {
      "text/html": [
       "<table>\n",
       "  <caption style = \"text-align: left;\">Kurtosis</caption>\n",
       "  <thead>\n",
       "    <tr class = \"header headerLastRow\">\n",
       "      <th class = \"rowLabel\" style = \"font-weight: bold; text-align: right;\"></th>\n",
       "      <th style = \"text-align: right;\">Total_Stock_CPI</th>\n",
       "      <th style = \"text-align: right;\">Price_10Y_CPI</th>\n",
       "    </tr>\n",
       "  </thead>\n",
       "  <tbody>\n",
       "    <tr>\n",
       "      <td class = \"rowLabel\" style = \"font-weight: bold; text-align: right;\">1</td>\n",
       "      <td style = \"text-align: right;\">1.9333</td>\n",
       "      <td style = \"text-align: right;\">-0.416</td>\n",
       "    </tr>\n",
       "    <tr>\n",
       "      <td class = \"rowLabel\" style = \"font-weight: bold; text-align: right;\">5</td>\n",
       "      <td style = \"text-align: right;\">-0.7983</td>\n",
       "      <td style = \"text-align: right;\">-0.3528</td>\n",
       "    </tr>\n",
       "    <tr>\n",
       "      <td class = \"rowLabel\" style = \"font-weight: bold; text-align: right;\">15</td>\n",
       "      <td style = \"text-align: right;\">-0.0989</td>\n",
       "      <td style = \"text-align: right;\">0.0604</td>\n",
       "    </tr>\n",
       "    <tr>\n",
       "      <td class = \"rowLabel\" style = \"font-weight: bold; text-align: right;\">25</td>\n",
       "      <td style = \"text-align: right;\">0.2158</td>\n",
       "      <td style = \"text-align: right;\">-0.4633</td>\n",
       "    </tr>\n",
       "  </tbody>\n",
       "</table>\n"
      ]
     },
     "metadata": {},
     "output_type": "display_data"
    },
    {
     "data": {
      "text/html": [
       "<table>\n",
       "  <caption style = \"text-align: left;\">Total_Stock_CPI</caption>\n",
       "  <thead>\n",
       "    <tr class = \"header headerLastRow\">\n",
       "      <th class = \"rowLabel\" style = \"font-weight: bold; text-align: right;\"></th>\n",
       "      <th style = \"text-align: right;\">0.01</th>\n",
       "      <th style = \"text-align: right;\">0.025</th>\n",
       "      <th style = \"text-align: right;\">0.05</th>\n",
       "      <th style = \"text-align: right;\">0.25</th>\n",
       "      <th style = \"text-align: right;\">0.5</th>\n",
       "      <th style = \"text-align: right;\">0.75</th>\n",
       "      <th style = \"text-align: right;\">0.95</th>\n",
       "      <th style = \"text-align: right;\">0.975</th>\n",
       "      <th style = \"text-align: right;\">0.99</th>\n",
       "    </tr>\n",
       "  </thead>\n",
       "  <tbody>\n",
       "    <tr>\n",
       "      <td class = \"rowLabel\" style = \"font-weight: bold; text-align: right;\">1</td>\n",
       "      <td style = \"text-align: right;\">-0.4952</td>\n",
       "      <td style = \"text-align: right;\">-0.3677</td>\n",
       "      <td style = \"text-align: right;\">-0.2486</td>\n",
       "      <td style = \"text-align: right;\">0.0209</td>\n",
       "      <td style = \"text-align: right;\">0.0947</td>\n",
       "      <td style = \"text-align: right;\">0.1777</td>\n",
       "      <td style = \"text-align: right;\">0.2667</td>\n",
       "      <td style = \"text-align: right;\">0.3053</td>\n",
       "      <td style = \"text-align: right;\">0.3592</td>\n",
       "    </tr>\n",
       "    <tr>\n",
       "      <td class = \"rowLabel\" style = \"font-weight: bold; text-align: right;\">5</td>\n",
       "      <td style = \"text-align: right;\">-0.0844</td>\n",
       "      <td style = \"text-align: right;\">-0.0596</td>\n",
       "      <td style = \"text-align: right;\">-0.0485</td>\n",
       "      <td style = \"text-align: right;\">-0.0007</td>\n",
       "      <td style = \"text-align: right;\">0.0843</td>\n",
       "      <td style = \"text-align: right;\">0.1236</td>\n",
       "      <td style = \"text-align: right;\">0.1916</td>\n",
       "      <td style = \"text-align: right;\">0.2062</td>\n",
       "      <td style = \"text-align: right;\">0.2171</td>\n",
       "    </tr>\n",
       "    <tr>\n",
       "      <td class = \"rowLabel\" style = \"font-weight: bold; text-align: right;\">15</td>\n",
       "      <td style = \"text-align: right;\">-0.0222</td>\n",
       "      <td style = \"text-align: right;\">-0.0058</td>\n",
       "      <td style = \"text-align: right;\">0.0087</td>\n",
       "      <td style = \"text-align: right;\">0.0414</td>\n",
       "      <td style = \"text-align: right;\">0.0707</td>\n",
       "      <td style = \"text-align: right;\">0.0936</td>\n",
       "      <td style = \"text-align: right;\">0.1279</td>\n",
       "      <td style = \"text-align: right;\">0.1371</td>\n",
       "      <td style = \"text-align: right;\">0.15</td>\n",
       "    </tr>\n",
       "    <tr>\n",
       "      <td class = \"rowLabel\" style = \"font-weight: bold; text-align: right;\">25</td>\n",
       "      <td style = \"text-align: right;\">0.0013</td>\n",
       "      <td style = \"text-align: right;\">0.0124</td>\n",
       "      <td style = \"text-align: right;\">0.0236</td>\n",
       "      <td style = \"text-align: right;\">0.0512</td>\n",
       "      <td style = \"text-align: right;\">0.0684</td>\n",
       "      <td style = \"text-align: right;\">0.0861</td>\n",
       "      <td style = \"text-align: right;\">0.1125</td>\n",
       "      <td style = \"text-align: right;\">0.1209</td>\n",
       "      <td style = \"text-align: right;\">0.1299</td>\n",
       "    </tr>\n",
       "  </tbody>\n",
       "</table>\n"
      ]
     },
     "metadata": {},
     "output_type": "display_data"
    },
    {
     "data": {
      "text/html": [
       "<table>\n",
       "  <caption style = \"text-align: left;\">Price_10Y_CPI</caption>\n",
       "  <thead>\n",
       "    <tr class = \"header headerLastRow\">\n",
       "      <th class = \"rowLabel\" style = \"font-weight: bold; text-align: right;\"></th>\n",
       "      <th style = \"text-align: right;\">0.01</th>\n",
       "      <th style = \"text-align: right;\">0.025</th>\n",
       "      <th style = \"text-align: right;\">0.05</th>\n",
       "      <th style = \"text-align: right;\">0.25</th>\n",
       "      <th style = \"text-align: right;\">0.5</th>\n",
       "      <th style = \"text-align: right;\">0.75</th>\n",
       "      <th style = \"text-align: right;\">0.95</th>\n",
       "      <th style = \"text-align: right;\">0.975</th>\n",
       "      <th style = \"text-align: right;\">0.99</th>\n",
       "    </tr>\n",
       "  </thead>\n",
       "  <tbody>\n",
       "    <tr>\n",
       "      <td class = \"rowLabel\" style = \"font-weight: bold; text-align: right;\">1</td>\n",
       "      <td style = \"text-align: right;\">-0.1225</td>\n",
       "      <td style = \"text-align: right;\">-0.1007</td>\n",
       "      <td style = \"text-align: right;\">-0.0871</td>\n",
       "      <td style = \"text-align: right;\">-0.0044</td>\n",
       "      <td style = \"text-align: right;\">0.0473</td>\n",
       "      <td style = \"text-align: right;\">0.0959</td>\n",
       "      <td style = \"text-align: right;\">0.1409</td>\n",
       "      <td style = \"text-align: right;\">0.147</td>\n",
       "      <td style = \"text-align: right;\">0.1808</td>\n",
       "    </tr>\n",
       "    <tr>\n",
       "      <td class = \"rowLabel\" style = \"font-weight: bold; text-align: right;\">5</td>\n",
       "      <td style = \"text-align: right;\">-0.0095</td>\n",
       "      <td style = \"text-align: right;\">-0.0048</td>\n",
       "      <td style = \"text-align: right;\">-0.002</td>\n",
       "      <td style = \"text-align: right;\">0.0227</td>\n",
       "      <td style = \"text-align: right;\">0.0415</td>\n",
       "      <td style = \"text-align: right;\">0.0552</td>\n",
       "      <td style = \"text-align: right;\">0.0763</td>\n",
       "      <td style = \"text-align: right;\">0.0826</td>\n",
       "      <td style = \"text-align: right;\">0.089</td>\n",
       "    </tr>\n",
       "    <tr>\n",
       "      <td class = \"rowLabel\" style = \"font-weight: bold; text-align: right;\">15</td>\n",
       "      <td style = \"text-align: right;\">-0.0126</td>\n",
       "      <td style = \"text-align: right;\">-0.0094</td>\n",
       "      <td style = \"text-align: right;\">-0.005</td>\n",
       "      <td style = \"text-align: right;\">0.0235</td>\n",
       "      <td style = \"text-align: right;\">0.0352</td>\n",
       "      <td style = \"text-align: right;\">0.0447</td>\n",
       "      <td style = \"text-align: right;\">0.0572</td>\n",
       "      <td style = \"text-align: right;\">0.0604</td>\n",
       "      <td style = \"text-align: right;\">0.0644</td>\n",
       "    </tr>\n",
       "    <tr>\n",
       "      <td class = \"rowLabel\" style = \"font-weight: bold; text-align: right;\">25</td>\n",
       "      <td style = \"text-align: right;\">-0.0062</td>\n",
       "      <td style = \"text-align: right;\">0.0014</td>\n",
       "      <td style = \"text-align: right;\">0.0052</td>\n",
       "      <td style = \"text-align: right;\">0.0185</td>\n",
       "      <td style = \"text-align: right;\">0.032</td>\n",
       "      <td style = \"text-align: right;\">0.041</td>\n",
       "      <td style = \"text-align: right;\">0.051</td>\n",
       "      <td style = \"text-align: right;\">0.0541</td>\n",
       "      <td style = \"text-align: right;\">0.0573</td>\n",
       "    </tr>\n",
       "  </tbody>\n",
       "</table>\n"
      ]
     },
     "metadata": {},
     "output_type": "display_data"
    }
   ],
   "source": [
    "scenarios = block_bootstrap(values(data), 10_000; block_size=120, random_block=true)\n",
    "periods = [1,5, 15, 25]\n",
    "ret_in_years = cum_returns_in_periods(scenarios, periods, freq, true)\n",
    "print_scenarios_summary(ret_in_years, assets_names, string.(periods))\n",
    "n_assets = length(assets_names)\n",
    "for a in 1:n_assets\n",
    "    print_scenarios_percentiles(ret_in_years[a, :, :], [.01, .025, .05, .25, .5, .75, .95, .975, .99], string.(periods), string.(assets_names[a]))\n",
    "end  "
   ]
  },
  {
   "cell_type": "code",
   "execution_count": 61,
   "id": "087e67ce",
   "metadata": {},
   "outputs": [
    {
     "data": {
      "text/plain": [
       "1×5 adjoint(::Vector{Float64}) with eltype Float64:\n",
       " 0.342457  0.498531  0.516744  0.516744  0.664398"
      ]
     },
     "metadata": {},
     "output_type": "display_data"
    },
    {
     "data": {
      "text/plain": [
       "1×5 adjoint(::Vector{Float64}) with eltype Float64:\n",
       " 0.123824  0.131816  0.209137  0.376498  0.419367"
      ]
     },
     "metadata": {},
     "output_type": "display_data"
    }
   ],
   "source": [
    "mdd, mddl = max_drawdown_and_length(scenarios[1,:,:])\n",
    "\n",
    "display(quantile(mdd, [.03, .25, .5, .75, .97])')\n",
    "\n",
    "mdd, mddl = max_drawdown_and_length(scenarios[2,:,:])\n",
    "\n",
    "display(quantile(mdd, [.03, .25, .5, .75, .97])')"
   ]
  },
  {
   "cell_type": "code",
   "execution_count": 62,
   "id": "56150927",
   "metadata": {},
   "outputs": [
    {
     "data": {
      "text/plain": [
       "1×5 adjoint(::Vector{Float64}) with eltype Float64:\n",
       " 37.0  71.0  121.0  153.0  237.0"
      ]
     },
     "metadata": {},
     "output_type": "display_data"
    },
    {
     "data": {
      "text/plain": [
       "1×5 adjoint(::Vector{Float64}) with eltype Float64:\n",
       " 37.0  54.0  73.0  132.0  255.0"
      ]
     },
     "metadata": {},
     "output_type": "display_data"
    }
   ],
   "source": [
    "mdd, mddl = max_drawdown_and_length(scenarios[1,:,:])\n",
    "\n",
    "display(quantile(mddl, [.03, .25, .5, .75, .97])')\n",
    "\n",
    "mdd, mddl = max_drawdown_and_length(scenarios[2,:,:])\n",
    "\n",
    "display(quantile(mddl, [.03, .25, .5, .75, .97])')"
   ]
  },
  {
   "cell_type": "code",
   "execution_count": 63,
   "id": "2d3b4f9a",
   "metadata": {},
   "outputs": [
    {
     "data": {
      "text/plain": [
       "439×2 TimeArray{Float64, 2, Date, Matrix{Float64}} 1988-01-01 to 2024-07-01\n",
       "┌────────────┬─────────────────┬───────────────┐\n",
       "│\u001b[1m            \u001b[0m│\u001b[1m Total_Stock_CPI \u001b[0m│\u001b[1m Price_10Y_CPI \u001b[0m│\n",
       "├────────────┼─────────────────┼───────────────┤\n",
       "│ 1988-01-01 │       0.0686282 │     0.0597079 │\n",
       "│ 1988-02-01 │       0.0659862 │       0.02706 │\n",
       "│ 1988-03-01 │       0.0245701 │   -0.00771051 │\n",
       "│ 1988-04-01 │       0.0131133 │    0.00199401 │\n",
       "│ 1988-05-01 │       0.0924249 │  -0.000260102 │\n",
       "│ 1988-06-01 │        0.031282 │     0.0455597 │\n",
       "│ 1988-07-01 │       0.0170834 │    0.00161594 │\n",
       "│ 1988-08-01 │       0.0509084 │     0.0104371 │\n",
       "│     ⋮      │        ⋮        │       ⋮       │\n",
       "│ 2024-01-01 │       0.0734648 │    0.00596887 │\n",
       "│ 2024-02-01 │        0.064362 │   -0.00627674 │\n",
       "│ 2024-03-01 │       0.0245346 │     0.0215077 │\n",
       "│ 2024-04-01 │       0.0617183 │     -0.019433 │\n",
       "│ 2024-05-01 │       0.0730652 │     0.0355319 │\n",
       "│ 2024-06-01 │       0.0618687 │     0.0332988 │\n",
       "│ 2024-07-01 │       0.0229502 │     0.0429191 │\n",
       "└────────────┴─────────────────┴───────────────┘\n",
       "\u001b[36m                                424 rows omitted\u001b[0m"
      ]
     },
     "metadata": {},
     "output_type": "display_data"
    }
   ],
   "source": [
    "#assets_names = [:USA_Net_CPI, :Price_10Y_CPI, :World_ex_USA_CPI, :EM_Net_CPI]\n",
    "assets_names = [:Total_Stock_CPI, :Price_10Y_CPI]\n",
    "#assets_names = [:Total_Stock_T_Bill, :Price_10Y_T_Bill]\n",
    "data = to(from(real_returns[assets_names], start),end_d) \n",
    "#data = to(from(excess_returns[assets_names], start),end_d) \n",
    "\n",
    "data_mean = mean(data) \n",
    "data = data .- values(data_mean)\n",
    "\n",
    "data = data .+ [.045 .02]\n"
   ]
  },
  {
   "cell_type": "code",
   "execution_count": 64,
   "id": "e1f12584",
   "metadata": {},
   "outputs": [
    {
     "data": {
      "text/html": [
       "<table>\n",
       "  <caption style = \"text-align: left;\">Means</caption>\n",
       "  <thead>\n",
       "    <tr class = \"header headerLastRow\">\n",
       "      <th class = \"rowLabel\" style = \"font-weight: bold; text-align: right;\"></th>\n",
       "      <th style = \"text-align: right;\">Total_Stock_CPI</th>\n",
       "      <th style = \"text-align: right;\">Price_10Y_CPI</th>\n",
       "    </tr>\n",
       "  </thead>\n",
       "  <tbody>\n",
       "    <tr>\n",
       "      <td class = \"rowLabel\" style = \"font-weight: bold; text-align: right;\">1</td>\n",
       "      <td style = \"text-align: right;\">0.5346</td>\n",
       "      <td style = \"text-align: right;\">0.2579</td>\n",
       "    </tr>\n",
       "    <tr>\n",
       "      <td class = \"rowLabel\" style = \"font-weight: bold; text-align: right;\">5</td>\n",
       "      <td style = \"text-align: right;\">0.531</td>\n",
       "      <td style = \"text-align: right;\">0.2546</td>\n",
       "    </tr>\n",
       "    <tr>\n",
       "      <td class = \"rowLabel\" style = \"font-weight: bold; text-align: right;\">15</td>\n",
       "      <td style = \"text-align: right;\">0.5295</td>\n",
       "      <td style = \"text-align: right;\">0.2471</td>\n",
       "    </tr>\n",
       "    <tr>\n",
       "      <td class = \"rowLabel\" style = \"font-weight: bold; text-align: right;\">25</td>\n",
       "      <td style = \"text-align: right;\">0.5301</td>\n",
       "      <td style = \"text-align: right;\">0.2444</td>\n",
       "    </tr>\n",
       "  </tbody>\n",
       "</table>\n"
      ]
     },
     "metadata": {},
     "output_type": "display_data"
    },
    {
     "data": {
      "text/html": [
       "<table>\n",
       "  <caption style = \"text-align: left;\">Standard devations</caption>\n",
       "  <thead>\n",
       "    <tr class = \"header headerLastRow\">\n",
       "      <th class = \"rowLabel\" style = \"font-weight: bold; text-align: right;\"></th>\n",
       "      <th style = \"text-align: right;\">Total_Stock_CPI</th>\n",
       "      <th style = \"text-align: right;\">Price_10Y_CPI</th>\n",
       "    </tr>\n",
       "  </thead>\n",
       "  <tbody>\n",
       "    <tr>\n",
       "      <td class = \"rowLabel\" style = \"font-weight: bold; text-align: right;\">1</td>\n",
       "      <td style = \"text-align: right;\">0.1629</td>\n",
       "      <td style = \"text-align: right;\">0.0689</td>\n",
       "    </tr>\n",
       "    <tr>\n",
       "      <td class = \"rowLabel\" style = \"font-weight: bold; text-align: right;\">5</td>\n",
       "      <td style = \"text-align: right;\">0.0771</td>\n",
       "      <td style = \"text-align: right;\">0.023</td>\n",
       "    </tr>\n",
       "    <tr>\n",
       "      <td class = \"rowLabel\" style = \"font-weight: bold; text-align: right;\">15</td>\n",
       "      <td style = \"text-align: right;\">0.0378</td>\n",
       "      <td style = \"text-align: right;\">0.0179</td>\n",
       "    </tr>\n",
       "    <tr>\n",
       "      <td class = \"rowLabel\" style = \"font-weight: bold; text-align: right;\">25</td>\n",
       "      <td style = \"text-align: right;\">0.0271</td>\n",
       "      <td style = \"text-align: right;\">0.0144</td>\n",
       "    </tr>\n",
       "  </tbody>\n",
       "</table>\n"
      ]
     },
     "metadata": {},
     "output_type": "display_data"
    },
    {
     "data": {
      "text/html": [
       "<table>\n",
       "  <caption style = \"text-align: left;\">Skewness</caption>\n",
       "  <thead>\n",
       "    <tr class = \"header headerLastRow\">\n",
       "      <th class = \"rowLabel\" style = \"font-weight: bold; text-align: right;\"></th>\n",
       "      <th style = \"text-align: right;\">Total_Stock_CPI</th>\n",
       "      <th style = \"text-align: right;\">Price_10Y_CPI</th>\n",
       "    </tr>\n",
       "  </thead>\n",
       "  <tbody>\n",
       "    <tr>\n",
       "      <td class = \"rowLabel\" style = \"font-weight: bold; text-align: right;\">1</td>\n",
       "      <td style = \"text-align: right;\">-1.2598</td>\n",
       "      <td style = \"text-align: right;\">-0.3426</td>\n",
       "    </tr>\n",
       "    <tr>\n",
       "      <td class = \"rowLabel\" style = \"font-weight: bold; text-align: right;\">5</td>\n",
       "      <td style = \"text-align: right;\">-0.2137</td>\n",
       "      <td style = \"text-align: right;\">-0.1354</td>\n",
       "    </tr>\n",
       "    <tr>\n",
       "      <td class = \"rowLabel\" style = \"font-weight: bold; text-align: right;\">15</td>\n",
       "      <td style = \"text-align: right;\">-0.1748</td>\n",
       "      <td style = \"text-align: right;\">-0.7191</td>\n",
       "    </tr>\n",
       "    <tr>\n",
       "      <td class = \"rowLabel\" style = \"font-weight: bold; text-align: right;\">25</td>\n",
       "      <td style = \"text-align: right;\">-0.0923</td>\n",
       "      <td style = \"text-align: right;\">-0.3346</td>\n",
       "    </tr>\n",
       "  </tbody>\n",
       "</table>\n"
      ]
     },
     "metadata": {},
     "output_type": "display_data"
    },
    {
     "data": {
      "text/html": [
       "<table>\n",
       "  <caption style = \"text-align: left;\">Kurtosis</caption>\n",
       "  <thead>\n",
       "    <tr class = \"header headerLastRow\">\n",
       "      <th class = \"rowLabel\" style = \"font-weight: bold; text-align: right;\"></th>\n",
       "      <th style = \"text-align: right;\">Total_Stock_CPI</th>\n",
       "      <th style = \"text-align: right;\">Price_10Y_CPI</th>\n",
       "    </tr>\n",
       "  </thead>\n",
       "  <tbody>\n",
       "    <tr>\n",
       "      <td class = \"rowLabel\" style = \"font-weight: bold; text-align: right;\">1</td>\n",
       "      <td style = \"text-align: right;\">1.9013</td>\n",
       "      <td style = \"text-align: right;\">-0.3872</td>\n",
       "    </tr>\n",
       "    <tr>\n",
       "      <td class = \"rowLabel\" style = \"font-weight: bold; text-align: right;\">5</td>\n",
       "      <td style = \"text-align: right;\">-0.7211</td>\n",
       "      <td style = \"text-align: right;\">-0.328</td>\n",
       "    </tr>\n",
       "    <tr>\n",
       "      <td class = \"rowLabel\" style = \"font-weight: bold; text-align: right;\">15</td>\n",
       "      <td style = \"text-align: right;\">0.0118</td>\n",
       "      <td style = \"text-align: right;\">0.1579</td>\n",
       "    </tr>\n",
       "    <tr>\n",
       "      <td class = \"rowLabel\" style = \"font-weight: bold; text-align: right;\">25</td>\n",
       "      <td style = \"text-align: right;\">0.1357</td>\n",
       "      <td style = \"text-align: right;\">-0.5403</td>\n",
       "    </tr>\n",
       "  </tbody>\n",
       "</table>\n"
      ]
     },
     "metadata": {},
     "output_type": "display_data"
    },
    {
     "data": {
      "text/html": [
       "<table>\n",
       "  <caption style = \"text-align: left;\">Total_Stock_CPI</caption>\n",
       "  <thead>\n",
       "    <tr class = \"header headerLastRow\">\n",
       "      <th class = \"rowLabel\" style = \"font-weight: bold; text-align: right;\"></th>\n",
       "      <th style = \"text-align: right;\">0.01</th>\n",
       "      <th style = \"text-align: right;\">0.025</th>\n",
       "      <th style = \"text-align: right;\">0.05</th>\n",
       "      <th style = \"text-align: right;\">0.25</th>\n",
       "      <th style = \"text-align: right;\">0.5</th>\n",
       "      <th style = \"text-align: right;\">0.75</th>\n",
       "      <th style = \"text-align: right;\">0.95</th>\n",
       "      <th style = \"text-align: right;\">0.975</th>\n",
       "      <th style = \"text-align: right;\">0.99</th>\n",
       "    </tr>\n",
       "  </thead>\n",
       "  <tbody>\n",
       "    <tr>\n",
       "      <td class = \"rowLabel\" style = \"font-weight: bold; text-align: right;\">1</td>\n",
       "      <td style = \"text-align: right;\">-0.0291</td>\n",
       "      <td style = \"text-align: right;\">0.1092</td>\n",
       "      <td style = \"text-align: right;\">0.2125</td>\n",
       "      <td style = \"text-align: right;\">0.4834</td>\n",
       "      <td style = \"text-align: right;\">0.557</td>\n",
       "      <td style = \"text-align: right;\">0.6411</td>\n",
       "      <td style = \"text-align: right;\">0.73</td>\n",
       "      <td style = \"text-align: right;\">0.7721</td>\n",
       "      <td style = \"text-align: right;\">0.8071</td>\n",
       "    </tr>\n",
       "    <tr>\n",
       "      <td class = \"rowLabel\" style = \"font-weight: bold; text-align: right;\">5</td>\n",
       "      <td style = \"text-align: right;\">0.3741</td>\n",
       "      <td style = \"text-align: right;\">0.3995</td>\n",
       "      <td style = \"text-align: right;\">0.4134</td>\n",
       "      <td style = \"text-align: right;\">0.4592</td>\n",
       "      <td style = \"text-align: right;\">0.5452</td>\n",
       "      <td style = \"text-align: right;\">0.5865</td>\n",
       "      <td style = \"text-align: right;\">0.6504</td>\n",
       "      <td style = \"text-align: right;\">0.6687</td>\n",
       "      <td style = \"text-align: right;\">0.6809</td>\n",
       "    </tr>\n",
       "    <tr>\n",
       "      <td class = \"rowLabel\" style = \"font-weight: bold; text-align: right;\">15</td>\n",
       "      <td style = \"text-align: right;\">0.4348</td>\n",
       "      <td style = \"text-align: right;\">0.4523</td>\n",
       "      <td style = \"text-align: right;\">0.4681</td>\n",
       "      <td style = \"text-align: right;\">0.5032</td>\n",
       "      <td style = \"text-align: right;\">0.5326</td>\n",
       "      <td style = \"text-align: right;\">0.5543</td>\n",
       "      <td style = \"text-align: right;\">0.5901</td>\n",
       "      <td style = \"text-align: right;\">0.6002</td>\n",
       "      <td style = \"text-align: right;\">0.6131</td>\n",
       "    </tr>\n",
       "    <tr>\n",
       "      <td class = \"rowLabel\" style = \"font-weight: bold; text-align: right;\">25</td>\n",
       "      <td style = \"text-align: right;\">0.463</td>\n",
       "      <td style = \"text-align: right;\">0.4748</td>\n",
       "      <td style = \"text-align: right;\">0.4851</td>\n",
       "      <td style = \"text-align: right;\">0.5124</td>\n",
       "      <td style = \"text-align: right;\">0.5306</td>\n",
       "      <td style = \"text-align: right;\">0.5478</td>\n",
       "      <td style = \"text-align: right;\">0.5751</td>\n",
       "      <td style = \"text-align: right;\">0.5827</td>\n",
       "      <td style = \"text-align: right;\">0.5916</td>\n",
       "    </tr>\n",
       "  </tbody>\n",
       "</table>\n"
      ]
     },
     "metadata": {},
     "output_type": "display_data"
    },
    {
     "data": {
      "text/html": [
       "<table>\n",
       "  <caption style = \"text-align: left;\">Price_10Y_CPI</caption>\n",
       "  <thead>\n",
       "    <tr class = \"header headerLastRow\">\n",
       "      <th class = \"rowLabel\" style = \"font-weight: bold; text-align: right;\"></th>\n",
       "      <th style = \"text-align: right;\">0.01</th>\n",
       "      <th style = \"text-align: right;\">0.025</th>\n",
       "      <th style = \"text-align: right;\">0.05</th>\n",
       "      <th style = \"text-align: right;\">0.25</th>\n",
       "      <th style = \"text-align: right;\">0.5</th>\n",
       "      <th style = \"text-align: right;\">0.75</th>\n",
       "      <th style = \"text-align: right;\">0.95</th>\n",
       "      <th style = \"text-align: right;\">0.975</th>\n",
       "      <th style = \"text-align: right;\">0.99</th>\n",
       "    </tr>\n",
       "  </thead>\n",
       "  <tbody>\n",
       "    <tr>\n",
       "      <td class = \"rowLabel\" style = \"font-weight: bold; text-align: right;\">1</td>\n",
       "      <td style = \"text-align: right;\">0.0918</td>\n",
       "      <td style = \"text-align: right;\">0.1129</td>\n",
       "      <td style = \"text-align: right;\">0.1284</td>\n",
       "      <td style = \"text-align: right;\">0.2118</td>\n",
       "      <td style = \"text-align: right;\">0.264</td>\n",
       "      <td style = \"text-align: right;\">0.3117</td>\n",
       "      <td style = \"text-align: right;\">0.3568</td>\n",
       "      <td style = \"text-align: right;\">0.3699</td>\n",
       "      <td style = \"text-align: right;\">0.3997</td>\n",
       "    </tr>\n",
       "    <tr>\n",
       "      <td class = \"rowLabel\" style = \"font-weight: bold; text-align: right;\">5</td>\n",
       "      <td style = \"text-align: right;\">0.2049</td>\n",
       "      <td style = \"text-align: right;\">0.2095</td>\n",
       "      <td style = \"text-align: right;\">0.2132</td>\n",
       "      <td style = \"text-align: right;\">0.2381</td>\n",
       "      <td style = \"text-align: right;\">0.2564</td>\n",
       "      <td style = \"text-align: right;\">0.2701</td>\n",
       "      <td style = \"text-align: right;\">0.2918</td>\n",
       "      <td style = \"text-align: right;\">0.2973</td>\n",
       "      <td style = \"text-align: right;\">0.3044</td>\n",
       "    </tr>\n",
       "    <tr>\n",
       "      <td class = \"rowLabel\" style = \"font-weight: bold; text-align: right;\">15</td>\n",
       "      <td style = \"text-align: right;\">0.2017</td>\n",
       "      <td style = \"text-align: right;\">0.205</td>\n",
       "      <td style = \"text-align: right;\">0.2094</td>\n",
       "      <td style = \"text-align: right;\">0.2386</td>\n",
       "      <td style = \"text-align: right;\">0.2499</td>\n",
       "      <td style = \"text-align: right;\">0.2593</td>\n",
       "      <td style = \"text-align: right;\">0.272</td>\n",
       "      <td style = \"text-align: right;\">0.2748</td>\n",
       "      <td style = \"text-align: right;\">0.2787</td>\n",
       "    </tr>\n",
       "    <tr>\n",
       "      <td class = \"rowLabel\" style = \"font-weight: bold; text-align: right;\">25</td>\n",
       "      <td style = \"text-align: right;\">0.2123</td>\n",
       "      <td style = \"text-align: right;\">0.2167</td>\n",
       "      <td style = \"text-align: right;\">0.2202</td>\n",
       "      <td style = \"text-align: right;\">0.2329</td>\n",
       "      <td style = \"text-align: right;\">0.2465</td>\n",
       "      <td style = \"text-align: right;\">0.2556</td>\n",
       "      <td style = \"text-align: right;\">0.2655</td>\n",
       "      <td style = \"text-align: right;\">0.2682</td>\n",
       "      <td style = \"text-align: right;\">0.2715</td>\n",
       "    </tr>\n",
       "  </tbody>\n",
       "</table>\n"
      ]
     },
     "metadata": {},
     "output_type": "display_data"
    }
   ],
   "source": [
    "scenarios = block_bootstrap(values(data), 10_000; block_size=120, random_block=true)\n",
    "periods = [1,5, 15, 25]\n",
    "ret_in_years = cum_returns_in_periods(scenarios, periods, freq, true)\n",
    "print_scenarios_summary(ret_in_years, assets_names, string.(periods))\n",
    "n_assets = length(assets_names)\n",
    "for a in 1:n_assets\n",
    "    print_scenarios_percentiles(ret_in_years[a, :, :], [.01, .025, .05, .25, .5, .75, .95, .975, .99], string.(periods), string.(assets_names[a]))\n",
    "end  "
   ]
  },
  {
   "cell_type": "code",
   "execution_count": null,
   "id": "81fc1fa8",
   "metadata": {},
   "outputs": [],
   "source": []
  },
  {
   "cell_type": "code",
   "execution_count": 11,
   "id": "fbc54f81",
   "metadata": {},
   "outputs": [
    {
     "data": {
      "text/plain": [
       "5-element Vector{Float64}:\n",
       "   0.0\n",
       "  17.0\n",
       "  41.0\n",
       "  82.0\n",
       " 498.0"
      ]
     },
     "metadata": {},
     "output_type": "display_data"
    }
   ],
   "source": [
    "quantile(rand(Geometric(1/60), 10_000), [0., .25, .5, .75, 1.])"
   ]
  },
  {
   "cell_type": "code",
   "execution_count": 12,
   "id": "6176db69",
   "metadata": {},
   "outputs": [],
   "source": [
    "#TODO \n",
    "#- compare real returns, excess returns, term i real tbill\n",
    "#- calc drow down and drow down lengt for scenarios\n",
    "#- est returns 1955-1980\n",
    "#- calculate rolling windows (one year, 15 years) percentile\n",
    "# - compere yeld diffs, inflation from bootstrap"
   ]
  },
  {
   "cell_type": "markdown",
   "id": "1191a61d",
   "metadata": {},
   "source": [
    "gdy data length 120\n",
    "n_steps = 60\n",
    "stsrt_idx = 59\n",
    "\n",
    "max_end_idx = 1\n"
   ]
  },
  {
   "cell_type": "code",
   "execution_count": 29,
   "id": "d84014b8",
   "metadata": {},
   "outputs": [
    {
     "name": "stdout",
     "output_type": "stream",
     "text": [
      "[-0.21, -0.031, 0.07, 0.171, 0.351]\n",
      "[-0.212, -0.031, 0.071, 0.172, 0.354]\n",
      "[-0.374, -0.044, 0.07, 0.185, 0.514]\n",
      "[-0.32, -0.041, 0.07, 0.182, 0.465]\n",
      "[-0.289, -0.039, 0.07, 0.179, 0.431]\n"
     ]
    }
   ],
   "source": [
    "using Distributions, StatsBase\n",
    "\n",
    "n = rand(Normal(.07, .15),100_000)\n",
    "n2 = .07 .+ .15 * randn(100_000)\n",
    "t3 = .07 .+ .15 * rand(TDist(3), 100_000)\n",
    "t4 = .07 .+ .15 * rand(TDist(4), 100_000)\n",
    "t5 = .07 .+ .15 * rand(TDist(5), 100_000)\n",
    "println(round.(quantile(n, [.03, .25, .5, .75, .97]),digits=3))\n",
    "println(round.(quantile(n2, [.03, .25, .5, .75, .97]),digits=3))\n",
    "println(round.(quantile(t3, [.03, .25, .5, .75, .97]),digits=3))\n",
    "println(round.(quantile(t4, [.03, .25, .5, .75, .97]),digits=3))\n",
    "println(round.(quantile(t5, [.03, .25, .5, .75, .97]),digits=3))\n",
    "\n"
   ]
  },
  {
   "cell_type": "code",
   "execution_count": 43,
   "id": "a3927a8e",
   "metadata": {},
   "outputs": [
    {
     "data": {
      "text/plain": [
       "11-element Vector{Symbol}:\n",
       " :Yeld_10Y\n",
       " :Price_10Y\n",
       " :Stock_Price\n",
       " :Dividend\n",
       " :E\n",
       " :CAPE\n",
       " :T_Bill\n",
       " :CPI\n",
       " :Dividend_Yeld\n",
       " :Total_Stock_2\n",
       " :Total_Stock"
      ]
     },
     "metadata": {},
     "output_type": "display_data"
    }
   ],
   "source": [
    "colnames(data_to_save)"
   ]
  },
  {
   "cell_type": "code",
   "execution_count": 46,
   "id": "54878383",
   "metadata": {},
   "outputs": [],
   "source": [
    "data_to_save = collapse(TimeArray(df; timestamp = :Date), Dates.quarter, last)\n",
    "data_to_save = data_to_save[:Yeld_10Y,:Dividend,:E,:CAPE,:T_Bill]\n",
    "writetimearray(data_to_save, \"from_shiller_q.csv\")"
   ]
  },
  {
   "cell_type": "code",
   "execution_count": null,
   "id": "615c9d55",
   "metadata": {},
   "outputs": [
    {
     "name": "stdout",
     "output_type": "stream",
     "text": [
      "Mean max drawdown length: 161.269\n",
      "Median max drawdown length: 159.5\n",
      "Max max drawdown length: 252\n",
      "Min max drawdown length: 34\n"
     ]
    }
   ],
   "source": [
    "function max_drawdown_length(returns::Matrix{Float64})\n",
    "    # returns: Matrix where each column is a scenario, each row a time step\n",
    "    # Returns a vector of maximum drawdown lengths for each scenario\n",
    "    \n",
    "    n_scenarios = size(returns, 2)\n",
    "    max_dd_lengths = zeros(Int, n_scenarios)\n",
    "    \n",
    "    for scenario in 1:n_scenarios\n",
    "        # Calculate cumulative returns (log-sum for returns)\n",
    "        cum_returns = cumsum(returns[:, scenario])\n",
    "        # Convert to price path (assuming starting price = 1)\n",
    "        prices = exp.(cum_returns)\n",
    "        \n",
    "        max_price = prices[1]  # Track historical peak\n",
    "        current_dd_length = 0  # Current drawdown length\n",
    "        max_dd_length = 0      # Maximum drawdown length for this scenario\n",
    "        start_idx = 1          # Start index of current drawdown\n",
    "        \n",
    "        for t in 2:length(prices)\n",
    "            if prices[t] >= max_price\n",
    "                # New peak, reset drawdown\n",
    "                max_price = prices[t]\n",
    "                current_dd_length = 0\n",
    "                start_idx = t\n",
    "            else\n",
    "                # In drawdown, increment length\n",
    "                current_dd_length = t - start_idx + 1\n",
    "                max_dd_length = max(max_dd_length, current_dd_length)\n",
    "            end\n",
    "        end\n",
    "        \n",
    "        max_dd_lengths[scenario] = max_dd_length\n",
    "    end\n",
    "    \n",
    "    return max_dd_lengths\n",
    "end\n",
    "\n",
    "# Example usage\n",
    "using Random\n",
    "\n",
    "# Simulate 1000 scenarios with 252 time steps (e.g., 1 year of trading days)\n",
    "Random.seed!(42)\n",
    "n_steps = 252\n",
    "n_scenarios = 1000\n",
    "returns = randn(n_steps, n_scenarios) * 0.01  # Normal returns with 1% std dev\n",
    "\n",
    "# Calculate maximum drawdown lengths\n",
    "max_dd_lengths = max_drawdown_length(returns)\n",
    "\n",
    "# Print summary statistics\n",
    "println(\"Mean max drawdown length: \", mean(max_dd_lengths))\n",
    "println(\"Median max drawdown length: \", median(max_dd_lengths))\n",
    "println(\"Max max drawdown length: \", maximum(max_dd_lengths))\n",
    "println(\"Min max drawdown length: \", minimum(max_dd_lengths))"
   ]
  },
  {
   "cell_type": "code",
   "execution_count": 9,
   "id": "b8427a45",
   "metadata": {},
   "outputs": [
    {
     "data": {
      "text/plain": [
       "2-element Vector{Int64}:\n",
       " 3\n",
       " 4"
      ]
     },
     "metadata": {},
     "output_type": "display_data"
    }
   ],
   "source": [
    "returns = collect([.2 .15 -.2 -.05 .25 .1 .05; .2 .15 -.2 -.05 .15 .1 .05]')\n",
    "\n",
    "max_drawdown_length(returns)"
   ]
  },
  {
   "cell_type": "code",
   "execution_count": 33,
   "id": "493bbcc6",
   "metadata": {},
   "outputs": [
    {
     "name": "stdout",
     "output_type": "stream",
     "text": [
      "Maximum Drawdown Statistics:\n",
      "  Mean: 17.14%\n",
      "  Median: 16.44%\n",
      "  Max: 44.77%\n",
      "  Min: 5.41%\n",
      "\n",
      "Maximum Drawdown Length Statistics:\n",
      "  Mean: 161.27 time steps\n",
      "  Median: 159.5 time steps\n",
      "  Max: 252 time steps\n",
      "  Min: 34 time steps\n"
     ]
    }
   ],
   "source": [
    "function max_drawdown_and_length(returns::Matrix{Float64})\n",
    "    # returns: Matrix where each column is a scenario, each row a time step\n",
    "    # Returns a tuple of vectors: (max_drawdowns, max_dd_lengths)\n",
    "    \n",
    "    n_scenarios = size(returns, 2)\n",
    "    max_drawdowns = zeros(Float64, n_scenarios)\n",
    "    max_dd_lengths = zeros(Int, n_scenarios)\n",
    "    \n",
    "    for scenario in 1:n_scenarios\n",
    "        # Calculate cumulative returns and convert to price path\n",
    "        cum_returns = cumsum(returns[:, scenario])\n",
    "        prices = exp.(cum_returns)  # Assuming log-returns, starting price = 1\n",
    "        \n",
    "        max_price = prices[1]  # Track historical peak\n",
    "        max_drawdown = 0.0     # Maximum drawdown (percentage)\n",
    "        current_dd_length = 0  # Current drawdown length\n",
    "        max_dd_length = 0      # Maximum drawdown length\n",
    "        start_idx = 1          # Start index of current drawdown\n",
    "        \n",
    "        for t in 2:length(prices)\n",
    "            if prices[t] >= max_price\n",
    "                # New peak, reset drawdown\n",
    "                max_price = prices[t]\n",
    "                current_dd_length = 0\n",
    "                start_idx = t\n",
    "            else\n",
    "                # In drawdown, update length and drawdown\n",
    "                current_dd_length = t - start_idx + 1\n",
    "                current_drawdown = (max_price - prices[t]) / max_price\n",
    "                max_dd_length = max(max_dd_length, current_dd_length)\n",
    "                max_drawdown = max(max_drawdown, current_drawdown)\n",
    "            end\n",
    "        end\n",
    "        \n",
    "        max_drawdowns[scenario] = max_drawdown\n",
    "        max_dd_lengths[scenario] = max_dd_length\n",
    "    end\n",
    "    \n",
    "    return (max_drawdowns, max_dd_lengths)\n",
    "end\n",
    "\n",
    "# Example usage\n",
    "using Random, Statistics\n",
    "\n",
    "# Simulate 1000 scenarios with 252 time steps\n",
    "Random.seed!(42)\n",
    "n_steps = 252\n",
    "n_scenarios = 1000\n",
    "returns = randn(n_steps, n_scenarios) * 0.01  # Normal returns with 1% std dev\n",
    "\n",
    "# Calculate maximum drawdowns and lengths\n",
    "max_drawdowns, max_dd_lengths = max_drawdown_and_length(returns)\n",
    "\n",
    "# Print summary statistics\n",
    "println(\"Maximum Drawdown Statistics:\")\n",
    "println(\"  Mean: \", round(mean(max_drawdowns) * 100, digits=2), \"%\")\n",
    "println(\"  Median: \", round(median(max_drawdowns) * 100, digits=2), \"%\")\n",
    "println(\"  Max: \", round(maximum(max_drawdowns) * 100, digits=2), \"%\")\n",
    "println(\"  Min: \", round(minimum(max_drawdowns) * 100, digits=2), \"%\")\n",
    "println(\"\\nMaximum Drawdown Length Statistics:\")\n",
    "println(\"  Mean: \", round(mean(max_dd_lengths), digits=2), \" time steps\")\n",
    "println(\"  Median: \", round(median(max_dd_lengths), digits=2), \" time steps\")\n",
    "println(\"  Max: \", maximum(max_dd_lengths), \" time steps\")\n",
    "println(\"  Min: \", minimum(max_dd_lengths), \" time steps\")"
   ]
  },
  {
   "cell_type": "code",
   "execution_count": 34,
   "id": "464f9fa1",
   "metadata": {},
   "outputs": [
    {
     "name": "stdout",
     "output_type": "stream",
     "text": [
      "[0.2212, 0.2212]\n",
      "[3, 4]\n"
     ]
    }
   ],
   "source": [
    "returns = collect([.2 .15 -.2 -.05 .25 .1 .05; .2 .15 -.2 -.05 .15 .1 .05]')\n",
    "dd, mddl = max_drawdown_and_length(returns)\n",
    "println(round.(dd, digits=4))\n",
    "println(mddl)\n"
   ]
  },
  {
   "cell_type": "code",
   "execution_count": 23,
   "id": "2110c2f4",
   "metadata": {},
   "outputs": [
    {
     "data": {
      "text/plain": [
       "2-element Vector{Float64}:\n",
       " 3.46\n",
       " 2.54"
      ]
     },
     "metadata": {},
     "output_type": "display_data"
    }
   ],
   "source": [
    "round.([3.456, 2.543], digits=2)"
   ]
  }
 ],
 "metadata": {
  "kernelspec": {
   "display_name": "Julia 1.11.2",
   "language": "julia",
   "name": "julia-1.11"
  },
  "language_info": {
   "file_extension": ".jl",
   "mimetype": "application/julia",
   "name": "julia",
   "version": "1.11.2"
  }
 },
 "nbformat": 4,
 "nbformat_minor": 5
}
