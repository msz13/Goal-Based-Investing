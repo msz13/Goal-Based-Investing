{
 "cells": [
  {
   "cell_type": "code",
   "execution_count": 1,
   "id": "2fc680c4",
   "metadata": {},
   "outputs": [
    {
     "name": "stderr",
     "output_type": "stream",
     "text": [
      "\u001b[32m\u001b[1m  Activating\u001b[22m\u001b[39m project at `c:\\Users\\matsz\\programowanie\\Optymalizacja_portfela\\FinancialPlanner`\n"
     ]
    }
   ],
   "source": [
    "import Pkg\n",
    "Pkg.activate(\"../../FinancialPlanner\")"
   ]
  },
  {
   "cell_type": "code",
   "execution_count": 2,
   "id": "a5bdbf73",
   "metadata": {},
   "outputs": [],
   "source": [
    "using Revise\n",
    "using LinearAlgebra\n",
    "using Distributions\n",
    "\n",
    "includet(\"kalman_filter.jl\")"
   ]
  },
  {
   "cell_type": "code",
   "execution_count": 4,
   "id": "6fa7d692",
   "metadata": {},
   "outputs": [
    {
     "ename": "PosDefException",
     "evalue": "PosDefException: matrix is not Hermitian; Factorization failed.",
     "output_type": "error",
     "traceback": [
      "PosDefException: matrix is not Hermitian; Factorization failed.\n",
      "\n",
      "Stacktrace:\n",
      "  [1] checkpositivedefinite(info::Int64)\n",
      "    @ LinearAlgebra C:\\Users\\matsz\\.julia\\juliaup\\julia-1.11.2+0.x64.w64.mingw32\\share\\julia\\stdlib\\v1.11\\LinearAlgebra\\src\\factorization.jl:68\n",
      "  [2] #cholesky!#164\n",
      "    @ C:\\Users\\matsz\\.julia\\juliaup\\julia-1.11.2+0.x64.w64.mingw32\\share\\julia\\stdlib\\v1.11\\LinearAlgebra\\src\\cholesky.jl:298 [inlined]\n",
      "  [3] cholesky! (repeats 2 times)\n",
      "    @ C:\\Users\\matsz\\.julia\\juliaup\\julia-1.11.2+0.x64.w64.mingw32\\share\\julia\\stdlib\\v1.11\\LinearAlgebra\\src\\cholesky.jl:295 [inlined]\n",
      "  [4] _cholesky\n",
      "    @ C:\\Users\\matsz\\.julia\\juliaup\\julia-1.11.2+0.x64.w64.mingw32\\share\\julia\\stdlib\\v1.11\\LinearAlgebra\\src\\cholesky.jl:411 [inlined]\n",
      "  [5] cholesky(A::Matrix{Float64}, ::NoPivot; check::Bool)\n",
      "    @ LinearAlgebra C:\\Users\\matsz\\.julia\\juliaup\\julia-1.11.2+0.x64.w64.mingw32\\share\\julia\\stdlib\\v1.11\\LinearAlgebra\\src\\cholesky.jl:401\n",
      "  [6] cholesky (repeats 2 times)\n",
      "    @ C:\\Users\\matsz\\.julia\\juliaup\\julia-1.11.2+0.x64.w64.mingw32\\share\\julia\\stdlib\\v1.11\\LinearAlgebra\\src\\cholesky.jl:401 [inlined]\n",
      "  [7] PDMat\n",
      "    @ C:\\Users\\matsz\\.julia\\packages\\PDMats\\cb4LS\\src\\pdmat.jl:40 [inlined]\n",
      "  [8] MvNormal\n",
      "    @ C:\\Users\\matsz\\.julia\\packages\\Distributions\\YQSrn\\src\\multivariate\\mvnormal.jl:197 [inlined]\n",
      "  [9] kalman_filter(y::Matrix{Float64}, A::Matrix{Float64}, C::Matrix{Float64}, Q::Diagonal{Float64, Vector{Float64}}, R::Diagonal{Float64, Vector{Float64}}, x0::Vector{Float64}, P0::Diagonal{Bool, Vector{Bool}}, u::Nothing)\n",
      "    @ Main c:\\Users\\matsz\\programowanie\\Optymalizacja_portfela\\FinancialPlanner\\_wip\\kalman_filter.jl:50\n",
      " [10] kalman_filter\n",
      "    @ c:\\Users\\matsz\\programowanie\\Optymalizacja_portfela\\FinancialPlanner\\_wip\\kalman_filter.jl:13 [inlined]\n",
      " [11] main()\n",
      "    @ Main c:\\Users\\matsz\\programowanie\\Optymalizacja_portfela\\FinancialPlanner\\_wip\\jl_notebook_cell_df34fa98e69747e1a8f8a730347b8e2f_W1sZmlsZQ==.jl:29\n",
      " [12] top-level scope\n",
      "    @ c:\\Users\\matsz\\programowanie\\Optymalizacja_portfela\\FinancialPlanner\\_wip\\jl_notebook_cell_df34fa98e69747e1a8f8a730347b8e2f_W1sZmlsZQ==.jl:42"
     ]
    }
   ],
   "source": [
    "\n",
    "# Example usage\n",
    "function main()\n",
    "    # Simulate a simple multivariate state-space model\n",
    "    T = 100  # Time steps\n",
    "    m = 2    # State dimension\n",
    "    n = 2    # Observation dimension\n",
    "    \n",
    "    # Model parameters\n",
    "    A = [0.9 0.1; 0.2 0.8]  # State transition matrix\n",
    "    C = [1.0 0.0; 0.0 1.0]  # Observation matrix\n",
    "    Q = 0.1 * I(m)           # State noise covariance\n",
    "    R = 0.1 * I(n)           # Observation noise covariance\n",
    "    x0 = zeros(m)            # Initial state mean\n",
    "    P0 = I(m)                # Initial state covariance\n",
    "    \n",
    "    # Simulate data\n",
    "    x = zeros(T, m)\n",
    "    y = zeros(T, n)\n",
    "    x[1, :] = rand(MvNormal(x0, P0))\n",
    "    \n",
    "    for t in 1:T-1\n",
    "        x[t+1, :] = A * x[t, :] + rand(MvNormal(zeros(m), Q))\n",
    "        y[t, :] = C * x[t, :] + rand(MvNormal(zeros(n), R))\n",
    "    end\n",
    "    y[T, :] = C * x[T, :] + rand(MvNormal(zeros(n), R))\n",
    "    \n",
    "   # Run Kalman filter\n",
    "    x_filt, P_filt, x_pred, P_pred, loglik = kalman_filter(y, A, C, Q, R, x0, P0)\n",
    "    \n",
    "    #=  \n",
    "    # Run Carter-Kohn smoother\n",
    "    x_smooth, P_smooth = carter_kohn_smoother(x_filt, P_filt, x_pred, P_pred, A, Q)\n",
    "    \n",
    "    # Print results\n",
    "    println(\"Log-likelihood: \", loglik)\n",
    "    println(\"First few smoothed states:\")\n",
    "    println(x_smooth[1:5, :]) =#\n",
    "end\n",
    "\n",
    "# Run the example\n",
    "main()"
   ]
  }
 ],
 "metadata": {
  "kernelspec": {
   "display_name": "Julia 1.11.2",
   "language": "julia",
   "name": "julia-1.11"
  },
  "language_info": {
   "file_extension": ".jl",
   "mimetype": "application/julia",
   "name": "julia",
   "version": "1.11.2"
  }
 },
 "nbformat": 4,
 "nbformat_minor": 5
}
