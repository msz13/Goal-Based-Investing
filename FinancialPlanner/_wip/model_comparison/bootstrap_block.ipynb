{
 "cells": [
  {
   "cell_type": "code",
   "execution_count": 15,
   "id": "96e2b273",
   "metadata": {},
   "outputs": [
    {
     "name": "stderr",
     "output_type": "stream",
     "text": [
      "\u001b[32m\u001b[1m  Activating\u001b[22m\u001b[39m project at `c:\\Users\\matsz\\programowanie\\Optymalizacja_portfela\\FinancialPlanner`\n"
     ]
    }
   ],
   "source": [
    "import Pkg\n",
    "Pkg.activate(\"../../../FinancialPlanner\")"
   ]
  },
  {
   "cell_type": "code",
   "execution_count": 16,
   "id": "d3a687ec",
   "metadata": {},
   "outputs": [],
   "source": [
    "using Revise\n",
    "using Turing\n",
    "using LinearAlgebra\n",
    "using Distributions\n",
    "using Random\n",
    "using StatsPlots\n",
    "using PDMats\n",
    "using StatsBase\n",
    "using Base.Iterators\n",
    "using DataFrames, TimeSeries, XLSX\n",
    "using PrettyTables"
   ]
  },
  {
   "cell_type": "code",
   "execution_count": 17,
   "id": "e4a357fc",
   "metadata": {},
   "outputs": [],
   "source": [
    "include(\"../VARs/utils.jl\")\n",
    "includet(\"../bootstrap_model.jl\")"
   ]
  },
  {
   "cell_type": "code",
   "execution_count": 18,
   "id": "af2d91f0",
   "metadata": {},
   "outputs": [
    {
     "data": {
      "text/plain": [
       "\"Returns\""
      ]
     },
     "metadata": {},
     "output_type": "display_data"
    },
    {
     "data": {
      "text/html": [
       "<table>\n",
       "  <thead>\n",
       "    <tr class = \"header headerLastRow\">\n",
       "      <th class = \"rowLabel\" style = \"font-weight: bold; text-align: right;\"></th>\n",
       "      <th style = \"text-align: right;\">std</th>\n",
       "      <th style = \"text-align: right;\">max</th>\n",
       "      <th style = \"text-align: right;\">mean</th>\n",
       "      <th style = \"text-align: right;\">p75th</th>\n",
       "      <th style = \"text-align: right;\">min</th>\n",
       "      <th style = \"text-align: right;\">skewness</th>\n",
       "      <th style = \"text-align: right;\">p25th</th>\n",
       "      <th style = \"text-align: right;\">autocor</th>\n",
       "      <th style = \"text-align: right;\">kurtosis</th>\n",
       "      <th style = \"text-align: right;\">sr</th>\n",
       "      <th style = \"text-align: right;\">median</th>\n",
       "    </tr>\n",
       "  </thead>\n",
       "  <tbody>\n",
       "    <tr>\n",
       "      <td class = \"rowLabel\" style = \"font-weight: bold; text-align: right;\">Total_Stock</td>\n",
       "      <td style = \"text-align: right;\">0.1473</td>\n",
       "      <td style = \"text-align: right;\">1.8543</td>\n",
       "      <td style = \"text-align: right;\">0.1012</td>\n",
       "      <td style = \"text-align: right;\">0.4365</td>\n",
       "      <td style = \"text-align: right;\">-2.9008</td>\n",
       "      <td style = \"text-align: right;\">-0.6469</td>\n",
       "      <td style = \"text-align: right;\">-0.1883</td>\n",
       "      <td style = \"text-align: right;\">0.0258</td>\n",
       "      <td style = \"text-align: right;\">2.1941</td>\n",
       "      <td style = \"text-align: right;\">0.6874</td>\n",
       "      <td style = \"text-align: right;\">0.1474</td>\n",
       "    </tr>\n",
       "    <tr>\n",
       "      <td class = \"rowLabel\" style = \"font-weight: bold; text-align: right;\">Price_10Y</td>\n",
       "      <td style = \"text-align: right;\">0.0755</td>\n",
       "      <td style = \"text-align: right;\">1.3969</td>\n",
       "      <td style = \"text-align: right;\">0.0531</td>\n",
       "      <td style = \"text-align: right;\">0.1909</td>\n",
       "      <td style = \"text-align: right;\">-0.9866</td>\n",
       "      <td style = \"text-align: right;\">0.3097</td>\n",
       "      <td style = \"text-align: right;\">-0.0893</td>\n",
       "      <td style = \"text-align: right;\">0.1022</td>\n",
       "      <td style = \"text-align: right;\">1.9867</td>\n",
       "      <td style = \"text-align: right;\">0.7037</td>\n",
       "      <td style = \"text-align: right;\">0.0377</td>\n",
       "    </tr>\n",
       "  </tbody>\n",
       "</table>\n"
      ]
     },
     "metadata": {},
     "output_type": "display_data"
    },
    {
     "data": {
      "text/plain": [
       "nothing"
      ]
     },
     "metadata": {},
     "output_type": "display_data"
    },
    {
     "data": {
      "text/plain": [
       "\"Real_returns\""
      ]
     },
     "metadata": {},
     "output_type": "display_data"
    },
    {
     "data": {
      "text/html": [
       "<table>\n",
       "  <thead>\n",
       "    <tr class = \"header headerLastRow\">\n",
       "      <th class = \"rowLabel\" style = \"font-weight: bold; text-align: right;\"></th>\n",
       "      <th style = \"text-align: right;\">std</th>\n",
       "      <th style = \"text-align: right;\">max</th>\n",
       "      <th style = \"text-align: right;\">mean</th>\n",
       "      <th style = \"text-align: right;\">p75th</th>\n",
       "      <th style = \"text-align: right;\">min</th>\n",
       "      <th style = \"text-align: right;\">skewness</th>\n",
       "      <th style = \"text-align: right;\">p25th</th>\n",
       "      <th style = \"text-align: right;\">autocor</th>\n",
       "      <th style = \"text-align: right;\">kurtosis</th>\n",
       "      <th style = \"text-align: right;\">sr</th>\n",
       "      <th style = \"text-align: right;\">median</th>\n",
       "    </tr>\n",
       "  </thead>\n",
       "  <tbody>\n",
       "    <tr>\n",
       "      <td class = \"rowLabel\" style = \"font-weight: bold; text-align: right;\">Total_Stock_CPI</td>\n",
       "      <td style = \"text-align: right;\">0.1479</td>\n",
       "      <td style = \"text-align: right;\">1.7607</td>\n",
       "      <td style = \"text-align: right;\">0.0658</td>\n",
       "      <td style = \"text-align: right;\">0.4053</td>\n",
       "      <td style = \"text-align: right;\">-2.9112</td>\n",
       "      <td style = \"text-align: right;\">-0.596</td>\n",
       "      <td style = \"text-align: right;\">-0.2186</td>\n",
       "      <td style = \"text-align: right;\">0.032</td>\n",
       "      <td style = \"text-align: right;\">1.9119</td>\n",
       "      <td style = \"text-align: right;\">0.445</td>\n",
       "      <td style = \"text-align: right;\">0.1107</td>\n",
       "    </tr>\n",
       "    <tr>\n",
       "      <td class = \"rowLabel\" style = \"font-weight: bold; text-align: right;\">Price_10Y_CPI</td>\n",
       "      <td style = \"text-align: right;\">0.078</td>\n",
       "      <td style = \"text-align: right;\">1.279</td>\n",
       "      <td style = \"text-align: right;\">0.0177</td>\n",
       "      <td style = \"text-align: right;\">0.1544</td>\n",
       "      <td style = \"text-align: right;\">-1.1677</td>\n",
       "      <td style = \"text-align: right;\">0.2268</td>\n",
       "      <td style = \"text-align: right;\">-0.1322</td>\n",
       "      <td style = \"text-align: right;\">0.1437</td>\n",
       "      <td style = \"text-align: right;\">2.0153</td>\n",
       "      <td style = \"text-align: right;\">0.2268</td>\n",
       "      <td style = \"text-align: right;\">0.0058</td>\n",
       "    </tr>\n",
       "  </tbody>\n",
       "</table>\n"
      ]
     },
     "metadata": {},
     "output_type": "display_data"
    },
    {
     "data": {
      "text/plain": [
       "nothing"
      ]
     },
     "metadata": {},
     "output_type": "display_data"
    },
    {
     "data": {
      "text/plain": [
       "\"Correlations\""
      ]
     },
     "metadata": {},
     "output_type": "display_data"
    },
    {
     "data": {
      "text/plain": [
       "2×2 Matrix{Float64}:\n",
       " 1.0        0.0980477\n",
       " 0.0980477  1.0"
      ]
     },
     "metadata": {},
     "output_type": "display_data"
    }
   ],
   "source": [
    "df = DataFrame(XLSX.readtable(\"../../data/usa_data.xlsx\", \"Data\", infer_eltypes=true))\n",
    "data_source = collapse(TimeArray(df; timestamp = :Date), Dates.month, last)\n",
    "\n",
    "freq = 12\n",
    "returns = percentchange(data_source[:Total_Stock, :Price_10Y], :log)\n",
    "cpi = percentchange(data_source[:CPI], :log)\n",
    "real_returns = returns .- cpi\n",
    "start = Date(1955, 01,01)\n",
    "end_d = Date(2024, 12, 31)\n",
    "\n",
    "\n",
    "display(\"Returns\")\n",
    "display(returns_summarystats(to(from(returns, start),end_d), freq))\n",
    "display(\"Real_returns\")\n",
    "display(returns_summarystats(to(from(real_returns, start),end_d), freq))\n",
    "\n",
    "\n",
    "display(\"Correlations\")\n",
    "display(cor(values(to(from(real_returns, start),end_d)))) "
   ]
  },
  {
   "cell_type": "code",
   "execution_count": 19,
   "id": "35bbc92d",
   "metadata": {},
   "outputs": [
    {
     "data": {
      "text/html": [
       "<table>\n",
       "  <caption style = \"text-align: left;\">Means</caption>\n",
       "  <thead>\n",
       "    <tr class = \"header headerLastRow\">\n",
       "      <th class = \"rowLabel\" style = \"font-weight: bold; text-align: right;\"></th>\n",
       "      <th style = \"text-align: right;\">Total_Stock_CPI</th>\n",
       "      <th style = \"text-align: right;\">Price_10Y_CPI</th>\n",
       "    </tr>\n",
       "  </thead>\n",
       "  <tbody>\n",
       "    <tr>\n",
       "      <td class = \"rowLabel\" style = \"font-weight: bold; text-align: right;\">1</td>\n",
       "      <td style = \"text-align: right;\">0.0615</td>\n",
       "      <td style = \"text-align: right;\">0.0246</td>\n",
       "    </tr>\n",
       "    <tr>\n",
       "      <td class = \"rowLabel\" style = \"font-weight: bold; text-align: right;\">5</td>\n",
       "      <td style = \"text-align: right;\">0.0619</td>\n",
       "      <td style = \"text-align: right;\">0.0232</td>\n",
       "    </tr>\n",
       "    <tr>\n",
       "      <td class = \"rowLabel\" style = \"font-weight: bold; text-align: right;\">10</td>\n",
       "      <td style = \"text-align: right;\">0.062</td>\n",
       "      <td style = \"text-align: right;\">0.0225</td>\n",
       "    </tr>\n",
       "    <tr>\n",
       "      <td class = \"rowLabel\" style = \"font-weight: bold; text-align: right;\">25</td>\n",
       "      <td style = \"text-align: right;\">0.0623</td>\n",
       "      <td style = \"text-align: right;\">0.0222</td>\n",
       "    </tr>\n",
       "  </tbody>\n",
       "</table>\n"
      ]
     },
     "metadata": {},
     "output_type": "display_data"
    },
    {
     "data": {
      "text/html": [
       "<table>\n",
       "  <caption style = \"text-align: left;\">Standard devations</caption>\n",
       "  <thead>\n",
       "    <tr class = \"header headerLastRow\">\n",
       "      <th class = \"rowLabel\" style = \"font-weight: bold; text-align: right;\"></th>\n",
       "      <th style = \"text-align: right;\">Total_Stock_CPI</th>\n",
       "      <th style = \"text-align: right;\">Price_10Y_CPI</th>\n",
       "    </tr>\n",
       "  </thead>\n",
       "  <tbody>\n",
       "    <tr>\n",
       "      <td class = \"rowLabel\" style = \"font-weight: bold; text-align: right;\">1</td>\n",
       "      <td style = \"text-align: right;\">0.1559</td>\n",
       "      <td style = \"text-align: right;\">0.0878</td>\n",
       "    </tr>\n",
       "    <tr>\n",
       "      <td class = \"rowLabel\" style = \"font-weight: bold; text-align: right;\">5</td>\n",
       "      <td style = \"text-align: right;\">0.0679</td>\n",
       "      <td style = \"text-align: right;\">0.0415</td>\n",
       "    </tr>\n",
       "    <tr>\n",
       "      <td class = \"rowLabel\" style = \"font-weight: bold; text-align: right;\">10</td>\n",
       "      <td style = \"text-align: right;\">0.0478</td>\n",
       "      <td style = \"text-align: right;\">0.0309</td>\n",
       "    </tr>\n",
       "    <tr>\n",
       "      <td class = \"rowLabel\" style = \"font-weight: bold; text-align: right;\">25</td>\n",
       "      <td style = \"text-align: right;\">0.0297</td>\n",
       "      <td style = \"text-align: right;\">0.0203</td>\n",
       "    </tr>\n",
       "  </tbody>\n",
       "</table>\n"
      ]
     },
     "metadata": {},
     "output_type": "display_data"
    },
    {
     "data": {
      "text/html": [
       "<table>\n",
       "  <caption style = \"text-align: left;\">Skewness</caption>\n",
       "  <thead>\n",
       "    <tr class = \"header headerLastRow\">\n",
       "      <th class = \"rowLabel\" style = \"font-weight: bold; text-align: right;\"></th>\n",
       "      <th style = \"text-align: right;\">Total_Stock_CPI</th>\n",
       "      <th style = \"text-align: right;\">Price_10Y_CPI</th>\n",
       "    </tr>\n",
       "  </thead>\n",
       "  <tbody>\n",
       "    <tr>\n",
       "      <td class = \"rowLabel\" style = \"font-weight: bold; text-align: right;\">1</td>\n",
       "      <td style = \"text-align: right;\">-0.761</td>\n",
       "      <td style = \"text-align: right;\">0.4653</td>\n",
       "    </tr>\n",
       "    <tr>\n",
       "      <td class = \"rowLabel\" style = \"font-weight: bold; text-align: right;\">5</td>\n",
       "      <td style = \"text-align: right;\">-0.2362</td>\n",
       "      <td style = \"text-align: right;\">0.2649</td>\n",
       "    </tr>\n",
       "    <tr>\n",
       "      <td class = \"rowLabel\" style = \"font-weight: bold; text-align: right;\">10</td>\n",
       "      <td style = \"text-align: right;\">-0.3058</td>\n",
       "      <td style = \"text-align: right;\">0.1072</td>\n",
       "    </tr>\n",
       "    <tr>\n",
       "      <td class = \"rowLabel\" style = \"font-weight: bold; text-align: right;\">25</td>\n",
       "      <td style = \"text-align: right;\">-0.1843</td>\n",
       "      <td style = \"text-align: right;\">0.1272</td>\n",
       "    </tr>\n",
       "  </tbody>\n",
       "</table>\n"
      ]
     },
     "metadata": {},
     "output_type": "display_data"
    },
    {
     "data": {
      "text/html": [
       "<table>\n",
       "  <caption style = \"text-align: left;\">Kurtosis</caption>\n",
       "  <thead>\n",
       "    <tr class = \"header headerLastRow\">\n",
       "      <th class = \"rowLabel\" style = \"font-weight: bold; text-align: right;\"></th>\n",
       "      <th style = \"text-align: right;\">Total_Stock_CPI</th>\n",
       "      <th style = \"text-align: right;\">Price_10Y_CPI</th>\n",
       "    </tr>\n",
       "  </thead>\n",
       "  <tbody>\n",
       "    <tr>\n",
       "      <td class = \"rowLabel\" style = \"font-weight: bold; text-align: right;\">1</td>\n",
       "      <td style = \"text-align: right;\">1.0074</td>\n",
       "      <td style = \"text-align: right;\">1.0259</td>\n",
       "    </tr>\n",
       "    <tr>\n",
       "      <td class = \"rowLabel\" style = \"font-weight: bold; text-align: right;\">5</td>\n",
       "      <td style = \"text-align: right;\">-0.2452</td>\n",
       "      <td style = \"text-align: right;\">0.8609</td>\n",
       "    </tr>\n",
       "    <tr>\n",
       "      <td class = \"rowLabel\" style = \"font-weight: bold; text-align: right;\">10</td>\n",
       "      <td style = \"text-align: right;\">-0.329</td>\n",
       "      <td style = \"text-align: right;\">-0.0195</td>\n",
       "    </tr>\n",
       "    <tr>\n",
       "      <td class = \"rowLabel\" style = \"font-weight: bold; text-align: right;\">25</td>\n",
       "      <td style = \"text-align: right;\">-0.1977</td>\n",
       "      <td style = \"text-align: right;\">-0.1528</td>\n",
       "    </tr>\n",
       "  </tbody>\n",
       "</table>\n"
      ]
     },
     "metadata": {},
     "output_type": "display_data"
    },
    {
     "data": {
      "text/html": [
       "<table>\n",
       "  <caption style = \"text-align: left;\">Total_Stock_CPI</caption>\n",
       "  <thead>\n",
       "    <tr class = \"header headerLastRow\">\n",
       "      <th class = \"rowLabel\" style = \"font-weight: bold; text-align: right;\"></th>\n",
       "      <th style = \"text-align: right;\">0.01</th>\n",
       "      <th style = \"text-align: right;\">0.025</th>\n",
       "      <th style = \"text-align: right;\">0.05</th>\n",
       "      <th style = \"text-align: right;\">0.25</th>\n",
       "      <th style = \"text-align: right;\">0.5</th>\n",
       "      <th style = \"text-align: right;\">0.75</th>\n",
       "      <th style = \"text-align: right;\">0.95</th>\n",
       "      <th style = \"text-align: right;\">0.975</th>\n",
       "      <th style = \"text-align: right;\">0.99</th>\n",
       "    </tr>\n",
       "  </thead>\n",
       "  <tbody>\n",
       "    <tr>\n",
       "      <td class = \"rowLabel\" style = \"font-weight: bold; text-align: right;\">1</td>\n",
       "      <td style = \"text-align: right;\">-0.4418</td>\n",
       "      <td style = \"text-align: right;\">-0.2905</td>\n",
       "      <td style = \"text-align: right;\">-0.2182</td>\n",
       "      <td style = \"text-align: right;\">-0.0233</td>\n",
       "      <td style = \"text-align: right;\">0.0818</td>\n",
       "      <td style = \"text-align: right;\">0.1636</td>\n",
       "      <td style = \"text-align: right;\">0.2818</td>\n",
       "      <td style = \"text-align: right;\">0.3138</td>\n",
       "      <td style = \"text-align: right;\">0.3615</td>\n",
       "    </tr>\n",
       "    <tr>\n",
       "      <td class = \"rowLabel\" style = \"font-weight: bold; text-align: right;\">5</td>\n",
       "      <td style = \"text-align: right;\">-0.0942</td>\n",
       "      <td style = \"text-align: right;\">-0.074</td>\n",
       "      <td style = \"text-align: right;\">-0.0508</td>\n",
       "      <td style = \"text-align: right;\">0.0119</td>\n",
       "      <td style = \"text-align: right;\">0.0708</td>\n",
       "      <td style = \"text-align: right;\">0.1095</td>\n",
       "      <td style = \"text-align: right;\">0.1676</td>\n",
       "      <td style = \"text-align: right;\">0.19</td>\n",
       "      <td style = \"text-align: right;\">0.2104</td>\n",
       "    </tr>\n",
       "    <tr>\n",
       "      <td class = \"rowLabel\" style = \"font-weight: bold; text-align: right;\">10</td>\n",
       "      <td style = \"text-align: right;\">-0.0506</td>\n",
       "      <td style = \"text-align: right;\">-0.0335</td>\n",
       "      <td style = \"text-align: right;\">-0.0226</td>\n",
       "      <td style = \"text-align: right;\">0.0302</td>\n",
       "      <td style = \"text-align: right;\">0.0653</td>\n",
       "      <td style = \"text-align: right;\">0.0976</td>\n",
       "      <td style = \"text-align: right;\">0.1329</td>\n",
       "      <td style = \"text-align: right;\">0.1436</td>\n",
       "      <td style = \"text-align: right;\">0.1585</td>\n",
       "    </tr>\n",
       "    <tr>\n",
       "      <td class = \"rowLabel\" style = \"font-weight: bold; text-align: right;\">25</td>\n",
       "      <td style = \"text-align: right;\">-0.0086</td>\n",
       "      <td style = \"text-align: right;\">0.0015</td>\n",
       "      <td style = \"text-align: right;\">0.0119</td>\n",
       "      <td style = \"text-align: right;\">0.0421</td>\n",
       "      <td style = \"text-align: right;\">0.0634</td>\n",
       "      <td style = \"text-align: right;\">0.0834</td>\n",
       "      <td style = \"text-align: right;\">0.1093</td>\n",
       "      <td style = \"text-align: right;\">0.1168</td>\n",
       "      <td style = \"text-align: right;\">0.1244</td>\n",
       "    </tr>\n",
       "  </tbody>\n",
       "</table>\n"
      ]
     },
     "metadata": {},
     "output_type": "display_data"
    },
    {
     "data": {
      "text/html": [
       "<table>\n",
       "  <caption style = \"text-align: left;\">Price_10Y_CPI</caption>\n",
       "  <thead>\n",
       "    <tr class = \"header headerLastRow\">\n",
       "      <th class = \"rowLabel\" style = \"font-weight: bold; text-align: right;\"></th>\n",
       "      <th style = \"text-align: right;\">0.01</th>\n",
       "      <th style = \"text-align: right;\">0.025</th>\n",
       "      <th style = \"text-align: right;\">0.05</th>\n",
       "      <th style = \"text-align: right;\">0.25</th>\n",
       "      <th style = \"text-align: right;\">0.5</th>\n",
       "      <th style = \"text-align: right;\">0.75</th>\n",
       "      <th style = \"text-align: right;\">0.95</th>\n",
       "      <th style = \"text-align: right;\">0.975</th>\n",
       "      <th style = \"text-align: right;\">0.99</th>\n",
       "    </tr>\n",
       "  </thead>\n",
       "  <tbody>\n",
       "    <tr>\n",
       "      <td class = \"rowLabel\" style = \"font-weight: bold; text-align: right;\">1</td>\n",
       "      <td style = \"text-align: right;\">-0.1745</td>\n",
       "      <td style = \"text-align: right;\">-0.1293</td>\n",
       "      <td style = \"text-align: right;\">-0.1031</td>\n",
       "      <td style = \"text-align: right;\">-0.0341</td>\n",
       "      <td style = \"text-align: right;\">0.0203</td>\n",
       "      <td style = \"text-align: right;\">0.0786</td>\n",
       "      <td style = \"text-align: right;\">0.1699</td>\n",
       "      <td style = \"text-align: right;\">0.2267</td>\n",
       "      <td style = \"text-align: right;\">0.2852</td>\n",
       "    </tr>\n",
       "    <tr>\n",
       "      <td class = \"rowLabel\" style = \"font-weight: bold; text-align: right;\">5</td>\n",
       "      <td style = \"text-align: right;\">-0.0752</td>\n",
       "      <td style = \"text-align: right;\">-0.0616</td>\n",
       "      <td style = \"text-align: right;\">-0.0431</td>\n",
       "      <td style = \"text-align: right;\">-0.0031</td>\n",
       "      <td style = \"text-align: right;\">0.0214</td>\n",
       "      <td style = \"text-align: right;\">0.0495</td>\n",
       "      <td style = \"text-align: right;\">0.0916</td>\n",
       "      <td style = \"text-align: right;\">0.1131</td>\n",
       "      <td style = \"text-align: right;\">0.1443</td>\n",
       "    </tr>\n",
       "    <tr>\n",
       "      <td class = \"rowLabel\" style = \"font-weight: bold; text-align: right;\">10</td>\n",
       "      <td style = \"text-align: right;\">-0.0466</td>\n",
       "      <td style = \"text-align: right;\">-0.0357</td>\n",
       "      <td style = \"text-align: right;\">-0.0262</td>\n",
       "      <td style = \"text-align: right;\">0.0013</td>\n",
       "      <td style = \"text-align: right;\">0.0222</td>\n",
       "      <td style = \"text-align: right;\">0.0428</td>\n",
       "      <td style = \"text-align: right;\">0.0748</td>\n",
       "      <td style = \"text-align: right;\">0.086</td>\n",
       "      <td style = \"text-align: right;\">0.0947</td>\n",
       "    </tr>\n",
       "    <tr>\n",
       "      <td class = \"rowLabel\" style = \"font-weight: bold; text-align: right;\">25</td>\n",
       "      <td style = \"text-align: right;\">-0.0217</td>\n",
       "      <td style = \"text-align: right;\">-0.0158</td>\n",
       "      <td style = \"text-align: right;\">-0.0102</td>\n",
       "      <td style = \"text-align: right;\">0.0077</td>\n",
       "      <td style = \"text-align: right;\">0.0219</td>\n",
       "      <td style = \"text-align: right;\">0.0361</td>\n",
       "      <td style = \"text-align: right;\">0.056</td>\n",
       "      <td style = \"text-align: right;\">0.0623</td>\n",
       "      <td style = \"text-align: right;\">0.0699</td>\n",
       "    </tr>\n",
       "  </tbody>\n",
       "</table>\n"
      ]
     },
     "metadata": {},
     "output_type": "display_data"
    }
   ],
   "source": [
    "assets_names = [:Total_Stock_CPI, :Price_10Y_CPI]\n",
    "data = to(from(real_returns[assets_names], start),end_d) \n",
    "\n",
    "scenarios = block_bootstrap(values(data), 10_000, block_size=60, random_block=true)\n",
    "\n",
    "periods = [1,5, 10, 25]\n",
    "ret_in_years = cum_returns_in_periods(scenarios, periods, freq, true)\n",
    "print_scenarios_summary(ret_in_years, assets_names, string.(periods))\n",
    "n_assets = length(assets_names)\n",
    "for a in 1:n_assets\n",
    "    print_scenarios_percentiles(ret_in_years[a, :, :], [.01, .025, .05, .25, .5, .75, .95, .975, .99], string.(periods), string.(assets_names[a]))\n",
    "end  \n"
   ]
  },
  {
   "cell_type": "code",
   "execution_count": 20,
   "id": "c2a66128",
   "metadata": {},
   "outputs": [
    {
     "data": {
      "text/plain": [
       ":Total_Stock_CPI"
      ]
     },
     "metadata": {},
     "output_type": "display_data"
    },
    {
     "data": {
      "text/plain": [
       "\"mdd\""
      ]
     },
     "metadata": {},
     "output_type": "display_data"
    },
    {
     "data": {
      "text/plain": [
       "1×5 adjoint(::Vector{Float64}) with eltype Float64:\n",
       " 0.421327  0.521378  0.539183  0.592982  0.724743"
      ]
     },
     "metadata": {},
     "output_type": "display_data"
    },
    {
     "data": {
      "text/plain": [
       "\"mddl\""
      ]
     },
     "metadata": {},
     "output_type": "display_data"
    },
    {
     "data": {
      "text/plain": [
       "1×5 adjoint(::Vector{Float64}) with eltype Float64:\n",
       " 60.0  106.0  145.0  191.0  352.0"
      ]
     },
     "metadata": {},
     "output_type": "display_data"
    },
    {
     "data": {
      "text/plain": [
       ":Price_10Y_CPI"
      ]
     },
     "metadata": {},
     "output_type": "display_data"
    },
    {
     "data": {
      "text/plain": [
       "\"mdd\""
      ]
     },
     "metadata": {},
     "output_type": "display_data"
    },
    {
     "data": {
      "text/plain": [
       "1×5 adjoint(::Vector{Float64}) with eltype Float64:\n",
       " 0.199936  0.376498  0.430734  0.498436  0.650713"
      ]
     },
     "metadata": {},
     "output_type": "display_data"
    },
    {
     "data": {
      "text/plain": [
       "\"mddl\""
      ]
     },
     "metadata": {},
     "output_type": "display_data"
    },
    {
     "data": {
      "text/plain": [
       "1×5 adjoint(::Vector{Float64}) with eltype Float64:\n",
       " 78.0  155.0  225.0  332.0  653.03"
      ]
     },
     "metadata": {},
     "output_type": "display_data"
    }
   ],
   "source": [
    "mdd, mddl = max_drawdown_and_length(scenarios[1,:,:])\n",
    "\n",
    "display(assets_names[1])\n",
    "display(\"mdd\")\n",
    "display(quantile(mdd, [.03, .25, .5, .75, .97])')\n",
    "display(\"mddl\")\n",
    "display(quantile(mddl, [.03, .25, .5, .75, .97])')\n",
    "\n",
    "mdd, mddl = max_drawdown_and_length(scenarios[2,:,:])\n",
    "\n",
    "display(assets_names[2])\n",
    "display(\"mdd\")\n",
    "display(quantile(mdd, [.03, .25, .5, .75, .97])')\n",
    "display(\"mddl\")\n",
    "display(quantile(mddl, [.03, .25, .5, .75, .97])')"
   ]
  }
 ],
 "metadata": {
  "kernelspec": {
   "display_name": "Julia 1.11.2",
   "language": "julia",
   "name": "julia-1.11"
  },
  "language_info": {
   "file_extension": ".jl",
   "mimetype": "application/julia",
   "name": "julia",
   "version": "1.11.2"
  }
 },
 "nbformat": 4,
 "nbformat_minor": 5
}
