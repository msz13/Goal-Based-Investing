{
 "cells": [
  {
   "cell_type": "code",
   "execution_count": 1,
   "id": "96e2b273",
   "metadata": {},
   "outputs": [
    {
     "name": "stderr",
     "output_type": "stream",
     "text": [
      "\u001b[32m\u001b[1m  Activating\u001b[22m\u001b[39m project at `c:\\Users\\matsz\\programowanie\\Optymalizacja_portfela\\FinancialPlanner`\n"
     ]
    }
   ],
   "source": [
    "import Pkg\n",
    "Pkg.activate(\"../../../FinancialPlanner\")"
   ]
  },
  {
   "cell_type": "code",
   "execution_count": 2,
   "id": "d3a687ec",
   "metadata": {},
   "outputs": [
    {
     "name": "stderr",
     "output_type": "stream",
     "text": [
      "┌ Warning: attempting to remove probably stale pidfile\n",
      "│   path = C:\\Users\\matsz\\.julia\\compiled\\v1.11\\DataFrames\\AR9oZ_d1gGA.ji.pidfile\n",
      "└ @ FileWatching.Pidfile C:\\Users\\matsz\\.julia\\juliaup\\julia-1.11.2+0.x64.w64.mingw32\\share\\julia\\stdlib\\v1.11\\FileWatching\\src\\pidfile.jl:249\n"
     ]
    }
   ],
   "source": [
    "using Revise\n",
    "using LinearAlgebra\n",
    "using Distributions\n",
    "using PDMats\n",
    "using StatsBase\n",
    "using DataFrames, TimeSeries, XLSX\n",
    "using PrettyTables"
   ]
  },
  {
   "cell_type": "code",
   "execution_count": 4,
   "id": "e4a357fc",
   "metadata": {},
   "outputs": [],
   "source": [
    "include(\"../VARs/utils.jl\")\n",
    "includet(\"../bootstrap_model.jl\")"
   ]
  },
  {
   "cell_type": "code",
   "execution_count": 5,
   "id": "af2d91f0",
   "metadata": {},
   "outputs": [
    {
     "data": {
      "text/plain": [
       "\"Returns\""
      ]
     },
     "metadata": {},
     "output_type": "display_data"
    },
    {
     "data": {
      "text/html": [
       "<table>\n",
       "  <thead>\n",
       "    <tr class = \"header headerLastRow\">\n",
       "      <th class = \"rowLabel\" style = \"font-weight: bold; text-align: right;\"></th>\n",
       "      <th style = \"text-align: right;\">std</th>\n",
       "      <th style = \"text-align: right;\">max</th>\n",
       "      <th style = \"text-align: right;\">mean</th>\n",
       "      <th style = \"text-align: right;\">p75th</th>\n",
       "      <th style = \"text-align: right;\">min</th>\n",
       "      <th style = \"text-align: right;\">skewness</th>\n",
       "      <th style = \"text-align: right;\">p25th</th>\n",
       "      <th style = \"text-align: right;\">autocor</th>\n",
       "      <th style = \"text-align: right;\">kurtosis</th>\n",
       "      <th style = \"text-align: right;\">sr</th>\n",
       "      <th style = \"text-align: right;\">median</th>\n",
       "    </tr>\n",
       "  </thead>\n",
       "  <tbody>\n",
       "    <tr>\n",
       "      <td class = \"rowLabel\" style = \"font-weight: bold; text-align: right;\">Total_Stock</td>\n",
       "      <td style = \"text-align: right;\">0.1473</td>\n",
       "      <td style = \"text-align: right;\">1.8543</td>\n",
       "      <td style = \"text-align: right;\">0.1012</td>\n",
       "      <td style = \"text-align: right;\">0.4365</td>\n",
       "      <td style = \"text-align: right;\">-2.9008</td>\n",
       "      <td style = \"text-align: right;\">-0.6469</td>\n",
       "      <td style = \"text-align: right;\">-0.1883</td>\n",
       "      <td style = \"text-align: right;\">0.0258</td>\n",
       "      <td style = \"text-align: right;\">2.1941</td>\n",
       "      <td style = \"text-align: right;\">0.6874</td>\n",
       "      <td style = \"text-align: right;\">0.1474</td>\n",
       "    </tr>\n",
       "    <tr>\n",
       "      <td class = \"rowLabel\" style = \"font-weight: bold; text-align: right;\">Price_10Y</td>\n",
       "      <td style = \"text-align: right;\">0.0755</td>\n",
       "      <td style = \"text-align: right;\">1.3969</td>\n",
       "      <td style = \"text-align: right;\">0.0531</td>\n",
       "      <td style = \"text-align: right;\">0.1909</td>\n",
       "      <td style = \"text-align: right;\">-0.9866</td>\n",
       "      <td style = \"text-align: right;\">0.3097</td>\n",
       "      <td style = \"text-align: right;\">-0.0893</td>\n",
       "      <td style = \"text-align: right;\">0.1022</td>\n",
       "      <td style = \"text-align: right;\">1.9867</td>\n",
       "      <td style = \"text-align: right;\">0.7037</td>\n",
       "      <td style = \"text-align: right;\">0.0377</td>\n",
       "    </tr>\n",
       "  </tbody>\n",
       "</table>\n"
      ]
     },
     "metadata": {},
     "output_type": "display_data"
    },
    {
     "data": {
      "text/plain": [
       "nothing"
      ]
     },
     "metadata": {},
     "output_type": "display_data"
    },
    {
     "data": {
      "text/plain": [
       "\"Real_returns\""
      ]
     },
     "metadata": {},
     "output_type": "display_data"
    },
    {
     "data": {
      "text/html": [
       "<table>\n",
       "  <thead>\n",
       "    <tr class = \"header headerLastRow\">\n",
       "      <th class = \"rowLabel\" style = \"font-weight: bold; text-align: right;\"></th>\n",
       "      <th style = \"text-align: right;\">std</th>\n",
       "      <th style = \"text-align: right;\">max</th>\n",
       "      <th style = \"text-align: right;\">mean</th>\n",
       "      <th style = \"text-align: right;\">p75th</th>\n",
       "      <th style = \"text-align: right;\">min</th>\n",
       "      <th style = \"text-align: right;\">skewness</th>\n",
       "      <th style = \"text-align: right;\">p25th</th>\n",
       "      <th style = \"text-align: right;\">autocor</th>\n",
       "      <th style = \"text-align: right;\">kurtosis</th>\n",
       "      <th style = \"text-align: right;\">sr</th>\n",
       "      <th style = \"text-align: right;\">median</th>\n",
       "    </tr>\n",
       "  </thead>\n",
       "  <tbody>\n",
       "    <tr>\n",
       "      <td class = \"rowLabel\" style = \"font-weight: bold; text-align: right;\">Total_Stock_CPI</td>\n",
       "      <td style = \"text-align: right;\">0.1479</td>\n",
       "      <td style = \"text-align: right;\">1.7607</td>\n",
       "      <td style = \"text-align: right;\">0.0658</td>\n",
       "      <td style = \"text-align: right;\">0.4053</td>\n",
       "      <td style = \"text-align: right;\">-2.9112</td>\n",
       "      <td style = \"text-align: right;\">-0.596</td>\n",
       "      <td style = \"text-align: right;\">-0.2186</td>\n",
       "      <td style = \"text-align: right;\">0.032</td>\n",
       "      <td style = \"text-align: right;\">1.9119</td>\n",
       "      <td style = \"text-align: right;\">0.445</td>\n",
       "      <td style = \"text-align: right;\">0.1107</td>\n",
       "    </tr>\n",
       "    <tr>\n",
       "      <td class = \"rowLabel\" style = \"font-weight: bold; text-align: right;\">Price_10Y_CPI</td>\n",
       "      <td style = \"text-align: right;\">0.078</td>\n",
       "      <td style = \"text-align: right;\">1.279</td>\n",
       "      <td style = \"text-align: right;\">0.0177</td>\n",
       "      <td style = \"text-align: right;\">0.1544</td>\n",
       "      <td style = \"text-align: right;\">-1.1677</td>\n",
       "      <td style = \"text-align: right;\">0.2268</td>\n",
       "      <td style = \"text-align: right;\">-0.1322</td>\n",
       "      <td style = \"text-align: right;\">0.1437</td>\n",
       "      <td style = \"text-align: right;\">2.0153</td>\n",
       "      <td style = \"text-align: right;\">0.2268</td>\n",
       "      <td style = \"text-align: right;\">0.0058</td>\n",
       "    </tr>\n",
       "  </tbody>\n",
       "</table>\n"
      ]
     },
     "metadata": {},
     "output_type": "display_data"
    },
    {
     "data": {
      "text/plain": [
       "nothing"
      ]
     },
     "metadata": {},
     "output_type": "display_data"
    },
    {
     "data": {
      "text/plain": [
       "\"Correlations\""
      ]
     },
     "metadata": {},
     "output_type": "display_data"
    },
    {
     "data": {
      "text/plain": [
       "2×2 Matrix{Float64}:\n",
       " 1.0        0.0980477\n",
       " 0.0980477  1.0"
      ]
     },
     "metadata": {},
     "output_type": "display_data"
    }
   ],
   "source": [
    "df = DataFrame(XLSX.readtable(\"../../data/usa_data.xlsx\", \"Data\", infer_eltypes=true))\n",
    "data_source = collapse(TimeArray(df; timestamp = :Date), Dates.month, last)\n",
    "\n",
    "freq = 12\n",
    "returns = percentchange(data_source[:Total_Stock, :Price_10Y], :log)\n",
    "cpi = percentchange(data_source[:CPI], :log)\n",
    "real_returns = returns .- cpi\n",
    "start = Date(1955, 01,01)\n",
    "end_d = Date(2024, 12, 31)\n",
    "\n",
    "\n",
    "display(\"Returns\")\n",
    "display(returns_summarystats(to(from(returns, start),end_d), freq))\n",
    "display(\"Real_returns\")\n",
    "display(returns_summarystats(to(from(real_returns, start),end_d), freq))\n",
    "\n",
    "\n",
    "display(\"Correlations\")\n",
    "display(cor(values(to(from(real_returns, start),end_d)))) "
   ]
  },
  {
   "cell_type": "code",
   "execution_count": 6,
   "id": "35bbc92d",
   "metadata": {},
   "outputs": [
    {
     "data": {
      "text/html": [
       "<table>\n",
       "  <caption style = \"text-align: left;\">Means</caption>\n",
       "  <thead>\n",
       "    <tr class = \"header headerLastRow\">\n",
       "      <th class = \"rowLabel\" style = \"font-weight: bold; text-align: right;\"></th>\n",
       "      <th style = \"text-align: right;\">Total_Stock_CPI</th>\n",
       "      <th style = \"text-align: right;\">Price_10Y_CPI</th>\n",
       "    </tr>\n",
       "  </thead>\n",
       "  <tbody>\n",
       "    <tr>\n",
       "      <td class = \"rowLabel\" style = \"font-weight: bold; text-align: right;\">1</td>\n",
       "      <td style = \"text-align: right;\">0.0635</td>\n",
       "      <td style = \"text-align: right;\">0.0247</td>\n",
       "    </tr>\n",
       "    <tr>\n",
       "      <td class = \"rowLabel\" style = \"font-weight: bold; text-align: right;\">5</td>\n",
       "      <td style = \"text-align: right;\">0.0632</td>\n",
       "      <td style = \"text-align: right;\">0.0235</td>\n",
       "    </tr>\n",
       "    <tr>\n",
       "      <td class = \"rowLabel\" style = \"font-weight: bold; text-align: right;\">10</td>\n",
       "      <td style = \"text-align: right;\">0.0619</td>\n",
       "      <td style = \"text-align: right;\">0.0223</td>\n",
       "    </tr>\n",
       "    <tr>\n",
       "      <td class = \"rowLabel\" style = \"font-weight: bold; text-align: right;\">25</td>\n",
       "      <td style = \"text-align: right;\">0.0623</td>\n",
       "      <td style = \"text-align: right;\">0.0222</td>\n",
       "    </tr>\n",
       "  </tbody>\n",
       "</table>\n"
      ]
     },
     "metadata": {},
     "output_type": "display_data"
    },
    {
     "data": {
      "text/html": [
       "<table>\n",
       "  <caption style = \"text-align: left;\">Standard devations</caption>\n",
       "  <thead>\n",
       "    <tr class = \"header headerLastRow\">\n",
       "      <th class = \"rowLabel\" style = \"font-weight: bold; text-align: right;\"></th>\n",
       "      <th style = \"text-align: right;\">Total_Stock_CPI</th>\n",
       "      <th style = \"text-align: right;\">Price_10Y_CPI</th>\n",
       "    </tr>\n",
       "  </thead>\n",
       "  <tbody>\n",
       "    <tr>\n",
       "      <td class = \"rowLabel\" style = \"font-weight: bold; text-align: right;\">1</td>\n",
       "      <td style = \"text-align: right;\">0.1567</td>\n",
       "      <td style = \"text-align: right;\">0.0865</td>\n",
       "    </tr>\n",
       "    <tr>\n",
       "      <td class = \"rowLabel\" style = \"font-weight: bold; text-align: right;\">5</td>\n",
       "      <td style = \"text-align: right;\">0.0681</td>\n",
       "      <td style = \"text-align: right;\">0.0415</td>\n",
       "    </tr>\n",
       "    <tr>\n",
       "      <td class = \"rowLabel\" style = \"font-weight: bold; text-align: right;\">10</td>\n",
       "      <td style = \"text-align: right;\">0.0483</td>\n",
       "      <td style = \"text-align: right;\">0.0311</td>\n",
       "    </tr>\n",
       "    <tr>\n",
       "      <td class = \"rowLabel\" style = \"font-weight: bold; text-align: right;\">25</td>\n",
       "      <td style = \"text-align: right;\">0.0301</td>\n",
       "      <td style = \"text-align: right;\">0.0204</td>\n",
       "    </tr>\n",
       "  </tbody>\n",
       "</table>\n"
      ]
     },
     "metadata": {},
     "output_type": "display_data"
    },
    {
     "data": {
      "text/html": [
       "<table>\n",
       "  <caption style = \"text-align: left;\">Skewness</caption>\n",
       "  <thead>\n",
       "    <tr class = \"header headerLastRow\">\n",
       "      <th class = \"rowLabel\" style = \"font-weight: bold; text-align: right;\"></th>\n",
       "      <th style = \"text-align: right;\">Total_Stock_CPI</th>\n",
       "      <th style = \"text-align: right;\">Price_10Y_CPI</th>\n",
       "    </tr>\n",
       "  </thead>\n",
       "  <tbody>\n",
       "    <tr>\n",
       "      <td class = \"rowLabel\" style = \"font-weight: bold; text-align: right;\">1</td>\n",
       "      <td style = \"text-align: right;\">-0.7773</td>\n",
       "      <td style = \"text-align: right;\">0.5244</td>\n",
       "    </tr>\n",
       "    <tr>\n",
       "      <td class = \"rowLabel\" style = \"font-weight: bold; text-align: right;\">5</td>\n",
       "      <td style = \"text-align: right;\">-0.2652</td>\n",
       "      <td style = \"text-align: right;\">0.2761</td>\n",
       "    </tr>\n",
       "    <tr>\n",
       "      <td class = \"rowLabel\" style = \"font-weight: bold; text-align: right;\">10</td>\n",
       "      <td style = \"text-align: right;\">-0.2955</td>\n",
       "      <td style = \"text-align: right;\">0.1245</td>\n",
       "    </tr>\n",
       "    <tr>\n",
       "      <td class = \"rowLabel\" style = \"font-weight: bold; text-align: right;\">25</td>\n",
       "      <td style = \"text-align: right;\">-0.1677</td>\n",
       "      <td style = \"text-align: right;\">0.0801</td>\n",
       "    </tr>\n",
       "  </tbody>\n",
       "</table>\n"
      ]
     },
     "metadata": {},
     "output_type": "display_data"
    },
    {
     "data": {
      "text/html": [
       "<table>\n",
       "  <caption style = \"text-align: left;\">Kurtosis</caption>\n",
       "  <thead>\n",
       "    <tr class = \"header headerLastRow\">\n",
       "      <th class = \"rowLabel\" style = \"font-weight: bold; text-align: right;\"></th>\n",
       "      <th style = \"text-align: right;\">Total_Stock_CPI</th>\n",
       "      <th style = \"text-align: right;\">Price_10Y_CPI</th>\n",
       "    </tr>\n",
       "  </thead>\n",
       "  <tbody>\n",
       "    <tr>\n",
       "      <td class = \"rowLabel\" style = \"font-weight: bold; text-align: right;\">1</td>\n",
       "      <td style = \"text-align: right;\">1.1654</td>\n",
       "      <td style = \"text-align: right;\">1.0231</td>\n",
       "    </tr>\n",
       "    <tr>\n",
       "      <td class = \"rowLabel\" style = \"font-weight: bold; text-align: right;\">5</td>\n",
       "      <td style = \"text-align: right;\">-0.1454</td>\n",
       "      <td style = \"text-align: right;\">0.6981</td>\n",
       "    </tr>\n",
       "    <tr>\n",
       "      <td class = \"rowLabel\" style = \"font-weight: bold; text-align: right;\">10</td>\n",
       "      <td style = \"text-align: right;\">-0.2771</td>\n",
       "      <td style = \"text-align: right;\">-0.0371</td>\n",
       "    </tr>\n",
       "    <tr>\n",
       "      <td class = \"rowLabel\" style = \"font-weight: bold; text-align: right;\">25</td>\n",
       "      <td style = \"text-align: right;\">-0.0992</td>\n",
       "      <td style = \"text-align: right;\">-0.1397</td>\n",
       "    </tr>\n",
       "  </tbody>\n",
       "</table>\n"
      ]
     },
     "metadata": {},
     "output_type": "display_data"
    },
    {
     "data": {
      "text/html": [
       "<table>\n",
       "  <caption style = \"text-align: left;\">Total_Stock_CPI</caption>\n",
       "  <thead>\n",
       "    <tr class = \"header headerLastRow\">\n",
       "      <th class = \"rowLabel\" style = \"font-weight: bold; text-align: right;\"></th>\n",
       "      <th style = \"text-align: right;\">0.01</th>\n",
       "      <th style = \"text-align: right;\">0.025</th>\n",
       "      <th style = \"text-align: right;\">0.05</th>\n",
       "      <th style = \"text-align: right;\">0.25</th>\n",
       "      <th style = \"text-align: right;\">0.5</th>\n",
       "      <th style = \"text-align: right;\">0.75</th>\n",
       "      <th style = \"text-align: right;\">0.95</th>\n",
       "      <th style = \"text-align: right;\">0.975</th>\n",
       "      <th style = \"text-align: right;\">0.99</th>\n",
       "    </tr>\n",
       "  </thead>\n",
       "  <tbody>\n",
       "    <tr>\n",
       "      <td class = \"rowLabel\" style = \"font-weight: bold; text-align: right;\">1</td>\n",
       "      <td style = \"text-align: right;\">-0.4252</td>\n",
       "      <td style = \"text-align: right;\">-0.2905</td>\n",
       "      <td style = \"text-align: right;\">-0.2157</td>\n",
       "      <td style = \"text-align: right;\">-0.0182</td>\n",
       "      <td style = \"text-align: right;\">0.0818</td>\n",
       "      <td style = \"text-align: right;\">0.1658</td>\n",
       "      <td style = \"text-align: right;\">0.286</td>\n",
       "      <td style = \"text-align: right;\">0.3119</td>\n",
       "      <td style = \"text-align: right;\">0.3653</td>\n",
       "    </tr>\n",
       "    <tr>\n",
       "      <td class = \"rowLabel\" style = \"font-weight: bold; text-align: right;\">5</td>\n",
       "      <td style = \"text-align: right;\">-0.0959</td>\n",
       "      <td style = \"text-align: right;\">-0.0737</td>\n",
       "      <td style = \"text-align: right;\">-0.0514</td>\n",
       "      <td style = \"text-align: right;\">0.0149</td>\n",
       "      <td style = \"text-align: right;\">0.0725</td>\n",
       "      <td style = \"text-align: right;\">0.1099</td>\n",
       "      <td style = \"text-align: right;\">0.1696</td>\n",
       "      <td style = \"text-align: right;\">0.1927</td>\n",
       "      <td style = \"text-align: right;\">0.2104</td>\n",
       "    </tr>\n",
       "    <tr>\n",
       "      <td class = \"rowLabel\" style = \"font-weight: bold; text-align: right;\">10</td>\n",
       "      <td style = \"text-align: right;\">-0.0514</td>\n",
       "      <td style = \"text-align: right;\">-0.0362</td>\n",
       "      <td style = \"text-align: right;\">-0.0229</td>\n",
       "      <td style = \"text-align: right;\">0.0295</td>\n",
       "      <td style = \"text-align: right;\">0.0656</td>\n",
       "      <td style = \"text-align: right;\">0.0975</td>\n",
       "      <td style = \"text-align: right;\">0.1346</td>\n",
       "      <td style = \"text-align: right;\">0.1458</td>\n",
       "      <td style = \"text-align: right;\">0.1604</td>\n",
       "    </tr>\n",
       "    <tr>\n",
       "      <td class = \"rowLabel\" style = \"font-weight: bold; text-align: right;\">25</td>\n",
       "      <td style = \"text-align: right;\">-0.0101</td>\n",
       "      <td style = \"text-align: right;\">0.0017</td>\n",
       "      <td style = \"text-align: right;\">0.0118</td>\n",
       "      <td style = \"text-align: right;\">0.0416</td>\n",
       "      <td style = \"text-align: right;\">0.0634</td>\n",
       "      <td style = \"text-align: right;\">0.0836</td>\n",
       "      <td style = \"text-align: right;\">0.1098</td>\n",
       "      <td style = \"text-align: right;\">0.1173</td>\n",
       "      <td style = \"text-align: right;\">0.1277</td>\n",
       "    </tr>\n",
       "  </tbody>\n",
       "</table>\n"
      ]
     },
     "metadata": {},
     "output_type": "display_data"
    },
    {
     "data": {
      "text/html": [
       "<table>\n",
       "  <caption style = \"text-align: left;\">Price_10Y_CPI</caption>\n",
       "  <thead>\n",
       "    <tr class = \"header headerLastRow\">\n",
       "      <th class = \"rowLabel\" style = \"font-weight: bold; text-align: right;\"></th>\n",
       "      <th style = \"text-align: right;\">0.01</th>\n",
       "      <th style = \"text-align: right;\">0.025</th>\n",
       "      <th style = \"text-align: right;\">0.05</th>\n",
       "      <th style = \"text-align: right;\">0.25</th>\n",
       "      <th style = \"text-align: right;\">0.5</th>\n",
       "      <th style = \"text-align: right;\">0.75</th>\n",
       "      <th style = \"text-align: right;\">0.95</th>\n",
       "      <th style = \"text-align: right;\">0.975</th>\n",
       "      <th style = \"text-align: right;\">0.99</th>\n",
       "    </tr>\n",
       "  </thead>\n",
       "  <tbody>\n",
       "    <tr>\n",
       "      <td class = \"rowLabel\" style = \"font-weight: bold; text-align: right;\">1</td>\n",
       "      <td style = \"text-align: right;\">-0.1572</td>\n",
       "      <td style = \"text-align: right;\">-0.1238</td>\n",
       "      <td style = \"text-align: right;\">-0.0996</td>\n",
       "      <td style = \"text-align: right;\">-0.0341</td>\n",
       "      <td style = \"text-align: right;\">0.0196</td>\n",
       "      <td style = \"text-align: right;\">0.0785</td>\n",
       "      <td style = \"text-align: right;\">0.1725</td>\n",
       "      <td style = \"text-align: right;\">0.2263</td>\n",
       "      <td style = \"text-align: right;\">0.285</td>\n",
       "    </tr>\n",
       "    <tr>\n",
       "      <td class = \"rowLabel\" style = \"font-weight: bold; text-align: right;\">5</td>\n",
       "      <td style = \"text-align: right;\">-0.0737</td>\n",
       "      <td style = \"text-align: right;\">-0.0578</td>\n",
       "      <td style = \"text-align: right;\">-0.0414</td>\n",
       "      <td style = \"text-align: right;\">-0.0035</td>\n",
       "      <td style = \"text-align: right;\">0.0219</td>\n",
       "      <td style = \"text-align: right;\">0.0496</td>\n",
       "      <td style = \"text-align: right;\">0.0928</td>\n",
       "      <td style = \"text-align: right;\">0.1146</td>\n",
       "      <td style = \"text-align: right;\">0.1419</td>\n",
       "    </tr>\n",
       "    <tr>\n",
       "      <td class = \"rowLabel\" style = \"font-weight: bold; text-align: right;\">10</td>\n",
       "      <td style = \"text-align: right;\">-0.0468</td>\n",
       "      <td style = \"text-align: right;\">-0.037</td>\n",
       "      <td style = \"text-align: right;\">-0.0271</td>\n",
       "      <td style = \"text-align: right;\">0.0007</td>\n",
       "      <td style = \"text-align: right;\">0.022</td>\n",
       "      <td style = \"text-align: right;\">0.0427</td>\n",
       "      <td style = \"text-align: right;\">0.0753</td>\n",
       "      <td style = \"text-align: right;\">0.0865</td>\n",
       "      <td style = \"text-align: right;\">0.0963</td>\n",
       "    </tr>\n",
       "    <tr>\n",
       "      <td class = \"rowLabel\" style = \"font-weight: bold; text-align: right;\">25</td>\n",
       "      <td style = \"text-align: right;\">-0.0223</td>\n",
       "      <td style = \"text-align: right;\">-0.0166</td>\n",
       "      <td style = \"text-align: right;\">-0.0113</td>\n",
       "      <td style = \"text-align: right;\">0.0083</td>\n",
       "      <td style = \"text-align: right;\">0.0218</td>\n",
       "      <td style = \"text-align: right;\">0.036</td>\n",
       "      <td style = \"text-align: right;\">0.0564</td>\n",
       "      <td style = \"text-align: right;\">0.0629</td>\n",
       "      <td style = \"text-align: right;\">0.0703</td>\n",
       "    </tr>\n",
       "  </tbody>\n",
       "</table>\n"
      ]
     },
     "metadata": {},
     "output_type": "display_data"
    }
   ],
   "source": [
    "assets_names = [:Total_Stock_CPI, :Price_10Y_CPI]\n",
    "data = to(from(real_returns[assets_names], start),end_d) \n",
    "\n",
    "scenarios = block_bootstrap(values(data), 10_000, block_size=60, random_block=true)\n",
    "\n",
    "periods = [1,5, 10, 25]\n",
    "ret_in_years = cum_returns_in_periods(scenarios, periods, freq, true)\n",
    "print_scenarios_summary(ret_in_years, assets_names, string.(periods))\n",
    "n_assets = length(assets_names)\n",
    "for a in 1:n_assets\n",
    "    print_scenarios_percentiles(ret_in_years[a, :, :], [.01, .025, .05, .25, .5, .75, .95, .975, .99], string.(periods), string.(assets_names[a]))\n",
    "end  \n"
   ]
  },
  {
   "cell_type": "code",
   "execution_count": 7,
   "id": "c2a66128",
   "metadata": {},
   "outputs": [
    {
     "data": {
      "text/plain": [
       ":Total_Stock_CPI"
      ]
     },
     "metadata": {},
     "output_type": "display_data"
    },
    {
     "data": {
      "text/plain": [
       "\"mdd\""
      ]
     },
     "metadata": {},
     "output_type": "display_data"
    },
    {
     "data": {
      "text/plain": [
       "1×5 adjoint(::Vector{Float64}) with eltype Float64:\n",
       " 0.406639  0.521378  0.539183  0.592069  0.720677"
      ]
     },
     "metadata": {},
     "output_type": "display_data"
    },
    {
     "data": {
      "text/plain": [
       "\"mddl\""
      ]
     },
     "metadata": {},
     "output_type": "display_data"
    },
    {
     "data": {
      "text/plain": [
       "1×5 adjoint(::Vector{Float64}) with eltype Float64:\n",
       " 60.0  107.0  145.0  190.0  351.03"
      ]
     },
     "metadata": {},
     "output_type": "display_data"
    },
    {
     "data": {
      "text/plain": [
       ":Price_10Y_CPI"
      ]
     },
     "metadata": {},
     "output_type": "display_data"
    },
    {
     "data": {
      "text/plain": [
       "\"mdd\""
      ]
     },
     "metadata": {},
     "output_type": "display_data"
    },
    {
     "data": {
      "text/plain": [
       "1×5 adjoint(::Vector{Float64}) with eltype Float64:\n",
       " 0.19893  0.376498  0.431628  0.496197  0.650372"
      ]
     },
     "metadata": {},
     "output_type": "display_data"
    },
    {
     "data": {
      "text/plain": [
       "\"mddl\""
      ]
     },
     "metadata": {},
     "output_type": "display_data"
    },
    {
     "data": {
      "text/plain": [
       "1×5 adjoint(::Vector{Float64}) with eltype Float64:\n",
       " 79.0  156.0  223.0  335.0  658.0"
      ]
     },
     "metadata": {},
     "output_type": "display_data"
    }
   ],
   "source": [
    "mdd, mddl = max_drawdown_and_length(scenarios[1,:,:])\n",
    "\n",
    "display(assets_names[1])\n",
    "display(\"mdd\")\n",
    "display(quantile(mdd, [.03, .25, .5, .75, .97])')\n",
    "display(\"mddl\")\n",
    "display(quantile(mddl, [.03, .25, .5, .75, .97])')\n",
    "\n",
    "mdd, mddl = max_drawdown_and_length(scenarios[2,:,:])\n",
    "\n",
    "display(assets_names[2])\n",
    "display(\"mdd\")\n",
    "display(quantile(mdd, [.03, .25, .5, .75, .97])')\n",
    "display(\"mddl\")\n",
    "display(quantile(mddl, [.03, .25, .5, .75, .97])')"
   ]
  },
  {
   "cell_type": "code",
   "execution_count": 29,
   "id": "1ee2d1fb",
   "metadata": {},
   "outputs": [
    {
     "data": {
      "text/html": [
       "<table>\n",
       "  <caption style = \"text-align: left;\">Means</caption>\n",
       "  <thead>\n",
       "    <tr class = \"header headerLastRow\">\n",
       "      <th class = \"rowLabel\" style = \"font-weight: bold; text-align: right;\"></th>\n",
       "      <th style = \"text-align: right;\">Total_Stock_CPI</th>\n",
       "      <th style = \"text-align: right;\">Price_10Y_CPI</th>\n",
       "    </tr>\n",
       "  </thead>\n",
       "  <tbody>\n",
       "    <tr>\n",
       "      <td class = \"rowLabel\" style = \"font-weight: bold; text-align: right;\">1</td>\n",
       "      <td style = \"text-align: right;\">0.0409</td>\n",
       "      <td style = \"text-align: right;\">0.0321</td>\n",
       "    </tr>\n",
       "    <tr>\n",
       "      <td class = \"rowLabel\" style = \"font-weight: bold; text-align: right;\">5</td>\n",
       "      <td style = \"text-align: right;\">0.0388</td>\n",
       "      <td style = \"text-align: right;\">0.031</td>\n",
       "    </tr>\n",
       "    <tr>\n",
       "      <td class = \"rowLabel\" style = \"font-weight: bold; text-align: right;\">10</td>\n",
       "      <td style = \"text-align: right;\">0.0388</td>\n",
       "      <td style = \"text-align: right;\">0.0299</td>\n",
       "    </tr>\n",
       "    <tr>\n",
       "      <td class = \"rowLabel\" style = \"font-weight: bold; text-align: right;\">25</td>\n",
       "      <td style = \"text-align: right;\">0.0386</td>\n",
       "      <td style = \"text-align: right;\">0.0297</td>\n",
       "    </tr>\n",
       "  </tbody>\n",
       "</table>\n"
      ]
     },
     "metadata": {},
     "output_type": "display_data"
    },
    {
     "data": {
      "text/html": [
       "<table>\n",
       "  <caption style = \"text-align: left;\">Standard devations</caption>\n",
       "  <thead>\n",
       "    <tr class = \"header headerLastRow\">\n",
       "      <th class = \"rowLabel\" style = \"font-weight: bold; text-align: right;\"></th>\n",
       "      <th style = \"text-align: right;\">Total_Stock_CPI</th>\n",
       "      <th style = \"text-align: right;\">Price_10Y_CPI</th>\n",
       "    </tr>\n",
       "  </thead>\n",
       "  <tbody>\n",
       "    <tr>\n",
       "      <td class = \"rowLabel\" style = \"font-weight: bold; text-align: right;\">1</td>\n",
       "      <td style = \"text-align: right;\">0.1534</td>\n",
       "      <td style = \"text-align: right;\">0.0867</td>\n",
       "    </tr>\n",
       "    <tr>\n",
       "      <td class = \"rowLabel\" style = \"font-weight: bold; text-align: right;\">5</td>\n",
       "      <td style = \"text-align: right;\">0.0682</td>\n",
       "      <td style = \"text-align: right;\">0.0414</td>\n",
       "    </tr>\n",
       "    <tr>\n",
       "      <td class = \"rowLabel\" style = \"font-weight: bold; text-align: right;\">10</td>\n",
       "      <td style = \"text-align: right;\">0.0481</td>\n",
       "      <td style = \"text-align: right;\">0.0308</td>\n",
       "    </tr>\n",
       "    <tr>\n",
       "      <td class = \"rowLabel\" style = \"font-weight: bold; text-align: right;\">25</td>\n",
       "      <td style = \"text-align: right;\">0.0298</td>\n",
       "      <td style = \"text-align: right;\">0.0201</td>\n",
       "    </tr>\n",
       "  </tbody>\n",
       "</table>\n"
      ]
     },
     "metadata": {},
     "output_type": "display_data"
    },
    {
     "data": {
      "text/html": [
       "<table>\n",
       "  <caption style = \"text-align: left;\">Skewness</caption>\n",
       "  <thead>\n",
       "    <tr class = \"header headerLastRow\">\n",
       "      <th class = \"rowLabel\" style = \"font-weight: bold; text-align: right;\"></th>\n",
       "      <th style = \"text-align: right;\">Total_Stock_CPI</th>\n",
       "      <th style = \"text-align: right;\">Price_10Y_CPI</th>\n",
       "    </tr>\n",
       "  </thead>\n",
       "  <tbody>\n",
       "    <tr>\n",
       "      <td class = \"rowLabel\" style = \"font-weight: bold; text-align: right;\">1</td>\n",
       "      <td style = \"text-align: right;\">-0.7535</td>\n",
       "      <td style = \"text-align: right;\">0.542</td>\n",
       "    </tr>\n",
       "    <tr>\n",
       "      <td class = \"rowLabel\" style = \"font-weight: bold; text-align: right;\">5</td>\n",
       "      <td style = \"text-align: right;\">-0.273</td>\n",
       "      <td style = \"text-align: right;\">0.2852</td>\n",
       "    </tr>\n",
       "    <tr>\n",
       "      <td class = \"rowLabel\" style = \"font-weight: bold; text-align: right;\">10</td>\n",
       "      <td style = \"text-align: right;\">-0.309</td>\n",
       "      <td style = \"text-align: right;\">0.1307</td>\n",
       "    </tr>\n",
       "    <tr>\n",
       "      <td class = \"rowLabel\" style = \"font-weight: bold; text-align: right;\">25</td>\n",
       "      <td style = \"text-align: right;\">-0.1707</td>\n",
       "      <td style = \"text-align: right;\">0.0926</td>\n",
       "    </tr>\n",
       "  </tbody>\n",
       "</table>\n"
      ]
     },
     "metadata": {},
     "output_type": "display_data"
    },
    {
     "data": {
      "text/html": [
       "<table>\n",
       "  <caption style = \"text-align: left;\">Kurtosis</caption>\n",
       "  <thead>\n",
       "    <tr class = \"header headerLastRow\">\n",
       "      <th class = \"rowLabel\" style = \"font-weight: bold; text-align: right;\"></th>\n",
       "      <th style = \"text-align: right;\">Total_Stock_CPI</th>\n",
       "      <th style = \"text-align: right;\">Price_10Y_CPI</th>\n",
       "    </tr>\n",
       "  </thead>\n",
       "  <tbody>\n",
       "    <tr>\n",
       "      <td class = \"rowLabel\" style = \"font-weight: bold; text-align: right;\">1</td>\n",
       "      <td style = \"text-align: right;\">1.0722</td>\n",
       "      <td style = \"text-align: right;\">1.1241</td>\n",
       "    </tr>\n",
       "    <tr>\n",
       "      <td class = \"rowLabel\" style = \"font-weight: bold; text-align: right;\">5</td>\n",
       "      <td style = \"text-align: right;\">-0.2277</td>\n",
       "      <td style = \"text-align: right;\">0.7147</td>\n",
       "    </tr>\n",
       "    <tr>\n",
       "      <td class = \"rowLabel\" style = \"font-weight: bold; text-align: right;\">10</td>\n",
       "      <td style = \"text-align: right;\">-0.3105</td>\n",
       "      <td style = \"text-align: right;\">-0.0611</td>\n",
       "    </tr>\n",
       "    <tr>\n",
       "      <td class = \"rowLabel\" style = \"font-weight: bold; text-align: right;\">25</td>\n",
       "      <td style = \"text-align: right;\">-0.1938</td>\n",
       "      <td style = \"text-align: right;\">-0.1963</td>\n",
       "    </tr>\n",
       "  </tbody>\n",
       "</table>\n"
      ]
     },
     "metadata": {},
     "output_type": "display_data"
    },
    {
     "data": {
      "text/html": [
       "<table>\n",
       "  <caption style = \"text-align: left;\">Total_Stock_CPI</caption>\n",
       "  <thead>\n",
       "    <tr class = \"header headerLastRow\">\n",
       "      <th class = \"rowLabel\" style = \"font-weight: bold; text-align: right;\"></th>\n",
       "      <th style = \"text-align: right;\">0.01</th>\n",
       "      <th style = \"text-align: right;\">0.025</th>\n",
       "      <th style = \"text-align: right;\">0.05</th>\n",
       "      <th style = \"text-align: right;\">0.25</th>\n",
       "      <th style = \"text-align: right;\">0.5</th>\n",
       "      <th style = \"text-align: right;\">0.75</th>\n",
       "      <th style = \"text-align: right;\">0.95</th>\n",
       "      <th style = \"text-align: right;\">0.975</th>\n",
       "      <th style = \"text-align: right;\">0.99</th>\n",
       "    </tr>\n",
       "  </thead>\n",
       "  <tbody>\n",
       "    <tr>\n",
       "      <td class = \"rowLabel\" style = \"font-weight: bold; text-align: right;\">1</td>\n",
       "      <td style = \"text-align: right;\">-0.4119</td>\n",
       "      <td style = \"text-align: right;\">-0.3107</td>\n",
       "      <td style = \"text-align: right;\">-0.2392</td>\n",
       "      <td style = \"text-align: right;\">-0.0436</td>\n",
       "      <td style = \"text-align: right;\">0.0613</td>\n",
       "      <td style = \"text-align: right;\">0.1425</td>\n",
       "      <td style = \"text-align: right;\">0.2618</td>\n",
       "      <td style = \"text-align: right;\">0.2876</td>\n",
       "      <td style = \"text-align: right;\">0.3377</td>\n",
       "    </tr>\n",
       "    <tr>\n",
       "      <td class = \"rowLabel\" style = \"font-weight: bold; text-align: right;\">5</td>\n",
       "      <td style = \"text-align: right;\">-0.118</td>\n",
       "      <td style = \"text-align: right;\">-0.0986</td>\n",
       "      <td style = \"text-align: right;\">-0.0771</td>\n",
       "      <td style = \"text-align: right;\">-0.0105</td>\n",
       "      <td style = \"text-align: right;\">0.0476</td>\n",
       "      <td style = \"text-align: right;\">0.0863</td>\n",
       "      <td style = \"text-align: right;\">0.1434</td>\n",
       "      <td style = \"text-align: right;\">0.165</td>\n",
       "      <td style = \"text-align: right;\">0.1841</td>\n",
       "    </tr>\n",
       "    <tr>\n",
       "      <td class = \"rowLabel\" style = \"font-weight: bold; text-align: right;\">10</td>\n",
       "      <td style = \"text-align: right;\">-0.0753</td>\n",
       "      <td style = \"text-align: right;\">-0.0593</td>\n",
       "      <td style = \"text-align: right;\">-0.0475</td>\n",
       "      <td style = \"text-align: right;\">0.0062</td>\n",
       "      <td style = \"text-align: right;\">0.0429</td>\n",
       "      <td style = \"text-align: right;\">0.0742</td>\n",
       "      <td style = \"text-align: right;\">0.1107</td>\n",
       "      <td style = \"text-align: right;\">0.1219</td>\n",
       "      <td style = \"text-align: right;\">0.1349</td>\n",
       "    </tr>\n",
       "    <tr>\n",
       "      <td class = \"rowLabel\" style = \"font-weight: bold; text-align: right;\">25</td>\n",
       "      <td style = \"text-align: right;\">-0.0329</td>\n",
       "      <td style = \"text-align: right;\">-0.0226</td>\n",
       "      <td style = \"text-align: right;\">-0.0118</td>\n",
       "      <td style = \"text-align: right;\">0.0185</td>\n",
       "      <td style = \"text-align: right;\">0.0394</td>\n",
       "      <td style = \"text-align: right;\">0.0598</td>\n",
       "      <td style = \"text-align: right;\">0.0853</td>\n",
       "      <td style = \"text-align: right;\">0.0933</td>\n",
       "      <td style = \"text-align: right;\">0.1022</td>\n",
       "    </tr>\n",
       "  </tbody>\n",
       "</table>\n"
      ]
     },
     "metadata": {},
     "output_type": "display_data"
    },
    {
     "data": {
      "text/html": [
       "<table>\n",
       "  <caption style = \"text-align: left;\">Price_10Y_CPI</caption>\n",
       "  <thead>\n",
       "    <tr class = \"header headerLastRow\">\n",
       "      <th class = \"rowLabel\" style = \"font-weight: bold; text-align: right;\"></th>\n",
       "      <th style = \"text-align: right;\">0.01</th>\n",
       "      <th style = \"text-align: right;\">0.025</th>\n",
       "      <th style = \"text-align: right;\">0.05</th>\n",
       "      <th style = \"text-align: right;\">0.25</th>\n",
       "      <th style = \"text-align: right;\">0.5</th>\n",
       "      <th style = \"text-align: right;\">0.75</th>\n",
       "      <th style = \"text-align: right;\">0.95</th>\n",
       "      <th style = \"text-align: right;\">0.975</th>\n",
       "      <th style = \"text-align: right;\">0.99</th>\n",
       "    </tr>\n",
       "  </thead>\n",
       "  <tbody>\n",
       "    <tr>\n",
       "      <td class = \"rowLabel\" style = \"font-weight: bold; text-align: right;\">1</td>\n",
       "      <td style = \"text-align: right;\">-0.1561</td>\n",
       "      <td style = \"text-align: right;\">-0.1152</td>\n",
       "      <td style = \"text-align: right;\">-0.0923</td>\n",
       "      <td style = \"text-align: right;\">-0.0261</td>\n",
       "      <td style = \"text-align: right;\">0.027</td>\n",
       "      <td style = \"text-align: right;\">0.0852</td>\n",
       "      <td style = \"text-align: right;\">0.1819</td>\n",
       "      <td style = \"text-align: right;\">0.234</td>\n",
       "      <td style = \"text-align: right;\">0.2952</td>\n",
       "    </tr>\n",
       "    <tr>\n",
       "      <td class = \"rowLabel\" style = \"font-weight: bold; text-align: right;\">5</td>\n",
       "      <td style = \"text-align: right;\">-0.0671</td>\n",
       "      <td style = \"text-align: right;\">-0.051</td>\n",
       "      <td style = \"text-align: right;\">-0.0337</td>\n",
       "      <td style = \"text-align: right;\">0.0041</td>\n",
       "      <td style = \"text-align: right;\">0.0292</td>\n",
       "      <td style = \"text-align: right;\">0.0572</td>\n",
       "      <td style = \"text-align: right;\">0.0999</td>\n",
       "      <td style = \"text-align: right;\">0.1208</td>\n",
       "      <td style = \"text-align: right;\">0.1483</td>\n",
       "    </tr>\n",
       "    <tr>\n",
       "      <td class = \"rowLabel\" style = \"font-weight: bold; text-align: right;\">10</td>\n",
       "      <td style = \"text-align: right;\">-0.0393</td>\n",
       "      <td style = \"text-align: right;\">-0.0275</td>\n",
       "      <td style = \"text-align: right;\">-0.0186</td>\n",
       "      <td style = \"text-align: right;\">0.008</td>\n",
       "      <td style = \"text-align: right;\">0.0296</td>\n",
       "      <td style = \"text-align: right;\">0.05</td>\n",
       "      <td style = \"text-align: right;\">0.0824</td>\n",
       "      <td style = \"text-align: right;\">0.0928</td>\n",
       "      <td style = \"text-align: right;\">0.1032</td>\n",
       "    </tr>\n",
       "    <tr>\n",
       "      <td class = \"rowLabel\" style = \"font-weight: bold; text-align: right;\">25</td>\n",
       "      <td style = \"text-align: right;\">-0.0147</td>\n",
       "      <td style = \"text-align: right;\">-0.0085</td>\n",
       "      <td style = \"text-align: right;\">-0.0029</td>\n",
       "      <td style = \"text-align: right;\">0.0156</td>\n",
       "      <td style = \"text-align: right;\">0.0293</td>\n",
       "      <td style = \"text-align: right;\">0.0435</td>\n",
       "      <td style = \"text-align: right;\">0.0634</td>\n",
       "      <td style = \"text-align: right;\">0.07</td>\n",
       "      <td style = \"text-align: right;\">0.0768</td>\n",
       "    </tr>\n",
       "  </tbody>\n",
       "</table>\n"
      ]
     },
     "metadata": {},
     "output_type": "display_data"
    }
   ],
   "source": [
    "rr = values(to(from(real_returns[assets_names], start),end_d) ) .- mean(values(to(from(real_returns[assets_names], start),end_d) ), dims=1) .+ [.042 .025] ./ 12\n",
    "\n",
    "\n",
    "scenarios = block_bootstrap(rr, 10_000, block_size=60, random_block=true)\n",
    "\n",
    "periods = [1,5, 10, 25]\n",
    "ret_in_years = cum_returns_in_periods(scenarios, periods, freq, true)\n",
    "print_scenarios_summary(ret_in_years, assets_names, string.(periods))\n",
    "n_assets = length(assets_names)\n",
    "for a in 1:n_assets\n",
    "    print_scenarios_percentiles(ret_in_years[a, :, :], [.01, .025, .05, .25, .5, .75, .95, .975, .99], string.(periods), string.(assets_names[a]))\n",
    "end  \n"
   ]
  },
  {
   "cell_type": "code",
   "execution_count": 31,
   "id": "ee84246c",
   "metadata": {},
   "outputs": [
    {
     "data": {
      "text/plain": [
       ":Total_Stock_CPI"
      ]
     },
     "metadata": {},
     "output_type": "display_data"
    },
    {
     "data": {
      "text/plain": [
       "\"mdd\""
      ]
     },
     "metadata": {},
     "output_type": "display_data"
    },
    {
     "data": {
      "text/plain": [
       "1×5 adjoint(::Vector{Float64}) with eltype Float64:\n",
       " 0.456528  0.549323  0.616923  0.673091  0.816195"
      ]
     },
     "metadata": {},
     "output_type": "display_data"
    },
    {
     "data": {
      "text/plain": [
       "\"mddl\""
      ]
     },
     "metadata": {},
     "output_type": "display_data"
    },
    {
     "data": {
      "text/plain": [
       "1×5 adjoint(::Vector{Float64}) with eltype Float64:\n",
       " 76.0  158.0  212.0  303.0  580.03"
      ]
     },
     "metadata": {},
     "output_type": "display_data"
    },
    {
     "data": {
      "text/plain": [
       ":Price_10Y_CPI"
      ]
     },
     "metadata": {},
     "output_type": "display_data"
    },
    {
     "data": {
      "text/plain": [
       "\"mdd\""
      ]
     },
     "metadata": {},
     "output_type": "display_data"
    },
    {
     "data": {
      "text/plain": [
       "1×5 adjoint(::Vector{Float64}) with eltype Float64:\n",
       " 0.181928  0.360337  0.396304  0.440609  0.592464"
      ]
     },
     "metadata": {},
     "output_type": "display_data"
    },
    {
     "data": {
      "text/plain": [
       "\"mddl\""
      ]
     },
     "metadata": {},
     "output_type": "display_data"
    },
    {
     "data": {
      "text/plain": [
       "1×5 adjoint(::Vector{Float64}) with eltype Float64:\n",
       " 60.0  121.0  171.0  254.0  512.03"
      ]
     },
     "metadata": {},
     "output_type": "display_data"
    }
   ],
   "source": [
    "mdd, mddl = max_drawdown_and_length(scenarios[1,:,:])\n",
    "\n",
    "display(assets_names[1])\n",
    "display(\"mdd\")\n",
    "display(quantile(mdd, [.03, .25, .5, .75, .97])')\n",
    "display(\"mddl\")\n",
    "display(quantile(mddl, [.03, .25, .5, .75, .97])')\n",
    "\n",
    "mdd, mddl = max_drawdown_and_length(scenarios[2,:,:])\n",
    "\n",
    "display(assets_names[2])\n",
    "display(\"mdd\")\n",
    "display(quantile(mdd, [.03, .25, .5, .75, .97])')\n",
    "display(\"mddl\")\n",
    "display(quantile(mddl, [.03, .25, .5, .75, .97])')"
   ]
  }
 ],
 "metadata": {
  "kernelspec": {
   "display_name": "Julia 1.11.2",
   "language": "julia",
   "name": "julia-1.11"
  },
  "language_info": {
   "file_extension": ".jl",
   "mimetype": "application/julia",
   "name": "julia",
   "version": "1.11.2"
  }
 },
 "nbformat": 4,
 "nbformat_minor": 5
}
