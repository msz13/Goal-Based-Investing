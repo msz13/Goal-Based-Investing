{
 "cells": [
  {
   "cell_type": "code",
   "execution_count": 1,
   "id": "b88c85bd",
   "metadata": {},
   "outputs": [
    {
     "name": "stderr",
     "output_type": "stream",
     "text": [
      "\u001b[32m\u001b[1m  Activating\u001b[22m\u001b[39m project at `c:\\Users\\matsz\\programowanie\\Optymalizacja_portfela\\FinancialPlanner`\n"
     ]
    }
   ],
   "source": [
    "import Pkg\n",
    "Pkg.activate(\"../../../FinancialPlanner\")"
   ]
  },
  {
   "cell_type": "code",
   "execution_count": 5,
   "id": "f13a3c2d",
   "metadata": {},
   "outputs": [],
   "source": [
    "using Revise\n",
    "using LinearAlgebra\n",
    "using Distributions\n",
    "using Random\n",
    "using StatsPlots\n",
    "using PDMats\n",
    "using StatsBase\n",
    "using Base.Iterators\n",
    "using DataFrames, TimeSeries, XLSX\n",
    "using PrettyTables\n",
    "using GLM"
   ]
  },
  {
   "cell_type": "code",
   "execution_count": 3,
   "id": "cd1f9ca9",
   "metadata": {},
   "outputs": [],
   "source": [
    "includet(\"../VARs/utils.jl\")"
   ]
  },
  {
   "cell_type": "code",
   "execution_count": 12,
   "id": "d1f1f9e6",
   "metadata": {},
   "outputs": [
    {
     "data": {
      "text/html": [
       "<table>\n",
       "  <thead>\n",
       "    <tr class = \"header headerLastRow\">\n",
       "      <th class = \"rowLabel\" style = \"font-weight: bold; text-align: right;\"></th>\n",
       "      <th style = \"text-align: right;\">std</th>\n",
       "      <th style = \"text-align: right;\">max</th>\n",
       "      <th style = \"text-align: right;\">mean</th>\n",
       "      <th style = \"text-align: right;\">p75th</th>\n",
       "      <th style = \"text-align: right;\">min</th>\n",
       "      <th style = \"text-align: right;\">skewness</th>\n",
       "      <th style = \"text-align: right;\">p25th</th>\n",
       "      <th style = \"text-align: right;\">autocor</th>\n",
       "      <th style = \"text-align: right;\">kurtosis</th>\n",
       "      <th style = \"text-align: right;\">sr</th>\n",
       "      <th style = \"text-align: right;\">median</th>\n",
       "    </tr>\n",
       "  </thead>\n",
       "  <tbody>\n",
       "    <tr>\n",
       "      <td class = \"rowLabel\" style = \"font-weight: bold; text-align: right;\">Dividend</td>\n",
       "      <td style = \"text-align: right;\">0.0314</td>\n",
       "      <td style = \"text-align: right;\">0.1948</td>\n",
       "      <td style = \"text-align: right;\">0.0551</td>\n",
       "      <td style = \"text-align: right;\">0.0924</td>\n",
       "      <td style = \"text-align: right;\">-0.2683</td>\n",
       "      <td style = \"text-align: right;\">-1.4492</td>\n",
       "      <td style = \"text-align: right;\">0.0257</td>\n",
       "      <td style = \"text-align: right;\">0.8456</td>\n",
       "      <td style = \"text-align: right;\">5.4914</td>\n",
       "      <td style = \"text-align: right;\">1.7511</td>\n",
       "      <td style = \"text-align: right;\">0.0591</td>\n",
       "    </tr>\n",
       "    <tr>\n",
       "      <td class = \"rowLabel\" style = \"font-weight: bold; text-align: right;\">Dividend_Stock_Price</td>\n",
       "      <td style = \"text-align: right;\">0.8099</td>\n",
       "      <td style = \"text-align: right;\">-11.1063</td>\n",
       "      <td style = \"text-align: right;\">-14.4706</td>\n",
       "      <td style = \"text-align: right;\">-13.2978</td>\n",
       "      <td style = \"text-align: right;\">-17.9779</td>\n",
       "      <td style = \"text-align: right;\">-0.148</td>\n",
       "      <td style = \"text-align: right;\">-15.8163</td>\n",
       "      <td style = \"text-align: right;\">0.9714</td>\n",
       "      <td style = \"text-align: right;\">-0.8685</td>\n",
       "      <td style = \"text-align: right;\">-17.8665</td>\n",
       "      <td style = \"text-align: right;\">-14.0743</td>\n",
       "    </tr>\n",
       "  </tbody>\n",
       "</table>\n"
      ]
     },
     "metadata": {},
     "output_type": "display_data"
    },
    {
     "data": {
      "text/plain": [
       "nothing"
      ]
     },
     "metadata": {},
     "output_type": "display_data"
    },
    {
     "data": {
      "text/plain": [
       "2×2 Matrix{Float64}:\n",
       " 1.0        0.0171604\n",
       " 0.0171604  1.0"
      ]
     },
     "metadata": {},
     "output_type": "display_data"
    }
   ],
   "source": [
    "df = DataFrame(XLSX.readtable(\"../../data/usa_data.xlsx\", \"Data\", infer_eltypes=true))\n",
    "data_source = collapse(TimeArray(df; timestamp = :Date), Dates.quarter, last)\n",
    "\n",
    "freq = 4\n",
    "\n",
    "Δd = percentchange(data_source[:Dividend], :log)\n",
    "dy = log.(data_source[:Dividend]) .- log.(data_source[:Stock_Price])\n",
    "cpi = percentchange(data_source[:CPI], :log) \n",
    "\n",
    "t_bill = data_source[:T_Bill]\n",
    "\n",
    "\n",
    "data= merge(Δd, dy)\n",
    "\n",
    "start = Date(1955, 01,01)\n",
    "end_d = Date(2024, 12, 31)\n",
    "s_data = to(from(data, start),end_d)\n",
    "\n",
    "display(returns_summarystats(s_data, freq)) \n",
    "display(cor(values(s_data)))\n",
    "\n"
   ]
  },
  {
   "cell_type": "code",
   "execution_count": 17,
   "id": "dff1bfa3",
   "metadata": {},
   "outputs": [
    {
     "data": {
      "text/plain": [
       "279×2 TimeArray{Float64, 2, Date, Matrix{Float64}} 1955-03-01 to 2024-07-01\n",
       "┌────────────┬─────────────┬──────────────────────┐\n",
       "│\u001b[1m            \u001b[0m│\u001b[1m Dividend    \u001b[0m│\u001b[1m Dividend_Stock_Price \u001b[0m│\n",
       "├────────────┼─────────────┼──────────────────────┤\n",
       "│ 1955-03-01 │   0.0107139 │             -3.15268 │\n",
       "│ 1955-06-01 │   0.0148193 │             -3.25267 │\n",
       "│ 1955-09-01 │   0.0248975 │             -3.29013 │\n",
       "│ 1955-12-01 │   0.0262886 │             -3.30445 │\n",
       "│ 1956-03-01 │   0.0486932 │             -3.31963 │\n",
       "│ 1956-06-01 │   0.0336481 │             -3.25434 │\n",
       "│ 1956-09-01 │ -0.00367956 │             -3.22292 │\n",
       "│ 1956-12-01 │  -0.0395159 │             -3.29113 │\n",
       "│     ⋮      │      ⋮      │          ⋮           │\n",
       "│ 2023-03-01 │   0.0151287 │             -4.09598 │\n",
       "│ 2023-06-01 │  0.00778484 │             -4.16793 │\n",
       "│ 2023-09-01 │   0.0105703 │              -4.1202 │\n",
       "│ 2023-12-01 │   0.0119053 │             -4.21477 │\n",
       "│ 2024-03-01 │   0.0103198 │              -4.3012 │\n",
       "│ 2024-06-01 │    0.010718 │             -4.32896 │\n",
       "│ 2024-07-01 │         0.0 │             -4.34022 │\n",
       "└────────────┴─────────────┴──────────────────────┘\n",
       "\u001b[36m                                   264 rows omitted\u001b[0m"
      ]
     },
     "metadata": {},
     "output_type": "display_data"
    }
   ],
   "source": [
    "s_data"
   ]
  },
  {
   "cell_type": "code",
   "execution_count": 16,
   "id": "b83614e9",
   "metadata": {},
   "outputs": [
    {
     "data": {
      "text/plain": [
       "278×1 TimeArray{Float64, 1, Date, Vector{Float64}} 1955-06-01 to 2024-07-01\n",
       "┌────────────┬─────────────┐\n",
       "│\u001b[1m            \u001b[0m│\u001b[1m Dividend    \u001b[0m│\n",
       "├────────────┼─────────────┤\n",
       "│ 1955-06-01 │   0.0107139 │\n",
       "│ 1955-09-01 │   0.0148193 │\n",
       "│ 1955-12-01 │   0.0248975 │\n",
       "│ 1956-03-01 │   0.0262886 │\n",
       "│ 1956-06-01 │   0.0486932 │\n",
       "│ 1956-09-01 │   0.0336481 │\n",
       "│ 1956-12-01 │ -0.00367956 │\n",
       "│ 1957-03-01 │  -0.0395159 │\n",
       "│     ⋮      │      ⋮      │\n",
       "│ 2023-03-01 │     0.02249 │\n",
       "│ 2023-06-01 │   0.0151287 │\n",
       "│ 2023-09-01 │  0.00778484 │\n",
       "│ 2023-12-01 │   0.0105703 │\n",
       "│ 2024-03-01 │   0.0119053 │\n",
       "│ 2024-06-01 │   0.0103198 │\n",
       "│ 2024-07-01 │    0.010718 │\n",
       "└────────────┴─────────────┘\n",
       "\u001b[36m            263 rows omitted\u001b[0m"
      ]
     },
     "metadata": {},
     "output_type": "display_data"
    }
   ],
   "source": [
    "TimeSeries.lag(s_data[:Dividend])"
   ]
  }
 ],
 "metadata": {
  "kernelspec": {
   "display_name": "Julia 1.11.2",
   "language": "julia",
   "name": "julia-1.11"
  },
  "language_info": {
   "file_extension": ".jl",
   "mimetype": "application/julia",
   "name": "julia",
   "version": "1.11.2"
  }
 },
 "nbformat": 4,
 "nbformat_minor": 5
}
