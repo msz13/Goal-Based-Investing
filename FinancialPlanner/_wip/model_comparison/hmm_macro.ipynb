{
 "cells": [
  {
   "cell_type": "code",
   "execution_count": 1,
   "id": "830351dc",
   "metadata": {},
   "outputs": [
    {
     "name": "stderr",
     "output_type": "stream",
     "text": [
      "\u001b[32m\u001b[1m  Activating\u001b[22m\u001b[39m project at `c:\\Users\\matsz\\programowanie\\Optymalizacja_portfela\\FinancialPlanner`\n"
     ]
    }
   ],
   "source": [
    "import Pkg\n",
    "Pkg.activate(\"../../../FinancialPlanner\")"
   ]
  },
  {
   "cell_type": "code",
   "execution_count": 2,
   "id": "f093cf0c",
   "metadata": {},
   "outputs": [],
   "source": [
    "using Revise\n",
    "using Turing\n",
    "using LinearAlgebra\n",
    "using Distributions\n",
    "using Random\n",
    "using StatsPlots\n",
    "using PDMats\n",
    "using StatsBase\n",
    "using Base.Iterators\n",
    "using DataFrames, TimeSeries, XLSX\n",
    "using PrettyTables"
   ]
  },
  {
   "cell_type": "code",
   "execution_count": 3,
   "id": "aa517b78",
   "metadata": {},
   "outputs": [],
   "source": [
    "include(\"../VARs/utils.jl\")\n",
    "includet(\"../RS/hmm_est.jl\")"
   ]
  },
  {
   "cell_type": "code",
   "execution_count": 6,
   "id": "614736cb",
   "metadata": {},
   "outputs": [
    {
     "data": {
      "text/plain": [
       "\"Macro data\""
      ]
     },
     "metadata": {},
     "output_type": "display_data"
    },
    {
     "data": {
      "text/html": [
       "<table>\n",
       "  <thead>\n",
       "    <tr class = \"header headerLastRow\">\n",
       "      <th class = \"rowLabel\" style = \"font-weight: bold; text-align: right;\"></th>\n",
       "      <th style = \"text-align: right;\">std</th>\n",
       "      <th style = \"text-align: right;\">max</th>\n",
       "      <th style = \"text-align: right;\">mean</th>\n",
       "      <th style = \"text-align: right;\">p75th</th>\n",
       "      <th style = \"text-align: right;\">min</th>\n",
       "      <th style = \"text-align: right;\">skewness</th>\n",
       "      <th style = \"text-align: right;\">p25th</th>\n",
       "      <th style = \"text-align: right;\">autocor</th>\n",
       "      <th style = \"text-align: right;\">kurtosis</th>\n",
       "      <th style = \"text-align: right;\">sr</th>\n",
       "      <th style = \"text-align: right;\">median</th>\n",
       "    </tr>\n",
       "  </thead>\n",
       "  <tbody>\n",
       "    <tr>\n",
       "      <td class = \"rowLabel\" style = \"font-weight: bold; text-align: right;\">CPI</td>\n",
       "      <td style = \"text-align: right;\">0.0123</td>\n",
       "      <td style = \"text-align: right;\">0.2148</td>\n",
       "      <td style = \"text-align: right;\">0.0354</td>\n",
       "      <td style = \"text-align: right;\">0.0596</td>\n",
       "      <td style = \"text-align: right;\">-0.2321</td>\n",
       "      <td style = \"text-align: right;\">0.0851</td>\n",
       "      <td style = \"text-align: right;\">0.0035</td>\n",
       "      <td style = \"text-align: right;\">0.5472</td>\n",
       "      <td style = \"text-align: right;\">2.7577</td>\n",
       "      <td style = \"text-align: right;\">2.8885</td>\n",
       "      <td style = \"text-align: right;\">0.0348</td>\n",
       "    </tr>\n",
       "    <tr>\n",
       "      <td class = \"rowLabel\" style = \"font-weight: bold; text-align: right;\">INDPRO</td>\n",
       "      <td style = \"text-align: right;\">0.0358</td>\n",
       "      <td style = \"text-align: right;\">0.7653</td>\n",
       "      <td style = \"text-align: right;\">0.0243</td>\n",
       "      <td style = \"text-align: right;\">0.0788</td>\n",
       "      <td style = \"text-align: right;\">-1.7045</td>\n",
       "      <td style = \"text-align: right;\">-3.1785</td>\n",
       "      <td style = \"text-align: right;\">-0.0232</td>\n",
       "      <td style = \"text-align: right;\">0.3076</td>\n",
       "      <td style = \"text-align: right;\">48.6631</td>\n",
       "      <td style = \"text-align: right;\">0.6803</td>\n",
       "      <td style = \"text-align: right;\">0.0294</td>\n",
       "    </tr>\n",
       "  </tbody>\n",
       "</table>\n"
      ]
     },
     "metadata": {},
     "output_type": "display_data"
    },
    {
     "data": {
      "text/plain": [
       "nothing"
      ]
     },
     "metadata": {},
     "output_type": "display_data"
    },
    {
     "data": {
      "text/plain": [
       "\"Correlations\""
      ]
     },
     "metadata": {},
     "output_type": "display_data"
    },
    {
     "data": {
      "text/plain": [
       "2×2 Matrix{Float64}:\n",
       "  1.0       -0.011246\n",
       " -0.011246   1.0"
      ]
     },
     "metadata": {},
     "output_type": "display_data"
    }
   ],
   "source": [
    "df = DataFrame(XLSX.readtable(\"../../data/usa_data.xlsx\", \"Data\", infer_eltypes=true))\n",
    "data_source = collapse(TimeArray(df; timestamp = :Date), Dates.month, last)\n",
    "\n",
    "freq = 12\n",
    "\n",
    "macro_data = percentchange(data_source[:CPI, :INDPRO], :log)\n",
    "\n",
    "start = Date(1955, 01,01)\n",
    "end_d = Date(2024, 07, 28)\n",
    "\n",
    "\n",
    "\n",
    "display(\"Macro data\")\n",
    "display(returns_summarystats(to(from(macro_data, start),end_d), freq))\n",
    "\n",
    "display(\"Correlations\")\n",
    "display(cor(values(to(from(macro_data, start),end_d)))) "
   ]
  },
  {
   "cell_type": "code",
   "execution_count": 7,
   "id": "d040e563",
   "metadata": {},
   "outputs": [
    {
     "data": {
      "text/plain": [
       "2"
      ]
     },
     "metadata": {},
     "output_type": "display_data"
    }
   ],
   "source": [
    "assets_names = [:CPI, :INDPRO]\n",
    "n_assets = length(assets_names)"
   ]
  },
  {
   "cell_type": "code",
   "execution_count": 10,
   "id": "487fdf39",
   "metadata": {},
   "outputs": [
    {
     "data": {
      "text/html": [
       "<table>\n",
       "  <caption style = \"text-align: left;\">Means</caption>\n",
       "  <thead>\n",
       "    <tr class = \"header headerLastRow\">\n",
       "      <th class = \"rowNumber\" style = \"font-weight: bold; text-align: right;\">Regime</th>\n",
       "      <th style = \"text-align: right;\">CPI</th>\n",
       "      <th style = \"text-align: right;\">INDPRO</th>\n",
       "    </tr>\n",
       "  </thead>\n",
       "  <tbody>\n",
       "    <tr>\n",
       "      <td class = \"rowNumber\" style = \"font-weight: bold; text-align: right;\">1</td>\n",
       "      <td style = \"text-align: right;\">0.047</td>\n",
       "      <td style = \"text-align: right;\">0.027</td>\n",
       "    </tr>\n",
       "    <tr>\n",
       "      <td class = \"rowNumber\" style = \"font-weight: bold; text-align: right;\">2</td>\n",
       "      <td style = \"text-align: right;\">0.015</td>\n",
       "      <td style = \"text-align: right;\">-0.019</td>\n",
       "    </tr>\n",
       "    <tr>\n",
       "      <td class = \"rowNumber\" style = \"font-weight: bold; text-align: right;\">3</td>\n",
       "      <td style = \"text-align: right;\">0.103</td>\n",
       "      <td style = \"text-align: right;\">0.024</td>\n",
       "    </tr>\n",
       "    <tr>\n",
       "      <td class = \"rowNumber\" style = \"font-weight: bold; text-align: right;\">4</td>\n",
       "      <td style = \"text-align: right;\">0.009</td>\n",
       "      <td style = \"text-align: right;\">0.038</td>\n",
       "    </tr>\n",
       "  </tbody>\n",
       "</table>\n"
      ]
     },
     "metadata": {},
     "output_type": "display_data"
    },
    {
     "data": {
      "text/html": [
       "<table>\n",
       "  <caption style = \"text-align: left;\">Standard deviations</caption>\n",
       "  <thead>\n",
       "    <tr class = \"header headerLastRow\">\n",
       "      <th class = \"rowNumber\" style = \"font-weight: bold; text-align: right;\">Regime</th>\n",
       "      <th style = \"text-align: right;\">CPI</th>\n",
       "      <th style = \"text-align: right;\">INDPRO</th>\n",
       "    </tr>\n",
       "  </thead>\n",
       "  <tbody>\n",
       "    <tr>\n",
       "      <td class = \"rowNumber\" style = \"font-weight: bold; text-align: right;\">1</td>\n",
       "      <td style = \"text-align: right;\">0.006</td>\n",
       "      <td style = \"text-align: right;\">0.020</td>\n",
       "    </tr>\n",
       "    <tr>\n",
       "      <td class = \"rowNumber\" style = \"font-weight: bold; text-align: right;\">2</td>\n",
       "      <td style = \"text-align: right;\">0.015</td>\n",
       "      <td style = \"text-align: right;\">0.084</td>\n",
       "    </tr>\n",
       "    <tr>\n",
       "      <td class = \"rowNumber\" style = \"font-weight: bold; text-align: right;\">3</td>\n",
       "      <td style = \"text-align: right;\">0.010</td>\n",
       "      <td style = \"text-align: right;\">0.024</td>\n",
       "    </tr>\n",
       "    <tr>\n",
       "      <td class = \"rowNumber\" style = \"font-weight: bold; text-align: right;\">4</td>\n",
       "      <td style = \"text-align: right;\">0.007</td>\n",
       "      <td style = \"text-align: right;\">0.019</td>\n",
       "    </tr>\n",
       "  </tbody>\n",
       "</table>\n"
      ]
     },
     "metadata": {},
     "output_type": "display_data"
    },
    {
     "data": {
      "text/html": [
       "<table>\n",
       "  <caption style = \"text-align: left;\">Correlations in regime 1</caption>\n",
       "  <thead>\n",
       "    <tr class = \"header headerLastRow\">\n",
       "      <th class = \"rowLabel\" style = \"font-weight: bold; text-align: right;\"></th>\n",
       "      <th style = \"text-align: right;\">CPI</th>\n",
       "      <th style = \"text-align: right;\">INDPRO</th>\n",
       "    </tr>\n",
       "  </thead>\n",
       "  <tbody>\n",
       "    <tr>\n",
       "      <td class = \"rowLabel\" style = \"font-weight: bold; text-align: right;\">CPI</td>\n",
       "      <td style = \"text-align: right;\">1.000</td>\n",
       "      <td style = \"text-align: right;\">0.066</td>\n",
       "    </tr>\n",
       "    <tr>\n",
       "      <td class = \"rowLabel\" style = \"font-weight: bold; text-align: right;\">INDPRO</td>\n",
       "      <td style = \"text-align: right;\">0.066</td>\n",
       "      <td style = \"text-align: right;\">1.000</td>\n",
       "    </tr>\n",
       "  </tbody>\n",
       "</table>\n"
      ]
     },
     "metadata": {},
     "output_type": "display_data"
    },
    {
     "data": {
      "text/html": [
       "<table>\n",
       "  <caption style = \"text-align: left;\">Correlations in regime 2</caption>\n",
       "  <thead>\n",
       "    <tr class = \"header headerLastRow\">\n",
       "      <th class = \"rowLabel\" style = \"font-weight: bold; text-align: right;\"></th>\n",
       "      <th style = \"text-align: right;\">CPI</th>\n",
       "      <th style = \"text-align: right;\">INDPRO</th>\n",
       "    </tr>\n",
       "  </thead>\n",
       "  <tbody>\n",
       "    <tr>\n",
       "      <td class = \"rowLabel\" style = \"font-weight: bold; text-align: right;\">CPI</td>\n",
       "      <td style = \"text-align: right;\">1.000</td>\n",
       "      <td style = \"text-align: right;\">-0.094</td>\n",
       "    </tr>\n",
       "    <tr>\n",
       "      <td class = \"rowLabel\" style = \"font-weight: bold; text-align: right;\">INDPRO</td>\n",
       "      <td style = \"text-align: right;\">-0.094</td>\n",
       "      <td style = \"text-align: right;\">1.000</td>\n",
       "    </tr>\n",
       "  </tbody>\n",
       "</table>\n"
      ]
     },
     "metadata": {},
     "output_type": "display_data"
    },
    {
     "data": {
      "text/html": [
       "<table>\n",
       "  <caption style = \"text-align: left;\">Correlations in regime 3</caption>\n",
       "  <thead>\n",
       "    <tr class = \"header headerLastRow\">\n",
       "      <th class = \"rowLabel\" style = \"font-weight: bold; text-align: right;\"></th>\n",
       "      <th style = \"text-align: right;\">CPI</th>\n",
       "      <th style = \"text-align: right;\">INDPRO</th>\n",
       "    </tr>\n",
       "  </thead>\n",
       "  <tbody>\n",
       "    <tr>\n",
       "      <td class = \"rowLabel\" style = \"font-weight: bold; text-align: right;\">CPI</td>\n",
       "      <td style = \"text-align: right;\">1.000</td>\n",
       "      <td style = \"text-align: right;\">-0.148</td>\n",
       "    </tr>\n",
       "    <tr>\n",
       "      <td class = \"rowLabel\" style = \"font-weight: bold; text-align: right;\">INDPRO</td>\n",
       "      <td style = \"text-align: right;\">-0.148</td>\n",
       "      <td style = \"text-align: right;\">1.000</td>\n",
       "    </tr>\n",
       "  </tbody>\n",
       "</table>\n"
      ]
     },
     "metadata": {},
     "output_type": "display_data"
    },
    {
     "data": {
      "text/html": [
       "<table>\n",
       "  <caption style = \"text-align: left;\">Correlations in regime 4</caption>\n",
       "  <thead>\n",
       "    <tr class = \"header headerLastRow\">\n",
       "      <th class = \"rowLabel\" style = \"font-weight: bold; text-align: right;\"></th>\n",
       "      <th style = \"text-align: right;\">CPI</th>\n",
       "      <th style = \"text-align: right;\">INDPRO</th>\n",
       "    </tr>\n",
       "  </thead>\n",
       "  <tbody>\n",
       "    <tr>\n",
       "      <td class = \"rowLabel\" style = \"font-weight: bold; text-align: right;\">CPI</td>\n",
       "      <td style = \"text-align: right;\">1.000</td>\n",
       "      <td style = \"text-align: right;\">0.169</td>\n",
       "    </tr>\n",
       "    <tr>\n",
       "      <td class = \"rowLabel\" style = \"font-weight: bold; text-align: right;\">INDPRO</td>\n",
       "      <td style = \"text-align: right;\">0.169</td>\n",
       "      <td style = \"text-align: right;\">1.000</td>\n",
       "    </tr>\n",
       "  </tbody>\n",
       "</table>\n"
      ]
     },
     "metadata": {},
     "output_type": "display_data"
    },
    {
     "name": "stdout",
     "output_type": "stream",
     "text": [
      "Regimes transition matrix\n"
     ]
    },
    {
     "data": {
      "text/html": [
       "<table>\n",
       "  <thead>\n",
       "    <tr class = \"header headerLastRow\">\n",
       "      <th class = \"rowNumber\" style = \"font-weight: bold; text-align: right;\">Regime</th>\n",
       "      <th style = \"text-align: right;\">1</th>\n",
       "      <th style = \"text-align: right;\">2</th>\n",
       "      <th style = \"text-align: right;\">3</th>\n",
       "      <th style = \"text-align: right;\">4</th>\n",
       "    </tr>\n",
       "  </thead>\n",
       "  <tbody>\n",
       "    <tr>\n",
       "      <td class = \"rowNumber\" style = \"font-weight: bold; text-align: right;\">1</td>\n",
       "      <td style = \"text-align: right;\">0.780</td>\n",
       "      <td style = \"text-align: right;\">0.006</td>\n",
       "      <td style = \"text-align: right;\">0.032</td>\n",
       "      <td style = \"text-align: right;\">0.183</td>\n",
       "    </tr>\n",
       "    <tr>\n",
       "      <td class = \"rowNumber\" style = \"font-weight: bold; text-align: right;\">2</td>\n",
       "      <td style = \"text-align: right;\">0.000</td>\n",
       "      <td style = \"text-align: right;\">0.854</td>\n",
       "      <td style = \"text-align: right;\">0.043</td>\n",
       "      <td style = \"text-align: right;\">0.103</td>\n",
       "    </tr>\n",
       "    <tr>\n",
       "      <td class = \"rowNumber\" style = \"font-weight: bold; text-align: right;\">3</td>\n",
       "      <td style = \"text-align: right;\">0.075</td>\n",
       "      <td style = \"text-align: right;\">0.062</td>\n",
       "      <td style = \"text-align: right;\">0.851</td>\n",
       "      <td style = \"text-align: right;\">0.013</td>\n",
       "    </tr>\n",
       "    <tr>\n",
       "      <td class = \"rowNumber\" style = \"font-weight: bold; text-align: right;\">4</td>\n",
       "      <td style = \"text-align: right;\">0.176</td>\n",
       "      <td style = \"text-align: right;\">0.024</td>\n",
       "      <td style = \"text-align: right;\">0.000</td>\n",
       "      <td style = \"text-align: right;\">0.800</td>\n",
       "    </tr>\n",
       "  </tbody>\n",
       "</table>\n"
      ]
     },
     "metadata": {},
     "output_type": "display_data"
    }
   ],
   "source": [
    "n_regimes = 4\n",
    "hmm = hmm_est(macro_data, n_regimes)\n",
    "regime_summary(hmm[1], assets_names, 12)\n"
   ]
  },
  {
   "cell_type": "code",
   "execution_count": 11,
   "id": "e908c70c",
   "metadata": {},
   "outputs": [
    {
     "data": {
      "text/html": [
       "<table>\n",
       "  <caption style = \"text-align: left;\">Means</caption>\n",
       "  <thead>\n",
       "    <tr class = \"header headerLastRow\">\n",
       "      <th class = \"rowLabel\" style = \"font-weight: bold; text-align: right;\"></th>\n",
       "      <th style = \"text-align: right;\">CPI</th>\n",
       "      <th style = \"text-align: right;\">INDPRO</th>\n",
       "    </tr>\n",
       "  </thead>\n",
       "  <tbody>\n",
       "    <tr>\n",
       "      <td class = \"rowLabel\" style = \"font-weight: bold; text-align: right;\">1</td>\n",
       "      <td style = \"text-align: right;\">0.0269</td>\n",
       "      <td style = \"text-align: right;\">0.0058</td>\n",
       "    </tr>\n",
       "    <tr>\n",
       "      <td class = \"rowLabel\" style = \"font-weight: bold; text-align: right;\">5</td>\n",
       "      <td style = \"text-align: right;\">0.0326</td>\n",
       "      <td style = \"text-align: right;\">0.0205</td>\n",
       "    </tr>\n",
       "    <tr>\n",
       "      <td class = \"rowLabel\" style = \"font-weight: bold; text-align: right;\">10</td>\n",
       "      <td style = \"text-align: right;\">0.0333</td>\n",
       "      <td style = \"text-align: right;\">0.0229</td>\n",
       "    </tr>\n",
       "    <tr>\n",
       "      <td class = \"rowLabel\" style = \"font-weight: bold; text-align: right;\">25</td>\n",
       "      <td style = \"text-align: right;\">0.0338</td>\n",
       "      <td style = \"text-align: right;\">0.0243</td>\n",
       "    </tr>\n",
       "  </tbody>\n",
       "</table>\n"
      ]
     },
     "metadata": {},
     "output_type": "display_data"
    },
    {
     "data": {
      "text/html": [
       "<table>\n",
       "  <caption style = \"text-align: left;\">Standard devations</caption>\n",
       "  <thead>\n",
       "    <tr class = \"header headerLastRow\">\n",
       "      <th class = \"rowLabel\" style = \"font-weight: bold; text-align: right;\"></th>\n",
       "      <th style = \"text-align: right;\">CPI</th>\n",
       "      <th style = \"text-align: right;\">INDPRO</th>\n",
       "    </tr>\n",
       "  </thead>\n",
       "  <tbody>\n",
       "    <tr>\n",
       "      <td class = \"rowLabel\" style = \"font-weight: bold; text-align: right;\">1</td>\n",
       "      <td style = \"text-align: right;\">0.0225</td>\n",
       "      <td style = \"text-align: right;\">0.0649</td>\n",
       "    </tr>\n",
       "    <tr>\n",
       "      <td class = \"rowLabel\" style = \"font-weight: bold; text-align: right;\">5</td>\n",
       "      <td style = \"text-align: right;\">0.0122</td>\n",
       "      <td style = \"text-align: right;\">0.0211</td>\n",
       "    </tr>\n",
       "    <tr>\n",
       "      <td class = \"rowLabel\" style = \"font-weight: bold; text-align: right;\">10</td>\n",
       "      <td style = \"text-align: right;\">0.0087</td>\n",
       "      <td style = \"text-align: right;\">0.0137</td>\n",
       "    </tr>\n",
       "    <tr>\n",
       "      <td class = \"rowLabel\" style = \"font-weight: bold; text-align: right;\">25</td>\n",
       "      <td style = \"text-align: right;\">0.0056</td>\n",
       "      <td style = \"text-align: right;\">0.0082</td>\n",
       "    </tr>\n",
       "  </tbody>\n",
       "</table>\n"
      ]
     },
     "metadata": {},
     "output_type": "display_data"
    },
    {
     "data": {
      "text/html": [
       "<table>\n",
       "  <caption style = \"text-align: left;\">Skewness</caption>\n",
       "  <thead>\n",
       "    <tr class = \"header headerLastRow\">\n",
       "      <th class = \"rowLabel\" style = \"font-weight: bold; text-align: right;\"></th>\n",
       "      <th style = \"text-align: right;\">CPI</th>\n",
       "      <th style = \"text-align: right;\">INDPRO</th>\n",
       "    </tr>\n",
       "  </thead>\n",
       "  <tbody>\n",
       "    <tr>\n",
       "      <td class = \"rowLabel\" style = \"font-weight: bold; text-align: right;\">1</td>\n",
       "      <td style = \"text-align: right;\">0.9902</td>\n",
       "      <td style = \"text-align: right;\">-0.3633</td>\n",
       "    </tr>\n",
       "    <tr>\n",
       "      <td class = \"rowLabel\" style = \"font-weight: bold; text-align: right;\">5</td>\n",
       "      <td style = \"text-align: right;\">0.7913</td>\n",
       "      <td style = \"text-align: right;\">-0.5996</td>\n",
       "    </tr>\n",
       "    <tr>\n",
       "      <td class = \"rowLabel\" style = \"font-weight: bold; text-align: right;\">10</td>\n",
       "      <td style = \"text-align: right;\">0.6165</td>\n",
       "      <td style = \"text-align: right;\">-0.5288</td>\n",
       "    </tr>\n",
       "    <tr>\n",
       "      <td class = \"rowLabel\" style = \"font-weight: bold; text-align: right;\">25</td>\n",
       "      <td style = \"text-align: right;\">0.4245</td>\n",
       "      <td style = \"text-align: right;\">-0.3612</td>\n",
       "    </tr>\n",
       "  </tbody>\n",
       "</table>\n"
      ]
     },
     "metadata": {},
     "output_type": "display_data"
    },
    {
     "data": {
      "text/html": [
       "<table>\n",
       "  <caption style = \"text-align: left;\">Kurtosis</caption>\n",
       "  <thead>\n",
       "    <tr class = \"header headerLastRow\">\n",
       "      <th class = \"rowLabel\" style = \"font-weight: bold; text-align: right;\"></th>\n",
       "      <th style = \"text-align: right;\">CPI</th>\n",
       "      <th style = \"text-align: right;\">INDPRO</th>\n",
       "    </tr>\n",
       "  </thead>\n",
       "  <tbody>\n",
       "    <tr>\n",
       "      <td class = \"rowLabel\" style = \"font-weight: bold; text-align: right;\">1</td>\n",
       "      <td style = \"text-align: right;\">1.1194</td>\n",
       "      <td style = \"text-align: right;\">0.8607</td>\n",
       "    </tr>\n",
       "    <tr>\n",
       "      <td class = \"rowLabel\" style = \"font-weight: bold; text-align: right;\">5</td>\n",
       "      <td style = \"text-align: right;\">0.7902</td>\n",
       "      <td style = \"text-align: right;\">1.0858</td>\n",
       "    </tr>\n",
       "    <tr>\n",
       "      <td class = \"rowLabel\" style = \"font-weight: bold; text-align: right;\">10</td>\n",
       "      <td style = \"text-align: right;\">0.5052</td>\n",
       "      <td style = \"text-align: right;\">0.7712</td>\n",
       "    </tr>\n",
       "    <tr>\n",
       "      <td class = \"rowLabel\" style = \"font-weight: bold; text-align: right;\">25</td>\n",
       "      <td style = \"text-align: right;\">0.3544</td>\n",
       "      <td style = \"text-align: right;\">0.4168</td>\n",
       "    </tr>\n",
       "  </tbody>\n",
       "</table>\n"
      ]
     },
     "metadata": {},
     "output_type": "display_data"
    },
    {
     "data": {
      "text/html": [
       "<table>\n",
       "  <caption style = \"text-align: left;\">CPI</caption>\n",
       "  <thead>\n",
       "    <tr class = \"header headerLastRow\">\n",
       "      <th class = \"rowLabel\" style = \"font-weight: bold; text-align: right;\"></th>\n",
       "      <th style = \"text-align: right;\">0.01</th>\n",
       "      <th style = \"text-align: right;\">0.025</th>\n",
       "      <th style = \"text-align: right;\">0.05</th>\n",
       "      <th style = \"text-align: right;\">0.25</th>\n",
       "      <th style = \"text-align: right;\">0.5</th>\n",
       "      <th style = \"text-align: right;\">0.75</th>\n",
       "      <th style = \"text-align: right;\">0.95</th>\n",
       "      <th style = \"text-align: right;\">0.975</th>\n",
       "      <th style = \"text-align: right;\">0.99</th>\n",
       "    </tr>\n",
       "  </thead>\n",
       "  <tbody>\n",
       "    <tr>\n",
       "      <td class = \"rowLabel\" style = \"font-weight: bold; text-align: right;\">1</td>\n",
       "      <td style = \"text-align: right;\">-0.0124</td>\n",
       "      <td style = \"text-align: right;\">-0.0071</td>\n",
       "      <td style = \"text-align: right;\">-0.0025</td>\n",
       "      <td style = \"text-align: right;\">0.0117</td>\n",
       "      <td style = \"text-align: right;\">0.0228</td>\n",
       "      <td style = \"text-align: right;\">0.0373</td>\n",
       "      <td style = \"text-align: right;\">0.073</td>\n",
       "      <td style = \"text-align: right;\">0.0844</td>\n",
       "      <td style = \"text-align: right;\">0.0951</td>\n",
       "    </tr>\n",
       "    <tr>\n",
       "      <td class = \"rowLabel\" style = \"font-weight: bold; text-align: right;\">5</td>\n",
       "      <td style = \"text-align: right;\">0.0109</td>\n",
       "      <td style = \"text-align: right;\">0.0137</td>\n",
       "      <td style = \"text-align: right;\">0.0159</td>\n",
       "      <td style = \"text-align: right;\">0.0239</td>\n",
       "      <td style = \"text-align: right;\">0.0307</td>\n",
       "      <td style = \"text-align: right;\">0.0397</td>\n",
       "      <td style = \"text-align: right;\">0.0555</td>\n",
       "      <td style = \"text-align: right;\">0.0611</td>\n",
       "      <td style = \"text-align: right;\">0.0677</td>\n",
       "    </tr>\n",
       "    <tr>\n",
       "      <td class = \"rowLabel\" style = \"font-weight: bold; text-align: right;\">10</td>\n",
       "      <td style = \"text-align: right;\">0.0167</td>\n",
       "      <td style = \"text-align: right;\">0.0189</td>\n",
       "      <td style = \"text-align: right;\">0.0208</td>\n",
       "      <td style = \"text-align: right;\">0.0271</td>\n",
       "      <td style = \"text-align: right;\">0.0323</td>\n",
       "      <td style = \"text-align: right;\">0.0386</td>\n",
       "      <td style = \"text-align: right;\">0.0492</td>\n",
       "      <td style = \"text-align: right;\">0.0529</td>\n",
       "      <td style = \"text-align: right;\">0.0574</td>\n",
       "    </tr>\n",
       "    <tr>\n",
       "      <td class = \"rowLabel\" style = \"font-weight: bold; text-align: right;\">25</td>\n",
       "      <td style = \"text-align: right;\">0.0224</td>\n",
       "      <td style = \"text-align: right;\">0.0239</td>\n",
       "      <td style = \"text-align: right;\">0.0252</td>\n",
       "      <td style = \"text-align: right;\">0.0298</td>\n",
       "      <td style = \"text-align: right;\">0.0334</td>\n",
       "      <td style = \"text-align: right;\">0.0373</td>\n",
       "      <td style = \"text-align: right;\">0.0439</td>\n",
       "      <td style = \"text-align: right;\">0.0461</td>\n",
       "      <td style = \"text-align: right;\">0.0486</td>\n",
       "    </tr>\n",
       "  </tbody>\n",
       "</table>\n"
      ]
     },
     "metadata": {},
     "output_type": "display_data"
    },
    {
     "data": {
      "text/html": [
       "<table>\n",
       "  <caption style = \"text-align: left;\">INDPRO</caption>\n",
       "  <thead>\n",
       "    <tr class = \"header headerLastRow\">\n",
       "      <th class = \"rowLabel\" style = \"font-weight: bold; text-align: right;\"></th>\n",
       "      <th style = \"text-align: right;\">0.01</th>\n",
       "      <th style = \"text-align: right;\">0.025</th>\n",
       "      <th style = \"text-align: right;\">0.05</th>\n",
       "      <th style = \"text-align: right;\">0.25</th>\n",
       "      <th style = \"text-align: right;\">0.5</th>\n",
       "      <th style = \"text-align: right;\">0.75</th>\n",
       "      <th style = \"text-align: right;\">0.95</th>\n",
       "      <th style = \"text-align: right;\">0.975</th>\n",
       "      <th style = \"text-align: right;\">0.99</th>\n",
       "    </tr>\n",
       "  </thead>\n",
       "  <tbody>\n",
       "    <tr>\n",
       "      <td class = \"rowLabel\" style = \"font-weight: bold; text-align: right;\">1</td>\n",
       "      <td style = \"text-align: right;\">-0.1724</td>\n",
       "      <td style = \"text-align: right;\">-0.1384</td>\n",
       "      <td style = \"text-align: right;\">-0.1078</td>\n",
       "      <td style = \"text-align: right;\">-0.0316</td>\n",
       "      <td style = \"text-align: right;\">0.01</td>\n",
       "      <td style = \"text-align: right;\">0.0476</td>\n",
       "      <td style = \"text-align: right;\">0.1048</td>\n",
       "      <td style = \"text-align: right;\">0.1262</td>\n",
       "      <td style = \"text-align: right;\">0.1532</td>\n",
       "    </tr>\n",
       "    <tr>\n",
       "      <td class = \"rowLabel\" style = \"font-weight: bold; text-align: right;\">5</td>\n",
       "      <td style = \"text-align: right;\">-0.0387</td>\n",
       "      <td style = \"text-align: right;\">-0.027</td>\n",
       "      <td style = \"text-align: right;\">-0.0175</td>\n",
       "      <td style = \"text-align: right;\">0.0085</td>\n",
       "      <td style = \"text-align: right;\">0.0227</td>\n",
       "      <td style = \"text-align: right;\">0.0344</td>\n",
       "      <td style = \"text-align: right;\">0.0512</td>\n",
       "      <td style = \"text-align: right;\">0.0575</td>\n",
       "      <td style = \"text-align: right;\">0.0648</td>\n",
       "    </tr>\n",
       "    <tr>\n",
       "      <td class = \"rowLabel\" style = \"font-weight: bold; text-align: right;\">10</td>\n",
       "      <td style = \"text-align: right;\">-0.0142</td>\n",
       "      <td style = \"text-align: right;\">-0.007</td>\n",
       "      <td style = \"text-align: right;\">-0.0014</td>\n",
       "      <td style = \"text-align: right;\">0.0149</td>\n",
       "      <td style = \"text-align: right;\">0.024</td>\n",
       "      <td style = \"text-align: right;\">0.0323</td>\n",
       "      <td style = \"text-align: right;\">0.0433</td>\n",
       "      <td style = \"text-align: right;\">0.0469</td>\n",
       "      <td style = \"text-align: right;\">0.051</td>\n",
       "    </tr>\n",
       "    <tr>\n",
       "      <td class = \"rowLabel\" style = \"font-weight: bold; text-align: right;\">25</td>\n",
       "      <td style = \"text-align: right;\">0.003</td>\n",
       "      <td style = \"text-align: right;\">0.0066</td>\n",
       "      <td style = \"text-align: right;\">0.0099</td>\n",
       "      <td style = \"text-align: right;\">0.0191</td>\n",
       "      <td style = \"text-align: right;\">0.0248</td>\n",
       "      <td style = \"text-align: right;\">0.0299</td>\n",
       "      <td style = \"text-align: right;\">0.0369</td>\n",
       "      <td style = \"text-align: right;\">0.0391</td>\n",
       "      <td style = \"text-align: right;\">0.0417</td>\n",
       "    </tr>\n",
       "  </tbody>\n",
       "</table>\n"
      ]
     },
     "metadata": {},
     "output_type": "display_data"
    }
   ],
   "source": [
    "scenarios = simulate_hmm(hmm[1], n_assets, 25*freq, 10_000)\n",
    "\n",
    "periods = [1,5, 10, 25]\n",
    "ret_in_years = cum_returns_in_periods(scenarios, periods, freq, true)\n",
    "print_scenarios_summary(ret_in_years, assets_names, string.(periods))\n",
    "n_assets = length(assets_names)\n",
    "for a in 1:n_assets\n",
    "    print_scenarios_percentiles(ret_in_years[a, :, :], [.01, .025, .05, .25, .5, .75, .95, .975, .99], string.(periods), string.(assets_names[a]))\n",
    "end  "
   ]
  },
  {
   "cell_type": "code",
   "execution_count": 81,
   "id": "53dc1677",
   "metadata": {},
   "outputs": [
    {
     "data": {
      "text/plain": [
       ":Total_Stock_CPI"
      ]
     },
     "metadata": {},
     "output_type": "display_data"
    },
    {
     "data": {
      "text/plain": [
       "\"mdd\""
      ]
     },
     "metadata": {},
     "output_type": "display_data"
    },
    {
     "data": {
      "text/plain": [
       "1×5 adjoint(::Vector{Float64}) with eltype Float64:\n",
       " 0.212073  0.312126  0.388067  0.48415  0.673097"
      ]
     },
     "metadata": {},
     "output_type": "display_data"
    },
    {
     "data": {
      "text/plain": [
       "\"mddl\""
      ]
     },
     "metadata": {},
     "output_type": "display_data"
    },
    {
     "data": {
      "text/plain": [
       "1×5 adjoint(::Vector{Float64}) with eltype Float64:\n",
       " 26.0  48.0  70.0  104.0  209.03"
      ]
     },
     "metadata": {},
     "output_type": "display_data"
    },
    {
     "data": {
      "text/plain": [
       ":Price_10Y_CPI"
      ]
     },
     "metadata": {},
     "output_type": "display_data"
    },
    {
     "data": {
      "text/plain": [
       "\"mdd\""
      ]
     },
     "metadata": {},
     "output_type": "display_data"
    },
    {
     "data": {
      "text/plain": [
       "1×5 adjoint(::Vector{Float64}) with eltype Float64:\n",
       " 0.138995  0.196629  0.246045  0.309159  0.45166"
      ]
     },
     "metadata": {},
     "output_type": "display_data"
    },
    {
     "data": {
      "text/plain": [
       "\"mddl\""
      ]
     },
     "metadata": {},
     "output_type": "display_data"
    },
    {
     "data": {
      "text/plain": [
       "1×5 adjoint(::Vector{Float64}) with eltype Float64:\n",
       " 42.0  78.0  113.0  168.0  285.0"
      ]
     },
     "metadata": {},
     "output_type": "display_data"
    }
   ],
   "source": [
    "mdd, mddl = max_drawdown_and_length(scenarios[1,:,:])\n",
    "\n",
    "display(assets_names[1])\n",
    "display(\"mdd\")\n",
    "display(quantile(mdd, [.03, .25, .5, .75, .97])')\n",
    "display(\"mddl\")\n",
    "display(quantile(mddl, [.03, .25, .5, .75, .97])')\n",
    "\n",
    "mdd, mddl = max_drawdown_and_length(scenarios[2,:,:])\n",
    "\n",
    "display(assets_names[2])\n",
    "display(\"mdd\")\n",
    "display(quantile(mdd, [.03, .25, .5, .75, .97])')\n",
    "display(\"mddl\")\n",
    "display(quantile(mddl, [.03, .25, .5, .75, .97])')"
   ]
  }
 ],
 "metadata": {
  "kernelspec": {
   "display_name": "Julia 1.11.2",
   "language": "julia",
   "name": "julia-1.11"
  },
  "language_info": {
   "file_extension": ".jl",
   "mimetype": "application/julia",
   "name": "julia",
   "version": "1.11.2"
  }
 },
 "nbformat": 4,
 "nbformat_minor": 5
}
