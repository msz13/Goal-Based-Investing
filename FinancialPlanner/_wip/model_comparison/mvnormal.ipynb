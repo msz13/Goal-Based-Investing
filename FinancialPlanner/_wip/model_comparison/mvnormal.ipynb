{
 "cells": [
  {
   "cell_type": "code",
   "execution_count": 117,
   "id": "6828c058",
   "metadata": {},
   "outputs": [
    {
     "name": "stderr",
     "output_type": "stream",
     "text": [
      "\u001b[32m\u001b[1m  Activating\u001b[22m\u001b[39m project at `c:\\Users\\matsz\\programowanie\\Optymalizacja_portfela\\FinancialPlanner`\n"
     ]
    }
   ],
   "source": [
    "import Pkg\n",
    "Pkg.activate(\"../../../FinancialPlanner\")"
   ]
  },
  {
   "cell_type": "code",
   "execution_count": 118,
   "id": "b12186a4",
   "metadata": {},
   "outputs": [],
   "source": [
    "using Revise\n",
    "using LinearAlgebra\n",
    "using Distributions\n",
    "using Random\n",
    "using StatsPlots\n",
    "using PDMats\n",
    "using StatsBase\n",
    "using Base.Iterators\n",
    "using DataFrames, TimeSeries, XLSX\n",
    "using PrettyTables\n",
    "\n",
    "include(\"../VARs/utils.jl\")\n",
    "includet(\"../bootstrap_model.jl\")"
   ]
  },
  {
   "cell_type": "code",
   "execution_count": 119,
   "id": "5e8cfcfa",
   "metadata": {},
   "outputs": [
    {
     "data": {
      "text/plain": [
       "\"Returns\""
      ]
     },
     "metadata": {},
     "output_type": "display_data"
    },
    {
     "data": {
      "text/html": [
       "<table>\n",
       "  <thead>\n",
       "    <tr class = \"header headerLastRow\">\n",
       "      <th class = \"rowLabel\" style = \"font-weight: bold; text-align: right;\"></th>\n",
       "      <th style = \"text-align: right;\">std</th>\n",
       "      <th style = \"text-align: right;\">max</th>\n",
       "      <th style = \"text-align: right;\">mean</th>\n",
       "      <th style = \"text-align: right;\">p75th</th>\n",
       "      <th style = \"text-align: right;\">min</th>\n",
       "      <th style = \"text-align: right;\">skewness</th>\n",
       "      <th style = \"text-align: right;\">p25th</th>\n",
       "      <th style = \"text-align: right;\">autocor</th>\n",
       "      <th style = \"text-align: right;\">kurtosis</th>\n",
       "      <th style = \"text-align: right;\">sr</th>\n",
       "      <th style = \"text-align: right;\">median</th>\n",
       "    </tr>\n",
       "  </thead>\n",
       "  <tbody>\n",
       "    <tr>\n",
       "      <td class = \"rowLabel\" style = \"font-weight: bold; text-align: right;\">Total_Stock</td>\n",
       "      <td style = \"text-align: right;\">0.1473</td>\n",
       "      <td style = \"text-align: right;\">1.8543</td>\n",
       "      <td style = \"text-align: right;\">0.1012</td>\n",
       "      <td style = \"text-align: right;\">0.4365</td>\n",
       "      <td style = \"text-align: right;\">-2.9008</td>\n",
       "      <td style = \"text-align: right;\">-0.6469</td>\n",
       "      <td style = \"text-align: right;\">-0.1883</td>\n",
       "      <td style = \"text-align: right;\">0.0258</td>\n",
       "      <td style = \"text-align: right;\">2.1941</td>\n",
       "      <td style = \"text-align: right;\">0.6874</td>\n",
       "      <td style = \"text-align: right;\">0.1474</td>\n",
       "    </tr>\n",
       "    <tr>\n",
       "      <td class = \"rowLabel\" style = \"font-weight: bold; text-align: right;\">Price_10Y</td>\n",
       "      <td style = \"text-align: right;\">0.0755</td>\n",
       "      <td style = \"text-align: right;\">1.3969</td>\n",
       "      <td style = \"text-align: right;\">0.0531</td>\n",
       "      <td style = \"text-align: right;\">0.1909</td>\n",
       "      <td style = \"text-align: right;\">-0.9866</td>\n",
       "      <td style = \"text-align: right;\">0.3097</td>\n",
       "      <td style = \"text-align: right;\">-0.0893</td>\n",
       "      <td style = \"text-align: right;\">0.1022</td>\n",
       "      <td style = \"text-align: right;\">1.9867</td>\n",
       "      <td style = \"text-align: right;\">0.7037</td>\n",
       "      <td style = \"text-align: right;\">0.0377</td>\n",
       "    </tr>\n",
       "  </tbody>\n",
       "</table>\n"
      ]
     },
     "metadata": {},
     "output_type": "display_data"
    },
    {
     "data": {
      "text/plain": [
       "nothing"
      ]
     },
     "metadata": {},
     "output_type": "display_data"
    },
    {
     "data": {
      "text/plain": [
       "\"Real_returns\""
      ]
     },
     "metadata": {},
     "output_type": "display_data"
    },
    {
     "data": {
      "text/html": [
       "<table>\n",
       "  <thead>\n",
       "    <tr class = \"header headerLastRow\">\n",
       "      <th class = \"rowLabel\" style = \"font-weight: bold; text-align: right;\"></th>\n",
       "      <th style = \"text-align: right;\">std</th>\n",
       "      <th style = \"text-align: right;\">max</th>\n",
       "      <th style = \"text-align: right;\">mean</th>\n",
       "      <th style = \"text-align: right;\">p75th</th>\n",
       "      <th style = \"text-align: right;\">min</th>\n",
       "      <th style = \"text-align: right;\">skewness</th>\n",
       "      <th style = \"text-align: right;\">p25th</th>\n",
       "      <th style = \"text-align: right;\">autocor</th>\n",
       "      <th style = \"text-align: right;\">kurtosis</th>\n",
       "      <th style = \"text-align: right;\">sr</th>\n",
       "      <th style = \"text-align: right;\">median</th>\n",
       "    </tr>\n",
       "  </thead>\n",
       "  <tbody>\n",
       "    <tr>\n",
       "      <td class = \"rowLabel\" style = \"font-weight: bold; text-align: right;\">Total_Stock_CPI</td>\n",
       "      <td style = \"text-align: right;\">0.1479</td>\n",
       "      <td style = \"text-align: right;\">1.7607</td>\n",
       "      <td style = \"text-align: right;\">0.0658</td>\n",
       "      <td style = \"text-align: right;\">0.4053</td>\n",
       "      <td style = \"text-align: right;\">-2.9112</td>\n",
       "      <td style = \"text-align: right;\">-0.596</td>\n",
       "      <td style = \"text-align: right;\">-0.2186</td>\n",
       "      <td style = \"text-align: right;\">0.032</td>\n",
       "      <td style = \"text-align: right;\">1.9119</td>\n",
       "      <td style = \"text-align: right;\">0.445</td>\n",
       "      <td style = \"text-align: right;\">0.1107</td>\n",
       "    </tr>\n",
       "    <tr>\n",
       "      <td class = \"rowLabel\" style = \"font-weight: bold; text-align: right;\">Price_10Y_CPI</td>\n",
       "      <td style = \"text-align: right;\">0.078</td>\n",
       "      <td style = \"text-align: right;\">1.279</td>\n",
       "      <td style = \"text-align: right;\">0.0177</td>\n",
       "      <td style = \"text-align: right;\">0.1544</td>\n",
       "      <td style = \"text-align: right;\">-1.1677</td>\n",
       "      <td style = \"text-align: right;\">0.2268</td>\n",
       "      <td style = \"text-align: right;\">-0.1322</td>\n",
       "      <td style = \"text-align: right;\">0.1437</td>\n",
       "      <td style = \"text-align: right;\">2.0153</td>\n",
       "      <td style = \"text-align: right;\">0.2268</td>\n",
       "      <td style = \"text-align: right;\">0.0058</td>\n",
       "    </tr>\n",
       "  </tbody>\n",
       "</table>\n"
      ]
     },
     "metadata": {},
     "output_type": "display_data"
    },
    {
     "data": {
      "text/plain": [
       "nothing"
      ]
     },
     "metadata": {},
     "output_type": "display_data"
    },
    {
     "data": {
      "text/plain": [
       "\"Correlations\""
      ]
     },
     "metadata": {},
     "output_type": "display_data"
    },
    {
     "data": {
      "text/plain": [
       "2×2 Matrix{Float64}:\n",
       " 1.0        0.0980477\n",
       " 0.0980477  1.0"
      ]
     },
     "metadata": {},
     "output_type": "display_data"
    }
   ],
   "source": [
    "df = DataFrame(XLSX.readtable(\"../../data/usa_data.xlsx\", \"Data\", infer_eltypes=true))\n",
    "data_source = collapse(TimeArray(df; timestamp = :Date), Dates.month, last)\n",
    "\n",
    "freq = 12\n",
    "returns = percentchange(data_source[:Total_Stock, :Price_10Y], :log)\n",
    "cpi = percentchange(data_source[:CPI], :log)\n",
    "real_returns = returns .- cpi\n",
    "start = Date(1955, 01,01)\n",
    "end_d = Date(2024, 12, 31)\n",
    "\n",
    "\n",
    "display(\"Returns\")\n",
    "display(returns_summarystats(to(from(returns, start),end_d), freq))\n",
    "display(\"Real_returns\")\n",
    "display(returns_summarystats(to(from(real_returns, start),end_d), freq))\n",
    "\n",
    "\n",
    "display(\"Correlations\")\n",
    "display(cor(values(to(from(real_returns, start),end_d)))) "
   ]
  },
  {
   "cell_type": "code",
   "execution_count": 61,
   "id": "c7adede0",
   "metadata": {},
   "outputs": [
    {
     "data": {
      "text/html": [
       "<table>\n",
       "  <caption style = \"text-align: left;\">Means</caption>\n",
       "  <thead>\n",
       "    <tr class = \"header headerLastRow\">\n",
       "      <th class = \"rowLabel\" style = \"font-weight: bold; text-align: right;\"></th>\n",
       "      <th style = \"text-align: right;\">Total_Stock_CPI</th>\n",
       "      <th style = \"text-align: right;\">Price_10Y_CPI</th>\n",
       "    </tr>\n",
       "  </thead>\n",
       "  <tbody>\n",
       "    <tr>\n",
       "      <td class = \"rowLabel\" style = \"font-weight: bold; text-align: right;\">1</td>\n",
       "      <td style = \"text-align: right;\">0.0654</td>\n",
       "      <td style = \"text-align: right;\">0.0174</td>\n",
       "    </tr>\n",
       "    <tr>\n",
       "      <td class = \"rowLabel\" style = \"font-weight: bold; text-align: right;\">5</td>\n",
       "      <td style = \"text-align: right;\">0.066</td>\n",
       "      <td style = \"text-align: right;\">0.0175</td>\n",
       "    </tr>\n",
       "    <tr>\n",
       "      <td class = \"rowLabel\" style = \"font-weight: bold; text-align: right;\">10</td>\n",
       "      <td style = \"text-align: right;\">0.0657</td>\n",
       "      <td style = \"text-align: right;\">0.0174</td>\n",
       "    </tr>\n",
       "    <tr>\n",
       "      <td class = \"rowLabel\" style = \"font-weight: bold; text-align: right;\">25</td>\n",
       "      <td style = \"text-align: right;\">0.0659</td>\n",
       "      <td style = \"text-align: right;\">0.0175</td>\n",
       "    </tr>\n",
       "  </tbody>\n",
       "</table>\n"
      ]
     },
     "metadata": {},
     "output_type": "display_data"
    },
    {
     "data": {
      "text/html": [
       "<table>\n",
       "  <caption style = \"text-align: left;\">Standard devations</caption>\n",
       "  <thead>\n",
       "    <tr class = \"header headerLastRow\">\n",
       "      <th class = \"rowLabel\" style = \"font-weight: bold; text-align: right;\"></th>\n",
       "      <th style = \"text-align: right;\">Total_Stock_CPI</th>\n",
       "      <th style = \"text-align: right;\">Price_10Y_CPI</th>\n",
       "    </tr>\n",
       "  </thead>\n",
       "  <tbody>\n",
       "    <tr>\n",
       "      <td class = \"rowLabel\" style = \"font-weight: bold; text-align: right;\">1</td>\n",
       "      <td style = \"text-align: right;\">0.1482</td>\n",
       "      <td style = \"text-align: right;\">0.0783</td>\n",
       "    </tr>\n",
       "    <tr>\n",
       "      <td class = \"rowLabel\" style = \"font-weight: bold; text-align: right;\">5</td>\n",
       "      <td style = \"text-align: right;\">0.0667</td>\n",
       "      <td style = \"text-align: right;\">0.0348</td>\n",
       "    </tr>\n",
       "    <tr>\n",
       "      <td class = \"rowLabel\" style = \"font-weight: bold; text-align: right;\">10</td>\n",
       "      <td style = \"text-align: right;\">0.0466</td>\n",
       "      <td style = \"text-align: right;\">0.0245</td>\n",
       "    </tr>\n",
       "    <tr>\n",
       "      <td class = \"rowLabel\" style = \"font-weight: bold; text-align: right;\">25</td>\n",
       "      <td style = \"text-align: right;\">0.0298</td>\n",
       "      <td style = \"text-align: right;\">0.0156</td>\n",
       "    </tr>\n",
       "  </tbody>\n",
       "</table>\n"
      ]
     },
     "metadata": {},
     "output_type": "display_data"
    },
    {
     "data": {
      "text/html": [
       "<table>\n",
       "  <caption style = \"text-align: left;\">Skewness</caption>\n",
       "  <thead>\n",
       "    <tr class = \"header headerLastRow\">\n",
       "      <th class = \"rowLabel\" style = \"font-weight: bold; text-align: right;\"></th>\n",
       "      <th style = \"text-align: right;\">Total_Stock_CPI</th>\n",
       "      <th style = \"text-align: right;\">Price_10Y_CPI</th>\n",
       "    </tr>\n",
       "  </thead>\n",
       "  <tbody>\n",
       "    <tr>\n",
       "      <td class = \"rowLabel\" style = \"font-weight: bold; text-align: right;\">1</td>\n",
       "      <td style = \"text-align: right;\">0.0127</td>\n",
       "      <td style = \"text-align: right;\">-0.0071</td>\n",
       "    </tr>\n",
       "    <tr>\n",
       "      <td class = \"rowLabel\" style = \"font-weight: bold; text-align: right;\">5</td>\n",
       "      <td style = \"text-align: right;\">-0.0395</td>\n",
       "      <td style = \"text-align: right;\">0.0222</td>\n",
       "    </tr>\n",
       "    <tr>\n",
       "      <td class = \"rowLabel\" style = \"font-weight: bold; text-align: right;\">10</td>\n",
       "      <td style = \"text-align: right;\">-0.0211</td>\n",
       "      <td style = \"text-align: right;\">0.0272</td>\n",
       "    </tr>\n",
       "    <tr>\n",
       "      <td class = \"rowLabel\" style = \"font-weight: bold; text-align: right;\">25</td>\n",
       "      <td style = \"text-align: right;\">-0.0432</td>\n",
       "      <td style = \"text-align: right;\">-0.0045</td>\n",
       "    </tr>\n",
       "  </tbody>\n",
       "</table>\n"
      ]
     },
     "metadata": {},
     "output_type": "display_data"
    },
    {
     "data": {
      "text/html": [
       "<table>\n",
       "  <caption style = \"text-align: left;\">Kurtosis</caption>\n",
       "  <thead>\n",
       "    <tr class = \"header headerLastRow\">\n",
       "      <th class = \"rowLabel\" style = \"font-weight: bold; text-align: right;\"></th>\n",
       "      <th style = \"text-align: right;\">Total_Stock_CPI</th>\n",
       "      <th style = \"text-align: right;\">Price_10Y_CPI</th>\n",
       "    </tr>\n",
       "  </thead>\n",
       "  <tbody>\n",
       "    <tr>\n",
       "      <td class = \"rowLabel\" style = \"font-weight: bold; text-align: right;\">1</td>\n",
       "      <td style = \"text-align: right;\">0.0431</td>\n",
       "      <td style = \"text-align: right;\">-0.044</td>\n",
       "    </tr>\n",
       "    <tr>\n",
       "      <td class = \"rowLabel\" style = \"font-weight: bold; text-align: right;\">5</td>\n",
       "      <td style = \"text-align: right;\">0.008</td>\n",
       "      <td style = \"text-align: right;\">0.0098</td>\n",
       "    </tr>\n",
       "    <tr>\n",
       "      <td class = \"rowLabel\" style = \"font-weight: bold; text-align: right;\">10</td>\n",
       "      <td style = \"text-align: right;\">-0.0441</td>\n",
       "      <td style = \"text-align: right;\">0.0541</td>\n",
       "    </tr>\n",
       "    <tr>\n",
       "      <td class = \"rowLabel\" style = \"font-weight: bold; text-align: right;\">25</td>\n",
       "      <td style = \"text-align: right;\">0.0259</td>\n",
       "      <td style = \"text-align: right;\">0.0289</td>\n",
       "    </tr>\n",
       "  </tbody>\n",
       "</table>\n"
      ]
     },
     "metadata": {},
     "output_type": "display_data"
    },
    {
     "data": {
      "text/html": [
       "<table>\n",
       "  <caption style = \"text-align: left;\">Total_Stock_CPI</caption>\n",
       "  <thead>\n",
       "    <tr class = \"header headerLastRow\">\n",
       "      <th class = \"rowLabel\" style = \"font-weight: bold; text-align: right;\"></th>\n",
       "      <th style = \"text-align: right;\">0.01</th>\n",
       "      <th style = \"text-align: right;\">0.025</th>\n",
       "      <th style = \"text-align: right;\">0.05</th>\n",
       "      <th style = \"text-align: right;\">0.25</th>\n",
       "      <th style = \"text-align: right;\">0.5</th>\n",
       "      <th style = \"text-align: right;\">0.75</th>\n",
       "      <th style = \"text-align: right;\">0.95</th>\n",
       "      <th style = \"text-align: right;\">0.975</th>\n",
       "      <th style = \"text-align: right;\">0.99</th>\n",
       "    </tr>\n",
       "  </thead>\n",
       "  <tbody>\n",
       "    <tr>\n",
       "      <td class = \"rowLabel\" style = \"font-weight: bold; text-align: right;\">1</td>\n",
       "      <td style = \"text-align: right;\">-0.2764</td>\n",
       "      <td style = \"text-align: right;\">-0.2269</td>\n",
       "      <td style = \"text-align: right;\">-0.1792</td>\n",
       "      <td style = \"text-align: right;\">-0.0342</td>\n",
       "      <td style = \"text-align: right;\">0.066</td>\n",
       "      <td style = \"text-align: right;\">0.1646</td>\n",
       "      <td style = \"text-align: right;\">0.3093</td>\n",
       "      <td style = \"text-align: right;\">0.3543</td>\n",
       "      <td style = \"text-align: right;\">0.4186</td>\n",
       "    </tr>\n",
       "    <tr>\n",
       "      <td class = \"rowLabel\" style = \"font-weight: bold; text-align: right;\">5</td>\n",
       "      <td style = \"text-align: right;\">-0.0894</td>\n",
       "      <td style = \"text-align: right;\">-0.0665</td>\n",
       "      <td style = \"text-align: right;\">-0.0447</td>\n",
       "      <td style = \"text-align: right;\">0.0223</td>\n",
       "      <td style = \"text-align: right;\">0.066</td>\n",
       "      <td style = \"text-align: right;\">0.1111</td>\n",
       "      <td style = \"text-align: right;\">0.1753</td>\n",
       "      <td style = \"text-align: right;\">0.1955</td>\n",
       "      <td style = \"text-align: right;\">0.219</td>\n",
       "    </tr>\n",
       "    <tr>\n",
       "      <td class = \"rowLabel\" style = \"font-weight: bold; text-align: right;\">10</td>\n",
       "      <td style = \"text-align: right;\">-0.0435</td>\n",
       "      <td style = \"text-align: right;\">-0.0251</td>\n",
       "      <td style = \"text-align: right;\">-0.0113</td>\n",
       "      <td style = \"text-align: right;\">0.034</td>\n",
       "      <td style = \"text-align: right;\">0.0658</td>\n",
       "      <td style = \"text-align: right;\">0.097</td>\n",
       "      <td style = \"text-align: right;\">0.143</td>\n",
       "      <td style = \"text-align: right;\">0.1562</td>\n",
       "      <td style = \"text-align: right;\">0.1709</td>\n",
       "    </tr>\n",
       "    <tr>\n",
       "      <td class = \"rowLabel\" style = \"font-weight: bold; text-align: right;\">25</td>\n",
       "      <td style = \"text-align: right;\">-0.0054</td>\n",
       "      <td style = \"text-align: right;\">0.0063</td>\n",
       "      <td style = \"text-align: right;\">0.0165</td>\n",
       "      <td style = \"text-align: right;\">0.0465</td>\n",
       "      <td style = \"text-align: right;\">0.0661</td>\n",
       "      <td style = \"text-align: right;\">0.0861</td>\n",
       "      <td style = \"text-align: right;\">0.114</td>\n",
       "      <td style = \"text-align: right;\">0.1242</td>\n",
       "      <td style = \"text-align: right;\">0.1346</td>\n",
       "    </tr>\n",
       "  </tbody>\n",
       "</table>\n"
      ]
     },
     "metadata": {},
     "output_type": "display_data"
    },
    {
     "data": {
      "text/html": [
       "<table>\n",
       "  <caption style = \"text-align: left;\">Price_10Y_CPI</caption>\n",
       "  <thead>\n",
       "    <tr class = \"header headerLastRow\">\n",
       "      <th class = \"rowLabel\" style = \"font-weight: bold; text-align: right;\"></th>\n",
       "      <th style = \"text-align: right;\">0.01</th>\n",
       "      <th style = \"text-align: right;\">0.025</th>\n",
       "      <th style = \"text-align: right;\">0.05</th>\n",
       "      <th style = \"text-align: right;\">0.25</th>\n",
       "      <th style = \"text-align: right;\">0.5</th>\n",
       "      <th style = \"text-align: right;\">0.75</th>\n",
       "      <th style = \"text-align: right;\">0.95</th>\n",
       "      <th style = \"text-align: right;\">0.975</th>\n",
       "      <th style = \"text-align: right;\">0.99</th>\n",
       "    </tr>\n",
       "  </thead>\n",
       "  <tbody>\n",
       "    <tr>\n",
       "      <td class = \"rowLabel\" style = \"font-weight: bold; text-align: right;\">1</td>\n",
       "      <td style = \"text-align: right;\">-0.1622</td>\n",
       "      <td style = \"text-align: right;\">-0.1365</td>\n",
       "      <td style = \"text-align: right;\">-0.1111</td>\n",
       "      <td style = \"text-align: right;\">-0.0366</td>\n",
       "      <td style = \"text-align: right;\">0.0179</td>\n",
       "      <td style = \"text-align: right;\">0.0705</td>\n",
       "      <td style = \"text-align: right;\">0.1476</td>\n",
       "      <td style = \"text-align: right;\">0.1707</td>\n",
       "      <td style = \"text-align: right;\">0.1974</td>\n",
       "    </tr>\n",
       "    <tr>\n",
       "      <td class = \"rowLabel\" style = \"font-weight: bold; text-align: right;\">5</td>\n",
       "      <td style = \"text-align: right;\">-0.0634</td>\n",
       "      <td style = \"text-align: right;\">-0.0504</td>\n",
       "      <td style = \"text-align: right;\">-0.0395</td>\n",
       "      <td style = \"text-align: right;\">-0.0058</td>\n",
       "      <td style = \"text-align: right;\">0.0175</td>\n",
       "      <td style = \"text-align: right;\">0.0408</td>\n",
       "      <td style = \"text-align: right;\">0.075</td>\n",
       "      <td style = \"text-align: right;\">0.0869</td>\n",
       "      <td style = \"text-align: right;\">0.099</td>\n",
       "    </tr>\n",
       "    <tr>\n",
       "      <td class = \"rowLabel\" style = \"font-weight: bold; text-align: right;\">10</td>\n",
       "      <td style = \"text-align: right;\">-0.0394</td>\n",
       "      <td style = \"text-align: right;\">-0.0297</td>\n",
       "      <td style = \"text-align: right;\">-0.0229</td>\n",
       "      <td style = \"text-align: right;\">0.0006</td>\n",
       "      <td style = \"text-align: right;\">0.0174</td>\n",
       "      <td style = \"text-align: right;\">0.0336</td>\n",
       "      <td style = \"text-align: right;\">0.0579</td>\n",
       "      <td style = \"text-align: right;\">0.0662</td>\n",
       "      <td style = \"text-align: right;\">0.0742</td>\n",
       "    </tr>\n",
       "    <tr>\n",
       "      <td class = \"rowLabel\" style = \"font-weight: bold; text-align: right;\">25</td>\n",
       "      <td style = \"text-align: right;\">-0.0187</td>\n",
       "      <td style = \"text-align: right;\">-0.0131</td>\n",
       "      <td style = \"text-align: right;\">-0.008</td>\n",
       "      <td style = \"text-align: right;\">0.0071</td>\n",
       "      <td style = \"text-align: right;\">0.0174</td>\n",
       "      <td style = \"text-align: right;\">0.0281</td>\n",
       "      <td style = \"text-align: right;\">0.0434</td>\n",
       "      <td style = \"text-align: right;\">0.0486</td>\n",
       "      <td style = \"text-align: right;\">0.0535</td>\n",
       "    </tr>\n",
       "  </tbody>\n",
       "</table>\n"
      ]
     },
     "metadata": {},
     "output_type": "display_data"
    }
   ],
   "source": [
    "assets_names = [:Total_Stock_CPI, :Price_10Y_CPI]\n",
    "data = to(from(real_returns[assets_names], start),end_d) \n",
    "\n",
    "assets_names = [:Total_Stock_CPI, :Price_10Y_CPI]\n",
    "data = to(from(real_returns[assets_names], start),end_d) \n",
    "\n",
    "ret_mean = mean(values(data), dims=1)[1,:]\n",
    "ret_cov = cov(values(data), dims=1)\n",
    "\n",
    "T = 25 * freq\n",
    "n_samples = 10_000\n",
    "n_assets = length(assets_names)\n",
    "\n",
    "scenarios = zeros(n_assets, T, n_samples)\n",
    "\n",
    "for t in 1:T \n",
    "    scenarios[:,t, :] = rand(MvNormal(ret_mean, ret_cov), n_samples)\n",
    "end\n",
    "\n",
    "periods = [1,5, 10, 25]\n",
    "ret_in_years = cum_returns_in_periods(scenarios, periods, freq, true)\n",
    "print_scenarios_summary(ret_in_years, assets_names, string.(periods))\n",
    "n_assets = length(assets_names)\n",
    "for a in 1:n_assets\n",
    "    print_scenarios_percentiles(ret_in_years[a, :, :], [.01, .025, .05, .25, .5, .75, .95, .975, .99], string.(periods), string.(assets_names[a]))\n",
    "end  \n"
   ]
  },
  {
   "cell_type": "code",
   "execution_count": 62,
   "id": "cf8ff044",
   "metadata": {},
   "outputs": [
    {
     "data": {
      "text/plain": [
       ":Total_Stock_CPI"
      ]
     },
     "metadata": {},
     "output_type": "display_data"
    },
    {
     "data": {
      "text/plain": [
       "\"mdd\""
      ]
     },
     "metadata": {},
     "output_type": "display_data"
    },
    {
     "data": {
      "text/plain": [
       "1×5 adjoint(::Vector{Float64}) with eltype Float64:\n",
       " 0.214692  0.291869  0.347904  0.420833  0.58433"
      ]
     },
     "metadata": {},
     "output_type": "display_data"
    },
    {
     "data": {
      "text/plain": [
       "\"mddl\""
      ]
     },
     "metadata": {},
     "output_type": "display_data"
    },
    {
     "data": {
      "text/plain": [
       "1×5 adjoint(::Vector{Float64}) with eltype Float64:\n",
       " 29.0  51.0  72.0  104.0  206.03"
      ]
     },
     "metadata": {},
     "output_type": "display_data"
    },
    {
     "data": {
      "text/plain": [
       ":Price_10Y_CPI"
      ]
     },
     "metadata": {},
     "output_type": "display_data"
    },
    {
     "data": {
      "text/plain": [
       "\"mdd\""
      ]
     },
     "metadata": {},
     "output_type": "display_data"
    },
    {
     "data": {
      "text/plain": [
       "1×5 adjoint(::Vector{Float64}) with eltype Float64:\n",
       " 0.14349  0.205382  0.255803  0.319092  0.46791"
      ]
     },
     "metadata": {},
     "output_type": "display_data"
    },
    {
     "data": {
      "text/plain": [
       "\"mddl\""
      ]
     },
     "metadata": {},
     "output_type": "display_data"
    },
    {
     "data": {
      "text/plain": [
       "1×5 adjoint(::Vector{Float64}) with eltype Float64:\n",
       " 41.0  76.0  113.0  168.0  285.0"
      ]
     },
     "metadata": {},
     "output_type": "display_data"
    }
   ],
   "source": [
    "mdd, mddl = max_drawdown_and_length(scenarios[1,:,:])\n",
    "\n",
    "display(assets_names[1])\n",
    "display(\"mdd\")\n",
    "display(quantile(mdd, [.03, .25, .5, .75, .97])')\n",
    "display(\"mddl\")\n",
    "display(quantile(mddl, [.03, .25, .5, .75, .97])')\n",
    "\n",
    "mdd, mddl = max_drawdown_and_length(scenarios[2,:,:])\n",
    "\n",
    "display(assets_names[2])\n",
    "display(\"mdd\")\n",
    "display(quantile(mdd, [.03, .25, .5, .75, .97])')\n",
    "display(\"mddl\")\n",
    "display(quantile(mddl, [.03, .25, .5, .75, .97])')"
   ]
  },
  {
   "cell_type": "markdown",
   "id": "6a7692c2",
   "metadata": {},
   "source": [
    "### MVNormal based on calibration"
   ]
  },
  {
   "cell_type": "code",
   "execution_count": 95,
   "id": "48a06c7d",
   "metadata": {},
   "outputs": [
    {
     "data": {
      "text/plain": [
       "\"Returns\""
      ]
     },
     "metadata": {},
     "output_type": "display_data"
    },
    {
     "data": {
      "text/html": [
       "<table>\n",
       "  <thead>\n",
       "    <tr class = \"header headerLastRow\">\n",
       "      <th class = \"rowLabel\" style = \"font-weight: bold; text-align: right;\"></th>\n",
       "      <th style = \"text-align: right;\">std</th>\n",
       "      <th style = \"text-align: right;\">max</th>\n",
       "      <th style = \"text-align: right;\">mean</th>\n",
       "      <th style = \"text-align: right;\">p75th</th>\n",
       "      <th style = \"text-align: right;\">min</th>\n",
       "      <th style = \"text-align: right;\">skewness</th>\n",
       "      <th style = \"text-align: right;\">p25th</th>\n",
       "      <th style = \"text-align: right;\">autocor</th>\n",
       "      <th style = \"text-align: right;\">kurtosis</th>\n",
       "      <th style = \"text-align: right;\">sr</th>\n",
       "      <th style = \"text-align: right;\">median</th>\n",
       "    </tr>\n",
       "  </thead>\n",
       "  <tbody>\n",
       "    <tr>\n",
       "      <td class = \"rowLabel\" style = \"font-weight: bold; text-align: right;\">Total_Stock</td>\n",
       "      <td style = \"text-align: right;\">0.1615</td>\n",
       "      <td style = \"text-align: right;\">0.3592</td>\n",
       "      <td style = \"text-align: right;\">0.1006</td>\n",
       "      <td style = \"text-align: right;\">0.2136</td>\n",
       "      <td style = \"text-align: right;\">-0.4607</td>\n",
       "      <td style = \"text-align: right;\">-1.0167</td>\n",
       "      <td style = \"text-align: right;\">0.0148</td>\n",
       "      <td style = \"text-align: right;\">-0.1104</td>\n",
       "      <td style = \"text-align: right;\">1.0561</td>\n",
       "      <td style = \"text-align: right;\">0.6231</td>\n",
       "      <td style = \"text-align: right;\">0.1368</td>\n",
       "    </tr>\n",
       "    <tr>\n",
       "      <td class = \"rowLabel\" style = \"font-weight: bold; text-align: right;\">Price_10Y</td>\n",
       "      <td style = \"text-align: right;\">0.0882</td>\n",
       "      <td style = \"text-align: right;\">0.3325</td>\n",
       "      <td style = \"text-align: right;\">0.0528</td>\n",
       "      <td style = \"text-align: right;\">0.1037</td>\n",
       "      <td style = \"text-align: right;\">-0.1786</td>\n",
       "      <td style = \"text-align: right;\">0.4519</td>\n",
       "      <td style = \"text-align: right;\">0.002</td>\n",
       "      <td style = \"text-align: right;\">-0.059</td>\n",
       "      <td style = \"text-align: right;\">0.8213</td>\n",
       "      <td style = \"text-align: right;\">0.5988</td>\n",
       "      <td style = \"text-align: right;\">0.0369</td>\n",
       "    </tr>\n",
       "  </tbody>\n",
       "</table>\n"
      ]
     },
     "metadata": {},
     "output_type": "display_data"
    },
    {
     "data": {
      "text/plain": [
       "nothing"
      ]
     },
     "metadata": {},
     "output_type": "display_data"
    },
    {
     "data": {
      "text/plain": [
       "\"Real_returns\""
      ]
     },
     "metadata": {},
     "output_type": "display_data"
    },
    {
     "data": {
      "text/html": [
       "<table>\n",
       "  <thead>\n",
       "    <tr class = \"header headerLastRow\">\n",
       "      <th class = \"rowLabel\" style = \"font-weight: bold; text-align: right;\"></th>\n",
       "      <th style = \"text-align: right;\">std</th>\n",
       "      <th style = \"text-align: right;\">max</th>\n",
       "      <th style = \"text-align: right;\">mean</th>\n",
       "      <th style = \"text-align: right;\">p75th</th>\n",
       "      <th style = \"text-align: right;\">min</th>\n",
       "      <th style = \"text-align: right;\">skewness</th>\n",
       "      <th style = \"text-align: right;\">p25th</th>\n",
       "      <th style = \"text-align: right;\">autocor</th>\n",
       "      <th style = \"text-align: right;\">kurtosis</th>\n",
       "      <th style = \"text-align: right;\">sr</th>\n",
       "      <th style = \"text-align: right;\">median</th>\n",
       "    </tr>\n",
       "  </thead>\n",
       "  <tbody>\n",
       "    <tr>\n",
       "      <td class = \"rowLabel\" style = \"font-weight: bold; text-align: right;\">Total_Stock_CPI</td>\n",
       "      <td style = \"text-align: right;\">0.1677</td>\n",
       "      <td style = \"text-align: right;\">0.3453</td>\n",
       "      <td style = \"text-align: right;\">0.0654</td>\n",
       "      <td style = \"text-align: right;\">0.1778</td>\n",
       "      <td style = \"text-align: right;\">-0.461</td>\n",
       "      <td style = \"text-align: right;\">-0.99</td>\n",
       "      <td style = \"text-align: right;\">-0.0123</td>\n",
       "      <td style = \"text-align: right;\">-0.0726</td>\n",
       "      <td style = \"text-align: right;\">0.7922</td>\n",
       "      <td style = \"text-align: right;\">0.3901</td>\n",
       "      <td style = \"text-align: right;\">0.1039</td>\n",
       "    </tr>\n",
       "    <tr>\n",
       "      <td class = \"rowLabel\" style = \"font-weight: bold; text-align: right;\">Price_10Y_CPI</td>\n",
       "      <td style = \"text-align: right;\">0.0952</td>\n",
       "      <td style = \"text-align: right;\">0.2961</td>\n",
       "      <td style = \"text-align: right;\">0.0176</td>\n",
       "      <td style = \"text-align: right;\">0.0896</td>\n",
       "      <td style = \"text-align: right;\">-0.2408</td>\n",
       "      <td style = \"text-align: right;\">0.2686</td>\n",
       "      <td style = \"text-align: right;\">-0.0338</td>\n",
       "      <td style = \"text-align: right;\">-0.0003</td>\n",
       "      <td style = \"text-align: right;\">0.4008</td>\n",
       "      <td style = \"text-align: right;\">0.1848</td>\n",
       "      <td style = \"text-align: right;\">0.005</td>\n",
       "    </tr>\n",
       "  </tbody>\n",
       "</table>\n"
      ]
     },
     "metadata": {},
     "output_type": "display_data"
    },
    {
     "data": {
      "text/plain": [
       "nothing"
      ]
     },
     "metadata": {},
     "output_type": "display_data"
    },
    {
     "data": {
      "text/plain": [
       "\"Correlations\""
      ]
     },
     "metadata": {},
     "output_type": "display_data"
    },
    {
     "data": {
      "text/plain": [
       "2×2 Matrix{Float64}:\n",
       " 1.0       0.104324\n",
       " 0.104324  1.0"
      ]
     },
     "metadata": {},
     "output_type": "display_data"
    }
   ],
   "source": [
    "df = DataFrame(XLSX.readtable(\"../../data/usa_data.xlsx\", \"Data\", infer_eltypes=true))\n",
    "data_source = collapse(TimeArray(df; timestamp = :Date), Dates.year, last)\n",
    "\n",
    "freq = 1\n",
    "returns = percentchange(data_source[:Total_Stock, :Price_10Y], :log)\n",
    "cpi = percentchange(data_source[:CPI], :log)\n",
    "real_returns = returns .- cpi\n",
    "start = Date(1955, 01,01)\n",
    "end_d = Date(2024, 12, 31)\n",
    "\n",
    "\n",
    "display(\"Returns\")\n",
    "display(returns_summarystats(to(from(returns, start),end_d), freq))\n",
    "display(\"Real_returns\")\n",
    "display(returns_summarystats(to(from(real_returns, start),end_d), freq))\n",
    "\n",
    "\n",
    "display(\"Correlations\")\n",
    "display(cor(values(to(from(real_returns, start),end_d)))) "
   ]
  },
  {
   "cell_type": "code",
   "execution_count": 88,
   "id": "6dffe832",
   "metadata": {},
   "outputs": [
    {
     "data": {
      "text/plain": [
       "0.46258"
      ]
     },
     "metadata": {},
     "output_type": "display_data"
    }
   ],
   "source": [
    "#.095 * .1 + .095\n",
    "\n",
    "0.1043 * .6 + 1. * 0.4"
   ]
  },
  {
   "cell_type": "code",
   "execution_count": 114,
   "id": "78a1d1e8",
   "metadata": {},
   "outputs": [
    {
     "data": {
      "text/html": [
       "<table>\n",
       "  <caption style = \"text-align: left;\">Means</caption>\n",
       "  <thead>\n",
       "    <tr class = \"header headerLastRow\">\n",
       "      <th class = \"rowLabel\" style = \"font-weight: bold; text-align: right;\"></th>\n",
       "      <th style = \"text-align: right;\">Total_Stock_CPI</th>\n",
       "      <th style = \"text-align: right;\">Price_10Y_CPI</th>\n",
       "    </tr>\n",
       "  </thead>\n",
       "  <tbody>\n",
       "    <tr>\n",
       "      <td class = \"rowLabel\" style = \"font-weight: bold; text-align: right;\">1</td>\n",
       "      <td style = \"text-align: right;\">0.0533</td>\n",
       "      <td style = \"text-align: right;\">0.0095</td>\n",
       "    </tr>\n",
       "    <tr>\n",
       "      <td class = \"rowLabel\" style = \"font-weight: bold; text-align: right;\">5</td>\n",
       "      <td style = \"text-align: right;\">0.0547</td>\n",
       "      <td style = \"text-align: right;\">0.0103</td>\n",
       "    </tr>\n",
       "    <tr>\n",
       "      <td class = \"rowLabel\" style = \"font-weight: bold; text-align: right;\">10</td>\n",
       "      <td style = \"text-align: right;\">0.0548</td>\n",
       "      <td style = \"text-align: right;\">0.0102</td>\n",
       "    </tr>\n",
       "    <tr>\n",
       "      <td class = \"rowLabel\" style = \"font-weight: bold; text-align: right;\">25</td>\n",
       "      <td style = \"text-align: right;\">0.0548</td>\n",
       "      <td style = \"text-align: right;\">0.0102</td>\n",
       "    </tr>\n",
       "  </tbody>\n",
       "</table>\n"
      ]
     },
     "metadata": {},
     "output_type": "display_data"
    },
    {
     "data": {
      "text/html": [
       "<table>\n",
       "  <caption style = \"text-align: left;\">Standard devations</caption>\n",
       "  <thead>\n",
       "    <tr class = \"header headerLastRow\">\n",
       "      <th class = \"rowLabel\" style = \"font-weight: bold; text-align: right;\"></th>\n",
       "      <th style = \"text-align: right;\">Total_Stock_CPI</th>\n",
       "      <th style = \"text-align: right;\">Price_10Y_CPI</th>\n",
       "    </tr>\n",
       "  </thead>\n",
       "  <tbody>\n",
       "    <tr>\n",
       "      <td class = \"rowLabel\" style = \"font-weight: bold; text-align: right;\">1</td>\n",
       "      <td style = \"text-align: right;\">0.1728</td>\n",
       "      <td style = \"text-align: right;\">0.0996</td>\n",
       "    </tr>\n",
       "    <tr>\n",
       "      <td class = \"rowLabel\" style = \"font-weight: bold; text-align: right;\">5</td>\n",
       "      <td style = \"text-align: right;\">0.0781</td>\n",
       "      <td style = \"text-align: right;\">0.0452</td>\n",
       "    </tr>\n",
       "    <tr>\n",
       "      <td class = \"rowLabel\" style = \"font-weight: bold; text-align: right;\">10</td>\n",
       "      <td style = \"text-align: right;\">0.0554</td>\n",
       "      <td style = \"text-align: right;\">0.0319</td>\n",
       "    </tr>\n",
       "    <tr>\n",
       "      <td class = \"rowLabel\" style = \"font-weight: bold; text-align: right;\">25</td>\n",
       "      <td style = \"text-align: right;\">0.035</td>\n",
       "      <td style = \"text-align: right;\">0.02</td>\n",
       "    </tr>\n",
       "  </tbody>\n",
       "</table>\n"
      ]
     },
     "metadata": {},
     "output_type": "display_data"
    },
    {
     "data": {
      "text/html": [
       "<table>\n",
       "  <caption style = \"text-align: left;\">Skewness</caption>\n",
       "  <thead>\n",
       "    <tr class = \"header headerLastRow\">\n",
       "      <th class = \"rowLabel\" style = \"font-weight: bold; text-align: right;\"></th>\n",
       "      <th style = \"text-align: right;\">Total_Stock_CPI</th>\n",
       "      <th style = \"text-align: right;\">Price_10Y_CPI</th>\n",
       "    </tr>\n",
       "  </thead>\n",
       "  <tbody>\n",
       "    <tr>\n",
       "      <td class = \"rowLabel\" style = \"font-weight: bold; text-align: right;\">1</td>\n",
       "      <td style = \"text-align: right;\">-0.023</td>\n",
       "      <td style = \"text-align: right;\">0.0025</td>\n",
       "    </tr>\n",
       "    <tr>\n",
       "      <td class = \"rowLabel\" style = \"font-weight: bold; text-align: right;\">5</td>\n",
       "      <td style = \"text-align: right;\">0.0441</td>\n",
       "      <td style = \"text-align: right;\">0.012</td>\n",
       "    </tr>\n",
       "    <tr>\n",
       "      <td class = \"rowLabel\" style = \"font-weight: bold; text-align: right;\">10</td>\n",
       "      <td style = \"text-align: right;\">0.0171</td>\n",
       "      <td style = \"text-align: right;\">0.0102</td>\n",
       "    </tr>\n",
       "    <tr>\n",
       "      <td class = \"rowLabel\" style = \"font-weight: bold; text-align: right;\">25</td>\n",
       "      <td style = \"text-align: right;\">0.0018</td>\n",
       "      <td style = \"text-align: right;\">-0.0066</td>\n",
       "    </tr>\n",
       "  </tbody>\n",
       "</table>\n"
      ]
     },
     "metadata": {},
     "output_type": "display_data"
    },
    {
     "data": {
      "text/html": [
       "<table>\n",
       "  <caption style = \"text-align: left;\">Kurtosis</caption>\n",
       "  <thead>\n",
       "    <tr class = \"header headerLastRow\">\n",
       "      <th class = \"rowLabel\" style = \"font-weight: bold; text-align: right;\"></th>\n",
       "      <th style = \"text-align: right;\">Total_Stock_CPI</th>\n",
       "      <th style = \"text-align: right;\">Price_10Y_CPI</th>\n",
       "    </tr>\n",
       "  </thead>\n",
       "  <tbody>\n",
       "    <tr>\n",
       "      <td class = \"rowLabel\" style = \"font-weight: bold; text-align: right;\">1</td>\n",
       "      <td style = \"text-align: right;\">-0.0139</td>\n",
       "      <td style = \"text-align: right;\">0.0068</td>\n",
       "    </tr>\n",
       "    <tr>\n",
       "      <td class = \"rowLabel\" style = \"font-weight: bold; text-align: right;\">5</td>\n",
       "      <td style = \"text-align: right;\">-0.0846</td>\n",
       "      <td style = \"text-align: right;\">-0.0239</td>\n",
       "    </tr>\n",
       "    <tr>\n",
       "      <td class = \"rowLabel\" style = \"font-weight: bold; text-align: right;\">10</td>\n",
       "      <td style = \"text-align: right;\">-0.0638</td>\n",
       "      <td style = \"text-align: right;\">-0.0531</td>\n",
       "    </tr>\n",
       "    <tr>\n",
       "      <td class = \"rowLabel\" style = \"font-weight: bold; text-align: right;\">25</td>\n",
       "      <td style = \"text-align: right;\">-0.0354</td>\n",
       "      <td style = \"text-align: right;\">-0.0907</td>\n",
       "    </tr>\n",
       "  </tbody>\n",
       "</table>\n"
      ]
     },
     "metadata": {},
     "output_type": "display_data"
    },
    {
     "data": {
      "text/html": [
       "<table>\n",
       "  <caption style = \"text-align: left;\">Total_Stock_CPI</caption>\n",
       "  <thead>\n",
       "    <tr class = \"header headerLastRow\">\n",
       "      <th class = \"rowLabel\" style = \"font-weight: bold; text-align: right;\"></th>\n",
       "      <th style = \"text-align: right;\">0.01</th>\n",
       "      <th style = \"text-align: right;\">0.025</th>\n",
       "      <th style = \"text-align: right;\">0.05</th>\n",
       "      <th style = \"text-align: right;\">0.25</th>\n",
       "      <th style = \"text-align: right;\">0.5</th>\n",
       "      <th style = \"text-align: right;\">0.75</th>\n",
       "      <th style = \"text-align: right;\">0.95</th>\n",
       "      <th style = \"text-align: right;\">0.975</th>\n",
       "      <th style = \"text-align: right;\">0.99</th>\n",
       "    </tr>\n",
       "  </thead>\n",
       "  <tbody>\n",
       "    <tr>\n",
       "      <td class = \"rowLabel\" style = \"font-weight: bold; text-align: right;\">1</td>\n",
       "      <td style = \"text-align: right;\">-0.3506</td>\n",
       "      <td style = \"text-align: right;\">-0.2887</td>\n",
       "      <td style = \"text-align: right;\">-0.232</td>\n",
       "      <td style = \"text-align: right;\">-0.0625</td>\n",
       "      <td style = \"text-align: right;\">0.0542</td>\n",
       "      <td style = \"text-align: right;\">0.1711</td>\n",
       "      <td style = \"text-align: right;\">0.3372</td>\n",
       "      <td style = \"text-align: right;\">0.3912</td>\n",
       "      <td style = \"text-align: right;\">0.457</td>\n",
       "    </tr>\n",
       "    <tr>\n",
       "      <td class = \"rowLabel\" style = \"font-weight: bold; text-align: right;\">5</td>\n",
       "      <td style = \"text-align: right;\">-0.123</td>\n",
       "      <td style = \"text-align: right;\">-0.097</td>\n",
       "      <td style = \"text-align: right;\">-0.0741</td>\n",
       "      <td style = \"text-align: right;\">0.0019</td>\n",
       "      <td style = \"text-align: right;\">0.0542</td>\n",
       "      <td style = \"text-align: right;\">0.1078</td>\n",
       "      <td style = \"text-align: right;\">0.1826</td>\n",
       "      <td style = \"text-align: right;\">0.2091</td>\n",
       "      <td style = \"text-align: right;\">0.236</td>\n",
       "    </tr>\n",
       "    <tr>\n",
       "      <td class = \"rowLabel\" style = \"font-weight: bold; text-align: right;\">10</td>\n",
       "      <td style = \"text-align: right;\">-0.0726</td>\n",
       "      <td style = \"text-align: right;\">-0.0541</td>\n",
       "      <td style = \"text-align: right;\">-0.0352</td>\n",
       "      <td style = \"text-align: right;\">0.0172</td>\n",
       "      <td style = \"text-align: right;\">0.0543</td>\n",
       "      <td style = \"text-align: right;\">0.0923</td>\n",
       "      <td style = \"text-align: right;\">0.1456</td>\n",
       "      <td style = \"text-align: right;\">0.1629</td>\n",
       "      <td style = \"text-align: right;\">0.1829</td>\n",
       "    </tr>\n",
       "    <tr>\n",
       "      <td class = \"rowLabel\" style = \"font-weight: bold; text-align: right;\">25</td>\n",
       "      <td style = \"text-align: right;\">-0.0263</td>\n",
       "      <td style = \"text-align: right;\">-0.0137</td>\n",
       "      <td style = \"text-align: right;\">-0.0033</td>\n",
       "      <td style = \"text-align: right;\">0.0315</td>\n",
       "      <td style = \"text-align: right;\">0.0549</td>\n",
       "      <td style = \"text-align: right;\">0.0779</td>\n",
       "      <td style = \"text-align: right;\">0.1125</td>\n",
       "      <td style = \"text-align: right;\">0.124</td>\n",
       "      <td style = \"text-align: right;\">0.1356</td>\n",
       "    </tr>\n",
       "  </tbody>\n",
       "</table>\n"
      ]
     },
     "metadata": {},
     "output_type": "display_data"
    },
    {
     "data": {
      "text/html": [
       "<table>\n",
       "  <caption style = \"text-align: left;\">Price_10Y_CPI</caption>\n",
       "  <thead>\n",
       "    <tr class = \"header headerLastRow\">\n",
       "      <th class = \"rowLabel\" style = \"font-weight: bold; text-align: right;\"></th>\n",
       "      <th style = \"text-align: right;\">0.01</th>\n",
       "      <th style = \"text-align: right;\">0.025</th>\n",
       "      <th style = \"text-align: right;\">0.05</th>\n",
       "      <th style = \"text-align: right;\">0.25</th>\n",
       "      <th style = \"text-align: right;\">0.5</th>\n",
       "      <th style = \"text-align: right;\">0.75</th>\n",
       "      <th style = \"text-align: right;\">0.95</th>\n",
       "      <th style = \"text-align: right;\">0.975</th>\n",
       "      <th style = \"text-align: right;\">0.99</th>\n",
       "    </tr>\n",
       "  </thead>\n",
       "  <tbody>\n",
       "    <tr>\n",
       "      <td class = \"rowLabel\" style = \"font-weight: bold; text-align: right;\">1</td>\n",
       "      <td style = \"text-align: right;\">-0.2224</td>\n",
       "      <td style = \"text-align: right;\">-0.1853</td>\n",
       "      <td style = \"text-align: right;\">-0.1554</td>\n",
       "      <td style = \"text-align: right;\">-0.0584</td>\n",
       "      <td style = \"text-align: right;\">0.0097</td>\n",
       "      <td style = \"text-align: right;\">0.076</td>\n",
       "      <td style = \"text-align: right;\">0.1716</td>\n",
       "      <td style = \"text-align: right;\">0.2047</td>\n",
       "      <td style = \"text-align: right;\">0.2398</td>\n",
       "    </tr>\n",
       "    <tr>\n",
       "      <td class = \"rowLabel\" style = \"font-weight: bold; text-align: right;\">5</td>\n",
       "      <td style = \"text-align: right;\">-0.0959</td>\n",
       "      <td style = \"text-align: right;\">-0.0784</td>\n",
       "      <td style = \"text-align: right;\">-0.0634</td>\n",
       "      <td style = \"text-align: right;\">-0.0207</td>\n",
       "      <td style = \"text-align: right;\">0.0102</td>\n",
       "      <td style = \"text-align: right;\">0.0409</td>\n",
       "      <td style = \"text-align: right;\">0.0851</td>\n",
       "      <td style = \"text-align: right;\">0.0981</td>\n",
       "      <td style = \"text-align: right;\">0.1146</td>\n",
       "    </tr>\n",
       "    <tr>\n",
       "      <td class = \"rowLabel\" style = \"font-weight: bold; text-align: right;\">10</td>\n",
       "      <td style = \"text-align: right;\">-0.0639</td>\n",
       "      <td style = \"text-align: right;\">-0.0519</td>\n",
       "      <td style = \"text-align: right;\">-0.0426</td>\n",
       "      <td style = \"text-align: right;\">-0.0115</td>\n",
       "      <td style = \"text-align: right;\">0.0104</td>\n",
       "      <td style = \"text-align: right;\">0.0317</td>\n",
       "      <td style = \"text-align: right;\">0.0631</td>\n",
       "      <td style = \"text-align: right;\">0.0721</td>\n",
       "      <td style = \"text-align: right;\">0.0828</td>\n",
       "    </tr>\n",
       "    <tr>\n",
       "      <td class = \"rowLabel\" style = \"font-weight: bold; text-align: right;\">25</td>\n",
       "      <td style = \"text-align: right;\">-0.0353</td>\n",
       "      <td style = \"text-align: right;\">-0.0284</td>\n",
       "      <td style = \"text-align: right;\">-0.023</td>\n",
       "      <td style = \"text-align: right;\">-0.0036</td>\n",
       "      <td style = \"text-align: right;\">0.0104</td>\n",
       "      <td style = \"text-align: right;\">0.024</td>\n",
       "      <td style = \"text-align: right;\">0.0432</td>\n",
       "      <td style = \"text-align: right;\">0.0491</td>\n",
       "      <td style = \"text-align: right;\">0.0561</td>\n",
       "    </tr>\n",
       "  </tbody>\n",
       "</table>\n"
      ]
     },
     "metadata": {},
     "output_type": "display_data"
    }
   ],
   "source": [
    "means = [.055, .01]\n",
    "stds = [.175, .10]\n",
    "corrm = [1. 0.45; .45 1.]\n",
    "\n",
    "covm = cor2cov(corrm, stds)\n",
    "\n",
    "\n",
    "T = 25 * freq\n",
    "n_samples = 10_000\n",
    "n_assets = length(assets_names)\n",
    "\n",
    "scenarios = zeros(n_assets, T, n_samples)\n",
    "\n",
    "for t in 1:T \n",
    "    scenarios[:,t, :] = rand(MvNormal(means, covm), n_samples)\n",
    "end\n",
    "\n",
    "periods = [1,5, 10, 25]\n",
    "ret_in_years = cum_returns_in_periods(scenarios, periods, freq, true)\n",
    "print_scenarios_summary(ret_in_years, assets_names, string.(periods))\n",
    "n_assets = length(assets_names)\n",
    "for a in 1:n_assets\n",
    "    print_scenarios_percentiles(ret_in_years[a, :, :], [.01, .025, .05, .25, .5, .75, .95, .975, .99], string.(periods), string.(assets_names[a]))\n",
    "end  \n",
    "\n",
    "\n",
    "\n"
   ]
  },
  {
   "cell_type": "code",
   "execution_count": 115,
   "id": "86df92fc",
   "metadata": {},
   "outputs": [
    {
     "data": {
      "text/plain": [
       ":Total_Stock_CPI"
      ]
     },
     "metadata": {},
     "output_type": "display_data"
    },
    {
     "data": {
      "text/plain": [
       "\"mdd\""
      ]
     },
     "metadata": {},
     "output_type": "display_data"
    },
    {
     "data": {
      "text/plain": [
       "1×5 adjoint(::Vector{Float64}) with eltype Float64:\n",
       " 0.155293  0.270405  0.355011  0.46085  0.661846"
      ]
     },
     "metadata": {},
     "output_type": "display_data"
    },
    {
     "data": {
      "text/plain": [
       "\"mddl\""
      ]
     },
     "metadata": {},
     "output_type": "display_data"
    },
    {
     "data": {
      "text/plain": [
       "1×5 adjoint(::Vector{Float64}) with eltype Float64:\n",
       " 3.0  6.0  8.0  12.0  22.0"
      ]
     },
     "metadata": {},
     "output_type": "display_data"
    },
    {
     "data": {
      "text/plain": [
       ":Price_10Y_CPI"
      ]
     },
     "metadata": {},
     "output_type": "display_data"
    },
    {
     "data": {
      "text/plain": [
       "\"mdd\""
      ]
     },
     "metadata": {},
     "output_type": "display_data"
    },
    {
     "data": {
      "text/plain": [
       "1×5 adjoint(::Vector{Float64}) with eltype Float64:\n",
       " 0.129425  0.227327  0.306149  0.406006  0.594733"
      ]
     },
     "metadata": {},
     "output_type": "display_data"
    },
    {
     "data": {
      "text/plain": [
       "\"mddl\""
      ]
     },
     "metadata": {},
     "output_type": "display_data"
    },
    {
     "data": {
      "text/plain": [
       "1×5 adjoint(::Vector{Float64}) with eltype Float64:\n",
       " 4.0  8.0  12.0  19.0  25.0"
      ]
     },
     "metadata": {},
     "output_type": "display_data"
    }
   ],
   "source": [
    "mdd, mddl = max_drawdown_and_length(scenarios[1,:,:])\n",
    "\n",
    "display(assets_names[1])\n",
    "display(\"mdd\")\n",
    "display(quantile(mdd, [.03, .25, .5, .75, .97])')\n",
    "display(\"mddl\")\n",
    "display(quantile(mddl, [.03, .25, .5, .75, .97])')\n",
    "\n",
    "mdd, mddl = max_drawdown_and_length(scenarios[2,:,:])\n",
    "\n",
    "display(assets_names[2])\n",
    "display(\"mdd\")\n",
    "display(quantile(mdd, [.03, .25, .5, .75, .97])')\n",
    "display(\"mddl\")\n",
    "display(quantile(mddl, [.03, .25, .5, .75, .97])')"
   ]
  },
  {
   "cell_type": "code",
   "execution_count": 113,
   "id": "84c756d1",
   "metadata": {},
   "outputs": [
    {
     "data": {
      "text/plain": [
       "1×2 TimeArray{Float64, 2, Date, Matrix{Float64}} 2024-07-01 to 2024-07-01\n",
       "┌────────────┬─────────────────┬───────────────┐\n",
       "│\u001b[1m            \u001b[0m│\u001b[1m Total_Stock_CPI \u001b[0m│\u001b[1m Price_10Y_CPI \u001b[0m│\n",
       "├────────────┼─────────────────┼───────────────┤\n",
       "│ 2024-07-01 │        0.169599 │     0.0933804 │\n",
       "└────────────┴─────────────────┴───────────────┘"
      ]
     },
     "metadata": {},
     "output_type": "display_data"
    },
    {
     "data": {
      "text/plain": [
       "\"bonds standard devations\""
      ]
     },
     "metadata": {},
     "output_type": "display_data"
    },
    {
     "data": {
      "text/plain": [
       "1×5 adjoint(::Vector{Float64}) with eltype Float64:\n",
       " 0.120654  0.159893  0.175245  0.183315  0.19649"
      ]
     },
     "metadata": {},
     "output_type": "display_data"
    },
    {
     "data": {
      "text/plain": [
       "\"equity standard devations\""
      ]
     },
     "metadata": {},
     "output_type": "display_data"
    },
    {
     "data": {
      "text/plain": [
       "1×5 adjoint(::Vector{Float64}) with eltype Float64:\n",
       " 0.0587443  0.0805222  0.0947667  0.11453  0.122471"
      ]
     },
     "metadata": {},
     "output_type": "display_data"
    }
   ],
   "source": [
    "moving_stds = moving(std, real_returns, 20) \n",
    "\n",
    "display(mean(moving_stds))\n",
    "\n",
    "display(\"bonds standard devations\")\n",
    "display(quantile(values(moving_stds)[:,1], [.03, .25, .5, .75, .97])')\n",
    "\n",
    "\n",
    "display(\"equity standard devations\")\n",
    "display(quantile(values(moving_stds)[:,2], [.03, .25, .5, .75, .97])')\n",
    "\n"
   ]
  }
 ],
 "metadata": {
  "kernelspec": {
   "display_name": "Julia 1.11.2",
   "language": "julia",
   "name": "julia-1.11"
  },
  "language_info": {
   "file_extension": ".jl",
   "mimetype": "application/julia",
   "name": "julia",
   "version": "1.11.2"
  }
 },
 "nbformat": 4,
 "nbformat_minor": 5
}
