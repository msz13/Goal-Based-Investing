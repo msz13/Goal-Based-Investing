{
 "cells": [
  {
   "cell_type": "code",
   "execution_count": 47,
   "id": "3b282b24",
   "metadata": {},
   "outputs": [
    {
     "name": "stderr",
     "output_type": "stream",
     "text": [
      "\u001b[32m\u001b[1m  Activating\u001b[22m\u001b[39m project at `c:\\Users\\matsz\\programowanie\\Optymalizacja_portfela\\FinancialPlanner`\n"
     ]
    }
   ],
   "source": [
    "import Pkg\n",
    "Pkg.activate(\"../../../FinancialPlanner\")"
   ]
  },
  {
   "cell_type": "code",
   "execution_count": 48,
   "id": "2d6f087d",
   "metadata": {},
   "outputs": [],
   "source": [
    "using Revise\n",
    "using Turing\n",
    "using LinearAlgebra\n",
    "using Distributions\n",
    "using Random\n",
    "using StatsPlots\n",
    "using PDMats\n",
    "using StatsBase\n",
    "using Base.Iterators\n",
    "using DataFrames, TimeSeries, XLSX\n",
    "using PrettyTables"
   ]
  },
  {
   "cell_type": "code",
   "execution_count": 49,
   "id": "5e95f2c0",
   "metadata": {},
   "outputs": [],
   "source": [
    "include(\"../VARs/utils.jl\")\n",
    "includet(\"../bootstrap_model.jl\")"
   ]
  },
  {
   "cell_type": "code",
   "execution_count": 50,
   "id": "949117f6",
   "metadata": {},
   "outputs": [
    {
     "data": {
      "text/plain": [
       "872×11 TimeArray{Any, 2, Date, Matrix{Any}} 1951-12-01 to 2024-07-01\n",
       "┌────────────┬──────────┬───────────┬─────────────┬──────────┬─────────┬────────\n",
       "│\u001b[1m            \u001b[0m│\u001b[1m Yeld_10Y \u001b[0m│\u001b[1m Price_10Y \u001b[0m│\u001b[1m Stock_Price \u001b[0m│\u001b[1m Dividend \u001b[0m│\u001b[1m E       \u001b[0m│\u001b[1m CAPE \u001b[0m ⋯\n",
       "├────────────┼──────────┼───────────┼─────────────┼──────────┼─────────┼────────\n",
       "│ 1951-12-01 │  0.02513 │   104.098 │       23.77 │  1.41333 │    2.44 │ 12.52 ⋯\n",
       "│ 1952-01-01 │  0.02463 │   104.771 │       24.14 │  1.41667 │ 2.42667 │ 12.36 ⋯\n",
       "│ 1952-02-01 │  0.02617 │   103.585 │       23.26 │     1.42 │ 2.41333 │ 12.36 ⋯\n",
       "│ 1952-03-01 │  0.02505 │   104.824 │       24.37 │     1.43 │     2.4 │ 12.24 ⋯\n",
       "│ 1952-04-01 │  0.02422 │   105.806 │       23.32 │     1.44 │    2.38 │ 12.20 ⋯\n",
       "│ 1952-05-01 │  0.02384 │   106.373 │       23.86 │     1.45 │    2.36 │ 12.44 ⋯\n",
       "│ 1952-06-01 │  0.02415 │   106.295 │       24.96 │     1.45 │    2.34 │ 12.66 ⋯\n",
       "│ 1952-07-01 │  0.02466 │   106.034 │        25.4 │     1.45 │ 2.34667 │ 12.67 ⋯\n",
       "│     ⋮      │    ⋮     │     ⋮     │      ⋮      │    ⋮     │    ⋮    │    ⋮  ⋱\n",
       "│ 2024-01-01 │   0.0399 │   4478.09 │     4845.65 │  70.6511 │ 192.083 │ 33.03 ⋯\n",
       "│ 2024-02-01 │   0.0425 │   4399.56 │     5096.27 │  70.8248 │ 191.737 │ 33.75 ⋯\n",
       "│ 2024-03-01 │    0.042 │   4432.83 │     5254.35 │  71.2085 │  191.39 │ 33.14 ⋯\n",
       "│ 2024-04-01 │   0.0469 │   4277.66 │     5035.69 │  71.5921 │  191.39 │ 33.84 ⋯\n",
       "│ 2024-05-01 │   0.0451 │    4355.4 │     5277.51 │  71.9758 │  191.39 │ 34.95 ⋯\n",
       "│ 2024-06-01 │   0.0436 │   4423.92 │     5460.48 │  71.9758 │  191.39 │ 35.70 ⋯\n",
       "│ 2024-07-01 │   0.0409 │   4536.57 │      5522.3 │  71.9758 │  191.39 │ 35.08 ⋯\n",
       "└────────────┴──────────┴───────────┴─────────────┴──────────┴─────────┴────────\n",
       "\u001b[36m                                                  6 columns and 857 rows omitted\u001b[0m"
      ]
     },
     "metadata": {},
     "output_type": "display_data"
    }
   ],
   "source": [
    "df = DataFrame(XLSX.readtable(\"../../data/usa_data.xlsx\", \"Data\", infer_eltypes=true))\n",
    "data_source = collapse(TimeArray(df; timestamp = :Date), Dates.month, last)"
   ]
  },
  {
   "cell_type": "code",
   "execution_count": 51,
   "id": "d5185e15",
   "metadata": {},
   "outputs": [
    {
     "data": {
      "text/plain": [
       "\"Returns\""
      ]
     },
     "metadata": {},
     "output_type": "display_data"
    },
    {
     "data": {
      "text/html": [
       "<table>\n",
       "  <thead>\n",
       "    <tr class = \"header headerLastRow\">\n",
       "      <th class = \"rowLabel\" style = \"font-weight: bold; text-align: right;\"></th>\n",
       "      <th style = \"text-align: right;\">std</th>\n",
       "      <th style = \"text-align: right;\">max</th>\n",
       "      <th style = \"text-align: right;\">mean</th>\n",
       "      <th style = \"text-align: right;\">p75th</th>\n",
       "      <th style = \"text-align: right;\">min</th>\n",
       "      <th style = \"text-align: right;\">skewness</th>\n",
       "      <th style = \"text-align: right;\">p25th</th>\n",
       "      <th style = \"text-align: right;\">autocor</th>\n",
       "      <th style = \"text-align: right;\">kurtosis</th>\n",
       "      <th style = \"text-align: right;\">sr</th>\n",
       "      <th style = \"text-align: right;\">median</th>\n",
       "    </tr>\n",
       "  </thead>\n",
       "  <tbody>\n",
       "    <tr>\n",
       "      <td class = \"rowLabel\" style = \"font-weight: bold; text-align: right;\">Total_Stock</td>\n",
       "      <td style = \"text-align: right;\">0.1473</td>\n",
       "      <td style = \"text-align: right;\">1.8543</td>\n",
       "      <td style = \"text-align: right;\">0.1012</td>\n",
       "      <td style = \"text-align: right;\">0.4365</td>\n",
       "      <td style = \"text-align: right;\">-2.9008</td>\n",
       "      <td style = \"text-align: right;\">-0.6469</td>\n",
       "      <td style = \"text-align: right;\">-0.1883</td>\n",
       "      <td style = \"text-align: right;\">0.0258</td>\n",
       "      <td style = \"text-align: right;\">2.1941</td>\n",
       "      <td style = \"text-align: right;\">0.6874</td>\n",
       "      <td style = \"text-align: right;\">0.1474</td>\n",
       "    </tr>\n",
       "    <tr>\n",
       "      <td class = \"rowLabel\" style = \"font-weight: bold; text-align: right;\">Price_10Y</td>\n",
       "      <td style = \"text-align: right;\">0.0755</td>\n",
       "      <td style = \"text-align: right;\">1.3969</td>\n",
       "      <td style = \"text-align: right;\">0.0531</td>\n",
       "      <td style = \"text-align: right;\">0.1909</td>\n",
       "      <td style = \"text-align: right;\">-0.9866</td>\n",
       "      <td style = \"text-align: right;\">0.3097</td>\n",
       "      <td style = \"text-align: right;\">-0.0893</td>\n",
       "      <td style = \"text-align: right;\">0.1022</td>\n",
       "      <td style = \"text-align: right;\">1.9867</td>\n",
       "      <td style = \"text-align: right;\">0.7037</td>\n",
       "      <td style = \"text-align: right;\">0.0377</td>\n",
       "    </tr>\n",
       "  </tbody>\n",
       "</table>\n"
      ]
     },
     "metadata": {},
     "output_type": "display_data"
    },
    {
     "data": {
      "text/plain": [
       "nothing"
      ]
     },
     "metadata": {},
     "output_type": "display_data"
    },
    {
     "data": {
      "text/plain": [
       "\"Real_returns\""
      ]
     },
     "metadata": {},
     "output_type": "display_data"
    },
    {
     "data": {
      "text/html": [
       "<table>\n",
       "  <thead>\n",
       "    <tr class = \"header headerLastRow\">\n",
       "      <th class = \"rowLabel\" style = \"font-weight: bold; text-align: right;\"></th>\n",
       "      <th style = \"text-align: right;\">std</th>\n",
       "      <th style = \"text-align: right;\">max</th>\n",
       "      <th style = \"text-align: right;\">mean</th>\n",
       "      <th style = \"text-align: right;\">p75th</th>\n",
       "      <th style = \"text-align: right;\">min</th>\n",
       "      <th style = \"text-align: right;\">skewness</th>\n",
       "      <th style = \"text-align: right;\">p25th</th>\n",
       "      <th style = \"text-align: right;\">autocor</th>\n",
       "      <th style = \"text-align: right;\">kurtosis</th>\n",
       "      <th style = \"text-align: right;\">sr</th>\n",
       "      <th style = \"text-align: right;\">median</th>\n",
       "    </tr>\n",
       "  </thead>\n",
       "  <tbody>\n",
       "    <tr>\n",
       "      <td class = \"rowLabel\" style = \"font-weight: bold; text-align: right;\">Total_Stock_CPI</td>\n",
       "      <td style = \"text-align: right;\">0.1479</td>\n",
       "      <td style = \"text-align: right;\">1.7607</td>\n",
       "      <td style = \"text-align: right;\">0.0658</td>\n",
       "      <td style = \"text-align: right;\">0.4053</td>\n",
       "      <td style = \"text-align: right;\">-2.9112</td>\n",
       "      <td style = \"text-align: right;\">-0.596</td>\n",
       "      <td style = \"text-align: right;\">-0.2186</td>\n",
       "      <td style = \"text-align: right;\">0.032</td>\n",
       "      <td style = \"text-align: right;\">1.9119</td>\n",
       "      <td style = \"text-align: right;\">0.445</td>\n",
       "      <td style = \"text-align: right;\">0.1107</td>\n",
       "    </tr>\n",
       "    <tr>\n",
       "      <td class = \"rowLabel\" style = \"font-weight: bold; text-align: right;\">Price_10Y_CPI</td>\n",
       "      <td style = \"text-align: right;\">0.078</td>\n",
       "      <td style = \"text-align: right;\">1.279</td>\n",
       "      <td style = \"text-align: right;\">0.0177</td>\n",
       "      <td style = \"text-align: right;\">0.1544</td>\n",
       "      <td style = \"text-align: right;\">-1.1677</td>\n",
       "      <td style = \"text-align: right;\">0.2268</td>\n",
       "      <td style = \"text-align: right;\">-0.1322</td>\n",
       "      <td style = \"text-align: right;\">0.1437</td>\n",
       "      <td style = \"text-align: right;\">2.0153</td>\n",
       "      <td style = \"text-align: right;\">0.2268</td>\n",
       "      <td style = \"text-align: right;\">0.0058</td>\n",
       "    </tr>\n",
       "  </tbody>\n",
       "</table>\n"
      ]
     },
     "metadata": {},
     "output_type": "display_data"
    },
    {
     "data": {
      "text/plain": [
       "nothing"
      ]
     },
     "metadata": {},
     "output_type": "display_data"
    },
    {
     "data": {
      "text/plain": [
       "\"Correlations\""
      ]
     },
     "metadata": {},
     "output_type": "display_data"
    },
    {
     "data": {
      "text/plain": [
       "2×2 Matrix{Float64}:\n",
       " 1.0        0.0980477\n",
       " 0.0980477  1.0"
      ]
     },
     "metadata": {},
     "output_type": "display_data"
    }
   ],
   "source": [
    "freq = 12\n",
    "returns = percentchange(data_source[:Total_Stock, :Price_10Y], :log)\n",
    "cpi = percentchange(data_source[:CPI], :log)\n",
    "real_returns = returns .- cpi\n",
    "start = Date(1955, 01,01)\n",
    "end_d = Date(2024, 12, 31)\n",
    "\n",
    "\n",
    "display(\"Returns\")\n",
    "display(returns_summarystats(to(from(returns, start),end_d), freq))\n",
    "display(\"Real_returns\")\n",
    "display(returns_summarystats(to(from(real_returns, start),end_d), freq))\n",
    "\n",
    "\n",
    "display(\"Correlations\")\n",
    "display(cor(values(to(from(real_returns, start),end_d)))) "
   ]
  },
  {
   "cell_type": "code",
   "execution_count": 52,
   "id": "0c80e357",
   "metadata": {},
   "outputs": [
    {
     "data": {
      "text/plain": [
       "835×2 TimeArray{Float64, 2, Date, Matrix{Float64}} 1955-01-01 to 2024-07-01\n",
       "┌────────────┬─────────────────┬───────────────┐\n",
       "│\u001b[1m            \u001b[0m│\u001b[1m Total_Stock_CPI \u001b[0m│\u001b[1m Price_10Y_CPI \u001b[0m│\n",
       "├────────────┼─────────────────┼───────────────┤\n",
       "│ 1955-01-01 │       0.0213695 │    -0.0101211 │\n",
       "│ 1955-02-01 │      0.00706047 │   -0.00343316 │\n",
       "│ 1955-03-01 │     -0.00133608 │    0.00336866 │\n",
       "│ 1955-04-01 │       0.0403401 │   -0.00320268 │\n",
       "│ 1955-05-01 │      0.00213171 │    0.00504353 │\n",
       "│ 1955-06-01 │       0.0783234 │    -0.0123327 │\n",
       "│ 1955-07-01 │       0.0618074 │    -0.0086779 │\n",
       "│ 1955-08-01 │     -0.00842147 │   0.000622423 │\n",
       "│     ⋮      │        ⋮        │       ⋮       │\n",
       "│ 2024-01-01 │       0.0107954 │      -0.01189 │\n",
       "│ 2024-02-01 │       0.0450847 │    -0.0241356 │\n",
       "│ 2024-03-01 │       0.0277565 │     0.0036489 │\n",
       "│ 2024-04-01 │      -0.0429306 │    -0.0372919 │\n",
       "│ 2024-05-01 │       0.0476502 │     0.0176731 │\n",
       "│ 2024-06-01 │       0.0349747 │     0.0154399 │\n",
       "│ 2024-07-01 │       0.0122468 │     0.0250603 │\n",
       "└────────────┴─────────────────┴───────────────┘\n",
       "\u001b[36m                                820 rows omitted\u001b[0m"
      ]
     },
     "metadata": {},
     "output_type": "display_data"
    }
   ],
   "source": [
    "assets_names = [:Total_Stock_CPI, :Price_10Y_CPI]\n",
    "data = to(from(real_returns[assets_names], start),end_d) "
   ]
  },
  {
   "cell_type": "code",
   "execution_count": 53,
   "id": "5fbb3731",
   "metadata": {},
   "outputs": [
    {
     "data": {
      "text/html": [
       "<table>\n",
       "  <caption style = \"text-align: left;\">Means</caption>\n",
       "  <thead>\n",
       "    <tr class = \"header headerLastRow\">\n",
       "      <th class = \"rowLabel\" style = \"font-weight: bold; text-align: right;\"></th>\n",
       "      <th style = \"text-align: right;\">Total_Stock_CPI</th>\n",
       "      <th style = \"text-align: right;\">Price_10Y_CPI</th>\n",
       "    </tr>\n",
       "  </thead>\n",
       "  <tbody>\n",
       "    <tr>\n",
       "      <td class = \"rowLabel\" style = \"font-weight: bold; text-align: right;\">1</td>\n",
       "      <td style = \"text-align: right;\">0.0728</td>\n",
       "      <td style = \"text-align: right;\">0.021</td>\n",
       "    </tr>\n",
       "    <tr>\n",
       "      <td class = \"rowLabel\" style = \"font-weight: bold; text-align: right;\">5</td>\n",
       "      <td style = \"text-align: right;\">0.0637</td>\n",
       "      <td style = \"text-align: right;\">0.025</td>\n",
       "    </tr>\n",
       "    <tr>\n",
       "      <td class = \"rowLabel\" style = \"font-weight: bold; text-align: right;\">10</td>\n",
       "      <td style = \"text-align: right;\">0.0589</td>\n",
       "      <td style = \"text-align: right;\">0.0259</td>\n",
       "    </tr>\n",
       "    <tr>\n",
       "      <td class = \"rowLabel\" style = \"font-weight: bold; text-align: right;\">25</td>\n",
       "      <td style = \"text-align: right;\">0.0608</td>\n",
       "      <td style = \"text-align: right;\">0.0299</td>\n",
       "    </tr>\n",
       "  </tbody>\n",
       "</table>\n"
      ]
     },
     "metadata": {},
     "output_type": "display_data"
    },
    {
     "data": {
      "text/html": [
       "<table>\n",
       "  <caption style = \"text-align: left;\">Standard devations</caption>\n",
       "  <thead>\n",
       "    <tr class = \"header headerLastRow\">\n",
       "      <th class = \"rowLabel\" style = \"font-weight: bold; text-align: right;\"></th>\n",
       "      <th style = \"text-align: right;\">Total_Stock_CPI</th>\n",
       "      <th style = \"text-align: right;\">Price_10Y_CPI</th>\n",
       "    </tr>\n",
       "  </thead>\n",
       "  <tbody>\n",
       "    <tr>\n",
       "      <td class = \"rowLabel\" style = \"font-weight: bold; text-align: right;\">1</td>\n",
       "      <td style = \"text-align: right;\">0.1516</td>\n",
       "      <td style = \"text-align: right;\">0.095</td>\n",
       "    </tr>\n",
       "    <tr>\n",
       "      <td class = \"rowLabel\" style = \"font-weight: bold; text-align: right;\">5</td>\n",
       "      <td style = \"text-align: right;\">0.0699</td>\n",
       "      <td style = \"text-align: right;\">0.0482</td>\n",
       "    </tr>\n",
       "    <tr>\n",
       "      <td class = \"rowLabel\" style = \"font-weight: bold; text-align: right;\">10</td>\n",
       "      <td style = \"text-align: right;\">0.0515</td>\n",
       "      <td style = \"text-align: right;\">0.0364</td>\n",
       "    </tr>\n",
       "    <tr>\n",
       "      <td class = \"rowLabel\" style = \"font-weight: bold; text-align: right;\">25</td>\n",
       "      <td style = \"text-align: right;\">0.0205</td>\n",
       "      <td style = \"text-align: right;\">0.0209</td>\n",
       "    </tr>\n",
       "  </tbody>\n",
       "</table>\n"
      ]
     },
     "metadata": {},
     "output_type": "display_data"
    },
    {
     "data": {
      "text/html": [
       "<table>\n",
       "  <caption style = \"text-align: left;\">Skewness</caption>\n",
       "  <thead>\n",
       "    <tr class = \"header headerLastRow\">\n",
       "      <th class = \"rowLabel\" style = \"font-weight: bold; text-align: right;\"></th>\n",
       "      <th style = \"text-align: right;\">Total_Stock_CPI</th>\n",
       "      <th style = \"text-align: right;\">Price_10Y_CPI</th>\n",
       "    </tr>\n",
       "  </thead>\n",
       "  <tbody>\n",
       "    <tr>\n",
       "      <td class = \"rowLabel\" style = \"font-weight: bold; text-align: right;\">1</td>\n",
       "      <td style = \"text-align: right;\">-0.5848</td>\n",
       "      <td style = \"text-align: right;\">0.6555</td>\n",
       "    </tr>\n",
       "    <tr>\n",
       "      <td class = \"rowLabel\" style = \"font-weight: bold; text-align: right;\">5</td>\n",
       "      <td style = \"text-align: right;\">-0.0626</td>\n",
       "      <td style = \"text-align: right;\">0.3998</td>\n",
       "    </tr>\n",
       "    <tr>\n",
       "      <td class = \"rowLabel\" style = \"font-weight: bold; text-align: right;\">10</td>\n",
       "      <td style = \"text-align: right;\">-0.4354</td>\n",
       "      <td style = \"text-align: right;\">0.0251</td>\n",
       "    </tr>\n",
       "    <tr>\n",
       "      <td class = \"rowLabel\" style = \"font-weight: bold; text-align: right;\">25</td>\n",
       "      <td style = \"text-align: right;\">0.1304</td>\n",
       "      <td style = \"text-align: right;\">-0.4484</td>\n",
       "    </tr>\n",
       "  </tbody>\n",
       "</table>\n"
      ]
     },
     "metadata": {},
     "output_type": "display_data"
    },
    {
     "data": {
      "text/html": [
       "<table>\n",
       "  <caption style = \"text-align: left;\">Kurtosis</caption>\n",
       "  <thead>\n",
       "    <tr class = \"header headerLastRow\">\n",
       "      <th class = \"rowLabel\" style = \"font-weight: bold; text-align: right;\"></th>\n",
       "      <th style = \"text-align: right;\">Total_Stock_CPI</th>\n",
       "      <th style = \"text-align: right;\">Price_10Y_CPI</th>\n",
       "    </tr>\n",
       "  </thead>\n",
       "  <tbody>\n",
       "    <tr>\n",
       "      <td class = \"rowLabel\" style = \"font-weight: bold; text-align: right;\">1</td>\n",
       "      <td style = \"text-align: right;\">0.7655</td>\n",
       "      <td style = \"text-align: right;\">0.9705</td>\n",
       "    </tr>\n",
       "    <tr>\n",
       "      <td class = \"rowLabel\" style = \"font-weight: bold; text-align: right;\">5</td>\n",
       "      <td style = \"text-align: right;\">-0.5169</td>\n",
       "      <td style = \"text-align: right;\">0.3175</td>\n",
       "    </tr>\n",
       "    <tr>\n",
       "      <td class = \"rowLabel\" style = \"font-weight: bold; text-align: right;\">10</td>\n",
       "      <td style = \"text-align: right;\">-0.8852</td>\n",
       "      <td style = \"text-align: right;\">-0.8823</td>\n",
       "    </tr>\n",
       "    <tr>\n",
       "      <td class = \"rowLabel\" style = \"font-weight: bold; text-align: right;\">25</td>\n",
       "      <td style = \"text-align: right;\">-0.889</td>\n",
       "      <td style = \"text-align: right;\">-0.5487</td>\n",
       "    </tr>\n",
       "  </tbody>\n",
       "</table>\n"
      ]
     },
     "metadata": {},
     "output_type": "display_data"
    },
    {
     "data": {
      "text/html": [
       "<table>\n",
       "  <caption style = \"text-align: left;\">Total_Stock_CPI</caption>\n",
       "  <thead>\n",
       "    <tr class = \"header headerLastRow\">\n",
       "      <th class = \"rowLabel\" style = \"font-weight: bold; text-align: right;\"></th>\n",
       "      <th style = \"text-align: right;\">0.01</th>\n",
       "      <th style = \"text-align: right;\">0.025</th>\n",
       "      <th style = \"text-align: right;\">0.05</th>\n",
       "      <th style = \"text-align: right;\">0.25</th>\n",
       "      <th style = \"text-align: right;\">0.5</th>\n",
       "      <th style = \"text-align: right;\">0.75</th>\n",
       "      <th style = \"text-align: right;\">0.95</th>\n",
       "      <th style = \"text-align: right;\">0.975</th>\n",
       "      <th style = \"text-align: right;\">0.99</th>\n",
       "    </tr>\n",
       "  </thead>\n",
       "  <tbody>\n",
       "    <tr>\n",
       "      <td class = \"rowLabel\" style = \"font-weight: bold; text-align: right;\">1</td>\n",
       "      <td style = \"text-align: right;\">-0.358</td>\n",
       "      <td style = \"text-align: right;\">-0.2479</td>\n",
       "      <td style = \"text-align: right;\">-0.1747</td>\n",
       "      <td style = \"text-align: right;\">-0.0233</td>\n",
       "      <td style = \"text-align: right;\">0.0827</td>\n",
       "      <td style = \"text-align: right;\">0.1838</td>\n",
       "      <td style = \"text-align: right;\">0.2895</td>\n",
       "      <td style = \"text-align: right;\">0.3169</td>\n",
       "      <td style = \"text-align: right;\">0.3559</td>\n",
       "    </tr>\n",
       "    <tr>\n",
       "      <td class = \"rowLabel\" style = \"font-weight: bold; text-align: right;\">5</td>\n",
       "      <td style = \"text-align: right;\">-0.0843</td>\n",
       "      <td style = \"text-align: right;\">-0.0632</td>\n",
       "      <td style = \"text-align: right;\">-0.0501</td>\n",
       "      <td style = \"text-align: right;\">0.0083</td>\n",
       "      <td style = \"text-align: right;\">0.0738</td>\n",
       "      <td style = \"text-align: right;\">0.108</td>\n",
       "      <td style = \"text-align: right;\">0.188</td>\n",
       "      <td style = \"text-align: right;\">0.2024</td>\n",
       "      <td style = \"text-align: right;\">0.2129</td>\n",
       "    </tr>\n",
       "    <tr>\n",
       "      <td class = \"rowLabel\" style = \"font-weight: bold; text-align: right;\">10</td>\n",
       "      <td style = \"text-align: right;\">-0.0445</td>\n",
       "      <td style = \"text-align: right;\">-0.0371</td>\n",
       "      <td style = \"text-align: right;\">-0.0302</td>\n",
       "      <td style = \"text-align: right;\">0.0129</td>\n",
       "      <td style = \"text-align: right;\">0.0695</td>\n",
       "      <td style = \"text-align: right;\">0.0993</td>\n",
       "      <td style = \"text-align: right;\">0.1342</td>\n",
       "      <td style = \"text-align: right;\">0.1396</td>\n",
       "      <td style = \"text-align: right;\">0.1429</td>\n",
       "    </tr>\n",
       "    <tr>\n",
       "      <td class = \"rowLabel\" style = \"font-weight: bold; text-align: right;\">25</td>\n",
       "      <td style = \"text-align: right;\">0.0255</td>\n",
       "      <td style = \"text-align: right;\">0.0272</td>\n",
       "      <td style = \"text-align: right;\">0.0298</td>\n",
       "      <td style = \"text-align: right;\">0.0418</td>\n",
       "      <td style = \"text-align: right;\">0.0645</td>\n",
       "      <td style = \"text-align: right;\">0.0722</td>\n",
       "      <td style = \"text-align: right;\">0.0954</td>\n",
       "      <td style = \"text-align: right;\">0.1</td>\n",
       "      <td style = \"text-align: right;\">0.1041</td>\n",
       "    </tr>\n",
       "  </tbody>\n",
       "</table>\n"
      ]
     },
     "metadata": {},
     "output_type": "display_data"
    },
    {
     "data": {
      "text/html": [
       "<table>\n",
       "  <caption style = \"text-align: left;\">Price_10Y_CPI</caption>\n",
       "  <thead>\n",
       "    <tr class = \"header headerLastRow\">\n",
       "      <th class = \"rowLabel\" style = \"font-weight: bold; text-align: right;\"></th>\n",
       "      <th style = \"text-align: right;\">0.01</th>\n",
       "      <th style = \"text-align: right;\">0.025</th>\n",
       "      <th style = \"text-align: right;\">0.05</th>\n",
       "      <th style = \"text-align: right;\">0.25</th>\n",
       "      <th style = \"text-align: right;\">0.5</th>\n",
       "      <th style = \"text-align: right;\">0.75</th>\n",
       "      <th style = \"text-align: right;\">0.95</th>\n",
       "      <th style = \"text-align: right;\">0.975</th>\n",
       "      <th style = \"text-align: right;\">0.99</th>\n",
       "    </tr>\n",
       "  </thead>\n",
       "  <tbody>\n",
       "    <tr>\n",
       "      <td class = \"rowLabel\" style = \"font-weight: bold; text-align: right;\">1</td>\n",
       "      <td style = \"text-align: right;\">-0.1743</td>\n",
       "      <td style = \"text-align: right;\">-0.1361</td>\n",
       "      <td style = \"text-align: right;\">-0.1104</td>\n",
       "      <td style = \"text-align: right;\">-0.0379</td>\n",
       "      <td style = \"text-align: right;\">0.0142</td>\n",
       "      <td style = \"text-align: right;\">0.078</td>\n",
       "      <td style = \"text-align: right;\">0.2014</td>\n",
       "      <td style = \"text-align: right;\">0.2781</td>\n",
       "      <td style = \"text-align: right;\">0.2981</td>\n",
       "    </tr>\n",
       "    <tr>\n",
       "      <td class = \"rowLabel\" style = \"font-weight: bold; text-align: right;\">5</td>\n",
       "      <td style = \"text-align: right;\">-0.0778</td>\n",
       "      <td style = \"text-align: right;\">-0.0693</td>\n",
       "      <td style = \"text-align: right;\">-0.0434</td>\n",
       "      <td style = \"text-align: right;\">-0.0087</td>\n",
       "      <td style = \"text-align: right;\">0.0196</td>\n",
       "      <td style = \"text-align: right;\">0.0558</td>\n",
       "      <td style = \"text-align: right;\">0.1019</td>\n",
       "      <td style = \"text-align: right;\">0.1413</td>\n",
       "      <td style = \"text-align: right;\">0.1578</td>\n",
       "    </tr>\n",
       "    <tr>\n",
       "      <td class = \"rowLabel\" style = \"font-weight: bold; text-align: right;\">10</td>\n",
       "      <td style = \"text-align: right;\">-0.0477</td>\n",
       "      <td style = \"text-align: right;\">-0.0437</td>\n",
       "      <td style = \"text-align: right;\">-0.0261</td>\n",
       "      <td style = \"text-align: right;\">-0.0052</td>\n",
       "      <td style = \"text-align: right;\">0.0331</td>\n",
       "      <td style = \"text-align: right;\">0.0534</td>\n",
       "      <td style = \"text-align: right;\">0.0866</td>\n",
       "      <td style = \"text-align: right;\">0.0929</td>\n",
       "      <td style = \"text-align: right;\">0.0977</td>\n",
       "    </tr>\n",
       "    <tr>\n",
       "      <td class = \"rowLabel\" style = \"font-weight: bold; text-align: right;\">25</td>\n",
       "      <td style = \"text-align: right;\">-0.0174</td>\n",
       "      <td style = \"text-align: right;\">-0.0156</td>\n",
       "      <td style = \"text-align: right;\">-0.0113</td>\n",
       "      <td style = \"text-align: right;\">0.0135</td>\n",
       "      <td style = \"text-align: right;\">0.0328</td>\n",
       "      <td style = \"text-align: right;\">0.0444</td>\n",
       "      <td style = \"text-align: right;\">0.0612</td>\n",
       "      <td style = \"text-align: right;\">0.0629</td>\n",
       "      <td style = \"text-align: right;\">0.0639</td>\n",
       "    </tr>\n",
       "  </tbody>\n",
       "</table>\n"
      ]
     },
     "metadata": {},
     "output_type": "display_data"
    }
   ],
   "source": [
    "scenarios = overlapping_windows(values(data), 25*freq)\n",
    "\n",
    "periods = [1,5, 10, 25]\n",
    "ret_in_years = cum_returns_in_periods(scenarios, periods, freq, true)\n",
    "print_scenarios_summary(ret_in_years, assets_names, string.(periods))\n",
    "n_assets = length(assets_names)\n",
    "for a in 1:n_assets\n",
    "    print_scenarios_percentiles(ret_in_years[a, :, :], [.01, .025, .05, .25, .5, .75, .95, .975, .99], string.(periods), string.(assets_names[a]))\n",
    "end  \n"
   ]
  },
  {
   "cell_type": "code",
   "execution_count": 54,
   "id": "6ce510da",
   "metadata": {},
   "outputs": [
    {
     "data": {
      "text/plain": [
       ":Total_Stock_CPI"
      ]
     },
     "metadata": {},
     "output_type": "display_data"
    },
    {
     "data": {
      "text/plain": [
       "\"mdd\""
      ]
     },
     "metadata": {},
     "output_type": "display_data"
    },
    {
     "data": {
      "text/plain": [
       "1×5 adjoint(::Vector{Float64}) with eltype Float64:\n",
       " 0.297485  0.51872  0.521378  0.539183  0.539183"
      ]
     },
     "metadata": {},
     "output_type": "display_data"
    },
    {
     "data": {
      "text/plain": [
       "\"mddl\""
      ]
     },
     "metadata": {},
     "output_type": "display_data"
    },
    {
     "data": {
      "text/plain": [
       "1×5 adjoint(::Vector{Float64}) with eltype Float64:\n",
       " 35.05  98.75  145.0  153.0  153.0"
      ]
     },
     "metadata": {},
     "output_type": "display_data"
    },
    {
     "data": {
      "text/plain": [
       ":Price_10Y_CPI"
      ]
     },
     "metadata": {},
     "output_type": "display_data"
    },
    {
     "data": {
      "text/plain": [
       "\"mdd\""
      ]
     },
     "metadata": {},
     "output_type": "display_data"
    },
    {
     "data": {
      "text/plain": [
       "1×5 adjoint(::Vector{Float64}) with eltype Float64:\n",
       " 0.12387  0.132702  0.397277  0.454945  0.468699"
      ]
     },
     "metadata": {},
     "output_type": "display_data"
    },
    {
     "data": {
      "text/plain": [
       "\"mddl\""
      ]
     },
     "metadata": {},
     "output_type": "display_data"
    },
    {
     "data": {
      "text/plain": [
       "1×5 adjoint(::Vector{Float64}) with eltype Float64:\n",
       " 33.05  54.0  91.0  171.0  223.0"
      ]
     },
     "metadata": {},
     "output_type": "display_data"
    }
   ],
   "source": [
    "mdd, mddl = max_drawdown_and_length(scenarios[1,:,:])\n",
    "\n",
    "display(assets_names[1])\n",
    "display(\"mdd\")\n",
    "display(quantile(mdd, [.03, .25, .5, .75, .97])')\n",
    "display(\"mddl\")\n",
    "display(quantile(mddl, [.03, .25, .5, .75, .97])')\n",
    "\n",
    "mdd, mddl = max_drawdown_and_length(scenarios[2,:,:])\n",
    "\n",
    "display(assets_names[2])\n",
    "display(\"mdd\")\n",
    "display(quantile(mdd, [.03, .25, .5, .75, .97])')\n",
    "display(\"mddl\")\n",
    "display(quantile(mddl, [.03, .25, .5, .75, .97])')"
   ]
  }
 ],
 "metadata": {
  "kernelspec": {
   "display_name": "Julia 1.11.2",
   "language": "julia",
   "name": "julia-1.11"
  },
  "language_info": {
   "file_extension": ".jl",
   "mimetype": "application/julia",
   "name": "julia",
   "version": "1.11.2"
  }
 },
 "nbformat": 4,
 "nbformat_minor": 5
}
