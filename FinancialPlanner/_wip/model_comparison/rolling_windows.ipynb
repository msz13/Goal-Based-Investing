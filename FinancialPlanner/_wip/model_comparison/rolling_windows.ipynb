{
 "cells": [
  {
   "cell_type": "code",
   "execution_count": 32,
   "id": "3b282b24",
   "metadata": {},
   "outputs": [
    {
     "name": "stderr",
     "output_type": "stream",
     "text": [
      "\u001b[32m\u001b[1m  Activating\u001b[22m\u001b[39m project at `c:\\Users\\matsz\\programowanie\\Optymalizacja_portfela\\FinancialPlanner`\n"
     ]
    }
   ],
   "source": [
    "import Pkg\n",
    "Pkg.activate(\"../../../FinancialPlanner\")"
   ]
  },
  {
   "cell_type": "code",
   "execution_count": 33,
   "id": "2d6f087d",
   "metadata": {},
   "outputs": [],
   "source": [
    "using Revise\n",
    "using Turing\n",
    "using LinearAlgebra\n",
    "using Distributions\n",
    "using Random\n",
    "using StatsPlots\n",
    "using PDMats\n",
    "using StatsBase\n",
    "using Base.Iterators\n",
    "using DataFrames, TimeSeries, XLSX\n",
    "using PrettyTables"
   ]
  },
  {
   "cell_type": "code",
   "execution_count": 34,
   "id": "5e95f2c0",
   "metadata": {},
   "outputs": [],
   "source": [
    "include(\"../VARs/utils.jl\")\n",
    "includet(\"../bootstrap_model.jl\")"
   ]
  },
  {
   "cell_type": "code",
   "execution_count": 35,
   "id": "949117f6",
   "metadata": {},
   "outputs": [
    {
     "data": {
      "text/plain": [
       "872×11 TimeArray{Float64, 2, Date, Matrix{Float64}} 1951-12-01 to 2024-07-01\n",
       "┌────────────┬──────────┬───────────┬─────────────┬──────────┬─────────┬────────\n",
       "│\u001b[1m            \u001b[0m│\u001b[1m Yeld_10Y \u001b[0m│\u001b[1m Price_10Y \u001b[0m│\u001b[1m Stock_Price \u001b[0m│\u001b[1m Dividend \u001b[0m│\u001b[1m E       \u001b[0m│\u001b[1m CAPE \u001b[0m ⋯\n",
       "├────────────┼──────────┼───────────┼─────────────┼──────────┼─────────┼────────\n",
       "│ 1951-12-01 │  0.02513 │   104.098 │       24.19 │  1.41333 │    2.44 │ 12.52 ⋯\n",
       "│ 1952-01-01 │  0.02463 │   104.771 │       23.75 │  1.41667 │ 2.42667 │ 12.36 ⋯\n",
       "│ 1952-02-01 │  0.02617 │   103.585 │       23.81 │     1.42 │ 2.41333 │ 12.36 ⋯\n",
       "│ 1952-03-01 │  0.02505 │   104.824 │       23.74 │     1.43 │     2.4 │ 12.24 ⋯\n",
       "│ 1952-04-01 │  0.02422 │   105.806 │       23.73 │     1.44 │    2.38 │ 12.20 ⋯\n",
       "│ 1952-05-01 │  0.02384 │   106.373 │       24.38 │     1.45 │    2.36 │ 12.44 ⋯\n",
       "│ 1952-06-01 │  0.02415 │   106.295 │       25.08 │     1.45 │    2.34 │ 12.66 ⋯\n",
       "│ 1952-07-01 │  0.02466 │   106.034 │       25.18 │     1.45 │ 2.34667 │ 12.67 ⋯\n",
       "│     ⋮      │    ⋮     │     ⋮     │      ⋮      │    ⋮     │    ⋮    │    ⋮  ⋱\n",
       "│ 2024-01-01 │   0.0399 │   4478.09 │     5011.96 │  70.6511 │ 192.083 │ 33.03 ⋯\n",
       "│ 2024-02-01 │   0.0425 │   4399.56 │     5170.57 │  70.8248 │ 191.737 │ 33.75 ⋯\n",
       "│ 2024-03-01 │    0.042 │   4432.83 │     5112.49 │  71.2085 │  191.39 │ 33.14 ⋯\n",
       "│ 2024-04-01 │   0.0469 │   4277.66 │     5235.23 │  71.5921 │  191.39 │ 33.84 ⋯\n",
       "│ 2024-05-01 │   0.0451 │    4355.4 │     5415.14 │  71.9758 │  191.39 │ 34.95 ⋯\n",
       "│ 2024-06-01 │   0.0436 │   4423.92 │      5538.0 │  71.9758 │  191.39 │ 35.70 ⋯\n",
       "│ 2024-07-01 │   0.0409 │   4536.57 │     5446.68 │  71.9758 │  191.39 │ 35.08 ⋯\n",
       "└────────────┴──────────┴───────────┴─────────────┴──────────┴─────────┴────────\n",
       "\u001b[36m                                                  6 columns and 857 rows omitted\u001b[0m"
      ]
     },
     "metadata": {},
     "output_type": "display_data"
    }
   ],
   "source": [
    "df = DataFrame(XLSX.readtable(\"../../data/usa_var_data.xlsx\", \"Data\", infer_eltypes=true))\n",
    "data_source = collapse(TimeArray(df; timestamp = :Date), Dates.month, last)"
   ]
  },
  {
   "cell_type": "code",
   "execution_count": 36,
   "id": "d5185e15",
   "metadata": {},
   "outputs": [
    {
     "data": {
      "text/plain": [
       "\"Returns\""
      ]
     },
     "metadata": {},
     "output_type": "display_data"
    },
    {
     "data": {
      "text/html": [
       "<table>\n",
       "  <thead>\n",
       "    <tr class = \"header headerLastRow\">\n",
       "      <th class = \"rowLabel\" style = \"font-weight: bold; text-align: right;\"></th>\n",
       "      <th style = \"text-align: right;\">std</th>\n",
       "      <th style = \"text-align: right;\">max</th>\n",
       "      <th style = \"text-align: right;\">mean</th>\n",
       "      <th style = \"text-align: right;\">p75th</th>\n",
       "      <th style = \"text-align: right;\">min</th>\n",
       "      <th style = \"text-align: right;\">skewness</th>\n",
       "      <th style = \"text-align: right;\">p25th</th>\n",
       "      <th style = \"text-align: right;\">autocor</th>\n",
       "      <th style = \"text-align: right;\">kurtosis</th>\n",
       "      <th style = \"text-align: right;\">sr</th>\n",
       "      <th style = \"text-align: right;\">median</th>\n",
       "    </tr>\n",
       "  </thead>\n",
       "  <tbody>\n",
       "    <tr>\n",
       "      <td class = \"rowLabel\" style = \"font-weight: bold; text-align: right;\">Total_Stock</td>\n",
       "      <td style = \"text-align: right;\">0.1228</td>\n",
       "      <td style = \"text-align: right;\">1.3903</td>\n",
       "      <td style = \"text-align: right;\">0.1011</td>\n",
       "      <td style = \"text-align: right;\">0.3652</td>\n",
       "      <td style = \"text-align: right;\">-2.6994</td>\n",
       "      <td style = \"text-align: right;\">-1.1768</td>\n",
       "      <td style = \"text-align: right;\">-0.1044</td>\n",
       "      <td style = \"text-align: right;\">0.2218</td>\n",
       "      <td style = \"text-align: right;\">4.9165</td>\n",
       "      <td style = \"text-align: right;\">0.8232</td>\n",
       "      <td style = \"text-align: right;\">0.1442</td>\n",
       "    </tr>\n",
       "    <tr>\n",
       "      <td class = \"rowLabel\" style = \"font-weight: bold; text-align: right;\">Price_10Y</td>\n",
       "      <td style = \"text-align: right;\">0.0755</td>\n",
       "      <td style = \"text-align: right;\">1.3969</td>\n",
       "      <td style = \"text-align: right;\">0.0531</td>\n",
       "      <td style = \"text-align: right;\">0.1909</td>\n",
       "      <td style = \"text-align: right;\">-0.9866</td>\n",
       "      <td style = \"text-align: right;\">0.3097</td>\n",
       "      <td style = \"text-align: right;\">-0.0893</td>\n",
       "      <td style = \"text-align: right;\">0.1022</td>\n",
       "      <td style = \"text-align: right;\">1.9867</td>\n",
       "      <td style = \"text-align: right;\">0.7037</td>\n",
       "      <td style = \"text-align: right;\">0.0377</td>\n",
       "    </tr>\n",
       "  </tbody>\n",
       "</table>\n"
      ]
     },
     "metadata": {},
     "output_type": "display_data"
    },
    {
     "data": {
      "text/plain": [
       "nothing"
      ]
     },
     "metadata": {},
     "output_type": "display_data"
    },
    {
     "data": {
      "text/plain": [
       "\"Real_returns\""
      ]
     },
     "metadata": {},
     "output_type": "display_data"
    },
    {
     "data": {
      "text/html": [
       "<table>\n",
       "  <thead>\n",
       "    <tr class = \"header headerLastRow\">\n",
       "      <th class = \"rowLabel\" style = \"font-weight: bold; text-align: right;\"></th>\n",
       "      <th style = \"text-align: right;\">std</th>\n",
       "      <th style = \"text-align: right;\">max</th>\n",
       "      <th style = \"text-align: right;\">mean</th>\n",
       "      <th style = \"text-align: right;\">p75th</th>\n",
       "      <th style = \"text-align: right;\">min</th>\n",
       "      <th style = \"text-align: right;\">skewness</th>\n",
       "      <th style = \"text-align: right;\">p25th</th>\n",
       "      <th style = \"text-align: right;\">autocor</th>\n",
       "      <th style = \"text-align: right;\">kurtosis</th>\n",
       "      <th style = \"text-align: right;\">sr</th>\n",
       "      <th style = \"text-align: right;\">median</th>\n",
       "    </tr>\n",
       "  </thead>\n",
       "  <tbody>\n",
       "    <tr>\n",
       "      <td class = \"rowLabel\" style = \"font-weight: bold; text-align: right;\">Total_Stock_CPI</td>\n",
       "      <td style = \"text-align: right;\">0.1239</td>\n",
       "      <td style = \"text-align: right;\">1.3604</td>\n",
       "      <td style = \"text-align: right;\">0.0656</td>\n",
       "      <td style = \"text-align: right;\">0.3354</td>\n",
       "      <td style = \"text-align: right;\">-2.5776</td>\n",
       "      <td style = \"text-align: right;\">-1.0987</td>\n",
       "      <td style = \"text-align: right;\">-0.1294</td>\n",
       "      <td style = \"text-align: right;\">0.2287</td>\n",
       "      <td style = \"text-align: right;\">4.1943</td>\n",
       "      <td style = \"text-align: right;\">0.5297</td>\n",
       "      <td style = \"text-align: right;\">0.1107</td>\n",
       "    </tr>\n",
       "    <tr>\n",
       "      <td class = \"rowLabel\" style = \"font-weight: bold; text-align: right;\">Price_10Y_CPI</td>\n",
       "      <td style = \"text-align: right;\">0.078</td>\n",
       "      <td style = \"text-align: right;\">1.279</td>\n",
       "      <td style = \"text-align: right;\">0.0177</td>\n",
       "      <td style = \"text-align: right;\">0.1544</td>\n",
       "      <td style = \"text-align: right;\">-1.1677</td>\n",
       "      <td style = \"text-align: right;\">0.2268</td>\n",
       "      <td style = \"text-align: right;\">-0.1322</td>\n",
       "      <td style = \"text-align: right;\">0.1437</td>\n",
       "      <td style = \"text-align: right;\">2.0153</td>\n",
       "      <td style = \"text-align: right;\">0.2268</td>\n",
       "      <td style = \"text-align: right;\">0.0058</td>\n",
       "    </tr>\n",
       "  </tbody>\n",
       "</table>\n"
      ]
     },
     "metadata": {},
     "output_type": "display_data"
    },
    {
     "data": {
      "text/plain": [
       "nothing"
      ]
     },
     "metadata": {},
     "output_type": "display_data"
    },
    {
     "data": {
      "text/plain": [
       "\"Correlations\""
      ]
     },
     "metadata": {},
     "output_type": "display_data"
    },
    {
     "data": {
      "text/plain": [
       "2×2 Matrix{Float64}:\n",
       " 1.0       0.188888\n",
       " 0.188888  1.0"
      ]
     },
     "metadata": {},
     "output_type": "display_data"
    }
   ],
   "source": [
    "freq = 12\n",
    "returns = percentchange(data_source[:Total_Stock, :Price_10Y], :log)\n",
    "cpi = percentchange(data_source[:CPI], :log)\n",
    "real_returns = returns .- cpi\n",
    "start = Date(1955, 01,01)\n",
    "end_d = Date(2024, 12, 31)\n",
    "\n",
    "\n",
    "display(\"Returns\")\n",
    "display(returns_summarystats(to(from(returns, start),end_d), freq))\n",
    "display(\"Real_returns\")\n",
    "display(returns_summarystats(to(from(real_returns, start),end_d), freq))\n",
    "\n",
    "\n",
    "display(\"Correlations\")\n",
    "display(cor(values(to(from(real_returns, start),end_d)))) "
   ]
  },
  {
   "cell_type": "code",
   "execution_count": 37,
   "id": "0c80e357",
   "metadata": {},
   "outputs": [
    {
     "data": {
      "text/plain": [
       "835×2 TimeArray{Float64, 2, Date, Matrix{Float64}} 1955-01-01 to 2024-07-01\n",
       "┌────────────┬─────────────────┬───────────────┐\n",
       "│\u001b[1m            \u001b[0m│\u001b[1m Total_Stock_CPI \u001b[0m│\u001b[1m Price_10Y_CPI \u001b[0m│\n",
       "├────────────┼─────────────────┼───────────────┤\n",
       "│ 1955-01-01 │       0.0362793 │    -0.0101211 │\n",
       "│ 1955-02-01 │      -0.0043303 │   -0.00343316 │\n",
       "│ 1955-03-01 │       0.0372676 │    0.00336866 │\n",
       "│ 1955-04-01 │    -0.000765351 │   -0.00320268 │\n",
       "│ 1955-05-01 │       0.0594641 │    0.00504353 │\n",
       "│ 1955-06-01 │       0.0697441 │    -0.0123327 │\n",
       "│ 1955-07-01 │     -0.00294578 │    -0.0086779 │\n",
       "│ 1955-08-01 │       0.0432164 │   0.000622423 │\n",
       "│     ⋮      │        ⋮        │       ⋮       │\n",
       "│ 2024-01-01 │       0.0349213 │      -0.01189 │\n",
       "│ 2024-02-01 │       0.0258185 │    -0.0241356 │\n",
       "│ 2024-03-01 │      -0.0140089 │     0.0036489 │\n",
       "│ 2024-04-01 │       0.0231748 │    -0.0372919 │\n",
       "│ 2024-05-01 │       0.0345217 │     0.0176731 │\n",
       "│ 2024-06-01 │       0.0233252 │     0.0154399 │\n",
       "│ 2024-07-01 │      -0.0155933 │     0.0250603 │\n",
       "└────────────┴─────────────────┴───────────────┘\n",
       "\u001b[36m                                820 rows omitted\u001b[0m"
      ]
     },
     "metadata": {},
     "output_type": "display_data"
    }
   ],
   "source": [
    "assets_names = [:Total_Stock_CPI, :Price_10Y_CPI]\n",
    "data = to(from(real_returns[assets_names], start),end_d) "
   ]
  },
  {
   "cell_type": "code",
   "execution_count": 38,
   "id": "5fbb3731",
   "metadata": {},
   "outputs": [
    {
     "data": {
      "text/html": [
       "<table>\n",
       "  <caption style = \"text-align: left;\">Means</caption>\n",
       "  <thead>\n",
       "    <tr class = \"header headerLastRow\">\n",
       "      <th class = \"rowLabel\" style = \"font-weight: bold; text-align: right;\"></th>\n",
       "      <th style = \"text-align: right;\">Total_Stock_CPI</th>\n",
       "      <th style = \"text-align: right;\">Price_10Y_CPI</th>\n",
       "    </tr>\n",
       "  </thead>\n",
       "  <tbody>\n",
       "    <tr>\n",
       "      <td class = \"rowLabel\" style = \"font-weight: bold; text-align: right;\">1</td>\n",
       "      <td style = \"text-align: right;\">0.0726</td>\n",
       "      <td style = \"text-align: right;\">0.021</td>\n",
       "    </tr>\n",
       "    <tr>\n",
       "      <td class = \"rowLabel\" style = \"font-weight: bold; text-align: right;\">5</td>\n",
       "      <td style = \"text-align: right;\">0.0634</td>\n",
       "      <td style = \"text-align: right;\">0.025</td>\n",
       "    </tr>\n",
       "    <tr>\n",
       "      <td class = \"rowLabel\" style = \"font-weight: bold; text-align: right;\">10</td>\n",
       "      <td style = \"text-align: right;\">0.0586</td>\n",
       "      <td style = \"text-align: right;\">0.0259</td>\n",
       "    </tr>\n",
       "    <tr>\n",
       "      <td class = \"rowLabel\" style = \"font-weight: bold; text-align: right;\">25</td>\n",
       "      <td style = \"text-align: right;\">0.0606</td>\n",
       "      <td style = \"text-align: right;\">0.0299</td>\n",
       "    </tr>\n",
       "  </tbody>\n",
       "</table>\n"
      ]
     },
     "metadata": {},
     "output_type": "display_data"
    },
    {
     "data": {
      "text/html": [
       "<table>\n",
       "  <caption style = \"text-align: left;\">Standard devations</caption>\n",
       "  <thead>\n",
       "    <tr class = \"header headerLastRow\">\n",
       "      <th class = \"rowLabel\" style = \"font-weight: bold; text-align: right;\"></th>\n",
       "      <th style = \"text-align: right;\">Total_Stock_CPI</th>\n",
       "      <th style = \"text-align: right;\">Price_10Y_CPI</th>\n",
       "    </tr>\n",
       "  </thead>\n",
       "  <tbody>\n",
       "    <tr>\n",
       "      <td class = \"rowLabel\" style = \"font-weight: bold; text-align: right;\">1</td>\n",
       "      <td style = \"text-align: right;\">0.1502</td>\n",
       "      <td style = \"text-align: right;\">0.095</td>\n",
       "    </tr>\n",
       "    <tr>\n",
       "      <td class = \"rowLabel\" style = \"font-weight: bold; text-align: right;\">5</td>\n",
       "      <td style = \"text-align: right;\">0.07</td>\n",
       "      <td style = \"text-align: right;\">0.0482</td>\n",
       "    </tr>\n",
       "    <tr>\n",
       "      <td class = \"rowLabel\" style = \"font-weight: bold; text-align: right;\">10</td>\n",
       "      <td style = \"text-align: right;\">0.0516</td>\n",
       "      <td style = \"text-align: right;\">0.0364</td>\n",
       "    </tr>\n",
       "    <tr>\n",
       "      <td class = \"rowLabel\" style = \"font-weight: bold; text-align: right;\">25</td>\n",
       "      <td style = \"text-align: right;\">0.0204</td>\n",
       "      <td style = \"text-align: right;\">0.0209</td>\n",
       "    </tr>\n",
       "  </tbody>\n",
       "</table>\n"
      ]
     },
     "metadata": {},
     "output_type": "display_data"
    },
    {
     "data": {
      "text/html": [
       "<table>\n",
       "  <caption style = \"text-align: left;\">Skewness</caption>\n",
       "  <thead>\n",
       "    <tr class = \"header headerLastRow\">\n",
       "      <th class = \"rowLabel\" style = \"font-weight: bold; text-align: right;\"></th>\n",
       "      <th style = \"text-align: right;\">Total_Stock_CPI</th>\n",
       "      <th style = \"text-align: right;\">Price_10Y_CPI</th>\n",
       "    </tr>\n",
       "  </thead>\n",
       "  <tbody>\n",
       "    <tr>\n",
       "      <td class = \"rowLabel\" style = \"font-weight: bold; text-align: right;\">1</td>\n",
       "      <td style = \"text-align: right;\">-0.5911</td>\n",
       "      <td style = \"text-align: right;\">0.6555</td>\n",
       "    </tr>\n",
       "    <tr>\n",
       "      <td class = \"rowLabel\" style = \"font-weight: bold; text-align: right;\">5</td>\n",
       "      <td style = \"text-align: right;\">-0.0528</td>\n",
       "      <td style = \"text-align: right;\">0.3998</td>\n",
       "    </tr>\n",
       "    <tr>\n",
       "      <td class = \"rowLabel\" style = \"font-weight: bold; text-align: right;\">10</td>\n",
       "      <td style = \"text-align: right;\">-0.4305</td>\n",
       "      <td style = \"text-align: right;\">0.0251</td>\n",
       "    </tr>\n",
       "    <tr>\n",
       "      <td class = \"rowLabel\" style = \"font-weight: bold; text-align: right;\">25</td>\n",
       "      <td style = \"text-align: right;\">0.1266</td>\n",
       "      <td style = \"text-align: right;\">-0.4484</td>\n",
       "    </tr>\n",
       "  </tbody>\n",
       "</table>\n"
      ]
     },
     "metadata": {},
     "output_type": "display_data"
    },
    {
     "data": {
      "text/html": [
       "<table>\n",
       "  <caption style = \"text-align: left;\">Kurtosis</caption>\n",
       "  <thead>\n",
       "    <tr class = \"header headerLastRow\">\n",
       "      <th class = \"rowLabel\" style = \"font-weight: bold; text-align: right;\"></th>\n",
       "      <th style = \"text-align: right;\">Total_Stock_CPI</th>\n",
       "      <th style = \"text-align: right;\">Price_10Y_CPI</th>\n",
       "    </tr>\n",
       "  </thead>\n",
       "  <tbody>\n",
       "    <tr>\n",
       "      <td class = \"rowLabel\" style = \"font-weight: bold; text-align: right;\">1</td>\n",
       "      <td style = \"text-align: right;\">0.6416</td>\n",
       "      <td style = \"text-align: right;\">0.9705</td>\n",
       "    </tr>\n",
       "    <tr>\n",
       "      <td class = \"rowLabel\" style = \"font-weight: bold; text-align: right;\">5</td>\n",
       "      <td style = \"text-align: right;\">-0.5279</td>\n",
       "      <td style = \"text-align: right;\">0.3175</td>\n",
       "    </tr>\n",
       "    <tr>\n",
       "      <td class = \"rowLabel\" style = \"font-weight: bold; text-align: right;\">10</td>\n",
       "      <td style = \"text-align: right;\">-0.9003</td>\n",
       "      <td style = \"text-align: right;\">-0.8823</td>\n",
       "    </tr>\n",
       "    <tr>\n",
       "      <td class = \"rowLabel\" style = \"font-weight: bold; text-align: right;\">25</td>\n",
       "      <td style = \"text-align: right;\">-0.8975</td>\n",
       "      <td style = \"text-align: right;\">-0.5487</td>\n",
       "    </tr>\n",
       "  </tbody>\n",
       "</table>\n"
      ]
     },
     "metadata": {},
     "output_type": "display_data"
    },
    {
     "data": {
      "text/html": [
       "<table>\n",
       "  <caption style = \"text-align: left;\">Total_Stock_CPI</caption>\n",
       "  <thead>\n",
       "    <tr class = \"header headerLastRow\">\n",
       "      <th class = \"rowLabel\" style = \"font-weight: bold; text-align: right;\"></th>\n",
       "      <th style = \"text-align: right;\">0.01</th>\n",
       "      <th style = \"text-align: right;\">0.025</th>\n",
       "      <th style = \"text-align: right;\">0.05</th>\n",
       "      <th style = \"text-align: right;\">0.25</th>\n",
       "      <th style = \"text-align: right;\">0.5</th>\n",
       "      <th style = \"text-align: right;\">0.75</th>\n",
       "      <th style = \"text-align: right;\">0.95</th>\n",
       "      <th style = \"text-align: right;\">0.975</th>\n",
       "      <th style = \"text-align: right;\">0.99</th>\n",
       "    </tr>\n",
       "  </thead>\n",
       "  <tbody>\n",
       "    <tr>\n",
       "      <td class = \"rowLabel\" style = \"font-weight: bold; text-align: right;\">1</td>\n",
       "      <td style = \"text-align: right;\">-0.3557</td>\n",
       "      <td style = \"text-align: right;\">-0.2426</td>\n",
       "      <td style = \"text-align: right;\">-0.1751</td>\n",
       "      <td style = \"text-align: right;\">-0.0246</td>\n",
       "      <td style = \"text-align: right;\">0.085</td>\n",
       "      <td style = \"text-align: right;\">0.1796</td>\n",
       "      <td style = \"text-align: right;\">0.282</td>\n",
       "      <td style = \"text-align: right;\">0.3157</td>\n",
       "      <td style = \"text-align: right;\">0.3497</td>\n",
       "    </tr>\n",
       "    <tr>\n",
       "      <td class = \"rowLabel\" style = \"font-weight: bold; text-align: right;\">5</td>\n",
       "      <td style = \"text-align: right;\">-0.0845</td>\n",
       "      <td style = \"text-align: right;\">-0.0623</td>\n",
       "      <td style = \"text-align: right;\">-0.0507</td>\n",
       "      <td style = \"text-align: right;\">0.0087</td>\n",
       "      <td style = \"text-align: right;\">0.0731</td>\n",
       "      <td style = \"text-align: right;\">0.1082</td>\n",
       "      <td style = \"text-align: right;\">0.1871</td>\n",
       "      <td style = \"text-align: right;\">0.2037</td>\n",
       "      <td style = \"text-align: right;\">0.2153</td>\n",
       "    </tr>\n",
       "    <tr>\n",
       "      <td class = \"rowLabel\" style = \"font-weight: bold; text-align: right;\">10</td>\n",
       "      <td style = \"text-align: right;\">-0.0447</td>\n",
       "      <td style = \"text-align: right;\">-0.037</td>\n",
       "      <td style = \"text-align: right;\">-0.0297</td>\n",
       "      <td style = \"text-align: right;\">0.0125</td>\n",
       "      <td style = \"text-align: right;\">0.068</td>\n",
       "      <td style = \"text-align: right;\">0.0989</td>\n",
       "      <td style = \"text-align: right;\">0.1349</td>\n",
       "      <td style = \"text-align: right;\">0.1397</td>\n",
       "      <td style = \"text-align: right;\">0.1431</td>\n",
       "    </tr>\n",
       "    <tr>\n",
       "      <td class = \"rowLabel\" style = \"font-weight: bold; text-align: right;\">25</td>\n",
       "      <td style = \"text-align: right;\">0.0249</td>\n",
       "      <td style = \"text-align: right;\">0.0272</td>\n",
       "      <td style = \"text-align: right;\">0.03</td>\n",
       "      <td style = \"text-align: right;\">0.0414</td>\n",
       "      <td style = \"text-align: right;\">0.0644</td>\n",
       "      <td style = \"text-align: right;\">0.0726</td>\n",
       "      <td style = \"text-align: right;\">0.0951</td>\n",
       "      <td style = \"text-align: right;\">0.0998</td>\n",
       "      <td style = \"text-align: right;\">0.1023</td>\n",
       "    </tr>\n",
       "  </tbody>\n",
       "</table>\n"
      ]
     },
     "metadata": {},
     "output_type": "display_data"
    },
    {
     "data": {
      "text/html": [
       "<table>\n",
       "  <caption style = \"text-align: left;\">Price_10Y_CPI</caption>\n",
       "  <thead>\n",
       "    <tr class = \"header headerLastRow\">\n",
       "      <th class = \"rowLabel\" style = \"font-weight: bold; text-align: right;\"></th>\n",
       "      <th style = \"text-align: right;\">0.01</th>\n",
       "      <th style = \"text-align: right;\">0.025</th>\n",
       "      <th style = \"text-align: right;\">0.05</th>\n",
       "      <th style = \"text-align: right;\">0.25</th>\n",
       "      <th style = \"text-align: right;\">0.5</th>\n",
       "      <th style = \"text-align: right;\">0.75</th>\n",
       "      <th style = \"text-align: right;\">0.95</th>\n",
       "      <th style = \"text-align: right;\">0.975</th>\n",
       "      <th style = \"text-align: right;\">0.99</th>\n",
       "    </tr>\n",
       "  </thead>\n",
       "  <tbody>\n",
       "    <tr>\n",
       "      <td class = \"rowLabel\" style = \"font-weight: bold; text-align: right;\">1</td>\n",
       "      <td style = \"text-align: right;\">-0.1743</td>\n",
       "      <td style = \"text-align: right;\">-0.1361</td>\n",
       "      <td style = \"text-align: right;\">-0.1104</td>\n",
       "      <td style = \"text-align: right;\">-0.0379</td>\n",
       "      <td style = \"text-align: right;\">0.0142</td>\n",
       "      <td style = \"text-align: right;\">0.078</td>\n",
       "      <td style = \"text-align: right;\">0.2014</td>\n",
       "      <td style = \"text-align: right;\">0.2781</td>\n",
       "      <td style = \"text-align: right;\">0.2981</td>\n",
       "    </tr>\n",
       "    <tr>\n",
       "      <td class = \"rowLabel\" style = \"font-weight: bold; text-align: right;\">5</td>\n",
       "      <td style = \"text-align: right;\">-0.0778</td>\n",
       "      <td style = \"text-align: right;\">-0.0693</td>\n",
       "      <td style = \"text-align: right;\">-0.0434</td>\n",
       "      <td style = \"text-align: right;\">-0.0087</td>\n",
       "      <td style = \"text-align: right;\">0.0196</td>\n",
       "      <td style = \"text-align: right;\">0.0558</td>\n",
       "      <td style = \"text-align: right;\">0.1019</td>\n",
       "      <td style = \"text-align: right;\">0.1413</td>\n",
       "      <td style = \"text-align: right;\">0.1578</td>\n",
       "    </tr>\n",
       "    <tr>\n",
       "      <td class = \"rowLabel\" style = \"font-weight: bold; text-align: right;\">10</td>\n",
       "      <td style = \"text-align: right;\">-0.0477</td>\n",
       "      <td style = \"text-align: right;\">-0.0437</td>\n",
       "      <td style = \"text-align: right;\">-0.0261</td>\n",
       "      <td style = \"text-align: right;\">-0.0052</td>\n",
       "      <td style = \"text-align: right;\">0.0331</td>\n",
       "      <td style = \"text-align: right;\">0.0534</td>\n",
       "      <td style = \"text-align: right;\">0.0866</td>\n",
       "      <td style = \"text-align: right;\">0.0929</td>\n",
       "      <td style = \"text-align: right;\">0.0977</td>\n",
       "    </tr>\n",
       "    <tr>\n",
       "      <td class = \"rowLabel\" style = \"font-weight: bold; text-align: right;\">25</td>\n",
       "      <td style = \"text-align: right;\">-0.0174</td>\n",
       "      <td style = \"text-align: right;\">-0.0156</td>\n",
       "      <td style = \"text-align: right;\">-0.0113</td>\n",
       "      <td style = \"text-align: right;\">0.0135</td>\n",
       "      <td style = \"text-align: right;\">0.0328</td>\n",
       "      <td style = \"text-align: right;\">0.0444</td>\n",
       "      <td style = \"text-align: right;\">0.0612</td>\n",
       "      <td style = \"text-align: right;\">0.0629</td>\n",
       "      <td style = \"text-align: right;\">0.0639</td>\n",
       "    </tr>\n",
       "  </tbody>\n",
       "</table>\n"
      ]
     },
     "metadata": {},
     "output_type": "display_data"
    }
   ],
   "source": [
    "scenarios = overlapping_windows(values(data), 25*freq)\n",
    "\n",
    "periods = [1,5, 10, 25]\n",
    "ret_in_years = cum_returns_in_periods(scenarios, periods, freq, true)\n",
    "print_scenarios_summary(ret_in_years, assets_names, string.(periods))\n",
    "n_assets = length(assets_names)\n",
    "for a in 1:n_assets\n",
    "    print_scenarios_percentiles(ret_in_years[a, :, :], [.01, .025, .05, .25, .5, .75, .95, .975, .99], string.(periods), string.(assets_names[a]))\n",
    "end  \n"
   ]
  },
  {
   "cell_type": "code",
   "execution_count": 39,
   "id": "6ce510da",
   "metadata": {},
   "outputs": [
    {
     "data": {
      "text/plain": [
       ":Total_Stock_CPI"
      ]
     },
     "metadata": {},
     "output_type": "display_data"
    },
    {
     "data": {
      "text/plain": [
       "\"mdd\""
      ]
     },
     "metadata": {},
     "output_type": "display_data"
    },
    {
     "data": {
      "text/plain": [
       "1×5 adjoint(::Vector{Float64}) with eltype Float64:\n",
       " 0.266117  0.496279  0.499561  0.516744  0.516744"
      ]
     },
     "metadata": {},
     "output_type": "display_data"
    },
    {
     "data": {
      "text/plain": [
       "\"mddl\""
      ]
     },
     "metadata": {},
     "output_type": "display_data"
    },
    {
     "data": {
      "text/plain": [
       "1×5 adjoint(::Vector{Float64}) with eltype Float64:\n",
       " 36.05  99.0  144.0  153.0  153.0"
      ]
     },
     "metadata": {},
     "output_type": "display_data"
    },
    {
     "data": {
      "text/plain": [
       ":Price_10Y_CPI"
      ]
     },
     "metadata": {},
     "output_type": "display_data"
    },
    {
     "data": {
      "text/plain": [
       "\"mdd\""
      ]
     },
     "metadata": {},
     "output_type": "display_data"
    },
    {
     "data": {
      "text/plain": [
       "1×5 adjoint(::Vector{Float64}) with eltype Float64:\n",
       " 0.12387  0.132702  0.397277  0.454945  0.468699"
      ]
     },
     "metadata": {},
     "output_type": "display_data"
    },
    {
     "data": {
      "text/plain": [
       "\"mddl\""
      ]
     },
     "metadata": {},
     "output_type": "display_data"
    },
    {
     "data": {
      "text/plain": [
       "1×5 adjoint(::Vector{Float64}) with eltype Float64:\n",
       " 33.05  54.0  91.0  171.0  223.0"
      ]
     },
     "metadata": {},
     "output_type": "display_data"
    }
   ],
   "source": [
    "mdd, mddl = max_drawdown_and_length(scenarios[1,:,:])\n",
    "\n",
    "display(assets_names[1])\n",
    "display(\"mdd\")\n",
    "display(quantile(mdd, [.03, .25, .5, .75, .97])')\n",
    "display(\"mddl\")\n",
    "display(quantile(mddl, [.03, .25, .5, .75, .97])')\n",
    "\n",
    "mdd, mddl = max_drawdown_and_length(scenarios[2,:,:])\n",
    "\n",
    "display(assets_names[2])\n",
    "display(\"mdd\")\n",
    "display(quantile(mdd, [.03, .25, .5, .75, .97])')\n",
    "display(\"mddl\")\n",
    "display(quantile(mddl, [.03, .25, .5, .75, .97])')"
   ]
  }
 ],
 "metadata": {
  "kernelspec": {
   "display_name": "Julia 1.11.2",
   "language": "julia",
   "name": "julia-1.11"
  },
  "language_info": {
   "file_extension": ".jl",
   "mimetype": "application/julia",
   "name": "julia",
   "version": "1.11.2"
  }
 },
 "nbformat": 4,
 "nbformat_minor": 5
}
