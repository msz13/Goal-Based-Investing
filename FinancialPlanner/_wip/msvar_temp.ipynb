{
 "cells": [
  {
   "cell_type": "code",
   "execution_count": 38,
   "metadata": {},
   "outputs": [],
   "source": [
    "using Revise\n",
    "using Distributions, LinearAlgebra, StatsBase\n",
    "using Test"
   ]
  },
  {
   "cell_type": "code",
   "execution_count": 39,
   "metadata": {},
   "outputs": [],
   "source": [
    "includet(\"msvar_temp.jl\")\n"
   ]
  },
  {
   "cell_type": "code",
   "execution_count": 40,
   "metadata": {},
   "outputs": [
    {
     "data": {
      "text/plain": [
       "2-element Vector{Float64}:\n",
       " 0.928125\n",
       " 0.08125"
      ]
     },
     "metadata": {},
     "output_type": "display_data"
    }
   ],
   "source": [
    "St = [.9, .1]\n",
    "St1 = [.8, .2]\n",
    "St1T = [.85, .15]\n",
    "\n",
    "transition_matrix = [.9 .1;.2 .8]\n",
    "\n",
    "r = transition_matrix * (St1T ./ St1) .* St\n",
    "\n"
   ]
  },
  {
   "cell_type": "code",
   "execution_count": 41,
   "metadata": {},
   "outputs": [
    {
     "data": {
      "text/plain": [
       "0.09869087727942837"
      ]
     },
     "metadata": {},
     "output_type": "display_data"
    },
    {
     "data": {
      "text/plain": [
       "0.1312189436489359"
      ]
     },
     "metadata": {},
     "output_type": "display_data"
    },
    {
     "data": {
      "text/plain": [
       "-1.260538366868947"
      ]
     },
     "metadata": {},
     "output_type": "display_data"
    },
    {
     "data": {
      "text/plain": [
       "3.452835806344594"
      ]
     },
     "metadata": {},
     "output_type": "display_data"
    }
   ],
   "source": [
    "n_samples = 10_000\n",
    "regimes = sample([1,2], ProbabilityWeights([0.8, 0.2]), n_samples)\n",
    "\n",
    "dist1 = Normal(.13,.08)\n",
    "dist2 = Normal(-.03, .2)\n",
    "\n",
    "\n",
    "samples = zeros(n_samples)\n",
    "\n",
    "for s in 1:n_samples\n",
    "    if regimes[s] == 1\n",
    "        samples[s] = rand(dist1)\n",
    "    else \n",
    "        samples[s] = rand(dist2)\n",
    "    end\n",
    "end\n",
    "\n",
    "display(mean(samples))\n",
    "display(std(samples))\n",
    "display(skewness(samples))\n",
    "display(kurtosis(samples))\n",
    "\n"
   ]
  },
  {
   "cell_type": "code",
   "execution_count": 42,
   "metadata": {},
   "outputs": [
    {
     "data": {
      "text/plain": [
       "0.09577983513731654"
      ]
     },
     "metadata": {},
     "output_type": "display_data"
    },
    {
     "data": {
      "text/plain": [
       "0.11397424644853196"
      ]
     },
     "metadata": {},
     "output_type": "display_data"
    },
    {
     "data": {
      "text/plain": [
       "0.03912169301243186"
      ]
     },
     "metadata": {},
     "output_type": "display_data"
    },
    {
     "data": {
      "text/plain": [
       "0.01382103721418293"
      ]
     },
     "metadata": {},
     "output_type": "display_data"
    }
   ],
   "source": [
    "mu = [0.8, 0.2]' * [.13, -.03]\n",
    "sig = sqrt([0.8, 0.2]' * [.08^2, .2^2])\n",
    "\n",
    "samples = rand(Normal(mu, sig), n_samples)\n",
    "\n",
    "display(mean(samples))\n",
    "display(std(samples))\n",
    "display(skewness(samples))\n",
    "display(kurtosis(samples))"
   ]
  },
  {
   "cell_type": "code",
   "execution_count": 43,
   "metadata": {},
   "outputs": [
    {
     "data": {
      "text/plain": [
       "0.1312097557348538"
      ]
     },
     "metadata": {},
     "output_type": "display_data"
    }
   ],
   "source": [
    "var = .8(1-.8)*(.13+.03)^2 + .8 * .08^2 + (1-.8) * .2^2\n",
    "\n",
    "sqrt(var)"
   ]
  },
  {
   "cell_type": "markdown",
   "metadata": {},
   "source": [
    "Simulate MSVAR TODO \n",
    "- first period simulate regimes\n",
    "- simulate returns for every scenarios\n",
    "- for next periods:\n",
    "  - simulate regime based on current regime and transition matrix\n",
    "  - siumlate returns based on regime\n",
    "\n",
    "Two regimes, tree regimes, constand means, coeff, sigmas.\n",
    "\n"
   ]
  },
  {
   "cell_type": "code",
   "execution_count": 64,
   "metadata": {},
   "outputs": [
    {
     "data": {
      "text/plain": [
       "2000-element Vector{Int64}:\n",
       " 2\n",
       " 1\n",
       " 1\n",
       " 1\n",
       " 2\n",
       " 2\n",
       " 2\n",
       " 1\n",
       " 1\n",
       " 1\n",
       " ⋮\n",
       " 1\n",
       " 1\n",
       " 1\n",
       " 1\n",
       " 2\n",
       " 1\n",
       " 2\n",
       " 2\n",
       " 1"
      ]
     },
     "metadata": {},
     "output_type": "display_data"
    },
    {
     "data": {
      "text/plain": [
       "\u001b[32m\u001b[1mTest Passed\u001b[22m\u001b[39m"
      ]
     },
     "metadata": {},
     "output_type": "display_data"
    }
   ],
   "source": [
    "X = [.12, .06]\n",
    "\n",
    "transition_matrix = [.9 .1;.2 .8]\n",
    "\n",
    "states_zero = [.67, .33]\n",
    "\n",
    "\n",
    "Β1 = [.08 .3 .2; .03 .1 .6]\n",
    "Σ1 = cor2cov([1 .3; .3 1], [.15, .03])\n",
    "Β2 = [.085 .35 .25; .035 .15 .63]\n",
    "Σ2 = cor2cov([1 .35; .35 1], [.16, .035])\n",
    " \n",
    "\n",
    "regimes = simulate_next_regimes(states_zero, transition_matrix, 2_000)\n",
    "display(regimes)\n",
    "result = simulate_returns_step(regimes, [Β1, Β2], [Σ1, Σ2], repeat(X, 1, 2_000))\n",
    "\n",
    "@test mean(result, dims=2) ≈ [.132, .081] atol=.009\n",
    "\n"
   ]
  },
  {
   "cell_type": "code",
   "execution_count": 45,
   "metadata": {},
   "outputs": [
    {
     "data": {
      "text/plain": [
       "3×10 Matrix{Float64}:\n",
       " 1.0   1.0   1.0   1.0   1.0   1.0   1.0   1.0   1.0   1.0\n",
       " 0.12  0.12  0.12  0.12  0.12  0.12  0.12  0.12  0.12  0.12\n",
       " 0.06  0.06  0.06  0.06  0.06  0.06  0.06  0.06  0.06  0.06"
      ]
     },
     "metadata": {},
     "output_type": "display_data"
    }
   ],
   "source": [
    "n_scenarios = 10\n",
    "\n",
    "X1 = add_intercept(repeat(X, 1, n_scenarios), n_scenarios)"
   ]
  },
  {
   "cell_type": "code",
   "execution_count": 46,
   "metadata": {},
   "outputs": [
    {
     "data": {
      "text/plain": [
       "2×10 Matrix{Float64}:\n",
       " 0.12  0.12  0.12  0.12  0.12  0.12  0.12  0.12  0.12  0.12\n",
       " 0.06  0.06  0.06  0.06  0.06  0.06  0.06  0.06  0.06  0.06"
      ]
     },
     "metadata": {},
     "output_type": "display_data"
    }
   ],
   "source": [
    "repeat(X, 1, n_scenarios)"
   ]
  },
  {
   "cell_type": "code",
   "execution_count": 47,
   "metadata": {},
   "outputs": [
    {
     "data": {
      "text/plain": [
       "\u001b[32m\u001b[1mTest Passed\u001b[22m\u001b[39m"
      ]
     },
     "metadata": {},
     "output_type": "display_data"
    }
   ],
   "source": [
    "result1 = simulate_msvar(transition_matrix, [Β1, Β1], [Σ1, Σ2], X, states_zero, 3, 2_000)\n",
    "@test mean(result1[:,1,:], dims=2) ≈ [.132, .081] atol=.009\n"
   ]
  },
  {
   "cell_type": "code",
   "execution_count": 48,
   "metadata": {},
   "outputs": [
    {
     "data": {
      "text/plain": [
       "0.12656290820042565"
      ]
     },
     "metadata": {},
     "output_type": "display_data"
    },
    {
     "data": {
      "text/plain": [
       "0.1527488750163373"
      ]
     },
     "metadata": {},
     "output_type": "display_data"
    },
    {
     "data": {
      "text/plain": [
       "-0.18914630262819765"
      ]
     },
     "metadata": {},
     "output_type": "display_data"
    },
    {
     "data": {
      "text/plain": [
       "-0.0031198403721912626"
      ]
     },
     "metadata": {},
     "output_type": "display_data"
    }
   ],
   "source": [
    "display(mean(result1[1,1,:]))\n",
    "display(std(result1[1,1,:]))\n",
    "display(skewness(result1[1,1,:]))\n",
    "display(kurtosis(result1[1,1,:]))"
   ]
  },
  {
   "cell_type": "code",
   "execution_count": 49,
   "metadata": {},
   "outputs": [
    {
     "data": {
      "text/plain": [
       "\u001b[32m\u001b[1mTest Passed\u001b[22m\u001b[39m"
      ]
     },
     "metadata": {},
     "output_type": "display_data"
    }
   ],
   "source": [
    "regimes2 = simulate_next_regimes_for_previous_regimes(regimes, transition_matrix)\n",
    "\n",
    "expected_n_regime_one = (0.7 * 0.9 + 0.3 * 0.2) * 2000\n",
    "@test count(i -> i == 1, regimes2 ) ≈ 1380 atol=80"
   ]
  },
  {
   "cell_type": "code",
   "execution_count": 50,
   "metadata": {},
   "outputs": [
    {
     "data": {
      "text/plain": [
       "2×1 Matrix{Float64}:\n",
       " 0.13500469027033124\n",
       " 0.08992705844880507"
      ]
     },
     "metadata": {},
     "output_type": "display_data"
    }
   ],
   "source": [
    "result = simulate_msvar(transition_matrix, [Β1, Β1], [Σ1, Σ2], X, states_zero, 3, 2_000)\n",
    "\n",
    "mean(result[:,2,:],dims=2)"
   ]
  },
  {
   "cell_type": "code",
   "execution_count": 51,
   "metadata": {},
   "outputs": [
    {
     "data": {
      "text/plain": [
       "2×1 Matrix{Float64}:\n",
       " 0.13548922946663902\n",
       " 0.09818230279791298"
      ]
     },
     "metadata": {},
     "output_type": "display_data"
    }
   ],
   "source": [
    "result = simulate_msvar(transition_matrix, [Β1, Β1], [Σ1, Σ2], X, states_zero, 3, 2_000)\n",
    "\n",
    "mean(result[:,3,:],dims=2)"
   ]
  },
  {
   "cell_type": "code",
   "execution_count": 52,
   "metadata": {},
   "outputs": [
    {
     "data": {
      "text/plain": [
       "\"T1\""
      ]
     },
     "metadata": {},
     "output_type": "display_data"
    },
    {
     "data": {
      "text/plain": [
       "0.13831945157705094"
      ]
     },
     "metadata": {},
     "output_type": "display_data"
    },
    {
     "data": {
      "text/plain": [
       "0.12225820431026627"
      ]
     },
     "metadata": {},
     "output_type": "display_data"
    },
    {
     "data": {
      "text/plain": [
       "-0.0022017047378315446"
      ]
     },
     "metadata": {},
     "output_type": "display_data"
    },
    {
     "data": {
      "text/plain": [
       "2.0366475587028665"
      ]
     },
     "metadata": {},
     "output_type": "display_data"
    },
    {
     "data": {
      "text/plain": [
       "\"T10\""
      ]
     },
     "metadata": {},
     "output_type": "display_data"
    },
    {
     "data": {
      "text/plain": [
       "0.1604135506836415"
      ]
     },
     "metadata": {},
     "output_type": "display_data"
    },
    {
     "data": {
      "text/plain": [
       "0.1301724704221378"
      ]
     },
     "metadata": {},
     "output_type": "display_data"
    },
    {
     "data": {
      "text/plain": [
       "-0.0008298468601871306"
      ]
     },
     "metadata": {},
     "output_type": "display_data"
    },
    {
     "data": {
      "text/plain": [
       "1.8470822840766736"
      ]
     },
     "metadata": {},
     "output_type": "display_data"
    }
   ],
   "source": [
    "X = [.12, .06]\n",
    "\n",
    "transition_matrix = [.9 .1;.2 .8]\n",
    "\n",
    "states_zero = [.67, .33]\n",
    "\n",
    "\n",
    "Β1 = [.09 .3 .2; .03 .1 .6]\n",
    "Σ1 = cor2cov([1 .3; .3 1], [.08, .03])\n",
    "Β2 = [-.02 .35 .25; .035 .15 .63]\n",
    "Σ2 = cor2cov([1 .35; .35 1], [.18, .035])\n",
    "\n",
    "result = simulate_msvar(transition_matrix, [Β1, Β1], [Σ1, Σ2], X, states_zero, 120, 100_000)\n",
    "\n",
    "display(\"T1\")\n",
    "display(mean(result[1,1,:]))\n",
    "display(std(result[1,1,:]))\n",
    "display(skewness(result[1,1,:]))\n",
    "display(kurtosis(result[1,1,:]))\n",
    "\n",
    "display(\"T10\")\n",
    "display(mean(result[1,10,:]))\n",
    "display(std(result[1,10,:]))\n",
    "display(skewness(result[1,10,:]))\n",
    "display(kurtosis(result[1,10,:]))"
   ]
  },
  {
   "cell_type": "markdown",
   "metadata": {},
   "source": [
    "expected mean \n",
    "for regime 1 \n",
    "prob regime one, previous regime one mean, \n",
    "prob regime 2 to 1, previous regime two mean"
   ]
  },
  {
   "cell_type": "code",
   "execution_count": 53,
   "metadata": {},
   "outputs": [
    {
     "data": {
      "text/plain": [
       "200.70000000000002"
      ]
     },
     "metadata": {},
     "output_type": "display_data"
    }
   ],
   "source": [
    "0.669 * 300 "
   ]
  },
  {
   "cell_type": "code",
   "execution_count": 54,
   "metadata": {},
   "outputs": [
    {
     "data": {
      "text/plain": [
       "1×2 Matrix{Float64}:\n",
       " 0.128  0.078"
      ]
     },
     "metadata": {},
     "output_type": "display_data"
    }
   ],
   "source": [
    "Β1 = [.08 .3 .2; .03 .1 .6]'\n",
    "X = [1. .12 .06]\n",
    "\n",
    "X * Β1"
   ]
  },
  {
   "cell_type": "code",
   "execution_count": 55,
   "metadata": {},
   "outputs": [
    {
     "data": {
      "text/plain": [
       "1×2 Matrix{Float64}:\n",
       " 0.142  0.0908"
      ]
     },
     "metadata": {},
     "output_type": "display_data"
    }
   ],
   "source": [
    "Β2 = [.085 .35 .25; .035 .15 .63]'\n",
    "Σ2 = cor2cov([1 .35; .35 1], [.16, .035])\n",
    "\n",
    "X * Β2"
   ]
  },
  {
   "cell_type": "code",
   "execution_count": 56,
   "metadata": {},
   "outputs": [
    {
     "data": {
      "text/plain": [
       "0.13219999999999998"
      ]
     },
     "metadata": {},
     "output_type": "display_data"
    }
   ],
   "source": [
    ".7 * .128 + .3 * .142 "
   ]
  },
  {
   "cell_type": "code",
   "execution_count": 57,
   "metadata": {},
   "outputs": [
    {
     "data": {
      "text/plain": [
       "0.08184"
      ]
     },
     "metadata": {},
     "output_type": "display_data"
    }
   ],
   "source": [
    ".7 * .078 + .3 * .0908"
   ]
  },
  {
   "cell_type": "code",
   "execution_count": 58,
   "metadata": {},
   "outputs": [
    {
     "data": {
      "text/plain": [
       "0.128"
      ]
     },
     "metadata": {},
     "output_type": "display_data"
    }
   ],
   "source": [
    ".08 * 1 + .3 * .12 + .2 * .06"
   ]
  },
  {
   "cell_type": "code",
   "execution_count": 59,
   "metadata": {},
   "outputs": [
    {
     "data": {
      "text/plain": [
       "2×1 Matrix{Float64}:\n",
       " 0.15000000000000002\n",
       " 0.35"
      ]
     },
     "metadata": {},
     "output_type": "display_data"
    }
   ],
   "source": [
    "mean([.1 .2; .3 .4], dims=2)"
   ]
  },
  {
   "cell_type": "code",
   "execution_count": 60,
   "metadata": {},
   "outputs": [
    {
     "data": {
      "text/plain": [
       "2×2 Matrix{Float64}:\n",
       " 0.0064   0.00072\n",
       " 0.00072  0.0009"
      ]
     },
     "metadata": {},
     "output_type": "display_data"
    }
   ],
   "source": [
    "Σ1"
   ]
  },
  {
   "cell_type": "code",
   "execution_count": 61,
   "metadata": {},
   "outputs": [
    {
     "data": {
      "text/plain": [
       "2×2 LowerTriangular{Float64, Matrix{Float64}}:\n",
       " 0.08    ⋅ \n",
       " 0.009  0.0286182"
      ]
     },
     "metadata": {},
     "output_type": "display_data"
    }
   ],
   "source": [
    "cholesky(Σ1).L "
   ]
  },
  {
   "cell_type": "code",
   "execution_count": 62,
   "metadata": {},
   "outputs": [
    {
     "ename": "ArgumentError",
     "evalue": "ArgumentError: Package SimpleMock not found in current path, maybe you meant `import/using .SimpleMock`.\n- Otherwise, run `import Pkg; Pkg.add(\"SimpleMock\")` to install the SimpleMock package.",
     "output_type": "error",
     "traceback": [
      "ArgumentError: Package SimpleMock not found in current path, maybe you meant `import/using .SimpleMock`.\n",
      "- Otherwise, run `import Pkg; Pkg.add(\"SimpleMock\")` to install the SimpleMock package.\n",
      "\n",
      "Stacktrace:\n",
      "  [1] macro expansion\n",
      "    @ .\\loading.jl:2296 [inlined]\n",
      "  [2] macro expansion\n",
      "    @ .\\lock.jl:273 [inlined]\n",
      "  [3] __require(into::Module, mod::Symbol)\n",
      "    @ Base .\\loading.jl:2271\n",
      "  [4] #invoke_in_world#3\n",
      "    @ .\\essentials.jl:1089 [inlined]\n",
      "  [5] invoke_in_world\n",
      "    @ .\\essentials.jl:1086 [inlined]\n",
      "  [6] require(into::Module, mod::Symbol)\n",
      "    @ Base .\\loading.jl:2260\n",
      "  [7] eval\n",
      "    @ .\\boot.jl:430 [inlined]\n",
      "  [8] include_string(mapexpr::typeof(REPL.softscope), mod::Module, code::String, filename::String)\n",
      "    @ Base .\\loading.jl:2734\n",
      "  [9] #invokelatest#2\n",
      "    @ .\\essentials.jl:1055 [inlined]\n",
      " [10] invokelatest\n",
      "    @ .\\essentials.jl:1052 [inlined]\n",
      " [11] (::VSCodeServer.var\"#217#218\"{VSCodeServer.NotebookRunCellArguments, String})()\n",
      "    @ VSCodeServer c:\\Users\\matsz\\.vscode\\extensions\\julialang.language-julia-1.127.2\\scripts\\packages\\VSCodeServer\\src\\serve_notebook.jl:24\n",
      " [12] withpath(f::VSCodeServer.var\"#217#218\"{VSCodeServer.NotebookRunCellArguments, String}, path::String)\n",
      "    @ VSCodeServer c:\\Users\\matsz\\.vscode\\extensions\\julialang.language-julia-1.127.2\\scripts\\packages\\VSCodeServer\\src\\repl.jl:276\n",
      " [13] notebook_runcell_request(conn::VSCodeServer.JSONRPC.JSONRPCEndpoint{Base.PipeEndpoint, Base.PipeEndpoint}, params::VSCodeServer.NotebookRunCellArguments)\n",
      "    @ VSCodeServer c:\\Users\\matsz\\.vscode\\extensions\\julialang.language-julia-1.127.2\\scripts\\packages\\VSCodeServer\\src\\serve_notebook.jl:13\n",
      " [14] dispatch_msg(x::VSCodeServer.JSONRPC.JSONRPCEndpoint{Base.PipeEndpoint, Base.PipeEndpoint}, dispatcher::VSCodeServer.JSONRPC.MsgDispatcher, msg::Dict{String, Any})\n",
      "    @ VSCodeServer.JSONRPC c:\\Users\\matsz\\.vscode\\extensions\\julialang.language-julia-1.127.2\\scripts\\packages\\JSONRPC\\src\\typed.jl:67\n",
      " [15] serve_notebook(pipename::String, debugger_pipename::String, outputchannel_logger::Base.CoreLogging.SimpleLogger; error_handler::var\"#5#10\"{String})\n",
      "    @ VSCodeServer c:\\Users\\matsz\\.vscode\\extensions\\julialang.language-julia-1.127.2\\scripts\\packages\\VSCodeServer\\src\\serve_notebook.jl:147\n",
      " [16] top-level scope\n",
      "    @ c:\\Users\\matsz\\.vscode\\extensions\\julialang.language-julia-1.127.2\\scripts\\notebook\\notebook.jl:35"
     ]
    }
   ],
   "source": [
    "using SimpleMock, Distributions\n",
    "\n",
    "mock(rand => Mock(1)) do mockrand\n",
    "    rand(1:2) == 1\n",
    "    rand(Normal(0,2)) \n",
    "    called_with(mockrand, Normal(0,1))\n",
    "end\n"
   ]
  },
  {
   "cell_type": "code",
   "execution_count": 76,
   "metadata": {},
   "outputs": [
    {
     "data": {
      "text/plain": [
       "190.5"
      ]
     },
     "metadata": {},
     "output_type": "display_data"
    }
   ],
   "source": [
    ".635 * 300 "
   ]
  },
  {
   "cell_type": "code",
   "execution_count": 77,
   "metadata": {},
   "outputs": [
    {
     "data": {
      "text/plain": [
       "2-element Vector{Float64}:\n",
       " 0.6355000000000001\n",
       " 0.3645"
      ]
     },
     "metadata": {},
     "output_type": "display_data"
    }
   ],
   "source": [
    "transition_matrix = [.85 .15;.2 .8]\n",
    "r1 = transition_matrix' * states_zero"
   ]
  },
  {
   "cell_type": "code",
   "execution_count": 83,
   "metadata": {},
   "outputs": [
    {
     "data": {
      "text/plain": [
       "2-element Vector{Float64}:\n",
       " 0.613075\n",
       " 0.386925"
      ]
     },
     "metadata": {},
     "output_type": "display_data"
    },
    {
     "data": {
      "text/plain": [
       "2-element Vector{Float64}:\n",
       " 183.9225\n",
       " 116.0775"
      ]
     },
     "metadata": {},
     "output_type": "display_data"
    }
   ],
   "source": [
    "r2 = transition_matrix' * r1\n",
    "display(r2)\n",
    "r2 * 300 "
   ]
  },
  {
   "cell_type": "code",
   "execution_count": 73,
   "metadata": {},
   "outputs": [
    {
     "data": {
      "text/plain": [
       "190.8"
      ]
     },
     "metadata": {},
     "output_type": "display_data"
    }
   ],
   "source": [
    "0.636 * 300"
   ]
  },
  {
   "cell_type": "code",
   "execution_count": 90,
   "metadata": {},
   "outputs": [
    {
     "data": {
      "text/plain": [
       "2×2 Matrix{Float64}:\n",
       " 0.85  0.15\n",
       " 0.2   0.8"
      ]
     },
     "metadata": {},
     "output_type": "display_data"
    }
   ],
   "source": [
    "transition_matrix"
   ]
  },
  {
   "cell_type": "code",
   "execution_count": 104,
   "metadata": {},
   "outputs": [
    {
     "data": {
      "text/plain": [
       "8477"
      ]
     },
     "metadata": {},
     "output_type": "display_data"
    }
   ],
   "source": [
    "r1  = sample([1,2], ProbabilityWeights(transition_matrix[1,:]),10_000)\n",
    "count(i -> i==1, r1)"
   ]
  },
  {
   "cell_type": "code",
   "execution_count": 149,
   "metadata": {},
   "outputs": [
    {
     "data": {
      "text/plain": [
       "2-element Vector{Int64}:\n",
       " 844\n",
       " 156"
      ]
     },
     "metadata": {},
     "output_type": "display_data"
    }
   ],
   "source": [
    "rand(Multinomial(1000, [0.85, 0.15]))"
   ]
  },
  {
   "cell_type": "code",
   "execution_count": 144,
   "metadata": {},
   "outputs": [
    {
     "data": {
      "text/plain": [
       "2×2 Matrix{Float64}:\n",
       " 0.85  0.15\n",
       " 0.2   0.8"
      ]
     },
     "metadata": {},
     "output_type": "display_data"
    }
   ],
   "source": [
    "transition_matrix"
   ]
  },
  {
   "cell_type": "code",
   "execution_count": 145,
   "metadata": {},
   "outputs": [
    {
     "data": {
      "text/plain": [
       "2-element Vector{Float64}:\n",
       " 0.67\n",
       " 0.33"
      ]
     },
     "metadata": {},
     "output_type": "display_data"
    }
   ],
   "source": [
    "states_zero"
   ]
  },
  {
   "cell_type": "code",
   "execution_count": 148,
   "metadata": {},
   "outputs": [
    {
     "data": {
      "text/plain": [
       "0.6355"
      ]
     },
     "metadata": {},
     "output_type": "display_data"
    }
   ],
   "source": [
    ".67 * .85 + .33 * .2"
   ]
  },
  {
   "cell_type": "code",
   "execution_count": 150,
   "metadata": {},
   "outputs": [
    {
     "data": {
      "text/plain": [
       "1000-element Vector{Float64}:\n",
       " 0.32499698583498904\n",
       " 0.660982165391218\n",
       " 0.13836928847637464\n",
       " 0.32412470405698723\n",
       " 0.28267391076757464\n",
       " 0.08538186201125919\n",
       " 0.37832573921206114\n",
       " 0.9024006322052698\n",
       " 0.7567319491565474\n",
       " 0.9981730321916807\n",
       " ⋮\n",
       " 0.114603734035859\n",
       " 0.5013434304486624\n",
       " 0.4411966898229459\n",
       " 0.7909464943581676\n",
       " 0.6855369530698091\n",
       " 0.8221709222536435\n",
       " 0.9612315393783853\n",
       " 0.27905139569727366\n",
       " 0.2810082662828951"
      ]
     },
     "metadata": {},
     "output_type": "display_data"
    }
   ],
   "source": [
    "rand(1000)"
   ]
  },
  {
   "cell_type": "code",
   "execution_count": 155,
   "metadata": {},
   "outputs": [
    {
     "data": {
      "text/plain": [
       "Main.ESGModels"
      ]
     },
     "metadata": {},
     "output_type": "display_data"
    }
   ],
   "source": [
    "include(\"../src/ESGModels/ESGModels.jl\")"
   ]
  },
  {
   "cell_type": "code",
   "execution_count": 175,
   "metadata": {},
   "outputs": [
    {
     "data": {
      "text/plain": [
       "3×2 Matrix{Float64}:\n",
       " 0.6355    0.3645\n",
       " 0.613075  0.386925\n",
       " 0.598499  0.401501"
      ]
     },
     "metadata": {},
     "output_type": "display_data"
    },
    {
     "data": {
      "text/plain": [
       "2-element Vector{Float64}:\n",
       " 0.10118550000000001\n",
       " 0.0826656"
      ]
     },
     "metadata": {},
     "output_type": "display_data"
    },
    {
     "data": {
      "text/plain": [
       "2-element Vector{Float64}:\n",
       " 0.097883849343375\n",
       " 0.09456965659777503"
      ]
     },
     "metadata": {},
     "output_type": "display_data"
    }
   ],
   "source": [
    "X = [1, .12, .06]\n",
    "\n",
    "transition_matrix = [.85 .15;.2 .8]\n",
    "\n",
    "states_zero = [.67, .33]\n",
    "\n",
    "\n",
    "Β1 = [.09 .3 .2; .03 .1 .6]\n",
    "Σ1 = cor2cov([1 .3; .3 1], [.08, .03])\n",
    "Β2 = [-.02 .35 .25; .035 .15 .63]\n",
    "Σ2 = cor2cov([1 .35; .35 1], [.18, .035])\n",
    "\n",
    "using .ESGModels\n",
    "\n",
    "er= ESGModels.expected_regimes(states_zero, transition_matrix, 3)\n",
    "display(er)\n",
    "expected_returns_t1 = ESGModels.predict(Β1, X) * er[1,1] + predict(Β2,X) * er[1,2]\n",
    "display(expected_returns_t1)\n",
    "\n",
    "X2 = ESGModels.add_intercept(expected_returns_t1, 1)[:,1]\n",
    "\n",
    "expected_returns_t2_regime1 = ESGModels.predict(Β1, X2) * er[2,1] + predict(Β2,X2) * er[2,2]\n",
    "\n",
    "#t2_r1_returns = t1_returns_r1 * t11 + t1_returns_r2 * t21\n",
    "#t2_r2_returns = t1_returns_r1 * t12 + t1_returns_r2 * t22\n",
    "#returns = ???\n",
    "#t2r1 = r1 * t11 + r2 * t21 "
   ]
  },
  {
   "cell_type": "code",
   "execution_count": 186,
   "metadata": {},
   "outputs": [
    {
     "data": {
      "text/plain": [
       "2-element Vector{Float64}:\n",
       " 0.5714285714285715\n",
       " 0.4285714285714286"
      ]
     },
     "metadata": {},
     "output_type": "display_data"
    }
   ],
   "source": [
    "initial_states = [(transition_matrix[2,1]/(transition_matrix[2,1]+ transition_matrix[1,2])), transition_matrix[1,2]/(transition_matrix[2,1]+ transition_matrix[1,2])]\n"
   ]
  },
  {
   "cell_type": "code",
   "execution_count": 178,
   "metadata": {},
   "outputs": [
    {
     "data": {
      "text/plain": [
       "(2,)"
      ]
     },
     "metadata": {},
     "output_type": "display_data"
    },
    {
     "data": {
      "text/plain": [
       "(1, 2)"
      ]
     },
     "metadata": {},
     "output_type": "display_data"
    }
   ],
   "source": [
    "v = [1, 2]\n",
    "display(size(v))\n",
    "m = [1 2]\n",
    "display(size(m))"
   ]
  }
 ],
 "metadata": {
  "kernelspec": {
   "display_name": "Julia 1.11.2",
   "language": "julia",
   "name": "julia-1.11"
  },
  "language_info": {
   "file_extension": ".jl",
   "mimetype": "application/julia",
   "name": "julia",
   "version": "1.11.2"
  }
 },
 "nbformat": 4,
 "nbformat_minor": 2
}
