{
 "cells": [
  {
   "cell_type": "code",
   "execution_count": 23,
   "metadata": {},
   "outputs": [],
   "source": [
    "using Revise\n",
    "using Distributions, LinearAlgebra, StatsBase\n",
    "using Test"
   ]
  },
  {
   "cell_type": "code",
   "execution_count": 24,
   "metadata": {},
   "outputs": [],
   "source": [
    "includet(\"msvar_temp.jl\")\n"
   ]
  },
  {
   "cell_type": "code",
   "execution_count": 25,
   "metadata": {},
   "outputs": [
    {
     "data": {
      "text/plain": [
       "2-element Vector{Float64}:\n",
       " 0.928125\n",
       " 0.08125"
      ]
     },
     "metadata": {},
     "output_type": "display_data"
    }
   ],
   "source": [
    "St = [.9, .1]\n",
    "St1 = [.8, .2]\n",
    "St1T = [.85, .15]\n",
    "\n",
    "transition_matrix = [.9 .1;.2 .8]\n",
    "\n",
    "r = transition_matrix * (St1T ./ St1) .* St\n",
    "\n"
   ]
  },
  {
   "cell_type": "code",
   "execution_count": 26,
   "metadata": {},
   "outputs": [
    {
     "data": {
      "text/plain": [
       "0.09653642740550505"
      ]
     },
     "metadata": {},
     "output_type": "display_data"
    },
    {
     "data": {
      "text/plain": [
       "0.1332994430456781"
      ]
     },
     "metadata": {},
     "output_type": "display_data"
    },
    {
     "data": {
      "text/plain": [
       "-1.286506869693468"
      ]
     },
     "metadata": {},
     "output_type": "display_data"
    },
    {
     "data": {
      "text/plain": [
       "3.1989323604980395"
      ]
     },
     "metadata": {},
     "output_type": "display_data"
    }
   ],
   "source": [
    "n_samples = 10_000\n",
    "regimes = sample([1,2], ProbabilityWeights([0.8, 0.2]), n_samples)\n",
    "\n",
    "dist1 = Normal(.13,.08)\n",
    "dist2 = Normal(-.03, .2)\n",
    "\n",
    "\n",
    "samples = zeros(n_samples)\n",
    "\n",
    "for s in 1:n_samples\n",
    "    if regimes[s] == 1\n",
    "        samples[s] = rand(dist1)\n",
    "    else \n",
    "        samples[s] = rand(dist2)\n",
    "    end\n",
    "end\n",
    "\n",
    "display(mean(samples))\n",
    "display(std(samples))\n",
    "display(skewness(samples))\n",
    "display(kurtosis(samples))\n",
    "\n"
   ]
  },
  {
   "cell_type": "code",
   "execution_count": 27,
   "metadata": {},
   "outputs": [
    {
     "data": {
      "text/plain": [
       "0.0991838190796853"
      ]
     },
     "metadata": {},
     "output_type": "display_data"
    },
    {
     "data": {
      "text/plain": [
       "0.1148074393740439"
      ]
     },
     "metadata": {},
     "output_type": "display_data"
    },
    {
     "data": {
      "text/plain": [
       "-0.017941337482077345"
      ]
     },
     "metadata": {},
     "output_type": "display_data"
    },
    {
     "data": {
      "text/plain": [
       "0.007729280858885357"
      ]
     },
     "metadata": {},
     "output_type": "display_data"
    }
   ],
   "source": [
    "mu = [0.8, 0.2]' * [.13, -.03]\n",
    "sig = sqrt([0.8, 0.2]' * [.08^2, .2^2])\n",
    "\n",
    "samples = rand(Normal(mu, sig), n_samples)\n",
    "\n",
    "display(mean(samples))\n",
    "display(std(samples))\n",
    "display(skewness(samples))\n",
    "display(kurtosis(samples))"
   ]
  },
  {
   "cell_type": "code",
   "execution_count": 28,
   "metadata": {},
   "outputs": [
    {
     "data": {
      "text/plain": [
       "0.1312097557348538"
      ]
     },
     "metadata": {},
     "output_type": "display_data"
    }
   ],
   "source": [
    "var = .8(1-.8)*(.13+.03)^2 + .8 * .08^2 + (1-.8) * .2^2\n",
    "\n",
    "sqrt(var)"
   ]
  },
  {
   "cell_type": "markdown",
   "metadata": {},
   "source": [
    "Simulate MSVAR TODO \n",
    "- first period simulate regimes\n",
    "- simulate returns for every scenarios\n",
    "- for next periods:\n",
    "  - simulate regime based on current regime and transition matrix\n",
    "  - siumlate returns based on regime\n",
    "\n",
    "Two regimes, tree regimes, constand means, coeff, sigmas.\n",
    "\n"
   ]
  },
  {
   "cell_type": "code",
   "execution_count": 74,
   "metadata": {},
   "outputs": [
    {
     "data": {
      "text/plain": [
       "\u001b[32m\u001b[1mTest Passed\u001b[22m\u001b[39m"
      ]
     },
     "metadata": {},
     "output_type": "display_data"
    }
   ],
   "source": [
    "X = [.12, .06]\n",
    "\n",
    "transition_matrix = [.9 .1;.2 .8]\n",
    "\n",
    "states_zero = [.67, .33]\n",
    "\n",
    "\n",
    "Β1 = [.08 .3 .2; .03 .1 .6]\n",
    "Σ1 = cor2cov([1 .3; .3 1], [.15, .03])\n",
    "Β2 = [.085 .35 .25; .035 .15 .63]\n",
    "Σ2 = cor2cov([1 .35; .35 1], [.16, .035])\n",
    " \n",
    "\n",
    "regimes = simulate_next_regimes(states_zero, transition_matrix, 2_000)\n",
    "\n",
    "result = simulate_returns_step(regimes, [Β1, Β2], [Σ1, Σ2], repeat(X, 1, 2_000))\n",
    "\n",
    "@test mean(result, dims=2) ≈ [.132, .081] atol=.009\n",
    "\n"
   ]
  },
  {
   "cell_type": "code",
   "execution_count": 66,
   "metadata": {},
   "outputs": [
    {
     "data": {
      "text/plain": [
       "3×10 Matrix{Float64}:\n",
       "  1.0    1.0    1.0    1.0    1.0    1.0    1.0    1.0    1.0    1.0\n",
       " 12.0   12.0   12.0   12.0   12.0   12.0   12.0   12.0   12.0   12.0\n",
       "  0.06   0.06   0.06   0.06   0.06   0.06   0.06   0.06   0.06   0.06"
      ]
     },
     "metadata": {},
     "output_type": "display_data"
    }
   ],
   "source": [
    "n_scenarios = 10\n",
    "\n",
    "X1 = add_intercept(repeat(X, 1, n_scenarios), n_scenarios)"
   ]
  },
  {
   "cell_type": "code",
   "execution_count": 56,
   "metadata": {},
   "outputs": [
    {
     "data": {
      "text/plain": [
       "3×10 Matrix{Float64}:\n",
       "  1.0    1.0    1.0    1.0    1.0    1.0    1.0    1.0    1.0    1.0\n",
       " 12.0   12.0   12.0   12.0   12.0   12.0   12.0   12.0   12.0   12.0\n",
       "  0.06   0.06   0.06   0.06   0.06   0.06   0.06   0.06   0.06   0.06"
      ]
     },
     "metadata": {},
     "output_type": "display_data"
    }
   ],
   "source": [
    "repeat(X, 1, n_scenarios)"
   ]
  },
  {
   "cell_type": "code",
   "execution_count": 81,
   "metadata": {},
   "outputs": [
    {
     "data": {
      "text/plain": [
       "\u001b[32m\u001b[1mTest Passed\u001b[22m\u001b[39m"
      ]
     },
     "metadata": {},
     "output_type": "display_data"
    }
   ],
   "source": [
    "result1 = simulate_msvar(transition_matrix, [Β1, Β1], [Σ1, Σ2], X, states_zero, 3, 2_000)\n",
    "@test mean(result1[:,1,:], dims=2) ≈ [.132, .081] atol=.009\n"
   ]
  },
  {
   "cell_type": "code",
   "execution_count": 82,
   "metadata": {},
   "outputs": [
    {
     "data": {
      "text/plain": [
       "0.12387482174426774"
      ]
     },
     "metadata": {},
     "output_type": "display_data"
    },
    {
     "data": {
      "text/plain": [
       "0.15281185857514196"
      ]
     },
     "metadata": {},
     "output_type": "display_data"
    },
    {
     "data": {
      "text/plain": [
       "-0.16752245605786467"
      ]
     },
     "metadata": {},
     "output_type": "display_data"
    },
    {
     "data": {
      "text/plain": [
       "-0.102533382428458"
      ]
     },
     "metadata": {},
     "output_type": "display_data"
    }
   ],
   "source": [
    "display(mean(result1[1,1,:]))\n",
    "display(std(result1[1,1,:]))\n",
    "display(skewness(result1[1,1,:]))\n",
    "display(kurtosis(result1[1,1,:]))"
   ]
  },
  {
   "cell_type": "code",
   "execution_count": 97,
   "metadata": {},
   "outputs": [
    {
     "data": {
      "text/plain": [
       "\u001b[32m\u001b[1mTest Passed\u001b[22m\u001b[39m"
      ]
     },
     "metadata": {},
     "output_type": "display_data"
    }
   ],
   "source": [
    "regimes2 = simulate_next_regimes_for_previous_regimes(regimes, transition_matrix)\n",
    "\n",
    "expected_n_regime_one = (0.7 * 0.9 + 0.3 * 0.2) * 2000\n",
    "@test count(i -> i == 1, regimes2 ) ≈ 1380 atol=80"
   ]
  },
  {
   "cell_type": "code",
   "execution_count": 103,
   "metadata": {},
   "outputs": [
    {
     "data": {
      "text/plain": [
       "2×1 Matrix{Float64}:\n",
       " 0.14040112420881062\n",
       " 0.09127847758781459"
      ]
     },
     "metadata": {},
     "output_type": "display_data"
    }
   ],
   "source": [
    "result = simulate_msvar(transition_matrix, [Β1, Β1], [Σ1, Σ2], X, states_zero, 3, 2_000)\n",
    "\n",
    "mean(result[:,2,:],dims=2)"
   ]
  },
  {
   "cell_type": "code",
   "execution_count": 102,
   "metadata": {},
   "outputs": [
    {
     "data": {
      "text/plain": [
       "2×1 Matrix{Float64}:\n",
       " 0.1418263614435427\n",
       " 0.09559648120958708"
      ]
     },
     "metadata": {},
     "output_type": "display_data"
    }
   ],
   "source": [
    "result = simulate_msvar(transition_matrix, [Β1, Β1], [Σ1, Σ2], X, states_zero, 3, 2_000)\n",
    "\n",
    "mean(result[:,3,:],dims=2)"
   ]
  },
  {
   "cell_type": "code",
   "execution_count": 127,
   "metadata": {},
   "outputs": [
    {
     "data": {
      "text/plain": [
       "\"T1\""
      ]
     },
     "metadata": {},
     "output_type": "display_data"
    },
    {
     "data": {
      "text/plain": [
       "0.1380626226539845"
      ]
     },
     "metadata": {},
     "output_type": "display_data"
    },
    {
     "data": {
      "text/plain": [
       "0.12238611858949694"
      ]
     },
     "metadata": {},
     "output_type": "display_data"
    },
    {
     "data": {
      "text/plain": [
       "0.0009790117773336674"
      ]
     },
     "metadata": {},
     "output_type": "display_data"
    },
    {
     "data": {
      "text/plain": [
       "2.004145070240231"
      ]
     },
     "metadata": {},
     "output_type": "display_data"
    },
    {
     "data": {
      "text/plain": [
       "\"T10\""
      ]
     },
     "metadata": {},
     "output_type": "display_data"
    },
    {
     "data": {
      "text/plain": [
       "0.1614993251735118"
      ]
     },
     "metadata": {},
     "output_type": "display_data"
    },
    {
     "data": {
      "text/plain": [
       "0.13049666936501517"
      ]
     },
     "metadata": {},
     "output_type": "display_data"
    },
    {
     "data": {
      "text/plain": [
       "0.010229008814393752"
      ]
     },
     "metadata": {},
     "output_type": "display_data"
    },
    {
     "data": {
      "text/plain": [
       "1.8164161345910825"
      ]
     },
     "metadata": {},
     "output_type": "display_data"
    }
   ],
   "source": [
    "X = [.12, .06]\n",
    "\n",
    "transition_matrix = [.9 .1;.2 .8]\n",
    "\n",
    "states_zero = [.67, .33]\n",
    "\n",
    "\n",
    "Β1 = [.09 .3 .2; .03 .1 .6]\n",
    "Σ1 = cor2cov([1 .3; .3 1], [.08, .03])\n",
    "Β2 = [-.02 .35 .25; .035 .15 .63]\n",
    "Σ2 = cor2cov([1 .35; .35 1], [.18, .035])\n",
    "\n",
    "result = simulate_msvar(transition_matrix, [Β1, Β1], [Σ1, Σ2], X, states_zero, 120, 100_000)\n",
    "\n",
    "display(\"T1\")\n",
    "display(mean(result[1,1,:]))\n",
    "display(std(result[1,1,:]))\n",
    "display(skewness(result[1,1,:]))\n",
    "display(kurtosis(result[1,1,:]))\n",
    "\n",
    "display(\"T10\")\n",
    "display(mean(result[1,10,:]))\n",
    "display(std(result[1,10,:]))\n",
    "display(skewness(result[1,10,:]))\n",
    "display(kurtosis(result[1,10,:]))"
   ]
  },
  {
   "cell_type": "markdown",
   "metadata": {},
   "source": [
    "expected mean \n",
    "for regime 1 \n",
    "prob regime one, previous regime one mean, \n",
    "prob regime 2 to 1, previous regime two mean"
   ]
  },
  {
   "cell_type": "code",
   "execution_count": 38,
   "metadata": {},
   "outputs": [
    {
     "data": {
      "text/plain": [
       "200.70000000000002"
      ]
     },
     "metadata": {},
     "output_type": "display_data"
    }
   ],
   "source": [
    "0.669 * 300 "
   ]
  },
  {
   "cell_type": "code",
   "execution_count": 39,
   "metadata": {},
   "outputs": [
    {
     "data": {
      "text/plain": [
       "1×2 Matrix{Float64}:\n",
       " 0.128  0.078"
      ]
     },
     "metadata": {},
     "output_type": "display_data"
    }
   ],
   "source": [
    "Β1 = [.08 .3 .2; .03 .1 .6]'\n",
    "X = [1. .12 .06]\n",
    "\n",
    "X * Β1"
   ]
  },
  {
   "cell_type": "code",
   "execution_count": 40,
   "metadata": {},
   "outputs": [
    {
     "data": {
      "text/plain": [
       "1×2 Matrix{Float64}:\n",
       " 0.142  0.0908"
      ]
     },
     "metadata": {},
     "output_type": "display_data"
    }
   ],
   "source": [
    "Β2 = [.085 .35 .25; .035 .15 .63]'\n",
    "Σ2 = cor2cov([1 .35; .35 1], [.16, .035])\n",
    "\n",
    "X * Β2"
   ]
  },
  {
   "cell_type": "code",
   "execution_count": 41,
   "metadata": {},
   "outputs": [
    {
     "data": {
      "text/plain": [
       "0.13219999999999998"
      ]
     },
     "metadata": {},
     "output_type": "display_data"
    }
   ],
   "source": [
    ".7 * .128 + .3 * .142 "
   ]
  },
  {
   "cell_type": "code",
   "execution_count": 42,
   "metadata": {},
   "outputs": [
    {
     "data": {
      "text/plain": [
       "0.08184"
      ]
     },
     "metadata": {},
     "output_type": "display_data"
    }
   ],
   "source": [
    ".7 * .078 + .3 * .0908"
   ]
  },
  {
   "cell_type": "code",
   "execution_count": 43,
   "metadata": {},
   "outputs": [
    {
     "data": {
      "text/plain": [
       "0.128"
      ]
     },
     "metadata": {},
     "output_type": "display_data"
    }
   ],
   "source": [
    ".08 * 1 + .3 * .12 + .2 * .06"
   ]
  },
  {
   "cell_type": "code",
   "execution_count": 44,
   "metadata": {},
   "outputs": [
    {
     "data": {
      "text/plain": [
       "2×1 Matrix{Float64}:\n",
       " 0.15000000000000002\n",
       " 0.35"
      ]
     },
     "metadata": {},
     "output_type": "display_data"
    }
   ],
   "source": [
    "mean([.1 .2; .3 .4], dims=2)"
   ]
  },
  {
   "cell_type": "code",
   "execution_count": 134,
   "metadata": {},
   "outputs": [
    {
     "data": {
      "text/plain": [
       "2×2 Matrix{Float64}:\n",
       " 0.0064   0.00072\n",
       " 0.00072  0.0009"
      ]
     },
     "metadata": {},
     "output_type": "display_data"
    }
   ],
   "source": [
    "Σ1"
   ]
  },
  {
   "cell_type": "code",
   "execution_count": 132,
   "metadata": {},
   "outputs": [
    {
     "data": {
      "text/plain": [
       "2×2 LowerTriangular{Float64, Matrix{Float64}}:\n",
       " 0.08    ⋅ \n",
       " 0.009  0.0286182"
      ]
     },
     "metadata": {},
     "output_type": "display_data"
    }
   ],
   "source": [
    "cholesky(Σ1).L "
   ]
  }
 ],
 "metadata": {
  "kernelspec": {
   "display_name": "Julia 1.11.2",
   "language": "julia",
   "name": "julia-1.11"
  },
  "language_info": {
   "file_extension": ".jl",
   "mimetype": "application/julia",
   "name": "julia",
   "version": "1.11.2"
  }
 },
 "nbformat": 4,
 "nbformat_minor": 2
}
