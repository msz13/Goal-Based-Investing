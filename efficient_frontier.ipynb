{
 "cells": [
  {
   "cell_type": "code",
   "execution_count": 126,
   "metadata": {},
   "outputs": [],
   "source": [
    "import numpy as np\n",
    "import pandas as pd\n",
    "import warnings\n",
    "import riskfolio as rp\n",
    "import matplotlib.pyplot as plt\n",
    "\n",
    "\n",
    "warnings.filterwarnings(\"ignore\")\n",
    "pd.options.display.float_format = '{:.4%}'.format"
   ]
  },
  {
   "cell_type": "code",
   "execution_count": 127,
   "metadata": {},
   "outputs": [
    {
     "data": {
      "text/html": [
       "<div>\n",
       "<style scoped>\n",
       "    .dataframe tbody tr th:only-of-type {\n",
       "        vertical-align: middle;\n",
       "    }\n",
       "\n",
       "    .dataframe tbody tr th {\n",
       "        vertical-align: top;\n",
       "    }\n",
       "\n",
       "    .dataframe thead th {\n",
       "        text-align: right;\n",
       "    }\n",
       "</style>\n",
       "<table border=\"1\" class=\"dataframe\">\n",
       "  <thead>\n",
       "    <tr style=\"text-align: right;\">\n",
       "      <th></th>\n",
       "      <th>ACWI</th>\n",
       "      <th>TBSC</th>\n",
       "    </tr>\n",
       "  </thead>\n",
       "  <tbody>\n",
       "    <tr>\n",
       "      <th>0</th>\n",
       "      <td>0.2500%</td>\n",
       "      <td>1.2600%</td>\n",
       "    </tr>\n",
       "    <tr>\n",
       "      <th>1</th>\n",
       "      <td>-5.5900%</td>\n",
       "      <td>0.4900%</td>\n",
       "    </tr>\n",
       "    <tr>\n",
       "      <th>2</th>\n",
       "      <td>3.7000%</td>\n",
       "      <td>1.1300%</td>\n",
       "    </tr>\n",
       "    <tr>\n",
       "      <th>3</th>\n",
       "      <td>5.6800%</td>\n",
       "      <td>-0.3800%</td>\n",
       "    </tr>\n",
       "    <tr>\n",
       "      <th>4</th>\n",
       "      <td>4.3100%</td>\n",
       "      <td>1.1000%</td>\n",
       "    </tr>\n",
       "    <tr>\n",
       "      <th>...</th>\n",
       "      <td>...</td>\n",
       "      <td>...</td>\n",
       "    </tr>\n",
       "    <tr>\n",
       "      <th>115</th>\n",
       "      <td>2.5000%</td>\n",
       "      <td>0.2600%</td>\n",
       "    </tr>\n",
       "    <tr>\n",
       "      <th>116</th>\n",
       "      <td>8.8200%</td>\n",
       "      <td>-1.1800%</td>\n",
       "    </tr>\n",
       "    <tr>\n",
       "      <th>117</th>\n",
       "      <td>-0.2800%</td>\n",
       "      <td>-0.0200%</td>\n",
       "    </tr>\n",
       "    <tr>\n",
       "      <th>118</th>\n",
       "      <td>-1.1400%</td>\n",
       "      <td>-0.2300%</td>\n",
       "    </tr>\n",
       "    <tr>\n",
       "      <th>119</th>\n",
       "      <td>5.0000%</td>\n",
       "      <td>-0.7400%</td>\n",
       "    </tr>\n",
       "  </tbody>\n",
       "</table>\n",
       "<p>120 rows × 2 columns</p>\n",
       "</div>"
      ],
      "text/plain": [
       "        ACWI     TBSC\n",
       "0    0.2500%  1.2600%\n",
       "1   -5.5900%  0.4900%\n",
       "2    3.7000%  1.1300%\n",
       "3    5.6800% -0.3800%\n",
       "4    4.3100%  1.1000%\n",
       "..       ...      ...\n",
       "115  2.5000%  0.2600%\n",
       "116  8.8200% -1.1800%\n",
       "117 -0.2800% -0.0200%\n",
       "118 -1.1400% -0.2300%\n",
       "119  5.0000% -0.7400%\n",
       "\n",
       "[120 rows x 2 columns]"
      ]
     },
     "execution_count": 127,
     "metadata": {},
     "output_type": "execute_result"
    }
   ],
   "source": [
    "acwi_tbsc = pd.read_excel('./acwi_tbsc.xlsx', sheet_name='2011-2021')\n",
    "acwi_tbsc"
   ]
  },
  {
   "cell_type": "code",
   "execution_count": 128,
   "metadata": {},
   "outputs": [
    {
     "data": {
      "text/html": [
       "<div>\n",
       "<style scoped>\n",
       "    .dataframe tbody tr th:only-of-type {\n",
       "        vertical-align: middle;\n",
       "    }\n",
       "\n",
       "    .dataframe tbody tr th {\n",
       "        vertical-align: top;\n",
       "    }\n",
       "\n",
       "    .dataframe thead th {\n",
       "        text-align: right;\n",
       "    }\n",
       "</style>\n",
       "<table border=\"1\" class=\"dataframe\">\n",
       "  <thead>\n",
       "    <tr style=\"text-align: right;\">\n",
       "      <th></th>\n",
       "      <th>ACWI</th>\n",
       "      <th>TBSC</th>\n",
       "    </tr>\n",
       "  </thead>\n",
       "  <tbody>\n",
       "    <tr>\n",
       "      <th>0</th>\n",
       "      <td>4.7230%</td>\n",
       "      <td>95.2770%</td>\n",
       "    </tr>\n",
       "    <tr>\n",
       "      <th>1</th>\n",
       "      <td>26.2242%</td>\n",
       "      <td>73.7758%</td>\n",
       "    </tr>\n",
       "    <tr>\n",
       "      <th>2</th>\n",
       "      <td>37.2989%</td>\n",
       "      <td>62.7011%</td>\n",
       "    </tr>\n",
       "    <tr>\n",
       "      <th>3</th>\n",
       "      <td>47.1100%</td>\n",
       "      <td>52.8900%</td>\n",
       "    </tr>\n",
       "    <tr>\n",
       "      <th>4</th>\n",
       "      <td>56.3825%</td>\n",
       "      <td>43.6175%</td>\n",
       "    </tr>\n",
       "    <tr>\n",
       "      <th>5</th>\n",
       "      <td>65.3640%</td>\n",
       "      <td>34.6360%</td>\n",
       "    </tr>\n",
       "    <tr>\n",
       "      <th>6</th>\n",
       "      <td>74.1676%</td>\n",
       "      <td>25.8324%</td>\n",
       "    </tr>\n",
       "    <tr>\n",
       "      <th>7</th>\n",
       "      <td>82.8534%</td>\n",
       "      <td>17.1466%</td>\n",
       "    </tr>\n",
       "    <tr>\n",
       "      <th>8</th>\n",
       "      <td>91.4567%</td>\n",
       "      <td>8.5433%</td>\n",
       "    </tr>\n",
       "    <tr>\n",
       "      <th>9</th>\n",
       "      <td>100.0000%</td>\n",
       "      <td>0.0000%</td>\n",
       "    </tr>\n",
       "  </tbody>\n",
       "</table>\n",
       "</div>"
      ],
      "text/plain": [
       "       ACWI     TBSC\n",
       "0   4.7230% 95.2770%\n",
       "1  26.2242% 73.7758%\n",
       "2  37.2989% 62.7011%\n",
       "3  47.1100% 52.8900%\n",
       "4  56.3825% 43.6175%\n",
       "5  65.3640% 34.6360%\n",
       "6  74.1676% 25.8324%\n",
       "7  82.8534% 17.1466%\n",
       "8  91.4567%  8.5433%\n",
       "9 100.0000%  0.0000%"
      ]
     },
     "metadata": {},
     "output_type": "display_data"
    }
   ],
   "source": [
    "port = rp.Portfolio(returns=acwi_tbsc)\n",
    "\n",
    "method_mu='hist' # Method to estimate expected returns based on historical data.\n",
    "method_cov='hist' # Method to estimate covariance matrix based on historical data.\n",
    "\n",
    "port.assets_stats(method_mu=method_mu, method_cov=method_cov, d=0.94)\n",
    "\n",
    "points = 10 # Number of points of the frontier\n",
    "model='Classic' # Could be Classic (historical), BL (Black Litterman) or FM (Factor Model)\n",
    "rm = 'MV' # Risk measure used, this time will be variance\n",
    "hist = True # Use historical scenarios for risk measures that depend on scenarios\n",
    "rf = 0.07 # Risk free rate\n",
    "\n",
    "frontier = port.efficient_frontier(model=model, rm=rm, points=points, rf=rf, hist=hist)\n",
    "\n",
    "display(frontier.T.head(20))"
   ]
  },
  {
   "cell_type": "code",
   "execution_count": 129,
   "metadata": {},
   "outputs": [
    {
     "name": "stdout",
     "output_type": "stream",
     "text": [
      "The problem doesn't have a solution with actual input parameters\n"
     ]
    },
    {
     "data": {
      "text/plain": [
       "None"
      ]
     },
     "metadata": {},
     "output_type": "display_data"
    }
   ],
   "source": [
    "obj = 'Sharpe'\n",
    "w = port.optimization(model=model, rm=rm, obj=obj, rf=rf, hist=hist)\n",
    "\n",
    "display(w)"
   ]
  },
  {
   "cell_type": "code",
   "execution_count": 130,
   "metadata": {},
   "outputs": [
    {
     "data": {
      "image/png": "[encoded data removed]",
      "text/plain": [
       "<Figure size 720x432 with 2 Axes>"
      ]
     },
     "metadata": {
      "needs_background": "light"
     },
     "output_type": "display_data"
    }
   ],
   "source": [
    "label = 'Max Risk Adjusted Return Portfolio' # Title of point\n",
    "mu = port.mu # Expected returns\n",
    "cov = port.cov # Covariance matrix\n",
    "returns = port.returns # Returns of the assets\n",
    "\n",
    "\n",
    "\n",
    "ax = rp.plot_frontier(w_frontier=frontier, mu=mu, cov=cov, returns=returns, rm=rm,\n",
    "                      rf=rf, alpha=0.05, cmap='viridis', label=label,\n",
    "                      marker='*', s=16, c='r', height=6, width=10, ax=None)\n",
    "\n",
    "fig = ax.get_figure()\n",
    "\n",
    "\n"
   ]
  },
  {
   "cell_type": "code",
   "execution_count": 131,
   "metadata": {},
   "outputs": [
    {
     "data": {
      "image/png": "[encoded data removed]",
      "text/plain": [
       "<Figure size 720x432 with 1 Axes>"
      ]
     },
     "metadata": {
      "needs_background": "light"
     },
     "output_type": "display_data"
    }
   ],
   "source": [
    "\n",
    "# Plotting efficient frontier composition\n",
    "\n",
    "ax = rp.plot_frontier_area(w_frontier=frontier, cmap=\"tab20\", height=6, width=10, ax=None)\n",
    "\n"
   ]
  },
  {
   "cell_type": "code",
   "execution_count": 149,
   "metadata": {},
   "outputs": [
    {
     "data": {
      "text/html": [
       "<div>\n",
       "<style scoped>\n",
       "    .dataframe tbody tr th:only-of-type {\n",
       "        vertical-align: middle;\n",
       "    }\n",
       "\n",
       "    .dataframe tbody tr th {\n",
       "        vertical-align: top;\n",
       "    }\n",
       "\n",
       "    .dataframe thead th {\n",
       "        text-align: right;\n",
       "    }\n",
       "</style>\n",
       "<table border=\"1\" class=\"dataframe\">\n",
       "  <thead>\n",
       "    <tr style=\"text-align: right;\">\n",
       "      <th></th>\n",
       "      <th>U.S. Bonds</th>\n",
       "      <th>International Stocks</th>\n",
       "      <th>U.S. Stocks</th>\n",
       "    </tr>\n",
       "  </thead>\n",
       "  <tbody>\n",
       "    <tr>\n",
       "      <th>0</th>\n",
       "      <td>90.9800%</td>\n",
       "      <td>2.2500%</td>\n",
       "      <td>6.7700%</td>\n",
       "    </tr>\n",
       "    <tr>\n",
       "      <th>1</th>\n",
       "      <td>85.0000%</td>\n",
       "      <td>0.3300%</td>\n",
       "      <td>14.6700%</td>\n",
       "    </tr>\n",
       "    <tr>\n",
       "      <th>2</th>\n",
       "      <td>79.0300%</td>\n",
       "      <td>-1.6000%</td>\n",
       "      <td>22.5700%</td>\n",
       "    </tr>\n",
       "    <tr>\n",
       "      <th>3</th>\n",
       "      <td>73.0500%</td>\n",
       "      <td>-3.5200%</td>\n",
       "      <td>30.4700%</td>\n",
       "    </tr>\n",
       "    <tr>\n",
       "      <th>4</th>\n",
       "      <td>67.0700%</td>\n",
       "      <td>-5.4500%</td>\n",
       "      <td>38.3700%</td>\n",
       "    </tr>\n",
       "    <tr>\n",
       "      <th>5</th>\n",
       "      <td>61.1000%</td>\n",
       "      <td>-7.3700%</td>\n",
       "      <td>46.2800%</td>\n",
       "    </tr>\n",
       "    <tr>\n",
       "      <th>6</th>\n",
       "      <td>55.1200%</td>\n",
       "      <td>-9.3000%</td>\n",
       "      <td>54.1800%</td>\n",
       "    </tr>\n",
       "    <tr>\n",
       "      <th>7</th>\n",
       "      <td>49.1500%</td>\n",
       "      <td>-11.2200%</td>\n",
       "      <td>62.0800%</td>\n",
       "    </tr>\n",
       "    <tr>\n",
       "      <th>8</th>\n",
       "      <td>43.1700%</td>\n",
       "      <td>-13.1500%</td>\n",
       "      <td>69.9800%</td>\n",
       "    </tr>\n",
       "    <tr>\n",
       "      <th>9</th>\n",
       "      <td>37.1900%</td>\n",
       "      <td>-15.0700%</td>\n",
       "      <td>77.8800%</td>\n",
       "    </tr>\n",
       "    <tr>\n",
       "      <th>10</th>\n",
       "      <td>31.2200%</td>\n",
       "      <td>-17.0000%</td>\n",
       "      <td>85.7800%</td>\n",
       "    </tr>\n",
       "    <tr>\n",
       "      <th>11</th>\n",
       "      <td>25.2400%</td>\n",
       "      <td>-18.9200%</td>\n",
       "      <td>93.6800%</td>\n",
       "    </tr>\n",
       "    <tr>\n",
       "      <th>12</th>\n",
       "      <td>19.2700%</td>\n",
       "      <td>-20.8500%</td>\n",
       "      <td>101.5800%</td>\n",
       "    </tr>\n",
       "    <tr>\n",
       "      <th>13</th>\n",
       "      <td>13.2900%</td>\n",
       "      <td>-22.7700%</td>\n",
       "      <td>109.4800%</td>\n",
       "    </tr>\n",
       "    <tr>\n",
       "      <th>14</th>\n",
       "      <td>7.3100%</td>\n",
       "      <td>-24.7000%</td>\n",
       "      <td>117.3800%</td>\n",
       "    </tr>\n",
       "  </tbody>\n",
       "</table>\n",
       "</div>"
      ],
      "text/plain": [
       "    U.S. Bonds  International Stocks  U.S. Stocks \n",
       "0     90.9800%               2.2500%       6.7700%\n",
       "1     85.0000%               0.3300%      14.6700%\n",
       "2     79.0300%              -1.6000%      22.5700%\n",
       "3     73.0500%              -3.5200%      30.4700%\n",
       "4     67.0700%              -5.4500%      38.3700%\n",
       "5     61.1000%              -7.3700%      46.2800%\n",
       "6     55.1200%              -9.3000%      54.1800%\n",
       "7     49.1500%             -11.2200%      62.0800%\n",
       "8     43.1700%             -13.1500%      69.9800%\n",
       "9     37.1900%             -15.0700%      77.8800%\n",
       "10    31.2200%             -17.0000%      85.7800%\n",
       "11    25.2400%             -18.9200%      93.6800%\n",
       "12    19.2700%             -20.8500%     101.5800%\n",
       "13    13.2900%             -22.7700%     109.4800%\n",
       "14     7.3100%             -24.7000%     117.3800%"
      ]
     },
     "execution_count": 149,
     "metadata": {},
     "output_type": "execute_result"
    }
   ],
   "source": [
    "means = pd.read_excel('mean_variance.xlsx')\n",
    "cov_table = pd.read_excel('mean_variance.xlsx', sheet_name='cov_matrix')\n",
    "cov_table = cov_table.set_index('Unnamed: 0').to_numpy()\n",
    "weghts = pd.read_excel('mean_variance.xlsx', sheet_name='weights')\n",
    "weghts"
   ]
  }
 ],
 "metadata": {
  "kernelspec": {
   "display_name": "portfolio-optimisation",
   "language": "python",
   "name": "python3"
  },
  "language_info": {
   "codemirror_mode": {
    "name": "ipython",
    "version": 3
   },
   "file_extension": ".py",
   "mimetype": "text/x-python",
   "name": "python",
   "nbconvert_exporter": "python",
   "pygments_lexer": "ipython3",
   "version": "3.9.12"
  },
  "orig_nbformat": 4,
  "vscode": {
   "interpreter": {
    "hash": "4bef00bc7c9a78db1045a379974b3641e8d6d719796f9d93b631987f459ca5f0"
   }
  }
 },
 "nbformat": 4,
 "nbformat_minor": 2
}
