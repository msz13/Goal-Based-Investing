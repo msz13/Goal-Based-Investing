{
 "cells": [
  {
   "cell_type": "code",
   "execution_count": 1,
   "metadata": {},
   "outputs": [],
   "source": [
    "import numpy as np\n",
    "import pandas as pd"
   ]
  },
  {
   "cell_type": "code",
   "execution_count": 2,
   "metadata": {},
   "outputs": [
    {
     "name": "stdout",
     "output_type": "stream",
     "text": [
      "['MSCI ACWI', 'MWITR', 'TBSP', 'EURPLN', 'EDO', 'Bloomberg Barclays Global Aggre', 'Gold spot price', 'Global aggregate euro hdg', 'EURO STOXX 50 Daily Leverage', 'Bloomberg Barclays Global Corpo']\n",
      "<class 'pandas.core.frame.DataFrame'>\n",
      "DatetimeIndex: 456 entries, 1985-01-01 to 2022-12-01\n",
      "Data columns (total 10 columns):\n",
      " #   Column               Non-Null Count  Dtype  \n",
      "---  ------               --------------  -----  \n",
      " 0   Mwig40tr             155 non-null    float64\n",
      " 1   TBSP                 191 non-null    float64\n",
      " 2   EDO                  225 non-null    float64\n",
      " 3   ACWI                 254 non-null    float64\n",
      " 4   GovBondG7            254 non-null    float64\n",
      " 5   GlobalCorporate      123 non-null    float64\n",
      " 6   Gold                 254 non-null    float64\n",
      " 7   GABHDG               61 non-null     float64\n",
      " 8   EURO_STOXX_Leverage  252 non-null    float64\n",
      " 9   Fallen_Angels        78 non-null     float64\n",
      "dtypes: float64(10)\n",
      "memory usage: 55.4 KB\n"
     ]
    }
   ],
   "source": [
    "xl = pd.ExcelFile('wartosci_walorow_12_22.xlsx')\n",
    "sheets = xl.sheet_names\n",
    "\n",
    "merged = xl.parse(sheets.pop(0))\n",
    "print(sheets)\n",
    "\n",
    "for sheet in sheets:\n",
    "    data = xl.parse(sheet)    \n",
    "    merged = merged.merge(data, on='Date', how='left') \n",
    "\n",
    "xl.close()\n",
    "\n",
    "assets = merged.columns[1:]\n",
    "price_changes = merged[assets].pct_change()\n",
    "price_changes.set_index(merged['Date'], inplace=True)\n",
    "\n",
    "euro_assets = ['ACWI', 'GovBondG7', 'GlobalCorporate', 'Gold', 'GABHDG', 'EURO_STOXX_Leverage', 'Fallen_Angels']\n",
    "pln_assets = ['Mwig40tr', 'TBSP', 'EDO']\n",
    "\n",
    "pln = merged[euro_assets].apply(lambda x: x * merged['EURPLN'])\n",
    "pln_chng = pln.pct_change()\n",
    "pln_chng.set_index(merged['Date'], inplace=True)\n",
    "pln_chng = pd.merge(price_changes[pln_assets], pln_chng, left_index=True, right_index=True)\n",
    "\n",
    "assets = pln_chng\n",
    "assets.info()"
   ]
  },
  {
   "cell_type": "code",
   "execution_count": 3,
   "metadata": {},
   "outputs": [],
   "source": [
    "def shrinkedCovariance(returns: pd.DataFrame, w: int):\n",
    "    std = np.diag(returns.std())*np.sqrt(12)\n",
    "    corr = returns.corr('pearson')\n",
    "    shrinked_corr = (1-w)*corr + np.ones_like(corr)*w \n",
    "    result = std @ shrinked_corr @ std\n",
    "    return std,corr, shrinked_corr, result\n",
    "\n",
    "def pstd(cov_matrix, weights):\n",
    "    return np.sqrt(weights.T @ cov_matrix @ weights)"
   ]
  },
  {
   "cell_type": "code",
   "execution_count": 5,
   "metadata": {},
   "outputs": [
    {
     "name": "stdout",
     "output_type": "stream",
     "text": [
      "          TBSP      ACWI\n",
      "TBSP  0.002233 -0.000662\n",
      "ACWI -0.000662  0.023129\n",
      "[[0.04725282 0.        ]\n",
      " [0.         0.15208061]]\n",
      "          TBSP      ACWI\n",
      "TBSP  1.000000 -0.092152\n",
      "ACWI -0.092152  1.000000\n",
      "          TBSP      ACWI\n",
      "TBSP  1.000000  0.453924\n",
      "ACWI  0.453924  1.000000\n",
      "          0         1\n",
      "0  0.002233  0.003262\n",
      "1  0.003262  0.023129\n",
      "---\n",
      "0.09146392619858458\n",
      "---\n",
      "0.10123873094081719\n"
     ]
    }
   ],
   "source": [
    "assets_names = ['TBSP', 'ACWI']\n",
    "\n",
    "portfolio_returns = assets.iloc[-120:][assets_names]\n",
    "\n",
    "std, corr, sh_corr, res = shrinkedCovariance(portfolio_returns,0.5)\n",
    "cov = portfolio_returns.cov()*12\n",
    "\n",
    "print (portfolio_returns.cov()*12)\n",
    "print(std)\n",
    "print(corr)\n",
    "print(sh_corr)\n",
    "print(res)\n",
    "print('---')\n",
    "print(pstd(cov, np.array([0.4, 0.6])))\n",
    "print('---')\n",
    "print(pstd(res, np.array([0.4, 0.6])))\n",
    "\n",
    "\n"
   ]
  },
  {
   "cell_type": "code",
   "execution_count": 12,
   "metadata": {},
   "outputs": [
    {
     "name": "stdout",
     "output_type": "stream",
     "text": [
      "TBSP    0.058287\n",
      "ACWI    0.180158\n",
      "dtype: float64\n",
      "TBSP    0.019728\n",
      "ACWI    0.156034\n",
      "dtype: float64\n",
      "TBSP    0.024732\n",
      "ACWI    0.129339\n",
      "dtype: float64\n",
      "TBSP    0.044049\n",
      "ACWI    0.150289\n",
      "dtype: float64\n",
      "---\n",
      "0.10942527346768507\n",
      "0.09450573239453121\n",
      "0.07687067421906144\n",
      "0.08952406152781506\n",
      "---\n",
      "0.126273078746576\n",
      "0.09980622208789802\n",
      "0.08496410489639229\n",
      "0.10352840991202439\n"
     ]
    }
   ],
   "source": [
    "ret = assets.iloc[-60:][assets_names]\n",
    "ret_24 = assets.iloc[-84:-24][assets_names]\n",
    "ret_48 = assets.iloc[-108:-48][assets_names]\n",
    "ret_150 = assets.iloc[-150:][assets_names]\n",
    "print(ret.std()*np.sqrt(12))\n",
    "print(ret_24.std()*np.sqrt(12))\n",
    "print(ret_48.std()*np.sqrt(12))\n",
    "print(ret_150.std()*np.sqrt(12))\n",
    "print('---')\n",
    "\n",
    "std, corr, sh_corr, res = shrinkedCovariance(ret,0)\n",
    "std, corr, sh_corr, res_24 = shrinkedCovariance(ret_24,0)\n",
    "std, corr, sh_corr, res_48 = shrinkedCovariance(ret_48,0)\n",
    "std, corr, sh_corr, res_150 = shrinkedCovariance(ret_150,0)\n",
    "\n",
    "\n",
    "print(pstd(res, np.array([0.4, 0.6])))\n",
    "print(pstd(res_24, np.array([0.4, 0.6])))\n",
    "print(pstd(res_48, np.array([0.4, 0.6])))\n",
    "print(pstd(res_150, np.array([0.4, 0.6])))\n",
    "\n",
    "\n",
    "print('---')\n",
    "std, corr, sh_corr, res = shrinkedCovariance(ret,0.75)\n",
    "std, corr, sh_corr, res_24 = shrinkedCovariance(ret_24,0.75)\n",
    "std, corr, sh_corr, res_48 = shrinkedCovariance(ret_48,0.75)\n",
    "std, corr, sh_corr, res_150 = shrinkedCovariance(ret_150,0.75)\n",
    "\n",
    "print(pstd(res, np.array([0.4, 0.6])))\n",
    "print(pstd(res_24, np.array([0.4, 0.6])))\n",
    "print(pstd(res_48, np.array([0.4, 0.6])))\n",
    "print(pstd(res_150, np.array([0.4, 0.6])))"
   ]
  }
 ],
 "metadata": {
  "kernelspec": {
   "display_name": "ips",
   "language": "python",
   "name": "python3"
  },
  "language_info": {
   "codemirror_mode": {
    "name": "ipython",
    "version": 3
   },
   "file_extension": ".py",
   "mimetype": "text/x-python",
   "name": "python",
   "nbconvert_exporter": "python",
   "pygments_lexer": "ipython3",
   "version": "3.9.7"
  },
  "orig_nbformat": 4,
  "vscode": {
   "interpreter": {
    "hash": "1b47aa380712f7fc5fc0f04082b0c6bfb60a158886ac5c7ca524c8519d830ecd"
   }
  }
 },
 "nbformat": 4,
 "nbformat_minor": 2
}
