{
 "cells": [
  {
   "cell_type": "code",
   "execution_count": 30,
   "metadata": {},
   "outputs": [],
   "source": [
    "import pandas as pd\n",
    "import numpy as np\n",
    "import matplotlib.pyplot as plt\n",
    "import seaborn as sns\n",
    "import pyesg \n",
    "from evaluation import fanchart"
   ]
  },
  {
   "cell_type": "code",
   "execution_count": 11,
   "metadata": {},
   "outputs": [],
   "source": [
    "acwi = pd.read_csv('acwi_25.08.23.csv')\n",
    "acwi.index = pd.DatetimeIndex(acwi['Date'])"
   ]
  },
  {
   "cell_type": "code",
   "execution_count": 19,
   "metadata": {},
   "outputs": [
    {
     "data": {
      "text/plain": [
       "<AxesSubplot:xlabel='Date'>"
      ]
     },
     "execution_count": 19,
     "metadata": {},
     "output_type": "execute_result"
    },
    {
     "data": {
      "image/png": "[encoded data removed]",
      "text/plain": [
       "<Figure size 864x288 with 1 Axes>"
      ]
     },
     "metadata": {
      "needs_background": "light"
     },
     "output_type": "display_data"
    }
   ],
   "source": [
    "fig, ax = plt.subplots(figsize=(12,4))\n",
    "sns.lineplot(data=acwi,ax=ax)"
   ]
  },
  {
   "cell_type": "code",
   "execution_count": 90,
   "metadata": {},
   "outputs": [
    {
     "data": {
      "text/plain": [
       "count    355.000000\n",
       "mean       0.006299\n",
       "std        0.042396\n",
       "min       -0.155028\n",
       "25%       -0.013693\n",
       "50%        0.011209\n",
       "75%        0.033424\n",
       "max        0.114884\n",
       "Name: MSCI ACWI, dtype: float64"
      ]
     },
     "execution_count": 90,
     "metadata": {},
     "output_type": "execute_result"
    }
   ],
   "source": [
    "acwi_returns = np.log(acwi['MSCI ACWI']/acwi['MSCI ACWI'].shift(1)).loc['1994-01-01':]\n",
    "acwi_returns.describe()"
   ]
  },
  {
   "cell_type": "code",
   "execution_count": 91,
   "metadata": {},
   "outputs": [
    {
     "name": "stdout",
     "output_type": "stream",
     "text": [
      "0.07558256759399751\n",
      "0.14686330930066238\n"
     ]
    }
   ],
   "source": [
    "annualized_mean = acwi_returns.mean() * 12\n",
    "annualized_std = acwi_returns.std() * np.sqrt(12)\n",
    "print(annualized_mean)\n",
    "print(annualized_std)"
   ]
  },
  {
   "cell_type": "code",
   "execution_count": 34,
   "metadata": {},
   "outputs": [
    {
     "data": {
      "text/plain": [
       "count    355.000000\n",
       "mean       0.076830\n",
       "std        0.174893\n",
       "min       -0.492778\n",
       "25%        0.003215\n",
       "50%        0.105590\n",
       "75%        0.189558\n",
       "max        0.433882\n",
       "Name: MSCI ACWI, dtype: float64"
      ]
     },
     "execution_count": 34,
     "metadata": {},
     "output_type": "execute_result"
    }
   ],
   "source": [
    "ann_ret = np.log(acwi['MSCI ACWI']/acwi['MSCI ACWI'].shift(12)).loc['1994-01-01':]\n",
    "ann_ret.describe()"
   ]
  },
  {
   "cell_type": "code",
   "execution_count": 53,
   "metadata": {},
   "outputs": [],
   "source": [
    "model = pyesg.GeometricBrownianMotion(mu=0.073,sigma=0.17)\n",
    "scenarios = model.scenarios(100,1,600,20)"
   ]
  },
  {
   "cell_type": "code",
   "execution_count": 54,
   "metadata": {},
   "outputs": [],
   "source": [
    "np.savetxt('acwi_scenarios.csv', scenarios)"
   ]
  },
  {
   "cell_type": "code",
   "execution_count": 55,
   "metadata": {},
   "outputs": [],
   "source": [
    "perc = np.percentile(scenarios,[1,5,25,50,75,95,99],axis=0)\n",
    "#fanchart(None, perc)"
   ]
  },
  {
   "cell_type": "code",
   "execution_count": 60,
   "metadata": {},
   "outputs": [
    {
     "data": {
      "text/html": [
       "<div>\n",
       "<style scoped>\n",
       "    .dataframe tbody tr th:only-of-type {\n",
       "        vertical-align: middle;\n",
       "    }\n",
       "\n",
       "    .dataframe tbody tr th {\n",
       "        vertical-align: top;\n",
       "    }\n",
       "\n",
       "    .dataframe thead th {\n",
       "        text-align: right;\n",
       "    }\n",
       "</style>\n",
       "<table border=\"1\" class=\"dataframe\">\n",
       "  <thead>\n",
       "    <tr style=\"text-align: right;\">\n",
       "      <th></th>\n",
       "      <th>1</th>\n",
       "      <th>2</th>\n",
       "      <th>3</th>\n",
       "      <th>5</th>\n",
       "      <th>10</th>\n",
       "      <th>15</th>\n",
       "      <th>20</th>\n",
       "    </tr>\n",
       "    <tr>\n",
       "      <th>perc</th>\n",
       "      <th></th>\n",
       "      <th></th>\n",
       "      <th></th>\n",
       "      <th></th>\n",
       "      <th></th>\n",
       "      <th></th>\n",
       "      <th></th>\n",
       "    </tr>\n",
       "  </thead>\n",
       "  <tbody>\n",
       "    <tr>\n",
       "      <th>1</th>\n",
       "      <td>71.433490</td>\n",
       "      <td>65.590273</td>\n",
       "      <td>61.704471</td>\n",
       "      <td>57.604493</td>\n",
       "      <td>55.411506</td>\n",
       "      <td>58.220588</td>\n",
       "      <td>69.780216</td>\n",
       "    </tr>\n",
       "    <tr>\n",
       "      <th>5</th>\n",
       "      <td>79.923764</td>\n",
       "      <td>77.219288</td>\n",
       "      <td>74.731849</td>\n",
       "      <td>74.398758</td>\n",
       "      <td>78.298002</td>\n",
       "      <td>89.944130</td>\n",
       "      <td>99.437853</td>\n",
       "    </tr>\n",
       "    <tr>\n",
       "      <th>25</th>\n",
       "      <td>93.915607</td>\n",
       "      <td>95.760189</td>\n",
       "      <td>98.682515</td>\n",
       "      <td>107.639268</td>\n",
       "      <td>125.846948</td>\n",
       "      <td>162.514832</td>\n",
       "      <td>194.592241</td>\n",
       "    </tr>\n",
       "    <tr>\n",
       "      <th>50</th>\n",
       "      <td>106.009369</td>\n",
       "      <td>113.768314</td>\n",
       "      <td>121.812406</td>\n",
       "      <td>137.995997</td>\n",
       "      <td>179.595840</td>\n",
       "      <td>241.208376</td>\n",
       "      <td>341.372956</td>\n",
       "    </tr>\n",
       "    <tr>\n",
       "      <th>75</th>\n",
       "      <td>119.142104</td>\n",
       "      <td>133.803187</td>\n",
       "      <td>146.637709</td>\n",
       "      <td>172.717452</td>\n",
       "      <td>252.605723</td>\n",
       "      <td>371.116352</td>\n",
       "      <td>547.694153</td>\n",
       "    </tr>\n",
       "    <tr>\n",
       "      <th>95</th>\n",
       "      <td>139.821551</td>\n",
       "      <td>163.055562</td>\n",
       "      <td>181.539975</td>\n",
       "      <td>235.268887</td>\n",
       "      <td>409.588129</td>\n",
       "      <td>731.705488</td>\n",
       "      <td>1210.038356</td>\n",
       "    </tr>\n",
       "    <tr>\n",
       "      <th>99</th>\n",
       "      <td>153.871682</td>\n",
       "      <td>189.817241</td>\n",
       "      <td>232.309840</td>\n",
       "      <td>291.915283</td>\n",
       "      <td>563.065005</td>\n",
       "      <td>966.926987</td>\n",
       "      <td>1850.834165</td>\n",
       "    </tr>\n",
       "  </tbody>\n",
       "</table>\n",
       "</div>"
      ],
      "text/plain": [
       "               1           2           3           5          10          15  \\\n",
       "perc                                                                           \n",
       "1      71.433490   65.590273   61.704471   57.604493   55.411506   58.220588   \n",
       "5      79.923764   77.219288   74.731849   74.398758   78.298002   89.944130   \n",
       "25     93.915607   95.760189   98.682515  107.639268  125.846948  162.514832   \n",
       "50    106.009369  113.768314  121.812406  137.995997  179.595840  241.208376   \n",
       "75    119.142104  133.803187  146.637709  172.717452  252.605723  371.116352   \n",
       "95    139.821551  163.055562  181.539975  235.268887  409.588129  731.705488   \n",
       "99    153.871682  189.817241  232.309840  291.915283  563.065005  966.926987   \n",
       "\n",
       "               20  \n",
       "perc               \n",
       "1       69.780216  \n",
       "5       99.437853  \n",
       "25     194.592241  \n",
       "50     341.372956  \n",
       "75     547.694153  \n",
       "95    1210.038356  \n",
       "99    1850.834165  "
      ]
     },
     "execution_count": 60,
     "metadata": {},
     "output_type": "execute_result"
    }
   ],
   "source": [
    "def percentile_summary(perc):\n",
    "    perc_dict = {'perc': ['1','5','25','50','75','95','99'],\n",
    "                 '1': perc[:,1],\n",
    "                 '2': perc[:,2],\n",
    "                 '3': perc[:,3],\n",
    "                 '5': perc[:,5],\n",
    "                 '10': perc[:,10],\n",
    "                 '15': perc[:,15],\n",
    "                 '20': perc[:,20]\n",
    "                 }\n",
    "    \n",
    "    perc_summary = pd.DataFrame(perc_dict)\n",
    "    perc_summary.set_index('perc', inplace=True)\n",
    "    return perc_summary\n",
    "percentile_summary(perc)"
   ]
  },
  {
   "cell_type": "code",
   "execution_count": 76,
   "metadata": {},
   "outputs": [
    {
     "data": {
      "image/png": "[encoded data removed]",
      "text/plain": [
       "<Figure size 864x288 with 1 Axes>"
      ]
     },
     "metadata": {
      "needs_background": "light"
     },
     "output_type": "display_data"
    }
   ],
   "source": [
    "ax,fig = plt.subplots(figsize=(12,4))\n",
    "for i in np.random.randint(0,600,10):\n",
    "    sns.lineplot(data=scenarios[i])"
   ]
  },
  {
   "cell_type": "code",
   "execution_count": 73,
   "metadata": {},
   "outputs": [],
   "source": [
    "T = 20\n",
    "cagr = (scenarios[:,T]/scenarios[:,0])**(1/T)-1\n"
   ]
  },
  {
   "cell_type": "code",
   "execution_count": 74,
   "metadata": {},
   "outputs": [
    {
     "data": {
      "text/plain": [
       "array([-0.01783154, -0.00028187,  0.03384672,  0.06331372,  0.08874679,\n",
       "        0.13276531,  0.15709324])"
      ]
     },
     "execution_count": 74,
     "metadata": {},
     "output_type": "execute_result"
    }
   ],
   "source": [
    "np.percentile(cagr,[1,5,25,50,75,95,99])"
   ]
  },
  {
   "cell_type": "code",
   "execution_count": 81,
   "metadata": {},
   "outputs": [],
   "source": [
    "below_zero = np.round(np.count_nonzero(scenarios<100,axis=0)/600,2)"
   ]
  }
 ],
 "metadata": {
  "kernelspec": {
   "display_name": "portfolio-optimisation",
   "language": "python",
   "name": "python3"
  },
  "language_info": {
   "codemirror_mode": {
    "name": "ipython",
    "version": 3
   },
   "file_extension": ".py",
   "mimetype": "text/x-python",
   "name": "python",
   "nbconvert_exporter": "python",
   "pygments_lexer": "ipython3",
   "version": "3.9.12"
  },
  "orig_nbformat": 4
 },
 "nbformat": 4,
 "nbformat_minor": 2
}
