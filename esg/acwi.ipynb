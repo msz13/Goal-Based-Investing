{
 "cells": [
  {
   "cell_type": "code",
   "execution_count": 66,
   "metadata": {},
   "outputs": [
    {
     "name": "stdout",
     "output_type": "stream",
     "text": [
      "The autoreload extension is already loaded. To reload it, use:\n",
      "  %reload_ext autoreload\n"
     ]
    }
   ],
   "source": [
    "%load_ext autoreload\n",
    "%autoreload 2\n",
    "\n",
    "import pandas as pd\n",
    "import numpy as np\n",
    "import matplotlib.pyplot as plt\n",
    "import seaborn as sns\n",
    "import pyesg \n",
    "import  evaluation as eval\n",
    "import preproccessing as prep "
   ]
  },
  {
   "cell_type": "code",
   "execution_count": 4,
   "metadata": {},
   "outputs": [],
   "source": [
    "acwi_prices = pd.read_excel('msci_acwi_net_30.10.23.xlsx')\n",
    "acwi_prices.index = pd.DatetimeIndex(acwi_prices['Date'])\n",
    "acwi_prices = acwi_prices['ACWI Standard Net (Large+Mid Cap)']"
   ]
  },
  {
   "cell_type": "code",
   "execution_count": 5,
   "metadata": {},
   "outputs": [
    {
     "data": {
      "text/plain": [
       "<AxesSubplot:xlabel='Date'>"
      ]
     },
     "execution_count": 5,
     "metadata": {},
     "output_type": "execute_result"
    },
    {
     "data": {
      "image/png": "[encoded data removed]",
      "text/plain": [
       "<Figure size 1008x288 with 1 Axes>"
      ]
     },
     "metadata": {
      "needs_background": "light"
     },
     "output_type": "display_data"
    }
   ],
   "source": [
    "acwi_prices.plot(figsize=(14,4))"
   ]
  },
  {
   "cell_type": "code",
   "execution_count": 76,
   "metadata": {},
   "outputs": [
    {
     "data": {
      "text/html": [
       "<div>\n",
       "<style scoped>\n",
       "    .dataframe tbody tr th:only-of-type {\n",
       "        vertical-align: middle;\n",
       "    }\n",
       "\n",
       "    .dataframe tbody tr th {\n",
       "        vertical-align: top;\n",
       "    }\n",
       "\n",
       "    .dataframe thead th {\n",
       "        text-align: right;\n",
       "    }\n",
       "</style>\n",
       "<table border=\"1\" class=\"dataframe\">\n",
       "  <thead>\n",
       "    <tr style=\"text-align: right;\">\n",
       "      <th></th>\n",
       "      <th>annualised_mean</th>\n",
       "      <th>annualised_sigma</th>\n",
       "      <th>skew</th>\n",
       "      <th>kurtosis</th>\n",
       "      <th>sharp_ratio</th>\n",
       "      <th>max_drawdown</th>\n",
       "    </tr>\n",
       "  </thead>\n",
       "  <tbody>\n",
       "    <tr>\n",
       "      <th>(2001-01-31, 2023-09-30)</th>\n",
       "      <td>0.055009</td>\n",
       "      <td>0.160995</td>\n",
       "      <td>-0.856140</td>\n",
       "      <td>2.121958</td>\n",
       "      <td>0.538119</td>\n",
       "      <td>-0.549231</td>\n",
       "    </tr>\n",
       "    <tr>\n",
       "      <th>(2001-01-31, 2019-12-31)</th>\n",
       "      <td>0.054624</td>\n",
       "      <td>0.154934</td>\n",
       "      <td>-0.987229</td>\n",
       "      <td>2.835527</td>\n",
       "      <td>0.550549</td>\n",
       "      <td>-0.549231</td>\n",
       "    </tr>\n",
       "    <tr>\n",
       "      <th>(2000-08-31, 2023-07-31)</th>\n",
       "      <td>0.058540</td>\n",
       "      <td>0.161136</td>\n",
       "      <td>-0.874261</td>\n",
       "      <td>2.159978</td>\n",
       "      <td>0.613556</td>\n",
       "      <td>-0.549231</td>\n",
       "    </tr>\n",
       "    <tr>\n",
       "      <th>(2003-03-31, 2020-03-31)</th>\n",
       "      <td>0.072407</td>\n",
       "      <td>0.154143</td>\n",
       "      <td>-1.182134</td>\n",
       "      <td>3.763084</td>\n",
       "      <td>0.953037</td>\n",
       "      <td>-0.549231</td>\n",
       "    </tr>\n",
       "    <tr>\n",
       "      <th>(2003-03-31, 2022-12-31)</th>\n",
       "      <td>0.080425</td>\n",
       "      <td>0.157982</td>\n",
       "      <td>-0.983730</td>\n",
       "      <td>2.908463</td>\n",
       "      <td>1.105673</td>\n",
       "      <td>-0.549231</td>\n",
       "    </tr>\n",
       "    <tr>\n",
       "      <th>(2009-02-28, 2022-12-31)</th>\n",
       "      <td>0.104803</td>\n",
       "      <td>0.154169</td>\n",
       "      <td>-0.435559</td>\n",
       "      <td>0.801444</td>\n",
       "      <td>1.680774</td>\n",
       "      <td>-0.256253</td>\n",
       "    </tr>\n",
       "    <tr>\n",
       "      <th>(2007-10-31, 2022-12-31)</th>\n",
       "      <td>0.045327</td>\n",
       "      <td>0.172403</td>\n",
       "      <td>-0.860163</td>\n",
       "      <td>2.140233</td>\n",
       "      <td>0.307968</td>\n",
       "      <td>-0.549231</td>\n",
       "    </tr>\n",
       "    <tr>\n",
       "      <th>(2007-10-31, 2015-05-30)</th>\n",
       "      <td>0.028687</td>\n",
       "      <td>0.187189</td>\n",
       "      <td>-1.004988</td>\n",
       "      <td>2.562275</td>\n",
       "      <td>-0.024306</td>\n",
       "      <td>-0.549231</td>\n",
       "    </tr>\n",
       "  </tbody>\n",
       "</table>\n",
       "</div>"
      ],
      "text/plain": [
       "                          annualised_mean  annualised_sigma      skew  \\\n",
       "(2001-01-31, 2023-09-30)         0.055009          0.160995 -0.856140   \n",
       "(2001-01-31, 2019-12-31)         0.054624          0.154934 -0.987229   \n",
       "(2000-08-31, 2023-07-31)         0.058540          0.161136 -0.874261   \n",
       "(2003-03-31, 2020-03-31)         0.072407          0.154143 -1.182134   \n",
       "(2003-03-31, 2022-12-31)         0.080425          0.157982 -0.983730   \n",
       "(2009-02-28, 2022-12-31)         0.104803          0.154169 -0.435559   \n",
       "(2007-10-31, 2022-12-31)         0.045327          0.172403 -0.860163   \n",
       "(2007-10-31, 2015-05-30)         0.028687          0.187189 -1.004988   \n",
       "\n",
       "                          kurtosis  sharp_ratio  max_drawdown  \n",
       "(2001-01-31, 2023-09-30)  2.121958     0.538119     -0.549231  \n",
       "(2001-01-31, 2019-12-31)  2.835527     0.550549     -0.549231  \n",
       "(2000-08-31, 2023-07-31)  2.159978     0.613556     -0.549231  \n",
       "(2003-03-31, 2020-03-31)  3.763084     0.953037     -0.549231  \n",
       "(2003-03-31, 2022-12-31)  2.908463     1.105673     -0.549231  \n",
       "(2009-02-28, 2022-12-31)  0.801444     1.680774     -0.256253  \n",
       "(2007-10-31, 2022-12-31)  2.140233     0.307968     -0.549231  \n",
       "(2007-10-31, 2015-05-30)  2.562275    -0.024306     -0.549231  "
      ]
     },
     "execution_count": 76,
     "metadata": {},
     "output_type": "execute_result"
    }
   ],
   "source": [
    "acwi_returns = prep.log_returns(acwi_prices)\n",
    "\n",
    "periods = [('2001-01-31', '2023-09-30'),\n",
    "           ('2001-01-31', '2019-12-31'), \n",
    "           ('2000-08-31', '2023-07-31'),\n",
    "           ('2003-03-31', '2020-03-31'),\n",
    "           ('2003-03-31', '2022-12-31'),\n",
    "           ('2009-02-28', '2022-12-31'),\n",
    "           ('2007-10-31', '2022-12-31'),\n",
    "           ('2007-10-31', '2015-05-30')\n",
    "           ]\n",
    "\n",
    "summary = []\n",
    "\n",
    "for period in periods:\n",
    "    summary.append(prep.assets_performance(acwi_returns[period[0]:period[1]]))\n",
    "\n",
    "df = pd.DataFrame(data=summary, index=periods)\n",
    "df.head(10)"
   ]
  },
  {
   "cell_type": "code",
   "execution_count": 82,
   "metadata": {},
   "outputs": [
    {
     "data": {
      "text/plain": [
       "<AxesSubplot:xlabel='ACWI Standard Net (Large+Mid Cap)', ylabel='Count'>"
      ]
     },
     "execution_count": 82,
     "metadata": {},
     "output_type": "execute_result"
    },
    {
     "data": {
      "image/png": "[encoded data removed]",
      "text/plain": [
       "<Figure size 432x288 with 1 Axes>"
      ]
     },
     "metadata": {
      "needs_background": "light"
     },
     "output_type": "display_data"
    }
   ],
   "source": [
    "sns.histplot(data=acwi_returns, bins=32)"
   ]
  },
  {
   "cell_type": "code",
   "execution_count": 7,
   "metadata": {},
   "outputs": [
    {
     "data": {
      "text/plain": [
       "0.08401249999999999"
      ]
     },
     "execution_count": 7,
     "metadata": {},
     "output_type": "execute_result"
    }
   ],
   "source": [
    "gbm_std = 0.155\n",
    "gbm_mean = 0.5*gbm_std**2 + 0.072\n",
    "gbm_mean"
   ]
  },
  {
   "cell_type": "code",
   "execution_count": 206,
   "metadata": {},
   "outputs": [],
   "source": [
    "\n",
    "model = pyesg.GeometricBrownianMotion(mu=0.072,sigma=0.155)\n",
    "scenarios = model.scenarios(349.54,1,100,50)"
   ]
  },
  {
   "cell_type": "code",
   "execution_count": 18,
   "metadata": {},
   "outputs": [],
   "source": [
    "np.savetxt('acwi_scenarios.csv', scenarios, delimiter=', ', fmt='%1.2f')"
   ]
  },
  {
   "cell_type": "code",
   "execution_count": 207,
   "metadata": {},
   "outputs": [
    {
     "data": {
      "text/html": [
       "<div>\n",
       "<style scoped>\n",
       "    .dataframe tbody tr th:only-of-type {\n",
       "        vertical-align: middle;\n",
       "    }\n",
       "\n",
       "    .dataframe tbody tr th {\n",
       "        vertical-align: top;\n",
       "    }\n",
       "\n",
       "    .dataframe thead th {\n",
       "        text-align: right;\n",
       "    }\n",
       "</style>\n",
       "<table border=\"1\" class=\"dataframe\">\n",
       "  <thead>\n",
       "    <tr style=\"text-align: right;\">\n",
       "      <th></th>\n",
       "      <th>1</th>\n",
       "      <th>2</th>\n",
       "      <th>3</th>\n",
       "      <th>5</th>\n",
       "      <th>10</th>\n",
       "      <th>15</th>\n",
       "      <th>20</th>\n",
       "      <th>50</th>\n",
       "    </tr>\n",
       "    <tr>\n",
       "      <th>perc</th>\n",
       "      <th></th>\n",
       "      <th></th>\n",
       "      <th></th>\n",
       "      <th></th>\n",
       "      <th></th>\n",
       "      <th></th>\n",
       "      <th></th>\n",
       "      <th></th>\n",
       "    </tr>\n",
       "  </thead>\n",
       "  <tbody>\n",
       "    <tr>\n",
       "      <th>1</th>\n",
       "      <td>262.917586</td>\n",
       "      <td>249.542564</td>\n",
       "      <td>234.076704</td>\n",
       "      <td>268.798483</td>\n",
       "      <td>234.797882</td>\n",
       "      <td>315.123182</td>\n",
       "      <td>271.963597</td>\n",
       "      <td>733.526781</td>\n",
       "    </tr>\n",
       "    <tr>\n",
       "      <th>5</th>\n",
       "      <td>290.574525</td>\n",
       "      <td>272.328130</td>\n",
       "      <td>275.684894</td>\n",
       "      <td>292.089709</td>\n",
       "      <td>279.983237</td>\n",
       "      <td>355.221288</td>\n",
       "      <td>429.274151</td>\n",
       "      <td>995.958810</td>\n",
       "    </tr>\n",
       "    <tr>\n",
       "      <th>25</th>\n",
       "      <td>326.672533</td>\n",
       "      <td>329.108326</td>\n",
       "      <td>333.705510</td>\n",
       "      <td>378.013828</td>\n",
       "      <td>449.015992</td>\n",
       "      <td>578.973296</td>\n",
       "      <td>709.890618</td>\n",
       "      <td>2692.587825</td>\n",
       "    </tr>\n",
       "    <tr>\n",
       "      <th>50</th>\n",
       "      <td>359.885972</td>\n",
       "      <td>380.876623</td>\n",
       "      <td>412.425487</td>\n",
       "      <td>479.652120</td>\n",
       "      <td>593.601027</td>\n",
       "      <td>831.600990</td>\n",
       "      <td>1154.723668</td>\n",
       "      <td>6485.240127</td>\n",
       "    </tr>\n",
       "    <tr>\n",
       "      <th>75</th>\n",
       "      <td>395.536887</td>\n",
       "      <td>440.140296</td>\n",
       "      <td>503.784758</td>\n",
       "      <td>584.536693</td>\n",
       "      <td>899.774209</td>\n",
       "      <td>1165.455332</td>\n",
       "      <td>1709.685236</td>\n",
       "      <td>16090.393953</td>\n",
       "    </tr>\n",
       "    <tr>\n",
       "      <th>95</th>\n",
       "      <td>472.906583</td>\n",
       "      <td>554.840130</td>\n",
       "      <td>635.757811</td>\n",
       "      <td>744.547970</td>\n",
       "      <td>1299.645079</td>\n",
       "      <td>2091.111098</td>\n",
       "      <td>3739.837977</td>\n",
       "      <td>45448.563478</td>\n",
       "    </tr>\n",
       "    <tr>\n",
       "      <th>99</th>\n",
       "      <td>480.455940</td>\n",
       "      <td>598.253910</td>\n",
       "      <td>747.702801</td>\n",
       "      <td>1085.490170</td>\n",
       "      <td>1821.747257</td>\n",
       "      <td>2864.857456</td>\n",
       "      <td>4335.960881</td>\n",
       "      <td>75018.533877</td>\n",
       "    </tr>\n",
       "  </tbody>\n",
       "</table>\n",
       "</div>"
      ],
      "text/plain": [
       "               1           2           3            5           10  \\\n",
       "perc                                                                 \n",
       "1     262.917586  249.542564  234.076704   268.798483   234.797882   \n",
       "5     290.574525  272.328130  275.684894   292.089709   279.983237   \n",
       "25    326.672533  329.108326  333.705510   378.013828   449.015992   \n",
       "50    359.885972  380.876623  412.425487   479.652120   593.601027   \n",
       "75    395.536887  440.140296  503.784758   584.536693   899.774209   \n",
       "95    472.906583  554.840130  635.757811   744.547970  1299.645079   \n",
       "99    480.455940  598.253910  747.702801  1085.490170  1821.747257   \n",
       "\n",
       "               15           20            50  \n",
       "perc                                          \n",
       "1      315.123182   271.963597    733.526781  \n",
       "5      355.221288   429.274151    995.958810  \n",
       "25     578.973296   709.890618   2692.587825  \n",
       "50     831.600990  1154.723668   6485.240127  \n",
       "75    1165.455332  1709.685236  16090.393953  \n",
       "95    2091.111098  3739.837977  45448.563478  \n",
       "99    2864.857456  4335.960881  75018.533877  "
      ]
     },
     "execution_count": 207,
     "metadata": {},
     "output_type": "execute_result"
    }
   ],
   "source": [
    "perc = np.percentile(scenarios,[1,5,25,50,75,95,99],axis=0)\n",
    "#fanchart(None, perc)\n",
    "\n",
    "def percentile_summary(perc):\n",
    "    perc_dict = {'perc': ['1','5','25','50','75','95','99'],\n",
    "                 '1': perc[:,1],\n",
    "                 '2': perc[:,2],\n",
    "                 '3': perc[:,3],\n",
    "                 '5': perc[:,5],\n",
    "                 '10': perc[:,10],\n",
    "                 '15': perc[:,15],\n",
    "                 '20': perc[:,20],\n",
    "                 '50': perc[:,50]\n",
    "                 }\n",
    "    \n",
    "    perc_summary = pd.DataFrame(perc_dict)\n",
    "    perc_summary.set_index('perc', inplace=True)\n",
    "    return perc_summary\n",
    "percentile_summary(perc)"
   ]
  },
  {
   "cell_type": "code",
   "execution_count": 249,
   "metadata": {},
   "outputs": [
    {
     "data": {
      "text/html": [
       "<div>\n",
       "<style scoped>\n",
       "    .dataframe tbody tr th:only-of-type {\n",
       "        vertical-align: middle;\n",
       "    }\n",
       "\n",
       "    .dataframe tbody tr th {\n",
       "        vertical-align: top;\n",
       "    }\n",
       "\n",
       "    .dataframe thead th {\n",
       "        text-align: right;\n",
       "    }\n",
       "</style>\n",
       "<table border=\"1\" class=\"dataframe\">\n",
       "  <thead>\n",
       "    <tr style=\"text-align: right;\">\n",
       "      <th></th>\n",
       "      <th>1</th>\n",
       "      <th>2</th>\n",
       "      <th>3</th>\n",
       "      <th>5</th>\n",
       "      <th>10</th>\n",
       "      <th>15</th>\n",
       "      <th>20</th>\n",
       "      <th>50</th>\n",
       "    </tr>\n",
       "  </thead>\n",
       "  <tbody>\n",
       "    <tr>\n",
       "      <th>1</th>\n",
       "      <td>262.917586</td>\n",
       "      <td>249.542564</td>\n",
       "      <td>234.076704</td>\n",
       "      <td>268.798483</td>\n",
       "      <td>234.797882</td>\n",
       "      <td>315.123182</td>\n",
       "      <td>271.963597</td>\n",
       "      <td>733.526781</td>\n",
       "    </tr>\n",
       "    <tr>\n",
       "      <th>5</th>\n",
       "      <td>290.574525</td>\n",
       "      <td>272.328130</td>\n",
       "      <td>275.684894</td>\n",
       "      <td>292.089709</td>\n",
       "      <td>279.983237</td>\n",
       "      <td>355.221288</td>\n",
       "      <td>429.274151</td>\n",
       "      <td>995.958810</td>\n",
       "    </tr>\n",
       "    <tr>\n",
       "      <th>25</th>\n",
       "      <td>326.672533</td>\n",
       "      <td>329.108326</td>\n",
       "      <td>333.705510</td>\n",
       "      <td>378.013828</td>\n",
       "      <td>449.015992</td>\n",
       "      <td>578.973296</td>\n",
       "      <td>709.890618</td>\n",
       "      <td>2692.587825</td>\n",
       "    </tr>\n",
       "    <tr>\n",
       "      <th>50</th>\n",
       "      <td>359.885972</td>\n",
       "      <td>380.876623</td>\n",
       "      <td>412.425487</td>\n",
       "      <td>479.652120</td>\n",
       "      <td>593.601027</td>\n",
       "      <td>831.600990</td>\n",
       "      <td>1154.723668</td>\n",
       "      <td>6485.240127</td>\n",
       "    </tr>\n",
       "    <tr>\n",
       "      <th>75</th>\n",
       "      <td>395.536887</td>\n",
       "      <td>440.140296</td>\n",
       "      <td>503.784758</td>\n",
       "      <td>584.536693</td>\n",
       "      <td>899.774209</td>\n",
       "      <td>1165.455332</td>\n",
       "      <td>1709.685236</td>\n",
       "      <td>16090.393953</td>\n",
       "    </tr>\n",
       "    <tr>\n",
       "      <th>95</th>\n",
       "      <td>472.906583</td>\n",
       "      <td>554.840130</td>\n",
       "      <td>635.757811</td>\n",
       "      <td>744.547970</td>\n",
       "      <td>1299.645079</td>\n",
       "      <td>2091.111098</td>\n",
       "      <td>3739.837977</td>\n",
       "      <td>45448.563478</td>\n",
       "    </tr>\n",
       "    <tr>\n",
       "      <th>99</th>\n",
       "      <td>480.455940</td>\n",
       "      <td>598.253910</td>\n",
       "      <td>747.702801</td>\n",
       "      <td>1085.490170</td>\n",
       "      <td>1821.747257</td>\n",
       "      <td>2864.857456</td>\n",
       "      <td>4335.960881</td>\n",
       "      <td>75018.533877</td>\n",
       "    </tr>\n",
       "  </tbody>\n",
       "</table>\n",
       "</div>"
      ],
      "text/plain": [
       "            1           2           3            5            10           15  \\\n",
       "1   262.917586  249.542564  234.076704   268.798483   234.797882   315.123182   \n",
       "5   290.574525  272.328130  275.684894   292.089709   279.983237   355.221288   \n",
       "25  326.672533  329.108326  333.705510   378.013828   449.015992   578.973296   \n",
       "50  359.885972  380.876623  412.425487   479.652120   593.601027   831.600990   \n",
       "75  395.536887  440.140296  503.784758   584.536693   899.774209  1165.455332   \n",
       "95  472.906583  554.840130  635.757811   744.547970  1299.645079  2091.111098   \n",
       "99  480.455940  598.253910  747.702801  1085.490170  1821.747257  2864.857456   \n",
       "\n",
       "             20            50  \n",
       "1    271.963597    733.526781  \n",
       "5    429.274151    995.958810  \n",
       "25   709.890618   2692.587825  \n",
       "50  1154.723668   6485.240127  \n",
       "75  1709.685236  16090.393953  \n",
       "95  3739.837977  45448.563478  \n",
       "99  4335.960881  75018.533877  "
      ]
     },
     "execution_count": 249,
     "metadata": {},
     "output_type": "execute_result"
    }
   ],
   "source": []
  },
  {
   "cell_type": "code",
   "execution_count": 109,
   "metadata": {},
   "outputs": [
    {
     "data": {
      "image/png": "[encoded data removed]",
      "text/plain": [
       "<Figure size 864x288 with 1 Axes>"
      ]
     },
     "metadata": {
      "needs_background": "light"
     },
     "output_type": "display_data"
    }
   ],
   "source": [
    "ax,fig = plt.subplots(figsize=(12,4))\n",
    "for i in np.random.randint(0,100,20):\n",
    "    sns.lineplot(data=scenarios[i])"
   ]
  },
  {
   "cell_type": "code",
   "execution_count": 274,
   "metadata": {},
   "outputs": [
    {
     "data": {
      "text/html": [
       "<div>\n",
       "<style scoped>\n",
       "    .dataframe tbody tr th:only-of-type {\n",
       "        vertical-align: middle;\n",
       "    }\n",
       "\n",
       "    .dataframe tbody tr th {\n",
       "        vertical-align: top;\n",
       "    }\n",
       "\n",
       "    .dataframe thead th {\n",
       "        text-align: right;\n",
       "    }\n",
       "</style>\n",
       "<table border=\"1\" class=\"dataframe\">\n",
       "  <thead>\n",
       "    <tr style=\"text-align: right;\">\n",
       "      <th></th>\n",
       "      <th>&lt;lambda&gt;</th>\n",
       "      <th>annualised_sigma</th>\n",
       "      <th>skew</th>\n",
       "      <th>kurtosis</th>\n",
       "      <th>sharp_ratio</th>\n",
       "      <th>max_drawdown</th>\n",
       "    </tr>\n",
       "  </thead>\n",
       "  <tbody>\n",
       "    <tr>\n",
       "      <th>count</th>\n",
       "      <td>100.000000</td>\n",
       "      <td>100.000000</td>\n",
       "      <td>100.000000</td>\n",
       "      <td>100.000000</td>\n",
       "      <td>100.000000</td>\n",
       "      <td>100.000000</td>\n",
       "    </tr>\n",
       "    <tr>\n",
       "      <th>mean</th>\n",
       "      <td>0.058750</td>\n",
       "      <td>0.530289</td>\n",
       "      <td>-0.011227</td>\n",
       "      <td>0.007787</td>\n",
       "      <td>4.427924</td>\n",
       "      <td>-0.382242</td>\n",
       "    </tr>\n",
       "    <tr>\n",
       "      <th>std</th>\n",
       "      <td>0.023846</td>\n",
       "      <td>0.057091</td>\n",
       "      <td>0.346784</td>\n",
       "      <td>0.750744</td>\n",
       "      <td>1.918162</td>\n",
       "      <td>0.108458</td>\n",
       "    </tr>\n",
       "    <tr>\n",
       "      <th>min</th>\n",
       "      <td>0.005524</td>\n",
       "      <td>0.373776</td>\n",
       "      <td>-1.130714</td>\n",
       "      <td>-1.245993</td>\n",
       "      <td>0.305230</td>\n",
       "      <td>-0.703949</td>\n",
       "    </tr>\n",
       "    <tr>\n",
       "      <th>25%</th>\n",
       "      <td>0.040832</td>\n",
       "      <td>0.483208</td>\n",
       "      <td>-0.223218</td>\n",
       "      <td>-0.446925</td>\n",
       "      <td>3.073979</td>\n",
       "      <td>-0.469185</td>\n",
       "    </tr>\n",
       "    <tr>\n",
       "      <th>50%</th>\n",
       "      <td>0.058411</td>\n",
       "      <td>0.530893</td>\n",
       "      <td>0.008054</td>\n",
       "      <td>-0.153118</td>\n",
       "      <td>4.199129</td>\n",
       "      <td>-0.366103</td>\n",
       "    </tr>\n",
       "    <tr>\n",
       "      <th>75%</th>\n",
       "      <td>0.076587</td>\n",
       "      <td>0.571489</td>\n",
       "      <td>0.219759</td>\n",
       "      <td>0.233486</td>\n",
       "      <td>5.744940</td>\n",
       "      <td>-0.304745</td>\n",
       "    </tr>\n",
       "    <tr>\n",
       "      <th>max</th>\n",
       "      <td>0.108872</td>\n",
       "      <td>0.698545</td>\n",
       "      <td>0.861709</td>\n",
       "      <td>2.813471</td>\n",
       "      <td>9.241910</td>\n",
       "      <td>-0.165601</td>\n",
       "    </tr>\n",
       "  </tbody>\n",
       "</table>\n",
       "</div>"
      ],
      "text/plain": [
       "         <lambda>  annualised_sigma        skew    kurtosis  sharp_ratio  \\\n",
       "count  100.000000        100.000000  100.000000  100.000000   100.000000   \n",
       "mean     0.058750          0.530289   -0.011227    0.007787     4.427924   \n",
       "std      0.023846          0.057091    0.346784    0.750744     1.918162   \n",
       "min      0.005524          0.373776   -1.130714   -1.245993     0.305230   \n",
       "25%      0.040832          0.483208   -0.223218   -0.446925     3.073979   \n",
       "50%      0.058411          0.530893    0.008054   -0.153118     4.199129   \n",
       "75%      0.076587          0.571489    0.219759    0.233486     5.744940   \n",
       "max      0.108872          0.698545    0.861709    2.813471     9.241910   \n",
       "\n",
       "       max_drawdown  \n",
       "count    100.000000  \n",
       "mean      -0.382242  \n",
       "std        0.108458  \n",
       "min       -0.703949  \n",
       "25%       -0.469185  \n",
       "50%       -0.366103  \n",
       "75%       -0.304745  \n",
       "max       -0.165601  "
      ]
     },
     "metadata": {},
     "output_type": "display_data"
    }
   ],
   "source": [
    "scenarios_df = pd.DataFrame(data=scenarios.T, index=range(0,51), columns=range(0,100))\n",
    "scenarios_returns = prep.log_returns(scenarios_df)\n",
    "display(eval.describe_scenarios_vertically(scenarios_returns, data_freq='y'))\n"
   ]
  },
  {
   "cell_type": "code",
   "execution_count": 272,
   "metadata": {},
   "outputs": [
    {
     "data": {
      "text/plain": [
       "<lambda>            0.018336\n",
       "annualised_sigma    0.160995\n",
       "skew               -0.856140\n",
       "kurtosis            2.121958\n",
       "sharp_ratio         0.538119\n",
       "max_drawdown       -0.549231\n",
       "Name: ACWI Standard Net (Large+Mid Cap), dtype: float64"
      ]
     },
     "execution_count": 272,
     "metadata": {},
     "output_type": "execute_result"
    }
   ],
   "source": [
    "prep.assets_performance(acwi_returns,data_freq='q')"
   ]
  },
  {
   "cell_type": "code",
   "execution_count": 263,
   "metadata": {},
   "outputs": [
    {
     "data": {
      "text/html": [
       "<div>\n",
       "<style scoped>\n",
       "    .dataframe tbody tr th:only-of-type {\n",
       "        vertical-align: middle;\n",
       "    }\n",
       "\n",
       "    .dataframe tbody tr th {\n",
       "        vertical-align: top;\n",
       "    }\n",
       "\n",
       "    .dataframe thead th {\n",
       "        text-align: right;\n",
       "    }\n",
       "</style>\n",
       "<table border=\"1\" class=\"dataframe\">\n",
       "  <thead>\n",
       "    <tr style=\"text-align: right;\">\n",
       "      <th></th>\n",
       "      <th>1</th>\n",
       "      <th>2</th>\n",
       "      <th>3</th>\n",
       "      <th>5</th>\n",
       "      <th>10</th>\n",
       "      <th>15</th>\n",
       "      <th>20</th>\n",
       "      <th>50</th>\n",
       "    </tr>\n",
       "  </thead>\n",
       "  <tbody>\n",
       "    <tr>\n",
       "      <th>1</th>\n",
       "      <td>262.917586</td>\n",
       "      <td>249.542564</td>\n",
       "      <td>234.076704</td>\n",
       "      <td>268.798483</td>\n",
       "      <td>234.797882</td>\n",
       "      <td>315.123182</td>\n",
       "      <td>271.963597</td>\n",
       "      <td>733.526781</td>\n",
       "    </tr>\n",
       "    <tr>\n",
       "      <th>5</th>\n",
       "      <td>290.574525</td>\n",
       "      <td>272.328130</td>\n",
       "      <td>275.684894</td>\n",
       "      <td>292.089709</td>\n",
       "      <td>279.983237</td>\n",
       "      <td>355.221288</td>\n",
       "      <td>429.274151</td>\n",
       "      <td>995.958810</td>\n",
       "    </tr>\n",
       "    <tr>\n",
       "      <th>25</th>\n",
       "      <td>326.672533</td>\n",
       "      <td>329.108326</td>\n",
       "      <td>333.705510</td>\n",
       "      <td>378.013828</td>\n",
       "      <td>449.015992</td>\n",
       "      <td>578.973296</td>\n",
       "      <td>709.890618</td>\n",
       "      <td>2692.587825</td>\n",
       "    </tr>\n",
       "    <tr>\n",
       "      <th>50</th>\n",
       "      <td>359.885972</td>\n",
       "      <td>380.876623</td>\n",
       "      <td>412.425487</td>\n",
       "      <td>479.652120</td>\n",
       "      <td>593.601027</td>\n",
       "      <td>831.600990</td>\n",
       "      <td>1154.723668</td>\n",
       "      <td>6485.240127</td>\n",
       "    </tr>\n",
       "    <tr>\n",
       "      <th>75</th>\n",
       "      <td>395.536887</td>\n",
       "      <td>440.140296</td>\n",
       "      <td>503.784758</td>\n",
       "      <td>584.536693</td>\n",
       "      <td>899.774209</td>\n",
       "      <td>1165.455332</td>\n",
       "      <td>1709.685236</td>\n",
       "      <td>16090.393953</td>\n",
       "    </tr>\n",
       "    <tr>\n",
       "      <th>95</th>\n",
       "      <td>472.906583</td>\n",
       "      <td>554.840130</td>\n",
       "      <td>635.757811</td>\n",
       "      <td>744.547970</td>\n",
       "      <td>1299.645079</td>\n",
       "      <td>2091.111098</td>\n",
       "      <td>3739.837977</td>\n",
       "      <td>45448.563478</td>\n",
       "    </tr>\n",
       "    <tr>\n",
       "      <th>99</th>\n",
       "      <td>480.455940</td>\n",
       "      <td>598.253910</td>\n",
       "      <td>747.702801</td>\n",
       "      <td>1085.490170</td>\n",
       "      <td>1821.747257</td>\n",
       "      <td>2864.857456</td>\n",
       "      <td>4335.960881</td>\n",
       "      <td>75018.533877</td>\n",
       "    </tr>\n",
       "  </tbody>\n",
       "</table>\n",
       "</div>"
      ],
      "text/plain": [
       "            1           2           3            5            10           15  \\\n",
       "1   262.917586  249.542564  234.076704   268.798483   234.797882   315.123182   \n",
       "5   290.574525  272.328130  275.684894   292.089709   279.983237   355.221288   \n",
       "25  326.672533  329.108326  333.705510   378.013828   449.015992   578.973296   \n",
       "50  359.885972  380.876623  412.425487   479.652120   593.601027   831.600990   \n",
       "75  395.536887  440.140296  503.784758   584.536693   899.774209  1165.455332   \n",
       "95  472.906583  554.840130  635.757811   744.547970  1299.645079  2091.111098   \n",
       "99  480.455940  598.253910  747.702801  1085.490170  1821.747257  2864.857456   \n",
       "\n",
       "             20            50  \n",
       "1    271.963597    733.526781  \n",
       "5    429.274151    995.958810  \n",
       "25   709.890618   2692.587825  \n",
       "50  1154.723668   6485.240127  \n",
       "75  1709.685236  16090.393953  \n",
       "95  3739.837977  45448.563478  \n",
       "99  4335.960881  75018.533877  "
      ]
     },
     "execution_count": 263,
     "metadata": {},
     "output_type": "execute_result"
    }
   ],
   "source": [
    "eval.percentile_summary(scenarios_df)"
   ]
  },
  {
   "cell_type": "code",
   "execution_count": 289,
   "metadata": {},
   "outputs": [],
   "source": [
    "def fanchart(hist,scenarios):\n",
    "    percentiles = np.percentile(scenarios,[1,5,25,50,75,95,99],axis=1)\n",
    "    hist_len = hist.shape[0]\n",
    "    n_steps = scenarios.shape[1] \n",
    "    x1 = np.arange(-hist_len+1,1)\n",
    "    x2 = np.arange(0,n_steps+1)\n",
    "    \n",
    "    fig,ax = plt.subplots(figsize=(12,6))\n",
    "    ax.plot(x1, hist,color='red')\n",
    "    ax.plot(x2, percentiles[3], color='blue')\n",
    "      \n",
    "    for i in range(1,4):\n",
    "        ax.fill_between(x=x2,y1=percentiles[i-1],y2=percentiles[-i], color='blue', alpha=i/10)\n",
    "       "
   ]
  },
  {
   "cell_type": "code",
   "execution_count": 291,
   "metadata": {},
   "outputs": [
    {
     "ename": "ValueError",
     "evalue": "x and y must have same first dimension, but have shapes (52,) and (100,)",
     "output_type": "error",
     "traceback": [
      "\u001b[1;31m---------------------------------------------------------------------------\u001b[0m",
      "\u001b[1;31mValueError\u001b[0m                                Traceback (most recent call last)",
      "\u001b[1;32mc:\\Users\\matsz\\programowanie\\Optymalizacja portfela\\esg\\acwi.ipynb Cell 16\u001b[0m line \u001b[0;36m<cell line: 1>\u001b[1;34m()\u001b[0m\n\u001b[1;32m----> <a href='vscode-notebook-cell:/c%3A/Users/matsz/programowanie/Optymalizacja%20portfela/esg/acwi.ipynb#X41sZmlsZQ%3D%3D?line=0'>1</a>\u001b[0m fanchart(acwi_prices\u001b[39m.\u001b[39;49miloc[\u001b[39m-\u001b[39;49m\u001b[39m36\u001b[39;49m:],scenarios)\n",
      "\u001b[1;32mc:\\Users\\matsz\\programowanie\\Optymalizacja portfela\\esg\\acwi.ipynb Cell 16\u001b[0m line \u001b[0;36mfanchart\u001b[1;34m(hist, scenarios)\u001b[0m\n\u001b[0;32m      <a href='vscode-notebook-cell:/c%3A/Users/matsz/programowanie/Optymalizacja%20portfela/esg/acwi.ipynb#X41sZmlsZQ%3D%3D?line=7'>8</a>\u001b[0m fig,ax \u001b[39m=\u001b[39m plt\u001b[39m.\u001b[39msubplots(figsize\u001b[39m=\u001b[39m(\u001b[39m12\u001b[39m,\u001b[39m6\u001b[39m))\n\u001b[0;32m      <a href='vscode-notebook-cell:/c%3A/Users/matsz/programowanie/Optymalizacja%20portfela/esg/acwi.ipynb#X41sZmlsZQ%3D%3D?line=8'>9</a>\u001b[0m ax\u001b[39m.\u001b[39mplot(x1, hist,color\u001b[39m=\u001b[39m\u001b[39m'\u001b[39m\u001b[39mred\u001b[39m\u001b[39m'\u001b[39m)\n\u001b[1;32m---> <a href='vscode-notebook-cell:/c%3A/Users/matsz/programowanie/Optymalizacja%20portfela/esg/acwi.ipynb#X41sZmlsZQ%3D%3D?line=9'>10</a>\u001b[0m ax\u001b[39m.\u001b[39;49mplot(x2, percentiles[\u001b[39m3\u001b[39;49m], color\u001b[39m=\u001b[39;49m\u001b[39m'\u001b[39;49m\u001b[39mblue\u001b[39;49m\u001b[39m'\u001b[39;49m)\n\u001b[0;32m     <a href='vscode-notebook-cell:/c%3A/Users/matsz/programowanie/Optymalizacja%20portfela/esg/acwi.ipynb#X41sZmlsZQ%3D%3D?line=11'>12</a>\u001b[0m \u001b[39mfor\u001b[39;00m i \u001b[39min\u001b[39;00m \u001b[39mrange\u001b[39m(\u001b[39m1\u001b[39m,\u001b[39m4\u001b[39m):\n\u001b[0;32m     <a href='vscode-notebook-cell:/c%3A/Users/matsz/programowanie/Optymalizacja%20portfela/esg/acwi.ipynb#X41sZmlsZQ%3D%3D?line=12'>13</a>\u001b[0m     ax\u001b[39m.\u001b[39mfill_between(x\u001b[39m=\u001b[39mx2,y1\u001b[39m=\u001b[39mpercentiles[i\u001b[39m-\u001b[39m\u001b[39m1\u001b[39m],y2\u001b[39m=\u001b[39mpercentiles[\u001b[39m-\u001b[39mi], color\u001b[39m=\u001b[39m\u001b[39m'\u001b[39m\u001b[39mblue\u001b[39m\u001b[39m'\u001b[39m, alpha\u001b[39m=\u001b[39mi\u001b[39m/\u001b[39m\u001b[39m10\u001b[39m)\n",
      "File \u001b[1;32mc:\\Users\\matsz\\miniconda3\\envs\\portfolio-optimisation\\lib\\site-packages\\matplotlib\\axes\\_axes.py:1632\u001b[0m, in \u001b[0;36mAxes.plot\u001b[1;34m(self, scalex, scaley, data, *args, **kwargs)\u001b[0m\n\u001b[0;32m   1390\u001b[0m \u001b[39m\"\"\"\u001b[39;00m\n\u001b[0;32m   1391\u001b[0m \u001b[39mPlot y versus x as lines and/or markers.\u001b[39;00m\n\u001b[0;32m   1392\u001b[0m \n\u001b[1;32m   (...)\u001b[0m\n\u001b[0;32m   1629\u001b[0m \u001b[39m(``'green'``) or hex strings (``'#008000'``).\u001b[39;00m\n\u001b[0;32m   1630\u001b[0m \u001b[39m\"\"\"\u001b[39;00m\n\u001b[0;32m   1631\u001b[0m kwargs \u001b[39m=\u001b[39m cbook\u001b[39m.\u001b[39mnormalize_kwargs(kwargs, mlines\u001b[39m.\u001b[39mLine2D)\n\u001b[1;32m-> 1632\u001b[0m lines \u001b[39m=\u001b[39m [\u001b[39m*\u001b[39m\u001b[39mself\u001b[39m\u001b[39m.\u001b[39m_get_lines(\u001b[39m*\u001b[39margs, data\u001b[39m=\u001b[39mdata, \u001b[39m*\u001b[39m\u001b[39m*\u001b[39mkwargs)]\n\u001b[0;32m   1633\u001b[0m \u001b[39mfor\u001b[39;00m line \u001b[39min\u001b[39;00m lines:\n\u001b[0;32m   1634\u001b[0m     \u001b[39mself\u001b[39m\u001b[39m.\u001b[39madd_line(line)\n",
      "File \u001b[1;32mc:\\Users\\matsz\\miniconda3\\envs\\portfolio-optimisation\\lib\\site-packages\\matplotlib\\axes\\_base.py:312\u001b[0m, in \u001b[0;36m_process_plot_var_args.__call__\u001b[1;34m(self, data, *args, **kwargs)\u001b[0m\n\u001b[0;32m    310\u001b[0m     this \u001b[39m+\u001b[39m\u001b[39m=\u001b[39m args[\u001b[39m0\u001b[39m],\n\u001b[0;32m    311\u001b[0m     args \u001b[39m=\u001b[39m args[\u001b[39m1\u001b[39m:]\n\u001b[1;32m--> 312\u001b[0m \u001b[39myield from\u001b[39;00m \u001b[39mself\u001b[39;49m\u001b[39m.\u001b[39;49m_plot_args(this, kwargs)\n",
      "File \u001b[1;32mc:\\Users\\matsz\\miniconda3\\envs\\portfolio-optimisation\\lib\\site-packages\\matplotlib\\axes\\_base.py:498\u001b[0m, in \u001b[0;36m_process_plot_var_args._plot_args\u001b[1;34m(self, tup, kwargs, return_kwargs)\u001b[0m\n\u001b[0;32m    495\u001b[0m     \u001b[39mself\u001b[39m\u001b[39m.\u001b[39maxes\u001b[39m.\u001b[39myaxis\u001b[39m.\u001b[39mupdate_units(y)\n\u001b[0;32m    497\u001b[0m \u001b[39mif\u001b[39;00m x\u001b[39m.\u001b[39mshape[\u001b[39m0\u001b[39m] \u001b[39m!=\u001b[39m y\u001b[39m.\u001b[39mshape[\u001b[39m0\u001b[39m]:\n\u001b[1;32m--> 498\u001b[0m     \u001b[39mraise\u001b[39;00m \u001b[39mValueError\u001b[39;00m(\u001b[39mf\u001b[39m\u001b[39m\"\u001b[39m\u001b[39mx and y must have same first dimension, but \u001b[39m\u001b[39m\"\u001b[39m\n\u001b[0;32m    499\u001b[0m                      \u001b[39mf\u001b[39m\u001b[39m\"\u001b[39m\u001b[39mhave shapes \u001b[39m\u001b[39m{\u001b[39;00mx\u001b[39m.\u001b[39mshape\u001b[39m}\u001b[39;00m\u001b[39m and \u001b[39m\u001b[39m{\u001b[39;00my\u001b[39m.\u001b[39mshape\u001b[39m}\u001b[39;00m\u001b[39m\"\u001b[39m)\n\u001b[0;32m    500\u001b[0m \u001b[39mif\u001b[39;00m x\u001b[39m.\u001b[39mndim \u001b[39m>\u001b[39m \u001b[39m2\u001b[39m \u001b[39mor\u001b[39;00m y\u001b[39m.\u001b[39mndim \u001b[39m>\u001b[39m \u001b[39m2\u001b[39m:\n\u001b[0;32m    501\u001b[0m     \u001b[39mraise\u001b[39;00m \u001b[39mValueError\u001b[39;00m(\u001b[39mf\u001b[39m\u001b[39m\"\u001b[39m\u001b[39mx and y can be no greater than 2D, but have \u001b[39m\u001b[39m\"\u001b[39m\n\u001b[0;32m    502\u001b[0m                      \u001b[39mf\u001b[39m\u001b[39m\"\u001b[39m\u001b[39mshapes \u001b[39m\u001b[39m{\u001b[39;00mx\u001b[39m.\u001b[39mshape\u001b[39m}\u001b[39;00m\u001b[39m and \u001b[39m\u001b[39m{\u001b[39;00my\u001b[39m.\u001b[39mshape\u001b[39m}\u001b[39;00m\u001b[39m\"\u001b[39m)\n",
      "\u001b[1;31mValueError\u001b[0m: x and y must have same first dimension, but have shapes (52,) and (100,)"
     ]
    },
    {
     "data": {
      "image/png": "[encoded data removed]",
      "text/plain": [
       "<Figure size 864x432 with 1 Axes>"
      ]
     },
     "metadata": {
      "needs_background": "light"
     },
     "output_type": "display_data"
    }
   ],
   "source": [
    "fanchart(acwi_prices.iloc[-36:],scenarios)"
   ]
  },
  {
   "cell_type": "code",
   "execution_count": 166,
   "metadata": {},
   "outputs": [
    {
     "data": {
      "text/plain": [
       "[<matplotlib.lines.Line2D at 0x2d448353bb0>]"
      ]
     },
     "execution_count": 166,
     "metadata": {},
     "output_type": "execute_result"
    },
    {
     "data": {
      "image/png": "[encoded data removed]",
      "text/plain": [
       "<Figure size 864x432 with 1 Axes>"
      ]
     },
     "metadata": {
      "needs_background": "light"
     },
     "output_type": "display_data"
    }
   ],
   "source": [
    "x = np.linspace(0,5,5)\n",
    "y= np.arange(5,10)\n",
    "fig,ax = plt.subplots(figsize=(12,6))\n",
    "ax.plot(x,y)\n",
    "x1 = np.linspace(-5,0,6)\n",
    "y1 = np.arange(0,6) \n",
    "ax.plot(x1,y1,color='red')"
   ]
  },
  {
   "cell_type": "code",
   "execution_count": 22,
   "metadata": {},
   "outputs": [],
   "source": [
    "below_zero = np.round(np.count_nonzero(scenarios<100,axis=0)/600,2)"
   ]
  },
  {
   "cell_type": "code",
   "execution_count": 242,
   "metadata": {},
   "outputs": [
    {
     "ename": "ValueError",
     "evalue": "Domain error in arguments.",
     "output_type": "error",
     "traceback": [
      "\u001b[1;31m---------------------------------------------------------------------------\u001b[0m",
      "\u001b[1;31mValueError\u001b[0m                                Traceback (most recent call last)",
      "\u001b[1;32mc:\\Users\\matsz\\programowanie\\Optymalizacja portfela\\esg\\acwi.ipynb Cell 18\u001b[0m line \u001b[0;36m<cell line: 7>\u001b[1;34m()\u001b[0m\n\u001b[0;32m      <a href='vscode-notebook-cell:/c%3A/Users/matsz/programowanie/Optymalizacja%20portfela/esg/acwi.ipynb#X50sZmlsZQ%3D%3D?line=4'>5</a>\u001b[0m mean \u001b[39m=\u001b[39m (T\u001b[39m/\u001b[39m\u001b[39m2\u001b[39m\u001b[39m+\u001b[39m\u001b[39m1\u001b[39m)\n\u001b[0;32m      <a href='vscode-notebook-cell:/c%3A/Users/matsz/programowanie/Optymalizacja%20portfela/esg/acwi.ipynb#X50sZmlsZQ%3D%3D?line=5'>6</a>\u001b[0m a \u001b[39m=\u001b[39m sum_res\u001b[39m/\u001b[39mmean\u001b[39m-\u001b[39m\u001b[39m1\u001b[39m\n\u001b[1;32m----> <a href='vscode-notebook-cell:/c%3A/Users/matsz/programowanie/Optymalizacja%20portfela/esg/acwi.ipynb#X50sZmlsZQ%3D%3D?line=6'>7</a>\u001b[0m s \u001b[39m=\u001b[39m invgamma\u001b[39m.\u001b[39;49mrvs(a, loc\u001b[39m=\u001b[39;49mmean,scale\u001b[39m=\u001b[39;49msum_res,size\u001b[39m=\u001b[39;49m\u001b[39m100\u001b[39;49m)\u001b[39m*\u001b[39m\u001b[39m*\u001b[39m\u001b[39m0.5\u001b[39m\n",
      "File \u001b[1;32mc:\\Users\\matsz\\miniconda3\\envs\\portfolio-optimisation\\lib\\site-packages\\scipy\\stats\\_distn_infrastructure.py:1067\u001b[0m, in \u001b[0;36mrv_generic.rvs\u001b[1;34m(self, *args, **kwds)\u001b[0m\n\u001b[0;32m   1065\u001b[0m cond \u001b[39m=\u001b[39m logical_and(\u001b[39mself\u001b[39m\u001b[39m.\u001b[39m_argcheck(\u001b[39m*\u001b[39margs), (scale \u001b[39m>\u001b[39m\u001b[39m=\u001b[39m \u001b[39m0\u001b[39m))\n\u001b[0;32m   1066\u001b[0m \u001b[39mif\u001b[39;00m \u001b[39mnot\u001b[39;00m np\u001b[39m.\u001b[39mall(cond):\n\u001b[1;32m-> 1067\u001b[0m     \u001b[39mraise\u001b[39;00m \u001b[39mValueError\u001b[39;00m(\u001b[39m\"\u001b[39m\u001b[39mDomain error in arguments.\u001b[39m\u001b[39m\"\u001b[39m)\n\u001b[0;32m   1069\u001b[0m \u001b[39mif\u001b[39;00m np\u001b[39m.\u001b[39mall(scale \u001b[39m==\u001b[39m \u001b[39m0\u001b[39m):\n\u001b[0;32m   1070\u001b[0m     \u001b[39mreturn\u001b[39;00m loc\u001b[39m*\u001b[39mones(size, \u001b[39m'\u001b[39m\u001b[39md\u001b[39m\u001b[39m'\u001b[39m)\n",
      "\u001b[1;31mValueError\u001b[0m: Domain error in arguments."
     ]
    }
   ],
   "source": [
    "from scipy.stats import invgamma\n",
    "T = acwi_returns.shape[0]\n",
    "mu = acwi_returns.mean()\n",
    "sum_res = ((acwi_returns - mu).sum()**2)*0.5\n",
    "mean = (T/2+1)\n",
    "a = sum_res/mean-1\n",
    "s = invgamma.rvs(a, loc=mean,scale=sum_res,size=100)**0.5\n"
   ]
  }
 ],
 "metadata": {
  "kernelspec": {
   "display_name": "portfolio-optimisation",
   "language": "python",
   "name": "python3"
  },
  "language_info": {
   "codemirror_mode": {
    "name": "ipython",
    "version": 3
   },
   "file_extension": ".py",
   "mimetype": "text/x-python",
   "name": "python",
   "nbconvert_exporter": "python",
   "pygments_lexer": "ipython3",
   "version": "3.9.12"
  },
  "orig_nbformat": 4
 },
 "nbformat": 4,
 "nbformat_minor": 2
}
