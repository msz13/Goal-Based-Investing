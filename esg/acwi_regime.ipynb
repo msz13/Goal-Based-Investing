{
 "cells": [
  {
   "cell_type": "code",
   "execution_count": 22,
   "metadata": {},
   "outputs": [
    {
     "name": "stdout",
     "output_type": "stream",
     "text": [
      "The autoreload extension is already loaded. To reload it, use:\n",
      "  %reload_ext autoreload\n"
     ]
    }
   ],
   "source": [
    "%load_ext autoreload\n",
    "%autoreload 2\n",
    "\n",
    "import pandas as pd\n",
    "import seaborn as sns\n",
    "import matplotlib.pyplot as plt\n",
    "import numpy as np\n",
    "import statsmodels.api as sm\n",
    "import preproccessing as prep\n",
    "from evaluation import show_scenarios_evaluation\n",
    "from regime_switching_brownian_motion import RegimeSwitching\n",
    "from independent_lognormal_model import IndependentLogNormal\n",
    "from ipywidgets import interact, interactive, fixed, interact_manual\n",
    "import ipywidgets as widgets\n"
   ]
  },
  {
   "cell_type": "code",
   "execution_count": 3,
   "metadata": {},
   "outputs": [],
   "source": [
    "def convert_regime_params(params: pd.Series, k):\n",
    "    \"\"\"\n",
    "    params: scipy stats regime params object\n",
    "    k: number of regimes\n",
    "\n",
    "    returns annulised params tumple (mean, sigma, transition matrix)\n",
    "    \"\"\"\n",
    "    mu = np.zeros(k)\n",
    "    sigmas = np.zeros(k)\n",
    "    transition_matrix = np.zeros((k,k))\n",
    "    \n",
    "    for i in range (k):\n",
    "        mu[i] = params[f'const[{i}]']\n",
    "        sigmas[i] = np.sqrt(params[f'sigma2[{i}]'])\n",
    "        \n",
    "    for i in range(k):\n",
    "        for j in range(k-1):\n",
    "            transition_matrix[i,j] = params[f'p[{i}->{j}]']\n",
    "\n",
    "    transition_matrix[:,-1] = 1 - transition_matrix.sum(axis=1)\n",
    "\n",
    "            \n",
    "    return mu, sigmas, transition_matrix\n",
    "\n",
    "def params_summary(mus,sigmas,transition_matrix,current_regime):\n",
    "    print('mus: ')\n",
    "    print(mus * 12)\n",
    "    print('sigmas: ')\n",
    "    print(sigmas * np.sqrt(12))\n",
    "    print('transition matrix: ')\n",
    "    print(transition_matrix)\n",
    "    print('current_regime: ')\n",
    "    print(current_regime)\n",
    "\n",
    "def estimate_markov_regime_switching_params(data,period):\n",
    "    n_regimes = 2\n",
    "    model = sm.tsa.MarkovRegression(\n",
    "    data[period[0]:period[1]],\n",
    "    k_regimes=n_regimes,\n",
    "    switching_variance=True\n",
    "    )\n",
    "\n",
    "    result = model.fit() \n",
    "\n",
    "    mus, sigmas, transition_matrix = convert_regime_params(result.params, n_regimes)\n",
    "\n",
    "    current_regime = np.argmax([result.smoothed_marginal_probabilities[0].iloc[-1],result.smoothed_marginal_probabilities[1].iloc[-1]])\n",
    "\n",
    "    #return {'mus':mus, 'sigmas': sigmas, 'transition_matrix': transition_matrix, 'current_regime': current_regime}\n",
    "    return mus,sigmas,transition_matrix,current_regime"
   ]
  },
  {
   "cell_type": "code",
   "execution_count": 4,
   "metadata": {},
   "outputs": [],
   "source": [
    "def show_RSLN_scenarios_evaluation(mus, sigmas, transition_matrix, initial_values, current_regime, dt, n_scenarios, n_steps, hist):\n",
    "    \n",
    "    model = RegimeSwitching(\n",
    "    models=[IndependentLogNormal(mu=mus[0],sigma=[sigmas[0]]),\n",
    "            IndependentLogNormal(mu=mus[1],sigma=[sigmas[1]])],\n",
    "    probs=transition_matrix\n",
    "    )\n",
    "\n",
    "    scenarios = model.scenarios(initial_values,current_regime,dt,n_steps, n_scenarios)\n",
    "    scenarios = pd.DataFrame(data=scenarios, index=range(n_scenarios), columns=range(n_steps+1))\n",
    "\n",
    "    show_scenarios_evaluation(scenarios,hist)\n",
    "\n",
    "def convert_to_transition_matrix(p00,p10):\n",
    "     k =2\n",
    "     transition_matrix = np.zeros((k,k))\n",
    "     transition_matrix[0,0] = p00\n",
    "     transition_matrix[1,0] = p10\n",
    "     transition_matrix[:,1] = 1 - transition_matrix[:,0]\n",
    "     return transition_matrix"
   ]
  },
  {
   "cell_type": "code",
   "execution_count": 40,
   "metadata": {},
   "outputs": [
    {
     "name": "stdout",
     "output_type": "stream",
     "text": [
      "<class 'pandas.core.series.Series'>\n",
      "DatetimeIndex: 430 entries, 1988-01-29 to 2023-10-31\n",
      "Series name: ACWI\n",
      "Non-Null Count  Dtype  \n",
      "--------------  -----  \n",
      "430 non-null    float64\n",
      "dtypes: float64(1)\n",
      "memory usage: 6.7 KB\n"
     ]
    }
   ],
   "source": [
    "#'acwi_25.08.23.csv' - curvo file\n",
    "acwi = pd.read_excel('acwi_usd_net_31.11.23.xlsx',index_col='Date', parse_dates=True)\n",
    "acwi = acwi.squeeze()\n",
    "acwi = (acwi+1).cumprod()\n",
    "acwi.info()"
   ]
  },
  {
   "cell_type": "code",
   "execution_count": 41,
   "metadata": {},
   "outputs": [
    {
     "data": {
      "text/plain": [
       "<AxesSubplot:xlabel='Date'>"
      ]
     },
     "execution_count": 41,
     "metadata": {},
     "output_type": "execute_result"
    },
    {
     "data": {
      "image/png": "[encoded data removed]",
      "text/plain": [
       "<Figure size 432x288 with 1 Axes>"
      ]
     },
     "metadata": {
      "needs_background": "light"
     },
     "output_type": "display_data"
    }
   ],
   "source": [
    "acwi.plot()"
   ]
  },
  {
   "cell_type": "code",
   "execution_count": 42,
   "metadata": {},
   "outputs": [
    {
     "data": {
      "text/html": [
       "<div>\n",
       "<style scoped>\n",
       "    .dataframe tbody tr th:only-of-type {\n",
       "        vertical-align: middle;\n",
       "    }\n",
       "\n",
       "    .dataframe tbody tr th {\n",
       "        vertical-align: top;\n",
       "    }\n",
       "\n",
       "    .dataframe thead th {\n",
       "        text-align: right;\n",
       "    }\n",
       "</style>\n",
       "<table border=\"1\" class=\"dataframe\">\n",
       "  <thead>\n",
       "    <tr style=\"text-align: right;\">\n",
       "      <th></th>\n",
       "      <th>Annualised Mean</th>\n",
       "      <th>Annualised Sigma</th>\n",
       "      <th>Skew</th>\n",
       "      <th>Kurtosis</th>\n",
       "      <th>Sharp_ratio</th>\n",
       "      <th>Max drowdawn</th>\n",
       "    </tr>\n",
       "  </thead>\n",
       "  <tbody>\n",
       "    <tr>\n",
       "      <th>(1988-01-01, 2023-10-31)</th>\n",
       "      <td>0.069067</td>\n",
       "      <td>0.153773</td>\n",
       "      <td>-0.785235</td>\n",
       "      <td>1.978242</td>\n",
       "      <td>0.880075</td>\n",
       "      <td>-0.549231</td>\n",
       "    </tr>\n",
       "    <tr>\n",
       "      <th>(2003-01-01, 2023-10-31)</th>\n",
       "      <td>0.077396</td>\n",
       "      <td>0.156670</td>\n",
       "      <td>-0.939333</td>\n",
       "      <td>2.822137</td>\n",
       "      <td>1.047969</td>\n",
       "      <td>-0.549231</td>\n",
       "    </tr>\n",
       "    <tr>\n",
       "      <th>(1989-12-01, 2023-07-31)</th>\n",
       "      <td>0.067090</td>\n",
       "      <td>0.155137</td>\n",
       "      <td>-0.827014</td>\n",
       "      <td>1.998269</td>\n",
       "      <td>0.828205</td>\n",
       "      <td>-0.549231</td>\n",
       "    </tr>\n",
       "    <tr>\n",
       "      <th>(1989-12-01, 2019-12-31)</th>\n",
       "      <td>0.065635</td>\n",
       "      <td>0.150360</td>\n",
       "      <td>-0.888050</td>\n",
       "      <td>2.385491</td>\n",
       "      <td>0.820990</td>\n",
       "      <td>-0.549231</td>\n",
       "    </tr>\n",
       "    <tr>\n",
       "      <th>(2007-10-01, 2023-07-31)</th>\n",
       "      <td>0.054167</td>\n",
       "      <td>0.171064</td>\n",
       "      <td>-0.873204</td>\n",
       "      <td>2.180193</td>\n",
       "      <td>0.489388</td>\n",
       "      <td>-0.549231</td>\n",
       "    </tr>\n",
       "    <tr>\n",
       "      <th>(1999-01-01, 2023-10-31)</th>\n",
       "      <td>0.052303</td>\n",
       "      <td>0.159247</td>\n",
       "      <td>-0.801046</td>\n",
       "      <td>1.970217</td>\n",
       "      <td>0.485163</td>\n",
       "      <td>-0.549231</td>\n",
       "    </tr>\n",
       "    <tr>\n",
       "      <th>(2003-01-01, 2023-10-31)</th>\n",
       "      <td>0.077396</td>\n",
       "      <td>0.156670</td>\n",
       "      <td>-0.939333</td>\n",
       "      <td>2.822137</td>\n",
       "      <td>1.047969</td>\n",
       "      <td>-0.549231</td>\n",
       "    </tr>\n",
       "    <tr>\n",
       "      <th>(2000-03-01, 2023-07-31)</th>\n",
       "      <td>0.052099</td>\n",
       "      <td>0.160782</td>\n",
       "      <td>-0.833355</td>\n",
       "      <td>2.023188</td>\n",
       "      <td>0.476123</td>\n",
       "      <td>-0.549231</td>\n",
       "    </tr>\n",
       "    <tr>\n",
       "      <th>(2002-09-01, 2022-09-30)</th>\n",
       "      <td>0.070303</td>\n",
       "      <td>0.159649</td>\n",
       "      <td>-0.976021</td>\n",
       "      <td>2.735161</td>\n",
       "      <td>0.874514</td>\n",
       "      <td>-0.549231</td>\n",
       "    </tr>\n",
       "    <tr>\n",
       "      <th>(2002-09-01, 2020-03-31)</th>\n",
       "      <td>0.065229</td>\n",
       "      <td>0.156786</td>\n",
       "      <td>-1.138869</td>\n",
       "      <td>3.370436</td>\n",
       "      <td>0.778376</td>\n",
       "      <td>-0.549231</td>\n",
       "    </tr>\n",
       "  </tbody>\n",
       "</table>\n",
       "</div>"
      ],
      "text/plain": [
       "                          Annualised Mean  Annualised Sigma      Skew  \\\n",
       "(1988-01-01, 2023-10-31)         0.069067          0.153773 -0.785235   \n",
       "(2003-01-01, 2023-10-31)         0.077396          0.156670 -0.939333   \n",
       "(1989-12-01, 2023-07-31)         0.067090          0.155137 -0.827014   \n",
       "(1989-12-01, 2019-12-31)         0.065635          0.150360 -0.888050   \n",
       "(2007-10-01, 2023-07-31)         0.054167          0.171064 -0.873204   \n",
       "(1999-01-01, 2023-10-31)         0.052303          0.159247 -0.801046   \n",
       "(2003-01-01, 2023-10-31)         0.077396          0.156670 -0.939333   \n",
       "(2000-03-01, 2023-07-31)         0.052099          0.160782 -0.833355   \n",
       "(2002-09-01, 2022-09-30)         0.070303          0.159649 -0.976021   \n",
       "(2002-09-01, 2020-03-31)         0.065229          0.156786 -1.138869   \n",
       "\n",
       "                          Kurtosis  Sharp_ratio  Max drowdawn  \n",
       "(1988-01-01, 2023-10-31)  1.978242     0.880075     -0.549231  \n",
       "(2003-01-01, 2023-10-31)  2.822137     1.047969     -0.549231  \n",
       "(1989-12-01, 2023-07-31)  1.998269     0.828205     -0.549231  \n",
       "(1989-12-01, 2019-12-31)  2.385491     0.820990     -0.549231  \n",
       "(2007-10-01, 2023-07-31)  2.180193     0.489388     -0.549231  \n",
       "(1999-01-01, 2023-10-31)  1.970217     0.485163     -0.549231  \n",
       "(2003-01-01, 2023-10-31)  2.822137     1.047969     -0.549231  \n",
       "(2000-03-01, 2023-07-31)  2.023188     0.476123     -0.549231  \n",
       "(2002-09-01, 2022-09-30)  2.735161     0.874514     -0.549231  \n",
       "(2002-09-01, 2020-03-31)  3.370436     0.778376     -0.549231  "
      ]
     },
     "execution_count": 42,
     "metadata": {},
     "output_type": "execute_result"
    }
   ],
   "source": [
    "acwi_returns = prep.log_returns(acwi)\n",
    "\n",
    "periods = [('1988-01-01', '2023-10-31'),\n",
    "           ('2003-01-01', '2023-10-31'),\n",
    "           ('1989-12-01', '2023-07-31'),\n",
    "           ('1989-12-01', '2019-12-31'),\n",
    "           ('2007-10-01', '2023-07-31'),               \n",
    "           ('1999-01-01', '2023-10-31'), \n",
    "           ('2003-01-01', '2023-10-31'),                       \n",
    "           ('2000-03-01', '2023-07-31'),\n",
    "           ('2002-09-01', '2022-09-30'),\n",
    "           ('2002-09-01', '2020-03-31'),\n",
    "           ]\n",
    "           \n",
    "\n",
    "prep.asset_stats(acwi_returns, periods)"
   ]
  },
  {
   "cell_type": "code",
   "execution_count": 43,
   "metadata": {},
   "outputs": [
    {
     "name": "stderr",
     "output_type": "stream",
     "text": [
      "c:\\Users\\matsz\\miniconda3\\envs\\portfolio-optimisation\\lib\\site-packages\\statsmodels\\tsa\\base\\tsa_model.py:473: ValueWarning: No frequency information was provided, so inferred frequency BM will be used.\n",
      "  self._init_dates(dates, freq)\n",
      "c:\\Users\\matsz\\miniconda3\\envs\\portfolio-optimisation\\lib\\site-packages\\statsmodels\\tsa\\base\\tsa_model.py:473: ValueWarning: No frequency information was provided, so inferred frequency BM will be used.\n",
      "  self._init_dates(dates, freq)\n",
      "c:\\Users\\matsz\\miniconda3\\envs\\portfolio-optimisation\\lib\\site-packages\\statsmodels\\tsa\\base\\tsa_model.py:473: ValueWarning: No frequency information was provided, so inferred frequency BM will be used.\n",
      "  self._init_dates(dates, freq)\n",
      "c:\\Users\\matsz\\miniconda3\\envs\\portfolio-optimisation\\lib\\site-packages\\statsmodels\\tsa\\base\\tsa_model.py:473: ValueWarning: No frequency information was provided, so inferred frequency BM will be used.\n",
      "  self._init_dates(dates, freq)\n",
      "c:\\Users\\matsz\\miniconda3\\envs\\portfolio-optimisation\\lib\\site-packages\\statsmodels\\tsa\\base\\tsa_model.py:473: ValueWarning: No frequency information was provided, so inferred frequency BM will be used.\n",
      "  self._init_dates(dates, freq)\n",
      "c:\\Users\\matsz\\miniconda3\\envs\\portfolio-optimisation\\lib\\site-packages\\statsmodels\\tsa\\base\\tsa_model.py:473: ValueWarning: No frequency information was provided, so inferred frequency BM will be used.\n",
      "  self._init_dates(dates, freq)\n",
      "c:\\Users\\matsz\\miniconda3\\envs\\portfolio-optimisation\\lib\\site-packages\\statsmodels\\tsa\\base\\tsa_model.py:473: ValueWarning: No frequency information was provided, so inferred frequency BM will be used.\n",
      "  self._init_dates(dates, freq)\n",
      "c:\\Users\\matsz\\miniconda3\\envs\\portfolio-optimisation\\lib\\site-packages\\statsmodels\\tsa\\base\\tsa_model.py:473: ValueWarning: No frequency information was provided, so inferred frequency BM will be used.\n",
      "  self._init_dates(dates, freq)\n",
      "c:\\Users\\matsz\\miniconda3\\envs\\portfolio-optimisation\\lib\\site-packages\\statsmodels\\tsa\\base\\tsa_model.py:473: ValueWarning: No frequency information was provided, so inferred frequency BM will be used.\n",
      "  self._init_dates(dates, freq)\n",
      "c:\\Users\\matsz\\miniconda3\\envs\\portfolio-optimisation\\lib\\site-packages\\statsmodels\\tsa\\base\\tsa_model.py:473: ValueWarning: No frequency information was provided, so inferred frequency BM will be used.\n",
      "  self._init_dates(dates, freq)\n"
     ]
    },
    {
     "data": {
      "text/html": [
       "<div>\n",
       "<style scoped>\n",
       "    .dataframe tbody tr th:only-of-type {\n",
       "        vertical-align: middle;\n",
       "    }\n",
       "\n",
       "    .dataframe tbody tr th {\n",
       "        vertical-align: top;\n",
       "    }\n",
       "\n",
       "    .dataframe thead th {\n",
       "        text-align: right;\n",
       "    }\n",
       "</style>\n",
       "<table border=\"1\" class=\"dataframe\">\n",
       "  <thead>\n",
       "    <tr style=\"text-align: right;\">\n",
       "      <th></th>\n",
       "      <th>p[0-&gt;0]</th>\n",
       "      <th>p[1-&gt;0]</th>\n",
       "      <th>const[0]</th>\n",
       "      <th>const[1]</th>\n",
       "      <th>sigma2[0]</th>\n",
       "      <th>sigma2[1]</th>\n",
       "    </tr>\n",
       "  </thead>\n",
       "  <tbody>\n",
       "    <tr>\n",
       "      <th>(1988-01-01, 2023-10-31)</th>\n",
       "      <td>94.26</td>\n",
       "      <td>5.83</td>\n",
       "      <td>1.30</td>\n",
       "      <td>-0.16</td>\n",
       "      <td>0.06</td>\n",
       "      <td>0.32</td>\n",
       "    </tr>\n",
       "    <tr>\n",
       "      <th>(2003-01-01, 2023-10-31)</th>\n",
       "      <td>94.15</td>\n",
       "      <td>6.88</td>\n",
       "      <td>1.35</td>\n",
       "      <td>-0.23</td>\n",
       "      <td>0.06</td>\n",
       "      <td>0.37</td>\n",
       "    </tr>\n",
       "    <tr>\n",
       "      <th>(1989-12-01, 2023-07-31)</th>\n",
       "      <td>94.16</td>\n",
       "      <td>5.89</td>\n",
       "      <td>1.33</td>\n",
       "      <td>-0.23</td>\n",
       "      <td>0.06</td>\n",
       "      <td>0.33</td>\n",
       "    </tr>\n",
       "    <tr>\n",
       "      <th>(1989-12-01, 2019-12-31)</th>\n",
       "      <td>95.33</td>\n",
       "      <td>5.27</td>\n",
       "      <td>1.29</td>\n",
       "      <td>-0.29</td>\n",
       "      <td>0.06</td>\n",
       "      <td>0.32</td>\n",
       "    </tr>\n",
       "    <tr>\n",
       "      <th>(2007-10-01, 2023-07-31)</th>\n",
       "      <td>90.46</td>\n",
       "      <td>8.35</td>\n",
       "      <td>1.34</td>\n",
       "      <td>-0.33</td>\n",
       "      <td>0.05</td>\n",
       "      <td>0.40</td>\n",
       "    </tr>\n",
       "    <tr>\n",
       "      <th>(1999-01-01, 2023-10-31)</th>\n",
       "      <td>94.65</td>\n",
       "      <td>4.47</td>\n",
       "      <td>1.35</td>\n",
       "      <td>-0.34</td>\n",
       "      <td>0.06</td>\n",
       "      <td>0.33</td>\n",
       "    </tr>\n",
       "    <tr>\n",
       "      <th>(2003-01-01, 2023-10-31)</th>\n",
       "      <td>94.15</td>\n",
       "      <td>6.88</td>\n",
       "      <td>1.35</td>\n",
       "      <td>-0.23</td>\n",
       "      <td>0.06</td>\n",
       "      <td>0.37</td>\n",
       "    </tr>\n",
       "    <tr>\n",
       "      <th>(2000-03-01, 2023-07-31)</th>\n",
       "      <td>94.53</td>\n",
       "      <td>4.82</td>\n",
       "      <td>1.38</td>\n",
       "      <td>-0.43</td>\n",
       "      <td>0.05</td>\n",
       "      <td>0.34</td>\n",
       "    </tr>\n",
       "    <tr>\n",
       "      <th>(2002-09-01, 2022-09-30)</th>\n",
       "      <td>93.88</td>\n",
       "      <td>7.10</td>\n",
       "      <td>1.37</td>\n",
       "      <td>-0.43</td>\n",
       "      <td>0.05</td>\n",
       "      <td>0.40</td>\n",
       "    </tr>\n",
       "    <tr>\n",
       "      <th>(2002-09-01, 2020-03-31)</th>\n",
       "      <td>94.27</td>\n",
       "      <td>8.13</td>\n",
       "      <td>1.34</td>\n",
       "      <td>-0.76</td>\n",
       "      <td>0.06</td>\n",
       "      <td>0.42</td>\n",
       "    </tr>\n",
       "  </tbody>\n",
       "</table>\n",
       "</div>"
      ],
      "text/plain": [
       "                          p[0->0]  p[1->0]  const[0]  const[1]  sigma2[0]  \\\n",
       "(1988-01-01, 2023-10-31)    94.26     5.83      1.30     -0.16       0.06   \n",
       "(2003-01-01, 2023-10-31)    94.15     6.88      1.35     -0.23       0.06   \n",
       "(1989-12-01, 2023-07-31)    94.16     5.89      1.33     -0.23       0.06   \n",
       "(1989-12-01, 2019-12-31)    95.33     5.27      1.29     -0.29       0.06   \n",
       "(2007-10-01, 2023-07-31)    90.46     8.35      1.34     -0.33       0.05   \n",
       "(1999-01-01, 2023-10-31)    94.65     4.47      1.35     -0.34       0.06   \n",
       "(2003-01-01, 2023-10-31)    94.15     6.88      1.35     -0.23       0.06   \n",
       "(2000-03-01, 2023-07-31)    94.53     4.82      1.38     -0.43       0.05   \n",
       "(2002-09-01, 2022-09-30)    93.88     7.10      1.37     -0.43       0.05   \n",
       "(2002-09-01, 2020-03-31)    94.27     8.13      1.34     -0.76       0.06   \n",
       "\n",
       "                          sigma2[1]  \n",
       "(1988-01-01, 2023-10-31)       0.32  \n",
       "(2003-01-01, 2023-10-31)       0.37  \n",
       "(1989-12-01, 2023-07-31)       0.33  \n",
       "(1989-12-01, 2019-12-31)       0.32  \n",
       "(2007-10-01, 2023-07-31)       0.40  \n",
       "(1999-01-01, 2023-10-31)       0.33  \n",
       "(2003-01-01, 2023-10-31)       0.37  \n",
       "(2000-03-01, 2023-07-31)       0.34  \n",
       "(2002-09-01, 2022-09-30)       0.40  \n",
       "(2002-09-01, 2020-03-31)       0.42  "
      ]
     },
     "execution_count": 43,
     "metadata": {},
     "output_type": "execute_result"
    }
   ],
   "source": [
    "\n",
    "data = acwi_returns\n",
    "n_regimes = 2\n",
    "params = []\n",
    "\n",
    "for period in periods:\n",
    "    model = sm.tsa.MarkovRegression(\n",
    "    data[period[0]:period[1]],\n",
    "    k_regimes=n_regimes,\n",
    "    switching_variance=True,\n",
    "    freq=None\n",
    "    )\n",
    "    result = model.fit()\n",
    "    params.append(np.round(result.params * 100,2))\n",
    "\n",
    "params = pd.DataFrame(data=params, index=periods)\n",
    "params"
   ]
  },
  {
   "cell_type": "code",
   "execution_count": 44,
   "metadata": {},
   "outputs": [
    {
     "data": {
      "text/plain": [
       "Annualised Mean     0.045560\n",
       "Annualised Sigma    0.131422\n",
       "Skew               -0.474654\n",
       "Kurtosis            0.605922\n",
       "Sharp_ratio         0.410138\n",
       "Max drowdawn       -0.501503\n",
       "dtype: float64"
      ]
     },
     "execution_count": 44,
     "metadata": {},
     "output_type": "execute_result"
    }
   ],
   "source": [
    "usdpln = prep.loadStooqData('usdpln','1998-12-01','d')\n",
    "usdpln = usdpln.resample('BM').last()\n",
    "usdpln_ret = prep.log_returns(usdpln)\n",
    "acwi_pln = (acwi * usdpln).dropna()\n",
    "acwi_pln_returns = prep.log_returns(acwi_pln)\n",
    "prep.assets_performance(acwi_pln_returns['2000-01-01':])"
   ]
  },
  {
   "cell_type": "code",
   "execution_count": 45,
   "metadata": {},
   "outputs": [
    {
     "data": {
      "text/plain": [
       "<AxesSubplot:>"
      ]
     },
     "execution_count": 45,
     "metadata": {},
     "output_type": "execute_result"
    },
    {
     "data": {
      "image/png": "[encoded data removed]",
      "text/plain": [
       "<Figure size 432x288 with 1 Axes>"
      ]
     },
     "metadata": {
      "needs_background": "light"
     },
     "output_type": "display_data"
    }
   ],
   "source": [
    "acwi_pln.plot()"
   ]
  },
  {
   "cell_type": "code",
   "execution_count": 78,
   "metadata": {},
   "outputs": [
    {
     "data": {
      "text/plain": [
       "<AxesSubplot:>"
      ]
     },
     "execution_count": 78,
     "metadata": {},
     "output_type": "execute_result"
    },
    {
     "data": {
      "image/png": "[encoded data removed]",
      "text/plain": [
       "<Figure size 432x288 with 1 Axes>"
      ]
     },
     "metadata": {
      "needs_background": "light"
     },
     "output_type": "display_data"
    }
   ],
   "source": [
    "acwi_10y = (acwi_pln/acwi_pln.shift(60)).dropna()\n",
    "acwi_10y.plot()\n"
   ]
  },
  {
   "cell_type": "code",
   "execution_count": 79,
   "metadata": {},
   "outputs": [
    {
     "data": {
      "text/plain": [
       "count    239.000000\n",
       "mean       1.432316\n",
       "std        0.418508\n",
       "min        0.649259\n",
       "25%        1.043338\n",
       "50%        1.555399\n",
       "75%        1.812817\n",
       "max        2.124944\n",
       "dtype: float64"
      ]
     },
     "execution_count": 79,
     "metadata": {},
     "output_type": "execute_result"
    }
   ],
   "source": [
    "acwi_10y.describe()"
   ]
  },
  {
   "cell_type": "code",
   "execution_count": 26,
   "metadata": {},
   "outputs": [
    {
     "data": {
      "text/plain": [
       "<AxesSubplot:>"
      ]
     },
     "execution_count": 26,
     "metadata": {},
     "output_type": "execute_result"
    },
    {
     "data": {
      "image/png": "[encoded data removed]",
      "text/plain": [
       "<Figure size 432x288 with 1 Axes>"
      ]
     },
     "metadata": {
      "needs_background": "light"
     },
     "output_type": "display_data"
    }
   ],
   "source": [
    "acwi_pln[:'2004-12-31'].plot()"
   ]
  },
  {
   "cell_type": "code",
   "execution_count": 80,
   "metadata": {},
   "outputs": [
    {
     "data": {
      "text/html": [
       "<div>\n",
       "<style scoped>\n",
       "    .dataframe tbody tr th:only-of-type {\n",
       "        vertical-align: middle;\n",
       "    }\n",
       "\n",
       "    .dataframe tbody tr th {\n",
       "        vertical-align: top;\n",
       "    }\n",
       "\n",
       "    .dataframe thead th {\n",
       "        text-align: right;\n",
       "    }\n",
       "</style>\n",
       "<table border=\"1\" class=\"dataframe\">\n",
       "  <thead>\n",
       "    <tr style=\"text-align: right;\">\n",
       "      <th></th>\n",
       "      <th>Annualised Mean</th>\n",
       "      <th>Annualised Sigma</th>\n",
       "      <th>Skew</th>\n",
       "      <th>Kurtosis</th>\n",
       "      <th>Sharp_ratio</th>\n",
       "      <th>Max drowdawn</th>\n",
       "    </tr>\n",
       "  </thead>\n",
       "  <tbody>\n",
       "    <tr>\n",
       "      <th>(1999-01-01, 2023-10-31)</th>\n",
       "      <td>0.059710</td>\n",
       "      <td>0.132053</td>\n",
       "      <td>-0.479533</td>\n",
       "      <td>0.553699</td>\n",
       "      <td>0.779377</td>\n",
       "      <td>-0.501503</td>\n",
       "    </tr>\n",
       "    <tr>\n",
       "      <th>(1999-01-01, 2023-07-31)</th>\n",
       "      <td>0.062362</td>\n",
       "      <td>0.131912</td>\n",
       "      <td>-0.480817</td>\n",
       "      <td>0.573809</td>\n",
       "      <td>0.849836</td>\n",
       "      <td>-0.501503</td>\n",
       "    </tr>\n",
       "    <tr>\n",
       "      <th>(2003-01-01, 2023-10-31)</th>\n",
       "      <td>0.081994</td>\n",
       "      <td>0.121580</td>\n",
       "      <td>-0.293625</td>\n",
       "      <td>0.694741</td>\n",
       "      <td>1.481428</td>\n",
       "      <td>-0.412454</td>\n",
       "    </tr>\n",
       "    <tr>\n",
       "      <th>(2000-03-01, 2023-07-31)</th>\n",
       "      <td>0.050466</td>\n",
       "      <td>0.131453</td>\n",
       "      <td>-0.487706</td>\n",
       "      <td>0.640260</td>\n",
       "      <td>0.539327</td>\n",
       "      <td>-0.501503</td>\n",
       "    </tr>\n",
       "    <tr>\n",
       "      <th>(2002-09-01, 2022-09-30)</th>\n",
       "      <td>0.079423</td>\n",
       "      <td>0.126471</td>\n",
       "      <td>-0.428941</td>\n",
       "      <td>0.878068</td>\n",
       "      <td>1.353708</td>\n",
       "      <td>-0.412454</td>\n",
       "    </tr>\n",
       "    <tr>\n",
       "      <th>(2002-09-01, 2020-03-31)</th>\n",
       "      <td>0.065291</td>\n",
       "      <td>0.124621</td>\n",
       "      <td>-0.637386</td>\n",
       "      <td>0.894812</td>\n",
       "      <td>0.980985</td>\n",
       "      <td>-0.412454</td>\n",
       "    </tr>\n",
       "  </tbody>\n",
       "</table>\n",
       "</div>"
      ],
      "text/plain": [
       "                          Annualised Mean  Annualised Sigma      Skew  \\\n",
       "(1999-01-01, 2023-10-31)         0.059710          0.132053 -0.479533   \n",
       "(1999-01-01, 2023-07-31)         0.062362          0.131912 -0.480817   \n",
       "(2003-01-01, 2023-10-31)         0.081994          0.121580 -0.293625   \n",
       "(2000-03-01, 2023-07-31)         0.050466          0.131453 -0.487706   \n",
       "(2002-09-01, 2022-09-30)         0.079423          0.126471 -0.428941   \n",
       "(2002-09-01, 2020-03-31)         0.065291          0.124621 -0.637386   \n",
       "\n",
       "                          Kurtosis  Sharp_ratio  Max drowdawn  \n",
       "(1999-01-01, 2023-10-31)  0.553699     0.779377     -0.501503  \n",
       "(1999-01-01, 2023-07-31)  0.573809     0.849836     -0.501503  \n",
       "(2003-01-01, 2023-10-31)  0.694741     1.481428     -0.412454  \n",
       "(2000-03-01, 2023-07-31)  0.640260     0.539327     -0.501503  \n",
       "(2002-09-01, 2022-09-30)  0.878068     1.353708     -0.412454  \n",
       "(2002-09-01, 2020-03-31)  0.894812     0.980985     -0.412454  "
      ]
     },
     "execution_count": 80,
     "metadata": {},
     "output_type": "execute_result"
    }
   ],
   "source": [
    "periods = [('1999-01-01', '2023-10-31'), \n",
    "           ('1999-01-01', '2023-07-31'), \n",
    "           ('2003-01-01', '2023-10-31'),                       \n",
    "           ('2000-03-01', '2023-07-31'),\n",
    "           ('2002-09-01', '2022-09-30'),\n",
    "           ('2002-09-01', '2020-03-31'),\n",
    "           ]\n",
    "prep.asset_stats(acwi_pln_returns, periods)"
   ]
  },
  {
   "cell_type": "code",
   "execution_count": 81,
   "metadata": {},
   "outputs": [
    {
     "name": "stderr",
     "output_type": "stream",
     "text": [
      "c:\\Users\\matsz\\miniconda3\\envs\\portfolio-optimisation\\lib\\site-packages\\statsmodels\\tsa\\base\\tsa_model.py:473: ValueWarning: No frequency information was provided, so inferred frequency BM will be used.\n",
      "  self._init_dates(dates, freq)\n",
      "c:\\Users\\matsz\\miniconda3\\envs\\portfolio-optimisation\\lib\\site-packages\\statsmodels\\tsa\\base\\tsa_model.py:473: ValueWarning: No frequency information was provided, so inferred frequency BM will be used.\n",
      "  self._init_dates(dates, freq)\n",
      "c:\\Users\\matsz\\miniconda3\\envs\\portfolio-optimisation\\lib\\site-packages\\statsmodels\\tsa\\base\\tsa_model.py:473: ValueWarning: No frequency information was provided, so inferred frequency BM will be used.\n",
      "  self._init_dates(dates, freq)\n",
      "c:\\Users\\matsz\\miniconda3\\envs\\portfolio-optimisation\\lib\\site-packages\\statsmodels\\tsa\\base\\tsa_model.py:473: ValueWarning: No frequency information was provided, so inferred frequency BM will be used.\n",
      "  self._init_dates(dates, freq)\n",
      "c:\\Users\\matsz\\miniconda3\\envs\\portfolio-optimisation\\lib\\site-packages\\statsmodels\\tsa\\base\\tsa_model.py:473: ValueWarning: No frequency information was provided, so inferred frequency BM will be used.\n",
      "  self._init_dates(dates, freq)\n",
      "c:\\Users\\matsz\\miniconda3\\envs\\portfolio-optimisation\\lib\\site-packages\\statsmodels\\tsa\\base\\tsa_model.py:473: ValueWarning: No frequency information was provided, so inferred frequency BM will be used.\n",
      "  self._init_dates(dates, freq)\n"
     ]
    },
    {
     "data": {
      "text/html": [
       "<div>\n",
       "<style scoped>\n",
       "    .dataframe tbody tr th:only-of-type {\n",
       "        vertical-align: middle;\n",
       "    }\n",
       "\n",
       "    .dataframe tbody tr th {\n",
       "        vertical-align: top;\n",
       "    }\n",
       "\n",
       "    .dataframe thead th {\n",
       "        text-align: right;\n",
       "    }\n",
       "</style>\n",
       "<table border=\"1\" class=\"dataframe\">\n",
       "  <thead>\n",
       "    <tr style=\"text-align: right;\">\n",
       "      <th></th>\n",
       "      <th>p[0-&gt;0]</th>\n",
       "      <th>p[1-&gt;0]</th>\n",
       "      <th>const[0]</th>\n",
       "      <th>const[1]</th>\n",
       "      <th>sigma2[0]</th>\n",
       "      <th>sigma2[1]</th>\n",
       "    </tr>\n",
       "  </thead>\n",
       "  <tbody>\n",
       "    <tr>\n",
       "      <th>(1999-01-01, 2023-10-31)</th>\n",
       "      <td>95.48</td>\n",
       "      <td>10.99</td>\n",
       "      <td>1.26</td>\n",
       "      <td>-1.38</td>\n",
       "      <td>2.75</td>\n",
       "      <td>5.16</td>\n",
       "    </tr>\n",
       "    <tr>\n",
       "      <th>(1999-01-01, 2023-07-31)</th>\n",
       "      <td>95.84</td>\n",
       "      <td>10.80</td>\n",
       "      <td>1.27</td>\n",
       "      <td>-1.36</td>\n",
       "      <td>2.74</td>\n",
       "      <td>5.18</td>\n",
       "    </tr>\n",
       "    <tr>\n",
       "      <th>(2003-01-01, 2023-10-31)</th>\n",
       "      <td>95.75</td>\n",
       "      <td>13.79</td>\n",
       "      <td>1.13</td>\n",
       "      <td>-0.82</td>\n",
       "      <td>2.63</td>\n",
       "      <td>5.22</td>\n",
       "    </tr>\n",
       "    <tr>\n",
       "      <th>(2000-03-01, 2023-07-31)</th>\n",
       "      <td>95.60</td>\n",
       "      <td>9.90</td>\n",
       "      <td>1.18</td>\n",
       "      <td>-1.28</td>\n",
       "      <td>2.63</td>\n",
       "      <td>5.17</td>\n",
       "    </tr>\n",
       "    <tr>\n",
       "      <th>(2002-09-01, 2022-09-30)</th>\n",
       "      <td>95.77</td>\n",
       "      <td>12.04</td>\n",
       "      <td>1.18</td>\n",
       "      <td>-1.07</td>\n",
       "      <td>2.63</td>\n",
       "      <td>5.55</td>\n",
       "    </tr>\n",
       "    <tr>\n",
       "      <th>(2002-09-01, 2020-03-31)</th>\n",
       "      <td>96.24</td>\n",
       "      <td>11.10</td>\n",
       "      <td>1.10</td>\n",
       "      <td>-1.53</td>\n",
       "      <td>2.60</td>\n",
       "      <td>5.50</td>\n",
       "    </tr>\n",
       "  </tbody>\n",
       "</table>\n",
       "</div>"
      ],
      "text/plain": [
       "                          p[0->0]  p[1->0]  const[0]  const[1]  sigma2[0]  \\\n",
       "(1999-01-01, 2023-10-31)    95.48    10.99      1.26     -1.38       2.75   \n",
       "(1999-01-01, 2023-07-31)    95.84    10.80      1.27     -1.36       2.74   \n",
       "(2003-01-01, 2023-10-31)    95.75    13.79      1.13     -0.82       2.63   \n",
       "(2000-03-01, 2023-07-31)    95.60     9.90      1.18     -1.28       2.63   \n",
       "(2002-09-01, 2022-09-30)    95.77    12.04      1.18     -1.07       2.63   \n",
       "(2002-09-01, 2020-03-31)    96.24    11.10      1.10     -1.53       2.60   \n",
       "\n",
       "                          sigma2[1]  \n",
       "(1999-01-01, 2023-10-31)       5.16  \n",
       "(1999-01-01, 2023-07-31)       5.18  \n",
       "(2003-01-01, 2023-10-31)       5.22  \n",
       "(2000-03-01, 2023-07-31)       5.17  \n",
       "(2002-09-01, 2022-09-30)       5.55  \n",
       "(2002-09-01, 2020-03-31)       5.50  "
      ]
     },
     "execution_count": 81,
     "metadata": {},
     "output_type": "execute_result"
    }
   ],
   "source": [
    "data = acwi_pln_returns\n",
    "n_regimes = 2\n",
    "params = []\n",
    "\n",
    "for period in periods:\n",
    "    model = sm.tsa.MarkovRegression(\n",
    "    data[period[0]:period[1]],\n",
    "    k_regimes=n_regimes,\n",
    "    switching_variance=True,\n",
    "    freq=None\n",
    "    )\n",
    "    result = model.fit()\n",
    "    result.params['sigma2[0]'] = np.sqrt(result.params['sigma2[0]'])\n",
    "    result.params['sigma2[1]'] = np.sqrt(result.params['sigma2[1]'])\n",
    "    params.append(np.round(result.params * 100,2))\n",
    "\n",
    "\n",
    "params_pln = pd.DataFrame(data=params, index=periods)\n",
    "params_pln"
   ]
  },
  {
   "cell_type": "code",
   "execution_count": 29,
   "metadata": {},
   "outputs": [
    {
     "data": {
      "text/plain": [
       "p[0->0]      95.768\n",
       "p[1->0]      11.564\n",
       "const[0]      1.170\n",
       "const[1]     -1.216\n",
       "sigma2[0]     2.648\n",
       "sigma2[1]     5.320\n",
       "dtype: float64"
      ]
     },
     "execution_count": 29,
     "metadata": {},
     "output_type": "execute_result"
    }
   ],
   "source": [
    "params.mean(axis=0)"
   ]
  },
  {
   "cell_type": "code",
   "execution_count": 58,
   "metadata": {},
   "outputs": [
    {
     "name": "stdout",
     "output_type": "stream",
     "text": [
      "<class 'pandas.core.series.Series'>\n",
      "DatetimeIndex: 428 entries, 1987-12-01 to 2023-07-01\n",
      "Series name: MSCI ACWI\n",
      "Non-Null Count  Dtype  \n",
      "--------------  -----  \n",
      "428 non-null    float64\n",
      "dtypes: float64(1)\n",
      "memory usage: 6.7 KB\n"
     ]
    }
   ],
   "source": [
    "#'acwi_25.08.23.csv' - curvo file\n",
    "acwi_curvo = pd.read_csv('acwi_25.08.23.csv',index_col='Date', parse_dates=True)\n",
    "acwi_curvo = acwi_curvo.squeeze()\n",
    "#acwi = (acwi+1).cumprod()\n",
    "acwi_curvo.info()\n",
    "acwi_curvo_ret = prep.log_returns(acwi_curvo)"
   ]
  },
  {
   "cell_type": "code",
   "execution_count": 82,
   "metadata": {},
   "outputs": [
    {
     "data": {
      "text/plain": [
       "<AxesSubplot:xlabel='Date'>"
      ]
     },
     "execution_count": 82,
     "metadata": {},
     "output_type": "execute_result"
    },
    {
     "data": {
      "image/png": "[encoded data removed]",
      "text/plain": [
       "<Figure size 432x288 with 1 Axes>"
      ]
     },
     "metadata": {
      "needs_background": "light"
     },
     "output_type": "display_data"
    }
   ],
   "source": [
    "acwi_curvo_10 = (acwi_curvo/acwi_curvo.shift(120)).dropna()\n",
    "acwi_curvo_10.plot()"
   ]
  },
  {
   "cell_type": "code",
   "execution_count": 83,
   "metadata": {},
   "outputs": [
    {
     "data": {
      "text/plain": [
       "count    308.000000\n",
       "mean       2.283447\n",
       "std        0.919249\n",
       "min        0.710618\n",
       "25%        1.797260\n",
       "50%        2.105004\n",
       "75%        2.938741\n",
       "max        5.502399\n",
       "Name: MSCI ACWI, dtype: float64"
      ]
     },
     "execution_count": 83,
     "metadata": {},
     "output_type": "execute_result"
    }
   ],
   "source": [
    "acwi_curvo_10.describe()"
   ]
  },
  {
   "cell_type": "code",
   "execution_count": 59,
   "metadata": {},
   "outputs": [
    {
     "data": {
      "text/html": [
       "<div>\n",
       "<style scoped>\n",
       "    .dataframe tbody tr th:only-of-type {\n",
       "        vertical-align: middle;\n",
       "    }\n",
       "\n",
       "    .dataframe tbody tr th {\n",
       "        vertical-align: top;\n",
       "    }\n",
       "\n",
       "    .dataframe thead th {\n",
       "        text-align: right;\n",
       "    }\n",
       "</style>\n",
       "<table border=\"1\" class=\"dataframe\">\n",
       "  <thead>\n",
       "    <tr style=\"text-align: right;\">\n",
       "      <th></th>\n",
       "      <th>Annualised Mean</th>\n",
       "      <th>Annualised Sigma</th>\n",
       "      <th>Skew</th>\n",
       "      <th>Kurtosis</th>\n",
       "      <th>Sharp_ratio</th>\n",
       "      <th>Max drowdawn</th>\n",
       "    </tr>\n",
       "  </thead>\n",
       "  <tbody>\n",
       "    <tr>\n",
       "      <th>(1988-01-01, 2023-07-31)</th>\n",
       "      <td>0.081733</td>\n",
       "      <td>0.149146</td>\n",
       "      <td>-0.752104</td>\n",
       "      <td>1.046907</td>\n",
       "      <td>1.201552</td>\n",
       "      <td>-0.532364</td>\n",
       "    </tr>\n",
       "    <tr>\n",
       "      <th>(1990-01-01, 2023-07-31)</th>\n",
       "      <td>0.072948</td>\n",
       "      <td>0.150338</td>\n",
       "      <td>-0.752420</td>\n",
       "      <td>1.013315</td>\n",
       "      <td>0.989601</td>\n",
       "      <td>-0.532364</td>\n",
       "    </tr>\n",
       "    <tr>\n",
       "      <th>(1999-01-01, 2023-07-31)</th>\n",
       "      <td>0.064579</td>\n",
       "      <td>0.147193</td>\n",
       "      <td>-0.667561</td>\n",
       "      <td>0.884257</td>\n",
       "      <td>0.813801</td>\n",
       "      <td>-0.532364</td>\n",
       "    </tr>\n",
       "    <tr>\n",
       "      <th>(2003-01-01, 2023-07-31)</th>\n",
       "      <td>0.085973</td>\n",
       "      <td>0.133382</td>\n",
       "      <td>-0.687950</td>\n",
       "      <td>1.546646</td>\n",
       "      <td>1.453703</td>\n",
       "      <td>-0.481111</td>\n",
       "    </tr>\n",
       "    <tr>\n",
       "      <th>(2000-03-01, 2023-07-31)</th>\n",
       "      <td>0.051727</td>\n",
       "      <td>0.146362</td>\n",
       "      <td>-0.707286</td>\n",
       "      <td>0.969489</td>\n",
       "      <td>0.514227</td>\n",
       "      <td>-0.532364</td>\n",
       "    </tr>\n",
       "    <tr>\n",
       "      <th>(2002-09-01, 2022-09-30)</th>\n",
       "      <td>0.075865</td>\n",
       "      <td>0.139148</td>\n",
       "      <td>-0.741033</td>\n",
       "      <td>1.495476</td>\n",
       "      <td>1.141816</td>\n",
       "      <td>-0.481111</td>\n",
       "    </tr>\n",
       "    <tr>\n",
       "      <th>(2002-09-01, 2020-03-31)</th>\n",
       "      <td>0.064281</td>\n",
       "      <td>0.138006</td>\n",
       "      <td>-0.922552</td>\n",
       "      <td>1.659685</td>\n",
       "      <td>0.860486</td>\n",
       "      <td>-0.481111</td>\n",
       "    </tr>\n",
       "  </tbody>\n",
       "</table>\n",
       "</div>"
      ],
      "text/plain": [
       "                          Annualised Mean  Annualised Sigma      Skew  \\\n",
       "(1988-01-01, 2023-07-31)         0.081733          0.149146 -0.752104   \n",
       "(1990-01-01, 2023-07-31)         0.072948          0.150338 -0.752420   \n",
       "(1999-01-01, 2023-07-31)         0.064579          0.147193 -0.667561   \n",
       "(2003-01-01, 2023-07-31)         0.085973          0.133382 -0.687950   \n",
       "(2000-03-01, 2023-07-31)         0.051727          0.146362 -0.707286   \n",
       "(2002-09-01, 2022-09-30)         0.075865          0.139148 -0.741033   \n",
       "(2002-09-01, 2020-03-31)         0.064281          0.138006 -0.922552   \n",
       "\n",
       "                          Kurtosis  Sharp_ratio  Max drowdawn  \n",
       "(1988-01-01, 2023-07-31)  1.046907     1.201552     -0.532364  \n",
       "(1990-01-01, 2023-07-31)  1.013315     0.989601     -0.532364  \n",
       "(1999-01-01, 2023-07-31)  0.884257     0.813801     -0.532364  \n",
       "(2003-01-01, 2023-07-31)  1.546646     1.453703     -0.481111  \n",
       "(2000-03-01, 2023-07-31)  0.969489     0.514227     -0.532364  \n",
       "(2002-09-01, 2022-09-30)  1.495476     1.141816     -0.481111  \n",
       "(2002-09-01, 2020-03-31)  1.659685     0.860486     -0.481111  "
      ]
     },
     "execution_count": 59,
     "metadata": {},
     "output_type": "execute_result"
    }
   ],
   "source": [
    "periods = [('1988-01-01', '2023-07-31'),\n",
    "           ('1990-01-01', '2023-07-31'), \n",
    "           ('1999-01-01', '2023-07-31'), \n",
    "           ('2003-01-01', '2023-07-31'),                       \n",
    "           ('2000-03-01', '2023-07-31'),\n",
    "           ('2002-09-01', '2022-09-30'),\n",
    "           ('2002-09-01', '2020-03-31'),\n",
    "           ]\n",
    "prep.asset_stats(acwi_curvo_ret, periods)"
   ]
  },
  {
   "cell_type": "code",
   "execution_count": 60,
   "metadata": {},
   "outputs": [
    {
     "name": "stderr",
     "output_type": "stream",
     "text": [
      "c:\\Users\\matsz\\miniconda3\\envs\\portfolio-optimisation\\lib\\site-packages\\statsmodels\\tsa\\base\\tsa_model.py:473: ValueWarning: No frequency information was provided, so inferred frequency MS will be used.\n",
      "  self._init_dates(dates, freq)\n",
      "c:\\Users\\matsz\\miniconda3\\envs\\portfolio-optimisation\\lib\\site-packages\\statsmodels\\tsa\\base\\tsa_model.py:473: ValueWarning: No frequency information was provided, so inferred frequency MS will be used.\n",
      "  self._init_dates(dates, freq)\n",
      "c:\\Users\\matsz\\miniconda3\\envs\\portfolio-optimisation\\lib\\site-packages\\statsmodels\\tsa\\base\\tsa_model.py:473: ValueWarning: No frequency information was provided, so inferred frequency MS will be used.\n",
      "  self._init_dates(dates, freq)\n",
      "c:\\Users\\matsz\\miniconda3\\envs\\portfolio-optimisation\\lib\\site-packages\\statsmodels\\tsa\\base\\tsa_model.py:473: ValueWarning: No frequency information was provided, so inferred frequency MS will be used.\n",
      "  self._init_dates(dates, freq)\n",
      "c:\\Users\\matsz\\miniconda3\\envs\\portfolio-optimisation\\lib\\site-packages\\statsmodels\\tsa\\base\\tsa_model.py:473: ValueWarning: No frequency information was provided, so inferred frequency MS will be used.\n",
      "  self._init_dates(dates, freq)\n",
      "c:\\Users\\matsz\\miniconda3\\envs\\portfolio-optimisation\\lib\\site-packages\\statsmodels\\tsa\\base\\tsa_model.py:473: ValueWarning: No frequency information was provided, so inferred frequency MS will be used.\n",
      "  self._init_dates(dates, freq)\n",
      "c:\\Users\\matsz\\miniconda3\\envs\\portfolio-optimisation\\lib\\site-packages\\statsmodels\\tsa\\base\\tsa_model.py:473: ValueWarning: No frequency information was provided, so inferred frequency MS will be used.\n",
      "  self._init_dates(dates, freq)\n"
     ]
    },
    {
     "data": {
      "text/html": [
       "<div>\n",
       "<style scoped>\n",
       "    .dataframe tbody tr th:only-of-type {\n",
       "        vertical-align: middle;\n",
       "    }\n",
       "\n",
       "    .dataframe tbody tr th {\n",
       "        vertical-align: top;\n",
       "    }\n",
       "\n",
       "    .dataframe thead th {\n",
       "        text-align: right;\n",
       "    }\n",
       "</style>\n",
       "<table border=\"1\" class=\"dataframe\">\n",
       "  <thead>\n",
       "    <tr style=\"text-align: right;\">\n",
       "      <th></th>\n",
       "      <th>p[0-&gt;0]</th>\n",
       "      <th>p[1-&gt;0]</th>\n",
       "      <th>const[0]</th>\n",
       "      <th>const[1]</th>\n",
       "      <th>sigma2[0]</th>\n",
       "      <th>sigma2[1]</th>\n",
       "    </tr>\n",
       "  </thead>\n",
       "  <tbody>\n",
       "    <tr>\n",
       "      <th>(1988-01-01, 2023-07-31)</th>\n",
       "      <td>93.49</td>\n",
       "      <td>9.16</td>\n",
       "      <td>1.60</td>\n",
       "      <td>-0.58</td>\n",
       "      <td>2.63</td>\n",
       "      <td>5.62</td>\n",
       "    </tr>\n",
       "    <tr>\n",
       "      <th>(1990-01-01, 2023-07-31)</th>\n",
       "      <td>93.66</td>\n",
       "      <td>6.51</td>\n",
       "      <td>1.45</td>\n",
       "      <td>-0.26</td>\n",
       "      <td>2.42</td>\n",
       "      <td>5.54</td>\n",
       "    </tr>\n",
       "    <tr>\n",
       "      <th>(1999-01-01, 2023-07-31)</th>\n",
       "      <td>94.03</td>\n",
       "      <td>7.14</td>\n",
       "      <td>1.36</td>\n",
       "      <td>-0.44</td>\n",
       "      <td>2.24</td>\n",
       "      <td>5.62</td>\n",
       "    </tr>\n",
       "    <tr>\n",
       "      <th>(2003-01-01, 2023-07-31)</th>\n",
       "      <td>92.87</td>\n",
       "      <td>12.95</td>\n",
       "      <td>1.38</td>\n",
       "      <td>-0.52</td>\n",
       "      <td>2.21</td>\n",
       "      <td>5.54</td>\n",
       "    </tr>\n",
       "    <tr>\n",
       "      <th>(2000-03-01, 2023-07-31)</th>\n",
       "      <td>93.90</td>\n",
       "      <td>8.55</td>\n",
       "      <td>1.38</td>\n",
       "      <td>-0.91</td>\n",
       "      <td>2.27</td>\n",
       "      <td>5.72</td>\n",
       "    </tr>\n",
       "    <tr>\n",
       "      <th>(2002-09-01, 2022-09-30)</th>\n",
       "      <td>93.62</td>\n",
       "      <td>11.50</td>\n",
       "      <td>1.36</td>\n",
       "      <td>-0.84</td>\n",
       "      <td>2.29</td>\n",
       "      <td>5.88</td>\n",
       "    </tr>\n",
       "    <tr>\n",
       "      <th>(2002-09-01, 2020-03-31)</th>\n",
       "      <td>94.30</td>\n",
       "      <td>11.45</td>\n",
       "      <td>1.32</td>\n",
       "      <td>-1.28</td>\n",
       "      <td>2.26</td>\n",
       "      <td>5.98</td>\n",
       "    </tr>\n",
       "  </tbody>\n",
       "</table>\n",
       "</div>"
      ],
      "text/plain": [
       "                          p[0->0]  p[1->0]  const[0]  const[1]  sigma2[0]  \\\n",
       "(1988-01-01, 2023-07-31)    93.49     9.16      1.60     -0.58       2.63   \n",
       "(1990-01-01, 2023-07-31)    93.66     6.51      1.45     -0.26       2.42   \n",
       "(1999-01-01, 2023-07-31)    94.03     7.14      1.36     -0.44       2.24   \n",
       "(2003-01-01, 2023-07-31)    92.87    12.95      1.38     -0.52       2.21   \n",
       "(2000-03-01, 2023-07-31)    93.90     8.55      1.38     -0.91       2.27   \n",
       "(2002-09-01, 2022-09-30)    93.62    11.50      1.36     -0.84       2.29   \n",
       "(2002-09-01, 2020-03-31)    94.30    11.45      1.32     -1.28       2.26   \n",
       "\n",
       "                          sigma2[1]  \n",
       "(1988-01-01, 2023-07-31)       5.62  \n",
       "(1990-01-01, 2023-07-31)       5.54  \n",
       "(1999-01-01, 2023-07-31)       5.62  \n",
       "(2003-01-01, 2023-07-31)       5.54  \n",
       "(2000-03-01, 2023-07-31)       5.72  \n",
       "(2002-09-01, 2022-09-30)       5.88  \n",
       "(2002-09-01, 2020-03-31)       5.98  "
      ]
     },
     "execution_count": 60,
     "metadata": {},
     "output_type": "execute_result"
    }
   ],
   "source": [
    "data = acwi_curvo_ret\n",
    "n_regimes = 2\n",
    "params = []\n",
    "\n",
    "for period in periods:\n",
    "    model = sm.tsa.MarkovRegression(\n",
    "    data[period[0]:period[1]],\n",
    "    k_regimes=n_regimes,\n",
    "    switching_variance=True,\n",
    "    freq=None\n",
    "    )\n",
    "    result = model.fit()\n",
    "    result.params['sigma2[0]'] = np.sqrt(result.params['sigma2[0]'])\n",
    "    result.params['sigma2[1]'] = np.sqrt(result.params['sigma2[1]'])\n",
    "    params.append(np.round(result.params * 100,2))\n",
    "\n",
    "\n",
    "params = pd.DataFrame(data=params, index=periods)\n",
    "params"
   ]
  },
  {
   "cell_type": "code",
   "execution_count": null,
   "metadata": {},
   "outputs": [],
   "source": [
    "p 1.5, 1, mu 0.2, -0.6, sig 0.4, -0.5"
   ]
  },
  {
   "cell_type": "code",
   "execution_count": null,
   "metadata": {},
   "outputs": [],
   "source": [
    "95, 7.5, 1.39, -0.86, 2.8, 5.1"
   ]
  },
  {
   "cell_type": "code",
   "execution_count": null,
   "metadata": {},
   "outputs": [
    {
     "data": {
      "application/vnd.jupyter.widget-view+json": {
       "model_id": "3337e0d2b5ea46aa80076540bf94ffef",
       "version_major": 2,
       "version_minor": 0
      },
      "text/plain": [
       "interactive(children=(FloatSlider(value=2.75, description='mu1', max=5.0, min=0.5, step=0.01), FloatSlider(val…"
      ]
     },
     "metadata": {},
     "output_type": "display_data"
    },
    {
     "data": {
      "text/plain": [
       "<function __main__.show_RSLN_scenarios_evaluation(mu1, mu2, sigma1, sigma2, p00, p10, initial_values, current_regime, dt, n_scenarios, n_steps, hist)>"
      ]
     },
     "execution_count": 36,
     "metadata": {},
     "output_type": "execute_result"
    }
   ],
   "source": [
    "def show_RSLN_scenarios_evaluation(mu1, mu2, sigma1, sigma2, p00,p10, initial_values, current_regime, dt, n_scenarios, n_steps, hist):\n",
    "\n",
    "    transition_matrix = convert_to_transition_matrix(p00/100,p10/100)\n",
    "\n",
    "    model = RegimeSwitching(\n",
    "    models=[IndependentLogNormal(mu=mu1/100,sigma=sigma1/100),\n",
    "            IndependentLogNormal(mu=mu2/100,sigma=sigma2/100)],\n",
    "    probs=transition_matrix\n",
    "    )\n",
    "\n",
    "    scenarios = model.scenarios(initial_values,current_regime,dt,n_steps, n_scenarios)\n",
    "    scenarios = pd.DataFrame(data=scenarios, index=range(n_scenarios), columns=range(n_steps+1))\n",
    "\n",
    "    show_scenarios_evaluation(scenarios,hist)\n",
    "\n",
    "\n",
    "interact_manual(show_RSLN_scenarios_evaluation,\n",
    "         mu1=(0.5,5,0.01),\n",
    "         mu2=(-3,3,0.01),\n",
    "         sigma1=(1,7, 0.1),\n",
    "         sigma2=(1,7, 0.1),\n",
    "         p00 = (80,99,0.1),\n",
    "         p10 = (1,20,0.1),\n",
    "         initial_values=100,\n",
    "         current_regime=0,\n",
    "         dt=1,\n",
    "         n_scenarios=2000,\n",
    "         n_steps= 300,\n",
    "         hist=fixed(acwi_pln_returns)\n",
    "         )\n",
    "        (1999-01-01, 2023-07-31)\t95.84\t10.80\t1.27\t-1.36\t2.74\t5.18"
   ]
  }
 ],
 "metadata": {
  "kernelspec": {
   "display_name": "portfolio-optimisation",
   "language": "python",
   "name": "python3"
  },
  "language_info": {
   "codemirror_mode": {
    "name": "ipython",
    "version": 3
   },
   "file_extension": ".py",
   "mimetype": "text/x-python",
   "name": "python",
   "nbconvert_exporter": "python",
   "pygments_lexer": "ipython3",
   "version": "3.9.12"
  },
  "orig_nbformat": 4
 },
 "nbformat": 4,
 "nbformat_minor": 2
}
