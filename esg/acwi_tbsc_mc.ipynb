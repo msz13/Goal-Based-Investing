{
 "cells": [
  {
   "cell_type": "code",
   "execution_count": 1,
   "metadata": {},
   "outputs": [],
   "source": [
    "import requests\n",
    "import pandas as pd\n",
    "import seaborn as sns\n",
    "import matplotlib.pyplot as plt\n",
    "import os\n",
    "import datetime\n",
    "import yfinance as yf\n",
    "import numpy as np\n",
    "from io import StringIO\n",
    "import sklearn as skn\n",
    "from scipy import stats\n",
    "import pandas_datareader.data as pdr\n",
    "import riskfolio as rp"
   ]
  }
 ],
 "metadata": {
  "kernelspec": {
   "display_name": "portfolio-optimisation",
   "language": "python",
   "name": "python3"
  },
  "language_info": {
   "codemirror_mode": {
    "name": "ipython",
    "version": 3
   },
   "file_extension": ".py",
   "mimetype": "text/x-python",
   "name": "python",
   "nbconvert_exporter": "python",
   "pygments_lexer": "ipython3",
   "version": "3.9.12"
  },
  "orig_nbformat": 4
 },
 "nbformat": 4,
 "nbformat_minor": 2
}
