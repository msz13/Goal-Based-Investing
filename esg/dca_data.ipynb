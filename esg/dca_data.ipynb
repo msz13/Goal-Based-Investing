{
 "cells": [
  {
   "cell_type": "code",
   "execution_count": 4,
   "metadata": {},
   "outputs": [],
   "source": [
    "import pandas as pd\n",
    "import preproccessing as prep\n",
    "import pandas_datareader.data as web\n",
    "import datetime\n"
   ]
  },
  {
   "cell_type": "markdown",
   "metadata": {},
   "source": [
    "Potrzebne dane: \n",
    "- acwi 1990-2023 (q)\n",
    "- Tbill 1990-2023, albo vangard money market (q)\n",
    "- TBonds (q)\n",
    "- inflation expectations (y)\n",
    "- expected risk premium (y)\n",
    "  "
   ]
  },
  {
   "cell_type": "code",
   "execution_count": 28,
   "metadata": {},
   "outputs": [
    {
     "data": {
      "text/html": [
       "<div>\n",
       "<style scoped>\n",
       "    .dataframe tbody tr th:only-of-type {\n",
       "        vertical-align: middle;\n",
       "    }\n",
       "\n",
       "    .dataframe tbody tr th {\n",
       "        vertical-align: top;\n",
       "    }\n",
       "\n",
       "    .dataframe thead th {\n",
       "        text-align: right;\n",
       "    }\n",
       "</style>\n",
       "<table border=\"1\" class=\"dataframe\">\n",
       "  <thead>\n",
       "    <tr style=\"text-align: right;\">\n",
       "      <th></th>\n",
       "      <th>EXPINF10YR</th>\n",
       "      <th>TB3MS</th>\n",
       "      <th>spx</th>\n",
       "    </tr>\n",
       "    <tr>\n",
       "      <th>DATE</th>\n",
       "      <th></th>\n",
       "      <th></th>\n",
       "      <th></th>\n",
       "    </tr>\n",
       "  </thead>\n",
       "  <tbody>\n",
       "    <tr>\n",
       "      <th>2023-08-01</th>\n",
       "      <td>0.021388</td>\n",
       "      <td>0.0530</td>\n",
       "      <td>0.027188</td>\n",
       "    </tr>\n",
       "    <tr>\n",
       "      <th>2023-09-01</th>\n",
       "      <td>0.022222</td>\n",
       "      <td>0.0532</td>\n",
       "      <td>-0.013320</td>\n",
       "    </tr>\n",
       "    <tr>\n",
       "      <th>2023-10-01</th>\n",
       "      <td>0.023627</td>\n",
       "      <td>0.0534</td>\n",
       "      <td>-0.050352</td>\n",
       "    </tr>\n",
       "    <tr>\n",
       "      <th>2023-11-01</th>\n",
       "      <td>0.023841</td>\n",
       "      <td>0.0527</td>\n",
       "      <td>-0.011783</td>\n",
       "    </tr>\n",
       "    <tr>\n",
       "      <th>2023-12-01</th>\n",
       "      <td>0.022784</td>\n",
       "      <td>0.0524</td>\n",
       "      <td>0.084186</td>\n",
       "    </tr>\n",
       "  </tbody>\n",
       "</table>\n",
       "</div>"
      ],
      "text/plain": [
       "            EXPINF10YR   TB3MS       spx\n",
       "DATE                                    \n",
       "2023-08-01    0.021388  0.0530  0.027188\n",
       "2023-09-01    0.022222  0.0532 -0.013320\n",
       "2023-10-01    0.023627  0.0534 -0.050352\n",
       "2023-11-01    0.023841  0.0527 -0.011783\n",
       "2023-12-01    0.022784  0.0524  0.084186"
      ]
     },
     "execution_count": 28,
     "metadata": {},
     "output_type": "execute_result"
    }
   ],
   "source": [
    "\n",
    "tickers =  ['EXPINF10YR', 'TB3MS']\n",
    "start = datetime.datetime(1990, 1, 1)\n",
    "\n",
    "end = datetime.datetime(2023, 12, 31)\n",
    "\n",
    "df = web.DataReader(tickers, 'fred', start,end)\n",
    "df = df/100\n",
    "\n",
    "\n",
    "spx = prep.loadStooqData('^spx',start,'d')\n",
    "spx = spx.resample('MS').first().iloc[:-1]\n",
    "spx = spx.pct_change()\n",
    "df['spx'] = spx\n",
    "\n",
    "df.tail()\n"
   ]
  },
  {
   "cell_type": "code",
   "execution_count": 26,
   "metadata": {},
   "outputs": [
    {
     "name": "stdout",
     "output_type": "stream",
     "text": [
      "<class 'pandas.core.series.Series'>\n",
      "DatetimeIndex: 408 entries, 1990-01-01 to 2023-12-01\n",
      "Freq: MS\n",
      "Series name: Zamkniecie\n",
      "Non-Null Count  Dtype  \n",
      "--------------  -----  \n",
      "408 non-null    float64\n",
      "dtypes: float64(1)\n",
      "memory usage: 6.4 KB\n"
     ]
    }
   ],
   "source": []
  }
 ],
 "metadata": {
  "kernelspec": {
   "display_name": "portfolio-optimisation",
   "language": "python",
   "name": "python3"
  },
  "language_info": {
   "codemirror_mode": {
    "name": "ipython",
    "version": 3
   },
   "file_extension": ".py",
   "mimetype": "text/x-python",
   "name": "python",
   "nbconvert_exporter": "python",
   "pygments_lexer": "ipython3",
   "version": "3.9.12"
  }
 },
 "nbformat": 4,
 "nbformat_minor": 2
}
