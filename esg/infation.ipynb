{
 "cells": [
  {
   "cell_type": "code",
   "execution_count": 1,
   "metadata": {},
   "outputs": [],
   "source": [
    "from preproccessing import loadStooqData\n",
    "import numpy as np\n",
    "import pandas as pd\n",
    "import statsmodels.api as sm\n",
    "import statsmodels.tsa.api as tsa\n",
    "import pyesg\n",
    "import seaborn as sns\n",
    "import matplotlib.pyplot as plt"
   ]
  },
  {
   "cell_type": "code",
   "execution_count": 2,
   "metadata": {},
   "outputs": [],
   "source": [
    "data = loadStooqData('cpiypl.m','1991-01-01')"
   ]
  },
  {
   "cell_type": "code",
   "execution_count": 3,
   "metadata": {},
   "outputs": [],
   "source": [
    "def ornstein_uhlenbeck_params(series,period):\n",
    "    lagged = series.shift(1).dropna()\n",
    "    series = series.iloc[1:]\n",
    "    lagged = sm.add_constant(lagged,prepend=False)\n",
    "    model = sm.OLS(series['Zamkniecie'],lagged[['Zamkniecie','const']])\n",
    "    res = model.fit()\n",
    "    b = res.params['Zamkniecie']\n",
    "    a = res.params['const']\n",
    "    k = (1 -b)/(1/period)\n",
    "    u = a/k\n",
    "    resid = res.resid\n",
    "    sig = np.sqrt(np.mean(resid**2))\n",
    "    sig = np.round(sig,4)\n",
    "\n",
    "    return (u,sig,k)\n"
   ]
  },
  {
   "cell_type": "code",
   "execution_count": 20,
   "metadata": {},
   "outputs": [
    {
     "data": {
      "text/html": [
       "<div>\n",
       "<style scoped>\n",
       "    .dataframe tbody tr th:only-of-type {\n",
       "        vertical-align: middle;\n",
       "    }\n",
       "\n",
       "    .dataframe tbody tr th {\n",
       "        vertical-align: top;\n",
       "    }\n",
       "\n",
       "    .dataframe thead th {\n",
       "        text-align: right;\n",
       "    }\n",
       "</style>\n",
       "<table border=\"1\" class=\"dataframe\">\n",
       "  <thead>\n",
       "    <tr style=\"text-align: right;\">\n",
       "      <th></th>\n",
       "      <th>Zamkniecie</th>\n",
       "    </tr>\n",
       "  </thead>\n",
       "  <tbody>\n",
       "    <tr>\n",
       "      <th>count</th>\n",
       "      <td>228.000000</td>\n",
       "    </tr>\n",
       "    <tr>\n",
       "      <th>mean</th>\n",
       "      <td>0.028293</td>\n",
       "    </tr>\n",
       "    <tr>\n",
       "      <th>std</th>\n",
       "      <td>0.030898</td>\n",
       "    </tr>\n",
       "    <tr>\n",
       "      <th>min</th>\n",
       "      <td>-0.016129</td>\n",
       "    </tr>\n",
       "    <tr>\n",
       "      <th>25%</th>\n",
       "      <td>0.011681</td>\n",
       "    </tr>\n",
       "    <tr>\n",
       "      <th>50%</th>\n",
       "      <td>0.024205</td>\n",
       "    </tr>\n",
       "    <tr>\n",
       "      <th>75%</th>\n",
       "      <td>0.038499</td>\n",
       "    </tr>\n",
       "    <tr>\n",
       "      <th>max</th>\n",
       "      <td>0.164667</td>\n",
       "    </tr>\n",
       "  </tbody>\n",
       "</table>\n",
       "</div>"
      ],
      "text/plain": [
       "       Zamkniecie\n",
       "count  228.000000\n",
       "mean     0.028293\n",
       "std      0.030898\n",
       "min     -0.016129\n",
       "25%      0.011681\n",
       "50%      0.024205\n",
       "75%      0.038499\n",
       "max      0.164667"
      ]
     },
     "metadata": {},
     "output_type": "display_data"
    },
    {
     "data": {
      "text/plain": [
       "<AxesSubplot:ylabel='Zamkniecie'>"
      ]
     },
     "execution_count": 20,
     "metadata": {},
     "output_type": "execute_result"
    },
    {
     "data": {
      "image/png": "[encoded data removed]",
      "text/plain": [
       "<Figure size 432x288 with 1 Axes>"
      ]
     },
     "metadata": {
      "needs_background": "light"
     },
     "output_type": "display_data"
    }
   ],
   "source": [
    "cpi = data['2004-01-01':'2022-12-31'] / 100\n",
    "cpi = np.log(cpi+1)\n",
    "cpi = cpi.reset_index()\n",
    "display(cpi.describe())\n",
    "sns.lineplot(data=cpi['Zamkniecie'])\n"
   ]
  },
  {
   "cell_type": "code",
   "execution_count": 5,
   "metadata": {},
   "outputs": [
    {
     "name": "stdout",
     "output_type": "stream",
     "text": [
      "0.06847778559514779\n",
      "0.0044\n",
      "-0.002294295727823803\n"
     ]
    }
   ],
   "source": [
    "u,sig,k = ornstein_uhlenbeck_params(cpi,1/12)\n",
    "print(u)\n",
    "print(sig)\n",
    "print(k)"
   ]
  },
  {
   "cell_type": "code",
   "execution_count": 6,
   "metadata": {},
   "outputs": [],
   "source": [
    "simulator = pyesg.OrnsteinUhlenbeckProcess(mu=u,sigma=sig,theta=k)"
   ]
  },
  {
   "cell_type": "code",
   "execution_count": 7,
   "metadata": {},
   "outputs": [],
   "source": [
    "length = 180\n",
    "scenarios = simulator.scenarios(0.16,1,1000,length)"
   ]
  },
  {
   "cell_type": "code",
   "execution_count": 8,
   "metadata": {},
   "outputs": [],
   "source": [
    "perc = np.percentile(scenarios,[1,5,25,50,75,95,99],axis=0)"
   ]
  },
  {
   "cell_type": "code",
   "execution_count": 9,
   "metadata": {},
   "outputs": [],
   "source": [
    "def fanchart(hist,percentiles):\n",
    "    x = np.linspace(0,length+1,length+1)\n",
    "    fig,ax = plt.subplots(figsize=(12,6))\n",
    "    ax.fill_between(x=x,y1=percentiles[0],y2=percentiles[4], color='blue', alpha=0.1)\n",
    "    ax.fill_between(x=x,y1=percentiles[1],y2=percentiles[5], color='blue', alpha=0.2)\n",
    "    ax.fill_between(x=x,y1=percentiles[2],y2=percentiles[6], color='blue', alpha=0.3)\n",
    "    ax.plot(percentiles[3],color='blue')"
   ]
  },
  {
   "cell_type": "code",
   "execution_count": 10,
   "metadata": {},
   "outputs": [
    {
     "data": {
      "image/png": "[encoded data removed]",
      "text/plain": [
       "<Figure size 864x432 with 1 Axes>"
      ]
     },
     "metadata": {
      "needs_background": "light"
     },
     "output_type": "display_data"
    }
   ],
   "source": [
    "fanchart(cpi,perc)"
   ]
  },
  {
   "cell_type": "code",
   "execution_count": 11,
   "metadata": {},
   "outputs": [
    {
     "data": {
      "text/html": [
       "<div>\n",
       "<style scoped>\n",
       "    .dataframe tbody tr th:only-of-type {\n",
       "        vertical-align: middle;\n",
       "    }\n",
       "\n",
       "    .dataframe tbody tr th {\n",
       "        vertical-align: top;\n",
       "    }\n",
       "\n",
       "    .dataframe thead th {\n",
       "        text-align: right;\n",
       "    }\n",
       "</style>\n",
       "<table border=\"1\" class=\"dataframe\">\n",
       "  <thead>\n",
       "    <tr style=\"text-align: right;\">\n",
       "      <th></th>\n",
       "      <th>1</th>\n",
       "      <th>2</th>\n",
       "      <th>3</th>\n",
       "      <th>5</th>\n",
       "      <th>10</th>\n",
       "      <th>15</th>\n",
       "    </tr>\n",
       "    <tr>\n",
       "      <th>perc</th>\n",
       "      <th></th>\n",
       "      <th></th>\n",
       "      <th></th>\n",
       "      <th></th>\n",
       "      <th></th>\n",
       "      <th></th>\n",
       "    </tr>\n",
       "  </thead>\n",
       "  <tbody>\n",
       "    <tr>\n",
       "      <th>1</th>\n",
       "      <td>0.128196</td>\n",
       "      <td>0.114378</td>\n",
       "      <td>0.107595</td>\n",
       "      <td>0.091548</td>\n",
       "      <td>0.061710</td>\n",
       "      <td>0.037927</td>\n",
       "    </tr>\n",
       "    <tr>\n",
       "      <th>5</th>\n",
       "      <td>0.137123</td>\n",
       "      <td>0.128346</td>\n",
       "      <td>0.123083</td>\n",
       "      <td>0.114223</td>\n",
       "      <td>0.103004</td>\n",
       "      <td>0.092648</td>\n",
       "    </tr>\n",
       "    <tr>\n",
       "      <th>25</th>\n",
       "      <td>0.153387</td>\n",
       "      <td>0.149309</td>\n",
       "      <td>0.148563</td>\n",
       "      <td>0.149597</td>\n",
       "      <td>0.153355</td>\n",
       "      <td>0.160209</td>\n",
       "    </tr>\n",
       "    <tr>\n",
       "      <th>50</th>\n",
       "      <td>0.163465</td>\n",
       "      <td>0.164976</td>\n",
       "      <td>0.168858</td>\n",
       "      <td>0.175540</td>\n",
       "      <td>0.188790</td>\n",
       "      <td>0.206942</td>\n",
       "    </tr>\n",
       "    <tr>\n",
       "      <th>75</th>\n",
       "      <td>0.174102</td>\n",
       "      <td>0.180540</td>\n",
       "      <td>0.187005</td>\n",
       "      <td>0.200342</td>\n",
       "      <td>0.228067</td>\n",
       "      <td>0.254810</td>\n",
       "    </tr>\n",
       "    <tr>\n",
       "      <th>95</th>\n",
       "      <td>0.189237</td>\n",
       "      <td>0.201891</td>\n",
       "      <td>0.216014</td>\n",
       "      <td>0.234685</td>\n",
       "      <td>0.278744</td>\n",
       "      <td>0.331627</td>\n",
       "    </tr>\n",
       "    <tr>\n",
       "      <th>99</th>\n",
       "      <td>0.199432</td>\n",
       "      <td>0.214889</td>\n",
       "      <td>0.231937</td>\n",
       "      <td>0.263724</td>\n",
       "      <td>0.322321</td>\n",
       "      <td>0.379203</td>\n",
       "    </tr>\n",
       "  </tbody>\n",
       "</table>\n",
       "</div>"
      ],
      "text/plain": [
       "             1         2         3         5        10        15\n",
       "perc                                                            \n",
       "1     0.128196  0.114378  0.107595  0.091548  0.061710  0.037927\n",
       "5     0.137123  0.128346  0.123083  0.114223  0.103004  0.092648\n",
       "25    0.153387  0.149309  0.148563  0.149597  0.153355  0.160209\n",
       "50    0.163465  0.164976  0.168858  0.175540  0.188790  0.206942\n",
       "75    0.174102  0.180540  0.187005  0.200342  0.228067  0.254810\n",
       "95    0.189237  0.201891  0.216014  0.234685  0.278744  0.331627\n",
       "99    0.199432  0.214889  0.231937  0.263724  0.322321  0.379203"
      ]
     },
     "execution_count": 11,
     "metadata": {},
     "output_type": "execute_result"
    }
   ],
   "source": [
    "def percentile_summary(perc):\n",
    "    perc_dict = {'perc': ['1','5','25','50','75','95','99'],\n",
    "                 '1': perc[:,12],\n",
    "                 '2': perc[:,24],\n",
    "                 '3': perc[:,36],\n",
    "                 '5': perc[:,60],\n",
    "                 '10': perc[:,120],\n",
    "                 '15': perc[:,180]\n",
    "                 }\n",
    "    \n",
    "    perc_summary = pd.DataFrame(perc_dict)\n",
    "    perc_summary.set_index('perc', inplace=True)\n",
    "    return perc_summary\n",
    "percentile_summary(perc)"
   ]
  },
  {
   "cell_type": "code",
   "execution_count": 12,
   "metadata": {},
   "outputs": [
    {
     "name": "stderr",
     "output_type": "stream",
     "text": [
      "c:\\Users\\matsz\\miniconda3\\envs\\portfolio-optimisation\\lib\\site-packages\\numpy\\core\\fromnumeric.py:86: RuntimeWarning: invalid value encountered in reduce\n",
      "  return ufunc.reduce(obj, axis, dtype, out, **passkwargs)\n",
      "c:\\Users\\matsz\\miniconda3\\envs\\portfolio-optimisation\\lib\\site-packages\\numpy\\core\\fromnumeric.py:86: RuntimeWarning: invalid value encountered in reduce\n",
      "  return ufunc.reduce(obj, axis, dtype, out, **passkwargs)\n",
      "c:\\Users\\matsz\\miniconda3\\envs\\portfolio-optimisation\\lib\\site-packages\\statsmodels\\base\\model.py:607: ConvergenceWarning: Maximum Likelihood optimization failed to converge. Check mle_retvals\n",
      "  warnings.warn(\"Maximum Likelihood optimization failed to \"\n"
     ]
    }
   ],
   "source": [
    "endog = cpi['Zamkniecie'].iloc[1:] #sm.add_constant(cpi['Zamkniecie'],prepend=True).iloc[1:]\n",
    "exog = cpi['Zamkniecie'].iloc[:-1]\n",
    "cpi_model = sm.tsa.MarkovRegression(endog,k_regimes=2, exog=exog, switching_variance=True)\n",
    "res = cpi_model.fit()"
   ]
  },
  {
   "cell_type": "code",
   "execution_count": 13,
   "metadata": {},
   "outputs": [
    {
     "data": {
      "text/html": [
       "<table class=\"simpletable\">\n",
       "<caption>Markov Switching Model Results</caption>\n",
       "<tr>\n",
       "  <th>Dep. Variable:</th>      <td>Zamkniecie</td>    <th>  No. Observations:  </th>  <td>227</td> \n",
       "</tr>\n",
       "<tr>\n",
       "  <th>Model:</th>           <td>MarkovRegression</td> <th>  Log Likelihood     </th> <td>  nan</td>\n",
       "</tr>\n",
       "<tr>\n",
       "  <th>Date:</th>            <td>Sun, 17 Sep 2023</td> <th>  AIC                </th> <td>  nan</td>\n",
       "</tr>\n",
       "<tr>\n",
       "  <th>Time:</th>                <td>21:32:09</td>     <th>  BIC                </th> <td>  nan</td>\n",
       "</tr>\n",
       "<tr>\n",
       "  <th>Sample:</th>                  <td>0</td>        <th>  HQIC               </th> <td>  nan</td>\n",
       "</tr>\n",
       "<tr>\n",
       "  <th></th>                      <td> - 227</td>      <th>                     </th>   <td> </td>  \n",
       "</tr>\n",
       "<tr>\n",
       "  <th>Covariance Type:</th>      <td>approx</td>      <th>                     </th>   <td> </td>  \n",
       "</tr>\n",
       "</table>\n",
       "<table class=\"simpletable\">\n",
       "<caption>Regime 0 parameters</caption>\n",
       "<tr>\n",
       "     <td></td>       <th>coef</th>     <th>std err</th>      <th>z</th>      <th>P>|z|</th>  <th>[0.025</th>    <th>0.975]</th>  \n",
       "</tr>\n",
       "<tr>\n",
       "  <th>const</th>  <td>  -24.8562</td> <td>      nan</td> <td>      nan</td> <td>   nan</td> <td>      nan</td> <td>      nan</td>\n",
       "</tr>\n",
       "<tr>\n",
       "  <th>x1</th>     <td> 1007.1127</td> <td>      nan</td> <td>      nan</td> <td>   nan</td> <td>      nan</td> <td>      nan</td>\n",
       "</tr>\n",
       "<tr>\n",
       "  <th>sigma2</th> <td> 7.017e-06</td> <td>      nan</td> <td>      nan</td> <td>   nan</td> <td>      nan</td> <td>      nan</td>\n",
       "</tr>\n",
       "</table>\n",
       "<table class=\"simpletable\">\n",
       "<caption>Regime 1 parameters</caption>\n",
       "<tr>\n",
       "     <td></td>       <th>coef</th>     <th>std err</th>      <th>z</th>      <th>P>|z|</th>  <th>[0.025</th>    <th>0.975]</th>  \n",
       "</tr>\n",
       "<tr>\n",
       "  <th>const</th>  <td>   -3.6388</td> <td>      nan</td> <td>      nan</td> <td>   nan</td> <td>      nan</td> <td>      nan</td>\n",
       "</tr>\n",
       "<tr>\n",
       "  <th>x1</th>     <td> 1944.1320</td> <td>      nan</td> <td>      nan</td> <td>   nan</td> <td>      nan</td> <td>      nan</td>\n",
       "</tr>\n",
       "<tr>\n",
       "  <th>sigma2</th> <td>   60.5044</td> <td>      nan</td> <td>      nan</td> <td>   nan</td> <td>      nan</td> <td>      nan</td>\n",
       "</tr>\n",
       "</table>\n",
       "<table class=\"simpletable\">\n",
       "<caption>Regime transition parameters</caption>\n",
       "<tr>\n",
       "     <td></td>        <th>coef</th>     <th>std err</th>      <th>z</th>      <th>P>|z|</th>  <th>[0.025</th>    <th>0.975]</th>  \n",
       "</tr>\n",
       "<tr>\n",
       "  <th>p[0->0]</th> <td>    1.0000</td> <td>      nan</td> <td>      nan</td> <td>   nan</td> <td>      nan</td> <td>      nan</td>\n",
       "</tr>\n",
       "<tr>\n",
       "  <th>p[1->0]</th> <td>         0</td> <td>      nan</td> <td>      nan</td> <td>   nan</td> <td>      nan</td> <td>      nan</td>\n",
       "</tr>\n",
       "</table><br/><br/>Warnings:<br/>[1] Covariance matrix is singular or near-singular, with condition number    nan. Standard errors may be unstable."
      ],
      "text/latex": [
       "\\begin{center}\n",
       "\\begin{tabular}{lclc}\n",
       "\\toprule\n",
       "\\textbf{Dep. Variable:}   &    Zamkniecie    & \\textbf{  No. Observations:  } &    227      \\\\\n",
       "\\textbf{Model:}           & MarkovRegression & \\textbf{  Log Likelihood     } &     nan     \\\\\n",
       "\\textbf{Date:}            & Sun, 17 Sep 2023 & \\textbf{  AIC                } &     nan     \\\\\n",
       "\\textbf{Time:}            &     21:32:09     & \\textbf{  BIC                } &     nan     \\\\\n",
       "\\textbf{Sample:}          &        0         & \\textbf{  HQIC               } &     nan     \\\\\n",
       "\\textbf{}                 &       - 227      & \\textbf{                     } &             \\\\\n",
       "\\textbf{Covariance Type:} &      approx      & \\textbf{                     } &             \\\\\n",
       "\\bottomrule\n",
       "\\end{tabular}\n",
       "\\begin{tabular}{lcccccc}\n",
       "                & \\textbf{coef} & \\textbf{std err} & \\textbf{z} & \\textbf{P$> |$z$|$} & \\textbf{[0.025} & \\textbf{0.975]}  \\\\\n",
       "\\midrule\n",
       "\\textbf{const}  &     -24.8562  &          nan     &       nan  &           nan        &          nan    &          nan     \\\\\n",
       "\\textbf{x1}     &    1007.1127  &          nan     &       nan  &           nan        &          nan    &          nan     \\\\\n",
       "\\textbf{sigma2} &    7.017e-06  &          nan     &       nan  &           nan        &          nan    &          nan     \\\\\n",
       "                & \\textbf{coef} & \\textbf{std err} & \\textbf{z} & \\textbf{P$> |$z$|$} & \\textbf{[0.025} & \\textbf{0.975]}  \\\\\n",
       "\\midrule\n",
       "\\textbf{const}  &      -3.6388  &          nan     &       nan  &           nan        &          nan    &          nan     \\\\\n",
       "\\textbf{x1}     &    1944.1320  &          nan     &       nan  &           nan        &          nan    &          nan     \\\\\n",
       "\\textbf{sigma2} &      60.5044  &          nan     &       nan  &           nan        &          nan    &          nan     \\\\\n",
       "                   & \\textbf{coef} & \\textbf{std err} & \\textbf{z} & \\textbf{P$> |$z$|$} & \\textbf{[0.025} & \\textbf{0.975]}  \\\\\n",
       "\\midrule\n",
       "\\textbf{p[0-$>$0]} &       1.0000  &          nan     &       nan  &           nan        &          nan    &          nan     \\\\\n",
       "\\textbf{p[1-$>$0]} &            0  &          nan     &       nan  &           nan        &          nan    &          nan     \\\\\n",
       "\\bottomrule\n",
       "\\end{tabular}\n",
       "%\\caption{Markov Switching Model Results}\n",
       "\\end{center}\n",
       "\n",
       "Warnings: \\newline\n",
       " [1] Covariance matrix is singular or near-singular, with condition number    nan. Standard errors may be unstable."
      ],
      "text/plain": [
       "<class 'statsmodels.iolib.summary.Summary'>\n",
       "\"\"\"\n",
       "                        Markov Switching Model Results                        \n",
       "==============================================================================\n",
       "Dep. Variable:             Zamkniecie   No. Observations:                  227\n",
       "Model:               MarkovRegression   Log Likelihood                     nan\n",
       "Date:                Sun, 17 Sep 2023   AIC                                nan\n",
       "Time:                        21:32:09   BIC                                nan\n",
       "Sample:                             0   HQIC                               nan\n",
       "                                - 227                                         \n",
       "Covariance Type:               approx                                         \n",
       "                             Regime 0 parameters                              \n",
       "==============================================================================\n",
       "                 coef    std err          z      P>|z|      [0.025      0.975]\n",
       "------------------------------------------------------------------------------\n",
       "const        -24.8562        nan        nan        nan         nan         nan\n",
       "x1          1007.1127        nan        nan        nan         nan         nan\n",
       "sigma2      7.017e-06        nan        nan        nan         nan         nan\n",
       "                             Regime 1 parameters                              \n",
       "==============================================================================\n",
       "                 coef    std err          z      P>|z|      [0.025      0.975]\n",
       "------------------------------------------------------------------------------\n",
       "const         -3.6388        nan        nan        nan         nan         nan\n",
       "x1          1944.1320        nan        nan        nan         nan         nan\n",
       "sigma2        60.5044        nan        nan        nan         nan         nan\n",
       "                         Regime transition parameters                         \n",
       "==============================================================================\n",
       "                 coef    std err          z      P>|z|      [0.025      0.975]\n",
       "------------------------------------------------------------------------------\n",
       "p[0->0]        1.0000        nan        nan        nan         nan         nan\n",
       "p[1->0]             0        nan        nan        nan         nan         nan\n",
       "==============================================================================\n",
       "\n",
       "Warnings:\n",
       "[1] Covariance matrix is singular or near-singular, with condition number    nan. Standard errors may be unstable.\n",
       "\"\"\""
      ]
     },
     "execution_count": 13,
     "metadata": {},
     "output_type": "execute_result"
    }
   ],
   "source": [
    "res.summary()"
   ]
  },
  {
   "cell_type": "code",
   "execution_count": 14,
   "metadata": {},
   "outputs": [
    {
     "data": {
      "text/plain": [
       "p[0->0]         1.000000\n",
       "p[1->0]         0.000000\n",
       "const[0]      -24.856163\n",
       "const[1]       -3.638782\n",
       "x1[0]        1007.112695\n",
       "x1[1]        1944.131965\n",
       "sigma2[0]       0.000007\n",
       "sigma2[1]      60.504373\n",
       "dtype: float64"
      ]
     },
     "execution_count": 14,
     "metadata": {},
     "output_type": "execute_result"
    }
   ],
   "source": [
    "res.params\n"
   ]
  },
  {
   "cell_type": "code",
   "execution_count": 15,
   "metadata": {},
   "outputs": [
    {
     "name": "stdout",
     "output_type": "stream",
     "text": [
      "0.00015605313396862332\n",
      "-23317.583582733252\n"
     ]
    }
   ],
   "source": [
    "#regime1\n",
    "period = 12\n",
    "a = res.params['const[1]']\n",
    "b = res.params['x1[1]']\n",
    "k = (1 -b)/(1/period)\n",
    "u = a/k\n",
    "print(u)\n",
    "print(k)"
   ]
  },
  {
   "cell_type": "code",
   "execution_count": 16,
   "metadata": {},
   "outputs": [
    {
     "data": {
      "text/plain": [
       "<AxesSubplot:>"
      ]
     },
     "execution_count": 16,
     "metadata": {},
     "output_type": "execute_result"
    },
    {
     "data": {
      "image/png": "[encoded data removed]",
      "text/plain": [
       "<Figure size 1152x288 with 1 Axes>"
      ]
     },
     "metadata": {
      "needs_background": "light"
     },
     "output_type": "display_data"
    }
   ],
   "source": [
    "res.smoothed_marginal_probabilities[0].plot(figsize=(16,4))\n",
    "res.smoothed_marginal_probabilities[1].plot(figsize=(16,4))\n",
    "#res.smoothed_marginal_probabilities[2].plot(figsize=(16,4))"
   ]
  },
  {
   "cell_type": "code",
   "execution_count": null,
   "metadata": {},
   "outputs": [],
   "source": []
  }
 ],
 "metadata": {
  "kernelspec": {
   "display_name": "portfolio-optimisation",
   "language": "python",
   "name": "python3"
  },
  "language_info": {
   "codemirror_mode": {
    "name": "ipython",
    "version": 3
   },
   "file_extension": ".py",
   "mimetype": "text/x-python",
   "name": "python",
   "nbconvert_exporter": "python",
   "pygments_lexer": "ipython3",
   "version": "3.9.12"
  },
  "orig_nbformat": 4
 },
 "nbformat": 4,
 "nbformat_minor": 2
}
