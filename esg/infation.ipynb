{
 "cells": [
  {
   "cell_type": "code",
   "execution_count": 209,
   "metadata": {},
   "outputs": [],
   "source": [
    "from preproccessing import loadStooqData\n",
    "import numpy as np\n",
    "import statsmodels.api as sm\n",
    "import pyesg\n",
    "import seaborn as sns\n",
    "import matplotlib.pyplot as plt"
   ]
  },
  {
   "cell_type": "code",
   "execution_count": 360,
   "metadata": {},
   "outputs": [],
   "source": [
    "data = loadStooqData('cpiypl.m','1993-01-01')"
   ]
  },
  {
   "cell_type": "code",
   "execution_count": 361,
   "metadata": {},
   "outputs": [],
   "source": [
    "cpi = data[:'2022-12-31'] / 100\n",
    "cpi = np.log(cpi+1)\n",
    "cpi_p = cpi.shift(1).dropna()\n",
    "cpi = cpi.iloc[1:]\n",
    "cpi = cpi.reset_index()\n",
    "cpi_p = cpi_p.reset_index()"
   ]
  },
  {
   "cell_type": "code",
   "execution_count": 362,
   "metadata": {},
   "outputs": [
    {
     "data": {
      "text/html": [
       "<div>\n",
       "<style scoped>\n",
       "    .dataframe tbody tr th:only-of-type {\n",
       "        vertical-align: middle;\n",
       "    }\n",
       "\n",
       "    .dataframe tbody tr th {\n",
       "        vertical-align: top;\n",
       "    }\n",
       "\n",
       "    .dataframe thead th {\n",
       "        text-align: right;\n",
       "    }\n",
       "</style>\n",
       "<table border=\"1\" class=\"dataframe\">\n",
       "  <thead>\n",
       "    <tr style=\"text-align: right;\">\n",
       "      <th></th>\n",
       "      <th>Zamkniecie</th>\n",
       "    </tr>\n",
       "  </thead>\n",
       "  <tbody>\n",
       "    <tr>\n",
       "      <th>count</th>\n",
       "      <td>359.000000</td>\n",
       "    </tr>\n",
       "    <tr>\n",
       "      <th>mean</th>\n",
       "      <td>0.067529</td>\n",
       "    </tr>\n",
       "    <tr>\n",
       "      <th>std</th>\n",
       "      <td>0.082810</td>\n",
       "    </tr>\n",
       "    <tr>\n",
       "      <th>min</th>\n",
       "      <td>-0.016129</td>\n",
       "    </tr>\n",
       "    <tr>\n",
       "      <th>25%</th>\n",
       "      <td>0.015873</td>\n",
       "    </tr>\n",
       "    <tr>\n",
       "      <th>50%</th>\n",
       "      <td>0.034401</td>\n",
       "    </tr>\n",
       "    <tr>\n",
       "      <th>75%</th>\n",
       "      <td>0.091666</td>\n",
       "    </tr>\n",
       "    <tr>\n",
       "      <th>max</th>\n",
       "      <td>0.334327</td>\n",
       "    </tr>\n",
       "  </tbody>\n",
       "</table>\n",
       "</div>"
      ],
      "text/plain": [
       "       Zamkniecie\n",
       "count  359.000000\n",
       "mean     0.067529\n",
       "std      0.082810\n",
       "min     -0.016129\n",
       "25%      0.015873\n",
       "50%      0.034401\n",
       "75%      0.091666\n",
       "max      0.334327"
      ]
     },
     "execution_count": 362,
     "metadata": {},
     "output_type": "execute_result"
    }
   ],
   "source": [
    "cpi.describe()"
   ]
  },
  {
   "cell_type": "code",
   "execution_count": 363,
   "metadata": {},
   "outputs": [],
   "source": [
    "cpi_p = sm.add_constant(cpi_p,prepend=False)"
   ]
  },
  {
   "cell_type": "code",
   "execution_count": 364,
   "metadata": {},
   "outputs": [],
   "source": [
    "model = sm.OLS(cpi['Zamkniecie'],cpi_p[['Zamkniecie','const']])"
   ]
  },
  {
   "cell_type": "code",
   "execution_count": 365,
   "metadata": {},
   "outputs": [
    {
     "data": {
      "text/html": [
       "<table class=\"simpletable\">\n",
       "<caption>OLS Regression Results</caption>\n",
       "<tr>\n",
       "  <th>Dep. Variable:</th>       <td>Zamkniecie</td>    <th>  R-squared:         </th> <td>   0.994</td> \n",
       "</tr>\n",
       "<tr>\n",
       "  <th>Model:</th>                   <td>OLS</td>       <th>  Adj. R-squared:    </th> <td>   0.994</td> \n",
       "</tr>\n",
       "<tr>\n",
       "  <th>Method:</th>             <td>Least Squares</td>  <th>  F-statistic:       </th> <td>5.557e+04</td>\n",
       "</tr>\n",
       "<tr>\n",
       "  <th>Date:</th>             <td>Mon, 04 Sep 2023</td> <th>  Prob (F-statistic):</th>  <td>  0.00</td>  \n",
       "</tr>\n",
       "<tr>\n",
       "  <th>Time:</th>                 <td>23:09:10</td>     <th>  Log-Likelihood:    </th> <td>  1292.6</td> \n",
       "</tr>\n",
       "<tr>\n",
       "  <th>No. Observations:</th>      <td>   359</td>      <th>  AIC:               </th> <td>  -2581.</td> \n",
       "</tr>\n",
       "<tr>\n",
       "  <th>Df Residuals:</th>          <td>   357</td>      <th>  BIC:               </th> <td>  -2574.</td> \n",
       "</tr>\n",
       "<tr>\n",
       "  <th>Df Model:</th>              <td>     1</td>      <th>                     </th>     <td> </td>    \n",
       "</tr>\n",
       "<tr>\n",
       "  <th>Covariance Type:</th>      <td>nonrobust</td>    <th>                     </th>     <td> </td>    \n",
       "</tr>\n",
       "</table>\n",
       "<table class=\"simpletable\">\n",
       "<tr>\n",
       "       <td></td>         <th>coef</th>     <th>std err</th>      <th>t</th>      <th>P>|t|</th>  <th>[0.025</th>    <th>0.975]</th>  \n",
       "</tr>\n",
       "<tr>\n",
       "  <th>Zamkniecie</th> <td>    0.9857</td> <td>    0.004</td> <td>  235.732</td> <td> 0.000</td> <td>    0.978</td> <td>    0.994</td>\n",
       "</tr>\n",
       "<tr>\n",
       "  <th>const</th>      <td>    0.0005</td> <td>    0.000</td> <td>    1.134</td> <td> 0.257</td> <td>   -0.000</td> <td>    0.001</td>\n",
       "</tr>\n",
       "</table>\n",
       "<table class=\"simpletable\">\n",
       "<tr>\n",
       "  <th>Omnibus:</th>       <td>71.111</td> <th>  Durbin-Watson:     </th> <td>   1.420</td> \n",
       "</tr>\n",
       "<tr>\n",
       "  <th>Prob(Omnibus):</th> <td> 0.000</td> <th>  Jarque-Bera (JB):  </th> <td> 716.428</td> \n",
       "</tr>\n",
       "<tr>\n",
       "  <th>Skew:</th>          <td> 0.453</td> <th>  Prob(JB):          </th> <td>2.69e-156</td>\n",
       "</tr>\n",
       "<tr>\n",
       "  <th>Kurtosis:</th>      <td> 9.861</td> <th>  Cond. No.          </th> <td>    12.0</td> \n",
       "</tr>\n",
       "</table><br/><br/>Notes:<br/>[1] Standard Errors assume that the covariance matrix of the errors is correctly specified."
      ],
      "text/latex": [
       "\\begin{center}\n",
       "\\begin{tabular}{lclc}\n",
       "\\toprule\n",
       "\\textbf{Dep. Variable:}    &    Zamkniecie    & \\textbf{  R-squared:         } &     0.994   \\\\\n",
       "\\textbf{Model:}            &       OLS        & \\textbf{  Adj. R-squared:    } &     0.994   \\\\\n",
       "\\textbf{Method:}           &  Least Squares   & \\textbf{  F-statistic:       } & 5.557e+04   \\\\\n",
       "\\textbf{Date:}             & Mon, 04 Sep 2023 & \\textbf{  Prob (F-statistic):} &     0.00    \\\\\n",
       "\\textbf{Time:}             &     23:09:10     & \\textbf{  Log-Likelihood:    } &    1292.6   \\\\\n",
       "\\textbf{No. Observations:} &         359      & \\textbf{  AIC:               } &    -2581.   \\\\\n",
       "\\textbf{Df Residuals:}     &         357      & \\textbf{  BIC:               } &    -2574.   \\\\\n",
       "\\textbf{Df Model:}         &           1      & \\textbf{                     } &             \\\\\n",
       "\\textbf{Covariance Type:}  &    nonrobust     & \\textbf{                     } &             \\\\\n",
       "\\bottomrule\n",
       "\\end{tabular}\n",
       "\\begin{tabular}{lcccccc}\n",
       "                    & \\textbf{coef} & \\textbf{std err} & \\textbf{t} & \\textbf{P$> |$t$|$} & \\textbf{[0.025} & \\textbf{0.975]}  \\\\\n",
       "\\midrule\n",
       "\\textbf{Zamkniecie} &       0.9857  &        0.004     &   235.732  &         0.000        &        0.978    &        0.994     \\\\\n",
       "\\textbf{const}      &       0.0005  &        0.000     &     1.134  &         0.257        &       -0.000    &        0.001     \\\\\n",
       "\\bottomrule\n",
       "\\end{tabular}\n",
       "\\begin{tabular}{lclc}\n",
       "\\textbf{Omnibus:}       & 71.111 & \\textbf{  Durbin-Watson:     } &     1.420  \\\\\n",
       "\\textbf{Prob(Omnibus):} &  0.000 & \\textbf{  Jarque-Bera (JB):  } &   716.428  \\\\\n",
       "\\textbf{Skew:}          &  0.453 & \\textbf{  Prob(JB):          } & 2.69e-156  \\\\\n",
       "\\textbf{Kurtosis:}      &  9.861 & \\textbf{  Cond. No.          } &      12.0  \\\\\n",
       "\\bottomrule\n",
       "\\end{tabular}\n",
       "%\\caption{OLS Regression Results}\n",
       "\\end{center}\n",
       "\n",
       "Notes: \\newline\n",
       " [1] Standard Errors assume that the covariance matrix of the errors is correctly specified."
      ],
      "text/plain": [
       "<class 'statsmodels.iolib.summary.Summary'>\n",
       "\"\"\"\n",
       "                            OLS Regression Results                            \n",
       "==============================================================================\n",
       "Dep. Variable:             Zamkniecie   R-squared:                       0.994\n",
       "Model:                            OLS   Adj. R-squared:                  0.994\n",
       "Method:                 Least Squares   F-statistic:                 5.557e+04\n",
       "Date:                Mon, 04 Sep 2023   Prob (F-statistic):               0.00\n",
       "Time:                        23:09:10   Log-Likelihood:                 1292.6\n",
       "No. Observations:                 359   AIC:                            -2581.\n",
       "Df Residuals:                     357   BIC:                            -2574.\n",
       "Df Model:                           1                                         \n",
       "Covariance Type:            nonrobust                                         \n",
       "==============================================================================\n",
       "                 coef    std err          t      P>|t|      [0.025      0.975]\n",
       "------------------------------------------------------------------------------\n",
       "Zamkniecie     0.9857      0.004    235.732      0.000       0.978       0.994\n",
       "const          0.0005      0.000      1.134      0.257      -0.000       0.001\n",
       "==============================================================================\n",
       "Omnibus:                       71.111   Durbin-Watson:                   1.420\n",
       "Prob(Omnibus):                  0.000   Jarque-Bera (JB):              716.428\n",
       "Skew:                           0.453   Prob(JB):                    2.69e-156\n",
       "Kurtosis:                       9.861   Cond. No.                         12.0\n",
       "==============================================================================\n",
       "\n",
       "Notes:\n",
       "[1] Standard Errors assume that the covariance matrix of the errors is correctly specified.\n",
       "\"\"\""
      ]
     },
     "execution_count": 365,
     "metadata": {},
     "output_type": "execute_result"
    }
   ],
   "source": [
    "res = model.fit()\n",
    "res.summary()"
   ]
  },
  {
   "cell_type": "code",
   "execution_count": 366,
   "metadata": {},
   "outputs": [
    {
     "name": "stdout",
     "output_type": "stream",
     "text": [
      "mu:  0.0029843626309032714\n",
      "k:  0.17128022253072883\n"
     ]
    }
   ],
   "source": [
    "b = res.params['Zamkniecie']\n",
    "a = res.params['const']\n",
    "k = (1 -b)/(1/12)\n",
    "u = a/k\n",
    "print('mu: ',u)\n",
    "print('k: ', k)"
   ]
  },
  {
   "cell_type": "code",
   "execution_count": 367,
   "metadata": {},
   "outputs": [
    {
     "data": {
      "text/plain": [
       "0.0066"
      ]
     },
     "execution_count": 367,
     "metadata": {},
     "output_type": "execute_result"
    }
   ],
   "source": [
    "resid = res.resid\n",
    "sig = np.sqrt(np.mean(resid**2))\n",
    "sig = np.round(sig,4)\n",
    "sig"
   ]
  },
  {
   "cell_type": "code",
   "execution_count": 368,
   "metadata": {},
   "outputs": [],
   "source": [
    "simulator = pyesg.OrnsteinUhlenbeckProcess(mu=u,sigma=sig,theta=k)"
   ]
  },
  {
   "cell_type": "code",
   "execution_count": 369,
   "metadata": {},
   "outputs": [],
   "source": [
    "length = 120\n",
    "scenarios = simulator.scenarios(0.1,1,1000,length)"
   ]
  },
  {
   "cell_type": "code",
   "execution_count": 370,
   "metadata": {},
   "outputs": [],
   "source": [
    "perc = np.percentile(scenarios,[5,25,50,75,95],axis=0)"
   ]
  },
  {
   "cell_type": "code",
   "execution_count": 375,
   "metadata": {},
   "outputs": [
    {
     "data": {
      "text/plain": [
       "[<matplotlib.lines.Line2D at 0x22d53a179a0>]"
      ]
     },
     "execution_count": 375,
     "metadata": {},
     "output_type": "execute_result"
    },
    {
     "data": {
      "image/png": "[encoded data removed]",
      "text/plain": [
       "<Figure size 864x432 with 1 Axes>"
      ]
     },
     "metadata": {
      "needs_background": "light"
     },
     "output_type": "display_data"
    }
   ],
   "source": [
    "x = np.linspace(0,length+1,length+1)\n",
    "fig,ax = plt.subplots(figsize=(12,6))\n",
    "ax.fill_between(x=x,y1=perc[0],y2=perc[4], color='blue', alpha=0.1)\n",
    "ax.fill_between(x=x,y1=perc[1],y2=perc[3], color='blue', alpha=0.2)\n",
    "ax.plot(perc[2],color='blue')"
   ]
  },
  {
   "cell_type": "code",
   "execution_count": 376,
   "metadata": {},
   "outputs": [
    {
     "name": "stdout",
     "output_type": "stream",
     "text": [
      "[-0.00625271  0.00520108  0.01311847  0.0215405   0.03273097]\n",
      "[-0.01410237 -0.00403243  0.00388891  0.01253135  0.0244475 ]\n",
      "[-0.01641843 -0.00575125  0.00311915  0.01074849  0.0223881 ]\n",
      "[-0.01633959 -0.00546724  0.00292982  0.01124847  0.02006389]\n",
      "[-0.01657084 -0.00437114  0.00343886  0.01089229  0.02273733]\n"
     ]
    }
   ],
   "source": [
    "print(perc[:,12])\n",
    "print(perc[:,24])\n",
    "print(perc[:,36])\n",
    "print(perc[:,60])\n",
    "print(perc[:,120])\n"
   ]
  }
 ],
 "metadata": {
  "kernelspec": {
   "display_name": "portfolio-optimisation",
   "language": "python",
   "name": "python3"
  },
  "language_info": {
   "codemirror_mode": {
    "name": "ipython",
    "version": 3
   },
   "file_extension": ".py",
   "mimetype": "text/x-python",
   "name": "python",
   "nbconvert_exporter": "python",
   "pygments_lexer": "ipython3",
   "version": "3.9.12"
  },
  "orig_nbformat": 4
 },
 "nbformat": 4,
 "nbformat_minor": 2
}
