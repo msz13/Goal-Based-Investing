{
 "cells": [
  {
   "cell_type": "code",
   "execution_count": 2,
   "metadata": {},
   "outputs": [],
   "source": [
    "from preproccessing import loadStooqData\n",
    "import numpy as np \n",
    "import pandas as pd"
   ]
  },
  {
   "cell_type": "code",
   "execution_count": 3,
   "metadata": {},
   "outputs": [],
   "source": [
    "emerging  =  pd.read_csv(\"msci emerging.csv\")\n",
    "emerging.set_index('Date',inplace=True)\n",
    "europe =  pd.read_csv(\"msci europe.csv\")\n",
    "europe.set_index('Date',inplace=True)\n",
    "japan  =  pd.read_csv(\"msci japan.csv\")\n",
    "japan.set_index('Date',inplace=True)\n",
    "pacyfic  =  pd.read_csv(\"msci pacyfic.csv\")\n",
    "pacyfic.set_index('Date',inplace=True)\n",
    "usa = pd.read_csv(\"msci usa.csv\")\n",
    "usa.set_index('Date',inplace=True)\n"
   ]
  },
  {
   "cell_type": "code",
   "execution_count": 4,
   "metadata": {},
   "outputs": [],
   "source": [
    "indexes = pd.concat([usa, japan, europe, pacyfic, emerging],axis=1)"
   ]
  },
  {
   "cell_type": "code",
   "execution_count": 5,
   "metadata": {},
   "outputs": [
    {
     "name": "stdout",
     "output_type": "stream",
     "text": [
      "<class 'pandas.core.frame.DataFrame'>\n",
      "Index: 537 entries, 1978-12 to 2023-08\n",
      "Data columns (total 5 columns):\n",
      " #   Column                 Non-Null Count  Dtype  \n",
      "---  ------                 --------------  -----  \n",
      " 0   MSCI USA               536 non-null    float64\n",
      " 1   MSCI Japan             536 non-null    float64\n",
      " 2   MSCI Europe            536 non-null    float64\n",
      " 3   MSCI Pacific ex-Japan  536 non-null    float64\n",
      " 4   MSCI Emerging Markets  429 non-null    float64\n",
      "dtypes: float64(5)\n",
      "memory usage: 25.2+ KB\n"
     ]
    }
   ],
   "source": [
    "indexes.info()"
   ]
  },
  {
   "cell_type": "code",
   "execution_count": 6,
   "metadata": {},
   "outputs": [],
   "source": [
    "returns = np.log(indexes/indexes.shift(1)).loc['1988-01-01':]"
   ]
  },
  {
   "cell_type": "code",
   "execution_count": 7,
   "metadata": {},
   "outputs": [],
   "source": [
    "returns.to_excel('MSCI_indexes.xlsx')"
   ]
  },
  {
   "cell_type": "code",
   "execution_count": 18,
   "metadata": {},
   "outputs": [
    {
     "data": {
      "text/html": [
       "<div>\n",
       "<style scoped>\n",
       "    .dataframe tbody tr th:only-of-type {\n",
       "        vertical-align: middle;\n",
       "    }\n",
       "\n",
       "    .dataframe tbody tr th {\n",
       "        vertical-align: top;\n",
       "    }\n",
       "\n",
       "    .dataframe thead th {\n",
       "        text-align: right;\n",
       "    }\n",
       "</style>\n",
       "<table border=\"1\" class=\"dataframe\">\n",
       "  <thead>\n",
       "    <tr style=\"text-align: right;\">\n",
       "      <th></th>\n",
       "      <th>MSCI USA</th>\n",
       "      <th>MSCI Japan</th>\n",
       "      <th>MSCI Europe</th>\n",
       "      <th>MSCI Pacific ex-Japan</th>\n",
       "      <th>MSCI Emerging Markets</th>\n",
       "    </tr>\n",
       "  </thead>\n",
       "  <tbody>\n",
       "    <tr>\n",
       "      <th>count</th>\n",
       "      <td>319.000000</td>\n",
       "      <td>319.000000</td>\n",
       "      <td>319.000000</td>\n",
       "      <td>319.000000</td>\n",
       "      <td>320.000000</td>\n",
       "    </tr>\n",
       "    <tr>\n",
       "      <th>mean</th>\n",
       "      <td>0.007622</td>\n",
       "      <td>0.002577</td>\n",
       "      <td>0.005537</td>\n",
       "      <td>0.005009</td>\n",
       "      <td>0.004886</td>\n",
       "    </tr>\n",
       "    <tr>\n",
       "      <th>std</th>\n",
       "      <td>0.046499</td>\n",
       "      <td>0.049774</td>\n",
       "      <td>0.045882</td>\n",
       "      <td>0.055700</td>\n",
       "      <td>0.061467</td>\n",
       "    </tr>\n",
       "    <tr>\n",
       "      <th>min</th>\n",
       "      <td>-0.153803</td>\n",
       "      <td>-0.131684</td>\n",
       "      <td>-0.152997</td>\n",
       "      <td>-0.256415</td>\n",
       "      <td>-0.345366</td>\n",
       "    </tr>\n",
       "    <tr>\n",
       "      <th>25%</th>\n",
       "      <td>-0.016913</td>\n",
       "      <td>-0.025396</td>\n",
       "      <td>-0.019214</td>\n",
       "      <td>-0.021999</td>\n",
       "      <td>-0.025482</td>\n",
       "    </tr>\n",
       "    <tr>\n",
       "      <th>50%</th>\n",
       "      <td>0.011020</td>\n",
       "      <td>0.003989</td>\n",
       "      <td>0.013862</td>\n",
       "      <td>0.011338</td>\n",
       "      <td>0.010962</td>\n",
       "    </tr>\n",
       "    <tr>\n",
       "      <th>75%</th>\n",
       "      <td>0.037415</td>\n",
       "      <td>0.033655</td>\n",
       "      <td>0.033270</td>\n",
       "      <td>0.035817</td>\n",
       "      <td>0.041647</td>\n",
       "    </tr>\n",
       "    <tr>\n",
       "      <th>max</th>\n",
       "      <td>0.130908</td>\n",
       "      <td>0.155402</td>\n",
       "      <td>0.135151</td>\n",
       "      <td>0.166774</td>\n",
       "      <td>0.156545</td>\n",
       "    </tr>\n",
       "  </tbody>\n",
       "</table>\n",
       "</div>"
      ],
      "text/plain": [
       "         MSCI USA  MSCI Japan  MSCI Europe  MSCI Pacific ex-Japan  \\\n",
       "count  319.000000  319.000000   319.000000             319.000000   \n",
       "mean     0.007622    0.002577     0.005537               0.005009   \n",
       "std      0.046499    0.049774     0.045882               0.055700   \n",
       "min     -0.153803   -0.131684    -0.152997              -0.256415   \n",
       "25%     -0.016913   -0.025396    -0.019214              -0.021999   \n",
       "50%      0.011020    0.003989     0.013862               0.011338   \n",
       "75%      0.037415    0.033655     0.033270               0.035817   \n",
       "max      0.130908    0.155402     0.135151               0.166774   \n",
       "\n",
       "       MSCI Emerging Markets  \n",
       "count             320.000000  \n",
       "mean                0.004886  \n",
       "std                 0.061467  \n",
       "min                -0.345366  \n",
       "25%                -0.025482  \n",
       "50%                 0.010962  \n",
       "75%                 0.041647  \n",
       "max                 0.156545  "
      ]
     },
     "execution_count": 18,
     "metadata": {},
     "output_type": "execute_result"
    }
   ],
   "source": [
    "returns[107:].describe()"
   ]
  },
  {
   "cell_type": "code",
   "execution_count": 19,
   "metadata": {},
   "outputs": [
    {
     "data": {
      "text/plain": [
       "MSCI USA                 0.106902\n",
       "MSCI Japan               0.021578\n",
       "MSCI Europe              0.083231\n",
       "MSCI Pacific ex-Japan    0.086149\n",
       "MSCI Emerging Markets    0.091929\n",
       "dtype: float64"
      ]
     },
     "execution_count": 19,
     "metadata": {},
     "output_type": "execute_result"
    }
   ],
   "source": [
    "returns.mean() * 12"
   ]
  },
  {
   "cell_type": "code",
   "execution_count": 10,
   "metadata": {},
   "outputs": [
    {
     "data": {
      "text/plain": [
       "MSCI USA                 0.158199\n",
       "MSCI Japan               0.194812\n",
       "MSCI Europe              0.156439\n",
       "MSCI Pacific ex-Japan    0.193770\n",
       "MSCI Emerging Markets    0.217009\n",
       "dtype: float64"
      ]
     },
     "execution_count": 10,
     "metadata": {},
     "output_type": "execute_result"
    }
   ],
   "source": [
    "returns.std() * np.sqrt(12)"
   ]
  },
  {
   "cell_type": "code",
   "execution_count": 11,
   "metadata": {},
   "outputs": [
    {
     "data": {
      "text/html": [
       "<div>\n",
       "<style scoped>\n",
       "    .dataframe tbody tr th:only-of-type {\n",
       "        vertical-align: middle;\n",
       "    }\n",
       "\n",
       "    .dataframe tbody tr th {\n",
       "        vertical-align: top;\n",
       "    }\n",
       "\n",
       "    .dataframe thead th {\n",
       "        text-align: right;\n",
       "    }\n",
       "</style>\n",
       "<table border=\"1\" class=\"dataframe\">\n",
       "  <thead>\n",
       "    <tr style=\"text-align: right;\">\n",
       "      <th></th>\n",
       "      <th>MSCI USA</th>\n",
       "      <th>MSCI Japan</th>\n",
       "      <th>MSCI Europe</th>\n",
       "      <th>MSCI Pacific ex-Japan</th>\n",
       "      <th>MSCI Emerging Markets</th>\n",
       "    </tr>\n",
       "  </thead>\n",
       "  <tbody>\n",
       "    <tr>\n",
       "      <th>MSCI USA</th>\n",
       "      <td>1.000000</td>\n",
       "      <td>0.510843</td>\n",
       "      <td>0.781350</td>\n",
       "      <td>0.679950</td>\n",
       "      <td>0.647429</td>\n",
       "    </tr>\n",
       "    <tr>\n",
       "      <th>MSCI Japan</th>\n",
       "      <td>0.510843</td>\n",
       "      <td>1.000000</td>\n",
       "      <td>0.549738</td>\n",
       "      <td>0.501199</td>\n",
       "      <td>0.489242</td>\n",
       "    </tr>\n",
       "    <tr>\n",
       "      <th>MSCI Europe</th>\n",
       "      <td>0.781350</td>\n",
       "      <td>0.549738</td>\n",
       "      <td>1.000000</td>\n",
       "      <td>0.726011</td>\n",
       "      <td>0.671972</td>\n",
       "    </tr>\n",
       "    <tr>\n",
       "      <th>MSCI Pacific ex-Japan</th>\n",
       "      <td>0.679950</td>\n",
       "      <td>0.501199</td>\n",
       "      <td>0.726011</td>\n",
       "      <td>1.000000</td>\n",
       "      <td>0.815760</td>\n",
       "    </tr>\n",
       "    <tr>\n",
       "      <th>MSCI Emerging Markets</th>\n",
       "      <td>0.647429</td>\n",
       "      <td>0.489242</td>\n",
       "      <td>0.671972</td>\n",
       "      <td>0.815760</td>\n",
       "      <td>1.000000</td>\n",
       "    </tr>\n",
       "  </tbody>\n",
       "</table>\n",
       "</div>"
      ],
      "text/plain": [
       "                       MSCI USA  MSCI Japan  MSCI Europe  \\\n",
       "MSCI USA               1.000000    0.510843     0.781350   \n",
       "MSCI Japan             0.510843    1.000000     0.549738   \n",
       "MSCI Europe            0.781350    0.549738     1.000000   \n",
       "MSCI Pacific ex-Japan  0.679950    0.501199     0.726011   \n",
       "MSCI Emerging Markets  0.647429    0.489242     0.671972   \n",
       "\n",
       "                       MSCI Pacific ex-Japan  MSCI Emerging Markets  \n",
       "MSCI USA                            0.679950               0.647429  \n",
       "MSCI Japan                          0.501199               0.489242  \n",
       "MSCI Europe                         0.726011               0.671972  \n",
       "MSCI Pacific ex-Japan               1.000000               0.815760  \n",
       "MSCI Emerging Markets               0.815760               1.000000  "
      ]
     },
     "execution_count": 11,
     "metadata": {},
     "output_type": "execute_result"
    }
   ],
   "source": [
    "returns.corr()"
   ]
  },
  {
   "cell_type": "code",
   "execution_count": 12,
   "metadata": {},
   "outputs": [],
   "source": [
    "us10 = loadStooqData('10USY.B','1991-01-01',frequency='m')"
   ]
  },
  {
   "cell_type": "code",
   "execution_count": 13,
   "metadata": {},
   "outputs": [
    {
     "name": "stdout",
     "output_type": "stream",
     "text": [
      "<class 'pandas.core.series.Series'>\n",
      "Index: 393 entries, 1991-01-31 to 2023-09-30\n",
      "Series name: Zamkniecie\n",
      "Non-Null Count  Dtype  \n",
      "--------------  -----  \n",
      "393 non-null    float64\n",
      "dtypes: float64(1)\n",
      "memory usage: 6.1+ KB\n"
     ]
    }
   ],
   "source": [
    "us10.info()"
   ]
  },
  {
   "cell_type": "code",
   "execution_count": 14,
   "metadata": {},
   "outputs": [],
   "source": [
    "cov = returns.cov()"
   ]
  },
  {
   "cell_type": "code",
   "execution_count": 15,
   "metadata": {},
   "outputs": [],
   "source": [
    "weights = [0.646, 0.0549, 0.163, 0.028, 0.1039]"
   ]
  }
 ],
 "metadata": {
  "kernelspec": {
   "display_name": "portfolio-optimisation",
   "language": "python",
   "name": "python3"
  },
  "language_info": {
   "codemirror_mode": {
    "name": "ipython",
    "version": 3
   },
   "file_extension": ".py",
   "mimetype": "text/x-python",
   "name": "python",
   "nbconvert_exporter": "python",
   "pygments_lexer": "ipython3",
   "version": "3.9.12"
  },
  "orig_nbformat": 4
 },
 "nbformat": 4,
 "nbformat_minor": 2
}
