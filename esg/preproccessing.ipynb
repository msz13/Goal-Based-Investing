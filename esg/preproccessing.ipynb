{
 "cells": [
  {
   "cell_type": "code",
   "execution_count": 2,
   "metadata": {},
   "outputs": [
    {
     "name": "stderr",
     "output_type": "stream",
     "text": [
      "c:\\Users\\matsz\\miniconda3\\envs\\portfolio-optimisation\\lib\\site-packages\\pyfolio\\pos.py:26: UserWarning: Module \"zipline.assets\" not found; mutltipliers will not be applied to position notionals.\n",
      "  warnings.warn(\n"
     ]
    }
   ],
   "source": [
    "import requests\n",
    "import pandas as pd\n",
    "import seaborn as sns\n",
    "import matplotlib.pyplot as plt\n",
    "import os\n",
    "import datetime\n",
    "import yfinance as yf\n",
    "import numpy as np\n",
    "import pyfolio as pf\n",
    "from io import StringIO\n",
    "import sklearn as skn\n",
    "from scipy import stats\n",
    "import pandas_datareader.data as pdr\n"
   ]
  },
  {
   "cell_type": "code",
   "execution_count": 8,
   "metadata": {},
   "outputs": [],
   "source": [
    "def loadStooqData(ticker: str,start, frequency='d'):\n",
    "    url = f'https://stooq.pl/q/d/l/?s={ticker}&i=d'\n",
    "    response = requests.get(url)  \n",
    "    data = pd.read_csv(StringIO(response.text))\n",
    "    data.set_index('Data', inplace=True)\n",
    "    data = data[start:]\n",
    "    return data['Zamkniecie']\n",
    "\n",
    "def loadYahooData(ticker, start, frequency = '1d'):      \n",
    "    ticker  = yf.Ticker(ticker)\n",
    "    hist = ticker.history(start=start,interval=frequency)\n",
    "    price = hist['Close']       \n",
    "    return price\n",
    "\n",
    "sharp = lambda returns: returns.mean()/returns.std()\n",
    "\n",
    "def assets_performance(returns: pd.DataFrame):\n",
    "    return returns.agg(['mean', 'std', 'median', 'skew', 'kurtosis', sharp])\n",
    "\n",
    "def beta(X, Y):\n",
    "       \n",
    "    X_cov = X.cov()\n",
    "\n",
    "    XY = np.append(X,np.expand_dims(Y,axis=1),axis=0)\n",
    "    XY_cov = np.cov(XY)\n",
    "\n",
    "    #XY_sub = XY_cov.iloc[-1,0:2]\n",
    "\n",
    "    #inv = np.linalg.inv(X_cov)\n",
    "    #B = inv @ XY_sub\n",
    "    return  XY_cov"
   ]
  },
  {
   "cell_type": "code",
   "execution_count": 4,
   "metadata": {},
   "outputs": [],
   "source": [
    "yahoo_tickers = ['ISAC.L', 'CORP.L']\n",
    "\n",
    "stooq_tickers = ['XAUPLN', '^TBSP', 'MWIG40TR', 'USDPLN', 'EURPLN']\n",
    "\n",
    "#na przyszłość EAFA,EEM,ACWI\n",
    "\n"
   ]
  },
  {
   "cell_type": "code",
   "execution_count": 19,
   "metadata": {},
   "outputs": [],
   "source": [
    "base_prices = pd.DataFrame({})\n",
    "start = '2012-01-01'\n",
    "\n",
    "for ticker in stooq_tickers:\n",
    "    base_prices[ticker] = loadStooqData(ticker,start)\n",
    "\n",
    "for ticker in yahoo_tickers:\n",
    "    base_prices[ticker] = loadYahooData(ticker,start)\n",
    "\n"
   ]
  },
  {
   "cell_type": "code",
   "execution_count": 20,
   "metadata": {},
   "outputs": [
    {
     "name": "stdout",
     "output_type": "stream",
     "text": [
      "<class 'pandas.core.frame.DataFrame'>\n",
      "Index: 2978 entries, 2012-01-03 to 2023-07-21\n",
      "Data columns (total 7 columns):\n",
      " #   Column    Non-Null Count  Dtype  \n",
      "---  ------    --------------  -----  \n",
      " 0   XAUPLN    2978 non-null   float64\n",
      " 1   ^TBSP     2882 non-null   float64\n",
      " 2   MWIG40TR  2882 non-null   float64\n",
      " 3   USDPLN    2977 non-null   float64\n",
      " 4   EURPLN    2977 non-null   float64\n",
      " 5   ISAC.L    2915 non-null   float64\n",
      " 6   CORP.L    2733 non-null   float64\n",
      "dtypes: float64(7)\n",
      "memory usage: 186.1+ KB\n"
     ]
    }
   ],
   "source": [
    "base_prices.info()"
   ]
  },
  {
   "cell_type": "markdown",
   "metadata": {},
   "source": [
    "* load data\n",
    "* describe data in local currency\n",
    "* transform data do pln\n",
    "* describe data in pln"
   ]
  },
  {
   "cell_type": "code",
   "execution_count": 16,
   "metadata": {},
   "outputs": [],
   "source": [
    "gold = loadStooqData('XAUPLN',start)"
   ]
  }
 ],
 "metadata": {
  "kernelspec": {
   "display_name": "portfolio-optimisation",
   "language": "python",
   "name": "python3"
  },
  "language_info": {
   "codemirror_mode": {
    "name": "ipython",
    "version": 3
   },
   "file_extension": ".py",
   "mimetype": "text/x-python",
   "name": "python",
   "nbconvert_exporter": "python",
   "pygments_lexer": "ipython3",
   "version": "3.9.12"
  },
  "orig_nbformat": 4
 },
 "nbformat": 4,
 "nbformat_minor": 2
}
