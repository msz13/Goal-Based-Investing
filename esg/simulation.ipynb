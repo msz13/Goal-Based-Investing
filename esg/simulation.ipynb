{
 "cells": [
  {
   "cell_type": "code",
   "execution_count": null,
   "metadata": {},
   "outputs": [],
   "source": []
  },
  {
   "cell_type": "code",
   "execution_count": null,
   "metadata": {},
   "outputs": [],
   "source": [
    "#load data \n",
    "#set expextations"
   ]
  },
  {
   "cell_type": "code",
   "execution_count": null,
   "metadata": {},
   "outputs": [],
   "source": [
    "means = expected_returns[['ISAC.L','^TBSP']]\n",
    "cov = acwi_tbsc.cov()\n",
    "number_of_scenarios = 1001\n",
    "T = 120\n",
    "sim_returns = []\n",
    "\n",
    "for s in range (number_of_scenarios):\n",
    "    sim_returns.append(multivariate_normal.rvs(means,cov, T))\n",
    "\n",
    "sim_returns = np.array(sim_returns)"
   ]
  },
  {
   "cell_type": "code",
   "execution_count": null,
   "metadata": {},
   "outputs": [],
   "source": [
    "sim_means = sim_returns.mean(axis=1)\n",
    "sim_means.mean(0) *12\n",
    "\n",
    "sim_std = sim_returns.std(axis=1)\n",
    "\n",
    "sim_std.mean(0) * np.sqrt(12)"
   ]
  },
  {
   "cell_type": "code",
   "execution_count": null,
   "metadata": {},
   "outputs": [],
   "source": [
    "e = np.arange(0,1.1,0.1)\n",
    "b = 1 - e\n",
    "portfolios = np.vstack((e,b)).T\n"
   ]
  },
  {
   "cell_type": "code",
   "execution_count": null,
   "metadata": {},
   "outputs": [],
   "source": [
    "scenarios = sim_returns + 1\n",
    "scenarios = np.cumprod(scenarios,axis=1)\n",
    "r = 10\n",
    "T = np.arange(11,120,12)\n",
    "\n",
    "glide_path = []\n",
    "\n",
    "for t in T:\n",
    "    qv = []\n",
    "    for p in portfolios:\n",
    "        lw = scenarios[:,t] @ p\n",
    "        qv.append(np.percentile(lw, r))\n",
    "    glide_path.append(np.argmax(qv))\n",
    "\n",
    "print(glide_path)\n",
    "np.take(portfolios,glide_path,0)"
   ]
  },
  {
   "cell_type": "code",
   "execution_count": null,
   "metadata": {},
   "outputs": [],
   "source": [
    "class Simulation():\n",
    "    def __init__(self, initial_value, returns, strategy) -> None:\n",
    "        self.capital = initial_value\n",
    "        self.returns = returns\n",
    "        self.strategy = strategy \n",
    "    \n",
    "   \n",
    "    def step(self, current_value,weights,returns):\n",
    "        current_assets_value = np.expand_dims(current_value,axis=0).T * weights\n",
    "        next_assets_value =  np.round(current_assets_value * (1+returns),2)\n",
    "        return next_assets_value.sum(1)\n",
    "    \n",
    "        \n",
    "    def run(self, T):\n",
    "        for t in range(T):\n",
    "            self.capital = step(self.capital,self.strategy[t],self.returns[:,t])\n"
   ]
  },
  {
   "cell_type": "code",
   "execution_count": null,
   "metadata": {},
   "outputs": [],
   "source": [
    "capital = np.full(10001,100)\n",
    "\n",
    "T = np.arange(11,216,12)\n",
    "risk = 10\n",
    "\n",
    "glide_paths = {}\n",
    "\n",
    "for t in T:\n",
    "    perc = []\n",
    "    for portfolio in range(len(portfolios)):\n",
    "        strategy = np.tile(portfolios[portfolio],(216,1))\n",
    "        simulator = Simulation(capital,sim_returns,strategy)\n",
    "        simulator.run(t)\n",
    "        perc.append(np.percentile(simulator.capital,risk))\n",
    "    glide_paths[t] = np.argmax(perc)"
   ]
  },
  {
   "cell_type": "code",
   "execution_count": null,
   "metadata": {},
   "outputs": [],
   "source": [
    "np.take(portfolios,list(glide_paths.values()),0)"
   ]
  },
  {
   "cell_type": "code",
   "execution_count": null,
   "metadata": {},
   "outputs": [],
   "source": [
    "capital = np.full(10001,100)\n",
    "\n",
    "T = np.arange(11,120,12)\n",
    "risk = 10\n",
    "\n",
    "\n",
    "strategy = np.take(portfolios,list(glide_paths.values()),0)\n",
    "strategy = np.repeat(strategy,12,axis=0)\n",
    "simulator = Simulation(capital,sim_returns,strategy)\n",
    "simulator.run(216)\n",
    "perc = np.percentile(simulator.capital,risk)\n",
    "gt = 50000\n",
    "\n",
    "perc = perc/capital[0]\n",
    "\n",
    "gt/perc"
   ]
  },
  {
   "cell_type": "code",
   "execution_count": null,
   "metadata": {},
   "outputs": [],
   "source": [
    "ret = sim_returns\n",
    "mu = ret.mean(1)\n",
    "cov = np.zeros((1001,2,2))\n",
    "for i in range(ret.shape[0]):\n",
    "    cov[i]= np.cov(ret[i],rowvar=False)"
   ]
  },
  {
   "cell_type": "code",
   "execution_count": null,
   "metadata": {},
   "outputs": [],
   "source": [
    "np.cov(ret[0],rowvar=False)"
   ]
  }
 ],
 "metadata": {
  "language_info": {
   "name": "python"
  },
  "orig_nbformat": 4
 },
 "nbformat": 4,
 "nbformat_minor": 2
}
