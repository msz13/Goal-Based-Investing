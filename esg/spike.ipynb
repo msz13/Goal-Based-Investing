{
 "cells": [
  {
   "cell_type": "code",
   "execution_count": 1,
   "metadata": {},
   "outputs": [],
   "source": [
    "import numpy as np\n",
    "import pyesg\n",
    "from regime_switching_brownian_motion import IndependentLogNormal\n"
   ]
  },
  {
   "cell_type": "code",
   "execution_count": 8,
   "metadata": {},
   "outputs": [],
   "source": [
    "model = IndependentLogNormal(mu=0.07,sigma=0.21)"
   ]
  },
  {
   "cell_type": "code",
   "execution_count": 29,
   "metadata": {},
   "outputs": [],
   "source": [
    "scenarios = model.scenarios(100,1,100,30)"
   ]
  },
  {
   "cell_type": "code",
   "execution_count": 55,
   "metadata": {},
   "outputs": [
    {
     "data": {
      "text/plain": [
       "array([[[0.24296514, 0.74530591],\n",
       "        [0.62731273, 0.7276713 ]],\n",
       "\n",
       "       [[0.61482723, 0.40386556],\n",
       "        [0.82297498, 0.30307517]]])"
      ]
     },
     "execution_count": 55,
     "metadata": {},
     "output_type": "execute_result"
    }
   ],
   "source": [
    "np.random.uniform(0,1.01,(2,2,2))"
   ]
  },
  {
   "cell_type": "code",
   "execution_count": 3,
   "metadata": {},
   "outputs": [
    {
     "data": {
      "text/plain": [
       "array([[1. , 0.7],\n",
       "       [0.7, 1. ]])"
      ]
     },
     "execution_count": 3,
     "metadata": {},
     "output_type": "execute_result"
    }
   ],
   "source": [
    "corr = np.array([[1,0.7], [0.7,1]])\n",
    "corr"
   ]
  },
  {
   "cell_type": "code",
   "execution_count": 4,
   "metadata": {},
   "outputs": [
    {
     "data": {
      "text/plain": [
       "array([[1.        , 0.        ],\n",
       "       [0.7       , 0.71414284]])"
      ]
     },
     "execution_count": 4,
     "metadata": {},
     "output_type": "execute_result"
    }
   ],
   "source": [
    "L = np.linalg.cholesky(corr)\n",
    "L"
   ]
  },
  {
   "cell_type": "code",
   "execution_count": 8,
   "metadata": {},
   "outputs": [],
   "source": [
    "sig = [1,2]"
   ]
  },
  {
   "cell_type": "code",
   "execution_count": 17,
   "metadata": {},
   "outputs": [
    {
     "data": {
      "text/plain": [
       "array([2.4       , 1.42828569])"
      ]
     },
     "execution_count": 17,
     "metadata": {},
     "output_type": "execute_result"
    }
   ],
   "source": [
    "c = sig @ L\n",
    "c"
   ]
  },
  {
   "cell_type": "code",
   "execution_count": 32,
   "metadata": {},
   "outputs": [],
   "source": [
    "rand = np.random.normal(size=(100000,2))\n"
   ]
  },
  {
   "cell_type": "code",
   "execution_count": 33,
   "metadata": {},
   "outputs": [],
   "source": [
    "result = rand * c"
   ]
  },
  {
   "cell_type": "code",
   "execution_count": 38,
   "metadata": {},
   "outputs": [
    {
     "data": {
      "text/plain": [
       "array([[1.        , 0.00341387],\n",
       "       [0.00341387, 1.        ]])"
      ]
     },
     "execution_count": 38,
     "metadata": {},
     "output_type": "execute_result"
    }
   ],
   "source": [
    "np.corrcoef(result.T)"
   ]
  },
  {
   "cell_type": "code",
   "execution_count": 39,
   "metadata": {},
   "outputs": [
    {
     "data": {
      "text/plain": [
       "array([[3, 0],\n",
       "       [0, 6]])"
      ]
     },
     "execution_count": 39,
     "metadata": {},
     "output_type": "execute_result"
    }
   ],
   "source": [
    "np.diag([3,6])"
   ]
  },
  {
   "cell_type": "code",
   "execution_count": 4,
   "metadata": {},
   "outputs": [],
   "source": [
    "model = pyesg.WienerProcess.example()"
   ]
  },
  {
   "cell_type": "code",
   "execution_count": 6,
   "metadata": {},
   "outputs": [
    {
     "data": {
      "text/plain": [
       "{'mu': 0.05, 'sigma': 0.2}"
      ]
     },
     "execution_count": 6,
     "metadata": {},
     "output_type": "execute_result"
    }
   ],
   "source": [
    "model.coefs()"
   ]
  },
  {
   "cell_type": "code",
   "execution_count": 15,
   "metadata": {},
   "outputs": [],
   "source": [
    "class RegimeS(pyesg.WienerProcess):\n",
    "    def __init__(self, mu: float, sigma: float) -> None:\n",
    "        super().__init__(mu, sigma)\n",
    "\n",
    "    def step(self, x0):\n",
    "        print('step called')\n",
    "        return super().step(x0,1)"
   ]
  },
  {
   "cell_type": "code",
   "execution_count": 16,
   "metadata": {},
   "outputs": [],
   "source": [
    "mod = RegimeS(0.05,0.15)"
   ]
  },
  {
   "cell_type": "code",
   "execution_count": 41,
   "metadata": {},
   "outputs": [
    {
     "name": "stdout",
     "output_type": "stream",
     "text": [
      "step called\n"
     ]
    },
    {
     "data": {
      "text/plain": [
       "array([100.05832942])"
      ]
     },
     "execution_count": 41,
     "metadata": {},
     "output_type": "execute_result"
    }
   ],
   "source": [
    "mod.step(100)"
   ]
  },
  {
   "cell_type": "code",
   "execution_count": 10,
   "metadata": {},
   "outputs": [],
   "source": [
    "n_assets = 2\n",
    "n_scenarios = 8\n",
    "H = 3\n",
    "\n",
    "asset_returns = np.array([[1.25,1.14],\n",
    "                          [1.06,1.12]])\n",
    "\n",
    "returns_tree = np.zeros((n_assets,n_scenarios,H))\n",
    "\n",
    "ret_scen = np.array([[[1,2,3,4],\n",
    "                     [1,2,5,6],\n",
    "                     [1,3,5,7]],\n",
    "                    [[5,6,7,8],\n",
    "                     [3,4,7,8],\n",
    "                     [2,4,6,8]]])\n",
    "\n",
    "for variant in range(len(asset_returns)):\n",
    "  for a in range(n_assets):\n",
    "    for t in range(H):\n",
    "      returns_tree[a,ret_scen[variant,t]-1,t] = asset_returns[variant,a]\n",
    "      #print(f'var: {variant}, a: {a}, t: {t}')"
   ]
  },
  {
   "cell_type": "code",
   "execution_count": 11,
   "metadata": {},
   "outputs": [
    {
     "data": {
      "text/plain": [
       "array([[[1.25, 1.25, 1.25],\n",
       "        [1.25, 1.25, 1.06],\n",
       "        [1.25, 1.06, 1.25],\n",
       "        [1.25, 1.06, 1.06],\n",
       "        [1.06, 1.25, 1.25],\n",
       "        [1.06, 1.25, 1.06],\n",
       "        [1.06, 1.06, 1.25],\n",
       "        [1.06, 1.06, 1.06]],\n",
       "\n",
       "       [[1.14, 1.14, 1.14],\n",
       "        [1.14, 1.14, 1.12],\n",
       "        [1.14, 1.12, 1.14],\n",
       "        [1.14, 1.12, 1.12],\n",
       "        [1.12, 1.14, 1.14],\n",
       "        [1.12, 1.14, 1.12],\n",
       "        [1.12, 1.12, 1.14],\n",
       "        [1.12, 1.12, 1.12]]])"
      ]
     },
     "execution_count": 11,
     "metadata": {},
     "output_type": "execute_result"
    }
   ],
   "source": [
    "returns_tree"
   ]
  },
  {
   "cell_type": "code",
   "execution_count": 18,
   "metadata": {},
   "outputs": [
    {
     "data": {
      "text/plain": [
       "{('stocks', 1, 0): 1.25,\n",
       " ('stocks', 1, 1): 1.25,\n",
       " ('stocks', 1, 2): 1.25,\n",
       " ('stocks', 2, 0): 1.25,\n",
       " ('stocks', 2, 1): 1.25,\n",
       " ('stocks', 2, 2): 1.06,\n",
       " ('stocks', 3, 0): 1.25,\n",
       " ('stocks', 3, 1): 1.06,\n",
       " ('stocks', 3, 2): 1.25,\n",
       " ('stocks', 4, 0): 1.25,\n",
       " ('stocks', 4, 1): 1.06,\n",
       " ('stocks', 4, 2): 1.06,\n",
       " ('stocks', 5, 0): 1.06,\n",
       " ('stocks', 5, 1): 1.25,\n",
       " ('stocks', 5, 2): 1.25,\n",
       " ('stocks', 6, 0): 1.06,\n",
       " ('stocks', 6, 1): 1.25,\n",
       " ('stocks', 6, 2): 1.06,\n",
       " ('stocks', 7, 0): 1.06,\n",
       " ('stocks', 7, 1): 1.06,\n",
       " ('stocks', 7, 2): 1.25,\n",
       " ('stocks', 8, 0): 1.06,\n",
       " ('stocks', 8, 1): 1.06,\n",
       " ('stocks', 8, 2): 1.06,\n",
       " ('bonds', 1, 0): 1.14,\n",
       " ('bonds', 1, 1): 1.14,\n",
       " ('bonds', 1, 2): 1.14,\n",
       " ('bonds', 2, 0): 1.14,\n",
       " ('bonds', 2, 1): 1.14,\n",
       " ('bonds', 2, 2): 1.12,\n",
       " ('bonds', 3, 0): 1.14,\n",
       " ('bonds', 3, 1): 1.12,\n",
       " ('bonds', 3, 2): 1.14,\n",
       " ('bonds', 4, 0): 1.14,\n",
       " ('bonds', 4, 1): 1.12,\n",
       " ('bonds', 4, 2): 1.12,\n",
       " ('bonds', 5, 0): 1.12,\n",
       " ('bonds', 5, 1): 1.14,\n",
       " ('bonds', 5, 2): 1.14,\n",
       " ('bonds', 6, 0): 1.12,\n",
       " ('bonds', 6, 1): 1.14,\n",
       " ('bonds', 6, 2): 1.12,\n",
       " ('bonds', 7, 0): 1.12,\n",
       " ('bonds', 7, 1): 1.12,\n",
       " ('bonds', 7, 2): 1.14,\n",
       " ('bonds', 8, 0): 1.12,\n",
       " ('bonds', 8, 1): 1.12,\n",
       " ('bonds', 8, 2): 1.12}"
      ]
     },
     "execution_count": 18,
     "metadata": {},
     "output_type": "execute_result"
    }
   ],
   "source": [
    "assets = ['stocks', 'bonds']\n",
    "scenarios = list(range(1,9))\n",
    "H = list(range(3))\n",
    "\n",
    "{(asset,scenario,t): returns_tree[a,s,t] \n",
    " for a,asset in enumerate(assets)\n",
    " for s,scenario in enumerate(scenarios)\n",
    " for t in H\n",
    " }"
   ]
  },
  {
   "cell_type": "code",
   "execution_count": 6,
   "metadata": {},
   "outputs": [
    {
     "data": {
      "text/plain": [
       "array([[[0.  , 0.  , 0.  ],\n",
       "        [0.  , 0.  , 0.  ],\n",
       "        [0.  , 0.  , 0.  ],\n",
       "        [0.  , 0.  , 0.  ],\n",
       "        [0.  , 0.  , 0.  ],\n",
       "        [0.  , 0.  , 0.  ],\n",
       "        [0.  , 0.  , 0.  ],\n",
       "        [0.  , 0.  , 0.  ]],\n",
       "\n",
       "       [[0.  , 1.14, 0.  ],\n",
       "        [0.  , 1.14, 0.  ],\n",
       "        [0.  , 0.  , 0.  ],\n",
       "        [0.  , 0.  , 0.  ],\n",
       "        [0.  , 1.14, 0.  ],\n",
       "        [0.  , 1.14, 0.  ],\n",
       "        [0.  , 0.  , 0.  ],\n",
       "        [0.  , 0.  , 0.  ]]])"
      ]
     },
     "execution_count": 6,
     "metadata": {},
     "output_type": "execute_result"
    }
   ],
   "source": [
    "returns_tree = np.zeros((n_assets,n_scenarios,H))\n",
    "\n",
    "returns_tree[1,ret_scen[0,1]-1,1]  = asset_returns[0,1]\n",
    "\n",
    "returns_tree"
   ]
  }
 ],
 "metadata": {
  "kernelspec": {
   "display_name": "portfolio-optimisation",
   "language": "python",
   "name": "python3"
  },
  "language_info": {
   "codemirror_mode": {
    "name": "ipython",
    "version": 3
   },
   "file_extension": ".py",
   "mimetype": "text/x-python",
   "name": "python",
   "nbconvert_exporter": "python",
   "pygments_lexer": "ipython3",
   "version": "3.9.12"
  },
  "orig_nbformat": 4
 },
 "nbformat": 4,
 "nbformat_minor": 2
}
