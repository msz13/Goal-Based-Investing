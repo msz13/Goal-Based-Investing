{
 "cells": [
  {
   "cell_type": "code",
   "execution_count": 4,
   "metadata": {},
   "outputs": [],
   "source": [
    "import pandas as pd\n",
    "import statsmodels.api as sm\n",
    "from statsmodels.tsa.api import VAR"
   ]
  },
  {
   "cell_type": "code",
   "execution_count": 7,
   "metadata": {},
   "outputs": [],
   "source": [
    "df = pd.read_csv(\"usa.csv\")\n",
    "data = df[[\"short_us\", \"real_us\", \"term_us\", \"USA_Net_short_us\"]]"
   ]
  },
  {
   "cell_type": "code",
   "execution_count": 11,
   "metadata": {},
   "outputs": [
    {
     "data": {
      "text/plain": [
       "  Summary of Regression Results   \n",
       "==================================\n",
       "Model:                         VAR\n",
       "Method:                        OLS\n",
       "Date:           Wed, 31, Jul, 2024\n",
       "Time:                     23:09:37\n",
       "--------------------------------------------------------------------\n",
       "No. of Equations:         4.00000    BIC:                   -35.3185\n",
       "Nobs:                     203.000    HQIC:                  -35.5129\n",
       "Log likelihood:           2485.79    FPE:                3.30830e-16\n",
       "AIC:                     -35.6450    Det(Omega_mle):     3.00149e-16\n",
       "--------------------------------------------------------------------\n",
       "Results for equation short_us\n",
       "======================================================================================\n",
       "                         coefficient       std. error           t-stat            prob\n",
       "--------------------------------------------------------------------------------------\n",
       "const                      -0.001066         0.001601           -0.666           0.506\n",
       "L1.short_us                 1.016814         0.024246           41.937           0.000\n",
       "L1.real_us                 -0.229077         0.089271           -2.566           0.010\n",
       "L1.term_us                  0.057198         0.051847            1.103           0.270\n",
       "L1.USA_Net_short_us         0.015635         0.007603            2.057           0.040\n",
       "======================================================================================\n",
       "\n",
       "Results for equation real_us\n",
       "======================================================================================\n",
       "                         coefficient       std. error           t-stat            prob\n",
       "--------------------------------------------------------------------------------------\n",
       "const                      -0.004058         0.001101           -3.686           0.000\n",
       "L1.short_us                 0.092570         0.016671            5.553           0.000\n",
       "L1.real_us                  0.450456         0.061381            7.339           0.000\n",
       "L1.term_us                  0.090799         0.035649            2.547           0.011\n",
       "L1.USA_Net_short_us         0.003039         0.005228            0.581           0.561\n",
       "======================================================================================\n",
       "\n",
       "Results for equation term_us\n",
       "======================================================================================\n",
       "                         coefficient       std. error           t-stat            prob\n",
       "--------------------------------------------------------------------------------------\n",
       "const                       0.001739         0.001251            1.391           0.164\n",
       "L1.short_us                -0.017720         0.018940           -0.936           0.349\n",
       "L1.real_us                  0.128329         0.069734            1.840           0.066\n",
       "L1.term_us                  0.889771         0.040500           21.969           0.000\n",
       "L1.USA_Net_short_us        -0.011675         0.005939           -1.966           0.049\n",
       "======================================================================================\n",
       "\n",
       "Results for equation USA_Net_short_us\n",
       "======================================================================================\n",
       "                         coefficient       std. error           t-stat            prob\n",
       "--------------------------------------------------------------------------------------\n",
       "const                       0.015426         0.014839            1.040           0.299\n",
       "L1.short_us                -0.283758         0.224746           -1.263           0.207\n",
       "L1.real_us                  0.773380         0.827487            0.935           0.350\n",
       "L1.term_us                  0.702965         0.480589            1.463           0.144\n",
       "L1.USA_Net_short_us         0.034438         0.070475            0.489           0.625\n",
       "======================================================================================\n",
       "\n",
       "Correlation matrix of residuals\n",
       "                    short_us   real_us   term_us  USA_Net_short_us\n",
       "short_us            1.000000  0.117750 -0.841022          0.088040\n",
       "real_us             0.117750  1.000000 -0.256259         -0.022896\n",
       "term_us            -0.841022 -0.256259  1.000000         -0.023510\n",
       "USA_Net_short_us    0.088040 -0.022896 -0.023510          1.000000\n",
       "\n"
      ]
     },
     "execution_count": 11,
     "metadata": {},
     "output_type": "execute_result"
    }
   ],
   "source": [
    "model = VAR(data)\n",
    "results = model.fit(1)\n",
    "results.summary()"
   ]
  }
 ],
 "metadata": {
  "kernelspec": {
   "display_name": "portfolio-optimisation",
   "language": "python",
   "name": "python3"
  },
  "language_info": {
   "codemirror_mode": {
    "name": "ipython",
    "version": 3
   },
   "file_extension": ".py",
   "mimetype": "text/x-python",
   "name": "python",
   "nbconvert_exporter": "python",
   "pygments_lexer": "ipython3",
   "version": "3.9.12"
  }
 },
 "nbformat": 4,
 "nbformat_minor": 2
}
