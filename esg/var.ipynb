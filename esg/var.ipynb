{
 "cells": [
  {
   "cell_type": "code",
   "execution_count": 1,
   "metadata": {},
   "outputs": [],
   "source": [
    "import pandas as pd\n",
    "import pandas_datareader.data as web\n",
    "import datetime\n",
    "import statsmodels.api as sm\n",
    "from statsmodels.tsa.api import VAR\n",
    "from statsmodels.tsa.vector_ar.var_model import VARProcess\n",
    "import statsmodels.api as sm\n",
    "import numpy as np\n",
    "from preproccessing import loadStooqData, loadYahooData\n",
    "import matplotlib.pyplot as plt\n",
    "import seaborn as sns\n",
    "\n"
   ]
  },
  {
   "cell_type": "code",
   "execution_count": 2,
   "metadata": {},
   "outputs": [],
   "source": [
    "# long rate, short rate, cpi m, real gdp, stock index (SPASTT01USM661N), unempoyment('LRUN64TTUSQ156S')\n",
    "#usdpln, investment growth, consumption growth, unemployment, working population growth,  tradevalue\n",
    "tickers = ['IRLTLT01USQ156N','IR3TIB01USQ156N','CPALTT01USQ657N','NGDPRSAXDCUSQ']"
   ]
  },
  {
   "cell_type": "code",
   "execution_count": 3,
   "metadata": {},
   "outputs": [],
   "source": [
    "start = datetime.datetime(1990, 1, 1)\n",
    "\n",
    "end = datetime.datetime(2023, 12, 31)\n",
    "\n",
    "df = web.DataReader(tickers, 'fred', start,end)\n"
   ]
  },
  {
   "cell_type": "code",
   "execution_count": 4,
   "metadata": {},
   "outputs": [
    {
     "data": {
      "text/html": [
       "<div>\n",
       "<style scoped>\n",
       "    .dataframe tbody tr th:only-of-type {\n",
       "        vertical-align: middle;\n",
       "    }\n",
       "\n",
       "    .dataframe tbody tr th {\n",
       "        vertical-align: top;\n",
       "    }\n",
       "\n",
       "    .dataframe thead th {\n",
       "        text-align: right;\n",
       "    }\n",
       "</style>\n",
       "<table border=\"1\" class=\"dataframe\">\n",
       "  <thead>\n",
       "    <tr style=\"text-align: right;\">\n",
       "      <th></th>\n",
       "      <th>IRLTLT01USQ156N</th>\n",
       "      <th>IR3TIB01USQ156N</th>\n",
       "      <th>CPALTT01USQ657N</th>\n",
       "      <th>NGDPRSAXDCUSQ</th>\n",
       "    </tr>\n",
       "  </thead>\n",
       "  <tbody>\n",
       "    <tr>\n",
       "      <th>count</th>\n",
       "      <td>135.000000</td>\n",
       "      <td>135.000000</td>\n",
       "      <td>135.000000</td>\n",
       "      <td>1.350000e+02</td>\n",
       "    </tr>\n",
       "    <tr>\n",
       "      <th>mean</th>\n",
       "      <td>4.249358</td>\n",
       "      <td>2.948309</td>\n",
       "      <td>0.664442</td>\n",
       "      <td>3.968929e+06</td>\n",
       "    </tr>\n",
       "    <tr>\n",
       "      <th>std</th>\n",
       "      <td>1.998719</td>\n",
       "      <td>2.361709</td>\n",
       "      <td>0.666008</td>\n",
       "      <td>8.928822e+05</td>\n",
       "    </tr>\n",
       "    <tr>\n",
       "      <th>min</th>\n",
       "      <td>0.650000</td>\n",
       "      <td>0.100000</td>\n",
       "      <td>-2.828529</td>\n",
       "      <td>2.487979e+06</td>\n",
       "    </tr>\n",
       "    <tr>\n",
       "      <th>25%</th>\n",
       "      <td>2.560000</td>\n",
       "      <td>0.498333</td>\n",
       "      <td>0.360788</td>\n",
       "      <td>3.225511e+06</td>\n",
       "    </tr>\n",
       "    <tr>\n",
       "      <th>50%</th>\n",
       "      <td>4.160000</td>\n",
       "      <td>2.756667</td>\n",
       "      <td>0.629151</td>\n",
       "      <td>4.088459e+06</td>\n",
       "    </tr>\n",
       "    <tr>\n",
       "      <th>75%</th>\n",
       "      <td>5.888333</td>\n",
       "      <td>5.293333</td>\n",
       "      <td>1.013660</td>\n",
       "      <td>4.681108e+06</td>\n",
       "    </tr>\n",
       "    <tr>\n",
       "      <th>max</th>\n",
       "      <td>8.703333</td>\n",
       "      <td>8.333333</td>\n",
       "      <td>2.973833</td>\n",
       "      <td>5.626591e+06</td>\n",
       "    </tr>\n",
       "  </tbody>\n",
       "</table>\n",
       "</div>"
      ],
      "text/plain": [
       "       IRLTLT01USQ156N  IR3TIB01USQ156N  CPALTT01USQ657N  NGDPRSAXDCUSQ\n",
       "count       135.000000       135.000000       135.000000   1.350000e+02\n",
       "mean          4.249358         2.948309         0.664442   3.968929e+06\n",
       "std           1.998719         2.361709         0.666008   8.928822e+05\n",
       "min           0.650000         0.100000        -2.828529   2.487979e+06\n",
       "25%           2.560000         0.498333         0.360788   3.225511e+06\n",
       "50%           4.160000         2.756667         0.629151   4.088459e+06\n",
       "75%           5.888333         5.293333         1.013660   4.681108e+06\n",
       "max           8.703333         8.333333         2.973833   5.626591e+06"
      ]
     },
     "execution_count": 4,
     "metadata": {},
     "output_type": "execute_result"
    }
   ],
   "source": [
    "df.describe()"
   ]
  },
  {
   "cell_type": "code",
   "execution_count": 5,
   "metadata": {},
   "outputs": [
    {
     "data": {
      "text/html": [
       "<div>\n",
       "<style scoped>\n",
       "    .dataframe tbody tr th:only-of-type {\n",
       "        vertical-align: middle;\n",
       "    }\n",
       "\n",
       "    .dataframe tbody tr th {\n",
       "        vertical-align: top;\n",
       "    }\n",
       "\n",
       "    .dataframe thead th {\n",
       "        text-align: right;\n",
       "    }\n",
       "</style>\n",
       "<table border=\"1\" class=\"dataframe\">\n",
       "  <thead>\n",
       "    <tr style=\"text-align: right;\">\n",
       "      <th></th>\n",
       "      <th>IRLTLT01USQ156N</th>\n",
       "      <th>IR3TIB01USQ156N</th>\n",
       "      <th>CPALTT01USQ657N</th>\n",
       "      <th>NGDPRSAXDCUSQ</th>\n",
       "    </tr>\n",
       "  </thead>\n",
       "  <tbody>\n",
       "    <tr>\n",
       "      <th>IRLTLT01USQ156N</th>\n",
       "      <td>1.000000</td>\n",
       "      <td>0.849105</td>\n",
       "      <td>0.154319</td>\n",
       "      <td>-0.888202</td>\n",
       "    </tr>\n",
       "    <tr>\n",
       "      <th>IR3TIB01USQ156N</th>\n",
       "      <td>0.849105</td>\n",
       "      <td>1.000000</td>\n",
       "      <td>0.152945</td>\n",
       "      <td>-0.627783</td>\n",
       "    </tr>\n",
       "    <tr>\n",
       "      <th>CPALTT01USQ657N</th>\n",
       "      <td>0.154319</td>\n",
       "      <td>0.152945</td>\n",
       "      <td>1.000000</td>\n",
       "      <td>0.013899</td>\n",
       "    </tr>\n",
       "    <tr>\n",
       "      <th>NGDPRSAXDCUSQ</th>\n",
       "      <td>-0.888202</td>\n",
       "      <td>-0.627783</td>\n",
       "      <td>0.013899</td>\n",
       "      <td>1.000000</td>\n",
       "    </tr>\n",
       "  </tbody>\n",
       "</table>\n",
       "</div>"
      ],
      "text/plain": [
       "                 IRLTLT01USQ156N  IR3TIB01USQ156N  CPALTT01USQ657N  \\\n",
       "IRLTLT01USQ156N         1.000000         0.849105         0.154319   \n",
       "IR3TIB01USQ156N         0.849105         1.000000         0.152945   \n",
       "CPALTT01USQ657N         0.154319         0.152945         1.000000   \n",
       "NGDPRSAXDCUSQ          -0.888202        -0.627783         0.013899   \n",
       "\n",
       "                 NGDPRSAXDCUSQ  \n",
       "IRLTLT01USQ156N      -0.888202  \n",
       "IR3TIB01USQ156N      -0.627783  \n",
       "CPALTT01USQ657N       0.013899  \n",
       "NGDPRSAXDCUSQ         1.000000  "
      ]
     },
     "execution_count": 5,
     "metadata": {},
     "output_type": "execute_result"
    }
   ],
   "source": [
    "df.corr()"
   ]
  },
  {
   "cell_type": "code",
   "execution_count": 6,
   "metadata": {},
   "outputs": [
    {
     "data": {
      "image/png": "[encoded data removed]",
      "text/plain": [
       "<Figure size 1200x720 with 4 Axes>"
      ]
     },
     "metadata": {
      "needs_background": "light"
     },
     "output_type": "display_data"
    }
   ],
   "source": [
    "fig, axes = plt.subplots(nrows=2, ncols=2, dpi=120, figsize=(10,6))\n",
    "for i, ax in enumerate(axes.flatten()):\n",
    "    data = df[df.columns[i]]\n",
    "    ax.plot(data, color='red', linewidth=1)\n",
    "    # Decorations\n",
    "    ax.set_title(df.columns[i])\n",
    "    ax.xaxis.set_ticks_position('none')\n",
    "    ax.yaxis.set_ticks_position('none')\n",
    "    ax.spines[\"top\"].set_alpha(0)\n",
    "    ax.tick_params(labelsize=6)\n",
    "\n",
    "plt.tight_layout();"
   ]
  },
  {
   "cell_type": "code",
   "execution_count": 7,
   "metadata": {},
   "outputs": [
    {
     "name": "stderr",
     "output_type": "stream",
     "text": [
      "c:\\Users\\matsz\\miniconda3\\envs\\portfolio-optimisation\\lib\\site-packages\\statsmodels\\tsa\\stattools.py:1488: FutureWarning: verbose is deprecated since functions should not print results\n",
      "  warnings.warn(\n",
      "c:\\Users\\matsz\\miniconda3\\envs\\portfolio-optimisation\\lib\\site-packages\\statsmodels\\tsa\\stattools.py:1488: FutureWarning: verbose is deprecated since functions should not print results\n",
      "  warnings.warn(\n",
      "c:\\Users\\matsz\\miniconda3\\envs\\portfolio-optimisation\\lib\\site-packages\\statsmodels\\tsa\\stattools.py:1488: FutureWarning: verbose is deprecated since functions should not print results\n",
      "  warnings.warn(\n",
      "c:\\Users\\matsz\\miniconda3\\envs\\portfolio-optimisation\\lib\\site-packages\\statsmodels\\tsa\\stattools.py:1488: FutureWarning: verbose is deprecated since functions should not print results\n",
      "  warnings.warn(\n",
      "c:\\Users\\matsz\\miniconda3\\envs\\portfolio-optimisation\\lib\\site-packages\\statsmodels\\tsa\\stattools.py:1488: FutureWarning: verbose is deprecated since functions should not print results\n",
      "  warnings.warn(\n",
      "c:\\Users\\matsz\\miniconda3\\envs\\portfolio-optimisation\\lib\\site-packages\\statsmodels\\tsa\\stattools.py:1488: FutureWarning: verbose is deprecated since functions should not print results\n",
      "  warnings.warn(\n",
      "c:\\Users\\matsz\\miniconda3\\envs\\portfolio-optimisation\\lib\\site-packages\\statsmodels\\tsa\\stattools.py:1488: FutureWarning: verbose is deprecated since functions should not print results\n",
      "  warnings.warn(\n",
      "c:\\Users\\matsz\\miniconda3\\envs\\portfolio-optimisation\\lib\\site-packages\\statsmodels\\tsa\\stattools.py:1488: FutureWarning: verbose is deprecated since functions should not print results\n",
      "  warnings.warn(\n",
      "c:\\Users\\matsz\\miniconda3\\envs\\portfolio-optimisation\\lib\\site-packages\\statsmodels\\tsa\\stattools.py:1488: FutureWarning: verbose is deprecated since functions should not print results\n",
      "  warnings.warn(\n",
      "c:\\Users\\matsz\\miniconda3\\envs\\portfolio-optimisation\\lib\\site-packages\\statsmodels\\tsa\\stattools.py:1488: FutureWarning: verbose is deprecated since functions should not print results\n",
      "  warnings.warn(\n",
      "c:\\Users\\matsz\\miniconda3\\envs\\portfolio-optimisation\\lib\\site-packages\\statsmodels\\tsa\\stattools.py:1488: FutureWarning: verbose is deprecated since functions should not print results\n",
      "  warnings.warn(\n",
      "c:\\Users\\matsz\\miniconda3\\envs\\portfolio-optimisation\\lib\\site-packages\\statsmodels\\tsa\\stattools.py:1488: FutureWarning: verbose is deprecated since functions should not print results\n",
      "  warnings.warn(\n",
      "c:\\Users\\matsz\\miniconda3\\envs\\portfolio-optimisation\\lib\\site-packages\\statsmodels\\tsa\\stattools.py:1488: FutureWarning: verbose is deprecated since functions should not print results\n",
      "  warnings.warn(\n",
      "c:\\Users\\matsz\\miniconda3\\envs\\portfolio-optimisation\\lib\\site-packages\\statsmodels\\tsa\\stattools.py:1488: FutureWarning: verbose is deprecated since functions should not print results\n",
      "  warnings.warn(\n",
      "c:\\Users\\matsz\\miniconda3\\envs\\portfolio-optimisation\\lib\\site-packages\\statsmodels\\tsa\\stattools.py:1488: FutureWarning: verbose is deprecated since functions should not print results\n",
      "  warnings.warn(\n",
      "c:\\Users\\matsz\\miniconda3\\envs\\portfolio-optimisation\\lib\\site-packages\\statsmodels\\tsa\\stattools.py:1488: FutureWarning: verbose is deprecated since functions should not print results\n",
      "  warnings.warn(\n"
     ]
    },
    {
     "data": {
      "text/html": [
       "<div>\n",
       "<style scoped>\n",
       "    .dataframe tbody tr th:only-of-type {\n",
       "        vertical-align: middle;\n",
       "    }\n",
       "\n",
       "    .dataframe tbody tr th {\n",
       "        vertical-align: top;\n",
       "    }\n",
       "\n",
       "    .dataframe thead th {\n",
       "        text-align: right;\n",
       "    }\n",
       "</style>\n",
       "<table border=\"1\" class=\"dataframe\">\n",
       "  <thead>\n",
       "    <tr style=\"text-align: right;\">\n",
       "      <th></th>\n",
       "      <th>IRLTLT01USQ156N_x</th>\n",
       "      <th>IR3TIB01USQ156N_x</th>\n",
       "      <th>CPALTT01USQ657N_x</th>\n",
       "      <th>NGDPRSAXDCUSQ_x</th>\n",
       "    </tr>\n",
       "  </thead>\n",
       "  <tbody>\n",
       "    <tr>\n",
       "      <th>IRLTLT01USQ156N_y</th>\n",
       "      <td>1.0000</td>\n",
       "      <td>0.0188</td>\n",
       "      <td>0.0281</td>\n",
       "      <td>0.0203</td>\n",
       "    </tr>\n",
       "    <tr>\n",
       "      <th>IR3TIB01USQ156N_y</th>\n",
       "      <td>0.0000</td>\n",
       "      <td>1.0000</td>\n",
       "      <td>0.0000</td>\n",
       "      <td>0.1089</td>\n",
       "    </tr>\n",
       "    <tr>\n",
       "      <th>CPALTT01USQ657N_y</th>\n",
       "      <td>0.5141</td>\n",
       "      <td>0.0646</td>\n",
       "      <td>1.0000</td>\n",
       "      <td>0.0053</td>\n",
       "    </tr>\n",
       "    <tr>\n",
       "      <th>NGDPRSAXDCUSQ_y</th>\n",
       "      <td>0.0497</td>\n",
       "      <td>0.2047</td>\n",
       "      <td>0.2586</td>\n",
       "      <td>1.0000</td>\n",
       "    </tr>\n",
       "  </tbody>\n",
       "</table>\n",
       "</div>"
      ],
      "text/plain": [
       "                   IRLTLT01USQ156N_x  IR3TIB01USQ156N_x  CPALTT01USQ657N_x  \\\n",
       "IRLTLT01USQ156N_y             1.0000             0.0188             0.0281   \n",
       "IR3TIB01USQ156N_y             0.0000             1.0000             0.0000   \n",
       "CPALTT01USQ657N_y             0.5141             0.0646             1.0000   \n",
       "NGDPRSAXDCUSQ_y               0.0497             0.2047             0.2586   \n",
       "\n",
       "                   NGDPRSAXDCUSQ_x  \n",
       "IRLTLT01USQ156N_y           0.0203  \n",
       "IR3TIB01USQ156N_y           0.1089  \n",
       "CPALTT01USQ657N_y           0.0053  \n",
       "NGDPRSAXDCUSQ_y             1.0000  "
      ]
     },
     "execution_count": 7,
     "metadata": {},
     "output_type": "execute_result"
    }
   ],
   "source": [
    "from statsmodels.tsa.stattools import grangercausalitytests\n",
    "maxlag=12\n",
    "test = 'ssr_chi2test'\n",
    "def grangers_causation_matrix(data, variables, test='ssr_chi2test', verbose=False):    \n",
    "    \"\"\"Check Granger Causality of all possible combinations of the Time series.\n",
    "    The rows are the response variable, columns are predictors. The values in the table \n",
    "    are the P-Values. P-Values lesser than the significance level (0.05), implies \n",
    "    the Null Hypothesis that the coefficients of the corresponding past values is \n",
    "    zero, that is, the X does not cause Y can be rejected.\n",
    "\n",
    "    data      : pandas dataframe containing the time series variables\n",
    "    variables : list containing names of the time series variables.\n",
    "    \"\"\"\n",
    "    df = pd.DataFrame(np.zeros((len(variables), len(variables))), columns=variables, index=variables)\n",
    "    for c in df.columns:\n",
    "        for r in df.index:\n",
    "            test_result = grangercausalitytests(data[[r, c]], maxlag=maxlag, verbose=False)\n",
    "            p_values = [round(test_result[i+1][0][test][1],4) for i in range(maxlag)]\n",
    "            if verbose: print(f'Y = {r}, X = {c}, P Values = {p_values}')\n",
    "            min_p_value = np.min(p_values)\n",
    "            df.loc[r, c] = min_p_value\n",
    "    df.columns = [var + '_x' for var in variables]\n",
    "    df.index = [var + '_y' for var in variables]\n",
    "    return df\n",
    "\n",
    "grangers_causation_matrix(df, variables = df.columns) "
   ]
  },
  {
   "cell_type": "code",
   "execution_count": 8,
   "metadata": {},
   "outputs": [
    {
     "name": "stdout",
     "output_type": "stream",
     "text": [
      "Name   ::  Test Stat > C(95%)    =>   Signif  \n",
      " ----------------------------------------\n",
      "IRLTLT01USQ156N ::  81.16     > 40.1749   =>   True\n",
      "IR3TIB01USQ156N ::  43.77     > 24.2761   =>   True\n",
      "CPALTT01USQ657N ::  16.85     > 12.3212   =>   True\n",
      "NGDPRSAXDCUSQ ::  3.84      > 4.1296    =>   False\n"
     ]
    }
   ],
   "source": [
    "from statsmodels.tsa.vector_ar.vecm import coint_johansen\n",
    "\n",
    "def cointegration_test(df, alpha=0.05): \n",
    "    \"\"\"Perform Johanson's Cointegration Test and Report Summary\"\"\"\n",
    "    out = coint_johansen(df,-1,5)\n",
    "    d = {'0.90':0, '0.95':1, '0.99':2}\n",
    "    traces = out.lr1\n",
    "    cvts = out.cvt[:, d[str(1-alpha)]]\n",
    "    def adjust(val, length= 6): return str(val).ljust(length)\n",
    "\n",
    "    # Summary\n",
    "    print('Name   ::  Test Stat > C(95%)    =>   Signif  \\n', '--'*20)\n",
    "    for col, trace, cvt in zip(df.columns, traces, cvts):\n",
    "        print(adjust(col), ':: ', adjust(round(trace,2), 9), \">\", adjust(cvt, 8), ' =>  ' , trace > cvt)\n",
    "\n",
    "cointegration_test(df)"
   ]
  },
  {
   "cell_type": "code",
   "execution_count": 9,
   "metadata": {},
   "outputs": [
    {
     "name": "stdout",
     "output_type": "stream",
     "text": [
      "    Augmented Dickey-Fuller Test on \"IRLTLT01USQ156N\" \n",
      "    -----------------------------------------------\n",
      " Null Hypothesis: Data has unit root. Non-Stationary.\n",
      " Significance Level    = 0.05\n",
      " Test Statistic        = -2.3409\n",
      " No. Lags Chosen       = 2\n",
      " Critical value 1%     = -3.481\n",
      " Critical value 5%     = -2.884\n",
      " Critical value 10%    = -2.579\n",
      " => P-Value = 0.1591. Weak evidence to reject the Null Hypothesis.\n",
      " => Series is Non-Stationary.\n",
      "\n",
      "\n",
      "    Augmented Dickey-Fuller Test on \"IR3TIB01USQ156N\" \n",
      "    -----------------------------------------------\n",
      " Null Hypothesis: Data has unit root. Non-Stationary.\n",
      " Significance Level    = 0.05\n",
      " Test Statistic        = -2.8544\n",
      " No. Lags Chosen       = 1\n",
      " Critical value 1%     = -3.481\n",
      " Critical value 5%     = -2.884\n",
      " Critical value 10%    = -2.578\n",
      " => P-Value = 0.0509. Weak evidence to reject the Null Hypothesis.\n",
      " => Series is Non-Stationary.\n",
      "\n",
      "\n",
      "    Augmented Dickey-Fuller Test on \"CPALTT01USQ657N\" \n",
      "    -----------------------------------------------\n",
      " Null Hypothesis: Data has unit root. Non-Stationary.\n",
      " Significance Level    = 0.05\n",
      " Test Statistic        = -2.6271\n",
      " No. Lags Chosen       = 10\n",
      " Critical value 1%     = -3.484\n",
      " Critical value 5%     = -2.885\n",
      " Critical value 10%    = -2.579\n",
      " => P-Value = 0.0875. Weak evidence to reject the Null Hypothesis.\n",
      " => Series is Non-Stationary.\n",
      "\n",
      "\n",
      "    Augmented Dickey-Fuller Test on \"NGDPRSAXDCUSQ\" \n",
      "    -----------------------------------------------\n",
      " Null Hypothesis: Data has unit root. Non-Stationary.\n",
      " Significance Level    = 0.05\n",
      " Test Statistic        = 0.3365\n",
      " No. Lags Chosen       = 1\n",
      " Critical value 1%     = -3.481\n",
      " Critical value 5%     = -2.884\n",
      " Critical value 10%    = -2.578\n",
      " => P-Value = 0.979. Weak evidence to reject the Null Hypothesis.\n",
      " => Series is Non-Stationary.\n",
      "\n",
      "\n"
     ]
    }
   ],
   "source": [
    "from statsmodels.tsa.stattools import adfuller\n",
    "\n",
    "def adfuller_test(series, signif=0.05, name='', verbose=False):\n",
    "    \"\"\"Perform ADFuller to test for Stationarity of given series and print report\"\"\"\n",
    "    r = adfuller(series, autolag='AIC')\n",
    "    output = {'test_statistic':round(r[0], 4), 'pvalue':round(r[1], 4), 'n_lags':round(r[2], 4), 'n_obs':r[3]}\n",
    "    p_value = output['pvalue'] \n",
    "    def adjust(val, length= 6): return str(val).ljust(length)\n",
    "\n",
    "    # Print Summary\n",
    "    print(f'    Augmented Dickey-Fuller Test on \"{name}\"', \"\\n   \", '-'*47)\n",
    "    print(f' Null Hypothesis: Data has unit root. Non-Stationary.')\n",
    "    print(f' Significance Level    = {signif}')\n",
    "    print(f' Test Statistic        = {output[\"test_statistic\"]}')\n",
    "    print(f' No. Lags Chosen       = {output[\"n_lags\"]}')\n",
    "\n",
    "    for key,val in r[4].items():\n",
    "        print(f' Critical value {adjust(key)} = {round(val, 3)}')\n",
    "\n",
    "    if p_value <= signif:\n",
    "        print(f\" => P-Value = {p_value}. Rejecting Null Hypothesis.\")\n",
    "        print(f\" => Series is Stationary.\")\n",
    "    else:\n",
    "        print(f\" => P-Value = {p_value}. Weak evidence to reject the Null Hypothesis.\")\n",
    "        print(f\" => Series is Non-Stationary.\")\n",
    "\n",
    "for name, column in df.iteritems():\n",
    "    adfuller_test(column, name=column.name)\n",
    "    print('\\n')"
   ]
  },
  {
   "cell_type": "code",
   "execution_count": 10,
   "metadata": {},
   "outputs": [],
   "source": [
    "df_differenced = df.diff().dropna()"
   ]
  },
  {
   "cell_type": "code",
   "execution_count": 11,
   "metadata": {},
   "outputs": [
    {
     "name": "stdout",
     "output_type": "stream",
     "text": [
      "    Augmented Dickey-Fuller Test on \"IRLTLT01USQ156N\" \n",
      "    -----------------------------------------------\n",
      " Null Hypothesis: Data has unit root. Non-Stationary.\n",
      " Significance Level    = 0.05\n",
      " Test Statistic        = -5.8485\n",
      " No. Lags Chosen       = 3\n",
      " Critical value 1%     = -3.482\n",
      " Critical value 5%     = -2.884\n",
      " Critical value 10%    = -2.579\n",
      " => P-Value = 0.0. Rejecting Null Hypothesis.\n",
      " => Series is Stationary.\n",
      "\n",
      "\n",
      "    Augmented Dickey-Fuller Test on \"IR3TIB01USQ156N\" \n",
      "    -----------------------------------------------\n",
      " Null Hypothesis: Data has unit root. Non-Stationary.\n",
      " Significance Level    = 0.05\n",
      " Test Statistic        = -5.8315\n",
      " No. Lags Chosen       = 0\n",
      " Critical value 1%     = -3.481\n",
      " Critical value 5%     = -2.884\n",
      " Critical value 10%    = -2.578\n",
      " => P-Value = 0.0. Rejecting Null Hypothesis.\n",
      " => Series is Stationary.\n",
      "\n",
      "\n",
      "    Augmented Dickey-Fuller Test on \"CPALTT01USQ657N\" \n",
      "    -----------------------------------------------\n",
      " Null Hypothesis: Data has unit root. Non-Stationary.\n",
      " Significance Level    = 0.05\n",
      " Test Statistic        = -5.8741\n",
      " No. Lags Chosen       = 10\n",
      " Critical value 1%     = -3.485\n",
      " Critical value 5%     = -2.885\n",
      " Critical value 10%    = -2.579\n",
      " => P-Value = 0.0. Rejecting Null Hypothesis.\n",
      " => Series is Stationary.\n",
      "\n",
      "\n",
      "    Augmented Dickey-Fuller Test on \"NGDPRSAXDCUSQ\" \n",
      "    -----------------------------------------------\n",
      " Null Hypothesis: Data has unit root. Non-Stationary.\n",
      " Significance Level    = 0.05\n",
      " Test Statistic        = -13.8263\n",
      " No. Lags Chosen       = 0\n",
      " Critical value 1%     = -3.481\n",
      " Critical value 5%     = -2.884\n",
      " Critical value 10%    = -2.578\n",
      " => P-Value = 0.0. Rejecting Null Hypothesis.\n",
      " => Series is Stationary.\n",
      "\n",
      "\n"
     ]
    }
   ],
   "source": [
    "# ADF Test on each column of 1st Differences Dataframe\n",
    "for name, column in df_differenced.iteritems():\n",
    "    adfuller_test(column, name=column.name)\n",
    "    print('\\n')"
   ]
  },
  {
   "cell_type": "code",
   "execution_count": 12,
   "metadata": {},
   "outputs": [
    {
     "name": "stderr",
     "output_type": "stream",
     "text": [
      "c:\\Users\\matsz\\miniconda3\\envs\\portfolio-optimisation\\lib\\site-packages\\statsmodels\\tsa\\base\\tsa_model.py:473: ValueWarning: No frequency information was provided, so inferred frequency QS-OCT will be used.\n",
      "  self._init_dates(dates, freq)\n"
     ]
    },
    {
     "data": {
      "text/html": [
       "<table class=\"simpletable\">\n",
       "<caption>VAR Order Selection (* highlights the minimums)</caption>\n",
       "<tr>\n",
       "   <td></td>      <th>AIC</th>         <th>BIC</th>         <th>FPE</th>        <th>HQIC</th>    \n",
       "</tr>\n",
       "<tr>\n",
       "  <th>0</th>  <td>     17.49</td>  <td>     17.58</td>  <td> 3.936e+07</td>  <td>     17.53</td> \n",
       "</tr>\n",
       "<tr>\n",
       "  <th>1</th>  <td>     16.78</td>  <td>     17.24</td>  <td> 1.939e+07</td>  <td>     16.97</td> \n",
       "</tr>\n",
       "<tr>\n",
       "  <th>2</th>  <td>     16.31*</td> <td>     17.14*</td> <td> 1.216e+07*</td> <td>     16.65*</td>\n",
       "</tr>\n",
       "<tr>\n",
       "  <th>3</th>  <td>     16.38</td>  <td>     17.57</td>  <td> 1.298e+07</td>  <td>     16.86</td> \n",
       "</tr>\n",
       "<tr>\n",
       "  <th>4</th>  <td>     16.46</td>  <td>     18.02</td>  <td> 1.420e+07</td>  <td>     17.10</td> \n",
       "</tr>\n",
       "<tr>\n",
       "  <th>5</th>  <td>     16.61</td>  <td>     18.54</td>  <td> 1.653e+07</td>  <td>     17.39</td> \n",
       "</tr>\n",
       "<tr>\n",
       "  <th>6</th>  <td>     16.62</td>  <td>     18.92</td>  <td> 1.691e+07</td>  <td>     17.55</td> \n",
       "</tr>\n",
       "<tr>\n",
       "  <th>7</th>  <td>     16.59</td>  <td>     19.25</td>  <td> 1.659e+07</td>  <td>     17.67</td> \n",
       "</tr>\n",
       "<tr>\n",
       "  <th>8</th>  <td>     16.67</td>  <td>     19.70</td>  <td> 1.835e+07</td>  <td>     17.90</td> \n",
       "</tr>\n",
       "<tr>\n",
       "  <th>9</th>  <td>     16.79</td>  <td>     20.20</td>  <td> 2.129e+07</td>  <td>     18.18</td> \n",
       "</tr>\n",
       "<tr>\n",
       "  <th>10</th> <td>     16.83</td>  <td>     20.60</td>  <td> 2.266e+07</td>  <td>     18.36</td> \n",
       "</tr>\n",
       "<tr>\n",
       "  <th>11</th> <td>     16.90</td>  <td>     21.03</td>  <td> 2.520e+07</td>  <td>     18.58</td> \n",
       "</tr>\n",
       "<tr>\n",
       "  <th>12</th> <td>     16.95</td>  <td>     21.45</td>  <td> 2.780e+07</td>  <td>     18.78</td> \n",
       "</tr>\n",
       "</table>"
      ],
      "text/latex": [
       "\\begin{center}\n",
       "\\begin{tabular}{lcccc}\n",
       "\\toprule\n",
       "            & \\textbf{AIC} & \\textbf{BIC} & \\textbf{FPE} & \\textbf{HQIC}  \\\\\n",
       "\\midrule\n",
       "\\textbf{0}  &       17.49  &       17.58  &   3.936e+07  &        17.53   \\\\\n",
       "\\textbf{1}  &       16.78  &       17.24  &   1.939e+07  &        16.97   \\\\\n",
       "\\textbf{2}  &      16.31*  &      17.14*  &  1.216e+07*  &       16.65*   \\\\\n",
       "\\textbf{3}  &       16.38  &       17.57  &   1.298e+07  &        16.86   \\\\\n",
       "\\textbf{4}  &       16.46  &       18.02  &   1.420e+07  &        17.10   \\\\\n",
       "\\textbf{5}  &       16.61  &       18.54  &   1.653e+07  &        17.39   \\\\\n",
       "\\textbf{6}  &       16.62  &       18.92  &   1.691e+07  &        17.55   \\\\\n",
       "\\textbf{7}  &       16.59  &       19.25  &   1.659e+07  &        17.67   \\\\\n",
       "\\textbf{8}  &       16.67  &       19.70  &   1.835e+07  &        17.90   \\\\\n",
       "\\textbf{9}  &       16.79  &       20.20  &   2.129e+07  &        18.18   \\\\\n",
       "\\textbf{10} &       16.83  &       20.60  &   2.266e+07  &        18.36   \\\\\n",
       "\\textbf{11} &       16.90  &       21.03  &   2.520e+07  &        18.58   \\\\\n",
       "\\textbf{12} &       16.95  &       21.45  &   2.780e+07  &        18.78   \\\\\n",
       "\\bottomrule\n",
       "\\end{tabular}\n",
       "%\\caption{VAR Order Selection (* highlights the minimums)}\n",
       "\\end{center}"
      ],
      "text/plain": [
       "<class 'statsmodels.iolib.table.SimpleTable'>"
      ]
     },
     "execution_count": 12,
     "metadata": {},
     "output_type": "execute_result"
    }
   ],
   "source": [
    "model = VAR(df_differenced)\n",
    "x = model.select_order(maxlags=12)\n",
    "x.summary()"
   ]
  },
  {
   "cell_type": "code",
   "execution_count": 13,
   "metadata": {},
   "outputs": [
    {
     "data": {
      "text/plain": [
       "  Summary of Regression Results   \n",
       "==================================\n",
       "Model:                         VAR\n",
       "Method:                        OLS\n",
       "Date:           Sat, 30, Dec, 2023\n",
       "Time:                     17:02:41\n",
       "--------------------------------------------------------------------\n",
       "No. of Equations:         4.00000    BIC:                    17.0261\n",
       "Nobs:                     132.000    HQIC:                   16.5593\n",
       "Log likelihood:          -1785.03    FPE:                1.13044e+07\n",
       "AIC:                      16.2399    Det(Omega_mle):     8.68297e+06\n",
       "--------------------------------------------------------------------\n",
       "Results for equation IRLTLT01USQ156N\n",
       "=====================================================================================\n",
       "                        coefficient       std. error           t-stat            prob\n",
       "-------------------------------------------------------------------------------------\n",
       "const                     -0.048102         0.039877           -1.206           0.228\n",
       "L1.IRLTLT01USQ156N         0.400096         0.110314            3.627           0.000\n",
       "L1.IR3TIB01USQ156N        -0.255996         0.112386           -2.278           0.023\n",
       "L1.CPALTT01USQ657N        -0.014330         0.045707           -0.314           0.754\n",
       "L1.NGDPRSAXDCUSQ           0.000001         0.000001            1.479           0.139\n",
       "L2.IRLTLT01USQ156N        -0.161489         0.104928           -1.539           0.124\n",
       "L2.IR3TIB01USQ156N         0.252421         0.103360            2.442           0.015\n",
       "L2.CPALTT01USQ657N         0.014737         0.046352            0.318           0.751\n",
       "L2.NGDPRSAXDCUSQ           0.000000         0.000001            0.045           0.964\n",
       "=====================================================================================\n",
       "\n",
       "Results for equation IR3TIB01USQ156N\n",
       "=====================================================================================\n",
       "                        coefficient       std. error           t-stat            prob\n",
       "-------------------------------------------------------------------------------------\n",
       "const                      0.030192         0.040024            0.754           0.451\n",
       "L1.IRLTLT01USQ156N         0.406974         0.110721            3.676           0.000\n",
       "L1.IR3TIB01USQ156N         0.315065         0.112801            2.793           0.005\n",
       "L1.CPALTT01USQ657N         0.098735         0.045876            2.152           0.031\n",
       "L1.NGDPRSAXDCUSQ          -0.000000         0.000001           -0.201           0.841\n",
       "L2.IRLTLT01USQ156N        -0.053683         0.105316           -0.510           0.610\n",
       "L2.IR3TIB01USQ156N         0.294893         0.103742            2.843           0.004\n",
       "L2.CPALTT01USQ657N         0.097200         0.046523            2.089           0.037\n",
       "L2.NGDPRSAXDCUSQ          -0.000001         0.000001           -1.148           0.251\n",
       "=====================================================================================\n",
       "\n",
       "Results for equation CPALTT01USQ657N\n",
       "=====================================================================================\n",
       "                        coefficient       std. error           t-stat            prob\n",
       "-------------------------------------------------------------------------------------\n",
       "const                     -0.062315         0.065785           -0.947           0.344\n",
       "L1.IRLTLT01USQ156N         0.070675         0.181985            0.388           0.698\n",
       "L1.IR3TIB01USQ156N        -0.265405         0.185404           -1.431           0.152\n",
       "L1.CPALTT01USQ657N        -0.228475         0.075403           -3.030           0.002\n",
       "L1.NGDPRSAXDCUSQ          -0.000001         0.000001           -0.710           0.477\n",
       "L2.IRLTLT01USQ156N        -0.090060         0.173100           -0.520           0.603\n",
       "L2.IR3TIB01USQ156N         0.076028         0.170513            0.446           0.656\n",
       "L2.CPALTT01USQ657N        -0.606231         0.076468           -7.928           0.000\n",
       "L2.NGDPRSAXDCUSQ           0.000003         0.000001            2.671           0.008\n",
       "=====================================================================================\n",
       "\n",
       "Results for equation NGDPRSAXDCUSQ\n",
       "=====================================================================================\n",
       "                        coefficient       std. error           t-stat            prob\n",
       "-------------------------------------------------------------------------------------\n",
       "const                  32889.886352      5831.981970            5.640           0.000\n",
       "L1.IRLTLT01USQ156N     25523.216049     16133.427232            1.582           0.114\n",
       "L1.IR3TIB01USQ156N    -21563.710561     16436.518446           -1.312           0.190\n",
       "L1.CPALTT01USQ657N     -1351.460847      6684.632907           -0.202           0.840\n",
       "L1.NGDPRSAXDCUSQ          -0.177175         0.099136           -1.787           0.074\n",
       "L2.IRLTLT01USQ156N    -18012.235305     15345.750898           -1.174           0.240\n",
       "L2.IR3TIB01USQ156N     37657.863896     15116.418916            2.491           0.013\n",
       "L2.CPALTT01USQ657N     14197.277614      6779.038611            2.094           0.036\n",
       "L2.NGDPRSAXDCUSQ          -0.193537         0.096304           -2.010           0.044\n",
       "=====================================================================================\n",
       "\n",
       "Correlation matrix of residuals\n",
       "                   IRLTLT01USQ156N  IR3TIB01USQ156N  CPALTT01USQ657N  NGDPRSAXDCUSQ\n",
       "IRLTLT01USQ156N           1.000000         0.510248         0.308663       0.214305\n",
       "IR3TIB01USQ156N           0.510248         1.000000         0.113911       0.398731\n",
       "CPALTT01USQ657N           0.308663         0.113911         1.000000       0.348913\n",
       "NGDPRSAXDCUSQ             0.214305         0.398731         0.348913       1.000000\n",
       "\n"
      ]
     },
     "execution_count": 13,
     "metadata": {},
     "output_type": "execute_result"
    }
   ],
   "source": [
    "result = model.fit(2)\n",
    "result.summary()"
   ]
  },
  {
   "cell_type": "code",
   "execution_count": 14,
   "metadata": {},
   "outputs": [
    {
     "data": {
      "text/plain": [
       "True"
      ]
     },
     "execution_count": 14,
     "metadata": {},
     "output_type": "execute_result"
    }
   ],
   "source": [
    "result.is_stable()"
   ]
  },
  {
   "cell_type": "code",
   "execution_count": 15,
   "metadata": {},
   "outputs": [
    {
     "data": {
      "text/plain": [
       "(100, 8, 4)"
      ]
     },
     "execution_count": 15,
     "metadata": {},
     "output_type": "execute_result"
    }
   ],
   "source": [
    "scenarios = result.simulate_var(steps=8,nsimulations=100)\n",
    "scenarios.shape\n"
   ]
  },
  {
   "cell_type": "code",
   "execution_count": 16,
   "metadata": {},
   "outputs": [
    {
     "data": {
      "text/plain": [
       "array([[-4.81021806e-02,  3.01917620e-02, -6.23148109e-02,\n",
       "         3.28898864e+04],\n",
       "       [-4.81021806e-02,  3.01917620e-02, -6.23148109e-02,\n",
       "         3.28898864e+04],\n",
       "       [ 4.78631516e-01,  6.73686357e-02,  1.02688332e+00,\n",
       "        -2.59198627e+04],\n",
       "       [ 3.46154859e-02,  3.58463417e-02, -6.34081633e-01,\n",
       "         7.58314153e+03],\n",
       "       [ 4.09367583e-01,  1.79721024e-01, -1.66412181e-01,\n",
       "         9.74343318e+04],\n",
       "       [ 4.27467707e-01,  9.69183951e-01,  9.84184487e-01,\n",
       "         2.74969377e+04],\n",
       "       [ 2.76167225e-01,  1.19335593e+00, -4.36369975e-01,\n",
       "        -3.58127883e+03],\n",
       "       [-2.19340898e-02,  5.99916107e-01, -8.88716122e-01,\n",
       "         6.41141709e+04]])"
      ]
     },
     "execution_count": 16,
     "metadata": {},
     "output_type": "execute_result"
    }
   ],
   "source": [
    "scenarios[1]"
   ]
  },
  {
   "cell_type": "code",
   "execution_count": 17,
   "metadata": {},
   "outputs": [
    {
     "ename": "IndexError",
     "evalue": "list index out of range",
     "output_type": "error",
     "traceback": [
      "\u001b[1;31m---------------------------------------------------------------------------\u001b[0m",
      "\u001b[1;31mIndexError\u001b[0m                                Traceback (most recent call last)",
      "\u001b[1;32mc:\\Users\\matsz\\programowanie\\Optymalizacja portfela\\esg\\var.ipynb Cell 17\u001b[0m line \u001b[0;36m<cell line: 1>\u001b[1;34m()\u001b[0m\n\u001b[0;32m      <a href='vscode-notebook-cell:/c%3A/Users/matsz/programowanie/Optymalizacja%20portfela/esg/var.ipynb#X22sZmlsZQ%3D%3D?line=0'>1</a>\u001b[0m \u001b[39mfor\u001b[39;00m i \u001b[39min\u001b[39;00m \u001b[39mrange\u001b[39m(\u001b[39m4\u001b[39m):\n\u001b[1;32m----> <a href='vscode-notebook-cell:/c%3A/Users/matsz/programowanie/Optymalizacja%20portfela/esg/var.ipynb#X22sZmlsZQ%3D%3D?line=1'>2</a>\u001b[0m     \u001b[39mprint\u001b[39m(result\u001b[39m.\u001b[39;49mtest_causality(caused\u001b[39m=\u001b[39;49mi, causing\u001b[39m=\u001b[39;49m[\u001b[39m0\u001b[39;49m,\u001b[39m1\u001b[39;49m,\u001b[39m2\u001b[39;49m,\u001b[39m3\u001b[39;49m,\u001b[39m4\u001b[39;49m]))\n",
      "File \u001b[1;32mc:\\Users\\matsz\\miniconda3\\envs\\portfolio-optimisation\\lib\\site-packages\\statsmodels\\tsa\\vector_ar\\var_model.py:1977\u001b[0m, in \u001b[0;36mVARResults.test_causality\u001b[1;34m(self, caused, causing, kind, signif)\u001b[0m\n\u001b[0;32m   1972\u001b[0m     \u001b[39mif\u001b[39;00m \u001b[39mnot\u001b[39;00m \u001b[39mall\u001b[39m(\u001b[39misinstance\u001b[39m(c, allowed_types) \u001b[39mfor\u001b[39;00m c \u001b[39min\u001b[39;00m causing):\n\u001b[0;32m   1973\u001b[0m         \u001b[39mraise\u001b[39;00m \u001b[39mTypeError\u001b[39;00m(\n\u001b[0;32m   1974\u001b[0m             \u001b[39m\"\u001b[39m\u001b[39mcausing has to be of type string or int (or \u001b[39m\u001b[39m\"\u001b[39m\n\u001b[0;32m   1975\u001b[0m             \u001b[39m\"\u001b[39m\u001b[39ma sequence of these types) or None.\u001b[39m\u001b[39m\"\u001b[39m\n\u001b[0;32m   1976\u001b[0m         )\n\u001b[1;32m-> 1977\u001b[0m     causing \u001b[39m=\u001b[39m [\u001b[39mself\u001b[39m\u001b[39m.\u001b[39mnames[c] \u001b[39mif\u001b[39;00m \u001b[39mtype\u001b[39m(c) \u001b[39m==\u001b[39m \u001b[39mint\u001b[39m \u001b[39melse\u001b[39;00m c \u001b[39mfor\u001b[39;00m c \u001b[39min\u001b[39;00m causing]\n\u001b[0;32m   1978\u001b[0m     causing_ind \u001b[39m=\u001b[39m [util\u001b[39m.\u001b[39mget_index(\u001b[39mself\u001b[39m\u001b[39m.\u001b[39mnames, c) \u001b[39mfor\u001b[39;00m c \u001b[39min\u001b[39;00m causing]\n\u001b[0;32m   1979\u001b[0m \u001b[39melse\u001b[39;00m:\n",
      "File \u001b[1;32mc:\\Users\\matsz\\miniconda3\\envs\\portfolio-optimisation\\lib\\site-packages\\statsmodels\\tsa\\vector_ar\\var_model.py:1977\u001b[0m, in \u001b[0;36m<listcomp>\u001b[1;34m(.0)\u001b[0m\n\u001b[0;32m   1972\u001b[0m     \u001b[39mif\u001b[39;00m \u001b[39mnot\u001b[39;00m \u001b[39mall\u001b[39m(\u001b[39misinstance\u001b[39m(c, allowed_types) \u001b[39mfor\u001b[39;00m c \u001b[39min\u001b[39;00m causing):\n\u001b[0;32m   1973\u001b[0m         \u001b[39mraise\u001b[39;00m \u001b[39mTypeError\u001b[39;00m(\n\u001b[0;32m   1974\u001b[0m             \u001b[39m\"\u001b[39m\u001b[39mcausing has to be of type string or int (or \u001b[39m\u001b[39m\"\u001b[39m\n\u001b[0;32m   1975\u001b[0m             \u001b[39m\"\u001b[39m\u001b[39ma sequence of these types) or None.\u001b[39m\u001b[39m\"\u001b[39m\n\u001b[0;32m   1976\u001b[0m         )\n\u001b[1;32m-> 1977\u001b[0m     causing \u001b[39m=\u001b[39m [\u001b[39mself\u001b[39;49m\u001b[39m.\u001b[39;49mnames[c] \u001b[39mif\u001b[39;00m \u001b[39mtype\u001b[39m(c) \u001b[39m==\u001b[39m \u001b[39mint\u001b[39m \u001b[39melse\u001b[39;00m c \u001b[39mfor\u001b[39;00m c \u001b[39min\u001b[39;00m causing]\n\u001b[0;32m   1978\u001b[0m     causing_ind \u001b[39m=\u001b[39m [util\u001b[39m.\u001b[39mget_index(\u001b[39mself\u001b[39m\u001b[39m.\u001b[39mnames, c) \u001b[39mfor\u001b[39;00m c \u001b[39min\u001b[39;00m causing]\n\u001b[0;32m   1979\u001b[0m \u001b[39melse\u001b[39;00m:\n",
      "\u001b[1;31mIndexError\u001b[0m: list index out of range"
     ]
    }
   ],
   "source": [
    "for i in range(4):\n",
    "    print(result.test_causality(caused=i, causing=[0,1,2,3,4]))"
   ]
  },
  {
   "cell_type": "code",
   "execution_count": null,
   "metadata": {},
   "outputs": [
    {
     "name": "stdout",
     "output_type": "stream",
     "text": [
      "FEVD for IRLTLT01USQ156N\n",
      "     IRLTLT01USQ156N  IR3TIB01USQ156N  CPALTT01USQ657N  USAGDPRQPSMEI  LRUN64TTUSQ156S\n",
      "0           1.000000         0.000000         0.000000       0.000000         0.000000\n",
      "1           0.943145         0.017683         0.002497       0.035429         0.001246\n",
      "2           0.923419         0.031138         0.004273       0.038774         0.002396\n",
      "3           0.916710         0.035491         0.005603       0.038606         0.003590\n",
      "4           0.913467         0.036290         0.006099       0.039797         0.004347\n",
      "5           0.911974         0.036338         0.006220       0.040771         0.004696\n",
      "6           0.911412         0.036316         0.006241       0.041207         0.004824\n",
      "7           0.911238         0.036308         0.006243       0.041348         0.004863\n",
      "8           0.911192         0.036306         0.006243       0.041384         0.004874\n",
      "9           0.911182         0.036306         0.006243       0.041392         0.004876\n",
      "\n",
      "FEVD for IR3TIB01USQ156N\n",
      "     IRLTLT01USQ156N  IR3TIB01USQ156N  CPALTT01USQ657N  USAGDPRQPSMEI  LRUN64TTUSQ156S\n",
      "0           0.174572         0.825428         0.000000       0.000000         0.000000\n",
      "1           0.310578         0.606130         0.047711       0.030821         0.004759\n",
      "2           0.326969         0.547346         0.049546       0.066220         0.009919\n",
      "3           0.326304         0.531268         0.048953       0.081399         0.012076\n",
      "4           0.325131         0.527866         0.048672       0.085633         0.012698\n",
      "5           0.324774         0.527337         0.048613       0.086448         0.012828\n",
      "6           0.324715         0.527279         0.048608       0.086550         0.012848\n",
      "7           0.324712         0.527274         0.048609       0.086556         0.012850\n",
      "8           0.324713         0.527273         0.048609       0.086555         0.012850\n",
      "9           0.324713         0.527272         0.048609       0.086555         0.012850\n",
      "\n",
      "FEVD for CPALTT01USQ657N\n",
      "     IRLTLT01USQ156N  IR3TIB01USQ156N  CPALTT01USQ657N  USAGDPRQPSMEI  LRUN64TTUSQ156S\n",
      "0           0.099172         0.038367         0.862461       0.000000         0.000000\n",
      "1           0.121683         0.044755         0.823077       0.004325         0.006159\n",
      "2           0.124234         0.044840         0.819854       0.004531         0.006541\n",
      "3           0.124447         0.044843         0.819402       0.004692         0.006616\n",
      "4           0.124433         0.044904         0.819313       0.004706         0.006645\n",
      "5           0.124442         0.044932         0.819257       0.004708         0.006660\n",
      "6           0.124452         0.044938         0.819222       0.004719         0.006668\n",
      "7           0.124456         0.044939         0.819205       0.004728         0.006672\n",
      "8           0.124457         0.044939         0.819199       0.004732         0.006673\n",
      "9           0.124457         0.044939         0.819197       0.004734         0.006674\n",
      "\n",
      "FEVD for USAGDPRQPSMEI\n",
      "     IRLTLT01USQ156N  IR3TIB01USQ156N  CPALTT01USQ657N  USAGDPRQPSMEI  LRUN64TTUSQ156S\n",
      "0           0.012247         0.009335         0.004049       0.974369         0.000000\n",
      "1           0.020111         0.012813         0.003755       0.963110         0.000211\n",
      "2           0.019834         0.017871         0.004151       0.957913         0.000230\n",
      "3           0.020770         0.019928         0.004622       0.954279         0.000400\n",
      "4           0.021565         0.020408         0.004827       0.952619         0.000581\n",
      "5           0.021878         0.020471         0.004883       0.952083         0.000685\n",
      "6           0.021959         0.020472         0.004894       0.951947         0.000728\n",
      "7           0.021975         0.020470         0.004895       0.951918         0.000742\n",
      "8           0.021977         0.020470         0.004895       0.951912         0.000746\n",
      "9           0.021977         0.020470         0.004895       0.951911         0.000747\n",
      "\n",
      "FEVD for LRUN64TTUSQ156S\n",
      "     IRLTLT01USQ156N  IR3TIB01USQ156N  CPALTT01USQ657N  USAGDPRQPSMEI  LRUN64TTUSQ156S\n",
      "0           0.071475         0.063792         0.000632       0.055210         0.808891\n",
      "1           0.103446         0.083361         0.025969       0.130189         0.657035\n",
      "2           0.118903         0.083582         0.029875       0.170121         0.597519\n",
      "3           0.124964         0.081211         0.030675       0.188895         0.574255\n",
      "4           0.126555         0.079814         0.030699       0.196800         0.566133\n",
      "5           0.126809         0.079280         0.030637       0.199656         0.563618\n",
      "6           0.126806         0.079119         0.030605       0.200547         0.562923\n",
      "7           0.126788         0.079077         0.030593       0.200792         0.562750\n",
      "8           0.126780         0.079068         0.030590       0.200852         0.562710\n",
      "9           0.126778         0.079066         0.030589       0.200866         0.562701\n",
      "\n",
      "\n"
     ]
    }
   ],
   "source": [
    "result.fevd().summary()"
   ]
  },
  {
   "cell_type": "code",
   "execution_count": null,
   "metadata": {},
   "outputs": [],
   "source": [
    "sim = result.simulate_var(steps=None,offset=None,nsimulations=100)"
   ]
  },
  {
   "cell_type": "code",
   "execution_count": null,
   "metadata": {},
   "outputs": [],
   "source": [
    "spy_source = loadStooqData('^SPX','1992-07-1')"
   ]
  },
  {
   "cell_type": "code",
   "execution_count": null,
   "metadata": {},
   "outputs": [],
   "source": [
    "spy = spy_source\n",
    "spy.index = pd.to_datetime(spy.index)\n",
    "spy = spy.resample('QS').last()\n",
    "spy = spy.loc['1992-10-01':'2023-04-02']\n",
    "spy = np.log(spy/spy.shift()).dropna()\n",
    "#spy = sm.add_constant(spy, prepend=False)\n",
    "#exog = sm.add_constant(source_data, prepend=False)"
   ]
  },
  {
   "cell_type": "code",
   "execution_count": null,
   "metadata": {},
   "outputs": [],
   "source": [
    "bond_source = pd.read_csv('VBMFX.csv')"
   ]
  },
  {
   "cell_type": "code",
   "execution_count": null,
   "metadata": {},
   "outputs": [],
   "source": [
    "bond = bond_source\n",
    "bond = bond.set_index(bond['Date'])\n",
    "bond = bond['Adj Close']\n",
    "bond.index = pd.to_datetime(bond.index)\n",
    "bond = bond.resample('QS').last()\n",
    "bond = bond.loc['1992-10-01':'2023-04-02']\n",
    "bond = np.log(bond/bond.shift(1)).dropna()\n"
   ]
  },
  {
   "cell_type": "code",
   "execution_count": null,
   "metadata": {},
   "outputs": [],
   "source": [
    "assets = pd.concat([spy,bond],axis=1)\n",
    "assets.columns = ['SPY', 'BND']\n",
    "#assets = assets.diff().dropna()"
   ]
  },
  {
   "cell_type": "code",
   "execution_count": null,
   "metadata": {},
   "outputs": [
    {
     "data": {
      "text/plain": [
       "(-10.562787407711081,\n",
       " 7.65154907320737e-19,\n",
       " 0,\n",
       " 121,\n",
       " {'1%': -3.485585145896754,\n",
       "  '5%': -2.885738566292665,\n",
       "  '10%': -2.5796759080663887},\n",
       " -220.56991768257512)"
      ]
     },
     "execution_count": 17,
     "metadata": {},
     "output_type": "execute_result"
    }
   ],
   "source": [
    "#np.round(sm.tsa.stattools.adfuller(assets['BND'])[1],4)\n",
    "sm.tsa.stattools.adfuller(assets['SPY'])"
   ]
  },
  {
   "cell_type": "code",
   "execution_count": null,
   "metadata": {},
   "outputs": [
    {
     "name": "stderr",
     "output_type": "stream",
     "text": [
      "c:\\Users\\matsz\\miniconda3\\envs\\portfolio-optimisation\\lib\\site-packages\\statsmodels\\tsa\\base\\tsa_model.py:473: ValueWarning: No frequency information was provided, so inferred frequency QS-OCT will be used.\n",
      "  self._init_dates(dates, freq)\n"
     ]
    }
   ],
   "source": [
    "model_a = VAR(assets,exog=data)"
   ]
  },
  {
   "cell_type": "code",
   "execution_count": null,
   "metadata": {},
   "outputs": [],
   "source": [
    "result = model_a.fit(2)"
   ]
  },
  {
   "cell_type": "code",
   "execution_count": null,
   "metadata": {},
   "outputs": [
    {
     "data": {
      "text/plain": [
       "  Summary of Regression Results   \n",
       "==================================\n",
       "Model:                         VAR\n",
       "Method:                        OLS\n",
       "Date:           Thu, 24, Aug, 2023\n",
       "Time:                     20:36:56\n",
       "--------------------------------------------------------------------\n",
       "No. of Equations:         2.00000    BIC:                   -12.8087\n",
       "Nobs:                     120.000    HQIC:                  -13.0846\n",
       "Log likelihood:           475.853    FPE:                1.72112e-06\n",
       "AIC:                     -13.2733    Det(Omega_mle):     1.46651e-06\n",
       "--------------------------------------------------------------------\n",
       "Results for equation SPY\n",
       "==================================================================================\n",
       "                     coefficient       std. error           t-stat            prob\n",
       "----------------------------------------------------------------------------------\n",
       "const                  -0.000419         0.009632           -0.043           0.965\n",
       "IRLTLT01USQ156N         0.066201         0.026863            2.464           0.014\n",
       "IR3TIB01USQ156N         0.035644         0.021916            1.626           0.104\n",
       "CPALTT01USQ657N         0.002732         0.010053            0.272           0.786\n",
       "USAGDPRQPSMEI           0.010983         0.004890            2.246           0.025\n",
       "LRUN64TTUSQ156S         0.020644         0.009587            2.153           0.031\n",
       "L1.SPY                 -0.019320         0.099323           -0.195           0.846\n",
       "L1.BND                  1.771895         0.492078            3.601           0.000\n",
       "L2.SPY                  0.036122         0.088522            0.408           0.683\n",
       "L2.BND                  0.153211         0.401416            0.382           0.703\n",
       "==================================================================================\n",
       "\n",
       "Results for equation BND\n",
       "==================================================================================\n",
       "                     coefficient       std. error           t-stat            prob\n",
       "----------------------------------------------------------------------------------\n",
       "const                   0.010989         0.001916            5.736           0.000\n",
       "IRLTLT01USQ156N        -0.045634         0.005343           -8.541           0.000\n",
       "IR3TIB01USQ156N        -0.001031         0.004359           -0.236           0.813\n",
       "CPALTT01USQ657N        -0.000121         0.001999           -0.060           0.952\n",
       "USAGDPRQPSMEI           0.000803         0.000973            0.826           0.409\n",
       "LRUN64TTUSQ156S         0.002244         0.001907            1.177           0.239\n",
       "L1.SPY                  0.042651         0.019755            2.159           0.031\n",
       "L1.BND                 -0.287609         0.097871           -2.939           0.003\n",
       "L2.SPY                 -0.012428         0.017606           -0.706           0.480\n",
       "L2.BND                  0.094373         0.079839            1.182           0.237\n",
       "==================================================================================\n",
       "\n",
       "Correlation matrix of residuals\n",
       "            SPY       BND\n",
       "SPY    1.000000  0.075231\n",
       "BND    0.075231  1.000000\n",
       "\n"
      ]
     },
     "execution_count": 20,
     "metadata": {},
     "output_type": "execute_result"
    }
   ],
   "source": [
    "result.summary()"
   ]
  },
  {
   "cell_type": "code",
   "execution_count": null,
   "metadata": {},
   "outputs": [
    {
     "data": {
      "text/plain": [
       "True"
      ]
     },
     "execution_count": 21,
     "metadata": {},
     "output_type": "execute_result"
    }
   ],
   "source": [
    "result.is_stable()"
   ]
  },
  {
   "cell_type": "code",
   "execution_count": null,
   "metadata": {},
   "outputs": [],
   "source": []
  }
 ],
 "metadata": {
  "kernelspec": {
   "display_name": "portfolio-optimisation",
   "language": "python",
   "name": "python3"
  },
  "language_info": {
   "codemirror_mode": {
    "name": "ipython",
    "version": 3
   },
   "file_extension": ".py",
   "mimetype": "text/x-python",
   "name": "python",
   "nbconvert_exporter": "python",
   "pygments_lexer": "ipython3",
   "version": "3.9.12"
  },
  "orig_nbformat": 4
 },
 "nbformat": 4,
 "nbformat_minor": 2
}
