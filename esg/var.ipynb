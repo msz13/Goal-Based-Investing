{
 "cells": [
  {
   "cell_type": "code",
   "execution_count": 1,
   "metadata": {},
   "outputs": [],
   "source": [
    "import pandas as pd\n",
    "import pandas_datareader.data as web\n",
    "import datetime\n",
    "import statsmodels.api as sm\n",
    "from statsmodels.tsa.api import VAR\n",
    "from statsmodels.tsa.vector_ar.var_model import VARProcess\n",
    "import statsmodels.api as sm\n",
    "import numpy as np\n",
    "from preproccessing import loadStooqData, loadYahooData\n",
    "import matplotlib.pyplot as plt\n",
    "import seaborn as sns\n",
    "\n"
   ]
  },
  {
   "cell_type": "code",
   "execution_count": 22,
   "metadata": {},
   "outputs": [],
   "source": [
    "# long rate, short rate, cpi m, real gdp, stock index (SPASTT01USM661N), unempoyment\n",
    "#usdpln, investment growth, consumption growth, unemployment, working population growth,  tradevalue\n",
    "tickers = ['IRLTLT01USQ156N','IR3TIB01USQ156N','CPALTT01USQ657N','USAGDPRQPSMEI', 'LRUN64TTUSQ156S']"
   ]
  },
  {
   "cell_type": "code",
   "execution_count": 11,
   "metadata": {},
   "outputs": [],
   "source": [
    "tickers = ['IR3TIB01PLM156N','IR3TIB01USM156N','CPALTT01USM657N','CPALTT01PLM657N']"
   ]
  },
  {
   "cell_type": "code",
   "execution_count": 12,
   "metadata": {},
   "outputs": [],
   "source": [
    "start = datetime.datetime(2003, 1, 1)\n",
    "\n",
    "end = datetime.datetime(2023, 12, 31)\n",
    "\n",
    "source_data = web.DataReader(tickers, 'fred', start,end)\n"
   ]
  },
  {
   "cell_type": "code",
   "execution_count": 13,
   "metadata": {},
   "outputs": [
    {
     "data": {
      "text/html": [
       "<div>\n",
       "<style scoped>\n",
       "    .dataframe tbody tr th:only-of-type {\n",
       "        vertical-align: middle;\n",
       "    }\n",
       "\n",
       "    .dataframe tbody tr th {\n",
       "        vertical-align: top;\n",
       "    }\n",
       "\n",
       "    .dataframe thead th {\n",
       "        text-align: right;\n",
       "    }\n",
       "</style>\n",
       "<table border=\"1\" class=\"dataframe\">\n",
       "  <thead>\n",
       "    <tr style=\"text-align: right;\">\n",
       "      <th></th>\n",
       "      <th>IR3TIB01PLM156N</th>\n",
       "      <th>IR3TIB01USM156N</th>\n",
       "      <th>CPALTT01USM657N</th>\n",
       "      <th>CPALTT01PLM657N</th>\n",
       "    </tr>\n",
       "  </thead>\n",
       "  <tbody>\n",
       "    <tr>\n",
       "      <th>count</th>\n",
       "      <td>250.000000</td>\n",
       "      <td>249.000000</td>\n",
       "      <td>249.000000</td>\n",
       "      <td>249.000000</td>\n",
       "    </tr>\n",
       "    <tr>\n",
       "      <th>mean</th>\n",
       "      <td>3.704399</td>\n",
       "      <td>1.681446</td>\n",
       "      <td>0.214471</td>\n",
       "      <td>0.268273</td>\n",
       "    </tr>\n",
       "    <tr>\n",
       "      <th>std</th>\n",
       "      <td>2.001726</td>\n",
       "      <td>1.759111</td>\n",
       "      <td>0.401120</td>\n",
       "      <td>0.495623</td>\n",
       "    </tr>\n",
       "    <tr>\n",
       "      <th>min</th>\n",
       "      <td>0.210000</td>\n",
       "      <td>0.090000</td>\n",
       "      <td>-1.915290</td>\n",
       "      <td>-0.500000</td>\n",
       "    </tr>\n",
       "    <tr>\n",
       "      <th>25%</th>\n",
       "      <td>1.720000</td>\n",
       "      <td>0.240000</td>\n",
       "      <td>-0.025438</td>\n",
       "      <td>0.000000</td>\n",
       "    </tr>\n",
       "    <tr>\n",
       "      <th>50%</th>\n",
       "      <td>4.150000</td>\n",
       "      <td>1.050000</td>\n",
       "      <td>0.211082</td>\n",
       "      <td>0.200000</td>\n",
       "    </tr>\n",
       "    <tr>\n",
       "      <th>75%</th>\n",
       "      <td>5.137500</td>\n",
       "      <td>2.590000</td>\n",
       "      <td>0.476323</td>\n",
       "      <td>0.500000</td>\n",
       "    </tr>\n",
       "    <tr>\n",
       "      <th>max</th>\n",
       "      <td>7.510000</td>\n",
       "      <td>5.490000</td>\n",
       "      <td>1.373608</td>\n",
       "      <td>3.300000</td>\n",
       "    </tr>\n",
       "  </tbody>\n",
       "</table>\n",
       "</div>"
      ],
      "text/plain": [
       "       IR3TIB01PLM156N  IR3TIB01USM156N  CPALTT01USM657N  CPALTT01PLM657N\n",
       "count       250.000000       249.000000       249.000000       249.000000\n",
       "mean          3.704399         1.681446         0.214471         0.268273\n",
       "std           2.001726         1.759111         0.401120         0.495623\n",
       "min           0.210000         0.090000        -1.915290        -0.500000\n",
       "25%           1.720000         0.240000        -0.025438         0.000000\n",
       "50%           4.150000         1.050000         0.211082         0.200000\n",
       "75%           5.137500         2.590000         0.476323         0.500000\n",
       "max           7.510000         5.490000         1.373608         3.300000"
      ]
     },
     "execution_count": 13,
     "metadata": {},
     "output_type": "execute_result"
    }
   ],
   "source": [
    "source_data.describe()"
   ]
  },
  {
   "cell_type": "code",
   "execution_count": 14,
   "metadata": {},
   "outputs": [
    {
     "data": {
      "text/html": [
       "<div>\n",
       "<style scoped>\n",
       "    .dataframe tbody tr th:only-of-type {\n",
       "        vertical-align: middle;\n",
       "    }\n",
       "\n",
       "    .dataframe tbody tr th {\n",
       "        vertical-align: top;\n",
       "    }\n",
       "\n",
       "    .dataframe thead th {\n",
       "        text-align: right;\n",
       "    }\n",
       "</style>\n",
       "<table border=\"1\" class=\"dataframe\">\n",
       "  <thead>\n",
       "    <tr style=\"text-align: right;\">\n",
       "      <th></th>\n",
       "      <th>IR3TIB01PLM156N</th>\n",
       "      <th>IR3TIB01USM156N</th>\n",
       "      <th>CPALTT01USM657N</th>\n",
       "      <th>CPALTT01PLM657N</th>\n",
       "    </tr>\n",
       "  </thead>\n",
       "  <tbody>\n",
       "    <tr>\n",
       "      <th>IR3TIB01PLM156N</th>\n",
       "      <td>1.000000</td>\n",
       "      <td>0.459452</td>\n",
       "      <td>0.030939</td>\n",
       "      <td>0.201108</td>\n",
       "    </tr>\n",
       "    <tr>\n",
       "      <th>IR3TIB01USM156N</th>\n",
       "      <td>0.459452</td>\n",
       "      <td>1.000000</td>\n",
       "      <td>0.018848</td>\n",
       "      <td>0.054225</td>\n",
       "    </tr>\n",
       "    <tr>\n",
       "      <th>CPALTT01USM657N</th>\n",
       "      <td>0.030939</td>\n",
       "      <td>0.018848</td>\n",
       "      <td>1.000000</td>\n",
       "      <td>0.426388</td>\n",
       "    </tr>\n",
       "    <tr>\n",
       "      <th>CPALTT01PLM657N</th>\n",
       "      <td>0.201108</td>\n",
       "      <td>0.054225</td>\n",
       "      <td>0.426388</td>\n",
       "      <td>1.000000</td>\n",
       "    </tr>\n",
       "  </tbody>\n",
       "</table>\n",
       "</div>"
      ],
      "text/plain": [
       "                 IR3TIB01PLM156N  IR3TIB01USM156N  CPALTT01USM657N  \\\n",
       "IR3TIB01PLM156N         1.000000         0.459452         0.030939   \n",
       "IR3TIB01USM156N         0.459452         1.000000         0.018848   \n",
       "CPALTT01USM657N         0.030939         0.018848         1.000000   \n",
       "CPALTT01PLM657N         0.201108         0.054225         0.426388   \n",
       "\n",
       "                 CPALTT01PLM657N  \n",
       "IR3TIB01PLM156N         0.201108  \n",
       "IR3TIB01USM156N         0.054225  \n",
       "CPALTT01USM657N         0.426388  \n",
       "CPALTT01PLM657N         1.000000  "
      ]
     },
     "execution_count": 14,
     "metadata": {},
     "output_type": "execute_result"
    }
   ],
   "source": [
    "source_data.corr()"
   ]
  },
  {
   "cell_type": "code",
   "execution_count": 31,
   "metadata": {},
   "outputs": [],
   "source": [
    "data = pd.DataFrame({})\n",
    "data = source_data.diff().dropna()"
   ]
  },
  {
   "cell_type": "code",
   "execution_count": 32,
   "metadata": {},
   "outputs": [
    {
     "name": "stdout",
     "output_type": "stream",
     "text": [
      "<class 'pandas.core.frame.DataFrame'>\n",
      "DatetimeIndex: 108 entries, 1993-01-01 to 2019-10-01\n",
      "Data columns (total 5 columns):\n",
      " #   Column           Non-Null Count  Dtype  \n",
      "---  ------           --------------  -----  \n",
      " 0   IRLTLT01USQ156N  108 non-null    float64\n",
      " 1   IR3TIB01USQ156N  108 non-null    float64\n",
      " 2   CPALTT01USQ657N  108 non-null    float64\n",
      " 3   USAGDPRQPSMEI    108 non-null    float64\n",
      " 4   LRUN64TTUSQ156S  108 non-null    float64\n",
      "dtypes: float64(5)\n",
      "memory usage: 5.1 KB\n"
     ]
    }
   ],
   "source": [
    "data.info()"
   ]
  },
  {
   "cell_type": "code",
   "execution_count": 33,
   "metadata": {},
   "outputs": [
    {
     "data": {
      "text/html": [
       "<div>\n",
       "<style scoped>\n",
       "    .dataframe tbody tr th:only-of-type {\n",
       "        vertical-align: middle;\n",
       "    }\n",
       "\n",
       "    .dataframe tbody tr th {\n",
       "        vertical-align: top;\n",
       "    }\n",
       "\n",
       "    .dataframe thead th {\n",
       "        text-align: right;\n",
       "    }\n",
       "</style>\n",
       "<table border=\"1\" class=\"dataframe\">\n",
       "  <thead>\n",
       "    <tr style=\"text-align: right;\">\n",
       "      <th></th>\n",
       "      <th>IRLTLT01USQ156N</th>\n",
       "      <th>IR3TIB01USQ156N</th>\n",
       "      <th>CPALTT01USQ657N</th>\n",
       "      <th>USAGDPRQPSMEI</th>\n",
       "      <th>LRUN64TTUSQ156S</th>\n",
       "    </tr>\n",
       "  </thead>\n",
       "  <tbody>\n",
       "    <tr>\n",
       "      <th>count</th>\n",
       "      <td>108.000000</td>\n",
       "      <td>108.000000</td>\n",
       "      <td>108.000000</td>\n",
       "      <td>108.000000</td>\n",
       "      <td>108.000000</td>\n",
       "    </tr>\n",
       "    <tr>\n",
       "      <th>mean</th>\n",
       "      <td>-0.045833</td>\n",
       "      <td>-0.015154</td>\n",
       "      <td>-0.004599</td>\n",
       "      <td>-0.016759</td>\n",
       "      <td>-0.036467</td>\n",
       "    </tr>\n",
       "    <tr>\n",
       "      <th>std</th>\n",
       "      <td>0.363472</td>\n",
       "      <td>0.426360</td>\n",
       "      <td>0.786427</td>\n",
       "      <td>0.763854</td>\n",
       "      <td>0.286687</td>\n",
       "    </tr>\n",
       "    <tr>\n",
       "      <th>min</th>\n",
       "      <td>-0.863333</td>\n",
       "      <td>-1.793333</td>\n",
       "      <td>-3.991585</td>\n",
       "      <td>-2.782542</td>\n",
       "      <td>-0.554328</td>\n",
       "    </tr>\n",
       "    <tr>\n",
       "      <th>25%</th>\n",
       "      <td>-0.297500</td>\n",
       "      <td>-0.090833</td>\n",
       "      <td>-0.391209</td>\n",
       "      <td>-0.506764</td>\n",
       "      <td>-0.192249</td>\n",
       "    </tr>\n",
       "    <tr>\n",
       "      <th>50%</th>\n",
       "      <td>-0.026667</td>\n",
       "      <td>0.003333</td>\n",
       "      <td>-0.001563</td>\n",
       "      <td>-0.062177</td>\n",
       "      <td>-0.093655</td>\n",
       "    </tr>\n",
       "    <tr>\n",
       "      <th>75%</th>\n",
       "      <td>0.200833</td>\n",
       "      <td>0.152500</td>\n",
       "      <td>0.421124</td>\n",
       "      <td>0.368339</td>\n",
       "      <td>0.026220</td>\n",
       "    </tr>\n",
       "    <tr>\n",
       "      <th>max</th>\n",
       "      <td>1.016667</td>\n",
       "      <td>1.006667</td>\n",
       "      <td>2.330896</td>\n",
       "      <td>3.219333</td>\n",
       "      <td>1.411244</td>\n",
       "    </tr>\n",
       "  </tbody>\n",
       "</table>\n",
       "</div>"
      ],
      "text/plain": [
       "       IRLTLT01USQ156N  IR3TIB01USQ156N  CPALTT01USQ657N  USAGDPRQPSMEI  \\\n",
       "count       108.000000       108.000000       108.000000     108.000000   \n",
       "mean         -0.045833        -0.015154        -0.004599      -0.016759   \n",
       "std           0.363472         0.426360         0.786427       0.763854   \n",
       "min          -0.863333        -1.793333        -3.991585      -2.782542   \n",
       "25%          -0.297500        -0.090833        -0.391209      -0.506764   \n",
       "50%          -0.026667         0.003333        -0.001563      -0.062177   \n",
       "75%           0.200833         0.152500         0.421124       0.368339   \n",
       "max           1.016667         1.006667         2.330896       3.219333   \n",
       "\n",
       "       LRUN64TTUSQ156S  \n",
       "count       108.000000  \n",
       "mean         -0.036467  \n",
       "std           0.286687  \n",
       "min          -0.554328  \n",
       "25%          -0.192249  \n",
       "50%          -0.093655  \n",
       "75%           0.026220  \n",
       "max           1.411244  "
      ]
     },
     "execution_count": 33,
     "metadata": {},
     "output_type": "execute_result"
    }
   ],
   "source": [
    "data.describe() "
   ]
  },
  {
   "cell_type": "code",
   "execution_count": 37,
   "metadata": {},
   "outputs": [
    {
     "name": "stdout",
     "output_type": "stream",
     "text": [
      "IRLTLT01USQ156N:  0.0\n",
      "IR3TIB01USQ156N:  0.0\n",
      "CPALTT01USQ657N:  0.0\n",
      "USAGDPRQPSMEI:  0.0174\n",
      "LRUN64TTUSQ156S:  0.0264\n"
     ]
    }
   ],
   "source": [
    "for ticker in tickers:\n",
    "    print(ticker+ ': ', np.round(sm.tsa.stattools.adfuller(data[ticker])[1],4))"
   ]
  },
  {
   "cell_type": "code",
   "execution_count": 38,
   "metadata": {},
   "outputs": [
    {
     "name": "stderr",
     "output_type": "stream",
     "text": [
      "c:\\Users\\matsz\\miniconda3\\envs\\portfolio-optimisation\\lib\\site-packages\\statsmodels\\tsa\\base\\tsa_model.py:473: ValueWarning: No frequency information was provided, so inferred frequency QS-OCT will be used.\n",
      "  self._init_dates(dates, freq)\n"
     ]
    }
   ],
   "source": [
    "model = VAR(data)"
   ]
  },
  {
   "cell_type": "code",
   "execution_count": 39,
   "metadata": {},
   "outputs": [
    {
     "data": {
      "text/plain": [
       "  Summary of Regression Results   \n",
       "==================================\n",
       "Model:                         VAR\n",
       "Method:                        OLS\n",
       "Date:           Thu, 24, Aug, 2023\n",
       "Time:                     22:57:31\n",
       "--------------------------------------------------------------------\n",
       "No. of Equations:         5.00000    BIC:                   -8.26855\n",
       "Nobs:                     107.000    HQIC:                  -8.71415\n",
       "Log likelihood:          -246.672    FPE:                0.000121286\n",
       "AIC:                     -9.01794    Det(Omega_mle):     9.23292e-05\n",
       "--------------------------------------------------------------------\n",
       "Results for equation IRLTLT01USQ156N\n",
       "=====================================================================================\n",
       "                        coefficient       std. error           t-stat            prob\n",
       "-------------------------------------------------------------------------------------\n",
       "const                     -0.027420         0.034079           -0.805           0.421\n",
       "L1.IRLTLT01USQ156N         0.260983         0.105856            2.465           0.014\n",
       "L1.IR3TIB01USQ156N        -0.167831         0.104780           -1.602           0.109\n",
       "L1.CPALTT01USQ657N         0.019170         0.046094            0.416           0.677\n",
       "L1.USAGDPRQPSMEI           0.099331         0.045893            2.164           0.030\n",
       "L1.LRUN64TTUSQ156S         0.070118         0.144787            0.484           0.628\n",
       "=====================================================================================\n",
       "\n",
       "Results for equation IR3TIB01USQ156N\n",
       "=====================================================================================\n",
       "                        coefficient       std. error           t-stat            prob\n",
       "-------------------------------------------------------------------------------------\n",
       "const                      0.000325         0.031665            0.010           0.992\n",
       "L1.IRLTLT01USQ156N         0.233551         0.098356            2.375           0.018\n",
       "L1.IR3TIB01USQ156N         0.429064         0.097356            4.407           0.000\n",
       "L1.CPALTT01USQ657N         0.115240         0.042829            2.691           0.007\n",
       "L1.USAGDPRQPSMEI           0.088271         0.042642            2.070           0.038\n",
       "L1.LRUN64TTUSQ156S        -0.152641         0.134529           -1.135           0.257\n",
       "=====================================================================================\n",
       "\n",
       "Results for equation CPALTT01USQ657N\n",
       "=====================================================================================\n",
       "                        coefficient       std. error           t-stat            prob\n",
       "-------------------------------------------------------------------------------------\n",
       "const                     -0.032419         0.077189           -0.420           0.674\n",
       "L1.IRLTLT01USQ156N        -0.199269         0.239760           -0.831           0.406\n",
       "L1.IR3TIB01USQ156N        -0.412269         0.237323           -1.737           0.082\n",
       "L1.CPALTT01USQ657N        -0.147757         0.104402           -1.415           0.157\n",
       "L1.USAGDPRQPSMEI           0.050558         0.103946            0.486           0.627\n",
       "L1.LRUN64TTUSQ156S        -0.346154         0.327939           -1.056           0.291\n",
       "=====================================================================================\n",
       "\n",
       "Results for equation USAGDPRQPSMEI\n",
       "=====================================================================================\n",
       "                        coefficient       std. error           t-stat            prob\n",
       "-------------------------------------------------------------------------------------\n",
       "const                      0.005196         0.072383            0.072           0.943\n",
       "L1.IRLTLT01USQ156N         0.260814         0.224832            1.160           0.246\n",
       "L1.IR3TIB01USQ156N        -0.276641         0.222547           -1.243           0.214\n",
       "L1.CPALTT01USQ657N        -0.030756         0.097902           -0.314           0.753\n",
       "L1.USAGDPRQPSMEI           0.304995         0.097475            3.129           0.002\n",
       "L1.LRUN64TTUSQ156S        -0.061236         0.307521           -0.199           0.842\n",
       "=====================================================================================\n",
       "\n",
       "Results for equation LRUN64TTUSQ156S\n",
       "=====================================================================================\n",
       "                        coefficient       std. error           t-stat            prob\n",
       "-------------------------------------------------------------------------------------\n",
       "const                     -0.017571         0.020119           -0.873           0.382\n",
       "L1.IRLTLT01USQ156N        -0.006254         0.062491           -0.100           0.920\n",
       "L1.IR3TIB01USQ156N        -0.095299         0.061856           -1.541           0.123\n",
       "L1.CPALTT01USQ657N        -0.047992         0.027212           -1.764           0.078\n",
       "L1.USAGDPRQPSMEI          -0.073990         0.027093           -2.731           0.006\n",
       "L1.LRUN64TTUSQ156S         0.537877         0.085474            6.293           0.000\n",
       "=====================================================================================\n",
       "\n",
       "Correlation matrix of residuals\n",
       "                   IRLTLT01USQ156N  IR3TIB01USQ156N  CPALTT01USQ657N  USAGDPRQPSMEI  LRUN64TTUSQ156S\n",
       "IRLTLT01USQ156N           1.000000         0.417818         0.314916       0.110668        -0.267347\n",
       "IR3TIB01USQ156N           0.417818         1.000000        -0.046382       0.134017        -0.341171\n",
       "CPALTT01USQ657N           0.314916        -0.046382         1.000000       0.075020        -0.058073\n",
       "USAGDPRQPSMEI             0.110668         0.134017         0.075020       1.000000        -0.287527\n",
       "LRUN64TTUSQ156S          -0.267347        -0.341171        -0.058073      -0.287527         1.000000\n",
       "\n"
      ]
     },
     "execution_count": 39,
     "metadata": {},
     "output_type": "execute_result"
    }
   ],
   "source": [
    "result = model.fit(maxlags=1)\n",
    "result.summary()"
   ]
  },
  {
   "cell_type": "code",
   "execution_count": 40,
   "metadata": {},
   "outputs": [
    {
     "data": {
      "text/plain": [
       "True"
      ]
     },
     "execution_count": 40,
     "metadata": {},
     "output_type": "execute_result"
    }
   ],
   "source": [
    "result.is_stable()"
   ]
  },
  {
   "cell_type": "code",
   "execution_count": 41,
   "metadata": {},
   "outputs": [
    {
     "name": "stdout",
     "output_type": "stream",
     "text": [
      "<statsmodels.tsa.vector_ar.hypothesis_test_results.CausalityTestResults object. H_0: ['IRLTLT01USQ156N', 'IR3TIB01USQ156N', 'CPALTT01USQ657N', 'USAGDPRQPSMEI', 'LRUN64TTUSQ156S'] do not Granger-cause IRLTLT01USQ156N: reject at 5% significance level. Test statistic: 3.308, critical value: 2.232>, p-value: 0.006>\n",
      "<statsmodels.tsa.vector_ar.hypothesis_test_results.CausalityTestResults object. H_0: ['IRLTLT01USQ156N', 'IR3TIB01USQ156N', 'CPALTT01USQ657N', 'USAGDPRQPSMEI', 'LRUN64TTUSQ156S'] do not Granger-cause IR3TIB01USQ156N: reject at 5% significance level. Test statistic: 17.580, critical value: 2.232>, p-value: 0.000>\n",
      "<statsmodels.tsa.vector_ar.hypothesis_test_results.CausalityTestResults object. H_0: ['IRLTLT01USQ156N', 'IR3TIB01USQ156N', 'CPALTT01USQ657N', 'USAGDPRQPSMEI', 'LRUN64TTUSQ156S'] do not Granger-cause CPALTT01USQ657N: fail to reject at 5% significance level. Test statistic: 1.516, critical value: 2.232>, p-value: 0.183>\n",
      "<statsmodels.tsa.vector_ar.hypothesis_test_results.CausalityTestResults object. H_0: ['IRLTLT01USQ156N', 'IR3TIB01USQ156N', 'CPALTT01USQ657N', 'USAGDPRQPSMEI', 'LRUN64TTUSQ156S'] do not Granger-cause USAGDPRQPSMEI: reject at 5% significance level. Test statistic: 2.693, critical value: 2.232>, p-value: 0.021>\n",
      "<statsmodels.tsa.vector_ar.hypothesis_test_results.CausalityTestResults object. H_0: ['IRLTLT01USQ156N', 'IR3TIB01USQ156N', 'CPALTT01USQ657N', 'USAGDPRQPSMEI', 'LRUN64TTUSQ156S'] do not Granger-cause LRUN64TTUSQ156S: reject at 5% significance level. Test statistic: 21.931, critical value: 2.232>, p-value: 0.000>\n"
     ]
    }
   ],
   "source": [
    "for i in range(5):\n",
    "    print(result.test_causality(caused=i, causing=[0,1,2,3,4]))"
   ]
  },
  {
   "cell_type": "code",
   "execution_count": 42,
   "metadata": {},
   "outputs": [
    {
     "name": "stdout",
     "output_type": "stream",
     "text": [
      "FEVD for IRLTLT01USQ156N\n",
      "     IRLTLT01USQ156N  IR3TIB01USQ156N  CPALTT01USQ657N  USAGDPRQPSMEI  LRUN64TTUSQ156S\n",
      "0           1.000000         0.000000         0.000000       0.000000         0.000000\n",
      "1           0.943145         0.017683         0.002497       0.035429         0.001246\n",
      "2           0.923419         0.031138         0.004273       0.038774         0.002396\n",
      "3           0.916710         0.035491         0.005603       0.038606         0.003590\n",
      "4           0.913467         0.036290         0.006099       0.039797         0.004347\n",
      "5           0.911974         0.036338         0.006220       0.040771         0.004696\n",
      "6           0.911412         0.036316         0.006241       0.041207         0.004824\n",
      "7           0.911238         0.036308         0.006243       0.041348         0.004863\n",
      "8           0.911192         0.036306         0.006243       0.041384         0.004874\n",
      "9           0.911182         0.036306         0.006243       0.041392         0.004876\n",
      "\n",
      "FEVD for IR3TIB01USQ156N\n",
      "     IRLTLT01USQ156N  IR3TIB01USQ156N  CPALTT01USQ657N  USAGDPRQPSMEI  LRUN64TTUSQ156S\n",
      "0           0.174572         0.825428         0.000000       0.000000         0.000000\n",
      "1           0.310578         0.606130         0.047711       0.030821         0.004759\n",
      "2           0.326969         0.547346         0.049546       0.066220         0.009919\n",
      "3           0.326304         0.531268         0.048953       0.081399         0.012076\n",
      "4           0.325131         0.527866         0.048672       0.085633         0.012698\n",
      "5           0.324774         0.527337         0.048613       0.086448         0.012828\n",
      "6           0.324715         0.527279         0.048608       0.086550         0.012848\n",
      "7           0.324712         0.527274         0.048609       0.086556         0.012850\n",
      "8           0.324713         0.527273         0.048609       0.086555         0.012850\n",
      "9           0.324713         0.527272         0.048609       0.086555         0.012850\n",
      "\n",
      "FEVD for CPALTT01USQ657N\n",
      "     IRLTLT01USQ156N  IR3TIB01USQ156N  CPALTT01USQ657N  USAGDPRQPSMEI  LRUN64TTUSQ156S\n",
      "0           0.099172         0.038367         0.862461       0.000000         0.000000\n",
      "1           0.121683         0.044755         0.823077       0.004325         0.006159\n",
      "2           0.124234         0.044840         0.819854       0.004531         0.006541\n",
      "3           0.124447         0.044843         0.819402       0.004692         0.006616\n",
      "4           0.124433         0.044904         0.819313       0.004706         0.006645\n",
      "5           0.124442         0.044932         0.819257       0.004708         0.006660\n",
      "6           0.124452         0.044938         0.819222       0.004719         0.006668\n",
      "7           0.124456         0.044939         0.819205       0.004728         0.006672\n",
      "8           0.124457         0.044939         0.819199       0.004732         0.006673\n",
      "9           0.124457         0.044939         0.819197       0.004734         0.006674\n",
      "\n",
      "FEVD for USAGDPRQPSMEI\n",
      "     IRLTLT01USQ156N  IR3TIB01USQ156N  CPALTT01USQ657N  USAGDPRQPSMEI  LRUN64TTUSQ156S\n",
      "0           0.012247         0.009335         0.004049       0.974369         0.000000\n",
      "1           0.020111         0.012813         0.003755       0.963110         0.000211\n",
      "2           0.019834         0.017871         0.004151       0.957913         0.000230\n",
      "3           0.020770         0.019928         0.004622       0.954279         0.000400\n",
      "4           0.021565         0.020408         0.004827       0.952619         0.000581\n",
      "5           0.021878         0.020471         0.004883       0.952083         0.000685\n",
      "6           0.021959         0.020472         0.004894       0.951947         0.000728\n",
      "7           0.021975         0.020470         0.004895       0.951918         0.000742\n",
      "8           0.021977         0.020470         0.004895       0.951912         0.000746\n",
      "9           0.021977         0.020470         0.004895       0.951911         0.000747\n",
      "\n",
      "FEVD for LRUN64TTUSQ156S\n",
      "     IRLTLT01USQ156N  IR3TIB01USQ156N  CPALTT01USQ657N  USAGDPRQPSMEI  LRUN64TTUSQ156S\n",
      "0           0.071475         0.063792         0.000632       0.055210         0.808891\n",
      "1           0.103446         0.083361         0.025969       0.130189         0.657035\n",
      "2           0.118903         0.083582         0.029875       0.170121         0.597519\n",
      "3           0.124964         0.081211         0.030675       0.188895         0.574255\n",
      "4           0.126555         0.079814         0.030699       0.196800         0.566133\n",
      "5           0.126809         0.079280         0.030637       0.199656         0.563618\n",
      "6           0.126806         0.079119         0.030605       0.200547         0.562923\n",
      "7           0.126788         0.079077         0.030593       0.200792         0.562750\n",
      "8           0.126780         0.079068         0.030590       0.200852         0.562710\n",
      "9           0.126778         0.079066         0.030589       0.200866         0.562701\n",
      "\n",
      "\n"
     ]
    }
   ],
   "source": [
    "result.fevd().summary()"
   ]
  },
  {
   "cell_type": "code",
   "execution_count": 25,
   "metadata": {},
   "outputs": [],
   "source": [
    "sim = result.simulate_var(steps=None,offset=None,nsimulations=100)"
   ]
  },
  {
   "cell_type": "code",
   "execution_count": 12,
   "metadata": {},
   "outputs": [],
   "source": [
    "spy_source = loadStooqData('^SPX','1992-07-1')"
   ]
  },
  {
   "cell_type": "code",
   "execution_count": 13,
   "metadata": {},
   "outputs": [],
   "source": [
    "spy = spy_source\n",
    "spy.index = pd.to_datetime(spy.index)\n",
    "spy = spy.resample('QS').last()\n",
    "spy = spy.loc['1992-10-01':'2023-04-02']\n",
    "spy = np.log(spy/spy.shift()).dropna()\n",
    "#spy = sm.add_constant(spy, prepend=False)\n",
    "#exog = sm.add_constant(source_data, prepend=False)"
   ]
  },
  {
   "cell_type": "code",
   "execution_count": 14,
   "metadata": {},
   "outputs": [],
   "source": [
    "bond_source = pd.read_csv('VBMFX.csv')"
   ]
  },
  {
   "cell_type": "code",
   "execution_count": 15,
   "metadata": {},
   "outputs": [],
   "source": [
    "bond = bond_source\n",
    "bond = bond.set_index(bond['Date'])\n",
    "bond = bond['Adj Close']\n",
    "bond.index = pd.to_datetime(bond.index)\n",
    "bond = bond.resample('QS').last()\n",
    "bond = bond.loc['1992-10-01':'2023-04-02']\n",
    "bond = np.log(bond/bond.shift(1)).dropna()\n"
   ]
  },
  {
   "cell_type": "code",
   "execution_count": 16,
   "metadata": {},
   "outputs": [],
   "source": [
    "assets = pd.concat([spy,bond],axis=1)\n",
    "assets.columns = ['SPY', 'BND']\n",
    "#assets = assets.diff().dropna()"
   ]
  },
  {
   "cell_type": "code",
   "execution_count": 17,
   "metadata": {},
   "outputs": [
    {
     "data": {
      "text/plain": [
       "(-10.562787407711081,\n",
       " 7.65154907320737e-19,\n",
       " 0,\n",
       " 121,\n",
       " {'1%': -3.485585145896754,\n",
       "  '5%': -2.885738566292665,\n",
       "  '10%': -2.5796759080663887},\n",
       " -220.56991768257512)"
      ]
     },
     "execution_count": 17,
     "metadata": {},
     "output_type": "execute_result"
    }
   ],
   "source": [
    "#np.round(sm.tsa.stattools.adfuller(assets['BND'])[1],4)\n",
    "sm.tsa.stattools.adfuller(assets['SPY'])"
   ]
  },
  {
   "cell_type": "code",
   "execution_count": 18,
   "metadata": {},
   "outputs": [
    {
     "name": "stderr",
     "output_type": "stream",
     "text": [
      "c:\\Users\\matsz\\miniconda3\\envs\\portfolio-optimisation\\lib\\site-packages\\statsmodels\\tsa\\base\\tsa_model.py:473: ValueWarning: No frequency information was provided, so inferred frequency QS-OCT will be used.\n",
      "  self._init_dates(dates, freq)\n"
     ]
    }
   ],
   "source": [
    "model_a = VAR(assets,exog=data)"
   ]
  },
  {
   "cell_type": "code",
   "execution_count": 19,
   "metadata": {},
   "outputs": [],
   "source": [
    "result = model_a.fit(2)"
   ]
  },
  {
   "cell_type": "code",
   "execution_count": 20,
   "metadata": {},
   "outputs": [
    {
     "data": {
      "text/plain": [
       "  Summary of Regression Results   \n",
       "==================================\n",
       "Model:                         VAR\n",
       "Method:                        OLS\n",
       "Date:           Thu, 24, Aug, 2023\n",
       "Time:                     20:36:56\n",
       "--------------------------------------------------------------------\n",
       "No. of Equations:         2.00000    BIC:                   -12.8087\n",
       "Nobs:                     120.000    HQIC:                  -13.0846\n",
       "Log likelihood:           475.853    FPE:                1.72112e-06\n",
       "AIC:                     -13.2733    Det(Omega_mle):     1.46651e-06\n",
       "--------------------------------------------------------------------\n",
       "Results for equation SPY\n",
       "==================================================================================\n",
       "                     coefficient       std. error           t-stat            prob\n",
       "----------------------------------------------------------------------------------\n",
       "const                  -0.000419         0.009632           -0.043           0.965\n",
       "IRLTLT01USQ156N         0.066201         0.026863            2.464           0.014\n",
       "IR3TIB01USQ156N         0.035644         0.021916            1.626           0.104\n",
       "CPALTT01USQ657N         0.002732         0.010053            0.272           0.786\n",
       "USAGDPRQPSMEI           0.010983         0.004890            2.246           0.025\n",
       "LRUN64TTUSQ156S         0.020644         0.009587            2.153           0.031\n",
       "L1.SPY                 -0.019320         0.099323           -0.195           0.846\n",
       "L1.BND                  1.771895         0.492078            3.601           0.000\n",
       "L2.SPY                  0.036122         0.088522            0.408           0.683\n",
       "L2.BND                  0.153211         0.401416            0.382           0.703\n",
       "==================================================================================\n",
       "\n",
       "Results for equation BND\n",
       "==================================================================================\n",
       "                     coefficient       std. error           t-stat            prob\n",
       "----------------------------------------------------------------------------------\n",
       "const                   0.010989         0.001916            5.736           0.000\n",
       "IRLTLT01USQ156N        -0.045634         0.005343           -8.541           0.000\n",
       "IR3TIB01USQ156N        -0.001031         0.004359           -0.236           0.813\n",
       "CPALTT01USQ657N        -0.000121         0.001999           -0.060           0.952\n",
       "USAGDPRQPSMEI           0.000803         0.000973            0.826           0.409\n",
       "LRUN64TTUSQ156S         0.002244         0.001907            1.177           0.239\n",
       "L1.SPY                  0.042651         0.019755            2.159           0.031\n",
       "L1.BND                 -0.287609         0.097871           -2.939           0.003\n",
       "L2.SPY                 -0.012428         0.017606           -0.706           0.480\n",
       "L2.BND                  0.094373         0.079839            1.182           0.237\n",
       "==================================================================================\n",
       "\n",
       "Correlation matrix of residuals\n",
       "            SPY       BND\n",
       "SPY    1.000000  0.075231\n",
       "BND    0.075231  1.000000\n",
       "\n"
      ]
     },
     "execution_count": 20,
     "metadata": {},
     "output_type": "execute_result"
    }
   ],
   "source": [
    "result.summary()"
   ]
  },
  {
   "cell_type": "code",
   "execution_count": 21,
   "metadata": {},
   "outputs": [
    {
     "data": {
      "text/plain": [
       "True"
      ]
     },
     "execution_count": 21,
     "metadata": {},
     "output_type": "execute_result"
    }
   ],
   "source": [
    "result.is_stable()"
   ]
  },
  {
   "cell_type": "code",
   "execution_count": null,
   "metadata": {},
   "outputs": [],
   "source": []
  }
 ],
 "metadata": {
  "kernelspec": {
   "display_name": "portfolio-optimisation",
   "language": "python",
   "name": "python3"
  },
  "language_info": {
   "codemirror_mode": {
    "name": "ipython",
    "version": 3
   },
   "file_extension": ".py",
   "mimetype": "text/x-python",
   "name": "python",
   "nbconvert_exporter": "python",
   "pygments_lexer": "ipython3",
   "version": "3.9.12"
  },
  "orig_nbformat": 4
 },
 "nbformat": 4,
 "nbformat_minor": 2
}
