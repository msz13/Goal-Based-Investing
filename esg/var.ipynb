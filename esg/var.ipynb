{
 "cells": [
  {
   "cell_type": "code",
   "execution_count": 1,
   "metadata": {},
   "outputs": [],
   "source": [
    "import pandas as pd\n",
    "import pandas_datareader.data as web\n",
    "import datetime\n",
    "import statsmodels.api as sm\n",
    "from statsmodels.tsa.api import VAR\n",
    "from statsmodels.tsa.vector_ar.var_model import VARProcess\n",
    "import statsmodels.api as sm\n",
    "import numpy as np\n",
    "from preproccessing import loadStooqData, loadYahooData\n",
    "\n"
   ]
  },
  {
   "cell_type": "code",
   "execution_count": 2,
   "metadata": {},
   "outputs": [],
   "source": [
    "# long rate, short rate, cpi m, real gdp, stock index (SPASTT01USM661N), usdpln, investment growth, consumption growth, unemployment, working population growth,  tradevalue\n",
    "tickers = ['IRLTLT01USQ156N','IR3TIB01USQ156N','CPALTT01USQ657N','USAGDPRQPSMEI', 'LRUN64TTUSQ156S']"
   ]
  },
  {
   "cell_type": "code",
   "execution_count": 3,
   "metadata": {},
   "outputs": [],
   "source": [
    "start = datetime.datetime(1992, 10, 1)\n",
    "\n",
    "end = datetime.datetime(2023, 7, 31)\n",
    "\n",
    "source_data = web.DataReader(tickers, 'fred', start,end)\n"
   ]
  },
  {
   "cell_type": "code",
   "execution_count": 4,
   "metadata": {},
   "outputs": [],
   "source": [
    "data = pd.DataFrame({})\n",
    "data = source_data.diff().dropna()"
   ]
  },
  {
   "cell_type": "code",
   "execution_count": 5,
   "metadata": {},
   "outputs": [
    {
     "name": "stdout",
     "output_type": "stream",
     "text": [
      "<class 'pandas.core.frame.DataFrame'>\n",
      "DatetimeIndex: 122 entries, 1993-01-01 to 2023-04-01\n",
      "Data columns (total 5 columns):\n",
      " #   Column           Non-Null Count  Dtype  \n",
      "---  ------           --------------  -----  \n",
      " 0   IRLTLT01USQ156N  122 non-null    float64\n",
      " 1   IR3TIB01USQ156N  122 non-null    float64\n",
      " 2   CPALTT01USQ657N  122 non-null    float64\n",
      " 3   USAGDPRQPSMEI    122 non-null    float64\n",
      " 4   LRUN64TTUSQ156S  122 non-null    float64\n",
      "dtypes: float64(5)\n",
      "memory usage: 5.7 KB\n"
     ]
    }
   ],
   "source": [
    "data.info()"
   ]
  },
  {
   "cell_type": "code",
   "execution_count": 6,
   "metadata": {},
   "outputs": [
    {
     "name": "stdout",
     "output_type": "stream",
     "text": [
      "IRLTLT01USQ156N:  0.0\n",
      "IR3TIB01USQ156N:  0.0\n",
      "CPALTT01USQ657N:  0.0\n",
      "USAGDPRQPSMEI:  0.0\n",
      "LRUN64TTUSQ156S:  0.0\n"
     ]
    }
   ],
   "source": [
    "for ticker in tickers:\n",
    "    print(ticker+ ': ', np.round(sm.tsa.stattools.adfuller(data[ticker])[1],4))"
   ]
  },
  {
   "cell_type": "code",
   "execution_count": 7,
   "metadata": {},
   "outputs": [
    {
     "name": "stderr",
     "output_type": "stream",
     "text": [
      "c:\\Users\\matsz\\miniconda3\\envs\\portfolio-optimisation\\lib\\site-packages\\statsmodels\\tsa\\base\\tsa_model.py:473: ValueWarning: No frequency information was provided, so inferred frequency QS-OCT will be used.\n",
      "  self._init_dates(dates, freq)\n"
     ]
    }
   ],
   "source": [
    "model = VAR(data)"
   ]
  },
  {
   "cell_type": "code",
   "execution_count": 8,
   "metadata": {},
   "outputs": [
    {
     "data": {
      "text/plain": [
       "  Summary of Regression Results   \n",
       "==================================\n",
       "Model:                         VAR\n",
       "Method:                        OLS\n",
       "Date:           Thu, 17, Aug, 2023\n",
       "Time:                     22:21:13\n",
       "--------------------------------------------------------------------\n",
       "No. of Equations:         5.00000    BIC:                   -3.52775\n",
       "Nobs:                     121.000    HQIC:                  -3.93940\n",
       "Log likelihood:          -573.092    FPE:                  0.0146911\n",
       "AIC:                     -4.22092    Det(Omega_mle):       0.0115335\n",
       "--------------------------------------------------------------------\n",
       "Results for equation IRLTLT01USQ156N\n",
       "=====================================================================================\n",
       "                        coefficient       std. error           t-stat            prob\n",
       "-------------------------------------------------------------------------------------\n",
       "const                     -0.013268         0.033415           -0.397           0.691\n",
       "L1.IRLTLT01USQ156N         0.328011         0.105031            3.123           0.002\n",
       "L1.IR3TIB01USQ156N        -0.128768         0.087872           -1.465           0.143\n",
       "L1.CPALTT01USQ657N         0.002428         0.046280            0.052           0.958\n",
       "L1.USAGDPRQPSMEI          -0.005859         0.022648           -0.259           0.796\n",
       "L1.LRUN64TTUSQ156S        -0.022277         0.042254           -0.527           0.598\n",
       "=====================================================================================\n",
       "\n",
       "Results for equation IR3TIB01USQ156N\n",
       "=====================================================================================\n",
       "                        coefficient       std. error           t-stat            prob\n",
       "-------------------------------------------------------------------------------------\n",
       "const                      0.019786         0.032327            0.612           0.541\n",
       "L1.IRLTLT01USQ156N         0.294998         0.101613            2.903           0.004\n",
       "L1.IR3TIB01USQ156N         0.574850         0.085013            6.762           0.000\n",
       "L1.CPALTT01USQ657N         0.113669         0.044774            2.539           0.011\n",
       "L1.USAGDPRQPSMEI          -0.002115         0.021911           -0.097           0.923\n",
       "L1.LRUN64TTUSQ156S         0.072655         0.040879            1.777           0.076\n",
       "=====================================================================================\n",
       "\n",
       "Results for equation CPALTT01USQ657N\n",
       "=====================================================================================\n",
       "                        coefficient       std. error           t-stat            prob\n",
       "-------------------------------------------------------------------------------------\n",
       "const                      0.006246         0.072531            0.086           0.931\n",
       "L1.IRLTLT01USQ156N        -0.089733         0.227982           -0.394           0.694\n",
       "L1.IR3TIB01USQ156N        -0.307884         0.190737           -1.614           0.106\n",
       "L1.CPALTT01USQ657N        -0.161019         0.100456           -1.603           0.109\n",
       "L1.USAGDPRQPSMEI          -0.001366         0.049159           -0.028           0.978\n",
       "L1.LRUN64TTUSQ156S         0.059031         0.091718            0.644           0.520\n",
       "=====================================================================================\n",
       "\n",
       "Results for equation USAGDPRQPSMEI\n",
       "=====================================================================================\n",
       "                        coefficient       std. error           t-stat            prob\n",
       "-------------------------------------------------------------------------------------\n",
       "const                      0.023322         0.162115            0.144           0.886\n",
       "L1.IRLTLT01USQ156N         0.847967         0.509566            1.664           0.096\n",
       "L1.IR3TIB01USQ156N        -0.357220         0.426319           -0.838           0.402\n",
       "L1.CPALTT01USQ657N        -0.093865         0.224530           -0.418           0.676\n",
       "L1.USAGDPRQPSMEI          -0.142990         0.109877           -1.301           0.193\n",
       "L1.LRUN64TTUSQ156S         0.210310         0.205000            1.026           0.305\n",
       "=====================================================================================\n",
       "\n",
       "Results for equation LRUN64TTUSQ156S\n",
       "=====================================================================================\n",
       "                        coefficient       std. error           t-stat            prob\n",
       "-------------------------------------------------------------------------------------\n",
       "const                     -0.044435         0.090749           -0.490           0.624\n",
       "L1.IRLTLT01USQ156N        -0.183609         0.285246           -0.644           0.520\n",
       "L1.IR3TIB01USQ156N        -0.233336         0.238646           -0.978           0.328\n",
       "L1.CPALTT01USQ657N        -0.020310         0.125688           -0.162           0.872\n",
       "L1.USAGDPRQPSMEI          -0.073718         0.061507           -1.199           0.231\n",
       "L1.LRUN64TTUSQ156S        -0.316017         0.114756           -2.754           0.006\n",
       "=====================================================================================\n",
       "\n",
       "Correlation matrix of residuals\n",
       "                   IRLTLT01USQ156N  IR3TIB01USQ156N  CPALTT01USQ657N  USAGDPRQPSMEI  LRUN64TTUSQ156S\n",
       "IRLTLT01USQ156N           1.000000         0.503481         0.309929       0.179850        -0.219470\n",
       "IR3TIB01USQ156N           0.503481         1.000000         0.004077       0.208595        -0.396795\n",
       "CPALTT01USQ657N           0.309929         0.004077         1.000000       0.238801        -0.169640\n",
       "USAGDPRQPSMEI             0.179850         0.208595         0.238801       1.000000        -0.557477\n",
       "LRUN64TTUSQ156S          -0.219470        -0.396795        -0.169640      -0.557477         1.000000\n",
       "\n"
      ]
     },
     "execution_count": 8,
     "metadata": {},
     "output_type": "execute_result"
    }
   ],
   "source": [
    "result = model.fit(maxlags=1)\n",
    "result.summary()"
   ]
  },
  {
   "cell_type": "code",
   "execution_count": 9,
   "metadata": {},
   "outputs": [
    {
     "data": {
      "text/plain": [
       "True"
      ]
     },
     "execution_count": 9,
     "metadata": {},
     "output_type": "execute_result"
    }
   ],
   "source": [
    "result.is_stable()"
   ]
  },
  {
   "cell_type": "code",
   "execution_count": 10,
   "metadata": {},
   "outputs": [
    {
     "name": "stdout",
     "output_type": "stream",
     "text": [
      "<statsmodels.tsa.vector_ar.hypothesis_test_results.CausalityTestResults object. H_0: ['IRLTLT01USQ156N', 'IR3TIB01USQ156N', 'CPALTT01USQ657N', 'USAGDPRQPSMEI', 'LRUN64TTUSQ156S'] do not Granger-cause IRLTLT01USQ156N: reject at 5% significance level. Test statistic: 2.321, critical value: 2.230>, p-value: 0.042>\n",
      "<statsmodels.tsa.vector_ar.hypothesis_test_results.CausalityTestResults object. H_0: ['IRLTLT01USQ156N', 'IR3TIB01USQ156N', 'CPALTT01USQ657N', 'USAGDPRQPSMEI', 'LRUN64TTUSQ156S'] do not Granger-cause IR3TIB01USQ156N: reject at 5% significance level. Test statistic: 19.821, critical value: 2.230>, p-value: 0.000>\n",
      "<statsmodels.tsa.vector_ar.hypothesis_test_results.CausalityTestResults object. H_0: ['IRLTLT01USQ156N', 'IR3TIB01USQ156N', 'CPALTT01USQ657N', 'USAGDPRQPSMEI', 'LRUN64TTUSQ156S'] do not Granger-cause CPALTT01USQ657N: fail to reject at 5% significance level. Test statistic: 2.027, critical value: 2.230>, p-value: 0.073>\n",
      "<statsmodels.tsa.vector_ar.hypothesis_test_results.CausalityTestResults object. H_0: ['IRLTLT01USQ156N', 'IR3TIB01USQ156N', 'CPALTT01USQ657N', 'USAGDPRQPSMEI', 'LRUN64TTUSQ156S'] do not Granger-cause USAGDPRQPSMEI: fail to reject at 5% significance level. Test statistic: 1.815, critical value: 2.230>, p-value: 0.108>\n",
      "<statsmodels.tsa.vector_ar.hypothesis_test_results.CausalityTestResults object. H_0: ['IRLTLT01USQ156N', 'IR3TIB01USQ156N', 'CPALTT01USQ657N', 'USAGDPRQPSMEI', 'LRUN64TTUSQ156S'] do not Granger-cause LRUN64TTUSQ156S: fail to reject at 5% significance level. Test statistic: 1.702, critical value: 2.230>, p-value: 0.132>\n"
     ]
    }
   ],
   "source": [
    "for i in range(5):\n",
    "    print(result.test_causality(caused=i, causing=[0,1,2,3,4]))"
   ]
  },
  {
   "cell_type": "code",
   "execution_count": 11,
   "metadata": {},
   "outputs": [
    {
     "name": "stdout",
     "output_type": "stream",
     "text": [
      "FEVD for IRLTLT01USQ156N\n",
      "     IRLTLT01USQ156N  IR3TIB01USQ156N  CPALTT01USQ657N  USAGDPRQPSMEI  LRUN64TTUSQ156S\n",
      "0           1.000000         0.000000         0.000000       0.000000         0.000000\n",
      "1           0.990037         0.007858         0.000074       0.000001         0.002030\n",
      "2           0.983620         0.013152         0.000475       0.000269         0.002483\n",
      "3           0.981328         0.014915         0.000727       0.000374         0.002656\n",
      "4           0.980768         0.015323         0.000810       0.000412         0.002688\n",
      "5           0.980665         0.015393         0.000830       0.000419         0.002692\n",
      "6           0.980651         0.015402         0.000834       0.000421         0.002693\n",
      "7           0.980649         0.015402         0.000835       0.000421         0.002693\n",
      "8           0.980649         0.015402         0.000835       0.000421         0.002693\n",
      "9           0.980649         0.015402         0.000835       0.000421         0.002693\n",
      "\n",
      "FEVD for IR3TIB01USQ156N\n",
      "     IRLTLT01USQ156N  IR3TIB01USQ156N  CPALTT01USQ657N  USAGDPRQPSMEI  LRUN64TTUSQ156S\n",
      "0           0.253493         0.746507         0.000000       0.000000         0.000000\n",
      "1           0.400041         0.552788         0.025016       0.006637         0.015518\n",
      "2           0.440306         0.510848         0.025920       0.008120         0.014806\n",
      "3           0.450350         0.500837         0.026081       0.008140         0.014593\n",
      "4           0.452377         0.498873         0.026063       0.008145         0.014541\n",
      "5           0.452684         0.498583         0.026057       0.008143         0.014533\n",
      "6           0.452714         0.498556         0.026056       0.008142         0.014532\n",
      "7           0.452714         0.498555         0.026056       0.008142         0.014532\n",
      "8           0.452714         0.498555         0.026056       0.008142         0.014532\n",
      "9           0.452714         0.498555         0.026056       0.008142         0.014532\n",
      "\n",
      "FEVD for CPALTT01USQ657N\n",
      "     IRLTLT01USQ156N  IR3TIB01USQ156N  CPALTT01USQ657N  USAGDPRQPSMEI  LRUN64TTUSQ156S\n",
      "0           0.096056         0.030936         0.873008       0.000000         0.000000\n",
      "1           0.118410         0.041067         0.836212       0.001255         0.003055\n",
      "2           0.122492         0.041474         0.829236       0.001697         0.005102\n",
      "3           0.124104         0.041619         0.827410       0.001728         0.005138\n",
      "4           0.124378         0.041621         0.827125       0.001728         0.005148\n",
      "5           0.124424         0.041619         0.827080       0.001729         0.005148\n",
      "6           0.124429         0.041619         0.827076       0.001729         0.005148\n",
      "7           0.124429         0.041619         0.827075       0.001729         0.005148\n",
      "8           0.124429         0.041619         0.827075       0.001729         0.005148\n",
      "9           0.124429         0.041619         0.827075       0.001729         0.005148\n",
      "\n",
      "FEVD for USAGDPRQPSMEI\n",
      "     IRLTLT01USQ156N  IR3TIB01USQ156N  CPALTT01USQ657N  USAGDPRQPSMEI  LRUN64TTUSQ156S\n",
      "0           0.032346         0.018666         0.049125       0.899863         0.000000\n",
      "1           0.035368         0.029294         0.053622       0.873915         0.007800\n",
      "2           0.035225         0.029513         0.053382       0.870338         0.011541\n",
      "3           0.035871         0.029957         0.053422       0.869120         0.011631\n",
      "4           0.036113         0.030011         0.053417       0.868791         0.011668\n",
      "5           0.036199         0.030020         0.053414       0.868701         0.011666\n",
      "6           0.036217         0.030021         0.053414       0.868683         0.011666\n",
      "7           0.036220         0.030021         0.053414       0.868680         0.011666\n",
      "8           0.036220         0.030021         0.053414       0.868679         0.011666\n",
      "9           0.036220         0.030021         0.053414       0.868679         0.011666\n",
      "\n",
      "FEVD for LRUN64TTUSQ156S\n",
      "     IRLTLT01USQ156N  IR3TIB01USQ156N  CPALTT01USQ657N  USAGDPRQPSMEI  LRUN64TTUSQ156S\n",
      "0           0.048167         0.109798         0.029288       0.210091         0.602656\n",
      "1           0.049640         0.103323         0.027570       0.197507         0.621961\n",
      "2           0.052219         0.102833         0.027418       0.196918         0.620612\n",
      "3           0.052356         0.102796         0.027426       0.196943         0.620478\n",
      "4           0.052378         0.102794         0.027426       0.196947         0.620455\n",
      "5           0.052378         0.102794         0.027426       0.196947         0.620454\n",
      "6           0.052378         0.102795         0.027426       0.196947         0.620454\n",
      "7           0.052378         0.102795         0.027426       0.196947         0.620453\n",
      "8           0.052378         0.102795         0.027426       0.196947         0.620453\n",
      "9           0.052378         0.102795         0.027426       0.196947         0.620453\n",
      "\n",
      "\n"
     ]
    }
   ],
   "source": [
    "result.fevd().summary()"
   ]
  },
  {
   "cell_type": "code",
   "execution_count": 90,
   "metadata": {},
   "outputs": [],
   "source": [
    "spy_source = loadStooqData('^SPX','1992-07-1')"
   ]
  },
  {
   "cell_type": "code",
   "execution_count": 94,
   "metadata": {},
   "outputs": [],
   "source": [
    "spy = spy_source\n",
    "spy.index = pd.to_datetime(spy.index)\n",
    "spy = spy.resample('QS').last()\n",
    "spy = spy.loc['1992-10-01':'2023-04-02']\n",
    "spy = np.log(spy/spy.shift()).dropna()\n",
    "#spy = sm.add_constant(spy, prepend=False)\n",
    "#exog = sm.add_constant(source_data, prepend=False)"
   ]
  },
  {
   "cell_type": "code",
   "execution_count": 72,
   "metadata": {},
   "outputs": [],
   "source": [
    "bond_source = pd.read_csv('VBMFX.csv')"
   ]
  },
  {
   "cell_type": "code",
   "execution_count": 95,
   "metadata": {},
   "outputs": [],
   "source": [
    "bond = bond_source\n",
    "bond = bond.set_index(bond['Date'])\n",
    "bond = bond['Adj Close']\n",
    "bond.index = pd.to_datetime(bond.index)\n",
    "bond = bond.resample('QS').last()\n",
    "bond = bond.loc['1992-10-01':'2023-04-02']\n",
    "bond = np.log(bond/bond.shift(1)).dropna()\n"
   ]
  },
  {
   "cell_type": "code",
   "execution_count": 97,
   "metadata": {},
   "outputs": [],
   "source": [
    "assets = pd.concat([spy,bond],axis=1)\n",
    "assets.columns = ['SPY', 'BND']\n",
    "#assets = assets.diff().dropna()"
   ]
  },
  {
   "cell_type": "code",
   "execution_count": 98,
   "metadata": {},
   "outputs": [
    {
     "data": {
      "text/plain": [
       "(-10.562787407711081,\n",
       " 7.65154907320737e-19,\n",
       " 0,\n",
       " 121,\n",
       " {'1%': -3.485585145896754,\n",
       "  '5%': -2.885738566292665,\n",
       "  '10%': -2.5796759080663887},\n",
       " -220.56991768257512)"
      ]
     },
     "execution_count": 98,
     "metadata": {},
     "output_type": "execute_result"
    }
   ],
   "source": [
    "#np.round(sm.tsa.stattools.adfuller(assets['BND'])[1],4)\n",
    "sm.tsa.stattools.adfuller(assets['SPY'])"
   ]
  },
  {
   "cell_type": "code",
   "execution_count": 99,
   "metadata": {},
   "outputs": [
    {
     "name": "stderr",
     "output_type": "stream",
     "text": [
      "c:\\Users\\matsz\\miniconda3\\envs\\portfolio-optimisation\\lib\\site-packages\\statsmodels\\tsa\\base\\tsa_model.py:473: ValueWarning: No frequency information was provided, so inferred frequency QS-OCT will be used.\n",
      "  self._init_dates(dates, freq)\n"
     ]
    }
   ],
   "source": [
    "model_a = VAR(assets,exog=data)"
   ]
  },
  {
   "cell_type": "code",
   "execution_count": 100,
   "metadata": {},
   "outputs": [],
   "source": [
    "result = model_a.fit(2)"
   ]
  },
  {
   "cell_type": "code",
   "execution_count": 101,
   "metadata": {},
   "outputs": [
    {
     "data": {
      "text/plain": [
       "  Summary of Regression Results   \n",
       "==================================\n",
       "Model:                         VAR\n",
       "Method:                        OLS\n",
       "Date:           Thu, 17, Aug, 2023\n",
       "Time:                     23:53:23\n",
       "--------------------------------------------------------------------\n",
       "No. of Equations:         2.00000    BIC:                   -12.8087\n",
       "Nobs:                     120.000    HQIC:                  -13.0846\n",
       "Log likelihood:           475.853    FPE:                1.72112e-06\n",
       "AIC:                     -13.2733    Det(Omega_mle):     1.46651e-06\n",
       "--------------------------------------------------------------------\n",
       "Results for equation SPY\n",
       "==================================================================================\n",
       "                     coefficient       std. error           t-stat            prob\n",
       "----------------------------------------------------------------------------------\n",
       "const                  -0.000419         0.009632           -0.043           0.965\n",
       "IRLTLT01USQ156N         0.066201         0.026863            2.464           0.014\n",
       "IR3TIB01USQ156N         0.035644         0.021916            1.626           0.104\n",
       "CPALTT01USQ657N         0.002732         0.010053            0.272           0.786\n",
       "USAGDPRQPSMEI           0.010983         0.004890            2.246           0.025\n",
       "LRUN64TTUSQ156S         0.020644         0.009587            2.153           0.031\n",
       "L1.SPY                 -0.019320         0.099323           -0.195           0.846\n",
       "L1.BND                  1.771895         0.492078            3.601           0.000\n",
       "L2.SPY                  0.036122         0.088522            0.408           0.683\n",
       "L2.BND                  0.153211         0.401416            0.382           0.703\n",
       "==================================================================================\n",
       "\n",
       "Results for equation BND\n",
       "==================================================================================\n",
       "                     coefficient       std. error           t-stat            prob\n",
       "----------------------------------------------------------------------------------\n",
       "const                   0.010989         0.001916            5.736           0.000\n",
       "IRLTLT01USQ156N        -0.045634         0.005343           -8.541           0.000\n",
       "IR3TIB01USQ156N        -0.001031         0.004359           -0.236           0.813\n",
       "CPALTT01USQ657N        -0.000121         0.001999           -0.060           0.952\n",
       "USAGDPRQPSMEI           0.000803         0.000973            0.826           0.409\n",
       "LRUN64TTUSQ156S         0.002244         0.001907            1.177           0.239\n",
       "L1.SPY                  0.042651         0.019755            2.159           0.031\n",
       "L1.BND                 -0.287609         0.097871           -2.939           0.003\n",
       "L2.SPY                 -0.012428         0.017606           -0.706           0.480\n",
       "L2.BND                  0.094373         0.079839            1.182           0.237\n",
       "==================================================================================\n",
       "\n",
       "Correlation matrix of residuals\n",
       "            SPY       BND\n",
       "SPY    1.000000  0.075231\n",
       "BND    0.075231  1.000000\n",
       "\n"
      ]
     },
     "execution_count": 101,
     "metadata": {},
     "output_type": "execute_result"
    }
   ],
   "source": [
    "result.summary()"
   ]
  },
  {
   "cell_type": "code",
   "execution_count": 103,
   "metadata": {},
   "outputs": [
    {
     "data": {
      "text/plain": [
       "True"
      ]
     },
     "execution_count": 103,
     "metadata": {},
     "output_type": "execute_result"
    }
   ],
   "source": [
    "result.is_stable()"
   ]
  },
  {
   "cell_type": "code",
   "execution_count": null,
   "metadata": {},
   "outputs": [],
   "source": []
  }
 ],
 "metadata": {
  "kernelspec": {
   "display_name": "portfolio-optimisation",
   "language": "python",
   "name": "python3"
  },
  "language_info": {
   "codemirror_mode": {
    "name": "ipython",
    "version": 3
   },
   "file_extension": ".py",
   "mimetype": "text/x-python",
   "name": "python",
   "nbconvert_exporter": "python",
   "pygments_lexer": "ipython3",
   "version": "3.9.12"
  },
  "orig_nbformat": 4
 },
 "nbformat": 4,
 "nbformat_minor": 2
}
