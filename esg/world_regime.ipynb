{
 "cells": [
  {
   "cell_type": "code",
   "execution_count": 1,
   "metadata": {},
   "outputs": [],
   "source": [
    "%load_ext autoreload\n",
    "%autoreload 2\n",
    "\n",
    "import pandas as pd\n",
    "import seaborn as sns\n",
    "import matplotlib.pyplot as plt\n",
    "import numpy as np\n",
    "import statsmodels.api as sm\n",
    "import preproccessing as prep\n",
    "from evaluation import show_scenarios_evaluation\n",
    "from regime_switching_brownian_motion import RegimeSwitching\n",
    "from independent_lognormal_model import IndependentLogNormal\n",
    "from ipywidgets import interact, interactive, fixed, interact_manual\n",
    "import ipywidgets as widgets"
   ]
  },
  {
   "cell_type": "code",
   "execution_count": 2,
   "metadata": {},
   "outputs": [],
   "source": [
    "def convert_to_transition_matrix(p00,p10):\n",
    "     k =2\n",
    "     transition_matrix = np.zeros((k,k))\n",
    "     transition_matrix[0,0] = p00\n",
    "     transition_matrix[1,0] = p10\n",
    "     transition_matrix[:,1] = 1 - transition_matrix[:,0]\n",
    "     return transition_matrix\n"
   ]
  },
  {
   "cell_type": "code",
   "execution_count": 3,
   "metadata": {},
   "outputs": [
    {
     "name": "stdout",
     "output_type": "stream",
     "text": [
      "<class 'pandas.core.series.Series'>\n",
      "DatetimeIndex: 645 entries, 1970-01-30 to 2023-09-29\n",
      "Series name: WORLD Standard (Large+Mid Cap)\n",
      "Non-Null Count  Dtype  \n",
      "--------------  -----  \n",
      "645 non-null    float64\n",
      "dtypes: float64(1)\n",
      "memory usage: 10.1 KB\n"
     ]
    }
   ],
   "source": [
    "world = pd.read_excel('msci_world_usd_30.10.23.xlsx',index_col='Date', parse_dates=True)\n",
    "world = world.squeeze()\n",
    "world_returns = prep.log_returns(world)\n",
    "world_returns.info()"
   ]
  },
  {
   "cell_type": "code",
   "execution_count": 4,
   "metadata": {},
   "outputs": [
    {
     "data": {
      "text/html": [
       "<div>\n",
       "<style scoped>\n",
       "    .dataframe tbody tr th:only-of-type {\n",
       "        vertical-align: middle;\n",
       "    }\n",
       "\n",
       "    .dataframe tbody tr th {\n",
       "        vertical-align: top;\n",
       "    }\n",
       "\n",
       "    .dataframe thead th {\n",
       "        text-align: right;\n",
       "    }\n",
       "</style>\n",
       "<table border=\"1\" class=\"dataframe\">\n",
       "  <thead>\n",
       "    <tr style=\"text-align: right;\">\n",
       "      <th></th>\n",
       "      <th>Annualised Mean</th>\n",
       "      <th>Annualised Sigma</th>\n",
       "      <th>Skew</th>\n",
       "      <th>Kurtosis</th>\n",
       "      <th>Sharp_ratio</th>\n",
       "      <th>Max drowdawn</th>\n",
       "    </tr>\n",
       "  </thead>\n",
       "  <tbody>\n",
       "    <tr>\n",
       "      <th>(1970-11-01, 2023-10-30)</th>\n",
       "      <td>0.086692</td>\n",
       "      <td>0.149740</td>\n",
       "      <td>-0.741006</td>\n",
       "      <td>2.083054</td>\n",
       "      <td>1.311509</td>\n",
       "      <td>-0.540291</td>\n",
       "    </tr>\n",
       "    <tr>\n",
       "      <th>(1973-11-01, 2023-10-30)</th>\n",
       "      <td>0.083414</td>\n",
       "      <td>0.152316</td>\n",
       "      <td>-0.734475</td>\n",
       "      <td>1.982212</td>\n",
       "      <td>1.214788</td>\n",
       "      <td>-0.540291</td>\n",
       "    </tr>\n",
       "    <tr>\n",
       "      <th>(1973-11-01, 2019-12-31)</th>\n",
       "      <td>0.084773</td>\n",
       "      <td>0.148525</td>\n",
       "      <td>-0.775601</td>\n",
       "      <td>2.290275</td>\n",
       "      <td>1.277495</td>\n",
       "      <td>-0.540291</td>\n",
       "    </tr>\n",
       "    <tr>\n",
       "      <th>(1983-11-01, 2023-10-30)</th>\n",
       "      <td>0.087665</td>\n",
       "      <td>0.153639</td>\n",
       "      <td>-0.821811</td>\n",
       "      <td>2.135338</td>\n",
       "      <td>1.300174</td>\n",
       "      <td>-0.540291</td>\n",
       "    </tr>\n",
       "    <tr>\n",
       "      <th>(1993-11-01, 2023-10-30)</th>\n",
       "      <td>0.069209</td>\n",
       "      <td>0.153336</td>\n",
       "      <td>-0.846681</td>\n",
       "      <td>1.913494</td>\n",
       "      <td>0.885784</td>\n",
       "      <td>-0.540291</td>\n",
       "    </tr>\n",
       "    <tr>\n",
       "      <th>(1994-01-01, 2023-10-30)</th>\n",
       "      <td>0.069964</td>\n",
       "      <td>0.153121</td>\n",
       "      <td>-0.853065</td>\n",
       "      <td>1.959404</td>\n",
       "      <td>0.904120</td>\n",
       "      <td>-0.540291</td>\n",
       "    </tr>\n",
       "    <tr>\n",
       "      <th>(1999-01-01, 2023-10-30)</th>\n",
       "      <td>0.054665</td>\n",
       "      <td>0.157324</td>\n",
       "      <td>-0.775767</td>\n",
       "      <td>1.730128</td>\n",
       "      <td>0.543091</td>\n",
       "      <td>-0.540291</td>\n",
       "    </tr>\n",
       "    <tr>\n",
       "      <th>(2003-11-01, 2023-10-30)</th>\n",
       "      <td>0.073676</td>\n",
       "      <td>0.155547</td>\n",
       "      <td>-0.923110</td>\n",
       "      <td>2.514783</td>\n",
       "      <td>0.972673</td>\n",
       "      <td>-0.540291</td>\n",
       "    </tr>\n",
       "    <tr>\n",
       "      <th>(2013-11-01, 2023-10-30)</th>\n",
       "      <td>0.076207</td>\n",
       "      <td>0.147438</td>\n",
       "      <td>-0.532838</td>\n",
       "      <td>1.085640</td>\n",
       "      <td>1.085649</td>\n",
       "      <td>-0.254242</td>\n",
       "    </tr>\n",
       "  </tbody>\n",
       "</table>\n",
       "</div>"
      ],
      "text/plain": [
       "                          Annualised Mean  Annualised Sigma      Skew  \\\n",
       "(1970-11-01, 2023-10-30)         0.086692          0.149740 -0.741006   \n",
       "(1973-11-01, 2023-10-30)         0.083414          0.152316 -0.734475   \n",
       "(1973-11-01, 2019-12-31)         0.084773          0.148525 -0.775601   \n",
       "(1983-11-01, 2023-10-30)         0.087665          0.153639 -0.821811   \n",
       "(1993-11-01, 2023-10-30)         0.069209          0.153336 -0.846681   \n",
       "(1994-01-01, 2023-10-30)         0.069964          0.153121 -0.853065   \n",
       "(1999-01-01, 2023-10-30)         0.054665          0.157324 -0.775767   \n",
       "(2003-11-01, 2023-10-30)         0.073676          0.155547 -0.923110   \n",
       "(2013-11-01, 2023-10-30)         0.076207          0.147438 -0.532838   \n",
       "\n",
       "                          Kurtosis  Sharp_ratio  Max drowdawn  \n",
       "(1970-11-01, 2023-10-30)  2.083054     1.311509     -0.540291  \n",
       "(1973-11-01, 2023-10-30)  1.982212     1.214788     -0.540291  \n",
       "(1973-11-01, 2019-12-31)  2.290275     1.277495     -0.540291  \n",
       "(1983-11-01, 2023-10-30)  2.135338     1.300174     -0.540291  \n",
       "(1993-11-01, 2023-10-30)  1.913494     0.885784     -0.540291  \n",
       "(1994-01-01, 2023-10-30)  1.959404     0.904120     -0.540291  \n",
       "(1999-01-01, 2023-10-30)  1.730128     0.543091     -0.540291  \n",
       "(2003-11-01, 2023-10-30)  2.514783     0.972673     -0.540291  \n",
       "(2013-11-01, 2023-10-30)  1.085640     1.085649     -0.254242  "
      ]
     },
     "execution_count": 4,
     "metadata": {},
     "output_type": "execute_result"
    }
   ],
   "source": [
    "periods = [\n",
    "    ('1970-11-01', '2023-10-30'),\n",
    "    ('1973-11-01', '2023-10-30'),\n",
    "    ('1973-11-01', '2019-12-31'),\n",
    "    ('1983-11-01', '2023-10-30'),\n",
    "    ('1993-11-01', '2023-10-30'),\n",
    "    ('1994-01-01', '2023-10-30'),\n",
    "    ('1999-01-01', '2023-10-30'),\n",
    "    ('2003-11-01', '2023-10-30'),    \n",
    "    ('2013-11-01', '2023-10-30'),\n",
    "]\n",
    "\n",
    "prep.asset_stats(world_returns,periods)"
   ]
  },
  {
   "cell_type": "markdown",
   "metadata": {},
   "source": [
    "my chosen params\n",
    "mu1 = 1.35\n",
    "mu2 = -0.11\n",
    "sig1 = 0.07\n",
    "sig2 = 0.33\n",
    "p00 = 92.38\n",
    "p20 = 8.74"
   ]
  },
  {
   "cell_type": "code",
   "execution_count": 92,
   "metadata": {},
   "outputs": [
    {
     "name": "stderr",
     "output_type": "stream",
     "text": [
      "c:\\Users\\matsz\\miniconda3\\envs\\portfolio-optimisation\\lib\\site-packages\\statsmodels\\tsa\\base\\tsa_model.py:473: ValueWarning: No frequency information was provided, so inferred frequency BM will be used.\n",
      "  self._init_dates(dates, freq)\n",
      "c:\\Users\\matsz\\miniconda3\\envs\\portfolio-optimisation\\lib\\site-packages\\statsmodels\\tsa\\base\\tsa_model.py:473: ValueWarning: No frequency information was provided, so inferred frequency BM will be used.\n",
      "  self._init_dates(dates, freq)\n",
      "c:\\Users\\matsz\\miniconda3\\envs\\portfolio-optimisation\\lib\\site-packages\\statsmodels\\tsa\\base\\tsa_model.py:473: ValueWarning: No frequency information was provided, so inferred frequency BM will be used.\n",
      "  self._init_dates(dates, freq)\n",
      "c:\\Users\\matsz\\miniconda3\\envs\\portfolio-optimisation\\lib\\site-packages\\statsmodels\\tsa\\base\\tsa_model.py:473: ValueWarning: No frequency information was provided, so inferred frequency BM will be used.\n",
      "  self._init_dates(dates, freq)\n",
      "c:\\Users\\matsz\\miniconda3\\envs\\portfolio-optimisation\\lib\\site-packages\\statsmodels\\tsa\\base\\tsa_model.py:473: ValueWarning: No frequency information was provided, so inferred frequency BM will be used.\n",
      "  self._init_dates(dates, freq)\n",
      "c:\\Users\\matsz\\miniconda3\\envs\\portfolio-optimisation\\lib\\site-packages\\statsmodels\\tsa\\base\\tsa_model.py:473: ValueWarning: No frequency information was provided, so inferred frequency BM will be used.\n",
      "  self._init_dates(dates, freq)\n",
      "c:\\Users\\matsz\\miniconda3\\envs\\portfolio-optimisation\\lib\\site-packages\\statsmodels\\tsa\\base\\tsa_model.py:473: ValueWarning: No frequency information was provided, so inferred frequency BM will be used.\n",
      "  self._init_dates(dates, freq)\n",
      "c:\\Users\\matsz\\miniconda3\\envs\\portfolio-optimisation\\lib\\site-packages\\statsmodels\\tsa\\base\\tsa_model.py:473: ValueWarning: No frequency information was provided, so inferred frequency BM will be used.\n",
      "  self._init_dates(dates, freq)\n",
      "c:\\Users\\matsz\\miniconda3\\envs\\portfolio-optimisation\\lib\\site-packages\\statsmodels\\tsa\\base\\tsa_model.py:473: ValueWarning: No frequency information was provided, so inferred frequency BM will be used.\n",
      "  self._init_dates(dates, freq)\n"
     ]
    },
    {
     "data": {
      "text/html": [
       "<div>\n",
       "<style scoped>\n",
       "    .dataframe tbody tr th:only-of-type {\n",
       "        vertical-align: middle;\n",
       "    }\n",
       "\n",
       "    .dataframe tbody tr th {\n",
       "        vertical-align: top;\n",
       "    }\n",
       "\n",
       "    .dataframe thead th {\n",
       "        text-align: right;\n",
       "    }\n",
       "</style>\n",
       "<table border=\"1\" class=\"dataframe\">\n",
       "  <thead>\n",
       "    <tr style=\"text-align: right;\">\n",
       "      <th></th>\n",
       "      <th>p[0-&gt;0]</th>\n",
       "      <th>p[1-&gt;0]</th>\n",
       "      <th>const[0]</th>\n",
       "      <th>const[1]</th>\n",
       "      <th>sigma2[0]</th>\n",
       "      <th>sigma2[1]</th>\n",
       "    </tr>\n",
       "  </thead>\n",
       "  <tbody>\n",
       "    <tr>\n",
       "      <th>(1970-11-01, 2023-10-30)</th>\n",
       "      <td>92.89</td>\n",
       "      <td>9.55</td>\n",
       "      <td>1.36</td>\n",
       "      <td>-0.13</td>\n",
       "      <td>2.63</td>\n",
       "      <td>5.75</td>\n",
       "    </tr>\n",
       "    <tr>\n",
       "      <th>(1973-11-01, 2023-10-30)</th>\n",
       "      <td>92.36</td>\n",
       "      <td>8.90</td>\n",
       "      <td>1.37</td>\n",
       "      <td>-0.11</td>\n",
       "      <td>2.60</td>\n",
       "      <td>5.75</td>\n",
       "    </tr>\n",
       "    <tr>\n",
       "      <th>(1973-11-01, 2019-12-31)</th>\n",
       "      <td>93.15</td>\n",
       "      <td>8.74</td>\n",
       "      <td>1.35</td>\n",
       "      <td>-0.13</td>\n",
       "      <td>2.59</td>\n",
       "      <td>5.67</td>\n",
       "    </tr>\n",
       "    <tr>\n",
       "      <th>(1983-11-01, 2023-10-30)</th>\n",
       "      <td>91.88</td>\n",
       "      <td>8.38</td>\n",
       "      <td>1.44</td>\n",
       "      <td>-0.00</td>\n",
       "      <td>2.46</td>\n",
       "      <td>5.71</td>\n",
       "    </tr>\n",
       "    <tr>\n",
       "      <th>(1993-11-01, 2023-10-30)</th>\n",
       "      <td>94.20</td>\n",
       "      <td>5.34</td>\n",
       "      <td>1.35</td>\n",
       "      <td>-0.18</td>\n",
       "      <td>2.37</td>\n",
       "      <td>5.66</td>\n",
       "    </tr>\n",
       "    <tr>\n",
       "      <th>(1994-01-01, 2023-10-30)</th>\n",
       "      <td>94.50</td>\n",
       "      <td>5.50</td>\n",
       "      <td>1.34</td>\n",
       "      <td>-0.20</td>\n",
       "      <td>2.40</td>\n",
       "      <td>5.70</td>\n",
       "    </tr>\n",
       "    <tr>\n",
       "      <th>(1999-01-01, 2023-10-30)</th>\n",
       "      <td>94.75</td>\n",
       "      <td>4.42</td>\n",
       "      <td>1.35</td>\n",
       "      <td>-0.31</td>\n",
       "      <td>2.33</td>\n",
       "      <td>5.68</td>\n",
       "    </tr>\n",
       "    <tr>\n",
       "      <th>(2003-11-01, 2023-10-30)</th>\n",
       "      <td>94.66</td>\n",
       "      <td>6.41</td>\n",
       "      <td>1.30</td>\n",
       "      <td>-0.21</td>\n",
       "      <td>2.29</td>\n",
       "      <td>6.05</td>\n",
       "    </tr>\n",
       "    <tr>\n",
       "      <th>(2013-11-01, 2023-10-30)</th>\n",
       "      <td>72.29</td>\n",
       "      <td>9.99</td>\n",
       "      <td>1.76</td>\n",
       "      <td>0.24</td>\n",
       "      <td>0.81</td>\n",
       "      <td>4.85</td>\n",
       "    </tr>\n",
       "  </tbody>\n",
       "</table>\n",
       "</div>"
      ],
      "text/plain": [
       "                          p[0->0]  p[1->0]  const[0]  const[1]  sigma2[0]  \\\n",
       "(1970-11-01, 2023-10-30)    92.89     9.55      1.36     -0.13       2.63   \n",
       "(1973-11-01, 2023-10-30)    92.36     8.90      1.37     -0.11       2.60   \n",
       "(1973-11-01, 2019-12-31)    93.15     8.74      1.35     -0.13       2.59   \n",
       "(1983-11-01, 2023-10-30)    91.88     8.38      1.44     -0.00       2.46   \n",
       "(1993-11-01, 2023-10-30)    94.20     5.34      1.35     -0.18       2.37   \n",
       "(1994-01-01, 2023-10-30)    94.50     5.50      1.34     -0.20       2.40   \n",
       "(1999-01-01, 2023-10-30)    94.75     4.42      1.35     -0.31       2.33   \n",
       "(2003-11-01, 2023-10-30)    94.66     6.41      1.30     -0.21       2.29   \n",
       "(2013-11-01, 2023-10-30)    72.29     9.99      1.76      0.24       0.81   \n",
       "\n",
       "                          sigma2[1]  \n",
       "(1970-11-01, 2023-10-30)       5.75  \n",
       "(1973-11-01, 2023-10-30)       5.75  \n",
       "(1973-11-01, 2019-12-31)       5.67  \n",
       "(1983-11-01, 2023-10-30)       5.71  \n",
       "(1993-11-01, 2023-10-30)       5.66  \n",
       "(1994-01-01, 2023-10-30)       5.70  \n",
       "(1999-01-01, 2023-10-30)       5.68  \n",
       "(2003-11-01, 2023-10-30)       6.05  \n",
       "(2013-11-01, 2023-10-30)       4.85  "
      ]
     },
     "execution_count": 92,
     "metadata": {},
     "output_type": "execute_result"
    }
   ],
   "source": [
    "data = world_returns\n",
    "n_regimes = 2\n",
    "params = []\n",
    "\n",
    "for period in periods:\n",
    "    model = sm.tsa.MarkovRegression(\n",
    "    data[period[0]:period[1]],\n",
    "    k_regimes=n_regimes,\n",
    "    switching_variance=True,\n",
    "    freq=None\n",
    "    )\n",
    "    result = model.fit()\n",
    "    for k in range(n_regimes):\n",
    "        result.params[f'sigma2[{k}]'] = np.sqrt(result.params[f'sigma2[{k}]'])\n",
    "    \n",
    "    params.append(np.round(result.params * 100,2))\n",
    "\n",
    "params = pd.DataFrame(data=params, index=periods)\n",
    "params"
   ]
  },
  {
   "cell_type": "code",
   "execution_count": 247,
   "metadata": {},
   "outputs": [
    {
     "data": {
      "application/vnd.jupyter.widget-view+json": {
       "model_id": "3fbb7b47da554ad69f8a399af311b7ec",
       "version_major": 2,
       "version_minor": 0
      },
      "text/plain": [
       "interactive(children=(FloatSlider(value=2.5500000000000003, description='mu1', max=5.0, min=0.1, step=0.01), F…"
      ]
     },
     "metadata": {},
     "output_type": "display_data"
    },
    {
     "data": {
      "text/plain": [
       "<function __main__.show_RSLN_scenarios_evaluation(mu1, mu2, sigma1, sigma2, p00, p10, initial_values, current_regime, dt, n_scenarios, n_steps, hist)>"
      ]
     },
     "execution_count": 247,
     "metadata": {},
     "output_type": "execute_result"
    },
    {
     "data": {
      "image/png": "[encoded data removed]",
      "text/plain": [
       "<Figure size 432x288 with 2 Axes>"
      ]
     },
     "metadata": {
      "needs_background": "light"
     },
     "output_type": "display_data"
    }
   ],
   "source": [
    "t_m = convert_to_transition_matrix(0.924,0.087)\n",
    "initial_values=100\n",
    "current_regime=0\n",
    "dt=1\n",
    "n_scenarios=2000\n",
    "n_steps= 300\n",
    "hist=world_returns\n",
    "\n",
    "def show_RSLN_scenarios_evaluation(mu1, mu2, sigma1, sigma2, p00,p10, initial_values, current_regime, dt, n_scenarios, n_steps, hist):\n",
    "      \n",
    "    transition_matrix = convert_to_transition_matrix(p00/100,p10/100)\n",
    "\n",
    "    model = RegimeSwitching(\n",
    "    models=[IndependentLogNormal(mu=mu1/100,sigma=sigma1/100),\n",
    "            IndependentLogNormal(mu=mu2/100,sigma=sigma2/100)],\n",
    "    probs=transition_matrix\n",
    "    )\n",
    "\n",
    "    scenarios = model.scenarios(initial_values,current_regime,dt,n_steps, n_scenarios)\n",
    "    scenarios = pd.DataFrame(data=scenarios, index=range(n_scenarios), columns=range(n_steps+1))\n",
    "\n",
    "    show_scenarios_evaluation(scenarios,hist)\n",
    "\n",
    "\n",
    "\n",
    "interact_manual(show_RSLN_scenarios_evaluation,         \n",
    "         mu1=(0.1,5,0.01),\n",
    "         mu2=(-3,3,0.01),\n",
    "         sigma1=(1,7, 0.1),\n",
    "         sigma2=(1,7, 0.1),\n",
    "         p00 = (80,99,0.1),\n",
    "         p10 = (1,20,0.1),\n",
    "         initial_values=100,\n",
    "         current_regime=0,\n",
    "         dt=1,\n",
    "         n_scenarios=2000,\n",
    "         n_steps= 300,\n",
    "         hist=fixed(world_returns)\n",
    "         )\n",
    "\n"
   ]
  },
  {
   "cell_type": "code",
   "execution_count": 16,
   "metadata": {},
   "outputs": [
    {
     "data": {
      "text/plain": [
       "Annualised Mean     0.068650\n",
       "Annualised Sigma    0.156900\n",
       "Skew               -0.504753\n",
       "Kurtosis            0.998444\n",
       "Sharp_ratio         0.853329\n",
       "Max drowdawn       -0.498474\n",
       "dtype: float64"
      ]
     },
     "execution_count": 16,
     "metadata": {},
     "output_type": "execute_result"
    }
   ],
   "source": [
    "usdpln = prep.loadStooqData('usdpln','1998-12-01','d')\n",
    "usdpln = usdpln.resample('M').last()\n",
    "usdpln_ret = prep.log_returns(usdpln)\n",
    "world_pln = (world * usdpln).dropna()\n",
    "world_pln_returns = prep.log_returns(world_pln)\n",
    "prep.assets_performance(world_pln_returns['2000-01-01':])"
   ]
  },
  {
   "cell_type": "code",
   "execution_count": 24,
   "metadata": {},
   "outputs": [],
   "source": [
    "df = pd.DataFrame(data=[world_returns['1999-01-01':],usdpln_ret]).T\n",
    "df['WORLD Standard (Large+Mid Cap)'].fillna(method='ffill', inplace=True)\n",
    "df.dropna(axis=0, inplace=True)"
   ]
  },
  {
   "cell_type": "code",
   "execution_count": 39,
   "metadata": {},
   "outputs": [
    {
     "name": "stdout",
     "output_type": "stream",
     "text": [
      "-0.5715473853891408\n",
      "0.13016767514553187\n"
     ]
    }
   ],
   "source": [
    "print(df['Zamkniecie'].corr(df['WORLD Standard (Large+Mid Cap)']))\n",
    "print(df['Zamkniecie'].std()*np.sqrt(12))"
   ]
  },
  {
   "cell_type": "code",
   "execution_count": 52,
   "metadata": {},
   "outputs": [
    {
     "name": "stdout",
     "output_type": "stream",
     "text": [
      "Original regime params\n"
     ]
    },
    {
     "name": "stderr",
     "output_type": "stream",
     "text": [
      "c:\\Users\\matsz\\miniconda3\\envs\\portfolio-optimisation\\lib\\site-packages\\statsmodels\\tsa\\base\\tsa_model.py:473: ValueWarning: A date index has been provided, but it has no associated frequency information and so will be ignored when e.g. forecasting.\n",
      "  self._init_dates(dates, freq)\n"
     ]
    },
    {
     "data": {
      "text/plain": [
       "p[0->0]      0.934645\n",
       "p[1->0]      0.089467\n",
       "const[0]     0.015634\n",
       "const[1]    -0.004344\n",
       "sigma2[0]    0.031173\n",
       "sigma2[1]    0.059894\n",
       "dtype: float64"
      ]
     },
     "execution_count": 52,
     "metadata": {},
     "output_type": "execute_result"
    }
   ],
   "source": [
    "print('Pln original regime params')\n",
    "n_regimes =2\n",
    "model = sm.tsa.MarkovRegression(\n",
    "    world_pln_returns['1999-01-01':],\n",
    "    k_regimes=n_regimes,\n",
    "    switching_variance=True,\n",
    "    freq=None\n",
    "    )\n",
    "result = model.fit()\n",
    "for k in range(n_regimes):\n",
    "    result.params[f'sigma2[{k}]'] = np.sqrt(result.params[f'sigma2[{k}]']) \n",
    "result.params"
   ]
  },
  {
   "cell_type": "code",
   "execution_count": 53,
   "metadata": {},
   "outputs": [
    {
     "name": "stdout",
     "output_type": "stream",
     "text": [
      "usd params\n"
     ]
    },
    {
     "name": "stderr",
     "output_type": "stream",
     "text": [
      "c:\\Users\\matsz\\miniconda3\\envs\\portfolio-optimisation\\lib\\site-packages\\statsmodels\\tsa\\base\\tsa_model.py:473: ValueWarning: No frequency information was provided, so inferred frequency M will be used.\n",
      "  self._init_dates(dates, freq)\n"
     ]
    },
    {
     "data": {
      "text/plain": [
       "p[0->0]      0.948296\n",
       "p[1->0]      0.040980\n",
       "const[0]     0.013564\n",
       "const[1]    -0.003695\n",
       "sigma2[0]    0.023114\n",
       "sigma2[1]    0.056310\n",
       "dtype: float64"
      ]
     },
     "execution_count": 53,
     "metadata": {},
     "output_type": "execute_result"
    }
   ],
   "source": [
    "print('usd params')\n",
    "n_regimes =2\n",
    "model = sm.tsa.MarkovRegression(\n",
    "    df['WORLD Standard (Large+Mid Cap)'],\n",
    "    k_regimes=n_regimes,\n",
    "    switching_variance=True,\n",
    "    freq=None\n",
    "    )\n",
    "result = model.fit()\n",
    "for k in range(n_regimes):\n",
    "    result.params[f'sigma2[{k}]'] = np.sqrt(result.params[f'sigma2[{k}]']) \n",
    "result.params"
   ]
  },
  {
   "cell_type": "code",
   "execution_count": 48,
   "metadata": {},
   "outputs": [
    {
     "name": "stdout",
     "output_type": "stream",
     "text": [
      "Regime 0 std, corr with world\n",
      "0.10504744964643539\n",
      "-0.4863868084471058\n",
      "Regime 1 std, corr with world\n",
      "0.148298067208312\n",
      "-0.6178065026612005\n"
     ]
    }
   ],
   "source": [
    "df['Regimes'] = result.smoothed_marginal_probabilities.idxmax(axis=1)\n",
    "print('Regime 0 std, corr with world')\n",
    "usdpln_reg0_std = df[df['Regimes']==0]['Zamkniecie'].std()\n",
    "print(usdpln_reg0_std * np.sqrt(12))\n",
    "usdpln_reg0_corr = df[df['Regimes']==0]['Zamkniecie'].corr(df[df['Regimes']==0]['WORLD Standard (Large+Mid Cap)'])\n",
    "print(usdpln_reg0_corr)\n",
    "print('Regime 1 std, corr with world')\n",
    "print(df[df['Regimes']==1]['Zamkniecie'].std()*np.sqrt(12))\n",
    "print(df[df['Regimes']==1]['Zamkniecie'].corr(df[df['Regimes']==1]['WORLD Standard (Large+Mid Cap)']))"
   ]
  },
  {
   "cell_type": "code",
   "execution_count": 50,
   "metadata": {},
   "outputs": [
    {
     "name": "stdout",
     "output_type": "stream",
     "text": [
      "World pln calculate regime0 std\n"
     ]
    },
    {
     "data": {
      "text/plain": [
       "0.02778486351697094"
      ]
     },
     "execution_count": 50,
     "metadata": {},
     "output_type": "execute_result"
    }
   ],
   "source": [
    "print('World pln calculate regime0 std')\n",
    "prep.foreign_asset_std(0.023114,usdpln_reg0_std,usdpln_reg0_corr)"
   ]
  },
  {
   "cell_type": "code",
   "execution_count": 42,
   "metadata": {},
   "outputs": [],
   "source": [
    "asset_std = df['WORLD Standard (Large+Mid Cap)'].std()\n",
    "usdpln_std = df['Zamkniecie'].std()\n",
    "corr = df['Zamkniecie'].corr(df['WORLD Standard (Large+Mid Cap)'])\n",
    "world_pln_returns_calc = prep.foreign_asset_std(asset_std,usdpln_std,corr)"
   ]
  },
  {
   "cell_type": "code",
   "execution_count": 99,
   "metadata": {},
   "outputs": [
    {
     "name": "stdout",
     "output_type": "stream",
     "text": [
      "count    10001.000000\n",
      "mean         0.084799\n",
      "std          0.001215\n",
      "min          0.000000\n",
      "25%          0.084690\n",
      "50%          0.084816\n",
      "75%          0.084945\n",
      "max          0.085589\n",
      "Name: mu, dtype: float64\n",
      "count    10001.000000\n",
      "mean         0.218088\n",
      "std          0.005741\n",
      "min          0.000000\n",
      "25%          0.214752\n",
      "50%          0.217879\n",
      "75%          0.221268\n",
      "max          0.240232\n",
      "Name: sigma, dtype: float64\n"
     ]
    }
   ],
   "source": [
    "import gbm_gibbs as gibs\n",
    "sampler = gibs.GibsSamplerGBM(world_returns['2003-01-01':'2023-07-31'],0.0064)\n",
    "sampler.run()\n",
    "mu = sampler.mu_dist\n",
    "sig = sampler.sigma_dist\n",
    "print(pd.Series(mu*12, name='mu').describe())\n",
    "print(pd.Series(sig * np.sqrt(12), name='sigma').describe())\n"
   ]
  },
  {
   "cell_type": "code",
   "execution_count": 100,
   "metadata": {},
   "outputs": [
    {
     "name": "stdout",
     "output_type": "stream",
     "text": [
      "count    10001.000000\n",
      "mean         0.084969\n",
      "std          0.001204\n",
      "min          0.000000\n",
      "25%          0.084941\n",
      "50%          0.084987\n",
      "75%          0.085033\n",
      "max          0.085269\n",
      "Name: mu, dtype: float64\n",
      "count    10001.000000\n",
      "mean         0.212261\n",
      "std          0.004116\n",
      "min          0.000000\n",
      "25%          0.210283\n",
      "50%          0.212197\n",
      "75%          0.214261\n",
      "max          0.223748\n",
      "Name: sigma, dtype: float64\n"
     ]
    }
   ],
   "source": [
    "sampler = gibs.GibsSamplerGBM(world_returns['1970-01-01':'2023-07-31'],0.0064)\n",
    "sampler.run()\n",
    "mu = sampler.mu_dist\n",
    "sig = sampler.sigma_dist\n",
    "print(pd.Series(mu*12, name='mu').describe())\n",
    "print(pd.Series(sig * np.sqrt(12), name='sigma').describe())"
   ]
  },
  {
   "cell_type": "code",
   "execution_count": 75,
   "metadata": {},
   "outputs": [
    {
     "data": {
      "text/plain": [
       "0.357783429167969"
      ]
     },
     "execution_count": 75,
     "metadata": {},
     "output_type": "execute_result"
    }
   ],
   "source": [
    "from typing import Any\n",
    "from scipy.stats import norm\n",
    "\n",
    "class XPdf:\n",
    "    \n",
    "    def __init__(self, mu, sigma) -> None:\n",
    "        self.mu = mu\n",
    "        self.sigma = sigma\n",
    "\n",
    "    def __call__(self, x):\n",
    "        return norm.pdf((x-self.mu)/self.sigma)\n",
    "    \n",
    "\n",
    "xpdf = XPdf(0.08,0.15)\n",
    "xpdf(0.15)\n"
   ]
  },
  {
   "cell_type": "code",
   "execution_count": 111,
   "metadata": {},
   "outputs": [
    {
     "data": {
      "text/plain": [
       "(0.6153846153846151,\n",
       " 0.3846153846153848,\n",
       " 0.24359242273523035,\n",
       " 0.131710254689736,\n",
       " 0.37530267742496637,\n",
       " 0.6490559150991705,\n",
       " 0.3509440849008294)"
      ]
     },
     "execution_count": 111,
     "metadata": {},
     "output_type": "execute_result"
    }
   ],
   "source": [
    "p00 = 0.95\n",
    "p10 = 0.08\n",
    "mu1 = 0.1\n",
    "mu2 = -0.015\n",
    "sigma1 = 0.08\n",
    "sigma2 = 0.19\n",
    "transition_matrix = convert_to_transition_matrix(p00,p10)\n",
    "xpdf1 = XPdf(mu1, sigma1)\n",
    "xpdf2 = XPdf(mu2, sigma2)\n",
    "\n",
    "def initial_state(xpdf1, xpdf2, t_m, x):\n",
    "    \"\"\"\n",
    "    t_m : transition matrix \n",
    "    \"\"\"\n",
    "    pi1 = t_m[1,0]/(t_m[0,1]+t_m[1,0])\n",
    "    pi2 = t_m[0,1]/(t_m[0,1]+t_m[1,0])\n",
    "\n",
    "    f1 = (pi1*t_m[0,0] + pi2*t_m[1,0]) * xpdf1(x)\n",
    "    f2 = (pi1*t_m[0,1] + pi2*t_m[1,1]) * xpdf2(x)\n",
    "    fy = f1 + f2\n",
    "\n",
    "    #probability state 1 given parameters\n",
    "    pp1 = f1/fy\n",
    "    pp2 = f2/fy\n",
    "\n",
    "    return pi1, pi2, f1, f2, fy, pp1, pp2\n",
    "\n",
    "initial_state(xpdf1,xpdf2,transition_matrix, 0.09)\n",
    "\n",
    "x = [0.09, 0.13, -0.03]\n",
    "\n",
    "\n",
    "\"\"\" \n",
    "px = prob x given pt1, pt-1 1 and 2 + pt2, pt-1 1 and 2\n",
    "py = f(pt1=1,pt-1=1)+f(pt1=1,pt-1=2)+f(pt1=2,pt-1=1)+f(pt1=2,pt-1=2)\n",
    "\"\"\"\n"
   ]
  },
  {
   "cell_type": "code",
   "execution_count": 113,
   "metadata": {},
   "outputs": [],
   "source": [
    "def sample_states(mus,sigmas,t_m, x):\n",
    "\n",
    "  params = np.concatenate([np.array(t_m).T[:-1].flatten(), mus,sigmas, ])\n",
    "  k_regimes = len(t_m)\n",
    "  T = len(x)\n",
    "  states = np.zeros(T)\n",
    "  regimes = range(k_regimes)\n",
    "\n",
    "  model = sm.tsa.MarkovRegression(\n",
    "    x,\n",
    "    k_regimes=k_regimes,\n",
    "    switching_variance=True,\n",
    "    )\n",
    "  probs = model.smooth(params).smoothed_marginal_probabilities\n",
    "\n",
    "  for t in range(T):\n",
    "    states[t] = np.random.choice(regimes,p=probs[t],size=1)\n",
    "  return states"
   ]
  },
  {
   "cell_type": "code",
   "execution_count": 115,
   "metadata": {},
   "outputs": [
    {
     "data": {
      "text/plain": [
       "array([216., 267., 360., 552., 853., 719.])"
      ]
     },
     "execution_count": 115,
     "metadata": {},
     "output_type": "execute_result"
    }
   ],
   "source": [
    "mus= [0.01, 0.05]\n",
    "sigmas = [0.007, 0.055]\n",
    "\n",
    "t_m = [[0.93, 0.07], [0.06, 0.94]]\n",
    "t_m3 = [[0.92, 0.06, 0.02],\n",
    "        [0.05, 0.92, 0.03],\n",
    "        [0.05, 0.1, 0.985]]\n",
    "\n",
    "x = [0.02,0.01,0.08,-0.11, 0.29, 0.03]\n",
    "\n",
    "res = []\n",
    "for i in range(1000):\n",
    "  res.append(sample_states(mus, sigmas, t_m,x))\n",
    "\n",
    "np.sum(res,0)\n"
   ]
  },
  {
   "cell_type": "code",
   "execution_count": 186,
   "metadata": {},
   "outputs": [
    {
     "name": "stdout",
     "output_type": "stream",
     "text": [
      "[[2. 2. 1.]\n",
      " [2. 1. 1.]\n",
      " [1. 1. 1.]]\n",
      "[[[2. 3.]\n",
      "  [0. 0.]\n",
      "  [0. 0.]]\n",
      "\n",
      " [[0. 0.]\n",
      "  [1. 3.]\n",
      "  [0. 0.]]\n",
      "\n",
      " [[0. 0.]\n",
      "  [0. 0.]\n",
      "  [1. 2.]]]\n"
     ]
    }
   ],
   "source": [
    "from scipy import stats\n",
    "\n",
    "class TransitionMatrixSampler:\n",
    "  \n",
    "  def __init__(self, states, u0) -> None:\n",
    "    self.states = states\n",
    "    self.u0 = u0\n",
    "\n",
    "  def calculate_states(self):\n",
    "    k_regimes = np.unique(self.states).max()+1\n",
    "    m = np.zeros((k_regimes, k_regimes))\n",
    "    for t in range(len(self.states)-1):\n",
    "      m[self.states[t], self.states[t+1]] +=1\n",
    "\n",
    "    return m\n",
    "  \n",
    "  def distribution_params(self):\n",
    "    transition_count = self.calculate_states()\n",
    "    params = np.zeros((3,3,2))\n",
    "    indices = np.arange(3)\n",
    "    #return np.add([[transition_count[0,0], transition_count[0,1]],[transition_count[1,1],transition_count[1,0]]], self.u0)\n",
    "\n",
    "    for m in range(3):\n",
    "      mask = indices != m\n",
    "      pii = transition_count[m,m]\n",
    "      pij = transition_count[m,mask].sum()\n",
    "      params[m,m] = [pii,pij]\n",
    "      \n",
    "    return params\n",
    "  \n",
    "  def sample(self):\n",
    "    params = self.distribution_params()\n",
    "    transition_matrix = np.zeros_like(params)\n",
    "    k_regimes = len(transition_matrix)\n",
    "    last = [1,0]\n",
    "\n",
    "    for k in range(k_regimes):\n",
    "      transition_matrix[k,k] = stats.beta(params[k,0],params[k,1]).rvs(1)\n",
    "      transition_matrix[k,last[k]] = 1 - transition_matrix[k].sum()\n",
    "\n",
    "    return transition_matrix\n",
    "  \n",
    "states3 = [1,0,0,0,1,1,0,1,2,0,2,2,1]\n",
    "states2 = [1,0,0,0,1,1,0,1,0,1]\n",
    "u02 = [[0.98,0.02],[0.02,0.98]]\n",
    "u03 = [[0.98,0.02, 0.02],[0.02,0.98, 0.02],[0.02,0.02,0.98] ]\n",
    "\n",
    "sampler = TransitionMatrixSampler(states3, u03)\n",
    "count = sampler.calculate_states()\n",
    "print(count)\n",
    "print(sampler.distribution_params())\n",
    "\n",
    "#sampler.sample()\n"
   ]
  },
  {
   "cell_type": "markdown",
   "metadata": {},
   "source": [
    "[[[2,3],[2,1]],\n",
    " [[1,3],[2,1],\n",
    " [[1,2],[1,2]]]\n",
    "\n",
    "[[[0,[1,2],[1,2]],\n",
    " [[1,[0,2]],[0,2]]\n",
    "]"
   ]
  },
  {
   "cell_type": "code",
   "execution_count": 171,
   "metadata": {},
   "outputs": [
    {
     "data": {
      "text/plain": [
       "array([2, 2])"
      ]
     },
     "execution_count": 171,
     "metadata": {},
     "output_type": "execute_result"
    }
   ],
   "source": [
    "arr = np.array([[2, 2, 1,],\n",
    "                [2, 1, 1,],\n",
    "                [1, 1, 1,]])\n",
    "\n",
    "indices = [0,1,2]\n",
    "\n",
    "mask = np.array(indices) != 2\n",
    "arr[0][mask]"
   ]
  },
  {
   "cell_type": "code",
   "execution_count": 187,
   "metadata": {},
   "outputs": [
    {
     "ename": "ValueError",
     "evalue": "operands could not be broadcast together with shapes (4,) (3,) ",
     "output_type": "error",
     "traceback": [
      "\u001b[1;31m---------------------------------------------------------------------------\u001b[0m",
      "\u001b[1;31mValueError\u001b[0m                                Traceback (most recent call last)",
      "\u001b[1;32mc:\\Users\\matsz\\programowanie\\Optymalizacja portfela\\esg\\world_regime.ipynb Cell 22\u001b[0m line \u001b[0;36m<cell line: 4>\u001b[1;34m()\u001b[0m\n\u001b[0;32m      <a href='vscode-notebook-cell:/c%3A/Users/matsz/programowanie/Optymalizacja%20portfela/esg/world_regime.ipynb#X34sZmlsZQ%3D%3D?line=0'>1</a>\u001b[0m ind \u001b[39m=\u001b[39m [\u001b[39m1\u001b[39m,\u001b[39m2\u001b[39m,\u001b[39m3\u001b[39m,\u001b[39m4\u001b[39m]\n\u001b[0;32m      <a href='vscode-notebook-cell:/c%3A/Users/matsz/programowanie/Optymalizacja%20portfela/esg/world_regime.ipynb#X34sZmlsZQ%3D%3D?line=1'>2</a>\u001b[0m c \u001b[39m=\u001b[39m [\u001b[39m1\u001b[39m,\u001b[39m3\u001b[39m,\u001b[39m4\u001b[39m]\n\u001b[1;32m----> <a href='vscode-notebook-cell:/c%3A/Users/matsz/programowanie/Optymalizacja%20portfela/esg/world_regime.ipynb#X34sZmlsZQ%3D%3D?line=3'>4</a>\u001b[0m np\u001b[39m.\u001b[39;49mequal(ind,c)\n",
      "\u001b[1;31mValueError\u001b[0m: operands could not be broadcast together with shapes (4,) (3,) "
     ]
    }
   ],
   "source": [
    "ind = [1,2,3,4]\n",
    "c = [1,3,4]\n",
    "\n",
    "np.equal(ind,c)"
   ]
  },
  {
   "cell_type": "code",
   "execution_count": 191,
   "metadata": {},
   "outputs": [
    {
     "name": "stdout",
     "output_type": "stream",
     "text": [
      "[[1 2 3]\n",
      " [4 5 6]\n",
      " [7 8 9]]\n",
      "[[1 0 0]\n",
      " [4 5 0]\n",
      " [7 8 9]]\n",
      "Row 0 : [1 0 0]\n",
      "Row 1 : [4 5 0]\n",
      "Row 2 : [7 8 9]\n",
      "[[1 2 3]\n",
      " [0 5 6]\n",
      " [0 0 9]]\n",
      "Row 2 : [0 0 9]\n",
      "Row 1 : [0 5 6]\n",
      "Row 0 : [1 2 3]\n"
     ]
    }
   ],
   "source": [
    "import numpy as np\n",
    "\n",
    "# Let's assume you have a square matrix 'A'\n",
    "A = np.array([[1, 2, 3], [4, 5, 6], [7, 8, 9]])\n",
    "\n",
    "print(A)\n",
    "# For lower triangular matrix, get row starting from index zero\n",
    "lower_triangular = np.tril(A)\n",
    "print(lower_triangular)\n",
    "for i in range(lower_triangular.shape[0]):\n",
    "    print(\"Row\", i, \":\", lower_triangular[i])\n",
    "\n",
    "# For upper triangular matrix, get row starting from last index\n",
    "upper_triangular = np.triu(A)\n",
    "print(upper_triangular)\n",
    "for i in range(upper_triangular.shape[0]-1, -1, -1):\n",
    "    print(\"Row\", i, \":\", upper_triangular[i])\n"
   ]
  },
  {
   "cell_type": "code",
   "execution_count": 210,
   "metadata": {},
   "outputs": [
    {
     "name": "stdout",
     "output_type": "stream",
     "text": [
      "[[0 1 2]\n",
      " [3 4 5]\n",
      " [6 7 8]]\n"
     ]
    },
    {
     "data": {
      "text/plain": [
       "array([[1, 2, 0],\n",
       "       [4, 5, 3],\n",
       "       [7, 8, 6]])"
      ]
     },
     "execution_count": 210,
     "metadata": {},
     "output_type": "execute_result"
    }
   ],
   "source": [
    "x = np.arange(9)\n",
    "x = np.reshape(x,(3,3))\n",
    "print(x)\n",
    "shift = 3 - 1\n",
    "np.roll(x,shift,axis=1)"
   ]
  },
  {
   "cell_type": "code",
   "execution_count": 212,
   "metadata": {},
   "outputs": [
    {
     "data": {
      "text/plain": [
       "dtype('float64')"
      ]
     },
     "execution_count": 212,
     "metadata": {},
     "output_type": "execute_result"
    }
   ],
   "source": [
    "arr = np.array([1,2,np.nan,4])\n"
   ]
  },
  {
   "cell_type": "code",
   "execution_count": 220,
   "metadata": {},
   "outputs": [
    {
     "data": {
      "text/plain": [
       "array([[ 0,  1,  2,  3],\n",
       "       [ 4,  5,  6,  7],\n",
       "       [ 8,  9, 10, 11],\n",
       "       [12, 13, 14, 15]])"
      ]
     },
     "execution_count": 220,
     "metadata": {},
     "output_type": "execute_result"
    }
   ],
   "source": [
    "np.arange(16).reshape((4,4))"
   ]
  },
  {
   "cell_type": "code",
   "execution_count": 219,
   "metadata": {},
   "outputs": [
    {
     "data": {
      "text/plain": [
       "array([[ 0.,  1.,  2.,  3.],\n",
       "       [ 4.,  5.,  6.,  7.],\n",
       "       [ 8.,  9., 10., 11.],\n",
       "       [12., 13., 14., 15.]])"
      ]
     },
     "execution_count": 219,
     "metadata": {},
     "output_type": "execute_result"
    }
   ],
   "source": [
    "np.eye(4) @ np.arange(16).reshape((4,4))\n"
   ]
  },
  {
   "cell_type": "code",
   "execution_count": 245,
   "metadata": {},
   "outputs": [
    {
     "data": {
      "text/plain": [
       "array([ 56,  18,   9,  16,  12,   8,   5,   7,   1,   4,   6,   6,   5,\n",
       "         3,   3,   2,   2,   2,   2,   3,   5,   4,   6,  10,   6,   5,\n",
       "         5,   3,   8,   3,   2,   6,   6,   7,   3,   6,   4,   2,   5,\n",
       "         4,   5,   6,   3,   5,   3,   7,  13,   7,   6,   4,   4,   4,\n",
       "         7,   6,  13,  18,  13,   4,  11,   4,  14,  11,   8,   7,   4,\n",
       "         7,  10,   2,   7,   6,   4,   3,   5,   4,   1,   3,   5,   4,\n",
       "         5,   7,   4,   3,   7,   4,   5,   3,   1,   3,   6,   3,   4,\n",
       "         6,   4,   5,   5,   4,   1,   4,   6,   5,   9,   5,  10,   5,\n",
       "         5,   4,   6,   7,   4,   1,   2,   2,   1,   5,   3,   4,   7,\n",
       "         6,   8,  10,   3,   6,   9,  13,   6,   7,   4,   2,   6,   4,\n",
       "         4,   2,   4,   0,   1,   1,   5,   5,   5,   9,   9,   5,   6,\n",
       "         7,   4,   2,   5,   5,   9,   8,   5,   5,   3,   1,   7,   3,\n",
       "         5,   5,   7,   8,   4,   7,   2,   5,   4,   3,   3,   3,   6,\n",
       "         2,   5,   2,   8,   3,  10,   5,   9,   8,   3,   3,   3,   2,\n",
       "         7,   6,   2,   5,   7,   4,   6,   2,   6,   2,  10,   9,   9,\n",
       "        10,   1,   3,   4,   5,   5,   5,   8,   7,  12,   5,   8,   9,\n",
       "         5,   5,  10,   9,  16,  39,  19,  13,   5,   9,   6,   3,   4,\n",
       "         5,   3,   2,   4,   8,   3,   6,   5,   5,   2,   3,   5,   4,\n",
       "         7,   8,   1,   3,   1,   7,   6,   3,   5,   3,   6,  11,   6,\n",
       "        13,  16,  10,   4,   6,   4,   1,   5,   3,   6,   6,   5,   6,\n",
       "         3,   3,   8,   3,   0,   2,   7,   5,   7,   3,   3,   3,   4,\n",
       "         6,   6,   3,   3,   5,   8,   6,   4,   4,   5,   5,   3,   5,\n",
       "         6,   7,   7,   4,  12,   4,   3,   3,   7,   3,   4,   5,   3,\n",
       "         1,   2,   6,   6,   6,   2,   4,   5,   6,   4,   4,   7,   5,\n",
       "         3,   5,   7,   2,   2,   5,   5,   5,   5,   9,   4,   6,   1,\n",
       "         0,   3,   0,   7,   7,   4,  13,   3,   6,   6,   4,   2,   2,\n",
       "         5,   3,   2,   3,   6,  15,   7,  10,   6,   6,   7,   6,   5,\n",
       "         8,   4,   8,   5,   4,   3,   4,   8,   6,   5,   4,   8,   6,\n",
       "         2,   6,   4,   3,   3,   7,  11,   3,   8,   8,  10,   6,   3,\n",
       "         9,   4,   7,   9,   9,   7,   4,   1,   6,   2,   3,   9,  11,\n",
       "        11,   7,  17,   7,  10,   5,   3,   4,   6,   5,   4,   4,   2,\n",
       "         3,   1,   2,   3,   5,   4,   4,   1,   4,   3,   4,   5,   6,\n",
       "         5,   3,   4,   4,   6,   3,   2,   5,   1,   4,   6,   2,   5,\n",
       "         4,   8,   5,   3,   5,   2,   3,   4,   5,   4,   6,   2,   4,\n",
       "         5,   8,   6,   3,   4,   5,   4,   6,   6,   2,   4,   7,   5,\n",
       "         2,   7,   3,   2,   7,   9,  18,  24,  35,  87, 134,  76,  31,\n",
       "        22,  32,  15,  20,  15,  11,   9,   8,   2,   7,   7,   8,  12,\n",
       "         8,   2,   1,   6,   4,   4,   8,   6,   9,   5,  10,   6,   4,\n",
       "         0,   4,   7,   5,   4,   7,   7,   9,   7,   6,   5,   4,   3,\n",
       "         6,  10,   9,   3,   2,   4,   3,   5,   2,   4,   2,   5,   2,\n",
       "         6,   4,   5,   6,   9,   7,   5,   1,   4,   4,   4,   4,   6,\n",
       "         6,   5,   6,   5,   8,   4,   6,   2,   4,   6,   1,   6,   5,\n",
       "         7,  12,   3,   6,   9,   8,   5,   9,   6,   6,   4,   5,   5,\n",
       "         8,   3,   0,   3,   6,   9,   6,   4,   1,   3,   4,   4,   2,\n",
       "         4,   5,   3,   5,  10,   3,   5,   5,   5,   6,   4,   4,   4,\n",
       "         7,   4,  13,   9,   8,   6,   7,   6,   3,   8,   2,   2,   6,\n",
       "         2,   3,   6,  15,  37,  18,  14,   9,   4,   8,   8,   9,   7,\n",
       "         9,   6,   2,   4,   6,   6,   8,   4,   7,   5,   8,  12,   2,\n",
       "         5,   7,   8,  10,   6,   6,   7,   4,  17,  10,   5,   9,   9,\n",
       "         5,   2,   6,   3,   9,  10,  20,  53])"
      ]
     },
     "execution_count": 245,
     "metadata": {},
     "output_type": "execute_result"
    }
   ],
   "source": [
    "def sample_states(mus,sigmas,t_m, x):\n",
    "\n",
    "  params = np.concatenate([np.array(t_m).T[:-1].flatten(), mus,sigmas, ])\n",
    "  k_regimes = len(t_m)\n",
    "  T = len(x)\n",
    "  states = np.zeros(T,dtype=np.int32)\n",
    "  regimes = range(k_regimes)\n",
    "\n",
    "  model = sm.tsa.MarkovRegression(\n",
    "    x,\n",
    "    k_regimes=k_regimes,\n",
    "    switching_variance=True,\n",
    "    )\n",
    "  probs = model.smooth(params).smoothed_marginal_probabilities\n",
    "  \n",
    "  for t in range(T):\n",
    "    states[t] = np.random.choice(regimes,p=probs[t],size=1) \n",
    "  \n",
    "  return states\n",
    "\n",
    "mus= [0.01, 0.05]\n",
    "sigmas = [0.007, 0.055]\n",
    "\n",
    "t_m = [[0.93, 0.07], [0.06, 0.94]]\n",
    "t_m3 = [[0.92, 0.06, 0.02],\n",
    "        [0.05, 0.92, 0.03],\n",
    "        [0.05, 0.1, 0.985]]\n",
    "\n",
    "#x = [0.02,0.01,0.08,-0.11, 0.29, 0.03]\n",
    "x = world_returns.to_numpy()\n",
    "\n",
    "res = []\n",
    "for i in range(1000):\n",
    "  res.append(sample_states(mus, sigmas, t_m,x))\n",
    "\n",
    "np.sum(res,0)\n"
   ]
  },
  {
   "cell_type": "code",
   "execution_count": 228,
   "metadata": {},
   "outputs": [
    {
     "name": "stdout",
     "output_type": "stream",
     "text": [
      "[[7. 2. 1. 2.]\n",
      " [3. 1. 4. 1.]\n",
      " [1. 3. 2. 4.]\n",
      " [2. 2. 3. 4.]]\n",
      "alfas:\n",
      "[[7.96 2.02 1.02  nan]\n",
      " [ nan 1.96 4.02 1.02]\n",
      " [1.02  nan 2.96 4.02]\n",
      " [2.02 2.02  nan 4.96]]\n",
      "betas\n",
      "[[ 5.  3.  4. nan]\n",
      " [nan  8.  4.  7.]\n",
      " [ 7. nan  8.  4.]\n",
      " [ 5.  5. nan  7.]]\n"
     ]
    },
    {
     "data": {
      "text/plain": [
       "array([[ 0.70171782,  0.126174  ,  0.28588876, -0.11378058],\n",
       "       [ 0.1113546 ,  0.32453156,  0.5259704 ,  0.03814343],\n",
       "       [ 0.10825269, -0.06206487,  0.31179617,  0.64201601],\n",
       "       [ 0.16805664,  0.11603581,  0.49616074,  0.21974681]])"
      ]
     },
     "execution_count": 228,
     "metadata": {},
     "output_type": "execute_result"
    }
   ],
   "source": [
    "from scipy.stats import beta\n",
    "\n",
    "class TransitionMatrixSampler:\n",
    "\n",
    "  def __init__(self, states, u0) -> None:\n",
    "    self.states = states\n",
    "    self.u0 = u0\n",
    "    self.k_regimes = np.unique(self.states).max()+1\n",
    "    self.transition_count = self.calculate_states_transitions()\n",
    "    self.alfas = np.full((self.k_regimes, self.k_regimes),np.nan)\n",
    "    self.betas = np.full((self.k_regimes, self.k_regimes), np.nan)\n",
    "\n",
    "    self.calculate_distribution_params()\n",
    "\n",
    "  def calculate_states_transitions(self):\n",
    "\n",
    "    m = np.zeros((self.k_regimes, self.k_regimes))\n",
    "    for t in range(len(self.states)-1):\n",
    "      m[self.states[t], self.states[t+1]] +=1\n",
    "\n",
    "    return m\n",
    "\n",
    "  def calculate_distribution_params(self):\n",
    "    params = np.zeros((self.k_regimes,self.k_regimes,2))\n",
    "    indices = np.arange(self.k_regimes, dtype=np.int32)\n",
    "\n",
    "    for i in indices:      \n",
    "      row = np.roll(indices,-i)\n",
    "      ui = np.roll(self.u0[i],-i)\n",
    "      for j in indices[:-1]:        \n",
    "        self.alfas[i,row[j]] = np.add(self.transition_count[i,row[j]],ui[j])\n",
    "        mask = np.all([indices != i,indices != row[j]],axis=0) \n",
    "        self.betas[i,row[j]] = self.transition_count[i,mask].sum()   \n",
    "             \n",
    "   \n",
    "\n",
    "  def sample(self):\n",
    "\n",
    "    t_m = np.full((self.k_regimes,self.k_regimes),np.nan)\n",
    "\n",
    "    for i in range(self.k_regimes):      \n",
    "      alfas = np.roll(self.alfas[i],-i)\n",
    "      betas = np.roll(self.betas[i],-i)\n",
    "      for j in range(self.k_regimes-1):\n",
    "        t_m[i,j] = np.random.beta(alfas[j],betas[j],1)\n",
    "      t_m[i,-1] = 1 - np.nansum(t_m[i])           \n",
    "      t_m[i] = np.roll(t_m[i],i)\n",
    "        \n",
    "    return t_m\n",
    "\n",
    "states3 = [1,0,0,0,1,1,0,1,2,0,2,2,1]\n",
    "states2 = [1,0,0,0,1,1,0,1,0,1]\n",
    "states4 = [1,0,0,3,0,1,1,0,3,3,1,3,2,0,2,2,1,2,2,3,3,3,0,1,2,1,2,1,2,3,2,3,2,3,3,1,0,0,0,0,0,0,0]\n",
    "u02 = [[0.98,0.02],[0.02,0.98]]\n",
    "u03 = [[0.98,0.02, 0.02],[0.02,0.98, 0.02],[0.02,0.02,0.98]]\n",
    "u04 = np.array([[0.96,0.02, 0.02, 0.02],[0.02,0.96, 0.02, 0.02],[0.02,0.02, 0.96, 0.02,], [0.02,0.02, 0.02,0.96,]])\n",
    "\n",
    "sampler = TransitionMatrixSampler(states4, u04)\n",
    "\n",
    "print(sampler.transition_count)\n",
    "print('alfas:')\n",
    "print(sampler.alfas)\n",
    "print('betas')\n",
    "print(sampler.betas)\n",
    "\n",
    "sample = sampler.sample()\n",
    "sample\n"
   ]
  },
  {
   "cell_type": "code",
   "execution_count": 241,
   "metadata": {},
   "outputs": [
    {
     "ename": "ValueError",
     "evalue": "zero-size array to reduction operation maximum which has no identity",
     "output_type": "error",
     "traceback": [
      "\u001b[1;31m---------------------------------------------------------------------------\u001b[0m",
      "\u001b[1;31mValueError\u001b[0m                                Traceback (most recent call last)",
      "\u001b[1;32mc:\\Users\\matsz\\programowanie\\Optymalizacja portfela\\esg\\world_regime.ipynb Cell 30\u001b[0m line \u001b[0;36m<cell line: 30>\u001b[1;34m()\u001b[0m\n\u001b[0;32m     <a href='vscode-notebook-cell:/c%3A/Users/matsz/programowanie/Optymalizacja%20portfela/esg/world_regime.ipynb#X45sZmlsZQ%3D%3D?line=22'>23</a>\u001b[0m t_m3 \u001b[39m=\u001b[39m [[\u001b[39m0.92\u001b[39m, \u001b[39m0.06\u001b[39m, \u001b[39m0.02\u001b[39m],\n\u001b[0;32m     <a href='vscode-notebook-cell:/c%3A/Users/matsz/programowanie/Optymalizacja%20portfela/esg/world_regime.ipynb#X45sZmlsZQ%3D%3D?line=23'>24</a>\u001b[0m         [\u001b[39m0.05\u001b[39m, \u001b[39m0.92\u001b[39m, \u001b[39m0.03\u001b[39m],\n\u001b[0;32m     <a href='vscode-notebook-cell:/c%3A/Users/matsz/programowanie/Optymalizacja%20portfela/esg/world_regime.ipynb#X45sZmlsZQ%3D%3D?line=24'>25</a>\u001b[0m         [\u001b[39m0.05\u001b[39m, \u001b[39m0.1\u001b[39m, \u001b[39m0.985\u001b[39m]]\n\u001b[0;32m     <a href='vscode-notebook-cell:/c%3A/Users/matsz/programowanie/Optymalizacja%20portfela/esg/world_regime.ipynb#X45sZmlsZQ%3D%3D?line=26'>27</a>\u001b[0m x \u001b[39m=\u001b[39m world_returns \u001b[39m#[0.02,0.01,0.08,-0.11, 0.29, 0.03]\u001b[39;00m\n\u001b[1;32m---> <a href='vscode-notebook-cell:/c%3A/Users/matsz/programowanie/Optymalizacja%20portfela/esg/world_regime.ipynb#X45sZmlsZQ%3D%3D?line=29'>30</a>\u001b[0m t_m \u001b[39m=\u001b[39m rs_gibs_sampler(x, mus, sigmas, t_m, u0,\u001b[39m1000\u001b[39;49m)\n",
      "\u001b[1;32mc:\\Users\\matsz\\programowanie\\Optymalizacja portfela\\esg\\world_regime.ipynb Cell 30\u001b[0m line \u001b[0;36mrs_gibs_sampler\u001b[1;34m(x, mus0, sigmas0, t_m0, u0, n_samples)\u001b[0m\n\u001b[0;32m      <a href='vscode-notebook-cell:/c%3A/Users/matsz/programowanie/Optymalizacja%20portfela/esg/world_regime.ipynb#X45sZmlsZQ%3D%3D?line=6'>7</a>\u001b[0m t_m \u001b[39m=\u001b[39m np\u001b[39m.\u001b[39mzeros((n_samples,t_m0\u001b[39m.\u001b[39mshape[\u001b[39m0\u001b[39m],t_m0\u001b[39m.\u001b[39mshape[\u001b[39m0\u001b[39m]))\n\u001b[0;32m      <a href='vscode-notebook-cell:/c%3A/Users/matsz/programowanie/Optymalizacja%20portfela/esg/world_regime.ipynb#X45sZmlsZQ%3D%3D?line=8'>9</a>\u001b[0m \u001b[39mfor\u001b[39;00m n \u001b[39min\u001b[39;00m \u001b[39mrange\u001b[39m(n_samples):\n\u001b[1;32m---> <a href='vscode-notebook-cell:/c%3A/Users/matsz/programowanie/Optymalizacja%20portfela/esg/world_regime.ipynb#X45sZmlsZQ%3D%3D?line=9'>10</a>\u001b[0m   states \u001b[39m=\u001b[39m sample_states(mus0,sigmas0,t_m0,xn)\n\u001b[0;32m     <a href='vscode-notebook-cell:/c%3A/Users/matsz/programowanie/Optymalizacja%20portfela/esg/world_regime.ipynb#X45sZmlsZQ%3D%3D?line=10'>11</a>\u001b[0m   t_m[n] \u001b[39m=\u001b[39m TransitionMatrixSampler(states,u0)\u001b[39m.\u001b[39msample()\n\u001b[0;32m     <a href='vscode-notebook-cell:/c%3A/Users/matsz/programowanie/Optymalizacja%20portfela/esg/world_regime.ipynb#X45sZmlsZQ%3D%3D?line=12'>13</a>\u001b[0m \u001b[39mreturn\u001b[39;00m t_m\n",
      "\u001b[1;32mc:\\Users\\matsz\\programowanie\\Optymalizacja portfela\\esg\\world_regime.ipynb Cell 30\u001b[0m line \u001b[0;36msample_states\u001b[1;34m(mus, sigmas, t_m, x)\u001b[0m\n\u001b[0;32m      <a href='vscode-notebook-cell:/c%3A/Users/matsz/programowanie/Optymalizacja%20portfela/esg/world_regime.ipynb#X45sZmlsZQ%3D%3D?line=5'>6</a>\u001b[0m states \u001b[39m=\u001b[39m np\u001b[39m.\u001b[39mzeros(T,dtype\u001b[39m=\u001b[39mnp\u001b[39m.\u001b[39mint32)\n\u001b[0;32m      <a href='vscode-notebook-cell:/c%3A/Users/matsz/programowanie/Optymalizacja%20portfela/esg/world_regime.ipynb#X45sZmlsZQ%3D%3D?line=6'>7</a>\u001b[0m regimes \u001b[39m=\u001b[39m [\u001b[39m1\u001b[39m,\u001b[39m2\u001b[39m] \u001b[39m#range(k_regimes)\u001b[39;00m\n\u001b[1;32m----> <a href='vscode-notebook-cell:/c%3A/Users/matsz/programowanie/Optymalizacja%20portfela/esg/world_regime.ipynb#X45sZmlsZQ%3D%3D?line=8'>9</a>\u001b[0m model \u001b[39m=\u001b[39m sm\u001b[39m.\u001b[39;49mtsa\u001b[39m.\u001b[39;49mMarkovRegression(\n\u001b[0;32m     <a href='vscode-notebook-cell:/c%3A/Users/matsz/programowanie/Optymalizacja%20portfela/esg/world_regime.ipynb#X45sZmlsZQ%3D%3D?line=9'>10</a>\u001b[0m   x,\n\u001b[0;32m     <a href='vscode-notebook-cell:/c%3A/Users/matsz/programowanie/Optymalizacja%20portfela/esg/world_regime.ipynb#X45sZmlsZQ%3D%3D?line=10'>11</a>\u001b[0m   k_regimes\u001b[39m=\u001b[39;49mk_regimes,\n\u001b[0;32m     <a href='vscode-notebook-cell:/c%3A/Users/matsz/programowanie/Optymalizacja%20portfela/esg/world_regime.ipynb#X45sZmlsZQ%3D%3D?line=11'>12</a>\u001b[0m   switching_variance\u001b[39m=\u001b[39;49m\u001b[39mTrue\u001b[39;49;00m,\n\u001b[0;32m     <a href='vscode-notebook-cell:/c%3A/Users/matsz/programowanie/Optymalizacja%20portfela/esg/world_regime.ipynb#X45sZmlsZQ%3D%3D?line=12'>13</a>\u001b[0m   )\n\u001b[0;32m     <a href='vscode-notebook-cell:/c%3A/Users/matsz/programowanie/Optymalizacja%20portfela/esg/world_regime.ipynb#X45sZmlsZQ%3D%3D?line=13'>14</a>\u001b[0m probs \u001b[39m=\u001b[39m model\u001b[39m.\u001b[39msmooth(params)\u001b[39m.\u001b[39msmoothed_marginal_probabilities\n\u001b[0;32m     <a href='vscode-notebook-cell:/c%3A/Users/matsz/programowanie/Optymalizacja%20portfela/esg/world_regime.ipynb#X45sZmlsZQ%3D%3D?line=15'>16</a>\u001b[0m \u001b[39mfor\u001b[39;00m t \u001b[39min\u001b[39;00m \u001b[39mrange\u001b[39m(T):\n",
      "File \u001b[1;32mc:\\Users\\matsz\\miniconda3\\envs\\portfolio-optimisation\\lib\\site-packages\\statsmodels\\tsa\\regime_switching\\markov_regression.py:121\u001b[0m, in \u001b[0;36mMarkovRegression.__init__\u001b[1;34m(self, endog, k_regimes, trend, exog, order, exog_tvtp, switching_trend, switching_exog, switching_variance, dates, freq, missing)\u001b[0m\n\u001b[0;32m    118\u001b[0m     \u001b[39mself\u001b[39m\u001b[39m.\u001b[39m_k_exog \u001b[39m+\u001b[39m\u001b[39m=\u001b[39m \u001b[39mself\u001b[39m\u001b[39m.\u001b[39mk_trend\n\u001b[0;32m    120\u001b[0m \u001b[39m# Initialize the base model\u001b[39;00m\n\u001b[1;32m--> 121\u001b[0m \u001b[39msuper\u001b[39;49m(MarkovRegression, \u001b[39mself\u001b[39;49m)\u001b[39m.\u001b[39;49m\u001b[39m__init__\u001b[39;49m(\n\u001b[0;32m    122\u001b[0m     endog, k_regimes, order\u001b[39m=\u001b[39;49morder, exog_tvtp\u001b[39m=\u001b[39;49mexog_tvtp, exog\u001b[39m=\u001b[39;49mexog,\n\u001b[0;32m    123\u001b[0m     dates\u001b[39m=\u001b[39;49mdates, freq\u001b[39m=\u001b[39;49mfreq, missing\u001b[39m=\u001b[39;49mmissing)\n\u001b[0;32m    125\u001b[0m \u001b[39m# Switching options\u001b[39;00m\n\u001b[0;32m    126\u001b[0m \u001b[39mif\u001b[39;00m \u001b[39mself\u001b[39m\u001b[39m.\u001b[39mswitching_trend \u001b[39mis\u001b[39;00m \u001b[39mTrue\u001b[39;00m \u001b[39mor\u001b[39;00m \u001b[39mself\u001b[39m\u001b[39m.\u001b[39mswitching_trend \u001b[39mis\u001b[39;00m \u001b[39mFalse\u001b[39;00m:\n",
      "File \u001b[1;32mc:\\Users\\matsz\\miniconda3\\envs\\portfolio-optimisation\\lib\\site-packages\\statsmodels\\tsa\\regime_switching\\markov_switching.py:511\u001b[0m, in \u001b[0;36mMarkovSwitching.__init__\u001b[1;34m(self, endog, k_regimes, order, exog_tvtp, exog, dates, freq, missing)\u001b[0m\n\u001b[0;32m    508\u001b[0m \u001b[39mself\u001b[39m\u001b[39m.\u001b[39mk_tvtp, \u001b[39mself\u001b[39m\u001b[39m.\u001b[39mexog_tvtp \u001b[39m=\u001b[39m prepare_exog(exog_tvtp)\n\u001b[0;32m    510\u001b[0m \u001b[39m# Initialize the base model\u001b[39;00m\n\u001b[1;32m--> 511\u001b[0m \u001b[39msuper\u001b[39;49m(MarkovSwitching, \u001b[39mself\u001b[39;49m)\u001b[39m.\u001b[39;49m\u001b[39m__init__\u001b[39;49m(endog, exog, dates\u001b[39m=\u001b[39;49mdates,\n\u001b[0;32m    512\u001b[0m                                       freq\u001b[39m=\u001b[39;49mfreq, missing\u001b[39m=\u001b[39;49mmissing)\n\u001b[0;32m    514\u001b[0m \u001b[39m# Dimensions\u001b[39;00m\n\u001b[0;32m    515\u001b[0m \u001b[39mself\u001b[39m\u001b[39m.\u001b[39mnobs \u001b[39m=\u001b[39m \u001b[39mself\u001b[39m\u001b[39m.\u001b[39mendog\u001b[39m.\u001b[39mshape[\u001b[39m0\u001b[39m]\n",
      "File \u001b[1;32mc:\\Users\\matsz\\miniconda3\\envs\\portfolio-optimisation\\lib\\site-packages\\statsmodels\\tsa\\base\\tsa_model.py:470\u001b[0m, in \u001b[0;36mTimeSeriesModel.__init__\u001b[1;34m(self, endog, exog, dates, freq, missing, **kwargs)\u001b[0m\n\u001b[0;32m    467\u001b[0m \u001b[39mdef\u001b[39;00m \u001b[39m__init__\u001b[39m(\n\u001b[0;32m    468\u001b[0m     \u001b[39mself\u001b[39m, endog, exog\u001b[39m=\u001b[39m\u001b[39mNone\u001b[39;00m, dates\u001b[39m=\u001b[39m\u001b[39mNone\u001b[39;00m, freq\u001b[39m=\u001b[39m\u001b[39mNone\u001b[39;00m, missing\u001b[39m=\u001b[39m\u001b[39m\"\u001b[39m\u001b[39mnone\u001b[39m\u001b[39m\"\u001b[39m, \u001b[39m*\u001b[39m\u001b[39m*\u001b[39mkwargs\n\u001b[0;32m    469\u001b[0m ):\n\u001b[1;32m--> 470\u001b[0m     \u001b[39msuper\u001b[39m()\u001b[39m.\u001b[39m\u001b[39m__init__\u001b[39m(endog, exog, missing\u001b[39m=\u001b[39mmissing, \u001b[39m*\u001b[39m\u001b[39m*\u001b[39mkwargs)\n\u001b[0;32m    472\u001b[0m     \u001b[39m# Date handling in indexes\u001b[39;00m\n\u001b[0;32m    473\u001b[0m     \u001b[39mself\u001b[39m\u001b[39m.\u001b[39m_init_dates(dates, freq)\n",
      "File \u001b[1;32mc:\\Users\\matsz\\miniconda3\\envs\\portfolio-optimisation\\lib\\site-packages\\statsmodels\\base\\model.py:270\u001b[0m, in \u001b[0;36mLikelihoodModel.__init__\u001b[1;34m(self, endog, exog, **kwargs)\u001b[0m\n\u001b[0;32m    269\u001b[0m \u001b[39mdef\u001b[39;00m \u001b[39m__init__\u001b[39m(\u001b[39mself\u001b[39m, endog, exog\u001b[39m=\u001b[39m\u001b[39mNone\u001b[39;00m, \u001b[39m*\u001b[39m\u001b[39m*\u001b[39mkwargs):\n\u001b[1;32m--> 270\u001b[0m     \u001b[39msuper\u001b[39m()\u001b[39m.\u001b[39m\u001b[39m__init__\u001b[39m(endog, exog, \u001b[39m*\u001b[39m\u001b[39m*\u001b[39mkwargs)\n\u001b[0;32m    271\u001b[0m     \u001b[39mself\u001b[39m\u001b[39m.\u001b[39minitialize()\n",
      "File \u001b[1;32mc:\\Users\\matsz\\miniconda3\\envs\\portfolio-optimisation\\lib\\site-packages\\statsmodels\\base\\model.py:95\u001b[0m, in \u001b[0;36mModel.__init__\u001b[1;34m(self, endog, exog, **kwargs)\u001b[0m\n\u001b[0;32m     93\u001b[0m missing \u001b[39m=\u001b[39m kwargs\u001b[39m.\u001b[39mpop(\u001b[39m'\u001b[39m\u001b[39mmissing\u001b[39m\u001b[39m'\u001b[39m, \u001b[39m'\u001b[39m\u001b[39mnone\u001b[39m\u001b[39m'\u001b[39m)\n\u001b[0;32m     94\u001b[0m hasconst \u001b[39m=\u001b[39m kwargs\u001b[39m.\u001b[39mpop(\u001b[39m'\u001b[39m\u001b[39mhasconst\u001b[39m\u001b[39m'\u001b[39m, \u001b[39mNone\u001b[39;00m)\n\u001b[1;32m---> 95\u001b[0m \u001b[39mself\u001b[39m\u001b[39m.\u001b[39mdata \u001b[39m=\u001b[39m \u001b[39mself\u001b[39m\u001b[39m.\u001b[39m_handle_data(endog, exog, missing, hasconst,\n\u001b[0;32m     96\u001b[0m                               \u001b[39m*\u001b[39m\u001b[39m*\u001b[39mkwargs)\n\u001b[0;32m     97\u001b[0m \u001b[39mself\u001b[39m\u001b[39m.\u001b[39mk_constant \u001b[39m=\u001b[39m \u001b[39mself\u001b[39m\u001b[39m.\u001b[39mdata\u001b[39m.\u001b[39mk_constant\n\u001b[0;32m     98\u001b[0m \u001b[39mself\u001b[39m\u001b[39m.\u001b[39mexog \u001b[39m=\u001b[39m \u001b[39mself\u001b[39m\u001b[39m.\u001b[39mdata\u001b[39m.\u001b[39mexog\n",
      "File \u001b[1;32mc:\\Users\\matsz\\miniconda3\\envs\\portfolio-optimisation\\lib\\site-packages\\statsmodels\\base\\model.py:135\u001b[0m, in \u001b[0;36mModel._handle_data\u001b[1;34m(self, endog, exog, missing, hasconst, **kwargs)\u001b[0m\n\u001b[0;32m    134\u001b[0m \u001b[39mdef\u001b[39;00m \u001b[39m_handle_data\u001b[39m(\u001b[39mself\u001b[39m, endog, exog, missing, hasconst, \u001b[39m*\u001b[39m\u001b[39m*\u001b[39mkwargs):\n\u001b[1;32m--> 135\u001b[0m     data \u001b[39m=\u001b[39m handle_data(endog, exog, missing, hasconst, \u001b[39m*\u001b[39m\u001b[39m*\u001b[39mkwargs)\n\u001b[0;32m    136\u001b[0m     \u001b[39m# kwargs arrays could have changed, easier to just attach here\u001b[39;00m\n\u001b[0;32m    137\u001b[0m     \u001b[39mfor\u001b[39;00m key \u001b[39min\u001b[39;00m kwargs:\n",
      "File \u001b[1;32mc:\\Users\\matsz\\miniconda3\\envs\\portfolio-optimisation\\lib\\site-packages\\statsmodels\\base\\data.py:675\u001b[0m, in \u001b[0;36mhandle_data\u001b[1;34m(endog, exog, missing, hasconst, **kwargs)\u001b[0m\n\u001b[0;32m    672\u001b[0m     exog \u001b[39m=\u001b[39m np\u001b[39m.\u001b[39masarray(exog)\n\u001b[0;32m    674\u001b[0m klass \u001b[39m=\u001b[39m handle_data_class_factory(endog, exog)\n\u001b[1;32m--> 675\u001b[0m \u001b[39mreturn\u001b[39;00m klass(endog, exog\u001b[39m=\u001b[39mexog, missing\u001b[39m=\u001b[39mmissing, hasconst\u001b[39m=\u001b[39mhasconst,\n\u001b[0;32m    676\u001b[0m              \u001b[39m*\u001b[39m\u001b[39m*\u001b[39mkwargs)\n",
      "File \u001b[1;32mc:\\Users\\matsz\\miniconda3\\envs\\portfolio-optimisation\\lib\\site-packages\\statsmodels\\base\\data.py:88\u001b[0m, in \u001b[0;36mModelData.__init__\u001b[1;34m(self, endog, exog, missing, hasconst, **kwargs)\u001b[0m\n\u001b[0;32m     86\u001b[0m \u001b[39mself\u001b[39m\u001b[39m.\u001b[39mconst_idx \u001b[39m=\u001b[39m \u001b[39mNone\u001b[39;00m\n\u001b[0;32m     87\u001b[0m \u001b[39mself\u001b[39m\u001b[39m.\u001b[39mk_constant \u001b[39m=\u001b[39m \u001b[39m0\u001b[39m\n\u001b[1;32m---> 88\u001b[0m \u001b[39mself\u001b[39;49m\u001b[39m.\u001b[39;49m_handle_constant(hasconst)\n\u001b[0;32m     89\u001b[0m \u001b[39mself\u001b[39m\u001b[39m.\u001b[39m_check_integrity()\n\u001b[0;32m     90\u001b[0m \u001b[39mself\u001b[39m\u001b[39m.\u001b[39m_cache \u001b[39m=\u001b[39m {}\n",
      "File \u001b[1;32mc:\\Users\\matsz\\miniconda3\\envs\\portfolio-optimisation\\lib\\site-packages\\statsmodels\\base\\data.py:132\u001b[0m, in \u001b[0;36mModelData._handle_constant\u001b[1;34m(self, hasconst)\u001b[0m\n\u001b[0;32m    129\u001b[0m \u001b[39melse\u001b[39;00m:\n\u001b[0;32m    130\u001b[0m     \u001b[39m# detect where the constant is\u001b[39;00m\n\u001b[0;32m    131\u001b[0m     check_implicit \u001b[39m=\u001b[39m \u001b[39mFalse\u001b[39;00m\n\u001b[1;32m--> 132\u001b[0m     exog_max \u001b[39m=\u001b[39m np\u001b[39m.\u001b[39;49mmax(\u001b[39mself\u001b[39;49m\u001b[39m.\u001b[39;49mexog, axis\u001b[39m=\u001b[39;49m\u001b[39m0\u001b[39;49m)\n\u001b[0;32m    133\u001b[0m     \u001b[39mif\u001b[39;00m \u001b[39mnot\u001b[39;00m np\u001b[39m.\u001b[39misfinite(exog_max)\u001b[39m.\u001b[39mall():\n\u001b[0;32m    134\u001b[0m         \u001b[39mraise\u001b[39;00m MissingDataError(\u001b[39m'\u001b[39m\u001b[39mexog contains inf or nans\u001b[39m\u001b[39m'\u001b[39m)\n",
      "File \u001b[1;32m<__array_function__ internals>:180\u001b[0m, in \u001b[0;36mamax\u001b[1;34m(*args, **kwargs)\u001b[0m\n",
      "File \u001b[1;32mc:\\Users\\matsz\\miniconda3\\envs\\portfolio-optimisation\\lib\\site-packages\\numpy\\core\\fromnumeric.py:2791\u001b[0m, in \u001b[0;36mamax\u001b[1;34m(a, axis, out, keepdims, initial, where)\u001b[0m\n\u001b[0;32m   2675\u001b[0m \u001b[39m@array_function_dispatch\u001b[39m(_amax_dispatcher)\n\u001b[0;32m   2676\u001b[0m \u001b[39mdef\u001b[39;00m \u001b[39mamax\u001b[39m(a, axis\u001b[39m=\u001b[39m\u001b[39mNone\u001b[39;00m, out\u001b[39m=\u001b[39m\u001b[39mNone\u001b[39;00m, keepdims\u001b[39m=\u001b[39mnp\u001b[39m.\u001b[39m_NoValue, initial\u001b[39m=\u001b[39mnp\u001b[39m.\u001b[39m_NoValue,\n\u001b[0;32m   2677\u001b[0m          where\u001b[39m=\u001b[39mnp\u001b[39m.\u001b[39m_NoValue):\n\u001b[0;32m   2678\u001b[0m     \u001b[39m\"\"\"\u001b[39;00m\n\u001b[0;32m   2679\u001b[0m \u001b[39m    Return the maximum of an array or maximum along an axis.\u001b[39;00m\n\u001b[0;32m   2680\u001b[0m \n\u001b[1;32m   (...)\u001b[0m\n\u001b[0;32m   2789\u001b[0m \u001b[39m    5\u001b[39;00m\n\u001b[0;32m   2790\u001b[0m \u001b[39m    \"\"\"\u001b[39;00m\n\u001b[1;32m-> 2791\u001b[0m     \u001b[39mreturn\u001b[39;00m _wrapreduction(a, np\u001b[39m.\u001b[39;49mmaximum, \u001b[39m'\u001b[39;49m\u001b[39mmax\u001b[39;49m\u001b[39m'\u001b[39;49m, axis, \u001b[39mNone\u001b[39;49;00m, out,\n\u001b[0;32m   2792\u001b[0m                           keepdims\u001b[39m=\u001b[39;49mkeepdims, initial\u001b[39m=\u001b[39;49minitial, where\u001b[39m=\u001b[39;49mwhere)\n",
      "File \u001b[1;32mc:\\Users\\matsz\\miniconda3\\envs\\portfolio-optimisation\\lib\\site-packages\\numpy\\core\\fromnumeric.py:86\u001b[0m, in \u001b[0;36m_wrapreduction\u001b[1;34m(obj, ufunc, method, axis, dtype, out, **kwargs)\u001b[0m\n\u001b[0;32m     83\u001b[0m         \u001b[39melse\u001b[39;00m:\n\u001b[0;32m     84\u001b[0m             \u001b[39mreturn\u001b[39;00m reduction(axis\u001b[39m=\u001b[39maxis, out\u001b[39m=\u001b[39mout, \u001b[39m*\u001b[39m\u001b[39m*\u001b[39mpasskwargs)\n\u001b[1;32m---> 86\u001b[0m \u001b[39mreturn\u001b[39;00m ufunc\u001b[39m.\u001b[39mreduce(obj, axis, dtype, out, \u001b[39m*\u001b[39m\u001b[39m*\u001b[39mpasskwargs)\n",
      "\u001b[1;31mValueError\u001b[0m: zero-size array to reduction operation maximum which has no identity"
     ]
    }
   ],
   "source": [
    "def rs_gibs_sampler(x, mus0, sigmas0, t_m0, u0, n_samples):\n",
    "\n",
    "  xn = []\n",
    "  if(isinstance(x,pd.DataFrame)):\n",
    "    xn = x.to_numpy()\n",
    "  \n",
    "  t_m = np.zeros((n_samples,t_m0.shape[0],t_m0.shape[0]))\n",
    "\n",
    "  for n in range(n_samples):\n",
    "    states = sample_states(mus0,sigmas0,t_m0,xn)\n",
    "    t_m[n] = TransitionMatrixSampler(states,u0).sample()\n",
    "\n",
    "  return t_m\n",
    "\n",
    "\n",
    "\n",
    "mus= [0.01, 0.05]\n",
    "sigmas = [0.007, 0.055]\n",
    "\n",
    "t_m = np.array([[0.93, 0.07], [0.06, 0.94]])\n",
    "u0 = [[0.98, 0.02], [0.02, 0.98] ]\n",
    "\n",
    "t_m3 = [[0.92, 0.06, 0.02],\n",
    "        [0.05, 0.92, 0.03],\n",
    "        [0.05, 0.1, 0.985]]\n",
    "\n",
    "x = world_returns #[0.02,0.01,0.08,-0.11, 0.29, 0.03]\n",
    "\n",
    "\n",
    "t_m = rs_gibs_sampler(x, mus, sigmas, t_m, u0,1000)\n"
   ]
  }
 ],
 "metadata": {
  "kernelspec": {
   "display_name": "portfolio-optimisation",
   "language": "python",
   "name": "python3"
  },
  "language_info": {
   "codemirror_mode": {
    "name": "ipython",
    "version": 3
   },
   "file_extension": ".py",
   "mimetype": "text/x-python",
   "name": "python",
   "nbconvert_exporter": "python",
   "pygments_lexer": "ipython3",
   "version": "3.9.12"
  }
 },
 "nbformat": 4,
 "nbformat_minor": 2
}
