{
 "cells": [
  {
   "cell_type": "code",
   "execution_count": 44,
   "metadata": {},
   "outputs": [
    {
     "name": "stdout",
     "output_type": "stream",
     "text": [
      "The autoreload extension is already loaded. To reload it, use:\n",
      "  %reload_ext autoreload\n"
     ]
    }
   ],
   "source": [
    "%load_ext autoreload\n",
    "#%autoreload 2\n",
    "\n",
    "import pandas as pd\n",
    "import numpy as np\n",
    "from scipy.optimize import minimize, NonlinearConstraint\n",
    "from scipy.stats import norm\n",
    "from assets_allocator import AssetsAllocator\n",
    "import matplotlib.pyplot as plt"
   ]
  },
  {
   "cell_type": "code",
   "execution_count": 45,
   "metadata": {},
   "outputs": [],
   "source": [
    "\n",
    "optimalPortfolios = pd.DataFrame(np.array([[0.6, 0.7], [0.4, 0.3]]), columns=['ACWI', 'TBSC'])\n",
    "optimalPortfolios.head()\n",
    "\n",
    "goals = pd.DataFrame({'Nazwa': [\"Dom\", 'Emerytura']})    \n",
    "        "
   ]
  },
  {
   "cell_type": "code",
   "execution_count": 46,
   "metadata": {},
   "outputs": [
    {
     "name": "stdout",
     "output_type": "stream",
     "text": [
      "      Dom  Emerytura\n",
      "ACWI  0.0        0.0\n",
      "TBSC  0.0        0.0\n"
     ]
    }
   ],
   "source": [
    "assetsAllocator = AssetsAllocator(optimalPortfolios)\n",
    "assetsAllocation = assetsAllocator.expectedAllocation(goals)\n",
    "print(assetsAllocation)"
   ]
  },
  {
   "cell_type": "code",
   "execution_count": null,
   "metadata": {},
   "outputs": [],
   "source": []
  },
  {
   "cell_type": "code",
   "execution_count": 47,
   "metadata": {},
   "outputs": [
    {
     "data": {
      "text/html": [
       "<div>\n",
       "<style scoped>\n",
       "    .dataframe tbody tr th:only-of-type {\n",
       "        vertical-align: middle;\n",
       "    }\n",
       "\n",
       "    .dataframe tbody tr th {\n",
       "        vertical-align: top;\n",
       "    }\n",
       "\n",
       "    .dataframe thead th {\n",
       "        text-align: right;\n",
       "    }\n",
       "</style>\n",
       "<table border=\"1\" class=\"dataframe\">\n",
       "  <thead>\n",
       "    <tr style=\"text-align: right;\">\n",
       "      <th></th>\n",
       "      <th>ACWI</th>\n",
       "      <th>TBSC</th>\n",
       "    </tr>\n",
       "  </thead>\n",
       "  <tbody>\n",
       "    <tr>\n",
       "      <th>0</th>\n",
       "      <td>0.020931</td>\n",
       "      <td>0.005868</td>\n",
       "    </tr>\n",
       "    <tr>\n",
       "      <th>1</th>\n",
       "      <td>-0.004996</td>\n",
       "      <td>0.002708</td>\n",
       "    </tr>\n",
       "    <tr>\n",
       "      <th>2</th>\n",
       "      <td>0.012963</td>\n",
       "      <td>0.012686</td>\n",
       "    </tr>\n",
       "    <tr>\n",
       "      <th>3</th>\n",
       "      <td>0.008176</td>\n",
       "      <td>0.016935</td>\n",
       "    </tr>\n",
       "    <tr>\n",
       "      <th>4</th>\n",
       "      <td>-0.006637</td>\n",
       "      <td>0.004393</td>\n",
       "    </tr>\n",
       "  </tbody>\n",
       "</table>\n",
       "</div>"
      ],
      "text/plain": [
       "       ACWI      TBSC\n",
       "0  0.020931  0.005868\n",
       "1 -0.004996  0.002708\n",
       "2  0.012963  0.012686\n",
       "3  0.008176  0.016935\n",
       "4 -0.006637  0.004393"
      ]
     },
     "execution_count": 47,
     "metadata": {},
     "output_type": "execute_result"
    }
   ],
   "source": [
    "#sheet_name='2011-2021'\n",
    "acwi_tbsc = pd.read_excel('./acwi_tbsc.xlsx')\n",
    "acwi_tbsc.head()"
   ]
  },
  {
   "cell_type": "code",
   "execution_count": 48,
   "metadata": {},
   "outputs": [
    {
     "name": "stdout",
     "output_type": "stream",
     "text": [
      "ACWI    0.134085\n",
      "TBSC    0.027678\n",
      "dtype: float64\n",
      "          ACWI      TBSC\n",
      "ACWI  0.012553  0.000395\n",
      "TBSC  0.000395  0.001240\n",
      "ACWI    0.112039\n",
      "TBSC    0.035215\n",
      "dtype: float64\n"
     ]
    }
   ],
   "source": [
    "means = acwi_tbsc.mean() *12\n",
    "cov_table = acwi_tbsc.cov() * 12\n",
    "\n",
    "weights = np.array([0.6, 0.4])\n",
    "print(means)\n",
    "print(cov_table)\n",
    "print(acwi_tbsc.std()*np.sqrt(12))"
   ]
  },
  {
   "cell_type": "code",
   "execution_count": 49,
   "metadata": {},
   "outputs": [],
   "source": [
    "def pstd(weights, cov_matrix):\n",
    "    #variance = np.transpose(weights)@cov_matrix@weights\n",
    "    variance = np.dot(weights.T, np.dot(cov_matrix, weights))\n",
    "    return np.sqrt(variance)\n",
    "\n",
    "def pmean(weights, means):\n",
    "    return np.sum(weights * means)"
   ]
  },
  {
   "cell_type": "code",
   "execution_count": 50,
   "metadata": {},
   "outputs": [
    {
     "name": "stdout",
     "output_type": "stream",
     "text": [
      "0.07005106014425842\n"
     ]
    }
   ],
   "source": [
    "std = pstd(weights=weights, cov_matrix=cov_table)\n",
    "print(std)\n",
    "\n"
   ]
  },
  {
   "cell_type": "code",
   "execution_count": 51,
   "metadata": {},
   "outputs": [],
   "source": [
    "def probabilityOfRequiredReturns(weights, expectedReturn, portfolioMeanReturns, portfolioCovariance: pd.DataFrame):\n",
    "    portfolioMean = pmean(weights=weights,means=portfolioMeanReturns)\n",
    "    portfolioStd = pstd(weights=weights, cov_matrix=portfolioCovariance)          \n",
    "    return norm.cdf(x=expectedReturn, loc=portfolioMean, scale=portfolioStd)"
   ]
  },
  {
   "cell_type": "code",
   "execution_count": 52,
   "metadata": {},
   "outputs": [
    {
     "data": {
      "text/plain": [
       "0.3793328479433782"
      ]
     },
     "execution_count": 52,
     "metadata": {},
     "output_type": "execute_result"
    }
   ],
   "source": [
    "probabilityOfRequiredReturns(weights=weights,expectedReturn=0.07,portfolioMeanReturns=means,portfolioCovariance=cov_table)"
   ]
  },
  {
   "cell_type": "code",
   "execution_count": 53,
   "metadata": {},
   "outputs": [
    {
     "name": "stdout",
     "output_type": "stream",
     "text": [
      "[array([0., 1.]), array([0.1, 0.9]), array([0.2, 0.8]), array([0.3, 0.7]), array([0.4, 0.6]), array([0.5, 0.5]), array([0.6, 0.4]), array([0.7, 0.3]), array([0.8, 0.2]), array([0.9, 0.1]), array([1., 0.])]\n"
     ]
    }
   ],
   "source": [
    "allocations = []\n",
    "\n",
    "xs = (0.1 * n for n in range(11))\n",
    "\n",
    "for n in xs:\n",
    "    allocations.append(np.array([n, 1-n]))\n",
    "\n",
    "print(allocations)"
   ]
  },
  {
   "cell_type": "code",
   "execution_count": 54,
   "metadata": {},
   "outputs": [
    {
     "name": "stdout",
     "output_type": "stream",
     "text": [
      "Porfolio: [0. 1.], propability: -0.4137\n",
      "Porfolio: [0.1 0.9], propability: -0.2986\n",
      "Porfolio: [0.2 0.8], propability: -0.2213\n",
      "Porfolio: [0.3 0.7], propability: -0.182\n",
      "Porfolio: [0.4 0.6], propability: -0.1643\n",
      "Porfolio: [0.5 0.5], propability: -0.1567\n",
      "Porfolio: [0.6 0.4], propability: -0.1536\n",
      "Porfolio: [0.7 0.3], propability: -0.1527\n",
      "Porfolio: [0.8 0.2], propability: -0.1529\n",
      "Porfolio: [0.9 0.1], propability: -0.1535\n",
      "Porfolio: [1. 0.], propability: -0.1543\n"
     ]
    }
   ],
   "source": [
    "expectedReturn = 0.02\n",
    "for n in allocations:\n",
    "    p = probabilityOfRequiredReturns(n,expectedReturn=expectedReturn, portfolioMeanReturns=means, portfolioCovariance=cov_table)\n",
    "    p = np.round(p,4)*-1\n",
    "    print(f'Porfolio: {n}, propability: {p}')"
   ]
  },
  {
   "cell_type": "code",
   "execution_count": null,
   "metadata": {},
   "outputs": [],
   "source": []
  },
  {
   "cell_type": "code",
   "execution_count": 55,
   "metadata": {},
   "outputs": [
    {
     "name": "stdout",
     "output_type": "stream",
     "text": [
      "     fun: 0.28366705888896804\n",
      "     jac: array([-0.21163855, -0.07758224])\n",
      " message: 'Optimization terminated successfully'\n",
      "    nfev: 12\n",
      "     nit: 4\n",
      "    njev: 4\n",
      "  status: 0\n",
      " success: True\n",
      "       x: array([1.00000000e+00, 2.22044605e-16])\n"
     ]
    }
   ],
   "source": [
    "start_pos = [0.5,0.5]\n",
    "\n",
    "#Says one minus the sum of all variables must be zero\n",
    "constraint = NonlinearConstraint(lambda x: x.sum(), 1,1)\n",
    "\n",
    "#Required to have non negative values\n",
    "bnds = [(0,1), (0,1)]\n",
    "\n",
    "result = minimize(probabilityOfRequiredReturns,start_pos, args=(0.07,means,cov_table), bounds=bnds, constraints=constraint)\n",
    "\n",
    "print(result)"
   ]
  },
  {
   "cell_type": "code",
   "execution_count": 56,
   "metadata": {},
   "outputs": [],
   "source": [
    "def findAssetsAllocation(requiredRateOfReturn, portfolioReturns, portfolioCov):\n",
    "    result = result = minimize(\n",
    "        probabilityOfRequiredReturns,\n",
    "        [0.5,0.5], \n",
    "        args=(requiredRateOfReturn,portfolioReturns,portfolioCov), \n",
    "        bounds=[(0,1),(0,1)], \n",
    "        constraints=NonlinearConstraint(lambda x: x.sum(), 1,1)\n",
    "        )\n",
    "    return (np.round(result.fun,2), [np.round(n,1) for n in result.x])\n",
    "    "
   ]
  },
  {
   "cell_type": "code",
   "execution_count": 57,
   "metadata": {},
   "outputs": [
    {
     "name": "stdout",
     "output_type": "stream",
     "text": [
      "Portfolio: [1.0, 0.0], probability: 0.28\n",
      "[0.28, 1.0, 0.0]\n"
     ]
    }
   ],
   "source": [
    "probability, portfolio = findAssetsAllocation(0.07, means, cov_table)\n",
    "row = [probability, *portfolio]\n",
    "print(f'Portfolio: {portfolio}, probability: {probability}')\n",
    "print(row)\n"
   ]
  },
  {
   "cell_type": "code",
   "execution_count": 58,
   "metadata": {},
   "outputs": [
    {
     "name": "stdout",
     "output_type": "stream",
     "text": [
      "RequiredRate: 0.005, Portfolio: [0.4, 0.6], probability: 0.1\n",
      "RequiredRate: 0.01, Portfolio: [0.5, 0.5], probability: 0.12\n",
      "RequiredRate: 0.015, Portfolio: [0.6, 0.4], probability: 0.14\n",
      "RequiredRate: 0.02, Portfolio: [0.7, 0.3], probability: 0.15\n",
      "RequiredRate: 0.025, Portfolio: [1.0, 0.0], probability: 0.17\n",
      "RequiredRate: 0.03, Portfolio: [1.0, 0.0], probability: 0.18\n",
      "RequiredRate: 0.035, Portfolio: [1.0, 0.0], probability: 0.19\n",
      "RequiredRate: 0.04, Portfolio: [1.0, 0.0], probability: 0.2\n",
      "RequiredRate: 0.045, Portfolio: [1.0, 0.0], probability: 0.21\n",
      "RequiredRate: 0.05, Portfolio: [1.0, 0.0], probability: 0.23\n",
      "RequiredRate: 0.055, Portfolio: [1.0, 0.0], probability: 0.24\n",
      "RequiredRate: 0.06, Portfolio: [1.0, 0.0], probability: 0.25\n",
      "RequiredRate: 0.065, Portfolio: [1.0, 0.0], probability: 0.27\n",
      "RequiredRate: 0.07, Portfolio: [1.0, 0.0], probability: 0.28\n",
      "RequiredRate: 0.075, Portfolio: [1.0, 0.0], probability: 0.3\n",
      "RequiredRate: 0.08, Portfolio: [1.0, 0.0], probability: 0.31\n",
      "RequiredRate: 0.085, Portfolio: [1.0, 0.0], probability: 0.33\n",
      "RequiredRate: 0.09, Portfolio: [1.0, 0.0], probability: 0.35\n",
      "RequiredRate: 0.095, Portfolio: [1.0, 0.0], probability: 0.36\n",
      "RequiredRate: 0.1, Portfolio: [1.0, 0.0], probability: 0.38\n",
      "RequiredRate: 0.105, Portfolio: [1.0, 0.0], probability: 0.4\n",
      "RequiredRate: 0.11, Portfolio: [1.0, 0.0], probability: 0.41\n",
      "RequiredRate: 0.115, Portfolio: [1.0, 0.0], probability: 0.43\n",
      "RequiredRate: 0.12, Portfolio: [1.0, 0.0], probability: 0.45\n",
      "RequiredRate: 0.125, Portfolio: [1.0, 0.0], probability: 0.47\n",
      "RequiredRate: 0.13, Portfolio: [1.0, 0.0], probability: 0.49\n",
      "RequiredRate: 0.135, Portfolio: [1.0, 0.0], probability: 0.5\n",
      "RequiredRate: 0.14, Portfolio: [1.0, 0.0], probability: 0.52\n",
      "RequiredRate: 0.145, Portfolio: [1.0, 0.0], probability: 0.54\n",
      "RequiredRate: 0.15, Portfolio: [1.0, 0.0], probability: 0.56\n",
      "RequiredRate: 0.155, Portfolio: [1.0, 0.0], probability: 0.57\n",
      "RequiredRate: 0.16, Portfolio: [1.0, 0.0], probability: 0.59\n",
      "RequiredRate: 0.165, Portfolio: [1.0, 0.0], probability: 0.61\n",
      "RequiredRate: 0.17, Portfolio: [1.0, 0.0], probability: 0.63\n",
      "RequiredRate: 0.17500000000000002, Portfolio: [1.0, 0.0], probability: 0.64\n",
      "RequiredRate: 0.18, Portfolio: [1.0, 0.0], probability: 0.66\n",
      "RequiredRate: 0.185, Portfolio: [1.0, 0.0], probability: 0.68\n",
      "RequiredRate: 0.19, Portfolio: [1.0, 0.0], probability: 0.69\n",
      "RequiredRate: 0.195, Portfolio: [1.0, 0.0], probability: 0.71\n",
      "RequiredRate: 0.2, Portfolio: [1.0, 0.0], probability: 0.72\n"
     ]
    }
   ],
   "source": [
    "portfolio_waights = pd.DataFrame({'RequiredReturn':[], 'Propability': [], 'Acwi': [], 'TBSC': []})\n",
    "\n",
    "requiredReturns = [n * 0.005 for n in range(1, 41)]\n",
    "\n",
    "for n in requiredReturns:\n",
    "    probability, portfolio = findAssetsAllocation(n,means,cov_table)\n",
    "    print(f'RequiredRate: {n}, Portfolio: {portfolio}, probability: {probability}')\n",
    "    \n"
   ]
  },
  {
   "cell_type": "code",
   "execution_count": 59,
   "metadata": {},
   "outputs": [
    {
     "name": "stdout",
     "output_type": "stream",
     "text": [
      "allocations: [0. 1.], mean: 0.027678296419985458, std: 0.035215452091304555\n",
      "allocations: [0.1 0.9], mean: 0.03831891835378337, std: 0.034657970508677007\n",
      "allocations: [0.2 0.8], mean: 0.04895954028758129, std: 0.03771301140818877\n",
      "allocations: [0.3 0.7], mean: 0.059600162221379205, std: 0.0436281674503585\n",
      "allocations: [0.4 0.6], mean: 0.07024078415517712, std: 0.05142579330051563\n",
      "allocations: [0.5 0.5], mean: 0.08088140608897502, std: 0.06038093154305164\n",
      "allocations: [0.6 0.4], mean: 0.09152202802277294, std: 0.07005106014425844\n",
      "allocations: [0.7 0.3], mean: 0.10216264995657086, std: 0.08017789356531406\n",
      "allocations: [0.8 0.2], mean: 0.11280327189036878, std: 0.09060843041194146\n",
      "allocations: [0.9 0.1], mean: 0.12344389382416669, std: 0.10124885264914829\n",
      "allocations: [1. 0.], mean: 0.1340845157579646, std: 0.11203937754080365\n"
     ]
    }
   ],
   "source": [
    "allocations = []\n",
    "\n",
    "xs = (0.1 * n for n in range(11))\n",
    "\n",
    "for n in xs:\n",
    "    allocations.append(np.array([n, 1-n])) \n",
    "\n",
    "\n",
    "portfolioResults = np.zeros((4,len(allocations)), np.float64)\n",
    "\n",
    "for n in range(len(allocations)):\n",
    "    mean = pmean(allocations[n],means)\n",
    "    std = pstd(allocations[n], cov_table)\n",
    "    allocation =  allocations[n]\n",
    "    print(f'allocations: {allocation}, mean: {mean}, std: {std}')\n",
    "\n"
   ]
  },
  {
   "cell_type": "code",
   "execution_count": 60,
   "metadata": {},
   "outputs": [
    {
     "data": {
      "image/png": "[encoded data removed]",
      "text/plain": [
       "<Figure size 432x288 with 1 Axes>"
      ]
     },
     "metadata": {
      "needs_background": "light"
     },
     "output_type": "display_data"
    }
   ],
   "source": [
    "#weight 100,00\n",
    "\n",
    "values = np.random.normal(0.134,0.112,10000)\n",
    "\n",
    "plt.hist(values)\n",
    "plt.show()"
   ]
  },
  {
   "cell_type": "code",
   "execution_count": 61,
   "metadata": {},
   "outputs": [
    {
     "data": {
      "image/png": "[encoded data removed]",
      "text/plain": [
       "<Figure size 432x288 with 1 Axes>"
      ]
     },
     "metadata": {
      "needs_background": "light"
     },
     "output_type": "display_data"
    }
   ],
   "source": [
    "#weight: 60%,40%\n",
    "\n",
    "values = np.random.normal(0.091,0.07,10000)\n",
    "\n",
    "plt.hist(values)\n",
    "plt.show()"
   ]
  },
  {
   "cell_type": "code",
   "execution_count": 62,
   "metadata": {},
   "outputs": [],
   "source": [
    "def generateReturns(period, mean, std):\n",
    "    returns = np.zeros(period)\n",
    "    for n in range(period):\n",
    "        returns[n]= np.random.normal(mean, std)\n",
    "    return returns\n",
    "\n",
    "def generatePortfolio(returns, initial,payment):\n",
    "    portfolioValue = initial\n",
    "    \n",
    "    for r in returns:\n",
    "        portfolioValue = (portfolioValue + payment)* (1+r)\n",
    "\n",
    "    return np.round(portfolioValue,2)\n",
    "\n",
    "def probabilityOfGoal(goal, values: np.array):\n",
    "    return np.count_nonzero(values >= goal)/len(values)\n",
    "    #return [np.percentile(values,25), np.percentile(values,50), np.percentile(values,50)]\n",
    "\n",
    "\n",
    "def goalProbability(goal, period, initial, payment, mean, std):\n",
    "    ntrials = 10000\n",
    "    portfolioValues = np.zeros(ntrials)\n",
    "    \n",
    "    for n in range(ntrials):\n",
    "      returns = generateReturns(period, mean,std)\n",
    "      portfolioValues[n] = generatePortfolio(returns, initial,payment)\n",
    "    \n",
    "    return probabilityOfGoal(goal,portfolioValues)"
   ]
  },
  {
   "cell_type": "code",
   "execution_count": 63,
   "metadata": {},
   "outputs": [
    {
     "name": "stdout",
     "output_type": "stream",
     "text": [
      "0.8286\n"
     ]
    }
   ],
   "source": [
    "goal = 12250\n",
    "initial = 10000\n",
    "payment = 0\n",
    "period = 3\n",
    "weights = np.array([1,0])\n",
    "mean = pmean(weights,means)\n",
    "std = pstd(weights, cov_matrix=cov_table)\n",
    "#mean = 0.093\n",
    "#std = 0.1445\n",
    "probability = goalProbability(goal, period, initial, payment, mean, std)\n",
    "print(probability)"
   ]
  },
  {
   "cell_type": "code",
   "execution_count": 64,
   "metadata": {},
   "outputs": [
    {
     "data": {
      "text/plain": [
       "array([[1, 4],\n",
       "       [2, 5],\n",
       "       [3, 6]])"
      ]
     },
     "execution_count": 64,
     "metadata": {},
     "output_type": "execute_result"
    }
   ],
   "source": [
    "array = np.array([[1,2,3], [4,5,6]])\n",
    "array.T\n"
   ]
  },
  {
   "cell_type": "code",
   "execution_count": 65,
   "metadata": {},
   "outputs": [
    {
     "data": {
      "text/plain": [
       "0.5632323532849406"
      ]
     },
     "execution_count": 65,
     "metadata": {},
     "output_type": "execute_result"
    }
   ],
   "source": [
    "mean = 0.093\n",
    "std = 0.1445\n",
    "expectedReturn=0.07\n",
    "1- norm.cdf(x=expectedReturn, loc=mean, scale=std)\n"
   ]
  },
  {
   "cell_type": "code",
   "execution_count": 66,
   "metadata": {},
   "outputs": [
    {
     "data": {
      "text/plain": [
       "0.478250297488931"
      ]
     },
     "execution_count": 66,
     "metadata": {},
     "output_type": "execute_result"
    }
   ],
   "source": [
    "mean = 0.9417\n",
    "std = 0.4675\n",
    "expectedReturn=0.9672\n",
    "1- norm.cdf(x=expectedReturn, loc=mean, scale=std)"
   ]
  },
  {
   "cell_type": "code",
   "execution_count": 67,
   "metadata": {},
   "outputs": [
    {
     "data": {
      "text/plain": [
       "0.6223"
      ]
     },
     "execution_count": 67,
     "metadata": {},
     "output_type": "execute_result"
    }
   ],
   "source": [
    "mean = 0.093\n",
    "std = 0.1445\n",
    "weights = np.array([1,0])\n",
    "#mean = pmean(weights,means)\n",
    "#std = pstd(weights, cov_table)\n",
    "expectedReturn=0.07\n",
    "returns = np.zeros(10000)\n",
    "t = 10\n",
    "\n",
    "def randCumulative():\n",
    "    cumulative = 1\n",
    "    for n in range(t):\n",
    "        cumulative = cumulative * (1+ np.random.normal(mean,std))\n",
    "    return cumulative ** (1/t) - 1\n",
    "\n",
    "for n in range (10000):\n",
    "    returns[n] = randCumulative()\n",
    "\n",
    "probabilityOfGoal(expectedReturn,returns)\n"
   ]
  },
  {
   "cell_type": "code",
   "execution_count": 68,
   "metadata": {},
   "outputs": [
    {
     "name": "stdout",
     "output_type": "stream",
     "text": [
      "[0.12996868 0.04425469 0.08599044]\n",
      "0.1445\n"
     ]
    }
   ],
   "source": [
    "print(generateReturns(period, mean, std))\n",
    "print(std)"
   ]
  },
  {
   "cell_type": "code",
   "execution_count": 69,
   "metadata": {},
   "outputs": [
    {
     "name": "stdout",
     "output_type": "stream",
     "text": [
      "0.053928755383930785\n"
     ]
    }
   ],
   "source": [
    "t =10\n",
    "r = np.log(500000/400000)*(1/t)\n",
    "std = 0.1\n",
    "ppf = norm.ppf(0.8)\n",
    "mean = 0.5*std**2+ (ppf/(t**(1/2)))*std+r\n",
    "print(mean)\n",
    "\n"
   ]
  },
  {
   "cell_type": "code",
   "execution_count": 70,
   "metadata": {},
   "outputs": [
    {
     "name": "stdout",
     "output_type": "stream",
     "text": [
      "0.09378821647533797\n"
     ]
    }
   ],
   "source": [
    "t =10\n",
    "#r = np.log(500000/400000)*(1/t)\n",
    "r = 0.07\n",
    "std = 0.1445\n",
    "ppf = norm.ppf(0.6149)\n",
    "mean = 0.5*std**2+ (ppf/(t**(1/2)))*std+r\n",
    "print(mean)\n"
   ]
  },
  {
   "cell_type": "code",
   "execution_count": 71,
   "metadata": {},
   "outputs": [
    {
     "data": {
      "text/plain": [
       "4.605170185988092"
      ]
     },
     "execution_count": 71,
     "metadata": {},
     "output_type": "execute_result"
    }
   ],
   "source": [
    "np.log(100)\n",
    "#np.e**7.01775867\n",
    "#np.e**4.605170185988092"
   ]
  },
  {
   "cell_type": "code",
   "execution_count": 72,
   "metadata": {},
   "outputs": [
    {
     "name": "stdout",
     "output_type": "stream",
     "text": [
      "t: 1, min: 57.53995672215052, max: 196.22673580916378, W: [3.98791165 4.05247961 4.11704756 4.18161552 4.24618348 4.31075144\n",
      " 4.3753194  4.43988735 4.50445531 4.56902327 4.63359123 4.69815918\n",
      " 4.76272714 4.8272951  4.89186306 4.95643102 5.02099897 5.08556693\n",
      " 5.15013489 5.21470285]\n",
      "t: 2, min: 46.67352258680458, max: 273.1397082868874, W: [3.75018723 3.84317704 3.93616685 4.02915665 4.12214646 4.21513627\n",
      " 4.30812608 4.40111589 4.4941057  4.58709551 4.68008532 4.77307513\n",
      " 4.86606494 4.95905475 5.05204456 5.14503437 5.23802418 5.33101399\n",
      " 5.4240038  5.51699361]\n",
      "t: 3, min: 40.05967681138664, max: 359.31528324592813, W: [3.57490553 3.69037026 3.805835   3.92129973 4.03676447 4.1522292\n",
      " 4.26769394 4.38315867 4.49862341 4.61408814 4.72955288 4.84501761\n",
      " 4.96048235 5.07594708 5.19141182 5.30687655 5.42234129 5.53780602\n",
      " 5.65327076 5.76873549]\n",
      "t: 4, min: 35.40340018631632, max: 459.0562107123408, W: [3.43194656 3.56680787 3.70166917 3.83653048 3.97139178 4.10625309\n",
      " 4.24111439 4.3759757  4.510837   4.64569831 4.78055961 4.91542092\n",
      " 5.05028222 5.18514353 5.32000483 5.45486614 5.58972744 5.72458875\n",
      " 5.85945006 5.99431136]\n",
      "t: 5, min: 31.878577662673713, max: 575.6249582032351, W: [3.3096436  3.46193424 3.61422487 3.76651551 3.91880615 4.07109678\n",
      " 4.22338742 4.37567806 4.52796869 4.68025933 4.83254997 4.9848406\n",
      " 5.13713124 5.28942188 5.44171251 5.59400315 5.74629379 5.89858442\n",
      " 6.05087506 6.2031657 ]\n"
     ]
    }
   ],
   "source": [
    "meanMin = 0.0526\n",
    "stdMin = 0.0374\n",
    "meanMax = 0.0886\n",
    "stdMax = 0.1954\n",
    "#Wmax = 1834\n",
    "W0 = 100\n",
    "T = 6\n",
    "iMax = 20\n",
    "def Wmax(t,meanMax,stdMin,stdMax):\n",
    "    return W0*np.e**((meanMax-(stdMin**2/2))*t + 3*stdMax*np.sqrt(t))\n",
    "def Wmin(t, meanMin, stdMin, stdMax):\n",
    "    return W0*np.e**((meanMin-stdMax**2/2)*t - 3*stdMax*np.sqrt(t))\n",
    "def Wi(i, imax, Wmin, Wmax):\n",
    "    return np.log(Wmin)+((i-1)/(imax-1))*(np.log(Wmax) - np.log(Wmin))\n",
    "\n",
    "for t in range(1,T):\n",
    "    max = Wmax(t, meanMax, stdMin,stdMax)\n",
    "    min = Wmin(t, meanMin, stdMin, stdMax)\n",
    "    W = np.zeros(iMax)\n",
    "    for i in range (0, iMax):\n",
    "        W[i] = Wi(i,iMax,min,max)\n",
    "    print(f\"t: {t}, min: {min}, max: {max}, W: {W}\")\n",
    "\n"
   ]
  },
  {
   "cell_type": "code",
   "execution_count": 73,
   "metadata": {},
   "outputs": [
    {
     "name": "stdout",
     "output_type": "stream",
     "text": [
      "0.07508914498783525\n"
     ]
    }
   ],
   "source": [
    "max = Wmax(t, meanMax, stdMin,stdMax)\n",
    "min = Wmin(t, meanMin, stdMin, stdMax)\n",
    "logW0 = 4.605170185988092\n",
    "W = np.zeros(iMax)\n",
    "for i in range (0, iMax):\n",
    "    W[i] = Wi(i,iMax,min,max)\n",
    "We = W-logW0\n",
    "E = We[We>=0].min()\n",
    "print(E)\n",
    "W = W-E\n",
    "\n"
   ]
  },
  {
   "cell_type": "code",
   "execution_count": 74,
   "metadata": {},
   "outputs": [
    {
     "data": {
      "text/plain": [
       "' logMax = 7.50683674\\nWmax = np.e**logMax\\nWmax = Wmax*np.e**-E\\nWmax '"
      ]
     },
     "execution_count": 74,
     "metadata": {},
     "output_type": "execute_result"
    }
   ],
   "source": [
    "''' logMax = 7.50683674\n",
    "Wmax = np.e**logMax\n",
    "Wmax = Wmax*np.e**-E\n",
    "Wmax '''"
   ]
  },
  {
   "cell_type": "code",
   "execution_count": 75,
   "metadata": {},
   "outputs": [
    {
     "data": {
      "text/plain": [
       "1834.3584270143306"
      ]
     },
     "execution_count": 75,
     "metadata": {},
     "output_type": "execute_result"
    }
   ],
   "source": [
    "Wmax = Wi(476,476,Wmin(11, meanMin, stdMin, stdMax),Wmax(11, meanMax, stdMin, stdMax))\n",
    "Wmax = Wmax - 0.0018323897958030244\n",
    "np.e**Wmax"
   ]
  },
  {
   "cell_type": "code",
   "execution_count": 76,
   "metadata": {},
   "outputs": [
    {
     "name": "stdout",
     "output_type": "stream",
     "text": [
      "[[ 54.15089958  73.58729481 100.         135.89302373 184.66913898]\n",
      " [ 41.33737257  64.29414637 100.         155.53515467 241.91184338]\n",
      " [ 33.38995822  57.7840447  100.         173.05815216 299.4912403 ]]\n"
     ]
    }
   ],
   "source": [
    "from goal_optimasier import generateGrid\n",
    "meanMin = 0.0526\n",
    "stdMin = 0.0374\n",
    "meanMax = 0.0886\n",
    "stdMax = 0.1954\n",
    "W0 = 100\n",
    "T = 3\n",
    "iMax = 5\n",
    "\n",
    "grid = generateGrid(W0,T,iMax, meanMin, stdMin, meanMax, stdMax)\n",
    "\n",
    "print(grid)\n",
    "\n",
    "#TODO\n",
    "# dodawać 1 do iMax w metodzie, grid to iMax + 1\n",
    "# zrobić assertację, do całej tablicy\n",
    "#dodać grid z chashflowami"
   ]
  },
  {
   "cell_type": "code",
   "execution_count": 77,
   "metadata": {},
   "outputs": [
    {
     "data": {
      "text/plain": [
       "0.35823066284185373"
      ]
     },
     "execution_count": 77,
     "metadata": {},
     "output_type": "execute_result"
    }
   ],
   "source": [
    "def prob1(W0, W1, mean, std, h):\n",
    "    return (1/(std*np.sqrt(h)))*(np.log(W1/W0)-((mean-(std**2)/2)*h))\n",
    "def prob2(W0, W1, mean, std, h):\n",
    "    return norm.pdf((np.log(W1/W0)-(mean-0.5*std**2)*h)/(std*np.sqrt(h)))\n",
    "mean = 0.10\n",
    "std = 0.01\n",
    "h = 1\n",
    "W0 = 100\n",
    "WI1 = 110\n",
    "q = prob2(W0, WI1, mean, std, h)\n",
    "#norm.pdf(q)\n",
    "q"
   ]
  },
  {
   "cell_type": "code",
   "execution_count": 78,
   "metadata": {},
   "outputs": [
    {
     "name": "stdout",
     "output_type": "stream",
     "text": [
      "[ 50.6  58.   66.4  76.1  87.3 100.  114.6 131.3 150.5 172.5]\n",
      "[[0.   0.   0.   0.   0.   0.83 0.17 0.   0.   0.  ]\n",
      " [0.   0.   0.01 0.06 0.16 0.26 0.26 0.16 0.06 0.01]]\n",
      "[[ 0.   0.   0.   0.   0.  83.  19.5  0.   0.   0. ]\n",
      " [ 0.   0.1  0.9  4.6 14.  26.2 30.2 21.3  9.3  2.5]]\n",
      "[102.48587057 109.05939079]\n"
     ]
    },
    {
     "data": {
      "text/plain": [
       "array([1], dtype=int64)"
      ]
     },
     "execution_count": 78,
     "metadata": {},
     "output_type": "execute_result"
    }
   ],
   "source": [
    "from goal_optimasier import calculateTransitionPropabilities\n",
    "\n",
    "W0 = 100\n",
    "meanMin = 0.0526\n",
    "stdMin = 0.0374\n",
    "meanMax = 0.0886\n",
    "stdMax = 0.1954\n",
    "iMax = 10\n",
    "W1 = generateGrid(W0,1,iMax,meanMin,stdMin,meanMax,stdMax)[0]\n",
    "\n",
    "portfolios = [[meanMin,stdMin],[meanMax, stdMax]]\n",
    "\n",
    "probabilities = np.zeros((2,iMax))\n",
    "\n",
    "for i, portfolio in enumerate(portfolios):\n",
    "    probabilities[i] = calculateTransitionPropabilities(portfolio, W0,W1, 1)\n",
    "\n",
    "values = np.multiply(W1, probabilities)\n",
    "print(np.round(W1,1))\n",
    "print(np.round(probabilities,2))\n",
    "print(np.round(values,1))\n",
    "print(values.sum(1))\n",
    "max = values.sum(1).max()\n",
    "port = np.where(values.sum(1) == max)\n",
    "port[0]\n",
    "    "
   ]
  },
  {
   "cell_type": "code",
   "execution_count": 79,
   "metadata": {},
   "outputs": [
    {
     "data": {
      "text/plain": [
       "array([1, 1, 0, 0, 0, 0, 0])"
      ]
     },
     "execution_count": 79,
     "metadata": {},
     "output_type": "execute_result"
    }
   ],
   "source": [
    "from goal_optimasier import reachedGoal\n",
    "\n",
    "W = np.array([150,130,110,100,90,70,50])\n",
    "\n",
    "reachedGoal(W, 130)\n"
   ]
  },
  {
   "cell_type": "code",
   "execution_count": 82,
   "metadata": {},
   "outputs": [
    {
     "ename": "ValueError",
     "evalue": "`indices` and `arr` must have the same number of dimensions",
     "output_type": "error",
     "traceback": [
      "\u001b[1;31m---------------------------------------------------------------------------\u001b[0m",
      "\u001b[1;31mValueError\u001b[0m                                Traceback (most recent call last)",
      "\u001b[1;32mc:\\Users\\matsz\\programowanie\\Optymalizacja portfela\\goal-based-portfolio.ipynb Komórka 39\u001b[0m in \u001b[0;36m<cell line: 23>\u001b[1;34m()\u001b[0m\n\u001b[0;32m     <a href='vscode-notebook-cell:/c%3A/Users/matsz/programowanie/Optymalizacja%20portfela/goal-based-portfolio.ipynb#X53sZmlsZQ%3D%3D?line=20'>21</a>\u001b[0m propabilities \u001b[39m=\u001b[39m calculateTransitionPropabilitiesForAllPorfolios(portfolios,WT, WT1),\n\u001b[0;32m     <a href='vscode-notebook-cell:/c%3A/Users/matsz/programowanie/Optymalizacja%20portfela/goal-based-portfolio.ipynb#X53sZmlsZQ%3D%3D?line=21'>22</a>\u001b[0m indaces \u001b[39m=\u001b[39m np\u001b[39m.\u001b[39marray([[[\u001b[39m1\u001b[39m,\u001b[39m1\u001b[39m,\u001b[39m1\u001b[39m,\u001b[39m0\u001b[39m,\u001b[39m0\u001b[39m]]])\n\u001b[1;32m---> <a href='vscode-notebook-cell:/c%3A/Users/matsz/programowanie/Optymalizacja%20portfela/goal-based-portfolio.ipynb#X53sZmlsZQ%3D%3D?line=22'>23</a>\u001b[0m chosen \u001b[39m=\u001b[39m np\u001b[39m.\u001b[39;49mtake_along_axis(probabilities,indaces,\u001b[39m1\u001b[39;49m)\n\u001b[0;32m     <a href='vscode-notebook-cell:/c%3A/Users/matsz/programowanie/Optymalizacja%20portfela/goal-based-portfolio.ipynb#X53sZmlsZQ%3D%3D?line=23'>24</a>\u001b[0m chosen \u001b[39m=\u001b[39m chosen[:,\u001b[39m0\u001b[39m,:]\n\u001b[0;32m     <a href='vscode-notebook-cell:/c%3A/Users/matsz/programowanie/Optymalizacja%20portfela/goal-based-portfolio.ipynb#X53sZmlsZQ%3D%3D?line=24'>25</a>\u001b[0m np\u001b[39m.\u001b[39mround(probabilities,\u001b[39m3\u001b[39m)\n",
      "File \u001b[1;32m<__array_function__ internals>:180\u001b[0m, in \u001b[0;36mtake_along_axis\u001b[1;34m(*args, **kwargs)\u001b[0m\n",
      "File \u001b[1;32mc:\\Users\\matsz\\miniconda3\\envs\\portfolio-optimisation\\lib\\site-packages\\numpy\\lib\\shape_base.py:170\u001b[0m, in \u001b[0;36mtake_along_axis\u001b[1;34m(arr, indices, axis)\u001b[0m\n\u001b[0;32m    167\u001b[0m     arr_shape \u001b[39m=\u001b[39m arr\u001b[39m.\u001b[39mshape\n\u001b[0;32m    169\u001b[0m \u001b[39m# use the fancy index\u001b[39;00m\n\u001b[1;32m--> 170\u001b[0m \u001b[39mreturn\u001b[39;00m arr[_make_along_axis_idx(arr_shape, indices, axis)]\n",
      "File \u001b[1;32mc:\\Users\\matsz\\miniconda3\\envs\\portfolio-optimisation\\lib\\site-packages\\numpy\\lib\\shape_base.py:34\u001b[0m, in \u001b[0;36m_make_along_axis_idx\u001b[1;34m(arr_shape, indices, axis)\u001b[0m\n\u001b[0;32m     32\u001b[0m     \u001b[39mraise\u001b[39;00m \u001b[39mIndexError\u001b[39;00m(\u001b[39m'\u001b[39m\u001b[39m`indices` must be an integer array\u001b[39m\u001b[39m'\u001b[39m)\n\u001b[0;32m     33\u001b[0m \u001b[39mif\u001b[39;00m \u001b[39mlen\u001b[39m(arr_shape) \u001b[39m!=\u001b[39m indices\u001b[39m.\u001b[39mndim:\n\u001b[1;32m---> 34\u001b[0m     \u001b[39mraise\u001b[39;00m \u001b[39mValueError\u001b[39;00m(\n\u001b[0;32m     35\u001b[0m         \u001b[39m\"\u001b[39m\u001b[39m`indices` and `arr` must have the same number of dimensions\u001b[39m\u001b[39m\"\u001b[39m)\n\u001b[0;32m     36\u001b[0m shape_ones \u001b[39m=\u001b[39m (\u001b[39m1\u001b[39m,) \u001b[39m*\u001b[39m indices\u001b[39m.\u001b[39mndim\n\u001b[0;32m     37\u001b[0m dest_dims \u001b[39m=\u001b[39m \u001b[39mlist\u001b[39m(\u001b[39mrange\u001b[39m(axis)) \u001b[39m+\u001b[39m [\u001b[39mNone\u001b[39;00m] \u001b[39m+\u001b[39m \u001b[39mlist\u001b[39m(\u001b[39mrange\u001b[39m(axis\u001b[39m+\u001b[39m\u001b[39m1\u001b[39m, indices\u001b[39m.\u001b[39mndim))\n",
      "\u001b[1;31mValueError\u001b[0m: `indices` and `arr` must have the same number of dimensions"
     ]
    }
   ],
   "source": [
    "from goal_optimasier import calculateTransitionPropabilities\n",
    "\n",
    "def calculateTransitionPropabilitiesForAllPorfolios(portfolioMeasures, WT, WT1, h=1):\n",
    "    i = len(WT1)\n",
    "    probabilities = np.zeros((i,len(portfolioMeasures),i),np.float64)\n",
    "    for i in range(i):\n",
    "        probabilities[i] = np.apply_along_axis(calculateTransitionPropabilities,1,portfolioMeasures, W0=WT, W1=WT1[i])\n",
    "    return probabilities\n",
    "\n",
    "W0 = 100\n",
    "meanMin = 0.0726\n",
    "stdMin = 0.0574\n",
    "meanMax = 0.0886\n",
    "stdMax = 0.1954\n",
    "iMax = 5\n",
    "WT = generateGrid(W0,1,iMax,meanMin,stdMin,meanMax,stdMax)[0]\n",
    "WT1 = generateGrid(W0,2,iMax,meanMin,stdMin,meanMax,stdMax)[1]\n",
    "\n",
    "portfolios = [[meanMin, stdMin], [meanMax, stdMax]]\n",
    "%timeit\n",
    "propabilities = calculateTransitionPropabilitiesForAllPorfolios(portfolios,WT, WT1),\n",
    "indaces = np.array([[[1,1,1,0,0]]])\n",
    "chosen = np.take_along_axis(probabilities,indaces,1)\n",
    "chosen = chosen[:,0,:]\n",
    "np.round(probabilities,3)\n",
    "np.round(chosen,3)"
   ]
  },
  {
   "cell_type": "code",
   "execution_count": 83,
   "metadata": {},
   "outputs": [
    {
     "data": {
      "text/plain": [
       "(array([0, 0, 0, 1], dtype=int64), array([1.1, 1.4, 1.4, 1.7]))"
      ]
     },
     "execution_count": 83,
     "metadata": {},
     "output_type": "execute_result"
    }
   ],
   "source": [
    "def get_strategies(V):\n",
    "    sums = V.sum(2)\n",
    "    maxes = np.amax(sums,1)\n",
    "    porfolio_ids = np.argmax(sums,1)\n",
    "    return porfolio_ids, maxes\n",
    "\n",
    "V = np.array([[[0,0.2,0.4, 0.5], [0,0,0.3, 0.5]],[[0,0.3,0.5, 0.6], [0,0,0.4, 0.6,]],[[0,0.3,0.5, 0.6], [0,0,0.4, 0.6,]], [[0,0.3,0.4, 0.6], [0,0.3,0.6, 0.8,]]])\n",
    "\n",
    "\"result = [1.1, 1.4, 1.4, 1.7]\"\n",
    "''' ([[1.1, 0.8],\n",
    "       [1.4, 1. ],\n",
    "       [1.4, 1. ], '''\n",
    "\n",
    "get_strategies(V)\n"
   ]
  },
  {
   "cell_type": "code",
   "execution_count": 91,
   "metadata": {},
   "outputs": [
    {
     "data": {
      "text/plain": [
       "0.0"
      ]
     },
     "execution_count": 91,
     "metadata": {},
     "output_type": "execute_result"
    }
   ],
   "source": [
    "from goal_optimasier import reachedGoal\n",
    "from numba import jit\n",
    "\n",
    "\n",
    "def generateGlidePath(W0, goal, T, portfolioMeasures):\n",
    "    iMax = 475\n",
    "    grid = generateGrid(W0,T,iMax,meanMin,stdMin,meanMax,stdMax)\n",
    "    strategies = np.zeros((T,iMax))\n",
    "    V = np.zeros((T,iMax))\n",
    "    probabilitiesT = np.zeros((T,iMax,iMax))\n",
    "\n",
    "    indexOf100 = np.where(grid[1]==100)\n",
    "\n",
    "    V[T-1] = reachedGoal(grid[T-1],goal)   \n",
    "\n",
    "    for t in range(T-2,0,-1):\n",
    "        probabilities = calculateTransitionPropabilitiesForAllPorfolios(portfolioMeasures,grid[t],grid[t+1])\n",
    "        VT = V[t+1] * probabilities        \n",
    "        porfolios_ids, VT_max = get_strategies(VT)\n",
    "        V[t] = VT_max  \n",
    "        strategies[t] = porfolios_ids  \n",
    "        chosen_propabilities = np.take_along_axis(probabilities,np.expand_dims(porfolios_ids,axis=(0,1)),1)\n",
    "        probabilitiesT[t] = chosen_propabilities[:,0,:]\n",
    "\n",
    "    return strategies, grid\n",
    "\n",
    "W0 = 30000\n",
    "meanMin = 0.0526\n",
    "stdMin = 0.0374\n",
    "meanMax = 0.0886\n",
    "stdMax = 0.1954\n",
    "\n",
    "\n",
    "#portfolios = [[meanMin, stdMin], [meanMax, stdMax]]\n",
    "\n",
    "''' portfolios = [[0.05258386, 0.03704926],\n",
    "       [0.05515672, 0.03960988],\n",
    "       [0.05772681, 0.04625568],\n",
    "       [0.06029967, 0.05555016],\n",
    "       [0.06286483, 0.06637403],\n",
    "       [0.06545148, 0.07813246],\n",
    "       [0.06801664, 0.09041086],\n",
    "       [0.07059443, 0.103057  ],\n",
    "       [0.07315959, 0.11592848],\n",
    "       [0.07573245, 0.12898073],\n",
    "       [0.07830254, 0.14213997],\n",
    "       [0.0808754 , 0.15540374],\n",
    "       [0.08344549, 0.16872224],\n",
    "       [0.08601835, 0.18210899],\n",
    "       [0.08858351, 0.19552512]]  ''' #us stock, bonds, int stock\n",
    "\n",
    "''' portfolios = [[0.00510286, 0.00872209],\n",
    "       [0.00644207, 0.01231416],\n",
    "       [0.00708567, 0.01456807],\n",
    "       [0.00772926, 0.01698759],\n",
    "       [0.00837286, 0.01951121],\n",
    "       [0.00901645, 0.02210329],\n",
    "       [0.00966005, 0.02474234],\n",
    "       [0.01030364, 0.02741479],\n",
    "       [0.01094724, 0.03011175],\n",
    "       [0.01159083, 0.03282718]] ''' #ACWI_TBSP\n",
    "\n",
    "''' portfolios = [[0.04672458, 0.03677211],\n",
    "       [0.06510331, 0.04488049],\n",
    "       [0.07397588, 0.05298884],\n",
    "       [0.08157529, 0.06109721],\n",
    "       [0.0886005 , 0.06920556],\n",
    "       [0.09530129, 0.07731393],\n",
    "       [0.1017962 , 0.08542229],\n",
    "       [0.10704432, 0.09353065],\n",
    "       [0.11115349, 0.10163901],\n",
    "       [0.11418045, 0.10974737],\n",
    "       [0.11648888, 0.11785573],\n",
    "       [0.11849021, 0.1259641 ],\n",
    "       [0.12031556, 0.13407246],\n",
    "       [0.12202592, 0.14218083],\n",
    "       [0.12365509, 0.15028918]] #complicates '''\n",
    "\n",
    "porfolios = [[0.0327    , 0.04173246],\n",
    "       [0.04179286, 0.04244059],\n",
    "       [0.05088571, 0.03738179],\n",
    "       [0.05997857, 0.05134557],\n",
    "       [0.06907143, 0.05363915],\n",
    "       [0.07816429, 0.05962   ],\n",
    "       [0.08725714, 0.06832659],\n",
    "       [0.09635   , 0.07895259],\n",
    "       [0.10544286, 0.09097924],\n",
    "       [0.11453571, 0.11089713],\n",
    "       [0.12362857, 0.15015452],\n",
    "       [0.13272143, 0.14603761],\n",
    "       [0.14181429, 0.1431281 ],\n",
    "       [0.15090714, 0.14101715],\n",
    "       [0.16      , 0.13941567]]\n",
    "\n",
    "porfolioStrategy, probabilitiesI = generateGlidePath(W0,2000,19,portfolios)\n",
    "\n",
    "#np.round(probabilitiesI,3)\n",
    "#porfolioStrategy[1,205]\n",
    "porfolioStrategy[0,214]\n",
    "\n"
   ]
  },
  {
   "cell_type": "code",
   "execution_count": null,
   "metadata": {},
   "outputs": [
    {
     "name": "stdout",
     "output_type": "stream",
     "text": [
      "0.6895217966334115\n"
     ]
    }
   ],
   "source": [
    "inputPropabilities = probabilitiesI\n",
    "sums = inputPropabilities.sum(1)\n",
    "cumulativeProbabilities = np.ones((10,475))\n",
    "cumulativeProbabilities[0] = sums[1]\n",
    "T=8\n",
    "for t in range(2,T):\n",
    "    cumulativeProbabilities[t-1] = cumulativeProbabilities[t-2]*sums[t]\n",
    "    \n",
    "print(cumulativeProbabilities[1,205]) \n",
    "\n"
   ]
  },
  {
   "cell_type": "code",
   "execution_count": null,
   "metadata": {},
   "outputs": [
    {
     "data": {
      "text/plain": [
       "1.2815515655446004"
      ]
     },
     "execution_count": 5,
     "metadata": {},
     "output_type": "execute_result"
    }
   ],
   "source": [
    "norm.ppf(0.9)"
   ]
  }
 ],
 "metadata": {
  "kernelspec": {
   "display_name": "portfolio-optimisation",
   "language": "python",
   "name": "python3"
  },
  "language_info": {
   "codemirror_mode": {
    "name": "ipython",
    "version": 3
   },
   "file_extension": ".py",
   "mimetype": "text/x-python",
   "name": "python",
   "nbconvert_exporter": "python",
   "pygments_lexer": "ipython3",
   "version": "3.9.12"
  },
  "orig_nbformat": 4,
  "vscode": {
   "interpreter": {
    "hash": "4bef00bc7c9a78db1045a379974b3641e8d6d719796f9d93b631987f459ca5f0"
   }
  }
 },
 "nbformat": 4,
 "nbformat_minor": 2
}
