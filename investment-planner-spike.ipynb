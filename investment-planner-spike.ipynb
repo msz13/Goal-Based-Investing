{
 "cells": [
  {
   "cell_type": "code",
   "execution_count": 3,
   "metadata": {},
   "outputs": [
    {
     "name": "stdout",
     "output_type": "stream",
     "text": [
      "The autoreload extension is already loaded. To reload it, use:\n",
      "  %reload_ext autoreload\n"
     ]
    }
   ],
   "source": [
    "%load_ext autoreload\n",
    "%autoreload 2\n",
    "\n",
    "import numpy as np\n",
    "from model.investment_planner import  get_goals_strategies, calculateValuesForLastPeriod, calculateBelmanForT \n",
    "from model.propabilities import calculateTransitionPropabilitiesForAllPorfolios, calculateTransitionPropabilitiesForGoals, __calculateWtc\n",
    "from model.grid import generateGrid\n",
    "from scipy.stats import norm"
   ]
  },
  {
   "cell_type": "code",
   "execution_count": 91,
   "metadata": {},
   "outputs": [
    {
     "name": "stdout",
     "output_type": "stream",
     "text": [
      "[[[0.451 0.334 0.197 0.018]\n",
      "  [0.271 0.27  0.258 0.2  ]\n",
      "  [0.255 0.256 0.253 0.237]]\n",
      "\n",
      " [[0.14  0.307 0.366 0.187]\n",
      "  [0.221 0.254 0.266 0.259]\n",
      "  [0.24  0.251 0.255 0.254]]\n",
      "\n",
      " [[0.017 0.105 0.244 0.634]\n",
      "  [0.177 0.234 0.268 0.322]\n",
      "  [0.227 0.246 0.256 0.271]]\n",
      "\n",
      " [[0.001 0.017 0.075 0.908]\n",
      "  [0.14  0.211 0.262 0.387]\n",
      "  [0.215 0.241 0.257 0.288]]]\n"
     ]
    },
    {
     "data": {
      "text/plain": [
       "array([49. , 55.3, 87.8, 98.3])"
      ]
     },
     "execution_count": 91,
     "metadata": {},
     "output_type": "execute_result"
    }
   ],
   "source": [
    "\n",
    "portfolios = np.array([[0.0526, 0.0374], [0.07059443, 0.103057  ], [0.0886, 0.1954]])\n",
    "W0 = np.array([90,95,100,105])\n",
    "W1 = np.array([100,103,105,110])\n",
    "infusions = 2\n",
    "cost = 3\n",
    "h = 1\n",
    "\n",
    "values = [0,0,100,100]\n",
    "\n",
    "#propabilities = calculateTransitionPropabilitiesForAllPorfolios(portfolios, W0, W1, infusions, cost, h)\n",
    "propabilities = np.array([[[0.451, 0.334, 0.197, 0.018],\n",
    "                                    [0.271, 0.27,  0.258, 0.2  ],\n",
    "                                    [0.255, 0.256, 0.253, 0.237]],\n",
    "\n",
    "                                    [[0.14,  0.307, 0.366, 0.187],\n",
    "                                    [0.221, 0.254, 0.266, 0.259],\n",
    "                                    [0.24,  0.251, 0.255, 0.254]],\n",
    "\n",
    "                                    [[0.017, 0.105, 0.244, 0.634],\n",
    "                                    [0.177, 0.234, 0.268, 0.322],\n",
    "                                    [0.227, 0.246, 0.256, 0.271]],\n",
    "\n",
    "                                    [[0.001, 0.017, 0.075, 0.908],\n",
    "                                    [0.14,  0.211, 0.262, 0.387],\n",
    "                                    [0.215, 0.241, 0.257, 0.288]]])\n",
    "print(np.round(propabilities, 3))\n",
    "values = propabilities*values\n",
    "np.round(np.amax(values.sum(2),1),3)\n",
    "#values.sum(2)\n"
   ]
  },
  {
   "cell_type": "code",
   "execution_count": 92,
   "metadata": {},
   "outputs": [
    {
     "name": "stderr",
     "output_type": "stream",
     "text": [
      "C:\\Users\\matsz\\AppData\\Local\\Temp\\ipykernel_20648\\1125093231.py:7: VisibleDeprecationWarning: Creating an ndarray from ragged nested sequences (which is a list-or-tuple of lists-or-tuples-or ndarrays with different lengths or shapes) is deprecated. If you meant to do this, you must specify 'dtype=object' when creating the ndarray.\n",
      "  goals = np.array([empty_goal, empty_goal, empty_goal, empty_goal, empty_goal, np.array([[0,0],[60,200]]),empty_goal, empty_goal, empty_goal, empty_goal,np.array([[0,0],[120,1500]])])\n"
     ]
    },
    {
     "ename": "AttributeError",
     "evalue": "'numpy.ndarray' object has no attribute 'get'",
     "output_type": "error",
     "traceback": [
      "\u001b[1;31m---------------------------------------------------------------------------\u001b[0m",
      "\u001b[1;31mAttributeError\u001b[0m                            Traceback (most recent call last)",
      "\u001b[1;32mc:\\Users\\matsz\\programowanie\\Optymalizacja portfela\\investment-planner-spike.ipynb Cell 3\u001b[0m in \u001b[0;36m<cell line: 10>\u001b[1;34m()\u001b[0m\n\u001b[0;32m      <a href='vscode-notebook-cell:/c%3A/Users/matsz/programowanie/Optymalizacja%20portfela/investment-planner-spike.ipynb#W2sZmlsZQ%3D%3D?line=6'>7</a>\u001b[0m goals \u001b[39m=\u001b[39m np\u001b[39m.\u001b[39marray([empty_goal, empty_goal, empty_goal, empty_goal, empty_goal, np\u001b[39m.\u001b[39marray([[\u001b[39m0\u001b[39m,\u001b[39m0\u001b[39m],[\u001b[39m60\u001b[39m,\u001b[39m200\u001b[39m]]),empty_goal, empty_goal, empty_goal, empty_goal,np\u001b[39m.\u001b[39marray([[\u001b[39m0\u001b[39m,\u001b[39m0\u001b[39m],[\u001b[39m120\u001b[39m,\u001b[39m1500\u001b[39m]])])\n\u001b[0;32m      <a href='vscode-notebook-cell:/c%3A/Users/matsz/programowanie/Optymalizacja%20portfela/investment-planner-spike.ipynb#W2sZmlsZQ%3D%3D?line=7'>8</a>\u001b[0m iMax \u001b[39m=\u001b[39m \u001b[39m400\u001b[39m\n\u001b[1;32m---> <a href='vscode-notebook-cell:/c%3A/Users/matsz/programowanie/Optymalizacja%20portfela/investment-planner-spike.ipynb#W2sZmlsZQ%3D%3D?line=9'>10</a>\u001b[0m grid \u001b[39m=\u001b[39m generateGrid(W0,T,iMax, infusions, goals, portfolios[\u001b[39m0\u001b[39;49m,\u001b[39m0\u001b[39;49m], portfolios[\u001b[39m0\u001b[39;49m,\u001b[39m1\u001b[39;49m], portfolios[\u001b[39m2\u001b[39;49m,\u001b[39m0\u001b[39;49m], portfolios[\u001b[39m2\u001b[39;49m,\u001b[39m1\u001b[39;49m])\n\u001b[0;32m     <a href='vscode-notebook-cell:/c%3A/Users/matsz/programowanie/Optymalizacja%20portfela/investment-planner-spike.ipynb#W2sZmlsZQ%3D%3D?line=10'>11</a>\u001b[0m grid \u001b[39m=\u001b[39m grid\u001b[39m.\u001b[39mT\n",
      "File \u001b[1;32mc:\\Users\\matsz\\programowanie\\Optymalizacja portfela\\investment_planner.py:32\u001b[0m, in \u001b[0;36mgenerateGrid\u001b[1;34m(W0, T, iMax, infusions, goals, minMean, minStd, maxMean, maxStd)\u001b[0m\n\u001b[0;32m     30\u001b[0m Wmin \u001b[39m=\u001b[39m \u001b[39m1\u001b[39m\n\u001b[0;32m     31\u001b[0m \u001b[39mfor\u001b[39;00m t \u001b[39min\u001b[39;00m \u001b[39mrange\u001b[39m(\u001b[39m1\u001b[39m,T\u001b[39m+\u001b[39m\u001b[39m1\u001b[39m):\n\u001b[1;32m---> 32\u001b[0m     cmax \u001b[39m=\u001b[39m goals\u001b[39m.\u001b[39mget(t)[:,\u001b[39m0\u001b[39m]\u001b[39m.\u001b[39mmax() \u001b[39mif\u001b[39;00m (goals\u001b[39m.\u001b[39;49mget(t) \u001b[39mis\u001b[39;00m \u001b[39mnot\u001b[39;00m \u001b[39mNone\u001b[39;00m) \u001b[39melse\u001b[39;00m \u001b[39m0\u001b[39m \n\u001b[0;32m     33\u001b[0m     wMin \u001b[39m=\u001b[39m WMin(t,W0,infusions,cmax, minMean,minStd,maxStd)\n\u001b[0;32m     34\u001b[0m     wMin \u001b[39m=\u001b[39m Wmin \u001b[39mif\u001b[39;00m np\u001b[39m.\u001b[39mall(wMin \u001b[39m<\u001b[39m Wmin) \u001b[39melse\u001b[39;00m wMin\n",
      "\u001b[1;31mAttributeError\u001b[0m: 'numpy.ndarray' object has no attribute 'get'"
     ]
    }
   ],
   "source": [
    "portfolios = np.array([[0.0526, 0.0374], [0.07059443, 0.103057], [0.0886, 0.1954]])\n",
    "W0 = 100\n",
    "T = 10\n",
    "#infusions = [0,25000,25000,25000,25000,25000,25000,25000,25000,25000,25000]\n",
    "infusions = np.zeros(13)\n",
    "empty_goal = np.array([[0,0]])\n",
    "goals = np.array([empty_goal, empty_goal, empty_goal, empty_goal, empty_goal, np.array([[0,0],[60,200]]),empty_goal, empty_goal, empty_goal, empty_goal,np.array([[0,0],[120,1500]])])\n",
    "iMax = 400\n",
    "\n",
    "grid = generateGrid(W0,T,iMax, infusions, goals, portfolios[0,0], portfolios[0,1], portfolios[2,0], portfolios[2,1])\n",
    "grid = grid.T"
   ]
  },
  {
   "cell_type": "code",
   "execution_count": null,
   "metadata": {},
   "outputs": [
    {
     "data": {
      "text/plain": [
       "1837.722768128645"
      ]
     },
     "execution_count": 5,
     "metadata": {},
     "output_type": "execute_result"
    }
   ],
   "source": [
    "W0 = 100\n",
    "meanMax = 0.0886\n",
    "stdMin = 0.0374\n",
    "stdMax = 0.1954\n",
    "t =11\n",
    "\n",
    "W0*np.exp((meanMax-(stdMin**2/2))*t + 3*stdMax*np.sqrt(t))"
   ]
  },
  {
   "cell_type": "code",
   "execution_count": null,
   "metadata": {},
   "outputs": [
    {
     "data": {
      "text/plain": [
       "array([[[105, 100],\n",
       "        [110, 200],\n",
       "        [105, 100],\n",
       "        [110, 200],\n",
       "        [105, 100],\n",
       "        [110, 200],\n",
       "        [105, 100],\n",
       "        [110, 200],\n",
       "        [105, 100],\n",
       "        [110, 200]],\n",
       "\n",
       "       [[105, 100],\n",
       "        [110, 200],\n",
       "        [105, 100],\n",
       "        [110, 200],\n",
       "        [105, 100],\n",
       "        [110, 200],\n",
       "        [105, 100],\n",
       "        [110, 200],\n",
       "        [105, 100],\n",
       "        [110, 200]]])"
      ]
     },
     "execution_count": 6,
     "metadata": {},
     "output_type": "execute_result"
    }
   ],
   "source": [
    "k = np.array([[105,100],[110,200]])\n",
    "wealthInT = np.array([90,95,100,105,110])\n",
    "Wk = np.tile(wealthInT, (2,1))\n",
    "ki = np.tile(k, (2, 5,1))\n",
    "#np.where(Wk >= k[:,0], k[:,1], 0)\n",
    "ki"
   ]
  },
  {
   "cell_type": "code",
   "execution_count": null,
   "metadata": {},
   "outputs": [],
   "source": [
    "def get_ef_port_analytically(rets, covm, targ):\n",
    "    \"\"\"Solve for the efficient frontier weights for a given expected return\n",
    "    vector `rets`, covariance matrix `covm`, and expected portfolio return\n",
    "    `targ`.\n",
    "    \"\"\"\n",
    "    N = rets.shape[0]\n",
    "    u = np.array([targ, 1])[:, None]\n",
    "    U = np.vstack([rets, np.ones_like(rets)]).T\n",
    "\n",
    "    covm_inv = np.linalg.solve(covm, np.eye(N))\n",
    "    M        = U.T @ covm_inv @ U\n",
    "    M_inv    = np.linalg.solve(M, np.eye(2))\n",
    "    weights  = covm_inv @ U @ M_inv @ u\n",
    "\n",
    "    return weights\n"
   ]
  },
  {
   "cell_type": "code",
   "execution_count": null,
   "metadata": {},
   "outputs": [
    {
     "data": {
      "text/plain": [
       "array([[0.44472681],\n",
       "       [0.55527319]])"
      ]
     },
     "execution_count": 10,
     "metadata": {},
     "output_type": "execute_result"
    }
   ],
   "source": [
    "cov_tab = np.array([[0.0002, -0.00],\n",
    "                    [-0.00, 0.0013]])\n",
    "means = np.array([0.0307, 0.1094])\n",
    "\n",
    "mu = 0.0744\n",
    "std = 0.0712\n",
    "\n",
    "w = get_ef_port_analytically(means,cov_tab,mu)\n",
    "\n",
    "w"
   ]
  },
  {
   "cell_type": "code",
   "execution_count": null,
   "metadata": {},
   "outputs": [
    {
     "data": {
      "text/plain": [
       "1.0453784911703342e-45"
      ]
     },
     "execution_count": 11,
     "metadata": {},
     "output_type": "execute_result"
    }
   ],
   "source": [
    "def __prob(W0, W1, mean, std, h):\n",
    "    return norm.pdf((np.log(W1/W0)-(mean-0.5*std**2)*h)/(std*np.sqrt(h)))\n",
    "portfolios = np.array([[0.0526, 0.0374], [0.07059443, 0.103057  ], [0.0886, 0.1954]])\n",
    "W0 = np.array([49,50,60,80,100,105])\n",
    "W1 = np.array([90,95,100,103,105,110])\n",
    "infusions = 5\n",
    "h = 1\n",
    "__prob(W0[1],W1[0],portfolios[0,0],portfolios[0,1],h)"
   ]
  },
  {
   "cell_type": "code",
   "execution_count": null,
   "metadata": {},
   "outputs": [
    {
     "name": "stdout",
     "output_type": "stream",
     "text": [
      "[  0.  50.  50. 100. 100. 150.]\n",
      "[0 1 1 2 2 3]\n"
     ]
    }
   ],
   "source": [
    "goals = np.array([[0,0,],[40,50], [60,100], [100,150]])\n",
    "WT = np.array([39, 40, 59,60, 80, 100])\n",
    "expected = np.array([0,50,50,100,100, 150])\n",
    "\n",
    "result, goal_strategies = calculateValuesForLastPeriod(WT, goals)\n",
    "print(result)\n",
    "print(goal_strategies)"
   ]
  },
  {
   "cell_type": "code",
   "execution_count": null,
   "metadata": {},
   "outputs": [
    {
     "name": "stdout",
     "output_type": "stream",
     "text": [
      "[[[1.    0.    0.    0.   ]\n",
      "  [0.926 0.065 0.008 0.   ]\n",
      "  [0.017 0.105 0.244 0.634]\n",
      "  [0.001 0.017 0.075 0.908]]\n",
      "\n",
      " [[0.65  0.226 0.108 0.016]\n",
      "  [0.388 0.284 0.222 0.106]\n",
      "  [0.177 0.234 0.268 0.322]\n",
      "  [0.14  0.211 0.262 0.387]]\n",
      "\n",
      " [[0.368 0.275 0.225 0.133]\n",
      "  [0.287 0.264 0.247 0.202]\n",
      "  [0.227 0.246 0.256 0.271]\n",
      "  [0.215 0.241 0.257 0.288]]]\n"
     ]
    }
   ],
   "source": [
    "portfolios = np.array([[0.0526, 0.0374], [0.07059443, 0.103057  ], [0.0886, 0.1954]])\n",
    "W0 = np.array([60, 80,100,105])\n",
    "W1 = np.array([100,103,105,110])\n",
    "infusions = 5\n",
    "\n",
    "h = 1\n",
    "\n",
    "values = [0,0,100,100]\n",
    "\n",
    "propabilities = calculateTransitionPropabilitiesForAllPorfolios(portfolios, W0, W1, infusions, h)\n",
    "\n",
    "print(np.round(propabilities, 3))\n"
   ]
  },
  {
   "cell_type": "code",
   "execution_count": null,
   "metadata": {},
   "outputs": [
    {
     "data": {
      "text/plain": [
       "array([[[ 0.  ,  0.  ,  0.  ,  0.  ],\n",
       "        [ 0.  ,  0.  ,  0.83,  0.  ],\n",
       "        [ 0.  ,  0.  , 24.44, 63.36],\n",
       "        [ 0.  ,  0.  ,  7.45, 90.76]],\n",
       "\n",
       "       [[ 0.  ,  0.  , 10.84,  1.59],\n",
       "        [ 0.  ,  0.  , 22.2 , 10.57],\n",
       "        [ 0.  ,  0.  , 26.76, 32.16],\n",
       "        [ 0.  ,  0.  , 26.24, 38.67]],\n",
       "\n",
       "       [[ 0.  ,  0.  , 22.47, 13.25],\n",
       "        [ 0.  ,  0.  , 24.7 , 20.2 ],\n",
       "        [ 0.  ,  0.  , 25.6 , 27.09],\n",
       "        [ 0.  ,  0.  , 25.68, 28.75]]])"
      ]
     },
     "execution_count": 112,
     "metadata": {},
     "output_type": "execute_result"
    }
   ],
   "source": [
    "np.round(propabilities * np.array([0,0,100,100]),2)\n"
   ]
  },
  {
   "cell_type": "code",
   "execution_count": null,
   "metadata": {},
   "outputs": [
    {
     "name": "stdout",
     "output_type": "stream",
     "text": [
      "[[[1.    0.    0.    0.    0.    0.    0.    0.   ]\n",
      "  [1.    0.    0.    0.    0.    0.    0.    0.   ]\n",
      "  [1.    0.    0.    0.    0.    0.    0.    0.   ]\n",
      "  [0.769 0.221 0.01  0.001 0.    0.    0.    0.   ]\n",
      "  [0.    0.    0.017 0.105 0.244 0.633 0.    0.   ]\n",
      "  [0.    0.    0.001 0.017 0.075 0.908 0.    0.   ]\n",
      "  [0.    0.    0.    0.    0.    0.    0.504 0.496]\n",
      "  [0.    0.    0.    0.    0.    0.    0.128 0.872]]\n",
      "\n",
      " [[0.91  0.082 0.006 0.001 0.    0.    0.    0.   ]\n",
      "  [0.901 0.089 0.008 0.002 0.001 0.    0.    0.   ]\n",
      "  [0.769 0.178 0.035 0.012 0.006 0.001 0.    0.   ]\n",
      "  [0.281 0.255 0.18  0.132 0.103 0.049 0.    0.   ]\n",
      "  [0.03  0.08  0.158 0.208 0.238 0.286 0.    0.   ]\n",
      "  [0.016 0.053 0.131 0.196 0.244 0.36  0.    0.   ]\n",
      "  [0.    0.    0.    0.    0.    0.    0.484 0.516]\n",
      "  [0.    0.    0.    0.    0.    0.    0.421 0.579]]\n",
      "\n",
      " [[0.472 0.243 0.121 0.078 0.058 0.027 0.    0.   ]\n",
      "  [0.461 0.244 0.124 0.081 0.061 0.029 0.    0.   ]\n",
      "  [0.353 0.237 0.151 0.113 0.092 0.054 0.    0.   ]\n",
      "  [0.196 0.192 0.175 0.161 0.151 0.124 0.    0.   ]\n",
      "  [0.106 0.14  0.169 0.184 0.191 0.202 0.006 0.003]\n",
      "  [0.09  0.127 0.164 0.184 0.196 0.22  0.012 0.006]\n",
      "  [0.    0.    0.001 0.002 0.003 0.005 0.489 0.5  ]\n",
      "  [0.    0.    0.    0.001 0.001 0.002 0.474 0.521]]]\n",
      "[2 2 2 2 0 0 0 0]\n",
      "[  8.6   9.1  14.6  27.5  87.8  98.2 100.  100. ]\n",
      "[[0.47 0.24 0.12 0.08 0.06 0.03 0.   0.  ]\n",
      " [0.46 0.24 0.12 0.08 0.06 0.03 0.   0.  ]\n",
      " [0.35 0.24 0.15 0.11 0.09 0.05 0.   0.  ]\n",
      " [0.2  0.19 0.18 0.16 0.15 0.12 0.   0.  ]\n",
      " [0.   0.   0.02 0.1  0.24 0.63 0.   0.  ]\n",
      " [0.   0.   0.   0.02 0.07 0.91 0.   0.  ]\n",
      " [0.   0.   0.   0.   0.   0.   0.5  0.5 ]\n",
      " [0.   0.   0.   0.   0.   0.   0.13 0.87]]\n"
     ]
    }
   ],
   "source": [
    "portfolios = np.array([[0.0526, 0.0374], [0.07059443, 0.103057  ], [0.0886, 0.1954]])\n",
    "WT = np.array([49,50,60,80,100,105,180,190])\n",
    "WT1 = np.array([90,95,100,103,105,110, 190,200])\n",
    "VT1 = [00,00,00,00,100,100, 100, 100]\n",
    "c = 50\n",
    "#goals = [[50, 80], [30, 50],]\n",
    "VTc0 = np.array([29.014, 29.55, 77.286, 95.997])\n",
    "\n",
    "probabilities = calculateTransitionPropabilitiesForAllPorfolios(portfolios,WT,WT1,5,1)\n",
    "print(np.round(probabilities,3))\n",
    "\"\"\"\"\n",
    "portfolios_strategies, VT, chosen_propabilities, V = get_portfolios_strategies(VT1,probabilities)\n",
    "print(portfolios_strategies)\n",
    "print(VT)\n",
    "print(np.round(chosen_propabilities,3))\n",
    "print(np.round(V,3)) \n",
    "\"\"\"\n",
    "porfolios_strategies, VT, chosen_propabilities = calculateBelman(VT1,probabilities)\n",
    "print(np.round(porfolios_strategies,1))\n",
    "print(np.round(VT,1))\n",
    "print(np.round(chosen_propabilities,2))\n"
   ]
  },
  {
   "cell_type": "code",
   "execution_count": null,
   "metadata": {},
   "outputs": [
    {
     "data": {
      "text/plain": [
       "array([0, 0, 0, 0, 0, 0], dtype=int64)"
      ]
     },
     "execution_count": 39,
     "metadata": {},
     "output_type": "execute_result"
    }
   ],
   "source": [
    "v = np.array([[100,100,100,100,100,100],\n",
    "              [100,100,100,100,100,100],\n",
    "              [100,100,100,100,100,100]])\n",
    "np.argmax(np.round(VT,4),0)"
   ]
  },
  {
   "cell_type": "code",
   "execution_count": null,
   "metadata": {},
   "outputs": [
    {
     "data": {
      "text/plain": [
       "10.1235"
      ]
     },
     "execution_count": 38,
     "metadata": {},
     "output_type": "execute_result"
    }
   ],
   "source": [
    "n = 10.123456\n",
    "np.round(n,4)"
   ]
  },
  {
   "cell_type": "code",
   "execution_count": 177,
   "metadata": {},
   "outputs": [
    {
     "data": {
      "text/plain": [
       "array([[14, 15, 25, 45, 65, 70],\n",
       "       [ 5,  6, 16, 36, 56, 61],\n",
       "       [-6, -5,  5, 25, 45, 50]])"
      ]
     },
     "execution_count": 177,
     "metadata": {},
     "output_type": "execute_result"
    }
   ],
   "source": [
    "def __calculateWtc(WT, goals_costs, infusion):        \n",
    "    k = len(goals_costs)\n",
    "    cf = goals_costs - infusion\n",
    "    Wtc = np.tile(WT,(k,1)) - cf.reshape((k,1))\n",
    "    return Wtc\n",
    "goals = np.array([[40,10],[49, 15],[60, 30]])\n",
    "WT = np.array([49,50,60,80,100,105])\n",
    "infusion = 5\n",
    "__calculateWtc(WT,goals[:,0],infusion)"
   ]
  },
  {
   "cell_type": "code",
   "execution_count": null,
   "metadata": {},
   "outputs": [
    {
     "data": {
      "text/plain": [
       "(array([[[0.0886    , 0.1954    ],\n",
       "         [0.0886    , 0.1954    ],\n",
       "         [0.07059443, 0.103057  ],\n",
       "         [0.0526    , 0.0374    ]],\n",
       " \n",
       "        [[0.0886    , 0.1954    ],\n",
       "         [0.0886    , 0.1954    ],\n",
       "         [0.0886    , 0.1954    ],\n",
       "         [0.07059443, 0.103057  ]]]),\n",
       " array([[0.06950942, 0.06950942, 0.06528406, 0.05190062],\n",
       "        [0.06950942, 0.06950942, 0.06950942, 0.06528406]]),\n",
       " array([[0.1954  , 0.1954  , 0.103057, 0.0374  ],\n",
       "        [0.1954  , 0.1954  , 0.1954  , 0.103057]]))"
      ]
     },
     "execution_count": 16,
     "metadata": {},
     "output_type": "execute_result"
    }
   ],
   "source": [
    "def __calculate_drift(goal_porfolio_strategies, portfolios, h=1):\n",
    "    portfolios_measures = np.take(portfolios, goal_porfolio_strategies, axis=0)\n",
    "    b = (portfolios_measures[:,:,0]-0.5*portfolios_measures[:,:,1]**2)*h\n",
    "    c = portfolios_measures[:,:,1]*np.sqrt(h)\n",
    "    return portfolios_measures, b, c\n",
    "\n",
    "goal_porfolio_strategies = np.array([[2,2,1,0],\n",
    "                                    [2,2,2,1]])\n",
    "\n",
    "portfolios = np.array([[0.0526, 0.0374], [0.07059443, 0.103057  ], [0.0886, 0.1954]])\n",
    "\n",
    "__calculate_drift(goal_porfolio_strategies, portfolios)\n",
    "\n",
    "#b result porfolio 2, 0.06950942\n",
    "\n",
    "\n"
   ]
  },
  {
   "cell_type": "code",
   "execution_count": 153,
   "metadata": {},
   "outputs": [
    {
     "name": "stdout",
     "output_type": "stream",
     "text": [
      "[[[0.612 0.244 0.095 0.036 0.014]\n",
      "  [0.501 0.265 0.135 0.067 0.032]\n",
      "  [0.308 0.253 0.195 0.143 0.101]\n",
      "  [0.175 0.201 0.213 0.212 0.198]\n",
      "  [0.    0.012 0.2   0.522 0.267]]\n",
      "\n",
      " [[  nan   nan   nan   nan   nan]\n",
      "  [  nan   nan   nan   nan   nan]\n",
      "  [0.712 0.207 0.059 0.017 0.005]\n",
      "  [0.491 0.266 0.139 0.07  0.034]\n",
      "  [0.438 0.268 0.157 0.088 0.048]]]\n"
     ]
    }
   ],
   "source": [
    "from investment_planner import __get_porfolios_strategy_for_wealth_values, calculateTransitionPropabilitiesForGoals\n",
    "\n",
    "goals = np.array([[5,5],[49, 15],[60, 30]])\n",
    "WT = np.array([49,50,60,80,100,105])\n",
    "#WT1 = np.array([90,95,100,103,105,110])\n",
    "WT1 = np.array([90,95,100,105,110])\n",
    "infusion = 5\n",
    "porfolios = np.array([[0.0526, 0.0374], [0.07059443, 0.103057  ], [0.0886, 0.1954]])\n",
    "''' Wtc = np.array([[44, 45, 55, 75, 95, 100],\n",
    "                [ 5,  6, 16, 36, 56, 61],\n",
    "                [-6, -5,  5, 25, 45, 50]]) '''\n",
    "\n",
    "Wtc = np.array([[45, 55, 75, 95, 100],\n",
    "                [ -16, 0, 36, 56, 61]])\n",
    "\n",
    "portfolios_for_goals = np.array([[[0.0886, 0.1954],\n",
    "                                  [0.0886, 0.1954],\n",
    "                                  [0.0886, 0.1954],\n",
    "                                  [0.0886, 0.1954],                                  \n",
    "                                  [0.0526, 0.0374]],                        \n",
    "                                 [[0.0886, 0.1954],\n",
    "                                  [0.0886, 0.1954],                                  \n",
    "                                  [0.0886, 0.1954],\n",
    "                                  [0.0886, 0.1954],\n",
    "                                  [0.0886, 0.1954]],                                  \n",
    "                                  ])\n",
    "\n",
    "prob = calculateTransitionPropabilitiesForGoals(Wtc, WT1, portfolios_for_goals,1)\n",
    "print(np.round(prob, 3))\n",
    "\n",
    "\n"
   ]
  },
  {
   "cell_type": "code",
   "execution_count": 136,
   "metadata": {},
   "outputs": [
    {
     "data": {
      "text/plain": [
       "nan"
      ]
     },
     "execution_count": 136,
     "metadata": {},
     "output_type": "execute_result"
    }
   ],
   "source": []
  },
  {
   "cell_type": "code",
   "execution_count": 130,
   "metadata": {},
   "outputs": [
    {
     "data": {
      "text/plain": [
       "array([[[ 0.,  0., 20.,  0.],\n",
       "        [ 0.,  0., 20., 15.],\n",
       "        [ 0.,  0., 30., 30.],\n",
       "        [ 0.,  0., 40., 30.]],\n",
       "\n",
       "       [[nan, nan, nan, nan],\n",
       "        [ 0.,  0., 20.,  0.],\n",
       "        [ 0.,  0., 40., 45.],\n",
       "        [ 0.,  0., 50., 30.]],\n",
       "\n",
       "       [[nan, nan, nan, nan],\n",
       "        [nan, nan, nan, nan],\n",
       "        [ 0.,  0., 20.,  0.],\n",
       "        [ 0.,  0., 20., 15.]]])"
      ]
     },
     "execution_count": 130,
     "metadata": {},
     "output_type": "execute_result"
    }
   ],
   "source": [
    "probabilities = np.array([[[0.4, 0.4, 0.2, 0],\n",
    "                           [0.4, 0.3, 0.2, 0.1],\n",
    "                           [0.2, 0.3, 0.3, 0.2],\n",
    "                           [0.1, 0.3, 0.4, 0.2]\n",
    "                           ],\n",
    "                           [[np.nan, np.nan, np.nan, np.nan],                            \n",
    "                            [0.4, 0.4, 0.2, 0],\n",
    "                            [0.1, 0.2, 0.4, 0.3],\n",
    "                            [0.1, 0.2, 0.5, 0.2]\n",
    "                           ],[\n",
    "                           [np.nan, np.nan, np.nan, np.nan],  \n",
    "                           [np.nan, np.nan, np.nan, np.nan],                         \n",
    "                            [0.4, 0.4, 0.2, 0],\n",
    "                            [0.4, 0.3, 0.2, 0.1]                            \n",
    "                           ]])    \n",
    "\n",
    "probabilities * [0,0,100,150]"
   ]
  },
  {
   "cell_type": "code",
   "execution_count": null,
   "metadata": {},
   "outputs": [
    {
     "name": "stdout",
     "output_type": "stream",
     "text": [
      "0.05190062\n",
      "5.77555159403567e-05\n"
     ]
    },
    {
     "data": {
      "text/plain": [
       "0.20341002067644562"
      ]
     },
     "execution_count": 18,
     "metadata": {},
     "output_type": "execute_result"
    }
   ],
   "source": [
    "def __prob(W0, W1, mean, std, Infusion, Cost, h):\n",
    "    return norm.pdf((np.log(W1/(W0+Infusion+Cost))-(mean-0.5*std**2)*h)/(std*np.sqrt(h)))\n",
    "\n",
    "print((0.0526-0.5*0.0374**2))\n",
    "print(__prob(100,90,0.0526, 0.0374, 0,0,1))\n",
    "np.log(105/95)\n",
    "#np.round(np.expand_dims(prob.sum(1), 1),3)\n",
    "norm.pdf((np.log(110/100)-0.05190062)/0.0374)"
   ]
  },
  {
   "cell_type": "code",
   "execution_count": 114,
   "metadata": {},
   "outputs": [
    {
     "name": "stdout",
     "output_type": "stream",
     "text": [
      "[ 49  50  60  80 100 105]\n",
      "[[ 44  45  55  75  95 100]\n",
      " [ 29  30  40  60  80  85]\n",
      " [-11 -10   0  20  40  45]]\n"
     ]
    },
    {
     "data": {
      "text/plain": [
       "array([[2, 2, 2, 1, 0, 0],\n",
       "       [2, 2, 2, 2, 1, 1],\n",
       "       [2, 2, 2, 2, 2, 2]])"
      ]
     },
     "execution_count": 114,
     "metadata": {},
     "output_type": "execute_result"
    }
   ],
   "source": [
    "def __get_porfolio_strategy_for_wealth_values(WT, wealth_value, porfolios_strategies):\n",
    "    k = wealth_value.shape[0]\n",
    "    i = wealth_value.shape[1]\n",
    "    wc = wealth_value.reshape(k*i,1)\n",
    "    wg = np.tile(WT,(k*i,1))\n",
    "    difference = np.absolute(wg - wc)\n",
    "    index = np.argmin(difference, axis=1)\n",
    "    index = index.reshape(k,i)\n",
    "    return np.take(porfolios_strategies,index)\n",
    "\n",
    "porfolios_strategies = [2,2,2,1,0,0]\n",
    "WT = np.array([49,50,60,80,100,105])\n",
    "goals = np.array([[5,5],[20,10],[60, 30]])\n",
    "Wtc = np.tile(WT,(len(goals),1)) - goals[:,0].reshape(len(goals),1)\n",
    "#result [[2,2,2,1,0,0],\n",
    "#        [2,2,2,2,1,1],\n",
    "#        [2,2,2,2,2,2]\n",
    "print(WT)\n",
    "print(Wtc)\n",
    "\n",
    "__get_porfolio_strategy_for_wealth_values(WT, Wtc, porfolios_strategies)\n"
   ]
  },
  {
   "attachments": {},
   "cell_type": "markdown",
   "metadata": {},
   "source": [
    "\n"
   ]
  },
  {
   "cell_type": "code",
   "execution_count": 7,
   "metadata": {},
   "outputs": [
    {
     "name": "stdout",
     "output_type": "stream",
     "text": [
      "[0 2 2 3 2 2 2]\n",
      "[2. 2. 2. 2. 2. 2.]\n",
      "[  0.  120.  120.  130.  134.3 140.2 150.7]\n",
      "[[1.   0.   0.   0.   0.   0.   0.  ]\n",
      " [1.   0.   0.   0.   0.   0.   0.  ]\n",
      " [1.   0.   0.   0.   0.   0.   0.  ]\n",
      " [1.   0.   0.   0.   0.   0.   0.  ]\n",
      " [0.18 0.36 0.19 0.12 0.09 0.05 0.  ]\n",
      " [0.02 0.39 0.23 0.16 0.13 0.07 0.  ]\n",
      " [0.   0.28 0.22 0.19 0.17 0.12 0.02]]\n"
     ]
    },
    {
     "data": {
      "text/plain": [
       "(7, 7)"
      ]
     },
     "execution_count": 7,
     "metadata": {},
     "output_type": "execute_result"
    }
   ],
   "source": [
    "\n",
    "from model.investment_planner import __get_porfolios_strategy_for_wealth_values, calculateTransitionPropabilitiesForGoals, calculateBelmanForT\n",
    "\n",
    "%precision 3\n",
    "\n",
    "portfolios = np.array([[0.0526, 0.0374], [0.07059443, 0.103057  ], [0.0886, 0.1954]])\n",
    "WT = np.array([34,50,60,80,100,105,120])\n",
    "WT1 = np.array([36,95,100,103,105,110,130])\n",
    "#WT = np.linspace(50,100,20)\n",
    "#WT1 = np.linspace(45,120,20)\n",
    "#VT1 = [0,0,0,100,100,100,100]\n",
    "VT1 = [0,0,0,00,100,100,100]\n",
    "#VT1 = np.zeros(20)\n",
    "#VT1[12:-1] = 100\n",
    "goals = np.array([[40,110],[49, 120],[80, 130]])\n",
    "#goals = np.array([[20,150]])\n",
    "#goals = np.array([[0,0]])\n",
    "infusion = 5\n",
    "\n",
    "Wt = WT\n",
    "\n",
    "goal_strategies, portfolio_strategies, values, probabilities = calculateBelmanForT(goals, infusion, WT,WT1, VT1, portfolios)\n",
    "\n",
    "print(goal_strategies)\n",
    "print(portfolio_strategies)\n",
    "print(np.round(values,1))\n",
    "print(np.round(probabilities,2))\n",
    "probabilities.shape\n"
   ]
  },
  {
   "cell_type": "code",
   "execution_count": 22,
   "metadata": {},
   "outputs": [
    {
     "data": {
      "text/plain": [
       "array([ 51.   ,  70.851, 100.554, 144.998, 211.498, 311.   ])"
      ]
     },
     "execution_count": 22,
     "metadata": {},
     "output_type": "execute_result"
    }
   ],
   "source": [
    "100*np.exp(portfolios[2,0]-3*portfolios[2,1]*np.sqrt(3))\n",
    "np.exp(np.linspace(np.log(40), np.log(300),6)) + 11"
   ]
  },
  {
   "cell_type": "code",
   "execution_count": 197,
   "metadata": {},
   "outputs": [
    {
     "data": {
      "text/plain": [
       "array([[2, 2, 2, 2, 2, 2, 2],\n",
       "       [2, 2, 2, 2, 2, 2, 2],\n",
       "       [2, 2, 2, 2, 2, 2, 2]])"
      ]
     },
     "execution_count": 197,
     "metadata": {},
     "output_type": "execute_result"
    }
   ],
   "source": [
    "Wtc = __calculateWtc(WT, goals[:,0], infusion)\n",
    "goal_portfolio_strategies = __get_porfolios_strategy_for_wealth_values(WT,Wtc, [2,2,2,2,2,2,2])\n",
    "portfolios_measures = np.take(portfolios, goal_portfolio_strategies, axis=0)\n",
    "np.round(calculateTransitionPropabilitiesForGoals(Wtc,WT1,portfolios_measures),3)\n",
    "goal_portfolio_strategies\n"
   ]
  },
  {
   "cell_type": "code",
   "execution_count": 221,
   "metadata": {},
   "outputs": [
    {
     "data": {
      "text/plain": [
       "array([2., 2., 2., 2., 2., 1.])"
      ]
     },
     "execution_count": 221,
     "metadata": {},
     "output_type": "execute_result"
    }
   ],
   "source": [
    "goal_portfolios_strategies = np.array([[2,2,1,1,0,0],\n",
    "                                      [2,2,2,2,1,1],\n",
    "                                      [2,2,2,2,2,1]])\n",
    "goal_strategies = np.array([0,0,1,1,2,2])\n",
    "\n",
    "chosen_strategies = np.zeros(6)\n",
    "for i in range(0, goal_portfolios_strategies.shape[1]):\n",
    "    chosen_strategies[i] = goal_portfolios_strategies[goal_strategies[i],i]\n",
    "\n",
    "chosen_strategies"
   ]
  },
  {
   "cell_type": "code",
   "execution_count": 196,
   "metadata": {},
   "outputs": [
    {
     "data": {
      "text/plain": [
       "array([0.374, 0.   , 0.   , 0.   , 0.   , 0.   , 0.   ])"
      ]
     },
     "execution_count": 196,
     "metadata": {},
     "output_type": "execute_result"
    }
   ],
   "source": [
    "def __prob(W0, W1, mean, std, Infusion, Cost, h):\n",
    "    return norm.pdf((np.log(W1/(W0+Infusion+Cost))-(mean-0.5*std**2)*h)/(std*np.sqrt(h)))\n",
    "\n",
    "np.round(__prob(Wtc[1,3],WT1,porfolios[2,0], portfolios[2,1],0,0,1),3)"
   ]
  },
  {
   "cell_type": "code",
   "execution_count": 162,
   "metadata": {},
   "outputs": [
    {
     "name": "stdout",
     "output_type": "stream",
     "text": [
      "[0 0 0 0 0 0 0]\n",
      "[[2 2 2 2 0 0 0]]\n",
      "[  0.   12.4  23.2  37.1  87.8  98.2 100. ]\n",
      "[[1.   0.   0.   0.   0.   0.   0.  ]\n",
      " [0.27 0.33 0.17 0.11 0.08 0.04 0.  ]\n",
      " [0.   0.36 0.23 0.17 0.14 0.08 0.01]\n",
      " [0.   0.23 0.21 0.19 0.18 0.15 0.04]\n",
      " [0.   0.   0.02 0.1  0.24 0.63 0.  ]\n",
      " [0.   0.   0.   0.02 0.07 0.89 0.02]\n",
      " [0.   0.   0.   0.   0.   0.   1.  ]]\n"
     ]
    }
   ],
   "source": [
    "goals = np.array([[0,0]])\n",
    "\n",
    "goal_strategies, portfolio_strategies, values, probabilities = calculateBelman(goals, infusion, WT,WT1, VT1, portfolios)\n",
    "\n",
    "print(goal_strategies)\n",
    "print(portfolio_strategies)\n",
    "print(np.round(values,1))\n",
    "print(np.round(probabilities,2))  "
   ]
  },
  {
   "attachments": {},
   "cell_type": "markdown",
   "metadata": {},
   "source": [
    "```\n",
    "[[16.4 17.2 25.9 43.6 98.3 99.9]\n",
    " [10.2 10.2 11.4 19.8 35.9 40.5]\n",
    " [15.  15.  15.3 19.9 33.  37.3]\n",
    " [80.  80.  30.  31.4 39.8 43.3]]\n",
    "```"
   ]
  },
  {
   "cell_type": "code",
   "execution_count": null,
   "metadata": {},
   "outputs": [
    {
     "data": {
      "text/plain": [
       "0.153"
      ]
     },
     "execution_count": 129,
     "metadata": {},
     "output_type": "execute_result"
    }
   ],
   "source": [
    "def __prob(W0, W1, mean, std, Infusion, Cost, h):\n",
    "    return norm.pdf((np.log(W1/(W0+Infusion+Cost))-(mean-0.5*std**2)*h)/(std*np.sqrt(h)))\n",
    "\n",
    "__prob(105,90,porfolios[2,0],porfolios[2,1],5,0,1)"
   ]
  },
  {
   "attachments": {},
   "cell_type": "markdown",
   "metadata": {},
   "source": [
    "```\n",
    "expected values array([24.794, 29.794, 29.794, 44.794, 95.456, 99.669])\n",
    "array([[14.794, 15.581, 24.116, 41.942, 95.456, 99.669],\n",
    "       [24.794, 24.794, 24.794, 24.794, 34.116, 34.116],\n",
    "       [14.794, 29.794, 29.794, 29.794, 30.581, 39.116],\n",
    "       [14.794, 15.581, 24.116, 44.794, 44.794, 44.794]])\n",
    "\n",
    "```"
   ]
  },
  {
   "cell_type": "code",
   "execution_count": 166,
   "metadata": {},
   "outputs": [
    {
     "name": "stdout",
     "output_type": "stream",
     "text": [
      "Unexpected exception formatting exception. Falling back to standard exception\n"
     ]
    },
    {
     "name": "stderr",
     "output_type": "stream",
     "text": [
      "C:\\Users\\matsz\\AppData\\Local\\Temp\\ipykernel_20648\\4245196626.py:6: VisibleDeprecationWarning: Creating an ndarray from ragged nested sequences (which is a list-or-tuple of lists-or-tuples-or ndarrays with different lengths or shapes) is deprecated. If you meant to do this, you must specify 'dtype=object' when creating the ndarray.\n",
      "  goals = np.array([empty_goal, empty_goal, empty_goal, empty_goal, empty_goal, np.array([[0,0],[100,50]]),empty_goal, empty_goal, empty_goal, empty_goal,np.array([[0,0],[120,1500]])])\n",
      "Traceback (most recent call last):\n",
      "  File \"c:\\Users\\matsz\\miniconda3\\envs\\portfolio-optimisation\\lib\\site-packages\\IPython\\core\\interactiveshell.py\", line 3397, in run_code\n",
      "    exec(code_obj, self.user_global_ns, self.user_ns)\n",
      "  File \"C:\\Users\\matsz\\AppData\\Local\\Temp\\ipykernel_20648\\4245196626.py\", line 25, in <cell line: 25>\n",
      "    investment_planner.set_params(10, 100, 10, 1, goals, portfolios)\n",
      "  File \"c:\\Users\\matsz\\programowanie\\Optymalizacja portfela\\investment_planner.py\", line 235, in set_params\n",
      "    self.k_dict = convert_goals_to_k(goals)\n",
      "  File \"c:\\Users\\matsz\\programowanie\\Optymalizacja portfela\\investment_planner.py\", line 51, in convert_goals_to_k\n",
      "    result[goal['time']] = np.array([[goal['cost'], goal['utility']]])\n",
      "IndexError: only integers, slices (`:`), ellipsis (`...`), numpy.newaxis (`None`) and integer or boolean arrays are valid indices\n",
      "\n",
      "During handling of the above exception, another exception occurred:\n",
      "\n",
      "Traceback (most recent call last):\n",
      "  File \"c:\\Users\\matsz\\miniconda3\\envs\\portfolio-optimisation\\lib\\site-packages\\IPython\\core\\interactiveshell.py\", line 1992, in showtraceback\n",
      "    stb = self.InteractiveTB.structured_traceback(\n",
      "  File \"c:\\Users\\matsz\\miniconda3\\envs\\portfolio-optimisation\\lib\\site-packages\\IPython\\core\\ultratb.py\", line 1118, in structured_traceback\n",
      "    return FormattedTB.structured_traceback(\n",
      "  File \"c:\\Users\\matsz\\miniconda3\\envs\\portfolio-optimisation\\lib\\site-packages\\IPython\\core\\ultratb.py\", line 1012, in structured_traceback\n",
      "    return VerboseTB.structured_traceback(\n",
      "  File \"c:\\Users\\matsz\\miniconda3\\envs\\portfolio-optimisation\\lib\\site-packages\\IPython\\core\\ultratb.py\", line 865, in structured_traceback\n",
      "    formatted_exception = self.format_exception_as_a_whole(etype, evalue, etb, number_of_lines_of_context,\n",
      "  File \"c:\\Users\\matsz\\miniconda3\\envs\\portfolio-optimisation\\lib\\site-packages\\IPython\\core\\ultratb.py\", line 818, in format_exception_as_a_whole\n",
      "    frames.append(self.format_record(r))\n",
      "  File \"c:\\Users\\matsz\\miniconda3\\envs\\portfolio-optimisation\\lib\\site-packages\\IPython\\core\\ultratb.py\", line 736, in format_record\n",
      "    result += ''.join(_format_traceback_lines(frame_info.lines, Colors, self.has_colors, lvals))\n",
      "  File \"c:\\Users\\matsz\\miniconda3\\envs\\portfolio-optimisation\\lib\\site-packages\\stack_data\\utils.py\", line 145, in cached_property_wrapper\n",
      "    value = obj.__dict__[self.func.__name__] = self.func(obj)\n",
      "  File \"c:\\Users\\matsz\\miniconda3\\envs\\portfolio-optimisation\\lib\\site-packages\\stack_data\\core.py\", line 698, in lines\n",
      "    pieces = self.included_pieces\n",
      "  File \"c:\\Users\\matsz\\miniconda3\\envs\\portfolio-optimisation\\lib\\site-packages\\stack_data\\utils.py\", line 145, in cached_property_wrapper\n",
      "    value = obj.__dict__[self.func.__name__] = self.func(obj)\n",
      "  File \"c:\\Users\\matsz\\miniconda3\\envs\\portfolio-optimisation\\lib\\site-packages\\stack_data\\core.py\", line 649, in included_pieces\n",
      "    pos = scope_pieces.index(self.executing_piece)\n",
      "  File \"c:\\Users\\matsz\\miniconda3\\envs\\portfolio-optimisation\\lib\\site-packages\\stack_data\\utils.py\", line 145, in cached_property_wrapper\n",
      "    value = obj.__dict__[self.func.__name__] = self.func(obj)\n",
      "  File \"c:\\Users\\matsz\\miniconda3\\envs\\portfolio-optimisation\\lib\\site-packages\\stack_data\\core.py\", line 628, in executing_piece\n",
      "    return only(\n",
      "  File \"c:\\Users\\matsz\\miniconda3\\envs\\portfolio-optimisation\\lib\\site-packages\\executing\\executing.py\", line 164, in only\n",
      "    raise NotOneValueFound('Expected one value, found 0')\n",
      "executing.executing.NotOneValueFound: Expected one value, found 0\n"
     ]
    }
   ],
   "source": [
    "from investment_planner import InvestmentPlanner \n",
    "\n",
    "investment_planner = InvestmentPlanner()\n",
    "\n",
    "empty_goal = np.array([[0,0]])\n",
    "goals = np.array([empty_goal, empty_goal, empty_goal, empty_goal, empty_goal, np.array([[0,0],[100,50]]),empty_goal, empty_goal, empty_goal, empty_goal,np.array([[0,0],[120,1500]])])\n",
    "\n",
    "#portfolios = np.array([[0.0526, 0.0374], [0.07059443, 0.103057  ], [0.0886, 0.1954]])\n",
    "portfolios = np.array([[0.05258386, 0.03704926],\n",
    "       [0.05515672, 0.03960988],\n",
    "       [0.05772681, 0.04625568],\n",
    "       [0.06029967, 0.05555016],\n",
    "       [0.06286483, 0.06637403],\n",
    "       [0.06545148, 0.07813246],\n",
    "       [0.06801664, 0.09041086],\n",
    "       [0.07059443, 0.103057  ],\n",
    "       [0.07315959, 0.11592848],\n",
    "       [0.07573245, 0.12898073],\n",
    "       [0.07830254, 0.14213997],\n",
    "       [0.0808754 , 0.15540374],\n",
    "       [0.08344549, 0.16872224],\n",
    "       [0.08601835, 0.18210899],\n",
    "       [0.08858351, 0.19552512]])\n",
    "\n",
    "investment_planner.set_params(10, 100, 10, 1, goals, portfolios)\n",
    "\n",
    "glide_path = investment_planner.glide_paths\n",
    "wealth_grid = investment_planner.grid\n",
    "probabilitiesT = investment_planner.probabilitiesT\n",
    "goal_strategies = investment_planner._goal_strategies\n",
    "#probabilities = investment_planner.propabilities\n",
    "\n",
    "#TODO do grid trzeba dodac goals cost max, ael trzeba sprawdzic"
   ]
  },
  {
   "cell_type": "code",
   "execution_count": 229,
   "metadata": {},
   "outputs": [],
   "source": [
    "from investment_planner import InvestmentPlanner \n",
    "\n",
    "investment_planner = InvestmentPlanner()\n",
    "\n",
    "empty_goal = np.array([[0,0]])\n",
    "#goals = np.array([empty_goal,empty_goal,np.array([[0,0],[110,100]])])\n",
    "goals = [{\n",
    "        \"time\": 5,\n",
    "        \"cost\": 140,\n",
    "        \"utility\": 500                \n",
    "    }]\n",
    "\n",
    "#portfolios = np.array([[0.0526, 0.0374], [0.07059443, 0.103057  ], [0.0886, 0.1954]])\n",
    "portfolios = np.array([[0.05258386, 0.03704926],\n",
    "       [0.05515672, 0.03960988],\n",
    "       [0.05772681, 0.04625568],\n",
    "       [0.06029967, 0.05555016],\n",
    "       [0.06286483, 0.06637403],\n",
    "       [0.06545148, 0.07813246],\n",
    "       [0.06801664, 0.09041086],\n",
    "       [0.07059443, 0.103057  ],\n",
    "       [0.07315959, 0.11592848],\n",
    "       [0.07573245, 0.12898073],\n",
    "       [0.07830254, 0.14213997],\n",
    "       [0.0808754 , 0.15540374],\n",
    "       [0.08344549, 0.16872224],\n",
    "       [0.08601835, 0.18210899],\n",
    "       [0.08858351, 0.19552512]])\n",
    "\n",
    "investment_planner.set_params(5, 100, 0, 1, goals, portfolios)\n",
    "\n",
    "glide_path = investment_planner.glide_paths\n",
    "wealth_grid = investment_planner.grid.T\n",
    "probabilitiesT = np.round(investment_planner.probabilitiesT,3)\n",
    "goal_strategies = investment_planner._goal_strategies\n",
    "v = investment_planner.V\n",
    "cum_probs = np.round(investment_planner.cum_propabilities,3)\n",
    "#probabilities = investment_planner.propabilities\n",
    "\n",
    "#TODO naprawić goal strategies\n"
   ]
  },
  {
   "cell_type": "code",
   "execution_count": null,
   "metadata": {},
   "outputs": [],
   "source": [
    "goal_propabilities = investment_planner.get_goal_propabilities()\n"
   ]
  },
  {
   "cell_type": "code",
   "execution_count": null,
   "metadata": {},
   "outputs": [
    {
     "name": "stdout",
     "output_type": "stream",
     "text": [
      "143.2293\n",
      "147.6829\n",
      "153.9683\n",
      "160.2346\n",
      "165.6733\n",
      "170.1174\n",
      "173.5549\n",
      "176.0634\n",
      "177.7522\n",
      "178.8007\n",
      "179.3944\n",
      "179.6943\n",
      "179.8149\n",
      "179.8313\n",
      "179.7878\n"
     ]
    }
   ],
   "source": [
    "def __prob(W0, W1, mean, std, Infusion, Cost, h):\n",
    "    return norm.pdf((np.log(W1/(W0+Infusion+Cost))-(mean-0.5*std**2)*h)/(std*np.sqrt(h)))\n",
    "\n",
    "\n",
    "WT1 = wealth_grid[:,5]\n",
    "WT = wealth_grid[87,4]\n",
    "VT = goal_strategies*100\n",
    "for porfolio in portfolios:\n",
    "    #print(np.round(np.sum(__prob(WT,WT1,porfolio[0], porfolio[1],0,0,1)*VT),3))\n",
    "    #print(np.round(__prob(WT,WT1,porfolio[0], porfolio[1],0,0,1)*VT,1))\n",
    "    #print(np.round(__prob(WT,WT1,porfolio[0], porfolio[1],0,0,1),1))\n",
    "    prob = __prob(WT,WT1,porfolio[0], porfolio[1],0,0,1)\n",
    "    prob = prob / prob.sum()\n",
    "    print(np.round(np.sum(prob*VT), 4))\n",
    "    \n"
   ]
  },
  {
   "cell_type": "code",
   "execution_count": null,
   "metadata": {},
   "outputs": [
    {
     "name": "stdout",
     "output_type": "stream",
     "text": [
      "[0 2 2 2 2 0]\n",
      "[71.21347431 30.30395294 24.83908031 21.92699645 20.29551439         nan]\n",
      "[[0.    0.008 0.139 0.305 0.363 0.186]\n",
      " [0.403 0.242 0.139 0.098 0.077 0.041]\n",
      " [0.522 0.24  0.107 0.065 0.047 0.02 ]\n",
      " [0.605 0.226 0.083 0.045 0.03  0.011]\n",
      " [0.664 0.211 0.066 0.033 0.021 0.006]\n",
      " [  nan   nan   nan   nan   nan   nan]]\n"
     ]
    },
    {
     "name": "stderr",
     "output_type": "stream",
     "text": [
      "c:\\Users\\matsz\\programowanie\\Optymalizacja portfela\\investment_planner.py:108: RuntimeWarning: invalid value encountered in true_divide\n",
      "  return np.divide(result, np.expand_dims(result.sum(2), axis=2), where=result.sum()>0)\n"
     ]
    }
   ],
   "source": [
    "probs = calculateTransitionPropabilitiesForAllPorfolios(portfolios,wealth_grid[4],WT1,0)\n",
    "strategies, V, chosen_probs = calculateBelman(VT,probs)\n",
    "print(strategies)\n",
    "print(V)\n",
    "print(np.round(chosen_probs, 3))"
   ]
  },
  {
   "cell_type": "code",
   "execution_count": null,
   "metadata": {},
   "outputs": [
    {
     "data": {
      "text/plain": [
       "273.283"
      ]
     },
     "execution_count": 153,
     "metadata": {},
     "output_type": "execute_result"
    }
   ],
   "source": [
    "def WMax(t,W0, infusions, meanMax,stdMin,stdMax):\n",
    "    valueOfInfusions = 0\n",
    "    for i in range(t):\n",
    "        valueOfInfusions += infusions[i]*np.exp((meanMax - (stdMin**2)/2)*(t-i) + (3*stdMax*np.sqrt(t-i)))\n",
    "                                                           \n",
    "    return W0*np.exp((meanMax-((stdMin**2)/2))*t + 3*stdMax*np.sqrt(t)) + valueOfInfusions\n",
    "\n",
    "WMax(2,100,[0,0,0,0,0,0,0,0,0,0,0,0],portfolios[14,0], portfolios[0,1], portfolios[14,1])"
   ]
  },
  {
   "cell_type": "code",
   "execution_count": null,
   "metadata": {},
   "outputs": [
    {
     "name": "stdout",
     "output_type": "stream",
     "text": [
      "0\n",
      "0\n",
      "0\n",
      "0\n",
      "220\n",
      "0\n",
      "0\n",
      "0\n",
      "0\n",
      "140\n"
     ]
    },
    {
     "name": "stderr",
     "output_type": "stream",
     "text": [
      "C:\\Users\\matsz\\AppData\\Local\\Temp\\ipykernel_41080\\3029623270.py:1: VisibleDeprecationWarning: Creating an ndarray from ragged nested sequences (which is a list-or-tuple of lists-or-tuples-or ndarrays with different lengths or shapes) is deprecated. If you meant to do this, you must specify 'dtype=object' when creating the ndarray.\n",
      "  arr = np.array([[[0,0]],[[0,0]],[[0,0]],[[0,0]],[[0,0]],np.array([[0,0],[120,1000], [220,1000]]),[[0,0]],[[0,0]],[[0,0]],[[0,0]],np.array([[0,0],[140,1500]])])\n"
     ]
    }
   ],
   "source": [
    "arr = np.array([[[0,0]],[[0,0]],[[0,0]],[[0,0]],[[0,0]],np.array([[0,0],[120,1000], [220,1000]]),[[0,0]],[[0,0]],[[0,0]],[[0,0]],np.array([[0,0],[140,1500]])])\n",
    "T = 10\n",
    "for t in range(1,T+1):\n",
    "    cmax = arr[t][:,0].max() if (len(arr[t]) >1) else 0\n",
    "    print(cmax)  \n",
    "\n"
   ]
  },
  {
   "cell_type": "code",
   "execution_count": 172,
   "metadata": {},
   "outputs": [
    {
     "name": "stdout",
     "output_type": "stream",
     "text": [
      "[[[0.212 0.187 0.166 0.155 0.148 0.132]\n",
      "  [0.211 0.187 0.166 0.155 0.148 0.133]\n",
      "  [0.2   0.182 0.167 0.158 0.153 0.14 ]\n",
      "  [0.189 0.177 0.167 0.161 0.157 0.148]\n",
      "  [0.181 0.174 0.167 0.163 0.16  0.154]\n",
      "  [0.18  0.174 0.167 0.163 0.161 0.155]]\n",
      "\n",
      " [[0.234 0.195 0.164 0.149 0.139 0.118]\n",
      "  [0.23  0.194 0.165 0.15  0.141 0.121]\n",
      "  [0.209 0.186 0.166 0.156 0.149 0.134]\n",
      "  [0.193 0.179 0.167 0.16  0.156 0.145]\n",
      "  [0.184 0.176 0.167 0.162 0.159 0.152]\n",
      "  [0.183 0.175 0.167 0.163 0.16  0.153]]\n",
      "\n",
      " [[0.    0.    0.    0.    0.    0.   ]\n",
      "  [0.    0.    0.    0.    0.    0.   ]\n",
      "  [0.234 0.195 0.164 0.149 0.139 0.118]\n",
      "  [0.2   0.182 0.167 0.158 0.153 0.14 ]\n",
      "  [0.189 0.177 0.167 0.161 0.157 0.148]\n",
      "  [0.186 0.177 0.167 0.162 0.158 0.15 ]]]\n"
     ]
    },
    {
     "data": {
      "text/plain": [
       "array([[1.173, 1.082, 1.   , 0.956, 0.928, 0.862],\n",
       "       [1.233, 1.105, 0.997, 0.939, 0.903, 0.823],\n",
       "       [0.809, 0.732, 0.665, 0.63 , 0.607, 0.557]])"
      ]
     },
     "execution_count": 172,
     "metadata": {},
     "output_type": "execute_result"
    }
   ],
   "source": [
    "def calculateTransitionPropabilitiesForGoals(Wt, Wt1, infusion, h, goal_costs, portfolioMeasures):\n",
    "    i0 = len(Wt)\n",
    "    i1 = len(Wt1)    \n",
    "    k = len(goal_costs)\n",
    "    cf = goal_costs - infusion\n",
    "    mean = portfolioMeasures[0]\n",
    "    std = portfolioMeasures[1]\n",
    "    b = ((mean-0.5*std**2)*h)/(std*np.sqrt(h))\n",
    "    result = np.zeros((k*i0,i1))\n",
    "    \n",
    "    Wtc = np.tile(Wt,(k,1)) - cf.reshape((k,1))\n",
    "    Wtc = Wtc.reshape((k*i0,1))\n",
    "    Wt1k = np.tile(Wt1, (k*i0,1))\n",
    "    \n",
    "    np.divide(Wt1k, Wtc, out=result, where=Wtc>0)\n",
    "    np.log(result,out=result, where=result>0)\n",
    "    result = np.where(result > 0, result+ b, 0)\n",
    "    result = np.where(result > 0, norm.pdf(result), 0)\n",
    "\n",
    "    result = np.divide(result,np.expand_dims(result.sum(1), axis=1),where=result>0)\n",
    "    result = result.reshape(k,i0,i1)\n",
    "\n",
    "    return result\n",
    "   \n",
    "\n",
    "portfolios = np.array([[0.0526, 0.0374], [0.07059443, 0.103057  ], [0.0886, 0.1954]])\n",
    "WT = np.array([49,50,60,80,100,105])\n",
    "#WT = np.array([100])\n",
    "WT1 = [90,95,100,103,105,110]\n",
    "\n",
    "goals = np.array([[40,10],[49, 15],[60, 30]])\n",
    "#goals = np.array([[49, 15],[60, 30]])\n",
    "#goals = np.array([[60,0]])\n",
    "infusion = 5\n",
    "h = 1\n",
    "\n",
    "probabilities = calculateTransitionPropabilitiesForGoals(WT, WT1, infusion, h, goals[:,0], [0.1,0.2])\n",
    "\n",
    "print(np.round(probabilities,3))\n",
    "probabilities.sum(1)\n",
    "\n"
   ]
  },
  {
   "attachments": {},
   "cell_type": "markdown",
   "metadata": {},
   "source": [
    "```\n",
    "[[0.    0.    0.    0.    0.    0.   ]\n",
    " [0.001 0.001 0.001 0.001 0.    0.   ]\n",
    " [0.016 0.014 0.012 0.012 0.011 0.01 ]\n",
    " [0.091 0.083 0.076 0.072 0.069 0.064]\n",
    " [0.177 0.165 0.154 0.148 0.144 0.134]\n",
    " [0.197 0.184 0.173 0.166 0.162 0.152]\n",
    " [0.    0.    0.    0.    0.    0.   ]\n",
    " [0.    0.    0.    0.    0.    0.   ]\n",
    " [0.    0.    0.    0.    0.    0.   ]\n",
    " [0.046 0.041 0.037 0.034 0.033 0.03 ]\n",
    " [0.131 0.121 0.111 0.106 0.103 0.095]\n",
    " [0.152 0.141 0.131 0.125 0.122 0.113]]\n",
    " ```"
   ]
  },
  {
   "cell_type": "code",
   "execution_count": null,
   "metadata": {},
   "outputs": [
    {
     "data": {
      "text/plain": [
       "array([[0.191],\n",
       "       [0.178],\n",
       "       [0.167],\n",
       "       [0.161],\n",
       "       [0.157],\n",
       "       [0.147]])"
      ]
     },
     "execution_count": 26,
     "metadata": {},
     "output_type": "execute_result"
    }
   ],
   "source": [
    "arr =  np.array([0.197, 0.184, 0.173, 0.166, 0.162, 0.152])\n",
    "res = arr/ arr.sum()\n",
    "np.expand_dims(res, axis=1)\n"
   ]
  },
  {
   "cell_type": "code",
   "execution_count": null,
   "metadata": {},
   "outputs": [
    {
     "data": {
      "text/plain": [
       "array([0., 0., 0., 0., 0., 0.])"
      ]
     },
     "execution_count": 27,
     "metadata": {},
     "output_type": "execute_result"
    }
   ],
   "source": [
    "log = [1.38778666, 1.44185389, 1.49314718, 1.52270598, 1.54193734, 1.58845736]\n",
    "log2 =  [3.69037176, 3.74443898, 3.79573227, 3.82529108, 3.84452244, 3.89104245]\n",
    "norm.pdf(log2)"
   ]
  },
  {
   "attachments": {},
   "cell_type": "markdown",
   "metadata": {},
   "source": [
    "1: 48.057\n",
    "2. 64.226\n",
    "m. 56.305"
   ]
  },
  {
   "cell_type": "code",
   "execution_count": null,
   "metadata": {},
   "outputs": [
    {
     "data": {
      "text/plain": [
       "0.146"
      ]
     },
     "execution_count": 28,
     "metadata": {},
     "output_type": "execute_result"
    }
   ],
   "source": [
    "stocks = norm.rvs(loc=0.09,scale=0.19,size=30, random_state=13)\n",
    "bonds = norm.rvs(loc=0.04,scale=0.03, size=30, random_state=13)\n",
    "returns = np.array([stocks,bonds]).T\n",
    "weights = np.array([0.5,0.5])\n",
    "porfolio_returns = returns @ weights\n",
    "var = weights.T @ np.cov(returns.T) @ weights\n",
    "cov = np.cov(stocks, porfolio_returns)[0,1]\n",
    "beta = cov/var\n",
    "porfolio_returns.mean()*beta\n",
    "\n",
    "\n",
    "\n"
   ]
  },
  {
   "cell_type": "code",
   "execution_count": null,
   "metadata": {},
   "outputs": [
    {
     "data": {
      "text/plain": [
       "array([[1.   , 1.   , 1.   , 1.   , 1.   ],\n",
       "       [0.1  , 0.3  , 0.3  , 0.2  , 0.1  ],\n",
       "       [0.   , 0.33 , 0.54 , 0.28 , 0.07 ],\n",
       "       [0.   , 0.363, 0.972, 0.392, 0.049]])"
      ]
     },
     "execution_count": 62,
     "metadata": {},
     "output_type": "execute_result"
    }
   ],
   "source": [
    "def _calculate_cumulative_propabilities(probabilitiesT):\n",
    "        i = probabilitiesT[0].shape[1]\n",
    "        T = probabilitiesT.shape[0]\n",
    "        cumulativeProbabilities = np.zeros((T, probabilitiesT[0].shape[1]))\n",
    "        cumulativeProbabilities[0,:] = 1\n",
    "        cumulativeProbabilities[1] = probabilitiesT[0,0]\n",
    "        for t in range(2, T):\n",
    "                for it in range(0,i):                      \n",
    "                        cumulativeProbabilities[t,it] = np.sum(probabilitiesT[t-1,:,it]*cumulativeProbabilities[t-1,it])\n",
    "        return cumulativeProbabilities\n",
    "\n",
    "prob = np.array([[[0.1,0.3,0.3,0.2,0.1],\n",
    "                  [0.1,0.3,0.3,0.2,0.1],\n",
    "                  [0.1,0.3,0.3,0.2,0.1],\n",
    "                  [0.1,0.3,0.3,0.2,0.1],\n",
    "                  [0.1,0.3,0.3,0.2,0.1]\n",
    "                  ],\n",
    "                  [[0,0.4,0.3,0.2,0.1],\n",
    "                  [0,0.3,0.4,0.2,0.1],\n",
    "                  [0,0.2,0.4,0.3,0.1],\n",
    "                  [0,0.1,0.4,0.4,0.1],\n",
    "                  [0,0.1,0.3,0.3,0.3]\n",
    "                  ],\n",
    "                  [[0,0.4,0.3,0.2,0.1],\n",
    "                  [0,0.3,0.4,0.2,0.1],\n",
    "                  [0,0.2,0.4,0.3,0.1],\n",
    "                  [0,0.1,0.4,0.4,0.1],\n",
    "                  [0,0.1,0.3,0.3,0.3]\n",
    "                  ],                  \n",
    "                  [[0,0.4,0.3,0.2,0.1],\n",
    "                  [0,0.3,0.4,0.2,0.1],\n",
    "                  [0,0.2,0.4,0.3,0.1],\n",
    "                  [0,0.1,0.4,0.4,0.1],\n",
    "                  [0,0.1,0.3,0.3,0.3]\n",
    "                  ]])\n",
    "\n",
    "_calculate_cumulative_propabilities(prob)\n",
    "#expected[1]\n",
    "#expected = [0.5,0.9, 1.8,1.2,0.6]\n",
    "#prob.sum(1)"
   ]
  }
 ],
 "metadata": {
  "kernelspec": {
   "display_name": "portfolio-optimisation",
   "language": "python",
   "name": "python3"
  },
  "language_info": {
   "codemirror_mode": {
    "name": "ipython",
    "version": 3
   },
   "file_extension": ".py",
   "mimetype": "text/x-python",
   "name": "python",
   "nbconvert_exporter": "python",
   "pygments_lexer": "ipython3",
   "version": "3.9.12"
  },
  "orig_nbformat": 4,
  "vscode": {
   "interpreter": {
    "hash": "4bef00bc7c9a78db1045a379974b3641e8d6d719796f9d93b631987f459ca5f0"
   }
  }
 },
 "nbformat": 4,
 "nbformat_minor": 2
}
