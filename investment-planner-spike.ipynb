{
 "cells": [
  {
   "cell_type": "code",
   "execution_count": 186,
   "metadata": {},
   "outputs": [
    {
     "name": "stdout",
     "output_type": "stream",
     "text": [
      "The autoreload extension is already loaded. To reload it, use:\n",
      "  %reload_ext autoreload\n"
     ]
    }
   ],
   "source": [
    "%load_ext autoreload\n",
    "%autoreload 2\n",
    "\n",
    "import numpy as np\n",
    "from investment_planner import calculateTransitionPropabilitiesForAllPorfolios, generateGrid, calculateTransitionPropabilities, get_portfolios_strategies, calculateValuesForLastPeriod, get_goals_strategies, __get_value_index\n",
    "from scipy.stats import norm"
   ]
  },
  {
   "cell_type": "code",
   "execution_count": 172,
   "metadata": {},
   "outputs": [
    {
     "name": "stdout",
     "output_type": "stream",
     "text": [
      "[[[0.451 0.334 0.197 0.018]\n",
      "  [0.271 0.27  0.258 0.2  ]\n",
      "  [0.255 0.256 0.253 0.237]]\n",
      "\n",
      " [[0.14  0.307 0.366 0.187]\n",
      "  [0.221 0.254 0.266 0.259]\n",
      "  [0.24  0.251 0.255 0.254]]\n",
      "\n",
      " [[0.017 0.105 0.244 0.634]\n",
      "  [0.177 0.234 0.268 0.322]\n",
      "  [0.227 0.246 0.256 0.271]]\n",
      "\n",
      " [[0.001 0.017 0.075 0.908]\n",
      "  [0.14  0.211 0.262 0.387]\n",
      "  [0.215 0.241 0.257 0.288]]]\n"
     ]
    },
    {
     "data": {
      "text/plain": [
       "array([49. , 55.3, 87.8, 98.3])"
      ]
     },
     "execution_count": 172,
     "metadata": {},
     "output_type": "execute_result"
    }
   ],
   "source": [
    "\n",
    "portfolios = np.array([[0.0526, 0.0374], [0.07059443, 0.103057  ], [0.0886, 0.1954]])\n",
    "W0 = np.array([90,95,100,105])\n",
    "W1 = np.array([100,103,105,110])\n",
    "infusions = 2\n",
    "cost = 3\n",
    "h = 1\n",
    "\n",
    "values = [0,0,100,100]\n",
    "\n",
    "#propabilities = calculateTransitionPropabilitiesForAllPorfolios(portfolios, W0, W1, infusions, cost, h)\n",
    "propabilities = np.array([[[0.451, 0.334, 0.197, 0.018],\n",
    "                                    [0.271, 0.27,  0.258, 0.2  ],\n",
    "                                    [0.255, 0.256, 0.253, 0.237]],\n",
    "\n",
    "                                    [[0.14,  0.307, 0.366, 0.187],\n",
    "                                    [0.221, 0.254, 0.266, 0.259],\n",
    "                                    [0.24,  0.251, 0.255, 0.254]],\n",
    "\n",
    "                                    [[0.017, 0.105, 0.244, 0.634],\n",
    "                                    [0.177, 0.234, 0.268, 0.322],\n",
    "                                    [0.227, 0.246, 0.256, 0.271]],\n",
    "\n",
    "                                    [[0.001, 0.017, 0.075, 0.908],\n",
    "                                    [0.14,  0.211, 0.262, 0.387],\n",
    "                                    [0.215, 0.241, 0.257, 0.288]]])\n",
    "print(np.round(propabilities, 3))\n",
    "values = propabilities*values\n",
    "np.round(np.amax(values.sum(2),1),3)\n",
    "#values.sum(2)\n"
   ]
  },
  {
   "cell_type": "code",
   "execution_count": 173,
   "metadata": {},
   "outputs": [],
   "source": [
    "portfolios = np.array([[0.0526, 0.0374], [0.07059443, 0.103057], [0.0886, 0.1954]])\n",
    "W0 = 100\n",
    "T = 12\n",
    "#infusions = [0,25000,25000,25000,25000,25000,25000,25000,25000,25000,25000]\n",
    "infusions = np.zeros(13)\n",
    "goals = [0,0,0,0,0,0,0,100,0,0,0,0,150]\n",
    "iMax = 281\n",
    "\n",
    "grid = generateGrid(W0,T,iMax, infusions, goals, portfolios[0,0], portfolios[0,1], portfolios[2,0], portfolios[2,1])\n",
    "grid = grid.T"
   ]
  },
  {
   "cell_type": "code",
   "execution_count": 174,
   "metadata": {},
   "outputs": [
    {
     "data": {
      "text/plain": [
       "1837.723"
      ]
     },
     "execution_count": 174,
     "metadata": {},
     "output_type": "execute_result"
    }
   ],
   "source": [
    "W0 = 100\n",
    "meanMax = 0.0886\n",
    "stdMin = 0.0374\n",
    "stdMax = 0.1954\n",
    "t =11\n",
    "\n",
    "W0*np.exp((meanMax-(stdMin**2/2))*t + 3*stdMax*np.sqrt(t))"
   ]
  },
  {
   "cell_type": "code",
   "execution_count": 175,
   "metadata": {},
   "outputs": [
    {
     "data": {
      "text/plain": [
       "array([[[105, 100],\n",
       "        [110, 200],\n",
       "        [105, 100],\n",
       "        [110, 200],\n",
       "        [105, 100],\n",
       "        [110, 200],\n",
       "        [105, 100],\n",
       "        [110, 200],\n",
       "        [105, 100],\n",
       "        [110, 200]],\n",
       "\n",
       "       [[105, 100],\n",
       "        [110, 200],\n",
       "        [105, 100],\n",
       "        [110, 200],\n",
       "        [105, 100],\n",
       "        [110, 200],\n",
       "        [105, 100],\n",
       "        [110, 200],\n",
       "        [105, 100],\n",
       "        [110, 200]]])"
      ]
     },
     "execution_count": 175,
     "metadata": {},
     "output_type": "execute_result"
    }
   ],
   "source": [
    "k = np.array([[105,100],[110,200]])\n",
    "wealthInT = np.array([90,95,100,105,110])\n",
    "Wk = np.tile(wealthInT, (2,1))\n",
    "ki = np.tile(k, (2, 5,1))\n",
    "#np.where(Wk >= k[:,0], k[:,1], 0)\n",
    "ki"
   ]
  },
  {
   "cell_type": "code",
   "execution_count": 176,
   "metadata": {},
   "outputs": [
    {
     "data": {
      "text/plain": [
       "array([[18.  ],\n",
       "       [33.25],\n",
       "       [20.  ],\n",
       "       [15.75],\n",
       "       [11.  ]])"
      ]
     },
     "execution_count": 176,
     "metadata": {},
     "output_type": "execute_result"
    }
   ],
   "source": [
    "WT1 = np.array([90,95,100,105,110])\n",
    "WT1P = WT1 * [0.2,0.35, 0.2 ,0.15,0.1]\n",
    "WT1P.reshape((5,1))"
   ]
  },
  {
   "cell_type": "code",
   "execution_count": 177,
   "metadata": {},
   "outputs": [
    {
     "name": "stderr",
     "output_type": "stream",
     "text": [
      "C:\\Users\\matsz\\AppData\\Local\\Temp\\ipykernel_28528\\4293703242.py:1: VisibleDeprecationWarning: Creating an ndarray from ragged nested sequences (which is a list-or-tuple of lists-or-tuples-or ndarrays with different lengths or shapes) is deprecated. If you meant to do this, you must specify 'dtype=object' when creating the ndarray.\n",
      "  arr = np.array([[1,2,3,4],[1,2,3]])\n"
     ]
    },
    {
     "data": {
      "text/plain": [
       "array([list([1, 2, 3, 4]), list([1, 2, 3, 1, 2, 3])], dtype=object)"
      ]
     },
     "execution_count": 177,
     "metadata": {},
     "output_type": "execute_result"
    }
   ],
   "source": [
    "arr = np.array([[1,2,3,4],[1,2,3]])\n",
    "arr2 = np.array([1,2])\n",
    "result = arr*arr2\n",
    "result"
   ]
  },
  {
   "cell_type": "code",
   "execution_count": 178,
   "metadata": {},
   "outputs": [],
   "source": [
    "def get_ef_port_analytically(rets, covm, targ):\n",
    "    \"\"\"Solve for the efficient frontier weights for a given expected return\n",
    "    vector `rets`, covariance matrix `covm`, and expected portfolio return\n",
    "    `targ`.\n",
    "    \"\"\"\n",
    "    N = rets.shape[0]\n",
    "    u = np.array([targ, 1])[:, None]\n",
    "    U = np.vstack([rets, np.ones_like(rets)]).T\n",
    "\n",
    "    covm_inv = np.linalg.solve(covm, np.eye(N))\n",
    "    M        = U.T @ covm_inv @ U\n",
    "    M_inv    = np.linalg.solve(M, np.eye(2))\n",
    "    weights  = covm_inv @ U @ M_inv @ u\n",
    "\n",
    "    return weights\n"
   ]
  },
  {
   "cell_type": "code",
   "execution_count": 179,
   "metadata": {},
   "outputs": [
    {
     "data": {
      "text/plain": [
       "array([[0.44472681],\n",
       "       [0.55527319]])"
      ]
     },
     "execution_count": 179,
     "metadata": {},
     "output_type": "execute_result"
    }
   ],
   "source": [
    "cov_tab = np.array([[0.0002, -0.00],\n",
    "                    [-0.00, 0.0013]])\n",
    "means = np.array([0.0307, 0.1094])\n",
    "\n",
    "mu = 0.0744\n",
    "std = 0.0712\n",
    "\n",
    "w = get_ef_port_analytically(means,cov_tab,mu)\n",
    "\n",
    "w"
   ]
  },
  {
   "cell_type": "code",
   "execution_count": 180,
   "metadata": {},
   "outputs": [
    {
     "data": {
      "text/plain": [
       "array([[nan, nan, nan],\n",
       "       [nan, nan, nan],\n",
       "       [nan, nan, nan]])"
      ]
     },
     "execution_count": 180,
     "metadata": {},
     "output_type": "execute_result"
    }
   ],
   "source": [
    "arr = np.empty((3,3))\n",
    "\n",
    "arr[:] = np.nan\n",
    "arr\n",
    "\n",
    "\n"
   ]
  },
  {
   "cell_type": "code",
   "execution_count": 181,
   "metadata": {},
   "outputs": [
    {
     "data": {
      "text/plain": [
       "array([0.374, 0.396, 0.397])"
      ]
     },
     "execution_count": 181,
     "metadata": {},
     "output_type": "execute_result"
    }
   ],
   "source": [
    "mean = 0.0886\n",
    "std = 0.1954\n",
    "W0 = 105\n",
    "W1 = np.array([105,110,115])\n",
    "h= 1\n",
    "np.round(norm.pdf((np.log(W1/(W0))-(mean-0.5*std**2)*h)/(std*np.sqrt(h))),3)\n",
    "\n",
    "#100 [0.39670583, 0.39547966, 0.37397359]\n",
    "#105 [0.37448256, 0.39619069, 0.39654302]\n"
   ]
  },
  {
   "cell_type": "code",
   "execution_count": 182,
   "metadata": {},
   "outputs": [
    {
     "name": "stdout",
     "output_type": "stream",
     "text": [
      "[[[1.    0.    0.    0.   ]\n",
      "  [0.888 0.091 0.02  0.   ]\n",
      "  [0.499 0.266 0.174 0.06 ]]\n",
      "\n",
      " [[1.    0.    0.    0.   ]\n",
      "  [0.848 0.119 0.032 0.001]\n",
      "  [0.466 0.271 0.188 0.075]]\n",
      "\n",
      " [[1.    0.    0.    0.   ]\n",
      "  [0.8   0.149 0.048 0.003]\n",
      "  [0.436 0.274 0.2   0.09 ]]\n",
      "\n",
      " [[1.    0.    0.    0.   ]\n",
      "  [0.747 0.18  0.068 0.006]\n",
      "  [0.408 0.275 0.211 0.106]]]\n"
     ]
    },
    {
     "data": {
      "text/plain": [
       "array([23.493, 26.289, 29.014, 31.661])"
      ]
     },
     "execution_count": 182,
     "metadata": {},
     "output_type": "execute_result"
    }
   ],
   "source": [
    "portfolios = np.array([[0.0526, 0.0374], [0.07059443, 0.103057  ], [0.0886, 0.1954]])\n",
    "W0 = np.array([90,95,100,105])\n",
    "W1 = np.array([100,103,105,110])\n",
    "infusions = 2\n",
    "cost = 50\n",
    "h = 1\n",
    "\n",
    "values = [0,0,100,100]\n",
    "\n",
    "propabilities = calculateTransitionPropabilitiesForAllPorfolios(portfolios, W0, W1, infusions, cost, h)\n",
    "''' propabilities = np.array([[[0.451, 0.334, 0.197, 0.018],\n",
    "                                    [0.271, 0.27,  0.258, 0.2  ],\n",
    "                                    [0.255, 0.256, 0.253, 0.237]],\n",
    "\n",
    "                                    [[0.14,  0.307, 0.366, 0.187],\n",
    "                                    [0.221, 0.254, 0.266, 0.259],\n",
    "                                    [0.24,  0.251, 0.255, 0.254]],\n",
    "\n",
    "                                    [[0.017, 0.105, 0.244, 0.634],\n",
    "                                    [0.177, 0.234, 0.268, 0.322],\n",
    "                                    [0.227, 0.246, 0.256, 0.271]],\n",
    "\n",
    "                                    [[0.001, 0.017, 0.075, 0.908],\n",
    "                                    [0.14,  0.211, 0.262, 0.387],\n",
    "                                    [0.215, 0.241, 0.257, 0.288]]]) '''\n",
    "print(np.round(propabilities, 3))\n",
    "values = propabilities*values\n",
    "np.round(np.amax(values.sum(2),1),3)"
   ]
  },
  {
   "cell_type": "code",
   "execution_count": 183,
   "metadata": {},
   "outputs": [],
   "source": [
    "def __get_value_index(WT, wealth_value):\n",
    "    difference = np.absolute(WT - wealth_value)\n",
    "    index = np.argmin(difference)\n",
    "    return index\n",
    "\n"
   ]
  },
  {
   "cell_type": "code",
   "execution_count": 452,
   "metadata": {},
   "outputs": [
    {
     "name": "stdout",
     "output_type": "stream",
     "text": [
      "[2 2 2 2 0 0]\n",
      "[14.79437951 15.58145938 24.11574646 41.94244819 95.45553882 99.66923255]\n",
      "[[[0.496 0.242 0.114 0.072 0.    0.   ]]\n",
      "\n",
      " [[0.484 0.243 0.118 0.075 0.    0.   ]]\n",
      "\n",
      " [[0.373 0.239 0.146 0.107 0.    0.   ]]\n",
      "\n",
      " [[0.208 0.197 0.175 0.158 0.    0.   ]]\n",
      "\n",
      " [[0.113 0.146 0.172 0.184 0.326 0.446]]\n",
      "\n",
      " [[0.097 0.134 0.169 0.187 0.126 0.834]]]\n"
     ]
    },
    {
     "data": {
      "text/plain": [
       "(6, 1, 6)"
      ]
     },
     "execution_count": 452,
     "metadata": {},
     "output_type": "execute_result"
    }
   ],
   "source": [
    "portfolios = np.array([[0.0526, 0.0374], [0.07059443, 0.103057  ], [0.0886, 0.1954]])\n",
    "WT = np.array([49,50,60,80,100,105])\n",
    "WT1 = [90,95,100,103,105,110]\n",
    "VT1 = [0,0,0,100,100,100]\n",
    "c = 50\n",
    "#goals = [[50, 80], [30, 50],]\n",
    "VTc0 = np.array([29.014, 29.55, 77.286, 95.997])\n",
    "\n",
    "probabilities = calculateTransitionPropabilitiesForAllPorfolios(portfolios,WT,WT1,3,0)\n",
    "\n",
    "portfolios_strategies, VT, chosen_propabilities = get_portfolios_strategies(VT1,probabilities)\n",
    "print(portfolios_strategies)\n",
    "print(VT)\n",
    "print(np.round(chosen_propabilities,3))\n",
    "chosen_propabilities.shape"
   ]
  },
  {
   "cell_type": "code",
   "execution_count": 454,
   "metadata": {},
   "outputs": [
    {
     "name": "stdout",
     "output_type": "stream",
     "text": [
      "[0 0 0 0 0 0]\n",
      "[2 2 2 2 0 0]\n",
      "[16.384 17.2   25.916 43.611 98.276 99.897]\n",
      "[[[0.472 0.243 0.121 0.078 0.    0.   ]\n",
      "  [0.461 0.244 0.124 0.081 0.    0.   ]\n",
      "  [0.353 0.237 0.151 0.113 0.    0.   ]\n",
      "  [0.196 0.192 0.176 0.161 0.    0.   ]\n",
      "  [0.107 0.141 0.171 0.185 0.244 0.633]\n",
      "  [0.092 0.129 0.167 0.188 0.075 0.908]]\n",
      "\n",
      " [[0.211 0.187 0.166 0.155 0.148 0.133]\n",
      "  [0.21  0.186 0.166 0.155 0.149 0.134]\n",
      "  [0.199 0.182 0.167 0.158 0.153 0.141]\n",
      "  [0.188 0.177 0.167 0.161 0.158 0.149]\n",
      "  [0.181 0.174 0.167 0.163 0.161 0.154]\n",
      "  [0.179 0.173 0.167 0.164 0.161 0.156]]\n",
      "\n",
      " [[0.233 0.195 0.165 0.149 0.14  0.119]\n",
      "  [0.229 0.194 0.165 0.15  0.141 0.121]\n",
      "  [0.208 0.186 0.166 0.156 0.149 0.134]\n",
      "  [0.192 0.179 0.167 0.16  0.156 0.146]\n",
      "  [0.183 0.175 0.167 0.163 0.16  0.152]\n",
      "  [0.182 0.174 0.167 0.163 0.16  0.153]]\n",
      "\n",
      " [[0.    0.    0.    0.    0.    0.   ]\n",
      "  [0.    0.    0.    0.    0.    0.   ]\n",
      "  [0.233 0.195 0.165 0.149 0.14  0.119]\n",
      "  [0.199 0.182 0.167 0.158 0.153 0.141]\n",
      "  [0.188 0.177 0.167 0.161 0.158 0.149]\n",
      "  [0.186 0.176 0.167 0.162 0.159 0.151]]]\n"
     ]
    }
   ],
   "source": [
    "%precision 3\n",
    "\n",
    "\n",
    "goals = np.array([[40,10],[49, 15],[60, 30]])\n",
    "#goals = np.array([[0,0]])\n",
    "infusion = 5\n",
    "\n",
    "Wt = WT\n",
    "\n",
    "goal_strategies, portfolio_strategies, values, probabilities = get_goals_strategies(goals, infusion, WT,WT1, VT1, portfolios)\n",
    "\n",
    "\n",
    "print(goal_strategies)\n",
    "print(portfolio_strategies)\n",
    "print(np.round(values,3))\n",
    "print(np.round(probabilities,3))\n"
   ]
  },
  {
   "cell_type": "code",
   "execution_count": 283,
   "metadata": {},
   "outputs": [
    {
     "data": {
      "text/plain": [
       "array([[  9,  10,  20,  40,  60,  65],\n",
       "       [  0,   1,  11,  31,  51,  56],\n",
       "       [-11, -10,   0,  20,  40,  45]])"
      ]
     },
     "execution_count": 283,
     "metadata": {},
     "output_type": "execute_result"
    }
   ],
   "source": [
    "i = 6\n",
    "k = 3\n",
    "#Wtc = - np.tile(Wt,(k,1)) - np.repeat(goals[:,0],i).reshape((k,i))\n",
    "#Wtc[Wtc < 0] = 0\n",
    "#np.repeat(goals[:,0],i).reshape((k,i))\n",
    "np.tile(Wt,(k,1)) - np.repeat(goals[:,0],i).reshape((k,i))\n"
   ]
  },
  {
   "cell_type": "code",
   "execution_count": 295,
   "metadata": {},
   "outputs": [
    {
     "data": {
      "text/plain": [
       "array([0.606, 0.226, 0.083, 0.045, 0.03 , 0.011])"
      ]
     },
     "execution_count": 295,
     "metadata": {},
     "output_type": "execute_result"
    }
   ],
   "source": [
    "WT1 = np.array([90,95,100,103,105,110])\n",
    "np.round(calculateTransitionPropabilities(portfolios[2],40,WT1,3,0),3)"
   ]
  },
  {
   "attachments": {},
   "cell_type": "markdown",
   "metadata": {},
   "source": [
    "```\n",
    "expected values array([24.794, 29.794, 29.794, 44.794, 95.456, 99.669])\n",
    "array([[14.794, 15.581, 24.116, 41.942, 95.456, 99.669],\n",
    "       [24.794, 24.794, 24.794, 24.794, 34.116, 34.116],\n",
    "       [14.794, 29.794, 29.794, 29.794, 30.581, 39.116],\n",
    "       [14.794, 15.581, 24.116, 44.794, 44.794, 44.794]])\n",
    "\n",
    "```"
   ]
  },
  {
   "attachments": {},
   "cell_type": "markdown",
   "metadata": {},
   "source": [
    "## TODO\n",
    "- sprawdzić wrażliwość na rożne inputy\n",
    "- W0 jest większe niż cele"
   ]
  },
  {
   "cell_type": "code",
   "execution_count": 260,
   "metadata": {},
   "outputs": [
    {
     "ename": "ValueError",
     "evalue": "could not broadcast input array from shape (2,500) into shape (500,500)",
     "output_type": "error",
     "traceback": [
      "\u001b[1;31m---------------------------------------------------------------------------\u001b[0m",
      "\u001b[1;31mValueError\u001b[0m                                Traceback (most recent call last)",
      "\u001b[1;32mc:\\Users\\matsz\\programowanie\\Optymalizacja portfela\\investment-planner-spike.ipynb Komórka 19\u001b[0m in \u001b[0;36m<cell line: 7>\u001b[1;34m()\u001b[0m\n\u001b[0;32m      <a href='vscode-notebook-cell:/c%3A/Users/matsz/programowanie/Optymalizacja%20portfela/investment-planner-spike.ipynb#X23sZmlsZQ%3D%3D?line=4'>5</a>\u001b[0m goals \u001b[39m=\u001b[39m np\u001b[39m.\u001b[39marray([[[\u001b[39m0\u001b[39m,\u001b[39m0\u001b[39m]],[[\u001b[39m0\u001b[39m,\u001b[39m0\u001b[39m]],[[\u001b[39m0\u001b[39m,\u001b[39m0\u001b[39m]],[[\u001b[39m0\u001b[39m,\u001b[39m0\u001b[39m]],[[\u001b[39m0\u001b[39m,\u001b[39m0\u001b[39m]],[[\u001b[39m90\u001b[39m,\u001b[39m60\u001b[39m]],[[\u001b[39m0\u001b[39m,\u001b[39m0\u001b[39m]],[[\u001b[39m0\u001b[39m,\u001b[39m0\u001b[39m]],[[\u001b[39m0\u001b[39m,\u001b[39m0\u001b[39m]],[[\u001b[39m0\u001b[39m,\u001b[39m0\u001b[39m]],[[\u001b[39m120\u001b[39m,\u001b[39m100\u001b[39m]]])\n\u001b[0;32m      <a href='vscode-notebook-cell:/c%3A/Users/matsz/programowanie/Optymalizacja%20portfela/investment-planner-spike.ipynb#X23sZmlsZQ%3D%3D?line=5'>6</a>\u001b[0m portfolios \u001b[39m=\u001b[39m np\u001b[39m.\u001b[39marray([[\u001b[39m0.0526\u001b[39m, \u001b[39m0.0374\u001b[39m], [\u001b[39m0.07059443\u001b[39m, \u001b[39m0.103057\u001b[39m  ], [\u001b[39m0.0886\u001b[39m, \u001b[39m0.1954\u001b[39m]])\n\u001b[1;32m----> <a href='vscode-notebook-cell:/c%3A/Users/matsz/programowanie/Optymalizacja%20portfela/investment-planner-spike.ipynb#X23sZmlsZQ%3D%3D?line=6'>7</a>\u001b[0m investment_planner\u001b[39m.\u001b[39;49mset_params(\u001b[39m10\u001b[39;49m, \u001b[39m100\u001b[39;49m, \u001b[39m10\u001b[39;49m, \u001b[39m1\u001b[39;49m, goals, portfolios)\n\u001b[0;32m      <a href='vscode-notebook-cell:/c%3A/Users/matsz/programowanie/Optymalizacja%20portfela/investment-planner-spike.ipynb#X23sZmlsZQ%3D%3D?line=8'>9</a>\u001b[0m glide_path \u001b[39m=\u001b[39m investment_planner\u001b[39m.\u001b[39mglide_paths\n\u001b[0;32m     <a href='vscode-notebook-cell:/c%3A/Users/matsz/programowanie/Optymalizacja%20portfela/investment-planner-spike.ipynb#X23sZmlsZQ%3D%3D?line=9'>10</a>\u001b[0m wealth_grid \u001b[39m=\u001b[39m investment_planner\u001b[39m.\u001b[39mgrid\n",
      "File \u001b[1;32mc:\\Users\\matsz\\programowanie\\Optymalizacja portfela\\investment_planner.py:167\u001b[0m, in \u001b[0;36mInvestmentPlanner.set_params\u001b[1;34m(self, T, W0, infusion, infusionInterval, goals, portfolios)\u001b[0m\n\u001b[0;32m    165\u001b[0m     V[t] = values \n\u001b[0;32m    166\u001b[0m     self._porfolio_strategies[t] = portfolio_strategies  \n\u001b[1;32m--> 167\u001b[0m     #self.probabilitiesT[t] = probabilities\n\u001b[0;32m    168\u001b[0m     self._goal_strategies[t] = goal_strategies\n\u001b[0;32m    170\u001b[0m self._calculate_cumulative_propabilities(T, self.probabilitiesT)\n",
      "\u001b[1;31mValueError\u001b[0m: could not broadcast input array from shape (2,500) into shape (500,500)"
     ]
    }
   ],
   "source": [
    "from investment_planner import InvestmentPlanner \n",
    "\n",
    "investment_planner = InvestmentPlanner()\n",
    "\n",
    "goals = np.array([[[0,0]],[[0,0]],[[0,0]],[[0,0]],[[0,0]],[[90,60]],[[0,0]],[[0,0]],[[0,0]],[[0,0]],[[120,100]]])\n",
    "portfolios = np.array([[0.0526, 0.0374], [0.07059443, 0.103057  ], [0.0886, 0.1954]])\n",
    "investment_planner.set_params(10, 100, 10, 1, goals, portfolios)\n",
    "\n",
    "glide_path = investment_planner.glide_paths\n",
    "wealth_grid = investment_planner.grid\n",
    "probabilitiesT = investment_planner.probabilitiesT\n",
    "goal_strategies = investment_planner._goal_strategies\n",
    "\n",
    "#TODO refactor investment planner - chosen propabilieis to get portfolio_propabilities\n"
   ]
  },
  {
   "cell_type": "code",
   "execution_count": null,
   "metadata": {},
   "outputs": [],
   "source": [
    "WTt = np.repeat(10,1200)\n",
    "goals = np.array([[40,10],[49, 15],[60, 30]])"
   ]
  },
  {
   "cell_type": "code",
   "execution_count": 448,
   "metadata": {},
   "outputs": [
    {
     "name": "stdout",
     "output_type": "stream",
     "text": [
      "[[[0.212 0.187 0.166 0.155 0.148 0.132]\n",
      "  [0.211 0.187 0.166 0.155 0.148 0.133]\n",
      "  [0.2   0.182 0.167 0.158 0.153 0.14 ]\n",
      "  [0.189 0.177 0.167 0.161 0.157 0.148]\n",
      "  [0.181 0.174 0.167 0.163 0.16  0.154]\n",
      "  [0.18  0.174 0.167 0.163 0.161 0.155]]\n",
      "\n",
      " [[0.234 0.195 0.164 0.149 0.139 0.118]\n",
      "  [0.23  0.194 0.165 0.15  0.141 0.121]\n",
      "  [0.209 0.186 0.166 0.156 0.149 0.134]\n",
      "  [0.193 0.179 0.167 0.16  0.156 0.145]\n",
      "  [0.184 0.176 0.167 0.162 0.159 0.152]\n",
      "  [0.183 0.175 0.167 0.163 0.16  0.153]]\n",
      "\n",
      " [[0.    0.    0.    0.    0.    0.   ]\n",
      "  [0.    0.    0.    0.    0.    0.   ]\n",
      "  [0.234 0.195 0.164 0.149 0.139 0.118]\n",
      "  [0.2   0.182 0.167 0.158 0.153 0.14 ]\n",
      "  [0.189 0.177 0.167 0.161 0.157 0.148]\n",
      "  [0.186 0.177 0.167 0.162 0.158 0.15 ]]]\n"
     ]
    },
    {
     "data": {
      "text/plain": [
       "array([[1.17265765, 1.08174504, 1.0004663 , 0.95577458, 0.92752447,\n",
       "        0.86183196],\n",
       "       [1.23281172, 1.10540205, 0.99677676, 0.9391091 , 0.90339422,\n",
       "        0.82250615],\n",
       "       [0.80898429, 0.73189712, 0.66534571, 0.6296638 , 0.60743232,\n",
       "        0.55667676]])"
      ]
     },
     "execution_count": 448,
     "metadata": {},
     "output_type": "execute_result"
    }
   ],
   "source": [
    "def calculateTransitionPropabilitiesForGoals(Wt, Wt1, infusion, h, goal_costs, portfolioMeasures):\n",
    "    i0 = len(Wt)\n",
    "    i1 = len(Wt1)    \n",
    "    k = len(goal_costs)\n",
    "    cf = goal_costs - infusion\n",
    "    mean = portfolioMeasures[0]\n",
    "    std = portfolioMeasures[1]\n",
    "    b = ((mean-0.5*std**2)*h)/(std*np.sqrt(h))\n",
    "    result = np.zeros((k*i0,i1))\n",
    "    \n",
    "    Wtc = np.tile(Wt,(k,1)) - cf.reshape((k,1))\n",
    "    Wtc = Wtc.reshape((k*i0,1))\n",
    "    Wt1k = np.tile(Wt1, (k*i0,1))\n",
    "    \n",
    "    np.divide(Wt1k, Wtc, out=result, where=Wtc>0)\n",
    "    np.log(result,out=result, where=result>0)\n",
    "    result = np.where(result > 0, result+ b, 0)\n",
    "    result = np.where(result > 0, norm.pdf(result), 0)\n",
    "\n",
    "    result = np.divide(result,np.expand_dims(result.sum(1), axis=1),where=result>0)\n",
    "    result = result.reshape(k,i0,i1)\n",
    "\n",
    "    return result\n",
    "   \n",
    "\n",
    "portfolios = np.array([[0.0526, 0.0374], [0.07059443, 0.103057  ], [0.0886, 0.1954]])\n",
    "WT = np.array([49,50,60,80,100,105])\n",
    "#WT = np.array([100])\n",
    "WT1 = [90,95,100,103,105,110]\n",
    "\n",
    "goals = np.array([[40,10],[49, 15],[60, 30]])\n",
    "#goals = np.array([[49, 15],[60, 30]])\n",
    "#goals = np.array([[60,0]])\n",
    "infusion = 5\n",
    "h = 1\n",
    "\n",
    "probabilities = calculateTransitionPropabilitiesForGoals(WT, WT1, infusion, h, goals[:,0], [0.1,0.2])\n",
    "\n",
    "print(np.round(probabilities,3))\n",
    "probabilities.sum(1)\n",
    "\n"
   ]
  },
  {
   "attachments": {},
   "cell_type": "markdown",
   "metadata": {},
   "source": [
    "```\n",
    "[[0.    0.    0.    0.    0.    0.   ]\n",
    " [0.001 0.001 0.001 0.001 0.    0.   ]\n",
    " [0.016 0.014 0.012 0.012 0.011 0.01 ]\n",
    " [0.091 0.083 0.076 0.072 0.069 0.064]\n",
    " [0.177 0.165 0.154 0.148 0.144 0.134]\n",
    " [0.197 0.184 0.173 0.166 0.162 0.152]\n",
    " [0.    0.    0.    0.    0.    0.   ]\n",
    " [0.    0.    0.    0.    0.    0.   ]\n",
    " [0.    0.    0.    0.    0.    0.   ]\n",
    " [0.046 0.041 0.037 0.034 0.033 0.03 ]\n",
    " [0.131 0.121 0.111 0.106 0.103 0.095]\n",
    " [0.152 0.141 0.131 0.125 0.122 0.113]]\n",
    " ```"
   ]
  },
  {
   "cell_type": "code",
   "execution_count": 435,
   "metadata": {},
   "outputs": [
    {
     "data": {
      "text/plain": [
       "array([[0.19052224],\n",
       "       [0.17794971],\n",
       "       [0.16731141],\n",
       "       [0.16054159],\n",
       "       [0.15667311],\n",
       "       [0.14700193]])"
      ]
     },
     "execution_count": 435,
     "metadata": {},
     "output_type": "execute_result"
    }
   ],
   "source": [
    "arr =  np.array([0.197, 0.184, 0.173, 0.166, 0.162, 0.152])\n",
    "res = arr/ arr.sum()\n",
    "np.expand_dims(res, axis=1)\n"
   ]
  },
  {
   "cell_type": "code",
   "execution_count": 407,
   "metadata": {},
   "outputs": [
    {
     "data": {
      "text/plain": [
       "array([0.00044017, 0.00036002, 0.00029672, 0.00026511, 0.00024626,\n",
       "       0.00020571])"
      ]
     },
     "execution_count": 407,
     "metadata": {},
     "output_type": "execute_result"
    }
   ],
   "source": [
    "log = [1.38778666, 1.44185389, 1.49314718, 1.52270598, 1.54193734, 1.58845736]\n",
    "log2 =  [3.69037176, 3.74443898, 3.79573227, 3.82529108, 3.84452244, 3.89104245]\n",
    "norm.pdf(log2)"
   ]
  },
  {
   "attachments": {},
   "cell_type": "markdown",
   "metadata": {},
   "source": [
    "1: 48.057\n",
    "2. 64.226\n",
    "m. 56.305"
   ]
  },
  {
   "cell_type": "code",
   "execution_count": 440,
   "metadata": {},
   "outputs": [
    {
     "data": {
      "text/plain": [
       "array([2., 2.])"
      ]
     },
     "execution_count": 440,
     "metadata": {},
     "output_type": "execute_result"
    }
   ],
   "source": [
    "arr = np.array([1,2,4])\n",
    "arr1 = np.array([0,1,2])\n",
    "arr[arr1>0]/ arr1[arr1>0]\n"
   ]
  }
 ],
 "metadata": {
  "kernelspec": {
   "display_name": "portfolio-optimisation",
   "language": "python",
   "name": "python3"
  },
  "language_info": {
   "codemirror_mode": {
    "name": "ipython",
    "version": 3
   },
   "file_extension": ".py",
   "mimetype": "text/x-python",
   "name": "python",
   "nbconvert_exporter": "python",
   "pygments_lexer": "ipython3",
   "version": "3.9.12"
  },
  "orig_nbformat": 4,
  "vscode": {
   "interpreter": {
    "hash": "4bef00bc7c9a78db1045a379974b3641e8d6d719796f9d93b631987f459ca5f0"
   }
  }
 },
 "nbformat": 4,
 "nbformat_minor": 2
}
