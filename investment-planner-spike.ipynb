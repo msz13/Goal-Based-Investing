{
 "cells": [
  {
   "cell_type": "code",
   "execution_count": 2,
   "metadata": {},
   "outputs": [],
   "source": [
    "import numpy as np\n",
    "from investment_planner import calculateTransitionPropabilitiesForAllPorfolios, generateGrid"
   ]
  },
  {
   "cell_type": "code",
   "execution_count": 3,
   "metadata": {},
   "outputs": [
    {
     "name": "stdout",
     "output_type": "stream",
     "text": [
      "[[[0.514 0.485 0.    0.   ]\n",
      "  [0.361 0.409 0.186 0.043]\n",
      "  [0.288 0.302 0.245 0.165]]\n",
      "\n",
      " [[0.017 0.945 0.038 0.   ]\n",
      "  [0.205 0.397 0.293 0.105]\n",
      "  [0.238 0.289 0.269 0.204]]\n",
      "\n",
      " [[0.    0.427 0.57  0.003]\n",
      "  [0.099 0.32  0.375 0.205]\n",
      "  [0.194 0.272 0.288 0.246]]\n",
      "\n",
      " [[0.    0.    0.372 0.627]\n",
      "  [0.017 0.139 0.384 0.459]\n",
      "  [0.127 0.232 0.311 0.33 ]]]\n"
     ]
    }
   ],
   "source": [
    "\n",
    "portfolios = np.array([[0.0526, 0.0374], [0.07059443, 0.103057], [0.0886, 0.1954]])\n",
    "WT = np.array([90,95,100,110])\n",
    "WT1 = np.array([90,100,110,120])\n",
    "propabilities = calculateTransitionPropabilitiesForAllPorfolios(portfolios,WT,WT1)\n",
    "print(np.round(propabilities, 3))\n",
    "   "
   ]
  },
  {
   "cell_type": "code",
   "execution_count": 11,
   "metadata": {},
   "outputs": [],
   "source": [
    "portfolios = np.array([[0.0526, 0.0374], [0.07059443, 0.103057], [0.0886, 0.1954]])\n",
    "W0 = 30000\n",
    "T = 10\n",
    "infusions = [0,25000,25000,25000,25000,25000,25000,25000,25000,25000,25000]\n",
    "goals = [0,0,0,0,0,0,0,0,0,0,65]\n",
    "iMax = 900\n",
    "\n",
    "grid = generateGrid(W0,T,iMax, infusions, goals, portfolios[0,0], portfolios[0,1], portfolios[2,0], portfolios[2,1])\n",
    "grid = grid.T"
   ]
  },
  {
   "cell_type": "code",
   "execution_count": 23,
   "metadata": {},
   "outputs": [
    {
     "data": {
      "text/plain": [
       "array([[[105, 100],\n",
       "        [110, 200],\n",
       "        [105, 100],\n",
       "        [110, 200],\n",
       "        [105, 100],\n",
       "        [110, 200],\n",
       "        [105, 100],\n",
       "        [110, 200],\n",
       "        [105, 100],\n",
       "        [110, 200]],\n",
       "\n",
       "       [[105, 100],\n",
       "        [110, 200],\n",
       "        [105, 100],\n",
       "        [110, 200],\n",
       "        [105, 100],\n",
       "        [110, 200],\n",
       "        [105, 100],\n",
       "        [110, 200],\n",
       "        [105, 100],\n",
       "        [110, 200]]])"
      ]
     },
     "execution_count": 23,
     "metadata": {},
     "output_type": "execute_result"
    }
   ],
   "source": [
    "k = np.array([[105,100],[110,200]])\n",
    "wealthInT = np.array([90,95,100,105,110])\n",
    "Wk = np.tile(wealthInT, (2,1))\n",
    "ki = np.tile(k, (2, 5,1))\n",
    "#np.where(Wk >= k[:,0], k[:,1], 0)\n",
    "ki"
   ]
  },
  {
   "cell_type": "code",
   "execution_count": null,
   "metadata": {},
   "outputs": [],
   "source": [
    "WT1 = np.array([90,95,100,105,110])\n",
    "WT1P = WT1 * [0.2,0.35, 0.2 ,0.15,0.1]"
   ]
  }
 ],
 "metadata": {
  "kernelspec": {
   "display_name": "portfolio-optimisation",
   "language": "python",
   "name": "python3"
  },
  "language_info": {
   "codemirror_mode": {
    "name": "ipython",
    "version": 3
   },
   "file_extension": ".py",
   "mimetype": "text/x-python",
   "name": "python",
   "nbconvert_exporter": "python",
   "pygments_lexer": "ipython3",
   "version": "3.9.12"
  },
  "orig_nbformat": 4,
  "vscode": {
   "interpreter": {
    "hash": "4bef00bc7c9a78db1045a379974b3641e8d6d719796f9d93b631987f459ca5f0"
   }
  }
 },
 "nbformat": 4,
 "nbformat_minor": 2
}
