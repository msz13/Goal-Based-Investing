{
 "cells": [
  {
   "cell_type": "code",
   "execution_count": 3,
   "metadata": {},
   "outputs": [
    {
     "name": "stdout",
     "output_type": "stream",
     "text": [
      "The autoreload extension is already loaded. To reload it, use:\n",
      "  %reload_ext autoreload\n"
     ]
    }
   ],
   "source": [
    "%load_ext autoreload\n",
    "%autoreload 2\n",
    "\n",
    "import numpy as np\n",
    "from investment_planner import calculateTransitionPropabilitiesForAllPorfolios, generateGrid, calculateTransitionPropabilities, calculateTransitionPropabilitiesForGoals, get_goals_strategies, calculateValuesForLastPeriod\n",
    "from scipy.stats import norm"
   ]
  },
  {
   "cell_type": "code",
   "execution_count": 1187,
   "metadata": {},
   "outputs": [
    {
     "name": "stdout",
     "output_type": "stream",
     "text": [
      "[[[0.451 0.334 0.197 0.018]\n",
      "  [0.271 0.27  0.258 0.2  ]\n",
      "  [0.255 0.256 0.253 0.237]]\n",
      "\n",
      " [[0.14  0.307 0.366 0.187]\n",
      "  [0.221 0.254 0.266 0.259]\n",
      "  [0.24  0.251 0.255 0.254]]\n",
      "\n",
      " [[0.017 0.105 0.244 0.634]\n",
      "  [0.177 0.234 0.268 0.322]\n",
      "  [0.227 0.246 0.256 0.271]]\n",
      "\n",
      " [[0.001 0.017 0.075 0.908]\n",
      "  [0.14  0.211 0.262 0.387]\n",
      "  [0.215 0.241 0.257 0.288]]]\n"
     ]
    },
    {
     "data": {
      "text/plain": [
       "array([49. , 55.3, 87.8, 98.3])"
      ]
     },
     "execution_count": 1187,
     "metadata": {},
     "output_type": "execute_result"
    }
   ],
   "source": [
    "\n",
    "portfolios = np.array([[0.0526, 0.0374], [0.07059443, 0.103057  ], [0.0886, 0.1954]])\n",
    "W0 = np.array([90,95,100,105])\n",
    "W1 = np.array([100,103,105,110])\n",
    "infusions = 2\n",
    "cost = 3\n",
    "h = 1\n",
    "\n",
    "values = [0,0,100,100]\n",
    "\n",
    "#propabilities = calculateTransitionPropabilitiesForAllPorfolios(portfolios, W0, W1, infusions, cost, h)\n",
    "propabilities = np.array([[[0.451, 0.334, 0.197, 0.018],\n",
    "                                    [0.271, 0.27,  0.258, 0.2  ],\n",
    "                                    [0.255, 0.256, 0.253, 0.237]],\n",
    "\n",
    "                                    [[0.14,  0.307, 0.366, 0.187],\n",
    "                                    [0.221, 0.254, 0.266, 0.259],\n",
    "                                    [0.24,  0.251, 0.255, 0.254]],\n",
    "\n",
    "                                    [[0.017, 0.105, 0.244, 0.634],\n",
    "                                    [0.177, 0.234, 0.268, 0.322],\n",
    "                                    [0.227, 0.246, 0.256, 0.271]],\n",
    "\n",
    "                                    [[0.001, 0.017, 0.075, 0.908],\n",
    "                                    [0.14,  0.211, 0.262, 0.387],\n",
    "                                    [0.215, 0.241, 0.257, 0.288]]])\n",
    "print(np.round(propabilities, 3))\n",
    "values = propabilities*values\n",
    "np.round(np.amax(values.sum(2),1),3)\n",
    "#values.sum(2)\n"
   ]
  },
  {
   "cell_type": "code",
   "execution_count": 23,
   "metadata": {},
   "outputs": [
    {
     "name": "stderr",
     "output_type": "stream",
     "text": [
      "C:\\Users\\matsz\\AppData\\Local\\Temp\\ipykernel_2760\\1675832679.py:7: VisibleDeprecationWarning: Creating an ndarray from ragged nested sequences (which is a list-or-tuple of lists-or-tuples-or ndarrays with different lengths or shapes) is deprecated. If you meant to do this, you must specify 'dtype=object' when creating the ndarray.\n",
      "  goals = np.array([empty_goal, empty_goal, empty_goal, empty_goal, empty_goal, np.array([[0,0],[60,200]]),empty_goal, empty_goal, empty_goal, empty_goal,np.array([[0,0],[120,1500]])])\n"
     ]
    }
   ],
   "source": [
    "portfolios = np.array([[0.0526, 0.0374], [0.07059443, 0.103057], [0.0886, 0.1954]])\n",
    "W0 = 100\n",
    "T = 10\n",
    "#infusions = [0,25000,25000,25000,25000,25000,25000,25000,25000,25000,25000]\n",
    "infusions = np.zeros(13)\n",
    "empty_goal = np.array([[0,0]])\n",
    "goals = np.array([empty_goal, empty_goal, empty_goal, empty_goal, empty_goal, np.array([[0,0],[60,200]]),empty_goal, empty_goal, empty_goal, empty_goal,np.array([[0,0],[120,1500]])])\n",
    "iMax = 200\n",
    "\n",
    "grid = generateGrid(W0,T,iMax, infusions, goals, portfolios[0,0], portfolios[0,1], portfolios[2,0], portfolios[2,1])\n",
    "grid = grid.T"
   ]
  },
  {
   "cell_type": "code",
   "execution_count": null,
   "metadata": {},
   "outputs": [
    {
     "data": {
      "text/plain": [
       "1837.723"
      ]
     },
     "execution_count": 749,
     "metadata": {},
     "output_type": "execute_result"
    }
   ],
   "source": [
    "W0 = 100\n",
    "meanMax = 0.0886\n",
    "stdMin = 0.0374\n",
    "stdMax = 0.1954\n",
    "t =11\n",
    "\n",
    "W0*np.exp((meanMax-(stdMin**2/2))*t + 3*stdMax*np.sqrt(t))"
   ]
  },
  {
   "cell_type": "code",
   "execution_count": null,
   "metadata": {},
   "outputs": [
    {
     "data": {
      "text/plain": [
       "array([[[105, 100],\n",
       "        [110, 200],\n",
       "        [105, 100],\n",
       "        [110, 200],\n",
       "        [105, 100],\n",
       "        [110, 200],\n",
       "        [105, 100],\n",
       "        [110, 200],\n",
       "        [105, 100],\n",
       "        [110, 200]],\n",
       "\n",
       "       [[105, 100],\n",
       "        [110, 200],\n",
       "        [105, 100],\n",
       "        [110, 200],\n",
       "        [105, 100],\n",
       "        [110, 200],\n",
       "        [105, 100],\n",
       "        [110, 200],\n",
       "        [105, 100],\n",
       "        [110, 200]]])"
      ]
     },
     "execution_count": 750,
     "metadata": {},
     "output_type": "execute_result"
    }
   ],
   "source": [
    "k = np.array([[105,100],[110,200]])\n",
    "wealthInT = np.array([90,95,100,105,110])\n",
    "Wk = np.tile(wealthInT, (2,1))\n",
    "ki = np.tile(k, (2, 5,1))\n",
    "#np.where(Wk >= k[:,0], k[:,1], 0)\n",
    "ki"
   ]
  },
  {
   "cell_type": "code",
   "execution_count": null,
   "metadata": {},
   "outputs": [
    {
     "data": {
      "text/plain": [
       "array([[18.  ],\n",
       "       [33.25],\n",
       "       [20.  ],\n",
       "       [15.75],\n",
       "       [11.  ]])"
      ]
     },
     "execution_count": 751,
     "metadata": {},
     "output_type": "execute_result"
    }
   ],
   "source": [
    "WT1 = np.array([90,95,100,105,110])\n",
    "WT1P = WT1 * [0.2,0.35, 0.2 ,0.15,0.1]\n",
    "WT1P.reshape((5,1))"
   ]
  },
  {
   "cell_type": "code",
   "execution_count": null,
   "metadata": {},
   "outputs": [
    {
     "name": "stderr",
     "output_type": "stream",
     "text": [
      "C:\\Users\\matsz\\AppData\\Local\\Temp\\ipykernel_28528\\4293703242.py:1: VisibleDeprecationWarning: Creating an ndarray from ragged nested sequences (which is a list-or-tuple of lists-or-tuples-or ndarrays with different lengths or shapes) is deprecated. If you meant to do this, you must specify 'dtype=object' when creating the ndarray.\n",
      "  arr = np.array([[1,2,3,4],[1,2,3]])\n"
     ]
    },
    {
     "data": {
      "text/plain": [
       "array([list([1, 2, 3, 4]), list([1, 2, 3, 1, 2, 3])], dtype=object)"
      ]
     },
     "execution_count": 752,
     "metadata": {},
     "output_type": "execute_result"
    }
   ],
   "source": [
    "arr = np.array([[1,2,3,4],[1,2,3]])\n",
    "arr2 = np.array([1,2])\n",
    "result = arr*arr2\n",
    "result"
   ]
  },
  {
   "cell_type": "code",
   "execution_count": null,
   "metadata": {},
   "outputs": [],
   "source": [
    "def get_ef_port_analytically(rets, covm, targ):\n",
    "    \"\"\"Solve for the efficient frontier weights for a given expected return\n",
    "    vector `rets`, covariance matrix `covm`, and expected portfolio return\n",
    "    `targ`.\n",
    "    \"\"\"\n",
    "    N = rets.shape[0]\n",
    "    u = np.array([targ, 1])[:, None]\n",
    "    U = np.vstack([rets, np.ones_like(rets)]).T\n",
    "\n",
    "    covm_inv = np.linalg.solve(covm, np.eye(N))\n",
    "    M        = U.T @ covm_inv @ U\n",
    "    M_inv    = np.linalg.solve(M, np.eye(2))\n",
    "    weights  = covm_inv @ U @ M_inv @ u\n",
    "\n",
    "    return weights\n"
   ]
  },
  {
   "cell_type": "code",
   "execution_count": null,
   "metadata": {},
   "outputs": [
    {
     "data": {
      "text/plain": [
       "array([[0.44472681],\n",
       "       [0.55527319]])"
      ]
     },
     "execution_count": 754,
     "metadata": {},
     "output_type": "execute_result"
    }
   ],
   "source": [
    "cov_tab = np.array([[0.0002, -0.00],\n",
    "                    [-0.00, 0.0013]])\n",
    "means = np.array([0.0307, 0.1094])\n",
    "\n",
    "mu = 0.0744\n",
    "std = 0.0712\n",
    "\n",
    "w = get_ef_port_analytically(means,cov_tab,mu)\n",
    "\n",
    "w"
   ]
  },
  {
   "cell_type": "code",
   "execution_count": null,
   "metadata": {},
   "outputs": [
    {
     "data": {
      "text/plain": [
       "0.000"
      ]
     },
     "execution_count": 1134,
     "metadata": {},
     "output_type": "execute_result"
    }
   ],
   "source": [
    "def __prob(W0, W1, mean, std, h):\n",
    "    return norm.pdf((np.log(W1/W0)-(mean-0.5*std**2)*h)/(std*np.sqrt(h)))\n",
    "portfolios = np.array([[0.0526, 0.0374], [0.07059443, 0.103057  ], [0.0886, 0.1954]])\n",
    "W0 = np.array([49,50,60,80,100,105])\n",
    "W1 = np.array([90,95,100,103,105,110])\n",
    "infusions = 5\n",
    "h = 1\n",
    "__prob(W0[1],W1[0],portfolios[0,0],portfolios[0,1],h)"
   ]
  },
  {
   "cell_type": "code",
   "execution_count": null,
   "metadata": {},
   "outputs": [
    {
     "name": "stdout",
     "output_type": "stream",
     "text": [
      "[[[1.    0.    0.    0.    0.    0.   ]\n",
      "  [1.    0.    0.    0.    0.    0.   ]\n",
      "  [1.    0.    0.    0.    0.    0.   ]\n",
      "  [0.769 0.221 0.01  0.001 0.    0.   ]\n",
      "  [0.    0.    0.017 0.105 0.244 0.633]\n",
      "  [0.    0.    0.001 0.017 0.075 0.908]]\n",
      "\n",
      " [[0.91  0.082 0.006 0.001 0.    0.   ]\n",
      "  [0.901 0.089 0.008 0.002 0.001 0.   ]\n",
      "  [0.769 0.178 0.035 0.012 0.006 0.001]\n",
      "  [0.281 0.255 0.18  0.132 0.103 0.049]\n",
      "  [0.03  0.08  0.158 0.208 0.238 0.286]\n",
      "  [0.016 0.053 0.131 0.196 0.244 0.36 ]]\n",
      "\n",
      " [[0.472 0.243 0.121 0.078 0.058 0.027]\n",
      "  [0.461 0.244 0.124 0.081 0.061 0.029]\n",
      "  [0.353 0.237 0.151 0.113 0.092 0.054]\n",
      "  [0.196 0.192 0.176 0.161 0.151 0.124]\n",
      "  [0.107 0.141 0.171 0.185 0.193 0.204]\n",
      "  [0.092 0.129 0.167 0.188 0.2   0.224]]]\n"
     ]
    }
   ],
   "source": [
    "portfolios = np.array([[0.0526, 0.0374], [0.07059443, 0.103057  ], [0.0886, 0.1954]])\n",
    "W0 = np.array([49,50,60,80,100,105])\n",
    "W1 = np.array([90,95,100,103,105,110])\n",
    "infusions = 5\n",
    "\n",
    "h = 1\n",
    "\n",
    "values = [0,0,100,100]\n",
    "\n",
    "propabilities = calculateTransitionPropabilitiesForAllPorfolios(portfolios, W0, W1, infusions, h)\n",
    "\n",
    "print(np.round(propabilities, 3))\n"
   ]
  },
  {
   "cell_type": "code",
   "execution_count": null,
   "metadata": {},
   "outputs": [
    {
     "name": "stdout",
     "output_type": "stream",
     "text": [
      "[[[1.    0.    0.    0.    0.    0.   ]\n",
      "  [1.    0.    0.    0.    0.    0.   ]\n",
      "  [1.    0.    0.    0.    0.    0.   ]\n",
      "  [0.769 0.221 0.01  0.001 0.    0.   ]\n",
      "  [0.    0.    0.017 0.105 0.244 0.633]\n",
      "  [0.    0.    0.001 0.017 0.075 0.908]]\n",
      "\n",
      " [[0.91  0.082 0.006 0.001 0.    0.   ]\n",
      "  [0.901 0.089 0.008 0.002 0.001 0.   ]\n",
      "  [0.769 0.178 0.035 0.012 0.006 0.001]\n",
      "  [0.281 0.255 0.18  0.132 0.103 0.049]\n",
      "  [0.03  0.08  0.158 0.208 0.238 0.286]\n",
      "  [0.016 0.053 0.131 0.196 0.244 0.36 ]]\n",
      "\n",
      " [[0.472 0.243 0.121 0.078 0.058 0.027]\n",
      "  [0.461 0.244 0.124 0.081 0.061 0.029]\n",
      "  [0.353 0.237 0.151 0.113 0.092 0.054]\n",
      "  [0.196 0.192 0.176 0.161 0.151 0.124]\n",
      "  [0.107 0.141 0.171 0.185 0.193 0.204]\n",
      "  [0.092 0.129 0.167 0.188 0.2   0.224]]]\n",
      "[2 2 2 2 0 0]\n",
      "[16.4 17.2 25.9 43.6 98.3 99.9]\n",
      "[[0.47 0.24 0.12 0.08 0.06 0.03]\n",
      " [0.46 0.24 0.12 0.08 0.06 0.03]\n",
      " [0.35 0.24 0.15 0.11 0.09 0.05]\n",
      " [0.2  0.19 0.18 0.16 0.15 0.12]\n",
      " [0.   0.   0.02 0.1  0.24 0.63]\n",
      " [0.   0.   0.   0.02 0.07 0.91]]\n"
     ]
    }
   ],
   "source": [
    "def get_portfolios_strategies(VT1, probabilities):\n",
    "    Vt = VT1 * probabilities\n",
    "    sums = Vt.sum(2)\n",
    "    maxes = np.amax(sums,0)\n",
    "    portfolios_ids = np.argmax(sums,0)    \n",
    "    chosen_propabilities = np.take_along_axis(probabilities.transpose(1,0,2),portfolios_ids.reshape(6,1,1),1).squeeze(1)\n",
    "    return portfolios_ids, maxes, chosen_propabilities\n",
    "\n",
    "portfolios = np.array([[0.0526, 0.0374], [0.07059443, 0.103057  ], [0.0886, 0.1954]])\n",
    "WT = np.array([49,50,60,80,100,105])\n",
    "WT1 = np.array([90,95,100,103,105,110])\n",
    "VT1 = [0,0,0,100,100,100]\n",
    "c = 50\n",
    "#goals = [[50, 80], [30, 50],]\n",
    "VTc0 = np.array([29.014, 29.55, 77.286, 95.997])\n",
    "\n",
    "probabilities = calculateTransitionPropabilitiesForAllPorfolios(portfolios,WT,WT1,5,1)\n",
    "print(np.round(probabilities,3))\n",
    "\"\"\"\"\n",
    "portfolios_strategies, VT, chosen_propabilities, V = get_portfolios_strategies(VT1,probabilities)\n",
    "print(portfolios_strategies)\n",
    "print(VT)\n",
    "print(np.round(chosen_propabilities,3))\n",
    "print(np.round(V,3)) \n",
    "\"\"\"\n",
    "porfolios_strategies, VT, chosen_propabilities = get_portfolios_strategies(VT1,probabilities)\n",
    "print(np.round(porfolios_strategies,1))\n",
    "print(np.round(VT,1))\n",
    "print(np.round(chosen_propabilities,2))\n"
   ]
  },
  {
   "cell_type": "code",
   "execution_count": null,
   "metadata": {},
   "outputs": [
    {
     "data": {
      "text/plain": [
       "array([[14, 15, 25, 45, 65, 70],\n",
       "       [ 5,  6, 16, 36, 56, 61],\n",
       "       [-6, -5,  5, 25, 45, 50]])"
      ]
     },
     "execution_count": 808,
     "metadata": {},
     "output_type": "execute_result"
    }
   ],
   "source": [
    "def __calculateWtc(WT, goals_costs, infusion):        \n",
    "    k = len(goals_costs)\n",
    "    cf = goals_costs - infusion\n",
    "    Wtc = np.tile(WT,(k,1)) - cf.reshape((k,1))\n",
    "    return Wtc\n",
    "goals = np.array([[40,10],[49, 15],[60, 30]])\n",
    "WT = np.array([49,50,60,80,100,105])\n",
    "infusion = 5\n",
    "__calculateWtc(WT,goals[:,0],infusion)"
   ]
  },
  {
   "cell_type": "code",
   "execution_count": null,
   "metadata": {},
   "outputs": [
    {
     "data": {
      "text/plain": [
       "(array([[[0.0886    , 0.1954    ],\n",
       "         [0.0886    , 0.1954    ],\n",
       "         [0.07059443, 0.103057  ],\n",
       "         [0.0526    , 0.0374    ]],\n",
       " \n",
       "        [[0.0886    , 0.1954    ],\n",
       "         [0.0886    , 0.1954    ],\n",
       "         [0.0886    , 0.1954    ],\n",
       "         [0.07059443, 0.103057  ]]]),\n",
       " array([[0.06950942, 0.06950942, 0.06528406, 0.05190062],\n",
       "        [0.06950942, 0.06950942, 0.06950942, 0.06528406]]),\n",
       " array([[0.1954  , 0.1954  , 0.103057, 0.0374  ],\n",
       "        [0.1954  , 0.1954  , 0.1954  , 0.103057]]))"
      ]
     },
     "execution_count": 884,
     "metadata": {},
     "output_type": "execute_result"
    }
   ],
   "source": [
    "def __calculate_drift(goal_porfolio_strategies, portfolios, h=1):\n",
    "    portfolios_measures = np.take(portfolios, goal_porfolio_strategies, axis=0)\n",
    "    b = (portfolios_measures[:,:,0]-0.5*portfolios_measures[:,:,1]**2)*h\n",
    "    c = portfolios_measures[:,:,1]*np.sqrt(h)\n",
    "    return portfolios_measures, b, c\n",
    "\n",
    "goal_porfolio_strategies = np.array([[2,2,1,0],\n",
    "                                    [2,2,2,1]])\n",
    "\n",
    "portfolios = np.array([[0.0526, 0.0374], [0.07059443, 0.103057  ], [0.0886, 0.1954]])\n",
    "\n",
    "__calculate_drift(goal_porfolio_strategies, portfolios)\n",
    "\n",
    "#b result porfolio 2, 0.06950942\n",
    "\n",
    "\n"
   ]
  },
  {
   "cell_type": "code",
   "execution_count": null,
   "metadata": {},
   "outputs": [
    {
     "name": "stdout",
     "output_type": "stream",
     "text": [
      "[[[0.593 0.229 0.086 0.048 0.032 0.012]\n",
      "  [0.581 0.231 0.09  0.051 0.034 0.013]\n",
      "  [0.461 0.244 0.124 0.081 0.061 0.029]\n",
      "  [0.265 0.217 0.168 0.14  0.123 0.086]\n",
      "  [0.237 0.237 0.237 0.176 0.103 0.01 ]\n",
      "  [0.187 0.187 0.187 0.157 0.187 0.095]]\n",
      "\n",
      " [[0.982 0.017 0.    0.    0.    0.   ]\n",
      "  [0.977 0.022 0.001 0.    0.    0.   ]\n",
      "  [0.906 0.083 0.008 0.002 0.001 0.   ]\n",
      "  [0.692 0.201 0.058 0.027 0.017 0.005]\n",
      "  [0.449 0.244 0.127 0.085 0.064 0.032]\n",
      "  [0.394 0.241 0.141 0.1   0.08  0.043]]\n",
      "\n",
      " [[0.167 0.167 0.167 0.167 0.167 0.167]\n",
      "  [0.167 0.167 0.167 0.167 0.167 0.167]\n",
      "  [0.982 0.017 0.    0.    0.    0.   ]\n",
      "  [0.819 0.142 0.025 0.009 0.005 0.001]\n",
      "  [0.581 0.231 0.09  0.051 0.034 0.013]\n",
      "  [0.52  0.24  0.108 0.066 0.047 0.02 ]]]\n"
     ]
    }
   ],
   "source": [
    "from investment_planner import __get_porfolios_strategy_for_wealth_values, calculateTransitionPropabilitiesForGoals\n",
    "\n",
    "goals = np.array([[5,5],[49, 15],[60, 30]])\n",
    "WT = np.array([49,50,60,80,100,105])\n",
    "WT1 = np.array([90,95,100,103,105,110])\n",
    "infusion = 5\n",
    "porfolios = np.array([[0.0526, 0.0374], [0.07059443, 0.103057  ], [0.0886, 0.1954]])\n",
    "Wtc = np.array([[44, 45, 55, 75, 95, 100],\n",
    "                [ 5,  6, 16, 36, 56, 61],\n",
    "                [-6, -5,  5, 25, 45, 50]])\n",
    "\n",
    "portfolios_for_goals = np.array([[[0.0886, 0.1954],\n",
    "                                  [0.0886, 0.1954],\n",
    "                                  [0.0886, 0.1954],\n",
    "                                  [0.0886, 0.1954],\n",
    "                                  [0.0526, 0.0374],\n",
    "                                  [0.0526, 0.0374]],                        \n",
    "                                 [[0.0886, 0.1954],\n",
    "                                  [0.0886, 0.1954],\n",
    "                                  [0.0886, 0.1954],\n",
    "                                  [0.0886, 0.1954],\n",
    "                                  [0.0886, 0.1954],\n",
    "                                  [0.0886, 0.1954]],\n",
    "                                  [[0.0886, 0.1954],\n",
    "                                  [0.0886, 0.1954],\n",
    "                                  [0.0886, 0.1954],\n",
    "                                  [0.0886, 0.1954],\n",
    "                                  [0.0886, 0.1954],\n",
    "                                  [0.0886, 0.1954]],\n",
    "                                  ])\n",
    "\n",
    "prob = calculateTransitionPropabilitiesForGoals(Wtc, WT1, portfolios_for_goals,1)\n",
    "print(np.round(prob, 3))\n",
    "\n",
    "\n"
   ]
  },
  {
   "cell_type": "code",
   "execution_count": null,
   "metadata": {},
   "outputs": [
    {
     "name": "stdout",
     "output_type": "stream",
     "text": [
      "0.05190062\n",
      "0.3975649625450413\n"
     ]
    },
    {
     "data": {
      "text/plain": [
       "0.203"
      ]
     },
     "execution_count": 980,
     "metadata": {},
     "output_type": "execute_result"
    }
   ],
   "source": [
    "def __prob(W0, W1, mean, std, Infusion, Cost, h):\n",
    "    return norm.pdf((np.log(W1/(W0+Infusion+Cost))-(mean-0.5*std**2)*h)/(std*np.sqrt(h)))\n",
    "\n",
    "print((0.0526-0.5*0.0374**2))\n",
    "print(__prob(100,105,0.0526, 0.0374, 0,0,1))\n",
    "np.log(105/95)\n",
    "#np.round(np.expand_dims(prob.sum(1), 1),3)\n",
    "norm.pdf((np.log(110/100)-0.05190062)/0.0374)"
   ]
  },
  {
   "cell_type": "code",
   "execution_count": null,
   "metadata": {},
   "outputs": [
    {
     "name": "stdout",
     "output_type": "stream",
     "text": [
      "[ 49  50  60  80 100 105]\n",
      "[[ 44  45  55  75  95 100]\n",
      " [ 29  30  40  60  80  85]\n",
      " [-11 -10   0  20  40  45]]\n"
     ]
    },
    {
     "data": {
      "text/plain": [
       "array([[2, 2, 2, 1, 0, 0],\n",
       "       [2, 2, 2, 2, 1, 1],\n",
       "       [2, 2, 2, 2, 2, 2]])"
      ]
     },
     "execution_count": 989,
     "metadata": {},
     "output_type": "execute_result"
    }
   ],
   "source": [
    "def __get_porfolio_strategy_for_wealth_values(WT, wealth_value, porfolios_strategies):\n",
    "    k = wealth_value.shape[0]\n",
    "    i = wealth_value.shape[1]\n",
    "    wc = wealth_value.reshape(k*i,1)\n",
    "    wg = np.tile(WT,(k*i,1))\n",
    "    difference = np.absolute(wg - wc)\n",
    "    index = np.argmin(difference, axis=1)\n",
    "    index = index.reshape(k,i)\n",
    "    return np.take(porfolios_strategies,index)\n",
    "\n",
    "porfolios_strategies = [2,2,2,1,0,0]\n",
    "WT = np.array([49,50,60,80,100,105])\n",
    "goals = np.array([[5,5],[20,10],[60, 30]])\n",
    "Wtc = np.tile(WT,(len(goals),1)) - goals[:,0].reshape(len(goals),1)\n",
    "#result [[2,2,2,1,0,0],\n",
    "#        [2,2,2,2,1,1],\n",
    "#        [2,2,2,2,2,2]\n",
    "print(WT)\n",
    "print(Wtc)\n",
    "\n",
    "__get_porfolio_strategy_for_wealth_values(WT, Wtc, porfolios_strategies)\n"
   ]
  },
  {
   "cell_type": "code",
   "execution_count": null,
   "metadata": {},
   "outputs": [
    {
     "name": "stdout",
     "output_type": "stream",
     "text": [
      "i:  7\n",
      "[3 3 3 0 0 0 0]\n",
      "[2 2 2 2 0 0 0]\n",
      "[ 87.1  87.1  30.   45.7  98.3  99.9 100. ]\n",
      "[[0.19 0.19 0.17 0.08 0.06 0.03 0.  ]\n",
      " [0.58 0.23 0.09 0.   0.   0.   0.  ]\n",
      " [0.69 0.2  0.06 0.   0.   0.   0.  ]\n",
      " [0.82 0.14 0.03 0.14 0.14 0.14 0.14]]\n"
     ]
    }
   ],
   "source": [
    "from investment_planner import __calculateWtc, __get_porfolios_strategy_for_wealth_values, calculateTransitionPropabilitiesForGoals, get_goals_strategies\n",
    "\n",
    "%precision 3\n",
    "\n",
    "portfolios = np.array([[0.0526, 0.0374], [0.07059443, 0.103057  ], [0.0886, 0.1954]])\n",
    "WT = np.array([49,50,60,80,100,105,120])\n",
    "WT1 = np.array([90,95,100,103,105,110,130])\n",
    "VT1 = [0,0,0,100,100,100,100]\n",
    "goals = np.array([[0,0],[40,10],[49, 15],[60, 30]])\n",
    "#goals = np.array([[0,0]])\n",
    "infusion = 5\n",
    "\n",
    "Wt = WT\n",
    "\n",
    "goal_strategies, portfolio_strategies, values, probabilities = get_goals_strategies(goals, infusion, WT,WT1, VT1, portfolios)\n",
    "\n",
    "print(goal_strategies)\n",
    "print(portfolio_strategies)\n",
    "print(np.round(values,1))\n",
    "print(np.round(probabilities,2))\n",
    "\n"
   ]
  },
  {
   "cell_type": "code",
   "execution_count": null,
   "metadata": {},
   "outputs": [
    {
     "name": "stdout",
     "output_type": "stream",
     "text": [
      "[0. 0. 0. 0. 0. 0. 0.]\n",
      "[2 2 2 2 0 0 0]\n",
      "[ 16.5  17.3  26.3  45.7  98.3  99.9 100. ]\n",
      "[[[1.   0.   0.   0.   0.   0.   0.  ]\n",
      "  [1.   0.   0.   0.   0.   0.   0.  ]\n",
      "  [1.   0.   0.   0.   0.   0.   0.  ]\n",
      "  [0.77 0.22 0.01 0.   0.   0.   0.  ]\n",
      "  [0.   0.   0.02 0.1  0.24 0.63 0.  ]\n",
      "  [0.   0.   0.   0.02 0.07 0.89 0.02]\n",
      "  [0.   0.   0.   0.   0.   0.   1.  ]]\n",
      "\n",
      " [[0.91 0.08 0.01 0.   0.   0.   0.  ]\n",
      "  [0.9  0.09 0.01 0.   0.   0.   0.  ]\n",
      "  [0.77 0.18 0.03 0.01 0.01 0.   0.  ]\n",
      "  [0.28 0.25 0.18 0.13 0.1  0.05 0.  ]\n",
      "  [0.03 0.07 0.14 0.19 0.22 0.26 0.09]\n",
      "  [0.01 0.04 0.1  0.15 0.19 0.28 0.21]\n",
      "  [0.   0.   0.02 0.03 0.05 0.14 0.76]]\n",
      "\n",
      " [[0.47 0.24 0.12 0.08 0.06 0.03 0.  ]\n",
      "  [0.46 0.24 0.12 0.08 0.06 0.03 0.  ]\n",
      "  [0.35 0.24 0.15 0.11 0.09 0.05 0.01]\n",
      "  [0.19 0.19 0.17 0.16 0.15 0.12 0.04]\n",
      "  [0.09 0.12 0.15 0.16 0.17 0.18 0.14]\n",
      "  [0.08 0.11 0.14 0.16 0.17 0.18 0.17]\n",
      "  [0.04 0.07 0.1  0.13 0.15 0.19 0.32]]]\n"
     ]
    }
   ],
   "source": [
    "goals = np.array([[0,0]])\n",
    "\n",
    "goal_strategies, portfolio_strategies, values, probabilities = get_goals_strategies(goals, infusion, WT,WT1, VT1, portfolios)\n",
    "\n",
    "print(goal_strategies)\n",
    "print(portfolio_strategies)\n",
    "print(np.round(values,1))\n",
    "print(np.round(probabilities,2))  "
   ]
  },
  {
   "attachments": {},
   "cell_type": "markdown",
   "metadata": {},
   "source": [
    "```\n",
    "[[16.4 17.2 25.9 43.6 98.3 99.9]\n",
    " [10.2 10.2 11.4 19.8 35.9 40.5]\n",
    " [15.  15.  15.3 19.9 33.  37.3]\n",
    " [80.  80.  30.  31.4 39.8 43.3]]\n",
    "```"
   ]
  },
  {
   "cell_type": "code",
   "execution_count": null,
   "metadata": {},
   "outputs": [
    {
     "data": {
      "text/plain": [
       "0.153"
      ]
     },
     "execution_count": 1017,
     "metadata": {},
     "output_type": "execute_result"
    }
   ],
   "source": [
    "def __prob(W0, W1, mean, std, Infusion, Cost, h):\n",
    "    return norm.pdf((np.log(W1/(W0+Infusion+Cost))-(mean-0.5*std**2)*h)/(std*np.sqrt(h)))\n",
    "\n",
    "__prob(105,90,porfolios[2,0],porfolios[2,1],5,0,1)"
   ]
  },
  {
   "attachments": {},
   "cell_type": "markdown",
   "metadata": {},
   "source": [
    "```\n",
    "expected values array([24.794, 29.794, 29.794, 44.794, 95.456, 99.669])\n",
    "array([[14.794, 15.581, 24.116, 41.942, 95.456, 99.669],\n",
    "       [24.794, 24.794, 24.794, 24.794, 34.116, 34.116],\n",
    "       [14.794, 29.794, 29.794, 29.794, 30.581, 39.116],\n",
    "       [14.794, 15.581, 24.116, 44.794, 44.794, 44.794]])\n",
    "\n",
    "```"
   ]
  },
  {
   "cell_type": "code",
   "execution_count": null,
   "metadata": {},
   "outputs": [
    {
     "name": "stdout",
     "output_type": "stream",
     "text": [
      "[0. 0. 0. 0. 0. 0.]\n",
      "[0 0 0 0 0 0]\n",
      "(3, 6, 6)\n",
      "[[[0. 1. 0. 0. 0. 0.]\n",
      "  [0. 1. 0. 0. 0. 0.]\n",
      "  [0. 0. 0. 1. 0. 0.]\n",
      "  [0. 0. 0. 0. 1. 0.]\n",
      "  [0. 0. 0. 0. 0. 1.]\n",
      "  [0. 0. 0. 0. 0. 1.]]\n",
      "\n",
      " [[0. 0. 0. 0. 0. 0.]\n",
      "  [0. 0. 0. 0. 0. 0.]\n",
      "  [0. 0. 0. 1. 0. 0.]\n",
      "  [0. 0. 0. 0. 1. 0.]\n",
      "  [0. 0. 0. 0. 0. 1.]\n",
      "  [0. 0. 0. 0. 0. 1.]]\n",
      "\n",
      " [[0. 0. 0. 0. 0. 0.]\n",
      "  [0. 0. 0. 0. 0. 0.]\n",
      "  [0. 0. 0. 0. 0. 0.]\n",
      "  [0. 0. 0. 0. 0. 0.]\n",
      "  [0. 0. 0. 0. 0. 0.]\n",
      "  [0. 0. 0. 0. 0. 1.]]] 3\n",
      "[0. 0. 0. 0. 0. 0.]\n",
      "[0 0 0 0 0 0]\n",
      "(3, 6, 6)\n",
      "[[[0. 1. 0. 0. 0. 0.]\n",
      "  [0. 1. 0. 0. 0. 0.]\n",
      "  [0. 0. 1. 0. 0. 0.]\n",
      "  [0. 0. 0. 1. 0. 0.]\n",
      "  [0. 0. 0. 0. 0. 1.]\n",
      "  [0. 0. 0. 0. 0. 1.]]\n",
      "\n",
      " [[0. 0. 0. 0. 0. 0.]\n",
      "  [0. 0. 0. 0. 0. 0.]\n",
      "  [0. 0. 1. 0. 0. 0.]\n",
      "  [0. 0. 0. 1. 0. 0.]\n",
      "  [0. 0. 0. 0. 0. 1.]\n",
      "  [0. 0. 0. 0. 0. 1.]]\n",
      "\n",
      " [[0. 0. 0. 0. 0. 0.]\n",
      "  [0. 0. 0. 0. 0. 0.]\n",
      "  [0. 0. 0. 0. 0. 0.]\n",
      "  [0. 0. 0. 0. 0. 0.]\n",
      "  [0. 0. 0. 0. 0. 0.]\n",
      "  [0. 0. 0. 0. 0. 0.]]] 3\n"
     ]
    }
   ],
   "source": [
    "goals = np.array([[[0,0]],[[0,0]],[[120,100]]])\n",
    "portfolios = np.array([[0.0526, 0.0374], [0.07059443, 0.103057  ], [0.0886, 0.1954]])\n",
    "W0 = 100\n",
    "T = 3\n",
    "infusion = 5\n",
    "iMax = 6\n",
    "grid = [[49,50,60,80,100,105],\n",
    "        [54,55,65,85,105,110],\n",
    "        [59,60,70,75,110,115]]\n",
    "V = np.zeros((T+1,iMax))\n",
    "V[-1] = calculateValuesForLastPeriod(grid[-1],goals[-1])\n",
    "\n",
    "for t in range(T-1,0,-1):\n",
    "    goal_strategies, portfolio_strategies, values, probabilities = get_goals_strategies(goals[t], infusion, grid[t-1], grid[t], V[t+1], portfolios)\n",
    "    print(values) \n",
    "    print(portfolio_strategies)  \n",
    "    print(probabilities.shape)\n",
    "    print(np.round(probabilities),3)"
   ]
  },
  {
   "cell_type": "code",
   "execution_count": 24,
   "metadata": {},
   "outputs": [
    {
     "name": "stderr",
     "output_type": "stream",
     "text": [
      "C:\\Users\\matsz\\AppData\\Local\\Temp\\ipykernel_2760\\1824333711.py:6: VisibleDeprecationWarning: Creating an ndarray from ragged nested sequences (which is a list-or-tuple of lists-or-tuples-or ndarrays with different lengths or shapes) is deprecated. If you meant to do this, you must specify 'dtype=object' when creating the ndarray.\n",
      "  goals = np.array([empty_goal, empty_goal, empty_goal, empty_goal, empty_goal, np.array([[0,0],[60,200]]),empty_goal, empty_goal, empty_goal, empty_goal,np.array([[0,0],[120,1500]])])\n"
     ]
    },
    {
     "name": "stdout",
     "output_type": "stream",
     "text": [
      "(500,)\n",
      "(500,)\n",
      "(500,)\n",
      "i0:  500\n",
      "(500,)\n",
      "(500,)\n",
      "(500,)\n",
      "(500,)\n",
      "(500,)\n"
     ]
    }
   ],
   "source": [
    "from investment_planner import InvestmentPlanner \n",
    "\n",
    "investment_planner = InvestmentPlanner()\n",
    "\n",
    "empty_goal = np.array([[0,0]])\n",
    "goals = np.array([empty_goal, empty_goal, empty_goal, empty_goal, empty_goal, np.array([[0,0],[60,200]]),empty_goal, empty_goal, empty_goal, empty_goal,np.array([[0,0],[120,1500]])])\n",
    "\n",
    "portfolios = np.array([[0.0526, 0.0374], [0.07059443, 0.103057  ], [0.0886, 0.1954]])\n",
    "investment_planner.set_params(10, 100, 10, 1, goals, portfolios)\n",
    "\n",
    "glide_path = investment_planner.glide_paths\n",
    "wealth_grid = investment_planner.grid\n",
    "probabilitiesT = investment_planner.probabilitiesT\n",
    "goal_strategies = investment_planner._goal_strategies\n",
    "probabilities = investment_planner.propabilities\n",
    "\n",
    "#TODO do grid trzeba dodac goals cost max, ael trzeba sprawdzic"
   ]
  },
  {
   "cell_type": "code",
   "execution_count": null,
   "metadata": {},
   "outputs": [
    {
     "name": "stdout",
     "output_type": "stream",
     "text": [
      "0\n",
      "0\n",
      "0\n",
      "0\n",
      "220\n",
      "0\n",
      "0\n",
      "0\n",
      "0\n",
      "140\n"
     ]
    },
    {
     "name": "stderr",
     "output_type": "stream",
     "text": [
      "C:\\Users\\matsz\\AppData\\Local\\Temp\\ipykernel_28528\\1481866588.py:1: VisibleDeprecationWarning: Creating an ndarray from ragged nested sequences (which is a list-or-tuple of lists-or-tuples-or ndarrays with different lengths or shapes) is deprecated. If you meant to do this, you must specify 'dtype=object' when creating the ndarray.\n",
      "  arr = np.array([[[0,0]],[[0,0]],[[0,0]],[[0,0]],[[0,0]],np.array([[0,0],[120,1000], [220,1000]]),[[0,0]],[[0,0]],[[0,0]],[[0,0]],np.array([[0,0],[140,1500]])])\n"
     ]
    }
   ],
   "source": [
    "arr = np.array([[[0,0]],[[0,0]],[[0,0]],[[0,0]],[[0,0]],np.array([[0,0],[120,1000], [220,1000]]),[[0,0]],[[0,0]],[[0,0]],[[0,0]],np.array([[0,0],[140,1500]])])\n",
    "T = 10\n",
    "for t in range(1,T+1):\n",
    "    cmax = arr[t][:,0].max() if (len(arr[t]) >1) else 0\n",
    "    print(cmax)  \n",
    "\n"
   ]
  },
  {
   "cell_type": "code",
   "execution_count": null,
   "metadata": {},
   "outputs": [
    {
     "name": "stdout",
     "output_type": "stream",
     "text": [
      "[[[0.212 0.187 0.166 0.155 0.148 0.132]\n",
      "  [0.211 0.187 0.166 0.155 0.148 0.133]\n",
      "  [0.2   0.182 0.167 0.158 0.153 0.14 ]\n",
      "  [0.189 0.177 0.167 0.161 0.157 0.148]\n",
      "  [0.181 0.174 0.167 0.163 0.16  0.154]\n",
      "  [0.18  0.174 0.167 0.163 0.161 0.155]]\n",
      "\n",
      " [[0.234 0.195 0.164 0.149 0.139 0.118]\n",
      "  [0.23  0.194 0.165 0.15  0.141 0.121]\n",
      "  [0.209 0.186 0.166 0.156 0.149 0.134]\n",
      "  [0.193 0.179 0.167 0.16  0.156 0.145]\n",
      "  [0.184 0.176 0.167 0.162 0.159 0.152]\n",
      "  [0.183 0.175 0.167 0.163 0.16  0.153]]\n",
      "\n",
      " [[0.    0.    0.    0.    0.    0.   ]\n",
      "  [0.    0.    0.    0.    0.    0.   ]\n",
      "  [0.234 0.195 0.164 0.149 0.139 0.118]\n",
      "  [0.2   0.182 0.167 0.158 0.153 0.14 ]\n",
      "  [0.189 0.177 0.167 0.161 0.157 0.148]\n",
      "  [0.186 0.177 0.167 0.162 0.158 0.15 ]]]\n"
     ]
    },
    {
     "data": {
      "text/plain": [
       "array([[1.17265765, 1.08174504, 1.0004663 , 0.95577458, 0.92752447,\n",
       "        0.86183196],\n",
       "       [1.23281172, 1.10540205, 0.99677676, 0.9391091 , 0.90339422,\n",
       "        0.82250615],\n",
       "       [0.80898429, 0.73189712, 0.66534571, 0.6296638 , 0.60743232,\n",
       "        0.55667676]])"
      ]
     },
     "execution_count": 448,
     "metadata": {},
     "output_type": "execute_result"
    }
   ],
   "source": [
    "def calculateTransitionPropabilitiesForGoals(Wt, Wt1, infusion, h, goal_costs, portfolioMeasures):\n",
    "    i0 = len(Wt)\n",
    "    i1 = len(Wt1)    \n",
    "    k = len(goal_costs)\n",
    "    cf = goal_costs - infusion\n",
    "    mean = portfolioMeasures[0]\n",
    "    std = portfolioMeasures[1]\n",
    "    b = ((mean-0.5*std**2)*h)/(std*np.sqrt(h))\n",
    "    result = np.zeros((k*i0,i1))\n",
    "    \n",
    "    Wtc = np.tile(Wt,(k,1)) - cf.reshape((k,1))\n",
    "    Wtc = Wtc.reshape((k*i0,1))\n",
    "    Wt1k = np.tile(Wt1, (k*i0,1))\n",
    "    \n",
    "    np.divide(Wt1k, Wtc, out=result, where=Wtc>0)\n",
    "    np.log(result,out=result, where=result>0)\n",
    "    result = np.where(result > 0, result+ b, 0)\n",
    "    result = np.where(result > 0, norm.pdf(result), 0)\n",
    "\n",
    "    result = np.divide(result,np.expand_dims(result.sum(1), axis=1),where=result>0)\n",
    "    result = result.reshape(k,i0,i1)\n",
    "\n",
    "    return result\n",
    "   \n",
    "\n",
    "portfolios = np.array([[0.0526, 0.0374], [0.07059443, 0.103057  ], [0.0886, 0.1954]])\n",
    "WT = np.array([49,50,60,80,100,105])\n",
    "#WT = np.array([100])\n",
    "WT1 = [90,95,100,103,105,110]\n",
    "\n",
    "goals = np.array([[40,10],[49, 15],[60, 30]])\n",
    "#goals = np.array([[49, 15],[60, 30]])\n",
    "#goals = np.array([[60,0]])\n",
    "infusion = 5\n",
    "h = 1\n",
    "\n",
    "probabilities = calculateTransitionPropabilitiesForGoals(WT, WT1, infusion, h, goals[:,0], [0.1,0.2])\n",
    "\n",
    "print(np.round(probabilities,3))\n",
    "probabilities.sum(1)\n",
    "\n"
   ]
  },
  {
   "attachments": {},
   "cell_type": "markdown",
   "metadata": {},
   "source": [
    "```\n",
    "[[0.    0.    0.    0.    0.    0.   ]\n",
    " [0.001 0.001 0.001 0.001 0.    0.   ]\n",
    " [0.016 0.014 0.012 0.012 0.011 0.01 ]\n",
    " [0.091 0.083 0.076 0.072 0.069 0.064]\n",
    " [0.177 0.165 0.154 0.148 0.144 0.134]\n",
    " [0.197 0.184 0.173 0.166 0.162 0.152]\n",
    " [0.    0.    0.    0.    0.    0.   ]\n",
    " [0.    0.    0.    0.    0.    0.   ]\n",
    " [0.    0.    0.    0.    0.    0.   ]\n",
    " [0.046 0.041 0.037 0.034 0.033 0.03 ]\n",
    " [0.131 0.121 0.111 0.106 0.103 0.095]\n",
    " [0.152 0.141 0.131 0.125 0.122 0.113]]\n",
    " ```"
   ]
  },
  {
   "cell_type": "code",
   "execution_count": null,
   "metadata": {},
   "outputs": [
    {
     "data": {
      "text/plain": [
       "array([[0.19052224],\n",
       "       [0.17794971],\n",
       "       [0.16731141],\n",
       "       [0.16054159],\n",
       "       [0.15667311],\n",
       "       [0.14700193]])"
      ]
     },
     "execution_count": 435,
     "metadata": {},
     "output_type": "execute_result"
    }
   ],
   "source": [
    "arr =  np.array([0.197, 0.184, 0.173, 0.166, 0.162, 0.152])\n",
    "res = arr/ arr.sum()\n",
    "np.expand_dims(res, axis=1)\n"
   ]
  },
  {
   "cell_type": "code",
   "execution_count": null,
   "metadata": {},
   "outputs": [
    {
     "data": {
      "text/plain": [
       "array([0.00044017, 0.00036002, 0.00029672, 0.00026511, 0.00024626,\n",
       "       0.00020571])"
      ]
     },
     "execution_count": 407,
     "metadata": {},
     "output_type": "execute_result"
    }
   ],
   "source": [
    "log = [1.38778666, 1.44185389, 1.49314718, 1.52270598, 1.54193734, 1.58845736]\n",
    "log2 =  [3.69037176, 3.74443898, 3.79573227, 3.82529108, 3.84452244, 3.89104245]\n",
    "norm.pdf(log2)"
   ]
  },
  {
   "attachments": {},
   "cell_type": "markdown",
   "metadata": {},
   "source": [
    "1: 48.057\n",
    "2. 64.226\n",
    "m. 56.305"
   ]
  },
  {
   "cell_type": "code",
   "execution_count": null,
   "metadata": {},
   "outputs": [
    {
     "data": {
      "text/plain": [
       "0.146"
      ]
     },
     "execution_count": 725,
     "metadata": {},
     "output_type": "execute_result"
    }
   ],
   "source": [
    "stocks = norm.rvs(loc=0.09,scale=0.19,size=30, random_state=13)\n",
    "bonds = norm.rvs(loc=0.04,scale=0.03, size=30, random_state=13)\n",
    "returns = np.array([stocks,bonds]).T\n",
    "weights = np.array([0.5,0.5])\n",
    "porfolio_returns = returns @ weights\n",
    "var = weights.T @ np.cov(returns.T) @ weights\n",
    "cov = np.cov(stocks, porfolio_returns)[0,1]\n",
    "beta = cov/var\n",
    "porfolio_returns.mean()*beta\n",
    "\n",
    "\n",
    "\n"
   ]
  }
 ],
 "metadata": {
  "kernelspec": {
   "display_name": "portfolio-optimisation",
   "language": "python",
   "name": "python3"
  },
  "language_info": {
   "codemirror_mode": {
    "name": "ipython",
    "version": 3
   },
   "file_extension": ".py",
   "mimetype": "text/x-python",
   "name": "python",
   "nbconvert_exporter": "python",
   "pygments_lexer": "ipython3",
   "version": "3.9.12"
  },
  "orig_nbformat": 4,
  "vscode": {
   "interpreter": {
    "hash": "4bef00bc7c9a78db1045a379974b3641e8d6d719796f9d93b631987f459ca5f0"
   }
  }
 },
 "nbformat": 4,
 "nbformat_minor": 2
}
