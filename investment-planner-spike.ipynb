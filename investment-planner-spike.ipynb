{
 "cells": [
  {
   "cell_type": "code",
   "execution_count": 180,
   "metadata": {},
   "outputs": [
    {
     "name": "stdout",
     "output_type": "stream",
     "text": [
      "The autoreload extension is already loaded. To reload it, use:\n",
      "  %reload_ext autoreload\n"
     ]
    }
   ],
   "source": [
    "%load_ext autoreload\n",
    "%autoreload 2\n",
    "\n",
    "import numpy as np\n",
    "from investment_planner import calculateTransitionPropabilitiesForAllPorfolios, generateGrid, calculateTransitionPropabilities, get_portfolios_strategies\n",
    "from scipy.stats import norm"
   ]
  },
  {
   "cell_type": "code",
   "execution_count": 133,
   "metadata": {},
   "outputs": [
    {
     "name": "stdout",
     "output_type": "stream",
     "text": [
      "[[[0.451 0.334 0.197 0.018]\n",
      "  [0.271 0.27  0.258 0.2  ]\n",
      "  [0.255 0.256 0.253 0.237]]\n",
      "\n",
      " [[0.14  0.307 0.366 0.187]\n",
      "  [0.221 0.254 0.266 0.259]\n",
      "  [0.24  0.251 0.255 0.254]]\n",
      "\n",
      " [[0.017 0.105 0.244 0.634]\n",
      "  [0.177 0.234 0.268 0.322]\n",
      "  [0.227 0.246 0.256 0.271]]\n",
      "\n",
      " [[0.001 0.017 0.075 0.908]\n",
      "  [0.14  0.211 0.262 0.387]\n",
      "  [0.215 0.241 0.257 0.288]]]\n"
     ]
    },
    {
     "data": {
      "text/plain": [
       "array([49. , 55.3, 87.8, 98.3])"
      ]
     },
     "execution_count": 133,
     "metadata": {},
     "output_type": "execute_result"
    }
   ],
   "source": [
    "\n",
    "portfolios = np.array([[0.0526, 0.0374], [0.07059443, 0.103057  ], [0.0886, 0.1954]])\n",
    "W0 = np.array([90,95,100,105])\n",
    "W1 = np.array([100,103,105,110])\n",
    "infusions = 2\n",
    "cost = 3\n",
    "h = 1\n",
    "\n",
    "values = [0,0,100,100]\n",
    "\n",
    "#propabilities = calculateTransitionPropabilitiesForAllPorfolios(portfolios, W0, W1, infusions, cost, h)\n",
    "propabilities = np.array([[[0.451, 0.334, 0.197, 0.018],\n",
    "                                    [0.271, 0.27,  0.258, 0.2  ],\n",
    "                                    [0.255, 0.256, 0.253, 0.237]],\n",
    "\n",
    "                                    [[0.14,  0.307, 0.366, 0.187],\n",
    "                                    [0.221, 0.254, 0.266, 0.259],\n",
    "                                    [0.24,  0.251, 0.255, 0.254]],\n",
    "\n",
    "                                    [[0.017, 0.105, 0.244, 0.634],\n",
    "                                    [0.177, 0.234, 0.268, 0.322],\n",
    "                                    [0.227, 0.246, 0.256, 0.271]],\n",
    "\n",
    "                                    [[0.001, 0.017, 0.075, 0.908],\n",
    "                                    [0.14,  0.211, 0.262, 0.387],\n",
    "                                    [0.215, 0.241, 0.257, 0.288]]])\n",
    "print(np.round(propabilities, 3))\n",
    "values = propabilities*values\n",
    "np.round(np.amax(values.sum(2),1),3)\n",
    "#values.sum(2)\n"
   ]
  },
  {
   "cell_type": "code",
   "execution_count": 127,
   "metadata": {},
   "outputs": [],
   "source": [
    "portfolios = np.array([[0.0526, 0.0374], [0.07059443, 0.103057], [0.0886, 0.1954]])\n",
    "W0 = 100\n",
    "T = 12\n",
    "#infusions = [0,25000,25000,25000,25000,25000,25000,25000,25000,25000,25000]\n",
    "infusions = np.zeros(13)\n",
    "goals = [0,0,0,0,0,0,0,100,0,0,0,0,150]\n",
    "iMax = 281\n",
    "\n",
    "grid = generateGrid(W0,T,iMax, infusions, goals, portfolios[0,0], portfolios[0,1], portfolios[2,0], portfolios[2,1])\n",
    "grid = grid.T"
   ]
  },
  {
   "cell_type": "code",
   "execution_count": 114,
   "metadata": {},
   "outputs": [
    {
     "data": {
      "text/plain": [
       "1837.722768128645"
      ]
     },
     "execution_count": 114,
     "metadata": {},
     "output_type": "execute_result"
    }
   ],
   "source": [
    "W0 = 100\n",
    "meanMax = 0.0886\n",
    "stdMin = 0.0374\n",
    "stdMax = 0.1954\n",
    "t =11\n",
    "\n",
    "W0*np.exp((meanMax-(stdMin**2/2))*t + 3*stdMax*np.sqrt(t))"
   ]
  },
  {
   "cell_type": "code",
   "execution_count": null,
   "metadata": {},
   "outputs": [
    {
     "data": {
      "text/plain": [
       "array([[[105, 100],\n",
       "        [110, 200],\n",
       "        [105, 100],\n",
       "        [110, 200],\n",
       "        [105, 100],\n",
       "        [110, 200],\n",
       "        [105, 100],\n",
       "        [110, 200],\n",
       "        [105, 100],\n",
       "        [110, 200]],\n",
       "\n",
       "       [[105, 100],\n",
       "        [110, 200],\n",
       "        [105, 100],\n",
       "        [110, 200],\n",
       "        [105, 100],\n",
       "        [110, 200],\n",
       "        [105, 100],\n",
       "        [110, 200],\n",
       "        [105, 100],\n",
       "        [110, 200]]])"
      ]
     },
     "execution_count": 23,
     "metadata": {},
     "output_type": "execute_result"
    }
   ],
   "source": [
    "k = np.array([[105,100],[110,200]])\n",
    "wealthInT = np.array([90,95,100,105,110])\n",
    "Wk = np.tile(wealthInT, (2,1))\n",
    "ki = np.tile(k, (2, 5,1))\n",
    "#np.where(Wk >= k[:,0], k[:,1], 0)\n",
    "ki"
   ]
  },
  {
   "cell_type": "code",
   "execution_count": null,
   "metadata": {},
   "outputs": [
    {
     "data": {
      "text/plain": [
       "array([[18.  ],\n",
       "       [33.25],\n",
       "       [20.  ],\n",
       "       [15.75],\n",
       "       [11.  ]])"
      ]
     },
     "execution_count": 25,
     "metadata": {},
     "output_type": "execute_result"
    }
   ],
   "source": [
    "WT1 = np.array([90,95,100,105,110])\n",
    "WT1P = WT1 * [0.2,0.35, 0.2 ,0.15,0.1]\n",
    "WT1P.reshape((5,1))"
   ]
  },
  {
   "cell_type": "code",
   "execution_count": null,
   "metadata": {},
   "outputs": [
    {
     "name": "stderr",
     "output_type": "stream",
     "text": [
      "C:\\Users\\matsz\\AppData\\Local\\Temp\\ipykernel_26768\\4293703242.py:1: VisibleDeprecationWarning: Creating an ndarray from ragged nested sequences (which is a list-or-tuple of lists-or-tuples-or ndarrays with different lengths or shapes) is deprecated. If you meant to do this, you must specify 'dtype=object' when creating the ndarray.\n",
      "  arr = np.array([[1,2,3,4],[1,2,3]])\n"
     ]
    },
    {
     "data": {
      "text/plain": [
       "array([list([1, 2, 3, 4]), list([1, 2, 3, 1, 2, 3])], dtype=object)"
      ]
     },
     "execution_count": 28,
     "metadata": {},
     "output_type": "execute_result"
    }
   ],
   "source": [
    "arr = np.array([[1,2,3,4],[1,2,3]])\n",
    "arr2 = np.array([1,2])\n",
    "result = arr*arr2\n",
    "result"
   ]
  },
  {
   "cell_type": "code",
   "execution_count": null,
   "metadata": {},
   "outputs": [],
   "source": [
    "def get_ef_port_analytically(rets, covm, targ):\n",
    "    \"\"\"Solve for the efficient frontier weights for a given expected return\n",
    "    vector `rets`, covariance matrix `covm`, and expected portfolio return\n",
    "    `targ`.\n",
    "    \"\"\"\n",
    "    N = rets.shape[0]\n",
    "    u = np.array([targ, 1])[:, None]\n",
    "    U = np.vstack([rets, np.ones_like(rets)]).T\n",
    "\n",
    "    covm_inv = np.linalg.solve(covm, np.eye(N))\n",
    "    M        = U.T @ covm_inv @ U\n",
    "    M_inv    = np.linalg.solve(M, np.eye(2))\n",
    "    weights  = covm_inv @ U @ M_inv @ u\n",
    "\n",
    "    return weights\n"
   ]
  },
  {
   "cell_type": "code",
   "execution_count": null,
   "metadata": {},
   "outputs": [
    {
     "data": {
      "text/plain": [
       "array([[0.44472681],\n",
       "       [0.55527319]])"
      ]
     },
     "execution_count": 39,
     "metadata": {},
     "output_type": "execute_result"
    }
   ],
   "source": [
    "cov_tab = np.array([[0.0002, -0.00],\n",
    "                    [-0.00, 0.0013]])\n",
    "means = np.array([0.0307, 0.1094])\n",
    "\n",
    "mu = 0.0744\n",
    "std = 0.0712\n",
    "\n",
    "w = get_ef_port_analytically(means,cov_tab,mu)\n",
    "\n",
    "w"
   ]
  },
  {
   "cell_type": "code",
   "execution_count": 79,
   "metadata": {},
   "outputs": [
    {
     "data": {
      "text/plain": [
       "array([[nan, nan, nan],\n",
       "       [nan, nan, nan],\n",
       "       [nan, nan, nan]])"
      ]
     },
     "execution_count": 79,
     "metadata": {},
     "output_type": "execute_result"
    }
   ],
   "source": [
    "arr = np.empty((3,3))\n",
    "\n",
    "arr[:] = np.nan\n",
    "arr\n",
    "\n",
    "\n"
   ]
  },
  {
   "cell_type": "code",
   "execution_count": 125,
   "metadata": {},
   "outputs": [
    {
     "data": {
      "text/plain": [
       "array([0.374, 0.396, 0.397])"
      ]
     },
     "execution_count": 125,
     "metadata": {},
     "output_type": "execute_result"
    }
   ],
   "source": [
    "mean = 0.0886\n",
    "std = 0.1954\n",
    "W0 = 105\n",
    "W1 = np.array([105,110,115])\n",
    "h= 1\n",
    "np.round(norm.pdf((np.log(W1/(W0))-(mean-0.5*std**2)*h)/(std*np.sqrt(h))),3)\n",
    "\n",
    "#100 [0.39670583, 0.39547966, 0.37397359]\n",
    "#105 [0.37448256, 0.39619069, 0.39654302]\n"
   ]
  },
  {
   "cell_type": "code",
   "execution_count": 136,
   "metadata": {},
   "outputs": [
    {
     "name": "stdout",
     "output_type": "stream",
     "text": [
      "[[[0.    0.    0.    1.   ]\n",
      "  [0.027 0.082 0.162 0.73 ]\n",
      "  [0.152 0.209 0.253 0.386]]\n",
      "\n",
      " [[0.    0.    0.    1.   ]\n",
      "  [0.021 0.069 0.146 0.765]\n",
      "  [0.145 0.204 0.251 0.4  ]]\n",
      "\n",
      " [[0.    0.    0.    1.   ]\n",
      "  [0.016 0.058 0.131 0.795]\n",
      "  [0.138 0.199 0.249 0.414]]\n",
      "\n",
      " [[0.    0.    0.    1.   ]\n",
      "  [0.012 0.049 0.117 0.821]\n",
      "  [0.131 0.194 0.247 0.427]]]\n"
     ]
    },
    {
     "data": {
      "text/plain": [
       "array([100., 100., 100., 100.])"
      ]
     },
     "execution_count": 136,
     "metadata": {},
     "output_type": "execute_result"
    }
   ],
   "source": [
    "portfolios = np.array([[0.0526, 0.0374], [0.07059443, 0.103057  ], [0.0886, 0.1954]])\n",
    "W0 = np.array([90,95,100,105])\n",
    "W1 = np.array([100,103,105,110])\n",
    "infusions = 2\n",
    "cost = 50\n",
    "h = 1\n",
    "\n",
    "values = [0,0,100,100]\n",
    "\n",
    "propabilities = calculateTransitionPropabilitiesForAllPorfolios(portfolios, W0, W1, infusions, cost, h)\n",
    "''' propabilities = np.array([[[0.451, 0.334, 0.197, 0.018],\n",
    "                                    [0.271, 0.27,  0.258, 0.2  ],\n",
    "                                    [0.255, 0.256, 0.253, 0.237]],\n",
    "\n",
    "                                    [[0.14,  0.307, 0.366, 0.187],\n",
    "                                    [0.221, 0.254, 0.266, 0.259],\n",
    "                                    [0.24,  0.251, 0.255, 0.254]],\n",
    "\n",
    "                                    [[0.017, 0.105, 0.244, 0.634],\n",
    "                                    [0.177, 0.234, 0.268, 0.322],\n",
    "                                    [0.227, 0.246, 0.256, 0.271]],\n",
    "\n",
    "                                    [[0.001, 0.017, 0.075, 0.908],\n",
    "                                    [0.14,  0.211, 0.262, 0.387],\n",
    "                                    [0.215, 0.241, 0.257, 0.288]]]) '''\n",
    "print(np.round(propabilities, 3))\n",
    "values = propabilities*values\n",
    "np.round(np.amax(values.sum(2),1),3)"
   ]
  },
  {
   "cell_type": "code",
   "execution_count": 231,
   "metadata": {},
   "outputs": [
    {
     "name": "stdout",
     "output_type": "stream",
     "text": [
      "[2 2 0 0]\n",
      "[29.014 29.55  77.286 95.997]\n"
     ]
    },
    {
     "data": {
      "text/plain": [
       "array([[0., 1., 1., 1.],\n",
       "       [0., 0., 2., 2.],\n",
       "       [0., 0., 3., 3.]])"
      ]
     },
     "execution_count": 231,
     "metadata": {},
     "output_type": "execute_result"
    }
   ],
   "source": [
    "%precision 3\n",
    "\n",
    "def get_goals_strategies(goals, Wt, VTk0):\n",
    "    strategies = np.zeros((len(goals), len(Wt)))\n",
    "    for k in range(len(goals)):\n",
    "        for i in range(len(Wt)):\n",
    "            strategies[k,i] = k+1 if Wt[i] > goals[k][0] else 0\n",
    "    return strategies\n",
    "\n",
    "portfolios = np.array([[0.0526, 0.0374], [0.07059443, 0.103057  ], [0.0886, 0.1954]])\n",
    "WT = np.array([49,50,100,105])\n",
    "WT1 = [100,103,105,110]\n",
    "VT1 = [0,0,100,100]\n",
    "c = 50\n",
    "#goals = [[50, 80], [30, 50],]\n",
    "goals = goals = [[49,40],[50, 80],[60, 50]]\n",
    "VTc0 = np.array([29.014, 29.55, 77.286, 95.997])\n",
    "\n",
    "prob = calculateTransitionPropabilitiesForAllPorfolios(portfolios,WT,WT1,3,0)\n",
    "\n",
    "strategies, VT = get_portfolios_strategies(VT1,prob)\n",
    "\n",
    "#print(prob*VT1)\n",
    "print(strategies)\n",
    "print(VT) \n",
    "\n",
    "# VT while cost 0 [29.014 29.55  77.286 95.997]\n",
    "\n",
    "goal_strategies = get_goals_strategies(goals,WT,VTc0)\n",
    "\n",
    "goal_strategies\n"
   ]
  },
  {
   "attachments": {},
   "cell_type": "markdown",
   "metadata": {},
   "source": [
    "## TODO\n",
    "- sprawdzić wrażliwość na rożne inputy\n",
    "- W0 jest większe niż cele"
   ]
  },
  {
   "cell_type": "code",
   "execution_count": null,
   "metadata": {},
   "outputs": [],
   "source": []
  }
 ],
 "metadata": {
  "kernelspec": {
   "display_name": "portfolio-optimisation",
   "language": "python",
   "name": "python3"
  },
  "language_info": {
   "codemirror_mode": {
    "name": "ipython",
    "version": 3
   },
   "file_extension": ".py",
   "mimetype": "text/x-python",
   "name": "python",
   "nbconvert_exporter": "python",
   "pygments_lexer": "ipython3",
   "version": "3.9.12"
  },
  "orig_nbformat": 4,
  "vscode": {
   "interpreter": {
    "hash": "4bef00bc7c9a78db1045a379974b3641e8d6d719796f9d93b631987f459ca5f0"
   }
  }
 },
 "nbformat": 4,
 "nbformat_minor": 2
}
