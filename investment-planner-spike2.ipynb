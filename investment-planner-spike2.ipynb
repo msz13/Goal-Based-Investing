{
 "cells": [
  {
   "cell_type": "code",
   "execution_count": 90,
   "metadata": {},
   "outputs": [
    {
     "name": "stdout",
     "output_type": "stream",
     "text": [
      "The autoreload extension is already loaded. To reload it, use:\n",
      "  %reload_ext autoreload\n"
     ]
    }
   ],
   "source": [
    "%load_ext autoreload\n",
    "%autoreload 2\n",
    "\n",
    "from model.grid import generateGrid\n",
    "from model._utilities import Goals\n",
    "from model.investment_planner import InvestmentPlanner, calculateBelman\n",
    "from model.propabilities import calculateTransitionPropabilitiesForAllPorfolios, calculateTransitionPropabilitiesForGoals\n",
    "import numpy as np"
   ]
  },
  {
   "cell_type": "code",
   "execution_count": 70,
   "metadata": {},
   "outputs": [],
   "source": [
    "portfolios = np.array([[0.05258386, 0.03704926],\n",
    "       [0.05515672, 0.03960988],\n",
    "       [0.05772681, 0.04625568],\n",
    "       [0.06029967, 0.05555016],\n",
    "       [0.06286483, 0.06637403],\n",
    "       [0.06545148, 0.07813246],\n",
    "       [0.06801664, 0.09041086],\n",
    "       [0.07059443, 0.103057  ],\n",
    "       [0.07315959, 0.11592848],\n",
    "       [0.07573245, 0.12898073],\n",
    "       [0.07830254, 0.14213997],\n",
    "       [0.0808754 , 0.15540374],\n",
    "       [0.08344549, 0.16872224],\n",
    "       [0.08601835, 0.18210899],\n",
    "       [0.08858351, 0.19552512]])"
   ]
  },
  {
   "cell_type": "code",
   "execution_count": 77,
   "metadata": {},
   "outputs": [
    {
     "data": {
      "text/plain": [
       "array([[100.  , 100.  , 100.  , 100.  , 100.  , 100.  , 100.  , 100.  ,\n",
       "        100.  , 100.  ],\n",
       "       [ 50.56,  57.95,  66.42,  76.12,  87.25, 100.  , 114.61, 131.36,\n",
       "        150.56, 172.56],\n",
       "       [  0.68,   1.27,   2.37,   4.43,   8.26,  15.41,  28.74,  53.61,\n",
       "        100.  , 186.52],\n",
       "       [ 37.69,  48.11,  61.4 ,  78.36, 100.  , 127.62, 162.88, 207.87,\n",
       "        265.29, 338.58]])"
      ]
     },
     "execution_count": 77,
     "metadata": {},
     "output_type": "execute_result"
    }
   ],
   "source": [
    "W0 = 100\n",
    "imax = 10  \n",
    "\n",
    "#infusions = np.zeros(T)\n",
    "\n",
    "goals = Goals([{\n",
    "        \"time\": 2,\n",
    "        \"cost\": 107,\n",
    "        \"utility\": 100                \n",
    "    }])\n",
    "\n",
    "infusions = np.full(goals.get_investment_period(),0)\n",
    "\n",
    "grid = generateGrid(W0, imax, infusions, goals, portfolios[0,0], portfolios[0,1], portfolios[-1,0], portfolios[-1,1])\n",
    "np.round(grid,2)\n",
    "#np.savetxt('grid.txt', grid, delimiter=', ', fmt='%10.2f')"
   ]
  },
  {
   "cell_type": "code",
   "execution_count": 105,
   "metadata": {},
   "outputs": [
    {
     "data": {
      "text/plain": [
       "array([[[0.   , 0.   , 0.   , 0.   , 0.   , 0.   , 0.   , 0.   , 0.   ,\n",
       "         0.   , 0.   ],\n",
       "        [0.   , 0.   , 0.   , 0.   , 0.   , 0.   , 0.   , 0.   , 0.   ,\n",
       "         0.   , 0.   ],\n",
       "        [0.   , 0.   , 0.   , 0.   , 0.   , 0.   , 0.   , 0.   , 0.   ,\n",
       "         0.   , 0.   ],\n",
       "        [0.   , 0.   , 0.   , 0.   , 0.   , 0.   , 0.   , 0.   , 0.   ,\n",
       "         0.   , 0.   ],\n",
       "        [0.   , 0.   , 0.   , 0.   , 0.   , 0.   , 0.   , 0.   , 0.   ,\n",
       "         0.   , 0.   ],\n",
       "        [1.   , 0.   , 0.   , 0.   , 0.   , 0.   , 0.   , 0.   , 0.   ,\n",
       "         0.   , 0.   ],\n",
       "        [1.   , 0.   , 0.   , 0.   , 0.   , 0.   , 0.   , 0.   , 0.   ,\n",
       "         0.   , 0.   ],\n",
       "        [0.   , 0.001, 0.999, 0.   , 0.   , 0.   , 0.   , 0.   , 0.   ,\n",
       "         0.   , 0.   ],\n",
       "        [0.   , 0.   , 0.   , 0.   , 1.   , 0.   , 0.   , 0.   , 0.   ,\n",
       "         0.   , 0.   ],\n",
       "        [0.   , 0.   , 0.   , 0.   , 0.   , 0.006, 0.994, 0.   , 0.   ,\n",
       "         0.   , 0.   ],\n",
       "        [0.   , 0.   , 0.   , 0.   , 0.   , 0.   , 0.   , 0.831, 0.   ,\n",
       "         0.169, 0.   ]],\n",
       "\n",
       "       [[1.   , 0.   , 0.   , 0.   , 0.   , 0.   , 0.   , 0.   , 0.   ,\n",
       "         0.   , 0.   ],\n",
       "        [1.   , 0.   , 0.   , 0.   , 0.   , 0.   , 0.   , 0.   , 0.   ,\n",
       "         0.   , 0.   ],\n",
       "        [1.   , 0.   , 0.   , 0.   , 0.   , 0.   , 0.   , 0.   , 0.   ,\n",
       "         0.   , 0.   ],\n",
       "        [1.   , 0.   , 0.   , 0.   , 0.   , 0.   , 0.   , 0.   , 0.   ,\n",
       "         0.   , 0.   ],\n",
       "        [1.   , 0.   , 0.   , 0.   , 0.   , 0.   , 0.   , 0.   , 0.   ,\n",
       "         0.   , 0.   ],\n",
       "        [1.   , 0.   , 0.   , 0.   , 0.   , 0.   , 0.   , 0.   , 0.   ,\n",
       "         0.   , 0.   ],\n",
       "        [0.999, 0.001, 0.   , 0.   , 0.   , 0.   , 0.   , 0.   , 0.   ,\n",
       "         0.   , 0.   ],\n",
       "        [0.   , 0.232, 0.759, 0.009, 0.   , 0.   , 0.   , 0.   , 0.   ,\n",
       "         0.   , 0.   ],\n",
       "        [0.   , 0.   , 0.   , 0.011, 0.778, 0.212, 0.   , 0.   , 0.   ,\n",
       "         0.   , 0.   ],\n",
       "        [0.   , 0.   , 0.   , 0.   , 0.   , 0.222, 0.595, 0.006, 0.   ,\n",
       "         0.177, 0.   ],\n",
       "        [0.   , 0.   , 0.   , 0.   , 0.   , 0.   , 0.088, 0.537, 0.012,\n",
       "         0.363, 0.   ]],\n",
       "\n",
       "       [[1.   , 0.   , 0.   , 0.   , 0.   , 0.   , 0.   , 0.   , 0.   ,\n",
       "         0.   , 0.   ],\n",
       "        [1.   , 0.   , 0.   , 0.   , 0.   , 0.   , 0.   , 0.   , 0.   ,\n",
       "         0.   , 0.   ],\n",
       "        [1.   , 0.   , 0.   , 0.   , 0.   , 0.   , 0.   , 0.   , 0.   ,\n",
       "         0.   , 0.   ],\n",
       "        [1.   , 0.   , 0.   , 0.   , 0.   , 0.   , 0.   , 0.   , 0.   ,\n",
       "         0.   , 0.   ],\n",
       "        [1.   , 0.   , 0.   , 0.   , 0.   , 0.   , 0.   , 0.   , 0.   ,\n",
       "         0.   , 0.   ],\n",
       "        [0.998, 0.002, 0.   , 0.   , 0.   , 0.   , 0.   , 0.   , 0.   ,\n",
       "         0.   , 0.   ],\n",
       "        [0.885, 0.112, 0.003, 0.   , 0.   , 0.   , 0.   , 0.   , 0.   ,\n",
       "         0.   , 0.   ],\n",
       "        [0.049, 0.33 , 0.471, 0.142, 0.009, 0.   , 0.   , 0.   , 0.   ,\n",
       "         0.   , 0.   ],\n",
       "        [0.   , 0.   , 0.008, 0.136, 0.461, 0.33 , 0.05 , 0.002, 0.   ,\n",
       "         0.015, 0.   ],\n",
       "        [0.   , 0.   , 0.   , 0.001, 0.04 , 0.257, 0.347, 0.099, 0.006,\n",
       "         0.25 , 0.   ],\n",
       "        [0.   , 0.   , 0.   , 0.   , 0.001, 0.025, 0.201, 0.341, 0.122,\n",
       "         0.301, 0.009]]])"
      ]
     },
     "execution_count": 105,
     "metadata": {},
     "output_type": "execute_result"
    }
   ],
   "source": [
    "portfolios = np.array([[0.0526, 0.0374], [0.07059443, 0.103057  ], [0.0886, 0.1954]])\n",
    "WT = np.array([0.68, 1.27, 2.37, 4.43, 8.26, 15.41, 28.74, 53.61, 100., 141, 186.52])\n",
    "WT1= np.array([37.69, 48.11, 61.4 , 78.36, 100., 127.62, 162.88, 207.87, 265.29, 180, 338.58])\n",
    "\n",
    "np.round(calculateTransitionPropabilitiesForAllPorfolios(portfolios,WT,WT1, 0), 3)\n",
    "\n",
    "#TODO zrobić kolejne kroki belmann equtation\n",
    "\n"
   ]
  },
  {
   "cell_type": "code",
   "execution_count": 107,
   "metadata": {},
   "outputs": [
    {
     "data": {
      "text/plain": [
       "array([[  0],\n",
       "       [150]])"
      ]
     },
     "execution_count": 107,
     "metadata": {},
     "output_type": "execute_result"
    }
   ],
   "source": [
    "goals = np.array([[120,150]])\n",
    "goal_utilities = goals[:,1]\n",
    "np.vstack(([0],np.expand_dims(goal_utilities,1)))"
   ]
  },
  {
   "cell_type": "code",
   "execution_count": null,
   "metadata": {},
   "outputs": [],
   "source": []
  },
  {
   "cell_type": "code",
   "execution_count": 106,
   "metadata": {},
   "outputs": [
    {
     "ename": "ValueError",
     "evalue": "could not broadcast input array from shape (9,) into shape (10,)",
     "output_type": "error",
     "traceback": [
      "\u001b[1;31m---------------------------------------------------------------------------\u001b[0m",
      "\u001b[1;31mValueError\u001b[0m                                Traceback (most recent call last)",
      "\u001b[1;32mc:\\Users\\matsz\\programowanie\\Optymalizacja portfela\\investment-planner-spike2.ipynb Cell 6\u001b[0m in \u001b[0;36m<cell line: 1>\u001b[1;34m()\u001b[0m\n\u001b[1;32m----> <a href='vscode-notebook-cell:/c%3A/Users/matsz/programowanie/Optymalizacja%20portfela/investment-planner-spike2.ipynb#W3sZmlsZQ%3D%3D?line=0'>1</a>\u001b[0m goal_strategies, portfolios_strategies, probabilities \u001b[39m=\u001b[39m calculateBelman(grid,goals,portfolios)\n",
      "File \u001b[1;32mc:\\Users\\matsz\\programowanie\\Optymalizacja portfela\\model\\investment_planner.py:113\u001b[0m, in \u001b[0;36mcalculateBelman\u001b[1;34m(grid, goals, portfolios)\u001b[0m\n\u001b[0;32m    110\u001b[0m V[\u001b[39m-\u001b[39m\u001b[39m1\u001b[39m] \u001b[39m=\u001b[39m \u001b[39m0\u001b[39m\n\u001b[0;32m    112\u001b[0m \u001b[39mfor\u001b[39;00m t \u001b[39min\u001b[39;00m \u001b[39mrange\u001b[39m(T\u001b[39m-\u001b[39m\u001b[39m2\u001b[39m,\u001b[39m-\u001b[39m\u001b[39m1\u001b[39m,\u001b[39m-\u001b[39m\u001b[39m1\u001b[39m):\n\u001b[1;32m--> 113\u001b[0m     goal_strategies[t], portfolios_strategies[t], V[t], probabilities[t] \u001b[39m=\u001b[39m calculateBelmanForT(goals\u001b[39m.\u001b[39mget_k_array(t),\u001b[39m0\u001b[39m,grid[t], grid[t\u001b[39m+\u001b[39m\u001b[39m1\u001b[39m], V[t\u001b[39m+\u001b[39m\u001b[39m1\u001b[39m], portfolios)  \n\u001b[0;32m    116\u001b[0m \u001b[39mreturn\u001b[39;00m goal_strategies, portfolios_strategies, probabilities\n",
      "\u001b[1;31mValueError\u001b[0m: could not broadcast input array from shape (9,) into shape (10,)"
     ]
    }
   ],
   "source": [
    "\n",
    "goal_strategies, portfolios_strategies, probabilities = calculateBelman(grid,goals,portfolios)\n",
    "\n",
    "\n",
    "\n"
   ]
  }
 ],
 "metadata": {
  "kernelspec": {
   "display_name": "portfolio-optimisation",
   "language": "python",
   "name": "python3"
  },
  "language_info": {
   "codemirror_mode": {
    "name": "ipython",
    "version": 3
   },
   "file_extension": ".py",
   "mimetype": "text/x-python",
   "name": "python",
   "nbconvert_exporter": "python",
   "pygments_lexer": "ipython3",
   "version": "3.9.12"
  },
  "orig_nbformat": 4
 },
 "nbformat": 4,
 "nbformat_minor": 2
}
