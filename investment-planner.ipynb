{
 "cells": [
  {
   "cell_type": "code",
   "execution_count": 2,
   "metadata": {},
   "outputs": [],
   "source": [
    "from investment_planner import InvestmentPlanner\n",
    "import numpy as np"
   ]
  },
  {
   "cell_type": "code",
   "execution_count": 3,
   "metadata": {},
   "outputs": [
    {
     "ename": "ValueError",
     "evalue": "could not broadcast input array from shape (3,500,500) into shape (500,500)",
     "output_type": "error",
     "traceback": [
      "\u001b[1;31m---------------------------------------------------------------------------\u001b[0m",
      "\u001b[1;31mValueError\u001b[0m                                Traceback (most recent call last)",
      "\u001b[1;32mc:\\Users\\matsz\\programowanie\\Optymalizacja portfela\\investment-planner.ipynb Komórka 2\u001b[0m in \u001b[0;36m<cell line: 5>\u001b[1;34m()\u001b[0m\n\u001b[0;32m      <a href='vscode-notebook-cell:/c%3A/Users/matsz/programowanie/Optymalizacja%20portfela/investment-planner.ipynb#W1sZmlsZQ%3D%3D?line=2'>3</a>\u001b[0m goals \u001b[39m=\u001b[39m np\u001b[39m.\u001b[39marray([[[\u001b[39m0\u001b[39m,\u001b[39m0\u001b[39m]],[[\u001b[39m0\u001b[39m,\u001b[39m0\u001b[39m]],[[\u001b[39m0\u001b[39m,\u001b[39m0\u001b[39m]],[[\u001b[39m0\u001b[39m,\u001b[39m0\u001b[39m]],[[\u001b[39m0\u001b[39m,\u001b[39m0\u001b[39m]],[[\u001b[39m90\u001b[39m,\u001b[39m60\u001b[39m]],[[\u001b[39m0\u001b[39m,\u001b[39m0\u001b[39m]],[[\u001b[39m0\u001b[39m,\u001b[39m0\u001b[39m]],[[\u001b[39m0\u001b[39m,\u001b[39m0\u001b[39m]],[[\u001b[39m0\u001b[39m,\u001b[39m0\u001b[39m]],[[\u001b[39m120\u001b[39m,\u001b[39m100\u001b[39m]]])\n\u001b[0;32m      <a href='vscode-notebook-cell:/c%3A/Users/matsz/programowanie/Optymalizacja%20portfela/investment-planner.ipynb#W1sZmlsZQ%3D%3D?line=3'>4</a>\u001b[0m portfolios \u001b[39m=\u001b[39m np\u001b[39m.\u001b[39marray([[\u001b[39m0.0526\u001b[39m, \u001b[39m0.0374\u001b[39m], [\u001b[39m0.07059443\u001b[39m, \u001b[39m0.103057\u001b[39m  ], [\u001b[39m0.0886\u001b[39m, \u001b[39m0.1954\u001b[39m]])\n\u001b[1;32m----> <a href='vscode-notebook-cell:/c%3A/Users/matsz/programowanie/Optymalizacja%20portfela/investment-planner.ipynb#W1sZmlsZQ%3D%3D?line=4'>5</a>\u001b[0m investment_planner\u001b[39m.\u001b[39;49mset_params(\u001b[39m10\u001b[39;49m, \u001b[39m100\u001b[39;49m, \u001b[39m5\u001b[39;49m, \u001b[39m1\u001b[39;49m, goals, portfolios)\n\u001b[0;32m      <a href='vscode-notebook-cell:/c%3A/Users/matsz/programowanie/Optymalizacja%20portfela/investment-planner.ipynb#W1sZmlsZQ%3D%3D?line=6'>7</a>\u001b[0m glide_path \u001b[39m=\u001b[39m investment_planner\u001b[39m.\u001b[39mglide_paths\n\u001b[0;32m      <a href='vscode-notebook-cell:/c%3A/Users/matsz/programowanie/Optymalizacja%20portfela/investment-planner.ipynb#W1sZmlsZQ%3D%3D?line=7'>8</a>\u001b[0m wealth_grid \u001b[39m=\u001b[39m investment_planner\u001b[39m.\u001b[39mgrid\n",
      "File \u001b[1;32mc:\\Users\\matsz\\programowanie\\Optymalizacja portfela\\investment_planner.py:213\u001b[0m, in \u001b[0;36mInvestmentPlanner.set_params\u001b[1;34m(self, T, W0, infusion, infusionInterval, goals, portfolios)\u001b[0m\n\u001b[0;32m    211\u001b[0m V[t] \u001b[39m=\u001b[39m values \n\u001b[0;32m    212\u001b[0m \u001b[39mself\u001b[39m\u001b[39m.\u001b[39m_portfolio_strategies[t] \u001b[39m=\u001b[39m portfolio_strategies  \n\u001b[1;32m--> 213\u001b[0m \u001b[39mself\u001b[39m\u001b[39m.\u001b[39mprobabilitiesT[t] \u001b[39m=\u001b[39m probabilities\n",
      "\u001b[1;31mValueError\u001b[0m: could not broadcast input array from shape (3,500,500) into shape (500,500)"
     ]
    }
   ],
   "source": [
    "investment_planner = InvestmentPlanner()\n",
    "\n",
    "goals = np.array([[[0,0]],[[0,0]],[[0,0]],[[0,0]],[[0,0]],[[90,60]],[[0,0]],[[0,0]],[[0,0]],[[0,0]],[[120,100]]])\n",
    "portfolios = np.array([[0.0526, 0.0374], [0.07059443, 0.103057  ], [0.0886, 0.1954]])\n",
    "investment_planner.set_params(10, 100, 5, 1, goals, portfolios)\n",
    "\n",
    "glide_path = investment_planner.glide_paths\n",
    "wealth_grid = investment_planner.grid\n",
    "probabilitiesT = investment_planner.probabilitiesT\n",
    "goal_strategies = investment_planner._goal_strategies\n",
    "probabilitiesT.shape"
   ]
  }
 ],
 "metadata": {
  "kernelspec": {
   "display_name": "portfolio-optimisation",
   "language": "python",
   "name": "python3"
  },
  "language_info": {
   "codemirror_mode": {
    "name": "ipython",
    "version": 3
   },
   "file_extension": ".py",
   "mimetype": "text/x-python",
   "name": "python",
   "nbconvert_exporter": "python",
   "pygments_lexer": "ipython3",
   "version": "3.9.12"
  },
  "orig_nbformat": 4,
  "vscode": {
   "interpreter": {
    "hash": "4bef00bc7c9a78db1045a379974b3641e8d6d719796f9d93b631987f459ca5f0"
   }
  }
 },
 "nbformat": 4,
 "nbformat_minor": 2
}
