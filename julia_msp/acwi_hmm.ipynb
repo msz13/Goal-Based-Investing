{
 "cells": [
  {
   "cell_type": "code",
   "execution_count": 114,
   "metadata": {},
   "outputs": [
    {
     "name": "stderr",
     "output_type": "stream",
     "text": [
      "\u001b[32m\u001b[1m    Updating\u001b[22m\u001b[39m registry at `C:\\Users\\matsz\\.julia\\registries\\General.toml`\n",
      "\u001b[32m\u001b[1m   Resolving\u001b[22m\u001b[39m package versions...\n",
      "\u001b[32m\u001b[1m   Installed\u001b[22m\u001b[39m MutableArithmetics ──────── v1.4.4\n",
      "\u001b[32m\u001b[1m   Installed\u001b[22m\u001b[39m Libmount_jll ────────────── v2.40.1+0\n",
      "\u001b[32m\u001b[1m   Installed\u001b[22m\u001b[39m MvNormalCDF ─────────────── v0.3.2\n",
      "\u001b[32m\u001b[1m   Installed\u001b[22m\u001b[39m JpegTurbo_jll ───────────── v3.0.3+0\n",
      "\u001b[32m\u001b[1m   Installed\u001b[22m\u001b[39m GR_jll ──────────────────── v0.73.5+0\n",
      "\u001b[32m\u001b[1m   Installed\u001b[22m\u001b[39m OffsetArrays ────────────── v1.14.0\n",
      "\u001b[32m\u001b[1m   Installed\u001b[22m\u001b[39m Unitful ─────────────────── v1.19.1\n",
      "\u001b[32m\u001b[1m   Installed\u001b[22m\u001b[39m OpenSSL ─────────────────── v1.4.3\n",
      "\u001b[32m\u001b[1m   Installed\u001b[22m\u001b[39m Polyester ───────────────── v0.7.14\n",
      "\u001b[32m\u001b[1m   Installed\u001b[22m\u001b[39m Contour ─────────────────── v0.6.3\n",
      "\u001b[32m\u001b[1m   Installed\u001b[22m\u001b[39m RecursiveArrayTools ─────── v3.18.1\n",
      "\u001b[32m\u001b[1m   Installed\u001b[22m\u001b[39m BSplineKit ──────────────── v0.17.2\n",
      "\u001b[32m\u001b[1m   Installed\u001b[22m\u001b[39m HTTP ────────────────────── v1.10.8\n",
      "\u001b[32m\u001b[1m   Installed\u001b[22m\u001b[39m Cairo_jll ───────────────── v1.18.0+2\n",
      "\u001b[32m\u001b[1m   Installed\u001b[22m\u001b[39m ColorSchemes ────────────── v3.25.0\n",
      "\u001b[32m\u001b[1m   Installed\u001b[22m\u001b[39m Fontconfig_jll ──────────── v2.13.96+0\n",
      "\u001b[32m\u001b[1m   Installed\u001b[22m\u001b[39m Libgpg_error_jll ────────── v1.49.0+0\n",
      "\u001b[32m\u001b[1m   Installed\u001b[22m\u001b[39m Xorg_libSM_jll ──────────── v1.2.4+0\n",
      "\u001b[32m\u001b[1m   Installed\u001b[22m\u001b[39m Missings ────────────────── v1.2.0\n",
      "\u001b[32m\u001b[1m   Installed\u001b[22m\u001b[39m FiniteDiff ──────────────── v2.23.1\n",
      "\u001b[32m\u001b[1m   Installed\u001b[22m\u001b[39m DiffEqBase ──────────────── v6.149.2\n",
      "\u001b[32m\u001b[1m   Installed\u001b[22m\u001b[39m Pango_jll ───────────────── v1.52.2+0\n",
      "\u001b[32m\u001b[1m   Installed\u001b[22m\u001b[39m SentinelArrays ──────────── v1.4.2\n",
      "\u001b[32m\u001b[1m   Installed\u001b[22m\u001b[39m SpecialFunctions ────────── v2.4.0\n",
      "\u001b[32m\u001b[1m   Installed\u001b[22m\u001b[39m BandedMatrices ──────────── v1.7.0\n",
      "\u001b[32m\u001b[1m   Installed\u001b[22m\u001b[39m GR ──────────────────────── v0.73.5\n",
      "\u001b[32m\u001b[1m   Installed\u001b[22m\u001b[39m LZO_jll ─────────────────── v2.10.2+0\n",
      "\u001b[32m\u001b[1m   Installed\u001b[22m\u001b[39m FriBidi_jll ─────────────── v1.0.14+0\n",
      "\u001b[32m\u001b[1m   Installed\u001b[22m\u001b[39m MathOptInterface ────────── v1.29.0\n",
      "\u001b[32m\u001b[1m   Installed\u001b[22m\u001b[39m TranscodingStreams ──────── v0.10.8\n",
      "\u001b[32m\u001b[1m   Installed\u001b[22m\u001b[39m Compat ──────────────────── v4.15.0\n",
      "\u001b[32m\u001b[1m   Installed\u001b[22m\u001b[39m DataStructures ──────────── v0.18.20\n",
      "\u001b[32m\u001b[1m   Installed\u001b[22m\u001b[39m Colors ──────────────────── v0.12.11\n",
      "\u001b[32m\u001b[1m   Installed\u001b[22m\u001b[39m BangBang ────────────────── v0.4.2\n",
      "\u001b[32m\u001b[1m   Installed\u001b[22m\u001b[39m TimeSeries ──────────────── v0.24.2\n",
      "\u001b[32m\u001b[1m   Installed\u001b[22m\u001b[39m ArrayLayouts ────────────── v1.9.2\n",
      "\u001b[32m\u001b[1m   Installed\u001b[22m\u001b[39m Xorg_libXext_jll ────────── v1.3.6+0\n",
      "\u001b[32m\u001b[1m   Installed\u001b[22m\u001b[39m Expat_jll ───────────────── v2.6.2+0\n",
      "\u001b[32m\u001b[1m   Installed\u001b[22m\u001b[39m SciMLStructures ─────────── v1.2.0\n",
      "\u001b[32m\u001b[1m   Installed\u001b[22m\u001b[39m ColorTypes ──────────────── v0.11.5\n",
      "\u001b[32m\u001b[1m   Installed\u001b[22m\u001b[39m ZMQ ─────────────────────── v1.2.3\n",
      "\u001b[32m\u001b[1m   Installed\u001b[22m\u001b[39m LBFGSB ──────────────────── v0.4.1\n",
      "\u001b[32m\u001b[1m   Installed\u001b[22m\u001b[39m Copulas ─────────────────── v0.1.23\n",
      "\u001b[32m\u001b[1m   Installed\u001b[22m\u001b[39m EnzymeCore ──────────────── v0.7.2\n",
      "\u001b[32m\u001b[1m   Installed\u001b[22m\u001b[39m Xorg_libXrender_jll ─────── v0.9.11+0\n",
      "\u001b[32m\u001b[1m   Installed\u001b[22m\u001b[39m FastClosures ────────────── v0.3.2\n",
      "\u001b[32m\u001b[1m   Installed\u001b[22m\u001b[39m ArrayInterface ──────────── v7.10.0\n",
      "\u001b[32m\u001b[1m   Installed\u001b[22m\u001b[39m JMcDM ───────────────────── v0.7.16\n",
      "\u001b[32m\u001b[1m   Installed\u001b[22m\u001b[39m PreallocationTools ──────── v0.4.21\n",
      "\u001b[32m\u001b[1m   Installed\u001b[22m\u001b[39m LoopVectorization ───────── v0.12.170\n",
      "\u001b[32m\u001b[1m   Installed\u001b[22m\u001b[39m InverseFunctions ────────── v0.1.14\n",
      "\u001b[32m\u001b[1m   Installed\u001b[22m\u001b[39m Libuuid_jll ─────────────── v2.40.1+0\n",
      "\u001b[32m\u001b[1m   Installed\u001b[22m\u001b[39m Xorg_libICE_jll ─────────── v1.1.1+0\n",
      "\u001b[32m\u001b[1m   Installed\u001b[22m\u001b[39m Pixman_jll ──────────────── v0.43.4+0\n",
      "\u001b[32m\u001b[1m   Installed\u001b[22m\u001b[39m StrideArraysCore ────────── v0.5.6\n",
      "\u001b[32m\u001b[1m   Installed\u001b[22m\u001b[39m Transducers ─────────────── v0.4.82\n",
      "\u001b[32m\u001b[1m   Installed\u001b[22m\u001b[39m VectorizationBase ───────── v0.21.67\n",
      "\u001b[32m\u001b[1m   Installed\u001b[22m\u001b[39m L_BFGS_B_jll ────────────── v3.0.1+0\n",
      "\u001b[32m\u001b[1m   Installed\u001b[22m\u001b[39m Latexify ────────────────── v0.16.3\n",
      "\u001b[32m\u001b[1m   Installed\u001b[22m\u001b[39m RuntimeGeneratedFunctions ─ v0.5.13\n",
      "\u001b[32m\u001b[1m   Installed\u001b[22m\u001b[39m Optimization ────────────── v3.25.0\n",
      "\u001b[32m\u001b[1m   Installed\u001b[22m\u001b[39m OpenSSL_jll ─────────────── v3.0.13+1\n",
      "\u001b[32m\u001b[1m   Installed\u001b[22m\u001b[39m Libgcrypt_jll ───────────── v1.8.11+0\n",
      "\u001b[32m\u001b[1m   Installed\u001b[22m\u001b[39m CPUSummary ──────────────── v0.2.5\n",
      "\u001b[32m\u001b[1m   Installed\u001b[22m\u001b[39m LAME_jll ────────────────── v3.100.2+0\n",
      "\u001b[32m\u001b[1m   Installed\u001b[22m\u001b[39m ConcreteStructs ─────────── v0.2.3\n",
      "\u001b[32m\u001b[1m   Installed\u001b[22m\u001b[39m FixedPointNumbers ───────── v0.8.5\n",
      "\u001b[32m\u001b[1m   Installed\u001b[22m\u001b[39m Glib_jll ────────────────── v2.80.2+0\n",
      "\u001b[32m\u001b[1m   Installed\u001b[22m\u001b[39m SymbolicIndexingInterface ─ v0.3.21\n",
      "\u001b[32m\u001b[1m   Installed\u001b[22m\u001b[39m Optim ───────────────────── v1.9.4\n",
      "\u001b[32m\u001b[1m   Installed\u001b[22m\u001b[39m FillArrays ──────────────── v1.11.0\n",
      "\u001b[32m\u001b[1m   Installed\u001b[22m\u001b[39m OptimizationBase ────────── v0.0.7\n",
      "\u001b[32m\u001b[1m    Updating\u001b[22m\u001b[39m `C:\\Users\\matsz\\.julia\\environments\\v1.10\\Project.toml`\n",
      "  \u001b[90m[9e3dc215] \u001b[39m\u001b[92m+ TimeSeries v0.24.2\u001b[39m\n",
      "\u001b[32m\u001b[1m    Updating\u001b[22m\u001b[39m `C:\\Users\\matsz\\.julia\\environments\\v1.10\\Manifest.toml`\n",
      "  \u001b[90m[4fba245c] \u001b[39m\u001b[93m↑ ArrayInterface v7.9.0 ⇒ v7.10.0\u001b[39m\n",
      "  \u001b[90m[4c555306] \u001b[39m\u001b[93m↑ ArrayLayouts v1.8.0 ⇒ v1.9.2\u001b[39m\n",
      "  \u001b[90m[093aae92] \u001b[39m\u001b[93m↑ BSplineKit v0.17.1 ⇒ v0.17.2\u001b[39m\n",
      "  \u001b[90m[aae01518] \u001b[39m\u001b[93m↑ BandedMatrices v1.6.1 ⇒ v1.7.0\u001b[39m\n",
      "  \u001b[90m[198e06fe] \u001b[39m\u001b[93m↑ BangBang v0.4.1 ⇒ v0.4.2\u001b[39m\n",
      "  \u001b[90m[2a0fbf3d] \u001b[39m\u001b[93m↑ CPUSummary v0.2.4 ⇒ v0.2.5\u001b[39m\n",
      "  \u001b[90m[35d6a980] \u001b[39m\u001b[93m↑ ColorSchemes v3.24.0 ⇒ v3.25.0\u001b[39m\n",
      "  \u001b[90m[3da002f7] \u001b[39m\u001b[93m↑ ColorTypes v0.11.4 ⇒ v0.11.5\u001b[39m\n",
      "  \u001b[90m[5ae59095] \u001b[39m\u001b[93m↑ Colors v0.12.10 ⇒ v0.12.11\u001b[39m\n",
      "  \u001b[90m[34da2185] \u001b[39m\u001b[93m↑ Compat v4.14.0 ⇒ v4.15.0\u001b[39m\n",
      "  \u001b[90m[2569d6c7] \u001b[39m\u001b[92m+ ConcreteStructs v0.2.3\u001b[39m\n",
      "  \u001b[90m[d38c429a] \u001b[39m\u001b[93m↑ Contour v0.6.2 ⇒ v0.6.3\u001b[39m\n",
      "  \u001b[90m[ae264745] \u001b[39m\u001b[93m↑ Copulas v0.1.22 ⇒ v0.1.23\u001b[39m\n",
      "  \u001b[90m[864edb3b] \u001b[39m\u001b[93m↑ DataStructures v0.18.18 ⇒ v0.18.20\u001b[39m\n",
      "  \u001b[90m[2b5f629d] \u001b[39m\u001b[93m↑ DiffEqBase v6.148.0 ⇒ v6.149.2\u001b[39m\n",
      "  \u001b[90m[f151be2c] \u001b[39m\u001b[93m↑ EnzymeCore v0.7.1 ⇒ v0.7.2\u001b[39m\n",
      "  \u001b[90m[9aa1b823] \u001b[39m\u001b[92m+ FastClosures v0.3.2\u001b[39m\n",
      "  \u001b[90m[1a297f60] \u001b[39m\u001b[93m↑ FillArrays v1.9.3 ⇒ v1.11.0\u001b[39m\n",
      "  \u001b[90m[6a86dc24] \u001b[39m\u001b[93m↑ FiniteDiff v2.23.0 ⇒ v2.23.1\u001b[39m\n",
      "  \u001b[90m[53c48c17] \u001b[39m\u001b[93m↑ FixedPointNumbers v0.8.4 ⇒ v0.8.5\u001b[39m\n",
      "  \u001b[90m[28b8d3ca] \u001b[39m\u001b[93m↑ GR v0.73.3 ⇒ v0.73.5\u001b[39m\n",
      "  \u001b[90m[cd3eb016] \u001b[39m\u001b[93m↑ HTTP v1.10.5 ⇒ v1.10.8\u001b[39m\n",
      "  \u001b[90m[3587e190] \u001b[39m\u001b[93m↑ InverseFunctions v0.1.13 ⇒ v0.1.14\u001b[39m\n",
      "  \u001b[90m[358108f5] \u001b[39m\u001b[93m↑ JMcDM v0.7.15 ⇒ v0.7.16\u001b[39m\n",
      "  \u001b[90m[5be7bae1] \u001b[39m\u001b[92m+ LBFGSB v0.4.1\u001b[39m\n",
      "  \u001b[90m[23fbe1c1] \u001b[39m\u001b[93m↑ Latexify v0.16.2 ⇒ v0.16.3\u001b[39m\n",
      "  \u001b[90m[bdcacae8] \u001b[39m\u001b[93m↑ LoopVectorization v0.12.166 ⇒ v0.12.170\u001b[39m\n",
      "  \u001b[90m[b8f27783] \u001b[39m\u001b[93m↑ MathOptInterface v1.27.1 ⇒ v1.29.0\u001b[39m\n",
      "  \u001b[90m[e1d29d7a] \u001b[39m\u001b[93m↑ Missings v1.1.0 ⇒ v1.2.0\u001b[39m\n",
      "  \u001b[90m[d8a4904e] \u001b[39m\u001b[93m↑ MutableArithmetics v1.4.2 ⇒ v1.4.4\u001b[39m\n",
      "  \u001b[90m[37188c8d] \u001b[39m\u001b[93m↑ MvNormalCDF v0.3.0 ⇒ v0.3.2\u001b[39m\n",
      "  \u001b[90m[6fe1bfb0] \u001b[39m\u001b[93m↑ OffsetArrays v1.13.0 ⇒ v1.14.0\u001b[39m\n",
      "  \u001b[90m[4d8831e6] \u001b[39m\u001b[93m↑ OpenSSL v1.4.2 ⇒ v1.4.3\u001b[39m\n",
      "  \u001b[90m[429524aa] \u001b[39m\u001b[93m↑ Optim v1.9.3 ⇒ v1.9.4\u001b[39m\n",
      "  \u001b[90m[7f7a1694] \u001b[39m\u001b[93m↑ Optimization v3.24.3 ⇒ v3.25.0\u001b[39m\n",
      "  \u001b[90m[bca83a33] \u001b[39m\u001b[93m↑ OptimizationBase v0.0.5 ⇒ v0.0.7\u001b[39m\n",
      "  \u001b[90m[65ce6f38] \u001b[39m\u001b[91m- PackageExtensionCompat v1.0.2\u001b[39m\n",
      "  \u001b[90m[f517fe37] \u001b[39m\u001b[93m↑ Polyester v0.7.10 ⇒ v0.7.14\u001b[39m\n",
      "  \u001b[90m[d236fae5] \u001b[39m\u001b[93m↑ PreallocationTools v0.4.20 ⇒ v0.4.21\u001b[39m\n",
      "  \u001b[90m[731186ca] \u001b[39m\u001b[93m↑ RecursiveArrayTools v3.13.0 ⇒ v3.18.1\u001b[39m\n",
      "  \u001b[90m[7e49a35a] \u001b[39m\u001b[93m↑ RuntimeGeneratedFunctions v0.5.12 ⇒ v0.5.13\u001b[39m\n",
      "  \u001b[90m[53ae85a6] \u001b[39m\u001b[93m↑ SciMLStructures v1.1.0 ⇒ v1.2.0\u001b[39m\n",
      "  \u001b[90m[91c51154] \u001b[39m\u001b[93m↑ SentinelArrays v1.4.1 ⇒ v1.4.2\u001b[39m\n",
      "  \u001b[90m[276daf66] \u001b[39m\u001b[93m↑ SpecialFunctions v2.3.1 ⇒ v2.4.0\u001b[39m\n",
      "  \u001b[90m[7792a7ef] \u001b[39m\u001b[93m↑ StrideArraysCore v0.5.2 ⇒ v0.5.6\u001b[39m\n",
      "  \u001b[90m[2efcf032] \u001b[39m\u001b[93m↑ SymbolicIndexingInterface v0.3.15 ⇒ v0.3.21\u001b[39m\n",
      "  \u001b[90m[9e3dc215] \u001b[39m\u001b[92m+ TimeSeries v0.24.2\u001b[39m\n",
      "  \u001b[90m[3bb67fe8] \u001b[39m\u001b[93m↑ TranscodingStreams v0.10.7 ⇒ v0.10.8\u001b[39m\n",
      "  \u001b[90m[28d57a85] \u001b[39m\u001b[93m↑ Transducers v0.4.81 ⇒ v0.4.82\u001b[39m\n",
      "  \u001b[90m[1986cc42] \u001b[39m\u001b[93m↑ Unitful v1.19.0 ⇒ v1.19.1\u001b[39m\n",
      "  \u001b[90m[3d5dd08c] \u001b[39m\u001b[93m↑ VectorizationBase v0.21.65 ⇒ v0.21.67\u001b[39m\n",
      "  \u001b[90m[c2297ded] \u001b[39m\u001b[93m↑ ZMQ v1.2.2 ⇒ v1.2.3\u001b[39m\n",
      "  \u001b[90m[83423d85] \u001b[39m\u001b[93m↑ Cairo_jll v1.18.0+1 ⇒ v1.18.0+2\u001b[39m\n",
      "  \u001b[90m[2e619515] \u001b[39m\u001b[93m↑ Expat_jll v2.5.0+0 ⇒ v2.6.2+0\u001b[39m\n",
      "  \u001b[90m[a3f928ae] \u001b[39m\u001b[93m↑ Fontconfig_jll v2.13.93+0 ⇒ v2.13.96+0\u001b[39m\n",
      "  \u001b[90m[559328eb] \u001b[39m\u001b[93m↑ FriBidi_jll v1.0.10+0 ⇒ v1.0.14+0\u001b[39m\n",
      "  \u001b[90m[d2c73de3] \u001b[39m\u001b[93m↑ GR_jll v0.73.3+0 ⇒ v0.73.5+0\u001b[39m\n",
      "  \u001b[90m[7746bdde] \u001b[39m\u001b[93m↑ Glib_jll v2.80.0+0 ⇒ v2.80.2+0\u001b[39m\n",
      "  \u001b[90m[aacddb02] \u001b[39m\u001b[93m↑ JpegTurbo_jll v3.0.2+0 ⇒ v3.0.3+0\u001b[39m\n",
      "  \u001b[90m[c1c5ebd0] \u001b[39m\u001b[93m↑ LAME_jll v3.100.1+0 ⇒ v3.100.2+0\u001b[39m\n",
      "  \u001b[90m[dd4b983a] \u001b[39m\u001b[93m↑ LZO_jll v2.10.1+0 ⇒ v2.10.2+0\u001b[39m\n",
      "  \u001b[90m[81d17ec3] \u001b[39m\u001b[92m+ L_BFGS_B_jll v3.0.1+0\u001b[39m\n",
      "  \u001b[90m[d4300ac3] \u001b[39m\u001b[93m↑ Libgcrypt_jll v1.8.7+0 ⇒ v1.8.11+0\u001b[39m\n",
      "  \u001b[90m[7add5ba3] \u001b[39m\u001b[93m↑ Libgpg_error_jll v1.42.0+0 ⇒ v1.49.0+0\u001b[39m\n",
      "  \u001b[90m[4b2f31a3] \u001b[39m\u001b[93m↑ Libmount_jll v2.39.3+0 ⇒ v2.40.1+0\u001b[39m\n",
      "  \u001b[90m[38a345b3] \u001b[39m\u001b[93m↑ Libuuid_jll v2.39.3+1 ⇒ v2.40.1+0\u001b[39m\n",
      "  \u001b[90m[458c3c95] \u001b[39m\u001b[93m↑ OpenSSL_jll v3.0.13+0 ⇒ v3.0.13+1\u001b[39m\n",
      "  \u001b[90m[36c8627f] \u001b[39m\u001b[93m↑ Pango_jll v1.52.1+0 ⇒ v1.52.2+0\u001b[39m\n",
      "  \u001b[90m[30392449] \u001b[39m\u001b[93m↑ Pixman_jll v0.42.2+0 ⇒ v0.43.4+0\u001b[39m\n",
      "  \u001b[90m[f67eecfb] \u001b[39m\u001b[93m↑ Xorg_libICE_jll v1.0.10+1 ⇒ v1.1.1+0\u001b[39m\n",
      "  \u001b[90m[c834827a] \u001b[39m\u001b[93m↑ Xorg_libSM_jll v1.2.3+0 ⇒ v1.2.4+0\u001b[39m\n",
      "  \u001b[90m[1082639a] \u001b[39m\u001b[93m↑ Xorg_libXext_jll v1.3.4+4 ⇒ v1.3.6+0\u001b[39m\n",
      "  \u001b[90m[ea2f1a96] \u001b[39m\u001b[93m↑ Xorg_libXrender_jll v0.9.10+4 ⇒ v0.9.11+0\u001b[39m\n",
      "\u001b[32m\u001b[1mPrecompiling\u001b[22m\u001b[39m project...\n",
      "\u001b[32m  ✓ \u001b[39m\u001b[90mConcreteStructs\u001b[39m\n",
      "\u001b[32m  ✓ \u001b[39m\u001b[90mContour\u001b[39m\n",
      "\u001b[32m  ✓ \u001b[39m\u001b[90mSciMLStructures\u001b[39m\n",
      "\u001b[32m  ✓ \u001b[39m\u001b[90mInverseFunctions\u001b[39m\n",
      "\u001b[33m  ✓ \u001b[39m\u001b[90mCompat\u001b[39m\n",
      "\u001b[32m  ✓ \u001b[39m\u001b[90mOffsetArrays\u001b[39m\n",
      "\u001b[32m  ✓ \u001b[39m\u001b[90mRuntimeGeneratedFunctions\u001b[39m\n",
      "\u001b[33m  ✓ \u001b[39m\u001b[90mTranscodingStreams\u001b[39m\n",
      "\u001b[32m  ✓ \u001b[39m\u001b[90mFastClosures\u001b[39m\n",
      "\u001b[32m  ✓ \u001b[39m\u001b[90mFillArrays\u001b[39m\n",
      "\u001b[32m  ✓ \u001b[39m\u001b[90mEnzymeCore\u001b[39m\n",
      "\u001b[33m  ✓ \u001b[39m\u001b[90mSentinelArrays\u001b[39m\n",
      "\u001b[33m  ✓ \u001b[39m\u001b[90mMissings\u001b[39m\n",
      "\u001b[32m  ✓ \u001b[39m\u001b[90mJMcDM\u001b[39m\n",
      "\u001b[32m  ✓ \u001b[39m\u001b[90mLatexify\u001b[39m\n",
      "\u001b[32m  ✓ \u001b[39m\u001b[90mCPUSummary\u001b[39m\n",
      "\u001b[33m  ✓ \u001b[39m\u001b[90mOpenSSL_jll\u001b[39m\n",
      "\u001b[32m  ✓ \u001b[39m\u001b[90mXorg_libICE_jll\u001b[39m\n",
      "\u001b[32m  ✓ \u001b[39m\u001b[90mLibuuid_jll\u001b[39m\n",
      "\u001b[32m  ✓ \u001b[39m\u001b[90mL_BFGS_B_jll\u001b[39m\n",
      "\u001b[32m  ✓ \u001b[39m\u001b[90mJpegTurbo_jll\u001b[39m\n",
      "\u001b[32m  ✓ \u001b[39m\u001b[90mMutableArithmetics\u001b[39m\n",
      "\u001b[32m  ✓ \u001b[39m\u001b[90mFriBidi_jll\u001b[39m\n",
      "\u001b[32m  ✓ \u001b[39m\u001b[90mLAME_jll\u001b[39m\n",
      "\u001b[32m  ✓ \u001b[39m\u001b[90mPixman_jll\u001b[39m\n",
      "\u001b[32m  ✓ \u001b[39m\u001b[90mExpat_jll\u001b[39m\n",
      "\u001b[32m  ✓ \u001b[39m\u001b[90mLibmount_jll\u001b[39m\n",
      "\u001b[32m  ✓ \u001b[39m\u001b[90mLZO_jll\u001b[39m\n",
      "\u001b[32m  ✓ \u001b[39m\u001b[90mLibgpg_error_jll\u001b[39m\n",
      "\u001b[32m  ✓ \u001b[39m\u001b[90mArrayInterface\u001b[39m\n",
      "\u001b[32m  ✓ \u001b[39m\u001b[90mZMQ\u001b[39m\n",
      "\u001b[32m  ✓ \u001b[39m\u001b[90mFixedPointNumbers\u001b[39m\n",
      "\u001b[32m  ✓ \u001b[39mTimeSeries\n",
      "\u001b[33m  ✓ \u001b[39m\u001b[90mCompat → CompatLinearAlgebraExt\u001b[39m\n",
      "\u001b[32m  ✓ \u001b[39m\u001b[90mInverseFunctions → DatesExt\u001b[39m\n",
      "\u001b[32m  ✓ \u001b[39m\u001b[90mCompositionsBase → CompositionsBaseInverseFunctionsExt\u001b[39m\n",
      "\u001b[32m  ✓ \u001b[39m\u001b[90mOffsetArrays → OffsetArraysAdaptExt\u001b[39m\n",
      "\u001b[33m  ✓ \u001b[39m\u001b[90mTranscodingStreams → TestExt\u001b[39m\n",
      "\u001b[32m  ✓ \u001b[39m\u001b[90mEnzymeCore → AdaptExt\u001b[39m\n",
      "\u001b[32m  ✓ \u001b[39m\u001b[90mPolyesterWeave\u001b[39m\n",
      "\u001b[33m  ✓ \u001b[39m\u001b[90mOpenSSL\u001b[39m\n",
      "\u001b[32m  ✓ \u001b[39m\u001b[90mFillArrays → FillArraysPDMatsExt\u001b[39m\n",
      "\u001b[32m  ✓ \u001b[39m\u001b[90mUnitful\u001b[39m\n",
      "\u001b[32m  ✓ \u001b[39m\u001b[90mXorg_libSM_jll\u001b[39m\n",
      "\u001b[32m  ✓ \u001b[39m\u001b[90mLBFGSB\u001b[39m\n",
      "\u001b[32m  ✓ \u001b[39m\u001b[90mLibtiff_jll\u001b[39m\n",
      "\u001b[32m  ✓ \u001b[39m\u001b[90mFontconfig_jll\u001b[39m\n",
      "\u001b[32m  ✓ \u001b[39m\u001b[90mGlib_jll\u001b[39m\n",
      "\u001b[32m  ✓ \u001b[39m\u001b[90mLibgcrypt_jll\u001b[39m\n",
      "\u001b[32m  ✓ \u001b[39m\u001b[90mArrayInterface → ArrayInterfaceGPUArraysCoreExt\u001b[39m\n",
      "\u001b[32m  ✓ \u001b[39m\u001b[90mLogExpFunctions → LogExpFunctionsInverseFunctionsExt\u001b[39m\n",
      "\u001b[33m  ✓ \u001b[39m\u001b[90mDataStructures\u001b[39m\n",
      "\u001b[32m  ✓ \u001b[39mIJulia\n",
      "\u001b[32m  ✓ \u001b[39m\u001b[90mColorTypes\u001b[39m\n",
      "\u001b[32m  ✓ \u001b[39m\u001b[90mDensityInterface\u001b[39m\n",
      "\u001b[32m  ✓ \u001b[39m\u001b[90mFillArrays → FillArraysStatisticsExt\u001b[39m\n",
      "\u001b[32m  ✓ \u001b[39m\u001b[90mAccessors\u001b[39m\n",
      "\u001b[32m  ✓ \u001b[39m\u001b[90mUnitful → InverseFunctionsUnitfulExt\u001b[39m\n",
      "\u001b[32m  ✓ \u001b[39m\u001b[90mATK_jll\u001b[39m\n",
      "\u001b[32m  ✓ \u001b[39m\u001b[90mXSLT_jll\u001b[39m\n",
      "\u001b[33m  ✓ \u001b[39m\u001b[90mHTTP\u001b[39m\n",
      "\u001b[32m  ✓ \u001b[39m\u001b[90mArrayInterface → ArrayInterfaceStaticArraysCoreExt\u001b[39m\n",
      "\u001b[32m  ✓ \u001b[39m\u001b[90mSpecialFunctions\u001b[39m\n",
      "\u001b[32m  ✓ \u001b[39m\u001b[90mColors\u001b[39m\n",
      "\u001b[32m  ✓ \u001b[39m\u001b[90mColorVectorSpace\u001b[39m\n",
      "\u001b[32m  ✓ \u001b[39m\u001b[90mAccessors → AccessorsIntervalSetsExt\u001b[39m\n",
      "\u001b[32m  ✓ \u001b[39m\u001b[90mUnitful → ConstructionBaseUnitfulExt\u001b[39m\n",
      "\u001b[32m  ✓ \u001b[39m\u001b[90mXorg_libXrender_jll\u001b[39m\n",
      "\u001b[32m  ✓ \u001b[39m\u001b[90mXorg_libXext_jll\u001b[39m\n",
      "\u001b[32m  ✓ \u001b[39m\u001b[90mgdk_pixbuf_jll\u001b[39m\n",
      "\u001b[32m  ✓ \u001b[39m\u001b[90mArrayLayouts\u001b[39m\n",
      "\u001b[32m  ✓ \u001b[39m\u001b[90mGraphics\u001b[39m\n",
      "\u001b[32m  ✓ \u001b[39m\u001b[90mSpecialFunctions → SpecialFunctionsChainRulesCoreExt\u001b[39m\n",
      "\u001b[32m  ✓ \u001b[39m\u001b[90mColorVectorSpace → SpecialFunctionsExt\u001b[39m\n",
      "\u001b[32m  ✓ \u001b[39mPyPlot\n",
      "\u001b[32m  ✓ \u001b[39m\u001b[90mAccessors → AccessorsStaticArraysExt\u001b[39m\n",
      "\u001b[32m  ✓ \u001b[39m\u001b[90mCairo_jll\u001b[39m\n",
      "\u001b[32m  ✓ \u001b[39m\u001b[90mArrayLayouts → ArrayLayoutsSparseArraysExt\u001b[39m\n",
      "\u001b[32m  ✓ \u001b[39m\u001b[90mQt6Base_jll\u001b[39m\n",
      "\u001b[32m  ✓ \u001b[39m\u001b[90mDualNumbers\u001b[39m\n",
      "\u001b[32m  ✓ \u001b[39m\u001b[90mFastGaussQuadrature\u001b[39m\n",
      "\u001b[32m  ✓ \u001b[39m\u001b[90mForwardDiff\u001b[39m\n",
      "\u001b[32m  ✓ \u001b[39m\u001b[90mColorSchemes\u001b[39m\n",
      "\u001b[32m  ✓ \u001b[39m\u001b[90mAccessors → AccessorsUnitfulExt\u001b[39m\n",
      "\u001b[32m  ✓ \u001b[39m\u001b[90mMetaheuristics\u001b[39m\n",
      "\u001b[32m  ✓ \u001b[39m\u001b[90mHarfBuzz_jll\u001b[39m\n",
      "\u001b[32m  ✓ \u001b[39m\u001b[90mHypergeometricFunctions\u001b[39m\n",
      "\u001b[32m  ✓ \u001b[39m\u001b[90mForwardDiff → ForwardDiffStaticArraysExt\u001b[39m\n",
      "\u001b[32m  ✓ \u001b[39m\u001b[90mLatexify → DataFramesExt\u001b[39m\n",
      "\u001b[32m  ✓ \u001b[39m\u001b[90mBangBang\u001b[39m\n",
      "\u001b[32m  ✓ \u001b[39m\u001b[90mPlotUtils\u001b[39m\n",
      "\u001b[32m  ✓ \u001b[39m\u001b[90mBandedMatrices\u001b[39m\n",
      "\u001b[32m  ✓ \u001b[39m\u001b[90mRoots\u001b[39m\n",
      "\u001b[32m  ✓ \u001b[39m\u001b[90mlibass_jll\u001b[39m\n",
      "\u001b[32m  ✓ \u001b[39m\u001b[90mPango_jll\u001b[39m\n",
      "\u001b[32m  ✓ \u001b[39m\u001b[90mAccessorsExtra\u001b[39m\n",
      "\u001b[32m  ✓ \u001b[39m\u001b[90mStatsFuns\u001b[39m\n",
      "\u001b[32m  ✓ \u001b[39m\u001b[90mBangBang → BangBangChainRulesCoreExt\u001b[39m\n",
      "\u001b[32m  ✓ \u001b[39m\u001b[90mUnitfulLatexify\u001b[39m\n",
      "\u001b[32m  ✓ \u001b[39m\u001b[90mPlotThemes\u001b[39m\n",
      "\u001b[32m  ✓ \u001b[39m\u001b[90mRecipesPipeline\u001b[39m\n",
      "\u001b[32m  ✓ \u001b[39m\u001b[90mBandedMatrices → BandedMatricesSparseArraysExt\u001b[39m\n",
      "\u001b[32m  ✓ \u001b[39m\u001b[90mArrayInterface → ArrayInterfaceBandedMatricesExt\u001b[39m\n",
      "\u001b[32m  ✓ \u001b[39m\u001b[90mRoots → RootsForwardDiffExt\u001b[39m\n",
      "\u001b[32m  ✓ \u001b[39m\u001b[90mGTK3_jll\u001b[39m\n",
      "\u001b[32m  ✓ \u001b[39m\u001b[90mFFMPEG_jll\u001b[39m\n",
      "\u001b[32m  ✓ \u001b[39m\u001b[90mLibrsvg_jll\u001b[39m\n",
      "\u001b[32m  ✓ \u001b[39m\u001b[90mCairo\u001b[39m\n",
      "\u001b[32m  ✓ \u001b[39m\u001b[90mStatsFuns → StatsFunsInverseFunctionsExt\u001b[39m\n",
      "\u001b[32m  ✓ \u001b[39m\u001b[90mBangBang → BangBangStaticArraysExt\u001b[39m\n",
      "\u001b[32m  ✓ \u001b[39m\u001b[90mAccessorsExtra → URIsExt\u001b[39m\n",
      "\u001b[32m  ✓ \u001b[39m\u001b[90mPreallocationTools\u001b[39m\n",
      "\u001b[32m  ✓ \u001b[39m\u001b[90mStaticArrayInterface\u001b[39m\n",
      "\u001b[32m  ✓ \u001b[39m\u001b[90mSciMLOperators\u001b[39m\n",
      "\u001b[32m  ✓ \u001b[39m\u001b[90mFiniteDiff\u001b[39m\n",
      "\u001b[32m  ✓ \u001b[39m\u001b[90mBSplineKit\u001b[39m\n",
      "\u001b[32m  ✓ \u001b[39m\u001b[90mSymbolicIndexingInterface\u001b[39m\n",
      "\u001b[32m  ✓ \u001b[39m\u001b[90mFFMPEG\u001b[39m\n",
      "\u001b[32m  ✓ \u001b[39m\u001b[90mGR_jll\u001b[39m\n",
      "\u001b[32m  ✓ \u001b[39m\u001b[90mStatsFuns → StatsFunsChainRulesCoreExt\u001b[39m\n",
      "\u001b[32m  ✓ \u001b[39m\u001b[90mUnicodePlots\u001b[39m\n",
      "\u001b[32m  ✓ \u001b[39m\u001b[90mBangBang → BangBangDataFramesExt\u001b[39m\n",
      "\u001b[32m  ✓ \u001b[39m\u001b[90mAccessorsExtra → TablesExt\u001b[39m\n",
      "\u001b[32m  ✓ \u001b[39m\u001b[90mStaticArrayInterface → StaticArrayInterfaceStaticArraysExt\u001b[39m\n",
      "\u001b[32m  ✓ \u001b[39m\u001b[90mFiniteDiff → FiniteDiffBandedMatricesExt\u001b[39m\n",
      "\u001b[32m  ✓ \u001b[39mGtk\n",
      "\u001b[32m  ✓ \u001b[39m\u001b[90mRecursiveArrayTools\u001b[39m\n",
      "\u001b[32m  ✓ \u001b[39m\u001b[90mGR\u001b[39m\n",
      "\u001b[32m  ✓ \u001b[39m\u001b[90mUnicodePlots → IntervalSetsExt\u001b[39m\n",
      "\u001b[32m  ✓ \u001b[39m\u001b[90mMicroCollections\u001b[39m\n",
      "\u001b[32m  ✓ \u001b[39mHiddenMarkovModels\n",
      "\u001b[32m  ✓ \u001b[39mDistributions\n",
      "\u001b[32m  ✓ \u001b[39m\u001b[90mStaticArrayInterface → StaticArrayInterfaceOffsetArraysExt\u001b[39m\n",
      "\u001b[32m  ✓ \u001b[39m\u001b[90mAccessorsExtra → ColorTypesExt\u001b[39m\n",
      "\u001b[32m  ✓ \u001b[39m\u001b[90mFiniteDiff → FiniteDiffStaticArraysExt\u001b[39m\n",
      "\u001b[32m  ✓ \u001b[39m\u001b[90mRecursiveArrayTools → RecursiveArrayToolsForwardDiffExt\u001b[39m\n",
      "\u001b[32m  ✓ \u001b[39m\u001b[90mUnicodePlots → UnitfulExt\u001b[39m\n",
      "\u001b[32m  ✓ \u001b[39m\u001b[90mTransducers\u001b[39m\n",
      "\u001b[32m  ✓ \u001b[39m\u001b[90mDistributions → DistributionsTestExt\u001b[39m\n",
      "\u001b[32m  ✓ \u001b[39m\u001b[90mCloseOpenIntervals\u001b[39m\n",
      "\u001b[32m  ✓ \u001b[39m\u001b[90mLayoutPointers\u001b[39m\n",
      "\u001b[32m  ✓ \u001b[39m\u001b[90mHiddenMarkovModels → HiddenMarkovModelsDistributionsExt\u001b[39m\n",
      "\u001b[32m  ✓ \u001b[39m\u001b[90mAccessorsExtra → DistributionsExt\u001b[39m\n",
      "\u001b[32m  ✓ \u001b[39m\u001b[90mNLSolversBase\u001b[39m\n",
      "\u001b[32m  ✓ \u001b[39m\u001b[90mTransducers → TransducersDataFramesExt\u001b[39m\n",
      "\u001b[32m  ✓ \u001b[39m\u001b[90mDistributions → DistributionsDensityInterfaceExt\u001b[39m\n",
      "\u001b[32m  ✓ \u001b[39m\u001b[90mStrideArraysCore\u001b[39m\n",
      "\u001b[32m  ✓ \u001b[39m\u001b[90mMathOptInterface\u001b[39m\n",
      "\u001b[32m  ✓ \u001b[39m\u001b[90mAccessorsExtra → StaticArraysExt\u001b[39m\n",
      "\u001b[32m  ✓ \u001b[39m\u001b[90mWilliamsonTransforms\u001b[39m\n",
      "\u001b[32m  ✓ \u001b[39m\u001b[90mLineSearches\u001b[39m\n",
      "\u001b[32m  ✓ \u001b[39m\u001b[90mMvNormalCDF\u001b[39m\n",
      "\u001b[32m  ✓ \u001b[39m\u001b[90mVectorizationBase\u001b[39m\n",
      "\u001b[32m  ✓ \u001b[39m\u001b[90mPolyester\u001b[39m\n",
      "\u001b[32m  ✓ \u001b[39mScenTrees\n",
      "\u001b[32m  ✓ \u001b[39m\u001b[90mOptim\u001b[39m\n",
      "\u001b[32m  ✓ \u001b[39mHiGHS\n",
      "\u001b[32m  ✓ \u001b[39m\u001b[90mSLEEFPirates\u001b[39m\n",
      "\u001b[32m  ✓ \u001b[39m\u001b[90mFastBroadcast\u001b[39m\n",
      "\u001b[32m  ✓ \u001b[39mJuMP\n",
      "\u001b[32m  ✓ \u001b[39m\u001b[90mOptim → OptimMOIExt\u001b[39m\n",
      "\u001b[32m  ✓ \u001b[39m\u001b[90mRecursiveArrayTools → RecursiveArrayToolsFastBroadcastExt\u001b[39m\n",
      "\u001b[32m  ✓ \u001b[39mSDDP\n",
      "\u001b[32m  ✓ \u001b[39m\u001b[90mCopulas\u001b[39m\n",
      "\u001b[32m  ✓ \u001b[39mSciMLBase\n",
      "\u001b[32m  ✓ \u001b[39mPlots\n",
      "\u001b[32m  ✓ \u001b[39m\u001b[90mLoopVectorization\u001b[39m\n",
      "\u001b[32m  ✓ \u001b[39m\u001b[90mSciMLBase → SciMLBaseChainRulesCoreExt\u001b[39m\n",
      "\u001b[32m  ✓ \u001b[39m\u001b[90mLoopVectorization → SpecialFunctionsExt\u001b[39m\n",
      "\u001b[32m  ✓ \u001b[39m\u001b[90mSciMLBase → SciMLBasePyCallExt\u001b[39m\n",
      "\u001b[32m  ✓ \u001b[39m\u001b[90mPlots → UnitfulExt\u001b[39m\n",
      "\u001b[32m  ✓ \u001b[39m\u001b[90mLoopVectorization → ForwardDiffExt\u001b[39m\n",
      "\u001b[32m  ✓ \u001b[39m\u001b[90mOptimizationBase\u001b[39m\n",
      "\u001b[32m  ✓ \u001b[39m\u001b[90mOptimizationBase → OptimizationFiniteDiffExt\u001b[39m\n",
      "\u001b[32m  ✓ \u001b[39m\u001b[90mFinanceCore\u001b[39m\n",
      "\u001b[32m  ✓ \u001b[39m\u001b[90mPlots → IJuliaExt\u001b[39m\n",
      "\u001b[32m  ✓ \u001b[39m\u001b[90mOptimizationBase → OptimizationForwardDiffExt\u001b[39m\n",
      "\u001b[32m  ✓ \u001b[39m\u001b[90mDiffEqBase\u001b[39m\n",
      "\u001b[32m  ✓ \u001b[39mEconomicScenarioGenerators\n",
      "\u001b[32m  ✓ \u001b[39m\u001b[90mOptimization\u001b[39m\n",
      "\u001b[32m  ✓ \u001b[39m\u001b[90mDiffEqBase → DiffEqBaseUnitfulExt\u001b[39m\n",
      "\u001b[32m  ✓ \u001b[39m\u001b[90mOptimizationMetaheuristics\u001b[39m\n",
      "\u001b[32m  ✓ \u001b[39m\u001b[90mDiffEqBase → DiffEqBaseChainRulesCoreExt\u001b[39m\n",
      "\u001b[32m  ✓ \u001b[39m\u001b[90mAccessibleOptimization\u001b[39m\n",
      "\u001b[32m  ✓ \u001b[39m\u001b[90mDiffEqBase → DiffEqBaseDistributionsExt\u001b[39m\n",
      "\u001b[32m  ✓ \u001b[39mDiffEqNoiseProcess\n",
      "\u001b[32m  ✓ \u001b[39mFinanceModels\n",
      "\u001b[32m  ✓ \u001b[39m\u001b[90mEconomicScenarioGenerators → FinanceModelsExt\u001b[39m\n",
      "  188 dependencies successfully precompiled in 316 seconds. 229 already precompiled.\n",
      "  \u001b[33m10\u001b[39m dependencies precompiled but different versions are currently loaded. Restart julia to access the new versions\n",
      "  \u001b[33m1\u001b[39m dependency had output during precompilation:\u001b[33m\n",
      "┌ \u001b[39mAccessorsExtra → URIsExt\u001b[33m\n",
      "│  \u001b[39m\u001b[33m\u001b[1m┌ \u001b[22m\u001b[39m\u001b[33m\u001b[1mWarning: \u001b[22m\u001b[39mModule LinearAlgebraExt with build ID ffffffff-ffff-ffff-0001-49cbae8c3e0d is missing from the cache.\u001b[33m\n",
      "│  \u001b[39m\u001b[33m\u001b[1m│ \u001b[22m\u001b[39mThis may mean LinearAlgebraExt [2e571e4a-e68d-5fe4-9022-ff2e7d6ac6d5] does not support precompilation but is imported by a module that does.\u001b[33m\n",
      "│  \u001b[39m\u001b[33m\u001b[1m└ \u001b[22m\u001b[39m\u001b[90m@ Base loading.jl:1948\u001b[39m\u001b[33m\n",
      "│  \u001b[39m\u001b[91m\u001b[1m┌ \u001b[22m\u001b[39m\u001b[91m\u001b[1mError: \u001b[22m\u001b[39mError during loading of extension LinearAlgebraExt of AccessorsExtra, use `Base.retry_load_extensions()` to retry.\u001b[33m\n",
      "│  \u001b[39m\u001b[91m\u001b[1m│ \u001b[22m\u001b[39m  exception =\u001b[33m\n",
      "│  \u001b[39m\u001b[91m\u001b[1m│ \u001b[22m\u001b[39m   \u001b[0m1-element ExceptionStack:\u001b[33m\n",
      "│  \u001b[39m\u001b[91m\u001b[1m│ \u001b[22m\u001b[39m   Declaring __precompile__(false) is not allowed in files that are being precompiled.\u001b[33m\n",
      "│  \u001b[39m\u001b[91m\u001b[1m│ \u001b[22m\u001b[39m   Stacktrace:\u001b[33m\n",
      "│  \u001b[39m\u001b[91m\u001b[1m│ \u001b[22m\u001b[39m     [1] \u001b[0m\u001b[1m_require\u001b[22m\u001b[0m\u001b[1m(\u001b[22m\u001b[90mpkg\u001b[39m::\u001b[0mBase.PkgId, \u001b[90menv\u001b[39m::\u001b[0mNothing\u001b[0m\u001b[1m)\u001b[22m\u001b[33m\n",
      "│  \u001b[39m\u001b[91m\u001b[1m│ \u001b[22m\u001b[39m   \u001b[90m    @\u001b[39m \u001b[90mBase\u001b[39m \u001b[90m.\\\u001b[39m\u001b[90m\u001b[4mloading.jl:1952\u001b[24m\u001b[39m\u001b[33m\n",
      "│  \u001b[39m\u001b[91m\u001b[1m│ \u001b[22m\u001b[39m     [2] \u001b[0m\u001b[1m__require_prelocked\u001b[22m\u001b[0m\u001b[1m(\u001b[22m\u001b[90muuidkey\u001b[39m::\u001b[0mBase.PkgId, \u001b[90menv\u001b[39m::\u001b[0mNothing\u001b[0m\u001b[1m)\u001b[22m\u001b[33m\n",
      "│  \u001b[39m\u001b[91m\u001b[1m│ \u001b[22m\u001b[39m   \u001b[90m    @\u001b[39m \u001b[90mBase\u001b[39m \u001b[90m.\\\u001b[39m\u001b[90m\u001b[4mloading.jl:1812\u001b[24m\u001b[39m\u001b[33m\n",
      "│  \u001b[39m\u001b[91m\u001b[1m│ \u001b[22m\u001b[39m     [3] \u001b[0m\u001b[1m#invoke_in_world#3\u001b[22m\u001b[33m\n",
      "│  \u001b[39m\u001b[91m\u001b[1m│ \u001b[22m\u001b[39m   \u001b[90m    @\u001b[39m \u001b[90m.\\\u001b[39m\u001b[90m\u001b[4messentials.jl:926\u001b[24m\u001b[39m\u001b[90m [inlined]\u001b[39m\u001b[33m\n",
      "│  \u001b[39m\u001b[91m\u001b[1m│ \u001b[22m\u001b[39m     [4] \u001b[0m\u001b[1minvoke_in_world\u001b[22m\u001b[33m\n",
      "│  \u001b[39m\u001b[91m\u001b[1m│ \u001b[22m\u001b[39m   \u001b[90m    @\u001b[39m \u001b[90m.\\\u001b[39m\u001b[90m\u001b[4messentials.jl:923\u001b[24m\u001b[39m\u001b[90m [inlined]\u001b[39m\u001b[33m\n",
      "│  \u001b[39m\u001b[91m\u001b[1m│ \u001b[22m\u001b[39m     [5] \u001b[0m\u001b[1m_require_prelocked\u001b[22m\u001b[33m\n",
      "│  \u001b[39m\u001b[91m\u001b[1m│ \u001b[22m\u001b[39m   \u001b[90m    @\u001b[39m \u001b[90m.\\\u001b[39m\u001b[90m\u001b[4mloading.jl:1803\u001b[24m\u001b[39m\u001b[90m [inlined]\u001b[39m\u001b[33m\n",
      "│  \u001b[39m\u001b[91m\u001b[1m│ \u001b[22m\u001b[39m     [6] \u001b[0m\u001b[1m_require_prelocked\u001b[22m\u001b[33m\n",
      "│  \u001b[39m\u001b[91m\u001b[1m│ \u001b[22m\u001b[39m   \u001b[90m    @\u001b[39m \u001b[90m.\\\u001b[39m\u001b[90m\u001b[4mloading.jl:1802\u001b[24m\u001b[39m\u001b[90m [inlined]\u001b[39m\u001b[33m\n",
      "│  \u001b[39m\u001b[91m\u001b[1m│ \u001b[22m\u001b[39m     [7] \u001b[0m\u001b[1mrun_extension_callbacks\u001b[22m\u001b[0m\u001b[1m(\u001b[22m\u001b[90mextid\u001b[39m::\u001b[0mBase.ExtensionId\u001b[0m\u001b[1m)\u001b[22m\u001b[33m\n",
      "│  \u001b[39m\u001b[91m\u001b[1m│ \u001b[22m\u001b[39m   \u001b[90m    @\u001b[39m \u001b[90mBase\u001b[39m \u001b[90m.\\\u001b[39m\u001b[90m\u001b[4mloading.jl:1295\u001b[24m\u001b[39m\u001b[33m\n",
      "│  \u001b[39m\u001b[91m\u001b[1m│ \u001b[22m\u001b[39m     [8] \u001b[0m\u001b[1mrun_extension_callbacks\u001b[22m\u001b[0m\u001b[1m(\u001b[22m\u001b[90mpkgid\u001b[39m::\u001b[0mBase.PkgId\u001b[0m\u001b[1m)\u001b[22m\u001b[33m\n",
      "│  \u001b[39m\u001b[91m\u001b[1m│ \u001b[22m\u001b[39m   \u001b[90m    @\u001b[39m \u001b[90mBase\u001b[39m \u001b[90m.\\\u001b[39m\u001b[90m\u001b[4mloading.jl:1330\u001b[24m\u001b[39m\u001b[33m\n",
      "│  \u001b[39m\u001b[91m\u001b[1m│ \u001b[22m\u001b[39m     [9] \u001b[0m\u001b[1mrun_package_callbacks\u001b[22m\u001b[0m\u001b[1m(\u001b[22m\u001b[90mmodkey\u001b[39m::\u001b[0mBase.PkgId\u001b[0m\u001b[1m)\u001b[22m\u001b[33m\n",
      "│  \u001b[39m\u001b[91m\u001b[1m│ \u001b[22m\u001b[39m   \u001b[90m    @\u001b[39m \u001b[90mBase\u001b[39m \u001b[90m.\\\u001b[39m\u001b[90m\u001b[4mloading.jl:1164\u001b[24m\u001b[39m\u001b[33m\n",
      "│  \u001b[39m\u001b[91m\u001b[1m│ \u001b[22m\u001b[39m    [10] \u001b[0m\u001b[1m__require_prelocked\u001b[22m\u001b[0m\u001b[1m(\u001b[22m\u001b[90muuidkey\u001b[39m::\u001b[0mBase.PkgId, \u001b[90menv\u001b[39m::\u001b[0mString\u001b[0m\u001b[1m)\u001b[22m\u001b[33m\n",
      "│  \u001b[39m\u001b[91m\u001b[1m│ \u001b[22m\u001b[39m   \u001b[90m    @\u001b[39m \u001b[90mBase\u001b[39m \u001b[90m.\\\u001b[39m\u001b[90m\u001b[4mloading.jl:1819\u001b[24m\u001b[39m\u001b[33m\n",
      "│  \u001b[39m\u001b[91m\u001b[1m│ \u001b[22m\u001b[39m    [11] \u001b[0m\u001b[1m#invoke_in_world#3\u001b[22m\u001b[33m\n",
      "│  \u001b[39m\u001b[91m\u001b[1m│ \u001b[22m\u001b[39m   \u001b[90m    @\u001b[39m \u001b[90m.\\\u001b[39m\u001b[90m\u001b[4messentials.jl:926\u001b[24m\u001b[39m\u001b[90m [inlined]\u001b[39m\u001b[33m\n",
      "│  \u001b[39m\u001b[91m\u001b[1m│ \u001b[22m\u001b[39m    [12] \u001b[0m\u001b[1minvoke_in_world\u001b[22m\u001b[33m\n",
      "│  \u001b[39m\u001b[91m\u001b[1m│ \u001b[22m\u001b[39m   \u001b[90m    @\u001b[39m \u001b[90m.\\\u001b[39m\u001b[90m\u001b[4messentials.jl:923\u001b[24m\u001b[39m\u001b[90m [inlined]\u001b[39m\u001b[33m\n",
      "│  \u001b[39m\u001b[91m\u001b[1m│ \u001b[22m\u001b[39m    [13] \u001b[0m\u001b[1m_require_prelocked\u001b[22m\u001b[0m\u001b[1m(\u001b[22m\u001b[90muuidkey\u001b[39m::\u001b[0mBase.PkgId, \u001b[90menv\u001b[39m::\u001b[0mString\u001b[0m\u001b[1m)\u001b[22m\u001b[33m\n",
      "│  \u001b[39m\u001b[91m\u001b[1m│ \u001b[22m\u001b[39m   \u001b[90m    @\u001b[39m \u001b[90mBase\u001b[39m \u001b[90m.\\\u001b[39m\u001b[90m\u001b[4mloading.jl:1803\u001b[24m\u001b[39m\u001b[33m\n",
      "│  \u001b[39m\u001b[91m\u001b[1m│ \u001b[22m\u001b[39m    [14] \u001b[0m\u001b[1mmacro expansion\u001b[22m\u001b[33m\n",
      "│  \u001b[39m\u001b[91m\u001b[1m│ \u001b[22m\u001b[39m   \u001b[90m    @\u001b[39m \u001b[90m.\\\u001b[39m\u001b[90m\u001b[4mloading.jl:1790\u001b[24m\u001b[39m\u001b[90m [inlined]\u001b[39m\u001b[33m\n",
      "│  \u001b[39m\u001b[91m\u001b[1m│ \u001b[22m\u001b[39m    [15] \u001b[0m\u001b[1mmacro expansion\u001b[22m\u001b[33m\n",
      "│  \u001b[39m\u001b[91m\u001b[1m│ \u001b[22m\u001b[39m   \u001b[90m    @\u001b[39m \u001b[90m.\\\u001b[39m\u001b[90m\u001b[4mlock.jl:267\u001b[24m\u001b[39m\u001b[90m [inlined]\u001b[39m\u001b[33m\n",
      "│  \u001b[39m\u001b[91m\u001b[1m│ \u001b[22m\u001b[39m    [16] \u001b[0m\u001b[1m__require\u001b[22m\u001b[0m\u001b[1m(\u001b[22m\u001b[90minto\u001b[39m::\u001b[0mModule, \u001b[90mmod\u001b[39m::\u001b[0mSymbol\u001b[0m\u001b[1m)\u001b[22m\u001b[33m\n",
      "│  \u001b[39m\u001b[91m\u001b[1m│ \u001b[22m\u001b[39m   \u001b[90m    @\u001b[39m \u001b[90mBase\u001b[39m \u001b[90m.\\\u001b[39m\u001b[90m\u001b[4mloading.jl:1753\u001b[24m\u001b[39m\u001b[33m\n",
      "│  \u001b[39m\u001b[91m\u001b[1m│ \u001b[22m\u001b[39m    [17] \u001b[0m\u001b[1m#invoke_in_world#3\u001b[22m\u001b[33m\n",
      "│  \u001b[39m\u001b[91m\u001b[1m│ \u001b[22m\u001b[39m   \u001b[90m    @\u001b[39m \u001b[90m.\\\u001b[39m\u001b[90m\u001b[4messentials.jl:926\u001b[24m\u001b[39m\u001b[90m [inlined]\u001b[39m\u001b[33m\n",
      "│  \u001b[39m\u001b[91m\u001b[1m│ \u001b[22m\u001b[39m    [18] \u001b[0m\u001b[1minvoke_in_world\u001b[22m\u001b[33m\n",
      "│  \u001b[39m\u001b[91m\u001b[1m│ \u001b[22m\u001b[39m   \u001b[90m    @\u001b[39m \u001b[90m.\\\u001b[39m\u001b[90m\u001b[4messentials.jl:923\u001b[24m\u001b[39m\u001b[90m [inlined]\u001b[39m\u001b[33m\n",
      "│  \u001b[39m\u001b[91m\u001b[1m│ \u001b[22m\u001b[39m    [19] \u001b[0m\u001b[1mrequire\u001b[22m\u001b[0m\u001b[1m(\u001b[22m\u001b[90minto\u001b[39m::\u001b[0mModule, \u001b[90mmod\u001b[39m::\u001b[0mSymbol\u001b[0m\u001b[1m)\u001b[22m\u001b[33m\n",
      "│  \u001b[39m\u001b[91m\u001b[1m│ \u001b[22m\u001b[39m   \u001b[90m    @\u001b[39m \u001b[90mBase\u001b[39m \u001b[90m.\\\u001b[39m\u001b[90m\u001b[4mloading.jl:1746\u001b[24m\u001b[39m\u001b[33m\n",
      "│  \u001b[39m\u001b[91m\u001b[1m│ \u001b[22m\u001b[39m    [20] \u001b[0m\u001b[1minclude\u001b[22m\u001b[33m\n",
      "│  \u001b[39m\u001b[91m\u001b[1m│ \u001b[22m\u001b[39m   \u001b[90m    @\u001b[39m \u001b[90m.\\\u001b[39m\u001b[90m\u001b[4mBase.jl:495\u001b[24m\u001b[39m\u001b[90m [inlined]\u001b[39m\u001b[33m\n",
      "│  \u001b[39m\u001b[91m\u001b[1m│ \u001b[22m\u001b[39m    [21] \u001b[0m\u001b[1minclude_package_for_output\u001b[22m\u001b[0m\u001b[1m(\u001b[22m\u001b[90mpkg\u001b[39m::\u001b[0mBase.PkgId, \u001b[90minput\u001b[39m::\u001b[0mString, \u001b[90mdepot_path\u001b[39m::\u001b[0mVector\u001b[90m{String}\u001b[39m, \u001b[90mdl_load_path\u001b[39m::\u001b[0mVector\u001b[90m{String}\u001b[39m, \u001b[90mload_path\u001b[39m::\u001b[0mVector\u001b[90m{String}\u001b[39m, \u001b[90mconcrete_deps\u001b[39m::\u001b[0mVector\u001b[90m{Pair{Base.PkgId, UInt128}}\u001b[39m, \u001b[90msource\u001b[39m::\u001b[0mString\u001b[0m\u001b[1m)\u001b[22m\u001b[33m\n",
      "│  \u001b[39m\u001b[91m\u001b[1m│ \u001b[22m\u001b[39m   \u001b[90m    @\u001b[39m \u001b[90mBase\u001b[39m \u001b[90m.\\\u001b[39m\u001b[90m\u001b[4mloading.jl:2222\u001b[24m\u001b[39m\u001b[33m\n",
      "│  \u001b[39m\u001b[91m\u001b[1m│ \u001b[22m\u001b[39m    [22] top-level scope\u001b[33m\n",
      "│  \u001b[39m\u001b[91m\u001b[1m│ \u001b[22m\u001b[39m   \u001b[90m    @\u001b[39m \u001b[90m\u001b[4mstdin:3\u001b[24m\u001b[39m\u001b[33m\n",
      "│  \u001b[39m\u001b[91m\u001b[1m│ \u001b[22m\u001b[39m    [23] \u001b[0m\u001b[1meval\u001b[22m\u001b[33m\n",
      "│  \u001b[39m\u001b[91m\u001b[1m│ \u001b[22m\u001b[39m   \u001b[90m    @\u001b[39m \u001b[90m.\\\u001b[39m\u001b[90m\u001b[4mboot.jl:385\u001b[24m\u001b[39m\u001b[90m [inlined]\u001b[39m\u001b[33m\n",
      "│  \u001b[39m\u001b[91m\u001b[1m│ \u001b[22m\u001b[39m    [24] \u001b[0m\u001b[1minclude_string\u001b[22m\u001b[0m\u001b[1m(\u001b[22m\u001b[90mmapexpr\u001b[39m::\u001b[0mtypeof(identity), \u001b[90mmod\u001b[39m::\u001b[0mModule, \u001b[90mcode\u001b[39m::\u001b[0mString, \u001b[90mfilename\u001b[39m::\u001b[0mString\u001b[0m\u001b[1m)\u001b[22m\u001b[33m\n",
      "│  \u001b[39m\u001b[91m\u001b[1m│ \u001b[22m\u001b[39m   \u001b[90m    @\u001b[39m \u001b[90mBase\u001b[39m \u001b[90m.\\\u001b[39m\u001b[90m\u001b[4mloading.jl:2076\u001b[24m\u001b[39m\u001b[33m\n",
      "│  \u001b[39m\u001b[91m\u001b[1m│ \u001b[22m\u001b[39m    [25] \u001b[0m\u001b[1minclude_string\u001b[22m\u001b[33m\n",
      "│  \u001b[39m\u001b[91m\u001b[1m│ \u001b[22m\u001b[39m   \u001b[90m    @\u001b[39m \u001b[90m.\\\u001b[39m\u001b[90m\u001b[4mloading.jl:2086\u001b[24m\u001b[39m\u001b[90m [inlined]\u001b[39m\u001b[33m\n",
      "│  \u001b[39m\u001b[91m\u001b[1m│ \u001b[22m\u001b[39m    [26] \u001b[0m\u001b[1mexec_options\u001b[22m\u001b[0m\u001b[1m(\u001b[22m\u001b[90mopts\u001b[39m::\u001b[0mBase.JLOptions\u001b[0m\u001b[1m)\u001b[22m\u001b[33m\n",
      "│  \u001b[39m\u001b[91m\u001b[1m│ \u001b[22m\u001b[39m   \u001b[90m    @\u001b[39m \u001b[90mBase\u001b[39m \u001b[90m.\\\u001b[39m\u001b[90m\u001b[4mclient.jl:316\u001b[24m\u001b[39m\u001b[33m\n",
      "│  \u001b[39m\u001b[91m\u001b[1m│ \u001b[22m\u001b[39m    [27] \u001b[0m\u001b[1m_start\u001b[22m\u001b[0m\u001b[1m(\u001b[22m\u001b[0m\u001b[1m)\u001b[22m\u001b[33m\n",
      "│  \u001b[39m\u001b[91m\u001b[1m│ \u001b[22m\u001b[39m   \u001b[90m    @\u001b[39m \u001b[90mBase\u001b[39m \u001b[90m.\\\u001b[39m\u001b[90m\u001b[4mclient.jl:552\u001b[24m\u001b[39m\u001b[33m\n",
      "│  \u001b[39m\u001b[91m\u001b[1m└ \u001b[22m\u001b[39m\u001b[90m@ Base loading.jl:1301\u001b[39m\u001b[33m\n",
      "└  \u001b[39m\n"
     ]
    }
   ],
   "source": [
    "import Pkg\n",
    "Pkg.add(\"TimeSeries\")"
   ]
  },
  {
   "cell_type": "code",
   "execution_count": 175,
   "metadata": {},
   "outputs": [],
   "source": [
    "using DataFrames, FredData, XLSX, SHA, Dates, CSV, TimeSeries, StatsBase, HiddenMarkovModels, Distributions"
   ]
  },
  {
   "cell_type": "code",
   "execution_count": 305,
   "metadata": {},
   "outputs": [
    {
     "data": {
      "text/plain": [
       "regime_summary (generic function with 2 methods)"
      ]
     },
     "metadata": {},
     "output_type": "display_data"
    }
   ],
   "source": [
    "function regime_summary(loglikehood,hmm_est, freq = 1)\n",
    "    return DataFrame(Dict(\n",
    "      \"mu1\" => mean(obs_distributions(hmm_est)[1]) * freq,\n",
    "      \"sig1\" => std(obs_distributions(hmm_est)[1])*  freq^0.5,\n",
    "      \"mu2\" => mean(obs_distributions(hmm_est)[2]) * freq,\n",
    "      \"sig2\" => std(obs_distributions(hmm_est)[2])* freq^0.5,\n",
    "      \"p11\" => transition_matrix(hmm_est)[1,1],\n",
    "      \"p21\" => transition_matrix(hmm_est)[2,1],\n",
    "      \"loglikehood\" => last(loglikehood)\n",
    "  ))\n",
    "  end"
   ]
  },
  {
   "cell_type": "code",
   "execution_count": 307,
   "metadata": {},
   "outputs": [
    {
     "data": {
      "text/html": [
       "<div><div style = \"float: left;\"><span>281×2 DataFrame</span></div><div style = \"float: right;\"><span style = \"font-style: italic;\">256 rows omitted</span></div><div style = \"clear: both;\"></div></div><div class = \"data-frame\" style = \"overflow-x: scroll;\"><table class = \"data-frame\" style = \"margin-bottom: 6px;\"><thead><tr class = \"header\"><th class = \"rowNumber\" style = \"font-weight: bold; text-align: right;\">Row</th><th style = \"text-align: left;\">date</th><th style = \"text-align: left;\">usdpln</th></tr><tr class = \"subheader headerLastRow\"><th class = \"rowNumber\" style = \"font-weight: bold; text-align: right;\"></th><th title = \"Date\" style = \"text-align: left;\">Date</th><th title = \"Float64\" style = \"text-align: left;\">Float64</th></tr></thead><tbody><tr><td class = \"rowNumber\" style = \"font-weight: bold; text-align: right;\">1</td><td style = \"text-align: left;\">2000-12-29</td><td style = \"text-align: right;\">4.128</td></tr><tr><td class = \"rowNumber\" style = \"font-weight: bold; text-align: right;\">2</td><td style = \"text-align: left;\">2001-01-31</td><td style = \"text-align: right;\">4.08</td></tr><tr><td class = \"rowNumber\" style = \"font-weight: bold; text-align: right;\">3</td><td style = \"text-align: left;\">2001-02-28</td><td style = \"text-align: right;\">4.0375</td></tr><tr><td class = \"rowNumber\" style = \"font-weight: bold; text-align: right;\">4</td><td style = \"text-align: left;\">2001-03-30</td><td style = \"text-align: right;\">4.0903</td></tr><tr><td class = \"rowNumber\" style = \"font-weight: bold; text-align: right;\">5</td><td style = \"text-align: left;\">2001-04-30</td><td style = \"text-align: right;\">3.9618</td></tr><tr><td class = \"rowNumber\" style = \"font-weight: bold; text-align: right;\">6</td><td style = \"text-align: left;\">2001-05-31</td><td style = \"text-align: right;\">3.9824</td></tr><tr><td class = \"rowNumber\" style = \"font-weight: bold; text-align: right;\">7</td><td style = \"text-align: left;\">2001-06-29</td><td style = \"text-align: right;\">4.0069</td></tr><tr><td class = \"rowNumber\" style = \"font-weight: bold; text-align: right;\">8</td><td style = \"text-align: left;\">2001-07-31</td><td style = \"text-align: right;\">4.2558</td></tr><tr><td class = \"rowNumber\" style = \"font-weight: bold; text-align: right;\">9</td><td style = \"text-align: left;\">2001-08-31</td><td style = \"text-align: right;\">4.239</td></tr><tr><td class = \"rowNumber\" style = \"font-weight: bold; text-align: right;\">10</td><td style = \"text-align: left;\">2001-09-28</td><td style = \"text-align: right;\">4.2283</td></tr><tr><td class = \"rowNumber\" style = \"font-weight: bold; text-align: right;\">11</td><td style = \"text-align: left;\">2001-10-31</td><td style = \"text-align: right;\">4.0908</td></tr><tr><td class = \"rowNumber\" style = \"font-weight: bold; text-align: right;\">12</td><td style = \"text-align: left;\">2001-11-30</td><td style = \"text-align: right;\">4.0659</td></tr><tr><td class = \"rowNumber\" style = \"font-weight: bold; text-align: right;\">13</td><td style = \"text-align: left;\">2001-12-31</td><td style = \"text-align: right;\">3.9623</td></tr><tr><td style = \"text-align: right;\">&vellip;</td><td style = \"text-align: right;\">&vellip;</td><td style = \"text-align: right;\">&vellip;</td></tr><tr><td class = \"rowNumber\" style = \"font-weight: bold; text-align: right;\">270</td><td style = \"text-align: left;\">2023-05-31</td><td style = \"text-align: right;\">4.24044</td></tr><tr><td class = \"rowNumber\" style = \"font-weight: bold; text-align: right;\">271</td><td style = \"text-align: left;\">2023-06-30</td><td style = \"text-align: right;\">4.06505</td></tr><tr><td class = \"rowNumber\" style = \"font-weight: bold; text-align: right;\">272</td><td style = \"text-align: left;\">2023-07-31</td><td style = \"text-align: right;\">4.00395</td></tr><tr><td class = \"rowNumber\" style = \"font-weight: bold; text-align: right;\">273</td><td style = \"text-align: left;\">2023-08-31</td><td style = \"text-align: right;\">4.12312</td></tr><tr><td class = \"rowNumber\" style = \"font-weight: bold; text-align: right;\">274</td><td style = \"text-align: left;\">2023-09-29</td><td style = \"text-align: right;\">4.36773</td></tr><tr><td class = \"rowNumber\" style = \"font-weight: bold; text-align: right;\">275</td><td style = \"text-align: left;\">2023-10-31</td><td style = \"text-align: right;\">4.2128</td></tr><tr><td class = \"rowNumber\" style = \"font-weight: bold; text-align: right;\">276</td><td style = \"text-align: left;\">2023-11-30</td><td style = \"text-align: right;\">3.997</td></tr><tr><td class = \"rowNumber\" style = \"font-weight: bold; text-align: right;\">277</td><td style = \"text-align: left;\">2023-12-29</td><td style = \"text-align: right;\">3.93417</td></tr><tr><td class = \"rowNumber\" style = \"font-weight: bold; text-align: right;\">278</td><td style = \"text-align: left;\">2024-01-31</td><td style = \"text-align: right;\">4.00365</td></tr><tr><td class = \"rowNumber\" style = \"font-weight: bold; text-align: right;\">279</td><td style = \"text-align: left;\">2024-02-29</td><td style = \"text-align: right;\">3.99355</td></tr><tr><td class = \"rowNumber\" style = \"font-weight: bold; text-align: right;\">280</td><td style = \"text-align: left;\">2024-03-29</td><td style = \"text-align: right;\">3.98925</td></tr><tr><td class = \"rowNumber\" style = \"font-weight: bold; text-align: right;\">281</td><td style = \"text-align: left;\">2024-04-30</td><td style = \"text-align: right;\">4.06265</td></tr></tbody></table></div>"
      ],
      "text/latex": [
       "\\begin{tabular}{r|cc}\n",
       "\t& date & usdpln\\\\\n",
       "\t\\hline\n",
       "\t& Date & Float64\\\\\n",
       "\t\\hline\n",
       "\t1 & 2000-12-29 & 4.128 \\\\\n",
       "\t2 & 2001-01-31 & 4.08 \\\\\n",
       "\t3 & 2001-02-28 & 4.0375 \\\\\n",
       "\t4 & 2001-03-30 & 4.0903 \\\\\n",
       "\t5 & 2001-04-30 & 3.9618 \\\\\n",
       "\t6 & 2001-05-31 & 3.9824 \\\\\n",
       "\t7 & 2001-06-29 & 4.0069 \\\\\n",
       "\t8 & 2001-07-31 & 4.2558 \\\\\n",
       "\t9 & 2001-08-31 & 4.239 \\\\\n",
       "\t10 & 2001-09-28 & 4.2283 \\\\\n",
       "\t11 & 2001-10-31 & 4.0908 \\\\\n",
       "\t12 & 2001-11-30 & 4.0659 \\\\\n",
       "\t13 & 2001-12-31 & 3.9623 \\\\\n",
       "\t14 & 2002-01-31 & 4.1732 \\\\\n",
       "\t15 & 2002-02-28 & 4.2247 \\\\\n",
       "\t16 & 2002-03-29 & 4.1183 \\\\\n",
       "\t17 & 2002-04-30 & 3.9918 \\\\\n",
       "\t18 & 2002-05-31 & 4.0177 \\\\\n",
       "\t19 & 2002-06-28 & 4.0537 \\\\\n",
       "\t20 & 2002-07-31 & 4.1743 \\\\\n",
       "\t21 & 2002-08-30 & 4.1277 \\\\\n",
       "\t22 & 2002-09-30 & 4.1466 \\\\\n",
       "\t23 & 2002-10-31 & 4.0306 \\\\\n",
       "\t24 & 2002-11-29 & 4.0147 \\\\\n",
       "\t$\\dots$ & $\\dots$ & $\\dots$ \\\\\n",
       "\\end{tabular}\n"
      ],
      "text/plain": [
       "\u001b[1m281×2 DataFrame\u001b[0m\n",
       "\u001b[1m Row \u001b[0m│\u001b[1m date       \u001b[0m\u001b[1m usdpln  \u001b[0m\n",
       "     │\u001b[90m Date       \u001b[0m\u001b[90m Float64 \u001b[0m\n",
       "─────┼─────────────────────\n",
       "   1 │ 2000-12-29  4.128\n",
       "   2 │ 2001-01-31  4.08\n",
       "   3 │ 2001-02-28  4.0375\n",
       "   4 │ 2001-03-30  4.0903\n",
       "   5 │ 2001-04-30  3.9618\n",
       "   6 │ 2001-05-31  3.9824\n",
       "   7 │ 2001-06-29  4.0069\n",
       "   8 │ 2001-07-31  4.2558\n",
       "  ⋮  │     ⋮          ⋮\n",
       " 275 │ 2023-10-31  4.2128\n",
       " 276 │ 2023-11-30  3.997\n",
       " 277 │ 2023-12-29  3.93417\n",
       " 278 │ 2024-01-31  4.00365\n",
       " 279 │ 2024-02-29  3.99355\n",
       " 280 │ 2024-03-29  3.98925\n",
       " 281 │ 2024-04-30  4.06265\n",
       "\u001b[36m           266 rows omitted\u001b[0m"
      ]
     },
     "metadata": {},
     "output_type": "display_data"
    }
   ],
   "source": [
    "usdpln = CSV.read(\"usdpln_m.csv\", DataFrame)[:,[:Data,:Zamkniecie]]\n",
    "usdpln = rename(usdpln,[:date, :usdpln])\n",
    "usdpln.date = Date.(usdpln.date,dateformat\"u dd, yyyy\") \n",
    "usdpln"
   ]
  },
  {
   "cell_type": "code",
   "execution_count": 308,
   "metadata": {},
   "outputs": [
    {
     "data": {
      "text/html": [
       "<div><div style = \"float: left;\"><span>281×2 DataFrame</span></div><div style = \"float: right;\"><span style = \"font-style: italic;\">256 rows omitted</span></div><div style = \"clear: both;\"></div></div><div class = \"data-frame\" style = \"overflow-x: scroll;\"><table class = \"data-frame\" style = \"margin-bottom: 6px;\"><thead><tr class = \"header\"><th class = \"rowNumber\" style = \"font-weight: bold; text-align: right;\">Row</th><th style = \"text-align: left;\">date</th><th style = \"text-align: left;\">acwi</th></tr><tr class = \"subheader headerLastRow\"><th class = \"rowNumber\" style = \"font-weight: bold; text-align: right;\"></th><th title = \"Date\" style = \"text-align: left;\">Date</th><th title = \"Float64\" style = \"text-align: left;\">Float64</th></tr></thead><tbody><tr><td class = \"rowNumber\" style = \"font-weight: bold; text-align: right;\">1</td><td style = \"text-align: left;\">2000-12-29</td><td style = \"text-align: right;\">100.0</td></tr><tr><td class = \"rowNumber\" style = \"font-weight: bold; text-align: right;\">2</td><td style = \"text-align: left;\">2001-01-31</td><td style = \"text-align: right;\">102.514</td></tr><tr><td class = \"rowNumber\" style = \"font-weight: bold; text-align: right;\">3</td><td style = \"text-align: left;\">2001-02-28</td><td style = \"text-align: right;\">93.869</td></tr><tr><td class = \"rowNumber\" style = \"font-weight: bold; text-align: right;\">4</td><td style = \"text-align: left;\">2001-03-30</td><td style = \"text-align: right;\">87.516</td></tr><tr><td class = \"rowNumber\" style = \"font-weight: bold; text-align: right;\">5</td><td style = \"text-align: left;\">2001-04-30</td><td style = \"text-align: right;\">93.853</td></tr><tr><td class = \"rowNumber\" style = \"font-weight: bold; text-align: right;\">6</td><td style = \"text-align: left;\">2001-05-31</td><td style = \"text-align: right;\">92.75</td></tr><tr><td class = \"rowNumber\" style = \"font-weight: bold; text-align: right;\">7</td><td style = \"text-align: left;\">2001-06-29</td><td style = \"text-align: right;\">89.882</td></tr><tr><td class = \"rowNumber\" style = \"font-weight: bold; text-align: right;\">8</td><td style = \"text-align: left;\">2001-07-31</td><td style = \"text-align: right;\">88.447</td></tr><tr><td class = \"rowNumber\" style = \"font-weight: bold; text-align: right;\">9</td><td style = \"text-align: left;\">2001-08-31</td><td style = \"text-align: right;\">84.352</td></tr><tr><td class = \"rowNumber\" style = \"font-weight: bold; text-align: right;\">10</td><td style = \"text-align: left;\">2001-09-28</td><td style = \"text-align: right;\">76.625</td></tr><tr><td class = \"rowNumber\" style = \"font-weight: bold; text-align: right;\">11</td><td style = \"text-align: left;\">2001-10-31</td><td style = \"text-align: right;\">78.242</td></tr><tr><td class = \"rowNumber\" style = \"font-weight: bold; text-align: right;\">12</td><td style = \"text-align: left;\">2001-11-30</td><td style = \"text-align: right;\">83.031</td></tr><tr><td class = \"rowNumber\" style = \"font-weight: bold; text-align: right;\">13</td><td style = \"text-align: left;\">2001-12-31</td><td style = \"text-align: right;\">83.791</td></tr><tr><td style = \"text-align: right;\">&vellip;</td><td style = \"text-align: right;\">&vellip;</td><td style = \"text-align: right;\">&vellip;</td></tr><tr><td class = \"rowNumber\" style = \"font-weight: bold; text-align: right;\">270</td><td style = \"text-align: left;\">2023-05-31</td><td style = \"text-align: right;\">341.999</td></tr><tr><td class = \"rowNumber\" style = \"font-weight: bold; text-align: right;\">271</td><td style = \"text-align: left;\">2023-06-30</td><td style = \"text-align: right;\">361.856</td></tr><tr><td class = \"rowNumber\" style = \"font-weight: bold; text-align: right;\">272</td><td style = \"text-align: left;\">2023-07-31</td><td style = \"text-align: right;\">375.103</td></tr><tr><td class = \"rowNumber\" style = \"font-weight: bold; text-align: right;\">273</td><td style = \"text-align: left;\">2023-08-31</td><td style = \"text-align: right;\">364.621</td></tr><tr><td class = \"rowNumber\" style = \"font-weight: bold; text-align: right;\">274</td><td style = \"text-align: left;\">2023-09-29</td><td style = \"text-align: right;\">349.544</td></tr><tr><td class = \"rowNumber\" style = \"font-weight: bold; text-align: right;\">275</td><td style = \"text-align: left;\">2023-10-31</td><td style = \"text-align: right;\">339.034</td></tr><tr><td class = \"rowNumber\" style = \"font-weight: bold; text-align: right;\">276</td><td style = \"text-align: left;\">2023-11-30</td><td style = \"text-align: right;\">370.326</td></tr><tr><td class = \"rowNumber\" style = \"font-weight: bold; text-align: right;\">277</td><td style = \"text-align: left;\">2023-12-29</td><td style = \"text-align: right;\">388.114</td></tr><tr><td class = \"rowNumber\" style = \"font-weight: bold; text-align: right;\">278</td><td style = \"text-align: left;\">2024-01-31</td><td style = \"text-align: right;\">390.389</td></tr><tr><td class = \"rowNumber\" style = \"font-weight: bold; text-align: right;\">279</td><td style = \"text-align: left;\">2024-02-29</td><td style = \"text-align: right;\">407.142</td></tr><tr><td class = \"rowNumber\" style = \"font-weight: bold; text-align: right;\">280</td><td style = \"text-align: left;\">2024-03-29</td><td style = \"text-align: right;\">419.925</td></tr><tr><td class = \"rowNumber\" style = \"font-weight: bold; text-align: right;\">281</td><td style = \"text-align: left;\">2024-04-30</td><td style = \"text-align: right;\">406.07</td></tr></tbody></table></div>"
      ],
      "text/latex": [
       "\\begin{tabular}{r|cc}\n",
       "\t& date & acwi\\\\\n",
       "\t\\hline\n",
       "\t& Date & Float64\\\\\n",
       "\t\\hline\n",
       "\t1 & 2000-12-29 & 100.0 \\\\\n",
       "\t2 & 2001-01-31 & 102.514 \\\\\n",
       "\t3 & 2001-02-28 & 93.869 \\\\\n",
       "\t4 & 2001-03-30 & 87.516 \\\\\n",
       "\t5 & 2001-04-30 & 93.853 \\\\\n",
       "\t6 & 2001-05-31 & 92.75 \\\\\n",
       "\t7 & 2001-06-29 & 89.882 \\\\\n",
       "\t8 & 2001-07-31 & 88.447 \\\\\n",
       "\t9 & 2001-08-31 & 84.352 \\\\\n",
       "\t10 & 2001-09-28 & 76.625 \\\\\n",
       "\t11 & 2001-10-31 & 78.242 \\\\\n",
       "\t12 & 2001-11-30 & 83.031 \\\\\n",
       "\t13 & 2001-12-31 & 83.791 \\\\\n",
       "\t14 & 2002-01-31 & 81.478 \\\\\n",
       "\t15 & 2002-02-28 & 80.855 \\\\\n",
       "\t16 & 2002-03-29 & 84.477 \\\\\n",
       "\t17 & 2002-04-30 & 81.77 \\\\\n",
       "\t18 & 2002-05-31 & 81.833 \\\\\n",
       "\t19 & 2002-06-28 & 76.809 \\\\\n",
       "\t20 & 2002-07-31 & 70.351 \\\\\n",
       "\t21 & 2002-08-30 & 70.507 \\\\\n",
       "\t22 & 2002-09-30 & 62.75 \\\\\n",
       "\t23 & 2002-10-31 & 67.353 \\\\\n",
       "\t24 & 2002-11-29 & 71.013 \\\\\n",
       "\t$\\dots$ & $\\dots$ & $\\dots$ \\\\\n",
       "\\end{tabular}\n"
      ],
      "text/plain": [
       "\u001b[1m281×2 DataFrame\u001b[0m\n",
       "\u001b[1m Row \u001b[0m│\u001b[1m date       \u001b[0m\u001b[1m acwi    \u001b[0m\n",
       "     │\u001b[90m Date       \u001b[0m\u001b[90m Float64 \u001b[0m\n",
       "─────┼─────────────────────\n",
       "   1 │ 2000-12-29  100.0\n",
       "   2 │ 2001-01-31  102.514\n",
       "   3 │ 2001-02-28   93.869\n",
       "   4 │ 2001-03-30   87.516\n",
       "   5 │ 2001-04-30   93.853\n",
       "   6 │ 2001-05-31   92.75\n",
       "   7 │ 2001-06-29   89.882\n",
       "   8 │ 2001-07-31   88.447\n",
       "  ⋮  │     ⋮          ⋮\n",
       " 275 │ 2023-10-31  339.034\n",
       " 276 │ 2023-11-30  370.326\n",
       " 277 │ 2023-12-29  388.114\n",
       " 278 │ 2024-01-31  390.389\n",
       " 279 │ 2024-02-29  407.142\n",
       " 280 │ 2024-03-29  419.925\n",
       " 281 │ 2024-04-30  406.07\n",
       "\u001b[36m           266 rows omitted\u001b[0m"
      ]
     },
     "metadata": {},
     "output_type": "display_data"
    }
   ],
   "source": [
    "acwi = DataFrame(XLSX.readdata(\"acwi_15.05.24.xlsx\",\"net!A8:B288\"), [:date,:acwi])\n",
    "acwi.date = Date.(acwi.date,dateformat\"u dd, yyyy\") \n",
    "acwi.acwi = parse.(Float64,string.(acwi.acwi))\n",
    "acwi"
   ]
  },
  {
   "cell_type": "code",
   "execution_count": 309,
   "metadata": {},
   "outputs": [
    {
     "data": {
      "text/plain": [
       "281-element Vector{Float64}:\n",
       "  412.8\n",
       "  418.25712\n",
       "  378.9960875\n",
       "  357.9666948\n",
       "  371.8268154\n",
       "  369.36760000000004\n",
       "  360.1481858\n",
       "  376.4127426\n",
       "  357.568128\n",
       "  323.9934875\n",
       "    ⋮\n",
       " 1503.37613752\n",
       " 1526.71381512\n",
       " 1428.2824351999998\n",
       " 1480.1930220000002\n",
       " 1526.90645538\n",
       " 1562.9809198500002\n",
       " 1625.9419341\n",
       " 1675.18580625\n",
       " 1649.7202854999998"
      ]
     },
     "metadata": {},
     "output_type": "display_data"
    }
   ],
   "source": [
    "data = leftjoin(acwi,usdpln, on= :date)\n",
    "data.acwi_pln = data.acwi .* data.usdpln\n"
   ]
  },
  {
   "cell_type": "code",
   "execution_count": 310,
   "metadata": {},
   "outputs": [
    {
     "data": {
      "text/html": [
       "<div><div style = \"float: left;\"><span>280×2 DataFrame</span></div><div style = \"float: right;\"><span style = \"font-style: italic;\">255 rows omitted</span></div><div style = \"clear: both;\"></div></div><div class = \"data-frame\" style = \"overflow-x: scroll;\"><table class = \"data-frame\" style = \"margin-bottom: 6px;\"><thead><tr class = \"header\"><th class = \"rowNumber\" style = \"font-weight: bold; text-align: right;\">Row</th><th style = \"text-align: left;\">date</th><th style = \"text-align: left;\">acwipln_returns</th></tr><tr class = \"subheader headerLastRow\"><th class = \"rowNumber\" style = \"font-weight: bold; text-align: right;\"></th><th title = \"Date\" style = \"text-align: left;\">Date</th><th title = \"Float64\" style = \"text-align: left;\">Float64</th></tr></thead><tbody><tr><td class = \"rowNumber\" style = \"font-weight: bold; text-align: right;\">1</td><td style = \"text-align: left;\">2001-01-31</td><td style = \"text-align: right;\">0.0131331</td></tr><tr><td class = \"rowNumber\" style = \"font-weight: bold; text-align: right;\">2</td><td style = \"text-align: left;\">2001-02-28</td><td style = \"text-align: right;\">-0.0985705</td></tr><tr><td class = \"rowNumber\" style = \"font-weight: bold; text-align: right;\">3</td><td style = \"text-align: left;\">2001-03-30</td><td style = \"text-align: right;\">-0.0570859</td></tr><tr><td class = \"rowNumber\" style = \"font-weight: bold; text-align: right;\">4</td><td style = \"text-align: left;\">2001-04-30</td><td style = \"text-align: right;\">0.0379882</td></tr><tr><td class = \"rowNumber\" style = \"font-weight: bold; text-align: right;\">5</td><td style = \"text-align: left;\">2001-05-31</td><td style = \"text-align: right;\">-0.00663584</td></tr><tr><td class = \"rowNumber\" style = \"font-weight: bold; text-align: right;\">6</td><td style = \"text-align: left;\">2001-06-29</td><td style = \"text-align: right;\">-0.0252768</td></tr><tr><td class = \"rowNumber\" style = \"font-weight: bold; text-align: right;\">7</td><td style = \"text-align: left;\">2001-07-31</td><td style = \"text-align: right;\">0.0441707</td></tr><tr><td class = \"rowNumber\" style = \"font-weight: bold; text-align: right;\">8</td><td style = \"text-align: left;\">2001-08-31</td><td style = \"text-align: right;\">-0.0513603</td></tr><tr><td class = \"rowNumber\" style = \"font-weight: bold; text-align: right;\">9</td><td style = \"text-align: left;\">2001-09-28</td><td style = \"text-align: right;\">-0.0986025</td></tr><tr><td class = \"rowNumber\" style = \"font-weight: bold; text-align: right;\">10</td><td style = \"text-align: left;\">2001-10-31</td><td style = \"text-align: right;\">-0.0121763</td></tr><tr><td class = \"rowNumber\" style = \"font-weight: bold; text-align: right;\">11</td><td style = \"text-align: left;\">2001-11-30</td><td style = \"text-align: right;\">0.053302</td></tr><tr><td class = \"rowNumber\" style = \"font-weight: bold; text-align: right;\">12</td><td style = \"text-align: left;\">2001-12-31</td><td style = \"text-align: right;\">-0.0166989</td></tr><tr><td class = \"rowNumber\" style = \"font-weight: bold; text-align: right;\">13</td><td style = \"text-align: left;\">2002-01-31</td><td style = \"text-align: right;\">0.0238659</td></tr><tr><td style = \"text-align: right;\">&vellip;</td><td style = \"text-align: right;\">&vellip;</td><td style = \"text-align: right;\">&vellip;</td></tr><tr><td class = \"rowNumber\" style = \"font-weight: bold; text-align: right;\">269</td><td style = \"text-align: left;\">2023-05-31</td><td style = \"text-align: right;\">0.00790439</td></tr><tr><td class = \"rowNumber\" style = \"font-weight: bold; text-align: right;\">270</td><td style = \"text-align: left;\">2023-06-30</td><td style = \"text-align: right;\">0.0141975</td></tr><tr><td class = \"rowNumber\" style = \"font-weight: bold; text-align: right;\">271</td><td style = \"text-align: left;\">2023-07-31</td><td style = \"text-align: right;\">0.0208096</td></tr><tr><td class = \"rowNumber\" style = \"font-weight: bold; text-align: right;\">272</td><td style = \"text-align: left;\">2023-08-31</td><td style = \"text-align: right;\">0.000986587</td></tr><tr><td class = \"rowNumber\" style = \"font-weight: bold; text-align: right;\">273</td><td style = \"text-align: left;\">2023-09-29</td><td style = \"text-align: right;\">0.0154043</td></tr><tr><td class = \"rowNumber\" style = \"font-weight: bold; text-align: right;\">274</td><td style = \"text-align: left;\">2023-10-31</td><td style = \"text-align: right;\">-0.066645</td></tr><tr><td class = \"rowNumber\" style = \"font-weight: bold; text-align: right;\">275</td><td style = \"text-align: left;\">2023-11-30</td><td style = \"text-align: right;\">0.0356999</td></tr><tr><td class = \"rowNumber\" style = \"font-weight: bold; text-align: right;\">276</td><td style = \"text-align: left;\">2023-12-29</td><td style = \"text-align: right;\">0.0310713</td></tr><tr><td class = \"rowNumber\" style = \"font-weight: bold; text-align: right;\">277</td><td style = \"text-align: left;\">2024-01-31</td><td style = \"text-align: right;\">0.0233511</td></tr><tr><td class = \"rowNumber\" style = \"font-weight: bold; text-align: right;\">278</td><td style = \"text-align: left;\">2024-02-29</td><td style = \"text-align: right;\">0.0394925</td></tr><tr><td class = \"rowNumber\" style = \"font-weight: bold; text-align: right;\">279</td><td style = \"text-align: left;\">2024-03-29</td><td style = \"text-align: right;\">0.0298368</td></tr><tr><td class = \"rowNumber\" style = \"font-weight: bold; text-align: right;\">280</td><td style = \"text-align: left;\">2024-04-30</td><td style = \"text-align: right;\">-0.0153183</td></tr></tbody></table></div>"
      ],
      "text/latex": [
       "\\begin{tabular}{r|cc}\n",
       "\t& date & acwipln\\_returns\\\\\n",
       "\t\\hline\n",
       "\t& Date & Float64\\\\\n",
       "\t\\hline\n",
       "\t1 & 2001-01-31 & 0.0131331 \\\\\n",
       "\t2 & 2001-02-28 & -0.0985705 \\\\\n",
       "\t3 & 2001-03-30 & -0.0570859 \\\\\n",
       "\t4 & 2001-04-30 & 0.0379882 \\\\\n",
       "\t5 & 2001-05-31 & -0.00663584 \\\\\n",
       "\t6 & 2001-06-29 & -0.0252768 \\\\\n",
       "\t7 & 2001-07-31 & 0.0441707 \\\\\n",
       "\t8 & 2001-08-31 & -0.0513603 \\\\\n",
       "\t9 & 2001-09-28 & -0.0986025 \\\\\n",
       "\t10 & 2001-10-31 & -0.0121763 \\\\\n",
       "\t11 & 2001-11-30 & 0.053302 \\\\\n",
       "\t12 & 2001-12-31 & -0.0166989 \\\\\n",
       "\t13 & 2002-01-31 & 0.0238659 \\\\\n",
       "\t14 & 2002-02-28 & 0.00458951 \\\\\n",
       "\t15 & 2002-03-29 & 0.0183141 \\\\\n",
       "\t16 & 2002-04-30 & -0.0637671 \\\\\n",
       "\t17 & 2002-05-31 & 0.0072375 \\\\\n",
       "\t18 & 2002-06-28 & -0.0544383 \\\\\n",
       "\t19 & 2002-07-31 & -0.0585082 \\\\\n",
       "\t20 & 2002-08-30 & -0.00901133 \\\\\n",
       "\t21 & 2002-09-30 & -0.111985 \\\\\n",
       "\t22 & 2002-10-31 & 0.0424154 \\\\\n",
       "\t23 & 2002-11-29 & 0.0489629 \\\\\n",
       "\t24 & 2002-12-31 & -0.0968012 \\\\\n",
       "\t$\\dots$ & $\\dots$ & $\\dots$ \\\\\n",
       "\\end{tabular}\n"
      ],
      "text/plain": [
       "\u001b[1m280×2 DataFrame\u001b[0m\n",
       "\u001b[1m Row \u001b[0m│\u001b[1m date       \u001b[0m\u001b[1m acwipln_returns \u001b[0m\n",
       "     │\u001b[90m Date       \u001b[0m\u001b[90m Float64         \u001b[0m\n",
       "─────┼─────────────────────────────\n",
       "   1 │ 2001-01-31      0.0131331\n",
       "   2 │ 2001-02-28     -0.0985705\n",
       "   3 │ 2001-03-30     -0.0570859\n",
       "   4 │ 2001-04-30      0.0379882\n",
       "   5 │ 2001-05-31     -0.00663584\n",
       "   6 │ 2001-06-29     -0.0252768\n",
       "   7 │ 2001-07-31      0.0441707\n",
       "   8 │ 2001-08-31     -0.0513603\n",
       "  ⋮  │     ⋮              ⋮\n",
       " 274 │ 2023-10-31     -0.066645\n",
       " 275 │ 2023-11-30      0.0356999\n",
       " 276 │ 2023-12-29      0.0310713\n",
       " 277 │ 2024-01-31      0.0233511\n",
       " 278 │ 2024-02-29      0.0394925\n",
       " 279 │ 2024-03-29      0.0298368\n",
       " 280 │ 2024-04-30     -0.0153183\n",
       "\u001b[36m                   265 rows omitted\u001b[0m"
      ]
     },
     "metadata": {},
     "output_type": "display_data"
    }
   ],
   "source": [
    "returns = log.(data.acwi_pln[2:end]./data.acwi_pln[1:end-1])\n",
    "returns = DataFrame([data.date[2:end],returns],[:date,:acwipln_returns,])\n"
   ]
  },
  {
   "cell_type": "code",
   "execution_count": 311,
   "metadata": {},
   "outputs": [
    {
     "name": "stdout",
     "output_type": "stream",
     "text": [
      "Summary Stats:\n",
      "Length:         280\n",
      "Missing Count:  0\n",
      "Mean:           0.004948\n",
      "Std. Deviation: 0.037267\n",
      "Minimum:        -0.111985\n",
      "1st Quartile:   -0.015893\n",
      "Median:         0.007448\n",
      "3rd Quartile:   0.029379\n",
      "Maximum:        0.105947\n",
      "Type:           Float64\n"
     ]
    }
   ],
   "source": [
    "describe(returns[:,:acwipln_returns])"
   ]
  },
  {
   "cell_type": "code",
   "execution_count": 312,
   "metadata": {},
   "outputs": [
    {
     "data": {
      "text/html": [
       "<div><div style = \"float: left;\"><span>1×7 DataFrame</span></div><div style = \"clear: both;\"></div></div><div class = \"data-frame\" style = \"overflow-x: scroll;\"><table class = \"data-frame\" style = \"margin-bottom: 6px;\"><thead><tr class = \"header\"><th class = \"rowNumber\" style = \"font-weight: bold; text-align: right;\">Row</th><th style = \"text-align: left;\">loglikehood</th><th style = \"text-align: left;\">mu1</th><th style = \"text-align: left;\">mu2</th><th style = \"text-align: left;\">p11</th><th style = \"text-align: left;\">p21</th><th style = \"text-align: left;\">sig1</th><th style = \"text-align: left;\">sig2</th></tr><tr class = \"subheader headerLastRow\"><th class = \"rowNumber\" style = \"font-weight: bold; text-align: right;\"></th><th title = \"Float64\" style = \"text-align: left;\">Float64</th><th title = \"Float64\" style = \"text-align: left;\">Float64</th><th title = \"Float64\" style = \"text-align: left;\">Float64</th><th title = \"Float64\" style = \"text-align: left;\">Float64</th><th title = \"Float64\" style = \"text-align: left;\">Float64</th><th title = \"Float64\" style = \"text-align: left;\">Float64</th><th title = \"Float64\" style = \"text-align: left;\">Float64</th></tr></thead><tbody><tr><td class = \"rowNumber\" style = \"font-weight: bold; text-align: right;\">1</td><td style = \"text-align: right;\">545.577</td><td style = \"text-align: right;\">0.141836</td><td style = \"text-align: right;\">-0.149567</td><td style = \"text-align: right;\">0.959028</td><td style = \"text-align: right;\">0.115111</td><td style = \"text-align: right;\">0.0912319</td><td style = \"text-align: right;\">0.180332</td></tr></tbody></table></div>"
      ],
      "text/latex": [
       "\\begin{tabular}{r|ccccccc}\n",
       "\t& loglikehood & mu1 & mu2 & p11 & p21 & sig1 & sig2\\\\\n",
       "\t\\hline\n",
       "\t& Float64 & Float64 & Float64 & Float64 & Float64 & Float64 & Float64\\\\\n",
       "\t\\hline\n",
       "\t1 & 545.577 & 0.141836 & -0.149567 & 0.959028 & 0.115111 & 0.0912319 & 0.180332 \\\\\n",
       "\\end{tabular}\n"
      ],
      "text/plain": [
       "\u001b[1m1×7 DataFrame\u001b[0m\n",
       "\u001b[1m Row \u001b[0m│\u001b[1m loglikehood \u001b[0m\u001b[1m mu1      \u001b[0m\u001b[1m mu2       \u001b[0m\u001b[1m p11      \u001b[0m\u001b[1m p21      \u001b[0m\u001b[1m sig1      \u001b[0m\u001b[1m sig2  \u001b[0m ⋯\n",
       "     │\u001b[90m Float64     \u001b[0m\u001b[90m Float64  \u001b[0m\u001b[90m Float64   \u001b[0m\u001b[90m Float64  \u001b[0m\u001b[90m Float64  \u001b[0m\u001b[90m Float64   \u001b[0m\u001b[90m Float6\u001b[0m ⋯\n",
       "─────┼──────────────────────────────────────────────────────────────────────────\n",
       "   1 │     545.577  0.141836  -0.149567  0.959028  0.115111  0.0912319  0.1803 ⋯\n",
       "\u001b[36m                                                                1 column omitted\u001b[0m"
      ]
     },
     "metadata": {},
     "output_type": "display_data"
    }
   ],
   "source": [
    "init_guess = [0.5, 0.5]\n",
    "trans_guess = [0.8 0.2; 0.1 0.9]\n",
    "dists_guess = [Normal(0.014,  0.0231), Normal(-0.0037, 0.0563)]\n",
    "hmm_guess = HMM(init_guess, trans_guess, dists_guess); \n",
    "\n",
    "hmm_est, loglikelihood_evolution = baum_welch(hmm_guess, returns[:,:acwipln_returns]);\n",
    "regime_summary(loglikelihood_evolution,hmm_est,12)"
   ]
  },
  {
   "cell_type": "code",
   "execution_count": 313,
   "metadata": {},
   "outputs": [
    {
     "data": {
      "text/plain": [
       "2-element Vector{Float64}:\n",
       " 2.176047869377171e-20\n",
       " 1.0"
      ]
     },
     "metadata": {},
     "output_type": "display_data"
    }
   ],
   "source": [
    "initialization(hmm_est)"
   ]
  },
  {
   "cell_type": "code",
   "execution_count": 314,
   "metadata": {},
   "outputs": [
    {
     "data": {
      "text/plain": [
       "547.0177325949245"
      ]
     },
     "metadata": {},
     "output_type": "display_data"
    }
   ],
   "source": [
    "init_guess = [0.4, 0.3,0.3]\n",
    "trans_guess = [0.9 0.05 0.05; 0.05 0.9 0.05; 0.05 0.05 0.9]\n",
    "dists_guess = [Normal(0.02,  0.0231), Normal(-0.0047, 0.0563),Normal(-0.01, 0.0363)]\n",
    "hmm_guess = HMM(init_guess, trans_guess, dists_guess); \n",
    "\n",
    "hmm_est, loglikelihood_evolution = baum_welch(hmm_guess, returns[:,:acwipln_returns]);\n",
    "last(loglikelihood_evolution)"
   ]
  },
  {
   "cell_type": "code",
   "execution_count": 315,
   "metadata": {},
   "outputs": [
    {
     "data": {
      "text/plain": [
       "3×3 Matrix{Float64}:\n",
       " 0.894816  1.70974e-5  0.105167\n",
       " 0.116467  0.883533    1.31627e-9\n",
       " 0.33138   0.270612    0.398008"
      ]
     },
     "metadata": {},
     "output_type": "display_data"
    }
   ],
   "source": [
    "transition_matrix(hmm_est)"
   ]
  },
  {
   "cell_type": "code",
   "execution_count": 316,
   "metadata": {},
   "outputs": [
    {
     "data": {
      "text/plain": [
       "3-element Vector{Normal{Float64}}:\n",
       " Normal{Float64}(μ=0.014372111229546377, σ=0.026733722881122315)\n",
       " Normal{Float64}(μ=-0.013085639896953175, σ=0.052501623626126794)\n",
       " Normal{Float64}(μ=-0.0028442204765647973, σ=0.01684757321985796)"
      ]
     },
     "metadata": {},
     "output_type": "display_data"
    }
   ],
   "source": [
    "dist = obs_distributions(hmm_est)"
   ]
  },
  {
   "cell_type": "code",
   "execution_count": 317,
   "metadata": {},
   "outputs": [
    {
     "name": "stdout",
     "output_type": "stream",
     "text": [
      "regime 1\n",
      "0.17246533475455653\n",
      "0.09260833261114096\n",
      "regime 2\n",
      "-0.1570276787634381\n",
      "0.1818709592006203\n",
      "regime 3\n",
      "-0.034130645718777566\n",
      "0.05836170560206153\n"
     ]
    }
   ],
   "source": [
    "println(\"regime 1\")\n",
    "println(mean(obs_distributions(hmm_est)[1])*12)\n",
    "println(std(obs_distributions(hmm_est)[1])* 12^0.5)\n",
    "println(\"regime 2\")\n",
    "println(mean(obs_distributions(hmm_est)[2])*12)\n",
    "println(std(obs_distributions(hmm_est)[2])* 12^0.5)\n",
    "println(\"regime 3\")\n",
    "println(mean(obs_distributions(hmm_est)[3])*12)\n",
    "println(std(obs_distributions(hmm_est)[3])* 12^0.5)"
   ]
  },
  {
   "cell_type": "code",
   "execution_count": 318,
   "metadata": {},
   "outputs": [
    {
     "data": {
      "text/html": [
       "<div><div style = \"float: left;\"><span>256×2 DataFrame</span></div><div style = \"float: right;\"><span style = \"font-style: italic;\">231 rows omitted</span></div><div style = \"clear: both;\"></div></div><div class = \"data-frame\" style = \"overflow-x: scroll;\"><table class = \"data-frame\" style = \"margin-bottom: 6px;\"><thead><tr class = \"header\"><th class = \"rowNumber\" style = \"font-weight: bold; text-align: right;\">Row</th><th style = \"text-align: left;\">date</th><th style = \"text-align: left;\">acwipln_returns</th></tr><tr class = \"subheader headerLastRow\"><th class = \"rowNumber\" style = \"font-weight: bold; text-align: right;\"></th><th title = \"Date\" style = \"text-align: left;\">Date</th><th title = \"Float64\" style = \"text-align: left;\">Float64</th></tr></thead><tbody><tr><td class = \"rowNumber\" style = \"font-weight: bold; text-align: right;\">1</td><td style = \"text-align: left;\">2003-01-31</td><td style = \"text-align: right;\">-0.0317079</td></tr><tr><td class = \"rowNumber\" style = \"font-weight: bold; text-align: right;\">2</td><td style = \"text-align: left;\">2003-02-28</td><td style = \"text-align: right;\">0.00510341</td></tr><tr><td class = \"rowNumber\" style = \"font-weight: bold; text-align: right;\">3</td><td style = \"text-align: left;\">2003-03-31</td><td style = \"text-align: right;\">0.043069</td></tr><tr><td class = \"rowNumber\" style = \"font-weight: bold; text-align: right;\">4</td><td style = \"text-align: left;\">2003-04-30</td><td style = \"text-align: right;\">0.0118411</td></tr><tr><td class = \"rowNumber\" style = \"font-weight: bold; text-align: right;\">5</td><td style = \"text-align: left;\">2003-05-30</td><td style = \"text-align: right;\">0.0300992</td></tr><tr><td class = \"rowNumber\" style = \"font-weight: bold; text-align: right;\">6</td><td style = \"text-align: left;\">2003-06-30</td><td style = \"text-align: right;\">0.0670024</td></tr><tr><td class = \"rowNumber\" style = \"font-weight: bold; text-align: right;\">7</td><td style = \"text-align: left;\">2003-07-31</td><td style = \"text-align: right;\">0.0132941</td></tr><tr><td class = \"rowNumber\" style = \"font-weight: bold; text-align: right;\">8</td><td style = \"text-align: left;\">2003-08-29</td><td style = \"text-align: right;\">0.0495565</td></tr><tr><td class = \"rowNumber\" style = \"font-weight: bold; text-align: right;\">9</td><td style = \"text-align: left;\">2003-09-30</td><td style = \"text-align: right;\">0.000195124</td></tr><tr><td class = \"rowNumber\" style = \"font-weight: bold; text-align: right;\">10</td><td style = \"text-align: left;\">2003-10-31</td><td style = \"text-align: right;\">0.0782452</td></tr><tr><td class = \"rowNumber\" style = \"font-weight: bold; text-align: right;\">11</td><td style = \"text-align: left;\">2003-11-28</td><td style = \"text-align: right;\">-0.0161731</td></tr><tr><td class = \"rowNumber\" style = \"font-weight: bold; text-align: right;\">12</td><td style = \"text-align: left;\">2003-12-31</td><td style = \"text-align: right;\">0.0148535</td></tr><tr><td class = \"rowNumber\" style = \"font-weight: bold; text-align: right;\">13</td><td style = \"text-align: left;\">2004-01-30</td><td style = \"text-align: right;\">0.0519845</td></tr><tr><td style = \"text-align: right;\">&vellip;</td><td style = \"text-align: right;\">&vellip;</td><td style = \"text-align: right;\">&vellip;</td></tr><tr><td class = \"rowNumber\" style = \"font-weight: bold; text-align: right;\">245</td><td style = \"text-align: left;\">2023-05-31</td><td style = \"text-align: right;\">0.00790439</td></tr><tr><td class = \"rowNumber\" style = \"font-weight: bold; text-align: right;\">246</td><td style = \"text-align: left;\">2023-06-30</td><td style = \"text-align: right;\">0.0141975</td></tr><tr><td class = \"rowNumber\" style = \"font-weight: bold; text-align: right;\">247</td><td style = \"text-align: left;\">2023-07-31</td><td style = \"text-align: right;\">0.0208096</td></tr><tr><td class = \"rowNumber\" style = \"font-weight: bold; text-align: right;\">248</td><td style = \"text-align: left;\">2023-08-31</td><td style = \"text-align: right;\">0.000986587</td></tr><tr><td class = \"rowNumber\" style = \"font-weight: bold; text-align: right;\">249</td><td style = \"text-align: left;\">2023-09-29</td><td style = \"text-align: right;\">0.0154043</td></tr><tr><td class = \"rowNumber\" style = \"font-weight: bold; text-align: right;\">250</td><td style = \"text-align: left;\">2023-10-31</td><td style = \"text-align: right;\">-0.066645</td></tr><tr><td class = \"rowNumber\" style = \"font-weight: bold; text-align: right;\">251</td><td style = \"text-align: left;\">2023-11-30</td><td style = \"text-align: right;\">0.0356999</td></tr><tr><td class = \"rowNumber\" style = \"font-weight: bold; text-align: right;\">252</td><td style = \"text-align: left;\">2023-12-29</td><td style = \"text-align: right;\">0.0310713</td></tr><tr><td class = \"rowNumber\" style = \"font-weight: bold; text-align: right;\">253</td><td style = \"text-align: left;\">2024-01-31</td><td style = \"text-align: right;\">0.0233511</td></tr><tr><td class = \"rowNumber\" style = \"font-weight: bold; text-align: right;\">254</td><td style = \"text-align: left;\">2024-02-29</td><td style = \"text-align: right;\">0.0394925</td></tr><tr><td class = \"rowNumber\" style = \"font-weight: bold; text-align: right;\">255</td><td style = \"text-align: left;\">2024-03-29</td><td style = \"text-align: right;\">0.0298368</td></tr><tr><td class = \"rowNumber\" style = \"font-weight: bold; text-align: right;\">256</td><td style = \"text-align: left;\">2024-04-30</td><td style = \"text-align: right;\">-0.0153183</td></tr></tbody></table></div>"
      ],
      "text/latex": [
       "\\begin{tabular}{r|cc}\n",
       "\t& date & acwipln\\_returns\\\\\n",
       "\t\\hline\n",
       "\t& Date & Float64\\\\\n",
       "\t\\hline\n",
       "\t1 & 2003-01-31 & -0.0317079 \\\\\n",
       "\t2 & 2003-02-28 & 0.00510341 \\\\\n",
       "\t3 & 2003-03-31 & 0.043069 \\\\\n",
       "\t4 & 2003-04-30 & 0.0118411 \\\\\n",
       "\t5 & 2003-05-30 & 0.0300992 \\\\\n",
       "\t6 & 2003-06-30 & 0.0670024 \\\\\n",
       "\t7 & 2003-07-31 & 0.0132941 \\\\\n",
       "\t8 & 2003-08-29 & 0.0495565 \\\\\n",
       "\t9 & 2003-09-30 & 0.000195124 \\\\\n",
       "\t10 & 2003-10-31 & 0.0782452 \\\\\n",
       "\t11 & 2003-11-28 & -0.0161731 \\\\\n",
       "\t12 & 2003-12-31 & 0.0148535 \\\\\n",
       "\t13 & 2004-01-30 & 0.0519845 \\\\\n",
       "\t14 & 2004-02-27 & 0.0357603 \\\\\n",
       "\t15 & 2004-03-31 & -0.0221064 \\\\\n",
       "\t16 & 2004-04-30 & 0.0144378 \\\\\n",
       "\t17 & 2004-05-31 & -0.0431261 \\\\\n",
       "\t18 & 2004-06-30 & -0.0127339 \\\\\n",
       "\t19 & 2004-07-30 & -0.0493159 \\\\\n",
       "\t20 & 2004-08-31 & 0.011456 \\\\\n",
       "\t21 & 2004-09-30 & -0.0195314 \\\\\n",
       "\t22 & 2004-10-29 & -0.012091 \\\\\n",
       "\t23 & 2004-11-30 & -0.0179799 \\\\\n",
       "\t24 & 2004-12-31 & -0.011697 \\\\\n",
       "\t$\\dots$ & $\\dots$ & $\\dots$ \\\\\n",
       "\\end{tabular}\n"
      ],
      "text/plain": [
       "\u001b[1m256×2 DataFrame\u001b[0m\n",
       "\u001b[1m Row \u001b[0m│\u001b[1m date       \u001b[0m\u001b[1m acwipln_returns \u001b[0m\n",
       "     │\u001b[90m Date       \u001b[0m\u001b[90m Float64         \u001b[0m\n",
       "─────┼─────────────────────────────\n",
       "   1 │ 2003-01-31     -0.0317079\n",
       "   2 │ 2003-02-28      0.00510341\n",
       "   3 │ 2003-03-31      0.043069\n",
       "   4 │ 2003-04-30      0.0118411\n",
       "   5 │ 2003-05-30      0.0300992\n",
       "   6 │ 2003-06-30      0.0670024\n",
       "   7 │ 2003-07-31      0.0132941\n",
       "   8 │ 2003-08-29      0.0495565\n",
       "  ⋮  │     ⋮              ⋮\n",
       " 250 │ 2023-10-31     -0.066645\n",
       " 251 │ 2023-11-30      0.0356999\n",
       " 252 │ 2023-12-29      0.0310713\n",
       " 253 │ 2024-01-31      0.0233511\n",
       " 254 │ 2024-02-29      0.0394925\n",
       " 255 │ 2024-03-29      0.0298368\n",
       " 256 │ 2024-04-30     -0.0153183\n",
       "\u001b[36m                   241 rows omitted\u001b[0m"
      ]
     },
     "metadata": {},
     "output_type": "display_data"
    }
   ],
   "source": [
    "short = filter(row -> row.date >= Date(2003,01,01),returns)"
   ]
  },
  {
   "cell_type": "code",
   "execution_count": 319,
   "metadata": {},
   "outputs": [
    {
     "data": {
      "text/html": [
       "<div><div style = \"float: left;\"><span>1×7 DataFrame</span></div><div style = \"clear: both;\"></div></div><div class = \"data-frame\" style = \"overflow-x: scroll;\"><table class = \"data-frame\" style = \"margin-bottom: 6px;\"><thead><tr class = \"header\"><th class = \"rowNumber\" style = \"font-weight: bold; text-align: right;\">Row</th><th style = \"text-align: left;\">loglikehood</th><th style = \"text-align: left;\">mu1</th><th style = \"text-align: left;\">mu2</th><th style = \"text-align: left;\">p11</th><th style = \"text-align: left;\">p21</th><th style = \"text-align: left;\">sig1</th><th style = \"text-align: left;\">sig2</th></tr><tr class = \"subheader headerLastRow\"><th class = \"rowNumber\" style = \"font-weight: bold; text-align: right;\"></th><th title = \"Float64\" style = \"text-align: left;\">Float64</th><th title = \"Float64\" style = \"text-align: left;\">Float64</th><th title = \"Float64\" style = \"text-align: left;\">Float64</th><th title = \"Float64\" style = \"text-align: left;\">Float64</th><th title = \"Float64\" style = \"text-align: left;\">Float64</th><th title = \"Float64\" style = \"text-align: left;\">Float64</th><th title = \"Float64\" style = \"text-align: left;\">Float64</th></tr></thead><tbody><tr><td class = \"rowNumber\" style = \"font-weight: bold; text-align: right;\">1</td><td style = \"text-align: right;\">511.173</td><td style = \"text-align: right;\">0.138062</td><td style = \"text-align: right;\">-0.097021</td><td style = \"text-align: right;\">0.960855</td><td style = \"text-align: right;\">0.1387</td><td style = \"text-align: right;\">0.0915307</td><td style = \"text-align: right;\">0.181959</td></tr></tbody></table></div>"
      ],
      "text/latex": [
       "\\begin{tabular}{r|ccccccc}\n",
       "\t& loglikehood & mu1 & mu2 & p11 & p21 & sig1 & sig2\\\\\n",
       "\t\\hline\n",
       "\t& Float64 & Float64 & Float64 & Float64 & Float64 & Float64 & Float64\\\\\n",
       "\t\\hline\n",
       "\t1 & 511.173 & 0.138062 & -0.097021 & 0.960855 & 0.1387 & 0.0915307 & 0.181959 \\\\\n",
       "\\end{tabular}\n"
      ],
      "text/plain": [
       "\u001b[1m1×7 DataFrame\u001b[0m\n",
       "\u001b[1m Row \u001b[0m│\u001b[1m loglikehood \u001b[0m\u001b[1m mu1      \u001b[0m\u001b[1m mu2       \u001b[0m\u001b[1m p11      \u001b[0m\u001b[1m p21     \u001b[0m\u001b[1m sig1      \u001b[0m\u001b[1m sig2   \u001b[0m ⋯\n",
       "     │\u001b[90m Float64     \u001b[0m\u001b[90m Float64  \u001b[0m\u001b[90m Float64   \u001b[0m\u001b[90m Float64  \u001b[0m\u001b[90m Float64 \u001b[0m\u001b[90m Float64   \u001b[0m\u001b[90m Float64\u001b[0m ⋯\n",
       "─────┼──────────────────────────────────────────────────────────────────────────\n",
       "   1 │     511.173  0.138062  -0.097021  0.960855   0.1387  0.0915307  0.18195 ⋯\n",
       "\u001b[36m                                                                1 column omitted\u001b[0m"
      ]
     },
     "metadata": {},
     "output_type": "display_data"
    }
   ],
   "source": [
    "init_guess = [0.5, 0.5]\n",
    "trans_guess = [0.9 0.1; 0.1 0.9]\n",
    "dists_guess = [Normal(0.014,  0.0231), Normal(-0.0037, 0.0563)]\n",
    "hmm_guess = HMM(init_guess, trans_guess, dists_guess); \n",
    "\n",
    "hmm_est, loglikelihood_evolution = baum_welch(hmm_guess, short[:,:acwipln_returns]);\n",
    "regime_summary(loglikelihood_evolution,hmm_est,12)"
   ]
  },
  {
   "cell_type": "code",
   "execution_count": 320,
   "metadata": {},
   "outputs": [
    {
     "data": {
      "text/plain": [
       "256-element Vector{Int64}:\n",
       " 1\n",
       " 1\n",
       " 1\n",
       " 1\n",
       " 1\n",
       " 1\n",
       " 1\n",
       " 1\n",
       " 1\n",
       " 1\n",
       " ⋮\n",
       " 1\n",
       " 1\n",
       " 1\n",
       " 1\n",
       " 1\n",
       " 1\n",
       " 1\n",
       " 1\n",
       " 1"
      ]
     },
     "metadata": {},
     "output_type": "display_data"
    }
   ],
   "source": [
    "best_state_seq, best_joint_loglikelihood = viterbi(hmm_est, short[:,:acwipln_returns]);\n",
    "short.states = best_state_seq"
   ]
  },
  {
   "cell_type": "code",
   "execution_count": 321,
   "metadata": {},
   "outputs": [
    {
     "data": {
      "text/html": [
       "<div><div style = \"float: left;\"><span>29×3 DataFrame</span></div><div style = \"float: right;\"><span style = \"font-style: italic;\">4 rows omitted</span></div><div style = \"clear: both;\"></div></div><div class = \"data-frame\" style = \"overflow-x: scroll;\"><table class = \"data-frame\" style = \"margin-bottom: 6px;\"><thead><tr class = \"header\"><th class = \"rowNumber\" style = \"font-weight: bold; text-align: right;\">Row</th><th style = \"text-align: left;\">date</th><th style = \"text-align: left;\">acwipln_returns</th><th style = \"text-align: left;\">states</th></tr><tr class = \"subheader headerLastRow\"><th class = \"rowNumber\" style = \"font-weight: bold; text-align: right;\"></th><th title = \"Date\" style = \"text-align: left;\">Date</th><th title = \"Float64\" style = \"text-align: left;\">Float64</th><th title = \"Int64\" style = \"text-align: left;\">Int64</th></tr></thead><tbody><tr><td class = \"rowNumber\" style = \"font-weight: bold; text-align: right;\">1</td><td style = \"text-align: left;\">2007-04-30</td><td style = \"text-align: right;\">0.00330561</td><td style = \"text-align: right;\">1</td></tr><tr><td class = \"rowNumber\" style = \"font-weight: bold; text-align: right;\">2</td><td style = \"text-align: left;\">2007-05-31</td><td style = \"text-align: right;\">0.0520554</td><td style = \"text-align: right;\">1</td></tr><tr><td class = \"rowNumber\" style = \"font-weight: bold; text-align: right;\">3</td><td style = \"text-align: left;\">2007-06-29</td><td style = \"text-align: right;\">-0.0209173</td><td style = \"text-align: right;\">1</td></tr><tr><td class = \"rowNumber\" style = \"font-weight: bold; text-align: right;\">4</td><td style = \"text-align: left;\">2007-07-31</td><td style = \"text-align: right;\">-0.0220523</td><td style = \"text-align: right;\">1</td></tr><tr><td class = \"rowNumber\" style = \"font-weight: bold; text-align: right;\">5</td><td style = \"text-align: left;\">2007-08-31</td><td style = \"text-align: right;\">0.011298</td><td style = \"text-align: right;\">1</td></tr><tr><td class = \"rowNumber\" style = \"font-weight: bold; text-align: right;\">6</td><td style = \"text-align: left;\">2007-09-28</td><td style = \"text-align: right;\">-0.00506192</td><td style = \"text-align: right;\">1</td></tr><tr><td class = \"rowNumber\" style = \"font-weight: bold; text-align: right;\">7</td><td style = \"text-align: left;\">2007-10-31</td><td style = \"text-align: right;\">-0.0166148</td><td style = \"text-align: right;\">1</td></tr><tr><td class = \"rowNumber\" style = \"font-weight: bold; text-align: right;\">8</td><td style = \"text-align: left;\">2007-11-30</td><td style = \"text-align: right;\">-0.0658468</td><td style = \"text-align: right;\">2</td></tr><tr><td class = \"rowNumber\" style = \"font-weight: bold; text-align: right;\">9</td><td style = \"text-align: left;\">2007-12-31</td><td style = \"text-align: right;\">-0.0153325</td><td style = \"text-align: right;\">2</td></tr><tr><td class = \"rowNumber\" style = \"font-weight: bold; text-align: right;\">10</td><td style = \"text-align: left;\">2008-01-31</td><td style = \"text-align: right;\">-0.0917286</td><td style = \"text-align: right;\">2</td></tr><tr><td class = \"rowNumber\" style = \"font-weight: bold; text-align: right;\">11</td><td style = \"text-align: left;\">2008-02-29</td><td style = \"text-align: right;\">-0.0473161</td><td style = \"text-align: right;\">2</td></tr><tr><td class = \"rowNumber\" style = \"font-weight: bold; text-align: right;\">12</td><td style = \"text-align: left;\">2008-03-31</td><td style = \"text-align: right;\">-0.0525496</td><td style = \"text-align: right;\">2</td></tr><tr><td class = \"rowNumber\" style = \"font-weight: bold; text-align: right;\">13</td><td style = \"text-align: left;\">2008-04-30</td><td style = \"text-align: right;\">0.0491547</td><td style = \"text-align: right;\">2</td></tr><tr><td style = \"text-align: right;\">&vellip;</td><td style = \"text-align: right;\">&vellip;</td><td style = \"text-align: right;\">&vellip;</td><td style = \"text-align: right;\">&vellip;</td></tr><tr><td class = \"rowNumber\" style = \"font-weight: bold; text-align: right;\">18</td><td style = \"text-align: left;\">2008-09-30</td><td style = \"text-align: right;\">-0.0729836</td><td style = \"text-align: right;\">2</td></tr><tr><td class = \"rowNumber\" style = \"font-weight: bold; text-align: right;\">19</td><td style = \"text-align: left;\">2008-10-31</td><td style = \"text-align: right;\">-0.0898618</td><td style = \"text-align: right;\">2</td></tr><tr><td class = \"rowNumber\" style = \"font-weight: bold; text-align: right;\">20</td><td style = \"text-align: left;\">2008-11-28</td><td style = \"text-align: right;\">0.00808638</td><td style = \"text-align: right;\">2</td></tr><tr><td class = \"rowNumber\" style = \"font-weight: bold; text-align: right;\">21</td><td style = \"text-align: left;\">2008-12-31</td><td style = \"text-align: right;\">0.0242645</td><td style = \"text-align: right;\">2</td></tr><tr><td class = \"rowNumber\" style = \"font-weight: bold; text-align: right;\">22</td><td style = \"text-align: left;\">2009-01-30</td><td style = \"text-align: right;\">0.0771855</td><td style = \"text-align: right;\">2</td></tr><tr><td class = \"rowNumber\" style = \"font-weight: bold; text-align: right;\">23</td><td style = \"text-align: left;\">2009-02-27</td><td style = \"text-align: right;\">-0.0502352</td><td style = \"text-align: right;\">2</td></tr><tr><td class = \"rowNumber\" style = \"font-weight: bold; text-align: right;\">24</td><td style = \"text-align: left;\">2009-03-31</td><td style = \"text-align: right;\">0.0387448</td><td style = \"text-align: right;\">1</td></tr><tr><td class = \"rowNumber\" style = \"font-weight: bold; text-align: right;\">25</td><td style = \"text-align: left;\">2009-04-30</td><td style = \"text-align: right;\">0.0624721</td><td style = \"text-align: right;\">1</td></tr><tr><td class = \"rowNumber\" style = \"font-weight: bold; text-align: right;\">26</td><td style = \"text-align: left;\">2009-05-29</td><td style = \"text-align: right;\">0.0482636</td><td style = \"text-align: right;\">1</td></tr><tr><td class = \"rowNumber\" style = \"font-weight: bold; text-align: right;\">27</td><td style = \"text-align: left;\">2009-06-30</td><td style = \"text-align: right;\">-0.0121588</td><td style = \"text-align: right;\">1</td></tr><tr><td class = \"rowNumber\" style = \"font-weight: bold; text-align: right;\">28</td><td style = \"text-align: left;\">2009-07-31</td><td style = \"text-align: right;\">-0.00256426</td><td style = \"text-align: right;\">1</td></tr><tr><td class = \"rowNumber\" style = \"font-weight: bold; text-align: right;\">29</td><td style = \"text-align: left;\">2009-08-31</td><td style = \"text-align: right;\">0.0159395</td><td style = \"text-align: right;\">1</td></tr></tbody></table></div>"
      ],
      "text/latex": [
       "\\begin{tabular}{r|ccc}\n",
       "\t& date & acwipln\\_returns & states\\\\\n",
       "\t\\hline\n",
       "\t& Date & Float64 & Int64\\\\\n",
       "\t\\hline\n",
       "\t1 & 2007-04-30 & 0.00330561 & 1 \\\\\n",
       "\t2 & 2007-05-31 & 0.0520554 & 1 \\\\\n",
       "\t3 & 2007-06-29 & -0.0209173 & 1 \\\\\n",
       "\t4 & 2007-07-31 & -0.0220523 & 1 \\\\\n",
       "\t5 & 2007-08-31 & 0.011298 & 1 \\\\\n",
       "\t6 & 2007-09-28 & -0.00506192 & 1 \\\\\n",
       "\t7 & 2007-10-31 & -0.0166148 & 1 \\\\\n",
       "\t8 & 2007-11-30 & -0.0658468 & 2 \\\\\n",
       "\t9 & 2007-12-31 & -0.0153325 & 2 \\\\\n",
       "\t10 & 2008-01-31 & -0.0917286 & 2 \\\\\n",
       "\t11 & 2008-02-29 & -0.0473161 & 2 \\\\\n",
       "\t12 & 2008-03-31 & -0.0525496 & 2 \\\\\n",
       "\t13 & 2008-04-30 & 0.0491547 & 2 \\\\\n",
       "\t14 & 2008-05-30 & -0.0057528 & 2 \\\\\n",
       "\t15 & 2008-06-30 & -0.10397 & 2 \\\\\n",
       "\t16 & 2008-07-31 & -0.0592532 & 2 \\\\\n",
       "\t17 & 2008-08-29 & 0.0769873 & 2 \\\\\n",
       "\t18 & 2008-09-30 & -0.0729836 & 2 \\\\\n",
       "\t19 & 2008-10-31 & -0.0898618 & 2 \\\\\n",
       "\t20 & 2008-11-28 & 0.00808638 & 2 \\\\\n",
       "\t21 & 2008-12-31 & 0.0242645 & 2 \\\\\n",
       "\t22 & 2009-01-30 & 0.0771855 & 2 \\\\\n",
       "\t23 & 2009-02-27 & -0.0502352 & 2 \\\\\n",
       "\t24 & 2009-03-31 & 0.0387448 & 1 \\\\\n",
       "\t$\\dots$ & $\\dots$ & $\\dots$ & $\\dots$ \\\\\n",
       "\\end{tabular}\n"
      ],
      "text/plain": [
       "\u001b[1m29×3 DataFrame\u001b[0m\n",
       "\u001b[1m Row \u001b[0m│\u001b[1m date       \u001b[0m\u001b[1m acwipln_returns \u001b[0m\u001b[1m states \u001b[0m\n",
       "     │\u001b[90m Date       \u001b[0m\u001b[90m Float64         \u001b[0m\u001b[90m Int64  \u001b[0m\n",
       "─────┼─────────────────────────────────────\n",
       "   1 │ 2007-04-30       0.00330561       1\n",
       "   2 │ 2007-05-31       0.0520554        1\n",
       "   3 │ 2007-06-29      -0.0209173        1\n",
       "   4 │ 2007-07-31      -0.0220523        1\n",
       "   5 │ 2007-08-31       0.011298         1\n",
       "   6 │ 2007-09-28      -0.00506192       1\n",
       "   7 │ 2007-10-31      -0.0166148        1\n",
       "   8 │ 2007-11-30      -0.0658468        2\n",
       "  ⋮  │     ⋮              ⋮           ⋮\n",
       "  23 │ 2009-02-27      -0.0502352        2\n",
       "  24 │ 2009-03-31       0.0387448        1\n",
       "  25 │ 2009-04-30       0.0624721        1\n",
       "  26 │ 2009-05-29       0.0482636        1\n",
       "  27 │ 2009-06-30      -0.0121588        1\n",
       "  28 │ 2009-07-31      -0.00256426       1\n",
       "  29 │ 2009-08-31       0.0159395        1\n",
       "\u001b[36m                            14 rows omitted\u001b[0m"
      ]
     },
     "metadata": {},
     "output_type": "display_data"
    }
   ],
   "source": [
    "short[52:80,:]"
   ]
  },
  {
   "cell_type": "code",
   "execution_count": 322,
   "metadata": {},
   "outputs": [
    {
     "data": {
      "text/plain": [
       "256-element Vector{Int64}:\n",
       " 1\n",
       " 1\n",
       " 1\n",
       " 1\n",
       " 1\n",
       " 1\n",
       " 1\n",
       " 1\n",
       " 1\n",
       " 1\n",
       " ⋮\n",
       " 1\n",
       " 1\n",
       " 1\n",
       " 1\n",
       " 1\n",
       " 1\n",
       " 1\n",
       " 1\n",
       " 1"
      ]
     },
     "metadata": {},
     "output_type": "display_data"
    }
   ],
   "source": [
    "short.states = best_state_seq"
   ]
  },
  {
   "cell_type": "code",
   "execution_count": 323,
   "metadata": {},
   "outputs": [
    {
     "data": {
      "text/html": [
       "<div><div style = \"float: left;\"><span>281×2 DataFrame</span></div><div style = \"float: right;\"><span style = \"font-style: italic;\">256 rows omitted</span></div><div style = \"clear: both;\"></div></div><div class = \"data-frame\" style = \"overflow-x: scroll;\"><table class = \"data-frame\" style = \"margin-bottom: 6px;\"><thead><tr class = \"header\"><th class = \"rowNumber\" style = \"font-weight: bold; text-align: right;\">Row</th><th style = \"text-align: left;\">date</th><th style = \"text-align: left;\">acwi</th></tr><tr class = \"subheader headerLastRow\"><th class = \"rowNumber\" style = \"font-weight: bold; text-align: right;\"></th><th title = \"Date\" style = \"text-align: left;\">Date</th><th title = \"Float64\" style = \"text-align: left;\">Float64</th></tr></thead><tbody><tr><td class = \"rowNumber\" style = \"font-weight: bold; text-align: right;\">1</td><td style = \"text-align: left;\">1987-12-31</td><td style = \"text-align: right;\">100.0</td></tr><tr><td class = \"rowNumber\" style = \"font-weight: bold; text-align: right;\">2</td><td style = \"text-align: left;\">1988-01-29</td><td style = \"text-align: right;\">102.33</td></tr><tr><td class = \"rowNumber\" style = \"font-weight: bold; text-align: right;\">3</td><td style = \"text-align: left;\">1988-02-29</td><td style = \"text-align: right;\">108.073</td></tr><tr><td class = \"rowNumber\" style = \"font-weight: bold; text-align: right;\">4</td><td style = \"text-align: left;\">1988-03-31</td><td style = \"text-align: right;\">111.222</td></tr><tr><td class = \"rowNumber\" style = \"font-weight: bold; text-align: right;\">5</td><td style = \"text-align: left;\">1988-04-29</td><td style = \"text-align: right;\">112.448</td></tr><tr><td class = \"rowNumber\" style = \"font-weight: bold; text-align: right;\">6</td><td style = \"text-align: left;\">1988-05-31</td><td style = \"text-align: right;\">110.041</td></tr><tr><td class = \"rowNumber\" style = \"font-weight: bold; text-align: right;\">7</td><td style = \"text-align: left;\">1988-06-30</td><td style = \"text-align: right;\">109.746</td></tr><tr><td class = \"rowNumber\" style = \"font-weight: bold; text-align: right;\">8</td><td style = \"text-align: left;\">1988-07-29</td><td style = \"text-align: right;\">111.593</td></tr><tr><td class = \"rowNumber\" style = \"font-weight: bold; text-align: right;\">9</td><td style = \"text-align: left;\">1988-08-31</td><td style = \"text-align: right;\">105.278</td></tr><tr><td class = \"rowNumber\" style = \"font-weight: bold; text-align: right;\">10</td><td style = \"text-align: left;\">1988-09-30</td><td style = \"text-align: right;\">109.618</td></tr><tr><td class = \"rowNumber\" style = \"font-weight: bold; text-align: right;\">11</td><td style = \"text-align: left;\">1988-10-31</td><td style = \"text-align: right;\">116.601</td></tr><tr><td class = \"rowNumber\" style = \"font-weight: bold; text-align: right;\">12</td><td style = \"text-align: left;\">1988-11-30</td><td style = \"text-align: right;\">120.314</td></tr><tr><td class = \"rowNumber\" style = \"font-weight: bold; text-align: right;\">13</td><td style = \"text-align: left;\">1988-12-30</td><td style = \"text-align: right;\">121.202</td></tr><tr><td style = \"text-align: right;\">&vellip;</td><td style = \"text-align: right;\">&vellip;</td><td style = \"text-align: right;\">&vellip;</td></tr><tr><td class = \"rowNumber\" style = \"font-weight: bold; text-align: right;\">270</td><td style = \"text-align: left;\">2010-05-31</td><td style = \"text-align: right;\">277.173</td></tr><tr><td class = \"rowNumber\" style = \"font-weight: bold; text-align: right;\">271</td><td style = \"text-align: left;\">2010-06-30</td><td style = \"text-align: right;\">268.247</td></tr><tr><td class = \"rowNumber\" style = \"font-weight: bold; text-align: right;\">272</td><td style = \"text-align: left;\">2010-07-30</td><td style = \"text-align: right;\">289.751</td></tr><tr><td class = \"rowNumber\" style = \"font-weight: bold; text-align: right;\">273</td><td style = \"text-align: left;\">2010-08-31</td><td style = \"text-align: right;\">279.064</td></tr><tr><td class = \"rowNumber\" style = \"font-weight: bold; text-align: right;\">274</td><td style = \"text-align: left;\">2010-09-30</td><td style = \"text-align: right;\">305.164</td></tr><tr><td class = \"rowNumber\" style = \"font-weight: bold; text-align: right;\">275</td><td style = \"text-align: left;\">2010-10-29</td><td style = \"text-align: right;\">315.947</td></tr><tr><td class = \"rowNumber\" style = \"font-weight: bold; text-align: right;\">276</td><td style = \"text-align: left;\">2010-11-30</td><td style = \"text-align: right;\">308.381</td></tr><tr><td class = \"rowNumber\" style = \"font-weight: bold; text-align: right;\">277</td><td style = \"text-align: left;\">2010-12-31</td><td style = \"text-align: right;\">330.636</td></tr><tr><td class = \"rowNumber\" style = \"font-weight: bold; text-align: right;\">278</td><td style = \"text-align: left;\">2011-01-31</td><td style = \"text-align: right;\">335.581</td></tr><tr><td class = \"rowNumber\" style = \"font-weight: bold; text-align: right;\">279</td><td style = \"text-align: left;\">2011-02-28</td><td style = \"text-align: right;\">344.823</td></tr><tr><td class = \"rowNumber\" style = \"font-weight: bold; text-align: right;\">280</td><td style = \"text-align: left;\">2011-03-31</td><td style = \"text-align: right;\">343.64</td></tr><tr><td class = \"rowNumber\" style = \"font-weight: bold; text-align: right;\">281</td><td style = \"text-align: left;\">2011-04-29</td><td style = \"text-align: right;\">356.902</td></tr></tbody></table></div>"
      ],
      "text/latex": [
       "\\begin{tabular}{r|cc}\n",
       "\t& date & acwi\\\\\n",
       "\t\\hline\n",
       "\t& Date & Float64\\\\\n",
       "\t\\hline\n",
       "\t1 & 1987-12-31 & 100.0 \\\\\n",
       "\t2 & 1988-01-29 & 102.33 \\\\\n",
       "\t3 & 1988-02-29 & 108.073 \\\\\n",
       "\t4 & 1988-03-31 & 111.222 \\\\\n",
       "\t5 & 1988-04-29 & 112.448 \\\\\n",
       "\t6 & 1988-05-31 & 110.041 \\\\\n",
       "\t7 & 1988-06-30 & 109.746 \\\\\n",
       "\t8 & 1988-07-29 & 111.593 \\\\\n",
       "\t9 & 1988-08-31 & 105.278 \\\\\n",
       "\t10 & 1988-09-30 & 109.618 \\\\\n",
       "\t11 & 1988-10-31 & 116.601 \\\\\n",
       "\t12 & 1988-11-30 & 120.314 \\\\\n",
       "\t13 & 1988-12-30 & 121.202 \\\\\n",
       "\t14 & 1989-01-31 & 125.369 \\\\\n",
       "\t15 & 1989-02-28 & 124.408 \\\\\n",
       "\t16 & 1989-03-31 & 123.495 \\\\\n",
       "\t17 & 1989-04-28 & 126.365 \\\\\n",
       "\t18 & 1989-05-31 & 123.158 \\\\\n",
       "\t19 & 1989-06-30 & 121.227 \\\\\n",
       "\t20 & 1989-07-31 & 134.694 \\\\\n",
       "\t21 & 1989-08-31 & 131.299 \\\\\n",
       "\t22 & 1989-09-29 & 135.039 \\\\\n",
       "\t23 & 1989-10-31 & 130.458 \\\\\n",
       "\t24 & 1989-11-30 & 135.359 \\\\\n",
       "\t$\\dots$ & $\\dots$ & $\\dots$ \\\\\n",
       "\\end{tabular}\n"
      ],
      "text/plain": [
       "\u001b[1m281×2 DataFrame\u001b[0m\n",
       "\u001b[1m Row \u001b[0m│\u001b[1m date       \u001b[0m\u001b[1m acwi    \u001b[0m\n",
       "     │\u001b[90m Date       \u001b[0m\u001b[90m Float64 \u001b[0m\n",
       "─────┼─────────────────────\n",
       "   1 │ 1987-12-31  100.0\n",
       "   2 │ 1988-01-29  102.33\n",
       "   3 │ 1988-02-29  108.073\n",
       "   4 │ 1988-03-31  111.222\n",
       "   5 │ 1988-04-29  112.448\n",
       "   6 │ 1988-05-31  110.041\n",
       "   7 │ 1988-06-30  109.746\n",
       "   8 │ 1988-07-29  111.593\n",
       "  ⋮  │     ⋮          ⋮\n",
       " 275 │ 2010-10-29  315.947\n",
       " 276 │ 2010-11-30  308.381\n",
       " 277 │ 2010-12-31  330.636\n",
       " 278 │ 2011-01-31  335.581\n",
       " 279 │ 2011-02-28  344.823\n",
       " 280 │ 2011-03-31  343.64\n",
       " 281 │ 2011-04-29  356.902\n",
       "\u001b[36m           266 rows omitted\u001b[0m"
      ]
     },
     "metadata": {},
     "output_type": "display_data"
    }
   ],
   "source": [
    "acwi_long = DataFrame(XLSX.readdata(\"acwi_15.05.24.xlsx\",\"price!A8:B288\"), [:date,:acwi])\n",
    "acwi_long.date = Date.(acwi_long.date,dateformat\"u dd, yyyy\") \n",
    "acwi_long.acwi = parse.(Float64,string.(acwi_long.acwi))\n",
    "acwi_long"
   ]
  },
  {
   "cell_type": "code",
   "execution_count": 324,
   "metadata": {},
   "outputs": [
    {
     "data": {
      "text/html": [
       "<div><div style = \"float: left;\"><span>280×2 DataFrame</span></div><div style = \"float: right;\"><span style = \"font-style: italic;\">255 rows omitted</span></div><div style = \"clear: both;\"></div></div><div class = \"data-frame\" style = \"overflow-x: scroll;\"><table class = \"data-frame\" style = \"margin-bottom: 6px;\"><thead><tr class = \"header\"><th class = \"rowNumber\" style = \"font-weight: bold; text-align: right;\">Row</th><th style = \"text-align: left;\">date</th><th style = \"text-align: left;\">acwi_returns</th></tr><tr class = \"subheader headerLastRow\"><th class = \"rowNumber\" style = \"font-weight: bold; text-align: right;\"></th><th title = \"Date\" style = \"text-align: left;\">Date</th><th title = \"Float64\" style = \"text-align: left;\">Float64</th></tr></thead><tbody><tr><td class = \"rowNumber\" style = \"font-weight: bold; text-align: right;\">1</td><td style = \"text-align: left;\">2001-01-31</td><td style = \"text-align: right;\">0.0230327</td></tr><tr><td class = \"rowNumber\" style = \"font-weight: bold; text-align: right;\">2</td><td style = \"text-align: left;\">2001-02-28</td><td style = \"text-align: right;\">0.054604</td></tr><tr><td class = \"rowNumber\" style = \"font-weight: bold; text-align: right;\">3</td><td style = \"text-align: left;\">2001-03-30</td><td style = \"text-align: right;\">0.0287213</td></tr><tr><td class = \"rowNumber\" style = \"font-weight: bold; text-align: right;\">4</td><td style = \"text-align: left;\">2001-04-30</td><td style = \"text-align: right;\">0.0109627</td></tr><tr><td class = \"rowNumber\" style = \"font-weight: bold; text-align: right;\">5</td><td style = \"text-align: left;\">2001-05-31</td><td style = \"text-align: right;\">-0.0216379</td></tr><tr><td class = \"rowNumber\" style = \"font-weight: bold; text-align: right;\">6</td><td style = \"text-align: left;\">2001-06-29</td><td style = \"text-align: right;\">-0.00268442</td></tr><tr><td class = \"rowNumber\" style = \"font-weight: bold; text-align: right;\">7</td><td style = \"text-align: left;\">2001-07-31</td><td style = \"text-align: right;\">0.0166897</td></tr><tr><td class = \"rowNumber\" style = \"font-weight: bold; text-align: right;\">8</td><td style = \"text-align: left;\">2001-08-31</td><td style = \"text-align: right;\">-0.0582539</td></tr><tr><td class = \"rowNumber\" style = \"font-weight: bold; text-align: right;\">9</td><td style = \"text-align: left;\">2001-09-28</td><td style = \"text-align: right;\">0.0403971</td></tr><tr><td class = \"rowNumber\" style = \"font-weight: bold; text-align: right;\">10</td><td style = \"text-align: left;\">2001-10-31</td><td style = \"text-align: right;\">0.0617563</td></tr><tr><td class = \"rowNumber\" style = \"font-weight: bold; text-align: right;\">11</td><td style = \"text-align: left;\">2001-11-30</td><td style = \"text-align: right;\">0.0313471</td></tr><tr><td class = \"rowNumber\" style = \"font-weight: bold; text-align: right;\">12</td><td style = \"text-align: left;\">2001-12-31</td><td style = \"text-align: right;\">0.00735358</td></tr><tr><td class = \"rowNumber\" style = \"font-weight: bold; text-align: right;\">13</td><td style = \"text-align: left;\">2002-01-31</td><td style = \"text-align: right;\">0.0338028</td></tr><tr><td style = \"text-align: right;\">&vellip;</td><td style = \"text-align: right;\">&vellip;</td><td style = \"text-align: right;\">&vellip;</td></tr><tr><td class = \"rowNumber\" style = \"font-weight: bold; text-align: right;\">269</td><td style = \"text-align: left;\">2023-05-31</td><td style = \"text-align: right;\">-0.103339</td></tr><tr><td class = \"rowNumber\" style = \"font-weight: bold; text-align: right;\">270</td><td style = \"text-align: left;\">2023-06-30</td><td style = \"text-align: right;\">-0.0327337</td></tr><tr><td class = \"rowNumber\" style = \"font-weight: bold; text-align: right;\">271</td><td style = \"text-align: left;\">2023-07-31</td><td style = \"text-align: right;\">0.0771137</td></tr><tr><td class = \"rowNumber\" style = \"font-weight: bold; text-align: right;\">272</td><td style = \"text-align: left;\">2023-08-31</td><td style = \"text-align: right;\">-0.0375808</td></tr><tr><td class = \"rowNumber\" style = \"font-weight: bold; text-align: right;\">273</td><td style = \"text-align: left;\">2023-09-29</td><td style = \"text-align: right;\">0.0894082</td></tr><tr><td class = \"rowNumber\" style = \"font-weight: bold; text-align: right;\">274</td><td style = \"text-align: left;\">2023-10-31</td><td style = \"text-align: right;\">0.0347251</td></tr><tr><td class = \"rowNumber\" style = \"font-weight: bold; text-align: right;\">275</td><td style = \"text-align: left;\">2023-11-30</td><td style = \"text-align: right;\">-0.0242384</td></tr><tr><td class = \"rowNumber\" style = \"font-weight: bold; text-align: right;\">276</td><td style = \"text-align: left;\">2023-12-29</td><td style = \"text-align: right;\">0.069682</td></tr><tr><td class = \"rowNumber\" style = \"font-weight: bold; text-align: right;\">277</td><td style = \"text-align: left;\">2024-01-31</td><td style = \"text-align: right;\">0.0148453</td></tr><tr><td class = \"rowNumber\" style = \"font-weight: bold; text-align: right;\">278</td><td style = \"text-align: left;\">2024-02-29</td><td style = \"text-align: right;\">0.0271679</td></tr><tr><td class = \"rowNumber\" style = \"font-weight: bold; text-align: right;\">279</td><td style = \"text-align: left;\">2024-03-29</td><td style = \"text-align: right;\">-0.00343664</td></tr><tr><td class = \"rowNumber\" style = \"font-weight: bold; text-align: right;\">280</td><td style = \"text-align: left;\">2024-04-30</td><td style = \"text-align: right;\">0.0378666</td></tr></tbody></table></div>"
      ],
      "text/latex": [
       "\\begin{tabular}{r|cc}\n",
       "\t& date & acwi\\_returns\\\\\n",
       "\t\\hline\n",
       "\t& Date & Float64\\\\\n",
       "\t\\hline\n",
       "\t1 & 2001-01-31 & 0.0230327 \\\\\n",
       "\t2 & 2001-02-28 & 0.054604 \\\\\n",
       "\t3 & 2001-03-30 & 0.0287213 \\\\\n",
       "\t4 & 2001-04-30 & 0.0109627 \\\\\n",
       "\t5 & 2001-05-31 & -0.0216379 \\\\\n",
       "\t6 & 2001-06-29 & -0.00268442 \\\\\n",
       "\t7 & 2001-07-31 & 0.0166897 \\\\\n",
       "\t8 & 2001-08-31 & -0.0582539 \\\\\n",
       "\t9 & 2001-09-28 & 0.0403971 \\\\\n",
       "\t10 & 2001-10-31 & 0.0617563 \\\\\n",
       "\t11 & 2001-11-30 & 0.0313471 \\\\\n",
       "\t12 & 2001-12-31 & 0.00735358 \\\\\n",
       "\t13 & 2002-01-31 & 0.0338028 \\\\\n",
       "\t14 & 2002-02-28 & -0.0076949 \\\\\n",
       "\t15 & 2002-03-29 & -0.00736582 \\\\\n",
       "\t16 & 2002-04-30 & 0.0229739 \\\\\n",
       "\t17 & 2002-05-31 & -0.0257065 \\\\\n",
       "\t18 & 2002-06-28 & -0.0158033 \\\\\n",
       "\t19 & 2002-07-31 & 0.105341 \\\\\n",
       "\t20 & 2002-08-30 & -0.0255284 \\\\\n",
       "\t21 & 2002-09-30 & 0.0280865 \\\\\n",
       "\t22 & 2002-10-31 & -0.0345123 \\\\\n",
       "\t23 & 2002-11-29 & 0.0368792 \\\\\n",
       "\t24 & 2002-12-31 & 0.0306286 \\\\\n",
       "\t$\\dots$ & $\\dots$ & $\\dots$ \\\\\n",
       "\\end{tabular}\n"
      ],
      "text/plain": [
       "\u001b[1m280×2 DataFrame\u001b[0m\n",
       "\u001b[1m Row \u001b[0m│\u001b[1m date       \u001b[0m\u001b[1m acwi_returns \u001b[0m\n",
       "     │\u001b[90m Date       \u001b[0m\u001b[90m Float64      \u001b[0m\n",
       "─────┼──────────────────────────\n",
       "   1 │ 2001-01-31    0.0230327\n",
       "   2 │ 2001-02-28    0.054604\n",
       "   3 │ 2001-03-30    0.0287213\n",
       "   4 │ 2001-04-30    0.0109627\n",
       "   5 │ 2001-05-31   -0.0216379\n",
       "   6 │ 2001-06-29   -0.00268442\n",
       "   7 │ 2001-07-31    0.0166897\n",
       "   8 │ 2001-08-31   -0.0582539\n",
       "  ⋮  │     ⋮            ⋮\n",
       " 274 │ 2023-10-31    0.0347251\n",
       " 275 │ 2023-11-30   -0.0242384\n",
       " 276 │ 2023-12-29    0.069682\n",
       " 277 │ 2024-01-31    0.0148453\n",
       " 278 │ 2024-02-29    0.0271679\n",
       " 279 │ 2024-03-29   -0.00343664\n",
       " 280 │ 2024-04-30    0.0378666\n",
       "\u001b[36m                265 rows omitted\u001b[0m"
      ]
     },
     "metadata": {},
     "output_type": "display_data"
    }
   ],
   "source": [
    "returns = log.(acwi_long.acwi[2:end]./acwi_long.acwi[1:end-1])\n",
    "returns = DataFrame([data.date[2:end],returns],[:date,:acwi_returns,])"
   ]
  },
  {
   "cell_type": "code",
   "execution_count": 325,
   "metadata": {},
   "outputs": [
    {
     "data": {
      "text/plain": [
       "2-element Vector{Float64}:\n",
       " 0.05452675921298197\n",
       " 0.1574249398713421"
      ]
     },
     "metadata": {},
     "output_type": "display_data"
    }
   ],
   "source": [
    "mean_and_std(returns[:,:acwi_returns]) .* [12,12^0.5]"
   ]
  },
  {
   "cell_type": "code",
   "execution_count": 340,
   "metadata": {},
   "outputs": [
    {
     "name": "stdout",
     "output_type": "stream",
     "text": [
      "Summary Stats:\n",
      "Length:         280\n",
      "Missing Count:  0\n",
      "Mean:           0.004544\n",
      "Std. Deviation: 0.045445\n",
      "Minimum:        -0.221961\n",
      "1st Quartile:   -0.020665\n",
      "Median:         0.010743\n",
      "3rd Quartile:   0.033443\n",
      "Maximum:        0.108725\n",
      "Type:           Float64\n"
     ]
    }
   ],
   "source": [
    "describe(returns[:,:acwi_returns])"
   ]
  },
  {
   "cell_type": "code",
   "execution_count": 327,
   "metadata": {},
   "outputs": [
    {
     "data": {
      "text/html": [
       "<div><div style = \"float: left;\"><span>1×7 DataFrame</span></div><div style = \"clear: both;\"></div></div><div class = \"data-frame\" style = \"overflow-x: scroll;\"><table class = \"data-frame\" style = \"margin-bottom: 6px;\"><thead><tr class = \"header\"><th class = \"rowNumber\" style = \"font-weight: bold; text-align: right;\">Row</th><th style = \"text-align: left;\">loglikehood</th><th style = \"text-align: left;\">mu1</th><th style = \"text-align: left;\">mu2</th><th style = \"text-align: left;\">p11</th><th style = \"text-align: left;\">p21</th><th style = \"text-align: left;\">sig1</th><th style = \"text-align: left;\">sig2</th></tr><tr class = \"subheader headerLastRow\"><th class = \"rowNumber\" style = \"font-weight: bold; text-align: right;\"></th><th title = \"Float64\" style = \"text-align: left;\">Float64</th><th title = \"Float64\" style = \"text-align: left;\">Float64</th><th title = \"Float64\" style = \"text-align: left;\">Float64</th><th title = \"Float64\" style = \"text-align: left;\">Float64</th><th title = \"Float64\" style = \"text-align: left;\">Float64</th><th title = \"Float64\" style = \"text-align: left;\">Float64</th><th title = \"Float64\" style = \"text-align: left;\">Float64</th></tr></thead><tbody><tr><td class = \"rowNumber\" style = \"font-weight: bold; text-align: right;\">1</td><td style = \"text-align: right;\">493.823</td><td style = \"text-align: right;\">0.145617</td><td style = \"text-align: right;\">-0.0668756</td><td style = \"text-align: right;\">0.961666</td><td style = \"text-align: right;\">0.0489704</td><td style = \"text-align: right;\">0.0990306</td><td style = \"text-align: right;\">0.205877</td></tr></tbody></table></div>"
      ],
      "text/latex": [
       "\\begin{tabular}{r|ccccccc}\n",
       "\t& loglikehood & mu1 & mu2 & p11 & p21 & sig1 & sig2\\\\\n",
       "\t\\hline\n",
       "\t& Float64 & Float64 & Float64 & Float64 & Float64 & Float64 & Float64\\\\\n",
       "\t\\hline\n",
       "\t1 & 493.823 & 0.145617 & -0.0668756 & 0.961666 & 0.0489704 & 0.0990306 & 0.205877 \\\\\n",
       "\\end{tabular}\n"
      ],
      "text/plain": [
       "\u001b[1m1×7 DataFrame\u001b[0m\n",
       "\u001b[1m Row \u001b[0m│\u001b[1m loglikehood \u001b[0m\u001b[1m mu1      \u001b[0m\u001b[1m mu2        \u001b[0m\u001b[1m p11      \u001b[0m\u001b[1m p21       \u001b[0m\u001b[1m sig1      \u001b[0m\u001b[1m sig2\u001b[0m ⋯\n",
       "     │\u001b[90m Float64     \u001b[0m\u001b[90m Float64  \u001b[0m\u001b[90m Float64    \u001b[0m\u001b[90m Float64  \u001b[0m\u001b[90m Float64   \u001b[0m\u001b[90m Float64   \u001b[0m\u001b[90m Floa\u001b[0m ⋯\n",
       "─────┼──────────────────────────────────────────────────────────────────────────\n",
       "   1 │     493.823  0.145617  -0.0668756  0.961666  0.0489704  0.0990306  0.20 ⋯\n",
       "\u001b[36m                                                                1 column omitted\u001b[0m"
      ]
     },
     "metadata": {},
     "output_type": "display_data"
    }
   ],
   "source": [
    "init_guess = [0.5, 0.5]\n",
    "trans_guess = [0.9 0.1; 0.1 0.9]\n",
    "dists_guess = [Normal(0.014,  0.0231), Normal(-0.0037, 0.0563)]\n",
    "hmm_guess = HMM(init_guess, trans_guess, dists_guess); \n",
    "\n",
    "hmm_est, loglikelihood_evolution = baum_welch(hmm_guess, returns[:,:acwi_returns]);\n",
    "r1 = regime_summary(loglikelihood_evolution,hmm_est,12)"
   ]
  },
  {
   "cell_type": "code",
   "execution_count": 341,
   "metadata": {},
   "outputs": [
    {
     "data": {
      "text/plain": [
       "guess_distribution (generic function with 1 method)"
      ]
     },
     "metadata": {},
     "output_type": "display_data"
    }
   ],
   "source": [
    "function guess_init(n_scenarios)\n",
    "    regimes_probs = rand(1:100,n_scenarios)\n",
    "    return regimes_probs/sum(regimes_probs)\n",
    "end\n",
    "\n",
    "function guess_tmatrix(n_scenarios)\n",
    "    regimes_probs = rand(1:100,n_scenarios,n_scenarios)\n",
    "    return regimes_probs ./ sum(regimes_probs,dims=2)\n",
    "end\n",
    "\n",
    "function guess_distribution()\n",
    "    sigma = rand(Uniform(0,0.25))\n",
    "    means = rand(Uniform(-0.25,0.25))\n",
    "    return Normal(means,sigma)\n",
    "end"
   ]
  },
  {
   "cell_type": "code",
   "execution_count": 355,
   "metadata": {},
   "outputs": [
    {
     "data": {
      "text/html": [
       "<div><div style = \"float: left;\"><span>1×7 DataFrame</span></div><div style = \"clear: both;\"></div></div><div class = \"data-frame\" style = \"overflow-x: scroll;\"><table class = \"data-frame\" style = \"margin-bottom: 6px;\"><thead><tr class = \"header\"><th class = \"rowNumber\" style = \"font-weight: bold; text-align: right;\">Row</th><th style = \"text-align: left;\">loglikehood</th><th style = \"text-align: left;\">mu1</th><th style = \"text-align: left;\">mu2</th><th style = \"text-align: left;\">p11</th><th style = \"text-align: left;\">p21</th><th style = \"text-align: left;\">sig1</th><th style = \"text-align: left;\">sig2</th></tr><tr class = \"subheader headerLastRow\"><th class = \"rowNumber\" style = \"font-weight: bold; text-align: right;\"></th><th title = \"Float64\" style = \"text-align: left;\">Float64</th><th title = \"Float64\" style = \"text-align: left;\">Float64</th><th title = \"Float64\" style = \"text-align: left;\">Float64</th><th title = \"Float64\" style = \"text-align: left;\">Float64</th><th title = \"Float64\" style = \"text-align: left;\">Float64</th><th title = \"Float64\" style = \"text-align: left;\">Float64</th><th title = \"Float64\" style = \"text-align: left;\">Float64</th></tr></thead><tbody><tr><td class = \"rowNumber\" style = \"font-weight: bold; text-align: right;\">1</td><td style = \"text-align: right;\">493.823</td><td style = \"text-align: right;\">0.145618</td><td style = \"text-align: right;\">-0.0668837</td><td style = \"text-align: right;\">0.961666</td><td style = \"text-align: right;\">0.0489745</td><td style = \"text-align: right;\">0.0990317</td><td style = \"text-align: right;\">0.205879</td></tr></tbody></table></div>"
      ],
      "text/latex": [
       "\\begin{tabular}{r|ccccccc}\n",
       "\t& loglikehood & mu1 & mu2 & p11 & p21 & sig1 & sig2\\\\\n",
       "\t\\hline\n",
       "\t& Float64 & Float64 & Float64 & Float64 & Float64 & Float64 & Float64\\\\\n",
       "\t\\hline\n",
       "\t1 & 493.823 & 0.145618 & -0.0668837 & 0.961666 & 0.0489745 & 0.0990317 & 0.205879 \\\\\n",
       "\\end{tabular}\n"
      ],
      "text/plain": [
       "\u001b[1m1×7 DataFrame\u001b[0m\n",
       "\u001b[1m Row \u001b[0m│\u001b[1m loglikehood \u001b[0m\u001b[1m mu1      \u001b[0m\u001b[1m mu2        \u001b[0m\u001b[1m p11      \u001b[0m\u001b[1m p21       \u001b[0m\u001b[1m sig1      \u001b[0m\u001b[1m sig2\u001b[0m ⋯\n",
       "     │\u001b[90m Float64     \u001b[0m\u001b[90m Float64  \u001b[0m\u001b[90m Float64    \u001b[0m\u001b[90m Float64  \u001b[0m\u001b[90m Float64   \u001b[0m\u001b[90m Float64   \u001b[0m\u001b[90m Floa\u001b[0m ⋯\n",
       "─────┼──────────────────────────────────────────────────────────────────────────\n",
       "   1 │     493.823  0.145618  -0.0668837  0.961666  0.0489745  0.0990317  0.20 ⋯\n",
       "\u001b[36m                                                                1 column omitted\u001b[0m"
      ]
     },
     "metadata": {},
     "output_type": "display_data"
    }
   ],
   "source": [
    "n_scenarios = 2\n",
    "init_guess = guess_init(n_scenarios)\n",
    "guess_matrix = guess_tmatrix(n_scenarios)\n",
    "guess_dist = [guess_distribution() for s in 1:n_scenarios]\n",
    "hmm_guess = HMM(init_guess, guess_matrix, guess_dist);\n",
    "hmm_est, loglikelihood_evolution = baum_welch(hmm_guess, returns[:,:acwi_returns]);\n",
    "r1 = regime_summary(loglikelihood_evolution,hmm_est,12)"
   ]
  },
  {
   "cell_type": "code",
   "execution_count": null,
   "metadata": {},
   "outputs": [],
   "source": []
  }
 ],
 "metadata": {
  "kernelspec": {
   "display_name": "Julia 1.10.2",
   "language": "julia",
   "name": "julia-1.10"
  },
  "language_info": {
   "file_extension": ".jl",
   "mimetype": "application/julia",
   "name": "julia",
   "version": "1.10.2"
  }
 },
 "nbformat": 4,
 "nbformat_minor": 2
}
