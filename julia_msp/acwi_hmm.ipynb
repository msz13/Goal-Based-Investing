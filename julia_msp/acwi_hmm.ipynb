{
 "cells": [
  {
   "cell_type": "code",
   "execution_count": 1,
   "metadata": {},
   "outputs": [
    {
     "name": "stderr",
     "output_type": "stream",
     "text": [
      "\u001b[32m\u001b[1m    Updating\u001b[22m\u001b[39m registry at `C:\\Users\\matsz\\.julia\\registries\\General.toml`\n",
      "\u001b[32m\u001b[1m   Resolving\u001b[22m\u001b[39m package versions...\n",
      "\u001b[32m\u001b[1m  No Changes\u001b[22m\u001b[39m to `C:\\Users\\matsz\\.julia\\environments\\v1.10\\Project.toml`\n",
      "\u001b[32m\u001b[1m  No Changes\u001b[22m\u001b[39m to `C:\\Users\\matsz\\.julia\\environments\\v1.10\\Manifest.toml`\n"
     ]
    }
   ],
   "source": [
    "import Pkg\n",
    "Pkg.add(\"PrettyTables\")"
   ]
  },
  {
   "cell_type": "code",
   "execution_count": 2,
   "metadata": {},
   "outputs": [],
   "source": [
    "using DataFrames, FredData, XLSX, SHA, Dates, CSV, TimeSeries, StatsBase, HiddenMarkovModels, Distributions, Plots, PrettyTables"
   ]
  },
  {
   "cell_type": "code",
   "execution_count": 3,
   "metadata": {},
   "outputs": [
    {
     "data": {
      "text/plain": [
       "train_hmm (generic function with 2 methods)"
      ]
     },
     "metadata": {},
     "output_type": "display_data"
    }
   ],
   "source": [
    "function guess_init(n_scenarios)\n",
    "    regimes_probs = rand(1:100,n_scenarios)\n",
    "    return regimes_probs/sum(regimes_probs)\n",
    "end\n",
    "\n",
    "function guess_tmatrix(n_scenarios)\n",
    "    regimes_probs = rand(1:100,n_scenarios,n_scenarios)\n",
    "    return regimes_probs ./ sum(regimes_probs,dims=2)\n",
    "end\n",
    "\n",
    "function guess_distribution()\n",
    "    sigma = rand(Uniform(0,0.25))\n",
    "    means = rand(Uniform(-0.25,0.25))\n",
    "    return Normal(means,sigma)\n",
    "end\n",
    "\n",
    "function train_hmm(data, n_scenarios = 2)\n",
    "\n",
    "    function guess_distribution()\n",
    "        sigma = rand(Uniform(0,0.25))\n",
    "        means = rand(Uniform(-0.25,0.25))\n",
    "        return Normal(means,sigma)\n",
    "    end\n",
    "    \n",
    "    init_guess = guess_init(n_scenarios)\n",
    "    guess_matrix = guess_tmatrix(n_scenarios)\n",
    "    guess_dist = [guess_distribution() for s in 1:n_scenarios]\n",
    "    hmm_guess = HMM(init_guess, guess_matrix, guess_dist);\n",
    "    return hmm_est, loglikelihood_evolution = baum_welch(hmm_guess, data);\n",
    "end "
   ]
  },
  {
   "cell_type": "code",
   "execution_count": 4,
   "metadata": {},
   "outputs": [
    {
     "data": {
      "text/plain": [
       "regime_summary (generic function with 2 methods)"
      ]
     },
     "metadata": {},
     "output_type": "display_data"
    }
   ],
   "source": [
    "function regime_summary(loglikehood,hmm_est, freq = 1)\n",
    "        tm = transition_matrix(hmm_est)\n",
    "        \n",
    "   return DataFrame(Dict(\n",
    "      \"mu1\" => mean(obs_distributions(hmm_est)[1]) * freq,\n",
    "      \"sig1\" => std(obs_distributions(hmm_est)[1]) *  freq^0.5,\n",
    "      \"mu2\" => mean(obs_distributions(hmm_est)[2]) * freq,\n",
    "      \"sig2\" => std(obs_distributions(hmm_est)[2]) * freq^0.5,       \n",
    "      \"p11\" =>  tm[1,1],\n",
    "      \"p21\" =>  tm[2,1],\n",
    "      \"loglikehood\" => last(loglikehood),\n",
    "      \"prob1\" =>  tm[2,1]/(tm[1,2]+tm[2,1])\n",
    "      \n",
    "  )) \n",
    "  end"
   ]
  },
  {
   "cell_type": "code",
   "execution_count": 5,
   "metadata": {},
   "outputs": [
    {
     "data": {
      "text/plain": [
       "regime_summary_2 (generic function with 2 methods)"
      ]
     },
     "metadata": {},
     "output_type": "display_data"
    }
   ],
   "source": [
    "function regime_summary_2(loglikehood,hmm_est, freq = 1)\n",
    "    tm = transition_matrix(hmm_est),\n",
    "    n_regimes = length(initialization(hmm_est))\n",
    "    dict = Dict()\n",
    "   \n",
    "    return n_regimes\n",
    "      \n",
    "end\n"
   ]
  },
  {
   "cell_type": "code",
   "execution_count": 6,
   "metadata": {},
   "outputs": [
    {
     "data": {
      "text/plain": [
       "615×8 TimeArray{Union{Missing, Float64}, 2, Date, Matrix{Union{Missing, Float64}}} 1973-01-31 to 2024-03-31\n",
       "┌────────────┬────────────┬─────────────┬──────────────┬──────────────┬─────────\n",
       "│\u001b[1m            \u001b[0m│\u001b[1m ACWI_Net   \u001b[0m│\u001b[1m USDPLN      \u001b[0m│\u001b[1m ACWI_Net_PLN \u001b[0m│\u001b[1m CPI_USA      \u001b[0m│\u001b[1m CPI_PL\u001b[0m ⋯\n",
       "├────────────┼────────────┼─────────────┼──────────────┼──────────────┼─────────\n",
       "│ 1973-01-31 │    missing │     missing │      missing │   0.00235067 │     mi ⋯\n",
       "│ 1973-02-28 │    missing │     missing │      missing │   0.00701905 │     mi ⋯\n",
       "│ 1973-03-31 │    missing │     missing │      missing │   0.00927727 │     mi ⋯\n",
       "│ 1973-04-30 │    missing │     missing │      missing │   0.00690598 │     mi ⋯\n",
       "│ 1973-05-31 │    missing │     missing │      missing │   0.00685862 │     mi ⋯\n",
       "│ 1973-06-30 │    missing │     missing │      missing │    0.0068119 │     mi ⋯\n",
       "│ 1973-07-31 │    missing │     missing │      missing │   0.00225501 │     mi ⋯\n",
       "│ 1973-08-31 │    missing │     missing │      missing │    0.0179014 │     mi ⋯\n",
       "│     ⋮      │     ⋮      │      ⋮      │      ⋮       │      ⋮       │      ⋮ ⋱\n",
       "│ 2023-09-30 │  -0.042229 │   0.0576333 │    0.0154043 │   0.00248268 │ -0.003 ⋯\n",
       "│ 2023-10-31 │  -0.030529 │  -0.0361159 │    -0.066645 │ -0.000383565 │  0.002 ⋯\n",
       "│ 2023-11-30 │  0.0882833 │  -0.0525834 │    0.0356998 │  -0.00201729 │  0.007 ⋯\n",
       "│ 2023-12-31 │  0.0469154 │  -0.0158441 │    0.0310713 │ -0.000993947 │  0.001 ⋯\n",
       "│ 2024-01-31 │ 0.00584454 │   0.0175065 │    0.0233511 │   0.00543262 │  0.003 ⋯\n",
       "│ 2024-02-29 │  0.0420184 │ -0.00252589 │    0.0394925 │   0.00617115 │  0.002 ⋯\n",
       "│ 2024-03-31 │  0.0309141 │ -0.00107732 │    0.0298368 │   0.00644296 │  0.002 ⋯\n",
       "└────────────┴────────────┴─────────────┴──────────────┴──────────────┴─────────\n",
       "\u001b[36m                                                  4 columns and 600 rows omitted\u001b[0m"
      ]
     },
     "metadata": {},
     "output_type": "display_data"
    }
   ],
   "source": [
    "source_data = TimeArray(CSV.File(\"assets_data_03.24.csv\", delim=';', dateformat=Dict(\"Date\" => \"dd.mm.yyyy\"), decimal=','),timestamp=:Date)\n",
    "returns = percentchange(source_data, :log)"
   ]
  },
  {
   "cell_type": "code",
   "execution_count": 7,
   "metadata": {},
   "outputs": [
    {
     "data": {
      "text/html": [
       "<div><div style = \"float: left;\"><span>3×9 DataFrame</span></div><div style = \"clear: both;\"></div></div><div class = \"data-frame\" style = \"overflow-x: scroll;\"><table class = \"data-frame\" style = \"margin-bottom: 6px;\"><thead><tr class = \"header\"><th class = \"rowNumber\" style = \"font-weight: bold; text-align: right;\">Row</th><th style = \"text-align: left;\">mean</th><th style = \"text-align: left;\">sd</th><th style = \"text-align: left;\">min</th><th style = \"text-align: left;\">q25</th><th style = \"text-align: left;\">median</th><th style = \"text-align: left;\">q75</th><th style = \"text-align: left;\">max</th><th style = \"text-align: left;\">nobs</th><th style = \"text-align: left;\">nmiss</th></tr><tr class = \"subheader headerLastRow\"><th class = \"rowNumber\" style = \"font-weight: bold; text-align: right;\"></th><th title = \"Float64\" style = \"text-align: left;\">Float64</th><th title = \"Float64\" style = \"text-align: left;\">Float64</th><th title = \"Float64\" style = \"text-align: left;\">Float64</th><th title = \"Float64\" style = \"text-align: left;\">Float64</th><th title = \"Float64\" style = \"text-align: left;\">Float64</th><th title = \"Float64\" style = \"text-align: left;\">Float64</th><th title = \"Float64\" style = \"text-align: left;\">Float64</th><th title = \"Int64\" style = \"text-align: left;\">Int64</th><th title = \"Int64\" style = \"text-align: left;\">Int64</th></tr></thead><tbody><tr><td class = \"rowNumber\" style = \"font-weight: bold; text-align: right;\">1</td><td style = \"text-align: right;\">0.00622469</td><td style = \"text-align: right;\">0.0443616</td><td style = \"text-align: right;\">-0.220834</td><td style = \"text-align: right;\">-0.0181497</td><td style = \"text-align: right;\">0.0124942</td><td style = \"text-align: right;\">0.0330787</td><td style = \"text-align: right;\">0.116238</td><td style = \"text-align: right;\">615</td><td style = \"text-align: right;\">180</td></tr><tr><td class = \"rowNumber\" style = \"font-weight: bold; text-align: right;\">2</td><td style = \"text-align: right;\">0.000397277</td><td style = \"text-align: right;\">0.0371301</td><td style = \"text-align: right;\">-0.094026</td><td style = \"text-align: right;\">-0.0247304</td><td style = \"text-align: right;\">-0.00190905</td><td style = \"text-align: right;\">0.0234364</td><td style = \"text-align: right;\">0.166496</td><td style = \"text-align: right;\">615</td><td style = \"text-align: right;\">300</td></tr><tr><td class = \"rowNumber\" style = \"font-weight: bold; text-align: right;\">3</td><td style = \"text-align: right;\">0.00581535</td><td style = \"text-align: right;\">0.0380711</td><td style = \"text-align: right;\">-0.111985</td><td style = \"text-align: right;\">-0.0159863</td><td style = \"text-align: right;\">0.00790446</td><td style = \"text-align: right;\">0.0323534</td><td style = \"text-align: right;\">0.105947</td><td style = \"text-align: right;\">615</td><td style = \"text-align: right;\">300</td></tr></tbody></table></div>"
      ],
      "text/latex": [
       "\\begin{tabular}{r|cccccccc}\n",
       "\t& mean & sd & min & q25 & median & q75 & max & \\\\\n",
       "\t\\hline\n",
       "\t& Float64 & Float64 & Float64 & Float64 & Float64 & Float64 & Float64 & \\\\\n",
       "\t\\hline\n",
       "\t1 & 0.00622469 & 0.0443616 & -0.220834 & -0.0181497 & 0.0124942 & 0.0330787 & 0.116238 & $\\dots$ \\\\\n",
       "\t2 & 0.000397277 & 0.0371301 & -0.094026 & -0.0247304 & -0.00190905 & 0.0234364 & 0.166496 & $\\dots$ \\\\\n",
       "\t3 & 0.00581535 & 0.0380711 & -0.111985 & -0.0159863 & 0.00790446 & 0.0323534 & 0.105947 & $\\dots$ \\\\\n",
       "\\end{tabular}\n"
      ],
      "text/plain": [
       "\u001b[1m3×9 DataFrame\u001b[0m\n",
       "\u001b[1m Row \u001b[0m│\u001b[1m mean        \u001b[0m\u001b[1m sd        \u001b[0m\u001b[1m min       \u001b[0m\u001b[1m q25        \u001b[0m\u001b[1m median      \u001b[0m\u001b[1m q75       \u001b[0m\u001b[1m \u001b[0m ⋯\n",
       "     │\u001b[90m Float64     \u001b[0m\u001b[90m Float64   \u001b[0m\u001b[90m Float64   \u001b[0m\u001b[90m Float64    \u001b[0m\u001b[90m Float64     \u001b[0m\u001b[90m Float64   \u001b[0m\u001b[90m \u001b[0m ⋯\n",
       "─────┼──────────────────────────────────────────────────────────────────────────\n",
       "   1 │ 0.00622469   0.0443616  -0.220834  -0.0181497   0.0124942   0.0330787   ⋯\n",
       "   2 │ 0.000397277  0.0371301  -0.094026  -0.0247304  -0.00190905  0.0234364\n",
       "   3 │ 0.00581535   0.0380711  -0.111985  -0.0159863   0.00790446  0.0323534\n",
       "\u001b[36m                                                               3 columns omitted\u001b[0m"
      ]
     },
     "metadata": {},
     "output_type": "display_data"
    }
   ],
   "source": [
    "stats = summarystats.(eachcol(values(returns)))\n",
    "\n",
    "stats = DataFrame([stats[1],stats[2],stats[3]])\n"
   ]
  },
  {
   "cell_type": "code",
   "execution_count": 8,
   "metadata": {},
   "outputs": [
    {
     "name": "stdout",
     "output_type": "stream",
     "text": [
      "ACWI long 2\n"
     ]
    },
    {
     "data": {
      "text/html": [
       "<div><div style = \"float: left;\"><span>1×8 DataFrame</span></div><div style = \"clear: both;\"></div></div><div class = \"data-frame\" style = \"overflow-x: scroll;\"><table class = \"data-frame\" style = \"margin-bottom: 6px;\"><thead><tr class = \"header\"><th class = \"rowNumber\" style = \"font-weight: bold; text-align: right;\">Row</th><th style = \"text-align: left;\">loglikehood</th><th style = \"text-align: left;\">mu1</th><th style = \"text-align: left;\">mu2</th><th style = \"text-align: left;\">p11</th><th style = \"text-align: left;\">p21</th><th style = \"text-align: left;\">prob1</th><th style = \"text-align: left;\">sig1</th><th style = \"text-align: left;\">sig2</th></tr><tr class = \"subheader headerLastRow\"><th class = \"rowNumber\" style = \"font-weight: bold; text-align: right;\"></th><th title = \"Float64\" style = \"text-align: left;\">Float64</th><th title = \"Float64\" style = \"text-align: left;\">Float64</th><th title = \"Float64\" style = \"text-align: left;\">Float64</th><th title = \"Float64\" style = \"text-align: left;\">Float64</th><th title = \"Float64\" style = \"text-align: left;\">Float64</th><th title = \"Float64\" style = \"text-align: left;\">Float64</th><th title = \"Float64\" style = \"text-align: left;\">Float64</th><th title = \"Float64\" style = \"text-align: left;\">Float64</th></tr></thead><tbody><tr><td class = \"rowNumber\" style = \"font-weight: bold; text-align: right;\">1</td><td style = \"text-align: right;\">774.685</td><td style = \"text-align: right;\">-0.0115736</td><td style = \"text-align: right;\">0.16069</td><td style = \"text-align: right;\">0.941969</td><td style = \"text-align: right;\">0.0597848</td><td style = \"text-align: right;\">0.507444</td><td style = \"text-align: right;\">0.195713</td><td style = \"text-align: right;\">0.0873571</td></tr></tbody></table></div>"
      ],
      "text/latex": [
       "\\begin{tabular}{r|cccccccc}\n",
       "\t& loglikehood & mu1 & mu2 & p11 & p21 & prob1 & sig1 & sig2\\\\\n",
       "\t\\hline\n",
       "\t& Float64 & Float64 & Float64 & Float64 & Float64 & Float64 & Float64 & Float64\\\\\n",
       "\t\\hline\n",
       "\t1 & 774.685 & -0.0115736 & 0.16069 & 0.941969 & 0.0597848 & 0.507444 & 0.195713 & 0.0873571 \\\\\n",
       "\\end{tabular}\n"
      ],
      "text/plain": [
       "\u001b[1m1×8 DataFrame\u001b[0m\n",
       "\u001b[1m Row \u001b[0m│\u001b[1m loglikehood \u001b[0m\u001b[1m mu1        \u001b[0m\u001b[1m mu2     \u001b[0m\u001b[1m p11      \u001b[0m\u001b[1m p21       \u001b[0m\u001b[1m prob1    \u001b[0m\u001b[1m sig1  \u001b[0m ⋯\n",
       "     │\u001b[90m Float64     \u001b[0m\u001b[90m Float64    \u001b[0m\u001b[90m Float64 \u001b[0m\u001b[90m Float64  \u001b[0m\u001b[90m Float64   \u001b[0m\u001b[90m Float64  \u001b[0m\u001b[90m Float6\u001b[0m ⋯\n",
       "─────┼──────────────────────────────────────────────────────────────────────────\n",
       "   1 │     774.685  -0.0115736  0.16069  0.941969  0.0597848  0.507444  0.1957 ⋯\n",
       "\u001b[36m                                                               2 columns omitted\u001b[0m"
      ]
     },
     "metadata": {},
     "output_type": "display_data"
    }
   ],
   "source": [
    "acwi_long = identity.(values(from(returns[:ACWI_Net,],Date(1988,01,01))))\n",
    "hmm_est, loglikehood = train_hmm(acwi_long,2)\n",
    "println(\"ACWI long 2\")\n",
    "regime_summary(loglikehood,hmm_est,12)"
   ]
  },
  {
   "cell_type": "code",
   "execution_count": 9,
   "metadata": {},
   "outputs": [
    {
     "name": "stdout",
     "output_type": "stream",
     "text": [
      "ACWI long 4\n"
     ]
    },
    {
     "data": {
      "text/html": [
       "<div><div style = \"float: left;\"><span>1×8 DataFrame</span></div><div style = \"clear: both;\"></div></div><div class = \"data-frame\" style = \"overflow-x: scroll;\"><table class = \"data-frame\" style = \"margin-bottom: 6px;\"><thead><tr class = \"header\"><th class = \"rowNumber\" style = \"font-weight: bold; text-align: right;\">Row</th><th style = \"text-align: left;\">loglikehood</th><th style = \"text-align: left;\">mu1</th><th style = \"text-align: left;\">mu2</th><th style = \"text-align: left;\">p11</th><th style = \"text-align: left;\">p21</th><th style = \"text-align: left;\">prob1</th><th style = \"text-align: left;\">sig1</th><th style = \"text-align: left;\">sig2</th></tr><tr class = \"subheader headerLastRow\"><th class = \"rowNumber\" style = \"font-weight: bold; text-align: right;\"></th><th title = \"Float64\" style = \"text-align: left;\">Float64</th><th title = \"Float64\" style = \"text-align: left;\">Float64</th><th title = \"Float64\" style = \"text-align: left;\">Float64</th><th title = \"Float64\" style = \"text-align: left;\">Float64</th><th title = \"Float64\" style = \"text-align: left;\">Float64</th><th title = \"Float64\" style = \"text-align: left;\">Float64</th><th title = \"Float64\" style = \"text-align: left;\">Float64</th><th title = \"Float64\" style = \"text-align: left;\">Float64</th></tr></thead><tbody><tr><td class = \"rowNumber\" style = \"font-weight: bold; text-align: right;\">1</td><td style = \"text-align: right;\">782.292</td><td style = \"text-align: right;\">-0.104798</td><td style = \"text-align: right;\">0.299722</td><td style = \"text-align: right;\">0.214906</td><td style = \"text-align: right;\">0.694071</td><td style = \"text-align: right;\">0.590927</td><td style = \"text-align: right;\">0.0823117</td><td style = \"text-align: right;\">0.0598397</td></tr></tbody></table></div>"
      ],
      "text/latex": [
       "\\begin{tabular}{r|cccccccc}\n",
       "\t& loglikehood & mu1 & mu2 & p11 & p21 & prob1 & sig1 & sig2\\\\\n",
       "\t\\hline\n",
       "\t& Float64 & Float64 & Float64 & Float64 & Float64 & Float64 & Float64 & Float64\\\\\n",
       "\t\\hline\n",
       "\t1 & 782.292 & -0.104798 & 0.299722 & 0.214906 & 0.694071 & 0.590927 & 0.0823117 & 0.0598397 \\\\\n",
       "\\end{tabular}\n"
      ],
      "text/plain": [
       "\u001b[1m1×8 DataFrame\u001b[0m\n",
       "\u001b[1m Row \u001b[0m│\u001b[1m loglikehood \u001b[0m\u001b[1m mu1       \u001b[0m\u001b[1m mu2      \u001b[0m\u001b[1m p11      \u001b[0m\u001b[1m p21      \u001b[0m\u001b[1m prob1    \u001b[0m\u001b[1m sig1   \u001b[0m ⋯\n",
       "     │\u001b[90m Float64     \u001b[0m\u001b[90m Float64   \u001b[0m\u001b[90m Float64  \u001b[0m\u001b[90m Float64  \u001b[0m\u001b[90m Float64  \u001b[0m\u001b[90m Float64  \u001b[0m\u001b[90m Float64\u001b[0m ⋯\n",
       "─────┼──────────────────────────────────────────────────────────────────────────\n",
       "   1 │     782.292  -0.104798  0.299722  0.214906  0.694071  0.590927  0.08231 ⋯\n",
       "\u001b[36m                                                               2 columns omitted\u001b[0m"
      ]
     },
     "metadata": {},
     "output_type": "display_data"
    }
   ],
   "source": [
    "hmm_est, loglikehood = train_hmm(acwi_long,4)\n",
    "println(\"ACWI long 4\")\n",
    "regime_summary(loglikehood,hmm_est,12)"
   ]
  },
  {
   "cell_type": "code",
   "execution_count": 10,
   "metadata": {},
   "outputs": [
    {
     "data": {
      "text/html": [
       "<div><div style = \"float: left;\"><span>1×8 DataFrame</span></div><div style = \"clear: both;\"></div></div><div class = \"data-frame\" style = \"overflow-x: scroll;\"><table class = \"data-frame\" style = \"margin-bottom: 6px;\"><thead><tr class = \"header\"><th class = \"rowNumber\" style = \"font-weight: bold; text-align: right;\">Row</th><th style = \"text-align: left;\">loglikehood</th><th style = \"text-align: left;\">mu1</th><th style = \"text-align: left;\">mu2</th><th style = \"text-align: left;\">p11</th><th style = \"text-align: left;\">p21</th><th style = \"text-align: left;\">prob1</th><th style = \"text-align: left;\">sig1</th><th style = \"text-align: left;\">sig2</th></tr><tr class = \"subheader headerLastRow\"><th class = \"rowNumber\" style = \"font-weight: bold; text-align: right;\"></th><th title = \"Float64\" style = \"text-align: left;\">Float64</th><th title = \"Float64\" style = \"text-align: left;\">Float64</th><th title = \"Float64\" style = \"text-align: left;\">Float64</th><th title = \"Float64\" style = \"text-align: left;\">Float64</th><th title = \"Float64\" style = \"text-align: left;\">Float64</th><th title = \"Float64\" style = \"text-align: left;\">Float64</th><th title = \"Float64\" style = \"text-align: left;\">Float64</th><th title = \"Float64\" style = \"text-align: left;\">Float64</th></tr></thead><tbody><tr><td class = \"rowNumber\" style = \"font-weight: bold; text-align: right;\">1</td><td style = \"text-align: right;\">550.318</td><td style = \"text-align: right;\">0.173304</td><td style = \"text-align: right;\">-0.0297016</td><td style = \"text-align: right;\">0.932856</td><td style = \"text-align: right;\">0.0563131</td><td style = \"text-align: right;\">0.456133</td><td style = \"text-align: right;\">0.0833255</td><td style = \"text-align: right;\">0.20228</td></tr></tbody></table></div>"
      ],
      "text/latex": [
       "\\begin{tabular}{r|cccccccc}\n",
       "\t& loglikehood & mu1 & mu2 & p11 & p21 & prob1 & sig1 & sig2\\\\\n",
       "\t\\hline\n",
       "\t& Float64 & Float64 & Float64 & Float64 & Float64 & Float64 & Float64 & Float64\\\\\n",
       "\t\\hline\n",
       "\t1 & 550.318 & 0.173304 & -0.0297016 & 0.932856 & 0.0563131 & 0.456133 & 0.0833255 & 0.20228 \\\\\n",
       "\\end{tabular}\n"
      ],
      "text/plain": [
       "\u001b[1m1×8 DataFrame\u001b[0m\n",
       "\u001b[1m Row \u001b[0m│\u001b[1m loglikehood \u001b[0m\u001b[1m mu1      \u001b[0m\u001b[1m mu2        \u001b[0m\u001b[1m p11      \u001b[0m\u001b[1m p21       \u001b[0m\u001b[1m prob1    \u001b[0m\u001b[1m sig1 \u001b[0m ⋯\n",
       "     │\u001b[90m Float64     \u001b[0m\u001b[90m Float64  \u001b[0m\u001b[90m Float64    \u001b[0m\u001b[90m Float64  \u001b[0m\u001b[90m Float64   \u001b[0m\u001b[90m Float64  \u001b[0m\u001b[90m Float\u001b[0m ⋯\n",
       "─────┼──────────────────────────────────────────────────────────────────────────\n",
       "   1 │     550.318  0.173304  -0.0297016  0.932856  0.0563131  0.456133  0.083 ⋯\n",
       "\u001b[36m                                                               2 columns omitted\u001b[0m"
      ]
     },
     "metadata": {},
     "output_type": "display_data"
    }
   ],
   "source": [
    "acwi_98 = identity.(values(from(returns[:ACWI_Net],Date(1998,01,01))))\n",
    "hmm_est, loglikehood = train_hmm(acwi_98,2)\n",
    "regime_summary(loglikehood,hmm_est,12)"
   ]
  },
  {
   "cell_type": "code",
   "execution_count": 11,
   "metadata": {},
   "outputs": [
    {
     "data": {
      "text/html": [
       "<div><div style = \"float: left;\"><span>1×8 DataFrame</span></div><div style = \"clear: both;\"></div></div><div class = \"data-frame\" style = \"overflow-x: scroll;\"><table class = \"data-frame\" style = \"margin-bottom: 6px;\"><thead><tr class = \"header\"><th class = \"rowNumber\" style = \"font-weight: bold; text-align: right;\">Row</th><th style = \"text-align: left;\">loglikehood</th><th style = \"text-align: left;\">mu1</th><th style = \"text-align: left;\">mu2</th><th style = \"text-align: left;\">p11</th><th style = \"text-align: left;\">p21</th><th style = \"text-align: left;\">prob1</th><th style = \"text-align: left;\">sig1</th><th style = \"text-align: left;\">sig2</th></tr><tr class = \"subheader headerLastRow\"><th class = \"rowNumber\" style = \"font-weight: bold; text-align: right;\"></th><th title = \"Float64\" style = \"text-align: left;\">Float64</th><th title = \"Float64\" style = \"text-align: left;\">Float64</th><th title = \"Float64\" style = \"text-align: left;\">Float64</th><th title = \"Float64\" style = \"text-align: left;\">Float64</th><th title = \"Float64\" style = \"text-align: left;\">Float64</th><th title = \"Float64\" style = \"text-align: left;\">Float64</th><th title = \"Float64\" style = \"text-align: left;\">Float64</th><th title = \"Float64\" style = \"text-align: left;\">Float64</th></tr></thead><tbody><tr><td class = \"rowNumber\" style = \"font-weight: bold; text-align: right;\">1</td><td style = \"text-align: right;\">459.165</td><td style = \"text-align: right;\">0.168604</td><td style = \"text-align: right;\">-0.0133009</td><td style = \"text-align: right;\">0.937796</td><td style = \"text-align: right;\">0.0806212</td><td style = \"text-align: right;\">0.564474</td><td style = \"text-align: right;\">0.0812753</td><td style = \"text-align: right;\">0.210603</td></tr></tbody></table></div>"
      ],
      "text/latex": [
       "\\begin{tabular}{r|cccccccc}\n",
       "\t& loglikehood & mu1 & mu2 & p11 & p21 & prob1 & sig1 & sig2\\\\\n",
       "\t\\hline\n",
       "\t& Float64 & Float64 & Float64 & Float64 & Float64 & Float64 & Float64 & Float64\\\\\n",
       "\t\\hline\n",
       "\t1 & 459.165 & 0.168604 & -0.0133009 & 0.937796 & 0.0806212 & 0.564474 & 0.0812753 & 0.210603 \\\\\n",
       "\\end{tabular}\n"
      ],
      "text/plain": [
       "\u001b[1m1×8 DataFrame\u001b[0m\n",
       "\u001b[1m Row \u001b[0m│\u001b[1m loglikehood \u001b[0m\u001b[1m mu1      \u001b[0m\u001b[1m mu2        \u001b[0m\u001b[1m p11      \u001b[0m\u001b[1m p21       \u001b[0m\u001b[1m prob1    \u001b[0m\u001b[1m sig1 \u001b[0m ⋯\n",
       "     │\u001b[90m Float64     \u001b[0m\u001b[90m Float64  \u001b[0m\u001b[90m Float64    \u001b[0m\u001b[90m Float64  \u001b[0m\u001b[90m Float64   \u001b[0m\u001b[90m Float64  \u001b[0m\u001b[90m Float\u001b[0m ⋯\n",
       "─────┼──────────────────────────────────────────────────────────────────────────\n",
       "   1 │     459.165  0.168604  -0.0133009  0.937796  0.0806212  0.564474  0.081 ⋯\n",
       "\u001b[36m                                                               2 columns omitted\u001b[0m"
      ]
     },
     "metadata": {},
     "output_type": "display_data"
    }
   ],
   "source": [
    "acwi_03 = identity.(values(from(returns[:ACWI_Net],Date(2003,01,01))))\n",
    "hmm_est, loglikehood = train_hmm(acwi_03,2)\n",
    "regime_summary(loglikehood,hmm_est,12)"
   ]
  },
  {
   "cell_type": "code",
   "execution_count": 12,
   "metadata": {},
   "outputs": [
    {
     "name": "stdout",
     "output_type": "stream",
     "text": [
      "mean 0.06978414756872021, std: 0.13188218245803085\n"
     ]
    },
    {
     "data": {
      "text/html": [
       "<div><div style = \"float: left;\"><span>1×8 DataFrame</span></div><div style = \"clear: both;\"></div></div><div class = \"data-frame\" style = \"overflow-x: scroll;\"><table class = \"data-frame\" style = \"margin-bottom: 6px;\"><thead><tr class = \"header\"><th class = \"rowNumber\" style = \"font-weight: bold; text-align: right;\">Row</th><th style = \"text-align: left;\">loglikehood</th><th style = \"text-align: left;\">mu1</th><th style = \"text-align: left;\">mu2</th><th style = \"text-align: left;\">p11</th><th style = \"text-align: left;\">p21</th><th style = \"text-align: left;\">prob1</th><th style = \"text-align: left;\">sig1</th><th style = \"text-align: left;\">sig2</th></tr><tr class = \"subheader headerLastRow\"><th class = \"rowNumber\" style = \"font-weight: bold; text-align: right;\"></th><th title = \"Float64\" style = \"text-align: left;\">Float64</th><th title = \"Float64\" style = \"text-align: left;\">Float64</th><th title = \"Float64\" style = \"text-align: left;\">Float64</th><th title = \"Float64\" style = \"text-align: left;\">Float64</th><th title = \"Float64\" style = \"text-align: left;\">Float64</th><th title = \"Float64\" style = \"text-align: left;\">Float64</th><th title = \"Float64\" style = \"text-align: left;\">Float64</th><th title = \"Float64\" style = \"text-align: left;\">Float64</th></tr></thead><tbody><tr><td class = \"rowNumber\" style = \"font-weight: bold; text-align: right;\">1</td><td style = \"text-align: right;\">603.335</td><td style = \"text-align: right;\">-0.0133882</td><td style = \"text-align: right;\">0.0134086</td><td style = \"text-align: right;\">0.875439</td><td style = \"text-align: right;\">0.0496787</td><td style = \"text-align: right;\">0.285117</td><td style = \"text-align: right;\">0.0514809</td><td style = \"text-align: right;\">0.0276529</td></tr></tbody></table></div>"
      ],
      "text/latex": [
       "\\begin{tabular}{r|cccccccc}\n",
       "\t& loglikehood & mu1 & mu2 & p11 & p21 & prob1 & sig1 & sig2\\\\\n",
       "\t\\hline\n",
       "\t& Float64 & Float64 & Float64 & Float64 & Float64 & Float64 & Float64 & Float64\\\\\n",
       "\t\\hline\n",
       "\t1 & 603.335 & -0.0133882 & 0.0134086 & 0.875439 & 0.0496787 & 0.285117 & 0.0514809 & 0.0276529 \\\\\n",
       "\\end{tabular}\n"
      ],
      "text/plain": [
       "\u001b[1m1×8 DataFrame\u001b[0m\n",
       "\u001b[1m Row \u001b[0m│\u001b[1m loglikehood \u001b[0m\u001b[1m mu1        \u001b[0m\u001b[1m mu2       \u001b[0m\u001b[1m p11      \u001b[0m\u001b[1m p21       \u001b[0m\u001b[1m prob1    \u001b[0m\u001b[1m sig1\u001b[0m ⋯\n",
       "     │\u001b[90m Float64     \u001b[0m\u001b[90m Float64    \u001b[0m\u001b[90m Float64   \u001b[0m\u001b[90m Float64  \u001b[0m\u001b[90m Float64   \u001b[0m\u001b[90m Float64  \u001b[0m\u001b[90m Floa\u001b[0m ⋯\n",
       "─────┼──────────────────────────────────────────────────────────────────────────\n",
       "   1 │     603.335  -0.0133882  0.0134086  0.875439  0.0496787  0.285117  0.05 ⋯\n",
       "\u001b[36m                                                               2 columns omitted\u001b[0m"
      ]
     },
     "metadata": {},
     "output_type": "display_data"
    }
   ],
   "source": [
    "acwi_pln_98 = identity.(values(from(returns[:ACWI_Net_PLN],Date(1998,01,01))))\n",
    "println(\"mean $(mean(acwi_pln_98)*12), std: $(std(acwi_pln_98)*12^0.5)\")\n",
    "hmm_est_98_PLN, loglikehood = train_hmm(acwi_pln_98,2)\n",
    "regime_summary(loglikehood,hmm_est_98_PLN,1)"
   ]
  },
  {
   "cell_type": "code",
   "execution_count": 13,
   "metadata": {},
   "outputs": [
    {
     "data": {
      "text/html": [
       "<div><div style = \"float: left;\"><span>1×8 DataFrame</span></div><div style = \"clear: both;\"></div></div><div class = \"data-frame\" style = \"overflow-x: scroll;\"><table class = \"data-frame\" style = \"margin-bottom: 6px;\"><thead><tr class = \"header\"><th class = \"rowNumber\" style = \"font-weight: bold; text-align: right;\">Row</th><th style = \"text-align: left;\">loglikehood</th><th style = \"text-align: left;\">mu1</th><th style = \"text-align: left;\">mu2</th><th style = \"text-align: left;\">p11</th><th style = \"text-align: left;\">p21</th><th style = \"text-align: left;\">prob1</th><th style = \"text-align: left;\">sig1</th><th style = \"text-align: left;\">sig2</th></tr><tr class = \"subheader headerLastRow\"><th class = \"rowNumber\" style = \"font-weight: bold; text-align: right;\"></th><th title = \"Float64\" style = \"text-align: left;\">Float64</th><th title = \"Float64\" style = \"text-align: left;\">Float64</th><th title = \"Float64\" style = \"text-align: left;\">Float64</th><th title = \"Float64\" style = \"text-align: left;\">Float64</th><th title = \"Float64\" style = \"text-align: left;\">Float64</th><th title = \"Float64\" style = \"text-align: left;\">Float64</th><th title = \"Float64\" style = \"text-align: left;\">Float64</th><th title = \"Float64\" style = \"text-align: left;\">Float64</th></tr></thead><tbody><tr><td class = \"rowNumber\" style = \"font-weight: bold; text-align: right;\">1</td><td style = \"text-align: right;\">543.406</td><td style = \"text-align: right;\">0.143817</td><td style = \"text-align: right;\">-0.149773</td><td style = \"text-align: right;\">0.958623</td><td style = \"text-align: right;\">0.115474</td><td style = \"text-align: right;\">0.7362</td><td style = \"text-align: right;\">0.0911434</td><td style = \"text-align: right;\">0.180198</td></tr></tbody></table></div>"
      ],
      "text/latex": [
       "\\begin{tabular}{r|cccccccc}\n",
       "\t& loglikehood & mu1 & mu2 & p11 & p21 & prob1 & sig1 & sig2\\\\\n",
       "\t\\hline\n",
       "\t& Float64 & Float64 & Float64 & Float64 & Float64 & Float64 & Float64 & Float64\\\\\n",
       "\t\\hline\n",
       "\t1 & 543.406 & 0.143817 & -0.149773 & 0.958623 & 0.115474 & 0.7362 & 0.0911434 & 0.180198 \\\\\n",
       "\\end{tabular}\n"
      ],
      "text/plain": [
       "\u001b[1m1×8 DataFrame\u001b[0m\n",
       "\u001b[1m Row \u001b[0m│\u001b[1m loglikehood \u001b[0m\u001b[1m mu1      \u001b[0m\u001b[1m mu2       \u001b[0m\u001b[1m p11      \u001b[0m\u001b[1m p21      \u001b[0m\u001b[1m prob1   \u001b[0m\u001b[1m sig1    \u001b[0m ⋯\n",
       "     │\u001b[90m Float64     \u001b[0m\u001b[90m Float64  \u001b[0m\u001b[90m Float64   \u001b[0m\u001b[90m Float64  \u001b[0m\u001b[90m Float64  \u001b[0m\u001b[90m Float64 \u001b[0m\u001b[90m Float64 \u001b[0m ⋯\n",
       "─────┼──────────────────────────────────────────────────────────────────────────\n",
       "   1 │     543.406  0.143817  -0.149773  0.958623  0.115474   0.7362  0.091143 ⋯\n",
       "\u001b[36m                                                               2 columns omitted\u001b[0m"
      ]
     },
     "metadata": {},
     "output_type": "display_data"
    }
   ],
   "source": [
    "acwi_pln_01 = identity.(values(from(returns[:ACWI_Net_PLN],Date(2001,01,01))))\n",
    "hmm_est, loglikehood = train_hmm(acwi_pln_01,2)\n",
    "regime_summary(loglikehood,hmm_est,12)"
   ]
  },
  {
   "cell_type": "code",
   "execution_count": 14,
   "metadata": {},
   "outputs": [
    {
     "data": {
      "text/html": [
       "<div><div style = \"float: left;\"><span>1×8 DataFrame</span></div><div style = \"clear: both;\"></div></div><div class = \"data-frame\" style = \"overflow-x: scroll;\"><table class = \"data-frame\" style = \"margin-bottom: 6px;\"><thead><tr class = \"header\"><th class = \"rowNumber\" style = \"font-weight: bold; text-align: right;\">Row</th><th style = \"text-align: left;\">loglikehood</th><th style = \"text-align: left;\">mu1</th><th style = \"text-align: left;\">mu2</th><th style = \"text-align: left;\">p11</th><th style = \"text-align: left;\">p21</th><th style = \"text-align: left;\">prob1</th><th style = \"text-align: left;\">sig1</th><th style = \"text-align: left;\">sig2</th></tr><tr class = \"subheader headerLastRow\"><th class = \"rowNumber\" style = \"font-weight: bold; text-align: right;\"></th><th title = \"Float64\" style = \"text-align: left;\">Float64</th><th title = \"Float64\" style = \"text-align: left;\">Float64</th><th title = \"Float64\" style = \"text-align: left;\">Float64</th><th title = \"Float64\" style = \"text-align: left;\">Float64</th><th title = \"Float64\" style = \"text-align: left;\">Float64</th><th title = \"Float64\" style = \"text-align: left;\">Float64</th><th title = \"Float64\" style = \"text-align: left;\">Float64</th><th title = \"Float64\" style = \"text-align: left;\">Float64</th></tr></thead><tbody><tr><td class = \"rowNumber\" style = \"font-weight: bold; text-align: right;\">1</td><td style = \"text-align: right;\">508.416</td><td style = \"text-align: right;\">-0.0952002</td><td style = \"text-align: right;\">0.143987</td><td style = \"text-align: right;\">0.837684</td><td style = \"text-align: right;\">0.045082</td><td style = \"text-align: right;\">0.21737</td><td style = \"text-align: right;\">0.178229</td><td style = \"text-align: right;\">0.0905749</td></tr></tbody></table></div>"
      ],
      "text/latex": [
       "\\begin{tabular}{r|cccccccc}\n",
       "\t& loglikehood & mu1 & mu2 & p11 & p21 & prob1 & sig1 & sig2\\\\\n",
       "\t\\hline\n",
       "\t& Float64 & Float64 & Float64 & Float64 & Float64 & Float64 & Float64 & Float64\\\\\n",
       "\t\\hline\n",
       "\t1 & 508.416 & -0.0952002 & 0.143987 & 0.837684 & 0.045082 & 0.21737 & 0.178229 & 0.0905749 \\\\\n",
       "\\end{tabular}\n"
      ],
      "text/plain": [
       "\u001b[1m1×8 DataFrame\u001b[0m\n",
       "\u001b[1m Row \u001b[0m│\u001b[1m loglikehood \u001b[0m\u001b[1m mu1        \u001b[0m\u001b[1m mu2      \u001b[0m\u001b[1m p11      \u001b[0m\u001b[1m p21      \u001b[0m\u001b[1m prob1   \u001b[0m\u001b[1m sig1   \u001b[0m ⋯\n",
       "     │\u001b[90m Float64     \u001b[0m\u001b[90m Float64    \u001b[0m\u001b[90m Float64  \u001b[0m\u001b[90m Float64  \u001b[0m\u001b[90m Float64  \u001b[0m\u001b[90m Float64 \u001b[0m\u001b[90m Float64\u001b[0m ⋯\n",
       "─────┼──────────────────────────────────────────────────────────────────────────\n",
       "   1 │     508.416  -0.0952002  0.143987  0.837684  0.045082  0.21737  0.17822 ⋯\n",
       "\u001b[36m                                                               2 columns omitted\u001b[0m"
      ]
     },
     "metadata": {},
     "output_type": "display_data"
    }
   ],
   "source": [
    "acwi_pln_03 = identity.(values(from(returns[:ACWI_Net_PLN],Date(2003,01,01))))\n",
    "hmm_est, loglikehood = train_hmm(acwi_pln_03,2)\n",
    "regime_summary(loglikehood,hmm_est,12)"
   ]
  },
  {
   "cell_type": "code",
   "execution_count": 15,
   "metadata": {},
   "outputs": [
    {
     "data": {
      "text/html": [
       "<div><div style = \"float: left;\"><span>1×8 DataFrame</span></div><div style = \"clear: both;\"></div></div><div class = \"data-frame\" style = \"overflow-x: scroll;\"><table class = \"data-frame\" style = \"margin-bottom: 6px;\"><thead><tr class = \"header\"><th class = \"rowNumber\" style = \"font-weight: bold; text-align: right;\">Row</th><th style = \"text-align: left;\">loglikehood</th><th style = \"text-align: left;\">mu1</th><th style = \"text-align: left;\">mu2</th><th style = \"text-align: left;\">p11</th><th style = \"text-align: left;\">p21</th><th style = \"text-align: left;\">prob1</th><th style = \"text-align: left;\">sig1</th><th style = \"text-align: left;\">sig2</th></tr><tr class = \"subheader headerLastRow\"><th class = \"rowNumber\" style = \"font-weight: bold; text-align: right;\"></th><th title = \"Float64\" style = \"text-align: left;\">Float64</th><th title = \"Float64\" style = \"text-align: left;\">Float64</th><th title = \"Float64\" style = \"text-align: left;\">Float64</th><th title = \"Float64\" style = \"text-align: left;\">Float64</th><th title = \"Float64\" style = \"text-align: left;\">Float64</th><th title = \"Float64\" style = \"text-align: left;\">Float64</th><th title = \"Float64\" style = \"text-align: left;\">Float64</th><th title = \"Float64\" style = \"text-align: left;\">Float64</th></tr></thead><tbody><tr><td class = \"rowNumber\" style = \"font-weight: bold; text-align: right;\">1</td><td style = \"text-align: right;\">480.778</td><td style = \"text-align: right;\">1.5552</td><td style = \"text-align: right;\">-0.0320627</td><td style = \"text-align: right;\">1.39451e-14</td><td style = \"text-align: right;\">0.0219804</td><td style = \"text-align: right;\">0.0215076</td><td style = \"text-align: right;\">0.0736746</td><td style = \"text-align: right;\">0.116616</td></tr></tbody></table></div>"
      ],
      "text/latex": [
       "\\begin{tabular}{r|cccccccc}\n",
       "\t& loglikehood & mu1 & mu2 & p11 & p21 & prob1 & sig1 & \\\\\n",
       "\t\\hline\n",
       "\t& Float64 & Float64 & Float64 & Float64 & Float64 & Float64 & Float64 & \\\\\n",
       "\t\\hline\n",
       "\t1 & 480.778 & 1.5552 & -0.0320627 & 1.39451e-14 & 0.0219804 & 0.0215076 & 0.0736746 & $\\dots$ \\\\\n",
       "\\end{tabular}\n"
      ],
      "text/plain": [
       "\u001b[1m1×8 DataFrame\u001b[0m\n",
       "\u001b[1m Row \u001b[0m│\u001b[1m loglikehood \u001b[0m\u001b[1m mu1     \u001b[0m\u001b[1m mu2        \u001b[0m\u001b[1m p11         \u001b[0m\u001b[1m p21       \u001b[0m\u001b[1m prob1     \u001b[0m\u001b[1m si\u001b[0m ⋯\n",
       "     │\u001b[90m Float64     \u001b[0m\u001b[90m Float64 \u001b[0m\u001b[90m Float64    \u001b[0m\u001b[90m Float64     \u001b[0m\u001b[90m Float64   \u001b[0m\u001b[90m Float64   \u001b[0m\u001b[90m Fl\u001b[0m ⋯\n",
       "─────┼──────────────────────────────────────────────────────────────────────────\n",
       "   1 │     480.778   1.5552  -0.0320627  1.39451e-14  0.0219804  0.0215076  0. ⋯\n",
       "\u001b[36m                                                               2 columns omitted\u001b[0m"
      ]
     },
     "metadata": {},
     "output_type": "display_data"
    }
   ],
   "source": [
    "usdpln_03 = identity.(values(from(returns[:USDPLN ],Date(2003,01,01))))\n",
    "hmm_est, loglikehood = train_hmm(usdpln_03,2)\n",
    "regime_summary(loglikehood,hmm_est,12)"
   ]
  },
  {
   "cell_type": "code",
   "execution_count": 16,
   "metadata": {},
   "outputs": [],
   "source": [
    "function guess_init(n_scenarios)\n",
    "    regimes_probs = rand(1:100,n_scenarios)\n",
    "    return regimes_probs/sum(regimes_probs)\n",
    "end\n",
    "\n",
    "function guess_tmatrix(n_scenarios)\n",
    "    regimes_probs = rand(1:100,n_scenarios,n_scenarios)\n",
    "    return regimes_probs ./ sum(regimes_probs,dims=2)\n",
    "end\n",
    "\n",
    "function guess_distribution()\n",
    "    corr = Matrix(1.0I,2,2)\n",
    "    sigma = [rand(Uniform(0,0.25)),rand(Uniform(0,0.035))]\n",
    "    means = [rand(Uniform(-0.5,0.5)),rand(Uniform(-0.01,0.12))]\n",
    "    cov = cor2cov(corr,sigma)\n",
    "    return MvNormal(means,cov)\n",
    "end\n",
    "\n",
    "using LinearAlgebra"
   ]
  },
  {
   "cell_type": "code",
   "execution_count": 17,
   "metadata": {},
   "outputs": [
    {
     "name": "stdout",
     "output_type": "stream",
     "text": [
      "Hidden Markov Model with:\n",
      " - initialization: [0.29292929292929293, 0.7070707070707071]\n",
      " - transition matrix: [0.30973451327433627 0.6902654867256637; 0.6588235294117647 0.3411764705882353]\n",
      " - observation distributions: [FullNormal(\n",
      "dim: 2\n",
      "μ: [-0.3844188275276711, 0.07780487346882703]\n",
      "Σ: [0.020501322270595826 0.0; 0.0 4.713257314066823e-5]\n",
      ")\n",
      ", FullNormal(\n",
      "dim: 2\n",
      "μ: [-0.36071599047800984, 0.019259146530080005]\n",
      "Σ: [0.016563372492225985 0.0; 0.0 0.0006944647797995611]\n",
      ")\n",
      "]\n"
     ]
    }
   ],
   "source": [
    "acwi_and_pln = identity.(values(from(returns[:ACWI_Net_PLN, :USDPLN],Date(2001,01,01))))\n",
    "n_scenarios = 2\n",
    "\n",
    "\n",
    "init_guess = guess_init(n_scenarios)\n",
    "guess_matrix = guess_tmatrix(n_scenarios)\n",
    "guess_dist = [guess_distribution() for s in 1:n_scenarios]\n",
    "hmm_guess = HMM(init_guess, guess_matrix, guess_dist);\n",
    "println(hmm_guess)\n",
    "hmm_est_concat, _ = baum_welch(hmm_guess, eachrow(acwi_and_pln));"
   ]
  },
  {
   "cell_type": "code",
   "execution_count": 18,
   "metadata": {},
   "outputs": [
    {
     "data": {
      "text/plain": [
       "\"means\""
      ]
     },
     "metadata": {},
     "output_type": "display_data"
    },
    {
     "data": {
      "text/plain": [
       "2×2 Matrix{Float64}:\n",
       " 0.625333   0.0522188\n",
       " 0.891931  -0.0141613"
      ]
     },
     "metadata": {},
     "output_type": "display_data"
    },
    {
     "data": {
      "text/plain": [
       "\"std\""
      ]
     },
     "metadata": {},
     "output_type": "display_data"
    },
    {
     "data": {
      "text/plain": [
       "2×2 Matrix{Float64}:\n",
       " 0.0615123  0.128248\n",
       " 0.0609366  0.127258"
      ]
     },
     "metadata": {},
     "output_type": "display_data"
    },
    {
     "data": {
      "text/plain": [
       "\"corr\""
      ]
     },
     "metadata": {},
     "output_type": "display_data"
    },
    {
     "data": {
      "text/plain": [
       "2×2 Matrix{Float64}:\n",
       " 1.0       0.999934\n",
       " 0.999934  1.0"
      ]
     },
     "metadata": {},
     "output_type": "display_data"
    },
    {
     "data": {
      "text/plain": [
       "2×2 Matrix{Float64}:\n",
       " 1.0      0.20276\n",
       " 0.20276  1.0"
      ]
     },
     "metadata": {},
     "output_type": "display_data"
    }
   ],
   "source": [
    "dist1 = obs_distributions(hmm_est_concat)[1]\n",
    "dist2 = obs_distributions(hmm_est_concat)[2]\n",
    "\n",
    "mean1 = mean(dist1) .* 12\n",
    "mean2 = mean(dist2) .* 12\n",
    "\n",
    "std1 = sqrt.(var(dist1)) .* 12^0.5\n",
    "std2 = sqrt.(var(dist2)) .* 12^0.5\n",
    "display(\"means\")\n",
    "display([mean1 mean2])\n",
    "display(\"std\")\n",
    "display([std1 std2])\n",
    "display(\"corr\")\n",
    "cor1 = cor(dist1)\n",
    "display(cor1)\n",
    "cor2 = cor(dist2)\n",
    "display(cor2)\n"
   ]
  },
  {
   "cell_type": "code",
   "execution_count": 19,
   "metadata": {},
   "outputs": [
    {
     "data": {
      "text/plain": [
       "2-element Vector{Normal{Float64}}:\n",
       " Normal{Float64}(μ=0.013891956033510509, σ=0.023420925956529573)\n",
       " Normal{Float64}(μ=-0.003135476265857959, σ=0.059348635513330035)"
      ]
     },
     "metadata": {},
     "output_type": "display_data"
    }
   ],
   "source": [
    "acwi_short = identity.(values(from(returns[:ACWI_Net],Date(2001,01,01))))\n",
    "hmm_est, loglikehood = train_hmm(acwi_short,2)\n",
    "obs_distributions(hmm_est)"
   ]
  },
  {
   "cell_type": "code",
   "execution_count": 20,
   "metadata": {},
   "outputs": [
    {
     "data": {
      "text/plain": [
       "279-element Vector{Float64}:\n",
       " 2.0\n",
       " 2.0\n",
       " 2.0\n",
       " 2.0\n",
       " 2.0\n",
       " 2.0\n",
       " 2.0\n",
       " 2.0\n",
       " 2.0\n",
       " 2.0\n",
       " ⋮\n",
       " 2.0\n",
       " 2.0\n",
       " 2.0\n",
       " 2.0\n",
       " 2.0\n",
       " 2.0\n",
       " 2.0\n",
       " 2.0\n",
       " 2.0"
      ]
     },
     "metadata": {},
     "output_type": "display_data"
    }
   ],
   "source": [
    "acwi_short = identity.(from(returns[:ACWI_Net],Date(2001,01,01)))\n",
    "hmm_est, loglikehood = train_hmm(values(acwi_short),2)\n",
    "HMM(initialization(hmm_est), transition_matrix(hmm_est), obs_distributions(hmm_est))\n",
    "states,_ = viterbi(hmm_est,values(acwi_short))\n",
    "states = Float64.(states)"
   ]
  },
  {
   "cell_type": "code",
   "execution_count": 21,
   "metadata": {},
   "outputs": [
    {
     "data": {
      "text/plain": [
       "\"states\""
      ]
     },
     "metadata": {},
     "output_type": "display_data"
    }
   ],
   "source": [
    "acwi_states = merge(acwi_short,identity.(from((returns[:USDPLN]),Date(1998,01,01))),TimeArray(timestamp(acwi_short),states))\n",
    "CSV.write(\"states\",acwi_states)\n"
   ]
  },
  {
   "cell_type": "code",
   "execution_count": 22,
   "metadata": {},
   "outputs": [
    {
     "name": "stdout",
     "output_type": "stream",
     "text": [
      "First usd pln\n",
      "-0.02979151262801521\n",
      "0.10498902329177802\n",
      "-0.5525433853025217\n",
      "Second usd pln\n",
      "0.02323905518920558\n",
      "0.14920806835446282\n",
      "-0.6632535242025056\n"
     ]
    }
   ],
   "source": [
    "first_regime = acwi_states[findwhen(acwi_states[:A] .== 1.0)]\n",
    "second_regime = acwi_states[findwhen(acwi_states[:A] .== 2.0)]\n",
    "\n",
    "println(\"First usd pln\")\n",
    "println(mean(values(first_regime[:USDPLN]))*12)\n",
    "println(std(values(first_regime[:USDPLN]))*12^0.5)\n",
    "println(cor(values(first_regime[:USDPLN]),values(first_regime[:ACWI_Net ])))\n",
    "\n",
    "println(\"Second usd pln\")\n",
    "println(mean(values(second_regime[:USDPLN]))*12)\n",
    "println(std(values(second_regime[:USDPLN]))*12^0.5)\n",
    "println(cor(values(second_regime[:USDPLN]),values(second_regime[:ACWI_Net])))"
   ]
  },
  {
   "cell_type": "code",
   "execution_count": 23,
   "metadata": {},
   "outputs": [
    {
     "data": {
      "image/png": "[encoded data removed]",
      "image/svg+xml": [
       "<?xml version=\"1.0\" encoding=\"utf-8\"?>\n",
       "<svg xmlns=\"http://www.w3.org/2000/svg\" xmlns:xlink=\"http://www.w3.org/1999/xlink\" width=\"600\" height=\"400\" viewBox=\"0 0 2400 1600\">\n",
       "<defs>\n",
       "  <clipPath id=\"clip130\">\n",
       "    <rect x=\"0\" y=\"0\" width=\"2400\" height=\"1600\"/>\n",
       "  </clipPath>\n",
       "</defs>\n",
       "<path clip-path=\"url(#clip130)\" d=\"M0 1600 L2400 1600 L2400 0 L0 0  Z\" fill=\"#ffffff\" fill-rule=\"evenodd\" fill-opacity=\"1\"/>\n",
       "<defs>\n",
       "  <clipPath id=\"clip131\">\n",
       "    <rect x=\"480\" y=\"0\" width=\"1681\" height=\"1600\"/>\n",
       "  </clipPath>\n",
       "</defs>\n",
       "<path clip-path=\"url(#clip130)\" d=\"M192.709 1486.45 L2352.76 1486.45 L2352.76 47.2441 L192.709 47.2441  Z\" fill=\"#ffffff\" fill-rule=\"evenodd\" fill-opacity=\"1\"/>\n",
       "<defs>\n",
       "  <clipPath id=\"clip132\">\n",
       "    <rect x=\"192\" y=\"47\" width=\"2161\" height=\"1440\"/>\n",
       "  </clipPath>\n",
       "</defs>\n",
       "<polyline clip-path=\"url(#clip132)\" style=\"stroke:#000000; stroke-linecap:round; stroke-linejoin:round; stroke-width:2; stroke-opacity:0.1; fill:none\" points=\"246.616,1486.45 246.616,47.2441 \"/>\n",
       "<polyline clip-path=\"url(#clip132)\" style=\"stroke:#000000; stroke-linecap:round; stroke-linejoin:round; stroke-width:2; stroke-opacity:0.1; fill:none\" points=\"774.368,1486.45 774.368,47.2441 \"/>\n",
       "<polyline clip-path=\"url(#clip132)\" style=\"stroke:#000000; stroke-linecap:round; stroke-linejoin:round; stroke-width:2; stroke-opacity:0.1; fill:none\" points=\"1302.36,1486.45 1302.36,47.2441 \"/>\n",
       "<polyline clip-path=\"url(#clip132)\" style=\"stroke:#000000; stroke-linecap:round; stroke-linejoin:round; stroke-width:2; stroke-opacity:0.1; fill:none\" points=\"1830.11,1486.45 1830.11,47.2441 \"/>\n",
       "<polyline clip-path=\"url(#clip130)\" style=\"stroke:#000000; stroke-linecap:round; stroke-linejoin:round; stroke-width:4; stroke-opacity:1; fill:none\" points=\"192.709,1486.45 2352.76,1486.45 \"/>\n",
       "<polyline clip-path=\"url(#clip130)\" style=\"stroke:#000000; stroke-linecap:round; stroke-linejoin:round; stroke-width:4; stroke-opacity:1; fill:none\" points=\"246.616,1486.45 246.616,1467.55 \"/>\n",
       "<polyline clip-path=\"url(#clip130)\" style=\"stroke:#000000; stroke-linecap:round; stroke-linejoin:round; stroke-width:4; stroke-opacity:1; fill:none\" points=\"774.368,1486.45 774.368,1467.55 \"/>\n",
       "<polyline clip-path=\"url(#clip130)\" style=\"stroke:#000000; stroke-linecap:round; stroke-linejoin:round; stroke-width:4; stroke-opacity:1; fill:none\" points=\"1302.36,1486.45 1302.36,1467.55 \"/>\n",
       "<polyline clip-path=\"url(#clip130)\" style=\"stroke:#000000; stroke-linecap:round; stroke-linejoin:round; stroke-width:4; stroke-opacity:1; fill:none\" points=\"1830.11,1486.45 1830.11,1467.55 \"/>\n",
       "<path clip-path=\"url(#clip130)\" d=\"M118.411 1544.91 L134.73 1544.91 L134.73 1548.85 L112.786 1548.85 L112.786 1544.91 Q115.448 1542.16 120.031 1537.53 Q124.638 1532.88 125.818 1531.53 Q128.064 1529.01 128.943 1527.27 Q129.846 1525.51 129.846 1523.82 Q129.846 1521.07 127.902 1519.33 Q125.98 1517.6 122.879 1517.6 Q120.68 1517.6 118.226 1518.36 Q115.795 1519.13 113.018 1520.68 L113.018 1515.95 Q115.842 1514.82 118.295 1514.24 Q120.749 1513.66 122.786 1513.66 Q128.156 1513.66 131.351 1516.35 Q134.545 1519.03 134.545 1523.52 Q134.545 1525.65 133.735 1527.57 Q132.948 1529.47 130.842 1532.07 Q130.263 1532.74 127.161 1535.95 Q124.059 1539.15 118.411 1544.91 Z\" fill=\"#000000\" fill-rule=\"nonzero\" fill-opacity=\"1\" /><path clip-path=\"url(#clip130)\" d=\"M154.545 1517.37 Q150.934 1517.37 149.105 1520.93 Q147.3 1524.47 147.3 1531.6 Q147.3 1538.71 149.105 1542.27 Q150.934 1545.82 154.545 1545.82 Q158.179 1545.82 159.985 1542.27 Q161.814 1538.71 161.814 1531.6 Q161.814 1524.47 159.985 1520.93 Q158.179 1517.37 154.545 1517.37 M154.545 1513.66 Q160.355 1513.66 163.411 1518.27 Q166.489 1522.85 166.489 1531.6 Q166.489 1540.33 163.411 1544.94 Q160.355 1549.52 154.545 1549.52 Q148.735 1549.52 145.656 1544.94 Q142.601 1540.33 142.601 1531.6 Q142.601 1522.85 145.656 1518.27 Q148.735 1513.66 154.545 1513.66 Z\" fill=\"#000000\" fill-rule=\"nonzero\" fill-opacity=\"1\" /><path clip-path=\"url(#clip130)\" d=\"M184.707 1517.37 Q181.096 1517.37 179.267 1520.93 Q177.462 1524.47 177.462 1531.6 Q177.462 1538.71 179.267 1542.27 Q181.096 1545.82 184.707 1545.82 Q188.341 1545.82 190.147 1542.27 Q191.975 1538.71 191.975 1531.6 Q191.975 1524.47 190.147 1520.93 Q188.341 1517.37 184.707 1517.37 M184.707 1513.66 Q190.517 1513.66 193.573 1518.27 Q196.651 1522.85 196.651 1531.6 Q196.651 1540.33 193.573 1544.94 Q190.517 1549.52 184.707 1549.52 Q178.897 1549.52 175.818 1544.94 Q172.763 1540.33 172.763 1531.6 Q172.763 1522.85 175.818 1518.27 Q178.897 1513.66 184.707 1513.66 Z\" fill=\"#000000\" fill-rule=\"nonzero\" fill-opacity=\"1\" /><path clip-path=\"url(#clip130)\" d=\"M205.679 1544.91 L213.318 1544.91 L213.318 1518.55 L205.008 1520.21 L205.008 1515.95 L213.272 1514.29 L217.948 1514.29 L217.948 1544.91 L225.586 1544.91 L225.586 1548.85 L205.679 1548.85 L205.679 1544.91 Z\" fill=\"#000000\" fill-rule=\"nonzero\" fill-opacity=\"1\" /><path clip-path=\"url(#clip130)\" d=\"M232.276 1533.96 L244.753 1533.96 L244.753 1537.76 L232.276 1537.76 L232.276 1533.96 Z\" fill=\"#000000\" fill-rule=\"nonzero\" fill-opacity=\"1\" /><path clip-path=\"url(#clip130)\" d=\"M262.137 1517.37 Q258.526 1517.37 256.697 1520.93 Q254.892 1524.47 254.892 1531.6 Q254.892 1538.71 256.697 1542.27 Q258.526 1545.82 262.137 1545.82 Q265.771 1545.82 267.577 1542.27 Q269.406 1538.71 269.406 1531.6 Q269.406 1524.47 267.577 1520.93 Q265.771 1517.37 262.137 1517.37 M262.137 1513.66 Q267.947 1513.66 271.003 1518.27 Q274.082 1522.85 274.082 1531.6 Q274.082 1540.33 271.003 1544.94 Q267.947 1549.52 262.137 1549.52 Q256.327 1549.52 253.248 1544.94 Q250.193 1540.33 250.193 1531.6 Q250.193 1522.85 253.248 1518.27 Q256.327 1513.66 262.137 1513.66 Z\" fill=\"#000000\" fill-rule=\"nonzero\" fill-opacity=\"1\" /><path clip-path=\"url(#clip130)\" d=\"M283.109 1544.91 L290.748 1544.91 L290.748 1518.55 L282.438 1520.21 L282.438 1515.95 L290.702 1514.29 L295.378 1514.29 L295.378 1544.91 L303.017 1544.91 L303.017 1548.85 L283.109 1548.85 L283.109 1544.91 Z\" fill=\"#000000\" fill-rule=\"nonzero\" fill-opacity=\"1\" /><path clip-path=\"url(#clip130)\" d=\"M309.706 1533.96 L322.183 1533.96 L322.183 1537.76 L309.706 1537.76 L309.706 1533.96 Z\" fill=\"#000000\" fill-rule=\"nonzero\" fill-opacity=\"1\" /><path clip-path=\"url(#clip130)\" d=\"M339.567 1517.37 Q335.956 1517.37 334.127 1520.93 Q332.322 1524.47 332.322 1531.6 Q332.322 1538.71 334.127 1542.27 Q335.956 1545.82 339.567 1545.82 Q343.202 1545.82 345.007 1542.27 Q346.836 1538.71 346.836 1531.6 Q346.836 1524.47 345.007 1520.93 Q343.202 1517.37 339.567 1517.37 M339.567 1513.66 Q345.377 1513.66 348.433 1518.27 Q351.512 1522.85 351.512 1531.6 Q351.512 1540.33 348.433 1544.94 Q345.377 1549.52 339.567 1549.52 Q333.757 1549.52 330.678 1544.94 Q327.623 1540.33 327.623 1531.6 Q327.623 1522.85 330.678 1518.27 Q333.757 1513.66 339.567 1513.66 Z\" fill=\"#000000\" fill-rule=\"nonzero\" fill-opacity=\"1\" /><path clip-path=\"url(#clip130)\" d=\"M360.539 1544.91 L368.178 1544.91 L368.178 1518.55 L359.868 1520.21 L359.868 1515.95 L368.132 1514.29 L372.808 1514.29 L372.808 1544.91 L380.447 1544.91 L380.447 1548.85 L360.539 1548.85 L360.539 1544.91 Z\" fill=\"#000000\" fill-rule=\"nonzero\" fill-opacity=\"1\" /><path clip-path=\"url(#clip130)\" d=\"M646.162 1544.91 L662.482 1544.91 L662.482 1548.85 L640.537 1548.85 L640.537 1544.91 Q643.199 1542.16 647.783 1537.53 Q652.389 1532.88 653.57 1531.53 Q655.815 1529.01 656.695 1527.27 Q657.597 1525.51 657.597 1523.82 Q657.597 1521.07 655.653 1519.33 Q653.732 1517.6 650.63 1517.6 Q648.431 1517.6 645.977 1518.36 Q643.547 1519.13 640.769 1520.68 L640.769 1515.95 Q643.593 1514.82 646.047 1514.24 Q648.5 1513.66 650.537 1513.66 Q655.908 1513.66 659.102 1516.35 Q662.297 1519.03 662.297 1523.52 Q662.297 1525.65 661.486 1527.57 Q660.699 1529.47 658.593 1532.07 Q658.014 1532.74 654.912 1535.95 Q651.81 1539.15 646.162 1544.91 Z\" fill=\"#000000\" fill-rule=\"nonzero\" fill-opacity=\"1\" /><path clip-path=\"url(#clip130)\" d=\"M682.296 1517.37 Q678.685 1517.37 676.857 1520.93 Q675.051 1524.47 675.051 1531.6 Q675.051 1538.71 676.857 1542.27 Q678.685 1545.82 682.296 1545.82 Q685.931 1545.82 687.736 1542.27 Q689.565 1538.71 689.565 1531.6 Q689.565 1524.47 687.736 1520.93 Q685.931 1517.37 682.296 1517.37 M682.296 1513.66 Q688.107 1513.66 691.162 1518.27 Q694.241 1522.85 694.241 1531.6 Q694.241 1540.33 691.162 1544.94 Q688.107 1549.52 682.296 1549.52 Q676.486 1549.52 673.408 1544.94 Q670.352 1540.33 670.352 1531.6 Q670.352 1522.85 673.408 1518.27 Q676.486 1513.66 682.296 1513.66 Z\" fill=\"#000000\" fill-rule=\"nonzero\" fill-opacity=\"1\" /><path clip-path=\"url(#clip130)\" d=\"M712.458 1517.37 Q708.847 1517.37 707.018 1520.93 Q705.213 1524.47 705.213 1531.6 Q705.213 1538.71 707.018 1542.27 Q708.847 1545.82 712.458 1545.82 Q716.093 1545.82 717.898 1542.27 Q719.727 1538.71 719.727 1531.6 Q719.727 1524.47 717.898 1520.93 Q716.093 1517.37 712.458 1517.37 M712.458 1513.66 Q718.268 1513.66 721.324 1518.27 Q724.403 1522.85 724.403 1531.6 Q724.403 1540.33 721.324 1544.94 Q718.268 1549.52 712.458 1549.52 Q706.648 1549.52 703.569 1544.94 Q700.514 1540.33 700.514 1531.6 Q700.514 1522.85 703.569 1518.27 Q706.648 1513.66 712.458 1513.66 Z\" fill=\"#000000\" fill-rule=\"nonzero\" fill-opacity=\"1\" /><path clip-path=\"url(#clip130)\" d=\"M731.44 1514.29 L753.662 1514.29 L753.662 1516.28 L741.116 1548.85 L736.231 1548.85 L748.037 1518.22 L731.44 1518.22 L731.44 1514.29 Z\" fill=\"#000000\" fill-rule=\"nonzero\" fill-opacity=\"1\" /><path clip-path=\"url(#clip130)\" d=\"M760.027 1533.96 L772.504 1533.96 L772.504 1537.76 L760.027 1537.76 L760.027 1533.96 Z\" fill=\"#000000\" fill-rule=\"nonzero\" fill-opacity=\"1\" /><path clip-path=\"url(#clip130)\" d=\"M789.888 1517.37 Q786.277 1517.37 784.449 1520.93 Q782.643 1524.47 782.643 1531.6 Q782.643 1538.71 784.449 1542.27 Q786.277 1545.82 789.888 1545.82 Q793.523 1545.82 795.328 1542.27 Q797.157 1538.71 797.157 1531.6 Q797.157 1524.47 795.328 1520.93 Q793.523 1517.37 789.888 1517.37 M789.888 1513.66 Q795.699 1513.66 798.754 1518.27 Q801.833 1522.85 801.833 1531.6 Q801.833 1540.33 798.754 1544.94 Q795.699 1549.52 789.888 1549.52 Q784.078 1549.52 781 1544.94 Q777.944 1540.33 777.944 1531.6 Q777.944 1522.85 781 1518.27 Q784.078 1513.66 789.888 1513.66 Z\" fill=\"#000000\" fill-rule=\"nonzero\" fill-opacity=\"1\" /><path clip-path=\"url(#clip130)\" d=\"M810.861 1544.91 L818.499 1544.91 L818.499 1518.55 L810.189 1520.21 L810.189 1515.95 L818.453 1514.29 L823.129 1514.29 L823.129 1544.91 L830.768 1544.91 L830.768 1548.85 L810.861 1548.85 L810.861 1544.91 Z\" fill=\"#000000\" fill-rule=\"nonzero\" fill-opacity=\"1\" /><path clip-path=\"url(#clip130)\" d=\"M837.458 1533.96 L849.934 1533.96 L849.934 1537.76 L837.458 1537.76 L837.458 1533.96 Z\" fill=\"#000000\" fill-rule=\"nonzero\" fill-opacity=\"1\" /><path clip-path=\"url(#clip130)\" d=\"M867.319 1517.37 Q863.707 1517.37 861.879 1520.93 Q860.073 1524.47 860.073 1531.6 Q860.073 1538.71 861.879 1542.27 Q863.707 1545.82 867.319 1545.82 Q870.953 1545.82 872.758 1542.27 Q874.587 1538.71 874.587 1531.6 Q874.587 1524.47 872.758 1520.93 Q870.953 1517.37 867.319 1517.37 M867.319 1513.66 Q873.129 1513.66 876.184 1518.27 Q879.263 1522.85 879.263 1531.6 Q879.263 1540.33 876.184 1544.94 Q873.129 1549.52 867.319 1549.52 Q861.508 1549.52 858.43 1544.94 Q855.374 1540.33 855.374 1531.6 Q855.374 1522.85 858.43 1518.27 Q861.508 1513.66 867.319 1513.66 Z\" fill=\"#000000\" fill-rule=\"nonzero\" fill-opacity=\"1\" /><path clip-path=\"url(#clip130)\" d=\"M888.291 1544.91 L895.93 1544.91 L895.93 1518.55 L887.619 1520.21 L887.619 1515.95 L895.883 1514.29 L900.559 1514.29 L900.559 1544.91 L908.198 1544.91 L908.198 1548.85 L888.291 1548.85 L888.291 1544.91 Z\" fill=\"#000000\" fill-rule=\"nonzero\" fill-opacity=\"1\" /><path clip-path=\"url(#clip130)\" d=\"M1174.15 1544.91 L1190.47 1544.91 L1190.47 1548.85 L1168.53 1548.85 L1168.53 1544.91 Q1171.19 1542.16 1175.77 1537.53 Q1180.38 1532.88 1181.56 1531.53 Q1183.81 1529.01 1184.69 1527.27 Q1185.59 1525.51 1185.59 1523.82 Q1185.59 1521.07 1183.65 1519.33 Q1181.72 1517.6 1178.62 1517.6 Q1176.42 1517.6 1173.97 1518.36 Q1171.54 1519.13 1168.76 1520.68 L1168.76 1515.95 Q1171.59 1514.82 1174.04 1514.24 Q1176.49 1513.66 1178.53 1513.66 Q1183.9 1513.66 1187.09 1516.35 Q1190.29 1519.03 1190.29 1523.52 Q1190.29 1525.65 1189.48 1527.57 Q1188.69 1529.47 1186.58 1532.07 Q1186.01 1532.74 1182.9 1535.95 Q1179.8 1539.15 1174.15 1544.91 Z\" fill=\"#000000\" fill-rule=\"nonzero\" fill-opacity=\"1\" /><path clip-path=\"url(#clip130)\" d=\"M1210.29 1517.37 Q1206.68 1517.37 1204.85 1520.93 Q1203.04 1524.47 1203.04 1531.6 Q1203.04 1538.71 1204.85 1542.27 Q1206.68 1545.82 1210.29 1545.82 Q1213.92 1545.82 1215.73 1542.27 Q1217.56 1538.71 1217.56 1531.6 Q1217.56 1524.47 1215.73 1520.93 Q1213.92 1517.37 1210.29 1517.37 M1210.29 1513.66 Q1216.1 1513.66 1219.15 1518.27 Q1222.23 1522.85 1222.23 1531.6 Q1222.23 1540.33 1219.15 1544.94 Q1216.1 1549.52 1210.29 1549.52 Q1204.48 1549.52 1201.4 1544.94 Q1198.34 1540.33 1198.34 1531.6 Q1198.34 1522.85 1201.4 1518.27 Q1204.48 1513.66 1210.29 1513.66 Z\" fill=\"#000000\" fill-rule=\"nonzero\" fill-opacity=\"1\" /><path clip-path=\"url(#clip130)\" d=\"M1231.26 1544.91 L1238.9 1544.91 L1238.9 1518.55 L1230.59 1520.21 L1230.59 1515.95 L1238.85 1514.29 L1243.53 1514.29 L1243.53 1544.91 L1251.17 1544.91 L1251.17 1548.85 L1231.26 1548.85 L1231.26 1544.91 Z\" fill=\"#000000\" fill-rule=\"nonzero\" fill-opacity=\"1\" /><path clip-path=\"url(#clip130)\" d=\"M1274.78 1530.21 Q1278.14 1530.93 1280.01 1533.2 Q1281.91 1535.47 1281.91 1538.8 Q1281.91 1543.92 1278.39 1546.72 Q1274.87 1549.52 1268.39 1549.52 Q1266.21 1549.52 1263.9 1549.08 Q1261.61 1548.66 1259.15 1547.81 L1259.15 1543.29 Q1261.1 1544.43 1263.41 1545.01 Q1265.73 1545.58 1268.25 1545.58 Q1272.65 1545.58 1274.94 1543.85 Q1277.26 1542.11 1277.26 1538.8 Q1277.26 1535.75 1275.1 1534.03 Q1272.97 1532.3 1269.15 1532.3 L1265.13 1532.3 L1265.13 1528.45 L1269.34 1528.45 Q1272.79 1528.45 1274.62 1527.09 Q1276.45 1525.7 1276.45 1523.11 Q1276.45 1520.45 1274.55 1519.03 Q1272.67 1517.6 1269.15 1517.6 Q1267.23 1517.6 1265.03 1518.01 Q1262.83 1518.43 1260.2 1519.31 L1260.2 1515.14 Q1262.86 1514.4 1265.17 1514.03 Q1267.51 1513.66 1269.57 1513.66 Q1274.89 1513.66 1278 1516.09 Q1281.1 1518.5 1281.1 1522.62 Q1281.1 1525.49 1279.45 1527.48 Q1277.81 1529.45 1274.78 1530.21 Z\" fill=\"#000000\" fill-rule=\"nonzero\" fill-opacity=\"1\" /><path clip-path=\"url(#clip130)\" d=\"M1288.02 1533.96 L1300.5 1533.96 L1300.5 1537.76 L1288.02 1537.76 L1288.02 1533.96 Z\" fill=\"#000000\" fill-rule=\"nonzero\" fill-opacity=\"1\" /><path clip-path=\"url(#clip130)\" d=\"M1317.88 1517.37 Q1314.27 1517.37 1312.44 1520.93 Q1310.64 1524.47 1310.64 1531.6 Q1310.64 1538.71 1312.44 1542.27 Q1314.27 1545.82 1317.88 1545.82 Q1321.51 1545.82 1323.32 1542.27 Q1325.15 1538.71 1325.15 1531.6 Q1325.15 1524.47 1323.32 1520.93 Q1321.51 1517.37 1317.88 1517.37 M1317.88 1513.66 Q1323.69 1513.66 1326.75 1518.27 Q1329.82 1522.85 1329.82 1531.6 Q1329.82 1540.33 1326.75 1544.94 Q1323.69 1549.52 1317.88 1549.52 Q1312.07 1549.52 1308.99 1544.94 Q1305.94 1540.33 1305.94 1531.6 Q1305.94 1522.85 1308.99 1518.27 Q1312.07 1513.66 1317.88 1513.66 Z\" fill=\"#000000\" fill-rule=\"nonzero\" fill-opacity=\"1\" /><path clip-path=\"url(#clip130)\" d=\"M1338.85 1544.91 L1346.49 1544.91 L1346.49 1518.55 L1338.18 1520.21 L1338.18 1515.95 L1346.45 1514.29 L1351.12 1514.29 L1351.12 1544.91 L1358.76 1544.91 L1358.76 1548.85 L1338.85 1548.85 L1338.85 1544.91 Z\" fill=\"#000000\" fill-rule=\"nonzero\" fill-opacity=\"1\" /><path clip-path=\"url(#clip130)\" d=\"M1365.45 1533.96 L1377.93 1533.96 L1377.93 1537.76 L1365.45 1537.76 L1365.45 1533.96 Z\" fill=\"#000000\" fill-rule=\"nonzero\" fill-opacity=\"1\" /><path clip-path=\"url(#clip130)\" d=\"M1395.31 1517.37 Q1391.7 1517.37 1389.87 1520.93 Q1388.07 1524.47 1388.07 1531.6 Q1388.07 1538.71 1389.87 1542.27 Q1391.7 1545.82 1395.31 1545.82 Q1398.94 1545.82 1400.75 1542.27 Q1402.58 1538.71 1402.58 1531.6 Q1402.58 1524.47 1400.75 1520.93 Q1398.94 1517.37 1395.31 1517.37 M1395.31 1513.66 Q1401.12 1513.66 1404.18 1518.27 Q1407.26 1522.85 1407.26 1531.6 Q1407.26 1540.33 1404.18 1544.94 Q1401.12 1549.52 1395.31 1549.52 Q1389.5 1549.52 1386.42 1544.94 Q1383.37 1540.33 1383.37 1531.6 Q1383.37 1522.85 1386.42 1518.27 Q1389.5 1513.66 1395.31 1513.66 Z\" fill=\"#000000\" fill-rule=\"nonzero\" fill-opacity=\"1\" /><path clip-path=\"url(#clip130)\" d=\"M1416.28 1544.91 L1423.92 1544.91 L1423.92 1518.55 L1415.61 1520.21 L1415.61 1515.95 L1423.88 1514.29 L1428.55 1514.29 L1428.55 1544.91 L1436.19 1544.91 L1436.19 1548.85 L1416.28 1548.85 L1416.28 1544.91 Z\" fill=\"#000000\" fill-rule=\"nonzero\" fill-opacity=\"1\" /><path clip-path=\"url(#clip130)\" d=\"M1701.91 1544.91 L1718.23 1544.91 L1718.23 1548.85 L1696.28 1548.85 L1696.28 1544.91 Q1698.94 1542.16 1703.53 1537.53 Q1708.13 1532.88 1709.31 1531.53 Q1711.56 1529.01 1712.44 1527.27 Q1713.34 1525.51 1713.34 1523.82 Q1713.34 1521.07 1711.4 1519.33 Q1709.48 1517.6 1706.37 1517.6 Q1704.17 1517.6 1701.72 1518.36 Q1699.29 1519.13 1696.51 1520.68 L1696.51 1515.95 Q1699.34 1514.82 1701.79 1514.24 Q1704.24 1513.66 1706.28 1513.66 Q1711.65 1513.66 1714.85 1516.35 Q1718.04 1519.03 1718.04 1523.52 Q1718.04 1525.65 1717.23 1527.57 Q1716.44 1529.47 1714.34 1532.07 Q1713.76 1532.74 1710.66 1535.95 Q1707.55 1539.15 1701.91 1544.91 Z\" fill=\"#000000\" fill-rule=\"nonzero\" fill-opacity=\"1\" /><path clip-path=\"url(#clip130)\" d=\"M1738.04 1517.37 Q1734.43 1517.37 1732.6 1520.93 Q1730.79 1524.47 1730.79 1531.6 Q1730.79 1538.71 1732.6 1542.27 Q1734.43 1545.82 1738.04 1545.82 Q1741.67 1545.82 1743.48 1542.27 Q1745.31 1538.71 1745.31 1531.6 Q1745.31 1524.47 1743.48 1520.93 Q1741.67 1517.37 1738.04 1517.37 M1738.04 1513.66 Q1743.85 1513.66 1746.91 1518.27 Q1749.98 1522.85 1749.98 1531.6 Q1749.98 1540.33 1746.91 1544.94 Q1743.85 1549.52 1738.04 1549.52 Q1732.23 1549.52 1729.15 1544.94 Q1726.1 1540.33 1726.1 1531.6 Q1726.1 1522.85 1729.15 1518.27 Q1732.23 1513.66 1738.04 1513.66 Z\" fill=\"#000000\" fill-rule=\"nonzero\" fill-opacity=\"1\" /><path clip-path=\"url(#clip130)\" d=\"M1759.01 1544.91 L1766.65 1544.91 L1766.65 1518.55 L1758.34 1520.21 L1758.34 1515.95 L1766.6 1514.29 L1771.28 1514.29 L1771.28 1544.91 L1778.92 1544.91 L1778.92 1548.85 L1759.01 1548.85 L1759.01 1544.91 Z\" fill=\"#000000\" fill-rule=\"nonzero\" fill-opacity=\"1\" /><path clip-path=\"url(#clip130)\" d=\"M1788.5 1548.13 L1788.5 1543.87 Q1790.26 1544.7 1792.07 1545.14 Q1793.87 1545.58 1795.61 1545.58 Q1800.24 1545.58 1802.67 1542.48 Q1805.12 1539.36 1805.47 1533.01 Q1804.13 1535.01 1802.07 1536.07 Q1800.01 1537.13 1797.51 1537.13 Q1792.32 1537.13 1789.29 1534.01 Q1786.28 1530.86 1786.28 1525.42 Q1786.28 1520.1 1789.43 1516.88 Q1792.58 1513.66 1797.81 1513.66 Q1803.8 1513.66 1806.95 1518.27 Q1810.12 1522.85 1810.12 1531.6 Q1810.12 1539.77 1806.23 1544.66 Q1802.37 1549.52 1795.82 1549.52 Q1794.06 1549.52 1792.25 1549.17 Q1790.45 1548.82 1788.5 1548.13 M1797.81 1533.48 Q1800.96 1533.48 1802.78 1531.32 Q1804.64 1529.17 1804.64 1525.42 Q1804.64 1521.7 1802.78 1519.54 Q1800.96 1517.37 1797.81 1517.37 Q1794.66 1517.37 1792.81 1519.54 Q1790.98 1521.7 1790.98 1525.42 Q1790.98 1529.17 1792.81 1531.32 Q1794.66 1533.48 1797.81 1533.48 Z\" fill=\"#000000\" fill-rule=\"nonzero\" fill-opacity=\"1\" /><path clip-path=\"url(#clip130)\" d=\"M1815.77 1533.96 L1828.25 1533.96 L1828.25 1537.76 L1815.77 1537.76 L1815.77 1533.96 Z\" fill=\"#000000\" fill-rule=\"nonzero\" fill-opacity=\"1\" /><path clip-path=\"url(#clip130)\" d=\"M1845.63 1517.37 Q1842.02 1517.37 1840.19 1520.93 Q1838.39 1524.47 1838.39 1531.6 Q1838.39 1538.71 1840.19 1542.27 Q1842.02 1545.82 1845.63 1545.82 Q1849.27 1545.82 1851.07 1542.27 Q1852.9 1538.71 1852.9 1531.6 Q1852.9 1524.47 1851.07 1520.93 Q1849.27 1517.37 1845.63 1517.37 M1845.63 1513.66 Q1851.44 1513.66 1854.5 1518.27 Q1857.58 1522.85 1857.58 1531.6 Q1857.58 1540.33 1854.5 1544.94 Q1851.44 1549.52 1845.63 1549.52 Q1839.82 1549.52 1836.74 1544.94 Q1833.69 1540.33 1833.69 1531.6 Q1833.69 1522.85 1836.74 1518.27 Q1839.82 1513.66 1845.63 1513.66 Z\" fill=\"#000000\" fill-rule=\"nonzero\" fill-opacity=\"1\" /><path clip-path=\"url(#clip130)\" d=\"M1866.6 1544.91 L1874.24 1544.91 L1874.24 1518.55 L1865.93 1520.21 L1865.93 1515.95 L1874.2 1514.29 L1878.87 1514.29 L1878.87 1544.91 L1886.51 1544.91 L1886.51 1548.85 L1866.6 1548.85 L1866.6 1544.91 Z\" fill=\"#000000\" fill-rule=\"nonzero\" fill-opacity=\"1\" /><path clip-path=\"url(#clip130)\" d=\"M1893.2 1533.96 L1905.68 1533.96 L1905.68 1537.76 L1893.2 1537.76 L1893.2 1533.96 Z\" fill=\"#000000\" fill-rule=\"nonzero\" fill-opacity=\"1\" /><path clip-path=\"url(#clip130)\" d=\"M1923.06 1517.37 Q1919.45 1517.37 1917.62 1520.93 Q1915.82 1524.47 1915.82 1531.6 Q1915.82 1538.71 1917.62 1542.27 Q1919.45 1545.82 1923.06 1545.82 Q1926.7 1545.82 1928.5 1542.27 Q1930.33 1538.71 1930.33 1531.6 Q1930.33 1524.47 1928.5 1520.93 Q1926.7 1517.37 1923.06 1517.37 M1923.06 1513.66 Q1928.87 1513.66 1931.93 1518.27 Q1935.01 1522.85 1935.01 1531.6 Q1935.01 1540.33 1931.93 1544.94 Q1928.87 1549.52 1923.06 1549.52 Q1917.25 1549.52 1914.17 1544.94 Q1911.12 1540.33 1911.12 1531.6 Q1911.12 1522.85 1914.17 1518.27 Q1917.25 1513.66 1923.06 1513.66 Z\" fill=\"#000000\" fill-rule=\"nonzero\" fill-opacity=\"1\" /><path clip-path=\"url(#clip130)\" d=\"M1944.03 1544.91 L1951.67 1544.91 L1951.67 1518.55 L1943.36 1520.21 L1943.36 1515.95 L1951.63 1514.29 L1956.3 1514.29 L1956.3 1544.91 L1963.94 1544.91 L1963.94 1548.85 L1944.03 1548.85 L1944.03 1544.91 Z\" fill=\"#000000\" fill-rule=\"nonzero\" fill-opacity=\"1\" /><polyline clip-path=\"url(#clip132)\" style=\"stroke:#000000; stroke-linecap:round; stroke-linejoin:round; stroke-width:2; stroke-opacity:0.1; fill:none\" points=\"192.709,1361.79 2352.76,1361.79 \"/>\n",
       "<polyline clip-path=\"url(#clip132)\" style=\"stroke:#000000; stroke-linecap:round; stroke-linejoin:round; stroke-width:2; stroke-opacity:0.1; fill:none\" points=\"192.709,958.991 2352.76,958.991 \"/>\n",
       "<polyline clip-path=\"url(#clip132)\" style=\"stroke:#000000; stroke-linecap:round; stroke-linejoin:round; stroke-width:2; stroke-opacity:0.1; fill:none\" points=\"192.709,556.187 2352.76,556.187 \"/>\n",
       "<polyline clip-path=\"url(#clip132)\" style=\"stroke:#000000; stroke-linecap:round; stroke-linejoin:round; stroke-width:2; stroke-opacity:0.1; fill:none\" points=\"192.709,153.383 2352.76,153.383 \"/>\n",
       "<polyline clip-path=\"url(#clip130)\" style=\"stroke:#000000; stroke-linecap:round; stroke-linejoin:round; stroke-width:4; stroke-opacity:1; fill:none\" points=\"192.709,1486.45 192.709,47.2441 \"/>\n",
       "<polyline clip-path=\"url(#clip130)\" style=\"stroke:#000000; stroke-linecap:round; stroke-linejoin:round; stroke-width:4; stroke-opacity:1; fill:none\" points=\"192.709,1361.79 211.607,1361.79 \"/>\n",
       "<polyline clip-path=\"url(#clip130)\" style=\"stroke:#000000; stroke-linecap:round; stroke-linejoin:round; stroke-width:4; stroke-opacity:1; fill:none\" points=\"192.709,958.991 211.607,958.991 \"/>\n",
       "<polyline clip-path=\"url(#clip130)\" style=\"stroke:#000000; stroke-linecap:round; stroke-linejoin:round; stroke-width:4; stroke-opacity:1; fill:none\" points=\"192.709,556.187 211.607,556.187 \"/>\n",
       "<polyline clip-path=\"url(#clip130)\" style=\"stroke:#000000; stroke-linecap:round; stroke-linejoin:round; stroke-width:4; stroke-opacity:1; fill:none\" points=\"192.709,153.383 211.607,153.383 \"/>\n",
       "<path clip-path=\"url(#clip130)\" d=\"M51.3625 1362.25 L81.0383 1362.25 L81.0383 1366.18 L51.3625 1366.18 L51.3625 1362.25 Z\" fill=\"#000000\" fill-rule=\"nonzero\" fill-opacity=\"1\" /><path clip-path=\"url(#clip130)\" d=\"M101.131 1347.59 Q97.5197 1347.59 95.691 1351.16 Q93.8854 1354.7 93.8854 1361.83 Q93.8854 1368.94 95.691 1372.5 Q97.5197 1376.04 101.131 1376.04 Q104.765 1376.04 106.571 1372.5 Q108.399 1368.94 108.399 1361.83 Q108.399 1354.7 106.571 1351.16 Q104.765 1347.59 101.131 1347.59 M101.131 1343.89 Q106.941 1343.89 109.996 1348.5 Q113.075 1353.08 113.075 1361.83 Q113.075 1370.56 109.996 1375.16 Q106.941 1379.75 101.131 1379.75 Q95.3206 1379.75 92.2419 1375.16 Q89.1864 1370.56 89.1864 1361.83 Q89.1864 1353.08 92.2419 1348.5 Q95.3206 1343.89 101.131 1343.89 Z\" fill=\"#000000\" fill-rule=\"nonzero\" fill-opacity=\"1\" /><path clip-path=\"url(#clip130)\" d=\"M121.293 1373.19 L126.177 1373.19 L126.177 1379.07 L121.293 1379.07 L121.293 1373.19 Z\" fill=\"#000000\" fill-rule=\"nonzero\" fill-opacity=\"1\" /><path clip-path=\"url(#clip130)\" d=\"M140.39 1375.14 L156.709 1375.14 L156.709 1379.07 L134.765 1379.07 L134.765 1375.14 Q137.427 1372.38 142.01 1367.76 Q146.617 1363.1 147.797 1361.76 Q150.043 1359.24 150.922 1357.5 Q151.825 1355.74 151.825 1354.05 Q151.825 1351.3 149.88 1349.56 Q147.959 1347.82 144.857 1347.82 Q142.658 1347.82 140.205 1348.59 Q137.774 1349.35 134.996 1350.9 L134.996 1346.18 Q137.82 1345.05 140.274 1344.47 Q142.728 1343.89 144.765 1343.89 Q150.135 1343.89 153.33 1346.57 Q156.524 1349.26 156.524 1353.75 Q156.524 1355.88 155.714 1357.8 Q154.927 1359.7 152.82 1362.29 Q152.242 1362.96 149.14 1366.18 Q146.038 1369.38 140.39 1375.14 Z\" fill=\"#000000\" fill-rule=\"nonzero\" fill-opacity=\"1\" /><path clip-path=\"url(#clip130)\" d=\"M50.9921 959.442 L80.6679 959.442 L80.6679 963.377 L50.9921 963.377 L50.9921 959.442 Z\" fill=\"#000000\" fill-rule=\"nonzero\" fill-opacity=\"1\" /><path clip-path=\"url(#clip130)\" d=\"M100.76 944.789 Q97.1493 944.789 95.3206 948.354 Q93.515 951.896 93.515 959.025 Q93.515 966.132 95.3206 969.697 Q97.1493 973.238 100.76 973.238 Q104.395 973.238 106.2 969.697 Q108.029 966.132 108.029 959.025 Q108.029 951.896 106.2 948.354 Q104.395 944.789 100.76 944.789 M100.76 941.086 Q106.571 941.086 109.626 945.692 Q112.705 950.276 112.705 959.025 Q112.705 967.752 109.626 972.359 Q106.571 976.942 100.76 976.942 Q94.9502 976.942 91.8715 972.359 Q88.816 967.752 88.816 959.025 Q88.816 950.276 91.8715 945.692 Q94.9502 941.086 100.76 941.086 Z\" fill=\"#000000\" fill-rule=\"nonzero\" fill-opacity=\"1\" /><path clip-path=\"url(#clip130)\" d=\"M120.922 970.391 L125.807 970.391 L125.807 976.271 L120.922 976.271 L120.922 970.391 Z\" fill=\"#000000\" fill-rule=\"nonzero\" fill-opacity=\"1\" /><path clip-path=\"url(#clip130)\" d=\"M136.802 972.336 L144.441 972.336 L144.441 945.97 L136.131 947.637 L136.131 943.377 L144.394 941.711 L149.07 941.711 L149.07 972.336 L156.709 972.336 L156.709 976.271 L136.802 976.271 L136.802 972.336 Z\" fill=\"#000000\" fill-rule=\"nonzero\" fill-opacity=\"1\" /><path clip-path=\"url(#clip130)\" d=\"M99.5335 541.986 Q95.9224 541.986 94.0937 545.55 Q92.2882 549.092 92.2882 556.222 Q92.2882 563.328 94.0937 566.893 Q95.9224 570.435 99.5335 570.435 Q103.168 570.435 104.973 566.893 Q106.802 563.328 106.802 556.222 Q106.802 549.092 104.973 545.55 Q103.168 541.986 99.5335 541.986 M99.5335 538.282 Q105.344 538.282 108.399 542.888 Q111.478 547.472 111.478 556.222 Q111.478 564.948 108.399 569.555 Q105.344 574.138 99.5335 574.138 Q93.7234 574.138 90.6447 569.555 Q87.5892 564.948 87.5892 556.222 Q87.5892 547.472 90.6447 542.888 Q93.7234 538.282 99.5335 538.282 Z\" fill=\"#000000\" fill-rule=\"nonzero\" fill-opacity=\"1\" /><path clip-path=\"url(#clip130)\" d=\"M119.695 567.587 L124.58 567.587 L124.58 573.467 L119.695 573.467 L119.695 567.587 Z\" fill=\"#000000\" fill-rule=\"nonzero\" fill-opacity=\"1\" /><path clip-path=\"url(#clip130)\" d=\"M144.765 541.986 Q141.154 541.986 139.325 545.55 Q137.519 549.092 137.519 556.222 Q137.519 563.328 139.325 566.893 Q141.154 570.435 144.765 570.435 Q148.399 570.435 150.205 566.893 Q152.033 563.328 152.033 556.222 Q152.033 549.092 150.205 545.55 Q148.399 541.986 144.765 541.986 M144.765 538.282 Q150.575 538.282 153.63 542.888 Q156.709 547.472 156.709 556.222 Q156.709 564.948 153.63 569.555 Q150.575 574.138 144.765 574.138 Q138.955 574.138 135.876 569.555 Q132.82 564.948 132.82 556.222 Q132.82 547.472 135.876 542.888 Q138.955 538.282 144.765 538.282 Z\" fill=\"#000000\" fill-rule=\"nonzero\" fill-opacity=\"1\" /><path clip-path=\"url(#clip130)\" d=\"M100.76 139.182 Q97.1493 139.182 95.3206 142.747 Q93.515 146.288 93.515 153.418 Q93.515 160.524 95.3206 164.089 Q97.1493 167.631 100.76 167.631 Q104.395 167.631 106.2 164.089 Q108.029 160.524 108.029 153.418 Q108.029 146.288 106.2 142.747 Q104.395 139.182 100.76 139.182 M100.76 135.478 Q106.571 135.478 109.626 140.085 Q112.705 144.668 112.705 153.418 Q112.705 162.145 109.626 166.751 Q106.571 171.334 100.76 171.334 Q94.9502 171.334 91.8715 166.751 Q88.816 162.145 88.816 153.418 Q88.816 144.668 91.8715 140.085 Q94.9502 135.478 100.76 135.478 Z\" fill=\"#000000\" fill-rule=\"nonzero\" fill-opacity=\"1\" /><path clip-path=\"url(#clip130)\" d=\"M120.922 164.784 L125.807 164.784 L125.807 170.663 L120.922 170.663 L120.922 164.784 Z\" fill=\"#000000\" fill-rule=\"nonzero\" fill-opacity=\"1\" /><path clip-path=\"url(#clip130)\" d=\"M136.802 166.728 L144.441 166.728 L144.441 140.362 L136.131 142.029 L136.131 137.77 L144.394 136.103 L149.07 136.103 L149.07 166.728 L156.709 166.728 L156.709 170.663 L136.802 170.663 L136.802 166.728 Z\" fill=\"#000000\" fill-rule=\"nonzero\" fill-opacity=\"1\" /><polyline clip-path=\"url(#clip132)\" style=\"stroke:#009af9; stroke-linecap:round; stroke-linejoin:round; stroke-width:4; stroke-opacity:1; fill:none\" points=\"253.843,456.174 260.587,911.053 268.054,838.467 275.28,274.594 282.747,603.806 289.973,682.709 297.44,621.015 304.907,747.136 312.134,943.181 319.601,472.069 326.827,316.891 334.294,519.486 341.761,668.942 348.505,587.104 355.972,379.671 363.199,687.376 370.666,553.084 377.892,811.4 385.359,909.948 392.826,547.266 400.052,1025.67 407.519,271.047 414.745,343.04 422.212,754.291 429.679,676.535 436.424,629.097 443.891,573.604 451.117,214.096 458.584,331 465.81,481.465 473.277,469.024 480.744,463.082 487.97,531.792 495.438,320.042 502.664,496.321 510.131,309.689 517.598,488.718 524.583,483.941 532.05,579.276 539.276,651.922 546.743,525.031 553.969,477.247 561.437,687.218 568.904,531.714 576.13,473.417 583.597,458.906 590.823,342.424 598.29,403.284 605.757,642.544 612.501,418.982 619.969,645.928 627.195,646.059 634.662,481.656 641.888,515.676 649.355,409.914 656.822,525.721 664.048,436.754 671.515,666.181 678.741,412.124 686.208,458.32 693.675,362.629 700.42,562.098 707.887,472.356 715.113,424.305 722.58,718.191 729.806,557.926 737.273,528.788 744.74,453.086 751.967,509.516 759.434,407.879 766.66,443.87 774.127,467.303 781.594,516.315 788.338,577.448 795.805,476.214 803.031,381.224 810.499,438.168 817.725,568.062 825.192,618.17 832.659,567.349 839.885,345.555 847.352,402.032 854.578,738.339 862.045,601.024 869.512,900.403 876.498,544.803 883.965,615.732 891.191,337.514 898.658,493.72 905.884,901.315 913.351,662.171 920.818,643.956 928.044,1093.97 935.511,1445.72 942.737,829.91 950.204,412.784 957.672,915.936 964.416,971.247 971.883,237.353 979.109,106.729 986.576,173.598 993.802,578.836 1001.27,216.353 1008.74,414.642 1015.96,375.505 1023.43,618.92 1030.66,393.839 1038.12,473.624 1045.59,734.138 1052.33,505.2 1059.8,305.045 1067.03,549.416 1074.49,957.402 1081.72,682.232 1089.19,241.086 1096.65,699.521 1103.88,188.175 1111.35,413.179 1118.57,646.824 1126.04,271.519 1133.51,493.466 1140.25,440.569 1147.72,560.212 1154.95,394.672 1162.41,643.716 1169.64,620.161 1177.11,622.308 1184.57,861.733 1191.8,955.653 1199.27,146.201 1206.49,678.606 1213.96,564.334 1221.43,328.526 1228.41,358.456 1235.88,529.522 1243.11,602.516 1250.57,934.561 1257.8,362.003 1265.27,501.418 1272.73,469.542 1279.96,431.276 1287.43,583.125 1294.65,505.005 1302.12,465.967 1309.59,374.769 1316.33,556.814 1323.8,483.203 1331.02,442.73 1338.49,567.252 1345.72,675.677 1353.18,367.828 1360.65,640.995 1367.88,353.329 1375.34,397.459 1382.57,499.541 1390.04,487.289 1397.5,720.621 1404.25,366.156 1411.72,538.317 1418.94,518.022 1426.41,471.413 1433.64,481.053 1441.1,605.335 1448.57,468.185 1455.8,688.965 1463.26,527.928 1470.49,489.369 1477.96,634.673 1485.42,619.662 1492.17,337.96 1499.63,619.088 1506.86,440.979 1514.33,561.446 1521.55,652.149 1529.02,521.359 1536.49,842.233 1543.71,704.828 1551.18,251.839 1558.41,589.587 1565.87,629.492 1573.34,806.755 1580.33,583.991 1587.79,268.221 1595.02,497.162 1602.49,551.113 1609.71,580.645 1617.18,386.24 1624.65,542.658 1631.87,531.583 1639.34,625.145 1646.57,525.692 1654.03,470.098 1661.5,447.52 1668.24,444.744 1675.71,507.222 1682.94,493.886 1690.41,468.206 1697.63,537.913 1705.1,445.168 1712.57,540.781 1719.79,479.11 1727.26,473.399 1734.48,478.955 1741.95,491.763 1749.42,335.126 1756.16,729.007 1763.63,643.345 1770.86,517.908 1778.32,551.166 1785.55,578.05 1793.02,436.506 1800.48,524.677 1807.71,538.688 1815.18,869.953 1822.4,497.703 1829.87,850.384 1837.34,250.07 1844.08,449.858 1851.55,505.86 1858.77,422.416 1866.24,802.509 1873.47,300.701 1880.94,544.408 1888.4,652.885 1895.63,472.325 1903.1,447.423 1910.32,459.032 1917.79,416.787 1925.26,600.922 1932.24,895.429 1939.71,1140.37 1946.93,146.258 1954.4,384.709 1961.63,429.492 1969.09,348.602 1976.56,316.893 1983.79,688.206 1991.25,655.318 1998.48,87.9763 2005.95,373.382 2013.41,574.54 2020.16,463.958 2027.63,450.005 2034.85,383.812 2042.32,493.991 2049.55,503.452 2057.01,528.524 2064.48,456.608 2071.71,726.122 2079.17,355.651 2086.4,654.378 2093.87,398.197 2101.33,759.037 2108.08,661.593 2115.54,469.87 2122.77,892.24 2130.24,551.468 2137.46,910.904 2144.93,284.286 2152.4,707.284 2159.62,961.518 2167.09,320.152 2174.32,255.288 2181.78,717.887 2189.25,277.355 2196,673.319 2203.46,433.863 2210.69,498.709 2218.16,599.566 2225.38,328.85 2232.85,411.362 2240.32,670.35 2247.54,726.287 2255.01,679.159 2262.24,200.579 2269.7,367.21 2277.17,532.645 2284.16,386.935 2291.62,431.664 \"/>\n",
       "<path clip-path=\"url(#clip132)\" d=\"M253.843 2925.65 L253.843 -1391.96 L260.587 -1391.96 L260.587 2925.65 L253.843 2925.65  Z\" fill=\"#e26f46\" fill-rule=\"evenodd\" fill-opacity=\"0.3\"/>\n",
       "<polyline clip-path=\"url(#clip132)\" style=\"stroke:#000000; stroke-linecap:round; stroke-linejoin:round; stroke-width:0; stroke-opacity:0.3; fill:none\" points=\"253.843,2925.65 253.843,-1391.96 260.587,-1391.96 260.587,2925.65 253.843,2925.65 \"/>\n",
       "<path clip-path=\"url(#clip132)\" d=\"M268.054 2925.65 L268.054 -1391.96 L275.28 -1391.96 L275.28 2925.65 L268.054 2925.65  Z\" fill=\"#e26f46\" fill-rule=\"evenodd\" fill-opacity=\"0.3\"/>\n",
       "<polyline clip-path=\"url(#clip132)\" style=\"stroke:#000000; stroke-linecap:round; stroke-linejoin:round; stroke-width:0; stroke-opacity:0.3; fill:none\" points=\"268.054,2925.65 268.054,-1391.96 275.28,-1391.96 275.28,2925.65 268.054,2925.65 \"/>\n",
       "<path clip-path=\"url(#clip132)\" d=\"M282.747 2925.65 L282.747 -1391.96 L289.973 -1391.96 L289.973 2925.65 L282.747 2925.65  Z\" fill=\"#e26f46\" fill-rule=\"evenodd\" fill-opacity=\"0.3\"/>\n",
       "<polyline clip-path=\"url(#clip132)\" style=\"stroke:#000000; stroke-linecap:round; stroke-linejoin:round; stroke-width:0; stroke-opacity:0.3; fill:none\" points=\"282.747,2925.65 282.747,-1391.96 289.973,-1391.96 289.973,2925.65 282.747,2925.65 \"/>\n",
       "<path clip-path=\"url(#clip132)\" d=\"M297.44 2925.65 L297.44 -1391.96 L304.907 -1391.96 L304.907 2925.65 L297.44 2925.65  Z\" fill=\"#e26f46\" fill-rule=\"evenodd\" fill-opacity=\"0.3\"/>\n",
       "<polyline clip-path=\"url(#clip132)\" style=\"stroke:#000000; stroke-linecap:round; stroke-linejoin:round; stroke-width:0; stroke-opacity:0.3; fill:none\" points=\"297.44,2925.65 297.44,-1391.96 304.907,-1391.96 304.907,2925.65 297.44,2925.65 \"/>\n",
       "<path clip-path=\"url(#clip132)\" d=\"M312.134 2925.65 L312.134 -1391.96 L319.601 -1391.96 L319.601 2925.65 L312.134 2925.65  Z\" fill=\"#e26f46\" fill-rule=\"evenodd\" fill-opacity=\"0.3\"/>\n",
       "<polyline clip-path=\"url(#clip132)\" style=\"stroke:#000000; stroke-linecap:round; stroke-linejoin:round; stroke-width:0; stroke-opacity:0.3; fill:none\" points=\"312.134,2925.65 312.134,-1391.96 319.601,-1391.96 319.601,2925.65 312.134,2925.65 \"/>\n",
       "<path clip-path=\"url(#clip132)\" d=\"M326.827 2925.65 L326.827 -1391.96 L334.294 -1391.96 L334.294 2925.65 L326.827 2925.65  Z\" fill=\"#e26f46\" fill-rule=\"evenodd\" fill-opacity=\"0.3\"/>\n",
       "<polyline clip-path=\"url(#clip132)\" style=\"stroke:#000000; stroke-linecap:round; stroke-linejoin:round; stroke-width:0; stroke-opacity:0.3; fill:none\" points=\"326.827,2925.65 326.827,-1391.96 334.294,-1391.96 334.294,2925.65 326.827,2925.65 \"/>\n",
       "<path clip-path=\"url(#clip132)\" d=\"M341.761 2925.65 L341.761 -1391.96 L348.505 -1391.96 L348.505 2925.65 L341.761 2925.65  Z\" fill=\"#e26f46\" fill-rule=\"evenodd\" fill-opacity=\"0.3\"/>\n",
       "<polyline clip-path=\"url(#clip132)\" style=\"stroke:#000000; stroke-linecap:round; stroke-linejoin:round; stroke-width:0; stroke-opacity:0.3; fill:none\" points=\"341.761,2925.65 341.761,-1391.96 348.505,-1391.96 348.505,2925.65 341.761,2925.65 \"/>\n",
       "<path clip-path=\"url(#clip132)\" d=\"M355.972 2925.65 L355.972 -1391.96 L363.199 -1391.96 L363.199 2925.65 L355.972 2925.65  Z\" fill=\"#e26f46\" fill-rule=\"evenodd\" fill-opacity=\"0.3\"/>\n",
       "<polyline clip-path=\"url(#clip132)\" style=\"stroke:#000000; stroke-linecap:round; stroke-linejoin:round; stroke-width:0; stroke-opacity:0.3; fill:none\" points=\"355.972,2925.65 355.972,-1391.96 363.199,-1391.96 363.199,2925.65 355.972,2925.65 \"/>\n",
       "<path clip-path=\"url(#clip132)\" d=\"M370.666 2925.65 L370.666 -1391.96 L377.892 -1391.96 L377.892 2925.65 L370.666 2925.65  Z\" fill=\"#e26f46\" fill-rule=\"evenodd\" fill-opacity=\"0.3\"/>\n",
       "<polyline clip-path=\"url(#clip132)\" style=\"stroke:#000000; stroke-linecap:round; stroke-linejoin:round; stroke-width:0; stroke-opacity:0.3; fill:none\" points=\"370.666,2925.65 370.666,-1391.96 377.892,-1391.96 377.892,2925.65 370.666,2925.65 \"/>\n",
       "<path clip-path=\"url(#clip132)\" d=\"M385.359 2925.65 L385.359 -1391.96 L392.826 -1391.96 L392.826 2925.65 L385.359 2925.65  Z\" fill=\"#e26f46\" fill-rule=\"evenodd\" fill-opacity=\"0.3\"/>\n",
       "<polyline clip-path=\"url(#clip132)\" style=\"stroke:#000000; stroke-linecap:round; stroke-linejoin:round; stroke-width:0; stroke-opacity:0.3; fill:none\" points=\"385.359,2925.65 385.359,-1391.96 392.826,-1391.96 392.826,2925.65 385.359,2925.65 \"/>\n",
       "<path clip-path=\"url(#clip132)\" d=\"M400.052 2925.65 L400.052 -1391.96 L407.519 -1391.96 L407.519 2925.65 L400.052 2925.65  Z\" fill=\"#e26f46\" fill-rule=\"evenodd\" fill-opacity=\"0.3\"/>\n",
       "<polyline clip-path=\"url(#clip132)\" style=\"stroke:#000000; stroke-linecap:round; stroke-linejoin:round; stroke-width:0; stroke-opacity:0.3; fill:none\" points=\"400.052,2925.65 400.052,-1391.96 407.519,-1391.96 407.519,2925.65 400.052,2925.65 \"/>\n",
       "<path clip-path=\"url(#clip132)\" d=\"M414.745 2925.65 L414.745 -1391.96 L422.212 -1391.96 L422.212 2925.65 L414.745 2925.65  Z\" fill=\"#e26f46\" fill-rule=\"evenodd\" fill-opacity=\"0.3\"/>\n",
       "<polyline clip-path=\"url(#clip132)\" style=\"stroke:#000000; stroke-linecap:round; stroke-linejoin:round; stroke-width:0; stroke-opacity:0.3; fill:none\" points=\"414.745,2925.65 414.745,-1391.96 422.212,-1391.96 422.212,2925.65 414.745,2925.65 \"/>\n",
       "<path clip-path=\"url(#clip132)\" d=\"M429.679 2925.65 L429.679 -1391.96 L436.424 -1391.96 L436.424 2925.65 L429.679 2925.65  Z\" fill=\"#e26f46\" fill-rule=\"evenodd\" fill-opacity=\"0.3\"/>\n",
       "<polyline clip-path=\"url(#clip132)\" style=\"stroke:#000000; stroke-linecap:round; stroke-linejoin:round; stroke-width:0; stroke-opacity:0.3; fill:none\" points=\"429.679,2925.65 429.679,-1391.96 436.424,-1391.96 436.424,2925.65 429.679,2925.65 \"/>\n",
       "<path clip-path=\"url(#clip132)\" d=\"M443.891 2925.65 L443.891 -1391.96 L451.117 -1391.96 L451.117 2925.65 L443.891 2925.65  Z\" fill=\"#e26f46\" fill-rule=\"evenodd\" fill-opacity=\"0.3\"/>\n",
       "<polyline clip-path=\"url(#clip132)\" style=\"stroke:#000000; stroke-linecap:round; stroke-linejoin:round; stroke-width:0; stroke-opacity:0.3; fill:none\" points=\"443.891,2925.65 443.891,-1391.96 451.117,-1391.96 451.117,2925.65 443.891,2925.65 \"/>\n",
       "<path clip-path=\"url(#clip132)\" d=\"M458.584 2925.65 L458.584 -1391.96 L854.578 -1391.96 L854.578 2925.65 L458.584 2925.65  Z\" fill=\"#e26f46\" fill-rule=\"evenodd\" fill-opacity=\"0.3\"/>\n",
       "<polyline clip-path=\"url(#clip132)\" style=\"stroke:#000000; stroke-linecap:round; stroke-linejoin:round; stroke-width:0; stroke-opacity:0.3; fill:none\" points=\"458.584,2925.65 458.584,-1391.96 854.578,-1391.96 854.578,2925.65 458.584,2925.65 \"/>\n",
       "<path clip-path=\"url(#clip132)\" d=\"M862.045 2925.65 L862.045 -1391.96 L869.512 -1391.96 L869.512 2925.65 L862.045 2925.65  Z\" fill=\"#e26f46\" fill-rule=\"evenodd\" fill-opacity=\"0.3\"/>\n",
       "<polyline clip-path=\"url(#clip132)\" style=\"stroke:#000000; stroke-linecap:round; stroke-linejoin:round; stroke-width:0; stroke-opacity:0.3; fill:none\" points=\"862.045,2925.65 862.045,-1391.96 869.512,-1391.96 869.512,2925.65 862.045,2925.65 \"/>\n",
       "<path clip-path=\"url(#clip132)\" d=\"M876.498 2925.65 L876.498 -1391.96 L883.965 -1391.96 L883.965 2925.65 L876.498 2925.65  Z\" fill=\"#e26f46\" fill-rule=\"evenodd\" fill-opacity=\"0.3\"/>\n",
       "<polyline clip-path=\"url(#clip132)\" style=\"stroke:#000000; stroke-linecap:round; stroke-linejoin:round; stroke-width:0; stroke-opacity:0.3; fill:none\" points=\"876.498,2925.65 876.498,-1391.96 883.965,-1391.96 883.965,2925.65 876.498,2925.65 \"/>\n",
       "<path clip-path=\"url(#clip132)\" d=\"M891.191 2925.65 L891.191 -1391.96 L898.658 -1391.96 L898.658 2925.65 L891.191 2925.65  Z\" fill=\"#e26f46\" fill-rule=\"evenodd\" fill-opacity=\"0.3\"/>\n",
       "<polyline clip-path=\"url(#clip132)\" style=\"stroke:#000000; stroke-linecap:round; stroke-linejoin:round; stroke-width:0; stroke-opacity:0.3; fill:none\" points=\"891.191,2925.65 891.191,-1391.96 898.658,-1391.96 898.658,2925.65 891.191,2925.65 \"/>\n",
       "<path clip-path=\"url(#clip132)\" d=\"M905.884 2925.65 L905.884 -1391.96 L913.351 -1391.96 L913.351 2925.65 L905.884 2925.65  Z\" fill=\"#e26f46\" fill-rule=\"evenodd\" fill-opacity=\"0.3\"/>\n",
       "<polyline clip-path=\"url(#clip132)\" style=\"stroke:#000000; stroke-linecap:round; stroke-linejoin:round; stroke-width:0; stroke-opacity:0.3; fill:none\" points=\"905.884,2925.65 905.884,-1391.96 913.351,-1391.96 913.351,2925.65 905.884,2925.65 \"/>\n",
       "<path clip-path=\"url(#clip132)\" d=\"M920.818 2925.65 L920.818 -1391.96 L928.044 -1391.96 L928.044 2925.65 L920.818 2925.65  Z\" fill=\"#e26f46\" fill-rule=\"evenodd\" fill-opacity=\"0.3\"/>\n",
       "<polyline clip-path=\"url(#clip132)\" style=\"stroke:#000000; stroke-linecap:round; stroke-linejoin:round; stroke-width:0; stroke-opacity:0.3; fill:none\" points=\"920.818,2925.65 920.818,-1391.96 928.044,-1391.96 928.044,2925.65 920.818,2925.65 \"/>\n",
       "<path clip-path=\"url(#clip132)\" d=\"M935.511 2925.65 L935.511 -1391.96 L942.737 -1391.96 L942.737 2925.65 L935.511 2925.65  Z\" fill=\"#e26f46\" fill-rule=\"evenodd\" fill-opacity=\"0.3\"/>\n",
       "<polyline clip-path=\"url(#clip132)\" style=\"stroke:#000000; stroke-linecap:round; stroke-linejoin:round; stroke-width:0; stroke-opacity:0.3; fill:none\" points=\"935.511,2925.65 935.511,-1391.96 942.737,-1391.96 942.737,2925.65 935.511,2925.65 \"/>\n",
       "<path clip-path=\"url(#clip132)\" d=\"M950.204 2925.65 L950.204 -1391.96 L957.672 -1391.96 L957.672 2925.65 L950.204 2925.65  Z\" fill=\"#e26f46\" fill-rule=\"evenodd\" fill-opacity=\"0.3\"/>\n",
       "<polyline clip-path=\"url(#clip132)\" style=\"stroke:#000000; stroke-linecap:round; stroke-linejoin:round; stroke-width:0; stroke-opacity:0.3; fill:none\" points=\"950.204,2925.65 950.204,-1391.96 957.672,-1391.96 957.672,2925.65 950.204,2925.65 \"/>\n",
       "<path clip-path=\"url(#clip132)\" d=\"M964.416 2925.65 L964.416 -1391.96 L971.883 -1391.96 L971.883 2925.65 L964.416 2925.65  Z\" fill=\"#e26f46\" fill-rule=\"evenodd\" fill-opacity=\"0.3\"/>\n",
       "<polyline clip-path=\"url(#clip132)\" style=\"stroke:#000000; stroke-linecap:round; stroke-linejoin:round; stroke-width:0; stroke-opacity:0.3; fill:none\" points=\"964.416,2925.65 964.416,-1391.96 971.883,-1391.96 971.883,2925.65 964.416,2925.65 \"/>\n",
       "<path clip-path=\"url(#clip132)\" d=\"M979.109 2925.65 L979.109 -1391.96 L986.576 -1391.96 L986.576 2925.65 L979.109 2925.65  Z\" fill=\"#e26f46\" fill-rule=\"evenodd\" fill-opacity=\"0.3\"/>\n",
       "<polyline clip-path=\"url(#clip132)\" style=\"stroke:#000000; stroke-linecap:round; stroke-linejoin:round; stroke-width:0; stroke-opacity:0.3; fill:none\" points=\"979.109,2925.65 979.109,-1391.96 986.576,-1391.96 986.576,2925.65 979.109,2925.65 \"/>\n",
       "<path clip-path=\"url(#clip132)\" d=\"M993.802 2925.65 L993.802 -1391.96 L1001.27 -1391.96 L1001.27 2925.65 L993.802 2925.65  Z\" fill=\"#e26f46\" fill-rule=\"evenodd\" fill-opacity=\"0.3\"/>\n",
       "<polyline clip-path=\"url(#clip132)\" style=\"stroke:#000000; stroke-linecap:round; stroke-linejoin:round; stroke-width:0; stroke-opacity:0.3; fill:none\" points=\"993.802,2925.65 993.802,-1391.96 1001.27,-1391.96 1001.27,2925.65 993.802,2925.65 \"/>\n",
       "<path clip-path=\"url(#clip132)\" d=\"M1008.74 2925.65 L1008.74 -1391.96 L1015.96 -1391.96 L1015.96 2925.65 L1008.74 2925.65  Z\" fill=\"#e26f46\" fill-rule=\"evenodd\" fill-opacity=\"0.3\"/>\n",
       "<polyline clip-path=\"url(#clip132)\" style=\"stroke:#000000; stroke-linecap:round; stroke-linejoin:round; stroke-width:0; stroke-opacity:0.3; fill:none\" points=\"1008.74,2925.65 1008.74,-1391.96 1015.96,-1391.96 1015.96,2925.65 1008.74,2925.65 \"/>\n",
       "<path clip-path=\"url(#clip132)\" d=\"M1023.43 2925.65 L1023.43 -1391.96 L1030.66 -1391.96 L1030.66 2925.65 L1023.43 2925.65  Z\" fill=\"#e26f46\" fill-rule=\"evenodd\" fill-opacity=\"0.3\"/>\n",
       "<polyline clip-path=\"url(#clip132)\" style=\"stroke:#000000; stroke-linecap:round; stroke-linejoin:round; stroke-width:0; stroke-opacity:0.3; fill:none\" points=\"1023.43,2925.65 1023.43,-1391.96 1030.66,-1391.96 1030.66,2925.65 1023.43,2925.65 \"/>\n",
       "<path clip-path=\"url(#clip132)\" d=\"M1038.12 2925.65 L1038.12 -1391.96 L1045.59 -1391.96 L1045.59 2925.65 L1038.12 2925.65  Z\" fill=\"#e26f46\" fill-rule=\"evenodd\" fill-opacity=\"0.3\"/>\n",
       "<polyline clip-path=\"url(#clip132)\" style=\"stroke:#000000; stroke-linecap:round; stroke-linejoin:round; stroke-width:0; stroke-opacity:0.3; fill:none\" points=\"1038.12,2925.65 1038.12,-1391.96 1045.59,-1391.96 1045.59,2925.65 1038.12,2925.65 \"/>\n",
       "<path clip-path=\"url(#clip132)\" d=\"M1052.33 2925.65 L1052.33 -1391.96 L1059.8 -1391.96 L1059.8 2925.65 L1052.33 2925.65  Z\" fill=\"#e26f46\" fill-rule=\"evenodd\" fill-opacity=\"0.3\"/>\n",
       "<polyline clip-path=\"url(#clip132)\" style=\"stroke:#000000; stroke-linecap:round; stroke-linejoin:round; stroke-width:0; stroke-opacity:0.3; fill:none\" points=\"1052.33,2925.65 1052.33,-1391.96 1059.8,-1391.96 1059.8,2925.65 1052.33,2925.65 \"/>\n",
       "<path clip-path=\"url(#clip132)\" d=\"M1067.03 2925.65 L1067.03 -1391.96 L1074.49 -1391.96 L1074.49 2925.65 L1067.03 2925.65  Z\" fill=\"#e26f46\" fill-rule=\"evenodd\" fill-opacity=\"0.3\"/>\n",
       "<polyline clip-path=\"url(#clip132)\" style=\"stroke:#000000; stroke-linecap:round; stroke-linejoin:round; stroke-width:0; stroke-opacity:0.3; fill:none\" points=\"1067.03,2925.65 1067.03,-1391.96 1074.49,-1391.96 1074.49,2925.65 1067.03,2925.65 \"/>\n",
       "<path clip-path=\"url(#clip132)\" d=\"M1081.72 2925.65 L1081.72 -1391.96 L1089.19 -1391.96 L1089.19 2925.65 L1081.72 2925.65  Z\" fill=\"#e26f46\" fill-rule=\"evenodd\" fill-opacity=\"0.3\"/>\n",
       "<polyline clip-path=\"url(#clip132)\" style=\"stroke:#000000; stroke-linecap:round; stroke-linejoin:round; stroke-width:0; stroke-opacity:0.3; fill:none\" points=\"1081.72,2925.65 1081.72,-1391.96 1089.19,-1391.96 1089.19,2925.65 1081.72,2925.65 \"/>\n",
       "<path clip-path=\"url(#clip132)\" d=\"M1096.65 2925.65 L1096.65 -1391.96 L1103.88 -1391.96 L1103.88 2925.65 L1096.65 2925.65  Z\" fill=\"#e26f46\" fill-rule=\"evenodd\" fill-opacity=\"0.3\"/>\n",
       "<polyline clip-path=\"url(#clip132)\" style=\"stroke:#000000; stroke-linecap:round; stroke-linejoin:round; stroke-width:0; stroke-opacity:0.3; fill:none\" points=\"1096.65,2925.65 1096.65,-1391.96 1103.88,-1391.96 1103.88,2925.65 1096.65,2925.65 \"/>\n",
       "<path clip-path=\"url(#clip132)\" d=\"M1111.35 2925.65 L1111.35 -1391.96 L1118.57 -1391.96 L1118.57 2925.65 L1111.35 2925.65  Z\" fill=\"#e26f46\" fill-rule=\"evenodd\" fill-opacity=\"0.3\"/>\n",
       "<polyline clip-path=\"url(#clip132)\" style=\"stroke:#000000; stroke-linecap:round; stroke-linejoin:round; stroke-width:0; stroke-opacity:0.3; fill:none\" points=\"1111.35,2925.65 1111.35,-1391.96 1118.57,-1391.96 1118.57,2925.65 1111.35,2925.65 \"/>\n",
       "<path clip-path=\"url(#clip132)\" d=\"M1126.04 2925.65 L1126.04 -1391.96 L1133.51 -1391.96 L1133.51 2925.65 L1126.04 2925.65  Z\" fill=\"#e26f46\" fill-rule=\"evenodd\" fill-opacity=\"0.3\"/>\n",
       "<polyline clip-path=\"url(#clip132)\" style=\"stroke:#000000; stroke-linecap:round; stroke-linejoin:round; stroke-width:0; stroke-opacity:0.3; fill:none\" points=\"1126.04,2925.65 1126.04,-1391.96 1133.51,-1391.96 1133.51,2925.65 1126.04,2925.65 \"/>\n",
       "<path clip-path=\"url(#clip132)\" d=\"M1140.25 2925.65 L1140.25 -1391.96 L1147.72 -1391.96 L1147.72 2925.65 L1140.25 2925.65  Z\" fill=\"#e26f46\" fill-rule=\"evenodd\" fill-opacity=\"0.3\"/>\n",
       "<polyline clip-path=\"url(#clip132)\" style=\"stroke:#000000; stroke-linecap:round; stroke-linejoin:round; stroke-width:0; stroke-opacity:0.3; fill:none\" points=\"1140.25,2925.65 1140.25,-1391.96 1147.72,-1391.96 1147.72,2925.65 1140.25,2925.65 \"/>\n",
       "<path clip-path=\"url(#clip132)\" d=\"M1154.95 2925.65 L1154.95 -1391.96 L1162.41 -1391.96 L1162.41 2925.65 L1154.95 2925.65  Z\" fill=\"#e26f46\" fill-rule=\"evenodd\" fill-opacity=\"0.3\"/>\n",
       "<polyline clip-path=\"url(#clip132)\" style=\"stroke:#000000; stroke-linecap:round; stroke-linejoin:round; stroke-width:0; stroke-opacity:0.3; fill:none\" points=\"1154.95,2925.65 1154.95,-1391.96 1162.41,-1391.96 1162.41,2925.65 1154.95,2925.65 \"/>\n",
       "<path clip-path=\"url(#clip132)\" d=\"M1169.64 2925.65 L1169.64 -1391.96 L1177.11 -1391.96 L1177.11 2925.65 L1169.64 2925.65  Z\" fill=\"#e26f46\" fill-rule=\"evenodd\" fill-opacity=\"0.3\"/>\n",
       "<polyline clip-path=\"url(#clip132)\" style=\"stroke:#000000; stroke-linecap:round; stroke-linejoin:round; stroke-width:0; stroke-opacity:0.3; fill:none\" points=\"1169.64,2925.65 1169.64,-1391.96 1177.11,-1391.96 1177.11,2925.65 1169.64,2925.65 \"/>\n",
       "<path clip-path=\"url(#clip132)\" d=\"M1184.57 2925.65 L1184.57 -1391.96 L1191.8 -1391.96 L1191.8 2925.65 L1184.57 2925.65  Z\" fill=\"#e26f46\" fill-rule=\"evenodd\" fill-opacity=\"0.3\"/>\n",
       "<polyline clip-path=\"url(#clip132)\" style=\"stroke:#000000; stroke-linecap:round; stroke-linejoin:round; stroke-width:0; stroke-opacity:0.3; fill:none\" points=\"1184.57,2925.65 1184.57,-1391.96 1191.8,-1391.96 1191.8,2925.65 1184.57,2925.65 \"/>\n",
       "<path clip-path=\"url(#clip132)\" d=\"M1199.27 2925.65 L1199.27 -1391.96 L1206.49 -1391.96 L1206.49 2925.65 L1199.27 2925.65  Z\" fill=\"#e26f46\" fill-rule=\"evenodd\" fill-opacity=\"0.3\"/>\n",
       "<polyline clip-path=\"url(#clip132)\" style=\"stroke:#000000; stroke-linecap:round; stroke-linejoin:round; stroke-width:0; stroke-opacity:0.3; fill:none\" points=\"1199.27,2925.65 1199.27,-1391.96 1206.49,-1391.96 1206.49,2925.65 1199.27,2925.65 \"/>\n",
       "<path clip-path=\"url(#clip132)\" d=\"M1213.96 2925.65 L1213.96 -1391.96 L1221.43 -1391.96 L1221.43 2925.65 L1213.96 2925.65  Z\" fill=\"#e26f46\" fill-rule=\"evenodd\" fill-opacity=\"0.3\"/>\n",
       "<polyline clip-path=\"url(#clip132)\" style=\"stroke:#000000; stroke-linecap:round; stroke-linejoin:round; stroke-width:0; stroke-opacity:0.3; fill:none\" points=\"1213.96,2925.65 1213.96,-1391.96 1221.43,-1391.96 1221.43,2925.65 1213.96,2925.65 \"/>\n",
       "<path clip-path=\"url(#clip132)\" d=\"M1228.41 2925.65 L1228.41 -1391.96 L1235.88 -1391.96 L1235.88 2925.65 L1228.41 2925.65  Z\" fill=\"#e26f46\" fill-rule=\"evenodd\" fill-opacity=\"0.3\"/>\n",
       "<polyline clip-path=\"url(#clip132)\" style=\"stroke:#000000; stroke-linecap:round; stroke-linejoin:round; stroke-width:0; stroke-opacity:0.3; fill:none\" points=\"1228.41,2925.65 1228.41,-1391.96 1235.88,-1391.96 1235.88,2925.65 1228.41,2925.65 \"/>\n",
       "<path clip-path=\"url(#clip132)\" d=\"M1243.11 2925.65 L1243.11 -1391.96 L1250.57 -1391.96 L1250.57 2925.65 L1243.11 2925.65  Z\" fill=\"#e26f46\" fill-rule=\"evenodd\" fill-opacity=\"0.3\"/>\n",
       "<polyline clip-path=\"url(#clip132)\" style=\"stroke:#000000; stroke-linecap:round; stroke-linejoin:round; stroke-width:0; stroke-opacity:0.3; fill:none\" points=\"1243.11,2925.65 1243.11,-1391.96 1250.57,-1391.96 1250.57,2925.65 1243.11,2925.65 \"/>\n",
       "<path clip-path=\"url(#clip132)\" d=\"M1536.49 2925.65 L1536.49 -1391.96 L1543.71 -1391.96 L1543.71 2925.65 L1536.49 2925.65  Z\" fill=\"#e26f46\" fill-rule=\"evenodd\" fill-opacity=\"0.3\"/>\n",
       "<polyline clip-path=\"url(#clip132)\" style=\"stroke:#000000; stroke-linecap:round; stroke-linejoin:round; stroke-width:0; stroke-opacity:0.3; fill:none\" points=\"1536.49,2925.65 1536.49,-1391.96 1543.71,-1391.96 1543.71,2925.65 1536.49,2925.65 \"/>\n",
       "<path clip-path=\"url(#clip132)\" d=\"M1551.18 2925.65 L1551.18 -1391.96 L1558.41 -1391.96 L1558.41 2925.65 L1551.18 2925.65  Z\" fill=\"#e26f46\" fill-rule=\"evenodd\" fill-opacity=\"0.3\"/>\n",
       "<polyline clip-path=\"url(#clip132)\" style=\"stroke:#000000; stroke-linecap:round; stroke-linejoin:round; stroke-width:0; stroke-opacity:0.3; fill:none\" points=\"1551.18,2925.65 1551.18,-1391.96 1558.41,-1391.96 1558.41,2925.65 1551.18,2925.65 \"/>\n",
       "<path clip-path=\"url(#clip132)\" d=\"M1565.87 2925.65 L1565.87 -1391.96 L1573.34 -1391.96 L1573.34 2925.65 L1565.87 2925.65  Z\" fill=\"#e26f46\" fill-rule=\"evenodd\" fill-opacity=\"0.3\"/>\n",
       "<polyline clip-path=\"url(#clip132)\" style=\"stroke:#000000; stroke-linecap:round; stroke-linejoin:round; stroke-width:0; stroke-opacity:0.3; fill:none\" points=\"1565.87,2925.65 1565.87,-1391.96 1573.34,-1391.96 1573.34,2925.65 1565.87,2925.65 \"/>\n",
       "<path clip-path=\"url(#clip132)\" d=\"M1580.33 2925.65 L1580.33 -1391.96 L1587.79 -1391.96 L1587.79 2925.65 L1580.33 2925.65  Z\" fill=\"#e26f46\" fill-rule=\"evenodd\" fill-opacity=\"0.3\"/>\n",
       "<polyline clip-path=\"url(#clip132)\" style=\"stroke:#000000; stroke-linecap:round; stroke-linejoin:round; stroke-width:0; stroke-opacity:0.3; fill:none\" points=\"1580.33,2925.65 1580.33,-1391.96 1587.79,-1391.96 1587.79,2925.65 1580.33,2925.65 \"/>\n",
       "<path clip-path=\"url(#clip132)\" d=\"M1815.18 2925.65 L1815.18 -1391.96 L1822.4 -1391.96 L1822.4 2925.65 L1815.18 2925.65  Z\" fill=\"#e26f46\" fill-rule=\"evenodd\" fill-opacity=\"0.3\"/>\n",
       "<polyline clip-path=\"url(#clip132)\" style=\"stroke:#000000; stroke-linecap:round; stroke-linejoin:round; stroke-width:0; stroke-opacity:0.3; fill:none\" points=\"1815.18,2925.65 1815.18,-1391.96 1822.4,-1391.96 1822.4,2925.65 1815.18,2925.65 \"/>\n",
       "<path clip-path=\"url(#clip132)\" d=\"M1829.87 2925.65 L1829.87 -1391.96 L1837.34 -1391.96 L1837.34 2925.65 L1829.87 2925.65  Z\" fill=\"#e26f46\" fill-rule=\"evenodd\" fill-opacity=\"0.3\"/>\n",
       "<polyline clip-path=\"url(#clip132)\" style=\"stroke:#000000; stroke-linecap:round; stroke-linejoin:round; stroke-width:0; stroke-opacity:0.3; fill:none\" points=\"1829.87,2925.65 1829.87,-1391.96 1837.34,-1391.96 1837.34,2925.65 1829.87,2925.65 \"/>\n",
       "<path clip-path=\"url(#clip132)\" d=\"M1844.08 2925.65 L1844.08 -1391.96 L1851.55 -1391.96 L1851.55 2925.65 L1844.08 2925.65  Z\" fill=\"#e26f46\" fill-rule=\"evenodd\" fill-opacity=\"0.3\"/>\n",
       "<polyline clip-path=\"url(#clip132)\" style=\"stroke:#000000; stroke-linecap:round; stroke-linejoin:round; stroke-width:0; stroke-opacity:0.3; fill:none\" points=\"1844.08,2925.65 1844.08,-1391.96 1851.55,-1391.96 1851.55,2925.65 1844.08,2925.65 \"/>\n",
       "<path clip-path=\"url(#clip132)\" d=\"M1858.77 2925.65 L1858.77 -1391.96 L1866.24 -1391.96 L1866.24 2925.65 L1858.77 2925.65  Z\" fill=\"#e26f46\" fill-rule=\"evenodd\" fill-opacity=\"0.3\"/>\n",
       "<polyline clip-path=\"url(#clip132)\" style=\"stroke:#000000; stroke-linecap:round; stroke-linejoin:round; stroke-width:0; stroke-opacity:0.3; fill:none\" points=\"1858.77,2925.65 1858.77,-1391.96 1866.24,-1391.96 1866.24,2925.65 1858.77,2925.65 \"/>\n",
       "<path clip-path=\"url(#clip132)\" d=\"M1873.47 2925.65 L1873.47 -1391.96 L1880.94 -1391.96 L1880.94 2925.65 L1873.47 2925.65  Z\" fill=\"#e26f46\" fill-rule=\"evenodd\" fill-opacity=\"0.3\"/>\n",
       "<polyline clip-path=\"url(#clip132)\" style=\"stroke:#000000; stroke-linecap:round; stroke-linejoin:round; stroke-width:0; stroke-opacity:0.3; fill:none\" points=\"1873.47,2925.65 1873.47,-1391.96 1880.94,-1391.96 1880.94,2925.65 1873.47,2925.65 \"/>\n",
       "<path clip-path=\"url(#clip132)\" d=\"M1888.4 2925.65 L1888.4 -1391.96 L1895.63 -1391.96 L1895.63 2925.65 L1888.4 2925.65  Z\" fill=\"#e26f46\" fill-rule=\"evenodd\" fill-opacity=\"0.3\"/>\n",
       "<polyline clip-path=\"url(#clip132)\" style=\"stroke:#000000; stroke-linecap:round; stroke-linejoin:round; stroke-width:0; stroke-opacity:0.3; fill:none\" points=\"1888.4,2925.65 1888.4,-1391.96 1895.63,-1391.96 1895.63,2925.65 1888.4,2925.65 \"/>\n",
       "<path clip-path=\"url(#clip132)\" d=\"M1903.1 2925.65 L1903.1 -1391.96 L1910.32 -1391.96 L1910.32 2925.65 L1903.1 2925.65  Z\" fill=\"#e26f46\" fill-rule=\"evenodd\" fill-opacity=\"0.3\"/>\n",
       "<polyline clip-path=\"url(#clip132)\" style=\"stroke:#000000; stroke-linecap:round; stroke-linejoin:round; stroke-width:0; stroke-opacity:0.3; fill:none\" points=\"1903.1,2925.65 1903.1,-1391.96 1910.32,-1391.96 1910.32,2925.65 1903.1,2925.65 \"/>\n",
       "<path clip-path=\"url(#clip132)\" d=\"M1917.79 2925.65 L1917.79 -1391.96 L1925.26 -1391.96 L1925.26 2925.65 L1917.79 2925.65  Z\" fill=\"#e26f46\" fill-rule=\"evenodd\" fill-opacity=\"0.3\"/>\n",
       "<polyline clip-path=\"url(#clip132)\" style=\"stroke:#000000; stroke-linecap:round; stroke-linejoin:round; stroke-width:0; stroke-opacity:0.3; fill:none\" points=\"1917.79,2925.65 1917.79,-1391.96 1925.26,-1391.96 1925.26,2925.65 1917.79,2925.65 \"/>\n",
       "<path clip-path=\"url(#clip132)\" d=\"M1932.24 2925.65 L1932.24 -1391.96 L1939.71 -1391.96 L1939.71 2925.65 L1932.24 2925.65  Z\" fill=\"#e26f46\" fill-rule=\"evenodd\" fill-opacity=\"0.3\"/>\n",
       "<polyline clip-path=\"url(#clip132)\" style=\"stroke:#000000; stroke-linecap:round; stroke-linejoin:round; stroke-width:0; stroke-opacity:0.3; fill:none\" points=\"1932.24,2925.65 1932.24,-1391.96 1939.71,-1391.96 1939.71,2925.65 1932.24,2925.65 \"/>\n",
       "<path clip-path=\"url(#clip132)\" d=\"M1946.93 2925.65 L1946.93 -1391.96 L1954.4 -1391.96 L1954.4 2925.65 L1946.93 2925.65  Z\" fill=\"#e26f46\" fill-rule=\"evenodd\" fill-opacity=\"0.3\"/>\n",
       "<polyline clip-path=\"url(#clip132)\" style=\"stroke:#000000; stroke-linecap:round; stroke-linejoin:round; stroke-width:0; stroke-opacity:0.3; fill:none\" points=\"1946.93,2925.65 1946.93,-1391.96 1954.4,-1391.96 1954.4,2925.65 1946.93,2925.65 \"/>\n",
       "<path clip-path=\"url(#clip132)\" d=\"M1961.63 2925.65 L1961.63 -1391.96 L1969.09 -1391.96 L1969.09 2925.65 L1961.63 2925.65  Z\" fill=\"#e26f46\" fill-rule=\"evenodd\" fill-opacity=\"0.3\"/>\n",
       "<polyline clip-path=\"url(#clip132)\" style=\"stroke:#000000; stroke-linecap:round; stroke-linejoin:round; stroke-width:0; stroke-opacity:0.3; fill:none\" points=\"1961.63,2925.65 1961.63,-1391.96 1969.09,-1391.96 1969.09,2925.65 1961.63,2925.65 \"/>\n",
       "<path clip-path=\"url(#clip132)\" d=\"M1976.56 2925.65 L1976.56 -1391.96 L1983.79 -1391.96 L1983.79 2925.65 L1976.56 2925.65  Z\" fill=\"#e26f46\" fill-rule=\"evenodd\" fill-opacity=\"0.3\"/>\n",
       "<polyline clip-path=\"url(#clip132)\" style=\"stroke:#000000; stroke-linecap:round; stroke-linejoin:round; stroke-width:0; stroke-opacity:0.3; fill:none\" points=\"1976.56,2925.65 1976.56,-1391.96 1983.79,-1391.96 1983.79,2925.65 1976.56,2925.65 \"/>\n",
       "<path clip-path=\"url(#clip132)\" d=\"M1991.25 2925.65 L1991.25 -1391.96 L1998.48 -1391.96 L1998.48 2925.65 L1991.25 2925.65  Z\" fill=\"#e26f46\" fill-rule=\"evenodd\" fill-opacity=\"0.3\"/>\n",
       "<polyline clip-path=\"url(#clip132)\" style=\"stroke:#000000; stroke-linecap:round; stroke-linejoin:round; stroke-width:0; stroke-opacity:0.3; fill:none\" points=\"1991.25,2925.65 1991.25,-1391.96 1998.48,-1391.96 1998.48,2925.65 1991.25,2925.65 \"/>\n",
       "<path clip-path=\"url(#clip132)\" d=\"M2071.71 2925.65 L2071.71 -1391.96 L2079.17 -1391.96 L2079.17 2925.65 L2071.71 2925.65  Z\" fill=\"#e26f46\" fill-rule=\"evenodd\" fill-opacity=\"0.3\"/>\n",
       "<polyline clip-path=\"url(#clip132)\" style=\"stroke:#000000; stroke-linecap:round; stroke-linejoin:round; stroke-width:0; stroke-opacity:0.3; fill:none\" points=\"2071.71,2925.65 2071.71,-1391.96 2079.17,-1391.96 2079.17,2925.65 2071.71,2925.65 \"/>\n",
       "<path clip-path=\"url(#clip132)\" d=\"M2086.4 2925.65 L2086.4 -1391.96 L2093.87 -1391.96 L2093.87 2925.65 L2086.4 2925.65  Z\" fill=\"#e26f46\" fill-rule=\"evenodd\" fill-opacity=\"0.3\"/>\n",
       "<polyline clip-path=\"url(#clip132)\" style=\"stroke:#000000; stroke-linecap:round; stroke-linejoin:round; stroke-width:0; stroke-opacity:0.3; fill:none\" points=\"2086.4,2925.65 2086.4,-1391.96 2093.87,-1391.96 2093.87,2925.65 2086.4,2925.65 \"/>\n",
       "<path clip-path=\"url(#clip132)\" d=\"M2101.33 2925.65 L2101.33 -1391.96 L2108.08 -1391.96 L2108.08 2925.65 L2101.33 2925.65  Z\" fill=\"#e26f46\" fill-rule=\"evenodd\" fill-opacity=\"0.3\"/>\n",
       "<polyline clip-path=\"url(#clip132)\" style=\"stroke:#000000; stroke-linecap:round; stroke-linejoin:round; stroke-width:0; stroke-opacity:0.3; fill:none\" points=\"2101.33,2925.65 2101.33,-1391.96 2108.08,-1391.96 2108.08,2925.65 2101.33,2925.65 \"/>\n",
       "<path clip-path=\"url(#clip132)\" d=\"M2115.54 2925.65 L2115.54 -1391.96 L2122.77 -1391.96 L2122.77 2925.65 L2115.54 2925.65  Z\" fill=\"#e26f46\" fill-rule=\"evenodd\" fill-opacity=\"0.3\"/>\n",
       "<polyline clip-path=\"url(#clip132)\" style=\"stroke:#000000; stroke-linecap:round; stroke-linejoin:round; stroke-width:0; stroke-opacity:0.3; fill:none\" points=\"2115.54,2925.65 2115.54,-1391.96 2122.77,-1391.96 2122.77,2925.65 2115.54,2925.65 \"/>\n",
       "<path clip-path=\"url(#clip132)\" d=\"M2130.24 2925.65 L2130.24 -1391.96 L2137.46 -1391.96 L2137.46 2925.65 L2130.24 2925.65  Z\" fill=\"#e26f46\" fill-rule=\"evenodd\" fill-opacity=\"0.3\"/>\n",
       "<polyline clip-path=\"url(#clip132)\" style=\"stroke:#000000; stroke-linecap:round; stroke-linejoin:round; stroke-width:0; stroke-opacity:0.3; fill:none\" points=\"2130.24,2925.65 2130.24,-1391.96 2137.46,-1391.96 2137.46,2925.65 2130.24,2925.65 \"/>\n",
       "<path clip-path=\"url(#clip132)\" d=\"M2144.93 2925.65 L2144.93 -1391.96 L2152.4 -1391.96 L2152.4 2925.65 L2144.93 2925.65  Z\" fill=\"#e26f46\" fill-rule=\"evenodd\" fill-opacity=\"0.3\"/>\n",
       "<polyline clip-path=\"url(#clip132)\" style=\"stroke:#000000; stroke-linecap:round; stroke-linejoin:round; stroke-width:0; stroke-opacity:0.3; fill:none\" points=\"2144.93,2925.65 2144.93,-1391.96 2152.4,-1391.96 2152.4,2925.65 2144.93,2925.65 \"/>\n",
       "<path clip-path=\"url(#clip132)\" d=\"M2159.62 2925.65 L2159.62 -1391.96 L2167.09 -1391.96 L2167.09 2925.65 L2159.62 2925.65  Z\" fill=\"#e26f46\" fill-rule=\"evenodd\" fill-opacity=\"0.3\"/>\n",
       "<polyline clip-path=\"url(#clip132)\" style=\"stroke:#000000; stroke-linecap:round; stroke-linejoin:round; stroke-width:0; stroke-opacity:0.3; fill:none\" points=\"2159.62,2925.65 2159.62,-1391.96 2167.09,-1391.96 2167.09,2925.65 2159.62,2925.65 \"/>\n",
       "<path clip-path=\"url(#clip132)\" d=\"M2174.32 2925.65 L2174.32 -1391.96 L2181.78 -1391.96 L2181.78 2925.65 L2174.32 2925.65  Z\" fill=\"#e26f46\" fill-rule=\"evenodd\" fill-opacity=\"0.3\"/>\n",
       "<polyline clip-path=\"url(#clip132)\" style=\"stroke:#000000; stroke-linecap:round; stroke-linejoin:round; stroke-width:0; stroke-opacity:0.3; fill:none\" points=\"2174.32,2925.65 2174.32,-1391.96 2181.78,-1391.96 2181.78,2925.65 2174.32,2925.65 \"/>\n",
       "<path clip-path=\"url(#clip132)\" d=\"M2189.25 2925.65 L2189.25 -1391.96 L2196 -1391.96 L2196 2925.65 L2189.25 2925.65  Z\" fill=\"#e26f46\" fill-rule=\"evenodd\" fill-opacity=\"0.3\"/>\n",
       "<polyline clip-path=\"url(#clip132)\" style=\"stroke:#000000; stroke-linecap:round; stroke-linejoin:round; stroke-width:0; stroke-opacity:0.3; fill:none\" points=\"2189.25,2925.65 2189.25,-1391.96 2196,-1391.96 2196,2925.65 2189.25,2925.65 \"/>\n",
       "<path clip-path=\"url(#clip132)\" d=\"M2203.46 2925.65 L2203.46 -1391.96 L2210.69 -1391.96 L2210.69 2925.65 L2203.46 2925.65  Z\" fill=\"#e26f46\" fill-rule=\"evenodd\" fill-opacity=\"0.3\"/>\n",
       "<polyline clip-path=\"url(#clip132)\" style=\"stroke:#000000; stroke-linecap:round; stroke-linejoin:round; stroke-width:0; stroke-opacity:0.3; fill:none\" points=\"2203.46,2925.65 2203.46,-1391.96 2210.69,-1391.96 2210.69,2925.65 2203.46,2925.65 \"/>\n",
       "<path clip-path=\"url(#clip132)\" d=\"M2218.16 2925.65 L2218.16 -1391.96 L2225.38 -1391.96 L2225.38 2925.65 L2218.16 2925.65  Z\" fill=\"#e26f46\" fill-rule=\"evenodd\" fill-opacity=\"0.3\"/>\n",
       "<polyline clip-path=\"url(#clip132)\" style=\"stroke:#000000; stroke-linecap:round; stroke-linejoin:round; stroke-width:0; stroke-opacity:0.3; fill:none\" points=\"2218.16,2925.65 2218.16,-1391.96 2225.38,-1391.96 2225.38,2925.65 2218.16,2925.65 \"/>\n",
       "<path clip-path=\"url(#clip132)\" d=\"M2232.85 2925.65 L2232.85 -1391.96 L2240.32 -1391.96 L2240.32 2925.65 L2232.85 2925.65  Z\" fill=\"#e26f46\" fill-rule=\"evenodd\" fill-opacity=\"0.3\"/>\n",
       "<polyline clip-path=\"url(#clip132)\" style=\"stroke:#000000; stroke-linecap:round; stroke-linejoin:round; stroke-width:0; stroke-opacity:0.3; fill:none\" points=\"2232.85,2925.65 2232.85,-1391.96 2240.32,-1391.96 2240.32,2925.65 2232.85,2925.65 \"/>\n",
       "<path clip-path=\"url(#clip132)\" d=\"M2247.54 2925.65 L2247.54 -1391.96 L2255.01 -1391.96 L2255.01 2925.65 L2247.54 2925.65  Z\" fill=\"#e26f46\" fill-rule=\"evenodd\" fill-opacity=\"0.3\"/>\n",
       "<polyline clip-path=\"url(#clip132)\" style=\"stroke:#000000; stroke-linecap:round; stroke-linejoin:round; stroke-width:0; stroke-opacity:0.3; fill:none\" points=\"2247.54,2925.65 2247.54,-1391.96 2255.01,-1391.96 2255.01,2925.65 2247.54,2925.65 \"/>\n",
       "<path clip-path=\"url(#clip132)\" d=\"M2262.24 2925.65 L2262.24 -1391.96 L2269.7 -1391.96 L2269.7 2925.65 L2262.24 2925.65  Z\" fill=\"#e26f46\" fill-rule=\"evenodd\" fill-opacity=\"0.3\"/>\n",
       "<polyline clip-path=\"url(#clip132)\" style=\"stroke:#000000; stroke-linecap:round; stroke-linejoin:round; stroke-width:0; stroke-opacity:0.3; fill:none\" points=\"2262.24,2925.65 2262.24,-1391.96 2269.7,-1391.96 2269.7,2925.65 2262.24,2925.65 \"/>\n",
       "<path clip-path=\"url(#clip132)\" d=\"M2277.17 2925.65 L2277.17 -1391.96 L2284.16 -1391.96 L2284.16 2925.65 L2277.17 2925.65  Z\" fill=\"#e26f46\" fill-rule=\"evenodd\" fill-opacity=\"0.3\"/>\n",
       "<polyline clip-path=\"url(#clip132)\" style=\"stroke:#000000; stroke-linecap:round; stroke-linejoin:round; stroke-width:0; stroke-opacity:0.3; fill:none\" points=\"2277.17,2925.65 2277.17,-1391.96 2284.16,-1391.96 2284.16,2925.65 2277.17,2925.65 \"/>\n",
       "<path clip-path=\"url(#clip130)\" d=\"M264.711 1438.47 L711.686 1438.47 L711.686 1282.95 L264.711 1282.95  Z\" fill=\"#ffffff\" fill-rule=\"evenodd\" fill-opacity=\"1\"/>\n",
       "<polyline clip-path=\"url(#clip130)\" style=\"stroke:#000000; stroke-linecap:round; stroke-linejoin:round; stroke-width:4; stroke-opacity:1; fill:none\" points=\"264.711,1438.47 711.686,1438.47 711.686,1282.95 264.711,1282.95 264.711,1438.47 \"/>\n",
       "<polyline clip-path=\"url(#clip130)\" style=\"stroke:#009af9; stroke-linecap:round; stroke-linejoin:round; stroke-width:4; stroke-opacity:1; fill:none\" points=\"288.711,1334.79 432.714,1334.79 \"/>\n",
       "<path clip-path=\"url(#clip130)\" d=\"M472.548 1322.12 L466.206 1339.32 L478.914 1339.32 L472.548 1322.12 M469.909 1317.51 L475.21 1317.51 L488.381 1352.07 L483.52 1352.07 L480.372 1343.21 L464.794 1343.21 L461.645 1352.07 L456.715 1352.07 L469.909 1317.51 Z\" fill=\"#000000\" fill-rule=\"nonzero\" fill-opacity=\"1\" /><path clip-path=\"url(#clip130)\" d=\"M518.474 1320.18 L518.474 1325.11 Q516.113 1322.91 513.428 1321.82 Q510.766 1320.73 507.756 1320.73 Q501.83 1320.73 498.682 1324.37 Q495.534 1327.98 495.534 1334.83 Q495.534 1341.66 498.682 1345.29 Q501.83 1348.9 507.756 1348.9 Q510.766 1348.9 513.428 1347.82 Q516.113 1346.73 518.474 1344.53 L518.474 1349.41 Q516.02 1351.08 513.265 1351.91 Q510.534 1352.75 507.478 1352.75 Q499.631 1352.75 495.117 1347.95 Q490.604 1343.14 490.604 1334.83 Q490.604 1326.5 495.117 1321.7 Q499.631 1316.89 507.478 1316.89 Q510.58 1316.89 513.312 1317.72 Q516.066 1318.53 518.474 1320.18 Z\" fill=\"#000000\" fill-rule=\"nonzero\" fill-opacity=\"1\" /><path clip-path=\"url(#clip130)\" d=\"M522.617 1317.51 L527.339 1317.51 L534.608 1346.73 L541.853 1317.51 L547.108 1317.51 L554.376 1346.73 L561.622 1317.51 L566.367 1317.51 L557.687 1352.07 L551.807 1352.07 L544.515 1322.07 L537.154 1352.07 L531.275 1352.07 L522.617 1317.51 Z\" fill=\"#000000\" fill-rule=\"nonzero\" fill-opacity=\"1\" /><path clip-path=\"url(#clip130)\" d=\"M572.571 1317.51 L577.247 1317.51 L577.247 1352.07 L572.571 1352.07 L572.571 1317.51 Z\" fill=\"#000000\" fill-rule=\"nonzero\" fill-opacity=\"1\" /><path clip-path=\"url(#clip130)\" d=\"M606.066 1359.94 L606.066 1363.25 L581.436 1363.25 L581.436 1359.94 L606.066 1359.94 Z\" fill=\"#000000\" fill-rule=\"nonzero\" fill-opacity=\"1\" /><path clip-path=\"url(#clip130)\" d=\"M610.256 1317.51 L616.552 1317.51 L631.876 1346.43 L631.876 1317.51 L636.413 1317.51 L636.413 1352.07 L630.117 1352.07 L614.793 1323.16 L614.793 1352.07 L610.256 1352.07 L610.256 1317.51 Z\" fill=\"#000000\" fill-rule=\"nonzero\" fill-opacity=\"1\" /><path clip-path=\"url(#clip130)\" d=\"M667.709 1338.05 L667.709 1340.13 L648.126 1340.13 Q648.404 1344.53 650.765 1346.84 Q653.149 1349.13 657.385 1349.13 Q659.839 1349.13 662.13 1348.53 Q664.445 1347.93 666.714 1346.73 L666.714 1350.75 Q664.422 1351.73 662.015 1352.24 Q659.607 1352.75 657.13 1352.75 Q650.927 1352.75 647.293 1349.13 Q643.681 1345.52 643.681 1339.37 Q643.681 1333 647.107 1329.27 Q650.556 1325.52 656.39 1325.52 Q661.621 1325.52 664.654 1328.9 Q667.709 1332.26 667.709 1338.05 M663.45 1336.8 Q663.404 1333.3 661.482 1331.22 Q659.584 1329.13 656.436 1329.13 Q652.871 1329.13 650.718 1331.15 Q648.589 1333.16 648.265 1336.82 L663.45 1336.8 Z\" fill=\"#000000\" fill-rule=\"nonzero\" fill-opacity=\"1\" /><path clip-path=\"url(#clip130)\" d=\"M678.913 1318.79 L678.913 1326.15 L687.686 1326.15 L687.686 1329.46 L678.913 1329.46 L678.913 1343.53 Q678.913 1346.7 679.769 1347.61 Q680.649 1348.51 683.311 1348.51 L687.686 1348.51 L687.686 1352.07 L683.311 1352.07 Q678.38 1352.07 676.505 1350.25 Q674.63 1348.39 674.63 1343.53 L674.63 1329.46 L671.505 1329.46 L671.505 1326.15 L674.63 1326.15 L674.63 1318.79 L678.913 1318.79 Z\" fill=\"#000000\" fill-rule=\"nonzero\" fill-opacity=\"1\" /><path clip-path=\"url(#clip130)\" d=\"M288.711 1407.37 L432.714 1407.37 L432.714 1365.9 L288.711 1365.9 L288.711 1407.37  Z\" fill=\"#e26f46\" fill-rule=\"evenodd\" fill-opacity=\"0.3\"/>\n",
       "<polyline clip-path=\"url(#clip130)\" style=\"stroke:#000000; stroke-linecap:round; stroke-linejoin:round; stroke-width:0.8; stroke-opacity:1; fill:none\" points=\"288.711,1407.37 432.714,1407.37 432.714,1365.9 288.711,1365.9 288.711,1407.37 \"/>\n",
       "<path clip-path=\"url(#clip130)\" d=\"M470.557 1406.32 Q468.752 1410.95 467.039 1412.36 Q465.326 1413.78 462.456 1413.78 L459.053 1413.78 L459.053 1410.21 L461.553 1410.21 Q463.312 1410.21 464.284 1409.38 Q465.256 1408.54 466.437 1405.44 L467.201 1403.5 L456.715 1377.99 L461.229 1377.99 L469.331 1398.27 L477.432 1377.99 L481.946 1377.99 L470.557 1406.32 Z\" fill=\"#000000\" fill-rule=\"nonzero\" fill-opacity=\"1\" /><path clip-path=\"url(#clip130)\" d=\"M492.455 1399.98 L508.775 1399.98 L508.775 1403.91 L486.83 1403.91 L486.83 1399.98 Q489.492 1397.22 494.076 1392.6 Q498.682 1387.94 499.863 1386.6 Q502.108 1384.08 502.988 1382.34 Q503.891 1380.58 503.891 1378.89 Q503.891 1376.14 501.946 1374.4 Q500.025 1372.66 496.923 1372.66 Q494.724 1372.66 492.27 1373.43 Q489.84 1374.19 487.062 1375.74 L487.062 1371.02 Q489.886 1369.89 492.34 1369.31 Q494.793 1368.73 496.83 1368.73 Q502.201 1368.73 505.395 1371.41 Q508.59 1374.1 508.59 1378.59 Q508.59 1380.72 507.779 1382.64 Q506.992 1384.54 504.886 1387.13 Q504.307 1387.8 501.205 1391.02 Q498.104 1394.22 492.455 1399.98 Z\" fill=\"#000000\" fill-rule=\"nonzero\" fill-opacity=\"1\" /></svg>\n"
      ],
      "text/html": [
       "<?xml version=\"1.0\" encoding=\"utf-8\"?>\n",
       "<svg xmlns=\"http://www.w3.org/2000/svg\" xmlns:xlink=\"http://www.w3.org/1999/xlink\" width=\"600\" height=\"400\" viewBox=\"0 0 2400 1600\">\n",
       "<defs>\n",
       "  <clipPath id=\"clip180\">\n",
       "    <rect x=\"0\" y=\"0\" width=\"2400\" height=\"1600\"/>\n",
       "  </clipPath>\n",
       "</defs>\n",
       "<path clip-path=\"url(#clip180)\" d=\"M0 1600 L2400 1600 L2400 0 L0 0  Z\" fill=\"#ffffff\" fill-rule=\"evenodd\" fill-opacity=\"1\"/>\n",
       "<defs>\n",
       "  <clipPath id=\"clip181\">\n",
       "    <rect x=\"480\" y=\"0\" width=\"1681\" height=\"1600\"/>\n",
       "  </clipPath>\n",
       "</defs>\n",
       "<path clip-path=\"url(#clip180)\" d=\"M192.709 1486.45 L2352.76 1486.45 L2352.76 47.2441 L192.709 47.2441  Z\" fill=\"#ffffff\" fill-rule=\"evenodd\" fill-opacity=\"1\"/>\n",
       "<defs>\n",
       "  <clipPath id=\"clip182\">\n",
       "    <rect x=\"192\" y=\"47\" width=\"2161\" height=\"1440\"/>\n",
       "  </clipPath>\n",
       "</defs>\n",
       "<polyline clip-path=\"url(#clip182)\" style=\"stroke:#000000; stroke-linecap:round; stroke-linejoin:round; stroke-width:2; stroke-opacity:0.1; fill:none\" points=\"246.616,1486.45 246.616,47.2441 \"/>\n",
       "<polyline clip-path=\"url(#clip182)\" style=\"stroke:#000000; stroke-linecap:round; stroke-linejoin:round; stroke-width:2; stroke-opacity:0.1; fill:none\" points=\"774.368,1486.45 774.368,47.2441 \"/>\n",
       "<polyline clip-path=\"url(#clip182)\" style=\"stroke:#000000; stroke-linecap:round; stroke-linejoin:round; stroke-width:2; stroke-opacity:0.1; fill:none\" points=\"1302.36,1486.45 1302.36,47.2441 \"/>\n",
       "<polyline clip-path=\"url(#clip182)\" style=\"stroke:#000000; stroke-linecap:round; stroke-linejoin:round; stroke-width:2; stroke-opacity:0.1; fill:none\" points=\"1830.11,1486.45 1830.11,47.2441 \"/>\n",
       "<polyline clip-path=\"url(#clip180)\" style=\"stroke:#000000; stroke-linecap:round; stroke-linejoin:round; stroke-width:4; stroke-opacity:1; fill:none\" points=\"192.709,1486.45 2352.76,1486.45 \"/>\n",
       "<polyline clip-path=\"url(#clip180)\" style=\"stroke:#000000; stroke-linecap:round; stroke-linejoin:round; stroke-width:4; stroke-opacity:1; fill:none\" points=\"246.616,1486.45 246.616,1467.55 \"/>\n",
       "<polyline clip-path=\"url(#clip180)\" style=\"stroke:#000000; stroke-linecap:round; stroke-linejoin:round; stroke-width:4; stroke-opacity:1; fill:none\" points=\"774.368,1486.45 774.368,1467.55 \"/>\n",
       "<polyline clip-path=\"url(#clip180)\" style=\"stroke:#000000; stroke-linecap:round; stroke-linejoin:round; stroke-width:4; stroke-opacity:1; fill:none\" points=\"1302.36,1486.45 1302.36,1467.55 \"/>\n",
       "<polyline clip-path=\"url(#clip180)\" style=\"stroke:#000000; stroke-linecap:round; stroke-linejoin:round; stroke-width:4; stroke-opacity:1; fill:none\" points=\"1830.11,1486.45 1830.11,1467.55 \"/>\n",
       "<path clip-path=\"url(#clip180)\" d=\"M118.411 1544.91 L134.73 1544.91 L134.73 1548.85 L112.786 1548.85 L112.786 1544.91 Q115.448 1542.16 120.031 1537.53 Q124.638 1532.88 125.818 1531.53 Q128.064 1529.01 128.943 1527.27 Q129.846 1525.51 129.846 1523.82 Q129.846 1521.07 127.902 1519.33 Q125.98 1517.6 122.879 1517.6 Q120.68 1517.6 118.226 1518.36 Q115.795 1519.13 113.018 1520.68 L113.018 1515.95 Q115.842 1514.82 118.295 1514.24 Q120.749 1513.66 122.786 1513.66 Q128.156 1513.66 131.351 1516.35 Q134.545 1519.03 134.545 1523.52 Q134.545 1525.65 133.735 1527.57 Q132.948 1529.47 130.842 1532.07 Q130.263 1532.74 127.161 1535.95 Q124.059 1539.15 118.411 1544.91 Z\" fill=\"#000000\" fill-rule=\"nonzero\" fill-opacity=\"1\" /><path clip-path=\"url(#clip180)\" d=\"M154.545 1517.37 Q150.934 1517.37 149.105 1520.93 Q147.3 1524.47 147.3 1531.6 Q147.3 1538.71 149.105 1542.27 Q150.934 1545.82 154.545 1545.82 Q158.179 1545.82 159.985 1542.27 Q161.814 1538.71 161.814 1531.6 Q161.814 1524.47 159.985 1520.93 Q158.179 1517.37 154.545 1517.37 M154.545 1513.66 Q160.355 1513.66 163.411 1518.27 Q166.489 1522.85 166.489 1531.6 Q166.489 1540.33 163.411 1544.94 Q160.355 1549.52 154.545 1549.52 Q148.735 1549.52 145.656 1544.94 Q142.601 1540.33 142.601 1531.6 Q142.601 1522.85 145.656 1518.27 Q148.735 1513.66 154.545 1513.66 Z\" fill=\"#000000\" fill-rule=\"nonzero\" fill-opacity=\"1\" /><path clip-path=\"url(#clip180)\" d=\"M184.707 1517.37 Q181.096 1517.37 179.267 1520.93 Q177.462 1524.47 177.462 1531.6 Q177.462 1538.71 179.267 1542.27 Q181.096 1545.82 184.707 1545.82 Q188.341 1545.82 190.147 1542.27 Q191.975 1538.71 191.975 1531.6 Q191.975 1524.47 190.147 1520.93 Q188.341 1517.37 184.707 1517.37 M184.707 1513.66 Q190.517 1513.66 193.573 1518.27 Q196.651 1522.85 196.651 1531.6 Q196.651 1540.33 193.573 1544.94 Q190.517 1549.52 184.707 1549.52 Q178.897 1549.52 175.818 1544.94 Q172.763 1540.33 172.763 1531.6 Q172.763 1522.85 175.818 1518.27 Q178.897 1513.66 184.707 1513.66 Z\" fill=\"#000000\" fill-rule=\"nonzero\" fill-opacity=\"1\" /><path clip-path=\"url(#clip180)\" d=\"M205.679 1544.91 L213.318 1544.91 L213.318 1518.55 L205.008 1520.21 L205.008 1515.95 L213.272 1514.29 L217.948 1514.29 L217.948 1544.91 L225.586 1544.91 L225.586 1548.85 L205.679 1548.85 L205.679 1544.91 Z\" fill=\"#000000\" fill-rule=\"nonzero\" fill-opacity=\"1\" /><path clip-path=\"url(#clip180)\" d=\"M232.276 1533.96 L244.753 1533.96 L244.753 1537.76 L232.276 1537.76 L232.276 1533.96 Z\" fill=\"#000000\" fill-rule=\"nonzero\" fill-opacity=\"1\" /><path clip-path=\"url(#clip180)\" d=\"M262.137 1517.37 Q258.526 1517.37 256.697 1520.93 Q254.892 1524.47 254.892 1531.6 Q254.892 1538.71 256.697 1542.27 Q258.526 1545.82 262.137 1545.82 Q265.771 1545.82 267.577 1542.27 Q269.406 1538.71 269.406 1531.6 Q269.406 1524.47 267.577 1520.93 Q265.771 1517.37 262.137 1517.37 M262.137 1513.66 Q267.947 1513.66 271.003 1518.27 Q274.082 1522.85 274.082 1531.6 Q274.082 1540.33 271.003 1544.94 Q267.947 1549.52 262.137 1549.52 Q256.327 1549.52 253.248 1544.94 Q250.193 1540.33 250.193 1531.6 Q250.193 1522.85 253.248 1518.27 Q256.327 1513.66 262.137 1513.66 Z\" fill=\"#000000\" fill-rule=\"nonzero\" fill-opacity=\"1\" /><path clip-path=\"url(#clip180)\" d=\"M283.109 1544.91 L290.748 1544.91 L290.748 1518.55 L282.438 1520.21 L282.438 1515.95 L290.702 1514.29 L295.378 1514.29 L295.378 1544.91 L303.017 1544.91 L303.017 1548.85 L283.109 1548.85 L283.109 1544.91 Z\" fill=\"#000000\" fill-rule=\"nonzero\" fill-opacity=\"1\" /><path clip-path=\"url(#clip180)\" d=\"M309.706 1533.96 L322.183 1533.96 L322.183 1537.76 L309.706 1537.76 L309.706 1533.96 Z\" fill=\"#000000\" fill-rule=\"nonzero\" fill-opacity=\"1\" /><path clip-path=\"url(#clip180)\" d=\"M339.567 1517.37 Q335.956 1517.37 334.127 1520.93 Q332.322 1524.47 332.322 1531.6 Q332.322 1538.71 334.127 1542.27 Q335.956 1545.82 339.567 1545.82 Q343.202 1545.82 345.007 1542.27 Q346.836 1538.71 346.836 1531.6 Q346.836 1524.47 345.007 1520.93 Q343.202 1517.37 339.567 1517.37 M339.567 1513.66 Q345.377 1513.66 348.433 1518.27 Q351.512 1522.85 351.512 1531.6 Q351.512 1540.33 348.433 1544.94 Q345.377 1549.52 339.567 1549.52 Q333.757 1549.52 330.678 1544.94 Q327.623 1540.33 327.623 1531.6 Q327.623 1522.85 330.678 1518.27 Q333.757 1513.66 339.567 1513.66 Z\" fill=\"#000000\" fill-rule=\"nonzero\" fill-opacity=\"1\" /><path clip-path=\"url(#clip180)\" d=\"M360.539 1544.91 L368.178 1544.91 L368.178 1518.55 L359.868 1520.21 L359.868 1515.95 L368.132 1514.29 L372.808 1514.29 L372.808 1544.91 L380.447 1544.91 L380.447 1548.85 L360.539 1548.85 L360.539 1544.91 Z\" fill=\"#000000\" fill-rule=\"nonzero\" fill-opacity=\"1\" /><path clip-path=\"url(#clip180)\" d=\"M646.162 1544.91 L662.482 1544.91 L662.482 1548.85 L640.537 1548.85 L640.537 1544.91 Q643.199 1542.16 647.783 1537.53 Q652.389 1532.88 653.57 1531.53 Q655.815 1529.01 656.695 1527.27 Q657.597 1525.51 657.597 1523.82 Q657.597 1521.07 655.653 1519.33 Q653.732 1517.6 650.63 1517.6 Q648.431 1517.6 645.977 1518.36 Q643.547 1519.13 640.769 1520.68 L640.769 1515.95 Q643.593 1514.82 646.047 1514.24 Q648.5 1513.66 650.537 1513.66 Q655.908 1513.66 659.102 1516.35 Q662.297 1519.03 662.297 1523.52 Q662.297 1525.65 661.486 1527.57 Q660.699 1529.47 658.593 1532.07 Q658.014 1532.74 654.912 1535.95 Q651.81 1539.15 646.162 1544.91 Z\" fill=\"#000000\" fill-rule=\"nonzero\" fill-opacity=\"1\" /><path clip-path=\"url(#clip180)\" d=\"M682.296 1517.37 Q678.685 1517.37 676.857 1520.93 Q675.051 1524.47 675.051 1531.6 Q675.051 1538.71 676.857 1542.27 Q678.685 1545.82 682.296 1545.82 Q685.931 1545.82 687.736 1542.27 Q689.565 1538.71 689.565 1531.6 Q689.565 1524.47 687.736 1520.93 Q685.931 1517.37 682.296 1517.37 M682.296 1513.66 Q688.107 1513.66 691.162 1518.27 Q694.241 1522.85 694.241 1531.6 Q694.241 1540.33 691.162 1544.94 Q688.107 1549.52 682.296 1549.52 Q676.486 1549.52 673.408 1544.94 Q670.352 1540.33 670.352 1531.6 Q670.352 1522.85 673.408 1518.27 Q676.486 1513.66 682.296 1513.66 Z\" fill=\"#000000\" fill-rule=\"nonzero\" fill-opacity=\"1\" /><path clip-path=\"url(#clip180)\" d=\"M712.458 1517.37 Q708.847 1517.37 707.018 1520.93 Q705.213 1524.47 705.213 1531.6 Q705.213 1538.71 707.018 1542.27 Q708.847 1545.82 712.458 1545.82 Q716.093 1545.82 717.898 1542.27 Q719.727 1538.71 719.727 1531.6 Q719.727 1524.47 717.898 1520.93 Q716.093 1517.37 712.458 1517.37 M712.458 1513.66 Q718.268 1513.66 721.324 1518.27 Q724.403 1522.85 724.403 1531.6 Q724.403 1540.33 721.324 1544.94 Q718.268 1549.52 712.458 1549.52 Q706.648 1549.52 703.569 1544.94 Q700.514 1540.33 700.514 1531.6 Q700.514 1522.85 703.569 1518.27 Q706.648 1513.66 712.458 1513.66 Z\" fill=\"#000000\" fill-rule=\"nonzero\" fill-opacity=\"1\" /><path clip-path=\"url(#clip180)\" d=\"M731.44 1514.29 L753.662 1514.29 L753.662 1516.28 L741.116 1548.85 L736.231 1548.85 L748.037 1518.22 L731.44 1518.22 L731.44 1514.29 Z\" fill=\"#000000\" fill-rule=\"nonzero\" fill-opacity=\"1\" /><path clip-path=\"url(#clip180)\" d=\"M760.027 1533.96 L772.504 1533.96 L772.504 1537.76 L760.027 1537.76 L760.027 1533.96 Z\" fill=\"#000000\" fill-rule=\"nonzero\" fill-opacity=\"1\" /><path clip-path=\"url(#clip180)\" d=\"M789.888 1517.37 Q786.277 1517.37 784.449 1520.93 Q782.643 1524.47 782.643 1531.6 Q782.643 1538.71 784.449 1542.27 Q786.277 1545.82 789.888 1545.82 Q793.523 1545.82 795.328 1542.27 Q797.157 1538.71 797.157 1531.6 Q797.157 1524.47 795.328 1520.93 Q793.523 1517.37 789.888 1517.37 M789.888 1513.66 Q795.699 1513.66 798.754 1518.27 Q801.833 1522.85 801.833 1531.6 Q801.833 1540.33 798.754 1544.94 Q795.699 1549.52 789.888 1549.52 Q784.078 1549.52 781 1544.94 Q777.944 1540.33 777.944 1531.6 Q777.944 1522.85 781 1518.27 Q784.078 1513.66 789.888 1513.66 Z\" fill=\"#000000\" fill-rule=\"nonzero\" fill-opacity=\"1\" /><path clip-path=\"url(#clip180)\" d=\"M810.861 1544.91 L818.499 1544.91 L818.499 1518.55 L810.189 1520.21 L810.189 1515.95 L818.453 1514.29 L823.129 1514.29 L823.129 1544.91 L830.768 1544.91 L830.768 1548.85 L810.861 1548.85 L810.861 1544.91 Z\" fill=\"#000000\" fill-rule=\"nonzero\" fill-opacity=\"1\" /><path clip-path=\"url(#clip180)\" d=\"M837.458 1533.96 L849.934 1533.96 L849.934 1537.76 L837.458 1537.76 L837.458 1533.96 Z\" fill=\"#000000\" fill-rule=\"nonzero\" fill-opacity=\"1\" /><path clip-path=\"url(#clip180)\" d=\"M867.319 1517.37 Q863.707 1517.37 861.879 1520.93 Q860.073 1524.47 860.073 1531.6 Q860.073 1538.71 861.879 1542.27 Q863.707 1545.82 867.319 1545.82 Q870.953 1545.82 872.758 1542.27 Q874.587 1538.71 874.587 1531.6 Q874.587 1524.47 872.758 1520.93 Q870.953 1517.37 867.319 1517.37 M867.319 1513.66 Q873.129 1513.66 876.184 1518.27 Q879.263 1522.85 879.263 1531.6 Q879.263 1540.33 876.184 1544.94 Q873.129 1549.52 867.319 1549.52 Q861.508 1549.52 858.43 1544.94 Q855.374 1540.33 855.374 1531.6 Q855.374 1522.85 858.43 1518.27 Q861.508 1513.66 867.319 1513.66 Z\" fill=\"#000000\" fill-rule=\"nonzero\" fill-opacity=\"1\" /><path clip-path=\"url(#clip180)\" d=\"M888.291 1544.91 L895.93 1544.91 L895.93 1518.55 L887.619 1520.21 L887.619 1515.95 L895.883 1514.29 L900.559 1514.29 L900.559 1544.91 L908.198 1544.91 L908.198 1548.85 L888.291 1548.85 L888.291 1544.91 Z\" fill=\"#000000\" fill-rule=\"nonzero\" fill-opacity=\"1\" /><path clip-path=\"url(#clip180)\" d=\"M1174.15 1544.91 L1190.47 1544.91 L1190.47 1548.85 L1168.53 1548.85 L1168.53 1544.91 Q1171.19 1542.16 1175.77 1537.53 Q1180.38 1532.88 1181.56 1531.53 Q1183.81 1529.01 1184.69 1527.27 Q1185.59 1525.51 1185.59 1523.82 Q1185.59 1521.07 1183.65 1519.33 Q1181.72 1517.6 1178.62 1517.6 Q1176.42 1517.6 1173.97 1518.36 Q1171.54 1519.13 1168.76 1520.68 L1168.76 1515.95 Q1171.59 1514.82 1174.04 1514.24 Q1176.49 1513.66 1178.53 1513.66 Q1183.9 1513.66 1187.09 1516.35 Q1190.29 1519.03 1190.29 1523.52 Q1190.29 1525.65 1189.48 1527.57 Q1188.69 1529.47 1186.58 1532.07 Q1186.01 1532.74 1182.9 1535.95 Q1179.8 1539.15 1174.15 1544.91 Z\" fill=\"#000000\" fill-rule=\"nonzero\" fill-opacity=\"1\" /><path clip-path=\"url(#clip180)\" d=\"M1210.29 1517.37 Q1206.68 1517.37 1204.85 1520.93 Q1203.04 1524.47 1203.04 1531.6 Q1203.04 1538.71 1204.85 1542.27 Q1206.68 1545.82 1210.29 1545.82 Q1213.92 1545.82 1215.73 1542.27 Q1217.56 1538.71 1217.56 1531.6 Q1217.56 1524.47 1215.73 1520.93 Q1213.92 1517.37 1210.29 1517.37 M1210.29 1513.66 Q1216.1 1513.66 1219.15 1518.27 Q1222.23 1522.85 1222.23 1531.6 Q1222.23 1540.33 1219.15 1544.94 Q1216.1 1549.52 1210.29 1549.52 Q1204.48 1549.52 1201.4 1544.94 Q1198.34 1540.33 1198.34 1531.6 Q1198.34 1522.85 1201.4 1518.27 Q1204.48 1513.66 1210.29 1513.66 Z\" fill=\"#000000\" fill-rule=\"nonzero\" fill-opacity=\"1\" /><path clip-path=\"url(#clip180)\" d=\"M1231.26 1544.91 L1238.9 1544.91 L1238.9 1518.55 L1230.59 1520.21 L1230.59 1515.95 L1238.85 1514.29 L1243.53 1514.29 L1243.53 1544.91 L1251.17 1544.91 L1251.17 1548.85 L1231.26 1548.85 L1231.26 1544.91 Z\" fill=\"#000000\" fill-rule=\"nonzero\" fill-opacity=\"1\" /><path clip-path=\"url(#clip180)\" d=\"M1274.78 1530.21 Q1278.14 1530.93 1280.01 1533.2 Q1281.91 1535.47 1281.91 1538.8 Q1281.91 1543.92 1278.39 1546.72 Q1274.87 1549.52 1268.39 1549.52 Q1266.21 1549.52 1263.9 1549.08 Q1261.61 1548.66 1259.15 1547.81 L1259.15 1543.29 Q1261.1 1544.43 1263.41 1545.01 Q1265.73 1545.58 1268.25 1545.58 Q1272.65 1545.58 1274.94 1543.85 Q1277.26 1542.11 1277.26 1538.8 Q1277.26 1535.75 1275.1 1534.03 Q1272.97 1532.3 1269.15 1532.3 L1265.13 1532.3 L1265.13 1528.45 L1269.34 1528.45 Q1272.79 1528.45 1274.62 1527.09 Q1276.45 1525.7 1276.45 1523.11 Q1276.45 1520.45 1274.55 1519.03 Q1272.67 1517.6 1269.15 1517.6 Q1267.23 1517.6 1265.03 1518.01 Q1262.83 1518.43 1260.2 1519.31 L1260.2 1515.14 Q1262.86 1514.4 1265.17 1514.03 Q1267.51 1513.66 1269.57 1513.66 Q1274.89 1513.66 1278 1516.09 Q1281.1 1518.5 1281.1 1522.62 Q1281.1 1525.49 1279.45 1527.48 Q1277.81 1529.45 1274.78 1530.21 Z\" fill=\"#000000\" fill-rule=\"nonzero\" fill-opacity=\"1\" /><path clip-path=\"url(#clip180)\" d=\"M1288.02 1533.96 L1300.5 1533.96 L1300.5 1537.76 L1288.02 1537.76 L1288.02 1533.96 Z\" fill=\"#000000\" fill-rule=\"nonzero\" fill-opacity=\"1\" /><path clip-path=\"url(#clip180)\" d=\"M1317.88 1517.37 Q1314.27 1517.37 1312.44 1520.93 Q1310.64 1524.47 1310.64 1531.6 Q1310.64 1538.71 1312.44 1542.27 Q1314.27 1545.82 1317.88 1545.82 Q1321.51 1545.82 1323.32 1542.27 Q1325.15 1538.71 1325.15 1531.6 Q1325.15 1524.47 1323.32 1520.93 Q1321.51 1517.37 1317.88 1517.37 M1317.88 1513.66 Q1323.69 1513.66 1326.75 1518.27 Q1329.82 1522.85 1329.82 1531.6 Q1329.82 1540.33 1326.75 1544.94 Q1323.69 1549.52 1317.88 1549.52 Q1312.07 1549.52 1308.99 1544.94 Q1305.94 1540.33 1305.94 1531.6 Q1305.94 1522.85 1308.99 1518.27 Q1312.07 1513.66 1317.88 1513.66 Z\" fill=\"#000000\" fill-rule=\"nonzero\" fill-opacity=\"1\" /><path clip-path=\"url(#clip180)\" d=\"M1338.85 1544.91 L1346.49 1544.91 L1346.49 1518.55 L1338.18 1520.21 L1338.18 1515.95 L1346.45 1514.29 L1351.12 1514.29 L1351.12 1544.91 L1358.76 1544.91 L1358.76 1548.85 L1338.85 1548.85 L1338.85 1544.91 Z\" fill=\"#000000\" fill-rule=\"nonzero\" fill-opacity=\"1\" /><path clip-path=\"url(#clip180)\" d=\"M1365.45 1533.96 L1377.93 1533.96 L1377.93 1537.76 L1365.45 1537.76 L1365.45 1533.96 Z\" fill=\"#000000\" fill-rule=\"nonzero\" fill-opacity=\"1\" /><path clip-path=\"url(#clip180)\" d=\"M1395.31 1517.37 Q1391.7 1517.37 1389.87 1520.93 Q1388.07 1524.47 1388.07 1531.6 Q1388.07 1538.71 1389.87 1542.27 Q1391.7 1545.82 1395.31 1545.82 Q1398.94 1545.82 1400.75 1542.27 Q1402.58 1538.71 1402.58 1531.6 Q1402.58 1524.47 1400.75 1520.93 Q1398.94 1517.37 1395.31 1517.37 M1395.31 1513.66 Q1401.12 1513.66 1404.18 1518.27 Q1407.26 1522.85 1407.26 1531.6 Q1407.26 1540.33 1404.18 1544.94 Q1401.12 1549.52 1395.31 1549.52 Q1389.5 1549.52 1386.42 1544.94 Q1383.37 1540.33 1383.37 1531.6 Q1383.37 1522.85 1386.42 1518.27 Q1389.5 1513.66 1395.31 1513.66 Z\" fill=\"#000000\" fill-rule=\"nonzero\" fill-opacity=\"1\" /><path clip-path=\"url(#clip180)\" d=\"M1416.28 1544.91 L1423.92 1544.91 L1423.92 1518.55 L1415.61 1520.21 L1415.61 1515.95 L1423.88 1514.29 L1428.55 1514.29 L1428.55 1544.91 L1436.19 1544.91 L1436.19 1548.85 L1416.28 1548.85 L1416.28 1544.91 Z\" fill=\"#000000\" fill-rule=\"nonzero\" fill-opacity=\"1\" /><path clip-path=\"url(#clip180)\" d=\"M1701.91 1544.91 L1718.23 1544.91 L1718.23 1548.85 L1696.28 1548.85 L1696.28 1544.91 Q1698.94 1542.16 1703.53 1537.53 Q1708.13 1532.88 1709.31 1531.53 Q1711.56 1529.01 1712.44 1527.27 Q1713.34 1525.51 1713.34 1523.82 Q1713.34 1521.07 1711.4 1519.33 Q1709.48 1517.6 1706.37 1517.6 Q1704.17 1517.6 1701.72 1518.36 Q1699.29 1519.13 1696.51 1520.68 L1696.51 1515.95 Q1699.34 1514.82 1701.79 1514.24 Q1704.24 1513.66 1706.28 1513.66 Q1711.65 1513.66 1714.85 1516.35 Q1718.04 1519.03 1718.04 1523.52 Q1718.04 1525.65 1717.23 1527.57 Q1716.44 1529.47 1714.34 1532.07 Q1713.76 1532.74 1710.66 1535.95 Q1707.55 1539.15 1701.91 1544.91 Z\" fill=\"#000000\" fill-rule=\"nonzero\" fill-opacity=\"1\" /><path clip-path=\"url(#clip180)\" d=\"M1738.04 1517.37 Q1734.43 1517.37 1732.6 1520.93 Q1730.79 1524.47 1730.79 1531.6 Q1730.79 1538.71 1732.6 1542.27 Q1734.43 1545.82 1738.04 1545.82 Q1741.67 1545.82 1743.48 1542.27 Q1745.31 1538.71 1745.31 1531.6 Q1745.31 1524.47 1743.48 1520.93 Q1741.67 1517.37 1738.04 1517.37 M1738.04 1513.66 Q1743.85 1513.66 1746.91 1518.27 Q1749.98 1522.85 1749.98 1531.6 Q1749.98 1540.33 1746.91 1544.94 Q1743.85 1549.52 1738.04 1549.52 Q1732.23 1549.52 1729.15 1544.94 Q1726.1 1540.33 1726.1 1531.6 Q1726.1 1522.85 1729.15 1518.27 Q1732.23 1513.66 1738.04 1513.66 Z\" fill=\"#000000\" fill-rule=\"nonzero\" fill-opacity=\"1\" /><path clip-path=\"url(#clip180)\" d=\"M1759.01 1544.91 L1766.65 1544.91 L1766.65 1518.55 L1758.34 1520.21 L1758.34 1515.95 L1766.6 1514.29 L1771.28 1514.29 L1771.28 1544.91 L1778.92 1544.91 L1778.92 1548.85 L1759.01 1548.85 L1759.01 1544.91 Z\" fill=\"#000000\" fill-rule=\"nonzero\" fill-opacity=\"1\" /><path clip-path=\"url(#clip180)\" d=\"M1788.5 1548.13 L1788.5 1543.87 Q1790.26 1544.7 1792.07 1545.14 Q1793.87 1545.58 1795.61 1545.58 Q1800.24 1545.58 1802.67 1542.48 Q1805.12 1539.36 1805.47 1533.01 Q1804.13 1535.01 1802.07 1536.07 Q1800.01 1537.13 1797.51 1537.13 Q1792.32 1537.13 1789.29 1534.01 Q1786.28 1530.86 1786.28 1525.42 Q1786.28 1520.1 1789.43 1516.88 Q1792.58 1513.66 1797.81 1513.66 Q1803.8 1513.66 1806.95 1518.27 Q1810.12 1522.85 1810.12 1531.6 Q1810.12 1539.77 1806.23 1544.66 Q1802.37 1549.52 1795.82 1549.52 Q1794.06 1549.52 1792.25 1549.17 Q1790.45 1548.82 1788.5 1548.13 M1797.81 1533.48 Q1800.96 1533.48 1802.78 1531.32 Q1804.64 1529.17 1804.64 1525.42 Q1804.64 1521.7 1802.78 1519.54 Q1800.96 1517.37 1797.81 1517.37 Q1794.66 1517.37 1792.81 1519.54 Q1790.98 1521.7 1790.98 1525.42 Q1790.98 1529.17 1792.81 1531.32 Q1794.66 1533.48 1797.81 1533.48 Z\" fill=\"#000000\" fill-rule=\"nonzero\" fill-opacity=\"1\" /><path clip-path=\"url(#clip180)\" d=\"M1815.77 1533.96 L1828.25 1533.96 L1828.25 1537.76 L1815.77 1537.76 L1815.77 1533.96 Z\" fill=\"#000000\" fill-rule=\"nonzero\" fill-opacity=\"1\" /><path clip-path=\"url(#clip180)\" d=\"M1845.63 1517.37 Q1842.02 1517.37 1840.19 1520.93 Q1838.39 1524.47 1838.39 1531.6 Q1838.39 1538.71 1840.19 1542.27 Q1842.02 1545.82 1845.63 1545.82 Q1849.27 1545.82 1851.07 1542.27 Q1852.9 1538.71 1852.9 1531.6 Q1852.9 1524.47 1851.07 1520.93 Q1849.27 1517.37 1845.63 1517.37 M1845.63 1513.66 Q1851.44 1513.66 1854.5 1518.27 Q1857.58 1522.85 1857.58 1531.6 Q1857.58 1540.33 1854.5 1544.94 Q1851.44 1549.52 1845.63 1549.52 Q1839.82 1549.52 1836.74 1544.94 Q1833.69 1540.33 1833.69 1531.6 Q1833.69 1522.85 1836.74 1518.27 Q1839.82 1513.66 1845.63 1513.66 Z\" fill=\"#000000\" fill-rule=\"nonzero\" fill-opacity=\"1\" /><path clip-path=\"url(#clip180)\" d=\"M1866.6 1544.91 L1874.24 1544.91 L1874.24 1518.55 L1865.93 1520.21 L1865.93 1515.95 L1874.2 1514.29 L1878.87 1514.29 L1878.87 1544.91 L1886.51 1544.91 L1886.51 1548.85 L1866.6 1548.85 L1866.6 1544.91 Z\" fill=\"#000000\" fill-rule=\"nonzero\" fill-opacity=\"1\" /><path clip-path=\"url(#clip180)\" d=\"M1893.2 1533.96 L1905.68 1533.96 L1905.68 1537.76 L1893.2 1537.76 L1893.2 1533.96 Z\" fill=\"#000000\" fill-rule=\"nonzero\" fill-opacity=\"1\" /><path clip-path=\"url(#clip180)\" d=\"M1923.06 1517.37 Q1919.45 1517.37 1917.62 1520.93 Q1915.82 1524.47 1915.82 1531.6 Q1915.82 1538.71 1917.62 1542.27 Q1919.45 1545.82 1923.06 1545.82 Q1926.7 1545.82 1928.5 1542.27 Q1930.33 1538.71 1930.33 1531.6 Q1930.33 1524.47 1928.5 1520.93 Q1926.7 1517.37 1923.06 1517.37 M1923.06 1513.66 Q1928.87 1513.66 1931.93 1518.27 Q1935.01 1522.85 1935.01 1531.6 Q1935.01 1540.33 1931.93 1544.94 Q1928.87 1549.52 1923.06 1549.52 Q1917.25 1549.52 1914.17 1544.94 Q1911.12 1540.33 1911.12 1531.6 Q1911.12 1522.85 1914.17 1518.27 Q1917.25 1513.66 1923.06 1513.66 Z\" fill=\"#000000\" fill-rule=\"nonzero\" fill-opacity=\"1\" /><path clip-path=\"url(#clip180)\" d=\"M1944.03 1544.91 L1951.67 1544.91 L1951.67 1518.55 L1943.36 1520.21 L1943.36 1515.95 L1951.63 1514.29 L1956.3 1514.29 L1956.3 1544.91 L1963.94 1544.91 L1963.94 1548.85 L1944.03 1548.85 L1944.03 1544.91 Z\" fill=\"#000000\" fill-rule=\"nonzero\" fill-opacity=\"1\" /><polyline clip-path=\"url(#clip182)\" style=\"stroke:#000000; stroke-linecap:round; stroke-linejoin:round; stroke-width:2; stroke-opacity:0.1; fill:none\" points=\"192.709,1361.79 2352.76,1361.79 \"/>\n",
       "<polyline clip-path=\"url(#clip182)\" style=\"stroke:#000000; stroke-linecap:round; stroke-linejoin:round; stroke-width:2; stroke-opacity:0.1; fill:none\" points=\"192.709,958.991 2352.76,958.991 \"/>\n",
       "<polyline clip-path=\"url(#clip182)\" style=\"stroke:#000000; stroke-linecap:round; stroke-linejoin:round; stroke-width:2; stroke-opacity:0.1; fill:none\" points=\"192.709,556.187 2352.76,556.187 \"/>\n",
       "<polyline clip-path=\"url(#clip182)\" style=\"stroke:#000000; stroke-linecap:round; stroke-linejoin:round; stroke-width:2; stroke-opacity:0.1; fill:none\" points=\"192.709,153.383 2352.76,153.383 \"/>\n",
       "<polyline clip-path=\"url(#clip180)\" style=\"stroke:#000000; stroke-linecap:round; stroke-linejoin:round; stroke-width:4; stroke-opacity:1; fill:none\" points=\"192.709,1486.45 192.709,47.2441 \"/>\n",
       "<polyline clip-path=\"url(#clip180)\" style=\"stroke:#000000; stroke-linecap:round; stroke-linejoin:round; stroke-width:4; stroke-opacity:1; fill:none\" points=\"192.709,1361.79 211.607,1361.79 \"/>\n",
       "<polyline clip-path=\"url(#clip180)\" style=\"stroke:#000000; stroke-linecap:round; stroke-linejoin:round; stroke-width:4; stroke-opacity:1; fill:none\" points=\"192.709,958.991 211.607,958.991 \"/>\n",
       "<polyline clip-path=\"url(#clip180)\" style=\"stroke:#000000; stroke-linecap:round; stroke-linejoin:round; stroke-width:4; stroke-opacity:1; fill:none\" points=\"192.709,556.187 211.607,556.187 \"/>\n",
       "<polyline clip-path=\"url(#clip180)\" style=\"stroke:#000000; stroke-linecap:round; stroke-linejoin:round; stroke-width:4; stroke-opacity:1; fill:none\" points=\"192.709,153.383 211.607,153.383 \"/>\n",
       "<path clip-path=\"url(#clip180)\" d=\"M51.3625 1362.25 L81.0383 1362.25 L81.0383 1366.18 L51.3625 1366.18 L51.3625 1362.25 Z\" fill=\"#000000\" fill-rule=\"nonzero\" fill-opacity=\"1\" /><path clip-path=\"url(#clip180)\" d=\"M101.131 1347.59 Q97.5197 1347.59 95.691 1351.16 Q93.8854 1354.7 93.8854 1361.83 Q93.8854 1368.94 95.691 1372.5 Q97.5197 1376.04 101.131 1376.04 Q104.765 1376.04 106.571 1372.5 Q108.399 1368.94 108.399 1361.83 Q108.399 1354.7 106.571 1351.16 Q104.765 1347.59 101.131 1347.59 M101.131 1343.89 Q106.941 1343.89 109.996 1348.5 Q113.075 1353.08 113.075 1361.83 Q113.075 1370.56 109.996 1375.16 Q106.941 1379.75 101.131 1379.75 Q95.3206 1379.75 92.2419 1375.16 Q89.1864 1370.56 89.1864 1361.83 Q89.1864 1353.08 92.2419 1348.5 Q95.3206 1343.89 101.131 1343.89 Z\" fill=\"#000000\" fill-rule=\"nonzero\" fill-opacity=\"1\" /><path clip-path=\"url(#clip180)\" d=\"M121.293 1373.19 L126.177 1373.19 L126.177 1379.07 L121.293 1379.07 L121.293 1373.19 Z\" fill=\"#000000\" fill-rule=\"nonzero\" fill-opacity=\"1\" /><path clip-path=\"url(#clip180)\" d=\"M140.39 1375.14 L156.709 1375.14 L156.709 1379.07 L134.765 1379.07 L134.765 1375.14 Q137.427 1372.38 142.01 1367.76 Q146.617 1363.1 147.797 1361.76 Q150.043 1359.24 150.922 1357.5 Q151.825 1355.74 151.825 1354.05 Q151.825 1351.3 149.88 1349.56 Q147.959 1347.82 144.857 1347.82 Q142.658 1347.82 140.205 1348.59 Q137.774 1349.35 134.996 1350.9 L134.996 1346.18 Q137.82 1345.05 140.274 1344.47 Q142.728 1343.89 144.765 1343.89 Q150.135 1343.89 153.33 1346.57 Q156.524 1349.26 156.524 1353.75 Q156.524 1355.88 155.714 1357.8 Q154.927 1359.7 152.82 1362.29 Q152.242 1362.96 149.14 1366.18 Q146.038 1369.38 140.39 1375.14 Z\" fill=\"#000000\" fill-rule=\"nonzero\" fill-opacity=\"1\" /><path clip-path=\"url(#clip180)\" d=\"M50.9921 959.442 L80.6679 959.442 L80.6679 963.377 L50.9921 963.377 L50.9921 959.442 Z\" fill=\"#000000\" fill-rule=\"nonzero\" fill-opacity=\"1\" /><path clip-path=\"url(#clip180)\" d=\"M100.76 944.789 Q97.1493 944.789 95.3206 948.354 Q93.515 951.896 93.515 959.025 Q93.515 966.132 95.3206 969.697 Q97.1493 973.238 100.76 973.238 Q104.395 973.238 106.2 969.697 Q108.029 966.132 108.029 959.025 Q108.029 951.896 106.2 948.354 Q104.395 944.789 100.76 944.789 M100.76 941.086 Q106.571 941.086 109.626 945.692 Q112.705 950.276 112.705 959.025 Q112.705 967.752 109.626 972.359 Q106.571 976.942 100.76 976.942 Q94.9502 976.942 91.8715 972.359 Q88.816 967.752 88.816 959.025 Q88.816 950.276 91.8715 945.692 Q94.9502 941.086 100.76 941.086 Z\" fill=\"#000000\" fill-rule=\"nonzero\" fill-opacity=\"1\" /><path clip-path=\"url(#clip180)\" d=\"M120.922 970.391 L125.807 970.391 L125.807 976.271 L120.922 976.271 L120.922 970.391 Z\" fill=\"#000000\" fill-rule=\"nonzero\" fill-opacity=\"1\" /><path clip-path=\"url(#clip180)\" d=\"M136.802 972.336 L144.441 972.336 L144.441 945.97 L136.131 947.637 L136.131 943.377 L144.394 941.711 L149.07 941.711 L149.07 972.336 L156.709 972.336 L156.709 976.271 L136.802 976.271 L136.802 972.336 Z\" fill=\"#000000\" fill-rule=\"nonzero\" fill-opacity=\"1\" /><path clip-path=\"url(#clip180)\" d=\"M99.5335 541.986 Q95.9224 541.986 94.0937 545.55 Q92.2882 549.092 92.2882 556.222 Q92.2882 563.328 94.0937 566.893 Q95.9224 570.435 99.5335 570.435 Q103.168 570.435 104.973 566.893 Q106.802 563.328 106.802 556.222 Q106.802 549.092 104.973 545.55 Q103.168 541.986 99.5335 541.986 M99.5335 538.282 Q105.344 538.282 108.399 542.888 Q111.478 547.472 111.478 556.222 Q111.478 564.948 108.399 569.555 Q105.344 574.138 99.5335 574.138 Q93.7234 574.138 90.6447 569.555 Q87.5892 564.948 87.5892 556.222 Q87.5892 547.472 90.6447 542.888 Q93.7234 538.282 99.5335 538.282 Z\" fill=\"#000000\" fill-rule=\"nonzero\" fill-opacity=\"1\" /><path clip-path=\"url(#clip180)\" d=\"M119.695 567.587 L124.58 567.587 L124.58 573.467 L119.695 573.467 L119.695 567.587 Z\" fill=\"#000000\" fill-rule=\"nonzero\" fill-opacity=\"1\" /><path clip-path=\"url(#clip180)\" d=\"M144.765 541.986 Q141.154 541.986 139.325 545.55 Q137.519 549.092 137.519 556.222 Q137.519 563.328 139.325 566.893 Q141.154 570.435 144.765 570.435 Q148.399 570.435 150.205 566.893 Q152.033 563.328 152.033 556.222 Q152.033 549.092 150.205 545.55 Q148.399 541.986 144.765 541.986 M144.765 538.282 Q150.575 538.282 153.63 542.888 Q156.709 547.472 156.709 556.222 Q156.709 564.948 153.63 569.555 Q150.575 574.138 144.765 574.138 Q138.955 574.138 135.876 569.555 Q132.82 564.948 132.82 556.222 Q132.82 547.472 135.876 542.888 Q138.955 538.282 144.765 538.282 Z\" fill=\"#000000\" fill-rule=\"nonzero\" fill-opacity=\"1\" /><path clip-path=\"url(#clip180)\" d=\"M100.76 139.182 Q97.1493 139.182 95.3206 142.747 Q93.515 146.288 93.515 153.418 Q93.515 160.524 95.3206 164.089 Q97.1493 167.631 100.76 167.631 Q104.395 167.631 106.2 164.089 Q108.029 160.524 108.029 153.418 Q108.029 146.288 106.2 142.747 Q104.395 139.182 100.76 139.182 M100.76 135.478 Q106.571 135.478 109.626 140.085 Q112.705 144.668 112.705 153.418 Q112.705 162.145 109.626 166.751 Q106.571 171.334 100.76 171.334 Q94.9502 171.334 91.8715 166.751 Q88.816 162.145 88.816 153.418 Q88.816 144.668 91.8715 140.085 Q94.9502 135.478 100.76 135.478 Z\" fill=\"#000000\" fill-rule=\"nonzero\" fill-opacity=\"1\" /><path clip-path=\"url(#clip180)\" d=\"M120.922 164.784 L125.807 164.784 L125.807 170.663 L120.922 170.663 L120.922 164.784 Z\" fill=\"#000000\" fill-rule=\"nonzero\" fill-opacity=\"1\" /><path clip-path=\"url(#clip180)\" d=\"M136.802 166.728 L144.441 166.728 L144.441 140.362 L136.131 142.029 L136.131 137.77 L144.394 136.103 L149.07 136.103 L149.07 166.728 L156.709 166.728 L156.709 170.663 L136.802 170.663 L136.802 166.728 Z\" fill=\"#000000\" fill-rule=\"nonzero\" fill-opacity=\"1\" /><polyline clip-path=\"url(#clip182)\" style=\"stroke:#009af9; stroke-linecap:round; stroke-linejoin:round; stroke-width:4; stroke-opacity:1; fill:none\" points=\"253.843,456.174 260.587,911.053 268.054,838.467 275.28,274.594 282.747,603.806 289.973,682.709 297.44,621.015 304.907,747.136 312.134,943.181 319.601,472.069 326.827,316.891 334.294,519.486 341.761,668.942 348.505,587.104 355.972,379.671 363.199,687.376 370.666,553.084 377.892,811.4 385.359,909.948 392.826,547.266 400.052,1025.67 407.519,271.047 414.745,343.04 422.212,754.291 429.679,676.535 436.424,629.097 443.891,573.604 451.117,214.096 458.584,331 465.81,481.465 473.277,469.024 480.744,463.082 487.97,531.792 495.438,320.042 502.664,496.321 510.131,309.689 517.598,488.718 524.583,483.941 532.05,579.276 539.276,651.922 546.743,525.031 553.969,477.247 561.437,687.218 568.904,531.714 576.13,473.417 583.597,458.906 590.823,342.424 598.29,403.284 605.757,642.544 612.501,418.982 619.969,645.928 627.195,646.059 634.662,481.656 641.888,515.676 649.355,409.914 656.822,525.721 664.048,436.754 671.515,666.181 678.741,412.124 686.208,458.32 693.675,362.629 700.42,562.098 707.887,472.356 715.113,424.305 722.58,718.191 729.806,557.926 737.273,528.788 744.74,453.086 751.967,509.516 759.434,407.879 766.66,443.87 774.127,467.303 781.594,516.315 788.338,577.448 795.805,476.214 803.031,381.224 810.499,438.168 817.725,568.062 825.192,618.17 832.659,567.349 839.885,345.555 847.352,402.032 854.578,738.339 862.045,601.024 869.512,900.403 876.498,544.803 883.965,615.732 891.191,337.514 898.658,493.72 905.884,901.315 913.351,662.171 920.818,643.956 928.044,1093.97 935.511,1445.72 942.737,829.91 950.204,412.784 957.672,915.936 964.416,971.247 971.883,237.353 979.109,106.729 986.576,173.598 993.802,578.836 1001.27,216.353 1008.74,414.642 1015.96,375.505 1023.43,618.92 1030.66,393.839 1038.12,473.624 1045.59,734.138 1052.33,505.2 1059.8,305.045 1067.03,549.416 1074.49,957.402 1081.72,682.232 1089.19,241.086 1096.65,699.521 1103.88,188.175 1111.35,413.179 1118.57,646.824 1126.04,271.519 1133.51,493.466 1140.25,440.569 1147.72,560.212 1154.95,394.672 1162.41,643.716 1169.64,620.161 1177.11,622.308 1184.57,861.733 1191.8,955.653 1199.27,146.201 1206.49,678.606 1213.96,564.334 1221.43,328.526 1228.41,358.456 1235.88,529.522 1243.11,602.516 1250.57,934.561 1257.8,362.003 1265.27,501.418 1272.73,469.542 1279.96,431.276 1287.43,583.125 1294.65,505.005 1302.12,465.967 1309.59,374.769 1316.33,556.814 1323.8,483.203 1331.02,442.73 1338.49,567.252 1345.72,675.677 1353.18,367.828 1360.65,640.995 1367.88,353.329 1375.34,397.459 1382.57,499.541 1390.04,487.289 1397.5,720.621 1404.25,366.156 1411.72,538.317 1418.94,518.022 1426.41,471.413 1433.64,481.053 1441.1,605.335 1448.57,468.185 1455.8,688.965 1463.26,527.928 1470.49,489.369 1477.96,634.673 1485.42,619.662 1492.17,337.96 1499.63,619.088 1506.86,440.979 1514.33,561.446 1521.55,652.149 1529.02,521.359 1536.49,842.233 1543.71,704.828 1551.18,251.839 1558.41,589.587 1565.87,629.492 1573.34,806.755 1580.33,583.991 1587.79,268.221 1595.02,497.162 1602.49,551.113 1609.71,580.645 1617.18,386.24 1624.65,542.658 1631.87,531.583 1639.34,625.145 1646.57,525.692 1654.03,470.098 1661.5,447.52 1668.24,444.744 1675.71,507.222 1682.94,493.886 1690.41,468.206 1697.63,537.913 1705.1,445.168 1712.57,540.781 1719.79,479.11 1727.26,473.399 1734.48,478.955 1741.95,491.763 1749.42,335.126 1756.16,729.007 1763.63,643.345 1770.86,517.908 1778.32,551.166 1785.55,578.05 1793.02,436.506 1800.48,524.677 1807.71,538.688 1815.18,869.953 1822.4,497.703 1829.87,850.384 1837.34,250.07 1844.08,449.858 1851.55,505.86 1858.77,422.416 1866.24,802.509 1873.47,300.701 1880.94,544.408 1888.4,652.885 1895.63,472.325 1903.1,447.423 1910.32,459.032 1917.79,416.787 1925.26,600.922 1932.24,895.429 1939.71,1140.37 1946.93,146.258 1954.4,384.709 1961.63,429.492 1969.09,348.602 1976.56,316.893 1983.79,688.206 1991.25,655.318 1998.48,87.9763 2005.95,373.382 2013.41,574.54 2020.16,463.958 2027.63,450.005 2034.85,383.812 2042.32,493.991 2049.55,503.452 2057.01,528.524 2064.48,456.608 2071.71,726.122 2079.17,355.651 2086.4,654.378 2093.87,398.197 2101.33,759.037 2108.08,661.593 2115.54,469.87 2122.77,892.24 2130.24,551.468 2137.46,910.904 2144.93,284.286 2152.4,707.284 2159.62,961.518 2167.09,320.152 2174.32,255.288 2181.78,717.887 2189.25,277.355 2196,673.319 2203.46,433.863 2210.69,498.709 2218.16,599.566 2225.38,328.85 2232.85,411.362 2240.32,670.35 2247.54,726.287 2255.01,679.159 2262.24,200.579 2269.7,367.21 2277.17,532.645 2284.16,386.935 2291.62,431.664 \"/>\n",
       "<path clip-path=\"url(#clip182)\" d=\"M253.843 2925.65 L253.843 -1391.96 L260.587 -1391.96 L260.587 2925.65 L253.843 2925.65  Z\" fill=\"#e26f46\" fill-rule=\"evenodd\" fill-opacity=\"0.3\"/>\n",
       "<polyline clip-path=\"url(#clip182)\" style=\"stroke:#000000; stroke-linecap:round; stroke-linejoin:round; stroke-width:0; stroke-opacity:0.3; fill:none\" points=\"253.843,2925.65 253.843,-1391.96 260.587,-1391.96 260.587,2925.65 253.843,2925.65 \"/>\n",
       "<path clip-path=\"url(#clip182)\" d=\"M268.054 2925.65 L268.054 -1391.96 L275.28 -1391.96 L275.28 2925.65 L268.054 2925.65  Z\" fill=\"#e26f46\" fill-rule=\"evenodd\" fill-opacity=\"0.3\"/>\n",
       "<polyline clip-path=\"url(#clip182)\" style=\"stroke:#000000; stroke-linecap:round; stroke-linejoin:round; stroke-width:0; stroke-opacity:0.3; fill:none\" points=\"268.054,2925.65 268.054,-1391.96 275.28,-1391.96 275.28,2925.65 268.054,2925.65 \"/>\n",
       "<path clip-path=\"url(#clip182)\" d=\"M282.747 2925.65 L282.747 -1391.96 L289.973 -1391.96 L289.973 2925.65 L282.747 2925.65  Z\" fill=\"#e26f46\" fill-rule=\"evenodd\" fill-opacity=\"0.3\"/>\n",
       "<polyline clip-path=\"url(#clip182)\" style=\"stroke:#000000; stroke-linecap:round; stroke-linejoin:round; stroke-width:0; stroke-opacity:0.3; fill:none\" points=\"282.747,2925.65 282.747,-1391.96 289.973,-1391.96 289.973,2925.65 282.747,2925.65 \"/>\n",
       "<path clip-path=\"url(#clip182)\" d=\"M297.44 2925.65 L297.44 -1391.96 L304.907 -1391.96 L304.907 2925.65 L297.44 2925.65  Z\" fill=\"#e26f46\" fill-rule=\"evenodd\" fill-opacity=\"0.3\"/>\n",
       "<polyline clip-path=\"url(#clip182)\" style=\"stroke:#000000; stroke-linecap:round; stroke-linejoin:round; stroke-width:0; stroke-opacity:0.3; fill:none\" points=\"297.44,2925.65 297.44,-1391.96 304.907,-1391.96 304.907,2925.65 297.44,2925.65 \"/>\n",
       "<path clip-path=\"url(#clip182)\" d=\"M312.134 2925.65 L312.134 -1391.96 L319.601 -1391.96 L319.601 2925.65 L312.134 2925.65  Z\" fill=\"#e26f46\" fill-rule=\"evenodd\" fill-opacity=\"0.3\"/>\n",
       "<polyline clip-path=\"url(#clip182)\" style=\"stroke:#000000; stroke-linecap:round; stroke-linejoin:round; stroke-width:0; stroke-opacity:0.3; fill:none\" points=\"312.134,2925.65 312.134,-1391.96 319.601,-1391.96 319.601,2925.65 312.134,2925.65 \"/>\n",
       "<path clip-path=\"url(#clip182)\" d=\"M326.827 2925.65 L326.827 -1391.96 L334.294 -1391.96 L334.294 2925.65 L326.827 2925.65  Z\" fill=\"#e26f46\" fill-rule=\"evenodd\" fill-opacity=\"0.3\"/>\n",
       "<polyline clip-path=\"url(#clip182)\" style=\"stroke:#000000; stroke-linecap:round; stroke-linejoin:round; stroke-width:0; stroke-opacity:0.3; fill:none\" points=\"326.827,2925.65 326.827,-1391.96 334.294,-1391.96 334.294,2925.65 326.827,2925.65 \"/>\n",
       "<path clip-path=\"url(#clip182)\" d=\"M341.761 2925.65 L341.761 -1391.96 L348.505 -1391.96 L348.505 2925.65 L341.761 2925.65  Z\" fill=\"#e26f46\" fill-rule=\"evenodd\" fill-opacity=\"0.3\"/>\n",
       "<polyline clip-path=\"url(#clip182)\" style=\"stroke:#000000; stroke-linecap:round; stroke-linejoin:round; stroke-width:0; stroke-opacity:0.3; fill:none\" points=\"341.761,2925.65 341.761,-1391.96 348.505,-1391.96 348.505,2925.65 341.761,2925.65 \"/>\n",
       "<path clip-path=\"url(#clip182)\" d=\"M355.972 2925.65 L355.972 -1391.96 L363.199 -1391.96 L363.199 2925.65 L355.972 2925.65  Z\" fill=\"#e26f46\" fill-rule=\"evenodd\" fill-opacity=\"0.3\"/>\n",
       "<polyline clip-path=\"url(#clip182)\" style=\"stroke:#000000; stroke-linecap:round; stroke-linejoin:round; stroke-width:0; stroke-opacity:0.3; fill:none\" points=\"355.972,2925.65 355.972,-1391.96 363.199,-1391.96 363.199,2925.65 355.972,2925.65 \"/>\n",
       "<path clip-path=\"url(#clip182)\" d=\"M370.666 2925.65 L370.666 -1391.96 L377.892 -1391.96 L377.892 2925.65 L370.666 2925.65  Z\" fill=\"#e26f46\" fill-rule=\"evenodd\" fill-opacity=\"0.3\"/>\n",
       "<polyline clip-path=\"url(#clip182)\" style=\"stroke:#000000; stroke-linecap:round; stroke-linejoin:round; stroke-width:0; stroke-opacity:0.3; fill:none\" points=\"370.666,2925.65 370.666,-1391.96 377.892,-1391.96 377.892,2925.65 370.666,2925.65 \"/>\n",
       "<path clip-path=\"url(#clip182)\" d=\"M385.359 2925.65 L385.359 -1391.96 L392.826 -1391.96 L392.826 2925.65 L385.359 2925.65  Z\" fill=\"#e26f46\" fill-rule=\"evenodd\" fill-opacity=\"0.3\"/>\n",
       "<polyline clip-path=\"url(#clip182)\" style=\"stroke:#000000; stroke-linecap:round; stroke-linejoin:round; stroke-width:0; stroke-opacity:0.3; fill:none\" points=\"385.359,2925.65 385.359,-1391.96 392.826,-1391.96 392.826,2925.65 385.359,2925.65 \"/>\n",
       "<path clip-path=\"url(#clip182)\" d=\"M400.052 2925.65 L400.052 -1391.96 L407.519 -1391.96 L407.519 2925.65 L400.052 2925.65  Z\" fill=\"#e26f46\" fill-rule=\"evenodd\" fill-opacity=\"0.3\"/>\n",
       "<polyline clip-path=\"url(#clip182)\" style=\"stroke:#000000; stroke-linecap:round; stroke-linejoin:round; stroke-width:0; stroke-opacity:0.3; fill:none\" points=\"400.052,2925.65 400.052,-1391.96 407.519,-1391.96 407.519,2925.65 400.052,2925.65 \"/>\n",
       "<path clip-path=\"url(#clip182)\" d=\"M414.745 2925.65 L414.745 -1391.96 L422.212 -1391.96 L422.212 2925.65 L414.745 2925.65  Z\" fill=\"#e26f46\" fill-rule=\"evenodd\" fill-opacity=\"0.3\"/>\n",
       "<polyline clip-path=\"url(#clip182)\" style=\"stroke:#000000; stroke-linecap:round; stroke-linejoin:round; stroke-width:0; stroke-opacity:0.3; fill:none\" points=\"414.745,2925.65 414.745,-1391.96 422.212,-1391.96 422.212,2925.65 414.745,2925.65 \"/>\n",
       "<path clip-path=\"url(#clip182)\" d=\"M429.679 2925.65 L429.679 -1391.96 L436.424 -1391.96 L436.424 2925.65 L429.679 2925.65  Z\" fill=\"#e26f46\" fill-rule=\"evenodd\" fill-opacity=\"0.3\"/>\n",
       "<polyline clip-path=\"url(#clip182)\" style=\"stroke:#000000; stroke-linecap:round; stroke-linejoin:round; stroke-width:0; stroke-opacity:0.3; fill:none\" points=\"429.679,2925.65 429.679,-1391.96 436.424,-1391.96 436.424,2925.65 429.679,2925.65 \"/>\n",
       "<path clip-path=\"url(#clip182)\" d=\"M443.891 2925.65 L443.891 -1391.96 L451.117 -1391.96 L451.117 2925.65 L443.891 2925.65  Z\" fill=\"#e26f46\" fill-rule=\"evenodd\" fill-opacity=\"0.3\"/>\n",
       "<polyline clip-path=\"url(#clip182)\" style=\"stroke:#000000; stroke-linecap:round; stroke-linejoin:round; stroke-width:0; stroke-opacity:0.3; fill:none\" points=\"443.891,2925.65 443.891,-1391.96 451.117,-1391.96 451.117,2925.65 443.891,2925.65 \"/>\n",
       "<path clip-path=\"url(#clip182)\" d=\"M458.584 2925.65 L458.584 -1391.96 L854.578 -1391.96 L854.578 2925.65 L458.584 2925.65  Z\" fill=\"#e26f46\" fill-rule=\"evenodd\" fill-opacity=\"0.3\"/>\n",
       "<polyline clip-path=\"url(#clip182)\" style=\"stroke:#000000; stroke-linecap:round; stroke-linejoin:round; stroke-width:0; stroke-opacity:0.3; fill:none\" points=\"458.584,2925.65 458.584,-1391.96 854.578,-1391.96 854.578,2925.65 458.584,2925.65 \"/>\n",
       "<path clip-path=\"url(#clip182)\" d=\"M862.045 2925.65 L862.045 -1391.96 L869.512 -1391.96 L869.512 2925.65 L862.045 2925.65  Z\" fill=\"#e26f46\" fill-rule=\"evenodd\" fill-opacity=\"0.3\"/>\n",
       "<polyline clip-path=\"url(#clip182)\" style=\"stroke:#000000; stroke-linecap:round; stroke-linejoin:round; stroke-width:0; stroke-opacity:0.3; fill:none\" points=\"862.045,2925.65 862.045,-1391.96 869.512,-1391.96 869.512,2925.65 862.045,2925.65 \"/>\n",
       "<path clip-path=\"url(#clip182)\" d=\"M876.498 2925.65 L876.498 -1391.96 L883.965 -1391.96 L883.965 2925.65 L876.498 2925.65  Z\" fill=\"#e26f46\" fill-rule=\"evenodd\" fill-opacity=\"0.3\"/>\n",
       "<polyline clip-path=\"url(#clip182)\" style=\"stroke:#000000; stroke-linecap:round; stroke-linejoin:round; stroke-width:0; stroke-opacity:0.3; fill:none\" points=\"876.498,2925.65 876.498,-1391.96 883.965,-1391.96 883.965,2925.65 876.498,2925.65 \"/>\n",
       "<path clip-path=\"url(#clip182)\" d=\"M891.191 2925.65 L891.191 -1391.96 L898.658 -1391.96 L898.658 2925.65 L891.191 2925.65  Z\" fill=\"#e26f46\" fill-rule=\"evenodd\" fill-opacity=\"0.3\"/>\n",
       "<polyline clip-path=\"url(#clip182)\" style=\"stroke:#000000; stroke-linecap:round; stroke-linejoin:round; stroke-width:0; stroke-opacity:0.3; fill:none\" points=\"891.191,2925.65 891.191,-1391.96 898.658,-1391.96 898.658,2925.65 891.191,2925.65 \"/>\n",
       "<path clip-path=\"url(#clip182)\" d=\"M905.884 2925.65 L905.884 -1391.96 L913.351 -1391.96 L913.351 2925.65 L905.884 2925.65  Z\" fill=\"#e26f46\" fill-rule=\"evenodd\" fill-opacity=\"0.3\"/>\n",
       "<polyline clip-path=\"url(#clip182)\" style=\"stroke:#000000; stroke-linecap:round; stroke-linejoin:round; stroke-width:0; stroke-opacity:0.3; fill:none\" points=\"905.884,2925.65 905.884,-1391.96 913.351,-1391.96 913.351,2925.65 905.884,2925.65 \"/>\n",
       "<path clip-path=\"url(#clip182)\" d=\"M920.818 2925.65 L920.818 -1391.96 L928.044 -1391.96 L928.044 2925.65 L920.818 2925.65  Z\" fill=\"#e26f46\" fill-rule=\"evenodd\" fill-opacity=\"0.3\"/>\n",
       "<polyline clip-path=\"url(#clip182)\" style=\"stroke:#000000; stroke-linecap:round; stroke-linejoin:round; stroke-width:0; stroke-opacity:0.3; fill:none\" points=\"920.818,2925.65 920.818,-1391.96 928.044,-1391.96 928.044,2925.65 920.818,2925.65 \"/>\n",
       "<path clip-path=\"url(#clip182)\" d=\"M935.511 2925.65 L935.511 -1391.96 L942.737 -1391.96 L942.737 2925.65 L935.511 2925.65  Z\" fill=\"#e26f46\" fill-rule=\"evenodd\" fill-opacity=\"0.3\"/>\n",
       "<polyline clip-path=\"url(#clip182)\" style=\"stroke:#000000; stroke-linecap:round; stroke-linejoin:round; stroke-width:0; stroke-opacity:0.3; fill:none\" points=\"935.511,2925.65 935.511,-1391.96 942.737,-1391.96 942.737,2925.65 935.511,2925.65 \"/>\n",
       "<path clip-path=\"url(#clip182)\" d=\"M950.204 2925.65 L950.204 -1391.96 L957.672 -1391.96 L957.672 2925.65 L950.204 2925.65  Z\" fill=\"#e26f46\" fill-rule=\"evenodd\" fill-opacity=\"0.3\"/>\n",
       "<polyline clip-path=\"url(#clip182)\" style=\"stroke:#000000; stroke-linecap:round; stroke-linejoin:round; stroke-width:0; stroke-opacity:0.3; fill:none\" points=\"950.204,2925.65 950.204,-1391.96 957.672,-1391.96 957.672,2925.65 950.204,2925.65 \"/>\n",
       "<path clip-path=\"url(#clip182)\" d=\"M964.416 2925.65 L964.416 -1391.96 L971.883 -1391.96 L971.883 2925.65 L964.416 2925.65  Z\" fill=\"#e26f46\" fill-rule=\"evenodd\" fill-opacity=\"0.3\"/>\n",
       "<polyline clip-path=\"url(#clip182)\" style=\"stroke:#000000; stroke-linecap:round; stroke-linejoin:round; stroke-width:0; stroke-opacity:0.3; fill:none\" points=\"964.416,2925.65 964.416,-1391.96 971.883,-1391.96 971.883,2925.65 964.416,2925.65 \"/>\n",
       "<path clip-path=\"url(#clip182)\" d=\"M979.109 2925.65 L979.109 -1391.96 L986.576 -1391.96 L986.576 2925.65 L979.109 2925.65  Z\" fill=\"#e26f46\" fill-rule=\"evenodd\" fill-opacity=\"0.3\"/>\n",
       "<polyline clip-path=\"url(#clip182)\" style=\"stroke:#000000; stroke-linecap:round; stroke-linejoin:round; stroke-width:0; stroke-opacity:0.3; fill:none\" points=\"979.109,2925.65 979.109,-1391.96 986.576,-1391.96 986.576,2925.65 979.109,2925.65 \"/>\n",
       "<path clip-path=\"url(#clip182)\" d=\"M993.802 2925.65 L993.802 -1391.96 L1001.27 -1391.96 L1001.27 2925.65 L993.802 2925.65  Z\" fill=\"#e26f46\" fill-rule=\"evenodd\" fill-opacity=\"0.3\"/>\n",
       "<polyline clip-path=\"url(#clip182)\" style=\"stroke:#000000; stroke-linecap:round; stroke-linejoin:round; stroke-width:0; stroke-opacity:0.3; fill:none\" points=\"993.802,2925.65 993.802,-1391.96 1001.27,-1391.96 1001.27,2925.65 993.802,2925.65 \"/>\n",
       "<path clip-path=\"url(#clip182)\" d=\"M1008.74 2925.65 L1008.74 -1391.96 L1015.96 -1391.96 L1015.96 2925.65 L1008.74 2925.65  Z\" fill=\"#e26f46\" fill-rule=\"evenodd\" fill-opacity=\"0.3\"/>\n",
       "<polyline clip-path=\"url(#clip182)\" style=\"stroke:#000000; stroke-linecap:round; stroke-linejoin:round; stroke-width:0; stroke-opacity:0.3; fill:none\" points=\"1008.74,2925.65 1008.74,-1391.96 1015.96,-1391.96 1015.96,2925.65 1008.74,2925.65 \"/>\n",
       "<path clip-path=\"url(#clip182)\" d=\"M1023.43 2925.65 L1023.43 -1391.96 L1030.66 -1391.96 L1030.66 2925.65 L1023.43 2925.65  Z\" fill=\"#e26f46\" fill-rule=\"evenodd\" fill-opacity=\"0.3\"/>\n",
       "<polyline clip-path=\"url(#clip182)\" style=\"stroke:#000000; stroke-linecap:round; stroke-linejoin:round; stroke-width:0; stroke-opacity:0.3; fill:none\" points=\"1023.43,2925.65 1023.43,-1391.96 1030.66,-1391.96 1030.66,2925.65 1023.43,2925.65 \"/>\n",
       "<path clip-path=\"url(#clip182)\" d=\"M1038.12 2925.65 L1038.12 -1391.96 L1045.59 -1391.96 L1045.59 2925.65 L1038.12 2925.65  Z\" fill=\"#e26f46\" fill-rule=\"evenodd\" fill-opacity=\"0.3\"/>\n",
       "<polyline clip-path=\"url(#clip182)\" style=\"stroke:#000000; stroke-linecap:round; stroke-linejoin:round; stroke-width:0; stroke-opacity:0.3; fill:none\" points=\"1038.12,2925.65 1038.12,-1391.96 1045.59,-1391.96 1045.59,2925.65 1038.12,2925.65 \"/>\n",
       "<path clip-path=\"url(#clip182)\" d=\"M1052.33 2925.65 L1052.33 -1391.96 L1059.8 -1391.96 L1059.8 2925.65 L1052.33 2925.65  Z\" fill=\"#e26f46\" fill-rule=\"evenodd\" fill-opacity=\"0.3\"/>\n",
       "<polyline clip-path=\"url(#clip182)\" style=\"stroke:#000000; stroke-linecap:round; stroke-linejoin:round; stroke-width:0; stroke-opacity:0.3; fill:none\" points=\"1052.33,2925.65 1052.33,-1391.96 1059.8,-1391.96 1059.8,2925.65 1052.33,2925.65 \"/>\n",
       "<path clip-path=\"url(#clip182)\" d=\"M1067.03 2925.65 L1067.03 -1391.96 L1074.49 -1391.96 L1074.49 2925.65 L1067.03 2925.65  Z\" fill=\"#e26f46\" fill-rule=\"evenodd\" fill-opacity=\"0.3\"/>\n",
       "<polyline clip-path=\"url(#clip182)\" style=\"stroke:#000000; stroke-linecap:round; stroke-linejoin:round; stroke-width:0; stroke-opacity:0.3; fill:none\" points=\"1067.03,2925.65 1067.03,-1391.96 1074.49,-1391.96 1074.49,2925.65 1067.03,2925.65 \"/>\n",
       "<path clip-path=\"url(#clip182)\" d=\"M1081.72 2925.65 L1081.72 -1391.96 L1089.19 -1391.96 L1089.19 2925.65 L1081.72 2925.65  Z\" fill=\"#e26f46\" fill-rule=\"evenodd\" fill-opacity=\"0.3\"/>\n",
       "<polyline clip-path=\"url(#clip182)\" style=\"stroke:#000000; stroke-linecap:round; stroke-linejoin:round; stroke-width:0; stroke-opacity:0.3; fill:none\" points=\"1081.72,2925.65 1081.72,-1391.96 1089.19,-1391.96 1089.19,2925.65 1081.72,2925.65 \"/>\n",
       "<path clip-path=\"url(#clip182)\" d=\"M1096.65 2925.65 L1096.65 -1391.96 L1103.88 -1391.96 L1103.88 2925.65 L1096.65 2925.65  Z\" fill=\"#e26f46\" fill-rule=\"evenodd\" fill-opacity=\"0.3\"/>\n",
       "<polyline clip-path=\"url(#clip182)\" style=\"stroke:#000000; stroke-linecap:round; stroke-linejoin:round; stroke-width:0; stroke-opacity:0.3; fill:none\" points=\"1096.65,2925.65 1096.65,-1391.96 1103.88,-1391.96 1103.88,2925.65 1096.65,2925.65 \"/>\n",
       "<path clip-path=\"url(#clip182)\" d=\"M1111.35 2925.65 L1111.35 -1391.96 L1118.57 -1391.96 L1118.57 2925.65 L1111.35 2925.65  Z\" fill=\"#e26f46\" fill-rule=\"evenodd\" fill-opacity=\"0.3\"/>\n",
       "<polyline clip-path=\"url(#clip182)\" style=\"stroke:#000000; stroke-linecap:round; stroke-linejoin:round; stroke-width:0; stroke-opacity:0.3; fill:none\" points=\"1111.35,2925.65 1111.35,-1391.96 1118.57,-1391.96 1118.57,2925.65 1111.35,2925.65 \"/>\n",
       "<path clip-path=\"url(#clip182)\" d=\"M1126.04 2925.65 L1126.04 -1391.96 L1133.51 -1391.96 L1133.51 2925.65 L1126.04 2925.65  Z\" fill=\"#e26f46\" fill-rule=\"evenodd\" fill-opacity=\"0.3\"/>\n",
       "<polyline clip-path=\"url(#clip182)\" style=\"stroke:#000000; stroke-linecap:round; stroke-linejoin:round; stroke-width:0; stroke-opacity:0.3; fill:none\" points=\"1126.04,2925.65 1126.04,-1391.96 1133.51,-1391.96 1133.51,2925.65 1126.04,2925.65 \"/>\n",
       "<path clip-path=\"url(#clip182)\" d=\"M1140.25 2925.65 L1140.25 -1391.96 L1147.72 -1391.96 L1147.72 2925.65 L1140.25 2925.65  Z\" fill=\"#e26f46\" fill-rule=\"evenodd\" fill-opacity=\"0.3\"/>\n",
       "<polyline clip-path=\"url(#clip182)\" style=\"stroke:#000000; stroke-linecap:round; stroke-linejoin:round; stroke-width:0; stroke-opacity:0.3; fill:none\" points=\"1140.25,2925.65 1140.25,-1391.96 1147.72,-1391.96 1147.72,2925.65 1140.25,2925.65 \"/>\n",
       "<path clip-path=\"url(#clip182)\" d=\"M1154.95 2925.65 L1154.95 -1391.96 L1162.41 -1391.96 L1162.41 2925.65 L1154.95 2925.65  Z\" fill=\"#e26f46\" fill-rule=\"evenodd\" fill-opacity=\"0.3\"/>\n",
       "<polyline clip-path=\"url(#clip182)\" style=\"stroke:#000000; stroke-linecap:round; stroke-linejoin:round; stroke-width:0; stroke-opacity:0.3; fill:none\" points=\"1154.95,2925.65 1154.95,-1391.96 1162.41,-1391.96 1162.41,2925.65 1154.95,2925.65 \"/>\n",
       "<path clip-path=\"url(#clip182)\" d=\"M1169.64 2925.65 L1169.64 -1391.96 L1177.11 -1391.96 L1177.11 2925.65 L1169.64 2925.65  Z\" fill=\"#e26f46\" fill-rule=\"evenodd\" fill-opacity=\"0.3\"/>\n",
       "<polyline clip-path=\"url(#clip182)\" style=\"stroke:#000000; stroke-linecap:round; stroke-linejoin:round; stroke-width:0; stroke-opacity:0.3; fill:none\" points=\"1169.64,2925.65 1169.64,-1391.96 1177.11,-1391.96 1177.11,2925.65 1169.64,2925.65 \"/>\n",
       "<path clip-path=\"url(#clip182)\" d=\"M1184.57 2925.65 L1184.57 -1391.96 L1191.8 -1391.96 L1191.8 2925.65 L1184.57 2925.65  Z\" fill=\"#e26f46\" fill-rule=\"evenodd\" fill-opacity=\"0.3\"/>\n",
       "<polyline clip-path=\"url(#clip182)\" style=\"stroke:#000000; stroke-linecap:round; stroke-linejoin:round; stroke-width:0; stroke-opacity:0.3; fill:none\" points=\"1184.57,2925.65 1184.57,-1391.96 1191.8,-1391.96 1191.8,2925.65 1184.57,2925.65 \"/>\n",
       "<path clip-path=\"url(#clip182)\" d=\"M1199.27 2925.65 L1199.27 -1391.96 L1206.49 -1391.96 L1206.49 2925.65 L1199.27 2925.65  Z\" fill=\"#e26f46\" fill-rule=\"evenodd\" fill-opacity=\"0.3\"/>\n",
       "<polyline clip-path=\"url(#clip182)\" style=\"stroke:#000000; stroke-linecap:round; stroke-linejoin:round; stroke-width:0; stroke-opacity:0.3; fill:none\" points=\"1199.27,2925.65 1199.27,-1391.96 1206.49,-1391.96 1206.49,2925.65 1199.27,2925.65 \"/>\n",
       "<path clip-path=\"url(#clip182)\" d=\"M1213.96 2925.65 L1213.96 -1391.96 L1221.43 -1391.96 L1221.43 2925.65 L1213.96 2925.65  Z\" fill=\"#e26f46\" fill-rule=\"evenodd\" fill-opacity=\"0.3\"/>\n",
       "<polyline clip-path=\"url(#clip182)\" style=\"stroke:#000000; stroke-linecap:round; stroke-linejoin:round; stroke-width:0; stroke-opacity:0.3; fill:none\" points=\"1213.96,2925.65 1213.96,-1391.96 1221.43,-1391.96 1221.43,2925.65 1213.96,2925.65 \"/>\n",
       "<path clip-path=\"url(#clip182)\" d=\"M1228.41 2925.65 L1228.41 -1391.96 L1235.88 -1391.96 L1235.88 2925.65 L1228.41 2925.65  Z\" fill=\"#e26f46\" fill-rule=\"evenodd\" fill-opacity=\"0.3\"/>\n",
       "<polyline clip-path=\"url(#clip182)\" style=\"stroke:#000000; stroke-linecap:round; stroke-linejoin:round; stroke-width:0; stroke-opacity:0.3; fill:none\" points=\"1228.41,2925.65 1228.41,-1391.96 1235.88,-1391.96 1235.88,2925.65 1228.41,2925.65 \"/>\n",
       "<path clip-path=\"url(#clip182)\" d=\"M1243.11 2925.65 L1243.11 -1391.96 L1250.57 -1391.96 L1250.57 2925.65 L1243.11 2925.65  Z\" fill=\"#e26f46\" fill-rule=\"evenodd\" fill-opacity=\"0.3\"/>\n",
       "<polyline clip-path=\"url(#clip182)\" style=\"stroke:#000000; stroke-linecap:round; stroke-linejoin:round; stroke-width:0; stroke-opacity:0.3; fill:none\" points=\"1243.11,2925.65 1243.11,-1391.96 1250.57,-1391.96 1250.57,2925.65 1243.11,2925.65 \"/>\n",
       "<path clip-path=\"url(#clip182)\" d=\"M1536.49 2925.65 L1536.49 -1391.96 L1543.71 -1391.96 L1543.71 2925.65 L1536.49 2925.65  Z\" fill=\"#e26f46\" fill-rule=\"evenodd\" fill-opacity=\"0.3\"/>\n",
       "<polyline clip-path=\"url(#clip182)\" style=\"stroke:#000000; stroke-linecap:round; stroke-linejoin:round; stroke-width:0; stroke-opacity:0.3; fill:none\" points=\"1536.49,2925.65 1536.49,-1391.96 1543.71,-1391.96 1543.71,2925.65 1536.49,2925.65 \"/>\n",
       "<path clip-path=\"url(#clip182)\" d=\"M1551.18 2925.65 L1551.18 -1391.96 L1558.41 -1391.96 L1558.41 2925.65 L1551.18 2925.65  Z\" fill=\"#e26f46\" fill-rule=\"evenodd\" fill-opacity=\"0.3\"/>\n",
       "<polyline clip-path=\"url(#clip182)\" style=\"stroke:#000000; stroke-linecap:round; stroke-linejoin:round; stroke-width:0; stroke-opacity:0.3; fill:none\" points=\"1551.18,2925.65 1551.18,-1391.96 1558.41,-1391.96 1558.41,2925.65 1551.18,2925.65 \"/>\n",
       "<path clip-path=\"url(#clip182)\" d=\"M1565.87 2925.65 L1565.87 -1391.96 L1573.34 -1391.96 L1573.34 2925.65 L1565.87 2925.65  Z\" fill=\"#e26f46\" fill-rule=\"evenodd\" fill-opacity=\"0.3\"/>\n",
       "<polyline clip-path=\"url(#clip182)\" style=\"stroke:#000000; stroke-linecap:round; stroke-linejoin:round; stroke-width:0; stroke-opacity:0.3; fill:none\" points=\"1565.87,2925.65 1565.87,-1391.96 1573.34,-1391.96 1573.34,2925.65 1565.87,2925.65 \"/>\n",
       "<path clip-path=\"url(#clip182)\" d=\"M1580.33 2925.65 L1580.33 -1391.96 L1587.79 -1391.96 L1587.79 2925.65 L1580.33 2925.65  Z\" fill=\"#e26f46\" fill-rule=\"evenodd\" fill-opacity=\"0.3\"/>\n",
       "<polyline clip-path=\"url(#clip182)\" style=\"stroke:#000000; stroke-linecap:round; stroke-linejoin:round; stroke-width:0; stroke-opacity:0.3; fill:none\" points=\"1580.33,2925.65 1580.33,-1391.96 1587.79,-1391.96 1587.79,2925.65 1580.33,2925.65 \"/>\n",
       "<path clip-path=\"url(#clip182)\" d=\"M1815.18 2925.65 L1815.18 -1391.96 L1822.4 -1391.96 L1822.4 2925.65 L1815.18 2925.65  Z\" fill=\"#e26f46\" fill-rule=\"evenodd\" fill-opacity=\"0.3\"/>\n",
       "<polyline clip-path=\"url(#clip182)\" style=\"stroke:#000000; stroke-linecap:round; stroke-linejoin:round; stroke-width:0; stroke-opacity:0.3; fill:none\" points=\"1815.18,2925.65 1815.18,-1391.96 1822.4,-1391.96 1822.4,2925.65 1815.18,2925.65 \"/>\n",
       "<path clip-path=\"url(#clip182)\" d=\"M1829.87 2925.65 L1829.87 -1391.96 L1837.34 -1391.96 L1837.34 2925.65 L1829.87 2925.65  Z\" fill=\"#e26f46\" fill-rule=\"evenodd\" fill-opacity=\"0.3\"/>\n",
       "<polyline clip-path=\"url(#clip182)\" style=\"stroke:#000000; stroke-linecap:round; stroke-linejoin:round; stroke-width:0; stroke-opacity:0.3; fill:none\" points=\"1829.87,2925.65 1829.87,-1391.96 1837.34,-1391.96 1837.34,2925.65 1829.87,2925.65 \"/>\n",
       "<path clip-path=\"url(#clip182)\" d=\"M1844.08 2925.65 L1844.08 -1391.96 L1851.55 -1391.96 L1851.55 2925.65 L1844.08 2925.65  Z\" fill=\"#e26f46\" fill-rule=\"evenodd\" fill-opacity=\"0.3\"/>\n",
       "<polyline clip-path=\"url(#clip182)\" style=\"stroke:#000000; stroke-linecap:round; stroke-linejoin:round; stroke-width:0; stroke-opacity:0.3; fill:none\" points=\"1844.08,2925.65 1844.08,-1391.96 1851.55,-1391.96 1851.55,2925.65 1844.08,2925.65 \"/>\n",
       "<path clip-path=\"url(#clip182)\" d=\"M1858.77 2925.65 L1858.77 -1391.96 L1866.24 -1391.96 L1866.24 2925.65 L1858.77 2925.65  Z\" fill=\"#e26f46\" fill-rule=\"evenodd\" fill-opacity=\"0.3\"/>\n",
       "<polyline clip-path=\"url(#clip182)\" style=\"stroke:#000000; stroke-linecap:round; stroke-linejoin:round; stroke-width:0; stroke-opacity:0.3; fill:none\" points=\"1858.77,2925.65 1858.77,-1391.96 1866.24,-1391.96 1866.24,2925.65 1858.77,2925.65 \"/>\n",
       "<path clip-path=\"url(#clip182)\" d=\"M1873.47 2925.65 L1873.47 -1391.96 L1880.94 -1391.96 L1880.94 2925.65 L1873.47 2925.65  Z\" fill=\"#e26f46\" fill-rule=\"evenodd\" fill-opacity=\"0.3\"/>\n",
       "<polyline clip-path=\"url(#clip182)\" style=\"stroke:#000000; stroke-linecap:round; stroke-linejoin:round; stroke-width:0; stroke-opacity:0.3; fill:none\" points=\"1873.47,2925.65 1873.47,-1391.96 1880.94,-1391.96 1880.94,2925.65 1873.47,2925.65 \"/>\n",
       "<path clip-path=\"url(#clip182)\" d=\"M1888.4 2925.65 L1888.4 -1391.96 L1895.63 -1391.96 L1895.63 2925.65 L1888.4 2925.65  Z\" fill=\"#e26f46\" fill-rule=\"evenodd\" fill-opacity=\"0.3\"/>\n",
       "<polyline clip-path=\"url(#clip182)\" style=\"stroke:#000000; stroke-linecap:round; stroke-linejoin:round; stroke-width:0; stroke-opacity:0.3; fill:none\" points=\"1888.4,2925.65 1888.4,-1391.96 1895.63,-1391.96 1895.63,2925.65 1888.4,2925.65 \"/>\n",
       "<path clip-path=\"url(#clip182)\" d=\"M1903.1 2925.65 L1903.1 -1391.96 L1910.32 -1391.96 L1910.32 2925.65 L1903.1 2925.65  Z\" fill=\"#e26f46\" fill-rule=\"evenodd\" fill-opacity=\"0.3\"/>\n",
       "<polyline clip-path=\"url(#clip182)\" style=\"stroke:#000000; stroke-linecap:round; stroke-linejoin:round; stroke-width:0; stroke-opacity:0.3; fill:none\" points=\"1903.1,2925.65 1903.1,-1391.96 1910.32,-1391.96 1910.32,2925.65 1903.1,2925.65 \"/>\n",
       "<path clip-path=\"url(#clip182)\" d=\"M1917.79 2925.65 L1917.79 -1391.96 L1925.26 -1391.96 L1925.26 2925.65 L1917.79 2925.65  Z\" fill=\"#e26f46\" fill-rule=\"evenodd\" fill-opacity=\"0.3\"/>\n",
       "<polyline clip-path=\"url(#clip182)\" style=\"stroke:#000000; stroke-linecap:round; stroke-linejoin:round; stroke-width:0; stroke-opacity:0.3; fill:none\" points=\"1917.79,2925.65 1917.79,-1391.96 1925.26,-1391.96 1925.26,2925.65 1917.79,2925.65 \"/>\n",
       "<path clip-path=\"url(#clip182)\" d=\"M1932.24 2925.65 L1932.24 -1391.96 L1939.71 -1391.96 L1939.71 2925.65 L1932.24 2925.65  Z\" fill=\"#e26f46\" fill-rule=\"evenodd\" fill-opacity=\"0.3\"/>\n",
       "<polyline clip-path=\"url(#clip182)\" style=\"stroke:#000000; stroke-linecap:round; stroke-linejoin:round; stroke-width:0; stroke-opacity:0.3; fill:none\" points=\"1932.24,2925.65 1932.24,-1391.96 1939.71,-1391.96 1939.71,2925.65 1932.24,2925.65 \"/>\n",
       "<path clip-path=\"url(#clip182)\" d=\"M1946.93 2925.65 L1946.93 -1391.96 L1954.4 -1391.96 L1954.4 2925.65 L1946.93 2925.65  Z\" fill=\"#e26f46\" fill-rule=\"evenodd\" fill-opacity=\"0.3\"/>\n",
       "<polyline clip-path=\"url(#clip182)\" style=\"stroke:#000000; stroke-linecap:round; stroke-linejoin:round; stroke-width:0; stroke-opacity:0.3; fill:none\" points=\"1946.93,2925.65 1946.93,-1391.96 1954.4,-1391.96 1954.4,2925.65 1946.93,2925.65 \"/>\n",
       "<path clip-path=\"url(#clip182)\" d=\"M1961.63 2925.65 L1961.63 -1391.96 L1969.09 -1391.96 L1969.09 2925.65 L1961.63 2925.65  Z\" fill=\"#e26f46\" fill-rule=\"evenodd\" fill-opacity=\"0.3\"/>\n",
       "<polyline clip-path=\"url(#clip182)\" style=\"stroke:#000000; stroke-linecap:round; stroke-linejoin:round; stroke-width:0; stroke-opacity:0.3; fill:none\" points=\"1961.63,2925.65 1961.63,-1391.96 1969.09,-1391.96 1969.09,2925.65 1961.63,2925.65 \"/>\n",
       "<path clip-path=\"url(#clip182)\" d=\"M1976.56 2925.65 L1976.56 -1391.96 L1983.79 -1391.96 L1983.79 2925.65 L1976.56 2925.65  Z\" fill=\"#e26f46\" fill-rule=\"evenodd\" fill-opacity=\"0.3\"/>\n",
       "<polyline clip-path=\"url(#clip182)\" style=\"stroke:#000000; stroke-linecap:round; stroke-linejoin:round; stroke-width:0; stroke-opacity:0.3; fill:none\" points=\"1976.56,2925.65 1976.56,-1391.96 1983.79,-1391.96 1983.79,2925.65 1976.56,2925.65 \"/>\n",
       "<path clip-path=\"url(#clip182)\" d=\"M1991.25 2925.65 L1991.25 -1391.96 L1998.48 -1391.96 L1998.48 2925.65 L1991.25 2925.65  Z\" fill=\"#e26f46\" fill-rule=\"evenodd\" fill-opacity=\"0.3\"/>\n",
       "<polyline clip-path=\"url(#clip182)\" style=\"stroke:#000000; stroke-linecap:round; stroke-linejoin:round; stroke-width:0; stroke-opacity:0.3; fill:none\" points=\"1991.25,2925.65 1991.25,-1391.96 1998.48,-1391.96 1998.48,2925.65 1991.25,2925.65 \"/>\n",
       "<path clip-path=\"url(#clip182)\" d=\"M2071.71 2925.65 L2071.71 -1391.96 L2079.17 -1391.96 L2079.17 2925.65 L2071.71 2925.65  Z\" fill=\"#e26f46\" fill-rule=\"evenodd\" fill-opacity=\"0.3\"/>\n",
       "<polyline clip-path=\"url(#clip182)\" style=\"stroke:#000000; stroke-linecap:round; stroke-linejoin:round; stroke-width:0; stroke-opacity:0.3; fill:none\" points=\"2071.71,2925.65 2071.71,-1391.96 2079.17,-1391.96 2079.17,2925.65 2071.71,2925.65 \"/>\n",
       "<path clip-path=\"url(#clip182)\" d=\"M2086.4 2925.65 L2086.4 -1391.96 L2093.87 -1391.96 L2093.87 2925.65 L2086.4 2925.65  Z\" fill=\"#e26f46\" fill-rule=\"evenodd\" fill-opacity=\"0.3\"/>\n",
       "<polyline clip-path=\"url(#clip182)\" style=\"stroke:#000000; stroke-linecap:round; stroke-linejoin:round; stroke-width:0; stroke-opacity:0.3; fill:none\" points=\"2086.4,2925.65 2086.4,-1391.96 2093.87,-1391.96 2093.87,2925.65 2086.4,2925.65 \"/>\n",
       "<path clip-path=\"url(#clip182)\" d=\"M2101.33 2925.65 L2101.33 -1391.96 L2108.08 -1391.96 L2108.08 2925.65 L2101.33 2925.65  Z\" fill=\"#e26f46\" fill-rule=\"evenodd\" fill-opacity=\"0.3\"/>\n",
       "<polyline clip-path=\"url(#clip182)\" style=\"stroke:#000000; stroke-linecap:round; stroke-linejoin:round; stroke-width:0; stroke-opacity:0.3; fill:none\" points=\"2101.33,2925.65 2101.33,-1391.96 2108.08,-1391.96 2108.08,2925.65 2101.33,2925.65 \"/>\n",
       "<path clip-path=\"url(#clip182)\" d=\"M2115.54 2925.65 L2115.54 -1391.96 L2122.77 -1391.96 L2122.77 2925.65 L2115.54 2925.65  Z\" fill=\"#e26f46\" fill-rule=\"evenodd\" fill-opacity=\"0.3\"/>\n",
       "<polyline clip-path=\"url(#clip182)\" style=\"stroke:#000000; stroke-linecap:round; stroke-linejoin:round; stroke-width:0; stroke-opacity:0.3; fill:none\" points=\"2115.54,2925.65 2115.54,-1391.96 2122.77,-1391.96 2122.77,2925.65 2115.54,2925.65 \"/>\n",
       "<path clip-path=\"url(#clip182)\" d=\"M2130.24 2925.65 L2130.24 -1391.96 L2137.46 -1391.96 L2137.46 2925.65 L2130.24 2925.65  Z\" fill=\"#e26f46\" fill-rule=\"evenodd\" fill-opacity=\"0.3\"/>\n",
       "<polyline clip-path=\"url(#clip182)\" style=\"stroke:#000000; stroke-linecap:round; stroke-linejoin:round; stroke-width:0; stroke-opacity:0.3; fill:none\" points=\"2130.24,2925.65 2130.24,-1391.96 2137.46,-1391.96 2137.46,2925.65 2130.24,2925.65 \"/>\n",
       "<path clip-path=\"url(#clip182)\" d=\"M2144.93 2925.65 L2144.93 -1391.96 L2152.4 -1391.96 L2152.4 2925.65 L2144.93 2925.65  Z\" fill=\"#e26f46\" fill-rule=\"evenodd\" fill-opacity=\"0.3\"/>\n",
       "<polyline clip-path=\"url(#clip182)\" style=\"stroke:#000000; stroke-linecap:round; stroke-linejoin:round; stroke-width:0; stroke-opacity:0.3; fill:none\" points=\"2144.93,2925.65 2144.93,-1391.96 2152.4,-1391.96 2152.4,2925.65 2144.93,2925.65 \"/>\n",
       "<path clip-path=\"url(#clip182)\" d=\"M2159.62 2925.65 L2159.62 -1391.96 L2167.09 -1391.96 L2167.09 2925.65 L2159.62 2925.65  Z\" fill=\"#e26f46\" fill-rule=\"evenodd\" fill-opacity=\"0.3\"/>\n",
       "<polyline clip-path=\"url(#clip182)\" style=\"stroke:#000000; stroke-linecap:round; stroke-linejoin:round; stroke-width:0; stroke-opacity:0.3; fill:none\" points=\"2159.62,2925.65 2159.62,-1391.96 2167.09,-1391.96 2167.09,2925.65 2159.62,2925.65 \"/>\n",
       "<path clip-path=\"url(#clip182)\" d=\"M2174.32 2925.65 L2174.32 -1391.96 L2181.78 -1391.96 L2181.78 2925.65 L2174.32 2925.65  Z\" fill=\"#e26f46\" fill-rule=\"evenodd\" fill-opacity=\"0.3\"/>\n",
       "<polyline clip-path=\"url(#clip182)\" style=\"stroke:#000000; stroke-linecap:round; stroke-linejoin:round; stroke-width:0; stroke-opacity:0.3; fill:none\" points=\"2174.32,2925.65 2174.32,-1391.96 2181.78,-1391.96 2181.78,2925.65 2174.32,2925.65 \"/>\n",
       "<path clip-path=\"url(#clip182)\" d=\"M2189.25 2925.65 L2189.25 -1391.96 L2196 -1391.96 L2196 2925.65 L2189.25 2925.65  Z\" fill=\"#e26f46\" fill-rule=\"evenodd\" fill-opacity=\"0.3\"/>\n",
       "<polyline clip-path=\"url(#clip182)\" style=\"stroke:#000000; stroke-linecap:round; stroke-linejoin:round; stroke-width:0; stroke-opacity:0.3; fill:none\" points=\"2189.25,2925.65 2189.25,-1391.96 2196,-1391.96 2196,2925.65 2189.25,2925.65 \"/>\n",
       "<path clip-path=\"url(#clip182)\" d=\"M2203.46 2925.65 L2203.46 -1391.96 L2210.69 -1391.96 L2210.69 2925.65 L2203.46 2925.65  Z\" fill=\"#e26f46\" fill-rule=\"evenodd\" fill-opacity=\"0.3\"/>\n",
       "<polyline clip-path=\"url(#clip182)\" style=\"stroke:#000000; stroke-linecap:round; stroke-linejoin:round; stroke-width:0; stroke-opacity:0.3; fill:none\" points=\"2203.46,2925.65 2203.46,-1391.96 2210.69,-1391.96 2210.69,2925.65 2203.46,2925.65 \"/>\n",
       "<path clip-path=\"url(#clip182)\" d=\"M2218.16 2925.65 L2218.16 -1391.96 L2225.38 -1391.96 L2225.38 2925.65 L2218.16 2925.65  Z\" fill=\"#e26f46\" fill-rule=\"evenodd\" fill-opacity=\"0.3\"/>\n",
       "<polyline clip-path=\"url(#clip182)\" style=\"stroke:#000000; stroke-linecap:round; stroke-linejoin:round; stroke-width:0; stroke-opacity:0.3; fill:none\" points=\"2218.16,2925.65 2218.16,-1391.96 2225.38,-1391.96 2225.38,2925.65 2218.16,2925.65 \"/>\n",
       "<path clip-path=\"url(#clip182)\" d=\"M2232.85 2925.65 L2232.85 -1391.96 L2240.32 -1391.96 L2240.32 2925.65 L2232.85 2925.65  Z\" fill=\"#e26f46\" fill-rule=\"evenodd\" fill-opacity=\"0.3\"/>\n",
       "<polyline clip-path=\"url(#clip182)\" style=\"stroke:#000000; stroke-linecap:round; stroke-linejoin:round; stroke-width:0; stroke-opacity:0.3; fill:none\" points=\"2232.85,2925.65 2232.85,-1391.96 2240.32,-1391.96 2240.32,2925.65 2232.85,2925.65 \"/>\n",
       "<path clip-path=\"url(#clip182)\" d=\"M2247.54 2925.65 L2247.54 -1391.96 L2255.01 -1391.96 L2255.01 2925.65 L2247.54 2925.65  Z\" fill=\"#e26f46\" fill-rule=\"evenodd\" fill-opacity=\"0.3\"/>\n",
       "<polyline clip-path=\"url(#clip182)\" style=\"stroke:#000000; stroke-linecap:round; stroke-linejoin:round; stroke-width:0; stroke-opacity:0.3; fill:none\" points=\"2247.54,2925.65 2247.54,-1391.96 2255.01,-1391.96 2255.01,2925.65 2247.54,2925.65 \"/>\n",
       "<path clip-path=\"url(#clip182)\" d=\"M2262.24 2925.65 L2262.24 -1391.96 L2269.7 -1391.96 L2269.7 2925.65 L2262.24 2925.65  Z\" fill=\"#e26f46\" fill-rule=\"evenodd\" fill-opacity=\"0.3\"/>\n",
       "<polyline clip-path=\"url(#clip182)\" style=\"stroke:#000000; stroke-linecap:round; stroke-linejoin:round; stroke-width:0; stroke-opacity:0.3; fill:none\" points=\"2262.24,2925.65 2262.24,-1391.96 2269.7,-1391.96 2269.7,2925.65 2262.24,2925.65 \"/>\n",
       "<path clip-path=\"url(#clip182)\" d=\"M2277.17 2925.65 L2277.17 -1391.96 L2284.16 -1391.96 L2284.16 2925.65 L2277.17 2925.65  Z\" fill=\"#e26f46\" fill-rule=\"evenodd\" fill-opacity=\"0.3\"/>\n",
       "<polyline clip-path=\"url(#clip182)\" style=\"stroke:#000000; stroke-linecap:round; stroke-linejoin:round; stroke-width:0; stroke-opacity:0.3; fill:none\" points=\"2277.17,2925.65 2277.17,-1391.96 2284.16,-1391.96 2284.16,2925.65 2277.17,2925.65 \"/>\n",
       "<path clip-path=\"url(#clip180)\" d=\"M264.711 1438.47 L711.686 1438.47 L711.686 1282.95 L264.711 1282.95  Z\" fill=\"#ffffff\" fill-rule=\"evenodd\" fill-opacity=\"1\"/>\n",
       "<polyline clip-path=\"url(#clip180)\" style=\"stroke:#000000; stroke-linecap:round; stroke-linejoin:round; stroke-width:4; stroke-opacity:1; fill:none\" points=\"264.711,1438.47 711.686,1438.47 711.686,1282.95 264.711,1282.95 264.711,1438.47 \"/>\n",
       "<polyline clip-path=\"url(#clip180)\" style=\"stroke:#009af9; stroke-linecap:round; stroke-linejoin:round; stroke-width:4; stroke-opacity:1; fill:none\" points=\"288.711,1334.79 432.714,1334.79 \"/>\n",
       "<path clip-path=\"url(#clip180)\" d=\"M472.548 1322.12 L466.206 1339.32 L478.914 1339.32 L472.548 1322.12 M469.909 1317.51 L475.21 1317.51 L488.381 1352.07 L483.52 1352.07 L480.372 1343.21 L464.794 1343.21 L461.645 1352.07 L456.715 1352.07 L469.909 1317.51 Z\" fill=\"#000000\" fill-rule=\"nonzero\" fill-opacity=\"1\" /><path clip-path=\"url(#clip180)\" d=\"M518.474 1320.18 L518.474 1325.11 Q516.113 1322.91 513.428 1321.82 Q510.766 1320.73 507.756 1320.73 Q501.83 1320.73 498.682 1324.37 Q495.534 1327.98 495.534 1334.83 Q495.534 1341.66 498.682 1345.29 Q501.83 1348.9 507.756 1348.9 Q510.766 1348.9 513.428 1347.82 Q516.113 1346.73 518.474 1344.53 L518.474 1349.41 Q516.02 1351.08 513.265 1351.91 Q510.534 1352.75 507.478 1352.75 Q499.631 1352.75 495.117 1347.95 Q490.604 1343.14 490.604 1334.83 Q490.604 1326.5 495.117 1321.7 Q499.631 1316.89 507.478 1316.89 Q510.58 1316.89 513.312 1317.72 Q516.066 1318.53 518.474 1320.18 Z\" fill=\"#000000\" fill-rule=\"nonzero\" fill-opacity=\"1\" /><path clip-path=\"url(#clip180)\" d=\"M522.617 1317.51 L527.339 1317.51 L534.608 1346.73 L541.853 1317.51 L547.108 1317.51 L554.376 1346.73 L561.622 1317.51 L566.367 1317.51 L557.687 1352.07 L551.807 1352.07 L544.515 1322.07 L537.154 1352.07 L531.275 1352.07 L522.617 1317.51 Z\" fill=\"#000000\" fill-rule=\"nonzero\" fill-opacity=\"1\" /><path clip-path=\"url(#clip180)\" d=\"M572.571 1317.51 L577.247 1317.51 L577.247 1352.07 L572.571 1352.07 L572.571 1317.51 Z\" fill=\"#000000\" fill-rule=\"nonzero\" fill-opacity=\"1\" /><path clip-path=\"url(#clip180)\" d=\"M606.066 1359.94 L606.066 1363.25 L581.436 1363.25 L581.436 1359.94 L606.066 1359.94 Z\" fill=\"#000000\" fill-rule=\"nonzero\" fill-opacity=\"1\" /><path clip-path=\"url(#clip180)\" d=\"M610.256 1317.51 L616.552 1317.51 L631.876 1346.43 L631.876 1317.51 L636.413 1317.51 L636.413 1352.07 L630.117 1352.07 L614.793 1323.16 L614.793 1352.07 L610.256 1352.07 L610.256 1317.51 Z\" fill=\"#000000\" fill-rule=\"nonzero\" fill-opacity=\"1\" /><path clip-path=\"url(#clip180)\" d=\"M667.709 1338.05 L667.709 1340.13 L648.126 1340.13 Q648.404 1344.53 650.765 1346.84 Q653.149 1349.13 657.385 1349.13 Q659.839 1349.13 662.13 1348.53 Q664.445 1347.93 666.714 1346.73 L666.714 1350.75 Q664.422 1351.73 662.015 1352.24 Q659.607 1352.75 657.13 1352.75 Q650.927 1352.75 647.293 1349.13 Q643.681 1345.52 643.681 1339.37 Q643.681 1333 647.107 1329.27 Q650.556 1325.52 656.39 1325.52 Q661.621 1325.52 664.654 1328.9 Q667.709 1332.26 667.709 1338.05 M663.45 1336.8 Q663.404 1333.3 661.482 1331.22 Q659.584 1329.13 656.436 1329.13 Q652.871 1329.13 650.718 1331.15 Q648.589 1333.16 648.265 1336.82 L663.45 1336.8 Z\" fill=\"#000000\" fill-rule=\"nonzero\" fill-opacity=\"1\" /><path clip-path=\"url(#clip180)\" d=\"M678.913 1318.79 L678.913 1326.15 L687.686 1326.15 L687.686 1329.46 L678.913 1329.46 L678.913 1343.53 Q678.913 1346.7 679.769 1347.61 Q680.649 1348.51 683.311 1348.51 L687.686 1348.51 L687.686 1352.07 L683.311 1352.07 Q678.38 1352.07 676.505 1350.25 Q674.63 1348.39 674.63 1343.53 L674.63 1329.46 L671.505 1329.46 L671.505 1326.15 L674.63 1326.15 L674.63 1318.79 L678.913 1318.79 Z\" fill=\"#000000\" fill-rule=\"nonzero\" fill-opacity=\"1\" /><path clip-path=\"url(#clip180)\" d=\"M288.711 1407.37 L432.714 1407.37 L432.714 1365.9 L288.711 1365.9 L288.711 1407.37  Z\" fill=\"#e26f46\" fill-rule=\"evenodd\" fill-opacity=\"0.3\"/>\n",
       "<polyline clip-path=\"url(#clip180)\" style=\"stroke:#000000; stroke-linecap:round; stroke-linejoin:round; stroke-width:0.8; stroke-opacity:1; fill:none\" points=\"288.711,1407.37 432.714,1407.37 432.714,1365.9 288.711,1365.9 288.711,1407.37 \"/>\n",
       "<path clip-path=\"url(#clip180)\" d=\"M470.557 1406.32 Q468.752 1410.95 467.039 1412.36 Q465.326 1413.78 462.456 1413.78 L459.053 1413.78 L459.053 1410.21 L461.553 1410.21 Q463.312 1410.21 464.284 1409.38 Q465.256 1408.54 466.437 1405.44 L467.201 1403.5 L456.715 1377.99 L461.229 1377.99 L469.331 1398.27 L477.432 1377.99 L481.946 1377.99 L470.557 1406.32 Z\" fill=\"#000000\" fill-rule=\"nonzero\" fill-opacity=\"1\" /><path clip-path=\"url(#clip180)\" d=\"M492.455 1399.98 L508.775 1399.98 L508.775 1403.91 L486.83 1403.91 L486.83 1399.98 Q489.492 1397.22 494.076 1392.6 Q498.682 1387.94 499.863 1386.6 Q502.108 1384.08 502.988 1382.34 Q503.891 1380.58 503.891 1378.89 Q503.891 1376.14 501.946 1374.4 Q500.025 1372.66 496.923 1372.66 Q494.724 1372.66 492.27 1373.43 Q489.84 1374.19 487.062 1375.74 L487.062 1371.02 Q489.886 1369.89 492.34 1369.31 Q494.793 1368.73 496.83 1368.73 Q502.201 1368.73 505.395 1371.41 Q508.59 1374.1 508.59 1378.59 Q508.59 1380.72 507.779 1382.64 Q506.992 1384.54 504.886 1387.13 Q504.307 1387.8 501.205 1391.02 Q498.104 1394.22 492.455 1399.98 Z\" fill=\"#000000\" fill-rule=\"nonzero\" fill-opacity=\"1\" /></svg>\n"
      ]
     },
     "metadata": {},
     "output_type": "display_data"
    }
   ],
   "source": [
    "plot(acwi_states[:ACWI_Net ])\n",
    "vspan!(findwhen(acwi_states[:A] .== 2.0),alpha = 0.3)"
   ]
  },
  {
   "cell_type": "code",
   "execution_count": 24,
   "metadata": {},
   "outputs": [
    {
     "data": {
      "text/plain": [
       "3×3 Matrix{Float64}:\n",
       "  0.19   0.07  0.1\n",
       " -0.08   0.19  0.25\n",
       "  0.25  -0.08  0.19"
      ]
     },
     "metadata": {},
     "output_type": "display_data"
    }
   ],
   "source": [
    "sims = [0.06 0.13 -0.23 0.3 -0.05 0.15; 0.15 -0.23 0.06 0.13 0.3 -0.05; -0.05 0.3 -0.23 0.15 0.06 0.13]\n",
    "\n",
    "function annualise(scenarios:: Matrix, shift=2)\n",
    "   \n",
    "    periods = floor.(Int, size(scenarios)[2]/shift)\n",
    "    result = zeros(size(scenarios)[1],periods)\n",
    "\n",
    "    for p in 1:periods\n",
    "        start = (p-1)*shift+1\n",
    "        en = p*shift\n",
    "        result[:,p] .= sum(scenarios[:,start:en],dims=2)\n",
    "    end \n",
    "    return result\n",
    "   \n",
    "end\n",
    "\n",
    "annualise(sims,2)\n"
   ]
  },
  {
   "cell_type": "code",
   "execution_count": 25,
   "metadata": {},
   "outputs": [
    {
     "data": {
      "text/plain": [
       "3-element Vector{Float64}:\n",
       " 0.19\n",
       " 0.06999999999999998\n",
       " 0.09999999999999999"
      ]
     },
     "metadata": {},
     "output_type": "display_data"
    }
   ],
   "source": [
    "function annualise(scenarios:: Vector, shift=2)\n",
    "   \n",
    "    periods = floor.(Int, size(scenarios)[1]/shift)\n",
    "    result = zeros(periods)\n",
    "\n",
    "    for p in 1:periods\n",
    "        start = (p-1)*shift+1\n",
    "        en = p*shift\n",
    "        result[p] = sum(scenarios[start:en])\n",
    "    end  \n",
    "    return result\n",
    "   \n",
    "end\n",
    "\n",
    "annualise(sims[1,:],2)"
   ]
  },
  {
   "cell_type": "code",
   "execution_count": 26,
   "metadata": {},
   "outputs": [
    {
     "data": {
      "text/plain": [
       "print_percentiles (generic function with 1 method)"
      ]
     },
     "metadata": {},
     "output_type": "display_data"
    }
   ],
   "source": [
    "function print_percentiles(X, perc)\n",
    "    years = size(X)[2]\n",
    "    simulation_perc = zeros(length(perc),years)\n",
    "\n",
    "    for t in 1:years\n",
    "        simulation_perc[:,t] = quantile(X[:,t],perc)\n",
    "    end\n",
    "    pretty_table(simulation_perc, backend = Val(:html),header=1:years, row_labels=perc)\n",
    "end"
   ]
  },
  {
   "cell_type": "code",
   "execution_count": 27,
   "metadata": {},
   "outputs": [],
   "source": [
    "using ScenTrees, SDDP"
   ]
  },
  {
   "cell_type": "code",
   "execution_count": 28,
   "metadata": {},
   "outputs": [
    {
     "name": "stdout",
     "output_type": "stream",
     "text": [
      "mean 0.06978414756872021\n",
      "std 0.13188218245803085\n"
     ]
    }
   ],
   "source": [
    "acwi_pln_98 = identity.(values(from(returns[:ACWI_Net_PLN ],Date(1998,01,01))))\n",
    "println(\"mean $(mean(acwi_pln_98)*12)\")\n",
    "println(\"std $(std(acwi_pln_98)*12^0.5)\")"
   ]
  },
  {
   "cell_type": "code",
   "execution_count": 29,
   "metadata": {},
   "outputs": [
    {
     "name": "stdout",
     "output_type": "stream",
     "text": [
      "mean: 0.07229370106669933\n",
      "std: 0.14099421414065977\n"
     ]
    }
   ],
   "source": [
    "println(\"mean: \",expm1(0.0698))\n",
    "println(\"std: \",expm1(0.1319))"
   ]
  },
  {
   "cell_type": "code",
   "execution_count": 30,
   "metadata": {},
   "outputs": [
    {
     "name": "stdout",
     "output_type": "stream",
     "text": [
      "mean 0.005815345630726685\n",
      "std 0.03807110677172973\n"
     ]
    }
   ],
   "source": [
    "println(\"mean $(mean(acwi_pln_98))\")\n",
    "println(\"std $(std(acwi_pln_98))\")"
   ]
  },
  {
   "cell_type": "code",
   "execution_count": 31,
   "metadata": {},
   "outputs": [
    {
     "name": "stdout",
     "output_type": "stream",
     "text": [
      "mean: 0.005816852565873483\n",
      "std: 0.03873123287849773\n"
     ]
    }
   ],
   "source": [
    "println(\"mean: \",expm1(0.0058))\n",
    "println(\"std: \",expm1(0.0380))"
   ]
  },
  {
   "cell_type": "code",
   "execution_count": 32,
   "metadata": {},
   "outputs": [
    {
     "data": {
      "text/html": [
       "<table>\n",
       "  <thead>\n",
       "    <tr class = \"header headerLastRow\">\n",
       "      <th class = \"rowLabel\" style = \"font-weight: bold; text-align: right;\"></th>\n",
       "      <th style = \"text-align: right;\">1</th>\n",
       "      <th style = \"text-align: right;\">2</th>\n",
       "      <th style = \"text-align: right;\">3</th>\n",
       "      <th style = \"text-align: right;\">4</th>\n",
       "      <th style = \"text-align: right;\">5</th>\n",
       "      <th style = \"text-align: right;\">6</th>\n",
       "      <th style = \"text-align: right;\">7</th>\n",
       "      <th style = \"text-align: right;\">8</th>\n",
       "      <th style = \"text-align: right;\">9</th>\n",
       "      <th style = \"text-align: right;\">10</th>\n",
       "      <th style = \"text-align: right;\">11</th>\n",
       "      <th style = \"text-align: right;\">12</th>\n",
       "      <th style = \"text-align: right;\">13</th>\n",
       "      <th style = \"text-align: right;\">14</th>\n",
       "      <th style = \"text-align: right;\">15</th>\n",
       "    </tr>\n",
       "  </thead>\n",
       "  <tbody>\n",
       "    <tr>\n",
       "      <td class = \"rowLabel\" style = \"font-weight: bold; text-align: right;\">0.01</td>\n",
       "      <td style = \"text-align: right;\">-0.243122</td>\n",
       "      <td style = \"text-align: right;\">-0.242788</td>\n",
       "      <td style = \"text-align: right;\">-0.243419</td>\n",
       "      <td style = \"text-align: right;\">-0.244043</td>\n",
       "      <td style = \"text-align: right;\">-0.243831</td>\n",
       "      <td style = \"text-align: right;\">-0.243127</td>\n",
       "      <td style = \"text-align: right;\">-0.241295</td>\n",
       "      <td style = \"text-align: right;\">-0.242908</td>\n",
       "      <td style = \"text-align: right;\">-0.245036</td>\n",
       "      <td style = \"text-align: right;\">-0.243068</td>\n",
       "      <td style = \"text-align: right;\">-0.239986</td>\n",
       "      <td style = \"text-align: right;\">-0.242552</td>\n",
       "      <td style = \"text-align: right;\">-0.242983</td>\n",
       "      <td style = \"text-align: right;\">-0.242359</td>\n",
       "      <td style = \"text-align: right;\">-0.242316</td>\n",
       "    </tr>\n",
       "    <tr>\n",
       "      <td class = \"rowLabel\" style = \"font-weight: bold; text-align: right;\">0.025</td>\n",
       "      <td style = \"text-align: right;\">-0.193366</td>\n",
       "      <td style = \"text-align: right;\">-0.193527</td>\n",
       "      <td style = \"text-align: right;\">-0.193467</td>\n",
       "      <td style = \"text-align: right;\">-0.193976</td>\n",
       "      <td style = \"text-align: right;\">-0.193019</td>\n",
       "      <td style = \"text-align: right;\">-0.193144</td>\n",
       "      <td style = \"text-align: right;\">-0.192311</td>\n",
       "      <td style = \"text-align: right;\">-0.194087</td>\n",
       "      <td style = \"text-align: right;\">-0.192934</td>\n",
       "      <td style = \"text-align: right;\">-0.192881</td>\n",
       "      <td style = \"text-align: right;\">-0.192717</td>\n",
       "      <td style = \"text-align: right;\">-0.193433</td>\n",
       "      <td style = \"text-align: right;\">-0.19399</td>\n",
       "      <td style = \"text-align: right;\">-0.193057</td>\n",
       "      <td style = \"text-align: right;\">-0.193893</td>\n",
       "    </tr>\n",
       "    <tr>\n",
       "      <td class = \"rowLabel\" style = \"font-weight: bold; text-align: right;\">0.16</td>\n",
       "      <td style = \"text-align: right;\">-0.0634643</td>\n",
       "      <td style = \"text-align: right;\">-0.0634574</td>\n",
       "      <td style = \"text-align: right;\">-0.0641911</td>\n",
       "      <td style = \"text-align: right;\">-0.0638307</td>\n",
       "      <td style = \"text-align: right;\">-0.0634762</td>\n",
       "      <td style = \"text-align: right;\">-0.0635377</td>\n",
       "      <td style = \"text-align: right;\">-0.0639907</td>\n",
       "      <td style = \"text-align: right;\">-0.0635329</td>\n",
       "      <td style = \"text-align: right;\">-0.0627527</td>\n",
       "      <td style = \"text-align: right;\">-0.0627231</td>\n",
       "      <td style = \"text-align: right;\">-0.0628373</td>\n",
       "      <td style = \"text-align: right;\">-0.0637152</td>\n",
       "      <td style = \"text-align: right;\">-0.0641547</td>\n",
       "      <td style = \"text-align: right;\">-0.0638134</td>\n",
       "      <td style = \"text-align: right;\">-0.0644609</td>\n",
       "    </tr>\n",
       "    <tr>\n",
       "      <td class = \"rowLabel\" style = \"font-weight: bold; text-align: right;\">0.5</td>\n",
       "      <td style = \"text-align: right;\">0.0696974</td>\n",
       "      <td style = \"text-align: right;\">0.0700402</td>\n",
       "      <td style = \"text-align: right;\">0.069982</td>\n",
       "      <td style = \"text-align: right;\">0.0693588</td>\n",
       "      <td style = \"text-align: right;\">0.0689667</td>\n",
       "      <td style = \"text-align: right;\">0.0705812</td>\n",
       "      <td style = \"text-align: right;\">0.0696134</td>\n",
       "      <td style = \"text-align: right;\">0.070107</td>\n",
       "      <td style = \"text-align: right;\">0.0692569</td>\n",
       "      <td style = \"text-align: right;\">0.0698791</td>\n",
       "      <td style = \"text-align: right;\">0.0694711</td>\n",
       "      <td style = \"text-align: right;\">0.0695652</td>\n",
       "      <td style = \"text-align: right;\">0.0694554</td>\n",
       "      <td style = \"text-align: right;\">0.0694265</td>\n",
       "      <td style = \"text-align: right;\">0.0700292</td>\n",
       "    </tr>\n",
       "    <tr>\n",
       "      <td class = \"rowLabel\" style = \"font-weight: bold; text-align: right;\">0.84</td>\n",
       "      <td style = \"text-align: right;\">0.203736</td>\n",
       "      <td style = \"text-align: right;\">0.202735</td>\n",
       "      <td style = \"text-align: right;\">0.203195</td>\n",
       "      <td style = \"text-align: right;\">0.202238</td>\n",
       "      <td style = \"text-align: right;\">0.201973</td>\n",
       "      <td style = \"text-align: right;\">0.203342</td>\n",
       "      <td style = \"text-align: right;\">0.202691</td>\n",
       "      <td style = \"text-align: right;\">0.202557</td>\n",
       "      <td style = \"text-align: right;\">0.203228</td>\n",
       "      <td style = \"text-align: right;\">0.203637</td>\n",
       "      <td style = \"text-align: right;\">0.20348</td>\n",
       "      <td style = \"text-align: right;\">0.203167</td>\n",
       "      <td style = \"text-align: right;\">0.203194</td>\n",
       "      <td style = \"text-align: right;\">0.20258</td>\n",
       "      <td style = \"text-align: right;\">0.202942</td>\n",
       "    </tr>\n",
       "    <tr>\n",
       "      <td class = \"rowLabel\" style = \"font-weight: bold; text-align: right;\">0.975</td>\n",
       "      <td style = \"text-align: right;\">0.33254</td>\n",
       "      <td style = \"text-align: right;\">0.331436</td>\n",
       "      <td style = \"text-align: right;\">0.332496</td>\n",
       "      <td style = \"text-align: right;\">0.332803</td>\n",
       "      <td style = \"text-align: right;\">0.331007</td>\n",
       "      <td style = \"text-align: right;\">0.333357</td>\n",
       "      <td style = \"text-align: right;\">0.332178</td>\n",
       "      <td style = \"text-align: right;\">0.332259</td>\n",
       "      <td style = \"text-align: right;\">0.333051</td>\n",
       "      <td style = \"text-align: right;\">0.331487</td>\n",
       "      <td style = \"text-align: right;\">0.33488</td>\n",
       "      <td style = \"text-align: right;\">0.331602</td>\n",
       "      <td style = \"text-align: right;\">0.331575</td>\n",
       "      <td style = \"text-align: right;\">0.330369</td>\n",
       "      <td style = \"text-align: right;\">0.331789</td>\n",
       "    </tr>\n",
       "    <tr>\n",
       "      <td class = \"rowLabel\" style = \"font-weight: bold; text-align: right;\">0.99</td>\n",
       "      <td style = \"text-align: right;\">0.381264</td>\n",
       "      <td style = \"text-align: right;\">0.380961</td>\n",
       "      <td style = \"text-align: right;\">0.38111</td>\n",
       "      <td style = \"text-align: right;\">0.381162</td>\n",
       "      <td style = \"text-align: right;\">0.382686</td>\n",
       "      <td style = \"text-align: right;\">0.382946</td>\n",
       "      <td style = \"text-align: right;\">0.380992</td>\n",
       "      <td style = \"text-align: right;\">0.38059</td>\n",
       "      <td style = \"text-align: right;\">0.38063</td>\n",
       "      <td style = \"text-align: right;\">0.381642</td>\n",
       "      <td style = \"text-align: right;\">0.382041</td>\n",
       "      <td style = \"text-align: right;\">0.378449</td>\n",
       "      <td style = \"text-align: right;\">0.381397</td>\n",
       "      <td style = \"text-align: right;\">0.380913</td>\n",
       "      <td style = \"text-align: right;\">0.381573</td>\n",
       "    </tr>\n",
       "  </tbody>\n",
       "</table>\n"
      ]
     },
     "metadata": {},
     "output_type": "display_data"
    }
   ],
   "source": [
    "years = 15\n",
    "n_steps = years * 12\n",
    "n_scenarios = 100000\n",
    "simulations = rand(Normal(0.0058,0.0387),(n_scenarios,n_steps))\n",
    "simulations_ann = annualise(simulations,12)\n",
    "\n",
    "print_percentiles(simulations_ann,[0.01, 0.025,0.16,0.5,0.84,0.975, 0.99])"
   ]
  },
  {
   "cell_type": "code",
   "execution_count": 33,
   "metadata": {},
   "outputs": [
    {
     "data": {
      "text/plain": [
       "Dict{Symbol, Float64} with 8 entries:\n",
       "  :max      => 0.186495\n",
       "  :median   => 0.00561115\n",
       "  :std      => 0.0388714\n",
       "  :mean     => 0.00577633\n",
       "  :var      => 0.00151099\n",
       "  :kurtosis => -0.00877321\n",
       "  :skew     => -0.00272181\n",
       "  :min      => -0.159944"
      ]
     },
     "metadata": {},
     "output_type": "display_data"
    }
   ],
   "source": [
    "norm_moments = Dict(\n",
    "    :mean => mean(simulations[:,1]),\n",
    "    :min => minimum(simulations[:,1]),\n",
    "    :max => maximum(simulations[:,1]),\n",
    "    :median => median(simulations[:,1]),\n",
    "    :std => std(simulations[:,1]),\n",
    "    :var => var(simulations[:,1]),\n",
    "    :skew => skewness(simulations[:,1]),\n",
    "    :kurtosis => kurtosis(simulations[:,1])  \n",
    ")"
   ]
  },
  {
   "cell_type": "code",
   "execution_count": 34,
   "metadata": {},
   "outputs": [
    {
     "data": {
      "text/html": [
       "<table>\n",
       "  <thead>\n",
       "    <tr class = \"header headerLastRow\">\n",
       "      <th class = \"rowLabel\" style = \"font-weight: bold; text-align: right;\"></th>\n",
       "      <th style = \"text-align: right;\">1</th>\n",
       "      <th style = \"text-align: right;\">2</th>\n",
       "      <th style = \"text-align: right;\">3</th>\n",
       "    </tr>\n",
       "  </thead>\n",
       "  <tbody>\n",
       "    <tr>\n",
       "      <td class = \"rowLabel\" style = \"font-weight: bold; text-align: right;\">0.1</td>\n",
       "      <td style = \"text-align: right;\">-0.0362997</td>\n",
       "      <td style = \"text-align: right;\">-0.037311</td>\n",
       "      <td style = \"text-align: right;\">-0.0362426</td>\n",
       "    </tr>\n",
       "    <tr>\n",
       "      <td class = \"rowLabel\" style = \"font-weight: bold; text-align: right;\">0.3</td>\n",
       "      <td style = \"text-align: right;\">0.189874</td>\n",
       "      <td style = \"text-align: right;\">0.193175</td>\n",
       "      <td style = \"text-align: right;\">0.190833</td>\n",
       "    </tr>\n",
       "    <tr>\n",
       "      <td class = \"rowLabel\" style = \"font-weight: bold; text-align: right;\">0.5</td>\n",
       "      <td style = \"text-align: right;\">0.347592</td>\n",
       "      <td style = \"text-align: right;\">0.351388</td>\n",
       "      <td style = \"text-align: right;\">0.348761</td>\n",
       "    </tr>\n",
       "    <tr>\n",
       "      <td class = \"rowLabel\" style = \"font-weight: bold; text-align: right;\">0.7</td>\n",
       "      <td style = \"text-align: right;\">0.504209</td>\n",
       "      <td style = \"text-align: right;\">0.506393</td>\n",
       "      <td style = \"text-align: right;\">0.505524</td>\n",
       "    </tr>\n",
       "    <tr>\n",
       "      <td class = \"rowLabel\" style = \"font-weight: bold; text-align: right;\">0.9</td>\n",
       "      <td style = \"text-align: right;\">0.733245</td>\n",
       "      <td style = \"text-align: right;\">0.733267</td>\n",
       "      <td style = \"text-align: right;\">0.73428</td>\n",
       "    </tr>\n",
       "  </tbody>\n",
       "</table>\n"
      ]
     },
     "metadata": {},
     "output_type": "display_data"
    }
   ],
   "source": [
    "print_percentiles(annualise(simulations,60),[.1, .3, .5, .7, .9]) "
   ]
  },
  {
   "cell_type": "code",
   "execution_count": 35,
   "metadata": {},
   "outputs": [
    {
     "data": {
      "text/plain": [
       "Root\n",
       " (0, 0.0)\n",
       "Nodes\n",
       " (1, -0.08639270389116814)\n",
       " (1, 0.06477206687659369)\n",
       " (1, 0.1402571299762901)\n",
       " (1, 0.18682848475300634)\n",
       " (1, 0.3889467062402691)\n",
       " (2, -0.09054473765743959)\n",
       " (2, 0.02932737932313293)\n",
       " (2, 0.07677807650076973)\n",
       " (2, 0.18331947225310022)\n",
       " (2, 0.39193305266890577)\n",
       " (3, -0.11408662646420387)\n",
       " (3, -0.019685154812539244)\n",
       " (3, 0.07309154498110948)\n",
       " (3, 0.1831228109859842)\n",
       " (3, 0.3906357752132761)\n",
       " (4, -0.14089906934938382)\n",
       " (4, -0.021426323737175082)\n",
       " (4, 0.07359887560350048)\n",
       " (4, 0.1830803460120987)\n",
       " (4, 0.3881620538927593)\n",
       " (5, -0.08489823135323867)\n",
       " (5, 0.06670406558729478)\n",
       " (5, 0.16567859179321473)\n",
       " (5, 0.26604373842027074)\n",
       " (5, 0.40019413742972976)\n",
       " (6, -0.0882497129738734)\n",
       " (6, 0.038304150903197526)\n",
       " (6, 0.07704913741399157)\n",
       " (6, 0.183184343963474)\n",
       " (6, 0.38826342709109524)\n",
       " (7, -0.09163488837790065)\n",
       " (7, 0.017102399061261372)\n",
       " (7, 0.07669459316300409)\n",
       " (7, 0.18290522003474438)\n",
       " (7, 0.38938131420249056)\n",
       " (8, -0.0856620147768464)\n",
       " (8, 0.06278343840083693)\n",
       " (8, 0.08308238951512589)\n",
       " (8, 0.18381950526263147)\n",
       " (8, 0.3893304760588086)\n",
       " (9, -0.09339422517966862)\n",
       " (9, -0.006522980886305641)\n",
       " (9, 0.07442049771388326)\n",
       " (9, 0.1826755269391423)\n",
       " (9, 0.39044807699128903)\n",
       " (10, -0.14445745193525172)\n",
       " (10, -0.02166855490784892)\n",
       " (10, 0.07351969015737692)\n",
       " (10, 0.1833748450347736)\n",
       " (10, 0.3907447072909698)\n",
       " (11, -0.14231363566833116)\n",
       " (11, -0.021534386890660676)\n",
       " (11, 0.07286665671100102)\n",
       " (11, 0.18154215607125226)\n",
       " (11, 0.3875737035010168)\n",
       " (12, -0.09112431130530572)\n",
       " (12, 0.01727003315606753)\n",
       " (12, 0.07660247158201777)\n",
       " (12, 0.1830240450476059)\n",
       " (12, 0.3903111382066712)\n",
       " (13, -0.1446375702375692)\n",
       " (13, -0.021703156564768785)\n",
       " (13, 0.07393428088887528)\n",
       " (13, 0.1832042719851941)\n",
       " (13, 0.39055017216006893)\n",
       " (14, -0.20561799651658316)\n",
       " (14, -0.03104683560438844)\n",
       " (14, 0.0725053044755288)\n",
       " (14, 0.18230972471818999)\n",
       " (14, 0.3874989385203174)\n",
       " (15, -0.08599779286801822)\n",
       " (15, 0.0653837689382918)\n",
       " (15, 0.16341011308285194)\n",
       " (15, 0.2483812636174608)\n",
       " (15, 0.4000313301800583)\n",
       "Arcs\n",
       " (0, 0.0) => (1, 0.1402571299762901) w.p. 0.14678\n",
       " (0, 0.0) => (1, -0.08639270389116814) w.p. 0.29934\n",
       " (0, 0.0) => (1, 0.06477206687659369) w.p. 0.28775\n",
       " (0, 0.0) => (1, 0.18682848475300634) w.p. 0.20158\n",
       " (0, 0.0) => (1, 0.3889467062402691) w.p. 0.06455\n",
       " (1, -0.08639270389116814) => (2, 0.02932737932313293) w.p. 0.188614952896372\n",
       " (1, -0.08639270389116814) => (2, -0.09054473765743959) w.p. 0.25165363800360796\n",
       " (1, -0.08639270389116814) => (2, 0.07677807650076973) w.p. 0.20795750651433154\n",
       " (1, -0.08639270389116814) => (2, 0.18331947225310022) w.p. 0.28716509654573397\n",
       " (1, -0.08639270389116814) => (2, 0.39193305266890577) w.p. 0.06460880603995457\n",
       " (1, 0.06477206687659369) => (2, 0.02932737932313293) w.p. 0.19461337966985232\n",
       " (1, 0.06477206687659369) => (2, -0.09054473765743959) w.p. 0.2531711555169418\n",
       " (1, 0.06477206687659369) => (2, 0.07677807650076973) w.p. 0.20642919200695048\n",
       " (1, 0.06477206687659369) => (2, 0.18331947225310022) w.p. 0.28149435273675066\n",
       " (1, 0.06477206687659369) => (2, 0.39193305266890577) w.p. 0.06429192006950478\n",
       " (1, 0.1402571299762901) => (2, 0.02932737932313293) w.p. 0.193486851069628\n",
       " (1, 0.1402571299762901) => (2, -0.09054473765743959) w.p. 0.24921651451151383\n",
       " (1, 0.1402571299762901) => (2, 0.07677807650076973) w.p. 0.2103147567788527\n",
       " (1, 0.1402571299762901) => (2, 0.18331947225310022) w.p. 0.2804878048780488\n",
       " (1, 0.1402571299762901) => (2, 0.39193305266890577) w.p. 0.06649407276195667\n",
       " (1, 0.18682848475300634) => (2, 0.02932737932313293) w.p. 0.19570393888282567\n",
       " (1, 0.18682848475300634) => (2, -0.09054473765743959) w.p. 0.2534477626748685\n",
       " (1, 0.18682848475300634) => (2, 0.07677807650076973) w.p. 0.2021529913681913\n",
       " (1, 0.18682848475300634) => (2, 0.18331947225310022) w.p. 0.28351026887588054\n",
       " (1, 0.18682848475300634) => (2, 0.39193305266890577) w.p. 0.06518503819823396\n",
       " (1, 0.3889467062402691) => (2, 0.02932737932313293) w.p. 0.18962044926413632\n",
       " (1, 0.3889467062402691) => (2, -0.09054473765743959) w.p. 0.2491092176607281\n",
       " (1, 0.3889467062402691) => (2, 0.07677807650076973) w.p. 0.20030983733539892\n",
       " (1, 0.3889467062402691) => (2, 0.18331947225310022) w.p. 0.28938807126258714\n",
       " (1, 0.3889467062402691) => (2, 0.39193305266890577) w.p. 0.0715724244771495\n",
       " (2, -0.09054473765743959) => (3, -0.11408662646420387) w.p. 0.1738181240820863\n",
       " (2, -0.09054473765743959) => (3, -0.019685154812539244) w.p. 0.20410431469058865\n",
       " (2, -0.09054473765743959) => (3, 0.07309154498110948) w.p. 0.27174215059738815\n",
       " (2, -0.09054473765743959) => (3, 0.1831228109859842) w.p. 0.2890485452308181\n",
       " (2, -0.09054473765743959) => (3, 0.3906357752132761) w.p. 0.0612868653991188\n",
       " (2, 0.02932737932313293) => (3, -0.11408662646420387) w.p. 0.17086471046481433\n",
       " (2, 0.02932737932313293) => (3, -0.019685154812539244) w.p. 0.20238898987276033\n",
       " (2, 0.02932737932313293) => (3, 0.07309154498110948) w.p. 0.2764476759283303\n",
       " (2, 0.02932737932313293) => (3, 0.1831228109859842) w.p. 0.2857958971695663\n",
       " (2, 0.02932737932313293) => (3, 0.3906357752132761) w.p. 0.0645027265645287\n",
       " (2, 0.07677807650076973) => (3, -0.11408662646420387) w.p. 0.17153249272550922\n",
       " (2, 0.07677807650076973) => (3, -0.019685154812539244) w.p. 0.2007274490785645\n",
       " (2, 0.07677807650076973) => (3, 0.07309154498110948) w.p. 0.2727934044616877\n",
       " (2, 0.07677807650076973) => (3, 0.1831228109859842) w.p. 0.29044616876818624\n",
       " (2, 0.07677807650076973) => (3, 0.3906357752132761) w.p. 0.06450048496605237\n",
       " (2, 0.18331947225310022) => (3, -0.11408662646420387) w.p. 0.16928440625440203\n",
       " (2, 0.18331947225310022) => (3, -0.019685154812539244) w.p. 0.20168333568108185\n",
       " (2, 0.18331947225310022) => (3, 0.07309154498110948) w.p. 0.27500352162276376\n",
       " (2, 0.18331947225310022) => (3, 0.1831228109859842) w.p. 0.2887026341738273\n",
       " (2, 0.18331947225310022) => (3, 0.3906357752132761) w.p. 0.06532610226792505\n",
       " (2, 0.39193305266890577) => (3, -0.11408662646420387) w.p. 0.1800795593635251\n",
       " (2, 0.39193305266890577) => (3, -0.019685154812539244) w.p. 0.1950734394124847\n",
       " (2, 0.39193305266890577) => (3, 0.07309154498110948) w.p. 0.27524479804161567\n",
       " (2, 0.39193305266890577) => (3, 0.1831228109859842) w.p. 0.2885556915544676\n",
       " (2, 0.39193305266890577) => (3, 0.3906357752132761) w.p. 0.061046511627906974\n",
       " (3, -0.11408662646420387) => (4, -0.14089906934938382) w.p. 0.14246655031995345\n",
       " (3, -0.11408662646420387) => (4, -0.021426323737175082) w.p. 0.22356020942408378\n",
       " (3, -0.11408662646420387) => (4, 0.07359887560350048) w.p. 0.2840023269342641\n",
       " (3, -0.11408662646420387) => (4, 0.1830803460120987) w.p. 0.28388598022105876\n",
       " (3, -0.11408662646420387) => (4, 0.3881620538927593) w.p. 0.06608493310063991\n",
       " (3, -0.019685154812539244) => (4, -0.14089906934938382) w.p. 0.14236868186323093\n",
       " (3, -0.019685154812539244) => (4, -0.021426323737175082) w.p. 0.22765113974231913\n",
       " (3, -0.019685154812539244) => (4, 0.07359887560350048) w.p. 0.27626362735381566\n",
       " (3, -0.019685154812539244) => (4, 0.1830803460120987) w.p. 0.2852824578790882\n",
       " (3, -0.019685154812539244) => (4, 0.3881620538927593) w.p. 0.06843409316154608\n",
       " (3, 0.07309154498110948) => (4, -0.14089906934938382) w.p. 0.1441500620392672\n",
       " (3, 0.07309154498110948) => (4, -0.021426323737175082) w.p. 0.23144296036785636\n",
       " (3, 0.07309154498110948) => (4, 0.07359887560350048) w.p. 0.2769505875483541\n",
       " (3, 0.07309154498110948) => (4, 0.1830803460120987) w.p. 0.284577768046128\n",
       " (3, 0.07309154498110948) => (4, 0.3881620538927593) w.p. 0.06287862199839428\n",
       " (3, 0.1831228109859842) => (4, -0.14089906934938382) w.p. 0.14512440224547785\n",
       " (3, 0.1831228109859842) => (4, -0.021426323737175082) w.p. 0.22531013930279298\n",
       " (3, 0.1831228109859842) => (4, 0.07359887560350048) w.p. 0.27257606209716545\n",
       " (3, 0.1831228109859842) => (4, 0.1830803460120987) w.p. 0.2902141520548895\n",
       " (3, 0.1831228109859842) => (4, 0.3881620538927593) w.p. 0.06677524429967427\n",
       " (3, 0.3906357752132761) => (4, -0.14089906934938382) w.p. 0.14411302982731555\n",
       " (3, 0.3906357752132761) => (4, -0.021426323737175082) w.p. 0.23547880690737832\n",
       " (3, 0.3906357752132761) => (4, 0.07359887560350048) w.p. 0.2693877551020408\n",
       " (3, 0.3906357752132761) => (4, 0.1830803460120987) w.p. 0.28320251177394035\n",
       " (3, 0.3906357752132761) => (4, 0.3881620538927593) w.p. 0.06781789638932496\n",
       " (4, -0.14089906934938382) => (5, 0.26604373842027074) w.p. 0.12004451244957574\n",
       " (4, -0.14089906934938382) => (5, -0.08489823135323867) w.p. 0.3017109472805675\n",
       " (4, -0.14089906934938382) => (5, 0.06670406558729478) w.p. 0.3238280706635137\n",
       " (4, -0.14089906934938382) => (5, 0.16567859179321473) w.p. 0.22179719015162053\n",
       " (4, -0.14089906934938382) => (5, 0.40019413742972976) w.p. 0.03261927945472249\n",
       " (4, -0.021426323737175082) => (5, 0.26604373842027074) w.p. 0.12207541372196129\n",
       " (4, -0.021426323737175082) => (5, -0.08489823135323867) w.p. 0.3033229445590624\n",
       " (4, -0.021426323737175082) => (5, 0.06670406558729478) w.p. 0.3239980685659102\n",
       " (4, -0.021426323737175082) => (5, 0.16567859179321473) w.p. 0.2182081559194065\n",
       " (4, -0.021426323737175082) => (5, 0.40019413742972976) w.p. 0.03239541723365963\n",
       " (4, 0.07359887560350048) => (5, 0.26604373842027074) w.p. 0.12299116837990444\n",
       " (4, 0.07359887560350048) => (5, -0.08489823135323867) w.p. 0.29365136817721155\n",
       " (4, 0.07359887560350048) => (5, 0.06670406558729478) w.p. 0.32991892283190966\n",
       " (4, 0.07359887560350048) => (5, 0.16567859179321473) w.p. 0.2224192847835529\n",
       " (4, 0.07359887560350048) => (5, 0.40019413742972976) w.p. 0.031019255827421457\n",
       " (4, 0.1830803460120987) => (5, 0.26604373842027074) w.p. 0.1236457678059691\n",
       " (4, 0.1830803460120987) => (5, -0.08489823135323867) w.p. 0.3060390018871881\n",
       " (4, 0.1830803460120987) => (5, 0.06670406558729478) w.p. 0.3197385895016426\n",
       " (4, 0.1830803460120987) => (5, 0.16567859179321473) w.p. 0.21915845390368352\n",
       " (4, 0.1830803460120987) => (5, 0.40019413742972976) w.p. 0.03141818690151674\n",
       " (4, 0.3881620538927593) => (5, 0.26604373842027074) w.p. 0.12820124261251706\n",
       " (4, 0.3881620538927593) => (5, -0.08489823135323867) w.p. 0.29489316563115625\n",
       " (4, 0.3881620538927593) => (5, 0.06670406558729478) w.p. 0.3283830883467192\n",
       " (4, 0.3881620538927593) => (5, 0.16567859179321473) w.p. 0.21503258069404454\n",
       " (4, 0.3881620538927593) => (5, 0.40019413742972976) w.p. 0.03348992271556296\n",
       " (5, -0.08489823135323867) => (6, 0.038304150903197526) w.p. 0.19415247472059607\n",
       " (5, -0.08489823135323867) => (6, -0.0882497129738734) w.p. 0.26327168706758913\n",
       " (5, -0.08489823135323867) => (6, 0.07704913741399157) w.p. 0.18989489089941458\n",
       " (5, -0.08489823135323867) => (6, 0.183184343963474) w.p. 0.28798563065460353\n",
       " (5, -0.08489823135323867) => (6, 0.38826342709109524) w.p. 0.0646953166577967\n",
       " (5, 0.06670406558729478) => (6, 0.038304150903197526) w.p. 0.19847234199827524\n",
       " (5, 0.06670406558729478) => (6, -0.0882497129738734) w.p. 0.26188862880374525\n",
       " (5, 0.06670406558729478) => (6, 0.07704913741399157) w.p. 0.19431440187261304\n",
       " (5, 0.06670406558729478) => (6, 0.183184343963474) w.p. 0.28206233830232846\n",
       " (5, 0.06670406558729478) => (6, 0.38826342709109524) w.p. 0.06326228902303807\n",
       " (5, 0.16567859179321473) => (6, 0.038304150903197526) w.p. 0.1919527165264833\n",
       " (5, 0.16567859179321473) => (6, -0.0882497129738734) w.p. 0.26642418731529893\n",
       " (5, 0.16567859179321473) => (6, 0.07704913741399157) w.p. 0.19640827460786542\n",
       " (5, 0.16567859179321473) => (6, 0.183184343963474) w.p. 0.2781995908160946\n",
       " (5, 0.16567859179321473) => (6, 0.38826342709109524) w.p. 0.06701523073425779\n",
       " (5, 0.26604373842027074) => (6, 0.038304150903197526) w.p. 0.1966799576857352\n",
       " (5, 0.26604373842027074) => (6, -0.0882497129738734) w.p. 0.25998860769794124\n",
       " (5, 0.26604373842027074) => (6, 0.07704913741399157) w.p. 0.1948897387907885\n",
       " (5, 0.26604373842027074) => (6, 0.183184343963474) w.p. 0.2808202457482301\n",
       " (5, 0.26604373842027074) => (6, 0.38826342709109524) w.p. 0.06762145007730491\n",
       " (5, 0.40019413742972976) => (6, 0.038304150903197526) w.p. 0.19032663316582915\n",
       " (5, 0.40019413742972976) => (6, -0.0882497129738734) w.p. 0.2521984924623116\n",
       " (5, 0.40019413742972976) => (6, 0.07704913741399157) w.p. 0.2028894472361809\n",
       " (5, 0.40019413742972976) => (6, 0.183184343963474) w.p. 0.28988693467336685\n",
       " (5, 0.40019413742972976) => (6, 0.38826342709109524) w.p. 0.06469849246231156\n",
       " (6, -0.0882497129738734) => (7, 0.017102399061261372) w.p. 0.18610138529456538\n",
       " (6, -0.0882497129738734) => (7, -0.09163488837790065) w.p. 0.23698432029228192\n",
       " (6, -0.0882497129738734) => (7, 0.07669459316300409) w.p. 0.22537676967574974\n",
       " (6, -0.0882497129738734) => (7, 0.18290522003474438) w.p. 0.28284365961333535\n",
       " (6, -0.0882497129738734) => (7, 0.38938131420249056) w.p. 0.0686938651240676\n",
       " (6, 0.038304150903197526) => (7, 0.017102399061261372) w.p. 0.19046399672231895\n",
       " (6, 0.038304150903197526) => (7, -0.09163488837790065) w.p. 0.23711973778551676\n",
       " (6, 0.038304150903197526) => (7, 0.07669459316300409) w.p. 0.21945098842568883\n",
       " (6, 0.038304150903197526) => (7, 0.18290522003474438) w.p. 0.2900235583324798\n",
       " (6, 0.038304150903197526) => (7, 0.38938131420249056) w.p. 0.06294171873399569\n",
       " (6, 0.07704913741399157) => (7, 0.017102399061261372) w.p. 0.19541772021260126\n",
       " (6, 0.07704913741399157) => (7, -0.09163488837790065) w.p. 0.23582228185148874\n",
       " (6, 0.07704913741399157) => (7, 0.07669459316300409) w.p. 0.21899994839775014\n",
       " (6, 0.07704913741399157) => (7, 0.18290522003474438) w.p. 0.2851540327158264\n",
       " (6, 0.07704913741399157) => (7, 0.38938131420249056) w.p. 0.06460601682233345\n",
       " (6, 0.183184343963474) => (7, 0.017102399061261372) w.p. 0.18884453707301566\n",
       " (6, 0.183184343963474) => (7, -0.09163488837790065) w.p. 0.2409834328305486\n",
       " (6, 0.183184343963474) => (7, 0.07669459316300409) w.p. 0.22049524886078634\n",
       " (6, 0.183184343963474) => (7, 0.18290522003474438) w.p. 0.28655197993570947\n",
       " (6, 0.183184343963474) => (7, 0.38938131420249056) w.p. 0.06312480129993994\n",
       " (6, 0.38826342709109524) => (7, 0.017102399061261372) w.p. 0.1858678955453149\n",
       " (6, 0.38826342709109524) => (7, -0.09163488837790065) w.p. 0.24408602150537634\n",
       " (6, 0.38826342709109524) => (7, 0.07669459316300409) w.p. 0.21674347158218127\n",
       " (6, 0.38826342709109524) => (7, 0.18290522003474438) w.p. 0.2901689708141321\n",
       " (6, 0.38826342709109524) => (7, 0.38938131420249056) w.p. 0.06313364055299539\n",
       " (7, -0.09163488837790065) => (8, 0.08308238951512589) w.p. 0.1564728584612803\n",
       " (7, -0.09163488837790065) => (8, -0.0856620147768464) w.p. 0.3004446681768605\n",
       " (7, -0.09163488837790065) => (8, 0.06278343840083693) w.p. 0.2009816259753335\n",
       " (7, -0.09163488837790065) => (8, 0.18381950526263147) w.p. 0.27670106552563134\n",
       " (7, -0.09163488837790065) => (8, 0.3893304760588086) w.p. 0.06539978186089437\n",
       " (7, 0.017102399061261372) => (8, 0.08308238951512589) w.p. 0.15254326720135078\n",
       " (7, 0.017102399061261372) => (8, -0.0856620147768464) w.p. 0.2939531447868299\n",
       " (7, 0.017102399061261372) => (8, 0.06278343840083693) w.p. 0.21776065850569862\n",
       " (7, 0.017102399061261372) => (8, 0.18381950526263147) w.p. 0.27348037146475307\n",
       " (7, 0.017102399061261372) => (8, 0.3893304760588086) w.p. 0.06226255804136767\n",
       " (7, 0.07669459316300409) => (8, 0.08308238951512589) w.p. 0.15725660513934128\n",
       " (7, 0.07669459316300409) => (8, -0.0856620147768464) w.p. 0.29524068041983353\n",
       " (7, 0.07669459316300409) => (8, 0.06278343840083693) w.p. 0.203537821208831\n",
       " (7, 0.07669459316300409) => (8, 0.18381950526263147) w.p. 0.27963264567499097\n",
       " (7, 0.07669459316300409) => (8, 0.3893304760588086) w.p. 0.06433224755700326\n",
       " (7, 0.18290522003474438) => (8, 0.08308238951512589) w.p. 0.15488086087624903\n",
       " (7, 0.18290522003474438) => (8, -0.0856620147768464) w.p. 0.3001886660610719\n",
       " (7, 0.18290522003474438) => (8, 0.06278343840083693) w.p. 0.20505205785759206\n",
       " (7, 0.18290522003474438) => (8, 0.18381950526263147) w.p. 0.2720285095381175\n",
       " (7, 0.18290522003474438) => (8, 0.3893304760588086) w.p. 0.06784990566696947\n",
       " (7, 0.38938131420249056) => (8, 0.08308238951512589) w.p. 0.1514497223935842\n",
       " (7, 0.38938131420249056) => (8, -0.0856620147768464) w.p. 0.2934916718075262\n",
       " (7, 0.38938131420249056) => (8, 0.06278343840083693) w.p. 0.2041949413942011\n",
       " (7, 0.38938131420249056) => (8, 0.18381950526263147) w.p. 0.28161628624305984\n",
       " (7, 0.38938131420249056) => (8, 0.3893304760588086) w.p. 0.06924737816162863\n",
       " (8, -0.0856620147768464) => (9, -0.006522980886305641) w.p. 0.17732069637695771\n",
       " (8, -0.0856620147768464) => (9, -0.09339422517966862) w.p. 0.2081736909323116\n",
       " (8, -0.0856620147768464) => (9, 0.07442049771388326) w.p. 0.26003226456946965\n",
       " (8, -0.0856620147768464) => (9, 0.1826755269391423) w.p. 0.2905155609329838\n",
       " (8, -0.0856620147768464) => (9, 0.39044807699128903) w.p. 0.0639577871882772\n",
       " (8, 0.06278343840083693) => (9, -0.006522980886305641) w.p. 0.18651140223192625\n",
       " (8, 0.06278343840083693) => (9, -0.09339422517966862) w.p. 0.20946142649199417\n",
       " (8, 0.06278343840083693) => (9, 0.07442049771388326) w.p. 0.2590975254730713\n",
       " (8, 0.06278343840083693) => (9, 0.1826755269391423) w.p. 0.2794274623968947\n",
       " (8, 0.06278343840083693) => (9, 0.39044807699128903) w.p. 0.06550218340611354\n",
       " (8, 0.08308238951512589) => (9, -0.006522980886305641) w.p. 0.18340639504899434\n",
       " (8, 0.08308238951512589) => (9, -0.09339422517966862) w.p. 0.21177153171738008\n",
       " (8, 0.08308238951512589) => (9, 0.07442049771388326) w.p. 0.24954873646209386\n",
       " (8, 0.08308238951512589) => (9, 0.1826755269391423) w.p. 0.28874419804022694\n",
       " (8, 0.08308238951512589) => (9, 0.39044807699128903) w.p. 0.0665291387313048\n",
       " (8, 0.18381950526263147) => (9, -0.006522980886305641) w.p. 0.17873204700420717\n",
       " (8, 0.18381950526263147) => (9, -0.09339422517966862) w.p. 0.21035833454228928\n",
       " (8, 0.18381950526263147) => (9, 0.07442049771388326) w.p. 0.25790657188452054\n",
       " (8, 0.18381950526263147) => (9, 0.1826755269391423) w.p. 0.28851733642826055\n",
       " (8, 0.18381950526263147) => (9, 0.39044807699128903) w.p. 0.06448571014072248\n",
       " (8, 0.3893304760588086) => (9, -0.006522980886305641) w.p. 0.18391330891330893\n",
       " (8, 0.3893304760588086) => (9, -0.09339422517966862) w.p. 0.21474358974358973\n",
       " (8, 0.3893304760588086) => (9, 0.07442049771388326) w.p. 0.2506105006105006\n",
       " (8, 0.3893304760588086) => (9, 0.1826755269391423) w.p. 0.28006715506715507\n",
       " (8, 0.3893304760588086) => (9, 0.39044807699128903) w.p. 0.07066544566544566\n",
       " (9, -0.09339422517966862) => (10, -0.14445745193525172) w.p. 0.14336047231347904\n",
       " (9, -0.09339422517966862) => (10, -0.02166855490784892) w.p. 0.23044327000904632\n",
       " (9, -0.09339422517966862) => (10, 0.07351969015737692) w.p. 0.2775793934199876\n",
       " (9, -0.09339422517966862) => (10, 0.1833748450347736) w.p. 0.2820549445317336\n",
       " (9, -0.09339422517966862) => (10, 0.3907447072909698) w.p. 0.06656191972575347\n",
       " (9, -0.006522980886305641) => (10, -0.14445745193525172) w.p. 0.14078903746270305\n",
       " (9, -0.006522980886305641) => (10, -0.02166855490784892) w.p. 0.22947286993037905\n",
       " (9, -0.006522980886305641) => (10, 0.07351969015737692) w.p. 0.2748369985633772\n",
       " (9, -0.006522980886305641) => (10, 0.1833748450347736) w.p. 0.29102663277710245\n",
       " (9, -0.006522980886305641) => (10, 0.3907447072909698) w.p. 0.06387446126643828\n",
       " (9, 0.07442049771388326) => (10, -0.14445745193525172) w.p. 0.13980000778179838\n",
       " (9, 0.07442049771388326) => (10, -0.02166855490784892) w.p. 0.2315863195984592\n",
       " (9, 0.07442049771388326) => (10, 0.07351969015737692) w.p. 0.278277109840084\n",
       " (9, 0.07442049771388326) => (10, 0.1833748450347736) w.p. 0.2880043578070892\n",
       " (9, 0.07442049771388326) => (10, 0.3907447072909698) w.p. 0.06233220497256916\n",
       " (9, 0.1826755269391423) => (10, -0.14445745193525172) w.p. 0.13654436383928573\n",
       " (9, 0.1826755269391423) => (10, -0.02166855490784892) w.p. 0.22813197544642858\n",
       " (9, 0.1826755269391423) => (10, 0.07351969015737692) w.p. 0.2783203125\n",
       " (9, 0.1826755269391423) => (10, 0.1833748450347736) w.p. 0.29115513392857145\n",
       " (9, 0.1826755269391423) => (10, 0.3907447072909698) w.p. 0.06584821428571429\n",
       " (9, 0.39044807699128903) => (10, -0.14445745193525172) w.p. 0.138829298191848\n",
       " (9, 0.39044807699128903) => (10, -0.02166855490784892) w.p. 0.23398712840943917\n",
       " (9, 0.39044807699128903) => (10, 0.07351969015737692) w.p. 0.2716825007661661\n",
       " (9, 0.39044807699128903) => (10, 0.1833748450347736) w.p. 0.2912963530493411\n",
       " (9, 0.39044807699128903) => (10, 0.3907447072909698) w.p. 0.06420471958320564\n",
       " (10, -0.14445745193525172) => (11, -0.14231363566833116) w.p. 0.1437772847634724\n",
       " (10, -0.14445745193525172) => (11, -0.021534386890660676) w.p. 0.22436126816002291\n",
       " (10, -0.14445745193525172) => (11, 0.07286665671100102) w.p. 0.2713089529807486\n",
       " (10, -0.14445745193525172) => (11, 0.18154215607125226) w.p. 0.2949259285765405\n",
       " (10, -0.14445745193525172) => (11, 0.3875737035010168) w.p. 0.06562656551921563\n",
       " (10, -0.02166855490784892) => (11, -0.14231363566833116) w.p. 0.13979055316560204\n",
       " (10, -0.02166855490784892) => (11, -0.021534386890660676) w.p. 0.2320862121409638\n",
       " (10, -0.02166855490784892) => (11, 0.07286665671100102) w.p. 0.2738452179203059\n",
       " (10, -0.02166855490784892) => (11, 0.18154215607125226) w.p. 0.2880545778473037\n",
       " (10, -0.02166855490784892) => (11, 0.3875737035010168) w.p. 0.06622343892582454\n",
       " (10, 0.07351969015737692) => (11, -0.14231363566833116) w.p. 0.14287776534699917\n",
       " (10, 0.07351969015737692) => (11, -0.021534386890660676) w.p. 0.22646071673463494\n",
       " (10, 0.07351969015737692) => (11, 0.07286665671100102) w.p. 0.2769136381681042\n",
       " (10, 0.07351969015737692) => (11, 0.18154215607125226) w.p. 0.2865134071962178\n",
       " (10, 0.07351969015737692) => (11, 0.3875737035010168) w.p. 0.06723447255404381\n",
       " (10, 0.1833748450347736) => (11, -0.14231363566833116) w.p. 0.14052423548991055\n",
       " (10, 0.1833748450347736) => (11, -0.021534386890660676) w.p. 0.22963040011094932\n",
       " (10, 0.1833748450347736) => (11, 0.07286665671100102) w.p. 0.2806670827265793\n",
       " (10, 0.1833748450347736) => (11, 0.18154215607125226) w.p. 0.2852437417654809\n",
       " (10, 0.1833748450347736) => (11, 0.3875737035010168) w.p. 0.06393453990707995\n",
       " (10, 0.3907447072909698) => (11, -0.14231363566833116) w.p. 0.1387900355871886\n",
       " (10, 0.3907447072909698) => (11, -0.021534386890660676) w.p. 0.24013615967816804\n",
       " (10, 0.3907447072909698) => (11, 0.07286665671100102) w.p. 0.2754138944762494\n",
       " (10, 0.3907447072909698) => (11, 0.18154215607125226) w.p. 0.28144824384960543\n",
       " (10, 0.3907447072909698) => (11, 0.3875737035010168) w.p. 0.06421166640878849\n",
       " (11, -0.14231363566833116) => (12, 0.01727003315606753) w.p. 0.19115670321896003\n",
       " (11, -0.14231363566833116) => (12, -0.09112431130530572) w.p. 0.23063318004952246\n",
       " (11, -0.14231363566833116) => (12, 0.07660247158201777) w.p. 0.22702511496285815\n",
       " (11, -0.14231363566833116) => (12, 0.1830240450476059) w.p. 0.28312698974177575\n",
       " (11, -0.14231363566833116) => (12, 0.3903111382066712) w.p. 0.06805801202688362\n",
       " (11, -0.021534386890660676) => (12, 0.01727003315606753) w.p. 0.19008985431387942\n",
       " (11, -0.021534386890660676) => (12, -0.09112431130530572) w.p. 0.23523510424845154\n",
       " (11, -0.021534386890660676) => (12, 0.07660247158201777) w.p. 0.22668585885021372\n",
       " (11, -0.021534386890660676) => (12, 0.1830240450476059) w.p. 0.2831719445171421\n",
       " (11, -0.021534386890660676) => (12, 0.3903111382066712) w.p. 0.06481723807031319\n",
       " (11, 0.07286665671100102) => (12, 0.01727003315606753) w.p. 0.1936254115263558\n",
       " (11, 0.07286665671100102) => (12, -0.09112431130530572) w.p. 0.2383054158677327\n",
       " (11, 0.07286665671100102) => (12, 0.07660247158201777) w.p. 0.2197098513078398\n",
       " (11, 0.07286665671100102) => (12, 0.1830240450476059) w.p. 0.28305777649144387\n",
       " (11, 0.07286665671100102) => (12, 0.3903111382066712) w.p. 0.06530154480662784\n",
       " (11, 0.18154215607125226) => (12, 0.01727003315606753) w.p. 0.18813293892465635\n",
       " (11, 0.18154215607125226) => (12, -0.09112431130530572) w.p. 0.23734122150687315\n",
       " (11, 0.18154215607125226) => (12, 0.07660247158201777) w.p. 0.2223768922916304\n",
       " (11, 0.18154215607125226) => (12, 0.1830240450476059) w.p. 0.2857142857142857\n",
       " (11, 0.18154215607125226) => (12, 0.3903111382066712) w.p. 0.06643466156255437\n",
       " (11, 0.3875737035010168) => (12, 0.01727003315606753) w.p. 0.18848087764741733\n",
       " (11, 0.3875737035010168) => (12, -0.09112431130530572) w.p. 0.23845802224592413\n",
       " (11, 0.3875737035010168) => (12, 0.07660247158201777) w.p. 0.22245924120067043\n",
       " (11, 0.3875737035010168) => (12, 0.1830240450476059) w.p. 0.28660673472497333\n",
       " (11, 0.3875737035010168) => (12, 0.3903111382066712) w.p. 0.06399512418101477\n",
       " (12, -0.09112431130530572) => (13, -0.1446375702375692) w.p. 0.13743915343915344\n",
       " (12, -0.09112431130530572) => (13, -0.021703156564768785) w.p. 0.23377777777777778\n",
       " (12, -0.09112431130530572) => (13, 0.07393428088887528) w.p. 0.26916402116402116\n",
       " (12, -0.09112431130530572) => (13, 0.1832042719851941) w.p. 0.2945608465608466\n",
       " (12, -0.09112431130530572) => (13, 0.39055017216006893) w.p. 0.06505820105820107\n",
       " (12, 0.01727003315606753) => (13, -0.1446375702375692) w.p. 0.13775911834164262\n",
       " (12, 0.01727003315606753) => (13, -0.021703156564768785) w.p. 0.22970348989766465\n",
       " (12, 0.01727003315606753) => (13, 0.07393428088887528) w.p. 0.27955917082130677\n",
       " (12, 0.01727003315606753) => (13, 0.1832042719851941) w.p. 0.2902125426397271\n",
       " (12, 0.01727003315606753) => (13, 0.39055017216006893) w.p. 0.06276567829965889\n",
       " (12, 0.07660247158201777) => (13, -0.1446375702375692) w.p. 0.1401316673384388\n",
       " (12, 0.07660247158201777) => (13, -0.021703156564768785) w.p. 0.22907429799811904\n",
       " (12, 0.07660247158201777) => (13, 0.07393428088887528) w.p. 0.2814725245196829\n",
       " (12, 0.07660247158201777) => (13, 0.1832042719851941) w.p. 0.2867123471718393\n",
       " (12, 0.07660247158201777) => (13, 0.39055017216006893) w.p. 0.06260916297191993\n",
       " (12, 0.1830240450476059) => (13, -0.1446375702375692) w.p. 0.14189165405329296\n",
       " (12, 0.1830240450476059) => (13, -0.021703156564768785) w.p. 0.22953993452779048\n",
       " (12, 0.1830240450476059) => (13, 0.07393428088887528) w.p. 0.27596888310042594\n",
       " (12, 0.1830240450476059) => (13, 0.1832042719851941) w.p. 0.28716251892006056\n",
       " (12, 0.1830240450476059) => (13, 0.39055017216006893) w.p. 0.06543700939843007\n",
       " (12, 0.3903111382066712) => (13, -0.1446375702375692) w.p. 0.14281373442722578\n",
       " (12, 0.3903111382066712) => (13, -0.021703156564768785) w.p. 0.22774232756001214\n",
       " (12, 0.3903111382066712) => (13, 0.07393428088887528) w.p. 0.2777271346095412\n",
       " (12, 0.3903111382066712) => (13, 0.1832042719851941) w.p. 0.29094500151929503\n",
       " (12, 0.3903111382066712) => (13, 0.39055017216006893) w.p. 0.060771801883925856\n",
       " (13, -0.1446375702375692) => (14, -0.20561799651658316) w.p. 0.0877469224162611\n",
       " (13, -0.1446375702375692) => (14, -0.03104683560438844) w.p. 0.26581734898368164\n",
       " (13, -0.1446375702375692) => (14, 0.0725053044755288) w.p. 0.2797022616661895\n",
       " (13, -0.1446375702375692) => (14, 0.18230972471818999) w.p. 0.2995276266819353\n",
       " (13, -0.1446375702375692) => (14, 0.3874989385203174) w.p. 0.06720584025193244\n",
       " (13, -0.021703156564768785) => (14, -0.20561799651658316) w.p. 0.09081831994790536\n",
       " (13, -0.021703156564768785) => (14, -0.03104683560438844) w.p. 0.272151074451921\n",
       " (13, -0.021703156564768785) => (14, 0.0725053044755288) w.p. 0.2850010853049707\n",
       " (13, -0.021703156564768785) => (14, 0.18230972471818999) w.p. 0.28517473410028216\n",
       " (13, -0.021703156564768785) => (14, 0.3874989385203174) w.p. 0.06685478619492077\n",
       " (13, 0.07393428088887528) => (14, -0.20561799651658316) w.p. 0.09034335540359636\n",
       " (13, 0.07393428088887528) => (14, -0.03104683560438844) w.p. 0.27291146568255004\n",
       " (13, 0.07393428088887528) => (14, 0.0725053044755288) w.p. 0.2888671804334455\n",
       " (13, 0.07393428088887528) => (14, 0.18230972471818999) w.p. 0.28166720937805273\n",
       " (13, 0.07393428088887528) => (14, 0.3874989385203174) w.p. 0.06621078910235537\n",
       " (13, 0.1832042719851941) => (14, -0.20561799651658316) w.p. 0.09004281176633061\n",
       " (13, 0.1832042719851941) => (14, -0.03104683560438844) w.p. 0.2720273442894628\n",
       " (13, 0.1832042719851941) => (14, 0.0725053044755288) w.p. 0.28656262947106753\n",
       " (13, 0.1832042719851941) => (14, 0.18230972471818999) w.p. 0.2842839386825024\n",
       " (13, 0.1832042719851941) => (14, 0.3874989385203174) w.p. 0.06708327579063665\n",
       " (13, 0.39055017216006893) => (14, -0.20561799651658316) w.p. 0.09217527386541471\n",
       " (13, 0.39055017216006893) => (14, -0.03104683560438844) w.p. 0.2704225352112676\n",
       " (13, 0.39055017216006893) => (14, 0.0725053044755288) w.p. 0.29139280125195616\n",
       " (13, 0.39055017216006893) => (14, 0.18230972471818999) w.p. 0.2871674491392801\n",
       " (13, 0.39055017216006893) => (14, 0.3874989385203174) w.p. 0.058841940532081374\n",
       " (14, -0.20561799651658316) => (15, 0.2483812636174608) w.p. 0.13615179760319573\n",
       " (14, -0.20561799651658316) => (15, -0.08599779286801822) w.p. 0.3028184642698624\n",
       " (14, -0.20561799651658316) => (15, 0.0653837689382918) w.p. 0.31391478029294273\n",
       " (14, -0.20561799651658316) => (15, 0.16341011308285194) w.p. 0.2072791833111407\n",
       " (14, -0.20561799651658316) => (15, 0.4000313301800583) w.p. 0.039835774522858414\n",
       " (14, -0.03104683560438844) => (15, 0.2483812636174608) w.p. 0.1336011498912763\n",
       " (14, -0.03104683560438844) => (15, -0.08599779286801822) w.p. 0.29992997456971215\n",
       " (14, -0.03104683560438844) => (15, 0.0653837689382918) w.p. 0.32436516419120626\n",
       " (14, -0.03104683560438844) => (15, 0.16341011308285194) w.p. 0.20565363210850257\n",
       " (14, -0.03104683560438844) => (15, 0.4000313301800583) w.p. 0.03645007923930269\n",
       " (14, 0.0725053044755288) => (15, 0.2483812636174608) w.p. 0.13470072329571264\n",
       " (14, 0.0725053044755288) => (15, -0.08599779286801822) w.p. 0.29955623886229427\n",
       " (14, 0.0725053044755288) => (15, 0.0653837689382918) w.p. 0.32219853943184595\n",
       " (14, 0.0725053044755288) => (15, 0.16341011308285194) w.p. 0.20563262168489466\n",
       " (14, 0.0725053044755288) => (15, 0.4000313301800583) w.p. 0.03791187672525245\n",
       " (14, 0.18230972471818999) => (15, 0.2483812636174608) w.p. 0.13646532438478748\n",
       " (14, 0.18230972471818999) => (15, -0.08599779286801822) w.p. 0.29876258389261745\n",
       " (14, 0.18230972471818999) => (15, 0.0653837689382918) w.p. 0.3189317673378076\n",
       " (14, 0.18230972471818999) => (15, 0.16341011308285194) w.p. 0.20917225950782997\n",
       " (14, 0.18230972471818999) => (15, 0.4000313301800583) w.p. 0.03666806487695749\n",
       " (14, 0.3874989385203174) => (15, 0.2483812636174608) w.p. 0.1324683162341581\n",
       " (14, 0.3874989385203174) => (15, -0.08599779286801822) w.p. 0.2955642727821364\n",
       " (14, 0.3874989385203174) => (15, 0.0653837689382918) w.p. 0.33328304164152084\n",
       " (14, 0.3874989385203174) => (15, 0.16341011308285194) w.p. 0.2008147254073627\n",
       " (14, 0.3874989385203174) => (15, 0.4000313301800583) w.p. 0.037869643934821964"
      ]
     },
     "metadata": {},
     "output_type": "display_data"
    }
   ],
   "source": [
    "function simulator()\n",
    "    scenarios = rand(Normal(0.0723,0.1410),180)\n",
    "    return scenarios #annualise(scenarios,12)\n",
    "end\n",
    "\n",
    "graph = SDDP.MarkovianGraph(simulator; budget = fill(5,15), scenarios = 100000);\n",
    "graph\n"
   ]
  },
  {
   "cell_type": "code",
   "execution_count": 36,
   "metadata": {},
   "outputs": [
    {
     "data": {
      "text/html": [
       "<table>\n",
       "  <thead>\n",
       "    <tr class = \"header headerLastRow\">\n",
       "      <th class = \"rowLabel\" style = \"font-weight: bold; text-align: right;\"></th>\n",
       "      <th style = \"text-align: right;\">1</th>\n",
       "      <th style = \"text-align: right;\">2</th>\n",
       "      <th style = \"text-align: right;\">3</th>\n",
       "      <th style = \"text-align: right;\">4</th>\n",
       "      <th style = \"text-align: right;\">5</th>\n",
       "      <th style = \"text-align: right;\">6</th>\n",
       "      <th style = \"text-align: right;\">7</th>\n",
       "      <th style = \"text-align: right;\">8</th>\n",
       "      <th style = \"text-align: right;\">9</th>\n",
       "      <th style = \"text-align: right;\">10</th>\n",
       "      <th style = \"text-align: right;\">11</th>\n",
       "      <th style = \"text-align: right;\">12</th>\n",
       "      <th style = \"text-align: right;\">13</th>\n",
       "      <th style = \"text-align: right;\">14</th>\n",
       "      <th style = \"text-align: right;\">15</th>\n",
       "    </tr>\n",
       "  </thead>\n",
       "  <tbody>\n",
       "    <tr>\n",
       "      <td class = \"rowLabel\" style = \"font-weight: bold; text-align: right;\">0.01</td>\n",
       "      <td style = \"text-align: right;\">-0.293283</td>\n",
       "      <td style = \"text-align: right;\">-0.403521</td>\n",
       "      <td style = \"text-align: right;\">-0.402793</td>\n",
       "      <td style = \"text-align: right;\">-0.377236</td>\n",
       "      <td style = \"text-align: right;\">-0.382</td>\n",
       "      <td style = \"text-align: right;\">-0.425018</td>\n",
       "      <td style = \"text-align: right;\">-0.411768</td>\n",
       "      <td style = \"text-align: right;\">-0.398628</td>\n",
       "      <td style = \"text-align: right;\">-0.425759</td>\n",
       "      <td style = \"text-align: right;\">-0.415864</td>\n",
       "      <td style = \"text-align: right;\">-0.400697</td>\n",
       "      <td style = \"text-align: right;\">-0.415261</td>\n",
       "      <td style = \"text-align: right;\">-0.402088</td>\n",
       "      <td style = \"text-align: right;\">-0.393269</td>\n",
       "      <td style = \"text-align: right;\">-0.389289</td>\n",
       "    </tr>\n",
       "    <tr>\n",
       "      <td class = \"rowLabel\" style = \"font-weight: bold; text-align: right;\">0.025</td>\n",
       "      <td style = \"text-align: right;\">-0.21596</td>\n",
       "      <td style = \"text-align: right;\">-0.313205</td>\n",
       "      <td style = \"text-align: right;\">-0.314931</td>\n",
       "      <td style = \"text-align: right;\">-0.305613</td>\n",
       "      <td style = \"text-align: right;\">-0.298686</td>\n",
       "      <td style = \"text-align: right;\">-0.322713</td>\n",
       "      <td style = \"text-align: right;\">-0.322343</td>\n",
       "      <td style = \"text-align: right;\">-0.323955</td>\n",
       "      <td style = \"text-align: right;\">-0.337784</td>\n",
       "      <td style = \"text-align: right;\">-0.32868</td>\n",
       "      <td style = \"text-align: right;\">-0.326969</td>\n",
       "      <td style = \"text-align: right;\">-0.320785</td>\n",
       "      <td style = \"text-align: right;\">-0.326585</td>\n",
       "      <td style = \"text-align: right;\">-0.307107</td>\n",
       "      <td style = \"text-align: right;\">-0.299016</td>\n",
       "    </tr>\n",
       "    <tr>\n",
       "      <td class = \"rowLabel\" style = \"font-weight: bold; text-align: right;\">0.16</td>\n",
       "      <td style = \"text-align: right;\">-0.0166096</td>\n",
       "      <td style = \"text-align: right;\">-0.0835541</td>\n",
       "      <td style = \"text-align: right;\">-0.0856626</td>\n",
       "      <td style = \"text-align: right;\">-0.086998</td>\n",
       "      <td style = \"text-align: right;\">-0.087507</td>\n",
       "      <td style = \"text-align: right;\">-0.0959942</td>\n",
       "      <td style = \"text-align: right;\">-0.0953435</td>\n",
       "      <td style = \"text-align: right;\">-0.0996706</td>\n",
       "      <td style = \"text-align: right;\">-0.0942209</td>\n",
       "      <td style = \"text-align: right;\">-0.0899696</td>\n",
       "      <td style = \"text-align: right;\">-0.0910831</td>\n",
       "      <td style = \"text-align: right;\">-0.091027</td>\n",
       "      <td style = \"text-align: right;\">-0.0858771</td>\n",
       "      <td style = \"text-align: right;\">-0.0953062</td>\n",
       "      <td style = \"text-align: right;\">-0.085689</td>\n",
       "    </tr>\n",
       "    <tr>\n",
       "      <td class = \"rowLabel\" style = \"font-weight: bold; text-align: right;\">0.5</td>\n",
       "      <td style = \"text-align: right;\">0.123403</td>\n",
       "      <td style = \"text-align: right;\">0.0981234</td>\n",
       "      <td style = \"text-align: right;\">0.0984762</td>\n",
       "      <td style = \"text-align: right;\">0.0980294</td>\n",
       "      <td style = \"text-align: right;\">0.0962096</td>\n",
       "      <td style = \"text-align: right;\">0.0979348</td>\n",
       "      <td style = \"text-align: right;\">0.0897397</td>\n",
       "      <td style = \"text-align: right;\">0.0950528</td>\n",
       "      <td style = \"text-align: right;\">0.0906293</td>\n",
       "      <td style = \"text-align: right;\">0.0994891</td>\n",
       "      <td style = \"text-align: right;\">0.0978235</td>\n",
       "      <td style = \"text-align: right;\">0.0982841</td>\n",
       "      <td style = \"text-align: right;\">0.096688</td>\n",
       "      <td style = \"text-align: right;\">0.0942447</td>\n",
       "      <td style = \"text-align: right;\">0.0926797</td>\n",
       "    </tr>\n",
       "    <tr>\n",
       "      <td class = \"rowLabel\" style = \"font-weight: bold; text-align: right;\">0.84</td>\n",
       "      <td style = \"text-align: right;\">0.235966</td>\n",
       "      <td style = \"text-align: right;\">0.224534</td>\n",
       "      <td style = \"text-align: right;\">0.220305</td>\n",
       "      <td style = \"text-align: right;\">0.224027</td>\n",
       "      <td style = \"text-align: right;\">0.22487</td>\n",
       "      <td style = \"text-align: right;\">0.223336</td>\n",
       "      <td style = \"text-align: right;\">0.216469</td>\n",
       "      <td style = \"text-align: right;\">0.22142</td>\n",
       "      <td style = \"text-align: right;\">0.221488</td>\n",
       "      <td style = \"text-align: right;\">0.220495</td>\n",
       "      <td style = \"text-align: right;\">0.222056</td>\n",
       "      <td style = \"text-align: right;\">0.223345</td>\n",
       "      <td style = \"text-align: right;\">0.221945</td>\n",
       "      <td style = \"text-align: right;\">0.220607</td>\n",
       "      <td style = \"text-align: right;\">0.218857</td>\n",
       "    </tr>\n",
       "    <tr>\n",
       "      <td class = \"rowLabel\" style = \"font-weight: bold; text-align: right;\">0.975</td>\n",
       "      <td style = \"text-align: right;\">0.339174</td>\n",
       "      <td style = \"text-align: right;\">0.33337</td>\n",
       "      <td style = \"text-align: right;\">0.327363</td>\n",
       "      <td style = \"text-align: right;\">0.331753</td>\n",
       "      <td style = \"text-align: right;\">0.329505</td>\n",
       "      <td style = \"text-align: right;\">0.32816</td>\n",
       "      <td style = \"text-align: right;\">0.330462</td>\n",
       "      <td style = \"text-align: right;\">0.324632</td>\n",
       "      <td style = \"text-align: right;\">0.326871</td>\n",
       "      <td style = \"text-align: right;\">0.329399</td>\n",
       "      <td style = \"text-align: right;\">0.330236</td>\n",
       "      <td style = \"text-align: right;\">0.326218</td>\n",
       "      <td style = \"text-align: right;\">0.33303</td>\n",
       "      <td style = \"text-align: right;\">0.333074</td>\n",
       "      <td style = \"text-align: right;\">0.328877</td>\n",
       "    </tr>\n",
       "    <tr>\n",
       "      <td class = \"rowLabel\" style = \"font-weight: bold; text-align: right;\">0.99</td>\n",
       "      <td style = \"text-align: right;\">0.381979</td>\n",
       "      <td style = \"text-align: right;\">0.378439</td>\n",
       "      <td style = \"text-align: right;\">0.369939</td>\n",
       "      <td style = \"text-align: right;\">0.372065</td>\n",
       "      <td style = \"text-align: right;\">0.366431</td>\n",
       "      <td style = \"text-align: right;\">0.364689</td>\n",
       "      <td style = \"text-align: right;\">0.366206</td>\n",
       "      <td style = \"text-align: right;\">0.363487</td>\n",
       "      <td style = \"text-align: right;\">0.36446</td>\n",
       "      <td style = \"text-align: right;\">0.370788</td>\n",
       "      <td style = \"text-align: right;\">0.371641</td>\n",
       "      <td style = \"text-align: right;\">0.369825</td>\n",
       "      <td style = \"text-align: right;\">0.375783</td>\n",
       "      <td style = \"text-align: right;\">0.3713</td>\n",
       "      <td style = \"text-align: right;\">0.3703</td>\n",
       "    </tr>\n",
       "  </tbody>\n",
       "</table>\n"
      ]
     },
     "metadata": {},
     "output_type": "display_data"
    }
   ],
   "source": [
    "years = 15\n",
    "n_steps = years*12\n",
    "n_scenarios = 5000\n",
    "\n",
    "hmm = HMM([1.,0],[0.95 0.05; 0.124529 0.875471],[Normal(0.0134,0.0277),Normal(-0.0134,0.0515)])\n",
    "simulations = zeros(n_scenarios,n_steps)\n",
    "for s in 1:n_scenarios\n",
    "    simulations[s,:] .= rand(hmm,n_steps)[2]\n",
    "end\n",
    "\n",
    "simulations_ann = annualise(simulations,12)\n",
    "\n",
    "print_percentiles(simulations_ann,[0.01, 0.025,0.16,0.5,0.84,0.975, 0.99])"
   ]
  },
  {
   "cell_type": "code",
   "execution_count": 37,
   "metadata": {},
   "outputs": [
    {
     "data": {
      "text/html": [
       "<table>\n",
       "  <thead>\n",
       "    <tr class = \"header headerLastRow\">\n",
       "      <th class = \"rowLabel\" style = \"font-weight: bold; text-align: right;\"></th>\n",
       "      <th style = \"text-align: right;\">1</th>\n",
       "      <th style = \"text-align: right;\">2</th>\n",
       "      <th style = \"text-align: right;\">3</th>\n",
       "    </tr>\n",
       "  </thead>\n",
       "  <tbody>\n",
       "    <tr>\n",
       "      <td class = \"rowLabel\" style = \"font-weight: bold; text-align: right;\">0.1</td>\n",
       "      <td style = \"text-align: right;\">-0.113667</td>\n",
       "      <td style = \"text-align: right;\">-0.206796</td>\n",
       "      <td style = \"text-align: right;\">-0.178408</td>\n",
       "    </tr>\n",
       "    <tr>\n",
       "      <td class = \"rowLabel\" style = \"font-weight: bold; text-align: right;\">0.3</td>\n",
       "      <td style = \"text-align: right;\">0.222084</td>\n",
       "      <td style = \"text-align: right;\">0.152711</td>\n",
       "      <td style = \"text-align: right;\">0.16117</td>\n",
       "    </tr>\n",
       "    <tr>\n",
       "      <td class = \"rowLabel\" style = \"font-weight: bold; text-align: right;\">0.5</td>\n",
       "      <td style = \"text-align: right;\">0.429957</td>\n",
       "      <td style = \"text-align: right;\">0.374385</td>\n",
       "      <td style = \"text-align: right;\">0.378325</td>\n",
       "    </tr>\n",
       "    <tr>\n",
       "      <td class = \"rowLabel\" style = \"font-weight: bold; text-align: right;\">0.7</td>\n",
       "      <td style = \"text-align: right;\">0.629745</td>\n",
       "      <td style = \"text-align: right;\">0.57327</td>\n",
       "      <td style = \"text-align: right;\">0.590316</td>\n",
       "    </tr>\n",
       "    <tr>\n",
       "      <td class = \"rowLabel\" style = \"font-weight: bold; text-align: right;\">0.9</td>\n",
       "      <td style = \"text-align: right;\">0.871825</td>\n",
       "      <td style = \"text-align: right;\">0.823165</td>\n",
       "      <td style = \"text-align: right;\">0.834469</td>\n",
       "    </tr>\n",
       "  </tbody>\n",
       "</table>\n"
      ]
     },
     "metadata": {},
     "output_type": "display_data"
    }
   ],
   "source": [
    "print_percentiles(annualise(simulations,60),[.1, .3, .5, .7, .9]) "
   ]
  },
  {
   "cell_type": "code",
   "execution_count": 38,
   "metadata": {},
   "outputs": [
    {
     "data": {
      "text/html": [
       "<table>\n",
       "  <thead>\n",
       "    <tr class = \"header headerLastRow\">\n",
       "      <th class = \"rowLabel\" style = \"font-weight: bold; text-align: right;\"></th>\n",
       "      <th style = \"text-align: right;\">1</th>\n",
       "      <th style = \"text-align: right;\">2</th>\n",
       "      <th style = \"text-align: right;\">3</th>\n",
       "      <th style = \"text-align: right;\">4</th>\n",
       "      <th style = \"text-align: right;\">5</th>\n",
       "      <th style = \"text-align: right;\">6</th>\n",
       "      <th style = \"text-align: right;\">7</th>\n",
       "      <th style = \"text-align: right;\">8</th>\n",
       "      <th style = \"text-align: right;\">9</th>\n",
       "      <th style = \"text-align: right;\">10</th>\n",
       "    </tr>\n",
       "  </thead>\n",
       "  <tbody>\n",
       "    <tr>\n",
       "      <td class = \"rowLabel\" style = \"font-weight: bold; text-align: right;\">0.05</td>\n",
       "      <td style = \"text-align: right;\">-0.348135</td>\n",
       "      <td style = \"text-align: right;\">-0.26495</td>\n",
       "      <td style = \"text-align: right;\">-0.245207</td>\n",
       "      <td style = \"text-align: right;\">-0.243679</td>\n",
       "      <td style = \"text-align: right;\">-0.24237</td>\n",
       "      <td style = \"text-align: right;\">-0.242642</td>\n",
       "      <td style = \"text-align: right;\">-0.243038</td>\n",
       "      <td style = \"text-align: right;\">-0.244811</td>\n",
       "      <td style = \"text-align: right;\">-0.244374</td>\n",
       "      <td style = \"text-align: right;\">-0.244791</td>\n",
       "    </tr>\n",
       "    <tr>\n",
       "      <td class = \"rowLabel\" style = \"font-weight: bold; text-align: right;\">0.25</td>\n",
       "      <td style = \"text-align: right;\">-0.146352</td>\n",
       "      <td style = \"text-align: right;\">-0.0372495</td>\n",
       "      <td style = \"text-align: right;\">-0.0229129</td>\n",
       "      <td style = \"text-align: right;\">-0.0215825</td>\n",
       "      <td style = \"text-align: right;\">-0.0220176</td>\n",
       "      <td style = \"text-align: right;\">-0.02032</td>\n",
       "      <td style = \"text-align: right;\">-0.0211397</td>\n",
       "      <td style = \"text-align: right;\">-0.0231641</td>\n",
       "      <td style = \"text-align: right;\">-0.0212715</td>\n",
       "      <td style = \"text-align: right;\">-0.0203444</td>\n",
       "    </tr>\n",
       "    <tr>\n",
       "      <td class = \"rowLabel\" style = \"font-weight: bold; text-align: right;\">0.5</td>\n",
       "      <td style = \"text-align: right;\">-0.0155284</td>\n",
       "      <td style = \"text-align: right;\">0.0853683</td>\n",
       "      <td style = \"text-align: right;\">0.0941183</td>\n",
       "      <td style = \"text-align: right;\">0.0941607</td>\n",
       "      <td style = \"text-align: right;\">0.09386</td>\n",
       "      <td style = \"text-align: right;\">0.0948554</td>\n",
       "      <td style = \"text-align: right;\">0.094062</td>\n",
       "      <td style = \"text-align: right;\">0.0932577</td>\n",
       "      <td style = \"text-align: right;\">0.0950038</td>\n",
       "      <td style = \"text-align: right;\">0.0946836</td>\n",
       "    </tr>\n",
       "    <tr>\n",
       "      <td class = \"rowLabel\" style = \"font-weight: bold; text-align: right;\">0.75</td>\n",
       "      <td style = \"text-align: right;\">0.100519</td>\n",
       "      <td style = \"text-align: right;\">0.177686</td>\n",
       "      <td style = \"text-align: right;\">0.1832</td>\n",
       "      <td style = \"text-align: right;\">0.183344</td>\n",
       "      <td style = \"text-align: right;\">0.182551</td>\n",
       "      <td style = \"text-align: right;\">0.182977</td>\n",
       "      <td style = \"text-align: right;\">0.184388</td>\n",
       "      <td style = \"text-align: right;\">0.182877</td>\n",
       "      <td style = \"text-align: right;\">0.183903</td>\n",
       "      <td style = \"text-align: right;\">0.182955</td>\n",
       "    </tr>\n",
       "    <tr>\n",
       "      <td class = \"rowLabel\" style = \"font-weight: bold; text-align: right;\">0.95</td>\n",
       "      <td style = \"text-align: right;\">0.243653</td>\n",
       "      <td style = \"text-align: right;\">0.291399</td>\n",
       "      <td style = \"text-align: right;\">0.293322</td>\n",
       "      <td style = \"text-align: right;\">0.295331</td>\n",
       "      <td style = \"text-align: right;\">0.294262</td>\n",
       "      <td style = \"text-align: right;\">0.294008</td>\n",
       "      <td style = \"text-align: right;\">0.296018</td>\n",
       "      <td style = \"text-align: right;\">0.293998</td>\n",
       "      <td style = \"text-align: right;\">0.295432</td>\n",
       "      <td style = \"text-align: right;\">0.294482</td>\n",
       "    </tr>\n",
       "  </tbody>\n",
       "</table>\n"
      ]
     },
     "metadata": {},
     "output_type": "display_data"
    }
   ],
   "source": [
    "years = 10\n",
    "n_steps = years*12\n",
    "n_scenarios = 100000\n",
    "\n",
    "hmm = HMM([1.,0],transition_matrix(hmm_est_98_PLN),obs_distributions(hmm_est_98_PLN))\n",
    "simulations = zeros(n_scenarios,n_steps)\n",
    "for s in 1:n_scenarios\n",
    "    simulations[s,:] .= rand(hmm,n_steps)[2]\n",
    "end\n",
    "\n",
    "simulations_ann = annualise(simulations,12)\n",
    "\n",
    "print_percentiles(simulations_ann,[0.05, 0.25, 0.5, 0.75, 0.95])"
   ]
  },
  {
   "cell_type": "code",
   "execution_count": 39,
   "metadata": {},
   "outputs": [
    {
     "data": {
      "text/plain": [
       "Dict{Symbol, Float64} with 8 entries:\n",
       "  :max      => 0.211592\n",
       "  :std      => 0.163191\n",
       "  :mean     => 0.0687025\n",
       "  :var      => 0.0266313\n",
       "  :med      => 0.09386\n",
       "  :kurtosis => 0.711806\n",
       "  :skew     => -0.762085\n",
       "  :min      => -0.227633"
      ]
     },
     "metadata": {},
     "output_type": "display_data"
    }
   ],
   "source": [
    "t = 5\n",
    "hmm_moments = Dict(\n",
    "    :mean => mean(simulations_ann[:,t]),\n",
    "    :med => median(simulations_ann[:,t]),\n",
    "    :min => minimum(simulations[:,t]),\n",
    "    :max => maximum(simulations[:,t]),\n",
    "    :std => std(simulations_ann[:,t]),\n",
    "    :var => var(simulations_ann[:,t]),\n",
    "    :skew => skewness(simulations_ann[:,t]),\n",
    "    :kurtosis => kurtosis(simulations_ann[:,t])  \n",
    ")"
   ]
  },
  {
   "cell_type": "code",
   "execution_count": 40,
   "metadata": {},
   "outputs": [
    {
     "data": {
      "text/plain": [
       "15-element Vector{Float64}:\n",
       "  0.06778713609571285\n",
       " -0.37674556210463955\n",
       "  0.19760288439386875\n",
       " -0.18513308837552372\n",
       " -0.02400417582253697\n",
       "  0.06224804135493101\n",
       " -0.04568328186171611\n",
       " -0.25925704719078224\n",
       " -0.08795738774093166\n",
       "  0.19247752409714505\n",
       " -0.22681532458783374\n",
       " -0.07512932556935688\n",
       "  0.0939561285540993\n",
       "  0.11219519964578573\n",
       "  0.27106906716347084"
      ]
     },
     "metadata": {},
     "output_type": "display_data"
    }
   ],
   "source": [
    "function regime_sampler_ann()    \n",
    "    hmm = HMM([1,0.],[0.95 0.05; 0.124529 0.875471],[Normal(0.0134,0.0277),Normal(-0.0134,0.0515)])    \n",
    "    return annualise(rand(hmm,15*12)[2], 12)\n",
    "end\n",
    "\n",
    "regime_sampler_ann()\n"
   ]
  },
  {
   "cell_type": "code",
   "execution_count": 43,
   "metadata": {},
   "outputs": [
    {
     "data": {
      "text/plain": [
       "8-element LinRange{Float64, Int64}:\n",
       " -3.5, -2.5, -1.5, -0.5, 0.5, 1.5, 2.5, 3.5"
      ]
     },
     "metadata": {},
     "output_type": "display_data"
    }
   ],
   "source": [
    "Base.LinRange(-3.5,3.5,8)"
   ]
  },
  {
   "cell_type": "code",
   "execution_count": 85,
   "metadata": {},
   "outputs": [
    {
     "name": "stdout",
     "output_type": "stream",
     "text": [
      "mean 0.06978414756872021, std: 0.13188218245803085\n"
     ]
    },
    {
     "data": {
      "text/plain": [
       "Hidden Markov Model with:\n",
       " - initialization: [1.0, 3.978144708088232e-35]\n",
       " - transition matrix: [0.9503269865480146 0.04967301345198542; 0.12452802991347076 0.8754719700865292]\n",
       " - observation distributions: [Normal{Float64}(μ=0.013408378826971776, σ=0.027652555862970198), Normal{Float64}(μ=-0.013384843801186836, σ=0.05148033633426641)]"
      ]
     },
     "metadata": {},
     "output_type": "display_data"
    }
   ],
   "source": [
    "acwi_pln_98 = identity.(values(from(returns[:ACWI_Net_PLN ],Date(1998,01,01))))\n",
    "println(\"mean $(mean(acwi_pln_98)*12), std: $(std(acwi_pln_98)*12^0.5)\")\n",
    "hmm_est, loglikehood = train_hmm(acwi_pln_98,2)\n",
    "hmm_est"
   ]
  },
  {
   "cell_type": "code",
   "execution_count": 86,
   "metadata": {},
   "outputs": [
    {
     "data": {
      "text/html": [
       "<div><div style = \"float: left;\"><span>1×8 DataFrame</span></div><div style = \"clear: both;\"></div></div><div class = \"data-frame\" style = \"overflow-x: scroll;\"><table class = \"data-frame\" style = \"margin-bottom: 6px;\"><thead><tr class = \"header\"><th class = \"rowNumber\" style = \"font-weight: bold; text-align: right;\">Row</th><th style = \"text-align: left;\">loglikehood</th><th style = \"text-align: left;\">mu1</th><th style = \"text-align: left;\">mu2</th><th style = \"text-align: left;\">p11</th><th style = \"text-align: left;\">p21</th><th style = \"text-align: left;\">prob1</th><th style = \"text-align: left;\">sig1</th><th style = \"text-align: left;\">sig2</th></tr><tr class = \"subheader headerLastRow\"><th class = \"rowNumber\" style = \"font-weight: bold; text-align: right;\"></th><th title = \"Float64\" style = \"text-align: left;\">Float64</th><th title = \"Float64\" style = \"text-align: left;\">Float64</th><th title = \"Float64\" style = \"text-align: left;\">Float64</th><th title = \"Float64\" style = \"text-align: left;\">Float64</th><th title = \"Float64\" style = \"text-align: left;\">Float64</th><th title = \"Float64\" style = \"text-align: left;\">Float64</th><th title = \"Float64\" style = \"text-align: left;\">Float64</th><th title = \"Float64\" style = \"text-align: left;\">Float64</th></tr></thead><tbody><tr><td class = \"rowNumber\" style = \"font-weight: bold; text-align: right;\">1</td><td style = \"text-align: right;\">603.335</td><td style = \"text-align: right;\">0.160901</td><td style = \"text-align: right;\">-0.160618</td><td style = \"text-align: right;\">0.950327</td><td style = \"text-align: right;\">0.124528</td><td style = \"text-align: right;\">0.714852</td><td style = \"text-align: right;\">0.0957913</td><td style = \"text-align: right;\">0.178333</td></tr></tbody></table></div>"
      ],
      "text/latex": [
       "\\begin{tabular}{r|cccccccc}\n",
       "\t& loglikehood & mu1 & mu2 & p11 & p21 & prob1 & sig1 & sig2\\\\\n",
       "\t\\hline\n",
       "\t& Float64 & Float64 & Float64 & Float64 & Float64 & Float64 & Float64 & Float64\\\\\n",
       "\t\\hline\n",
       "\t1 & 603.335 & 0.160901 & -0.160618 & 0.950327 & 0.124528 & 0.714852 & 0.0957913 & 0.178333 \\\\\n",
       "\\end{tabular}\n"
      ],
      "text/plain": [
       "\u001b[1m1×8 DataFrame\u001b[0m\n",
       "\u001b[1m Row \u001b[0m│\u001b[1m loglikehood \u001b[0m\u001b[1m mu1      \u001b[0m\u001b[1m mu2       \u001b[0m\u001b[1m p11      \u001b[0m\u001b[1m p21      \u001b[0m\u001b[1m prob1    \u001b[0m\u001b[1m sig1   \u001b[0m ⋯\n",
       "     │\u001b[90m Float64     \u001b[0m\u001b[90m Float64  \u001b[0m\u001b[90m Float64   \u001b[0m\u001b[90m Float64  \u001b[0m\u001b[90m Float64  \u001b[0m\u001b[90m Float64  \u001b[0m\u001b[90m Float64\u001b[0m ⋯\n",
       "─────┼──────────────────────────────────────────────────────────────────────────\n",
       "   1 │     603.335  0.160901  -0.160618  0.950327  0.124528  0.714852  0.09579 ⋯\n",
       "\u001b[36m                                                               2 columns omitted\u001b[0m"
      ]
     },
     "metadata": {},
     "output_type": "display_data"
    }
   ],
   "source": [
    "regime_summary(loglikehood,hmm_est,12)"
   ]
  },
  {
   "cell_type": "code",
   "execution_count": 87,
   "metadata": {},
   "outputs": [
    {
     "data": {
      "text/plain": [
       "Hidden Markov Model with:\n",
       " - initialization: [1.0, 0.0]\n",
       " - transition matrix: [0.95 0.05; 0.12 0.88]\n",
       " - observation distributions: [Normal{Float64}(μ=0.0134, σ=0.0277), Normal{Float64}(μ=-0.0134, σ=0.0515)]"
      ]
     },
     "metadata": {},
     "output_type": "display_data"
    }
   ],
   "source": [
    "init = [1., 0]\n",
    "trans = [0.95 0.05; 0.12 0.88]\n",
    "dists = [Normal(0.0134, 0.0277), Normal(-0.0134, 0.0515)]\n",
    "hmm = HMM(init, trans, dists)"
   ]
  },
  {
   "cell_type": "code",
   "execution_count": 88,
   "metadata": {},
   "outputs": [
    {
     "name": "stdout",
     "output_type": "stream",
     "text": [
      "\n"
     ]
    }
   ],
   "source": [
    "n_scenarios = 2000\n",
    "years = 30\n",
    "n_steps = years * 12\n",
    "\n",
    "long_obs_seqs = zeros(n_scenarios,n_steps)\n",
    "for s in 1:n_scenarios\n",
    "    long_obs_seqs[s,:] .= last(rand(hmm, n_steps))\n",
    "end\n",
    "long_obs_seqs = annualise(long_obs_seqs,12)\n",
    "long_obs_seq_concat = vec(reduce(vcat, transpose(long_obs_seqs)))\n",
    "seq_ends = cumsum(fill(years,n_scenarios))\n",
    "println(\"\")"
   ]
  },
  {
   "cell_type": "code",
   "execution_count": 126,
   "metadata": {},
   "outputs": [
    {
     "ename": "MethodError",
     "evalue": "MethodError: no method matching logpdf(::FullNormal, ::Float64)\n\nClosest candidates are:\n  logpdf(!Matched::Soliton, ::Real)\n   @ Distributions C:\\Users\\matsz\\.julia\\packages\\Distributions\\UaWBm\\src\\univariate\\discrete\\soliton.jl:98\n  logpdf(!Matched::Chernoff, ::Real)\n   @ Distributions C:\\Users\\matsz\\.julia\\packages\\Distributions\\UaWBm\\src\\univariate\\continuous\\chernoff.jl:155\n  logpdf(!Matched::DiscreteUniform, ::Real)\n   @ Distributions C:\\Users\\matsz\\.julia\\packages\\Distributions\\UaWBm\\src\\univariate\\discrete\\discreteuniform.jl:74\n  ...\n",
     "output_type": "error",
     "traceback": [
      "MethodError: no method matching logpdf(::FullNormal, ::Float64)\n",
      "\n",
      "Closest candidates are:\n",
      "  logpdf(!Matched::Soliton, ::Real)\n",
      "   @ Distributions C:\\Users\\matsz\\.julia\\packages\\Distributions\\UaWBm\\src\\univariate\\discrete\\soliton.jl:98\n",
      "  logpdf(!Matched::Chernoff, ::Real)\n",
      "   @ Distributions C:\\Users\\matsz\\.julia\\packages\\Distributions\\UaWBm\\src\\univariate\\continuous\\chernoff.jl:155\n",
      "  logpdf(!Matched::DiscreteUniform, ::Real)\n",
      "   @ Distributions C:\\Users\\matsz\\.julia\\packages\\Distributions\\UaWBm\\src\\univariate\\discrete\\discreteuniform.jl:74\n",
      "  ...\n",
      "\n",
      "\n",
      "Stacktrace:\n",
      " [1] logdensityof(d::FullNormal, x::Float64)\n",
      "   @ DistributionsDensityInterfaceExt C:\\Users\\matsz\\.julia\\packages\\Distributions\\UaWBm\\ext\\DistributionsDensityInterfaceExt.jl:10\n",
      " [2] eltype(hmm::HMM{Vector{Float64}, Matrix{Float64}, Vector{FullNormal}}, obs::Float64, control::Nothing)\n",
      "   @ HiddenMarkovModels C:\\Users\\matsz\\.julia\\packages\\HiddenMarkovModels\\y95cy\\src\\types\\abstract_hmm.jl:50\n",
      " [3] initialize_forward_backward(hmm::HMM{Vector{Float64}, Matrix{Float64}, Vector{FullNormal}}, obs_seq::Vector{Float64}, control_seq::FillArrays.Fill{Nothing, 1, Tuple{Base.OneTo{Int64}}}; seq_ends::Vector{Int64}, transition_marginals::Bool)\n",
      "   @ HiddenMarkovModels C:\\Users\\matsz\\.julia\\packages\\HiddenMarkovModels\\y95cy\\src\\inference\\forward_backward.jl:37\n",
      " [4] baum_welch(hmm_guess::HMM{Vector{Float64}, Matrix{Float64}, Vector{FullNormal}}, obs_seq::Vector{Float64}, control_seq::FillArrays.Fill{Nothing, 1, Tuple{Base.OneTo{Int64}}}; seq_ends::Vector{Int64}, atol::Float64, max_iterations::Int64, loglikelihood_increasing::Bool)\n",
      "   @ HiddenMarkovModels C:\\Users\\matsz\\.julia\\packages\\HiddenMarkovModels\\y95cy\\src\\inference\\baum_welch.jl:64\n",
      " [5] top-level scope\n",
      "   @ c:\\Users\\matsz\\programowanie\\Optymalizacja_portfela\\julia_msp\\jl_notebook_cell_df34fa98e69747e1a8f8a730347b8e2f_X65sZmlsZQ==.jl:5"
     ]
    }
   ],
   "source": [
    "n_points = 6\n",
    "init_guess = guess_init(n_points)\n",
    "trans_guess = guess_tmatrix(n_points)\n",
    "dists_guess = [guess_distribution() for s in 1:n_points]\n",
    "hmm_guess = HMM(init_guess, trans_guess, dists_guess);\n",
    "\n",
    "hmm_est_concat, loglikehood = baum_welch(hmm_guess, long_obs_seq_concat; seq_ends);\n",
    "#regime_summary(loglikehood,hmm_est_concat,1)\n",
    "hmm_est_concat"
   ]
  },
  {
   "cell_type": "code",
   "execution_count": 127,
   "metadata": {},
   "outputs": [
    {
     "data": {
      "text/plain": [
       "2000-element Vector{Int64}:\n",
       "    30\n",
       "    60\n",
       "    90\n",
       "   120\n",
       "   150\n",
       "   180\n",
       "   210\n",
       "   240\n",
       "   270\n",
       "   300\n",
       "     ⋮\n",
       " 59760\n",
       " 59790\n",
       " 59820\n",
       " 59850\n",
       " 59880\n",
       " 59910\n",
       " 59940\n",
       " 59970\n",
       " 60000"
      ]
     },
     "metadata": {},
     "output_type": "display_data"
    }
   ],
   "source": [
    "simulations = rand(Normal(0.0723,0.1410),(2000,30)) \n",
    "long_obs_seq_concat = vec(reduce(vcat, transpose(simulations)))\n",
    "seq_ends = cumsum(fill(30,2000))"
   ]
  },
  {
   "cell_type": "code",
   "execution_count": 128,
   "metadata": {},
   "outputs": [
    {
     "ename": "MethodError",
     "evalue": "MethodError: no method matching logpdf(::FullNormal, ::Float64)\n\nClosest candidates are:\n  logpdf(!Matched::Soliton, ::Real)\n   @ Distributions C:\\Users\\matsz\\.julia\\packages\\Distributions\\UaWBm\\src\\univariate\\discrete\\soliton.jl:98\n  logpdf(!Matched::Chernoff, ::Real)\n   @ Distributions C:\\Users\\matsz\\.julia\\packages\\Distributions\\UaWBm\\src\\univariate\\continuous\\chernoff.jl:155\n  logpdf(!Matched::DiscreteUniform, ::Real)\n   @ Distributions C:\\Users\\matsz\\.julia\\packages\\Distributions\\UaWBm\\src\\univariate\\discrete\\discreteuniform.jl:74\n  ...\n",
     "output_type": "error",
     "traceback": [
      "MethodError: no method matching logpdf(::FullNormal, ::Float64)\n",
      "\n",
      "Closest candidates are:\n",
      "  logpdf(!Matched::Soliton, ::Real)\n",
      "   @ Distributions C:\\Users\\matsz\\.julia\\packages\\Distributions\\UaWBm\\src\\univariate\\discrete\\soliton.jl:98\n",
      "  logpdf(!Matched::Chernoff, ::Real)\n",
      "   @ Distributions C:\\Users\\matsz\\.julia\\packages\\Distributions\\UaWBm\\src\\univariate\\continuous\\chernoff.jl:155\n",
      "  logpdf(!Matched::DiscreteUniform, ::Real)\n",
      "   @ Distributions C:\\Users\\matsz\\.julia\\packages\\Distributions\\UaWBm\\src\\univariate\\discrete\\discreteuniform.jl:74\n",
      "  ...\n",
      "\n",
      "\n",
      "Stacktrace:\n",
      " [1] logdensityof(d::FullNormal, x::Float64)\n",
      "   @ DistributionsDensityInterfaceExt C:\\Users\\matsz\\.julia\\packages\\Distributions\\UaWBm\\ext\\DistributionsDensityInterfaceExt.jl:10\n",
      " [2] eltype(hmm::HMM{Vector{Float64}, Matrix{Float64}, Vector{FullNormal}}, obs::Float64, control::Nothing)\n",
      "   @ HiddenMarkovModels C:\\Users\\matsz\\.julia\\packages\\HiddenMarkovModels\\y95cy\\src\\types\\abstract_hmm.jl:50\n",
      " [3] initialize_forward_backward(hmm::HMM{Vector{Float64}, Matrix{Float64}, Vector{FullNormal}}, obs_seq::Vector{Float64}, control_seq::FillArrays.Fill{Nothing, 1, Tuple{Base.OneTo{Int64}}}; seq_ends::Vector{Int64}, transition_marginals::Bool)\n",
      "   @ HiddenMarkovModels C:\\Users\\matsz\\.julia\\packages\\HiddenMarkovModels\\y95cy\\src\\inference\\forward_backward.jl:37\n",
      " [4] baum_welch(hmm_guess::HMM{Vector{Float64}, Matrix{Float64}, Vector{FullNormal}}, obs_seq::Vector{Float64}, control_seq::FillArrays.Fill{Nothing, 1, Tuple{Base.OneTo{Int64}}}; seq_ends::Vector{Int64}, atol::Float64, max_iterations::Int64, loglikelihood_increasing::Bool)\n",
      "   @ HiddenMarkovModels C:\\Users\\matsz\\.julia\\packages\\HiddenMarkovModels\\y95cy\\src\\inference\\baum_welch.jl:64\n",
      " [5] top-level scope\n",
      "   @ c:\\Users\\matsz\\programowanie\\Optymalizacja_portfela\\julia_msp\\jl_notebook_cell_df34fa98e69747e1a8f8a730347b8e2f_Y100sZmlsZQ==.jl:5"
     ]
    }
   ],
   "source": [
    "n_points = 8\n",
    "init_guess = guess_init(n_points)\n",
    "trans_guess = guess_tmatrix(n_points)\n",
    "dists_guess = [guess_distribution() for s in 1:n_points]\n",
    "hmm_guess = HMM(init_guess, trans_guess, dists_guess);\n",
    "\n",
    "hmm_est_concat, loglikehood = baum_welch(hmm_guess, long_obs_seq_concat; seq_ends);\n",
    "hmm_est_concat"
   ]
  },
  {
   "cell_type": "code",
   "execution_count": 129,
   "metadata": {},
   "outputs": [],
   "source": [
    "using JuMP, HiGHS"
   ]
  },
  {
   "cell_type": "code",
   "execution_count": 163,
   "metadata": {},
   "outputs": [
    {
     "data": {
      "text/plain": [
       "Dict{Symbol, Float64} with 8 entries:\n",
       "  :max      => 0.186495\n",
       "  :median   => 0.00561115\n",
       "  :std      => 0.0388714\n",
       "  :mean     => 0.00577633\n",
       "  :var      => 0.00151099\n",
       "  :kurtosis => -0.00877321\n",
       "  :skew     => -0.00272181\n",
       "  :min      => -0.159944"
      ]
     },
     "metadata": {},
     "output_type": "display_data"
    }
   ],
   "source": [
    "norm_moments"
   ]
  },
  {
   "cell_type": "code",
   "execution_count": 164,
   "metadata": {},
   "outputs": [
    {
     "data": {
      "text/plain": [
       "Dict{Symbol, Float64} with 8 entries:\n",
       "  :max      => 0.211592\n",
       "  :std      => 0.163191\n",
       "  :mean     => 0.0687025\n",
       "  :var      => 0.0266313\n",
       "  :med      => 0.09386\n",
       "  :kurtosis => 0.711806\n",
       "  :skew     => -0.762085\n",
       "  :min      => -0.227633"
      ]
     },
     "metadata": {},
     "output_type": "display_data"
    }
   ],
   "source": [
    "hmm_moments"
   ]
  },
  {
   "cell_type": "code",
   "execution_count": 165,
   "metadata": {},
   "outputs": [
    {
     "data": {
      "text/plain": [
       "Dict{Symbol, Float64} with 8 entries:\n",
       "  :max      => 0.186495\n",
       "  :median   => 0.00561115\n",
       "  :std      => 0.0388714\n",
       "  :mean     => 0.00577633\n",
       "  :var      => 0.00151099\n",
       "  :kurtosis => -0.00877321\n",
       "  :skew     => -0.00272181\n",
       "  :min      => -0.159944"
      ]
     },
     "metadata": {},
     "output_type": "display_data"
    }
   ],
   "source": [
    "moments = norm_moments"
   ]
  },
  {
   "cell_type": "code",
   "execution_count": 166,
   "metadata": {},
   "outputs": [
    {
     "data": {
      "text/plain": [
       "4-element LinRange{Float64, Int64}:\n",
       " -0.110838, -0.0330951, 0.0446478, 0.122391"
      ]
     },
     "metadata": {},
     "output_type": "display_data"
    }
   ],
   "source": [
    "M = moments[:mean]\n",
    "V = moments[:var]\n",
    "S = moments[:skew]\n",
    "K = moments[:kurtosis]\n",
    "#X = [-0.252, 0.032, 0.08, 0.244]\n",
    "n_scenarios = 4\n",
    "z = 3\n",
    "X = LinRange(moments[:mean]-z*moments[:std],moments[:mean]+z*moments[:std],n_scenarios) #simulation_perc[:,1] #[simulation_perc[1,1],simulation_perc[2,1],simulation_perc[4,1],simulation_perc[5,1],]\n"
   ]
  },
  {
   "cell_type": "code",
   "execution_count": 167,
   "metadata": {},
   "outputs": [
    {
     "data": {
      "text/latex": [
       "$$ -Kp + Km + 0.0001849299276600031 p_{1} + 2.283085526666707e-6 p_{2} + 2.2830855266667035e-6 p_{3} + 0.0001849299276600031 p_{4} = -0.008773210175738289 $$"
      ],
      "text/plain": [
       "-Kp + Km + 0.0001849299276600031 p[1] + 2.283085526666707e-6 p[2] + 2.2830855266667035e-6 p[3] + 0.0001849299276600031 p[4] == -0.008773210175738289"
      ]
     },
     "metadata": {},
     "output_type": "display_data"
    }
   ],
   "source": [
    "model = Model(HiGHS.Optimizer)\n",
    "\n",
    "@variable(model, Vp >= 0)\n",
    "@variable(model, Vm >= 0)\n",
    "@variable(model, Sp >= 0)\n",
    "@variable(model, Sm >= 0)\n",
    "@variable(model, Kp >= 0)\n",
    "@variable(model, Km >= 0)\n",
    "\n",
    "@variable(model, p[1:n_scenarios] >= 0)\n",
    "#@variable(model, w[1:3] >= 0.1 )\n",
    "w = [1 1 1]\n",
    "\n",
    "@objective(model, Min, w[1]*(Vm+Vp) + w[2]*(Sm+Sp) + w[3]*(Km + Kp))\n",
    "\n",
    "\n",
    "@constraint(model, dot(X,p) == M)\n",
    "@constraint(model, sum(p) == 1)\n",
    "\n",
    "@constraint(model, dot((X .- M).^2, p) + Vm - Vp == V )\n",
    "@constraint(model, dot((X .- M).^3, p) + Sm - Sp == S )\n",
    "@constraint(model, dot((X .- M).^4, p) + Km - Kp == K ) \n"
   ]
  },
  {
   "cell_type": "code",
   "execution_count": 168,
   "metadata": {},
   "outputs": [
    {
     "name": "stdout",
     "output_type": "stream",
     "text": [
      "Running HiGHS 1.7.0 (git hash: 50670fd4c): Copyright (c) 2024 HiGHS under MIT licence terms\n",
      "Coefficient ranges:\n",
      "  Matrix [2e-06, 1e+00]\n",
      "  Cost   [1e+00, 1e+00]\n",
      "  Bound  [0e+00, 0e+00]\n",
      "  RHS    [2e-03, 1e+00]\n",
      "Presolving model\n",
      "4 rows, 8 cols, 20 nonzeros  0s\n",
      "4 rows, 8 cols, 20 nonzeros  0s\n",
      "Presolve : Reductions: rows 4(-1); columns 8(-2); elements 20(-6)\n",
      "Solving the presolved LP\n",
      "Using EKK dual simplex solver - serial\n",
      "  Iteration        Objective     Infeasibilities num(sum)\n",
      "          0     8.7732101757e-03 Pr: 4(0.000794347) 0s\n",
      "          4     1.1497304826e-02 Pr: 0(0) 0s\n",
      "Solving the original LP from the solution after postsolve\n",
      "Model   status      : Optimal\n",
      "Simplex   iterations: 4\n",
      "Objective value     :  1.1497304826e-02\n",
      "HiGHS run time      :          0.00\n"
     ]
    }
   ],
   "source": [
    "optimize!(model)"
   ]
  },
  {
   "cell_type": "code",
   "execution_count": 169,
   "metadata": {},
   "outputs": [
    {
     "data": {
      "text/plain": [
       "OPTIMAL::TerminationStatusCode = 1"
      ]
     },
     "metadata": {},
     "output_type": "display_data"
    }
   ],
   "source": [
    "JuMP.termination_status(model)"
   ]
  },
  {
   "cell_type": "code",
   "execution_count": 170,
   "metadata": {},
   "outputs": [
    {
     "data": {
      "text/plain": [
       "4×2 Matrix{Float64}:\n",
       " -0.110838   -0.0\n",
       " -0.0330951   0.5\n",
       "  0.0446478   0.5\n",
       "  0.122391    0.0"
      ]
     },
     "metadata": {},
     "output_type": "display_data"
    }
   ],
   "source": [
    "hcat(X,value.(p))"
   ]
  },
  {
   "cell_type": "code",
   "execution_count": 139,
   "metadata": {},
   "outputs": [
    {
     "data": {
      "text/plain": [
       "3-element Vector{Float64}:\n",
       " 0.125\n",
       " 0.75\n",
       " 0.125"
      ]
     },
     "metadata": {},
     "output_type": "display_data"
    }
   ],
   "source": [
    "[0.125, 0.75, 0.125]"
   ]
  },
  {
   "cell_type": "code",
   "execution_count": 140,
   "metadata": {},
   "outputs": [
    {
     "data": {
      "text/plain": [
       "1.35463"
      ]
     },
     "metadata": {},
     "output_type": "display_data"
    }
   ],
   "source": [
    "1+ 0.35463"
   ]
  },
  {
   "cell_type": "code",
   "execution_count": 172,
   "metadata": {},
   "outputs": [
    {
     "data": {
      "text/plain": [
       "1.0"
      ]
     },
     "metadata": {},
     "output_type": "display_data"
    }
   ],
   "source": [
    "sum(value.(p))"
   ]
  },
  {
   "cell_type": "code",
   "execution_count": 173,
   "metadata": {},
   "outputs": [
    {
     "data": {
      "text/plain": [
       "4×2 Matrix{Float64}:\n",
       " -0.110838   -0.0\n",
       " -0.0330951   0.5\n",
       "  0.0446478   0.5\n",
       "  0.122391    0.0"
      ]
     },
     "metadata": {},
     "output_type": "display_data"
    }
   ],
   "source": [
    "hcat(X,value.(p))"
   ]
  },
  {
   "cell_type": "code",
   "execution_count": 174,
   "metadata": {},
   "outputs": [
    {
     "data": {
      "text/plain": [
       "0.0057763349390561256"
      ]
     },
     "metadata": {},
     "output_type": "display_data"
    }
   ],
   "source": [
    "dot(value.(p),X)"
   ]
  },
  {
   "cell_type": "code",
   "execution_count": 175,
   "metadata": {},
   "outputs": [
    {
     "data": {
      "text/plain": [
       "Normal{Float64}(μ=0.07, σ=0.132)"
      ]
     },
     "metadata": {},
     "output_type": "display_data"
    }
   ],
   "source": [
    "norm = Normal(0.07,0.132)"
   ]
  },
  {
   "cell_type": "code",
   "execution_count": 145,
   "metadata": {},
   "outputs": [
    {
     "data": {
      "text/plain": [
       "3-element Vector{Float64}:\n",
       " 0.409022473584758\n",
       " 3.0222900030411566\n",
       " 0.409022473584758"
      ]
     },
     "metadata": {},
     "output_type": "display_data"
    }
   ],
   "source": [
    "pdfs = pdf(norm,[-0.194,0.07,0.334])"
   ]
  },
  {
   "cell_type": "code",
   "execution_count": 146,
   "metadata": {},
   "outputs": [
    {
     "data": {
      "text/plain": [
       "3-element Vector{Float64}:\n",
       " 0.10650697891920077\n",
       " 0.7869860421615985\n",
       " 0.10650697891920077"
      ]
     },
     "metadata": {},
     "output_type": "display_data"
    }
   ],
   "source": [
    "pdfs/sum(pdfs)"
   ]
  },
  {
   "cell_type": "code",
   "execution_count": 147,
   "metadata": {},
   "outputs": [
    {
     "data": {
      "text/plain": [
       "0.024692612590371414"
      ]
     },
     "metadata": {},
     "output_type": "display_data"
    }
   ],
   "source": [
    "log(1.025)"
   ]
  },
  {
   "cell_type": "code",
   "execution_count": 148,
   "metadata": {},
   "outputs": [
    {
     "name": "stdout",
     "output_type": "stream",
     "text": [
      "0.22700056588232437\n",
      "0.2947137594344723\n"
     ]
    }
   ],
   "source": [
    "t = 5\n",
    "cpi = log(1.0247)\n",
    "mu = (0.0698-cpi) * t\n",
    "sig = 0.1318 * t^0.5\n",
    "println(mu)\n",
    "println(sig)"
   ]
  },
  {
   "cell_type": "code",
   "execution_count": 149,
   "metadata": {},
   "outputs": [
    {
     "data": {
      "text/plain": [
       "4-element LinRange{Float64, Int64}:\n",
       " -2.1, -0.9, 0.3, 1.5"
      ]
     },
     "metadata": {},
     "output_type": "display_data"
    }
   ],
   "source": [
    "zr= LinRange(-2.1,1.5,4)"
   ]
  },
  {
   "cell_type": "code",
   "execution_count": 150,
   "metadata": {},
   "outputs": [
    {
     "data": {
      "text/plain": [
       "5-element LinRange{Float64, Int64}:\n",
       " -2.2, -1.275, -0.35, 0.575, 1.5"
      ]
     },
     "metadata": {},
     "output_type": "display_data"
    }
   ],
   "source": [
    "zr= LinRange(-2.2,1.5,5) # ten wziety do proby"
   ]
  },
  {
   "cell_type": "code",
   "execution_count": 151,
   "metadata": {},
   "outputs": [
    {
     "data": {
      "text/plain": [
       "5-element Vector{Float64}:\n",
       " 0.03361\n",
       " 0.16769\n",
       " 0.35556\n",
       " 0.32042\n",
       " 0.12272"
      ]
     },
     "metadata": {},
     "output_type": "display_data"
    }
   ],
   "source": [
    "pdfs = pdf(Normal(0,1),zr)\n",
    "r = round.(pdfs/sum(pdfs);digits=5)\n"
   ]
  },
  {
   "cell_type": "code",
   "execution_count": 152,
   "metadata": {},
   "outputs": [
    {
     "data": {
      "text/plain": [
       "4-element Vector{Vector{Float64}}:\n",
       " [0.0011296321, 0.005636060900000001, 0.0119503716, 0.0107693162, 0.0041246192]\n",
       " [0.005636060900000001, 0.028119936100000003, 0.0596238564, 0.0537312298, 0.0205789168]\n",
       " [0.0119503716, 0.0596238564, 0.1264229136, 0.11392853519999999, 0.0436343232]\n",
       " [0.0107693162, 0.0537312298, 0.11392853519999999, 0.10266897639999999, 0.0393219424]"
      ]
     },
     "metadata": {},
     "output_type": "display_data"
    }
   ],
   "source": [
    "[r .* r[n] for n in 1:4]"
   ]
  },
  {
   "cell_type": "code",
   "execution_count": 153,
   "metadata": {},
   "outputs": [
    {
     "data": {
      "text/plain": [
       "5-element Vector{Float64}:\n",
       " -0.4213697048735147\n",
       " -0.14875947739662787\n",
       "  0.12385075008025903\n",
       "  0.39646097755714593\n",
       "  0.6690712050340328"
      ]
     },
     "metadata": {},
     "output_type": "display_data"
    }
   ],
   "source": [
    "r = [mu + z * sig for z in zr]"
   ]
  },
  {
   "cell_type": "code",
   "execution_count": 154,
   "metadata": {},
   "outputs": [
    {
     "data": {
      "text/plain": [
       "5-element Vector{Float64}:\n",
       " 0.66\n",
       " 0.86\n",
       " 1.13\n",
       " 1.49\n",
       " 1.95"
      ]
     },
     "metadata": {},
     "output_type": "display_data"
    }
   ],
   "source": [
    "rd = round.(exp.(r);digits=2) "
   ]
  },
  {
   "cell_type": "code",
   "execution_count": 155,
   "metadata": {},
   "outputs": [
    {
     "data": {
      "text/plain": [
       "5-element Vector{Float64}:\n",
       " -0.34\n",
       " -0.14\n",
       "  0.13\n",
       "  0.49\n",
       "  0.95"
      ]
     },
     "metadata": {},
     "output_type": "display_data"
    }
   ],
   "source": [
    "rd = round.(expm1.(r);digits=2) "
   ]
  },
  {
   "cell_type": "code",
   "execution_count": 156,
   "metadata": {},
   "outputs": [
    {
     "data": {
      "text/plain": [
       "1.0725081812542165"
      ]
     },
     "metadata": {},
     "output_type": "display_data"
    }
   ],
   "source": [
    "exp(0.025+0.045)"
   ]
  },
  {
   "cell_type": "code",
   "execution_count": 157,
   "metadata": {},
   "outputs": [
    {
     "data": {
      "text/plain": [
       "0.15865525393145702"
      ]
     },
     "metadata": {},
     "output_type": "display_data"
    }
   ],
   "source": [
    "pdfs = cdf(Normal(0,1),-1)\n"
   ]
  },
  {
   "cell_type": "code",
   "execution_count": 158,
   "metadata": {},
   "outputs": [
    {
     "data": {
      "text/plain": [
       "0.0766706817339103"
      ]
     },
     "metadata": {},
     "output_type": "display_data"
    }
   ],
   "source": [
    "pdfs = cdf(Normal(mu,sig), -0.1938)"
   ]
  },
  {
   "cell_type": "code",
   "execution_count": 159,
   "metadata": {},
   "outputs": [
    {
     "data": {
      "text/plain": [
       "0.07665725194482177"
      ]
     },
     "metadata": {},
     "output_type": "display_data"
    }
   ],
   "source": [
    "pdfs = cdf(LogNormal(mu,sig), 1-0.1762)"
   ]
  },
  {
   "cell_type": "code",
   "execution_count": 160,
   "metadata": {},
   "outputs": [
    {
     "data": {
      "text/plain": [
       "5-element Vector{Float64}:\n",
       " -1.28\n",
       " -0.52\n",
       "  0.0\n",
       "  0.52\n",
       "  1.28"
      ]
     },
     "metadata": {},
     "output_type": "display_data"
    }
   ],
   "source": [
    "zr = [-1.28, -.52,0, .52, 1.28]"
   ]
  },
  {
   "cell_type": "code",
   "execution_count": 161,
   "metadata": {},
   "outputs": [
    {
     "data": {
      "text/plain": [
       "5-element Vector{Float64}:\n",
       " 0.12147\n",
       " 0.24073\n",
       " 0.27558\n",
       " 0.24073\n",
       " 0.12147"
      ]
     },
     "metadata": {},
     "output_type": "display_data"
    }
   ],
   "source": [
    "pdfs = pdf(Normal(0,1),[-1.28, -.52,0, .52, 1.28])\n",
    "r = round.(pdfs/sum(pdfs);digits=5)"
   ]
  },
  {
   "cell_type": "code",
   "execution_count": 162,
   "metadata": {},
   "outputs": [
    {
     "data": {
      "text/plain": [
       "5-element Vector{Float64}:\n",
       " -0.15023304619380018\n",
       "  0.07374941097639875\n",
       "  0.22700056588232437\n",
       "  0.38025172078825\n",
       "  0.6042341779584489"
      ]
     },
     "metadata": {},
     "output_type": "display_data"
    }
   ],
   "source": [
    "r = [mu + z * sig for z in zr]"
   ]
  }
 ],
 "metadata": {
  "kernelspec": {
   "display_name": "Julia 1.10.2",
   "language": "julia",
   "name": "julia-1.10"
  },
  "language_info": {
   "file_extension": ".jl",
   "mimetype": "application/julia",
   "name": "julia",
   "version": "1.10.2"
  }
 },
 "nbformat": 4,
 "nbformat_minor": 2
}
