{
 "cells": [
  {
   "cell_type": "code",
   "execution_count": null,
   "metadata": {},
   "outputs": [],
   "source": [
    "import Pkg\n",
    "Pkg.add(\"PrettyTables\")"
   ]
  },
  {
   "cell_type": "code",
   "execution_count": 1,
   "metadata": {},
   "outputs": [],
   "source": [
    "using DataFrames, FredData, XLSX, SHA, Dates, CSV, TimeSeries, StatsBase, HiddenMarkovModels, Distributions, Plots, PrettyTables"
   ]
  },
  {
   "cell_type": "code",
   "execution_count": 3,
   "metadata": {},
   "outputs": [
    {
     "data": {
      "text/plain": [
       "train_hmm (generic function with 2 methods)"
      ]
     },
     "metadata": {},
     "output_type": "display_data"
    }
   ],
   "source": [
    "function guess_init(n_scenarios)\n",
    "    regimes_probs = rand(1:100,n_scenarios)\n",
    "    return regimes_probs/sum(regimes_probs)\n",
    "end\n",
    "\n",
    "function guess_tmatrix(n_scenarios)\n",
    "    regimes_probs = rand(1:100,n_scenarios,n_scenarios)\n",
    "    return regimes_probs ./ sum(regimes_probs,dims=2)\n",
    "end\n",
    "\n",
    "function guess_distribution()\n",
    "    sigma = rand(Uniform(0,0.25))\n",
    "    means = rand(Uniform(-0.25,0.25))\n",
    "    return Normal(means,sigma)\n",
    "end\n",
    "\n",
    "function train_hmm(data, n_scenarios = 2)\n",
    "\n",
    "    function guess_distribution()\n",
    "        sigma = rand(Uniform(0,0.25))\n",
    "        means = rand(Uniform(-0.25,0.25))\n",
    "        return Normal(means,sigma)\n",
    "    end\n",
    "    \n",
    "    init_guess = guess_init(n_scenarios)\n",
    "    guess_matrix = guess_tmatrix(n_scenarios)\n",
    "    guess_dist = [guess_distribution() for s in 1:n_scenarios]\n",
    "    hmm_guess = HMM(init_guess, guess_matrix, guess_dist);\n",
    "    return hmm_est, loglikelihood_evolution = baum_welch(hmm_guess, data);\n",
    "end "
   ]
  },
  {
   "cell_type": "code",
   "execution_count": 4,
   "metadata": {},
   "outputs": [
    {
     "data": {
      "text/plain": [
       "regime_summary (generic function with 2 methods)"
      ]
     },
     "metadata": {},
     "output_type": "display_data"
    }
   ],
   "source": [
    "function regime_summary(loglikehood,hmm_est, freq = 1)\n",
    "        tm = transition_matrix(hmm_est)\n",
    "        \n",
    "   return DataFrame(Dict(\n",
    "      \"mu1\" => mean(obs_distributions(hmm_est)[1]) * freq,\n",
    "      \"sig1\" => std(obs_distributions(hmm_est)[1]) *  freq^0.5,\n",
    "      \"mu2\" => mean(obs_distributions(hmm_est)[2]) * freq,\n",
    "      \"sig2\" => std(obs_distributions(hmm_est)[2]) * freq^0.5,       \n",
    "      \"p11\" =>  tm[1,1],\n",
    "      \"p21\" =>  tm[2,1],\n",
    "      \"loglikehood\" => last(loglikehood),\n",
    "      \"prob1\" =>  tm[2,1]/(tm[1,2]+tm[2,1])\n",
    "      \n",
    "  )) \n",
    "  end"
   ]
  },
  {
   "cell_type": "code",
   "execution_count": 5,
   "metadata": {},
   "outputs": [
    {
     "data": {
      "text/plain": [
       "regime_summary_2 (generic function with 2 methods)"
      ]
     },
     "metadata": {},
     "output_type": "display_data"
    }
   ],
   "source": [
    "function regime_summary_2(loglikehood,hmm_est, freq = 1)\n",
    "    tm = transition_matrix(hmm_est),\n",
    "    n_regimes = length(initialization(hmm_est))\n",
    "    dict = Dict()\n",
    "   \n",
    "    return n_regimes\n",
    "      \n",
    "end\n"
   ]
  },
  {
   "cell_type": "code",
   "execution_count": 6,
   "metadata": {},
   "outputs": [
    {
     "data": {
      "text/plain": [
       "615×8 TimeArray{Union{Missing, Float64}, 2, Date, Matrix{Union{Missing, Float64}}} 1973-01-31 to 2024-03-31\n",
       "┌────────────┬────────────┬─────────────┬──────────────┬──────────────┬─────────\n",
       "│\u001b[1m            \u001b[0m│\u001b[1m ACWI_Net   \u001b[0m│\u001b[1m USDPLN      \u001b[0m│\u001b[1m ACWI_Net_PLN \u001b[0m│\u001b[1m CPI_USA      \u001b[0m│\u001b[1m CPI_PL\u001b[0m ⋯\n",
       "├────────────┼────────────┼─────────────┼──────────────┼──────────────┼─────────\n",
       "│ 1973-01-31 │    missing │     missing │      missing │   0.00235067 │     mi ⋯\n",
       "│ 1973-02-28 │    missing │     missing │      missing │   0.00701905 │     mi ⋯\n",
       "│ 1973-03-31 │    missing │     missing │      missing │   0.00927727 │     mi ⋯\n",
       "│ 1973-04-30 │    missing │     missing │      missing │   0.00690598 │     mi ⋯\n",
       "│ 1973-05-31 │    missing │     missing │      missing │   0.00685862 │     mi ⋯\n",
       "│ 1973-06-30 │    missing │     missing │      missing │    0.0068119 │     mi ⋯\n",
       "│ 1973-07-31 │    missing │     missing │      missing │   0.00225501 │     mi ⋯\n",
       "│ 1973-08-31 │    missing │     missing │      missing │    0.0179014 │     mi ⋯\n",
       "│     ⋮      │     ⋮      │      ⋮      │      ⋮       │      ⋮       │      ⋮ ⋱\n",
       "│ 2023-09-30 │  -0.042229 │   0.0576333 │    0.0154043 │   0.00248268 │ -0.003 ⋯\n",
       "│ 2023-10-31 │  -0.030529 │  -0.0361159 │    -0.066645 │ -0.000383565 │  0.002 ⋯\n",
       "│ 2023-11-30 │  0.0882833 │  -0.0525834 │    0.0356998 │  -0.00201729 │  0.007 ⋯\n",
       "│ 2023-12-31 │  0.0469154 │  -0.0158441 │    0.0310713 │ -0.000993947 │  0.001 ⋯\n",
       "│ 2024-01-31 │ 0.00584454 │   0.0175065 │    0.0233511 │   0.00543262 │  0.003 ⋯\n",
       "│ 2024-02-29 │  0.0420184 │ -0.00252589 │    0.0394925 │   0.00617115 │  0.002 ⋯\n",
       "│ 2024-03-31 │  0.0309141 │ -0.00107732 │    0.0298368 │   0.00644296 │  0.002 ⋯\n",
       "└────────────┴────────────┴─────────────┴──────────────┴──────────────┴─────────\n",
       "\u001b[36m                                                  4 columns and 600 rows omitted\u001b[0m"
      ]
     },
     "metadata": {},
     "output_type": "display_data"
    }
   ],
   "source": [
    "source_data = TimeArray(CSV.File(\"assets_data_03.24.csv\", delim=';', dateformat=Dict(\"Date\" => \"dd.mm.yyyy\"), decimal=','),timestamp=:Date)\n",
    "returns = percentchange(source_data, :log)"
   ]
  },
  {
   "cell_type": "code",
   "execution_count": 7,
   "metadata": {},
   "outputs": [
    {
     "data": {
      "text/html": [
       "<div><div style = \"float: left;\"><span>3×9 DataFrame</span></div><div style = \"clear: both;\"></div></div><div class = \"data-frame\" style = \"overflow-x: scroll;\"><table class = \"data-frame\" style = \"margin-bottom: 6px;\"><thead><tr class = \"header\"><th class = \"rowNumber\" style = \"font-weight: bold; text-align: right;\">Row</th><th style = \"text-align: left;\">mean</th><th style = \"text-align: left;\">sd</th><th style = \"text-align: left;\">min</th><th style = \"text-align: left;\">q25</th><th style = \"text-align: left;\">median</th><th style = \"text-align: left;\">q75</th><th style = \"text-align: left;\">max</th><th style = \"text-align: left;\">nobs</th><th style = \"text-align: left;\">nmiss</th></tr><tr class = \"subheader headerLastRow\"><th class = \"rowNumber\" style = \"font-weight: bold; text-align: right;\"></th><th title = \"Float64\" style = \"text-align: left;\">Float64</th><th title = \"Float64\" style = \"text-align: left;\">Float64</th><th title = \"Float64\" style = \"text-align: left;\">Float64</th><th title = \"Float64\" style = \"text-align: left;\">Float64</th><th title = \"Float64\" style = \"text-align: left;\">Float64</th><th title = \"Float64\" style = \"text-align: left;\">Float64</th><th title = \"Float64\" style = \"text-align: left;\">Float64</th><th title = \"Int64\" style = \"text-align: left;\">Int64</th><th title = \"Int64\" style = \"text-align: left;\">Int64</th></tr></thead><tbody><tr><td class = \"rowNumber\" style = \"font-weight: bold; text-align: right;\">1</td><td style = \"text-align: right;\">0.00622469</td><td style = \"text-align: right;\">0.0443616</td><td style = \"text-align: right;\">-0.220834</td><td style = \"text-align: right;\">-0.0181497</td><td style = \"text-align: right;\">0.0124942</td><td style = \"text-align: right;\">0.0330787</td><td style = \"text-align: right;\">0.116238</td><td style = \"text-align: right;\">615</td><td style = \"text-align: right;\">180</td></tr><tr><td class = \"rowNumber\" style = \"font-weight: bold; text-align: right;\">2</td><td style = \"text-align: right;\">0.000397277</td><td style = \"text-align: right;\">0.0371301</td><td style = \"text-align: right;\">-0.094026</td><td style = \"text-align: right;\">-0.0247304</td><td style = \"text-align: right;\">-0.00190905</td><td style = \"text-align: right;\">0.0234364</td><td style = \"text-align: right;\">0.166496</td><td style = \"text-align: right;\">615</td><td style = \"text-align: right;\">300</td></tr><tr><td class = \"rowNumber\" style = \"font-weight: bold; text-align: right;\">3</td><td style = \"text-align: right;\">0.00581535</td><td style = \"text-align: right;\">0.0380711</td><td style = \"text-align: right;\">-0.111985</td><td style = \"text-align: right;\">-0.0159863</td><td style = \"text-align: right;\">0.00790446</td><td style = \"text-align: right;\">0.0323534</td><td style = \"text-align: right;\">0.105947</td><td style = \"text-align: right;\">615</td><td style = \"text-align: right;\">300</td></tr></tbody></table></div>"
      ],
      "text/latex": [
       "\\begin{tabular}{r|cccccccc}\n",
       "\t& mean & sd & min & q25 & median & q75 & max & \\\\\n",
       "\t\\hline\n",
       "\t& Float64 & Float64 & Float64 & Float64 & Float64 & Float64 & Float64 & \\\\\n",
       "\t\\hline\n",
       "\t1 & 0.00622469 & 0.0443616 & -0.220834 & -0.0181497 & 0.0124942 & 0.0330787 & 0.116238 & $\\dots$ \\\\\n",
       "\t2 & 0.000397277 & 0.0371301 & -0.094026 & -0.0247304 & -0.00190905 & 0.0234364 & 0.166496 & $\\dots$ \\\\\n",
       "\t3 & 0.00581535 & 0.0380711 & -0.111985 & -0.0159863 & 0.00790446 & 0.0323534 & 0.105947 & $\\dots$ \\\\\n",
       "\\end{tabular}\n"
      ],
      "text/plain": [
       "\u001b[1m3×9 DataFrame\u001b[0m\n",
       "\u001b[1m Row \u001b[0m│\u001b[1m mean        \u001b[0m\u001b[1m sd        \u001b[0m\u001b[1m min       \u001b[0m\u001b[1m q25        \u001b[0m\u001b[1m median      \u001b[0m\u001b[1m q75       \u001b[0m\u001b[1m \u001b[0m ⋯\n",
       "     │\u001b[90m Float64     \u001b[0m\u001b[90m Float64   \u001b[0m\u001b[90m Float64   \u001b[0m\u001b[90m Float64    \u001b[0m\u001b[90m Float64     \u001b[0m\u001b[90m Float64   \u001b[0m\u001b[90m \u001b[0m ⋯\n",
       "─────┼──────────────────────────────────────────────────────────────────────────\n",
       "   1 │ 0.00622469   0.0443616  -0.220834  -0.0181497   0.0124942   0.0330787   ⋯\n",
       "   2 │ 0.000397277  0.0371301  -0.094026  -0.0247304  -0.00190905  0.0234364\n",
       "   3 │ 0.00581535   0.0380711  -0.111985  -0.0159863   0.00790446  0.0323534\n",
       "\u001b[36m                                                               3 columns omitted\u001b[0m"
      ]
     },
     "metadata": {},
     "output_type": "display_data"
    }
   ],
   "source": [
    "stats = summarystats.(eachcol(values(returns)))\n",
    "\n",
    "stats = DataFrame([stats[1],stats[2],stats[3]])\n"
   ]
  },
  {
   "cell_type": "code",
   "execution_count": 9,
   "metadata": {},
   "outputs": [
    {
     "name": "stdout",
     "output_type": "stream",
     "text": [
      "ACWI long 2\n"
     ]
    },
    {
     "data": {
      "text/html": [
       "<div><div style = \"float: left;\"><span>1×8 DataFrame</span></div><div style = \"clear: both;\"></div></div><div class = \"data-frame\" style = \"overflow-x: scroll;\"><table class = \"data-frame\" style = \"margin-bottom: 6px;\"><thead><tr class = \"header\"><th class = \"rowNumber\" style = \"font-weight: bold; text-align: right;\">Row</th><th style = \"text-align: left;\">loglikehood</th><th style = \"text-align: left;\">mu1</th><th style = \"text-align: left;\">mu2</th><th style = \"text-align: left;\">p11</th><th style = \"text-align: left;\">p21</th><th style = \"text-align: left;\">prob1</th><th style = \"text-align: left;\">sig1</th><th style = \"text-align: left;\">sig2</th></tr><tr class = \"subheader headerLastRow\"><th class = \"rowNumber\" style = \"font-weight: bold; text-align: right;\"></th><th title = \"Float64\" style = \"text-align: left;\">Float64</th><th title = \"Float64\" style = \"text-align: left;\">Float64</th><th title = \"Float64\" style = \"text-align: left;\">Float64</th><th title = \"Float64\" style = \"text-align: left;\">Float64</th><th title = \"Float64\" style = \"text-align: left;\">Float64</th><th title = \"Float64\" style = \"text-align: left;\">Float64</th><th title = \"Float64\" style = \"text-align: left;\">Float64</th><th title = \"Float64\" style = \"text-align: left;\">Float64</th></tr></thead><tbody><tr><td class = \"rowNumber\" style = \"font-weight: bold; text-align: right;\">1</td><td style = \"text-align: right;\">774.685</td><td style = \"text-align: right;\">-0.0115799</td><td style = \"text-align: right;\">0.160692</td><td style = \"text-align: right;\">0.94196</td><td style = \"text-align: right;\">0.0597904</td><td style = \"text-align: right;\">0.507429</td><td style = \"text-align: right;\">0.195715</td><td style = \"text-align: right;\">0.0873575</td></tr></tbody></table></div>"
      ],
      "text/latex": [
       "\\begin{tabular}{r|cccccccc}\n",
       "\t& loglikehood & mu1 & mu2 & p11 & p21 & prob1 & sig1 & sig2\\\\\n",
       "\t\\hline\n",
       "\t& Float64 & Float64 & Float64 & Float64 & Float64 & Float64 & Float64 & Float64\\\\\n",
       "\t\\hline\n",
       "\t1 & 774.685 & -0.0115799 & 0.160692 & 0.94196 & 0.0597904 & 0.507429 & 0.195715 & 0.0873575 \\\\\n",
       "\\end{tabular}\n"
      ],
      "text/plain": [
       "\u001b[1m1×8 DataFrame\u001b[0m\n",
       "\u001b[1m Row \u001b[0m│\u001b[1m loglikehood \u001b[0m\u001b[1m mu1        \u001b[0m\u001b[1m mu2      \u001b[0m\u001b[1m p11     \u001b[0m\u001b[1m p21       \u001b[0m\u001b[1m prob1    \u001b[0m\u001b[1m sig1  \u001b[0m ⋯\n",
       "     │\u001b[90m Float64     \u001b[0m\u001b[90m Float64    \u001b[0m\u001b[90m Float64  \u001b[0m\u001b[90m Float64 \u001b[0m\u001b[90m Float64   \u001b[0m\u001b[90m Float64  \u001b[0m\u001b[90m Float6\u001b[0m ⋯\n",
       "─────┼──────────────────────────────────────────────────────────────────────────\n",
       "   1 │     774.685  -0.0115799  0.160692  0.94196  0.0597904  0.507429  0.1957 ⋯\n",
       "\u001b[36m                                                               2 columns omitted\u001b[0m"
      ]
     },
     "metadata": {},
     "output_type": "display_data"
    }
   ],
   "source": [
    "acwi_long = identity.(values(from(returns[:ACWI_Net,],Date(1988,01,01))))\n",
    "hmm_est, loglikehood = train_hmm(acwi_long,2)\n",
    "println(\"ACWI long 2\")\n",
    "regime_summary(loglikehood,hmm_est,12)"
   ]
  },
  {
   "cell_type": "code",
   "execution_count": 10,
   "metadata": {},
   "outputs": [
    {
     "name": "stdout",
     "output_type": "stream",
     "text": [
      "ACWI long 4\n"
     ]
    },
    {
     "data": {
      "text/html": [
       "<div><div style = \"float: left;\"><span>1×8 DataFrame</span></div><div style = \"clear: both;\"></div></div><div class = \"data-frame\" style = \"overflow-x: scroll;\"><table class = \"data-frame\" style = \"margin-bottom: 6px;\"><thead><tr class = \"header\"><th class = \"rowNumber\" style = \"font-weight: bold; text-align: right;\">Row</th><th style = \"text-align: left;\">loglikehood</th><th style = \"text-align: left;\">mu1</th><th style = \"text-align: left;\">mu2</th><th style = \"text-align: left;\">p11</th><th style = \"text-align: left;\">p21</th><th style = \"text-align: left;\">prob1</th><th style = \"text-align: left;\">sig1</th><th style = \"text-align: left;\">sig2</th></tr><tr class = \"subheader headerLastRow\"><th class = \"rowNumber\" style = \"font-weight: bold; text-align: right;\"></th><th title = \"Float64\" style = \"text-align: left;\">Float64</th><th title = \"Float64\" style = \"text-align: left;\">Float64</th><th title = \"Float64\" style = \"text-align: left;\">Float64</th><th title = \"Float64\" style = \"text-align: left;\">Float64</th><th title = \"Float64\" style = \"text-align: left;\">Float64</th><th title = \"Float64\" style = \"text-align: left;\">Float64</th><th title = \"Float64\" style = \"text-align: left;\">Float64</th><th title = \"Float64\" style = \"text-align: left;\">Float64</th></tr></thead><tbody><tr><td class = \"rowNumber\" style = \"font-weight: bold; text-align: right;\">1</td><td style = \"text-align: right;\">795.791</td><td style = \"text-align: right;\">-0.455771</td><td style = \"text-align: right;\">-0.294671</td><td style = \"text-align: right;\">0.722673</td><td style = \"text-align: right;\">0.229254</td><td style = \"text-align: right;\">1.0</td><td style = \"text-align: right;\">0.195794</td><td style = \"text-align: right;\">0.0725377</td></tr></tbody></table></div>"
      ],
      "text/latex": [
       "\\begin{tabular}{r|cccccccc}\n",
       "\t& loglikehood & mu1 & mu2 & p11 & p21 & prob1 & sig1 & sig2\\\\\n",
       "\t\\hline\n",
       "\t& Float64 & Float64 & Float64 & Float64 & Float64 & Float64 & Float64 & Float64\\\\\n",
       "\t\\hline\n",
       "\t1 & 795.791 & -0.455771 & -0.294671 & 0.722673 & 0.229254 & 1.0 & 0.195794 & 0.0725377 \\\\\n",
       "\\end{tabular}\n"
      ],
      "text/plain": [
       "\u001b[1m1×8 DataFrame\u001b[0m\n",
       "\u001b[1m Row \u001b[0m│\u001b[1m loglikehood \u001b[0m\u001b[1m mu1       \u001b[0m\u001b[1m mu2       \u001b[0m\u001b[1m p11      \u001b[0m\u001b[1m p21      \u001b[0m\u001b[1m prob1   \u001b[0m\u001b[1m sig1   \u001b[0m ⋯\n",
       "     │\u001b[90m Float64     \u001b[0m\u001b[90m Float64   \u001b[0m\u001b[90m Float64   \u001b[0m\u001b[90m Float64  \u001b[0m\u001b[90m Float64  \u001b[0m\u001b[90m Float64 \u001b[0m\u001b[90m Float64\u001b[0m ⋯\n",
       "─────┼──────────────────────────────────────────────────────────────────────────\n",
       "   1 │     795.791  -0.455771  -0.294671  0.722673  0.229254      1.0  0.19579 ⋯\n",
       "\u001b[36m                                                               2 columns omitted\u001b[0m"
      ]
     },
     "metadata": {},
     "output_type": "display_data"
    }
   ],
   "source": [
    "hmm_est, loglikehood = train_hmm(acwi_long,4)\n",
    "println(\"ACWI long 4\")\n",
    "regime_summary(loglikehood,hmm_est,12)"
   ]
  },
  {
   "cell_type": "code",
   "execution_count": 11,
   "metadata": {},
   "outputs": [
    {
     "data": {
      "text/html": [
       "<div><div style = \"float: left;\"><span>1×8 DataFrame</span></div><div style = \"clear: both;\"></div></div><div class = \"data-frame\" style = \"overflow-x: scroll;\"><table class = \"data-frame\" style = \"margin-bottom: 6px;\"><thead><tr class = \"header\"><th class = \"rowNumber\" style = \"font-weight: bold; text-align: right;\">Row</th><th style = \"text-align: left;\">loglikehood</th><th style = \"text-align: left;\">mu1</th><th style = \"text-align: left;\">mu2</th><th style = \"text-align: left;\">p11</th><th style = \"text-align: left;\">p21</th><th style = \"text-align: left;\">prob1</th><th style = \"text-align: left;\">sig1</th><th style = \"text-align: left;\">sig2</th></tr><tr class = \"subheader headerLastRow\"><th class = \"rowNumber\" style = \"font-weight: bold; text-align: right;\"></th><th title = \"Float64\" style = \"text-align: left;\">Float64</th><th title = \"Float64\" style = \"text-align: left;\">Float64</th><th title = \"Float64\" style = \"text-align: left;\">Float64</th><th title = \"Float64\" style = \"text-align: left;\">Float64</th><th title = \"Float64\" style = \"text-align: left;\">Float64</th><th title = \"Float64\" style = \"text-align: left;\">Float64</th><th title = \"Float64\" style = \"text-align: left;\">Float64</th><th title = \"Float64\" style = \"text-align: left;\">Float64</th></tr></thead><tbody><tr><td class = \"rowNumber\" style = \"font-weight: bold; text-align: right;\">1</td><td style = \"text-align: right;\">550.318</td><td style = \"text-align: right;\">-0.0300665</td><td style = \"text-align: right;\">0.173382</td><td style = \"text-align: right;\">0.943248</td><td style = \"text-align: right;\">0.0674221</td><td style = \"text-align: right;\">0.542964</td><td style = \"text-align: right;\">0.202369</td><td style = \"text-align: right;\">0.0833695</td></tr></tbody></table></div>"
      ],
      "text/latex": [
       "\\begin{tabular}{r|cccccccc}\n",
       "\t& loglikehood & mu1 & mu2 & p11 & p21 & prob1 & sig1 & sig2\\\\\n",
       "\t\\hline\n",
       "\t& Float64 & Float64 & Float64 & Float64 & Float64 & Float64 & Float64 & Float64\\\\\n",
       "\t\\hline\n",
       "\t1 & 550.318 & -0.0300665 & 0.173382 & 0.943248 & 0.0674221 & 0.542964 & 0.202369 & 0.0833695 \\\\\n",
       "\\end{tabular}\n"
      ],
      "text/plain": [
       "\u001b[1m1×8 DataFrame\u001b[0m\n",
       "\u001b[1m Row \u001b[0m│\u001b[1m loglikehood \u001b[0m\u001b[1m mu1        \u001b[0m\u001b[1m mu2      \u001b[0m\u001b[1m p11      \u001b[0m\u001b[1m p21       \u001b[0m\u001b[1m prob1    \u001b[0m\u001b[1m sig1 \u001b[0m ⋯\n",
       "     │\u001b[90m Float64     \u001b[0m\u001b[90m Float64    \u001b[0m\u001b[90m Float64  \u001b[0m\u001b[90m Float64  \u001b[0m\u001b[90m Float64   \u001b[0m\u001b[90m Float64  \u001b[0m\u001b[90m Float\u001b[0m ⋯\n",
       "─────┼──────────────────────────────────────────────────────────────────────────\n",
       "   1 │     550.318  -0.0300665  0.173382  0.943248  0.0674221  0.542964  0.202 ⋯\n",
       "\u001b[36m                                                               2 columns omitted\u001b[0m"
      ]
     },
     "metadata": {},
     "output_type": "display_data"
    }
   ],
   "source": [
    "acwi_98 = identity.(values(from(returns[:ACWI_Net],Date(1998,01,01))))\n",
    "hmm_est, loglikehood = train_hmm(acwi_98,2)\n",
    "regime_summary(loglikehood,hmm_est,12)"
   ]
  },
  {
   "cell_type": "code",
   "execution_count": 12,
   "metadata": {},
   "outputs": [
    {
     "data": {
      "text/html": [
       "<div><div style = \"float: left;\"><span>1×8 DataFrame</span></div><div style = \"clear: both;\"></div></div><div class = \"data-frame\" style = \"overflow-x: scroll;\"><table class = \"data-frame\" style = \"margin-bottom: 6px;\"><thead><tr class = \"header\"><th class = \"rowNumber\" style = \"font-weight: bold; text-align: right;\">Row</th><th style = \"text-align: left;\">loglikehood</th><th style = \"text-align: left;\">mu1</th><th style = \"text-align: left;\">mu2</th><th style = \"text-align: left;\">p11</th><th style = \"text-align: left;\">p21</th><th style = \"text-align: left;\">prob1</th><th style = \"text-align: left;\">sig1</th><th style = \"text-align: left;\">sig2</th></tr><tr class = \"subheader headerLastRow\"><th class = \"rowNumber\" style = \"font-weight: bold; text-align: right;\"></th><th title = \"Float64\" style = \"text-align: left;\">Float64</th><th title = \"Float64\" style = \"text-align: left;\">Float64</th><th title = \"Float64\" style = \"text-align: left;\">Float64</th><th title = \"Float64\" style = \"text-align: left;\">Float64</th><th title = \"Float64\" style = \"text-align: left;\">Float64</th><th title = \"Float64\" style = \"text-align: left;\">Float64</th><th title = \"Float64\" style = \"text-align: left;\">Float64</th><th title = \"Float64\" style = \"text-align: left;\">Float64</th></tr></thead><tbody><tr><td class = \"rowNumber\" style = \"font-weight: bold; text-align: right;\">1</td><td style = \"text-align: right;\">459.165</td><td style = \"text-align: right;\">-0.0133202</td><td style = \"text-align: right;\">0.168608</td><td style = \"text-align: right;\">0.919349</td><td style = \"text-align: right;\">0.0622193</td><td style = \"text-align: right;\">0.435494</td><td style = \"text-align: right;\">0.210608</td><td style = \"text-align: right;\">0.0812767</td></tr></tbody></table></div>"
      ],
      "text/latex": [
       "\\begin{tabular}{r|cccccccc}\n",
       "\t& loglikehood & mu1 & mu2 & p11 & p21 & prob1 & sig1 & sig2\\\\\n",
       "\t\\hline\n",
       "\t& Float64 & Float64 & Float64 & Float64 & Float64 & Float64 & Float64 & Float64\\\\\n",
       "\t\\hline\n",
       "\t1 & 459.165 & -0.0133202 & 0.168608 & 0.919349 & 0.0622193 & 0.435494 & 0.210608 & 0.0812767 \\\\\n",
       "\\end{tabular}\n"
      ],
      "text/plain": [
       "\u001b[1m1×8 DataFrame\u001b[0m\n",
       "\u001b[1m Row \u001b[0m│\u001b[1m loglikehood \u001b[0m\u001b[1m mu1        \u001b[0m\u001b[1m mu2      \u001b[0m\u001b[1m p11      \u001b[0m\u001b[1m p21       \u001b[0m\u001b[1m prob1    \u001b[0m\u001b[1m sig1 \u001b[0m ⋯\n",
       "     │\u001b[90m Float64     \u001b[0m\u001b[90m Float64    \u001b[0m\u001b[90m Float64  \u001b[0m\u001b[90m Float64  \u001b[0m\u001b[90m Float64   \u001b[0m\u001b[90m Float64  \u001b[0m\u001b[90m Float\u001b[0m ⋯\n",
       "─────┼──────────────────────────────────────────────────────────────────────────\n",
       "   1 │     459.165  -0.0133202  0.168608  0.919349  0.0622193  0.435494  0.210 ⋯\n",
       "\u001b[36m                                                               2 columns omitted\u001b[0m"
      ]
     },
     "metadata": {},
     "output_type": "display_data"
    }
   ],
   "source": [
    "acwi_03 = identity.(values(from(returns[:ACWI_Net],Date(2003,01,01))))\n",
    "hmm_est, loglikehood = train_hmm(acwi_03,2)\n",
    "regime_summary(loglikehood,hmm_est,12)"
   ]
  },
  {
   "cell_type": "code",
   "execution_count": 49,
   "metadata": {},
   "outputs": [
    {
     "name": "stdout",
     "output_type": "stream",
     "text": [
      "mean 0.06978414756872021, std: 0.13188218245803085\n"
     ]
    },
    {
     "data": {
      "text/html": [
       "<div><div style = \"float: left;\"><span>1×8 DataFrame</span></div><div style = \"clear: both;\"></div></div><div class = \"data-frame\" style = \"overflow-x: scroll;\"><table class = \"data-frame\" style = \"margin-bottom: 6px;\"><thead><tr class = \"header\"><th class = \"rowNumber\" style = \"font-weight: bold; text-align: right;\">Row</th><th style = \"text-align: left;\">loglikehood</th><th style = \"text-align: left;\">mu1</th><th style = \"text-align: left;\">mu2</th><th style = \"text-align: left;\">p11</th><th style = \"text-align: left;\">p21</th><th style = \"text-align: left;\">prob1</th><th style = \"text-align: left;\">sig1</th><th style = \"text-align: left;\">sig2</th></tr><tr class = \"subheader headerLastRow\"><th class = \"rowNumber\" style = \"font-weight: bold; text-align: right;\"></th><th title = \"Float64\" style = \"text-align: left;\">Float64</th><th title = \"Float64\" style = \"text-align: left;\">Float64</th><th title = \"Float64\" style = \"text-align: left;\">Float64</th><th title = \"Float64\" style = \"text-align: left;\">Float64</th><th title = \"Float64\" style = \"text-align: left;\">Float64</th><th title = \"Float64\" style = \"text-align: left;\">Float64</th><th title = \"Float64\" style = \"text-align: left;\">Float64</th><th title = \"Float64\" style = \"text-align: left;\">Float64</th></tr></thead><tbody><tr><td class = \"rowNumber\" style = \"font-weight: bold; text-align: right;\">1</td><td style = \"text-align: right;\">603.335</td><td style = \"text-align: right;\">0.0134082</td><td style = \"text-align: right;\">-0.0133853</td><td style = \"text-align: right;\">0.950332</td><td style = \"text-align: right;\">0.124522</td><td style = \"text-align: right;\">0.714862</td><td style = \"text-align: right;\">0.0276528</td><td style = \"text-align: right;\">0.0514806</td></tr></tbody></table></div>"
      ],
      "text/latex": [
       "\\begin{tabular}{r|cccccccc}\n",
       "\t& loglikehood & mu1 & mu2 & p11 & p21 & prob1 & sig1 & sig2\\\\\n",
       "\t\\hline\n",
       "\t& Float64 & Float64 & Float64 & Float64 & Float64 & Float64 & Float64 & Float64\\\\\n",
       "\t\\hline\n",
       "\t1 & 603.335 & 0.0134082 & -0.0133853 & 0.950332 & 0.124522 & 0.714862 & 0.0276528 & 0.0514806 \\\\\n",
       "\\end{tabular}\n"
      ],
      "text/plain": [
       "\u001b[1m1×8 DataFrame\u001b[0m\n",
       "\u001b[1m Row \u001b[0m│\u001b[1m loglikehood \u001b[0m\u001b[1m mu1       \u001b[0m\u001b[1m mu2        \u001b[0m\u001b[1m p11      \u001b[0m\u001b[1m p21      \u001b[0m\u001b[1m prob1    \u001b[0m\u001b[1m sig1 \u001b[0m ⋯\n",
       "     │\u001b[90m Float64     \u001b[0m\u001b[90m Float64   \u001b[0m\u001b[90m Float64    \u001b[0m\u001b[90m Float64  \u001b[0m\u001b[90m Float64  \u001b[0m\u001b[90m Float64  \u001b[0m\u001b[90m Float\u001b[0m ⋯\n",
       "─────┼──────────────────────────────────────────────────────────────────────────\n",
       "   1 │     603.335  0.0134082  -0.0133853  0.950332  0.124522  0.714862  0.027 ⋯\n",
       "\u001b[36m                                                               2 columns omitted\u001b[0m"
      ]
     },
     "metadata": {},
     "output_type": "display_data"
    }
   ],
   "source": [
    "acwi_pln_98 = identity.(values(from(returns[:ACWI_Net_PLN],Date(1998,01,01))))\n",
    "println(\"mean $(mean(acwi_pln_98)*12), std: $(std(acwi_pln_98)*12^0.5)\")\n",
    "hmm_est_98_PLN, loglikehood = train_hmm(acwi_pln_98,2)\n",
    "regime_summary(loglikehood,hmm_est_98_PLN,1)"
   ]
  },
  {
   "cell_type": "code",
   "execution_count": 14,
   "metadata": {},
   "outputs": [
    {
     "data": {
      "text/html": [
       "<div><div style = \"float: left;\"><span>1×8 DataFrame</span></div><div style = \"clear: both;\"></div></div><div class = \"data-frame\" style = \"overflow-x: scroll;\"><table class = \"data-frame\" style = \"margin-bottom: 6px;\"><thead><tr class = \"header\"><th class = \"rowNumber\" style = \"font-weight: bold; text-align: right;\">Row</th><th style = \"text-align: left;\">loglikehood</th><th style = \"text-align: left;\">mu1</th><th style = \"text-align: left;\">mu2</th><th style = \"text-align: left;\">p11</th><th style = \"text-align: left;\">p21</th><th style = \"text-align: left;\">prob1</th><th style = \"text-align: left;\">sig1</th><th style = \"text-align: left;\">sig2</th></tr><tr class = \"subheader headerLastRow\"><th class = \"rowNumber\" style = \"font-weight: bold; text-align: right;\"></th><th title = \"Float64\" style = \"text-align: left;\">Float64</th><th title = \"Float64\" style = \"text-align: left;\">Float64</th><th title = \"Float64\" style = \"text-align: left;\">Float64</th><th title = \"Float64\" style = \"text-align: left;\">Float64</th><th title = \"Float64\" style = \"text-align: left;\">Float64</th><th title = \"Float64\" style = \"text-align: left;\">Float64</th><th title = \"Float64\" style = \"text-align: left;\">Float64</th><th title = \"Float64\" style = \"text-align: left;\">Float64</th></tr></thead><tbody><tr><td class = \"rowNumber\" style = \"font-weight: bold; text-align: right;\">1</td><td style = \"text-align: right;\">543.406</td><td style = \"text-align: right;\">0.143818</td><td style = \"text-align: right;\">-0.149778</td><td style = \"text-align: right;\">0.958618</td><td style = \"text-align: right;\">0.115486</td><td style = \"text-align: right;\">0.736197</td><td style = \"text-align: right;\">0.091143</td><td style = \"text-align: right;\">0.180197</td></tr></tbody></table></div>"
      ],
      "text/latex": [
       "\\begin{tabular}{r|cccccccc}\n",
       "\t& loglikehood & mu1 & mu2 & p11 & p21 & prob1 & sig1 & sig2\\\\\n",
       "\t\\hline\n",
       "\t& Float64 & Float64 & Float64 & Float64 & Float64 & Float64 & Float64 & Float64\\\\\n",
       "\t\\hline\n",
       "\t1 & 543.406 & 0.143818 & -0.149778 & 0.958618 & 0.115486 & 0.736197 & 0.091143 & 0.180197 \\\\\n",
       "\\end{tabular}\n"
      ],
      "text/plain": [
       "\u001b[1m1×8 DataFrame\u001b[0m\n",
       "\u001b[1m Row \u001b[0m│\u001b[1m loglikehood \u001b[0m\u001b[1m mu1      \u001b[0m\u001b[1m mu2       \u001b[0m\u001b[1m p11      \u001b[0m\u001b[1m p21      \u001b[0m\u001b[1m prob1    \u001b[0m\u001b[1m sig1   \u001b[0m ⋯\n",
       "     │\u001b[90m Float64     \u001b[0m\u001b[90m Float64  \u001b[0m\u001b[90m Float64   \u001b[0m\u001b[90m Float64  \u001b[0m\u001b[90m Float64  \u001b[0m\u001b[90m Float64  \u001b[0m\u001b[90m Float64\u001b[0m ⋯\n",
       "─────┼──────────────────────────────────────────────────────────────────────────\n",
       "   1 │     543.406  0.143818  -0.149778  0.958618  0.115486  0.736197  0.09114 ⋯\n",
       "\u001b[36m                                                               2 columns omitted\u001b[0m"
      ]
     },
     "metadata": {},
     "output_type": "display_data"
    }
   ],
   "source": [
    "acwi_pln_01 = identity.(values(from(returns[:ACWI_Net_PLN],Date(2001,01,01))))\n",
    "hmm_est, loglikehood = train_hmm(acwi_pln_01,2)\n",
    "regime_summary(loglikehood,hmm_est,12)"
   ]
  },
  {
   "cell_type": "code",
   "execution_count": 15,
   "metadata": {},
   "outputs": [
    {
     "data": {
      "text/html": [
       "<div><div style = \"float: left;\"><span>1×8 DataFrame</span></div><div style = \"clear: both;\"></div></div><div class = \"data-frame\" style = \"overflow-x: scroll;\"><table class = \"data-frame\" style = \"margin-bottom: 6px;\"><thead><tr class = \"header\"><th class = \"rowNumber\" style = \"font-weight: bold; text-align: right;\">Row</th><th style = \"text-align: left;\">loglikehood</th><th style = \"text-align: left;\">mu1</th><th style = \"text-align: left;\">mu2</th><th style = \"text-align: left;\">p11</th><th style = \"text-align: left;\">p21</th><th style = \"text-align: left;\">prob1</th><th style = \"text-align: left;\">sig1</th><th style = \"text-align: left;\">sig2</th></tr><tr class = \"subheader headerLastRow\"><th class = \"rowNumber\" style = \"font-weight: bold; text-align: right;\"></th><th title = \"Float64\" style = \"text-align: left;\">Float64</th><th title = \"Float64\" style = \"text-align: left;\">Float64</th><th title = \"Float64\" style = \"text-align: left;\">Float64</th><th title = \"Float64\" style = \"text-align: left;\">Float64</th><th title = \"Float64\" style = \"text-align: left;\">Float64</th><th title = \"Float64\" style = \"text-align: left;\">Float64</th><th title = \"Float64\" style = \"text-align: left;\">Float64</th><th title = \"Float64\" style = \"text-align: left;\">Float64</th></tr></thead><tbody><tr><td class = \"rowNumber\" style = \"font-weight: bold; text-align: right;\">1</td><td style = \"text-align: right;\">508.416</td><td style = \"text-align: right;\">-0.0951999</td><td style = \"text-align: right;\">0.143986</td><td style = \"text-align: right;\">0.837693</td><td style = \"text-align: right;\">0.0450782</td><td style = \"text-align: right;\">0.217365</td><td style = \"text-align: right;\">0.17823</td><td style = \"text-align: right;\">0.0905752</td></tr></tbody></table></div>"
      ],
      "text/latex": [
       "\\begin{tabular}{r|cccccccc}\n",
       "\t& loglikehood & mu1 & mu2 & p11 & p21 & prob1 & sig1 & sig2\\\\\n",
       "\t\\hline\n",
       "\t& Float64 & Float64 & Float64 & Float64 & Float64 & Float64 & Float64 & Float64\\\\\n",
       "\t\\hline\n",
       "\t1 & 508.416 & -0.0951999 & 0.143986 & 0.837693 & 0.0450782 & 0.217365 & 0.17823 & 0.0905752 \\\\\n",
       "\\end{tabular}\n"
      ],
      "text/plain": [
       "\u001b[1m1×8 DataFrame\u001b[0m\n",
       "\u001b[1m Row \u001b[0m│\u001b[1m loglikehood \u001b[0m\u001b[1m mu1        \u001b[0m\u001b[1m mu2      \u001b[0m\u001b[1m p11      \u001b[0m\u001b[1m p21       \u001b[0m\u001b[1m prob1    \u001b[0m\u001b[1m sig1 \u001b[0m ⋯\n",
       "     │\u001b[90m Float64     \u001b[0m\u001b[90m Float64    \u001b[0m\u001b[90m Float64  \u001b[0m\u001b[90m Float64  \u001b[0m\u001b[90m Float64   \u001b[0m\u001b[90m Float64  \u001b[0m\u001b[90m Float\u001b[0m ⋯\n",
       "─────┼──────────────────────────────────────────────────────────────────────────\n",
       "   1 │     508.416  -0.0951999  0.143986  0.837693  0.0450782  0.217365  0.178 ⋯\n",
       "\u001b[36m                                                               2 columns omitted\u001b[0m"
      ]
     },
     "metadata": {},
     "output_type": "display_data"
    }
   ],
   "source": [
    "acwi_pln_03 = identity.(values(from(returns[:ACWI_Net_PLN],Date(2003,01,01))))\n",
    "hmm_est, loglikehood = train_hmm(acwi_pln_03,2)\n",
    "regime_summary(loglikehood,hmm_est,12)"
   ]
  },
  {
   "cell_type": "code",
   "execution_count": 26,
   "metadata": {},
   "outputs": [
    {
     "data": {
      "text/html": [
       "<div><div style = \"float: left;\"><span>1×8 DataFrame</span></div><div style = \"clear: both;\"></div></div><div class = \"data-frame\" style = \"overflow-x: scroll;\"><table class = \"data-frame\" style = \"margin-bottom: 6px;\"><thead><tr class = \"header\"><th class = \"rowNumber\" style = \"font-weight: bold; text-align: right;\">Row</th><th style = \"text-align: left;\">loglikehood</th><th style = \"text-align: left;\">mu1</th><th style = \"text-align: left;\">mu2</th><th style = \"text-align: left;\">p11</th><th style = \"text-align: left;\">p21</th><th style = \"text-align: left;\">prob1</th><th style = \"text-align: left;\">sig1</th><th style = \"text-align: left;\">sig2</th></tr><tr class = \"subheader headerLastRow\"><th class = \"rowNumber\" style = \"font-weight: bold; text-align: right;\"></th><th title = \"Float64\" style = \"text-align: left;\">Float64</th><th title = \"Float64\" style = \"text-align: left;\">Float64</th><th title = \"Float64\" style = \"text-align: left;\">Float64</th><th title = \"Float64\" style = \"text-align: left;\">Float64</th><th title = \"Float64\" style = \"text-align: left;\">Float64</th><th title = \"Float64\" style = \"text-align: left;\">Float64</th><th title = \"Float64\" style = \"text-align: left;\">Float64</th><th title = \"Float64\" style = \"text-align: left;\">Float64</th></tr></thead><tbody><tr><td class = \"rowNumber\" style = \"font-weight: bold; text-align: right;\">1</td><td style = \"text-align: right;\">484.829</td><td style = \"text-align: right;\">-0.0247207</td><td style = \"text-align: right;\">0.117703</td><td style = \"text-align: right;\">0.992613</td><td style = \"text-align: right;\">0.0316917</td><td style = \"text-align: right;\">0.810976</td><td style = \"text-align: right;\">0.106832</td><td style = \"text-align: right;\">0.210462</td></tr></tbody></table></div>"
      ],
      "text/latex": [
       "\\begin{tabular}{r|cccccccc}\n",
       "\t& loglikehood & mu1 & mu2 & p11 & p21 & prob1 & sig1 & sig2\\\\\n",
       "\t\\hline\n",
       "\t& Float64 & Float64 & Float64 & Float64 & Float64 & Float64 & Float64 & Float64\\\\\n",
       "\t\\hline\n",
       "\t1 & 484.829 & -0.0247207 & 0.117703 & 0.992613 & 0.0316917 & 0.810976 & 0.106832 & 0.210462 \\\\\n",
       "\\end{tabular}\n"
      ],
      "text/plain": [
       "\u001b[1m1×8 DataFrame\u001b[0m\n",
       "\u001b[1m Row \u001b[0m│\u001b[1m loglikehood \u001b[0m\u001b[1m mu1        \u001b[0m\u001b[1m mu2      \u001b[0m\u001b[1m p11      \u001b[0m\u001b[1m p21       \u001b[0m\u001b[1m prob1    \u001b[0m\u001b[1m sig1 \u001b[0m ⋯\n",
       "     │\u001b[90m Float64     \u001b[0m\u001b[90m Float64    \u001b[0m\u001b[90m Float64  \u001b[0m\u001b[90m Float64  \u001b[0m\u001b[90m Float64   \u001b[0m\u001b[90m Float64  \u001b[0m\u001b[90m Float\u001b[0m ⋯\n",
       "─────┼──────────────────────────────────────────────────────────────────────────\n",
       "   1 │     484.829  -0.0247207  0.117703  0.992613  0.0316917  0.810976  0.106 ⋯\n",
       "\u001b[36m                                                               2 columns omitted\u001b[0m"
      ]
     },
     "metadata": {},
     "output_type": "display_data"
    }
   ],
   "source": [
    "usdpln_03 = identity.(values(from(returns[:USDPLN ],Date(2003,01,01))))\n",
    "hmm_est, loglikehood = train_hmm(usdpln_03,2)\n",
    "regime_summary(loglikehood,hmm_est,12)"
   ]
  },
  {
   "cell_type": "code",
   "execution_count": 27,
   "metadata": {},
   "outputs": [],
   "source": [
    "function guess_init(n_scenarios)\n",
    "    regimes_probs = rand(1:100,n_scenarios)\n",
    "    return regimes_probs/sum(regimes_probs)\n",
    "end\n",
    "\n",
    "function guess_tmatrix(n_scenarios)\n",
    "    regimes_probs = rand(1:100,n_scenarios,n_scenarios)\n",
    "    return regimes_probs ./ sum(regimes_probs,dims=2)\n",
    "end\n",
    "\n",
    "function guess_distribution()\n",
    "    corr = Matrix(1.0I,2,2)\n",
    "    sigma = [rand(Uniform(0,0.25)),rand(Uniform(0,0.035))]\n",
    "    means = [rand(Uniform(-0.5,0.5)),rand(Uniform(-0.01,0.12))]\n",
    "    cov = cor2cov(corr,sigma)\n",
    "    return MvNormal(means,cov)\n",
    "end\n",
    "\n",
    "using LinearAlgebra"
   ]
  },
  {
   "cell_type": "code",
   "execution_count": 168,
   "metadata": {},
   "outputs": [
    {
     "name": "stdout",
     "output_type": "stream",
     "text": [
      "Hidden Markov Model with:\n",
      " - initialization: [0.4935897435897436, 0.5064102564102564]\n",
      " - transition matrix: [0.4788732394366197 0.5211267605633803; 0.8043478260869565 0.1956521739130435]\n",
      " - observation distributions: [FullNormal(\n",
      "dim: 2\n",
      "μ: [-0.2509623807471162, 0.014707559122679926]\n",
      "Σ: [0.0026401042688278557 0.0; 0.0 9.25680161421722e-5]\n",
      ")\n",
      ", FullNormal(\n",
      "dim: 2\n",
      "μ: [0.2796216174765179, 0.10285604942466454]\n",
      "Σ: [0.016106113526144418 0.0; 0.0 1.8232579861409186e-6]\n",
      ")\n",
      "]\n"
     ]
    }
   ],
   "source": [
    "acwi_and_pln = identity.(values(from(returns[:ACWI_Net_PLN, :USDPLN],Date(2001,01,01))))\n",
    "n_scenarios = 2\n",
    "\n",
    "\n",
    "init_guess = guess_init(n_scenarios)\n",
    "guess_matrix = guess_tmatrix(n_scenarios)\n",
    "guess_dist = [guess_distribution() for s in 1:n_scenarios]\n",
    "hmm_guess = HMM(init_guess, guess_matrix, guess_dist);\n",
    "println(hmm_guess)\n",
    "hmm_est_concat, _ = baum_welch(hmm_guess, eachrow(acwi_and_pln));"
   ]
  },
  {
   "cell_type": "code",
   "execution_count": 169,
   "metadata": {},
   "outputs": [
    {
     "data": {
      "text/plain": [
       "\"means\""
      ]
     },
     "metadata": {},
     "output_type": "display_data"
    },
    {
     "data": {
      "text/plain": [
       "2×2 Matrix{Float64}:\n",
       "  0.056319   0.453701\n",
       " -0.0147173  1.32579"
      ]
     },
     "metadata": {},
     "output_type": "display_data"
    },
    {
     "data": {
      "text/plain": [
       "\"std\""
      ]
     },
     "metadata": {},
     "output_type": "display_data"
    },
    {
     "data": {
      "text/plain": [
       "2×2 Matrix{Float64}:\n",
       " 0.128823  0.0942876\n",
       " 0.125084  0.0283679"
      ]
     },
     "metadata": {},
     "output_type": "display_data"
    },
    {
     "data": {
      "text/plain": [
       "\"corr\""
      ]
     },
     "metadata": {},
     "output_type": "display_data"
    },
    {
     "data": {
      "text/plain": [
       "2×2 Matrix{Float64}:\n",
       " 1.0     0.2196\n",
       " 0.2196  1.0"
      ]
     },
     "metadata": {},
     "output_type": "display_data"
    },
    {
     "data": {
      "text/plain": [
       "2×2 Matrix{Float64}:\n",
       "  1.0       -0.947556\n",
       " -0.947556   1.0"
      ]
     },
     "metadata": {},
     "output_type": "display_data"
    }
   ],
   "source": [
    "dist1 = obs_distributions(hmm_est_concat)[1]\n",
    "dist2 = obs_distributions(hmm_est_concat)[2]\n",
    "\n",
    "mean1 = mean(dist1) .* 12\n",
    "mean2 = mean(dist2) .* 12\n",
    "\n",
    "std1 = sqrt.(var(dist1)) .* 12^0.5\n",
    "std2 = sqrt.(var(dist2)) .* 12^0.5\n",
    "display(\"means\")\n",
    "display([mean1 mean2])\n",
    "display(\"std\")\n",
    "display([std1 std2])\n",
    "display(\"corr\")\n",
    "cor1 = cor(dist1)\n",
    "display(cor1)\n",
    "cor2 = cor(dist2)\n",
    "display(cor2)\n"
   ]
  },
  {
   "cell_type": "code",
   "execution_count": 170,
   "metadata": {},
   "outputs": [
    {
     "data": {
      "text/plain": [
       "2-element Vector{Normal{Float64}}:\n",
       " Normal{Float64}(μ=0.013891940154582502, σ=0.02342090409705692)\n",
       " Normal{Float64}(μ=-0.0031354040057774584, σ=0.059348571985435514)"
      ]
     },
     "metadata": {},
     "output_type": "display_data"
    }
   ],
   "source": [
    "acwi_short = identity.(values(from(returns[:ACWI_Net],Date(2001,01,01))))\n",
    "hmm_est, loglikehood = train_hmm(acwi_short,2)\n",
    "obs_distributions(hmm_est)"
   ]
  },
  {
   "cell_type": "code",
   "execution_count": 171,
   "metadata": {},
   "outputs": [
    {
     "data": {
      "text/plain": [
       "279-element Vector{Float64}:\n",
       " 2.0\n",
       " 2.0\n",
       " 2.0\n",
       " 2.0\n",
       " 2.0\n",
       " 2.0\n",
       " 2.0\n",
       " 2.0\n",
       " 2.0\n",
       " 2.0\n",
       " ⋮\n",
       " 2.0\n",
       " 2.0\n",
       " 2.0\n",
       " 2.0\n",
       " 2.0\n",
       " 2.0\n",
       " 2.0\n",
       " 2.0\n",
       " 2.0"
      ]
     },
     "metadata": {},
     "output_type": "display_data"
    }
   ],
   "source": [
    "acwi_short = identity.(from(returns[:ACWI_Net],Date(2001,01,01)))\n",
    "hmm_est, loglikehood = train_hmm(values(acwi_short),2)\n",
    "HMM(initialization(hmm_est), transition_matrix(hmm_est), obs_distributions(hmm_est))\n",
    "states,_ = viterbi(hmm_est,values(acwi_short))\n",
    "states = Float64.(states)"
   ]
  },
  {
   "cell_type": "code",
   "execution_count": 172,
   "metadata": {},
   "outputs": [
    {
     "data": {
      "text/plain": [
       "\"states\""
      ]
     },
     "metadata": {},
     "output_type": "display_data"
    }
   ],
   "source": [
    "acwi_states = merge(acwi_short,identity.(from((returns[:USDPLN]),Date(1998,01,01))),TimeArray(timestamp(acwi_short),states))\n",
    "CSV.write(\"states\",acwi_states)\n"
   ]
  },
  {
   "cell_type": "code",
   "execution_count": 173,
   "metadata": {},
   "outputs": [
    {
     "name": "stdout",
     "output_type": "stream",
     "text": [
      "First usd pln\n",
      "-0.02979151262801521\n",
      "0.10498902329177802\n",
      "-0.5525433853025217\n",
      "Second usd pln\n",
      "0.02323905518920558\n",
      "0.14920806835446282\n",
      "-0.6632535242025056\n"
     ]
    }
   ],
   "source": [
    "first_regime = acwi_states[findwhen(acwi_states[:A] .== 1.0)]\n",
    "second_regime = acwi_states[findwhen(acwi_states[:A] .== 2.0)]\n",
    "\n",
    "println(\"First usd pln\")\n",
    "println(mean(values(first_regime[:USDPLN]))*12)\n",
    "println(std(values(first_regime[:USDPLN]))*12^0.5)\n",
    "println(cor(values(first_regime[:USDPLN]),values(first_regime[:ACWI_Net ])))\n",
    "\n",
    "println(\"Second usd pln\")\n",
    "println(mean(values(second_regime[:USDPLN]))*12)\n",
    "println(std(values(second_regime[:USDPLN]))*12^0.5)\n",
    "println(cor(values(second_regime[:USDPLN]),values(second_regime[:ACWI_Net])))"
   ]
  },
  {
   "cell_type": "code",
   "execution_count": 100,
   "metadata": {},
   "outputs": [
    {
     "data": {
      "image/png": "[encoded data removed]",
      "image/svg+xml": [
       "<?xml version=\"1.0\" encoding=\"utf-8\"?>\n",
       "<svg xmlns=\"http://www.w3.org/2000/svg\" xmlns:xlink=\"http://www.w3.org/1999/xlink\" width=\"600\" height=\"400\" viewBox=\"0 0 2400 1600\">\n",
       "<defs>\n",
       "  <clipPath id=\"clip330\">\n",
       "    <rect x=\"0\" y=\"0\" width=\"2400\" height=\"1600\"/>\n",
       "  </clipPath>\n",
       "</defs>\n",
       "<path clip-path=\"url(#clip330)\" d=\"M0 1600 L2400 1600 L2400 0 L0 0  Z\" fill=\"#ffffff\" fill-rule=\"evenodd\" fill-opacity=\"1\"/>\n",
       "<defs>\n",
       "  <clipPath id=\"clip331\">\n",
       "    <rect x=\"480\" y=\"0\" width=\"1681\" height=\"1600\"/>\n",
       "  </clipPath>\n",
       "</defs>\n",
       "<path clip-path=\"url(#clip330)\" d=\"M192.709 1486.45 L2352.76 1486.45 L2352.76 47.2441 L192.709 47.2441  Z\" fill=\"#ffffff\" fill-rule=\"evenodd\" fill-opacity=\"1\"/>\n",
       "<defs>\n",
       "  <clipPath id=\"clip332\">\n",
       "    <rect x=\"192\" y=\"47\" width=\"2161\" height=\"1440\"/>\n",
       "  </clipPath>\n",
       "</defs>\n",
       "<polyline clip-path=\"url(#clip332)\" style=\"stroke:#000000; stroke-linecap:round; stroke-linejoin:round; stroke-width:2; stroke-opacity:0.1; fill:none\" points=\"246.616,1486.45 246.616,47.2441 \"/>\n",
       "<polyline clip-path=\"url(#clip332)\" style=\"stroke:#000000; stroke-linecap:round; stroke-linejoin:round; stroke-width:2; stroke-opacity:0.1; fill:none\" points=\"774.368,1486.45 774.368,47.2441 \"/>\n",
       "<polyline clip-path=\"url(#clip332)\" style=\"stroke:#000000; stroke-linecap:round; stroke-linejoin:round; stroke-width:2; stroke-opacity:0.1; fill:none\" points=\"1302.36,1486.45 1302.36,47.2441 \"/>\n",
       "<polyline clip-path=\"url(#clip332)\" style=\"stroke:#000000; stroke-linecap:round; stroke-linejoin:round; stroke-width:2; stroke-opacity:0.1; fill:none\" points=\"1830.11,1486.45 1830.11,47.2441 \"/>\n",
       "<polyline clip-path=\"url(#clip330)\" style=\"stroke:#000000; stroke-linecap:round; stroke-linejoin:round; stroke-width:4; stroke-opacity:1; fill:none\" points=\"192.709,1486.45 2352.76,1486.45 \"/>\n",
       "<polyline clip-path=\"url(#clip330)\" style=\"stroke:#000000; stroke-linecap:round; stroke-linejoin:round; stroke-width:4; stroke-opacity:1; fill:none\" points=\"246.616,1486.45 246.616,1467.55 \"/>\n",
       "<polyline clip-path=\"url(#clip330)\" style=\"stroke:#000000; stroke-linecap:round; stroke-linejoin:round; stroke-width:4; stroke-opacity:1; fill:none\" points=\"774.368,1486.45 774.368,1467.55 \"/>\n",
       "<polyline clip-path=\"url(#clip330)\" style=\"stroke:#000000; stroke-linecap:round; stroke-linejoin:round; stroke-width:4; stroke-opacity:1; fill:none\" points=\"1302.36,1486.45 1302.36,1467.55 \"/>\n",
       "<polyline clip-path=\"url(#clip330)\" style=\"stroke:#000000; stroke-linecap:round; stroke-linejoin:round; stroke-width:4; stroke-opacity:1; fill:none\" points=\"1830.11,1486.45 1830.11,1467.55 \"/>\n",
       "<path clip-path=\"url(#clip330)\" d=\"M118.411 1544.91 L134.73 1544.91 L134.73 1548.85 L112.786 1548.85 L112.786 1544.91 Q115.448 1542.16 120.031 1537.53 Q124.638 1532.88 125.818 1531.53 Q128.064 1529.01 128.943 1527.27 Q129.846 1525.51 129.846 1523.82 Q129.846 1521.07 127.902 1519.33 Q125.98 1517.6 122.879 1517.6 Q120.68 1517.6 118.226 1518.36 Q115.795 1519.13 113.018 1520.68 L113.018 1515.95 Q115.842 1514.82 118.295 1514.24 Q120.749 1513.66 122.786 1513.66 Q128.156 1513.66 131.351 1516.35 Q134.545 1519.03 134.545 1523.52 Q134.545 1525.65 133.735 1527.57 Q132.948 1529.47 130.842 1532.07 Q130.263 1532.74 127.161 1535.95 Q124.059 1539.15 118.411 1544.91 Z\" fill=\"#000000\" fill-rule=\"nonzero\" fill-opacity=\"1\" /><path clip-path=\"url(#clip330)\" d=\"M154.545 1517.37 Q150.934 1517.37 149.105 1520.93 Q147.3 1524.47 147.3 1531.6 Q147.3 1538.71 149.105 1542.27 Q150.934 1545.82 154.545 1545.82 Q158.179 1545.82 159.985 1542.27 Q161.814 1538.71 161.814 1531.6 Q161.814 1524.47 159.985 1520.93 Q158.179 1517.37 154.545 1517.37 M154.545 1513.66 Q160.355 1513.66 163.411 1518.27 Q166.489 1522.85 166.489 1531.6 Q166.489 1540.33 163.411 1544.94 Q160.355 1549.52 154.545 1549.52 Q148.735 1549.52 145.656 1544.94 Q142.601 1540.33 142.601 1531.6 Q142.601 1522.85 145.656 1518.27 Q148.735 1513.66 154.545 1513.66 Z\" fill=\"#000000\" fill-rule=\"nonzero\" fill-opacity=\"1\" /><path clip-path=\"url(#clip330)\" d=\"M184.707 1517.37 Q181.096 1517.37 179.267 1520.93 Q177.462 1524.47 177.462 1531.6 Q177.462 1538.71 179.267 1542.27 Q181.096 1545.82 184.707 1545.82 Q188.341 1545.82 190.147 1542.27 Q191.975 1538.71 191.975 1531.6 Q191.975 1524.47 190.147 1520.93 Q188.341 1517.37 184.707 1517.37 M184.707 1513.66 Q190.517 1513.66 193.573 1518.27 Q196.651 1522.85 196.651 1531.6 Q196.651 1540.33 193.573 1544.94 Q190.517 1549.52 184.707 1549.52 Q178.897 1549.52 175.818 1544.94 Q172.763 1540.33 172.763 1531.6 Q172.763 1522.85 175.818 1518.27 Q178.897 1513.66 184.707 1513.66 Z\" fill=\"#000000\" fill-rule=\"nonzero\" fill-opacity=\"1\" /><path clip-path=\"url(#clip330)\" d=\"M205.679 1544.91 L213.318 1544.91 L213.318 1518.55 L205.008 1520.21 L205.008 1515.95 L213.272 1514.29 L217.948 1514.29 L217.948 1544.91 L225.586 1544.91 L225.586 1548.85 L205.679 1548.85 L205.679 1544.91 Z\" fill=\"#000000\" fill-rule=\"nonzero\" fill-opacity=\"1\" /><path clip-path=\"url(#clip330)\" d=\"M232.276 1533.96 L244.753 1533.96 L244.753 1537.76 L232.276 1537.76 L232.276 1533.96 Z\" fill=\"#000000\" fill-rule=\"nonzero\" fill-opacity=\"1\" /><path clip-path=\"url(#clip330)\" d=\"M262.137 1517.37 Q258.526 1517.37 256.697 1520.93 Q254.892 1524.47 254.892 1531.6 Q254.892 1538.71 256.697 1542.27 Q258.526 1545.82 262.137 1545.82 Q265.771 1545.82 267.577 1542.27 Q269.406 1538.71 269.406 1531.6 Q269.406 1524.47 267.577 1520.93 Q265.771 1517.37 262.137 1517.37 M262.137 1513.66 Q267.947 1513.66 271.003 1518.27 Q274.082 1522.85 274.082 1531.6 Q274.082 1540.33 271.003 1544.94 Q267.947 1549.52 262.137 1549.52 Q256.327 1549.52 253.248 1544.94 Q250.193 1540.33 250.193 1531.6 Q250.193 1522.85 253.248 1518.27 Q256.327 1513.66 262.137 1513.66 Z\" fill=\"#000000\" fill-rule=\"nonzero\" fill-opacity=\"1\" /><path clip-path=\"url(#clip330)\" d=\"M283.109 1544.91 L290.748 1544.91 L290.748 1518.55 L282.438 1520.21 L282.438 1515.95 L290.702 1514.29 L295.378 1514.29 L295.378 1544.91 L303.017 1544.91 L303.017 1548.85 L283.109 1548.85 L283.109 1544.91 Z\" fill=\"#000000\" fill-rule=\"nonzero\" fill-opacity=\"1\" /><path clip-path=\"url(#clip330)\" d=\"M309.706 1533.96 L322.183 1533.96 L322.183 1537.76 L309.706 1537.76 L309.706 1533.96 Z\" fill=\"#000000\" fill-rule=\"nonzero\" fill-opacity=\"1\" /><path clip-path=\"url(#clip330)\" d=\"M339.567 1517.37 Q335.956 1517.37 334.127 1520.93 Q332.322 1524.47 332.322 1531.6 Q332.322 1538.71 334.127 1542.27 Q335.956 1545.82 339.567 1545.82 Q343.202 1545.82 345.007 1542.27 Q346.836 1538.71 346.836 1531.6 Q346.836 1524.47 345.007 1520.93 Q343.202 1517.37 339.567 1517.37 M339.567 1513.66 Q345.377 1513.66 348.433 1518.27 Q351.512 1522.85 351.512 1531.6 Q351.512 1540.33 348.433 1544.94 Q345.377 1549.52 339.567 1549.52 Q333.757 1549.52 330.678 1544.94 Q327.623 1540.33 327.623 1531.6 Q327.623 1522.85 330.678 1518.27 Q333.757 1513.66 339.567 1513.66 Z\" fill=\"#000000\" fill-rule=\"nonzero\" fill-opacity=\"1\" /><path clip-path=\"url(#clip330)\" d=\"M360.539 1544.91 L368.178 1544.91 L368.178 1518.55 L359.868 1520.21 L359.868 1515.95 L368.132 1514.29 L372.808 1514.29 L372.808 1544.91 L380.447 1544.91 L380.447 1548.85 L360.539 1548.85 L360.539 1544.91 Z\" fill=\"#000000\" fill-rule=\"nonzero\" fill-opacity=\"1\" /><path clip-path=\"url(#clip330)\" d=\"M646.162 1544.91 L662.482 1544.91 L662.482 1548.85 L640.537 1548.85 L640.537 1544.91 Q643.199 1542.16 647.783 1537.53 Q652.389 1532.88 653.57 1531.53 Q655.815 1529.01 656.695 1527.27 Q657.597 1525.51 657.597 1523.82 Q657.597 1521.07 655.653 1519.33 Q653.732 1517.6 650.63 1517.6 Q648.431 1517.6 645.977 1518.36 Q643.547 1519.13 640.769 1520.68 L640.769 1515.95 Q643.593 1514.82 646.047 1514.24 Q648.5 1513.66 650.537 1513.66 Q655.908 1513.66 659.102 1516.35 Q662.297 1519.03 662.297 1523.52 Q662.297 1525.65 661.486 1527.57 Q660.699 1529.47 658.593 1532.07 Q658.014 1532.74 654.912 1535.95 Q651.81 1539.15 646.162 1544.91 Z\" fill=\"#000000\" fill-rule=\"nonzero\" fill-opacity=\"1\" /><path clip-path=\"url(#clip330)\" d=\"M682.296 1517.37 Q678.685 1517.37 676.857 1520.93 Q675.051 1524.47 675.051 1531.6 Q675.051 1538.71 676.857 1542.27 Q678.685 1545.82 682.296 1545.82 Q685.931 1545.82 687.736 1542.27 Q689.565 1538.71 689.565 1531.6 Q689.565 1524.47 687.736 1520.93 Q685.931 1517.37 682.296 1517.37 M682.296 1513.66 Q688.107 1513.66 691.162 1518.27 Q694.241 1522.85 694.241 1531.6 Q694.241 1540.33 691.162 1544.94 Q688.107 1549.52 682.296 1549.52 Q676.486 1549.52 673.408 1544.94 Q670.352 1540.33 670.352 1531.6 Q670.352 1522.85 673.408 1518.27 Q676.486 1513.66 682.296 1513.66 Z\" fill=\"#000000\" fill-rule=\"nonzero\" fill-opacity=\"1\" /><path clip-path=\"url(#clip330)\" d=\"M712.458 1517.37 Q708.847 1517.37 707.018 1520.93 Q705.213 1524.47 705.213 1531.6 Q705.213 1538.71 707.018 1542.27 Q708.847 1545.82 712.458 1545.82 Q716.093 1545.82 717.898 1542.27 Q719.727 1538.71 719.727 1531.6 Q719.727 1524.47 717.898 1520.93 Q716.093 1517.37 712.458 1517.37 M712.458 1513.66 Q718.268 1513.66 721.324 1518.27 Q724.403 1522.85 724.403 1531.6 Q724.403 1540.33 721.324 1544.94 Q718.268 1549.52 712.458 1549.52 Q706.648 1549.52 703.569 1544.94 Q700.514 1540.33 700.514 1531.6 Q700.514 1522.85 703.569 1518.27 Q706.648 1513.66 712.458 1513.66 Z\" fill=\"#000000\" fill-rule=\"nonzero\" fill-opacity=\"1\" /><path clip-path=\"url(#clip330)\" d=\"M731.44 1514.29 L753.662 1514.29 L753.662 1516.28 L741.116 1548.85 L736.231 1548.85 L748.037 1518.22 L731.44 1518.22 L731.44 1514.29 Z\" fill=\"#000000\" fill-rule=\"nonzero\" fill-opacity=\"1\" /><path clip-path=\"url(#clip330)\" d=\"M760.027 1533.96 L772.504 1533.96 L772.504 1537.76 L760.027 1537.76 L760.027 1533.96 Z\" fill=\"#000000\" fill-rule=\"nonzero\" fill-opacity=\"1\" /><path clip-path=\"url(#clip330)\" d=\"M789.888 1517.37 Q786.277 1517.37 784.449 1520.93 Q782.643 1524.47 782.643 1531.6 Q782.643 1538.71 784.449 1542.27 Q786.277 1545.82 789.888 1545.82 Q793.523 1545.82 795.328 1542.27 Q797.157 1538.71 797.157 1531.6 Q797.157 1524.47 795.328 1520.93 Q793.523 1517.37 789.888 1517.37 M789.888 1513.66 Q795.699 1513.66 798.754 1518.27 Q801.833 1522.85 801.833 1531.6 Q801.833 1540.33 798.754 1544.94 Q795.699 1549.52 789.888 1549.52 Q784.078 1549.52 781 1544.94 Q777.944 1540.33 777.944 1531.6 Q777.944 1522.85 781 1518.27 Q784.078 1513.66 789.888 1513.66 Z\" fill=\"#000000\" fill-rule=\"nonzero\" fill-opacity=\"1\" /><path clip-path=\"url(#clip330)\" d=\"M810.861 1544.91 L818.499 1544.91 L818.499 1518.55 L810.189 1520.21 L810.189 1515.95 L818.453 1514.29 L823.129 1514.29 L823.129 1544.91 L830.768 1544.91 L830.768 1548.85 L810.861 1548.85 L810.861 1544.91 Z\" fill=\"#000000\" fill-rule=\"nonzero\" fill-opacity=\"1\" /><path clip-path=\"url(#clip330)\" d=\"M837.458 1533.96 L849.934 1533.96 L849.934 1537.76 L837.458 1537.76 L837.458 1533.96 Z\" fill=\"#000000\" fill-rule=\"nonzero\" fill-opacity=\"1\" /><path clip-path=\"url(#clip330)\" d=\"M867.319 1517.37 Q863.707 1517.37 861.879 1520.93 Q860.073 1524.47 860.073 1531.6 Q860.073 1538.71 861.879 1542.27 Q863.707 1545.82 867.319 1545.82 Q870.953 1545.82 872.758 1542.27 Q874.587 1538.71 874.587 1531.6 Q874.587 1524.47 872.758 1520.93 Q870.953 1517.37 867.319 1517.37 M867.319 1513.66 Q873.129 1513.66 876.184 1518.27 Q879.263 1522.85 879.263 1531.6 Q879.263 1540.33 876.184 1544.94 Q873.129 1549.52 867.319 1549.52 Q861.508 1549.52 858.43 1544.94 Q855.374 1540.33 855.374 1531.6 Q855.374 1522.85 858.43 1518.27 Q861.508 1513.66 867.319 1513.66 Z\" fill=\"#000000\" fill-rule=\"nonzero\" fill-opacity=\"1\" /><path clip-path=\"url(#clip330)\" d=\"M888.291 1544.91 L895.93 1544.91 L895.93 1518.55 L887.619 1520.21 L887.619 1515.95 L895.883 1514.29 L900.559 1514.29 L900.559 1544.91 L908.198 1544.91 L908.198 1548.85 L888.291 1548.85 L888.291 1544.91 Z\" fill=\"#000000\" fill-rule=\"nonzero\" fill-opacity=\"1\" /><path clip-path=\"url(#clip330)\" d=\"M1174.15 1544.91 L1190.47 1544.91 L1190.47 1548.85 L1168.53 1548.85 L1168.53 1544.91 Q1171.19 1542.16 1175.77 1537.53 Q1180.38 1532.88 1181.56 1531.53 Q1183.81 1529.01 1184.69 1527.27 Q1185.59 1525.51 1185.59 1523.82 Q1185.59 1521.07 1183.65 1519.33 Q1181.72 1517.6 1178.62 1517.6 Q1176.42 1517.6 1173.97 1518.36 Q1171.54 1519.13 1168.76 1520.68 L1168.76 1515.95 Q1171.59 1514.82 1174.04 1514.24 Q1176.49 1513.66 1178.53 1513.66 Q1183.9 1513.66 1187.09 1516.35 Q1190.29 1519.03 1190.29 1523.52 Q1190.29 1525.65 1189.48 1527.57 Q1188.69 1529.47 1186.58 1532.07 Q1186.01 1532.74 1182.9 1535.95 Q1179.8 1539.15 1174.15 1544.91 Z\" fill=\"#000000\" fill-rule=\"nonzero\" fill-opacity=\"1\" /><path clip-path=\"url(#clip330)\" d=\"M1210.29 1517.37 Q1206.68 1517.37 1204.85 1520.93 Q1203.04 1524.47 1203.04 1531.6 Q1203.04 1538.71 1204.85 1542.27 Q1206.68 1545.82 1210.29 1545.82 Q1213.92 1545.82 1215.73 1542.27 Q1217.56 1538.71 1217.56 1531.6 Q1217.56 1524.47 1215.73 1520.93 Q1213.92 1517.37 1210.29 1517.37 M1210.29 1513.66 Q1216.1 1513.66 1219.15 1518.27 Q1222.23 1522.85 1222.23 1531.6 Q1222.23 1540.33 1219.15 1544.94 Q1216.1 1549.52 1210.29 1549.52 Q1204.48 1549.52 1201.4 1544.94 Q1198.34 1540.33 1198.34 1531.6 Q1198.34 1522.85 1201.4 1518.27 Q1204.48 1513.66 1210.29 1513.66 Z\" fill=\"#000000\" fill-rule=\"nonzero\" fill-opacity=\"1\" /><path clip-path=\"url(#clip330)\" d=\"M1231.26 1544.91 L1238.9 1544.91 L1238.9 1518.55 L1230.59 1520.21 L1230.59 1515.95 L1238.85 1514.29 L1243.53 1514.29 L1243.53 1544.91 L1251.17 1544.91 L1251.17 1548.85 L1231.26 1548.85 L1231.26 1544.91 Z\" fill=\"#000000\" fill-rule=\"nonzero\" fill-opacity=\"1\" /><path clip-path=\"url(#clip330)\" d=\"M1274.78 1530.21 Q1278.14 1530.93 1280.01 1533.2 Q1281.91 1535.47 1281.91 1538.8 Q1281.91 1543.92 1278.39 1546.72 Q1274.87 1549.52 1268.39 1549.52 Q1266.21 1549.52 1263.9 1549.08 Q1261.61 1548.66 1259.15 1547.81 L1259.15 1543.29 Q1261.1 1544.43 1263.41 1545.01 Q1265.73 1545.58 1268.25 1545.58 Q1272.65 1545.58 1274.94 1543.85 Q1277.26 1542.11 1277.26 1538.8 Q1277.26 1535.75 1275.1 1534.03 Q1272.97 1532.3 1269.15 1532.3 L1265.13 1532.3 L1265.13 1528.45 L1269.34 1528.45 Q1272.79 1528.45 1274.62 1527.09 Q1276.45 1525.7 1276.45 1523.11 Q1276.45 1520.45 1274.55 1519.03 Q1272.67 1517.6 1269.15 1517.6 Q1267.23 1517.6 1265.03 1518.01 Q1262.83 1518.43 1260.2 1519.31 L1260.2 1515.14 Q1262.86 1514.4 1265.17 1514.03 Q1267.51 1513.66 1269.57 1513.66 Q1274.89 1513.66 1278 1516.09 Q1281.1 1518.5 1281.1 1522.62 Q1281.1 1525.49 1279.45 1527.48 Q1277.81 1529.45 1274.78 1530.21 Z\" fill=\"#000000\" fill-rule=\"nonzero\" fill-opacity=\"1\" /><path clip-path=\"url(#clip330)\" d=\"M1288.02 1533.96 L1300.5 1533.96 L1300.5 1537.76 L1288.02 1537.76 L1288.02 1533.96 Z\" fill=\"#000000\" fill-rule=\"nonzero\" fill-opacity=\"1\" /><path clip-path=\"url(#clip330)\" d=\"M1317.88 1517.37 Q1314.27 1517.37 1312.44 1520.93 Q1310.64 1524.47 1310.64 1531.6 Q1310.64 1538.71 1312.44 1542.27 Q1314.27 1545.82 1317.88 1545.82 Q1321.51 1545.82 1323.32 1542.27 Q1325.15 1538.71 1325.15 1531.6 Q1325.15 1524.47 1323.32 1520.93 Q1321.51 1517.37 1317.88 1517.37 M1317.88 1513.66 Q1323.69 1513.66 1326.75 1518.27 Q1329.82 1522.85 1329.82 1531.6 Q1329.82 1540.33 1326.75 1544.94 Q1323.69 1549.52 1317.88 1549.52 Q1312.07 1549.52 1308.99 1544.94 Q1305.94 1540.33 1305.94 1531.6 Q1305.94 1522.85 1308.99 1518.27 Q1312.07 1513.66 1317.88 1513.66 Z\" fill=\"#000000\" fill-rule=\"nonzero\" fill-opacity=\"1\" /><path clip-path=\"url(#clip330)\" d=\"M1338.85 1544.91 L1346.49 1544.91 L1346.49 1518.55 L1338.18 1520.21 L1338.18 1515.95 L1346.45 1514.29 L1351.12 1514.29 L1351.12 1544.91 L1358.76 1544.91 L1358.76 1548.85 L1338.85 1548.85 L1338.85 1544.91 Z\" fill=\"#000000\" fill-rule=\"nonzero\" fill-opacity=\"1\" /><path clip-path=\"url(#clip330)\" d=\"M1365.45 1533.96 L1377.93 1533.96 L1377.93 1537.76 L1365.45 1537.76 L1365.45 1533.96 Z\" fill=\"#000000\" fill-rule=\"nonzero\" fill-opacity=\"1\" /><path clip-path=\"url(#clip330)\" d=\"M1395.31 1517.37 Q1391.7 1517.37 1389.87 1520.93 Q1388.07 1524.47 1388.07 1531.6 Q1388.07 1538.71 1389.87 1542.27 Q1391.7 1545.82 1395.31 1545.82 Q1398.94 1545.82 1400.75 1542.27 Q1402.58 1538.71 1402.58 1531.6 Q1402.58 1524.47 1400.75 1520.93 Q1398.94 1517.37 1395.31 1517.37 M1395.31 1513.66 Q1401.12 1513.66 1404.18 1518.27 Q1407.26 1522.85 1407.26 1531.6 Q1407.26 1540.33 1404.18 1544.94 Q1401.12 1549.52 1395.31 1549.52 Q1389.5 1549.52 1386.42 1544.94 Q1383.37 1540.33 1383.37 1531.6 Q1383.37 1522.85 1386.42 1518.27 Q1389.5 1513.66 1395.31 1513.66 Z\" fill=\"#000000\" fill-rule=\"nonzero\" fill-opacity=\"1\" /><path clip-path=\"url(#clip330)\" d=\"M1416.28 1544.91 L1423.92 1544.91 L1423.92 1518.55 L1415.61 1520.21 L1415.61 1515.95 L1423.88 1514.29 L1428.55 1514.29 L1428.55 1544.91 L1436.19 1544.91 L1436.19 1548.85 L1416.28 1548.85 L1416.28 1544.91 Z\" fill=\"#000000\" fill-rule=\"nonzero\" fill-opacity=\"1\" /><path clip-path=\"url(#clip330)\" d=\"M1701.91 1544.91 L1718.23 1544.91 L1718.23 1548.85 L1696.28 1548.85 L1696.28 1544.91 Q1698.94 1542.16 1703.53 1537.53 Q1708.13 1532.88 1709.31 1531.53 Q1711.56 1529.01 1712.44 1527.27 Q1713.34 1525.51 1713.34 1523.82 Q1713.34 1521.07 1711.4 1519.33 Q1709.48 1517.6 1706.37 1517.6 Q1704.17 1517.6 1701.72 1518.36 Q1699.29 1519.13 1696.51 1520.68 L1696.51 1515.95 Q1699.34 1514.82 1701.79 1514.24 Q1704.24 1513.66 1706.28 1513.66 Q1711.65 1513.66 1714.85 1516.35 Q1718.04 1519.03 1718.04 1523.52 Q1718.04 1525.65 1717.23 1527.57 Q1716.44 1529.47 1714.34 1532.07 Q1713.76 1532.74 1710.66 1535.95 Q1707.55 1539.15 1701.91 1544.91 Z\" fill=\"#000000\" fill-rule=\"nonzero\" fill-opacity=\"1\" /><path clip-path=\"url(#clip330)\" d=\"M1738.04 1517.37 Q1734.43 1517.37 1732.6 1520.93 Q1730.79 1524.47 1730.79 1531.6 Q1730.79 1538.71 1732.6 1542.27 Q1734.43 1545.82 1738.04 1545.82 Q1741.67 1545.82 1743.48 1542.27 Q1745.31 1538.71 1745.31 1531.6 Q1745.31 1524.47 1743.48 1520.93 Q1741.67 1517.37 1738.04 1517.37 M1738.04 1513.66 Q1743.85 1513.66 1746.91 1518.27 Q1749.98 1522.85 1749.98 1531.6 Q1749.98 1540.33 1746.91 1544.94 Q1743.85 1549.52 1738.04 1549.52 Q1732.23 1549.52 1729.15 1544.94 Q1726.1 1540.33 1726.1 1531.6 Q1726.1 1522.85 1729.15 1518.27 Q1732.23 1513.66 1738.04 1513.66 Z\" fill=\"#000000\" fill-rule=\"nonzero\" fill-opacity=\"1\" /><path clip-path=\"url(#clip330)\" d=\"M1759.01 1544.91 L1766.65 1544.91 L1766.65 1518.55 L1758.34 1520.21 L1758.34 1515.95 L1766.6 1514.29 L1771.28 1514.29 L1771.28 1544.91 L1778.92 1544.91 L1778.92 1548.85 L1759.01 1548.85 L1759.01 1544.91 Z\" fill=\"#000000\" fill-rule=\"nonzero\" fill-opacity=\"1\" /><path clip-path=\"url(#clip330)\" d=\"M1788.5 1548.13 L1788.5 1543.87 Q1790.26 1544.7 1792.07 1545.14 Q1793.87 1545.58 1795.61 1545.58 Q1800.24 1545.58 1802.67 1542.48 Q1805.12 1539.36 1805.47 1533.01 Q1804.13 1535.01 1802.07 1536.07 Q1800.01 1537.13 1797.51 1537.13 Q1792.32 1537.13 1789.29 1534.01 Q1786.28 1530.86 1786.28 1525.42 Q1786.28 1520.1 1789.43 1516.88 Q1792.58 1513.66 1797.81 1513.66 Q1803.8 1513.66 1806.95 1518.27 Q1810.12 1522.85 1810.12 1531.6 Q1810.12 1539.77 1806.23 1544.66 Q1802.37 1549.52 1795.82 1549.52 Q1794.06 1549.52 1792.25 1549.17 Q1790.45 1548.82 1788.5 1548.13 M1797.81 1533.48 Q1800.96 1533.48 1802.78 1531.32 Q1804.64 1529.17 1804.64 1525.42 Q1804.64 1521.7 1802.78 1519.54 Q1800.96 1517.37 1797.81 1517.37 Q1794.66 1517.37 1792.81 1519.54 Q1790.98 1521.7 1790.98 1525.42 Q1790.98 1529.17 1792.81 1531.32 Q1794.66 1533.48 1797.81 1533.48 Z\" fill=\"#000000\" fill-rule=\"nonzero\" fill-opacity=\"1\" /><path clip-path=\"url(#clip330)\" d=\"M1815.77 1533.96 L1828.25 1533.96 L1828.25 1537.76 L1815.77 1537.76 L1815.77 1533.96 Z\" fill=\"#000000\" fill-rule=\"nonzero\" fill-opacity=\"1\" /><path clip-path=\"url(#clip330)\" d=\"M1845.63 1517.37 Q1842.02 1517.37 1840.19 1520.93 Q1838.39 1524.47 1838.39 1531.6 Q1838.39 1538.71 1840.19 1542.27 Q1842.02 1545.82 1845.63 1545.82 Q1849.27 1545.82 1851.07 1542.27 Q1852.9 1538.71 1852.9 1531.6 Q1852.9 1524.47 1851.07 1520.93 Q1849.27 1517.37 1845.63 1517.37 M1845.63 1513.66 Q1851.44 1513.66 1854.5 1518.27 Q1857.58 1522.85 1857.58 1531.6 Q1857.58 1540.33 1854.5 1544.94 Q1851.44 1549.52 1845.63 1549.52 Q1839.82 1549.52 1836.74 1544.94 Q1833.69 1540.33 1833.69 1531.6 Q1833.69 1522.85 1836.74 1518.27 Q1839.82 1513.66 1845.63 1513.66 Z\" fill=\"#000000\" fill-rule=\"nonzero\" fill-opacity=\"1\" /><path clip-path=\"url(#clip330)\" d=\"M1866.6 1544.91 L1874.24 1544.91 L1874.24 1518.55 L1865.93 1520.21 L1865.93 1515.95 L1874.2 1514.29 L1878.87 1514.29 L1878.87 1544.91 L1886.51 1544.91 L1886.51 1548.85 L1866.6 1548.85 L1866.6 1544.91 Z\" fill=\"#000000\" fill-rule=\"nonzero\" fill-opacity=\"1\" /><path clip-path=\"url(#clip330)\" d=\"M1893.2 1533.96 L1905.68 1533.96 L1905.68 1537.76 L1893.2 1537.76 L1893.2 1533.96 Z\" fill=\"#000000\" fill-rule=\"nonzero\" fill-opacity=\"1\" /><path clip-path=\"url(#clip330)\" d=\"M1923.06 1517.37 Q1919.45 1517.37 1917.62 1520.93 Q1915.82 1524.47 1915.82 1531.6 Q1915.82 1538.71 1917.62 1542.27 Q1919.45 1545.82 1923.06 1545.82 Q1926.7 1545.82 1928.5 1542.27 Q1930.33 1538.71 1930.33 1531.6 Q1930.33 1524.47 1928.5 1520.93 Q1926.7 1517.37 1923.06 1517.37 M1923.06 1513.66 Q1928.87 1513.66 1931.93 1518.27 Q1935.01 1522.85 1935.01 1531.6 Q1935.01 1540.33 1931.93 1544.94 Q1928.87 1549.52 1923.06 1549.52 Q1917.25 1549.52 1914.17 1544.94 Q1911.12 1540.33 1911.12 1531.6 Q1911.12 1522.85 1914.17 1518.27 Q1917.25 1513.66 1923.06 1513.66 Z\" fill=\"#000000\" fill-rule=\"nonzero\" fill-opacity=\"1\" /><path clip-path=\"url(#clip330)\" d=\"M1944.03 1544.91 L1951.67 1544.91 L1951.67 1518.55 L1943.36 1520.21 L1943.36 1515.95 L1951.63 1514.29 L1956.3 1514.29 L1956.3 1544.91 L1963.94 1544.91 L1963.94 1548.85 L1944.03 1548.85 L1944.03 1544.91 Z\" fill=\"#000000\" fill-rule=\"nonzero\" fill-opacity=\"1\" /><polyline clip-path=\"url(#clip332)\" style=\"stroke:#000000; stroke-linecap:round; stroke-linejoin:round; stroke-width:2; stroke-opacity:0.1; fill:none\" points=\"192.709,1361.79 2352.76,1361.79 \"/>\n",
       "<polyline clip-path=\"url(#clip332)\" style=\"stroke:#000000; stroke-linecap:round; stroke-linejoin:round; stroke-width:2; stroke-opacity:0.1; fill:none\" points=\"192.709,958.991 2352.76,958.991 \"/>\n",
       "<polyline clip-path=\"url(#clip332)\" style=\"stroke:#000000; stroke-linecap:round; stroke-linejoin:round; stroke-width:2; stroke-opacity:0.1; fill:none\" points=\"192.709,556.187 2352.76,556.187 \"/>\n",
       "<polyline clip-path=\"url(#clip332)\" style=\"stroke:#000000; stroke-linecap:round; stroke-linejoin:round; stroke-width:2; stroke-opacity:0.1; fill:none\" points=\"192.709,153.383 2352.76,153.383 \"/>\n",
       "<polyline clip-path=\"url(#clip330)\" style=\"stroke:#000000; stroke-linecap:round; stroke-linejoin:round; stroke-width:4; stroke-opacity:1; fill:none\" points=\"192.709,1486.45 192.709,47.2441 \"/>\n",
       "<polyline clip-path=\"url(#clip330)\" style=\"stroke:#000000; stroke-linecap:round; stroke-linejoin:round; stroke-width:4; stroke-opacity:1; fill:none\" points=\"192.709,1361.79 211.607,1361.79 \"/>\n",
       "<polyline clip-path=\"url(#clip330)\" style=\"stroke:#000000; stroke-linecap:round; stroke-linejoin:round; stroke-width:4; stroke-opacity:1; fill:none\" points=\"192.709,958.991 211.607,958.991 \"/>\n",
       "<polyline clip-path=\"url(#clip330)\" style=\"stroke:#000000; stroke-linecap:round; stroke-linejoin:round; stroke-width:4; stroke-opacity:1; fill:none\" points=\"192.709,556.187 211.607,556.187 \"/>\n",
       "<polyline clip-path=\"url(#clip330)\" style=\"stroke:#000000; stroke-linecap:round; stroke-linejoin:round; stroke-width:4; stroke-opacity:1; fill:none\" points=\"192.709,153.383 211.607,153.383 \"/>\n",
       "<path clip-path=\"url(#clip330)\" d=\"M51.3625 1362.25 L81.0383 1362.25 L81.0383 1366.18 L51.3625 1366.18 L51.3625 1362.25 Z\" fill=\"#000000\" fill-rule=\"nonzero\" fill-opacity=\"1\" /><path clip-path=\"url(#clip330)\" d=\"M101.131 1347.59 Q97.5197 1347.59 95.691 1351.16 Q93.8854 1354.7 93.8854 1361.83 Q93.8854 1368.94 95.691 1372.5 Q97.5197 1376.04 101.131 1376.04 Q104.765 1376.04 106.571 1372.5 Q108.399 1368.94 108.399 1361.83 Q108.399 1354.7 106.571 1351.16 Q104.765 1347.59 101.131 1347.59 M101.131 1343.89 Q106.941 1343.89 109.996 1348.5 Q113.075 1353.08 113.075 1361.83 Q113.075 1370.56 109.996 1375.16 Q106.941 1379.75 101.131 1379.75 Q95.3206 1379.75 92.2419 1375.16 Q89.1864 1370.56 89.1864 1361.83 Q89.1864 1353.08 92.2419 1348.5 Q95.3206 1343.89 101.131 1343.89 Z\" fill=\"#000000\" fill-rule=\"nonzero\" fill-opacity=\"1\" /><path clip-path=\"url(#clip330)\" d=\"M121.293 1373.19 L126.177 1373.19 L126.177 1379.07 L121.293 1379.07 L121.293 1373.19 Z\" fill=\"#000000\" fill-rule=\"nonzero\" fill-opacity=\"1\" /><path clip-path=\"url(#clip330)\" d=\"M140.39 1375.14 L156.709 1375.14 L156.709 1379.07 L134.765 1379.07 L134.765 1375.14 Q137.427 1372.38 142.01 1367.76 Q146.617 1363.1 147.797 1361.76 Q150.043 1359.24 150.922 1357.5 Q151.825 1355.74 151.825 1354.05 Q151.825 1351.3 149.88 1349.56 Q147.959 1347.82 144.857 1347.82 Q142.658 1347.82 140.205 1348.59 Q137.774 1349.35 134.996 1350.9 L134.996 1346.18 Q137.82 1345.05 140.274 1344.47 Q142.728 1343.89 144.765 1343.89 Q150.135 1343.89 153.33 1346.57 Q156.524 1349.26 156.524 1353.75 Q156.524 1355.88 155.714 1357.8 Q154.927 1359.7 152.82 1362.29 Q152.242 1362.96 149.14 1366.18 Q146.038 1369.38 140.39 1375.14 Z\" fill=\"#000000\" fill-rule=\"nonzero\" fill-opacity=\"1\" /><path clip-path=\"url(#clip330)\" d=\"M50.9921 959.442 L80.6679 959.442 L80.6679 963.377 L50.9921 963.377 L50.9921 959.442 Z\" fill=\"#000000\" fill-rule=\"nonzero\" fill-opacity=\"1\" /><path clip-path=\"url(#clip330)\" d=\"M100.76 944.789 Q97.1493 944.789 95.3206 948.354 Q93.515 951.896 93.515 959.025 Q93.515 966.132 95.3206 969.697 Q97.1493 973.238 100.76 973.238 Q104.395 973.238 106.2 969.697 Q108.029 966.132 108.029 959.025 Q108.029 951.896 106.2 948.354 Q104.395 944.789 100.76 944.789 M100.76 941.086 Q106.571 941.086 109.626 945.692 Q112.705 950.276 112.705 959.025 Q112.705 967.752 109.626 972.359 Q106.571 976.942 100.76 976.942 Q94.9502 976.942 91.8715 972.359 Q88.816 967.752 88.816 959.025 Q88.816 950.276 91.8715 945.692 Q94.9502 941.086 100.76 941.086 Z\" fill=\"#000000\" fill-rule=\"nonzero\" fill-opacity=\"1\" /><path clip-path=\"url(#clip330)\" d=\"M120.922 970.391 L125.807 970.391 L125.807 976.271 L120.922 976.271 L120.922 970.391 Z\" fill=\"#000000\" fill-rule=\"nonzero\" fill-opacity=\"1\" /><path clip-path=\"url(#clip330)\" d=\"M136.802 972.336 L144.441 972.336 L144.441 945.97 L136.131 947.637 L136.131 943.377 L144.394 941.711 L149.07 941.711 L149.07 972.336 L156.709 972.336 L156.709 976.271 L136.802 976.271 L136.802 972.336 Z\" fill=\"#000000\" fill-rule=\"nonzero\" fill-opacity=\"1\" /><path clip-path=\"url(#clip330)\" d=\"M99.5335 541.986 Q95.9224 541.986 94.0937 545.55 Q92.2882 549.092 92.2882 556.222 Q92.2882 563.328 94.0937 566.893 Q95.9224 570.435 99.5335 570.435 Q103.168 570.435 104.973 566.893 Q106.802 563.328 106.802 556.222 Q106.802 549.092 104.973 545.55 Q103.168 541.986 99.5335 541.986 M99.5335 538.282 Q105.344 538.282 108.399 542.888 Q111.478 547.472 111.478 556.222 Q111.478 564.948 108.399 569.555 Q105.344 574.138 99.5335 574.138 Q93.7234 574.138 90.6447 569.555 Q87.5892 564.948 87.5892 556.222 Q87.5892 547.472 90.6447 542.888 Q93.7234 538.282 99.5335 538.282 Z\" fill=\"#000000\" fill-rule=\"nonzero\" fill-opacity=\"1\" /><path clip-path=\"url(#clip330)\" d=\"M119.695 567.587 L124.58 567.587 L124.58 573.467 L119.695 573.467 L119.695 567.587 Z\" fill=\"#000000\" fill-rule=\"nonzero\" fill-opacity=\"1\" /><path clip-path=\"url(#clip330)\" d=\"M144.765 541.986 Q141.154 541.986 139.325 545.55 Q137.519 549.092 137.519 556.222 Q137.519 563.328 139.325 566.893 Q141.154 570.435 144.765 570.435 Q148.399 570.435 150.205 566.893 Q152.033 563.328 152.033 556.222 Q152.033 549.092 150.205 545.55 Q148.399 541.986 144.765 541.986 M144.765 538.282 Q150.575 538.282 153.63 542.888 Q156.709 547.472 156.709 556.222 Q156.709 564.948 153.63 569.555 Q150.575 574.138 144.765 574.138 Q138.955 574.138 135.876 569.555 Q132.82 564.948 132.82 556.222 Q132.82 547.472 135.876 542.888 Q138.955 538.282 144.765 538.282 Z\" fill=\"#000000\" fill-rule=\"nonzero\" fill-opacity=\"1\" /><path clip-path=\"url(#clip330)\" d=\"M100.76 139.182 Q97.1493 139.182 95.3206 142.747 Q93.515 146.288 93.515 153.418 Q93.515 160.524 95.3206 164.089 Q97.1493 167.631 100.76 167.631 Q104.395 167.631 106.2 164.089 Q108.029 160.524 108.029 153.418 Q108.029 146.288 106.2 142.747 Q104.395 139.182 100.76 139.182 M100.76 135.478 Q106.571 135.478 109.626 140.085 Q112.705 144.668 112.705 153.418 Q112.705 162.145 109.626 166.751 Q106.571 171.334 100.76 171.334 Q94.9502 171.334 91.8715 166.751 Q88.816 162.145 88.816 153.418 Q88.816 144.668 91.8715 140.085 Q94.9502 135.478 100.76 135.478 Z\" fill=\"#000000\" fill-rule=\"nonzero\" fill-opacity=\"1\" /><path clip-path=\"url(#clip330)\" d=\"M120.922 164.784 L125.807 164.784 L125.807 170.663 L120.922 170.663 L120.922 164.784 Z\" fill=\"#000000\" fill-rule=\"nonzero\" fill-opacity=\"1\" /><path clip-path=\"url(#clip330)\" d=\"M136.802 166.728 L144.441 166.728 L144.441 140.362 L136.131 142.029 L136.131 137.77 L144.394 136.103 L149.07 136.103 L149.07 166.728 L156.709 166.728 L156.709 170.663 L136.802 170.663 L136.802 166.728 Z\" fill=\"#000000\" fill-rule=\"nonzero\" fill-opacity=\"1\" /><polyline clip-path=\"url(#clip332)\" style=\"stroke:#009af9; stroke-linecap:round; stroke-linejoin:round; stroke-width:4; stroke-opacity:1; fill:none\" points=\"253.843,456.174 260.587,911.053 268.054,838.467 275.28,274.594 282.747,603.806 289.973,682.709 297.44,621.015 304.907,747.136 312.134,943.181 319.601,472.069 326.827,316.891 334.294,519.486 341.761,668.942 348.505,587.104 355.972,379.671 363.199,687.376 370.666,553.084 377.892,811.4 385.359,909.948 392.826,547.266 400.052,1025.67 407.519,271.047 414.745,343.04 422.212,754.291 429.679,676.535 436.424,629.097 443.891,573.604 451.117,214.096 458.584,331 465.81,481.465 473.277,469.024 480.744,463.082 487.97,531.792 495.438,320.042 502.664,496.321 510.131,309.689 517.598,488.718 524.583,483.941 532.05,579.276 539.276,651.922 546.743,525.031 553.969,477.247 561.437,687.218 568.904,531.714 576.13,473.417 583.597,458.906 590.823,342.424 598.29,403.284 605.757,642.544 612.501,418.982 619.969,645.928 627.195,646.059 634.662,481.656 641.888,515.676 649.355,409.914 656.822,525.721 664.048,436.754 671.515,666.181 678.741,412.124 686.208,458.32 693.675,362.629 700.42,562.098 707.887,472.356 715.113,424.305 722.58,718.191 729.806,557.926 737.273,528.788 744.74,453.086 751.967,509.516 759.434,407.879 766.66,443.87 774.127,467.303 781.594,516.315 788.338,577.448 795.805,476.214 803.031,381.224 810.499,438.168 817.725,568.062 825.192,618.17 832.659,567.349 839.885,345.555 847.352,402.032 854.578,738.339 862.045,601.024 869.512,900.403 876.498,544.803 883.965,615.732 891.191,337.514 898.658,493.72 905.884,901.315 913.351,662.171 920.818,643.956 928.044,1093.97 935.511,1445.72 942.737,829.91 950.204,412.784 957.672,915.936 964.416,971.247 971.883,237.353 979.109,106.729 986.576,173.598 993.802,578.836 1001.27,216.353 1008.74,414.642 1015.96,375.505 1023.43,618.92 1030.66,393.839 1038.12,473.624 1045.59,734.138 1052.33,505.2 1059.8,305.045 1067.03,549.416 1074.49,957.402 1081.72,682.232 1089.19,241.086 1096.65,699.521 1103.88,188.175 1111.35,413.179 1118.57,646.824 1126.04,271.519 1133.51,493.466 1140.25,440.569 1147.72,560.212 1154.95,394.672 1162.41,643.716 1169.64,620.161 1177.11,622.308 1184.57,861.733 1191.8,955.653 1199.27,146.201 1206.49,678.606 1213.96,564.334 1221.43,328.526 1228.41,358.456 1235.88,529.522 1243.11,602.516 1250.57,934.561 1257.8,362.003 1265.27,501.418 1272.73,469.542 1279.96,431.276 1287.43,583.125 1294.65,505.005 1302.12,465.967 1309.59,374.769 1316.33,556.814 1323.8,483.203 1331.02,442.73 1338.49,567.252 1345.72,675.677 1353.18,367.828 1360.65,640.995 1367.88,353.329 1375.34,397.459 1382.57,499.541 1390.04,487.289 1397.5,720.621 1404.25,366.156 1411.72,538.317 1418.94,518.022 1426.41,471.413 1433.64,481.053 1441.1,605.335 1448.57,468.185 1455.8,688.965 1463.26,527.928 1470.49,489.369 1477.96,634.673 1485.42,619.662 1492.17,337.96 1499.63,619.088 1506.86,440.979 1514.33,561.446 1521.55,652.149 1529.02,521.359 1536.49,842.233 1543.71,704.828 1551.18,251.839 1558.41,589.587 1565.87,629.492 1573.34,806.755 1580.33,583.991 1587.79,268.221 1595.02,497.162 1602.49,551.113 1609.71,580.645 1617.18,386.24 1624.65,542.658 1631.87,531.583 1639.34,625.145 1646.57,525.692 1654.03,470.098 1661.5,447.52 1668.24,444.744 1675.71,507.222 1682.94,493.886 1690.41,468.206 1697.63,537.913 1705.1,445.168 1712.57,540.781 1719.79,479.11 1727.26,473.399 1734.48,478.955 1741.95,491.763 1749.42,335.126 1756.16,729.007 1763.63,643.345 1770.86,517.908 1778.32,551.166 1785.55,578.05 1793.02,436.506 1800.48,524.677 1807.71,538.688 1815.18,869.953 1822.4,497.703 1829.87,850.384 1837.34,250.07 1844.08,449.858 1851.55,505.86 1858.77,422.416 1866.24,802.509 1873.47,300.701 1880.94,544.408 1888.4,652.885 1895.63,472.325 1903.1,447.423 1910.32,459.032 1917.79,416.787 1925.26,600.922 1932.24,895.429 1939.71,1140.37 1946.93,146.258 1954.4,384.709 1961.63,429.492 1969.09,348.602 1976.56,316.893 1983.79,688.206 1991.25,655.318 1998.48,87.9763 2005.95,373.382 2013.41,574.54 2020.16,463.958 2027.63,450.005 2034.85,383.812 2042.32,493.991 2049.55,503.452 2057.01,528.524 2064.48,456.608 2071.71,726.122 2079.17,355.651 2086.4,654.378 2093.87,398.197 2101.33,759.037 2108.08,661.593 2115.54,469.87 2122.77,892.24 2130.24,551.468 2137.46,910.904 2144.93,284.286 2152.4,707.284 2159.62,961.518 2167.09,320.152 2174.32,255.288 2181.78,717.887 2189.25,277.355 2196,673.319 2203.46,433.863 2210.69,498.709 2218.16,599.566 2225.38,328.85 2232.85,411.362 2240.32,670.35 2247.54,726.287 2255.01,679.159 2262.24,200.579 2269.7,367.21 2277.17,532.645 2284.16,386.935 2291.62,431.664 \"/>\n",
       "<path clip-path=\"url(#clip332)\" d=\"M465.81 2925.65 L465.81 -1391.96 L473.277 -1391.96 L473.277 2925.65 L465.81 2925.65  Z\" fill=\"#e26f46\" fill-rule=\"evenodd\" fill-opacity=\"0.3\"/>\n",
       "<polyline clip-path=\"url(#clip332)\" style=\"stroke:#000000; stroke-linecap:round; stroke-linejoin:round; stroke-width:0; stroke-opacity:0.3; fill:none\" points=\"465.81,2925.65 465.81,-1391.96 473.277,-1391.96 473.277,2925.65 465.81,2925.65 \"/>\n",
       "<path clip-path=\"url(#clip332)\" d=\"M480.744 2925.65 L480.744 -1391.96 L487.97 -1391.96 L487.97 2925.65 L480.744 2925.65  Z\" fill=\"#e26f46\" fill-rule=\"evenodd\" fill-opacity=\"0.3\"/>\n",
       "<polyline clip-path=\"url(#clip332)\" style=\"stroke:#000000; stroke-linecap:round; stroke-linejoin:round; stroke-width:0; stroke-opacity:0.3; fill:none\" points=\"480.744,2925.65 480.744,-1391.96 487.97,-1391.96 487.97,2925.65 480.744,2925.65 \"/>\n",
       "<path clip-path=\"url(#clip332)\" d=\"M495.438 2925.65 L495.438 -1391.96 L502.664 -1391.96 L502.664 2925.65 L495.438 2925.65  Z\" fill=\"#e26f46\" fill-rule=\"evenodd\" fill-opacity=\"0.3\"/>\n",
       "<polyline clip-path=\"url(#clip332)\" style=\"stroke:#000000; stroke-linecap:round; stroke-linejoin:round; stroke-width:0; stroke-opacity:0.3; fill:none\" points=\"495.438,2925.65 495.438,-1391.96 502.664,-1391.96 502.664,2925.65 495.438,2925.65 \"/>\n",
       "<path clip-path=\"url(#clip332)\" d=\"M510.131 2925.65 L510.131 -1391.96 L517.598 -1391.96 L517.598 2925.65 L510.131 2925.65  Z\" fill=\"#e26f46\" fill-rule=\"evenodd\" fill-opacity=\"0.3\"/>\n",
       "<polyline clip-path=\"url(#clip332)\" style=\"stroke:#000000; stroke-linecap:round; stroke-linejoin:round; stroke-width:0; stroke-opacity:0.3; fill:none\" points=\"510.131,2925.65 510.131,-1391.96 517.598,-1391.96 517.598,2925.65 510.131,2925.65 \"/>\n",
       "<path clip-path=\"url(#clip332)\" d=\"M524.583 2925.65 L524.583 -1391.96 L532.05 -1391.96 L532.05 2925.65 L524.583 2925.65  Z\" fill=\"#e26f46\" fill-rule=\"evenodd\" fill-opacity=\"0.3\"/>\n",
       "<polyline clip-path=\"url(#clip332)\" style=\"stroke:#000000; stroke-linecap:round; stroke-linejoin:round; stroke-width:0; stroke-opacity:0.3; fill:none\" points=\"524.583,2925.65 524.583,-1391.96 532.05,-1391.96 532.05,2925.65 524.583,2925.65 \"/>\n",
       "<path clip-path=\"url(#clip332)\" d=\"M539.276 2925.65 L539.276 -1391.96 L546.743 -1391.96 L546.743 2925.65 L539.276 2925.65  Z\" fill=\"#e26f46\" fill-rule=\"evenodd\" fill-opacity=\"0.3\"/>\n",
       "<polyline clip-path=\"url(#clip332)\" style=\"stroke:#000000; stroke-linecap:round; stroke-linejoin:round; stroke-width:0; stroke-opacity:0.3; fill:none\" points=\"539.276,2925.65 539.276,-1391.96 546.743,-1391.96 546.743,2925.65 539.276,2925.65 \"/>\n",
       "<path clip-path=\"url(#clip332)\" d=\"M553.969 2925.65 L553.969 -1391.96 L561.437 -1391.96 L561.437 2925.65 L553.969 2925.65  Z\" fill=\"#e26f46\" fill-rule=\"evenodd\" fill-opacity=\"0.3\"/>\n",
       "<polyline clip-path=\"url(#clip332)\" style=\"stroke:#000000; stroke-linecap:round; stroke-linejoin:round; stroke-width:0; stroke-opacity:0.3; fill:none\" points=\"553.969,2925.65 553.969,-1391.96 561.437,-1391.96 561.437,2925.65 553.969,2925.65 \"/>\n",
       "<path clip-path=\"url(#clip332)\" d=\"M568.904 2925.65 L568.904 -1391.96 L576.13 -1391.96 L576.13 2925.65 L568.904 2925.65  Z\" fill=\"#e26f46\" fill-rule=\"evenodd\" fill-opacity=\"0.3\"/>\n",
       "<polyline clip-path=\"url(#clip332)\" style=\"stroke:#000000; stroke-linecap:round; stroke-linejoin:round; stroke-width:0; stroke-opacity:0.3; fill:none\" points=\"568.904,2925.65 568.904,-1391.96 576.13,-1391.96 576.13,2925.65 568.904,2925.65 \"/>\n",
       "<path clip-path=\"url(#clip332)\" d=\"M583.597 2925.65 L583.597 -1391.96 L590.823 -1391.96 L590.823 2925.65 L583.597 2925.65  Z\" fill=\"#e26f46\" fill-rule=\"evenodd\" fill-opacity=\"0.3\"/>\n",
       "<polyline clip-path=\"url(#clip332)\" style=\"stroke:#000000; stroke-linecap:round; stroke-linejoin:round; stroke-width:0; stroke-opacity:0.3; fill:none\" points=\"583.597,2925.65 583.597,-1391.96 590.823,-1391.96 590.823,2925.65 583.597,2925.65 \"/>\n",
       "<path clip-path=\"url(#clip332)\" d=\"M598.29 2925.65 L598.29 -1391.96 L605.757 -1391.96 L605.757 2925.65 L598.29 2925.65  Z\" fill=\"#e26f46\" fill-rule=\"evenodd\" fill-opacity=\"0.3\"/>\n",
       "<polyline clip-path=\"url(#clip332)\" style=\"stroke:#000000; stroke-linecap:round; stroke-linejoin:round; stroke-width:0; stroke-opacity:0.3; fill:none\" points=\"598.29,2925.65 598.29,-1391.96 605.757,-1391.96 605.757,2925.65 598.29,2925.65 \"/>\n",
       "<path clip-path=\"url(#clip332)\" d=\"M612.501 2925.65 L612.501 -1391.96 L619.969 -1391.96 L619.969 2925.65 L612.501 2925.65  Z\" fill=\"#e26f46\" fill-rule=\"evenodd\" fill-opacity=\"0.3\"/>\n",
       "<polyline clip-path=\"url(#clip332)\" style=\"stroke:#000000; stroke-linecap:round; stroke-linejoin:round; stroke-width:0; stroke-opacity:0.3; fill:none\" points=\"612.501,2925.65 612.501,-1391.96 619.969,-1391.96 619.969,2925.65 612.501,2925.65 \"/>\n",
       "<path clip-path=\"url(#clip332)\" d=\"M627.195 2925.65 L627.195 -1391.96 L634.662 -1391.96 L634.662 2925.65 L627.195 2925.65  Z\" fill=\"#e26f46\" fill-rule=\"evenodd\" fill-opacity=\"0.3\"/>\n",
       "<polyline clip-path=\"url(#clip332)\" style=\"stroke:#000000; stroke-linecap:round; stroke-linejoin:round; stroke-width:0; stroke-opacity:0.3; fill:none\" points=\"627.195,2925.65 627.195,-1391.96 634.662,-1391.96 634.662,2925.65 627.195,2925.65 \"/>\n",
       "<path clip-path=\"url(#clip332)\" d=\"M641.888 2925.65 L641.888 -1391.96 L649.355 -1391.96 L649.355 2925.65 L641.888 2925.65  Z\" fill=\"#e26f46\" fill-rule=\"evenodd\" fill-opacity=\"0.3\"/>\n",
       "<polyline clip-path=\"url(#clip332)\" style=\"stroke:#000000; stroke-linecap:round; stroke-linejoin:round; stroke-width:0; stroke-opacity:0.3; fill:none\" points=\"641.888,2925.65 641.888,-1391.96 649.355,-1391.96 649.355,2925.65 641.888,2925.65 \"/>\n",
       "<path clip-path=\"url(#clip332)\" d=\"M656.822 2925.65 L656.822 -1391.96 L664.048 -1391.96 L664.048 2925.65 L656.822 2925.65  Z\" fill=\"#e26f46\" fill-rule=\"evenodd\" fill-opacity=\"0.3\"/>\n",
       "<polyline clip-path=\"url(#clip332)\" style=\"stroke:#000000; stroke-linecap:round; stroke-linejoin:round; stroke-width:0; stroke-opacity:0.3; fill:none\" points=\"656.822,2925.65 656.822,-1391.96 664.048,-1391.96 664.048,2925.65 656.822,2925.65 \"/>\n",
       "<path clip-path=\"url(#clip332)\" d=\"M671.515 2925.65 L671.515 -1391.96 L678.741 -1391.96 L678.741 2925.65 L671.515 2925.65  Z\" fill=\"#e26f46\" fill-rule=\"evenodd\" fill-opacity=\"0.3\"/>\n",
       "<polyline clip-path=\"url(#clip332)\" style=\"stroke:#000000; stroke-linecap:round; stroke-linejoin:round; stroke-width:0; stroke-opacity:0.3; fill:none\" points=\"671.515,2925.65 671.515,-1391.96 678.741,-1391.96 678.741,2925.65 671.515,2925.65 \"/>\n",
       "<path clip-path=\"url(#clip332)\" d=\"M686.208 2925.65 L686.208 -1391.96 L693.675 -1391.96 L693.675 2925.65 L686.208 2925.65  Z\" fill=\"#e26f46\" fill-rule=\"evenodd\" fill-opacity=\"0.3\"/>\n",
       "<polyline clip-path=\"url(#clip332)\" style=\"stroke:#000000; stroke-linecap:round; stroke-linejoin:round; stroke-width:0; stroke-opacity:0.3; fill:none\" points=\"686.208,2925.65 686.208,-1391.96 693.675,-1391.96 693.675,2925.65 686.208,2925.65 \"/>\n",
       "<path clip-path=\"url(#clip332)\" d=\"M700.42 2925.65 L700.42 -1391.96 L707.887 -1391.96 L707.887 2925.65 L700.42 2925.65  Z\" fill=\"#e26f46\" fill-rule=\"evenodd\" fill-opacity=\"0.3\"/>\n",
       "<polyline clip-path=\"url(#clip332)\" style=\"stroke:#000000; stroke-linecap:round; stroke-linejoin:round; stroke-width:0; stroke-opacity:0.3; fill:none\" points=\"700.42,2925.65 700.42,-1391.96 707.887,-1391.96 707.887,2925.65 700.42,2925.65 \"/>\n",
       "<path clip-path=\"url(#clip332)\" d=\"M715.113 2925.65 L715.113 -1391.96 L722.58 -1391.96 L722.58 2925.65 L715.113 2925.65  Z\" fill=\"#e26f46\" fill-rule=\"evenodd\" fill-opacity=\"0.3\"/>\n",
       "<polyline clip-path=\"url(#clip332)\" style=\"stroke:#000000; stroke-linecap:round; stroke-linejoin:round; stroke-width:0; stroke-opacity:0.3; fill:none\" points=\"715.113,2925.65 715.113,-1391.96 722.58,-1391.96 722.58,2925.65 715.113,2925.65 \"/>\n",
       "<path clip-path=\"url(#clip332)\" d=\"M729.806 2925.65 L729.806 -1391.96 L737.273 -1391.96 L737.273 2925.65 L729.806 2925.65  Z\" fill=\"#e26f46\" fill-rule=\"evenodd\" fill-opacity=\"0.3\"/>\n",
       "<polyline clip-path=\"url(#clip332)\" style=\"stroke:#000000; stroke-linecap:round; stroke-linejoin:round; stroke-width:0; stroke-opacity:0.3; fill:none\" points=\"729.806,2925.65 729.806,-1391.96 737.273,-1391.96 737.273,2925.65 729.806,2925.65 \"/>\n",
       "<path clip-path=\"url(#clip332)\" d=\"M744.74 2925.65 L744.74 -1391.96 L751.967 -1391.96 L751.967 2925.65 L744.74 2925.65  Z\" fill=\"#e26f46\" fill-rule=\"evenodd\" fill-opacity=\"0.3\"/>\n",
       "<polyline clip-path=\"url(#clip332)\" style=\"stroke:#000000; stroke-linecap:round; stroke-linejoin:round; stroke-width:0; stroke-opacity:0.3; fill:none\" points=\"744.74,2925.65 744.74,-1391.96 751.967,-1391.96 751.967,2925.65 744.74,2925.65 \"/>\n",
       "<path clip-path=\"url(#clip332)\" d=\"M759.434 2925.65 L759.434 -1391.96 L766.66 -1391.96 L766.66 2925.65 L759.434 2925.65  Z\" fill=\"#e26f46\" fill-rule=\"evenodd\" fill-opacity=\"0.3\"/>\n",
       "<polyline clip-path=\"url(#clip332)\" style=\"stroke:#000000; stroke-linecap:round; stroke-linejoin:round; stroke-width:0; stroke-opacity:0.3; fill:none\" points=\"759.434,2925.65 759.434,-1391.96 766.66,-1391.96 766.66,2925.65 759.434,2925.65 \"/>\n",
       "<path clip-path=\"url(#clip332)\" d=\"M774.127 2925.65 L774.127 -1391.96 L781.594 -1391.96 L781.594 2925.65 L774.127 2925.65  Z\" fill=\"#e26f46\" fill-rule=\"evenodd\" fill-opacity=\"0.3\"/>\n",
       "<polyline clip-path=\"url(#clip332)\" style=\"stroke:#000000; stroke-linecap:round; stroke-linejoin:round; stroke-width:0; stroke-opacity:0.3; fill:none\" points=\"774.127,2925.65 774.127,-1391.96 781.594,-1391.96 781.594,2925.65 774.127,2925.65 \"/>\n",
       "<path clip-path=\"url(#clip332)\" d=\"M788.338 2925.65 L788.338 -1391.96 L795.805 -1391.96 L795.805 2925.65 L788.338 2925.65  Z\" fill=\"#e26f46\" fill-rule=\"evenodd\" fill-opacity=\"0.3\"/>\n",
       "<polyline clip-path=\"url(#clip332)\" style=\"stroke:#000000; stroke-linecap:round; stroke-linejoin:round; stroke-width:0; stroke-opacity:0.3; fill:none\" points=\"788.338,2925.65 788.338,-1391.96 795.805,-1391.96 795.805,2925.65 788.338,2925.65 \"/>\n",
       "<path clip-path=\"url(#clip332)\" d=\"M803.031 2925.65 L803.031 -1391.96 L810.499 -1391.96 L810.499 2925.65 L803.031 2925.65  Z\" fill=\"#e26f46\" fill-rule=\"evenodd\" fill-opacity=\"0.3\"/>\n",
       "<polyline clip-path=\"url(#clip332)\" style=\"stroke:#000000; stroke-linecap:round; stroke-linejoin:round; stroke-width:0; stroke-opacity:0.3; fill:none\" points=\"803.031,2925.65 803.031,-1391.96 810.499,-1391.96 810.499,2925.65 803.031,2925.65 \"/>\n",
       "<path clip-path=\"url(#clip332)\" d=\"M817.725 2925.65 L817.725 -1391.96 L825.192 -1391.96 L825.192 2925.65 L817.725 2925.65  Z\" fill=\"#e26f46\" fill-rule=\"evenodd\" fill-opacity=\"0.3\"/>\n",
       "<polyline clip-path=\"url(#clip332)\" style=\"stroke:#000000; stroke-linecap:round; stroke-linejoin:round; stroke-width:0; stroke-opacity:0.3; fill:none\" points=\"817.725,2925.65 817.725,-1391.96 825.192,-1391.96 825.192,2925.65 817.725,2925.65 \"/>\n",
       "<path clip-path=\"url(#clip332)\" d=\"M832.659 2925.65 L832.659 -1391.96 L839.885 -1391.96 L839.885 2925.65 L832.659 2925.65  Z\" fill=\"#e26f46\" fill-rule=\"evenodd\" fill-opacity=\"0.3\"/>\n",
       "<polyline clip-path=\"url(#clip332)\" style=\"stroke:#000000; stroke-linecap:round; stroke-linejoin:round; stroke-width:0; stroke-opacity:0.3; fill:none\" points=\"832.659,2925.65 832.659,-1391.96 839.885,-1391.96 839.885,2925.65 832.659,2925.65 \"/>\n",
       "<path clip-path=\"url(#clip332)\" d=\"M847.352 2925.65 L847.352 -1391.96 L1257.8 -1391.96 L1257.8 2925.65 L847.352 2925.65  Z\" fill=\"#e26f46\" fill-rule=\"evenodd\" fill-opacity=\"0.3\"/>\n",
       "<polyline clip-path=\"url(#clip332)\" style=\"stroke:#000000; stroke-linecap:round; stroke-linejoin:round; stroke-width:0; stroke-opacity:0.3; fill:none\" points=\"847.352,2925.65 847.352,-1391.96 1257.8,-1391.96 1257.8,2925.65 847.352,2925.65 \"/>\n",
       "<path clip-path=\"url(#clip332)\" d=\"M1265.27 2925.65 L1265.27 -1391.96 L1272.73 -1391.96 L1272.73 2925.65 L1265.27 2925.65  Z\" fill=\"#e26f46\" fill-rule=\"evenodd\" fill-opacity=\"0.3\"/>\n",
       "<polyline clip-path=\"url(#clip332)\" style=\"stroke:#000000; stroke-linecap:round; stroke-linejoin:round; stroke-width:0; stroke-opacity:0.3; fill:none\" points=\"1265.27,2925.65 1265.27,-1391.96 1272.73,-1391.96 1272.73,2925.65 1265.27,2925.65 \"/>\n",
       "<path clip-path=\"url(#clip332)\" d=\"M1279.96 2925.65 L1279.96 -1391.96 L1287.43 -1391.96 L1287.43 2925.65 L1279.96 2925.65  Z\" fill=\"#e26f46\" fill-rule=\"evenodd\" fill-opacity=\"0.3\"/>\n",
       "<polyline clip-path=\"url(#clip332)\" style=\"stroke:#000000; stroke-linecap:round; stroke-linejoin:round; stroke-width:0; stroke-opacity:0.3; fill:none\" points=\"1279.96,2925.65 1279.96,-1391.96 1287.43,-1391.96 1287.43,2925.65 1279.96,2925.65 \"/>\n",
       "<path clip-path=\"url(#clip332)\" d=\"M1294.65 2925.65 L1294.65 -1391.96 L1302.12 -1391.96 L1302.12 2925.65 L1294.65 2925.65  Z\" fill=\"#e26f46\" fill-rule=\"evenodd\" fill-opacity=\"0.3\"/>\n",
       "<polyline clip-path=\"url(#clip332)\" style=\"stroke:#000000; stroke-linecap:round; stroke-linejoin:round; stroke-width:0; stroke-opacity:0.3; fill:none\" points=\"1294.65,2925.65 1294.65,-1391.96 1302.12,-1391.96 1302.12,2925.65 1294.65,2925.65 \"/>\n",
       "<path clip-path=\"url(#clip332)\" d=\"M1309.59 2925.65 L1309.59 -1391.96 L1316.33 -1391.96 L1316.33 2925.65 L1309.59 2925.65  Z\" fill=\"#e26f46\" fill-rule=\"evenodd\" fill-opacity=\"0.3\"/>\n",
       "<polyline clip-path=\"url(#clip332)\" style=\"stroke:#000000; stroke-linecap:round; stroke-linejoin:round; stroke-width:0; stroke-opacity:0.3; fill:none\" points=\"1309.59,2925.65 1309.59,-1391.96 1316.33,-1391.96 1316.33,2925.65 1309.59,2925.65 \"/>\n",
       "<path clip-path=\"url(#clip332)\" d=\"M1323.8 2925.65 L1323.8 -1391.96 L1331.02 -1391.96 L1331.02 2925.65 L1323.8 2925.65  Z\" fill=\"#e26f46\" fill-rule=\"evenodd\" fill-opacity=\"0.3\"/>\n",
       "<polyline clip-path=\"url(#clip332)\" style=\"stroke:#000000; stroke-linecap:round; stroke-linejoin:round; stroke-width:0; stroke-opacity:0.3; fill:none\" points=\"1323.8,2925.65 1323.8,-1391.96 1331.02,-1391.96 1331.02,2925.65 1323.8,2925.65 \"/>\n",
       "<path clip-path=\"url(#clip332)\" d=\"M1338.49 2925.65 L1338.49 -1391.96 L1345.72 -1391.96 L1345.72 2925.65 L1338.49 2925.65  Z\" fill=\"#e26f46\" fill-rule=\"evenodd\" fill-opacity=\"0.3\"/>\n",
       "<polyline clip-path=\"url(#clip332)\" style=\"stroke:#000000; stroke-linecap:round; stroke-linejoin:round; stroke-width:0; stroke-opacity:0.3; fill:none\" points=\"1338.49,2925.65 1338.49,-1391.96 1345.72,-1391.96 1345.72,2925.65 1338.49,2925.65 \"/>\n",
       "<path clip-path=\"url(#clip332)\" d=\"M1353.18 2925.65 L1353.18 -1391.96 L1360.65 -1391.96 L1360.65 2925.65 L1353.18 2925.65  Z\" fill=\"#e26f46\" fill-rule=\"evenodd\" fill-opacity=\"0.3\"/>\n",
       "<polyline clip-path=\"url(#clip332)\" style=\"stroke:#000000; stroke-linecap:round; stroke-linejoin:round; stroke-width:0; stroke-opacity:0.3; fill:none\" points=\"1353.18,2925.65 1353.18,-1391.96 1360.65,-1391.96 1360.65,2925.65 1353.18,2925.65 \"/>\n",
       "<path clip-path=\"url(#clip332)\" d=\"M1367.88 2925.65 L1367.88 -1391.96 L1375.34 -1391.96 L1375.34 2925.65 L1367.88 2925.65  Z\" fill=\"#e26f46\" fill-rule=\"evenodd\" fill-opacity=\"0.3\"/>\n",
       "<polyline clip-path=\"url(#clip332)\" style=\"stroke:#000000; stroke-linecap:round; stroke-linejoin:round; stroke-width:0; stroke-opacity:0.3; fill:none\" points=\"1367.88,2925.65 1367.88,-1391.96 1375.34,-1391.96 1375.34,2925.65 1367.88,2925.65 \"/>\n",
       "<path clip-path=\"url(#clip332)\" d=\"M1382.57 2925.65 L1382.57 -1391.96 L1390.04 -1391.96 L1390.04 2925.65 L1382.57 2925.65  Z\" fill=\"#e26f46\" fill-rule=\"evenodd\" fill-opacity=\"0.3\"/>\n",
       "<polyline clip-path=\"url(#clip332)\" style=\"stroke:#000000; stroke-linecap:round; stroke-linejoin:round; stroke-width:0; stroke-opacity:0.3; fill:none\" points=\"1382.57,2925.65 1382.57,-1391.96 1390.04,-1391.96 1390.04,2925.65 1382.57,2925.65 \"/>\n",
       "<path clip-path=\"url(#clip332)\" d=\"M1397.5 2925.65 L1397.5 -1391.96 L1404.25 -1391.96 L1404.25 2925.65 L1397.5 2925.65  Z\" fill=\"#e26f46\" fill-rule=\"evenodd\" fill-opacity=\"0.3\"/>\n",
       "<polyline clip-path=\"url(#clip332)\" style=\"stroke:#000000; stroke-linecap:round; stroke-linejoin:round; stroke-width:0; stroke-opacity:0.3; fill:none\" points=\"1397.5,2925.65 1397.5,-1391.96 1404.25,-1391.96 1404.25,2925.65 1397.5,2925.65 \"/>\n",
       "<path clip-path=\"url(#clip332)\" d=\"M1411.72 2925.65 L1411.72 -1391.96 L1418.94 -1391.96 L1418.94 2925.65 L1411.72 2925.65  Z\" fill=\"#e26f46\" fill-rule=\"evenodd\" fill-opacity=\"0.3\"/>\n",
       "<polyline clip-path=\"url(#clip332)\" style=\"stroke:#000000; stroke-linecap:round; stroke-linejoin:round; stroke-width:0; stroke-opacity:0.3; fill:none\" points=\"1411.72,2925.65 1411.72,-1391.96 1418.94,-1391.96 1418.94,2925.65 1411.72,2925.65 \"/>\n",
       "<path clip-path=\"url(#clip332)\" d=\"M1426.41 2925.65 L1426.41 -1391.96 L1433.64 -1391.96 L1433.64 2925.65 L1426.41 2925.65  Z\" fill=\"#e26f46\" fill-rule=\"evenodd\" fill-opacity=\"0.3\"/>\n",
       "<polyline clip-path=\"url(#clip332)\" style=\"stroke:#000000; stroke-linecap:round; stroke-linejoin:round; stroke-width:0; stroke-opacity:0.3; fill:none\" points=\"1426.41,2925.65 1426.41,-1391.96 1433.64,-1391.96 1433.64,2925.65 1426.41,2925.65 \"/>\n",
       "<path clip-path=\"url(#clip332)\" d=\"M1441.1 2925.65 L1441.1 -1391.96 L1448.57 -1391.96 L1448.57 2925.65 L1441.1 2925.65  Z\" fill=\"#e26f46\" fill-rule=\"evenodd\" fill-opacity=\"0.3\"/>\n",
       "<polyline clip-path=\"url(#clip332)\" style=\"stroke:#000000; stroke-linecap:round; stroke-linejoin:round; stroke-width:0; stroke-opacity:0.3; fill:none\" points=\"1441.1,2925.65 1441.1,-1391.96 1448.57,-1391.96 1448.57,2925.65 1441.1,2925.65 \"/>\n",
       "<path clip-path=\"url(#clip332)\" d=\"M1455.8 2925.65 L1455.8 -1391.96 L1463.26 -1391.96 L1463.26 2925.65 L1455.8 2925.65  Z\" fill=\"#e26f46\" fill-rule=\"evenodd\" fill-opacity=\"0.3\"/>\n",
       "<polyline clip-path=\"url(#clip332)\" style=\"stroke:#000000; stroke-linecap:round; stroke-linejoin:round; stroke-width:0; stroke-opacity:0.3; fill:none\" points=\"1455.8,2925.65 1455.8,-1391.96 1463.26,-1391.96 1463.26,2925.65 1455.8,2925.65 \"/>\n",
       "<path clip-path=\"url(#clip332)\" d=\"M1470.49 2925.65 L1470.49 -1391.96 L1477.96 -1391.96 L1477.96 2925.65 L1470.49 2925.65  Z\" fill=\"#e26f46\" fill-rule=\"evenodd\" fill-opacity=\"0.3\"/>\n",
       "<polyline clip-path=\"url(#clip332)\" style=\"stroke:#000000; stroke-linecap:round; stroke-linejoin:round; stroke-width:0; stroke-opacity:0.3; fill:none\" points=\"1470.49,2925.65 1470.49,-1391.96 1477.96,-1391.96 1477.96,2925.65 1470.49,2925.65 \"/>\n",
       "<path clip-path=\"url(#clip332)\" d=\"M1485.42 2925.65 L1485.42 -1391.96 L1492.17 -1391.96 L1492.17 2925.65 L1485.42 2925.65  Z\" fill=\"#e26f46\" fill-rule=\"evenodd\" fill-opacity=\"0.3\"/>\n",
       "<polyline clip-path=\"url(#clip332)\" style=\"stroke:#000000; stroke-linecap:round; stroke-linejoin:round; stroke-width:0; stroke-opacity:0.3; fill:none\" points=\"1485.42,2925.65 1485.42,-1391.96 1492.17,-1391.96 1492.17,2925.65 1485.42,2925.65 \"/>\n",
       "<path clip-path=\"url(#clip332)\" d=\"M1499.63 2925.65 L1499.63 -1391.96 L1506.86 -1391.96 L1506.86 2925.65 L1499.63 2925.65  Z\" fill=\"#e26f46\" fill-rule=\"evenodd\" fill-opacity=\"0.3\"/>\n",
       "<polyline clip-path=\"url(#clip332)\" style=\"stroke:#000000; stroke-linecap:round; stroke-linejoin:round; stroke-width:0; stroke-opacity:0.3; fill:none\" points=\"1499.63,2925.65 1499.63,-1391.96 1506.86,-1391.96 1506.86,2925.65 1499.63,2925.65 \"/>\n",
       "<path clip-path=\"url(#clip332)\" d=\"M1514.33 2925.65 L1514.33 -1391.96 L1521.55 -1391.96 L1521.55 2925.65 L1514.33 2925.65  Z\" fill=\"#e26f46\" fill-rule=\"evenodd\" fill-opacity=\"0.3\"/>\n",
       "<polyline clip-path=\"url(#clip332)\" style=\"stroke:#000000; stroke-linecap:round; stroke-linejoin:round; stroke-width:0; stroke-opacity:0.3; fill:none\" points=\"1514.33,2925.65 1514.33,-1391.96 1521.55,-1391.96 1521.55,2925.65 1514.33,2925.65 \"/>\n",
       "<path clip-path=\"url(#clip332)\" d=\"M1529.02 2925.65 L1529.02 -1391.96 L1595.02 -1391.96 L1595.02 2925.65 L1529.02 2925.65  Z\" fill=\"#e26f46\" fill-rule=\"evenodd\" fill-opacity=\"0.3\"/>\n",
       "<polyline clip-path=\"url(#clip332)\" style=\"stroke:#000000; stroke-linecap:round; stroke-linejoin:round; stroke-width:0; stroke-opacity:0.3; fill:none\" points=\"1529.02,2925.65 1529.02,-1391.96 1595.02,-1391.96 1595.02,2925.65 1529.02,2925.65 \"/>\n",
       "<path clip-path=\"url(#clip332)\" d=\"M1602.49 2925.65 L1602.49 -1391.96 L1609.71 -1391.96 L1609.71 2925.65 L1602.49 2925.65  Z\" fill=\"#e26f46\" fill-rule=\"evenodd\" fill-opacity=\"0.3\"/>\n",
       "<polyline clip-path=\"url(#clip332)\" style=\"stroke:#000000; stroke-linecap:round; stroke-linejoin:round; stroke-width:0; stroke-opacity:0.3; fill:none\" points=\"1602.49,2925.65 1602.49,-1391.96 1609.71,-1391.96 1609.71,2925.65 1602.49,2925.65 \"/>\n",
       "<path clip-path=\"url(#clip332)\" d=\"M1617.18 2925.65 L1617.18 -1391.96 L1624.65 -1391.96 L1624.65 2925.65 L1617.18 2925.65  Z\" fill=\"#e26f46\" fill-rule=\"evenodd\" fill-opacity=\"0.3\"/>\n",
       "<polyline clip-path=\"url(#clip332)\" style=\"stroke:#000000; stroke-linecap:round; stroke-linejoin:round; stroke-width:0; stroke-opacity:0.3; fill:none\" points=\"1617.18,2925.65 1617.18,-1391.96 1624.65,-1391.96 1624.65,2925.65 1617.18,2925.65 \"/>\n",
       "<path clip-path=\"url(#clip332)\" d=\"M1631.87 2925.65 L1631.87 -1391.96 L1639.34 -1391.96 L1639.34 2925.65 L1631.87 2925.65  Z\" fill=\"#e26f46\" fill-rule=\"evenodd\" fill-opacity=\"0.3\"/>\n",
       "<polyline clip-path=\"url(#clip332)\" style=\"stroke:#000000; stroke-linecap:round; stroke-linejoin:round; stroke-width:0; stroke-opacity:0.3; fill:none\" points=\"1631.87,2925.65 1631.87,-1391.96 1639.34,-1391.96 1639.34,2925.65 1631.87,2925.65 \"/>\n",
       "<path clip-path=\"url(#clip332)\" d=\"M1646.57 2925.65 L1646.57 -1391.96 L1654.03 -1391.96 L1654.03 2925.65 L1646.57 2925.65  Z\" fill=\"#e26f46\" fill-rule=\"evenodd\" fill-opacity=\"0.3\"/>\n",
       "<polyline clip-path=\"url(#clip332)\" style=\"stroke:#000000; stroke-linecap:round; stroke-linejoin:round; stroke-width:0; stroke-opacity:0.3; fill:none\" points=\"1646.57,2925.65 1646.57,-1391.96 1654.03,-1391.96 1654.03,2925.65 1646.57,2925.65 \"/>\n",
       "<path clip-path=\"url(#clip332)\" d=\"M1661.5 2925.65 L1661.5 -1391.96 L1668.24 -1391.96 L1668.24 2925.65 L1661.5 2925.65  Z\" fill=\"#e26f46\" fill-rule=\"evenodd\" fill-opacity=\"0.3\"/>\n",
       "<polyline clip-path=\"url(#clip332)\" style=\"stroke:#000000; stroke-linecap:round; stroke-linejoin:round; stroke-width:0; stroke-opacity:0.3; fill:none\" points=\"1661.5,2925.65 1661.5,-1391.96 1668.24,-1391.96 1668.24,2925.65 1661.5,2925.65 \"/>\n",
       "<path clip-path=\"url(#clip332)\" d=\"M1675.71 2925.65 L1675.71 -1391.96 L1682.94 -1391.96 L1682.94 2925.65 L1675.71 2925.65  Z\" fill=\"#e26f46\" fill-rule=\"evenodd\" fill-opacity=\"0.3\"/>\n",
       "<polyline clip-path=\"url(#clip332)\" style=\"stroke:#000000; stroke-linecap:round; stroke-linejoin:round; stroke-width:0; stroke-opacity:0.3; fill:none\" points=\"1675.71,2925.65 1675.71,-1391.96 1682.94,-1391.96 1682.94,2925.65 1675.71,2925.65 \"/>\n",
       "<path clip-path=\"url(#clip332)\" d=\"M1690.41 2925.65 L1690.41 -1391.96 L1697.63 -1391.96 L1697.63 2925.65 L1690.41 2925.65  Z\" fill=\"#e26f46\" fill-rule=\"evenodd\" fill-opacity=\"0.3\"/>\n",
       "<polyline clip-path=\"url(#clip332)\" style=\"stroke:#000000; stroke-linecap:round; stroke-linejoin:round; stroke-width:0; stroke-opacity:0.3; fill:none\" points=\"1690.41,2925.65 1690.41,-1391.96 1697.63,-1391.96 1697.63,2925.65 1690.41,2925.65 \"/>\n",
       "<path clip-path=\"url(#clip332)\" d=\"M1705.1 2925.65 L1705.1 -1391.96 L1712.57 -1391.96 L1712.57 2925.65 L1705.1 2925.65  Z\" fill=\"#e26f46\" fill-rule=\"evenodd\" fill-opacity=\"0.3\"/>\n",
       "<polyline clip-path=\"url(#clip332)\" style=\"stroke:#000000; stroke-linecap:round; stroke-linejoin:round; stroke-width:0; stroke-opacity:0.3; fill:none\" points=\"1705.1,2925.65 1705.1,-1391.96 1712.57,-1391.96 1712.57,2925.65 1705.1,2925.65 \"/>\n",
       "<path clip-path=\"url(#clip332)\" d=\"M1719.79 2925.65 L1719.79 -1391.96 L1727.26 -1391.96 L1727.26 2925.65 L1719.79 2925.65  Z\" fill=\"#e26f46\" fill-rule=\"evenodd\" fill-opacity=\"0.3\"/>\n",
       "<polyline clip-path=\"url(#clip332)\" style=\"stroke:#000000; stroke-linecap:round; stroke-linejoin:round; stroke-width:0; stroke-opacity:0.3; fill:none\" points=\"1719.79,2925.65 1719.79,-1391.96 1727.26,-1391.96 1727.26,2925.65 1719.79,2925.65 \"/>\n",
       "<path clip-path=\"url(#clip332)\" d=\"M1734.48 2925.65 L1734.48 -1391.96 L1741.95 -1391.96 L1741.95 2925.65 L1734.48 2925.65  Z\" fill=\"#e26f46\" fill-rule=\"evenodd\" fill-opacity=\"0.3\"/>\n",
       "<polyline clip-path=\"url(#clip332)\" style=\"stroke:#000000; stroke-linecap:round; stroke-linejoin:round; stroke-width:0; stroke-opacity:0.3; fill:none\" points=\"1734.48,2925.65 1734.48,-1391.96 1741.95,-1391.96 1741.95,2925.65 1734.48,2925.65 \"/>\n",
       "<path clip-path=\"url(#clip332)\" d=\"M1749.42 2925.65 L1749.42 -1391.96 L1756.16 -1391.96 L1756.16 2925.65 L1749.42 2925.65  Z\" fill=\"#e26f46\" fill-rule=\"evenodd\" fill-opacity=\"0.3\"/>\n",
       "<polyline clip-path=\"url(#clip332)\" style=\"stroke:#000000; stroke-linecap:round; stroke-linejoin:round; stroke-width:0; stroke-opacity:0.3; fill:none\" points=\"1749.42,2925.65 1749.42,-1391.96 1756.16,-1391.96 1756.16,2925.65 1749.42,2925.65 \"/>\n",
       "<path clip-path=\"url(#clip332)\" d=\"M1763.63 2925.65 L1763.63 -1391.96 L1770.86 -1391.96 L1770.86 2925.65 L1763.63 2925.65  Z\" fill=\"#e26f46\" fill-rule=\"evenodd\" fill-opacity=\"0.3\"/>\n",
       "<polyline clip-path=\"url(#clip332)\" style=\"stroke:#000000; stroke-linecap:round; stroke-linejoin:round; stroke-width:0; stroke-opacity:0.3; fill:none\" points=\"1763.63,2925.65 1763.63,-1391.96 1770.86,-1391.96 1770.86,2925.65 1763.63,2925.65 \"/>\n",
       "<path clip-path=\"url(#clip332)\" d=\"M1778.32 2925.65 L1778.32 -1391.96 L1785.55 -1391.96 L1785.55 2925.65 L1778.32 2925.65  Z\" fill=\"#e26f46\" fill-rule=\"evenodd\" fill-opacity=\"0.3\"/>\n",
       "<polyline clip-path=\"url(#clip332)\" style=\"stroke:#000000; stroke-linecap:round; stroke-linejoin:round; stroke-width:0; stroke-opacity:0.3; fill:none\" points=\"1778.32,2925.65 1778.32,-1391.96 1785.55,-1391.96 1785.55,2925.65 1778.32,2925.65 \"/>\n",
       "<path clip-path=\"url(#clip332)\" d=\"M1793.02 2925.65 L1793.02 -1391.96 L1800.48 -1391.96 L1800.48 2925.65 L1793.02 2925.65  Z\" fill=\"#e26f46\" fill-rule=\"evenodd\" fill-opacity=\"0.3\"/>\n",
       "<polyline clip-path=\"url(#clip332)\" style=\"stroke:#000000; stroke-linecap:round; stroke-linejoin:round; stroke-width:0; stroke-opacity:0.3; fill:none\" points=\"1793.02,2925.65 1793.02,-1391.96 1800.48,-1391.96 1800.48,2925.65 1793.02,2925.65 \"/>\n",
       "<path clip-path=\"url(#clip332)\" d=\"M1807.71 2925.65 L1807.71 -1391.96 L2005.95 -1391.96 L2005.95 2925.65 L1807.71 2925.65  Z\" fill=\"#e26f46\" fill-rule=\"evenodd\" fill-opacity=\"0.3\"/>\n",
       "<polyline clip-path=\"url(#clip332)\" style=\"stroke:#000000; stroke-linecap:round; stroke-linejoin:round; stroke-width:0; stroke-opacity:0.3; fill:none\" points=\"1807.71,2925.65 1807.71,-1391.96 2005.95,-1391.96 2005.95,2925.65 1807.71,2925.65 \"/>\n",
       "<path clip-path=\"url(#clip332)\" d=\"M2013.41 2925.65 L2013.41 -1391.96 L2020.16 -1391.96 L2020.16 2925.65 L2013.41 2925.65  Z\" fill=\"#e26f46\" fill-rule=\"evenodd\" fill-opacity=\"0.3\"/>\n",
       "<polyline clip-path=\"url(#clip332)\" style=\"stroke:#000000; stroke-linecap:round; stroke-linejoin:round; stroke-width:0; stroke-opacity:0.3; fill:none\" points=\"2013.41,2925.65 2013.41,-1391.96 2020.16,-1391.96 2020.16,2925.65 2013.41,2925.65 \"/>\n",
       "<path clip-path=\"url(#clip332)\" d=\"M2027.63 2925.65 L2027.63 -1391.96 L2034.85 -1391.96 L2034.85 2925.65 L2027.63 2925.65  Z\" fill=\"#e26f46\" fill-rule=\"evenodd\" fill-opacity=\"0.3\"/>\n",
       "<polyline clip-path=\"url(#clip332)\" style=\"stroke:#000000; stroke-linecap:round; stroke-linejoin:round; stroke-width:0; stroke-opacity:0.3; fill:none\" points=\"2027.63,2925.65 2027.63,-1391.96 2034.85,-1391.96 2034.85,2925.65 2027.63,2925.65 \"/>\n",
       "<path clip-path=\"url(#clip332)\" d=\"M2042.32 2925.65 L2042.32 -1391.96 L2049.55 -1391.96 L2049.55 2925.65 L2042.32 2925.65  Z\" fill=\"#e26f46\" fill-rule=\"evenodd\" fill-opacity=\"0.3\"/>\n",
       "<polyline clip-path=\"url(#clip332)\" style=\"stroke:#000000; stroke-linecap:round; stroke-linejoin:round; stroke-width:0; stroke-opacity:0.3; fill:none\" points=\"2042.32,2925.65 2042.32,-1391.96 2049.55,-1391.96 2049.55,2925.65 2042.32,2925.65 \"/>\n",
       "<path clip-path=\"url(#clip332)\" d=\"M2057.01 2925.65 L2057.01 -1391.96 L2064.48 -1391.96 L2064.48 2925.65 L2057.01 2925.65  Z\" fill=\"#e26f46\" fill-rule=\"evenodd\" fill-opacity=\"0.3\"/>\n",
       "<polyline clip-path=\"url(#clip332)\" style=\"stroke:#000000; stroke-linecap:round; stroke-linejoin:round; stroke-width:0; stroke-opacity:0.3; fill:none\" points=\"2057.01,2925.65 2057.01,-1391.96 2064.48,-1391.96 2064.48,2925.65 2057.01,2925.65 \"/>\n",
       "<path clip-path=\"url(#clip330)\" d=\"M264.711 1438.47 L711.686 1438.47 L711.686 1282.95 L264.711 1282.95  Z\" fill=\"#ffffff\" fill-rule=\"evenodd\" fill-opacity=\"1\"/>\n",
       "<polyline clip-path=\"url(#clip330)\" style=\"stroke:#000000; stroke-linecap:round; stroke-linejoin:round; stroke-width:4; stroke-opacity:1; fill:none\" points=\"264.711,1438.47 711.686,1438.47 711.686,1282.95 264.711,1282.95 264.711,1438.47 \"/>\n",
       "<polyline clip-path=\"url(#clip330)\" style=\"stroke:#009af9; stroke-linecap:round; stroke-linejoin:round; stroke-width:4; stroke-opacity:1; fill:none\" points=\"288.711,1334.79 432.714,1334.79 \"/>\n",
       "<path clip-path=\"url(#clip330)\" d=\"M472.548 1322.12 L466.206 1339.32 L478.914 1339.32 L472.548 1322.12 M469.909 1317.51 L475.21 1317.51 L488.381 1352.07 L483.52 1352.07 L480.372 1343.21 L464.794 1343.21 L461.645 1352.07 L456.715 1352.07 L469.909 1317.51 Z\" fill=\"#000000\" fill-rule=\"nonzero\" fill-opacity=\"1\" /><path clip-path=\"url(#clip330)\" d=\"M518.474 1320.18 L518.474 1325.11 Q516.113 1322.91 513.428 1321.82 Q510.766 1320.73 507.756 1320.73 Q501.83 1320.73 498.682 1324.37 Q495.534 1327.98 495.534 1334.83 Q495.534 1341.66 498.682 1345.29 Q501.83 1348.9 507.756 1348.9 Q510.766 1348.9 513.428 1347.82 Q516.113 1346.73 518.474 1344.53 L518.474 1349.41 Q516.02 1351.08 513.265 1351.91 Q510.534 1352.75 507.478 1352.75 Q499.631 1352.75 495.117 1347.95 Q490.604 1343.14 490.604 1334.83 Q490.604 1326.5 495.117 1321.7 Q499.631 1316.89 507.478 1316.89 Q510.58 1316.89 513.312 1317.72 Q516.066 1318.53 518.474 1320.18 Z\" fill=\"#000000\" fill-rule=\"nonzero\" fill-opacity=\"1\" /><path clip-path=\"url(#clip330)\" d=\"M522.617 1317.51 L527.339 1317.51 L534.608 1346.73 L541.853 1317.51 L547.108 1317.51 L554.376 1346.73 L561.622 1317.51 L566.367 1317.51 L557.687 1352.07 L551.807 1352.07 L544.515 1322.07 L537.154 1352.07 L531.275 1352.07 L522.617 1317.51 Z\" fill=\"#000000\" fill-rule=\"nonzero\" fill-opacity=\"1\" /><path clip-path=\"url(#clip330)\" d=\"M572.571 1317.51 L577.247 1317.51 L577.247 1352.07 L572.571 1352.07 L572.571 1317.51 Z\" fill=\"#000000\" fill-rule=\"nonzero\" fill-opacity=\"1\" /><path clip-path=\"url(#clip330)\" d=\"M606.066 1359.94 L606.066 1363.25 L581.436 1363.25 L581.436 1359.94 L606.066 1359.94 Z\" fill=\"#000000\" fill-rule=\"nonzero\" fill-opacity=\"1\" /><path clip-path=\"url(#clip330)\" d=\"M610.256 1317.51 L616.552 1317.51 L631.876 1346.43 L631.876 1317.51 L636.413 1317.51 L636.413 1352.07 L630.117 1352.07 L614.793 1323.16 L614.793 1352.07 L610.256 1352.07 L610.256 1317.51 Z\" fill=\"#000000\" fill-rule=\"nonzero\" fill-opacity=\"1\" /><path clip-path=\"url(#clip330)\" d=\"M667.709 1338.05 L667.709 1340.13 L648.126 1340.13 Q648.404 1344.53 650.765 1346.84 Q653.149 1349.13 657.385 1349.13 Q659.839 1349.13 662.13 1348.53 Q664.445 1347.93 666.714 1346.73 L666.714 1350.75 Q664.422 1351.73 662.015 1352.24 Q659.607 1352.75 657.13 1352.75 Q650.927 1352.75 647.293 1349.13 Q643.681 1345.52 643.681 1339.37 Q643.681 1333 647.107 1329.27 Q650.556 1325.52 656.39 1325.52 Q661.621 1325.52 664.654 1328.9 Q667.709 1332.26 667.709 1338.05 M663.45 1336.8 Q663.404 1333.3 661.482 1331.22 Q659.584 1329.13 656.436 1329.13 Q652.871 1329.13 650.718 1331.15 Q648.589 1333.16 648.265 1336.82 L663.45 1336.8 Z\" fill=\"#000000\" fill-rule=\"nonzero\" fill-opacity=\"1\" /><path clip-path=\"url(#clip330)\" d=\"M678.913 1318.79 L678.913 1326.15 L687.686 1326.15 L687.686 1329.46 L678.913 1329.46 L678.913 1343.53 Q678.913 1346.7 679.769 1347.61 Q680.649 1348.51 683.311 1348.51 L687.686 1348.51 L687.686 1352.07 L683.311 1352.07 Q678.38 1352.07 676.505 1350.25 Q674.63 1348.39 674.63 1343.53 L674.63 1329.46 L671.505 1329.46 L671.505 1326.15 L674.63 1326.15 L674.63 1318.79 L678.913 1318.79 Z\" fill=\"#000000\" fill-rule=\"nonzero\" fill-opacity=\"1\" /><path clip-path=\"url(#clip330)\" d=\"M288.711 1407.37 L432.714 1407.37 L432.714 1365.9 L288.711 1365.9 L288.711 1407.37  Z\" fill=\"#e26f46\" fill-rule=\"evenodd\" fill-opacity=\"0.3\"/>\n",
       "<polyline clip-path=\"url(#clip330)\" style=\"stroke:#000000; stroke-linecap:round; stroke-linejoin:round; stroke-width:0.8; stroke-opacity:1; fill:none\" points=\"288.711,1407.37 432.714,1407.37 432.714,1365.9 288.711,1365.9 288.711,1407.37 \"/>\n",
       "<path clip-path=\"url(#clip330)\" d=\"M470.557 1406.32 Q468.752 1410.95 467.039 1412.36 Q465.326 1413.78 462.456 1413.78 L459.053 1413.78 L459.053 1410.21 L461.553 1410.21 Q463.312 1410.21 464.284 1409.38 Q465.256 1408.54 466.437 1405.44 L467.201 1403.5 L456.715 1377.99 L461.229 1377.99 L469.331 1398.27 L477.432 1377.99 L481.946 1377.99 L470.557 1406.32 Z\" fill=\"#000000\" fill-rule=\"nonzero\" fill-opacity=\"1\" /><path clip-path=\"url(#clip330)\" d=\"M492.455 1399.98 L508.775 1399.98 L508.775 1403.91 L486.83 1403.91 L486.83 1399.98 Q489.492 1397.22 494.076 1392.6 Q498.682 1387.94 499.863 1386.6 Q502.108 1384.08 502.988 1382.34 Q503.891 1380.58 503.891 1378.89 Q503.891 1376.14 501.946 1374.4 Q500.025 1372.66 496.923 1372.66 Q494.724 1372.66 492.27 1373.43 Q489.84 1374.19 487.062 1375.74 L487.062 1371.02 Q489.886 1369.89 492.34 1369.31 Q494.793 1368.73 496.83 1368.73 Q502.201 1368.73 505.395 1371.41 Q508.59 1374.1 508.59 1378.59 Q508.59 1380.72 507.779 1382.64 Q506.992 1384.54 504.886 1387.13 Q504.307 1387.8 501.205 1391.02 Q498.104 1394.22 492.455 1399.98 Z\" fill=\"#000000\" fill-rule=\"nonzero\" fill-opacity=\"1\" /></svg>\n"
      ],
      "text/html": [
       "<?xml version=\"1.0\" encoding=\"utf-8\"?>\n",
       "<svg xmlns=\"http://www.w3.org/2000/svg\" xmlns:xlink=\"http://www.w3.org/1999/xlink\" width=\"600\" height=\"400\" viewBox=\"0 0 2400 1600\">\n",
       "<defs>\n",
       "  <clipPath id=\"clip380\">\n",
       "    <rect x=\"0\" y=\"0\" width=\"2400\" height=\"1600\"/>\n",
       "  </clipPath>\n",
       "</defs>\n",
       "<path clip-path=\"url(#clip380)\" d=\"M0 1600 L2400 1600 L2400 0 L0 0  Z\" fill=\"#ffffff\" fill-rule=\"evenodd\" fill-opacity=\"1\"/>\n",
       "<defs>\n",
       "  <clipPath id=\"clip381\">\n",
       "    <rect x=\"480\" y=\"0\" width=\"1681\" height=\"1600\"/>\n",
       "  </clipPath>\n",
       "</defs>\n",
       "<path clip-path=\"url(#clip380)\" d=\"M192.709 1486.45 L2352.76 1486.45 L2352.76 47.2441 L192.709 47.2441  Z\" fill=\"#ffffff\" fill-rule=\"evenodd\" fill-opacity=\"1\"/>\n",
       "<defs>\n",
       "  <clipPath id=\"clip382\">\n",
       "    <rect x=\"192\" y=\"47\" width=\"2161\" height=\"1440\"/>\n",
       "  </clipPath>\n",
       "</defs>\n",
       "<polyline clip-path=\"url(#clip382)\" style=\"stroke:#000000; stroke-linecap:round; stroke-linejoin:round; stroke-width:2; stroke-opacity:0.1; fill:none\" points=\"246.616,1486.45 246.616,47.2441 \"/>\n",
       "<polyline clip-path=\"url(#clip382)\" style=\"stroke:#000000; stroke-linecap:round; stroke-linejoin:round; stroke-width:2; stroke-opacity:0.1; fill:none\" points=\"774.368,1486.45 774.368,47.2441 \"/>\n",
       "<polyline clip-path=\"url(#clip382)\" style=\"stroke:#000000; stroke-linecap:round; stroke-linejoin:round; stroke-width:2; stroke-opacity:0.1; fill:none\" points=\"1302.36,1486.45 1302.36,47.2441 \"/>\n",
       "<polyline clip-path=\"url(#clip382)\" style=\"stroke:#000000; stroke-linecap:round; stroke-linejoin:round; stroke-width:2; stroke-opacity:0.1; fill:none\" points=\"1830.11,1486.45 1830.11,47.2441 \"/>\n",
       "<polyline clip-path=\"url(#clip380)\" style=\"stroke:#000000; stroke-linecap:round; stroke-linejoin:round; stroke-width:4; stroke-opacity:1; fill:none\" points=\"192.709,1486.45 2352.76,1486.45 \"/>\n",
       "<polyline clip-path=\"url(#clip380)\" style=\"stroke:#000000; stroke-linecap:round; stroke-linejoin:round; stroke-width:4; stroke-opacity:1; fill:none\" points=\"246.616,1486.45 246.616,1467.55 \"/>\n",
       "<polyline clip-path=\"url(#clip380)\" style=\"stroke:#000000; stroke-linecap:round; stroke-linejoin:round; stroke-width:4; stroke-opacity:1; fill:none\" points=\"774.368,1486.45 774.368,1467.55 \"/>\n",
       "<polyline clip-path=\"url(#clip380)\" style=\"stroke:#000000; stroke-linecap:round; stroke-linejoin:round; stroke-width:4; stroke-opacity:1; fill:none\" points=\"1302.36,1486.45 1302.36,1467.55 \"/>\n",
       "<polyline clip-path=\"url(#clip380)\" style=\"stroke:#000000; stroke-linecap:round; stroke-linejoin:round; stroke-width:4; stroke-opacity:1; fill:none\" points=\"1830.11,1486.45 1830.11,1467.55 \"/>\n",
       "<path clip-path=\"url(#clip380)\" d=\"M118.411 1544.91 L134.73 1544.91 L134.73 1548.85 L112.786 1548.85 L112.786 1544.91 Q115.448 1542.16 120.031 1537.53 Q124.638 1532.88 125.818 1531.53 Q128.064 1529.01 128.943 1527.27 Q129.846 1525.51 129.846 1523.82 Q129.846 1521.07 127.902 1519.33 Q125.98 1517.6 122.879 1517.6 Q120.68 1517.6 118.226 1518.36 Q115.795 1519.13 113.018 1520.68 L113.018 1515.95 Q115.842 1514.82 118.295 1514.24 Q120.749 1513.66 122.786 1513.66 Q128.156 1513.66 131.351 1516.35 Q134.545 1519.03 134.545 1523.52 Q134.545 1525.65 133.735 1527.57 Q132.948 1529.47 130.842 1532.07 Q130.263 1532.74 127.161 1535.95 Q124.059 1539.15 118.411 1544.91 Z\" fill=\"#000000\" fill-rule=\"nonzero\" fill-opacity=\"1\" /><path clip-path=\"url(#clip380)\" d=\"M154.545 1517.37 Q150.934 1517.37 149.105 1520.93 Q147.3 1524.47 147.3 1531.6 Q147.3 1538.71 149.105 1542.27 Q150.934 1545.82 154.545 1545.82 Q158.179 1545.82 159.985 1542.27 Q161.814 1538.71 161.814 1531.6 Q161.814 1524.47 159.985 1520.93 Q158.179 1517.37 154.545 1517.37 M154.545 1513.66 Q160.355 1513.66 163.411 1518.27 Q166.489 1522.85 166.489 1531.6 Q166.489 1540.33 163.411 1544.94 Q160.355 1549.52 154.545 1549.52 Q148.735 1549.52 145.656 1544.94 Q142.601 1540.33 142.601 1531.6 Q142.601 1522.85 145.656 1518.27 Q148.735 1513.66 154.545 1513.66 Z\" fill=\"#000000\" fill-rule=\"nonzero\" fill-opacity=\"1\" /><path clip-path=\"url(#clip380)\" d=\"M184.707 1517.37 Q181.096 1517.37 179.267 1520.93 Q177.462 1524.47 177.462 1531.6 Q177.462 1538.71 179.267 1542.27 Q181.096 1545.82 184.707 1545.82 Q188.341 1545.82 190.147 1542.27 Q191.975 1538.71 191.975 1531.6 Q191.975 1524.47 190.147 1520.93 Q188.341 1517.37 184.707 1517.37 M184.707 1513.66 Q190.517 1513.66 193.573 1518.27 Q196.651 1522.85 196.651 1531.6 Q196.651 1540.33 193.573 1544.94 Q190.517 1549.52 184.707 1549.52 Q178.897 1549.52 175.818 1544.94 Q172.763 1540.33 172.763 1531.6 Q172.763 1522.85 175.818 1518.27 Q178.897 1513.66 184.707 1513.66 Z\" fill=\"#000000\" fill-rule=\"nonzero\" fill-opacity=\"1\" /><path clip-path=\"url(#clip380)\" d=\"M205.679 1544.91 L213.318 1544.91 L213.318 1518.55 L205.008 1520.21 L205.008 1515.95 L213.272 1514.29 L217.948 1514.29 L217.948 1544.91 L225.586 1544.91 L225.586 1548.85 L205.679 1548.85 L205.679 1544.91 Z\" fill=\"#000000\" fill-rule=\"nonzero\" fill-opacity=\"1\" /><path clip-path=\"url(#clip380)\" d=\"M232.276 1533.96 L244.753 1533.96 L244.753 1537.76 L232.276 1537.76 L232.276 1533.96 Z\" fill=\"#000000\" fill-rule=\"nonzero\" fill-opacity=\"1\" /><path clip-path=\"url(#clip380)\" d=\"M262.137 1517.37 Q258.526 1517.37 256.697 1520.93 Q254.892 1524.47 254.892 1531.6 Q254.892 1538.71 256.697 1542.27 Q258.526 1545.82 262.137 1545.82 Q265.771 1545.82 267.577 1542.27 Q269.406 1538.71 269.406 1531.6 Q269.406 1524.47 267.577 1520.93 Q265.771 1517.37 262.137 1517.37 M262.137 1513.66 Q267.947 1513.66 271.003 1518.27 Q274.082 1522.85 274.082 1531.6 Q274.082 1540.33 271.003 1544.94 Q267.947 1549.52 262.137 1549.52 Q256.327 1549.52 253.248 1544.94 Q250.193 1540.33 250.193 1531.6 Q250.193 1522.85 253.248 1518.27 Q256.327 1513.66 262.137 1513.66 Z\" fill=\"#000000\" fill-rule=\"nonzero\" fill-opacity=\"1\" /><path clip-path=\"url(#clip380)\" d=\"M283.109 1544.91 L290.748 1544.91 L290.748 1518.55 L282.438 1520.21 L282.438 1515.95 L290.702 1514.29 L295.378 1514.29 L295.378 1544.91 L303.017 1544.91 L303.017 1548.85 L283.109 1548.85 L283.109 1544.91 Z\" fill=\"#000000\" fill-rule=\"nonzero\" fill-opacity=\"1\" /><path clip-path=\"url(#clip380)\" d=\"M309.706 1533.96 L322.183 1533.96 L322.183 1537.76 L309.706 1537.76 L309.706 1533.96 Z\" fill=\"#000000\" fill-rule=\"nonzero\" fill-opacity=\"1\" /><path clip-path=\"url(#clip380)\" d=\"M339.567 1517.37 Q335.956 1517.37 334.127 1520.93 Q332.322 1524.47 332.322 1531.6 Q332.322 1538.71 334.127 1542.27 Q335.956 1545.82 339.567 1545.82 Q343.202 1545.82 345.007 1542.27 Q346.836 1538.71 346.836 1531.6 Q346.836 1524.47 345.007 1520.93 Q343.202 1517.37 339.567 1517.37 M339.567 1513.66 Q345.377 1513.66 348.433 1518.27 Q351.512 1522.85 351.512 1531.6 Q351.512 1540.33 348.433 1544.94 Q345.377 1549.52 339.567 1549.52 Q333.757 1549.52 330.678 1544.94 Q327.623 1540.33 327.623 1531.6 Q327.623 1522.85 330.678 1518.27 Q333.757 1513.66 339.567 1513.66 Z\" fill=\"#000000\" fill-rule=\"nonzero\" fill-opacity=\"1\" /><path clip-path=\"url(#clip380)\" d=\"M360.539 1544.91 L368.178 1544.91 L368.178 1518.55 L359.868 1520.21 L359.868 1515.95 L368.132 1514.29 L372.808 1514.29 L372.808 1544.91 L380.447 1544.91 L380.447 1548.85 L360.539 1548.85 L360.539 1544.91 Z\" fill=\"#000000\" fill-rule=\"nonzero\" fill-opacity=\"1\" /><path clip-path=\"url(#clip380)\" d=\"M646.162 1544.91 L662.482 1544.91 L662.482 1548.85 L640.537 1548.85 L640.537 1544.91 Q643.199 1542.16 647.783 1537.53 Q652.389 1532.88 653.57 1531.53 Q655.815 1529.01 656.695 1527.27 Q657.597 1525.51 657.597 1523.82 Q657.597 1521.07 655.653 1519.33 Q653.732 1517.6 650.63 1517.6 Q648.431 1517.6 645.977 1518.36 Q643.547 1519.13 640.769 1520.68 L640.769 1515.95 Q643.593 1514.82 646.047 1514.24 Q648.5 1513.66 650.537 1513.66 Q655.908 1513.66 659.102 1516.35 Q662.297 1519.03 662.297 1523.52 Q662.297 1525.65 661.486 1527.57 Q660.699 1529.47 658.593 1532.07 Q658.014 1532.74 654.912 1535.95 Q651.81 1539.15 646.162 1544.91 Z\" fill=\"#000000\" fill-rule=\"nonzero\" fill-opacity=\"1\" /><path clip-path=\"url(#clip380)\" d=\"M682.296 1517.37 Q678.685 1517.37 676.857 1520.93 Q675.051 1524.47 675.051 1531.6 Q675.051 1538.71 676.857 1542.27 Q678.685 1545.82 682.296 1545.82 Q685.931 1545.82 687.736 1542.27 Q689.565 1538.71 689.565 1531.6 Q689.565 1524.47 687.736 1520.93 Q685.931 1517.37 682.296 1517.37 M682.296 1513.66 Q688.107 1513.66 691.162 1518.27 Q694.241 1522.85 694.241 1531.6 Q694.241 1540.33 691.162 1544.94 Q688.107 1549.52 682.296 1549.52 Q676.486 1549.52 673.408 1544.94 Q670.352 1540.33 670.352 1531.6 Q670.352 1522.85 673.408 1518.27 Q676.486 1513.66 682.296 1513.66 Z\" fill=\"#000000\" fill-rule=\"nonzero\" fill-opacity=\"1\" /><path clip-path=\"url(#clip380)\" d=\"M712.458 1517.37 Q708.847 1517.37 707.018 1520.93 Q705.213 1524.47 705.213 1531.6 Q705.213 1538.71 707.018 1542.27 Q708.847 1545.82 712.458 1545.82 Q716.093 1545.82 717.898 1542.27 Q719.727 1538.71 719.727 1531.6 Q719.727 1524.47 717.898 1520.93 Q716.093 1517.37 712.458 1517.37 M712.458 1513.66 Q718.268 1513.66 721.324 1518.27 Q724.403 1522.85 724.403 1531.6 Q724.403 1540.33 721.324 1544.94 Q718.268 1549.52 712.458 1549.52 Q706.648 1549.52 703.569 1544.94 Q700.514 1540.33 700.514 1531.6 Q700.514 1522.85 703.569 1518.27 Q706.648 1513.66 712.458 1513.66 Z\" fill=\"#000000\" fill-rule=\"nonzero\" fill-opacity=\"1\" /><path clip-path=\"url(#clip380)\" d=\"M731.44 1514.29 L753.662 1514.29 L753.662 1516.28 L741.116 1548.85 L736.231 1548.85 L748.037 1518.22 L731.44 1518.22 L731.44 1514.29 Z\" fill=\"#000000\" fill-rule=\"nonzero\" fill-opacity=\"1\" /><path clip-path=\"url(#clip380)\" d=\"M760.027 1533.96 L772.504 1533.96 L772.504 1537.76 L760.027 1537.76 L760.027 1533.96 Z\" fill=\"#000000\" fill-rule=\"nonzero\" fill-opacity=\"1\" /><path clip-path=\"url(#clip380)\" d=\"M789.888 1517.37 Q786.277 1517.37 784.449 1520.93 Q782.643 1524.47 782.643 1531.6 Q782.643 1538.71 784.449 1542.27 Q786.277 1545.82 789.888 1545.82 Q793.523 1545.82 795.328 1542.27 Q797.157 1538.71 797.157 1531.6 Q797.157 1524.47 795.328 1520.93 Q793.523 1517.37 789.888 1517.37 M789.888 1513.66 Q795.699 1513.66 798.754 1518.27 Q801.833 1522.85 801.833 1531.6 Q801.833 1540.33 798.754 1544.94 Q795.699 1549.52 789.888 1549.52 Q784.078 1549.52 781 1544.94 Q777.944 1540.33 777.944 1531.6 Q777.944 1522.85 781 1518.27 Q784.078 1513.66 789.888 1513.66 Z\" fill=\"#000000\" fill-rule=\"nonzero\" fill-opacity=\"1\" /><path clip-path=\"url(#clip380)\" d=\"M810.861 1544.91 L818.499 1544.91 L818.499 1518.55 L810.189 1520.21 L810.189 1515.95 L818.453 1514.29 L823.129 1514.29 L823.129 1544.91 L830.768 1544.91 L830.768 1548.85 L810.861 1548.85 L810.861 1544.91 Z\" fill=\"#000000\" fill-rule=\"nonzero\" fill-opacity=\"1\" /><path clip-path=\"url(#clip380)\" d=\"M837.458 1533.96 L849.934 1533.96 L849.934 1537.76 L837.458 1537.76 L837.458 1533.96 Z\" fill=\"#000000\" fill-rule=\"nonzero\" fill-opacity=\"1\" /><path clip-path=\"url(#clip380)\" d=\"M867.319 1517.37 Q863.707 1517.37 861.879 1520.93 Q860.073 1524.47 860.073 1531.6 Q860.073 1538.71 861.879 1542.27 Q863.707 1545.82 867.319 1545.82 Q870.953 1545.82 872.758 1542.27 Q874.587 1538.71 874.587 1531.6 Q874.587 1524.47 872.758 1520.93 Q870.953 1517.37 867.319 1517.37 M867.319 1513.66 Q873.129 1513.66 876.184 1518.27 Q879.263 1522.85 879.263 1531.6 Q879.263 1540.33 876.184 1544.94 Q873.129 1549.52 867.319 1549.52 Q861.508 1549.52 858.43 1544.94 Q855.374 1540.33 855.374 1531.6 Q855.374 1522.85 858.43 1518.27 Q861.508 1513.66 867.319 1513.66 Z\" fill=\"#000000\" fill-rule=\"nonzero\" fill-opacity=\"1\" /><path clip-path=\"url(#clip380)\" d=\"M888.291 1544.91 L895.93 1544.91 L895.93 1518.55 L887.619 1520.21 L887.619 1515.95 L895.883 1514.29 L900.559 1514.29 L900.559 1544.91 L908.198 1544.91 L908.198 1548.85 L888.291 1548.85 L888.291 1544.91 Z\" fill=\"#000000\" fill-rule=\"nonzero\" fill-opacity=\"1\" /><path clip-path=\"url(#clip380)\" d=\"M1174.15 1544.91 L1190.47 1544.91 L1190.47 1548.85 L1168.53 1548.85 L1168.53 1544.91 Q1171.19 1542.16 1175.77 1537.53 Q1180.38 1532.88 1181.56 1531.53 Q1183.81 1529.01 1184.69 1527.27 Q1185.59 1525.51 1185.59 1523.82 Q1185.59 1521.07 1183.65 1519.33 Q1181.72 1517.6 1178.62 1517.6 Q1176.42 1517.6 1173.97 1518.36 Q1171.54 1519.13 1168.76 1520.68 L1168.76 1515.95 Q1171.59 1514.82 1174.04 1514.24 Q1176.49 1513.66 1178.53 1513.66 Q1183.9 1513.66 1187.09 1516.35 Q1190.29 1519.03 1190.29 1523.52 Q1190.29 1525.65 1189.48 1527.57 Q1188.69 1529.47 1186.58 1532.07 Q1186.01 1532.74 1182.9 1535.95 Q1179.8 1539.15 1174.15 1544.91 Z\" fill=\"#000000\" fill-rule=\"nonzero\" fill-opacity=\"1\" /><path clip-path=\"url(#clip380)\" d=\"M1210.29 1517.37 Q1206.68 1517.37 1204.85 1520.93 Q1203.04 1524.47 1203.04 1531.6 Q1203.04 1538.71 1204.85 1542.27 Q1206.68 1545.82 1210.29 1545.82 Q1213.92 1545.82 1215.73 1542.27 Q1217.56 1538.71 1217.56 1531.6 Q1217.56 1524.47 1215.73 1520.93 Q1213.92 1517.37 1210.29 1517.37 M1210.29 1513.66 Q1216.1 1513.66 1219.15 1518.27 Q1222.23 1522.85 1222.23 1531.6 Q1222.23 1540.33 1219.15 1544.94 Q1216.1 1549.52 1210.29 1549.52 Q1204.48 1549.52 1201.4 1544.94 Q1198.34 1540.33 1198.34 1531.6 Q1198.34 1522.85 1201.4 1518.27 Q1204.48 1513.66 1210.29 1513.66 Z\" fill=\"#000000\" fill-rule=\"nonzero\" fill-opacity=\"1\" /><path clip-path=\"url(#clip380)\" d=\"M1231.26 1544.91 L1238.9 1544.91 L1238.9 1518.55 L1230.59 1520.21 L1230.59 1515.95 L1238.85 1514.29 L1243.53 1514.29 L1243.53 1544.91 L1251.17 1544.91 L1251.17 1548.85 L1231.26 1548.85 L1231.26 1544.91 Z\" fill=\"#000000\" fill-rule=\"nonzero\" fill-opacity=\"1\" /><path clip-path=\"url(#clip380)\" d=\"M1274.78 1530.21 Q1278.14 1530.93 1280.01 1533.2 Q1281.91 1535.47 1281.91 1538.8 Q1281.91 1543.92 1278.39 1546.72 Q1274.87 1549.52 1268.39 1549.52 Q1266.21 1549.52 1263.9 1549.08 Q1261.61 1548.66 1259.15 1547.81 L1259.15 1543.29 Q1261.1 1544.43 1263.41 1545.01 Q1265.73 1545.58 1268.25 1545.58 Q1272.65 1545.58 1274.94 1543.85 Q1277.26 1542.11 1277.26 1538.8 Q1277.26 1535.75 1275.1 1534.03 Q1272.97 1532.3 1269.15 1532.3 L1265.13 1532.3 L1265.13 1528.45 L1269.34 1528.45 Q1272.79 1528.45 1274.62 1527.09 Q1276.45 1525.7 1276.45 1523.11 Q1276.45 1520.45 1274.55 1519.03 Q1272.67 1517.6 1269.15 1517.6 Q1267.23 1517.6 1265.03 1518.01 Q1262.83 1518.43 1260.2 1519.31 L1260.2 1515.14 Q1262.86 1514.4 1265.17 1514.03 Q1267.51 1513.66 1269.57 1513.66 Q1274.89 1513.66 1278 1516.09 Q1281.1 1518.5 1281.1 1522.62 Q1281.1 1525.49 1279.45 1527.48 Q1277.81 1529.45 1274.78 1530.21 Z\" fill=\"#000000\" fill-rule=\"nonzero\" fill-opacity=\"1\" /><path clip-path=\"url(#clip380)\" d=\"M1288.02 1533.96 L1300.5 1533.96 L1300.5 1537.76 L1288.02 1537.76 L1288.02 1533.96 Z\" fill=\"#000000\" fill-rule=\"nonzero\" fill-opacity=\"1\" /><path clip-path=\"url(#clip380)\" d=\"M1317.88 1517.37 Q1314.27 1517.37 1312.44 1520.93 Q1310.64 1524.47 1310.64 1531.6 Q1310.64 1538.71 1312.44 1542.27 Q1314.27 1545.82 1317.88 1545.82 Q1321.51 1545.82 1323.32 1542.27 Q1325.15 1538.71 1325.15 1531.6 Q1325.15 1524.47 1323.32 1520.93 Q1321.51 1517.37 1317.88 1517.37 M1317.88 1513.66 Q1323.69 1513.66 1326.75 1518.27 Q1329.82 1522.85 1329.82 1531.6 Q1329.82 1540.33 1326.75 1544.94 Q1323.69 1549.52 1317.88 1549.52 Q1312.07 1549.52 1308.99 1544.94 Q1305.94 1540.33 1305.94 1531.6 Q1305.94 1522.85 1308.99 1518.27 Q1312.07 1513.66 1317.88 1513.66 Z\" fill=\"#000000\" fill-rule=\"nonzero\" fill-opacity=\"1\" /><path clip-path=\"url(#clip380)\" d=\"M1338.85 1544.91 L1346.49 1544.91 L1346.49 1518.55 L1338.18 1520.21 L1338.18 1515.95 L1346.45 1514.29 L1351.12 1514.29 L1351.12 1544.91 L1358.76 1544.91 L1358.76 1548.85 L1338.85 1548.85 L1338.85 1544.91 Z\" fill=\"#000000\" fill-rule=\"nonzero\" fill-opacity=\"1\" /><path clip-path=\"url(#clip380)\" d=\"M1365.45 1533.96 L1377.93 1533.96 L1377.93 1537.76 L1365.45 1537.76 L1365.45 1533.96 Z\" fill=\"#000000\" fill-rule=\"nonzero\" fill-opacity=\"1\" /><path clip-path=\"url(#clip380)\" d=\"M1395.31 1517.37 Q1391.7 1517.37 1389.87 1520.93 Q1388.07 1524.47 1388.07 1531.6 Q1388.07 1538.71 1389.87 1542.27 Q1391.7 1545.82 1395.31 1545.82 Q1398.94 1545.82 1400.75 1542.27 Q1402.58 1538.71 1402.58 1531.6 Q1402.58 1524.47 1400.75 1520.93 Q1398.94 1517.37 1395.31 1517.37 M1395.31 1513.66 Q1401.12 1513.66 1404.18 1518.27 Q1407.26 1522.85 1407.26 1531.6 Q1407.26 1540.33 1404.18 1544.94 Q1401.12 1549.52 1395.31 1549.52 Q1389.5 1549.52 1386.42 1544.94 Q1383.37 1540.33 1383.37 1531.6 Q1383.37 1522.85 1386.42 1518.27 Q1389.5 1513.66 1395.31 1513.66 Z\" fill=\"#000000\" fill-rule=\"nonzero\" fill-opacity=\"1\" /><path clip-path=\"url(#clip380)\" d=\"M1416.28 1544.91 L1423.92 1544.91 L1423.92 1518.55 L1415.61 1520.21 L1415.61 1515.95 L1423.88 1514.29 L1428.55 1514.29 L1428.55 1544.91 L1436.19 1544.91 L1436.19 1548.85 L1416.28 1548.85 L1416.28 1544.91 Z\" fill=\"#000000\" fill-rule=\"nonzero\" fill-opacity=\"1\" /><path clip-path=\"url(#clip380)\" d=\"M1701.91 1544.91 L1718.23 1544.91 L1718.23 1548.85 L1696.28 1548.85 L1696.28 1544.91 Q1698.94 1542.16 1703.53 1537.53 Q1708.13 1532.88 1709.31 1531.53 Q1711.56 1529.01 1712.44 1527.27 Q1713.34 1525.51 1713.34 1523.82 Q1713.34 1521.07 1711.4 1519.33 Q1709.48 1517.6 1706.37 1517.6 Q1704.17 1517.6 1701.72 1518.36 Q1699.29 1519.13 1696.51 1520.68 L1696.51 1515.95 Q1699.34 1514.82 1701.79 1514.24 Q1704.24 1513.66 1706.28 1513.66 Q1711.65 1513.66 1714.85 1516.35 Q1718.04 1519.03 1718.04 1523.52 Q1718.04 1525.65 1717.23 1527.57 Q1716.44 1529.47 1714.34 1532.07 Q1713.76 1532.74 1710.66 1535.95 Q1707.55 1539.15 1701.91 1544.91 Z\" fill=\"#000000\" fill-rule=\"nonzero\" fill-opacity=\"1\" /><path clip-path=\"url(#clip380)\" d=\"M1738.04 1517.37 Q1734.43 1517.37 1732.6 1520.93 Q1730.79 1524.47 1730.79 1531.6 Q1730.79 1538.71 1732.6 1542.27 Q1734.43 1545.82 1738.04 1545.82 Q1741.67 1545.82 1743.48 1542.27 Q1745.31 1538.71 1745.31 1531.6 Q1745.31 1524.47 1743.48 1520.93 Q1741.67 1517.37 1738.04 1517.37 M1738.04 1513.66 Q1743.85 1513.66 1746.91 1518.27 Q1749.98 1522.85 1749.98 1531.6 Q1749.98 1540.33 1746.91 1544.94 Q1743.85 1549.52 1738.04 1549.52 Q1732.23 1549.52 1729.15 1544.94 Q1726.1 1540.33 1726.1 1531.6 Q1726.1 1522.85 1729.15 1518.27 Q1732.23 1513.66 1738.04 1513.66 Z\" fill=\"#000000\" fill-rule=\"nonzero\" fill-opacity=\"1\" /><path clip-path=\"url(#clip380)\" d=\"M1759.01 1544.91 L1766.65 1544.91 L1766.65 1518.55 L1758.34 1520.21 L1758.34 1515.95 L1766.6 1514.29 L1771.28 1514.29 L1771.28 1544.91 L1778.92 1544.91 L1778.92 1548.85 L1759.01 1548.85 L1759.01 1544.91 Z\" fill=\"#000000\" fill-rule=\"nonzero\" fill-opacity=\"1\" /><path clip-path=\"url(#clip380)\" d=\"M1788.5 1548.13 L1788.5 1543.87 Q1790.26 1544.7 1792.07 1545.14 Q1793.87 1545.58 1795.61 1545.58 Q1800.24 1545.58 1802.67 1542.48 Q1805.12 1539.36 1805.47 1533.01 Q1804.13 1535.01 1802.07 1536.07 Q1800.01 1537.13 1797.51 1537.13 Q1792.32 1537.13 1789.29 1534.01 Q1786.28 1530.86 1786.28 1525.42 Q1786.28 1520.1 1789.43 1516.88 Q1792.58 1513.66 1797.81 1513.66 Q1803.8 1513.66 1806.95 1518.27 Q1810.12 1522.85 1810.12 1531.6 Q1810.12 1539.77 1806.23 1544.66 Q1802.37 1549.52 1795.82 1549.52 Q1794.06 1549.52 1792.25 1549.17 Q1790.45 1548.82 1788.5 1548.13 M1797.81 1533.48 Q1800.96 1533.48 1802.78 1531.32 Q1804.64 1529.17 1804.64 1525.42 Q1804.64 1521.7 1802.78 1519.54 Q1800.96 1517.37 1797.81 1517.37 Q1794.66 1517.37 1792.81 1519.54 Q1790.98 1521.7 1790.98 1525.42 Q1790.98 1529.17 1792.81 1531.32 Q1794.66 1533.48 1797.81 1533.48 Z\" fill=\"#000000\" fill-rule=\"nonzero\" fill-opacity=\"1\" /><path clip-path=\"url(#clip380)\" d=\"M1815.77 1533.96 L1828.25 1533.96 L1828.25 1537.76 L1815.77 1537.76 L1815.77 1533.96 Z\" fill=\"#000000\" fill-rule=\"nonzero\" fill-opacity=\"1\" /><path clip-path=\"url(#clip380)\" d=\"M1845.63 1517.37 Q1842.02 1517.37 1840.19 1520.93 Q1838.39 1524.47 1838.39 1531.6 Q1838.39 1538.71 1840.19 1542.27 Q1842.02 1545.82 1845.63 1545.82 Q1849.27 1545.82 1851.07 1542.27 Q1852.9 1538.71 1852.9 1531.6 Q1852.9 1524.47 1851.07 1520.93 Q1849.27 1517.37 1845.63 1517.37 M1845.63 1513.66 Q1851.44 1513.66 1854.5 1518.27 Q1857.58 1522.85 1857.58 1531.6 Q1857.58 1540.33 1854.5 1544.94 Q1851.44 1549.52 1845.63 1549.52 Q1839.82 1549.52 1836.74 1544.94 Q1833.69 1540.33 1833.69 1531.6 Q1833.69 1522.85 1836.74 1518.27 Q1839.82 1513.66 1845.63 1513.66 Z\" fill=\"#000000\" fill-rule=\"nonzero\" fill-opacity=\"1\" /><path clip-path=\"url(#clip380)\" d=\"M1866.6 1544.91 L1874.24 1544.91 L1874.24 1518.55 L1865.93 1520.21 L1865.93 1515.95 L1874.2 1514.29 L1878.87 1514.29 L1878.87 1544.91 L1886.51 1544.91 L1886.51 1548.85 L1866.6 1548.85 L1866.6 1544.91 Z\" fill=\"#000000\" fill-rule=\"nonzero\" fill-opacity=\"1\" /><path clip-path=\"url(#clip380)\" d=\"M1893.2 1533.96 L1905.68 1533.96 L1905.68 1537.76 L1893.2 1537.76 L1893.2 1533.96 Z\" fill=\"#000000\" fill-rule=\"nonzero\" fill-opacity=\"1\" /><path clip-path=\"url(#clip380)\" d=\"M1923.06 1517.37 Q1919.45 1517.37 1917.62 1520.93 Q1915.82 1524.47 1915.82 1531.6 Q1915.82 1538.71 1917.62 1542.27 Q1919.45 1545.82 1923.06 1545.82 Q1926.7 1545.82 1928.5 1542.27 Q1930.33 1538.71 1930.33 1531.6 Q1930.33 1524.47 1928.5 1520.93 Q1926.7 1517.37 1923.06 1517.37 M1923.06 1513.66 Q1928.87 1513.66 1931.93 1518.27 Q1935.01 1522.85 1935.01 1531.6 Q1935.01 1540.33 1931.93 1544.94 Q1928.87 1549.52 1923.06 1549.52 Q1917.25 1549.52 1914.17 1544.94 Q1911.12 1540.33 1911.12 1531.6 Q1911.12 1522.85 1914.17 1518.27 Q1917.25 1513.66 1923.06 1513.66 Z\" fill=\"#000000\" fill-rule=\"nonzero\" fill-opacity=\"1\" /><path clip-path=\"url(#clip380)\" d=\"M1944.03 1544.91 L1951.67 1544.91 L1951.67 1518.55 L1943.36 1520.21 L1943.36 1515.95 L1951.63 1514.29 L1956.3 1514.29 L1956.3 1544.91 L1963.94 1544.91 L1963.94 1548.85 L1944.03 1548.85 L1944.03 1544.91 Z\" fill=\"#000000\" fill-rule=\"nonzero\" fill-opacity=\"1\" /><polyline clip-path=\"url(#clip382)\" style=\"stroke:#000000; stroke-linecap:round; stroke-linejoin:round; stroke-width:2; stroke-opacity:0.1; fill:none\" points=\"192.709,1361.79 2352.76,1361.79 \"/>\n",
       "<polyline clip-path=\"url(#clip382)\" style=\"stroke:#000000; stroke-linecap:round; stroke-linejoin:round; stroke-width:2; stroke-opacity:0.1; fill:none\" points=\"192.709,958.991 2352.76,958.991 \"/>\n",
       "<polyline clip-path=\"url(#clip382)\" style=\"stroke:#000000; stroke-linecap:round; stroke-linejoin:round; stroke-width:2; stroke-opacity:0.1; fill:none\" points=\"192.709,556.187 2352.76,556.187 \"/>\n",
       "<polyline clip-path=\"url(#clip382)\" style=\"stroke:#000000; stroke-linecap:round; stroke-linejoin:round; stroke-width:2; stroke-opacity:0.1; fill:none\" points=\"192.709,153.383 2352.76,153.383 \"/>\n",
       "<polyline clip-path=\"url(#clip380)\" style=\"stroke:#000000; stroke-linecap:round; stroke-linejoin:round; stroke-width:4; stroke-opacity:1; fill:none\" points=\"192.709,1486.45 192.709,47.2441 \"/>\n",
       "<polyline clip-path=\"url(#clip380)\" style=\"stroke:#000000; stroke-linecap:round; stroke-linejoin:round; stroke-width:4; stroke-opacity:1; fill:none\" points=\"192.709,1361.79 211.607,1361.79 \"/>\n",
       "<polyline clip-path=\"url(#clip380)\" style=\"stroke:#000000; stroke-linecap:round; stroke-linejoin:round; stroke-width:4; stroke-opacity:1; fill:none\" points=\"192.709,958.991 211.607,958.991 \"/>\n",
       "<polyline clip-path=\"url(#clip380)\" style=\"stroke:#000000; stroke-linecap:round; stroke-linejoin:round; stroke-width:4; stroke-opacity:1; fill:none\" points=\"192.709,556.187 211.607,556.187 \"/>\n",
       "<polyline clip-path=\"url(#clip380)\" style=\"stroke:#000000; stroke-linecap:round; stroke-linejoin:round; stroke-width:4; stroke-opacity:1; fill:none\" points=\"192.709,153.383 211.607,153.383 \"/>\n",
       "<path clip-path=\"url(#clip380)\" d=\"M51.3625 1362.25 L81.0383 1362.25 L81.0383 1366.18 L51.3625 1366.18 L51.3625 1362.25 Z\" fill=\"#000000\" fill-rule=\"nonzero\" fill-opacity=\"1\" /><path clip-path=\"url(#clip380)\" d=\"M101.131 1347.59 Q97.5197 1347.59 95.691 1351.16 Q93.8854 1354.7 93.8854 1361.83 Q93.8854 1368.94 95.691 1372.5 Q97.5197 1376.04 101.131 1376.04 Q104.765 1376.04 106.571 1372.5 Q108.399 1368.94 108.399 1361.83 Q108.399 1354.7 106.571 1351.16 Q104.765 1347.59 101.131 1347.59 M101.131 1343.89 Q106.941 1343.89 109.996 1348.5 Q113.075 1353.08 113.075 1361.83 Q113.075 1370.56 109.996 1375.16 Q106.941 1379.75 101.131 1379.75 Q95.3206 1379.75 92.2419 1375.16 Q89.1864 1370.56 89.1864 1361.83 Q89.1864 1353.08 92.2419 1348.5 Q95.3206 1343.89 101.131 1343.89 Z\" fill=\"#000000\" fill-rule=\"nonzero\" fill-opacity=\"1\" /><path clip-path=\"url(#clip380)\" d=\"M121.293 1373.19 L126.177 1373.19 L126.177 1379.07 L121.293 1379.07 L121.293 1373.19 Z\" fill=\"#000000\" fill-rule=\"nonzero\" fill-opacity=\"1\" /><path clip-path=\"url(#clip380)\" d=\"M140.39 1375.14 L156.709 1375.14 L156.709 1379.07 L134.765 1379.07 L134.765 1375.14 Q137.427 1372.38 142.01 1367.76 Q146.617 1363.1 147.797 1361.76 Q150.043 1359.24 150.922 1357.5 Q151.825 1355.74 151.825 1354.05 Q151.825 1351.3 149.88 1349.56 Q147.959 1347.82 144.857 1347.82 Q142.658 1347.82 140.205 1348.59 Q137.774 1349.35 134.996 1350.9 L134.996 1346.18 Q137.82 1345.05 140.274 1344.47 Q142.728 1343.89 144.765 1343.89 Q150.135 1343.89 153.33 1346.57 Q156.524 1349.26 156.524 1353.75 Q156.524 1355.88 155.714 1357.8 Q154.927 1359.7 152.82 1362.29 Q152.242 1362.96 149.14 1366.18 Q146.038 1369.38 140.39 1375.14 Z\" fill=\"#000000\" fill-rule=\"nonzero\" fill-opacity=\"1\" /><path clip-path=\"url(#clip380)\" d=\"M50.9921 959.442 L80.6679 959.442 L80.6679 963.377 L50.9921 963.377 L50.9921 959.442 Z\" fill=\"#000000\" fill-rule=\"nonzero\" fill-opacity=\"1\" /><path clip-path=\"url(#clip380)\" d=\"M100.76 944.789 Q97.1493 944.789 95.3206 948.354 Q93.515 951.896 93.515 959.025 Q93.515 966.132 95.3206 969.697 Q97.1493 973.238 100.76 973.238 Q104.395 973.238 106.2 969.697 Q108.029 966.132 108.029 959.025 Q108.029 951.896 106.2 948.354 Q104.395 944.789 100.76 944.789 M100.76 941.086 Q106.571 941.086 109.626 945.692 Q112.705 950.276 112.705 959.025 Q112.705 967.752 109.626 972.359 Q106.571 976.942 100.76 976.942 Q94.9502 976.942 91.8715 972.359 Q88.816 967.752 88.816 959.025 Q88.816 950.276 91.8715 945.692 Q94.9502 941.086 100.76 941.086 Z\" fill=\"#000000\" fill-rule=\"nonzero\" fill-opacity=\"1\" /><path clip-path=\"url(#clip380)\" d=\"M120.922 970.391 L125.807 970.391 L125.807 976.271 L120.922 976.271 L120.922 970.391 Z\" fill=\"#000000\" fill-rule=\"nonzero\" fill-opacity=\"1\" /><path clip-path=\"url(#clip380)\" d=\"M136.802 972.336 L144.441 972.336 L144.441 945.97 L136.131 947.637 L136.131 943.377 L144.394 941.711 L149.07 941.711 L149.07 972.336 L156.709 972.336 L156.709 976.271 L136.802 976.271 L136.802 972.336 Z\" fill=\"#000000\" fill-rule=\"nonzero\" fill-opacity=\"1\" /><path clip-path=\"url(#clip380)\" d=\"M99.5335 541.986 Q95.9224 541.986 94.0937 545.55 Q92.2882 549.092 92.2882 556.222 Q92.2882 563.328 94.0937 566.893 Q95.9224 570.435 99.5335 570.435 Q103.168 570.435 104.973 566.893 Q106.802 563.328 106.802 556.222 Q106.802 549.092 104.973 545.55 Q103.168 541.986 99.5335 541.986 M99.5335 538.282 Q105.344 538.282 108.399 542.888 Q111.478 547.472 111.478 556.222 Q111.478 564.948 108.399 569.555 Q105.344 574.138 99.5335 574.138 Q93.7234 574.138 90.6447 569.555 Q87.5892 564.948 87.5892 556.222 Q87.5892 547.472 90.6447 542.888 Q93.7234 538.282 99.5335 538.282 Z\" fill=\"#000000\" fill-rule=\"nonzero\" fill-opacity=\"1\" /><path clip-path=\"url(#clip380)\" d=\"M119.695 567.587 L124.58 567.587 L124.58 573.467 L119.695 573.467 L119.695 567.587 Z\" fill=\"#000000\" fill-rule=\"nonzero\" fill-opacity=\"1\" /><path clip-path=\"url(#clip380)\" d=\"M144.765 541.986 Q141.154 541.986 139.325 545.55 Q137.519 549.092 137.519 556.222 Q137.519 563.328 139.325 566.893 Q141.154 570.435 144.765 570.435 Q148.399 570.435 150.205 566.893 Q152.033 563.328 152.033 556.222 Q152.033 549.092 150.205 545.55 Q148.399 541.986 144.765 541.986 M144.765 538.282 Q150.575 538.282 153.63 542.888 Q156.709 547.472 156.709 556.222 Q156.709 564.948 153.63 569.555 Q150.575 574.138 144.765 574.138 Q138.955 574.138 135.876 569.555 Q132.82 564.948 132.82 556.222 Q132.82 547.472 135.876 542.888 Q138.955 538.282 144.765 538.282 Z\" fill=\"#000000\" fill-rule=\"nonzero\" fill-opacity=\"1\" /><path clip-path=\"url(#clip380)\" d=\"M100.76 139.182 Q97.1493 139.182 95.3206 142.747 Q93.515 146.288 93.515 153.418 Q93.515 160.524 95.3206 164.089 Q97.1493 167.631 100.76 167.631 Q104.395 167.631 106.2 164.089 Q108.029 160.524 108.029 153.418 Q108.029 146.288 106.2 142.747 Q104.395 139.182 100.76 139.182 M100.76 135.478 Q106.571 135.478 109.626 140.085 Q112.705 144.668 112.705 153.418 Q112.705 162.145 109.626 166.751 Q106.571 171.334 100.76 171.334 Q94.9502 171.334 91.8715 166.751 Q88.816 162.145 88.816 153.418 Q88.816 144.668 91.8715 140.085 Q94.9502 135.478 100.76 135.478 Z\" fill=\"#000000\" fill-rule=\"nonzero\" fill-opacity=\"1\" /><path clip-path=\"url(#clip380)\" d=\"M120.922 164.784 L125.807 164.784 L125.807 170.663 L120.922 170.663 L120.922 164.784 Z\" fill=\"#000000\" fill-rule=\"nonzero\" fill-opacity=\"1\" /><path clip-path=\"url(#clip380)\" d=\"M136.802 166.728 L144.441 166.728 L144.441 140.362 L136.131 142.029 L136.131 137.77 L144.394 136.103 L149.07 136.103 L149.07 166.728 L156.709 166.728 L156.709 170.663 L136.802 170.663 L136.802 166.728 Z\" fill=\"#000000\" fill-rule=\"nonzero\" fill-opacity=\"1\" /><polyline clip-path=\"url(#clip382)\" style=\"stroke:#009af9; stroke-linecap:round; stroke-linejoin:round; stroke-width:4; stroke-opacity:1; fill:none\" points=\"253.843,456.174 260.587,911.053 268.054,838.467 275.28,274.594 282.747,603.806 289.973,682.709 297.44,621.015 304.907,747.136 312.134,943.181 319.601,472.069 326.827,316.891 334.294,519.486 341.761,668.942 348.505,587.104 355.972,379.671 363.199,687.376 370.666,553.084 377.892,811.4 385.359,909.948 392.826,547.266 400.052,1025.67 407.519,271.047 414.745,343.04 422.212,754.291 429.679,676.535 436.424,629.097 443.891,573.604 451.117,214.096 458.584,331 465.81,481.465 473.277,469.024 480.744,463.082 487.97,531.792 495.438,320.042 502.664,496.321 510.131,309.689 517.598,488.718 524.583,483.941 532.05,579.276 539.276,651.922 546.743,525.031 553.969,477.247 561.437,687.218 568.904,531.714 576.13,473.417 583.597,458.906 590.823,342.424 598.29,403.284 605.757,642.544 612.501,418.982 619.969,645.928 627.195,646.059 634.662,481.656 641.888,515.676 649.355,409.914 656.822,525.721 664.048,436.754 671.515,666.181 678.741,412.124 686.208,458.32 693.675,362.629 700.42,562.098 707.887,472.356 715.113,424.305 722.58,718.191 729.806,557.926 737.273,528.788 744.74,453.086 751.967,509.516 759.434,407.879 766.66,443.87 774.127,467.303 781.594,516.315 788.338,577.448 795.805,476.214 803.031,381.224 810.499,438.168 817.725,568.062 825.192,618.17 832.659,567.349 839.885,345.555 847.352,402.032 854.578,738.339 862.045,601.024 869.512,900.403 876.498,544.803 883.965,615.732 891.191,337.514 898.658,493.72 905.884,901.315 913.351,662.171 920.818,643.956 928.044,1093.97 935.511,1445.72 942.737,829.91 950.204,412.784 957.672,915.936 964.416,971.247 971.883,237.353 979.109,106.729 986.576,173.598 993.802,578.836 1001.27,216.353 1008.74,414.642 1015.96,375.505 1023.43,618.92 1030.66,393.839 1038.12,473.624 1045.59,734.138 1052.33,505.2 1059.8,305.045 1067.03,549.416 1074.49,957.402 1081.72,682.232 1089.19,241.086 1096.65,699.521 1103.88,188.175 1111.35,413.179 1118.57,646.824 1126.04,271.519 1133.51,493.466 1140.25,440.569 1147.72,560.212 1154.95,394.672 1162.41,643.716 1169.64,620.161 1177.11,622.308 1184.57,861.733 1191.8,955.653 1199.27,146.201 1206.49,678.606 1213.96,564.334 1221.43,328.526 1228.41,358.456 1235.88,529.522 1243.11,602.516 1250.57,934.561 1257.8,362.003 1265.27,501.418 1272.73,469.542 1279.96,431.276 1287.43,583.125 1294.65,505.005 1302.12,465.967 1309.59,374.769 1316.33,556.814 1323.8,483.203 1331.02,442.73 1338.49,567.252 1345.72,675.677 1353.18,367.828 1360.65,640.995 1367.88,353.329 1375.34,397.459 1382.57,499.541 1390.04,487.289 1397.5,720.621 1404.25,366.156 1411.72,538.317 1418.94,518.022 1426.41,471.413 1433.64,481.053 1441.1,605.335 1448.57,468.185 1455.8,688.965 1463.26,527.928 1470.49,489.369 1477.96,634.673 1485.42,619.662 1492.17,337.96 1499.63,619.088 1506.86,440.979 1514.33,561.446 1521.55,652.149 1529.02,521.359 1536.49,842.233 1543.71,704.828 1551.18,251.839 1558.41,589.587 1565.87,629.492 1573.34,806.755 1580.33,583.991 1587.79,268.221 1595.02,497.162 1602.49,551.113 1609.71,580.645 1617.18,386.24 1624.65,542.658 1631.87,531.583 1639.34,625.145 1646.57,525.692 1654.03,470.098 1661.5,447.52 1668.24,444.744 1675.71,507.222 1682.94,493.886 1690.41,468.206 1697.63,537.913 1705.1,445.168 1712.57,540.781 1719.79,479.11 1727.26,473.399 1734.48,478.955 1741.95,491.763 1749.42,335.126 1756.16,729.007 1763.63,643.345 1770.86,517.908 1778.32,551.166 1785.55,578.05 1793.02,436.506 1800.48,524.677 1807.71,538.688 1815.18,869.953 1822.4,497.703 1829.87,850.384 1837.34,250.07 1844.08,449.858 1851.55,505.86 1858.77,422.416 1866.24,802.509 1873.47,300.701 1880.94,544.408 1888.4,652.885 1895.63,472.325 1903.1,447.423 1910.32,459.032 1917.79,416.787 1925.26,600.922 1932.24,895.429 1939.71,1140.37 1946.93,146.258 1954.4,384.709 1961.63,429.492 1969.09,348.602 1976.56,316.893 1983.79,688.206 1991.25,655.318 1998.48,87.9763 2005.95,373.382 2013.41,574.54 2020.16,463.958 2027.63,450.005 2034.85,383.812 2042.32,493.991 2049.55,503.452 2057.01,528.524 2064.48,456.608 2071.71,726.122 2079.17,355.651 2086.4,654.378 2093.87,398.197 2101.33,759.037 2108.08,661.593 2115.54,469.87 2122.77,892.24 2130.24,551.468 2137.46,910.904 2144.93,284.286 2152.4,707.284 2159.62,961.518 2167.09,320.152 2174.32,255.288 2181.78,717.887 2189.25,277.355 2196,673.319 2203.46,433.863 2210.69,498.709 2218.16,599.566 2225.38,328.85 2232.85,411.362 2240.32,670.35 2247.54,726.287 2255.01,679.159 2262.24,200.579 2269.7,367.21 2277.17,532.645 2284.16,386.935 2291.62,431.664 \"/>\n",
       "<path clip-path=\"url(#clip382)\" d=\"M465.81 2925.65 L465.81 -1391.96 L473.277 -1391.96 L473.277 2925.65 L465.81 2925.65  Z\" fill=\"#e26f46\" fill-rule=\"evenodd\" fill-opacity=\"0.3\"/>\n",
       "<polyline clip-path=\"url(#clip382)\" style=\"stroke:#000000; stroke-linecap:round; stroke-linejoin:round; stroke-width:0; stroke-opacity:0.3; fill:none\" points=\"465.81,2925.65 465.81,-1391.96 473.277,-1391.96 473.277,2925.65 465.81,2925.65 \"/>\n",
       "<path clip-path=\"url(#clip382)\" d=\"M480.744 2925.65 L480.744 -1391.96 L487.97 -1391.96 L487.97 2925.65 L480.744 2925.65  Z\" fill=\"#e26f46\" fill-rule=\"evenodd\" fill-opacity=\"0.3\"/>\n",
       "<polyline clip-path=\"url(#clip382)\" style=\"stroke:#000000; stroke-linecap:round; stroke-linejoin:round; stroke-width:0; stroke-opacity:0.3; fill:none\" points=\"480.744,2925.65 480.744,-1391.96 487.97,-1391.96 487.97,2925.65 480.744,2925.65 \"/>\n",
       "<path clip-path=\"url(#clip382)\" d=\"M495.438 2925.65 L495.438 -1391.96 L502.664 -1391.96 L502.664 2925.65 L495.438 2925.65  Z\" fill=\"#e26f46\" fill-rule=\"evenodd\" fill-opacity=\"0.3\"/>\n",
       "<polyline clip-path=\"url(#clip382)\" style=\"stroke:#000000; stroke-linecap:round; stroke-linejoin:round; stroke-width:0; stroke-opacity:0.3; fill:none\" points=\"495.438,2925.65 495.438,-1391.96 502.664,-1391.96 502.664,2925.65 495.438,2925.65 \"/>\n",
       "<path clip-path=\"url(#clip382)\" d=\"M510.131 2925.65 L510.131 -1391.96 L517.598 -1391.96 L517.598 2925.65 L510.131 2925.65  Z\" fill=\"#e26f46\" fill-rule=\"evenodd\" fill-opacity=\"0.3\"/>\n",
       "<polyline clip-path=\"url(#clip382)\" style=\"stroke:#000000; stroke-linecap:round; stroke-linejoin:round; stroke-width:0; stroke-opacity:0.3; fill:none\" points=\"510.131,2925.65 510.131,-1391.96 517.598,-1391.96 517.598,2925.65 510.131,2925.65 \"/>\n",
       "<path clip-path=\"url(#clip382)\" d=\"M524.583 2925.65 L524.583 -1391.96 L532.05 -1391.96 L532.05 2925.65 L524.583 2925.65  Z\" fill=\"#e26f46\" fill-rule=\"evenodd\" fill-opacity=\"0.3\"/>\n",
       "<polyline clip-path=\"url(#clip382)\" style=\"stroke:#000000; stroke-linecap:round; stroke-linejoin:round; stroke-width:0; stroke-opacity:0.3; fill:none\" points=\"524.583,2925.65 524.583,-1391.96 532.05,-1391.96 532.05,2925.65 524.583,2925.65 \"/>\n",
       "<path clip-path=\"url(#clip382)\" d=\"M539.276 2925.65 L539.276 -1391.96 L546.743 -1391.96 L546.743 2925.65 L539.276 2925.65  Z\" fill=\"#e26f46\" fill-rule=\"evenodd\" fill-opacity=\"0.3\"/>\n",
       "<polyline clip-path=\"url(#clip382)\" style=\"stroke:#000000; stroke-linecap:round; stroke-linejoin:round; stroke-width:0; stroke-opacity:0.3; fill:none\" points=\"539.276,2925.65 539.276,-1391.96 546.743,-1391.96 546.743,2925.65 539.276,2925.65 \"/>\n",
       "<path clip-path=\"url(#clip382)\" d=\"M553.969 2925.65 L553.969 -1391.96 L561.437 -1391.96 L561.437 2925.65 L553.969 2925.65  Z\" fill=\"#e26f46\" fill-rule=\"evenodd\" fill-opacity=\"0.3\"/>\n",
       "<polyline clip-path=\"url(#clip382)\" style=\"stroke:#000000; stroke-linecap:round; stroke-linejoin:round; stroke-width:0; stroke-opacity:0.3; fill:none\" points=\"553.969,2925.65 553.969,-1391.96 561.437,-1391.96 561.437,2925.65 553.969,2925.65 \"/>\n",
       "<path clip-path=\"url(#clip382)\" d=\"M568.904 2925.65 L568.904 -1391.96 L576.13 -1391.96 L576.13 2925.65 L568.904 2925.65  Z\" fill=\"#e26f46\" fill-rule=\"evenodd\" fill-opacity=\"0.3\"/>\n",
       "<polyline clip-path=\"url(#clip382)\" style=\"stroke:#000000; stroke-linecap:round; stroke-linejoin:round; stroke-width:0; stroke-opacity:0.3; fill:none\" points=\"568.904,2925.65 568.904,-1391.96 576.13,-1391.96 576.13,2925.65 568.904,2925.65 \"/>\n",
       "<path clip-path=\"url(#clip382)\" d=\"M583.597 2925.65 L583.597 -1391.96 L590.823 -1391.96 L590.823 2925.65 L583.597 2925.65  Z\" fill=\"#e26f46\" fill-rule=\"evenodd\" fill-opacity=\"0.3\"/>\n",
       "<polyline clip-path=\"url(#clip382)\" style=\"stroke:#000000; stroke-linecap:round; stroke-linejoin:round; stroke-width:0; stroke-opacity:0.3; fill:none\" points=\"583.597,2925.65 583.597,-1391.96 590.823,-1391.96 590.823,2925.65 583.597,2925.65 \"/>\n",
       "<path clip-path=\"url(#clip382)\" d=\"M598.29 2925.65 L598.29 -1391.96 L605.757 -1391.96 L605.757 2925.65 L598.29 2925.65  Z\" fill=\"#e26f46\" fill-rule=\"evenodd\" fill-opacity=\"0.3\"/>\n",
       "<polyline clip-path=\"url(#clip382)\" style=\"stroke:#000000; stroke-linecap:round; stroke-linejoin:round; stroke-width:0; stroke-opacity:0.3; fill:none\" points=\"598.29,2925.65 598.29,-1391.96 605.757,-1391.96 605.757,2925.65 598.29,2925.65 \"/>\n",
       "<path clip-path=\"url(#clip382)\" d=\"M612.501 2925.65 L612.501 -1391.96 L619.969 -1391.96 L619.969 2925.65 L612.501 2925.65  Z\" fill=\"#e26f46\" fill-rule=\"evenodd\" fill-opacity=\"0.3\"/>\n",
       "<polyline clip-path=\"url(#clip382)\" style=\"stroke:#000000; stroke-linecap:round; stroke-linejoin:round; stroke-width:0; stroke-opacity:0.3; fill:none\" points=\"612.501,2925.65 612.501,-1391.96 619.969,-1391.96 619.969,2925.65 612.501,2925.65 \"/>\n",
       "<path clip-path=\"url(#clip382)\" d=\"M627.195 2925.65 L627.195 -1391.96 L634.662 -1391.96 L634.662 2925.65 L627.195 2925.65  Z\" fill=\"#e26f46\" fill-rule=\"evenodd\" fill-opacity=\"0.3\"/>\n",
       "<polyline clip-path=\"url(#clip382)\" style=\"stroke:#000000; stroke-linecap:round; stroke-linejoin:round; stroke-width:0; stroke-opacity:0.3; fill:none\" points=\"627.195,2925.65 627.195,-1391.96 634.662,-1391.96 634.662,2925.65 627.195,2925.65 \"/>\n",
       "<path clip-path=\"url(#clip382)\" d=\"M641.888 2925.65 L641.888 -1391.96 L649.355 -1391.96 L649.355 2925.65 L641.888 2925.65  Z\" fill=\"#e26f46\" fill-rule=\"evenodd\" fill-opacity=\"0.3\"/>\n",
       "<polyline clip-path=\"url(#clip382)\" style=\"stroke:#000000; stroke-linecap:round; stroke-linejoin:round; stroke-width:0; stroke-opacity:0.3; fill:none\" points=\"641.888,2925.65 641.888,-1391.96 649.355,-1391.96 649.355,2925.65 641.888,2925.65 \"/>\n",
       "<path clip-path=\"url(#clip382)\" d=\"M656.822 2925.65 L656.822 -1391.96 L664.048 -1391.96 L664.048 2925.65 L656.822 2925.65  Z\" fill=\"#e26f46\" fill-rule=\"evenodd\" fill-opacity=\"0.3\"/>\n",
       "<polyline clip-path=\"url(#clip382)\" style=\"stroke:#000000; stroke-linecap:round; stroke-linejoin:round; stroke-width:0; stroke-opacity:0.3; fill:none\" points=\"656.822,2925.65 656.822,-1391.96 664.048,-1391.96 664.048,2925.65 656.822,2925.65 \"/>\n",
       "<path clip-path=\"url(#clip382)\" d=\"M671.515 2925.65 L671.515 -1391.96 L678.741 -1391.96 L678.741 2925.65 L671.515 2925.65  Z\" fill=\"#e26f46\" fill-rule=\"evenodd\" fill-opacity=\"0.3\"/>\n",
       "<polyline clip-path=\"url(#clip382)\" style=\"stroke:#000000; stroke-linecap:round; stroke-linejoin:round; stroke-width:0; stroke-opacity:0.3; fill:none\" points=\"671.515,2925.65 671.515,-1391.96 678.741,-1391.96 678.741,2925.65 671.515,2925.65 \"/>\n",
       "<path clip-path=\"url(#clip382)\" d=\"M686.208 2925.65 L686.208 -1391.96 L693.675 -1391.96 L693.675 2925.65 L686.208 2925.65  Z\" fill=\"#e26f46\" fill-rule=\"evenodd\" fill-opacity=\"0.3\"/>\n",
       "<polyline clip-path=\"url(#clip382)\" style=\"stroke:#000000; stroke-linecap:round; stroke-linejoin:round; stroke-width:0; stroke-opacity:0.3; fill:none\" points=\"686.208,2925.65 686.208,-1391.96 693.675,-1391.96 693.675,2925.65 686.208,2925.65 \"/>\n",
       "<path clip-path=\"url(#clip382)\" d=\"M700.42 2925.65 L700.42 -1391.96 L707.887 -1391.96 L707.887 2925.65 L700.42 2925.65  Z\" fill=\"#e26f46\" fill-rule=\"evenodd\" fill-opacity=\"0.3\"/>\n",
       "<polyline clip-path=\"url(#clip382)\" style=\"stroke:#000000; stroke-linecap:round; stroke-linejoin:round; stroke-width:0; stroke-opacity:0.3; fill:none\" points=\"700.42,2925.65 700.42,-1391.96 707.887,-1391.96 707.887,2925.65 700.42,2925.65 \"/>\n",
       "<path clip-path=\"url(#clip382)\" d=\"M715.113 2925.65 L715.113 -1391.96 L722.58 -1391.96 L722.58 2925.65 L715.113 2925.65  Z\" fill=\"#e26f46\" fill-rule=\"evenodd\" fill-opacity=\"0.3\"/>\n",
       "<polyline clip-path=\"url(#clip382)\" style=\"stroke:#000000; stroke-linecap:round; stroke-linejoin:round; stroke-width:0; stroke-opacity:0.3; fill:none\" points=\"715.113,2925.65 715.113,-1391.96 722.58,-1391.96 722.58,2925.65 715.113,2925.65 \"/>\n",
       "<path clip-path=\"url(#clip382)\" d=\"M729.806 2925.65 L729.806 -1391.96 L737.273 -1391.96 L737.273 2925.65 L729.806 2925.65  Z\" fill=\"#e26f46\" fill-rule=\"evenodd\" fill-opacity=\"0.3\"/>\n",
       "<polyline clip-path=\"url(#clip382)\" style=\"stroke:#000000; stroke-linecap:round; stroke-linejoin:round; stroke-width:0; stroke-opacity:0.3; fill:none\" points=\"729.806,2925.65 729.806,-1391.96 737.273,-1391.96 737.273,2925.65 729.806,2925.65 \"/>\n",
       "<path clip-path=\"url(#clip382)\" d=\"M744.74 2925.65 L744.74 -1391.96 L751.967 -1391.96 L751.967 2925.65 L744.74 2925.65  Z\" fill=\"#e26f46\" fill-rule=\"evenodd\" fill-opacity=\"0.3\"/>\n",
       "<polyline clip-path=\"url(#clip382)\" style=\"stroke:#000000; stroke-linecap:round; stroke-linejoin:round; stroke-width:0; stroke-opacity:0.3; fill:none\" points=\"744.74,2925.65 744.74,-1391.96 751.967,-1391.96 751.967,2925.65 744.74,2925.65 \"/>\n",
       "<path clip-path=\"url(#clip382)\" d=\"M759.434 2925.65 L759.434 -1391.96 L766.66 -1391.96 L766.66 2925.65 L759.434 2925.65  Z\" fill=\"#e26f46\" fill-rule=\"evenodd\" fill-opacity=\"0.3\"/>\n",
       "<polyline clip-path=\"url(#clip382)\" style=\"stroke:#000000; stroke-linecap:round; stroke-linejoin:round; stroke-width:0; stroke-opacity:0.3; fill:none\" points=\"759.434,2925.65 759.434,-1391.96 766.66,-1391.96 766.66,2925.65 759.434,2925.65 \"/>\n",
       "<path clip-path=\"url(#clip382)\" d=\"M774.127 2925.65 L774.127 -1391.96 L781.594 -1391.96 L781.594 2925.65 L774.127 2925.65  Z\" fill=\"#e26f46\" fill-rule=\"evenodd\" fill-opacity=\"0.3\"/>\n",
       "<polyline clip-path=\"url(#clip382)\" style=\"stroke:#000000; stroke-linecap:round; stroke-linejoin:round; stroke-width:0; stroke-opacity:0.3; fill:none\" points=\"774.127,2925.65 774.127,-1391.96 781.594,-1391.96 781.594,2925.65 774.127,2925.65 \"/>\n",
       "<path clip-path=\"url(#clip382)\" d=\"M788.338 2925.65 L788.338 -1391.96 L795.805 -1391.96 L795.805 2925.65 L788.338 2925.65  Z\" fill=\"#e26f46\" fill-rule=\"evenodd\" fill-opacity=\"0.3\"/>\n",
       "<polyline clip-path=\"url(#clip382)\" style=\"stroke:#000000; stroke-linecap:round; stroke-linejoin:round; stroke-width:0; stroke-opacity:0.3; fill:none\" points=\"788.338,2925.65 788.338,-1391.96 795.805,-1391.96 795.805,2925.65 788.338,2925.65 \"/>\n",
       "<path clip-path=\"url(#clip382)\" d=\"M803.031 2925.65 L803.031 -1391.96 L810.499 -1391.96 L810.499 2925.65 L803.031 2925.65  Z\" fill=\"#e26f46\" fill-rule=\"evenodd\" fill-opacity=\"0.3\"/>\n",
       "<polyline clip-path=\"url(#clip382)\" style=\"stroke:#000000; stroke-linecap:round; stroke-linejoin:round; stroke-width:0; stroke-opacity:0.3; fill:none\" points=\"803.031,2925.65 803.031,-1391.96 810.499,-1391.96 810.499,2925.65 803.031,2925.65 \"/>\n",
       "<path clip-path=\"url(#clip382)\" d=\"M817.725 2925.65 L817.725 -1391.96 L825.192 -1391.96 L825.192 2925.65 L817.725 2925.65  Z\" fill=\"#e26f46\" fill-rule=\"evenodd\" fill-opacity=\"0.3\"/>\n",
       "<polyline clip-path=\"url(#clip382)\" style=\"stroke:#000000; stroke-linecap:round; stroke-linejoin:round; stroke-width:0; stroke-opacity:0.3; fill:none\" points=\"817.725,2925.65 817.725,-1391.96 825.192,-1391.96 825.192,2925.65 817.725,2925.65 \"/>\n",
       "<path clip-path=\"url(#clip382)\" d=\"M832.659 2925.65 L832.659 -1391.96 L839.885 -1391.96 L839.885 2925.65 L832.659 2925.65  Z\" fill=\"#e26f46\" fill-rule=\"evenodd\" fill-opacity=\"0.3\"/>\n",
       "<polyline clip-path=\"url(#clip382)\" style=\"stroke:#000000; stroke-linecap:round; stroke-linejoin:round; stroke-width:0; stroke-opacity:0.3; fill:none\" points=\"832.659,2925.65 832.659,-1391.96 839.885,-1391.96 839.885,2925.65 832.659,2925.65 \"/>\n",
       "<path clip-path=\"url(#clip382)\" d=\"M847.352 2925.65 L847.352 -1391.96 L1257.8 -1391.96 L1257.8 2925.65 L847.352 2925.65  Z\" fill=\"#e26f46\" fill-rule=\"evenodd\" fill-opacity=\"0.3\"/>\n",
       "<polyline clip-path=\"url(#clip382)\" style=\"stroke:#000000; stroke-linecap:round; stroke-linejoin:round; stroke-width:0; stroke-opacity:0.3; fill:none\" points=\"847.352,2925.65 847.352,-1391.96 1257.8,-1391.96 1257.8,2925.65 847.352,2925.65 \"/>\n",
       "<path clip-path=\"url(#clip382)\" d=\"M1265.27 2925.65 L1265.27 -1391.96 L1272.73 -1391.96 L1272.73 2925.65 L1265.27 2925.65  Z\" fill=\"#e26f46\" fill-rule=\"evenodd\" fill-opacity=\"0.3\"/>\n",
       "<polyline clip-path=\"url(#clip382)\" style=\"stroke:#000000; stroke-linecap:round; stroke-linejoin:round; stroke-width:0; stroke-opacity:0.3; fill:none\" points=\"1265.27,2925.65 1265.27,-1391.96 1272.73,-1391.96 1272.73,2925.65 1265.27,2925.65 \"/>\n",
       "<path clip-path=\"url(#clip382)\" d=\"M1279.96 2925.65 L1279.96 -1391.96 L1287.43 -1391.96 L1287.43 2925.65 L1279.96 2925.65  Z\" fill=\"#e26f46\" fill-rule=\"evenodd\" fill-opacity=\"0.3\"/>\n",
       "<polyline clip-path=\"url(#clip382)\" style=\"stroke:#000000; stroke-linecap:round; stroke-linejoin:round; stroke-width:0; stroke-opacity:0.3; fill:none\" points=\"1279.96,2925.65 1279.96,-1391.96 1287.43,-1391.96 1287.43,2925.65 1279.96,2925.65 \"/>\n",
       "<path clip-path=\"url(#clip382)\" d=\"M1294.65 2925.65 L1294.65 -1391.96 L1302.12 -1391.96 L1302.12 2925.65 L1294.65 2925.65  Z\" fill=\"#e26f46\" fill-rule=\"evenodd\" fill-opacity=\"0.3\"/>\n",
       "<polyline clip-path=\"url(#clip382)\" style=\"stroke:#000000; stroke-linecap:round; stroke-linejoin:round; stroke-width:0; stroke-opacity:0.3; fill:none\" points=\"1294.65,2925.65 1294.65,-1391.96 1302.12,-1391.96 1302.12,2925.65 1294.65,2925.65 \"/>\n",
       "<path clip-path=\"url(#clip382)\" d=\"M1309.59 2925.65 L1309.59 -1391.96 L1316.33 -1391.96 L1316.33 2925.65 L1309.59 2925.65  Z\" fill=\"#e26f46\" fill-rule=\"evenodd\" fill-opacity=\"0.3\"/>\n",
       "<polyline clip-path=\"url(#clip382)\" style=\"stroke:#000000; stroke-linecap:round; stroke-linejoin:round; stroke-width:0; stroke-opacity:0.3; fill:none\" points=\"1309.59,2925.65 1309.59,-1391.96 1316.33,-1391.96 1316.33,2925.65 1309.59,2925.65 \"/>\n",
       "<path clip-path=\"url(#clip382)\" d=\"M1323.8 2925.65 L1323.8 -1391.96 L1331.02 -1391.96 L1331.02 2925.65 L1323.8 2925.65  Z\" fill=\"#e26f46\" fill-rule=\"evenodd\" fill-opacity=\"0.3\"/>\n",
       "<polyline clip-path=\"url(#clip382)\" style=\"stroke:#000000; stroke-linecap:round; stroke-linejoin:round; stroke-width:0; stroke-opacity:0.3; fill:none\" points=\"1323.8,2925.65 1323.8,-1391.96 1331.02,-1391.96 1331.02,2925.65 1323.8,2925.65 \"/>\n",
       "<path clip-path=\"url(#clip382)\" d=\"M1338.49 2925.65 L1338.49 -1391.96 L1345.72 -1391.96 L1345.72 2925.65 L1338.49 2925.65  Z\" fill=\"#e26f46\" fill-rule=\"evenodd\" fill-opacity=\"0.3\"/>\n",
       "<polyline clip-path=\"url(#clip382)\" style=\"stroke:#000000; stroke-linecap:round; stroke-linejoin:round; stroke-width:0; stroke-opacity:0.3; fill:none\" points=\"1338.49,2925.65 1338.49,-1391.96 1345.72,-1391.96 1345.72,2925.65 1338.49,2925.65 \"/>\n",
       "<path clip-path=\"url(#clip382)\" d=\"M1353.18 2925.65 L1353.18 -1391.96 L1360.65 -1391.96 L1360.65 2925.65 L1353.18 2925.65  Z\" fill=\"#e26f46\" fill-rule=\"evenodd\" fill-opacity=\"0.3\"/>\n",
       "<polyline clip-path=\"url(#clip382)\" style=\"stroke:#000000; stroke-linecap:round; stroke-linejoin:round; stroke-width:0; stroke-opacity:0.3; fill:none\" points=\"1353.18,2925.65 1353.18,-1391.96 1360.65,-1391.96 1360.65,2925.65 1353.18,2925.65 \"/>\n",
       "<path clip-path=\"url(#clip382)\" d=\"M1367.88 2925.65 L1367.88 -1391.96 L1375.34 -1391.96 L1375.34 2925.65 L1367.88 2925.65  Z\" fill=\"#e26f46\" fill-rule=\"evenodd\" fill-opacity=\"0.3\"/>\n",
       "<polyline clip-path=\"url(#clip382)\" style=\"stroke:#000000; stroke-linecap:round; stroke-linejoin:round; stroke-width:0; stroke-opacity:0.3; fill:none\" points=\"1367.88,2925.65 1367.88,-1391.96 1375.34,-1391.96 1375.34,2925.65 1367.88,2925.65 \"/>\n",
       "<path clip-path=\"url(#clip382)\" d=\"M1382.57 2925.65 L1382.57 -1391.96 L1390.04 -1391.96 L1390.04 2925.65 L1382.57 2925.65  Z\" fill=\"#e26f46\" fill-rule=\"evenodd\" fill-opacity=\"0.3\"/>\n",
       "<polyline clip-path=\"url(#clip382)\" style=\"stroke:#000000; stroke-linecap:round; stroke-linejoin:round; stroke-width:0; stroke-opacity:0.3; fill:none\" points=\"1382.57,2925.65 1382.57,-1391.96 1390.04,-1391.96 1390.04,2925.65 1382.57,2925.65 \"/>\n",
       "<path clip-path=\"url(#clip382)\" d=\"M1397.5 2925.65 L1397.5 -1391.96 L1404.25 -1391.96 L1404.25 2925.65 L1397.5 2925.65  Z\" fill=\"#e26f46\" fill-rule=\"evenodd\" fill-opacity=\"0.3\"/>\n",
       "<polyline clip-path=\"url(#clip382)\" style=\"stroke:#000000; stroke-linecap:round; stroke-linejoin:round; stroke-width:0; stroke-opacity:0.3; fill:none\" points=\"1397.5,2925.65 1397.5,-1391.96 1404.25,-1391.96 1404.25,2925.65 1397.5,2925.65 \"/>\n",
       "<path clip-path=\"url(#clip382)\" d=\"M1411.72 2925.65 L1411.72 -1391.96 L1418.94 -1391.96 L1418.94 2925.65 L1411.72 2925.65  Z\" fill=\"#e26f46\" fill-rule=\"evenodd\" fill-opacity=\"0.3\"/>\n",
       "<polyline clip-path=\"url(#clip382)\" style=\"stroke:#000000; stroke-linecap:round; stroke-linejoin:round; stroke-width:0; stroke-opacity:0.3; fill:none\" points=\"1411.72,2925.65 1411.72,-1391.96 1418.94,-1391.96 1418.94,2925.65 1411.72,2925.65 \"/>\n",
       "<path clip-path=\"url(#clip382)\" d=\"M1426.41 2925.65 L1426.41 -1391.96 L1433.64 -1391.96 L1433.64 2925.65 L1426.41 2925.65  Z\" fill=\"#e26f46\" fill-rule=\"evenodd\" fill-opacity=\"0.3\"/>\n",
       "<polyline clip-path=\"url(#clip382)\" style=\"stroke:#000000; stroke-linecap:round; stroke-linejoin:round; stroke-width:0; stroke-opacity:0.3; fill:none\" points=\"1426.41,2925.65 1426.41,-1391.96 1433.64,-1391.96 1433.64,2925.65 1426.41,2925.65 \"/>\n",
       "<path clip-path=\"url(#clip382)\" d=\"M1441.1 2925.65 L1441.1 -1391.96 L1448.57 -1391.96 L1448.57 2925.65 L1441.1 2925.65  Z\" fill=\"#e26f46\" fill-rule=\"evenodd\" fill-opacity=\"0.3\"/>\n",
       "<polyline clip-path=\"url(#clip382)\" style=\"stroke:#000000; stroke-linecap:round; stroke-linejoin:round; stroke-width:0; stroke-opacity:0.3; fill:none\" points=\"1441.1,2925.65 1441.1,-1391.96 1448.57,-1391.96 1448.57,2925.65 1441.1,2925.65 \"/>\n",
       "<path clip-path=\"url(#clip382)\" d=\"M1455.8 2925.65 L1455.8 -1391.96 L1463.26 -1391.96 L1463.26 2925.65 L1455.8 2925.65  Z\" fill=\"#e26f46\" fill-rule=\"evenodd\" fill-opacity=\"0.3\"/>\n",
       "<polyline clip-path=\"url(#clip382)\" style=\"stroke:#000000; stroke-linecap:round; stroke-linejoin:round; stroke-width:0; stroke-opacity:0.3; fill:none\" points=\"1455.8,2925.65 1455.8,-1391.96 1463.26,-1391.96 1463.26,2925.65 1455.8,2925.65 \"/>\n",
       "<path clip-path=\"url(#clip382)\" d=\"M1470.49 2925.65 L1470.49 -1391.96 L1477.96 -1391.96 L1477.96 2925.65 L1470.49 2925.65  Z\" fill=\"#e26f46\" fill-rule=\"evenodd\" fill-opacity=\"0.3\"/>\n",
       "<polyline clip-path=\"url(#clip382)\" style=\"stroke:#000000; stroke-linecap:round; stroke-linejoin:round; stroke-width:0; stroke-opacity:0.3; fill:none\" points=\"1470.49,2925.65 1470.49,-1391.96 1477.96,-1391.96 1477.96,2925.65 1470.49,2925.65 \"/>\n",
       "<path clip-path=\"url(#clip382)\" d=\"M1485.42 2925.65 L1485.42 -1391.96 L1492.17 -1391.96 L1492.17 2925.65 L1485.42 2925.65  Z\" fill=\"#e26f46\" fill-rule=\"evenodd\" fill-opacity=\"0.3\"/>\n",
       "<polyline clip-path=\"url(#clip382)\" style=\"stroke:#000000; stroke-linecap:round; stroke-linejoin:round; stroke-width:0; stroke-opacity:0.3; fill:none\" points=\"1485.42,2925.65 1485.42,-1391.96 1492.17,-1391.96 1492.17,2925.65 1485.42,2925.65 \"/>\n",
       "<path clip-path=\"url(#clip382)\" d=\"M1499.63 2925.65 L1499.63 -1391.96 L1506.86 -1391.96 L1506.86 2925.65 L1499.63 2925.65  Z\" fill=\"#e26f46\" fill-rule=\"evenodd\" fill-opacity=\"0.3\"/>\n",
       "<polyline clip-path=\"url(#clip382)\" style=\"stroke:#000000; stroke-linecap:round; stroke-linejoin:round; stroke-width:0; stroke-opacity:0.3; fill:none\" points=\"1499.63,2925.65 1499.63,-1391.96 1506.86,-1391.96 1506.86,2925.65 1499.63,2925.65 \"/>\n",
       "<path clip-path=\"url(#clip382)\" d=\"M1514.33 2925.65 L1514.33 -1391.96 L1521.55 -1391.96 L1521.55 2925.65 L1514.33 2925.65  Z\" fill=\"#e26f46\" fill-rule=\"evenodd\" fill-opacity=\"0.3\"/>\n",
       "<polyline clip-path=\"url(#clip382)\" style=\"stroke:#000000; stroke-linecap:round; stroke-linejoin:round; stroke-width:0; stroke-opacity:0.3; fill:none\" points=\"1514.33,2925.65 1514.33,-1391.96 1521.55,-1391.96 1521.55,2925.65 1514.33,2925.65 \"/>\n",
       "<path clip-path=\"url(#clip382)\" d=\"M1529.02 2925.65 L1529.02 -1391.96 L1595.02 -1391.96 L1595.02 2925.65 L1529.02 2925.65  Z\" fill=\"#e26f46\" fill-rule=\"evenodd\" fill-opacity=\"0.3\"/>\n",
       "<polyline clip-path=\"url(#clip382)\" style=\"stroke:#000000; stroke-linecap:round; stroke-linejoin:round; stroke-width:0; stroke-opacity:0.3; fill:none\" points=\"1529.02,2925.65 1529.02,-1391.96 1595.02,-1391.96 1595.02,2925.65 1529.02,2925.65 \"/>\n",
       "<path clip-path=\"url(#clip382)\" d=\"M1602.49 2925.65 L1602.49 -1391.96 L1609.71 -1391.96 L1609.71 2925.65 L1602.49 2925.65  Z\" fill=\"#e26f46\" fill-rule=\"evenodd\" fill-opacity=\"0.3\"/>\n",
       "<polyline clip-path=\"url(#clip382)\" style=\"stroke:#000000; stroke-linecap:round; stroke-linejoin:round; stroke-width:0; stroke-opacity:0.3; fill:none\" points=\"1602.49,2925.65 1602.49,-1391.96 1609.71,-1391.96 1609.71,2925.65 1602.49,2925.65 \"/>\n",
       "<path clip-path=\"url(#clip382)\" d=\"M1617.18 2925.65 L1617.18 -1391.96 L1624.65 -1391.96 L1624.65 2925.65 L1617.18 2925.65  Z\" fill=\"#e26f46\" fill-rule=\"evenodd\" fill-opacity=\"0.3\"/>\n",
       "<polyline clip-path=\"url(#clip382)\" style=\"stroke:#000000; stroke-linecap:round; stroke-linejoin:round; stroke-width:0; stroke-opacity:0.3; fill:none\" points=\"1617.18,2925.65 1617.18,-1391.96 1624.65,-1391.96 1624.65,2925.65 1617.18,2925.65 \"/>\n",
       "<path clip-path=\"url(#clip382)\" d=\"M1631.87 2925.65 L1631.87 -1391.96 L1639.34 -1391.96 L1639.34 2925.65 L1631.87 2925.65  Z\" fill=\"#e26f46\" fill-rule=\"evenodd\" fill-opacity=\"0.3\"/>\n",
       "<polyline clip-path=\"url(#clip382)\" style=\"stroke:#000000; stroke-linecap:round; stroke-linejoin:round; stroke-width:0; stroke-opacity:0.3; fill:none\" points=\"1631.87,2925.65 1631.87,-1391.96 1639.34,-1391.96 1639.34,2925.65 1631.87,2925.65 \"/>\n",
       "<path clip-path=\"url(#clip382)\" d=\"M1646.57 2925.65 L1646.57 -1391.96 L1654.03 -1391.96 L1654.03 2925.65 L1646.57 2925.65  Z\" fill=\"#e26f46\" fill-rule=\"evenodd\" fill-opacity=\"0.3\"/>\n",
       "<polyline clip-path=\"url(#clip382)\" style=\"stroke:#000000; stroke-linecap:round; stroke-linejoin:round; stroke-width:0; stroke-opacity:0.3; fill:none\" points=\"1646.57,2925.65 1646.57,-1391.96 1654.03,-1391.96 1654.03,2925.65 1646.57,2925.65 \"/>\n",
       "<path clip-path=\"url(#clip382)\" d=\"M1661.5 2925.65 L1661.5 -1391.96 L1668.24 -1391.96 L1668.24 2925.65 L1661.5 2925.65  Z\" fill=\"#e26f46\" fill-rule=\"evenodd\" fill-opacity=\"0.3\"/>\n",
       "<polyline clip-path=\"url(#clip382)\" style=\"stroke:#000000; stroke-linecap:round; stroke-linejoin:round; stroke-width:0; stroke-opacity:0.3; fill:none\" points=\"1661.5,2925.65 1661.5,-1391.96 1668.24,-1391.96 1668.24,2925.65 1661.5,2925.65 \"/>\n",
       "<path clip-path=\"url(#clip382)\" d=\"M1675.71 2925.65 L1675.71 -1391.96 L1682.94 -1391.96 L1682.94 2925.65 L1675.71 2925.65  Z\" fill=\"#e26f46\" fill-rule=\"evenodd\" fill-opacity=\"0.3\"/>\n",
       "<polyline clip-path=\"url(#clip382)\" style=\"stroke:#000000; stroke-linecap:round; stroke-linejoin:round; stroke-width:0; stroke-opacity:0.3; fill:none\" points=\"1675.71,2925.65 1675.71,-1391.96 1682.94,-1391.96 1682.94,2925.65 1675.71,2925.65 \"/>\n",
       "<path clip-path=\"url(#clip382)\" d=\"M1690.41 2925.65 L1690.41 -1391.96 L1697.63 -1391.96 L1697.63 2925.65 L1690.41 2925.65  Z\" fill=\"#e26f46\" fill-rule=\"evenodd\" fill-opacity=\"0.3\"/>\n",
       "<polyline clip-path=\"url(#clip382)\" style=\"stroke:#000000; stroke-linecap:round; stroke-linejoin:round; stroke-width:0; stroke-opacity:0.3; fill:none\" points=\"1690.41,2925.65 1690.41,-1391.96 1697.63,-1391.96 1697.63,2925.65 1690.41,2925.65 \"/>\n",
       "<path clip-path=\"url(#clip382)\" d=\"M1705.1 2925.65 L1705.1 -1391.96 L1712.57 -1391.96 L1712.57 2925.65 L1705.1 2925.65  Z\" fill=\"#e26f46\" fill-rule=\"evenodd\" fill-opacity=\"0.3\"/>\n",
       "<polyline clip-path=\"url(#clip382)\" style=\"stroke:#000000; stroke-linecap:round; stroke-linejoin:round; stroke-width:0; stroke-opacity:0.3; fill:none\" points=\"1705.1,2925.65 1705.1,-1391.96 1712.57,-1391.96 1712.57,2925.65 1705.1,2925.65 \"/>\n",
       "<path clip-path=\"url(#clip382)\" d=\"M1719.79 2925.65 L1719.79 -1391.96 L1727.26 -1391.96 L1727.26 2925.65 L1719.79 2925.65  Z\" fill=\"#e26f46\" fill-rule=\"evenodd\" fill-opacity=\"0.3\"/>\n",
       "<polyline clip-path=\"url(#clip382)\" style=\"stroke:#000000; stroke-linecap:round; stroke-linejoin:round; stroke-width:0; stroke-opacity:0.3; fill:none\" points=\"1719.79,2925.65 1719.79,-1391.96 1727.26,-1391.96 1727.26,2925.65 1719.79,2925.65 \"/>\n",
       "<path clip-path=\"url(#clip382)\" d=\"M1734.48 2925.65 L1734.48 -1391.96 L1741.95 -1391.96 L1741.95 2925.65 L1734.48 2925.65  Z\" fill=\"#e26f46\" fill-rule=\"evenodd\" fill-opacity=\"0.3\"/>\n",
       "<polyline clip-path=\"url(#clip382)\" style=\"stroke:#000000; stroke-linecap:round; stroke-linejoin:round; stroke-width:0; stroke-opacity:0.3; fill:none\" points=\"1734.48,2925.65 1734.48,-1391.96 1741.95,-1391.96 1741.95,2925.65 1734.48,2925.65 \"/>\n",
       "<path clip-path=\"url(#clip382)\" d=\"M1749.42 2925.65 L1749.42 -1391.96 L1756.16 -1391.96 L1756.16 2925.65 L1749.42 2925.65  Z\" fill=\"#e26f46\" fill-rule=\"evenodd\" fill-opacity=\"0.3\"/>\n",
       "<polyline clip-path=\"url(#clip382)\" style=\"stroke:#000000; stroke-linecap:round; stroke-linejoin:round; stroke-width:0; stroke-opacity:0.3; fill:none\" points=\"1749.42,2925.65 1749.42,-1391.96 1756.16,-1391.96 1756.16,2925.65 1749.42,2925.65 \"/>\n",
       "<path clip-path=\"url(#clip382)\" d=\"M1763.63 2925.65 L1763.63 -1391.96 L1770.86 -1391.96 L1770.86 2925.65 L1763.63 2925.65  Z\" fill=\"#e26f46\" fill-rule=\"evenodd\" fill-opacity=\"0.3\"/>\n",
       "<polyline clip-path=\"url(#clip382)\" style=\"stroke:#000000; stroke-linecap:round; stroke-linejoin:round; stroke-width:0; stroke-opacity:0.3; fill:none\" points=\"1763.63,2925.65 1763.63,-1391.96 1770.86,-1391.96 1770.86,2925.65 1763.63,2925.65 \"/>\n",
       "<path clip-path=\"url(#clip382)\" d=\"M1778.32 2925.65 L1778.32 -1391.96 L1785.55 -1391.96 L1785.55 2925.65 L1778.32 2925.65  Z\" fill=\"#e26f46\" fill-rule=\"evenodd\" fill-opacity=\"0.3\"/>\n",
       "<polyline clip-path=\"url(#clip382)\" style=\"stroke:#000000; stroke-linecap:round; stroke-linejoin:round; stroke-width:0; stroke-opacity:0.3; fill:none\" points=\"1778.32,2925.65 1778.32,-1391.96 1785.55,-1391.96 1785.55,2925.65 1778.32,2925.65 \"/>\n",
       "<path clip-path=\"url(#clip382)\" d=\"M1793.02 2925.65 L1793.02 -1391.96 L1800.48 -1391.96 L1800.48 2925.65 L1793.02 2925.65  Z\" fill=\"#e26f46\" fill-rule=\"evenodd\" fill-opacity=\"0.3\"/>\n",
       "<polyline clip-path=\"url(#clip382)\" style=\"stroke:#000000; stroke-linecap:round; stroke-linejoin:round; stroke-width:0; stroke-opacity:0.3; fill:none\" points=\"1793.02,2925.65 1793.02,-1391.96 1800.48,-1391.96 1800.48,2925.65 1793.02,2925.65 \"/>\n",
       "<path clip-path=\"url(#clip382)\" d=\"M1807.71 2925.65 L1807.71 -1391.96 L2005.95 -1391.96 L2005.95 2925.65 L1807.71 2925.65  Z\" fill=\"#e26f46\" fill-rule=\"evenodd\" fill-opacity=\"0.3\"/>\n",
       "<polyline clip-path=\"url(#clip382)\" style=\"stroke:#000000; stroke-linecap:round; stroke-linejoin:round; stroke-width:0; stroke-opacity:0.3; fill:none\" points=\"1807.71,2925.65 1807.71,-1391.96 2005.95,-1391.96 2005.95,2925.65 1807.71,2925.65 \"/>\n",
       "<path clip-path=\"url(#clip382)\" d=\"M2013.41 2925.65 L2013.41 -1391.96 L2020.16 -1391.96 L2020.16 2925.65 L2013.41 2925.65  Z\" fill=\"#e26f46\" fill-rule=\"evenodd\" fill-opacity=\"0.3\"/>\n",
       "<polyline clip-path=\"url(#clip382)\" style=\"stroke:#000000; stroke-linecap:round; stroke-linejoin:round; stroke-width:0; stroke-opacity:0.3; fill:none\" points=\"2013.41,2925.65 2013.41,-1391.96 2020.16,-1391.96 2020.16,2925.65 2013.41,2925.65 \"/>\n",
       "<path clip-path=\"url(#clip382)\" d=\"M2027.63 2925.65 L2027.63 -1391.96 L2034.85 -1391.96 L2034.85 2925.65 L2027.63 2925.65  Z\" fill=\"#e26f46\" fill-rule=\"evenodd\" fill-opacity=\"0.3\"/>\n",
       "<polyline clip-path=\"url(#clip382)\" style=\"stroke:#000000; stroke-linecap:round; stroke-linejoin:round; stroke-width:0; stroke-opacity:0.3; fill:none\" points=\"2027.63,2925.65 2027.63,-1391.96 2034.85,-1391.96 2034.85,2925.65 2027.63,2925.65 \"/>\n",
       "<path clip-path=\"url(#clip382)\" d=\"M2042.32 2925.65 L2042.32 -1391.96 L2049.55 -1391.96 L2049.55 2925.65 L2042.32 2925.65  Z\" fill=\"#e26f46\" fill-rule=\"evenodd\" fill-opacity=\"0.3\"/>\n",
       "<polyline clip-path=\"url(#clip382)\" style=\"stroke:#000000; stroke-linecap:round; stroke-linejoin:round; stroke-width:0; stroke-opacity:0.3; fill:none\" points=\"2042.32,2925.65 2042.32,-1391.96 2049.55,-1391.96 2049.55,2925.65 2042.32,2925.65 \"/>\n",
       "<path clip-path=\"url(#clip382)\" d=\"M2057.01 2925.65 L2057.01 -1391.96 L2064.48 -1391.96 L2064.48 2925.65 L2057.01 2925.65  Z\" fill=\"#e26f46\" fill-rule=\"evenodd\" fill-opacity=\"0.3\"/>\n",
       "<polyline clip-path=\"url(#clip382)\" style=\"stroke:#000000; stroke-linecap:round; stroke-linejoin:round; stroke-width:0; stroke-opacity:0.3; fill:none\" points=\"2057.01,2925.65 2057.01,-1391.96 2064.48,-1391.96 2064.48,2925.65 2057.01,2925.65 \"/>\n",
       "<path clip-path=\"url(#clip380)\" d=\"M264.711 1438.47 L711.686 1438.47 L711.686 1282.95 L264.711 1282.95  Z\" fill=\"#ffffff\" fill-rule=\"evenodd\" fill-opacity=\"1\"/>\n",
       "<polyline clip-path=\"url(#clip380)\" style=\"stroke:#000000; stroke-linecap:round; stroke-linejoin:round; stroke-width:4; stroke-opacity:1; fill:none\" points=\"264.711,1438.47 711.686,1438.47 711.686,1282.95 264.711,1282.95 264.711,1438.47 \"/>\n",
       "<polyline clip-path=\"url(#clip380)\" style=\"stroke:#009af9; stroke-linecap:round; stroke-linejoin:round; stroke-width:4; stroke-opacity:1; fill:none\" points=\"288.711,1334.79 432.714,1334.79 \"/>\n",
       "<path clip-path=\"url(#clip380)\" d=\"M472.548 1322.12 L466.206 1339.32 L478.914 1339.32 L472.548 1322.12 M469.909 1317.51 L475.21 1317.51 L488.381 1352.07 L483.52 1352.07 L480.372 1343.21 L464.794 1343.21 L461.645 1352.07 L456.715 1352.07 L469.909 1317.51 Z\" fill=\"#000000\" fill-rule=\"nonzero\" fill-opacity=\"1\" /><path clip-path=\"url(#clip380)\" d=\"M518.474 1320.18 L518.474 1325.11 Q516.113 1322.91 513.428 1321.82 Q510.766 1320.73 507.756 1320.73 Q501.83 1320.73 498.682 1324.37 Q495.534 1327.98 495.534 1334.83 Q495.534 1341.66 498.682 1345.29 Q501.83 1348.9 507.756 1348.9 Q510.766 1348.9 513.428 1347.82 Q516.113 1346.73 518.474 1344.53 L518.474 1349.41 Q516.02 1351.08 513.265 1351.91 Q510.534 1352.75 507.478 1352.75 Q499.631 1352.75 495.117 1347.95 Q490.604 1343.14 490.604 1334.83 Q490.604 1326.5 495.117 1321.7 Q499.631 1316.89 507.478 1316.89 Q510.58 1316.89 513.312 1317.72 Q516.066 1318.53 518.474 1320.18 Z\" fill=\"#000000\" fill-rule=\"nonzero\" fill-opacity=\"1\" /><path clip-path=\"url(#clip380)\" d=\"M522.617 1317.51 L527.339 1317.51 L534.608 1346.73 L541.853 1317.51 L547.108 1317.51 L554.376 1346.73 L561.622 1317.51 L566.367 1317.51 L557.687 1352.07 L551.807 1352.07 L544.515 1322.07 L537.154 1352.07 L531.275 1352.07 L522.617 1317.51 Z\" fill=\"#000000\" fill-rule=\"nonzero\" fill-opacity=\"1\" /><path clip-path=\"url(#clip380)\" d=\"M572.571 1317.51 L577.247 1317.51 L577.247 1352.07 L572.571 1352.07 L572.571 1317.51 Z\" fill=\"#000000\" fill-rule=\"nonzero\" fill-opacity=\"1\" /><path clip-path=\"url(#clip380)\" d=\"M606.066 1359.94 L606.066 1363.25 L581.436 1363.25 L581.436 1359.94 L606.066 1359.94 Z\" fill=\"#000000\" fill-rule=\"nonzero\" fill-opacity=\"1\" /><path clip-path=\"url(#clip380)\" d=\"M610.256 1317.51 L616.552 1317.51 L631.876 1346.43 L631.876 1317.51 L636.413 1317.51 L636.413 1352.07 L630.117 1352.07 L614.793 1323.16 L614.793 1352.07 L610.256 1352.07 L610.256 1317.51 Z\" fill=\"#000000\" fill-rule=\"nonzero\" fill-opacity=\"1\" /><path clip-path=\"url(#clip380)\" d=\"M667.709 1338.05 L667.709 1340.13 L648.126 1340.13 Q648.404 1344.53 650.765 1346.84 Q653.149 1349.13 657.385 1349.13 Q659.839 1349.13 662.13 1348.53 Q664.445 1347.93 666.714 1346.73 L666.714 1350.75 Q664.422 1351.73 662.015 1352.24 Q659.607 1352.75 657.13 1352.75 Q650.927 1352.75 647.293 1349.13 Q643.681 1345.52 643.681 1339.37 Q643.681 1333 647.107 1329.27 Q650.556 1325.52 656.39 1325.52 Q661.621 1325.52 664.654 1328.9 Q667.709 1332.26 667.709 1338.05 M663.45 1336.8 Q663.404 1333.3 661.482 1331.22 Q659.584 1329.13 656.436 1329.13 Q652.871 1329.13 650.718 1331.15 Q648.589 1333.16 648.265 1336.82 L663.45 1336.8 Z\" fill=\"#000000\" fill-rule=\"nonzero\" fill-opacity=\"1\" /><path clip-path=\"url(#clip380)\" d=\"M678.913 1318.79 L678.913 1326.15 L687.686 1326.15 L687.686 1329.46 L678.913 1329.46 L678.913 1343.53 Q678.913 1346.7 679.769 1347.61 Q680.649 1348.51 683.311 1348.51 L687.686 1348.51 L687.686 1352.07 L683.311 1352.07 Q678.38 1352.07 676.505 1350.25 Q674.63 1348.39 674.63 1343.53 L674.63 1329.46 L671.505 1329.46 L671.505 1326.15 L674.63 1326.15 L674.63 1318.79 L678.913 1318.79 Z\" fill=\"#000000\" fill-rule=\"nonzero\" fill-opacity=\"1\" /><path clip-path=\"url(#clip380)\" d=\"M288.711 1407.37 L432.714 1407.37 L432.714 1365.9 L288.711 1365.9 L288.711 1407.37  Z\" fill=\"#e26f46\" fill-rule=\"evenodd\" fill-opacity=\"0.3\"/>\n",
       "<polyline clip-path=\"url(#clip380)\" style=\"stroke:#000000; stroke-linecap:round; stroke-linejoin:round; stroke-width:0.8; stroke-opacity:1; fill:none\" points=\"288.711,1407.37 432.714,1407.37 432.714,1365.9 288.711,1365.9 288.711,1407.37 \"/>\n",
       "<path clip-path=\"url(#clip380)\" d=\"M470.557 1406.32 Q468.752 1410.95 467.039 1412.36 Q465.326 1413.78 462.456 1413.78 L459.053 1413.78 L459.053 1410.21 L461.553 1410.21 Q463.312 1410.21 464.284 1409.38 Q465.256 1408.54 466.437 1405.44 L467.201 1403.5 L456.715 1377.99 L461.229 1377.99 L469.331 1398.27 L477.432 1377.99 L481.946 1377.99 L470.557 1406.32 Z\" fill=\"#000000\" fill-rule=\"nonzero\" fill-opacity=\"1\" /><path clip-path=\"url(#clip380)\" d=\"M492.455 1399.98 L508.775 1399.98 L508.775 1403.91 L486.83 1403.91 L486.83 1399.98 Q489.492 1397.22 494.076 1392.6 Q498.682 1387.94 499.863 1386.6 Q502.108 1384.08 502.988 1382.34 Q503.891 1380.58 503.891 1378.89 Q503.891 1376.14 501.946 1374.4 Q500.025 1372.66 496.923 1372.66 Q494.724 1372.66 492.27 1373.43 Q489.84 1374.19 487.062 1375.74 L487.062 1371.02 Q489.886 1369.89 492.34 1369.31 Q494.793 1368.73 496.83 1368.73 Q502.201 1368.73 505.395 1371.41 Q508.59 1374.1 508.59 1378.59 Q508.59 1380.72 507.779 1382.64 Q506.992 1384.54 504.886 1387.13 Q504.307 1387.8 501.205 1391.02 Q498.104 1394.22 492.455 1399.98 Z\" fill=\"#000000\" fill-rule=\"nonzero\" fill-opacity=\"1\" /></svg>\n"
      ]
     },
     "metadata": {},
     "output_type": "display_data"
    }
   ],
   "source": [
    "plot(acwi_states[:ACWI_Net ])\n",
    "vspan!(findwhen(acwi_states[:A] .== 2.0),alpha = 0.3)"
   ]
  },
  {
   "cell_type": "code",
   "execution_count": 28,
   "metadata": {},
   "outputs": [
    {
     "data": {
      "text/plain": [
       "3×3 Matrix{Float64}:\n",
       "  0.19   0.07  0.1\n",
       " -0.08   0.19  0.25\n",
       "  0.25  -0.08  0.19"
      ]
     },
     "metadata": {},
     "output_type": "display_data"
    }
   ],
   "source": [
    "sims = [0.06 0.13 -0.23 0.3 -0.05 0.15; 0.15 -0.23 0.06 0.13 0.3 -0.05; -0.05 0.3 -0.23 0.15 0.06 0.13]\n",
    "\n",
    "function annualise(scenarios:: Matrix, shift=2)\n",
    "   \n",
    "    periods = floor.(Int, size(scenarios)[2]/shift)\n",
    "    result = zeros(size(scenarios)[1],periods)\n",
    "\n",
    "    for p in 1:periods\n",
    "        start = (p-1)*shift+1\n",
    "        en = p*shift\n",
    "        result[:,p] .= sum(scenarios[:,start:en],dims=2)\n",
    "    end \n",
    "    return result\n",
    "   \n",
    "end\n",
    "\n",
    "annualise(sims,2)\n"
   ]
  },
  {
   "cell_type": "code",
   "execution_count": 175,
   "metadata": {},
   "outputs": [
    {
     "data": {
      "text/plain": [
       "3-element Vector{Float64}:\n",
       " 0.19\n",
       " 0.06999999999999998\n",
       " 0.09999999999999999"
      ]
     },
     "metadata": {},
     "output_type": "display_data"
    }
   ],
   "source": [
    "function annualise(scenarios:: Vector, shift=2)\n",
    "   \n",
    "    periods = floor.(Int, size(scenarios)[1]/shift)\n",
    "    result = zeros(periods)\n",
    "\n",
    "    for p in 1:periods\n",
    "        start = (p-1)*shift+1\n",
    "        en = p*shift\n",
    "        result[p] = sum(scenarios[start:en])\n",
    "    end  \n",
    "    return result\n",
    "   \n",
    "end\n",
    "\n",
    "annualise(sims[1,:],2)"
   ]
  },
  {
   "cell_type": "code",
   "execution_count": 37,
   "metadata": {},
   "outputs": [
    {
     "data": {
      "text/plain": [
       "print_percentiles (generic function with 1 method)"
      ]
     },
     "metadata": {},
     "output_type": "display_data"
    }
   ],
   "source": [
    "function print_percentiles(X, perc)\n",
    "    years = size(X)[2]\n",
    "    simulation_perc = zeros(length(perc),years)\n",
    "\n",
    "    for t in 1:years\n",
    "        simulation_perc[:,t] = quantile(X[:,t],perc)\n",
    "    end\n",
    "    pretty_table(simulation_perc, backend = Val(:html),header=1:years, row_labels=perc)\n",
    "end"
   ]
  },
  {
   "cell_type": "code",
   "execution_count": 177,
   "metadata": {},
   "outputs": [],
   "source": [
    "using ScenTrees, SDDP"
   ]
  },
  {
   "cell_type": "code",
   "execution_count": 30,
   "metadata": {},
   "outputs": [
    {
     "name": "stdout",
     "output_type": "stream",
     "text": [
      "mean 0.06978414756872021\n",
      "std 0.13188218245803085\n"
     ]
    }
   ],
   "source": [
    "acwi_pln_98 = identity.(values(from(returns[:ACWI_Net_PLN ],Date(1998,01,01))))\n",
    "println(\"mean $(mean(acwi_pln_98)*12)\")\n",
    "println(\"std $(std(acwi_pln_98)*12^0.5)\")"
   ]
  },
  {
   "cell_type": "code",
   "execution_count": 31,
   "metadata": {},
   "outputs": [
    {
     "name": "stdout",
     "output_type": "stream",
     "text": [
      "mean: 0.07229370106669933\n",
      "std: 0.14099421414065977\n"
     ]
    }
   ],
   "source": [
    "println(\"mean: \",expm1(0.0698))\n",
    "println(\"std: \",expm1(0.1319))"
   ]
  },
  {
   "cell_type": "code",
   "execution_count": 38,
   "metadata": {},
   "outputs": [
    {
     "data": {
      "text/html": [
       "<table>\n",
       "  <thead>\n",
       "    <tr class = \"header headerLastRow\">\n",
       "      <th class = \"rowLabel\" style = \"font-weight: bold; text-align: right;\"></th>\n",
       "      <th style = \"text-align: right;\">1</th>\n",
       "      <th style = \"text-align: right;\">2</th>\n",
       "      <th style = \"text-align: right;\">3</th>\n",
       "      <th style = \"text-align: right;\">4</th>\n",
       "      <th style = \"text-align: right;\">5</th>\n",
       "      <th style = \"text-align: right;\">6</th>\n",
       "      <th style = \"text-align: right;\">7</th>\n",
       "      <th style = \"text-align: right;\">8</th>\n",
       "      <th style = \"text-align: right;\">9</th>\n",
       "      <th style = \"text-align: right;\">10</th>\n",
       "      <th style = \"text-align: right;\">11</th>\n",
       "      <th style = \"text-align: right;\">12</th>\n",
       "      <th style = \"text-align: right;\">13</th>\n",
       "      <th style = \"text-align: right;\">14</th>\n",
       "      <th style = \"text-align: right;\">15</th>\n",
       "    </tr>\n",
       "  </thead>\n",
       "  <tbody>\n",
       "    <tr>\n",
       "      <td class = \"rowLabel\" style = \"font-weight: bold; text-align: right;\">0.01</td>\n",
       "      <td style = \"text-align: right;\">-0.256461</td>\n",
       "      <td style = \"text-align: right;\">-0.255829</td>\n",
       "      <td style = \"text-align: right;\">-0.256924</td>\n",
       "      <td style = \"text-align: right;\">-0.2556</td>\n",
       "      <td style = \"text-align: right;\">-0.259045</td>\n",
       "      <td style = \"text-align: right;\">-0.25586</td>\n",
       "      <td style = \"text-align: right;\">-0.255772</td>\n",
       "      <td style = \"text-align: right;\">-0.255769</td>\n",
       "      <td style = \"text-align: right;\">-0.253516</td>\n",
       "      <td style = \"text-align: right;\">-0.257653</td>\n",
       "      <td style = \"text-align: right;\">-0.254963</td>\n",
       "      <td style = \"text-align: right;\">-0.254957</td>\n",
       "      <td style = \"text-align: right;\">-0.255367</td>\n",
       "      <td style = \"text-align: right;\">-0.254174</td>\n",
       "      <td style = \"text-align: right;\">-0.255746</td>\n",
       "    </tr>\n",
       "    <tr>\n",
       "      <td class = \"rowLabel\" style = \"font-weight: bold; text-align: right;\">0.025</td>\n",
       "      <td style = \"text-align: right;\">-0.205118</td>\n",
       "      <td style = \"text-align: right;\">-0.202794</td>\n",
       "      <td style = \"text-align: right;\">-0.204864</td>\n",
       "      <td style = \"text-align: right;\">-0.203936</td>\n",
       "      <td style = \"text-align: right;\">-0.205414</td>\n",
       "      <td style = \"text-align: right;\">-0.20513</td>\n",
       "      <td style = \"text-align: right;\">-0.203714</td>\n",
       "      <td style = \"text-align: right;\">-0.205563</td>\n",
       "      <td style = \"text-align: right;\">-0.202683</td>\n",
       "      <td style = \"text-align: right;\">-0.204026</td>\n",
       "      <td style = \"text-align: right;\">-0.203735</td>\n",
       "      <td style = \"text-align: right;\">-0.204327</td>\n",
       "      <td style = \"text-align: right;\">-0.203779</td>\n",
       "      <td style = \"text-align: right;\">-0.203221</td>\n",
       "      <td style = \"text-align: right;\">-0.20524</td>\n",
       "    </tr>\n",
       "    <tr>\n",
       "      <td class = \"rowLabel\" style = \"font-weight: bold; text-align: right;\">0.16</td>\n",
       "      <td style = \"text-align: right;\">-0.0674039</td>\n",
       "      <td style = \"text-align: right;\">-0.0676064</td>\n",
       "      <td style = \"text-align: right;\">-0.0674916</td>\n",
       "      <td style = \"text-align: right;\">-0.0675531</td>\n",
       "      <td style = \"text-align: right;\">-0.0686685</td>\n",
       "      <td style = \"text-align: right;\">-0.0681444</td>\n",
       "      <td style = \"text-align: right;\">-0.0679046</td>\n",
       "      <td style = \"text-align: right;\">-0.0680489</td>\n",
       "      <td style = \"text-align: right;\">-0.0661903</td>\n",
       "      <td style = \"text-align: right;\">-0.0679224</td>\n",
       "      <td style = \"text-align: right;\">-0.068838</td>\n",
       "      <td style = \"text-align: right;\">-0.0677261</td>\n",
       "      <td style = \"text-align: right;\">-0.0691344</td>\n",
       "      <td style = \"text-align: right;\">-0.0678484</td>\n",
       "      <td style = \"text-align: right;\">-0.0669795</td>\n",
       "    </tr>\n",
       "    <tr>\n",
       "      <td class = \"rowLabel\" style = \"font-weight: bold; text-align: right;\">0.5</td>\n",
       "      <td style = \"text-align: right;\">0.0724706</td>\n",
       "      <td style = \"text-align: right;\">0.072844</td>\n",
       "      <td style = \"text-align: right;\">0.0720711</td>\n",
       "      <td style = \"text-align: right;\">0.0729988</td>\n",
       "      <td style = \"text-align: right;\">0.0714322</td>\n",
       "      <td style = \"text-align: right;\">0.0716921</td>\n",
       "      <td style = \"text-align: right;\">0.0717148</td>\n",
       "      <td style = \"text-align: right;\">0.0718211</td>\n",
       "      <td style = \"text-align: right;\">0.0721964</td>\n",
       "      <td style = \"text-align: right;\">0.071885</td>\n",
       "      <td style = \"text-align: right;\">0.0722302</td>\n",
       "      <td style = \"text-align: right;\">0.0725722</td>\n",
       "      <td style = \"text-align: right;\">0.071892</td>\n",
       "      <td style = \"text-align: right;\">0.0730221</td>\n",
       "      <td style = \"text-align: right;\">0.0726549</td>\n",
       "    </tr>\n",
       "    <tr>\n",
       "      <td class = \"rowLabel\" style = \"font-weight: bold; text-align: right;\">0.84</td>\n",
       "      <td style = \"text-align: right;\">0.212489</td>\n",
       "      <td style = \"text-align: right;\">0.213328</td>\n",
       "      <td style = \"text-align: right;\">0.212438</td>\n",
       "      <td style = \"text-align: right;\">0.212321</td>\n",
       "      <td style = \"text-align: right;\">0.212129</td>\n",
       "      <td style = \"text-align: right;\">0.213476</td>\n",
       "      <td style = \"text-align: right;\">0.21301</td>\n",
       "      <td style = \"text-align: right;\">0.212553</td>\n",
       "      <td style = \"text-align: right;\">0.212659</td>\n",
       "      <td style = \"text-align: right;\">0.212646</td>\n",
       "      <td style = \"text-align: right;\">0.212569</td>\n",
       "      <td style = \"text-align: right;\">0.212282</td>\n",
       "      <td style = \"text-align: right;\">0.211513</td>\n",
       "      <td style = \"text-align: right;\">0.213343</td>\n",
       "      <td style = \"text-align: right;\">0.213004</td>\n",
       "    </tr>\n",
       "    <tr>\n",
       "      <td class = \"rowLabel\" style = \"font-weight: bold; text-align: right;\">0.975</td>\n",
       "      <td style = \"text-align: right;\">0.348169</td>\n",
       "      <td style = \"text-align: right;\">0.351061</td>\n",
       "      <td style = \"text-align: right;\">0.347241</td>\n",
       "      <td style = \"text-align: right;\">0.348422</td>\n",
       "      <td style = \"text-align: right;\">0.348646</td>\n",
       "      <td style = \"text-align: right;\">0.350653</td>\n",
       "      <td style = \"text-align: right;\">0.347388</td>\n",
       "      <td style = \"text-align: right;\">0.348855</td>\n",
       "      <td style = \"text-align: right;\">0.34737</td>\n",
       "      <td style = \"text-align: right;\">0.349125</td>\n",
       "      <td style = \"text-align: right;\">0.348486</td>\n",
       "      <td style = \"text-align: right;\">0.349543</td>\n",
       "      <td style = \"text-align: right;\">0.349119</td>\n",
       "      <td style = \"text-align: right;\">0.350201</td>\n",
       "      <td style = \"text-align: right;\">0.349858</td>\n",
       "    </tr>\n",
       "    <tr>\n",
       "      <td class = \"rowLabel\" style = \"font-weight: bold; text-align: right;\">0.99</td>\n",
       "      <td style = \"text-align: right;\">0.399952</td>\n",
       "      <td style = \"text-align: right;\">0.401162</td>\n",
       "      <td style = \"text-align: right;\">0.398004</td>\n",
       "      <td style = \"text-align: right;\">0.400375</td>\n",
       "      <td style = \"text-align: right;\">0.401339</td>\n",
       "      <td style = \"text-align: right;\">0.403554</td>\n",
       "      <td style = \"text-align: right;\">0.398028</td>\n",
       "      <td style = \"text-align: right;\">0.401221</td>\n",
       "      <td style = \"text-align: right;\">0.399219</td>\n",
       "      <td style = \"text-align: right;\">0.401771</td>\n",
       "      <td style = \"text-align: right;\">0.3988</td>\n",
       "      <td style = \"text-align: right;\">0.399876</td>\n",
       "      <td style = \"text-align: right;\">0.403369</td>\n",
       "      <td style = \"text-align: right;\">0.402655</td>\n",
       "      <td style = \"text-align: right;\">0.400696</td>\n",
       "    </tr>\n",
       "  </tbody>\n",
       "</table>\n"
      ]
     },
     "metadata": {},
     "output_type": "display_data"
    }
   ],
   "source": [
    "years = 15\n",
    "n_steps = years \n",
    "n_scenarios = 100000\n",
    "simulations = rand(Normal(0.0723,0.1410),(n_scenarios,n_steps))\n",
    "\n",
    "print_percentiles(simulations,[0.01, 0.025,0.16,0.5,0.84,0.975, 0.99])"
   ]
  },
  {
   "cell_type": "code",
   "execution_count": 39,
   "metadata": {},
   "outputs": [
    {
     "ename": "MethodError",
     "evalue": "MethodError: no method matching annualise(::Vector{Float64}, ::Int64)\n\nClosest candidates are:\n  annualise(!Matched::Matrix, ::Any)\n   @ Main c:\\Users\\matsz\\programowanie\\Optymalizacja_portfela\\julia_msp\\acwi_hmm.ipynb:3\n",
     "output_type": "error",
     "traceback": [
      "MethodError: no method matching annualise(::Vector{Float64}, ::Int64)\n",
      "\n",
      "Closest candidates are:\n",
      "  annualise(!Matched::Matrix, ::Any)\n",
      "   @ Main c:\\Users\\matsz\\programowanie\\Optymalizacja_portfela\\julia_msp\\acwi_hmm.ipynb:3\n",
      "\n",
      "\n",
      "Stacktrace:\n",
      " [1] top-level scope\n",
      "   @ c:\\Users\\matsz\\programowanie\\Optymalizacja_portfela\\julia_msp\\acwi_hmm.ipynb:1"
     ]
    }
   ],
   "source": [
    "quantile((annualise(acwi_pln_98,12)),perc)"
   ]
  },
  {
   "cell_type": "code",
   "execution_count": 40,
   "metadata": {},
   "outputs": [
    {
     "data": {
      "text/plain": [
       "Dict{Symbol, Float64} with 8 entries:\n",
       "  :max      => 0.696258\n",
       "  :median   => 0.0724706\n",
       "  :std      => 0.140957\n",
       "  :mean     => 0.072241\n",
       "  :var      => 0.0198689\n",
       "  :kurtosis => 0.0100951\n",
       "  :skew     => -0.00605008\n",
       "  :min      => -0.568252"
      ]
     },
     "metadata": {},
     "output_type": "display_data"
    }
   ],
   "source": [
    "norm_moments = Dict(\n",
    "    :mean => mean(simulations[:,1]),\n",
    "    :min => minimum(simulations[:,1]),\n",
    "    :max => maximum(simulations[:,1]),\n",
    "    :median => median(simulations[:,1]),\n",
    "    :std => std(simulations[:,1]),\n",
    "    :var => var(simulations[:,1]),\n",
    "    :skew => skewness(simulations[:,1]),\n",
    "    :kurtosis => kurtosis(simulations[:,1])  \n",
    ")"
   ]
  },
  {
   "cell_type": "code",
   "execution_count": 183,
   "metadata": {},
   "outputs": [
    {
     "data": {
      "text/plain": [
       "Root\n",
       " (0, 0.0)\n",
       "Nodes\n",
       " (1, -0.08527015785352382)\n",
       " (1, 0.06605892455910567)\n",
       " (1, 0.16850762296891353)\n",
       " (1, 0.304299314320707)\n",
       " (1, 0.40381431968177567)\n",
       " (2, -0.13820394730194482)\n",
       " (2, -0.020973922026791797)\n",
       " (2, 0.07319778356766045)\n",
       " (2, 0.18286975506440747)\n",
       " (2, 0.39080264110361784)\n",
       " (3, -0.15218640876204723)\n",
       " (3, -0.022386066963818063)\n",
       " (3, 0.07329748939817843)\n",
       " (3, 0.18224140078397805)\n",
       " (3, 0.38719007204374717)\n",
       " (4, -0.08918857408856246)\n",
       " (4, 0.03810719622804815)\n",
       " (4, 0.07737782284177588)\n",
       " (4, 0.18341713634058882)\n",
       " (4, 0.3924579891481513)\n",
       " (5, -0.08645883161411017)\n",
       " (5, 0.06228193359831643)\n",
       " (5, 0.10898503324858966)\n",
       " (5, 0.18590823944682383)\n",
       " (5, 0.38751039153335454)\n",
       " (6, -0.09410748767013606)\n",
       " (6, -0.01771701849691092)\n",
       " (6, 0.0732835753048669)\n",
       " (6, 0.18292464388222013)\n",
       " (6, 0.3900716260998173)\n",
       " (7, -0.08586529597447631)\n",
       " (7, 0.0639279490644168)\n",
       " (7, 0.14514722669374025)\n",
       " (7, 0.18629811491641918)\n",
       " (7, 0.3880687220602303)\n",
       " (8, -0.0851968925169127)\n",
       " (8, 0.06599410253777994)\n",
       " (8, 0.16588015871531128)\n",
       " (8, 0.27870569639965354)\n",
       " (8, 0.40291182867862135)\n",
       " (9, -0.08616289654037787)\n",
       " (9, 0.061428198662626485)\n",
       " (9, 0.08004950152372507)\n",
       " (9, 0.18347435275215307)\n",
       " (9, 0.39205768270005786)\n",
       " (10, -0.1586341417581738)\n",
       " (10, -0.02243720910001371)\n",
       " (10, 0.074052995993058)\n",
       " (10, 0.18270819553723236)\n",
       " (10, 0.3876214772294267)\n",
       " (11, -0.08571287213855673)\n",
       " (11, 0.06637711702528645)\n",
       " (11, 0.16569516084652874)\n",
       " (11, 0.276576190007028)\n",
       " (11, 0.4030478691912849)\n",
       " (12, -0.09324478009806908)\n",
       " (12, -0.00042061285509916634)\n",
       " (12, 0.07501437426714454)\n",
       " (12, 0.18319306739622418)\n",
       " (12, 0.3907081941756746)\n",
       " (13, -0.18990270051787525)\n",
       " (13, -0.028861812068488382)\n",
       " (13, 0.072366788491209)\n",
       " (13, 0.18252479305383496)\n",
       " (13, 0.3867552833635395)\n",
       " (14, -0.08514141515357061)\n",
       " (14, 0.06723368561047799)\n",
       " (14, 0.17140508973057594)\n",
       " (14, 0.3169563829260549)\n",
       " (14, 0.40096595265195434)\n",
       " (15, -0.16419888278387437)\n",
       " (15, -0.024747523925609645)\n",
       " (15, 0.07187901576395851)\n",
       " (15, 0.18203809726251957)\n",
       " (15, 0.38960355118755813)\n",
       "Arcs\n",
       " (0, 0.0) => (1, 0.304299314320707) w.p. 0.0989\n",
       " (0, 0.0) => (1, -0.08527015785352382) w.p. 0.30063\n",
       " (0, 0.0) => (1, 0.06605892455910567) w.p. 0.32712\n",
       " (0, 0.0) => (1, 0.16850762296891353) w.p. 0.25002\n",
       " (0, 0.0) => (1, 0.40381431968177567) w.p. 0.02333\n",
       " (1, -0.08527015785352382) => (2, -0.13820394730194482) w.p. 0.1454611981505505\n",
       " (1, -0.08527015785352382) => (2, -0.020973922026791797) w.p. 0.22536007717127365\n",
       " (1, -0.08527015785352382) => (2, 0.07319778356766045) w.p. 0.27675215381033164\n",
       " (1, -0.08527015785352382) => (2, 0.18286975506440747) w.p. 0.28749625785849714\n",
       " (1, -0.08527015785352382) => (2, 0.39080264110361784) w.p. 0.06493031300934704\n",
       " (1, 0.06605892455910567) => (2, -0.13820394730194482) w.p. 0.14432012717045734\n",
       " (1, 0.06605892455910567) => (2, -0.020973922026791797) w.p. 0.22982391782831987\n",
       " (1, 0.06605892455910567) => (2, 0.07319778356766045) w.p. 0.27662631450232333\n",
       " (1, 0.06605892455910567) => (2, 0.18286975506440747) w.p. 0.2857972609439961\n",
       " (1, 0.06605892455910567) => (2, 0.39080264110361784) w.p. 0.0634323795549034\n",
       " (1, 0.16850762296891353) => (2, -0.13820394730194482) w.p. 0.14678825693944483\n",
       " (1, 0.16850762296891353) => (2, -0.020973922026791797) w.p. 0.22666186705063596\n",
       " (1, 0.16850762296891353) => (2, 0.07319778356766045) w.p. 0.2736581073514119\n",
       " (1, 0.16850762296891353) => (2, 0.18286975506440747) w.p. 0.28525717942564593\n",
       " (1, 0.16850762296891353) => (2, 0.39080264110361784) w.p. 0.06763458923286138\n",
       " (1, 0.304299314320707) => (2, -0.13820394730194482) w.p. 0.14641051567239635\n",
       " (1, 0.304299314320707) => (2, -0.020973922026791797) w.p. 0.2282103134479272\n",
       " (1, 0.304299314320707) => (2, 0.07319778356766045) w.p. 0.2723963599595551\n",
       " (1, 0.304299314320707) => (2, 0.18286975506440747) w.p. 0.28867542972699695\n",
       " (1, 0.304299314320707) => (2, 0.39080264110361784) w.p. 0.06430738119312437\n",
       " (1, 0.40381431968177567) => (2, -0.13820394730194482) w.p. 0.14573510501500214\n",
       " (1, 0.40381431968177567) => (2, -0.020973922026791797) w.p. 0.20960137162451778\n",
       " (1, 0.40381431968177567) => (2, 0.07319778356766045) w.p. 0.28418345477925416\n",
       " (1, 0.40381431968177567) => (2, 0.18286975506440747) w.p. 0.29232747535362197\n",
       " (1, 0.40381431968177567) => (2, 0.39080264110361784) w.p. 0.06815259322760395\n",
       " (2, -0.13820394730194482) => (3, -0.15218640876204723) w.p. 0.13468938977460143\n",
       " (2, -0.13820394730194482) => (3, -0.022386066963818063) w.p. 0.23605002748763057\n",
       " (2, -0.13820394730194482) => (3, 0.07329748939817843) w.p. 0.2779686641011545\n",
       " (2, -0.13820394730194482) => (3, 0.18224140078397805) w.p. 0.2865585486531061\n",
       " (2, -0.13820394730194482) => (3, 0.38719007204374717) w.p. 0.06473336998350743\n",
       " (2, -0.020973922026791797) => (3, -0.15218640876204723) w.p. 0.12921694706245046\n",
       " (2, -0.020973922026791797) => (3, -0.022386066963818063) w.p. 0.24099356998150268\n",
       " (2, -0.020973922026791797) => (3, 0.07329748939817843) w.p. 0.2758301770457148\n",
       " (2, -0.020973922026791797) => (3, 0.18224140078397805) w.p. 0.28591561701752843\n",
       " (2, -0.020973922026791797) => (3, 0.38719007204374717) w.p. 0.06804368889280367\n",
       " (2, 0.07319778356766045) => (3, -0.15218640876204723) w.p. 0.13102147417295415\n",
       " (2, 0.07319778356766045) => (3, -0.022386066963818063) w.p. 0.2380658734764945\n",
       " (2, 0.07319778356766045) => (3, 0.07329748939817843) w.p. 0.274883923389437\n",
       " (2, 0.07319778356766045) => (3, 0.18224140078397805) w.p. 0.2876523505513639\n",
       " (2, 0.07319778356766045) => (3, 0.38719007204374717) w.p. 0.06837637840975043\n",
       " (2, 0.18286975506440747) => (3, -0.15218640876204723) w.p. 0.13345661351662538\n",
       " (2, 0.18286975506440747) => (3, -0.022386066963818063) w.p. 0.24186176337182932\n",
       " (2, 0.18286975506440747) => (3, 0.07329748939817843) w.p. 0.2761592407801542\n",
       " (2, 0.18286975506440747) => (3, 0.18224140078397805) w.p. 0.2833467080701999\n",
       " (2, 0.18286975506440747) => (3, 0.38719007204374717) w.p. 0.06517567426119117\n",
       " (2, 0.39080264110361784) => (3, -0.15218640876204723) w.p. 0.13020113618916015\n",
       " (2, 0.39080264110361784) => (3, -0.022386066963818063) w.p. 0.2296944572393674\n",
       " (2, 0.39080264110361784) => (3, 0.07329748939817843) w.p. 0.27913403961308153\n",
       " (2, 0.39080264110361784) => (3, 0.18224140078397805) w.p. 0.29878704130201134\n",
       " (2, 0.39080264110361784) => (3, 0.38719007204374717) w.p. 0.062183325656379546\n",
       " (3, -0.15218640876204723) => (4, 0.03810719622804815) w.p. 0.19500720843766597\n",
       " (3, -0.15218640876204723) => (4, -0.08918857408856246) w.p. 0.2660292890204113\n",
       " (3, -0.15218640876204723) => (4, 0.07737782284177588) w.p. 0.18893694513999545\n",
       " (3, -0.15218640876204723) => (4, 0.18341713634058882) w.p. 0.28515061840807343\n",
       " (3, -0.15218640876204723) => (4, 0.3924579891481513) w.p. 0.06487593899385385\n",
       " (3, -0.022386066963818063) => (4, 0.03810719622804815) w.p. 0.19474433006946187\n",
       " (3, -0.022386066963818063) => (4, -0.08918857408856246) w.p. 0.26512678885262364\n",
       " (3, -0.022386066963818063) => (4, 0.07737782284177588) w.p. 0.19365637291823584\n",
       " (3, -0.022386066963818063) => (4, 0.18341713634058882) w.p. 0.2825759477780567\n",
       " (3, -0.022386066963818063) => (4, 0.3924579891481513) w.p. 0.06389656038162189\n",
       " (3, 0.07329748939817843) => (4, 0.03810719622804815) w.p. 0.19352619573482024\n",
       " (3, 0.07329748939817843) => (4, -0.08918857408856246) w.p. 0.26423838661790794\n",
       " (3, 0.07329748939817843) => (4, 0.07737782284177588) w.p. 0.19211412433469713\n",
       " (3, 0.07329748939817843) => (4, 0.18341713634058882) w.p. 0.28480393931713677\n",
       " (3, 0.07329748939817843) => (4, 0.3924579891481513) w.p. 0.06531735399543792\n",
       " (3, 0.18224140078397805) => (4, 0.03810719622804815) w.p. 0.19501727206113262\n",
       " (3, 0.18224140078397805) => (4, -0.08918857408856246) w.p. 0.26490805680588997\n",
       " (3, 0.18224140078397805) => (4, 0.07737782284177588) w.p. 0.19083010572594997\n",
       " (3, 0.18224140078397805) => (4, 0.18341713634058882) w.p. 0.28587878153459645\n",
       " (3, 0.18224140078397805) => (4, 0.3924579891481513) w.p. 0.063365783872431\n",
       " (3, 0.38719007204374717) => (4, 0.03810719622804815) w.p. 0.19518434913468774\n",
       " (3, 0.38719007204374717) => (4, -0.08918857408856246) w.p. 0.26606471030850265\n",
       " (3, 0.38719007204374717) => (4, 0.07737782284177588) w.p. 0.18976674191121143\n",
       " (3, 0.38719007204374717) => (4, 0.18341713634058882) w.p. 0.28638073739653874\n",
       " (3, 0.38719007204374717) => (4, 0.3924579891481513) w.p. 0.06260346124905944\n",
       " (4, -0.08918857408856246) => (5, 0.10898503324858966) w.p. 0.15283018867924528\n",
       " (4, -0.08918857408856246) => (5, -0.08645883161411017) w.p. 0.2990188679245283\n",
       " (4, -0.08918857408856246) => (5, 0.06228193359831643) w.p. 0.24328301886792453\n",
       " (4, -0.08918857408856246) => (5, 0.18590823944682383) w.p. 0.24045283018867925\n",
       " (4, -0.08918857408856246) => (5, 0.38751039153335454) w.p. 0.06441509433962264\n",
       " (4, 0.03810719622804815) => (5, 0.10898503324858966) w.p. 0.15564122333590336\n",
       " (4, 0.03810719622804815) => (5, -0.08645883161411017) w.p. 0.28959136468774094\n",
       " (4, 0.03810719622804815) => (5, 0.06228193359831643) w.p. 0.24877923413004369\n",
       " (4, 0.03810719622804815) => (5, 0.18590823944682383) w.p. 0.2406065278848625\n",
       " (4, 0.03810719622804815) => (5, 0.38751039153335454) w.p. 0.0653816499614495\n",
       " (4, 0.07737782284177588) => (5, 0.10898503324858966) w.p. 0.15312728411819984\n",
       " (4, 0.07737782284177588) => (5, -0.08645883161411017) w.p. 0.29221050433329854\n",
       " (4, 0.07737782284177588) => (5, 0.06228193359831643) w.p. 0.24678918241620548\n",
       " (4, 0.07737782284177588) => (5, 0.18590823944682383) w.p. 0.24167275764853294\n",
       " (4, 0.07737782284177588) => (5, 0.38751039153335454) w.p. 0.06620027148376319\n",
       " (4, 0.18341713634058882) => (5, 0.10898503324858966) w.p. 0.15014224001685808\n",
       " (4, 0.18341713634058882) => (5, -0.08645883161411017) w.p. 0.3039721841744811\n",
       " (4, 0.18341713634058882) => (5, 0.06228193359831643) w.p. 0.24335335229866892\n",
       " (4, 0.18341713634058882) => (5, 0.18590823944682383) w.p. 0.23653987988620798\n",
       " (4, 0.18341713634058882) => (5, 0.38751039153335454) w.p. 0.06599234362378394\n",
       " (4, 0.3924579891481513) => (5, 0.10898503324858966) w.p. 0.15144904954814584\n",
       " (4, 0.3924579891481513) => (5, -0.08645883161411017) w.p. 0.30118416952321597\n",
       " (4, 0.3924579891481513) => (5, 0.06228193359831643) w.p. 0.24306637581801185\n",
       " (4, 0.3924579891481513) => (5, 0.18590823944682383) w.p. 0.23885945777500778\n",
       " (4, 0.3924579891481513) => (5, 0.38751039153335454) w.p. 0.06544094733561857\n",
       " (5, -0.08645883161411017) => (6, -0.09410748767013606) w.p. 0.19725649732710218\n",
       " (5, -0.08645883161411017) => (6, -0.01771701849691092) w.p. 0.17526813031637697\n",
       " (5, -0.08645883161411017) => (6, 0.0732835753048669) w.p. 0.2697105201223817\n",
       " (5, -0.08645883161411017) => (6, 0.18292464388222013) w.p. 0.29058938237568505\n",
       " (5, -0.08645883161411017) => (6, 0.3900716260998173) w.p. 0.06717546985845409\n",
       " (5, 0.06228193359831643) => (6, -0.09410748767013606) w.p. 0.19789413541199036\n",
       " (5, 0.06228193359831643) => (6, -0.01771701849691092) w.p. 0.18385503815859283\n",
       " (5, 0.06228193359831643) => (6, 0.0732835753048669) w.p. 0.27168101865077743\n",
       " (5, 0.06228193359831643) => (6, 0.18292464388222013) w.p. 0.28306737950455046\n",
       " (5, 0.06228193359831643) => (6, 0.3900716260998173) w.p. 0.06350242827408889\n",
       " (5, 0.10898503324858966) => (6, -0.09410748767013606) w.p. 0.19556953729191243\n",
       " (5, 0.10898503324858966) => (6, -0.01771701849691092) w.p. 0.17531786603748853\n",
       " (5, 0.10898503324858966) => (6, 0.0732835753048669) w.p. 0.280901821995019\n",
       " (5, 0.10898503324858966) => (6, 0.18292464388222013) w.p. 0.2863415912963691\n",
       " (5, 0.10898503324858966) => (6, 0.3900716260998173) w.p. 0.06186918337921091\n",
       " (5, 0.18590823944682383) => (6, -0.09410748767013606) w.p. 0.1955741127348643\n",
       " (5, 0.18590823944682383) => (6, -0.01771701849691092) w.p. 0.1762839248434238\n",
       " (5, 0.18590823944682383) => (6, 0.0732835753048669) w.p. 0.2710647181628392\n",
       " (5, 0.18590823944682383) => (6, 0.18292464388222013) w.p. 0.292901878914405\n",
       " (5, 0.18590823944682383) => (6, 0.3900716260998173) w.p. 0.06417536534446765\n",
       " (5, 0.38751039153335454) => (6, -0.09410748767013606) w.p. 0.2071494042163153\n",
       " (5, 0.38751039153335454) => (6, -0.01771701849691092) w.p. 0.17201344332416743\n",
       " (5, 0.38751039153335454) => (6, 0.0732835753048669) w.p. 0.27482432019553926\n",
       " (5, 0.38751039153335454) => (6, 0.18292464388222013) w.p. 0.2842957531316835\n",
       " (5, 0.38751039153335454) => (6, 0.3900716260998173) w.p. 0.06171707913229453\n",
       " (6, -0.09410748767013606) => (7, 0.14514722669374025) w.p. 0.1442755825734549\n",
       " (6, -0.09410748767013606) => (7, -0.08586529597447631) w.p. 0.3025835866261398\n",
       " (6, -0.09410748767013606) => (7, 0.0639279490644168) w.p. 0.2945288753799392\n",
       " (6, -0.09410748767013606) => (7, 0.18629811491641918) w.p. 0.19138804457953393\n",
       " (6, -0.09410748767013606) => (7, 0.3880687220602303) w.p. 0.06722391084093211\n",
       " (6, -0.01771701849691092) => (7, 0.14514722669374025) w.p. 0.14305845217293275\n",
       " (6, -0.01771701849691092) => (7, -0.08586529597447631) w.p. 0.3004903894932642\n",
       " (6, -0.01771701849691092) => (7, 0.0639279490644168) w.p. 0.29705202637957273\n",
       " (6, -0.01771701849691092) => (7, 0.18629811491641918) w.p. 0.1940138661856716\n",
       " (6, -0.01771701849691092) => (7, 0.3880687220602303) w.p. 0.0653852657685587\n",
       " (6, 0.0732835753048669) => (7, 0.14514722669374025) w.p. 0.14312444966245963\n",
       " (6, 0.0732835753048669) => (7, -0.08586529597447631) w.p. 0.29997064866451423\n",
       " (6, 0.0732835753048669) => (7, 0.0639279490644168) w.p. 0.29608159671265044\n",
       " (6, 0.0732835753048669) => (7, 0.18629811491641918) w.p. 0.1919577340769005\n",
       " (6, 0.0732835753048669) => (7, 0.3880687220602303) w.p. 0.0688655708834752\n",
       " (6, 0.18292464388222013) => (7, 0.14514722669374025) w.p. 0.14245073549819595\n",
       " (6, 0.18292464388222013) => (7, -0.08586529597447631) w.p. 0.3045725784068832\n",
       " (6, 0.18292464388222013) => (7, 0.0639279490644168) w.p. 0.2948584512905912\n",
       " (6, 0.18292464388222013) => (7, 0.18629811491641918) w.p. 0.1933805162364696\n",
       " (6, 0.18292464388222013) => (7, 0.3880687220602303) w.p. 0.06473771856786012\n",
       " (6, 0.3900716260998173) => (7, 0.14514722669374025) w.p. 0.14567479422270538\n",
       " (6, 0.3900716260998173) => (7, -0.08586529597447631) w.p. 0.299891287466998\n",
       " (6, 0.3900716260998173) => (7, 0.0639279490644168) w.p. 0.2978723404255319\n",
       " (6, 0.3900716260998173) => (7, 0.18629811491641918) w.p. 0.1908681472278304\n",
       " (6, 0.3900716260998173) => (7, 0.3880687220602303) w.p. 0.06569343065693431\n",
       " (7, -0.08586529597447631) => (8, 0.27870569639965354) w.p. 0.11735674064259688\n",
       " (7, -0.08586529597447631) => (8, -0.0851968925169127) w.p. 0.29953627028817487\n",
       " (7, -0.08586529597447631) => (8, 0.06599410253777994) w.p. 0.32328585624378936\n",
       " (7, -0.08586529597447631) => (8, 0.16588015871531128) w.p. 0.22987744286187478\n",
       " (7, -0.08586529597447631) => (8, 0.40291182867862135) w.p. 0.029943689963564096\n",
       " (7, 0.0639279490644168) => (8, 0.27870569639965354) w.p. 0.11054749585742789\n",
       " (7, 0.0639279490644168) => (8, -0.0851968925169127) w.p. 0.3029995603801021\n",
       " (7, 0.0639279490644168) => (8, 0.06599410253777994) w.p. 0.3230868080213723\n",
       " (7, 0.0639279490644168) => (8, 0.16588015871531128) w.p. 0.2350951946163471\n",
       " (7, 0.0639279490644168) => (8, 0.40291182867862135) w.p. 0.0282709411247506\n",
       " (7, 0.14514722669374025) => (8, 0.27870569639965354) w.p. 0.11513502198032238\n",
       " (7, 0.14514722669374025) => (8, -0.0851968925169127) w.p. 0.3001186239620403\n",
       " (7, 0.14514722669374025) => (8, 0.06599410253777994) w.p. 0.3242620891773079\n",
       " (7, 0.14514722669374025) => (8, 0.16588015871531128) w.p. 0.23152606238224827\n",
       " (7, 0.14514722669374025) => (8, 0.40291182867862135) w.p. 0.028958202498081082\n",
       " (7, 0.18629811491641918) => (8, 0.27870569639965354) w.p. 0.11321734614385874\n",
       " (7, 0.18629811491641918) => (8, -0.0851968925169127) w.p. 0.3027784990911452\n",
       " (7, 0.18629811491641918) => (8, 0.06599410253777994) w.p. 0.3250064918203064\n",
       " (7, 0.18629811491641918) => (8, 0.16588015871531128) w.p. 0.23188782134510516\n",
       " (7, 0.18629811491641918) => (8, 0.40291182867862135) w.p. 0.027109841599584523\n",
       " (7, 0.3880687220602303) => (8, 0.27870569639965354) w.p. 0.11754095896588006\n",
       " (7, 0.3880687220602303) => (8, -0.0851968925169127) w.p. 0.29971441454982717\n",
       " (7, 0.3880687220602303) => (8, 0.06599410253777994) w.p. 0.3201563204569367\n",
       " (7, 0.3880687220602303) => (8, 0.16588015871531128) w.p. 0.23598376672177965\n",
       " (7, 0.3880687220602303) => (8, 0.40291182867862135) w.p. 0.026604539305576432\n",
       " (8, -0.0851968925169127) => (9, 0.08004950152372507) w.p. 0.1527482740308019\n",
       " (8, -0.0851968925169127) => (9, -0.08616289654037787) w.p. 0.2968335103558152\n",
       " (8, -0.0851968925169127) => (9, 0.061428198662626485) w.p. 0.20432819968135954\n",
       " (8, -0.0851968925169127) => (9, 0.18347435275215307) w.p. 0.2814325544344132\n",
       " (8, -0.0851968925169127) => (9, 0.39205768270005786) w.p. 0.0646574614976102\n",
       " (8, 0.06599410253777994) => (9, 0.08004950152372507) w.p. 0.1547497604253609\n",
       " (8, 0.06599410253777994) => (9, -0.08616289654037787) w.p. 0.297381681041145\n",
       " (8, 0.06599410253777994) => (9, 0.061428198662626485) w.p. 0.2066524467526044\n",
       " (8, 0.06599410253777994) => (9, 0.18347435275215307) w.p. 0.2758354199511577\n",
       " (8, 0.06599410253777994) => (9, 0.39205768270005786) w.p. 0.06538069182973198\n",
       " (8, 0.16588015871531128) => (9, 0.08004950152372507) w.p. 0.15629167562916757\n",
       " (8, 0.16588015871531128) => (9, -0.08616289654037787) w.p. 0.29653688965368896\n",
       " (8, 0.16588015871531128) => (9, 0.061428198662626485) w.p. 0.20236610023661003\n",
       " (8, 0.16588015871531128) => (9, 0.18347435275215307) w.p. 0.2797160679716068\n",
       " (8, 0.16588015871531128) => (9, 0.39205768270005786) w.p. 0.06508926650892666\n",
       " (8, 0.27870569639965354) => (9, 0.08004950152372507) w.p. 0.15406162464985995\n",
       " (8, 0.27870569639965354) => (9, -0.08616289654037787) w.p. 0.29796918767507\n",
       " (8, 0.27870569639965354) => (9, 0.061428198662626485) w.p. 0.20632002801120447\n",
       " (8, 0.27870569639965354) => (9, 0.18347435275215307) w.p. 0.2764355742296919\n",
       " (8, 0.27870569639965354) => (9, 0.39205768270005786) w.p. 0.06521358543417367\n",
       " (8, 0.40291182867862135) => (9, 0.08004950152372507) w.p. 0.16082690960056062\n",
       " (8, 0.40291182867862135) => (9, -0.08616289654037787) w.p. 0.3104414856341976\n",
       " (8, 0.40291182867862135) => (9, 0.061428198662626485) w.p. 0.19656622284512965\n",
       " (8, 0.40291182867862135) => (9, 0.18347435275215307) w.p. 0.2740014015416959\n",
       " (8, 0.40291182867862135) => (9, 0.39205768270005786) w.p. 0.05816398037841626\n",
       " (9, -0.08616289654037787) => (10, -0.1586341417581738) w.p. 0.12489074161231763\n",
       " (9, -0.08616289654037787) => (10, -0.02243720910001371) w.p. 0.24272171048208163\n",
       " (9, -0.08616289654037787) => (10, 0.074052995993058) w.p. 0.2825253815639078\n",
       " (9, -0.08616289654037787) => (10, 0.18270819553723236) w.p. 0.28329859476904456\n",
       " (9, -0.08616289654037787) => (10, 0.3876214772294267) w.p. 0.06656357157264842\n",
       " (9, 0.061428198662626485) => (10, -0.1586341417581738) w.p. 0.1253970581048722\n",
       " (9, 0.061428198662626485) => (10, -0.02243720910001371) w.p. 0.24732443923178418\n",
       " (9, 0.061428198662626485) => (10, 0.074052995993058) w.p. 0.2763035723012266\n",
       " (9, 0.061428198662626485) => (10, 0.18270819553723236) w.p. 0.282314421150369\n",
       " (9, 0.061428198662626485) => (10, 0.3876214772294267) w.p. 0.06866050921174803\n",
       " (9, 0.08004950152372507) => (10, -0.1586341417581738) w.p. 0.12878395860284605\n",
       " (9, 0.08004950152372507) => (10, -0.02243720910001371) w.p. 0.24767141009055627\n",
       " (9, 0.08004950152372507) => (10, 0.074052995993058) w.p. 0.26959896507115133\n",
       " (9, 0.08004950152372507) => (10, 0.18270819553723236) w.p. 0.2855109961190168\n",
       " (9, 0.08004950152372507) => (10, 0.3876214772294267) w.p. 0.0684346701164295\n",
       " (9, 0.18347435275215307) => (10, -0.1586341417581738) w.p. 0.12372503950581813\n",
       " (9, 0.18347435275215307) => (10, -0.02243720910001371) w.p. 0.2455107024852751\n",
       " (9, 0.18347435275215307) => (10, 0.074052995993058) w.p. 0.27761815831058756\n",
       " (9, 0.18347435275215307) => (10, 0.18270819553723236) w.p. 0.2876741847435713\n",
       " (9, 0.18347435275215307) => (10, 0.3876214772294267) w.p. 0.06547191495474788\n",
       " (9, 0.39205768270005786) => (10, -0.1586341417581738) w.p. 0.12301526129181439\n",
       " (9, 0.39205768270005786) => (10, -0.02243720910001371) w.p. 0.2346230923385232\n",
       " (9, 0.39205768270005786) => (10, 0.074052995993058) w.p. 0.280561122244489\n",
       " (9, 0.39205768270005786) => (10, 0.18270819553723236) w.p. 0.2908894712501927\n",
       " (9, 0.39205768270005786) => (10, 0.3876214772294267) w.p. 0.07091105287498073\n",
       " (10, -0.1586341417581738) => (11, 0.276576190007028) w.p. 0.11394326807830603\n",
       " (10, -0.1586341417581738) => (11, -0.08571287213855673) w.p. 0.29564522572912505\n",
       " (10, -0.1586341417581738) => (11, 0.06637711702528645) w.p. 0.3315221733919297\n",
       " (10, -0.1586341417581738) => (11, 0.16569516084652874) w.p. 0.23116260487415102\n",
       " (10, -0.1586341417581738) => (11, 0.4030478691912849) w.p. 0.027726727926488216\n",
       " (10, -0.02243720910001371) => (11, 0.276576190007028) w.p. 0.11872649991826059\n",
       " (10, -0.02243720910001371) => (11, -0.08571287213855673) w.p. 0.3026810528036619\n",
       " (10, -0.02243720910001371) => (11, 0.06637711702528645) w.p. 0.32111329082883766\n",
       " (10, -0.02243720910001371) => (11, 0.16569516084652874) w.p. 0.22960601602092529\n",
       " (10, -0.02243720910001371) => (11, 0.4030478691912849) w.p. 0.027873140428314534\n",
       " (10, 0.074052995993058) => (11, 0.276576190007028) w.p. 0.11401929723502305\n",
       " (10, 0.074052995993058) => (11, -0.08571287213855673) w.p. 0.2977750576036866\n",
       " (10, 0.074052995993058) => (11, 0.06637711702528645) w.p. 0.3259648617511521\n",
       " (10, 0.074052995993058) => (11, 0.16569516084652874) w.p. 0.232286866359447\n",
       " (10, 0.074052995993058) => (11, 0.4030478691912849) w.p. 0.029953917050691243\n",
       " (10, 0.18270819553723236) => (11, 0.276576190007028) w.p. 0.11474662458355252\n",
       " (10, 0.18270819553723236) => (11, -0.08571287213855673) w.p. 0.30103454322286516\n",
       " (10, 0.18270819553723236) => (11, 0.06637711702528645) w.p. 0.324075048220235\n",
       " (10, 0.18270819553723236) => (11, 0.16569516084652874) w.p. 0.2304401192354901\n",
       " (10, 0.18270819553723236) => (11, 0.4030478691912849) w.p. 0.02970366473785727\n",
       " (10, 0.3876214772294267) => (11, 0.276576190007028) w.p. 0.11344038061254832\n",
       " (10, 0.3876214772294267) => (11, -0.08571287213855673) w.p. 0.2977995837050253\n",
       " (10, 0.3876214772294267) => (11, 0.06637711702528645) w.p. 0.3334820101100208\n",
       " (10, 0.3876214772294267) => (11, 0.16569516084652874) w.p. 0.2225691347011597\n",
       " (10, 0.3876214772294267) => (11, 0.4030478691912849) w.p. 0.03270889087124591\n",
       " (11, -0.08571287213855673) => (12, -0.00042061285509916634) w.p. 0.18058336670671474\n",
       " (11, -0.08571287213855673) => (12, -0.09324478009806908) w.p. 0.21665999199038846\n",
       " (11, -0.08571287213855673) => (12, 0.07501437426714454) w.p. 0.24936590575357095\n",
       " (11, -0.08571287213855673) => (12, 0.18319306739622418) w.p. 0.28737818715792285\n",
       " (11, -0.08571287213855673) => (12, 0.3907081941756746) w.p. 0.06601254839140301\n",
       " (11, 0.06637711702528645) => (12, -0.00042061285509916634) w.p. 0.19023475909537857\n",
       " (11, 0.06637711702528645) => (12, -0.09324478009806908) w.p. 0.21177482792527041\n",
       " (11, 0.06637711702528645) => (12, 0.07501437426714454) w.p. 0.24382374631268436\n",
       " (11, 0.06637711702528645) => (12, 0.18319306739622418) w.p. 0.2911442969518191\n",
       " (11, 0.06637711702528645) => (12, 0.3907081941756746) w.p. 0.06302236971484759\n",
       " (11, 0.16569516084652874) => (12, -0.00042061285509916634) w.p. 0.18527202466241152\n",
       " (11, 0.16569516084652874) => (12, -0.09324478009806908) w.p. 0.21696843385002823\n",
       " (11, 0.16569516084652874) => (12, 0.07501437426714454) w.p. 0.24775302852676828\n",
       " (11, 0.16569516084652874) => (12, 0.18319306739622418) w.p. 0.2851374234727107\n",
       " (11, 0.16569516084652874) => (12, 0.3907081941756746) w.p. 0.06486908948808129\n",
       " (11, 0.276576190007028) => (12, -0.00042061285509916634) w.p. 0.17931154079597678\n",
       " (11, 0.276576190007028) => (12, -0.09324478009806908) w.p. 0.21859013266279373\n",
       " (11, 0.276576190007028) => (12, 0.07501437426714454) w.p. 0.2555276164050984\n",
       " (11, 0.276576190007028) => (12, 0.18319306739622418) w.p. 0.28240700598283186\n",
       " (11, 0.276576190007028) => (12, 0.3907081941756746) w.p. 0.06416370415329922\n",
       " (11, 0.4030478691912849) => (12, -0.00042061285509916634) w.p. 0.16632513661202186\n",
       " (11, 0.4030478691912849) => (12, -0.09324478009806908) w.p. 0.22916666666666666\n",
       " (11, 0.4030478691912849) => (12, 0.07501437426714454) w.p. 0.23975409836065573\n",
       " (11, 0.4030478691912849) => (12, 0.18319306739622418) w.p. 0.29610655737704916\n",
       " (11, 0.4030478691912849) => (12, 0.3907081941756746) w.p. 0.06864754098360656\n",
       " (12, -0.09324478009806908) => (13, -0.18990270051787525) w.p. 0.09590692068789691\n",
       " (12, -0.09324478009806908) => (13, -0.028861812068488382) w.p. 0.2677420850136745\n",
       " (12, -0.09324478009806908) => (13, 0.072366788491209) w.p. 0.28540305010893247\n",
       " (12, -0.09324478009806908) => (13, 0.18252479305383496) w.p. 0.28531034163074215\n",
       " (12, -0.09324478009806908) => (13, 0.3867552833635395) w.p. 0.065637602558754\n",
       " (12, -0.00042061285509916634) => (13, -0.18990270051787525) w.p. 0.10236647850629614\n",
       " (12, -0.00042061285509916634) => (13, -0.028861812068488382) w.p. 0.2656317846287451\n",
       " (12, -0.00042061285509916634) => (13, 0.072366788491209) w.p. 0.2784411636995224\n",
       " (12, -0.00042061285509916634) => (13, 0.18252479305383496) w.p. 0.28924229266174556\n",
       " (12, -0.00042061285509916634) => (13, 0.3867552833635395) w.p. 0.06431828050369084\n",
       " (12, 0.07501437426714454) => (13, -0.18990270051787525) w.p. 0.09946692512721104\n",
       " (12, 0.07501437426714454) => (13, -0.028861812068488382) w.p. 0.2566028592197722\n",
       " (12, 0.07501437426714454) => (13, 0.072366788491209) w.p. 0.287416202245376\n",
       " (12, 0.07501437426714454) => (13, 0.18252479305383496) w.p. 0.28604313060334385\n",
       " (12, 0.07501437426714454) => (13, 0.3867552833635395) w.p. 0.0704708828042969\n",
       " (12, 0.18319306739622418) => (13, -0.18990270051787525) w.p. 0.10372867220349585\n",
       " (12, 0.18319306739622418) => (13, -0.028861812068488382) w.p. 0.25975605518295863\n",
       " (12, 0.18319306739622418) => (13, 0.072366788491209) w.p. 0.28223928832053374\n",
       " (12, 0.18319306739622418) => (13, 0.18252479305383496) w.p. 0.2893977829516628\n",
       " (12, 0.18319306739622418) => (13, 0.3867552833635395) w.p. 0.06487820134134899\n",
       " (12, 0.3907081941756746) => (13, -0.18990270051787525) w.p. 0.09854579207920793\n",
       " (12, 0.3907081941756746) => (13, -0.028861812068488382) w.p. 0.26098391089108913\n",
       " (12, 0.3907081941756746) => (13, 0.072366788491209) w.p. 0.29532797029702973\n",
       " (12, 0.3907081941756746) => (13, 0.18252479305383496) w.p. 0.28511757425742573\n",
       " (12, 0.3907081941756746) => (13, 0.3867552833635395) w.p. 0.06002475247524752\n",
       " (13, -0.18990270051787525) => (14, 0.3169563829260549) w.p. 0.08685258964143426\n",
       " (13, -0.18990270051787525) => (14, -0.08514141515357061) w.p. 0.3034860557768924\n",
       " (13, -0.18990270051787525) => (14, 0.06723368561047799) w.p. 0.326394422310757\n",
       " (13, -0.18990270051787525) => (14, 0.17140508973057594) w.p. 0.2613545816733068\n",
       " (13, -0.18990270051787525) => (14, 0.40096595265195434) w.p. 0.021912350597609563\n",
       " (13, -0.028861812068488382) => (14, 0.3169563829260549) w.p. 0.08890246696708165\n",
       " (13, -0.028861812068488382) => (14, -0.08514141515357061) w.p. 0.3014587947758344\n",
       " (13, -0.028861812068488382) => (14, 0.06723368561047799) w.p. 0.3310929504315283\n",
       " (13, -0.028861812068488382) => (14, 0.17140508973057594) w.p. 0.2571603146719621\n",
       " (13, -0.028861812068488382) => (14, 0.40096595265195434) w.p. 0.021385473153593522\n",
       " (13, 0.072366788491209) => (14, 0.3169563829260549) w.p. 0.0899947248109724\n",
       " (13, 0.072366788491209) => (14, -0.08514141515357061) w.p. 0.30283101811148233\n",
       " (13, 0.072366788491209) => (14, 0.06723368561047799) w.p. 0.3266045366625637\n",
       " (13, 0.072366788491209) => (14, 0.17140508973057594) w.p. 0.2588007736943907\n",
       " (13, 0.072366788491209) => (14, 0.40096595265195434) w.p. 0.02176894672059082\n",
       " (13, 0.18252479305383496) => (14, 0.3169563829260549) w.p. 0.0890806597536363\n",
       " (13, 0.18252479305383496) => (14, -0.08514141515357061) w.p. 0.2996033126870346\n",
       " (13, 0.18252479305383496) => (14, 0.06723368561047799) w.p. 0.330085600946482\n",
       " (13, 0.18252479305383496) => (14, 0.17140508973057594) w.p. 0.2608045097084\n",
       " (13, 0.18252479305383496) => (14, 0.40096595265195434) w.p. 0.020425916904447075\n",
       " (13, 0.3867552833635395) => (14, 0.3169563829260549) w.p. 0.09028935009846993\n",
       " (13, 0.3867552833635395) => (14, -0.08514141515357061) w.p. 0.30131798212392064\n",
       " (13, 0.3867552833635395) => (14, 0.06723368561047799) w.p. 0.33176791395243144\n",
       " (13, 0.3867552833635395) => (14, 0.17140508973057594) w.p. 0.2579912134525072\n",
       " (13, 0.3867552833635395) => (14, 0.40096595265195434) w.p. 0.018633540372670808\n",
       " (14, -0.08514141515357061) => (15, -0.16419888278387437) w.p. 0.12513681138270705\n",
       " (14, -0.08514141515357061) => (15, -0.024747523925609645) w.p. 0.24712281516367615\n",
       " (14, -0.08514141515357061) => (15, 0.07187901576395851) w.p. 0.2763755762661272\n",
       " (14, -0.08514141515357061) => (15, 0.18203809726251957) w.p. 0.2875526516533448\n",
       " (14, -0.08514141515357061) => (15, 0.38960355118755813) w.p. 0.0638121455341448\n",
       " (14, 0.06723368561047799) => (15, -0.16419888278387437) w.p. 0.12060164083865087\n",
       " (14, 0.06723368561047799) => (15, -0.024747523925609645) w.p. 0.24275296262534185\n",
       " (14, 0.06723368561047799) => (15, 0.07187901576395851) w.p. 0.28337891218474626\n",
       " (14, 0.06723368561047799) => (15, 0.18203809726251957) w.p. 0.2872986934062595\n",
       " (14, 0.06723368561047799) => (15, 0.38960355118755813) w.p. 0.06596779094500152\n",
       " (14, 0.17140508973057594) => (15, -0.16419888278387437) w.p. 0.12224580358865522\n",
       " (14, 0.17140508973057594) => (15, -0.024747523925609645) w.p. 0.2464981670847\n",
       " (14, 0.17140508973057594) => (15, 0.07187901576395851) w.p. 0.2794906424850473\n",
       " (14, 0.17140508973057594) => (15, 0.18203809726251957) w.p. 0.28774840825776576\n",
       " (14, 0.17140508973057594) => (15, 0.38960355118755813) w.p. 0.06401697858383176\n",
       " (14, 0.3169563829260549) => (15, -0.16419888278387437) w.p. 0.11878855860908581\n",
       " (14, 0.3169563829260549) => (15, -0.024747523925609645) w.p. 0.2517106001121705\n",
       " (14, 0.3169563829260549) => (15, 0.07187901576395851) w.p. 0.27268648345485136\n",
       " (14, 0.3169563829260549) => (15, 0.18203809726251957) w.p. 0.29523275378575436\n",
       " (14, 0.3169563829260549) => (15, 0.38960355118755813) w.p. 0.06158160403813797\n",
       " (14, 0.40096595265195434) => (15, -0.16419888278387437) w.p. 0.12375533428165007\n",
       " (14, 0.40096595265195434) => (15, -0.024747523925609645) w.p. 0.2370791844476055\n",
       " (14, 0.40096595265195434) => (15, 0.07187901576395851) w.p. 0.29208155523944995\n",
       " (14, 0.40096595265195434) => (15, 0.18203809726251957) w.p. 0.28117591275486015\n",
       " (14, 0.40096595265195434) => (15, 0.38960355118755813) w.p. 0.06590801327643434"
      ]
     },
     "metadata": {},
     "output_type": "display_data"
    }
   ],
   "source": [
    "function simulator()\n",
    "    scenarios = rand(Normal(0.0723,0.1410),180)\n",
    "    return scenarios #annualise(scenarios,12)\n",
    "end\n",
    "\n",
    "graph = SDDP.MarkovianGraph(simulator; budget = fill(5,15), scenarios = 100000);\n",
    "graph\n"
   ]
  },
  {
   "cell_type": "code",
   "execution_count": null,
   "metadata": {},
   "outputs": [],
   "source": []
  },
  {
   "cell_type": "code",
   "execution_count": 265,
   "metadata": {},
   "outputs": [
    {
     "data": {
      "text/html": [
       "<table>\n",
       "  <thead>\n",
       "    <tr class = \"header headerLastRow\">\n",
       "      <th class = \"rowLabel\" style = \"font-weight: bold; text-align: right;\"></th>\n",
       "      <th style = \"text-align: right;\">1</th>\n",
       "      <th style = \"text-align: right;\">2</th>\n",
       "      <th style = \"text-align: right;\">3</th>\n",
       "      <th style = \"text-align: right;\">4</th>\n",
       "      <th style = \"text-align: right;\">5</th>\n",
       "      <th style = \"text-align: right;\">6</th>\n",
       "      <th style = \"text-align: right;\">7</th>\n",
       "      <th style = \"text-align: right;\">8</th>\n",
       "      <th style = \"text-align: right;\">9</th>\n",
       "      <th style = \"text-align: right;\">10</th>\n",
       "      <th style = \"text-align: right;\">11</th>\n",
       "      <th style = \"text-align: right;\">12</th>\n",
       "      <th style = \"text-align: right;\">13</th>\n",
       "      <th style = \"text-align: right;\">14</th>\n",
       "      <th style = \"text-align: right;\">15</th>\n",
       "    </tr>\n",
       "  </thead>\n",
       "  <tbody>\n",
       "    <tr>\n",
       "      <td class = \"rowLabel\" style = \"font-weight: bold; text-align: right;\">0.01</td>\n",
       "      <td style = \"text-align: right;\">-0.30169</td>\n",
       "      <td style = \"text-align: right;\">-0.387399</td>\n",
       "      <td style = \"text-align: right;\">-0.383761</td>\n",
       "      <td style = \"text-align: right;\">-0.404182</td>\n",
       "      <td style = \"text-align: right;\">-0.406075</td>\n",
       "      <td style = \"text-align: right;\">-0.426658</td>\n",
       "      <td style = \"text-align: right;\">-0.401838</td>\n",
       "      <td style = \"text-align: right;\">-0.399504</td>\n",
       "      <td style = \"text-align: right;\">-0.411499</td>\n",
       "      <td style = \"text-align: right;\">-0.409716</td>\n",
       "      <td style = \"text-align: right;\">-0.396906</td>\n",
       "      <td style = \"text-align: right;\">-0.396446</td>\n",
       "      <td style = \"text-align: right;\">-0.395199</td>\n",
       "      <td style = \"text-align: right;\">-0.368164</td>\n",
       "      <td style = \"text-align: right;\">-0.417636</td>\n",
       "    </tr>\n",
       "    <tr>\n",
       "      <td class = \"rowLabel\" style = \"font-weight: bold; text-align: right;\">0.025</td>\n",
       "      <td style = \"text-align: right;\">-0.226856</td>\n",
       "      <td style = \"text-align: right;\">-0.311128</td>\n",
       "      <td style = \"text-align: right;\">-0.319812</td>\n",
       "      <td style = \"text-align: right;\">-0.31701</td>\n",
       "      <td style = \"text-align: right;\">-0.319099</td>\n",
       "      <td style = \"text-align: right;\">-0.328977</td>\n",
       "      <td style = \"text-align: right;\">-0.324008</td>\n",
       "      <td style = \"text-align: right;\">-0.311251</td>\n",
       "      <td style = \"text-align: right;\">-0.328935</td>\n",
       "      <td style = \"text-align: right;\">-0.338055</td>\n",
       "      <td style = \"text-align: right;\">-0.322999</td>\n",
       "      <td style = \"text-align: right;\">-0.322901</td>\n",
       "      <td style = \"text-align: right;\">-0.316493</td>\n",
       "      <td style = \"text-align: right;\">-0.313534</td>\n",
       "      <td style = \"text-align: right;\">-0.315448</td>\n",
       "    </tr>\n",
       "    <tr>\n",
       "      <td class = \"rowLabel\" style = \"font-weight: bold; text-align: right;\">0.16</td>\n",
       "      <td style = \"text-align: right;\">-0.021264</td>\n",
       "      <td style = \"text-align: right;\">-0.081918</td>\n",
       "      <td style = \"text-align: right;\">-0.0983851</td>\n",
       "      <td style = \"text-align: right;\">-0.0917451</td>\n",
       "      <td style = \"text-align: right;\">-0.0921757</td>\n",
       "      <td style = \"text-align: right;\">-0.0910887</td>\n",
       "      <td style = \"text-align: right;\">-0.10093</td>\n",
       "      <td style = \"text-align: right;\">-0.096247</td>\n",
       "      <td style = \"text-align: right;\">-0.0941135</td>\n",
       "      <td style = \"text-align: right;\">-0.0920878</td>\n",
       "      <td style = \"text-align: right;\">-0.093863</td>\n",
       "      <td style = \"text-align: right;\">-0.0835281</td>\n",
       "      <td style = \"text-align: right;\">-0.0930795</td>\n",
       "      <td style = \"text-align: right;\">-0.0891107</td>\n",
       "      <td style = \"text-align: right;\">-0.0846083</td>\n",
       "    </tr>\n",
       "    <tr>\n",
       "      <td class = \"rowLabel\" style = \"font-weight: bold; text-align: right;\">0.5</td>\n",
       "      <td style = \"text-align: right;\">0.123114</td>\n",
       "      <td style = \"text-align: right;\">0.101786</td>\n",
       "      <td style = \"text-align: right;\">0.0951179</td>\n",
       "      <td style = \"text-align: right;\">0.0941449</td>\n",
       "      <td style = \"text-align: right;\">0.0889066</td>\n",
       "      <td style = \"text-align: right;\">0.0912375</td>\n",
       "      <td style = \"text-align: right;\">0.0918015</td>\n",
       "      <td style = \"text-align: right;\">0.0959657</td>\n",
       "      <td style = \"text-align: right;\">0.096139</td>\n",
       "      <td style = \"text-align: right;\">0.0945249</td>\n",
       "      <td style = \"text-align: right;\">0.0897298</td>\n",
       "      <td style = \"text-align: right;\">0.0988471</td>\n",
       "      <td style = \"text-align: right;\">0.0971207</td>\n",
       "      <td style = \"text-align: right;\">0.0928985</td>\n",
       "      <td style = \"text-align: right;\">0.0980136</td>\n",
       "    </tr>\n",
       "    <tr>\n",
       "      <td class = \"rowLabel\" style = \"font-weight: bold; text-align: right;\">0.84</td>\n",
       "      <td style = \"text-align: right;\">0.240163</td>\n",
       "      <td style = \"text-align: right;\">0.225465</td>\n",
       "      <td style = \"text-align: right;\">0.219408</td>\n",
       "      <td style = \"text-align: right;\">0.219419</td>\n",
       "      <td style = \"text-align: right;\">0.219569</td>\n",
       "      <td style = \"text-align: right;\">0.223775</td>\n",
       "      <td style = \"text-align: right;\">0.218844</td>\n",
       "      <td style = \"text-align: right;\">0.219147</td>\n",
       "      <td style = \"text-align: right;\">0.221041</td>\n",
       "      <td style = \"text-align: right;\">0.223912</td>\n",
       "      <td style = \"text-align: right;\">0.217527</td>\n",
       "      <td style = \"text-align: right;\">0.224058</td>\n",
       "      <td style = \"text-align: right;\">0.222648</td>\n",
       "      <td style = \"text-align: right;\">0.221369</td>\n",
       "      <td style = \"text-align: right;\">0.223598</td>\n",
       "    </tr>\n",
       "    <tr>\n",
       "      <td class = \"rowLabel\" style = \"font-weight: bold; text-align: right;\">0.975</td>\n",
       "      <td style = \"text-align: right;\">0.346619</td>\n",
       "      <td style = \"text-align: right;\">0.328333</td>\n",
       "      <td style = \"text-align: right;\">0.326052</td>\n",
       "      <td style = \"text-align: right;\">0.32632</td>\n",
       "      <td style = \"text-align: right;\">0.32671</td>\n",
       "      <td style = \"text-align: right;\">0.334363</td>\n",
       "      <td style = \"text-align: right;\">0.331742</td>\n",
       "      <td style = \"text-align: right;\">0.325473</td>\n",
       "      <td style = \"text-align: right;\">0.323553</td>\n",
       "      <td style = \"text-align: right;\">0.335171</td>\n",
       "      <td style = \"text-align: right;\">0.326279</td>\n",
       "      <td style = \"text-align: right;\">0.328186</td>\n",
       "      <td style = \"text-align: right;\">0.326604</td>\n",
       "      <td style = \"text-align: right;\">0.330022</td>\n",
       "      <td style = \"text-align: right;\">0.329272</td>\n",
       "    </tr>\n",
       "    <tr>\n",
       "      <td class = \"rowLabel\" style = \"font-weight: bold; text-align: right;\">0.99</td>\n",
       "      <td style = \"text-align: right;\">0.384615</td>\n",
       "      <td style = \"text-align: right;\">0.372057</td>\n",
       "      <td style = \"text-align: right;\">0.368182</td>\n",
       "      <td style = \"text-align: right;\">0.356912</td>\n",
       "      <td style = \"text-align: right;\">0.359337</td>\n",
       "      <td style = \"text-align: right;\">0.371587</td>\n",
       "      <td style = \"text-align: right;\">0.37133</td>\n",
       "      <td style = \"text-align: right;\">0.367641</td>\n",
       "      <td style = \"text-align: right;\">0.365236</td>\n",
       "      <td style = \"text-align: right;\">0.374297</td>\n",
       "      <td style = \"text-align: right;\">0.372779</td>\n",
       "      <td style = \"text-align: right;\">0.361251</td>\n",
       "      <td style = \"text-align: right;\">0.374546</td>\n",
       "      <td style = \"text-align: right;\">0.375842</td>\n",
       "      <td style = \"text-align: right;\">0.374351</td>\n",
       "    </tr>\n",
       "  </tbody>\n",
       "</table>\n"
      ]
     },
     "metadata": {},
     "output_type": "display_data"
    }
   ],
   "source": [
    "years = 15\n",
    "n_steps = years*12\n",
    "n_scenarios = 5000\n",
    "\n",
    "hmm = HMM([1.,0],[0.95 0.05; 0.124529 0.875471],[Normal(0.0134,0.0277),Normal(-0.0134,0.0515)])\n",
    "simulations = zeros(n_scenarios,n_steps)\n",
    "for s in 1:n_scenarios\n",
    "    simulations[s,:] .= rand(hmm,n_steps)[2]\n",
    "end\n",
    "\n",
    "simulations_ann = annualise(simulations,12)\n",
    "\n",
    "print_percentiles(simulations_ann,[0.01, 0.025,0.16,0.5,0.84,0.975, 0.99])"
   ]
  },
  {
   "cell_type": "code",
   "execution_count": 68,
   "metadata": {},
   "outputs": [
    {
     "data": {
      "text/html": [
       "<table>\n",
       "  <thead>\n",
       "    <tr class = \"header headerLastRow\">\n",
       "      <th class = \"rowLabel\" style = \"font-weight: bold; text-align: right;\"></th>\n",
       "      <th style = \"text-align: right;\">1</th>\n",
       "      <th style = \"text-align: right;\">2</th>\n",
       "      <th style = \"text-align: right;\">3</th>\n",
       "      <th style = \"text-align: right;\">4</th>\n",
       "      <th style = \"text-align: right;\">5</th>\n",
       "      <th style = \"text-align: right;\">6</th>\n",
       "      <th style = \"text-align: right;\">7</th>\n",
       "      <th style = \"text-align: right;\">8</th>\n",
       "      <th style = \"text-align: right;\">9</th>\n",
       "      <th style = \"text-align: right;\">10</th>\n",
       "    </tr>\n",
       "  </thead>\n",
       "  <tbody>\n",
       "    <tr>\n",
       "      <td class = \"rowLabel\" style = \"font-weight: bold; text-align: right;\">0.05</td>\n",
       "      <td style = \"text-align: right;\">-0.149625</td>\n",
       "      <td style = \"text-align: right;\">-0.236768</td>\n",
       "      <td style = \"text-align: right;\">-0.244632</td>\n",
       "      <td style = \"text-align: right;\">-0.240539</td>\n",
       "      <td style = \"text-align: right;\">-0.242089</td>\n",
       "      <td style = \"text-align: right;\">-0.245085</td>\n",
       "      <td style = \"text-align: right;\">-0.24263</td>\n",
       "      <td style = \"text-align: right;\">-0.245398</td>\n",
       "      <td style = \"text-align: right;\">-0.243373</td>\n",
       "      <td style = \"text-align: right;\">-0.244619</td>\n",
       "    </tr>\n",
       "    <tr>\n",
       "      <td class = \"rowLabel\" style = \"font-weight: bold; text-align: right;\">0.25</td>\n",
       "      <td style = \"text-align: right;\">0.034168</td>\n",
       "      <td style = \"text-align: right;\">-0.0138537</td>\n",
       "      <td style = \"text-align: right;\">-0.0206621</td>\n",
       "      <td style = \"text-align: right;\">-0.0196271</td>\n",
       "      <td style = \"text-align: right;\">-0.0199486</td>\n",
       "      <td style = \"text-align: right;\">-0.0205351</td>\n",
       "      <td style = \"text-align: right;\">-0.0210083</td>\n",
       "      <td style = \"text-align: right;\">-0.0208272</td>\n",
       "      <td style = \"text-align: right;\">-0.0207551</td>\n",
       "      <td style = \"text-align: right;\">-0.021701</td>\n",
       "    </tr>\n",
       "    <tr>\n",
       "      <td class = \"rowLabel\" style = \"font-weight: bold; text-align: right;\">0.5</td>\n",
       "      <td style = \"text-align: right;\">0.124164</td>\n",
       "      <td style = \"text-align: right;\">0.098596</td>\n",
       "      <td style = \"text-align: right;\">0.0948557</td>\n",
       "      <td style = \"text-align: right;\">0.0943462</td>\n",
       "      <td style = \"text-align: right;\">0.0944443</td>\n",
       "      <td style = \"text-align: right;\">0.0948262</td>\n",
       "      <td style = \"text-align: right;\">0.0945716</td>\n",
       "      <td style = \"text-align: right;\">0.0948175</td>\n",
       "      <td style = \"text-align: right;\">0.0943077</td>\n",
       "      <td style = \"text-align: right;\">0.0943461</td>\n",
       "    </tr>\n",
       "    <tr>\n",
       "      <td class = \"rowLabel\" style = \"font-weight: bold; text-align: right;\">0.75</td>\n",
       "      <td style = \"text-align: right;\">0.201679</td>\n",
       "      <td style = \"text-align: right;\">0.185667</td>\n",
       "      <td style = \"text-align: right;\">0.182986</td>\n",
       "      <td style = \"text-align: right;\">0.183918</td>\n",
       "      <td style = \"text-align: right;\">0.182613</td>\n",
       "      <td style = \"text-align: right;\">0.182346</td>\n",
       "      <td style = \"text-align: right;\">0.183267</td>\n",
       "      <td style = \"text-align: right;\">0.183709</td>\n",
       "      <td style = \"text-align: right;\">0.183133</td>\n",
       "      <td style = \"text-align: right;\">0.183895</td>\n",
       "    </tr>\n",
       "    <tr>\n",
       "      <td class = \"rowLabel\" style = \"font-weight: bold; text-align: right;\">0.95</td>\n",
       "      <td style = \"text-align: right;\">0.305521</td>\n",
       "      <td style = \"text-align: right;\">0.294477</td>\n",
       "      <td style = \"text-align: right;\">0.29257</td>\n",
       "      <td style = \"text-align: right;\">0.295271</td>\n",
       "      <td style = \"text-align: right;\">0.293621</td>\n",
       "      <td style = \"text-align: right;\">0.293042</td>\n",
       "      <td style = \"text-align: right;\">0.295281</td>\n",
       "      <td style = \"text-align: right;\">0.294042</td>\n",
       "      <td style = \"text-align: right;\">0.294585</td>\n",
       "      <td style = \"text-align: right;\">0.293812</td>\n",
       "    </tr>\n",
       "  </tbody>\n",
       "</table>\n"
      ]
     },
     "metadata": {},
     "output_type": "display_data"
    }
   ],
   "source": [
    "years = 10\n",
    "n_steps = years*12\n",
    "n_scenarios = 100000\n",
    "\n",
    "hmm = HMM([1.,0],transition_matrix(hmm_est_98_PLN),obs_distributions(hmm_est_98_PLN))\n",
    "simulations = zeros(n_scenarios,n_steps)\n",
    "for s in 1:n_scenarios\n",
    "    simulations[s,:] .= rand(hmm,n_steps)[2]\n",
    "end\n",
    "\n",
    "simulations_ann = annualise(simulations,12)\n",
    "\n",
    "print_percentiles(simulations_ann,[0.05, 0.25, 0.5, 0.75, 0.95])"
   ]
  },
  {
   "cell_type": "code",
   "execution_count": 69,
   "metadata": {},
   "outputs": [
    {
     "data": {
      "text/plain": [
       "Dict{Symbol, Float64} with 8 entries:\n",
       "  :max      => 0.192184\n",
       "  :std      => 0.162945\n",
       "  :mean     => 0.0694819\n",
       "  :var      => 0.0265512\n",
       "  :med      => 0.0944443\n",
       "  :kurtosis => 0.768566\n",
       "  :skew     => -0.779826\n",
       "  :min      => -0.195949"
      ]
     },
     "metadata": {},
     "output_type": "display_data"
    }
   ],
   "source": [
    "t = 5\n",
    "hmm_moments = Dict(\n",
    "    :mean => mean(simulations_ann[:,t]),\n",
    "    :med => median(simulations_ann[:,t]),\n",
    "    :min => minimum(simulations[:,t]),\n",
    "    :max => maximum(simulations[:,t]),\n",
    "    :std => std(simulations_ann[:,t]),\n",
    "    :var => var(simulations_ann[:,t]),\n",
    "    :skew => skewness(simulations_ann[:,t]),\n",
    "    :kurtosis => kurtosis(simulations_ann[:,t])  \n",
    ")"
   ]
  },
  {
   "cell_type": "code",
   "execution_count": 186,
   "metadata": {},
   "outputs": [
    {
     "data": {
      "text/plain": [
       "15-element Vector{Float64}:\n",
       "  0.09788702939466727\n",
       "  0.15787577600980918\n",
       "  0.2078383906331125\n",
       " -0.16220031018779318\n",
       "  0.03905142207514029\n",
       " -0.04884145200173236\n",
       " -0.04602718777105578\n",
       " -0.03778519339876563\n",
       "  0.049187898474644616\n",
       " -0.2592765686296704\n",
       " -0.406479248684295\n",
       " -0.30528341889505894\n",
       "  0.13939850726499226\n",
       "  0.018444918158982998\n",
       "  0.2673751426746461"
      ]
     },
     "metadata": {},
     "output_type": "display_data"
    }
   ],
   "source": [
    "function regime_sampler_ann()    \n",
    "    hmm = HMM([1,0.],[0.95 0.05; 0.124529 0.875471],[Normal(0.0134,0.0277),Normal(-0.0134,0.0515)])    \n",
    "    return annualise(rand(hmm,15*12)[2], 12)\n",
    "end\n",
    "\n",
    "regime_sampler_ann()\n"
   ]
  },
  {
   "cell_type": "code",
   "execution_count": 187,
   "metadata": {},
   "outputs": [
    {
     "data": {
      "text/plain": [
       "Root\n",
       " (0, 0.0)\n",
       "Nodes\n",
       " (1, -0.01104916529947708)\n",
       " (1, 0.1412265008203048)\n",
       " (1, 0.3605825396266169)\n",
       " (2, -0.06465236845417043)\n",
       " (2, 0.11821037646388369)\n",
       " (2, 0.36065853576961016)\n",
       " (3, -0.0507792645523982)\n",
       " (3, 0.12011386918368262)\n",
       " (3, 0.3578894835235927)\n",
       " (4, -0.0445726371633153)\n",
       " (4, 0.13180512672241596)\n",
       " (4, 0.3538950956923958)\n",
       " (5, -0.0993064572484079)\n",
       " (5, 0.10921362715037496)\n",
       " (5, 0.3536837128002545)\n",
       " (6, -0.18975536676115737)\n",
       " (6, 0.1007377755250875)\n",
       " (6, 0.35596097195272014)\n",
       " (7, -0.05463733824221738)\n",
       " (7, 0.11353951130168959)\n",
       " (7, 0.3569025021132474)\n",
       " (8, -0.06872563285706823)\n",
       " (8, 0.11225556191961773)\n",
       " (8, 0.35534232045778014)\n",
       " (9, -0.03746035059685476)\n",
       " (9, 0.20244694500856966)\n",
       " (9, 0.3660907112035794)\n",
       " (10, -0.036679037261724265)\n",
       " (10, 0.23003401795713072)\n",
       " (10, 0.3763858400511046)\n",
       " (11, -0.2705820841309571)\n",
       " (11, 0.08157253470837597)\n",
       " (11, 0.34865802953797936)\n",
       " (12, -0.14455601508599325)\n",
       " (12, 0.10379230927354642)\n",
       " (12, 0.3547760246146654)\n",
       " (13, -0.04098939248940385)\n",
       " (13, 0.1883184211072073)\n",
       " (13, 0.36484557502978604)\n",
       " (14, -0.05296319235339386)\n",
       " (14, 0.11809110627856383)\n",
       " (14, 0.36146339238325675)\n",
       " (15, -0.04840529887439793)\n",
       " (15, 0.12172720590214131)\n",
       " (15, 0.36158016192906134)\n",
       "Arcs\n",
       " (0, 0.0) => (1, -0.01104916529947708) w.p. 0.3417\n",
       " (0, 0.0) => (1, 0.1412265008203048) w.p. 0.5319\n",
       " (0, 0.0) => (1, 0.3605825396266169) w.p. 0.1264\n",
       " (1, -0.01104916529947708) => (2, -0.06465236845417043) w.p. 0.40913081650570676\n",
       " (1, -0.01104916529947708) => (2, 0.11821037646388369) w.p. 0.4659057652911911\n",
       " (1, -0.01104916529947708) => (2, 0.36065853576961016) w.p. 0.12496341820310214\n",
       " (1, 0.1412265008203048) => (2, -0.06465236845417043) w.p. 0.3190449332581312\n",
       " (1, 0.1412265008203048) => (2, 0.11821037646388369) w.p. 0.5405151344237639\n",
       " (1, 0.1412265008203048) => (2, 0.36065853576961016) w.p. 0.1404399323181049\n",
       " (1, 0.3605825396266169) => (2, -0.06465236845417043) w.p. 0.31091772151898733\n",
       " (1, 0.3605825396266169) => (2, 0.11821037646388369) w.p. 0.5498417721518988\n",
       " (1, 0.3605825396266169) => (2, 0.36065853576961016) w.p. 0.13924050632911392\n",
       " (2, -0.06465236845417043) => (3, 0.12011386918368262) w.p. 0.4248853211009174\n",
       " (2, -0.06465236845417043) => (3, -0.0507792645523982) w.p. 0.46530963302752293\n",
       " (2, -0.06465236845417043) => (3, 0.3578894835235927) w.p. 0.10980504587155963\n",
       " (2, 0.11821037646388369) => (3, 0.12011386918368262) w.p. 0.48392096086788067\n",
       " (2, 0.11821037646388369) => (3, -0.0507792645523982) w.p. 0.3781480046493607\n",
       " (2, 0.11821037646388369) => (3, 0.3578894835235927) w.p. 0.13793103448275862\n",
       " (2, 0.36065853576961016) => (3, 0.12011386918368262) w.p. 0.48444444444444446\n",
       " (2, 0.36065853576961016) => (3, -0.0507792645523982) w.p. 0.35555555555555557\n",
       " (2, 0.36065853576961016) => (3, 0.3578894835235927) w.p. 0.16\n",
       " (3, -0.0507792645523982) => (4, 0.13180512672241596) w.p. 0.41134401972872997\n",
       " (3, -0.0507792645523982) => (4, -0.0445726371633153) w.p. 0.4919852034525277\n",
       " (3, -0.0507792645523982) => (4, 0.3538950956923958) w.p. 0.0966707768187423\n",
       " (3, 0.12011386918368262) => (4, 0.13180512672241596) w.p. 0.48921018558480794\n",
       " (3, 0.12011386918368262) => (4, -0.0445726371633153) w.p. 0.3826068191627104\n",
       " (3, 0.12011386918368262) => (4, 0.3538950956923958) w.p. 0.12818299525248167\n",
       " (3, 0.3578894835235927) => (4, 0.13180512672241596) w.p. 0.5049580472921434\n",
       " (3, 0.3578894835235927) => (4, -0.0445726371633153) w.p. 0.36460717009916094\n",
       " (3, 0.3578894835235927) => (4, 0.3538950956923958) w.p. 0.13043478260869565\n",
       " (4, -0.0445726371633153) => (5, -0.0993064572484079) w.p. 0.3709373528026378\n",
       " (4, -0.0445726371633153) => (5, 0.10921362715037496) w.p. 0.5007065473386717\n",
       " (4, -0.0445726371633153) => (5, 0.3536837128002545) w.p. 0.12835609985869054\n",
       " (4, 0.13180512672241596) => (5, -0.0993064572484079) w.p. 0.2693060691755493\n",
       " (4, 0.13180512672241596) => (5, 0.10921362715037496) w.p. 0.5799434413748097\n",
       " (4, 0.13180512672241596) => (5, 0.3536837128002545) w.p. 0.15075048944964106\n",
       " (4, 0.3538950956923958) => (5, -0.0993064572484079) w.p. 0.2541054451166811\n",
       " (4, 0.3538950956923958) => (5, 0.10921362715037496) w.p. 0.5782195332757131\n",
       " (4, 0.3538950956923958) => (5, 0.3536837128002545) w.p. 0.1676750216076059\n",
       " (5, -0.0993064572484079) => (6, -0.18975536676115737) w.p. 0.27132281943997427\n",
       " (5, -0.0993064572484079) => (6, 0.1007377755250875) w.p. 0.6034760218860638\n",
       " (5, -0.0993064572484079) => (6, 0.35596097195272014) w.p. 0.12520115867396203\n",
       " (5, 0.10921362715037496) => (6, -0.18975536676115737) w.p. 0.18714521149972532\n",
       " (5, 0.10921362715037496) => (6, 0.1007377755250875) w.p. 0.6577549899285845\n",
       " (5, 0.10921362715037496) => (6, 0.35596097195272014) w.p. 0.15509979857169018\n",
       " (5, 0.3536837128002545) => (6, -0.18975536676115737) w.p. 0.18156424581005587\n",
       " (5, 0.3536837128002545) => (6, 0.1007377755250875) w.p. 0.6675977653631285\n",
       " (5, 0.3536837128002545) => (6, 0.35596097195272014) w.p. 0.15083798882681565\n",
       " (6, -0.18975536676115737) => (7, -0.05463733824221738) w.p. 0.4583529411764706\n",
       " (6, -0.18975536676115737) => (7, 0.11353951130168959) w.p. 0.43576470588235294\n",
       " (6, -0.18975536676115737) => (7, 0.3569025021132474) w.p. 0.10588235294117647\n",
       " (6, 0.1007377755250875) => (7, -0.05463733824221738) w.p. 0.36556126420675694\n",
       " (6, 0.1007377755250875) => (7, 0.11353951130168959) w.p. 0.49291608282733923\n",
       " (6, 0.1007377755250875) => (7, 0.3569025021132474) w.p. 0.14152265296590377\n",
       " (6, 0.35596097195272014) => (7, -0.05463733824221738) w.p. 0.33539944903581265\n",
       " (6, 0.35596097195272014) => (7, 0.11353951130168959) w.p. 0.5027548209366391\n",
       " (6, 0.35596097195272014) => (7, 0.3569025021132474) w.p. 0.1618457300275482\n",
       " (7, -0.05463733824221738) => (8, -0.06872563285706823) w.p. 0.41323181937516407\n",
       " (7, -0.05463733824221738) => (8, 0.11225556191961773) w.p. 0.4720399054870045\n",
       " (7, -0.05463733824221738) => (8, 0.35534232045778014) w.p. 0.11472827513783145\n",
       " (7, 0.11353951130168959) => (8, -0.06872563285706823) w.p. 0.32351721277478224\n",
       " (7, 0.11353951130168959) => (8, 0.11225556191961773) w.p. 0.5367067606802157\n",
       " (7, 0.11353951130168959) => (8, 0.35534232045778014) w.p. 0.13977602654500207\n",
       " (7, 0.3569025021132474) => (8, -0.06872563285706823) w.p. 0.30679327976625276\n",
       " (7, 0.3569025021132474) => (8, 0.11225556191961773) w.p. 0.5281227173119065\n",
       " (7, 0.3569025021132474) => (8, 0.35534232045778014) w.p. 0.16508400292184075\n",
       " (8, -0.06872563285706823) => (9, 0.20244694500856966) w.p. 0.3610016882386044\n",
       " (8, -0.06872563285706823) => (9, -0.03746035059685476) w.p. 0.5880697805289814\n",
       " (8, -0.06872563285706823) => (9, 0.3660907112035794) w.p. 0.050928531232414184\n",
       " (8, 0.11225556191961773) => (9, 0.20244694500856966) w.p. 0.4308083773732629\n",
       " (8, 0.11225556191961773) => (9, -0.03746035059685476) w.p. 0.5094930514777843\n",
       " (8, 0.11225556191961773) => (9, 0.3660907112035794) w.p. 0.05969857114895283\n",
       " (8, 0.35534232045778014) => (9, 0.20244694500856966) w.p. 0.43829468960359014\n",
       " (8, 0.35534232045778014) => (9, -0.03746035059685476) w.p. 0.49588631264023936\n",
       " (8, 0.35534232045778014) => (9, 0.3660907112035794) w.p. 0.06581899775617053\n",
       " (9, -0.03746035059685476) => (10, 0.23003401795713072) w.p. 0.3515683345780433\n",
       " (9, -0.03746035059685476) => (10, -0.036679037261724265) w.p. 0.6092233009708737\n",
       " (9, -0.03746035059685476) => (10, 0.3763858400511046) w.p. 0.039208364451082896\n",
       " (9, 0.20244694500856966) => (10, 0.23003401795713072) w.p. 0.42899262899262897\n",
       " (9, 0.20244694500856966) => (10, -0.036679037261724265) w.p. 0.528009828009828\n",
       " (9, 0.20244694500856966) => (10, 0.3763858400511046) w.p. 0.042997542997543\n",
       " (9, 0.3660907112035794) => (10, 0.23003401795713072) w.p. 0.4076655052264808\n",
       " (9, 0.3660907112035794) => (10, -0.036679037261724265) w.p. 0.5383275261324042\n",
       " (9, 0.3660907112035794) => (10, 0.3763858400511046) w.p. 0.05400696864111498\n",
       " (10, -0.036679037261724265) => (11, -0.2705820841309571) w.p. 0.18178640097884985\n",
       " (10, -0.036679037261724265) => (11, 0.08157253470837597) w.p. 0.6713861213074638\n",
       " (10, -0.036679037261724265) => (11, 0.34865802953797936) w.p. 0.14682747771368643\n",
       " (10, 0.23003401795713072) => (11, -0.2705820841309571) w.p. 0.12477349210458193\n",
       " (10, 0.23003401795713072) => (11, 0.08157253470837597) w.p. 0.7035982397100699\n",
       " (10, 0.23003401795713072) => (11, 0.34865802953797936) w.p. 0.17162826818534818\n",
       " (10, 0.3763858400511046) => (11, -0.2705820841309571) w.p. 0.1346153846153846\n",
       " (10, 0.3763858400511046) => (11, 0.08157253470837597) w.p. 0.6947115384615384\n",
       " (10, 0.3763858400511046) => (11, 0.34865802953797936) w.p. 0.17067307692307693\n",
       " (11, -0.2705820841309571) => (12, -0.14455601508599325) w.p. 0.34664131812420784\n",
       " (11, -0.2705820841309571) => (12, 0.10379230927354642) w.p. 0.5462610899873257\n",
       " (11, -0.2705820841309571) => (12, 0.3547760246146654) w.p. 0.10709759188846642\n",
       " (11, 0.08157253470837597) => (12, -0.14455601508599325) w.p. 0.2486857476635514\n",
       " (11, 0.08157253470837597) => (12, 0.10379230927354642) w.p. 0.6086448598130841\n",
       " (11, 0.08157253470837597) => (12, 0.3547760246146654) w.p. 0.1426693925233645\n",
       " (11, 0.34865802953797936) => (12, -0.14455601508599325) w.p. 0.2121982210927573\n",
       " (11, 0.34865802953797936) => (12, 0.10379230927354642) w.p. 0.625158831003812\n",
       " (11, 0.34865802953797936) => (12, 0.3547760246146654) w.p. 0.16264294790343076\n",
       " (12, -0.14455601508599325) => (13, 0.1883184211072073) w.p. 0.36958204334365324\n",
       " (12, -0.14455601508599325) => (13, -0.04098939248940385) w.p. 0.5863003095975232\n",
       " (12, -0.14455601508599325) => (13, 0.36484557502978604) w.p. 0.04411764705882353\n",
       " (12, 0.10379230927354642) => (13, 0.1883184211072073) w.p. 0.4446291985367476\n",
       " (12, 0.10379230927354642) => (13, -0.04098939248940385) w.p. 0.48536747588959095\n",
       " (12, 0.10379230927354642) => (13, 0.36484557502978604) w.p. 0.07000332557366146\n",
       " (12, 0.3547760246146654) => (13, 0.1883184211072073) w.p. 0.492867332382311\n",
       " (12, 0.3547760246146654) => (13, -0.04098939248940385) w.p. 0.44365192582025675\n",
       " (12, 0.3547760246146654) => (13, 0.36484557502978604) w.p. 0.06348074179743224\n",
       " (13, -0.04098939248940385) => (14, -0.05296319235339386) w.p. 0.4143591772151899\n",
       " (13, -0.04098939248940385) => (14, 0.11809110627856383) w.p. 0.466376582278481\n",
       " (13, -0.04098939248940385) => (14, 0.36146339238325675) w.p. 0.11926424050632911\n",
       " (13, 0.1883184211072073) => (14, -0.05296319235339386) w.p. 0.3300925925925926\n",
       " (13, 0.1883184211072073) => (14, 0.11809110627856383) w.p. 0.5226851851851851\n",
       " (13, 0.1883184211072073) => (14, 0.36146339238325675) w.p. 0.14722222222222223\n",
       " (13, 0.36484557502978604) => (14, -0.05296319235339386) w.p. 0.3173076923076923\n",
       " (13, 0.36484557502978604) => (14, 0.11809110627856383) w.p. 0.5528846153846154\n",
       " (13, 0.36484557502978604) => (14, 0.36146339238325675) w.p. 0.12980769230769232\n",
       " (14, -0.05296319235339386) => (15, 0.12172720590214131) w.p. 0.42511427803172896\n",
       " (14, -0.05296319235339386) => (15, -0.04840529887439793) w.p. 0.4624899166442592\n",
       " (14, -0.05296319235339386) => (15, 0.36158016192906134) w.p. 0.11239580532401183\n",
       " (14, 0.11809110627856383) => (15, 0.12172720590214131) w.p. 0.5011086474501109\n",
       " (14, 0.11809110627856383) => (15, -0.04840529887439793) w.p. 0.37109453739165493\n",
       " (14, 0.11809110627856383) => (15, 0.36158016192906134) w.p. 0.12779681515823424\n",
       " (14, 0.36146339238325675) => (15, 0.12172720590214131) w.p. 0.521969696969697\n",
       " (14, 0.36146339238325675) => (15, -0.04840529887439793) w.p. 0.3431818181818182\n",
       " (14, 0.36146339238325675) => (15, 0.36158016192906134) w.p. 0.13484848484848486"
      ]
     },
     "metadata": {},
     "output_type": "display_data"
    }
   ],
   "source": [
    "graph = SDDP.MarkovianGraph(regime_sampler_ann; budget = fill(3,15), scenarios = 10_000);\n",
    "graph"
   ]
  },
  {
   "cell_type": "code",
   "execution_count": 264,
   "metadata": {},
   "outputs": [
    {
     "ename": "UndefVarError",
     "evalue": "UndefVarError: `regime_sampler` not defined",
     "output_type": "error",
     "traceback": [
      "UndefVarError: `regime_sampler` not defined\n",
      "\n",
      "Stacktrace:\n",
      " [1] top-level scope\n",
      "   @ c:\\Users\\matsz\\programowanie\\Optymalizacja_portfela\\julia_msp\\acwi_hmm.ipynb:1"
     ]
    }
   ],
   "source": [
    "lattice_approximation(fill(4,15),regime_sampler,100000,2,1);"
   ]
  },
  {
   "cell_type": "code",
   "execution_count": 189,
   "metadata": {},
   "outputs": [
    {
     "data": {
      "text/plain": [
       "8-element LinRange{Float64, Int64}:\n",
       " -3.5, -2.5, -1.5, -0.5, 0.5, 1.5, 2.5, 3.5"
      ]
     },
     "metadata": {},
     "output_type": "display_data"
    }
   ],
   "source": [
    "Base.LinRange(-3.5,3.5,8)"
   ]
  },
  {
   "cell_type": "code",
   "execution_count": 223,
   "metadata": {},
   "outputs": [
    {
     "name": "stdout",
     "output_type": "stream",
     "text": [
      "mean 0.06978414756872021, std: 0.13188218245803085\n"
     ]
    },
    {
     "data": {
      "text/plain": [
       "Hidden Markov Model with:\n",
       " - initialization: [1.0, 4.1981994281931224e-32]\n",
       " - transition matrix: [0.9503313581736027 0.04966864182639733; 0.12452259850839971 0.8754774014916002]\n",
       " - observation distributions: [Normal{Float64}(μ=0.013408215989160347, σ=0.027652782814984584), Normal{Float64}(μ=-0.013385281661936132, σ=0.05148060200521631)]"
      ]
     },
     "metadata": {},
     "output_type": "display_data"
    }
   ],
   "source": [
    "acwi_pln_98 = identity.(values(from(returns[:ACWI_Net_PLN ],Date(1998,01,01))))\n",
    "println(\"mean $(mean(acwi_pln_98)*12), std: $(std(acwi_pln_98)*12^0.5)\")\n",
    "hmm_est, loglikehood = train_hmm(acwi_pln_98,2)\n",
    "hmm_est"
   ]
  },
  {
   "cell_type": "code",
   "execution_count": 224,
   "metadata": {},
   "outputs": [
    {
     "data": {
      "text/html": [
       "<div><div style = \"float: left;\"><span>1×8 DataFrame</span></div><div style = \"clear: both;\"></div></div><div class = \"data-frame\" style = \"overflow-x: scroll;\"><table class = \"data-frame\" style = \"margin-bottom: 6px;\"><thead><tr class = \"header\"><th class = \"rowNumber\" style = \"font-weight: bold; text-align: right;\">Row</th><th style = \"text-align: left;\">loglikehood</th><th style = \"text-align: left;\">mu1</th><th style = \"text-align: left;\">mu2</th><th style = \"text-align: left;\">p11</th><th style = \"text-align: left;\">p21</th><th style = \"text-align: left;\">prob1</th><th style = \"text-align: left;\">sig1</th><th style = \"text-align: left;\">sig2</th></tr><tr class = \"subheader headerLastRow\"><th class = \"rowNumber\" style = \"font-weight: bold; text-align: right;\"></th><th title = \"Float64\" style = \"text-align: left;\">Float64</th><th title = \"Float64\" style = \"text-align: left;\">Float64</th><th title = \"Float64\" style = \"text-align: left;\">Float64</th><th title = \"Float64\" style = \"text-align: left;\">Float64</th><th title = \"Float64\" style = \"text-align: left;\">Float64</th><th title = \"Float64\" style = \"text-align: left;\">Float64</th><th title = \"Float64\" style = \"text-align: left;\">Float64</th><th title = \"Float64\" style = \"text-align: left;\">Float64</th></tr></thead><tbody><tr><td class = \"rowNumber\" style = \"font-weight: bold; text-align: right;\">1</td><td style = \"text-align: right;\">603.335</td><td style = \"text-align: right;\">0.160899</td><td style = \"text-align: right;\">-0.160623</td><td style = \"text-align: right;\">0.950331</td><td style = \"text-align: right;\">0.124523</td><td style = \"text-align: right;\">0.714861</td><td style = \"text-align: right;\">0.095792</td><td style = \"text-align: right;\">0.178334</td></tr></tbody></table></div>"
      ],
      "text/latex": [
       "\\begin{tabular}{r|cccccccc}\n",
       "\t& loglikehood & mu1 & mu2 & p11 & p21 & prob1 & sig1 & sig2\\\\\n",
       "\t\\hline\n",
       "\t& Float64 & Float64 & Float64 & Float64 & Float64 & Float64 & Float64 & Float64\\\\\n",
       "\t\\hline\n",
       "\t1 & 603.335 & 0.160899 & -0.160623 & 0.950331 & 0.124523 & 0.714861 & 0.095792 & 0.178334 \\\\\n",
       "\\end{tabular}\n"
      ],
      "text/plain": [
       "\u001b[1m1×8 DataFrame\u001b[0m\n",
       "\u001b[1m Row \u001b[0m│\u001b[1m loglikehood \u001b[0m\u001b[1m mu1      \u001b[0m\u001b[1m mu2       \u001b[0m\u001b[1m p11      \u001b[0m\u001b[1m p21      \u001b[0m\u001b[1m prob1    \u001b[0m\u001b[1m sig1   \u001b[0m ⋯\n",
       "     │\u001b[90m Float64     \u001b[0m\u001b[90m Float64  \u001b[0m\u001b[90m Float64   \u001b[0m\u001b[90m Float64  \u001b[0m\u001b[90m Float64  \u001b[0m\u001b[90m Float64  \u001b[0m\u001b[90m Float64\u001b[0m ⋯\n",
       "─────┼──────────────────────────────────────────────────────────────────────────\n",
       "   1 │     603.335  0.160899  -0.160623  0.950331  0.124523  0.714861  0.09579 ⋯\n",
       "\u001b[36m                                                               2 columns omitted\u001b[0m"
      ]
     },
     "metadata": {},
     "output_type": "display_data"
    }
   ],
   "source": [
    "regime_summary(loglikehood,hmm_est,12)"
   ]
  },
  {
   "cell_type": "code",
   "execution_count": 225,
   "metadata": {},
   "outputs": [
    {
     "data": {
      "text/plain": [
       "Hidden Markov Model with:\n",
       " - initialization: [1.0, 0.0]\n",
       " - transition matrix: [0.95 0.05; 0.12 0.88]\n",
       " - observation distributions: [Normal{Float64}(μ=0.0134, σ=0.0277), Normal{Float64}(μ=-0.0134, σ=0.0515)]"
      ]
     },
     "metadata": {},
     "output_type": "display_data"
    }
   ],
   "source": [
    "init = [1., 0]\n",
    "trans = [0.95 0.05; 0.12 0.88]\n",
    "dists = [Normal(0.0134, 0.0277), Normal(-0.0134, 0.0515)]\n",
    "hmm = HMM(init, trans, dists)"
   ]
  },
  {
   "cell_type": "code",
   "execution_count": 258,
   "metadata": {},
   "outputs": [
    {
     "name": "stdout",
     "output_type": "stream",
     "text": [
      "\n"
     ]
    }
   ],
   "source": [
    "n_scenarios = 2000\n",
    "years = 30\n",
    "n_steps = years * 12\n",
    "\n",
    "long_obs_seqs = zeros(n_scenarios,n_steps)\n",
    "for s in 1:n_scenarios\n",
    "    long_obs_seqs[s,:] .= last(rand(hmm, n_steps))\n",
    "end\n",
    "long_obs_seqs = annualise(long_obs_seqs,12)\n",
    "long_obs_seq_concat = vec(reduce(vcat, transpose(long_obs_seqs)))\n",
    "seq_ends = cumsum(fill(years,n_scenarios))\n",
    "println(\"\")"
   ]
  },
  {
   "cell_type": "code",
   "execution_count": 259,
   "metadata": {},
   "outputs": [
    {
     "ename": "MethodError",
     "evalue": "MethodError: no method matching logpdf(::FullNormal, ::Float64)\n\nClosest candidates are:\n  logpdf(!Matched::Soliton, ::Real)\n   @ Distributions C:\\Users\\matsz\\.julia\\packages\\Distributions\\UaWBm\\src\\univariate\\discrete\\soliton.jl:98\n  logpdf(!Matched::Chernoff, ::Real)\n   @ Distributions C:\\Users\\matsz\\.julia\\packages\\Distributions\\UaWBm\\src\\univariate\\continuous\\chernoff.jl:155\n  logpdf(!Matched::DiscreteUniform, ::Real)\n   @ Distributions C:\\Users\\matsz\\.julia\\packages\\Distributions\\UaWBm\\src\\univariate\\discrete\\discreteuniform.jl:74\n  ...\n",
     "output_type": "error",
     "traceback": [
      "MethodError: no method matching logpdf(::FullNormal, ::Float64)\n",
      "\n",
      "Closest candidates are:\n",
      "  logpdf(!Matched::Soliton, ::Real)\n",
      "   @ Distributions C:\\Users\\matsz\\.julia\\packages\\Distributions\\UaWBm\\src\\univariate\\discrete\\soliton.jl:98\n",
      "  logpdf(!Matched::Chernoff, ::Real)\n",
      "   @ Distributions C:\\Users\\matsz\\.julia\\packages\\Distributions\\UaWBm\\src\\univariate\\continuous\\chernoff.jl:155\n",
      "  logpdf(!Matched::DiscreteUniform, ::Real)\n",
      "   @ Distributions C:\\Users\\matsz\\.julia\\packages\\Distributions\\UaWBm\\src\\univariate\\discrete\\discreteuniform.jl:74\n",
      "  ...\n",
      "\n",
      "\n",
      "Stacktrace:\n",
      " [1] logdensityof(d::FullNormal, x::Float64)\n",
      "   @ DistributionsDensityInterfaceExt C:\\Users\\matsz\\.julia\\packages\\Distributions\\UaWBm\\ext\\DistributionsDensityInterfaceExt.jl:10\n",
      " [2] eltype(hmm::HMM{Vector{Float64}, Matrix{Float64}, Vector{FullNormal}}, obs::Float64, control::Nothing)\n",
      "   @ HiddenMarkovModels C:\\Users\\matsz\\.julia\\packages\\HiddenMarkovModels\\y95cy\\src\\types\\abstract_hmm.jl:50\n",
      " [3] initialize_forward_backward(hmm::HMM{Vector{Float64}, Matrix{Float64}, Vector{FullNormal}}, obs_seq::Vector{Float64}, control_seq::FillArrays.Fill{Nothing, 1, Tuple{Base.OneTo{Int64}}}; seq_ends::Vector{Int64}, transition_marginals::Bool)\n",
      "   @ HiddenMarkovModels C:\\Users\\matsz\\.julia\\packages\\HiddenMarkovModels\\y95cy\\src\\inference\\forward_backward.jl:37\n",
      " [4] baum_welch(hmm_guess::HMM{Vector{Float64}, Matrix{Float64}, Vector{FullNormal}}, obs_seq::Vector{Float64}, control_seq::FillArrays.Fill{Nothing, 1, Tuple{Base.OneTo{Int64}}}; seq_ends::Vector{Int64}, atol::Float64, max_iterations::Int64, loglikelihood_increasing::Bool)\n",
      "   @ HiddenMarkovModels C:\\Users\\matsz\\.julia\\packages\\HiddenMarkovModels\\y95cy\\src\\inference\\baum_welch.jl:64\n",
      " [5] top-level scope\n",
      "   @ c:\\Users\\matsz\\programowanie\\Optymalizacja_portfela\\julia_msp\\acwi_hmm.ipynb:5"
     ]
    }
   ],
   "source": [
    "n_points = 6\n",
    "init_guess = guess_init(n_points)\n",
    "trans_guess = guess_tmatrix(n_points)\n",
    "dists_guess = [guess_distribution() for s in 1:n_points]\n",
    "hmm_guess = HMM(init_guess, trans_guess, dists_guess);\n",
    "\n",
    "hmm_est_concat, loglikehood = baum_welch(hmm_guess, long_obs_seq_concat; seq_ends);\n",
    "#regime_summary(loglikehood,hmm_est_concat,1)\n",
    "hmm_est_concat"
   ]
  },
  {
   "cell_type": "code",
   "execution_count": 260,
   "metadata": {},
   "outputs": [
    {
     "data": {
      "text/plain": [
       "2000-element Vector{Int64}:\n",
       "    30\n",
       "    60\n",
       "    90\n",
       "   120\n",
       "   150\n",
       "   180\n",
       "   210\n",
       "   240\n",
       "   270\n",
       "   300\n",
       "     ⋮\n",
       " 59760\n",
       " 59790\n",
       " 59820\n",
       " 59850\n",
       " 59880\n",
       " 59910\n",
       " 59940\n",
       " 59970\n",
       " 60000"
      ]
     },
     "metadata": {},
     "output_type": "display_data"
    }
   ],
   "source": [
    "simulations = rand(Normal(0.0723,0.1410),(2000,30)) \n",
    "long_obs_seq_concat = vec(reduce(vcat, transpose(simulations)))\n",
    "seq_ends = cumsum(fill(30,2000))"
   ]
  },
  {
   "cell_type": "code",
   "execution_count": 262,
   "metadata": {},
   "outputs": [
    {
     "ename": "MethodError",
     "evalue": "MethodError: no method matching logpdf(::FullNormal, ::Float64)\n\nClosest candidates are:\n  logpdf(!Matched::Soliton, ::Real)\n   @ Distributions C:\\Users\\matsz\\.julia\\packages\\Distributions\\UaWBm\\src\\univariate\\discrete\\soliton.jl:98\n  logpdf(!Matched::Chernoff, ::Real)\n   @ Distributions C:\\Users\\matsz\\.julia\\packages\\Distributions\\UaWBm\\src\\univariate\\continuous\\chernoff.jl:155\n  logpdf(!Matched::DiscreteUniform, ::Real)\n   @ Distributions C:\\Users\\matsz\\.julia\\packages\\Distributions\\UaWBm\\src\\univariate\\discrete\\discreteuniform.jl:74\n  ...\n",
     "output_type": "error",
     "traceback": [
      "MethodError: no method matching logpdf(::FullNormal, ::Float64)\n",
      "\n",
      "Closest candidates are:\n",
      "  logpdf(!Matched::Soliton, ::Real)\n",
      "   @ Distributions C:\\Users\\matsz\\.julia\\packages\\Distributions\\UaWBm\\src\\univariate\\discrete\\soliton.jl:98\n",
      "  logpdf(!Matched::Chernoff, ::Real)\n",
      "   @ Distributions C:\\Users\\matsz\\.julia\\packages\\Distributions\\UaWBm\\src\\univariate\\continuous\\chernoff.jl:155\n",
      "  logpdf(!Matched::DiscreteUniform, ::Real)\n",
      "   @ Distributions C:\\Users\\matsz\\.julia\\packages\\Distributions\\UaWBm\\src\\univariate\\discrete\\discreteuniform.jl:74\n",
      "  ...\n",
      "\n",
      "\n",
      "Stacktrace:\n",
      " [1] logdensityof(d::FullNormal, x::Float64)\n",
      "   @ DistributionsDensityInterfaceExt C:\\Users\\matsz\\.julia\\packages\\Distributions\\UaWBm\\ext\\DistributionsDensityInterfaceExt.jl:10\n",
      " [2] eltype(hmm::HMM{Vector{Float64}, Matrix{Float64}, Vector{FullNormal}}, obs::Float64, control::Nothing)\n",
      "   @ HiddenMarkovModels C:\\Users\\matsz\\.julia\\packages\\HiddenMarkovModels\\y95cy\\src\\types\\abstract_hmm.jl:50\n",
      " [3] initialize_forward_backward(hmm::HMM{Vector{Float64}, Matrix{Float64}, Vector{FullNormal}}, obs_seq::Vector{Float64}, control_seq::FillArrays.Fill{Nothing, 1, Tuple{Base.OneTo{Int64}}}; seq_ends::Vector{Int64}, transition_marginals::Bool)\n",
      "   @ HiddenMarkovModels C:\\Users\\matsz\\.julia\\packages\\HiddenMarkovModels\\y95cy\\src\\inference\\forward_backward.jl:37\n",
      " [4] baum_welch(hmm_guess::HMM{Vector{Float64}, Matrix{Float64}, Vector{FullNormal}}, obs_seq::Vector{Float64}, control_seq::FillArrays.Fill{Nothing, 1, Tuple{Base.OneTo{Int64}}}; seq_ends::Vector{Int64}, atol::Float64, max_iterations::Int64, loglikelihood_increasing::Bool)\n",
      "   @ HiddenMarkovModels C:\\Users\\matsz\\.julia\\packages\\HiddenMarkovModels\\y95cy\\src\\inference\\baum_welch.jl:64\n",
      " [5] top-level scope\n",
      "   @ c:\\Users\\matsz\\programowanie\\Optymalizacja_portfela\\julia_msp\\acwi_hmm.ipynb:5"
     ]
    }
   ],
   "source": [
    "n_points = 8\n",
    "init_guess = guess_init(n_points)\n",
    "trans_guess = guess_tmatrix(n_points)\n",
    "dists_guess = [guess_distribution() for s in 1:n_points]\n",
    "hmm_guess = HMM(init_guess, trans_guess, dists_guess);\n",
    "\n",
    "hmm_est_concat, loglikehood = baum_welch(hmm_guess, long_obs_seq_concat; seq_ends);\n",
    "hmm_est_concat"
   ]
  },
  {
   "cell_type": "code",
   "execution_count": 230,
   "metadata": {},
   "outputs": [],
   "source": [
    "using JuMP, HiGHS"
   ]
  },
  {
   "cell_type": "code",
   "execution_count": 231,
   "metadata": {},
   "outputs": [
    {
     "data": {
      "text/plain": [
       "Dict{Symbol, Float64} with 8 entries:\n",
       "  :max      => 0.683246\n",
       "  :median   => 0.0714269\n",
       "  :std      => 0.140683\n",
       "  :mean     => 0.0717612\n",
       "  :var      => 0.0197916\n",
       "  :kurtosis => 0.000272329\n",
       "  :skew     => -0.00728458\n",
       "  :min      => -0.575091"
      ]
     },
     "metadata": {},
     "output_type": "display_data"
    }
   ],
   "source": [
    "norm_moments"
   ]
  },
  {
   "cell_type": "code",
   "execution_count": 232,
   "metadata": {},
   "outputs": [
    {
     "data": {
      "text/plain": [
       "Dict{Symbol, Float64} with 8 entries:\n",
       "  :max      => 0.17347\n",
       "  :std      => 0.168736\n",
       "  :mean     => 0.0616567\n",
       "  :var      => 0.0284719\n",
       "  :med      => 0.0862558\n",
       "  :kurtosis => 0.654158\n",
       "  :skew     => -0.769905\n",
       "  :min      => -0.159956"
      ]
     },
     "metadata": {},
     "output_type": "display_data"
    }
   ],
   "source": [
    "hmm_moments"
   ]
  },
  {
   "cell_type": "code",
   "execution_count": 233,
   "metadata": {},
   "outputs": [
    {
     "data": {
      "text/plain": [
       "Dict{Symbol, Float64} with 8 entries:\n",
       "  :max      => 0.683246\n",
       "  :median   => 0.0714269\n",
       "  :std      => 0.140683\n",
       "  :mean     => 0.0717612\n",
       "  :var      => 0.0197916\n",
       "  :kurtosis => 0.000272329\n",
       "  :skew     => -0.00728458\n",
       "  :min      => -0.575091"
      ]
     },
     "metadata": {},
     "output_type": "display_data"
    }
   ],
   "source": [
    "moments = norm_moments"
   ]
  },
  {
   "cell_type": "code",
   "execution_count": 234,
   "metadata": {},
   "outputs": [
    {
     "data": {
      "text/plain": [
       "4-element LinRange{Float64, Int64}:\n",
       " -0.350287, -0.0689215, 0.212444, 0.493809"
      ]
     },
     "metadata": {},
     "output_type": "display_data"
    }
   ],
   "source": [
    "M = moments[:mean]\n",
    "V = moments[:var]\n",
    "S = moments[:skew]\n",
    "K = moments[:kurtosis]\n",
    "#X = [-0.252, 0.032, 0.08, 0.244]\n",
    "n_scenarios = 4\n",
    "z = 3\n",
    "X = LinRange(moments[:mean]-z*moments[:std],moments[:mean]+z*moments[:std],n_scenarios) #simulation_perc[:,1] #[simulation_perc[1,1],simulation_perc[2,1],simulation_perc[4,1],simulation_perc[5,1],]\n"
   ]
  },
  {
   "cell_type": "code",
   "execution_count": 235,
   "metadata": {},
   "outputs": [
    {
     "data": {
      "text/latex": [
       "$$ -Kp + Km + 0.03172838698994398 p_{1} + 0.0003917084813573333 p_{2} + 0.0003917084813573327 p_{3} + 0.03172838698994398 p_{4} = 0.0002723286098147426 $$"
      ],
      "text/plain": [
       "-Kp + Km + 0.03172838698994398 p[1] + 0.0003917084813573333 p[2] + 0.0003917084813573327 p[3] + 0.03172838698994398 p[4] == 0.0002723286098147426"
      ]
     },
     "metadata": {},
     "output_type": "display_data"
    }
   ],
   "source": [
    "model = Model(HiGHS.Optimizer)\n",
    "\n",
    "@variable(model, Vp >= 0)\n",
    "@variable(model, Vm >= 0)\n",
    "@variable(model, Sp >= 0)\n",
    "@variable(model, Sm >= 0)\n",
    "@variable(model, Kp >= 0)\n",
    "@variable(model, Km >= 0)\n",
    "\n",
    "@variable(model, p[1:n_scenarios] >= 0)\n",
    "#@variable(model, w[1:3] >= 0.1 )\n",
    "w = [1 1 1]\n",
    "\n",
    "@objective(model, Min, w[1]*(Vm+Vp) + w[2]*(Sm+Sp) + w[3]*(Km + Kp))\n",
    "\n",
    "\n",
    "@constraint(model, dot(X,p) == M)\n",
    "@constraint(model, sum(p) == 1)\n",
    "\n",
    "@constraint(model, dot((X .- M).^2, p) + Vm - Vp == V )\n",
    "@constraint(model, dot((X .- M).^3, p) + Sm - Sp == S )\n",
    "@constraint(model, dot((X .- M).^4, p) + Km - Kp == K ) \n"
   ]
  },
  {
   "cell_type": "code",
   "execution_count": 236,
   "metadata": {},
   "outputs": [
    {
     "name": "stdout",
     "output_type": "stream",
     "text": [
      "Running HiGHS 1.7.0 (git hash: 50670fd4c): Copyright (c) 2024 HiGHS under MIT licence terms\n",
      "Coefficient ranges:\n",
      "  Matrix [4e-04, 1e+00]\n",
      "  Cost   [1e+00, 1e+00]\n",
      "  Bound  [0e+00, 0e+00]\n",
      "  RHS    [3e-04, 1e+00]\n",
      "Presolving model\n",
      "5 rows, 10 cols, 26 nonzeros  0s\n",
      "5 rows, 10 cols, 26 nonzeros  0s\n",
      "Presolve : Reductions: rows 5(-0); columns 10(-0); elements 26(-0) - Not reduced\n",
      "Problem not reduced by presolve: solving the LP\n",
      "Using EKK dual simplex solver - serial\n",
      "  Iteration        Objective     Infeasibilities num(sum)\n",
      "          0     0.0000000000e+00 Pr: 5(0.0668638) 0s\n",
      "          5     7.4039584848e-03 Pr: 0(0) 0s\n",
      "Model   status      : Optimal\n",
      "Simplex   iterations: 5\n",
      "Objective value     :  7.4039584848e-03\n",
      "HiGHS run time      :          0.00\n"
     ]
    }
   ],
   "source": [
    "optimize!(model)"
   ]
  },
  {
   "cell_type": "code",
   "execution_count": 237,
   "metadata": {},
   "outputs": [
    {
     "data": {
      "text/plain": [
       "OPTIMAL::TerminationStatusCode = 1"
      ]
     },
     "metadata": {},
     "output_type": "display_data"
    }
   ],
   "source": [
    "JuMP.termination_status(model)"
   ]
  },
  {
   "cell_type": "code",
   "execution_count": 238,
   "metadata": {},
   "outputs": [
    {
     "data": {
      "text/plain": [
       "4×2 Matrix{Float64}:\n",
       " -0.350287   -0.0\n",
       " -0.0689215   0.5\n",
       "  0.212444    0.5\n",
       "  0.493809    0.0"
      ]
     },
     "metadata": {},
     "output_type": "display_data"
    }
   ],
   "source": [
    "hcat(X,value.(p))"
   ]
  },
  {
   "cell_type": "code",
   "execution_count": 239,
   "metadata": {},
   "outputs": [
    {
     "data": {
      "text/plain": [
       "4-element LinRange{Float64, Int64}:\n",
       " -3.0, -1.0, 1.0, 3.0"
      ]
     },
     "metadata": {},
     "output_type": "display_data"
    }
   ],
   "source": [
    "LinRange(-3,3,4)"
   ]
  },
  {
   "cell_type": "code",
   "execution_count": 240,
   "metadata": {},
   "outputs": [
    {
     "data": {
      "text/plain": [
       "3-element Vector{Float64}:\n",
       " 0.125\n",
       " 0.75\n",
       " 0.125"
      ]
     },
     "metadata": {},
     "output_type": "display_data"
    }
   ],
   "source": [
    "[0.125, 0.75, 0.125]"
   ]
  },
  {
   "cell_type": "code",
   "execution_count": 241,
   "metadata": {},
   "outputs": [
    {
     "data": {
      "text/plain": [
       "1.35463"
      ]
     },
     "metadata": {},
     "output_type": "display_data"
    }
   ],
   "source": [
    "1+ 0.35463"
   ]
  },
  {
   "cell_type": "code",
   "execution_count": 242,
   "metadata": {},
   "outputs": [
    {
     "data": {
      "text/plain": [
       "1.0"
      ]
     },
     "metadata": {},
     "output_type": "display_data"
    }
   ],
   "source": [
    "sum(value.(p))"
   ]
  },
  {
   "cell_type": "code",
   "execution_count": 243,
   "metadata": {},
   "outputs": [
    {
     "data": {
      "text/plain": [
       "4×2 Matrix{Float64}:\n",
       " -0.350287   -0.0\n",
       " -0.0689215   0.5\n",
       "  0.212444    0.5\n",
       "  0.493809    0.0"
      ]
     },
     "metadata": {},
     "output_type": "display_data"
    }
   ],
   "source": [
    "hcat(X,value.(p))"
   ]
  },
  {
   "cell_type": "code",
   "execution_count": 244,
   "metadata": {},
   "outputs": [
    {
     "data": {
      "text/plain": [
       "0.07176122239368289"
      ]
     },
     "metadata": {},
     "output_type": "display_data"
    }
   ],
   "source": [
    "dot(value.(p),X)"
   ]
  },
  {
   "cell_type": "code",
   "execution_count": 245,
   "metadata": {},
   "outputs": [
    {
     "data": {
      "text/plain": [
       "Normal{Float64}(μ=0.07, σ=0.132)"
      ]
     },
     "metadata": {},
     "output_type": "display_data"
    }
   ],
   "source": [
    "norm = Normal(0.07,0.132)"
   ]
  },
  {
   "cell_type": "code",
   "execution_count": 246,
   "metadata": {},
   "outputs": [
    {
     "data": {
      "text/plain": [
       "3-element Vector{Float64}:\n",
       " 0.409022473584758\n",
       " 3.0222900030411566\n",
       " 0.409022473584758"
      ]
     },
     "metadata": {},
     "output_type": "display_data"
    }
   ],
   "source": [
    "pdfs = pdf(norm,[-0.194,0.07,0.334])"
   ]
  },
  {
   "cell_type": "code",
   "execution_count": 247,
   "metadata": {},
   "outputs": [
    {
     "data": {
      "text/plain": [
       "3-element Vector{Float64}:\n",
       " 0.10650697891920077\n",
       " 0.7869860421615985\n",
       " 0.10650697891920077"
      ]
     },
     "metadata": {},
     "output_type": "display_data"
    }
   ],
   "source": [
    "pdfs/sum(pdfs)"
   ]
  },
  {
   "cell_type": "code",
   "execution_count": 103,
   "metadata": {},
   "outputs": [
    {
     "data": {
      "text/plain": [
       "0.024692612590371414"
      ]
     },
     "metadata": {},
     "output_type": "display_data"
    }
   ],
   "source": [
    "log(1.025)"
   ]
  },
  {
   "cell_type": "code",
   "execution_count": 166,
   "metadata": {},
   "outputs": [
    {
     "name": "stdout",
     "output_type": "stream",
     "text": [
      "0.045400113176464876\n",
      "0.1318\n"
     ]
    }
   ],
   "source": [
    "t = 1\n",
    "cpi = log(1.0247)\n",
    "mu = (0.0698-cpi) * t\n",
    "sig = 0.1318 * t^0.5\n",
    "println(mu)\n",
    "println(sig)"
   ]
  },
  {
   "cell_type": "code",
   "execution_count": 203,
   "metadata": {},
   "outputs": [
    {
     "data": {
      "text/plain": [
       "4-element LinRange{Float64, Int64}:\n",
       " -2.1, -0.9, 0.3, 1.5"
      ]
     },
     "metadata": {},
     "output_type": "display_data"
    }
   ],
   "source": [
    "zr= LinRange(-2.1,1.5,4)"
   ]
  },
  {
   "cell_type": "code",
   "execution_count": 155,
   "metadata": {},
   "outputs": [
    {
     "data": {
      "text/plain": [
       "5-element LinRange{Float64, Int64}:\n",
       " -2.2, -1.275, -0.35, 0.575, 1.5"
      ]
     },
     "metadata": {},
     "output_type": "display_data"
    }
   ],
   "source": [
    "zr= LinRange(-2.2,1.5,5) # ten wziety do proby"
   ]
  },
  {
   "cell_type": "code",
   "execution_count": 209,
   "metadata": {},
   "outputs": [
    {
     "data": {
      "text/plain": [
       "4-element Vector{Float64}:\n",
       " 0.05357\n",
       " 0.32411\n",
       " 0.46456\n",
       " 0.15776"
      ]
     },
     "metadata": {},
     "output_type": "display_data"
    }
   ],
   "source": [
    "pdfs = pdf(Normal(0,1),zr)\n",
    "r = round.(pdfs/sum(pdfs);digits=5)\n"
   ]
  },
  {
   "cell_type": "code",
   "execution_count": 212,
   "metadata": {},
   "outputs": [
    {
     "data": {
      "text/plain": [
       "4-element Vector{Vector{Float64}}:\n",
       " [0.0028697449, 0.0173625727, 0.0248864792, 0.0084512032]\n",
       " [0.0173625727, 0.10504729210000001, 0.1505685416, 0.051131593600000004]\n",
       " [0.0248864792, 0.1505685416, 0.21581599359999998, 0.0732889856]\n",
       " [0.0084512032, 0.051131593600000004, 0.0732889856, 0.024888217600000005]"
      ]
     },
     "metadata": {},
     "output_type": "display_data"
    }
   ],
   "source": [
    "[r .* r[n] for n in 1:4]"
   ]
  },
  {
   "cell_type": "code",
   "execution_count": 206,
   "metadata": {},
   "outputs": [
    {
     "data": {
      "text/plain": [
       "4-element Vector{Float64}:\n",
       " -0.23137988682353516\n",
       " -0.07321988682353514\n",
       "  0.08494011317646487\n",
       "  0.24310011317646485"
      ]
     },
     "metadata": {},
     "output_type": "display_data"
    }
   ],
   "source": [
    "r = [mu + z * sig for z in zr]"
   ]
  },
  {
   "cell_type": "code",
   "execution_count": 207,
   "metadata": {},
   "outputs": [
    {
     "data": {
      "text/plain": [
       "4-element Vector{Float64}:\n",
       " 0.79\n",
       " 0.93\n",
       " 1.09\n",
       " 1.28"
      ]
     },
     "metadata": {},
     "output_type": "display_data"
    }
   ],
   "source": [
    "rd = round.(exp.(r);digits=2) "
   ]
  },
  {
   "cell_type": "code",
   "execution_count": 208,
   "metadata": {},
   "outputs": [
    {
     "data": {
      "text/plain": [
       "4-element Vector{Float64}:\n",
       " -0.21\n",
       " -0.07\n",
       "  0.09\n",
       "  0.28"
      ]
     },
     "metadata": {},
     "output_type": "display_data"
    }
   ],
   "source": [
    "rd = round.(expm1.(r);digits=2) "
   ]
  },
  {
   "cell_type": "code",
   "execution_count": 149,
   "metadata": {},
   "outputs": [
    {
     "data": {
      "text/plain": [
       "1.0725081812542165"
      ]
     },
     "metadata": {},
     "output_type": "display_data"
    }
   ],
   "source": [
    "exp(0.025+0.045)"
   ]
  },
  {
   "cell_type": "code",
   "execution_count": 159,
   "metadata": {},
   "outputs": [
    {
     "data": {
      "text/plain": [
       "1.0725081812542165"
      ]
     },
     "metadata": {},
     "output_type": "display_data"
    }
   ],
   "source": []
  },
  {
   "cell_type": "code",
   "execution_count": 253,
   "metadata": {},
   "outputs": [
    {
     "data": {
      "text/plain": [
       "0.15865525393145702"
      ]
     },
     "metadata": {},
     "output_type": "display_data"
    }
   ],
   "source": [
    "pdfs = cdf(Normal(0,1),-1)\n"
   ]
  },
  {
   "cell_type": "code",
   "execution_count": 254,
   "metadata": {},
   "outputs": [
    {
     "data": {
      "text/plain": [
       "0.022750131948179205"
      ]
     },
     "metadata": {},
     "output_type": "display_data"
    }
   ],
   "source": [
    "pdfs = cdf(Normal(mu,sig), -0.1938)"
   ]
  },
  {
   "cell_type": "code",
   "execution_count": 255,
   "metadata": {},
   "outputs": [
    {
     "data": {
      "text/plain": [
       "0.022738870348463197"
      ]
     },
     "metadata": {},
     "output_type": "display_data"
    }
   ],
   "source": [
    "pdfs = cdf(LogNormal(mu,sig), 1-0.1762)"
   ]
  }
 ],
 "metadata": {
  "kernelspec": {
   "display_name": "Julia 1.10.2",
   "language": "julia",
   "name": "julia-1.10"
  },
  "language_info": {
   "file_extension": ".jl",
   "mimetype": "application/julia",
   "name": "julia",
   "version": "1.10.2"
  }
 },
 "nbformat": 4,
 "nbformat_minor": 2
}
