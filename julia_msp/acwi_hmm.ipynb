{
 "cells": [
  {
   "cell_type": "code",
   "execution_count": null,
   "metadata": {},
   "outputs": [],
   "source": [
    "import Pkg\n",
    "Pkg.add(\"PrettyTables\")"
   ]
  },
  {
   "cell_type": "code",
   "execution_count": 1,
   "metadata": {},
   "outputs": [],
   "source": [
    "using DataFrames, FredData, XLSX, SHA, Dates, CSV, TimeSeries, StatsBase, HiddenMarkovModels, Distributions, Plots, PrettyTables"
   ]
  },
  {
   "cell_type": "code",
   "execution_count": 2,
   "metadata": {},
   "outputs": [
    {
     "data": {
      "text/plain": [
       "train_hmm (generic function with 2 methods)"
      ]
     },
     "metadata": {},
     "output_type": "display_data"
    }
   ],
   "source": [
    "function guess_init(n_scenarios)\n",
    "    regimes_probs = rand(1:100,n_scenarios)\n",
    "    return regimes_probs/sum(regimes_probs)\n",
    "end\n",
    "\n",
    "function guess_tmatrix(n_scenarios)\n",
    "    regimes_probs = rand(1:100,n_scenarios,n_scenarios)\n",
    "    return regimes_probs ./ sum(regimes_probs,dims=2)\n",
    "end\n",
    "\n",
    "function guess_distribution()\n",
    "    sigma = rand(Uniform(0,0.25))\n",
    "    means = rand(Uniform(-0.25,0.25))\n",
    "    return Normal(means,sigma)\n",
    "end\n",
    "\n",
    "function train_hmm(data, n_scenarios = 2)\n",
    "\n",
    "    function guess_distribution()\n",
    "        sigma = rand(Uniform(0,0.25))\n",
    "        means = rand(Uniform(-0.25,0.25))\n",
    "        return Normal(means,sigma)\n",
    "    end\n",
    "    \n",
    "    init_guess = guess_init(n_scenarios)\n",
    "    guess_matrix = guess_tmatrix(n_scenarios)\n",
    "    guess_dist = [guess_distribution() for s in 1:n_scenarios]\n",
    "    hmm_guess = HMM(init_guess, guess_matrix, guess_dist);\n",
    "    return hmm_est, loglikelihood_evolution = baum_welch(hmm_guess, data);\n",
    "end "
   ]
  },
  {
   "cell_type": "code",
   "execution_count": 3,
   "metadata": {},
   "outputs": [
    {
     "data": {
      "text/plain": [
       "regime_summary (generic function with 2 methods)"
      ]
     },
     "metadata": {},
     "output_type": "display_data"
    }
   ],
   "source": [
    "function regime_summary(loglikehood,hmm_est, freq = 1)\n",
    "        tm = transition_matrix(hmm_est)\n",
    "        \n",
    "   return DataFrame(Dict(\n",
    "      \"mu1\" => mean(obs_distributions(hmm_est)[1]) * freq,\n",
    "      \"sig1\" => std(obs_distributions(hmm_est)[1]) *  freq^0.5,\n",
    "      \"mu2\" => mean(obs_distributions(hmm_est)[2]) * freq,\n",
    "      \"sig2\" => std(obs_distributions(hmm_est)[2]) * freq^0.5,       \n",
    "      \"p11\" =>  tm[1,1],\n",
    "      \"p21\" =>  tm[2,1],\n",
    "      \"loglikehood\" => last(loglikehood),\n",
    "      \"prob1\" =>  tm[2,1]/(tm[1,2]+tm[2,1])\n",
    "      \n",
    "  )) \n",
    "  end"
   ]
  },
  {
   "cell_type": "code",
   "execution_count": 4,
   "metadata": {},
   "outputs": [
    {
     "data": {
      "text/plain": [
       "regime_summary_2 (generic function with 2 methods)"
      ]
     },
     "metadata": {},
     "output_type": "display_data"
    }
   ],
   "source": [
    "function regime_summary_2(loglikehood,hmm_est, freq = 1)\n",
    "    tm = transition_matrix(hmm_est),\n",
    "    n_regimes = length(initialization(hmm_est))\n",
    "    dict = Dict()\n",
    "   \n",
    "    return n_regimes\n",
    "      \n",
    "end\n"
   ]
  },
  {
   "cell_type": "code",
   "execution_count": 5,
   "metadata": {},
   "outputs": [
    {
     "data": {
      "text/plain": [
       "615×8 TimeArray{Union{Missing, Float64}, 2, Date, Matrix{Union{Missing, Float64}}} 1973-01-31 to 2024-03-31\n",
       "┌────────────┬────────────┬─────────────┬──────────────┬──────────────┬─────────\n",
       "│\u001b[1m            \u001b[0m│\u001b[1m ACWI_Net   \u001b[0m│\u001b[1m USDPLN      \u001b[0m│\u001b[1m ACWI_Net_PLN \u001b[0m│\u001b[1m CPI_USA      \u001b[0m│\u001b[1m CPI_PL\u001b[0m ⋯\n",
       "├────────────┼────────────┼─────────────┼──────────────┼──────────────┼─────────\n",
       "│ 1973-01-31 │    missing │     missing │      missing │   0.00235067 │     mi ⋯\n",
       "│ 1973-02-28 │    missing │     missing │      missing │   0.00701905 │     mi ⋯\n",
       "│ 1973-03-31 │    missing │     missing │      missing │   0.00927727 │     mi ⋯\n",
       "│ 1973-04-30 │    missing │     missing │      missing │   0.00690598 │     mi ⋯\n",
       "│ 1973-05-31 │    missing │     missing │      missing │   0.00685862 │     mi ⋯\n",
       "│ 1973-06-30 │    missing │     missing │      missing │    0.0068119 │     mi ⋯\n",
       "│ 1973-07-31 │    missing │     missing │      missing │   0.00225501 │     mi ⋯\n",
       "│ 1973-08-31 │    missing │     missing │      missing │    0.0179014 │     mi ⋯\n",
       "│     ⋮      │     ⋮      │      ⋮      │      ⋮       │      ⋮       │      ⋮ ⋱\n",
       "│ 2023-09-30 │  -0.042229 │   0.0576333 │    0.0154043 │   0.00248268 │ -0.003 ⋯\n",
       "│ 2023-10-31 │  -0.030529 │  -0.0361159 │    -0.066645 │ -0.000383565 │  0.002 ⋯\n",
       "│ 2023-11-30 │  0.0882833 │  -0.0525834 │    0.0356998 │  -0.00201729 │  0.007 ⋯\n",
       "│ 2023-12-31 │  0.0469154 │  -0.0158441 │    0.0310713 │ -0.000993947 │  0.001 ⋯\n",
       "│ 2024-01-31 │ 0.00584454 │   0.0175065 │    0.0233511 │   0.00543262 │  0.003 ⋯\n",
       "│ 2024-02-29 │  0.0420184 │ -0.00252589 │    0.0394925 │   0.00617115 │  0.002 ⋯\n",
       "│ 2024-03-31 │  0.0309141 │ -0.00107732 │    0.0298368 │   0.00644296 │  0.002 ⋯\n",
       "└────────────┴────────────┴─────────────┴──────────────┴──────────────┴─────────\n",
       "\u001b[36m                                                  4 columns and 600 rows omitted\u001b[0m"
      ]
     },
     "metadata": {},
     "output_type": "display_data"
    }
   ],
   "source": [
    "source_data = TimeArray(CSV.File(\"assets_data_03.24.csv\", delim=';', dateformat=Dict(\"Date\" => \"dd.mm.yyyy\"), decimal=','),timestamp=:Date)\n",
    "returns = percentchange(source_data, :log)"
   ]
  },
  {
   "cell_type": "code",
   "execution_count": 6,
   "metadata": {},
   "outputs": [
    {
     "data": {
      "text/html": [
       "<div><div style = \"float: left;\"><span>3×9 DataFrame</span></div><div style = \"clear: both;\"></div></div><div class = \"data-frame\" style = \"overflow-x: scroll;\"><table class = \"data-frame\" style = \"margin-bottom: 6px;\"><thead><tr class = \"header\"><th class = \"rowNumber\" style = \"font-weight: bold; text-align: right;\">Row</th><th style = \"text-align: left;\">mean</th><th style = \"text-align: left;\">sd</th><th style = \"text-align: left;\">min</th><th style = \"text-align: left;\">q25</th><th style = \"text-align: left;\">median</th><th style = \"text-align: left;\">q75</th><th style = \"text-align: left;\">max</th><th style = \"text-align: left;\">nobs</th><th style = \"text-align: left;\">nmiss</th></tr><tr class = \"subheader headerLastRow\"><th class = \"rowNumber\" style = \"font-weight: bold; text-align: right;\"></th><th title = \"Float64\" style = \"text-align: left;\">Float64</th><th title = \"Float64\" style = \"text-align: left;\">Float64</th><th title = \"Float64\" style = \"text-align: left;\">Float64</th><th title = \"Float64\" style = \"text-align: left;\">Float64</th><th title = \"Float64\" style = \"text-align: left;\">Float64</th><th title = \"Float64\" style = \"text-align: left;\">Float64</th><th title = \"Float64\" style = \"text-align: left;\">Float64</th><th title = \"Int64\" style = \"text-align: left;\">Int64</th><th title = \"Int64\" style = \"text-align: left;\">Int64</th></tr></thead><tbody><tr><td class = \"rowNumber\" style = \"font-weight: bold; text-align: right;\">1</td><td style = \"text-align: right;\">0.00622469</td><td style = \"text-align: right;\">0.0443616</td><td style = \"text-align: right;\">-0.220834</td><td style = \"text-align: right;\">-0.0181497</td><td style = \"text-align: right;\">0.0124942</td><td style = \"text-align: right;\">0.0330787</td><td style = \"text-align: right;\">0.116238</td><td style = \"text-align: right;\">615</td><td style = \"text-align: right;\">180</td></tr><tr><td class = \"rowNumber\" style = \"font-weight: bold; text-align: right;\">2</td><td style = \"text-align: right;\">0.000397277</td><td style = \"text-align: right;\">0.0371301</td><td style = \"text-align: right;\">-0.094026</td><td style = \"text-align: right;\">-0.0247304</td><td style = \"text-align: right;\">-0.00190905</td><td style = \"text-align: right;\">0.0234364</td><td style = \"text-align: right;\">0.166496</td><td style = \"text-align: right;\">615</td><td style = \"text-align: right;\">300</td></tr><tr><td class = \"rowNumber\" style = \"font-weight: bold; text-align: right;\">3</td><td style = \"text-align: right;\">0.00581535</td><td style = \"text-align: right;\">0.0380711</td><td style = \"text-align: right;\">-0.111985</td><td style = \"text-align: right;\">-0.0159863</td><td style = \"text-align: right;\">0.00790446</td><td style = \"text-align: right;\">0.0323534</td><td style = \"text-align: right;\">0.105947</td><td style = \"text-align: right;\">615</td><td style = \"text-align: right;\">300</td></tr></tbody></table></div>"
      ],
      "text/latex": [
       "\\begin{tabular}{r|cccccccc}\n",
       "\t& mean & sd & min & q25 & median & q75 & max & \\\\\n",
       "\t\\hline\n",
       "\t& Float64 & Float64 & Float64 & Float64 & Float64 & Float64 & Float64 & \\\\\n",
       "\t\\hline\n",
       "\t1 & 0.00622469 & 0.0443616 & -0.220834 & -0.0181497 & 0.0124942 & 0.0330787 & 0.116238 & $\\dots$ \\\\\n",
       "\t2 & 0.000397277 & 0.0371301 & -0.094026 & -0.0247304 & -0.00190905 & 0.0234364 & 0.166496 & $\\dots$ \\\\\n",
       "\t3 & 0.00581535 & 0.0380711 & -0.111985 & -0.0159863 & 0.00790446 & 0.0323534 & 0.105947 & $\\dots$ \\\\\n",
       "\\end{tabular}\n"
      ],
      "text/plain": [
       "\u001b[1m3×9 DataFrame\u001b[0m\n",
       "\u001b[1m Row \u001b[0m│\u001b[1m mean        \u001b[0m\u001b[1m sd        \u001b[0m\u001b[1m min       \u001b[0m\u001b[1m q25        \u001b[0m\u001b[1m median      \u001b[0m\u001b[1m q75       \u001b[0m\u001b[1m \u001b[0m ⋯\n",
       "     │\u001b[90m Float64     \u001b[0m\u001b[90m Float64   \u001b[0m\u001b[90m Float64   \u001b[0m\u001b[90m Float64    \u001b[0m\u001b[90m Float64     \u001b[0m\u001b[90m Float64   \u001b[0m\u001b[90m \u001b[0m ⋯\n",
       "─────┼──────────────────────────────────────────────────────────────────────────\n",
       "   1 │ 0.00622469   0.0443616  -0.220834  -0.0181497   0.0124942   0.0330787   ⋯\n",
       "   2 │ 0.000397277  0.0371301  -0.094026  -0.0247304  -0.00190905  0.0234364\n",
       "   3 │ 0.00581535   0.0380711  -0.111985  -0.0159863   0.00790446  0.0323534\n",
       "\u001b[36m                                                               3 columns omitted\u001b[0m"
      ]
     },
     "metadata": {},
     "output_type": "display_data"
    }
   ],
   "source": [
    "stats = summarystats.(eachcol(values(returns)))\n",
    "\n",
    "stats = DataFrame([stats[1],stats[2],stats[3]])\n"
   ]
  },
  {
   "cell_type": "code",
   "execution_count": 7,
   "metadata": {},
   "outputs": [
    {
     "name": "stdout",
     "output_type": "stream",
     "text": [
      "ACWI long 2\n"
     ]
    },
    {
     "data": {
      "text/html": [
       "<div><div style = \"float: left;\"><span>1×8 DataFrame</span></div><div style = \"clear: both;\"></div></div><div class = \"data-frame\" style = \"overflow-x: scroll;\"><table class = \"data-frame\" style = \"margin-bottom: 6px;\"><thead><tr class = \"header\"><th class = \"rowNumber\" style = \"font-weight: bold; text-align: right;\">Row</th><th style = \"text-align: left;\">loglikehood</th><th style = \"text-align: left;\">mu1</th><th style = \"text-align: left;\">mu2</th><th style = \"text-align: left;\">p11</th><th style = \"text-align: left;\">p21</th><th style = \"text-align: left;\">prob1</th><th style = \"text-align: left;\">sig1</th><th style = \"text-align: left;\">sig2</th></tr><tr class = \"subheader headerLastRow\"><th class = \"rowNumber\" style = \"font-weight: bold; text-align: right;\"></th><th title = \"Float64\" style = \"text-align: left;\">Float64</th><th title = \"Float64\" style = \"text-align: left;\">Float64</th><th title = \"Float64\" style = \"text-align: left;\">Float64</th><th title = \"Float64\" style = \"text-align: left;\">Float64</th><th title = \"Float64\" style = \"text-align: left;\">Float64</th><th title = \"Float64\" style = \"text-align: left;\">Float64</th><th title = \"Float64\" style = \"text-align: left;\">Float64</th><th title = \"Float64\" style = \"text-align: left;\">Float64</th></tr></thead><tbody><tr><td class = \"rowNumber\" style = \"font-weight: bold; text-align: right;\">1</td><td style = \"text-align: right;\">774.685</td><td style = \"text-align: right;\">-0.0115891</td><td style = \"text-align: right;\">0.160694</td><td style = \"text-align: right;\">0.941947</td><td style = \"text-align: right;\">0.0597985</td><td style = \"text-align: right;\">0.507406</td><td style = \"text-align: right;\">0.195717</td><td style = \"text-align: right;\">0.0873582</td></tr></tbody></table></div>"
      ],
      "text/latex": [
       "\\begin{tabular}{r|cccccccc}\n",
       "\t& loglikehood & mu1 & mu2 & p11 & p21 & prob1 & sig1 & sig2\\\\\n",
       "\t\\hline\n",
       "\t& Float64 & Float64 & Float64 & Float64 & Float64 & Float64 & Float64 & Float64\\\\\n",
       "\t\\hline\n",
       "\t1 & 774.685 & -0.0115891 & 0.160694 & 0.941947 & 0.0597985 & 0.507406 & 0.195717 & 0.0873582 \\\\\n",
       "\\end{tabular}\n"
      ],
      "text/plain": [
       "\u001b[1m1×8 DataFrame\u001b[0m\n",
       "\u001b[1m Row \u001b[0m│\u001b[1m loglikehood \u001b[0m\u001b[1m mu1        \u001b[0m\u001b[1m mu2      \u001b[0m\u001b[1m p11      \u001b[0m\u001b[1m p21       \u001b[0m\u001b[1m prob1    \u001b[0m\u001b[1m sig1 \u001b[0m ⋯\n",
       "     │\u001b[90m Float64     \u001b[0m\u001b[90m Float64    \u001b[0m\u001b[90m Float64  \u001b[0m\u001b[90m Float64  \u001b[0m\u001b[90m Float64   \u001b[0m\u001b[90m Float64  \u001b[0m\u001b[90m Float\u001b[0m ⋯\n",
       "─────┼──────────────────────────────────────────────────────────────────────────\n",
       "   1 │     774.685  -0.0115891  0.160694  0.941947  0.0597985  0.507406  0.195 ⋯\n",
       "\u001b[36m                                                               2 columns omitted\u001b[0m"
      ]
     },
     "metadata": {},
     "output_type": "display_data"
    }
   ],
   "source": [
    "acwi_long = identity.(values(from(returns[:ACWI_Net,],Date(1988,01,01))))\n",
    "hmm_est, loglikehood = train_hmm(acwi_long,2)\n",
    "println(\"ACWI long 2\")\n",
    "regime_summary(loglikehood,hmm_est,12)"
   ]
  },
  {
   "cell_type": "code",
   "execution_count": 8,
   "metadata": {},
   "outputs": [
    {
     "name": "stdout",
     "output_type": "stream",
     "text": [
      "ACWI long 4\n"
     ]
    },
    {
     "data": {
      "text/html": [
       "<div><div style = \"float: left;\"><span>1×8 DataFrame</span></div><div style = \"clear: both;\"></div></div><div class = \"data-frame\" style = \"overflow-x: scroll;\"><table class = \"data-frame\" style = \"margin-bottom: 6px;\"><thead><tr class = \"header\"><th class = \"rowNumber\" style = \"font-weight: bold; text-align: right;\">Row</th><th style = \"text-align: left;\">loglikehood</th><th style = \"text-align: left;\">mu1</th><th style = \"text-align: left;\">mu2</th><th style = \"text-align: left;\">p11</th><th style = \"text-align: left;\">p21</th><th style = \"text-align: left;\">prob1</th><th style = \"text-align: left;\">sig1</th><th style = \"text-align: left;\">sig2</th></tr><tr class = \"subheader headerLastRow\"><th class = \"rowNumber\" style = \"font-weight: bold; text-align: right;\"></th><th title = \"Float64\" style = \"text-align: left;\">Float64</th><th title = \"Float64\" style = \"text-align: left;\">Float64</th><th title = \"Float64\" style = \"text-align: left;\">Float64</th><th title = \"Float64\" style = \"text-align: left;\">Float64</th><th title = \"Float64\" style = \"text-align: left;\">Float64</th><th title = \"Float64\" style = \"text-align: left;\">Float64</th><th title = \"Float64\" style = \"text-align: left;\">Float64</th><th title = \"Float64\" style = \"text-align: left;\">Float64</th></tr></thead><tbody><tr><td class = \"rowNumber\" style = \"font-weight: bold; text-align: right;\">1</td><td style = \"text-align: right;\">792.275</td><td style = \"text-align: right;\">0.00966078</td><td style = \"text-align: right;\">-0.58365</td><td style = \"text-align: right;\">0.731321</td><td style = \"text-align: right;\">2.92199e-12</td><td style = \"text-align: right;\">1.73159e-11</td><td style = \"text-align: right;\">0.125914</td><td style = \"text-align: right;\">0.193704</td></tr></tbody></table></div>"
      ],
      "text/latex": [
       "\\begin{tabular}{r|cccccccc}\n",
       "\t& loglikehood & mu1 & mu2 & p11 & p21 & prob1 & sig1 & \\\\\n",
       "\t\\hline\n",
       "\t& Float64 & Float64 & Float64 & Float64 & Float64 & Float64 & Float64 & \\\\\n",
       "\t\\hline\n",
       "\t1 & 792.275 & 0.00966078 & -0.58365 & 0.731321 & 2.92199e-12 & 1.73159e-11 & 0.125914 & $\\dots$ \\\\\n",
       "\\end{tabular}\n"
      ],
      "text/plain": [
       "\u001b[1m1×8 DataFrame\u001b[0m\n",
       "\u001b[1m Row \u001b[0m│\u001b[1m loglikehood \u001b[0m\u001b[1m mu1        \u001b[0m\u001b[1m mu2      \u001b[0m\u001b[1m p11      \u001b[0m\u001b[1m p21         \u001b[0m\u001b[1m prob1       \u001b[0m\u001b[1m \u001b[0m ⋯\n",
       "     │\u001b[90m Float64     \u001b[0m\u001b[90m Float64    \u001b[0m\u001b[90m Float64  \u001b[0m\u001b[90m Float64  \u001b[0m\u001b[90m Float64     \u001b[0m\u001b[90m Float64     \u001b[0m\u001b[90m \u001b[0m ⋯\n",
       "─────┼──────────────────────────────────────────────────────────────────────────\n",
       "   1 │     792.275  0.00966078  -0.58365  0.731321  2.92199e-12  1.73159e-11   ⋯\n",
       "\u001b[36m                                                               2 columns omitted\u001b[0m"
      ]
     },
     "metadata": {},
     "output_type": "display_data"
    }
   ],
   "source": [
    "hmm_est, loglikehood = train_hmm(acwi_long,4)\n",
    "println(\"ACWI long 4\")\n",
    "regime_summary(loglikehood,hmm_est,12)"
   ]
  },
  {
   "cell_type": "code",
   "execution_count": 9,
   "metadata": {},
   "outputs": [
    {
     "data": {
      "text/html": [
       "<div><div style = \"float: left;\"><span>1×8 DataFrame</span></div><div style = \"clear: both;\"></div></div><div class = \"data-frame\" style = \"overflow-x: scroll;\"><table class = \"data-frame\" style = \"margin-bottom: 6px;\"><thead><tr class = \"header\"><th class = \"rowNumber\" style = \"font-weight: bold; text-align: right;\">Row</th><th style = \"text-align: left;\">loglikehood</th><th style = \"text-align: left;\">mu1</th><th style = \"text-align: left;\">mu2</th><th style = \"text-align: left;\">p11</th><th style = \"text-align: left;\">p21</th><th style = \"text-align: left;\">prob1</th><th style = \"text-align: left;\">sig1</th><th style = \"text-align: left;\">sig2</th></tr><tr class = \"subheader headerLastRow\"><th class = \"rowNumber\" style = \"font-weight: bold; text-align: right;\"></th><th title = \"Float64\" style = \"text-align: left;\">Float64</th><th title = \"Float64\" style = \"text-align: left;\">Float64</th><th title = \"Float64\" style = \"text-align: left;\">Float64</th><th title = \"Float64\" style = \"text-align: left;\">Float64</th><th title = \"Float64\" style = \"text-align: left;\">Float64</th><th title = \"Float64\" style = \"text-align: left;\">Float64</th><th title = \"Float64\" style = \"text-align: left;\">Float64</th><th title = \"Float64\" style = \"text-align: left;\">Float64</th></tr></thead><tbody><tr><td class = \"rowNumber\" style = \"font-weight: bold; text-align: right;\">1</td><td style = \"text-align: right;\">519.711</td><td style = \"text-align: right;\">0.0650168</td><td style = \"text-align: right;\">1.38937</td><td style = \"text-align: right;\">1.0</td><td style = \"text-align: right;\">1.0</td><td style = \"text-align: right;\">1.0</td><td style = \"text-align: right;\">0.160998</td><td style = \"text-align: right;\">0.00479858</td></tr></tbody></table></div>"
      ],
      "text/latex": [
       "\\begin{tabular}{r|cccccccc}\n",
       "\t& loglikehood & mu1 & mu2 & p11 & p21 & prob1 & sig1 & sig2\\\\\n",
       "\t\\hline\n",
       "\t& Float64 & Float64 & Float64 & Float64 & Float64 & Float64 & Float64 & Float64\\\\\n",
       "\t\\hline\n",
       "\t1 & 519.711 & 0.0650168 & 1.38937 & 1.0 & 1.0 & 1.0 & 0.160998 & 0.00479858 \\\\\n",
       "\\end{tabular}\n"
      ],
      "text/plain": [
       "\u001b[1m1×8 DataFrame\u001b[0m\n",
       "\u001b[1m Row \u001b[0m│\u001b[1m loglikehood \u001b[0m\u001b[1m mu1       \u001b[0m\u001b[1m mu2     \u001b[0m\u001b[1m p11     \u001b[0m\u001b[1m p21     \u001b[0m\u001b[1m prob1   \u001b[0m\u001b[1m sig1     \u001b[0m\u001b[1m s\u001b[0m ⋯\n",
       "     │\u001b[90m Float64     \u001b[0m\u001b[90m Float64   \u001b[0m\u001b[90m Float64 \u001b[0m\u001b[90m Float64 \u001b[0m\u001b[90m Float64 \u001b[0m\u001b[90m Float64 \u001b[0m\u001b[90m Float64  \u001b[0m\u001b[90m F\u001b[0m ⋯\n",
       "─────┼──────────────────────────────────────────────────────────────────────────\n",
       "   1 │     519.711  0.0650168  1.38937      1.0      1.0      1.0  0.160998  0 ⋯\n",
       "\u001b[36m                                                                1 column omitted\u001b[0m"
      ]
     },
     "metadata": {},
     "output_type": "display_data"
    }
   ],
   "source": [
    "acwi_98 = identity.(values(from(returns[:ACWI_Net],Date(1998,01,01))))\n",
    "hmm_est, loglikehood = train_hmm(acwi_98,2)\n",
    "regime_summary(loglikehood,hmm_est,12)"
   ]
  },
  {
   "cell_type": "code",
   "execution_count": 10,
   "metadata": {},
   "outputs": [
    {
     "data": {
      "text/html": [
       "<div><div style = \"float: left;\"><span>1×8 DataFrame</span></div><div style = \"clear: both;\"></div></div><div class = \"data-frame\" style = \"overflow-x: scroll;\"><table class = \"data-frame\" style = \"margin-bottom: 6px;\"><thead><tr class = \"header\"><th class = \"rowNumber\" style = \"font-weight: bold; text-align: right;\">Row</th><th style = \"text-align: left;\">loglikehood</th><th style = \"text-align: left;\">mu1</th><th style = \"text-align: left;\">mu2</th><th style = \"text-align: left;\">p11</th><th style = \"text-align: left;\">p21</th><th style = \"text-align: left;\">prob1</th><th style = \"text-align: left;\">sig1</th><th style = \"text-align: left;\">sig2</th></tr><tr class = \"subheader headerLastRow\"><th class = \"rowNumber\" style = \"font-weight: bold; text-align: right;\"></th><th title = \"Float64\" style = \"text-align: left;\">Float64</th><th title = \"Float64\" style = \"text-align: left;\">Float64</th><th title = \"Float64\" style = \"text-align: left;\">Float64</th><th title = \"Float64\" style = \"text-align: left;\">Float64</th><th title = \"Float64\" style = \"text-align: left;\">Float64</th><th title = \"Float64\" style = \"text-align: left;\">Float64</th><th title = \"Float64\" style = \"text-align: left;\">Float64</th><th title = \"Float64\" style = \"text-align: left;\">Float64</th></tr></thead><tbody><tr><td class = \"rowNumber\" style = \"font-weight: bold; text-align: right;\">1</td><td style = \"text-align: right;\">459.165</td><td style = \"text-align: right;\">0.168605</td><td style = \"text-align: right;\">-0.0133086</td><td style = \"text-align: right;\">0.937791</td><td style = \"text-align: right;\">0.0806326</td><td style = \"text-align: right;\">0.564488</td><td style = \"text-align: right;\">0.081276</td><td style = \"text-align: right;\">0.210605</td></tr></tbody></table></div>"
      ],
      "text/latex": [
       "\\begin{tabular}{r|cccccccc}\n",
       "\t& loglikehood & mu1 & mu2 & p11 & p21 & prob1 & sig1 & sig2\\\\\n",
       "\t\\hline\n",
       "\t& Float64 & Float64 & Float64 & Float64 & Float64 & Float64 & Float64 & Float64\\\\\n",
       "\t\\hline\n",
       "\t1 & 459.165 & 0.168605 & -0.0133086 & 0.937791 & 0.0806326 & 0.564488 & 0.081276 & 0.210605 \\\\\n",
       "\\end{tabular}\n"
      ],
      "text/plain": [
       "\u001b[1m1×8 DataFrame\u001b[0m\n",
       "\u001b[1m Row \u001b[0m│\u001b[1m loglikehood \u001b[0m\u001b[1m mu1      \u001b[0m\u001b[1m mu2        \u001b[0m\u001b[1m p11      \u001b[0m\u001b[1m p21       \u001b[0m\u001b[1m prob1    \u001b[0m\u001b[1m sig1 \u001b[0m ⋯\n",
       "     │\u001b[90m Float64     \u001b[0m\u001b[90m Float64  \u001b[0m\u001b[90m Float64    \u001b[0m\u001b[90m Float64  \u001b[0m\u001b[90m Float64   \u001b[0m\u001b[90m Float64  \u001b[0m\u001b[90m Float\u001b[0m ⋯\n",
       "─────┼──────────────────────────────────────────────────────────────────────────\n",
       "   1 │     459.165  0.168605  -0.0133086  0.937791  0.0806326  0.564488  0.081 ⋯\n",
       "\u001b[36m                                                               2 columns omitted\u001b[0m"
      ]
     },
     "metadata": {},
     "output_type": "display_data"
    }
   ],
   "source": [
    "acwi_03 = identity.(values(from(returns[:ACWI_Net],Date(2003,01,01))))\n",
    "hmm_est, loglikehood = train_hmm(acwi_03,2)\n",
    "regime_summary(loglikehood,hmm_est,12)"
   ]
  },
  {
   "cell_type": "code",
   "execution_count": 11,
   "metadata": {},
   "outputs": [
    {
     "name": "stdout",
     "output_type": "stream",
     "text": [
      "mean 0.06978414756872021, std: 0.13188218245803085\n"
     ]
    },
    {
     "data": {
      "text/html": [
       "<div><div style = \"float: left;\"><span>1×8 DataFrame</span></div><div style = \"clear: both;\"></div></div><div class = \"data-frame\" style = \"overflow-x: scroll;\"><table class = \"data-frame\" style = \"margin-bottom: 6px;\"><thead><tr class = \"header\"><th class = \"rowNumber\" style = \"font-weight: bold; text-align: right;\">Row</th><th style = \"text-align: left;\">loglikehood</th><th style = \"text-align: left;\">mu1</th><th style = \"text-align: left;\">mu2</th><th style = \"text-align: left;\">p11</th><th style = \"text-align: left;\">p21</th><th style = \"text-align: left;\">prob1</th><th style = \"text-align: left;\">sig1</th><th style = \"text-align: left;\">sig2</th></tr><tr class = \"subheader headerLastRow\"><th class = \"rowNumber\" style = \"font-weight: bold; text-align: right;\"></th><th title = \"Float64\" style = \"text-align: left;\">Float64</th><th title = \"Float64\" style = \"text-align: left;\">Float64</th><th title = \"Float64\" style = \"text-align: left;\">Float64</th><th title = \"Float64\" style = \"text-align: left;\">Float64</th><th title = \"Float64\" style = \"text-align: left;\">Float64</th><th title = \"Float64\" style = \"text-align: left;\">Float64</th><th title = \"Float64\" style = \"text-align: left;\">Float64</th><th title = \"Float64\" style = \"text-align: left;\">Float64</th></tr></thead><tbody><tr><td class = \"rowNumber\" style = \"font-weight: bold; text-align: right;\">1</td><td style = \"text-align: right;\">597.333</td><td style = \"text-align: right;\">-0.0742104</td><td style = \"text-align: right;\">0.0125274</td><td style = \"text-align: right;\">0.313141</td><td style = \"text-align: right;\">0.0578082</td><td style = \"text-align: right;\">0.0776296</td><td style = \"text-align: right;\">0.0217522</td><td style = \"text-align: right;\">0.0307265</td></tr></tbody></table></div>"
      ],
      "text/latex": [
       "\\begin{tabular}{r|cccccccc}\n",
       "\t& loglikehood & mu1 & mu2 & p11 & p21 & prob1 & sig1 & sig2\\\\\n",
       "\t\\hline\n",
       "\t& Float64 & Float64 & Float64 & Float64 & Float64 & Float64 & Float64 & Float64\\\\\n",
       "\t\\hline\n",
       "\t1 & 597.333 & -0.0742104 & 0.0125274 & 0.313141 & 0.0578082 & 0.0776296 & 0.0217522 & 0.0307265 \\\\\n",
       "\\end{tabular}\n"
      ],
      "text/plain": [
       "\u001b[1m1×8 DataFrame\u001b[0m\n",
       "\u001b[1m Row \u001b[0m│\u001b[1m loglikehood \u001b[0m\u001b[1m mu1        \u001b[0m\u001b[1m mu2       \u001b[0m\u001b[1m p11      \u001b[0m\u001b[1m p21       \u001b[0m\u001b[1m prob1     \u001b[0m\u001b[1m sig\u001b[0m ⋯\n",
       "     │\u001b[90m Float64     \u001b[0m\u001b[90m Float64    \u001b[0m\u001b[90m Float64   \u001b[0m\u001b[90m Float64  \u001b[0m\u001b[90m Float64   \u001b[0m\u001b[90m Float64   \u001b[0m\u001b[90m Flo\u001b[0m ⋯\n",
       "─────┼──────────────────────────────────────────────────────────────────────────\n",
       "   1 │     597.333  -0.0742104  0.0125274  0.313141  0.0578082  0.0776296  0.0 ⋯\n",
       "\u001b[36m                                                               2 columns omitted\u001b[0m"
      ]
     },
     "metadata": {},
     "output_type": "display_data"
    }
   ],
   "source": [
    "acwi_pln_98 = identity.(values(from(returns[:ACWI_Net_PLN],Date(1998,01,01))))\n",
    "println(\"mean $(mean(acwi_pln_98)*12), std: $(std(acwi_pln_98)*12^0.5)\")\n",
    "hmm_est_98_PLN, loglikehood = train_hmm(acwi_pln_98,2)\n",
    "regime_summary(loglikehood,hmm_est_98_PLN,1)"
   ]
  },
  {
   "cell_type": "code",
   "execution_count": 12,
   "metadata": {},
   "outputs": [
    {
     "data": {
      "text/html": [
       "<div><div style = \"float: left;\"><span>1×8 DataFrame</span></div><div style = \"clear: both;\"></div></div><div class = \"data-frame\" style = \"overflow-x: scroll;\"><table class = \"data-frame\" style = \"margin-bottom: 6px;\"><thead><tr class = \"header\"><th class = \"rowNumber\" style = \"font-weight: bold; text-align: right;\">Row</th><th style = \"text-align: left;\">loglikehood</th><th style = \"text-align: left;\">mu1</th><th style = \"text-align: left;\">mu2</th><th style = \"text-align: left;\">p11</th><th style = \"text-align: left;\">p21</th><th style = \"text-align: left;\">prob1</th><th style = \"text-align: left;\">sig1</th><th style = \"text-align: left;\">sig2</th></tr><tr class = \"subheader headerLastRow\"><th class = \"rowNumber\" style = \"font-weight: bold; text-align: right;\"></th><th title = \"Float64\" style = \"text-align: left;\">Float64</th><th title = \"Float64\" style = \"text-align: left;\">Float64</th><th title = \"Float64\" style = \"text-align: left;\">Float64</th><th title = \"Float64\" style = \"text-align: left;\">Float64</th><th title = \"Float64\" style = \"text-align: left;\">Float64</th><th title = \"Float64\" style = \"text-align: left;\">Float64</th><th title = \"Float64\" style = \"text-align: left;\">Float64</th><th title = \"Float64\" style = \"text-align: left;\">Float64</th></tr></thead><tbody><tr><td class = \"rowNumber\" style = \"font-weight: bold; text-align: right;\">1</td><td style = \"text-align: right;\">528.361</td><td style = \"text-align: right;\">0.187226</td><td style = \"text-align: right;\">0.00502263</td><td style = \"text-align: right;\">0.241157</td><td style = \"text-align: right;\">0.326355</td><td style = \"text-align: right;\">0.300733</td><td style = \"text-align: right;\">0.0703654</td><td style = \"text-align: right;\">0.144556</td></tr></tbody></table></div>"
      ],
      "text/latex": [
       "\\begin{tabular}{r|cccccccc}\n",
       "\t& loglikehood & mu1 & mu2 & p11 & p21 & prob1 & sig1 & sig2\\\\\n",
       "\t\\hline\n",
       "\t& Float64 & Float64 & Float64 & Float64 & Float64 & Float64 & Float64 & Float64\\\\\n",
       "\t\\hline\n",
       "\t1 & 528.361 & 0.187226 & 0.00502263 & 0.241157 & 0.326355 & 0.300733 & 0.0703654 & 0.144556 \\\\\n",
       "\\end{tabular}\n"
      ],
      "text/plain": [
       "\u001b[1m1×8 DataFrame\u001b[0m\n",
       "\u001b[1m Row \u001b[0m│\u001b[1m loglikehood \u001b[0m\u001b[1m mu1      \u001b[0m\u001b[1m mu2        \u001b[0m\u001b[1m p11      \u001b[0m\u001b[1m p21      \u001b[0m\u001b[1m prob1    \u001b[0m\u001b[1m sig1  \u001b[0m ⋯\n",
       "     │\u001b[90m Float64     \u001b[0m\u001b[90m Float64  \u001b[0m\u001b[90m Float64    \u001b[0m\u001b[90m Float64  \u001b[0m\u001b[90m Float64  \u001b[0m\u001b[90m Float64  \u001b[0m\u001b[90m Float6\u001b[0m ⋯\n",
       "─────┼──────────────────────────────────────────────────────────────────────────\n",
       "   1 │     528.361  0.187226  0.00502263  0.241157  0.326355  0.300733  0.0703 ⋯\n",
       "\u001b[36m                                                               2 columns omitted\u001b[0m"
      ]
     },
     "metadata": {},
     "output_type": "display_data"
    }
   ],
   "source": [
    "acwi_pln_01 = identity.(values(from(returns[:ACWI_Net_PLN],Date(2001,01,01))))\n",
    "hmm_est, loglikehood = train_hmm(acwi_pln_01,2)\n",
    "regime_summary(loglikehood,hmm_est,12)"
   ]
  },
  {
   "cell_type": "code",
   "execution_count": 13,
   "metadata": {},
   "outputs": [
    {
     "data": {
      "text/html": [
       "<div><div style = \"float: left;\"><span>1×8 DataFrame</span></div><div style = \"clear: both;\"></div></div><div class = \"data-frame\" style = \"overflow-x: scroll;\"><table class = \"data-frame\" style = \"margin-bottom: 6px;\"><thead><tr class = \"header\"><th class = \"rowNumber\" style = \"font-weight: bold; text-align: right;\">Row</th><th style = \"text-align: left;\">loglikehood</th><th style = \"text-align: left;\">mu1</th><th style = \"text-align: left;\">mu2</th><th style = \"text-align: left;\">p11</th><th style = \"text-align: left;\">p21</th><th style = \"text-align: left;\">prob1</th><th style = \"text-align: left;\">sig1</th><th style = \"text-align: left;\">sig2</th></tr><tr class = \"subheader headerLastRow\"><th class = \"rowNumber\" style = \"font-weight: bold; text-align: right;\"></th><th title = \"Float64\" style = \"text-align: left;\">Float64</th><th title = \"Float64\" style = \"text-align: left;\">Float64</th><th title = \"Float64\" style = \"text-align: left;\">Float64</th><th title = \"Float64\" style = \"text-align: left;\">Float64</th><th title = \"Float64\" style = \"text-align: left;\">Float64</th><th title = \"Float64\" style = \"text-align: left;\">Float64</th><th title = \"Float64\" style = \"text-align: left;\">Float64</th><th title = \"Float64\" style = \"text-align: left;\">Float64</th></tr></thead><tbody><tr><td class = \"rowNumber\" style = \"font-weight: bold; text-align: right;\">1</td><td style = \"text-align: right;\">508.991</td><td style = \"text-align: right;\">0.139972</td><td style = \"text-align: right;\">-0.0971908</td><td style = \"text-align: right;\">0.960506</td><td style = \"text-align: right;\">0.138809</td><td style = \"text-align: right;\">0.778501</td><td style = \"text-align: right;\">0.0914573</td><td style = \"text-align: right;\">0.181758</td></tr></tbody></table></div>"
      ],
      "text/latex": [
       "\\begin{tabular}{r|cccccccc}\n",
       "\t& loglikehood & mu1 & mu2 & p11 & p21 & prob1 & sig1 & sig2\\\\\n",
       "\t\\hline\n",
       "\t& Float64 & Float64 & Float64 & Float64 & Float64 & Float64 & Float64 & Float64\\\\\n",
       "\t\\hline\n",
       "\t1 & 508.991 & 0.139972 & -0.0971908 & 0.960506 & 0.138809 & 0.778501 & 0.0914573 & 0.181758 \\\\\n",
       "\\end{tabular}\n"
      ],
      "text/plain": [
       "\u001b[1m1×8 DataFrame\u001b[0m\n",
       "\u001b[1m Row \u001b[0m│\u001b[1m loglikehood \u001b[0m\u001b[1m mu1      \u001b[0m\u001b[1m mu2        \u001b[0m\u001b[1m p11      \u001b[0m\u001b[1m p21      \u001b[0m\u001b[1m prob1    \u001b[0m\u001b[1m sig1  \u001b[0m ⋯\n",
       "     │\u001b[90m Float64     \u001b[0m\u001b[90m Float64  \u001b[0m\u001b[90m Float64    \u001b[0m\u001b[90m Float64  \u001b[0m\u001b[90m Float64  \u001b[0m\u001b[90m Float64  \u001b[0m\u001b[90m Float6\u001b[0m ⋯\n",
       "─────┼──────────────────────────────────────────────────────────────────────────\n",
       "   1 │     508.991  0.139972  -0.0971908  0.960506  0.138809  0.778501  0.0914 ⋯\n",
       "\u001b[36m                                                               2 columns omitted\u001b[0m"
      ]
     },
     "metadata": {},
     "output_type": "display_data"
    }
   ],
   "source": [
    "acwi_pln_03 = identity.(values(from(returns[:ACWI_Net_PLN],Date(2003,01,01))))\n",
    "hmm_est, loglikehood = train_hmm(acwi_pln_03,2)\n",
    "regime_summary(loglikehood,hmm_est,12)"
   ]
  },
  {
   "cell_type": "code",
   "execution_count": 80,
   "metadata": {},
   "outputs": [
    {
     "data": {
      "text/html": [
       "<div><div style = \"float: left;\"><span>1×8 DataFrame</span></div><div style = \"clear: both;\"></div></div><div class = \"data-frame\" style = \"overflow-x: scroll;\"><table class = \"data-frame\" style = \"margin-bottom: 6px;\"><thead><tr class = \"header\"><th class = \"rowNumber\" style = \"font-weight: bold; text-align: right;\">Row</th><th style = \"text-align: left;\">loglikehood</th><th style = \"text-align: left;\">mu1</th><th style = \"text-align: left;\">mu2</th><th style = \"text-align: left;\">p11</th><th style = \"text-align: left;\">p21</th><th style = \"text-align: left;\">prob1</th><th style = \"text-align: left;\">sig1</th><th style = \"text-align: left;\">sig2</th></tr><tr class = \"subheader headerLastRow\"><th class = \"rowNumber\" style = \"font-weight: bold; text-align: right;\"></th><th title = \"Float64\" style = \"text-align: left;\">Float64</th><th title = \"Float64\" style = \"text-align: left;\">Float64</th><th title = \"Float64\" style = \"text-align: left;\">Float64</th><th title = \"Float64\" style = \"text-align: left;\">Float64</th><th title = \"Float64\" style = \"text-align: left;\">Float64</th><th title = \"Float64\" style = \"text-align: left;\">Float64</th><th title = \"Float64\" style = \"text-align: left;\">Float64</th><th title = \"Float64\" style = \"text-align: left;\">Float64</th></tr></thead><tbody><tr><td class = \"rowNumber\" style = \"font-weight: bold; text-align: right;\">1</td><td style = \"text-align: right;\">484.829</td><td style = \"text-align: right;\">0.117695</td><td style = \"text-align: right;\">-0.0247196</td><td style = \"text-align: right;\">0.968316</td><td style = \"text-align: right;\">0.00738524</td><td style = \"text-align: right;\">0.18903</td><td style = \"text-align: right;\">0.210459</td><td style = \"text-align: right;\">0.106832</td></tr></tbody></table></div>"
      ],
      "text/latex": [
       "\\begin{tabular}{r|cccccccc}\n",
       "\t& loglikehood & mu1 & mu2 & p11 & p21 & prob1 & sig1 & sig2\\\\\n",
       "\t\\hline\n",
       "\t& Float64 & Float64 & Float64 & Float64 & Float64 & Float64 & Float64 & Float64\\\\\n",
       "\t\\hline\n",
       "\t1 & 484.829 & 0.117695 & -0.0247196 & 0.968316 & 0.00738524 & 0.18903 & 0.210459 & 0.106832 \\\\\n",
       "\\end{tabular}\n"
      ],
      "text/plain": [
       "\u001b[1m1×8 DataFrame\u001b[0m\n",
       "\u001b[1m Row \u001b[0m│\u001b[1m loglikehood \u001b[0m\u001b[1m mu1      \u001b[0m\u001b[1m mu2        \u001b[0m\u001b[1m p11      \u001b[0m\u001b[1m p21        \u001b[0m\u001b[1m prob1   \u001b[0m\u001b[1m sig1 \u001b[0m ⋯\n",
       "     │\u001b[90m Float64     \u001b[0m\u001b[90m Float64  \u001b[0m\u001b[90m Float64    \u001b[0m\u001b[90m Float64  \u001b[0m\u001b[90m Float64    \u001b[0m\u001b[90m Float64 \u001b[0m\u001b[90m Float\u001b[0m ⋯\n",
       "─────┼──────────────────────────────────────────────────────────────────────────\n",
       "   1 │     484.829  0.117695  -0.0247196  0.968316  0.00738524  0.18903  0.210 ⋯\n",
       "\u001b[36m                                                               2 columns omitted\u001b[0m"
      ]
     },
     "metadata": {},
     "output_type": "display_data"
    }
   ],
   "source": [
    "usdpln_03 = identity.(values(from(returns[:USDPLN ],Date(2003,01,01))))\n",
    "hmm_est, loglikehood = train_hmm(usdpln_03,2)\n",
    "regime_summary(loglikehood,hmm_est,12)"
   ]
  },
  {
   "cell_type": "code",
   "execution_count": 15,
   "metadata": {},
   "outputs": [],
   "source": [
    "function guess_init(n_scenarios)\n",
    "    regimes_probs = rand(1:100,n_scenarios)\n",
    "    return regimes_probs/sum(regimes_probs)\n",
    "end\n",
    "\n",
    "function guess_tmatrix(n_scenarios)\n",
    "    regimes_probs = rand(1:100,n_scenarios,n_scenarios)\n",
    "    return regimes_probs ./ sum(regimes_probs,dims=2)\n",
    "end\n",
    "\n",
    "function guess_distribution()\n",
    "    corr = Matrix(1.0I,2,2)\n",
    "    sigma = [rand(Uniform(0,0.25)),rand(Uniform(0,0.035))]\n",
    "    means = [rand(Uniform(-0.5,0.5)),rand(Uniform(-0.01,0.12))]\n",
    "    cov = cor2cov(corr,sigma)\n",
    "    return MvNormal(means,cov)\n",
    "end\n",
    "\n",
    "using LinearAlgebra"
   ]
  },
  {
   "cell_type": "code",
   "execution_count": 16,
   "metadata": {},
   "outputs": [
    {
     "name": "stdout",
     "output_type": "stream",
     "text": [
      "Hidden Markov Model with:\n",
      " - initialization: [0.3900709219858156, 0.6099290780141844]\n",
      " - transition matrix: [0.30666666666666664 0.6933333333333334; 0.6190476190476191 0.38095238095238093]\n",
      " - observation distributions: [FullNormal(\n",
      "dim: 2\n",
      "μ: [0.41175773021807727, 0.08669056658929465]\n",
      "Σ: [0.046529395647990086 0.0; 0.0 8.75278671662059e-6]\n",
      ")\n",
      ", FullNormal(\n",
      "dim: 2\n",
      "μ: [0.3314796220138376, 0.025601541511439632]\n",
      "Σ: [0.01506090520011975 0.0; 0.0 6.03174518479935e-8]\n",
      ")\n",
      "]\n"
     ]
    }
   ],
   "source": [
    "acwi_and_pln = identity.(values(from(returns[:ACWI_Net_PLN, :USDPLN],Date(2001,01,01))))\n",
    "n_scenarios = 2\n",
    "\n",
    "\n",
    "init_guess = guess_init(n_scenarios)\n",
    "guess_matrix = guess_tmatrix(n_scenarios)\n",
    "guess_dist = [guess_distribution() for s in 1:n_scenarios]\n",
    "hmm_guess = HMM(init_guess, guess_matrix, guess_dist);\n",
    "println(hmm_guess)\n",
    "hmm_est_concat, _ = baum_welch(hmm_guess, eachrow(acwi_and_pln));"
   ]
  },
  {
   "cell_type": "code",
   "execution_count": 17,
   "metadata": {},
   "outputs": [
    {
     "data": {
      "text/plain": [
       "\"means\""
      ]
     },
     "metadata": {},
     "output_type": "display_data"
    },
    {
     "data": {
      "text/plain": [
       "2×2 Matrix{Float64}:\n",
       "  0.0539861   0.376852\n",
       " -0.00784242  0.320808"
      ]
     },
     "metadata": {},
     "output_type": "display_data"
    },
    {
     "data": {
      "text/plain": [
       "\"std\""
      ]
     },
     "metadata": {},
     "output_type": "display_data"
    },
    {
     "data": {
      "text/plain": [
       "2×2 Matrix{Float64}:\n",
       " 0.129385  0.0588161\n",
       " 0.130864  0.00170971"
      ]
     },
     "metadata": {},
     "output_type": "display_data"
    },
    {
     "data": {
      "text/plain": [
       "\"corr\""
      ]
     },
     "metadata": {},
     "output_type": "display_data"
    },
    {
     "data": {
      "text/plain": [
       "2×2 Matrix{Float64}:\n",
       " 1.0       0.225581\n",
       " 0.225581  1.0"
      ]
     },
     "metadata": {},
     "output_type": "display_data"
    },
    {
     "data": {
      "text/plain": [
       "2×2 Matrix{Float64}:\n",
       "  1.0       -0.337788\n",
       " -0.337788   1.0"
      ]
     },
     "metadata": {},
     "output_type": "display_data"
    }
   ],
   "source": [
    "dist1 = obs_distributions(hmm_est_concat)[1]\n",
    "dist2 = obs_distributions(hmm_est_concat)[2]\n",
    "\n",
    "mean1 = mean(dist1) .* 12\n",
    "mean2 = mean(dist2) .* 12\n",
    "\n",
    "std1 = sqrt.(var(dist1)) .* 12^0.5\n",
    "std2 = sqrt.(var(dist2)) .* 12^0.5\n",
    "display(\"means\")\n",
    "display([mean1 mean2])\n",
    "display(\"std\")\n",
    "display([std1 std2])\n",
    "display(\"corr\")\n",
    "cor1 = cor(dist1)\n",
    "display(cor1)\n",
    "cor2 = cor(dist2)\n",
    "display(cor2)\n"
   ]
  },
  {
   "cell_type": "code",
   "execution_count": 18,
   "metadata": {},
   "outputs": [
    {
     "data": {
      "text/plain": [
       "2-element Vector{Normal{Float64}}:\n",
       " Normal{Float64}(μ=-0.00313697550879231, σ=0.05934995385386742)\n",
       " Normal{Float64}(μ=0.013892284866271483, σ=0.023421380935733985)"
      ]
     },
     "metadata": {},
     "output_type": "display_data"
    }
   ],
   "source": [
    "acwi_short = identity.(values(from(returns[:ACWI_Net],Date(2001,01,01))))\n",
    "hmm_est, loglikehood = train_hmm(acwi_short,2)\n",
    "obs_distributions(hmm_est)"
   ]
  },
  {
   "cell_type": "code",
   "execution_count": 19,
   "metadata": {},
   "outputs": [
    {
     "data": {
      "text/plain": [
       "279-element Vector{Float64}:\n",
       " 1.0\n",
       " 1.0\n",
       " 1.0\n",
       " 1.0\n",
       " 1.0\n",
       " 1.0\n",
       " 1.0\n",
       " 1.0\n",
       " 1.0\n",
       " 1.0\n",
       " ⋮\n",
       " 1.0\n",
       " 1.0\n",
       " 1.0\n",
       " 1.0\n",
       " 1.0\n",
       " 1.0\n",
       " 1.0\n",
       " 1.0\n",
       " 1.0"
      ]
     },
     "metadata": {},
     "output_type": "display_data"
    }
   ],
   "source": [
    "acwi_short = identity.(from(returns[:ACWI_Net],Date(2001,01,01)))\n",
    "hmm_est, loglikehood = train_hmm(values(acwi_short),2)\n",
    "HMM(initialization(hmm_est), transition_matrix(hmm_est), obs_distributions(hmm_est))\n",
    "states,_ = viterbi(hmm_est,values(acwi_short))\n",
    "states = Float64.(states)"
   ]
  },
  {
   "cell_type": "code",
   "execution_count": 20,
   "metadata": {},
   "outputs": [
    {
     "data": {
      "text/plain": [
       "\"states\""
      ]
     },
     "metadata": {},
     "output_type": "display_data"
    }
   ],
   "source": [
    "acwi_states = merge(acwi_short,identity.(from((returns[:USDPLN]),Date(1998,01,01))),TimeArray(timestamp(acwi_short),states))\n",
    "CSV.write(\"states\",acwi_states)\n"
   ]
  },
  {
   "cell_type": "code",
   "execution_count": 21,
   "metadata": {},
   "outputs": [
    {
     "name": "stdout",
     "output_type": "stream",
     "text": [
      "First usd pln\n",
      "0.02323905518920558\n",
      "0.14920806835446282\n",
      "-0.6632535242025056\n",
      "Second usd pln\n",
      "-0.02979151262801521\n",
      "0.10498902329177802\n",
      "-0.5525433853025217\n"
     ]
    }
   ],
   "source": [
    "first_regime = acwi_states[findwhen(acwi_states[:A] .== 1.0)]\n",
    "second_regime = acwi_states[findwhen(acwi_states[:A] .== 2.0)]\n",
    "\n",
    "println(\"First usd pln\")\n",
    "println(mean(values(first_regime[:USDPLN]))*12)\n",
    "println(std(values(first_regime[:USDPLN]))*12^0.5)\n",
    "println(cor(values(first_regime[:USDPLN]),values(first_regime[:ACWI_Net ])))\n",
    "\n",
    "println(\"Second usd pln\")\n",
    "println(mean(values(second_regime[:USDPLN]))*12)\n",
    "println(std(values(second_regime[:USDPLN]))*12^0.5)\n",
    "println(cor(values(second_regime[:USDPLN]),values(second_regime[:ACWI_Net])))"
   ]
  },
  {
   "cell_type": "code",
   "execution_count": 22,
   "metadata": {},
   "outputs": [
    {
     "data": {
      "image/png": "[encoded data removed]",
      "image/svg+xml": [
       "<?xml version=\"1.0\" encoding=\"utf-8\"?>\n",
       "<svg xmlns=\"http://www.w3.org/2000/svg\" xmlns:xlink=\"http://www.w3.org/1999/xlink\" width=\"600\" height=\"400\" viewBox=\"0 0 2400 1600\">\n",
       "<defs>\n",
       "  <clipPath id=\"clip770\">\n",
       "    <rect x=\"0\" y=\"0\" width=\"2400\" height=\"1600\"/>\n",
       "  </clipPath>\n",
       "</defs>\n",
       "<path clip-path=\"url(#clip770)\" d=\"M0 1600 L2400 1600 L2400 0 L0 0  Z\" fill=\"#ffffff\" fill-rule=\"evenodd\" fill-opacity=\"1\"/>\n",
       "<defs>\n",
       "  <clipPath id=\"clip771\">\n",
       "    <rect x=\"480\" y=\"0\" width=\"1681\" height=\"1600\"/>\n",
       "  </clipPath>\n",
       "</defs>\n",
       "<path clip-path=\"url(#clip770)\" d=\"M192.709 1486.45 L2352.76 1486.45 L2352.76 47.2441 L192.709 47.2441  Z\" fill=\"#ffffff\" fill-rule=\"evenodd\" fill-opacity=\"1\"/>\n",
       "<defs>\n",
       "  <clipPath id=\"clip772\">\n",
       "    <rect x=\"192\" y=\"47\" width=\"2161\" height=\"1440\"/>\n",
       "  </clipPath>\n",
       "</defs>\n",
       "<polyline clip-path=\"url(#clip772)\" style=\"stroke:#000000; stroke-linecap:round; stroke-linejoin:round; stroke-width:2; stroke-opacity:0.1; fill:none\" points=\"246.616,1486.45 246.616,47.2441 \"/>\n",
       "<polyline clip-path=\"url(#clip772)\" style=\"stroke:#000000; stroke-linecap:round; stroke-linejoin:round; stroke-width:2; stroke-opacity:0.1; fill:none\" points=\"774.368,1486.45 774.368,47.2441 \"/>\n",
       "<polyline clip-path=\"url(#clip772)\" style=\"stroke:#000000; stroke-linecap:round; stroke-linejoin:round; stroke-width:2; stroke-opacity:0.1; fill:none\" points=\"1302.36,1486.45 1302.36,47.2441 \"/>\n",
       "<polyline clip-path=\"url(#clip772)\" style=\"stroke:#000000; stroke-linecap:round; stroke-linejoin:round; stroke-width:2; stroke-opacity:0.1; fill:none\" points=\"1830.11,1486.45 1830.11,47.2441 \"/>\n",
       "<polyline clip-path=\"url(#clip770)\" style=\"stroke:#000000; stroke-linecap:round; stroke-linejoin:round; stroke-width:4; stroke-opacity:1; fill:none\" points=\"192.709,1486.45 2352.76,1486.45 \"/>\n",
       "<polyline clip-path=\"url(#clip770)\" style=\"stroke:#000000; stroke-linecap:round; stroke-linejoin:round; stroke-width:4; stroke-opacity:1; fill:none\" points=\"246.616,1486.45 246.616,1467.55 \"/>\n",
       "<polyline clip-path=\"url(#clip770)\" style=\"stroke:#000000; stroke-linecap:round; stroke-linejoin:round; stroke-width:4; stroke-opacity:1; fill:none\" points=\"774.368,1486.45 774.368,1467.55 \"/>\n",
       "<polyline clip-path=\"url(#clip770)\" style=\"stroke:#000000; stroke-linecap:round; stroke-linejoin:round; stroke-width:4; stroke-opacity:1; fill:none\" points=\"1302.36,1486.45 1302.36,1467.55 \"/>\n",
       "<polyline clip-path=\"url(#clip770)\" style=\"stroke:#000000; stroke-linecap:round; stroke-linejoin:round; stroke-width:4; stroke-opacity:1; fill:none\" points=\"1830.11,1486.45 1830.11,1467.55 \"/>\n",
       "<path clip-path=\"url(#clip770)\" d=\"M118.411 1544.91 L134.73 1544.91 L134.73 1548.85 L112.786 1548.85 L112.786 1544.91 Q115.448 1542.16 120.031 1537.53 Q124.638 1532.88 125.818 1531.53 Q128.064 1529.01 128.943 1527.27 Q129.846 1525.51 129.846 1523.82 Q129.846 1521.07 127.902 1519.33 Q125.98 1517.6 122.879 1517.6 Q120.68 1517.6 118.226 1518.36 Q115.795 1519.13 113.018 1520.68 L113.018 1515.95 Q115.842 1514.82 118.295 1514.24 Q120.749 1513.66 122.786 1513.66 Q128.156 1513.66 131.351 1516.35 Q134.545 1519.03 134.545 1523.52 Q134.545 1525.65 133.735 1527.57 Q132.948 1529.47 130.842 1532.07 Q130.263 1532.74 127.161 1535.95 Q124.059 1539.15 118.411 1544.91 Z\" fill=\"#000000\" fill-rule=\"nonzero\" fill-opacity=\"1\" /><path clip-path=\"url(#clip770)\" d=\"M154.545 1517.37 Q150.934 1517.37 149.105 1520.93 Q147.3 1524.47 147.3 1531.6 Q147.3 1538.71 149.105 1542.27 Q150.934 1545.82 154.545 1545.82 Q158.179 1545.82 159.985 1542.27 Q161.814 1538.71 161.814 1531.6 Q161.814 1524.47 159.985 1520.93 Q158.179 1517.37 154.545 1517.37 M154.545 1513.66 Q160.355 1513.66 163.411 1518.27 Q166.489 1522.85 166.489 1531.6 Q166.489 1540.33 163.411 1544.94 Q160.355 1549.52 154.545 1549.52 Q148.735 1549.52 145.656 1544.94 Q142.601 1540.33 142.601 1531.6 Q142.601 1522.85 145.656 1518.27 Q148.735 1513.66 154.545 1513.66 Z\" fill=\"#000000\" fill-rule=\"nonzero\" fill-opacity=\"1\" /><path clip-path=\"url(#clip770)\" d=\"M184.707 1517.37 Q181.096 1517.37 179.267 1520.93 Q177.462 1524.47 177.462 1531.6 Q177.462 1538.71 179.267 1542.27 Q181.096 1545.82 184.707 1545.82 Q188.341 1545.82 190.147 1542.27 Q191.975 1538.71 191.975 1531.6 Q191.975 1524.47 190.147 1520.93 Q188.341 1517.37 184.707 1517.37 M184.707 1513.66 Q190.517 1513.66 193.573 1518.27 Q196.651 1522.85 196.651 1531.6 Q196.651 1540.33 193.573 1544.94 Q190.517 1549.52 184.707 1549.52 Q178.897 1549.52 175.818 1544.94 Q172.763 1540.33 172.763 1531.6 Q172.763 1522.85 175.818 1518.27 Q178.897 1513.66 184.707 1513.66 Z\" fill=\"#000000\" fill-rule=\"nonzero\" fill-opacity=\"1\" /><path clip-path=\"url(#clip770)\" d=\"M205.679 1544.91 L213.318 1544.91 L213.318 1518.55 L205.008 1520.21 L205.008 1515.95 L213.272 1514.29 L217.948 1514.29 L217.948 1544.91 L225.586 1544.91 L225.586 1548.85 L205.679 1548.85 L205.679 1544.91 Z\" fill=\"#000000\" fill-rule=\"nonzero\" fill-opacity=\"1\" /><path clip-path=\"url(#clip770)\" d=\"M232.276 1533.96 L244.753 1533.96 L244.753 1537.76 L232.276 1537.76 L232.276 1533.96 Z\" fill=\"#000000\" fill-rule=\"nonzero\" fill-opacity=\"1\" /><path clip-path=\"url(#clip770)\" d=\"M262.137 1517.37 Q258.526 1517.37 256.697 1520.93 Q254.892 1524.47 254.892 1531.6 Q254.892 1538.71 256.697 1542.27 Q258.526 1545.82 262.137 1545.82 Q265.771 1545.82 267.577 1542.27 Q269.406 1538.71 269.406 1531.6 Q269.406 1524.47 267.577 1520.93 Q265.771 1517.37 262.137 1517.37 M262.137 1513.66 Q267.947 1513.66 271.003 1518.27 Q274.082 1522.85 274.082 1531.6 Q274.082 1540.33 271.003 1544.94 Q267.947 1549.52 262.137 1549.52 Q256.327 1549.52 253.248 1544.94 Q250.193 1540.33 250.193 1531.6 Q250.193 1522.85 253.248 1518.27 Q256.327 1513.66 262.137 1513.66 Z\" fill=\"#000000\" fill-rule=\"nonzero\" fill-opacity=\"1\" /><path clip-path=\"url(#clip770)\" d=\"M283.109 1544.91 L290.748 1544.91 L290.748 1518.55 L282.438 1520.21 L282.438 1515.95 L290.702 1514.29 L295.378 1514.29 L295.378 1544.91 L303.017 1544.91 L303.017 1548.85 L283.109 1548.85 L283.109 1544.91 Z\" fill=\"#000000\" fill-rule=\"nonzero\" fill-opacity=\"1\" /><path clip-path=\"url(#clip770)\" d=\"M309.706 1533.96 L322.183 1533.96 L322.183 1537.76 L309.706 1537.76 L309.706 1533.96 Z\" fill=\"#000000\" fill-rule=\"nonzero\" fill-opacity=\"1\" /><path clip-path=\"url(#clip770)\" d=\"M339.567 1517.37 Q335.956 1517.37 334.127 1520.93 Q332.322 1524.47 332.322 1531.6 Q332.322 1538.71 334.127 1542.27 Q335.956 1545.82 339.567 1545.82 Q343.202 1545.82 345.007 1542.27 Q346.836 1538.71 346.836 1531.6 Q346.836 1524.47 345.007 1520.93 Q343.202 1517.37 339.567 1517.37 M339.567 1513.66 Q345.377 1513.66 348.433 1518.27 Q351.512 1522.85 351.512 1531.6 Q351.512 1540.33 348.433 1544.94 Q345.377 1549.52 339.567 1549.52 Q333.757 1549.52 330.678 1544.94 Q327.623 1540.33 327.623 1531.6 Q327.623 1522.85 330.678 1518.27 Q333.757 1513.66 339.567 1513.66 Z\" fill=\"#000000\" fill-rule=\"nonzero\" fill-opacity=\"1\" /><path clip-path=\"url(#clip770)\" d=\"M360.539 1544.91 L368.178 1544.91 L368.178 1518.55 L359.868 1520.21 L359.868 1515.95 L368.132 1514.29 L372.808 1514.29 L372.808 1544.91 L380.447 1544.91 L380.447 1548.85 L360.539 1548.85 L360.539 1544.91 Z\" fill=\"#000000\" fill-rule=\"nonzero\" fill-opacity=\"1\" /><path clip-path=\"url(#clip770)\" d=\"M646.162 1544.91 L662.482 1544.91 L662.482 1548.85 L640.537 1548.85 L640.537 1544.91 Q643.199 1542.16 647.783 1537.53 Q652.389 1532.88 653.57 1531.53 Q655.815 1529.01 656.695 1527.27 Q657.597 1525.51 657.597 1523.82 Q657.597 1521.07 655.653 1519.33 Q653.732 1517.6 650.63 1517.6 Q648.431 1517.6 645.977 1518.36 Q643.547 1519.13 640.769 1520.68 L640.769 1515.95 Q643.593 1514.82 646.047 1514.24 Q648.5 1513.66 650.537 1513.66 Q655.908 1513.66 659.102 1516.35 Q662.297 1519.03 662.297 1523.52 Q662.297 1525.65 661.486 1527.57 Q660.699 1529.47 658.593 1532.07 Q658.014 1532.74 654.912 1535.95 Q651.81 1539.15 646.162 1544.91 Z\" fill=\"#000000\" fill-rule=\"nonzero\" fill-opacity=\"1\" /><path clip-path=\"url(#clip770)\" d=\"M682.296 1517.37 Q678.685 1517.37 676.857 1520.93 Q675.051 1524.47 675.051 1531.6 Q675.051 1538.71 676.857 1542.27 Q678.685 1545.82 682.296 1545.82 Q685.931 1545.82 687.736 1542.27 Q689.565 1538.71 689.565 1531.6 Q689.565 1524.47 687.736 1520.93 Q685.931 1517.37 682.296 1517.37 M682.296 1513.66 Q688.107 1513.66 691.162 1518.27 Q694.241 1522.85 694.241 1531.6 Q694.241 1540.33 691.162 1544.94 Q688.107 1549.52 682.296 1549.52 Q676.486 1549.52 673.408 1544.94 Q670.352 1540.33 670.352 1531.6 Q670.352 1522.85 673.408 1518.27 Q676.486 1513.66 682.296 1513.66 Z\" fill=\"#000000\" fill-rule=\"nonzero\" fill-opacity=\"1\" /><path clip-path=\"url(#clip770)\" d=\"M712.458 1517.37 Q708.847 1517.37 707.018 1520.93 Q705.213 1524.47 705.213 1531.6 Q705.213 1538.71 707.018 1542.27 Q708.847 1545.82 712.458 1545.82 Q716.093 1545.82 717.898 1542.27 Q719.727 1538.71 719.727 1531.6 Q719.727 1524.47 717.898 1520.93 Q716.093 1517.37 712.458 1517.37 M712.458 1513.66 Q718.268 1513.66 721.324 1518.27 Q724.403 1522.85 724.403 1531.6 Q724.403 1540.33 721.324 1544.94 Q718.268 1549.52 712.458 1549.52 Q706.648 1549.52 703.569 1544.94 Q700.514 1540.33 700.514 1531.6 Q700.514 1522.85 703.569 1518.27 Q706.648 1513.66 712.458 1513.66 Z\" fill=\"#000000\" fill-rule=\"nonzero\" fill-opacity=\"1\" /><path clip-path=\"url(#clip770)\" d=\"M731.44 1514.29 L753.662 1514.29 L753.662 1516.28 L741.116 1548.85 L736.231 1548.85 L748.037 1518.22 L731.44 1518.22 L731.44 1514.29 Z\" fill=\"#000000\" fill-rule=\"nonzero\" fill-opacity=\"1\" /><path clip-path=\"url(#clip770)\" d=\"M760.027 1533.96 L772.504 1533.96 L772.504 1537.76 L760.027 1537.76 L760.027 1533.96 Z\" fill=\"#000000\" fill-rule=\"nonzero\" fill-opacity=\"1\" /><path clip-path=\"url(#clip770)\" d=\"M789.888 1517.37 Q786.277 1517.37 784.449 1520.93 Q782.643 1524.47 782.643 1531.6 Q782.643 1538.71 784.449 1542.27 Q786.277 1545.82 789.888 1545.82 Q793.523 1545.82 795.328 1542.27 Q797.157 1538.71 797.157 1531.6 Q797.157 1524.47 795.328 1520.93 Q793.523 1517.37 789.888 1517.37 M789.888 1513.66 Q795.699 1513.66 798.754 1518.27 Q801.833 1522.85 801.833 1531.6 Q801.833 1540.33 798.754 1544.94 Q795.699 1549.52 789.888 1549.52 Q784.078 1549.52 781 1544.94 Q777.944 1540.33 777.944 1531.6 Q777.944 1522.85 781 1518.27 Q784.078 1513.66 789.888 1513.66 Z\" fill=\"#000000\" fill-rule=\"nonzero\" fill-opacity=\"1\" /><path clip-path=\"url(#clip770)\" d=\"M810.861 1544.91 L818.499 1544.91 L818.499 1518.55 L810.189 1520.21 L810.189 1515.95 L818.453 1514.29 L823.129 1514.29 L823.129 1544.91 L830.768 1544.91 L830.768 1548.85 L810.861 1548.85 L810.861 1544.91 Z\" fill=\"#000000\" fill-rule=\"nonzero\" fill-opacity=\"1\" /><path clip-path=\"url(#clip770)\" d=\"M837.458 1533.96 L849.934 1533.96 L849.934 1537.76 L837.458 1537.76 L837.458 1533.96 Z\" fill=\"#000000\" fill-rule=\"nonzero\" fill-opacity=\"1\" /><path clip-path=\"url(#clip770)\" d=\"M867.319 1517.37 Q863.707 1517.37 861.879 1520.93 Q860.073 1524.47 860.073 1531.6 Q860.073 1538.71 861.879 1542.27 Q863.707 1545.82 867.319 1545.82 Q870.953 1545.82 872.758 1542.27 Q874.587 1538.71 874.587 1531.6 Q874.587 1524.47 872.758 1520.93 Q870.953 1517.37 867.319 1517.37 M867.319 1513.66 Q873.129 1513.66 876.184 1518.27 Q879.263 1522.85 879.263 1531.6 Q879.263 1540.33 876.184 1544.94 Q873.129 1549.52 867.319 1549.52 Q861.508 1549.52 858.43 1544.94 Q855.374 1540.33 855.374 1531.6 Q855.374 1522.85 858.43 1518.27 Q861.508 1513.66 867.319 1513.66 Z\" fill=\"#000000\" fill-rule=\"nonzero\" fill-opacity=\"1\" /><path clip-path=\"url(#clip770)\" d=\"M888.291 1544.91 L895.93 1544.91 L895.93 1518.55 L887.619 1520.21 L887.619 1515.95 L895.883 1514.29 L900.559 1514.29 L900.559 1544.91 L908.198 1544.91 L908.198 1548.85 L888.291 1548.85 L888.291 1544.91 Z\" fill=\"#000000\" fill-rule=\"nonzero\" fill-opacity=\"1\" /><path clip-path=\"url(#clip770)\" d=\"M1174.15 1544.91 L1190.47 1544.91 L1190.47 1548.85 L1168.53 1548.85 L1168.53 1544.91 Q1171.19 1542.16 1175.77 1537.53 Q1180.38 1532.88 1181.56 1531.53 Q1183.81 1529.01 1184.69 1527.27 Q1185.59 1525.51 1185.59 1523.82 Q1185.59 1521.07 1183.65 1519.33 Q1181.72 1517.6 1178.62 1517.6 Q1176.42 1517.6 1173.97 1518.36 Q1171.54 1519.13 1168.76 1520.68 L1168.76 1515.95 Q1171.59 1514.82 1174.04 1514.24 Q1176.49 1513.66 1178.53 1513.66 Q1183.9 1513.66 1187.09 1516.35 Q1190.29 1519.03 1190.29 1523.52 Q1190.29 1525.65 1189.48 1527.57 Q1188.69 1529.47 1186.58 1532.07 Q1186.01 1532.74 1182.9 1535.95 Q1179.8 1539.15 1174.15 1544.91 Z\" fill=\"#000000\" fill-rule=\"nonzero\" fill-opacity=\"1\" /><path clip-path=\"url(#clip770)\" d=\"M1210.29 1517.37 Q1206.68 1517.37 1204.85 1520.93 Q1203.04 1524.47 1203.04 1531.6 Q1203.04 1538.71 1204.85 1542.27 Q1206.68 1545.82 1210.29 1545.82 Q1213.92 1545.82 1215.73 1542.27 Q1217.56 1538.71 1217.56 1531.6 Q1217.56 1524.47 1215.73 1520.93 Q1213.92 1517.37 1210.29 1517.37 M1210.29 1513.66 Q1216.1 1513.66 1219.15 1518.27 Q1222.23 1522.85 1222.23 1531.6 Q1222.23 1540.33 1219.15 1544.94 Q1216.1 1549.52 1210.29 1549.52 Q1204.48 1549.52 1201.4 1544.94 Q1198.34 1540.33 1198.34 1531.6 Q1198.34 1522.85 1201.4 1518.27 Q1204.48 1513.66 1210.29 1513.66 Z\" fill=\"#000000\" fill-rule=\"nonzero\" fill-opacity=\"1\" /><path clip-path=\"url(#clip770)\" d=\"M1231.26 1544.91 L1238.9 1544.91 L1238.9 1518.55 L1230.59 1520.21 L1230.59 1515.95 L1238.85 1514.29 L1243.53 1514.29 L1243.53 1544.91 L1251.17 1544.91 L1251.17 1548.85 L1231.26 1548.85 L1231.26 1544.91 Z\" fill=\"#000000\" fill-rule=\"nonzero\" fill-opacity=\"1\" /><path clip-path=\"url(#clip770)\" d=\"M1274.78 1530.21 Q1278.14 1530.93 1280.01 1533.2 Q1281.91 1535.47 1281.91 1538.8 Q1281.91 1543.92 1278.39 1546.72 Q1274.87 1549.52 1268.39 1549.52 Q1266.21 1549.52 1263.9 1549.08 Q1261.61 1548.66 1259.15 1547.81 L1259.15 1543.29 Q1261.1 1544.43 1263.41 1545.01 Q1265.73 1545.58 1268.25 1545.58 Q1272.65 1545.58 1274.94 1543.85 Q1277.26 1542.11 1277.26 1538.8 Q1277.26 1535.75 1275.1 1534.03 Q1272.97 1532.3 1269.15 1532.3 L1265.13 1532.3 L1265.13 1528.45 L1269.34 1528.45 Q1272.79 1528.45 1274.62 1527.09 Q1276.45 1525.7 1276.45 1523.11 Q1276.45 1520.45 1274.55 1519.03 Q1272.67 1517.6 1269.15 1517.6 Q1267.23 1517.6 1265.03 1518.01 Q1262.83 1518.43 1260.2 1519.31 L1260.2 1515.14 Q1262.86 1514.4 1265.17 1514.03 Q1267.51 1513.66 1269.57 1513.66 Q1274.89 1513.66 1278 1516.09 Q1281.1 1518.5 1281.1 1522.62 Q1281.1 1525.49 1279.45 1527.48 Q1277.81 1529.45 1274.78 1530.21 Z\" fill=\"#000000\" fill-rule=\"nonzero\" fill-opacity=\"1\" /><path clip-path=\"url(#clip770)\" d=\"M1288.02 1533.96 L1300.5 1533.96 L1300.5 1537.76 L1288.02 1537.76 L1288.02 1533.96 Z\" fill=\"#000000\" fill-rule=\"nonzero\" fill-opacity=\"1\" /><path clip-path=\"url(#clip770)\" d=\"M1317.88 1517.37 Q1314.27 1517.37 1312.44 1520.93 Q1310.64 1524.47 1310.64 1531.6 Q1310.64 1538.71 1312.44 1542.27 Q1314.27 1545.82 1317.88 1545.82 Q1321.51 1545.82 1323.32 1542.27 Q1325.15 1538.71 1325.15 1531.6 Q1325.15 1524.47 1323.32 1520.93 Q1321.51 1517.37 1317.88 1517.37 M1317.88 1513.66 Q1323.69 1513.66 1326.75 1518.27 Q1329.82 1522.85 1329.82 1531.6 Q1329.82 1540.33 1326.75 1544.94 Q1323.69 1549.52 1317.88 1549.52 Q1312.07 1549.52 1308.99 1544.94 Q1305.94 1540.33 1305.94 1531.6 Q1305.94 1522.85 1308.99 1518.27 Q1312.07 1513.66 1317.88 1513.66 Z\" fill=\"#000000\" fill-rule=\"nonzero\" fill-opacity=\"1\" /><path clip-path=\"url(#clip770)\" d=\"M1338.85 1544.91 L1346.49 1544.91 L1346.49 1518.55 L1338.18 1520.21 L1338.18 1515.95 L1346.45 1514.29 L1351.12 1514.29 L1351.12 1544.91 L1358.76 1544.91 L1358.76 1548.85 L1338.85 1548.85 L1338.85 1544.91 Z\" fill=\"#000000\" fill-rule=\"nonzero\" fill-opacity=\"1\" /><path clip-path=\"url(#clip770)\" d=\"M1365.45 1533.96 L1377.93 1533.96 L1377.93 1537.76 L1365.45 1537.76 L1365.45 1533.96 Z\" fill=\"#000000\" fill-rule=\"nonzero\" fill-opacity=\"1\" /><path clip-path=\"url(#clip770)\" d=\"M1395.31 1517.37 Q1391.7 1517.37 1389.87 1520.93 Q1388.07 1524.47 1388.07 1531.6 Q1388.07 1538.71 1389.87 1542.27 Q1391.7 1545.82 1395.31 1545.82 Q1398.94 1545.82 1400.75 1542.27 Q1402.58 1538.71 1402.58 1531.6 Q1402.58 1524.47 1400.75 1520.93 Q1398.94 1517.37 1395.31 1517.37 M1395.31 1513.66 Q1401.12 1513.66 1404.18 1518.27 Q1407.26 1522.85 1407.26 1531.6 Q1407.26 1540.33 1404.18 1544.94 Q1401.12 1549.52 1395.31 1549.52 Q1389.5 1549.52 1386.42 1544.94 Q1383.37 1540.33 1383.37 1531.6 Q1383.37 1522.85 1386.42 1518.27 Q1389.5 1513.66 1395.31 1513.66 Z\" fill=\"#000000\" fill-rule=\"nonzero\" fill-opacity=\"1\" /><path clip-path=\"url(#clip770)\" d=\"M1416.28 1544.91 L1423.92 1544.91 L1423.92 1518.55 L1415.61 1520.21 L1415.61 1515.95 L1423.88 1514.29 L1428.55 1514.29 L1428.55 1544.91 L1436.19 1544.91 L1436.19 1548.85 L1416.28 1548.85 L1416.28 1544.91 Z\" fill=\"#000000\" fill-rule=\"nonzero\" fill-opacity=\"1\" /><path clip-path=\"url(#clip770)\" d=\"M1701.91 1544.91 L1718.23 1544.91 L1718.23 1548.85 L1696.28 1548.85 L1696.28 1544.91 Q1698.94 1542.16 1703.53 1537.53 Q1708.13 1532.88 1709.31 1531.53 Q1711.56 1529.01 1712.44 1527.27 Q1713.34 1525.51 1713.34 1523.82 Q1713.34 1521.07 1711.4 1519.33 Q1709.48 1517.6 1706.37 1517.6 Q1704.17 1517.6 1701.72 1518.36 Q1699.29 1519.13 1696.51 1520.68 L1696.51 1515.95 Q1699.34 1514.82 1701.79 1514.24 Q1704.24 1513.66 1706.28 1513.66 Q1711.65 1513.66 1714.85 1516.35 Q1718.04 1519.03 1718.04 1523.52 Q1718.04 1525.65 1717.23 1527.57 Q1716.44 1529.47 1714.34 1532.07 Q1713.76 1532.74 1710.66 1535.95 Q1707.55 1539.15 1701.91 1544.91 Z\" fill=\"#000000\" fill-rule=\"nonzero\" fill-opacity=\"1\" /><path clip-path=\"url(#clip770)\" d=\"M1738.04 1517.37 Q1734.43 1517.37 1732.6 1520.93 Q1730.79 1524.47 1730.79 1531.6 Q1730.79 1538.71 1732.6 1542.27 Q1734.43 1545.82 1738.04 1545.82 Q1741.67 1545.82 1743.48 1542.27 Q1745.31 1538.71 1745.31 1531.6 Q1745.31 1524.47 1743.48 1520.93 Q1741.67 1517.37 1738.04 1517.37 M1738.04 1513.66 Q1743.85 1513.66 1746.91 1518.27 Q1749.98 1522.85 1749.98 1531.6 Q1749.98 1540.33 1746.91 1544.94 Q1743.85 1549.52 1738.04 1549.52 Q1732.23 1549.52 1729.15 1544.94 Q1726.1 1540.33 1726.1 1531.6 Q1726.1 1522.85 1729.15 1518.27 Q1732.23 1513.66 1738.04 1513.66 Z\" fill=\"#000000\" fill-rule=\"nonzero\" fill-opacity=\"1\" /><path clip-path=\"url(#clip770)\" d=\"M1759.01 1544.91 L1766.65 1544.91 L1766.65 1518.55 L1758.34 1520.21 L1758.34 1515.95 L1766.6 1514.29 L1771.28 1514.29 L1771.28 1544.91 L1778.92 1544.91 L1778.92 1548.85 L1759.01 1548.85 L1759.01 1544.91 Z\" fill=\"#000000\" fill-rule=\"nonzero\" fill-opacity=\"1\" /><path clip-path=\"url(#clip770)\" d=\"M1788.5 1548.13 L1788.5 1543.87 Q1790.26 1544.7 1792.07 1545.14 Q1793.87 1545.58 1795.61 1545.58 Q1800.24 1545.58 1802.67 1542.48 Q1805.12 1539.36 1805.47 1533.01 Q1804.13 1535.01 1802.07 1536.07 Q1800.01 1537.13 1797.51 1537.13 Q1792.32 1537.13 1789.29 1534.01 Q1786.28 1530.86 1786.28 1525.42 Q1786.28 1520.1 1789.43 1516.88 Q1792.58 1513.66 1797.81 1513.66 Q1803.8 1513.66 1806.95 1518.27 Q1810.12 1522.85 1810.12 1531.6 Q1810.12 1539.77 1806.23 1544.66 Q1802.37 1549.52 1795.82 1549.52 Q1794.06 1549.52 1792.25 1549.17 Q1790.45 1548.82 1788.5 1548.13 M1797.81 1533.48 Q1800.96 1533.48 1802.78 1531.32 Q1804.64 1529.17 1804.64 1525.42 Q1804.64 1521.7 1802.78 1519.54 Q1800.96 1517.37 1797.81 1517.37 Q1794.66 1517.37 1792.81 1519.54 Q1790.98 1521.7 1790.98 1525.42 Q1790.98 1529.17 1792.81 1531.32 Q1794.66 1533.48 1797.81 1533.48 Z\" fill=\"#000000\" fill-rule=\"nonzero\" fill-opacity=\"1\" /><path clip-path=\"url(#clip770)\" d=\"M1815.77 1533.96 L1828.25 1533.96 L1828.25 1537.76 L1815.77 1537.76 L1815.77 1533.96 Z\" fill=\"#000000\" fill-rule=\"nonzero\" fill-opacity=\"1\" /><path clip-path=\"url(#clip770)\" d=\"M1845.63 1517.37 Q1842.02 1517.37 1840.19 1520.93 Q1838.39 1524.47 1838.39 1531.6 Q1838.39 1538.71 1840.19 1542.27 Q1842.02 1545.82 1845.63 1545.82 Q1849.27 1545.82 1851.07 1542.27 Q1852.9 1538.71 1852.9 1531.6 Q1852.9 1524.47 1851.07 1520.93 Q1849.27 1517.37 1845.63 1517.37 M1845.63 1513.66 Q1851.44 1513.66 1854.5 1518.27 Q1857.58 1522.85 1857.58 1531.6 Q1857.58 1540.33 1854.5 1544.94 Q1851.44 1549.52 1845.63 1549.52 Q1839.82 1549.52 1836.74 1544.94 Q1833.69 1540.33 1833.69 1531.6 Q1833.69 1522.85 1836.74 1518.27 Q1839.82 1513.66 1845.63 1513.66 Z\" fill=\"#000000\" fill-rule=\"nonzero\" fill-opacity=\"1\" /><path clip-path=\"url(#clip770)\" d=\"M1866.6 1544.91 L1874.24 1544.91 L1874.24 1518.55 L1865.93 1520.21 L1865.93 1515.95 L1874.2 1514.29 L1878.87 1514.29 L1878.87 1544.91 L1886.51 1544.91 L1886.51 1548.85 L1866.6 1548.85 L1866.6 1544.91 Z\" fill=\"#000000\" fill-rule=\"nonzero\" fill-opacity=\"1\" /><path clip-path=\"url(#clip770)\" d=\"M1893.2 1533.96 L1905.68 1533.96 L1905.68 1537.76 L1893.2 1537.76 L1893.2 1533.96 Z\" fill=\"#000000\" fill-rule=\"nonzero\" fill-opacity=\"1\" /><path clip-path=\"url(#clip770)\" d=\"M1923.06 1517.37 Q1919.45 1517.37 1917.62 1520.93 Q1915.82 1524.47 1915.82 1531.6 Q1915.82 1538.71 1917.62 1542.27 Q1919.45 1545.82 1923.06 1545.82 Q1926.7 1545.82 1928.5 1542.27 Q1930.33 1538.71 1930.33 1531.6 Q1930.33 1524.47 1928.5 1520.93 Q1926.7 1517.37 1923.06 1517.37 M1923.06 1513.66 Q1928.87 1513.66 1931.93 1518.27 Q1935.01 1522.85 1935.01 1531.6 Q1935.01 1540.33 1931.93 1544.94 Q1928.87 1549.52 1923.06 1549.52 Q1917.25 1549.52 1914.17 1544.94 Q1911.12 1540.33 1911.12 1531.6 Q1911.12 1522.85 1914.17 1518.27 Q1917.25 1513.66 1923.06 1513.66 Z\" fill=\"#000000\" fill-rule=\"nonzero\" fill-opacity=\"1\" /><path clip-path=\"url(#clip770)\" d=\"M1944.03 1544.91 L1951.67 1544.91 L1951.67 1518.55 L1943.36 1520.21 L1943.36 1515.95 L1951.63 1514.29 L1956.3 1514.29 L1956.3 1544.91 L1963.94 1544.91 L1963.94 1548.85 L1944.03 1548.85 L1944.03 1544.91 Z\" fill=\"#000000\" fill-rule=\"nonzero\" fill-opacity=\"1\" /><polyline clip-path=\"url(#clip772)\" style=\"stroke:#000000; stroke-linecap:round; stroke-linejoin:round; stroke-width:2; stroke-opacity:0.1; fill:none\" points=\"192.709,1361.79 2352.76,1361.79 \"/>\n",
       "<polyline clip-path=\"url(#clip772)\" style=\"stroke:#000000; stroke-linecap:round; stroke-linejoin:round; stroke-width:2; stroke-opacity:0.1; fill:none\" points=\"192.709,958.991 2352.76,958.991 \"/>\n",
       "<polyline clip-path=\"url(#clip772)\" style=\"stroke:#000000; stroke-linecap:round; stroke-linejoin:round; stroke-width:2; stroke-opacity:0.1; fill:none\" points=\"192.709,556.187 2352.76,556.187 \"/>\n",
       "<polyline clip-path=\"url(#clip772)\" style=\"stroke:#000000; stroke-linecap:round; stroke-linejoin:round; stroke-width:2; stroke-opacity:0.1; fill:none\" points=\"192.709,153.383 2352.76,153.383 \"/>\n",
       "<polyline clip-path=\"url(#clip770)\" style=\"stroke:#000000; stroke-linecap:round; stroke-linejoin:round; stroke-width:4; stroke-opacity:1; fill:none\" points=\"192.709,1486.45 192.709,47.2441 \"/>\n",
       "<polyline clip-path=\"url(#clip770)\" style=\"stroke:#000000; stroke-linecap:round; stroke-linejoin:round; stroke-width:4; stroke-opacity:1; fill:none\" points=\"192.709,1361.79 211.607,1361.79 \"/>\n",
       "<polyline clip-path=\"url(#clip770)\" style=\"stroke:#000000; stroke-linecap:round; stroke-linejoin:round; stroke-width:4; stroke-opacity:1; fill:none\" points=\"192.709,958.991 211.607,958.991 \"/>\n",
       "<polyline clip-path=\"url(#clip770)\" style=\"stroke:#000000; stroke-linecap:round; stroke-linejoin:round; stroke-width:4; stroke-opacity:1; fill:none\" points=\"192.709,556.187 211.607,556.187 \"/>\n",
       "<polyline clip-path=\"url(#clip770)\" style=\"stroke:#000000; stroke-linecap:round; stroke-linejoin:round; stroke-width:4; stroke-opacity:1; fill:none\" points=\"192.709,153.383 211.607,153.383 \"/>\n",
       "<path clip-path=\"url(#clip770)\" d=\"M51.3625 1362.25 L81.0383 1362.25 L81.0383 1366.18 L51.3625 1366.18 L51.3625 1362.25 Z\" fill=\"#000000\" fill-rule=\"nonzero\" fill-opacity=\"1\" /><path clip-path=\"url(#clip770)\" d=\"M101.131 1347.59 Q97.5197 1347.59 95.691 1351.16 Q93.8854 1354.7 93.8854 1361.83 Q93.8854 1368.94 95.691 1372.5 Q97.5197 1376.04 101.131 1376.04 Q104.765 1376.04 106.571 1372.5 Q108.399 1368.94 108.399 1361.83 Q108.399 1354.7 106.571 1351.16 Q104.765 1347.59 101.131 1347.59 M101.131 1343.89 Q106.941 1343.89 109.996 1348.5 Q113.075 1353.08 113.075 1361.83 Q113.075 1370.56 109.996 1375.16 Q106.941 1379.75 101.131 1379.75 Q95.3206 1379.75 92.2419 1375.16 Q89.1864 1370.56 89.1864 1361.83 Q89.1864 1353.08 92.2419 1348.5 Q95.3206 1343.89 101.131 1343.89 Z\" fill=\"#000000\" fill-rule=\"nonzero\" fill-opacity=\"1\" /><path clip-path=\"url(#clip770)\" d=\"M121.293 1373.19 L126.177 1373.19 L126.177 1379.07 L121.293 1379.07 L121.293 1373.19 Z\" fill=\"#000000\" fill-rule=\"nonzero\" fill-opacity=\"1\" /><path clip-path=\"url(#clip770)\" d=\"M140.39 1375.14 L156.709 1375.14 L156.709 1379.07 L134.765 1379.07 L134.765 1375.14 Q137.427 1372.38 142.01 1367.76 Q146.617 1363.1 147.797 1361.76 Q150.043 1359.24 150.922 1357.5 Q151.825 1355.74 151.825 1354.05 Q151.825 1351.3 149.88 1349.56 Q147.959 1347.82 144.857 1347.82 Q142.658 1347.82 140.205 1348.59 Q137.774 1349.35 134.996 1350.9 L134.996 1346.18 Q137.82 1345.05 140.274 1344.47 Q142.728 1343.89 144.765 1343.89 Q150.135 1343.89 153.33 1346.57 Q156.524 1349.26 156.524 1353.75 Q156.524 1355.88 155.714 1357.8 Q154.927 1359.7 152.82 1362.29 Q152.242 1362.96 149.14 1366.18 Q146.038 1369.38 140.39 1375.14 Z\" fill=\"#000000\" fill-rule=\"nonzero\" fill-opacity=\"1\" /><path clip-path=\"url(#clip770)\" d=\"M50.9921 959.442 L80.6679 959.442 L80.6679 963.377 L50.9921 963.377 L50.9921 959.442 Z\" fill=\"#000000\" fill-rule=\"nonzero\" fill-opacity=\"1\" /><path clip-path=\"url(#clip770)\" d=\"M100.76 944.789 Q97.1493 944.789 95.3206 948.354 Q93.515 951.896 93.515 959.025 Q93.515 966.132 95.3206 969.697 Q97.1493 973.238 100.76 973.238 Q104.395 973.238 106.2 969.697 Q108.029 966.132 108.029 959.025 Q108.029 951.896 106.2 948.354 Q104.395 944.789 100.76 944.789 M100.76 941.086 Q106.571 941.086 109.626 945.692 Q112.705 950.276 112.705 959.025 Q112.705 967.752 109.626 972.359 Q106.571 976.942 100.76 976.942 Q94.9502 976.942 91.8715 972.359 Q88.816 967.752 88.816 959.025 Q88.816 950.276 91.8715 945.692 Q94.9502 941.086 100.76 941.086 Z\" fill=\"#000000\" fill-rule=\"nonzero\" fill-opacity=\"1\" /><path clip-path=\"url(#clip770)\" d=\"M120.922 970.391 L125.807 970.391 L125.807 976.271 L120.922 976.271 L120.922 970.391 Z\" fill=\"#000000\" fill-rule=\"nonzero\" fill-opacity=\"1\" /><path clip-path=\"url(#clip770)\" d=\"M136.802 972.336 L144.441 972.336 L144.441 945.97 L136.131 947.637 L136.131 943.377 L144.394 941.711 L149.07 941.711 L149.07 972.336 L156.709 972.336 L156.709 976.271 L136.802 976.271 L136.802 972.336 Z\" fill=\"#000000\" fill-rule=\"nonzero\" fill-opacity=\"1\" /><path clip-path=\"url(#clip770)\" d=\"M99.5335 541.986 Q95.9224 541.986 94.0937 545.55 Q92.2882 549.092 92.2882 556.222 Q92.2882 563.328 94.0937 566.893 Q95.9224 570.435 99.5335 570.435 Q103.168 570.435 104.973 566.893 Q106.802 563.328 106.802 556.222 Q106.802 549.092 104.973 545.55 Q103.168 541.986 99.5335 541.986 M99.5335 538.282 Q105.344 538.282 108.399 542.888 Q111.478 547.472 111.478 556.222 Q111.478 564.948 108.399 569.555 Q105.344 574.138 99.5335 574.138 Q93.7234 574.138 90.6447 569.555 Q87.5892 564.948 87.5892 556.222 Q87.5892 547.472 90.6447 542.888 Q93.7234 538.282 99.5335 538.282 Z\" fill=\"#000000\" fill-rule=\"nonzero\" fill-opacity=\"1\" /><path clip-path=\"url(#clip770)\" d=\"M119.695 567.587 L124.58 567.587 L124.58 573.467 L119.695 573.467 L119.695 567.587 Z\" fill=\"#000000\" fill-rule=\"nonzero\" fill-opacity=\"1\" /><path clip-path=\"url(#clip770)\" d=\"M144.765 541.986 Q141.154 541.986 139.325 545.55 Q137.519 549.092 137.519 556.222 Q137.519 563.328 139.325 566.893 Q141.154 570.435 144.765 570.435 Q148.399 570.435 150.205 566.893 Q152.033 563.328 152.033 556.222 Q152.033 549.092 150.205 545.55 Q148.399 541.986 144.765 541.986 M144.765 538.282 Q150.575 538.282 153.63 542.888 Q156.709 547.472 156.709 556.222 Q156.709 564.948 153.63 569.555 Q150.575 574.138 144.765 574.138 Q138.955 574.138 135.876 569.555 Q132.82 564.948 132.82 556.222 Q132.82 547.472 135.876 542.888 Q138.955 538.282 144.765 538.282 Z\" fill=\"#000000\" fill-rule=\"nonzero\" fill-opacity=\"1\" /><path clip-path=\"url(#clip770)\" d=\"M100.76 139.182 Q97.1493 139.182 95.3206 142.747 Q93.515 146.288 93.515 153.418 Q93.515 160.524 95.3206 164.089 Q97.1493 167.631 100.76 167.631 Q104.395 167.631 106.2 164.089 Q108.029 160.524 108.029 153.418 Q108.029 146.288 106.2 142.747 Q104.395 139.182 100.76 139.182 M100.76 135.478 Q106.571 135.478 109.626 140.085 Q112.705 144.668 112.705 153.418 Q112.705 162.145 109.626 166.751 Q106.571 171.334 100.76 171.334 Q94.9502 171.334 91.8715 166.751 Q88.816 162.145 88.816 153.418 Q88.816 144.668 91.8715 140.085 Q94.9502 135.478 100.76 135.478 Z\" fill=\"#000000\" fill-rule=\"nonzero\" fill-opacity=\"1\" /><path clip-path=\"url(#clip770)\" d=\"M120.922 164.784 L125.807 164.784 L125.807 170.663 L120.922 170.663 L120.922 164.784 Z\" fill=\"#000000\" fill-rule=\"nonzero\" fill-opacity=\"1\" /><path clip-path=\"url(#clip770)\" d=\"M136.802 166.728 L144.441 166.728 L144.441 140.362 L136.131 142.029 L136.131 137.77 L144.394 136.103 L149.07 136.103 L149.07 166.728 L156.709 166.728 L156.709 170.663 L136.802 170.663 L136.802 166.728 Z\" fill=\"#000000\" fill-rule=\"nonzero\" fill-opacity=\"1\" /><polyline clip-path=\"url(#clip772)\" style=\"stroke:#009af9; stroke-linecap:round; stroke-linejoin:round; stroke-width:4; stroke-opacity:1; fill:none\" points=\"253.843,456.174 260.587,911.053 268.054,838.467 275.28,274.594 282.747,603.806 289.973,682.709 297.44,621.015 304.907,747.136 312.134,943.181 319.601,472.069 326.827,316.891 334.294,519.486 341.761,668.942 348.505,587.104 355.972,379.671 363.199,687.376 370.666,553.084 377.892,811.4 385.359,909.948 392.826,547.266 400.052,1025.67 407.519,271.047 414.745,343.04 422.212,754.291 429.679,676.535 436.424,629.097 443.891,573.604 451.117,214.096 458.584,331 465.81,481.465 473.277,469.024 480.744,463.082 487.97,531.792 495.438,320.042 502.664,496.321 510.131,309.689 517.598,488.718 524.583,483.941 532.05,579.276 539.276,651.922 546.743,525.031 553.969,477.247 561.437,687.218 568.904,531.714 576.13,473.417 583.597,458.906 590.823,342.424 598.29,403.284 605.757,642.544 612.501,418.982 619.969,645.928 627.195,646.059 634.662,481.656 641.888,515.676 649.355,409.914 656.822,525.721 664.048,436.754 671.515,666.181 678.741,412.124 686.208,458.32 693.675,362.629 700.42,562.098 707.887,472.356 715.113,424.305 722.58,718.191 729.806,557.926 737.273,528.788 744.74,453.086 751.967,509.516 759.434,407.879 766.66,443.87 774.127,467.303 781.594,516.315 788.338,577.448 795.805,476.214 803.031,381.224 810.499,438.168 817.725,568.062 825.192,618.17 832.659,567.349 839.885,345.555 847.352,402.032 854.578,738.339 862.045,601.024 869.512,900.403 876.498,544.803 883.965,615.732 891.191,337.514 898.658,493.72 905.884,901.315 913.351,662.171 920.818,643.956 928.044,1093.97 935.511,1445.72 942.737,829.91 950.204,412.784 957.672,915.936 964.416,971.247 971.883,237.353 979.109,106.729 986.576,173.598 993.802,578.836 1001.27,216.353 1008.74,414.642 1015.96,375.505 1023.43,618.92 1030.66,393.839 1038.12,473.624 1045.59,734.138 1052.33,505.2 1059.8,305.045 1067.03,549.416 1074.49,957.402 1081.72,682.232 1089.19,241.086 1096.65,699.521 1103.88,188.175 1111.35,413.179 1118.57,646.824 1126.04,271.519 1133.51,493.466 1140.25,440.569 1147.72,560.212 1154.95,394.672 1162.41,643.716 1169.64,620.161 1177.11,622.308 1184.57,861.733 1191.8,955.653 1199.27,146.201 1206.49,678.606 1213.96,564.334 1221.43,328.526 1228.41,358.456 1235.88,529.522 1243.11,602.516 1250.57,934.561 1257.8,362.003 1265.27,501.418 1272.73,469.542 1279.96,431.276 1287.43,583.125 1294.65,505.005 1302.12,465.967 1309.59,374.769 1316.33,556.814 1323.8,483.203 1331.02,442.73 1338.49,567.252 1345.72,675.677 1353.18,367.828 1360.65,640.995 1367.88,353.329 1375.34,397.459 1382.57,499.541 1390.04,487.289 1397.5,720.621 1404.25,366.156 1411.72,538.317 1418.94,518.022 1426.41,471.413 1433.64,481.053 1441.1,605.335 1448.57,468.185 1455.8,688.965 1463.26,527.928 1470.49,489.369 1477.96,634.673 1485.42,619.662 1492.17,337.96 1499.63,619.088 1506.86,440.979 1514.33,561.446 1521.55,652.149 1529.02,521.359 1536.49,842.233 1543.71,704.828 1551.18,251.839 1558.41,589.587 1565.87,629.492 1573.34,806.755 1580.33,583.991 1587.79,268.221 1595.02,497.162 1602.49,551.113 1609.71,580.645 1617.18,386.24 1624.65,542.658 1631.87,531.583 1639.34,625.145 1646.57,525.692 1654.03,470.098 1661.5,447.52 1668.24,444.744 1675.71,507.222 1682.94,493.886 1690.41,468.206 1697.63,537.913 1705.1,445.168 1712.57,540.781 1719.79,479.11 1727.26,473.399 1734.48,478.955 1741.95,491.763 1749.42,335.126 1756.16,729.007 1763.63,643.345 1770.86,517.908 1778.32,551.166 1785.55,578.05 1793.02,436.506 1800.48,524.677 1807.71,538.688 1815.18,869.953 1822.4,497.703 1829.87,850.384 1837.34,250.07 1844.08,449.858 1851.55,505.86 1858.77,422.416 1866.24,802.509 1873.47,300.701 1880.94,544.408 1888.4,652.885 1895.63,472.325 1903.1,447.423 1910.32,459.032 1917.79,416.787 1925.26,600.922 1932.24,895.429 1939.71,1140.37 1946.93,146.258 1954.4,384.709 1961.63,429.492 1969.09,348.602 1976.56,316.893 1983.79,688.206 1991.25,655.318 1998.48,87.9763 2005.95,373.382 2013.41,574.54 2020.16,463.958 2027.63,450.005 2034.85,383.812 2042.32,493.991 2049.55,503.452 2057.01,528.524 2064.48,456.608 2071.71,726.122 2079.17,355.651 2086.4,654.378 2093.87,398.197 2101.33,759.037 2108.08,661.593 2115.54,469.87 2122.77,892.24 2130.24,551.468 2137.46,910.904 2144.93,284.286 2152.4,707.284 2159.62,961.518 2167.09,320.152 2174.32,255.288 2181.78,717.887 2189.25,277.355 2196,673.319 2203.46,433.863 2210.69,498.709 2218.16,599.566 2225.38,328.85 2232.85,411.362 2240.32,670.35 2247.54,726.287 2255.01,679.159 2262.24,200.579 2269.7,367.21 2277.17,532.645 2284.16,386.935 2291.62,431.664 \"/>\n",
       "<path clip-path=\"url(#clip772)\" d=\"M465.81 2925.65 L465.81 -1391.96 L473.277 -1391.96 L473.277 2925.65 L465.81 2925.65  Z\" fill=\"#e26f46\" fill-rule=\"evenodd\" fill-opacity=\"0.3\"/>\n",
       "<polyline clip-path=\"url(#clip772)\" style=\"stroke:#000000; stroke-linecap:round; stroke-linejoin:round; stroke-width:0; stroke-opacity:0.3; fill:none\" points=\"465.81,2925.65 465.81,-1391.96 473.277,-1391.96 473.277,2925.65 465.81,2925.65 \"/>\n",
       "<path clip-path=\"url(#clip772)\" d=\"M480.744 2925.65 L480.744 -1391.96 L487.97 -1391.96 L487.97 2925.65 L480.744 2925.65  Z\" fill=\"#e26f46\" fill-rule=\"evenodd\" fill-opacity=\"0.3\"/>\n",
       "<polyline clip-path=\"url(#clip772)\" style=\"stroke:#000000; stroke-linecap:round; stroke-linejoin:round; stroke-width:0; stroke-opacity:0.3; fill:none\" points=\"480.744,2925.65 480.744,-1391.96 487.97,-1391.96 487.97,2925.65 480.744,2925.65 \"/>\n",
       "<path clip-path=\"url(#clip772)\" d=\"M495.438 2925.65 L495.438 -1391.96 L502.664 -1391.96 L502.664 2925.65 L495.438 2925.65  Z\" fill=\"#e26f46\" fill-rule=\"evenodd\" fill-opacity=\"0.3\"/>\n",
       "<polyline clip-path=\"url(#clip772)\" style=\"stroke:#000000; stroke-linecap:round; stroke-linejoin:round; stroke-width:0; stroke-opacity:0.3; fill:none\" points=\"495.438,2925.65 495.438,-1391.96 502.664,-1391.96 502.664,2925.65 495.438,2925.65 \"/>\n",
       "<path clip-path=\"url(#clip772)\" d=\"M510.131 2925.65 L510.131 -1391.96 L517.598 -1391.96 L517.598 2925.65 L510.131 2925.65  Z\" fill=\"#e26f46\" fill-rule=\"evenodd\" fill-opacity=\"0.3\"/>\n",
       "<polyline clip-path=\"url(#clip772)\" style=\"stroke:#000000; stroke-linecap:round; stroke-linejoin:round; stroke-width:0; stroke-opacity:0.3; fill:none\" points=\"510.131,2925.65 510.131,-1391.96 517.598,-1391.96 517.598,2925.65 510.131,2925.65 \"/>\n",
       "<path clip-path=\"url(#clip772)\" d=\"M524.583 2925.65 L524.583 -1391.96 L532.05 -1391.96 L532.05 2925.65 L524.583 2925.65  Z\" fill=\"#e26f46\" fill-rule=\"evenodd\" fill-opacity=\"0.3\"/>\n",
       "<polyline clip-path=\"url(#clip772)\" style=\"stroke:#000000; stroke-linecap:round; stroke-linejoin:round; stroke-width:0; stroke-opacity:0.3; fill:none\" points=\"524.583,2925.65 524.583,-1391.96 532.05,-1391.96 532.05,2925.65 524.583,2925.65 \"/>\n",
       "<path clip-path=\"url(#clip772)\" d=\"M539.276 2925.65 L539.276 -1391.96 L546.743 -1391.96 L546.743 2925.65 L539.276 2925.65  Z\" fill=\"#e26f46\" fill-rule=\"evenodd\" fill-opacity=\"0.3\"/>\n",
       "<polyline clip-path=\"url(#clip772)\" style=\"stroke:#000000; stroke-linecap:round; stroke-linejoin:round; stroke-width:0; stroke-opacity:0.3; fill:none\" points=\"539.276,2925.65 539.276,-1391.96 546.743,-1391.96 546.743,2925.65 539.276,2925.65 \"/>\n",
       "<path clip-path=\"url(#clip772)\" d=\"M553.969 2925.65 L553.969 -1391.96 L561.437 -1391.96 L561.437 2925.65 L553.969 2925.65  Z\" fill=\"#e26f46\" fill-rule=\"evenodd\" fill-opacity=\"0.3\"/>\n",
       "<polyline clip-path=\"url(#clip772)\" style=\"stroke:#000000; stroke-linecap:round; stroke-linejoin:round; stroke-width:0; stroke-opacity:0.3; fill:none\" points=\"553.969,2925.65 553.969,-1391.96 561.437,-1391.96 561.437,2925.65 553.969,2925.65 \"/>\n",
       "<path clip-path=\"url(#clip772)\" d=\"M568.904 2925.65 L568.904 -1391.96 L576.13 -1391.96 L576.13 2925.65 L568.904 2925.65  Z\" fill=\"#e26f46\" fill-rule=\"evenodd\" fill-opacity=\"0.3\"/>\n",
       "<polyline clip-path=\"url(#clip772)\" style=\"stroke:#000000; stroke-linecap:round; stroke-linejoin:round; stroke-width:0; stroke-opacity:0.3; fill:none\" points=\"568.904,2925.65 568.904,-1391.96 576.13,-1391.96 576.13,2925.65 568.904,2925.65 \"/>\n",
       "<path clip-path=\"url(#clip772)\" d=\"M583.597 2925.65 L583.597 -1391.96 L590.823 -1391.96 L590.823 2925.65 L583.597 2925.65  Z\" fill=\"#e26f46\" fill-rule=\"evenodd\" fill-opacity=\"0.3\"/>\n",
       "<polyline clip-path=\"url(#clip772)\" style=\"stroke:#000000; stroke-linecap:round; stroke-linejoin:round; stroke-width:0; stroke-opacity:0.3; fill:none\" points=\"583.597,2925.65 583.597,-1391.96 590.823,-1391.96 590.823,2925.65 583.597,2925.65 \"/>\n",
       "<path clip-path=\"url(#clip772)\" d=\"M598.29 2925.65 L598.29 -1391.96 L605.757 -1391.96 L605.757 2925.65 L598.29 2925.65  Z\" fill=\"#e26f46\" fill-rule=\"evenodd\" fill-opacity=\"0.3\"/>\n",
       "<polyline clip-path=\"url(#clip772)\" style=\"stroke:#000000; stroke-linecap:round; stroke-linejoin:round; stroke-width:0; stroke-opacity:0.3; fill:none\" points=\"598.29,2925.65 598.29,-1391.96 605.757,-1391.96 605.757,2925.65 598.29,2925.65 \"/>\n",
       "<path clip-path=\"url(#clip772)\" d=\"M612.501 2925.65 L612.501 -1391.96 L619.969 -1391.96 L619.969 2925.65 L612.501 2925.65  Z\" fill=\"#e26f46\" fill-rule=\"evenodd\" fill-opacity=\"0.3\"/>\n",
       "<polyline clip-path=\"url(#clip772)\" style=\"stroke:#000000; stroke-linecap:round; stroke-linejoin:round; stroke-width:0; stroke-opacity:0.3; fill:none\" points=\"612.501,2925.65 612.501,-1391.96 619.969,-1391.96 619.969,2925.65 612.501,2925.65 \"/>\n",
       "<path clip-path=\"url(#clip772)\" d=\"M627.195 2925.65 L627.195 -1391.96 L634.662 -1391.96 L634.662 2925.65 L627.195 2925.65  Z\" fill=\"#e26f46\" fill-rule=\"evenodd\" fill-opacity=\"0.3\"/>\n",
       "<polyline clip-path=\"url(#clip772)\" style=\"stroke:#000000; stroke-linecap:round; stroke-linejoin:round; stroke-width:0; stroke-opacity:0.3; fill:none\" points=\"627.195,2925.65 627.195,-1391.96 634.662,-1391.96 634.662,2925.65 627.195,2925.65 \"/>\n",
       "<path clip-path=\"url(#clip772)\" d=\"M641.888 2925.65 L641.888 -1391.96 L649.355 -1391.96 L649.355 2925.65 L641.888 2925.65  Z\" fill=\"#e26f46\" fill-rule=\"evenodd\" fill-opacity=\"0.3\"/>\n",
       "<polyline clip-path=\"url(#clip772)\" style=\"stroke:#000000; stroke-linecap:round; stroke-linejoin:round; stroke-width:0; stroke-opacity:0.3; fill:none\" points=\"641.888,2925.65 641.888,-1391.96 649.355,-1391.96 649.355,2925.65 641.888,2925.65 \"/>\n",
       "<path clip-path=\"url(#clip772)\" d=\"M656.822 2925.65 L656.822 -1391.96 L664.048 -1391.96 L664.048 2925.65 L656.822 2925.65  Z\" fill=\"#e26f46\" fill-rule=\"evenodd\" fill-opacity=\"0.3\"/>\n",
       "<polyline clip-path=\"url(#clip772)\" style=\"stroke:#000000; stroke-linecap:round; stroke-linejoin:round; stroke-width:0; stroke-opacity:0.3; fill:none\" points=\"656.822,2925.65 656.822,-1391.96 664.048,-1391.96 664.048,2925.65 656.822,2925.65 \"/>\n",
       "<path clip-path=\"url(#clip772)\" d=\"M671.515 2925.65 L671.515 -1391.96 L678.741 -1391.96 L678.741 2925.65 L671.515 2925.65  Z\" fill=\"#e26f46\" fill-rule=\"evenodd\" fill-opacity=\"0.3\"/>\n",
       "<polyline clip-path=\"url(#clip772)\" style=\"stroke:#000000; stroke-linecap:round; stroke-linejoin:round; stroke-width:0; stroke-opacity:0.3; fill:none\" points=\"671.515,2925.65 671.515,-1391.96 678.741,-1391.96 678.741,2925.65 671.515,2925.65 \"/>\n",
       "<path clip-path=\"url(#clip772)\" d=\"M686.208 2925.65 L686.208 -1391.96 L693.675 -1391.96 L693.675 2925.65 L686.208 2925.65  Z\" fill=\"#e26f46\" fill-rule=\"evenodd\" fill-opacity=\"0.3\"/>\n",
       "<polyline clip-path=\"url(#clip772)\" style=\"stroke:#000000; stroke-linecap:round; stroke-linejoin:round; stroke-width:0; stroke-opacity:0.3; fill:none\" points=\"686.208,2925.65 686.208,-1391.96 693.675,-1391.96 693.675,2925.65 686.208,2925.65 \"/>\n",
       "<path clip-path=\"url(#clip772)\" d=\"M700.42 2925.65 L700.42 -1391.96 L707.887 -1391.96 L707.887 2925.65 L700.42 2925.65  Z\" fill=\"#e26f46\" fill-rule=\"evenodd\" fill-opacity=\"0.3\"/>\n",
       "<polyline clip-path=\"url(#clip772)\" style=\"stroke:#000000; stroke-linecap:round; stroke-linejoin:round; stroke-width:0; stroke-opacity:0.3; fill:none\" points=\"700.42,2925.65 700.42,-1391.96 707.887,-1391.96 707.887,2925.65 700.42,2925.65 \"/>\n",
       "<path clip-path=\"url(#clip772)\" d=\"M715.113 2925.65 L715.113 -1391.96 L722.58 -1391.96 L722.58 2925.65 L715.113 2925.65  Z\" fill=\"#e26f46\" fill-rule=\"evenodd\" fill-opacity=\"0.3\"/>\n",
       "<polyline clip-path=\"url(#clip772)\" style=\"stroke:#000000; stroke-linecap:round; stroke-linejoin:round; stroke-width:0; stroke-opacity:0.3; fill:none\" points=\"715.113,2925.65 715.113,-1391.96 722.58,-1391.96 722.58,2925.65 715.113,2925.65 \"/>\n",
       "<path clip-path=\"url(#clip772)\" d=\"M729.806 2925.65 L729.806 -1391.96 L737.273 -1391.96 L737.273 2925.65 L729.806 2925.65  Z\" fill=\"#e26f46\" fill-rule=\"evenodd\" fill-opacity=\"0.3\"/>\n",
       "<polyline clip-path=\"url(#clip772)\" style=\"stroke:#000000; stroke-linecap:round; stroke-linejoin:round; stroke-width:0; stroke-opacity:0.3; fill:none\" points=\"729.806,2925.65 729.806,-1391.96 737.273,-1391.96 737.273,2925.65 729.806,2925.65 \"/>\n",
       "<path clip-path=\"url(#clip772)\" d=\"M744.74 2925.65 L744.74 -1391.96 L751.967 -1391.96 L751.967 2925.65 L744.74 2925.65  Z\" fill=\"#e26f46\" fill-rule=\"evenodd\" fill-opacity=\"0.3\"/>\n",
       "<polyline clip-path=\"url(#clip772)\" style=\"stroke:#000000; stroke-linecap:round; stroke-linejoin:round; stroke-width:0; stroke-opacity:0.3; fill:none\" points=\"744.74,2925.65 744.74,-1391.96 751.967,-1391.96 751.967,2925.65 744.74,2925.65 \"/>\n",
       "<path clip-path=\"url(#clip772)\" d=\"M759.434 2925.65 L759.434 -1391.96 L766.66 -1391.96 L766.66 2925.65 L759.434 2925.65  Z\" fill=\"#e26f46\" fill-rule=\"evenodd\" fill-opacity=\"0.3\"/>\n",
       "<polyline clip-path=\"url(#clip772)\" style=\"stroke:#000000; stroke-linecap:round; stroke-linejoin:round; stroke-width:0; stroke-opacity:0.3; fill:none\" points=\"759.434,2925.65 759.434,-1391.96 766.66,-1391.96 766.66,2925.65 759.434,2925.65 \"/>\n",
       "<path clip-path=\"url(#clip772)\" d=\"M774.127 2925.65 L774.127 -1391.96 L781.594 -1391.96 L781.594 2925.65 L774.127 2925.65  Z\" fill=\"#e26f46\" fill-rule=\"evenodd\" fill-opacity=\"0.3\"/>\n",
       "<polyline clip-path=\"url(#clip772)\" style=\"stroke:#000000; stroke-linecap:round; stroke-linejoin:round; stroke-width:0; stroke-opacity:0.3; fill:none\" points=\"774.127,2925.65 774.127,-1391.96 781.594,-1391.96 781.594,2925.65 774.127,2925.65 \"/>\n",
       "<path clip-path=\"url(#clip772)\" d=\"M788.338 2925.65 L788.338 -1391.96 L795.805 -1391.96 L795.805 2925.65 L788.338 2925.65  Z\" fill=\"#e26f46\" fill-rule=\"evenodd\" fill-opacity=\"0.3\"/>\n",
       "<polyline clip-path=\"url(#clip772)\" style=\"stroke:#000000; stroke-linecap:round; stroke-linejoin:round; stroke-width:0; stroke-opacity:0.3; fill:none\" points=\"788.338,2925.65 788.338,-1391.96 795.805,-1391.96 795.805,2925.65 788.338,2925.65 \"/>\n",
       "<path clip-path=\"url(#clip772)\" d=\"M803.031 2925.65 L803.031 -1391.96 L810.499 -1391.96 L810.499 2925.65 L803.031 2925.65  Z\" fill=\"#e26f46\" fill-rule=\"evenodd\" fill-opacity=\"0.3\"/>\n",
       "<polyline clip-path=\"url(#clip772)\" style=\"stroke:#000000; stroke-linecap:round; stroke-linejoin:round; stroke-width:0; stroke-opacity:0.3; fill:none\" points=\"803.031,2925.65 803.031,-1391.96 810.499,-1391.96 810.499,2925.65 803.031,2925.65 \"/>\n",
       "<path clip-path=\"url(#clip772)\" d=\"M817.725 2925.65 L817.725 -1391.96 L825.192 -1391.96 L825.192 2925.65 L817.725 2925.65  Z\" fill=\"#e26f46\" fill-rule=\"evenodd\" fill-opacity=\"0.3\"/>\n",
       "<polyline clip-path=\"url(#clip772)\" style=\"stroke:#000000; stroke-linecap:round; stroke-linejoin:round; stroke-width:0; stroke-opacity:0.3; fill:none\" points=\"817.725,2925.65 817.725,-1391.96 825.192,-1391.96 825.192,2925.65 817.725,2925.65 \"/>\n",
       "<path clip-path=\"url(#clip772)\" d=\"M832.659 2925.65 L832.659 -1391.96 L839.885 -1391.96 L839.885 2925.65 L832.659 2925.65  Z\" fill=\"#e26f46\" fill-rule=\"evenodd\" fill-opacity=\"0.3\"/>\n",
       "<polyline clip-path=\"url(#clip772)\" style=\"stroke:#000000; stroke-linecap:round; stroke-linejoin:round; stroke-width:0; stroke-opacity:0.3; fill:none\" points=\"832.659,2925.65 832.659,-1391.96 839.885,-1391.96 839.885,2925.65 832.659,2925.65 \"/>\n",
       "<path clip-path=\"url(#clip772)\" d=\"M847.352 2925.65 L847.352 -1391.96 L1257.8 -1391.96 L1257.8 2925.65 L847.352 2925.65  Z\" fill=\"#e26f46\" fill-rule=\"evenodd\" fill-opacity=\"0.3\"/>\n",
       "<polyline clip-path=\"url(#clip772)\" style=\"stroke:#000000; stroke-linecap:round; stroke-linejoin:round; stroke-width:0; stroke-opacity:0.3; fill:none\" points=\"847.352,2925.65 847.352,-1391.96 1257.8,-1391.96 1257.8,2925.65 847.352,2925.65 \"/>\n",
       "<path clip-path=\"url(#clip772)\" d=\"M1265.27 2925.65 L1265.27 -1391.96 L1272.73 -1391.96 L1272.73 2925.65 L1265.27 2925.65  Z\" fill=\"#e26f46\" fill-rule=\"evenodd\" fill-opacity=\"0.3\"/>\n",
       "<polyline clip-path=\"url(#clip772)\" style=\"stroke:#000000; stroke-linecap:round; stroke-linejoin:round; stroke-width:0; stroke-opacity:0.3; fill:none\" points=\"1265.27,2925.65 1265.27,-1391.96 1272.73,-1391.96 1272.73,2925.65 1265.27,2925.65 \"/>\n",
       "<path clip-path=\"url(#clip772)\" d=\"M1279.96 2925.65 L1279.96 -1391.96 L1287.43 -1391.96 L1287.43 2925.65 L1279.96 2925.65  Z\" fill=\"#e26f46\" fill-rule=\"evenodd\" fill-opacity=\"0.3\"/>\n",
       "<polyline clip-path=\"url(#clip772)\" style=\"stroke:#000000; stroke-linecap:round; stroke-linejoin:round; stroke-width:0; stroke-opacity:0.3; fill:none\" points=\"1279.96,2925.65 1279.96,-1391.96 1287.43,-1391.96 1287.43,2925.65 1279.96,2925.65 \"/>\n",
       "<path clip-path=\"url(#clip772)\" d=\"M1294.65 2925.65 L1294.65 -1391.96 L1302.12 -1391.96 L1302.12 2925.65 L1294.65 2925.65  Z\" fill=\"#e26f46\" fill-rule=\"evenodd\" fill-opacity=\"0.3\"/>\n",
       "<polyline clip-path=\"url(#clip772)\" style=\"stroke:#000000; stroke-linecap:round; stroke-linejoin:round; stroke-width:0; stroke-opacity:0.3; fill:none\" points=\"1294.65,2925.65 1294.65,-1391.96 1302.12,-1391.96 1302.12,2925.65 1294.65,2925.65 \"/>\n",
       "<path clip-path=\"url(#clip772)\" d=\"M1309.59 2925.65 L1309.59 -1391.96 L1316.33 -1391.96 L1316.33 2925.65 L1309.59 2925.65  Z\" fill=\"#e26f46\" fill-rule=\"evenodd\" fill-opacity=\"0.3\"/>\n",
       "<polyline clip-path=\"url(#clip772)\" style=\"stroke:#000000; stroke-linecap:round; stroke-linejoin:round; stroke-width:0; stroke-opacity:0.3; fill:none\" points=\"1309.59,2925.65 1309.59,-1391.96 1316.33,-1391.96 1316.33,2925.65 1309.59,2925.65 \"/>\n",
       "<path clip-path=\"url(#clip772)\" d=\"M1323.8 2925.65 L1323.8 -1391.96 L1331.02 -1391.96 L1331.02 2925.65 L1323.8 2925.65  Z\" fill=\"#e26f46\" fill-rule=\"evenodd\" fill-opacity=\"0.3\"/>\n",
       "<polyline clip-path=\"url(#clip772)\" style=\"stroke:#000000; stroke-linecap:round; stroke-linejoin:round; stroke-width:0; stroke-opacity:0.3; fill:none\" points=\"1323.8,2925.65 1323.8,-1391.96 1331.02,-1391.96 1331.02,2925.65 1323.8,2925.65 \"/>\n",
       "<path clip-path=\"url(#clip772)\" d=\"M1338.49 2925.65 L1338.49 -1391.96 L1345.72 -1391.96 L1345.72 2925.65 L1338.49 2925.65  Z\" fill=\"#e26f46\" fill-rule=\"evenodd\" fill-opacity=\"0.3\"/>\n",
       "<polyline clip-path=\"url(#clip772)\" style=\"stroke:#000000; stroke-linecap:round; stroke-linejoin:round; stroke-width:0; stroke-opacity:0.3; fill:none\" points=\"1338.49,2925.65 1338.49,-1391.96 1345.72,-1391.96 1345.72,2925.65 1338.49,2925.65 \"/>\n",
       "<path clip-path=\"url(#clip772)\" d=\"M1353.18 2925.65 L1353.18 -1391.96 L1360.65 -1391.96 L1360.65 2925.65 L1353.18 2925.65  Z\" fill=\"#e26f46\" fill-rule=\"evenodd\" fill-opacity=\"0.3\"/>\n",
       "<polyline clip-path=\"url(#clip772)\" style=\"stroke:#000000; stroke-linecap:round; stroke-linejoin:round; stroke-width:0; stroke-opacity:0.3; fill:none\" points=\"1353.18,2925.65 1353.18,-1391.96 1360.65,-1391.96 1360.65,2925.65 1353.18,2925.65 \"/>\n",
       "<path clip-path=\"url(#clip772)\" d=\"M1367.88 2925.65 L1367.88 -1391.96 L1375.34 -1391.96 L1375.34 2925.65 L1367.88 2925.65  Z\" fill=\"#e26f46\" fill-rule=\"evenodd\" fill-opacity=\"0.3\"/>\n",
       "<polyline clip-path=\"url(#clip772)\" style=\"stroke:#000000; stroke-linecap:round; stroke-linejoin:round; stroke-width:0; stroke-opacity:0.3; fill:none\" points=\"1367.88,2925.65 1367.88,-1391.96 1375.34,-1391.96 1375.34,2925.65 1367.88,2925.65 \"/>\n",
       "<path clip-path=\"url(#clip772)\" d=\"M1382.57 2925.65 L1382.57 -1391.96 L1390.04 -1391.96 L1390.04 2925.65 L1382.57 2925.65  Z\" fill=\"#e26f46\" fill-rule=\"evenodd\" fill-opacity=\"0.3\"/>\n",
       "<polyline clip-path=\"url(#clip772)\" style=\"stroke:#000000; stroke-linecap:round; stroke-linejoin:round; stroke-width:0; stroke-opacity:0.3; fill:none\" points=\"1382.57,2925.65 1382.57,-1391.96 1390.04,-1391.96 1390.04,2925.65 1382.57,2925.65 \"/>\n",
       "<path clip-path=\"url(#clip772)\" d=\"M1397.5 2925.65 L1397.5 -1391.96 L1404.25 -1391.96 L1404.25 2925.65 L1397.5 2925.65  Z\" fill=\"#e26f46\" fill-rule=\"evenodd\" fill-opacity=\"0.3\"/>\n",
       "<polyline clip-path=\"url(#clip772)\" style=\"stroke:#000000; stroke-linecap:round; stroke-linejoin:round; stroke-width:0; stroke-opacity:0.3; fill:none\" points=\"1397.5,2925.65 1397.5,-1391.96 1404.25,-1391.96 1404.25,2925.65 1397.5,2925.65 \"/>\n",
       "<path clip-path=\"url(#clip772)\" d=\"M1411.72 2925.65 L1411.72 -1391.96 L1418.94 -1391.96 L1418.94 2925.65 L1411.72 2925.65  Z\" fill=\"#e26f46\" fill-rule=\"evenodd\" fill-opacity=\"0.3\"/>\n",
       "<polyline clip-path=\"url(#clip772)\" style=\"stroke:#000000; stroke-linecap:round; stroke-linejoin:round; stroke-width:0; stroke-opacity:0.3; fill:none\" points=\"1411.72,2925.65 1411.72,-1391.96 1418.94,-1391.96 1418.94,2925.65 1411.72,2925.65 \"/>\n",
       "<path clip-path=\"url(#clip772)\" d=\"M1426.41 2925.65 L1426.41 -1391.96 L1433.64 -1391.96 L1433.64 2925.65 L1426.41 2925.65  Z\" fill=\"#e26f46\" fill-rule=\"evenodd\" fill-opacity=\"0.3\"/>\n",
       "<polyline clip-path=\"url(#clip772)\" style=\"stroke:#000000; stroke-linecap:round; stroke-linejoin:round; stroke-width:0; stroke-opacity:0.3; fill:none\" points=\"1426.41,2925.65 1426.41,-1391.96 1433.64,-1391.96 1433.64,2925.65 1426.41,2925.65 \"/>\n",
       "<path clip-path=\"url(#clip772)\" d=\"M1441.1 2925.65 L1441.1 -1391.96 L1448.57 -1391.96 L1448.57 2925.65 L1441.1 2925.65  Z\" fill=\"#e26f46\" fill-rule=\"evenodd\" fill-opacity=\"0.3\"/>\n",
       "<polyline clip-path=\"url(#clip772)\" style=\"stroke:#000000; stroke-linecap:round; stroke-linejoin:round; stroke-width:0; stroke-opacity:0.3; fill:none\" points=\"1441.1,2925.65 1441.1,-1391.96 1448.57,-1391.96 1448.57,2925.65 1441.1,2925.65 \"/>\n",
       "<path clip-path=\"url(#clip772)\" d=\"M1455.8 2925.65 L1455.8 -1391.96 L1463.26 -1391.96 L1463.26 2925.65 L1455.8 2925.65  Z\" fill=\"#e26f46\" fill-rule=\"evenodd\" fill-opacity=\"0.3\"/>\n",
       "<polyline clip-path=\"url(#clip772)\" style=\"stroke:#000000; stroke-linecap:round; stroke-linejoin:round; stroke-width:0; stroke-opacity:0.3; fill:none\" points=\"1455.8,2925.65 1455.8,-1391.96 1463.26,-1391.96 1463.26,2925.65 1455.8,2925.65 \"/>\n",
       "<path clip-path=\"url(#clip772)\" d=\"M1470.49 2925.65 L1470.49 -1391.96 L1477.96 -1391.96 L1477.96 2925.65 L1470.49 2925.65  Z\" fill=\"#e26f46\" fill-rule=\"evenodd\" fill-opacity=\"0.3\"/>\n",
       "<polyline clip-path=\"url(#clip772)\" style=\"stroke:#000000; stroke-linecap:round; stroke-linejoin:round; stroke-width:0; stroke-opacity:0.3; fill:none\" points=\"1470.49,2925.65 1470.49,-1391.96 1477.96,-1391.96 1477.96,2925.65 1470.49,2925.65 \"/>\n",
       "<path clip-path=\"url(#clip772)\" d=\"M1485.42 2925.65 L1485.42 -1391.96 L1492.17 -1391.96 L1492.17 2925.65 L1485.42 2925.65  Z\" fill=\"#e26f46\" fill-rule=\"evenodd\" fill-opacity=\"0.3\"/>\n",
       "<polyline clip-path=\"url(#clip772)\" style=\"stroke:#000000; stroke-linecap:round; stroke-linejoin:round; stroke-width:0; stroke-opacity:0.3; fill:none\" points=\"1485.42,2925.65 1485.42,-1391.96 1492.17,-1391.96 1492.17,2925.65 1485.42,2925.65 \"/>\n",
       "<path clip-path=\"url(#clip772)\" d=\"M1499.63 2925.65 L1499.63 -1391.96 L1506.86 -1391.96 L1506.86 2925.65 L1499.63 2925.65  Z\" fill=\"#e26f46\" fill-rule=\"evenodd\" fill-opacity=\"0.3\"/>\n",
       "<polyline clip-path=\"url(#clip772)\" style=\"stroke:#000000; stroke-linecap:round; stroke-linejoin:round; stroke-width:0; stroke-opacity:0.3; fill:none\" points=\"1499.63,2925.65 1499.63,-1391.96 1506.86,-1391.96 1506.86,2925.65 1499.63,2925.65 \"/>\n",
       "<path clip-path=\"url(#clip772)\" d=\"M1514.33 2925.65 L1514.33 -1391.96 L1521.55 -1391.96 L1521.55 2925.65 L1514.33 2925.65  Z\" fill=\"#e26f46\" fill-rule=\"evenodd\" fill-opacity=\"0.3\"/>\n",
       "<polyline clip-path=\"url(#clip772)\" style=\"stroke:#000000; stroke-linecap:round; stroke-linejoin:round; stroke-width:0; stroke-opacity:0.3; fill:none\" points=\"1514.33,2925.65 1514.33,-1391.96 1521.55,-1391.96 1521.55,2925.65 1514.33,2925.65 \"/>\n",
       "<path clip-path=\"url(#clip772)\" d=\"M1529.02 2925.65 L1529.02 -1391.96 L1595.02 -1391.96 L1595.02 2925.65 L1529.02 2925.65  Z\" fill=\"#e26f46\" fill-rule=\"evenodd\" fill-opacity=\"0.3\"/>\n",
       "<polyline clip-path=\"url(#clip772)\" style=\"stroke:#000000; stroke-linecap:round; stroke-linejoin:round; stroke-width:0; stroke-opacity:0.3; fill:none\" points=\"1529.02,2925.65 1529.02,-1391.96 1595.02,-1391.96 1595.02,2925.65 1529.02,2925.65 \"/>\n",
       "<path clip-path=\"url(#clip772)\" d=\"M1602.49 2925.65 L1602.49 -1391.96 L1609.71 -1391.96 L1609.71 2925.65 L1602.49 2925.65  Z\" fill=\"#e26f46\" fill-rule=\"evenodd\" fill-opacity=\"0.3\"/>\n",
       "<polyline clip-path=\"url(#clip772)\" style=\"stroke:#000000; stroke-linecap:round; stroke-linejoin:round; stroke-width:0; stroke-opacity:0.3; fill:none\" points=\"1602.49,2925.65 1602.49,-1391.96 1609.71,-1391.96 1609.71,2925.65 1602.49,2925.65 \"/>\n",
       "<path clip-path=\"url(#clip772)\" d=\"M1617.18 2925.65 L1617.18 -1391.96 L1624.65 -1391.96 L1624.65 2925.65 L1617.18 2925.65  Z\" fill=\"#e26f46\" fill-rule=\"evenodd\" fill-opacity=\"0.3\"/>\n",
       "<polyline clip-path=\"url(#clip772)\" style=\"stroke:#000000; stroke-linecap:round; stroke-linejoin:round; stroke-width:0; stroke-opacity:0.3; fill:none\" points=\"1617.18,2925.65 1617.18,-1391.96 1624.65,-1391.96 1624.65,2925.65 1617.18,2925.65 \"/>\n",
       "<path clip-path=\"url(#clip772)\" d=\"M1631.87 2925.65 L1631.87 -1391.96 L1639.34 -1391.96 L1639.34 2925.65 L1631.87 2925.65  Z\" fill=\"#e26f46\" fill-rule=\"evenodd\" fill-opacity=\"0.3\"/>\n",
       "<polyline clip-path=\"url(#clip772)\" style=\"stroke:#000000; stroke-linecap:round; stroke-linejoin:round; stroke-width:0; stroke-opacity:0.3; fill:none\" points=\"1631.87,2925.65 1631.87,-1391.96 1639.34,-1391.96 1639.34,2925.65 1631.87,2925.65 \"/>\n",
       "<path clip-path=\"url(#clip772)\" d=\"M1646.57 2925.65 L1646.57 -1391.96 L1654.03 -1391.96 L1654.03 2925.65 L1646.57 2925.65  Z\" fill=\"#e26f46\" fill-rule=\"evenodd\" fill-opacity=\"0.3\"/>\n",
       "<polyline clip-path=\"url(#clip772)\" style=\"stroke:#000000; stroke-linecap:round; stroke-linejoin:round; stroke-width:0; stroke-opacity:0.3; fill:none\" points=\"1646.57,2925.65 1646.57,-1391.96 1654.03,-1391.96 1654.03,2925.65 1646.57,2925.65 \"/>\n",
       "<path clip-path=\"url(#clip772)\" d=\"M1661.5 2925.65 L1661.5 -1391.96 L1668.24 -1391.96 L1668.24 2925.65 L1661.5 2925.65  Z\" fill=\"#e26f46\" fill-rule=\"evenodd\" fill-opacity=\"0.3\"/>\n",
       "<polyline clip-path=\"url(#clip772)\" style=\"stroke:#000000; stroke-linecap:round; stroke-linejoin:round; stroke-width:0; stroke-opacity:0.3; fill:none\" points=\"1661.5,2925.65 1661.5,-1391.96 1668.24,-1391.96 1668.24,2925.65 1661.5,2925.65 \"/>\n",
       "<path clip-path=\"url(#clip772)\" d=\"M1675.71 2925.65 L1675.71 -1391.96 L1682.94 -1391.96 L1682.94 2925.65 L1675.71 2925.65  Z\" fill=\"#e26f46\" fill-rule=\"evenodd\" fill-opacity=\"0.3\"/>\n",
       "<polyline clip-path=\"url(#clip772)\" style=\"stroke:#000000; stroke-linecap:round; stroke-linejoin:round; stroke-width:0; stroke-opacity:0.3; fill:none\" points=\"1675.71,2925.65 1675.71,-1391.96 1682.94,-1391.96 1682.94,2925.65 1675.71,2925.65 \"/>\n",
       "<path clip-path=\"url(#clip772)\" d=\"M1690.41 2925.65 L1690.41 -1391.96 L1697.63 -1391.96 L1697.63 2925.65 L1690.41 2925.65  Z\" fill=\"#e26f46\" fill-rule=\"evenodd\" fill-opacity=\"0.3\"/>\n",
       "<polyline clip-path=\"url(#clip772)\" style=\"stroke:#000000; stroke-linecap:round; stroke-linejoin:round; stroke-width:0; stroke-opacity:0.3; fill:none\" points=\"1690.41,2925.65 1690.41,-1391.96 1697.63,-1391.96 1697.63,2925.65 1690.41,2925.65 \"/>\n",
       "<path clip-path=\"url(#clip772)\" d=\"M1705.1 2925.65 L1705.1 -1391.96 L1712.57 -1391.96 L1712.57 2925.65 L1705.1 2925.65  Z\" fill=\"#e26f46\" fill-rule=\"evenodd\" fill-opacity=\"0.3\"/>\n",
       "<polyline clip-path=\"url(#clip772)\" style=\"stroke:#000000; stroke-linecap:round; stroke-linejoin:round; stroke-width:0; stroke-opacity:0.3; fill:none\" points=\"1705.1,2925.65 1705.1,-1391.96 1712.57,-1391.96 1712.57,2925.65 1705.1,2925.65 \"/>\n",
       "<path clip-path=\"url(#clip772)\" d=\"M1719.79 2925.65 L1719.79 -1391.96 L1727.26 -1391.96 L1727.26 2925.65 L1719.79 2925.65  Z\" fill=\"#e26f46\" fill-rule=\"evenodd\" fill-opacity=\"0.3\"/>\n",
       "<polyline clip-path=\"url(#clip772)\" style=\"stroke:#000000; stroke-linecap:round; stroke-linejoin:round; stroke-width:0; stroke-opacity:0.3; fill:none\" points=\"1719.79,2925.65 1719.79,-1391.96 1727.26,-1391.96 1727.26,2925.65 1719.79,2925.65 \"/>\n",
       "<path clip-path=\"url(#clip772)\" d=\"M1734.48 2925.65 L1734.48 -1391.96 L1741.95 -1391.96 L1741.95 2925.65 L1734.48 2925.65  Z\" fill=\"#e26f46\" fill-rule=\"evenodd\" fill-opacity=\"0.3\"/>\n",
       "<polyline clip-path=\"url(#clip772)\" style=\"stroke:#000000; stroke-linecap:round; stroke-linejoin:round; stroke-width:0; stroke-opacity:0.3; fill:none\" points=\"1734.48,2925.65 1734.48,-1391.96 1741.95,-1391.96 1741.95,2925.65 1734.48,2925.65 \"/>\n",
       "<path clip-path=\"url(#clip772)\" d=\"M1749.42 2925.65 L1749.42 -1391.96 L1756.16 -1391.96 L1756.16 2925.65 L1749.42 2925.65  Z\" fill=\"#e26f46\" fill-rule=\"evenodd\" fill-opacity=\"0.3\"/>\n",
       "<polyline clip-path=\"url(#clip772)\" style=\"stroke:#000000; stroke-linecap:round; stroke-linejoin:round; stroke-width:0; stroke-opacity:0.3; fill:none\" points=\"1749.42,2925.65 1749.42,-1391.96 1756.16,-1391.96 1756.16,2925.65 1749.42,2925.65 \"/>\n",
       "<path clip-path=\"url(#clip772)\" d=\"M1763.63 2925.65 L1763.63 -1391.96 L1770.86 -1391.96 L1770.86 2925.65 L1763.63 2925.65  Z\" fill=\"#e26f46\" fill-rule=\"evenodd\" fill-opacity=\"0.3\"/>\n",
       "<polyline clip-path=\"url(#clip772)\" style=\"stroke:#000000; stroke-linecap:round; stroke-linejoin:round; stroke-width:0; stroke-opacity:0.3; fill:none\" points=\"1763.63,2925.65 1763.63,-1391.96 1770.86,-1391.96 1770.86,2925.65 1763.63,2925.65 \"/>\n",
       "<path clip-path=\"url(#clip772)\" d=\"M1778.32 2925.65 L1778.32 -1391.96 L1785.55 -1391.96 L1785.55 2925.65 L1778.32 2925.65  Z\" fill=\"#e26f46\" fill-rule=\"evenodd\" fill-opacity=\"0.3\"/>\n",
       "<polyline clip-path=\"url(#clip772)\" style=\"stroke:#000000; stroke-linecap:round; stroke-linejoin:round; stroke-width:0; stroke-opacity:0.3; fill:none\" points=\"1778.32,2925.65 1778.32,-1391.96 1785.55,-1391.96 1785.55,2925.65 1778.32,2925.65 \"/>\n",
       "<path clip-path=\"url(#clip772)\" d=\"M1793.02 2925.65 L1793.02 -1391.96 L1800.48 -1391.96 L1800.48 2925.65 L1793.02 2925.65  Z\" fill=\"#e26f46\" fill-rule=\"evenodd\" fill-opacity=\"0.3\"/>\n",
       "<polyline clip-path=\"url(#clip772)\" style=\"stroke:#000000; stroke-linecap:round; stroke-linejoin:round; stroke-width:0; stroke-opacity:0.3; fill:none\" points=\"1793.02,2925.65 1793.02,-1391.96 1800.48,-1391.96 1800.48,2925.65 1793.02,2925.65 \"/>\n",
       "<path clip-path=\"url(#clip772)\" d=\"M1807.71 2925.65 L1807.71 -1391.96 L2005.95 -1391.96 L2005.95 2925.65 L1807.71 2925.65  Z\" fill=\"#e26f46\" fill-rule=\"evenodd\" fill-opacity=\"0.3\"/>\n",
       "<polyline clip-path=\"url(#clip772)\" style=\"stroke:#000000; stroke-linecap:round; stroke-linejoin:round; stroke-width:0; stroke-opacity:0.3; fill:none\" points=\"1807.71,2925.65 1807.71,-1391.96 2005.95,-1391.96 2005.95,2925.65 1807.71,2925.65 \"/>\n",
       "<path clip-path=\"url(#clip772)\" d=\"M2013.41 2925.65 L2013.41 -1391.96 L2020.16 -1391.96 L2020.16 2925.65 L2013.41 2925.65  Z\" fill=\"#e26f46\" fill-rule=\"evenodd\" fill-opacity=\"0.3\"/>\n",
       "<polyline clip-path=\"url(#clip772)\" style=\"stroke:#000000; stroke-linecap:round; stroke-linejoin:round; stroke-width:0; stroke-opacity:0.3; fill:none\" points=\"2013.41,2925.65 2013.41,-1391.96 2020.16,-1391.96 2020.16,2925.65 2013.41,2925.65 \"/>\n",
       "<path clip-path=\"url(#clip772)\" d=\"M2027.63 2925.65 L2027.63 -1391.96 L2034.85 -1391.96 L2034.85 2925.65 L2027.63 2925.65  Z\" fill=\"#e26f46\" fill-rule=\"evenodd\" fill-opacity=\"0.3\"/>\n",
       "<polyline clip-path=\"url(#clip772)\" style=\"stroke:#000000; stroke-linecap:round; stroke-linejoin:round; stroke-width:0; stroke-opacity:0.3; fill:none\" points=\"2027.63,2925.65 2027.63,-1391.96 2034.85,-1391.96 2034.85,2925.65 2027.63,2925.65 \"/>\n",
       "<path clip-path=\"url(#clip772)\" d=\"M2042.32 2925.65 L2042.32 -1391.96 L2049.55 -1391.96 L2049.55 2925.65 L2042.32 2925.65  Z\" fill=\"#e26f46\" fill-rule=\"evenodd\" fill-opacity=\"0.3\"/>\n",
       "<polyline clip-path=\"url(#clip772)\" style=\"stroke:#000000; stroke-linecap:round; stroke-linejoin:round; stroke-width:0; stroke-opacity:0.3; fill:none\" points=\"2042.32,2925.65 2042.32,-1391.96 2049.55,-1391.96 2049.55,2925.65 2042.32,2925.65 \"/>\n",
       "<path clip-path=\"url(#clip772)\" d=\"M2057.01 2925.65 L2057.01 -1391.96 L2064.48 -1391.96 L2064.48 2925.65 L2057.01 2925.65  Z\" fill=\"#e26f46\" fill-rule=\"evenodd\" fill-opacity=\"0.3\"/>\n",
       "<polyline clip-path=\"url(#clip772)\" style=\"stroke:#000000; stroke-linecap:round; stroke-linejoin:round; stroke-width:0; stroke-opacity:0.3; fill:none\" points=\"2057.01,2925.65 2057.01,-1391.96 2064.48,-1391.96 2064.48,2925.65 2057.01,2925.65 \"/>\n",
       "<path clip-path=\"url(#clip770)\" d=\"M264.711 1438.47 L711.686 1438.47 L711.686 1282.95 L264.711 1282.95  Z\" fill=\"#ffffff\" fill-rule=\"evenodd\" fill-opacity=\"1\"/>\n",
       "<polyline clip-path=\"url(#clip770)\" style=\"stroke:#000000; stroke-linecap:round; stroke-linejoin:round; stroke-width:4; stroke-opacity:1; fill:none\" points=\"264.711,1438.47 711.686,1438.47 711.686,1282.95 264.711,1282.95 264.711,1438.47 \"/>\n",
       "<polyline clip-path=\"url(#clip770)\" style=\"stroke:#009af9; stroke-linecap:round; stroke-linejoin:round; stroke-width:4; stroke-opacity:1; fill:none\" points=\"288.711,1334.79 432.714,1334.79 \"/>\n",
       "<path clip-path=\"url(#clip770)\" d=\"M472.548 1322.12 L466.206 1339.32 L478.914 1339.32 L472.548 1322.12 M469.909 1317.51 L475.21 1317.51 L488.381 1352.07 L483.52 1352.07 L480.372 1343.21 L464.794 1343.21 L461.645 1352.07 L456.715 1352.07 L469.909 1317.51 Z\" fill=\"#000000\" fill-rule=\"nonzero\" fill-opacity=\"1\" /><path clip-path=\"url(#clip770)\" d=\"M518.474 1320.18 L518.474 1325.11 Q516.113 1322.91 513.428 1321.82 Q510.766 1320.73 507.756 1320.73 Q501.83 1320.73 498.682 1324.37 Q495.534 1327.98 495.534 1334.83 Q495.534 1341.66 498.682 1345.29 Q501.83 1348.9 507.756 1348.9 Q510.766 1348.9 513.428 1347.82 Q516.113 1346.73 518.474 1344.53 L518.474 1349.41 Q516.02 1351.08 513.265 1351.91 Q510.534 1352.75 507.478 1352.75 Q499.631 1352.75 495.117 1347.95 Q490.604 1343.14 490.604 1334.83 Q490.604 1326.5 495.117 1321.7 Q499.631 1316.89 507.478 1316.89 Q510.58 1316.89 513.312 1317.72 Q516.066 1318.53 518.474 1320.18 Z\" fill=\"#000000\" fill-rule=\"nonzero\" fill-opacity=\"1\" /><path clip-path=\"url(#clip770)\" d=\"M522.617 1317.51 L527.339 1317.51 L534.608 1346.73 L541.853 1317.51 L547.108 1317.51 L554.376 1346.73 L561.622 1317.51 L566.367 1317.51 L557.687 1352.07 L551.807 1352.07 L544.515 1322.07 L537.154 1352.07 L531.275 1352.07 L522.617 1317.51 Z\" fill=\"#000000\" fill-rule=\"nonzero\" fill-opacity=\"1\" /><path clip-path=\"url(#clip770)\" d=\"M572.571 1317.51 L577.247 1317.51 L577.247 1352.07 L572.571 1352.07 L572.571 1317.51 Z\" fill=\"#000000\" fill-rule=\"nonzero\" fill-opacity=\"1\" /><path clip-path=\"url(#clip770)\" d=\"M606.066 1359.94 L606.066 1363.25 L581.436 1363.25 L581.436 1359.94 L606.066 1359.94 Z\" fill=\"#000000\" fill-rule=\"nonzero\" fill-opacity=\"1\" /><path clip-path=\"url(#clip770)\" d=\"M610.256 1317.51 L616.552 1317.51 L631.876 1346.43 L631.876 1317.51 L636.413 1317.51 L636.413 1352.07 L630.117 1352.07 L614.793 1323.16 L614.793 1352.07 L610.256 1352.07 L610.256 1317.51 Z\" fill=\"#000000\" fill-rule=\"nonzero\" fill-opacity=\"1\" /><path clip-path=\"url(#clip770)\" d=\"M667.709 1338.05 L667.709 1340.13 L648.126 1340.13 Q648.404 1344.53 650.765 1346.84 Q653.149 1349.13 657.385 1349.13 Q659.839 1349.13 662.13 1348.53 Q664.445 1347.93 666.714 1346.73 L666.714 1350.75 Q664.422 1351.73 662.015 1352.24 Q659.607 1352.75 657.13 1352.75 Q650.927 1352.75 647.293 1349.13 Q643.681 1345.52 643.681 1339.37 Q643.681 1333 647.107 1329.27 Q650.556 1325.52 656.39 1325.52 Q661.621 1325.52 664.654 1328.9 Q667.709 1332.26 667.709 1338.05 M663.45 1336.8 Q663.404 1333.3 661.482 1331.22 Q659.584 1329.13 656.436 1329.13 Q652.871 1329.13 650.718 1331.15 Q648.589 1333.16 648.265 1336.82 L663.45 1336.8 Z\" fill=\"#000000\" fill-rule=\"nonzero\" fill-opacity=\"1\" /><path clip-path=\"url(#clip770)\" d=\"M678.913 1318.79 L678.913 1326.15 L687.686 1326.15 L687.686 1329.46 L678.913 1329.46 L678.913 1343.53 Q678.913 1346.7 679.769 1347.61 Q680.649 1348.51 683.311 1348.51 L687.686 1348.51 L687.686 1352.07 L683.311 1352.07 Q678.38 1352.07 676.505 1350.25 Q674.63 1348.39 674.63 1343.53 L674.63 1329.46 L671.505 1329.46 L671.505 1326.15 L674.63 1326.15 L674.63 1318.79 L678.913 1318.79 Z\" fill=\"#000000\" fill-rule=\"nonzero\" fill-opacity=\"1\" /><path clip-path=\"url(#clip770)\" d=\"M288.711 1407.37 L432.714 1407.37 L432.714 1365.9 L288.711 1365.9 L288.711 1407.37  Z\" fill=\"#e26f46\" fill-rule=\"evenodd\" fill-opacity=\"0.3\"/>\n",
       "<polyline clip-path=\"url(#clip770)\" style=\"stroke:#000000; stroke-linecap:round; stroke-linejoin:round; stroke-width:0.8; stroke-opacity:1; fill:none\" points=\"288.711,1407.37 432.714,1407.37 432.714,1365.9 288.711,1365.9 288.711,1407.37 \"/>\n",
       "<path clip-path=\"url(#clip770)\" d=\"M470.557 1406.32 Q468.752 1410.95 467.039 1412.36 Q465.326 1413.78 462.456 1413.78 L459.053 1413.78 L459.053 1410.21 L461.553 1410.21 Q463.312 1410.21 464.284 1409.38 Q465.256 1408.54 466.437 1405.44 L467.201 1403.5 L456.715 1377.99 L461.229 1377.99 L469.331 1398.27 L477.432 1377.99 L481.946 1377.99 L470.557 1406.32 Z\" fill=\"#000000\" fill-rule=\"nonzero\" fill-opacity=\"1\" /><path clip-path=\"url(#clip770)\" d=\"M492.455 1399.98 L508.775 1399.98 L508.775 1403.91 L486.83 1403.91 L486.83 1399.98 Q489.492 1397.22 494.076 1392.6 Q498.682 1387.94 499.863 1386.6 Q502.108 1384.08 502.988 1382.34 Q503.891 1380.58 503.891 1378.89 Q503.891 1376.14 501.946 1374.4 Q500.025 1372.66 496.923 1372.66 Q494.724 1372.66 492.27 1373.43 Q489.84 1374.19 487.062 1375.74 L487.062 1371.02 Q489.886 1369.89 492.34 1369.31 Q494.793 1368.73 496.83 1368.73 Q502.201 1368.73 505.395 1371.41 Q508.59 1374.1 508.59 1378.59 Q508.59 1380.72 507.779 1382.64 Q506.992 1384.54 504.886 1387.13 Q504.307 1387.8 501.205 1391.02 Q498.104 1394.22 492.455 1399.98 Z\" fill=\"#000000\" fill-rule=\"nonzero\" fill-opacity=\"1\" /></svg>\n"
      ],
      "text/html": [
       "<?xml version=\"1.0\" encoding=\"utf-8\"?>\n",
       "<svg xmlns=\"http://www.w3.org/2000/svg\" xmlns:xlink=\"http://www.w3.org/1999/xlink\" width=\"600\" height=\"400\" viewBox=\"0 0 2400 1600\">\n",
       "<defs>\n",
       "  <clipPath id=\"clip820\">\n",
       "    <rect x=\"0\" y=\"0\" width=\"2400\" height=\"1600\"/>\n",
       "  </clipPath>\n",
       "</defs>\n",
       "<path clip-path=\"url(#clip820)\" d=\"M0 1600 L2400 1600 L2400 0 L0 0  Z\" fill=\"#ffffff\" fill-rule=\"evenodd\" fill-opacity=\"1\"/>\n",
       "<defs>\n",
       "  <clipPath id=\"clip821\">\n",
       "    <rect x=\"480\" y=\"0\" width=\"1681\" height=\"1600\"/>\n",
       "  </clipPath>\n",
       "</defs>\n",
       "<path clip-path=\"url(#clip820)\" d=\"M192.709 1486.45 L2352.76 1486.45 L2352.76 47.2441 L192.709 47.2441  Z\" fill=\"#ffffff\" fill-rule=\"evenodd\" fill-opacity=\"1\"/>\n",
       "<defs>\n",
       "  <clipPath id=\"clip822\">\n",
       "    <rect x=\"192\" y=\"47\" width=\"2161\" height=\"1440\"/>\n",
       "  </clipPath>\n",
       "</defs>\n",
       "<polyline clip-path=\"url(#clip822)\" style=\"stroke:#000000; stroke-linecap:round; stroke-linejoin:round; stroke-width:2; stroke-opacity:0.1; fill:none\" points=\"246.616,1486.45 246.616,47.2441 \"/>\n",
       "<polyline clip-path=\"url(#clip822)\" style=\"stroke:#000000; stroke-linecap:round; stroke-linejoin:round; stroke-width:2; stroke-opacity:0.1; fill:none\" points=\"774.368,1486.45 774.368,47.2441 \"/>\n",
       "<polyline clip-path=\"url(#clip822)\" style=\"stroke:#000000; stroke-linecap:round; stroke-linejoin:round; stroke-width:2; stroke-opacity:0.1; fill:none\" points=\"1302.36,1486.45 1302.36,47.2441 \"/>\n",
       "<polyline clip-path=\"url(#clip822)\" style=\"stroke:#000000; stroke-linecap:round; stroke-linejoin:round; stroke-width:2; stroke-opacity:0.1; fill:none\" points=\"1830.11,1486.45 1830.11,47.2441 \"/>\n",
       "<polyline clip-path=\"url(#clip820)\" style=\"stroke:#000000; stroke-linecap:round; stroke-linejoin:round; stroke-width:4; stroke-opacity:1; fill:none\" points=\"192.709,1486.45 2352.76,1486.45 \"/>\n",
       "<polyline clip-path=\"url(#clip820)\" style=\"stroke:#000000; stroke-linecap:round; stroke-linejoin:round; stroke-width:4; stroke-opacity:1; fill:none\" points=\"246.616,1486.45 246.616,1467.55 \"/>\n",
       "<polyline clip-path=\"url(#clip820)\" style=\"stroke:#000000; stroke-linecap:round; stroke-linejoin:round; stroke-width:4; stroke-opacity:1; fill:none\" points=\"774.368,1486.45 774.368,1467.55 \"/>\n",
       "<polyline clip-path=\"url(#clip820)\" style=\"stroke:#000000; stroke-linecap:round; stroke-linejoin:round; stroke-width:4; stroke-opacity:1; fill:none\" points=\"1302.36,1486.45 1302.36,1467.55 \"/>\n",
       "<polyline clip-path=\"url(#clip820)\" style=\"stroke:#000000; stroke-linecap:round; stroke-linejoin:round; stroke-width:4; stroke-opacity:1; fill:none\" points=\"1830.11,1486.45 1830.11,1467.55 \"/>\n",
       "<path clip-path=\"url(#clip820)\" d=\"M118.411 1544.91 L134.73 1544.91 L134.73 1548.85 L112.786 1548.85 L112.786 1544.91 Q115.448 1542.16 120.031 1537.53 Q124.638 1532.88 125.818 1531.53 Q128.064 1529.01 128.943 1527.27 Q129.846 1525.51 129.846 1523.82 Q129.846 1521.07 127.902 1519.33 Q125.98 1517.6 122.879 1517.6 Q120.68 1517.6 118.226 1518.36 Q115.795 1519.13 113.018 1520.68 L113.018 1515.95 Q115.842 1514.82 118.295 1514.24 Q120.749 1513.66 122.786 1513.66 Q128.156 1513.66 131.351 1516.35 Q134.545 1519.03 134.545 1523.52 Q134.545 1525.65 133.735 1527.57 Q132.948 1529.47 130.842 1532.07 Q130.263 1532.74 127.161 1535.95 Q124.059 1539.15 118.411 1544.91 Z\" fill=\"#000000\" fill-rule=\"nonzero\" fill-opacity=\"1\" /><path clip-path=\"url(#clip820)\" d=\"M154.545 1517.37 Q150.934 1517.37 149.105 1520.93 Q147.3 1524.47 147.3 1531.6 Q147.3 1538.71 149.105 1542.27 Q150.934 1545.82 154.545 1545.82 Q158.179 1545.82 159.985 1542.27 Q161.814 1538.71 161.814 1531.6 Q161.814 1524.47 159.985 1520.93 Q158.179 1517.37 154.545 1517.37 M154.545 1513.66 Q160.355 1513.66 163.411 1518.27 Q166.489 1522.85 166.489 1531.6 Q166.489 1540.33 163.411 1544.94 Q160.355 1549.52 154.545 1549.52 Q148.735 1549.52 145.656 1544.94 Q142.601 1540.33 142.601 1531.6 Q142.601 1522.85 145.656 1518.27 Q148.735 1513.66 154.545 1513.66 Z\" fill=\"#000000\" fill-rule=\"nonzero\" fill-opacity=\"1\" /><path clip-path=\"url(#clip820)\" d=\"M184.707 1517.37 Q181.096 1517.37 179.267 1520.93 Q177.462 1524.47 177.462 1531.6 Q177.462 1538.71 179.267 1542.27 Q181.096 1545.82 184.707 1545.82 Q188.341 1545.82 190.147 1542.27 Q191.975 1538.71 191.975 1531.6 Q191.975 1524.47 190.147 1520.93 Q188.341 1517.37 184.707 1517.37 M184.707 1513.66 Q190.517 1513.66 193.573 1518.27 Q196.651 1522.85 196.651 1531.6 Q196.651 1540.33 193.573 1544.94 Q190.517 1549.52 184.707 1549.52 Q178.897 1549.52 175.818 1544.94 Q172.763 1540.33 172.763 1531.6 Q172.763 1522.85 175.818 1518.27 Q178.897 1513.66 184.707 1513.66 Z\" fill=\"#000000\" fill-rule=\"nonzero\" fill-opacity=\"1\" /><path clip-path=\"url(#clip820)\" d=\"M205.679 1544.91 L213.318 1544.91 L213.318 1518.55 L205.008 1520.21 L205.008 1515.95 L213.272 1514.29 L217.948 1514.29 L217.948 1544.91 L225.586 1544.91 L225.586 1548.85 L205.679 1548.85 L205.679 1544.91 Z\" fill=\"#000000\" fill-rule=\"nonzero\" fill-opacity=\"1\" /><path clip-path=\"url(#clip820)\" d=\"M232.276 1533.96 L244.753 1533.96 L244.753 1537.76 L232.276 1537.76 L232.276 1533.96 Z\" fill=\"#000000\" fill-rule=\"nonzero\" fill-opacity=\"1\" /><path clip-path=\"url(#clip820)\" d=\"M262.137 1517.37 Q258.526 1517.37 256.697 1520.93 Q254.892 1524.47 254.892 1531.6 Q254.892 1538.71 256.697 1542.27 Q258.526 1545.82 262.137 1545.82 Q265.771 1545.82 267.577 1542.27 Q269.406 1538.71 269.406 1531.6 Q269.406 1524.47 267.577 1520.93 Q265.771 1517.37 262.137 1517.37 M262.137 1513.66 Q267.947 1513.66 271.003 1518.27 Q274.082 1522.85 274.082 1531.6 Q274.082 1540.33 271.003 1544.94 Q267.947 1549.52 262.137 1549.52 Q256.327 1549.52 253.248 1544.94 Q250.193 1540.33 250.193 1531.6 Q250.193 1522.85 253.248 1518.27 Q256.327 1513.66 262.137 1513.66 Z\" fill=\"#000000\" fill-rule=\"nonzero\" fill-opacity=\"1\" /><path clip-path=\"url(#clip820)\" d=\"M283.109 1544.91 L290.748 1544.91 L290.748 1518.55 L282.438 1520.21 L282.438 1515.95 L290.702 1514.29 L295.378 1514.29 L295.378 1544.91 L303.017 1544.91 L303.017 1548.85 L283.109 1548.85 L283.109 1544.91 Z\" fill=\"#000000\" fill-rule=\"nonzero\" fill-opacity=\"1\" /><path clip-path=\"url(#clip820)\" d=\"M309.706 1533.96 L322.183 1533.96 L322.183 1537.76 L309.706 1537.76 L309.706 1533.96 Z\" fill=\"#000000\" fill-rule=\"nonzero\" fill-opacity=\"1\" /><path clip-path=\"url(#clip820)\" d=\"M339.567 1517.37 Q335.956 1517.37 334.127 1520.93 Q332.322 1524.47 332.322 1531.6 Q332.322 1538.71 334.127 1542.27 Q335.956 1545.82 339.567 1545.82 Q343.202 1545.82 345.007 1542.27 Q346.836 1538.71 346.836 1531.6 Q346.836 1524.47 345.007 1520.93 Q343.202 1517.37 339.567 1517.37 M339.567 1513.66 Q345.377 1513.66 348.433 1518.27 Q351.512 1522.85 351.512 1531.6 Q351.512 1540.33 348.433 1544.94 Q345.377 1549.52 339.567 1549.52 Q333.757 1549.52 330.678 1544.94 Q327.623 1540.33 327.623 1531.6 Q327.623 1522.85 330.678 1518.27 Q333.757 1513.66 339.567 1513.66 Z\" fill=\"#000000\" fill-rule=\"nonzero\" fill-opacity=\"1\" /><path clip-path=\"url(#clip820)\" d=\"M360.539 1544.91 L368.178 1544.91 L368.178 1518.55 L359.868 1520.21 L359.868 1515.95 L368.132 1514.29 L372.808 1514.29 L372.808 1544.91 L380.447 1544.91 L380.447 1548.85 L360.539 1548.85 L360.539 1544.91 Z\" fill=\"#000000\" fill-rule=\"nonzero\" fill-opacity=\"1\" /><path clip-path=\"url(#clip820)\" d=\"M646.162 1544.91 L662.482 1544.91 L662.482 1548.85 L640.537 1548.85 L640.537 1544.91 Q643.199 1542.16 647.783 1537.53 Q652.389 1532.88 653.57 1531.53 Q655.815 1529.01 656.695 1527.27 Q657.597 1525.51 657.597 1523.82 Q657.597 1521.07 655.653 1519.33 Q653.732 1517.6 650.63 1517.6 Q648.431 1517.6 645.977 1518.36 Q643.547 1519.13 640.769 1520.68 L640.769 1515.95 Q643.593 1514.82 646.047 1514.24 Q648.5 1513.66 650.537 1513.66 Q655.908 1513.66 659.102 1516.35 Q662.297 1519.03 662.297 1523.52 Q662.297 1525.65 661.486 1527.57 Q660.699 1529.47 658.593 1532.07 Q658.014 1532.74 654.912 1535.95 Q651.81 1539.15 646.162 1544.91 Z\" fill=\"#000000\" fill-rule=\"nonzero\" fill-opacity=\"1\" /><path clip-path=\"url(#clip820)\" d=\"M682.296 1517.37 Q678.685 1517.37 676.857 1520.93 Q675.051 1524.47 675.051 1531.6 Q675.051 1538.71 676.857 1542.27 Q678.685 1545.82 682.296 1545.82 Q685.931 1545.82 687.736 1542.27 Q689.565 1538.71 689.565 1531.6 Q689.565 1524.47 687.736 1520.93 Q685.931 1517.37 682.296 1517.37 M682.296 1513.66 Q688.107 1513.66 691.162 1518.27 Q694.241 1522.85 694.241 1531.6 Q694.241 1540.33 691.162 1544.94 Q688.107 1549.52 682.296 1549.52 Q676.486 1549.52 673.408 1544.94 Q670.352 1540.33 670.352 1531.6 Q670.352 1522.85 673.408 1518.27 Q676.486 1513.66 682.296 1513.66 Z\" fill=\"#000000\" fill-rule=\"nonzero\" fill-opacity=\"1\" /><path clip-path=\"url(#clip820)\" d=\"M712.458 1517.37 Q708.847 1517.37 707.018 1520.93 Q705.213 1524.47 705.213 1531.6 Q705.213 1538.71 707.018 1542.27 Q708.847 1545.82 712.458 1545.82 Q716.093 1545.82 717.898 1542.27 Q719.727 1538.71 719.727 1531.6 Q719.727 1524.47 717.898 1520.93 Q716.093 1517.37 712.458 1517.37 M712.458 1513.66 Q718.268 1513.66 721.324 1518.27 Q724.403 1522.85 724.403 1531.6 Q724.403 1540.33 721.324 1544.94 Q718.268 1549.52 712.458 1549.52 Q706.648 1549.52 703.569 1544.94 Q700.514 1540.33 700.514 1531.6 Q700.514 1522.85 703.569 1518.27 Q706.648 1513.66 712.458 1513.66 Z\" fill=\"#000000\" fill-rule=\"nonzero\" fill-opacity=\"1\" /><path clip-path=\"url(#clip820)\" d=\"M731.44 1514.29 L753.662 1514.29 L753.662 1516.28 L741.116 1548.85 L736.231 1548.85 L748.037 1518.22 L731.44 1518.22 L731.44 1514.29 Z\" fill=\"#000000\" fill-rule=\"nonzero\" fill-opacity=\"1\" /><path clip-path=\"url(#clip820)\" d=\"M760.027 1533.96 L772.504 1533.96 L772.504 1537.76 L760.027 1537.76 L760.027 1533.96 Z\" fill=\"#000000\" fill-rule=\"nonzero\" fill-opacity=\"1\" /><path clip-path=\"url(#clip820)\" d=\"M789.888 1517.37 Q786.277 1517.37 784.449 1520.93 Q782.643 1524.47 782.643 1531.6 Q782.643 1538.71 784.449 1542.27 Q786.277 1545.82 789.888 1545.82 Q793.523 1545.82 795.328 1542.27 Q797.157 1538.71 797.157 1531.6 Q797.157 1524.47 795.328 1520.93 Q793.523 1517.37 789.888 1517.37 M789.888 1513.66 Q795.699 1513.66 798.754 1518.27 Q801.833 1522.85 801.833 1531.6 Q801.833 1540.33 798.754 1544.94 Q795.699 1549.52 789.888 1549.52 Q784.078 1549.52 781 1544.94 Q777.944 1540.33 777.944 1531.6 Q777.944 1522.85 781 1518.27 Q784.078 1513.66 789.888 1513.66 Z\" fill=\"#000000\" fill-rule=\"nonzero\" fill-opacity=\"1\" /><path clip-path=\"url(#clip820)\" d=\"M810.861 1544.91 L818.499 1544.91 L818.499 1518.55 L810.189 1520.21 L810.189 1515.95 L818.453 1514.29 L823.129 1514.29 L823.129 1544.91 L830.768 1544.91 L830.768 1548.85 L810.861 1548.85 L810.861 1544.91 Z\" fill=\"#000000\" fill-rule=\"nonzero\" fill-opacity=\"1\" /><path clip-path=\"url(#clip820)\" d=\"M837.458 1533.96 L849.934 1533.96 L849.934 1537.76 L837.458 1537.76 L837.458 1533.96 Z\" fill=\"#000000\" fill-rule=\"nonzero\" fill-opacity=\"1\" /><path clip-path=\"url(#clip820)\" d=\"M867.319 1517.37 Q863.707 1517.37 861.879 1520.93 Q860.073 1524.47 860.073 1531.6 Q860.073 1538.71 861.879 1542.27 Q863.707 1545.82 867.319 1545.82 Q870.953 1545.82 872.758 1542.27 Q874.587 1538.71 874.587 1531.6 Q874.587 1524.47 872.758 1520.93 Q870.953 1517.37 867.319 1517.37 M867.319 1513.66 Q873.129 1513.66 876.184 1518.27 Q879.263 1522.85 879.263 1531.6 Q879.263 1540.33 876.184 1544.94 Q873.129 1549.52 867.319 1549.52 Q861.508 1549.52 858.43 1544.94 Q855.374 1540.33 855.374 1531.6 Q855.374 1522.85 858.43 1518.27 Q861.508 1513.66 867.319 1513.66 Z\" fill=\"#000000\" fill-rule=\"nonzero\" fill-opacity=\"1\" /><path clip-path=\"url(#clip820)\" d=\"M888.291 1544.91 L895.93 1544.91 L895.93 1518.55 L887.619 1520.21 L887.619 1515.95 L895.883 1514.29 L900.559 1514.29 L900.559 1544.91 L908.198 1544.91 L908.198 1548.85 L888.291 1548.85 L888.291 1544.91 Z\" fill=\"#000000\" fill-rule=\"nonzero\" fill-opacity=\"1\" /><path clip-path=\"url(#clip820)\" d=\"M1174.15 1544.91 L1190.47 1544.91 L1190.47 1548.85 L1168.53 1548.85 L1168.53 1544.91 Q1171.19 1542.16 1175.77 1537.53 Q1180.38 1532.88 1181.56 1531.53 Q1183.81 1529.01 1184.69 1527.27 Q1185.59 1525.51 1185.59 1523.82 Q1185.59 1521.07 1183.65 1519.33 Q1181.72 1517.6 1178.62 1517.6 Q1176.42 1517.6 1173.97 1518.36 Q1171.54 1519.13 1168.76 1520.68 L1168.76 1515.95 Q1171.59 1514.82 1174.04 1514.24 Q1176.49 1513.66 1178.53 1513.66 Q1183.9 1513.66 1187.09 1516.35 Q1190.29 1519.03 1190.29 1523.52 Q1190.29 1525.65 1189.48 1527.57 Q1188.69 1529.47 1186.58 1532.07 Q1186.01 1532.74 1182.9 1535.95 Q1179.8 1539.15 1174.15 1544.91 Z\" fill=\"#000000\" fill-rule=\"nonzero\" fill-opacity=\"1\" /><path clip-path=\"url(#clip820)\" d=\"M1210.29 1517.37 Q1206.68 1517.37 1204.85 1520.93 Q1203.04 1524.47 1203.04 1531.6 Q1203.04 1538.71 1204.85 1542.27 Q1206.68 1545.82 1210.29 1545.82 Q1213.92 1545.82 1215.73 1542.27 Q1217.56 1538.71 1217.56 1531.6 Q1217.56 1524.47 1215.73 1520.93 Q1213.92 1517.37 1210.29 1517.37 M1210.29 1513.66 Q1216.1 1513.66 1219.15 1518.27 Q1222.23 1522.85 1222.23 1531.6 Q1222.23 1540.33 1219.15 1544.94 Q1216.1 1549.52 1210.29 1549.52 Q1204.48 1549.52 1201.4 1544.94 Q1198.34 1540.33 1198.34 1531.6 Q1198.34 1522.85 1201.4 1518.27 Q1204.48 1513.66 1210.29 1513.66 Z\" fill=\"#000000\" fill-rule=\"nonzero\" fill-opacity=\"1\" /><path clip-path=\"url(#clip820)\" d=\"M1231.26 1544.91 L1238.9 1544.91 L1238.9 1518.55 L1230.59 1520.21 L1230.59 1515.95 L1238.85 1514.29 L1243.53 1514.29 L1243.53 1544.91 L1251.17 1544.91 L1251.17 1548.85 L1231.26 1548.85 L1231.26 1544.91 Z\" fill=\"#000000\" fill-rule=\"nonzero\" fill-opacity=\"1\" /><path clip-path=\"url(#clip820)\" d=\"M1274.78 1530.21 Q1278.14 1530.93 1280.01 1533.2 Q1281.91 1535.47 1281.91 1538.8 Q1281.91 1543.92 1278.39 1546.72 Q1274.87 1549.52 1268.39 1549.52 Q1266.21 1549.52 1263.9 1549.08 Q1261.61 1548.66 1259.15 1547.81 L1259.15 1543.29 Q1261.1 1544.43 1263.41 1545.01 Q1265.73 1545.58 1268.25 1545.58 Q1272.65 1545.58 1274.94 1543.85 Q1277.26 1542.11 1277.26 1538.8 Q1277.26 1535.75 1275.1 1534.03 Q1272.97 1532.3 1269.15 1532.3 L1265.13 1532.3 L1265.13 1528.45 L1269.34 1528.45 Q1272.79 1528.45 1274.62 1527.09 Q1276.45 1525.7 1276.45 1523.11 Q1276.45 1520.45 1274.55 1519.03 Q1272.67 1517.6 1269.15 1517.6 Q1267.23 1517.6 1265.03 1518.01 Q1262.83 1518.43 1260.2 1519.31 L1260.2 1515.14 Q1262.86 1514.4 1265.17 1514.03 Q1267.51 1513.66 1269.57 1513.66 Q1274.89 1513.66 1278 1516.09 Q1281.1 1518.5 1281.1 1522.62 Q1281.1 1525.49 1279.45 1527.48 Q1277.81 1529.45 1274.78 1530.21 Z\" fill=\"#000000\" fill-rule=\"nonzero\" fill-opacity=\"1\" /><path clip-path=\"url(#clip820)\" d=\"M1288.02 1533.96 L1300.5 1533.96 L1300.5 1537.76 L1288.02 1537.76 L1288.02 1533.96 Z\" fill=\"#000000\" fill-rule=\"nonzero\" fill-opacity=\"1\" /><path clip-path=\"url(#clip820)\" d=\"M1317.88 1517.37 Q1314.27 1517.37 1312.44 1520.93 Q1310.64 1524.47 1310.64 1531.6 Q1310.64 1538.71 1312.44 1542.27 Q1314.27 1545.82 1317.88 1545.82 Q1321.51 1545.82 1323.32 1542.27 Q1325.15 1538.71 1325.15 1531.6 Q1325.15 1524.47 1323.32 1520.93 Q1321.51 1517.37 1317.88 1517.37 M1317.88 1513.66 Q1323.69 1513.66 1326.75 1518.27 Q1329.82 1522.85 1329.82 1531.6 Q1329.82 1540.33 1326.75 1544.94 Q1323.69 1549.52 1317.88 1549.52 Q1312.07 1549.52 1308.99 1544.94 Q1305.94 1540.33 1305.94 1531.6 Q1305.94 1522.85 1308.99 1518.27 Q1312.07 1513.66 1317.88 1513.66 Z\" fill=\"#000000\" fill-rule=\"nonzero\" fill-opacity=\"1\" /><path clip-path=\"url(#clip820)\" d=\"M1338.85 1544.91 L1346.49 1544.91 L1346.49 1518.55 L1338.18 1520.21 L1338.18 1515.95 L1346.45 1514.29 L1351.12 1514.29 L1351.12 1544.91 L1358.76 1544.91 L1358.76 1548.85 L1338.85 1548.85 L1338.85 1544.91 Z\" fill=\"#000000\" fill-rule=\"nonzero\" fill-opacity=\"1\" /><path clip-path=\"url(#clip820)\" d=\"M1365.45 1533.96 L1377.93 1533.96 L1377.93 1537.76 L1365.45 1537.76 L1365.45 1533.96 Z\" fill=\"#000000\" fill-rule=\"nonzero\" fill-opacity=\"1\" /><path clip-path=\"url(#clip820)\" d=\"M1395.31 1517.37 Q1391.7 1517.37 1389.87 1520.93 Q1388.07 1524.47 1388.07 1531.6 Q1388.07 1538.71 1389.87 1542.27 Q1391.7 1545.82 1395.31 1545.82 Q1398.94 1545.82 1400.75 1542.27 Q1402.58 1538.71 1402.58 1531.6 Q1402.58 1524.47 1400.75 1520.93 Q1398.94 1517.37 1395.31 1517.37 M1395.31 1513.66 Q1401.12 1513.66 1404.18 1518.27 Q1407.26 1522.85 1407.26 1531.6 Q1407.26 1540.33 1404.18 1544.94 Q1401.12 1549.52 1395.31 1549.52 Q1389.5 1549.52 1386.42 1544.94 Q1383.37 1540.33 1383.37 1531.6 Q1383.37 1522.85 1386.42 1518.27 Q1389.5 1513.66 1395.31 1513.66 Z\" fill=\"#000000\" fill-rule=\"nonzero\" fill-opacity=\"1\" /><path clip-path=\"url(#clip820)\" d=\"M1416.28 1544.91 L1423.92 1544.91 L1423.92 1518.55 L1415.61 1520.21 L1415.61 1515.95 L1423.88 1514.29 L1428.55 1514.29 L1428.55 1544.91 L1436.19 1544.91 L1436.19 1548.85 L1416.28 1548.85 L1416.28 1544.91 Z\" fill=\"#000000\" fill-rule=\"nonzero\" fill-opacity=\"1\" /><path clip-path=\"url(#clip820)\" d=\"M1701.91 1544.91 L1718.23 1544.91 L1718.23 1548.85 L1696.28 1548.85 L1696.28 1544.91 Q1698.94 1542.16 1703.53 1537.53 Q1708.13 1532.88 1709.31 1531.53 Q1711.56 1529.01 1712.44 1527.27 Q1713.34 1525.51 1713.34 1523.82 Q1713.34 1521.07 1711.4 1519.33 Q1709.48 1517.6 1706.37 1517.6 Q1704.17 1517.6 1701.72 1518.36 Q1699.29 1519.13 1696.51 1520.68 L1696.51 1515.95 Q1699.34 1514.82 1701.79 1514.24 Q1704.24 1513.66 1706.28 1513.66 Q1711.65 1513.66 1714.85 1516.35 Q1718.04 1519.03 1718.04 1523.52 Q1718.04 1525.65 1717.23 1527.57 Q1716.44 1529.47 1714.34 1532.07 Q1713.76 1532.74 1710.66 1535.95 Q1707.55 1539.15 1701.91 1544.91 Z\" fill=\"#000000\" fill-rule=\"nonzero\" fill-opacity=\"1\" /><path clip-path=\"url(#clip820)\" d=\"M1738.04 1517.37 Q1734.43 1517.37 1732.6 1520.93 Q1730.79 1524.47 1730.79 1531.6 Q1730.79 1538.71 1732.6 1542.27 Q1734.43 1545.82 1738.04 1545.82 Q1741.67 1545.82 1743.48 1542.27 Q1745.31 1538.71 1745.31 1531.6 Q1745.31 1524.47 1743.48 1520.93 Q1741.67 1517.37 1738.04 1517.37 M1738.04 1513.66 Q1743.85 1513.66 1746.91 1518.27 Q1749.98 1522.85 1749.98 1531.6 Q1749.98 1540.33 1746.91 1544.94 Q1743.85 1549.52 1738.04 1549.52 Q1732.23 1549.52 1729.15 1544.94 Q1726.1 1540.33 1726.1 1531.6 Q1726.1 1522.85 1729.15 1518.27 Q1732.23 1513.66 1738.04 1513.66 Z\" fill=\"#000000\" fill-rule=\"nonzero\" fill-opacity=\"1\" /><path clip-path=\"url(#clip820)\" d=\"M1759.01 1544.91 L1766.65 1544.91 L1766.65 1518.55 L1758.34 1520.21 L1758.34 1515.95 L1766.6 1514.29 L1771.28 1514.29 L1771.28 1544.91 L1778.92 1544.91 L1778.92 1548.85 L1759.01 1548.85 L1759.01 1544.91 Z\" fill=\"#000000\" fill-rule=\"nonzero\" fill-opacity=\"1\" /><path clip-path=\"url(#clip820)\" d=\"M1788.5 1548.13 L1788.5 1543.87 Q1790.26 1544.7 1792.07 1545.14 Q1793.87 1545.58 1795.61 1545.58 Q1800.24 1545.58 1802.67 1542.48 Q1805.12 1539.36 1805.47 1533.01 Q1804.13 1535.01 1802.07 1536.07 Q1800.01 1537.13 1797.51 1537.13 Q1792.32 1537.13 1789.29 1534.01 Q1786.28 1530.86 1786.28 1525.42 Q1786.28 1520.1 1789.43 1516.88 Q1792.58 1513.66 1797.81 1513.66 Q1803.8 1513.66 1806.95 1518.27 Q1810.12 1522.85 1810.12 1531.6 Q1810.12 1539.77 1806.23 1544.66 Q1802.37 1549.52 1795.82 1549.52 Q1794.06 1549.52 1792.25 1549.17 Q1790.45 1548.82 1788.5 1548.13 M1797.81 1533.48 Q1800.96 1533.48 1802.78 1531.32 Q1804.64 1529.17 1804.64 1525.42 Q1804.64 1521.7 1802.78 1519.54 Q1800.96 1517.37 1797.81 1517.37 Q1794.66 1517.37 1792.81 1519.54 Q1790.98 1521.7 1790.98 1525.42 Q1790.98 1529.17 1792.81 1531.32 Q1794.66 1533.48 1797.81 1533.48 Z\" fill=\"#000000\" fill-rule=\"nonzero\" fill-opacity=\"1\" /><path clip-path=\"url(#clip820)\" d=\"M1815.77 1533.96 L1828.25 1533.96 L1828.25 1537.76 L1815.77 1537.76 L1815.77 1533.96 Z\" fill=\"#000000\" fill-rule=\"nonzero\" fill-opacity=\"1\" /><path clip-path=\"url(#clip820)\" d=\"M1845.63 1517.37 Q1842.02 1517.37 1840.19 1520.93 Q1838.39 1524.47 1838.39 1531.6 Q1838.39 1538.71 1840.19 1542.27 Q1842.02 1545.82 1845.63 1545.82 Q1849.27 1545.82 1851.07 1542.27 Q1852.9 1538.71 1852.9 1531.6 Q1852.9 1524.47 1851.07 1520.93 Q1849.27 1517.37 1845.63 1517.37 M1845.63 1513.66 Q1851.44 1513.66 1854.5 1518.27 Q1857.58 1522.85 1857.58 1531.6 Q1857.58 1540.33 1854.5 1544.94 Q1851.44 1549.52 1845.63 1549.52 Q1839.82 1549.52 1836.74 1544.94 Q1833.69 1540.33 1833.69 1531.6 Q1833.69 1522.85 1836.74 1518.27 Q1839.82 1513.66 1845.63 1513.66 Z\" fill=\"#000000\" fill-rule=\"nonzero\" fill-opacity=\"1\" /><path clip-path=\"url(#clip820)\" d=\"M1866.6 1544.91 L1874.24 1544.91 L1874.24 1518.55 L1865.93 1520.21 L1865.93 1515.95 L1874.2 1514.29 L1878.87 1514.29 L1878.87 1544.91 L1886.51 1544.91 L1886.51 1548.85 L1866.6 1548.85 L1866.6 1544.91 Z\" fill=\"#000000\" fill-rule=\"nonzero\" fill-opacity=\"1\" /><path clip-path=\"url(#clip820)\" d=\"M1893.2 1533.96 L1905.68 1533.96 L1905.68 1537.76 L1893.2 1537.76 L1893.2 1533.96 Z\" fill=\"#000000\" fill-rule=\"nonzero\" fill-opacity=\"1\" /><path clip-path=\"url(#clip820)\" d=\"M1923.06 1517.37 Q1919.45 1517.37 1917.62 1520.93 Q1915.82 1524.47 1915.82 1531.6 Q1915.82 1538.71 1917.62 1542.27 Q1919.45 1545.82 1923.06 1545.82 Q1926.7 1545.82 1928.5 1542.27 Q1930.33 1538.71 1930.33 1531.6 Q1930.33 1524.47 1928.5 1520.93 Q1926.7 1517.37 1923.06 1517.37 M1923.06 1513.66 Q1928.87 1513.66 1931.93 1518.27 Q1935.01 1522.85 1935.01 1531.6 Q1935.01 1540.33 1931.93 1544.94 Q1928.87 1549.52 1923.06 1549.52 Q1917.25 1549.52 1914.17 1544.94 Q1911.12 1540.33 1911.12 1531.6 Q1911.12 1522.85 1914.17 1518.27 Q1917.25 1513.66 1923.06 1513.66 Z\" fill=\"#000000\" fill-rule=\"nonzero\" fill-opacity=\"1\" /><path clip-path=\"url(#clip820)\" d=\"M1944.03 1544.91 L1951.67 1544.91 L1951.67 1518.55 L1943.36 1520.21 L1943.36 1515.95 L1951.63 1514.29 L1956.3 1514.29 L1956.3 1544.91 L1963.94 1544.91 L1963.94 1548.85 L1944.03 1548.85 L1944.03 1544.91 Z\" fill=\"#000000\" fill-rule=\"nonzero\" fill-opacity=\"1\" /><polyline clip-path=\"url(#clip822)\" style=\"stroke:#000000; stroke-linecap:round; stroke-linejoin:round; stroke-width:2; stroke-opacity:0.1; fill:none\" points=\"192.709,1361.79 2352.76,1361.79 \"/>\n",
       "<polyline clip-path=\"url(#clip822)\" style=\"stroke:#000000; stroke-linecap:round; stroke-linejoin:round; stroke-width:2; stroke-opacity:0.1; fill:none\" points=\"192.709,958.991 2352.76,958.991 \"/>\n",
       "<polyline clip-path=\"url(#clip822)\" style=\"stroke:#000000; stroke-linecap:round; stroke-linejoin:round; stroke-width:2; stroke-opacity:0.1; fill:none\" points=\"192.709,556.187 2352.76,556.187 \"/>\n",
       "<polyline clip-path=\"url(#clip822)\" style=\"stroke:#000000; stroke-linecap:round; stroke-linejoin:round; stroke-width:2; stroke-opacity:0.1; fill:none\" points=\"192.709,153.383 2352.76,153.383 \"/>\n",
       "<polyline clip-path=\"url(#clip820)\" style=\"stroke:#000000; stroke-linecap:round; stroke-linejoin:round; stroke-width:4; stroke-opacity:1; fill:none\" points=\"192.709,1486.45 192.709,47.2441 \"/>\n",
       "<polyline clip-path=\"url(#clip820)\" style=\"stroke:#000000; stroke-linecap:round; stroke-linejoin:round; stroke-width:4; stroke-opacity:1; fill:none\" points=\"192.709,1361.79 211.607,1361.79 \"/>\n",
       "<polyline clip-path=\"url(#clip820)\" style=\"stroke:#000000; stroke-linecap:round; stroke-linejoin:round; stroke-width:4; stroke-opacity:1; fill:none\" points=\"192.709,958.991 211.607,958.991 \"/>\n",
       "<polyline clip-path=\"url(#clip820)\" style=\"stroke:#000000; stroke-linecap:round; stroke-linejoin:round; stroke-width:4; stroke-opacity:1; fill:none\" points=\"192.709,556.187 211.607,556.187 \"/>\n",
       "<polyline clip-path=\"url(#clip820)\" style=\"stroke:#000000; stroke-linecap:round; stroke-linejoin:round; stroke-width:4; stroke-opacity:1; fill:none\" points=\"192.709,153.383 211.607,153.383 \"/>\n",
       "<path clip-path=\"url(#clip820)\" d=\"M51.3625 1362.25 L81.0383 1362.25 L81.0383 1366.18 L51.3625 1366.18 L51.3625 1362.25 Z\" fill=\"#000000\" fill-rule=\"nonzero\" fill-opacity=\"1\" /><path clip-path=\"url(#clip820)\" d=\"M101.131 1347.59 Q97.5197 1347.59 95.691 1351.16 Q93.8854 1354.7 93.8854 1361.83 Q93.8854 1368.94 95.691 1372.5 Q97.5197 1376.04 101.131 1376.04 Q104.765 1376.04 106.571 1372.5 Q108.399 1368.94 108.399 1361.83 Q108.399 1354.7 106.571 1351.16 Q104.765 1347.59 101.131 1347.59 M101.131 1343.89 Q106.941 1343.89 109.996 1348.5 Q113.075 1353.08 113.075 1361.83 Q113.075 1370.56 109.996 1375.16 Q106.941 1379.75 101.131 1379.75 Q95.3206 1379.75 92.2419 1375.16 Q89.1864 1370.56 89.1864 1361.83 Q89.1864 1353.08 92.2419 1348.5 Q95.3206 1343.89 101.131 1343.89 Z\" fill=\"#000000\" fill-rule=\"nonzero\" fill-opacity=\"1\" /><path clip-path=\"url(#clip820)\" d=\"M121.293 1373.19 L126.177 1373.19 L126.177 1379.07 L121.293 1379.07 L121.293 1373.19 Z\" fill=\"#000000\" fill-rule=\"nonzero\" fill-opacity=\"1\" /><path clip-path=\"url(#clip820)\" d=\"M140.39 1375.14 L156.709 1375.14 L156.709 1379.07 L134.765 1379.07 L134.765 1375.14 Q137.427 1372.38 142.01 1367.76 Q146.617 1363.1 147.797 1361.76 Q150.043 1359.24 150.922 1357.5 Q151.825 1355.74 151.825 1354.05 Q151.825 1351.3 149.88 1349.56 Q147.959 1347.82 144.857 1347.82 Q142.658 1347.82 140.205 1348.59 Q137.774 1349.35 134.996 1350.9 L134.996 1346.18 Q137.82 1345.05 140.274 1344.47 Q142.728 1343.89 144.765 1343.89 Q150.135 1343.89 153.33 1346.57 Q156.524 1349.26 156.524 1353.75 Q156.524 1355.88 155.714 1357.8 Q154.927 1359.7 152.82 1362.29 Q152.242 1362.96 149.14 1366.18 Q146.038 1369.38 140.39 1375.14 Z\" fill=\"#000000\" fill-rule=\"nonzero\" fill-opacity=\"1\" /><path clip-path=\"url(#clip820)\" d=\"M50.9921 959.442 L80.6679 959.442 L80.6679 963.377 L50.9921 963.377 L50.9921 959.442 Z\" fill=\"#000000\" fill-rule=\"nonzero\" fill-opacity=\"1\" /><path clip-path=\"url(#clip820)\" d=\"M100.76 944.789 Q97.1493 944.789 95.3206 948.354 Q93.515 951.896 93.515 959.025 Q93.515 966.132 95.3206 969.697 Q97.1493 973.238 100.76 973.238 Q104.395 973.238 106.2 969.697 Q108.029 966.132 108.029 959.025 Q108.029 951.896 106.2 948.354 Q104.395 944.789 100.76 944.789 M100.76 941.086 Q106.571 941.086 109.626 945.692 Q112.705 950.276 112.705 959.025 Q112.705 967.752 109.626 972.359 Q106.571 976.942 100.76 976.942 Q94.9502 976.942 91.8715 972.359 Q88.816 967.752 88.816 959.025 Q88.816 950.276 91.8715 945.692 Q94.9502 941.086 100.76 941.086 Z\" fill=\"#000000\" fill-rule=\"nonzero\" fill-opacity=\"1\" /><path clip-path=\"url(#clip820)\" d=\"M120.922 970.391 L125.807 970.391 L125.807 976.271 L120.922 976.271 L120.922 970.391 Z\" fill=\"#000000\" fill-rule=\"nonzero\" fill-opacity=\"1\" /><path clip-path=\"url(#clip820)\" d=\"M136.802 972.336 L144.441 972.336 L144.441 945.97 L136.131 947.637 L136.131 943.377 L144.394 941.711 L149.07 941.711 L149.07 972.336 L156.709 972.336 L156.709 976.271 L136.802 976.271 L136.802 972.336 Z\" fill=\"#000000\" fill-rule=\"nonzero\" fill-opacity=\"1\" /><path clip-path=\"url(#clip820)\" d=\"M99.5335 541.986 Q95.9224 541.986 94.0937 545.55 Q92.2882 549.092 92.2882 556.222 Q92.2882 563.328 94.0937 566.893 Q95.9224 570.435 99.5335 570.435 Q103.168 570.435 104.973 566.893 Q106.802 563.328 106.802 556.222 Q106.802 549.092 104.973 545.55 Q103.168 541.986 99.5335 541.986 M99.5335 538.282 Q105.344 538.282 108.399 542.888 Q111.478 547.472 111.478 556.222 Q111.478 564.948 108.399 569.555 Q105.344 574.138 99.5335 574.138 Q93.7234 574.138 90.6447 569.555 Q87.5892 564.948 87.5892 556.222 Q87.5892 547.472 90.6447 542.888 Q93.7234 538.282 99.5335 538.282 Z\" fill=\"#000000\" fill-rule=\"nonzero\" fill-opacity=\"1\" /><path clip-path=\"url(#clip820)\" d=\"M119.695 567.587 L124.58 567.587 L124.58 573.467 L119.695 573.467 L119.695 567.587 Z\" fill=\"#000000\" fill-rule=\"nonzero\" fill-opacity=\"1\" /><path clip-path=\"url(#clip820)\" d=\"M144.765 541.986 Q141.154 541.986 139.325 545.55 Q137.519 549.092 137.519 556.222 Q137.519 563.328 139.325 566.893 Q141.154 570.435 144.765 570.435 Q148.399 570.435 150.205 566.893 Q152.033 563.328 152.033 556.222 Q152.033 549.092 150.205 545.55 Q148.399 541.986 144.765 541.986 M144.765 538.282 Q150.575 538.282 153.63 542.888 Q156.709 547.472 156.709 556.222 Q156.709 564.948 153.63 569.555 Q150.575 574.138 144.765 574.138 Q138.955 574.138 135.876 569.555 Q132.82 564.948 132.82 556.222 Q132.82 547.472 135.876 542.888 Q138.955 538.282 144.765 538.282 Z\" fill=\"#000000\" fill-rule=\"nonzero\" fill-opacity=\"1\" /><path clip-path=\"url(#clip820)\" d=\"M100.76 139.182 Q97.1493 139.182 95.3206 142.747 Q93.515 146.288 93.515 153.418 Q93.515 160.524 95.3206 164.089 Q97.1493 167.631 100.76 167.631 Q104.395 167.631 106.2 164.089 Q108.029 160.524 108.029 153.418 Q108.029 146.288 106.2 142.747 Q104.395 139.182 100.76 139.182 M100.76 135.478 Q106.571 135.478 109.626 140.085 Q112.705 144.668 112.705 153.418 Q112.705 162.145 109.626 166.751 Q106.571 171.334 100.76 171.334 Q94.9502 171.334 91.8715 166.751 Q88.816 162.145 88.816 153.418 Q88.816 144.668 91.8715 140.085 Q94.9502 135.478 100.76 135.478 Z\" fill=\"#000000\" fill-rule=\"nonzero\" fill-opacity=\"1\" /><path clip-path=\"url(#clip820)\" d=\"M120.922 164.784 L125.807 164.784 L125.807 170.663 L120.922 170.663 L120.922 164.784 Z\" fill=\"#000000\" fill-rule=\"nonzero\" fill-opacity=\"1\" /><path clip-path=\"url(#clip820)\" d=\"M136.802 166.728 L144.441 166.728 L144.441 140.362 L136.131 142.029 L136.131 137.77 L144.394 136.103 L149.07 136.103 L149.07 166.728 L156.709 166.728 L156.709 170.663 L136.802 170.663 L136.802 166.728 Z\" fill=\"#000000\" fill-rule=\"nonzero\" fill-opacity=\"1\" /><polyline clip-path=\"url(#clip822)\" style=\"stroke:#009af9; stroke-linecap:round; stroke-linejoin:round; stroke-width:4; stroke-opacity:1; fill:none\" points=\"253.843,456.174 260.587,911.053 268.054,838.467 275.28,274.594 282.747,603.806 289.973,682.709 297.44,621.015 304.907,747.136 312.134,943.181 319.601,472.069 326.827,316.891 334.294,519.486 341.761,668.942 348.505,587.104 355.972,379.671 363.199,687.376 370.666,553.084 377.892,811.4 385.359,909.948 392.826,547.266 400.052,1025.67 407.519,271.047 414.745,343.04 422.212,754.291 429.679,676.535 436.424,629.097 443.891,573.604 451.117,214.096 458.584,331 465.81,481.465 473.277,469.024 480.744,463.082 487.97,531.792 495.438,320.042 502.664,496.321 510.131,309.689 517.598,488.718 524.583,483.941 532.05,579.276 539.276,651.922 546.743,525.031 553.969,477.247 561.437,687.218 568.904,531.714 576.13,473.417 583.597,458.906 590.823,342.424 598.29,403.284 605.757,642.544 612.501,418.982 619.969,645.928 627.195,646.059 634.662,481.656 641.888,515.676 649.355,409.914 656.822,525.721 664.048,436.754 671.515,666.181 678.741,412.124 686.208,458.32 693.675,362.629 700.42,562.098 707.887,472.356 715.113,424.305 722.58,718.191 729.806,557.926 737.273,528.788 744.74,453.086 751.967,509.516 759.434,407.879 766.66,443.87 774.127,467.303 781.594,516.315 788.338,577.448 795.805,476.214 803.031,381.224 810.499,438.168 817.725,568.062 825.192,618.17 832.659,567.349 839.885,345.555 847.352,402.032 854.578,738.339 862.045,601.024 869.512,900.403 876.498,544.803 883.965,615.732 891.191,337.514 898.658,493.72 905.884,901.315 913.351,662.171 920.818,643.956 928.044,1093.97 935.511,1445.72 942.737,829.91 950.204,412.784 957.672,915.936 964.416,971.247 971.883,237.353 979.109,106.729 986.576,173.598 993.802,578.836 1001.27,216.353 1008.74,414.642 1015.96,375.505 1023.43,618.92 1030.66,393.839 1038.12,473.624 1045.59,734.138 1052.33,505.2 1059.8,305.045 1067.03,549.416 1074.49,957.402 1081.72,682.232 1089.19,241.086 1096.65,699.521 1103.88,188.175 1111.35,413.179 1118.57,646.824 1126.04,271.519 1133.51,493.466 1140.25,440.569 1147.72,560.212 1154.95,394.672 1162.41,643.716 1169.64,620.161 1177.11,622.308 1184.57,861.733 1191.8,955.653 1199.27,146.201 1206.49,678.606 1213.96,564.334 1221.43,328.526 1228.41,358.456 1235.88,529.522 1243.11,602.516 1250.57,934.561 1257.8,362.003 1265.27,501.418 1272.73,469.542 1279.96,431.276 1287.43,583.125 1294.65,505.005 1302.12,465.967 1309.59,374.769 1316.33,556.814 1323.8,483.203 1331.02,442.73 1338.49,567.252 1345.72,675.677 1353.18,367.828 1360.65,640.995 1367.88,353.329 1375.34,397.459 1382.57,499.541 1390.04,487.289 1397.5,720.621 1404.25,366.156 1411.72,538.317 1418.94,518.022 1426.41,471.413 1433.64,481.053 1441.1,605.335 1448.57,468.185 1455.8,688.965 1463.26,527.928 1470.49,489.369 1477.96,634.673 1485.42,619.662 1492.17,337.96 1499.63,619.088 1506.86,440.979 1514.33,561.446 1521.55,652.149 1529.02,521.359 1536.49,842.233 1543.71,704.828 1551.18,251.839 1558.41,589.587 1565.87,629.492 1573.34,806.755 1580.33,583.991 1587.79,268.221 1595.02,497.162 1602.49,551.113 1609.71,580.645 1617.18,386.24 1624.65,542.658 1631.87,531.583 1639.34,625.145 1646.57,525.692 1654.03,470.098 1661.5,447.52 1668.24,444.744 1675.71,507.222 1682.94,493.886 1690.41,468.206 1697.63,537.913 1705.1,445.168 1712.57,540.781 1719.79,479.11 1727.26,473.399 1734.48,478.955 1741.95,491.763 1749.42,335.126 1756.16,729.007 1763.63,643.345 1770.86,517.908 1778.32,551.166 1785.55,578.05 1793.02,436.506 1800.48,524.677 1807.71,538.688 1815.18,869.953 1822.4,497.703 1829.87,850.384 1837.34,250.07 1844.08,449.858 1851.55,505.86 1858.77,422.416 1866.24,802.509 1873.47,300.701 1880.94,544.408 1888.4,652.885 1895.63,472.325 1903.1,447.423 1910.32,459.032 1917.79,416.787 1925.26,600.922 1932.24,895.429 1939.71,1140.37 1946.93,146.258 1954.4,384.709 1961.63,429.492 1969.09,348.602 1976.56,316.893 1983.79,688.206 1991.25,655.318 1998.48,87.9763 2005.95,373.382 2013.41,574.54 2020.16,463.958 2027.63,450.005 2034.85,383.812 2042.32,493.991 2049.55,503.452 2057.01,528.524 2064.48,456.608 2071.71,726.122 2079.17,355.651 2086.4,654.378 2093.87,398.197 2101.33,759.037 2108.08,661.593 2115.54,469.87 2122.77,892.24 2130.24,551.468 2137.46,910.904 2144.93,284.286 2152.4,707.284 2159.62,961.518 2167.09,320.152 2174.32,255.288 2181.78,717.887 2189.25,277.355 2196,673.319 2203.46,433.863 2210.69,498.709 2218.16,599.566 2225.38,328.85 2232.85,411.362 2240.32,670.35 2247.54,726.287 2255.01,679.159 2262.24,200.579 2269.7,367.21 2277.17,532.645 2284.16,386.935 2291.62,431.664 \"/>\n",
       "<path clip-path=\"url(#clip822)\" d=\"M465.81 2925.65 L465.81 -1391.96 L473.277 -1391.96 L473.277 2925.65 L465.81 2925.65  Z\" fill=\"#e26f46\" fill-rule=\"evenodd\" fill-opacity=\"0.3\"/>\n",
       "<polyline clip-path=\"url(#clip822)\" style=\"stroke:#000000; stroke-linecap:round; stroke-linejoin:round; stroke-width:0; stroke-opacity:0.3; fill:none\" points=\"465.81,2925.65 465.81,-1391.96 473.277,-1391.96 473.277,2925.65 465.81,2925.65 \"/>\n",
       "<path clip-path=\"url(#clip822)\" d=\"M480.744 2925.65 L480.744 -1391.96 L487.97 -1391.96 L487.97 2925.65 L480.744 2925.65  Z\" fill=\"#e26f46\" fill-rule=\"evenodd\" fill-opacity=\"0.3\"/>\n",
       "<polyline clip-path=\"url(#clip822)\" style=\"stroke:#000000; stroke-linecap:round; stroke-linejoin:round; stroke-width:0; stroke-opacity:0.3; fill:none\" points=\"480.744,2925.65 480.744,-1391.96 487.97,-1391.96 487.97,2925.65 480.744,2925.65 \"/>\n",
       "<path clip-path=\"url(#clip822)\" d=\"M495.438 2925.65 L495.438 -1391.96 L502.664 -1391.96 L502.664 2925.65 L495.438 2925.65  Z\" fill=\"#e26f46\" fill-rule=\"evenodd\" fill-opacity=\"0.3\"/>\n",
       "<polyline clip-path=\"url(#clip822)\" style=\"stroke:#000000; stroke-linecap:round; stroke-linejoin:round; stroke-width:0; stroke-opacity:0.3; fill:none\" points=\"495.438,2925.65 495.438,-1391.96 502.664,-1391.96 502.664,2925.65 495.438,2925.65 \"/>\n",
       "<path clip-path=\"url(#clip822)\" d=\"M510.131 2925.65 L510.131 -1391.96 L517.598 -1391.96 L517.598 2925.65 L510.131 2925.65  Z\" fill=\"#e26f46\" fill-rule=\"evenodd\" fill-opacity=\"0.3\"/>\n",
       "<polyline clip-path=\"url(#clip822)\" style=\"stroke:#000000; stroke-linecap:round; stroke-linejoin:round; stroke-width:0; stroke-opacity:0.3; fill:none\" points=\"510.131,2925.65 510.131,-1391.96 517.598,-1391.96 517.598,2925.65 510.131,2925.65 \"/>\n",
       "<path clip-path=\"url(#clip822)\" d=\"M524.583 2925.65 L524.583 -1391.96 L532.05 -1391.96 L532.05 2925.65 L524.583 2925.65  Z\" fill=\"#e26f46\" fill-rule=\"evenodd\" fill-opacity=\"0.3\"/>\n",
       "<polyline clip-path=\"url(#clip822)\" style=\"stroke:#000000; stroke-linecap:round; stroke-linejoin:round; stroke-width:0; stroke-opacity:0.3; fill:none\" points=\"524.583,2925.65 524.583,-1391.96 532.05,-1391.96 532.05,2925.65 524.583,2925.65 \"/>\n",
       "<path clip-path=\"url(#clip822)\" d=\"M539.276 2925.65 L539.276 -1391.96 L546.743 -1391.96 L546.743 2925.65 L539.276 2925.65  Z\" fill=\"#e26f46\" fill-rule=\"evenodd\" fill-opacity=\"0.3\"/>\n",
       "<polyline clip-path=\"url(#clip822)\" style=\"stroke:#000000; stroke-linecap:round; stroke-linejoin:round; stroke-width:0; stroke-opacity:0.3; fill:none\" points=\"539.276,2925.65 539.276,-1391.96 546.743,-1391.96 546.743,2925.65 539.276,2925.65 \"/>\n",
       "<path clip-path=\"url(#clip822)\" d=\"M553.969 2925.65 L553.969 -1391.96 L561.437 -1391.96 L561.437 2925.65 L553.969 2925.65  Z\" fill=\"#e26f46\" fill-rule=\"evenodd\" fill-opacity=\"0.3\"/>\n",
       "<polyline clip-path=\"url(#clip822)\" style=\"stroke:#000000; stroke-linecap:round; stroke-linejoin:round; stroke-width:0; stroke-opacity:0.3; fill:none\" points=\"553.969,2925.65 553.969,-1391.96 561.437,-1391.96 561.437,2925.65 553.969,2925.65 \"/>\n",
       "<path clip-path=\"url(#clip822)\" d=\"M568.904 2925.65 L568.904 -1391.96 L576.13 -1391.96 L576.13 2925.65 L568.904 2925.65  Z\" fill=\"#e26f46\" fill-rule=\"evenodd\" fill-opacity=\"0.3\"/>\n",
       "<polyline clip-path=\"url(#clip822)\" style=\"stroke:#000000; stroke-linecap:round; stroke-linejoin:round; stroke-width:0; stroke-opacity:0.3; fill:none\" points=\"568.904,2925.65 568.904,-1391.96 576.13,-1391.96 576.13,2925.65 568.904,2925.65 \"/>\n",
       "<path clip-path=\"url(#clip822)\" d=\"M583.597 2925.65 L583.597 -1391.96 L590.823 -1391.96 L590.823 2925.65 L583.597 2925.65  Z\" fill=\"#e26f46\" fill-rule=\"evenodd\" fill-opacity=\"0.3\"/>\n",
       "<polyline clip-path=\"url(#clip822)\" style=\"stroke:#000000; stroke-linecap:round; stroke-linejoin:round; stroke-width:0; stroke-opacity:0.3; fill:none\" points=\"583.597,2925.65 583.597,-1391.96 590.823,-1391.96 590.823,2925.65 583.597,2925.65 \"/>\n",
       "<path clip-path=\"url(#clip822)\" d=\"M598.29 2925.65 L598.29 -1391.96 L605.757 -1391.96 L605.757 2925.65 L598.29 2925.65  Z\" fill=\"#e26f46\" fill-rule=\"evenodd\" fill-opacity=\"0.3\"/>\n",
       "<polyline clip-path=\"url(#clip822)\" style=\"stroke:#000000; stroke-linecap:round; stroke-linejoin:round; stroke-width:0; stroke-opacity:0.3; fill:none\" points=\"598.29,2925.65 598.29,-1391.96 605.757,-1391.96 605.757,2925.65 598.29,2925.65 \"/>\n",
       "<path clip-path=\"url(#clip822)\" d=\"M612.501 2925.65 L612.501 -1391.96 L619.969 -1391.96 L619.969 2925.65 L612.501 2925.65  Z\" fill=\"#e26f46\" fill-rule=\"evenodd\" fill-opacity=\"0.3\"/>\n",
       "<polyline clip-path=\"url(#clip822)\" style=\"stroke:#000000; stroke-linecap:round; stroke-linejoin:round; stroke-width:0; stroke-opacity:0.3; fill:none\" points=\"612.501,2925.65 612.501,-1391.96 619.969,-1391.96 619.969,2925.65 612.501,2925.65 \"/>\n",
       "<path clip-path=\"url(#clip822)\" d=\"M627.195 2925.65 L627.195 -1391.96 L634.662 -1391.96 L634.662 2925.65 L627.195 2925.65  Z\" fill=\"#e26f46\" fill-rule=\"evenodd\" fill-opacity=\"0.3\"/>\n",
       "<polyline clip-path=\"url(#clip822)\" style=\"stroke:#000000; stroke-linecap:round; stroke-linejoin:round; stroke-width:0; stroke-opacity:0.3; fill:none\" points=\"627.195,2925.65 627.195,-1391.96 634.662,-1391.96 634.662,2925.65 627.195,2925.65 \"/>\n",
       "<path clip-path=\"url(#clip822)\" d=\"M641.888 2925.65 L641.888 -1391.96 L649.355 -1391.96 L649.355 2925.65 L641.888 2925.65  Z\" fill=\"#e26f46\" fill-rule=\"evenodd\" fill-opacity=\"0.3\"/>\n",
       "<polyline clip-path=\"url(#clip822)\" style=\"stroke:#000000; stroke-linecap:round; stroke-linejoin:round; stroke-width:0; stroke-opacity:0.3; fill:none\" points=\"641.888,2925.65 641.888,-1391.96 649.355,-1391.96 649.355,2925.65 641.888,2925.65 \"/>\n",
       "<path clip-path=\"url(#clip822)\" d=\"M656.822 2925.65 L656.822 -1391.96 L664.048 -1391.96 L664.048 2925.65 L656.822 2925.65  Z\" fill=\"#e26f46\" fill-rule=\"evenodd\" fill-opacity=\"0.3\"/>\n",
       "<polyline clip-path=\"url(#clip822)\" style=\"stroke:#000000; stroke-linecap:round; stroke-linejoin:round; stroke-width:0; stroke-opacity:0.3; fill:none\" points=\"656.822,2925.65 656.822,-1391.96 664.048,-1391.96 664.048,2925.65 656.822,2925.65 \"/>\n",
       "<path clip-path=\"url(#clip822)\" d=\"M671.515 2925.65 L671.515 -1391.96 L678.741 -1391.96 L678.741 2925.65 L671.515 2925.65  Z\" fill=\"#e26f46\" fill-rule=\"evenodd\" fill-opacity=\"0.3\"/>\n",
       "<polyline clip-path=\"url(#clip822)\" style=\"stroke:#000000; stroke-linecap:round; stroke-linejoin:round; stroke-width:0; stroke-opacity:0.3; fill:none\" points=\"671.515,2925.65 671.515,-1391.96 678.741,-1391.96 678.741,2925.65 671.515,2925.65 \"/>\n",
       "<path clip-path=\"url(#clip822)\" d=\"M686.208 2925.65 L686.208 -1391.96 L693.675 -1391.96 L693.675 2925.65 L686.208 2925.65  Z\" fill=\"#e26f46\" fill-rule=\"evenodd\" fill-opacity=\"0.3\"/>\n",
       "<polyline clip-path=\"url(#clip822)\" style=\"stroke:#000000; stroke-linecap:round; stroke-linejoin:round; stroke-width:0; stroke-opacity:0.3; fill:none\" points=\"686.208,2925.65 686.208,-1391.96 693.675,-1391.96 693.675,2925.65 686.208,2925.65 \"/>\n",
       "<path clip-path=\"url(#clip822)\" d=\"M700.42 2925.65 L700.42 -1391.96 L707.887 -1391.96 L707.887 2925.65 L700.42 2925.65  Z\" fill=\"#e26f46\" fill-rule=\"evenodd\" fill-opacity=\"0.3\"/>\n",
       "<polyline clip-path=\"url(#clip822)\" style=\"stroke:#000000; stroke-linecap:round; stroke-linejoin:round; stroke-width:0; stroke-opacity:0.3; fill:none\" points=\"700.42,2925.65 700.42,-1391.96 707.887,-1391.96 707.887,2925.65 700.42,2925.65 \"/>\n",
       "<path clip-path=\"url(#clip822)\" d=\"M715.113 2925.65 L715.113 -1391.96 L722.58 -1391.96 L722.58 2925.65 L715.113 2925.65  Z\" fill=\"#e26f46\" fill-rule=\"evenodd\" fill-opacity=\"0.3\"/>\n",
       "<polyline clip-path=\"url(#clip822)\" style=\"stroke:#000000; stroke-linecap:round; stroke-linejoin:round; stroke-width:0; stroke-opacity:0.3; fill:none\" points=\"715.113,2925.65 715.113,-1391.96 722.58,-1391.96 722.58,2925.65 715.113,2925.65 \"/>\n",
       "<path clip-path=\"url(#clip822)\" d=\"M729.806 2925.65 L729.806 -1391.96 L737.273 -1391.96 L737.273 2925.65 L729.806 2925.65  Z\" fill=\"#e26f46\" fill-rule=\"evenodd\" fill-opacity=\"0.3\"/>\n",
       "<polyline clip-path=\"url(#clip822)\" style=\"stroke:#000000; stroke-linecap:round; stroke-linejoin:round; stroke-width:0; stroke-opacity:0.3; fill:none\" points=\"729.806,2925.65 729.806,-1391.96 737.273,-1391.96 737.273,2925.65 729.806,2925.65 \"/>\n",
       "<path clip-path=\"url(#clip822)\" d=\"M744.74 2925.65 L744.74 -1391.96 L751.967 -1391.96 L751.967 2925.65 L744.74 2925.65  Z\" fill=\"#e26f46\" fill-rule=\"evenodd\" fill-opacity=\"0.3\"/>\n",
       "<polyline clip-path=\"url(#clip822)\" style=\"stroke:#000000; stroke-linecap:round; stroke-linejoin:round; stroke-width:0; stroke-opacity:0.3; fill:none\" points=\"744.74,2925.65 744.74,-1391.96 751.967,-1391.96 751.967,2925.65 744.74,2925.65 \"/>\n",
       "<path clip-path=\"url(#clip822)\" d=\"M759.434 2925.65 L759.434 -1391.96 L766.66 -1391.96 L766.66 2925.65 L759.434 2925.65  Z\" fill=\"#e26f46\" fill-rule=\"evenodd\" fill-opacity=\"0.3\"/>\n",
       "<polyline clip-path=\"url(#clip822)\" style=\"stroke:#000000; stroke-linecap:round; stroke-linejoin:round; stroke-width:0; stroke-opacity:0.3; fill:none\" points=\"759.434,2925.65 759.434,-1391.96 766.66,-1391.96 766.66,2925.65 759.434,2925.65 \"/>\n",
       "<path clip-path=\"url(#clip822)\" d=\"M774.127 2925.65 L774.127 -1391.96 L781.594 -1391.96 L781.594 2925.65 L774.127 2925.65  Z\" fill=\"#e26f46\" fill-rule=\"evenodd\" fill-opacity=\"0.3\"/>\n",
       "<polyline clip-path=\"url(#clip822)\" style=\"stroke:#000000; stroke-linecap:round; stroke-linejoin:round; stroke-width:0; stroke-opacity:0.3; fill:none\" points=\"774.127,2925.65 774.127,-1391.96 781.594,-1391.96 781.594,2925.65 774.127,2925.65 \"/>\n",
       "<path clip-path=\"url(#clip822)\" d=\"M788.338 2925.65 L788.338 -1391.96 L795.805 -1391.96 L795.805 2925.65 L788.338 2925.65  Z\" fill=\"#e26f46\" fill-rule=\"evenodd\" fill-opacity=\"0.3\"/>\n",
       "<polyline clip-path=\"url(#clip822)\" style=\"stroke:#000000; stroke-linecap:round; stroke-linejoin:round; stroke-width:0; stroke-opacity:0.3; fill:none\" points=\"788.338,2925.65 788.338,-1391.96 795.805,-1391.96 795.805,2925.65 788.338,2925.65 \"/>\n",
       "<path clip-path=\"url(#clip822)\" d=\"M803.031 2925.65 L803.031 -1391.96 L810.499 -1391.96 L810.499 2925.65 L803.031 2925.65  Z\" fill=\"#e26f46\" fill-rule=\"evenodd\" fill-opacity=\"0.3\"/>\n",
       "<polyline clip-path=\"url(#clip822)\" style=\"stroke:#000000; stroke-linecap:round; stroke-linejoin:round; stroke-width:0; stroke-opacity:0.3; fill:none\" points=\"803.031,2925.65 803.031,-1391.96 810.499,-1391.96 810.499,2925.65 803.031,2925.65 \"/>\n",
       "<path clip-path=\"url(#clip822)\" d=\"M817.725 2925.65 L817.725 -1391.96 L825.192 -1391.96 L825.192 2925.65 L817.725 2925.65  Z\" fill=\"#e26f46\" fill-rule=\"evenodd\" fill-opacity=\"0.3\"/>\n",
       "<polyline clip-path=\"url(#clip822)\" style=\"stroke:#000000; stroke-linecap:round; stroke-linejoin:round; stroke-width:0; stroke-opacity:0.3; fill:none\" points=\"817.725,2925.65 817.725,-1391.96 825.192,-1391.96 825.192,2925.65 817.725,2925.65 \"/>\n",
       "<path clip-path=\"url(#clip822)\" d=\"M832.659 2925.65 L832.659 -1391.96 L839.885 -1391.96 L839.885 2925.65 L832.659 2925.65  Z\" fill=\"#e26f46\" fill-rule=\"evenodd\" fill-opacity=\"0.3\"/>\n",
       "<polyline clip-path=\"url(#clip822)\" style=\"stroke:#000000; stroke-linecap:round; stroke-linejoin:round; stroke-width:0; stroke-opacity:0.3; fill:none\" points=\"832.659,2925.65 832.659,-1391.96 839.885,-1391.96 839.885,2925.65 832.659,2925.65 \"/>\n",
       "<path clip-path=\"url(#clip822)\" d=\"M847.352 2925.65 L847.352 -1391.96 L1257.8 -1391.96 L1257.8 2925.65 L847.352 2925.65  Z\" fill=\"#e26f46\" fill-rule=\"evenodd\" fill-opacity=\"0.3\"/>\n",
       "<polyline clip-path=\"url(#clip822)\" style=\"stroke:#000000; stroke-linecap:round; stroke-linejoin:round; stroke-width:0; stroke-opacity:0.3; fill:none\" points=\"847.352,2925.65 847.352,-1391.96 1257.8,-1391.96 1257.8,2925.65 847.352,2925.65 \"/>\n",
       "<path clip-path=\"url(#clip822)\" d=\"M1265.27 2925.65 L1265.27 -1391.96 L1272.73 -1391.96 L1272.73 2925.65 L1265.27 2925.65  Z\" fill=\"#e26f46\" fill-rule=\"evenodd\" fill-opacity=\"0.3\"/>\n",
       "<polyline clip-path=\"url(#clip822)\" style=\"stroke:#000000; stroke-linecap:round; stroke-linejoin:round; stroke-width:0; stroke-opacity:0.3; fill:none\" points=\"1265.27,2925.65 1265.27,-1391.96 1272.73,-1391.96 1272.73,2925.65 1265.27,2925.65 \"/>\n",
       "<path clip-path=\"url(#clip822)\" d=\"M1279.96 2925.65 L1279.96 -1391.96 L1287.43 -1391.96 L1287.43 2925.65 L1279.96 2925.65  Z\" fill=\"#e26f46\" fill-rule=\"evenodd\" fill-opacity=\"0.3\"/>\n",
       "<polyline clip-path=\"url(#clip822)\" style=\"stroke:#000000; stroke-linecap:round; stroke-linejoin:round; stroke-width:0; stroke-opacity:0.3; fill:none\" points=\"1279.96,2925.65 1279.96,-1391.96 1287.43,-1391.96 1287.43,2925.65 1279.96,2925.65 \"/>\n",
       "<path clip-path=\"url(#clip822)\" d=\"M1294.65 2925.65 L1294.65 -1391.96 L1302.12 -1391.96 L1302.12 2925.65 L1294.65 2925.65  Z\" fill=\"#e26f46\" fill-rule=\"evenodd\" fill-opacity=\"0.3\"/>\n",
       "<polyline clip-path=\"url(#clip822)\" style=\"stroke:#000000; stroke-linecap:round; stroke-linejoin:round; stroke-width:0; stroke-opacity:0.3; fill:none\" points=\"1294.65,2925.65 1294.65,-1391.96 1302.12,-1391.96 1302.12,2925.65 1294.65,2925.65 \"/>\n",
       "<path clip-path=\"url(#clip822)\" d=\"M1309.59 2925.65 L1309.59 -1391.96 L1316.33 -1391.96 L1316.33 2925.65 L1309.59 2925.65  Z\" fill=\"#e26f46\" fill-rule=\"evenodd\" fill-opacity=\"0.3\"/>\n",
       "<polyline clip-path=\"url(#clip822)\" style=\"stroke:#000000; stroke-linecap:round; stroke-linejoin:round; stroke-width:0; stroke-opacity:0.3; fill:none\" points=\"1309.59,2925.65 1309.59,-1391.96 1316.33,-1391.96 1316.33,2925.65 1309.59,2925.65 \"/>\n",
       "<path clip-path=\"url(#clip822)\" d=\"M1323.8 2925.65 L1323.8 -1391.96 L1331.02 -1391.96 L1331.02 2925.65 L1323.8 2925.65  Z\" fill=\"#e26f46\" fill-rule=\"evenodd\" fill-opacity=\"0.3\"/>\n",
       "<polyline clip-path=\"url(#clip822)\" style=\"stroke:#000000; stroke-linecap:round; stroke-linejoin:round; stroke-width:0; stroke-opacity:0.3; fill:none\" points=\"1323.8,2925.65 1323.8,-1391.96 1331.02,-1391.96 1331.02,2925.65 1323.8,2925.65 \"/>\n",
       "<path clip-path=\"url(#clip822)\" d=\"M1338.49 2925.65 L1338.49 -1391.96 L1345.72 -1391.96 L1345.72 2925.65 L1338.49 2925.65  Z\" fill=\"#e26f46\" fill-rule=\"evenodd\" fill-opacity=\"0.3\"/>\n",
       "<polyline clip-path=\"url(#clip822)\" style=\"stroke:#000000; stroke-linecap:round; stroke-linejoin:round; stroke-width:0; stroke-opacity:0.3; fill:none\" points=\"1338.49,2925.65 1338.49,-1391.96 1345.72,-1391.96 1345.72,2925.65 1338.49,2925.65 \"/>\n",
       "<path clip-path=\"url(#clip822)\" d=\"M1353.18 2925.65 L1353.18 -1391.96 L1360.65 -1391.96 L1360.65 2925.65 L1353.18 2925.65  Z\" fill=\"#e26f46\" fill-rule=\"evenodd\" fill-opacity=\"0.3\"/>\n",
       "<polyline clip-path=\"url(#clip822)\" style=\"stroke:#000000; stroke-linecap:round; stroke-linejoin:round; stroke-width:0; stroke-opacity:0.3; fill:none\" points=\"1353.18,2925.65 1353.18,-1391.96 1360.65,-1391.96 1360.65,2925.65 1353.18,2925.65 \"/>\n",
       "<path clip-path=\"url(#clip822)\" d=\"M1367.88 2925.65 L1367.88 -1391.96 L1375.34 -1391.96 L1375.34 2925.65 L1367.88 2925.65  Z\" fill=\"#e26f46\" fill-rule=\"evenodd\" fill-opacity=\"0.3\"/>\n",
       "<polyline clip-path=\"url(#clip822)\" style=\"stroke:#000000; stroke-linecap:round; stroke-linejoin:round; stroke-width:0; stroke-opacity:0.3; fill:none\" points=\"1367.88,2925.65 1367.88,-1391.96 1375.34,-1391.96 1375.34,2925.65 1367.88,2925.65 \"/>\n",
       "<path clip-path=\"url(#clip822)\" d=\"M1382.57 2925.65 L1382.57 -1391.96 L1390.04 -1391.96 L1390.04 2925.65 L1382.57 2925.65  Z\" fill=\"#e26f46\" fill-rule=\"evenodd\" fill-opacity=\"0.3\"/>\n",
       "<polyline clip-path=\"url(#clip822)\" style=\"stroke:#000000; stroke-linecap:round; stroke-linejoin:round; stroke-width:0; stroke-opacity:0.3; fill:none\" points=\"1382.57,2925.65 1382.57,-1391.96 1390.04,-1391.96 1390.04,2925.65 1382.57,2925.65 \"/>\n",
       "<path clip-path=\"url(#clip822)\" d=\"M1397.5 2925.65 L1397.5 -1391.96 L1404.25 -1391.96 L1404.25 2925.65 L1397.5 2925.65  Z\" fill=\"#e26f46\" fill-rule=\"evenodd\" fill-opacity=\"0.3\"/>\n",
       "<polyline clip-path=\"url(#clip822)\" style=\"stroke:#000000; stroke-linecap:round; stroke-linejoin:round; stroke-width:0; stroke-opacity:0.3; fill:none\" points=\"1397.5,2925.65 1397.5,-1391.96 1404.25,-1391.96 1404.25,2925.65 1397.5,2925.65 \"/>\n",
       "<path clip-path=\"url(#clip822)\" d=\"M1411.72 2925.65 L1411.72 -1391.96 L1418.94 -1391.96 L1418.94 2925.65 L1411.72 2925.65  Z\" fill=\"#e26f46\" fill-rule=\"evenodd\" fill-opacity=\"0.3\"/>\n",
       "<polyline clip-path=\"url(#clip822)\" style=\"stroke:#000000; stroke-linecap:round; stroke-linejoin:round; stroke-width:0; stroke-opacity:0.3; fill:none\" points=\"1411.72,2925.65 1411.72,-1391.96 1418.94,-1391.96 1418.94,2925.65 1411.72,2925.65 \"/>\n",
       "<path clip-path=\"url(#clip822)\" d=\"M1426.41 2925.65 L1426.41 -1391.96 L1433.64 -1391.96 L1433.64 2925.65 L1426.41 2925.65  Z\" fill=\"#e26f46\" fill-rule=\"evenodd\" fill-opacity=\"0.3\"/>\n",
       "<polyline clip-path=\"url(#clip822)\" style=\"stroke:#000000; stroke-linecap:round; stroke-linejoin:round; stroke-width:0; stroke-opacity:0.3; fill:none\" points=\"1426.41,2925.65 1426.41,-1391.96 1433.64,-1391.96 1433.64,2925.65 1426.41,2925.65 \"/>\n",
       "<path clip-path=\"url(#clip822)\" d=\"M1441.1 2925.65 L1441.1 -1391.96 L1448.57 -1391.96 L1448.57 2925.65 L1441.1 2925.65  Z\" fill=\"#e26f46\" fill-rule=\"evenodd\" fill-opacity=\"0.3\"/>\n",
       "<polyline clip-path=\"url(#clip822)\" style=\"stroke:#000000; stroke-linecap:round; stroke-linejoin:round; stroke-width:0; stroke-opacity:0.3; fill:none\" points=\"1441.1,2925.65 1441.1,-1391.96 1448.57,-1391.96 1448.57,2925.65 1441.1,2925.65 \"/>\n",
       "<path clip-path=\"url(#clip822)\" d=\"M1455.8 2925.65 L1455.8 -1391.96 L1463.26 -1391.96 L1463.26 2925.65 L1455.8 2925.65  Z\" fill=\"#e26f46\" fill-rule=\"evenodd\" fill-opacity=\"0.3\"/>\n",
       "<polyline clip-path=\"url(#clip822)\" style=\"stroke:#000000; stroke-linecap:round; stroke-linejoin:round; stroke-width:0; stroke-opacity:0.3; fill:none\" points=\"1455.8,2925.65 1455.8,-1391.96 1463.26,-1391.96 1463.26,2925.65 1455.8,2925.65 \"/>\n",
       "<path clip-path=\"url(#clip822)\" d=\"M1470.49 2925.65 L1470.49 -1391.96 L1477.96 -1391.96 L1477.96 2925.65 L1470.49 2925.65  Z\" fill=\"#e26f46\" fill-rule=\"evenodd\" fill-opacity=\"0.3\"/>\n",
       "<polyline clip-path=\"url(#clip822)\" style=\"stroke:#000000; stroke-linecap:round; stroke-linejoin:round; stroke-width:0; stroke-opacity:0.3; fill:none\" points=\"1470.49,2925.65 1470.49,-1391.96 1477.96,-1391.96 1477.96,2925.65 1470.49,2925.65 \"/>\n",
       "<path clip-path=\"url(#clip822)\" d=\"M1485.42 2925.65 L1485.42 -1391.96 L1492.17 -1391.96 L1492.17 2925.65 L1485.42 2925.65  Z\" fill=\"#e26f46\" fill-rule=\"evenodd\" fill-opacity=\"0.3\"/>\n",
       "<polyline clip-path=\"url(#clip822)\" style=\"stroke:#000000; stroke-linecap:round; stroke-linejoin:round; stroke-width:0; stroke-opacity:0.3; fill:none\" points=\"1485.42,2925.65 1485.42,-1391.96 1492.17,-1391.96 1492.17,2925.65 1485.42,2925.65 \"/>\n",
       "<path clip-path=\"url(#clip822)\" d=\"M1499.63 2925.65 L1499.63 -1391.96 L1506.86 -1391.96 L1506.86 2925.65 L1499.63 2925.65  Z\" fill=\"#e26f46\" fill-rule=\"evenodd\" fill-opacity=\"0.3\"/>\n",
       "<polyline clip-path=\"url(#clip822)\" style=\"stroke:#000000; stroke-linecap:round; stroke-linejoin:round; stroke-width:0; stroke-opacity:0.3; fill:none\" points=\"1499.63,2925.65 1499.63,-1391.96 1506.86,-1391.96 1506.86,2925.65 1499.63,2925.65 \"/>\n",
       "<path clip-path=\"url(#clip822)\" d=\"M1514.33 2925.65 L1514.33 -1391.96 L1521.55 -1391.96 L1521.55 2925.65 L1514.33 2925.65  Z\" fill=\"#e26f46\" fill-rule=\"evenodd\" fill-opacity=\"0.3\"/>\n",
       "<polyline clip-path=\"url(#clip822)\" style=\"stroke:#000000; stroke-linecap:round; stroke-linejoin:round; stroke-width:0; stroke-opacity:0.3; fill:none\" points=\"1514.33,2925.65 1514.33,-1391.96 1521.55,-1391.96 1521.55,2925.65 1514.33,2925.65 \"/>\n",
       "<path clip-path=\"url(#clip822)\" d=\"M1529.02 2925.65 L1529.02 -1391.96 L1595.02 -1391.96 L1595.02 2925.65 L1529.02 2925.65  Z\" fill=\"#e26f46\" fill-rule=\"evenodd\" fill-opacity=\"0.3\"/>\n",
       "<polyline clip-path=\"url(#clip822)\" style=\"stroke:#000000; stroke-linecap:round; stroke-linejoin:round; stroke-width:0; stroke-opacity:0.3; fill:none\" points=\"1529.02,2925.65 1529.02,-1391.96 1595.02,-1391.96 1595.02,2925.65 1529.02,2925.65 \"/>\n",
       "<path clip-path=\"url(#clip822)\" d=\"M1602.49 2925.65 L1602.49 -1391.96 L1609.71 -1391.96 L1609.71 2925.65 L1602.49 2925.65  Z\" fill=\"#e26f46\" fill-rule=\"evenodd\" fill-opacity=\"0.3\"/>\n",
       "<polyline clip-path=\"url(#clip822)\" style=\"stroke:#000000; stroke-linecap:round; stroke-linejoin:round; stroke-width:0; stroke-opacity:0.3; fill:none\" points=\"1602.49,2925.65 1602.49,-1391.96 1609.71,-1391.96 1609.71,2925.65 1602.49,2925.65 \"/>\n",
       "<path clip-path=\"url(#clip822)\" d=\"M1617.18 2925.65 L1617.18 -1391.96 L1624.65 -1391.96 L1624.65 2925.65 L1617.18 2925.65  Z\" fill=\"#e26f46\" fill-rule=\"evenodd\" fill-opacity=\"0.3\"/>\n",
       "<polyline clip-path=\"url(#clip822)\" style=\"stroke:#000000; stroke-linecap:round; stroke-linejoin:round; stroke-width:0; stroke-opacity:0.3; fill:none\" points=\"1617.18,2925.65 1617.18,-1391.96 1624.65,-1391.96 1624.65,2925.65 1617.18,2925.65 \"/>\n",
       "<path clip-path=\"url(#clip822)\" d=\"M1631.87 2925.65 L1631.87 -1391.96 L1639.34 -1391.96 L1639.34 2925.65 L1631.87 2925.65  Z\" fill=\"#e26f46\" fill-rule=\"evenodd\" fill-opacity=\"0.3\"/>\n",
       "<polyline clip-path=\"url(#clip822)\" style=\"stroke:#000000; stroke-linecap:round; stroke-linejoin:round; stroke-width:0; stroke-opacity:0.3; fill:none\" points=\"1631.87,2925.65 1631.87,-1391.96 1639.34,-1391.96 1639.34,2925.65 1631.87,2925.65 \"/>\n",
       "<path clip-path=\"url(#clip822)\" d=\"M1646.57 2925.65 L1646.57 -1391.96 L1654.03 -1391.96 L1654.03 2925.65 L1646.57 2925.65  Z\" fill=\"#e26f46\" fill-rule=\"evenodd\" fill-opacity=\"0.3\"/>\n",
       "<polyline clip-path=\"url(#clip822)\" style=\"stroke:#000000; stroke-linecap:round; stroke-linejoin:round; stroke-width:0; stroke-opacity:0.3; fill:none\" points=\"1646.57,2925.65 1646.57,-1391.96 1654.03,-1391.96 1654.03,2925.65 1646.57,2925.65 \"/>\n",
       "<path clip-path=\"url(#clip822)\" d=\"M1661.5 2925.65 L1661.5 -1391.96 L1668.24 -1391.96 L1668.24 2925.65 L1661.5 2925.65  Z\" fill=\"#e26f46\" fill-rule=\"evenodd\" fill-opacity=\"0.3\"/>\n",
       "<polyline clip-path=\"url(#clip822)\" style=\"stroke:#000000; stroke-linecap:round; stroke-linejoin:round; stroke-width:0; stroke-opacity:0.3; fill:none\" points=\"1661.5,2925.65 1661.5,-1391.96 1668.24,-1391.96 1668.24,2925.65 1661.5,2925.65 \"/>\n",
       "<path clip-path=\"url(#clip822)\" d=\"M1675.71 2925.65 L1675.71 -1391.96 L1682.94 -1391.96 L1682.94 2925.65 L1675.71 2925.65  Z\" fill=\"#e26f46\" fill-rule=\"evenodd\" fill-opacity=\"0.3\"/>\n",
       "<polyline clip-path=\"url(#clip822)\" style=\"stroke:#000000; stroke-linecap:round; stroke-linejoin:round; stroke-width:0; stroke-opacity:0.3; fill:none\" points=\"1675.71,2925.65 1675.71,-1391.96 1682.94,-1391.96 1682.94,2925.65 1675.71,2925.65 \"/>\n",
       "<path clip-path=\"url(#clip822)\" d=\"M1690.41 2925.65 L1690.41 -1391.96 L1697.63 -1391.96 L1697.63 2925.65 L1690.41 2925.65  Z\" fill=\"#e26f46\" fill-rule=\"evenodd\" fill-opacity=\"0.3\"/>\n",
       "<polyline clip-path=\"url(#clip822)\" style=\"stroke:#000000; stroke-linecap:round; stroke-linejoin:round; stroke-width:0; stroke-opacity:0.3; fill:none\" points=\"1690.41,2925.65 1690.41,-1391.96 1697.63,-1391.96 1697.63,2925.65 1690.41,2925.65 \"/>\n",
       "<path clip-path=\"url(#clip822)\" d=\"M1705.1 2925.65 L1705.1 -1391.96 L1712.57 -1391.96 L1712.57 2925.65 L1705.1 2925.65  Z\" fill=\"#e26f46\" fill-rule=\"evenodd\" fill-opacity=\"0.3\"/>\n",
       "<polyline clip-path=\"url(#clip822)\" style=\"stroke:#000000; stroke-linecap:round; stroke-linejoin:round; stroke-width:0; stroke-opacity:0.3; fill:none\" points=\"1705.1,2925.65 1705.1,-1391.96 1712.57,-1391.96 1712.57,2925.65 1705.1,2925.65 \"/>\n",
       "<path clip-path=\"url(#clip822)\" d=\"M1719.79 2925.65 L1719.79 -1391.96 L1727.26 -1391.96 L1727.26 2925.65 L1719.79 2925.65  Z\" fill=\"#e26f46\" fill-rule=\"evenodd\" fill-opacity=\"0.3\"/>\n",
       "<polyline clip-path=\"url(#clip822)\" style=\"stroke:#000000; stroke-linecap:round; stroke-linejoin:round; stroke-width:0; stroke-opacity:0.3; fill:none\" points=\"1719.79,2925.65 1719.79,-1391.96 1727.26,-1391.96 1727.26,2925.65 1719.79,2925.65 \"/>\n",
       "<path clip-path=\"url(#clip822)\" d=\"M1734.48 2925.65 L1734.48 -1391.96 L1741.95 -1391.96 L1741.95 2925.65 L1734.48 2925.65  Z\" fill=\"#e26f46\" fill-rule=\"evenodd\" fill-opacity=\"0.3\"/>\n",
       "<polyline clip-path=\"url(#clip822)\" style=\"stroke:#000000; stroke-linecap:round; stroke-linejoin:round; stroke-width:0; stroke-opacity:0.3; fill:none\" points=\"1734.48,2925.65 1734.48,-1391.96 1741.95,-1391.96 1741.95,2925.65 1734.48,2925.65 \"/>\n",
       "<path clip-path=\"url(#clip822)\" d=\"M1749.42 2925.65 L1749.42 -1391.96 L1756.16 -1391.96 L1756.16 2925.65 L1749.42 2925.65  Z\" fill=\"#e26f46\" fill-rule=\"evenodd\" fill-opacity=\"0.3\"/>\n",
       "<polyline clip-path=\"url(#clip822)\" style=\"stroke:#000000; stroke-linecap:round; stroke-linejoin:round; stroke-width:0; stroke-opacity:0.3; fill:none\" points=\"1749.42,2925.65 1749.42,-1391.96 1756.16,-1391.96 1756.16,2925.65 1749.42,2925.65 \"/>\n",
       "<path clip-path=\"url(#clip822)\" d=\"M1763.63 2925.65 L1763.63 -1391.96 L1770.86 -1391.96 L1770.86 2925.65 L1763.63 2925.65  Z\" fill=\"#e26f46\" fill-rule=\"evenodd\" fill-opacity=\"0.3\"/>\n",
       "<polyline clip-path=\"url(#clip822)\" style=\"stroke:#000000; stroke-linecap:round; stroke-linejoin:round; stroke-width:0; stroke-opacity:0.3; fill:none\" points=\"1763.63,2925.65 1763.63,-1391.96 1770.86,-1391.96 1770.86,2925.65 1763.63,2925.65 \"/>\n",
       "<path clip-path=\"url(#clip822)\" d=\"M1778.32 2925.65 L1778.32 -1391.96 L1785.55 -1391.96 L1785.55 2925.65 L1778.32 2925.65  Z\" fill=\"#e26f46\" fill-rule=\"evenodd\" fill-opacity=\"0.3\"/>\n",
       "<polyline clip-path=\"url(#clip822)\" style=\"stroke:#000000; stroke-linecap:round; stroke-linejoin:round; stroke-width:0; stroke-opacity:0.3; fill:none\" points=\"1778.32,2925.65 1778.32,-1391.96 1785.55,-1391.96 1785.55,2925.65 1778.32,2925.65 \"/>\n",
       "<path clip-path=\"url(#clip822)\" d=\"M1793.02 2925.65 L1793.02 -1391.96 L1800.48 -1391.96 L1800.48 2925.65 L1793.02 2925.65  Z\" fill=\"#e26f46\" fill-rule=\"evenodd\" fill-opacity=\"0.3\"/>\n",
       "<polyline clip-path=\"url(#clip822)\" style=\"stroke:#000000; stroke-linecap:round; stroke-linejoin:round; stroke-width:0; stroke-opacity:0.3; fill:none\" points=\"1793.02,2925.65 1793.02,-1391.96 1800.48,-1391.96 1800.48,2925.65 1793.02,2925.65 \"/>\n",
       "<path clip-path=\"url(#clip822)\" d=\"M1807.71 2925.65 L1807.71 -1391.96 L2005.95 -1391.96 L2005.95 2925.65 L1807.71 2925.65  Z\" fill=\"#e26f46\" fill-rule=\"evenodd\" fill-opacity=\"0.3\"/>\n",
       "<polyline clip-path=\"url(#clip822)\" style=\"stroke:#000000; stroke-linecap:round; stroke-linejoin:round; stroke-width:0; stroke-opacity:0.3; fill:none\" points=\"1807.71,2925.65 1807.71,-1391.96 2005.95,-1391.96 2005.95,2925.65 1807.71,2925.65 \"/>\n",
       "<path clip-path=\"url(#clip822)\" d=\"M2013.41 2925.65 L2013.41 -1391.96 L2020.16 -1391.96 L2020.16 2925.65 L2013.41 2925.65  Z\" fill=\"#e26f46\" fill-rule=\"evenodd\" fill-opacity=\"0.3\"/>\n",
       "<polyline clip-path=\"url(#clip822)\" style=\"stroke:#000000; stroke-linecap:round; stroke-linejoin:round; stroke-width:0; stroke-opacity:0.3; fill:none\" points=\"2013.41,2925.65 2013.41,-1391.96 2020.16,-1391.96 2020.16,2925.65 2013.41,2925.65 \"/>\n",
       "<path clip-path=\"url(#clip822)\" d=\"M2027.63 2925.65 L2027.63 -1391.96 L2034.85 -1391.96 L2034.85 2925.65 L2027.63 2925.65  Z\" fill=\"#e26f46\" fill-rule=\"evenodd\" fill-opacity=\"0.3\"/>\n",
       "<polyline clip-path=\"url(#clip822)\" style=\"stroke:#000000; stroke-linecap:round; stroke-linejoin:round; stroke-width:0; stroke-opacity:0.3; fill:none\" points=\"2027.63,2925.65 2027.63,-1391.96 2034.85,-1391.96 2034.85,2925.65 2027.63,2925.65 \"/>\n",
       "<path clip-path=\"url(#clip822)\" d=\"M2042.32 2925.65 L2042.32 -1391.96 L2049.55 -1391.96 L2049.55 2925.65 L2042.32 2925.65  Z\" fill=\"#e26f46\" fill-rule=\"evenodd\" fill-opacity=\"0.3\"/>\n",
       "<polyline clip-path=\"url(#clip822)\" style=\"stroke:#000000; stroke-linecap:round; stroke-linejoin:round; stroke-width:0; stroke-opacity:0.3; fill:none\" points=\"2042.32,2925.65 2042.32,-1391.96 2049.55,-1391.96 2049.55,2925.65 2042.32,2925.65 \"/>\n",
       "<path clip-path=\"url(#clip822)\" d=\"M2057.01 2925.65 L2057.01 -1391.96 L2064.48 -1391.96 L2064.48 2925.65 L2057.01 2925.65  Z\" fill=\"#e26f46\" fill-rule=\"evenodd\" fill-opacity=\"0.3\"/>\n",
       "<polyline clip-path=\"url(#clip822)\" style=\"stroke:#000000; stroke-linecap:round; stroke-linejoin:round; stroke-width:0; stroke-opacity:0.3; fill:none\" points=\"2057.01,2925.65 2057.01,-1391.96 2064.48,-1391.96 2064.48,2925.65 2057.01,2925.65 \"/>\n",
       "<path clip-path=\"url(#clip820)\" d=\"M264.711 1438.47 L711.686 1438.47 L711.686 1282.95 L264.711 1282.95  Z\" fill=\"#ffffff\" fill-rule=\"evenodd\" fill-opacity=\"1\"/>\n",
       "<polyline clip-path=\"url(#clip820)\" style=\"stroke:#000000; stroke-linecap:round; stroke-linejoin:round; stroke-width:4; stroke-opacity:1; fill:none\" points=\"264.711,1438.47 711.686,1438.47 711.686,1282.95 264.711,1282.95 264.711,1438.47 \"/>\n",
       "<polyline clip-path=\"url(#clip820)\" style=\"stroke:#009af9; stroke-linecap:round; stroke-linejoin:round; stroke-width:4; stroke-opacity:1; fill:none\" points=\"288.711,1334.79 432.714,1334.79 \"/>\n",
       "<path clip-path=\"url(#clip820)\" d=\"M472.548 1322.12 L466.206 1339.32 L478.914 1339.32 L472.548 1322.12 M469.909 1317.51 L475.21 1317.51 L488.381 1352.07 L483.52 1352.07 L480.372 1343.21 L464.794 1343.21 L461.645 1352.07 L456.715 1352.07 L469.909 1317.51 Z\" fill=\"#000000\" fill-rule=\"nonzero\" fill-opacity=\"1\" /><path clip-path=\"url(#clip820)\" d=\"M518.474 1320.18 L518.474 1325.11 Q516.113 1322.91 513.428 1321.82 Q510.766 1320.73 507.756 1320.73 Q501.83 1320.73 498.682 1324.37 Q495.534 1327.98 495.534 1334.83 Q495.534 1341.66 498.682 1345.29 Q501.83 1348.9 507.756 1348.9 Q510.766 1348.9 513.428 1347.82 Q516.113 1346.73 518.474 1344.53 L518.474 1349.41 Q516.02 1351.08 513.265 1351.91 Q510.534 1352.75 507.478 1352.75 Q499.631 1352.75 495.117 1347.95 Q490.604 1343.14 490.604 1334.83 Q490.604 1326.5 495.117 1321.7 Q499.631 1316.89 507.478 1316.89 Q510.58 1316.89 513.312 1317.72 Q516.066 1318.53 518.474 1320.18 Z\" fill=\"#000000\" fill-rule=\"nonzero\" fill-opacity=\"1\" /><path clip-path=\"url(#clip820)\" d=\"M522.617 1317.51 L527.339 1317.51 L534.608 1346.73 L541.853 1317.51 L547.108 1317.51 L554.376 1346.73 L561.622 1317.51 L566.367 1317.51 L557.687 1352.07 L551.807 1352.07 L544.515 1322.07 L537.154 1352.07 L531.275 1352.07 L522.617 1317.51 Z\" fill=\"#000000\" fill-rule=\"nonzero\" fill-opacity=\"1\" /><path clip-path=\"url(#clip820)\" d=\"M572.571 1317.51 L577.247 1317.51 L577.247 1352.07 L572.571 1352.07 L572.571 1317.51 Z\" fill=\"#000000\" fill-rule=\"nonzero\" fill-opacity=\"1\" /><path clip-path=\"url(#clip820)\" d=\"M606.066 1359.94 L606.066 1363.25 L581.436 1363.25 L581.436 1359.94 L606.066 1359.94 Z\" fill=\"#000000\" fill-rule=\"nonzero\" fill-opacity=\"1\" /><path clip-path=\"url(#clip820)\" d=\"M610.256 1317.51 L616.552 1317.51 L631.876 1346.43 L631.876 1317.51 L636.413 1317.51 L636.413 1352.07 L630.117 1352.07 L614.793 1323.16 L614.793 1352.07 L610.256 1352.07 L610.256 1317.51 Z\" fill=\"#000000\" fill-rule=\"nonzero\" fill-opacity=\"1\" /><path clip-path=\"url(#clip820)\" d=\"M667.709 1338.05 L667.709 1340.13 L648.126 1340.13 Q648.404 1344.53 650.765 1346.84 Q653.149 1349.13 657.385 1349.13 Q659.839 1349.13 662.13 1348.53 Q664.445 1347.93 666.714 1346.73 L666.714 1350.75 Q664.422 1351.73 662.015 1352.24 Q659.607 1352.75 657.13 1352.75 Q650.927 1352.75 647.293 1349.13 Q643.681 1345.52 643.681 1339.37 Q643.681 1333 647.107 1329.27 Q650.556 1325.52 656.39 1325.52 Q661.621 1325.52 664.654 1328.9 Q667.709 1332.26 667.709 1338.05 M663.45 1336.8 Q663.404 1333.3 661.482 1331.22 Q659.584 1329.13 656.436 1329.13 Q652.871 1329.13 650.718 1331.15 Q648.589 1333.16 648.265 1336.82 L663.45 1336.8 Z\" fill=\"#000000\" fill-rule=\"nonzero\" fill-opacity=\"1\" /><path clip-path=\"url(#clip820)\" d=\"M678.913 1318.79 L678.913 1326.15 L687.686 1326.15 L687.686 1329.46 L678.913 1329.46 L678.913 1343.53 Q678.913 1346.7 679.769 1347.61 Q680.649 1348.51 683.311 1348.51 L687.686 1348.51 L687.686 1352.07 L683.311 1352.07 Q678.38 1352.07 676.505 1350.25 Q674.63 1348.39 674.63 1343.53 L674.63 1329.46 L671.505 1329.46 L671.505 1326.15 L674.63 1326.15 L674.63 1318.79 L678.913 1318.79 Z\" fill=\"#000000\" fill-rule=\"nonzero\" fill-opacity=\"1\" /><path clip-path=\"url(#clip820)\" d=\"M288.711 1407.37 L432.714 1407.37 L432.714 1365.9 L288.711 1365.9 L288.711 1407.37  Z\" fill=\"#e26f46\" fill-rule=\"evenodd\" fill-opacity=\"0.3\"/>\n",
       "<polyline clip-path=\"url(#clip820)\" style=\"stroke:#000000; stroke-linecap:round; stroke-linejoin:round; stroke-width:0.8; stroke-opacity:1; fill:none\" points=\"288.711,1407.37 432.714,1407.37 432.714,1365.9 288.711,1365.9 288.711,1407.37 \"/>\n",
       "<path clip-path=\"url(#clip820)\" d=\"M470.557 1406.32 Q468.752 1410.95 467.039 1412.36 Q465.326 1413.78 462.456 1413.78 L459.053 1413.78 L459.053 1410.21 L461.553 1410.21 Q463.312 1410.21 464.284 1409.38 Q465.256 1408.54 466.437 1405.44 L467.201 1403.5 L456.715 1377.99 L461.229 1377.99 L469.331 1398.27 L477.432 1377.99 L481.946 1377.99 L470.557 1406.32 Z\" fill=\"#000000\" fill-rule=\"nonzero\" fill-opacity=\"1\" /><path clip-path=\"url(#clip820)\" d=\"M492.455 1399.98 L508.775 1399.98 L508.775 1403.91 L486.83 1403.91 L486.83 1399.98 Q489.492 1397.22 494.076 1392.6 Q498.682 1387.94 499.863 1386.6 Q502.108 1384.08 502.988 1382.34 Q503.891 1380.58 503.891 1378.89 Q503.891 1376.14 501.946 1374.4 Q500.025 1372.66 496.923 1372.66 Q494.724 1372.66 492.27 1373.43 Q489.84 1374.19 487.062 1375.74 L487.062 1371.02 Q489.886 1369.89 492.34 1369.31 Q494.793 1368.73 496.83 1368.73 Q502.201 1368.73 505.395 1371.41 Q508.59 1374.1 508.59 1378.59 Q508.59 1380.72 507.779 1382.64 Q506.992 1384.54 504.886 1387.13 Q504.307 1387.8 501.205 1391.02 Q498.104 1394.22 492.455 1399.98 Z\" fill=\"#000000\" fill-rule=\"nonzero\" fill-opacity=\"1\" /></svg>\n"
      ]
     },
     "metadata": {},
     "output_type": "display_data"
    }
   ],
   "source": [
    "plot(acwi_states[:ACWI_Net ])\n",
    "vspan!(findwhen(acwi_states[:A] .== 2.0),alpha = 0.3)"
   ]
  },
  {
   "cell_type": "code",
   "execution_count": 23,
   "metadata": {},
   "outputs": [
    {
     "data": {
      "text/plain": [
       "3×3 Matrix{Float64}:\n",
       "  0.19   0.07  0.1\n",
       " -0.08   0.19  0.25\n",
       "  0.25  -0.08  0.19"
      ]
     },
     "metadata": {},
     "output_type": "display_data"
    }
   ],
   "source": [
    "sims = [0.06 0.13 -0.23 0.3 -0.05 0.15; 0.15 -0.23 0.06 0.13 0.3 -0.05; -0.05 0.3 -0.23 0.15 0.06 0.13]\n",
    "\n",
    "function annualise(scenarios:: Matrix, shift=2)\n",
    "   \n",
    "    periods = floor.(Int, size(scenarios)[2]/shift)\n",
    "    result = zeros(size(scenarios)[1],periods)\n",
    "\n",
    "    for p in 1:periods\n",
    "        start = (p-1)*shift+1\n",
    "        en = p*shift\n",
    "        result[:,p] .= sum(scenarios[:,start:en],dims=2)\n",
    "    end \n",
    "    return result\n",
    "   \n",
    "end\n",
    "\n",
    "annualise(sims,2)\n"
   ]
  },
  {
   "cell_type": "code",
   "execution_count": 24,
   "metadata": {},
   "outputs": [
    {
     "data": {
      "text/plain": [
       "3-element Vector{Float64}:\n",
       " 0.19\n",
       " 0.06999999999999998\n",
       " 0.09999999999999999"
      ]
     },
     "metadata": {},
     "output_type": "display_data"
    }
   ],
   "source": [
    "function annualise(scenarios:: Vector, shift=2)\n",
    "   \n",
    "    periods = floor.(Int, size(scenarios)[1]/shift)\n",
    "    result = zeros(periods)\n",
    "\n",
    "    for p in 1:periods\n",
    "        start = (p-1)*shift+1\n",
    "        en = p*shift\n",
    "        result[p] = sum(scenarios[start:en])\n",
    "    end  \n",
    "    return result\n",
    "   \n",
    "end\n",
    "\n",
    "annualise(sims[1,:],2)"
   ]
  },
  {
   "cell_type": "code",
   "execution_count": 25,
   "metadata": {},
   "outputs": [
    {
     "data": {
      "text/plain": [
       "print_percentiles (generic function with 1 method)"
      ]
     },
     "metadata": {},
     "output_type": "display_data"
    }
   ],
   "source": [
    "function print_percentiles(X, perc)\n",
    "    years = size(X)[2]\n",
    "    simulation_perc = zeros(length(perc),years)\n",
    "\n",
    "    for t in 1:years\n",
    "        simulation_perc[:,t] = quantile(X[:,t],perc)\n",
    "    end\n",
    "    pretty_table(simulation_perc, backend = Val(:html),header=1:years, row_labels=perc)\n",
    "end"
   ]
  },
  {
   "cell_type": "code",
   "execution_count": 26,
   "metadata": {},
   "outputs": [],
   "source": [
    "using ScenTrees, SDDP"
   ]
  },
  {
   "cell_type": "code",
   "execution_count": 214,
   "metadata": {},
   "outputs": [
    {
     "name": "stdout",
     "output_type": "stream",
     "text": [
      "mean 0.06978414756872021\n",
      "std 0.13188218245803085\n"
     ]
    }
   ],
   "source": [
    "acwi_pln_98 = identity.(values(from(returns[:ACWI_Net_PLN ],Date(1998,01,01))))\n",
    "println(\"mean $(mean(acwi_pln_98)*12)\")\n",
    "println(\"std $(std(acwi_pln_98)*12^0.5)\")"
   ]
  },
  {
   "cell_type": "code",
   "execution_count": 217,
   "metadata": {},
   "outputs": [
    {
     "name": "stdout",
     "output_type": "stream",
     "text": [
      "mean: 0.07229370106669933\n",
      "std: 0.14099421414065977\n"
     ]
    }
   ],
   "source": [
    "println(\"mean: \",expm1(0.0698))\n",
    "println(\"std: \",expm1(0.1319))"
   ]
  },
  {
   "cell_type": "code",
   "execution_count": 216,
   "metadata": {},
   "outputs": [
    {
     "name": "stdout",
     "output_type": "stream",
     "text": [
      "mean 0.005815345630726685\n",
      "std 0.03807110677172973\n"
     ]
    }
   ],
   "source": [
    "println(\"mean $(mean(acwi_pln_98))\")\n",
    "println(\"std $(std(acwi_pln_98))\")"
   ]
  },
  {
   "cell_type": "code",
   "execution_count": 218,
   "metadata": {},
   "outputs": [
    {
     "name": "stdout",
     "output_type": "stream",
     "text": [
      "mean: 0.005816852565873483\n",
      "std: 0.03873123287849773\n"
     ]
    }
   ],
   "source": [
    "println(\"mean: \",expm1(0.0058))\n",
    "println(\"std: \",expm1(0.0380))"
   ]
  },
  {
   "cell_type": "code",
   "execution_count": 222,
   "metadata": {},
   "outputs": [
    {
     "data": {
      "text/html": [
       "<table>\n",
       "  <thead>\n",
       "    <tr class = \"header headerLastRow\">\n",
       "      <th class = \"rowLabel\" style = \"font-weight: bold; text-align: right;\"></th>\n",
       "      <th style = \"text-align: right;\">1</th>\n",
       "      <th style = \"text-align: right;\">2</th>\n",
       "      <th style = \"text-align: right;\">3</th>\n",
       "      <th style = \"text-align: right;\">4</th>\n",
       "      <th style = \"text-align: right;\">5</th>\n",
       "      <th style = \"text-align: right;\">6</th>\n",
       "      <th style = \"text-align: right;\">7</th>\n",
       "      <th style = \"text-align: right;\">8</th>\n",
       "      <th style = \"text-align: right;\">9</th>\n",
       "      <th style = \"text-align: right;\">10</th>\n",
       "      <th style = \"text-align: right;\">11</th>\n",
       "      <th style = \"text-align: right;\">12</th>\n",
       "      <th style = \"text-align: right;\">13</th>\n",
       "      <th style = \"text-align: right;\">14</th>\n",
       "      <th style = \"text-align: right;\">15</th>\n",
       "    </tr>\n",
       "  </thead>\n",
       "  <tbody>\n",
       "    <tr>\n",
       "      <td class = \"rowLabel\" style = \"font-weight: bold; text-align: right;\">0.01</td>\n",
       "      <td style = \"text-align: right;\">-0.242263</td>\n",
       "      <td style = \"text-align: right;\">-0.241252</td>\n",
       "      <td style = \"text-align: right;\">-0.243898</td>\n",
       "      <td style = \"text-align: right;\">-0.241907</td>\n",
       "      <td style = \"text-align: right;\">-0.241797</td>\n",
       "      <td style = \"text-align: right;\">-0.240418</td>\n",
       "      <td style = \"text-align: right;\">-0.242734</td>\n",
       "      <td style = \"text-align: right;\">-0.241739</td>\n",
       "      <td style = \"text-align: right;\">-0.242553</td>\n",
       "      <td style = \"text-align: right;\">-0.242756</td>\n",
       "      <td style = \"text-align: right;\">-0.241226</td>\n",
       "      <td style = \"text-align: right;\">-0.246095</td>\n",
       "      <td style = \"text-align: right;\">-0.241151</td>\n",
       "      <td style = \"text-align: right;\">-0.240549</td>\n",
       "      <td style = \"text-align: right;\">-0.241392</td>\n",
       "    </tr>\n",
       "    <tr>\n",
       "      <td class = \"rowLabel\" style = \"font-weight: bold; text-align: right;\">0.025</td>\n",
       "      <td style = \"text-align: right;\">-0.192598</td>\n",
       "      <td style = \"text-align: right;\">-0.191889</td>\n",
       "      <td style = \"text-align: right;\">-0.194288</td>\n",
       "      <td style = \"text-align: right;\">-0.193468</td>\n",
       "      <td style = \"text-align: right;\">-0.192389</td>\n",
       "      <td style = \"text-align: right;\">-0.192947</td>\n",
       "      <td style = \"text-align: right;\">-0.192968</td>\n",
       "      <td style = \"text-align: right;\">-0.193758</td>\n",
       "      <td style = \"text-align: right;\">-0.193496</td>\n",
       "      <td style = \"text-align: right;\">-0.19254</td>\n",
       "      <td style = \"text-align: right;\">-0.192972</td>\n",
       "      <td style = \"text-align: right;\">-0.194956</td>\n",
       "      <td style = \"text-align: right;\">-0.191345</td>\n",
       "      <td style = \"text-align: right;\">-0.191428</td>\n",
       "      <td style = \"text-align: right;\">-0.191686</td>\n",
       "    </tr>\n",
       "    <tr>\n",
       "      <td class = \"rowLabel\" style = \"font-weight: bold; text-align: right;\">0.16</td>\n",
       "      <td style = \"text-align: right;\">-0.0646758</td>\n",
       "      <td style = \"text-align: right;\">-0.0638414</td>\n",
       "      <td style = \"text-align: right;\">-0.0638717</td>\n",
       "      <td style = \"text-align: right;\">-0.0629254</td>\n",
       "      <td style = \"text-align: right;\">-0.0633886</td>\n",
       "      <td style = \"text-align: right;\">-0.0643428</td>\n",
       "      <td style = \"text-align: right;\">-0.0634294</td>\n",
       "      <td style = \"text-align: right;\">-0.0638255</td>\n",
       "      <td style = \"text-align: right;\">-0.0629669</td>\n",
       "      <td style = \"text-align: right;\">-0.0637367</td>\n",
       "      <td style = \"text-align: right;\">-0.0632063</td>\n",
       "      <td style = \"text-align: right;\">-0.0640455</td>\n",
       "      <td style = \"text-align: right;\">-0.0626969</td>\n",
       "      <td style = \"text-align: right;\">-0.063711</td>\n",
       "      <td style = \"text-align: right;\">-0.063556</td>\n",
       "    </tr>\n",
       "    <tr>\n",
       "      <td class = \"rowLabel\" style = \"font-weight: bold; text-align: right;\">0.5</td>\n",
       "      <td style = \"text-align: right;\">0.0691804</td>\n",
       "      <td style = \"text-align: right;\">0.069407</td>\n",
       "      <td style = \"text-align: right;\">0.068372</td>\n",
       "      <td style = \"text-align: right;\">0.0696351</td>\n",
       "      <td style = \"text-align: right;\">0.0696961</td>\n",
       "      <td style = \"text-align: right;\">0.068569</td>\n",
       "      <td style = \"text-align: right;\">0.0694812</td>\n",
       "      <td style = \"text-align: right;\">0.0695756</td>\n",
       "      <td style = \"text-align: right;\">0.0688288</td>\n",
       "      <td style = \"text-align: right;\">0.0708483</td>\n",
       "      <td style = \"text-align: right;\">0.0702074</td>\n",
       "      <td style = \"text-align: right;\">0.069429</td>\n",
       "      <td style = \"text-align: right;\">0.0702847</td>\n",
       "      <td style = \"text-align: right;\">0.0692261</td>\n",
       "      <td style = \"text-align: right;\">0.0698611</td>\n",
       "    </tr>\n",
       "    <tr>\n",
       "      <td class = \"rowLabel\" style = \"font-weight: bold; text-align: right;\">0.84</td>\n",
       "      <td style = \"text-align: right;\">0.203019</td>\n",
       "      <td style = \"text-align: right;\">0.202339</td>\n",
       "      <td style = \"text-align: right;\">0.201969</td>\n",
       "      <td style = \"text-align: right;\">0.203395</td>\n",
       "      <td style = \"text-align: right;\">0.202266</td>\n",
       "      <td style = \"text-align: right;\">0.202404</td>\n",
       "      <td style = \"text-align: right;\">0.201667</td>\n",
       "      <td style = \"text-align: right;\">0.202817</td>\n",
       "      <td style = \"text-align: right;\">0.204013</td>\n",
       "      <td style = \"text-align: right;\">0.203251</td>\n",
       "      <td style = \"text-align: right;\">0.203109</td>\n",
       "      <td style = \"text-align: right;\">0.203876</td>\n",
       "      <td style = \"text-align: right;\">0.202175</td>\n",
       "      <td style = \"text-align: right;\">0.203388</td>\n",
       "      <td style = \"text-align: right;\">0.203163</td>\n",
       "    </tr>\n",
       "    <tr>\n",
       "      <td class = \"rowLabel\" style = \"font-weight: bold; text-align: right;\">0.975</td>\n",
       "      <td style = \"text-align: right;\">0.331213</td>\n",
       "      <td style = \"text-align: right;\">0.332671</td>\n",
       "      <td style = \"text-align: right;\">0.333709</td>\n",
       "      <td style = \"text-align: right;\">0.333128</td>\n",
       "      <td style = \"text-align: right;\">0.332908</td>\n",
       "      <td style = \"text-align: right;\">0.333381</td>\n",
       "      <td style = \"text-align: right;\">0.332186</td>\n",
       "      <td style = \"text-align: right;\">0.333172</td>\n",
       "      <td style = \"text-align: right;\">0.333861</td>\n",
       "      <td style = \"text-align: right;\">0.330844</td>\n",
       "      <td style = \"text-align: right;\">0.333536</td>\n",
       "      <td style = \"text-align: right;\">0.332929</td>\n",
       "      <td style = \"text-align: right;\">0.331121</td>\n",
       "      <td style = \"text-align: right;\">0.330731</td>\n",
       "      <td style = \"text-align: right;\">0.33414</td>\n",
       "    </tr>\n",
       "    <tr>\n",
       "      <td class = \"rowLabel\" style = \"font-weight: bold; text-align: right;\">0.99</td>\n",
       "      <td style = \"text-align: right;\">0.379759</td>\n",
       "      <td style = \"text-align: right;\">0.381857</td>\n",
       "      <td style = \"text-align: right;\">0.384321</td>\n",
       "      <td style = \"text-align: right;\">0.381441</td>\n",
       "      <td style = \"text-align: right;\">0.381944</td>\n",
       "      <td style = \"text-align: right;\">0.379885</td>\n",
       "      <td style = \"text-align: right;\">0.382759</td>\n",
       "      <td style = \"text-align: right;\">0.384661</td>\n",
       "      <td style = \"text-align: right;\">0.382828</td>\n",
       "      <td style = \"text-align: right;\">0.380327</td>\n",
       "      <td style = \"text-align: right;\">0.382348</td>\n",
       "      <td style = \"text-align: right;\">0.383601</td>\n",
       "      <td style = \"text-align: right;\">0.380041</td>\n",
       "      <td style = \"text-align: right;\">0.378478</td>\n",
       "      <td style = \"text-align: right;\">0.3834</td>\n",
       "    </tr>\n",
       "  </tbody>\n",
       "</table>\n"
      ]
     },
     "metadata": {},
     "output_type": "display_data"
    }
   ],
   "source": [
    "years = 15\n",
    "n_steps = years * 12\n",
    "n_scenarios = 100000\n",
    "simulations = rand(Normal(0.0058,0.0387),(n_scenarios,n_steps))\n",
    "simulations_ann = annualise(simulations,12)\n",
    "\n",
    "print_percentiles(simulations_ann,[0.01, 0.025,0.16,0.5,0.84,0.975, 0.99])"
   ]
  },
  {
   "cell_type": "code",
   "execution_count": 223,
   "metadata": {},
   "outputs": [
    {
     "data": {
      "text/plain": [
       "Dict{Symbol, Float64} with 8 entries:\n",
       "  :max      => 0.16813\n",
       "  :median   => 0.00545897\n",
       "  :std      => 0.0388241\n",
       "  :mean     => 0.00549482\n",
       "  :var      => 0.00150731\n",
       "  :kurtosis => 0.0115107\n",
       "  :skew     => 0.00248777\n",
       "  :min      => -0.161096"
      ]
     },
     "metadata": {},
     "output_type": "display_data"
    }
   ],
   "source": [
    "norm_moments = Dict(\n",
    "    :mean => mean(simulations[:,1]),\n",
    "    :min => minimum(simulations[:,1]),\n",
    "    :max => maximum(simulations[:,1]),\n",
    "    :median => median(simulations[:,1]),\n",
    "    :std => std(simulations[:,1]),\n",
    "    :var => var(simulations[:,1]),\n",
    "    :skew => skewness(simulations[:,1]),\n",
    "    :kurtosis => kurtosis(simulations[:,1])  \n",
    ")"
   ]
  },
  {
   "cell_type": "code",
   "execution_count": 224,
   "metadata": {},
   "outputs": [
    {
     "data": {
      "text/html": [
       "<table>\n",
       "  <thead>\n",
       "    <tr class = \"header headerLastRow\">\n",
       "      <th class = \"rowLabel\" style = \"font-weight: bold; text-align: right;\"></th>\n",
       "      <th style = \"text-align: right;\">1</th>\n",
       "      <th style = \"text-align: right;\">2</th>\n",
       "      <th style = \"text-align: right;\">3</th>\n",
       "    </tr>\n",
       "  </thead>\n",
       "  <tbody>\n",
       "    <tr>\n",
       "      <td class = \"rowLabel\" style = \"font-weight: bold; text-align: right;\">0.1</td>\n",
       "      <td style = \"text-align: right;\">-0.0361047</td>\n",
       "      <td style = \"text-align: right;\">-0.0361562</td>\n",
       "      <td style = \"text-align: right;\">-0.0352456</td>\n",
       "    </tr>\n",
       "    <tr>\n",
       "      <td class = \"rowLabel\" style = \"font-weight: bold; text-align: right;\">0.3</td>\n",
       "      <td style = \"text-align: right;\">0.190979</td>\n",
       "      <td style = \"text-align: right;\">0.190499</td>\n",
       "      <td style = \"text-align: right;\">0.191878</td>\n",
       "    </tr>\n",
       "    <tr>\n",
       "      <td class = \"rowLabel\" style = \"font-weight: bold; text-align: right;\">0.5</td>\n",
       "      <td style = \"text-align: right;\">0.346292</td>\n",
       "      <td style = \"text-align: right;\">0.348219</td>\n",
       "      <td style = \"text-align: right;\">0.349382</td>\n",
       "    </tr>\n",
       "    <tr>\n",
       "      <td class = \"rowLabel\" style = \"font-weight: bold; text-align: right;\">0.7</td>\n",
       "      <td style = \"text-align: right;\">0.503808</td>\n",
       "      <td style = \"text-align: right;\">0.505497</td>\n",
       "      <td style = \"text-align: right;\">0.506031</td>\n",
       "    </tr>\n",
       "    <tr>\n",
       "      <td class = \"rowLabel\" style = \"font-weight: bold; text-align: right;\">0.9</td>\n",
       "      <td style = \"text-align: right;\">0.72978</td>\n",
       "      <td style = \"text-align: right;\">0.734294</td>\n",
       "      <td style = \"text-align: right;\">0.733035</td>\n",
       "    </tr>\n",
       "  </tbody>\n",
       "</table>\n"
      ]
     },
     "metadata": {},
     "output_type": "display_data"
    }
   ],
   "source": [
    "print_percentiles(annualise(simulations,60),[.1, .3, .5, .7, .9]) "
   ]
  },
  {
   "cell_type": "code",
   "execution_count": 83,
   "metadata": {},
   "outputs": [
    {
     "data": {
      "text/plain": [
       "Root\n",
       " (0, 0.0)\n",
       "Nodes\n",
       " (1, -0.08854756114927403)\n",
       " (1, 0.04774948378041916)\n",
       " (1, 0.07789787606299874)\n",
       " (1, 0.18453690919016388)\n",
       " (1, 0.3934009093824541)\n",
       " (2, -0.09076075219240398)\n",
       " (2, -0.005360072832848097)\n",
       " (2, 0.0751811565543704)\n",
       " (2, 0.18284343451613974)\n",
       " (2, 0.3890363617783442)\n",
       " (3, -0.15326815645658168)\n",
       " (3, -0.022461417553311883)\n",
       " (3, 0.07326560026106714)\n",
       " (3, 0.18214544271119296)\n",
       " (3, 0.38869966781386545)\n",
       " (4, -0.09165092153834703)\n",
       " (4, 0.012358079469855367)\n",
       " (4, 0.07658170314808321)\n",
       " (4, 0.18274379761335502)\n",
       " (4, 0.3902268252359028)\n",
       " (5, -0.08906074907968893)\n",
       " (5, 0.03264561330925338)\n",
       " (5, 0.0770263082754935)\n",
       " (5, 0.18309996900416092)\n",
       " (5, 0.3884821004207399)\n",
       " (6, -0.08925381892266011)\n",
       " (6, 0.025645244144043716)\n",
       " (6, 0.076326505339791)\n",
       " (6, 0.1833289754442842)\n",
       " (6, 0.38877411628649305)\n",
       " (7, -0.14239896057005308)\n",
       " (7, -0.02262539210925512)\n",
       " (7, 0.07323189397251445)\n",
       " (7, 0.18175557641749954)\n",
       " (7, 0.3869861246225201)\n",
       " (8, -0.0853528844294267)\n",
       " (8, 0.06307214385379989)\n",
       " (8, 0.08552808705310845)\n",
       " (8, 0.18409646868917093)\n",
       " (8, 0.3888696986116291)\n",
       " (9, -0.08594690820705281)\n",
       " (9, 0.06264065978561911)\n",
       " (9, 0.09374698217893834)\n",
       " (9, 0.18502591285902237)\n",
       " (9, 0.3900128164680586)\n",
       " (10, -0.085146540425234)\n",
       " (10, 0.06576951773161083)\n",
       " (10, 0.16187909018279234)\n",
       " (10, 0.22452017846878844)\n",
       " (10, 0.3943303121952038)\n",
       " (11, -0.10072729862455725)\n",
       " (11, -0.018118907447555357)\n",
       " (11, 0.07380372547536622)\n",
       " (11, 0.18310746742060777)\n",
       " (11, 0.39101854499715655)\n",
       " (12, -0.08541095080816317)\n",
       " (12, 0.06600809137246767)\n",
       " (12, 0.1638560238212725)\n",
       " (12, 0.23550966058123096)\n",
       " (12, 0.3970482953930827)\n",
       " (13, -0.10478745643736995)\n",
       " (13, -0.018358502005589302)\n",
       " (13, 0.07339623357467114)\n",
       " (13, 0.18243786733690184)\n",
       " (13, 0.3892893780359567)\n",
       " (14, -0.08590860466839895)\n",
       " (14, 0.06591859910051986)\n",
       " (14, 0.16245780866734208)\n",
       " (14, 0.234395213512151)\n",
       " (14, 0.39921868696951024)\n",
       " (15, -0.08565388988844919)\n",
       " (15, 0.06302955716082558)\n",
       " (15, 0.12192089620194961)\n",
       " (15, 0.18774599213314636)\n",
       " (15, 0.39375867948529025)\n",
       "Arcs\n",
       " (0, 0.0) => (1, 0.04774948378041916) w.p. 0.19653\n",
       " (0, 0.0) => (1, -0.08854756114927403) w.p. 0.27648\n",
       " (0, 0.0) => (1, 0.07789787606299874) w.p. 0.17799\n",
       " (0, 0.0) => (1, 0.18453690919016388) w.p. 0.28481\n",
       " (0, 0.0) => (1, 0.3934009093824541) w.p. 0.06419\n",
       " (1, -0.08854756114927403) => (2, -0.005360072832848097) w.p. 0.18030237268518517\n",
       " (1, -0.08854756114927403) => (2, -0.09076075219240398) w.p. 0.21614583333333334\n",
       " (1, -0.08854756114927403) => (2, 0.0751811565543704) w.p. 0.25083188657407407\n",
       " (1, -0.08854756114927403) => (2, 0.18284343451613974) w.p. 0.28833912037037035\n",
       " (1, -0.08854756114927403) => (2, 0.3890363617783442) w.p. 0.06438078703703703\n",
       " (1, 0.04774948378041916) => (2, -0.005360072832848097) w.p. 0.18149900778507097\n",
       " (1, 0.04774948378041916) => (2, -0.09076075219240398) w.p. 0.21141810410624332\n",
       " (1, 0.04774948378041916) => (2, 0.0751811565543704) w.p. 0.25512644379992877\n",
       " (1, 0.04774948378041916) => (2, 0.18284343451613974) w.p. 0.28774232941535643\n",
       " (1, 0.04774948378041916) => (2, 0.3890363617783442) w.p. 0.0642141148934005\n",
       " (1, 0.07789787606299874) => (2, -0.005360072832848097) w.p. 0.17961683240631496\n",
       " (1, 0.07789787606299874) => (2, -0.09076075219240398) w.p. 0.21619192089443226\n",
       " (1, 0.07789787606299874) => (2, 0.0751811565543704) w.p. 0.2527108264509242\n",
       " (1, 0.07789787606299874) => (2, 0.18284343451613974) w.p. 0.2856902073150177\n",
       " (1, 0.07789787606299874) => (2, 0.3890363617783442) w.p. 0.06579021293331086\n",
       " (1, 0.18453690919016388) => (2, -0.005360072832848097) w.p. 0.17752185667638073\n",
       " (1, 0.18453690919016388) => (2, -0.09076075219240398) w.p. 0.21322987254661002\n",
       " (1, 0.18453690919016388) => (2, 0.0751811565543704) w.p. 0.2571187809416804\n",
       " (1, 0.18453690919016388) => (2, 0.18284343451613974) w.p. 0.2875250166777852\n",
       " (1, 0.18453690919016388) => (2, 0.3890363617783442) w.p. 0.06460447315754363\n",
       " (1, 0.3934009093824541) => (2, -0.005360072832848097) w.p. 0.1850755569403334\n",
       " (1, 0.3934009093824541) => (2, -0.09076075219240398) w.p. 0.21046892039258452\n",
       " (1, 0.3934009093824541) => (2, 0.0751811565543704) w.p. 0.26359245988471725\n",
       " (1, 0.3934009093824541) => (2, 0.18284343451613974) w.p. 0.27403022277613337\n",
       " (1, 0.3934009093824541) => (2, 0.3890363617783442) w.p. 0.0668328400062315\n",
       " (2, -0.09076075219240398) => (3, -0.15326815645658168) w.p. 0.13577535859458956\n",
       " (2, -0.09076075219240398) => (3, -0.022461417553311883) w.p. 0.23917207868055881\n",
       " (2, -0.09076075219240398) => (3, 0.07326560026106714) w.p. 0.27215810867635376\n",
       " (2, -0.09076075219240398) => (3, 0.18214544271119296) w.p. 0.28893145820679345\n",
       " (2, -0.09076075219240398) => (3, 0.38869966781386545) w.p. 0.06396299584170444\n",
       " (2, -0.005360072832848097) => (3, -0.15326815645658168) w.p. 0.1337186683710332\n",
       " (2, -0.005360072832848097) => (3, -0.022461417553311883) w.p. 0.2368143166787084\n",
       " (2, -0.005360072832848097) => (3, 0.07326560026106714) w.p. 0.27560718057022177\n",
       " (2, -0.005360072832848097) => (3, 0.18214544271119296) w.p. 0.2890568554437837\n",
       " (2, -0.005360072832848097) => (3, 0.38869966781386545) w.p. 0.06480297893625299\n",
       " (2, 0.0751811565543704) => (3, -0.15326815645658168) w.p. 0.13105804728615192\n",
       " (2, 0.0751811565543704) => (3, -0.022461417553311883) w.p. 0.23517398476160553\n",
       " (2, 0.0751811565543704) => (3, 0.07326560026106714) w.p. 0.27696174691697434\n",
       " (2, 0.0751811565543704) => (3, 0.18214544271119296) w.p. 0.28662320320477574\n",
       " (2, 0.0751811565543704) => (3, 0.38869966781386545) w.p. 0.0701830178304925\n",
       " (2, 0.18284343451613974) => (3, -0.15326815645658168) w.p. 0.13094905792044662\n",
       " (2, 0.18284343451613974) => (3, -0.022461417553311883) w.p. 0.23939288206559664\n",
       " (2, 0.18284343451613974) => (3, 0.07326560026106714) w.p. 0.2774598743893929\n",
       " (2, 0.18284343451613974) => (3, 0.18214544271119296) w.p. 0.28667131891137476\n",
       " (2, 0.18284343451613974) => (3, 0.38869966781386545) w.p. 0.06552686671318911\n",
       " (2, 0.3890363617783442) => (3, -0.15326815645658168) w.p. 0.12974390620178958\n",
       " (2, 0.3890363617783442) => (3, -0.022461417553311883) w.p. 0.23295279234804073\n",
       " (2, 0.3890363617783442) => (3, 0.07326560026106714) w.p. 0.28309163838321505\n",
       " (2, 0.3890363617783442) => (3, 0.18214544271119296) w.p. 0.2928108608454181\n",
       " (2, 0.3890363617783442) => (3, 0.38869966781386545) w.p. 0.061400802221536564\n",
       " (3, -0.15326815645658168) => (4, 0.012358079469855367) w.p. 0.18024616778675526\n",
       " (3, -0.15326815645658168) => (4, -0.09165092153834703) w.p. 0.22842256286339954\n",
       " (3, -0.15326815645658168) => (4, 0.07658170314808321) w.p. 0.23151853809559766\n",
       " (3, -0.15326815645658168) => (4, 0.18274379761335502) w.p. 0.29034206750736236\n",
       " (3, -0.15326815645658168) => (4, 0.3902268252359028) w.p. 0.06947066374688515\n",
       " (3, -0.022461417553311883) => (4, 0.012358079469855367) w.p. 0.18892960950334892\n",
       " (3, -0.022461417553311883) => (4, -0.09165092153834703) w.p. 0.23400311723324488\n",
       " (3, -0.022461417553311883) => (4, 0.07658170314808321) w.p. 0.22776865074350225\n",
       " (3, -0.022461417553311883) => (4, 0.18274379761335502) w.p. 0.2845949703020346\n",
       " (3, -0.022461417553311883) => (4, 0.3902268252359028) w.p. 0.06470365221786933\n",
       " (3, 0.07326560026106714) => (4, 0.012358079469855367) w.p. 0.18741628353183942\n",
       " (3, 0.07326560026106714) => (4, -0.09165092153834703) w.p. 0.23360967309850486\n",
       " (3, 0.07326560026106714) => (4, 0.07658170314808321) w.p. 0.22962748434275784\n",
       " (3, 0.07326560026106714) => (4, 0.18274379761335502) w.p. 0.28465409260398944\n",
       " (3, 0.07326560026106714) => (4, 0.3902268252359028) w.p. 0.06469246642290845\n",
       " (3, 0.18214544271119296) => (4, 0.012358079469855367) w.p. 0.1868944681737681\n",
       " (3, 0.18214544271119296) => (4, -0.09165092153834703) w.p. 0.23231586623606626\n",
       " (3, 0.18214544271119296) => (4, 0.07658170314808321) w.p. 0.23280202798902663\n",
       " (3, 0.18214544271119296) => (4, 0.18274379761335502) w.p. 0.283779560370872\n",
       " (3, 0.18214544271119296) => (4, 0.3902268252359028) w.p. 0.06420807723026704\n",
       " (3, 0.38869966781386545) => (4, 0.012358079469855367) w.p. 0.19733252500757806\n",
       " (3, 0.38869966781386545) => (4, -0.09165092153834703) w.p. 0.23522279478629887\n",
       " (3, 0.38869966781386545) => (4, 0.07658170314808321) w.p. 0.22825098514701425\n",
       " (3, 0.38869966781386545) => (4, 0.18274379761335502) w.p. 0.27644740830554715\n",
       " (3, 0.38869966781386545) => (4, 0.3902268252359028) w.p. 0.06274628675356168\n",
       " (4, -0.09165092153834703) => (5, 0.03264561330925338) w.p. 0.1923952738990333\n",
       " (4, -0.09165092153834703) => (5, -0.08906074907968893) w.p. 0.2575295381310419\n",
       " (4, -0.09165092153834703) => (5, 0.0770263082754935) w.p. 0.20068743286788399\n",
       " (4, -0.09165092153834703) => (5, 0.18309996900416092) w.p. 0.2850268528464017\n",
       " (4, -0.09165092153834703) => (5, 0.3884821004207399) w.p. 0.06436090225563909\n",
       " (4, 0.012358079469855367) => (5, 0.03264561330925338) w.p. 0.19446965248491965\n",
       " (4, 0.012358079469855367) => (5, -0.08906074907968893) w.p. 0.25361661239523836\n",
       " (4, 0.012358079469855367) => (5, 0.0770263082754935) w.p. 0.20183633160732398\n",
       " (4, 0.012358079469855367) => (5, 0.18309996900416092) w.p. 0.28591256072172105\n",
       " (4, 0.012358079469855367) => (5, 0.3884821004207399) w.p. 0.06416484279079698\n",
       " (4, 0.07658170314808321) => (5, 0.03264561330925338) w.p. 0.19378094328150786\n",
       " (4, 0.07658170314808321) => (5, -0.08906074907968893) w.p. 0.256101797967515\n",
       " (4, 0.07658170314808321) => (5, 0.0770263082754935) w.p. 0.2005124641709372\n",
       " (4, 0.07658170314808321) => (5, 0.18309996900416092) w.p. 0.2833318856944324\n",
       " (4, 0.07658170314808321) => (5, 0.3884821004207399) w.p. 0.06627290888560758\n",
       " (4, 0.18274379761335502) => (5, 0.03264561330925338) w.p. 0.19476458186929024\n",
       " (4, 0.18274379761335502) => (5, -0.08906074907968893) w.p. 0.258011243851019\n",
       " (4, 0.18274379761335502) => (5, 0.0770263082754935) w.p. 0.19687280393534787\n",
       " (4, 0.18274379761335502) => (5, 0.18309996900416092) w.p. 0.2853127196064652\n",
       " (4, 0.18274379761335502) => (5, 0.3884821004207399) w.p. 0.06503865073787772\n",
       " (4, 0.3902268252359028) => (5, 0.03264561330925338) w.p. 0.18352290193667384\n",
       " (4, 0.3902268252359028) => (5, -0.08906074907968893) w.p. 0.2639102367045804\n",
       " (4, 0.3902268252359028) => (5, 0.0770263082754935) w.p. 0.1936673839532739\n",
       " (4, 0.3902268252359028) => (5, 0.18309996900416092) w.p. 0.2981862895788503\n",
       " (4, 0.3902268252359028) => (5, 0.3884821004207399) w.p. 0.06071318782662158\n",
       " (5, -0.08906074907968893) => (6, 0.025645244144043716) w.p. 0.1861333748346432\n",
       " (5, -0.08906074907968893) => (6, -0.08925381892266011) w.p. 0.2502918060851296\n",
       " (5, -0.08906074907968893) => (6, 0.076326505339791) w.p. 0.21247373745233833\n",
       " (5, -0.08906074907968893) => (6, 0.1833289754442842) w.p. 0.2844914792623142\n",
       " (5, -0.08906074907968893) => (6, 0.38877411628649305) w.p. 0.06660960236557466\n",
       " (5, 0.03264561330925338) => (6, 0.025645244144043716) w.p. 0.19389233954451346\n",
       " (5, 0.03264561330925338) => (6, -0.08925381892266011) w.p. 0.2467391304347826\n",
       " (5, 0.03264561330925338) => (6, 0.076326505339791) w.p. 0.21262939958592134\n",
       " (5, 0.03264561330925338) => (6, 0.1833289754442842) w.p. 0.2815734989648033\n",
       " (5, 0.03264561330925338) => (6, 0.38877411628649305) w.p. 0.0651656314699793\n",
       " (5, 0.0770263082754935) => (6, 0.025645244144043716) w.p. 0.19320690347180414\n",
       " (5, 0.0770263082754935) => (6, -0.08925381892266011) w.p. 0.24894641782059002\n",
       " (5, 0.0770263082754935) => (6, 0.076326505339791) w.p. 0.2118703592213526\n",
       " (5, 0.0770263082754935) => (6, 0.1833289754442842) w.p. 0.28085490668272123\n",
       " (5, 0.0770263082754935) => (6, 0.38877411628649305) w.p. 0.06512141280353201\n",
       " (5, 0.18309996900416092) => (6, 0.025645244144043716) w.p. 0.1903828655421012\n",
       " (5, 0.18309996900416092) => (6, -0.08925381892266011) w.p. 0.2477427031567159\n",
       " (5, 0.18309996900416092) => (6, 0.076326505339791) w.p. 0.20949114579687828\n",
       " (5, 0.18309996900416092) => (6, 0.1833289754442842) w.p. 0.28606425421712045\n",
       " (5, 0.18309996900416092) => (6, 0.38877411628649305) w.p. 0.06631903128718415\n",
       " (5, 0.3884821004207399) => (6, 0.025645244144043716) w.p. 0.1911310259579728\n",
       " (5, 0.3884821004207399) => (6, -0.08925381892266011) w.p. 0.25169962917181704\n",
       " (5, 0.3884821004207399) => (6, 0.076326505339791) w.p. 0.2122991347342398\n",
       " (5, 0.3884821004207399) => (6, 0.1833289754442842) w.p. 0.284610630407911\n",
       " (5, 0.3884821004207399) => (6, 0.38877411628649305) w.p. 0.060259579728059336\n",
       " (6, -0.08925381892266011) => (7, -0.14239896057005308) w.p. 0.14338560514676316\n",
       " (6, -0.08925381892266011) => (7, -0.02262539210925512) w.p. 0.22086851628468035\n",
       " (6, -0.08925381892266011) => (7, 0.07323189397251445) w.p. 0.27720144752714115\n",
       " (6, -0.08925381892266011) => (7, 0.18175557641749954) w.p. 0.29416968234821067\n",
       " (6, -0.08925381892266011) => (7, 0.3869861246225201) w.p. 0.06437474869320467\n",
       " (6, 0.025645244144043716) => (7, -0.14239896057005308) w.p. 0.13994123202854444\n",
       " (6, 0.025645244144043716) => (7, -0.02262539210925512) w.p. 0.23239584426487564\n",
       " (6, 0.025645244144043716) => (7, 0.07323189397251445) w.p. 0.27332353867142406\n",
       " (6, 0.025645244144043716) => (7, 0.18175557641749954) w.p. 0.2865988036520097\n",
       " (6, 0.025645244144043716) => (7, 0.3869861246225201) w.p. 0.06774058138314619\n",
       " (6, 0.076326505339791) => (7, -0.14239896057005308) w.p. 0.142303328290469\n",
       " (6, 0.076326505339791) => (7, -0.02262539210925512) w.p. 0.22995461422087746\n",
       " (6, 0.076326505339791) => (7, 0.07323189397251445) w.p. 0.2759077155824508\n",
       " (6, 0.076326505339791) => (7, 0.18175557641749954) w.p. 0.28616679273827533\n",
       " (6, 0.076326505339791) => (7, 0.3869861246225201) w.p. 0.06566754916792739\n",
       " (6, 0.1833289754442842) => (7, -0.14239896057005308) w.p. 0.13833462596065713\n",
       " (6, 0.1833289754442842) => (7, -0.02262539210925512) w.p. 0.2329196925897201\n",
       " (6, 0.1833289754442842) => (7, 0.07323189397251445) w.p. 0.2744835366283579\n",
       " (6, 0.1833289754442842) => (7, 0.18175557641749954) w.p. 0.2874920679686949\n",
       " (6, 0.1833289754442842) => (7, 0.3869861246225201) w.p. 0.06677007685256998\n",
       " (6, 0.38877411628649305) => (7, -0.14239896057005308) w.p. 0.14296612755569119\n",
       " (6, 0.38877411628649305) => (7, -0.02262539210925512) w.p. 0.23268233140067135\n",
       " (6, 0.38877411628649305) => (7, 0.07323189397251445) w.p. 0.2793713762587733\n",
       " (6, 0.38877411628649305) => (7, 0.18175557641749954) w.p. 0.27418370460787306\n",
       " (6, 0.38877411628649305) => (7, 0.3869861246225201) w.p. 0.07079646017699115\n",
       " (7, -0.14239896057005308) => (8, 0.08552808705310845) w.p. 0.1529353374929098\n",
       " (7, -0.14239896057005308) => (8, -0.0853528844294267) w.p. 0.3043817356778219\n",
       " (7, -0.14239896057005308) => (8, 0.06307214385379989) w.p. 0.2045519001701645\n",
       " (7, -0.14239896057005308) => (8, 0.18409646868917093) w.p. 0.27375212705615426\n",
       " (7, -0.14239896057005308) => (8, 0.3888696986116291) w.p. 0.06437889960294951\n",
       " (7, -0.02262539210925512) => (8, 0.08552808705310845) w.p. 0.15572912121476568\n",
       " (7, -0.02262539210925512) => (8, -0.0853528844294267) w.p. 0.2990662361462606\n",
       " (7, -0.02262539210925512) => (8, 0.06307214385379989) w.p. 0.2041190330744393\n",
       " (7, -0.02262539210925512) => (8, 0.18409646868917093) w.p. 0.27607121040230387\n",
       " (7, -0.02262539210925512) => (8, 0.3888696986116291) w.p. 0.06501439916223056\n",
       " (7, 0.07323189397251445) => (8, 0.08552808705310845) w.p. 0.1551749165336043\n",
       " (7, 0.07323189397251445) => (8, -0.0853528844294267) w.p. 0.29579764842502543\n",
       " (7, 0.07323189397251445) => (8, 0.06307214385379989) w.p. 0.21171432718827116\n",
       " (7, 0.07323189397251445) => (8, 0.18409646868917093) w.p. 0.2727536652634635\n",
       " (7, 0.07323189397251445) => (8, 0.3888696986116291) w.p. 0.06455944258963565\n",
       " (7, 0.18175557641749954) => (8, 0.08552808705310845) w.p. 0.15279852690824444\n",
       " (7, 0.18175557641749954) => (8, -0.0853528844294267) w.p. 0.2998992460827572\n",
       " (7, 0.18175557641749954) => (8, 0.06307214385379989) w.p. 0.21019351700656638\n",
       " (7, 0.18175557641749954) => (8, 0.18409646868917093) w.p. 0.2709585519230101\n",
       " (7, 0.18175557641749954) => (8, 0.3888696986116291) w.p. 0.06615015807942189\n",
       " (7, 0.3869861246225201) => (8, 0.08552808705310845) w.p. 0.1601144750715469\n",
       " (7, 0.3869861246225201) => (8, -0.0853528844294267) w.p. 0.2994426871516795\n",
       " (7, 0.3869861246225201) => (8, 0.06307214385379989) w.p. 0.20259075161921977\n",
       " (7, 0.3869861246225201) => (8, 0.18409646868917093) w.p. 0.2712757945473716\n",
       " (7, 0.3869861246225201) => (8, 0.3888696986116291) w.p. 0.06657629161018226\n",
       " (8, -0.0853528844294267) => (9, 0.09374698217893834) w.p. 0.15375359315462264\n",
       " (8, -0.0853528844294267) => (9, -0.08594690820705281) w.p. 0.30129019319473227\n",
       " (8, -0.0853528844294267) => (9, 0.06264065978561911) w.p. 0.22040243331773515\n",
       " (8, -0.0853528844294267) => (9, 0.18502591285902237) w.p. 0.26355371348352163\n",
       " (8, -0.0853528844294267) => (9, 0.3900128164680586) w.p. 0.06100006684938833\n",
       " (8, 0.06307214385379989) => (9, 0.09374698217893834) w.p. 0.15347248941900732\n",
       " (8, 0.06307214385379989) => (9, -0.08594690820705281) w.p. 0.3004520969603694\n",
       " (8, 0.06307214385379989) => (9, 0.06264065978561911) w.p. 0.2224894190073105\n",
       " (8, 0.06307214385379989) => (9, 0.18502591285902237) w.p. 0.2604367064255483\n",
       " (8, 0.06307214385379989) => (9, 0.3900128164680586) w.p. 0.06314928818776452\n",
       " (8, 0.08552808705310845) => (9, 0.09374698217893834) w.p. 0.15068227381491303\n",
       " (8, 0.08552808705310845) => (9, -0.08594690820705281) w.p. 0.29683761236500034\n",
       " (8, 0.08552808705310845) => (9, 0.06264065978561911) w.p. 0.22731682079803403\n",
       " (8, 0.08552808705310845) => (9, 0.18502591285902237) w.p. 0.2645023604733881\n",
       " (8, 0.08552808705310845) => (9, 0.3900128164680586) w.p. 0.06066093254866455\n",
       " (8, 0.18409646868917093) => (9, 0.09374698217893834) w.p. 0.1552519777322004\n",
       " (8, 0.18409646868917093) => (9, -0.08594690820705281) w.p. 0.2972824494579549\n",
       " (8, 0.18409646868917093) => (9, 0.06264065978561911) w.p. 0.21820978611192499\n",
       " (8, 0.18409646868917093) => (9, 0.18502591285902237) w.p. 0.2661514796366833\n",
       " (8, 0.18409646868917093) => (9, 0.3900128164680586) w.p. 0.06310430706123644\n",
       " (8, 0.3888696986116291) => (9, 0.09374698217893834) w.p. 0.15575655373294497\n",
       " (8, 0.3888696986116291) => (9, -0.08594690820705281) w.p. 0.31135980377127087\n",
       " (8, 0.3888696986116291) => (9, 0.06264065978561911) w.p. 0.21232561704737085\n",
       " (8, 0.3888696986116291) => (9, 0.18502591285902237) w.p. 0.25709029587613064\n",
       " (8, 0.3888696986116291) => (9, 0.3900128164680586) w.p. 0.0634677295722827\n",
       " (9, -0.08594690820705281) => (10, 0.22452017846878844) w.p. 0.15227174239141306\n",
       " (9, -0.08594690820705281) => (10, -0.085146540425234) w.p. 0.3012767092236408\n",
       " (9, -0.08594690820705281) => (10, 0.06576951773161083) w.p. 0.31734391146371543\n",
       " (9, -0.08594690820705281) => (10, 0.16187909018279234) w.p. 0.18233941131371045\n",
       " (9, -0.08594690820705281) => (10, 0.3943303121952038) w.p. 0.04676822560752025\n",
       " (9, 0.06264065978561911) => (10, 0.22452017846878844) w.p. 0.1485641815381828\n",
       " (9, 0.06264065978561911) => (10, -0.085146540425234) w.p. 0.29690189328743544\n",
       " (9, 0.06264065978561911) => (10, 0.06576951773161083) w.p. 0.3199112238427394\n",
       " (9, 0.06264065978561911) => (10, 0.16187909018279234) w.p. 0.1869734577407374\n",
       " (9, 0.06264065978561911) => (10, 0.3943303121952038) w.p. 0.04764924359090497\n",
       " (9, 0.09374698217893834) => (10, 0.22452017846878844) w.p. 0.14919354838709678\n",
       " (9, 0.09374698217893834) => (10, -0.085146540425234) w.p. 0.3034599375650364\n",
       " (9, 0.09374698217893834) => (10, 0.06576951773161083) w.p. 0.3218652445369407\n",
       " (9, 0.09374698217893834) => (10, 0.16187909018279234) w.p. 0.18138657648283038\n",
       " (9, 0.09374698217893834) => (10, 0.3943303121952038) w.p. 0.04409469302809573\n",
       " (9, 0.18502591285902237) => (10, 0.22452017846878844) w.p. 0.1469583048530417\n",
       " (9, 0.18502591285902237) => (10, -0.085146540425234) w.p. 0.30986557302346773\n",
       " (9, 0.18502591285902237) => (10, 0.06576951773161083) w.p. 0.315865421128579\n",
       " (9, 0.18502591285902237) => (10, 0.16187909018279234) w.p. 0.18246373509531405\n",
       " (9, 0.18502591285902237) => (10, 0.3943303121952038) w.p. 0.044846965899597475\n",
       " (9, 0.3900128164680586) => (10, 0.22452017846878844) w.p. 0.15032995332367616\n",
       " (9, 0.3900128164680586) => (10, -0.085146540425234) w.p. 0.29357798165137616\n",
       " (9, 0.3900128164680586) => (10, 0.06576951773161083) w.p. 0.3217447287944632\n",
       " (9, 0.3900128164680586) => (10, 0.16187909018279234) w.p. 0.18139385160148078\n",
       " (9, 0.3900128164680586) => (10, 0.3943303121952038) w.p. 0.052953484629003705\n",
       " (10, -0.085146540425234) => (11, -0.10072729862455725) w.p. 0.1860265185332143\n",
       " (10, -0.085146540425234) => (11, -0.018118907447555357) w.p. 0.18896934827894057\n",
       " (10, -0.085146540425234) => (11, 0.07380372547536622) w.p. 0.27232748073934465\n",
       " (10, -0.085146540425234) => (11, 0.18310746742060777) w.p. 0.28826505307013195\n",
       " (10, -0.085146540425234) => (11, 0.39101854499715655) w.p. 0.06441159937836854\n",
       " (10, 0.06576951773161083) => (11, -0.10072729862455725) w.p. 0.187195830324343\n",
       " (10, 0.06576951773161083) => (11, -0.018118907447555357) w.p. 0.1873842192847499\n",
       " (10, 0.06576951773161083) => (11, 0.07380372547536622) w.p. 0.2736035668309837\n",
       " (10, 0.06576951773161083) => (11, 0.18310746742060777) w.p. 0.28845489654306256\n",
       " (10, 0.06576951773161083) => (11, 0.39101854499715655) w.p. 0.06336148701686081\n",
       " (10, 0.16187909018279234) => (11, -0.10072729862455725) w.p. 0.1919318740105901\n",
       " (10, 0.16187909018279234) => (11, -0.018118907447555357) w.p. 0.18472624051531197\n",
       " (10, 0.16187909018279234) => (11, 0.07380372547536622) w.p. 0.2727223101697691\n",
       " (10, 0.16187909018279234) => (11, 0.18310746742060777) w.p. 0.28746110595556523\n",
       " (10, 0.16187909018279234) => (11, 0.39101854499715655) w.p. 0.06315846934876358\n",
       " (10, 0.22452017846878844) => (11, -0.10072729862455725) w.p. 0.18546768366118024\n",
       " (10, 0.22452017846878844) => (11, -0.018118907447555357) w.p. 0.18653820420179312\n",
       " (10, 0.22452017846878844) => (11, 0.07380372547536622) w.p. 0.2742539809982604\n",
       " (10, 0.22452017846878844) => (11, 0.18310746742060777) w.p. 0.28636424461394355\n",
       " (10, 0.22452017846878844) => (11, 0.39101854499715655) w.p. 0.0673758865248227\n",
       " (10, 0.3943303121952038) => (11, -0.10072729862455725) w.p. 0.18479431402110705\n",
       " (10, 0.3943303121952038) => (11, -0.018118907447555357) w.p. 0.18500969200947665\n",
       " (10, 0.3943303121952038) => (11, 0.07380372547536622) w.p. 0.27546844712470386\n",
       " (10, 0.3943303121952038) => (11, 0.18310746742060777) w.p. 0.2898987723454663\n",
       " (10, 0.3943303121952038) => (11, 0.39101854499715655) w.p. 0.06482877449924618\n",
       " (11, -0.10072729862455725) => (12, 0.23550966058123096) w.p. 0.1457777303298815\n",
       " (11, -0.10072729862455725) => (12, -0.08541095080816317) w.p. 0.29945553539019965\n",
       " (11, -0.10072729862455725) => (12, 0.06600809137246767) w.p. 0.3225152129817444\n",
       " (11, -0.10072729862455725) => (12, 0.1638560238212725) w.p. 0.1913099177965197\n",
       " (11, -0.10072729862455725) => (12, 0.3970482953930827) w.p. 0.040941603501654746\n",
       " (11, -0.018118907447555357) => (12, 0.23550966058123096) w.p. 0.14625414128459976\n",
       " (11, -0.018118907447555357) => (12, -0.08541095080816317) w.p. 0.2997755690926579\n",
       " (11, -0.018118907447555357) => (12, 0.06600809137246767) w.p. 0.31831783691354065\n",
       " (11, -0.018118907447555357) => (12, 0.1638560238212725) w.p. 0.192689964732286\n",
       " (11, -0.018118907447555357) => (12, 0.3970482953930827) w.p. 0.04296248797691568\n",
       " (11, 0.07380372547536622) => (12, 0.23550966058123096) w.p. 0.1454033084467867\n",
       " (11, 0.07380372547536622) => (12, -0.08541095080816317) w.p. 0.3035060752452057\n",
       " (11, 0.07380372547536622) => (12, 0.06600809137246767) w.p. 0.31810862245644855\n",
       " (11, 0.07380372547536622) => (12, 0.1638560238212725) w.p. 0.19272434489825793\n",
       " (11, 0.07380372547536622) => (12, 0.3970482953930827) w.p. 0.040257648953301126\n",
       " (11, 0.18310746742060777) => (12, 0.23550966058123096) w.p. 0.14227176441990486\n",
       " (11, 0.18310746742060777) => (12, -0.08541095080816317) w.p. 0.3050664999826371\n",
       " (11, 0.18310746742060777) => (12, 0.06600809137246767) w.p. 0.31663020453519464\n",
       " (11, 0.18310746742060777) => (12, 0.1638560238212725) w.p. 0.1939090877521964\n",
       " (11, 0.18310746742060777) => (12, 0.3970482953930827) w.p. 0.04212244331006702\n",
       " (11, 0.39101854499715655) => (12, 0.23550966058123096) w.p. 0.13497123308972167\n",
       " (11, 0.39101854499715655) => (12, -0.08541095080816317) w.p. 0.2969989115223138\n",
       " (11, 0.39101854499715655) => (12, 0.06600809137246767) w.p. 0.3268542994868605\n",
       " (11, 0.39101854499715655) => (12, 0.1638560238212725) w.p. 0.19670346757891463\n",
       " (11, 0.39101854499715655) => (12, 0.3970482953930827) w.p. 0.04447208832218939\n",
       " (12, -0.08541095080816317) => (13, -0.10478745643736995) w.p. 0.18309719279661016\n",
       " (12, -0.08541095080816317) => (13, -0.018358502005589302) w.p. 0.1888572563559322\n",
       " (12, -0.08541095080816317) => (13, 0.07339623357467114) w.p. 0.2783037605932203\n",
       " (12, -0.08541095080816317) => (13, 0.18243786733690184) w.p. 0.2837989936440678\n",
       " (12, -0.08541095080816317) => (13, 0.3892893780359567) w.p. 0.0659427966101695\n",
       " (12, 0.06600809137246767) => (13, -0.10478745643736995) w.p. 0.1825075992604431\n",
       " (12, 0.06600809137246767) => (13, -0.018358502005589302) w.p. 0.19150136316630628\n",
       " (12, 0.06600809137246767) => (13, 0.07339623357467114) w.p. 0.274826862210523\n",
       " (12, 0.06600809137246767) => (13, 0.18243786733690184) w.p. 0.284698066497446\n",
       " (12, 0.06600809137246767) => (13, 0.3892893780359567) w.p. 0.06646610886528156\n",
       " (12, 0.1638560238212725) => (13, -0.10478745643736995) w.p. 0.18104118104118105\n",
       " (12, 0.1638560238212725) => (13, -0.018358502005589302) w.p. 0.19000259000259\n",
       " (12, 0.1638560238212725) => (13, 0.07339623357467114) w.p. 0.2724682724682725\n",
       " (12, 0.1638560238212725) => (13, 0.18243786733690184) w.p. 0.29194509194509194\n",
       " (12, 0.1638560238212725) => (13, 0.3892893780359567) w.p. 0.06454286454286454\n",
       " (12, 0.23550966058123096) => (13, -0.10478745643736995) w.p. 0.18624184367624602\n",
       " (12, 0.23550966058123096) => (13, -0.018358502005589302) w.p. 0.18776898514507845\n",
       " (12, 0.23550966058123096) => (13, 0.07339623357467114) w.p. 0.27433014021935304\n",
       " (12, 0.23550966058123096) => (13, 0.18243786733690184) w.p. 0.28967097042898793\n",
       " (12, 0.23550966058123096) => (13, 0.3892893780359567) w.p. 0.06198806053033458\n",
       " (12, 0.3970482953930827) => (13, -0.10478745643736995) w.p. 0.19040767386091126\n",
       " (12, 0.3970482953930827) => (13, -0.018358502005589302) w.p. 0.19136690647482013\n",
       " (12, 0.3970482953930827) => (13, 0.07339623357467114) w.p. 0.2685851318944844\n",
       " (12, 0.3970482953930827) => (13, 0.18243786733690184) w.p. 0.28225419664268586\n",
       " (12, 0.3970482953930827) => (13, 0.3892893780359567) w.p. 0.06738609112709833\n",
       " (13, -0.10478745643736995) => (14, 0.234395213512151) w.p. 0.14088503301140393\n",
       " (13, -0.10478745643736995) => (14, -0.08590860466839895) w.p. 0.30457794510831016\n",
       " (13, -0.10478745643736995) => (14, 0.06591859910051986) w.p. 0.3170731707317073\n",
       " (13, -0.10478745643736995) => (14, 0.16245780866734208) w.p. 0.19572215856386752\n",
       " (13, -0.10478745643736995) => (14, 0.39921868696951024) w.p. 0.04174169258471108\n",
       " (13, -0.018358502005589302) => (14, 0.234395213512151) w.p. 0.1416232158845526\n",
       " (13, -0.018358502005589302) => (14, -0.08590860466839895) w.p. 0.2974140201190288\n",
       " (13, -0.018358502005589302) => (14, 0.06591859910051986) w.p. 0.3193764154421446\n",
       " (13, -0.018358502005589302) => (14, 0.16245780866734208) w.p. 0.19634486754094907\n",
       " (13, -0.018358502005589302) => (14, 0.39921868696951024) w.p. 0.045241481013324904\n",
       " (13, 0.07339623357467114) => (14, 0.234395213512151) w.p. 0.1432985568359446\n",
       " (13, 0.07339623357467114) => (14, -0.08590860466839895) w.p. 0.3043367625140863\n",
       " (13, 0.07339623357467114) => (14, 0.06591859910051986) w.p. 0.32105856265222293\n",
       " (13, 0.07339623357467114) => (14, 0.16245780866734208) w.p. 0.19037405939874222\n",
       " (13, 0.07339623357467114) => (14, 0.39921868696951024) w.p. 0.040932058599003965\n",
       " (13, 0.18243786733690184) => (14, 0.234395213512151) w.p. 0.14526602429828236\n",
       " (13, 0.18243786733690184) => (14, -0.08590860466839895) w.p. 0.30666108085462923\n",
       " (13, 0.18243786733690184) => (14, 0.06591859910051986) w.p. 0.31633151794442116\n",
       " (13, 0.18243786733690184) => (14, 0.16245780866734208) w.p. 0.1894637620444072\n",
       " (13, 0.18243786733690184) => (14, 0.39921868696951024) w.p. 0.04227761485826002\n",
       " (13, 0.3892893780359567) => (14, 0.234395213512151) w.p. 0.1510791366906475\n",
       " (13, 0.3892893780359567) => (14, -0.08590860466839895) w.p. 0.3032297566202357\n",
       " (13, 0.3892893780359567) => (14, 0.06591859910051986) w.p. 0.3153222103168529\n",
       " (13, 0.3892893780359567) => (14, 0.16245780866734208) w.p. 0.187356497780499\n",
       " (13, 0.3892893780359567) => (14, 0.39921868696951024) w.p. 0.04301239859176489\n",
       " (14, -0.08590860466839895) => (15, 0.12192089620194961) w.p. 0.1472370414279128\n",
       " (14, -0.08590860466839895) => (15, -0.08565388988844919) w.p. 0.29967727063162747\n",
       " (14, -0.08590860466839895) => (15, 0.06302955716082558) w.p. 0.267371402226174\n",
       " (14, -0.08590860466839895) => (15, 0.18774599213314636) w.p. 0.22426397945070145\n",
       " (14, -0.08590860466839895) => (15, 0.39375867948529025) w.p. 0.06145030626358427\n",
       " (14, 0.06591859910051986) => (15, 0.12192089620194961) w.p. 0.15015081060701269\n",
       " (14, 0.06591859910051986) => (15, -0.08565388988844919) w.p. 0.29543169536257385\n",
       " (14, 0.06591859910051986) => (15, 0.06302955716082558) w.p. 0.26533241171295713\n",
       " (14, 0.06591859910051986) => (15, 0.18774599213314636) w.p. 0.22715847681286916\n",
       " (14, 0.06591859910051986) => (15, 0.39375867948529025) w.p. 0.06192660550458716\n",
       " (14, 0.16245780866734208) => (15, 0.12192089620194961) w.p. 0.15133052127271782\n",
       " (14, 0.16245780866734208) => (15, -0.08565388988844919) w.p. 0.2995365307504036\n",
       " (14, 0.16245780866734208) => (15, 0.06302955716082558) w.p. 0.26162578763734834\n",
       " (14, 0.16245780866734208) => (15, 0.18774599213314636) w.p. 0.22433994688329947\n",
       " (14, 0.16245780866734208) => (15, 0.39375867948529025) w.p. 0.0631672134562308\n",
       " (14, 0.234395213512151) => (15, 0.12192089620194961) w.p. 0.15124294965531648\n",
       " (14, 0.234395213512151) => (15, -0.08565388988844919) w.p. 0.297402687835109\n",
       " (14, 0.234395213512151) => (15, 0.06302955716082558) w.p. 0.2577814915395864\n",
       " (14, 0.234395213512151) => (15, 0.18774599213314636) w.p. 0.22846598426293432\n",
       " (14, 0.234395213512151) => (15, 0.39375867948529025) w.p. 0.06510688670705382\n",
       " (14, 0.39921868696951024) => (15, 0.12192089620194961) w.p. 0.14262140499764261\n",
       " (14, 0.39921868696951024) => (15, -0.08565388988844919) w.p. 0.3069306930693069\n",
       " (14, 0.39921868696951024) => (15, 0.06302955716082558) w.p. 0.2567185289957567\n",
       " (14, 0.39921868696951024) => (15, 0.18774599213314636) w.p. 0.2362093352192362\n",
       " (14, 0.39921868696951024) => (15, 0.39375867948529025) w.p. 0.05752003771805752"
      ]
     },
     "metadata": {},
     "output_type": "display_data"
    }
   ],
   "source": [
    "function simulator()\n",
    "    scenarios = rand(Normal(0.0723,0.1410),180)\n",
    "    return scenarios #annualise(scenarios,12)\n",
    "end\n",
    "\n",
    "graph = SDDP.MarkovianGraph(simulator; budget = fill(5,15), scenarios = 100000);\n",
    "graph\n"
   ]
  },
  {
   "cell_type": "code",
   "execution_count": 200,
   "metadata": {},
   "outputs": [
    {
     "data": {
      "text/html": [
       "<table>\n",
       "  <thead>\n",
       "    <tr class = \"header headerLastRow\">\n",
       "      <th class = \"rowLabel\" style = \"font-weight: bold; text-align: right;\"></th>\n",
       "      <th style = \"text-align: right;\">1</th>\n",
       "      <th style = \"text-align: right;\">2</th>\n",
       "      <th style = \"text-align: right;\">3</th>\n",
       "      <th style = \"text-align: right;\">4</th>\n",
       "      <th style = \"text-align: right;\">5</th>\n",
       "      <th style = \"text-align: right;\">6</th>\n",
       "      <th style = \"text-align: right;\">7</th>\n",
       "      <th style = \"text-align: right;\">8</th>\n",
       "      <th style = \"text-align: right;\">9</th>\n",
       "      <th style = \"text-align: right;\">10</th>\n",
       "      <th style = \"text-align: right;\">11</th>\n",
       "      <th style = \"text-align: right;\">12</th>\n",
       "      <th style = \"text-align: right;\">13</th>\n",
       "      <th style = \"text-align: right;\">14</th>\n",
       "      <th style = \"text-align: right;\">15</th>\n",
       "    </tr>\n",
       "  </thead>\n",
       "  <tbody>\n",
       "    <tr>\n",
       "      <td class = \"rowLabel\" style = \"font-weight: bold; text-align: right;\">0.01</td>\n",
       "      <td style = \"text-align: right;\">-0.300397</td>\n",
       "      <td style = \"text-align: right;\">-0.403072</td>\n",
       "      <td style = \"text-align: right;\">-0.38254</td>\n",
       "      <td style = \"text-align: right;\">-0.388976</td>\n",
       "      <td style = \"text-align: right;\">-0.427381</td>\n",
       "      <td style = \"text-align: right;\">-0.405843</td>\n",
       "      <td style = \"text-align: right;\">-0.396904</td>\n",
       "      <td style = \"text-align: right;\">-0.403387</td>\n",
       "      <td style = \"text-align: right;\">-0.393931</td>\n",
       "      <td style = \"text-align: right;\">-0.398606</td>\n",
       "      <td style = \"text-align: right;\">-0.410657</td>\n",
       "      <td style = \"text-align: right;\">-0.417041</td>\n",
       "      <td style = \"text-align: right;\">-0.412188</td>\n",
       "      <td style = \"text-align: right;\">-0.373583</td>\n",
       "      <td style = \"text-align: right;\">-0.413196</td>\n",
       "    </tr>\n",
       "    <tr>\n",
       "      <td class = \"rowLabel\" style = \"font-weight: bold; text-align: right;\">0.025</td>\n",
       "      <td style = \"text-align: right;\">-0.223409</td>\n",
       "      <td style = \"text-align: right;\">-0.30674</td>\n",
       "      <td style = \"text-align: right;\">-0.307441</td>\n",
       "      <td style = \"text-align: right;\">-0.313403</td>\n",
       "      <td style = \"text-align: right;\">-0.324028</td>\n",
       "      <td style = \"text-align: right;\">-0.320646</td>\n",
       "      <td style = \"text-align: right;\">-0.320938</td>\n",
       "      <td style = \"text-align: right;\">-0.317096</td>\n",
       "      <td style = \"text-align: right;\">-0.310678</td>\n",
       "      <td style = \"text-align: right;\">-0.319924</td>\n",
       "      <td style = \"text-align: right;\">-0.321655</td>\n",
       "      <td style = \"text-align: right;\">-0.325085</td>\n",
       "      <td style = \"text-align: right;\">-0.324271</td>\n",
       "      <td style = \"text-align: right;\">-0.30723</td>\n",
       "      <td style = \"text-align: right;\">-0.33756</td>\n",
       "    </tr>\n",
       "    <tr>\n",
       "      <td class = \"rowLabel\" style = \"font-weight: bold; text-align: right;\">0.16</td>\n",
       "      <td style = \"text-align: right;\">-0.0181015</td>\n",
       "      <td style = \"text-align: right;\">-0.0862417</td>\n",
       "      <td style = \"text-align: right;\">-0.0872449</td>\n",
       "      <td style = \"text-align: right;\">-0.0932284</td>\n",
       "      <td style = \"text-align: right;\">-0.0970227</td>\n",
       "      <td style = \"text-align: right;\">-0.0919599</td>\n",
       "      <td style = \"text-align: right;\">-0.0874344</td>\n",
       "      <td style = \"text-align: right;\">-0.0902573</td>\n",
       "      <td style = \"text-align: right;\">-0.092822</td>\n",
       "      <td style = \"text-align: right;\">-0.0932892</td>\n",
       "      <td style = \"text-align: right;\">-0.0809036</td>\n",
       "      <td style = \"text-align: right;\">-0.0809032</td>\n",
       "      <td style = \"text-align: right;\">-0.080926</td>\n",
       "      <td style = \"text-align: right;\">-0.088808</td>\n",
       "      <td style = \"text-align: right;\">-0.0929473</td>\n",
       "    </tr>\n",
       "    <tr>\n",
       "      <td class = \"rowLabel\" style = \"font-weight: bold; text-align: right;\">0.5</td>\n",
       "      <td style = \"text-align: right;\">0.124876</td>\n",
       "      <td style = \"text-align: right;\">0.0946995</td>\n",
       "      <td style = \"text-align: right;\">0.0994194</td>\n",
       "      <td style = \"text-align: right;\">0.0928247</td>\n",
       "      <td style = \"text-align: right;\">0.0930483</td>\n",
       "      <td style = \"text-align: right;\">0.0934844</td>\n",
       "      <td style = \"text-align: right;\">0.0989188</td>\n",
       "      <td style = \"text-align: right;\">0.0967269</td>\n",
       "      <td style = \"text-align: right;\">0.0963968</td>\n",
       "      <td style = \"text-align: right;\">0.0936012</td>\n",
       "      <td style = \"text-align: right;\">0.0932267</td>\n",
       "      <td style = \"text-align: right;\">0.0944469</td>\n",
       "      <td style = \"text-align: right;\">0.0965281</td>\n",
       "      <td style = \"text-align: right;\">0.0937404</td>\n",
       "      <td style = \"text-align: right;\">0.0933746</td>\n",
       "    </tr>\n",
       "    <tr>\n",
       "      <td class = \"rowLabel\" style = \"font-weight: bold; text-align: right;\">0.84</td>\n",
       "      <td style = \"text-align: right;\">0.239818</td>\n",
       "      <td style = \"text-align: right;\">0.223353</td>\n",
       "      <td style = \"text-align: right;\">0.225772</td>\n",
       "      <td style = \"text-align: right;\">0.222507</td>\n",
       "      <td style = \"text-align: right;\">0.216346</td>\n",
       "      <td style = \"text-align: right;\">0.221088</td>\n",
       "      <td style = \"text-align: right;\">0.226282</td>\n",
       "      <td style = \"text-align: right;\">0.220914</td>\n",
       "      <td style = \"text-align: right;\">0.222534</td>\n",
       "      <td style = \"text-align: right;\">0.221948</td>\n",
       "      <td style = \"text-align: right;\">0.220534</td>\n",
       "      <td style = \"text-align: right;\">0.22294</td>\n",
       "      <td style = \"text-align: right;\">0.220299</td>\n",
       "      <td style = \"text-align: right;\">0.22054</td>\n",
       "      <td style = \"text-align: right;\">0.220957</td>\n",
       "    </tr>\n",
       "    <tr>\n",
       "      <td class = \"rowLabel\" style = \"font-weight: bold; text-align: right;\">0.975</td>\n",
       "      <td style = \"text-align: right;\">0.337025</td>\n",
       "      <td style = \"text-align: right;\">0.330867</td>\n",
       "      <td style = \"text-align: right;\">0.330962</td>\n",
       "      <td style = \"text-align: right;\">0.33656</td>\n",
       "      <td style = \"text-align: right;\">0.326155</td>\n",
       "      <td style = \"text-align: right;\">0.326119</td>\n",
       "      <td style = \"text-align: right;\">0.332468</td>\n",
       "      <td style = \"text-align: right;\">0.326768</td>\n",
       "      <td style = \"text-align: right;\">0.333003</td>\n",
       "      <td style = \"text-align: right;\">0.32883</td>\n",
       "      <td style = \"text-align: right;\">0.322639</td>\n",
       "      <td style = \"text-align: right;\">0.331948</td>\n",
       "      <td style = \"text-align: right;\">0.326642</td>\n",
       "      <td style = \"text-align: right;\">0.328393</td>\n",
       "      <td style = \"text-align: right;\">0.323192</td>\n",
       "    </tr>\n",
       "    <tr>\n",
       "      <td class = \"rowLabel\" style = \"font-weight: bold; text-align: right;\">0.99</td>\n",
       "      <td style = \"text-align: right;\">0.371148</td>\n",
       "      <td style = \"text-align: right;\">0.377049</td>\n",
       "      <td style = \"text-align: right;\">0.371872</td>\n",
       "      <td style = \"text-align: right;\">0.378333</td>\n",
       "      <td style = \"text-align: right;\">0.362429</td>\n",
       "      <td style = \"text-align: right;\">0.367929</td>\n",
       "      <td style = \"text-align: right;\">0.376199</td>\n",
       "      <td style = \"text-align: right;\">0.362416</td>\n",
       "      <td style = \"text-align: right;\">0.369422</td>\n",
       "      <td style = \"text-align: right;\">0.365632</td>\n",
       "      <td style = \"text-align: right;\">0.356624</td>\n",
       "      <td style = \"text-align: right;\">0.3712</td>\n",
       "      <td style = \"text-align: right;\">0.364901</td>\n",
       "      <td style = \"text-align: right;\">0.379169</td>\n",
       "      <td style = \"text-align: right;\">0.366263</td>\n",
       "    </tr>\n",
       "  </tbody>\n",
       "</table>\n"
      ]
     },
     "metadata": {},
     "output_type": "display_data"
    }
   ],
   "source": [
    "years = 15\n",
    "n_steps = years*12\n",
    "n_scenarios = 5000\n",
    "\n",
    "hmm = HMM([1.,0],[0.95 0.05; 0.124529 0.875471],[Normal(0.0134,0.0277),Normal(-0.0134,0.0515)])\n",
    "simulations = zeros(n_scenarios,n_steps)\n",
    "for s in 1:n_scenarios\n",
    "    simulations[s,:] .= rand(hmm,n_steps)[2]\n",
    "end\n",
    "\n",
    "simulations_ann = annualise(simulations,12)\n",
    "\n",
    "print_percentiles(simulations_ann,[0.01, 0.025,0.16,0.5,0.84,0.975, 0.99])"
   ]
  },
  {
   "cell_type": "code",
   "execution_count": 202,
   "metadata": {},
   "outputs": [
    {
     "data": {
      "text/html": [
       "<table>\n",
       "  <thead>\n",
       "    <tr class = \"header headerLastRow\">\n",
       "      <th class = \"rowLabel\" style = \"font-weight: bold; text-align: right;\"></th>\n",
       "      <th style = \"text-align: right;\">1</th>\n",
       "      <th style = \"text-align: right;\">2</th>\n",
       "      <th style = \"text-align: right;\">3</th>\n",
       "    </tr>\n",
       "  </thead>\n",
       "  <tbody>\n",
       "    <tr>\n",
       "      <td class = \"rowLabel\" style = \"font-weight: bold; text-align: right;\">0.1</td>\n",
       "      <td style = \"text-align: right;\">-0.147345</td>\n",
       "      <td style = \"text-align: right;\">-0.181592</td>\n",
       "      <td style = \"text-align: right;\">-0.195227</td>\n",
       "    </tr>\n",
       "    <tr>\n",
       "      <td class = \"rowLabel\" style = \"font-weight: bold; text-align: right;\">0.3</td>\n",
       "      <td style = \"text-align: right;\">0.2071</td>\n",
       "      <td style = \"text-align: right;\">0.158211</td>\n",
       "      <td style = \"text-align: right;\">0.165628</td>\n",
       "    </tr>\n",
       "    <tr>\n",
       "      <td class = \"rowLabel\" style = \"font-weight: bold; text-align: right;\">0.5</td>\n",
       "      <td style = \"text-align: right;\">0.421309</td>\n",
       "      <td style = \"text-align: right;\">0.379942</td>\n",
       "      <td style = \"text-align: right;\">0.388588</td>\n",
       "    </tr>\n",
       "    <tr>\n",
       "      <td class = \"rowLabel\" style = \"font-weight: bold; text-align: right;\">0.7</td>\n",
       "      <td style = \"text-align: right;\">0.615231</td>\n",
       "      <td style = \"text-align: right;\">0.578576</td>\n",
       "      <td style = \"text-align: right;\">0.588337</td>\n",
       "    </tr>\n",
       "    <tr>\n",
       "      <td class = \"rowLabel\" style = \"font-weight: bold; text-align: right;\">0.9</td>\n",
       "      <td style = \"text-align: right;\">0.861792</td>\n",
       "      <td style = \"text-align: right;\">0.831836</td>\n",
       "      <td style = \"text-align: right;\">0.839738</td>\n",
       "    </tr>\n",
       "  </tbody>\n",
       "</table>\n"
      ]
     },
     "metadata": {},
     "output_type": "display_data"
    }
   ],
   "source": [
    "print_percentiles(annualise(simulations,60),[.1, .3, .5, .7, .9]) "
   ]
  },
  {
   "cell_type": "code",
   "execution_count": 198,
   "metadata": {},
   "outputs": [
    {
     "data": {
      "text/html": [
       "<table>\n",
       "  <thead>\n",
       "    <tr class = \"header headerLastRow\">\n",
       "      <th class = \"rowLabel\" style = \"font-weight: bold; text-align: right;\"></th>\n",
       "      <th style = \"text-align: right;\">1</th>\n",
       "      <th style = \"text-align: right;\">2</th>\n",
       "      <th style = \"text-align: right;\">3</th>\n",
       "      <th style = \"text-align: right;\">4</th>\n",
       "      <th style = \"text-align: right;\">5</th>\n",
       "      <th style = \"text-align: right;\">6</th>\n",
       "      <th style = \"text-align: right;\">7</th>\n",
       "      <th style = \"text-align: right;\">8</th>\n",
       "      <th style = \"text-align: right;\">9</th>\n",
       "      <th style = \"text-align: right;\">10</th>\n",
       "    </tr>\n",
       "  </thead>\n",
       "  <tbody>\n",
       "    <tr>\n",
       "      <td class = \"rowLabel\" style = \"font-weight: bold; text-align: right;\">0.05</td>\n",
       "      <td style = \"text-align: right;\">-0.299839</td>\n",
       "      <td style = \"text-align: right;\">-0.188471</td>\n",
       "      <td style = \"text-align: right;\">-0.188897</td>\n",
       "      <td style = \"text-align: right;\">-0.187939</td>\n",
       "      <td style = \"text-align: right;\">-0.187037</td>\n",
       "      <td style = \"text-align: right;\">-0.18905</td>\n",
       "      <td style = \"text-align: right;\">-0.188525</td>\n",
       "      <td style = \"text-align: right;\">-0.189312</td>\n",
       "      <td style = \"text-align: right;\">-0.187615</td>\n",
       "      <td style = \"text-align: right;\">-0.190745</td>\n",
       "    </tr>\n",
       "    <tr>\n",
       "      <td class = \"rowLabel\" style = \"font-weight: bold; text-align: right;\">0.25</td>\n",
       "      <td style = \"text-align: right;\">-0.129513</td>\n",
       "      <td style = \"text-align: right;\">-0.0204326</td>\n",
       "      <td style = \"text-align: right;\">-0.0192505</td>\n",
       "      <td style = \"text-align: right;\">-0.0188138</td>\n",
       "      <td style = \"text-align: right;\">-0.0198739</td>\n",
       "      <td style = \"text-align: right;\">-0.0193366</td>\n",
       "      <td style = \"text-align: right;\">-0.0204446</td>\n",
       "      <td style = \"text-align: right;\">-0.0191115</td>\n",
       "      <td style = \"text-align: right;\">-0.0196406</td>\n",
       "      <td style = \"text-align: right;\">-0.0206027</td>\n",
       "    </tr>\n",
       "    <tr>\n",
       "      <td class = \"rowLabel\" style = \"font-weight: bold; text-align: right;\">0.5</td>\n",
       "      <td style = \"text-align: right;\">-0.0269028</td>\n",
       "      <td style = \"text-align: right;\">0.0800381</td>\n",
       "      <td style = \"text-align: right;\">0.0820359</td>\n",
       "      <td style = \"text-align: right;\">0.0802993</td>\n",
       "      <td style = \"text-align: right;\">0.0798417</td>\n",
       "      <td style = \"text-align: right;\">0.0803217</td>\n",
       "      <td style = \"text-align: right;\">0.0804942</td>\n",
       "      <td style = \"text-align: right;\">0.0808046</td>\n",
       "      <td style = \"text-align: right;\">0.0804192</td>\n",
       "      <td style = \"text-align: right;\">0.0806533</td>\n",
       "    </tr>\n",
       "    <tr>\n",
       "      <td class = \"rowLabel\" style = \"font-weight: bold; text-align: right;\">0.75</td>\n",
       "      <td style = \"text-align: right;\">0.065717</td>\n",
       "      <td style = \"text-align: right;\">0.170311</td>\n",
       "      <td style = \"text-align: right;\">0.171161</td>\n",
       "      <td style = \"text-align: right;\">0.170687</td>\n",
       "      <td style = \"text-align: right;\">0.170823</td>\n",
       "      <td style = \"text-align: right;\">0.170034</td>\n",
       "      <td style = \"text-align: right;\">0.169275</td>\n",
       "      <td style = \"text-align: right;\">0.170514</td>\n",
       "      <td style = \"text-align: right;\">0.170234</td>\n",
       "      <td style = \"text-align: right;\">0.170068</td>\n",
       "    </tr>\n",
       "    <tr>\n",
       "      <td class = \"rowLabel\" style = \"font-weight: bold; text-align: right;\">0.95</td>\n",
       "      <td style = \"text-align: right;\">0.188584</td>\n",
       "      <td style = \"text-align: right;\">0.289501</td>\n",
       "      <td style = \"text-align: right;\">0.28925</td>\n",
       "      <td style = \"text-align: right;\">0.288661</td>\n",
       "      <td style = \"text-align: right;\">0.289865</td>\n",
       "      <td style = \"text-align: right;\">0.289425</td>\n",
       "      <td style = \"text-align: right;\">0.289364</td>\n",
       "      <td style = \"text-align: right;\">0.290524</td>\n",
       "      <td style = \"text-align: right;\">0.289364</td>\n",
       "      <td style = \"text-align: right;\">0.288512</td>\n",
       "    </tr>\n",
       "  </tbody>\n",
       "</table>\n"
      ]
     },
     "metadata": {},
     "output_type": "display_data"
    }
   ],
   "source": [
    "years = 10\n",
    "n_steps = years*12\n",
    "n_scenarios = 100000\n",
    "\n",
    "hmm = HMM([1.,0],transition_matrix(hmm_est_98_PLN),obs_distributions(hmm_est_98_PLN))\n",
    "simulations = zeros(n_scenarios,n_steps)\n",
    "for s in 1:n_scenarios\n",
    "    simulations[s,:] .= rand(hmm,n_steps)[2]\n",
    "end\n",
    "\n",
    "simulations_ann = annualise(simulations,12)\n",
    "\n",
    "print_percentiles(simulations_ann,[0.05, 0.25, 0.5, 0.75, 0.95])"
   ]
  },
  {
   "cell_type": "code",
   "execution_count": 199,
   "metadata": {},
   "outputs": [
    {
     "data": {
      "text/plain": [
       "Dict{Symbol, Float64} with 8 entries:\n",
       "  :max      => 0.144475\n",
       "  :std      => 0.145906\n",
       "  :mean     => 0.0695519\n",
       "  :var      => 0.0212885\n",
       "  :med      => 0.0798417\n",
       "  :kurtosis => 0.449007\n",
       "  :skew     => -0.441203\n",
       "  :min      => -0.151144"
      ]
     },
     "metadata": {},
     "output_type": "display_data"
    }
   ],
   "source": [
    "t = 5\n",
    "hmm_moments = Dict(\n",
    "    :mean => mean(simulations_ann[:,t]),\n",
    "    :med => median(simulations_ann[:,t]),\n",
    "    :min => minimum(simulations[:,t]),\n",
    "    :max => maximum(simulations[:,t]),\n",
    "    :std => std(simulations_ann[:,t]),\n",
    "    :var => var(simulations_ann[:,t]),\n",
    "    :skew => skewness(simulations_ann[:,t]),\n",
    "    :kurtosis => kurtosis(simulations_ann[:,t])  \n",
    ")"
   ]
  },
  {
   "cell_type": "code",
   "execution_count": 87,
   "metadata": {},
   "outputs": [
    {
     "data": {
      "text/plain": [
       "15-element Vector{Float64}:\n",
       " -0.05281208164842216\n",
       " -0.26133965530862185\n",
       "  0.2947271165814024\n",
       "  0.18269991272694674\n",
       "  0.014983372301766367\n",
       "  0.19965863272908907\n",
       "  0.014433970154393738\n",
       "  0.10159567548476091\n",
       " -0.03231853651045022\n",
       "  0.1455352631514237\n",
       "  0.23410027565962582\n",
       "  0.14156536209207354\n",
       " -0.10438386728893412\n",
       " -0.12093959306748862\n",
       "  0.16585315172906678"
      ]
     },
     "metadata": {},
     "output_type": "display_data"
    }
   ],
   "source": [
    "function regime_sampler_ann()    \n",
    "    hmm = HMM([1,0.],[0.95 0.05; 0.124529 0.875471],[Normal(0.0134,0.0277),Normal(-0.0134,0.0515)])    \n",
    "    return annualise(rand(hmm,15*12)[2], 12)\n",
    "end\n",
    "\n",
    "regime_sampler_ann()\n"
   ]
  },
  {
   "cell_type": "code",
   "execution_count": 88,
   "metadata": {},
   "outputs": [
    {
     "data": {
      "text/plain": [
       "Root\n",
       " (0, 0.0)\n",
       "Nodes\n",
       " (1, 0.03229766920507138)\n",
       " (1, 0.2553176659279522)\n",
       " (1, 0.376400870291168)\n",
       " (2, -0.03345826548312744)\n",
       " (2, 0.1814189704725059)\n",
       " (2, 0.35914267195184196)\n",
       " (3, -0.044446598384617376)\n",
       " (3, 0.137095891065677)\n",
       " (3, 0.35521044097569937)\n",
       " (4, -0.09503151097054036)\n",
       " (4, 0.11224933250263205)\n",
       " (4, 0.3601618536405346)\n",
       " (5, -0.042032119322341036)\n",
       " (5, 0.1734099420302958)\n",
       " (5, 0.36731415106180715)\n",
       " (6, -0.06796867201112974)\n",
       " (6, 0.1120519572909225)\n",
       " (6, 0.35650457316384027)\n",
       " (7, -0.072783942565771)\n",
       " (7, 0.11203346560052131)\n",
       " (7, 0.35433945813290174)\n",
       " (8, -0.04276992382277815)\n",
       " (8, 0.19222060088879597)\n",
       " (8, 0.3658977193814378)\n",
       " (9, -0.037196659298637455)\n",
       " (9, 0.22421980824074877)\n",
       " (9, 0.3665416967244802)\n",
       " (10, -0.08843538279877829)\n",
       " (10, 0.11158846418361427)\n",
       " (10, 0.3626523433984434)\n",
       " (11, -0.17489291422073722)\n",
       " (11, 0.09594692197677462)\n",
       " (11, 0.34949003756221914)\n",
       " (12, -0.06837236192230867)\n",
       " (12, 0.1116667633651297)\n",
       " (12, 0.3532093963175636)\n",
       " (13, -0.03267691863897874)\n",
       " (13, 0.21472693621756203)\n",
       " (13, 0.37155331378728024)\n",
       " (14, -0.038045101792418726)\n",
       " (14, 0.1618921095392777)\n",
       " (14, 0.35681761591082495)\n",
       " (15, -0.1305456325135931)\n",
       " (15, 0.1036208293985965)\n",
       " (15, 0.3512792682880414)\n",
       "Arcs\n",
       " (0, 0.0) => (1, 0.2553176659279522) w.p. 0.3329\n",
       " (0, 0.0) => (1, 0.03229766920507138) w.p. 0.63\n",
       " (0, 0.0) => (1, 0.376400870291168) w.p. 0.0371\n",
       " (1, 0.03229766920507138) => (2, 0.1814189704725059) w.p. 0.4141269841269841\n",
       " (1, 0.03229766920507138) => (2, -0.03345826548312744) w.p. 0.5126984126984127\n",
       " (1, 0.03229766920507138) => (2, 0.35914267195184196) w.p. 0.07317460317460317\n",
       " (1, 0.2553176659279522) => (2, 0.1814189704725059) w.p. 0.45839591468909585\n",
       " (1, 0.2553176659279522) => (2, -0.03345826548312744) w.p. 0.457194352658456\n",
       " (1, 0.2553176659279522) => (2, 0.35914267195184196) w.p. 0.08440973265244818\n",
       " (1, 0.376400870291168) => (2, 0.1814189704725059) w.p. 0.3935309973045822\n",
       " (1, 0.376400870291168) => (2, -0.03345826548312744) w.p. 0.48517520215633425\n",
       " (1, 0.376400870291168) => (2, 0.35914267195184196) w.p. 0.12129380053908356\n",
       " (2, -0.03345826548312744) => (3, 0.137095891065677) w.p. 0.41281427412814276\n",
       " (2, -0.03345826548312744) => (3, -0.044446598384617376) w.p. 0.490470397404704\n",
       " (2, -0.03345826548312744) => (3, 0.35521044097569937) w.p. 0.09671532846715329\n",
       " (2, 0.1814189704725059) => (3, 0.137095891065677) w.p. 0.5017519271198319\n",
       " (2, 0.1814189704725059) => (3, -0.044446598384617376) w.p. 0.3781826676010278\n",
       " (2, 0.1814189704725059) => (3, 0.35521044097569937) w.p. 0.12006540527914039\n",
       " (2, 0.35914267195184196) => (3, 0.137095891065677) w.p. 0.49555273189326554\n",
       " (2, 0.35914267195184196) => (3, -0.044446598384617376) w.p. 0.3811944091486658\n",
       " (2, 0.35914267195184196) => (3, 0.35521044097569937) w.p. 0.12325285895806862\n",
       " (3, -0.044446598384617376) => (4, -0.09503151097054036) w.p. 0.37136929460580914\n",
       " (3, -0.044446598384617376) => (4, 0.11224933250263205) w.p. 0.5094513600737667\n",
       " (3, -0.044446598384617376) => (4, 0.3601618536405346) w.p. 0.11917934532042417\n",
       " (3, 0.137095891065677) => (4, -0.09503151097054036) w.p. 0.2794053344993441\n",
       " (3, 0.137095891065677) => (4, 0.11224933250263205) w.p. 0.5800174901617839\n",
       " (3, 0.137095891065677) => (4, 0.3601618536405346) w.p. 0.14057717533887187\n",
       " (3, 0.35521044097569937) => (4, -0.09503151097054036) w.p. 0.2775735294117647\n",
       " (3, 0.35521044097569937) => (4, 0.11224933250263205) w.p. 0.5670955882352942\n",
       " (3, 0.35521044097569937) => (4, 0.3601618536405346) w.p. 0.15533088235294118\n",
       " (4, -0.09503151097054036) => (5, 0.1734099420302958) w.p. 0.3785647132560326\n",
       " (4, -0.09503151097054036) => (5, -0.042032119322341036) w.p. 0.5471638984644313\n",
       " (4, -0.09503151097054036) => (5, 0.36731415106180715) w.p. 0.0742713882795362\n",
       " (4, 0.11224933250263205) => (5, 0.1734099420302958) w.p. 0.46167883211678834\n",
       " (4, 0.11224933250263205) => (5, -0.042032119322341036) w.p. 0.45894160583941607\n",
       " (4, 0.11224933250263205) => (5, 0.36731415106180715) w.p. 0.07937956204379562\n",
       " (4, 0.3601618536405346) => (5, 0.1734099420302958) w.p. 0.45899172310007524\n",
       " (4, 0.3601618536405346) => (5, -0.042032119322341036) w.p. 0.4582392776523702\n",
       " (4, 0.3601618536405346) => (5, 0.36731415106180715) w.p. 0.08276899924755456\n",
       " (5, -0.042032119322341036) => (6, -0.06796867201112974) w.p. 0.40082135523613965\n",
       " (5, -0.042032119322341036) => (6, 0.1120519572909225) w.p. 0.47371663244353185\n",
       " (5, -0.042032119322341036) => (6, 0.35650457316384027) w.p. 0.12546201232032855\n",
       " (5, 0.1734099420302958) => (6, -0.06796867201112974) w.p. 0.32566697332106714\n",
       " (5, 0.1734099420302958) => (6, 0.1120519572909225) w.p. 0.5248390064397425\n",
       " (5, 0.1734099420302958) => (6, 0.35650457316384027) w.p. 0.14949402023919042\n",
       " (5, 0.36731415106180715) => (6, -0.06796867201112974) w.p. 0.31841432225063937\n",
       " (5, 0.36731415106180715) => (6, 0.1120519572909225) w.p. 0.5127877237851662\n",
       " (5, 0.36731415106180715) => (6, 0.35650457316384027) w.p. 0.16879795396419436\n",
       " (6, -0.06796867201112974) => (7, -0.072783942565771) w.p. 0.4028200165883329\n",
       " (6, -0.06796867201112974) => (7, 0.11203346560052131) w.p. 0.4843793198783522\n",
       " (6, -0.06796867201112974) => (7, 0.35433945813290174) w.p. 0.1128006635333149\n",
       " (6, 0.1120519572909225) => (7, -0.072783942565771) w.p. 0.32525050100200403\n",
       " (6, 0.1120519572909225) => (7, 0.11203346560052131) w.p. 0.5336673346693387\n",
       " (6, 0.1120519572909225) => (7, 0.35433945813290174) w.p. 0.1410821643286573\n",
       " (6, 0.35650457316384027) => (7, -0.072783942565771) w.p. 0.30868628858578606\n",
       " (6, 0.35650457316384027) => (7, 0.11203346560052131) w.p. 0.5340990667623834\n",
       " (6, 0.35650457316384027) => (7, 0.35433945813290174) w.p. 0.15721464465183058\n",
       " (7, -0.072783942565771) => (8, 0.19222060088879597) w.p. 0.3700854700854701\n",
       " (7, -0.072783942565771) => (8, -0.04276992382277815) w.p. 0.5737891737891738\n",
       " (7, -0.072783942565771) => (8, 0.3658977193814378) w.p. 0.05612535612535612\n",
       " (7, 0.11203346560052131) => (8, 0.19222060088879597) w.p. 0.4465981779414615\n",
       " (7, 0.11203346560052131) => (8, -0.04276992382277815) w.p. 0.4892421011823997\n",
       " (7, 0.11203346560052131) => (8, 0.3658977193814378) w.p. 0.06415972087613879\n",
       " (7, 0.35433945813290174) => (8, 0.19222060088879597) w.p. 0.4695717505634861\n",
       " (7, 0.35433945813290174) => (8, -0.04276992382277815) w.p. 0.46806912096168296\n",
       " (7, 0.35433945813290174) => (8, 0.3658977193814378) w.p. 0.06235912847483095\n",
       " (8, -0.04276992382277815) => (9, 0.22421980824074877) w.p. 0.34760705289672544\n",
       " (8, -0.04276992382277815) => (9, -0.037196659298637455) w.p. 0.6076341794225926\n",
       " (8, -0.04276992382277815) => (9, 0.3665416967244802) w.p. 0.044758767680682036\n",
       " (8, 0.19222060088879597) => (9, 0.22421980824074877) w.p. 0.4337748344370861\n",
       " (8, 0.19222060088879597) => (9, -0.037196659298637455) w.p. 0.5182119205298014\n",
       " (8, 0.19222060088879597) => (9, 0.3665416967244802) w.p. 0.048013245033112585\n",
       " (8, 0.3658977193814378) => (9, 0.22421980824074877) w.p. 0.41898527004909986\n",
       " (8, 0.3658977193814378) => (9, -0.037196659298637455) w.p. 0.5286415711947627\n",
       " (8, 0.3658977193814378) => (9, 0.3665416967244802) w.p. 0.05237315875613748\n",
       " (9, -0.037196659298637455) => (10, -0.08843538279877829) w.p. 0.35805309734513274\n",
       " (9, -0.037196659298637455) => (10, 0.11158846418361427) w.p. 0.5203539823008849\n",
       " (9, -0.037196659298637455) => (10, 0.3626523433984434) w.p. 0.1215929203539823\n",
       " (9, 0.22421980824074877) => (10, -0.08843538279877829) w.p. 0.2780638516992791\n",
       " (9, 0.22421980824074877) => (10, 0.11158846418361427) w.p. 0.574150360453141\n",
       " (9, 0.22421980824074877) => (10, 0.3626523433984434) w.p. 0.1477857878475798\n",
       " (9, 0.3665416967244802) => (10, -0.08843538279877829) w.p. 0.27253218884120173\n",
       " (9, 0.3665416967244802) => (10, 0.11158846418361427) w.p. 0.5836909871244635\n",
       " (9, 0.3665416967244802) => (10, 0.3626523433984434) w.p. 0.14377682403433475\n",
       " (10, -0.08843538279877829) => (11, -0.17489291422073722) w.p. 0.2894736842105263\n",
       " (10, -0.08843538279877829) => (11, 0.09594692197677462) w.p. 0.5814241486068111\n",
       " (10, -0.08843538279877829) => (11, 0.34949003756221914) w.p. 0.12910216718266254\n",
       " (10, 0.11158846418361427) => (11, -0.17489291422073722) w.p. 0.211135611907387\n",
       " (10, 0.11158846418361427) => (11, 0.09594692197677462) w.p. 0.6306504961411246\n",
       " (10, 0.11158846418361427) => (11, 0.34949003756221914) w.p. 0.1582138919514884\n",
       " (10, 0.3626523433984434) => (11, -0.17489291422073722) w.p. 0.19126506024096385\n",
       " (10, 0.3626523433984434) => (11, 0.09594692197677462) w.p. 0.6468373493975904\n",
       " (10, 0.3626523433984434) => (11, 0.34949003756221914) w.p. 0.16189759036144577\n",
       " (11, -0.17489291422073722) => (12, -0.06837236192230867) w.p. 0.4495295124037639\n",
       " (11, -0.17489291422073722) => (12, 0.1116667633651297) w.p. 0.4422583404619333\n",
       " (11, -0.17489291422073722) => (12, 0.3532093963175636) w.p. 0.10821214713430283\n",
       " (11, 0.09594692197677462) => (12, -0.06837236192230867) w.p. 0.33003728319014425\n",
       " (11, 0.09594692197677462) => (12, 0.1116667633651297) w.p. 0.524720376073918\n",
       " (11, 0.09594692197677462) => (12, 0.3532093963175636) w.p. 0.14524234073593775\n",
       " (11, 0.34949003756221914) => (12, -0.06837236192230867) w.p. 0.31949095780308107\n",
       " (11, 0.34949003756221914) => (12, 0.1116667633651297) w.p. 0.5237776289350301\n",
       " (11, 0.34949003756221914) => (12, 0.3532093963175636) w.p. 0.1567314132618888\n",
       " (12, -0.06837236192230867) => (13, 0.21472693621756203) w.p. 0.3599887766554433\n",
       " (12, -0.06837236192230867) => (13, -0.03267691863897874) w.p. 0.5987654320987654\n",
       " (12, -0.06837236192230867) => (13, 0.37155331378728024) w.p. 0.041245791245791245\n",
       " (12, 0.1116667633651297) => (13, 0.21472693621756203) w.p. 0.4268751236888977\n",
       " (12, 0.1116667633651297) => (13, -0.03267691863897874) w.p. 0.5204828814565604\n",
       " (12, 0.1116667633651297) => (13, 0.37155331378728024) w.p. 0.05264199485454186\n",
       " (12, 0.3532093963175636) => (13, 0.21472693621756203) w.p. 0.4389009399855387\n",
       " (12, 0.3532093963175636) => (13, -0.03267691863897874) w.p. 0.5126536514822849\n",
       " (12, 0.3532093963175636) => (13, 0.37155331378728024) w.p. 0.04844540853217643\n",
       " (13, -0.03267691863897874) => (14, 0.1618921095392777) w.p. 0.4186004019733236\n",
       " (13, -0.03267691863897874) => (14, -0.038045101792418726) w.p. 0.4993604969852001\n",
       " (13, -0.03267691863897874) => (14, 0.35681761591082495) w.p. 0.08203910104147634\n",
       " (13, 0.21472693621756203) => (14, 0.1618921095392777) w.p. 0.4680009883864591\n",
       " (13, 0.21472693621756203) => (14, -0.038045101792418726) w.p. 0.4175932789720781\n",
       " (13, 0.21472693621756203) => (14, 0.35681761591082495) w.p. 0.11440573264146281\n",
       " (13, 0.37155331378728024) => (14, 0.1618921095392777) w.p. 0.47291666666666665\n",
       " (13, 0.37155331378728024) => (14, -0.038045101792418726) w.p. 0.42291666666666666\n",
       " (13, 0.37155331378728024) => (14, 0.35681761591082495) w.p. 0.10416666666666667\n",
       " (14, -0.038045101792418726) => (15, -0.1305456325135931) w.p. 0.3028534370946822\n",
       " (14, -0.038045101792418726) => (15, 0.1036208293985965) w.p. 0.5739299610894941\n",
       " (14, -0.038045101792418726) => (15, 0.3512792682880414) w.p. 0.12321660181582361\n",
       " (14, 0.1618921095392777) => (15, -0.1305456325135931) w.p. 0.2398005439709882\n",
       " (14, 0.1618921095392777) => (15, 0.1036208293985965) w.p. 0.6049410698096102\n",
       " (14, 0.1618921095392777) => (15, 0.3512792682880414) w.p. 0.15525838621940163\n",
       " (14, 0.35681761591082495) => (15, -0.1305456325135931) w.p. 0.2390852390852391\n",
       " (14, 0.35681761591082495) => (15, 0.1036208293985965) w.p. 0.6070686070686071\n",
       " (14, 0.35681761591082495) => (15, 0.3512792682880414) w.p. 0.15384615384615385"
      ]
     },
     "metadata": {},
     "output_type": "display_data"
    }
   ],
   "source": [
    "graph = SDDP.MarkovianGraph(regime_sampler_ann; budget = fill(3,15), scenarios = 10_000);\n",
    "graph"
   ]
  },
  {
   "cell_type": "code",
   "execution_count": 89,
   "metadata": {},
   "outputs": [
    {
     "ename": "UndefVarError",
     "evalue": "UndefVarError: `regime_sampler` not defined",
     "output_type": "error",
     "traceback": [
      "UndefVarError: `regime_sampler` not defined\n",
      "\n",
      "Stacktrace:\n",
      " [1] top-level scope\n",
      "   @ c:\\Users\\matsz\\programowanie\\Optymalizacja_portfela\\julia_msp\\acwi_hmm.ipynb:1"
     ]
    }
   ],
   "source": [
    "lattice_approximation(fill(4,15),regime_sampler,100000,2,1);"
   ]
  },
  {
   "cell_type": "code",
   "execution_count": 90,
   "metadata": {},
   "outputs": [
    {
     "data": {
      "text/plain": [
       "8-element LinRange{Float64, Int64}:\n",
       " -3.5, -2.5, -1.5, -0.5, 0.5, 1.5, 2.5, 3.5"
      ]
     },
     "metadata": {},
     "output_type": "display_data"
    }
   ],
   "source": [
    "Base.LinRange(-3.5,3.5,8)"
   ]
  },
  {
   "cell_type": "code",
   "execution_count": 91,
   "metadata": {},
   "outputs": [
    {
     "name": "stdout",
     "output_type": "stream",
     "text": [
      "mean 0.06978414756872021, std: 0.13188218245803085\n"
     ]
    },
    {
     "data": {
      "text/plain": [
       "Hidden Markov Model with:\n",
       " - initialization: [1.0, 4.090740957784213e-33]\n",
       " - transition matrix: [0.950317465098689 0.04968253490131093; 0.12455009196219552 0.8754499080378044]\n",
       " - observation distributions: [Normal{Float64}(μ=0.013408724056018555, σ=0.027652297142687597), Normal{Float64}(μ=-0.013385427327383409, σ=0.05148011088858971)]"
      ]
     },
     "metadata": {},
     "output_type": "display_data"
    }
   ],
   "source": [
    "acwi_pln_98 = identity.(values(from(returns[:ACWI_Net_PLN ],Date(1998,01,01))))\n",
    "println(\"mean $(mean(acwi_pln_98)*12), std: $(std(acwi_pln_98)*12^0.5)\")\n",
    "hmm_est, loglikehood = train_hmm(acwi_pln_98,2)\n",
    "hmm_est"
   ]
  },
  {
   "cell_type": "code",
   "execution_count": 92,
   "metadata": {},
   "outputs": [
    {
     "data": {
      "text/html": [
       "<div><div style = \"float: left;\"><span>1×8 DataFrame</span></div><div style = \"clear: both;\"></div></div><div class = \"data-frame\" style = \"overflow-x: scroll;\"><table class = \"data-frame\" style = \"margin-bottom: 6px;\"><thead><tr class = \"header\"><th class = \"rowNumber\" style = \"font-weight: bold; text-align: right;\">Row</th><th style = \"text-align: left;\">loglikehood</th><th style = \"text-align: left;\">mu1</th><th style = \"text-align: left;\">mu2</th><th style = \"text-align: left;\">p11</th><th style = \"text-align: left;\">p21</th><th style = \"text-align: left;\">prob1</th><th style = \"text-align: left;\">sig1</th><th style = \"text-align: left;\">sig2</th></tr><tr class = \"subheader headerLastRow\"><th class = \"rowNumber\" style = \"font-weight: bold; text-align: right;\"></th><th title = \"Float64\" style = \"text-align: left;\">Float64</th><th title = \"Float64\" style = \"text-align: left;\">Float64</th><th title = \"Float64\" style = \"text-align: left;\">Float64</th><th title = \"Float64\" style = \"text-align: left;\">Float64</th><th title = \"Float64\" style = \"text-align: left;\">Float64</th><th title = \"Float64\" style = \"text-align: left;\">Float64</th><th title = \"Float64\" style = \"text-align: left;\">Float64</th><th title = \"Float64\" style = \"text-align: left;\">Float64</th></tr></thead><tbody><tr><td class = \"rowNumber\" style = \"font-weight: bold; text-align: right;\">1</td><td style = \"text-align: right;\">603.335</td><td style = \"text-align: right;\">0.160905</td><td style = \"text-align: right;\">-0.160625</td><td style = \"text-align: right;\">0.950317</td><td style = \"text-align: right;\">0.12455</td><td style = \"text-align: right;\">0.714849</td><td style = \"text-align: right;\">0.0957904</td><td style = \"text-align: right;\">0.178332</td></tr></tbody></table></div>"
      ],
      "text/latex": [
       "\\begin{tabular}{r|cccccccc}\n",
       "\t& loglikehood & mu1 & mu2 & p11 & p21 & prob1 & sig1 & sig2\\\\\n",
       "\t\\hline\n",
       "\t& Float64 & Float64 & Float64 & Float64 & Float64 & Float64 & Float64 & Float64\\\\\n",
       "\t\\hline\n",
       "\t1 & 603.335 & 0.160905 & -0.160625 & 0.950317 & 0.12455 & 0.714849 & 0.0957904 & 0.178332 \\\\\n",
       "\\end{tabular}\n"
      ],
      "text/plain": [
       "\u001b[1m1×8 DataFrame\u001b[0m\n",
       "\u001b[1m Row \u001b[0m│\u001b[1m loglikehood \u001b[0m\u001b[1m mu1      \u001b[0m\u001b[1m mu2       \u001b[0m\u001b[1m p11      \u001b[0m\u001b[1m p21     \u001b[0m\u001b[1m prob1    \u001b[0m\u001b[1m sig1    \u001b[0m ⋯\n",
       "     │\u001b[90m Float64     \u001b[0m\u001b[90m Float64  \u001b[0m\u001b[90m Float64   \u001b[0m\u001b[90m Float64  \u001b[0m\u001b[90m Float64 \u001b[0m\u001b[90m Float64  \u001b[0m\u001b[90m Float64 \u001b[0m ⋯\n",
       "─────┼──────────────────────────────────────────────────────────────────────────\n",
       "   1 │     603.335  0.160905  -0.160625  0.950317  0.12455  0.714849  0.095790 ⋯\n",
       "\u001b[36m                                                               2 columns omitted\u001b[0m"
      ]
     },
     "metadata": {},
     "output_type": "display_data"
    }
   ],
   "source": [
    "regime_summary(loglikehood,hmm_est,12)"
   ]
  },
  {
   "cell_type": "code",
   "execution_count": 93,
   "metadata": {},
   "outputs": [
    {
     "data": {
      "text/plain": [
       "Hidden Markov Model with:\n",
       " - initialization: [1.0, 0.0]\n",
       " - transition matrix: [0.95 0.05; 0.12 0.88]\n",
       " - observation distributions: [Normal{Float64}(μ=0.0134, σ=0.0277), Normal{Float64}(μ=-0.0134, σ=0.0515)]"
      ]
     },
     "metadata": {},
     "output_type": "display_data"
    }
   ],
   "source": [
    "init = [1., 0]\n",
    "trans = [0.95 0.05; 0.12 0.88]\n",
    "dists = [Normal(0.0134, 0.0277), Normal(-0.0134, 0.0515)]\n",
    "hmm = HMM(init, trans, dists)"
   ]
  },
  {
   "cell_type": "code",
   "execution_count": 131,
   "metadata": {},
   "outputs": [
    {
     "name": "stdout",
     "output_type": "stream",
     "text": [
      "\n"
     ]
    }
   ],
   "source": [
    "n_scenarios = 2000\n",
    "years = 30\n",
    "n_steps = years * 12\n",
    "\n",
    "long_obs_seqs = zeros(n_scenarios,n_steps)\n",
    "for s in 1:n_scenarios\n",
    "    long_obs_seqs[s,:] .= last(rand(hmm, n_steps))\n",
    "end\n",
    "long_obs_seqs = annualise(long_obs_seqs,12)\n",
    "long_obs_seq_concat = vec(reduce(vcat, transpose(long_obs_seqs)))\n",
    "seq_ends = cumsum(fill(years,n_scenarios))\n",
    "println(\"\")"
   ]
  },
  {
   "cell_type": "code",
   "execution_count": 132,
   "metadata": {},
   "outputs": [
    {
     "ename": "MethodError",
     "evalue": "MethodError: no method matching logpdf(::FullNormal, ::Float64)\n\nClosest candidates are:\n  logpdf(!Matched::Soliton, ::Real)\n   @ Distributions C:\\Users\\matsz\\.julia\\packages\\Distributions\\UaWBm\\src\\univariate\\discrete\\soliton.jl:98\n  logpdf(!Matched::Chernoff, ::Real)\n   @ Distributions C:\\Users\\matsz\\.julia\\packages\\Distributions\\UaWBm\\src\\univariate\\continuous\\chernoff.jl:155\n  logpdf(!Matched::DiscreteUniform, ::Real)\n   @ Distributions C:\\Users\\matsz\\.julia\\packages\\Distributions\\UaWBm\\src\\univariate\\discrete\\discreteuniform.jl:74\n  ...\n",
     "output_type": "error",
     "traceback": [
      "MethodError: no method matching logpdf(::FullNormal, ::Float64)\n",
      "\n",
      "Closest candidates are:\n",
      "  logpdf(!Matched::Soliton, ::Real)\n",
      "   @ Distributions C:\\Users\\matsz\\.julia\\packages\\Distributions\\UaWBm\\src\\univariate\\discrete\\soliton.jl:98\n",
      "  logpdf(!Matched::Chernoff, ::Real)\n",
      "   @ Distributions C:\\Users\\matsz\\.julia\\packages\\Distributions\\UaWBm\\src\\univariate\\continuous\\chernoff.jl:155\n",
      "  logpdf(!Matched::DiscreteUniform, ::Real)\n",
      "   @ Distributions C:\\Users\\matsz\\.julia\\packages\\Distributions\\UaWBm\\src\\univariate\\discrete\\discreteuniform.jl:74\n",
      "  ...\n",
      "\n",
      "\n",
      "Stacktrace:\n",
      " [1] logdensityof(d::FullNormal, x::Float64)\n",
      "   @ DistributionsDensityInterfaceExt C:\\Users\\matsz\\.julia\\packages\\Distributions\\UaWBm\\ext\\DistributionsDensityInterfaceExt.jl:10\n",
      " [2] eltype(hmm::HMM{Vector{Float64}, Matrix{Float64}, Vector{FullNormal}}, obs::Float64, control::Nothing)\n",
      "   @ HiddenMarkovModels C:\\Users\\matsz\\.julia\\packages\\HiddenMarkovModels\\y95cy\\src\\types\\abstract_hmm.jl:50\n",
      " [3] initialize_forward_backward(hmm::HMM{Vector{Float64}, Matrix{Float64}, Vector{FullNormal}}, obs_seq::Vector{Float64}, control_seq::FillArrays.Fill{Nothing, 1, Tuple{Base.OneTo{Int64}}}; seq_ends::Vector{Int64}, transition_marginals::Bool)\n",
      "   @ HiddenMarkovModels C:\\Users\\matsz\\.julia\\packages\\HiddenMarkovModels\\y95cy\\src\\inference\\forward_backward.jl:37\n",
      " [4] baum_welch(hmm_guess::HMM{Vector{Float64}, Matrix{Float64}, Vector{FullNormal}}, obs_seq::Vector{Float64}, control_seq::FillArrays.Fill{Nothing, 1, Tuple{Base.OneTo{Int64}}}; seq_ends::Vector{Int64}, atol::Float64, max_iterations::Int64, loglikelihood_increasing::Bool)\n",
      "   @ HiddenMarkovModels C:\\Users\\matsz\\.julia\\packages\\HiddenMarkovModels\\y95cy\\src\\inference\\baum_welch.jl:64\n",
      " [5] top-level scope\n",
      "   @ c:\\Users\\matsz\\programowanie\\Optymalizacja_portfela\\julia_msp\\acwi_hmm.ipynb:5"
     ]
    }
   ],
   "source": [
    "n_points = 6\n",
    "init_guess = guess_init(n_points)\n",
    "trans_guess = guess_tmatrix(n_points)\n",
    "dists_guess = [guess_distribution() for s in 1:n_points]\n",
    "hmm_guess = HMM(init_guess, trans_guess, dists_guess);\n",
    "\n",
    "hmm_est_concat, loglikehood = baum_welch(hmm_guess, long_obs_seq_concat; seq_ends);\n",
    "#regime_summary(loglikehood,hmm_est_concat,1)\n",
    "hmm_est_concat"
   ]
  },
  {
   "cell_type": "code",
   "execution_count": 133,
   "metadata": {},
   "outputs": [
    {
     "data": {
      "text/plain": [
       "2000-element Vector{Int64}:\n",
       "    30\n",
       "    60\n",
       "    90\n",
       "   120\n",
       "   150\n",
       "   180\n",
       "   210\n",
       "   240\n",
       "   270\n",
       "   300\n",
       "     ⋮\n",
       " 59760\n",
       " 59790\n",
       " 59820\n",
       " 59850\n",
       " 59880\n",
       " 59910\n",
       " 59940\n",
       " 59970\n",
       " 60000"
      ]
     },
     "metadata": {},
     "output_type": "display_data"
    }
   ],
   "source": [
    "simulations = rand(Normal(0.0723,0.1410),(2000,30)) \n",
    "long_obs_seq_concat = vec(reduce(vcat, transpose(simulations)))\n",
    "seq_ends = cumsum(fill(30,2000))"
   ]
  },
  {
   "cell_type": "code",
   "execution_count": 134,
   "metadata": {},
   "outputs": [
    {
     "ename": "MethodError",
     "evalue": "MethodError: no method matching logpdf(::FullNormal, ::Float64)\n\nClosest candidates are:\n  logpdf(!Matched::Soliton, ::Real)\n   @ Distributions C:\\Users\\matsz\\.julia\\packages\\Distributions\\UaWBm\\src\\univariate\\discrete\\soliton.jl:98\n  logpdf(!Matched::Chernoff, ::Real)\n   @ Distributions C:\\Users\\matsz\\.julia\\packages\\Distributions\\UaWBm\\src\\univariate\\continuous\\chernoff.jl:155\n  logpdf(!Matched::DiscreteUniform, ::Real)\n   @ Distributions C:\\Users\\matsz\\.julia\\packages\\Distributions\\UaWBm\\src\\univariate\\discrete\\discreteuniform.jl:74\n  ...\n",
     "output_type": "error",
     "traceback": [
      "MethodError: no method matching logpdf(::FullNormal, ::Float64)\n",
      "\n",
      "Closest candidates are:\n",
      "  logpdf(!Matched::Soliton, ::Real)\n",
      "   @ Distributions C:\\Users\\matsz\\.julia\\packages\\Distributions\\UaWBm\\src\\univariate\\discrete\\soliton.jl:98\n",
      "  logpdf(!Matched::Chernoff, ::Real)\n",
      "   @ Distributions C:\\Users\\matsz\\.julia\\packages\\Distributions\\UaWBm\\src\\univariate\\continuous\\chernoff.jl:155\n",
      "  logpdf(!Matched::DiscreteUniform, ::Real)\n",
      "   @ Distributions C:\\Users\\matsz\\.julia\\packages\\Distributions\\UaWBm\\src\\univariate\\discrete\\discreteuniform.jl:74\n",
      "  ...\n",
      "\n",
      "\n",
      "Stacktrace:\n",
      " [1] logdensityof(d::FullNormal, x::Float64)\n",
      "   @ DistributionsDensityInterfaceExt C:\\Users\\matsz\\.julia\\packages\\Distributions\\UaWBm\\ext\\DistributionsDensityInterfaceExt.jl:10\n",
      " [2] eltype(hmm::HMM{Vector{Float64}, Matrix{Float64}, Vector{FullNormal}}, obs::Float64, control::Nothing)\n",
      "   @ HiddenMarkovModels C:\\Users\\matsz\\.julia\\packages\\HiddenMarkovModels\\y95cy\\src\\types\\abstract_hmm.jl:50\n",
      " [3] initialize_forward_backward(hmm::HMM{Vector{Float64}, Matrix{Float64}, Vector{FullNormal}}, obs_seq::Vector{Float64}, control_seq::FillArrays.Fill{Nothing, 1, Tuple{Base.OneTo{Int64}}}; seq_ends::Vector{Int64}, transition_marginals::Bool)\n",
      "   @ HiddenMarkovModels C:\\Users\\matsz\\.julia\\packages\\HiddenMarkovModels\\y95cy\\src\\inference\\forward_backward.jl:37\n",
      " [4] baum_welch(hmm_guess::HMM{Vector{Float64}, Matrix{Float64}, Vector{FullNormal}}, obs_seq::Vector{Float64}, control_seq::FillArrays.Fill{Nothing, 1, Tuple{Base.OneTo{Int64}}}; seq_ends::Vector{Int64}, atol::Float64, max_iterations::Int64, loglikelihood_increasing::Bool)\n",
      "   @ HiddenMarkovModels C:\\Users\\matsz\\.julia\\packages\\HiddenMarkovModels\\y95cy\\src\\inference\\baum_welch.jl:64\n",
      " [5] top-level scope\n",
      "   @ c:\\Users\\matsz\\programowanie\\Optymalizacja_portfela\\julia_msp\\acwi_hmm.ipynb:5"
     ]
    }
   ],
   "source": [
    "n_points = 8\n",
    "init_guess = guess_init(n_points)\n",
    "trans_guess = guess_tmatrix(n_points)\n",
    "dists_guess = [guess_distribution() for s in 1:n_points]\n",
    "hmm_guess = HMM(init_guess, trans_guess, dists_guess);\n",
    "\n",
    "hmm_est_concat, loglikehood = baum_welch(hmm_guess, long_obs_seq_concat; seq_ends);\n",
    "hmm_est_concat"
   ]
  },
  {
   "cell_type": "code",
   "execution_count": 135,
   "metadata": {},
   "outputs": [],
   "source": [
    "using JuMP, HiGHS"
   ]
  },
  {
   "cell_type": "code",
   "execution_count": 136,
   "metadata": {},
   "outputs": [
    {
     "data": {
      "text/plain": [
       "Dict{Symbol, Float64} with 8 entries:\n",
       "  :max      => 0.525653\n",
       "  :median   => 0.0754856\n",
       "  :std      => 0.137023\n",
       "  :mean     => 0.0754607\n",
       "  :var      => 0.0187752\n",
       "  :kurtosis => -0.00773953\n",
       "  :skew     => -0.0153127\n",
       "  :min      => -0.367604"
      ]
     },
     "metadata": {},
     "output_type": "display_data"
    }
   ],
   "source": [
    "norm_moments"
   ]
  },
  {
   "cell_type": "code",
   "execution_count": 137,
   "metadata": {},
   "outputs": [
    {
     "data": {
      "text/plain": [
       "Dict{Symbol, Float64} with 8 entries:\n",
       "  :max      => 0.14742\n",
       "  :std      => 0.146247\n",
       "  :mean     => 0.0699887\n",
       "  :var      => 0.0213882\n",
       "  :med      => 0.0804617\n",
       "  :kurtosis => 0.500748\n",
       "  :skew     => -0.445893\n",
       "  :min      => -0.150646"
      ]
     },
     "metadata": {},
     "output_type": "display_data"
    }
   ],
   "source": [
    "hmm_moments"
   ]
  },
  {
   "cell_type": "code",
   "execution_count": 138,
   "metadata": {},
   "outputs": [
    {
     "data": {
      "text/plain": [
       "Dict{Symbol, Float64} with 8 entries:\n",
       "  :max      => 0.525653\n",
       "  :median   => 0.0754856\n",
       "  :std      => 0.137023\n",
       "  :mean     => 0.0754607\n",
       "  :var      => 0.0187752\n",
       "  :kurtosis => -0.00773953\n",
       "  :skew     => -0.0153127\n",
       "  :min      => -0.367604"
      ]
     },
     "metadata": {},
     "output_type": "display_data"
    }
   ],
   "source": [
    "moments = norm_moments"
   ]
  },
  {
   "cell_type": "code",
   "execution_count": 139,
   "metadata": {},
   "outputs": [
    {
     "data": {
      "text/plain": [
       "4-element LinRange{Float64, Int64}:\n",
       " -0.335607, -0.0615619, 0.212483, 0.486528"
      ]
     },
     "metadata": {},
     "output_type": "display_data"
    }
   ],
   "source": [
    "M = moments[:mean]\n",
    "V = moments[:var]\n",
    "S = moments[:skew]\n",
    "K = moments[:kurtosis]\n",
    "#X = [-0.252, 0.032, 0.08, 0.244]\n",
    "n_scenarios = 4\n",
    "z = 3\n",
    "X = LinRange(moments[:mean]-z*moments[:std],moments[:mean]+z*moments[:std],n_scenarios) #simulation_perc[:,1] #[simulation_perc[1,1],simulation_perc[2,1],simulation_perc[4,1],simulation_perc[5,1],]\n"
   ]
  },
  {
   "cell_type": "code",
   "execution_count": 140,
   "metadata": {},
   "outputs": [
    {
     "data": {
      "text/latex": [
       "$$ -Kp + Km + 0.028553087554304732 p_{1} + 0.00035250725375684914 p_{2} + 0.00035250725375684795 p_{3} + 0.028553087554304732 p_{4} = -0.0077395287495121146 $$"
      ],
      "text/plain": [
       "-Kp + Km + 0.028553087554304732 p[1] + 0.00035250725375684914 p[2] + 0.00035250725375684795 p[3] + 0.028553087554304732 p[4] == -0.0077395287495121146"
      ]
     },
     "metadata": {},
     "output_type": "display_data"
    }
   ],
   "source": [
    "model = Model(HiGHS.Optimizer)\n",
    "\n",
    "@variable(model, Vp >= 0)\n",
    "@variable(model, Vm >= 0)\n",
    "@variable(model, Sp >= 0)\n",
    "@variable(model, Sm >= 0)\n",
    "@variable(model, Kp >= 0)\n",
    "@variable(model, Km >= 0)\n",
    "\n",
    "@variable(model, p[1:n_scenarios] >= 0)\n",
    "#@variable(model, w[1:3] >= 0.1 )\n",
    "w = [1 1 1]\n",
    "\n",
    "@objective(model, Min, w[1]*(Vm+Vp) + w[2]*(Sm+Sp) + w[3]*(Km + Kp))\n",
    "\n",
    "\n",
    "@constraint(model, dot(X,p) == M)\n",
    "@constraint(model, sum(p) == 1)\n",
    "\n",
    "@constraint(model, dot((X .- M).^2, p) + Vm - Vp == V )\n",
    "@constraint(model, dot((X .- M).^3, p) + Sm - Sp == S )\n",
    "@constraint(model, dot((X .- M).^4, p) + Km - Kp == K ) \n"
   ]
  },
  {
   "cell_type": "code",
   "execution_count": 141,
   "metadata": {},
   "outputs": [
    {
     "name": "stdout",
     "output_type": "stream",
     "text": [
      "Running HiGHS 1.7.0 (git hash: 50670fd4c): Copyright (c) 2024 HiGHS under MIT licence terms\n",
      "Coefficient ranges:\n",
      "  Matrix [4e-04, 1e+00]\n",
      "  Cost   [1e+00, 1e+00]\n",
      "  Bound  [0e+00, 0e+00]\n",
      "  RHS    [8e-03, 1e+00]\n",
      "Presolving model\n",
      "4 rows, 8 cols, 20 nonzeros  0s\n",
      "4 rows, 8 cols, 20 nonzeros  0s\n",
      "Presolve : Reductions: rows 4(-1); columns 8(-2); elements 20(-6)\n",
      "Solving the presolved LP\n",
      "Using EKK dual simplex solver - serial\n",
      "  Iteration        Objective     Infeasibilities num(sum)\n",
      "          0     7.7395287495e-03 Pr: 4(0.0136073) 0s\n",
      "          4     2.3404753401e-02 Pr: 0(0) 0s\n",
      "Solving the original LP from the solution after postsolve\n",
      "Model   status      : Optimal\n",
      "Simplex   iterations: 4\n",
      "Objective value     :  2.3404753401e-02\n",
      "HiGHS run time      :          0.00\n"
     ]
    }
   ],
   "source": [
    "optimize!(model)"
   ]
  },
  {
   "cell_type": "code",
   "execution_count": 142,
   "metadata": {},
   "outputs": [
    {
     "data": {
      "text/plain": [
       "OPTIMAL::TerminationStatusCode = 1"
      ]
     },
     "metadata": {},
     "output_type": "display_data"
    }
   ],
   "source": [
    "JuMP.termination_status(model)"
   ]
  },
  {
   "cell_type": "code",
   "execution_count": 167,
   "metadata": {},
   "outputs": [
    {
     "data": {
      "text/plain": [
       "4×2 Matrix{Float64}:\n",
       " -0.335607   -0.0\n",
       " -0.0615619   0.5\n",
       "  0.212483    0.5\n",
       "  0.486528    0.0"
      ]
     },
     "metadata": {},
     "output_type": "display_data"
    }
   ],
   "source": [
    "hcat(X,value.(p))"
   ]
  },
  {
   "cell_type": "code",
   "execution_count": 168,
   "metadata": {},
   "outputs": [
    {
     "data": {
      "text/plain": [
       "4-element LinRange{Float64, Int64}:\n",
       " -3.0, -1.0, 1.0, 3.0"
      ]
     },
     "metadata": {},
     "output_type": "display_data"
    }
   ],
   "source": [
    "LinRange(-3,3,4)"
   ]
  },
  {
   "cell_type": "code",
   "execution_count": 169,
   "metadata": {},
   "outputs": [
    {
     "data": {
      "text/plain": [
       "3-element Vector{Float64}:\n",
       " 0.125\n",
       " 0.75\n",
       " 0.125"
      ]
     },
     "metadata": {},
     "output_type": "display_data"
    }
   ],
   "source": [
    "[0.125, 0.75, 0.125]"
   ]
  },
  {
   "cell_type": "code",
   "execution_count": 170,
   "metadata": {},
   "outputs": [
    {
     "data": {
      "text/plain": [
       "1.35463"
      ]
     },
     "metadata": {},
     "output_type": "display_data"
    }
   ],
   "source": [
    "1+ 0.35463"
   ]
  },
  {
   "cell_type": "code",
   "execution_count": 171,
   "metadata": {},
   "outputs": [
    {
     "data": {
      "text/plain": [
       "1.0"
      ]
     },
     "metadata": {},
     "output_type": "display_data"
    }
   ],
   "source": [
    "sum(value.(p))"
   ]
  },
  {
   "cell_type": "code",
   "execution_count": 172,
   "metadata": {},
   "outputs": [
    {
     "data": {
      "text/plain": [
       "4×2 Matrix{Float64}:\n",
       " -0.335607   -0.0\n",
       " -0.0615619   0.5\n",
       "  0.212483    0.5\n",
       "  0.486528    0.0"
      ]
     },
     "metadata": {},
     "output_type": "display_data"
    }
   ],
   "source": [
    "hcat(X,value.(p))"
   ]
  },
  {
   "cell_type": "code",
   "execution_count": 173,
   "metadata": {},
   "outputs": [
    {
     "data": {
      "text/plain": [
       "0.07546067045214809"
      ]
     },
     "metadata": {},
     "output_type": "display_data"
    }
   ],
   "source": [
    "dot(value.(p),X)"
   ]
  },
  {
   "cell_type": "code",
   "execution_count": 174,
   "metadata": {},
   "outputs": [
    {
     "data": {
      "text/plain": [
       "Normal{Float64}(μ=0.07, σ=0.132)"
      ]
     },
     "metadata": {},
     "output_type": "display_data"
    }
   ],
   "source": [
    "norm = Normal(0.07,0.132)"
   ]
  },
  {
   "cell_type": "code",
   "execution_count": 175,
   "metadata": {},
   "outputs": [
    {
     "data": {
      "text/plain": [
       "3-element Vector{Float64}:\n",
       " 0.409022473584758\n",
       " 3.0222900030411566\n",
       " 0.409022473584758"
      ]
     },
     "metadata": {},
     "output_type": "display_data"
    }
   ],
   "source": [
    "pdfs = pdf(norm,[-0.194,0.07,0.334])"
   ]
  },
  {
   "cell_type": "code",
   "execution_count": 176,
   "metadata": {},
   "outputs": [
    {
     "data": {
      "text/plain": [
       "3-element Vector{Float64}:\n",
       " 0.10650697891920077\n",
       " 0.7869860421615985\n",
       " 0.10650697891920077"
      ]
     },
     "metadata": {},
     "output_type": "display_data"
    }
   ],
   "source": [
    "pdfs/sum(pdfs)"
   ]
  },
  {
   "cell_type": "code",
   "execution_count": 177,
   "metadata": {},
   "outputs": [
    {
     "data": {
      "text/plain": [
       "0.024692612590371414"
      ]
     },
     "metadata": {},
     "output_type": "display_data"
    }
   ],
   "source": [
    "log(1.025)"
   ]
  },
  {
   "cell_type": "code",
   "execution_count": 210,
   "metadata": {},
   "outputs": [
    {
     "name": "stdout",
     "output_type": "stream",
     "text": [
      "0.22700056588232437\n",
      "0.2947137594344723\n"
     ]
    }
   ],
   "source": [
    "t = 5\n",
    "cpi = log(1.0247)\n",
    "mu = (0.0698-cpi) * t\n",
    "sig = 0.1318 * t^0.5\n",
    "println(mu)\n",
    "println(sig)"
   ]
  },
  {
   "cell_type": "code",
   "execution_count": 179,
   "metadata": {},
   "outputs": [
    {
     "data": {
      "text/plain": [
       "4-element LinRange{Float64, Int64}:\n",
       " -2.1, -0.9, 0.3, 1.5"
      ]
     },
     "metadata": {},
     "output_type": "display_data"
    }
   ],
   "source": [
    "zr= LinRange(-2.1,1.5,4)"
   ]
  },
  {
   "cell_type": "code",
   "execution_count": 180,
   "metadata": {},
   "outputs": [
    {
     "data": {
      "text/plain": [
       "5-element LinRange{Float64, Int64}:\n",
       " -2.2, -1.275, -0.35, 0.575, 1.5"
      ]
     },
     "metadata": {},
     "output_type": "display_data"
    }
   ],
   "source": [
    "zr= LinRange(-2.2,1.5,5) # ten wziety do proby"
   ]
  },
  {
   "cell_type": "code",
   "execution_count": 181,
   "metadata": {},
   "outputs": [
    {
     "data": {
      "text/plain": [
       "5-element Vector{Float64}:\n",
       " 0.03361\n",
       " 0.16769\n",
       " 0.35556\n",
       " 0.32042\n",
       " 0.12272"
      ]
     },
     "metadata": {},
     "output_type": "display_data"
    }
   ],
   "source": [
    "pdfs = pdf(Normal(0,1),zr)\n",
    "r = round.(pdfs/sum(pdfs);digits=5)\n"
   ]
  },
  {
   "cell_type": "code",
   "execution_count": 182,
   "metadata": {},
   "outputs": [
    {
     "data": {
      "text/plain": [
       "4-element Vector{Vector{Float64}}:\n",
       " [0.0011296321, 0.005636060900000001, 0.0119503716, 0.0107693162, 0.0041246192]\n",
       " [0.005636060900000001, 0.028119936100000003, 0.0596238564, 0.0537312298, 0.0205789168]\n",
       " [0.0119503716, 0.0596238564, 0.1264229136, 0.11392853519999999, 0.0436343232]\n",
       " [0.0107693162, 0.0537312298, 0.11392853519999999, 0.10266897639999999, 0.0393219424]"
      ]
     },
     "metadata": {},
     "output_type": "display_data"
    }
   ],
   "source": [
    "[r .* r[n] for n in 1:4]"
   ]
  },
  {
   "cell_type": "code",
   "execution_count": 183,
   "metadata": {},
   "outputs": [
    {
     "data": {
      "text/plain": [
       "5-element Vector{Float64}:\n",
       " -0.2445598868235352\n",
       " -0.12264488682353515\n",
       " -0.000729886823535135\n",
       "  0.12118511317646487\n",
       "  0.24310011317646485"
      ]
     },
     "metadata": {},
     "output_type": "display_data"
    }
   ],
   "source": [
    "r = [mu + z * sig for z in zr]"
   ]
  },
  {
   "cell_type": "code",
   "execution_count": 184,
   "metadata": {},
   "outputs": [
    {
     "data": {
      "text/plain": [
       "5-element Vector{Float64}:\n",
       " 0.78\n",
       " 0.88\n",
       " 1.0\n",
       " 1.13\n",
       " 1.28"
      ]
     },
     "metadata": {},
     "output_type": "display_data"
    }
   ],
   "source": [
    "rd = round.(exp.(r);digits=2) "
   ]
  },
  {
   "cell_type": "code",
   "execution_count": 185,
   "metadata": {},
   "outputs": [
    {
     "data": {
      "text/plain": [
       "5-element Vector{Float64}:\n",
       " -0.22\n",
       " -0.12\n",
       " -0.0\n",
       "  0.13\n",
       "  0.28"
      ]
     },
     "metadata": {},
     "output_type": "display_data"
    }
   ],
   "source": [
    "rd = round.(expm1.(r);digits=2) "
   ]
  },
  {
   "cell_type": "code",
   "execution_count": 186,
   "metadata": {},
   "outputs": [
    {
     "data": {
      "text/plain": [
       "1.0725081812542165"
      ]
     },
     "metadata": {},
     "output_type": "display_data"
    }
   ],
   "source": [
    "exp(0.025+0.045)"
   ]
  },
  {
   "cell_type": "code",
   "execution_count": 188,
   "metadata": {},
   "outputs": [
    {
     "data": {
      "text/plain": [
       "0.15865525393145702"
      ]
     },
     "metadata": {},
     "output_type": "display_data"
    }
   ],
   "source": [
    "pdfs = cdf(Normal(0,1),-1)\n"
   ]
  },
  {
   "cell_type": "code",
   "execution_count": 189,
   "metadata": {},
   "outputs": [
    {
     "data": {
      "text/plain": [
       "0.03477180077526669"
      ]
     },
     "metadata": {},
     "output_type": "display_data"
    }
   ],
   "source": [
    "pdfs = cdf(Normal(mu,sig), -0.1938)"
   ]
  },
  {
   "cell_type": "code",
   "execution_count": 190,
   "metadata": {},
   "outputs": [
    {
     "data": {
      "text/plain": [
       "0.03475576955590332"
      ]
     },
     "metadata": {},
     "output_type": "display_data"
    }
   ],
   "source": [
    "pdfs = cdf(LogNormal(mu,sig), 1-0.1762)"
   ]
  },
  {
   "cell_type": "code",
   "execution_count": 211,
   "metadata": {},
   "outputs": [
    {
     "data": {
      "text/plain": [
       "5-element Vector{Float64}:\n",
       " -1.28\n",
       " -0.52\n",
       "  0.0\n",
       "  0.52\n",
       "  1.28"
      ]
     },
     "metadata": {},
     "output_type": "display_data"
    }
   ],
   "source": [
    "zr = [-1.28, -.52,0, .52, 1.28]"
   ]
  },
  {
   "cell_type": "code",
   "execution_count": 212,
   "metadata": {},
   "outputs": [
    {
     "data": {
      "text/plain": [
       "5-element Vector{Float64}:\n",
       " 0.12147\n",
       " 0.24073\n",
       " 0.27558\n",
       " 0.24073\n",
       " 0.12147"
      ]
     },
     "metadata": {},
     "output_type": "display_data"
    }
   ],
   "source": [
    "pdfs = pdf(Normal(0,1),[-1.28, -.52,0, .52, 1.28])\n",
    "r = round.(pdfs/sum(pdfs);digits=5)"
   ]
  },
  {
   "cell_type": "code",
   "execution_count": 213,
   "metadata": {},
   "outputs": [
    {
     "data": {
      "text/plain": [
       "5-element Vector{Float64}:\n",
       " -0.15023304619380018\n",
       "  0.07374941097639875\n",
       "  0.22700056588232437\n",
       "  0.38025172078825\n",
       "  0.6042341779584489"
      ]
     },
     "metadata": {},
     "output_type": "display_data"
    }
   ],
   "source": [
    "r = [mu + z * sig for z in zr]"
   ]
  }
 ],
 "metadata": {
  "kernelspec": {
   "display_name": "Julia 1.10.2",
   "language": "julia",
   "name": "julia-1.10"
  },
  "language_info": {
   "file_extension": ".jl",
   "mimetype": "application/julia",
   "name": "julia",
   "version": "1.10.2"
  }
 },
 "nbformat": 4,
 "nbformat_minor": 2
}
