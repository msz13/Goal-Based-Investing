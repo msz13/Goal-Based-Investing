{
 "cells": [
  {
   "cell_type": "code",
   "execution_count": 183,
   "metadata": {},
   "outputs": [
    {
     "name": "stderr",
     "output_type": "stream",
     "text": [
      "\u001b[32m\u001b[1m    Updating\u001b[22m\u001b[39m registry at `C:\\Users\\matsz\\.julia\\registries\\General.toml`\n",
      "\u001b[32m\u001b[1m   Resolving\u001b[22m\u001b[39m package versions...\n",
      "\u001b[32m\u001b[1m    Updating\u001b[22m\u001b[39m `C:\\Users\\matsz\\.julia\\environments\\v1.10\\Project.toml`\n",
      "  \u001b[90m[08abe8d2] \u001b[39m\u001b[92m+ PrettyTables v2.3.1\u001b[39m\n",
      "\u001b[32m\u001b[1m  No Changes\u001b[22m\u001b[39m to `C:\\Users\\matsz\\.julia\\environments\\v1.10\\Manifest.toml`\n",
      "\u001b[32m\u001b[1mPrecompiling\u001b[22m\u001b[39m project...\n",
      "\u001b[32m  ✓ \u001b[39m\u001b[90mStaticArrays → StaticArraysChainRulesCoreExt\u001b[39m\n",
      "\u001b[32m  ✓ \u001b[39m\u001b[90mBangBang → BangBangChainRulesCoreExt\u001b[39m\n",
      "\u001b[32m  ✓ \u001b[39m\u001b[90mDistances → DistancesChainRulesCoreExt\u001b[39m\n",
      "\u001b[32m  ✓ \u001b[39m\u001b[90mRoots\u001b[39m\n",
      "\u001b[32m  ✓ \u001b[39m\u001b[90mMvNormalCDF\u001b[39m\n",
      "\u001b[32m  ✓ \u001b[39m\u001b[90mAccessorsExtra → DistributionsExt\u001b[39m\n",
      "\u001b[32m  ✓ \u001b[39m\u001b[90mLoopVectorization → ForwardDiffExt\u001b[39m\n",
      "\u001b[32m  ✓ \u001b[39m\u001b[90mSciMLBase → SciMLBaseChainRulesCoreExt\u001b[39m\n",
      "\u001b[32m  ✓ \u001b[39m\u001b[90mRoots → RootsForwardDiffExt\u001b[39m\n",
      "\u001b[32m  ✓ \u001b[39mClustering\n",
      "\u001b[32m  ✓ \u001b[39m\u001b[90mDiffEqBase → DiffEqBaseChainRulesCoreExt\u001b[39m\n",
      "\u001b[32m  ✓ \u001b[39m\u001b[90mWilliamsonTransforms\u001b[39m\n",
      "\u001b[32m  ✓ \u001b[39m\u001b[90mFinanceCore\u001b[39m\n",
      "\u001b[32m  ✓ \u001b[39m\u001b[90mDiffEqBase → DiffEqBaseDistributionsExt\u001b[39m\n",
      "\u001b[32m  ✓ \u001b[39mDiffEqNoiseProcess\n",
      "\u001b[32m  ✓ \u001b[39mFinanceModels\n",
      "\u001b[32m  ✓ \u001b[39m\u001b[90mCopulas\u001b[39m\n",
      "\u001b[32m  ✓ \u001b[39mEconomicScenarioGenerators\n",
      "\u001b[32m  ✓ \u001b[39m\u001b[90mEconomicScenarioGenerators → FinanceModelsExt\u001b[39m\n",
      "  19 dependencies successfully precompiled in 57 seconds. 398 already precompiled.\n"
     ]
    }
   ],
   "source": [
    "import Pkg\n",
    "Pkg.add(\"PrettyTables\")"
   ]
  },
  {
   "cell_type": "code",
   "execution_count": 184,
   "metadata": {},
   "outputs": [],
   "source": [
    "using DataFrames, FredData, XLSX, SHA, Dates, CSV, TimeSeries, StatsBase, HiddenMarkovModels, Distributions, Plots, PrettyTables"
   ]
  },
  {
   "cell_type": "code",
   "execution_count": 91,
   "metadata": {},
   "outputs": [
    {
     "data": {
      "text/plain": [
       "train_hmm (generic function with 2 methods)"
      ]
     },
     "metadata": {},
     "output_type": "display_data"
    }
   ],
   "source": [
    "function guess_init(n_scenarios)\n",
    "    regimes_probs = rand(1:100,n_scenarios)\n",
    "    return regimes_probs/sum(regimes_probs)\n",
    "end\n",
    "\n",
    "function guess_tmatrix(n_scenarios)\n",
    "    regimes_probs = rand(1:100,n_scenarios,n_scenarios)\n",
    "    return regimes_probs ./ sum(regimes_probs,dims=2)\n",
    "end\n",
    "\n",
    "function guess_distribution()\n",
    "    sigma = rand(Uniform(0,0.25))\n",
    "    means = rand(Uniform(-0.25,0.25))\n",
    "    return Normal(means,sigma)\n",
    "end\n",
    "\n",
    "function train_hmm(data, n_scenarios = 2)\n",
    "\n",
    "    function guess_distribution()\n",
    "        sigma = rand(Uniform(0,0.25))\n",
    "        means = rand(Uniform(-0.25,0.25))\n",
    "        return Normal(means,sigma)\n",
    "    end\n",
    "    \n",
    "    init_guess = guess_init(n_scenarios)\n",
    "    guess_matrix = guess_tmatrix(n_scenarios)\n",
    "    guess_dist = [guess_distribution() for s in 1:n_scenarios]\n",
    "    hmm_guess = HMM(init_guess, guess_matrix, guess_dist);\n",
    "    return hmm_est, loglikelihood_evolution = baum_welch(hmm_guess, data);\n",
    "end "
   ]
  },
  {
   "cell_type": "code",
   "execution_count": 133,
   "metadata": {},
   "outputs": [
    {
     "data": {
      "text/plain": [
       "Dict{Any, Any} with 1 entry:\n",
       "  \"one\" => 3"
      ]
     },
     "metadata": {},
     "output_type": "display_data"
    }
   ],
   "source": [
    "dict = Dict()\n",
    "dict[\"one\"] = 3\n",
    "dict"
   ]
  },
  {
   "cell_type": "code",
   "execution_count": 3,
   "metadata": {},
   "outputs": [
    {
     "data": {
      "text/plain": [
       "regime_summary (generic function with 2 methods)"
      ]
     },
     "metadata": {},
     "output_type": "display_data"
    }
   ],
   "source": [
    "function regime_summary(loglikehood,hmm_est, freq = 1)\n",
    "    tm = transition_matrix(hmm_est),\n",
    "    \n",
    "    return DataFrame(Dict(\n",
    "      \"mu1\" => mean(obs_distributions(hmm_est)[1]) * freq,\n",
    "      \"sig1\" => std(obs_distributions(hmm_est)[1])*  freq^0.5,\n",
    "      \"mu2\" => mean(obs_distributions(hmm_est)[2]) * freq,\n",
    "      \"sig2\" => std(obs_distributions(hmm_est)[2])* freq^0.5,       \n",
    "      \"p11\" =>  transition_matrix(hmm_est)[1,1],\n",
    "      \"p21\" =>  transition_matrix(hmm_est)[2,1],\n",
    "      \"loglikehood\" => last(loglikehood),\n",
    "      \"prob1\" =>  transition_matrix(hmm_est)[2,1]/(transition_matrix(hmm_est)[1,2]+transition_matrix(hmm_est)[2,1])\n",
    "      \n",
    "  ))\n",
    "  end"
   ]
  },
  {
   "cell_type": "code",
   "execution_count": 138,
   "metadata": {},
   "outputs": [
    {
     "data": {
      "text/plain": [
       "regime_summary (generic function with 2 methods)"
      ]
     },
     "metadata": {},
     "output_type": "display_data"
    }
   ],
   "source": [
    "function regime_summary(loglikehood,hmm_est, freq = 1)\n",
    "    tm = transition_matrix(hmm_est),\n",
    "    n_regimes = length(initialization(hmm_est))\n",
    "    dict = Dict()\n",
    "   \n",
    "    return n_regimes\n",
    "      \n",
    "end\n"
   ]
  },
  {
   "cell_type": "code",
   "execution_count": 4,
   "metadata": {},
   "outputs": [
    {
     "data": {
      "text/plain": [
       "435×3 TimeArray{Union{Missing, Float64}, 2, Date, Matrix{Union{Missing, Float64}}} 1988-01-29 to 2024-03-29\n",
       "┌────────────┬─────────────┬─────────────┬─────────────────┐\n",
       "│\u001b[1m            \u001b[0m│\u001b[1m ACWI_Net    \u001b[0m│\u001b[1m USDPLN      \u001b[0m│\u001b[1m ACWI_Net_USDPLN \u001b[0m│\n",
       "├────────────┼─────────────┼─────────────┼─────────────────┤\n",
       "│ 1988-01-29 │   0.0246253 │     missing │         missing │\n",
       "│ 1988-02-29 │   0.0560778 │     missing │         missing │\n",
       "│ 1988-03-31 │   0.0302388 │     missing │         missing │\n",
       "│ 1988-04-29 │   0.0125024 │     missing │         missing │\n",
       "│ 1988-05-31 │  -0.0201209 │     missing │         missing │\n",
       "│ 1988-06-30 │ -0.00119203 │     missing │         missing │\n",
       "│ 1988-07-29 │     0.01818 │     missing │         missing │\n",
       "│ 1988-08-31 │  -0.0566908 │     missing │         missing │\n",
       "│     ⋮      │      ⋮      │      ⋮      │        ⋮        │\n",
       "│ 2023-09-29 │   -0.042229 │   0.0576333 │       0.0154043 │\n",
       "│ 2023-10-31 │   -0.030529 │  -0.0361159 │       -0.066645 │\n",
       "│ 2023-11-30 │   0.0882833 │  -0.0525834 │       0.0356998 │\n",
       "│ 2023-12-29 │   0.0469154 │  -0.0158441 │       0.0310713 │\n",
       "│ 2024-01-31 │  0.00584454 │   0.0175065 │       0.0233511 │\n",
       "│ 2024-02-29 │   0.0420184 │ -0.00252589 │       0.0394925 │\n",
       "│ 2024-03-29 │   0.0309141 │ -0.00107732 │       0.0298368 │\n",
       "└────────────┴─────────────┴─────────────┴─────────────────┘\n",
       "\u001b[36m                                            420 rows omitted\u001b[0m"
      ]
     },
     "metadata": {},
     "output_type": "display_data"
    }
   ],
   "source": [
    "source_data = TimeArray(CSV.File(\"assets_data_03.24.csv\", delim=';', dateformat=\"u dd, yyyy\", decimal=','),timestamp=:Date)\n",
    "ACWI_PLN = source_data.ACWI_Net .* source_data.USDPLN\n",
    "source_data = merge(source_data,ACWI_PLN)\n",
    "returns = log.(percentchange(source_data) .+ 1)"
   ]
  },
  {
   "cell_type": "code",
   "execution_count": 129,
   "metadata": {},
   "outputs": [
    {
     "data": {
      "text/html": [
       "<div><div style = \"float: left;\"><span>3×9 DataFrame</span></div><div style = \"clear: both;\"></div></div><div class = \"data-frame\" style = \"overflow-x: scroll;\"><table class = \"data-frame\" style = \"margin-bottom: 6px;\"><thead><tr class = \"header\"><th class = \"rowNumber\" style = \"font-weight: bold; text-align: right;\">Row</th><th style = \"text-align: left;\">mean</th><th style = \"text-align: left;\">sd</th><th style = \"text-align: left;\">min</th><th style = \"text-align: left;\">q25</th><th style = \"text-align: left;\">median</th><th style = \"text-align: left;\">q75</th><th style = \"text-align: left;\">max</th><th style = \"text-align: left;\">nobs</th><th style = \"text-align: left;\">nmiss</th></tr><tr class = \"subheader headerLastRow\"><th class = \"rowNumber\" style = \"font-weight: bold; text-align: right;\"></th><th title = \"Float64\" style = \"text-align: left;\">Float64</th><th title = \"Float64\" style = \"text-align: left;\">Float64</th><th title = \"Float64\" style = \"text-align: left;\">Float64</th><th title = \"Float64\" style = \"text-align: left;\">Float64</th><th title = \"Float64\" style = \"text-align: left;\">Float64</th><th title = \"Float64\" style = \"text-align: left;\">Float64</th><th title = \"Float64\" style = \"text-align: left;\">Float64</th><th title = \"Int64\" style = \"text-align: left;\">Int64</th><th title = \"Int64\" style = \"text-align: left;\">Int64</th></tr></thead><tbody><tr><td class = \"rowNumber\" style = \"font-weight: bold; text-align: right;\">1</td><td style = \"text-align: right;\">0.00622469</td><td style = \"text-align: right;\">0.0443616</td><td style = \"text-align: right;\">-0.220834</td><td style = \"text-align: right;\">-0.0181497</td><td style = \"text-align: right;\">0.0124942</td><td style = \"text-align: right;\">0.0330787</td><td style = \"text-align: right;\">0.116238</td><td style = \"text-align: right;\">435</td><td style = \"text-align: right;\">0</td></tr><tr><td class = \"rowNumber\" style = \"font-weight: bold; text-align: right;\">2</td><td style = \"text-align: right;\">0.000397277</td><td style = \"text-align: right;\">0.0371301</td><td style = \"text-align: right;\">-0.094026</td><td style = \"text-align: right;\">-0.0247304</td><td style = \"text-align: right;\">-0.00190905</td><td style = \"text-align: right;\">0.0234364</td><td style = \"text-align: right;\">0.166496</td><td style = \"text-align: right;\">435</td><td style = \"text-align: right;\">120</td></tr><tr><td class = \"rowNumber\" style = \"font-weight: bold; text-align: right;\">3</td><td style = \"text-align: right;\">0.00581535</td><td style = \"text-align: right;\">0.0380711</td><td style = \"text-align: right;\">-0.111985</td><td style = \"text-align: right;\">-0.0159863</td><td style = \"text-align: right;\">0.00790445</td><td style = \"text-align: right;\">0.0323534</td><td style = \"text-align: right;\">0.105947</td><td style = \"text-align: right;\">435</td><td style = \"text-align: right;\">120</td></tr></tbody></table></div>"
      ],
      "text/latex": [
       "\\begin{tabular}{r|cccccccc}\n",
       "\t& mean & sd & min & q25 & median & q75 & max & \\\\\n",
       "\t\\hline\n",
       "\t& Float64 & Float64 & Float64 & Float64 & Float64 & Float64 & Float64 & \\\\\n",
       "\t\\hline\n",
       "\t1 & 0.00622469 & 0.0443616 & -0.220834 & -0.0181497 & 0.0124942 & 0.0330787 & 0.116238 & $\\dots$ \\\\\n",
       "\t2 & 0.000397277 & 0.0371301 & -0.094026 & -0.0247304 & -0.00190905 & 0.0234364 & 0.166496 & $\\dots$ \\\\\n",
       "\t3 & 0.00581535 & 0.0380711 & -0.111985 & -0.0159863 & 0.00790445 & 0.0323534 & 0.105947 & $\\dots$ \\\\\n",
       "\\end{tabular}\n"
      ],
      "text/plain": [
       "\u001b[1m3×9 DataFrame\u001b[0m\n",
       "\u001b[1m Row \u001b[0m│\u001b[1m mean        \u001b[0m\u001b[1m sd        \u001b[0m\u001b[1m min       \u001b[0m\u001b[1m q25        \u001b[0m\u001b[1m median      \u001b[0m\u001b[1m q75       \u001b[0m\u001b[1m \u001b[0m ⋯\n",
       "     │\u001b[90m Float64     \u001b[0m\u001b[90m Float64   \u001b[0m\u001b[90m Float64   \u001b[0m\u001b[90m Float64    \u001b[0m\u001b[90m Float64     \u001b[0m\u001b[90m Float64   \u001b[0m\u001b[90m \u001b[0m ⋯\n",
       "─────┼──────────────────────────────────────────────────────────────────────────\n",
       "   1 │ 0.00622469   0.0443616  -0.220834  -0.0181497   0.0124942   0.0330787   ⋯\n",
       "   2 │ 0.000397277  0.0371301  -0.094026  -0.0247304  -0.00190905  0.0234364\n",
       "   3 │ 0.00581535   0.0380711  -0.111985  -0.0159863   0.00790445  0.0323534\n",
       "\u001b[36m                                                               3 columns omitted\u001b[0m"
      ]
     },
     "metadata": {},
     "output_type": "display_data"
    }
   ],
   "source": [
    "stats = summarystats.(eachcol(values(returns)))\n",
    "\n",
    "stats = DataFrame([stats[1],stats[2],stats[3]])\n"
   ]
  },
  {
   "cell_type": "code",
   "execution_count": 6,
   "metadata": {},
   "outputs": [
    {
     "data": {
      "text/plain": [
       "3-element Vector{Float64}:\n",
       " 0.07469630583902334\n",
       " 0.0047673239504150075\n",
       " 0.06978414857853404"
      ]
     },
     "metadata": {},
     "output_type": "display_data"
    }
   ],
   "source": [
    "stats[:,1] *12"
   ]
  },
  {
   "cell_type": "code",
   "execution_count": 53,
   "metadata": {},
   "outputs": [
    {
     "data": {
      "text/plain": [
       "3-element Vector{Float64}:\n",
       " 0.15367294034595488\n",
       " 0.12862229739242811\n",
       " 0.13188217654652964"
      ]
     },
     "metadata": {},
     "output_type": "display_data"
    }
   ],
   "source": [
    "stats[:,2] *12^0.5"
   ]
  },
  {
   "cell_type": "code",
   "execution_count": 119,
   "metadata": {},
   "outputs": [
    {
     "name": "stdout",
     "output_type": "stream",
     "text": [
      "ACWI long 2\n"
     ]
    },
    {
     "data": {
      "text/html": [
       "<div><div style = \"float: left;\"><span>1×8 DataFrame</span></div><div style = \"clear: both;\"></div></div><div class = \"data-frame\" style = \"overflow-x: scroll;\"><table class = \"data-frame\" style = \"margin-bottom: 6px;\"><thead><tr class = \"header\"><th class = \"rowNumber\" style = \"font-weight: bold; text-align: right;\">Row</th><th style = \"text-align: left;\">loglikehood</th><th style = \"text-align: left;\">mu1</th><th style = \"text-align: left;\">mu2</th><th style = \"text-align: left;\">p11</th><th style = \"text-align: left;\">p21</th><th style = \"text-align: left;\">prob1</th><th style = \"text-align: left;\">sig1</th><th style = \"text-align: left;\">sig2</th></tr><tr class = \"subheader headerLastRow\"><th class = \"rowNumber\" style = \"font-weight: bold; text-align: right;\"></th><th title = \"Float64\" style = \"text-align: left;\">Float64</th><th title = \"Float64\" style = \"text-align: left;\">Float64</th><th title = \"Float64\" style = \"text-align: left;\">Float64</th><th title = \"Float64\" style = \"text-align: left;\">Float64</th><th title = \"Float64\" style = \"text-align: left;\">Float64</th><th title = \"Float64\" style = \"text-align: left;\">Float64</th><th title = \"Float64\" style = \"text-align: left;\">Float64</th><th title = \"Float64\" style = \"text-align: left;\">Float64</th></tr></thead><tbody><tr><td class = \"rowNumber\" style = \"font-weight: bold; text-align: right;\">1</td><td style = \"text-align: right;\">774.685</td><td style = \"text-align: right;\">-0.0115754</td><td style = \"text-align: right;\">0.16069</td><td style = \"text-align: right;\">0.941967</td><td style = \"text-align: right;\">0.0597864</td><td style = \"text-align: right;\">0.50744</td><td style = \"text-align: right;\">0.195714</td><td style = \"text-align: right;\">0.0873572</td></tr></tbody></table></div>"
      ],
      "text/latex": [
       "\\begin{tabular}{r|cccccccc}\n",
       "\t& loglikehood & mu1 & mu2 & p11 & p21 & prob1 & sig1 & sig2\\\\\n",
       "\t\\hline\n",
       "\t& Float64 & Float64 & Float64 & Float64 & Float64 & Float64 & Float64 & Float64\\\\\n",
       "\t\\hline\n",
       "\t1 & 774.685 & -0.0115754 & 0.16069 & 0.941967 & 0.0597864 & 0.50744 & 0.195714 & 0.0873572 \\\\\n",
       "\\end{tabular}\n"
      ],
      "text/plain": [
       "\u001b[1m1×8 DataFrame\u001b[0m\n",
       "\u001b[1m Row \u001b[0m│\u001b[1m loglikehood \u001b[0m\u001b[1m mu1        \u001b[0m\u001b[1m mu2     \u001b[0m\u001b[1m p11      \u001b[0m\u001b[1m p21       \u001b[0m\u001b[1m prob1   \u001b[0m\u001b[1m sig1   \u001b[0m ⋯\n",
       "     │\u001b[90m Float64     \u001b[0m\u001b[90m Float64    \u001b[0m\u001b[90m Float64 \u001b[0m\u001b[90m Float64  \u001b[0m\u001b[90m Float64   \u001b[0m\u001b[90m Float64 \u001b[0m\u001b[90m Float64\u001b[0m ⋯\n",
       "─────┼──────────────────────────────────────────────────────────────────────────\n",
       "   1 │     774.685  -0.0115754  0.16069  0.941967  0.0597864  0.50744  0.19571 ⋯\n",
       "\u001b[36m                                                               2 columns omitted\u001b[0m"
      ]
     },
     "metadata": {},
     "output_type": "display_data"
    }
   ],
   "source": [
    "acwi_long = identity.(values(returns[:ACWI_Net]))\n",
    "hmm_est, loglikehood = train_hmm(acwi_long,2)\n",
    "println(\"ACWI long 2\")\n",
    "regime_summary(loglikehood,hmm_est,12)"
   ]
  },
  {
   "cell_type": "code",
   "execution_count": 139,
   "metadata": {},
   "outputs": [
    {
     "name": "stdout",
     "output_type": "stream",
     "text": [
      "ACWI long 4"
     ]
    },
    {
     "ename": "BoundsError",
     "evalue": "BoundsError: attempt to access Int64 at index [2]",
     "output_type": "error",
     "traceback": [
      "BoundsError: attempt to access Int64 at index [2]\n",
      "\n",
      "Stacktrace:\n",
      " [1] indexed_iterate(I::Int64, i::Int64, state::Nothing)\n",
      "   @ Base .\\tuple.jl:101\n",
      " [2] regime_summary(loglikehood::Vector{Float64}, hmm_est::HMM{Vector{Float64}, Matrix{Float64}, Vector{Normal{Float64}}}, freq::Int64)\n",
      "   @ Main c:\\Users\\matsz\\programowanie\\Optymalizacja portfela\\julia_msp\\acwi_hmm.ipynb:2\n",
      " [3] top-level scope\n",
      "   @ c:\\Users\\matsz\\programowanie\\Optymalizacja portfela\\julia_msp\\acwi_hmm.ipynb:4"
     ]
    }
   ],
   "source": [
    "acwi_long = identity.(values(returns[:ACWI_Net]))\n",
    "hmm_est, loglikehood = train_hmm(acwi_long,4)\n",
    "println(\"ACWI long 4\")\n",
    "regime_summary(loglikehood,hmm_est,12)"
   ]
  },
  {
   "cell_type": "code",
   "execution_count": 93,
   "metadata": {},
   "outputs": [
    {
     "data": {
      "text/html": [
       "<div><div style = \"float: left;\"><span>1×8 DataFrame</span></div><div style = \"clear: both;\"></div></div><div class = \"data-frame\" style = \"overflow-x: scroll;\"><table class = \"data-frame\" style = \"margin-bottom: 6px;\"><thead><tr class = \"header\"><th class = \"rowNumber\" style = \"font-weight: bold; text-align: right;\">Row</th><th style = \"text-align: left;\">loglikehood</th><th style = \"text-align: left;\">mu1</th><th style = \"text-align: left;\">mu2</th><th style = \"text-align: left;\">p11</th><th style = \"text-align: left;\">p21</th><th style = \"text-align: left;\">prob1</th><th style = \"text-align: left;\">sig1</th><th style = \"text-align: left;\">sig2</th></tr><tr class = \"subheader headerLastRow\"><th class = \"rowNumber\" style = \"font-weight: bold; text-align: right;\"></th><th title = \"Float64\" style = \"text-align: left;\">Float64</th><th title = \"Float64\" style = \"text-align: left;\">Float64</th><th title = \"Float64\" style = \"text-align: left;\">Float64</th><th title = \"Float64\" style = \"text-align: left;\">Float64</th><th title = \"Float64\" style = \"text-align: left;\">Float64</th><th title = \"Float64\" style = \"text-align: left;\">Float64</th><th title = \"Float64\" style = \"text-align: left;\">Float64</th><th title = \"Float64\" style = \"text-align: left;\">Float64</th></tr></thead><tbody><tr><td class = \"rowNumber\" style = \"font-weight: bold; text-align: right;\">1</td><td style = \"text-align: right;\">493.23</td><td style = \"text-align: right;\">0.166708</td><td style = \"text-align: right;\">-0.0376449</td><td style = \"text-align: right;\">0.944594</td><td style = \"text-align: right;\">0.0566911</td><td style = \"text-align: right;\">0.505731</td><td style = \"text-align: right;\">0.0811341</td><td style = \"text-align: right;\">0.205595</td></tr></tbody></table></div>"
      ],
      "text/latex": [
       "\\begin{tabular}{r|cccccccc}\n",
       "\t& loglikehood & mu1 & mu2 & p11 & p21 & prob1 & sig1 & sig2\\\\\n",
       "\t\\hline\n",
       "\t& Float64 & Float64 & Float64 & Float64 & Float64 & Float64 & Float64 & Float64\\\\\n",
       "\t\\hline\n",
       "\t1 & 493.23 & 0.166708 & -0.0376449 & 0.944594 & 0.0566911 & 0.505731 & 0.0811341 & 0.205595 \\\\\n",
       "\\end{tabular}\n"
      ],
      "text/plain": [
       "\u001b[1m1×8 DataFrame\u001b[0m\n",
       "\u001b[1m Row \u001b[0m│\u001b[1m loglikehood \u001b[0m\u001b[1m mu1      \u001b[0m\u001b[1m mu2        \u001b[0m\u001b[1m p11      \u001b[0m\u001b[1m p21       \u001b[0m\u001b[1m prob1    \u001b[0m\u001b[1m sig1 \u001b[0m ⋯\n",
       "     │\u001b[90m Float64     \u001b[0m\u001b[90m Float64  \u001b[0m\u001b[90m Float64    \u001b[0m\u001b[90m Float64  \u001b[0m\u001b[90m Float64   \u001b[0m\u001b[90m Float64  \u001b[0m\u001b[90m Float\u001b[0m ⋯\n",
       "─────┼──────────────────────────────────────────────────────────────────────────\n",
       "   1 │      493.23  0.166708  -0.0376449  0.944594  0.0566911  0.505731  0.081 ⋯\n",
       "\u001b[36m                                                               2 columns omitted\u001b[0m"
      ]
     },
     "metadata": {},
     "output_type": "display_data"
    }
   ],
   "source": [
    "acwi_98 = identity.(values(from(returns[:ACWI_Net],Date(1998,01,01))))\n",
    "hmm_est, loglikehood = train_hmm(acwi_short,2)\n",
    "regime_summary(loglikehood,hmm_est,12)"
   ]
  },
  {
   "cell_type": "code",
   "execution_count": 100,
   "metadata": {},
   "outputs": [
    {
     "data": {
      "text/html": [
       "<div><div style = \"float: left;\"><span>1×8 DataFrame</span></div><div style = \"clear: both;\"></div></div><div class = \"data-frame\" style = \"overflow-x: scroll;\"><table class = \"data-frame\" style = \"margin-bottom: 6px;\"><thead><tr class = \"header\"><th class = \"rowNumber\" style = \"font-weight: bold; text-align: right;\">Row</th><th style = \"text-align: left;\">loglikehood</th><th style = \"text-align: left;\">mu1</th><th style = \"text-align: left;\">mu2</th><th style = \"text-align: left;\">p11</th><th style = \"text-align: left;\">p21</th><th style = \"text-align: left;\">prob1</th><th style = \"text-align: left;\">sig1</th><th style = \"text-align: left;\">sig2</th></tr><tr class = \"subheader headerLastRow\"><th class = \"rowNumber\" style = \"font-weight: bold; text-align: right;\"></th><th title = \"Float64\" style = \"text-align: left;\">Float64</th><th title = \"Float64\" style = \"text-align: left;\">Float64</th><th title = \"Float64\" style = \"text-align: left;\">Float64</th><th title = \"Float64\" style = \"text-align: left;\">Float64</th><th title = \"Float64\" style = \"text-align: left;\">Float64</th><th title = \"Float64\" style = \"text-align: left;\">Float64</th><th title = \"Float64\" style = \"text-align: left;\">Float64</th><th title = \"Float64\" style = \"text-align: left;\">Float64</th></tr></thead><tbody><tr><td class = \"rowNumber\" style = \"font-weight: bold; text-align: right;\">1</td><td style = \"text-align: right;\">493.23</td><td style = \"text-align: right;\">0.166705</td><td style = \"text-align: right;\">-0.0376346</td><td style = \"text-align: right;\">0.944603</td><td style = \"text-align: right;\">0.0566774</td><td style = \"text-align: right;\">0.505712</td><td style = \"text-align: right;\">0.0811332</td><td style = \"text-align: right;\">0.205592</td></tr></tbody></table></div>"
      ],
      "text/latex": [
       "\\begin{tabular}{r|cccccccc}\n",
       "\t& loglikehood & mu1 & mu2 & p11 & p21 & prob1 & sig1 & sig2\\\\\n",
       "\t\\hline\n",
       "\t& Float64 & Float64 & Float64 & Float64 & Float64 & Float64 & Float64 & Float64\\\\\n",
       "\t\\hline\n",
       "\t1 & 493.23 & 0.166705 & -0.0376346 & 0.944603 & 0.0566774 & 0.505712 & 0.0811332 & 0.205592 \\\\\n",
       "\\end{tabular}\n"
      ],
      "text/plain": [
       "\u001b[1m1×8 DataFrame\u001b[0m\n",
       "\u001b[1m Row \u001b[0m│\u001b[1m loglikehood \u001b[0m\u001b[1m mu1      \u001b[0m\u001b[1m mu2        \u001b[0m\u001b[1m p11      \u001b[0m\u001b[1m p21       \u001b[0m\u001b[1m prob1    \u001b[0m\u001b[1m sig1 \u001b[0m ⋯\n",
       "     │\u001b[90m Float64     \u001b[0m\u001b[90m Float64  \u001b[0m\u001b[90m Float64    \u001b[0m\u001b[90m Float64  \u001b[0m\u001b[90m Float64   \u001b[0m\u001b[90m Float64  \u001b[0m\u001b[90m Float\u001b[0m ⋯\n",
       "─────┼──────────────────────────────────────────────────────────────────────────\n",
       "   1 │      493.23  0.166705  -0.0376346  0.944603  0.0566774  0.505712  0.081 ⋯\n",
       "\u001b[36m                                                               2 columns omitted\u001b[0m"
      ]
     },
     "metadata": {},
     "output_type": "display_data"
    }
   ],
   "source": [
    "acwi_03 = identity.(values(from(returns[:ACWI_Net],Date(2003,01,01))))\n",
    "hmm_est, loglikehood = train_hmm(acwi_short,2)\n",
    "regime_summary(loglikehood,hmm_est,12)"
   ]
  },
  {
   "cell_type": "code",
   "execution_count": 101,
   "metadata": {},
   "outputs": [
    {
     "data": {
      "text/html": [
       "<div><div style = \"float: left;\"><span>1×8 DataFrame</span></div><div style = \"clear: both;\"></div></div><div class = \"data-frame\" style = \"overflow-x: scroll;\"><table class = \"data-frame\" style = \"margin-bottom: 6px;\"><thead><tr class = \"header\"><th class = \"rowNumber\" style = \"font-weight: bold; text-align: right;\">Row</th><th style = \"text-align: left;\">loglikehood</th><th style = \"text-align: left;\">mu1</th><th style = \"text-align: left;\">mu2</th><th style = \"text-align: left;\">p11</th><th style = \"text-align: left;\">p21</th><th style = \"text-align: left;\">prob1</th><th style = \"text-align: left;\">sig1</th><th style = \"text-align: left;\">sig2</th></tr><tr class = \"subheader headerLastRow\"><th class = \"rowNumber\" style = \"font-weight: bold; text-align: right;\"></th><th title = \"Float64\" style = \"text-align: left;\">Float64</th><th title = \"Float64\" style = \"text-align: left;\">Float64</th><th title = \"Float64\" style = \"text-align: left;\">Float64</th><th title = \"Float64\" style = \"text-align: left;\">Float64</th><th title = \"Float64\" style = \"text-align: left;\">Float64</th><th title = \"Float64\" style = \"text-align: left;\">Float64</th><th title = \"Float64\" style = \"text-align: left;\">Float64</th><th title = \"Float64\" style = \"text-align: left;\">Float64</th></tr></thead><tbody><tr><td class = \"rowNumber\" style = \"font-weight: bold; text-align: right;\">1</td><td style = \"text-align: right;\">543.406</td><td style = \"text-align: right;\">0.143816</td><td style = \"text-align: right;\">-0.149772</td><td style = \"text-align: right;\">0.958624</td><td style = \"text-align: right;\">0.115471</td><td style = \"text-align: right;\">0.7362</td><td style = \"text-align: right;\">0.0911435</td><td style = \"text-align: right;\">0.180197</td></tr></tbody></table></div>"
      ],
      "text/latex": [
       "\\begin{tabular}{r|cccccccc}\n",
       "\t& loglikehood & mu1 & mu2 & p11 & p21 & prob1 & sig1 & sig2\\\\\n",
       "\t\\hline\n",
       "\t& Float64 & Float64 & Float64 & Float64 & Float64 & Float64 & Float64 & Float64\\\\\n",
       "\t\\hline\n",
       "\t1 & 543.406 & 0.143816 & -0.149772 & 0.958624 & 0.115471 & 0.7362 & 0.0911435 & 0.180197 \\\\\n",
       "\\end{tabular}\n"
      ],
      "text/plain": [
       "\u001b[1m1×8 DataFrame\u001b[0m\n",
       "\u001b[1m Row \u001b[0m│\u001b[1m loglikehood \u001b[0m\u001b[1m mu1      \u001b[0m\u001b[1m mu2       \u001b[0m\u001b[1m p11      \u001b[0m\u001b[1m p21      \u001b[0m\u001b[1m prob1   \u001b[0m\u001b[1m sig1    \u001b[0m ⋯\n",
       "     │\u001b[90m Float64     \u001b[0m\u001b[90m Float64  \u001b[0m\u001b[90m Float64   \u001b[0m\u001b[90m Float64  \u001b[0m\u001b[90m Float64  \u001b[0m\u001b[90m Float64 \u001b[0m\u001b[90m Float64 \u001b[0m ⋯\n",
       "─────┼──────────────────────────────────────────────────────────────────────────\n",
       "   1 │     543.406  0.143816  -0.149772  0.958624  0.115471   0.7362  0.091143 ⋯\n",
       "\u001b[36m                                                               2 columns omitted\u001b[0m"
      ]
     },
     "metadata": {},
     "output_type": "display_data"
    }
   ],
   "source": [
    "acwi_pln_98 = identity.(values(from(returns[:ACWI_Net_USDPLN ],Date(1998,01,01))))\n",
    "hmm_est, loglikehood = train_hmm(acwi_pln,2)\n",
    "regime_summary(loglikehood,hmm_est,12)"
   ]
  },
  {
   "cell_type": "code",
   "execution_count": 109,
   "metadata": {},
   "outputs": [
    {
     "data": {
      "text/html": [
       "<div><div style = \"float: left;\"><span>1×8 DataFrame</span></div><div style = \"clear: both;\"></div></div><div class = \"data-frame\" style = \"overflow-x: scroll;\"><table class = \"data-frame\" style = \"margin-bottom: 6px;\"><thead><tr class = \"header\"><th class = \"rowNumber\" style = \"font-weight: bold; text-align: right;\">Row</th><th style = \"text-align: left;\">loglikehood</th><th style = \"text-align: left;\">mu1</th><th style = \"text-align: left;\">mu2</th><th style = \"text-align: left;\">p11</th><th style = \"text-align: left;\">p21</th><th style = \"text-align: left;\">prob1</th><th style = \"text-align: left;\">sig1</th><th style = \"text-align: left;\">sig2</th></tr><tr class = \"subheader headerLastRow\"><th class = \"rowNumber\" style = \"font-weight: bold; text-align: right;\"></th><th title = \"Float64\" style = \"text-align: left;\">Float64</th><th title = \"Float64\" style = \"text-align: left;\">Float64</th><th title = \"Float64\" style = \"text-align: left;\">Float64</th><th title = \"Float64\" style = \"text-align: left;\">Float64</th><th title = \"Float64\" style = \"text-align: left;\">Float64</th><th title = \"Float64\" style = \"text-align: left;\">Float64</th><th title = \"Float64\" style = \"text-align: left;\">Float64</th><th title = \"Float64\" style = \"text-align: left;\">Float64</th></tr></thead><tbody><tr><td class = \"rowNumber\" style = \"font-weight: bold; text-align: right;\">1</td><td style = \"text-align: right;\">543.406</td><td style = \"text-align: right;\">0.143817</td><td style = \"text-align: right;\">-0.149775</td><td style = \"text-align: right;\">0.958621</td><td style = \"text-align: right;\">0.115479</td><td style = \"text-align: right;\">0.736199</td><td style = \"text-align: right;\">0.0911433</td><td style = \"text-align: right;\">0.180197</td></tr></tbody></table></div>"
      ],
      "text/latex": [
       "\\begin{tabular}{r|cccccccc}\n",
       "\t& loglikehood & mu1 & mu2 & p11 & p21 & prob1 & sig1 & sig2\\\\\n",
       "\t\\hline\n",
       "\t& Float64 & Float64 & Float64 & Float64 & Float64 & Float64 & Float64 & Float64\\\\\n",
       "\t\\hline\n",
       "\t1 & 543.406 & 0.143817 & -0.149775 & 0.958621 & 0.115479 & 0.736199 & 0.0911433 & 0.180197 \\\\\n",
       "\\end{tabular}\n"
      ],
      "text/plain": [
       "\u001b[1m1×8 DataFrame\u001b[0m\n",
       "\u001b[1m Row \u001b[0m│\u001b[1m loglikehood \u001b[0m\u001b[1m mu1      \u001b[0m\u001b[1m mu2       \u001b[0m\u001b[1m p11      \u001b[0m\u001b[1m p21      \u001b[0m\u001b[1m prob1    \u001b[0m\u001b[1m sig1   \u001b[0m ⋯\n",
       "     │\u001b[90m Float64     \u001b[0m\u001b[90m Float64  \u001b[0m\u001b[90m Float64   \u001b[0m\u001b[90m Float64  \u001b[0m\u001b[90m Float64  \u001b[0m\u001b[90m Float64  \u001b[0m\u001b[90m Float64\u001b[0m ⋯\n",
       "─────┼──────────────────────────────────────────────────────────────────────────\n",
       "   1 │     543.406  0.143817  -0.149775  0.958621  0.115479  0.736199  0.09114 ⋯\n",
       "\u001b[36m                                                               2 columns omitted\u001b[0m"
      ]
     },
     "metadata": {},
     "output_type": "display_data"
    }
   ],
   "source": [
    "acwi_pln_03 = identity.(values(from(returns[:ACWI_Net_USDPLN ],Date(2003,01,01))))\n",
    "hmm_est, loglikehood = train_hmm(acwi_pln,2)\n",
    "regime_summary(loglikehood,hmm_est,12)"
   ]
  },
  {
   "cell_type": "code",
   "execution_count": 110,
   "metadata": {},
   "outputs": [],
   "source": [
    "function guess_init(n_scenarios)\n",
    "    regimes_probs = rand(1:100,n_scenarios)\n",
    "    return regimes_probs/sum(regimes_probs)\n",
    "end\n",
    "\n",
    "function guess_tmatrix(n_scenarios)\n",
    "    regimes_probs = rand(1:100,n_scenarios,n_scenarios)\n",
    "    return regimes_probs ./ sum(regimes_probs,dims=2)\n",
    "end\n",
    "\n",
    "function guess_distribution()\n",
    "    corr = Matrix(1.0I,2,2)\n",
    "    sigma = [rand(Uniform(0,0.25)),rand(Uniform(0,0.035))]\n",
    "    means = [rand(Uniform(-0.5,0.5)),rand(Uniform(-0.01,0.12))]\n",
    "    cov = cor2cov(corr,sigma)\n",
    "    return MvNormal(means,cov)\n",
    "end\n",
    "\n",
    "using LinearAlgebra"
   ]
  },
  {
   "cell_type": "code",
   "execution_count": 115,
   "metadata": {},
   "outputs": [
    {
     "name": "stdout",
     "output_type": "stream",
     "text": [
      "Hidden Markov Model with:\n",
      " - initialization: [0.4666666666666667, 0.5333333333333333]\n",
      " - transition matrix: [0.5103448275862069 0.4896551724137931; 0.48091603053435117 0.5190839694656488]\n",
      " - observation distributions: [FullNormal(\n",
      "dim: 2\n",
      "μ: [0.07153873551044743, 0.10742260980071362]\n",
      "Σ: [0.0226077253855422 0.0; 0.0 0.0005556241748958511]\n",
      ")\n",
      ", FullNormal(\n",
      "dim: 2\n",
      "μ: [0.4282025516287372, 0.009128886981363686]\n",
      "Σ: [0.02386716986175943 0.0; 0.0 0.0010369690692649542]\n",
      ")\n",
      "]\n"
     ]
    }
   ],
   "source": [
    "acwi_and_pln = identity.(values(from(returns[:ACWI_Net_USDPLN, :USDPLN],Date(2001,01,01))))\n",
    "n_scenarios = 2\n",
    "\n",
    "\n",
    "init_guess = guess_init(n_scenarios)\n",
    "guess_matrix = guess_tmatrix(n_scenarios)\n",
    "guess_dist = [guess_distribution() for s in 1:n_scenarios]\n",
    "hmm_guess = HMM(init_guess, guess_matrix, guess_dist);\n",
    "println(hmm_guess)\n",
    "hmm_est_concat, _ = baum_welch(hmm_guess, eachrow(acwi_and_pln));"
   ]
  },
  {
   "cell_type": "code",
   "execution_count": 116,
   "metadata": {},
   "outputs": [
    {
     "data": {
      "text/plain": [
       "\"means\""
      ]
     },
     "metadata": {},
     "output_type": "display_data"
    },
    {
     "data": {
      "text/plain": [
       "2×2 Matrix{Float64}:\n",
       " -0.0728301   0.142591\n",
       "  0.0548271  -0.0363066"
      ]
     },
     "metadata": {},
     "output_type": "display_data"
    },
    {
     "data": {
      "text/plain": [
       "\"std\""
      ]
     },
     "metadata": {},
     "output_type": "display_data"
    },
    {
     "data": {
      "text/plain": [
       "2×2 Matrix{Float64}:\n",
       " 0.170773  0.0861709\n",
       " 0.158491  0.107953"
      ]
     },
     "metadata": {},
     "output_type": "display_data"
    },
    {
     "data": {
      "text/plain": [
       "\"corr\""
      ]
     },
     "metadata": {},
     "output_type": "display_data"
    },
    {
     "data": {
      "text/plain": [
       "2×2 Matrix{Float64}:\n",
       " 1.0        0.0866272\n",
       " 0.0866272  1.0"
      ]
     },
     "metadata": {},
     "output_type": "display_data"
    },
    {
     "data": {
      "text/plain": [
       "2×2 Matrix{Float64}:\n",
       " 1.0       0.592175\n",
       " 0.592175  1.0"
      ]
     },
     "metadata": {},
     "output_type": "display_data"
    }
   ],
   "source": [
    "dist1 = obs_distributions(hmm_est_concat)[1]\n",
    "dist2 = obs_distributions(hmm_est_concat)[2]\n",
    "\n",
    "mean1 = mean(dist1) .* 12\n",
    "mean2 = mean(dist2) .* 12\n",
    "\n",
    "std1 = sqrt.(var(dist1)) .* 12^0.5\n",
    "std2 = sqrt.(var(dist2)) .* 12^0.5\n",
    "display(\"means\")\n",
    "display([mean1 mean2])\n",
    "display(\"std\")\n",
    "display([std1 std2])\n",
    "display(\"corr\")\n",
    "cor1 = cor(dist1)\n",
    "display(cor1)\n",
    "cor2 = cor(dist2)\n",
    "display(cor2)\n"
   ]
  },
  {
   "cell_type": "code",
   "execution_count": 117,
   "metadata": {},
   "outputs": [
    {
     "data": {
      "text/plain": [
       "2-element Vector{Normal{Float64}}:\n",
       " Normal{Float64}(μ=0.013891966413751811, σ=0.023420940405019706)\n",
       " Normal{Float64}(μ=-0.0031355236979571117, σ=0.059348677241386316)"
      ]
     },
     "metadata": {},
     "output_type": "display_data"
    }
   ],
   "source": [
    "acwi_short = identity.(values(from(returns[:ACWI_Net],Date(2001,01,01))))\n",
    "hmm_est, loglikehood = train_hmm(acwi_short,2)\n",
    "obs_distributions(hmm_est)"
   ]
  },
  {
   "cell_type": "code",
   "execution_count": 118,
   "metadata": {},
   "outputs": [
    {
     "data": {
      "text/plain": [
       "279-element Vector{Float64}:\n",
       " 2.0\n",
       " 2.0\n",
       " 2.0\n",
       " 2.0\n",
       " 2.0\n",
       " 2.0\n",
       " 2.0\n",
       " 2.0\n",
       " 2.0\n",
       " 2.0\n",
       " ⋮\n",
       " 2.0\n",
       " 2.0\n",
       " 2.0\n",
       " 2.0\n",
       " 2.0\n",
       " 2.0\n",
       " 2.0\n",
       " 2.0\n",
       " 2.0"
      ]
     },
     "metadata": {},
     "output_type": "display_data"
    }
   ],
   "source": [
    "acwi_short = identity.(from(returns[:ACWI_Net],Date(2001,01,01)))\n",
    "hmm_est, loglikehood = train_hmm(values(acwi_short),2)\n",
    "HMM(initialization(hmm_est), transition_matrix(hmm_est), obs_distributions(hmm_est))\n",
    "states,_ = viterbi(hmm_est,values(acwi_short))\n",
    "states = Float64.(states)"
   ]
  },
  {
   "cell_type": "code",
   "execution_count": 34,
   "metadata": {},
   "outputs": [
    {
     "data": {
      "text/plain": [
       "\"states\""
      ]
     },
     "metadata": {},
     "output_type": "display_data"
    }
   ],
   "source": [
    "acwi_states = merge(acwi_short,identity.(from((returns[:USDPLN]),Date(2001,01,01))),TimeArray(timestamp(acwi_short),states))\n",
    "CSV.write(\"states\",acwi_states)\n"
   ]
  },
  {
   "cell_type": "code",
   "execution_count": 36,
   "metadata": {},
   "outputs": [
    {
     "name": "stdout",
     "output_type": "stream",
     "text": [
      "First usd pln\n",
      "-0.029791512628015195\n",
      "0.104989023291778\n",
      "-0.552543385302522\n",
      "Second usd pln\n",
      "0.023239055189205573\n",
      "0.14920806835446282\n",
      "-0.6632535242025056\n"
     ]
    }
   ],
   "source": [
    "first_regime = acwi_states[findwhen(acwi_states[:A] .== 1.0)]\n",
    "second_regime = acwi_states[findwhen(acwi_states[:A] .== 2.0)]\n",
    "\n",
    "println(\"First usd pln\")\n",
    "println(mean(values(first_regime[:USDPLN]))*12)\n",
    "println(std(values(first_regime[:USDPLN]))*12^0.5)\n",
    "println(cor(values(first_regime[:USDPLN]),values(first_regime[:ACWI_Net ])))\n",
    "\n",
    "println(\"Second usd pln\")\n",
    "println(mean(values(second_regime[:USDPLN]))*12)\n",
    "println(std(values(second_regime[:USDPLN]))*12^0.5)\n",
    "println(cor(values(second_regime[:USDPLN]),values(second_regime[:ACWI_Net])))"
   ]
  },
  {
   "cell_type": "code",
   "execution_count": 46,
   "metadata": {},
   "outputs": [
    {
     "data": {
      "image/png": "[encoded data removed]",
      "image/svg+xml": [
       "<?xml version=\"1.0\" encoding=\"utf-8\"?>\n",
       "<svg xmlns=\"http://www.w3.org/2000/svg\" xmlns:xlink=\"http://www.w3.org/1999/xlink\" width=\"600\" height=\"400\" viewBox=\"0 0 2400 1600\">\n",
       "<defs>\n",
       "  <clipPath id=\"clip960\">\n",
       "    <rect x=\"0\" y=\"0\" width=\"2400\" height=\"1600\"/>\n",
       "  </clipPath>\n",
       "</defs>\n",
       "<path clip-path=\"url(#clip960)\" d=\"M0 1600 L2400 1600 L2400 0 L0 0  Z\" fill=\"#ffffff\" fill-rule=\"evenodd\" fill-opacity=\"1\"/>\n",
       "<defs>\n",
       "  <clipPath id=\"clip961\">\n",
       "    <rect x=\"480\" y=\"0\" width=\"1681\" height=\"1600\"/>\n",
       "  </clipPath>\n",
       "</defs>\n",
       "<path clip-path=\"url(#clip960)\" d=\"M192.709 1486.45 L2352.76 1486.45 L2352.76 47.2441 L192.709 47.2441  Z\" fill=\"#ffffff\" fill-rule=\"evenodd\" fill-opacity=\"1\"/>\n",
       "<defs>\n",
       "  <clipPath id=\"clip962\">\n",
       "    <rect x=\"192\" y=\"47\" width=\"2161\" height=\"1440\"/>\n",
       "  </clipPath>\n",
       "</defs>\n",
       "<polyline clip-path=\"url(#clip962)\" style=\"stroke:#000000; stroke-linecap:round; stroke-linejoin:round; stroke-width:2; stroke-opacity:0.1; fill:none\" points=\"246.615,1486.45 246.615,47.2441 \"/>\n",
       "<polyline clip-path=\"url(#clip962)\" style=\"stroke:#000000; stroke-linecap:round; stroke-linejoin:round; stroke-width:2; stroke-opacity:0.1; fill:none\" points=\"774.491,1486.45 774.491,47.2441 \"/>\n",
       "<polyline clip-path=\"url(#clip962)\" style=\"stroke:#000000; stroke-linecap:round; stroke-linejoin:round; stroke-width:2; stroke-opacity:0.1; fill:none\" points=\"1302.61,1486.45 1302.61,47.2441 \"/>\n",
       "<polyline clip-path=\"url(#clip962)\" style=\"stroke:#000000; stroke-linecap:round; stroke-linejoin:round; stroke-width:2; stroke-opacity:0.1; fill:none\" points=\"1830.48,1486.45 1830.48,47.2441 \"/>\n",
       "<polyline clip-path=\"url(#clip960)\" style=\"stroke:#000000; stroke-linecap:round; stroke-linejoin:round; stroke-width:4; stroke-opacity:1; fill:none\" points=\"192.709,1486.45 2352.76,1486.45 \"/>\n",
       "<polyline clip-path=\"url(#clip960)\" style=\"stroke:#000000; stroke-linecap:round; stroke-linejoin:round; stroke-width:4; stroke-opacity:1; fill:none\" points=\"246.615,1486.45 246.615,1467.55 \"/>\n",
       "<polyline clip-path=\"url(#clip960)\" style=\"stroke:#000000; stroke-linecap:round; stroke-linejoin:round; stroke-width:4; stroke-opacity:1; fill:none\" points=\"774.491,1486.45 774.491,1467.55 \"/>\n",
       "<polyline clip-path=\"url(#clip960)\" style=\"stroke:#000000; stroke-linecap:round; stroke-linejoin:round; stroke-width:4; stroke-opacity:1; fill:none\" points=\"1302.61,1486.45 1302.61,1467.55 \"/>\n",
       "<polyline clip-path=\"url(#clip960)\" style=\"stroke:#000000; stroke-linecap:round; stroke-linejoin:round; stroke-width:4; stroke-opacity:1; fill:none\" points=\"1830.48,1486.45 1830.48,1467.55 \"/>\n",
       "<path clip-path=\"url(#clip960)\" d=\"M118.409 1544.91 L134.729 1544.91 L134.729 1548.85 L112.784 1548.85 L112.784 1544.91 Q115.446 1542.16 120.03 1537.53 Q124.636 1532.88 125.817 1531.53 Q128.062 1529.01 128.942 1527.27 Q129.844 1525.51 129.844 1523.82 Q129.844 1521.07 127.9 1519.33 Q125.979 1517.6 122.877 1517.6 Q120.678 1517.6 118.224 1518.36 Q115.794 1519.13 113.016 1520.68 L113.016 1515.95 Q115.84 1514.82 118.294 1514.24 Q120.747 1513.66 122.784 1513.66 Q128.155 1513.66 131.349 1516.35 Q134.544 1519.03 134.544 1523.52 Q134.544 1525.65 133.733 1527.57 Q132.946 1529.47 130.84 1532.07 Q130.261 1532.74 127.159 1535.95 Q124.057 1539.15 118.409 1544.91 Z\" fill=\"#000000\" fill-rule=\"nonzero\" fill-opacity=\"1\" /><path clip-path=\"url(#clip960)\" d=\"M154.543 1517.37 Q150.932 1517.37 149.104 1520.93 Q147.298 1524.47 147.298 1531.6 Q147.298 1538.71 149.104 1542.27 Q150.932 1545.82 154.543 1545.82 Q158.178 1545.82 159.983 1542.27 Q161.812 1538.71 161.812 1531.6 Q161.812 1524.47 159.983 1520.93 Q158.178 1517.37 154.543 1517.37 M154.543 1513.66 Q160.354 1513.66 163.409 1518.27 Q166.488 1522.85 166.488 1531.6 Q166.488 1540.33 163.409 1544.94 Q160.354 1549.52 154.543 1549.52 Q148.733 1549.52 145.655 1544.94 Q142.599 1540.33 142.599 1531.6 Q142.599 1522.85 145.655 1518.27 Q148.733 1513.66 154.543 1513.66 Z\" fill=\"#000000\" fill-rule=\"nonzero\" fill-opacity=\"1\" /><path clip-path=\"url(#clip960)\" d=\"M184.705 1517.37 Q181.094 1517.37 179.265 1520.93 Q177.46 1524.47 177.46 1531.6 Q177.46 1538.71 179.265 1542.27 Q181.094 1545.82 184.705 1545.82 Q188.34 1545.82 190.145 1542.27 Q191.974 1538.71 191.974 1531.6 Q191.974 1524.47 190.145 1520.93 Q188.34 1517.37 184.705 1517.37 M184.705 1513.66 Q190.515 1513.66 193.571 1518.27 Q196.65 1522.85 196.65 1531.6 Q196.65 1540.33 193.571 1544.94 Q190.515 1549.52 184.705 1549.52 Q178.895 1549.52 175.816 1544.94 Q172.761 1540.33 172.761 1531.6 Q172.761 1522.85 175.816 1518.27 Q178.895 1513.66 184.705 1513.66 Z\" fill=\"#000000\" fill-rule=\"nonzero\" fill-opacity=\"1\" /><path clip-path=\"url(#clip960)\" d=\"M205.677 1544.91 L213.316 1544.91 L213.316 1518.55 L205.006 1520.21 L205.006 1515.95 L213.27 1514.29 L217.946 1514.29 L217.946 1544.91 L225.585 1544.91 L225.585 1548.85 L205.677 1548.85 L205.677 1544.91 Z\" fill=\"#000000\" fill-rule=\"nonzero\" fill-opacity=\"1\" /><path clip-path=\"url(#clip960)\" d=\"M232.274 1533.96 L244.751 1533.96 L244.751 1537.76 L232.274 1537.76 L232.274 1533.96 Z\" fill=\"#000000\" fill-rule=\"nonzero\" fill-opacity=\"1\" /><path clip-path=\"url(#clip960)\" d=\"M262.135 1517.37 Q258.524 1517.37 256.696 1520.93 Q254.89 1524.47 254.89 1531.6 Q254.89 1538.71 256.696 1542.27 Q258.524 1545.82 262.135 1545.82 Q265.77 1545.82 267.575 1542.27 Q269.404 1538.71 269.404 1531.6 Q269.404 1524.47 267.575 1520.93 Q265.77 1517.37 262.135 1517.37 M262.135 1513.66 Q267.946 1513.66 271.001 1518.27 Q274.08 1522.85 274.08 1531.6 Q274.08 1540.33 271.001 1544.94 Q267.946 1549.52 262.135 1549.52 Q256.325 1549.52 253.247 1544.94 Q250.191 1540.33 250.191 1531.6 Q250.191 1522.85 253.247 1518.27 Q256.325 1513.66 262.135 1513.66 Z\" fill=\"#000000\" fill-rule=\"nonzero\" fill-opacity=\"1\" /><path clip-path=\"url(#clip960)\" d=\"M283.108 1544.91 L290.746 1544.91 L290.746 1518.55 L282.436 1520.21 L282.436 1515.95 L290.7 1514.29 L295.376 1514.29 L295.376 1544.91 L303.015 1544.91 L303.015 1548.85 L283.108 1548.85 L283.108 1544.91 Z\" fill=\"#000000\" fill-rule=\"nonzero\" fill-opacity=\"1\" /><path clip-path=\"url(#clip960)\" d=\"M309.705 1533.96 L322.181 1533.96 L322.181 1537.76 L309.705 1537.76 L309.705 1533.96 Z\" fill=\"#000000\" fill-rule=\"nonzero\" fill-opacity=\"1\" /><path clip-path=\"url(#clip960)\" d=\"M339.566 1517.37 Q335.954 1517.37 334.126 1520.93 Q332.32 1524.47 332.32 1531.6 Q332.32 1538.71 334.126 1542.27 Q335.954 1545.82 339.566 1545.82 Q343.2 1545.82 345.005 1542.27 Q346.834 1538.71 346.834 1531.6 Q346.834 1524.47 345.005 1520.93 Q343.2 1517.37 339.566 1517.37 M339.566 1513.66 Q345.376 1513.66 348.431 1518.27 Q351.51 1522.85 351.51 1531.6 Q351.51 1540.33 348.431 1544.94 Q345.376 1549.52 339.566 1549.52 Q333.755 1549.52 330.677 1544.94 Q327.621 1540.33 327.621 1531.6 Q327.621 1522.85 330.677 1518.27 Q333.755 1513.66 339.566 1513.66 Z\" fill=\"#000000\" fill-rule=\"nonzero\" fill-opacity=\"1\" /><path clip-path=\"url(#clip960)\" d=\"M360.538 1544.91 L368.177 1544.91 L368.177 1518.55 L359.866 1520.21 L359.866 1515.95 L368.13 1514.29 L372.806 1514.29 L372.806 1544.91 L380.445 1544.91 L380.445 1548.85 L360.538 1548.85 L360.538 1544.91 Z\" fill=\"#000000\" fill-rule=\"nonzero\" fill-opacity=\"1\" /><path clip-path=\"url(#clip960)\" d=\"M646.285 1544.91 L662.605 1544.91 L662.605 1548.85 L640.66 1548.85 L640.66 1544.91 Q643.322 1542.16 647.906 1537.53 Q652.512 1532.88 653.693 1531.53 Q655.938 1529.01 656.818 1527.27 Q657.721 1525.51 657.721 1523.82 Q657.721 1521.07 655.776 1519.33 Q653.855 1517.6 650.753 1517.6 Q648.554 1517.6 646.1 1518.36 Q643.67 1519.13 640.892 1520.68 L640.892 1515.95 Q643.716 1514.82 646.17 1514.24 Q648.623 1513.66 650.66 1513.66 Q656.031 1513.66 659.225 1516.35 Q662.42 1519.03 662.42 1523.52 Q662.42 1525.65 661.609 1527.57 Q660.822 1529.47 658.716 1532.07 Q658.137 1532.74 655.035 1535.95 Q651.934 1539.15 646.285 1544.91 Z\" fill=\"#000000\" fill-rule=\"nonzero\" fill-opacity=\"1\" /><path clip-path=\"url(#clip960)\" d=\"M682.419 1517.37 Q678.808 1517.37 676.98 1520.93 Q675.174 1524.47 675.174 1531.6 Q675.174 1538.71 676.98 1542.27 Q678.808 1545.82 682.419 1545.82 Q686.054 1545.82 687.859 1542.27 Q689.688 1538.71 689.688 1531.6 Q689.688 1524.47 687.859 1520.93 Q686.054 1517.37 682.419 1517.37 M682.419 1513.66 Q688.23 1513.66 691.285 1518.27 Q694.364 1522.85 694.364 1531.6 Q694.364 1540.33 691.285 1544.94 Q688.23 1549.52 682.419 1549.52 Q676.609 1549.52 673.531 1544.94 Q670.475 1540.33 670.475 1531.6 Q670.475 1522.85 673.531 1518.27 Q676.609 1513.66 682.419 1513.66 Z\" fill=\"#000000\" fill-rule=\"nonzero\" fill-opacity=\"1\" /><path clip-path=\"url(#clip960)\" d=\"M712.581 1517.37 Q708.97 1517.37 707.142 1520.93 Q705.336 1524.47 705.336 1531.6 Q705.336 1538.71 707.142 1542.27 Q708.97 1545.82 712.581 1545.82 Q716.216 1545.82 718.021 1542.27 Q719.85 1538.71 719.85 1531.6 Q719.85 1524.47 718.021 1520.93 Q716.216 1517.37 712.581 1517.37 M712.581 1513.66 Q718.392 1513.66 721.447 1518.27 Q724.526 1522.85 724.526 1531.6 Q724.526 1540.33 721.447 1544.94 Q718.392 1549.52 712.581 1549.52 Q706.771 1549.52 703.693 1544.94 Q700.637 1540.33 700.637 1531.6 Q700.637 1522.85 703.693 1518.27 Q706.771 1513.66 712.581 1513.66 Z\" fill=\"#000000\" fill-rule=\"nonzero\" fill-opacity=\"1\" /><path clip-path=\"url(#clip960)\" d=\"M731.563 1514.29 L753.785 1514.29 L753.785 1516.28 L741.239 1548.85 L736.354 1548.85 L748.16 1518.22 L731.563 1518.22 L731.563 1514.29 Z\" fill=\"#000000\" fill-rule=\"nonzero\" fill-opacity=\"1\" /><path clip-path=\"url(#clip960)\" d=\"M760.151 1533.96 L772.627 1533.96 L772.627 1537.76 L760.151 1537.76 L760.151 1533.96 Z\" fill=\"#000000\" fill-rule=\"nonzero\" fill-opacity=\"1\" /><path clip-path=\"url(#clip960)\" d=\"M790.012 1517.37 Q786.4 1517.37 784.572 1520.93 Q782.766 1524.47 782.766 1531.6 Q782.766 1538.71 784.572 1542.27 Q786.4 1545.82 790.012 1545.82 Q793.646 1545.82 795.451 1542.27 Q797.28 1538.71 797.28 1531.6 Q797.28 1524.47 795.451 1520.93 Q793.646 1517.37 790.012 1517.37 M790.012 1513.66 Q795.822 1513.66 798.877 1518.27 Q801.956 1522.85 801.956 1531.6 Q801.956 1540.33 798.877 1544.94 Q795.822 1549.52 790.012 1549.52 Q784.201 1549.52 781.123 1544.94 Q778.067 1540.33 778.067 1531.6 Q778.067 1522.85 781.123 1518.27 Q784.201 1513.66 790.012 1513.66 Z\" fill=\"#000000\" fill-rule=\"nonzero\" fill-opacity=\"1\" /><path clip-path=\"url(#clip960)\" d=\"M810.984 1544.91 L818.622 1544.91 L818.622 1518.55 L810.312 1520.21 L810.312 1515.95 L818.576 1514.29 L823.252 1514.29 L823.252 1544.91 L830.891 1544.91 L830.891 1548.85 L810.984 1548.85 L810.984 1544.91 Z\" fill=\"#000000\" fill-rule=\"nonzero\" fill-opacity=\"1\" /><path clip-path=\"url(#clip960)\" d=\"M837.581 1533.96 L850.057 1533.96 L850.057 1537.76 L837.581 1537.76 L837.581 1533.96 Z\" fill=\"#000000\" fill-rule=\"nonzero\" fill-opacity=\"1\" /><path clip-path=\"url(#clip960)\" d=\"M867.442 1517.37 Q863.831 1517.37 862.002 1520.93 Q860.196 1524.47 860.196 1531.6 Q860.196 1538.71 862.002 1542.27 Q863.831 1545.82 867.442 1545.82 Q871.076 1545.82 872.881 1542.27 Q874.71 1538.71 874.71 1531.6 Q874.71 1524.47 872.881 1520.93 Q871.076 1517.37 867.442 1517.37 M867.442 1513.66 Q873.252 1513.66 876.307 1518.27 Q879.386 1522.85 879.386 1531.6 Q879.386 1540.33 876.307 1544.94 Q873.252 1549.52 867.442 1549.52 Q861.631 1549.52 858.553 1544.94 Q855.497 1540.33 855.497 1531.6 Q855.497 1522.85 858.553 1518.27 Q861.631 1513.66 867.442 1513.66 Z\" fill=\"#000000\" fill-rule=\"nonzero\" fill-opacity=\"1\" /><path clip-path=\"url(#clip960)\" d=\"M888.414 1544.91 L896.053 1544.91 L896.053 1518.55 L887.742 1520.21 L887.742 1515.95 L896.006 1514.29 L900.682 1514.29 L900.682 1544.91 L908.321 1544.91 L908.321 1548.85 L888.414 1548.85 L888.414 1544.91 Z\" fill=\"#000000\" fill-rule=\"nonzero\" fill-opacity=\"1\" /><path clip-path=\"url(#clip960)\" d=\"M1174.4 1544.91 L1190.72 1544.91 L1190.72 1548.85 L1168.78 1548.85 L1168.78 1544.91 Q1171.44 1542.16 1176.02 1537.53 Q1180.63 1532.88 1181.81 1531.53 Q1184.06 1529.01 1184.93 1527.27 Q1185.84 1525.51 1185.84 1523.82 Q1185.84 1521.07 1183.89 1519.33 Q1181.97 1517.6 1178.87 1517.6 Q1176.67 1517.6 1174.22 1518.36 Q1171.79 1519.13 1169.01 1520.68 L1169.01 1515.95 Q1171.83 1514.82 1174.29 1514.24 Q1176.74 1513.66 1178.78 1513.66 Q1184.15 1513.66 1187.34 1516.35 Q1190.54 1519.03 1190.54 1523.52 Q1190.54 1525.65 1189.73 1527.57 Q1188.94 1529.47 1186.83 1532.07 Q1186.25 1532.74 1183.15 1535.95 Q1180.05 1539.15 1174.4 1544.91 Z\" fill=\"#000000\" fill-rule=\"nonzero\" fill-opacity=\"1\" /><path clip-path=\"url(#clip960)\" d=\"M1210.54 1517.37 Q1206.93 1517.37 1205.1 1520.93 Q1203.29 1524.47 1203.29 1531.6 Q1203.29 1538.71 1205.1 1542.27 Q1206.93 1545.82 1210.54 1545.82 Q1214.17 1545.82 1215.98 1542.27 Q1217.8 1538.71 1217.8 1531.6 Q1217.8 1524.47 1215.98 1520.93 Q1214.17 1517.37 1210.54 1517.37 M1210.54 1513.66 Q1216.35 1513.66 1219.4 1518.27 Q1222.48 1522.85 1222.48 1531.6 Q1222.48 1540.33 1219.4 1544.94 Q1216.35 1549.52 1210.54 1549.52 Q1204.73 1549.52 1201.65 1544.94 Q1198.59 1540.33 1198.59 1531.6 Q1198.59 1522.85 1201.65 1518.27 Q1204.73 1513.66 1210.54 1513.66 Z\" fill=\"#000000\" fill-rule=\"nonzero\" fill-opacity=\"1\" /><path clip-path=\"url(#clip960)\" d=\"M1231.51 1544.91 L1239.15 1544.91 L1239.15 1518.55 L1230.84 1520.21 L1230.84 1515.95 L1239.1 1514.29 L1243.78 1514.29 L1243.78 1544.91 L1251.42 1544.91 L1251.42 1548.85 L1231.51 1548.85 L1231.51 1544.91 Z\" fill=\"#000000\" fill-rule=\"nonzero\" fill-opacity=\"1\" /><path clip-path=\"url(#clip960)\" d=\"M1275.03 1530.21 Q1278.38 1530.93 1280.26 1533.2 Q1282.16 1535.47 1282.16 1538.8 Q1282.16 1543.92 1278.64 1546.72 Q1275.12 1549.52 1268.64 1549.52 Q1266.46 1549.52 1264.15 1549.08 Q1261.86 1548.66 1259.4 1547.81 L1259.4 1543.29 Q1261.35 1544.43 1263.66 1545.01 Q1265.98 1545.58 1268.5 1545.58 Q1272.9 1545.58 1275.19 1543.85 Q1277.5 1542.11 1277.5 1538.8 Q1277.5 1535.75 1275.35 1534.03 Q1273.22 1532.3 1269.4 1532.3 L1265.37 1532.3 L1265.37 1528.45 L1269.59 1528.45 Q1273.04 1528.45 1274.86 1527.09 Q1276.69 1525.7 1276.69 1523.11 Q1276.69 1520.45 1274.8 1519.03 Q1272.92 1517.6 1269.4 1517.6 Q1267.48 1517.6 1265.28 1518.01 Q1263.08 1518.43 1260.44 1519.31 L1260.44 1515.14 Q1263.11 1514.4 1265.42 1514.03 Q1267.76 1513.66 1269.82 1513.66 Q1275.14 1513.66 1278.24 1516.09 Q1281.35 1518.5 1281.35 1522.62 Q1281.35 1525.49 1279.7 1527.48 Q1278.06 1529.45 1275.03 1530.21 Z\" fill=\"#000000\" fill-rule=\"nonzero\" fill-opacity=\"1\" /><path clip-path=\"url(#clip960)\" d=\"M1288.27 1533.96 L1300.74 1533.96 L1300.74 1537.76 L1288.27 1537.76 L1288.27 1533.96 Z\" fill=\"#000000\" fill-rule=\"nonzero\" fill-opacity=\"1\" /><path clip-path=\"url(#clip960)\" d=\"M1318.13 1517.37 Q1314.52 1517.37 1312.69 1520.93 Q1310.88 1524.47 1310.88 1531.6 Q1310.88 1538.71 1312.69 1542.27 Q1314.52 1545.82 1318.13 1545.82 Q1321.76 1545.82 1323.57 1542.27 Q1325.4 1538.71 1325.4 1531.6 Q1325.4 1524.47 1323.57 1520.93 Q1321.76 1517.37 1318.13 1517.37 M1318.13 1513.66 Q1323.94 1513.66 1326.99 1518.27 Q1330.07 1522.85 1330.07 1531.6 Q1330.07 1540.33 1326.99 1544.94 Q1323.94 1549.52 1318.13 1549.52 Q1312.32 1549.52 1309.24 1544.94 Q1306.18 1540.33 1306.18 1531.6 Q1306.18 1522.85 1309.24 1518.27 Q1312.32 1513.66 1318.13 1513.66 Z\" fill=\"#000000\" fill-rule=\"nonzero\" fill-opacity=\"1\" /><path clip-path=\"url(#clip960)\" d=\"M1339.1 1544.91 L1346.74 1544.91 L1346.74 1518.55 L1338.43 1520.21 L1338.43 1515.95 L1346.69 1514.29 L1351.37 1514.29 L1351.37 1544.91 L1359.01 1544.91 L1359.01 1548.85 L1339.1 1548.85 L1339.1 1544.91 Z\" fill=\"#000000\" fill-rule=\"nonzero\" fill-opacity=\"1\" /><path clip-path=\"url(#clip960)\" d=\"M1365.7 1533.96 L1378.17 1533.96 L1378.17 1537.76 L1365.7 1537.76 L1365.7 1533.96 Z\" fill=\"#000000\" fill-rule=\"nonzero\" fill-opacity=\"1\" /><path clip-path=\"url(#clip960)\" d=\"M1395.56 1517.37 Q1391.95 1517.37 1390.12 1520.93 Q1388.31 1524.47 1388.31 1531.6 Q1388.31 1538.71 1390.12 1542.27 Q1391.95 1545.82 1395.56 1545.82 Q1399.19 1545.82 1401 1542.27 Q1402.83 1538.71 1402.83 1531.6 Q1402.83 1524.47 1401 1520.93 Q1399.19 1517.37 1395.56 1517.37 M1395.56 1513.66 Q1401.37 1513.66 1404.42 1518.27 Q1407.5 1522.85 1407.5 1531.6 Q1407.5 1540.33 1404.42 1544.94 Q1401.37 1549.52 1395.56 1549.52 Q1389.75 1549.52 1386.67 1544.94 Q1383.61 1540.33 1383.61 1531.6 Q1383.61 1522.85 1386.67 1518.27 Q1389.75 1513.66 1395.56 1513.66 Z\" fill=\"#000000\" fill-rule=\"nonzero\" fill-opacity=\"1\" /><path clip-path=\"url(#clip960)\" d=\"M1416.53 1544.91 L1424.17 1544.91 L1424.17 1518.55 L1415.86 1520.21 L1415.86 1515.95 L1424.12 1514.29 L1428.8 1514.29 L1428.8 1544.91 L1436.44 1544.91 L1436.44 1548.85 L1416.53 1548.85 L1416.53 1544.91 Z\" fill=\"#000000\" fill-rule=\"nonzero\" fill-opacity=\"1\" /><path clip-path=\"url(#clip960)\" d=\"M1702.28 1544.91 L1718.6 1544.91 L1718.6 1548.85 L1696.65 1548.85 L1696.65 1544.91 Q1699.32 1542.16 1703.9 1537.53 Q1708.51 1532.88 1709.69 1531.53 Q1711.93 1529.01 1712.81 1527.27 Q1713.71 1525.51 1713.71 1523.82 Q1713.71 1521.07 1711.77 1519.33 Q1709.85 1517.6 1706.75 1517.6 Q1704.55 1517.6 1702.09 1518.36 Q1699.66 1519.13 1696.89 1520.68 L1696.89 1515.95 Q1699.71 1514.82 1702.16 1514.24 Q1704.62 1513.66 1706.65 1513.66 Q1712.02 1513.66 1715.22 1516.35 Q1718.41 1519.03 1718.41 1523.52 Q1718.41 1525.65 1717.6 1527.57 Q1716.82 1529.47 1714.71 1532.07 Q1714.13 1532.74 1711.03 1535.95 Q1707.93 1539.15 1702.28 1544.91 Z\" fill=\"#000000\" fill-rule=\"nonzero\" fill-opacity=\"1\" /><path clip-path=\"url(#clip960)\" d=\"M1738.41 1517.37 Q1734.8 1517.37 1732.97 1520.93 Q1731.17 1524.47 1731.17 1531.6 Q1731.17 1538.71 1732.97 1542.27 Q1734.8 1545.82 1738.41 1545.82 Q1742.05 1545.82 1743.85 1542.27 Q1745.68 1538.71 1745.68 1531.6 Q1745.68 1524.47 1743.85 1520.93 Q1742.05 1517.37 1738.41 1517.37 M1738.41 1513.66 Q1744.22 1513.66 1747.28 1518.27 Q1750.36 1522.85 1750.36 1531.6 Q1750.36 1540.33 1747.28 1544.94 Q1744.22 1549.52 1738.41 1549.52 Q1732.6 1549.52 1729.52 1544.94 Q1726.47 1540.33 1726.47 1531.6 Q1726.47 1522.85 1729.52 1518.27 Q1732.6 1513.66 1738.41 1513.66 Z\" fill=\"#000000\" fill-rule=\"nonzero\" fill-opacity=\"1\" /><path clip-path=\"url(#clip960)\" d=\"M1759.38 1544.91 L1767.02 1544.91 L1767.02 1518.55 L1758.71 1520.21 L1758.71 1515.95 L1766.98 1514.29 L1771.65 1514.29 L1771.65 1544.91 L1779.29 1544.91 L1779.29 1548.85 L1759.38 1548.85 L1759.38 1544.91 Z\" fill=\"#000000\" fill-rule=\"nonzero\" fill-opacity=\"1\" /><path clip-path=\"url(#clip960)\" d=\"M1788.88 1548.13 L1788.88 1543.87 Q1790.63 1544.7 1792.44 1545.14 Q1794.25 1545.58 1795.98 1545.58 Q1800.61 1545.58 1803.04 1542.48 Q1805.5 1539.36 1805.84 1533.01 Q1804.5 1535.01 1802.44 1536.07 Q1800.38 1537.13 1797.88 1537.13 Q1792.69 1537.13 1789.66 1534.01 Q1786.65 1530.86 1786.65 1525.42 Q1786.65 1520.1 1789.8 1516.88 Q1792.95 1513.66 1798.18 1513.66 Q1804.18 1513.66 1807.32 1518.27 Q1810.5 1522.85 1810.5 1531.6 Q1810.5 1539.77 1806.61 1544.66 Q1802.74 1549.52 1796.19 1549.52 Q1794.43 1549.52 1792.63 1549.17 Q1790.82 1548.82 1788.88 1548.13 M1798.18 1533.48 Q1801.33 1533.48 1803.16 1531.32 Q1805.01 1529.17 1805.01 1525.42 Q1805.01 1521.7 1803.16 1519.54 Q1801.33 1517.37 1798.18 1517.37 Q1795.03 1517.37 1793.18 1519.54 Q1791.35 1521.7 1791.35 1525.42 Q1791.35 1529.17 1793.18 1531.32 Q1795.03 1533.48 1798.18 1533.48 Z\" fill=\"#000000\" fill-rule=\"nonzero\" fill-opacity=\"1\" /><path clip-path=\"url(#clip960)\" d=\"M1816.14 1533.96 L1828.62 1533.96 L1828.62 1537.76 L1816.14 1537.76 L1816.14 1533.96 Z\" fill=\"#000000\" fill-rule=\"nonzero\" fill-opacity=\"1\" /><path clip-path=\"url(#clip960)\" d=\"M1846 1517.37 Q1842.39 1517.37 1840.56 1520.93 Q1838.76 1524.47 1838.76 1531.6 Q1838.76 1538.71 1840.56 1542.27 Q1842.39 1545.82 1846 1545.82 Q1849.64 1545.82 1851.44 1542.27 Q1853.27 1538.71 1853.27 1531.6 Q1853.27 1524.47 1851.44 1520.93 Q1849.64 1517.37 1846 1517.37 M1846 1513.66 Q1851.81 1513.66 1854.87 1518.27 Q1857.95 1522.85 1857.95 1531.6 Q1857.95 1540.33 1854.87 1544.94 Q1851.81 1549.52 1846 1549.52 Q1840.19 1549.52 1837.12 1544.94 Q1834.06 1540.33 1834.06 1531.6 Q1834.06 1522.85 1837.12 1518.27 Q1840.19 1513.66 1846 1513.66 Z\" fill=\"#000000\" fill-rule=\"nonzero\" fill-opacity=\"1\" /><path clip-path=\"url(#clip960)\" d=\"M1866.98 1544.91 L1874.62 1544.91 L1874.62 1518.55 L1866.31 1520.21 L1866.31 1515.95 L1874.57 1514.29 L1879.25 1514.29 L1879.25 1544.91 L1886.88 1544.91 L1886.88 1548.85 L1866.98 1548.85 L1866.98 1544.91 Z\" fill=\"#000000\" fill-rule=\"nonzero\" fill-opacity=\"1\" /><path clip-path=\"url(#clip960)\" d=\"M1893.57 1533.96 L1906.05 1533.96 L1906.05 1537.76 L1893.57 1537.76 L1893.57 1533.96 Z\" fill=\"#000000\" fill-rule=\"nonzero\" fill-opacity=\"1\" /><path clip-path=\"url(#clip960)\" d=\"M1923.43 1517.37 Q1919.82 1517.37 1917.99 1520.93 Q1916.19 1524.47 1916.19 1531.6 Q1916.19 1538.71 1917.99 1542.27 Q1919.82 1545.82 1923.43 1545.82 Q1927.07 1545.82 1928.87 1542.27 Q1930.7 1538.71 1930.7 1531.6 Q1930.7 1524.47 1928.87 1520.93 Q1927.07 1517.37 1923.43 1517.37 M1923.43 1513.66 Q1929.24 1513.66 1932.3 1518.27 Q1935.38 1522.85 1935.38 1531.6 Q1935.38 1540.33 1932.3 1544.94 Q1929.24 1549.52 1923.43 1549.52 Q1917.62 1549.52 1914.55 1544.94 Q1911.49 1540.33 1911.49 1531.6 Q1911.49 1522.85 1914.55 1518.27 Q1917.62 1513.66 1923.43 1513.66 Z\" fill=\"#000000\" fill-rule=\"nonzero\" fill-opacity=\"1\" /><path clip-path=\"url(#clip960)\" d=\"M1944.41 1544.91 L1952.05 1544.91 L1952.05 1518.55 L1943.74 1520.21 L1943.74 1515.95 L1952 1514.29 L1956.68 1514.29 L1956.68 1544.91 L1964.31 1544.91 L1964.31 1548.85 L1944.41 1548.85 L1944.41 1544.91 Z\" fill=\"#000000\" fill-rule=\"nonzero\" fill-opacity=\"1\" /><polyline clip-path=\"url(#clip962)\" style=\"stroke:#000000; stroke-linecap:round; stroke-linejoin:round; stroke-width:2; stroke-opacity:0.1; fill:none\" points=\"192.709,1361.79 2352.76,1361.79 \"/>\n",
       "<polyline clip-path=\"url(#clip962)\" style=\"stroke:#000000; stroke-linecap:round; stroke-linejoin:round; stroke-width:2; stroke-opacity:0.1; fill:none\" points=\"192.709,958.991 2352.76,958.991 \"/>\n",
       "<polyline clip-path=\"url(#clip962)\" style=\"stroke:#000000; stroke-linecap:round; stroke-linejoin:round; stroke-width:2; stroke-opacity:0.1; fill:none\" points=\"192.709,556.187 2352.76,556.187 \"/>\n",
       "<polyline clip-path=\"url(#clip962)\" style=\"stroke:#000000; stroke-linecap:round; stroke-linejoin:round; stroke-width:2; stroke-opacity:0.1; fill:none\" points=\"192.709,153.383 2352.76,153.383 \"/>\n",
       "<polyline clip-path=\"url(#clip960)\" style=\"stroke:#000000; stroke-linecap:round; stroke-linejoin:round; stroke-width:4; stroke-opacity:1; fill:none\" points=\"192.709,1486.45 192.709,47.2441 \"/>\n",
       "<polyline clip-path=\"url(#clip960)\" style=\"stroke:#000000; stroke-linecap:round; stroke-linejoin:round; stroke-width:4; stroke-opacity:1; fill:none\" points=\"192.709,1361.79 211.607,1361.79 \"/>\n",
       "<polyline clip-path=\"url(#clip960)\" style=\"stroke:#000000; stroke-linecap:round; stroke-linejoin:round; stroke-width:4; stroke-opacity:1; fill:none\" points=\"192.709,958.991 211.607,958.991 \"/>\n",
       "<polyline clip-path=\"url(#clip960)\" style=\"stroke:#000000; stroke-linecap:round; stroke-linejoin:round; stroke-width:4; stroke-opacity:1; fill:none\" points=\"192.709,556.187 211.607,556.187 \"/>\n",
       "<polyline clip-path=\"url(#clip960)\" style=\"stroke:#000000; stroke-linecap:round; stroke-linejoin:round; stroke-width:4; stroke-opacity:1; fill:none\" points=\"192.709,153.383 211.607,153.383 \"/>\n",
       "<path clip-path=\"url(#clip960)\" d=\"M51.3625 1362.25 L81.0383 1362.25 L81.0383 1366.18 L51.3625 1366.18 L51.3625 1362.25 Z\" fill=\"#000000\" fill-rule=\"nonzero\" fill-opacity=\"1\" /><path clip-path=\"url(#clip960)\" d=\"M101.131 1347.59 Q97.5197 1347.59 95.691 1351.16 Q93.8854 1354.7 93.8854 1361.83 Q93.8854 1368.94 95.691 1372.5 Q97.5197 1376.04 101.131 1376.04 Q104.765 1376.04 106.571 1372.5 Q108.399 1368.94 108.399 1361.83 Q108.399 1354.7 106.571 1351.16 Q104.765 1347.59 101.131 1347.59 M101.131 1343.89 Q106.941 1343.89 109.996 1348.5 Q113.075 1353.08 113.075 1361.83 Q113.075 1370.56 109.996 1375.16 Q106.941 1379.75 101.131 1379.75 Q95.3206 1379.75 92.2419 1375.16 Q89.1864 1370.56 89.1864 1361.83 Q89.1864 1353.08 92.2419 1348.5 Q95.3206 1343.89 101.131 1343.89 Z\" fill=\"#000000\" fill-rule=\"nonzero\" fill-opacity=\"1\" /><path clip-path=\"url(#clip960)\" d=\"M121.293 1373.19 L126.177 1373.19 L126.177 1379.07 L121.293 1379.07 L121.293 1373.19 Z\" fill=\"#000000\" fill-rule=\"nonzero\" fill-opacity=\"1\" /><path clip-path=\"url(#clip960)\" d=\"M140.39 1375.14 L156.709 1375.14 L156.709 1379.07 L134.765 1379.07 L134.765 1375.14 Q137.427 1372.38 142.01 1367.76 Q146.617 1363.1 147.797 1361.76 Q150.043 1359.24 150.922 1357.5 Q151.825 1355.74 151.825 1354.05 Q151.825 1351.3 149.88 1349.56 Q147.959 1347.82 144.857 1347.82 Q142.658 1347.82 140.205 1348.59 Q137.774 1349.35 134.996 1350.9 L134.996 1346.18 Q137.82 1345.05 140.274 1344.47 Q142.728 1343.89 144.765 1343.89 Q150.135 1343.89 153.33 1346.57 Q156.524 1349.26 156.524 1353.75 Q156.524 1355.88 155.714 1357.8 Q154.927 1359.7 152.82 1362.29 Q152.242 1362.96 149.14 1366.18 Q146.038 1369.38 140.39 1375.14 Z\" fill=\"#000000\" fill-rule=\"nonzero\" fill-opacity=\"1\" /><path clip-path=\"url(#clip960)\" d=\"M50.9921 959.442 L80.6679 959.442 L80.6679 963.377 L50.9921 963.377 L50.9921 959.442 Z\" fill=\"#000000\" fill-rule=\"nonzero\" fill-opacity=\"1\" /><path clip-path=\"url(#clip960)\" d=\"M100.76 944.789 Q97.1493 944.789 95.3206 948.354 Q93.515 951.896 93.515 959.025 Q93.515 966.132 95.3206 969.697 Q97.1493 973.238 100.76 973.238 Q104.395 973.238 106.2 969.697 Q108.029 966.132 108.029 959.025 Q108.029 951.896 106.2 948.354 Q104.395 944.789 100.76 944.789 M100.76 941.086 Q106.571 941.086 109.626 945.692 Q112.705 950.276 112.705 959.025 Q112.705 967.752 109.626 972.359 Q106.571 976.942 100.76 976.942 Q94.9502 976.942 91.8715 972.359 Q88.816 967.752 88.816 959.025 Q88.816 950.276 91.8715 945.692 Q94.9502 941.086 100.76 941.086 Z\" fill=\"#000000\" fill-rule=\"nonzero\" fill-opacity=\"1\" /><path clip-path=\"url(#clip960)\" d=\"M120.922 970.391 L125.807 970.391 L125.807 976.271 L120.922 976.271 L120.922 970.391 Z\" fill=\"#000000\" fill-rule=\"nonzero\" fill-opacity=\"1\" /><path clip-path=\"url(#clip960)\" d=\"M136.802 972.336 L144.441 972.336 L144.441 945.97 L136.131 947.637 L136.131 943.377 L144.394 941.711 L149.07 941.711 L149.07 972.336 L156.709 972.336 L156.709 976.271 L136.802 976.271 L136.802 972.336 Z\" fill=\"#000000\" fill-rule=\"nonzero\" fill-opacity=\"1\" /><path clip-path=\"url(#clip960)\" d=\"M99.5335 541.986 Q95.9224 541.986 94.0937 545.55 Q92.2882 549.092 92.2882 556.222 Q92.2882 563.328 94.0937 566.893 Q95.9224 570.435 99.5335 570.435 Q103.168 570.435 104.973 566.893 Q106.802 563.328 106.802 556.222 Q106.802 549.092 104.973 545.55 Q103.168 541.986 99.5335 541.986 M99.5335 538.282 Q105.344 538.282 108.399 542.888 Q111.478 547.472 111.478 556.222 Q111.478 564.948 108.399 569.555 Q105.344 574.138 99.5335 574.138 Q93.7234 574.138 90.6447 569.555 Q87.5892 564.948 87.5892 556.222 Q87.5892 547.472 90.6447 542.888 Q93.7234 538.282 99.5335 538.282 Z\" fill=\"#000000\" fill-rule=\"nonzero\" fill-opacity=\"1\" /><path clip-path=\"url(#clip960)\" d=\"M119.695 567.587 L124.58 567.587 L124.58 573.467 L119.695 573.467 L119.695 567.587 Z\" fill=\"#000000\" fill-rule=\"nonzero\" fill-opacity=\"1\" /><path clip-path=\"url(#clip960)\" d=\"M144.765 541.986 Q141.154 541.986 139.325 545.55 Q137.519 549.092 137.519 556.222 Q137.519 563.328 139.325 566.893 Q141.154 570.435 144.765 570.435 Q148.399 570.435 150.205 566.893 Q152.033 563.328 152.033 556.222 Q152.033 549.092 150.205 545.55 Q148.399 541.986 144.765 541.986 M144.765 538.282 Q150.575 538.282 153.63 542.888 Q156.709 547.472 156.709 556.222 Q156.709 564.948 153.63 569.555 Q150.575 574.138 144.765 574.138 Q138.955 574.138 135.876 569.555 Q132.82 564.948 132.82 556.222 Q132.82 547.472 135.876 542.888 Q138.955 538.282 144.765 538.282 Z\" fill=\"#000000\" fill-rule=\"nonzero\" fill-opacity=\"1\" /><path clip-path=\"url(#clip960)\" d=\"M100.76 139.182 Q97.1493 139.182 95.3206 142.747 Q93.515 146.288 93.515 153.418 Q93.515 160.524 95.3206 164.089 Q97.1493 167.631 100.76 167.631 Q104.395 167.631 106.2 164.089 Q108.029 160.524 108.029 153.418 Q108.029 146.288 106.2 142.747 Q104.395 139.182 100.76 139.182 M100.76 135.478 Q106.571 135.478 109.626 140.085 Q112.705 144.668 112.705 153.418 Q112.705 162.145 109.626 166.751 Q106.571 171.334 100.76 171.334 Q94.9502 171.334 91.8715 166.751 Q88.816 162.145 88.816 153.418 Q88.816 144.668 91.8715 140.085 Q94.9502 135.478 100.76 135.478 Z\" fill=\"#000000\" fill-rule=\"nonzero\" fill-opacity=\"1\" /><path clip-path=\"url(#clip960)\" d=\"M120.922 164.784 L125.807 164.784 L125.807 170.663 L120.922 170.663 L120.922 164.784 Z\" fill=\"#000000\" fill-rule=\"nonzero\" fill-opacity=\"1\" /><path clip-path=\"url(#clip960)\" d=\"M136.802 166.728 L144.441 166.728 L144.441 140.362 L136.131 142.029 L136.131 137.77 L144.394 136.103 L149.07 136.103 L149.07 166.728 L156.709 166.728 L156.709 170.663 L136.802 170.663 L136.802 166.728 Z\" fill=\"#000000\" fill-rule=\"nonzero\" fill-opacity=\"1\" /><polyline clip-path=\"url(#clip962)\" style=\"stroke:#009af9; stroke-linecap:round; stroke-linejoin:round; stroke-width:4; stroke-opacity:1; fill:none\" points=\"253.843,456.174 260.589,911.053 267.816,838.467 275.285,274.594 282.754,603.806 289.741,682.709 297.451,621.015 304.92,747.136 311.666,943.181 319.616,472.069 326.844,316.891 334.313,519.486 341.782,668.942 348.528,587.104 355.515,379.671 363.224,687.376 370.693,553.084 377.439,811.4 385.39,909.948 392.618,547.266 400.087,1025.67 407.555,271.047 414.542,343.04 422.252,754.291 429.721,676.535 436.467,629.097 443.936,573.604 451.164,214.096 458.392,331 465.86,481.465 473.329,469.024 480.316,463.082 488.026,531.792 495.495,320.042 502.241,496.321 510.191,309.689 517.419,488.718 524.165,483.941 532.116,579.276 539.344,651.922 546.813,525.031 554.04,477.247 561.268,687.218 568.978,531.714 576.206,473.417 583.193,458.906 590.903,342.424 598.371,403.284 605.84,642.544 612.586,418.982 620.055,645.928 627.042,646.059 634.752,481.656 641.98,515.676 648.967,409.914 656.917,525.721 664.145,436.754 671.614,666.181 678.842,412.124 686.07,458.32 693.779,362.629 700.525,562.098 707.994,472.356 714.74,424.305 722.691,718.191 729.919,557.926 737.388,528.788 744.856,453.086 751.843,509.516 759.553,407.879 766.781,443.87 773.768,467.303 781.719,516.315 788.465,577.448 795.693,476.214 803.161,381.224 810.63,438.168 817.617,568.062 825.327,618.17 832.796,567.349 839.542,345.555 847.492,402.032 854.72,738.339 862.189,601.024 869.658,900.403 876.645,544.803 884.114,615.732 891.341,337.514 898.569,493.72 906.038,901.315 913.507,662.171 920.494,643.956 928.204,1093.97 935.672,1445.72 942.418,829.91 950.369,412.784 957.597,915.936 964.343,971.247 972.053,237.353 979.281,106.729 986.268,173.598 993.977,578.836 1001.45,216.353 1008.91,414.642 1016.14,375.505 1023.37,618.92 1030.84,393.839 1038.31,473.624 1045.3,734.138 1052.04,505.2 1059.99,305.045 1067.22,549.416 1074.69,957.402 1081.92,682.232 1089.14,241.086 1096.85,699.521 1104.08,188.175 1111.07,413.179 1118.78,646.824 1126.25,271.519 1133.72,493.466 1140.46,440.569 1147.93,560.212 1154.92,394.672 1162.63,643.716 1169.86,620.161 1176.84,622.308 1184.79,861.733 1192.02,955.653 1199.49,146.201 1206.72,678.606 1213.95,564.334 1221.66,328.526 1228.64,358.456 1235.87,529.522 1243.34,602.516 1250.81,934.561 1257.79,362.003 1265.5,501.418 1272.97,469.542 1279.72,431.276 1287.67,583.125 1294.9,505.005 1302.37,465.967 1309.84,374.769 1316.58,556.814 1323.57,483.203 1331.28,442.73 1338.75,567.252 1345.49,675.677 1353.44,367.828 1360.67,640.995 1368.14,353.329 1375.61,397.459 1382.6,499.541 1390.31,487.289 1397.77,720.621 1404.52,366.156 1411.99,538.317 1419.22,518.022 1426.45,471.413 1433.91,481.053 1441.38,605.335 1448.37,468.185 1456.08,688.965 1463.55,527.928 1470.29,489.369 1478.25,634.673 1485.47,619.662 1492.22,337.96 1499.93,619.088 1507.16,440.979 1514.14,561.446 1521.85,652.149 1529.32,521.359 1536.79,842.233 1544.02,704.828 1551.25,251.839 1558.72,589.587 1566.18,629.492 1573.17,806.755 1580.64,583.991 1588.11,268.221 1595.1,497.162 1602.81,551.113 1610.03,580.645 1617.02,386.24 1624.97,542.658 1632.2,531.583 1639.67,625.145 1646.9,525.692 1654.12,470.098 1661.83,447.52 1668.58,444.744 1676.05,507.222 1682.79,493.886 1690.74,468.206 1697.97,537.913 1705.44,445.168 1712.91,540.781 1719.9,479.11 1727.61,473.399 1734.83,478.955 1741.82,491.763 1749.77,335.126 1756.52,729.007 1763.75,643.345 1771.22,517.908 1778.68,551.166 1785.67,578.05 1793.38,436.506 1800.85,524.677 1807.6,538.688 1815.55,869.953 1822.77,497.703 1830.24,850.384 1837.71,250.07 1844.46,449.858 1851.44,505.86 1859.15,422.416 1866.62,802.509 1873.37,300.701 1881.32,544.408 1888.55,652.885 1896.02,472.325 1903.49,447.423 1910.47,459.032 1918.18,416.787 1925.65,600.922 1932.4,895.429 1940.11,1140.37 1947.33,146.258 1954.32,384.709 1962.03,429.492 1969.5,348.602 1976.97,316.893 1984.2,688.206 1991.42,655.318 1998.89,87.9763 2006.36,373.382 2013.35,574.54 2020.1,463.958 2028.05,450.005 2035.27,383.812 2042.74,493.991 2049.97,503.452 2057.2,528.524 2064.91,456.608 2072.14,726.122 2079.12,355.651 2086.83,654.378 2094.3,398.197 2101.77,759.037 2108.52,661.593 2115.99,469.87 2122.97,892.24 2130.68,551.468 2137.91,910.904 2144.9,284.286 2152.85,707.284 2160.08,961.518 2167.54,320.152 2174.77,255.288 2182,717.887 2189.71,277.355 2196.46,673.319 2203.92,433.863 2210.67,498.709 2218.62,599.566 2225.85,328.85 2233.32,411.362 2240.79,670.35 2247.77,726.287 2255.48,679.159 2262.71,200.579 2269.7,367.21 2277.65,532.645 2284.64,386.935 2291.62,431.664 \"/>\n",
       "<path clip-path=\"url(#clip962)\" d=\"M253.843 2925.65 L253.843 -1391.96 L260.589 -1391.96 L260.589 2925.65 L253.843 2925.65  Z\" fill=\"#e26f46\" fill-rule=\"evenodd\" fill-opacity=\"0.3\"/>\n",
       "<polyline clip-path=\"url(#clip962)\" style=\"stroke:#000000; stroke-linecap:round; stroke-linejoin:round; stroke-width:0; stroke-opacity:0.3; fill:none\" points=\"253.843,2925.65 253.843,-1391.96 260.589,-1391.96 260.589,2925.65 253.843,2925.65 \"/>\n",
       "<path clip-path=\"url(#clip962)\" d=\"M267.816 2925.65 L267.816 -1391.96 L275.285 -1391.96 L275.285 2925.65 L267.816 2925.65  Z\" fill=\"#e26f46\" fill-rule=\"evenodd\" fill-opacity=\"0.3\"/>\n",
       "<polyline clip-path=\"url(#clip962)\" style=\"stroke:#000000; stroke-linecap:round; stroke-linejoin:round; stroke-width:0; stroke-opacity:0.3; fill:none\" points=\"267.816,2925.65 267.816,-1391.96 275.285,-1391.96 275.285,2925.65 267.816,2925.65 \"/>\n",
       "<path clip-path=\"url(#clip962)\" d=\"M282.754 2925.65 L282.754 -1391.96 L289.741 -1391.96 L289.741 2925.65 L282.754 2925.65  Z\" fill=\"#e26f46\" fill-rule=\"evenodd\" fill-opacity=\"0.3\"/>\n",
       "<polyline clip-path=\"url(#clip962)\" style=\"stroke:#000000; stroke-linecap:round; stroke-linejoin:round; stroke-width:0; stroke-opacity:0.3; fill:none\" points=\"282.754,2925.65 282.754,-1391.96 289.741,-1391.96 289.741,2925.65 282.754,2925.65 \"/>\n",
       "<path clip-path=\"url(#clip962)\" d=\"M297.451 2925.65 L297.451 -1391.96 L304.92 -1391.96 L304.92 2925.65 L297.451 2925.65  Z\" fill=\"#e26f46\" fill-rule=\"evenodd\" fill-opacity=\"0.3\"/>\n",
       "<polyline clip-path=\"url(#clip962)\" style=\"stroke:#000000; stroke-linecap:round; stroke-linejoin:round; stroke-width:0; stroke-opacity:0.3; fill:none\" points=\"297.451,2925.65 297.451,-1391.96 304.92,-1391.96 304.92,2925.65 297.451,2925.65 \"/>\n",
       "<path clip-path=\"url(#clip962)\" d=\"M311.666 2925.65 L311.666 -1391.96 L319.616 -1391.96 L319.616 2925.65 L311.666 2925.65  Z\" fill=\"#e26f46\" fill-rule=\"evenodd\" fill-opacity=\"0.3\"/>\n",
       "<polyline clip-path=\"url(#clip962)\" style=\"stroke:#000000; stroke-linecap:round; stroke-linejoin:round; stroke-width:0; stroke-opacity:0.3; fill:none\" points=\"311.666,2925.65 311.666,-1391.96 319.616,-1391.96 319.616,2925.65 311.666,2925.65 \"/>\n",
       "<path clip-path=\"url(#clip962)\" d=\"M326.844 2925.65 L326.844 -1391.96 L334.313 -1391.96 L334.313 2925.65 L326.844 2925.65  Z\" fill=\"#e26f46\" fill-rule=\"evenodd\" fill-opacity=\"0.3\"/>\n",
       "<polyline clip-path=\"url(#clip962)\" style=\"stroke:#000000; stroke-linecap:round; stroke-linejoin:round; stroke-width:0; stroke-opacity:0.3; fill:none\" points=\"326.844,2925.65 326.844,-1391.96 334.313,-1391.96 334.313,2925.65 326.844,2925.65 \"/>\n",
       "<path clip-path=\"url(#clip962)\" d=\"M341.782 2925.65 L341.782 -1391.96 L348.528 -1391.96 L348.528 2925.65 L341.782 2925.65  Z\" fill=\"#e26f46\" fill-rule=\"evenodd\" fill-opacity=\"0.3\"/>\n",
       "<polyline clip-path=\"url(#clip962)\" style=\"stroke:#000000; stroke-linecap:round; stroke-linejoin:round; stroke-width:0; stroke-opacity:0.3; fill:none\" points=\"341.782,2925.65 341.782,-1391.96 348.528,-1391.96 348.528,2925.65 341.782,2925.65 \"/>\n",
       "<path clip-path=\"url(#clip962)\" d=\"M355.515 2925.65 L355.515 -1391.96 L363.224 -1391.96 L363.224 2925.65 L355.515 2925.65  Z\" fill=\"#e26f46\" fill-rule=\"evenodd\" fill-opacity=\"0.3\"/>\n",
       "<polyline clip-path=\"url(#clip962)\" style=\"stroke:#000000; stroke-linecap:round; stroke-linejoin:round; stroke-width:0; stroke-opacity:0.3; fill:none\" points=\"355.515,2925.65 355.515,-1391.96 363.224,-1391.96 363.224,2925.65 355.515,2925.65 \"/>\n",
       "<path clip-path=\"url(#clip962)\" d=\"M370.693 2925.65 L370.693 -1391.96 L377.439 -1391.96 L377.439 2925.65 L370.693 2925.65  Z\" fill=\"#e26f46\" fill-rule=\"evenodd\" fill-opacity=\"0.3\"/>\n",
       "<polyline clip-path=\"url(#clip962)\" style=\"stroke:#000000; stroke-linecap:round; stroke-linejoin:round; stroke-width:0; stroke-opacity:0.3; fill:none\" points=\"370.693,2925.65 370.693,-1391.96 377.439,-1391.96 377.439,2925.65 370.693,2925.65 \"/>\n",
       "<path clip-path=\"url(#clip962)\" d=\"M385.39 2925.65 L385.39 -1391.96 L392.618 -1391.96 L392.618 2925.65 L385.39 2925.65  Z\" fill=\"#e26f46\" fill-rule=\"evenodd\" fill-opacity=\"0.3\"/>\n",
       "<polyline clip-path=\"url(#clip962)\" style=\"stroke:#000000; stroke-linecap:round; stroke-linejoin:round; stroke-width:0; stroke-opacity:0.3; fill:none\" points=\"385.39,2925.65 385.39,-1391.96 392.618,-1391.96 392.618,2925.65 385.39,2925.65 \"/>\n",
       "<path clip-path=\"url(#clip962)\" d=\"M400.087 2925.65 L400.087 -1391.96 L407.555 -1391.96 L407.555 2925.65 L400.087 2925.65  Z\" fill=\"#e26f46\" fill-rule=\"evenodd\" fill-opacity=\"0.3\"/>\n",
       "<polyline clip-path=\"url(#clip962)\" style=\"stroke:#000000; stroke-linecap:round; stroke-linejoin:round; stroke-width:0; stroke-opacity:0.3; fill:none\" points=\"400.087,2925.65 400.087,-1391.96 407.555,-1391.96 407.555,2925.65 400.087,2925.65 \"/>\n",
       "<path clip-path=\"url(#clip962)\" d=\"M414.542 2925.65 L414.542 -1391.96 L422.252 -1391.96 L422.252 2925.65 L414.542 2925.65  Z\" fill=\"#e26f46\" fill-rule=\"evenodd\" fill-opacity=\"0.3\"/>\n",
       "<polyline clip-path=\"url(#clip962)\" style=\"stroke:#000000; stroke-linecap:round; stroke-linejoin:round; stroke-width:0; stroke-opacity:0.3; fill:none\" points=\"414.542,2925.65 414.542,-1391.96 422.252,-1391.96 422.252,2925.65 414.542,2925.65 \"/>\n",
       "<path clip-path=\"url(#clip962)\" d=\"M429.721 2925.65 L429.721 -1391.96 L436.467 -1391.96 L436.467 2925.65 L429.721 2925.65  Z\" fill=\"#e26f46\" fill-rule=\"evenodd\" fill-opacity=\"0.3\"/>\n",
       "<polyline clip-path=\"url(#clip962)\" style=\"stroke:#000000; stroke-linecap:round; stroke-linejoin:round; stroke-width:0; stroke-opacity:0.3; fill:none\" points=\"429.721,2925.65 429.721,-1391.96 436.467,-1391.96 436.467,2925.65 429.721,2925.65 \"/>\n",
       "<path clip-path=\"url(#clip962)\" d=\"M443.936 2925.65 L443.936 -1391.96 L451.164 -1391.96 L451.164 2925.65 L443.936 2925.65  Z\" fill=\"#e26f46\" fill-rule=\"evenodd\" fill-opacity=\"0.3\"/>\n",
       "<polyline clip-path=\"url(#clip962)\" style=\"stroke:#000000; stroke-linecap:round; stroke-linejoin:round; stroke-width:0; stroke-opacity:0.3; fill:none\" points=\"443.936,2925.65 443.936,-1391.96 451.164,-1391.96 451.164,2925.65 443.936,2925.65 \"/>\n",
       "<path clip-path=\"url(#clip962)\" d=\"M458.392 2925.65 L458.392 -1391.96 L854.72 -1391.96 L854.72 2925.65 L458.392 2925.65  Z\" fill=\"#e26f46\" fill-rule=\"evenodd\" fill-opacity=\"0.3\"/>\n",
       "<polyline clip-path=\"url(#clip962)\" style=\"stroke:#000000; stroke-linecap:round; stroke-linejoin:round; stroke-width:0; stroke-opacity:0.3; fill:none\" points=\"458.392,2925.65 458.392,-1391.96 854.72,-1391.96 854.72,2925.65 458.392,2925.65 \"/>\n",
       "<path clip-path=\"url(#clip962)\" d=\"M862.189 2925.65 L862.189 -1391.96 L869.658 -1391.96 L869.658 2925.65 L862.189 2925.65  Z\" fill=\"#e26f46\" fill-rule=\"evenodd\" fill-opacity=\"0.3\"/>\n",
       "<polyline clip-path=\"url(#clip962)\" style=\"stroke:#000000; stroke-linecap:round; stroke-linejoin:round; stroke-width:0; stroke-opacity:0.3; fill:none\" points=\"862.189,2925.65 862.189,-1391.96 869.658,-1391.96 869.658,2925.65 862.189,2925.65 \"/>\n",
       "<path clip-path=\"url(#clip962)\" d=\"M876.645 2925.65 L876.645 -1391.96 L884.114 -1391.96 L884.114 2925.65 L876.645 2925.65  Z\" fill=\"#e26f46\" fill-rule=\"evenodd\" fill-opacity=\"0.3\"/>\n",
       "<polyline clip-path=\"url(#clip962)\" style=\"stroke:#000000; stroke-linecap:round; stroke-linejoin:round; stroke-width:0; stroke-opacity:0.3; fill:none\" points=\"876.645,2925.65 876.645,-1391.96 884.114,-1391.96 884.114,2925.65 876.645,2925.65 \"/>\n",
       "<path clip-path=\"url(#clip962)\" d=\"M891.341 2925.65 L891.341 -1391.96 L898.569 -1391.96 L898.569 2925.65 L891.341 2925.65  Z\" fill=\"#e26f46\" fill-rule=\"evenodd\" fill-opacity=\"0.3\"/>\n",
       "<polyline clip-path=\"url(#clip962)\" style=\"stroke:#000000; stroke-linecap:round; stroke-linejoin:round; stroke-width:0; stroke-opacity:0.3; fill:none\" points=\"891.341,2925.65 891.341,-1391.96 898.569,-1391.96 898.569,2925.65 891.341,2925.65 \"/>\n",
       "<path clip-path=\"url(#clip962)\" d=\"M906.038 2925.65 L906.038 -1391.96 L913.507 -1391.96 L913.507 2925.65 L906.038 2925.65  Z\" fill=\"#e26f46\" fill-rule=\"evenodd\" fill-opacity=\"0.3\"/>\n",
       "<polyline clip-path=\"url(#clip962)\" style=\"stroke:#000000; stroke-linecap:round; stroke-linejoin:round; stroke-width:0; stroke-opacity:0.3; fill:none\" points=\"906.038,2925.65 906.038,-1391.96 913.507,-1391.96 913.507,2925.65 906.038,2925.65 \"/>\n",
       "<path clip-path=\"url(#clip962)\" d=\"M920.494 2925.65 L920.494 -1391.96 L928.204 -1391.96 L928.204 2925.65 L920.494 2925.65  Z\" fill=\"#e26f46\" fill-rule=\"evenodd\" fill-opacity=\"0.3\"/>\n",
       "<polyline clip-path=\"url(#clip962)\" style=\"stroke:#000000; stroke-linecap:round; stroke-linejoin:round; stroke-width:0; stroke-opacity:0.3; fill:none\" points=\"920.494,2925.65 920.494,-1391.96 928.204,-1391.96 928.204,2925.65 920.494,2925.65 \"/>\n",
       "<path clip-path=\"url(#clip962)\" d=\"M935.672 2925.65 L935.672 -1391.96 L942.418 -1391.96 L942.418 2925.65 L935.672 2925.65  Z\" fill=\"#e26f46\" fill-rule=\"evenodd\" fill-opacity=\"0.3\"/>\n",
       "<polyline clip-path=\"url(#clip962)\" style=\"stroke:#000000; stroke-linecap:round; stroke-linejoin:round; stroke-width:0; stroke-opacity:0.3; fill:none\" points=\"935.672,2925.65 935.672,-1391.96 942.418,-1391.96 942.418,2925.65 935.672,2925.65 \"/>\n",
       "<path clip-path=\"url(#clip962)\" d=\"M950.369 2925.65 L950.369 -1391.96 L957.597 -1391.96 L957.597 2925.65 L950.369 2925.65  Z\" fill=\"#e26f46\" fill-rule=\"evenodd\" fill-opacity=\"0.3\"/>\n",
       "<polyline clip-path=\"url(#clip962)\" style=\"stroke:#000000; stroke-linecap:round; stroke-linejoin:round; stroke-width:0; stroke-opacity:0.3; fill:none\" points=\"950.369,2925.65 950.369,-1391.96 957.597,-1391.96 957.597,2925.65 950.369,2925.65 \"/>\n",
       "<path clip-path=\"url(#clip962)\" d=\"M964.343 2925.65 L964.343 -1391.96 L972.053 -1391.96 L972.053 2925.65 L964.343 2925.65  Z\" fill=\"#e26f46\" fill-rule=\"evenodd\" fill-opacity=\"0.3\"/>\n",
       "<polyline clip-path=\"url(#clip962)\" style=\"stroke:#000000; stroke-linecap:round; stroke-linejoin:round; stroke-width:0; stroke-opacity:0.3; fill:none\" points=\"964.343,2925.65 964.343,-1391.96 972.053,-1391.96 972.053,2925.65 964.343,2925.65 \"/>\n",
       "<path clip-path=\"url(#clip962)\" d=\"M979.281 2925.65 L979.281 -1391.96 L986.268 -1391.96 L986.268 2925.65 L979.281 2925.65  Z\" fill=\"#e26f46\" fill-rule=\"evenodd\" fill-opacity=\"0.3\"/>\n",
       "<polyline clip-path=\"url(#clip962)\" style=\"stroke:#000000; stroke-linecap:round; stroke-linejoin:round; stroke-width:0; stroke-opacity:0.3; fill:none\" points=\"979.281,2925.65 979.281,-1391.96 986.268,-1391.96 986.268,2925.65 979.281,2925.65 \"/>\n",
       "<path clip-path=\"url(#clip962)\" d=\"M993.977 2925.65 L993.977 -1391.96 L1001.45 -1391.96 L1001.45 2925.65 L993.977 2925.65  Z\" fill=\"#e26f46\" fill-rule=\"evenodd\" fill-opacity=\"0.3\"/>\n",
       "<polyline clip-path=\"url(#clip962)\" style=\"stroke:#000000; stroke-linecap:round; stroke-linejoin:round; stroke-width:0; stroke-opacity:0.3; fill:none\" points=\"993.977,2925.65 993.977,-1391.96 1001.45,-1391.96 1001.45,2925.65 993.977,2925.65 \"/>\n",
       "<path clip-path=\"url(#clip962)\" d=\"M1008.91 2925.65 L1008.91 -1391.96 L1016.14 -1391.96 L1016.14 2925.65 L1008.91 2925.65  Z\" fill=\"#e26f46\" fill-rule=\"evenodd\" fill-opacity=\"0.3\"/>\n",
       "<polyline clip-path=\"url(#clip962)\" style=\"stroke:#000000; stroke-linecap:round; stroke-linejoin:round; stroke-width:0; stroke-opacity:0.3; fill:none\" points=\"1008.91,2925.65 1008.91,-1391.96 1016.14,-1391.96 1016.14,2925.65 1008.91,2925.65 \"/>\n",
       "<path clip-path=\"url(#clip962)\" d=\"M1023.37 2925.65 L1023.37 -1391.96 L1030.84 -1391.96 L1030.84 2925.65 L1023.37 2925.65  Z\" fill=\"#e26f46\" fill-rule=\"evenodd\" fill-opacity=\"0.3\"/>\n",
       "<polyline clip-path=\"url(#clip962)\" style=\"stroke:#000000; stroke-linecap:round; stroke-linejoin:round; stroke-width:0; stroke-opacity:0.3; fill:none\" points=\"1023.37,2925.65 1023.37,-1391.96 1030.84,-1391.96 1030.84,2925.65 1023.37,2925.65 \"/>\n",
       "<path clip-path=\"url(#clip962)\" d=\"M1038.31 2925.65 L1038.31 -1391.96 L1045.3 -1391.96 L1045.3 2925.65 L1038.31 2925.65  Z\" fill=\"#e26f46\" fill-rule=\"evenodd\" fill-opacity=\"0.3\"/>\n",
       "<polyline clip-path=\"url(#clip962)\" style=\"stroke:#000000; stroke-linecap:round; stroke-linejoin:round; stroke-width:0; stroke-opacity:0.3; fill:none\" points=\"1038.31,2925.65 1038.31,-1391.96 1045.3,-1391.96 1045.3,2925.65 1038.31,2925.65 \"/>\n",
       "<path clip-path=\"url(#clip962)\" d=\"M1052.04 2925.65 L1052.04 -1391.96 L1059.99 -1391.96 L1059.99 2925.65 L1052.04 2925.65  Z\" fill=\"#e26f46\" fill-rule=\"evenodd\" fill-opacity=\"0.3\"/>\n",
       "<polyline clip-path=\"url(#clip962)\" style=\"stroke:#000000; stroke-linecap:round; stroke-linejoin:round; stroke-width:0; stroke-opacity:0.3; fill:none\" points=\"1052.04,2925.65 1052.04,-1391.96 1059.99,-1391.96 1059.99,2925.65 1052.04,2925.65 \"/>\n",
       "<path clip-path=\"url(#clip962)\" d=\"M1067.22 2925.65 L1067.22 -1391.96 L1074.69 -1391.96 L1074.69 2925.65 L1067.22 2925.65  Z\" fill=\"#e26f46\" fill-rule=\"evenodd\" fill-opacity=\"0.3\"/>\n",
       "<polyline clip-path=\"url(#clip962)\" style=\"stroke:#000000; stroke-linecap:round; stroke-linejoin:round; stroke-width:0; stroke-opacity:0.3; fill:none\" points=\"1067.22,2925.65 1067.22,-1391.96 1074.69,-1391.96 1074.69,2925.65 1067.22,2925.65 \"/>\n",
       "<path clip-path=\"url(#clip962)\" d=\"M1081.92 2925.65 L1081.92 -1391.96 L1089.14 -1391.96 L1089.14 2925.65 L1081.92 2925.65  Z\" fill=\"#e26f46\" fill-rule=\"evenodd\" fill-opacity=\"0.3\"/>\n",
       "<polyline clip-path=\"url(#clip962)\" style=\"stroke:#000000; stroke-linecap:round; stroke-linejoin:round; stroke-width:0; stroke-opacity:0.3; fill:none\" points=\"1081.92,2925.65 1081.92,-1391.96 1089.14,-1391.96 1089.14,2925.65 1081.92,2925.65 \"/>\n",
       "<path clip-path=\"url(#clip962)\" d=\"M1096.85 2925.65 L1096.85 -1391.96 L1104.08 -1391.96 L1104.08 2925.65 L1096.85 2925.65  Z\" fill=\"#e26f46\" fill-rule=\"evenodd\" fill-opacity=\"0.3\"/>\n",
       "<polyline clip-path=\"url(#clip962)\" style=\"stroke:#000000; stroke-linecap:round; stroke-linejoin:round; stroke-width:0; stroke-opacity:0.3; fill:none\" points=\"1096.85,2925.65 1096.85,-1391.96 1104.08,-1391.96 1104.08,2925.65 1096.85,2925.65 \"/>\n",
       "<path clip-path=\"url(#clip962)\" d=\"M1111.07 2925.65 L1111.07 -1391.96 L1118.78 -1391.96 L1118.78 2925.65 L1111.07 2925.65  Z\" fill=\"#e26f46\" fill-rule=\"evenodd\" fill-opacity=\"0.3\"/>\n",
       "<polyline clip-path=\"url(#clip962)\" style=\"stroke:#000000; stroke-linecap:round; stroke-linejoin:round; stroke-width:0; stroke-opacity:0.3; fill:none\" points=\"1111.07,2925.65 1111.07,-1391.96 1118.78,-1391.96 1118.78,2925.65 1111.07,2925.65 \"/>\n",
       "<path clip-path=\"url(#clip962)\" d=\"M1126.25 2925.65 L1126.25 -1391.96 L1133.72 -1391.96 L1133.72 2925.65 L1126.25 2925.65  Z\" fill=\"#e26f46\" fill-rule=\"evenodd\" fill-opacity=\"0.3\"/>\n",
       "<polyline clip-path=\"url(#clip962)\" style=\"stroke:#000000; stroke-linecap:round; stroke-linejoin:round; stroke-width:0; stroke-opacity:0.3; fill:none\" points=\"1126.25,2925.65 1126.25,-1391.96 1133.72,-1391.96 1133.72,2925.65 1126.25,2925.65 \"/>\n",
       "<path clip-path=\"url(#clip962)\" d=\"M1140.46 2925.65 L1140.46 -1391.96 L1147.93 -1391.96 L1147.93 2925.65 L1140.46 2925.65  Z\" fill=\"#e26f46\" fill-rule=\"evenodd\" fill-opacity=\"0.3\"/>\n",
       "<polyline clip-path=\"url(#clip962)\" style=\"stroke:#000000; stroke-linecap:round; stroke-linejoin:round; stroke-width:0; stroke-opacity:0.3; fill:none\" points=\"1140.46,2925.65 1140.46,-1391.96 1147.93,-1391.96 1147.93,2925.65 1140.46,2925.65 \"/>\n",
       "<path clip-path=\"url(#clip962)\" d=\"M1154.92 2925.65 L1154.92 -1391.96 L1162.63 -1391.96 L1162.63 2925.65 L1154.92 2925.65  Z\" fill=\"#e26f46\" fill-rule=\"evenodd\" fill-opacity=\"0.3\"/>\n",
       "<polyline clip-path=\"url(#clip962)\" style=\"stroke:#000000; stroke-linecap:round; stroke-linejoin:round; stroke-width:0; stroke-opacity:0.3; fill:none\" points=\"1154.92,2925.65 1154.92,-1391.96 1162.63,-1391.96 1162.63,2925.65 1154.92,2925.65 \"/>\n",
       "<path clip-path=\"url(#clip962)\" d=\"M1169.86 2925.65 L1169.86 -1391.96 L1176.84 -1391.96 L1176.84 2925.65 L1169.86 2925.65  Z\" fill=\"#e26f46\" fill-rule=\"evenodd\" fill-opacity=\"0.3\"/>\n",
       "<polyline clip-path=\"url(#clip962)\" style=\"stroke:#000000; stroke-linecap:round; stroke-linejoin:round; stroke-width:0; stroke-opacity:0.3; fill:none\" points=\"1169.86,2925.65 1169.86,-1391.96 1176.84,-1391.96 1176.84,2925.65 1169.86,2925.65 \"/>\n",
       "<path clip-path=\"url(#clip962)\" d=\"M1184.79 2925.65 L1184.79 -1391.96 L1192.02 -1391.96 L1192.02 2925.65 L1184.79 2925.65  Z\" fill=\"#e26f46\" fill-rule=\"evenodd\" fill-opacity=\"0.3\"/>\n",
       "<polyline clip-path=\"url(#clip962)\" style=\"stroke:#000000; stroke-linecap:round; stroke-linejoin:round; stroke-width:0; stroke-opacity:0.3; fill:none\" points=\"1184.79,2925.65 1184.79,-1391.96 1192.02,-1391.96 1192.02,2925.65 1184.79,2925.65 \"/>\n",
       "<path clip-path=\"url(#clip962)\" d=\"M1199.49 2925.65 L1199.49 -1391.96 L1206.72 -1391.96 L1206.72 2925.65 L1199.49 2925.65  Z\" fill=\"#e26f46\" fill-rule=\"evenodd\" fill-opacity=\"0.3\"/>\n",
       "<polyline clip-path=\"url(#clip962)\" style=\"stroke:#000000; stroke-linecap:round; stroke-linejoin:round; stroke-width:0; stroke-opacity:0.3; fill:none\" points=\"1199.49,2925.65 1199.49,-1391.96 1206.72,-1391.96 1206.72,2925.65 1199.49,2925.65 \"/>\n",
       "<path clip-path=\"url(#clip962)\" d=\"M1213.95 2925.65 L1213.95 -1391.96 L1221.66 -1391.96 L1221.66 2925.65 L1213.95 2925.65  Z\" fill=\"#e26f46\" fill-rule=\"evenodd\" fill-opacity=\"0.3\"/>\n",
       "<polyline clip-path=\"url(#clip962)\" style=\"stroke:#000000; stroke-linecap:round; stroke-linejoin:round; stroke-width:0; stroke-opacity:0.3; fill:none\" points=\"1213.95,2925.65 1213.95,-1391.96 1221.66,-1391.96 1221.66,2925.65 1213.95,2925.65 \"/>\n",
       "<path clip-path=\"url(#clip962)\" d=\"M1228.64 2925.65 L1228.64 -1391.96 L1235.87 -1391.96 L1235.87 2925.65 L1228.64 2925.65  Z\" fill=\"#e26f46\" fill-rule=\"evenodd\" fill-opacity=\"0.3\"/>\n",
       "<polyline clip-path=\"url(#clip962)\" style=\"stroke:#000000; stroke-linecap:round; stroke-linejoin:round; stroke-width:0; stroke-opacity:0.3; fill:none\" points=\"1228.64,2925.65 1228.64,-1391.96 1235.87,-1391.96 1235.87,2925.65 1228.64,2925.65 \"/>\n",
       "<path clip-path=\"url(#clip962)\" d=\"M1243.34 2925.65 L1243.34 -1391.96 L1250.81 -1391.96 L1250.81 2925.65 L1243.34 2925.65  Z\" fill=\"#e26f46\" fill-rule=\"evenodd\" fill-opacity=\"0.3\"/>\n",
       "<polyline clip-path=\"url(#clip962)\" style=\"stroke:#000000; stroke-linecap:round; stroke-linejoin:round; stroke-width:0; stroke-opacity:0.3; fill:none\" points=\"1243.34,2925.65 1243.34,-1391.96 1250.81,-1391.96 1250.81,2925.65 1243.34,2925.65 \"/>\n",
       "<path clip-path=\"url(#clip962)\" d=\"M1536.79 2925.65 L1536.79 -1391.96 L1544.02 -1391.96 L1544.02 2925.65 L1536.79 2925.65  Z\" fill=\"#e26f46\" fill-rule=\"evenodd\" fill-opacity=\"0.3\"/>\n",
       "<polyline clip-path=\"url(#clip962)\" style=\"stroke:#000000; stroke-linecap:round; stroke-linejoin:round; stroke-width:0; stroke-opacity:0.3; fill:none\" points=\"1536.79,2925.65 1536.79,-1391.96 1544.02,-1391.96 1544.02,2925.65 1536.79,2925.65 \"/>\n",
       "<path clip-path=\"url(#clip962)\" d=\"M1551.25 2925.65 L1551.25 -1391.96 L1558.72 -1391.96 L1558.72 2925.65 L1551.25 2925.65  Z\" fill=\"#e26f46\" fill-rule=\"evenodd\" fill-opacity=\"0.3\"/>\n",
       "<polyline clip-path=\"url(#clip962)\" style=\"stroke:#000000; stroke-linecap:round; stroke-linejoin:round; stroke-width:0; stroke-opacity:0.3; fill:none\" points=\"1551.25,2925.65 1551.25,-1391.96 1558.72,-1391.96 1558.72,2925.65 1551.25,2925.65 \"/>\n",
       "<path clip-path=\"url(#clip962)\" d=\"M1566.18 2925.65 L1566.18 -1391.96 L1573.17 -1391.96 L1573.17 2925.65 L1566.18 2925.65  Z\" fill=\"#e26f46\" fill-rule=\"evenodd\" fill-opacity=\"0.3\"/>\n",
       "<polyline clip-path=\"url(#clip962)\" style=\"stroke:#000000; stroke-linecap:round; stroke-linejoin:round; stroke-width:0; stroke-opacity:0.3; fill:none\" points=\"1566.18,2925.65 1566.18,-1391.96 1573.17,-1391.96 1573.17,2925.65 1566.18,2925.65 \"/>\n",
       "<path clip-path=\"url(#clip962)\" d=\"M1580.64 2925.65 L1580.64 -1391.96 L1588.11 -1391.96 L1588.11 2925.65 L1580.64 2925.65  Z\" fill=\"#e26f46\" fill-rule=\"evenodd\" fill-opacity=\"0.3\"/>\n",
       "<polyline clip-path=\"url(#clip962)\" style=\"stroke:#000000; stroke-linecap:round; stroke-linejoin:round; stroke-width:0; stroke-opacity:0.3; fill:none\" points=\"1580.64,2925.65 1580.64,-1391.96 1588.11,-1391.96 1588.11,2925.65 1580.64,2925.65 \"/>\n",
       "<path clip-path=\"url(#clip962)\" d=\"M1815.55 2925.65 L1815.55 -1391.96 L1822.77 -1391.96 L1822.77 2925.65 L1815.55 2925.65  Z\" fill=\"#e26f46\" fill-rule=\"evenodd\" fill-opacity=\"0.3\"/>\n",
       "<polyline clip-path=\"url(#clip962)\" style=\"stroke:#000000; stroke-linecap:round; stroke-linejoin:round; stroke-width:0; stroke-opacity:0.3; fill:none\" points=\"1815.55,2925.65 1815.55,-1391.96 1822.77,-1391.96 1822.77,2925.65 1815.55,2925.65 \"/>\n",
       "<path clip-path=\"url(#clip962)\" d=\"M1830.24 2925.65 L1830.24 -1391.96 L1837.71 -1391.96 L1837.71 2925.65 L1830.24 2925.65  Z\" fill=\"#e26f46\" fill-rule=\"evenodd\" fill-opacity=\"0.3\"/>\n",
       "<polyline clip-path=\"url(#clip962)\" style=\"stroke:#000000; stroke-linecap:round; stroke-linejoin:round; stroke-width:0; stroke-opacity:0.3; fill:none\" points=\"1830.24,2925.65 1830.24,-1391.96 1837.71,-1391.96 1837.71,2925.65 1830.24,2925.65 \"/>\n",
       "<path clip-path=\"url(#clip962)\" d=\"M1844.46 2925.65 L1844.46 -1391.96 L1851.44 -1391.96 L1851.44 2925.65 L1844.46 2925.65  Z\" fill=\"#e26f46\" fill-rule=\"evenodd\" fill-opacity=\"0.3\"/>\n",
       "<polyline clip-path=\"url(#clip962)\" style=\"stroke:#000000; stroke-linecap:round; stroke-linejoin:round; stroke-width:0; stroke-opacity:0.3; fill:none\" points=\"1844.46,2925.65 1844.46,-1391.96 1851.44,-1391.96 1851.44,2925.65 1844.46,2925.65 \"/>\n",
       "<path clip-path=\"url(#clip962)\" d=\"M1859.15 2925.65 L1859.15 -1391.96 L1866.62 -1391.96 L1866.62 2925.65 L1859.15 2925.65  Z\" fill=\"#e26f46\" fill-rule=\"evenodd\" fill-opacity=\"0.3\"/>\n",
       "<polyline clip-path=\"url(#clip962)\" style=\"stroke:#000000; stroke-linecap:round; stroke-linejoin:round; stroke-width:0; stroke-opacity:0.3; fill:none\" points=\"1859.15,2925.65 1859.15,-1391.96 1866.62,-1391.96 1866.62,2925.65 1859.15,2925.65 \"/>\n",
       "<path clip-path=\"url(#clip962)\" d=\"M1873.37 2925.65 L1873.37 -1391.96 L1881.32 -1391.96 L1881.32 2925.65 L1873.37 2925.65  Z\" fill=\"#e26f46\" fill-rule=\"evenodd\" fill-opacity=\"0.3\"/>\n",
       "<polyline clip-path=\"url(#clip962)\" style=\"stroke:#000000; stroke-linecap:round; stroke-linejoin:round; stroke-width:0; stroke-opacity:0.3; fill:none\" points=\"1873.37,2925.65 1873.37,-1391.96 1881.32,-1391.96 1881.32,2925.65 1873.37,2925.65 \"/>\n",
       "<path clip-path=\"url(#clip962)\" d=\"M1888.55 2925.65 L1888.55 -1391.96 L1896.02 -1391.96 L1896.02 2925.65 L1888.55 2925.65  Z\" fill=\"#e26f46\" fill-rule=\"evenodd\" fill-opacity=\"0.3\"/>\n",
       "<polyline clip-path=\"url(#clip962)\" style=\"stroke:#000000; stroke-linecap:round; stroke-linejoin:round; stroke-width:0; stroke-opacity:0.3; fill:none\" points=\"1888.55,2925.65 1888.55,-1391.96 1896.02,-1391.96 1896.02,2925.65 1888.55,2925.65 \"/>\n",
       "<path clip-path=\"url(#clip962)\" d=\"M1903.49 2925.65 L1903.49 -1391.96 L1910.47 -1391.96 L1910.47 2925.65 L1903.49 2925.65  Z\" fill=\"#e26f46\" fill-rule=\"evenodd\" fill-opacity=\"0.3\"/>\n",
       "<polyline clip-path=\"url(#clip962)\" style=\"stroke:#000000; stroke-linecap:round; stroke-linejoin:round; stroke-width:0; stroke-opacity:0.3; fill:none\" points=\"1903.49,2925.65 1903.49,-1391.96 1910.47,-1391.96 1910.47,2925.65 1903.49,2925.65 \"/>\n",
       "<path clip-path=\"url(#clip962)\" d=\"M1918.18 2925.65 L1918.18 -1391.96 L1925.65 -1391.96 L1925.65 2925.65 L1918.18 2925.65  Z\" fill=\"#e26f46\" fill-rule=\"evenodd\" fill-opacity=\"0.3\"/>\n",
       "<polyline clip-path=\"url(#clip962)\" style=\"stroke:#000000; stroke-linecap:round; stroke-linejoin:round; stroke-width:0; stroke-opacity:0.3; fill:none\" points=\"1918.18,2925.65 1918.18,-1391.96 1925.65,-1391.96 1925.65,2925.65 1918.18,2925.65 \"/>\n",
       "<path clip-path=\"url(#clip962)\" d=\"M1932.4 2925.65 L1932.4 -1391.96 L1940.11 -1391.96 L1940.11 2925.65 L1932.4 2925.65  Z\" fill=\"#e26f46\" fill-rule=\"evenodd\" fill-opacity=\"0.3\"/>\n",
       "<polyline clip-path=\"url(#clip962)\" style=\"stroke:#000000; stroke-linecap:round; stroke-linejoin:round; stroke-width:0; stroke-opacity:0.3; fill:none\" points=\"1932.4,2925.65 1932.4,-1391.96 1940.11,-1391.96 1940.11,2925.65 1932.4,2925.65 \"/>\n",
       "<path clip-path=\"url(#clip962)\" d=\"M1947.33 2925.65 L1947.33 -1391.96 L1954.32 -1391.96 L1954.32 2925.65 L1947.33 2925.65  Z\" fill=\"#e26f46\" fill-rule=\"evenodd\" fill-opacity=\"0.3\"/>\n",
       "<polyline clip-path=\"url(#clip962)\" style=\"stroke:#000000; stroke-linecap:round; stroke-linejoin:round; stroke-width:0; stroke-opacity:0.3; fill:none\" points=\"1947.33,2925.65 1947.33,-1391.96 1954.32,-1391.96 1954.32,2925.65 1947.33,2925.65 \"/>\n",
       "<path clip-path=\"url(#clip962)\" d=\"M1962.03 2925.65 L1962.03 -1391.96 L1969.5 -1391.96 L1969.5 2925.65 L1962.03 2925.65  Z\" fill=\"#e26f46\" fill-rule=\"evenodd\" fill-opacity=\"0.3\"/>\n",
       "<polyline clip-path=\"url(#clip962)\" style=\"stroke:#000000; stroke-linecap:round; stroke-linejoin:round; stroke-width:0; stroke-opacity:0.3; fill:none\" points=\"1962.03,2925.65 1962.03,-1391.96 1969.5,-1391.96 1969.5,2925.65 1962.03,2925.65 \"/>\n",
       "<path clip-path=\"url(#clip962)\" d=\"M1976.97 2925.65 L1976.97 -1391.96 L1984.2 -1391.96 L1984.2 2925.65 L1976.97 2925.65  Z\" fill=\"#e26f46\" fill-rule=\"evenodd\" fill-opacity=\"0.3\"/>\n",
       "<polyline clip-path=\"url(#clip962)\" style=\"stroke:#000000; stroke-linecap:round; stroke-linejoin:round; stroke-width:0; stroke-opacity:0.3; fill:none\" points=\"1976.97,2925.65 1976.97,-1391.96 1984.2,-1391.96 1984.2,2925.65 1976.97,2925.65 \"/>\n",
       "<path clip-path=\"url(#clip962)\" d=\"M1991.42 2925.65 L1991.42 -1391.96 L1998.89 -1391.96 L1998.89 2925.65 L1991.42 2925.65  Z\" fill=\"#e26f46\" fill-rule=\"evenodd\" fill-opacity=\"0.3\"/>\n",
       "<polyline clip-path=\"url(#clip962)\" style=\"stroke:#000000; stroke-linecap:round; stroke-linejoin:round; stroke-width:0; stroke-opacity:0.3; fill:none\" points=\"1991.42,2925.65 1991.42,-1391.96 1998.89,-1391.96 1998.89,2925.65 1991.42,2925.65 \"/>\n",
       "<path clip-path=\"url(#clip962)\" d=\"M2072.14 2925.65 L2072.14 -1391.96 L2079.12 -1391.96 L2079.12 2925.65 L2072.14 2925.65  Z\" fill=\"#e26f46\" fill-rule=\"evenodd\" fill-opacity=\"0.3\"/>\n",
       "<polyline clip-path=\"url(#clip962)\" style=\"stroke:#000000; stroke-linecap:round; stroke-linejoin:round; stroke-width:0; stroke-opacity:0.3; fill:none\" points=\"2072.14,2925.65 2072.14,-1391.96 2079.12,-1391.96 2079.12,2925.65 2072.14,2925.65 \"/>\n",
       "<path clip-path=\"url(#clip962)\" d=\"M2086.83 2925.65 L2086.83 -1391.96 L2094.3 -1391.96 L2094.3 2925.65 L2086.83 2925.65  Z\" fill=\"#e26f46\" fill-rule=\"evenodd\" fill-opacity=\"0.3\"/>\n",
       "<polyline clip-path=\"url(#clip962)\" style=\"stroke:#000000; stroke-linecap:round; stroke-linejoin:round; stroke-width:0; stroke-opacity:0.3; fill:none\" points=\"2086.83,2925.65 2086.83,-1391.96 2094.3,-1391.96 2094.3,2925.65 2086.83,2925.65 \"/>\n",
       "<path clip-path=\"url(#clip962)\" d=\"M2101.77 2925.65 L2101.77 -1391.96 L2108.52 -1391.96 L2108.52 2925.65 L2101.77 2925.65  Z\" fill=\"#e26f46\" fill-rule=\"evenodd\" fill-opacity=\"0.3\"/>\n",
       "<polyline clip-path=\"url(#clip962)\" style=\"stroke:#000000; stroke-linecap:round; stroke-linejoin:round; stroke-width:0; stroke-opacity:0.3; fill:none\" points=\"2101.77,2925.65 2101.77,-1391.96 2108.52,-1391.96 2108.52,2925.65 2101.77,2925.65 \"/>\n",
       "<path clip-path=\"url(#clip962)\" d=\"M2115.99 2925.65 L2115.99 -1391.96 L2122.97 -1391.96 L2122.97 2925.65 L2115.99 2925.65  Z\" fill=\"#e26f46\" fill-rule=\"evenodd\" fill-opacity=\"0.3\"/>\n",
       "<polyline clip-path=\"url(#clip962)\" style=\"stroke:#000000; stroke-linecap:round; stroke-linejoin:round; stroke-width:0; stroke-opacity:0.3; fill:none\" points=\"2115.99,2925.65 2115.99,-1391.96 2122.97,-1391.96 2122.97,2925.65 2115.99,2925.65 \"/>\n",
       "<path clip-path=\"url(#clip962)\" d=\"M2130.68 2925.65 L2130.68 -1391.96 L2137.91 -1391.96 L2137.91 2925.65 L2130.68 2925.65  Z\" fill=\"#e26f46\" fill-rule=\"evenodd\" fill-opacity=\"0.3\"/>\n",
       "<polyline clip-path=\"url(#clip962)\" style=\"stroke:#000000; stroke-linecap:round; stroke-linejoin:round; stroke-width:0; stroke-opacity:0.3; fill:none\" points=\"2130.68,2925.65 2130.68,-1391.96 2137.91,-1391.96 2137.91,2925.65 2130.68,2925.65 \"/>\n",
       "<path clip-path=\"url(#clip962)\" d=\"M2144.9 2925.65 L2144.9 -1391.96 L2152.85 -1391.96 L2152.85 2925.65 L2144.9 2925.65  Z\" fill=\"#e26f46\" fill-rule=\"evenodd\" fill-opacity=\"0.3\"/>\n",
       "<polyline clip-path=\"url(#clip962)\" style=\"stroke:#000000; stroke-linecap:round; stroke-linejoin:round; stroke-width:0; stroke-opacity:0.3; fill:none\" points=\"2144.9,2925.65 2144.9,-1391.96 2152.85,-1391.96 2152.85,2925.65 2144.9,2925.65 \"/>\n",
       "<path clip-path=\"url(#clip962)\" d=\"M2160.08 2925.65 L2160.08 -1391.96 L2167.54 -1391.96 L2167.54 2925.65 L2160.08 2925.65  Z\" fill=\"#e26f46\" fill-rule=\"evenodd\" fill-opacity=\"0.3\"/>\n",
       "<polyline clip-path=\"url(#clip962)\" style=\"stroke:#000000; stroke-linecap:round; stroke-linejoin:round; stroke-width:0; stroke-opacity:0.3; fill:none\" points=\"2160.08,2925.65 2160.08,-1391.96 2167.54,-1391.96 2167.54,2925.65 2160.08,2925.65 \"/>\n",
       "<path clip-path=\"url(#clip962)\" d=\"M2174.77 2925.65 L2174.77 -1391.96 L2182 -1391.96 L2182 2925.65 L2174.77 2925.65  Z\" fill=\"#e26f46\" fill-rule=\"evenodd\" fill-opacity=\"0.3\"/>\n",
       "<polyline clip-path=\"url(#clip962)\" style=\"stroke:#000000; stroke-linecap:round; stroke-linejoin:round; stroke-width:0; stroke-opacity:0.3; fill:none\" points=\"2174.77,2925.65 2174.77,-1391.96 2182,-1391.96 2182,2925.65 2174.77,2925.65 \"/>\n",
       "<path clip-path=\"url(#clip962)\" d=\"M2189.71 2925.65 L2189.71 -1391.96 L2196.46 -1391.96 L2196.46 2925.65 L2189.71 2925.65  Z\" fill=\"#e26f46\" fill-rule=\"evenodd\" fill-opacity=\"0.3\"/>\n",
       "<polyline clip-path=\"url(#clip962)\" style=\"stroke:#000000; stroke-linecap:round; stroke-linejoin:round; stroke-width:0; stroke-opacity:0.3; fill:none\" points=\"2189.71,2925.65 2189.71,-1391.96 2196.46,-1391.96 2196.46,2925.65 2189.71,2925.65 \"/>\n",
       "<path clip-path=\"url(#clip962)\" d=\"M2203.92 2925.65 L2203.92 -1391.96 L2210.67 -1391.96 L2210.67 2925.65 L2203.92 2925.65  Z\" fill=\"#e26f46\" fill-rule=\"evenodd\" fill-opacity=\"0.3\"/>\n",
       "<polyline clip-path=\"url(#clip962)\" style=\"stroke:#000000; stroke-linecap:round; stroke-linejoin:round; stroke-width:0; stroke-opacity:0.3; fill:none\" points=\"2203.92,2925.65 2203.92,-1391.96 2210.67,-1391.96 2210.67,2925.65 2203.92,2925.65 \"/>\n",
       "<path clip-path=\"url(#clip962)\" d=\"M2218.62 2925.65 L2218.62 -1391.96 L2225.85 -1391.96 L2225.85 2925.65 L2218.62 2925.65  Z\" fill=\"#e26f46\" fill-rule=\"evenodd\" fill-opacity=\"0.3\"/>\n",
       "<polyline clip-path=\"url(#clip962)\" style=\"stroke:#000000; stroke-linecap:round; stroke-linejoin:round; stroke-width:0; stroke-opacity:0.3; fill:none\" points=\"2218.62,2925.65 2218.62,-1391.96 2225.85,-1391.96 2225.85,2925.65 2218.62,2925.65 \"/>\n",
       "<path clip-path=\"url(#clip962)\" d=\"M2233.32 2925.65 L2233.32 -1391.96 L2240.79 -1391.96 L2240.79 2925.65 L2233.32 2925.65  Z\" fill=\"#e26f46\" fill-rule=\"evenodd\" fill-opacity=\"0.3\"/>\n",
       "<polyline clip-path=\"url(#clip962)\" style=\"stroke:#000000; stroke-linecap:round; stroke-linejoin:round; stroke-width:0; stroke-opacity:0.3; fill:none\" points=\"2233.32,2925.65 2233.32,-1391.96 2240.79,-1391.96 2240.79,2925.65 2233.32,2925.65 \"/>\n",
       "<path clip-path=\"url(#clip962)\" d=\"M2247.77 2925.65 L2247.77 -1391.96 L2255.48 -1391.96 L2255.48 2925.65 L2247.77 2925.65  Z\" fill=\"#e26f46\" fill-rule=\"evenodd\" fill-opacity=\"0.3\"/>\n",
       "<polyline clip-path=\"url(#clip962)\" style=\"stroke:#000000; stroke-linecap:round; stroke-linejoin:round; stroke-width:0; stroke-opacity:0.3; fill:none\" points=\"2247.77,2925.65 2247.77,-1391.96 2255.48,-1391.96 2255.48,2925.65 2247.77,2925.65 \"/>\n",
       "<path clip-path=\"url(#clip962)\" d=\"M2262.71 2925.65 L2262.71 -1391.96 L2269.7 -1391.96 L2269.7 2925.65 L2262.71 2925.65  Z\" fill=\"#e26f46\" fill-rule=\"evenodd\" fill-opacity=\"0.3\"/>\n",
       "<polyline clip-path=\"url(#clip962)\" style=\"stroke:#000000; stroke-linecap:round; stroke-linejoin:round; stroke-width:0; stroke-opacity:0.3; fill:none\" points=\"2262.71,2925.65 2262.71,-1391.96 2269.7,-1391.96 2269.7,2925.65 2262.71,2925.65 \"/>\n",
       "<path clip-path=\"url(#clip962)\" d=\"M2277.65 2925.65 L2277.65 -1391.96 L2284.64 -1391.96 L2284.64 2925.65 L2277.65 2925.65  Z\" fill=\"#e26f46\" fill-rule=\"evenodd\" fill-opacity=\"0.3\"/>\n",
       "<polyline clip-path=\"url(#clip962)\" style=\"stroke:#000000; stroke-linecap:round; stroke-linejoin:round; stroke-width:0; stroke-opacity:0.3; fill:none\" points=\"2277.65,2925.65 2277.65,-1391.96 2284.64,-1391.96 2284.64,2925.65 2277.65,2925.65 \"/>\n",
       "<path clip-path=\"url(#clip960)\" d=\"M264.711 1438.47 L711.686 1438.47 L711.686 1282.95 L264.711 1282.95  Z\" fill=\"#ffffff\" fill-rule=\"evenodd\" fill-opacity=\"1\"/>\n",
       "<polyline clip-path=\"url(#clip960)\" style=\"stroke:#000000; stroke-linecap:round; stroke-linejoin:round; stroke-width:4; stroke-opacity:1; fill:none\" points=\"264.711,1438.47 711.686,1438.47 711.686,1282.95 264.711,1282.95 264.711,1438.47 \"/>\n",
       "<polyline clip-path=\"url(#clip960)\" style=\"stroke:#009af9; stroke-linecap:round; stroke-linejoin:round; stroke-width:4; stroke-opacity:1; fill:none\" points=\"288.711,1334.79 432.714,1334.79 \"/>\n",
       "<path clip-path=\"url(#clip960)\" d=\"M472.548 1322.12 L466.206 1339.32 L478.914 1339.32 L472.548 1322.12 M469.909 1317.51 L475.21 1317.51 L488.381 1352.07 L483.52 1352.07 L480.372 1343.21 L464.794 1343.21 L461.645 1352.07 L456.715 1352.07 L469.909 1317.51 Z\" fill=\"#000000\" fill-rule=\"nonzero\" fill-opacity=\"1\" /><path clip-path=\"url(#clip960)\" d=\"M518.474 1320.18 L518.474 1325.11 Q516.113 1322.91 513.428 1321.82 Q510.766 1320.73 507.756 1320.73 Q501.83 1320.73 498.682 1324.37 Q495.534 1327.98 495.534 1334.83 Q495.534 1341.66 498.682 1345.29 Q501.83 1348.9 507.756 1348.9 Q510.766 1348.9 513.428 1347.82 Q516.113 1346.73 518.474 1344.53 L518.474 1349.41 Q516.02 1351.08 513.265 1351.91 Q510.534 1352.75 507.478 1352.75 Q499.631 1352.75 495.117 1347.95 Q490.604 1343.14 490.604 1334.83 Q490.604 1326.5 495.117 1321.7 Q499.631 1316.89 507.478 1316.89 Q510.58 1316.89 513.312 1317.72 Q516.066 1318.53 518.474 1320.18 Z\" fill=\"#000000\" fill-rule=\"nonzero\" fill-opacity=\"1\" /><path clip-path=\"url(#clip960)\" d=\"M522.617 1317.51 L527.339 1317.51 L534.608 1346.73 L541.853 1317.51 L547.108 1317.51 L554.376 1346.73 L561.622 1317.51 L566.367 1317.51 L557.687 1352.07 L551.807 1352.07 L544.515 1322.07 L537.154 1352.07 L531.275 1352.07 L522.617 1317.51 Z\" fill=\"#000000\" fill-rule=\"nonzero\" fill-opacity=\"1\" /><path clip-path=\"url(#clip960)\" d=\"M572.571 1317.51 L577.247 1317.51 L577.247 1352.07 L572.571 1352.07 L572.571 1317.51 Z\" fill=\"#000000\" fill-rule=\"nonzero\" fill-opacity=\"1\" /><path clip-path=\"url(#clip960)\" d=\"M606.066 1359.94 L606.066 1363.25 L581.436 1363.25 L581.436 1359.94 L606.066 1359.94 Z\" fill=\"#000000\" fill-rule=\"nonzero\" fill-opacity=\"1\" /><path clip-path=\"url(#clip960)\" d=\"M610.256 1317.51 L616.552 1317.51 L631.876 1346.43 L631.876 1317.51 L636.413 1317.51 L636.413 1352.07 L630.117 1352.07 L614.793 1323.16 L614.793 1352.07 L610.256 1352.07 L610.256 1317.51 Z\" fill=\"#000000\" fill-rule=\"nonzero\" fill-opacity=\"1\" /><path clip-path=\"url(#clip960)\" d=\"M667.709 1338.05 L667.709 1340.13 L648.126 1340.13 Q648.404 1344.53 650.765 1346.84 Q653.149 1349.13 657.385 1349.13 Q659.839 1349.13 662.13 1348.53 Q664.445 1347.93 666.714 1346.73 L666.714 1350.75 Q664.422 1351.73 662.015 1352.24 Q659.607 1352.75 657.13 1352.75 Q650.927 1352.75 647.293 1349.13 Q643.681 1345.52 643.681 1339.37 Q643.681 1333 647.107 1329.27 Q650.556 1325.52 656.39 1325.52 Q661.621 1325.52 664.654 1328.9 Q667.709 1332.26 667.709 1338.05 M663.45 1336.8 Q663.404 1333.3 661.482 1331.22 Q659.584 1329.13 656.436 1329.13 Q652.871 1329.13 650.718 1331.15 Q648.589 1333.16 648.265 1336.82 L663.45 1336.8 Z\" fill=\"#000000\" fill-rule=\"nonzero\" fill-opacity=\"1\" /><path clip-path=\"url(#clip960)\" d=\"M678.913 1318.79 L678.913 1326.15 L687.686 1326.15 L687.686 1329.46 L678.913 1329.46 L678.913 1343.53 Q678.913 1346.7 679.769 1347.61 Q680.649 1348.51 683.311 1348.51 L687.686 1348.51 L687.686 1352.07 L683.311 1352.07 Q678.38 1352.07 676.505 1350.25 Q674.63 1348.39 674.63 1343.53 L674.63 1329.46 L671.505 1329.46 L671.505 1326.15 L674.63 1326.15 L674.63 1318.79 L678.913 1318.79 Z\" fill=\"#000000\" fill-rule=\"nonzero\" fill-opacity=\"1\" /><path clip-path=\"url(#clip960)\" d=\"M288.711 1407.37 L432.714 1407.37 L432.714 1365.9 L288.711 1365.9 L288.711 1407.37  Z\" fill=\"#e26f46\" fill-rule=\"evenodd\" fill-opacity=\"0.3\"/>\n",
       "<polyline clip-path=\"url(#clip960)\" style=\"stroke:#000000; stroke-linecap:round; stroke-linejoin:round; stroke-width:0.8; stroke-opacity:1; fill:none\" points=\"288.711,1407.37 432.714,1407.37 432.714,1365.9 288.711,1365.9 288.711,1407.37 \"/>\n",
       "<path clip-path=\"url(#clip960)\" d=\"M470.557 1406.32 Q468.752 1410.95 467.039 1412.36 Q465.326 1413.78 462.456 1413.78 L459.053 1413.78 L459.053 1410.21 L461.553 1410.21 Q463.312 1410.21 464.284 1409.38 Q465.256 1408.54 466.437 1405.44 L467.201 1403.5 L456.715 1377.99 L461.229 1377.99 L469.331 1398.27 L477.432 1377.99 L481.946 1377.99 L470.557 1406.32 Z\" fill=\"#000000\" fill-rule=\"nonzero\" fill-opacity=\"1\" /><path clip-path=\"url(#clip960)\" d=\"M492.455 1399.98 L508.775 1399.98 L508.775 1403.91 L486.83 1403.91 L486.83 1399.98 Q489.492 1397.22 494.076 1392.6 Q498.682 1387.94 499.863 1386.6 Q502.108 1384.08 502.988 1382.34 Q503.891 1380.58 503.891 1378.89 Q503.891 1376.14 501.946 1374.4 Q500.025 1372.66 496.923 1372.66 Q494.724 1372.66 492.27 1373.43 Q489.84 1374.19 487.062 1375.74 L487.062 1371.02 Q489.886 1369.89 492.34 1369.31 Q494.793 1368.73 496.83 1368.73 Q502.201 1368.73 505.395 1371.41 Q508.59 1374.1 508.59 1378.59 Q508.59 1380.72 507.779 1382.64 Q506.992 1384.54 504.886 1387.13 Q504.307 1387.8 501.205 1391.02 Q498.104 1394.22 492.455 1399.98 Z\" fill=\"#000000\" fill-rule=\"nonzero\" fill-opacity=\"1\" /></svg>\n"
      ],
      "text/html": [
       "<?xml version=\"1.0\" encoding=\"utf-8\"?>\n",
       "<svg xmlns=\"http://www.w3.org/2000/svg\" xmlns:xlink=\"http://www.w3.org/1999/xlink\" width=\"600\" height=\"400\" viewBox=\"0 0 2400 1600\">\n",
       "<defs>\n",
       "  <clipPath id=\"clip010\">\n",
       "    <rect x=\"0\" y=\"0\" width=\"2400\" height=\"1600\"/>\n",
       "  </clipPath>\n",
       "</defs>\n",
       "<path clip-path=\"url(#clip010)\" d=\"M0 1600 L2400 1600 L2400 0 L0 0  Z\" fill=\"#ffffff\" fill-rule=\"evenodd\" fill-opacity=\"1\"/>\n",
       "<defs>\n",
       "  <clipPath id=\"clip011\">\n",
       "    <rect x=\"480\" y=\"0\" width=\"1681\" height=\"1600\"/>\n",
       "  </clipPath>\n",
       "</defs>\n",
       "<path clip-path=\"url(#clip010)\" d=\"M192.709 1486.45 L2352.76 1486.45 L2352.76 47.2441 L192.709 47.2441  Z\" fill=\"#ffffff\" fill-rule=\"evenodd\" fill-opacity=\"1\"/>\n",
       "<defs>\n",
       "  <clipPath id=\"clip012\">\n",
       "    <rect x=\"192\" y=\"47\" width=\"2161\" height=\"1440\"/>\n",
       "  </clipPath>\n",
       "</defs>\n",
       "<polyline clip-path=\"url(#clip012)\" style=\"stroke:#000000; stroke-linecap:round; stroke-linejoin:round; stroke-width:2; stroke-opacity:0.1; fill:none\" points=\"246.615,1486.45 246.615,47.2441 \"/>\n",
       "<polyline clip-path=\"url(#clip012)\" style=\"stroke:#000000; stroke-linecap:round; stroke-linejoin:round; stroke-width:2; stroke-opacity:0.1; fill:none\" points=\"774.491,1486.45 774.491,47.2441 \"/>\n",
       "<polyline clip-path=\"url(#clip012)\" style=\"stroke:#000000; stroke-linecap:round; stroke-linejoin:round; stroke-width:2; stroke-opacity:0.1; fill:none\" points=\"1302.61,1486.45 1302.61,47.2441 \"/>\n",
       "<polyline clip-path=\"url(#clip012)\" style=\"stroke:#000000; stroke-linecap:round; stroke-linejoin:round; stroke-width:2; stroke-opacity:0.1; fill:none\" points=\"1830.48,1486.45 1830.48,47.2441 \"/>\n",
       "<polyline clip-path=\"url(#clip010)\" style=\"stroke:#000000; stroke-linecap:round; stroke-linejoin:round; stroke-width:4; stroke-opacity:1; fill:none\" points=\"192.709,1486.45 2352.76,1486.45 \"/>\n",
       "<polyline clip-path=\"url(#clip010)\" style=\"stroke:#000000; stroke-linecap:round; stroke-linejoin:round; stroke-width:4; stroke-opacity:1; fill:none\" points=\"246.615,1486.45 246.615,1467.55 \"/>\n",
       "<polyline clip-path=\"url(#clip010)\" style=\"stroke:#000000; stroke-linecap:round; stroke-linejoin:round; stroke-width:4; stroke-opacity:1; fill:none\" points=\"774.491,1486.45 774.491,1467.55 \"/>\n",
       "<polyline clip-path=\"url(#clip010)\" style=\"stroke:#000000; stroke-linecap:round; stroke-linejoin:round; stroke-width:4; stroke-opacity:1; fill:none\" points=\"1302.61,1486.45 1302.61,1467.55 \"/>\n",
       "<polyline clip-path=\"url(#clip010)\" style=\"stroke:#000000; stroke-linecap:round; stroke-linejoin:round; stroke-width:4; stroke-opacity:1; fill:none\" points=\"1830.48,1486.45 1830.48,1467.55 \"/>\n",
       "<path clip-path=\"url(#clip010)\" d=\"M118.409 1544.91 L134.729 1544.91 L134.729 1548.85 L112.784 1548.85 L112.784 1544.91 Q115.446 1542.16 120.03 1537.53 Q124.636 1532.88 125.817 1531.53 Q128.062 1529.01 128.942 1527.27 Q129.844 1525.51 129.844 1523.82 Q129.844 1521.07 127.9 1519.33 Q125.979 1517.6 122.877 1517.6 Q120.678 1517.6 118.224 1518.36 Q115.794 1519.13 113.016 1520.68 L113.016 1515.95 Q115.84 1514.82 118.294 1514.24 Q120.747 1513.66 122.784 1513.66 Q128.155 1513.66 131.349 1516.35 Q134.544 1519.03 134.544 1523.52 Q134.544 1525.65 133.733 1527.57 Q132.946 1529.47 130.84 1532.07 Q130.261 1532.74 127.159 1535.95 Q124.057 1539.15 118.409 1544.91 Z\" fill=\"#000000\" fill-rule=\"nonzero\" fill-opacity=\"1\" /><path clip-path=\"url(#clip010)\" d=\"M154.543 1517.37 Q150.932 1517.37 149.104 1520.93 Q147.298 1524.47 147.298 1531.6 Q147.298 1538.71 149.104 1542.27 Q150.932 1545.82 154.543 1545.82 Q158.178 1545.82 159.983 1542.27 Q161.812 1538.71 161.812 1531.6 Q161.812 1524.47 159.983 1520.93 Q158.178 1517.37 154.543 1517.37 M154.543 1513.66 Q160.354 1513.66 163.409 1518.27 Q166.488 1522.85 166.488 1531.6 Q166.488 1540.33 163.409 1544.94 Q160.354 1549.52 154.543 1549.52 Q148.733 1549.52 145.655 1544.94 Q142.599 1540.33 142.599 1531.6 Q142.599 1522.85 145.655 1518.27 Q148.733 1513.66 154.543 1513.66 Z\" fill=\"#000000\" fill-rule=\"nonzero\" fill-opacity=\"1\" /><path clip-path=\"url(#clip010)\" d=\"M184.705 1517.37 Q181.094 1517.37 179.265 1520.93 Q177.46 1524.47 177.46 1531.6 Q177.46 1538.71 179.265 1542.27 Q181.094 1545.82 184.705 1545.82 Q188.34 1545.82 190.145 1542.27 Q191.974 1538.71 191.974 1531.6 Q191.974 1524.47 190.145 1520.93 Q188.34 1517.37 184.705 1517.37 M184.705 1513.66 Q190.515 1513.66 193.571 1518.27 Q196.65 1522.85 196.65 1531.6 Q196.65 1540.33 193.571 1544.94 Q190.515 1549.52 184.705 1549.52 Q178.895 1549.52 175.816 1544.94 Q172.761 1540.33 172.761 1531.6 Q172.761 1522.85 175.816 1518.27 Q178.895 1513.66 184.705 1513.66 Z\" fill=\"#000000\" fill-rule=\"nonzero\" fill-opacity=\"1\" /><path clip-path=\"url(#clip010)\" d=\"M205.677 1544.91 L213.316 1544.91 L213.316 1518.55 L205.006 1520.21 L205.006 1515.95 L213.27 1514.29 L217.946 1514.29 L217.946 1544.91 L225.585 1544.91 L225.585 1548.85 L205.677 1548.85 L205.677 1544.91 Z\" fill=\"#000000\" fill-rule=\"nonzero\" fill-opacity=\"1\" /><path clip-path=\"url(#clip010)\" d=\"M232.274 1533.96 L244.751 1533.96 L244.751 1537.76 L232.274 1537.76 L232.274 1533.96 Z\" fill=\"#000000\" fill-rule=\"nonzero\" fill-opacity=\"1\" /><path clip-path=\"url(#clip010)\" d=\"M262.135 1517.37 Q258.524 1517.37 256.696 1520.93 Q254.89 1524.47 254.89 1531.6 Q254.89 1538.71 256.696 1542.27 Q258.524 1545.82 262.135 1545.82 Q265.77 1545.82 267.575 1542.27 Q269.404 1538.71 269.404 1531.6 Q269.404 1524.47 267.575 1520.93 Q265.77 1517.37 262.135 1517.37 M262.135 1513.66 Q267.946 1513.66 271.001 1518.27 Q274.08 1522.85 274.08 1531.6 Q274.08 1540.33 271.001 1544.94 Q267.946 1549.52 262.135 1549.52 Q256.325 1549.52 253.247 1544.94 Q250.191 1540.33 250.191 1531.6 Q250.191 1522.85 253.247 1518.27 Q256.325 1513.66 262.135 1513.66 Z\" fill=\"#000000\" fill-rule=\"nonzero\" fill-opacity=\"1\" /><path clip-path=\"url(#clip010)\" d=\"M283.108 1544.91 L290.746 1544.91 L290.746 1518.55 L282.436 1520.21 L282.436 1515.95 L290.7 1514.29 L295.376 1514.29 L295.376 1544.91 L303.015 1544.91 L303.015 1548.85 L283.108 1548.85 L283.108 1544.91 Z\" fill=\"#000000\" fill-rule=\"nonzero\" fill-opacity=\"1\" /><path clip-path=\"url(#clip010)\" d=\"M309.705 1533.96 L322.181 1533.96 L322.181 1537.76 L309.705 1537.76 L309.705 1533.96 Z\" fill=\"#000000\" fill-rule=\"nonzero\" fill-opacity=\"1\" /><path clip-path=\"url(#clip010)\" d=\"M339.566 1517.37 Q335.954 1517.37 334.126 1520.93 Q332.32 1524.47 332.32 1531.6 Q332.32 1538.71 334.126 1542.27 Q335.954 1545.82 339.566 1545.82 Q343.2 1545.82 345.005 1542.27 Q346.834 1538.71 346.834 1531.6 Q346.834 1524.47 345.005 1520.93 Q343.2 1517.37 339.566 1517.37 M339.566 1513.66 Q345.376 1513.66 348.431 1518.27 Q351.51 1522.85 351.51 1531.6 Q351.51 1540.33 348.431 1544.94 Q345.376 1549.52 339.566 1549.52 Q333.755 1549.52 330.677 1544.94 Q327.621 1540.33 327.621 1531.6 Q327.621 1522.85 330.677 1518.27 Q333.755 1513.66 339.566 1513.66 Z\" fill=\"#000000\" fill-rule=\"nonzero\" fill-opacity=\"1\" /><path clip-path=\"url(#clip010)\" d=\"M360.538 1544.91 L368.177 1544.91 L368.177 1518.55 L359.866 1520.21 L359.866 1515.95 L368.13 1514.29 L372.806 1514.29 L372.806 1544.91 L380.445 1544.91 L380.445 1548.85 L360.538 1548.85 L360.538 1544.91 Z\" fill=\"#000000\" fill-rule=\"nonzero\" fill-opacity=\"1\" /><path clip-path=\"url(#clip010)\" d=\"M646.285 1544.91 L662.605 1544.91 L662.605 1548.85 L640.66 1548.85 L640.66 1544.91 Q643.322 1542.16 647.906 1537.53 Q652.512 1532.88 653.693 1531.53 Q655.938 1529.01 656.818 1527.27 Q657.721 1525.51 657.721 1523.82 Q657.721 1521.07 655.776 1519.33 Q653.855 1517.6 650.753 1517.6 Q648.554 1517.6 646.1 1518.36 Q643.67 1519.13 640.892 1520.68 L640.892 1515.95 Q643.716 1514.82 646.17 1514.24 Q648.623 1513.66 650.66 1513.66 Q656.031 1513.66 659.225 1516.35 Q662.42 1519.03 662.42 1523.52 Q662.42 1525.65 661.609 1527.57 Q660.822 1529.47 658.716 1532.07 Q658.137 1532.74 655.035 1535.95 Q651.934 1539.15 646.285 1544.91 Z\" fill=\"#000000\" fill-rule=\"nonzero\" fill-opacity=\"1\" /><path clip-path=\"url(#clip010)\" d=\"M682.419 1517.37 Q678.808 1517.37 676.98 1520.93 Q675.174 1524.47 675.174 1531.6 Q675.174 1538.71 676.98 1542.27 Q678.808 1545.82 682.419 1545.82 Q686.054 1545.82 687.859 1542.27 Q689.688 1538.71 689.688 1531.6 Q689.688 1524.47 687.859 1520.93 Q686.054 1517.37 682.419 1517.37 M682.419 1513.66 Q688.23 1513.66 691.285 1518.27 Q694.364 1522.85 694.364 1531.6 Q694.364 1540.33 691.285 1544.94 Q688.23 1549.52 682.419 1549.52 Q676.609 1549.52 673.531 1544.94 Q670.475 1540.33 670.475 1531.6 Q670.475 1522.85 673.531 1518.27 Q676.609 1513.66 682.419 1513.66 Z\" fill=\"#000000\" fill-rule=\"nonzero\" fill-opacity=\"1\" /><path clip-path=\"url(#clip010)\" d=\"M712.581 1517.37 Q708.97 1517.37 707.142 1520.93 Q705.336 1524.47 705.336 1531.6 Q705.336 1538.71 707.142 1542.27 Q708.97 1545.82 712.581 1545.82 Q716.216 1545.82 718.021 1542.27 Q719.85 1538.71 719.85 1531.6 Q719.85 1524.47 718.021 1520.93 Q716.216 1517.37 712.581 1517.37 M712.581 1513.66 Q718.392 1513.66 721.447 1518.27 Q724.526 1522.85 724.526 1531.6 Q724.526 1540.33 721.447 1544.94 Q718.392 1549.52 712.581 1549.52 Q706.771 1549.52 703.693 1544.94 Q700.637 1540.33 700.637 1531.6 Q700.637 1522.85 703.693 1518.27 Q706.771 1513.66 712.581 1513.66 Z\" fill=\"#000000\" fill-rule=\"nonzero\" fill-opacity=\"1\" /><path clip-path=\"url(#clip010)\" d=\"M731.563 1514.29 L753.785 1514.29 L753.785 1516.28 L741.239 1548.85 L736.354 1548.85 L748.16 1518.22 L731.563 1518.22 L731.563 1514.29 Z\" fill=\"#000000\" fill-rule=\"nonzero\" fill-opacity=\"1\" /><path clip-path=\"url(#clip010)\" d=\"M760.151 1533.96 L772.627 1533.96 L772.627 1537.76 L760.151 1537.76 L760.151 1533.96 Z\" fill=\"#000000\" fill-rule=\"nonzero\" fill-opacity=\"1\" /><path clip-path=\"url(#clip010)\" d=\"M790.012 1517.37 Q786.4 1517.37 784.572 1520.93 Q782.766 1524.47 782.766 1531.6 Q782.766 1538.71 784.572 1542.27 Q786.4 1545.82 790.012 1545.82 Q793.646 1545.82 795.451 1542.27 Q797.28 1538.71 797.28 1531.6 Q797.28 1524.47 795.451 1520.93 Q793.646 1517.37 790.012 1517.37 M790.012 1513.66 Q795.822 1513.66 798.877 1518.27 Q801.956 1522.85 801.956 1531.6 Q801.956 1540.33 798.877 1544.94 Q795.822 1549.52 790.012 1549.52 Q784.201 1549.52 781.123 1544.94 Q778.067 1540.33 778.067 1531.6 Q778.067 1522.85 781.123 1518.27 Q784.201 1513.66 790.012 1513.66 Z\" fill=\"#000000\" fill-rule=\"nonzero\" fill-opacity=\"1\" /><path clip-path=\"url(#clip010)\" d=\"M810.984 1544.91 L818.622 1544.91 L818.622 1518.55 L810.312 1520.21 L810.312 1515.95 L818.576 1514.29 L823.252 1514.29 L823.252 1544.91 L830.891 1544.91 L830.891 1548.85 L810.984 1548.85 L810.984 1544.91 Z\" fill=\"#000000\" fill-rule=\"nonzero\" fill-opacity=\"1\" /><path clip-path=\"url(#clip010)\" d=\"M837.581 1533.96 L850.057 1533.96 L850.057 1537.76 L837.581 1537.76 L837.581 1533.96 Z\" fill=\"#000000\" fill-rule=\"nonzero\" fill-opacity=\"1\" /><path clip-path=\"url(#clip010)\" d=\"M867.442 1517.37 Q863.831 1517.37 862.002 1520.93 Q860.196 1524.47 860.196 1531.6 Q860.196 1538.71 862.002 1542.27 Q863.831 1545.82 867.442 1545.82 Q871.076 1545.82 872.881 1542.27 Q874.71 1538.71 874.71 1531.6 Q874.71 1524.47 872.881 1520.93 Q871.076 1517.37 867.442 1517.37 M867.442 1513.66 Q873.252 1513.66 876.307 1518.27 Q879.386 1522.85 879.386 1531.6 Q879.386 1540.33 876.307 1544.94 Q873.252 1549.52 867.442 1549.52 Q861.631 1549.52 858.553 1544.94 Q855.497 1540.33 855.497 1531.6 Q855.497 1522.85 858.553 1518.27 Q861.631 1513.66 867.442 1513.66 Z\" fill=\"#000000\" fill-rule=\"nonzero\" fill-opacity=\"1\" /><path clip-path=\"url(#clip010)\" d=\"M888.414 1544.91 L896.053 1544.91 L896.053 1518.55 L887.742 1520.21 L887.742 1515.95 L896.006 1514.29 L900.682 1514.29 L900.682 1544.91 L908.321 1544.91 L908.321 1548.85 L888.414 1548.85 L888.414 1544.91 Z\" fill=\"#000000\" fill-rule=\"nonzero\" fill-opacity=\"1\" /><path clip-path=\"url(#clip010)\" d=\"M1174.4 1544.91 L1190.72 1544.91 L1190.72 1548.85 L1168.78 1548.85 L1168.78 1544.91 Q1171.44 1542.16 1176.02 1537.53 Q1180.63 1532.88 1181.81 1531.53 Q1184.06 1529.01 1184.93 1527.27 Q1185.84 1525.51 1185.84 1523.82 Q1185.84 1521.07 1183.89 1519.33 Q1181.97 1517.6 1178.87 1517.6 Q1176.67 1517.6 1174.22 1518.36 Q1171.79 1519.13 1169.01 1520.68 L1169.01 1515.95 Q1171.83 1514.82 1174.29 1514.24 Q1176.74 1513.66 1178.78 1513.66 Q1184.15 1513.66 1187.34 1516.35 Q1190.54 1519.03 1190.54 1523.52 Q1190.54 1525.65 1189.73 1527.57 Q1188.94 1529.47 1186.83 1532.07 Q1186.25 1532.74 1183.15 1535.95 Q1180.05 1539.15 1174.4 1544.91 Z\" fill=\"#000000\" fill-rule=\"nonzero\" fill-opacity=\"1\" /><path clip-path=\"url(#clip010)\" d=\"M1210.54 1517.37 Q1206.93 1517.37 1205.1 1520.93 Q1203.29 1524.47 1203.29 1531.6 Q1203.29 1538.71 1205.1 1542.27 Q1206.93 1545.82 1210.54 1545.82 Q1214.17 1545.82 1215.98 1542.27 Q1217.8 1538.71 1217.8 1531.6 Q1217.8 1524.47 1215.98 1520.93 Q1214.17 1517.37 1210.54 1517.37 M1210.54 1513.66 Q1216.35 1513.66 1219.4 1518.27 Q1222.48 1522.85 1222.48 1531.6 Q1222.48 1540.33 1219.4 1544.94 Q1216.35 1549.52 1210.54 1549.52 Q1204.73 1549.52 1201.65 1544.94 Q1198.59 1540.33 1198.59 1531.6 Q1198.59 1522.85 1201.65 1518.27 Q1204.73 1513.66 1210.54 1513.66 Z\" fill=\"#000000\" fill-rule=\"nonzero\" fill-opacity=\"1\" /><path clip-path=\"url(#clip010)\" d=\"M1231.51 1544.91 L1239.15 1544.91 L1239.15 1518.55 L1230.84 1520.21 L1230.84 1515.95 L1239.1 1514.29 L1243.78 1514.29 L1243.78 1544.91 L1251.42 1544.91 L1251.42 1548.85 L1231.51 1548.85 L1231.51 1544.91 Z\" fill=\"#000000\" fill-rule=\"nonzero\" fill-opacity=\"1\" /><path clip-path=\"url(#clip010)\" d=\"M1275.03 1530.21 Q1278.38 1530.93 1280.26 1533.2 Q1282.16 1535.47 1282.16 1538.8 Q1282.16 1543.92 1278.64 1546.72 Q1275.12 1549.52 1268.64 1549.52 Q1266.46 1549.52 1264.15 1549.08 Q1261.86 1548.66 1259.4 1547.81 L1259.4 1543.29 Q1261.35 1544.43 1263.66 1545.01 Q1265.98 1545.58 1268.5 1545.58 Q1272.9 1545.58 1275.19 1543.85 Q1277.5 1542.11 1277.5 1538.8 Q1277.5 1535.75 1275.35 1534.03 Q1273.22 1532.3 1269.4 1532.3 L1265.37 1532.3 L1265.37 1528.45 L1269.59 1528.45 Q1273.04 1528.45 1274.86 1527.09 Q1276.69 1525.7 1276.69 1523.11 Q1276.69 1520.45 1274.8 1519.03 Q1272.92 1517.6 1269.4 1517.6 Q1267.48 1517.6 1265.28 1518.01 Q1263.08 1518.43 1260.44 1519.31 L1260.44 1515.14 Q1263.11 1514.4 1265.42 1514.03 Q1267.76 1513.66 1269.82 1513.66 Q1275.14 1513.66 1278.24 1516.09 Q1281.35 1518.5 1281.35 1522.62 Q1281.35 1525.49 1279.7 1527.48 Q1278.06 1529.45 1275.03 1530.21 Z\" fill=\"#000000\" fill-rule=\"nonzero\" fill-opacity=\"1\" /><path clip-path=\"url(#clip010)\" d=\"M1288.27 1533.96 L1300.74 1533.96 L1300.74 1537.76 L1288.27 1537.76 L1288.27 1533.96 Z\" fill=\"#000000\" fill-rule=\"nonzero\" fill-opacity=\"1\" /><path clip-path=\"url(#clip010)\" d=\"M1318.13 1517.37 Q1314.52 1517.37 1312.69 1520.93 Q1310.88 1524.47 1310.88 1531.6 Q1310.88 1538.71 1312.69 1542.27 Q1314.52 1545.82 1318.13 1545.82 Q1321.76 1545.82 1323.57 1542.27 Q1325.4 1538.71 1325.4 1531.6 Q1325.4 1524.47 1323.57 1520.93 Q1321.76 1517.37 1318.13 1517.37 M1318.13 1513.66 Q1323.94 1513.66 1326.99 1518.27 Q1330.07 1522.85 1330.07 1531.6 Q1330.07 1540.33 1326.99 1544.94 Q1323.94 1549.52 1318.13 1549.52 Q1312.32 1549.52 1309.24 1544.94 Q1306.18 1540.33 1306.18 1531.6 Q1306.18 1522.85 1309.24 1518.27 Q1312.32 1513.66 1318.13 1513.66 Z\" fill=\"#000000\" fill-rule=\"nonzero\" fill-opacity=\"1\" /><path clip-path=\"url(#clip010)\" d=\"M1339.1 1544.91 L1346.74 1544.91 L1346.74 1518.55 L1338.43 1520.21 L1338.43 1515.95 L1346.69 1514.29 L1351.37 1514.29 L1351.37 1544.91 L1359.01 1544.91 L1359.01 1548.85 L1339.1 1548.85 L1339.1 1544.91 Z\" fill=\"#000000\" fill-rule=\"nonzero\" fill-opacity=\"1\" /><path clip-path=\"url(#clip010)\" d=\"M1365.7 1533.96 L1378.17 1533.96 L1378.17 1537.76 L1365.7 1537.76 L1365.7 1533.96 Z\" fill=\"#000000\" fill-rule=\"nonzero\" fill-opacity=\"1\" /><path clip-path=\"url(#clip010)\" d=\"M1395.56 1517.37 Q1391.95 1517.37 1390.12 1520.93 Q1388.31 1524.47 1388.31 1531.6 Q1388.31 1538.71 1390.12 1542.27 Q1391.95 1545.82 1395.56 1545.82 Q1399.19 1545.82 1401 1542.27 Q1402.83 1538.71 1402.83 1531.6 Q1402.83 1524.47 1401 1520.93 Q1399.19 1517.37 1395.56 1517.37 M1395.56 1513.66 Q1401.37 1513.66 1404.42 1518.27 Q1407.5 1522.85 1407.5 1531.6 Q1407.5 1540.33 1404.42 1544.94 Q1401.37 1549.52 1395.56 1549.52 Q1389.75 1549.52 1386.67 1544.94 Q1383.61 1540.33 1383.61 1531.6 Q1383.61 1522.85 1386.67 1518.27 Q1389.75 1513.66 1395.56 1513.66 Z\" fill=\"#000000\" fill-rule=\"nonzero\" fill-opacity=\"1\" /><path clip-path=\"url(#clip010)\" d=\"M1416.53 1544.91 L1424.17 1544.91 L1424.17 1518.55 L1415.86 1520.21 L1415.86 1515.95 L1424.12 1514.29 L1428.8 1514.29 L1428.8 1544.91 L1436.44 1544.91 L1436.44 1548.85 L1416.53 1548.85 L1416.53 1544.91 Z\" fill=\"#000000\" fill-rule=\"nonzero\" fill-opacity=\"1\" /><path clip-path=\"url(#clip010)\" d=\"M1702.28 1544.91 L1718.6 1544.91 L1718.6 1548.85 L1696.65 1548.85 L1696.65 1544.91 Q1699.32 1542.16 1703.9 1537.53 Q1708.51 1532.88 1709.69 1531.53 Q1711.93 1529.01 1712.81 1527.27 Q1713.71 1525.51 1713.71 1523.82 Q1713.71 1521.07 1711.77 1519.33 Q1709.85 1517.6 1706.75 1517.6 Q1704.55 1517.6 1702.09 1518.36 Q1699.66 1519.13 1696.89 1520.68 L1696.89 1515.95 Q1699.71 1514.82 1702.16 1514.24 Q1704.62 1513.66 1706.65 1513.66 Q1712.02 1513.66 1715.22 1516.35 Q1718.41 1519.03 1718.41 1523.52 Q1718.41 1525.65 1717.6 1527.57 Q1716.82 1529.47 1714.71 1532.07 Q1714.13 1532.74 1711.03 1535.95 Q1707.93 1539.15 1702.28 1544.91 Z\" fill=\"#000000\" fill-rule=\"nonzero\" fill-opacity=\"1\" /><path clip-path=\"url(#clip010)\" d=\"M1738.41 1517.37 Q1734.8 1517.37 1732.97 1520.93 Q1731.17 1524.47 1731.17 1531.6 Q1731.17 1538.71 1732.97 1542.27 Q1734.8 1545.82 1738.41 1545.82 Q1742.05 1545.82 1743.85 1542.27 Q1745.68 1538.71 1745.68 1531.6 Q1745.68 1524.47 1743.85 1520.93 Q1742.05 1517.37 1738.41 1517.37 M1738.41 1513.66 Q1744.22 1513.66 1747.28 1518.27 Q1750.36 1522.85 1750.36 1531.6 Q1750.36 1540.33 1747.28 1544.94 Q1744.22 1549.52 1738.41 1549.52 Q1732.6 1549.52 1729.52 1544.94 Q1726.47 1540.33 1726.47 1531.6 Q1726.47 1522.85 1729.52 1518.27 Q1732.6 1513.66 1738.41 1513.66 Z\" fill=\"#000000\" fill-rule=\"nonzero\" fill-opacity=\"1\" /><path clip-path=\"url(#clip010)\" d=\"M1759.38 1544.91 L1767.02 1544.91 L1767.02 1518.55 L1758.71 1520.21 L1758.71 1515.95 L1766.98 1514.29 L1771.65 1514.29 L1771.65 1544.91 L1779.29 1544.91 L1779.29 1548.85 L1759.38 1548.85 L1759.38 1544.91 Z\" fill=\"#000000\" fill-rule=\"nonzero\" fill-opacity=\"1\" /><path clip-path=\"url(#clip010)\" d=\"M1788.88 1548.13 L1788.88 1543.87 Q1790.63 1544.7 1792.44 1545.14 Q1794.25 1545.58 1795.98 1545.58 Q1800.61 1545.58 1803.04 1542.48 Q1805.5 1539.36 1805.84 1533.01 Q1804.5 1535.01 1802.44 1536.07 Q1800.38 1537.13 1797.88 1537.13 Q1792.69 1537.13 1789.66 1534.01 Q1786.65 1530.86 1786.65 1525.42 Q1786.65 1520.1 1789.8 1516.88 Q1792.95 1513.66 1798.18 1513.66 Q1804.18 1513.66 1807.32 1518.27 Q1810.5 1522.85 1810.5 1531.6 Q1810.5 1539.77 1806.61 1544.66 Q1802.74 1549.52 1796.19 1549.52 Q1794.43 1549.52 1792.63 1549.17 Q1790.82 1548.82 1788.88 1548.13 M1798.18 1533.48 Q1801.33 1533.48 1803.16 1531.32 Q1805.01 1529.17 1805.01 1525.42 Q1805.01 1521.7 1803.16 1519.54 Q1801.33 1517.37 1798.18 1517.37 Q1795.03 1517.37 1793.18 1519.54 Q1791.35 1521.7 1791.35 1525.42 Q1791.35 1529.17 1793.18 1531.32 Q1795.03 1533.48 1798.18 1533.48 Z\" fill=\"#000000\" fill-rule=\"nonzero\" fill-opacity=\"1\" /><path clip-path=\"url(#clip010)\" d=\"M1816.14 1533.96 L1828.62 1533.96 L1828.62 1537.76 L1816.14 1537.76 L1816.14 1533.96 Z\" fill=\"#000000\" fill-rule=\"nonzero\" fill-opacity=\"1\" /><path clip-path=\"url(#clip010)\" d=\"M1846 1517.37 Q1842.39 1517.37 1840.56 1520.93 Q1838.76 1524.47 1838.76 1531.6 Q1838.76 1538.71 1840.56 1542.27 Q1842.39 1545.82 1846 1545.82 Q1849.64 1545.82 1851.44 1542.27 Q1853.27 1538.71 1853.27 1531.6 Q1853.27 1524.47 1851.44 1520.93 Q1849.64 1517.37 1846 1517.37 M1846 1513.66 Q1851.81 1513.66 1854.87 1518.27 Q1857.95 1522.85 1857.95 1531.6 Q1857.95 1540.33 1854.87 1544.94 Q1851.81 1549.52 1846 1549.52 Q1840.19 1549.52 1837.12 1544.94 Q1834.06 1540.33 1834.06 1531.6 Q1834.06 1522.85 1837.12 1518.27 Q1840.19 1513.66 1846 1513.66 Z\" fill=\"#000000\" fill-rule=\"nonzero\" fill-opacity=\"1\" /><path clip-path=\"url(#clip010)\" d=\"M1866.98 1544.91 L1874.62 1544.91 L1874.62 1518.55 L1866.31 1520.21 L1866.31 1515.95 L1874.57 1514.29 L1879.25 1514.29 L1879.25 1544.91 L1886.88 1544.91 L1886.88 1548.85 L1866.98 1548.85 L1866.98 1544.91 Z\" fill=\"#000000\" fill-rule=\"nonzero\" fill-opacity=\"1\" /><path clip-path=\"url(#clip010)\" d=\"M1893.57 1533.96 L1906.05 1533.96 L1906.05 1537.76 L1893.57 1537.76 L1893.57 1533.96 Z\" fill=\"#000000\" fill-rule=\"nonzero\" fill-opacity=\"1\" /><path clip-path=\"url(#clip010)\" d=\"M1923.43 1517.37 Q1919.82 1517.37 1917.99 1520.93 Q1916.19 1524.47 1916.19 1531.6 Q1916.19 1538.71 1917.99 1542.27 Q1919.82 1545.82 1923.43 1545.82 Q1927.07 1545.82 1928.87 1542.27 Q1930.7 1538.71 1930.7 1531.6 Q1930.7 1524.47 1928.87 1520.93 Q1927.07 1517.37 1923.43 1517.37 M1923.43 1513.66 Q1929.24 1513.66 1932.3 1518.27 Q1935.38 1522.85 1935.38 1531.6 Q1935.38 1540.33 1932.3 1544.94 Q1929.24 1549.52 1923.43 1549.52 Q1917.62 1549.52 1914.55 1544.94 Q1911.49 1540.33 1911.49 1531.6 Q1911.49 1522.85 1914.55 1518.27 Q1917.62 1513.66 1923.43 1513.66 Z\" fill=\"#000000\" fill-rule=\"nonzero\" fill-opacity=\"1\" /><path clip-path=\"url(#clip010)\" d=\"M1944.41 1544.91 L1952.05 1544.91 L1952.05 1518.55 L1943.74 1520.21 L1943.74 1515.95 L1952 1514.29 L1956.68 1514.29 L1956.68 1544.91 L1964.31 1544.91 L1964.31 1548.85 L1944.41 1548.85 L1944.41 1544.91 Z\" fill=\"#000000\" fill-rule=\"nonzero\" fill-opacity=\"1\" /><polyline clip-path=\"url(#clip012)\" style=\"stroke:#000000; stroke-linecap:round; stroke-linejoin:round; stroke-width:2; stroke-opacity:0.1; fill:none\" points=\"192.709,1361.79 2352.76,1361.79 \"/>\n",
       "<polyline clip-path=\"url(#clip012)\" style=\"stroke:#000000; stroke-linecap:round; stroke-linejoin:round; stroke-width:2; stroke-opacity:0.1; fill:none\" points=\"192.709,958.991 2352.76,958.991 \"/>\n",
       "<polyline clip-path=\"url(#clip012)\" style=\"stroke:#000000; stroke-linecap:round; stroke-linejoin:round; stroke-width:2; stroke-opacity:0.1; fill:none\" points=\"192.709,556.187 2352.76,556.187 \"/>\n",
       "<polyline clip-path=\"url(#clip012)\" style=\"stroke:#000000; stroke-linecap:round; stroke-linejoin:round; stroke-width:2; stroke-opacity:0.1; fill:none\" points=\"192.709,153.383 2352.76,153.383 \"/>\n",
       "<polyline clip-path=\"url(#clip010)\" style=\"stroke:#000000; stroke-linecap:round; stroke-linejoin:round; stroke-width:4; stroke-opacity:1; fill:none\" points=\"192.709,1486.45 192.709,47.2441 \"/>\n",
       "<polyline clip-path=\"url(#clip010)\" style=\"stroke:#000000; stroke-linecap:round; stroke-linejoin:round; stroke-width:4; stroke-opacity:1; fill:none\" points=\"192.709,1361.79 211.607,1361.79 \"/>\n",
       "<polyline clip-path=\"url(#clip010)\" style=\"stroke:#000000; stroke-linecap:round; stroke-linejoin:round; stroke-width:4; stroke-opacity:1; fill:none\" points=\"192.709,958.991 211.607,958.991 \"/>\n",
       "<polyline clip-path=\"url(#clip010)\" style=\"stroke:#000000; stroke-linecap:round; stroke-linejoin:round; stroke-width:4; stroke-opacity:1; fill:none\" points=\"192.709,556.187 211.607,556.187 \"/>\n",
       "<polyline clip-path=\"url(#clip010)\" style=\"stroke:#000000; stroke-linecap:round; stroke-linejoin:round; stroke-width:4; stroke-opacity:1; fill:none\" points=\"192.709,153.383 211.607,153.383 \"/>\n",
       "<path clip-path=\"url(#clip010)\" d=\"M51.3625 1362.25 L81.0383 1362.25 L81.0383 1366.18 L51.3625 1366.18 L51.3625 1362.25 Z\" fill=\"#000000\" fill-rule=\"nonzero\" fill-opacity=\"1\" /><path clip-path=\"url(#clip010)\" d=\"M101.131 1347.59 Q97.5197 1347.59 95.691 1351.16 Q93.8854 1354.7 93.8854 1361.83 Q93.8854 1368.94 95.691 1372.5 Q97.5197 1376.04 101.131 1376.04 Q104.765 1376.04 106.571 1372.5 Q108.399 1368.94 108.399 1361.83 Q108.399 1354.7 106.571 1351.16 Q104.765 1347.59 101.131 1347.59 M101.131 1343.89 Q106.941 1343.89 109.996 1348.5 Q113.075 1353.08 113.075 1361.83 Q113.075 1370.56 109.996 1375.16 Q106.941 1379.75 101.131 1379.75 Q95.3206 1379.75 92.2419 1375.16 Q89.1864 1370.56 89.1864 1361.83 Q89.1864 1353.08 92.2419 1348.5 Q95.3206 1343.89 101.131 1343.89 Z\" fill=\"#000000\" fill-rule=\"nonzero\" fill-opacity=\"1\" /><path clip-path=\"url(#clip010)\" d=\"M121.293 1373.19 L126.177 1373.19 L126.177 1379.07 L121.293 1379.07 L121.293 1373.19 Z\" fill=\"#000000\" fill-rule=\"nonzero\" fill-opacity=\"1\" /><path clip-path=\"url(#clip010)\" d=\"M140.39 1375.14 L156.709 1375.14 L156.709 1379.07 L134.765 1379.07 L134.765 1375.14 Q137.427 1372.38 142.01 1367.76 Q146.617 1363.1 147.797 1361.76 Q150.043 1359.24 150.922 1357.5 Q151.825 1355.74 151.825 1354.05 Q151.825 1351.3 149.88 1349.56 Q147.959 1347.82 144.857 1347.82 Q142.658 1347.82 140.205 1348.59 Q137.774 1349.35 134.996 1350.9 L134.996 1346.18 Q137.82 1345.05 140.274 1344.47 Q142.728 1343.89 144.765 1343.89 Q150.135 1343.89 153.33 1346.57 Q156.524 1349.26 156.524 1353.75 Q156.524 1355.88 155.714 1357.8 Q154.927 1359.7 152.82 1362.29 Q152.242 1362.96 149.14 1366.18 Q146.038 1369.38 140.39 1375.14 Z\" fill=\"#000000\" fill-rule=\"nonzero\" fill-opacity=\"1\" /><path clip-path=\"url(#clip010)\" d=\"M50.9921 959.442 L80.6679 959.442 L80.6679 963.377 L50.9921 963.377 L50.9921 959.442 Z\" fill=\"#000000\" fill-rule=\"nonzero\" fill-opacity=\"1\" /><path clip-path=\"url(#clip010)\" d=\"M100.76 944.789 Q97.1493 944.789 95.3206 948.354 Q93.515 951.896 93.515 959.025 Q93.515 966.132 95.3206 969.697 Q97.1493 973.238 100.76 973.238 Q104.395 973.238 106.2 969.697 Q108.029 966.132 108.029 959.025 Q108.029 951.896 106.2 948.354 Q104.395 944.789 100.76 944.789 M100.76 941.086 Q106.571 941.086 109.626 945.692 Q112.705 950.276 112.705 959.025 Q112.705 967.752 109.626 972.359 Q106.571 976.942 100.76 976.942 Q94.9502 976.942 91.8715 972.359 Q88.816 967.752 88.816 959.025 Q88.816 950.276 91.8715 945.692 Q94.9502 941.086 100.76 941.086 Z\" fill=\"#000000\" fill-rule=\"nonzero\" fill-opacity=\"1\" /><path clip-path=\"url(#clip010)\" d=\"M120.922 970.391 L125.807 970.391 L125.807 976.271 L120.922 976.271 L120.922 970.391 Z\" fill=\"#000000\" fill-rule=\"nonzero\" fill-opacity=\"1\" /><path clip-path=\"url(#clip010)\" d=\"M136.802 972.336 L144.441 972.336 L144.441 945.97 L136.131 947.637 L136.131 943.377 L144.394 941.711 L149.07 941.711 L149.07 972.336 L156.709 972.336 L156.709 976.271 L136.802 976.271 L136.802 972.336 Z\" fill=\"#000000\" fill-rule=\"nonzero\" fill-opacity=\"1\" /><path clip-path=\"url(#clip010)\" d=\"M99.5335 541.986 Q95.9224 541.986 94.0937 545.55 Q92.2882 549.092 92.2882 556.222 Q92.2882 563.328 94.0937 566.893 Q95.9224 570.435 99.5335 570.435 Q103.168 570.435 104.973 566.893 Q106.802 563.328 106.802 556.222 Q106.802 549.092 104.973 545.55 Q103.168 541.986 99.5335 541.986 M99.5335 538.282 Q105.344 538.282 108.399 542.888 Q111.478 547.472 111.478 556.222 Q111.478 564.948 108.399 569.555 Q105.344 574.138 99.5335 574.138 Q93.7234 574.138 90.6447 569.555 Q87.5892 564.948 87.5892 556.222 Q87.5892 547.472 90.6447 542.888 Q93.7234 538.282 99.5335 538.282 Z\" fill=\"#000000\" fill-rule=\"nonzero\" fill-opacity=\"1\" /><path clip-path=\"url(#clip010)\" d=\"M119.695 567.587 L124.58 567.587 L124.58 573.467 L119.695 573.467 L119.695 567.587 Z\" fill=\"#000000\" fill-rule=\"nonzero\" fill-opacity=\"1\" /><path clip-path=\"url(#clip010)\" d=\"M144.765 541.986 Q141.154 541.986 139.325 545.55 Q137.519 549.092 137.519 556.222 Q137.519 563.328 139.325 566.893 Q141.154 570.435 144.765 570.435 Q148.399 570.435 150.205 566.893 Q152.033 563.328 152.033 556.222 Q152.033 549.092 150.205 545.55 Q148.399 541.986 144.765 541.986 M144.765 538.282 Q150.575 538.282 153.63 542.888 Q156.709 547.472 156.709 556.222 Q156.709 564.948 153.63 569.555 Q150.575 574.138 144.765 574.138 Q138.955 574.138 135.876 569.555 Q132.82 564.948 132.82 556.222 Q132.82 547.472 135.876 542.888 Q138.955 538.282 144.765 538.282 Z\" fill=\"#000000\" fill-rule=\"nonzero\" fill-opacity=\"1\" /><path clip-path=\"url(#clip010)\" d=\"M100.76 139.182 Q97.1493 139.182 95.3206 142.747 Q93.515 146.288 93.515 153.418 Q93.515 160.524 95.3206 164.089 Q97.1493 167.631 100.76 167.631 Q104.395 167.631 106.2 164.089 Q108.029 160.524 108.029 153.418 Q108.029 146.288 106.2 142.747 Q104.395 139.182 100.76 139.182 M100.76 135.478 Q106.571 135.478 109.626 140.085 Q112.705 144.668 112.705 153.418 Q112.705 162.145 109.626 166.751 Q106.571 171.334 100.76 171.334 Q94.9502 171.334 91.8715 166.751 Q88.816 162.145 88.816 153.418 Q88.816 144.668 91.8715 140.085 Q94.9502 135.478 100.76 135.478 Z\" fill=\"#000000\" fill-rule=\"nonzero\" fill-opacity=\"1\" /><path clip-path=\"url(#clip010)\" d=\"M120.922 164.784 L125.807 164.784 L125.807 170.663 L120.922 170.663 L120.922 164.784 Z\" fill=\"#000000\" fill-rule=\"nonzero\" fill-opacity=\"1\" /><path clip-path=\"url(#clip010)\" d=\"M136.802 166.728 L144.441 166.728 L144.441 140.362 L136.131 142.029 L136.131 137.77 L144.394 136.103 L149.07 136.103 L149.07 166.728 L156.709 166.728 L156.709 170.663 L136.802 170.663 L136.802 166.728 Z\" fill=\"#000000\" fill-rule=\"nonzero\" fill-opacity=\"1\" /><polyline clip-path=\"url(#clip012)\" style=\"stroke:#009af9; stroke-linecap:round; stroke-linejoin:round; stroke-width:4; stroke-opacity:1; fill:none\" points=\"253.843,456.174 260.589,911.053 267.816,838.467 275.285,274.594 282.754,603.806 289.741,682.709 297.451,621.015 304.92,747.136 311.666,943.181 319.616,472.069 326.844,316.891 334.313,519.486 341.782,668.942 348.528,587.104 355.515,379.671 363.224,687.376 370.693,553.084 377.439,811.4 385.39,909.948 392.618,547.266 400.087,1025.67 407.555,271.047 414.542,343.04 422.252,754.291 429.721,676.535 436.467,629.097 443.936,573.604 451.164,214.096 458.392,331 465.86,481.465 473.329,469.024 480.316,463.082 488.026,531.792 495.495,320.042 502.241,496.321 510.191,309.689 517.419,488.718 524.165,483.941 532.116,579.276 539.344,651.922 546.813,525.031 554.04,477.247 561.268,687.218 568.978,531.714 576.206,473.417 583.193,458.906 590.903,342.424 598.371,403.284 605.84,642.544 612.586,418.982 620.055,645.928 627.042,646.059 634.752,481.656 641.98,515.676 648.967,409.914 656.917,525.721 664.145,436.754 671.614,666.181 678.842,412.124 686.07,458.32 693.779,362.629 700.525,562.098 707.994,472.356 714.74,424.305 722.691,718.191 729.919,557.926 737.388,528.788 744.856,453.086 751.843,509.516 759.553,407.879 766.781,443.87 773.768,467.303 781.719,516.315 788.465,577.448 795.693,476.214 803.161,381.224 810.63,438.168 817.617,568.062 825.327,618.17 832.796,567.349 839.542,345.555 847.492,402.032 854.72,738.339 862.189,601.024 869.658,900.403 876.645,544.803 884.114,615.732 891.341,337.514 898.569,493.72 906.038,901.315 913.507,662.171 920.494,643.956 928.204,1093.97 935.672,1445.72 942.418,829.91 950.369,412.784 957.597,915.936 964.343,971.247 972.053,237.353 979.281,106.729 986.268,173.598 993.977,578.836 1001.45,216.353 1008.91,414.642 1016.14,375.505 1023.37,618.92 1030.84,393.839 1038.31,473.624 1045.3,734.138 1052.04,505.2 1059.99,305.045 1067.22,549.416 1074.69,957.402 1081.92,682.232 1089.14,241.086 1096.85,699.521 1104.08,188.175 1111.07,413.179 1118.78,646.824 1126.25,271.519 1133.72,493.466 1140.46,440.569 1147.93,560.212 1154.92,394.672 1162.63,643.716 1169.86,620.161 1176.84,622.308 1184.79,861.733 1192.02,955.653 1199.49,146.201 1206.72,678.606 1213.95,564.334 1221.66,328.526 1228.64,358.456 1235.87,529.522 1243.34,602.516 1250.81,934.561 1257.79,362.003 1265.5,501.418 1272.97,469.542 1279.72,431.276 1287.67,583.125 1294.9,505.005 1302.37,465.967 1309.84,374.769 1316.58,556.814 1323.57,483.203 1331.28,442.73 1338.75,567.252 1345.49,675.677 1353.44,367.828 1360.67,640.995 1368.14,353.329 1375.61,397.459 1382.6,499.541 1390.31,487.289 1397.77,720.621 1404.52,366.156 1411.99,538.317 1419.22,518.022 1426.45,471.413 1433.91,481.053 1441.38,605.335 1448.37,468.185 1456.08,688.965 1463.55,527.928 1470.29,489.369 1478.25,634.673 1485.47,619.662 1492.22,337.96 1499.93,619.088 1507.16,440.979 1514.14,561.446 1521.85,652.149 1529.32,521.359 1536.79,842.233 1544.02,704.828 1551.25,251.839 1558.72,589.587 1566.18,629.492 1573.17,806.755 1580.64,583.991 1588.11,268.221 1595.1,497.162 1602.81,551.113 1610.03,580.645 1617.02,386.24 1624.97,542.658 1632.2,531.583 1639.67,625.145 1646.9,525.692 1654.12,470.098 1661.83,447.52 1668.58,444.744 1676.05,507.222 1682.79,493.886 1690.74,468.206 1697.97,537.913 1705.44,445.168 1712.91,540.781 1719.9,479.11 1727.61,473.399 1734.83,478.955 1741.82,491.763 1749.77,335.126 1756.52,729.007 1763.75,643.345 1771.22,517.908 1778.68,551.166 1785.67,578.05 1793.38,436.506 1800.85,524.677 1807.6,538.688 1815.55,869.953 1822.77,497.703 1830.24,850.384 1837.71,250.07 1844.46,449.858 1851.44,505.86 1859.15,422.416 1866.62,802.509 1873.37,300.701 1881.32,544.408 1888.55,652.885 1896.02,472.325 1903.49,447.423 1910.47,459.032 1918.18,416.787 1925.65,600.922 1932.4,895.429 1940.11,1140.37 1947.33,146.258 1954.32,384.709 1962.03,429.492 1969.5,348.602 1976.97,316.893 1984.2,688.206 1991.42,655.318 1998.89,87.9763 2006.36,373.382 2013.35,574.54 2020.1,463.958 2028.05,450.005 2035.27,383.812 2042.74,493.991 2049.97,503.452 2057.2,528.524 2064.91,456.608 2072.14,726.122 2079.12,355.651 2086.83,654.378 2094.3,398.197 2101.77,759.037 2108.52,661.593 2115.99,469.87 2122.97,892.24 2130.68,551.468 2137.91,910.904 2144.9,284.286 2152.85,707.284 2160.08,961.518 2167.54,320.152 2174.77,255.288 2182,717.887 2189.71,277.355 2196.46,673.319 2203.92,433.863 2210.67,498.709 2218.62,599.566 2225.85,328.85 2233.32,411.362 2240.79,670.35 2247.77,726.287 2255.48,679.159 2262.71,200.579 2269.7,367.21 2277.65,532.645 2284.64,386.935 2291.62,431.664 \"/>\n",
       "<path clip-path=\"url(#clip012)\" d=\"M253.843 2925.65 L253.843 -1391.96 L260.589 -1391.96 L260.589 2925.65 L253.843 2925.65  Z\" fill=\"#e26f46\" fill-rule=\"evenodd\" fill-opacity=\"0.3\"/>\n",
       "<polyline clip-path=\"url(#clip012)\" style=\"stroke:#000000; stroke-linecap:round; stroke-linejoin:round; stroke-width:0; stroke-opacity:0.3; fill:none\" points=\"253.843,2925.65 253.843,-1391.96 260.589,-1391.96 260.589,2925.65 253.843,2925.65 \"/>\n",
       "<path clip-path=\"url(#clip012)\" d=\"M267.816 2925.65 L267.816 -1391.96 L275.285 -1391.96 L275.285 2925.65 L267.816 2925.65  Z\" fill=\"#e26f46\" fill-rule=\"evenodd\" fill-opacity=\"0.3\"/>\n",
       "<polyline clip-path=\"url(#clip012)\" style=\"stroke:#000000; stroke-linecap:round; stroke-linejoin:round; stroke-width:0; stroke-opacity:0.3; fill:none\" points=\"267.816,2925.65 267.816,-1391.96 275.285,-1391.96 275.285,2925.65 267.816,2925.65 \"/>\n",
       "<path clip-path=\"url(#clip012)\" d=\"M282.754 2925.65 L282.754 -1391.96 L289.741 -1391.96 L289.741 2925.65 L282.754 2925.65  Z\" fill=\"#e26f46\" fill-rule=\"evenodd\" fill-opacity=\"0.3\"/>\n",
       "<polyline clip-path=\"url(#clip012)\" style=\"stroke:#000000; stroke-linecap:round; stroke-linejoin:round; stroke-width:0; stroke-opacity:0.3; fill:none\" points=\"282.754,2925.65 282.754,-1391.96 289.741,-1391.96 289.741,2925.65 282.754,2925.65 \"/>\n",
       "<path clip-path=\"url(#clip012)\" d=\"M297.451 2925.65 L297.451 -1391.96 L304.92 -1391.96 L304.92 2925.65 L297.451 2925.65  Z\" fill=\"#e26f46\" fill-rule=\"evenodd\" fill-opacity=\"0.3\"/>\n",
       "<polyline clip-path=\"url(#clip012)\" style=\"stroke:#000000; stroke-linecap:round; stroke-linejoin:round; stroke-width:0; stroke-opacity:0.3; fill:none\" points=\"297.451,2925.65 297.451,-1391.96 304.92,-1391.96 304.92,2925.65 297.451,2925.65 \"/>\n",
       "<path clip-path=\"url(#clip012)\" d=\"M311.666 2925.65 L311.666 -1391.96 L319.616 -1391.96 L319.616 2925.65 L311.666 2925.65  Z\" fill=\"#e26f46\" fill-rule=\"evenodd\" fill-opacity=\"0.3\"/>\n",
       "<polyline clip-path=\"url(#clip012)\" style=\"stroke:#000000; stroke-linecap:round; stroke-linejoin:round; stroke-width:0; stroke-opacity:0.3; fill:none\" points=\"311.666,2925.65 311.666,-1391.96 319.616,-1391.96 319.616,2925.65 311.666,2925.65 \"/>\n",
       "<path clip-path=\"url(#clip012)\" d=\"M326.844 2925.65 L326.844 -1391.96 L334.313 -1391.96 L334.313 2925.65 L326.844 2925.65  Z\" fill=\"#e26f46\" fill-rule=\"evenodd\" fill-opacity=\"0.3\"/>\n",
       "<polyline clip-path=\"url(#clip012)\" style=\"stroke:#000000; stroke-linecap:round; stroke-linejoin:round; stroke-width:0; stroke-opacity:0.3; fill:none\" points=\"326.844,2925.65 326.844,-1391.96 334.313,-1391.96 334.313,2925.65 326.844,2925.65 \"/>\n",
       "<path clip-path=\"url(#clip012)\" d=\"M341.782 2925.65 L341.782 -1391.96 L348.528 -1391.96 L348.528 2925.65 L341.782 2925.65  Z\" fill=\"#e26f46\" fill-rule=\"evenodd\" fill-opacity=\"0.3\"/>\n",
       "<polyline clip-path=\"url(#clip012)\" style=\"stroke:#000000; stroke-linecap:round; stroke-linejoin:round; stroke-width:0; stroke-opacity:0.3; fill:none\" points=\"341.782,2925.65 341.782,-1391.96 348.528,-1391.96 348.528,2925.65 341.782,2925.65 \"/>\n",
       "<path clip-path=\"url(#clip012)\" d=\"M355.515 2925.65 L355.515 -1391.96 L363.224 -1391.96 L363.224 2925.65 L355.515 2925.65  Z\" fill=\"#e26f46\" fill-rule=\"evenodd\" fill-opacity=\"0.3\"/>\n",
       "<polyline clip-path=\"url(#clip012)\" style=\"stroke:#000000; stroke-linecap:round; stroke-linejoin:round; stroke-width:0; stroke-opacity:0.3; fill:none\" points=\"355.515,2925.65 355.515,-1391.96 363.224,-1391.96 363.224,2925.65 355.515,2925.65 \"/>\n",
       "<path clip-path=\"url(#clip012)\" d=\"M370.693 2925.65 L370.693 -1391.96 L377.439 -1391.96 L377.439 2925.65 L370.693 2925.65  Z\" fill=\"#e26f46\" fill-rule=\"evenodd\" fill-opacity=\"0.3\"/>\n",
       "<polyline clip-path=\"url(#clip012)\" style=\"stroke:#000000; stroke-linecap:round; stroke-linejoin:round; stroke-width:0; stroke-opacity:0.3; fill:none\" points=\"370.693,2925.65 370.693,-1391.96 377.439,-1391.96 377.439,2925.65 370.693,2925.65 \"/>\n",
       "<path clip-path=\"url(#clip012)\" d=\"M385.39 2925.65 L385.39 -1391.96 L392.618 -1391.96 L392.618 2925.65 L385.39 2925.65  Z\" fill=\"#e26f46\" fill-rule=\"evenodd\" fill-opacity=\"0.3\"/>\n",
       "<polyline clip-path=\"url(#clip012)\" style=\"stroke:#000000; stroke-linecap:round; stroke-linejoin:round; stroke-width:0; stroke-opacity:0.3; fill:none\" points=\"385.39,2925.65 385.39,-1391.96 392.618,-1391.96 392.618,2925.65 385.39,2925.65 \"/>\n",
       "<path clip-path=\"url(#clip012)\" d=\"M400.087 2925.65 L400.087 -1391.96 L407.555 -1391.96 L407.555 2925.65 L400.087 2925.65  Z\" fill=\"#e26f46\" fill-rule=\"evenodd\" fill-opacity=\"0.3\"/>\n",
       "<polyline clip-path=\"url(#clip012)\" style=\"stroke:#000000; stroke-linecap:round; stroke-linejoin:round; stroke-width:0; stroke-opacity:0.3; fill:none\" points=\"400.087,2925.65 400.087,-1391.96 407.555,-1391.96 407.555,2925.65 400.087,2925.65 \"/>\n",
       "<path clip-path=\"url(#clip012)\" d=\"M414.542 2925.65 L414.542 -1391.96 L422.252 -1391.96 L422.252 2925.65 L414.542 2925.65  Z\" fill=\"#e26f46\" fill-rule=\"evenodd\" fill-opacity=\"0.3\"/>\n",
       "<polyline clip-path=\"url(#clip012)\" style=\"stroke:#000000; stroke-linecap:round; stroke-linejoin:round; stroke-width:0; stroke-opacity:0.3; fill:none\" points=\"414.542,2925.65 414.542,-1391.96 422.252,-1391.96 422.252,2925.65 414.542,2925.65 \"/>\n",
       "<path clip-path=\"url(#clip012)\" d=\"M429.721 2925.65 L429.721 -1391.96 L436.467 -1391.96 L436.467 2925.65 L429.721 2925.65  Z\" fill=\"#e26f46\" fill-rule=\"evenodd\" fill-opacity=\"0.3\"/>\n",
       "<polyline clip-path=\"url(#clip012)\" style=\"stroke:#000000; stroke-linecap:round; stroke-linejoin:round; stroke-width:0; stroke-opacity:0.3; fill:none\" points=\"429.721,2925.65 429.721,-1391.96 436.467,-1391.96 436.467,2925.65 429.721,2925.65 \"/>\n",
       "<path clip-path=\"url(#clip012)\" d=\"M443.936 2925.65 L443.936 -1391.96 L451.164 -1391.96 L451.164 2925.65 L443.936 2925.65  Z\" fill=\"#e26f46\" fill-rule=\"evenodd\" fill-opacity=\"0.3\"/>\n",
       "<polyline clip-path=\"url(#clip012)\" style=\"stroke:#000000; stroke-linecap:round; stroke-linejoin:round; stroke-width:0; stroke-opacity:0.3; fill:none\" points=\"443.936,2925.65 443.936,-1391.96 451.164,-1391.96 451.164,2925.65 443.936,2925.65 \"/>\n",
       "<path clip-path=\"url(#clip012)\" d=\"M458.392 2925.65 L458.392 -1391.96 L854.72 -1391.96 L854.72 2925.65 L458.392 2925.65  Z\" fill=\"#e26f46\" fill-rule=\"evenodd\" fill-opacity=\"0.3\"/>\n",
       "<polyline clip-path=\"url(#clip012)\" style=\"stroke:#000000; stroke-linecap:round; stroke-linejoin:round; stroke-width:0; stroke-opacity:0.3; fill:none\" points=\"458.392,2925.65 458.392,-1391.96 854.72,-1391.96 854.72,2925.65 458.392,2925.65 \"/>\n",
       "<path clip-path=\"url(#clip012)\" d=\"M862.189 2925.65 L862.189 -1391.96 L869.658 -1391.96 L869.658 2925.65 L862.189 2925.65  Z\" fill=\"#e26f46\" fill-rule=\"evenodd\" fill-opacity=\"0.3\"/>\n",
       "<polyline clip-path=\"url(#clip012)\" style=\"stroke:#000000; stroke-linecap:round; stroke-linejoin:round; stroke-width:0; stroke-opacity:0.3; fill:none\" points=\"862.189,2925.65 862.189,-1391.96 869.658,-1391.96 869.658,2925.65 862.189,2925.65 \"/>\n",
       "<path clip-path=\"url(#clip012)\" d=\"M876.645 2925.65 L876.645 -1391.96 L884.114 -1391.96 L884.114 2925.65 L876.645 2925.65  Z\" fill=\"#e26f46\" fill-rule=\"evenodd\" fill-opacity=\"0.3\"/>\n",
       "<polyline clip-path=\"url(#clip012)\" style=\"stroke:#000000; stroke-linecap:round; stroke-linejoin:round; stroke-width:0; stroke-opacity:0.3; fill:none\" points=\"876.645,2925.65 876.645,-1391.96 884.114,-1391.96 884.114,2925.65 876.645,2925.65 \"/>\n",
       "<path clip-path=\"url(#clip012)\" d=\"M891.341 2925.65 L891.341 -1391.96 L898.569 -1391.96 L898.569 2925.65 L891.341 2925.65  Z\" fill=\"#e26f46\" fill-rule=\"evenodd\" fill-opacity=\"0.3\"/>\n",
       "<polyline clip-path=\"url(#clip012)\" style=\"stroke:#000000; stroke-linecap:round; stroke-linejoin:round; stroke-width:0; stroke-opacity:0.3; fill:none\" points=\"891.341,2925.65 891.341,-1391.96 898.569,-1391.96 898.569,2925.65 891.341,2925.65 \"/>\n",
       "<path clip-path=\"url(#clip012)\" d=\"M906.038 2925.65 L906.038 -1391.96 L913.507 -1391.96 L913.507 2925.65 L906.038 2925.65  Z\" fill=\"#e26f46\" fill-rule=\"evenodd\" fill-opacity=\"0.3\"/>\n",
       "<polyline clip-path=\"url(#clip012)\" style=\"stroke:#000000; stroke-linecap:round; stroke-linejoin:round; stroke-width:0; stroke-opacity:0.3; fill:none\" points=\"906.038,2925.65 906.038,-1391.96 913.507,-1391.96 913.507,2925.65 906.038,2925.65 \"/>\n",
       "<path clip-path=\"url(#clip012)\" d=\"M920.494 2925.65 L920.494 -1391.96 L928.204 -1391.96 L928.204 2925.65 L920.494 2925.65  Z\" fill=\"#e26f46\" fill-rule=\"evenodd\" fill-opacity=\"0.3\"/>\n",
       "<polyline clip-path=\"url(#clip012)\" style=\"stroke:#000000; stroke-linecap:round; stroke-linejoin:round; stroke-width:0; stroke-opacity:0.3; fill:none\" points=\"920.494,2925.65 920.494,-1391.96 928.204,-1391.96 928.204,2925.65 920.494,2925.65 \"/>\n",
       "<path clip-path=\"url(#clip012)\" d=\"M935.672 2925.65 L935.672 -1391.96 L942.418 -1391.96 L942.418 2925.65 L935.672 2925.65  Z\" fill=\"#e26f46\" fill-rule=\"evenodd\" fill-opacity=\"0.3\"/>\n",
       "<polyline clip-path=\"url(#clip012)\" style=\"stroke:#000000; stroke-linecap:round; stroke-linejoin:round; stroke-width:0; stroke-opacity:0.3; fill:none\" points=\"935.672,2925.65 935.672,-1391.96 942.418,-1391.96 942.418,2925.65 935.672,2925.65 \"/>\n",
       "<path clip-path=\"url(#clip012)\" d=\"M950.369 2925.65 L950.369 -1391.96 L957.597 -1391.96 L957.597 2925.65 L950.369 2925.65  Z\" fill=\"#e26f46\" fill-rule=\"evenodd\" fill-opacity=\"0.3\"/>\n",
       "<polyline clip-path=\"url(#clip012)\" style=\"stroke:#000000; stroke-linecap:round; stroke-linejoin:round; stroke-width:0; stroke-opacity:0.3; fill:none\" points=\"950.369,2925.65 950.369,-1391.96 957.597,-1391.96 957.597,2925.65 950.369,2925.65 \"/>\n",
       "<path clip-path=\"url(#clip012)\" d=\"M964.343 2925.65 L964.343 -1391.96 L972.053 -1391.96 L972.053 2925.65 L964.343 2925.65  Z\" fill=\"#e26f46\" fill-rule=\"evenodd\" fill-opacity=\"0.3\"/>\n",
       "<polyline clip-path=\"url(#clip012)\" style=\"stroke:#000000; stroke-linecap:round; stroke-linejoin:round; stroke-width:0; stroke-opacity:0.3; fill:none\" points=\"964.343,2925.65 964.343,-1391.96 972.053,-1391.96 972.053,2925.65 964.343,2925.65 \"/>\n",
       "<path clip-path=\"url(#clip012)\" d=\"M979.281 2925.65 L979.281 -1391.96 L986.268 -1391.96 L986.268 2925.65 L979.281 2925.65  Z\" fill=\"#e26f46\" fill-rule=\"evenodd\" fill-opacity=\"0.3\"/>\n",
       "<polyline clip-path=\"url(#clip012)\" style=\"stroke:#000000; stroke-linecap:round; stroke-linejoin:round; stroke-width:0; stroke-opacity:0.3; fill:none\" points=\"979.281,2925.65 979.281,-1391.96 986.268,-1391.96 986.268,2925.65 979.281,2925.65 \"/>\n",
       "<path clip-path=\"url(#clip012)\" d=\"M993.977 2925.65 L993.977 -1391.96 L1001.45 -1391.96 L1001.45 2925.65 L993.977 2925.65  Z\" fill=\"#e26f46\" fill-rule=\"evenodd\" fill-opacity=\"0.3\"/>\n",
       "<polyline clip-path=\"url(#clip012)\" style=\"stroke:#000000; stroke-linecap:round; stroke-linejoin:round; stroke-width:0; stroke-opacity:0.3; fill:none\" points=\"993.977,2925.65 993.977,-1391.96 1001.45,-1391.96 1001.45,2925.65 993.977,2925.65 \"/>\n",
       "<path clip-path=\"url(#clip012)\" d=\"M1008.91 2925.65 L1008.91 -1391.96 L1016.14 -1391.96 L1016.14 2925.65 L1008.91 2925.65  Z\" fill=\"#e26f46\" fill-rule=\"evenodd\" fill-opacity=\"0.3\"/>\n",
       "<polyline clip-path=\"url(#clip012)\" style=\"stroke:#000000; stroke-linecap:round; stroke-linejoin:round; stroke-width:0; stroke-opacity:0.3; fill:none\" points=\"1008.91,2925.65 1008.91,-1391.96 1016.14,-1391.96 1016.14,2925.65 1008.91,2925.65 \"/>\n",
       "<path clip-path=\"url(#clip012)\" d=\"M1023.37 2925.65 L1023.37 -1391.96 L1030.84 -1391.96 L1030.84 2925.65 L1023.37 2925.65  Z\" fill=\"#e26f46\" fill-rule=\"evenodd\" fill-opacity=\"0.3\"/>\n",
       "<polyline clip-path=\"url(#clip012)\" style=\"stroke:#000000; stroke-linecap:round; stroke-linejoin:round; stroke-width:0; stroke-opacity:0.3; fill:none\" points=\"1023.37,2925.65 1023.37,-1391.96 1030.84,-1391.96 1030.84,2925.65 1023.37,2925.65 \"/>\n",
       "<path clip-path=\"url(#clip012)\" d=\"M1038.31 2925.65 L1038.31 -1391.96 L1045.3 -1391.96 L1045.3 2925.65 L1038.31 2925.65  Z\" fill=\"#e26f46\" fill-rule=\"evenodd\" fill-opacity=\"0.3\"/>\n",
       "<polyline clip-path=\"url(#clip012)\" style=\"stroke:#000000; stroke-linecap:round; stroke-linejoin:round; stroke-width:0; stroke-opacity:0.3; fill:none\" points=\"1038.31,2925.65 1038.31,-1391.96 1045.3,-1391.96 1045.3,2925.65 1038.31,2925.65 \"/>\n",
       "<path clip-path=\"url(#clip012)\" d=\"M1052.04 2925.65 L1052.04 -1391.96 L1059.99 -1391.96 L1059.99 2925.65 L1052.04 2925.65  Z\" fill=\"#e26f46\" fill-rule=\"evenodd\" fill-opacity=\"0.3\"/>\n",
       "<polyline clip-path=\"url(#clip012)\" style=\"stroke:#000000; stroke-linecap:round; stroke-linejoin:round; stroke-width:0; stroke-opacity:0.3; fill:none\" points=\"1052.04,2925.65 1052.04,-1391.96 1059.99,-1391.96 1059.99,2925.65 1052.04,2925.65 \"/>\n",
       "<path clip-path=\"url(#clip012)\" d=\"M1067.22 2925.65 L1067.22 -1391.96 L1074.69 -1391.96 L1074.69 2925.65 L1067.22 2925.65  Z\" fill=\"#e26f46\" fill-rule=\"evenodd\" fill-opacity=\"0.3\"/>\n",
       "<polyline clip-path=\"url(#clip012)\" style=\"stroke:#000000; stroke-linecap:round; stroke-linejoin:round; stroke-width:0; stroke-opacity:0.3; fill:none\" points=\"1067.22,2925.65 1067.22,-1391.96 1074.69,-1391.96 1074.69,2925.65 1067.22,2925.65 \"/>\n",
       "<path clip-path=\"url(#clip012)\" d=\"M1081.92 2925.65 L1081.92 -1391.96 L1089.14 -1391.96 L1089.14 2925.65 L1081.92 2925.65  Z\" fill=\"#e26f46\" fill-rule=\"evenodd\" fill-opacity=\"0.3\"/>\n",
       "<polyline clip-path=\"url(#clip012)\" style=\"stroke:#000000; stroke-linecap:round; stroke-linejoin:round; stroke-width:0; stroke-opacity:0.3; fill:none\" points=\"1081.92,2925.65 1081.92,-1391.96 1089.14,-1391.96 1089.14,2925.65 1081.92,2925.65 \"/>\n",
       "<path clip-path=\"url(#clip012)\" d=\"M1096.85 2925.65 L1096.85 -1391.96 L1104.08 -1391.96 L1104.08 2925.65 L1096.85 2925.65  Z\" fill=\"#e26f46\" fill-rule=\"evenodd\" fill-opacity=\"0.3\"/>\n",
       "<polyline clip-path=\"url(#clip012)\" style=\"stroke:#000000; stroke-linecap:round; stroke-linejoin:round; stroke-width:0; stroke-opacity:0.3; fill:none\" points=\"1096.85,2925.65 1096.85,-1391.96 1104.08,-1391.96 1104.08,2925.65 1096.85,2925.65 \"/>\n",
       "<path clip-path=\"url(#clip012)\" d=\"M1111.07 2925.65 L1111.07 -1391.96 L1118.78 -1391.96 L1118.78 2925.65 L1111.07 2925.65  Z\" fill=\"#e26f46\" fill-rule=\"evenodd\" fill-opacity=\"0.3\"/>\n",
       "<polyline clip-path=\"url(#clip012)\" style=\"stroke:#000000; stroke-linecap:round; stroke-linejoin:round; stroke-width:0; stroke-opacity:0.3; fill:none\" points=\"1111.07,2925.65 1111.07,-1391.96 1118.78,-1391.96 1118.78,2925.65 1111.07,2925.65 \"/>\n",
       "<path clip-path=\"url(#clip012)\" d=\"M1126.25 2925.65 L1126.25 -1391.96 L1133.72 -1391.96 L1133.72 2925.65 L1126.25 2925.65  Z\" fill=\"#e26f46\" fill-rule=\"evenodd\" fill-opacity=\"0.3\"/>\n",
       "<polyline clip-path=\"url(#clip012)\" style=\"stroke:#000000; stroke-linecap:round; stroke-linejoin:round; stroke-width:0; stroke-opacity:0.3; fill:none\" points=\"1126.25,2925.65 1126.25,-1391.96 1133.72,-1391.96 1133.72,2925.65 1126.25,2925.65 \"/>\n",
       "<path clip-path=\"url(#clip012)\" d=\"M1140.46 2925.65 L1140.46 -1391.96 L1147.93 -1391.96 L1147.93 2925.65 L1140.46 2925.65  Z\" fill=\"#e26f46\" fill-rule=\"evenodd\" fill-opacity=\"0.3\"/>\n",
       "<polyline clip-path=\"url(#clip012)\" style=\"stroke:#000000; stroke-linecap:round; stroke-linejoin:round; stroke-width:0; stroke-opacity:0.3; fill:none\" points=\"1140.46,2925.65 1140.46,-1391.96 1147.93,-1391.96 1147.93,2925.65 1140.46,2925.65 \"/>\n",
       "<path clip-path=\"url(#clip012)\" d=\"M1154.92 2925.65 L1154.92 -1391.96 L1162.63 -1391.96 L1162.63 2925.65 L1154.92 2925.65  Z\" fill=\"#e26f46\" fill-rule=\"evenodd\" fill-opacity=\"0.3\"/>\n",
       "<polyline clip-path=\"url(#clip012)\" style=\"stroke:#000000; stroke-linecap:round; stroke-linejoin:round; stroke-width:0; stroke-opacity:0.3; fill:none\" points=\"1154.92,2925.65 1154.92,-1391.96 1162.63,-1391.96 1162.63,2925.65 1154.92,2925.65 \"/>\n",
       "<path clip-path=\"url(#clip012)\" d=\"M1169.86 2925.65 L1169.86 -1391.96 L1176.84 -1391.96 L1176.84 2925.65 L1169.86 2925.65  Z\" fill=\"#e26f46\" fill-rule=\"evenodd\" fill-opacity=\"0.3\"/>\n",
       "<polyline clip-path=\"url(#clip012)\" style=\"stroke:#000000; stroke-linecap:round; stroke-linejoin:round; stroke-width:0; stroke-opacity:0.3; fill:none\" points=\"1169.86,2925.65 1169.86,-1391.96 1176.84,-1391.96 1176.84,2925.65 1169.86,2925.65 \"/>\n",
       "<path clip-path=\"url(#clip012)\" d=\"M1184.79 2925.65 L1184.79 -1391.96 L1192.02 -1391.96 L1192.02 2925.65 L1184.79 2925.65  Z\" fill=\"#e26f46\" fill-rule=\"evenodd\" fill-opacity=\"0.3\"/>\n",
       "<polyline clip-path=\"url(#clip012)\" style=\"stroke:#000000; stroke-linecap:round; stroke-linejoin:round; stroke-width:0; stroke-opacity:0.3; fill:none\" points=\"1184.79,2925.65 1184.79,-1391.96 1192.02,-1391.96 1192.02,2925.65 1184.79,2925.65 \"/>\n",
       "<path clip-path=\"url(#clip012)\" d=\"M1199.49 2925.65 L1199.49 -1391.96 L1206.72 -1391.96 L1206.72 2925.65 L1199.49 2925.65  Z\" fill=\"#e26f46\" fill-rule=\"evenodd\" fill-opacity=\"0.3\"/>\n",
       "<polyline clip-path=\"url(#clip012)\" style=\"stroke:#000000; stroke-linecap:round; stroke-linejoin:round; stroke-width:0; stroke-opacity:0.3; fill:none\" points=\"1199.49,2925.65 1199.49,-1391.96 1206.72,-1391.96 1206.72,2925.65 1199.49,2925.65 \"/>\n",
       "<path clip-path=\"url(#clip012)\" d=\"M1213.95 2925.65 L1213.95 -1391.96 L1221.66 -1391.96 L1221.66 2925.65 L1213.95 2925.65  Z\" fill=\"#e26f46\" fill-rule=\"evenodd\" fill-opacity=\"0.3\"/>\n",
       "<polyline clip-path=\"url(#clip012)\" style=\"stroke:#000000; stroke-linecap:round; stroke-linejoin:round; stroke-width:0; stroke-opacity:0.3; fill:none\" points=\"1213.95,2925.65 1213.95,-1391.96 1221.66,-1391.96 1221.66,2925.65 1213.95,2925.65 \"/>\n",
       "<path clip-path=\"url(#clip012)\" d=\"M1228.64 2925.65 L1228.64 -1391.96 L1235.87 -1391.96 L1235.87 2925.65 L1228.64 2925.65  Z\" fill=\"#e26f46\" fill-rule=\"evenodd\" fill-opacity=\"0.3\"/>\n",
       "<polyline clip-path=\"url(#clip012)\" style=\"stroke:#000000; stroke-linecap:round; stroke-linejoin:round; stroke-width:0; stroke-opacity:0.3; fill:none\" points=\"1228.64,2925.65 1228.64,-1391.96 1235.87,-1391.96 1235.87,2925.65 1228.64,2925.65 \"/>\n",
       "<path clip-path=\"url(#clip012)\" d=\"M1243.34 2925.65 L1243.34 -1391.96 L1250.81 -1391.96 L1250.81 2925.65 L1243.34 2925.65  Z\" fill=\"#e26f46\" fill-rule=\"evenodd\" fill-opacity=\"0.3\"/>\n",
       "<polyline clip-path=\"url(#clip012)\" style=\"stroke:#000000; stroke-linecap:round; stroke-linejoin:round; stroke-width:0; stroke-opacity:0.3; fill:none\" points=\"1243.34,2925.65 1243.34,-1391.96 1250.81,-1391.96 1250.81,2925.65 1243.34,2925.65 \"/>\n",
       "<path clip-path=\"url(#clip012)\" d=\"M1536.79 2925.65 L1536.79 -1391.96 L1544.02 -1391.96 L1544.02 2925.65 L1536.79 2925.65  Z\" fill=\"#e26f46\" fill-rule=\"evenodd\" fill-opacity=\"0.3\"/>\n",
       "<polyline clip-path=\"url(#clip012)\" style=\"stroke:#000000; stroke-linecap:round; stroke-linejoin:round; stroke-width:0; stroke-opacity:0.3; fill:none\" points=\"1536.79,2925.65 1536.79,-1391.96 1544.02,-1391.96 1544.02,2925.65 1536.79,2925.65 \"/>\n",
       "<path clip-path=\"url(#clip012)\" d=\"M1551.25 2925.65 L1551.25 -1391.96 L1558.72 -1391.96 L1558.72 2925.65 L1551.25 2925.65  Z\" fill=\"#e26f46\" fill-rule=\"evenodd\" fill-opacity=\"0.3\"/>\n",
       "<polyline clip-path=\"url(#clip012)\" style=\"stroke:#000000; stroke-linecap:round; stroke-linejoin:round; stroke-width:0; stroke-opacity:0.3; fill:none\" points=\"1551.25,2925.65 1551.25,-1391.96 1558.72,-1391.96 1558.72,2925.65 1551.25,2925.65 \"/>\n",
       "<path clip-path=\"url(#clip012)\" d=\"M1566.18 2925.65 L1566.18 -1391.96 L1573.17 -1391.96 L1573.17 2925.65 L1566.18 2925.65  Z\" fill=\"#e26f46\" fill-rule=\"evenodd\" fill-opacity=\"0.3\"/>\n",
       "<polyline clip-path=\"url(#clip012)\" style=\"stroke:#000000; stroke-linecap:round; stroke-linejoin:round; stroke-width:0; stroke-opacity:0.3; fill:none\" points=\"1566.18,2925.65 1566.18,-1391.96 1573.17,-1391.96 1573.17,2925.65 1566.18,2925.65 \"/>\n",
       "<path clip-path=\"url(#clip012)\" d=\"M1580.64 2925.65 L1580.64 -1391.96 L1588.11 -1391.96 L1588.11 2925.65 L1580.64 2925.65  Z\" fill=\"#e26f46\" fill-rule=\"evenodd\" fill-opacity=\"0.3\"/>\n",
       "<polyline clip-path=\"url(#clip012)\" style=\"stroke:#000000; stroke-linecap:round; stroke-linejoin:round; stroke-width:0; stroke-opacity:0.3; fill:none\" points=\"1580.64,2925.65 1580.64,-1391.96 1588.11,-1391.96 1588.11,2925.65 1580.64,2925.65 \"/>\n",
       "<path clip-path=\"url(#clip012)\" d=\"M1815.55 2925.65 L1815.55 -1391.96 L1822.77 -1391.96 L1822.77 2925.65 L1815.55 2925.65  Z\" fill=\"#e26f46\" fill-rule=\"evenodd\" fill-opacity=\"0.3\"/>\n",
       "<polyline clip-path=\"url(#clip012)\" style=\"stroke:#000000; stroke-linecap:round; stroke-linejoin:round; stroke-width:0; stroke-opacity:0.3; fill:none\" points=\"1815.55,2925.65 1815.55,-1391.96 1822.77,-1391.96 1822.77,2925.65 1815.55,2925.65 \"/>\n",
       "<path clip-path=\"url(#clip012)\" d=\"M1830.24 2925.65 L1830.24 -1391.96 L1837.71 -1391.96 L1837.71 2925.65 L1830.24 2925.65  Z\" fill=\"#e26f46\" fill-rule=\"evenodd\" fill-opacity=\"0.3\"/>\n",
       "<polyline clip-path=\"url(#clip012)\" style=\"stroke:#000000; stroke-linecap:round; stroke-linejoin:round; stroke-width:0; stroke-opacity:0.3; fill:none\" points=\"1830.24,2925.65 1830.24,-1391.96 1837.71,-1391.96 1837.71,2925.65 1830.24,2925.65 \"/>\n",
       "<path clip-path=\"url(#clip012)\" d=\"M1844.46 2925.65 L1844.46 -1391.96 L1851.44 -1391.96 L1851.44 2925.65 L1844.46 2925.65  Z\" fill=\"#e26f46\" fill-rule=\"evenodd\" fill-opacity=\"0.3\"/>\n",
       "<polyline clip-path=\"url(#clip012)\" style=\"stroke:#000000; stroke-linecap:round; stroke-linejoin:round; stroke-width:0; stroke-opacity:0.3; fill:none\" points=\"1844.46,2925.65 1844.46,-1391.96 1851.44,-1391.96 1851.44,2925.65 1844.46,2925.65 \"/>\n",
       "<path clip-path=\"url(#clip012)\" d=\"M1859.15 2925.65 L1859.15 -1391.96 L1866.62 -1391.96 L1866.62 2925.65 L1859.15 2925.65  Z\" fill=\"#e26f46\" fill-rule=\"evenodd\" fill-opacity=\"0.3\"/>\n",
       "<polyline clip-path=\"url(#clip012)\" style=\"stroke:#000000; stroke-linecap:round; stroke-linejoin:round; stroke-width:0; stroke-opacity:0.3; fill:none\" points=\"1859.15,2925.65 1859.15,-1391.96 1866.62,-1391.96 1866.62,2925.65 1859.15,2925.65 \"/>\n",
       "<path clip-path=\"url(#clip012)\" d=\"M1873.37 2925.65 L1873.37 -1391.96 L1881.32 -1391.96 L1881.32 2925.65 L1873.37 2925.65  Z\" fill=\"#e26f46\" fill-rule=\"evenodd\" fill-opacity=\"0.3\"/>\n",
       "<polyline clip-path=\"url(#clip012)\" style=\"stroke:#000000; stroke-linecap:round; stroke-linejoin:round; stroke-width:0; stroke-opacity:0.3; fill:none\" points=\"1873.37,2925.65 1873.37,-1391.96 1881.32,-1391.96 1881.32,2925.65 1873.37,2925.65 \"/>\n",
       "<path clip-path=\"url(#clip012)\" d=\"M1888.55 2925.65 L1888.55 -1391.96 L1896.02 -1391.96 L1896.02 2925.65 L1888.55 2925.65  Z\" fill=\"#e26f46\" fill-rule=\"evenodd\" fill-opacity=\"0.3\"/>\n",
       "<polyline clip-path=\"url(#clip012)\" style=\"stroke:#000000; stroke-linecap:round; stroke-linejoin:round; stroke-width:0; stroke-opacity:0.3; fill:none\" points=\"1888.55,2925.65 1888.55,-1391.96 1896.02,-1391.96 1896.02,2925.65 1888.55,2925.65 \"/>\n",
       "<path clip-path=\"url(#clip012)\" d=\"M1903.49 2925.65 L1903.49 -1391.96 L1910.47 -1391.96 L1910.47 2925.65 L1903.49 2925.65  Z\" fill=\"#e26f46\" fill-rule=\"evenodd\" fill-opacity=\"0.3\"/>\n",
       "<polyline clip-path=\"url(#clip012)\" style=\"stroke:#000000; stroke-linecap:round; stroke-linejoin:round; stroke-width:0; stroke-opacity:0.3; fill:none\" points=\"1903.49,2925.65 1903.49,-1391.96 1910.47,-1391.96 1910.47,2925.65 1903.49,2925.65 \"/>\n",
       "<path clip-path=\"url(#clip012)\" d=\"M1918.18 2925.65 L1918.18 -1391.96 L1925.65 -1391.96 L1925.65 2925.65 L1918.18 2925.65  Z\" fill=\"#e26f46\" fill-rule=\"evenodd\" fill-opacity=\"0.3\"/>\n",
       "<polyline clip-path=\"url(#clip012)\" style=\"stroke:#000000; stroke-linecap:round; stroke-linejoin:round; stroke-width:0; stroke-opacity:0.3; fill:none\" points=\"1918.18,2925.65 1918.18,-1391.96 1925.65,-1391.96 1925.65,2925.65 1918.18,2925.65 \"/>\n",
       "<path clip-path=\"url(#clip012)\" d=\"M1932.4 2925.65 L1932.4 -1391.96 L1940.11 -1391.96 L1940.11 2925.65 L1932.4 2925.65  Z\" fill=\"#e26f46\" fill-rule=\"evenodd\" fill-opacity=\"0.3\"/>\n",
       "<polyline clip-path=\"url(#clip012)\" style=\"stroke:#000000; stroke-linecap:round; stroke-linejoin:round; stroke-width:0; stroke-opacity:0.3; fill:none\" points=\"1932.4,2925.65 1932.4,-1391.96 1940.11,-1391.96 1940.11,2925.65 1932.4,2925.65 \"/>\n",
       "<path clip-path=\"url(#clip012)\" d=\"M1947.33 2925.65 L1947.33 -1391.96 L1954.32 -1391.96 L1954.32 2925.65 L1947.33 2925.65  Z\" fill=\"#e26f46\" fill-rule=\"evenodd\" fill-opacity=\"0.3\"/>\n",
       "<polyline clip-path=\"url(#clip012)\" style=\"stroke:#000000; stroke-linecap:round; stroke-linejoin:round; stroke-width:0; stroke-opacity:0.3; fill:none\" points=\"1947.33,2925.65 1947.33,-1391.96 1954.32,-1391.96 1954.32,2925.65 1947.33,2925.65 \"/>\n",
       "<path clip-path=\"url(#clip012)\" d=\"M1962.03 2925.65 L1962.03 -1391.96 L1969.5 -1391.96 L1969.5 2925.65 L1962.03 2925.65  Z\" fill=\"#e26f46\" fill-rule=\"evenodd\" fill-opacity=\"0.3\"/>\n",
       "<polyline clip-path=\"url(#clip012)\" style=\"stroke:#000000; stroke-linecap:round; stroke-linejoin:round; stroke-width:0; stroke-opacity:0.3; fill:none\" points=\"1962.03,2925.65 1962.03,-1391.96 1969.5,-1391.96 1969.5,2925.65 1962.03,2925.65 \"/>\n",
       "<path clip-path=\"url(#clip012)\" d=\"M1976.97 2925.65 L1976.97 -1391.96 L1984.2 -1391.96 L1984.2 2925.65 L1976.97 2925.65  Z\" fill=\"#e26f46\" fill-rule=\"evenodd\" fill-opacity=\"0.3\"/>\n",
       "<polyline clip-path=\"url(#clip012)\" style=\"stroke:#000000; stroke-linecap:round; stroke-linejoin:round; stroke-width:0; stroke-opacity:0.3; fill:none\" points=\"1976.97,2925.65 1976.97,-1391.96 1984.2,-1391.96 1984.2,2925.65 1976.97,2925.65 \"/>\n",
       "<path clip-path=\"url(#clip012)\" d=\"M1991.42 2925.65 L1991.42 -1391.96 L1998.89 -1391.96 L1998.89 2925.65 L1991.42 2925.65  Z\" fill=\"#e26f46\" fill-rule=\"evenodd\" fill-opacity=\"0.3\"/>\n",
       "<polyline clip-path=\"url(#clip012)\" style=\"stroke:#000000; stroke-linecap:round; stroke-linejoin:round; stroke-width:0; stroke-opacity:0.3; fill:none\" points=\"1991.42,2925.65 1991.42,-1391.96 1998.89,-1391.96 1998.89,2925.65 1991.42,2925.65 \"/>\n",
       "<path clip-path=\"url(#clip012)\" d=\"M2072.14 2925.65 L2072.14 -1391.96 L2079.12 -1391.96 L2079.12 2925.65 L2072.14 2925.65  Z\" fill=\"#e26f46\" fill-rule=\"evenodd\" fill-opacity=\"0.3\"/>\n",
       "<polyline clip-path=\"url(#clip012)\" style=\"stroke:#000000; stroke-linecap:round; stroke-linejoin:round; stroke-width:0; stroke-opacity:0.3; fill:none\" points=\"2072.14,2925.65 2072.14,-1391.96 2079.12,-1391.96 2079.12,2925.65 2072.14,2925.65 \"/>\n",
       "<path clip-path=\"url(#clip012)\" d=\"M2086.83 2925.65 L2086.83 -1391.96 L2094.3 -1391.96 L2094.3 2925.65 L2086.83 2925.65  Z\" fill=\"#e26f46\" fill-rule=\"evenodd\" fill-opacity=\"0.3\"/>\n",
       "<polyline clip-path=\"url(#clip012)\" style=\"stroke:#000000; stroke-linecap:round; stroke-linejoin:round; stroke-width:0; stroke-opacity:0.3; fill:none\" points=\"2086.83,2925.65 2086.83,-1391.96 2094.3,-1391.96 2094.3,2925.65 2086.83,2925.65 \"/>\n",
       "<path clip-path=\"url(#clip012)\" d=\"M2101.77 2925.65 L2101.77 -1391.96 L2108.52 -1391.96 L2108.52 2925.65 L2101.77 2925.65  Z\" fill=\"#e26f46\" fill-rule=\"evenodd\" fill-opacity=\"0.3\"/>\n",
       "<polyline clip-path=\"url(#clip012)\" style=\"stroke:#000000; stroke-linecap:round; stroke-linejoin:round; stroke-width:0; stroke-opacity:0.3; fill:none\" points=\"2101.77,2925.65 2101.77,-1391.96 2108.52,-1391.96 2108.52,2925.65 2101.77,2925.65 \"/>\n",
       "<path clip-path=\"url(#clip012)\" d=\"M2115.99 2925.65 L2115.99 -1391.96 L2122.97 -1391.96 L2122.97 2925.65 L2115.99 2925.65  Z\" fill=\"#e26f46\" fill-rule=\"evenodd\" fill-opacity=\"0.3\"/>\n",
       "<polyline clip-path=\"url(#clip012)\" style=\"stroke:#000000; stroke-linecap:round; stroke-linejoin:round; stroke-width:0; stroke-opacity:0.3; fill:none\" points=\"2115.99,2925.65 2115.99,-1391.96 2122.97,-1391.96 2122.97,2925.65 2115.99,2925.65 \"/>\n",
       "<path clip-path=\"url(#clip012)\" d=\"M2130.68 2925.65 L2130.68 -1391.96 L2137.91 -1391.96 L2137.91 2925.65 L2130.68 2925.65  Z\" fill=\"#e26f46\" fill-rule=\"evenodd\" fill-opacity=\"0.3\"/>\n",
       "<polyline clip-path=\"url(#clip012)\" style=\"stroke:#000000; stroke-linecap:round; stroke-linejoin:round; stroke-width:0; stroke-opacity:0.3; fill:none\" points=\"2130.68,2925.65 2130.68,-1391.96 2137.91,-1391.96 2137.91,2925.65 2130.68,2925.65 \"/>\n",
       "<path clip-path=\"url(#clip012)\" d=\"M2144.9 2925.65 L2144.9 -1391.96 L2152.85 -1391.96 L2152.85 2925.65 L2144.9 2925.65  Z\" fill=\"#e26f46\" fill-rule=\"evenodd\" fill-opacity=\"0.3\"/>\n",
       "<polyline clip-path=\"url(#clip012)\" style=\"stroke:#000000; stroke-linecap:round; stroke-linejoin:round; stroke-width:0; stroke-opacity:0.3; fill:none\" points=\"2144.9,2925.65 2144.9,-1391.96 2152.85,-1391.96 2152.85,2925.65 2144.9,2925.65 \"/>\n",
       "<path clip-path=\"url(#clip012)\" d=\"M2160.08 2925.65 L2160.08 -1391.96 L2167.54 -1391.96 L2167.54 2925.65 L2160.08 2925.65  Z\" fill=\"#e26f46\" fill-rule=\"evenodd\" fill-opacity=\"0.3\"/>\n",
       "<polyline clip-path=\"url(#clip012)\" style=\"stroke:#000000; stroke-linecap:round; stroke-linejoin:round; stroke-width:0; stroke-opacity:0.3; fill:none\" points=\"2160.08,2925.65 2160.08,-1391.96 2167.54,-1391.96 2167.54,2925.65 2160.08,2925.65 \"/>\n",
       "<path clip-path=\"url(#clip012)\" d=\"M2174.77 2925.65 L2174.77 -1391.96 L2182 -1391.96 L2182 2925.65 L2174.77 2925.65  Z\" fill=\"#e26f46\" fill-rule=\"evenodd\" fill-opacity=\"0.3\"/>\n",
       "<polyline clip-path=\"url(#clip012)\" style=\"stroke:#000000; stroke-linecap:round; stroke-linejoin:round; stroke-width:0; stroke-opacity:0.3; fill:none\" points=\"2174.77,2925.65 2174.77,-1391.96 2182,-1391.96 2182,2925.65 2174.77,2925.65 \"/>\n",
       "<path clip-path=\"url(#clip012)\" d=\"M2189.71 2925.65 L2189.71 -1391.96 L2196.46 -1391.96 L2196.46 2925.65 L2189.71 2925.65  Z\" fill=\"#e26f46\" fill-rule=\"evenodd\" fill-opacity=\"0.3\"/>\n",
       "<polyline clip-path=\"url(#clip012)\" style=\"stroke:#000000; stroke-linecap:round; stroke-linejoin:round; stroke-width:0; stroke-opacity:0.3; fill:none\" points=\"2189.71,2925.65 2189.71,-1391.96 2196.46,-1391.96 2196.46,2925.65 2189.71,2925.65 \"/>\n",
       "<path clip-path=\"url(#clip012)\" d=\"M2203.92 2925.65 L2203.92 -1391.96 L2210.67 -1391.96 L2210.67 2925.65 L2203.92 2925.65  Z\" fill=\"#e26f46\" fill-rule=\"evenodd\" fill-opacity=\"0.3\"/>\n",
       "<polyline clip-path=\"url(#clip012)\" style=\"stroke:#000000; stroke-linecap:round; stroke-linejoin:round; stroke-width:0; stroke-opacity:0.3; fill:none\" points=\"2203.92,2925.65 2203.92,-1391.96 2210.67,-1391.96 2210.67,2925.65 2203.92,2925.65 \"/>\n",
       "<path clip-path=\"url(#clip012)\" d=\"M2218.62 2925.65 L2218.62 -1391.96 L2225.85 -1391.96 L2225.85 2925.65 L2218.62 2925.65  Z\" fill=\"#e26f46\" fill-rule=\"evenodd\" fill-opacity=\"0.3\"/>\n",
       "<polyline clip-path=\"url(#clip012)\" style=\"stroke:#000000; stroke-linecap:round; stroke-linejoin:round; stroke-width:0; stroke-opacity:0.3; fill:none\" points=\"2218.62,2925.65 2218.62,-1391.96 2225.85,-1391.96 2225.85,2925.65 2218.62,2925.65 \"/>\n",
       "<path clip-path=\"url(#clip012)\" d=\"M2233.32 2925.65 L2233.32 -1391.96 L2240.79 -1391.96 L2240.79 2925.65 L2233.32 2925.65  Z\" fill=\"#e26f46\" fill-rule=\"evenodd\" fill-opacity=\"0.3\"/>\n",
       "<polyline clip-path=\"url(#clip012)\" style=\"stroke:#000000; stroke-linecap:round; stroke-linejoin:round; stroke-width:0; stroke-opacity:0.3; fill:none\" points=\"2233.32,2925.65 2233.32,-1391.96 2240.79,-1391.96 2240.79,2925.65 2233.32,2925.65 \"/>\n",
       "<path clip-path=\"url(#clip012)\" d=\"M2247.77 2925.65 L2247.77 -1391.96 L2255.48 -1391.96 L2255.48 2925.65 L2247.77 2925.65  Z\" fill=\"#e26f46\" fill-rule=\"evenodd\" fill-opacity=\"0.3\"/>\n",
       "<polyline clip-path=\"url(#clip012)\" style=\"stroke:#000000; stroke-linecap:round; stroke-linejoin:round; stroke-width:0; stroke-opacity:0.3; fill:none\" points=\"2247.77,2925.65 2247.77,-1391.96 2255.48,-1391.96 2255.48,2925.65 2247.77,2925.65 \"/>\n",
       "<path clip-path=\"url(#clip012)\" d=\"M2262.71 2925.65 L2262.71 -1391.96 L2269.7 -1391.96 L2269.7 2925.65 L2262.71 2925.65  Z\" fill=\"#e26f46\" fill-rule=\"evenodd\" fill-opacity=\"0.3\"/>\n",
       "<polyline clip-path=\"url(#clip012)\" style=\"stroke:#000000; stroke-linecap:round; stroke-linejoin:round; stroke-width:0; stroke-opacity:0.3; fill:none\" points=\"2262.71,2925.65 2262.71,-1391.96 2269.7,-1391.96 2269.7,2925.65 2262.71,2925.65 \"/>\n",
       "<path clip-path=\"url(#clip012)\" d=\"M2277.65 2925.65 L2277.65 -1391.96 L2284.64 -1391.96 L2284.64 2925.65 L2277.65 2925.65  Z\" fill=\"#e26f46\" fill-rule=\"evenodd\" fill-opacity=\"0.3\"/>\n",
       "<polyline clip-path=\"url(#clip012)\" style=\"stroke:#000000; stroke-linecap:round; stroke-linejoin:round; stroke-width:0; stroke-opacity:0.3; fill:none\" points=\"2277.65,2925.65 2277.65,-1391.96 2284.64,-1391.96 2284.64,2925.65 2277.65,2925.65 \"/>\n",
       "<path clip-path=\"url(#clip010)\" d=\"M264.711 1438.47 L711.686 1438.47 L711.686 1282.95 L264.711 1282.95  Z\" fill=\"#ffffff\" fill-rule=\"evenodd\" fill-opacity=\"1\"/>\n",
       "<polyline clip-path=\"url(#clip010)\" style=\"stroke:#000000; stroke-linecap:round; stroke-linejoin:round; stroke-width:4; stroke-opacity:1; fill:none\" points=\"264.711,1438.47 711.686,1438.47 711.686,1282.95 264.711,1282.95 264.711,1438.47 \"/>\n",
       "<polyline clip-path=\"url(#clip010)\" style=\"stroke:#009af9; stroke-linecap:round; stroke-linejoin:round; stroke-width:4; stroke-opacity:1; fill:none\" points=\"288.711,1334.79 432.714,1334.79 \"/>\n",
       "<path clip-path=\"url(#clip010)\" d=\"M472.548 1322.12 L466.206 1339.32 L478.914 1339.32 L472.548 1322.12 M469.909 1317.51 L475.21 1317.51 L488.381 1352.07 L483.52 1352.07 L480.372 1343.21 L464.794 1343.21 L461.645 1352.07 L456.715 1352.07 L469.909 1317.51 Z\" fill=\"#000000\" fill-rule=\"nonzero\" fill-opacity=\"1\" /><path clip-path=\"url(#clip010)\" d=\"M518.474 1320.18 L518.474 1325.11 Q516.113 1322.91 513.428 1321.82 Q510.766 1320.73 507.756 1320.73 Q501.83 1320.73 498.682 1324.37 Q495.534 1327.98 495.534 1334.83 Q495.534 1341.66 498.682 1345.29 Q501.83 1348.9 507.756 1348.9 Q510.766 1348.9 513.428 1347.82 Q516.113 1346.73 518.474 1344.53 L518.474 1349.41 Q516.02 1351.08 513.265 1351.91 Q510.534 1352.75 507.478 1352.75 Q499.631 1352.75 495.117 1347.95 Q490.604 1343.14 490.604 1334.83 Q490.604 1326.5 495.117 1321.7 Q499.631 1316.89 507.478 1316.89 Q510.58 1316.89 513.312 1317.72 Q516.066 1318.53 518.474 1320.18 Z\" fill=\"#000000\" fill-rule=\"nonzero\" fill-opacity=\"1\" /><path clip-path=\"url(#clip010)\" d=\"M522.617 1317.51 L527.339 1317.51 L534.608 1346.73 L541.853 1317.51 L547.108 1317.51 L554.376 1346.73 L561.622 1317.51 L566.367 1317.51 L557.687 1352.07 L551.807 1352.07 L544.515 1322.07 L537.154 1352.07 L531.275 1352.07 L522.617 1317.51 Z\" fill=\"#000000\" fill-rule=\"nonzero\" fill-opacity=\"1\" /><path clip-path=\"url(#clip010)\" d=\"M572.571 1317.51 L577.247 1317.51 L577.247 1352.07 L572.571 1352.07 L572.571 1317.51 Z\" fill=\"#000000\" fill-rule=\"nonzero\" fill-opacity=\"1\" /><path clip-path=\"url(#clip010)\" d=\"M606.066 1359.94 L606.066 1363.25 L581.436 1363.25 L581.436 1359.94 L606.066 1359.94 Z\" fill=\"#000000\" fill-rule=\"nonzero\" fill-opacity=\"1\" /><path clip-path=\"url(#clip010)\" d=\"M610.256 1317.51 L616.552 1317.51 L631.876 1346.43 L631.876 1317.51 L636.413 1317.51 L636.413 1352.07 L630.117 1352.07 L614.793 1323.16 L614.793 1352.07 L610.256 1352.07 L610.256 1317.51 Z\" fill=\"#000000\" fill-rule=\"nonzero\" fill-opacity=\"1\" /><path clip-path=\"url(#clip010)\" d=\"M667.709 1338.05 L667.709 1340.13 L648.126 1340.13 Q648.404 1344.53 650.765 1346.84 Q653.149 1349.13 657.385 1349.13 Q659.839 1349.13 662.13 1348.53 Q664.445 1347.93 666.714 1346.73 L666.714 1350.75 Q664.422 1351.73 662.015 1352.24 Q659.607 1352.75 657.13 1352.75 Q650.927 1352.75 647.293 1349.13 Q643.681 1345.52 643.681 1339.37 Q643.681 1333 647.107 1329.27 Q650.556 1325.52 656.39 1325.52 Q661.621 1325.52 664.654 1328.9 Q667.709 1332.26 667.709 1338.05 M663.45 1336.8 Q663.404 1333.3 661.482 1331.22 Q659.584 1329.13 656.436 1329.13 Q652.871 1329.13 650.718 1331.15 Q648.589 1333.16 648.265 1336.82 L663.45 1336.8 Z\" fill=\"#000000\" fill-rule=\"nonzero\" fill-opacity=\"1\" /><path clip-path=\"url(#clip010)\" d=\"M678.913 1318.79 L678.913 1326.15 L687.686 1326.15 L687.686 1329.46 L678.913 1329.46 L678.913 1343.53 Q678.913 1346.7 679.769 1347.61 Q680.649 1348.51 683.311 1348.51 L687.686 1348.51 L687.686 1352.07 L683.311 1352.07 Q678.38 1352.07 676.505 1350.25 Q674.63 1348.39 674.63 1343.53 L674.63 1329.46 L671.505 1329.46 L671.505 1326.15 L674.63 1326.15 L674.63 1318.79 L678.913 1318.79 Z\" fill=\"#000000\" fill-rule=\"nonzero\" fill-opacity=\"1\" /><path clip-path=\"url(#clip010)\" d=\"M288.711 1407.37 L432.714 1407.37 L432.714 1365.9 L288.711 1365.9 L288.711 1407.37  Z\" fill=\"#e26f46\" fill-rule=\"evenodd\" fill-opacity=\"0.3\"/>\n",
       "<polyline clip-path=\"url(#clip010)\" style=\"stroke:#000000; stroke-linecap:round; stroke-linejoin:round; stroke-width:0.8; stroke-opacity:1; fill:none\" points=\"288.711,1407.37 432.714,1407.37 432.714,1365.9 288.711,1365.9 288.711,1407.37 \"/>\n",
       "<path clip-path=\"url(#clip010)\" d=\"M470.557 1406.32 Q468.752 1410.95 467.039 1412.36 Q465.326 1413.78 462.456 1413.78 L459.053 1413.78 L459.053 1410.21 L461.553 1410.21 Q463.312 1410.21 464.284 1409.38 Q465.256 1408.54 466.437 1405.44 L467.201 1403.5 L456.715 1377.99 L461.229 1377.99 L469.331 1398.27 L477.432 1377.99 L481.946 1377.99 L470.557 1406.32 Z\" fill=\"#000000\" fill-rule=\"nonzero\" fill-opacity=\"1\" /><path clip-path=\"url(#clip010)\" d=\"M492.455 1399.98 L508.775 1399.98 L508.775 1403.91 L486.83 1403.91 L486.83 1399.98 Q489.492 1397.22 494.076 1392.6 Q498.682 1387.94 499.863 1386.6 Q502.108 1384.08 502.988 1382.34 Q503.891 1380.58 503.891 1378.89 Q503.891 1376.14 501.946 1374.4 Q500.025 1372.66 496.923 1372.66 Q494.724 1372.66 492.27 1373.43 Q489.84 1374.19 487.062 1375.74 L487.062 1371.02 Q489.886 1369.89 492.34 1369.31 Q494.793 1368.73 496.83 1368.73 Q502.201 1368.73 505.395 1371.41 Q508.59 1374.1 508.59 1378.59 Q508.59 1380.72 507.779 1382.64 Q506.992 1384.54 504.886 1387.13 Q504.307 1387.8 501.205 1391.02 Q498.104 1394.22 492.455 1399.98 Z\" fill=\"#000000\" fill-rule=\"nonzero\" fill-opacity=\"1\" /></svg>\n"
      ]
     },
     "metadata": {},
     "output_type": "display_data"
    }
   ],
   "source": [
    "plot(acwi_states[:ACWI_Net ])\n",
    "vspan!(findwhen(acwi_states[:A] .== 2.0),alpha = 0.3)"
   ]
  },
  {
   "cell_type": "code",
   "execution_count": 140,
   "metadata": {},
   "outputs": [],
   "source": [
    "using ScenTrees, SDDP"
   ]
  },
  {
   "cell_type": "code",
   "execution_count": 206,
   "metadata": {},
   "outputs": [
    {
     "data": {
      "text/html": [
       "<table>\n",
       "  <thead>\n",
       "    <tr class = \"header headerLastRow\">\n",
       "      <th class = \"rowLabel\" style = \"font-weight: bold; text-align: right;\"></th>\n",
       "      <th style = \"text-align: right;\">1</th>\n",
       "      <th style = \"text-align: right;\">2</th>\n",
       "      <th style = \"text-align: right;\">3</th>\n",
       "      <th style = \"text-align: right;\">4</th>\n",
       "      <th style = \"text-align: right;\">5</th>\n",
       "      <th style = \"text-align: right;\">6</th>\n",
       "      <th style = \"text-align: right;\">7</th>\n",
       "      <th style = \"text-align: right;\">8</th>\n",
       "      <th style = \"text-align: right;\">9</th>\n",
       "      <th style = \"text-align: right;\">10</th>\n",
       "      <th style = \"text-align: right;\">11</th>\n",
       "      <th style = \"text-align: right;\">12</th>\n",
       "      <th style = \"text-align: right;\">13</th>\n",
       "      <th style = \"text-align: right;\">14</th>\n",
       "      <th style = \"text-align: right;\">15</th>\n",
       "      <th style = \"text-align: right;\">16</th>\n",
       "      <th style = \"text-align: right;\">17</th>\n",
       "      <th style = \"text-align: right;\">18</th>\n",
       "      <th style = \"text-align: right;\">19</th>\n",
       "      <th style = \"text-align: right;\">20</th>\n",
       "      <th style = \"text-align: right;\">21</th>\n",
       "      <th style = \"text-align: right;\">22</th>\n",
       "      <th style = \"text-align: right;\">23</th>\n",
       "      <th style = \"text-align: right;\">24</th>\n",
       "      <th style = \"text-align: right;\">25</th>\n",
       "    </tr>\n",
       "  </thead>\n",
       "  <tbody>\n",
       "    <tr>\n",
       "      <td class = \"rowLabel\" style = \"font-weight: bold; text-align: right;\">0.05</td>\n",
       "      <td style = \"text-align: right;\">-0.147419</td>\n",
       "      <td style = \"text-align: right;\">-0.14411</td>\n",
       "      <td style = \"text-align: right;\">-0.150174</td>\n",
       "      <td style = \"text-align: right;\">-0.143722</td>\n",
       "      <td style = \"text-align: right;\">-0.150156</td>\n",
       "      <td style = \"text-align: right;\">-0.141168</td>\n",
       "      <td style = \"text-align: right;\">-0.146147</td>\n",
       "      <td style = \"text-align: right;\">-0.145174</td>\n",
       "      <td style = \"text-align: right;\">-0.15641</td>\n",
       "      <td style = \"text-align: right;\">-0.144502</td>\n",
       "      <td style = \"text-align: right;\">-0.158159</td>\n",
       "      <td style = \"text-align: right;\">-0.139023</td>\n",
       "      <td style = \"text-align: right;\">-0.142342</td>\n",
       "      <td style = \"text-align: right;\">-0.155797</td>\n",
       "      <td style = \"text-align: right;\">-0.14379</td>\n",
       "      <td style = \"text-align: right;\">-0.150402</td>\n",
       "      <td style = \"text-align: right;\">-0.142803</td>\n",
       "      <td style = \"text-align: right;\">-0.146333</td>\n",
       "      <td style = \"text-align: right;\">-0.140688</td>\n",
       "      <td style = \"text-align: right;\">-0.144754</td>\n",
       "      <td style = \"text-align: right;\">-0.152572</td>\n",
       "      <td style = \"text-align: right;\">-0.143322</td>\n",
       "      <td style = \"text-align: right;\">-0.152133</td>\n",
       "      <td style = \"text-align: right;\">-0.148696</td>\n",
       "      <td style = \"text-align: right;\">-0.146346</td>\n",
       "    </tr>\n",
       "    <tr>\n",
       "      <td class = \"rowLabel\" style = \"font-weight: bold; text-align: right;\">0.25</td>\n",
       "      <td style = \"text-align: right;\">-0.0193712</td>\n",
       "      <td style = \"text-align: right;\">-0.0210266</td>\n",
       "      <td style = \"text-align: right;\">-0.021553</td>\n",
       "      <td style = \"text-align: right;\">-0.0205816</td>\n",
       "      <td style = \"text-align: right;\">-0.0192023</td>\n",
       "      <td style = \"text-align: right;\">-0.0172389</td>\n",
       "      <td style = \"text-align: right;\">-0.019896</td>\n",
       "      <td style = \"text-align: right;\">-0.0205777</td>\n",
       "      <td style = \"text-align: right;\">-0.0198049</td>\n",
       "      <td style = \"text-align: right;\">-0.0237974</td>\n",
       "      <td style = \"text-align: right;\">-0.0202272</td>\n",
       "      <td style = \"text-align: right;\">-0.0184373</td>\n",
       "      <td style = \"text-align: right;\">-0.0183423</td>\n",
       "      <td style = \"text-align: right;\">-0.021245</td>\n",
       "      <td style = \"text-align: right;\">-0.018615</td>\n",
       "      <td style = \"text-align: right;\">-0.0222631</td>\n",
       "      <td style = \"text-align: right;\">-0.018173</td>\n",
       "      <td style = \"text-align: right;\">-0.0147164</td>\n",
       "      <td style = \"text-align: right;\">-0.0191869</td>\n",
       "      <td style = \"text-align: right;\">-0.0221705</td>\n",
       "      <td style = \"text-align: right;\">-0.0203569</td>\n",
       "      <td style = \"text-align: right;\">-0.0161786</td>\n",
       "      <td style = \"text-align: right;\">-0.0179391</td>\n",
       "      <td style = \"text-align: right;\">-0.0175294</td>\n",
       "      <td style = \"text-align: right;\">-0.0144191</td>\n",
       "    </tr>\n",
       "    <tr>\n",
       "      <td class = \"rowLabel\" style = \"font-weight: bold; text-align: right;\">0.5</td>\n",
       "      <td style = \"text-align: right;\">0.0673422</td>\n",
       "      <td style = \"text-align: right;\">0.0682755</td>\n",
       "      <td style = \"text-align: right;\">0.0695105</td>\n",
       "      <td style = \"text-align: right;\">0.0672526</td>\n",
       "      <td style = \"text-align: right;\">0.0711057</td>\n",
       "      <td style = \"text-align: right;\">0.0724212</td>\n",
       "      <td style = \"text-align: right;\">0.0726357</td>\n",
       "      <td style = \"text-align: right;\">0.0694194</td>\n",
       "      <td style = \"text-align: right;\">0.069621</td>\n",
       "      <td style = \"text-align: right;\">0.0675548</td>\n",
       "      <td style = \"text-align: right;\">0.0679142</td>\n",
       "      <td style = \"text-align: right;\">0.0738768</td>\n",
       "      <td style = \"text-align: right;\">0.0703748</td>\n",
       "      <td style = \"text-align: right;\">0.0672216</td>\n",
       "      <td style = \"text-align: right;\">0.0721803</td>\n",
       "      <td style = \"text-align: right;\">0.0673163</td>\n",
       "      <td style = \"text-align: right;\">0.0719761</td>\n",
       "      <td style = \"text-align: right;\">0.0727251</td>\n",
       "      <td style = \"text-align: right;\">0.0736668</td>\n",
       "      <td style = \"text-align: right;\">0.0683</td>\n",
       "      <td style = \"text-align: right;\">0.0672602</td>\n",
       "      <td style = \"text-align: right;\">0.0722303</td>\n",
       "      <td style = \"text-align: right;\">0.0702265</td>\n",
       "      <td style = \"text-align: right;\">0.0705962</td>\n",
       "      <td style = \"text-align: right;\">0.0728981</td>\n",
       "    </tr>\n",
       "    <tr>\n",
       "      <td class = \"rowLabel\" style = \"font-weight: bold; text-align: right;\">0.75</td>\n",
       "      <td style = \"text-align: right;\">0.157303</td>\n",
       "      <td style = \"text-align: right;\">0.158786</td>\n",
       "      <td style = \"text-align: right;\">0.159668</td>\n",
       "      <td style = \"text-align: right;\">0.157237</td>\n",
       "      <td style = \"text-align: right;\">0.159935</td>\n",
       "      <td style = \"text-align: right;\">0.158013</td>\n",
       "      <td style = \"text-align: right;\">0.158838</td>\n",
       "      <td style = \"text-align: right;\">0.159161</td>\n",
       "      <td style = \"text-align: right;\">0.157869</td>\n",
       "      <td style = \"text-align: right;\">0.157187</td>\n",
       "      <td style = \"text-align: right;\">0.159591</td>\n",
       "      <td style = \"text-align: right;\">0.164449</td>\n",
       "      <td style = \"text-align: right;\">0.159695</td>\n",
       "      <td style = \"text-align: right;\">0.160779</td>\n",
       "      <td style = \"text-align: right;\">0.158567</td>\n",
       "      <td style = \"text-align: right;\">0.153704</td>\n",
       "      <td style = \"text-align: right;\">0.158698</td>\n",
       "      <td style = \"text-align: right;\">0.164647</td>\n",
       "      <td style = \"text-align: right;\">0.16185</td>\n",
       "      <td style = \"text-align: right;\">0.155827</td>\n",
       "      <td style = \"text-align: right;\">0.160922</td>\n",
       "      <td style = \"text-align: right;\">0.158479</td>\n",
       "      <td style = \"text-align: right;\">0.159793</td>\n",
       "      <td style = \"text-align: right;\">0.159609</td>\n",
       "      <td style = \"text-align: right;\">0.163836</td>\n",
       "    </tr>\n",
       "    <tr>\n",
       "      <td class = \"rowLabel\" style = \"font-weight: bold; text-align: right;\">0.95</td>\n",
       "      <td style = \"text-align: right;\">0.285627</td>\n",
       "      <td style = \"text-align: right;\">0.292508</td>\n",
       "      <td style = \"text-align: right;\">0.291244</td>\n",
       "      <td style = \"text-align: right;\">0.286087</td>\n",
       "      <td style = \"text-align: right;\">0.288205</td>\n",
       "      <td style = \"text-align: right;\">0.287833</td>\n",
       "      <td style = \"text-align: right;\">0.288185</td>\n",
       "      <td style = \"text-align: right;\">0.287808</td>\n",
       "      <td style = \"text-align: right;\">0.282662</td>\n",
       "      <td style = \"text-align: right;\">0.28324</td>\n",
       "      <td style = \"text-align: right;\">0.288456</td>\n",
       "      <td style = \"text-align: right;\">0.292807</td>\n",
       "      <td style = \"text-align: right;\">0.284036</td>\n",
       "      <td style = \"text-align: right;\">0.291636</td>\n",
       "      <td style = \"text-align: right;\">0.286319</td>\n",
       "      <td style = \"text-align: right;\">0.28475</td>\n",
       "      <td style = \"text-align: right;\">0.291903</td>\n",
       "      <td style = \"text-align: right;\">0.292351</td>\n",
       "      <td style = \"text-align: right;\">0.292277</td>\n",
       "      <td style = \"text-align: right;\">0.279487</td>\n",
       "      <td style = \"text-align: right;\">0.289189</td>\n",
       "      <td style = \"text-align: right;\">0.287724</td>\n",
       "      <td style = \"text-align: right;\">0.288682</td>\n",
       "      <td style = \"text-align: right;\">0.284159</td>\n",
       "      <td style = \"text-align: right;\">0.28845</td>\n",
       "    </tr>\n",
       "  </tbody>\n",
       "</table>\n"
      ]
     },
     "metadata": {},
     "output_type": "display_data"
    }
   ],
   "source": [
    "n_steps = 25\n",
    "n_scenarios = 5000\n",
    "simulations = rand(Normal(0.07,0.132),(n_scenarios,n_steps)) \n",
    "\n",
    "simulation_perc = zeros(5,n_steps)\n",
    "for t in 1:n_steps\n",
    "    simulation_perc[:,t] = quantile(simulations[:,t], [0.05, 0.25, 0.5, 0.75, 0.95])\n",
    "end\n",
    "pretty_table(simulation_perc, backend = Val(:html),header=1:n_steps, row_labels=[0.05, 0.25, 0.5, 0.75, 0.95])"
   ]
  },
  {
   "cell_type": "code",
   "execution_count": 207,
   "metadata": {},
   "outputs": [
    {
     "data": {
      "text/html": [
       "<table>\n",
       "  <thead>\n",
       "    <tr class = \"header headerLastRow\">\n",
       "      <th class = \"rowLabel\" style = \"font-weight: bold; text-align: right;\"></th>\n",
       "      <th style = \"text-align: right;\">1</th>\n",
       "      <th style = \"text-align: right;\">2</th>\n",
       "      <th style = \"text-align: right;\">3</th>\n",
       "      <th style = \"text-align: right;\">4</th>\n",
       "      <th style = \"text-align: right;\">5</th>\n",
       "      <th style = \"text-align: right;\">6</th>\n",
       "      <th style = \"text-align: right;\">7</th>\n",
       "      <th style = \"text-align: right;\">8</th>\n",
       "      <th style = \"text-align: right;\">9</th>\n",
       "      <th style = \"text-align: right;\">10</th>\n",
       "      <th style = \"text-align: right;\">11</th>\n",
       "      <th style = \"text-align: right;\">12</th>\n",
       "      <th style = \"text-align: right;\">13</th>\n",
       "      <th style = \"text-align: right;\">14</th>\n",
       "      <th style = \"text-align: right;\">15</th>\n",
       "      <th style = \"text-align: right;\">16</th>\n",
       "      <th style = \"text-align: right;\">17</th>\n",
       "      <th style = \"text-align: right;\">18</th>\n",
       "      <th style = \"text-align: right;\">19</th>\n",
       "      <th style = \"text-align: right;\">20</th>\n",
       "      <th style = \"text-align: right;\">21</th>\n",
       "      <th style = \"text-align: right;\">22</th>\n",
       "      <th style = \"text-align: right;\">23</th>\n",
       "      <th style = \"text-align: right;\">24</th>\n",
       "      <th style = \"text-align: right;\">25</th>\n",
       "    </tr>\n",
       "  </thead>\n",
       "  <tbody>\n",
       "    <tr>\n",
       "      <td class = \"rowLabel\" style = \"font-weight: bold; text-align: right;\">0.05</td>\n",
       "      <td style = \"text-align: right;\">-0.0715748</td>\n",
       "      <td style = \"text-align: right;\">-0.103072</td>\n",
       "      <td style = \"text-align: right;\">-0.113128</td>\n",
       "      <td style = \"text-align: right;\">-0.117742</td>\n",
       "      <td style = \"text-align: right;\">-0.128601</td>\n",
       "      <td style = \"text-align: right;\">-0.122366</td>\n",
       "      <td style = \"text-align: right;\">-0.131156</td>\n",
       "      <td style = \"text-align: right;\">-0.130977</td>\n",
       "      <td style = \"text-align: right;\">-0.129672</td>\n",
       "      <td style = \"text-align: right;\">-0.12976</td>\n",
       "      <td style = \"text-align: right;\">-0.126825</td>\n",
       "      <td style = \"text-align: right;\">-0.122813</td>\n",
       "      <td style = \"text-align: right;\">-0.119401</td>\n",
       "      <td style = \"text-align: right;\">-0.120753</td>\n",
       "      <td style = \"text-align: right;\">-0.125109</td>\n",
       "      <td style = \"text-align: right;\">-0.129763</td>\n",
       "      <td style = \"text-align: right;\">-0.124506</td>\n",
       "      <td style = \"text-align: right;\">-0.125094</td>\n",
       "      <td style = \"text-align: right;\">-0.122475</td>\n",
       "      <td style = \"text-align: right;\">-0.134313</td>\n",
       "      <td style = \"text-align: right;\">-0.126194</td>\n",
       "      <td style = \"text-align: right;\">-0.119766</td>\n",
       "      <td style = \"text-align: right;\">-0.129086</td>\n",
       "      <td style = \"text-align: right;\">-0.129573</td>\n",
       "      <td style = \"text-align: right;\">-0.118308</td>\n",
       "    </tr>\n",
       "    <tr>\n",
       "      <td class = \"rowLabel\" style = \"font-weight: bold; text-align: right;\">0.25</td>\n",
       "      <td style = \"text-align: right;\">0.0270593</td>\n",
       "      <td style = \"text-align: right;\">0.0155606</td>\n",
       "      <td style = \"text-align: right;\">0.0124764</td>\n",
       "      <td style = \"text-align: right;\">0.00675145</td>\n",
       "      <td style = \"text-align: right;\">0.00427798</td>\n",
       "      <td style = \"text-align: right;\">0.00367094</td>\n",
       "      <td style = \"text-align: right;\">0.00533897</td>\n",
       "      <td style = \"text-align: right;\">0.00497643</td>\n",
       "      <td style = \"text-align: right;\">0.00440528</td>\n",
       "      <td style = \"text-align: right;\">0.00172482</td>\n",
       "      <td style = \"text-align: right;\">0.00178156</td>\n",
       "      <td style = \"text-align: right;\">0.00815244</td>\n",
       "      <td style = \"text-align: right;\">0.00612769</td>\n",
       "      <td style = \"text-align: right;\">0.00398916</td>\n",
       "      <td style = \"text-align: right;\">0.00449325</td>\n",
       "      <td style = \"text-align: right;\">0.000891752</td>\n",
       "      <td style = \"text-align: right;\">0.00627626</td>\n",
       "      <td style = \"text-align: right;\">0.00824437</td>\n",
       "      <td style = \"text-align: right;\">0.0036914</td>\n",
       "      <td style = \"text-align: right;\">0.00104779</td>\n",
       "      <td style = \"text-align: right;\">0.00368354</td>\n",
       "      <td style = \"text-align: right;\">0.0085044</td>\n",
       "      <td style = \"text-align: right;\">0.0052286</td>\n",
       "      <td style = \"text-align: right;\">0.000248408</td>\n",
       "      <td style = \"text-align: right;\">0.0057967</td>\n",
       "    </tr>\n",
       "    <tr>\n",
       "      <td class = \"rowLabel\" style = \"font-weight: bold; text-align: right;\">0.5</td>\n",
       "      <td style = \"text-align: right;\">0.0962135</td>\n",
       "      <td style = \"text-align: right;\">0.0911037</td>\n",
       "      <td style = \"text-align: right;\">0.0910326</td>\n",
       "      <td style = \"text-align: right;\">0.087986</td>\n",
       "      <td style = \"text-align: right;\">0.0868709</td>\n",
       "      <td style = \"text-align: right;\">0.0839514</td>\n",
       "      <td style = \"text-align: right;\">0.0865627</td>\n",
       "      <td style = \"text-align: right;\">0.0830978</td>\n",
       "      <td style = \"text-align: right;\">0.0830779</td>\n",
       "      <td style = \"text-align: right;\">0.0837076</td>\n",
       "      <td style = \"text-align: right;\">0.0837595</td>\n",
       "      <td style = \"text-align: right;\">0.0875448</td>\n",
       "      <td style = \"text-align: right;\">0.0840134</td>\n",
       "      <td style = \"text-align: right;\">0.0858302</td>\n",
       "      <td style = \"text-align: right;\">0.0825449</td>\n",
       "      <td style = \"text-align: right;\">0.0804037</td>\n",
       "      <td style = \"text-align: right;\">0.0847794</td>\n",
       "      <td style = \"text-align: right;\">0.0852516</td>\n",
       "      <td style = \"text-align: right;\">0.0826885</td>\n",
       "      <td style = \"text-align: right;\">0.0801812</td>\n",
       "      <td style = \"text-align: right;\">0.0874446</td>\n",
       "      <td style = \"text-align: right;\">0.0855932</td>\n",
       "      <td style = \"text-align: right;\">0.0863545</td>\n",
       "      <td style = \"text-align: right;\">0.0800876</td>\n",
       "      <td style = \"text-align: right;\">0.0824938</td>\n",
       "    </tr>\n",
       "    <tr>\n",
       "      <td class = \"rowLabel\" style = \"font-weight: bold; text-align: right;\">0.75</td>\n",
       "      <td style = \"text-align: right;\">0.169065</td>\n",
       "      <td style = \"text-align: right;\">0.162176</td>\n",
       "      <td style = \"text-align: right;\">0.162954</td>\n",
       "      <td style = \"text-align: right;\">0.161411</td>\n",
       "      <td style = \"text-align: right;\">0.159087</td>\n",
       "      <td style = \"text-align: right;\">0.158963</td>\n",
       "      <td style = \"text-align: right;\">0.164598</td>\n",
       "      <td style = \"text-align: right;\">0.159956</td>\n",
       "      <td style = \"text-align: right;\">0.160234</td>\n",
       "      <td style = \"text-align: right;\">0.15944</td>\n",
       "      <td style = \"text-align: right;\">0.161992</td>\n",
       "      <td style = \"text-align: right;\">0.162513</td>\n",
       "      <td style = \"text-align: right;\">0.161122</td>\n",
       "      <td style = \"text-align: right;\">0.163156</td>\n",
       "      <td style = \"text-align: right;\">0.161186</td>\n",
       "      <td style = \"text-align: right;\">0.158424</td>\n",
       "      <td style = \"text-align: right;\">0.162108</td>\n",
       "      <td style = \"text-align: right;\">0.162393</td>\n",
       "      <td style = \"text-align: right;\">0.159443</td>\n",
       "      <td style = \"text-align: right;\">0.156959</td>\n",
       "      <td style = \"text-align: right;\">0.162001</td>\n",
       "      <td style = \"text-align: right;\">0.161366</td>\n",
       "      <td style = \"text-align: right;\">0.161121</td>\n",
       "      <td style = \"text-align: right;\">0.156848</td>\n",
       "      <td style = \"text-align: right;\">0.159847</td>\n",
       "    </tr>\n",
       "    <tr>\n",
       "      <td class = \"rowLabel\" style = \"font-weight: bold; text-align: right;\">0.95</td>\n",
       "      <td style = \"text-align: right;\">0.2656</td>\n",
       "      <td style = \"text-align: right;\">0.268177</td>\n",
       "      <td style = \"text-align: right;\">0.267616</td>\n",
       "      <td style = \"text-align: right;\">0.265542</td>\n",
       "      <td style = \"text-align: right;\">0.266909</td>\n",
       "      <td style = \"text-align: right;\">0.263297</td>\n",
       "      <td style = \"text-align: right;\">0.272183</td>\n",
       "      <td style = \"text-align: right;\">0.270251</td>\n",
       "      <td style = \"text-align: right;\">0.270729</td>\n",
       "      <td style = \"text-align: right;\">0.263792</td>\n",
       "      <td style = \"text-align: right;\">0.271337</td>\n",
       "      <td style = \"text-align: right;\">0.264453</td>\n",
       "      <td style = \"text-align: right;\">0.266495</td>\n",
       "      <td style = \"text-align: right;\">0.272931</td>\n",
       "      <td style = \"text-align: right;\">0.275759</td>\n",
       "      <td style = \"text-align: right;\">0.261808</td>\n",
       "      <td style = \"text-align: right;\">0.266825</td>\n",
       "      <td style = \"text-align: right;\">0.271662</td>\n",
       "      <td style = \"text-align: right;\">0.271083</td>\n",
       "      <td style = \"text-align: right;\">0.271503</td>\n",
       "      <td style = \"text-align: right;\">0.269007</td>\n",
       "      <td style = \"text-align: right;\">0.267418</td>\n",
       "      <td style = \"text-align: right;\">0.269374</td>\n",
       "      <td style = \"text-align: right;\">0.270565</td>\n",
       "      <td style = \"text-align: right;\">0.261921</td>\n",
       "    </tr>\n",
       "  </tbody>\n",
       "</table>\n"
      ]
     },
     "metadata": {},
     "output_type": "display_data"
    }
   ],
   "source": [
    "hmm = HMM([1.,0],[0.85 0.15; 0.41 0.59],[Normal(0.0986,0.1041),Normal(0.0291,0.1435)])\n",
    "simulations = zeros(n_scenarios,n_steps)\n",
    "for s in 1:n_scenarios\n",
    "    simulations[s,:] .= rand(hmm,n_steps)[2]\n",
    "end\n",
    "\n",
    "simulation_perc = zeros(5,n_steps)\n",
    "for t in 1:n_steps\n",
    "    simulation_perc[:,t] = quantile(simulations[:,t], [0.05, 0.25, 0.5, 0.75, 0.95])\n",
    "end\n",
    "\n",
    "pretty_table(simulation_perc, backend = Val(:html),header=1:n_steps, row_labels=[0.05, 0.25, 0.5, 0.75, 0.95])"
   ]
  },
  {
   "cell_type": "code",
   "execution_count": 200,
   "metadata": {},
   "outputs": [
    {
     "data": {
      "text/plain": [
       "(state_seq = [1, 1, 1, 1, 2, 1, 1, 2, 2, 2  …  1, 1, 1, 1, 1, 1, 1, 1, 1, 1], obs_seq = [-0.006415812592460907, -0.07751008245905083, 0.19151492165700384, 0.0755945662137717, 0.08903855280480415, 0.10327179869189243, 0.09937510453537901, 0.12260169284119077, -0.08908279341784119, 0.2749429896929457  …  -0.06753090096405573, 0.13746472149845596, 0.09147374265443567, 0.13892766960845554, -0.050642082089323054, 0.08299478808678483, 0.31592066982047773, 0.06442955676415482, 0.030169315049345807, 0.15714728514871715])"
      ]
     },
     "metadata": {},
     "output_type": "display_data"
    }
   ],
   "source": [
    "rand(hmm,n_steps)"
   ]
  }
 ],
 "metadata": {
  "kernelspec": {
   "display_name": "Julia 1.10.2",
   "language": "julia",
   "name": "julia-1.10"
  },
  "language_info": {
   "file_extension": ".jl",
   "mimetype": "application/julia",
   "name": "julia",
   "version": "1.10.2"
  }
 },
 "nbformat": 4,
 "nbformat_minor": 2
}
