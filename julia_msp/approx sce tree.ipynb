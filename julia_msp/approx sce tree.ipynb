{
 "cells": [
  {
   "cell_type": "code",
   "execution_count": 40,
   "metadata": {},
   "outputs": [
    {
     "name": "stderr",
     "output_type": "stream",
     "text": [
      "\u001b[32m\u001b[1m   Resolving\u001b[22m\u001b[39m package versions...\n",
      "\u001b[32m\u001b[1m  No Changes\u001b[22m\u001b[39m to `C:\\Users\\matsz\\.julia\\environments\\v1.10\\Project.toml`\n",
      "\u001b[32m\u001b[1m  No Changes\u001b[22m\u001b[39m to `C:\\Users\\matsz\\.julia\\environments\\v1.10\\Manifest.toml`\n",
      "\u001b[32m\u001b[1m   Resolving\u001b[22m\u001b[39m package versions...\n",
      "\u001b[32m\u001b[1m  No Changes\u001b[22m\u001b[39m to `C:\\Users\\matsz\\.julia\\environments\\v1.10\\Project.toml`\n",
      "\u001b[32m\u001b[1m  No Changes\u001b[22m\u001b[39m to `C:\\Users\\matsz\\.julia\\environments\\v1.10\\Manifest.toml`\n",
      "\u001b[32m\u001b[1m   Resolving\u001b[22m\u001b[39m package versions...\n",
      "\u001b[32m\u001b[1m  No Changes\u001b[22m\u001b[39m to `C:\\Users\\matsz\\.julia\\environments\\v1.10\\Project.toml`\n",
      "\u001b[32m\u001b[1m  No Changes\u001b[22m\u001b[39m to `C:\\Users\\matsz\\.julia\\environments\\v1.10\\Manifest.toml`\n",
      "\u001b[32m\u001b[1m   Resolving\u001b[22m\u001b[39m package versions...\n",
      "\u001b[32m\u001b[1m  No Changes\u001b[22m\u001b[39m to `C:\\Users\\matsz\\.julia\\environments\\v1.10\\Project.toml`\n",
      "\u001b[32m\u001b[1m  No Changes\u001b[22m\u001b[39m to `C:\\Users\\matsz\\.julia\\environments\\v1.10\\Manifest.toml`\n",
      "\u001b[32m\u001b[1m   Resolving\u001b[22m\u001b[39m package versions...\n",
      "\u001b[32m\u001b[1m  No Changes\u001b[22m\u001b[39m to `C:\\Users\\matsz\\.julia\\environments\\v1.10\\Project.toml`\n",
      "\u001b[32m\u001b[1m  No Changes\u001b[22m\u001b[39m to `C:\\Users\\matsz\\.julia\\environments\\v1.10\\Manifest.toml`\n",
      "\u001b[32m\u001b[1m   Resolving\u001b[22m\u001b[39m package versions...\n",
      "\u001b[32m\u001b[1m  No Changes\u001b[22m\u001b[39m to `C:\\Users\\matsz\\.julia\\environments\\v1.10\\Project.toml`\n",
      "\u001b[32m\u001b[1m  No Changes\u001b[22m\u001b[39m to `C:\\Users\\matsz\\.julia\\environments\\v1.10\\Manifest.toml`\n",
      "\u001b[32m\u001b[1m   Resolving\u001b[22m\u001b[39m package versions...\n",
      "\u001b[32m\u001b[1m  No Changes\u001b[22m\u001b[39m to `C:\\Users\\matsz\\.julia\\environments\\v1.10\\Project.toml`\n",
      "\u001b[32m\u001b[1m  No Changes\u001b[22m\u001b[39m to `C:\\Users\\matsz\\.julia\\environments\\v1.10\\Manifest.toml`\n"
     ]
    },
    {
     "ename": "Pkg.Types.PkgError",
     "evalue": "The following package names could not be resolved:\n * Iterators (not found in project, manifest or registry)\n\u001b[36m   Suggestions:\u001b[39m \u001b[0m\u001b[1mI\u001b[22m\u001b[0m\u001b[1mt\u001b[22m\u001b[0m\u001b[1me\u001b[22m\u001b[0m\u001b[1mr\u001b[22m\u001b[0m\u001b[1ma\u001b[22m\u001b[0m\u001b[1mt\u001b[22m\u001b[0m\u001b[1mo\u001b[22m\u001b[0m\u001b[1mr\u001b[22m\u001b[0m\u001b[1mS\u001b[22mampling Tar\u001b[0m\u001b[1mI\u001b[22m\u001b[0m\u001b[1mt\u001b[22m\u001b[0m\u001b[1me\u001b[22m\u001b[0m\u001b[1mr\u001b[22m\u001b[0m\u001b[1ma\u001b[22m\u001b[0m\u001b[1mt\u001b[22m\u001b[0m\u001b[1mo\u001b[22m\u001b[0m\u001b[1mr\u001b[22m\u001b[0m\u001b[1ms\u001b[22m Batch\u001b[0m\u001b[1mI\u001b[22m\u001b[0m\u001b[1mt\u001b[22m\u001b[0m\u001b[1me\u001b[22m\u001b[0m\u001b[1mr\u001b[22m\u001b[0m\u001b[1ma\u001b[22m\u001b[0m\u001b[1mt\u001b[22m\u001b[0m\u001b[1mo\u001b[22m\u001b[0m\u001b[1mr\u001b[22m\u001b[0m\u001b[1ms\u001b[22m Merged\u001b[0m\u001b[1mI\u001b[22m\u001b[0m\u001b[1mt\u001b[22m\u001b[0m\u001b[1me\u001b[22m\u001b[0m\u001b[1mr\u001b[22m\u001b[0m\u001b[1ma\u001b[22m\u001b[0m\u001b[1mt\u001b[22m\u001b[0m\u001b[1mo\u001b[22m\u001b[0m\u001b[1mr\u001b[22m\u001b[0m\u001b[1ms\u001b[22m",
     "output_type": "error",
     "traceback": [
      "The following package names could not be resolved:\n",
      " * Iterators (not found in project, manifest or registry)\n",
      "\u001b[36m   Suggestions:\u001b[39m \u001b[0m\u001b[1mI\u001b[22m\u001b[0m\u001b[1mt\u001b[22m\u001b[0m\u001b[1me\u001b[22m\u001b[0m\u001b[1mr\u001b[22m\u001b[0m\u001b[1ma\u001b[22m\u001b[0m\u001b[1mt\u001b[22m\u001b[0m\u001b[1mo\u001b[22m\u001b[0m\u001b[1mr\u001b[22m\u001b[0m\u001b[1mS\u001b[22mampling Tar\u001b[0m\u001b[1mI\u001b[22m\u001b[0m\u001b[1mt\u001b[22m\u001b[0m\u001b[1me\u001b[22m\u001b[0m\u001b[1mr\u001b[22m\u001b[0m\u001b[1ma\u001b[22m\u001b[0m\u001b[1mt\u001b[22m\u001b[0m\u001b[1mo\u001b[22m\u001b[0m\u001b[1mr\u001b[22m\u001b[0m\u001b[1ms\u001b[22m Batch\u001b[0m\u001b[1mI\u001b[22m\u001b[0m\u001b[1mt\u001b[22m\u001b[0m\u001b[1me\u001b[22m\u001b[0m\u001b[1mr\u001b[22m\u001b[0m\u001b[1ma\u001b[22m\u001b[0m\u001b[1mt\u001b[22m\u001b[0m\u001b[1mo\u001b[22m\u001b[0m\u001b[1mr\u001b[22m\u001b[0m\u001b[1ms\u001b[22m Merged\u001b[0m\u001b[1mI\u001b[22m\u001b[0m\u001b[1mt\u001b[22m\u001b[0m\u001b[1me\u001b[22m\u001b[0m\u001b[1mr\u001b[22m\u001b[0m\u001b[1ma\u001b[22m\u001b[0m\u001b[1mt\u001b[22m\u001b[0m\u001b[1mo\u001b[22m\u001b[0m\u001b[1mr\u001b[22m\u001b[0m\u001b[1ms\u001b[22m\n",
      "\n",
      "Stacktrace:\n",
      " [1] pkgerror(msg::String)\n",
      "   @ Pkg.Types C:\\Users\\matsz\\.julia\\juliaup\\julia-1.10.2+0.x64.w64.mingw32\\share\\julia\\stdlib\\v1.10\\Pkg\\src\\Types.jl:70\n",
      " [2] ensure_resolved(ctx::Pkg.Types.Context, manifest::Pkg.Types.Manifest, pkgs::Vector{Pkg.Types.PackageSpec}; registry::Bool)\n",
      "   @ Pkg.Types C:\\Users\\matsz\\.julia\\juliaup\\julia-1.10.2+0.x64.w64.mingw32\\share\\julia\\stdlib\\v1.10\\Pkg\\src\\Types.jl:1030\n",
      " [3] ensure_resolved\n",
      "   @ C:\\Users\\matsz\\.julia\\juliaup\\julia-1.10.2+0.x64.w64.mingw32\\share\\julia\\stdlib\\v1.10\\Pkg\\src\\Types.jl:981 [inlined]\n",
      " [4] add(ctx::Pkg.Types.Context, pkgs::Vector{Pkg.Types.PackageSpec}; preserve::Pkg.Types.PreserveLevel, platform::Base.BinaryPlatforms.Platform, kwargs::@Kwargs{io::VSCodeServer.IJuliaCore.IJuliaStdio{Base.PipeEndpoint, typeof(VSCodeServer.io_send_callback)}})\n",
      "   @ Pkg.API C:\\Users\\matsz\\.julia\\juliaup\\julia-1.10.2+0.x64.w64.mingw32\\share\\julia\\stdlib\\v1.10\\Pkg\\src\\API.jl:267\n",
      " [5] add(pkgs::Vector{Pkg.Types.PackageSpec}; io::VSCodeServer.IJuliaCore.IJuliaStdio{Base.PipeEndpoint, typeof(VSCodeServer.io_send_callback)}, kwargs::@Kwargs{})\n",
      "   @ Pkg.API C:\\Users\\matsz\\.julia\\juliaup\\julia-1.10.2+0.x64.w64.mingw32\\share\\julia\\stdlib\\v1.10\\Pkg\\src\\API.jl:159\n",
      " [6] add(pkgs::Vector{Pkg.Types.PackageSpec})\n",
      "   @ Pkg.API C:\\Users\\matsz\\.julia\\juliaup\\julia-1.10.2+0.x64.w64.mingw32\\share\\julia\\stdlib\\v1.10\\Pkg\\src\\API.jl:148\n",
      " [7] add\n",
      "   @ C:\\Users\\matsz\\.julia\\juliaup\\julia-1.10.2+0.x64.w64.mingw32\\share\\julia\\stdlib\\v1.10\\Pkg\\src\\API.jl:147 [inlined]\n",
      " [8] add(pkg::String)\n",
      "   @ Pkg.API C:\\Users\\matsz\\.julia\\juliaup\\julia-1.10.2+0.x64.w64.mingw32\\share\\julia\\stdlib\\v1.10\\Pkg\\src\\API.jl:146\n",
      " [9] top-level scope\n",
      "   @ c:\\Users\\matsz\\programowanie\\Optymalizacja portfela\\julia_msp\\notebook.ipynb:9"
     ]
    }
   ],
   "source": [
    "import Pkg\n",
    "Pkg.add(\"ScenTrees\")\n",
    "Pkg.add(\"FinanceModels\")\n",
    "Pkg.add(\"EconomicScenarioGenerators\")\n",
    "Pkg.add(\"Plots\")\n",
    "Pkg.add(\"PyPlot\")\n",
    "Pkg.add(\"CSV\")\n",
    "Pkg.add(\"DataFrames\")\n"
   ]
  },
  {
   "cell_type": "code",
   "execution_count": 195,
   "metadata": {},
   "outputs": [],
   "source": [
    "using  CSV, DataFrames, LinearAlgebra, ScenTrees"
   ]
  },
  {
   "cell_type": "code",
   "execution_count": 143,
   "metadata": {},
   "outputs": [
    {
     "name": "stdout",
     "output_type": "stream",
     "text": [
      "\u001b[1m51×7 DataFrame\u001b[0m\n",
      "\u001b[1m Row \u001b[0m│\u001b[1m variable   \u001b[0m\u001b[1m mean      \u001b[0m\u001b[1m min     \u001b[0m\u001b[1m median   \u001b[0m\u001b[1m max      \u001b[0m\u001b[1m nmissing \u001b[0m\u001b[1m eltype   \u001b[0m\n",
      "     │\u001b[90m Symbol     \u001b[0m\u001b[90m Float64   \u001b[0m\u001b[90m Float64 \u001b[0m\u001b[90m Float64  \u001b[0m\u001b[90m Float64  \u001b[0m\u001b[90m Int64    \u001b[0m\u001b[90m DataType \u001b[0m\n",
      "─────┼────────────────────────────────────────────────────────────────────────\n",
      "   1 │ 0.040300    0.0403      0.0403  0.0403    0.0403           0  Float64\n",
      "   2 │ 0.014355    0.0404836   0.0123  0.038629  0.161131         0  Float64\n",
      "   3 │ 0.090209    0.0405224   0.0123  0.03794   0.168142         0  Float64\n",
      "   4 │ 0.047505    0.0403158   0.0123  0.03751   0.158611         0  Float64\n",
      "   5 │ 0.012300    0.0402553   0.0123  0.037425  0.165503         0  Float64\n",
      "   6 │ 0.012300_1  0.0402959   0.0123  0.037519  0.164738         0  Float64\n",
      "   7 │ 0.033621    0.0402064   0.0123  0.037467  0.162832         0  Float64\n",
      "   8 │ 0.014701    0.0402702   0.0123  0.037353  0.152392         0  Float64\n",
      "   9 │ 0.042845    0.0402596   0.0123  0.037286  0.175204         0  Float64\n",
      "  10 │ 0.045539    0.0402009   0.0123  0.037396  0.161403         0  Float64\n",
      "  11 │ 0.039075    0.0402162   0.0123  0.03744   0.154082         0  Float64\n",
      "  12 │ 0.071582    0.0402242   0.0123  0.037388  0.15923          0  Float64\n",
      "  13 │ 0.031244    0.0401794   0.0123  0.037288  0.151516         0  Float64\n",
      "  14 │ 0.067988    0.0400556   0.0123  0.037112  0.166895         0  Float64\n",
      "  15 │ 0.032617    0.0401643   0.0123  0.03721   0.16317          0  Float64\n",
      "  16 │ 0.050334    0.0402039   0.0123  0.037295  0.167661         0  Float64\n",
      "  17 │ 0.049547    0.0401636   0.0123  0.037266  0.165703         0  Float64\n",
      "  18 │ 0.075547    0.0400914   0.0123  0.037098  0.151855         0  Float64\n",
      "  19 │ 0.060445    0.0401255   0.0123  0.037358  0.15575          0  Float64\n",
      "  20 │ 0.026835    0.0402181   0.0123  0.037351  0.161862         0  Float64\n",
      "  21 │ 0.076443    0.0401728   0.0123  0.037286  0.160122         0  Float64\n",
      "  22 │ 0.069964    0.0401149   0.0123  0.037253  0.153196         0  Float64\n",
      "  23 │ 0.055623    0.0401769   0.0123  0.037334  0.152395         0  Float64\n",
      "  24 │ 0.084915    0.0401406   0.0123  0.037214  0.154848         0  Float64\n",
      "  25 │ 0.073909    0.04024     0.0123  0.037273  0.155648         0  Float64\n",
      "  26 │ 0.040487    0.0403192   0.0123  0.037474  0.157769         0  Float64\n",
      "  27 │ 0.021092    0.040236    0.0123  0.037375  0.166534         0  Float64\n",
      "  28 │ 0.069246    0.0401373   0.0123  0.037248  0.152222         0  Float64\n",
      "  29 │ 0.025220    0.0401218   0.0123  0.037218  0.165973         0  Float64\n",
      "  30 │ 0.012300_2  0.0402      0.0123  0.037287  0.154593         0  Float64\n",
      "  31 │ 0.034185    0.0400721   0.0123  0.037169  0.166107         0  Float64\n",
      "  32 │ 0.031971    0.0400707   0.0123  0.037079  0.152169         0  Float64\n",
      "  33 │ 0.024230    0.0400129   0.0123  0.037065  0.154617         0  Float64\n",
      "  34 │ 0.042370    0.0400418   0.0123  0.03709   0.157307         0  Float64\n",
      "  35 │ 0.012300_3  0.040193    0.0123  0.037244  0.171068         0  Float64\n",
      "  36 │ 0.039765    0.0400652   0.0123  0.037197  0.165233         0  Float64\n",
      "  37 │ 0.050364    0.0401281   0.0123  0.037267  0.159242         0  Float64\n",
      "  38 │ 0.042396    0.0401433   0.0123  0.03729   0.171081         0  Float64\n",
      "  39 │ 0.012300_4  0.0401602   0.0123  0.037172  0.150675         0  Float64\n",
      "  40 │ 0.012300_5  0.040283    0.0123  0.037279  0.157            0  Float64\n",
      "  41 │ 0.012300_6  0.0402207   0.0123  0.037347  0.158741         0  Float64\n",
      "  42 │ 0.040258    0.0401947   0.0123  0.037311  0.15088          0  Float64\n",
      "  43 │ 0.101131    0.0402266   0.0123  0.037446  0.155406         0  Float64\n",
      "  44 │ 0.067967    0.0400876   0.0123  0.037071  0.157217         0  Float64\n",
      "  45 │ 0.068071    0.0401711   0.0123  0.037334  0.148809         0  Float64\n",
      "  46 │ 0.063513    0.0401831   0.0123  0.037395  0.176047         0  Float64\n",
      "  47 │ 0.056386    0.040298    0.0123  0.037525  0.147364         0  Float64\n",
      "  48 │ 0.054321    0.040248    0.0123  0.037402  0.162388         0  Float64\n",
      "  49 │ 0.032431    0.0401197   0.0123  0.03711   0.158665         0  Float64\n",
      "  50 │ 0.048742    0.0400319   0.0123  0.037042  0.153817         0  Float64\n",
      "  51 │ 0.012300_7  0.0401753   0.0123  0.037283  0.163958         0  Float64\n",
      "\u001b[1m50×7 DataFrame\u001b[0m\n",
      "\u001b[1m Row \u001b[0m│\u001b[1m variable  \u001b[0m\u001b[1m mean      \u001b[0m\u001b[1m min       \u001b[0m\u001b[1m median   \u001b[0m\u001b[1m max      \u001b[0m\u001b[1m nmissing \u001b[0m\u001b[1m eltype   \u001b[0m\n",
      "     │\u001b[90m Symbol    \u001b[0m\u001b[90m Float64   \u001b[0m\u001b[90m Float64   \u001b[0m\u001b[90m Float64  \u001b[0m\u001b[90m Float64  \u001b[0m\u001b[90m Int64    \u001b[0m\u001b[90m DataType \u001b[0m\n",
      "─────┼─────────────────────────────────────────────────────────────────────────\n",
      "   1 │ 0.259060   0.114507   -0.456334  0.119023  0.78157          0  Float64\n",
      "   2 │ -0.003353  0.0834551  -0.57015   0.093557  0.8744           0  Float64\n",
      "   3 │ 0.151311   0.0793804  -0.551882  0.089322  0.709997         0  Float64\n",
      "   4 │ 0.049350   0.0780318  -0.52648   0.087717  0.84184          0  Float64\n",
      "   5 │ 0.160995   0.0780412  -0.531961  0.088239  0.784907         0  Float64\n",
      "   6 │ 0.217245   0.0783827  -0.520391  0.0887    0.787784         0  Float64\n",
      "   7 │ 0.141136   0.079149   -0.558273  0.088488  0.864564         0  Float64\n",
      "   8 │ 0.266988   0.0789142  -0.542782  0.089257  0.818061         0  Float64\n",
      "   9 │ 0.021445   0.0795724  -0.517544  0.089825  0.770882         0  Float64\n",
      "  10 │ -0.124928  0.0781686  -0.551334  0.087773  0.877985         0  Float64\n",
      "  11 │ -0.012595  0.0781931  -0.601246  0.088152  0.800318         0  Float64\n",
      "  12 │ 0.021205   0.0787231  -0.540021  0.088298  0.749555         0  Float64\n",
      "  13 │ 0.320353   0.0783303  -0.550294  0.088692  0.826315         0  Float64\n",
      "  14 │ 0.011774   0.0785723  -0.559733  0.088324  0.868406         0  Float64\n",
      "  15 │ 0.053131   0.0785492  -0.549364  0.088173  0.824517         0  Float64\n",
      "  16 │ 0.185194   0.0783612  -0.550421  0.088647  0.889948         0  Float64\n",
      "  17 │ 0.181141   0.0782957  -0.592846  0.08825   0.828273         0  Float64\n",
      "  18 │ 0.122525   0.078316   -0.545687  0.08824   0.751273         0  Float64\n",
      "  19 │ 0.124494   0.0780177  -0.571873  0.08723   0.974843         0  Float64\n",
      "  20 │ -0.011399  0.0793193  -0.560309  0.089315  0.780431         0  Float64\n",
      "  21 │ 0.103547   0.0784497  -0.545781  0.089011  0.893185         0  Float64\n",
      "  22 │ 0.172694   0.0788189  -0.5374    0.088297  0.774844         0  Float64\n",
      "  23 │ 0.217655   0.0782445  -0.575417  0.088365  0.91954          0  Float64\n",
      "  24 │ -0.117577  0.0784833  -0.549567  0.088822  0.777037         0  Float64\n",
      "  25 │ 0.164883   0.077734   -0.560509  0.087339  1.11914          0  Float64\n",
      "  26 │ 0.087822   0.0792618  -0.564616  0.089133  0.78137          0  Float64\n",
      "  27 │ 0.298320   0.0782424  -0.567147  0.088134  0.745935         0  Float64\n",
      "  28 │ 0.031814   0.0786871  -0.565248  0.088084  0.97817          0  Float64\n",
      "  29 │ 0.178404   0.078262   -0.507941  0.087952  1.00595          0  Float64\n",
      "  30 │ -0.265890  0.0782699  -0.572103  0.087566  0.83367          0  Float64\n",
      "  31 │ 0.165193   0.078552   -0.548538  0.088739  0.842288         0  Float64\n",
      "  32 │ 0.265898   0.0794859  -0.56017   0.089178  0.808618         0  Float64\n",
      "  33 │ 0.019330   0.0789985  -0.509219  0.089048  0.742762         0  Float64\n",
      "  34 │ 0.068620   0.0782968  -0.5606    0.088499  0.763627         0  Float64\n",
      "  35 │ -0.191824  0.0780796  -0.536775  0.088159  0.820279         0  Float64\n",
      "  36 │ -0.067489  0.0783017  -0.51215   0.088219  0.782474         0  Float64\n",
      "  37 │ -0.301235  0.0783696  -0.549491  0.088247  0.841603         0  Float64\n",
      "  38 │ -0.123779  0.0785123  -0.547456  0.088661  0.789892         0  Float64\n",
      "  39 │ -0.220125  0.0782416  -0.560187  0.087877  0.972143         0  Float64\n",
      "  40 │ -0.019254  0.0779281  -0.521295  0.087925  0.827405         0  Float64\n",
      "  41 │ 0.200853   0.0784313  -0.546054  0.087984  0.893649         0  Float64\n",
      "  42 │ -0.063419  0.0775535  -0.53085   0.087303  0.822197         0  Float64\n",
      "  43 │ -0.220344  0.0789139  -0.513647  0.088249  0.869147         0  Float64\n",
      "  44 │ -0.135211  0.0782271  -0.536263  0.088699  0.894006         0  Float64\n",
      "  45 │ 0.311238   0.0787833  -0.560952  0.088274  0.87167          0  Float64\n",
      "  46 │ -0.040103  0.0784815  -0.541929  0.0891    0.767065         0  Float64\n",
      "  47 │ 0.110366   0.0784058  -0.52509   0.087972  0.763162         0  Float64\n",
      "  48 │ 0.335879   0.0784665  -0.522789  0.08882   0.817987         0  Float64\n",
      "  49 │ 0.133671   0.0781973  -0.549953  0.088374  0.788987         0  Float64\n",
      "  50 │ 0.459321   0.0780978  -0.539423  0.088806  0.755769         0  Float64\n"
     ]
    }
   ],
   "source": [
    "inflation_source = CSV.read(\"../sb_gbi/inflation_scenarios.csv\",DataFrame)\n",
    "equity_source = CSV.read(\"../sb_gbi/equity_scenarios.csv\",DataFrame)\n",
    "println(describe(inflation_source))\n",
    "println(describe(equity_source))"
   ]
  },
  {
   "cell_type": "code",
   "execution_count": 144,
   "metadata": {},
   "outputs": [
    {
     "data": {
      "text/plain": [
       "6×2×5 Array{Float64, 3}:\n",
       "[:, :, 1] =\n",
       " 0.0403     0.183608\n",
       " 0.035158   0.040727\n",
       " 0.031416   0.130638\n",
       " 0.046096   0.167958\n",
       " 0.018379  -0.178384\n",
       " 0.043002   0.032183\n",
       "\n",
       "[:, :, 2] =\n",
       " 0.0403     0.057796\n",
       " 0.013222  -0.015669\n",
       " 0.0123     0.01473\n",
       " 0.043899   0.15795\n",
       " 0.027086  -0.133039\n",
       " 0.050294  -0.024649\n",
       "\n",
       "[:, :, 3] =\n",
       " 0.0403    -0.042034\n",
       " 0.039912   0.071062\n",
       " 0.040263   0.211914\n",
       " 0.035394   0.19843\n",
       " 0.0123     0.246116\n",
       " 0.0123     0.020742\n",
       "\n",
       "[:, :, 4] =\n",
       " 0.0403     0.048233\n",
       " 0.016048   0.002585\n",
       " 0.0123     0.069304\n",
       " 0.0123    -0.053078\n",
       " 0.03366   -0.156461\n",
       " 0.0123     0.279966\n",
       "\n",
       "[:, :, 5] =\n",
       " 0.0403    -0.097277\n",
       " 0.065174   0.278737\n",
       " 0.052422   0.249458\n",
       " 0.071214   0.093802\n",
       " 0.05068    0.071716\n",
       " 0.035161   0.007833"
      ]
     },
     "metadata": {},
     "output_type": "display_data"
    }
   ],
   "source": [
    "inflation = Matrix(inflation_source[1:5,1:6])\n",
    "equity = Matrix(equity_source[1:5,1:6])\n",
    "\n",
    "returns = cat(inflation,equity,dims=3)\n",
    "returns = permutedims(returns,(2,3,1))"
   ]
  },
  {
   "cell_type": "code",
   "execution_count": 149,
   "metadata": {},
   "outputs": [
    {
     "data": {
      "text/plain": [
       "50×2×99999 Array{Float64, 3}:\n",
       "[:, :, 1] =\n",
       " 0.0403     0.183608\n",
       " 0.035158   0.040727\n",
       " 0.031416   0.130638\n",
       " 0.046096   0.167958\n",
       " 0.018379  -0.178384\n",
       " 0.043002   0.032183\n",
       " 0.029849   0.122386\n",
       " 0.043892  -0.049013\n",
       " 0.033638  -0.230813\n",
       " 0.027528  -0.230181\n",
       " ⋮         \n",
       " 0.028233   0.204203\n",
       " 0.027208   0.084194\n",
       " 0.040718  -0.195554\n",
       " 0.026403   0.164883\n",
       " 0.0688     0.105274\n",
       " 0.013082   0.357969\n",
       " 0.019406   0.310636\n",
       " 0.06628    0.259417\n",
       " 0.09403    0.106576\n",
       "\n",
       "[:, :, 2] =\n",
       " 0.0403     0.057796\n",
       " 0.013222  -0.015669\n",
       " 0.0123     0.01473\n",
       " 0.043899   0.15795\n",
       " 0.027086  -0.133039\n",
       " 0.050294  -0.024649\n",
       " 0.071821  -0.002556\n",
       " 0.091165   0.101583\n",
       " 0.055169   0.042812\n",
       " 0.0123     0.170594\n",
       " ⋮         \n",
       " 0.076536   0.108522\n",
       " 0.068139   0.101433\n",
       " 0.026111   0.089037\n",
       " 0.054689  -0.170575\n",
       " 0.036394   0.116987\n",
       " 0.020704   0.206452\n",
       " 0.0123     0.181475\n",
       " 0.019199   0.038817\n",
       " 0.021789   0.09112\n",
       "\n",
       "[:, :, 3] =\n",
       " 0.0403    -0.042034\n",
       " 0.039912   0.071062\n",
       " 0.040263   0.211914\n",
       " 0.035394   0.19843\n",
       " 0.0123     0.246116\n",
       " 0.0123     0.020742\n",
       " 0.0123     0.222028\n",
       " 0.034187   0.107744\n",
       " 0.026701   0.092587\n",
       " 0.0123    -0.058472\n",
       " ⋮         \n",
       " 0.047911  -0.002485\n",
       " 0.041985   0.148345\n",
       " 0.0123     0.101275\n",
       " 0.0123     0.009295\n",
       " 0.0123    -0.09912\n",
       " 0.0123     0.207978\n",
       " 0.0123     0.271774\n",
       " 0.02551    0.03051\n",
       " 0.0123     0.014144\n",
       "\n",
       ";;; … \n",
       "\n",
       "[:, :, 99997] =\n",
       " 0.0403     0.119115\n",
       " 0.064728   0.095772\n",
       " 0.058533  -0.292217\n",
       " 0.036324   0.030172\n",
       " 0.019063   0.118621\n",
       " 0.031583   0.14727\n",
       " 0.054455  -0.075543\n",
       " 0.057054  -0.188645\n",
       " 0.029613  -0.232615\n",
       " 0.0123     0.422513\n",
       " ⋮         \n",
       " 0.046302  -0.359572\n",
       " 0.024602  -0.228973\n",
       " 0.033384   0.188294\n",
       " 0.039446   0.069614\n",
       " 0.035065   0.145793\n",
       " 0.054333  -0.305248\n",
       " 0.065596   0.084165\n",
       " 0.0123     0.118251\n",
       " 0.035531   0.292593\n",
       "\n",
       "[:, :, 99998] =\n",
       " 0.0403    -0.145221\n",
       " 0.027103  -0.393472\n",
       " 0.059451   0.060243\n",
       " 0.051567   0.180992\n",
       " 0.04828   -0.166405\n",
       " 0.020833   0.197602\n",
       " 0.036441   0.276082\n",
       " 0.048553   0.041692\n",
       " 0.085438  -0.251283\n",
       " 0.05874    0.166524\n",
       " ⋮         \n",
       " 0.040119  -0.048491\n",
       " 0.015154  -0.070098\n",
       " 0.019057   0.183969\n",
       " 0.0123    -0.04879\n",
       " 0.0123     0.610765\n",
       " 0.0123    -0.17873\n",
       " 0.039894   0.142273\n",
       " 0.04997    0.023003\n",
       " 0.0123     0.115302\n",
       "\n",
       "[:, :, 99999] =\n",
       " 0.0403    -0.025328\n",
       " 0.0123     0.014187\n",
       " 0.027505   0.174296\n",
       " 0.0123     0.076495\n",
       " 0.023295   0.176704\n",
       " 0.035917   0.055657\n",
       " 0.093855   0.077673\n",
       " 0.101407   0.260047\n",
       " 0.122086   0.463005\n",
       " 0.094192  -0.053535\n",
       " ⋮         \n",
       " 0.022895   0.116723\n",
       " 0.017703  -0.240523\n",
       " 0.058755   0.010043\n",
       " 0.03793   -0.153376\n",
       " 0.062836  -0.060698\n",
       " 0.033091   0.373242\n",
       " 0.0123     0.012147\n",
       " 0.065018   0.20869\n",
       " 0.095034   0.170179"
      ]
     },
     "metadata": {},
     "output_type": "display_data"
    }
   ],
   "source": [
    "inflation = Matrix(inflation_source[:,1:50])\n",
    "equity = Matrix(equity_source)\n",
    "\n",
    "r_long = cat(inflation,equity,dims=3)\n",
    "r_long = permutedims(r_long,(2,3,1)) "
   ]
  },
  {
   "cell_type": "code",
   "execution_count": 150,
   "metadata": {},
   "outputs": [
    {
     "data": {
      "text/plain": [
       "(50, 2, 99999)"
      ]
     },
     "metadata": {},
     "output_type": "display_data"
    }
   ],
   "source": [
    "size(r_long)"
   ]
  },
  {
   "cell_type": "code",
   "execution_count": 270,
   "metadata": {},
   "outputs": [
    {
     "data": {
      "text/plain": [
       "4×2×99999 Array{Float64, 3}:\n",
       "[:, :, 1] =\n",
       " 1.03951  1.16857\n",
       " 1.07543  1.21522\n",
       " 1.10869  1.36442\n",
       " 1.15866  1.57626\n",
       "\n",
       "[:, :, 2] =\n",
       " 1.03951  1.05619\n",
       " 1.05316  1.03951\n",
       " 1.06604  1.05471\n",
       " 1.11184  1.20938\n",
       "\n",
       "[:, :, 3] =\n",
       " 1.03951  0.957057\n",
       " 1.08019  1.02276\n",
       " 1.12283  1.21933\n",
       " 1.16188  1.44005\n",
       "\n",
       ";;; … \n",
       "\n",
       "[:, :, 99997] =\n",
       " 1.03951  1.11254\n",
       " 1.10471  1.21429\n",
       " 1.16755  0.79461\n",
       " 1.2092   0.81823\n",
       "\n",
       "[:, :, 99998] =\n",
       " 1.03951  0.843088\n",
       " 1.06731  0.42154\n",
       " 1.12895  0.446199\n",
       " 1.18571  0.520427\n",
       "\n",
       "[:, :, 99999] =\n",
       " 1.03951  0.974346\n",
       " 1.05222  0.988072\n",
       " 1.08077  1.14682\n",
       " 1.09398  1.23136"
      ]
     },
     "metadata": {},
     "output_type": "display_data"
    }
   ],
   "source": [
    "using Base.Iterators\n",
    "\n",
    "function take_returns_in_periods(r,timestamps)\n",
    "    end_index = cumsum(timestamps)\n",
    "    start_index = end_index - timestamps .+ 1\n",
    "    n_scenarios = size(r,3)\n",
    "    n_assets = size(r,2)\n",
    "    t = length(timestamps)\n",
    "    result = zeros(t,n_assets,n_scenarios)\n",
    "    for (index, dt) in enumerate(timestamps)\n",
    "        result[index,:,:] = sum(log1p.(r[start_index[index]:end_index[index],:,:]),dims=1)\n",
    "    end    \n",
    "    return result\n",
    "    \n",
    "end\n",
    "\n",
    "t_returns = take_returns_in_periods(r_long,[1,1,1,1])\n",
    "t_returns = t_returns .+ 1\n",
    "t_returns = cumprod(t_returns,dims=1)"
   ]
  },
  {
   "cell_type": "code",
   "execution_count": 285,
   "metadata": {},
   "outputs": [
    {
     "data": {
      "text/plain": [
       "6×2×5 Array{Float64, 3}:\n",
       "[:, :, 1] =\n",
       " 1.0403   1.18361\n",
       " 1.07687  1.23181\n",
       " 1.11071  1.39273\n",
       " 1.16191  1.62666\n",
       " 1.18326  1.33649\n",
       " 1.23414  1.3795\n",
       "\n",
       "[:, :, 2] =\n",
       " 1.0403   1.0578\n",
       " 1.05405  1.04122\n",
       " 1.06702  1.05656\n",
       " 1.11386  1.22344\n",
       " 1.14403  1.06068\n",
       " 1.20157  1.03453\n",
       "\n",
       "[:, :, 3] =\n",
       " 1.0403   0.957966\n",
       " 1.08182  1.02604\n",
       " 1.12538  1.24347\n",
       " 1.16521  1.49022\n",
       " 1.17954  1.85698\n",
       " 1.19405  1.8955\n",
       "\n",
       "[:, :, 4] =\n",
       " 1.0403   1.04823\n",
       " 1.05699  1.05094\n",
       " 1.07     1.12378\n",
       " 1.08316  1.06413\n",
       " 1.11962  0.897635\n",
       " 1.13339  1.14894\n",
       "\n",
       "[:, :, 5] =\n",
       " 1.0403   0.902723\n",
       " 1.1081   1.15435\n",
       " 1.16619  1.44231\n",
       " 1.24924  1.5776\n",
       " 1.31255  1.69074\n",
       " 1.3587   1.70398"
      ]
     },
     "metadata": {},
     "output_type": "display_data"
    }
   ],
   "source": [
    "cum_r = cumprod(returns .+ 1,dims=1)"
   ]
  },
  {
   "cell_type": "code",
   "execution_count": 290,
   "metadata": {},
   "outputs": [
    {
     "data": {
      "text/plain": [
       "4×2×5 Array{Float64, 3}:\n",
       "[:, :, 1] =\n",
       " 1.0      1.0\n",
       " 1.07687  1.23181\n",
       " 1.16191  1.62666\n",
       " 1.23414  1.3795\n",
       "\n",
       "[:, :, 2] =\n",
       " 1.0      1.0\n",
       " 1.05405  1.04122\n",
       " 1.11386  1.22344\n",
       " 1.20157  1.03453\n",
       "\n",
       "[:, :, 3] =\n",
       " 1.0      1.0\n",
       " 1.08182  1.02604\n",
       " 1.16521  1.49022\n",
       " 1.19405  1.8955\n",
       "\n",
       "[:, :, 4] =\n",
       " 1.0      1.0\n",
       " 1.05699  1.05094\n",
       " 1.08316  1.06413\n",
       " 1.13339  1.14894\n",
       "\n",
       "[:, :, 5] =\n",
       " 1.0      1.0\n",
       " 1.1081   1.15435\n",
       " 1.24924  1.5776\n",
       " 1.3587   1.70398"
      ]
     },
     "metadata": {},
     "output_type": "display_data"
    }
   ],
   "source": [
    "function take_cumulative_returns_in_periods(r,timestamps)\n",
    "    cum_r = cumprod(r .+ 1,dims=1)\n",
    "    end_index = cumsum(timestamps)\n",
    "    start_index = end_index - timestamps .+ 1\n",
    "    n_scenarios = size(r,3)\n",
    "    n_assets = size(r,2)\n",
    "    t = length(timestamps)\n",
    "    result = zeros(t+1,n_assets,n_scenarios)\n",
    "    result[1,:,:] .= 1\n",
    "\n",
    "    for (index, dt) in enumerate(timestamps)\n",
    "        result[index+1,:,:] = cum_r[end_index[index],:,:]\n",
    "    end    \n",
    "    return result\n",
    "    \n",
    "end\n",
    "\n",
    "take_cumulative_returns_in_periods(returns, [2,2,2])"
   ]
  },
  {
   "cell_type": "code",
   "execution_count": 320,
   "metadata": {},
   "outputs": [
    {
     "name": "stdout",
     "output_type": "stream",
     "text": [
      "Summary Stats:\n",
      "Length:         99999\n",
      "Missing Count:  0\n",
      "Mean:           4.952773\n",
      "Std. Deviation: 3.952577\n",
      "Minimum:        0.073572\n",
      "1st Quartile:   2.282939\n",
      "Median:         3.878178\n",
      "3rd Quartile:   6.397595\n",
      "Maximum:        55.105188\n",
      "Type:           Float64\n"
     ]
    }
   ],
   "source": [
    "tc_returns = take_cumulative_returns_in_periods(r_long,[5,5,5,5])\n",
    "\n",
    "using Statistics\n",
    "\n",
    "describe(tc_returns[end,2,:])"
   ]
  },
  {
   "cell_type": "code",
   "execution_count": 303,
   "metadata": {},
   "outputs": [
    {
     "data": {
      "text/plain": [
       "5×2 Matrix{Float64}:\n",
       " 1.0      1.0\n",
       " 1.12844  1.21129\n",
       " 1.32473  2.38032\n",
       " 1.61435  0.925464\n",
       " 2.02817  1.36475"
      ]
     },
     "metadata": {},
     "output_type": "display_data"
    }
   ],
   "source": [
    "function create_sampler(returns)\n",
    "    function sampler()\n",
    "        s = size(returns,3)\n",
    "        rnd = rand(1:s)\n",
    "        return returns[:,:,rnd]\n",
    "    end\n",
    "end \n",
    "\n",
    "sample = create_sampler(tc_returns)\n",
    "\n",
    "sample()"
   ]
  },
  {
   "cell_type": "code",
   "execution_count": 313,
   "metadata": {},
   "outputs": [
    {
     "data": {
      "text/plain": [
       "\"Tree 1x8x4x2x2 with d=[0.46820483031970134; 0.46820483031970134;;] at 100000 iterations\""
      ]
     },
     "metadata": {},
     "output_type": "display_data"
    }
   ],
   "source": [
    "tree = Tree([1,8,4,2,2],2)\n",
    "\n",
    "tree_approximation!(tree, create_sampler(tc_returns), 100000, 2, 2)\n",
    "tree.name"
   ]
  },
  {
   "cell_type": "code",
   "execution_count": 325,
   "metadata": {},
   "outputs": [
    {
     "data": {
      "text/plain": [
       "8×2 Matrix{Float64}:\n",
       " 1.11566  1.60558\n",
       " 1.18611  1.51155\n",
       " 1.25396  1.49282\n",
       " 1.1523   1.54569\n",
       " 1.2949   1.51827\n",
       " 1.2195   1.55224\n",
       " 1.3432   1.52111\n",
       " 1.42225  1.47247"
      ]
     },
     "metadata": {},
     "output_type": "display_data"
    }
   ],
   "source": [
    "tree.state[nodes(tree,1),:]"
   ]
  },
  {
   "cell_type": "code",
   "execution_count": 324,
   "metadata": {},
   "outputs": [
    {
     "data": {
      "text/plain": [
       "8×1 Matrix{Float64}:\n",
       " 0.10381\n",
       " 0.16031\n",
       " 0.1558\n",
       " 0.14481\n",
       " 0.13728\n",
       " 0.16568\n",
       " 0.09526000000000001\n",
       " 0.03705000000000001"
      ]
     },
     "metadata": {},
     "output_type": "display_data"
    }
   ],
   "source": [
    "tree.probability[nodes(tree,1),:]"
   ]
  },
  {
   "cell_type": "code",
   "execution_count": 330,
   "metadata": {},
   "outputs": [],
   "source": [
    "lattice = lattice_approximation([1,12,12,12,12],create_sampler(tc_returns),1000000,2,2);\n"
   ]
  },
  {
   "cell_type": "code",
   "execution_count": 331,
   "metadata": {},
   "outputs": [
    {
     "data": {
      "text/plain": [
       "\"Lattice 1 with distance=0.21939024199389504\""
      ]
     },
     "metadata": {},
     "output_type": "display_data"
    }
   ],
   "source": [
    "infl = lattice[1]\n",
    "infl.name"
   ]
  },
  {
   "cell_type": "code",
   "execution_count": 346,
   "metadata": {},
   "outputs": [
    {
     "data": {
      "text/plain": [
       "5-element Vector{Array{Float64, 3}}:\n",
       " [1.0;;;]\n",
       " [1.20878; 1.302603; … ; 1.286596; 1.286596;;;]\n",
       " [1.413069; 1.661684; … ; 1.576028; 1.576028;;;]\n",
       " [1.646425; 2.115416; … ; 1.878277; 1.878277;;;]\n",
       " [2.691979; 1.918829; … ; 2.235342; 2.235342;;;]"
      ]
     },
     "metadata": {},
     "output_type": "display_data"
    }
   ],
   "source": [
    "infl.state"
   ]
  },
  {
   "cell_type": "code",
   "execution_count": 344,
   "metadata": {},
   "outputs": [
    {
     "data": {
      "text/plain": [
       "12×1×1 Array{Float64, 3}:\n",
       "[:, :, 1] =\n",
       " 0.03865054456693828\n",
       " 0.054295650433133336\n",
       " 0.05169217328464093\n",
       " 0.051593410361697734\n",
       " 0.05169168283198822\n",
       " 0.05169168283198822\n",
       " 0.05169168283198822\n",
       " 0.05169168283198822\n",
       " 0.05169168283198822\n",
       " 0.05169168283198822\n",
       " 0.05169168283198822\n",
       " 0.05169168283198822"
      ]
     },
     "metadata": {},
     "output_type": "display_data"
    }
   ],
   "source": [
    "infl.state[2] .^(1/5) .-1"
   ]
  },
  {
   "cell_type": "code",
   "execution_count": 345,
   "metadata": {},
   "outputs": [
    {
     "data": {
      "text/plain": [
       "1×12×1 Array{Float64, 3}:\n",
       "[:, :, 1] =\n",
       " 0.678695  0.166758  0.020797  0.133031  …  0.0  0.0  0.0  0.0  0.0  0.0"
      ]
     },
     "metadata": {},
     "output_type": "display_data"
    }
   ],
   "source": [
    "infl.probability[2]"
   ]
  },
  {
   "cell_type": "code",
   "execution_count": 347,
   "metadata": {},
   "outputs": [
    {
     "data": {
      "text/plain": [
       "\"Lattice 2 with distance=1.441478237803794\""
      ]
     },
     "metadata": {},
     "output_type": "display_data"
    }
   ],
   "source": [
    "eq = lattice[2]\n",
    "eq.name"
   ]
  },
  {
   "cell_type": "code",
   "execution_count": 349,
   "metadata": {},
   "outputs": [
    {
     "data": {
      "text/plain": [
       "5-element Vector{Array{Float64, 3}}:\n",
       " [1.0;;;]\n",
       " [2.242584; 0.950915; … ; 1.286596; 1.286596;;;]\n",
       " [1.020693; 4.649101; … ; 1.576028; 1.576028;;;]\n",
       " [1.128223; 10.203443; … ; 1.878277; 1.878277;;;]\n",
       " [1.261627; 23.682682; … ; 2.235342; 2.235342;;;]"
      ]
     },
     "metadata": {},
     "output_type": "display_data"
    }
   ],
   "source": [
    "eq.state"
   ]
  },
  {
   "cell_type": "code",
   "execution_count": 351,
   "metadata": {},
   "outputs": [
    {
     "data": {
      "text/plain": [
       "12×1×1 Array{Float64, 3}:\n",
       "[:, :, 1] =\n",
       "  0.17530272708933925\n",
       " -0.010015626187999005\n",
       "  0.08103249368246646\n",
       "  0.05017179603709332\n",
       "  0.05183158822487499\n",
       "  0.05169168283198822\n",
       "  0.05169168283198822\n",
       "  0.05169168283198822\n",
       "  0.05169168283198822\n",
       "  0.05169168283198822\n",
       "  0.05169168283198822\n",
       "  0.05169168283198822"
      ]
     },
     "metadata": {},
     "output_type": "display_data"
    }
   ],
   "source": [
    "eq.state[2] .^(1/5) .-1"
   ]
  },
  {
   "cell_type": "code",
   "execution_count": 352,
   "metadata": {},
   "outputs": [
    {
     "data": {
      "text/plain": [
       "5-element Vector{Array{Float64, 3}}:\n",
       " [1.0;;;]\n",
       " [0.26448 0.236408 … 0.0 0.0;;;]\n",
       " [0.006688 0.097267 … 0.0 0.0; 0.130779 0.000152 … 0.0 0.0; … ; 0.0 0.0 … 0.0 0.0; 0.0 0.0 … 0.0 0.0;;;]\n",
       " [0.126834 0.0 … 0.0 0.0; 0.000141 0.039529 … 0.0 0.0; … ; 0.0 0.0 … 0.0 0.0; 0.0 0.0 … 0.0 0.0;;;]\n",
       " [0.117142 0.0 … 0.0 0.0; 0.0 0.011977 … 0.0 0.0; … ; 0.0 0.0 … 0.0 0.0; 0.0 0.0 … 0.0 0.0;;;]"
      ]
     },
     "metadata": {},
     "output_type": "display_data"
    }
   ],
   "source": [
    "eq.probability"
   ]
  },
  {
   "cell_type": "code",
   "execution_count": 353,
   "metadata": {},
   "outputs": [
    {
     "data": {
      "text/plain": [
       "1×12×1 Array{Float64, 3}:\n",
       "[:, :, 1] =\n",
       " 0.26448  0.236408  0.322622  0.112232  …  0.000193  0.0  0.0  0.0  0.0  0.0"
      ]
     },
     "metadata": {},
     "output_type": "display_data"
    }
   ],
   "source": [
    "eq.probability[2]"
   ]
  }
 ],
 "metadata": {
  "kernelspec": {
   "display_name": "Julia 1.10.2",
   "language": "julia",
   "name": "julia-1.10"
  },
  "language_info": {
   "file_extension": ".jl",
   "mimetype": "application/julia",
   "name": "julia",
   "version": "1.10.2"
  }
 },
 "nbformat": 4,
 "nbformat_minor": 2
}
