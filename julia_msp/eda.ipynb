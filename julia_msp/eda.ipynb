{
 "cells": [
  {
   "cell_type": "code",
   "execution_count": 2,
   "metadata": {},
   "outputs": [
    {
     "name": "stderr",
     "output_type": "stream",
     "text": [
      "\u001b[32m\u001b[1m    Updating\u001b[22m\u001b[39m registry at `C:\\Users\\matsz\\.julia\\registries\\General.toml`\n",
      "\u001b[32m\u001b[1m   Resolving\u001b[22m\u001b[39m package versions...\n",
      "\u001b[32m\u001b[1m   Installed\u001b[22m\u001b[39m FredData ── v0.6.0\n",
      "\u001b[32m\u001b[1m   Installed\u001b[22m\u001b[39m Mocking ─── v0.7.8\n",
      "\u001b[32m\u001b[1m   Installed\u001b[22m\u001b[39m TZJData ─── v1.2.0+2024a\n",
      "\u001b[32m\u001b[1m   Installed\u001b[22m\u001b[39m TimeZones ─ v1.15.0\n",
      "\u001b[32m\u001b[1m    Updating\u001b[22m\u001b[39m `C:\\Users\\matsz\\.julia\\environments\\v1.10\\Project.toml`\n",
      "  \u001b[90m[6e85b7ee] \u001b[39m\u001b[92m+ FredData v0.6.0\u001b[39m\n",
      "\u001b[32m\u001b[1m    Updating\u001b[22m\u001b[39m `C:\\Users\\matsz\\.julia\\environments\\v1.10\\Manifest.toml`\n",
      "  \u001b[90m[6e85b7ee] \u001b[39m\u001b[92m+ FredData v0.6.0\u001b[39m\n",
      "  \u001b[90m[78c3b35d] \u001b[39m\u001b[92m+ Mocking v0.7.8\u001b[39m\n",
      "  \u001b[90m[dc5dba14] \u001b[39m\u001b[92m+ TZJData v1.2.0+2024a\u001b[39m\n",
      "  \u001b[90m[f269a46b] \u001b[39m\u001b[92m+ TimeZones v1.15.0\u001b[39m\n",
      "\u001b[32m\u001b[1mPrecompiling\u001b[22m\u001b[39m project...\n",
      "\u001b[32m  ✓ \u001b[39m\u001b[90mMocking\u001b[39m\n",
      "\u001b[32m  ✓ \u001b[39m\u001b[90mTZJData\u001b[39m\n",
      "\u001b[32m  ✓ \u001b[39m\u001b[90mTimeZones\u001b[39m\n",
      "\u001b[32m  ✓ \u001b[39m\u001b[90mTimeZones → TimeZonesRecipesBaseExt\u001b[39m\n",
      "\u001b[32m  ✓ \u001b[39mFredData\n",
      "  5 dependencies successfully precompiled in 31 seconds. 408 already precompiled.\n"
     ]
    }
   ],
   "source": [
    "import Pkg\n",
    "Pkg.add(\"FredData\")"
   ]
  },
  {
   "cell_type": "code",
   "execution_count": 6,
   "metadata": {},
   "outputs": [],
   "source": [
    "using Downloads\n",
    "using FredData"
   ]
  },
  {
   "cell_type": "code",
   "execution_count": 4,
   "metadata": {},
   "outputs": [
    {
     "ename": "ErrorException",
     "evalue": "FRED API Key not detected.",
     "output_type": "error",
     "traceback": [
      "FRED API Key not detected.\n",
      "\n",
      "Stacktrace:\n",
      " [1] error(s::String)\n",
      "   @ Base .\\error.jl:35\n",
      " [2] load_fred_key()\n",
      "   @ FredData C:\\Users\\matsz\\.julia\\packages\\FredData\\5M7x4\\src\\FredData.jl:82\n",
      " [3] Fred()\n",
      "   @ FredData C:\\Users\\matsz\\.julia\\packages\\FredData\\5M7x4\\src\\FredData.jl:89\n",
      " [4] top-level scope\n",
      "   @ c:\\Users\\matsz\\programowanie\\Optymalizacja portfela\\julia_msp\\eda.ipynb:1"
     ]
    }
   ],
   "source": [
    "f = Fred()\n",
    "plwibor = get_data(f,\"IR3TIB01PLM156N\")"
   ]
  },
  {
   "cell_type": "code",
   "execution_count": 12,
   "metadata": {},
   "outputs": [
    {
     "ename": "MethodError",
     "evalue": "MethodError: no method matching download(::String, ::Nothing; output::Vector{String})\n\nClosest candidates are:\n  download(::AbstractString, ::Union{Nothing, Base.AbstractCmd, AbstractString, IO}; method, headers, timeout, progress, verbose, debug, downloader) got unsupported keyword argument \"output\"\n   @ Downloads C:\\Users\\matsz\\.julia\\juliaup\\julia-1.10.2+0.x64.w64.mingw32\\share\\julia\\stdlib\\v1.10\\Downloads\\src\\Downloads.jl:246\n  download(::AbstractString; ...)\n   @ Downloads C:\\Users\\matsz\\.julia\\juliaup\\julia-1.10.2+0.x64.w64.mingw32\\share\\julia\\stdlib\\v1.10\\Downloads\\src\\Downloads.jl:246\n",
     "output_type": "error",
     "traceback": [
      "MethodError: no method matching download(::String, ::Nothing; output::Vector{String})\n",
      "\n",
      "Closest candidates are:\n",
      "  download(::AbstractString, ::Union{Nothing, Base.AbstractCmd, AbstractString, IO}; method, headers, timeout, progress, verbose, debug, downloader) got unsupported keyword argument \"output\"\n",
      "   @ Downloads C:\\Users\\matsz\\.julia\\juliaup\\julia-1.10.2+0.x64.w64.mingw32\\share\\julia\\stdlib\\v1.10\\Downloads\\src\\Downloads.jl:246\n",
      "  download(::AbstractString; ...)\n",
      "   @ Downloads C:\\Users\\matsz\\.julia\\juliaup\\julia-1.10.2+0.x64.w64.mingw32\\share\\julia\\stdlib\\v1.10\\Downloads\\src\\Downloads.jl:246\n",
      "\n",
      "\n",
      "Stacktrace:\n",
      " [1] kwerr(::@NamedTuple{output::Vector{String}}, ::Function, ::String, ::Nothing)\n",
      "   @ Base .\\error.jl:165\n",
      " [2] top-level scope\n",
      "   @ c:\\Users\\matsz\\programowanie\\Optymalizacja portfela\\julia_msp\\eda.ipynb:1"
     ]
    }
   ],
   "source": [
    "Downloads.download(\"https://stooq.pl/q/d/?s=wig20tr&i=y\", output=[\"../test.csv\"])"
   ]
  }
 ],
 "metadata": {
  "kernelspec": {
   "display_name": "Julia 1.10.2",
   "language": "julia",
   "name": "julia-1.10"
  },
  "language_info": {
   "file_extension": ".jl",
   "mimetype": "application/julia",
   "name": "julia",
   "version": "1.10.2"
  }
 },
 "nbformat": 4,
 "nbformat_minor": 2
}
