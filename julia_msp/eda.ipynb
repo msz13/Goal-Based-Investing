{
 "cells": [
  {
   "cell_type": "code",
   "execution_count": 2,
   "metadata": {},
   "outputs": [
    {
     "name": "stderr",
     "output_type": "stream",
     "text": [
      "\u001b[32m\u001b[1m    Updating\u001b[22m\u001b[39m registry at `C:\\Users\\matsz\\.julia\\registries\\General.toml`\n",
      "\u001b[32m\u001b[1m   Resolving\u001b[22m\u001b[39m package versions...\n",
      "\u001b[32m\u001b[1m   Installed\u001b[22m\u001b[39m FredData ── v0.6.0\n",
      "\u001b[32m\u001b[1m   Installed\u001b[22m\u001b[39m Mocking ─── v0.7.8\n",
      "\u001b[32m\u001b[1m   Installed\u001b[22m\u001b[39m TZJData ─── v1.2.0+2024a\n",
      "\u001b[32m\u001b[1m   Installed\u001b[22m\u001b[39m TimeZones ─ v1.15.0\n",
      "\u001b[32m\u001b[1m    Updating\u001b[22m\u001b[39m `C:\\Users\\matsz\\.julia\\environments\\v1.10\\Project.toml`\n",
      "  \u001b[90m[6e85b7ee] \u001b[39m\u001b[92m+ FredData v0.6.0\u001b[39m\n",
      "\u001b[32m\u001b[1m    Updating\u001b[22m\u001b[39m `C:\\Users\\matsz\\.julia\\environments\\v1.10\\Manifest.toml`\n",
      "  \u001b[90m[6e85b7ee] \u001b[39m\u001b[92m+ FredData v0.6.0\u001b[39m\n",
      "  \u001b[90m[78c3b35d] \u001b[39m\u001b[92m+ Mocking v0.7.8\u001b[39m\n",
      "  \u001b[90m[dc5dba14] \u001b[39m\u001b[92m+ TZJData v1.2.0+2024a\u001b[39m\n",
      "  \u001b[90m[f269a46b] \u001b[39m\u001b[92m+ TimeZones v1.15.0\u001b[39m\n",
      "\u001b[32m\u001b[1mPrecompiling\u001b[22m\u001b[39m project...\n",
      "\u001b[32m  ✓ \u001b[39m\u001b[90mMocking\u001b[39m\n",
      "\u001b[32m  ✓ \u001b[39m\u001b[90mTZJData\u001b[39m\n",
      "\u001b[32m  ✓ \u001b[39m\u001b[90mTimeZones\u001b[39m\n",
      "\u001b[32m  ✓ \u001b[39m\u001b[90mTimeZones → TimeZonesRecipesBaseExt\u001b[39m\n",
      "\u001b[32m  ✓ \u001b[39mFredData\n",
      "  5 dependencies successfully precompiled in 31 seconds. 408 already precompiled.\n"
     ]
    }
   ],
   "source": [
    "import Pkg\n",
    "Pkg.add(\"FredData\")"
   ]
  },
  {
   "cell_type": "code",
   "execution_count": 6,
   "metadata": {},
   "outputs": [],
   "source": [
    "using Downloads\n",
    "using FredData"
   ]
  },
  {
   "cell_type": "code",
   "execution_count": 25,
   "metadata": {},
   "outputs": [
    {
     "data": {
      "text/plain": [
       "FredSeries\n",
       "\tid: IR3TIB01PLM156N\n",
       "\ttitle: Interest Rates: 3-Month or 90-Day Rates and Yields: Interbank Rates: Total for Poland\n",
       "\tunits: Percent\n",
       "\tseas_adj (native): Not Seasonally Adjusted\n",
       "\tfreq (native): Monthly\n",
       "\trealtime_start: 2024-05-13\n",
       "\trealtime_end: 2024-05-13\n",
       "\tlast_updated: 2024-04-10T16:30:14\n",
       "\tnotes: OECD Data Filters: REF_AREA: POL MEASURE: IR3TIB UNIT_MEASURE: PA ACTIVITY: _Z ADJUSTMENT: _Z TRANSFORMATION: _Z FREQ: M All OECD data should be cited as follows: OECD (year), (dataset name), (data source) DOI or https://data-explorer.oecd.org/ (https://data-explorer.oecd.org/). (accessed on (date)).\n",
       "\ttrans_short: lin\n",
       "\tdata: 394x4 DataFrame with columns [\"realtime_start\", \"realtime_end\", \"date\", \"value\"]\n"
      ]
     },
     "metadata": {},
     "output_type": "display_data"
    }
   ],
   "source": [
    "f = Fred()\n",
    "data= get_data(f,\"IR3TIB01PLM156N\")"
   ]
  },
  {
   "cell_type": "code",
   "execution_count": 23,
   "metadata": {},
   "outputs": [
    {
     "data": {
      "text/html": [
       "<div><div style = \"float: left;\"><span>15×5 DataFrame</span></div><div style = \"clear: both;\"></div></div><div class = \"data-frame\" style = \"overflow-x: scroll;\"><table class = \"data-frame\" style = \"margin-bottom: 6px;\"><thead><tr class = \"header\"><th class = \"rowNumber\" style = \"font-weight: bold; text-align: right;\">Row</th><th style = \"text-align: left;\">realtime_start</th><th style = \"text-align: left;\">realtime_end</th><th style = \"text-align: left;\">date</th><th style = \"text-align: left;\">value</th><th style = \"text-align: left;\">premium</th></tr><tr class = \"subheader headerLastRow\"><th class = \"rowNumber\" style = \"font-weight: bold; text-align: right;\"></th><th title = \"Dates.Date\" style = \"text-align: left;\">Date</th><th title = \"Dates.Date\" style = \"text-align: left;\">Date</th><th title = \"Dates.Date\" style = \"text-align: left;\">Date</th><th title = \"Float64\" style = \"text-align: left;\">Float64</th><th title = \"Float64\" style = \"text-align: left;\">Float64</th></tr></thead><tbody><tr><td class = \"rowNumber\" style = \"font-weight: bold; text-align: right;\">1</td><td style = \"text-align: left;\">2024-05-13</td><td style = \"text-align: left;\">2024-05-13</td><td style = \"text-align: left;\">2023-01-01</td><td style = \"text-align: right;\">6.95</td><td style = \"text-align: right;\">4.95</td></tr><tr><td class = \"rowNumber\" style = \"font-weight: bold; text-align: right;\">2</td><td style = \"text-align: left;\">2024-05-13</td><td style = \"text-align: left;\">2024-05-13</td><td style = \"text-align: left;\">2023-02-01</td><td style = \"text-align: right;\">6.94</td><td style = \"text-align: right;\">4.94</td></tr><tr><td class = \"rowNumber\" style = \"font-weight: bold; text-align: right;\">3</td><td style = \"text-align: left;\">2024-05-13</td><td style = \"text-align: left;\">2024-05-13</td><td style = \"text-align: left;\">2023-03-01</td><td style = \"text-align: right;\">6.89</td><td style = \"text-align: right;\">4.89</td></tr><tr><td class = \"rowNumber\" style = \"font-weight: bold; text-align: right;\">4</td><td style = \"text-align: left;\">2024-05-13</td><td style = \"text-align: left;\">2024-05-13</td><td style = \"text-align: left;\">2023-04-01</td><td style = \"text-align: right;\">6.9</td><td style = \"text-align: right;\">4.9</td></tr><tr><td class = \"rowNumber\" style = \"font-weight: bold; text-align: right;\">5</td><td style = \"text-align: left;\">2024-05-13</td><td style = \"text-align: left;\">2024-05-13</td><td style = \"text-align: left;\">2023-05-01</td><td style = \"text-align: right;\">6.9</td><td style = \"text-align: right;\">4.9</td></tr><tr><td class = \"rowNumber\" style = \"font-weight: bold; text-align: right;\">6</td><td style = \"text-align: left;\">2024-05-13</td><td style = \"text-align: left;\">2024-05-13</td><td style = \"text-align: left;\">2023-06-01</td><td style = \"text-align: right;\">6.9</td><td style = \"text-align: right;\">4.9</td></tr><tr><td class = \"rowNumber\" style = \"font-weight: bold; text-align: right;\">7</td><td style = \"text-align: left;\">2024-05-13</td><td style = \"text-align: left;\">2024-05-13</td><td style = \"text-align: left;\">2023-07-01</td><td style = \"text-align: right;\">6.76</td><td style = \"text-align: right;\">4.76</td></tr><tr><td class = \"rowNumber\" style = \"font-weight: bold; text-align: right;\">8</td><td style = \"text-align: left;\">2024-05-13</td><td style = \"text-align: left;\">2024-05-13</td><td style = \"text-align: left;\">2023-08-01</td><td style = \"text-align: right;\">6.69</td><td style = \"text-align: right;\">4.69</td></tr><tr><td class = \"rowNumber\" style = \"font-weight: bold; text-align: right;\">9</td><td style = \"text-align: left;\">2024-05-13</td><td style = \"text-align: left;\">2024-05-13</td><td style = \"text-align: left;\">2023-09-01</td><td style = \"text-align: right;\">5.99</td><td style = \"text-align: right;\">3.99</td></tr><tr><td class = \"rowNumber\" style = \"font-weight: bold; text-align: right;\">10</td><td style = \"text-align: left;\">2024-05-13</td><td style = \"text-align: left;\">2024-05-13</td><td style = \"text-align: left;\">2023-10-01</td><td style = \"text-align: right;\">5.68</td><td style = \"text-align: right;\">3.68</td></tr><tr><td class = \"rowNumber\" style = \"font-weight: bold; text-align: right;\">11</td><td style = \"text-align: left;\">2024-05-13</td><td style = \"text-align: left;\">2024-05-13</td><td style = \"text-align: left;\">2023-11-01</td><td style = \"text-align: right;\">5.77</td><td style = \"text-align: right;\">3.77</td></tr><tr><td class = \"rowNumber\" style = \"font-weight: bold; text-align: right;\">12</td><td style = \"text-align: left;\">2024-05-13</td><td style = \"text-align: left;\">2024-05-13</td><td style = \"text-align: left;\">2023-12-01</td><td style = \"text-align: right;\">5.85</td><td style = \"text-align: right;\">3.85</td></tr><tr><td class = \"rowNumber\" style = \"font-weight: bold; text-align: right;\">13</td><td style = \"text-align: left;\">2024-05-13</td><td style = \"text-align: left;\">2024-05-13</td><td style = \"text-align: left;\">2024-01-01</td><td style = \"text-align: right;\">5.87</td><td style = \"text-align: right;\">3.87</td></tr><tr><td class = \"rowNumber\" style = \"font-weight: bold; text-align: right;\">14</td><td style = \"text-align: left;\">2024-05-13</td><td style = \"text-align: left;\">2024-05-13</td><td style = \"text-align: left;\">2024-02-01</td><td style = \"text-align: right;\">5.86</td><td style = \"text-align: right;\">3.86</td></tr><tr><td class = \"rowNumber\" style = \"font-weight: bold; text-align: right;\">15</td><td style = \"text-align: left;\">2024-05-13</td><td style = \"text-align: left;\">2024-05-13</td><td style = \"text-align: left;\">2024-03-01</td><td style = \"text-align: right;\">5.86</td><td style = \"text-align: right;\">3.86</td></tr></tbody></table></div>"
      ],
      "text/latex": [
       "\\begin{tabular}{r|ccccc}\n",
       "\t& realtime\\_start & realtime\\_end & date & value & premium\\\\\n",
       "\t\\hline\n",
       "\t& Date & Date & Date & Float64 & Float64\\\\\n",
       "\t\\hline\n",
       "\t1 & 2024-05-13 & 2024-05-13 & 2023-01-01 & 6.95 & 4.95 \\\\\n",
       "\t2 & 2024-05-13 & 2024-05-13 & 2023-02-01 & 6.94 & 4.94 \\\\\n",
       "\t3 & 2024-05-13 & 2024-05-13 & 2023-03-01 & 6.89 & 4.89 \\\\\n",
       "\t4 & 2024-05-13 & 2024-05-13 & 2023-04-01 & 6.9 & 4.9 \\\\\n",
       "\t5 & 2024-05-13 & 2024-05-13 & 2023-05-01 & 6.9 & 4.9 \\\\\n",
       "\t6 & 2024-05-13 & 2024-05-13 & 2023-06-01 & 6.9 & 4.9 \\\\\n",
       "\t7 & 2024-05-13 & 2024-05-13 & 2023-07-01 & 6.76 & 4.76 \\\\\n",
       "\t8 & 2024-05-13 & 2024-05-13 & 2023-08-01 & 6.69 & 4.69 \\\\\n",
       "\t9 & 2024-05-13 & 2024-05-13 & 2023-09-01 & 5.99 & 3.99 \\\\\n",
       "\t10 & 2024-05-13 & 2024-05-13 & 2023-10-01 & 5.68 & 3.68 \\\\\n",
       "\t11 & 2024-05-13 & 2024-05-13 & 2023-11-01 & 5.77 & 3.77 \\\\\n",
       "\t12 & 2024-05-13 & 2024-05-13 & 2023-12-01 & 5.85 & 3.85 \\\\\n",
       "\t13 & 2024-05-13 & 2024-05-13 & 2024-01-01 & 5.87 & 3.87 \\\\\n",
       "\t14 & 2024-05-13 & 2024-05-13 & 2024-02-01 & 5.86 & 3.86 \\\\\n",
       "\t15 & 2024-05-13 & 2024-05-13 & 2024-03-01 & 5.86 & 3.86 \\\\\n",
       "\\end{tabular}\n"
      ],
      "text/plain": [
       "\u001b[1m15×5 DataFrame\u001b[0m\n",
       "\u001b[1m Row \u001b[0m│\u001b[1m realtime_start \u001b[0m\u001b[1m realtime_end \u001b[0m\u001b[1m date       \u001b[0m\u001b[1m value   \u001b[0m\u001b[1m premium \u001b[0m\n",
       "     │\u001b[90m Dates.Date     \u001b[0m\u001b[90m Dates.Date   \u001b[0m\u001b[90m Dates.Date \u001b[0m\u001b[90m Float64 \u001b[0m\u001b[90m Float64 \u001b[0m\n",
       "─────┼────────────────────────────────────────────────────────────\n",
       "   1 │ 2024-05-13      2024-05-13    2023-01-01     6.95     4.95\n",
       "   2 │ 2024-05-13      2024-05-13    2023-02-01     6.94     4.94\n",
       "   3 │ 2024-05-13      2024-05-13    2023-03-01     6.89     4.89\n",
       "   4 │ 2024-05-13      2024-05-13    2023-04-01     6.9      4.9\n",
       "   5 │ 2024-05-13      2024-05-13    2023-05-01     6.9      4.9\n",
       "   6 │ 2024-05-13      2024-05-13    2023-06-01     6.9      4.9\n",
       "   7 │ 2024-05-13      2024-05-13    2023-07-01     6.76     4.76\n",
       "   8 │ 2024-05-13      2024-05-13    2023-08-01     6.69     4.69\n",
       "   9 │ 2024-05-13      2024-05-13    2023-09-01     5.99     3.99\n",
       "  10 │ 2024-05-13      2024-05-13    2023-10-01     5.68     3.68\n",
       "  11 │ 2024-05-13      2024-05-13    2023-11-01     5.77     3.77\n",
       "  12 │ 2024-05-13      2024-05-13    2023-12-01     5.85     3.85\n",
       "  13 │ 2024-05-13      2024-05-13    2024-01-01     5.87     3.87\n",
       "  14 │ 2024-05-13      2024-05-13    2024-02-01     5.86     3.86\n",
       "  15 │ 2024-05-13      2024-05-13    2024-03-01     5.86     3.86"
      ]
     },
     "metadata": {},
     "output_type": "display_data"
    }
   ],
   "source": [
    "plwibor = data.data\n",
    "plwibor.premium = plwibor.value .- 2\n",
    "last(plwibor,15)"
   ]
  }
 ],
 "metadata": {
  "kernelspec": {
   "display_name": "Julia 1.10.2",
   "language": "julia",
   "name": "julia-1.10"
  },
  "language_info": {
   "file_extension": ".jl",
   "mimetype": "application/julia",
   "name": "julia",
   "version": "1.10.2"
  }
 },
 "nbformat": 4,
 "nbformat_minor": 2
}
