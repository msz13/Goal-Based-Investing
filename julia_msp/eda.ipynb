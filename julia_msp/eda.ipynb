{
 "cells": [
  {
   "cell_type": "code",
   "execution_count": 62,
   "metadata": {},
   "outputs": [
    {
     "data": {
      "text/plain": [
       "cor_returns (generic function with 1 method)"
      ]
     },
     "metadata": {},
     "output_type": "display_data"
    }
   ],
   "source": [
    "using XLSX, DataFrames, TimeSeries\n",
    "using StatsBase\n",
    "using Plots, StatsPlots\n",
    "include(\"utils.jl\")"
   ]
  },
  {
   "cell_type": "code",
   "execution_count": 126,
   "metadata": {},
   "outputs": [
    {
     "data": {
      "text/plain": [
       "315×8 TimeArray{Float64, 2, Date, Matrix{Float64}} 1998-01-31 to 2024-03-31\n",
       "┌────────────┬──────────────┬──────────────┬────────────┬─────────────┬─────────\n",
       "│\u001b[1m            \u001b[0m│\u001b[1m ACWI_Net_PLN \u001b[0m│\u001b[1m World_ex_USA \u001b[0m│\u001b[1m USA_Net    \u001b[0m│\u001b[1m EM_Net      \u001b[0m│\u001b[1m EUROPE\u001b[0m ⋯\n",
       "├────────────┼──────────────┼──────────────┼────────────┼─────────────┼─────────\n",
       "│ 1998-01-31 │    0.0281803 │    0.0485344 │  0.0193733 │  -0.0751833 │  0.047 ⋯\n",
       "│ 1998-02-28 │    0.0469992 │     0.044286 │  0.0487936 │   0.0802299 │  0.056 ⋯\n",
       "│ 1998-03-31 │    0.0330271 │    0.0239406 │  0.0419824 │   0.0338413 │  0.060 ⋯\n",
       "│ 1998-04-30 │  -0.00714191 │  -0.00833986 │ -0.0046235 │  -0.0273093 │ 0.0031 ⋯\n",
       "│ 1998-05-31 │   0.00718302 │    0.0215295 │ 0.00626712 │   -0.120964 │  0.046 ⋯\n",
       "│ 1998-06-30 │    0.0170336 │   0.00486582 │  0.0414506 │   -0.111556 │  0.010 ⋯\n",
       "│ 1998-07-31 │   -0.0152539 │  -0.00866656 │ -0.0253366 │   0.0157633 │ 0.0043 ⋯\n",
       "│ 1998-08-31 │   -0.0789227 │   -0.0641521 │ -0.0776556 │   -0.269187 │ -0.061 ⋯\n",
       "│     ⋮      │      ⋮       │      ⋮       │     ⋮      │      ⋮      │     ⋮  ⋱\n",
       "│ 2023-09-30 │    0.0154043 │    0.0233377 │ 0.00929794 │   0.0311338 │  0.017 ⋯\n",
       "│ 2023-10-31 │    -0.066645 │   -0.0792422 │ -0.0596775 │  -0.0757449 │ -0.074 ⋯\n",
       "│ 2023-11-30 │    0.0356998 │    0.0372363 │  0.0369425 │   0.0244049 │  0.041 ⋯\n",
       "│ 2023-12-31 │    0.0310713 │    0.0373777 │  0.0298131 │   0.0225045 │  0.032 ⋯\n",
       "│ 2024-01-31 │    0.0233511 │    0.0218035 │  0.0327042 │  -0.0300387 │  0.016 ⋯\n",
       "│ 2024-02-29 │    0.0394925 │    0.0144025 │  0.0492852 │   0.0439491 │  0.012 ⋯\n",
       "│ 2024-03-31 │    0.0298368 │    0.0321069 │  0.0299082 │   0.0234005 │  0.035 ⋯\n",
       "└────────────┴──────────────┴──────────────┴────────────┴─────────────┴─────────\n",
       "\u001b[36m                                                  4 columns and 300 rows omitted\u001b[0m"
      ]
     },
     "metadata": {},
     "output_type": "display_data"
    }
   ],
   "source": [
    "data = DataFrame(XLSX.readtable(\"assets_data_03.24.xlsx\", \"Indexes_PLN\";infer_eltypes=true))\n",
    "data = TimeArray(data,timestamp=:Date)\n",
    "returns = percentchange(data,:log)\n"
   ]
  },
  {
   "cell_type": "code",
   "execution_count": 127,
   "metadata": {},
   "outputs": [
    {
     "data": {
      "text/html": [
       "<table>\n",
       "  <thead>\n",
       "    <tr class = \"header headerLastRow\">\n",
       "      <th class = \"rowLabel\" style = \"font-weight: bold; text-align: right;\"></th>\n",
       "      <th style = \"text-align: right;\">std</th>\n",
       "      <th style = \"text-align: right;\">max</th>\n",
       "      <th style = \"text-align: right;\">mean</th>\n",
       "      <th style = \"text-align: right;\">p75th</th>\n",
       "      <th style = \"text-align: right;\">min</th>\n",
       "      <th style = \"text-align: right;\">skewness</th>\n",
       "      <th style = \"text-align: right;\">p25th</th>\n",
       "      <th style = \"text-align: right;\">autocor</th>\n",
       "      <th style = \"text-align: right;\">kurtosis</th>\n",
       "      <th style = \"text-align: right;\">sr</th>\n",
       "      <th style = \"text-align: right;\">median</th>\n",
       "    </tr>\n",
       "  </thead>\n",
       "  <tbody>\n",
       "    <tr>\n",
       "      <td class = \"rowLabel\" style = \"font-weight: bold; text-align: right;\">ACWI_Net_PLN</td>\n",
       "      <td style = \"text-align: right;\">0.131882</td>\n",
       "      <td style = \"text-align: right;\">1.27136</td>\n",
       "      <td style = \"text-align: right;\">0.0697841</td>\n",
       "      <td style = \"text-align: right;\">0.388241</td>\n",
       "      <td style = \"text-align: right;\">-1.34382</td>\n",
       "      <td style = \"text-align: right;\">-0.511507</td>\n",
       "      <td style = \"text-align: right;\">-0.191836</td>\n",
       "      <td style = \"text-align: right;\">0.0725772</td>\n",
       "      <td style = \"text-align: right;\">0.529017</td>\n",
       "      <td style = \"text-align: right;\">0.52914</td>\n",
       "      <td style = \"text-align: right;\">0.0948534</td>\n",
       "    </tr>\n",
       "    <tr>\n",
       "      <td class = \"rowLabel\" style = \"font-weight: bold; text-align: right;\">World_ex_USA</td>\n",
       "      <td style = \"text-align: right;\">0.127673</td>\n",
       "      <td style = \"text-align: right;\">1.08781</td>\n",
       "      <td style = \"text-align: right;\">0.0563719</td>\n",
       "      <td style = \"text-align: right;\">0.367298</td>\n",
       "      <td style = \"text-align: right;\">-1.30699</td>\n",
       "      <td style = \"text-align: right;\">-0.605534</td>\n",
       "      <td style = \"text-align: right;\">-0.154251</td>\n",
       "      <td style = \"text-align: right;\">0.116578</td>\n",
       "      <td style = \"text-align: right;\">0.652877</td>\n",
       "      <td style = \"text-align: right;\">0.441533</td>\n",
       "      <td style = \"text-align: right;\">0.0794012</td>\n",
       "    </tr>\n",
       "    <tr>\n",
       "      <td class = \"rowLabel\" style = \"font-weight: bold; text-align: right;\">USA_Net</td>\n",
       "      <td style = \"text-align: right;\">0.147417</td>\n",
       "      <td style = \"text-align: right;\">1.52892</td>\n",
       "      <td style = \"text-align: right;\">0.0817992</td>\n",
       "      <td style = \"text-align: right;\">0.451821</td>\n",
       "      <td style = \"text-align: right;\">-1.41286</td>\n",
       "      <td style = \"text-align: right;\">-0.271624</td>\n",
       "      <td style = \"text-align: right;\">-0.246748</td>\n",
       "      <td style = \"text-align: right;\">0.0325682</td>\n",
       "      <td style = \"text-align: right;\">0.321847</td>\n",
       "      <td style = \"text-align: right;\">0.554884</td>\n",
       "      <td style = \"text-align: right;\">0.111575</td>\n",
       "    </tr>\n",
       "    <tr>\n",
       "      <td class = \"rowLabel\" style = \"font-weight: bold; text-align: right;\">EM_Net</td>\n",
       "      <td style = \"text-align: right;\">0.180619</td>\n",
       "      <td style = \"text-align: right;\">1.63399</td>\n",
       "      <td style = \"text-align: right;\">0.0634281</td>\n",
       "      <td style = \"text-align: right;\">0.395654</td>\n",
       "      <td style = \"text-align: right;\">-3.23025</td>\n",
       "      <td style = \"text-align: right;\">-0.925559</td>\n",
       "      <td style = \"text-align: right;\">-0.23949</td>\n",
       "      <td style = \"text-align: right;\">0.116884</td>\n",
       "      <td style = \"text-align: right;\">2.92841</td>\n",
       "      <td style = \"text-align: right;\">0.35117</td>\n",
       "      <td style = \"text-align: right;\">0.11645</td>\n",
       "    </tr>\n",
       "    <tr>\n",
       "      <td class = \"rowLabel\" style = \"font-weight: bold; text-align: right;\">EUROPE_Net</td>\n",
       "      <td style = \"text-align: right;\">0.135004</td>\n",
       "      <td style = \"text-align: right;\">1.26031</td>\n",
       "      <td style = \"text-align: right;\">0.0569752</td>\n",
       "      <td style = \"text-align: right;\">0.37966</td>\n",
       "      <td style = \"text-align: right;\">-1.63772</td>\n",
       "      <td style = \"text-align: right;\">-0.674076</td>\n",
       "      <td style = \"text-align: right;\">-0.189226</td>\n",
       "      <td style = \"text-align: right;\">0.0883948</td>\n",
       "      <td style = \"text-align: right;\">0.896962</td>\n",
       "      <td style = \"text-align: right;\">0.422026</td>\n",
       "      <td style = \"text-align: right;\">0.101564</td>\n",
       "    </tr>\n",
       "    <tr>\n",
       "      <td class = \"rowLabel\" style = \"font-weight: bold; text-align: right;\">PACIFIC_Net</td>\n",
       "      <td style = \"text-align: right;\">0.164869</td>\n",
       "      <td style = \"text-align: right;\">1.71623</td>\n",
       "      <td style = \"text-align: right;\">0.0714554</td>\n",
       "      <td style = \"text-align: right;\">0.412164</td>\n",
       "      <td style = \"text-align: right;\">-2.08606</td>\n",
       "      <td style = \"text-align: right;\">-0.468938</td>\n",
       "      <td style = \"text-align: right;\">-0.242087</td>\n",
       "      <td style = \"text-align: right;\">0.057801</td>\n",
       "      <td style = \"text-align: right;\">1.25617</td>\n",
       "      <td style = \"text-align: right;\">0.433407</td>\n",
       "      <td style = \"text-align: right;\">0.0880434</td>\n",
       "    </tr>\n",
       "    <tr>\n",
       "      <td class = \"rowLabel\" style = \"font-weight: bold; text-align: right;\">JAPAN_Net</td>\n",
       "      <td style = \"text-align: right;\">0.162668</td>\n",
       "      <td style = \"text-align: right;\">1.71003</td>\n",
       "      <td style = \"text-align: right;\">0.0448639</td>\n",
       "      <td style = \"text-align: right;\">0.431871</td>\n",
       "      <td style = \"text-align: right;\">-1.74427</td>\n",
       "      <td style = \"text-align: right;\">-0.0399027</td>\n",
       "      <td style = \"text-align: right;\">-0.303586</td>\n",
       "      <td style = \"text-align: right;\">0.115097</td>\n",
       "      <td style = \"text-align: right;\">0.0896495</td>\n",
       "      <td style = \"text-align: right;\">0.275801</td>\n",
       "      <td style = \"text-align: right;\">0.0562378</td>\n",
       "    </tr>\n",
       "    <tr>\n",
       "      <td class = \"rowLabel\" style = \"font-weight: bold; text-align: right;\">MwigTR</td>\n",
       "      <td style = \"text-align: right;\">0.23081</td>\n",
       "      <td style = \"text-align: right;\">2.40303</td>\n",
       "      <td style = \"text-align: right;\">0.0965959</td>\n",
       "      <td style = \"text-align: right;\">0.512547</td>\n",
       "      <td style = \"text-align: right;\">-4.38081</td>\n",
       "      <td style = \"text-align: right;\">-1.04335</td>\n",
       "      <td style = \"text-align: right;\">-0.320635</td>\n",
       "      <td style = \"text-align: right;\">0.124733</td>\n",
       "      <td style = \"text-align: right;\">5.12426</td>\n",
       "      <td style = \"text-align: right;\">0.418508</td>\n",
       "      <td style = \"text-align: right;\">0.152243</td>\n",
       "    </tr>\n",
       "  </tbody>\n",
       "</table>\n"
      ]
     },
     "metadata": {},
     "output_type": "display_data"
    }
   ],
   "source": [
    "returns_summarystats(returns,12)"
   ]
  },
  {
   "cell_type": "code",
   "execution_count": 128,
   "metadata": {},
   "outputs": [
    {
     "data": {
      "text/html": [
       "<table>\n",
       "  <thead>\n",
       "    <tr class = \"header headerLastRow\">\n",
       "      <th class = \"rowLabel\" style = \"font-weight: bold; text-align: right;\"></th>\n",
       "      <th style = \"text-align: right;\">ACWI_Net_PLN</th>\n",
       "      <th style = \"text-align: right;\">World_ex_USA</th>\n",
       "      <th style = \"text-align: right;\">USA_Net</th>\n",
       "      <th style = \"text-align: right;\">EM_Net</th>\n",
       "      <th style = \"text-align: right;\">EUROPE_Net</th>\n",
       "      <th style = \"text-align: right;\">PACIFIC_Net</th>\n",
       "      <th style = \"text-align: right;\">JAPAN_Net</th>\n",
       "      <th style = \"text-align: right;\">MwigTR</th>\n",
       "    </tr>\n",
       "  </thead>\n",
       "  <tbody>\n",
       "    <tr>\n",
       "      <td class = \"rowLabel\" style = \"font-weight: bold; text-align: right;\">ACWI_Net_PLN</td>\n",
       "      <td style = \"text-align: right;\">1.0</td>\n",
       "      <td style = \"text-align: right;\">0.946257</td>\n",
       "      <td style = \"text-align: right;\">0.957664</td>\n",
       "      <td style = \"text-align: right;\">0.725927</td>\n",
       "      <td style = \"text-align: right;\">0.890318</td>\n",
       "      <td style = \"text-align: right;\">0.764676</td>\n",
       "      <td style = \"text-align: right;\">0.688762</td>\n",
       "      <td style = \"text-align: right;\">0.42426</td>\n",
       "    </tr>\n",
       "    <tr>\n",
       "      <td class = \"rowLabel\" style = \"font-weight: bold; text-align: right;\">World_ex_USA</td>\n",
       "      <td style = \"text-align: right;\">0.946257</td>\n",
       "      <td style = \"text-align: right;\">1.0</td>\n",
       "      <td style = \"text-align: right;\">0.828033</td>\n",
       "      <td style = \"text-align: right;\">0.710293</td>\n",
       "      <td style = \"text-align: right;\">0.956383</td>\n",
       "      <td style = \"text-align: right;\">0.778784</td>\n",
       "      <td style = \"text-align: right;\">0.727219</td>\n",
       "      <td style = \"text-align: right;\">0.444575</td>\n",
       "    </tr>\n",
       "    <tr>\n",
       "      <td class = \"rowLabel\" style = \"font-weight: bold; text-align: right;\">USA_Net</td>\n",
       "      <td style = \"text-align: right;\">0.957664</td>\n",
       "      <td style = \"text-align: right;\">0.828033</td>\n",
       "      <td style = \"text-align: right;\">1.0</td>\n",
       "      <td style = \"text-align: right;\">0.589134</td>\n",
       "      <td style = \"text-align: right;\">0.773901</td>\n",
       "      <td style = \"text-align: right;\">0.643892</td>\n",
       "      <td style = \"text-align: right;\">0.617744</td>\n",
       "      <td style = \"text-align: right;\">0.337011</td>\n",
       "    </tr>\n",
       "    <tr>\n",
       "      <td class = \"rowLabel\" style = \"font-weight: bold; text-align: right;\">EM_Net</td>\n",
       "      <td style = \"text-align: right;\">0.725927</td>\n",
       "      <td style = \"text-align: right;\">0.710293</td>\n",
       "      <td style = \"text-align: right;\">0.589134</td>\n",
       "      <td style = \"text-align: right;\">1.0</td>\n",
       "      <td style = \"text-align: right;\">0.633194</td>\n",
       "      <td style = \"text-align: right;\">0.818558</td>\n",
       "      <td style = \"text-align: right;\">0.476692</td>\n",
       "      <td style = \"text-align: right;\">0.539632</td>\n",
       "    </tr>\n",
       "    <tr>\n",
       "      <td class = \"rowLabel\" style = \"font-weight: bold; text-align: right;\">EUROPE_Net</td>\n",
       "      <td style = \"text-align: right;\">0.890318</td>\n",
       "      <td style = \"text-align: right;\">0.956383</td>\n",
       "      <td style = \"text-align: right;\">0.773901</td>\n",
       "      <td style = \"text-align: right;\">0.633194</td>\n",
       "      <td style = \"text-align: right;\">1.0</td>\n",
       "      <td style = \"text-align: right;\">0.687348</td>\n",
       "      <td style = \"text-align: right;\">0.528782</td>\n",
       "      <td style = \"text-align: right;\">0.465509</td>\n",
       "    </tr>\n",
       "    <tr>\n",
       "      <td class = \"rowLabel\" style = \"font-weight: bold; text-align: right;\">PACIFIC_Net</td>\n",
       "      <td style = \"text-align: right;\">0.764676</td>\n",
       "      <td style = \"text-align: right;\">0.778784</td>\n",
       "      <td style = \"text-align: right;\">0.643892</td>\n",
       "      <td style = \"text-align: right;\">0.818558</td>\n",
       "      <td style = \"text-align: right;\">0.687348</td>\n",
       "      <td style = \"text-align: right;\">1.0</td>\n",
       "      <td style = \"text-align: right;\">0.51346</td>\n",
       "      <td style = \"text-align: right;\">0.450851</td>\n",
       "    </tr>\n",
       "    <tr>\n",
       "      <td class = \"rowLabel\" style = \"font-weight: bold; text-align: right;\">JAPAN_Net</td>\n",
       "      <td style = \"text-align: right;\">0.688762</td>\n",
       "      <td style = \"text-align: right;\">0.727219</td>\n",
       "      <td style = \"text-align: right;\">0.617744</td>\n",
       "      <td style = \"text-align: right;\">0.476692</td>\n",
       "      <td style = \"text-align: right;\">0.528782</td>\n",
       "      <td style = \"text-align: right;\">0.51346</td>\n",
       "      <td style = \"text-align: right;\">1.0</td>\n",
       "      <td style = \"text-align: right;\">0.181849</td>\n",
       "    </tr>\n",
       "    <tr>\n",
       "      <td class = \"rowLabel\" style = \"font-weight: bold; text-align: right;\">MwigTR</td>\n",
       "      <td style = \"text-align: right;\">0.42426</td>\n",
       "      <td style = \"text-align: right;\">0.444575</td>\n",
       "      <td style = \"text-align: right;\">0.337011</td>\n",
       "      <td style = \"text-align: right;\">0.539632</td>\n",
       "      <td style = \"text-align: right;\">0.465509</td>\n",
       "      <td style = \"text-align: right;\">0.450851</td>\n",
       "      <td style = \"text-align: right;\">0.181849</td>\n",
       "      <td style = \"text-align: right;\">1.0</td>\n",
       "    </tr>\n",
       "  </tbody>\n",
       "</table>\n"
      ]
     },
     "metadata": {},
     "output_type": "display_data"
    }
   ],
   "source": [
    "cor_returns(returns)"
   ]
  },
  {
   "cell_type": "code",
   "execution_count": 132,
   "metadata": {},
   "outputs": [
    {
     "data": {
      "text/plain": [
       "simulate_hmm (generic function with 2 methods)"
      ]
     },
     "metadata": {},
     "output_type": "display_data"
    }
   ],
   "source": [
    "include(\"hmm_est.jl\")"
   ]
  },
  {
   "cell_type": "code",
   "execution_count": 142,
   "metadata": {},
   "outputs": [
    {
     "data": {
      "text/plain": [
       "(Hidden Markov Model with:\n",
       " - initialization: [1.0, 4.026252123e-315]\n",
       " - transition matrix: [0.8779294295281364 0.12207057047186369; 0.08792622907535685 0.9120737709246431]\n",
       " - observation distributions: [FullNormal(\n",
       "dim: 6\n",
       "μ: [0.0006396696996182814, 0.0007987156011813514, -0.0002714681825167762, 0.0012743764803501076, 4.447381864045698e-5, -0.0010875660905907089]\n",
       "Σ: [0.002534141647585965 0.0022249790322865434 0.00197048215132992 0.002081837374801297 0.0016481476288620152 0.0019238110662181322; 0.0022249790322865434 0.004968677290568758 0.002290101111228445 0.003668933515293558 0.0019298304940346073 0.003630119139290727; 0.00197048215132992 0.002290101111228445 0.0023666568271945403 0.0021064334692392885 0.001462599110675126 0.0021720415313975718; 0.002081837374801297 0.003668933515293558 0.0021064334692392885 0.003906944808536968 0.0018611109237651395 0.002732899709092553; 0.0016481476288620152 0.0019298304940346073 0.001462599110675126 0.0018611109237651395 0.003440526732729068 0.0012368164218736668; 0.0019238110662181322 0.003630119139290727 0.0021720415313975718 0.002732899709092553 0.0012368164218736668 0.007785644758196062]\n",
       ")\n",
       ", FullNormal(\n",
       "dim: 6\n",
       "μ: [0.01152166029318721, 0.008703456717739142, 0.008571286916046594, 0.009519626758971562, 0.00655257828262308, 0.01500963095118924]\n",
       "Σ: [0.0011988002469317059 0.0005636204378105592 0.0007114384400165148 0.0006656333351156413 0.0008818160796007931 0.00013697483942078808; 0.0005636204378105592 0.0009624858612885293 0.00048491565789426314 0.000744325812706308 0.0005574138050199231 0.0004721036318707611; 0.0007114384400165148 0.00048491565789426314 0.0008307331296365671 0.0006028757474061501 0.0005604400361312715 0.0004067479387889543; 0.0006656333351156413 0.000744325812706308 0.0006028757474061501 0.0009725010402231316 0.0005743733257491676 0.0003716550050577666; 0.0008818160796007931 0.0005574138050199231 0.0005604400361312715 0.0005743733257491676 0.001233353624762495 1.1774256968334455e-5; 0.00013697483942078808 0.0004721036318707611 0.0004067479387889543 0.0003716550050577666 1.1774256968334455e-5 0.0017537431778534016]\n",
       ")\n",
       "], 3742.2083278562604)"
      ]
     },
     "metadata": {},
     "output_type": "display_data"
    }
   ],
   "source": [
    "regime_data, likehood = hmm_est(returns[:USA_Net, :EM_Net, :EUROPE_Net, :PACIFIC_Net, :JAPAN_Net, :MwigTR], 2)"
   ]
  },
  {
   "cell_type": "code",
   "execution_count": 133,
   "metadata": {},
   "outputs": [
    {
     "data": {
      "text/plain": [
       "120-element Vector{Vector{Float64}}:\n",
       " [-0.08952686740394905, -0.09275493906507247, -0.09537959003407775, -0.07527760473301742, 0.01171984179407632]\n",
       " [0.020641992413407494, 0.05615096191986596, 0.035140058324804845, 0.019893728505073396, 0.02235264183981737]\n",
       " [0.021660988987074428, -0.009927669775900566, 0.012495251648268644, 0.020002176958510857, 0.00199341318717877]\n",
       " [0.0006815040819821618, 0.007726173916556847, -0.021101780716368118, -0.010285349730833886, 0.0020525845717850157]\n",
       " [0.010491754743064421, -0.008100522837937638, 0.015982626595198494, -0.013373843525438783, 0.045720523998884814]\n",
       " [0.0994937429248003, 0.12537703409612083, 0.036183309407388474, 0.040729487686059024, 0.014115904579697865]\n",
       " [-0.05576494423226015, -0.026000117331098437, -0.06446686489374856, 0.009757309229485393, -0.1379076759825603]\n",
       " [0.03615469240918858, 0.016545572220364155, 0.011307113135030515, 0.05008718335645275, -0.000412998951962839]\n",
       " [0.16358234507309125, 0.06991343446324635, 0.10936099848245781, 0.04461738095614231, 0.019330360807118703]\n",
       " [-0.017048975906970215, -0.0666303182606909, -0.054677273905062676, -0.09536086469699201, -0.06478479757416813]\n",
       " ⋮\n",
       " [0.03525724215300864, 0.06653764877772023, 0.020056861657187265, 0.05641309541885653, 0.03054795180780703]\n",
       " [0.02476703000008107, -0.00174166015822785, 0.007326116569471237, -0.026472351939218253, 0.04191293673879447]\n",
       " [-0.030447400509536347, 0.018219365656385704, 0.0007714855896617835, 0.005632776262784315, -0.03720418620662183]\n",
       " [0.057210634221588494, 0.02048132495543192, 0.05228556220759524, 0.06284106670910655, 0.05329199933425141]\n",
       " [-0.05125653976814637, -0.07273324208175115, -0.054565126377711645, -0.06147209603688251, -0.04235452042244829]\n",
       " [-0.0006731001941992314, -0.014791256094991611, -0.02200048174078968, 0.04567722603670586, -0.01394122843369728]\n",
       " [-0.06299641363525917, 0.009461908907972966, -0.005574739018695339, -0.0716484434382918, -0.09439247263535683]\n",
       " [-0.022500967573009664, -0.044337808346340636, -0.07744792633098634, -0.05750005452966034, -0.050826782592722705]\n",
       " [-0.007520346911309116, 0.01774716972757556, 0.027376875157164797, 0.012218938775045088, -0.023877143700287113]"
      ]
     },
     "metadata": {},
     "output_type": "display_data"
    }
   ],
   "source": [
    "simulations = simulate_hmm(regime_data,5, 120,1000)"
   ]
  },
  {
   "cell_type": "code",
   "execution_count": 141,
   "metadata": {},
   "outputs": [
    {
     "data": {
      "text/plain": [
       "5×120 Matrix{Float64}:\n",
       " -0.0895269  0.0  0.0  0.0  0.0  0.0  …  0.0  0.0  0.0  0.0  0.0  0.0  0.0\n",
       " -0.0927549  0.0  0.0  0.0  0.0  0.0     0.0  0.0  0.0  0.0  0.0  0.0  0.0\n",
       "  0.0        0.0  0.0  0.0  0.0  0.0     0.0  0.0  0.0  0.0  0.0  0.0  0.0\n",
       "  0.0        0.0  0.0  0.0  0.0  0.0     0.0  0.0  0.0  0.0  0.0  0.0  0.0\n",
       "  0.0        0.0  0.0  0.0  0.0  0.0     0.0  0.0  0.0  0.0  0.0  0.0  0.0"
      ]
     },
     "metadata": {},
     "output_type": "display_data"
    }
   ],
   "source": [
    "res = zeros(5,120)\n",
    "res[1,1] = simulations[1][1]\n",
    "res[2,1] = simulations[1][2]\n",
    "res"
   ]
  }
 ],
 "metadata": {
  "kernelspec": {
   "display_name": "Julia 1.10.2",
   "language": "julia",
   "name": "julia-1.10"
  },
  "language_info": {
   "file_extension": ".jl",
   "mimetype": "application/julia",
   "name": "julia",
   "version": "1.10.2"
  }
 },
 "nbformat": 4,
 "nbformat_minor": 2
}
