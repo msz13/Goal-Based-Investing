{
 "cells": [
  {
   "cell_type": "code",
   "execution_count": 2,
   "metadata": {},
   "outputs": [
    {
     "data": {
      "text/plain": [
       "print_percentiles (generic function with 2 methods)"
      ]
     },
     "metadata": {},
     "output_type": "display_data"
    }
   ],
   "source": [
    "using XLSX\n",
    "using DataFrames, TimeSeries\n",
    "using StatsPlots\n",
    "using Plots\n",
    "using LinearAlgebra\n",
    "using CSV\n",
    "using StatsBase\n",
    "using GLM\n",
    "include(\"../utils.jl\")\n"
   ]
  },
  {
   "cell_type": "code",
   "execution_count": 1,
   "metadata": {},
   "outputs": [
    {
     "ename": "UndefVarError",
     "evalue": "UndefVarError: `XLSX` not defined",
     "output_type": "error",
     "traceback": [
      "UndefVarError: `XLSX` not defined\n",
      "\n",
      "Stacktrace:\n",
      " [1] top-level scope\n",
      "   @ c:\\Users\\matsz\\programowanie\\Optymalizacja_portfela\\julia_msp\\eda\\jl_notebook_cell_df34fa98e69747e1a8f8a730347b8e2f_W1sZmlsZQ==.jl:2"
     ]
    }
   ],
   "source": [
    "columns = [:Date, :USA_Net, :World_ex_USA, :EM_Net, :ACWI_Net_PLN, :MwigTR]\n",
    "data_df = DataFrame(XLSX.readtable(\"../data/assets_data_03.24.xlsx\", \"Indexes_PLN_2007\"; infer_eltypes=true))[2:end, columns]\n",
    "dropmissing!(data_df, disallowmissing=true)\n",
    "returns_pln = data_df |> \n",
    "            x -> TimeArray(x; timestamp = :Date) |> \n",
    "            x -> percentchange(x, :log)"
   ]
  },
  {
   "cell_type": "code",
   "execution_count": 40,
   "metadata": {},
   "outputs": [
    {
     "data": {
      "text/plain": [
       "435×3 TimeArray{Float64, 2, Date, Matrix{Float64}} 1988-01-31 to 2024-03-31\n",
       "┌────────────┬────────────┬──────────────┬─────────────┐\n",
       "│\u001b[1m            \u001b[0m│\u001b[1m USA_Net    \u001b[0m│\u001b[1m World_ex_USA \u001b[0m│\u001b[1m EM_Net      \u001b[0m│\n",
       "├────────────┼────────────┼──────────────┼─────────────┤\n",
       "│ 1988-01-31 │  0.0410122 │    0.0153553 │   0.0935834 │\n",
       "│ 1988-02-29 │  0.0401109 │    0.0640862 │   0.0031132 │\n",
       "│ 1988-03-31 │ -0.0349774 │    0.0592025 │     0.10175 │\n",
       "│ 1988-04-30 │ 0.00818061 │    0.0140195 │   0.0517417 │\n",
       "│ 1988-05-31 │ 0.00760205 │   -0.0326806 │   0.0292525 │\n",
       "│ 1988-06-30 │  0.0445733 │   -0.0229028 │   0.0331365 │\n",
       "│ 1988-07-31 │ -0.0040323 │    0.0288082 │  -0.0260317 │\n",
       "│ 1988-08-31 │  -0.035096 │   -0.0667177 │  -0.0274362 │\n",
       "│     ⋮      │     ⋮      │      ⋮       │      ⋮      │\n",
       "│ 2023-09-30 │ -0.0483353 │   -0.0342956 │  -0.0264995 │\n",
       "│ 2023-10-31 │ -0.0235616 │   -0.0431263 │   -0.039629 │\n",
       "│ 2023-11-30 │  0.0895259 │    0.0898198 │   0.0769883 │\n",
       "│ 2023-12-31 │  0.0456572 │    0.0532219 │   0.0383487 │\n",
       "│ 2024-01-31 │  0.0151977 │   0.00429701 │  -0.0475452 │\n",
       "│ 2024-02-29 │  0.0518111 │    0.0169284 │    0.046475 │\n",
       "│ 2024-03-31 │  0.0309855 │    0.0331842 │   0.0244778 │\n",
       "└────────────┴────────────┴──────────────┴─────────────┘\n",
       "\u001b[36m                                        420 rows omitted\u001b[0m"
      ]
     },
     "metadata": {},
     "output_type": "display_data"
    }
   ],
   "source": [
    "columns = [:Date, :USA_Net, :World_ex_USA, :EM_Net]\n",
    "data_df = DataFrame(XLSX.readtable(\"../data/assets_data_03.24.xlsx\", \"Indexes\"; infer_eltypes=true))[2:end, columns]\n",
    "dropmissing!(data_df, disallowmissing=true)\n",
    "returns_usd = data_df |> \n",
    "            x -> TimeArray(x; timestamp = :Date) |> \n",
    "            x -> percentchange(x, :log)"
   ]
  },
  {
   "cell_type": "code",
   "execution_count": 39,
   "metadata": {},
   "outputs": [
    {
     "data": {
      "text/html": [
       "<table>\n",
       "  <thead>\n",
       "    <tr class = \"header headerLastRow\">\n",
       "      <th class = \"rowLabel\" style = \"font-weight: bold; text-align: right;\"></th>\n",
       "      <th style = \"text-align: right;\">std</th>\n",
       "      <th style = \"text-align: right;\">max</th>\n",
       "      <th style = \"text-align: right;\">mean</th>\n",
       "      <th style = \"text-align: right;\">p75th</th>\n",
       "      <th style = \"text-align: right;\">min</th>\n",
       "      <th style = \"text-align: right;\">skewness</th>\n",
       "      <th style = \"text-align: right;\">p25th</th>\n",
       "      <th style = \"text-align: right;\">autocor</th>\n",
       "      <th style = \"text-align: right;\">kurtosis</th>\n",
       "      <th style = \"text-align: right;\">sr</th>\n",
       "      <th style = \"text-align: right;\">median</th>\n",
       "    </tr>\n",
       "  </thead>\n",
       "  <tbody>\n",
       "    <tr>\n",
       "      <td class = \"rowLabel\" style = \"font-weight: bold; text-align: right;\">USA_Net</td>\n",
       "      <td style = \"text-align: right;\">0.1613</td>\n",
       "      <td style = \"text-align: right;\">1.4788</td>\n",
       "      <td style = \"text-align: right;\">0.0898</td>\n",
       "      <td style = \"text-align: right;\">0.4313</td>\n",
       "      <td style = \"text-align: right;\">-2.257</td>\n",
       "      <td style = \"text-align: right;\">-0.7536</td>\n",
       "      <td style = \"text-align: right;\">-0.2102</td>\n",
       "      <td style = \"text-align: right;\">0.0369</td>\n",
       "      <td style = \"text-align: right;\">1.3609</td>\n",
       "      <td style = \"text-align: right;\">0.5566</td>\n",
       "      <td style = \"text-align: right;\">0.1765</td>\n",
       "    </tr>\n",
       "    <tr>\n",
       "      <td class = \"rowLabel\" style = \"font-weight: bold; text-align: right;\">World_ex_USA</td>\n",
       "      <td style = \"text-align: right;\">0.1783</td>\n",
       "      <td style = \"text-align: right;\">1.7129</td>\n",
       "      <td style = \"text-align: right;\">0.0352</td>\n",
       "      <td style = \"text-align: right;\">0.3954</td>\n",
       "      <td style = \"text-align: right;\">-2.7986</td>\n",
       "      <td style = \"text-align: right;\">-0.7734</td>\n",
       "      <td style = \"text-align: right;\">-0.2353</td>\n",
       "      <td style = \"text-align: right;\">0.1137</td>\n",
       "      <td style = \"text-align: right;\">2.1922</td>\n",
       "      <td style = \"text-align: right;\">0.1976</td>\n",
       "      <td style = \"text-align: right;\">0.0974</td>\n",
       "    </tr>\n",
       "    <tr>\n",
       "      <td class = \"rowLabel\" style = \"font-weight: bold; text-align: right;\">EM_Net</td>\n",
       "      <td style = \"text-align: right;\">0.215</td>\n",
       "      <td style = \"text-align: right;\">1.893</td>\n",
       "      <td style = \"text-align: right;\">0.0324</td>\n",
       "      <td style = \"text-align: right;\">0.4636</td>\n",
       "      <td style = \"text-align: right;\">-3.8371</td>\n",
       "      <td style = \"text-align: right;\">-0.7774</td>\n",
       "      <td style = \"text-align: right;\">-0.3298</td>\n",
       "      <td style = \"text-align: right;\">0.136</td>\n",
       "      <td style = \"text-align: right;\">3.3292</td>\n",
       "      <td style = \"text-align: right;\">0.1508</td>\n",
       "      <td style = \"text-align: right;\">0.0422</td>\n",
       "    </tr>\n",
       "    <tr>\n",
       "      <td class = \"rowLabel\" style = \"font-weight: bold; text-align: right;\">MwigTR</td>\n",
       "      <td style = \"text-align: right;\">0.2158</td>\n",
       "      <td style = \"text-align: right;\">2.403</td>\n",
       "      <td style = \"text-align: right;\">0.0499</td>\n",
       "      <td style = \"text-align: right;\">0.4405</td>\n",
       "      <td style = \"text-align: right;\">-3.8898</td>\n",
       "      <td style = \"text-align: right;\">-0.9091</td>\n",
       "      <td style = \"text-align: right;\">-0.3229</td>\n",
       "      <td style = \"text-align: right;\">0.1997</td>\n",
       "      <td style = \"text-align: right;\">4.4081</td>\n",
       "      <td style = \"text-align: right;\">0.2311</td>\n",
       "      <td style = \"text-align: right;\">0.1195</td>\n",
       "    </tr>\n",
       "  </tbody>\n",
       "</table>\n"
      ]
     },
     "metadata": {},
     "output_type": "display_data"
    }
   ],
   "source": [
    "returns_summarystats(returns_pln, 12)"
   ]
  },
  {
   "cell_type": "code",
   "execution_count": 41,
   "metadata": {},
   "outputs": [
    {
     "data": {
      "text/html": [
       "<table>\n",
       "  <thead>\n",
       "    <tr class = \"header headerLastRow\">\n",
       "      <th class = \"rowLabel\" style = \"font-weight: bold; text-align: right;\"></th>\n",
       "      <th style = \"text-align: right;\">std</th>\n",
       "      <th style = \"text-align: right;\">max</th>\n",
       "      <th style = \"text-align: right;\">mean</th>\n",
       "      <th style = \"text-align: right;\">p75th</th>\n",
       "      <th style = \"text-align: right;\">min</th>\n",
       "      <th style = \"text-align: right;\">skewness</th>\n",
       "      <th style = \"text-align: right;\">p25th</th>\n",
       "      <th style = \"text-align: right;\">autocor</th>\n",
       "      <th style = \"text-align: right;\">kurtosis</th>\n",
       "      <th style = \"text-align: right;\">sr</th>\n",
       "      <th style = \"text-align: right;\">median</th>\n",
       "    </tr>\n",
       "  </thead>\n",
       "  <tbody>\n",
       "    <tr>\n",
       "      <td class = \"rowLabel\" style = \"font-weight: bold; text-align: right;\">USA_Net</td>\n",
       "      <td style = \"text-align: right;\">0.1491</td>\n",
       "      <td style = \"text-align: right;\">1.4788</td>\n",
       "      <td style = \"text-align: right;\">0.1</td>\n",
       "      <td style = \"text-align: right;\">0.4254</td>\n",
       "      <td style = \"text-align: right;\">-2.257</td>\n",
       "      <td style = \"text-align: right;\">-0.7009</td>\n",
       "      <td style = \"text-align: right;\">-0.2004</td>\n",
       "      <td style = \"text-align: right;\">0.0014</td>\n",
       "      <td style = \"text-align: right;\">1.3793</td>\n",
       "      <td style = \"text-align: right;\">0.6706</td>\n",
       "      <td style = \"text-align: right;\">0.1537</td>\n",
       "    </tr>\n",
       "    <tr>\n",
       "      <td class = \"rowLabel\" style = \"font-weight: bold; text-align: right;\">World_ex_USA</td>\n",
       "      <td style = \"text-align: right;\">0.1682</td>\n",
       "      <td style = \"text-align: right;\">1.7129</td>\n",
       "      <td style = \"text-align: right;\">0.0543</td>\n",
       "      <td style = \"text-align: right;\">0.4165</td>\n",
       "      <td style = \"text-align: right;\">-2.7986</td>\n",
       "      <td style = \"text-align: right;\">-0.6171</td>\n",
       "      <td style = \"text-align: right;\">-0.2752</td>\n",
       "      <td style = \"text-align: right;\">0.0571</td>\n",
       "      <td style = \"text-align: right;\">1.6003</td>\n",
       "      <td style = \"text-align: right;\">0.323</td>\n",
       "      <td style = \"text-align: right;\">0.0992</td>\n",
       "    </tr>\n",
       "    <tr>\n",
       "      <td class = \"rowLabel\" style = \"font-weight: bold; text-align: right;\">EM_Net</td>\n",
       "      <td style = \"text-align: right;\">0.2239</td>\n",
       "      <td style = \"text-align: right;\">2.0825</td>\n",
       "      <td style = \"text-align: right;\">0.0877</td>\n",
       "      <td style = \"text-align: right;\">0.5565</td>\n",
       "      <td style = \"text-align: right;\">-4.1</td>\n",
       "      <td style = \"text-align: right;\">-0.8932</td>\n",
       "      <td style = \"text-align: right;\">-0.3138</td>\n",
       "      <td style = \"text-align: right;\">0.1422</td>\n",
       "      <td style = \"text-align: right;\">3.1066</td>\n",
       "      <td style = \"text-align: right;\">0.3914</td>\n",
       "      <td style = \"text-align: right;\">0.1224</td>\n",
       "    </tr>\n",
       "  </tbody>\n",
       "</table>\n"
      ]
     },
     "metadata": {},
     "output_type": "display_data"
    }
   ],
   "source": [
    "returns_summarystats(returns_usd,12)"
   ]
  },
  {
   "cell_type": "code",
   "execution_count": 25,
   "metadata": {},
   "outputs": [
    {
     "name": "stdout",
     "output_type": "stream",
     "text": [
      "StatsModels.TableRegressionModel{LinearModel{GLM.LmResp{Vector{Float64}}, GLM.DensePredChol{Float64, CholeskyPivoted{Float64, Matrix{Float64}, Vector{Int64}}}}, Matrix{Float64}}\n",
      "\n",
      "USA_Net ~ 1 + MwigTR\n",
      "\n",
      "Coefficients:\n",
      "─────────────────────────────────────────────────────────────────────────────\n",
      "                  Coef.  Std. Error      t  Pr(>|t|)    Lower 95%   Upper 95%\n",
      "─────────────────────────────────────────────────────────────────────────────\n",
      "(Intercept)  0.00515542   0.0021587   2.39    0.0178  0.000899198  0.00941163\n",
      "MwigTR       0.560135     0.0346637  16.16    <1e-37  0.49179      0.62848\n",
      "─────────────────────────────────────────────────────────────────────────────\n",
      "0.5614010605217725\n"
     ]
    }
   ],
   "source": [
    "ols = lm(@formula(USA_Net ~ MwigTR), returns_pln)\n",
    "println(ols)\n",
    "println(r2(ols))"
   ]
  },
  {
   "cell_type": "code",
   "execution_count": 26,
   "metadata": {},
   "outputs": [
    {
     "name": "stdout",
     "output_type": "stream",
     "text": [
      "StatsModels.TableRegressionModel{LinearModel{GLM.LmResp{Vector{Float64}}, GLM.DensePredChol{Float64, CholeskyPivoted{Float64, Matrix{Float64}, Vector{Int64}}}}, Matrix{Float64}}\n",
      "\n",
      "MwigTR ~ 1 + USA_Net\n",
      "\n",
      "Coefficients:\n",
      "─────────────────────────────────────────────────────────────────────────────\n",
      "                   Coef.  Std. Error      t  Pr(>|t|)    Lower 95%  Upper 95%\n",
      "─────────────────────────────────────────────────────────────────────────────\n",
      "(Intercept)  -0.00334489   0.0029183  -1.15    0.2531  -0.00909878   0.002409\n",
      "USA_Net       1.00226      0.0620244  16.16    <1e-37   0.879969     1.12455\n",
      "─────────────────────────────────────────────────────────────────────────────\n",
      "0.5614010605217723\n"
     ]
    }
   ],
   "source": [
    "ols = lm(@formula(MwigTR ~ USA_Net), returns_pln)\n",
    "println(ols)\n",
    "println(r2(ols))"
   ]
  },
  {
   "cell_type": "code",
   "execution_count": 28,
   "metadata": {},
   "outputs": [
    {
     "name": "stdout",
     "output_type": "stream",
     "text": [
      "StatsModels.TableRegressionModel{LinearModel{GLM.LmResp{Vector{Float64}}, GLM.DensePredChol{Float64, CholeskyPivoted{Float64, Matrix{Float64}, Vector{Int64}}}}, Matrix{Float64}}\n",
      "\n",
      "MwigTR ~ 1 + USA_Net_1 + USA_Net\n",
      "\n",
      "Coefficients:\n",
      "─────────────────────────────────────────────────────────────────────────────\n",
      "                   Coef.  Std. Error      t  Pr(>|t|)   Lower 95%   Upper 95%\n",
      "─────────────────────────────────────────────────────────────────────────────\n",
      "(Intercept)  -0.00435186  0.00293295  -1.48    0.1394  -0.010135   0.00143126\n",
      "USA_Net_1     0.145609    0.0615596    2.37    0.0190   0.0242274  0.266991\n",
      "USA_Net       0.997614    0.0615486   16.21    <1e-37   0.876254   1.11897\n",
      "─────────────────────────────────────────────────────────────────────────────\n",
      "0.5734039878303938\n"
     ]
    }
   ],
   "source": [
    "returns_lag = merge(returns, TimeSeries.lead(returns,1))\n",
    "ols = lm(@formula(MwigTR ~  USA_Net_1 + USA_Net), returns_lag)\n",
    "println(ols)\n",
    "println(r2(ols))"
   ]
  },
  {
   "cell_type": "code",
   "execution_count": 29,
   "metadata": {},
   "outputs": [
    {
     "name": "stdout",
     "output_type": "stream",
     "text": [
      "StatsModels.TableRegressionModel{LinearModel{GLM.LmResp{Vector{Float64}}, GLM.DensePredChol{Float64, CholeskyPivoted{Float64, Matrix{Float64}, Vector{Int64}}}}, Matrix{Float64}}\n",
      "\n",
      "World_ex_USA ~ 1 + MwigTR\n",
      "\n",
      "Coefficients:\n",
      "─────────────────────────────────────────────────────────────────────────────\n",
      "                  Coef.  Std. Error      t  Pr(>|t|)    Lower 95%   Upper 95%\n",
      "─────────────────────────────────────────────────────────────────────────────\n",
      "(Intercept)  0.00031027  0.00232171   0.13    0.8938  -0.00426734  0.00488789\n",
      "MwigTR       0.631959    0.0372812   16.95    <1e-40   0.558453    0.705465\n",
      "─────────────────────────────────────────────────────────────────────────────\n",
      "0.5848099979810817\n"
     ]
    }
   ],
   "source": [
    "ols = lm(@formula(World_ex_USA ~ MwigTR), returns)\n",
    "println(ols)\n",
    "println(r2(ols))"
   ]
  },
  {
   "cell_type": "code",
   "execution_count": 30,
   "metadata": {},
   "outputs": [
    {
     "name": "stdout",
     "output_type": "stream",
     "text": [
      "StatsModels.TableRegressionModel{LinearModel{GLM.LmResp{Vector{Float64}}, GLM.DensePredChol{Float64, CholeskyPivoted{Float64, Matrix{Float64}, Vector{Int64}}}}, Matrix{Float64}}\n",
      "\n",
      "EM_Net ~ 1 + MwigTR\n",
      "\n",
      "Coefficients:\n",
      "───────────────────────────────────────────────────────────────────────────────\n",
      "                    Coef.  Std. Error      t  Pr(>|t|)    Lower 95%   Upper 95%\n",
      "───────────────────────────────────────────────────────────────────────────────\n",
      "(Intercept)  -0.000137194  0.00316116  -0.04    0.9654  -0.00636993  0.00609555\n",
      "MwigTR        0.683465     0.050761    13.46    <1e-29   0.583382    0.783548\n",
      "───────────────────────────────────────────────────────────────────────────────\n",
      "0.470528060954021\n"
     ]
    }
   ],
   "source": [
    "ols = lm(@formula(EM_Net ~ MwigTR), returns)\n",
    "println(ols)\n",
    "println(r2(ols))"
   ]
  },
  {
   "cell_type": "code",
   "execution_count": 33,
   "metadata": {},
   "outputs": [
    {
     "data": {
      "text/plain": [
       "435×3 TimeArray{Float64, 2, Date, Matrix{Float64}} 1988-01-31 to 2024-03-31\n",
       "┌────────────┬────────────┬──────────────┬─────────────┐\n",
       "│\u001b[1m            \u001b[0m│\u001b[1m USA_Net    \u001b[0m│\u001b[1m World_ex_USA \u001b[0m│\u001b[1m EM_Net      \u001b[0m│\n",
       "├────────────┼────────────┼──────────────┼─────────────┤\n",
       "│ 1988-01-31 │  0.0410122 │    0.0153553 │   0.0935834 │\n",
       "│ 1988-02-29 │  0.0401109 │    0.0640862 │   0.0031132 │\n",
       "│ 1988-03-31 │ -0.0349774 │    0.0592025 │     0.10175 │\n",
       "│ 1988-04-30 │ 0.00818061 │    0.0140195 │   0.0517417 │\n",
       "│ 1988-05-31 │ 0.00760205 │   -0.0326806 │   0.0292525 │\n",
       "│ 1988-06-30 │  0.0445733 │   -0.0229028 │   0.0331365 │\n",
       "│ 1988-07-31 │ -0.0040323 │    0.0288082 │  -0.0260317 │\n",
       "│ 1988-08-31 │  -0.035096 │   -0.0667177 │  -0.0274362 │\n",
       "│     ⋮      │     ⋮      │      ⋮       │      ⋮      │\n",
       "│ 2023-09-30 │ -0.0483353 │   -0.0342956 │  -0.0264995 │\n",
       "│ 2023-10-31 │ -0.0235616 │   -0.0431263 │   -0.039629 │\n",
       "│ 2023-11-30 │  0.0895259 │    0.0898198 │   0.0769883 │\n",
       "│ 2023-12-31 │  0.0456572 │    0.0532219 │   0.0383487 │\n",
       "│ 2024-01-31 │  0.0151977 │   0.00429701 │  -0.0475452 │\n",
       "│ 2024-02-29 │  0.0518111 │    0.0169284 │    0.046475 │\n",
       "│ 2024-03-31 │  0.0309855 │    0.0331842 │   0.0244778 │\n",
       "└────────────┴────────────┴──────────────┴─────────────┘\n",
       "\u001b[36m                                        420 rows omitted\u001b[0m"
      ]
     },
     "metadata": {},
     "output_type": "display_data"
    }
   ],
   "source": [
    "columns = [:Date, :USA_Net, :World_ex_USA, :EM_Net]\n",
    "data_df = DataFrame(XLSX.readtable(\"../data/assets_data_03.24.xlsx\", \"Indexes\"; infer_eltypes=true))[2:end, columns]\n",
    "dropmissing!(data_df, disallowmissing=true)\n",
    "returns_usd = data_df |> \n",
    "            x -> TimeArray(x; timestamp = :Date) |> \n",
    "            x -> percentchange(x, :log)"
   ]
  },
  {
   "cell_type": "code",
   "execution_count": 35,
   "metadata": {},
   "outputs": [
    {
     "name": "stdout",
     "output_type": "stream",
     "text": [
      "StatsModels.TableRegressionModel{LinearModel{GLM.LmResp{Vector{Float64}}, GLM.DensePredChol{Float64, CholeskyPivoted{Float64, Matrix{Float64}, Vector{Int64}}}}, Matrix{Float64}}\n",
      "\n",
      "USA_Net ~ 1 + MwigTR\n",
      "\n",
      "Coefficients:\n",
      "─────────────────────────────────────────────────────────────────────────────\n",
      "                  Coef.  Std. Error      t  Pr(>|t|)    Lower 95%   Upper 95%\n",
      "─────────────────────────────────────────────────────────────────────────────\n",
      "(Intercept)  0.00515542   0.0021587   2.39    0.0178  0.000899198  0.00941163\n",
      "MwigTR       0.560135     0.0346637  16.16    <1e-37  0.49179      0.62848\n",
      "─────────────────────────────────────────────────────────────────────────────\n",
      "0.5614010605217712\n"
     ]
    }
   ],
   "source": [
    "data = merge(returns_pln[:MwigTR], returns_usd[:USA_Net])\n",
    "ols = lm(@formula(USA_Net ~ MwigTR), data)\n",
    "println(ols)\n",
    "println(r2(ols))"
   ]
  }
 ],
 "metadata": {
  "kernelspec": {
   "display_name": "Julia 1.10.2",
   "language": "julia",
   "name": "julia-1.10"
  },
  "language_info": {
   "file_extension": ".jl",
   "mimetype": "application/julia",
   "name": "julia",
   "version": "1.10.2"
  }
 },
 "nbformat": 4,
 "nbformat_minor": 2
}
