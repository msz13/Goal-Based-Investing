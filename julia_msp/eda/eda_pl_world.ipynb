{
 "cells": [
  {
   "cell_type": "code",
   "execution_count": 101,
   "metadata": {},
   "outputs": [
    {
     "data": {
      "text/plain": [
       "print_percentiles (generic function with 3 methods)"
      ]
     },
     "metadata": {},
     "output_type": "display_data"
    }
   ],
   "source": [
    "using XLSX\n",
    "using DataFrames, TimeSeries\n",
    "using StatsPlots\n",
    "using Plots\n",
    "using LinearAlgebra\n",
    "using CSV\n",
    "using StatsBase\n",
    "using GLM\n",
    "include(\"../utils.jl\")\n"
   ]
  },
  {
   "cell_type": "code",
   "execution_count": 102,
   "metadata": {},
   "outputs": [
    {
     "data": {
      "text/plain": [
       "255×7 TimeArray{Float64, 2, Date, Matrix{Float64}} 2003-01-31 to 2024-03-31\n",
       "┌────────────┬────────────┬──────────────┬─────────────┬──────────────┬─────────\n",
       "│\u001b[1m            \u001b[0m│\u001b[1m USA_Net    \u001b[0m│\u001b[1m World_ex_USA \u001b[0m│\u001b[1m EM_Net      \u001b[0m│\u001b[1m ACWI_Net_PLN \u001b[0m│\u001b[1m MwigTR\u001b[0m ⋯\n",
       "├────────────┼────────────┼──────────────┼─────────────┼──────────────┼─────────\n",
       "│ 2003-01-31 │ -0.0248446 │   -0.0388471 │ -0.00442015 │   -0.0317079 │  -0.04 ⋯\n",
       "│ 2003-02-28 │ -0.0159343 │   -0.0199094 │  -0.0284988 │   0.00510351 │ -0.001 ⋯\n",
       "│ 2003-03-31 │ 0.00886423 │   -0.0194601 │  -0.0289739 │    0.0430687 │  -0.00 ⋯\n",
       "│ 2003-04-30 │  0.0798764 │    0.0916379 │   0.0851925 │    0.0118412 │   0.03 ⋯\n",
       "│ 2003-05-31 │  0.0517369 │    0.0601744 │   0.0690563 │    0.0300993 │   0.05 ⋯\n",
       "│ 2003-06-30 │   0.011892 │    0.0240024 │   0.0551391 │    0.0670022 │   0.01 ⋯\n",
       "│ 2003-07-31 │  0.0179915 │    0.0226828 │   0.0603263 │    0.0132941 │    0.1 ⋯\n",
       "│ 2003-08-31 │  0.0181089 │    0.0254588 │   0.0647735 │    0.0495565 │    0.1 ⋯\n",
       "│     ⋮      │     ⋮      │      ⋮       │      ⋮      │      ⋮       │      ⋮ ⋱\n",
       "│ 2023-09-30 │ -0.0483353 │   -0.0342956 │  -0.0264995 │    0.0154043 │  -0.04 ⋯\n",
       "│ 2023-10-31 │ -0.0235616 │   -0.0431263 │   -0.039629 │    -0.066645 │   0.04 ⋯\n",
       "│ 2023-11-30 │  0.0895259 │    0.0898198 │   0.0769883 │    0.0356998 │    0.0 ⋯\n",
       "│ 2023-12-31 │  0.0456572 │    0.0532219 │   0.0383487 │    0.0310713 │   0.04 ⋯\n",
       "│ 2024-01-31 │  0.0151977 │   0.00429701 │  -0.0475452 │    0.0233511 │   0.01 ⋯\n",
       "│ 2024-02-29 │  0.0518111 │    0.0169284 │    0.046475 │    0.0394925 │   0.06 ⋯\n",
       "│ 2024-03-31 │  0.0309855 │    0.0331842 │   0.0244778 │    0.0298368 │    0.0 ⋯\n",
       "└────────────┴────────────┴──────────────┴─────────────┴──────────────┴─────────\n",
       "\u001b[36m                                                  3 columns and 240 rows omitted\u001b[0m"
      ]
     },
     "metadata": {},
     "output_type": "display_data"
    }
   ],
   "source": [
    "columns = [:Date, :USA_Net, :World_ex_USA, :EM_Net, :ACWI_Net_PLN, :MwigTR, :WIG20TR, :B10YPL]\n",
    "data_df = DataFrame(XLSX.readtable(\"../data/assets_data_03.24.xlsx\", \"Indexes_PLN\"; infer_eltypes=true))[2:end, columns]\n",
    "dropmissing!(data_df, disallowmissing=true)\n",
    "returns_pln = data_df |> \n",
    "            x -> TimeArray(x; timestamp = :Date) |> \n",
    "            x -> from(x, Date(2002,12,01)) |>\n",
    "            x -> percentchange(x, :log)"
   ]
  },
  {
   "cell_type": "code",
   "execution_count": 105,
   "metadata": {},
   "outputs": [
    {
     "data": {
      "text/plain": [
       "204×4 TimeArray{Float64, 2, Date, Matrix{Float64}} 2007-08-31 to 2024-07-31\n",
       "┌────────────┬─────────┬────────┬─────────┬───────────┐\n",
       "│\u001b[1m            \u001b[0m│\u001b[1m WIBOR3m \u001b[0m│\u001b[1m CPIPLY \u001b[0m│\u001b[1m Y10PL   \u001b[0m│\u001b[1m MWig40_dy \u001b[0m│\n",
       "├────────────┼─────────┼────────┼─────────┼───────────┤\n",
       "│ 2007-08-31 │  0.0503 │  0.015 │ 0.05789 │   0.00668 │\n",
       "│ 2007-09-30 │   0.051 │  0.023 │   0.057 │   0.00778 │\n",
       "│ 2007-10-31 │  0.0521 │   0.03 │ 0.05514 │   0.00775 │\n",
       "│ 2007-11-30 │  0.0556 │  0.036 │ 0.05777 │    0.0093 │\n",
       "│ 2007-12-31 │   0.057 │   0.04 │ 0.05916 │    0.0095 │\n",
       "│ 2008-01-31 │  0.0565 │   0.04 │ 0.05688 │     0.011 │\n",
       "│ 2008-02-29 │  0.0594 │  0.042 │ 0.05973 │    0.0118 │\n",
       "│ 2008-03-31 │  0.0615 │  0.041 │ 0.05971 │    0.0188 │\n",
       "│     ⋮      │    ⋮    │   ⋮    │    ⋮    │     ⋮     │\n",
       "│ 2024-01-31 │  0.0586 │  0.039 │ 0.05226 │   0.02643 │\n",
       "│ 2024-02-29 │  0.0586 │  0.028 │ 0.05312 │   0.03451 │\n",
       "│ 2024-03-31 │  0.0588 │   0.02 │ 0.05432 │   0.03081 │\n",
       "│ 2024-04-30 │  0.0586 │  0.024 │ 0.05712 │   0.03272 │\n",
       "│ 2024-05-31 │  0.0585 │  0.025 │ 0.05697 │   0.03118 │\n",
       "│ 2024-06-30 │  0.0585 │  0.026 │ 0.05723 │   0.03044 │\n",
       "│ 2024-07-31 │  0.0586 │  0.042 │ 0.05409 │   0.03194 │\n",
       "└────────────┴─────────┴────────┴─────────┴───────────┘\n",
       "\u001b[36m                                       189 rows omitted\u001b[0m"
      ]
     },
     "metadata": {},
     "output_type": "display_data"
    }
   ],
   "source": [
    "data_df = DataFrame(XLSX.readtable(\"../data/assets_data_03.24.xlsx\", \"Macro_month\"; infer_eltypes=true))[:,[:Date, :WIBOR3m, :CPIPLY, :Y10PL, :MWig40_dy]]\n",
    "dropmissing!(data_df, disallowmissing=true)\n",
    "macro_pl = data_df |> x -> TimeArray(x; timestamp = :Date)  |> x -> from(x,Date(2003,01,01)) "
   ]
  },
  {
   "cell_type": "code",
   "execution_count": 104,
   "metadata": {},
   "outputs": [
    {
     "data": {
      "text/plain": [
       "435×3 TimeArray{Float64, 2, Date, Matrix{Float64}} 1988-01-31 to 2024-03-31\n",
       "┌────────────┬────────────┬──────────────┬─────────────┐\n",
       "│\u001b[1m            \u001b[0m│\u001b[1m USA_Net    \u001b[0m│\u001b[1m World_ex_USA \u001b[0m│\u001b[1m EM_Net      \u001b[0m│\n",
       "├────────────┼────────────┼──────────────┼─────────────┤\n",
       "│ 1988-01-31 │  0.0410122 │    0.0153553 │   0.0935834 │\n",
       "│ 1988-02-29 │  0.0401109 │    0.0640862 │   0.0031132 │\n",
       "│ 1988-03-31 │ -0.0349774 │    0.0592025 │     0.10175 │\n",
       "│ 1988-04-30 │ 0.00818061 │    0.0140195 │   0.0517417 │\n",
       "│ 1988-05-31 │ 0.00760205 │   -0.0326806 │   0.0292525 │\n",
       "│ 1988-06-30 │  0.0445733 │   -0.0229028 │   0.0331365 │\n",
       "│ 1988-07-31 │ -0.0040323 │    0.0288082 │  -0.0260317 │\n",
       "│ 1988-08-31 │  -0.035096 │   -0.0667177 │  -0.0274362 │\n",
       "│     ⋮      │     ⋮      │      ⋮       │      ⋮      │\n",
       "│ 2023-09-30 │ -0.0483353 │   -0.0342956 │  -0.0264995 │\n",
       "│ 2023-10-31 │ -0.0235616 │   -0.0431263 │   -0.039629 │\n",
       "│ 2023-11-30 │  0.0895259 │    0.0898198 │   0.0769883 │\n",
       "│ 2023-12-31 │  0.0456572 │    0.0532219 │   0.0383487 │\n",
       "│ 2024-01-31 │  0.0151977 │   0.00429701 │  -0.0475452 │\n",
       "│ 2024-02-29 │  0.0518111 │    0.0169284 │    0.046475 │\n",
       "│ 2024-03-31 │  0.0309855 │    0.0331842 │   0.0244778 │\n",
       "└────────────┴────────────┴──────────────┴─────────────┘\n",
       "\u001b[36m                                        420 rows omitted\u001b[0m"
      ]
     },
     "metadata": {},
     "output_type": "display_data"
    }
   ],
   "source": [
    "columns = [:Date, :USA_Net, :World_ex_USA, :EM_Net]\n",
    "data_df = DataFrame(XLSX.readtable(\"../data/assets_data_03.24.xlsx\", \"Indexes\"; infer_eltypes=true))[2:end, columns]\n",
    "dropmissing!(data_df, disallowmissing=true)\n",
    "returns_usd = data_df |> \n",
    "            x -> TimeArray(x; timestamp = :Date) |> \n",
    "            x -> percentchange(x, :log)"
   ]
  },
  {
   "cell_type": "code",
   "execution_count": 62,
   "metadata": {},
   "outputs": [
    {
     "data": {
      "text/html": [
       "<table>\n",
       "  <thead>\n",
       "    <tr class = \"header headerLastRow\">\n",
       "      <th class = \"rowLabel\" style = \"font-weight: bold; text-align: right;\"></th>\n",
       "      <th style = \"text-align: right;\">std</th>\n",
       "      <th style = \"text-align: right;\">max</th>\n",
       "      <th style = \"text-align: right;\">mean</th>\n",
       "      <th style = \"text-align: right;\">p75th</th>\n",
       "      <th style = \"text-align: right;\">min</th>\n",
       "      <th style = \"text-align: right;\">skewness</th>\n",
       "      <th style = \"text-align: right;\">p25th</th>\n",
       "      <th style = \"text-align: right;\">autocor</th>\n",
       "      <th style = \"text-align: right;\">kurtosis</th>\n",
       "      <th style = \"text-align: right;\">sr</th>\n",
       "      <th style = \"text-align: right;\">median</th>\n",
       "    </tr>\n",
       "  </thead>\n",
       "  <tbody>\n",
       "    <tr>\n",
       "      <td class = \"rowLabel\" style = \"font-weight: bold; text-align: right;\">USA_Net</td>\n",
       "      <td style = \"text-align: right;\">0.1494</td>\n",
       "      <td style = \"text-align: right;\">1.4788</td>\n",
       "      <td style = \"text-align: right;\">0.0985</td>\n",
       "      <td style = \"text-align: right;\">0.4065</td>\n",
       "      <td style = \"text-align: right;\">-2.257</td>\n",
       "      <td style = \"text-align: right;\">-0.7909</td>\n",
       "      <td style = \"text-align: right;\">-0.1905</td>\n",
       "      <td style = \"text-align: right;\">0.0391</td>\n",
       "      <td style = \"text-align: right;\">1.8967</td>\n",
       "      <td style = \"text-align: right;\">0.6593</td>\n",
       "      <td style = \"text-align: right;\">0.1537</td>\n",
       "    </tr>\n",
       "    <tr>\n",
       "      <td class = \"rowLabel\" style = \"font-weight: bold; text-align: right;\">World_ex_USA</td>\n",
       "      <td style = \"text-align: right;\">0.168</td>\n",
       "      <td style = \"text-align: right;\">1.7129</td>\n",
       "      <td style = \"text-align: right;\">0.0702</td>\n",
       "      <td style = \"text-align: right;\">0.3971</td>\n",
       "      <td style = \"text-align: right;\">-2.7986</td>\n",
       "      <td style = \"text-align: right;\">-0.8513</td>\n",
       "      <td style = \"text-align: right;\">-0.2294</td>\n",
       "      <td style = \"text-align: right;\">0.1307</td>\n",
       "      <td style = \"text-align: right;\">2.6166</td>\n",
       "      <td style = \"text-align: right;\">0.4181</td>\n",
       "      <td style = \"text-align: right;\">0.1466</td>\n",
       "    </tr>\n",
       "    <tr>\n",
       "      <td class = \"rowLabel\" style = \"font-weight: bold; text-align: right;\">EM_Net</td>\n",
       "      <td style = \"text-align: right;\">0.2087</td>\n",
       "      <td style = \"text-align: right;\">1.893</td>\n",
       "      <td style = \"text-align: right;\">0.0842</td>\n",
       "      <td style = \"text-align: right;\">0.553</td>\n",
       "      <td style = \"text-align: right;\">-3.8371</td>\n",
       "      <td style = \"text-align: right;\">-0.8236</td>\n",
       "      <td style = \"text-align: right;\">-0.3169</td>\n",
       "      <td style = \"text-align: right;\">0.1393</td>\n",
       "      <td style = \"text-align: right;\">3.2059</td>\n",
       "      <td style = \"text-align: right;\">0.4033</td>\n",
       "      <td style = \"text-align: right;\">0.0995</td>\n",
       "    </tr>\n",
       "    <tr>\n",
       "      <td class = \"rowLabel\" style = \"font-weight: bold; text-align: right;\">ACWI_Net_PLN</td>\n",
       "      <td style = \"text-align: right;\">0.121</td>\n",
       "      <td style = \"text-align: right;\">1.2714</td>\n",
       "      <td style = \"text-align: right;\">0.0879</td>\n",
       "      <td style = \"text-align: right;\">0.3596</td>\n",
       "      <td style = \"text-align: right;\">-1.2476</td>\n",
       "      <td style = \"text-align: right;\">-0.3241</td>\n",
       "      <td style = \"text-align: right;\">-0.1698</td>\n",
       "      <td style = \"text-align: right;\">0.0111</td>\n",
       "      <td style = \"text-align: right;\">0.6767</td>\n",
       "      <td style = \"text-align: right;\">0.7263</td>\n",
       "      <td style = \"text-align: right;\">0.0957</td>\n",
       "    </tr>\n",
       "    <tr>\n",
       "      <td class = \"rowLabel\" style = \"font-weight: bold; text-align: right;\">MwigTR</td>\n",
       "      <td style = \"text-align: right;\">0.2181</td>\n",
       "      <td style = \"text-align: right;\">2.403</td>\n",
       "      <td style = \"text-align: right;\">0.1155</td>\n",
       "      <td style = \"text-align: right;\">0.4835</td>\n",
       "      <td style = \"text-align: right;\">-3.8898</td>\n",
       "      <td style = \"text-align: right;\">-0.6628</td>\n",
       "      <td style = \"text-align: right;\">-0.2993</td>\n",
       "      <td style = \"text-align: right;\">0.1952</td>\n",
       "      <td style = \"text-align: right;\">3.7443</td>\n",
       "      <td style = \"text-align: right;\">0.5296</td>\n",
       "      <td style = \"text-align: right;\">0.1475</td>\n",
       "    </tr>\n",
       "    <tr>\n",
       "      <td class = \"rowLabel\" style = \"font-weight: bold; text-align: right;\">WIG20TR</td>\n",
       "      <td style = \"text-align: right;\">0.2199</td>\n",
       "      <td style = \"text-align: right;\">2.2594</td>\n",
       "      <td style = \"text-align: right;\">0.0705</td>\n",
       "      <td style = \"text-align: right;\">0.594</td>\n",
       "      <td style = \"text-align: right;\">-3.2019</td>\n",
       "      <td style = \"text-align: right;\">-0.3645</td>\n",
       "      <td style = \"text-align: right;\">-0.4047</td>\n",
       "      <td style = \"text-align: right;\">0.0087</td>\n",
       "      <td style = \"text-align: right;\">1.0945</td>\n",
       "      <td style = \"text-align: right;\">0.3205</td>\n",
       "      <td style = \"text-align: right;\">0.1144</td>\n",
       "    </tr>\n",
       "    <tr>\n",
       "      <td class = \"rowLabel\" style = \"font-weight: bold; text-align: right;\">B10YPL</td>\n",
       "      <td style = \"text-align: right;\">0.0895</td>\n",
       "      <td style = \"text-align: right;\">1.5024</td>\n",
       "      <td style = \"text-align: right;\">0.0444</td>\n",
       "      <td style = \"text-align: right;\">0.206</td>\n",
       "      <td style = \"text-align: right;\">-1.0138</td>\n",
       "      <td style = \"text-align: right;\">0.0388</td>\n",
       "      <td style = \"text-align: right;\">-0.1158</td>\n",
       "      <td style = \"text-align: right;\">0.0204</td>\n",
       "      <td style = \"text-align: right;\">3.1919</td>\n",
       "      <td style = \"text-align: right;\">0.4963</td>\n",
       "      <td style = \"text-align: right;\">0.0604</td>\n",
       "    </tr>\n",
       "  </tbody>\n",
       "</table>\n"
      ]
     },
     "metadata": {},
     "output_type": "display_data"
    }
   ],
   "source": [
    "returns_summarystats(returns_pln, 12)"
   ]
  },
  {
   "cell_type": "code",
   "execution_count": 38,
   "metadata": {},
   "outputs": [
    {
     "data": {
      "text/html": [
       "<table>\n",
       "  <thead>\n",
       "    <tr class = \"header headerLastRow\">\n",
       "      <th class = \"rowLabel\" style = \"font-weight: bold; text-align: right;\"></th>\n",
       "      <th style = \"text-align: right;\">std</th>\n",
       "      <th style = \"text-align: right;\">max</th>\n",
       "      <th style = \"text-align: right;\">mean</th>\n",
       "      <th style = \"text-align: right;\">p75th</th>\n",
       "      <th style = \"text-align: right;\">min</th>\n",
       "      <th style = \"text-align: right;\">skewness</th>\n",
       "      <th style = \"text-align: right;\">p25th</th>\n",
       "      <th style = \"text-align: right;\">autocor</th>\n",
       "      <th style = \"text-align: right;\">kurtosis</th>\n",
       "      <th style = \"text-align: right;\">sr</th>\n",
       "      <th style = \"text-align: right;\">median</th>\n",
       "    </tr>\n",
       "  </thead>\n",
       "  <tbody>\n",
       "    <tr>\n",
       "      <td class = \"rowLabel\" style = \"font-weight: bold; text-align: right;\">USA_Net</td>\n",
       "      <td style = \"text-align: right;\">0.1491</td>\n",
       "      <td style = \"text-align: right;\">1.4788</td>\n",
       "      <td style = \"text-align: right;\">0.1</td>\n",
       "      <td style = \"text-align: right;\">0.4254</td>\n",
       "      <td style = \"text-align: right;\">-2.257</td>\n",
       "      <td style = \"text-align: right;\">-0.7009</td>\n",
       "      <td style = \"text-align: right;\">-0.2004</td>\n",
       "      <td style = \"text-align: right;\">0.0014</td>\n",
       "      <td style = \"text-align: right;\">1.3793</td>\n",
       "      <td style = \"text-align: right;\">0.6706</td>\n",
       "      <td style = \"text-align: right;\">0.1537</td>\n",
       "    </tr>\n",
       "    <tr>\n",
       "      <td class = \"rowLabel\" style = \"font-weight: bold; text-align: right;\">World_ex_USA</td>\n",
       "      <td style = \"text-align: right;\">0.1682</td>\n",
       "      <td style = \"text-align: right;\">1.7129</td>\n",
       "      <td style = \"text-align: right;\">0.0543</td>\n",
       "      <td style = \"text-align: right;\">0.4165</td>\n",
       "      <td style = \"text-align: right;\">-2.7986</td>\n",
       "      <td style = \"text-align: right;\">-0.6171</td>\n",
       "      <td style = \"text-align: right;\">-0.2752</td>\n",
       "      <td style = \"text-align: right;\">0.0571</td>\n",
       "      <td style = \"text-align: right;\">1.6003</td>\n",
       "      <td style = \"text-align: right;\">0.323</td>\n",
       "      <td style = \"text-align: right;\">0.0992</td>\n",
       "    </tr>\n",
       "    <tr>\n",
       "      <td class = \"rowLabel\" style = \"font-weight: bold; text-align: right;\">EM_Net</td>\n",
       "      <td style = \"text-align: right;\">0.2239</td>\n",
       "      <td style = \"text-align: right;\">2.0825</td>\n",
       "      <td style = \"text-align: right;\">0.0877</td>\n",
       "      <td style = \"text-align: right;\">0.5565</td>\n",
       "      <td style = \"text-align: right;\">-4.1</td>\n",
       "      <td style = \"text-align: right;\">-0.8932</td>\n",
       "      <td style = \"text-align: right;\">-0.3138</td>\n",
       "      <td style = \"text-align: right;\">0.1422</td>\n",
       "      <td style = \"text-align: right;\">3.1066</td>\n",
       "      <td style = \"text-align: right;\">0.3914</td>\n",
       "      <td style = \"text-align: right;\">0.1224</td>\n",
       "    </tr>\n",
       "  </tbody>\n",
       "</table>\n"
      ]
     },
     "metadata": {},
     "output_type": "display_data"
    }
   ],
   "source": [
    "returns_summarystats(returns_usd,12)"
   ]
  },
  {
   "cell_type": "code",
   "execution_count": 39,
   "metadata": {},
   "outputs": [
    {
     "name": "stdout",
     "output_type": "stream",
     "text": [
      "StatsModels.TableRegressionModel{LinearModel{GLM.LmResp{Vector{Float64}}, GLM.DensePredChol{Float64, CholeskyPivoted{Float64, Matrix{Float64}, Vector{Int64}}}}, Matrix{Float64}}\n",
      "\n",
      "USA_Net ~ 1 + MwigTR\n",
      "\n",
      "Coefficients:\n",
      "──────────────────────────────────────────────────────────────────────────────\n",
      "                  Coef.  Std. Error      t  Pr(>|t|)     Lower 95%   Upper 95%\n",
      "──────────────────────────────────────────────────────────────────────────────\n",
      "(Intercept)  0.00370211  0.00199595   1.85    0.0648  -0.000228753  0.00763297\n",
      "MwigTR       0.470608    0.031373    15.00    <1e-36   0.408822     0.532395\n",
      "──────────────────────────────────────────────────────────────────────────────\n",
      "0.47171242027894034\n"
     ]
    }
   ],
   "source": [
    "ols = lm(@formula(USA_Net ~ MwigTR), returns_pln)\n",
    "println(ols)\n",
    "println(r2(ols))"
   ]
  },
  {
   "cell_type": "code",
   "execution_count": 47,
   "metadata": {},
   "outputs": [
    {
     "name": "stdout",
     "output_type": "stream",
     "text": [
      "StatsModels.TableRegressionModel{LinearModel{GLM.LmResp{Vector{Float64}}, GLM.DensePredChol{Float64, CholeskyPivoted{Float64, Matrix{Float64}, Vector{Int64}}}}, Matrix{Float64}}\n",
      "\n",
      "MwigTR ~ 1 + USA_Net\n",
      "\n",
      "Coefficients:\n",
      "─────────────────────────────────────────────────────────────────────────────\n",
      "                  Coef.  Std. Error      t  Pr(>|t|)    Lower 95%   Upper 95%\n",
      "─────────────────────────────────────────────────────────────────────────────\n",
      "(Intercept)  0.00149191  0.00293123   0.51    0.6112  -0.00428091  0.00726474\n",
      "USA_Net      1.00235     0.0668212   15.00    <1e-36   0.870747    1.13395\n",
      "─────────────────────────────────────────────────────────────────────────────\n",
      "0.47171242027894\n"
     ]
    }
   ],
   "source": [
    "ols = lm(@formula(MwigTR ~ USA_Net), returns_pln)\n",
    "println(ols)\n",
    "println(r2(ols))"
   ]
  },
  {
   "cell_type": "code",
   "execution_count": 114,
   "metadata": {},
   "outputs": [
    {
     "name": "stdout",
     "output_type": "stream",
     "text": [
      "StatsModels.TableRegressionModel{LinearModel{GLM.LmResp{Vector{Float64}}, GLM.DensePredChol{Float64, CholeskyPivoted{Float64, Matrix{Float64}, Vector{Int64}}}}, Matrix{Float64}}\n",
      "\n",
      "MwigTR ~ 1 + USA_Net_1 + USA_Net\n",
      "\n",
      "Coefficients:\n",
      "──────────────────────────────────────────────────────────────────────────────\n",
      "                   Coef.  Std. Error      t  Pr(>|t|)    Lower 95%   Upper 95%\n",
      "──────────────────────────────────────────────────────────────────────────────\n",
      "(Intercept)  0.000574091  0.00296783   0.19    0.8468  -0.00527092  0.00641911\n",
      "USA_Net_1    0.10924      0.0666639    1.64    0.1025  -0.0220515   0.240532\n",
      "USA_Net      1.00065      0.0666232   15.02    <1e-36   0.869436    1.13186\n",
      "──────────────────────────────────────────────────────────────────────────────\n",
      "0.47876745733429493\n"
     ]
    }
   ],
   "source": [
    "returns_lag = merge(returns_pln, TimeSeries.lead(returns_pln,1))\n",
    "ols = lm(@formula(MwigTR ~  USA_Net_1 + USA_Net), returns_lag)\n",
    "println(ols)\n",
    "println(r2(ols))"
   ]
  },
  {
   "cell_type": "code",
   "execution_count": 54,
   "metadata": {},
   "outputs": [
    {
     "name": "stdout",
     "output_type": "stream",
     "text": [
      "StatsModels.TableRegressionModel{LinearModel{GLM.LmResp{Vector{Float64}}, GLM.DensePredChol{Float64, CholeskyPivoted{Float64, Matrix{Float64}, Vector{Int64}}}}, Matrix{Float64}}\n",
      "\n",
      "World_ex_USA ~ 1 + MwigTR\n",
      "\n",
      "Coefficients:\n",
      "──────────────────────────────────────────────────────────────────────────────\n",
      "                   Coef.  Std. Error      t  Pr(>|t|)    Lower 95%   Upper 95%\n",
      "──────────────────────────────────────────────────────────────────────────────\n",
      "(Intercept)  0.000668284  0.00218435   0.31    0.7599  -0.00363363  0.00497019\n",
      "MwigTR       0.544382     0.0343344   15.86    <1e-39   0.476763    0.612001\n",
      "──────────────────────────────────────────────────────────────────────────────\n",
      "0.4993949288596782\n"
     ]
    }
   ],
   "source": [
    "ols = lm(@formula(World_ex_USA ~ MwigTR), returns_pln)\n",
    "println(ols)\n",
    "println(r2(ols))"
   ]
  },
  {
   "cell_type": "code",
   "execution_count": 55,
   "metadata": {},
   "outputs": [
    {
     "name": "stdout",
     "output_type": "stream",
     "text": [
      "StatsModels.TableRegressionModel{LinearModel{GLM.LmResp{Vector{Float64}}, GLM.DensePredChol{Float64, CholeskyPivoted{Float64, Matrix{Float64}, Vector{Int64}}}}, Matrix{Float64}}\n",
      "\n",
      "EM_Net ~ 1 + MwigTR\n",
      "\n",
      "Coefficients:\n",
      "─────────────────────────────────────────────────────────────────────────────\n",
      "                   Coef.  Std. Error      t  Pr(>|t|)   Lower 95%   Upper 95%\n",
      "─────────────────────────────────────────────────────────────────────────────\n",
      "(Intercept)  0.000866209  0.00289832   0.30    0.7653  -0.0048418  0.00657422\n",
      "MwigTR       0.628798     0.0455567   13.80    <1e-31   0.539077   0.718518\n",
      "─────────────────────────────────────────────────────────────────────────────\n",
      "0.43052065797049277\n"
     ]
    }
   ],
   "source": [
    "ols = lm(@formula(EM_Net ~ MwigTR), returns_pln)\n",
    "println(ols)\n",
    "println(r2(ols))"
   ]
  },
  {
   "cell_type": "code",
   "execution_count": 56,
   "metadata": {},
   "outputs": [
    {
     "data": {
      "text/plain": [
       "435×3 TimeArray{Float64, 2, Date, Matrix{Float64}} 1988-01-31 to 2024-03-31\n",
       "┌────────────┬────────────┬──────────────┬─────────────┐\n",
       "│\u001b[1m            \u001b[0m│\u001b[1m USA_Net    \u001b[0m│\u001b[1m World_ex_USA \u001b[0m│\u001b[1m EM_Net      \u001b[0m│\n",
       "├────────────┼────────────┼──────────────┼─────────────┤\n",
       "│ 1988-01-31 │  0.0410122 │    0.0153553 │   0.0935834 │\n",
       "│ 1988-02-29 │  0.0401109 │    0.0640862 │   0.0031132 │\n",
       "│ 1988-03-31 │ -0.0349774 │    0.0592025 │     0.10175 │\n",
       "│ 1988-04-30 │ 0.00818061 │    0.0140195 │   0.0517417 │\n",
       "│ 1988-05-31 │ 0.00760205 │   -0.0326806 │   0.0292525 │\n",
       "│ 1988-06-30 │  0.0445733 │   -0.0229028 │   0.0331365 │\n",
       "│ 1988-07-31 │ -0.0040323 │    0.0288082 │  -0.0260317 │\n",
       "│ 1988-08-31 │  -0.035096 │   -0.0667177 │  -0.0274362 │\n",
       "│     ⋮      │     ⋮      │      ⋮       │      ⋮      │\n",
       "│ 2023-09-30 │ -0.0483353 │   -0.0342956 │  -0.0264995 │\n",
       "│ 2023-10-31 │ -0.0235616 │   -0.0431263 │   -0.039629 │\n",
       "│ 2023-11-30 │  0.0895259 │    0.0898198 │   0.0769883 │\n",
       "│ 2023-12-31 │  0.0456572 │    0.0532219 │   0.0383487 │\n",
       "│ 2024-01-31 │  0.0151977 │   0.00429701 │  -0.0475452 │\n",
       "│ 2024-02-29 │  0.0518111 │    0.0169284 │    0.046475 │\n",
       "│ 2024-03-31 │  0.0309855 │    0.0331842 │   0.0244778 │\n",
       "└────────────┴────────────┴──────────────┴─────────────┘\n",
       "\u001b[36m                                        420 rows omitted\u001b[0m"
      ]
     },
     "metadata": {},
     "output_type": "display_data"
    }
   ],
   "source": [
    "columns = [:Date, :USA_Net, :World_ex_USA, :EM_Net]\n",
    "data_df = DataFrame(XLSX.readtable(\"../data/assets_data_03.24.xlsx\", \"Indexes\"; infer_eltypes=true))[2:end, columns]\n",
    "dropmissing!(data_df, disallowmissing=true)\n",
    "returns_usd = data_df |> \n",
    "            x -> TimeArray(x; timestamp = :Date) |> \n",
    "            x -> percentchange(x, :log)"
   ]
  },
  {
   "cell_type": "code",
   "execution_count": 57,
   "metadata": {},
   "outputs": [
    {
     "name": "stdout",
     "output_type": "stream",
     "text": [
      "StatsModels.TableRegressionModel{LinearModel{GLM.LmResp{Vector{Float64}}, GLM.DensePredChol{Float64, CholeskyPivoted{Float64, Matrix{Float64}, Vector{Int64}}}}, Matrix{Float64}}\n",
      "\n",
      "USA_Net ~ 1 + MwigTR\n",
      "\n",
      "Coefficients:\n",
      "──────────────────────────────────────────────────────────────────────────────\n",
      "                  Coef.  Std. Error      t  Pr(>|t|)     Lower 95%   Upper 95%\n",
      "──────────────────────────────────────────────────────────────────────────────\n",
      "(Intercept)  0.00370211  0.00199595   1.85    0.0648  -0.000228753  0.00763297\n",
      "MwigTR       0.470608    0.031373    15.00    <1e-36   0.408822     0.532395\n",
      "──────────────────────────────────────────────────────────────────────────────\n",
      "0.4717124202789381\n"
     ]
    }
   ],
   "source": [
    "data = merge(returns_pln[:MwigTR], returns_usd[:USA_Net])\n",
    "ols = lm(@formula(USA_Net ~ MwigTR), data)\n",
    "println(ols)\n",
    "println(r2(ols))"
   ]
  },
  {
   "cell_type": "code",
   "execution_count": 58,
   "metadata": {},
   "outputs": [
    {
     "data": {
      "text/plain": [
       "0.47244094488188976"
      ]
     },
     "metadata": {},
     "output_type": "display_data"
    }
   ],
   "source": [
    "# number of month wig20 > mwig40\n",
    "\n",
    "n_wig20Gr = values(returns_pln[:WIG20TR] .> returns_pln[:MwigTR])  |> count\n",
    "n_wig20Gr / length(returns_pln)\n"
   ]
  },
  {
   "cell_type": "code",
   "execution_count": 97,
   "metadata": {},
   "outputs": [
    {
     "data": {
      "image/png": "[encoded data removed]",
      "image/svg+xml": [
       "<?xml version=\"1.0\" encoding=\"utf-8\"?>\n",
       "<svg xmlns=\"http://www.w3.org/2000/svg\" xmlns:xlink=\"http://www.w3.org/1999/xlink\" width=\"600\" height=\"400\" viewBox=\"0 0 2400 1600\">\n",
       "<defs>\n",
       "  <clipPath id=\"clip320\">\n",
       "    <rect x=\"0\" y=\"0\" width=\"2400\" height=\"1600\"/>\n",
       "  </clipPath>\n",
       "</defs>\n",
       "<path clip-path=\"url(#clip320)\" d=\"M0 1600 L2400 1600 L2400 0 L0 0  Z\" fill=\"#ffffff\" fill-rule=\"evenodd\" fill-opacity=\"1\"/>\n",
       "<defs>\n",
       "  <clipPath id=\"clip321\">\n",
       "    <rect x=\"480\" y=\"0\" width=\"1681\" height=\"1600\"/>\n",
       "  </clipPath>\n",
       "</defs>\n",
       "<path clip-path=\"url(#clip320)\" d=\"M186.76 1486.45 L2352.76 1486.45 L2352.76 47.2441 L186.76 47.2441  Z\" fill=\"#ffffff\" fill-rule=\"evenodd\" fill-opacity=\"1\"/>\n",
       "<defs>\n",
       "  <clipPath id=\"clip322\">\n",
       "    <rect x=\"186\" y=\"47\" width=\"2167\" height=\"1440\"/>\n",
       "  </clipPath>\n",
       "</defs>\n",
       "<polyline clip-path=\"url(#clip322)\" style=\"stroke:#000000; stroke-linecap:round; stroke-linejoin:round; stroke-width:2; stroke-opacity:0.1; fill:none\" points=\"240.315,1486.45 240.315,47.2441 \"/>\n",
       "<polyline clip-path=\"url(#clip322)\" style=\"stroke:#000000; stroke-linecap:round; stroke-linejoin:round; stroke-width:2; stroke-opacity:0.1; fill:none\" points=\"806.36,1486.45 806.36,47.2441 \"/>\n",
       "<polyline clip-path=\"url(#clip322)\" style=\"stroke:#000000; stroke-linecap:round; stroke-linejoin:round; stroke-width:2; stroke-opacity:0.1; fill:none\" points=\"1372.15,1486.45 1372.15,47.2441 \"/>\n",
       "<polyline clip-path=\"url(#clip322)\" style=\"stroke:#000000; stroke-linecap:round; stroke-linejoin:round; stroke-width:2; stroke-opacity:0.1; fill:none\" points=\"1938.19,1486.45 1938.19,47.2441 \"/>\n",
       "<polyline clip-path=\"url(#clip320)\" style=\"stroke:#000000; stroke-linecap:round; stroke-linejoin:round; stroke-width:4; stroke-opacity:1; fill:none\" points=\"186.76,1486.45 2352.76,1486.45 \"/>\n",
       "<polyline clip-path=\"url(#clip320)\" style=\"stroke:#000000; stroke-linecap:round; stroke-linejoin:round; stroke-width:4; stroke-opacity:1; fill:none\" points=\"240.315,1486.45 240.315,1467.55 \"/>\n",
       "<polyline clip-path=\"url(#clip320)\" style=\"stroke:#000000; stroke-linecap:round; stroke-linejoin:round; stroke-width:4; stroke-opacity:1; fill:none\" points=\"806.36,1486.45 806.36,1467.55 \"/>\n",
       "<polyline clip-path=\"url(#clip320)\" style=\"stroke:#000000; stroke-linecap:round; stroke-linejoin:round; stroke-width:4; stroke-opacity:1; fill:none\" points=\"1372.15,1486.45 1372.15,1467.55 \"/>\n",
       "<polyline clip-path=\"url(#clip320)\" style=\"stroke:#000000; stroke-linecap:round; stroke-linejoin:round; stroke-width:4; stroke-opacity:1; fill:none\" points=\"1938.19,1486.45 1938.19,1467.55 \"/>\n",
       "<path clip-path=\"url(#clip320)\" d=\"M112.11 1544.91 L128.429 1544.91 L128.429 1548.85 L106.485 1548.85 L106.485 1544.91 Q109.147 1542.16 113.73 1537.53 Q118.336 1532.88 119.517 1531.53 Q121.762 1529.01 122.642 1527.27 Q123.545 1525.51 123.545 1523.82 Q123.545 1521.07 121.6 1519.33 Q119.679 1517.6 116.577 1517.6 Q114.378 1517.6 111.924 1518.36 Q109.494 1519.13 106.716 1520.68 L106.716 1515.95 Q109.54 1514.82 111.994 1514.24 Q114.448 1513.66 116.485 1513.66 Q121.855 1513.66 125.049 1516.35 Q128.244 1519.03 128.244 1523.52 Q128.244 1525.65 127.434 1527.57 Q126.647 1529.47 124.54 1532.07 Q123.961 1532.74 120.86 1535.95 Q117.758 1539.15 112.11 1544.91 Z\" fill=\"#000000\" fill-rule=\"nonzero\" fill-opacity=\"1\" /><path clip-path=\"url(#clip320)\" d=\"M148.244 1517.37 Q144.633 1517.37 142.804 1520.93 Q140.998 1524.47 140.998 1531.6 Q140.998 1538.71 142.804 1542.27 Q144.633 1545.82 148.244 1545.82 Q151.878 1545.82 153.683 1542.27 Q155.512 1538.71 155.512 1531.6 Q155.512 1524.47 153.683 1520.93 Q151.878 1517.37 148.244 1517.37 M148.244 1513.66 Q154.054 1513.66 157.109 1518.27 Q160.188 1522.85 160.188 1531.6 Q160.188 1540.33 157.109 1544.94 Q154.054 1549.52 148.244 1549.52 Q142.433 1549.52 139.355 1544.94 Q136.299 1540.33 136.299 1531.6 Q136.299 1522.85 139.355 1518.27 Q142.433 1513.66 148.244 1513.66 Z\" fill=\"#000000\" fill-rule=\"nonzero\" fill-opacity=\"1\" /><path clip-path=\"url(#clip320)\" d=\"M178.406 1517.37 Q174.794 1517.37 172.966 1520.93 Q171.16 1524.47 171.16 1531.6 Q171.16 1538.71 172.966 1542.27 Q174.794 1545.82 178.406 1545.82 Q182.04 1545.82 183.845 1542.27 Q185.674 1538.71 185.674 1531.6 Q185.674 1524.47 183.845 1520.93 Q182.04 1517.37 178.406 1517.37 M178.406 1513.66 Q184.216 1513.66 187.271 1518.27 Q190.35 1522.85 190.35 1531.6 Q190.35 1540.33 187.271 1544.94 Q184.216 1549.52 178.406 1549.52 Q172.595 1549.52 169.517 1544.94 Q166.461 1540.33 166.461 1531.6 Q166.461 1522.85 169.517 1518.27 Q172.595 1513.66 178.406 1513.66 Z\" fill=\"#000000\" fill-rule=\"nonzero\" fill-opacity=\"1\" /><path clip-path=\"url(#clip320)\" d=\"M212.734 1530.21 Q216.091 1530.93 217.965 1533.2 Q219.864 1535.47 219.864 1538.8 Q219.864 1543.92 216.345 1546.72 Q212.827 1549.52 206.345 1549.52 Q204.169 1549.52 201.854 1549.08 Q199.563 1548.66 197.109 1547.81 L197.109 1543.29 Q199.054 1544.43 201.368 1545.01 Q203.683 1545.58 206.206 1545.58 Q210.604 1545.58 212.896 1543.85 Q215.211 1542.11 215.211 1538.8 Q215.211 1535.75 213.058 1534.03 Q210.928 1532.3 207.109 1532.3 L203.081 1532.3 L203.081 1528.45 L207.294 1528.45 Q210.743 1528.45 212.572 1527.09 Q214.401 1525.7 214.401 1523.11 Q214.401 1520.45 212.503 1519.03 Q210.628 1517.6 207.109 1517.6 Q205.188 1517.6 202.989 1518.01 Q200.79 1518.43 198.151 1519.31 L198.151 1515.14 Q200.813 1514.4 203.128 1514.03 Q205.466 1513.66 207.526 1513.66 Q212.85 1513.66 215.952 1516.09 Q219.053 1518.5 219.053 1522.62 Q219.053 1525.49 217.41 1527.48 Q215.766 1529.45 212.734 1530.21 Z\" fill=\"#000000\" fill-rule=\"nonzero\" fill-opacity=\"1\" /><path clip-path=\"url(#clip320)\" d=\"M225.975 1533.96 L238.451 1533.96 L238.451 1537.76 L225.975 1537.76 L225.975 1533.96 Z\" fill=\"#000000\" fill-rule=\"nonzero\" fill-opacity=\"1\" /><path clip-path=\"url(#clip320)\" d=\"M255.836 1517.37 Q252.225 1517.37 250.396 1520.93 Q248.59 1524.47 248.59 1531.6 Q248.59 1538.71 250.396 1542.27 Q252.225 1545.82 255.836 1545.82 Q259.47 1545.82 261.275 1542.27 Q263.104 1538.71 263.104 1531.6 Q263.104 1524.47 261.275 1520.93 Q259.47 1517.37 255.836 1517.37 M255.836 1513.66 Q261.646 1513.66 264.701 1518.27 Q267.78 1522.85 267.78 1531.6 Q267.78 1540.33 264.701 1544.94 Q261.646 1549.52 255.836 1549.52 Q250.026 1549.52 246.947 1544.94 Q243.891 1540.33 243.891 1531.6 Q243.891 1522.85 246.947 1518.27 Q250.026 1513.66 255.836 1513.66 Z\" fill=\"#000000\" fill-rule=\"nonzero\" fill-opacity=\"1\" /><path clip-path=\"url(#clip320)\" d=\"M276.808 1544.91 L284.447 1544.91 L284.447 1518.55 L276.136 1520.21 L276.136 1515.95 L284.4 1514.29 L289.076 1514.29 L289.076 1544.91 L296.715 1544.91 L296.715 1548.85 L276.808 1548.85 L276.808 1544.91 Z\" fill=\"#000000\" fill-rule=\"nonzero\" fill-opacity=\"1\" /><path clip-path=\"url(#clip320)\" d=\"M303.405 1533.96 L315.882 1533.96 L315.882 1537.76 L303.405 1537.76 L303.405 1533.96 Z\" fill=\"#000000\" fill-rule=\"nonzero\" fill-opacity=\"1\" /><path clip-path=\"url(#clip320)\" d=\"M333.266 1517.37 Q329.655 1517.37 327.826 1520.93 Q326.02 1524.47 326.02 1531.6 Q326.02 1538.71 327.826 1542.27 Q329.655 1545.82 333.266 1545.82 Q336.9 1545.82 338.706 1542.27 Q340.534 1538.71 340.534 1531.6 Q340.534 1524.47 338.706 1520.93 Q336.9 1517.37 333.266 1517.37 M333.266 1513.66 Q339.076 1513.66 342.131 1518.27 Q345.21 1522.85 345.21 1531.6 Q345.21 1540.33 342.131 1544.94 Q339.076 1549.52 333.266 1549.52 Q327.456 1549.52 324.377 1544.94 Q321.321 1540.33 321.321 1531.6 Q321.321 1522.85 324.377 1518.27 Q327.456 1513.66 333.266 1513.66 Z\" fill=\"#000000\" fill-rule=\"nonzero\" fill-opacity=\"1\" /><path clip-path=\"url(#clip320)\" d=\"M354.238 1544.91 L361.877 1544.91 L361.877 1518.55 L353.567 1520.21 L353.567 1515.95 L361.83 1514.29 L366.506 1514.29 L366.506 1544.91 L374.145 1544.91 L374.145 1548.85 L354.238 1548.85 L354.238 1544.91 Z\" fill=\"#000000\" fill-rule=\"nonzero\" fill-opacity=\"1\" /><path clip-path=\"url(#clip320)\" d=\"M678.155 1544.91 L694.474 1544.91 L694.474 1548.85 L672.53 1548.85 L672.53 1544.91 Q675.192 1542.16 679.775 1537.53 Q684.382 1532.88 685.562 1531.53 Q687.808 1529.01 688.687 1527.27 Q689.59 1525.51 689.59 1523.82 Q689.59 1521.07 687.645 1519.33 Q685.724 1517.6 682.622 1517.6 Q680.423 1517.6 677.97 1518.36 Q675.539 1519.13 672.761 1520.68 L672.761 1515.95 Q675.585 1514.82 678.039 1514.24 Q680.493 1513.66 682.53 1513.66 Q687.9 1513.66 691.095 1516.35 Q694.289 1519.03 694.289 1523.52 Q694.289 1525.65 693.479 1527.57 Q692.692 1529.47 690.585 1532.07 Q690.007 1532.74 686.905 1535.95 Q683.803 1539.15 678.155 1544.91 Z\" fill=\"#000000\" fill-rule=\"nonzero\" fill-opacity=\"1\" /><path clip-path=\"url(#clip320)\" d=\"M714.289 1517.37 Q710.678 1517.37 708.849 1520.93 Q707.044 1524.47 707.044 1531.6 Q707.044 1538.71 708.849 1542.27 Q710.678 1545.82 714.289 1545.82 Q717.923 1545.82 719.729 1542.27 Q721.557 1538.71 721.557 1531.6 Q721.557 1524.47 719.729 1520.93 Q717.923 1517.37 714.289 1517.37 M714.289 1513.66 Q720.099 1513.66 723.155 1518.27 Q726.233 1522.85 726.233 1531.6 Q726.233 1540.33 723.155 1544.94 Q720.099 1549.52 714.289 1549.52 Q708.479 1549.52 705.4 1544.94 Q702.344 1540.33 702.344 1531.6 Q702.344 1522.85 705.4 1518.27 Q708.479 1513.66 714.289 1513.66 Z\" fill=\"#000000\" fill-rule=\"nonzero\" fill-opacity=\"1\" /><path clip-path=\"url(#clip320)\" d=\"M744.451 1517.37 Q740.84 1517.37 739.011 1520.93 Q737.205 1524.47 737.205 1531.6 Q737.205 1538.71 739.011 1542.27 Q740.84 1545.82 744.451 1545.82 Q748.085 1545.82 749.891 1542.27 Q751.719 1538.71 751.719 1531.6 Q751.719 1524.47 749.891 1520.93 Q748.085 1517.37 744.451 1517.37 M744.451 1513.66 Q750.261 1513.66 753.316 1518.27 Q756.395 1522.85 756.395 1531.6 Q756.395 1540.33 753.316 1544.94 Q750.261 1549.52 744.451 1549.52 Q738.641 1549.52 735.562 1544.94 Q732.506 1540.33 732.506 1531.6 Q732.506 1522.85 735.562 1518.27 Q738.641 1513.66 744.451 1513.66 Z\" fill=\"#000000\" fill-rule=\"nonzero\" fill-opacity=\"1\" /><path clip-path=\"url(#clip320)\" d=\"M764.752 1548.13 L764.752 1543.87 Q766.511 1544.7 768.316 1545.14 Q770.122 1545.58 771.858 1545.58 Q776.488 1545.58 778.918 1542.48 Q781.372 1539.36 781.719 1533.01 Q780.376 1535.01 778.316 1536.07 Q776.256 1537.13 773.756 1537.13 Q768.571 1537.13 765.539 1534.01 Q762.529 1530.86 762.529 1525.42 Q762.529 1520.1 765.677 1516.88 Q768.826 1513.66 774.057 1513.66 Q780.052 1513.66 783.201 1518.27 Q786.372 1522.85 786.372 1531.6 Q786.372 1539.77 782.483 1544.66 Q778.617 1549.52 772.066 1549.52 Q770.307 1549.52 768.502 1549.17 Q766.696 1548.82 764.752 1548.13 M774.057 1533.48 Q777.205 1533.48 779.034 1531.32 Q780.886 1529.17 780.886 1525.42 Q780.886 1521.7 779.034 1519.54 Q777.205 1517.37 774.057 1517.37 Q770.909 1517.37 769.057 1519.54 Q767.228 1521.7 767.228 1525.42 Q767.228 1529.17 769.057 1531.32 Q770.909 1533.48 774.057 1533.48 Z\" fill=\"#000000\" fill-rule=\"nonzero\" fill-opacity=\"1\" /><path clip-path=\"url(#clip320)\" d=\"M792.02 1533.96 L804.497 1533.96 L804.497 1537.76 L792.02 1537.76 L792.02 1533.96 Z\" fill=\"#000000\" fill-rule=\"nonzero\" fill-opacity=\"1\" /><path clip-path=\"url(#clip320)\" d=\"M821.881 1517.37 Q818.27 1517.37 816.441 1520.93 Q814.636 1524.47 814.636 1531.6 Q814.636 1538.71 816.441 1542.27 Q818.27 1545.82 821.881 1545.82 Q825.515 1545.82 827.321 1542.27 Q829.149 1538.71 829.149 1531.6 Q829.149 1524.47 827.321 1520.93 Q825.515 1517.37 821.881 1517.37 M821.881 1513.66 Q827.691 1513.66 830.747 1518.27 Q833.825 1522.85 833.825 1531.6 Q833.825 1540.33 830.747 1544.94 Q827.691 1549.52 821.881 1549.52 Q816.071 1549.52 812.992 1544.94 Q809.936 1540.33 809.936 1531.6 Q809.936 1522.85 812.992 1518.27 Q816.071 1513.66 821.881 1513.66 Z\" fill=\"#000000\" fill-rule=\"nonzero\" fill-opacity=\"1\" /><path clip-path=\"url(#clip320)\" d=\"M842.853 1544.91 L850.492 1544.91 L850.492 1518.55 L842.182 1520.21 L842.182 1515.95 L850.446 1514.29 L855.121 1514.29 L855.121 1544.91 L862.76 1544.91 L862.76 1548.85 L842.853 1548.85 L842.853 1544.91 Z\" fill=\"#000000\" fill-rule=\"nonzero\" fill-opacity=\"1\" /><path clip-path=\"url(#clip320)\" d=\"M869.45 1533.96 L881.927 1533.96 L881.927 1537.76 L869.45 1537.76 L869.45 1533.96 Z\" fill=\"#000000\" fill-rule=\"nonzero\" fill-opacity=\"1\" /><path clip-path=\"url(#clip320)\" d=\"M899.311 1517.37 Q895.7 1517.37 893.871 1520.93 Q892.066 1524.47 892.066 1531.6 Q892.066 1538.71 893.871 1542.27 Q895.7 1545.82 899.311 1545.82 Q902.945 1545.82 904.751 1542.27 Q906.579 1538.71 906.579 1531.6 Q906.579 1524.47 904.751 1520.93 Q902.945 1517.37 899.311 1517.37 M899.311 1513.66 Q905.121 1513.66 908.177 1518.27 Q911.255 1522.85 911.255 1531.6 Q911.255 1540.33 908.177 1544.94 Q905.121 1549.52 899.311 1549.52 Q893.501 1549.52 890.422 1544.94 Q887.367 1540.33 887.367 1531.6 Q887.367 1522.85 890.422 1518.27 Q893.501 1513.66 899.311 1513.66 Z\" fill=\"#000000\" fill-rule=\"nonzero\" fill-opacity=\"1\" /><path clip-path=\"url(#clip320)\" d=\"M920.283 1544.91 L927.922 1544.91 L927.922 1518.55 L919.612 1520.21 L919.612 1515.95 L927.876 1514.29 L932.552 1514.29 L932.552 1544.91 L940.19 1544.91 L940.19 1548.85 L920.283 1548.85 L920.283 1544.91 Z\" fill=\"#000000\" fill-rule=\"nonzero\" fill-opacity=\"1\" /><path clip-path=\"url(#clip320)\" d=\"M1243.94 1544.91 L1260.26 1544.91 L1260.26 1548.85 L1238.32 1548.85 L1238.32 1544.91 Q1240.98 1542.16 1245.56 1537.53 Q1250.17 1532.88 1251.35 1531.53 Q1253.59 1529.01 1254.47 1527.27 Q1255.38 1525.51 1255.38 1523.82 Q1255.38 1521.07 1253.43 1519.33 Q1251.51 1517.6 1248.41 1517.6 Q1246.21 1517.6 1243.76 1518.36 Q1241.33 1519.13 1238.55 1520.68 L1238.55 1515.95 Q1241.37 1514.82 1243.83 1514.24 Q1246.28 1513.66 1248.32 1513.66 Q1253.69 1513.66 1256.88 1516.35 Q1260.08 1519.03 1260.08 1523.52 Q1260.08 1525.65 1259.27 1527.57 Q1258.48 1529.47 1256.37 1532.07 Q1255.79 1532.74 1252.69 1535.95 Q1249.59 1539.15 1243.94 1544.91 Z\" fill=\"#000000\" fill-rule=\"nonzero\" fill-opacity=\"1\" /><path clip-path=\"url(#clip320)\" d=\"M1280.08 1517.37 Q1276.46 1517.37 1274.64 1520.93 Q1272.83 1524.47 1272.83 1531.6 Q1272.83 1538.71 1274.64 1542.27 Q1276.46 1545.82 1280.08 1545.82 Q1283.71 1545.82 1285.52 1542.27 Q1287.34 1538.71 1287.34 1531.6 Q1287.34 1524.47 1285.52 1520.93 Q1283.71 1517.37 1280.08 1517.37 M1280.08 1513.66 Q1285.89 1513.66 1288.94 1518.27 Q1292.02 1522.85 1292.02 1531.6 Q1292.02 1540.33 1288.94 1544.94 Q1285.89 1549.52 1280.08 1549.52 Q1274.27 1549.52 1271.19 1544.94 Q1268.13 1540.33 1268.13 1531.6 Q1268.13 1522.85 1271.19 1518.27 Q1274.27 1513.66 1280.08 1513.66 Z\" fill=\"#000000\" fill-rule=\"nonzero\" fill-opacity=\"1\" /><path clip-path=\"url(#clip320)\" d=\"M1301.05 1544.91 L1308.69 1544.91 L1308.69 1518.55 L1300.38 1520.21 L1300.38 1515.95 L1308.64 1514.29 L1313.32 1514.29 L1313.32 1544.91 L1320.96 1544.91 L1320.96 1548.85 L1301.05 1548.85 L1301.05 1544.91 Z\" fill=\"#000000\" fill-rule=\"nonzero\" fill-opacity=\"1\" /><path clip-path=\"url(#clip320)\" d=\"M1330.45 1514.29 L1348.8 1514.29 L1348.8 1518.22 L1334.73 1518.22 L1334.73 1526.7 Q1335.75 1526.35 1336.77 1526.19 Q1337.78 1526 1338.8 1526 Q1344.59 1526 1347.97 1529.17 Q1351.35 1532.34 1351.35 1537.76 Q1351.35 1543.34 1347.88 1546.44 Q1344.4 1549.52 1338.08 1549.52 Q1335.91 1549.52 1333.64 1549.15 Q1331.4 1548.78 1328.99 1548.04 L1328.99 1543.34 Q1331.07 1544.47 1333.29 1545.03 Q1335.52 1545.58 1337.99 1545.58 Q1342 1545.58 1344.33 1543.48 Q1346.67 1541.37 1346.67 1537.76 Q1346.67 1534.15 1344.33 1532.04 Q1342 1529.94 1337.99 1529.94 Q1336.12 1529.94 1334.24 1530.35 Q1332.39 1530.77 1330.45 1531.65 L1330.45 1514.29 Z\" fill=\"#000000\" fill-rule=\"nonzero\" fill-opacity=\"1\" /><path clip-path=\"url(#clip320)\" d=\"M1357.81 1533.96 L1370.28 1533.96 L1370.28 1537.76 L1357.81 1537.76 L1357.81 1533.96 Z\" fill=\"#000000\" fill-rule=\"nonzero\" fill-opacity=\"1\" /><path clip-path=\"url(#clip320)\" d=\"M1387.67 1517.37 Q1384.06 1517.37 1382.23 1520.93 Q1380.42 1524.47 1380.42 1531.6 Q1380.42 1538.71 1382.23 1542.27 Q1384.06 1545.82 1387.67 1545.82 Q1391.3 1545.82 1393.11 1542.27 Q1394.94 1538.71 1394.94 1531.6 Q1394.94 1524.47 1393.11 1520.93 Q1391.3 1517.37 1387.67 1517.37 M1387.67 1513.66 Q1393.48 1513.66 1396.53 1518.27 Q1399.61 1522.85 1399.61 1531.6 Q1399.61 1540.33 1396.53 1544.94 Q1393.48 1549.52 1387.67 1549.52 Q1381.86 1549.52 1378.78 1544.94 Q1375.72 1540.33 1375.72 1531.6 Q1375.72 1522.85 1378.78 1518.27 Q1381.86 1513.66 1387.67 1513.66 Z\" fill=\"#000000\" fill-rule=\"nonzero\" fill-opacity=\"1\" /><path clip-path=\"url(#clip320)\" d=\"M1408.64 1544.91 L1416.28 1544.91 L1416.28 1518.55 L1407.97 1520.21 L1407.97 1515.95 L1416.23 1514.29 L1420.91 1514.29 L1420.91 1544.91 L1428.55 1544.91 L1428.55 1548.85 L1408.64 1548.85 L1408.64 1544.91 Z\" fill=\"#000000\" fill-rule=\"nonzero\" fill-opacity=\"1\" /><path clip-path=\"url(#clip320)\" d=\"M1435.24 1533.96 L1447.71 1533.96 L1447.71 1537.76 L1435.24 1537.76 L1435.24 1533.96 Z\" fill=\"#000000\" fill-rule=\"nonzero\" fill-opacity=\"1\" /><path clip-path=\"url(#clip320)\" d=\"M1465.1 1517.37 Q1461.49 1517.37 1459.66 1520.93 Q1457.85 1524.47 1457.85 1531.6 Q1457.85 1538.71 1459.66 1542.27 Q1461.49 1545.82 1465.1 1545.82 Q1468.73 1545.82 1470.54 1542.27 Q1472.37 1538.71 1472.37 1531.6 Q1472.37 1524.47 1470.54 1520.93 Q1468.73 1517.37 1465.1 1517.37 M1465.1 1513.66 Q1470.91 1513.66 1473.96 1518.27 Q1477.04 1522.85 1477.04 1531.6 Q1477.04 1540.33 1473.96 1544.94 Q1470.91 1549.52 1465.1 1549.52 Q1459.29 1549.52 1456.21 1544.94 Q1453.15 1540.33 1453.15 1531.6 Q1453.15 1522.85 1456.21 1518.27 Q1459.29 1513.66 1465.1 1513.66 Z\" fill=\"#000000\" fill-rule=\"nonzero\" fill-opacity=\"1\" /><path clip-path=\"url(#clip320)\" d=\"M1486.07 1544.91 L1493.71 1544.91 L1493.71 1518.55 L1485.4 1520.21 L1485.4 1515.95 L1493.66 1514.29 L1498.34 1514.29 L1498.34 1544.91 L1505.98 1544.91 L1505.98 1548.85 L1486.07 1548.85 L1486.07 1544.91 Z\" fill=\"#000000\" fill-rule=\"nonzero\" fill-opacity=\"1\" /><path clip-path=\"url(#clip320)\" d=\"M1809.99 1544.91 L1826.31 1544.91 L1826.31 1548.85 L1804.36 1548.85 L1804.36 1544.91 Q1807.02 1542.16 1811.61 1537.53 Q1816.21 1532.88 1817.39 1531.53 Q1819.64 1529.01 1820.52 1527.27 Q1821.42 1525.51 1821.42 1523.82 Q1821.42 1521.07 1819.48 1519.33 Q1817.56 1517.6 1814.45 1517.6 Q1812.26 1517.6 1809.8 1518.36 Q1807.37 1519.13 1804.59 1520.68 L1804.59 1515.95 Q1807.42 1514.82 1809.87 1514.24 Q1812.32 1513.66 1814.36 1513.66 Q1819.73 1513.66 1822.93 1516.35 Q1826.12 1519.03 1826.12 1523.52 Q1826.12 1525.65 1825.31 1527.57 Q1824.52 1529.47 1822.42 1532.07 Q1821.84 1532.74 1818.74 1535.95 Q1815.64 1539.15 1809.99 1544.91 Z\" fill=\"#000000\" fill-rule=\"nonzero\" fill-opacity=\"1\" /><path clip-path=\"url(#clip320)\" d=\"M1846.12 1517.37 Q1842.51 1517.37 1840.68 1520.93 Q1838.88 1524.47 1838.88 1531.6 Q1838.88 1538.71 1840.68 1542.27 Q1842.51 1545.82 1846.12 1545.82 Q1849.76 1545.82 1851.56 1542.27 Q1853.39 1538.71 1853.39 1531.6 Q1853.39 1524.47 1851.56 1520.93 Q1849.76 1517.37 1846.12 1517.37 M1846.12 1513.66 Q1851.93 1513.66 1854.99 1518.27 Q1858.07 1522.85 1858.07 1531.6 Q1858.07 1540.33 1854.99 1544.94 Q1851.93 1549.52 1846.12 1549.52 Q1840.31 1549.52 1837.23 1544.94 Q1834.18 1540.33 1834.18 1531.6 Q1834.18 1522.85 1837.23 1518.27 Q1840.31 1513.66 1846.12 1513.66 Z\" fill=\"#000000\" fill-rule=\"nonzero\" fill-opacity=\"1\" /><path clip-path=\"url(#clip320)\" d=\"M1870.31 1544.91 L1886.63 1544.91 L1886.63 1548.85 L1864.69 1548.85 L1864.69 1544.91 Q1867.35 1542.16 1871.93 1537.53 Q1876.54 1532.88 1877.72 1531.53 Q1879.96 1529.01 1880.84 1527.27 Q1881.75 1525.51 1881.75 1523.82 Q1881.75 1521.07 1879.8 1519.33 Q1877.88 1517.6 1874.78 1517.6 Q1872.58 1517.6 1870.13 1518.36 Q1867.7 1519.13 1864.92 1520.68 L1864.92 1515.95 Q1867.74 1514.82 1870.2 1514.24 Q1872.65 1513.66 1874.69 1513.66 Q1880.06 1513.66 1883.25 1516.35 Q1886.44 1519.03 1886.44 1523.52 Q1886.44 1525.65 1885.63 1527.57 Q1884.85 1529.47 1882.74 1532.07 Q1882.16 1532.74 1879.06 1535.95 Q1875.96 1539.15 1870.31 1544.91 Z\" fill=\"#000000\" fill-rule=\"nonzero\" fill-opacity=\"1\" /><path clip-path=\"url(#clip320)\" d=\"M1897.26 1544.91 L1904.89 1544.91 L1904.89 1518.55 L1896.58 1520.21 L1896.58 1515.95 L1904.85 1514.29 L1909.52 1514.29 L1909.52 1544.91 L1917.16 1544.91 L1917.16 1548.85 L1897.26 1548.85 L1897.26 1544.91 Z\" fill=\"#000000\" fill-rule=\"nonzero\" fill-opacity=\"1\" /><path clip-path=\"url(#clip320)\" d=\"M1923.85 1533.96 L1936.33 1533.96 L1936.33 1537.76 L1923.85 1537.76 L1923.85 1533.96 Z\" fill=\"#000000\" fill-rule=\"nonzero\" fill-opacity=\"1\" /><path clip-path=\"url(#clip320)\" d=\"M1953.71 1517.37 Q1950.1 1517.37 1948.27 1520.93 Q1946.47 1524.47 1946.47 1531.6 Q1946.47 1538.71 1948.27 1542.27 Q1950.1 1545.82 1953.71 1545.82 Q1957.35 1545.82 1959.15 1542.27 Q1960.98 1538.71 1960.98 1531.6 Q1960.98 1524.47 1959.15 1520.93 Q1957.35 1517.37 1953.71 1517.37 M1953.71 1513.66 Q1959.52 1513.66 1962.58 1518.27 Q1965.66 1522.85 1965.66 1531.6 Q1965.66 1540.33 1962.58 1544.94 Q1959.52 1549.52 1953.71 1549.52 Q1947.9 1549.52 1944.82 1544.94 Q1941.77 1540.33 1941.77 1531.6 Q1941.77 1522.85 1944.82 1518.27 Q1947.9 1513.66 1953.71 1513.66 Z\" fill=\"#000000\" fill-rule=\"nonzero\" fill-opacity=\"1\" /><path clip-path=\"url(#clip320)\" d=\"M1974.69 1544.91 L1982.32 1544.91 L1982.32 1518.55 L1974.01 1520.21 L1974.01 1515.95 L1982.28 1514.29 L1986.95 1514.29 L1986.95 1544.91 L1994.59 1544.91 L1994.59 1548.85 L1974.69 1548.85 L1974.69 1544.91 Z\" fill=\"#000000\" fill-rule=\"nonzero\" fill-opacity=\"1\" /><path clip-path=\"url(#clip320)\" d=\"M2001.28 1533.96 L2013.76 1533.96 L2013.76 1537.76 L2001.28 1537.76 L2001.28 1533.96 Z\" fill=\"#000000\" fill-rule=\"nonzero\" fill-opacity=\"1\" /><path clip-path=\"url(#clip320)\" d=\"M2031.14 1517.37 Q2027.53 1517.37 2025.7 1520.93 Q2023.9 1524.47 2023.9 1531.6 Q2023.9 1538.71 2025.7 1542.27 Q2027.53 1545.82 2031.14 1545.82 Q2034.78 1545.82 2036.58 1542.27 Q2038.41 1538.71 2038.41 1531.6 Q2038.41 1524.47 2036.58 1520.93 Q2034.78 1517.37 2031.14 1517.37 M2031.14 1513.66 Q2036.95 1513.66 2040.01 1518.27 Q2043.09 1522.85 2043.09 1531.6 Q2043.09 1540.33 2040.01 1544.94 Q2036.95 1549.52 2031.14 1549.52 Q2025.33 1549.52 2022.25 1544.94 Q2019.2 1540.33 2019.2 1531.6 Q2019.2 1522.85 2022.25 1518.27 Q2025.33 1513.66 2031.14 1513.66 Z\" fill=\"#000000\" fill-rule=\"nonzero\" fill-opacity=\"1\" /><path clip-path=\"url(#clip320)\" d=\"M2052.12 1544.91 L2059.75 1544.91 L2059.75 1518.55 L2051.44 1520.21 L2051.44 1515.95 L2059.71 1514.29 L2064.38 1514.29 L2064.38 1544.91 L2072.02 1544.91 L2072.02 1548.85 L2052.12 1548.85 L2052.12 1544.91 Z\" fill=\"#000000\" fill-rule=\"nonzero\" fill-opacity=\"1\" /><polyline clip-path=\"url(#clip322)\" style=\"stroke:#000000; stroke-linecap:round; stroke-linejoin:round; stroke-width:2; stroke-opacity:0.1; fill:none\" points=\"186.76,1484.77 2352.76,1484.77 \"/>\n",
       "<polyline clip-path=\"url(#clip322)\" style=\"stroke:#000000; stroke-linecap:round; stroke-linejoin:round; stroke-width:2; stroke-opacity:0.1; fill:none\" points=\"186.76,1112.79 2352.76,1112.79 \"/>\n",
       "<polyline clip-path=\"url(#clip322)\" style=\"stroke:#000000; stroke-linecap:round; stroke-linejoin:round; stroke-width:2; stroke-opacity:0.1; fill:none\" points=\"186.76,740.807 2352.76,740.807 \"/>\n",
       "<polyline clip-path=\"url(#clip322)\" style=\"stroke:#000000; stroke-linecap:round; stroke-linejoin:round; stroke-width:2; stroke-opacity:0.1; fill:none\" points=\"186.76,368.824 2352.76,368.824 \"/>\n",
       "<polyline clip-path=\"url(#clip320)\" style=\"stroke:#000000; stroke-linecap:round; stroke-linejoin:round; stroke-width:4; stroke-opacity:1; fill:none\" points=\"186.76,1486.45 186.76,47.2441 \"/>\n",
       "<polyline clip-path=\"url(#clip320)\" style=\"stroke:#000000; stroke-linecap:round; stroke-linejoin:round; stroke-width:4; stroke-opacity:1; fill:none\" points=\"186.76,1484.77 205.658,1484.77 \"/>\n",
       "<polyline clip-path=\"url(#clip320)\" style=\"stroke:#000000; stroke-linecap:round; stroke-linejoin:round; stroke-width:4; stroke-opacity:1; fill:none\" points=\"186.76,1112.79 205.658,1112.79 \"/>\n",
       "<polyline clip-path=\"url(#clip320)\" style=\"stroke:#000000; stroke-linecap:round; stroke-linejoin:round; stroke-width:4; stroke-opacity:1; fill:none\" points=\"186.76,740.807 205.658,740.807 \"/>\n",
       "<polyline clip-path=\"url(#clip320)\" style=\"stroke:#000000; stroke-linecap:round; stroke-linejoin:round; stroke-width:4; stroke-opacity:1; fill:none\" points=\"186.76,368.824 205.658,368.824 \"/>\n",
       "<path clip-path=\"url(#clip320)\" d=\"M63.4226 1470.57 Q59.8115 1470.57 57.9828 1474.14 Q56.1773 1477.68 56.1773 1484.81 Q56.1773 1491.92 57.9828 1495.48 Q59.8115 1499.02 63.4226 1499.02 Q67.0569 1499.02 68.8624 1495.48 Q70.6911 1491.92 70.6911 1484.81 Q70.6911 1477.68 68.8624 1474.14 Q67.0569 1470.57 63.4226 1470.57 M63.4226 1466.87 Q69.2328 1466.87 72.2883 1471.48 Q75.367 1476.06 75.367 1484.81 Q75.367 1493.54 72.2883 1498.14 Q69.2328 1502.73 63.4226 1502.73 Q57.6125 1502.73 54.5338 1498.14 Q51.4782 1493.54 51.4782 1484.81 Q51.4782 1476.06 54.5338 1471.48 Q57.6125 1466.87 63.4226 1466.87 Z\" fill=\"#000000\" fill-rule=\"nonzero\" fill-opacity=\"1\" /><path clip-path=\"url(#clip320)\" d=\"M83.5845 1496.17 L88.4688 1496.17 L88.4688 1502.05 L83.5845 1502.05 L83.5845 1496.17 Z\" fill=\"#000000\" fill-rule=\"nonzero\" fill-opacity=\"1\" /><path clip-path=\"url(#clip320)\" d=\"M108.654 1470.57 Q105.043 1470.57 103.214 1474.14 Q101.409 1477.68 101.409 1484.81 Q101.409 1491.92 103.214 1495.48 Q105.043 1499.02 108.654 1499.02 Q112.288 1499.02 114.094 1495.48 Q115.922 1491.92 115.922 1484.81 Q115.922 1477.68 114.094 1474.14 Q112.288 1470.57 108.654 1470.57 M108.654 1466.87 Q114.464 1466.87 117.52 1471.48 Q120.598 1476.06 120.598 1484.81 Q120.598 1493.54 117.52 1498.14 Q114.464 1502.73 108.654 1502.73 Q102.844 1502.73 99.765 1498.14 Q96.7095 1493.54 96.7095 1484.81 Q96.7095 1476.06 99.765 1471.48 Q102.844 1466.87 108.654 1466.87 Z\" fill=\"#000000\" fill-rule=\"nonzero\" fill-opacity=\"1\" /><path clip-path=\"url(#clip320)\" d=\"M138.816 1470.57 Q135.205 1470.57 133.376 1474.14 Q131.57 1477.68 131.57 1484.81 Q131.57 1491.92 133.376 1495.48 Q135.205 1499.02 138.816 1499.02 Q142.45 1499.02 144.256 1495.48 Q146.084 1491.92 146.084 1484.81 Q146.084 1477.68 144.256 1474.14 Q142.45 1470.57 138.816 1470.57 M138.816 1466.87 Q144.626 1466.87 147.681 1471.48 Q150.76 1476.06 150.76 1484.81 Q150.76 1493.54 147.681 1498.14 Q144.626 1502.73 138.816 1502.73 Q133.006 1502.73 129.927 1498.14 Q126.871 1493.54 126.871 1484.81 Q126.871 1476.06 129.927 1471.48 Q133.006 1466.87 138.816 1466.87 Z\" fill=\"#000000\" fill-rule=\"nonzero\" fill-opacity=\"1\" /><path clip-path=\"url(#clip320)\" d=\"M65.0198 1098.59 Q61.4087 1098.59 59.58 1102.15 Q57.7745 1105.7 57.7745 1112.83 Q57.7745 1119.93 59.58 1123.5 Q61.4087 1127.04 65.0198 1127.04 Q68.6541 1127.04 70.4596 1123.5 Q72.2883 1119.93 72.2883 1112.83 Q72.2883 1105.7 70.4596 1102.15 Q68.6541 1098.59 65.0198 1098.59 M65.0198 1094.89 Q70.83 1094.89 73.8855 1099.49 Q76.9642 1104.08 76.9642 1112.83 Q76.9642 1121.55 73.8855 1126.16 Q70.83 1130.74 65.0198 1130.74 Q59.2097 1130.74 56.131 1126.16 Q53.0754 1121.55 53.0754 1112.83 Q53.0754 1104.08 56.131 1099.49 Q59.2097 1094.89 65.0198 1094.89 Z\" fill=\"#000000\" fill-rule=\"nonzero\" fill-opacity=\"1\" /><path clip-path=\"url(#clip320)\" d=\"M85.1818 1124.19 L90.066 1124.19 L90.066 1130.07 L85.1818 1130.07 L85.1818 1124.19 Z\" fill=\"#000000\" fill-rule=\"nonzero\" fill-opacity=\"1\" /><path clip-path=\"url(#clip320)\" d=\"M110.251 1098.59 Q106.64 1098.59 104.811 1102.15 Q103.006 1105.7 103.006 1112.83 Q103.006 1119.93 104.811 1123.5 Q106.64 1127.04 110.251 1127.04 Q113.885 1127.04 115.691 1123.5 Q117.52 1119.93 117.52 1112.83 Q117.52 1105.7 115.691 1102.15 Q113.885 1098.59 110.251 1098.59 M110.251 1094.89 Q116.061 1094.89 119.117 1099.49 Q122.195 1104.08 122.195 1112.83 Q122.195 1121.55 119.117 1126.16 Q116.061 1130.74 110.251 1130.74 Q104.441 1130.74 101.362 1126.16 Q98.3067 1121.55 98.3067 1112.83 Q98.3067 1104.08 101.362 1099.49 Q104.441 1094.89 110.251 1094.89 Z\" fill=\"#000000\" fill-rule=\"nonzero\" fill-opacity=\"1\" /><path clip-path=\"url(#clip320)\" d=\"M134.441 1126.14 L150.76 1126.14 L150.76 1130.07 L128.816 1130.07 L128.816 1126.14 Q131.478 1123.38 136.061 1118.75 Q140.668 1114.1 141.848 1112.76 Q144.093 1110.23 144.973 1108.5 Q145.876 1106.74 145.876 1105.05 Q145.876 1102.29 143.931 1100.56 Q142.01 1098.82 138.908 1098.82 Q136.709 1098.82 134.256 1099.58 Q131.825 1100.35 129.047 1101.9 L129.047 1097.18 Q131.871 1096.04 134.325 1095.46 Q136.779 1094.89 138.816 1094.89 Q144.186 1094.89 147.38 1097.57 Q150.575 1100.26 150.575 1104.75 Q150.575 1106.88 149.765 1108.8 Q148.978 1110.7 146.871 1113.29 Q146.293 1113.96 143.191 1117.18 Q140.089 1120.37 134.441 1126.14 Z\" fill=\"#000000\" fill-rule=\"nonzero\" fill-opacity=\"1\" /><path clip-path=\"url(#clip320)\" d=\"M62.9365 726.606 Q59.3254 726.606 57.4967 730.171 Q55.6912 733.712 55.6912 740.842 Q55.6912 747.948 57.4967 751.513 Q59.3254 755.055 62.9365 755.055 Q66.5707 755.055 68.3763 751.513 Q70.205 747.948 70.205 740.842 Q70.205 733.712 68.3763 730.171 Q66.5707 726.606 62.9365 726.606 M62.9365 722.902 Q68.7467 722.902 71.8022 727.509 Q74.8809 732.092 74.8809 740.842 Q74.8809 749.569 71.8022 754.175 Q68.7467 758.758 62.9365 758.758 Q57.1264 758.758 54.0477 754.175 Q50.9921 749.569 50.9921 740.842 Q50.9921 732.092 54.0477 727.509 Q57.1264 722.902 62.9365 722.902 Z\" fill=\"#000000\" fill-rule=\"nonzero\" fill-opacity=\"1\" /><path clip-path=\"url(#clip320)\" d=\"M83.0984 752.208 L87.9827 752.208 L87.9827 758.087 L83.0984 758.087 L83.0984 752.208 Z\" fill=\"#000000\" fill-rule=\"nonzero\" fill-opacity=\"1\" /><path clip-path=\"url(#clip320)\" d=\"M108.168 726.606 Q104.557 726.606 102.728 730.171 Q100.922 733.712 100.922 740.842 Q100.922 747.948 102.728 751.513 Q104.557 755.055 108.168 755.055 Q111.802 755.055 113.608 751.513 Q115.436 747.948 115.436 740.842 Q115.436 733.712 113.608 730.171 Q111.802 726.606 108.168 726.606 M108.168 722.902 Q113.978 722.902 117.033 727.509 Q120.112 732.092 120.112 740.842 Q120.112 749.569 117.033 754.175 Q113.978 758.758 108.168 758.758 Q102.358 758.758 99.2789 754.175 Q96.2234 749.569 96.2234 740.842 Q96.2234 732.092 99.2789 727.509 Q102.358 722.902 108.168 722.902 Z\" fill=\"#000000\" fill-rule=\"nonzero\" fill-opacity=\"1\" /><path clip-path=\"url(#clip320)\" d=\"M141.177 727.601 L129.371 746.05 L141.177 746.05 L141.177 727.601 M139.95 723.527 L145.83 723.527 L145.83 746.05 L150.76 746.05 L150.76 749.939 L145.83 749.939 L145.83 758.087 L141.177 758.087 L141.177 749.939 L125.575 749.939 L125.575 745.425 L139.95 723.527 Z\" fill=\"#000000\" fill-rule=\"nonzero\" fill-opacity=\"1\" /><path clip-path=\"url(#clip320)\" d=\"M63.2606 354.622 Q59.6495 354.622 57.8208 358.187 Q56.0152 361.729 56.0152 368.858 Q56.0152 375.965 57.8208 379.53 Q59.6495 383.071 63.2606 383.071 Q66.8948 383.071 68.7004 379.53 Q70.5291 375.965 70.5291 368.858 Q70.5291 361.729 68.7004 358.187 Q66.8948 354.622 63.2606 354.622 M63.2606 350.919 Q69.0707 350.919 72.1263 355.525 Q75.205 360.109 75.205 368.858 Q75.205 377.585 72.1263 382.192 Q69.0707 386.775 63.2606 386.775 Q57.4504 386.775 54.3717 382.192 Q51.3162 377.585 51.3162 368.858 Q51.3162 360.109 54.3717 355.525 Q57.4504 350.919 63.2606 350.919 Z\" fill=\"#000000\" fill-rule=\"nonzero\" fill-opacity=\"1\" /><path clip-path=\"url(#clip320)\" d=\"M83.4225 380.224 L88.3067 380.224 L88.3067 386.104 L83.4225 386.104 L83.4225 380.224 Z\" fill=\"#000000\" fill-rule=\"nonzero\" fill-opacity=\"1\" /><path clip-path=\"url(#clip320)\" d=\"M108.492 354.622 Q104.881 354.622 103.052 358.187 Q101.246 361.729 101.246 368.858 Q101.246 375.965 103.052 379.53 Q104.881 383.071 108.492 383.071 Q112.126 383.071 113.932 379.53 Q115.76 375.965 115.76 368.858 Q115.76 361.729 113.932 358.187 Q112.126 354.622 108.492 354.622 M108.492 350.919 Q114.302 350.919 117.358 355.525 Q120.436 360.109 120.436 368.858 Q120.436 377.585 117.358 382.192 Q114.302 386.775 108.492 386.775 Q102.682 386.775 99.603 382.192 Q96.5474 377.585 96.5474 368.858 Q96.5474 360.109 99.603 355.525 Q102.682 350.919 108.492 350.919 Z\" fill=\"#000000\" fill-rule=\"nonzero\" fill-opacity=\"1\" /><path clip-path=\"url(#clip320)\" d=\"M139.232 366.96 Q136.084 366.96 134.232 369.113 Q132.404 371.266 132.404 375.016 Q132.404 378.743 134.232 380.919 Q136.084 383.071 139.232 383.071 Q142.381 383.071 144.209 380.919 Q146.061 378.743 146.061 375.016 Q146.061 371.266 144.209 369.113 Q142.381 366.96 139.232 366.96 M148.515 352.308 L148.515 356.567 Q146.756 355.734 144.95 355.294 Q143.168 354.854 141.408 354.854 Q136.779 354.854 134.325 357.979 Q131.894 361.104 131.547 367.423 Q132.913 365.409 134.973 364.345 Q137.033 363.257 139.51 363.257 Q144.718 363.257 147.728 366.428 Q150.76 369.576 150.76 375.016 Q150.76 380.34 147.612 383.557 Q144.464 386.775 139.232 386.775 Q133.237 386.775 130.066 382.192 Q126.894 377.585 126.894 368.858 Q126.894 360.664 130.783 355.803 Q134.672 350.919 141.223 350.919 Q142.982 350.919 144.765 351.266 Q146.57 351.613 148.515 352.308 Z\" fill=\"#000000\" fill-rule=\"nonzero\" fill-opacity=\"1\" /><polyline clip-path=\"url(#clip322)\" style=\"stroke:#009af9; stroke-linecap:round; stroke-linejoin:round; stroke-width:4; stroke-opacity:1; fill:none\" points=\"248.062,281.408 255.292,318.606 263.298,372.544 271.045,426.481 279.05,480.419 286.797,495.298 294.802,510.177 302.807,528.777 310.554,510.177 318.559,394.863 326.306,400.442 334.311,443.22 342.317,469.259 349.805,461.82 357.811,463.68 365.558,396.722 373.563,368.824 381.31,359.524 389.315,292.567 397.32,182.832 405.067,199.571 413.072,212.591 420.819,225.61 428.824,249.789 436.83,255.369 444.06,311.166 452.065,385.563 459.812,445.08 467.818,472.979 475.565,573.415 483.57,616.193 491.575,627.352 499.322,647.811 507.327,625.492 515.074,623.632 523.079,629.212 531.084,666.41 538.315,711.048 546.32,709.189 554.067,716.628 562.072,712.908 569.819,701.749 577.825,707.329 585.83,705.469 593.577,699.889 601.582,701.749 609.329,703.609 617.334,703.609 625.339,705.469 632.57,699.889 640.575,696.169 648.322,666.41 656.327,658.971 664.074,608.753 672.079,590.154 680.085,549.236 687.831,536.216 695.837,515.757 703.584,450.66 711.589,424.621 719.594,433.921 727.083,379.983 735.088,340.925 742.835,305.587 750.84,279.548 758.587,247.929 766.592,264.668 774.598,275.828 782.345,251.649 790.35,210.731 798.097,264.668 806.102,391.143 814.107,580.854 821.338,645.951 829.343,709.189 837.09,685.01 845.095,625.492 852.842,658.971 860.847,709.189 868.852,707.329 876.599,707.329 884.605,707.329 892.351,705.469 900.357,690.589 908.362,705.469 915.592,712.908 923.598,722.208 931.345,766.846 939.35,766.846 947.097,764.986 955.102,774.286 963.107,776.146 970.854,770.566 978.859,768.706 986.606,763.126 994.611,750.107 1002.62,724.068 1009.85,712.908 1017.85,705.469 1025.6,685.01 1033.6,657.111 1041.35,612.473 1049.36,608.753 1057.36,606.893 1065.11,599.453 1073.11,571.555 1080.86,560.395 1088.87,556.675 1096.87,556.675 1104.36,562.255 1112.37,565.975 1120.11,564.115 1128.12,534.356 1135.86,530.637 1143.87,534.356 1151.87,556.675 1159.62,569.695 1167.63,605.033 1175.37,649.671 1183.38,720.348 1191.38,750.107 1198.62,791.025 1206.62,854.262 1214.37,911.92 1222.37,975.157 1230.12,977.017 1238.12,982.596 1246.13,982.596 1253.88,988.176 1261.88,990.036 1269.63,991.896 1277.63,980.736 1285.64,980.736 1292.87,980.736 1300.88,980.736 1308.62,978.877 1316.63,978.877 1324.37,986.316 1332.38,988.176 1340.38,1003.06 1348.13,1060.71 1356.14,1120.23 1363.88,1101.63 1371.89,1101.63 1379.89,1112.79 1387.12,1148.13 1395.13,1177.89 1402.88,1177.89 1410.88,1172.31 1418.63,1164.87 1426.63,1164.87 1434.64,1164.87 1442.39,1163.01 1450.39,1163.01 1458.14,1163.01 1466.14,1164.87 1474.15,1168.59 1481.64,1172.31 1489.64,1174.17 1497.39,1174.17 1505.39,1172.31 1513.14,1166.73 1521.15,1166.73 1529.15,1166.73 1536.9,1166.73 1544.9,1164.87 1552.65,1163.01 1560.66,1163.01 1568.66,1163.01 1575.89,1163.01 1583.9,1163.01 1591.64,1163.01 1599.65,1163.01 1607.4,1163.01 1615.4,1163.01 1623.41,1163.01 1631.15,1163.01 1639.16,1163.01 1646.91,1163.01 1654.91,1164.87 1662.92,1164.87 1670.15,1164.87 1678.15,1168.59 1685.9,1168.59 1693.9,1168.59 1701.65,1168.59 1709.66,1168.59 1717.66,1166.73 1725.41,1164.87 1733.41,1164.87 1741.16,1164.87 1749.17,1164.87 1757.17,1164.87 1764.4,1164.87 1772.41,1164.87 1780.15,1164.87 1788.16,1164.87 1795.91,1164.87 1803.91,1164.87 1811.92,1164.87 1819.66,1164.87 1827.67,1166.73 1835.42,1166.73 1843.42,1166.73 1851.43,1166.73 1858.92,1166.73 1866.92,1267.16 1874.67,1358.3 1882.67,1432.7 1890.42,1436.42 1898.42,1442 1906.43,1442 1914.18,1443.86 1922.18,1443.86 1929.93,1443.86 1937.93,1445.72 1945.94,1445.72 1953.17,1445.72 1961.18,1445.72 1968.92,1445.72 1976.93,1445.72 1984.67,1445.72 1992.68,1445.72 2000.68,1442 2008.43,1442 2016.44,1347.14 2024.18,1101.63 2032.19,1012.36 2040.19,923.079 2047.42,805.904 2055.43,597.594 2063.18,359.524 2071.18,259.089 2078.93,173.532 2086.93,180.972 2094.94,162.373 2102.69,143.774 2110.69,87.9763 2118.44,130.754 2126.44,179.112 2134.45,192.132 2141.68,193.992 2149.68,203.291 2157.43,201.431 2165.44,201.431 2173.18,201.431 2181.19,227.47 2189.19,247.929 2196.94,411.602 2204.95,432.061 2212.69,400.442 2220.7,391.143 2228.7,394.863 2236.19,394.863 2244.2,391.143 2251.94,394.863 2259.95,396.722 2267.7,396.722 2275.7,394.863 2283.71,396.722 2291.45,396.722 \"/>\n",
       "<path clip-path=\"url(#clip320)\" d=\"M258.96 1438.47 L709.1 1438.47 L709.1 1334.79 L258.96 1334.79  Z\" fill=\"#ffffff\" fill-rule=\"evenodd\" fill-opacity=\"1\"/>\n",
       "<polyline clip-path=\"url(#clip320)\" style=\"stroke:#000000; stroke-linecap:round; stroke-linejoin:round; stroke-width:4; stroke-opacity:1; fill:none\" points=\"258.96,1438.47 709.1,1438.47 709.1,1334.79 258.96,1334.79 258.96,1438.47 \"/>\n",
       "<polyline clip-path=\"url(#clip320)\" style=\"stroke:#009af9; stroke-linecap:round; stroke-linejoin:round; stroke-width:4; stroke-opacity:1; fill:none\" points=\"283.027,1386.63 427.426,1386.63 \"/>\n",
       "<path clip-path=\"url(#clip320)\" d=\"M451.493 1369.35 L456.215 1369.35 L463.484 1398.57 L470.729 1369.35 L475.984 1369.35 L483.252 1398.57 L490.497 1369.35 L495.243 1369.35 L486.562 1403.91 L480.683 1403.91 L473.391 1373.91 L466.03 1403.91 L460.15 1403.91 L451.493 1369.35 Z\" fill=\"#000000\" fill-rule=\"nonzero\" fill-opacity=\"1\" /><path clip-path=\"url(#clip320)\" d=\"M501.446 1369.35 L506.122 1369.35 L506.122 1403.91 L501.446 1403.91 L501.446 1369.35 Z\" fill=\"#000000\" fill-rule=\"nonzero\" fill-opacity=\"1\" /><path clip-path=\"url(#clip320)\" d=\"M520.104 1387.41 L520.104 1400.07 L527.604 1400.07 Q531.377 1400.07 533.182 1398.52 Q535.011 1396.95 535.011 1393.73 Q535.011 1390.49 533.182 1388.96 Q531.377 1387.41 527.604 1387.41 L520.104 1387.41 M520.104 1373.2 L520.104 1383.61 L527.025 1383.61 Q530.451 1383.61 532.117 1382.34 Q533.807 1381.04 533.807 1378.41 Q533.807 1375.79 532.117 1374.49 Q530.451 1373.2 527.025 1373.2 L520.104 1373.2 M515.428 1369.35 L527.372 1369.35 Q532.719 1369.35 535.613 1371.58 Q538.506 1373.8 538.506 1377.9 Q538.506 1381.07 537.025 1382.94 Q535.543 1384.82 532.673 1385.28 Q536.122 1386.02 538.02 1388.38 Q539.942 1390.72 539.942 1394.24 Q539.942 1398.87 536.793 1401.39 Q533.645 1403.91 527.835 1403.91 L515.428 1403.91 L515.428 1369.35 Z\" fill=\"#000000\" fill-rule=\"nonzero\" fill-opacity=\"1\" /><path clip-path=\"url(#clip320)\" d=\"M561.145 1372.53 Q556.053 1372.53 553.043 1376.32 Q550.057 1380.12 550.057 1386.67 Q550.057 1393.2 553.043 1396.99 Q556.053 1400.79 561.145 1400.79 Q566.238 1400.79 569.201 1396.99 Q572.187 1393.2 572.187 1386.67 Q572.187 1380.12 569.201 1376.32 Q566.238 1372.53 561.145 1372.53 M561.145 1368.73 Q568.414 1368.73 572.765 1373.61 Q577.117 1378.47 577.117 1386.67 Q577.117 1394.84 572.765 1399.72 Q568.414 1404.59 561.145 1404.59 Q553.853 1404.59 549.479 1399.72 Q545.127 1394.86 545.127 1386.67 Q545.127 1378.47 549.479 1373.61 Q553.853 1368.73 561.145 1368.73 Z\" fill=\"#000000\" fill-rule=\"nonzero\" fill-opacity=\"1\" /><path clip-path=\"url(#clip320)\" d=\"M600.821 1387.71 Q602.325 1388.22 603.737 1389.89 Q605.173 1391.55 606.608 1394.47 L611.353 1403.91 L606.33 1403.91 L601.909 1395.05 Q600.196 1391.58 598.575 1390.44 Q596.978 1389.31 594.2 1389.31 L589.108 1389.31 L589.108 1403.91 L584.432 1403.91 L584.432 1369.35 L594.988 1369.35 Q600.913 1369.35 603.83 1371.83 Q606.747 1374.31 606.747 1379.31 Q606.747 1382.57 605.219 1384.72 Q603.714 1386.88 600.821 1387.71 M589.108 1373.2 L589.108 1385.47 L594.988 1385.47 Q598.367 1385.47 600.08 1383.91 Q601.816 1382.34 601.816 1379.31 Q601.816 1376.28 600.08 1374.75 Q598.367 1373.2 594.988 1373.2 L589.108 1373.2 Z\" fill=\"#000000\" fill-rule=\"nonzero\" fill-opacity=\"1\" /><path clip-path=\"url(#clip320)\" d=\"M631.955 1385.28 Q635.311 1386 637.186 1388.27 Q639.085 1390.53 639.085 1393.87 Q639.085 1398.98 635.566 1401.78 Q632.048 1404.59 625.566 1404.59 Q623.39 1404.59 621.075 1404.15 Q618.784 1403.73 616.33 1402.87 L616.33 1398.36 Q618.274 1399.49 620.589 1400.07 Q622.904 1400.65 625.427 1400.65 Q629.825 1400.65 632.117 1398.91 Q634.432 1397.18 634.432 1393.87 Q634.432 1390.81 632.279 1389.1 Q630.149 1387.36 626.33 1387.36 L622.302 1387.36 L622.302 1383.52 L626.515 1383.52 Q629.964 1383.52 631.793 1382.16 Q633.622 1380.77 633.622 1378.17 Q633.622 1375.51 631.723 1374.1 Q629.848 1372.66 626.33 1372.66 Q624.409 1372.66 622.21 1373.08 Q620.011 1373.5 617.372 1374.38 L617.372 1370.21 Q620.034 1369.47 622.348 1369.1 Q624.686 1368.73 626.747 1368.73 Q632.071 1368.73 635.173 1371.16 Q638.274 1373.57 638.274 1377.69 Q638.274 1380.56 636.631 1382.55 Q634.987 1384.52 631.955 1385.28 Z\" fill=\"#000000\" fill-rule=\"nonzero\" fill-opacity=\"1\" /><path clip-path=\"url(#clip320)\" d=\"M667.533 1382.97 Q669.131 1380.1 671.353 1378.73 Q673.575 1377.36 676.584 1377.36 Q680.635 1377.36 682.834 1380.21 Q685.033 1383.03 685.033 1388.27 L685.033 1403.91 L680.751 1403.91 L680.751 1388.41 Q680.751 1384.68 679.432 1382.87 Q678.112 1381.07 675.404 1381.07 Q672.094 1381.07 670.172 1383.27 Q668.251 1385.47 668.251 1389.26 L668.251 1403.91 L663.969 1403.91 L663.969 1388.41 Q663.969 1384.66 662.649 1382.87 Q661.33 1381.07 658.575 1381.07 Q655.311 1381.07 653.39 1383.29 Q651.469 1385.49 651.469 1389.26 L651.469 1403.91 L647.186 1403.91 L647.186 1377.99 L651.469 1377.99 L651.469 1382.02 Q652.927 1379.63 654.964 1378.5 Q657.001 1377.36 659.802 1377.36 Q662.626 1377.36 664.594 1378.8 Q666.584 1380.23 667.533 1382.97 Z\" fill=\"#000000\" fill-rule=\"nonzero\" fill-opacity=\"1\" /></svg>\n"
      ],
      "text/html": [
       "<?xml version=\"1.0\" encoding=\"utf-8\"?>\n",
       "<svg xmlns=\"http://www.w3.org/2000/svg\" xmlns:xlink=\"http://www.w3.org/1999/xlink\" width=\"600\" height=\"400\" viewBox=\"0 0 2400 1600\">\n",
       "<defs>\n",
       "  <clipPath id=\"clip370\">\n",
       "    <rect x=\"0\" y=\"0\" width=\"2400\" height=\"1600\"/>\n",
       "  </clipPath>\n",
       "</defs>\n",
       "<path clip-path=\"url(#clip370)\" d=\"M0 1600 L2400 1600 L2400 0 L0 0  Z\" fill=\"#ffffff\" fill-rule=\"evenodd\" fill-opacity=\"1\"/>\n",
       "<defs>\n",
       "  <clipPath id=\"clip371\">\n",
       "    <rect x=\"480\" y=\"0\" width=\"1681\" height=\"1600\"/>\n",
       "  </clipPath>\n",
       "</defs>\n",
       "<path clip-path=\"url(#clip370)\" d=\"M186.76 1486.45 L2352.76 1486.45 L2352.76 47.2441 L186.76 47.2441  Z\" fill=\"#ffffff\" fill-rule=\"evenodd\" fill-opacity=\"1\"/>\n",
       "<defs>\n",
       "  <clipPath id=\"clip372\">\n",
       "    <rect x=\"186\" y=\"47\" width=\"2167\" height=\"1440\"/>\n",
       "  </clipPath>\n",
       "</defs>\n",
       "<polyline clip-path=\"url(#clip372)\" style=\"stroke:#000000; stroke-linecap:round; stroke-linejoin:round; stroke-width:2; stroke-opacity:0.1; fill:none\" points=\"240.315,1486.45 240.315,47.2441 \"/>\n",
       "<polyline clip-path=\"url(#clip372)\" style=\"stroke:#000000; stroke-linecap:round; stroke-linejoin:round; stroke-width:2; stroke-opacity:0.1; fill:none\" points=\"806.36,1486.45 806.36,47.2441 \"/>\n",
       "<polyline clip-path=\"url(#clip372)\" style=\"stroke:#000000; stroke-linecap:round; stroke-linejoin:round; stroke-width:2; stroke-opacity:0.1; fill:none\" points=\"1372.15,1486.45 1372.15,47.2441 \"/>\n",
       "<polyline clip-path=\"url(#clip372)\" style=\"stroke:#000000; stroke-linecap:round; stroke-linejoin:round; stroke-width:2; stroke-opacity:0.1; fill:none\" points=\"1938.19,1486.45 1938.19,47.2441 \"/>\n",
       "<polyline clip-path=\"url(#clip370)\" style=\"stroke:#000000; stroke-linecap:round; stroke-linejoin:round; stroke-width:4; stroke-opacity:1; fill:none\" points=\"186.76,1486.45 2352.76,1486.45 \"/>\n",
       "<polyline clip-path=\"url(#clip370)\" style=\"stroke:#000000; stroke-linecap:round; stroke-linejoin:round; stroke-width:4; stroke-opacity:1; fill:none\" points=\"240.315,1486.45 240.315,1467.55 \"/>\n",
       "<polyline clip-path=\"url(#clip370)\" style=\"stroke:#000000; stroke-linecap:round; stroke-linejoin:round; stroke-width:4; stroke-opacity:1; fill:none\" points=\"806.36,1486.45 806.36,1467.55 \"/>\n",
       "<polyline clip-path=\"url(#clip370)\" style=\"stroke:#000000; stroke-linecap:round; stroke-linejoin:round; stroke-width:4; stroke-opacity:1; fill:none\" points=\"1372.15,1486.45 1372.15,1467.55 \"/>\n",
       "<polyline clip-path=\"url(#clip370)\" style=\"stroke:#000000; stroke-linecap:round; stroke-linejoin:round; stroke-width:4; stroke-opacity:1; fill:none\" points=\"1938.19,1486.45 1938.19,1467.55 \"/>\n",
       "<path clip-path=\"url(#clip370)\" d=\"M112.11 1544.91 L128.429 1544.91 L128.429 1548.85 L106.485 1548.85 L106.485 1544.91 Q109.147 1542.16 113.73 1537.53 Q118.336 1532.88 119.517 1531.53 Q121.762 1529.01 122.642 1527.27 Q123.545 1525.51 123.545 1523.82 Q123.545 1521.07 121.6 1519.33 Q119.679 1517.6 116.577 1517.6 Q114.378 1517.6 111.924 1518.36 Q109.494 1519.13 106.716 1520.68 L106.716 1515.95 Q109.54 1514.82 111.994 1514.24 Q114.448 1513.66 116.485 1513.66 Q121.855 1513.66 125.049 1516.35 Q128.244 1519.03 128.244 1523.52 Q128.244 1525.65 127.434 1527.57 Q126.647 1529.47 124.54 1532.07 Q123.961 1532.74 120.86 1535.95 Q117.758 1539.15 112.11 1544.91 Z\" fill=\"#000000\" fill-rule=\"nonzero\" fill-opacity=\"1\" /><path clip-path=\"url(#clip370)\" d=\"M148.244 1517.37 Q144.633 1517.37 142.804 1520.93 Q140.998 1524.47 140.998 1531.6 Q140.998 1538.71 142.804 1542.27 Q144.633 1545.82 148.244 1545.82 Q151.878 1545.82 153.683 1542.27 Q155.512 1538.71 155.512 1531.6 Q155.512 1524.47 153.683 1520.93 Q151.878 1517.37 148.244 1517.37 M148.244 1513.66 Q154.054 1513.66 157.109 1518.27 Q160.188 1522.85 160.188 1531.6 Q160.188 1540.33 157.109 1544.94 Q154.054 1549.52 148.244 1549.52 Q142.433 1549.52 139.355 1544.94 Q136.299 1540.33 136.299 1531.6 Q136.299 1522.85 139.355 1518.27 Q142.433 1513.66 148.244 1513.66 Z\" fill=\"#000000\" fill-rule=\"nonzero\" fill-opacity=\"1\" /><path clip-path=\"url(#clip370)\" d=\"M178.406 1517.37 Q174.794 1517.37 172.966 1520.93 Q171.16 1524.47 171.16 1531.6 Q171.16 1538.71 172.966 1542.27 Q174.794 1545.82 178.406 1545.82 Q182.04 1545.82 183.845 1542.27 Q185.674 1538.71 185.674 1531.6 Q185.674 1524.47 183.845 1520.93 Q182.04 1517.37 178.406 1517.37 M178.406 1513.66 Q184.216 1513.66 187.271 1518.27 Q190.35 1522.85 190.35 1531.6 Q190.35 1540.33 187.271 1544.94 Q184.216 1549.52 178.406 1549.52 Q172.595 1549.52 169.517 1544.94 Q166.461 1540.33 166.461 1531.6 Q166.461 1522.85 169.517 1518.27 Q172.595 1513.66 178.406 1513.66 Z\" fill=\"#000000\" fill-rule=\"nonzero\" fill-opacity=\"1\" /><path clip-path=\"url(#clip370)\" d=\"M212.734 1530.21 Q216.091 1530.93 217.965 1533.2 Q219.864 1535.47 219.864 1538.8 Q219.864 1543.92 216.345 1546.72 Q212.827 1549.52 206.345 1549.52 Q204.169 1549.52 201.854 1549.08 Q199.563 1548.66 197.109 1547.81 L197.109 1543.29 Q199.054 1544.43 201.368 1545.01 Q203.683 1545.58 206.206 1545.58 Q210.604 1545.58 212.896 1543.85 Q215.211 1542.11 215.211 1538.8 Q215.211 1535.75 213.058 1534.03 Q210.928 1532.3 207.109 1532.3 L203.081 1532.3 L203.081 1528.45 L207.294 1528.45 Q210.743 1528.45 212.572 1527.09 Q214.401 1525.7 214.401 1523.11 Q214.401 1520.45 212.503 1519.03 Q210.628 1517.6 207.109 1517.6 Q205.188 1517.6 202.989 1518.01 Q200.79 1518.43 198.151 1519.31 L198.151 1515.14 Q200.813 1514.4 203.128 1514.03 Q205.466 1513.66 207.526 1513.66 Q212.85 1513.66 215.952 1516.09 Q219.053 1518.5 219.053 1522.62 Q219.053 1525.49 217.41 1527.48 Q215.766 1529.45 212.734 1530.21 Z\" fill=\"#000000\" fill-rule=\"nonzero\" fill-opacity=\"1\" /><path clip-path=\"url(#clip370)\" d=\"M225.975 1533.96 L238.451 1533.96 L238.451 1537.76 L225.975 1537.76 L225.975 1533.96 Z\" fill=\"#000000\" fill-rule=\"nonzero\" fill-opacity=\"1\" /><path clip-path=\"url(#clip370)\" d=\"M255.836 1517.37 Q252.225 1517.37 250.396 1520.93 Q248.59 1524.47 248.59 1531.6 Q248.59 1538.71 250.396 1542.27 Q252.225 1545.82 255.836 1545.82 Q259.47 1545.82 261.275 1542.27 Q263.104 1538.71 263.104 1531.6 Q263.104 1524.47 261.275 1520.93 Q259.47 1517.37 255.836 1517.37 M255.836 1513.66 Q261.646 1513.66 264.701 1518.27 Q267.78 1522.85 267.78 1531.6 Q267.78 1540.33 264.701 1544.94 Q261.646 1549.52 255.836 1549.52 Q250.026 1549.52 246.947 1544.94 Q243.891 1540.33 243.891 1531.6 Q243.891 1522.85 246.947 1518.27 Q250.026 1513.66 255.836 1513.66 Z\" fill=\"#000000\" fill-rule=\"nonzero\" fill-opacity=\"1\" /><path clip-path=\"url(#clip370)\" d=\"M276.808 1544.91 L284.447 1544.91 L284.447 1518.55 L276.136 1520.21 L276.136 1515.95 L284.4 1514.29 L289.076 1514.29 L289.076 1544.91 L296.715 1544.91 L296.715 1548.85 L276.808 1548.85 L276.808 1544.91 Z\" fill=\"#000000\" fill-rule=\"nonzero\" fill-opacity=\"1\" /><path clip-path=\"url(#clip370)\" d=\"M303.405 1533.96 L315.882 1533.96 L315.882 1537.76 L303.405 1537.76 L303.405 1533.96 Z\" fill=\"#000000\" fill-rule=\"nonzero\" fill-opacity=\"1\" /><path clip-path=\"url(#clip370)\" d=\"M333.266 1517.37 Q329.655 1517.37 327.826 1520.93 Q326.02 1524.47 326.02 1531.6 Q326.02 1538.71 327.826 1542.27 Q329.655 1545.82 333.266 1545.82 Q336.9 1545.82 338.706 1542.27 Q340.534 1538.71 340.534 1531.6 Q340.534 1524.47 338.706 1520.93 Q336.9 1517.37 333.266 1517.37 M333.266 1513.66 Q339.076 1513.66 342.131 1518.27 Q345.21 1522.85 345.21 1531.6 Q345.21 1540.33 342.131 1544.94 Q339.076 1549.52 333.266 1549.52 Q327.456 1549.52 324.377 1544.94 Q321.321 1540.33 321.321 1531.6 Q321.321 1522.85 324.377 1518.27 Q327.456 1513.66 333.266 1513.66 Z\" fill=\"#000000\" fill-rule=\"nonzero\" fill-opacity=\"1\" /><path clip-path=\"url(#clip370)\" d=\"M354.238 1544.91 L361.877 1544.91 L361.877 1518.55 L353.567 1520.21 L353.567 1515.95 L361.83 1514.29 L366.506 1514.29 L366.506 1544.91 L374.145 1544.91 L374.145 1548.85 L354.238 1548.85 L354.238 1544.91 Z\" fill=\"#000000\" fill-rule=\"nonzero\" fill-opacity=\"1\" /><path clip-path=\"url(#clip370)\" d=\"M678.155 1544.91 L694.474 1544.91 L694.474 1548.85 L672.53 1548.85 L672.53 1544.91 Q675.192 1542.16 679.775 1537.53 Q684.382 1532.88 685.562 1531.53 Q687.808 1529.01 688.687 1527.27 Q689.59 1525.51 689.59 1523.82 Q689.59 1521.07 687.645 1519.33 Q685.724 1517.6 682.622 1517.6 Q680.423 1517.6 677.97 1518.36 Q675.539 1519.13 672.761 1520.68 L672.761 1515.95 Q675.585 1514.82 678.039 1514.24 Q680.493 1513.66 682.53 1513.66 Q687.9 1513.66 691.095 1516.35 Q694.289 1519.03 694.289 1523.52 Q694.289 1525.65 693.479 1527.57 Q692.692 1529.47 690.585 1532.07 Q690.007 1532.74 686.905 1535.95 Q683.803 1539.15 678.155 1544.91 Z\" fill=\"#000000\" fill-rule=\"nonzero\" fill-opacity=\"1\" /><path clip-path=\"url(#clip370)\" d=\"M714.289 1517.37 Q710.678 1517.37 708.849 1520.93 Q707.044 1524.47 707.044 1531.6 Q707.044 1538.71 708.849 1542.27 Q710.678 1545.82 714.289 1545.82 Q717.923 1545.82 719.729 1542.27 Q721.557 1538.71 721.557 1531.6 Q721.557 1524.47 719.729 1520.93 Q717.923 1517.37 714.289 1517.37 M714.289 1513.66 Q720.099 1513.66 723.155 1518.27 Q726.233 1522.85 726.233 1531.6 Q726.233 1540.33 723.155 1544.94 Q720.099 1549.52 714.289 1549.52 Q708.479 1549.52 705.4 1544.94 Q702.344 1540.33 702.344 1531.6 Q702.344 1522.85 705.4 1518.27 Q708.479 1513.66 714.289 1513.66 Z\" fill=\"#000000\" fill-rule=\"nonzero\" fill-opacity=\"1\" /><path clip-path=\"url(#clip370)\" d=\"M744.451 1517.37 Q740.84 1517.37 739.011 1520.93 Q737.205 1524.47 737.205 1531.6 Q737.205 1538.71 739.011 1542.27 Q740.84 1545.82 744.451 1545.82 Q748.085 1545.82 749.891 1542.27 Q751.719 1538.71 751.719 1531.6 Q751.719 1524.47 749.891 1520.93 Q748.085 1517.37 744.451 1517.37 M744.451 1513.66 Q750.261 1513.66 753.316 1518.27 Q756.395 1522.85 756.395 1531.6 Q756.395 1540.33 753.316 1544.94 Q750.261 1549.52 744.451 1549.52 Q738.641 1549.52 735.562 1544.94 Q732.506 1540.33 732.506 1531.6 Q732.506 1522.85 735.562 1518.27 Q738.641 1513.66 744.451 1513.66 Z\" fill=\"#000000\" fill-rule=\"nonzero\" fill-opacity=\"1\" /><path clip-path=\"url(#clip370)\" d=\"M764.752 1548.13 L764.752 1543.87 Q766.511 1544.7 768.316 1545.14 Q770.122 1545.58 771.858 1545.58 Q776.488 1545.58 778.918 1542.48 Q781.372 1539.36 781.719 1533.01 Q780.376 1535.01 778.316 1536.07 Q776.256 1537.13 773.756 1537.13 Q768.571 1537.13 765.539 1534.01 Q762.529 1530.86 762.529 1525.42 Q762.529 1520.1 765.677 1516.88 Q768.826 1513.66 774.057 1513.66 Q780.052 1513.66 783.201 1518.27 Q786.372 1522.85 786.372 1531.6 Q786.372 1539.77 782.483 1544.66 Q778.617 1549.52 772.066 1549.52 Q770.307 1549.52 768.502 1549.17 Q766.696 1548.82 764.752 1548.13 M774.057 1533.48 Q777.205 1533.48 779.034 1531.32 Q780.886 1529.17 780.886 1525.42 Q780.886 1521.7 779.034 1519.54 Q777.205 1517.37 774.057 1517.37 Q770.909 1517.37 769.057 1519.54 Q767.228 1521.7 767.228 1525.42 Q767.228 1529.17 769.057 1531.32 Q770.909 1533.48 774.057 1533.48 Z\" fill=\"#000000\" fill-rule=\"nonzero\" fill-opacity=\"1\" /><path clip-path=\"url(#clip370)\" d=\"M792.02 1533.96 L804.497 1533.96 L804.497 1537.76 L792.02 1537.76 L792.02 1533.96 Z\" fill=\"#000000\" fill-rule=\"nonzero\" fill-opacity=\"1\" /><path clip-path=\"url(#clip370)\" d=\"M821.881 1517.37 Q818.27 1517.37 816.441 1520.93 Q814.636 1524.47 814.636 1531.6 Q814.636 1538.71 816.441 1542.27 Q818.27 1545.82 821.881 1545.82 Q825.515 1545.82 827.321 1542.27 Q829.149 1538.71 829.149 1531.6 Q829.149 1524.47 827.321 1520.93 Q825.515 1517.37 821.881 1517.37 M821.881 1513.66 Q827.691 1513.66 830.747 1518.27 Q833.825 1522.85 833.825 1531.6 Q833.825 1540.33 830.747 1544.94 Q827.691 1549.52 821.881 1549.52 Q816.071 1549.52 812.992 1544.94 Q809.936 1540.33 809.936 1531.6 Q809.936 1522.85 812.992 1518.27 Q816.071 1513.66 821.881 1513.66 Z\" fill=\"#000000\" fill-rule=\"nonzero\" fill-opacity=\"1\" /><path clip-path=\"url(#clip370)\" d=\"M842.853 1544.91 L850.492 1544.91 L850.492 1518.55 L842.182 1520.21 L842.182 1515.95 L850.446 1514.29 L855.121 1514.29 L855.121 1544.91 L862.76 1544.91 L862.76 1548.85 L842.853 1548.85 L842.853 1544.91 Z\" fill=\"#000000\" fill-rule=\"nonzero\" fill-opacity=\"1\" /><path clip-path=\"url(#clip370)\" d=\"M869.45 1533.96 L881.927 1533.96 L881.927 1537.76 L869.45 1537.76 L869.45 1533.96 Z\" fill=\"#000000\" fill-rule=\"nonzero\" fill-opacity=\"1\" /><path clip-path=\"url(#clip370)\" d=\"M899.311 1517.37 Q895.7 1517.37 893.871 1520.93 Q892.066 1524.47 892.066 1531.6 Q892.066 1538.71 893.871 1542.27 Q895.7 1545.82 899.311 1545.82 Q902.945 1545.82 904.751 1542.27 Q906.579 1538.71 906.579 1531.6 Q906.579 1524.47 904.751 1520.93 Q902.945 1517.37 899.311 1517.37 M899.311 1513.66 Q905.121 1513.66 908.177 1518.27 Q911.255 1522.85 911.255 1531.6 Q911.255 1540.33 908.177 1544.94 Q905.121 1549.52 899.311 1549.52 Q893.501 1549.52 890.422 1544.94 Q887.367 1540.33 887.367 1531.6 Q887.367 1522.85 890.422 1518.27 Q893.501 1513.66 899.311 1513.66 Z\" fill=\"#000000\" fill-rule=\"nonzero\" fill-opacity=\"1\" /><path clip-path=\"url(#clip370)\" d=\"M920.283 1544.91 L927.922 1544.91 L927.922 1518.55 L919.612 1520.21 L919.612 1515.95 L927.876 1514.29 L932.552 1514.29 L932.552 1544.91 L940.19 1544.91 L940.19 1548.85 L920.283 1548.85 L920.283 1544.91 Z\" fill=\"#000000\" fill-rule=\"nonzero\" fill-opacity=\"1\" /><path clip-path=\"url(#clip370)\" d=\"M1243.94 1544.91 L1260.26 1544.91 L1260.26 1548.85 L1238.32 1548.85 L1238.32 1544.91 Q1240.98 1542.16 1245.56 1537.53 Q1250.17 1532.88 1251.35 1531.53 Q1253.59 1529.01 1254.47 1527.27 Q1255.38 1525.51 1255.38 1523.82 Q1255.38 1521.07 1253.43 1519.33 Q1251.51 1517.6 1248.41 1517.6 Q1246.21 1517.6 1243.76 1518.36 Q1241.33 1519.13 1238.55 1520.68 L1238.55 1515.95 Q1241.37 1514.82 1243.83 1514.24 Q1246.28 1513.66 1248.32 1513.66 Q1253.69 1513.66 1256.88 1516.35 Q1260.08 1519.03 1260.08 1523.52 Q1260.08 1525.65 1259.27 1527.57 Q1258.48 1529.47 1256.37 1532.07 Q1255.79 1532.74 1252.69 1535.95 Q1249.59 1539.15 1243.94 1544.91 Z\" fill=\"#000000\" fill-rule=\"nonzero\" fill-opacity=\"1\" /><path clip-path=\"url(#clip370)\" d=\"M1280.08 1517.37 Q1276.46 1517.37 1274.64 1520.93 Q1272.83 1524.47 1272.83 1531.6 Q1272.83 1538.71 1274.64 1542.27 Q1276.46 1545.82 1280.08 1545.82 Q1283.71 1545.82 1285.52 1542.27 Q1287.34 1538.71 1287.34 1531.6 Q1287.34 1524.47 1285.52 1520.93 Q1283.71 1517.37 1280.08 1517.37 M1280.08 1513.66 Q1285.89 1513.66 1288.94 1518.27 Q1292.02 1522.85 1292.02 1531.6 Q1292.02 1540.33 1288.94 1544.94 Q1285.89 1549.52 1280.08 1549.52 Q1274.27 1549.52 1271.19 1544.94 Q1268.13 1540.33 1268.13 1531.6 Q1268.13 1522.85 1271.19 1518.27 Q1274.27 1513.66 1280.08 1513.66 Z\" fill=\"#000000\" fill-rule=\"nonzero\" fill-opacity=\"1\" /><path clip-path=\"url(#clip370)\" d=\"M1301.05 1544.91 L1308.69 1544.91 L1308.69 1518.55 L1300.38 1520.21 L1300.38 1515.95 L1308.64 1514.29 L1313.32 1514.29 L1313.32 1544.91 L1320.96 1544.91 L1320.96 1548.85 L1301.05 1548.85 L1301.05 1544.91 Z\" fill=\"#000000\" fill-rule=\"nonzero\" fill-opacity=\"1\" /><path clip-path=\"url(#clip370)\" d=\"M1330.45 1514.29 L1348.8 1514.29 L1348.8 1518.22 L1334.73 1518.22 L1334.73 1526.7 Q1335.75 1526.35 1336.77 1526.19 Q1337.78 1526 1338.8 1526 Q1344.59 1526 1347.97 1529.17 Q1351.35 1532.34 1351.35 1537.76 Q1351.35 1543.34 1347.88 1546.44 Q1344.4 1549.52 1338.08 1549.52 Q1335.91 1549.52 1333.64 1549.15 Q1331.4 1548.78 1328.99 1548.04 L1328.99 1543.34 Q1331.07 1544.47 1333.29 1545.03 Q1335.52 1545.58 1337.99 1545.58 Q1342 1545.58 1344.33 1543.48 Q1346.67 1541.37 1346.67 1537.76 Q1346.67 1534.15 1344.33 1532.04 Q1342 1529.94 1337.99 1529.94 Q1336.12 1529.94 1334.24 1530.35 Q1332.39 1530.77 1330.45 1531.65 L1330.45 1514.29 Z\" fill=\"#000000\" fill-rule=\"nonzero\" fill-opacity=\"1\" /><path clip-path=\"url(#clip370)\" d=\"M1357.81 1533.96 L1370.28 1533.96 L1370.28 1537.76 L1357.81 1537.76 L1357.81 1533.96 Z\" fill=\"#000000\" fill-rule=\"nonzero\" fill-opacity=\"1\" /><path clip-path=\"url(#clip370)\" d=\"M1387.67 1517.37 Q1384.06 1517.37 1382.23 1520.93 Q1380.42 1524.47 1380.42 1531.6 Q1380.42 1538.71 1382.23 1542.27 Q1384.06 1545.82 1387.67 1545.82 Q1391.3 1545.82 1393.11 1542.27 Q1394.94 1538.71 1394.94 1531.6 Q1394.94 1524.47 1393.11 1520.93 Q1391.3 1517.37 1387.67 1517.37 M1387.67 1513.66 Q1393.48 1513.66 1396.53 1518.27 Q1399.61 1522.85 1399.61 1531.6 Q1399.61 1540.33 1396.53 1544.94 Q1393.48 1549.52 1387.67 1549.52 Q1381.86 1549.52 1378.78 1544.94 Q1375.72 1540.33 1375.72 1531.6 Q1375.72 1522.85 1378.78 1518.27 Q1381.86 1513.66 1387.67 1513.66 Z\" fill=\"#000000\" fill-rule=\"nonzero\" fill-opacity=\"1\" /><path clip-path=\"url(#clip370)\" d=\"M1408.64 1544.91 L1416.28 1544.91 L1416.28 1518.55 L1407.97 1520.21 L1407.97 1515.95 L1416.23 1514.29 L1420.91 1514.29 L1420.91 1544.91 L1428.55 1544.91 L1428.55 1548.85 L1408.64 1548.85 L1408.64 1544.91 Z\" fill=\"#000000\" fill-rule=\"nonzero\" fill-opacity=\"1\" /><path clip-path=\"url(#clip370)\" d=\"M1435.24 1533.96 L1447.71 1533.96 L1447.71 1537.76 L1435.24 1537.76 L1435.24 1533.96 Z\" fill=\"#000000\" fill-rule=\"nonzero\" fill-opacity=\"1\" /><path clip-path=\"url(#clip370)\" d=\"M1465.1 1517.37 Q1461.49 1517.37 1459.66 1520.93 Q1457.85 1524.47 1457.85 1531.6 Q1457.85 1538.71 1459.66 1542.27 Q1461.49 1545.82 1465.1 1545.82 Q1468.73 1545.82 1470.54 1542.27 Q1472.37 1538.71 1472.37 1531.6 Q1472.37 1524.47 1470.54 1520.93 Q1468.73 1517.37 1465.1 1517.37 M1465.1 1513.66 Q1470.91 1513.66 1473.96 1518.27 Q1477.04 1522.85 1477.04 1531.6 Q1477.04 1540.33 1473.96 1544.94 Q1470.91 1549.52 1465.1 1549.52 Q1459.29 1549.52 1456.21 1544.94 Q1453.15 1540.33 1453.15 1531.6 Q1453.15 1522.85 1456.21 1518.27 Q1459.29 1513.66 1465.1 1513.66 Z\" fill=\"#000000\" fill-rule=\"nonzero\" fill-opacity=\"1\" /><path clip-path=\"url(#clip370)\" d=\"M1486.07 1544.91 L1493.71 1544.91 L1493.71 1518.55 L1485.4 1520.21 L1485.4 1515.95 L1493.66 1514.29 L1498.34 1514.29 L1498.34 1544.91 L1505.98 1544.91 L1505.98 1548.85 L1486.07 1548.85 L1486.07 1544.91 Z\" fill=\"#000000\" fill-rule=\"nonzero\" fill-opacity=\"1\" /><path clip-path=\"url(#clip370)\" d=\"M1809.99 1544.91 L1826.31 1544.91 L1826.31 1548.85 L1804.36 1548.85 L1804.36 1544.91 Q1807.02 1542.16 1811.61 1537.53 Q1816.21 1532.88 1817.39 1531.53 Q1819.64 1529.01 1820.52 1527.27 Q1821.42 1525.51 1821.42 1523.82 Q1821.42 1521.07 1819.48 1519.33 Q1817.56 1517.6 1814.45 1517.6 Q1812.26 1517.6 1809.8 1518.36 Q1807.37 1519.13 1804.59 1520.68 L1804.59 1515.95 Q1807.42 1514.82 1809.87 1514.24 Q1812.32 1513.66 1814.36 1513.66 Q1819.73 1513.66 1822.93 1516.35 Q1826.12 1519.03 1826.12 1523.52 Q1826.12 1525.65 1825.31 1527.57 Q1824.52 1529.47 1822.42 1532.07 Q1821.84 1532.74 1818.74 1535.95 Q1815.64 1539.15 1809.99 1544.91 Z\" fill=\"#000000\" fill-rule=\"nonzero\" fill-opacity=\"1\" /><path clip-path=\"url(#clip370)\" d=\"M1846.12 1517.37 Q1842.51 1517.37 1840.68 1520.93 Q1838.88 1524.47 1838.88 1531.6 Q1838.88 1538.71 1840.68 1542.27 Q1842.51 1545.82 1846.12 1545.82 Q1849.76 1545.82 1851.56 1542.27 Q1853.39 1538.71 1853.39 1531.6 Q1853.39 1524.47 1851.56 1520.93 Q1849.76 1517.37 1846.12 1517.37 M1846.12 1513.66 Q1851.93 1513.66 1854.99 1518.27 Q1858.07 1522.85 1858.07 1531.6 Q1858.07 1540.33 1854.99 1544.94 Q1851.93 1549.52 1846.12 1549.52 Q1840.31 1549.52 1837.23 1544.94 Q1834.18 1540.33 1834.18 1531.6 Q1834.18 1522.85 1837.23 1518.27 Q1840.31 1513.66 1846.12 1513.66 Z\" fill=\"#000000\" fill-rule=\"nonzero\" fill-opacity=\"1\" /><path clip-path=\"url(#clip370)\" d=\"M1870.31 1544.91 L1886.63 1544.91 L1886.63 1548.85 L1864.69 1548.85 L1864.69 1544.91 Q1867.35 1542.16 1871.93 1537.53 Q1876.54 1532.88 1877.72 1531.53 Q1879.96 1529.01 1880.84 1527.27 Q1881.75 1525.51 1881.75 1523.82 Q1881.75 1521.07 1879.8 1519.33 Q1877.88 1517.6 1874.78 1517.6 Q1872.58 1517.6 1870.13 1518.36 Q1867.7 1519.13 1864.92 1520.68 L1864.92 1515.95 Q1867.74 1514.82 1870.2 1514.24 Q1872.65 1513.66 1874.69 1513.66 Q1880.06 1513.66 1883.25 1516.35 Q1886.44 1519.03 1886.44 1523.52 Q1886.44 1525.65 1885.63 1527.57 Q1884.85 1529.47 1882.74 1532.07 Q1882.16 1532.74 1879.06 1535.95 Q1875.96 1539.15 1870.31 1544.91 Z\" fill=\"#000000\" fill-rule=\"nonzero\" fill-opacity=\"1\" /><path clip-path=\"url(#clip370)\" d=\"M1897.26 1544.91 L1904.89 1544.91 L1904.89 1518.55 L1896.58 1520.21 L1896.58 1515.95 L1904.85 1514.29 L1909.52 1514.29 L1909.52 1544.91 L1917.16 1544.91 L1917.16 1548.85 L1897.26 1548.85 L1897.26 1544.91 Z\" fill=\"#000000\" fill-rule=\"nonzero\" fill-opacity=\"1\" /><path clip-path=\"url(#clip370)\" d=\"M1923.85 1533.96 L1936.33 1533.96 L1936.33 1537.76 L1923.85 1537.76 L1923.85 1533.96 Z\" fill=\"#000000\" fill-rule=\"nonzero\" fill-opacity=\"1\" /><path clip-path=\"url(#clip370)\" d=\"M1953.71 1517.37 Q1950.1 1517.37 1948.27 1520.93 Q1946.47 1524.47 1946.47 1531.6 Q1946.47 1538.71 1948.27 1542.27 Q1950.1 1545.82 1953.71 1545.82 Q1957.35 1545.82 1959.15 1542.27 Q1960.98 1538.71 1960.98 1531.6 Q1960.98 1524.47 1959.15 1520.93 Q1957.35 1517.37 1953.71 1517.37 M1953.71 1513.66 Q1959.52 1513.66 1962.58 1518.27 Q1965.66 1522.85 1965.66 1531.6 Q1965.66 1540.33 1962.58 1544.94 Q1959.52 1549.52 1953.71 1549.52 Q1947.9 1549.52 1944.82 1544.94 Q1941.77 1540.33 1941.77 1531.6 Q1941.77 1522.85 1944.82 1518.27 Q1947.9 1513.66 1953.71 1513.66 Z\" fill=\"#000000\" fill-rule=\"nonzero\" fill-opacity=\"1\" /><path clip-path=\"url(#clip370)\" d=\"M1974.69 1544.91 L1982.32 1544.91 L1982.32 1518.55 L1974.01 1520.21 L1974.01 1515.95 L1982.28 1514.29 L1986.95 1514.29 L1986.95 1544.91 L1994.59 1544.91 L1994.59 1548.85 L1974.69 1548.85 L1974.69 1544.91 Z\" fill=\"#000000\" fill-rule=\"nonzero\" fill-opacity=\"1\" /><path clip-path=\"url(#clip370)\" d=\"M2001.28 1533.96 L2013.76 1533.96 L2013.76 1537.76 L2001.28 1537.76 L2001.28 1533.96 Z\" fill=\"#000000\" fill-rule=\"nonzero\" fill-opacity=\"1\" /><path clip-path=\"url(#clip370)\" d=\"M2031.14 1517.37 Q2027.53 1517.37 2025.7 1520.93 Q2023.9 1524.47 2023.9 1531.6 Q2023.9 1538.71 2025.7 1542.27 Q2027.53 1545.82 2031.14 1545.82 Q2034.78 1545.82 2036.58 1542.27 Q2038.41 1538.71 2038.41 1531.6 Q2038.41 1524.47 2036.58 1520.93 Q2034.78 1517.37 2031.14 1517.37 M2031.14 1513.66 Q2036.95 1513.66 2040.01 1518.27 Q2043.09 1522.85 2043.09 1531.6 Q2043.09 1540.33 2040.01 1544.94 Q2036.95 1549.52 2031.14 1549.52 Q2025.33 1549.52 2022.25 1544.94 Q2019.2 1540.33 2019.2 1531.6 Q2019.2 1522.85 2022.25 1518.27 Q2025.33 1513.66 2031.14 1513.66 Z\" fill=\"#000000\" fill-rule=\"nonzero\" fill-opacity=\"1\" /><path clip-path=\"url(#clip370)\" d=\"M2052.12 1544.91 L2059.75 1544.91 L2059.75 1518.55 L2051.44 1520.21 L2051.44 1515.95 L2059.71 1514.29 L2064.38 1514.29 L2064.38 1544.91 L2072.02 1544.91 L2072.02 1548.85 L2052.12 1548.85 L2052.12 1544.91 Z\" fill=\"#000000\" fill-rule=\"nonzero\" fill-opacity=\"1\" /><polyline clip-path=\"url(#clip372)\" style=\"stroke:#000000; stroke-linecap:round; stroke-linejoin:round; stroke-width:2; stroke-opacity:0.1; fill:none\" points=\"186.76,1484.77 2352.76,1484.77 \"/>\n",
       "<polyline clip-path=\"url(#clip372)\" style=\"stroke:#000000; stroke-linecap:round; stroke-linejoin:round; stroke-width:2; stroke-opacity:0.1; fill:none\" points=\"186.76,1112.79 2352.76,1112.79 \"/>\n",
       "<polyline clip-path=\"url(#clip372)\" style=\"stroke:#000000; stroke-linecap:round; stroke-linejoin:round; stroke-width:2; stroke-opacity:0.1; fill:none\" points=\"186.76,740.807 2352.76,740.807 \"/>\n",
       "<polyline clip-path=\"url(#clip372)\" style=\"stroke:#000000; stroke-linecap:round; stroke-linejoin:round; stroke-width:2; stroke-opacity:0.1; fill:none\" points=\"186.76,368.824 2352.76,368.824 \"/>\n",
       "<polyline clip-path=\"url(#clip370)\" style=\"stroke:#000000; stroke-linecap:round; stroke-linejoin:round; stroke-width:4; stroke-opacity:1; fill:none\" points=\"186.76,1486.45 186.76,47.2441 \"/>\n",
       "<polyline clip-path=\"url(#clip370)\" style=\"stroke:#000000; stroke-linecap:round; stroke-linejoin:round; stroke-width:4; stroke-opacity:1; fill:none\" points=\"186.76,1484.77 205.658,1484.77 \"/>\n",
       "<polyline clip-path=\"url(#clip370)\" style=\"stroke:#000000; stroke-linecap:round; stroke-linejoin:round; stroke-width:4; stroke-opacity:1; fill:none\" points=\"186.76,1112.79 205.658,1112.79 \"/>\n",
       "<polyline clip-path=\"url(#clip370)\" style=\"stroke:#000000; stroke-linecap:round; stroke-linejoin:round; stroke-width:4; stroke-opacity:1; fill:none\" points=\"186.76,740.807 205.658,740.807 \"/>\n",
       "<polyline clip-path=\"url(#clip370)\" style=\"stroke:#000000; stroke-linecap:round; stroke-linejoin:round; stroke-width:4; stroke-opacity:1; fill:none\" points=\"186.76,368.824 205.658,368.824 \"/>\n",
       "<path clip-path=\"url(#clip370)\" d=\"M63.4226 1470.57 Q59.8115 1470.57 57.9828 1474.14 Q56.1773 1477.68 56.1773 1484.81 Q56.1773 1491.92 57.9828 1495.48 Q59.8115 1499.02 63.4226 1499.02 Q67.0569 1499.02 68.8624 1495.48 Q70.6911 1491.92 70.6911 1484.81 Q70.6911 1477.68 68.8624 1474.14 Q67.0569 1470.57 63.4226 1470.57 M63.4226 1466.87 Q69.2328 1466.87 72.2883 1471.48 Q75.367 1476.06 75.367 1484.81 Q75.367 1493.54 72.2883 1498.14 Q69.2328 1502.73 63.4226 1502.73 Q57.6125 1502.73 54.5338 1498.14 Q51.4782 1493.54 51.4782 1484.81 Q51.4782 1476.06 54.5338 1471.48 Q57.6125 1466.87 63.4226 1466.87 Z\" fill=\"#000000\" fill-rule=\"nonzero\" fill-opacity=\"1\" /><path clip-path=\"url(#clip370)\" d=\"M83.5845 1496.17 L88.4688 1496.17 L88.4688 1502.05 L83.5845 1502.05 L83.5845 1496.17 Z\" fill=\"#000000\" fill-rule=\"nonzero\" fill-opacity=\"1\" /><path clip-path=\"url(#clip370)\" d=\"M108.654 1470.57 Q105.043 1470.57 103.214 1474.14 Q101.409 1477.68 101.409 1484.81 Q101.409 1491.92 103.214 1495.48 Q105.043 1499.02 108.654 1499.02 Q112.288 1499.02 114.094 1495.48 Q115.922 1491.92 115.922 1484.81 Q115.922 1477.68 114.094 1474.14 Q112.288 1470.57 108.654 1470.57 M108.654 1466.87 Q114.464 1466.87 117.52 1471.48 Q120.598 1476.06 120.598 1484.81 Q120.598 1493.54 117.52 1498.14 Q114.464 1502.73 108.654 1502.73 Q102.844 1502.73 99.765 1498.14 Q96.7095 1493.54 96.7095 1484.81 Q96.7095 1476.06 99.765 1471.48 Q102.844 1466.87 108.654 1466.87 Z\" fill=\"#000000\" fill-rule=\"nonzero\" fill-opacity=\"1\" /><path clip-path=\"url(#clip370)\" d=\"M138.816 1470.57 Q135.205 1470.57 133.376 1474.14 Q131.57 1477.68 131.57 1484.81 Q131.57 1491.92 133.376 1495.48 Q135.205 1499.02 138.816 1499.02 Q142.45 1499.02 144.256 1495.48 Q146.084 1491.92 146.084 1484.81 Q146.084 1477.68 144.256 1474.14 Q142.45 1470.57 138.816 1470.57 M138.816 1466.87 Q144.626 1466.87 147.681 1471.48 Q150.76 1476.06 150.76 1484.81 Q150.76 1493.54 147.681 1498.14 Q144.626 1502.73 138.816 1502.73 Q133.006 1502.73 129.927 1498.14 Q126.871 1493.54 126.871 1484.81 Q126.871 1476.06 129.927 1471.48 Q133.006 1466.87 138.816 1466.87 Z\" fill=\"#000000\" fill-rule=\"nonzero\" fill-opacity=\"1\" /><path clip-path=\"url(#clip370)\" d=\"M65.0198 1098.59 Q61.4087 1098.59 59.58 1102.15 Q57.7745 1105.7 57.7745 1112.83 Q57.7745 1119.93 59.58 1123.5 Q61.4087 1127.04 65.0198 1127.04 Q68.6541 1127.04 70.4596 1123.5 Q72.2883 1119.93 72.2883 1112.83 Q72.2883 1105.7 70.4596 1102.15 Q68.6541 1098.59 65.0198 1098.59 M65.0198 1094.89 Q70.83 1094.89 73.8855 1099.49 Q76.9642 1104.08 76.9642 1112.83 Q76.9642 1121.55 73.8855 1126.16 Q70.83 1130.74 65.0198 1130.74 Q59.2097 1130.74 56.131 1126.16 Q53.0754 1121.55 53.0754 1112.83 Q53.0754 1104.08 56.131 1099.49 Q59.2097 1094.89 65.0198 1094.89 Z\" fill=\"#000000\" fill-rule=\"nonzero\" fill-opacity=\"1\" /><path clip-path=\"url(#clip370)\" d=\"M85.1818 1124.19 L90.066 1124.19 L90.066 1130.07 L85.1818 1130.07 L85.1818 1124.19 Z\" fill=\"#000000\" fill-rule=\"nonzero\" fill-opacity=\"1\" /><path clip-path=\"url(#clip370)\" d=\"M110.251 1098.59 Q106.64 1098.59 104.811 1102.15 Q103.006 1105.7 103.006 1112.83 Q103.006 1119.93 104.811 1123.5 Q106.64 1127.04 110.251 1127.04 Q113.885 1127.04 115.691 1123.5 Q117.52 1119.93 117.52 1112.83 Q117.52 1105.7 115.691 1102.15 Q113.885 1098.59 110.251 1098.59 M110.251 1094.89 Q116.061 1094.89 119.117 1099.49 Q122.195 1104.08 122.195 1112.83 Q122.195 1121.55 119.117 1126.16 Q116.061 1130.74 110.251 1130.74 Q104.441 1130.74 101.362 1126.16 Q98.3067 1121.55 98.3067 1112.83 Q98.3067 1104.08 101.362 1099.49 Q104.441 1094.89 110.251 1094.89 Z\" fill=\"#000000\" fill-rule=\"nonzero\" fill-opacity=\"1\" /><path clip-path=\"url(#clip370)\" d=\"M134.441 1126.14 L150.76 1126.14 L150.76 1130.07 L128.816 1130.07 L128.816 1126.14 Q131.478 1123.38 136.061 1118.75 Q140.668 1114.1 141.848 1112.76 Q144.093 1110.23 144.973 1108.5 Q145.876 1106.74 145.876 1105.05 Q145.876 1102.29 143.931 1100.56 Q142.01 1098.82 138.908 1098.82 Q136.709 1098.82 134.256 1099.58 Q131.825 1100.35 129.047 1101.9 L129.047 1097.18 Q131.871 1096.04 134.325 1095.46 Q136.779 1094.89 138.816 1094.89 Q144.186 1094.89 147.38 1097.57 Q150.575 1100.26 150.575 1104.75 Q150.575 1106.88 149.765 1108.8 Q148.978 1110.7 146.871 1113.29 Q146.293 1113.96 143.191 1117.18 Q140.089 1120.37 134.441 1126.14 Z\" fill=\"#000000\" fill-rule=\"nonzero\" fill-opacity=\"1\" /><path clip-path=\"url(#clip370)\" d=\"M62.9365 726.606 Q59.3254 726.606 57.4967 730.171 Q55.6912 733.712 55.6912 740.842 Q55.6912 747.948 57.4967 751.513 Q59.3254 755.055 62.9365 755.055 Q66.5707 755.055 68.3763 751.513 Q70.205 747.948 70.205 740.842 Q70.205 733.712 68.3763 730.171 Q66.5707 726.606 62.9365 726.606 M62.9365 722.902 Q68.7467 722.902 71.8022 727.509 Q74.8809 732.092 74.8809 740.842 Q74.8809 749.569 71.8022 754.175 Q68.7467 758.758 62.9365 758.758 Q57.1264 758.758 54.0477 754.175 Q50.9921 749.569 50.9921 740.842 Q50.9921 732.092 54.0477 727.509 Q57.1264 722.902 62.9365 722.902 Z\" fill=\"#000000\" fill-rule=\"nonzero\" fill-opacity=\"1\" /><path clip-path=\"url(#clip370)\" d=\"M83.0984 752.208 L87.9827 752.208 L87.9827 758.087 L83.0984 758.087 L83.0984 752.208 Z\" fill=\"#000000\" fill-rule=\"nonzero\" fill-opacity=\"1\" /><path clip-path=\"url(#clip370)\" d=\"M108.168 726.606 Q104.557 726.606 102.728 730.171 Q100.922 733.712 100.922 740.842 Q100.922 747.948 102.728 751.513 Q104.557 755.055 108.168 755.055 Q111.802 755.055 113.608 751.513 Q115.436 747.948 115.436 740.842 Q115.436 733.712 113.608 730.171 Q111.802 726.606 108.168 726.606 M108.168 722.902 Q113.978 722.902 117.033 727.509 Q120.112 732.092 120.112 740.842 Q120.112 749.569 117.033 754.175 Q113.978 758.758 108.168 758.758 Q102.358 758.758 99.2789 754.175 Q96.2234 749.569 96.2234 740.842 Q96.2234 732.092 99.2789 727.509 Q102.358 722.902 108.168 722.902 Z\" fill=\"#000000\" fill-rule=\"nonzero\" fill-opacity=\"1\" /><path clip-path=\"url(#clip370)\" d=\"M141.177 727.601 L129.371 746.05 L141.177 746.05 L141.177 727.601 M139.95 723.527 L145.83 723.527 L145.83 746.05 L150.76 746.05 L150.76 749.939 L145.83 749.939 L145.83 758.087 L141.177 758.087 L141.177 749.939 L125.575 749.939 L125.575 745.425 L139.95 723.527 Z\" fill=\"#000000\" fill-rule=\"nonzero\" fill-opacity=\"1\" /><path clip-path=\"url(#clip370)\" d=\"M63.2606 354.622 Q59.6495 354.622 57.8208 358.187 Q56.0152 361.729 56.0152 368.858 Q56.0152 375.965 57.8208 379.53 Q59.6495 383.071 63.2606 383.071 Q66.8948 383.071 68.7004 379.53 Q70.5291 375.965 70.5291 368.858 Q70.5291 361.729 68.7004 358.187 Q66.8948 354.622 63.2606 354.622 M63.2606 350.919 Q69.0707 350.919 72.1263 355.525 Q75.205 360.109 75.205 368.858 Q75.205 377.585 72.1263 382.192 Q69.0707 386.775 63.2606 386.775 Q57.4504 386.775 54.3717 382.192 Q51.3162 377.585 51.3162 368.858 Q51.3162 360.109 54.3717 355.525 Q57.4504 350.919 63.2606 350.919 Z\" fill=\"#000000\" fill-rule=\"nonzero\" fill-opacity=\"1\" /><path clip-path=\"url(#clip370)\" d=\"M83.4225 380.224 L88.3067 380.224 L88.3067 386.104 L83.4225 386.104 L83.4225 380.224 Z\" fill=\"#000000\" fill-rule=\"nonzero\" fill-opacity=\"1\" /><path clip-path=\"url(#clip370)\" d=\"M108.492 354.622 Q104.881 354.622 103.052 358.187 Q101.246 361.729 101.246 368.858 Q101.246 375.965 103.052 379.53 Q104.881 383.071 108.492 383.071 Q112.126 383.071 113.932 379.53 Q115.76 375.965 115.76 368.858 Q115.76 361.729 113.932 358.187 Q112.126 354.622 108.492 354.622 M108.492 350.919 Q114.302 350.919 117.358 355.525 Q120.436 360.109 120.436 368.858 Q120.436 377.585 117.358 382.192 Q114.302 386.775 108.492 386.775 Q102.682 386.775 99.603 382.192 Q96.5474 377.585 96.5474 368.858 Q96.5474 360.109 99.603 355.525 Q102.682 350.919 108.492 350.919 Z\" fill=\"#000000\" fill-rule=\"nonzero\" fill-opacity=\"1\" /><path clip-path=\"url(#clip370)\" d=\"M139.232 366.96 Q136.084 366.96 134.232 369.113 Q132.404 371.266 132.404 375.016 Q132.404 378.743 134.232 380.919 Q136.084 383.071 139.232 383.071 Q142.381 383.071 144.209 380.919 Q146.061 378.743 146.061 375.016 Q146.061 371.266 144.209 369.113 Q142.381 366.96 139.232 366.96 M148.515 352.308 L148.515 356.567 Q146.756 355.734 144.95 355.294 Q143.168 354.854 141.408 354.854 Q136.779 354.854 134.325 357.979 Q131.894 361.104 131.547 367.423 Q132.913 365.409 134.973 364.345 Q137.033 363.257 139.51 363.257 Q144.718 363.257 147.728 366.428 Q150.76 369.576 150.76 375.016 Q150.76 380.34 147.612 383.557 Q144.464 386.775 139.232 386.775 Q133.237 386.775 130.066 382.192 Q126.894 377.585 126.894 368.858 Q126.894 360.664 130.783 355.803 Q134.672 350.919 141.223 350.919 Q142.982 350.919 144.765 351.266 Q146.57 351.613 148.515 352.308 Z\" fill=\"#000000\" fill-rule=\"nonzero\" fill-opacity=\"1\" /><polyline clip-path=\"url(#clip372)\" style=\"stroke:#009af9; stroke-linecap:round; stroke-linejoin:round; stroke-width:4; stroke-opacity:1; fill:none\" points=\"248.062,281.408 255.292,318.606 263.298,372.544 271.045,426.481 279.05,480.419 286.797,495.298 294.802,510.177 302.807,528.777 310.554,510.177 318.559,394.863 326.306,400.442 334.311,443.22 342.317,469.259 349.805,461.82 357.811,463.68 365.558,396.722 373.563,368.824 381.31,359.524 389.315,292.567 397.32,182.832 405.067,199.571 413.072,212.591 420.819,225.61 428.824,249.789 436.83,255.369 444.06,311.166 452.065,385.563 459.812,445.08 467.818,472.979 475.565,573.415 483.57,616.193 491.575,627.352 499.322,647.811 507.327,625.492 515.074,623.632 523.079,629.212 531.084,666.41 538.315,711.048 546.32,709.189 554.067,716.628 562.072,712.908 569.819,701.749 577.825,707.329 585.83,705.469 593.577,699.889 601.582,701.749 609.329,703.609 617.334,703.609 625.339,705.469 632.57,699.889 640.575,696.169 648.322,666.41 656.327,658.971 664.074,608.753 672.079,590.154 680.085,549.236 687.831,536.216 695.837,515.757 703.584,450.66 711.589,424.621 719.594,433.921 727.083,379.983 735.088,340.925 742.835,305.587 750.84,279.548 758.587,247.929 766.592,264.668 774.598,275.828 782.345,251.649 790.35,210.731 798.097,264.668 806.102,391.143 814.107,580.854 821.338,645.951 829.343,709.189 837.09,685.01 845.095,625.492 852.842,658.971 860.847,709.189 868.852,707.329 876.599,707.329 884.605,707.329 892.351,705.469 900.357,690.589 908.362,705.469 915.592,712.908 923.598,722.208 931.345,766.846 939.35,766.846 947.097,764.986 955.102,774.286 963.107,776.146 970.854,770.566 978.859,768.706 986.606,763.126 994.611,750.107 1002.62,724.068 1009.85,712.908 1017.85,705.469 1025.6,685.01 1033.6,657.111 1041.35,612.473 1049.36,608.753 1057.36,606.893 1065.11,599.453 1073.11,571.555 1080.86,560.395 1088.87,556.675 1096.87,556.675 1104.36,562.255 1112.37,565.975 1120.11,564.115 1128.12,534.356 1135.86,530.637 1143.87,534.356 1151.87,556.675 1159.62,569.695 1167.63,605.033 1175.37,649.671 1183.38,720.348 1191.38,750.107 1198.62,791.025 1206.62,854.262 1214.37,911.92 1222.37,975.157 1230.12,977.017 1238.12,982.596 1246.13,982.596 1253.88,988.176 1261.88,990.036 1269.63,991.896 1277.63,980.736 1285.64,980.736 1292.87,980.736 1300.88,980.736 1308.62,978.877 1316.63,978.877 1324.37,986.316 1332.38,988.176 1340.38,1003.06 1348.13,1060.71 1356.14,1120.23 1363.88,1101.63 1371.89,1101.63 1379.89,1112.79 1387.12,1148.13 1395.13,1177.89 1402.88,1177.89 1410.88,1172.31 1418.63,1164.87 1426.63,1164.87 1434.64,1164.87 1442.39,1163.01 1450.39,1163.01 1458.14,1163.01 1466.14,1164.87 1474.15,1168.59 1481.64,1172.31 1489.64,1174.17 1497.39,1174.17 1505.39,1172.31 1513.14,1166.73 1521.15,1166.73 1529.15,1166.73 1536.9,1166.73 1544.9,1164.87 1552.65,1163.01 1560.66,1163.01 1568.66,1163.01 1575.89,1163.01 1583.9,1163.01 1591.64,1163.01 1599.65,1163.01 1607.4,1163.01 1615.4,1163.01 1623.41,1163.01 1631.15,1163.01 1639.16,1163.01 1646.91,1163.01 1654.91,1164.87 1662.92,1164.87 1670.15,1164.87 1678.15,1168.59 1685.9,1168.59 1693.9,1168.59 1701.65,1168.59 1709.66,1168.59 1717.66,1166.73 1725.41,1164.87 1733.41,1164.87 1741.16,1164.87 1749.17,1164.87 1757.17,1164.87 1764.4,1164.87 1772.41,1164.87 1780.15,1164.87 1788.16,1164.87 1795.91,1164.87 1803.91,1164.87 1811.92,1164.87 1819.66,1164.87 1827.67,1166.73 1835.42,1166.73 1843.42,1166.73 1851.43,1166.73 1858.92,1166.73 1866.92,1267.16 1874.67,1358.3 1882.67,1432.7 1890.42,1436.42 1898.42,1442 1906.43,1442 1914.18,1443.86 1922.18,1443.86 1929.93,1443.86 1937.93,1445.72 1945.94,1445.72 1953.17,1445.72 1961.18,1445.72 1968.92,1445.72 1976.93,1445.72 1984.67,1445.72 1992.68,1445.72 2000.68,1442 2008.43,1442 2016.44,1347.14 2024.18,1101.63 2032.19,1012.36 2040.19,923.079 2047.42,805.904 2055.43,597.594 2063.18,359.524 2071.18,259.089 2078.93,173.532 2086.93,180.972 2094.94,162.373 2102.69,143.774 2110.69,87.9763 2118.44,130.754 2126.44,179.112 2134.45,192.132 2141.68,193.992 2149.68,203.291 2157.43,201.431 2165.44,201.431 2173.18,201.431 2181.19,227.47 2189.19,247.929 2196.94,411.602 2204.95,432.061 2212.69,400.442 2220.7,391.143 2228.7,394.863 2236.19,394.863 2244.2,391.143 2251.94,394.863 2259.95,396.722 2267.7,396.722 2275.7,394.863 2283.71,396.722 2291.45,396.722 \"/>\n",
       "<path clip-path=\"url(#clip370)\" d=\"M258.96 1438.47 L709.1 1438.47 L709.1 1334.79 L258.96 1334.79  Z\" fill=\"#ffffff\" fill-rule=\"evenodd\" fill-opacity=\"1\"/>\n",
       "<polyline clip-path=\"url(#clip370)\" style=\"stroke:#000000; stroke-linecap:round; stroke-linejoin:round; stroke-width:4; stroke-opacity:1; fill:none\" points=\"258.96,1438.47 709.1,1438.47 709.1,1334.79 258.96,1334.79 258.96,1438.47 \"/>\n",
       "<polyline clip-path=\"url(#clip370)\" style=\"stroke:#009af9; stroke-linecap:round; stroke-linejoin:round; stroke-width:4; stroke-opacity:1; fill:none\" points=\"283.027,1386.63 427.426,1386.63 \"/>\n",
       "<path clip-path=\"url(#clip370)\" d=\"M451.493 1369.35 L456.215 1369.35 L463.484 1398.57 L470.729 1369.35 L475.984 1369.35 L483.252 1398.57 L490.497 1369.35 L495.243 1369.35 L486.562 1403.91 L480.683 1403.91 L473.391 1373.91 L466.03 1403.91 L460.15 1403.91 L451.493 1369.35 Z\" fill=\"#000000\" fill-rule=\"nonzero\" fill-opacity=\"1\" /><path clip-path=\"url(#clip370)\" d=\"M501.446 1369.35 L506.122 1369.35 L506.122 1403.91 L501.446 1403.91 L501.446 1369.35 Z\" fill=\"#000000\" fill-rule=\"nonzero\" fill-opacity=\"1\" /><path clip-path=\"url(#clip370)\" d=\"M520.104 1387.41 L520.104 1400.07 L527.604 1400.07 Q531.377 1400.07 533.182 1398.52 Q535.011 1396.95 535.011 1393.73 Q535.011 1390.49 533.182 1388.96 Q531.377 1387.41 527.604 1387.41 L520.104 1387.41 M520.104 1373.2 L520.104 1383.61 L527.025 1383.61 Q530.451 1383.61 532.117 1382.34 Q533.807 1381.04 533.807 1378.41 Q533.807 1375.79 532.117 1374.49 Q530.451 1373.2 527.025 1373.2 L520.104 1373.2 M515.428 1369.35 L527.372 1369.35 Q532.719 1369.35 535.613 1371.58 Q538.506 1373.8 538.506 1377.9 Q538.506 1381.07 537.025 1382.94 Q535.543 1384.82 532.673 1385.28 Q536.122 1386.02 538.02 1388.38 Q539.942 1390.72 539.942 1394.24 Q539.942 1398.87 536.793 1401.39 Q533.645 1403.91 527.835 1403.91 L515.428 1403.91 L515.428 1369.35 Z\" fill=\"#000000\" fill-rule=\"nonzero\" fill-opacity=\"1\" /><path clip-path=\"url(#clip370)\" d=\"M561.145 1372.53 Q556.053 1372.53 553.043 1376.32 Q550.057 1380.12 550.057 1386.67 Q550.057 1393.2 553.043 1396.99 Q556.053 1400.79 561.145 1400.79 Q566.238 1400.79 569.201 1396.99 Q572.187 1393.2 572.187 1386.67 Q572.187 1380.12 569.201 1376.32 Q566.238 1372.53 561.145 1372.53 M561.145 1368.73 Q568.414 1368.73 572.765 1373.61 Q577.117 1378.47 577.117 1386.67 Q577.117 1394.84 572.765 1399.72 Q568.414 1404.59 561.145 1404.59 Q553.853 1404.59 549.479 1399.72 Q545.127 1394.86 545.127 1386.67 Q545.127 1378.47 549.479 1373.61 Q553.853 1368.73 561.145 1368.73 Z\" fill=\"#000000\" fill-rule=\"nonzero\" fill-opacity=\"1\" /><path clip-path=\"url(#clip370)\" d=\"M600.821 1387.71 Q602.325 1388.22 603.737 1389.89 Q605.173 1391.55 606.608 1394.47 L611.353 1403.91 L606.33 1403.91 L601.909 1395.05 Q600.196 1391.58 598.575 1390.44 Q596.978 1389.31 594.2 1389.31 L589.108 1389.31 L589.108 1403.91 L584.432 1403.91 L584.432 1369.35 L594.988 1369.35 Q600.913 1369.35 603.83 1371.83 Q606.747 1374.31 606.747 1379.31 Q606.747 1382.57 605.219 1384.72 Q603.714 1386.88 600.821 1387.71 M589.108 1373.2 L589.108 1385.47 L594.988 1385.47 Q598.367 1385.47 600.08 1383.91 Q601.816 1382.34 601.816 1379.31 Q601.816 1376.28 600.08 1374.75 Q598.367 1373.2 594.988 1373.2 L589.108 1373.2 Z\" fill=\"#000000\" fill-rule=\"nonzero\" fill-opacity=\"1\" /><path clip-path=\"url(#clip370)\" d=\"M631.955 1385.28 Q635.311 1386 637.186 1388.27 Q639.085 1390.53 639.085 1393.87 Q639.085 1398.98 635.566 1401.78 Q632.048 1404.59 625.566 1404.59 Q623.39 1404.59 621.075 1404.15 Q618.784 1403.73 616.33 1402.87 L616.33 1398.36 Q618.274 1399.49 620.589 1400.07 Q622.904 1400.65 625.427 1400.65 Q629.825 1400.65 632.117 1398.91 Q634.432 1397.18 634.432 1393.87 Q634.432 1390.81 632.279 1389.1 Q630.149 1387.36 626.33 1387.36 L622.302 1387.36 L622.302 1383.52 L626.515 1383.52 Q629.964 1383.52 631.793 1382.16 Q633.622 1380.77 633.622 1378.17 Q633.622 1375.51 631.723 1374.1 Q629.848 1372.66 626.33 1372.66 Q624.409 1372.66 622.21 1373.08 Q620.011 1373.5 617.372 1374.38 L617.372 1370.21 Q620.034 1369.47 622.348 1369.1 Q624.686 1368.73 626.747 1368.73 Q632.071 1368.73 635.173 1371.16 Q638.274 1373.57 638.274 1377.69 Q638.274 1380.56 636.631 1382.55 Q634.987 1384.52 631.955 1385.28 Z\" fill=\"#000000\" fill-rule=\"nonzero\" fill-opacity=\"1\" /><path clip-path=\"url(#clip370)\" d=\"M667.533 1382.97 Q669.131 1380.1 671.353 1378.73 Q673.575 1377.36 676.584 1377.36 Q680.635 1377.36 682.834 1380.21 Q685.033 1383.03 685.033 1388.27 L685.033 1403.91 L680.751 1403.91 L680.751 1388.41 Q680.751 1384.68 679.432 1382.87 Q678.112 1381.07 675.404 1381.07 Q672.094 1381.07 670.172 1383.27 Q668.251 1385.47 668.251 1389.26 L668.251 1403.91 L663.969 1403.91 L663.969 1388.41 Q663.969 1384.66 662.649 1382.87 Q661.33 1381.07 658.575 1381.07 Q655.311 1381.07 653.39 1383.29 Q651.469 1385.49 651.469 1389.26 L651.469 1403.91 L647.186 1403.91 L647.186 1377.99 L651.469 1377.99 L651.469 1382.02 Q652.927 1379.63 654.964 1378.5 Q657.001 1377.36 659.802 1377.36 Q662.626 1377.36 664.594 1378.8 Q666.584 1380.23 667.533 1382.97 Z\" fill=\"#000000\" fill-rule=\"nonzero\" fill-opacity=\"1\" /></svg>\n"
      ]
     },
     "metadata": {},
     "output_type": "display_data"
    }
   ],
   "source": [
    "plot(rf)"
   ]
  },
  {
   "cell_type": "code",
   "execution_count": 100,
   "metadata": {},
   "outputs": [
    {
     "data": {
      "text/html": [
       "<table>\n",
       "  <thead>\n",
       "    <tr class = \"header headerLastRow\">\n",
       "      <th class = \"rowLabel\" style = \"font-weight: bold; text-align: right;\"></th>\n",
       "      <th style = \"text-align: right;\">std</th>\n",
       "      <th style = \"text-align: right;\">max</th>\n",
       "      <th style = \"text-align: right;\">mean</th>\n",
       "      <th style = \"text-align: right;\">p75th</th>\n",
       "      <th style = \"text-align: right;\">min</th>\n",
       "      <th style = \"text-align: right;\">skewness</th>\n",
       "      <th style = \"text-align: right;\">p25th</th>\n",
       "      <th style = \"text-align: right;\">autocor</th>\n",
       "      <th style = \"text-align: right;\">kurtosis</th>\n",
       "      <th style = \"text-align: right;\">sr</th>\n",
       "      <th style = \"text-align: right;\">median</th>\n",
       "    </tr>\n",
       "  </thead>\n",
       "  <tbody>\n",
       "    <tr>\n",
       "      <td class = \"rowLabel\" style = \"font-weight: bold; text-align: right;\">B10YPL_WIBOR3m</td>\n",
       "      <td style = \"text-align: right;\">0.0605</td>\n",
       "      <td style = \"text-align: right;\">0.5817</td>\n",
       "      <td style = \"text-align: right;\">0.0274</td>\n",
       "      <td style = \"text-align: right;\">0.1466</td>\n",
       "      <td style = \"text-align: right;\">-0.5147</td>\n",
       "      <td style = \"text-align: right;\">-0.0055</td>\n",
       "      <td style = \"text-align: right;\">-0.1419</td>\n",
       "      <td style = \"text-align: right;\">0.1196</td>\n",
       "      <td style = \"text-align: right;\">0.0534</td>\n",
       "      <td style = \"text-align: right;\">0.4531</td>\n",
       "      <td style = \"text-align: right;\">0.0524</td>\n",
       "    </tr>\n",
       "  </tbody>\n",
       "</table>\n"
      ]
     },
     "metadata": {},
     "output_type": "display_data"
    }
   ],
   "source": [
    "bond_excess = returns_pln[:B10YPL] .- rf ./ 23 |>\n",
    "    x -> from(x, Date(2015,01,01)) |>\n",
    "    x -> to(x,  Date(2019,12,31)) \n",
    "\n",
    "returns_summarystats(bond_excess,12)"
   ]
  },
  {
   "cell_type": "code",
   "execution_count": 129,
   "metadata": {},
   "outputs": [
    {
     "data": {
      "text/plain": [
       "11-element Vector{Symbol}:\n",
       " :USA_Net\n",
       " :MwigTR\n",
       " :USA_Net_1\n",
       " :MwigTR_1\n",
       " :WIBOR3m\n",
       " :CPIPLY\n",
       " :MWig40_dy\n",
       " :WIBOR3m_1\n",
       " :CPIPLY_1\n",
       " :MWig40_dy_1\n",
       " :MWig40_dy_2"
      ]
     },
     "metadata": {},
     "output_type": "display_data"
    }
   ],
   "source": [
    "variables= merge(returns_pln[:USA_Net, :MwigTR], TimeSeries.lead(returns_pln[:USA_Net, :MwigTR]), macro_pl[:WIBOR3m, :CPIPLY, :MWig40_dy], TimeSeries.lead(macro_pl[:WIBOR3m, :CPIPLY, :MWig40_dy], 1), log.(TimeSeries.lead(macro_pl[:MWig40_dy],1)))\n",
    "colnames(variables)"
   ]
  },
  {
   "cell_type": "code",
   "execution_count": 120,
   "metadata": {},
   "outputs": [
    {
     "name": "stdout",
     "output_type": "stream",
     "text": [
      "StatsModels.TableRegressionModel{LinearModel{GLM.LmResp{Vector{Float64}}, GLM.DensePredChol{Float64, CholeskyPivoted{Float64, Matrix{Float64}, Vector{Int64}}}}, Matrix{Float64}}\n",
      "\n",
      "MwigTR ~ 1 + MWig40_dy_1\n",
      "\n",
      "Coefficients:\n",
      "────────────────────────────────────────────────────────────────────────────\n",
      "                  Coef.  Std. Error      t  Pr(>|t|)    Lower 95%  Upper 95%\n",
      "────────────────────────────────────────────────────────────────────────────\n",
      "(Intercept)   0.0155487  0.00976199   1.59    0.1128  -0.00370211  0.0347995\n",
      "MWig40_dy_1  -0.537232   0.384082    -1.40    0.1635  -1.29465     0.220185\n",
      "────────────────────────────────────────────────────────────────────────────\n",
      "0.00978451741140185\n"
     ]
    }
   ],
   "source": [
    "ols = lm(@formula(MwigTR ~ MWig40_dy_1), variables)\n",
    "println(ols)\n",
    "println(r2(ols))"
   ]
  },
  {
   "cell_type": "code",
   "execution_count": 128,
   "metadata": {},
   "outputs": [
    {
     "name": "stdout",
     "output_type": "stream",
     "text": [
      "StatsModels.TableRegressionModel{LinearModel{GLM.LmResp{Vector{Float64}}, GLM.DensePredChol{Float64, CholeskyPivoted{Float64, Matrix{Float64}, Vector{Int64}}}}, Matrix{Float64}}\n",
      "\n",
      "MwigTR ~ 1 + MWig40_dy_2\n",
      "\n",
      "Coefficients:\n",
      "─────────────────────────────────────────────────────────────────────────────\n",
      "                  Coef.  Std. Error      t  Pr(>|t|)   Lower 95%    Upper 95%\n",
      "─────────────────────────────────────────────────────────────────────────────\n",
      "(Intercept)  -0.0510792  0.0298158   -1.71    0.0882  -0.109877   0.00771809\n",
      "MWig40_dy_2  -0.0138427  0.00750774  -1.84    0.0667  -0.0286481  0.000962711\n",
      "─────────────────────────────────────────────────────────────────────────────\n",
      "0.01687965863729679\n"
     ]
    }
   ],
   "source": [
    "ols = lm(@formula(MwigTR ~ MWig40_dy_2), variables)\n",
    "println(ols)\n",
    "println(r2(ols))"
   ]
  },
  {
   "cell_type": "code",
   "execution_count": 123,
   "metadata": {},
   "outputs": [
    {
     "name": "stdout",
     "output_type": "stream",
     "text": [
      "StatsModels.TableRegressionModel{LinearModel{GLM.LmResp{Vector{Float64}}, GLM.DensePredChol{Float64, CholeskyPivoted{Float64, Matrix{Float64}, Vector{Int64}}}}, Matrix{Float64}}\n",
      "\n",
      "MwigTR ~ 1 + MWig40_dy_1 + WIBOR3m_1 + CPIPLY_1\n",
      "\n",
      "Coefficients:\n",
      "───────────────────────────────────────────────────────────────────────────\n",
      "                  Coef.  Std. Error      t  Pr(>|t|)   Lower 95%  Upper 95%\n",
      "───────────────────────────────────────────────────────────────────────────\n",
      "(Intercept)   0.0353501   0.0123444   2.86    0.0046   0.0110053   0.059695\n",
      "MWig40_dy_1  -0.64955     0.385484   -1.69    0.0936  -1.40978     0.110679\n",
      "WIBOR3m_1    -0.705224    0.273094   -2.58    0.0105  -1.2438     -0.166644\n",
      "CPIPLY_1      0.176685    0.135657    1.30    0.1943  -0.0908499   0.444221\n",
      "───────────────────────────────────────────────────────────────────────────\n",
      "0.04328380020110667\n"
     ]
    }
   ],
   "source": [
    "ols = lm(@formula(MwigTR ~ MWig40_dy_1 + WIBOR3m_1 + CPIPLY_1), variables)\n",
    "println(ols)\n",
    "println(r2(ols))"
   ]
  },
  {
   "cell_type": "code",
   "execution_count": 124,
   "metadata": {},
   "outputs": [
    {
     "name": "stdout",
     "output_type": "stream",
     "text": [
      "StatsModels.TableRegressionModel{LinearModel{GLM.LmResp{Vector{Float64}}, GLM.DensePredChol{Float64, CholeskyPivoted{Float64, Matrix{Float64}, Vector{Int64}}}}, Matrix{Float64}}\n",
      "\n",
      "MwigTR ~ 1 + MWig40_dy + WIBOR3m + CPIPLY\n",
      "\n",
      "Coefficients:\n",
      "─────────────────────────────────────────────────────────────────────────────\n",
      "                  Coef.  Std. Error      t  Pr(>|t|)    Lower 95%   Upper 95%\n",
      "─────────────────────────────────────────────────────────────────────────────\n",
      "(Intercept)   0.0291082   0.0124269   2.34    0.0202   0.00460065   0.0536157\n",
      "MWig40_dy    -0.354493    0.386771   -0.92    0.3605  -1.11726      0.408273\n",
      "WIBOR3m      -0.731823    0.27549    -2.66    0.0085  -1.27513     -0.188517\n",
      "CPIPLY        0.186271    0.136519    1.36    0.1740  -0.0829644    0.455507\n",
      "─────────────────────────────────────────────────────────────────────────────\n",
      "0.03722238908215714\n"
     ]
    }
   ],
   "source": [
    "ols = lm(@formula(MwigTR ~ MWig40_dy + WIBOR3m + CPIPLY), variables)\n",
    "println(ols)\n",
    "println(r2(ols))"
   ]
  },
  {
   "cell_type": "code",
   "execution_count": 135,
   "metadata": {},
   "outputs": [
    {
     "name": "stdout",
     "output_type": "stream",
     "text": [
      "StatsModels.TableRegressionModel{LinearModel{GLM.LmResp{Vector{Float64}}, GLM.DensePredChol{Float64, CholeskyPivoted{Float64, Matrix{Float64}, Vector{Int64}}}}, Matrix{Float64}}\n",
      "\n",
      "MwigTR ~ 1 + USA_Net_1 + MwigTR_1 + MWig40_dy_2 + WIBOR3m_1 + CPIPLY_1\n",
      "\n",
      "Coefficients:\n",
      "──────────────────────────────────────────────────────────────────────────────\n",
      "                  Coef.  Std. Error      t  Pr(>|t|)   Lower 95%     Upper 95%\n",
      "──────────────────────────────────────────────────────────────────────────────\n",
      "(Intercept)  -0.0438455  0.0305371   -1.44    0.1527  -0.104075    0.0163837\n",
      "USA_Net_1    -0.0252262  0.139609    -0.18    0.8568  -0.300582    0.250129\n",
      "MwigTR_1      0.160473   0.107605     1.49    0.1375  -0.0517588   0.372705\n",
      "MWig40_dy_2  -0.0158621  0.00765439  -2.07    0.0396  -0.0309591  -0.000765107\n",
      "WIBOR3m_1    -0.671375   0.280335    -2.39    0.0176  -1.22429    -0.11846\n",
      "CPIPLY_1      0.186764   0.137519     1.36    0.1760  -0.0844682   0.457997\n",
      "──────────────────────────────────────────────────────────────────────────────\n",
      "0.07656246084203921\n"
     ]
    }
   ],
   "source": [
    "ols = lm(@formula(MwigTR ~ USA_Net_1 + MwigTR_1 + MWig40_dy_2 + WIBOR3m_1 + CPIPLY_1), variables)\n",
    "println(ols)\n",
    "println(r2(ols))"
   ]
  },
  {
   "cell_type": "code",
   "execution_count": 136,
   "metadata": {},
   "outputs": [
    {
     "name": "stdout",
     "output_type": "stream",
     "text": [
      "StatsModels.TableRegressionModel{LinearModel{GLM.LmResp{Vector{Float64}}, GLM.DensePredChol{Float64, CholeskyPivoted{Float64, Matrix{Float64}, Vector{Int64}}}}, Matrix{Float64}}\n",
      "\n",
      "MwigTR ~ 1 + USA_Net + MwigTR_1 + MWig40_dy_2 + WIBOR3m_1 + CPIPLY_1\n",
      "\n",
      "Coefficients:\n",
      "──────────────────────────────────────────────────────────────────────────────\n",
      "                   Coef.  Std. Error      t  Pr(>|t|)    Lower 95%   Upper 95%\n",
      "──────────────────────────────────────────────────────────────────────────────\n",
      "(Intercept)  -0.0187898   0.020439    -0.92    0.3591  -0.0591022   0.0215226\n",
      "USA_Net       0.961311    0.0620122   15.50    <1e-35   0.839003    1.08362\n",
      "MwigTR_1      0.0868983   0.0474799    1.83    0.0688  -0.00674788  0.180544\n",
      "MWig40_dy_2  -0.00477549  0.00515835  -0.93    0.3557  -0.0149495   0.00539849\n",
      "WIBOR3m_1    -0.230787    0.189198    -1.22    0.2240  -0.603949    0.142375\n",
      "CPIPLY_1      0.0955407   0.0919353    1.04    0.3000  -0.0857863   0.276868\n",
      "──────────────────────────────────────────────────────────────────────────────\n",
      "0.5886241392966653\n"
     ]
    }
   ],
   "source": [
    "ols = lm(@formula(MwigTR ~ USA_Net + MwigTR_1 + MWig40_dy_2 + WIBOR3m_1 + CPIPLY_1), variables)\n",
    "println(ols)\n",
    "println(r2(ols))"
   ]
  },
  {
   "cell_type": "code",
   "execution_count": 139,
   "metadata": {},
   "outputs": [
    {
     "name": "stdout",
     "output_type": "stream",
     "text": [
      "StatsModels.TableRegressionModel{LinearModel{GLM.LmResp{Vector{Float64}}, GLM.DensePredChol{Float64, CholeskyPivoted{Float64, Matrix{Float64}, Vector{Int64}}}}, Matrix{Float64}}\n",
      "\n",
      "MwigTR ~ 1 + USA_Net + MwigTR_1 + MWig40_dy_2 + WIBOR3m + CPIPLY\n",
      "\n",
      "Coefficients:\n",
      "─────────────────────────────────────────────────────────────────────────────\n",
      "                  Coef.  Std. Error      t  Pr(>|t|)    Lower 95%   Upper 95%\n",
      "─────────────────────────────────────────────────────────────────────────────\n",
      "(Intercept)  -0.0199584   0.0204701  -0.97    0.3308  -0.0603323   0.0204156\n",
      "USA_Net       0.959402    0.0619958  15.48    <1e-34   0.837126    1.08168\n",
      "MwigTR_1      0.0864367   0.0472796   1.83    0.0691  -0.00681432  0.179688\n",
      "MWig40_dy_2  -0.0051431   0.005156   -1.00    0.3198  -0.0153124   0.00502625\n",
      "WIBOR3m      -0.26628     0.1893     -1.41    0.1611  -0.639642    0.107082\n",
      "CPIPLY        0.120906    0.0920557   1.31    0.1906  -0.0606588   0.30247\n",
      "─────────────────────────────────────────────────────────────────────────────\n",
      "0.590010633839685\n"
     ]
    }
   ],
   "source": [
    "ols = lm(@formula(MwigTR ~ USA_Net + MwigTR_1 + MWig40_dy_2 + WIBOR3m + CPIPLY), variables)\n",
    "println(ols)\n",
    "println(r2(ols))"
   ]
  },
  {
   "cell_type": "code",
   "execution_count": 144,
   "metadata": {},
   "outputs": [
    {
     "data": {
      "text/plain": [
       "5×5 Matrix{Float64}:\n",
       "  1.0         0.758149   -0.162576   -0.0347094  -0.0411683\n",
       "  0.758149    1.0        -0.157541   -0.0673786  -0.0735423\n",
       " -0.162576   -0.157541    1.0         0.633973   -0.0450828\n",
       " -0.0347094  -0.0673786   0.633973    1.0         0.123145\n",
       " -0.0411683  -0.0735423  -0.0450828   0.123145    1.0"
      ]
     },
     "metadata": {},
     "output_type": "display_data"
    }
   ],
   "source": [
    "cor(values(variables[:MwigTR, :USA_Net, :WIBOR3m, :CPIPLY, :MWig40_dy]))"
   ]
  }
 ],
 "metadata": {
  "kernelspec": {
   "display_name": "Julia 1.10.2",
   "language": "julia",
   "name": "julia-1.10"
  },
  "language_info": {
   "file_extension": ".jl",
   "mimetype": "application/julia",
   "name": "julia",
   "version": "1.10.2"
  }
 },
 "nbformat": 4,
 "nbformat_minor": 2
}
