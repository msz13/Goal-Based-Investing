{
 "cells": [
  {
   "cell_type": "code",
   "execution_count": 83,
   "metadata": {},
   "outputs": [
    {
     "data": {
      "text/plain": [
       "print_percentiles (generic function with 3 methods)"
      ]
     },
     "metadata": {},
     "output_type": "display_data"
    }
   ],
   "source": [
    "using XLSX\n",
    "using DataFrames, TimeSeries\n",
    "using StatsPlots\n",
    "using Plots\n",
    "using LinearAlgebra\n",
    "using CSV\n",
    "using StatsBase\n",
    "using GLM\n",
    "using Distributions\n",
    "include(\"../utils.jl\")\n"
   ]
  },
  {
   "cell_type": "code",
   "execution_count": 3,
   "metadata": {},
   "outputs": [
    {
     "data": {
      "text/plain": [
       "255×7 TimeArray{Float64, 2, Date, Matrix{Float64}} 2003-01-31 to 2024-03-31\n",
       "┌────────────┬────────────┬──────────────┬─────────────┬──────────────┬─────────\n",
       "│\u001b[1m            \u001b[0m│\u001b[1m USA_Net    \u001b[0m│\u001b[1m World_ex_USA \u001b[0m│\u001b[1m EM_Net      \u001b[0m│\u001b[1m ACWI_Net_PLN \u001b[0m│\u001b[1m MwigTR\u001b[0m ⋯\n",
       "├────────────┼────────────┼──────────────┼─────────────┼──────────────┼─────────\n",
       "│ 2003-01-31 │ -0.0248446 │   -0.0388471 │ -0.00442015 │   -0.0317079 │  -0.04 ⋯\n",
       "│ 2003-02-28 │ -0.0159343 │   -0.0199094 │  -0.0284988 │   0.00510351 │ -0.001 ⋯\n",
       "│ 2003-03-31 │ 0.00886423 │   -0.0194601 │  -0.0289739 │    0.0430687 │  -0.00 ⋯\n",
       "│ 2003-04-30 │  0.0798764 │    0.0916379 │   0.0851925 │    0.0118412 │   0.03 ⋯\n",
       "│ 2003-05-31 │  0.0517369 │    0.0601744 │   0.0690563 │    0.0300993 │   0.05 ⋯\n",
       "│ 2003-06-30 │   0.011892 │    0.0240024 │   0.0551391 │    0.0670022 │   0.01 ⋯\n",
       "│ 2003-07-31 │  0.0179915 │    0.0226828 │   0.0603263 │    0.0132941 │    0.1 ⋯\n",
       "│ 2003-08-31 │  0.0181089 │    0.0254588 │   0.0647735 │    0.0495565 │    0.1 ⋯\n",
       "│     ⋮      │     ⋮      │      ⋮       │      ⋮      │      ⋮       │      ⋮ ⋱\n",
       "│ 2023-09-30 │ -0.0483353 │   -0.0342956 │  -0.0264995 │    0.0154043 │  -0.04 ⋯\n",
       "│ 2023-10-31 │ -0.0235616 │   -0.0431263 │   -0.039629 │    -0.066645 │   0.04 ⋯\n",
       "│ 2023-11-30 │  0.0895259 │    0.0898198 │   0.0769883 │    0.0356998 │    0.0 ⋯\n",
       "│ 2023-12-31 │  0.0456572 │    0.0532219 │   0.0383487 │    0.0310713 │   0.04 ⋯\n",
       "│ 2024-01-31 │  0.0151977 │   0.00429701 │  -0.0475452 │    0.0233511 │   0.01 ⋯\n",
       "│ 2024-02-29 │  0.0518111 │    0.0169284 │    0.046475 │    0.0394925 │   0.06 ⋯\n",
       "│ 2024-03-31 │  0.0309855 │    0.0331842 │   0.0244778 │    0.0298368 │    0.0 ⋯\n",
       "└────────────┴────────────┴──────────────┴─────────────┴──────────────┴─────────\n",
       "\u001b[36m                                                  3 columns and 240 rows omitted\u001b[0m"
      ]
     },
     "metadata": {},
     "output_type": "display_data"
    }
   ],
   "source": [
    "columns = [:Date, :USA_Net, :World_ex_USA, :EM_Net, :ACWI_Net_PLN, :MwigTR, :WIG20TR, :B10YPL]\n",
    "data_df = DataFrame(XLSX.readtable(\"../data/assets_data_03.24.xlsx\", \"Indexes_PLN\"; infer_eltypes=true))[2:end, columns]\n",
    "dropmissing!(data_df, disallowmissing=true)\n",
    "returns_pln = data_df |> \n",
    "            x -> TimeArray(x; timestamp = :Date) |> \n",
    "            x -> from(x, Date(2002,12,01)) |>\n",
    "            x -> percentchange(x, :log)"
   ]
  },
  {
   "cell_type": "code",
   "execution_count": 4,
   "metadata": {},
   "outputs": [
    {
     "data": {
      "text/plain": [
       "204×4 TimeArray{Float64, 2, Date, Matrix{Float64}} 2007-08-31 to 2024-07-31\n",
       "┌────────────┬─────────┬────────┬─────────┬───────────┐\n",
       "│\u001b[1m            \u001b[0m│\u001b[1m WIBOR3m \u001b[0m│\u001b[1m CPIPLM \u001b[0m│\u001b[1m Y10PL   \u001b[0m│\u001b[1m MWig40_dy \u001b[0m│\n",
       "├────────────┼─────────┼────────┼─────────┼───────────┤\n",
       "│ 2007-08-31 │  0.0503 │ -0.004 │ 0.05789 │   0.00668 │\n",
       "│ 2007-09-30 │   0.051 │  0.008 │   0.057 │   0.00778 │\n",
       "│ 2007-10-31 │  0.0521 │  0.006 │ 0.05514 │   0.00775 │\n",
       "│ 2007-11-30 │  0.0556 │  0.007 │ 0.05777 │    0.0093 │\n",
       "│ 2007-12-31 │   0.057 │  0.003 │ 0.05916 │    0.0095 │\n",
       "│ 2008-01-31 │  0.0565 │  0.007 │ 0.05688 │     0.011 │\n",
       "│ 2008-02-29 │  0.0594 │  0.004 │ 0.05973 │    0.0118 │\n",
       "│ 2008-03-31 │  0.0615 │  0.004 │ 0.05971 │    0.0188 │\n",
       "│     ⋮      │    ⋮    │   ⋮    │    ⋮    │     ⋮     │\n",
       "│ 2024-01-31 │  0.0586 │  0.004 │ 0.05226 │   0.02643 │\n",
       "│ 2024-02-29 │  0.0586 │  0.003 │ 0.05312 │   0.03451 │\n",
       "│ 2024-03-31 │  0.0588 │  0.002 │ 0.05432 │   0.03081 │\n",
       "│ 2024-04-30 │  0.0586 │  0.011 │ 0.05712 │   0.03272 │\n",
       "│ 2024-05-31 │  0.0585 │  0.001 │ 0.05697 │   0.03118 │\n",
       "│ 2024-06-30 │  0.0585 │  0.001 │ 0.05723 │   0.03044 │\n",
       "│ 2024-07-31 │  0.0586 │  0.014 │ 0.05409 │   0.03194 │\n",
       "└────────────┴─────────┴────────┴─────────┴───────────┘\n",
       "\u001b[36m                                       189 rows omitted\u001b[0m"
      ]
     },
     "metadata": {},
     "output_type": "display_data"
    }
   ],
   "source": [
    "data_df = DataFrame(XLSX.readtable(\"../data/assets_data_03.24.xlsx\", \"Macro_month\"; infer_eltypes=true))[:,[:Date, :WIBOR3m, :CPIPLM, :Y10PL, :MWig40_dy]]\n",
    "dropmissing!(data_df, disallowmissing=true)\n",
    "macro_pl = data_df |> x -> TimeArray(x; timestamp = :Date)  |> x -> from(x,Date(2003,01,01)) "
   ]
  },
  {
   "cell_type": "code",
   "execution_count": 89,
   "metadata": {},
   "outputs": [
    {
     "data": {
      "text/plain": [
       "255×4 TimeArray{Float64, 2, Date, Matrix{Float64}} 2003-01-31 to 2024-03-31\n",
       "┌────────────┬─────────────┬────────────┬──────────────┬─────────────┐\n",
       "│\u001b[1m            \u001b[0m│\u001b[1m ACWI_Net    \u001b[0m│\u001b[1m USA_Net    \u001b[0m│\u001b[1m World_ex_USA \u001b[0m│\u001b[1m EM_Net      \u001b[0m│\n",
       "├────────────┼─────────────┼────────────┼──────────────┼─────────────┤\n",
       "│ 2003-01-31 │  -0.0298776 │ -0.0248446 │   -0.0388471 │ -0.00442015 │\n",
       "│ 2003-02-28 │  -0.0181007 │ -0.0159343 │   -0.0199094 │  -0.0284988 │\n",
       "│ 2003-03-31 │ -0.00432387 │ 0.00886423 │   -0.0194601 │  -0.0289739 │\n",
       "│ 2003-04-30 │   0.0849273 │  0.0798764 │    0.0916379 │   0.0851925 │\n",
       "│ 2003-05-31 │   0.0559049 │  0.0517369 │    0.0601744 │   0.0690563 │\n",
       "│ 2003-06-30 │   0.0185506 │   0.011892 │    0.0240024 │   0.0551391 │\n",
       "│ 2003-07-31 │   0.0216391 │  0.0179915 │    0.0226828 │   0.0603263 │\n",
       "│ 2003-08-31 │   0.0231143 │  0.0181089 │    0.0254588 │   0.0647735 │\n",
       "│     ⋮      │      ⋮      │     ⋮      │      ⋮       │      ⋮      │\n",
       "│ 2023-09-30 │   -0.042229 │ -0.0483353 │   -0.0342956 │  -0.0264995 │\n",
       "│ 2023-10-31 │   -0.030529 │ -0.0235616 │   -0.0431263 │   -0.039629 │\n",
       "│ 2023-11-30 │   0.0882833 │  0.0895259 │    0.0898198 │   0.0769883 │\n",
       "│ 2023-12-31 │   0.0469154 │  0.0456572 │    0.0532219 │   0.0383487 │\n",
       "│ 2024-01-31 │  0.00584454 │  0.0151977 │   0.00429701 │  -0.0475452 │\n",
       "│ 2024-02-29 │   0.0420184 │  0.0518111 │    0.0169284 │    0.046475 │\n",
       "│ 2024-03-31 │   0.0309141 │  0.0309855 │    0.0331842 │   0.0244778 │\n",
       "└────────────┴─────────────┴────────────┴──────────────┴─────────────┘\n",
       "\u001b[36m                                                      240 rows omitted\u001b[0m"
      ]
     },
     "metadata": {},
     "output_type": "display_data"
    }
   ],
   "source": [
    "columns = [:Date, :ACWI_Net, :USA_Net, :World_ex_USA, :EM_Net]\n",
    "data_df = DataFrame(XLSX.readtable(\"../data/assets_data_03.24.xlsx\", \"Indexes\"; infer_eltypes=true))[2:end, columns]\n",
    "dropmissing!(data_df, disallowmissing=true)\n",
    "returns_usd = data_df |> \n",
    "            x -> TimeArray(x; timestamp = :Date) |> \n",
    "            x -> percentchange(x, :log) |>\n",
    "            x -> from(x, Date(2003,01,01))"
   ]
  },
  {
   "cell_type": "code",
   "execution_count": 90,
   "metadata": {},
   "outputs": [
    {
     "data": {
      "text/html": [
       "<table>\n",
       "  <thead>\n",
       "    <tr class = \"header headerLastRow\">\n",
       "      <th class = \"rowLabel\" style = \"font-weight: bold; text-align: right;\"></th>\n",
       "      <th style = \"text-align: right;\">std</th>\n",
       "      <th style = \"text-align: right;\">max</th>\n",
       "      <th style = \"text-align: right;\">mean</th>\n",
       "      <th style = \"text-align: right;\">p75th</th>\n",
       "      <th style = \"text-align: right;\">min</th>\n",
       "      <th style = \"text-align: right;\">skewness</th>\n",
       "      <th style = \"text-align: right;\">p25th</th>\n",
       "      <th style = \"text-align: right;\">autocor</th>\n",
       "      <th style = \"text-align: right;\">kurtosis</th>\n",
       "      <th style = \"text-align: right;\">sr</th>\n",
       "      <th style = \"text-align: right;\">median</th>\n",
       "    </tr>\n",
       "  </thead>\n",
       "  <tbody>\n",
       "    <tr>\n",
       "      <td class = \"rowLabel\" style = \"font-weight: bold; text-align: right;\">USA_Net</td>\n",
       "      <td style = \"text-align: right;\">0.1494</td>\n",
       "      <td style = \"text-align: right;\">1.4788</td>\n",
       "      <td style = \"text-align: right;\">0.0985</td>\n",
       "      <td style = \"text-align: right;\">0.4065</td>\n",
       "      <td style = \"text-align: right;\">-2.257</td>\n",
       "      <td style = \"text-align: right;\">-0.7909</td>\n",
       "      <td style = \"text-align: right;\">-0.1905</td>\n",
       "      <td style = \"text-align: right;\">0.0391</td>\n",
       "      <td style = \"text-align: right;\">1.8967</td>\n",
       "      <td style = \"text-align: right;\">0.6593</td>\n",
       "      <td style = \"text-align: right;\">0.1537</td>\n",
       "    </tr>\n",
       "    <tr>\n",
       "      <td class = \"rowLabel\" style = \"font-weight: bold; text-align: right;\">World_ex_USA</td>\n",
       "      <td style = \"text-align: right;\">0.168</td>\n",
       "      <td style = \"text-align: right;\">1.7129</td>\n",
       "      <td style = \"text-align: right;\">0.0702</td>\n",
       "      <td style = \"text-align: right;\">0.3971</td>\n",
       "      <td style = \"text-align: right;\">-2.7986</td>\n",
       "      <td style = \"text-align: right;\">-0.8513</td>\n",
       "      <td style = \"text-align: right;\">-0.2294</td>\n",
       "      <td style = \"text-align: right;\">0.1307</td>\n",
       "      <td style = \"text-align: right;\">2.6166</td>\n",
       "      <td style = \"text-align: right;\">0.4181</td>\n",
       "      <td style = \"text-align: right;\">0.1466</td>\n",
       "    </tr>\n",
       "    <tr>\n",
       "      <td class = \"rowLabel\" style = \"font-weight: bold; text-align: right;\">EM_Net</td>\n",
       "      <td style = \"text-align: right;\">0.2087</td>\n",
       "      <td style = \"text-align: right;\">1.893</td>\n",
       "      <td style = \"text-align: right;\">0.0842</td>\n",
       "      <td style = \"text-align: right;\">0.553</td>\n",
       "      <td style = \"text-align: right;\">-3.8371</td>\n",
       "      <td style = \"text-align: right;\">-0.8236</td>\n",
       "      <td style = \"text-align: right;\">-0.3169</td>\n",
       "      <td style = \"text-align: right;\">0.1393</td>\n",
       "      <td style = \"text-align: right;\">3.2059</td>\n",
       "      <td style = \"text-align: right;\">0.4033</td>\n",
       "      <td style = \"text-align: right;\">0.0995</td>\n",
       "    </tr>\n",
       "    <tr>\n",
       "      <td class = \"rowLabel\" style = \"font-weight: bold; text-align: right;\">ACWI_Net_PLN</td>\n",
       "      <td style = \"text-align: right;\">0.121</td>\n",
       "      <td style = \"text-align: right;\">1.2714</td>\n",
       "      <td style = \"text-align: right;\">0.0879</td>\n",
       "      <td style = \"text-align: right;\">0.3596</td>\n",
       "      <td style = \"text-align: right;\">-1.2476</td>\n",
       "      <td style = \"text-align: right;\">-0.3241</td>\n",
       "      <td style = \"text-align: right;\">-0.1698</td>\n",
       "      <td style = \"text-align: right;\">0.0111</td>\n",
       "      <td style = \"text-align: right;\">0.6767</td>\n",
       "      <td style = \"text-align: right;\">0.7263</td>\n",
       "      <td style = \"text-align: right;\">0.0957</td>\n",
       "    </tr>\n",
       "    <tr>\n",
       "      <td class = \"rowLabel\" style = \"font-weight: bold; text-align: right;\">MwigTR</td>\n",
       "      <td style = \"text-align: right;\">0.2181</td>\n",
       "      <td style = \"text-align: right;\">2.403</td>\n",
       "      <td style = \"text-align: right;\">0.1155</td>\n",
       "      <td style = \"text-align: right;\">0.4835</td>\n",
       "      <td style = \"text-align: right;\">-3.8898</td>\n",
       "      <td style = \"text-align: right;\">-0.6628</td>\n",
       "      <td style = \"text-align: right;\">-0.2993</td>\n",
       "      <td style = \"text-align: right;\">0.1952</td>\n",
       "      <td style = \"text-align: right;\">3.7443</td>\n",
       "      <td style = \"text-align: right;\">0.5296</td>\n",
       "      <td style = \"text-align: right;\">0.1475</td>\n",
       "    </tr>\n",
       "    <tr>\n",
       "      <td class = \"rowLabel\" style = \"font-weight: bold; text-align: right;\">WIG20TR</td>\n",
       "      <td style = \"text-align: right;\">0.2199</td>\n",
       "      <td style = \"text-align: right;\">2.2594</td>\n",
       "      <td style = \"text-align: right;\">0.0705</td>\n",
       "      <td style = \"text-align: right;\">0.594</td>\n",
       "      <td style = \"text-align: right;\">-3.2019</td>\n",
       "      <td style = \"text-align: right;\">-0.3645</td>\n",
       "      <td style = \"text-align: right;\">-0.4047</td>\n",
       "      <td style = \"text-align: right;\">0.0087</td>\n",
       "      <td style = \"text-align: right;\">1.0945</td>\n",
       "      <td style = \"text-align: right;\">0.3205</td>\n",
       "      <td style = \"text-align: right;\">0.1144</td>\n",
       "    </tr>\n",
       "    <tr>\n",
       "      <td class = \"rowLabel\" style = \"font-weight: bold; text-align: right;\">B10YPL</td>\n",
       "      <td style = \"text-align: right;\">0.0895</td>\n",
       "      <td style = \"text-align: right;\">1.5024</td>\n",
       "      <td style = \"text-align: right;\">0.0444</td>\n",
       "      <td style = \"text-align: right;\">0.206</td>\n",
       "      <td style = \"text-align: right;\">-1.0138</td>\n",
       "      <td style = \"text-align: right;\">0.0388</td>\n",
       "      <td style = \"text-align: right;\">-0.1158</td>\n",
       "      <td style = \"text-align: right;\">0.0204</td>\n",
       "      <td style = \"text-align: right;\">3.1919</td>\n",
       "      <td style = \"text-align: right;\">0.4963</td>\n",
       "      <td style = \"text-align: right;\">0.0604</td>\n",
       "    </tr>\n",
       "  </tbody>\n",
       "</table>\n"
      ]
     },
     "metadata": {},
     "output_type": "display_data"
    }
   ],
   "source": [
    "returns_summarystats(returns_pln, 12)"
   ]
  },
  {
   "cell_type": "code",
   "execution_count": 91,
   "metadata": {},
   "outputs": [
    {
     "data": {
      "text/html": [
       "<table>\n",
       "  <thead>\n",
       "    <tr class = \"header headerLastRow\">\n",
       "      <th class = \"rowLabel\" style = \"font-weight: bold; text-align: right;\"></th>\n",
       "      <th style = \"text-align: right;\">std</th>\n",
       "      <th style = \"text-align: right;\">max</th>\n",
       "      <th style = \"text-align: right;\">mean</th>\n",
       "      <th style = \"text-align: right;\">p75th</th>\n",
       "      <th style = \"text-align: right;\">min</th>\n",
       "      <th style = \"text-align: right;\">skewness</th>\n",
       "      <th style = \"text-align: right;\">p25th</th>\n",
       "      <th style = \"text-align: right;\">autocor</th>\n",
       "      <th style = \"text-align: right;\">kurtosis</th>\n",
       "      <th style = \"text-align: right;\">sr</th>\n",
       "      <th style = \"text-align: right;\">median</th>\n",
       "    </tr>\n",
       "  </thead>\n",
       "  <tbody>\n",
       "    <tr>\n",
       "      <td class = \"rowLabel\" style = \"font-weight: bold; text-align: right;\">ACWI_Net</td>\n",
       "      <td style = \"text-align: right;\">0.1566</td>\n",
       "      <td style = \"text-align: right;\">1.3949</td>\n",
       "      <td style = \"text-align: right;\">0.0859</td>\n",
       "      <td style = \"text-align: right;\">0.4036</td>\n",
       "      <td style = \"text-align: right;\">-2.65</td>\n",
       "      <td style = \"text-align: right;\">-0.9343</td>\n",
       "      <td style = \"text-align: right;\">-0.1938</td>\n",
       "      <td style = \"text-align: right;\">0.0946</td>\n",
       "      <td style = \"text-align: right;\">2.7364</td>\n",
       "      <td style = \"text-align: right;\">0.5487</td>\n",
       "      <td style = \"text-align: right;\">0.1571</td>\n",
       "    </tr>\n",
       "    <tr>\n",
       "      <td class = \"rowLabel\" style = \"font-weight: bold; text-align: right;\">USA_Net</td>\n",
       "      <td style = \"text-align: right;\">0.1494</td>\n",
       "      <td style = \"text-align: right;\">1.4788</td>\n",
       "      <td style = \"text-align: right;\">0.0985</td>\n",
       "      <td style = \"text-align: right;\">0.4065</td>\n",
       "      <td style = \"text-align: right;\">-2.257</td>\n",
       "      <td style = \"text-align: right;\">-0.7909</td>\n",
       "      <td style = \"text-align: right;\">-0.1905</td>\n",
       "      <td style = \"text-align: right;\">0.0391</td>\n",
       "      <td style = \"text-align: right;\">1.8967</td>\n",
       "      <td style = \"text-align: right;\">0.6593</td>\n",
       "      <td style = \"text-align: right;\">0.1537</td>\n",
       "    </tr>\n",
       "    <tr>\n",
       "      <td class = \"rowLabel\" style = \"font-weight: bold; text-align: right;\">World_ex_USA</td>\n",
       "      <td style = \"text-align: right;\">0.168</td>\n",
       "      <td style = \"text-align: right;\">1.7129</td>\n",
       "      <td style = \"text-align: right;\">0.0702</td>\n",
       "      <td style = \"text-align: right;\">0.3971</td>\n",
       "      <td style = \"text-align: right;\">-2.7986</td>\n",
       "      <td style = \"text-align: right;\">-0.8513</td>\n",
       "      <td style = \"text-align: right;\">-0.2294</td>\n",
       "      <td style = \"text-align: right;\">0.1307</td>\n",
       "      <td style = \"text-align: right;\">2.6166</td>\n",
       "      <td style = \"text-align: right;\">0.4181</td>\n",
       "      <td style = \"text-align: right;\">0.1466</td>\n",
       "    </tr>\n",
       "    <tr>\n",
       "      <td class = \"rowLabel\" style = \"font-weight: bold; text-align: right;\">EM_Net</td>\n",
       "      <td style = \"text-align: right;\">0.2087</td>\n",
       "      <td style = \"text-align: right;\">1.893</td>\n",
       "      <td style = \"text-align: right;\">0.0842</td>\n",
       "      <td style = \"text-align: right;\">0.553</td>\n",
       "      <td style = \"text-align: right;\">-3.8371</td>\n",
       "      <td style = \"text-align: right;\">-0.8236</td>\n",
       "      <td style = \"text-align: right;\">-0.3169</td>\n",
       "      <td style = \"text-align: right;\">0.1393</td>\n",
       "      <td style = \"text-align: right;\">3.2059</td>\n",
       "      <td style = \"text-align: right;\">0.4033</td>\n",
       "      <td style = \"text-align: right;\">0.0995</td>\n",
       "    </tr>\n",
       "  </tbody>\n",
       "</table>\n"
      ]
     },
     "metadata": {},
     "output_type": "display_data"
    }
   ],
   "source": [
    "returns_summarystats(returns_usd,12)"
   ]
  },
  {
   "cell_type": "code",
   "execution_count": 92,
   "metadata": {},
   "outputs": [
    {
     "name": "stdout",
     "output_type": "stream",
     "text": [
      "StatsModels.TableRegressionModel{LinearModel{GLM.LmResp{Vector{Float64}}, GLM.DensePredChol{Float64, CholeskyPivoted{Float64, Matrix{Float64}, Vector{Int64}}}}, Matrix{Float64}}\n",
      "\n",
      "USA_Net ~ 1 + MwigTR\n",
      "\n",
      "Coefficients:\n",
      "─────────────────────────────────────────────────────────────────────────────\n",
      "                  Coef.  Std. Error      t  Pr(>|t|)    Lower 95%   Upper 95%\n",
      "─────────────────────────────────────────────────────────────────────────────\n",
      "(Intercept)  0.00367412  0.00198719   1.85    0.0656  -0.00023942  0.00758766\n",
      "MwigTR       0.470963    0.0312627   15.06    <1e-36   0.409395    0.532531\n",
      "─────────────────────────────────────────────────────────────────────────────\n",
      "0.47285673857874355\n"
     ]
    }
   ],
   "source": [
    "ols = lm(@formula(USA_Net ~ MwigTR), returns_pln)\n",
    "println(ols)\n",
    "println(r2(ols))"
   ]
  },
  {
   "cell_type": "code",
   "execution_count": 93,
   "metadata": {},
   "outputs": [
    {
     "name": "stdout",
     "output_type": "stream",
     "text": [
      "StatsModels.TableRegressionModel{LinearModel{GLM.LmResp{Vector{Float64}}, GLM.DensePredChol{Float64, CholeskyPivoted{Float64, Matrix{Float64}, Vector{Int64}}}}, Matrix{Float64}}\n",
      "\n",
      "MwigTR ~ 1 + USA_Net\n",
      "\n",
      "Coefficients:\n",
      "─────────────────────────────────────────────────────────────────────────────\n",
      "                  Coef.  Std. Error      t  Pr(>|t|)    Lower 95%   Upper 95%\n",
      "─────────────────────────────────────────────────────────────────────────────\n",
      "(Intercept)  0.00138433   0.0029197   0.47    0.6358  -0.00436569  0.00713434\n",
      "USA_Net      1.00402      0.0666472  15.06    <1e-36   0.872767    1.13528\n",
      "─────────────────────────────────────────────────────────────────────────────\n",
      "0.4728567385787438\n"
     ]
    }
   ],
   "source": [
    "ols = lm(@formula(MwigTR ~ USA_Net), returns_pln)\n",
    "println(ols)\n",
    "println(r2(ols))"
   ]
  },
  {
   "cell_type": "code",
   "execution_count": 94,
   "metadata": {},
   "outputs": [
    {
     "name": "stdout",
     "output_type": "stream",
     "text": [
      "StatsModels.TableRegressionModel{LinearModel{GLM.LmResp{Vector{Float64}}, GLM.DensePredChol{Float64, CholeskyPivoted{Float64, Matrix{Float64}, Vector{Int64}}}}, Matrix{Float64}}\n",
      "\n",
      "MwigTR ~ 1 + USA_Net_1 + USA_Net\n",
      "\n",
      "Coefficients:\n",
      "──────────────────────────────────────────────────────────────────────────────\n",
      "                   Coef.  Std. Error      t  Pr(>|t|)    Lower 95%   Upper 95%\n",
      "──────────────────────────────────────────────────────────────────────────────\n",
      "(Intercept)  0.000574091  0.00296783   0.19    0.8468  -0.00527092  0.00641911\n",
      "USA_Net_1    0.10924      0.0666639    1.64    0.1025  -0.0220515   0.240532\n",
      "USA_Net      1.00065      0.0666232   15.02    <1e-36   0.869436    1.13186\n",
      "──────────────────────────────────────────────────────────────────────────────\n",
      "0.47876745733429493\n"
     ]
    }
   ],
   "source": [
    "returns_lag = merge(returns_pln, TimeSeries.lead(returns_pln,1))\n",
    "ols = lm(@formula(MwigTR ~  USA_Net_1 + USA_Net), returns_lag)\n",
    "println(ols)\n",
    "println(r2(ols))"
   ]
  },
  {
   "cell_type": "code",
   "execution_count": 95,
   "metadata": {},
   "outputs": [
    {
     "name": "stdout",
     "output_type": "stream",
     "text": [
      "StatsModels.TableRegressionModel{LinearModel{GLM.LmResp{Vector{Float64}}, GLM.DensePredChol{Float64, CholeskyPivoted{Float64, Matrix{Float64}, Vector{Int64}}}}, Matrix{Float64}}\n",
      "\n",
      "World_ex_USA ~ 1 + MwigTR\n",
      "\n",
      "Coefficients:\n",
      "──────────────────────────────────────────────────────────────────────────────\n",
      "                   Coef.  Std. Error      t  Pr(>|t|)    Lower 95%   Upper 95%\n",
      "──────────────────────────────────────────────────────────────────────────────\n",
      "(Intercept)  0.000606901  0.00217528   0.28    0.7805  -0.00367706  0.00489086\n",
      "MwigTR       0.54516      0.0342217   15.93    <1e-39   0.477764    0.612555\n",
      "──────────────────────────────────────────────────────────────────────────────\n",
      "0.5007618342522057\n"
     ]
    }
   ],
   "source": [
    "ols = lm(@formula(World_ex_USA ~ MwigTR), returns_pln)\n",
    "println(ols)\n",
    "println(r2(ols))"
   ]
  },
  {
   "cell_type": "code",
   "execution_count": 96,
   "metadata": {},
   "outputs": [
    {
     "name": "stdout",
     "output_type": "stream",
     "text": [
      "StatsModels.TableRegressionModel{LinearModel{GLM.LmResp{Vector{Float64}}, GLM.DensePredChol{Float64, CholeskyPivoted{Float64, Matrix{Float64}, Vector{Int64}}}}, Matrix{Float64}}\n",
      "\n",
      "EM_Net ~ 1 + MwigTR\n",
      "\n",
      "Coefficients:\n",
      "──────────────────────────────────────────────────────────────────────────────\n",
      "                   Coef.  Std. Error      t  Pr(>|t|)    Lower 95%   Upper 95%\n",
      "──────────────────────────────────────────────────────────────────────────────\n",
      "(Intercept)  0.000975548  0.00288701   0.34    0.7357  -0.00471008  0.00666118\n",
      "MwigTR       0.627412     0.0454187   13.81    <1e-31   0.537966    0.716859\n",
      "──────────────────────────────────────────────────────────────────────────────\n",
      "0.42995612230004543\n"
     ]
    }
   ],
   "source": [
    "ols = lm(@formula(EM_Net ~ MwigTR), returns_pln)\n",
    "println(ols)\n",
    "println(r2(ols))"
   ]
  },
  {
   "cell_type": "code",
   "execution_count": 97,
   "metadata": {},
   "outputs": [
    {
     "data": {
      "text/plain": [
       "435×3 TimeArray{Float64, 2, Date, Matrix{Float64}} 1988-01-31 to 2024-03-31\n",
       "┌────────────┬────────────┬──────────────┬─────────────┐\n",
       "│\u001b[1m            \u001b[0m│\u001b[1m USA_Net    \u001b[0m│\u001b[1m World_ex_USA \u001b[0m│\u001b[1m EM_Net      \u001b[0m│\n",
       "├────────────┼────────────┼──────────────┼─────────────┤\n",
       "│ 1988-01-31 │  0.0410122 │    0.0153553 │   0.0935834 │\n",
       "│ 1988-02-29 │  0.0401109 │    0.0640862 │   0.0031132 │\n",
       "│ 1988-03-31 │ -0.0349774 │    0.0592025 │     0.10175 │\n",
       "│ 1988-04-30 │ 0.00818061 │    0.0140195 │   0.0517417 │\n",
       "│ 1988-05-31 │ 0.00760205 │   -0.0326806 │   0.0292525 │\n",
       "│ 1988-06-30 │  0.0445733 │   -0.0229028 │   0.0331365 │\n",
       "│ 1988-07-31 │ -0.0040323 │    0.0288082 │  -0.0260317 │\n",
       "│ 1988-08-31 │  -0.035096 │   -0.0667177 │  -0.0274362 │\n",
       "│     ⋮      │     ⋮      │      ⋮       │      ⋮      │\n",
       "│ 2023-09-30 │ -0.0483353 │   -0.0342956 │  -0.0264995 │\n",
       "│ 2023-10-31 │ -0.0235616 │   -0.0431263 │   -0.039629 │\n",
       "│ 2023-11-30 │  0.0895259 │    0.0898198 │   0.0769883 │\n",
       "│ 2023-12-31 │  0.0456572 │    0.0532219 │   0.0383487 │\n",
       "│ 2024-01-31 │  0.0151977 │   0.00429701 │  -0.0475452 │\n",
       "│ 2024-02-29 │  0.0518111 │    0.0169284 │    0.046475 │\n",
       "│ 2024-03-31 │  0.0309855 │    0.0331842 │   0.0244778 │\n",
       "└────────────┴────────────┴──────────────┴─────────────┘\n",
       "\u001b[36m                                        420 rows omitted\u001b[0m"
      ]
     },
     "metadata": {},
     "output_type": "display_data"
    }
   ],
   "source": [
    "columns = [:Date, :USA_Net, :World_ex_USA, :EM_Net]\n",
    "data_df = DataFrame(XLSX.readtable(\"../data/assets_data_03.24.xlsx\", \"Indexes\"; infer_eltypes=true))[2:end, columns]\n",
    "dropmissing!(data_df, disallowmissing=true)\n",
    "returns_usd = data_df |> \n",
    "            x -> TimeArray(x; timestamp = :Date) |> \n",
    "            x -> percentchange(x, :log)"
   ]
  },
  {
   "cell_type": "code",
   "execution_count": 98,
   "metadata": {},
   "outputs": [
    {
     "name": "stdout",
     "output_type": "stream",
     "text": [
      "StatsModels.TableRegressionModel{LinearModel{GLM.LmResp{Vector{Float64}}, GLM.DensePredChol{Float64, CholeskyPivoted{Float64, Matrix{Float64}, Vector{Int64}}}}, Matrix{Float64}}\n",
      "\n",
      "USA_Net ~ 1 + MwigTR\n",
      "\n",
      "Coefficients:\n",
      "─────────────────────────────────────────────────────────────────────────────\n",
      "                  Coef.  Std. Error      t  Pr(>|t|)    Lower 95%   Upper 95%\n",
      "─────────────────────────────────────────────────────────────────────────────\n",
      "(Intercept)  0.00367412  0.00198719   1.85    0.0656  -0.00023942  0.00758766\n",
      "MwigTR       0.470963    0.0312627   15.06    <1e-36   0.409395    0.532531\n",
      "─────────────────────────────────────────────────────────────────────────────\n",
      "0.47285673857874166\n"
     ]
    }
   ],
   "source": [
    "data = merge(returns_pln[:MwigTR], returns_usd[:USA_Net])\n",
    "ols = lm(@formula(USA_Net ~ MwigTR), data)\n",
    "println(ols)\n",
    "println(r2(ols))"
   ]
  },
  {
   "cell_type": "code",
   "execution_count": 99,
   "metadata": {},
   "outputs": [
    {
     "data": {
      "text/plain": [
       "0.47058823529411764"
      ]
     },
     "metadata": {},
     "output_type": "display_data"
    }
   ],
   "source": [
    "# number of month wig20 > mwig40\n",
    "\n",
    "n_wig20Gr = values(returns_pln[:WIG20TR] .> returns_pln[:MwigTR])  |> count\n",
    "n_wig20Gr / length(returns_pln)\n"
   ]
  },
  {
   "cell_type": "code",
   "execution_count": 100,
   "metadata": {},
   "outputs": [
    {
     "ename": "UndefVarError",
     "evalue": "UndefVarError: `rf` not defined",
     "output_type": "error",
     "traceback": [
      "UndefVarError: `rf` not defined\n",
      "\n",
      "Stacktrace:\n",
      " [1] top-level scope\n",
      "   @ c:\\Users\\matsz\\programowanie\\Optymalizacja_portfela\\julia_msp\\eda\\jl_notebook_cell_df34fa98e69747e1a8f8a730347b8e2f_X20sZmlsZQ==.jl:1"
     ]
    }
   ],
   "source": [
    "plot(rf)"
   ]
  },
  {
   "cell_type": "code",
   "execution_count": 101,
   "metadata": {},
   "outputs": [
    {
     "ename": "UndefVarError",
     "evalue": "UndefVarError: `rf` not defined",
     "output_type": "error",
     "traceback": [
      "UndefVarError: `rf` not defined\n",
      "\n",
      "Stacktrace:\n",
      " [1] top-level scope\n",
      "   @ c:\\Users\\matsz\\programowanie\\Optymalizacja_portfela\\julia_msp\\eda\\jl_notebook_cell_df34fa98e69747e1a8f8a730347b8e2f_X21sZmlsZQ==.jl:1"
     ]
    }
   ],
   "source": [
    "bond_excess = returns_pln[:B10YPL] .- rf ./ 23 |>\n",
    "    x -> from(x, Date(2015,01,01)) |>\n",
    "    x -> to(x,  Date(2019,12,31)) \n",
    "\n",
    "returns_summarystats(bond_excess,12)"
   ]
  },
  {
   "cell_type": "code",
   "execution_count": 102,
   "metadata": {},
   "outputs": [
    {
     "data": {
      "text/plain": [
       "11-element Vector{Symbol}:\n",
       " :USA_Net\n",
       " :MwigTR\n",
       " :USA_Net_1\n",
       " :MwigTR_1\n",
       " :WIBOR3m\n",
       " :CPIPLM\n",
       " :MWig40_dy\n",
       " :WIBOR3m_1\n",
       " :CPIPLM_1\n",
       " :MWig40_dy_1\n",
       " :MWig40_dy_2"
      ]
     },
     "metadata": {},
     "output_type": "display_data"
    }
   ],
   "source": [
    "variables= merge(returns_pln[:USA_Net, :MwigTR], TimeSeries.lead(returns_pln[:USA_Net, :MwigTR]), macro_pl[:WIBOR3m, :CPIPLM, :MWig40_dy], TimeSeries.lead(macro_pl[:WIBOR3m, :CPIPLM, :MWig40_dy], 1), log.(TimeSeries.lead(macro_pl[:MWig40_dy],1)))\n",
    "colnames(variables)"
   ]
  },
  {
   "cell_type": "code",
   "execution_count": 103,
   "metadata": {},
   "outputs": [
    {
     "name": "stdout",
     "output_type": "stream",
     "text": [
      "StatsModels.TableRegressionModel{LinearModel{GLM.LmResp{Vector{Float64}}, GLM.DensePredChol{Float64, CholeskyPivoted{Float64, Matrix{Float64}, Vector{Int64}}}}, Matrix{Float64}}\n",
      "\n",
      "MwigTR ~ 1 + MWig40_dy_1\n",
      "\n",
      "Coefficients:\n",
      "────────────────────────────────────────────────────────────────────────────\n",
      "                  Coef.  Std. Error      t  Pr(>|t|)    Lower 95%  Upper 95%\n",
      "────────────────────────────────────────────────────────────────────────────\n",
      "(Intercept)   0.0156113  0.00978799   1.59    0.1123  -0.00369137   0.034914\n",
      "MWig40_dy_1  -0.543517   0.385743    -1.41    0.1604  -1.30423      0.217199\n",
      "────────────────────────────────────────────────────────────────────────────\n",
      "0.009977192877162144\n"
     ]
    }
   ],
   "source": [
    "ols = lm(@formula(MwigTR ~ MWig40_dy_1), variables)\n",
    "println(ols)\n",
    "println(r2(ols))"
   ]
  },
  {
   "cell_type": "code",
   "execution_count": 104,
   "metadata": {},
   "outputs": [
    {
     "name": "stdout",
     "output_type": "stream",
     "text": [
      "StatsModels.TableRegressionModel{LinearModel{GLM.LmResp{Vector{Float64}}, GLM.DensePredChol{Float64, CholeskyPivoted{Float64, Matrix{Float64}, Vector{Int64}}}}, Matrix{Float64}}\n",
      "\n",
      "MwigTR ~ 1 + MWig40_dy_2\n",
      "\n",
      "Coefficients:\n",
      "─────────────────────────────────────────────────────────────────────────────\n",
      "                  Coef.  Std. Error      t  Pr(>|t|)   Lower 95%    Upper 95%\n",
      "─────────────────────────────────────────────────────────────────────────────\n",
      "(Intercept)  -0.0517075  0.0299636   -1.73    0.0860  -0.110798   0.00738299\n",
      "MWig40_dy_2  -0.0139799  0.00754005  -1.85    0.0652  -0.0288495  0.000889673\n",
      "─────────────────────────────────────────────────────────────────────────────\n",
      "0.0171506453904694\n"
     ]
    }
   ],
   "source": [
    "ols = lm(@formula(MwigTR ~ MWig40_dy_2), variables)\n",
    "println(ols)\n",
    "println(r2(ols))"
   ]
  },
  {
   "cell_type": "code",
   "execution_count": 105,
   "metadata": {},
   "outputs": [
    {
     "name": "stdout",
     "output_type": "stream",
     "text": [
      "StatsModels.TableRegressionModel{LinearModel{GLM.LmResp{Vector{Float64}}, GLM.DensePredChol{Float64, CholeskyPivoted{Float64, Matrix{Float64}, Vector{Int64}}}}, Matrix{Float64}}\n",
      "\n",
      "MwigTR ~ 1 + MWig40_dy_1 + WIBOR3m_1 + CPIPLM_1\n",
      "\n",
      "Coefficients:\n",
      "─────────────────────────────────────────────────────────────────────────────\n",
      "                  Coef.  Std. Error      t  Pr(>|t|)    Lower 95%   Upper 95%\n",
      "─────────────────────────────────────────────────────────────────────────────\n",
      "(Intercept)   0.0327325    0.012211   2.68    0.0080   0.00864989   0.0568152\n",
      "MWig40_dy_1  -0.571674     0.38275   -1.49    0.1369  -1.32654      0.183187\n",
      "WIBOR3m_1    -0.466034     0.221212  -2.11    0.0364  -0.90231     -0.029758\n",
      "CPIPLM_1     -0.314899     0.86867   -0.36    0.7174  -2.02809      1.3983\n",
      "─────────────────────────────────────────────────────────────────────────────\n",
      "0.03658709151918704\n"
     ]
    }
   ],
   "source": [
    "ols = lm(@formula(MwigTR ~ MWig40_dy_1 + WIBOR3m_1 + CPIPLM_1), variables)\n",
    "println(ols)\n",
    "println(r2(ols))"
   ]
  },
  {
   "cell_type": "code",
   "execution_count": 106,
   "metadata": {},
   "outputs": [
    {
     "name": "stdout",
     "output_type": "stream",
     "text": [
      "StatsModels.TableRegressionModel{LinearModel{GLM.LmResp{Vector{Float64}}, GLM.DensePredChol{Float64, CholeskyPivoted{Float64, Matrix{Float64}, Vector{Int64}}}}, Matrix{Float64}}\n",
      "\n",
      "MwigTR ~ 1 + MWig40_dy + WIBOR3m + CPIPLM\n",
      "\n",
      "Coefficients:\n",
      "─────────────────────────────────────────────────────────────────────────────\n",
      "                  Coef.  Std. Error      t  Pr(>|t|)    Lower 95%   Upper 95%\n",
      "─────────────────────────────────────────────────────────────────────────────\n",
      "(Intercept)   0.0256318   0.0122461   2.09    0.0376   0.00147998   0.0497837\n",
      "MWig40_dy    -0.270922    0.382717   -0.71    0.4799  -1.02572      0.483875\n",
      "WIBOR3m      -0.539226    0.222151   -2.43    0.0161  -0.977353    -0.101098\n",
      "CPIPLM        0.574589    0.866285    0.66    0.5079  -1.1339       2.28308\n",
      "─────────────────────────────────────────────────────────────────────────────\n",
      "0.03097387311577282\n"
     ]
    }
   ],
   "source": [
    "ols = lm(@formula(MwigTR ~ MWig40_dy + WIBOR3m + CPIPLM), variables)\n",
    "println(ols)\n",
    "println(r2(ols))"
   ]
  },
  {
   "cell_type": "code",
   "execution_count": 107,
   "metadata": {},
   "outputs": [
    {
     "name": "stdout",
     "output_type": "stream",
     "text": [
      "StatsModels.TableRegressionModel{LinearModel{GLM.LmResp{Vector{Float64}}, GLM.DensePredChol{Float64, CholeskyPivoted{Float64, Matrix{Float64}, Vector{Int64}}}}, Matrix{Float64}}\n",
      "\n",
      "MwigTR ~ 1 + USA_Net_1 + MwigTR_1 + MWig40_dy_2 + WIBOR3m_1 + CPIPLM_1\n",
      "\n",
      "Coefficients:\n",
      "────────────────────────────────────────────────────────────────────────────\n",
      "                  Coef.  Std. Error      t  Pr(>|t|)   Lower 95%   Upper 95%\n",
      "────────────────────────────────────────────────────────────────────────────\n",
      "(Intercept)  -0.0346504  0.0301111   -1.15    0.2513  -0.0940394  0.0247386\n",
      "USA_Net_1    -0.0304893  0.140162    -0.22    0.8280  -0.306936   0.245958\n",
      "MwigTR_1      0.174875   0.107637     1.62    0.1059  -0.0374199  0.387171\n",
      "MWig40_dy_2  -0.0131805  0.00746876  -1.76    0.0792  -0.0279114  0.00155035\n",
      "WIBOR3m_1    -0.399705   0.222369    -1.80    0.0738  -0.838291   0.0388811\n",
      "CPIPLM_1     -0.330082   0.860421    -0.38    0.7017  -2.02712    1.36695\n",
      "────────────────────────────────────────────────────────────────────────────\n",
      "0.06844781771315112\n"
     ]
    }
   ],
   "source": [
    "ols = lm(@formula(MwigTR ~ USA_Net_1 + MwigTR_1 + MWig40_dy_2 + WIBOR3m_1 + CPIPLM_1), variables)\n",
    "println(ols)\n",
    "println(r2(ols))"
   ]
  },
  {
   "cell_type": "code",
   "execution_count": 108,
   "metadata": {},
   "outputs": [
    {
     "name": "stdout",
     "output_type": "stream",
     "text": [
      "StatsModels.TableRegressionModel{LinearModel{GLM.LmResp{Vector{Float64}}, GLM.DensePredChol{Float64, CholeskyPivoted{Float64, Matrix{Float64}, Vector{Int64}}}}, Matrix{Float64}}\n",
      "\n",
      "MwigTR ~ 1 + USA_Net + MwigTR_1 + MWig40_dy_2 + WIBOR3m_1 + CPIPLM_1\n",
      "\n",
      "Coefficients:\n",
      "─────────────────────────────────────────────────────────────────────────────\n",
      "                   Coef.  Std. Error      t  Pr(>|t|)   Lower 95%   Upper 95%\n",
      "─────────────────────────────────────────────────────────────────────────────\n",
      "(Intercept)  -0.0140989   0.0201025   -0.70    0.4839  -0.0537476  0.0255499\n",
      "USA_Net       0.965148    0.0620622   15.55    <1e-35   0.842741   1.08756\n",
      "MwigTR_1      0.0923321   0.0474144    1.95    0.0529  -0.0011849  0.185849\n",
      "MWig40_dy_2  -0.00337822  0.00501511  -0.67    0.5014  -0.0132697  0.00651324\n",
      "WIBOR3m_1    -0.0927857   0.14922     -0.62    0.5348  -0.387097   0.201526\n",
      "CPIPLM_1     -0.134408    0.573408    -0.23    0.8149  -1.26536    0.996543\n",
      "─────────────────────────────────────────────────────────────────────────────\n",
      "0.5864399376722662\n"
     ]
    }
   ],
   "source": [
    "ols = lm(@formula(MwigTR ~ USA_Net + MwigTR_1 + MWig40_dy_2 + WIBOR3m_1 + CPIPLM_1), variables)\n",
    "println(ols)\n",
    "println(r2(ols))"
   ]
  },
  {
   "cell_type": "code",
   "execution_count": 109,
   "metadata": {},
   "outputs": [
    {
     "name": "stdout",
     "output_type": "stream",
     "text": [
      "StatsModels.TableRegressionModel{LinearModel{GLM.LmResp{Vector{Float64}}, GLM.DensePredChol{Float64, CholeskyPivoted{Float64, Matrix{Float64}, Vector{Int64}}}}, Matrix{Float64}}\n",
      "\n",
      "MwigTR ~ 1 + USA_Net + MwigTR_1 + MWig40_dy_2 + WIBOR3m + CPIPLM\n",
      "\n",
      "Coefficients:\n",
      "───────────────────────────────────────────────────────────────────────────────\n",
      "                   Coef.  Std. Error      t  Pr(>|t|)     Lower 95%   Upper 95%\n",
      "───────────────────────────────────────────────────────────────────────────────\n",
      "(Intercept)  -0.0149977   0.0201186   -0.75    0.4569  -0.0546783    0.0246828\n",
      "USA_Net       0.96351     0.0621295   15.51    <1e-35   0.84097      1.08605\n",
      "MwigTR_1      0.0934285   0.0472891    1.98    0.0496   0.000158668  0.186698\n",
      "MWig40_dy_2  -0.00354078  0.00500684  -0.71    0.4803  -0.0134159    0.00633437\n",
      "WIBOR3m      -0.125906    0.1489      -0.85    0.3988  -0.419587     0.167775\n",
      "CPIPLM        0.324445    0.569833     0.57    0.5698  -0.799454     1.44834\n",
      "───────────────────────────────────────────────────────────────────────────────\n",
      "0.587039848951814\n"
     ]
    }
   ],
   "source": [
    "ols = lm(@formula(MwigTR ~ USA_Net + MwigTR_1 + MWig40_dy_2 + WIBOR3m + CPIPLM), variables)\n",
    "println(ols)\n",
    "println(r2(ols))"
   ]
  },
  {
   "cell_type": "code",
   "execution_count": 110,
   "metadata": {},
   "outputs": [
    {
     "name": "stdout",
     "output_type": "stream",
     "text": [
      "StatsModels.TableRegressionModel{LinearModel{GLM.LmResp{Vector{Float64}}, GLM.DensePredChol{Float64, CholeskyPivoted{Float64, Matrix{Float64}, Vector{Int64}}}}, Matrix{Float64}}\n",
      "\n",
      "MwigTR ~ 1 + MwigTR_1\n",
      "\n",
      "Coefficients:\n",
      "───────────────────────────────────────────────────────────────────────────\n",
      "                  Coef.  Std. Error     t  Pr(>|t|)    Lower 95%  Upper 95%\n",
      "───────────────────────────────────────────────────────────────────────────\n",
      "(Intercept)  0.00257948  0.00430802  0.60    0.5500  -0.00591626  0.0110752\n",
      "MwigTR_1     0.188414    0.0701444   2.69    0.0078   0.0500837   0.326744\n",
      "───────────────────────────────────────────────────────────────────────────\n",
      "0.0353307523248787\n"
     ]
    }
   ],
   "source": [
    "ols = lm(@formula(MwigTR ~ MwigTR_1), variables)\n",
    "println(ols)\n",
    "println(r2(ols))"
   ]
  },
  {
   "cell_type": "code",
   "execution_count": 111,
   "metadata": {},
   "outputs": [
    {
     "data": {
      "text/plain": [
       "5×5 Matrix{Float64}:\n",
       "  1.0    0.76  -0.16   0.0   -0.04\n",
       "  0.76   1.0   -0.16  -0.01  -0.07\n",
       " -0.16  -0.16   1.0    0.27  -0.05\n",
       "  0.0   -0.01   0.27   1.0    0.02\n",
       " -0.04  -0.07  -0.05   0.02   1.0"
      ]
     },
     "metadata": {},
     "output_type": "display_data"
    }
   ],
   "source": [
    "round.(cor(values(variables[:MwigTR, :USA_Net, :WIBOR3m, :CPIPLM, :MWig40_dy])), digits=2)"
   ]
  },
  {
   "cell_type": "markdown",
   "metadata": {},
   "source": [
    "#### mwig dy eda"
   ]
  },
  {
   "cell_type": "code",
   "execution_count": 112,
   "metadata": {},
   "outputs": [
    {
     "data": {
      "text/plain": [
       "70-element CSV.File:\n",
       " CSV.Row: (Date = String15(\"30.09.2007\"), Mwig = String7(\"4568,14\"), mWig_dy = String7(\"0,78%\"), d = String15(\"35,5401292\"), Column5 = String15(\"#ARG!\"))\n",
       " CSV.Row: (Date = String15(\"31.12.2007\"), Mwig = String7(\"4028,37\"), mWig_dy = String7(\"0,95%\"), d = String15(\"38,269515\"), Column5 = String15(\"7,40%\"))\n",
       " CSV.Row: (Date = String15(\"31.03.2008\"), Mwig = String7(\"3363,11\"), mWig_dy = String7(\"1,88%\"), d = String15(\"63,226468\"), Column5 = String15(\"50,21%\"))\n",
       " CSV.Row: (Date = String15(\"30.06.2008\"), Mwig = String7(\"2649,88\"), mWig_dy = String7(\"0,97%\"), d = String15(\"25,703836\"), Column5 = String15(\"-90,01%\"))\n",
       " CSV.Row: (Date = String15(\"30.09.2008\"), Mwig = String7(\"2252,23\"), mWig_dy = String7(\"1,61%\"), d = String15(\"36,260903\"), Column5 = String15(\"34,41%\"))\n",
       " CSV.Row: (Date = String15(\"31.12.2008\"), Mwig = String7(\"1511,27\"), mWig_dy = String7(\"2,53%\"), d = String15(\"38,235131\"), Column5 = String15(\"5,30%\"))\n",
       " CSV.Row: (Date = String15(\"31.03.2009\"), Mwig = String7(\"1381,68\"), mWig_dy = String7(\"1,47%\"), d = String15(\"20,310696\"), Column5 = String15(\"-63,26%\"))\n",
       " CSV.Row: (Date = String15(\"30.06.2009\"), Mwig = String7(\"1769,47\"), mWig_dy = String7(\"0,42%\"), d = String15(\"7,431774\"), Column5 = String15(\"-100,54%\"))\n",
       " CSV.Row: (Date = String15(\"30.09.2009\"), Mwig = String7(\"2258,99\"), mWig_dy = String7(\"0,66%\"), d = String15(\"14,909334\"), Column5 = String15(\"69,62%\"))\n",
       " CSV.Row: (Date = String15(\"31.12.2009\"), Mwig = String7(\"2346,14\"), mWig_dy = String7(\"0,75%\"), d = String15(\"17,59605\"), Column5 = String15(\"16,57%\"))\n",
       " ⋮\n",
       " CSV.Row: (Date = String15(\"31.12.2022\"), Mwig = String7(\"4154,32\"), mWig_dy = String7(\"3,12%\"), d = String15(\"129,407068\"), Column5 = String15(\"5,78%\"))\n",
       " CSV.Row: (Date = String15(\"31.03.2023\"), Mwig = String7(\"4504,04\"), mWig_dy = String7(\"2,66%\"), d = String15(\"119,7173832\"), Column5 = String15(\"-7,78%\"))\n",
       " CSV.Row: (Date = String15(\"30.06.2023\"), Mwig = String7(\"4852,03\"), mWig_dy = String7(\"2,61%\"), d = String15(\"126,7835439\"), Column5 = String15(\"5,73%\"))\n",
       " CSV.Row: (Date = String15(\"30.09.2023\"), Mwig = String7(\"4936,38\"), mWig_dy = String7(\"3,42%\"), d = String15(\"168,577377\"), Column5 = String15(\"28,49%\"))\n",
       " CSV.Row: (Date = String15(\"31.12.2023\"), Mwig = String7(\"5785,21\"), mWig_dy = String7(\"2,91%\"), d = String15(\"168,349611\"), Column5 = String15(\"-0,14%\"))\n",
       " CSV.Row: (Date = String15(\"31.03.2024\"), Mwig = String7(\"6326,51\"), mWig_dy = String7(\"3,08%\"), d = String15(\"194,9197731\"), Column5 = String15(\"14,65%\"))\n",
       " CSV.Row: (Date = String15(\"30.06.2024\"), Mwig = String7(\"6517,71\"), mWig_dy = String7(\"3,04%\"), d = String15(\"198,3990924\"), Column5 = String15(\"1,77%\"))\n",
       " CSV.Row: (Date = String15(\"30.09.2024\"), Mwig = String7(\"6201,66\"), mWig_dy = String7(\"3,44%\"), d = String15(\"213,1510542\"), Column5 = String15(\"7,17%\"))\n",
       " CSV.Row: (Date = missing, Mwig = missing, mWig_dy = missing, d = missing, Column5 = missing)"
      ]
     },
     "metadata": {},
     "output_type": "display_data"
    }
   ],
   "source": [
    "CSV.File(\"../data/mwig40price_dy.csv\", delim=';')"
   ]
  },
  {
   "cell_type": "code",
   "execution_count": 113,
   "metadata": {},
   "outputs": [
    {
     "ename": "MethodError",
     "evalue": "MethodError: no method matching TimeArray(::Vector{Union{Missing, String15}}, ::Matrix{Union{Missing, String15}}, ::Vector{Symbol}, ::CSV.File; unchecked::Bool)\n\nClosest candidates are:\n  TimeArray(!Matched::AbstractVector{D}, ::AbstractArray{T, N}, ::Vector{Symbol}, ::Any; args...) where {T, N, D<:TimeType}\n   @ TimeSeries C:\\Users\\matsz\\.julia\\packages\\TimeSeries\\zx7sJ\\src\\timearray.jl:89\n  TimeArray(!Matched::D, ::AbstractArray{T, N}, ::Vector{Symbol}, ::Any; args...) where {T, N, D<:TimeType}\n   @ TimeSeries C:\\Users\\matsz\\.julia\\packages\\TimeSeries\\zx7sJ\\src\\timearray.jl:94\n  TimeArray(!Matched::AbstractVector{D}, ::AbstractArray{T, N}, !Matched::Vector{S}, ::Any; args...) where {T, N, D<:TimeType, S<:AbstractString}\n   @ TimeSeries deprecated.jl:103\n  ...\n",
     "output_type": "error",
     "traceback": [
      "MethodError: no method matching TimeArray(::Vector{Union{Missing, String15}}, ::Matrix{Union{Missing, String15}}, ::Vector{Symbol}, ::CSV.File; unchecked::Bool)\n",
      "\n",
      "Closest candidates are:\n",
      "  TimeArray(!Matched::AbstractVector{D}, ::AbstractArray{T, N}, ::Vector{Symbol}, ::Any; args...) where {T, N, D<:TimeType}\n",
      "   @ TimeSeries C:\\Users\\matsz\\.julia\\packages\\TimeSeries\\zx7sJ\\src\\timearray.jl:89\n",
      "  TimeArray(!Matched::D, ::AbstractArray{T, N}, ::Vector{Symbol}, ::Any; args...) where {T, N, D<:TimeType}\n",
      "   @ TimeSeries C:\\Users\\matsz\\.julia\\packages\\TimeSeries\\zx7sJ\\src\\timearray.jl:94\n",
      "  TimeArray(!Matched::AbstractVector{D}, ::AbstractArray{T, N}, !Matched::Vector{S}, ::Any; args...) where {T, N, D<:TimeType, S<:AbstractString}\n",
      "   @ TimeSeries deprecated.jl:103\n",
      "  ...\n",
      "\n",
      "\n",
      "Stacktrace:\n",
      " [1] TimeArray(x::CSV.File; timestamp::Symbol, timeparser::Function, unchecked::Bool)\n",
      "   @ TimeSeries.TablesIntegration C:\\Users\\matsz\\.julia\\packages\\TimeSeries\\zx7sJ\\src\\tables.jl:88\n",
      " [2] top-level scope\n",
      "   @ c:\\Users\\matsz\\programowanie\\Optymalizacja_portfela\\julia_msp\\eda\\jl_notebook_cell_df34fa98e69747e1a8f8a730347b8e2f_X40sZmlsZQ==.jl:1"
     ]
    }
   ],
   "source": [
    "mwig = TimeArray(CSV.File(\"../data/mwig40price_dy.csv\", delim=';'), timestamp = :Date)"
   ]
  },
  {
   "cell_type": "code",
   "execution_count": 114,
   "metadata": {},
   "outputs": [
    {
     "ename": "ArgumentError",
     "evalue": "ArgumentError: Unable to parse date time. Expected directive Delim(/) at char 3",
     "output_type": "error",
     "traceback": [
      "ArgumentError: Unable to parse date time. Expected directive Delim(/) at char 3\n",
      "\n",
      "Stacktrace:\n",
      " [1] macro expansion\n",
      "   @ C:\\Users\\matsz\\.julia\\juliaup\\julia-1.10.2+0.x64.w64.mingw32\\share\\julia\\stdlib\\v1.10\\Dates\\src\\parse.jl:104 [inlined]\n",
      " [2] tryparsenext_core(str::SubString{String}, pos::Int64, len::Int64, df::DateFormat{Symbol(\"dd/mm/yyyy\"), Tuple{Dates.DatePart{'d'}, Dates.Delim{Char, 1}, Dates.DatePart{'m'}, Dates.Delim{Char, 1}, Dates.DatePart{'y'}}}, raise::Bool)\n",
      "   @ Dates C:\\Users\\matsz\\.julia\\juliaup\\julia-1.10.2+0.x64.w64.mingw32\\share\\julia\\stdlib\\v1.10\\Dates\\src\\parse.jl:38\n",
      " [3] macro expansion\n",
      "   @ C:\\Users\\matsz\\.julia\\juliaup\\julia-1.10.2+0.x64.w64.mingw32\\share\\julia\\stdlib\\v1.10\\Dates\\src\\parse.jl:150 [inlined]\n",
      " [4] tryparsenext_internal\n",
      "   @ C:\\Users\\matsz\\.julia\\juliaup\\julia-1.10.2+0.x64.w64.mingw32\\share\\julia\\stdlib\\v1.10\\Dates\\src\\parse.jl:125 [inlined]\n",
      " [5] parse(::Type{Date}, str::SubString{String}, df::DateFormat{Symbol(\"dd/mm/yyyy\"), Tuple{Dates.DatePart{'d'}, Dates.Delim{Char, 1}, Dates.DatePart{'m'}, Dates.Delim{Char, 1}, Dates.DatePart{'y'}}})\n",
      "   @ Dates C:\\Users\\matsz\\.julia\\juliaup\\julia-1.10.2+0.x64.w64.mingw32\\share\\julia\\stdlib\\v1.10\\Dates\\src\\parse.jl:284\n",
      " [6] Date(d::SubString{String}, df::DateFormat{Symbol(\"dd/mm/yyyy\"), Tuple{Dates.DatePart{'d'}, Dates.Delim{Char, 1}, Dates.DatePart{'m'}, Dates.Delim{Char, 1}, Dates.DatePart{'y'}}})\n",
      "   @ Dates C:\\Users\\matsz\\.julia\\juliaup\\julia-1.10.2+0.x64.w64.mingw32\\share\\julia\\stdlib\\v1.10\\Dates\\src\\io.jl:608\n",
      " [7] readtimearray(source::String; delim::Char, meta::Nothing, format::String, header::Bool)\n",
      "   @ TimeSeries C:\\Users\\matsz\\.julia\\packages\\TimeSeries\\zx7sJ\\src\\readwrite.jl:20\n",
      " [8] top-level scope\n",
      "   @ c:\\Users\\matsz\\programowanie\\Optymalizacja_portfela\\julia_msp\\eda\\jl_notebook_cell_df34fa98e69747e1a8f8a730347b8e2f_X41sZmlsZQ==.jl:1"
     ]
    }
   ],
   "source": [
    "readtimearray(\"../data/mwig40price_dy.csv\"; delim=';', format=\"dd/mm/yyyy\")"
   ]
  },
  {
   "cell_type": "code",
   "execution_count": 126,
   "metadata": {},
   "outputs": [
    {
     "data": {
      "text/html": [
       "<table>\n",
       "  <thead>\n",
       "    <tr class = \"header headerLastRow\">\n",
       "      <th class = \"rowLabel\" style = \"font-weight: bold; text-align: right;\"></th>\n",
       "      <th style = \"text-align: right;\">std</th>\n",
       "      <th style = \"text-align: right;\">max</th>\n",
       "      <th style = \"text-align: right;\">mean</th>\n",
       "      <th style = \"text-align: right;\">p75th</th>\n",
       "      <th style = \"text-align: right;\">min</th>\n",
       "      <th style = \"text-align: right;\">skewness</th>\n",
       "      <th style = \"text-align: right;\">p25th</th>\n",
       "      <th style = \"text-align: right;\">autocor</th>\n",
       "      <th style = \"text-align: right;\">kurtosis</th>\n",
       "      <th style = \"text-align: right;\">sr</th>\n",
       "      <th style = \"text-align: right;\">median</th>\n",
       "    </tr>\n",
       "  </thead>\n",
       "  <tbody>\n",
       "    <tr>\n",
       "      <td class = \"rowLabel\" style = \"font-weight: bold; text-align: right;\">USDPLN</td>\n",
       "      <td style = \"text-align: right;\">0.1288</td>\n",
       "      <td style = \"text-align: right;\">1.998</td>\n",
       "      <td style = \"text-align: right;\">0.0045</td>\n",
       "      <td style = \"text-align: right;\">0.2813</td>\n",
       "      <td style = \"text-align: right;\">-1.1283</td>\n",
       "      <td style = \"text-align: right;\">0.6829</td>\n",
       "      <td style = \"text-align: right;\">-0.2977</td>\n",
       "      <td style = \"text-align: right;\">0.061</td>\n",
       "      <td style = \"text-align: right;\">1.7837</td>\n",
       "      <td style = \"text-align: right;\">0.0351</td>\n",
       "      <td style = \"text-align: right;\">-0.0231</td>\n",
       "    </tr>\n",
       "  </tbody>\n",
       "</table>\n"
      ]
     },
     "metadata": {},
     "output_type": "display_data"
    }
   ],
   "source": [
    "columns = [:Date, :USDPLN]\n",
    "data_df = DataFrame(XLSX.readtable(\"../data/assets_data_03.24.xlsx\", \"Macro_month\"; infer_eltypes=true))[2:end, columns]\n",
    "dropmissing!(data_df, disallowmissing=true)\n",
    "usdpln = data_df |> \n",
    "            x -> TimeArray(x; timestamp = :Date) |>             \n",
    "            x -> percentchange(x, :log)\n",
    "\n",
    "returns_summarystats(usdpln, 12)"
   ]
  },
  {
   "cell_type": "code",
   "execution_count": 124,
   "metadata": {},
   "outputs": [
    {
     "data": {
      "text/plain": [
       "255×1 TimeArray{Float64, 1, Date, Vector{Float64}} 2003-01-31 to 2024-03-31\n",
       "┌────────────┬────────────┐\n",
       "│\u001b[1m            \u001b[0m│\u001b[1m USA_Net    \u001b[0m│\n",
       "├────────────┼────────────┤\n",
       "│ 2003-01-31 │ -0.0248446 │\n",
       "│ 2003-02-28 │ -0.0159343 │\n",
       "│ 2003-03-31 │ 0.00886423 │\n",
       "│ 2003-04-30 │  0.0798764 │\n",
       "│ 2003-05-31 │  0.0517369 │\n",
       "│ 2003-06-30 │   0.011892 │\n",
       "│ 2003-07-31 │  0.0179915 │\n",
       "│ 2003-08-31 │  0.0181089 │\n",
       "│     ⋮      │     ⋮      │\n",
       "│ 2023-09-30 │ -0.0483353 │\n",
       "│ 2023-10-31 │ -0.0235616 │\n",
       "│ 2023-11-30 │  0.0895259 │\n",
       "│ 2023-12-31 │  0.0456572 │\n",
       "│ 2024-01-31 │  0.0151977 │\n",
       "│ 2024-02-29 │  0.0518111 │\n",
       "│ 2024-03-31 │  0.0309855 │\n",
       "└────────────┴────────────┘\n",
       "\u001b[36m           240 rows omitted\u001b[0m"
      ]
     },
     "metadata": {},
     "output_type": "display_data"
    }
   ],
   "source": [
    "returns_pln[:USA_Net]\n"
   ]
  },
  {
   "cell_type": "code",
   "execution_count": 127,
   "metadata": {},
   "outputs": [
    {
     "name": "stdout",
     "output_type": "stream",
     "text": [
      "0.09847987951285313\n",
      "0.14936298492263206\n"
     ]
    },
    {
     "data": {
      "text/html": [
       "<table>\n",
       "  <thead>\n",
       "    <tr class = \"header headerLastRow\">\n",
       "      <th class = \"rowLabel\" style = \"font-weight: bold; text-align: right;\"></th>\n",
       "      <th style = \"text-align: right;\">1</th>\n",
       "      <th style = \"text-align: right;\">2</th>\n",
       "      <th style = \"text-align: right;\">3</th>\n",
       "      <th style = \"text-align: right;\">4</th>\n",
       "      <th style = \"text-align: right;\">5</th>\n",
       "      <th style = \"text-align: right;\">6</th>\n",
       "      <th style = \"text-align: right;\">7</th>\n",
       "      <th style = \"text-align: right;\">8</th>\n",
       "      <th style = \"text-align: right;\">9</th>\n",
       "      <th style = \"text-align: right;\">10</th>\n",
       "      <th style = \"text-align: right;\">11</th>\n",
       "      <th style = \"text-align: right;\">12</th>\n",
       "      <th style = \"text-align: right;\">13</th>\n",
       "      <th style = \"text-align: right;\">14</th>\n",
       "      <th style = \"text-align: right;\">15</th>\n",
       "    </tr>\n",
       "  </thead>\n",
       "  <tbody>\n",
       "    <tr>\n",
       "      <td class = \"rowLabel\" style = \"font-weight: bold; text-align: right;\">0.02</td>\n",
       "      <td style = \"text-align: right;\">-0.205</td>\n",
       "      <td style = \"text-align: right;\">-0.2062</td>\n",
       "      <td style = \"text-align: right;\">-0.2086</td>\n",
       "      <td style = \"text-align: right;\">-0.2089</td>\n",
       "      <td style = \"text-align: right;\">-0.2069</td>\n",
       "      <td style = \"text-align: right;\">-0.21</td>\n",
       "      <td style = \"text-align: right;\">-0.2003</td>\n",
       "      <td style = \"text-align: right;\">-0.2033</td>\n",
       "      <td style = \"text-align: right;\">-0.2176</td>\n",
       "      <td style = \"text-align: right;\">-0.2108</td>\n",
       "      <td style = \"text-align: right;\">-0.2122</td>\n",
       "      <td style = \"text-align: right;\">-0.2043</td>\n",
       "      <td style = \"text-align: right;\">-0.2078</td>\n",
       "      <td style = \"text-align: right;\">-0.2056</td>\n",
       "      <td style = \"text-align: right;\">-0.2118</td>\n",
       "    </tr>\n",
       "    <tr>\n",
       "      <td class = \"rowLabel\" style = \"font-weight: bold; text-align: right;\">0.25</td>\n",
       "      <td style = \"text-align: right;\">-0.0037</td>\n",
       "      <td style = \"text-align: right;\">-0.0016</td>\n",
       "      <td style = \"text-align: right;\">-0.0029</td>\n",
       "      <td style = \"text-align: right;\">0.0001</td>\n",
       "      <td style = \"text-align: right;\">0.0002</td>\n",
       "      <td style = \"text-align: right;\">-0.0013</td>\n",
       "      <td style = \"text-align: right;\">-0.0006</td>\n",
       "      <td style = \"text-align: right;\">0.0002</td>\n",
       "      <td style = \"text-align: right;\">-0.0032</td>\n",
       "      <td style = \"text-align: right;\">-0.0024</td>\n",
       "      <td style = \"text-align: right;\">-0.0016</td>\n",
       "      <td style = \"text-align: right;\">0.0003</td>\n",
       "      <td style = \"text-align: right;\">-0.0021</td>\n",
       "      <td style = \"text-align: right;\">-0.0014</td>\n",
       "      <td style = \"text-align: right;\">-0.0099</td>\n",
       "    </tr>\n",
       "    <tr>\n",
       "      <td class = \"rowLabel\" style = \"font-weight: bold; text-align: right;\">0.5</td>\n",
       "      <td style = \"text-align: right;\">0.0992</td>\n",
       "      <td style = \"text-align: right;\">0.1004</td>\n",
       "      <td style = \"text-align: right;\">0.0985</td>\n",
       "      <td style = \"text-align: right;\">0.1005</td>\n",
       "      <td style = \"text-align: right;\">0.0974</td>\n",
       "      <td style = \"text-align: right;\">0.0993</td>\n",
       "      <td style = \"text-align: right;\">0.1004</td>\n",
       "      <td style = \"text-align: right;\">0.1017</td>\n",
       "      <td style = \"text-align: right;\">0.0966</td>\n",
       "      <td style = \"text-align: right;\">0.1011</td>\n",
       "      <td style = \"text-align: right;\">0.0994</td>\n",
       "      <td style = \"text-align: right;\">0.0998</td>\n",
       "      <td style = \"text-align: right;\">0.0993</td>\n",
       "      <td style = \"text-align: right;\">0.1018</td>\n",
       "      <td style = \"text-align: right;\">0.0934</td>\n",
       "    </tr>\n",
       "    <tr>\n",
       "      <td class = \"rowLabel\" style = \"font-weight: bold; text-align: right;\">0.75</td>\n",
       "      <td style = \"text-align: right;\">0.2014</td>\n",
       "      <td style = \"text-align: right;\">0.2002</td>\n",
       "      <td style = \"text-align: right;\">0.1998</td>\n",
       "      <td style = \"text-align: right;\">0.1982</td>\n",
       "      <td style = \"text-align: right;\">0.1994</td>\n",
       "      <td style = \"text-align: right;\">0.1992</td>\n",
       "      <td style = \"text-align: right;\">0.1999</td>\n",
       "      <td style = \"text-align: right;\">0.2006</td>\n",
       "      <td style = \"text-align: right;\">0.1965</td>\n",
       "      <td style = \"text-align: right;\">0.2013</td>\n",
       "      <td style = \"text-align: right;\">0.2006</td>\n",
       "      <td style = \"text-align: right;\">0.2019</td>\n",
       "      <td style = \"text-align: right;\">0.1993</td>\n",
       "      <td style = \"text-align: right;\">0.2032</td>\n",
       "      <td style = \"text-align: right;\">0.1955</td>\n",
       "    </tr>\n",
       "    <tr>\n",
       "      <td class = \"rowLabel\" style = \"font-weight: bold; text-align: right;\">0.98</td>\n",
       "      <td style = \"text-align: right;\">0.4066</td>\n",
       "      <td style = \"text-align: right;\">0.4037</td>\n",
       "      <td style = \"text-align: right;\">0.4069</td>\n",
       "      <td style = \"text-align: right;\">0.4043</td>\n",
       "      <td style = \"text-align: right;\">0.4037</td>\n",
       "      <td style = \"text-align: right;\">0.4029</td>\n",
       "      <td style = \"text-align: right;\">0.4057</td>\n",
       "      <td style = \"text-align: right;\">0.4075</td>\n",
       "      <td style = \"text-align: right;\">0.4123</td>\n",
       "      <td style = \"text-align: right;\">0.411</td>\n",
       "      <td style = \"text-align: right;\">0.4041</td>\n",
       "      <td style = \"text-align: right;\">0.4002</td>\n",
       "      <td style = \"text-align: right;\">0.407</td>\n",
       "      <td style = \"text-align: right;\">0.4075</td>\n",
       "      <td style = \"text-align: right;\">0.4006</td>\n",
       "    </tr>\n",
       "  </tbody>\n",
       "</table>\n"
      ]
     },
     "metadata": {},
     "output_type": "display_data"
    }
   ],
   "source": [
    "# US PLN acwi_scenarios\n",
    "mean_us_pln = mean(values(returns_pln[:USA_Net])) .* 12\n",
    "std_us_pln = std(values(returns_pln[:USA_Net])) .* 12^0.5\n",
    "println(mean_us_pln)\n",
    "println(std_us_pln)\n",
    "scenarios_us_pln = rand(Normal(mean_us_pln, std_us_pln), 10_000, 15)\n",
    "print_percentiles(scenarios_us_pln, [0.02, 0.25, 0.5, 0.75, 0.98])"
   ]
  },
  {
   "cell_type": "code",
   "execution_count": 128,
   "metadata": {},
   "outputs": [
    {
     "name": "stdout",
     "output_type": "stream",
     "text": [
      "0.09847987951285309\n",
      "0.14936298492263203\n"
     ]
    },
    {
     "data": {
      "text/html": [
       "<table>\n",
       "  <thead>\n",
       "    <tr class = \"header headerLastRow\">\n",
       "      <th class = \"rowLabel\" style = \"font-weight: bold; text-align: right;\"></th>\n",
       "      <th style = \"text-align: right;\">1</th>\n",
       "      <th style = \"text-align: right;\">2</th>\n",
       "      <th style = \"text-align: right;\">3</th>\n",
       "      <th style = \"text-align: right;\">4</th>\n",
       "      <th style = \"text-align: right;\">5</th>\n",
       "      <th style = \"text-align: right;\">6</th>\n",
       "      <th style = \"text-align: right;\">7</th>\n",
       "      <th style = \"text-align: right;\">8</th>\n",
       "      <th style = \"text-align: right;\">9</th>\n",
       "      <th style = \"text-align: right;\">10</th>\n",
       "      <th style = \"text-align: right;\">11</th>\n",
       "      <th style = \"text-align: right;\">12</th>\n",
       "      <th style = \"text-align: right;\">13</th>\n",
       "      <th style = \"text-align: right;\">14</th>\n",
       "      <th style = \"text-align: right;\">15</th>\n",
       "    </tr>\n",
       "  </thead>\n",
       "  <tbody>\n",
       "    <tr>\n",
       "      <td class = \"rowLabel\" style = \"font-weight: bold; text-align: right;\">0.02</td>\n",
       "      <td style = \"text-align: right;\">-0.2109</td>\n",
       "      <td style = \"text-align: right;\">-0.2115</td>\n",
       "      <td style = \"text-align: right;\">-0.2053</td>\n",
       "      <td style = \"text-align: right;\">-0.2099</td>\n",
       "      <td style = \"text-align: right;\">-0.2047</td>\n",
       "      <td style = \"text-align: right;\">-0.2105</td>\n",
       "      <td style = \"text-align: right;\">-0.2117</td>\n",
       "      <td style = \"text-align: right;\">-0.2104</td>\n",
       "      <td style = \"text-align: right;\">-0.2016</td>\n",
       "      <td style = \"text-align: right;\">-0.2157</td>\n",
       "      <td style = \"text-align: right;\">-0.2085</td>\n",
       "      <td style = \"text-align: right;\">-0.2114</td>\n",
       "      <td style = \"text-align: right;\">-0.2082</td>\n",
       "      <td style = \"text-align: right;\">-0.2091</td>\n",
       "      <td style = \"text-align: right;\">-0.2067</td>\n",
       "    </tr>\n",
       "    <tr>\n",
       "      <td class = \"rowLabel\" style = \"font-weight: bold; text-align: right;\">0.25</td>\n",
       "      <td style = \"text-align: right;\">-0.0015</td>\n",
       "      <td style = \"text-align: right;\">-0.0054</td>\n",
       "      <td style = \"text-align: right;\">-0.001</td>\n",
       "      <td style = \"text-align: right;\">-0.0038</td>\n",
       "      <td style = \"text-align: right;\">-0.0037</td>\n",
       "      <td style = \"text-align: right;\">-0.0002</td>\n",
       "      <td style = \"text-align: right;\">-0.0013</td>\n",
       "      <td style = \"text-align: right;\">-0.0012</td>\n",
       "      <td style = \"text-align: right;\">-0.0031</td>\n",
       "      <td style = \"text-align: right;\">-0.0061</td>\n",
       "      <td style = \"text-align: right;\">-0.0049</td>\n",
       "      <td style = \"text-align: right;\">-0.0019</td>\n",
       "      <td style = \"text-align: right;\">-0.0019</td>\n",
       "      <td style = \"text-align: right;\">0.0003</td>\n",
       "      <td style = \"text-align: right;\">-0.003</td>\n",
       "    </tr>\n",
       "    <tr>\n",
       "      <td class = \"rowLabel\" style = \"font-weight: bold; text-align: right;\">0.5</td>\n",
       "      <td style = \"text-align: right;\">0.0993</td>\n",
       "      <td style = \"text-align: right;\">0.0968</td>\n",
       "      <td style = \"text-align: right;\">0.0954</td>\n",
       "      <td style = \"text-align: right;\">0.0957</td>\n",
       "      <td style = \"text-align: right;\">0.0984</td>\n",
       "      <td style = \"text-align: right;\">0.1001</td>\n",
       "      <td style = \"text-align: right;\">0.0972</td>\n",
       "      <td style = \"text-align: right;\">0.0987</td>\n",
       "      <td style = \"text-align: right;\">0.098</td>\n",
       "      <td style = \"text-align: right;\">0.094</td>\n",
       "      <td style = \"text-align: right;\">0.097</td>\n",
       "      <td style = \"text-align: right;\">0.0976</td>\n",
       "      <td style = \"text-align: right;\">0.1002</td>\n",
       "      <td style = \"text-align: right;\">0.0999</td>\n",
       "      <td style = \"text-align: right;\">0.0986</td>\n",
       "    </tr>\n",
       "    <tr>\n",
       "      <td class = \"rowLabel\" style = \"font-weight: bold; text-align: right;\">0.75</td>\n",
       "      <td style = \"text-align: right;\">0.1999</td>\n",
       "      <td style = \"text-align: right;\">0.1953</td>\n",
       "      <td style = \"text-align: right;\">0.1956</td>\n",
       "      <td style = \"text-align: right;\">0.1981</td>\n",
       "      <td style = \"text-align: right;\">0.1987</td>\n",
       "      <td style = \"text-align: right;\">0.1987</td>\n",
       "      <td style = \"text-align: right;\">0.2018</td>\n",
       "      <td style = \"text-align: right;\">0.1982</td>\n",
       "      <td style = \"text-align: right;\">0.1997</td>\n",
       "      <td style = \"text-align: right;\">0.1993</td>\n",
       "      <td style = \"text-align: right;\">0.1991</td>\n",
       "      <td style = \"text-align: right;\">0.1987</td>\n",
       "      <td style = \"text-align: right;\">0.2013</td>\n",
       "      <td style = \"text-align: right;\">0.1991</td>\n",
       "      <td style = \"text-align: right;\">0.1975</td>\n",
       "    </tr>\n",
       "    <tr>\n",
       "      <td class = \"rowLabel\" style = \"font-weight: bold; text-align: right;\">0.98</td>\n",
       "      <td style = \"text-align: right;\">0.4118</td>\n",
       "      <td style = \"text-align: right;\">0.404</td>\n",
       "      <td style = \"text-align: right;\">0.4088</td>\n",
       "      <td style = \"text-align: right;\">0.4005</td>\n",
       "      <td style = \"text-align: right;\">0.4044</td>\n",
       "      <td style = \"text-align: right;\">0.4033</td>\n",
       "      <td style = \"text-align: right;\">0.4157</td>\n",
       "      <td style = \"text-align: right;\">0.4068</td>\n",
       "      <td style = \"text-align: right;\">0.4066</td>\n",
       "      <td style = \"text-align: right;\">0.4149</td>\n",
       "      <td style = \"text-align: right;\">0.4114</td>\n",
       "      <td style = \"text-align: right;\">0.4035</td>\n",
       "      <td style = \"text-align: right;\">0.4049</td>\n",
       "      <td style = \"text-align: right;\">0.398</td>\n",
       "      <td style = \"text-align: right;\">0.4037</td>\n",
       "    </tr>\n",
       "  </tbody>\n",
       "</table>\n"
      ]
     },
     "metadata": {},
     "output_type": "display_data"
    }
   ],
   "source": [
    "#US USD\n",
    "mean_us_usd = mean(values(returns_usd[:USA_Net][Date(2003,01,01):Date(2024,03,31)])) .* 12\n",
    "std_us_usd = std(values(returns_usd[:USA_Net][Date(2003,01,01):Date(2024,03,31)])) .* 12^0.5\n",
    "println(mean_us_usd)\n",
    "println(std_us_usd)\n",
    "scenarios_us_usd = rand(Normal(mean_us_usd, std_us_usd), 10_000, 15)\n",
    "print_percentiles(scenarios_us_usd, [0.02, 0.25, 0.5, 0.75, 0.98])"
   ]
  },
  {
   "cell_type": "code",
   "execution_count": 129,
   "metadata": {},
   "outputs": [
    {
     "name": "stdout",
     "output_type": "stream",
     "text": [
      "0.001941683280832559\n",
      "0.13377549414442894\n"
     ]
    },
    {
     "data": {
      "text/html": [
       "<table>\n",
       "  <thead>\n",
       "    <tr class = \"header headerLastRow\">\n",
       "      <th class = \"rowLabel\" style = \"font-weight: bold; text-align: right;\"></th>\n",
       "      <th style = \"text-align: right;\">1</th>\n",
       "      <th style = \"text-align: right;\">2</th>\n",
       "      <th style = \"text-align: right;\">3</th>\n",
       "      <th style = \"text-align: right;\">4</th>\n",
       "      <th style = \"text-align: right;\">5</th>\n",
       "      <th style = \"text-align: right;\">6</th>\n",
       "      <th style = \"text-align: right;\">7</th>\n",
       "      <th style = \"text-align: right;\">8</th>\n",
       "      <th style = \"text-align: right;\">9</th>\n",
       "      <th style = \"text-align: right;\">10</th>\n",
       "      <th style = \"text-align: right;\">11</th>\n",
       "      <th style = \"text-align: right;\">12</th>\n",
       "      <th style = \"text-align: right;\">13</th>\n",
       "      <th style = \"text-align: right;\">14</th>\n",
       "      <th style = \"text-align: right;\">15</th>\n",
       "    </tr>\n",
       "  </thead>\n",
       "  <tbody>\n",
       "    <tr>\n",
       "      <td class = \"rowLabel\" style = \"font-weight: bold; text-align: right;\">0.02</td>\n",
       "      <td style = \"text-align: right;\">-0.276</td>\n",
       "      <td style = \"text-align: right;\">-0.2729</td>\n",
       "      <td style = \"text-align: right;\">-0.2705</td>\n",
       "      <td style = \"text-align: right;\">-0.2715</td>\n",
       "      <td style = \"text-align: right;\">-0.2701</td>\n",
       "      <td style = \"text-align: right;\">-0.2753</td>\n",
       "      <td style = \"text-align: right;\">-0.2691</td>\n",
       "      <td style = \"text-align: right;\">-0.2704</td>\n",
       "      <td style = \"text-align: right;\">-0.2726</td>\n",
       "      <td style = \"text-align: right;\">-0.27</td>\n",
       "      <td style = \"text-align: right;\">-0.2752</td>\n",
       "      <td style = \"text-align: right;\">-0.2679</td>\n",
       "      <td style = \"text-align: right;\">-0.2694</td>\n",
       "      <td style = \"text-align: right;\">-0.2703</td>\n",
       "      <td style = \"text-align: right;\">-0.2762</td>\n",
       "    </tr>\n",
       "    <tr>\n",
       "      <td class = \"rowLabel\" style = \"font-weight: bold; text-align: right;\">0.25</td>\n",
       "      <td style = \"text-align: right;\">-0.0897</td>\n",
       "      <td style = \"text-align: right;\">-0.087</td>\n",
       "      <td style = \"text-align: right;\">-0.0884</td>\n",
       "      <td style = \"text-align: right;\">-0.0907</td>\n",
       "      <td style = \"text-align: right;\">-0.0875</td>\n",
       "      <td style = \"text-align: right;\">-0.0871</td>\n",
       "      <td style = \"text-align: right;\">-0.0868</td>\n",
       "      <td style = \"text-align: right;\">-0.088</td>\n",
       "      <td style = \"text-align: right;\">-0.0836</td>\n",
       "      <td style = \"text-align: right;\">-0.0891</td>\n",
       "      <td style = \"text-align: right;\">-0.0884</td>\n",
       "      <td style = \"text-align: right;\">-0.0887</td>\n",
       "      <td style = \"text-align: right;\">-0.0915</td>\n",
       "      <td style = \"text-align: right;\">-0.0879</td>\n",
       "      <td style = \"text-align: right;\">-0.0894</td>\n",
       "    </tr>\n",
       "    <tr>\n",
       "      <td class = \"rowLabel\" style = \"font-weight: bold; text-align: right;\">0.5</td>\n",
       "      <td style = \"text-align: right;\">-0.0013</td>\n",
       "      <td style = \"text-align: right;\">0.0018</td>\n",
       "      <td style = \"text-align: right;\">-0.0016</td>\n",
       "      <td style = \"text-align: right;\">-0.001</td>\n",
       "      <td style = \"text-align: right;\">0.0003</td>\n",
       "      <td style = \"text-align: right;\">0.0024</td>\n",
       "      <td style = \"text-align: right;\">0.0027</td>\n",
       "      <td style = \"text-align: right;\">0.0047</td>\n",
       "      <td style = \"text-align: right;\">0.0073</td>\n",
       "      <td style = \"text-align: right;\">-0.0001</td>\n",
       "      <td style = \"text-align: right;\">0.0048</td>\n",
       "      <td style = \"text-align: right;\">0.0002</td>\n",
       "      <td style = \"text-align: right;\">-0.0014</td>\n",
       "      <td style = \"text-align: right;\">0.0018</td>\n",
       "      <td style = \"text-align: right;\">0.0016</td>\n",
       "    </tr>\n",
       "    <tr>\n",
       "      <td class = \"rowLabel\" style = \"font-weight: bold; text-align: right;\">0.75</td>\n",
       "      <td style = \"text-align: right;\">0.0907</td>\n",
       "      <td style = \"text-align: right;\">0.0909</td>\n",
       "      <td style = \"text-align: right;\">0.0882</td>\n",
       "      <td style = \"text-align: right;\">0.0902</td>\n",
       "      <td style = \"text-align: right;\">0.0906</td>\n",
       "      <td style = \"text-align: right;\">0.0935</td>\n",
       "      <td style = \"text-align: right;\">0.0949</td>\n",
       "      <td style = \"text-align: right;\">0.0931</td>\n",
       "      <td style = \"text-align: right;\">0.0958</td>\n",
       "      <td style = \"text-align: right;\">0.0888</td>\n",
       "      <td style = \"text-align: right;\">0.0951</td>\n",
       "      <td style = \"text-align: right;\">0.0919</td>\n",
       "      <td style = \"text-align: right;\">0.0915</td>\n",
       "      <td style = \"text-align: right;\">0.09</td>\n",
       "      <td style = \"text-align: right;\">0.0925</td>\n",
       "    </tr>\n",
       "    <tr>\n",
       "      <td class = \"rowLabel\" style = \"font-weight: bold; text-align: right;\">0.98</td>\n",
       "      <td style = \"text-align: right;\">0.2699</td>\n",
       "      <td style = \"text-align: right;\">0.2693</td>\n",
       "      <td style = \"text-align: right;\">0.282</td>\n",
       "      <td style = \"text-align: right;\">0.2775</td>\n",
       "      <td style = \"text-align: right;\">0.2723</td>\n",
       "      <td style = \"text-align: right;\">0.2777</td>\n",
       "      <td style = \"text-align: right;\">0.2754</td>\n",
       "      <td style = \"text-align: right;\">0.2783</td>\n",
       "      <td style = \"text-align: right;\">0.2789</td>\n",
       "      <td style = \"text-align: right;\">0.2781</td>\n",
       "      <td style = \"text-align: right;\">0.2761</td>\n",
       "      <td style = \"text-align: right;\">0.2768</td>\n",
       "      <td style = \"text-align: right;\">0.2806</td>\n",
       "      <td style = \"text-align: right;\">0.2736</td>\n",
       "      <td style = \"text-align: right;\">0.271</td>\n",
       "    </tr>\n",
       "  </tbody>\n",
       "</table>\n"
      ]
     },
     "metadata": {},
     "output_type": "display_data"
    }
   ],
   "source": [
    "#USD_PLN\n",
    "mean_usd = mean(values(usdpln[:USDPLN][Date(2003,01,01):Date(2024,03,31)])) .* 12\n",
    "std_usd = std(values(usdpln[:USDPLN][Date(2003,01,01):Date(2024,03,31)])) .* 12^0.5\n",
    "println(mean_usd)\n",
    "println(std_usd)\n",
    "scenarios_usd = rand(Normal(mean_usd, std_usd), 10_000, 15)\n",
    "print_percentiles(scenarios_usd, [0.02, 0.25, 0.5, 0.75, 0.98])"
   ]
  },
  {
   "cell_type": "code",
   "execution_count": 134,
   "metadata": {},
   "outputs": [
    {
     "data": {
      "text/plain": [
       "255×2 Matrix{Float64}:\n",
       " -0.00183031  -0.0248446\n",
       "  0.0232042   -0.0159343\n",
       "  0.0473925    0.00886423\n",
       " -0.0730861    0.0798764\n",
       " -0.0258057    0.0517369\n",
       "  0.0484517    0.011892\n",
       " -0.00834497   0.0179915\n",
       "  0.0264423    0.0181089\n",
       " -0.00586097  -0.0120244\n",
       "  0.0196198    0.055064\n",
       "  ⋮           \n",
       " -0.0151447    0.033567\n",
       "  0.0293288   -0.0175258\n",
       "  0.0576333   -0.0483353\n",
       " -0.0361159   -0.0235616\n",
       " -0.0525834    0.0895259\n",
       " -0.0158441    0.0456572\n",
       "  0.0175065    0.0151977\n",
       " -0.00252589   0.0518111\n",
       " -0.00107732   0.0309855"
      ]
     },
     "metadata": {},
     "output_type": "display_data"
    }
   ],
   "source": [
    "[values(usdpln[:USDPLN][Date(2003,01,01):Date(2024,03,31)]) values(returns_usd[:USA_Net][Date(2003,01,01):Date(2024,03,31)])]"
   ]
  },
  {
   "cell_type": "code",
   "execution_count": 140,
   "metadata": {},
   "outputs": [
    {
     "data": {
      "text/plain": [
       "10000×1 Matrix{Vector{Float64}}:\n",
       " [0.3575832583622808, 1.6732334806721625]\n",
       " [0.1549972145628999, 1.1874016815996702]\n",
       " [0.05142250974786279, 1.461658805221778]\n",
       " [-0.08970842894367514, 1.650065371231431]\n",
       " [-0.12903938479427213, 1.5506294461510766]\n",
       " [0.10403576921932381, 1.6644681454997674]\n",
       " [0.12784266311465856, 1.4967154026977514]\n",
       " [-0.06060034317685287, 1.2149700254838955]\n",
       " [-0.21166566514617868, 1.3782318725839808]\n",
       " [0.07876734984065628, 1.5020811021398848]\n",
       " ⋮\n",
       " [0.0257741573486331, 1.3957332134724634]\n",
       " [0.10154216257266722, 1.3838258443297897]\n",
       " [0.1462968075231839, 1.6988051914210798]\n",
       " [0.18067599418551245, 1.5419473489568443]\n",
       " [-0.1374445342081316, 1.590133719077167]\n",
       " [0.23002793303644967, 1.5513479636382548]\n",
       " [0.014098641619554417, 1.3267242947802018]\n",
       " [-0.14558933868139035, 1.3428040592754105]\n",
       " [0.13067468849430183, 1.4739669359709842]"
      ]
     },
     "metadata": {},
     "output_type": "display_data"
    }
   ],
   "source": [
    "cov_us_usdpln = cov([values(usdpln[:USDPLN][Date(2003,01,01):Date(2024,03,31)]) values(returns_usd[:USA_Net][Date(2003,01,01):Date(2024,03,31)])])\n",
    "MvNormal([mean_usd, mean_us_usd], cov_us_usdpln)\n",
    "scenarios_merge = rand(MvNormal([mean_usd, mean_us_usd], cov_us_usdpln), 10_000, 15)\n"
   ]
  },
  {
   "cell_type": "code",
   "execution_count": 143,
   "metadata": {},
   "outputs": [
    {
     "data": {
      "text/plain": [
       "15×1 TimeArray{Float64, 1, Date, Vector{Float64}} 2023-01-31 to 2024-03-31\n",
       "┌────────────┬─────────────┐\n",
       "│\u001b[1m            \u001b[0m│\u001b[1m USDPLN      \u001b[0m│\n",
       "├────────────┼─────────────┤\n",
       "│ 2023-01-31 │  -0.0103425 │\n",
       "│ 2023-02-28 │    0.014964 │\n",
       "│ 2023-03-31 │  -0.0151937 │\n",
       "│ 2023-04-30 │  -0.0511262 │\n",
       "│ 2023-05-31 │  -0.0324525 │\n",
       "│ 2023-06-30 │  -0.0746935 │\n",
       "│ 2023-07-31 │  -0.0898381 │\n",
       "│ 2023-08-31 │  -0.0605093 │\n",
       "│ 2023-09-30 │ -0.00287607 │\n",
       "│ 2023-10-31 │   -0.038992 │\n",
       "│ 2023-11-30 │  -0.0915754 │\n",
       "│ 2023-12-31 │    -0.10742 │\n",
       "│ 2024-01-31 │  -0.0899131 │\n",
       "│ 2024-02-29 │  -0.0924389 │\n",
       "│ 2024-03-31 │  -0.0935163 │\n",
       "└────────────┴─────────────┘"
      ]
     },
     "metadata": {},
     "output_type": "display_data"
    }
   ],
   "source": [
    "cumsum(usdpln[Date(2023,01,01):Date(2024, 03, 31)])"
   ]
  }
 ],
 "metadata": {
  "kernelspec": {
   "display_name": "Julia 1.10.2",
   "language": "julia",
   "name": "julia-1.10"
  },
  "language_info": {
   "file_extension": ".jl",
   "mimetype": "application/julia",
   "name": "julia",
   "version": "1.10.2"
  }
 },
 "nbformat": 4,
 "nbformat_minor": 2
}
