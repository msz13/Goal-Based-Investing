{
 "cells": [
  {
   "cell_type": "code",
   "execution_count": 5,
   "metadata": {},
   "outputs": [
    {
     "data": {
      "text/plain": [
       "print_percentiles (generic function with 3 methods)"
      ]
     },
     "metadata": {},
     "output_type": "display_data"
    }
   ],
   "source": [
    "using XLSX\n",
    "using DataFrames, TimeSeries\n",
    "using StatsPlots\n",
    "using Plots\n",
    "using LinearAlgebra\n",
    "using CSV\n",
    "using StatsBase\n",
    "using GLM\n",
    "using Distributions\n",
    "include(\"../utils.jl\")\n"
   ]
  },
  {
   "cell_type": "code",
   "execution_count": 34,
   "metadata": {},
   "outputs": [
    {
     "data": {
      "text/plain": [
       "255×7 TimeArray{Float64, 2, Date, Matrix{Float64}} 2003-01-31 to 2024-03-31\n",
       "┌────────────┬────────────┬──────────────┬─────────────┬──────────────┬─────────\n",
       "│\u001b[1m            \u001b[0m│\u001b[1m USA_Net    \u001b[0m│\u001b[1m World_ex_USA \u001b[0m│\u001b[1m EM_Net      \u001b[0m│\u001b[1m ACWI_Net_PLN \u001b[0m│\u001b[1m MwigTR\u001b[0m ⋯\n",
       "├────────────┼────────────┼──────────────┼─────────────┼──────────────┼─────────\n",
       "│ 2003-01-31 │ -0.0266749 │   -0.0406774 │ -0.00625046 │   -0.0317079 │  -0.04 ⋯\n",
       "│ 2003-02-28 │ 0.00726988 │   0.00329481 │  -0.0052946 │   0.00510351 │ -0.001 ⋯\n",
       "│ 2003-03-31 │  0.0562568 │    0.0279324 │   0.0184186 │    0.0430687 │  -0.00 ⋯\n",
       "│ 2003-04-30 │ 0.00679028 │    0.0185517 │   0.0121064 │    0.0118412 │   0.03 ⋯\n",
       "│ 2003-05-31 │  0.0259313 │    0.0343688 │   0.0432507 │    0.0300993 │   0.05 ⋯\n",
       "│ 2003-06-30 │  0.0603436 │     0.072454 │    0.103591 │    0.0670022 │   0.01 ⋯\n",
       "│ 2003-07-31 │ 0.00964655 │    0.0143379 │   0.0519813 │    0.0132941 │    0.1 ⋯\n",
       "│ 2003-08-31 │  0.0445512 │    0.0519011 │   0.0912158 │    0.0495565 │    0.1 ⋯\n",
       "│     ⋮      │     ⋮      │      ⋮       │      ⋮      │      ⋮       │      ⋮ ⋱\n",
       "│ 2023-09-30 │ 0.00929794 │    0.0233377 │   0.0311338 │    0.0154043 │  -0.04 ⋯\n",
       "│ 2023-10-31 │ -0.0596775 │   -0.0792422 │  -0.0757449 │    -0.066645 │   0.04 ⋯\n",
       "│ 2023-11-30 │  0.0369425 │    0.0372363 │   0.0244049 │    0.0356998 │    0.0 ⋯\n",
       "│ 2023-12-31 │  0.0298131 │    0.0373777 │   0.0225045 │    0.0310713 │   0.04 ⋯\n",
       "│ 2024-01-31 │  0.0327042 │    0.0218035 │  -0.0300387 │    0.0233511 │   0.01 ⋯\n",
       "│ 2024-02-29 │  0.0492852 │    0.0144025 │   0.0439491 │    0.0394925 │   0.06 ⋯\n",
       "│ 2024-03-31 │  0.0299082 │    0.0321069 │   0.0234005 │    0.0298368 │    0.0 ⋯\n",
       "└────────────┴────────────┴──────────────┴─────────────┴──────────────┴─────────\n",
       "\u001b[36m                                                  3 columns and 240 rows omitted\u001b[0m"
      ]
     },
     "metadata": {},
     "output_type": "display_data"
    }
   ],
   "source": [
    "columns = [:Date, :USA_Net, :World_ex_USA, :EM_Net, :ACWI_Net_PLN, :MwigTR, :WIG20TR, :B10YPL]\n",
    "data_df = DataFrame(XLSX.readtable(\"../data/assets_data_03.24.xlsx\", \"Indexes_PLN\"; infer_eltypes=true))[2:end, columns]\n",
    "dropmissing!(data_df, disallowmissing=true)\n",
    "returns_pln = data_df |> \n",
    "            x -> TimeArray(x; timestamp = :Date) |> \n",
    "            x -> from(x, Date(2002,12,01)) |>\n",
    "            x -> percentchange(x, :log)"
   ]
  },
  {
   "cell_type": "code",
   "execution_count": 35,
   "metadata": {},
   "outputs": [
    {
     "data": {
      "text/plain": [
       "200×5 TimeArray{Float64, 2, Date, Matrix{Float64}} 2007-08-31 to 2024-03-31\n",
       "┌────────────┬─────────┬─────────┬────────┬─────────┬───────────┐\n",
       "│\u001b[1m            \u001b[0m│\u001b[1m USDPLN  \u001b[0m│\u001b[1m WIBOR3m \u001b[0m│\u001b[1m CPIPLM \u001b[0m│\u001b[1m Y10PL   \u001b[0m│\u001b[1m MWig40_dy \u001b[0m│\n",
       "├────────────┼─────────┼─────────┼────────┼─────────┼───────────┤\n",
       "│ 2007-08-31 │  2.8059 │  0.0503 │ -0.004 │ 0.05789 │   0.00668 │\n",
       "│ 2007-09-30 │  2.6495 │   0.051 │  0.008 │   0.057 │   0.00778 │\n",
       "│ 2007-10-31 │   2.508 │  0.0521 │  0.006 │ 0.05514 │   0.00775 │\n",
       "│ 2007-11-30 │  2.4568 │  0.0556 │  0.007 │ 0.05777 │    0.0093 │\n",
       "│ 2007-12-31 │  2.4465 │   0.057 │  0.003 │ 0.05916 │    0.0095 │\n",
       "│ 2008-01-31 │  2.4312 │  0.0565 │  0.007 │ 0.05688 │     0.011 │\n",
       "│ 2008-02-29 │  2.3123 │  0.0594 │  0.004 │ 0.05973 │    0.0118 │\n",
       "│ 2008-03-31 │  2.2266 │  0.0615 │  0.004 │ 0.05971 │    0.0188 │\n",
       "│     ⋮      │    ⋮    │    ⋮    │   ⋮    │    ⋮    │     ⋮     │\n",
       "│ 2023-09-30 │ 4.36773 │  0.0577 │ -0.004 │ 0.05899 │   0.03415 │\n",
       "│ 2023-10-31 │  4.2128 │  0.0566 │  0.003 │ 0.05654 │   0.03013 │\n",
       "│ 2023-11-30 │   3.997 │  0.0583 │  0.007 │ 0.05502 │   0.02995 │\n",
       "│ 2023-12-31 │ 3.93417 │  0.0588 │  0.001 │ 0.05217 │    0.0291 │\n",
       "│ 2024-01-31 │ 4.00365 │  0.0586 │  0.004 │ 0.05226 │   0.02643 │\n",
       "│ 2024-02-29 │ 3.99355 │  0.0586 │  0.003 │ 0.05312 │   0.03451 │\n",
       "│ 2024-03-31 │ 3.98925 │  0.0588 │  0.002 │ 0.05432 │   0.03081 │\n",
       "└────────────┴─────────┴─────────┴────────┴─────────┴───────────┘\n",
       "\u001b[36m                                                 185 rows omitted\u001b[0m"
      ]
     },
     "metadata": {},
     "output_type": "display_data"
    }
   ],
   "source": [
    "data_df = DataFrame(XLSX.readtable(\"../data/assets_data_03.24.xlsx\", \"Macro_month\"; infer_eltypes=true))[:,[:Date, :USDPLN, :WIBOR3m, :CPIPLM, :Y10PL, :MWig40_dy]]\n",
    "dropmissing!(data_df, disallowmissing=true)\n",
    "macro_pl = data_df |> x -> TimeArray(x; timestamp = :Date)  |> x -> from(x,Date(2003,01,01)) "
   ]
  },
  {
   "cell_type": "code",
   "execution_count": 36,
   "metadata": {},
   "outputs": [
    {
     "data": {
      "text/plain": [
       "255×4 TimeArray{Float64, 2, Date, Matrix{Float64}} 2003-01-31 to 2024-03-31\n",
       "┌────────────┬─────────────┬────────────┬──────────────┬─────────────┐\n",
       "│\u001b[1m            \u001b[0m│\u001b[1m ACWI_Net    \u001b[0m│\u001b[1m USA_Net    \u001b[0m│\u001b[1m World_ex_USA \u001b[0m│\u001b[1m EM_Net      \u001b[0m│\n",
       "├────────────┼─────────────┼────────────┼──────────────┼─────────────┤\n",
       "│ 2003-01-31 │  -0.0298776 │ -0.0248446 │   -0.0388471 │ -0.00442015 │\n",
       "│ 2003-02-28 │  -0.0181007 │ -0.0159343 │   -0.0199094 │  -0.0284988 │\n",
       "│ 2003-03-31 │ -0.00432387 │ 0.00886423 │   -0.0194601 │  -0.0289739 │\n",
       "│ 2003-04-30 │   0.0849273 │  0.0798764 │    0.0916379 │   0.0851925 │\n",
       "│ 2003-05-31 │   0.0559049 │  0.0517369 │    0.0601744 │   0.0690563 │\n",
       "│ 2003-06-30 │   0.0185506 │   0.011892 │    0.0240024 │   0.0551391 │\n",
       "│ 2003-07-31 │   0.0216391 │  0.0179915 │    0.0226828 │   0.0603263 │\n",
       "│ 2003-08-31 │   0.0231143 │  0.0181089 │    0.0254588 │   0.0647735 │\n",
       "│     ⋮      │      ⋮      │     ⋮      │      ⋮       │      ⋮      │\n",
       "│ 2023-09-30 │   -0.042229 │ -0.0483353 │   -0.0342956 │  -0.0264995 │\n",
       "│ 2023-10-31 │   -0.030529 │ -0.0235616 │   -0.0431263 │   -0.039629 │\n",
       "│ 2023-11-30 │   0.0882833 │  0.0895259 │    0.0898198 │   0.0769883 │\n",
       "│ 2023-12-31 │   0.0469154 │  0.0456572 │    0.0532219 │   0.0383487 │\n",
       "│ 2024-01-31 │  0.00584454 │  0.0151977 │   0.00429701 │  -0.0475452 │\n",
       "│ 2024-02-29 │   0.0420184 │  0.0518111 │    0.0169284 │    0.046475 │\n",
       "│ 2024-03-31 │   0.0309141 │  0.0309855 │    0.0331842 │   0.0244778 │\n",
       "└────────────┴─────────────┴────────────┴──────────────┴─────────────┘\n",
       "\u001b[36m                                                      240 rows omitted\u001b[0m"
      ]
     },
     "metadata": {},
     "output_type": "display_data"
    }
   ],
   "source": [
    "columns = [:Date, :ACWI_Net, :USA_Net, :World_ex_USA, :EM_Net]\n",
    "data_df = DataFrame(XLSX.readtable(\"../data/assets_data_03.24.xlsx\", \"Indexes\"; infer_eltypes=true))[2:end, columns]\n",
    "dropmissing!(data_df, disallowmissing=true)\n",
    "returns_usd = data_df |> \n",
    "            x -> TimeArray(x; timestamp = :Date) |> \n",
    "            x -> percentchange(x, :log) |>\n",
    "            x -> from(x, Date(2003,01,01))"
   ]
  },
  {
   "cell_type": "code",
   "execution_count": 37,
   "metadata": {},
   "outputs": [
    {
     "data": {
      "text/html": [
       "<table>\n",
       "  <thead>\n",
       "    <tr class = \"header headerLastRow\">\n",
       "      <th class = \"rowLabel\" style = \"font-weight: bold; text-align: right;\"></th>\n",
       "      <th style = \"text-align: right;\">std</th>\n",
       "      <th style = \"text-align: right;\">max</th>\n",
       "      <th style = \"text-align: right;\">mean</th>\n",
       "      <th style = \"text-align: right;\">p75th</th>\n",
       "      <th style = \"text-align: right;\">min</th>\n",
       "      <th style = \"text-align: right;\">skewness</th>\n",
       "      <th style = \"text-align: right;\">p25th</th>\n",
       "      <th style = \"text-align: right;\">autocor</th>\n",
       "      <th style = \"text-align: right;\">kurtosis</th>\n",
       "      <th style = \"text-align: right;\">sr</th>\n",
       "      <th style = \"text-align: right;\">median</th>\n",
       "    </tr>\n",
       "  </thead>\n",
       "  <tbody>\n",
       "    <tr>\n",
       "      <td class = \"rowLabel\" style = \"font-weight: bold; text-align: right;\">USA_Net</td>\n",
       "      <td style = \"text-align: right;\">0.1347</td>\n",
       "      <td style = \"text-align: right;\">1.5289</td>\n",
       "      <td style = \"text-align: right;\">0.1004</td>\n",
       "      <td style = \"text-align: right;\">0.4178</td>\n",
       "      <td style = \"text-align: right;\">-1.2983</td>\n",
       "      <td style = \"text-align: right;\">0.0051</td>\n",
       "      <td style = \"text-align: right;\">-0.2361</td>\n",
       "      <td style = \"text-align: right;\">-0.014</td>\n",
       "      <td style = \"text-align: right;\">0.3335</td>\n",
       "      <td style = \"text-align: right;\">0.7454</td>\n",
       "      <td style = \"text-align: right;\">0.1033</td>\n",
       "    </tr>\n",
       "    <tr>\n",
       "      <td class = \"rowLabel\" style = \"font-weight: bold; text-align: right;\">World_ex_USA</td>\n",
       "      <td style = \"text-align: right;\">0.1188</td>\n",
       "      <td style = \"text-align: right;\">1.0878</td>\n",
       "      <td style = \"text-align: right;\">0.0722</td>\n",
       "      <td style = \"text-align: right;\">0.3375</td>\n",
       "      <td style = \"text-align: right;\">-1.227</td>\n",
       "      <td style = \"text-align: right;\">-0.5023</td>\n",
       "      <td style = \"text-align: right;\">-0.1221</td>\n",
       "      <td style = \"text-align: right;\">0.0573</td>\n",
       "      <td style = \"text-align: right;\">1.0008</td>\n",
       "      <td style = \"text-align: right;\">0.6074</td>\n",
       "      <td style = \"text-align: right;\">0.0787</td>\n",
       "    </tr>\n",
       "    <tr>\n",
       "      <td class = \"rowLabel\" style = \"font-weight: bold; text-align: right;\">EM_Net</td>\n",
       "      <td style = \"text-align: right;\">0.1546</td>\n",
       "      <td style = \"text-align: right;\">1.3323</td>\n",
       "      <td style = \"text-align: right;\">0.0861</td>\n",
       "      <td style = \"text-align: right;\">0.3766</td>\n",
       "      <td style = \"text-align: right;\">-2.2655</td>\n",
       "      <td style = \"text-align: right;\">-0.6946</td>\n",
       "      <td style = \"text-align: right;\">-0.1961</td>\n",
       "      <td style = \"text-align: right;\">0.0823</td>\n",
       "      <td style = \"text-align: right;\">1.8558</td>\n",
       "      <td style = \"text-align: right;\">0.5571</td>\n",
       "      <td style = \"text-align: right;\">0.1184</td>\n",
       "    </tr>\n",
       "    <tr>\n",
       "      <td class = \"rowLabel\" style = \"font-weight: bold; text-align: right;\">ACWI_Net_PLN</td>\n",
       "      <td style = \"text-align: right;\">0.121</td>\n",
       "      <td style = \"text-align: right;\">1.2714</td>\n",
       "      <td style = \"text-align: right;\">0.0879</td>\n",
       "      <td style = \"text-align: right;\">0.3596</td>\n",
       "      <td style = \"text-align: right;\">-1.2476</td>\n",
       "      <td style = \"text-align: right;\">-0.3241</td>\n",
       "      <td style = \"text-align: right;\">-0.1698</td>\n",
       "      <td style = \"text-align: right;\">0.0111</td>\n",
       "      <td style = \"text-align: right;\">0.6767</td>\n",
       "      <td style = \"text-align: right;\">0.7263</td>\n",
       "      <td style = \"text-align: right;\">0.0957</td>\n",
       "    </tr>\n",
       "    <tr>\n",
       "      <td class = \"rowLabel\" style = \"font-weight: bold; text-align: right;\">MwigTR</td>\n",
       "      <td style = \"text-align: right;\">0.2181</td>\n",
       "      <td style = \"text-align: right;\">2.403</td>\n",
       "      <td style = \"text-align: right;\">0.1155</td>\n",
       "      <td style = \"text-align: right;\">0.4835</td>\n",
       "      <td style = \"text-align: right;\">-3.8898</td>\n",
       "      <td style = \"text-align: right;\">-0.6628</td>\n",
       "      <td style = \"text-align: right;\">-0.2993</td>\n",
       "      <td style = \"text-align: right;\">0.1952</td>\n",
       "      <td style = \"text-align: right;\">3.7443</td>\n",
       "      <td style = \"text-align: right;\">0.5296</td>\n",
       "      <td style = \"text-align: right;\">0.1475</td>\n",
       "    </tr>\n",
       "    <tr>\n",
       "      <td class = \"rowLabel\" style = \"font-weight: bold; text-align: right;\">WIG20TR</td>\n",
       "      <td style = \"text-align: right;\">0.2199</td>\n",
       "      <td style = \"text-align: right;\">2.2594</td>\n",
       "      <td style = \"text-align: right;\">0.0705</td>\n",
       "      <td style = \"text-align: right;\">0.594</td>\n",
       "      <td style = \"text-align: right;\">-3.2019</td>\n",
       "      <td style = \"text-align: right;\">-0.3645</td>\n",
       "      <td style = \"text-align: right;\">-0.4047</td>\n",
       "      <td style = \"text-align: right;\">0.0087</td>\n",
       "      <td style = \"text-align: right;\">1.0945</td>\n",
       "      <td style = \"text-align: right;\">0.3205</td>\n",
       "      <td style = \"text-align: right;\">0.1144</td>\n",
       "    </tr>\n",
       "    <tr>\n",
       "      <td class = \"rowLabel\" style = \"font-weight: bold; text-align: right;\">B10YPL</td>\n",
       "      <td style = \"text-align: right;\">0.0895</td>\n",
       "      <td style = \"text-align: right;\">1.5024</td>\n",
       "      <td style = \"text-align: right;\">0.0444</td>\n",
       "      <td style = \"text-align: right;\">0.206</td>\n",
       "      <td style = \"text-align: right;\">-1.0138</td>\n",
       "      <td style = \"text-align: right;\">0.0388</td>\n",
       "      <td style = \"text-align: right;\">-0.1158</td>\n",
       "      <td style = \"text-align: right;\">0.0204</td>\n",
       "      <td style = \"text-align: right;\">3.1919</td>\n",
       "      <td style = \"text-align: right;\">0.4963</td>\n",
       "      <td style = \"text-align: right;\">0.0604</td>\n",
       "    </tr>\n",
       "  </tbody>\n",
       "</table>\n"
      ]
     },
     "metadata": {},
     "output_type": "display_data"
    }
   ],
   "source": [
    "returns_summarystats(returns_pln, 12)"
   ]
  },
  {
   "cell_type": "code",
   "execution_count": 38,
   "metadata": {},
   "outputs": [
    {
     "data": {
      "text/html": [
       "<table>\n",
       "  <thead>\n",
       "    <tr class = \"header headerLastRow\">\n",
       "      <th class = \"rowLabel\" style = \"font-weight: bold; text-align: right;\"></th>\n",
       "      <th style = \"text-align: right;\">std</th>\n",
       "      <th style = \"text-align: right;\">max</th>\n",
       "      <th style = \"text-align: right;\">mean</th>\n",
       "      <th style = \"text-align: right;\">p75th</th>\n",
       "      <th style = \"text-align: right;\">min</th>\n",
       "      <th style = \"text-align: right;\">skewness</th>\n",
       "      <th style = \"text-align: right;\">p25th</th>\n",
       "      <th style = \"text-align: right;\">autocor</th>\n",
       "      <th style = \"text-align: right;\">kurtosis</th>\n",
       "      <th style = \"text-align: right;\">sr</th>\n",
       "      <th style = \"text-align: right;\">median</th>\n",
       "    </tr>\n",
       "  </thead>\n",
       "  <tbody>\n",
       "    <tr>\n",
       "      <td class = \"rowLabel\" style = \"font-weight: bold; text-align: right;\">ACWI_Net</td>\n",
       "      <td style = \"text-align: right;\">0.1566</td>\n",
       "      <td style = \"text-align: right;\">1.3949</td>\n",
       "      <td style = \"text-align: right;\">0.0859</td>\n",
       "      <td style = \"text-align: right;\">0.4036</td>\n",
       "      <td style = \"text-align: right;\">-2.65</td>\n",
       "      <td style = \"text-align: right;\">-0.9343</td>\n",
       "      <td style = \"text-align: right;\">-0.1938</td>\n",
       "      <td style = \"text-align: right;\">0.0946</td>\n",
       "      <td style = \"text-align: right;\">2.7364</td>\n",
       "      <td style = \"text-align: right;\">0.5487</td>\n",
       "      <td style = \"text-align: right;\">0.1571</td>\n",
       "    </tr>\n",
       "    <tr>\n",
       "      <td class = \"rowLabel\" style = \"font-weight: bold; text-align: right;\">USA_Net</td>\n",
       "      <td style = \"text-align: right;\">0.1494</td>\n",
       "      <td style = \"text-align: right;\">1.4788</td>\n",
       "      <td style = \"text-align: right;\">0.0985</td>\n",
       "      <td style = \"text-align: right;\">0.4065</td>\n",
       "      <td style = \"text-align: right;\">-2.257</td>\n",
       "      <td style = \"text-align: right;\">-0.7909</td>\n",
       "      <td style = \"text-align: right;\">-0.1905</td>\n",
       "      <td style = \"text-align: right;\">0.0391</td>\n",
       "      <td style = \"text-align: right;\">1.8967</td>\n",
       "      <td style = \"text-align: right;\">0.6593</td>\n",
       "      <td style = \"text-align: right;\">0.1537</td>\n",
       "    </tr>\n",
       "    <tr>\n",
       "      <td class = \"rowLabel\" style = \"font-weight: bold; text-align: right;\">World_ex_USA</td>\n",
       "      <td style = \"text-align: right;\">0.168</td>\n",
       "      <td style = \"text-align: right;\">1.7129</td>\n",
       "      <td style = \"text-align: right;\">0.0702</td>\n",
       "      <td style = \"text-align: right;\">0.3971</td>\n",
       "      <td style = \"text-align: right;\">-2.7986</td>\n",
       "      <td style = \"text-align: right;\">-0.8513</td>\n",
       "      <td style = \"text-align: right;\">-0.2294</td>\n",
       "      <td style = \"text-align: right;\">0.1307</td>\n",
       "      <td style = \"text-align: right;\">2.6166</td>\n",
       "      <td style = \"text-align: right;\">0.4181</td>\n",
       "      <td style = \"text-align: right;\">0.1466</td>\n",
       "    </tr>\n",
       "    <tr>\n",
       "      <td class = \"rowLabel\" style = \"font-weight: bold; text-align: right;\">EM_Net</td>\n",
       "      <td style = \"text-align: right;\">0.2087</td>\n",
       "      <td style = \"text-align: right;\">1.893</td>\n",
       "      <td style = \"text-align: right;\">0.0842</td>\n",
       "      <td style = \"text-align: right;\">0.553</td>\n",
       "      <td style = \"text-align: right;\">-3.8371</td>\n",
       "      <td style = \"text-align: right;\">-0.8236</td>\n",
       "      <td style = \"text-align: right;\">-0.3169</td>\n",
       "      <td style = \"text-align: right;\">0.1393</td>\n",
       "      <td style = \"text-align: right;\">3.2059</td>\n",
       "      <td style = \"text-align: right;\">0.4033</td>\n",
       "      <td style = \"text-align: right;\">0.0995</td>\n",
       "    </tr>\n",
       "  </tbody>\n",
       "</table>\n"
      ]
     },
     "metadata": {},
     "output_type": "display_data"
    }
   ],
   "source": [
    "returns_summarystats(returns_usd,12)"
   ]
  },
  {
   "cell_type": "code",
   "execution_count": 39,
   "metadata": {},
   "outputs": [
    {
     "name": "stdout",
     "output_type": "stream",
     "text": [
      "StatsModels.TableRegressionModel{LinearModel{GLM.LmResp{Vector{Float64}}, GLM.DensePredChol{Float64, CholeskyPivoted{Float64, Matrix{Float64}, Vector{Int64}}}}, Matrix{Float64}}\n",
      "\n",
      "USA_Net ~ 1 + MwigTR\n",
      "\n",
      "Coefficients:\n",
      "──────────────────────────────────────────────────────────────────────────\n",
      "                  Coef.  Std. Error     t  Pr(>|t|)   Lower 95%  Upper 95%\n",
      "──────────────────────────────────────────────────────────────────────────\n",
      "(Intercept)  0.00641188  0.00233119  2.75    0.0064  0.00182088  0.0110029\n",
      "MwigTR       0.203303    0.0366745   5.54    <1e-07  0.131077    0.275529\n",
      "──────────────────────────────────────────────────────────────────────────\n",
      "0.1083063906939481\n"
     ]
    }
   ],
   "source": [
    "ols = lm(@formula(USA_Net ~ MwigTR), returns_pln)\n",
    "println(ols)\n",
    "println(r2(ols))"
   ]
  },
  {
   "cell_type": "code",
   "execution_count": 40,
   "metadata": {},
   "outputs": [
    {
     "name": "stdout",
     "output_type": "stream",
     "text": [
      "StatsModels.TableRegressionModel{LinearModel{GLM.LmResp{Vector{Float64}}, GLM.DensePredChol{Float64, CholeskyPivoted{Float64, Matrix{Float64}, Vector{Int64}}}}, Matrix{Float64}}\n",
      "\n",
      "MwigTR ~ 1 + USA_Net\n",
      "\n",
      "Coefficients:\n",
      "───────────────────────────────────────────────────────────────────────────\n",
      "                  Coef.  Std. Error     t  Pr(>|t|)    Lower 95%  Upper 95%\n",
      "───────────────────────────────────────────────────────────────────────────\n",
      "(Intercept)  0.00516582  0.00381585  1.35    0.1770  -0.00234906  0.0126807\n",
      "USA_Net      0.532734    0.0961017   5.54    <1e-07   0.343473    0.721996\n",
      "───────────────────────────────────────────────────────────────────────────\n",
      "0.1083063906939481\n"
     ]
    }
   ],
   "source": [
    "ols = lm(@formula(MwigTR ~ USA_Net), returns_pln)\n",
    "println(ols)\n",
    "println(r2(ols))"
   ]
  },
  {
   "cell_type": "code",
   "execution_count": 41,
   "metadata": {},
   "outputs": [
    {
     "name": "stdout",
     "output_type": "stream",
     "text": [
      "StatsModels.TableRegressionModel{LinearModel{GLM.LmResp{Vector{Float64}}, GLM.DensePredChol{Float64, CholeskyPivoted{Float64, Matrix{Float64}, Vector{Int64}}}}, Matrix{Float64}}\n",
      "\n",
      "MwigTR ~ 1 + USA_Net_1 + USA_Net\n",
      "\n",
      "Coefficients:\n",
      "───────────────────────────────────────────────────────────────────────────\n",
      "                  Coef.  Std. Error     t  Pr(>|t|)    Lower 95%  Upper 95%\n",
      "───────────────────────────────────────────────────────────────────────────\n",
      "(Intercept)  0.00505084  0.00392574  1.29    0.1994  -0.00268075  0.0127824\n",
      "USA_Net_1    0.0162215   0.0966403   0.17    0.8668  -0.174108    0.206551\n",
      "USA_Net      0.533366    0.0965437   5.52    <1e-07   0.343227    0.723505\n",
      "───────────────────────────────────────────────────────────────────────────\n",
      "0.10844136312972164\n"
     ]
    }
   ],
   "source": [
    "returns_lag = merge(returns_pln, TimeSeries.lead(returns_pln,1))\n",
    "ols = lm(@formula(MwigTR ~  USA_Net_1 + USA_Net), returns_lag)\n",
    "println(ols)\n",
    "println(r2(ols))"
   ]
  },
  {
   "cell_type": "code",
   "execution_count": 42,
   "metadata": {},
   "outputs": [
    {
     "name": "stdout",
     "output_type": "stream",
     "text": [
      "StatsModels.TableRegressionModel{LinearModel{GLM.LmResp{Vector{Float64}}, GLM.DensePredChol{Float64, CholeskyPivoted{Float64, Matrix{Float64}, Vector{Int64}}}}, Matrix{Float64}}\n",
      "\n",
      "World_ex_USA ~ 1 + MwigTR\n",
      "\n",
      "Coefficients:\n",
      "─────────────────────────────────────────────────────────────────────────────\n",
      "                  Coef.  Std. Error     t  Pr(>|t|)     Lower 95%   Upper 95%\n",
      "─────────────────────────────────────────────────────────────────────────────\n",
      "(Intercept)  0.00334466  0.00187423  1.78    0.0755  -0.000346408  0.00703574\n",
      "MwigTR       0.2775      0.0294855   9.41    <1e-17   0.219431     0.335568\n",
      "─────────────────────────────────────────────────────────────────────────────\n",
      "0.25931176486639196\n"
     ]
    }
   ],
   "source": [
    "ols = lm(@formula(World_ex_USA ~ MwigTR), returns_pln)\n",
    "println(ols)\n",
    "println(r2(ols))"
   ]
  },
  {
   "cell_type": "code",
   "execution_count": 43,
   "metadata": {},
   "outputs": [
    {
     "name": "stdout",
     "output_type": "stream",
     "text": [
      "StatsModels.TableRegressionModel{LinearModel{GLM.LmResp{Vector{Float64}}, GLM.DensePredChol{Float64, CholeskyPivoted{Float64, Matrix{Float64}, Vector{Int64}}}}, Matrix{Float64}}\n",
      "\n",
      "EM_Net ~ 1 + MwigTR\n",
      "\n",
      "Coefficients:\n",
      "────────────────────────────────────────────────────────────────────────────\n",
      "                  Coef.  Std. Error     t  Pr(>|t|)    Lower 95%   Upper 95%\n",
      "────────────────────────────────────────────────────────────────────────────\n",
      "(Intercept)  0.00371331  0.00244043  1.52    0.1294  -0.00109284  0.00851946\n",
      "MwigTR       0.359752    0.0383932   9.37    <1e-17   0.284141    0.435363\n",
      "────────────────────────────────────────────────────────────────────────────\n",
      "0.2576312062759857\n"
     ]
    }
   ],
   "source": [
    "ols = lm(@formula(EM_Net ~ MwigTR), returns_pln)\n",
    "println(ols)\n",
    "println(r2(ols))"
   ]
  },
  {
   "cell_type": "code",
   "execution_count": 44,
   "metadata": {},
   "outputs": [
    {
     "data": {
      "text/plain": [
       "435×3 TimeArray{Float64, 2, Date, Matrix{Float64}} 1988-01-31 to 2024-03-31\n",
       "┌────────────┬────────────┬──────────────┬─────────────┐\n",
       "│\u001b[1m            \u001b[0m│\u001b[1m USA_Net    \u001b[0m│\u001b[1m World_ex_USA \u001b[0m│\u001b[1m EM_Net      \u001b[0m│\n",
       "├────────────┼────────────┼──────────────┼─────────────┤\n",
       "│ 1988-01-31 │  0.0410122 │    0.0153553 │   0.0935834 │\n",
       "│ 1988-02-29 │  0.0401109 │    0.0640862 │   0.0031132 │\n",
       "│ 1988-03-31 │ -0.0349774 │    0.0592025 │     0.10175 │\n",
       "│ 1988-04-30 │ 0.00818061 │    0.0140195 │   0.0517417 │\n",
       "│ 1988-05-31 │ 0.00760205 │   -0.0326806 │   0.0292525 │\n",
       "│ 1988-06-30 │  0.0445733 │   -0.0229028 │   0.0331365 │\n",
       "│ 1988-07-31 │ -0.0040323 │    0.0288082 │  -0.0260317 │\n",
       "│ 1988-08-31 │  -0.035096 │   -0.0667177 │  -0.0274362 │\n",
       "│     ⋮      │     ⋮      │      ⋮       │      ⋮      │\n",
       "│ 2023-09-30 │ -0.0483353 │   -0.0342956 │  -0.0264995 │\n",
       "│ 2023-10-31 │ -0.0235616 │   -0.0431263 │   -0.039629 │\n",
       "│ 2023-11-30 │  0.0895259 │    0.0898198 │   0.0769883 │\n",
       "│ 2023-12-31 │  0.0456572 │    0.0532219 │   0.0383487 │\n",
       "│ 2024-01-31 │  0.0151977 │   0.00429701 │  -0.0475452 │\n",
       "│ 2024-02-29 │  0.0518111 │    0.0169284 │    0.046475 │\n",
       "│ 2024-03-31 │  0.0309855 │    0.0331842 │   0.0244778 │\n",
       "└────────────┴────────────┴──────────────┴─────────────┘\n",
       "\u001b[36m                                        420 rows omitted\u001b[0m"
      ]
     },
     "metadata": {},
     "output_type": "display_data"
    }
   ],
   "source": [
    "columns = [:Date, :USA_Net, :World_ex_USA, :EM_Net]\n",
    "data_df = DataFrame(XLSX.readtable(\"../data/assets_data_03.24.xlsx\", \"Indexes\"; infer_eltypes=true))[2:end, columns]\n",
    "dropmissing!(data_df, disallowmissing=true)\n",
    "returns_usd = data_df |> \n",
    "            x -> TimeArray(x; timestamp = :Date) |> \n",
    "            x -> percentchange(x, :log)"
   ]
  },
  {
   "cell_type": "code",
   "execution_count": 45,
   "metadata": {},
   "outputs": [
    {
     "name": "stdout",
     "output_type": "stream",
     "text": [
      "StatsModels.TableRegressionModel{LinearModel{GLM.LmResp{Vector{Float64}}, GLM.DensePredChol{Float64, CholeskyPivoted{Float64, Matrix{Float64}, Vector{Int64}}}}, Matrix{Float64}}\n",
      "\n",
      "USA_Net ~ 1 + MwigTR\n",
      "\n",
      "Coefficients:\n",
      "─────────────────────────────────────────────────────────────────────────────\n",
      "                  Coef.  Std. Error      t  Pr(>|t|)    Lower 95%   Upper 95%\n",
      "─────────────────────────────────────────────────────────────────────────────\n",
      "(Intercept)  0.00367412  0.00198719   1.85    0.0656  -0.00023942  0.00758766\n",
      "MwigTR       0.470963    0.0312627   15.06    <1e-36   0.409395    0.532531\n",
      "─────────────────────────────────────────────────────────────────────────────\n",
      "0.47285673857874166\n"
     ]
    }
   ],
   "source": [
    "data = merge(returns_pln[:MwigTR], returns_usd[:USA_Net])\n",
    "ols = lm(@formula(USA_Net ~ MwigTR), data)\n",
    "println(ols)\n",
    "println(r2(ols))"
   ]
  },
  {
   "cell_type": "code",
   "execution_count": 46,
   "metadata": {},
   "outputs": [
    {
     "data": {
      "text/plain": [
       "0.47058823529411764"
      ]
     },
     "metadata": {},
     "output_type": "display_data"
    }
   ],
   "source": [
    "# number of month wig20 > mwig40\n",
    "\n",
    "n_wig20Gr = values(returns_pln[:WIG20TR] .> returns_pln[:MwigTR])  |> count\n",
    "n_wig20Gr / length(returns_pln)\n"
   ]
  },
  {
   "cell_type": "code",
   "execution_count": 47,
   "metadata": {},
   "outputs": [
    {
     "ename": "UndefVarError",
     "evalue": "UndefVarError: `rf` not defined",
     "output_type": "error",
     "traceback": [
      "UndefVarError: `rf` not defined\n",
      "\n",
      "Stacktrace:\n",
      " [1] top-level scope\n",
      "   @ c:\\Users\\matsz\\programowanie\\Optymalizacja_portfela\\julia_msp\\eda\\jl_notebook_cell_df34fa98e69747e1a8f8a730347b8e2f_X20sZmlsZQ==.jl:1"
     ]
    }
   ],
   "source": [
    "bond_excess = returns_pln[:B10YPL] .- rf ./ 23 |>\n",
    "    x -> from(x, Date(2015,01,01)) |>\n",
    "    x -> to(x,  Date(2019,12,31)) \n",
    "\n",
    "returns_summarystats(bond_excess,12)"
   ]
  },
  {
   "cell_type": "code",
   "execution_count": 48,
   "metadata": {},
   "outputs": [
    {
     "data": {
      "text/plain": [
       "11-element Vector{Symbol}:\n",
       " :USA_Net\n",
       " :MwigTR\n",
       " :USA_Net_1\n",
       " :MwigTR_1\n",
       " :WIBOR3m\n",
       " :CPIPLM\n",
       " :MWig40_dy\n",
       " :WIBOR3m_1\n",
       " :CPIPLM_1\n",
       " :MWig40_dy_1\n",
       " :MWig40_dy_2"
      ]
     },
     "metadata": {},
     "output_type": "display_data"
    }
   ],
   "source": [
    "variables= merge(returns_pln[:USA_Net, :MwigTR], TimeSeries.lead(returns_pln[:USA_Net, :MwigTR]), macro_pl[:WIBOR3m, :CPIPLM, :MWig40_dy], TimeSeries.lead(macro_pl[:WIBOR3m, :CPIPLM, :MWig40_dy], 1), log.(TimeSeries.lead(macro_pl[:MWig40_dy],1)))\n",
    "colnames(variables)"
   ]
  },
  {
   "cell_type": "code",
   "execution_count": 49,
   "metadata": {},
   "outputs": [
    {
     "name": "stdout",
     "output_type": "stream",
     "text": [
      "StatsModels.TableRegressionModel{LinearModel{GLM.LmResp{Vector{Float64}}, GLM.DensePredChol{Float64, CholeskyPivoted{Float64, Matrix{Float64}, Vector{Int64}}}}, Matrix{Float64}}\n",
      "\n",
      "MwigTR ~ 1 + MWig40_dy_1\n",
      "\n",
      "Coefficients:\n",
      "────────────────────────────────────────────────────────────────────────────\n",
      "                  Coef.  Std. Error      t  Pr(>|t|)    Lower 95%  Upper 95%\n",
      "────────────────────────────────────────────────────────────────────────────\n",
      "(Intercept)   0.0156113  0.00978799   1.59    0.1123  -0.00369137   0.034914\n",
      "MWig40_dy_1  -0.543517   0.385743    -1.41    0.1604  -1.30423      0.217199\n",
      "────────────────────────────────────────────────────────────────────────────\n",
      "0.009977192877162144\n"
     ]
    }
   ],
   "source": [
    "ols = lm(@formula(MwigTR ~ MWig40_dy_1), variables)\n",
    "println(ols)\n",
    "println(r2(ols))"
   ]
  },
  {
   "cell_type": "code",
   "execution_count": 50,
   "metadata": {},
   "outputs": [
    {
     "name": "stdout",
     "output_type": "stream",
     "text": [
      "StatsModels.TableRegressionModel{LinearModel{GLM.LmResp{Vector{Float64}}, GLM.DensePredChol{Float64, CholeskyPivoted{Float64, Matrix{Float64}, Vector{Int64}}}}, Matrix{Float64}}\n",
      "\n",
      "MwigTR ~ 1 + MWig40_dy_2\n",
      "\n",
      "Coefficients:\n",
      "─────────────────────────────────────────────────────────────────────────────\n",
      "                  Coef.  Std. Error      t  Pr(>|t|)   Lower 95%    Upper 95%\n",
      "─────────────────────────────────────────────────────────────────────────────\n",
      "(Intercept)  -0.0517075  0.0299636   -1.73    0.0860  -0.110798   0.00738299\n",
      "MWig40_dy_2  -0.0139799  0.00754005  -1.85    0.0652  -0.0288495  0.000889673\n",
      "─────────────────────────────────────────────────────────────────────────────\n",
      "0.0171506453904694\n"
     ]
    }
   ],
   "source": [
    "ols = lm(@formula(MwigTR ~ MWig40_dy_2), variables)\n",
    "println(ols)\n",
    "println(r2(ols))"
   ]
  },
  {
   "cell_type": "code",
   "execution_count": 51,
   "metadata": {},
   "outputs": [
    {
     "name": "stdout",
     "output_type": "stream",
     "text": [
      "StatsModels.TableRegressionModel{LinearModel{GLM.LmResp{Vector{Float64}}, GLM.DensePredChol{Float64, CholeskyPivoted{Float64, Matrix{Float64}, Vector{Int64}}}}, Matrix{Float64}}\n",
      "\n",
      "MwigTR ~ 1 + MWig40_dy_1 + WIBOR3m_1 + CPIPLM_1\n",
      "\n",
      "Coefficients:\n",
      "─────────────────────────────────────────────────────────────────────────────\n",
      "                  Coef.  Std. Error      t  Pr(>|t|)    Lower 95%   Upper 95%\n",
      "─────────────────────────────────────────────────────────────────────────────\n",
      "(Intercept)   0.0327325    0.012211   2.68    0.0080   0.00864989   0.0568152\n",
      "MWig40_dy_1  -0.571674     0.38275   -1.49    0.1369  -1.32654      0.183187\n",
      "WIBOR3m_1    -0.466034     0.221212  -2.11    0.0364  -0.90231     -0.029758\n",
      "CPIPLM_1     -0.314899     0.86867   -0.36    0.7174  -2.02809      1.3983\n",
      "─────────────────────────────────────────────────────────────────────────────\n",
      "0.03658709151918704\n"
     ]
    }
   ],
   "source": [
    "ols = lm(@formula(MwigTR ~ MWig40_dy_1 + WIBOR3m_1 + CPIPLM_1), variables)\n",
    "println(ols)\n",
    "println(r2(ols))"
   ]
  },
  {
   "cell_type": "code",
   "execution_count": 52,
   "metadata": {},
   "outputs": [
    {
     "name": "stdout",
     "output_type": "stream",
     "text": [
      "StatsModels.TableRegressionModel{LinearModel{GLM.LmResp{Vector{Float64}}, GLM.DensePredChol{Float64, CholeskyPivoted{Float64, Matrix{Float64}, Vector{Int64}}}}, Matrix{Float64}}\n",
      "\n",
      "MwigTR ~ 1 + MWig40_dy + WIBOR3m + CPIPLM\n",
      "\n",
      "Coefficients:\n",
      "─────────────────────────────────────────────────────────────────────────────\n",
      "                  Coef.  Std. Error      t  Pr(>|t|)    Lower 95%   Upper 95%\n",
      "─────────────────────────────────────────────────────────────────────────────\n",
      "(Intercept)   0.0256318   0.0122461   2.09    0.0376   0.00147998   0.0497837\n",
      "MWig40_dy    -0.270922    0.382717   -0.71    0.4799  -1.02572      0.483875\n",
      "WIBOR3m      -0.539226    0.222151   -2.43    0.0161  -0.977353    -0.101098\n",
      "CPIPLM        0.574589    0.866285    0.66    0.5079  -1.1339       2.28308\n",
      "─────────────────────────────────────────────────────────────────────────────\n",
      "0.03097387311577282\n"
     ]
    }
   ],
   "source": [
    "ols = lm(@formula(MwigTR ~ MWig40_dy + WIBOR3m + CPIPLM), variables)\n",
    "println(ols)\n",
    "println(r2(ols))"
   ]
  },
  {
   "cell_type": "code",
   "execution_count": 53,
   "metadata": {},
   "outputs": [
    {
     "name": "stdout",
     "output_type": "stream",
     "text": [
      "StatsModels.TableRegressionModel{LinearModel{GLM.LmResp{Vector{Float64}}, GLM.DensePredChol{Float64, CholeskyPivoted{Float64, Matrix{Float64}, Vector{Int64}}}}, Matrix{Float64}}\n",
      "\n",
      "MwigTR ~ 1 + USA_Net_1 + MwigTR_1 + MWig40_dy_2 + WIBOR3m_1 + CPIPLM_1\n",
      "\n",
      "Coefficients:\n",
      "────────────────────────────────────────────────────────────────────────────\n",
      "                  Coef.  Std. Error      t  Pr(>|t|)   Lower 95%   Upper 95%\n",
      "────────────────────────────────────────────────────────────────────────────\n",
      "(Intercept)  -0.0339399  0.0303752   -1.12    0.2652  -0.0938499  0.0259701\n",
      "USA_Net_1    -0.0241344  0.115155    -0.21    0.8342  -0.251258   0.202989\n",
      "MwigTR_1      0.162877   0.0757914    2.15    0.0329   0.0133917  0.312363\n",
      "MWig40_dy_2  -0.0130343  0.00748843  -1.74    0.0833  -0.027804   0.00173534\n",
      "WIBOR3m_1    -0.401719   0.223161    -1.80    0.0734  -0.841866   0.0384285\n",
      "CPIPLM_1     -0.340294   0.861335    -0.40    0.6932  -2.03913    1.35855\n",
      "────────────────────────────────────────────────────────────────────────────\n",
      "0.0684314401337881\n"
     ]
    }
   ],
   "source": [
    "ols = lm(@formula(MwigTR ~ USA_Net_1 + MwigTR_1 + MWig40_dy_2 + WIBOR3m_1 + CPIPLM_1), variables)\n",
    "println(ols)\n",
    "println(r2(ols))"
   ]
  },
  {
   "cell_type": "code",
   "execution_count": 54,
   "metadata": {},
   "outputs": [
    {
     "name": "stdout",
     "output_type": "stream",
     "text": [
      "StatsModels.TableRegressionModel{LinearModel{GLM.LmResp{Vector{Float64}}, GLM.DensePredChol{Float64, CholeskyPivoted{Float64, Matrix{Float64}, Vector{Int64}}}}, Matrix{Float64}}\n",
      "\n",
      "MwigTR ~ 1 + USA_Net + MwigTR_1 + MWig40_dy_2 + WIBOR3m_1 + CPIPLM_1\n",
      "\n",
      "Coefficients:\n",
      "───────────────────────────────────────────────────────────────────────────\n",
      "                 Coef.  Std. Error      t  Pr(>|t|)   Lower 95%   Upper 95%\n",
      "───────────────────────────────────────────────────────────────────────────\n",
      "(Intercept)  -0.042868  0.0281679   -1.52    0.1297  -0.0984244  0.0126885\n",
      "USA_Net       0.535071  0.100848     5.31    <1e-06   0.336165   0.733978\n",
      "MwigTR_1      0.16832   0.066261     2.54    0.0119   0.0376315  0.299009\n",
      "MWig40_dy_2  -0.012387  0.00697844  -1.78    0.0775  -0.0261508  0.00137678\n",
      "WIBOR3m_1    -0.18859   0.211123    -0.89    0.3728  -0.604995   0.227815\n",
      "CPIPLM_1     -0.632898  0.805859    -0.79    0.4332  -2.22232    0.956523\n",
      "───────────────────────────────────────────────────────────────────────────\n",
      "0.18682646196909347\n"
     ]
    }
   ],
   "source": [
    "ols = lm(@formula(MwigTR ~ USA_Net + MwigTR_1 + MWig40_dy_2 + WIBOR3m_1 + CPIPLM_1), variables)\n",
    "println(ols)\n",
    "println(r2(ols))"
   ]
  },
  {
   "cell_type": "code",
   "execution_count": 55,
   "metadata": {},
   "outputs": [
    {
     "name": "stdout",
     "output_type": "stream",
     "text": [
      "StatsModels.TableRegressionModel{LinearModel{GLM.LmResp{Vector{Float64}}, GLM.DensePredChol{Float64, CholeskyPivoted{Float64, Matrix{Float64}, Vector{Int64}}}}, Matrix{Float64}}\n",
      "\n",
      "MwigTR ~ 1 + USA_Net + MwigTR_1 + MWig40_dy_2 + WIBOR3m + CPIPLM\n",
      "\n",
      "Coefficients:\n",
      "─────────────────────────────────────────────────────────────────────────────\n",
      "                  Coef.  Std. Error      t  Pr(>|t|)   Lower 95%    Upper 95%\n",
      "─────────────────────────────────────────────────────────────────────────────\n",
      "(Intercept)  -0.0454128  0.0281707   -1.61    0.1086  -0.100975   0.0101491\n",
      "USA_Net       0.53117    0.100463     5.29    <1e-06   0.333024   0.729316\n",
      "MwigTR_1      0.168966   0.065994     2.56    0.0112   0.0388042  0.299128\n",
      "MWig40_dy_2  -0.0129419  0.00695648  -1.86    0.0643  -0.0266624  0.000778583\n",
      "WIBOR3m      -0.309051   0.208714    -1.48    0.1403  -0.720704   0.102601\n",
      "CPIPLM        0.84222    0.797751     1.06    0.2924  -0.73121    2.41565\n",
      "─────────────────────────────────────────────────────────────────────────────\n",
      "0.18979547875941627\n"
     ]
    }
   ],
   "source": [
    "ols = lm(@formula(MwigTR ~ USA_Net + MwigTR_1 + MWig40_dy_2 + WIBOR3m + CPIPLM), variables)\n",
    "println(ols)\n",
    "println(r2(ols))"
   ]
  },
  {
   "cell_type": "code",
   "execution_count": 56,
   "metadata": {},
   "outputs": [
    {
     "name": "stdout",
     "output_type": "stream",
     "text": [
      "StatsModels.TableRegressionModel{LinearModel{GLM.LmResp{Vector{Float64}}, GLM.DensePredChol{Float64, CholeskyPivoted{Float64, Matrix{Float64}, Vector{Int64}}}}, Matrix{Float64}}\n",
      "\n",
      "MwigTR ~ 1 + MwigTR_1\n",
      "\n",
      "Coefficients:\n",
      "───────────────────────────────────────────────────────────────────────────\n",
      "                  Coef.  Std. Error     t  Pr(>|t|)    Lower 95%  Upper 95%\n",
      "───────────────────────────────────────────────────────────────────────────\n",
      "(Intercept)  0.00257948  0.00430802  0.60    0.5500  -0.00591626  0.0110752\n",
      "MwigTR_1     0.188414    0.0701444   2.69    0.0078   0.0500837   0.326744\n",
      "───────────────────────────────────────────────────────────────────────────\n",
      "0.0353307523248787\n"
     ]
    }
   ],
   "source": [
    "ols = lm(@formula(MwigTR ~ MwigTR_1), variables)\n",
    "println(ols)\n",
    "println(r2(ols))"
   ]
  },
  {
   "cell_type": "code",
   "execution_count": 57,
   "metadata": {},
   "outputs": [
    {
     "data": {
      "text/plain": [
       "5×5 Matrix{Float64}:\n",
       "  1.0    0.36  -0.16   0.0   -0.04\n",
       "  0.36   1.0   -0.17  -0.07   0.03\n",
       " -0.16  -0.17   1.0    0.27  -0.05\n",
       "  0.0   -0.07   0.27   1.0    0.02\n",
       " -0.04   0.03  -0.05   0.02   1.0"
      ]
     },
     "metadata": {},
     "output_type": "display_data"
    }
   ],
   "source": [
    "round.(cor(values(variables[:MwigTR, :USA_Net, :WIBOR3m, :CPIPLM, :MWig40_dy])), digits=2)"
   ]
  },
  {
   "cell_type": "markdown",
   "metadata": {},
   "source": [
    "#### mwig dy eda"
   ]
  },
  {
   "cell_type": "code",
   "execution_count": 58,
   "metadata": {},
   "outputs": [
    {
     "data": {
      "text/plain": [
       "70-element CSV.File:\n",
       " CSV.Row: (Date = String15(\"30.09.2007\"), Mwig = String7(\"4568,14\"), mWig_dy = String7(\"0,78%\"), d = String15(\"35,5401292\"), Column5 = String15(\"#ARG!\"))\n",
       " CSV.Row: (Date = String15(\"31.12.2007\"), Mwig = String7(\"4028,37\"), mWig_dy = String7(\"0,95%\"), d = String15(\"38,269515\"), Column5 = String15(\"7,40%\"))\n",
       " CSV.Row: (Date = String15(\"31.03.2008\"), Mwig = String7(\"3363,11\"), mWig_dy = String7(\"1,88%\"), d = String15(\"63,226468\"), Column5 = String15(\"50,21%\"))\n",
       " CSV.Row: (Date = String15(\"30.06.2008\"), Mwig = String7(\"2649,88\"), mWig_dy = String7(\"0,97%\"), d = String15(\"25,703836\"), Column5 = String15(\"-90,01%\"))\n",
       " CSV.Row: (Date = String15(\"30.09.2008\"), Mwig = String7(\"2252,23\"), mWig_dy = String7(\"1,61%\"), d = String15(\"36,260903\"), Column5 = String15(\"34,41%\"))\n",
       " CSV.Row: (Date = String15(\"31.12.2008\"), Mwig = String7(\"1511,27\"), mWig_dy = String7(\"2,53%\"), d = String15(\"38,235131\"), Column5 = String15(\"5,30%\"))\n",
       " CSV.Row: (Date = String15(\"31.03.2009\"), Mwig = String7(\"1381,68\"), mWig_dy = String7(\"1,47%\"), d = String15(\"20,310696\"), Column5 = String15(\"-63,26%\"))\n",
       " CSV.Row: (Date = String15(\"30.06.2009\"), Mwig = String7(\"1769,47\"), mWig_dy = String7(\"0,42%\"), d = String15(\"7,431774\"), Column5 = String15(\"-100,54%\"))\n",
       " CSV.Row: (Date = String15(\"30.09.2009\"), Mwig = String7(\"2258,99\"), mWig_dy = String7(\"0,66%\"), d = String15(\"14,909334\"), Column5 = String15(\"69,62%\"))\n",
       " CSV.Row: (Date = String15(\"31.12.2009\"), Mwig = String7(\"2346,14\"), mWig_dy = String7(\"0,75%\"), d = String15(\"17,59605\"), Column5 = String15(\"16,57%\"))\n",
       " ⋮\n",
       " CSV.Row: (Date = String15(\"31.12.2022\"), Mwig = String7(\"4154,32\"), mWig_dy = String7(\"3,12%\"), d = String15(\"129,407068\"), Column5 = String15(\"5,78%\"))\n",
       " CSV.Row: (Date = String15(\"31.03.2023\"), Mwig = String7(\"4504,04\"), mWig_dy = String7(\"2,66%\"), d = String15(\"119,7173832\"), Column5 = String15(\"-7,78%\"))\n",
       " CSV.Row: (Date = String15(\"30.06.2023\"), Mwig = String7(\"4852,03\"), mWig_dy = String7(\"2,61%\"), d = String15(\"126,7835439\"), Column5 = String15(\"5,73%\"))\n",
       " CSV.Row: (Date = String15(\"30.09.2023\"), Mwig = String7(\"4936,38\"), mWig_dy = String7(\"3,42%\"), d = String15(\"168,577377\"), Column5 = String15(\"28,49%\"))\n",
       " CSV.Row: (Date = String15(\"31.12.2023\"), Mwig = String7(\"5785,21\"), mWig_dy = String7(\"2,91%\"), d = String15(\"168,349611\"), Column5 = String15(\"-0,14%\"))\n",
       " CSV.Row: (Date = String15(\"31.03.2024\"), Mwig = String7(\"6326,51\"), mWig_dy = String7(\"3,08%\"), d = String15(\"194,9197731\"), Column5 = String15(\"14,65%\"))\n",
       " CSV.Row: (Date = String15(\"30.06.2024\"), Mwig = String7(\"6517,71\"), mWig_dy = String7(\"3,04%\"), d = String15(\"198,3990924\"), Column5 = String15(\"1,77%\"))\n",
       " CSV.Row: (Date = String15(\"30.09.2024\"), Mwig = String7(\"6201,66\"), mWig_dy = String7(\"3,44%\"), d = String15(\"213,1510542\"), Column5 = String15(\"7,17%\"))\n",
       " CSV.Row: (Date = missing, Mwig = missing, mWig_dy = missing, d = missing, Column5 = missing)"
      ]
     },
     "metadata": {},
     "output_type": "display_data"
    }
   ],
   "source": [
    "CSV.File(\"../data/mwig40price_dy.csv\", delim=';')"
   ]
  },
  {
   "cell_type": "code",
   "execution_count": 59,
   "metadata": {},
   "outputs": [
    {
     "ename": "MethodError",
     "evalue": "MethodError: no method matching TimeArray(::Vector{Union{Missing, String15}}, ::Matrix{Union{Missing, String15}}, ::Vector{Symbol}, ::CSV.File; unchecked::Bool)\n\nClosest candidates are:\n  TimeArray(!Matched::AbstractVector{D}, ::AbstractArray{T, N}, ::Vector{Symbol}, ::Any; args...) where {T, N, D<:TimeType}\n   @ TimeSeries C:\\Users\\matsz\\.julia\\packages\\TimeSeries\\zx7sJ\\src\\timearray.jl:89\n  TimeArray(!Matched::D, ::AbstractArray{T, N}, ::Vector{Symbol}, ::Any; args...) where {T, N, D<:TimeType}\n   @ TimeSeries C:\\Users\\matsz\\.julia\\packages\\TimeSeries\\zx7sJ\\src\\timearray.jl:94\n  TimeArray(!Matched::AbstractVector{D}, ::AbstractArray{T, N}, !Matched::Vector{S}, ::Any; args...) where {T, N, D<:TimeType, S<:AbstractString}\n   @ TimeSeries deprecated.jl:103\n  ...\n",
     "output_type": "error",
     "traceback": [
      "MethodError: no method matching TimeArray(::Vector{Union{Missing, String15}}, ::Matrix{Union{Missing, String15}}, ::Vector{Symbol}, ::CSV.File; unchecked::Bool)\n",
      "\n",
      "Closest candidates are:\n",
      "  TimeArray(!Matched::AbstractVector{D}, ::AbstractArray{T, N}, ::Vector{Symbol}, ::Any; args...) where {T, N, D<:TimeType}\n",
      "   @ TimeSeries C:\\Users\\matsz\\.julia\\packages\\TimeSeries\\zx7sJ\\src\\timearray.jl:89\n",
      "  TimeArray(!Matched::D, ::AbstractArray{T, N}, ::Vector{Symbol}, ::Any; args...) where {T, N, D<:TimeType}\n",
      "   @ TimeSeries C:\\Users\\matsz\\.julia\\packages\\TimeSeries\\zx7sJ\\src\\timearray.jl:94\n",
      "  TimeArray(!Matched::AbstractVector{D}, ::AbstractArray{T, N}, !Matched::Vector{S}, ::Any; args...) where {T, N, D<:TimeType, S<:AbstractString}\n",
      "   @ TimeSeries deprecated.jl:103\n",
      "  ...\n",
      "\n",
      "\n",
      "Stacktrace:\n",
      " [1] TimeArray(x::CSV.File; timestamp::Symbol, timeparser::Function, unchecked::Bool)\n",
      "   @ TimeSeries.TablesIntegration C:\\Users\\matsz\\.julia\\packages\\TimeSeries\\zx7sJ\\src\\tables.jl:88\n",
      " [2] top-level scope\n",
      "   @ c:\\Users\\matsz\\programowanie\\Optymalizacja_portfela\\julia_msp\\eda\\jl_notebook_cell_df34fa98e69747e1a8f8a730347b8e2f_X36sZmlsZQ==.jl:1"
     ]
    }
   ],
   "source": [
    "mwig = TimeArray(CSV.File(\"../data/mwig40price_dy.csv\", delim=';'), timestamp = :Date)"
   ]
  },
  {
   "cell_type": "code",
   "execution_count": 60,
   "metadata": {},
   "outputs": [
    {
     "ename": "ArgumentError",
     "evalue": "ArgumentError: Unable to parse date time. Expected directive Delim(/) at char 3",
     "output_type": "error",
     "traceback": [
      "ArgumentError: Unable to parse date time. Expected directive Delim(/) at char 3\n",
      "\n",
      "Stacktrace:\n",
      " [1] macro expansion\n",
      "   @ C:\\Users\\matsz\\.julia\\juliaup\\julia-1.10.2+0.x64.w64.mingw32\\share\\julia\\stdlib\\v1.10\\Dates\\src\\parse.jl:104 [inlined]\n",
      " [2] tryparsenext_core(str::SubString{String}, pos::Int64, len::Int64, df::DateFormat{Symbol(\"dd/mm/yyyy\"), Tuple{Dates.DatePart{'d'}, Dates.Delim{Char, 1}, Dates.DatePart{'m'}, Dates.Delim{Char, 1}, Dates.DatePart{'y'}}}, raise::Bool)\n",
      "   @ Dates C:\\Users\\matsz\\.julia\\juliaup\\julia-1.10.2+0.x64.w64.mingw32\\share\\julia\\stdlib\\v1.10\\Dates\\src\\parse.jl:38\n",
      " [3] macro expansion\n",
      "   @ C:\\Users\\matsz\\.julia\\juliaup\\julia-1.10.2+0.x64.w64.mingw32\\share\\julia\\stdlib\\v1.10\\Dates\\src\\parse.jl:150 [inlined]\n",
      " [4] tryparsenext_internal\n",
      "   @ C:\\Users\\matsz\\.julia\\juliaup\\julia-1.10.2+0.x64.w64.mingw32\\share\\julia\\stdlib\\v1.10\\Dates\\src\\parse.jl:125 [inlined]\n",
      " [5] parse(::Type{Date}, str::SubString{String}, df::DateFormat{Symbol(\"dd/mm/yyyy\"), Tuple{Dates.DatePart{'d'}, Dates.Delim{Char, 1}, Dates.DatePart{'m'}, Dates.Delim{Char, 1}, Dates.DatePart{'y'}}})\n",
      "   @ Dates C:\\Users\\matsz\\.julia\\juliaup\\julia-1.10.2+0.x64.w64.mingw32\\share\\julia\\stdlib\\v1.10\\Dates\\src\\parse.jl:284\n",
      " [6] Date(d::SubString{String}, df::DateFormat{Symbol(\"dd/mm/yyyy\"), Tuple{Dates.DatePart{'d'}, Dates.Delim{Char, 1}, Dates.DatePart{'m'}, Dates.Delim{Char, 1}, Dates.DatePart{'y'}}})\n",
      "   @ Dates C:\\Users\\matsz\\.julia\\juliaup\\julia-1.10.2+0.x64.w64.mingw32\\share\\julia\\stdlib\\v1.10\\Dates\\src\\io.jl:608\n",
      " [7] readtimearray(source::String; delim::Char, meta::Nothing, format::String, header::Bool)\n",
      "   @ TimeSeries C:\\Users\\matsz\\.julia\\packages\\TimeSeries\\zx7sJ\\src\\readwrite.jl:20\n",
      " [8] top-level scope\n",
      "   @ c:\\Users\\matsz\\programowanie\\Optymalizacja_portfela\\julia_msp\\eda\\jl_notebook_cell_df34fa98e69747e1a8f8a730347b8e2f_X40sZmlsZQ==.jl:1"
     ]
    }
   ],
   "source": [
    "readtimearray(\"../data/mwig40price_dy.csv\"; delim=';', format=\"dd/mm/yyyy\")"
   ]
  },
  {
   "cell_type": "code",
   "execution_count": 85,
   "metadata": {},
   "outputs": [
    {
     "data": {
      "text/html": [
       "<table>\n",
       "  <thead>\n",
       "    <tr class = \"header headerLastRow\">\n",
       "      <th class = \"rowLabel\" style = \"font-weight: bold; text-align: right;\"></th>\n",
       "      <th style = \"text-align: right;\">std</th>\n",
       "      <th style = \"text-align: right;\">max</th>\n",
       "      <th style = \"text-align: right;\">mean</th>\n",
       "      <th style = \"text-align: right;\">p75th</th>\n",
       "      <th style = \"text-align: right;\">min</th>\n",
       "      <th style = \"text-align: right;\">skewness</th>\n",
       "      <th style = \"text-align: right;\">p25th</th>\n",
       "      <th style = \"text-align: right;\">autocor</th>\n",
       "      <th style = \"text-align: right;\">kurtosis</th>\n",
       "      <th style = \"text-align: right;\">sr</th>\n",
       "      <th style = \"text-align: right;\">median</th>\n",
       "    </tr>\n",
       "  </thead>\n",
       "  <tbody>\n",
       "    <tr>\n",
       "      <td class = \"rowLabel\" style = \"font-weight: bold; text-align: right;\">USDPLN</td>\n",
       "      <td style = \"text-align: right;\">0.1288</td>\n",
       "      <td style = \"text-align: right;\">1.998</td>\n",
       "      <td style = \"text-align: right;\">0.0045</td>\n",
       "      <td style = \"text-align: right;\">0.2813</td>\n",
       "      <td style = \"text-align: right;\">-1.1283</td>\n",
       "      <td style = \"text-align: right;\">0.6829</td>\n",
       "      <td style = \"text-align: right;\">-0.2977</td>\n",
       "      <td style = \"text-align: right;\">0.061</td>\n",
       "      <td style = \"text-align: right;\">1.7837</td>\n",
       "      <td style = \"text-align: right;\">0.0351</td>\n",
       "      <td style = \"text-align: right;\">-0.0231</td>\n",
       "    </tr>\n",
       "  </tbody>\n",
       "</table>\n"
      ]
     },
     "metadata": {},
     "output_type": "display_data"
    }
   ],
   "source": [
    "columns = [:Date, :USDPLN]\n",
    "data_df = DataFrame(XLSX.readtable(\"../data/assets_data_03.24.xlsx\", \"Macro_month\"; infer_eltypes=true))[2:end, columns]\n",
    "dropmissing!(data_df, disallowmissing=true)\n",
    "usdpln = data_df |> \n",
    "            x -> TimeArray(x; timestamp = :Date) |>             \n",
    "            x -> percentchange(x, :log)\n",
    "\n",
    "returns_summarystats(usdpln, 12)"
   ]
  },
  {
   "cell_type": "code",
   "execution_count": 86,
   "metadata": {},
   "outputs": [
    {
     "data": {
      "text/plain": [
       "255×1 TimeArray{Float64, 1, Date, Vector{Float64}} 2003-01-31 to 2024-03-31\n",
       "┌────────────┬────────────┐\n",
       "│\u001b[1m            \u001b[0m│\u001b[1m USA_Net    \u001b[0m│\n",
       "├────────────┼────────────┤\n",
       "│ 2003-01-31 │ -0.0266749 │\n",
       "│ 2003-02-28 │ 0.00726988 │\n",
       "│ 2003-03-31 │  0.0562568 │\n",
       "│ 2003-04-30 │ 0.00679028 │\n",
       "│ 2003-05-31 │  0.0259313 │\n",
       "│ 2003-06-30 │  0.0603436 │\n",
       "│ 2003-07-31 │ 0.00964655 │\n",
       "│ 2003-08-31 │  0.0445512 │\n",
       "│     ⋮      │     ⋮      │\n",
       "│ 2023-09-30 │ 0.00929794 │\n",
       "│ 2023-10-31 │ -0.0596775 │\n",
       "│ 2023-11-30 │  0.0369425 │\n",
       "│ 2023-12-31 │  0.0298131 │\n",
       "│ 2024-01-31 │  0.0327042 │\n",
       "│ 2024-02-29 │  0.0492852 │\n",
       "│ 2024-03-31 │  0.0299082 │\n",
       "└────────────┴────────────┘\n",
       "\u001b[36m           240 rows omitted\u001b[0m"
      ]
     },
     "metadata": {},
     "output_type": "display_data"
    }
   ],
   "source": [
    "returns_pln[:USA_Net]\n"
   ]
  },
  {
   "cell_type": "code",
   "execution_count": 87,
   "metadata": {},
   "outputs": [
    {
     "name": "stdout",
     "output_type": "stream",
     "text": [
      "0.10042156279368566\n",
      "0.1347216700306306\n"
     ]
    },
    {
     "data": {
      "text/html": [
       "<table>\n",
       "  <thead>\n",
       "    <tr class = \"header headerLastRow\">\n",
       "      <th class = \"rowLabel\" style = \"font-weight: bold; text-align: right;\"></th>\n",
       "      <th style = \"text-align: right;\">1</th>\n",
       "      <th style = \"text-align: right;\">2</th>\n",
       "      <th style = \"text-align: right;\">3</th>\n",
       "      <th style = \"text-align: right;\">4</th>\n",
       "      <th style = \"text-align: right;\">5</th>\n",
       "      <th style = \"text-align: right;\">6</th>\n",
       "      <th style = \"text-align: right;\">7</th>\n",
       "      <th style = \"text-align: right;\">8</th>\n",
       "      <th style = \"text-align: right;\">9</th>\n",
       "      <th style = \"text-align: right;\">10</th>\n",
       "      <th style = \"text-align: right;\">11</th>\n",
       "      <th style = \"text-align: right;\">12</th>\n",
       "      <th style = \"text-align: right;\">13</th>\n",
       "      <th style = \"text-align: right;\">14</th>\n",
       "      <th style = \"text-align: right;\">15</th>\n",
       "    </tr>\n",
       "  </thead>\n",
       "  <tbody>\n",
       "    <tr>\n",
       "      <td class = \"rowLabel\" style = \"font-weight: bold; text-align: right;\">0.02</td>\n",
       "      <td style = \"text-align: right;\">-0.1832</td>\n",
       "      <td style = \"text-align: right;\">-0.1734</td>\n",
       "      <td style = \"text-align: right;\">-0.1736</td>\n",
       "      <td style = \"text-align: right;\">-0.1735</td>\n",
       "      <td style = \"text-align: right;\">-0.1775</td>\n",
       "      <td style = \"text-align: right;\">-0.1752</td>\n",
       "      <td style = \"text-align: right;\">-0.1783</td>\n",
       "      <td style = \"text-align: right;\">-0.1751</td>\n",
       "      <td style = \"text-align: right;\">-0.1762</td>\n",
       "      <td style = \"text-align: right;\">-0.1843</td>\n",
       "      <td style = \"text-align: right;\">-0.1776</td>\n",
       "      <td style = \"text-align: right;\">-0.173</td>\n",
       "      <td style = \"text-align: right;\">-0.1757</td>\n",
       "      <td style = \"text-align: right;\">-0.1841</td>\n",
       "      <td style = \"text-align: right;\">-0.1818</td>\n",
       "    </tr>\n",
       "    <tr>\n",
       "      <td class = \"rowLabel\" style = \"font-weight: bold; text-align: right;\">0.25</td>\n",
       "      <td style = \"text-align: right;\">0.0081</td>\n",
       "      <td style = \"text-align: right;\">0.0071</td>\n",
       "      <td style = \"text-align: right;\">0.0096</td>\n",
       "      <td style = \"text-align: right;\">0.0128</td>\n",
       "      <td style = \"text-align: right;\">0.0096</td>\n",
       "      <td style = \"text-align: right;\">0.0092</td>\n",
       "      <td style = \"text-align: right;\">0.0088</td>\n",
       "      <td style = \"text-align: right;\">0.0078</td>\n",
       "      <td style = \"text-align: right;\">0.0082</td>\n",
       "      <td style = \"text-align: right;\">0.0079</td>\n",
       "      <td style = \"text-align: right;\">0.0077</td>\n",
       "      <td style = \"text-align: right;\">0.0067</td>\n",
       "      <td style = \"text-align: right;\">0.0112</td>\n",
       "      <td style = \"text-align: right;\">0.0105</td>\n",
       "      <td style = \"text-align: right;\">0.0087</td>\n",
       "    </tr>\n",
       "    <tr>\n",
       "      <td class = \"rowLabel\" style = \"font-weight: bold; text-align: right;\">0.5</td>\n",
       "      <td style = \"text-align: right;\">0.0994</td>\n",
       "      <td style = \"text-align: right;\">0.0987</td>\n",
       "      <td style = \"text-align: right;\">0.1017</td>\n",
       "      <td style = \"text-align: right;\">0.1033</td>\n",
       "      <td style = \"text-align: right;\">0.1021</td>\n",
       "      <td style = \"text-align: right;\">0.0987</td>\n",
       "      <td style = \"text-align: right;\">0.1013</td>\n",
       "      <td style = \"text-align: right;\">0.0993</td>\n",
       "      <td style = \"text-align: right;\">0.0996</td>\n",
       "      <td style = \"text-align: right;\">0.1014</td>\n",
       "      <td style = \"text-align: right;\">0.1004</td>\n",
       "      <td style = \"text-align: right;\">0.0976</td>\n",
       "      <td style = \"text-align: right;\">0.1039</td>\n",
       "      <td style = \"text-align: right;\">0.1001</td>\n",
       "      <td style = \"text-align: right;\">0.1012</td>\n",
       "    </tr>\n",
       "    <tr>\n",
       "      <td class = \"rowLabel\" style = \"font-weight: bold; text-align: right;\">0.75</td>\n",
       "      <td style = \"text-align: right;\">0.1911</td>\n",
       "      <td style = \"text-align: right;\">0.1904</td>\n",
       "      <td style = \"text-align: right;\">0.192</td>\n",
       "      <td style = \"text-align: right;\">0.1944</td>\n",
       "      <td style = \"text-align: right;\">0.1894</td>\n",
       "      <td style = \"text-align: right;\">0.1891</td>\n",
       "      <td style = \"text-align: right;\">0.1906</td>\n",
       "      <td style = \"text-align: right;\">0.1895</td>\n",
       "      <td style = \"text-align: right;\">0.1888</td>\n",
       "      <td style = \"text-align: right;\">0.1935</td>\n",
       "      <td style = \"text-align: right;\">0.1922</td>\n",
       "      <td style = \"text-align: right;\">0.188</td>\n",
       "      <td style = \"text-align: right;\">0.1933</td>\n",
       "      <td style = \"text-align: right;\">0.1916</td>\n",
       "      <td style = \"text-align: right;\">0.1926</td>\n",
       "    </tr>\n",
       "    <tr>\n",
       "      <td class = \"rowLabel\" style = \"font-weight: bold; text-align: right;\">0.98</td>\n",
       "      <td style = \"text-align: right;\">0.3738</td>\n",
       "      <td style = \"text-align: right;\">0.3799</td>\n",
       "      <td style = \"text-align: right;\">0.3836</td>\n",
       "      <td style = \"text-align: right;\">0.3719</td>\n",
       "      <td style = \"text-align: right;\">0.3678</td>\n",
       "      <td style = \"text-align: right;\">0.3743</td>\n",
       "      <td style = \"text-align: right;\">0.3777</td>\n",
       "      <td style = \"text-align: right;\">0.3767</td>\n",
       "      <td style = \"text-align: right;\">0.3745</td>\n",
       "      <td style = \"text-align: right;\">0.3705</td>\n",
       "      <td style = \"text-align: right;\">0.3816</td>\n",
       "      <td style = \"text-align: right;\">0.3725</td>\n",
       "      <td style = \"text-align: right;\">0.3726</td>\n",
       "      <td style = \"text-align: right;\">0.3826</td>\n",
       "      <td style = \"text-align: right;\">0.3752</td>\n",
       "    </tr>\n",
       "  </tbody>\n",
       "</table>\n"
      ]
     },
     "metadata": {},
     "output_type": "display_data"
    }
   ],
   "source": [
    "# US PLN acwi_scenarios\n",
    "mean_us_pln = mean(values(returns_pln[:USA_Net])) .* 12\n",
    "std_us_pln = std(values(returns_pln[:USA_Net])) .* 12^0.5\n",
    "println(mean_us_pln)\n",
    "println(std_us_pln)\n",
    "scenarios_us_pln = rand(Normal(mean_us_pln, std_us_pln), 10_000, 15)\n",
    "print_percentiles(scenarios_us_pln, [0.02, 0.25, 0.5, 0.75, 0.98])"
   ]
  },
  {
   "cell_type": "code",
   "execution_count": 88,
   "metadata": {},
   "outputs": [
    {
     "name": "stdout",
     "output_type": "stream",
     "text": [
      "0.09847987951285309\n",
      "0.14936298492263203\n"
     ]
    },
    {
     "data": {
      "text/html": [
       "<table>\n",
       "  <thead>\n",
       "    <tr class = \"header headerLastRow\">\n",
       "      <th class = \"rowLabel\" style = \"font-weight: bold; text-align: right;\"></th>\n",
       "      <th style = \"text-align: right;\">1</th>\n",
       "      <th style = \"text-align: right;\">2</th>\n",
       "      <th style = \"text-align: right;\">3</th>\n",
       "      <th style = \"text-align: right;\">4</th>\n",
       "      <th style = \"text-align: right;\">5</th>\n",
       "      <th style = \"text-align: right;\">6</th>\n",
       "      <th style = \"text-align: right;\">7</th>\n",
       "      <th style = \"text-align: right;\">8</th>\n",
       "      <th style = \"text-align: right;\">9</th>\n",
       "      <th style = \"text-align: right;\">10</th>\n",
       "      <th style = \"text-align: right;\">11</th>\n",
       "      <th style = \"text-align: right;\">12</th>\n",
       "      <th style = \"text-align: right;\">13</th>\n",
       "      <th style = \"text-align: right;\">14</th>\n",
       "      <th style = \"text-align: right;\">15</th>\n",
       "    </tr>\n",
       "  </thead>\n",
       "  <tbody>\n",
       "    <tr>\n",
       "      <td class = \"rowLabel\" style = \"font-weight: bold; text-align: right;\">0.02</td>\n",
       "      <td style = \"text-align: right;\">-0.2119</td>\n",
       "      <td style = \"text-align: right;\">-0.2101</td>\n",
       "      <td style = \"text-align: right;\">-0.1991</td>\n",
       "      <td style = \"text-align: right;\">-0.2107</td>\n",
       "      <td style = \"text-align: right;\">-0.2096</td>\n",
       "      <td style = \"text-align: right;\">-0.2068</td>\n",
       "      <td style = \"text-align: right;\">-0.2187</td>\n",
       "      <td style = \"text-align: right;\">-0.2094</td>\n",
       "      <td style = \"text-align: right;\">-0.2148</td>\n",
       "      <td style = \"text-align: right;\">-0.2096</td>\n",
       "      <td style = \"text-align: right;\">-0.2066</td>\n",
       "      <td style = \"text-align: right;\">-0.2108</td>\n",
       "      <td style = \"text-align: right;\">-0.2078</td>\n",
       "      <td style = \"text-align: right;\">-0.2105</td>\n",
       "      <td style = \"text-align: right;\">-0.2062</td>\n",
       "    </tr>\n",
       "    <tr>\n",
       "      <td class = \"rowLabel\" style = \"font-weight: bold; text-align: right;\">0.25</td>\n",
       "      <td style = \"text-align: right;\">-0.0015</td>\n",
       "      <td style = \"text-align: right;\">-0.002</td>\n",
       "      <td style = \"text-align: right;\">-0.002</td>\n",
       "      <td style = \"text-align: right;\">-0.0034</td>\n",
       "      <td style = \"text-align: right;\">-0.0041</td>\n",
       "      <td style = \"text-align: right;\">0.0002</td>\n",
       "      <td style = \"text-align: right;\">-0.0053</td>\n",
       "      <td style = \"text-align: right;\">-0.0023</td>\n",
       "      <td style = \"text-align: right;\">-0.0038</td>\n",
       "      <td style = \"text-align: right;\">-0.005</td>\n",
       "      <td style = \"text-align: right;\">-0.0015</td>\n",
       "      <td style = \"text-align: right;\">-0.0013</td>\n",
       "      <td style = \"text-align: right;\">-0.0051</td>\n",
       "      <td style = \"text-align: right;\">-0.0021</td>\n",
       "      <td style = \"text-align: right;\">-0.0023</td>\n",
       "    </tr>\n",
       "    <tr>\n",
       "      <td class = \"rowLabel\" style = \"font-weight: bold; text-align: right;\">0.5</td>\n",
       "      <td style = \"text-align: right;\">0.0982</td>\n",
       "      <td style = \"text-align: right;\">0.1002</td>\n",
       "      <td style = \"text-align: right;\">0.0992</td>\n",
       "      <td style = \"text-align: right;\">0.0977</td>\n",
       "      <td style = \"text-align: right;\">0.0966</td>\n",
       "      <td style = \"text-align: right;\">0.0997</td>\n",
       "      <td style = \"text-align: right;\">0.0967</td>\n",
       "      <td style = \"text-align: right;\">0.0987</td>\n",
       "      <td style = \"text-align: right;\">0.098</td>\n",
       "      <td style = \"text-align: right;\">0.098</td>\n",
       "      <td style = \"text-align: right;\">0.0978</td>\n",
       "      <td style = \"text-align: right;\">0.0988</td>\n",
       "      <td style = \"text-align: right;\">0.098</td>\n",
       "      <td style = \"text-align: right;\">0.0987</td>\n",
       "      <td style = \"text-align: right;\">0.0997</td>\n",
       "    </tr>\n",
       "    <tr>\n",
       "      <td class = \"rowLabel\" style = \"font-weight: bold; text-align: right;\">0.75</td>\n",
       "      <td style = \"text-align: right;\">0.2008</td>\n",
       "      <td style = \"text-align: right;\">0.1991</td>\n",
       "      <td style = \"text-align: right;\">0.1986</td>\n",
       "      <td style = \"text-align: right;\">0.196</td>\n",
       "      <td style = \"text-align: right;\">0.1995</td>\n",
       "      <td style = \"text-align: right;\">0.1984</td>\n",
       "      <td style = \"text-align: right;\">0.1963</td>\n",
       "      <td style = \"text-align: right;\">0.1995</td>\n",
       "      <td style = \"text-align: right;\">0.1996</td>\n",
       "      <td style = \"text-align: right;\">0.198</td>\n",
       "      <td style = \"text-align: right;\">0.2017</td>\n",
       "      <td style = \"text-align: right;\">0.1991</td>\n",
       "      <td style = \"text-align: right;\">0.1961</td>\n",
       "      <td style = \"text-align: right;\">0.201</td>\n",
       "      <td style = \"text-align: right;\">0.1969</td>\n",
       "    </tr>\n",
       "    <tr>\n",
       "      <td class = \"rowLabel\" style = \"font-weight: bold; text-align: right;\">0.98</td>\n",
       "      <td style = \"text-align: right;\">0.4067</td>\n",
       "      <td style = \"text-align: right;\">0.4074</td>\n",
       "      <td style = \"text-align: right;\">0.4095</td>\n",
       "      <td style = \"text-align: right;\">0.3998</td>\n",
       "      <td style = \"text-align: right;\">0.4108</td>\n",
       "      <td style = \"text-align: right;\">0.4012</td>\n",
       "      <td style = \"text-align: right;\">0.4042</td>\n",
       "      <td style = \"text-align: right;\">0.407</td>\n",
       "      <td style = \"text-align: right;\">0.4071</td>\n",
       "      <td style = \"text-align: right;\">0.4079</td>\n",
       "      <td style = \"text-align: right;\">0.4046</td>\n",
       "      <td style = \"text-align: right;\">0.4095</td>\n",
       "      <td style = \"text-align: right;\">0.4015</td>\n",
       "      <td style = \"text-align: right;\">0.4023</td>\n",
       "      <td style = \"text-align: right;\">0.4086</td>\n",
       "    </tr>\n",
       "  </tbody>\n",
       "</table>\n"
      ]
     },
     "metadata": {},
     "output_type": "display_data"
    }
   ],
   "source": [
    "#US USD\n",
    "mean_us_usd = mean(values(returns_usd[:USA_Net][Date(2003,01,01):Date(2024,03,31)])) .* 12\n",
    "std_us_usd = std(values(returns_usd[:USA_Net][Date(2003,01,01):Date(2024,03,31)])) .* 12^0.5\n",
    "println(mean_us_usd)\n",
    "println(std_us_usd)\n",
    "scenarios_us_usd = rand(Normal(mean_us_usd, std_us_usd), 10_000, 15)\n",
    "print_percentiles(scenarios_us_usd, [0.02, 0.25, 0.5, 0.75, 0.98])"
   ]
  },
  {
   "cell_type": "code",
   "execution_count": 89,
   "metadata": {},
   "outputs": [
    {
     "name": "stdout",
     "output_type": "stream",
     "text": [
      "0.001941683280832559\n",
      "0.13377549414442894\n"
     ]
    },
    {
     "data": {
      "text/html": [
       "<table>\n",
       "  <thead>\n",
       "    <tr class = \"header headerLastRow\">\n",
       "      <th class = \"rowLabel\" style = \"font-weight: bold; text-align: right;\"></th>\n",
       "      <th style = \"text-align: right;\">1</th>\n",
       "      <th style = \"text-align: right;\">2</th>\n",
       "      <th style = \"text-align: right;\">3</th>\n",
       "      <th style = \"text-align: right;\">4</th>\n",
       "      <th style = \"text-align: right;\">5</th>\n",
       "      <th style = \"text-align: right;\">6</th>\n",
       "      <th style = \"text-align: right;\">7</th>\n",
       "      <th style = \"text-align: right;\">8</th>\n",
       "      <th style = \"text-align: right;\">9</th>\n",
       "      <th style = \"text-align: right;\">10</th>\n",
       "      <th style = \"text-align: right;\">11</th>\n",
       "      <th style = \"text-align: right;\">12</th>\n",
       "      <th style = \"text-align: right;\">13</th>\n",
       "      <th style = \"text-align: right;\">14</th>\n",
       "      <th style = \"text-align: right;\">15</th>\n",
       "    </tr>\n",
       "  </thead>\n",
       "  <tbody>\n",
       "    <tr>\n",
       "      <td class = \"rowLabel\" style = \"font-weight: bold; text-align: right;\">0.02</td>\n",
       "      <td style = \"text-align: right;\">-0.2726</td>\n",
       "      <td style = \"text-align: right;\">-0.2812</td>\n",
       "      <td style = \"text-align: right;\">-0.2771</td>\n",
       "      <td style = \"text-align: right;\">-0.2752</td>\n",
       "      <td style = \"text-align: right;\">-0.2688</td>\n",
       "      <td style = \"text-align: right;\">-0.2765</td>\n",
       "      <td style = \"text-align: right;\">-0.2693</td>\n",
       "      <td style = \"text-align: right;\">-0.2677</td>\n",
       "      <td style = \"text-align: right;\">-0.2742</td>\n",
       "      <td style = \"text-align: right;\">-0.2752</td>\n",
       "      <td style = \"text-align: right;\">-0.2656</td>\n",
       "      <td style = \"text-align: right;\">-0.2691</td>\n",
       "      <td style = \"text-align: right;\">-0.2694</td>\n",
       "      <td style = \"text-align: right;\">-0.2736</td>\n",
       "      <td style = \"text-align: right;\">-0.2753</td>\n",
       "    </tr>\n",
       "    <tr>\n",
       "      <td class = \"rowLabel\" style = \"font-weight: bold; text-align: right;\">0.25</td>\n",
       "      <td style = \"text-align: right;\">-0.0879</td>\n",
       "      <td style = \"text-align: right;\">-0.0925</td>\n",
       "      <td style = \"text-align: right;\">-0.0883</td>\n",
       "      <td style = \"text-align: right;\">-0.0894</td>\n",
       "      <td style = \"text-align: right;\">-0.0881</td>\n",
       "      <td style = \"text-align: right;\">-0.0871</td>\n",
       "      <td style = \"text-align: right;\">-0.0875</td>\n",
       "      <td style = \"text-align: right;\">-0.0884</td>\n",
       "      <td style = \"text-align: right;\">-0.0879</td>\n",
       "      <td style = \"text-align: right;\">-0.0872</td>\n",
       "      <td style = \"text-align: right;\">-0.0903</td>\n",
       "      <td style = \"text-align: right;\">-0.0873</td>\n",
       "      <td style = \"text-align: right;\">-0.088</td>\n",
       "      <td style = \"text-align: right;\">-0.0863</td>\n",
       "      <td style = \"text-align: right;\">-0.0896</td>\n",
       "    </tr>\n",
       "    <tr>\n",
       "      <td class = \"rowLabel\" style = \"font-weight: bold; text-align: right;\">0.5</td>\n",
       "      <td style = \"text-align: right;\">0.0055</td>\n",
       "      <td style = \"text-align: right;\">-0.0009</td>\n",
       "      <td style = \"text-align: right;\">0.0</td>\n",
       "      <td style = \"text-align: right;\">-0.0018</td>\n",
       "      <td style = \"text-align: right;\">0.0025</td>\n",
       "      <td style = \"text-align: right;\">0.0003</td>\n",
       "      <td style = \"text-align: right;\">0.0035</td>\n",
       "      <td style = \"text-align: right;\">0.0033</td>\n",
       "      <td style = \"text-align: right;\">0.0017</td>\n",
       "      <td style = \"text-align: right;\">0.0015</td>\n",
       "      <td style = \"text-align: right;\">0.0002</td>\n",
       "      <td style = \"text-align: right;\">0.0025</td>\n",
       "      <td style = \"text-align: right;\">0.0031</td>\n",
       "      <td style = \"text-align: right;\">0.0026</td>\n",
       "      <td style = \"text-align: right;\">-0.0001</td>\n",
       "    </tr>\n",
       "    <tr>\n",
       "      <td class = \"rowLabel\" style = \"font-weight: bold; text-align: right;\">0.75</td>\n",
       "      <td style = \"text-align: right;\">0.0921</td>\n",
       "      <td style = \"text-align: right;\">0.0916</td>\n",
       "      <td style = \"text-align: right;\">0.0918</td>\n",
       "      <td style = \"text-align: right;\">0.0914</td>\n",
       "      <td style = \"text-align: right;\">0.0927</td>\n",
       "      <td style = \"text-align: right;\">0.0934</td>\n",
       "      <td style = \"text-align: right;\">0.094</td>\n",
       "      <td style = \"text-align: right;\">0.09</td>\n",
       "      <td style = \"text-align: right;\">0.0905</td>\n",
       "      <td style = \"text-align: right;\">0.0924</td>\n",
       "      <td style = \"text-align: right;\">0.0903</td>\n",
       "      <td style = \"text-align: right;\">0.0919</td>\n",
       "      <td style = \"text-align: right;\">0.0896</td>\n",
       "      <td style = \"text-align: right;\">0.0943</td>\n",
       "      <td style = \"text-align: right;\">0.0912</td>\n",
       "    </tr>\n",
       "    <tr>\n",
       "      <td class = \"rowLabel\" style = \"font-weight: bold; text-align: right;\">0.98</td>\n",
       "      <td style = \"text-align: right;\">0.2745</td>\n",
       "      <td style = \"text-align: right;\">0.2799</td>\n",
       "      <td style = \"text-align: right;\">0.2834</td>\n",
       "      <td style = \"text-align: right;\">0.2826</td>\n",
       "      <td style = \"text-align: right;\">0.2744</td>\n",
       "      <td style = \"text-align: right;\">0.2794</td>\n",
       "      <td style = \"text-align: right;\">0.2711</td>\n",
       "      <td style = \"text-align: right;\">0.2697</td>\n",
       "      <td style = \"text-align: right;\">0.2697</td>\n",
       "      <td style = \"text-align: right;\">0.2817</td>\n",
       "      <td style = \"text-align: right;\">0.2799</td>\n",
       "      <td style = \"text-align: right;\">0.2785</td>\n",
       "      <td style = \"text-align: right;\">0.272</td>\n",
       "      <td style = \"text-align: right;\">0.2737</td>\n",
       "      <td style = \"text-align: right;\">0.275</td>\n",
       "    </tr>\n",
       "  </tbody>\n",
       "</table>\n"
      ]
     },
     "metadata": {},
     "output_type": "display_data"
    }
   ],
   "source": [
    "#USD_PLN\n",
    "mean_usdpln = mean(values(usdpln[:USDPLN][Date(2003,01,01):Date(2024,03,31)])) .* 12\n",
    "std_usdpln = std(values(usdpln[:USDPLN][Date(2003,01,01):Date(2024,03,31)])) .* 12^0.5\n",
    "println(mean_usdpln)\n",
    "println(std_usdpln)\n",
    "scenarios_usdpln = rand(Normal(mean_usdpln, std_usdpln), 10_000, 15)\n",
    "print_percentiles(scenarios_usdpln, [0.02, 0.25, 0.5, 0.75, 0.98])"
   ]
  },
  {
   "cell_type": "code",
   "execution_count": 90,
   "metadata": {},
   "outputs": [
    {
     "data": {
      "text/plain": [
       "2×2 Matrix{Float64}:\n",
       "  0.00149132   -0.000918969\n",
       " -0.000918969   0.00185911"
      ]
     },
     "metadata": {},
     "output_type": "display_data"
    }
   ],
   "source": [
    "cov_us_usdpln = cov([values(usdpln[:USDPLN][Date(2003,01,01):Date(2024,03,31)]) values(returns_usd[:USA_Net][Date(2003,01,01):Date(2024,03,31)])])\n"
   ]
  },
  {
   "cell_type": "code",
   "execution_count": 97,
   "metadata": {},
   "outputs": [
    {
     "data": {
      "text/plain": [
       "2×2 Matrix{Float64}:\n",
       "  1.0       -0.551903\n",
       " -0.551903   1.0"
      ]
     },
     "metadata": {},
     "output_type": "display_data"
    }
   ],
   "source": [
    "cor_us_usdpln = cor([values(usdpln[:USDPLN][Date(2003,01,01):Date(2024,03,31)]) values(returns_usd[:USA_Net][Date(2003,01,01):Date(2024,03,31)])])"
   ]
  },
  {
   "cell_type": "code",
   "execution_count": 100,
   "metadata": {},
   "outputs": [
    {
     "data": {
      "text/html": [
       "<table>\n",
       "  <thead>\n",
       "    <tr class = \"header headerLastRow\">\n",
       "      <th class = \"rowLabel\" style = \"font-weight: bold; text-align: right;\"></th>\n",
       "      <th style = \"text-align: right;\">1</th>\n",
       "      <th style = \"text-align: right;\">2</th>\n",
       "      <th style = \"text-align: right;\">3</th>\n",
       "      <th style = \"text-align: right;\">4</th>\n",
       "      <th style = \"text-align: right;\">5</th>\n",
       "      <th style = \"text-align: right;\">6</th>\n",
       "      <th style = \"text-align: right;\">7</th>\n",
       "      <th style = \"text-align: right;\">8</th>\n",
       "      <th style = \"text-align: right;\">9</th>\n",
       "      <th style = \"text-align: right;\">10</th>\n",
       "      <th style = \"text-align: right;\">11</th>\n",
       "      <th style = \"text-align: right;\">12</th>\n",
       "      <th style = \"text-align: right;\">13</th>\n",
       "      <th style = \"text-align: right;\">14</th>\n",
       "      <th style = \"text-align: right;\">15</th>\n",
       "    </tr>\n",
       "  </thead>\n",
       "  <tbody>\n",
       "    <tr>\n",
       "      <td class = \"rowLabel\" style = \"font-weight: bold; text-align: right;\">0.02</td>\n",
       "      <td style = \"text-align: right;\">0.0214</td>\n",
       "      <td style = \"text-align: right;\">0.0199</td>\n",
       "      <td style = \"text-align: right;\">0.0209</td>\n",
       "      <td style = \"text-align: right;\">0.0208</td>\n",
       "      <td style = \"text-align: right;\">0.0201</td>\n",
       "      <td style = \"text-align: right;\">0.021</td>\n",
       "      <td style = \"text-align: right;\">0.0208</td>\n",
       "      <td style = \"text-align: right;\">0.0215</td>\n",
       "      <td style = \"text-align: right;\">0.0209</td>\n",
       "      <td style = \"text-align: right;\">0.0199</td>\n",
       "      <td style = \"text-align: right;\">0.0194</td>\n",
       "      <td style = \"text-align: right;\">0.0189</td>\n",
       "      <td style = \"text-align: right;\">0.0185</td>\n",
       "      <td style = \"text-align: right;\">0.0214</td>\n",
       "      <td style = \"text-align: right;\">0.0215</td>\n",
       "    </tr>\n",
       "    <tr>\n",
       "      <td class = \"rowLabel\" style = \"font-weight: bold; text-align: right;\">0.25</td>\n",
       "      <td style = \"text-align: right;\">0.0746</td>\n",
       "      <td style = \"text-align: right;\">0.074</td>\n",
       "      <td style = \"text-align: right;\">0.0749</td>\n",
       "      <td style = \"text-align: right;\">0.0742</td>\n",
       "      <td style = \"text-align: right;\">0.0747</td>\n",
       "      <td style = \"text-align: right;\">0.0742</td>\n",
       "      <td style = \"text-align: right;\">0.0745</td>\n",
       "      <td style = \"text-align: right;\">0.0744</td>\n",
       "      <td style = \"text-align: right;\">0.0749</td>\n",
       "      <td style = \"text-align: right;\">0.0743</td>\n",
       "      <td style = \"text-align: right;\">0.0733</td>\n",
       "      <td style = \"text-align: right;\">0.0744</td>\n",
       "      <td style = \"text-align: right;\">0.0739</td>\n",
       "      <td style = \"text-align: right;\">0.0742</td>\n",
       "      <td style = \"text-align: right;\">0.0742</td>\n",
       "    </tr>\n",
       "    <tr>\n",
       "      <td class = \"rowLabel\" style = \"font-weight: bold; text-align: right;\">0.5</td>\n",
       "      <td style = \"text-align: right;\">0.1003</td>\n",
       "      <td style = \"text-align: right;\">0.1003</td>\n",
       "      <td style = \"text-align: right;\">0.1004</td>\n",
       "      <td style = \"text-align: right;\">0.0998</td>\n",
       "      <td style = \"text-align: right;\">0.1008</td>\n",
       "      <td style = \"text-align: right;\">0.1006</td>\n",
       "      <td style = \"text-align: right;\">0.1005</td>\n",
       "      <td style = \"text-align: right;\">0.1013</td>\n",
       "      <td style = \"text-align: right;\">0.1009</td>\n",
       "      <td style = \"text-align: right;\">0.1007</td>\n",
       "      <td style = \"text-align: right;\">0.1003</td>\n",
       "      <td style = \"text-align: right;\">0.1002</td>\n",
       "      <td style = \"text-align: right;\">0.0998</td>\n",
       "      <td style = \"text-align: right;\">0.1003</td>\n",
       "      <td style = \"text-align: right;\">0.1001</td>\n",
       "    </tr>\n",
       "    <tr>\n",
       "      <td class = \"rowLabel\" style = \"font-weight: bold; text-align: right;\">0.75</td>\n",
       "      <td style = \"text-align: right;\">0.1273</td>\n",
       "      <td style = \"text-align: right;\">0.127</td>\n",
       "      <td style = \"text-align: right;\">0.1274</td>\n",
       "      <td style = \"text-align: right;\">0.1266</td>\n",
       "      <td style = \"text-align: right;\">0.127</td>\n",
       "      <td style = \"text-align: right;\">0.127</td>\n",
       "      <td style = \"text-align: right;\">0.1269</td>\n",
       "      <td style = \"text-align: right;\">0.1268</td>\n",
       "      <td style = \"text-align: right;\">0.1269</td>\n",
       "      <td style = \"text-align: right;\">0.1265</td>\n",
       "      <td style = \"text-align: right;\">0.1263</td>\n",
       "      <td style = \"text-align: right;\">0.126</td>\n",
       "      <td style = \"text-align: right;\">0.1259</td>\n",
       "      <td style = \"text-align: right;\">0.127</td>\n",
       "      <td style = \"text-align: right;\">0.1261</td>\n",
       "    </tr>\n",
       "    <tr>\n",
       "      <td class = \"rowLabel\" style = \"font-weight: bold; text-align: right;\">0.98</td>\n",
       "      <td style = \"text-align: right;\">0.1802</td>\n",
       "      <td style = \"text-align: right;\">0.1809</td>\n",
       "      <td style = \"text-align: right;\">0.1799</td>\n",
       "      <td style = \"text-align: right;\">0.1817</td>\n",
       "      <td style = \"text-align: right;\">0.1813</td>\n",
       "      <td style = \"text-align: right;\">0.181</td>\n",
       "      <td style = \"text-align: right;\">0.1808</td>\n",
       "      <td style = \"text-align: right;\">0.1786</td>\n",
       "      <td style = \"text-align: right;\">0.181</td>\n",
       "      <td style = \"text-align: right;\">0.1794</td>\n",
       "      <td style = \"text-align: right;\">0.1808</td>\n",
       "      <td style = \"text-align: right;\">0.1802</td>\n",
       "      <td style = \"text-align: right;\">0.1795</td>\n",
       "      <td style = \"text-align: right;\">0.1812</td>\n",
       "      <td style = \"text-align: right;\">0.1802</td>\n",
       "    </tr>\n",
       "  </tbody>\n",
       "</table>\n"
      ]
     },
     "metadata": {},
     "output_type": "display_data"
    }
   ],
   "source": [
    "scenarios_merge = zeros(10_000,15,2)\n",
    "\n",
    "for s in 1:10_000\n",
    "    scenarios_merge[s,:,:] = rand(MvNormal([mean_usdpln, mean_us_usd], cov_us_usdpln),15)'\n",
    "end\n",
    "\n",
    "print_percentiles(dropdims(sum(scenarios_merge,dims=3),dims=3), [0.02, 0.25, 0.5, 0.75, 0.98])\n"
   ]
  },
  {
   "cell_type": "code",
   "execution_count": 94,
   "metadata": {},
   "outputs": [
    {
     "data": {
      "image/png": "[encoded data removed]",
      "image/svg+xml": [
       "<?xml version=\"1.0\" encoding=\"utf-8\"?>\n",
       "<svg xmlns=\"http://www.w3.org/2000/svg\" xmlns:xlink=\"http://www.w3.org/1999/xlink\" width=\"600\" height=\"400\" viewBox=\"0 0 2400 1600\">\n",
       "<defs>\n",
       "  <clipPath id=\"clip500\">\n",
       "    <rect x=\"0\" y=\"0\" width=\"2400\" height=\"1600\"/>\n",
       "  </clipPath>\n",
       "</defs>\n",
       "<path clip-path=\"url(#clip500)\" d=\"M0 1600 L2400 1600 L2400 0 L0 0  Z\" fill=\"#ffffff\" fill-rule=\"evenodd\" fill-opacity=\"1\"/>\n",
       "<defs>\n",
       "  <clipPath id=\"clip501\">\n",
       "    <rect x=\"480\" y=\"0\" width=\"1681\" height=\"1600\"/>\n",
       "  </clipPath>\n",
       "</defs>\n",
       "<path clip-path=\"url(#clip500)\" d=\"M194.422 1486.45 L2352.76 1486.45 L2352.76 47.2441 L194.422 47.2441  Z\" fill=\"#ffffff\" fill-rule=\"evenodd\" fill-opacity=\"1\"/>\n",
       "<defs>\n",
       "  <clipPath id=\"clip502\">\n",
       "    <rect x=\"194\" y=\"47\" width=\"2159\" height=\"1440\"/>\n",
       "  </clipPath>\n",
       "</defs>\n",
       "<polyline clip-path=\"url(#clip502)\" style=\"stroke:#000000; stroke-linecap:round; stroke-linejoin:round; stroke-width:2; stroke-opacity:0.1; fill:none\" points=\"248.287,1486.45 248.287,47.2441 \"/>\n",
       "<polyline clip-path=\"url(#clip502)\" style=\"stroke:#000000; stroke-linecap:round; stroke-linejoin:round; stroke-width:2; stroke-opacity:0.1; fill:none\" points=\"775.619,1486.45 775.619,47.2441 \"/>\n",
       "<polyline clip-path=\"url(#clip502)\" style=\"stroke:#000000; stroke-linecap:round; stroke-linejoin:round; stroke-width:2; stroke-opacity:0.1; fill:none\" points=\"1303.19,1486.45 1303.19,47.2441 \"/>\n",
       "<polyline clip-path=\"url(#clip502)\" style=\"stroke:#000000; stroke-linecap:round; stroke-linejoin:round; stroke-width:2; stroke-opacity:0.1; fill:none\" points=\"1830.53,1486.45 1830.53,47.2441 \"/>\n",
       "<polyline clip-path=\"url(#clip500)\" style=\"stroke:#000000; stroke-linecap:round; stroke-linejoin:round; stroke-width:4; stroke-opacity:1; fill:none\" points=\"194.422,1486.45 2352.76,1486.45 \"/>\n",
       "<polyline clip-path=\"url(#clip500)\" style=\"stroke:#000000; stroke-linecap:round; stroke-linejoin:round; stroke-width:4; stroke-opacity:1; fill:none\" points=\"248.287,1486.45 248.287,1467.55 \"/>\n",
       "<polyline clip-path=\"url(#clip500)\" style=\"stroke:#000000; stroke-linecap:round; stroke-linejoin:round; stroke-width:4; stroke-opacity:1; fill:none\" points=\"775.619,1486.45 775.619,1467.55 \"/>\n",
       "<polyline clip-path=\"url(#clip500)\" style=\"stroke:#000000; stroke-linecap:round; stroke-linejoin:round; stroke-width:4; stroke-opacity:1; fill:none\" points=\"1303.19,1486.45 1303.19,1467.55 \"/>\n",
       "<polyline clip-path=\"url(#clip500)\" style=\"stroke:#000000; stroke-linecap:round; stroke-linejoin:round; stroke-width:4; stroke-opacity:1; fill:none\" points=\"1830.53,1486.45 1830.53,1467.55 \"/>\n",
       "<path clip-path=\"url(#clip500)\" d=\"M120.081 1544.91 L136.401 1544.91 L136.401 1548.85 L114.456 1548.85 L114.456 1544.91 Q117.118 1542.16 121.702 1537.53 Q126.308 1532.88 127.489 1531.53 Q129.734 1529.01 130.614 1527.27 Q131.516 1525.51 131.516 1523.82 Q131.516 1521.07 129.572 1519.33 Q127.651 1517.6 124.549 1517.6 Q122.35 1517.6 119.896 1518.36 Q117.466 1519.13 114.688 1520.68 L114.688 1515.95 Q117.512 1514.82 119.966 1514.24 Q122.419 1513.66 124.456 1513.66 Q129.827 1513.66 133.021 1516.35 Q136.215 1519.03 136.215 1523.52 Q136.215 1525.65 135.405 1527.57 Q134.618 1529.47 132.512 1532.07 Q131.933 1532.74 128.831 1535.95 Q125.729 1539.15 120.081 1544.91 Z\" fill=\"#000000\" fill-rule=\"nonzero\" fill-opacity=\"1\" /><path clip-path=\"url(#clip500)\" d=\"M156.215 1517.37 Q152.604 1517.37 150.776 1520.93 Q148.97 1524.47 148.97 1531.6 Q148.97 1538.71 150.776 1542.27 Q152.604 1545.82 156.215 1545.82 Q159.85 1545.82 161.655 1542.27 Q163.484 1538.71 163.484 1531.6 Q163.484 1524.47 161.655 1520.93 Q159.85 1517.37 156.215 1517.37 M156.215 1513.66 Q162.025 1513.66 165.081 1518.27 Q168.16 1522.85 168.16 1531.6 Q168.16 1540.33 165.081 1544.94 Q162.025 1549.52 156.215 1549.52 Q150.405 1549.52 147.326 1544.94 Q144.271 1540.33 144.271 1531.6 Q144.271 1522.85 147.326 1518.27 Q150.405 1513.66 156.215 1513.66 Z\" fill=\"#000000\" fill-rule=\"nonzero\" fill-opacity=\"1\" /><path clip-path=\"url(#clip500)\" d=\"M186.377 1517.37 Q182.766 1517.37 180.937 1520.93 Q179.132 1524.47 179.132 1531.6 Q179.132 1538.71 180.937 1542.27 Q182.766 1545.82 186.377 1545.82 Q190.011 1545.82 191.817 1542.27 Q193.646 1538.71 193.646 1531.6 Q193.646 1524.47 191.817 1520.93 Q190.011 1517.37 186.377 1517.37 M186.377 1513.66 Q192.187 1513.66 195.243 1518.27 Q198.322 1522.85 198.322 1531.6 Q198.322 1540.33 195.243 1544.94 Q192.187 1549.52 186.377 1549.52 Q180.567 1549.52 177.488 1544.94 Q174.433 1540.33 174.433 1531.6 Q174.433 1522.85 177.488 1518.27 Q180.567 1513.66 186.377 1513.66 Z\" fill=\"#000000\" fill-rule=\"nonzero\" fill-opacity=\"1\" /><path clip-path=\"url(#clip500)\" d=\"M207.349 1544.91 L214.988 1544.91 L214.988 1518.55 L206.678 1520.21 L206.678 1515.95 L214.942 1514.29 L219.618 1514.29 L219.618 1544.91 L227.257 1544.91 L227.257 1548.85 L207.349 1548.85 L207.349 1544.91 Z\" fill=\"#000000\" fill-rule=\"nonzero\" fill-opacity=\"1\" /><path clip-path=\"url(#clip500)\" d=\"M233.946 1533.96 L246.423 1533.96 L246.423 1537.76 L233.946 1537.76 L233.946 1533.96 Z\" fill=\"#000000\" fill-rule=\"nonzero\" fill-opacity=\"1\" /><path clip-path=\"url(#clip500)\" d=\"M263.807 1517.37 Q260.196 1517.37 258.368 1520.93 Q256.562 1524.47 256.562 1531.6 Q256.562 1538.71 258.368 1542.27 Q260.196 1545.82 263.807 1545.82 Q267.442 1545.82 269.247 1542.27 Q271.076 1538.71 271.076 1531.6 Q271.076 1524.47 269.247 1520.93 Q267.442 1517.37 263.807 1517.37 M263.807 1513.66 Q269.617 1513.66 272.673 1518.27 Q275.752 1522.85 275.752 1531.6 Q275.752 1540.33 272.673 1544.94 Q269.617 1549.52 263.807 1549.52 Q257.997 1549.52 254.918 1544.94 Q251.863 1540.33 251.863 1531.6 Q251.863 1522.85 254.918 1518.27 Q257.997 1513.66 263.807 1513.66 Z\" fill=\"#000000\" fill-rule=\"nonzero\" fill-opacity=\"1\" /><path clip-path=\"url(#clip500)\" d=\"M284.779 1544.91 L292.418 1544.91 L292.418 1518.55 L284.108 1520.21 L284.108 1515.95 L292.372 1514.29 L297.048 1514.29 L297.048 1544.91 L304.687 1544.91 L304.687 1548.85 L284.779 1548.85 L284.779 1544.91 Z\" fill=\"#000000\" fill-rule=\"nonzero\" fill-opacity=\"1\" /><path clip-path=\"url(#clip500)\" d=\"M311.377 1533.96 L323.853 1533.96 L323.853 1537.76 L311.377 1537.76 L311.377 1533.96 Z\" fill=\"#000000\" fill-rule=\"nonzero\" fill-opacity=\"1\" /><path clip-path=\"url(#clip500)\" d=\"M341.237 1517.37 Q337.626 1517.37 335.798 1520.93 Q333.992 1524.47 333.992 1531.6 Q333.992 1538.71 335.798 1542.27 Q337.626 1545.82 341.237 1545.82 Q344.872 1545.82 346.677 1542.27 Q348.506 1538.71 348.506 1531.6 Q348.506 1524.47 346.677 1520.93 Q344.872 1517.37 341.237 1517.37 M341.237 1513.66 Q347.048 1513.66 350.103 1518.27 Q353.182 1522.85 353.182 1531.6 Q353.182 1540.33 350.103 1544.94 Q347.048 1549.52 341.237 1549.52 Q335.427 1549.52 332.349 1544.94 Q329.293 1540.33 329.293 1531.6 Q329.293 1522.85 332.349 1518.27 Q335.427 1513.66 341.237 1513.66 Z\" fill=\"#000000\" fill-rule=\"nonzero\" fill-opacity=\"1\" /><path clip-path=\"url(#clip500)\" d=\"M362.21 1544.91 L369.848 1544.91 L369.848 1518.55 L361.538 1520.21 L361.538 1515.95 L369.802 1514.29 L374.478 1514.29 L374.478 1544.91 L382.117 1544.91 L382.117 1548.85 L362.21 1548.85 L362.21 1544.91 Z\" fill=\"#000000\" fill-rule=\"nonzero\" fill-opacity=\"1\" /><path clip-path=\"url(#clip500)\" d=\"M647.414 1544.91 L663.733 1544.91 L663.733 1548.85 L641.789 1548.85 L641.789 1544.91 Q644.451 1542.16 649.034 1537.53 Q653.641 1532.88 654.821 1531.53 Q657.067 1529.01 657.946 1527.27 Q658.849 1525.51 658.849 1523.82 Q658.849 1521.07 656.905 1519.33 Q654.983 1517.6 651.882 1517.6 Q649.683 1517.6 647.229 1518.36 Q644.798 1519.13 642.021 1520.68 L642.021 1515.95 Q644.845 1514.82 647.298 1514.24 Q649.752 1513.66 651.789 1513.66 Q657.159 1513.66 660.354 1516.35 Q663.548 1519.03 663.548 1523.52 Q663.548 1525.65 662.738 1527.57 Q661.951 1529.47 659.845 1532.07 Q659.266 1532.74 656.164 1535.95 Q653.062 1539.15 647.414 1544.91 Z\" fill=\"#000000\" fill-rule=\"nonzero\" fill-opacity=\"1\" /><path clip-path=\"url(#clip500)\" d=\"M683.548 1517.37 Q679.937 1517.37 678.108 1520.93 Q676.303 1524.47 676.303 1531.6 Q676.303 1538.71 678.108 1542.27 Q679.937 1545.82 683.548 1545.82 Q687.182 1545.82 688.988 1542.27 Q690.817 1538.71 690.817 1531.6 Q690.817 1524.47 688.988 1520.93 Q687.182 1517.37 683.548 1517.37 M683.548 1513.66 Q689.358 1513.66 692.414 1518.27 Q695.492 1522.85 695.492 1531.6 Q695.492 1540.33 692.414 1544.94 Q689.358 1549.52 683.548 1549.52 Q677.738 1549.52 674.659 1544.94 Q671.604 1540.33 671.604 1531.6 Q671.604 1522.85 674.659 1518.27 Q677.738 1513.66 683.548 1513.66 Z\" fill=\"#000000\" fill-rule=\"nonzero\" fill-opacity=\"1\" /><path clip-path=\"url(#clip500)\" d=\"M713.71 1517.37 Q710.099 1517.37 708.27 1520.93 Q706.465 1524.47 706.465 1531.6 Q706.465 1538.71 708.27 1542.27 Q710.099 1545.82 713.71 1545.82 Q717.344 1545.82 719.15 1542.27 Q720.978 1538.71 720.978 1531.6 Q720.978 1524.47 719.15 1520.93 Q717.344 1517.37 713.71 1517.37 M713.71 1513.66 Q719.52 1513.66 722.576 1518.27 Q725.654 1522.85 725.654 1531.6 Q725.654 1540.33 722.576 1544.94 Q719.52 1549.52 713.71 1549.52 Q707.9 1549.52 704.821 1544.94 Q701.766 1540.33 701.766 1531.6 Q701.766 1522.85 704.821 1518.27 Q707.9 1513.66 713.71 1513.66 Z\" fill=\"#000000\" fill-rule=\"nonzero\" fill-opacity=\"1\" /><path clip-path=\"url(#clip500)\" d=\"M732.691 1514.29 L754.913 1514.29 L754.913 1516.28 L742.367 1548.85 L737.483 1548.85 L749.288 1518.22 L732.691 1518.22 L732.691 1514.29 Z\" fill=\"#000000\" fill-rule=\"nonzero\" fill-opacity=\"1\" /><path clip-path=\"url(#clip500)\" d=\"M761.279 1533.96 L773.756 1533.96 L773.756 1537.76 L761.279 1537.76 L761.279 1533.96 Z\" fill=\"#000000\" fill-rule=\"nonzero\" fill-opacity=\"1\" /><path clip-path=\"url(#clip500)\" d=\"M791.14 1517.37 Q787.529 1517.37 785.7 1520.93 Q783.895 1524.47 783.895 1531.6 Q783.895 1538.71 785.7 1542.27 Q787.529 1545.82 791.14 1545.82 Q794.774 1545.82 796.58 1542.27 Q798.409 1538.71 798.409 1531.6 Q798.409 1524.47 796.58 1520.93 Q794.774 1517.37 791.14 1517.37 M791.14 1513.66 Q796.95 1513.66 800.006 1518.27 Q803.084 1522.85 803.084 1531.6 Q803.084 1540.33 800.006 1544.94 Q796.95 1549.52 791.14 1549.52 Q785.33 1549.52 782.251 1544.94 Q779.196 1540.33 779.196 1531.6 Q779.196 1522.85 782.251 1518.27 Q785.33 1513.66 791.14 1513.66 Z\" fill=\"#000000\" fill-rule=\"nonzero\" fill-opacity=\"1\" /><path clip-path=\"url(#clip500)\" d=\"M812.112 1544.91 L819.751 1544.91 L819.751 1518.55 L811.441 1520.21 L811.441 1515.95 L819.705 1514.29 L824.381 1514.29 L824.381 1544.91 L832.02 1544.91 L832.02 1548.85 L812.112 1548.85 L812.112 1544.91 Z\" fill=\"#000000\" fill-rule=\"nonzero\" fill-opacity=\"1\" /><path clip-path=\"url(#clip500)\" d=\"M838.709 1533.96 L851.186 1533.96 L851.186 1537.76 L838.709 1537.76 L838.709 1533.96 Z\" fill=\"#000000\" fill-rule=\"nonzero\" fill-opacity=\"1\" /><path clip-path=\"url(#clip500)\" d=\"M868.57 1517.37 Q864.959 1517.37 863.13 1520.93 Q861.325 1524.47 861.325 1531.6 Q861.325 1538.71 863.13 1542.27 Q864.959 1545.82 868.57 1545.82 Q872.204 1545.82 874.01 1542.27 Q875.839 1538.71 875.839 1531.6 Q875.839 1524.47 874.01 1520.93 Q872.204 1517.37 868.57 1517.37 M868.57 1513.66 Q874.38 1513.66 877.436 1518.27 Q880.515 1522.85 880.515 1531.6 Q880.515 1540.33 877.436 1544.94 Q874.38 1549.52 868.57 1549.52 Q862.76 1549.52 859.681 1544.94 Q856.626 1540.33 856.626 1531.6 Q856.626 1522.85 859.681 1518.27 Q862.76 1513.66 868.57 1513.66 Z\" fill=\"#000000\" fill-rule=\"nonzero\" fill-opacity=\"1\" /><path clip-path=\"url(#clip500)\" d=\"M889.542 1544.91 L897.181 1544.91 L897.181 1518.55 L888.871 1520.21 L888.871 1515.95 L897.135 1514.29 L901.811 1514.29 L901.811 1544.91 L909.45 1544.91 L909.45 1548.85 L889.542 1548.85 L889.542 1544.91 Z\" fill=\"#000000\" fill-rule=\"nonzero\" fill-opacity=\"1\" /><path clip-path=\"url(#clip500)\" d=\"M1174.99 1544.91 L1191.31 1544.91 L1191.31 1548.85 L1169.36 1548.85 L1169.36 1544.91 Q1172.02 1542.16 1176.61 1537.53 Q1181.21 1532.88 1182.39 1531.53 Q1184.64 1529.01 1185.52 1527.27 Q1186.42 1525.51 1186.42 1523.82 Q1186.42 1521.07 1184.48 1519.33 Q1182.56 1517.6 1179.46 1517.6 Q1177.26 1517.6 1174.8 1518.36 Q1172.37 1519.13 1169.59 1520.68 L1169.59 1515.95 Q1172.42 1514.82 1174.87 1514.24 Q1177.33 1513.66 1179.36 1513.66 Q1184.73 1513.66 1187.93 1516.35 Q1191.12 1519.03 1191.12 1523.52 Q1191.12 1525.65 1190.31 1527.57 Q1189.52 1529.47 1187.42 1532.07 Q1186.84 1532.74 1183.74 1535.95 Q1180.64 1539.15 1174.99 1544.91 Z\" fill=\"#000000\" fill-rule=\"nonzero\" fill-opacity=\"1\" /><path clip-path=\"url(#clip500)\" d=\"M1211.12 1517.37 Q1207.51 1517.37 1205.68 1520.93 Q1203.88 1524.47 1203.88 1531.6 Q1203.88 1538.71 1205.68 1542.27 Q1207.51 1545.82 1211.12 1545.82 Q1214.76 1545.82 1216.56 1542.27 Q1218.39 1538.71 1218.39 1531.6 Q1218.39 1524.47 1216.56 1520.93 Q1214.76 1517.37 1211.12 1517.37 M1211.12 1513.66 Q1216.93 1513.66 1219.99 1518.27 Q1223.07 1522.85 1223.07 1531.6 Q1223.07 1540.33 1219.99 1544.94 Q1216.93 1549.52 1211.12 1549.52 Q1205.31 1549.52 1202.23 1544.94 Q1199.18 1540.33 1199.18 1531.6 Q1199.18 1522.85 1202.23 1518.27 Q1205.31 1513.66 1211.12 1513.66 Z\" fill=\"#000000\" fill-rule=\"nonzero\" fill-opacity=\"1\" /><path clip-path=\"url(#clip500)\" d=\"M1232.09 1544.91 L1239.73 1544.91 L1239.73 1518.55 L1231.42 1520.21 L1231.42 1515.95 L1239.69 1514.29 L1244.36 1514.29 L1244.36 1544.91 L1252 1544.91 L1252 1548.85 L1232.09 1548.85 L1232.09 1544.91 Z\" fill=\"#000000\" fill-rule=\"nonzero\" fill-opacity=\"1\" /><path clip-path=\"url(#clip500)\" d=\"M1275.61 1530.21 Q1278.97 1530.93 1280.84 1533.2 Q1282.74 1535.47 1282.74 1538.8 Q1282.74 1543.92 1279.22 1546.72 Q1275.7 1549.52 1269.22 1549.52 Q1267.05 1549.52 1264.73 1549.08 Q1262.44 1548.66 1259.99 1547.81 L1259.99 1543.29 Q1261.93 1544.43 1264.25 1545.01 Q1266.56 1545.58 1269.08 1545.58 Q1273.48 1545.58 1275.77 1543.85 Q1278.09 1542.11 1278.09 1538.8 Q1278.09 1535.75 1275.94 1534.03 Q1273.81 1532.3 1269.99 1532.3 L1265.96 1532.3 L1265.96 1528.45 L1270.17 1528.45 Q1273.62 1528.45 1275.45 1527.09 Q1277.28 1525.7 1277.28 1523.11 Q1277.28 1520.45 1275.38 1519.03 Q1273.51 1517.6 1269.99 1517.6 Q1268.07 1517.6 1265.87 1518.01 Q1263.67 1518.43 1261.03 1519.31 L1261.03 1515.14 Q1263.69 1514.4 1266.01 1514.03 Q1268.34 1513.66 1270.4 1513.66 Q1275.73 1513.66 1278.83 1516.09 Q1281.93 1518.5 1281.93 1522.62 Q1281.93 1525.49 1280.29 1527.48 Q1278.64 1529.45 1275.61 1530.21 Z\" fill=\"#000000\" fill-rule=\"nonzero\" fill-opacity=\"1\" /><path clip-path=\"url(#clip500)\" d=\"M1288.85 1533.96 L1301.33 1533.96 L1301.33 1537.76 L1288.85 1537.76 L1288.85 1533.96 Z\" fill=\"#000000\" fill-rule=\"nonzero\" fill-opacity=\"1\" /><path clip-path=\"url(#clip500)\" d=\"M1318.71 1517.37 Q1315.1 1517.37 1313.27 1520.93 Q1311.47 1524.47 1311.47 1531.6 Q1311.47 1538.71 1313.27 1542.27 Q1315.1 1545.82 1318.71 1545.82 Q1322.35 1545.82 1324.15 1542.27 Q1325.98 1538.71 1325.98 1531.6 Q1325.98 1524.47 1324.15 1520.93 Q1322.35 1517.37 1318.71 1517.37 M1318.71 1513.66 Q1324.52 1513.66 1327.58 1518.27 Q1330.66 1522.85 1330.66 1531.6 Q1330.66 1540.33 1327.58 1544.94 Q1324.52 1549.52 1318.71 1549.52 Q1312.9 1549.52 1309.82 1544.94 Q1306.77 1540.33 1306.77 1531.6 Q1306.77 1522.85 1309.82 1518.27 Q1312.9 1513.66 1318.71 1513.66 Z\" fill=\"#000000\" fill-rule=\"nonzero\" fill-opacity=\"1\" /><path clip-path=\"url(#clip500)\" d=\"M1339.69 1544.91 L1347.32 1544.91 L1347.32 1518.55 L1339.01 1520.21 L1339.01 1515.95 L1347.28 1514.29 L1351.95 1514.29 L1351.95 1544.91 L1359.59 1544.91 L1359.59 1548.85 L1339.69 1548.85 L1339.69 1544.91 Z\" fill=\"#000000\" fill-rule=\"nonzero\" fill-opacity=\"1\" /><path clip-path=\"url(#clip500)\" d=\"M1366.28 1533.96 L1378.76 1533.96 L1378.76 1537.76 L1366.28 1537.76 L1366.28 1533.96 Z\" fill=\"#000000\" fill-rule=\"nonzero\" fill-opacity=\"1\" /><path clip-path=\"url(#clip500)\" d=\"M1396.14 1517.37 Q1392.53 1517.37 1390.7 1520.93 Q1388.9 1524.47 1388.9 1531.6 Q1388.9 1538.71 1390.7 1542.27 Q1392.53 1545.82 1396.14 1545.82 Q1399.78 1545.82 1401.58 1542.27 Q1403.41 1538.71 1403.41 1531.6 Q1403.41 1524.47 1401.58 1520.93 Q1399.78 1517.37 1396.14 1517.37 M1396.14 1513.66 Q1401.95 1513.66 1405.01 1518.27 Q1408.09 1522.85 1408.09 1531.6 Q1408.09 1540.33 1405.01 1544.94 Q1401.95 1549.52 1396.14 1549.52 Q1390.33 1549.52 1387.25 1544.94 Q1384.2 1540.33 1384.2 1531.6 Q1384.2 1522.85 1387.25 1518.27 Q1390.33 1513.66 1396.14 1513.66 Z\" fill=\"#000000\" fill-rule=\"nonzero\" fill-opacity=\"1\" /><path clip-path=\"url(#clip500)\" d=\"M1417.12 1544.91 L1424.75 1544.91 L1424.75 1518.55 L1416.44 1520.21 L1416.44 1515.95 L1424.71 1514.29 L1429.38 1514.29 L1429.38 1544.91 L1437.02 1544.91 L1437.02 1548.85 L1417.12 1548.85 L1417.12 1544.91 Z\" fill=\"#000000\" fill-rule=\"nonzero\" fill-opacity=\"1\" /><path clip-path=\"url(#clip500)\" d=\"M1702.32 1544.91 L1718.64 1544.91 L1718.64 1548.85 L1696.7 1548.85 L1696.7 1544.91 Q1699.36 1542.16 1703.94 1537.53 Q1708.55 1532.88 1709.73 1531.53 Q1711.97 1529.01 1712.85 1527.27 Q1713.76 1525.51 1713.76 1523.82 Q1713.76 1521.07 1711.81 1519.33 Q1709.89 1517.6 1706.79 1517.6 Q1704.59 1517.6 1702.14 1518.36 Q1699.7 1519.13 1696.93 1520.68 L1696.93 1515.95 Q1699.75 1514.82 1702.2 1514.24 Q1704.66 1513.66 1706.7 1513.66 Q1712.07 1513.66 1715.26 1516.35 Q1718.45 1519.03 1718.45 1523.52 Q1718.45 1525.65 1717.64 1527.57 Q1716.86 1529.47 1714.75 1532.07 Q1714.17 1532.74 1711.07 1535.95 Q1707.97 1539.15 1702.32 1544.91 Z\" fill=\"#000000\" fill-rule=\"nonzero\" fill-opacity=\"1\" /><path clip-path=\"url(#clip500)\" d=\"M1738.45 1517.37 Q1734.84 1517.37 1733.01 1520.93 Q1731.21 1524.47 1731.21 1531.6 Q1731.21 1538.71 1733.01 1542.27 Q1734.84 1545.82 1738.45 1545.82 Q1742.09 1545.82 1743.89 1542.27 Q1745.72 1538.71 1745.72 1531.6 Q1745.72 1524.47 1743.89 1520.93 Q1742.09 1517.37 1738.45 1517.37 M1738.45 1513.66 Q1744.26 1513.66 1747.32 1518.27 Q1750.4 1522.85 1750.4 1531.6 Q1750.4 1540.33 1747.32 1544.94 Q1744.26 1549.52 1738.45 1549.52 Q1732.64 1549.52 1729.57 1544.94 Q1726.51 1540.33 1726.51 1531.6 Q1726.51 1522.85 1729.57 1518.27 Q1732.64 1513.66 1738.45 1513.66 Z\" fill=\"#000000\" fill-rule=\"nonzero\" fill-opacity=\"1\" /><path clip-path=\"url(#clip500)\" d=\"M1759.43 1544.91 L1767.07 1544.91 L1767.07 1518.55 L1758.76 1520.21 L1758.76 1515.95 L1767.02 1514.29 L1771.69 1514.29 L1771.69 1544.91 L1779.33 1544.91 L1779.33 1548.85 L1759.43 1548.85 L1759.43 1544.91 Z\" fill=\"#000000\" fill-rule=\"nonzero\" fill-opacity=\"1\" /><path clip-path=\"url(#clip500)\" d=\"M1788.92 1548.13 L1788.92 1543.87 Q1790.68 1544.7 1792.48 1545.14 Q1794.29 1545.58 1796.02 1545.58 Q1800.65 1545.58 1803.08 1542.48 Q1805.54 1539.36 1805.88 1533.01 Q1804.54 1535.01 1802.48 1536.07 Q1800.42 1537.13 1797.92 1537.13 Q1792.74 1537.13 1789.7 1534.01 Q1786.69 1530.86 1786.69 1525.42 Q1786.69 1520.1 1789.84 1516.88 Q1792.99 1513.66 1798.22 1513.66 Q1804.22 1513.66 1807.37 1518.27 Q1810.54 1522.85 1810.54 1531.6 Q1810.54 1539.77 1806.65 1544.66 Q1802.78 1549.52 1796.23 1549.52 Q1794.47 1549.52 1792.67 1549.17 Q1790.86 1548.82 1788.92 1548.13 M1798.22 1533.48 Q1801.37 1533.48 1803.2 1531.32 Q1805.05 1529.17 1805.05 1525.42 Q1805.05 1521.7 1803.2 1519.54 Q1801.37 1517.37 1798.22 1517.37 Q1795.07 1517.37 1793.22 1519.54 Q1791.39 1521.7 1791.39 1525.42 Q1791.39 1529.17 1793.22 1531.32 Q1795.07 1533.48 1798.22 1533.48 Z\" fill=\"#000000\" fill-rule=\"nonzero\" fill-opacity=\"1\" /><path clip-path=\"url(#clip500)\" d=\"M1816.19 1533.96 L1828.66 1533.96 L1828.66 1537.76 L1816.19 1537.76 L1816.19 1533.96 Z\" fill=\"#000000\" fill-rule=\"nonzero\" fill-opacity=\"1\" /><path clip-path=\"url(#clip500)\" d=\"M1846.05 1517.37 Q1842.44 1517.37 1840.61 1520.93 Q1838.8 1524.47 1838.8 1531.6 Q1838.8 1538.71 1840.61 1542.27 Q1842.44 1545.82 1846.05 1545.82 Q1849.68 1545.82 1851.49 1542.27 Q1853.31 1538.71 1853.31 1531.6 Q1853.31 1524.47 1851.49 1520.93 Q1849.68 1517.37 1846.05 1517.37 M1846.05 1513.66 Q1851.86 1513.66 1854.91 1518.27 Q1857.99 1522.85 1857.99 1531.6 Q1857.99 1540.33 1854.91 1544.94 Q1851.86 1549.52 1846.05 1549.52 Q1840.24 1549.52 1837.16 1544.94 Q1834.1 1540.33 1834.1 1531.6 Q1834.1 1522.85 1837.16 1518.27 Q1840.24 1513.66 1846.05 1513.66 Z\" fill=\"#000000\" fill-rule=\"nonzero\" fill-opacity=\"1\" /><path clip-path=\"url(#clip500)\" d=\"M1867.02 1544.91 L1874.66 1544.91 L1874.66 1518.55 L1866.35 1520.21 L1866.35 1515.95 L1874.61 1514.29 L1879.29 1514.29 L1879.29 1544.91 L1886.93 1544.91 L1886.93 1548.85 L1867.02 1548.85 L1867.02 1544.91 Z\" fill=\"#000000\" fill-rule=\"nonzero\" fill-opacity=\"1\" /><path clip-path=\"url(#clip500)\" d=\"M1893.62 1533.96 L1906.09 1533.96 L1906.09 1537.76 L1893.62 1537.76 L1893.62 1533.96 Z\" fill=\"#000000\" fill-rule=\"nonzero\" fill-opacity=\"1\" /><path clip-path=\"url(#clip500)\" d=\"M1923.48 1517.37 Q1919.87 1517.37 1918.04 1520.93 Q1916.23 1524.47 1916.23 1531.6 Q1916.23 1538.71 1918.04 1542.27 Q1919.87 1545.82 1923.48 1545.82 Q1927.11 1545.82 1928.92 1542.27 Q1930.74 1538.71 1930.74 1531.6 Q1930.74 1524.47 1928.92 1520.93 Q1927.11 1517.37 1923.48 1517.37 M1923.48 1513.66 Q1929.29 1513.66 1932.34 1518.27 Q1935.42 1522.85 1935.42 1531.6 Q1935.42 1540.33 1932.34 1544.94 Q1929.29 1549.52 1923.48 1549.52 Q1917.67 1549.52 1914.59 1544.94 Q1911.53 1540.33 1911.53 1531.6 Q1911.53 1522.85 1914.59 1518.27 Q1917.67 1513.66 1923.48 1513.66 Z\" fill=\"#000000\" fill-rule=\"nonzero\" fill-opacity=\"1\" /><path clip-path=\"url(#clip500)\" d=\"M1944.45 1544.91 L1952.09 1544.91 L1952.09 1518.55 L1943.78 1520.21 L1943.78 1515.95 L1952.04 1514.29 L1956.72 1514.29 L1956.72 1544.91 L1964.36 1544.91 L1964.36 1548.85 L1944.45 1548.85 L1944.45 1544.91 Z\" fill=\"#000000\" fill-rule=\"nonzero\" fill-opacity=\"1\" /><polyline clip-path=\"url(#clip502)\" style=\"stroke:#000000; stroke-linecap:round; stroke-linejoin:round; stroke-width:2; stroke-opacity:0.1; fill:none\" points=\"194.422,1471.11 2352.76,1471.11 \"/>\n",
       "<polyline clip-path=\"url(#clip502)\" style=\"stroke:#000000; stroke-linecap:round; stroke-linejoin:round; stroke-width:2; stroke-opacity:0.1; fill:none\" points=\"194.422,1119.54 2352.76,1119.54 \"/>\n",
       "<polyline clip-path=\"url(#clip502)\" style=\"stroke:#000000; stroke-linecap:round; stroke-linejoin:round; stroke-width:2; stroke-opacity:0.1; fill:none\" points=\"194.422,767.973 2352.76,767.973 \"/>\n",
       "<polyline clip-path=\"url(#clip502)\" style=\"stroke:#000000; stroke-linecap:round; stroke-linejoin:round; stroke-width:2; stroke-opacity:0.1; fill:none\" points=\"194.422,416.404 2352.76,416.404 \"/>\n",
       "<polyline clip-path=\"url(#clip502)\" style=\"stroke:#000000; stroke-linecap:round; stroke-linejoin:round; stroke-width:2; stroke-opacity:0.1; fill:none\" points=\"194.422,64.8354 2352.76,64.8354 \"/>\n",
       "<polyline clip-path=\"url(#clip500)\" style=\"stroke:#000000; stroke-linecap:round; stroke-linejoin:round; stroke-width:4; stroke-opacity:1; fill:none\" points=\"194.422,1486.45 194.422,47.2441 \"/>\n",
       "<polyline clip-path=\"url(#clip500)\" style=\"stroke:#000000; stroke-linecap:round; stroke-linejoin:round; stroke-width:4; stroke-opacity:1; fill:none\" points=\"194.422,1471.11 213.32,1471.11 \"/>\n",
       "<polyline clip-path=\"url(#clip500)\" style=\"stroke:#000000; stroke-linecap:round; stroke-linejoin:round; stroke-width:4; stroke-opacity:1; fill:none\" points=\"194.422,1119.54 213.32,1119.54 \"/>\n",
       "<polyline clip-path=\"url(#clip500)\" style=\"stroke:#000000; stroke-linecap:round; stroke-linejoin:round; stroke-width:4; stroke-opacity:1; fill:none\" points=\"194.422,767.973 213.32,767.973 \"/>\n",
       "<polyline clip-path=\"url(#clip500)\" style=\"stroke:#000000; stroke-linecap:round; stroke-linejoin:round; stroke-width:4; stroke-opacity:1; fill:none\" points=\"194.422,416.404 213.32,416.404 \"/>\n",
       "<polyline clip-path=\"url(#clip500)\" style=\"stroke:#000000; stroke-linecap:round; stroke-linejoin:round; stroke-width:4; stroke-opacity:1; fill:none\" points=\"194.422,64.8354 213.32,64.8354 \"/>\n",
       "<path clip-path=\"url(#clip500)\" d=\"M50.9921 1471.56 L80.6679 1471.56 L80.6679 1475.5 L50.9921 1475.5 L50.9921 1471.56 Z\" fill=\"#000000\" fill-rule=\"nonzero\" fill-opacity=\"1\" /><path clip-path=\"url(#clip500)\" d=\"M100.76 1456.91 Q97.1493 1456.91 95.3206 1460.47 Q93.515 1464.02 93.515 1471.14 Q93.515 1478.25 95.3206 1481.82 Q97.1493 1485.36 100.76 1485.36 Q104.395 1485.36 106.2 1481.82 Q108.029 1478.25 108.029 1471.14 Q108.029 1464.02 106.2 1460.47 Q104.395 1456.91 100.76 1456.91 M100.76 1453.21 Q106.571 1453.21 109.626 1457.81 Q112.705 1462.39 112.705 1471.14 Q112.705 1479.87 109.626 1484.48 Q106.571 1489.06 100.76 1489.06 Q94.9502 1489.06 91.8715 1484.48 Q88.816 1479.87 88.816 1471.14 Q88.816 1462.39 91.8715 1457.81 Q94.9502 1453.21 100.76 1453.21 Z\" fill=\"#000000\" fill-rule=\"nonzero\" fill-opacity=\"1\" /><path clip-path=\"url(#clip500)\" d=\"M120.922 1482.51 L125.807 1482.51 L125.807 1488.39 L120.922 1488.39 L120.922 1482.51 Z\" fill=\"#000000\" fill-rule=\"nonzero\" fill-opacity=\"1\" /><path clip-path=\"url(#clip500)\" d=\"M148.839 1457.9 L137.033 1476.35 L148.839 1476.35 L148.839 1457.9 M147.612 1453.83 L153.492 1453.83 L153.492 1476.35 L158.422 1476.35 L158.422 1480.24 L153.492 1480.24 L153.492 1488.39 L148.839 1488.39 L148.839 1480.24 L133.237 1480.24 L133.237 1475.73 L147.612 1453.83 Z\" fill=\"#000000\" fill-rule=\"nonzero\" fill-opacity=\"1\" /><path clip-path=\"url(#clip500)\" d=\"M53.0754 1119.99 L82.7512 1119.99 L82.7512 1123.93 L53.0754 1123.93 L53.0754 1119.99 Z\" fill=\"#000000\" fill-rule=\"nonzero\" fill-opacity=\"1\" /><path clip-path=\"url(#clip500)\" d=\"M102.844 1105.34 Q99.2326 1105.34 97.4039 1108.9 Q95.5984 1112.45 95.5984 1119.58 Q95.5984 1126.68 97.4039 1130.25 Q99.2326 1133.79 102.844 1133.79 Q106.478 1133.79 108.283 1130.25 Q110.112 1126.68 110.112 1119.58 Q110.112 1112.45 108.283 1108.9 Q106.478 1105.34 102.844 1105.34 M102.844 1101.64 Q108.654 1101.64 111.709 1106.24 Q114.788 1110.83 114.788 1119.58 Q114.788 1128.3 111.709 1132.91 Q108.654 1137.49 102.844 1137.49 Q97.0335 1137.49 93.9549 1132.91 Q90.8993 1128.3 90.8993 1119.58 Q90.8993 1110.83 93.9549 1106.24 Q97.0335 1101.64 102.844 1101.64 Z\" fill=\"#000000\" fill-rule=\"nonzero\" fill-opacity=\"1\" /><path clip-path=\"url(#clip500)\" d=\"M123.006 1130.94 L127.89 1130.94 L127.89 1136.82 L123.006 1136.82 L123.006 1130.94 Z\" fill=\"#000000\" fill-rule=\"nonzero\" fill-opacity=\"1\" /><path clip-path=\"url(#clip500)\" d=\"M142.103 1132.89 L158.422 1132.89 L158.422 1136.82 L136.478 1136.82 L136.478 1132.89 Q139.14 1130.13 143.723 1125.5 Q148.33 1120.85 149.51 1119.51 Q151.755 1116.98 152.635 1115.25 Q153.538 1113.49 153.538 1111.8 Q153.538 1109.04 151.593 1107.31 Q149.672 1105.57 146.57 1105.57 Q144.371 1105.57 141.918 1106.34 Q139.487 1107.1 136.709 1108.65 L136.709 1103.93 Q139.533 1102.79 141.987 1102.22 Q144.441 1101.64 146.478 1101.64 Q151.848 1101.64 155.042 1104.32 Q158.237 1107.01 158.237 1111.5 Q158.237 1113.63 157.427 1115.55 Q156.64 1117.45 154.533 1120.04 Q153.955 1120.71 150.853 1123.93 Q147.751 1127.12 142.103 1132.89 Z\" fill=\"#000000\" fill-rule=\"nonzero\" fill-opacity=\"1\" /><path clip-path=\"url(#clip500)\" d=\"M101.246 753.771 Q97.6354 753.771 95.8067 757.336 Q94.0012 760.878 94.0012 768.007 Q94.0012 775.114 95.8067 778.679 Q97.6354 782.22 101.246 782.22 Q104.881 782.22 106.686 778.679 Q108.515 775.114 108.515 768.007 Q108.515 760.878 106.686 757.336 Q104.881 753.771 101.246 753.771 M101.246 750.068 Q107.057 750.068 110.112 754.674 Q113.191 759.258 113.191 768.007 Q113.191 776.734 110.112 781.341 Q107.057 785.924 101.246 785.924 Q95.4363 785.924 92.3576 781.341 Q89.3021 776.734 89.3021 768.007 Q89.3021 759.258 92.3576 754.674 Q95.4363 750.068 101.246 750.068 Z\" fill=\"#000000\" fill-rule=\"nonzero\" fill-opacity=\"1\" /><path clip-path=\"url(#clip500)\" d=\"M121.408 779.373 L126.293 779.373 L126.293 785.253 L121.408 785.253 L121.408 779.373 Z\" fill=\"#000000\" fill-rule=\"nonzero\" fill-opacity=\"1\" /><path clip-path=\"url(#clip500)\" d=\"M146.478 753.771 Q142.867 753.771 141.038 757.336 Q139.232 760.878 139.232 768.007 Q139.232 775.114 141.038 778.679 Q142.867 782.22 146.478 782.22 Q150.112 782.22 151.918 778.679 Q153.746 775.114 153.746 768.007 Q153.746 760.878 151.918 757.336 Q150.112 753.771 146.478 753.771 M146.478 750.068 Q152.288 750.068 155.343 754.674 Q158.422 759.258 158.422 768.007 Q158.422 776.734 155.343 781.341 Q152.288 785.924 146.478 785.924 Q140.668 785.924 137.589 781.341 Q134.533 776.734 134.533 768.007 Q134.533 759.258 137.589 754.674 Q140.668 750.068 146.478 750.068 Z\" fill=\"#000000\" fill-rule=\"nonzero\" fill-opacity=\"1\" /><path clip-path=\"url(#clip500)\" d=\"M102.844 402.203 Q99.2326 402.203 97.4039 405.768 Q95.5984 409.309 95.5984 416.439 Q95.5984 423.545 97.4039 427.11 Q99.2326 430.652 102.844 430.652 Q106.478 430.652 108.283 427.11 Q110.112 423.545 110.112 416.439 Q110.112 409.309 108.283 405.768 Q106.478 402.203 102.844 402.203 M102.844 398.499 Q108.654 398.499 111.709 403.106 Q114.788 407.689 114.788 416.439 Q114.788 425.166 111.709 429.772 Q108.654 434.355 102.844 434.355 Q97.0335 434.355 93.9549 429.772 Q90.8993 425.166 90.8993 416.439 Q90.8993 407.689 93.9549 403.106 Q97.0335 398.499 102.844 398.499 Z\" fill=\"#000000\" fill-rule=\"nonzero\" fill-opacity=\"1\" /><path clip-path=\"url(#clip500)\" d=\"M123.006 427.804 L127.89 427.804 L127.89 433.684 L123.006 433.684 L123.006 427.804 Z\" fill=\"#000000\" fill-rule=\"nonzero\" fill-opacity=\"1\" /><path clip-path=\"url(#clip500)\" d=\"M142.103 429.749 L158.422 429.749 L158.422 433.684 L136.478 433.684 L136.478 429.749 Q139.14 426.994 143.723 422.365 Q148.33 417.712 149.51 416.369 Q151.755 413.846 152.635 412.11 Q153.538 410.351 153.538 408.661 Q153.538 405.906 151.593 404.17 Q149.672 402.434 146.57 402.434 Q144.371 402.434 141.918 403.198 Q139.487 403.962 136.709 405.513 L136.709 400.791 Q139.533 399.656 141.987 399.078 Q144.441 398.499 146.478 398.499 Q151.848 398.499 155.042 401.184 Q158.237 403.869 158.237 408.36 Q158.237 410.49 157.427 412.411 Q156.64 414.309 154.533 416.902 Q153.955 417.573 150.853 420.791 Q147.751 423.985 142.103 429.749 Z\" fill=\"#000000\" fill-rule=\"nonzero\" fill-opacity=\"1\" /><path clip-path=\"url(#clip500)\" d=\"M100.76 50.6341 Q97.1493 50.6341 95.3206 54.1989 Q93.515 57.7405 93.515 64.8701 Q93.515 71.9766 95.3206 75.5414 Q97.1493 79.083 100.76 79.083 Q104.395 79.083 106.2 75.5414 Q108.029 71.9766 108.029 64.8701 Q108.029 57.7405 106.2 54.1989 Q104.395 50.6341 100.76 50.6341 M100.76 46.9304 Q106.571 46.9304 109.626 51.5369 Q112.705 56.1202 112.705 64.8701 Q112.705 73.5969 109.626 78.2034 Q106.571 82.7867 100.76 82.7867 Q94.9502 82.7867 91.8715 78.2034 Q88.816 73.5969 88.816 64.8701 Q88.816 56.1202 91.8715 51.5369 Q94.9502 46.9304 100.76 46.9304 Z\" fill=\"#000000\" fill-rule=\"nonzero\" fill-opacity=\"1\" /><path clip-path=\"url(#clip500)\" d=\"M120.922 76.2358 L125.807 76.2358 L125.807 82.1154 L120.922 82.1154 L120.922 76.2358 Z\" fill=\"#000000\" fill-rule=\"nonzero\" fill-opacity=\"1\" /><path clip-path=\"url(#clip500)\" d=\"M148.839 51.6295 L137.033 70.0784 L148.839 70.0784 L148.839 51.6295 M147.612 47.5554 L153.492 47.5554 L153.492 70.0784 L158.422 70.0784 L158.422 73.9673 L153.492 73.9673 L153.492 82.1154 L148.839 82.1154 L148.839 73.9673 L133.237 73.9673 L133.237 69.4534 L147.612 47.5554 Z\" fill=\"#000000\" fill-rule=\"nonzero\" fill-opacity=\"1\" /><polyline clip-path=\"url(#clip502)\" style=\"stroke:#009af9; stroke-linecap:round; stroke-linejoin:round; stroke-width:4; stroke-opacity:1; fill:none\" points=\"255.507,502.114 262.246,485.191 269.707,441.123 276.928,473.894 284.389,517.659 291.609,504.435 299.07,346.029 306.531,506.44 313.752,443.83 321.213,424.418 328.433,473.198 335.895,538.626 343.356,524.225 350.095,640.953 357.556,711.449 364.776,749.82 372.237,744.609 379.458,703.369 386.919,620.893 394.38,698.146 401.601,746.778 409.062,845.673 416.282,857.444 423.743,896.512 431.204,928.879 437.943,873.317 445.405,779.26 452.625,1025.25 460.086,1038.5 467.307,950.304 474.768,958.171 482.229,928.508 489.449,992.588 496.91,1002.28 504.131,995.961 511.592,939.456 519.053,863.232 526.033,815.516 533.494,865.012 540.714,744.368 548.176,841.466 555.396,905.024 562.857,1025.22 570.318,1011.14 577.539,1066.97 585,1071.6 592.22,1163.04 599.681,1195.16 607.142,1215.56 613.882,1303.19 621.343,1183.63 628.563,1068.79 636.024,1055.21 643.245,1076.12 650.706,1113.79 658.167,1132.94 665.387,1153.62 672.848,1083.38 680.069,1075.08 687.53,1035.83 694.991,1078.64 701.73,1100.96 709.191,1138.92 716.412,1109.81 723.873,1074.54 731.093,1087.28 738.554,1120.41 746.016,1162.14 753.236,1132.83 760.697,1203.18 767.918,1230.14 775.379,1156.55 782.84,1155.63 789.579,1197.24 797.04,1213.34 804.26,1312.23 811.722,1219.51 818.942,1200.62 826.403,1187.14 833.864,1175.45 841.085,1198.58 848.546,1223.09 855.766,1155.72 863.227,1092.01 870.688,1151.91 877.668,1142.53 885.129,1281.1 892.35,1348.93 899.811,1391.68 907.031,1406.2 914.492,1445.72 921.954,1303.54 929.174,1213.72 936.635,1061.99 943.856,949.153 951.317,933.968 958.778,586.416 965.517,496.857 972.978,616.541 980.198,610.412 987.66,695.632 994.88,778.22 1002.34,872.208 1009.8,897.651 1017.02,913.261 1024.48,850.743 1031.7,827.319 1039.17,793.173 1046.63,826.998 1053.37,808.352 1060.83,790.027 1068.05,652.047 1075.51,472.654 1082.73,399.073 1090.19,576.984 1097.65,555.032 1104.87,592.752 1112.33,530.93 1119.55,319.139 1127.01,400.525 1134.48,452.368 1141.21,344.609 1148.68,284.815 1155.9,420.721 1163.36,297.426 1170.58,262.158 1178.04,151.879 1185.5,311.623 1192.72,135.656 1200.18,526.781 1207.4,546.63 1214.86,465.257 1222.32,885.682 1229.3,1044.04 1236.76,973.027 1243.99,868.121 1251.45,571.641 1258.67,677.919 1266.13,504.771 1273.59,483.215 1280.81,569.035 1288.27,584.203 1295.49,530.579 1302.95,624.589 1310.41,658.701 1317.15,605.084 1324.61,516.623 1331.83,646.25 1339.3,777.844 1346.52,789.152 1353.98,690.892 1361.44,720.308 1368.66,644.05 1376.12,626.478 1383.34,762.843 1390.8,732.256 1398.26,595.235 1405,681.588 1412.46,655.638 1419.68,519.616 1427.14,587.015 1434.36,581.546 1441.83,556.392 1449.29,561.604 1456.51,756.897 1463.97,631.873 1471.19,760.513 1478.65,718.519 1486.11,515.767 1492.85,414.033 1500.31,377.413 1507.53,517.799 1514.99,671.696 1522.21,542.867 1529.67,542.15 1537.14,524.504 1544.36,433.967 1551.82,395.735 1559.04,275.595 1566.5,295.171 1573.96,202.999 1580.94,308.791 1588.4,513.44 1595.62,400.024 1603.08,422.355 1610.3,446.285 1617.76,386.614 1625.22,398.565 1632.44,370.781 1639.91,282.038 1647.13,136.266 1654.59,87.9763 1662.05,291.845 1668.79,147.805 1676.25,217.599 1683.47,273.529 1690.93,369.549 1698.15,378.127 1705.61,498.75 1713.07,569.008 1720.29,585.552 1727.75,630.423 1734.98,676.685 1742.44,798.179 1749.9,937.595 1756.64,900.978 1764.1,940.9 1771.32,814.178 1778.78,792.079 1786,775.389 1793.46,821.051 1800.92,799.317 1808.14,820.768 1815.6,779.605 1822.82,875.355 1830.28,850.591 1837.75,921.488 1844.49,861.442 1851.95,716.437 1859.17,767.536 1866.63,816.296 1873.85,859.352 1881.31,777.614 1888.77,736.368 1895.99,682.093 1903.45,814.115 1910.67,888.565 1918.13,932.469 1925.59,824.28 1932.57,833.081 1940.04,694.118 1947.26,645.506 1954.72,631.976 1961.94,647.726 1969.4,694.578 1976.86,708.995 1984.08,664.746 1991.54,615.226 1998.76,658.863 2006.22,639.557 2013.68,569.075 2020.42,602.831 2027.88,495.887 2035.1,626.556 2042.57,781.917 2049.79,737.276 2057.25,674.783 2064.71,709.098 2071.93,627.679 2079.39,697.577 2086.61,620.072 2094.07,630.275 2101.53,600.598 2108.27,579.496 2115.73,602.172 2122.95,487.614 2130.41,566.863 2137.63,414.083 2145.1,422.129 2152.56,449.796 2159.78,353.013 2167.24,331.081 2174.46,511.761 2181.92,496.215 2189.38,558.866 2196.12,532.639 2203.58,690.506 2210.8,762.665 2218.26,665.606 2225.48,720.826 2232.94,646.335 2240.41,557.776 2247.63,538.426 2255.09,653.315 2262.31,654.236 2269.77,674.037 2277.23,635.99 2284.21,652.108 2291.67,750.452 \"/>\n",
       "<path clip-path=\"url(#clip500)\" d=\"M1881.99 1438.47 L2280.81 1438.47 L2280.81 1334.79 L1881.99 1334.79  Z\" fill=\"#ffffff\" fill-rule=\"evenodd\" fill-opacity=\"1\"/>\n",
       "<polyline clip-path=\"url(#clip500)\" style=\"stroke:#000000; stroke-linecap:round; stroke-linejoin:round; stroke-width:4; stroke-opacity:1; fill:none\" points=\"1881.99,1438.47 2280.81,1438.47 2280.81,1334.79 1881.99,1334.79 1881.99,1438.47 \"/>\n",
       "<polyline clip-path=\"url(#clip500)\" style=\"stroke:#009af9; stroke-linecap:round; stroke-linejoin:round; stroke-width:4; stroke-opacity:1; fill:none\" points=\"1905.97,1386.63 2049.86,1386.63 \"/>\n",
       "<path clip-path=\"url(#clip500)\" d=\"M2073.84 1369.35 L2078.54 1369.35 L2078.54 1390.35 Q2078.54 1395.91 2080.56 1398.36 Q2082.57 1400.79 2087.09 1400.79 Q2091.58 1400.79 2093.59 1398.36 Q2095.6 1395.91 2095.6 1390.35 L2095.6 1369.35 L2100.3 1369.35 L2100.3 1390.93 Q2100.3 1397.69 2096.95 1401.14 Q2093.61 1404.59 2087.09 1404.59 Q2080.53 1404.59 2077.18 1401.14 Q2073.84 1397.69 2073.84 1390.93 L2073.84 1369.35 Z\" fill=\"#000000\" fill-rule=\"nonzero\" fill-opacity=\"1\" /><path clip-path=\"url(#clip500)\" d=\"M2129.79 1370.49 L2129.79 1375.05 Q2127.13 1373.78 2124.77 1373.15 Q2122.41 1372.53 2120.21 1372.53 Q2116.39 1372.53 2114.31 1374.01 Q2112.25 1375.49 2112.25 1378.22 Q2112.25 1380.51 2113.61 1381.69 Q2115 1382.85 2118.84 1383.57 L2121.67 1384.15 Q2126.9 1385.14 2129.38 1387.66 Q2131.88 1390.16 2131.88 1394.38 Q2131.88 1399.4 2128.5 1401.99 Q2125.14 1404.59 2118.64 1404.59 Q2116.18 1404.59 2113.4 1404.03 Q2110.65 1403.47 2107.69 1402.39 L2107.69 1397.57 Q2110.53 1399.17 2113.27 1399.98 Q2116 1400.79 2118.64 1400.79 Q2122.64 1400.79 2124.82 1399.22 Q2126.99 1397.64 2126.99 1394.72 Q2126.99 1392.18 2125.42 1390.74 Q2123.87 1389.31 2120.3 1388.59 L2117.46 1388.03 Q2112.22 1386.99 2109.89 1384.77 Q2107.55 1382.55 2107.55 1378.59 Q2107.55 1374.01 2110.77 1371.37 Q2114.01 1368.73 2119.68 1368.73 Q2122.11 1368.73 2124.63 1369.17 Q2127.15 1369.61 2129.79 1370.49 Z\" fill=\"#000000\" fill-rule=\"nonzero\" fill-opacity=\"1\" /><path clip-path=\"url(#clip500)\" d=\"M2143.84 1373.2 L2143.84 1400.07 L2149.49 1400.07 Q2156.65 1400.07 2159.96 1396.83 Q2163.29 1393.59 2163.29 1386.6 Q2163.29 1379.66 2159.96 1376.44 Q2156.65 1373.2 2149.49 1373.2 L2143.84 1373.2 M2139.17 1369.35 L2148.77 1369.35 Q2158.82 1369.35 2163.52 1373.54 Q2168.22 1377.71 2168.22 1386.6 Q2168.22 1395.53 2163.5 1399.72 Q2158.77 1403.91 2148.77 1403.91 L2139.17 1403.91 L2139.17 1369.35 Z\" fill=\"#000000\" fill-rule=\"nonzero\" fill-opacity=\"1\" /><path clip-path=\"url(#clip500)\" d=\"M2180.35 1373.2 L2180.35 1386.18 L2186.23 1386.18 Q2189.49 1386.18 2191.27 1384.49 Q2193.06 1382.8 2193.06 1379.68 Q2193.06 1376.58 2191.27 1374.89 Q2189.49 1373.2 2186.23 1373.2 L2180.35 1373.2 M2175.67 1369.35 L2186.23 1369.35 Q2192.04 1369.35 2195 1371.99 Q2197.99 1374.61 2197.99 1379.68 Q2197.99 1384.79 2195 1387.41 Q2192.04 1390.03 2186.23 1390.03 L2180.35 1390.03 L2180.35 1403.91 L2175.67 1403.91 L2175.67 1369.35 Z\" fill=\"#000000\" fill-rule=\"nonzero\" fill-opacity=\"1\" /><path clip-path=\"url(#clip500)\" d=\"M2204.26 1369.35 L2208.94 1369.35 L2208.94 1399.98 L2225.77 1399.98 L2225.77 1403.91 L2204.26 1403.91 L2204.26 1369.35 Z\" fill=\"#000000\" fill-rule=\"nonzero\" fill-opacity=\"1\" /><path clip-path=\"url(#clip500)\" d=\"M2230.67 1369.35 L2236.97 1369.35 L2252.29 1398.27 L2252.29 1369.35 L2256.83 1369.35 L2256.83 1403.91 L2250.53 1403.91 L2235.21 1375 L2235.21 1403.91 L2230.67 1403.91 L2230.67 1369.35 Z\" fill=\"#000000\" fill-rule=\"nonzero\" fill-opacity=\"1\" /></svg>\n"
      ],
      "text/html": [
       "<?xml version=\"1.0\" encoding=\"utf-8\"?>\n",
       "<svg xmlns=\"http://www.w3.org/2000/svg\" xmlns:xlink=\"http://www.w3.org/1999/xlink\" width=\"600\" height=\"400\" viewBox=\"0 0 2400 1600\">\n",
       "<defs>\n",
       "  <clipPath id=\"clip550\">\n",
       "    <rect x=\"0\" y=\"0\" width=\"2400\" height=\"1600\"/>\n",
       "  </clipPath>\n",
       "</defs>\n",
       "<path clip-path=\"url(#clip550)\" d=\"M0 1600 L2400 1600 L2400 0 L0 0  Z\" fill=\"#ffffff\" fill-rule=\"evenodd\" fill-opacity=\"1\"/>\n",
       "<defs>\n",
       "  <clipPath id=\"clip551\">\n",
       "    <rect x=\"480\" y=\"0\" width=\"1681\" height=\"1600\"/>\n",
       "  </clipPath>\n",
       "</defs>\n",
       "<path clip-path=\"url(#clip550)\" d=\"M194.422 1486.45 L2352.76 1486.45 L2352.76 47.2441 L194.422 47.2441  Z\" fill=\"#ffffff\" fill-rule=\"evenodd\" fill-opacity=\"1\"/>\n",
       "<defs>\n",
       "  <clipPath id=\"clip552\">\n",
       "    <rect x=\"194\" y=\"47\" width=\"2159\" height=\"1440\"/>\n",
       "  </clipPath>\n",
       "</defs>\n",
       "<polyline clip-path=\"url(#clip552)\" style=\"stroke:#000000; stroke-linecap:round; stroke-linejoin:round; stroke-width:2; stroke-opacity:0.1; fill:none\" points=\"248.287,1486.45 248.287,47.2441 \"/>\n",
       "<polyline clip-path=\"url(#clip552)\" style=\"stroke:#000000; stroke-linecap:round; stroke-linejoin:round; stroke-width:2; stroke-opacity:0.1; fill:none\" points=\"775.619,1486.45 775.619,47.2441 \"/>\n",
       "<polyline clip-path=\"url(#clip552)\" style=\"stroke:#000000; stroke-linecap:round; stroke-linejoin:round; stroke-width:2; stroke-opacity:0.1; fill:none\" points=\"1303.19,1486.45 1303.19,47.2441 \"/>\n",
       "<polyline clip-path=\"url(#clip552)\" style=\"stroke:#000000; stroke-linecap:round; stroke-linejoin:round; stroke-width:2; stroke-opacity:0.1; fill:none\" points=\"1830.53,1486.45 1830.53,47.2441 \"/>\n",
       "<polyline clip-path=\"url(#clip550)\" style=\"stroke:#000000; stroke-linecap:round; stroke-linejoin:round; stroke-width:4; stroke-opacity:1; fill:none\" points=\"194.422,1486.45 2352.76,1486.45 \"/>\n",
       "<polyline clip-path=\"url(#clip550)\" style=\"stroke:#000000; stroke-linecap:round; stroke-linejoin:round; stroke-width:4; stroke-opacity:1; fill:none\" points=\"248.287,1486.45 248.287,1467.55 \"/>\n",
       "<polyline clip-path=\"url(#clip550)\" style=\"stroke:#000000; stroke-linecap:round; stroke-linejoin:round; stroke-width:4; stroke-opacity:1; fill:none\" points=\"775.619,1486.45 775.619,1467.55 \"/>\n",
       "<polyline clip-path=\"url(#clip550)\" style=\"stroke:#000000; stroke-linecap:round; stroke-linejoin:round; stroke-width:4; stroke-opacity:1; fill:none\" points=\"1303.19,1486.45 1303.19,1467.55 \"/>\n",
       "<polyline clip-path=\"url(#clip550)\" style=\"stroke:#000000; stroke-linecap:round; stroke-linejoin:round; stroke-width:4; stroke-opacity:1; fill:none\" points=\"1830.53,1486.45 1830.53,1467.55 \"/>\n",
       "<path clip-path=\"url(#clip550)\" d=\"M120.081 1544.91 L136.401 1544.91 L136.401 1548.85 L114.456 1548.85 L114.456 1544.91 Q117.118 1542.16 121.702 1537.53 Q126.308 1532.88 127.489 1531.53 Q129.734 1529.01 130.614 1527.27 Q131.516 1525.51 131.516 1523.82 Q131.516 1521.07 129.572 1519.33 Q127.651 1517.6 124.549 1517.6 Q122.35 1517.6 119.896 1518.36 Q117.466 1519.13 114.688 1520.68 L114.688 1515.95 Q117.512 1514.82 119.966 1514.24 Q122.419 1513.66 124.456 1513.66 Q129.827 1513.66 133.021 1516.35 Q136.215 1519.03 136.215 1523.52 Q136.215 1525.65 135.405 1527.57 Q134.618 1529.47 132.512 1532.07 Q131.933 1532.74 128.831 1535.95 Q125.729 1539.15 120.081 1544.91 Z\" fill=\"#000000\" fill-rule=\"nonzero\" fill-opacity=\"1\" /><path clip-path=\"url(#clip550)\" d=\"M156.215 1517.37 Q152.604 1517.37 150.776 1520.93 Q148.97 1524.47 148.97 1531.6 Q148.97 1538.71 150.776 1542.27 Q152.604 1545.82 156.215 1545.82 Q159.85 1545.82 161.655 1542.27 Q163.484 1538.71 163.484 1531.6 Q163.484 1524.47 161.655 1520.93 Q159.85 1517.37 156.215 1517.37 M156.215 1513.66 Q162.025 1513.66 165.081 1518.27 Q168.16 1522.85 168.16 1531.6 Q168.16 1540.33 165.081 1544.94 Q162.025 1549.52 156.215 1549.52 Q150.405 1549.52 147.326 1544.94 Q144.271 1540.33 144.271 1531.6 Q144.271 1522.85 147.326 1518.27 Q150.405 1513.66 156.215 1513.66 Z\" fill=\"#000000\" fill-rule=\"nonzero\" fill-opacity=\"1\" /><path clip-path=\"url(#clip550)\" d=\"M186.377 1517.37 Q182.766 1517.37 180.937 1520.93 Q179.132 1524.47 179.132 1531.6 Q179.132 1538.71 180.937 1542.27 Q182.766 1545.82 186.377 1545.82 Q190.011 1545.82 191.817 1542.27 Q193.646 1538.71 193.646 1531.6 Q193.646 1524.47 191.817 1520.93 Q190.011 1517.37 186.377 1517.37 M186.377 1513.66 Q192.187 1513.66 195.243 1518.27 Q198.322 1522.85 198.322 1531.6 Q198.322 1540.33 195.243 1544.94 Q192.187 1549.52 186.377 1549.52 Q180.567 1549.52 177.488 1544.94 Q174.433 1540.33 174.433 1531.6 Q174.433 1522.85 177.488 1518.27 Q180.567 1513.66 186.377 1513.66 Z\" fill=\"#000000\" fill-rule=\"nonzero\" fill-opacity=\"1\" /><path clip-path=\"url(#clip550)\" d=\"M207.349 1544.91 L214.988 1544.91 L214.988 1518.55 L206.678 1520.21 L206.678 1515.95 L214.942 1514.29 L219.618 1514.29 L219.618 1544.91 L227.257 1544.91 L227.257 1548.85 L207.349 1548.85 L207.349 1544.91 Z\" fill=\"#000000\" fill-rule=\"nonzero\" fill-opacity=\"1\" /><path clip-path=\"url(#clip550)\" d=\"M233.946 1533.96 L246.423 1533.96 L246.423 1537.76 L233.946 1537.76 L233.946 1533.96 Z\" fill=\"#000000\" fill-rule=\"nonzero\" fill-opacity=\"1\" /><path clip-path=\"url(#clip550)\" d=\"M263.807 1517.37 Q260.196 1517.37 258.368 1520.93 Q256.562 1524.47 256.562 1531.6 Q256.562 1538.71 258.368 1542.27 Q260.196 1545.82 263.807 1545.82 Q267.442 1545.82 269.247 1542.27 Q271.076 1538.71 271.076 1531.6 Q271.076 1524.47 269.247 1520.93 Q267.442 1517.37 263.807 1517.37 M263.807 1513.66 Q269.617 1513.66 272.673 1518.27 Q275.752 1522.85 275.752 1531.6 Q275.752 1540.33 272.673 1544.94 Q269.617 1549.52 263.807 1549.52 Q257.997 1549.52 254.918 1544.94 Q251.863 1540.33 251.863 1531.6 Q251.863 1522.85 254.918 1518.27 Q257.997 1513.66 263.807 1513.66 Z\" fill=\"#000000\" fill-rule=\"nonzero\" fill-opacity=\"1\" /><path clip-path=\"url(#clip550)\" d=\"M284.779 1544.91 L292.418 1544.91 L292.418 1518.55 L284.108 1520.21 L284.108 1515.95 L292.372 1514.29 L297.048 1514.29 L297.048 1544.91 L304.687 1544.91 L304.687 1548.85 L284.779 1548.85 L284.779 1544.91 Z\" fill=\"#000000\" fill-rule=\"nonzero\" fill-opacity=\"1\" /><path clip-path=\"url(#clip550)\" d=\"M311.377 1533.96 L323.853 1533.96 L323.853 1537.76 L311.377 1537.76 L311.377 1533.96 Z\" fill=\"#000000\" fill-rule=\"nonzero\" fill-opacity=\"1\" /><path clip-path=\"url(#clip550)\" d=\"M341.237 1517.37 Q337.626 1517.37 335.798 1520.93 Q333.992 1524.47 333.992 1531.6 Q333.992 1538.71 335.798 1542.27 Q337.626 1545.82 341.237 1545.82 Q344.872 1545.82 346.677 1542.27 Q348.506 1538.71 348.506 1531.6 Q348.506 1524.47 346.677 1520.93 Q344.872 1517.37 341.237 1517.37 M341.237 1513.66 Q347.048 1513.66 350.103 1518.27 Q353.182 1522.85 353.182 1531.6 Q353.182 1540.33 350.103 1544.94 Q347.048 1549.52 341.237 1549.52 Q335.427 1549.52 332.349 1544.94 Q329.293 1540.33 329.293 1531.6 Q329.293 1522.85 332.349 1518.27 Q335.427 1513.66 341.237 1513.66 Z\" fill=\"#000000\" fill-rule=\"nonzero\" fill-opacity=\"1\" /><path clip-path=\"url(#clip550)\" d=\"M362.21 1544.91 L369.848 1544.91 L369.848 1518.55 L361.538 1520.21 L361.538 1515.95 L369.802 1514.29 L374.478 1514.29 L374.478 1544.91 L382.117 1544.91 L382.117 1548.85 L362.21 1548.85 L362.21 1544.91 Z\" fill=\"#000000\" fill-rule=\"nonzero\" fill-opacity=\"1\" /><path clip-path=\"url(#clip550)\" d=\"M647.414 1544.91 L663.733 1544.91 L663.733 1548.85 L641.789 1548.85 L641.789 1544.91 Q644.451 1542.16 649.034 1537.53 Q653.641 1532.88 654.821 1531.53 Q657.067 1529.01 657.946 1527.27 Q658.849 1525.51 658.849 1523.82 Q658.849 1521.07 656.905 1519.33 Q654.983 1517.6 651.882 1517.6 Q649.683 1517.6 647.229 1518.36 Q644.798 1519.13 642.021 1520.68 L642.021 1515.95 Q644.845 1514.82 647.298 1514.24 Q649.752 1513.66 651.789 1513.66 Q657.159 1513.66 660.354 1516.35 Q663.548 1519.03 663.548 1523.52 Q663.548 1525.65 662.738 1527.57 Q661.951 1529.47 659.845 1532.07 Q659.266 1532.74 656.164 1535.95 Q653.062 1539.15 647.414 1544.91 Z\" fill=\"#000000\" fill-rule=\"nonzero\" fill-opacity=\"1\" /><path clip-path=\"url(#clip550)\" d=\"M683.548 1517.37 Q679.937 1517.37 678.108 1520.93 Q676.303 1524.47 676.303 1531.6 Q676.303 1538.71 678.108 1542.27 Q679.937 1545.82 683.548 1545.82 Q687.182 1545.82 688.988 1542.27 Q690.817 1538.71 690.817 1531.6 Q690.817 1524.47 688.988 1520.93 Q687.182 1517.37 683.548 1517.37 M683.548 1513.66 Q689.358 1513.66 692.414 1518.27 Q695.492 1522.85 695.492 1531.6 Q695.492 1540.33 692.414 1544.94 Q689.358 1549.52 683.548 1549.52 Q677.738 1549.52 674.659 1544.94 Q671.604 1540.33 671.604 1531.6 Q671.604 1522.85 674.659 1518.27 Q677.738 1513.66 683.548 1513.66 Z\" fill=\"#000000\" fill-rule=\"nonzero\" fill-opacity=\"1\" /><path clip-path=\"url(#clip550)\" d=\"M713.71 1517.37 Q710.099 1517.37 708.27 1520.93 Q706.465 1524.47 706.465 1531.6 Q706.465 1538.71 708.27 1542.27 Q710.099 1545.82 713.71 1545.82 Q717.344 1545.82 719.15 1542.27 Q720.978 1538.71 720.978 1531.6 Q720.978 1524.47 719.15 1520.93 Q717.344 1517.37 713.71 1517.37 M713.71 1513.66 Q719.52 1513.66 722.576 1518.27 Q725.654 1522.85 725.654 1531.6 Q725.654 1540.33 722.576 1544.94 Q719.52 1549.52 713.71 1549.52 Q707.9 1549.52 704.821 1544.94 Q701.766 1540.33 701.766 1531.6 Q701.766 1522.85 704.821 1518.27 Q707.9 1513.66 713.71 1513.66 Z\" fill=\"#000000\" fill-rule=\"nonzero\" fill-opacity=\"1\" /><path clip-path=\"url(#clip550)\" d=\"M732.691 1514.29 L754.913 1514.29 L754.913 1516.28 L742.367 1548.85 L737.483 1548.85 L749.288 1518.22 L732.691 1518.22 L732.691 1514.29 Z\" fill=\"#000000\" fill-rule=\"nonzero\" fill-opacity=\"1\" /><path clip-path=\"url(#clip550)\" d=\"M761.279 1533.96 L773.756 1533.96 L773.756 1537.76 L761.279 1537.76 L761.279 1533.96 Z\" fill=\"#000000\" fill-rule=\"nonzero\" fill-opacity=\"1\" /><path clip-path=\"url(#clip550)\" d=\"M791.14 1517.37 Q787.529 1517.37 785.7 1520.93 Q783.895 1524.47 783.895 1531.6 Q783.895 1538.71 785.7 1542.27 Q787.529 1545.82 791.14 1545.82 Q794.774 1545.82 796.58 1542.27 Q798.409 1538.71 798.409 1531.6 Q798.409 1524.47 796.58 1520.93 Q794.774 1517.37 791.14 1517.37 M791.14 1513.66 Q796.95 1513.66 800.006 1518.27 Q803.084 1522.85 803.084 1531.6 Q803.084 1540.33 800.006 1544.94 Q796.95 1549.52 791.14 1549.52 Q785.33 1549.52 782.251 1544.94 Q779.196 1540.33 779.196 1531.6 Q779.196 1522.85 782.251 1518.27 Q785.33 1513.66 791.14 1513.66 Z\" fill=\"#000000\" fill-rule=\"nonzero\" fill-opacity=\"1\" /><path clip-path=\"url(#clip550)\" d=\"M812.112 1544.91 L819.751 1544.91 L819.751 1518.55 L811.441 1520.21 L811.441 1515.95 L819.705 1514.29 L824.381 1514.29 L824.381 1544.91 L832.02 1544.91 L832.02 1548.85 L812.112 1548.85 L812.112 1544.91 Z\" fill=\"#000000\" fill-rule=\"nonzero\" fill-opacity=\"1\" /><path clip-path=\"url(#clip550)\" d=\"M838.709 1533.96 L851.186 1533.96 L851.186 1537.76 L838.709 1537.76 L838.709 1533.96 Z\" fill=\"#000000\" fill-rule=\"nonzero\" fill-opacity=\"1\" /><path clip-path=\"url(#clip550)\" d=\"M868.57 1517.37 Q864.959 1517.37 863.13 1520.93 Q861.325 1524.47 861.325 1531.6 Q861.325 1538.71 863.13 1542.27 Q864.959 1545.82 868.57 1545.82 Q872.204 1545.82 874.01 1542.27 Q875.839 1538.71 875.839 1531.6 Q875.839 1524.47 874.01 1520.93 Q872.204 1517.37 868.57 1517.37 M868.57 1513.66 Q874.38 1513.66 877.436 1518.27 Q880.515 1522.85 880.515 1531.6 Q880.515 1540.33 877.436 1544.94 Q874.38 1549.52 868.57 1549.52 Q862.76 1549.52 859.681 1544.94 Q856.626 1540.33 856.626 1531.6 Q856.626 1522.85 859.681 1518.27 Q862.76 1513.66 868.57 1513.66 Z\" fill=\"#000000\" fill-rule=\"nonzero\" fill-opacity=\"1\" /><path clip-path=\"url(#clip550)\" d=\"M889.542 1544.91 L897.181 1544.91 L897.181 1518.55 L888.871 1520.21 L888.871 1515.95 L897.135 1514.29 L901.811 1514.29 L901.811 1544.91 L909.45 1544.91 L909.45 1548.85 L889.542 1548.85 L889.542 1544.91 Z\" fill=\"#000000\" fill-rule=\"nonzero\" fill-opacity=\"1\" /><path clip-path=\"url(#clip550)\" d=\"M1174.99 1544.91 L1191.31 1544.91 L1191.31 1548.85 L1169.36 1548.85 L1169.36 1544.91 Q1172.02 1542.16 1176.61 1537.53 Q1181.21 1532.88 1182.39 1531.53 Q1184.64 1529.01 1185.52 1527.27 Q1186.42 1525.51 1186.42 1523.82 Q1186.42 1521.07 1184.48 1519.33 Q1182.56 1517.6 1179.46 1517.6 Q1177.26 1517.6 1174.8 1518.36 Q1172.37 1519.13 1169.59 1520.68 L1169.59 1515.95 Q1172.42 1514.82 1174.87 1514.24 Q1177.33 1513.66 1179.36 1513.66 Q1184.73 1513.66 1187.93 1516.35 Q1191.12 1519.03 1191.12 1523.52 Q1191.12 1525.65 1190.31 1527.57 Q1189.52 1529.47 1187.42 1532.07 Q1186.84 1532.74 1183.74 1535.95 Q1180.64 1539.15 1174.99 1544.91 Z\" fill=\"#000000\" fill-rule=\"nonzero\" fill-opacity=\"1\" /><path clip-path=\"url(#clip550)\" d=\"M1211.12 1517.37 Q1207.51 1517.37 1205.68 1520.93 Q1203.88 1524.47 1203.88 1531.6 Q1203.88 1538.71 1205.68 1542.27 Q1207.51 1545.82 1211.12 1545.82 Q1214.76 1545.82 1216.56 1542.27 Q1218.39 1538.71 1218.39 1531.6 Q1218.39 1524.47 1216.56 1520.93 Q1214.76 1517.37 1211.12 1517.37 M1211.12 1513.66 Q1216.93 1513.66 1219.99 1518.27 Q1223.07 1522.85 1223.07 1531.6 Q1223.07 1540.33 1219.99 1544.94 Q1216.93 1549.52 1211.12 1549.52 Q1205.31 1549.52 1202.23 1544.94 Q1199.18 1540.33 1199.18 1531.6 Q1199.18 1522.85 1202.23 1518.27 Q1205.31 1513.66 1211.12 1513.66 Z\" fill=\"#000000\" fill-rule=\"nonzero\" fill-opacity=\"1\" /><path clip-path=\"url(#clip550)\" d=\"M1232.09 1544.91 L1239.73 1544.91 L1239.73 1518.55 L1231.42 1520.21 L1231.42 1515.95 L1239.69 1514.29 L1244.36 1514.29 L1244.36 1544.91 L1252 1544.91 L1252 1548.85 L1232.09 1548.85 L1232.09 1544.91 Z\" fill=\"#000000\" fill-rule=\"nonzero\" fill-opacity=\"1\" /><path clip-path=\"url(#clip550)\" d=\"M1275.61 1530.21 Q1278.97 1530.93 1280.84 1533.2 Q1282.74 1535.47 1282.74 1538.8 Q1282.74 1543.92 1279.22 1546.72 Q1275.7 1549.52 1269.22 1549.52 Q1267.05 1549.52 1264.73 1549.08 Q1262.44 1548.66 1259.99 1547.81 L1259.99 1543.29 Q1261.93 1544.43 1264.25 1545.01 Q1266.56 1545.58 1269.08 1545.58 Q1273.48 1545.58 1275.77 1543.85 Q1278.09 1542.11 1278.09 1538.8 Q1278.09 1535.75 1275.94 1534.03 Q1273.81 1532.3 1269.99 1532.3 L1265.96 1532.3 L1265.96 1528.45 L1270.17 1528.45 Q1273.62 1528.45 1275.45 1527.09 Q1277.28 1525.7 1277.28 1523.11 Q1277.28 1520.45 1275.38 1519.03 Q1273.51 1517.6 1269.99 1517.6 Q1268.07 1517.6 1265.87 1518.01 Q1263.67 1518.43 1261.03 1519.31 L1261.03 1515.14 Q1263.69 1514.4 1266.01 1514.03 Q1268.34 1513.66 1270.4 1513.66 Q1275.73 1513.66 1278.83 1516.09 Q1281.93 1518.5 1281.93 1522.62 Q1281.93 1525.49 1280.29 1527.48 Q1278.64 1529.45 1275.61 1530.21 Z\" fill=\"#000000\" fill-rule=\"nonzero\" fill-opacity=\"1\" /><path clip-path=\"url(#clip550)\" d=\"M1288.85 1533.96 L1301.33 1533.96 L1301.33 1537.76 L1288.85 1537.76 L1288.85 1533.96 Z\" fill=\"#000000\" fill-rule=\"nonzero\" fill-opacity=\"1\" /><path clip-path=\"url(#clip550)\" d=\"M1318.71 1517.37 Q1315.1 1517.37 1313.27 1520.93 Q1311.47 1524.47 1311.47 1531.6 Q1311.47 1538.71 1313.27 1542.27 Q1315.1 1545.82 1318.71 1545.82 Q1322.35 1545.82 1324.15 1542.27 Q1325.98 1538.71 1325.98 1531.6 Q1325.98 1524.47 1324.15 1520.93 Q1322.35 1517.37 1318.71 1517.37 M1318.71 1513.66 Q1324.52 1513.66 1327.58 1518.27 Q1330.66 1522.85 1330.66 1531.6 Q1330.66 1540.33 1327.58 1544.94 Q1324.52 1549.52 1318.71 1549.52 Q1312.9 1549.52 1309.82 1544.94 Q1306.77 1540.33 1306.77 1531.6 Q1306.77 1522.85 1309.82 1518.27 Q1312.9 1513.66 1318.71 1513.66 Z\" fill=\"#000000\" fill-rule=\"nonzero\" fill-opacity=\"1\" /><path clip-path=\"url(#clip550)\" d=\"M1339.69 1544.91 L1347.32 1544.91 L1347.32 1518.55 L1339.01 1520.21 L1339.01 1515.95 L1347.28 1514.29 L1351.95 1514.29 L1351.95 1544.91 L1359.59 1544.91 L1359.59 1548.85 L1339.69 1548.85 L1339.69 1544.91 Z\" fill=\"#000000\" fill-rule=\"nonzero\" fill-opacity=\"1\" /><path clip-path=\"url(#clip550)\" d=\"M1366.28 1533.96 L1378.76 1533.96 L1378.76 1537.76 L1366.28 1537.76 L1366.28 1533.96 Z\" fill=\"#000000\" fill-rule=\"nonzero\" fill-opacity=\"1\" /><path clip-path=\"url(#clip550)\" d=\"M1396.14 1517.37 Q1392.53 1517.37 1390.7 1520.93 Q1388.9 1524.47 1388.9 1531.6 Q1388.9 1538.71 1390.7 1542.27 Q1392.53 1545.82 1396.14 1545.82 Q1399.78 1545.82 1401.58 1542.27 Q1403.41 1538.71 1403.41 1531.6 Q1403.41 1524.47 1401.58 1520.93 Q1399.78 1517.37 1396.14 1517.37 M1396.14 1513.66 Q1401.95 1513.66 1405.01 1518.27 Q1408.09 1522.85 1408.09 1531.6 Q1408.09 1540.33 1405.01 1544.94 Q1401.95 1549.52 1396.14 1549.52 Q1390.33 1549.52 1387.25 1544.94 Q1384.2 1540.33 1384.2 1531.6 Q1384.2 1522.85 1387.25 1518.27 Q1390.33 1513.66 1396.14 1513.66 Z\" fill=\"#000000\" fill-rule=\"nonzero\" fill-opacity=\"1\" /><path clip-path=\"url(#clip550)\" d=\"M1417.12 1544.91 L1424.75 1544.91 L1424.75 1518.55 L1416.44 1520.21 L1416.44 1515.95 L1424.71 1514.29 L1429.38 1514.29 L1429.38 1544.91 L1437.02 1544.91 L1437.02 1548.85 L1417.12 1548.85 L1417.12 1544.91 Z\" fill=\"#000000\" fill-rule=\"nonzero\" fill-opacity=\"1\" /><path clip-path=\"url(#clip550)\" d=\"M1702.32 1544.91 L1718.64 1544.91 L1718.64 1548.85 L1696.7 1548.85 L1696.7 1544.91 Q1699.36 1542.16 1703.94 1537.53 Q1708.55 1532.88 1709.73 1531.53 Q1711.97 1529.01 1712.85 1527.27 Q1713.76 1525.51 1713.76 1523.82 Q1713.76 1521.07 1711.81 1519.33 Q1709.89 1517.6 1706.79 1517.6 Q1704.59 1517.6 1702.14 1518.36 Q1699.7 1519.13 1696.93 1520.68 L1696.93 1515.95 Q1699.75 1514.82 1702.2 1514.24 Q1704.66 1513.66 1706.7 1513.66 Q1712.07 1513.66 1715.26 1516.35 Q1718.45 1519.03 1718.45 1523.52 Q1718.45 1525.65 1717.64 1527.57 Q1716.86 1529.47 1714.75 1532.07 Q1714.17 1532.74 1711.07 1535.95 Q1707.97 1539.15 1702.32 1544.91 Z\" fill=\"#000000\" fill-rule=\"nonzero\" fill-opacity=\"1\" /><path clip-path=\"url(#clip550)\" d=\"M1738.45 1517.37 Q1734.84 1517.37 1733.01 1520.93 Q1731.21 1524.47 1731.21 1531.6 Q1731.21 1538.71 1733.01 1542.27 Q1734.84 1545.82 1738.45 1545.82 Q1742.09 1545.82 1743.89 1542.27 Q1745.72 1538.71 1745.72 1531.6 Q1745.72 1524.47 1743.89 1520.93 Q1742.09 1517.37 1738.45 1517.37 M1738.45 1513.66 Q1744.26 1513.66 1747.32 1518.27 Q1750.4 1522.85 1750.4 1531.6 Q1750.4 1540.33 1747.32 1544.94 Q1744.26 1549.52 1738.45 1549.52 Q1732.64 1549.52 1729.57 1544.94 Q1726.51 1540.33 1726.51 1531.6 Q1726.51 1522.85 1729.57 1518.27 Q1732.64 1513.66 1738.45 1513.66 Z\" fill=\"#000000\" fill-rule=\"nonzero\" fill-opacity=\"1\" /><path clip-path=\"url(#clip550)\" d=\"M1759.43 1544.91 L1767.07 1544.91 L1767.07 1518.55 L1758.76 1520.21 L1758.76 1515.95 L1767.02 1514.29 L1771.69 1514.29 L1771.69 1544.91 L1779.33 1544.91 L1779.33 1548.85 L1759.43 1548.85 L1759.43 1544.91 Z\" fill=\"#000000\" fill-rule=\"nonzero\" fill-opacity=\"1\" /><path clip-path=\"url(#clip550)\" d=\"M1788.92 1548.13 L1788.92 1543.87 Q1790.68 1544.7 1792.48 1545.14 Q1794.29 1545.58 1796.02 1545.58 Q1800.65 1545.58 1803.08 1542.48 Q1805.54 1539.36 1805.88 1533.01 Q1804.54 1535.01 1802.48 1536.07 Q1800.42 1537.13 1797.92 1537.13 Q1792.74 1537.13 1789.7 1534.01 Q1786.69 1530.86 1786.69 1525.42 Q1786.69 1520.1 1789.84 1516.88 Q1792.99 1513.66 1798.22 1513.66 Q1804.22 1513.66 1807.37 1518.27 Q1810.54 1522.85 1810.54 1531.6 Q1810.54 1539.77 1806.65 1544.66 Q1802.78 1549.52 1796.23 1549.52 Q1794.47 1549.52 1792.67 1549.17 Q1790.86 1548.82 1788.92 1548.13 M1798.22 1533.48 Q1801.37 1533.48 1803.2 1531.32 Q1805.05 1529.17 1805.05 1525.42 Q1805.05 1521.7 1803.2 1519.54 Q1801.37 1517.37 1798.22 1517.37 Q1795.07 1517.37 1793.22 1519.54 Q1791.39 1521.7 1791.39 1525.42 Q1791.39 1529.17 1793.22 1531.32 Q1795.07 1533.48 1798.22 1533.48 Z\" fill=\"#000000\" fill-rule=\"nonzero\" fill-opacity=\"1\" /><path clip-path=\"url(#clip550)\" d=\"M1816.19 1533.96 L1828.66 1533.96 L1828.66 1537.76 L1816.19 1537.76 L1816.19 1533.96 Z\" fill=\"#000000\" fill-rule=\"nonzero\" fill-opacity=\"1\" /><path clip-path=\"url(#clip550)\" d=\"M1846.05 1517.37 Q1842.44 1517.37 1840.61 1520.93 Q1838.8 1524.47 1838.8 1531.6 Q1838.8 1538.71 1840.61 1542.27 Q1842.44 1545.82 1846.05 1545.82 Q1849.68 1545.82 1851.49 1542.27 Q1853.31 1538.71 1853.31 1531.6 Q1853.31 1524.47 1851.49 1520.93 Q1849.68 1517.37 1846.05 1517.37 M1846.05 1513.66 Q1851.86 1513.66 1854.91 1518.27 Q1857.99 1522.85 1857.99 1531.6 Q1857.99 1540.33 1854.91 1544.94 Q1851.86 1549.52 1846.05 1549.52 Q1840.24 1549.52 1837.16 1544.94 Q1834.1 1540.33 1834.1 1531.6 Q1834.1 1522.85 1837.16 1518.27 Q1840.24 1513.66 1846.05 1513.66 Z\" fill=\"#000000\" fill-rule=\"nonzero\" fill-opacity=\"1\" /><path clip-path=\"url(#clip550)\" d=\"M1867.02 1544.91 L1874.66 1544.91 L1874.66 1518.55 L1866.35 1520.21 L1866.35 1515.95 L1874.61 1514.29 L1879.29 1514.29 L1879.29 1544.91 L1886.93 1544.91 L1886.93 1548.85 L1867.02 1548.85 L1867.02 1544.91 Z\" fill=\"#000000\" fill-rule=\"nonzero\" fill-opacity=\"1\" /><path clip-path=\"url(#clip550)\" d=\"M1893.62 1533.96 L1906.09 1533.96 L1906.09 1537.76 L1893.62 1537.76 L1893.62 1533.96 Z\" fill=\"#000000\" fill-rule=\"nonzero\" fill-opacity=\"1\" /><path clip-path=\"url(#clip550)\" d=\"M1923.48 1517.37 Q1919.87 1517.37 1918.04 1520.93 Q1916.23 1524.47 1916.23 1531.6 Q1916.23 1538.71 1918.04 1542.27 Q1919.87 1545.82 1923.48 1545.82 Q1927.11 1545.82 1928.92 1542.27 Q1930.74 1538.71 1930.74 1531.6 Q1930.74 1524.47 1928.92 1520.93 Q1927.11 1517.37 1923.48 1517.37 M1923.48 1513.66 Q1929.29 1513.66 1932.34 1518.27 Q1935.42 1522.85 1935.42 1531.6 Q1935.42 1540.33 1932.34 1544.94 Q1929.29 1549.52 1923.48 1549.52 Q1917.67 1549.52 1914.59 1544.94 Q1911.53 1540.33 1911.53 1531.6 Q1911.53 1522.85 1914.59 1518.27 Q1917.67 1513.66 1923.48 1513.66 Z\" fill=\"#000000\" fill-rule=\"nonzero\" fill-opacity=\"1\" /><path clip-path=\"url(#clip550)\" d=\"M1944.45 1544.91 L1952.09 1544.91 L1952.09 1518.55 L1943.78 1520.21 L1943.78 1515.95 L1952.04 1514.29 L1956.72 1514.29 L1956.72 1544.91 L1964.36 1544.91 L1964.36 1548.85 L1944.45 1548.85 L1944.45 1544.91 Z\" fill=\"#000000\" fill-rule=\"nonzero\" fill-opacity=\"1\" /><polyline clip-path=\"url(#clip552)\" style=\"stroke:#000000; stroke-linecap:round; stroke-linejoin:round; stroke-width:2; stroke-opacity:0.1; fill:none\" points=\"194.422,1471.11 2352.76,1471.11 \"/>\n",
       "<polyline clip-path=\"url(#clip552)\" style=\"stroke:#000000; stroke-linecap:round; stroke-linejoin:round; stroke-width:2; stroke-opacity:0.1; fill:none\" points=\"194.422,1119.54 2352.76,1119.54 \"/>\n",
       "<polyline clip-path=\"url(#clip552)\" style=\"stroke:#000000; stroke-linecap:round; stroke-linejoin:round; stroke-width:2; stroke-opacity:0.1; fill:none\" points=\"194.422,767.973 2352.76,767.973 \"/>\n",
       "<polyline clip-path=\"url(#clip552)\" style=\"stroke:#000000; stroke-linecap:round; stroke-linejoin:round; stroke-width:2; stroke-opacity:0.1; fill:none\" points=\"194.422,416.404 2352.76,416.404 \"/>\n",
       "<polyline clip-path=\"url(#clip552)\" style=\"stroke:#000000; stroke-linecap:round; stroke-linejoin:round; stroke-width:2; stroke-opacity:0.1; fill:none\" points=\"194.422,64.8354 2352.76,64.8354 \"/>\n",
       "<polyline clip-path=\"url(#clip550)\" style=\"stroke:#000000; stroke-linecap:round; stroke-linejoin:round; stroke-width:4; stroke-opacity:1; fill:none\" points=\"194.422,1486.45 194.422,47.2441 \"/>\n",
       "<polyline clip-path=\"url(#clip550)\" style=\"stroke:#000000; stroke-linecap:round; stroke-linejoin:round; stroke-width:4; stroke-opacity:1; fill:none\" points=\"194.422,1471.11 213.32,1471.11 \"/>\n",
       "<polyline clip-path=\"url(#clip550)\" style=\"stroke:#000000; stroke-linecap:round; stroke-linejoin:round; stroke-width:4; stroke-opacity:1; fill:none\" points=\"194.422,1119.54 213.32,1119.54 \"/>\n",
       "<polyline clip-path=\"url(#clip550)\" style=\"stroke:#000000; stroke-linecap:round; stroke-linejoin:round; stroke-width:4; stroke-opacity:1; fill:none\" points=\"194.422,767.973 213.32,767.973 \"/>\n",
       "<polyline clip-path=\"url(#clip550)\" style=\"stroke:#000000; stroke-linecap:round; stroke-linejoin:round; stroke-width:4; stroke-opacity:1; fill:none\" points=\"194.422,416.404 213.32,416.404 \"/>\n",
       "<polyline clip-path=\"url(#clip550)\" style=\"stroke:#000000; stroke-linecap:round; stroke-linejoin:round; stroke-width:4; stroke-opacity:1; fill:none\" points=\"194.422,64.8354 213.32,64.8354 \"/>\n",
       "<path clip-path=\"url(#clip550)\" d=\"M50.9921 1471.56 L80.6679 1471.56 L80.6679 1475.5 L50.9921 1475.5 L50.9921 1471.56 Z\" fill=\"#000000\" fill-rule=\"nonzero\" fill-opacity=\"1\" /><path clip-path=\"url(#clip550)\" d=\"M100.76 1456.91 Q97.1493 1456.91 95.3206 1460.47 Q93.515 1464.02 93.515 1471.14 Q93.515 1478.25 95.3206 1481.82 Q97.1493 1485.36 100.76 1485.36 Q104.395 1485.36 106.2 1481.82 Q108.029 1478.25 108.029 1471.14 Q108.029 1464.02 106.2 1460.47 Q104.395 1456.91 100.76 1456.91 M100.76 1453.21 Q106.571 1453.21 109.626 1457.81 Q112.705 1462.39 112.705 1471.14 Q112.705 1479.87 109.626 1484.48 Q106.571 1489.06 100.76 1489.06 Q94.9502 1489.06 91.8715 1484.48 Q88.816 1479.87 88.816 1471.14 Q88.816 1462.39 91.8715 1457.81 Q94.9502 1453.21 100.76 1453.21 Z\" fill=\"#000000\" fill-rule=\"nonzero\" fill-opacity=\"1\" /><path clip-path=\"url(#clip550)\" d=\"M120.922 1482.51 L125.807 1482.51 L125.807 1488.39 L120.922 1488.39 L120.922 1482.51 Z\" fill=\"#000000\" fill-rule=\"nonzero\" fill-opacity=\"1\" /><path clip-path=\"url(#clip550)\" d=\"M148.839 1457.9 L137.033 1476.35 L148.839 1476.35 L148.839 1457.9 M147.612 1453.83 L153.492 1453.83 L153.492 1476.35 L158.422 1476.35 L158.422 1480.24 L153.492 1480.24 L153.492 1488.39 L148.839 1488.39 L148.839 1480.24 L133.237 1480.24 L133.237 1475.73 L147.612 1453.83 Z\" fill=\"#000000\" fill-rule=\"nonzero\" fill-opacity=\"1\" /><path clip-path=\"url(#clip550)\" d=\"M53.0754 1119.99 L82.7512 1119.99 L82.7512 1123.93 L53.0754 1123.93 L53.0754 1119.99 Z\" fill=\"#000000\" fill-rule=\"nonzero\" fill-opacity=\"1\" /><path clip-path=\"url(#clip550)\" d=\"M102.844 1105.34 Q99.2326 1105.34 97.4039 1108.9 Q95.5984 1112.45 95.5984 1119.58 Q95.5984 1126.68 97.4039 1130.25 Q99.2326 1133.79 102.844 1133.79 Q106.478 1133.79 108.283 1130.25 Q110.112 1126.68 110.112 1119.58 Q110.112 1112.45 108.283 1108.9 Q106.478 1105.34 102.844 1105.34 M102.844 1101.64 Q108.654 1101.64 111.709 1106.24 Q114.788 1110.83 114.788 1119.58 Q114.788 1128.3 111.709 1132.91 Q108.654 1137.49 102.844 1137.49 Q97.0335 1137.49 93.9549 1132.91 Q90.8993 1128.3 90.8993 1119.58 Q90.8993 1110.83 93.9549 1106.24 Q97.0335 1101.64 102.844 1101.64 Z\" fill=\"#000000\" fill-rule=\"nonzero\" fill-opacity=\"1\" /><path clip-path=\"url(#clip550)\" d=\"M123.006 1130.94 L127.89 1130.94 L127.89 1136.82 L123.006 1136.82 L123.006 1130.94 Z\" fill=\"#000000\" fill-rule=\"nonzero\" fill-opacity=\"1\" /><path clip-path=\"url(#clip550)\" d=\"M142.103 1132.89 L158.422 1132.89 L158.422 1136.82 L136.478 1136.82 L136.478 1132.89 Q139.14 1130.13 143.723 1125.5 Q148.33 1120.85 149.51 1119.51 Q151.755 1116.98 152.635 1115.25 Q153.538 1113.49 153.538 1111.8 Q153.538 1109.04 151.593 1107.31 Q149.672 1105.57 146.57 1105.57 Q144.371 1105.57 141.918 1106.34 Q139.487 1107.1 136.709 1108.65 L136.709 1103.93 Q139.533 1102.79 141.987 1102.22 Q144.441 1101.64 146.478 1101.64 Q151.848 1101.64 155.042 1104.32 Q158.237 1107.01 158.237 1111.5 Q158.237 1113.63 157.427 1115.55 Q156.64 1117.45 154.533 1120.04 Q153.955 1120.71 150.853 1123.93 Q147.751 1127.12 142.103 1132.89 Z\" fill=\"#000000\" fill-rule=\"nonzero\" fill-opacity=\"1\" /><path clip-path=\"url(#clip550)\" d=\"M101.246 753.771 Q97.6354 753.771 95.8067 757.336 Q94.0012 760.878 94.0012 768.007 Q94.0012 775.114 95.8067 778.679 Q97.6354 782.22 101.246 782.22 Q104.881 782.22 106.686 778.679 Q108.515 775.114 108.515 768.007 Q108.515 760.878 106.686 757.336 Q104.881 753.771 101.246 753.771 M101.246 750.068 Q107.057 750.068 110.112 754.674 Q113.191 759.258 113.191 768.007 Q113.191 776.734 110.112 781.341 Q107.057 785.924 101.246 785.924 Q95.4363 785.924 92.3576 781.341 Q89.3021 776.734 89.3021 768.007 Q89.3021 759.258 92.3576 754.674 Q95.4363 750.068 101.246 750.068 Z\" fill=\"#000000\" fill-rule=\"nonzero\" fill-opacity=\"1\" /><path clip-path=\"url(#clip550)\" d=\"M121.408 779.373 L126.293 779.373 L126.293 785.253 L121.408 785.253 L121.408 779.373 Z\" fill=\"#000000\" fill-rule=\"nonzero\" fill-opacity=\"1\" /><path clip-path=\"url(#clip550)\" d=\"M146.478 753.771 Q142.867 753.771 141.038 757.336 Q139.232 760.878 139.232 768.007 Q139.232 775.114 141.038 778.679 Q142.867 782.22 146.478 782.22 Q150.112 782.22 151.918 778.679 Q153.746 775.114 153.746 768.007 Q153.746 760.878 151.918 757.336 Q150.112 753.771 146.478 753.771 M146.478 750.068 Q152.288 750.068 155.343 754.674 Q158.422 759.258 158.422 768.007 Q158.422 776.734 155.343 781.341 Q152.288 785.924 146.478 785.924 Q140.668 785.924 137.589 781.341 Q134.533 776.734 134.533 768.007 Q134.533 759.258 137.589 754.674 Q140.668 750.068 146.478 750.068 Z\" fill=\"#000000\" fill-rule=\"nonzero\" fill-opacity=\"1\" /><path clip-path=\"url(#clip550)\" d=\"M102.844 402.203 Q99.2326 402.203 97.4039 405.768 Q95.5984 409.309 95.5984 416.439 Q95.5984 423.545 97.4039 427.11 Q99.2326 430.652 102.844 430.652 Q106.478 430.652 108.283 427.11 Q110.112 423.545 110.112 416.439 Q110.112 409.309 108.283 405.768 Q106.478 402.203 102.844 402.203 M102.844 398.499 Q108.654 398.499 111.709 403.106 Q114.788 407.689 114.788 416.439 Q114.788 425.166 111.709 429.772 Q108.654 434.355 102.844 434.355 Q97.0335 434.355 93.9549 429.772 Q90.8993 425.166 90.8993 416.439 Q90.8993 407.689 93.9549 403.106 Q97.0335 398.499 102.844 398.499 Z\" fill=\"#000000\" fill-rule=\"nonzero\" fill-opacity=\"1\" /><path clip-path=\"url(#clip550)\" d=\"M123.006 427.804 L127.89 427.804 L127.89 433.684 L123.006 433.684 L123.006 427.804 Z\" fill=\"#000000\" fill-rule=\"nonzero\" fill-opacity=\"1\" /><path clip-path=\"url(#clip550)\" d=\"M142.103 429.749 L158.422 429.749 L158.422 433.684 L136.478 433.684 L136.478 429.749 Q139.14 426.994 143.723 422.365 Q148.33 417.712 149.51 416.369 Q151.755 413.846 152.635 412.11 Q153.538 410.351 153.538 408.661 Q153.538 405.906 151.593 404.17 Q149.672 402.434 146.57 402.434 Q144.371 402.434 141.918 403.198 Q139.487 403.962 136.709 405.513 L136.709 400.791 Q139.533 399.656 141.987 399.078 Q144.441 398.499 146.478 398.499 Q151.848 398.499 155.042 401.184 Q158.237 403.869 158.237 408.36 Q158.237 410.49 157.427 412.411 Q156.64 414.309 154.533 416.902 Q153.955 417.573 150.853 420.791 Q147.751 423.985 142.103 429.749 Z\" fill=\"#000000\" fill-rule=\"nonzero\" fill-opacity=\"1\" /><path clip-path=\"url(#clip550)\" d=\"M100.76 50.6341 Q97.1493 50.6341 95.3206 54.1989 Q93.515 57.7405 93.515 64.8701 Q93.515 71.9766 95.3206 75.5414 Q97.1493 79.083 100.76 79.083 Q104.395 79.083 106.2 75.5414 Q108.029 71.9766 108.029 64.8701 Q108.029 57.7405 106.2 54.1989 Q104.395 50.6341 100.76 50.6341 M100.76 46.9304 Q106.571 46.9304 109.626 51.5369 Q112.705 56.1202 112.705 64.8701 Q112.705 73.5969 109.626 78.2034 Q106.571 82.7867 100.76 82.7867 Q94.9502 82.7867 91.8715 78.2034 Q88.816 73.5969 88.816 64.8701 Q88.816 56.1202 91.8715 51.5369 Q94.9502 46.9304 100.76 46.9304 Z\" fill=\"#000000\" fill-rule=\"nonzero\" fill-opacity=\"1\" /><path clip-path=\"url(#clip550)\" d=\"M120.922 76.2358 L125.807 76.2358 L125.807 82.1154 L120.922 82.1154 L120.922 76.2358 Z\" fill=\"#000000\" fill-rule=\"nonzero\" fill-opacity=\"1\" /><path clip-path=\"url(#clip550)\" d=\"M148.839 51.6295 L137.033 70.0784 L148.839 70.0784 L148.839 51.6295 M147.612 47.5554 L153.492 47.5554 L153.492 70.0784 L158.422 70.0784 L158.422 73.9673 L153.492 73.9673 L153.492 82.1154 L148.839 82.1154 L148.839 73.9673 L133.237 73.9673 L133.237 69.4534 L147.612 47.5554 Z\" fill=\"#000000\" fill-rule=\"nonzero\" fill-opacity=\"1\" /><polyline clip-path=\"url(#clip552)\" style=\"stroke:#009af9; stroke-linecap:round; stroke-linejoin:round; stroke-width:4; stroke-opacity:1; fill:none\" points=\"255.507,502.114 262.246,485.191 269.707,441.123 276.928,473.894 284.389,517.659 291.609,504.435 299.07,346.029 306.531,506.44 313.752,443.83 321.213,424.418 328.433,473.198 335.895,538.626 343.356,524.225 350.095,640.953 357.556,711.449 364.776,749.82 372.237,744.609 379.458,703.369 386.919,620.893 394.38,698.146 401.601,746.778 409.062,845.673 416.282,857.444 423.743,896.512 431.204,928.879 437.943,873.317 445.405,779.26 452.625,1025.25 460.086,1038.5 467.307,950.304 474.768,958.171 482.229,928.508 489.449,992.588 496.91,1002.28 504.131,995.961 511.592,939.456 519.053,863.232 526.033,815.516 533.494,865.012 540.714,744.368 548.176,841.466 555.396,905.024 562.857,1025.22 570.318,1011.14 577.539,1066.97 585,1071.6 592.22,1163.04 599.681,1195.16 607.142,1215.56 613.882,1303.19 621.343,1183.63 628.563,1068.79 636.024,1055.21 643.245,1076.12 650.706,1113.79 658.167,1132.94 665.387,1153.62 672.848,1083.38 680.069,1075.08 687.53,1035.83 694.991,1078.64 701.73,1100.96 709.191,1138.92 716.412,1109.81 723.873,1074.54 731.093,1087.28 738.554,1120.41 746.016,1162.14 753.236,1132.83 760.697,1203.18 767.918,1230.14 775.379,1156.55 782.84,1155.63 789.579,1197.24 797.04,1213.34 804.26,1312.23 811.722,1219.51 818.942,1200.62 826.403,1187.14 833.864,1175.45 841.085,1198.58 848.546,1223.09 855.766,1155.72 863.227,1092.01 870.688,1151.91 877.668,1142.53 885.129,1281.1 892.35,1348.93 899.811,1391.68 907.031,1406.2 914.492,1445.72 921.954,1303.54 929.174,1213.72 936.635,1061.99 943.856,949.153 951.317,933.968 958.778,586.416 965.517,496.857 972.978,616.541 980.198,610.412 987.66,695.632 994.88,778.22 1002.34,872.208 1009.8,897.651 1017.02,913.261 1024.48,850.743 1031.7,827.319 1039.17,793.173 1046.63,826.998 1053.37,808.352 1060.83,790.027 1068.05,652.047 1075.51,472.654 1082.73,399.073 1090.19,576.984 1097.65,555.032 1104.87,592.752 1112.33,530.93 1119.55,319.139 1127.01,400.525 1134.48,452.368 1141.21,344.609 1148.68,284.815 1155.9,420.721 1163.36,297.426 1170.58,262.158 1178.04,151.879 1185.5,311.623 1192.72,135.656 1200.18,526.781 1207.4,546.63 1214.86,465.257 1222.32,885.682 1229.3,1044.04 1236.76,973.027 1243.99,868.121 1251.45,571.641 1258.67,677.919 1266.13,504.771 1273.59,483.215 1280.81,569.035 1288.27,584.203 1295.49,530.579 1302.95,624.589 1310.41,658.701 1317.15,605.084 1324.61,516.623 1331.83,646.25 1339.3,777.844 1346.52,789.152 1353.98,690.892 1361.44,720.308 1368.66,644.05 1376.12,626.478 1383.34,762.843 1390.8,732.256 1398.26,595.235 1405,681.588 1412.46,655.638 1419.68,519.616 1427.14,587.015 1434.36,581.546 1441.83,556.392 1449.29,561.604 1456.51,756.897 1463.97,631.873 1471.19,760.513 1478.65,718.519 1486.11,515.767 1492.85,414.033 1500.31,377.413 1507.53,517.799 1514.99,671.696 1522.21,542.867 1529.67,542.15 1537.14,524.504 1544.36,433.967 1551.82,395.735 1559.04,275.595 1566.5,295.171 1573.96,202.999 1580.94,308.791 1588.4,513.44 1595.62,400.024 1603.08,422.355 1610.3,446.285 1617.76,386.614 1625.22,398.565 1632.44,370.781 1639.91,282.038 1647.13,136.266 1654.59,87.9763 1662.05,291.845 1668.79,147.805 1676.25,217.599 1683.47,273.529 1690.93,369.549 1698.15,378.127 1705.61,498.75 1713.07,569.008 1720.29,585.552 1727.75,630.423 1734.98,676.685 1742.44,798.179 1749.9,937.595 1756.64,900.978 1764.1,940.9 1771.32,814.178 1778.78,792.079 1786,775.389 1793.46,821.051 1800.92,799.317 1808.14,820.768 1815.6,779.605 1822.82,875.355 1830.28,850.591 1837.75,921.488 1844.49,861.442 1851.95,716.437 1859.17,767.536 1866.63,816.296 1873.85,859.352 1881.31,777.614 1888.77,736.368 1895.99,682.093 1903.45,814.115 1910.67,888.565 1918.13,932.469 1925.59,824.28 1932.57,833.081 1940.04,694.118 1947.26,645.506 1954.72,631.976 1961.94,647.726 1969.4,694.578 1976.86,708.995 1984.08,664.746 1991.54,615.226 1998.76,658.863 2006.22,639.557 2013.68,569.075 2020.42,602.831 2027.88,495.887 2035.1,626.556 2042.57,781.917 2049.79,737.276 2057.25,674.783 2064.71,709.098 2071.93,627.679 2079.39,697.577 2086.61,620.072 2094.07,630.275 2101.53,600.598 2108.27,579.496 2115.73,602.172 2122.95,487.614 2130.41,566.863 2137.63,414.083 2145.1,422.129 2152.56,449.796 2159.78,353.013 2167.24,331.081 2174.46,511.761 2181.92,496.215 2189.38,558.866 2196.12,532.639 2203.58,690.506 2210.8,762.665 2218.26,665.606 2225.48,720.826 2232.94,646.335 2240.41,557.776 2247.63,538.426 2255.09,653.315 2262.31,654.236 2269.77,674.037 2277.23,635.99 2284.21,652.108 2291.67,750.452 \"/>\n",
       "<path clip-path=\"url(#clip550)\" d=\"M1881.99 1438.47 L2280.81 1438.47 L2280.81 1334.79 L1881.99 1334.79  Z\" fill=\"#ffffff\" fill-rule=\"evenodd\" fill-opacity=\"1\"/>\n",
       "<polyline clip-path=\"url(#clip550)\" style=\"stroke:#000000; stroke-linecap:round; stroke-linejoin:round; stroke-width:4; stroke-opacity:1; fill:none\" points=\"1881.99,1438.47 2280.81,1438.47 2280.81,1334.79 1881.99,1334.79 1881.99,1438.47 \"/>\n",
       "<polyline clip-path=\"url(#clip550)\" style=\"stroke:#009af9; stroke-linecap:round; stroke-linejoin:round; stroke-width:4; stroke-opacity:1; fill:none\" points=\"1905.97,1386.63 2049.86,1386.63 \"/>\n",
       "<path clip-path=\"url(#clip550)\" d=\"M2073.84 1369.35 L2078.54 1369.35 L2078.54 1390.35 Q2078.54 1395.91 2080.56 1398.36 Q2082.57 1400.79 2087.09 1400.79 Q2091.58 1400.79 2093.59 1398.36 Q2095.6 1395.91 2095.6 1390.35 L2095.6 1369.35 L2100.3 1369.35 L2100.3 1390.93 Q2100.3 1397.69 2096.95 1401.14 Q2093.61 1404.59 2087.09 1404.59 Q2080.53 1404.59 2077.18 1401.14 Q2073.84 1397.69 2073.84 1390.93 L2073.84 1369.35 Z\" fill=\"#000000\" fill-rule=\"nonzero\" fill-opacity=\"1\" /><path clip-path=\"url(#clip550)\" d=\"M2129.79 1370.49 L2129.79 1375.05 Q2127.13 1373.78 2124.77 1373.15 Q2122.41 1372.53 2120.21 1372.53 Q2116.39 1372.53 2114.31 1374.01 Q2112.25 1375.49 2112.25 1378.22 Q2112.25 1380.51 2113.61 1381.69 Q2115 1382.85 2118.84 1383.57 L2121.67 1384.15 Q2126.9 1385.14 2129.38 1387.66 Q2131.88 1390.16 2131.88 1394.38 Q2131.88 1399.4 2128.5 1401.99 Q2125.14 1404.59 2118.64 1404.59 Q2116.18 1404.59 2113.4 1404.03 Q2110.65 1403.47 2107.69 1402.39 L2107.69 1397.57 Q2110.53 1399.17 2113.27 1399.98 Q2116 1400.79 2118.64 1400.79 Q2122.64 1400.79 2124.82 1399.22 Q2126.99 1397.64 2126.99 1394.72 Q2126.99 1392.18 2125.42 1390.74 Q2123.87 1389.31 2120.3 1388.59 L2117.46 1388.03 Q2112.22 1386.99 2109.89 1384.77 Q2107.55 1382.55 2107.55 1378.59 Q2107.55 1374.01 2110.77 1371.37 Q2114.01 1368.73 2119.68 1368.73 Q2122.11 1368.73 2124.63 1369.17 Q2127.15 1369.61 2129.79 1370.49 Z\" fill=\"#000000\" fill-rule=\"nonzero\" fill-opacity=\"1\" /><path clip-path=\"url(#clip550)\" d=\"M2143.84 1373.2 L2143.84 1400.07 L2149.49 1400.07 Q2156.65 1400.07 2159.96 1396.83 Q2163.29 1393.59 2163.29 1386.6 Q2163.29 1379.66 2159.96 1376.44 Q2156.65 1373.2 2149.49 1373.2 L2143.84 1373.2 M2139.17 1369.35 L2148.77 1369.35 Q2158.82 1369.35 2163.52 1373.54 Q2168.22 1377.71 2168.22 1386.6 Q2168.22 1395.53 2163.5 1399.72 Q2158.77 1403.91 2148.77 1403.91 L2139.17 1403.91 L2139.17 1369.35 Z\" fill=\"#000000\" fill-rule=\"nonzero\" fill-opacity=\"1\" /><path clip-path=\"url(#clip550)\" d=\"M2180.35 1373.2 L2180.35 1386.18 L2186.23 1386.18 Q2189.49 1386.18 2191.27 1384.49 Q2193.06 1382.8 2193.06 1379.68 Q2193.06 1376.58 2191.27 1374.89 Q2189.49 1373.2 2186.23 1373.2 L2180.35 1373.2 M2175.67 1369.35 L2186.23 1369.35 Q2192.04 1369.35 2195 1371.99 Q2197.99 1374.61 2197.99 1379.68 Q2197.99 1384.79 2195 1387.41 Q2192.04 1390.03 2186.23 1390.03 L2180.35 1390.03 L2180.35 1403.91 L2175.67 1403.91 L2175.67 1369.35 Z\" fill=\"#000000\" fill-rule=\"nonzero\" fill-opacity=\"1\" /><path clip-path=\"url(#clip550)\" d=\"M2204.26 1369.35 L2208.94 1369.35 L2208.94 1399.98 L2225.77 1399.98 L2225.77 1403.91 L2204.26 1403.91 L2204.26 1369.35 Z\" fill=\"#000000\" fill-rule=\"nonzero\" fill-opacity=\"1\" /><path clip-path=\"url(#clip550)\" d=\"M2230.67 1369.35 L2236.97 1369.35 L2252.29 1398.27 L2252.29 1369.35 L2256.83 1369.35 L2256.83 1403.91 L2250.53 1403.91 L2235.21 1375 L2235.21 1403.91 L2230.67 1403.91 L2230.67 1369.35 Z\" fill=\"#000000\" fill-rule=\"nonzero\" fill-opacity=\"1\" /></svg>\n"
      ]
     },
     "metadata": {},
     "output_type": "display_data"
    }
   ],
   "source": [
    "usdpln_roll = expm1.(moving(sum, usdpln, 36))\n",
    "plot(usdpln_roll)"
   ]
  }
 ],
 "metadata": {
  "kernelspec": {
   "display_name": "Julia 1.10.2",
   "language": "julia",
   "name": "julia-1.10"
  },
  "language_info": {
   "file_extension": ".jl",
   "mimetype": "application/julia",
   "name": "julia",
   "version": "1.10.2"
  }
 },
 "nbformat": 4,
 "nbformat_minor": 2
}
