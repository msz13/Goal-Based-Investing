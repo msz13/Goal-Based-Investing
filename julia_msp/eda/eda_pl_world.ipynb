{
 "cells": [
  {
   "cell_type": "code",
   "execution_count": 3,
   "metadata": {},
   "outputs": [
    {
     "data": {
      "text/plain": [
       "print_percentiles (generic function with 2 methods)"
      ]
     },
     "metadata": {},
     "output_type": "display_data"
    }
   ],
   "source": [
    "using XLSX\n",
    "using DataFrames, TimeSeries\n",
    "using StatsPlots\n",
    "using Plots\n",
    "using LinearAlgebra\n",
    "using CSV\n",
    "using StatsBase\n",
    "using GLM\n",
    "include(\"../utils.jl\")\n"
   ]
  },
  {
   "cell_type": "code",
   "execution_count": 35,
   "metadata": {},
   "outputs": [
    {
     "data": {
      "text/plain": [
       "254×6 TimeArray{Float64, 2, Date, Matrix{Float64}} 2003-02-28 to 2024-03-31\n",
       "┌────────────┬────────────┬──────────────┬────────────┬──────────────┬──────────\n",
       "│\u001b[1m            \u001b[0m│\u001b[1m USA_Net    \u001b[0m│\u001b[1m World_ex_USA \u001b[0m│\u001b[1m EM_Net     \u001b[0m│\u001b[1m ACWI_Net_PLN \u001b[0m│\u001b[1m MwigTR \u001b[0m ⋯\n",
       "├────────────┼────────────┼──────────────┼────────────┼──────────────┼──────────\n",
       "│ 2003-02-28 │ -0.0159343 │   -0.0199094 │ -0.0284988 │   0.00510351 │ -0.0010 ⋯\n",
       "│ 2003-03-31 │ 0.00886423 │   -0.0194601 │ -0.0289739 │    0.0430687 │  -0.002 ⋯\n",
       "│ 2003-04-30 │  0.0798764 │    0.0916379 │  0.0851925 │    0.0118412 │   0.034 ⋯\n",
       "│ 2003-05-31 │  0.0517369 │    0.0601744 │  0.0690563 │    0.0300993 │   0.055 ⋯\n",
       "│ 2003-06-30 │   0.011892 │    0.0240024 │  0.0551391 │    0.0670022 │   0.016 ⋯\n",
       "│ 2003-07-31 │  0.0179915 │    0.0226828 │  0.0603263 │    0.0132941 │    0.11 ⋯\n",
       "│ 2003-08-31 │  0.0181089 │    0.0254588 │  0.0647735 │    0.0495565 │    0.16 ⋯\n",
       "│ 2003-09-30 │ -0.0120244 │    0.0295601 │  0.0072564 │  0.000195407 │  -0.087 ⋯\n",
       "│     ⋮      │     ⋮      │      ⋮       │     ⋮      │      ⋮       │      ⋮  ⋱\n",
       "│ 2023-09-30 │ -0.0483353 │   -0.0342956 │ -0.0264995 │    0.0154043 │  -0.049 ⋯\n",
       "│ 2023-10-31 │ -0.0235616 │   -0.0431263 │  -0.039629 │    -0.066645 │   0.045 ⋯\n",
       "│ 2023-11-30 │  0.0895259 │    0.0898198 │  0.0769883 │    0.0356998 │    0.06 ⋯\n",
       "│ 2023-12-31 │  0.0456572 │    0.0532219 │  0.0383487 │    0.0310713 │   0.044 ⋯\n",
       "│ 2024-01-31 │  0.0151977 │   0.00429701 │ -0.0475452 │    0.0233511 │   0.011 ⋯\n",
       "│ 2024-02-29 │  0.0518111 │    0.0169284 │   0.046475 │    0.0394925 │   0.064 ⋯\n",
       "│ 2024-03-31 │  0.0309855 │    0.0331842 │  0.0244778 │    0.0298368 │    0.01 ⋯\n",
       "└────────────┴────────────┴──────────────┴────────────┴──────────────┴──────────\n",
       "\u001b[36m                                                  2 columns and 239 rows omitted\u001b[0m"
      ]
     },
     "metadata": {},
     "output_type": "display_data"
    }
   ],
   "source": [
    "columns = [:Date, :USA_Net, :World_ex_USA, :EM_Net, :ACWI_Net_PLN, :MwigTR, :WIG20TR]\n",
    "data_df = DataFrame(XLSX.readtable(\"../data/assets_data_03.24.xlsx\", \"Indexes_PLN\"; infer_eltypes=true))[2:end, columns]\n",
    "dropmissing!(data_df, disallowmissing=true)\n",
    "returns_pln = data_df |> \n",
    "            x -> TimeArray(x; timestamp = :Date) |> \n",
    "            x -> from(x, Date(2003,01,01)) |>\n",
    "            x -> percentchange(x, :log)"
   ]
  },
  {
   "cell_type": "code",
   "execution_count": 36,
   "metadata": {},
   "outputs": [
    {
     "data": {
      "text/plain": [
       "435×3 TimeArray{Float64, 2, Date, Matrix{Float64}} 1988-01-31 to 2024-03-31\n",
       "┌────────────┬────────────┬──────────────┬─────────────┐\n",
       "│\u001b[1m            \u001b[0m│\u001b[1m USA_Net    \u001b[0m│\u001b[1m World_ex_USA \u001b[0m│\u001b[1m EM_Net      \u001b[0m│\n",
       "├────────────┼────────────┼──────────────┼─────────────┤\n",
       "│ 1988-01-31 │  0.0410122 │    0.0153553 │   0.0935834 │\n",
       "│ 1988-02-29 │  0.0401109 │    0.0640862 │   0.0031132 │\n",
       "│ 1988-03-31 │ -0.0349774 │    0.0592025 │     0.10175 │\n",
       "│ 1988-04-30 │ 0.00818061 │    0.0140195 │   0.0517417 │\n",
       "│ 1988-05-31 │ 0.00760205 │   -0.0326806 │   0.0292525 │\n",
       "│ 1988-06-30 │  0.0445733 │   -0.0229028 │   0.0331365 │\n",
       "│ 1988-07-31 │ -0.0040323 │    0.0288082 │  -0.0260317 │\n",
       "│ 1988-08-31 │  -0.035096 │   -0.0667177 │  -0.0274362 │\n",
       "│     ⋮      │     ⋮      │      ⋮       │      ⋮      │\n",
       "│ 2023-09-30 │ -0.0483353 │   -0.0342956 │  -0.0264995 │\n",
       "│ 2023-10-31 │ -0.0235616 │   -0.0431263 │   -0.039629 │\n",
       "│ 2023-11-30 │  0.0895259 │    0.0898198 │   0.0769883 │\n",
       "│ 2023-12-31 │  0.0456572 │    0.0532219 │   0.0383487 │\n",
       "│ 2024-01-31 │  0.0151977 │   0.00429701 │  -0.0475452 │\n",
       "│ 2024-02-29 │  0.0518111 │    0.0169284 │    0.046475 │\n",
       "│ 2024-03-31 │  0.0309855 │    0.0331842 │   0.0244778 │\n",
       "└────────────┴────────────┴──────────────┴─────────────┘\n",
       "\u001b[36m                                        420 rows omitted\u001b[0m"
      ]
     },
     "metadata": {},
     "output_type": "display_data"
    }
   ],
   "source": [
    "columns = [:Date, :USA_Net, :World_ex_USA, :EM_Net]\n",
    "data_df = DataFrame(XLSX.readtable(\"../data/assets_data_03.24.xlsx\", \"Indexes\"; infer_eltypes=true))[2:end, columns]\n",
    "dropmissing!(data_df, disallowmissing=true)\n",
    "returns_usd = data_df |> \n",
    "            x -> TimeArray(x; timestamp = :Date) |> \n",
    "            x -> percentchange(x, :log)"
   ]
  },
  {
   "cell_type": "code",
   "execution_count": 37,
   "metadata": {},
   "outputs": [
    {
     "data": {
      "text/html": [
       "<table>\n",
       "  <thead>\n",
       "    <tr class = \"header headerLastRow\">\n",
       "      <th class = \"rowLabel\" style = \"font-weight: bold; text-align: right;\"></th>\n",
       "      <th style = \"text-align: right;\">std</th>\n",
       "      <th style = \"text-align: right;\">max</th>\n",
       "      <th style = \"text-align: right;\">mean</th>\n",
       "      <th style = \"text-align: right;\">p75th</th>\n",
       "      <th style = \"text-align: right;\">min</th>\n",
       "      <th style = \"text-align: right;\">skewness</th>\n",
       "      <th style = \"text-align: right;\">p25th</th>\n",
       "      <th style = \"text-align: right;\">autocor</th>\n",
       "      <th style = \"text-align: right;\">kurtosis</th>\n",
       "      <th style = \"text-align: right;\">sr</th>\n",
       "      <th style = \"text-align: right;\">median</th>\n",
       "    </tr>\n",
       "  </thead>\n",
       "  <tbody>\n",
       "    <tr>\n",
       "      <td class = \"rowLabel\" style = \"font-weight: bold; text-align: right;\">USA_Net</td>\n",
       "      <td style = \"text-align: right;\">0.1495</td>\n",
       "      <td style = \"text-align: right;\">1.4788</td>\n",
       "      <td style = \"text-align: right;\">0.1</td>\n",
       "      <td style = \"text-align: right;\">0.4071</td>\n",
       "      <td style = \"text-align: right;\">-2.257</td>\n",
       "      <td style = \"text-align: right;\">-0.7994</td>\n",
       "      <td style = \"text-align: right;\">-0.1874</td>\n",
       "      <td style = \"text-align: right;\">0.0375</td>\n",
       "      <td style = \"text-align: right;\">1.9085</td>\n",
       "      <td style = \"text-align: right;\">0.6692</td>\n",
       "      <td style = \"text-align: right;\">0.1546</td>\n",
       "    </tr>\n",
       "    <tr>\n",
       "      <td class = \"rowLabel\" style = \"font-weight: bold; text-align: right;\">World_ex_USA</td>\n",
       "      <td style = \"text-align: right;\">0.1681</td>\n",
       "      <td style = \"text-align: right;\">1.7129</td>\n",
       "      <td style = \"text-align: right;\">0.0724</td>\n",
       "      <td style = \"text-align: right;\">0.3977</td>\n",
       "      <td style = \"text-align: right;\">-2.7986</td>\n",
       "      <td style = \"text-align: right;\">-0.8618</td>\n",
       "      <td style = \"text-align: right;\">-0.2287</td>\n",
       "      <td style = \"text-align: right;\">0.1292</td>\n",
       "      <td style = \"text-align: right;\">2.6419</td>\n",
       "      <td style = \"text-align: right;\">0.4305</td>\n",
       "      <td style = \"text-align: right;\">0.1476</td>\n",
       "    </tr>\n",
       "    <tr>\n",
       "      <td class = \"rowLabel\" style = \"font-weight: bold; text-align: right;\">EM_Net</td>\n",
       "      <td style = \"text-align: right;\">0.2091</td>\n",
       "      <td style = \"text-align: right;\">1.893</td>\n",
       "      <td style = \"text-align: right;\">0.0847</td>\n",
       "      <td style = \"text-align: right;\">0.5546</td>\n",
       "      <td style = \"text-align: right;\">-3.8371</td>\n",
       "      <td style = \"text-align: right;\">-0.8244</td>\n",
       "      <td style = \"text-align: right;\">-0.3174</td>\n",
       "      <td style = \"text-align: right;\">0.1389</td>\n",
       "      <td style = \"text-align: right;\">3.1858</td>\n",
       "      <td style = \"text-align: right;\">0.4052</td>\n",
       "      <td style = \"text-align: right;\">0.0999</td>\n",
       "    </tr>\n",
       "    <tr>\n",
       "      <td class = \"rowLabel\" style = \"font-weight: bold; text-align: right;\">ACWI_Net_PLN</td>\n",
       "      <td style = \"text-align: right;\">0.1209</td>\n",
       "      <td style = \"text-align: right;\">1.2714</td>\n",
       "      <td style = \"text-align: right;\">0.0897</td>\n",
       "      <td style = \"text-align: right;\">0.3604</td>\n",
       "      <td style = \"text-align: right;\">-1.2476</td>\n",
       "      <td style = \"text-align: right;\">-0.3336</td>\n",
       "      <td style = \"text-align: right;\">-0.1647</td>\n",
       "      <td style = \"text-align: right;\">0.0108</td>\n",
       "      <td style = \"text-align: right;\">0.6982</td>\n",
       "      <td style = \"text-align: right;\">0.7419</td>\n",
       "      <td style = \"text-align: right;\">0.0964</td>\n",
       "    </tr>\n",
       "    <tr>\n",
       "      <td class = \"rowLabel\" style = \"font-weight: bold; text-align: right;\">MwigTR</td>\n",
       "      <td style = \"text-align: right;\">0.2182</td>\n",
       "      <td style = \"text-align: right;\">2.403</td>\n",
       "      <td style = \"text-align: right;\">0.1182</td>\n",
       "      <td style = \"text-align: right;\">0.4835</td>\n",
       "      <td style = \"text-align: right;\">-3.8898</td>\n",
       "      <td style = \"text-align: right;\">-0.6725</td>\n",
       "      <td style = \"text-align: right;\">-0.2968</td>\n",
       "      <td style = \"text-align: right;\">0.1952</td>\n",
       "      <td style = \"text-align: right;\">3.7684</td>\n",
       "      <td style = \"text-align: right;\">0.5417</td>\n",
       "      <td style = \"text-align: right;\">0.1499</td>\n",
       "    </tr>\n",
       "    <tr>\n",
       "      <td class = \"rowLabel\" style = \"font-weight: bold; text-align: right;\">WIG20TR</td>\n",
       "      <td style = \"text-align: right;\">0.22</td>\n",
       "      <td style = \"text-align: right;\">2.2594</td>\n",
       "      <td style = \"text-align: right;\">0.0731</td>\n",
       "      <td style = \"text-align: right;\">0.5941</td>\n",
       "      <td style = \"text-align: right;\">-3.2019</td>\n",
       "      <td style = \"text-align: right;\">-0.3731</td>\n",
       "      <td style = \"text-align: right;\">-0.3984</td>\n",
       "      <td style = \"text-align: right;\">0.0078</td>\n",
       "      <td style = \"text-align: right;\">1.1055</td>\n",
       "      <td style = \"text-align: right;\">0.3321</td>\n",
       "      <td style = \"text-align: right;\">0.1158</td>\n",
       "    </tr>\n",
       "  </tbody>\n",
       "</table>\n"
      ]
     },
     "metadata": {},
     "output_type": "display_data"
    }
   ],
   "source": [
    "returns_summarystats(returns_pln, 12)"
   ]
  },
  {
   "cell_type": "code",
   "execution_count": 38,
   "metadata": {},
   "outputs": [
    {
     "data": {
      "text/html": [
       "<table>\n",
       "  <thead>\n",
       "    <tr class = \"header headerLastRow\">\n",
       "      <th class = \"rowLabel\" style = \"font-weight: bold; text-align: right;\"></th>\n",
       "      <th style = \"text-align: right;\">std</th>\n",
       "      <th style = \"text-align: right;\">max</th>\n",
       "      <th style = \"text-align: right;\">mean</th>\n",
       "      <th style = \"text-align: right;\">p75th</th>\n",
       "      <th style = \"text-align: right;\">min</th>\n",
       "      <th style = \"text-align: right;\">skewness</th>\n",
       "      <th style = \"text-align: right;\">p25th</th>\n",
       "      <th style = \"text-align: right;\">autocor</th>\n",
       "      <th style = \"text-align: right;\">kurtosis</th>\n",
       "      <th style = \"text-align: right;\">sr</th>\n",
       "      <th style = \"text-align: right;\">median</th>\n",
       "    </tr>\n",
       "  </thead>\n",
       "  <tbody>\n",
       "    <tr>\n",
       "      <td class = \"rowLabel\" style = \"font-weight: bold; text-align: right;\">USA_Net</td>\n",
       "      <td style = \"text-align: right;\">0.1491</td>\n",
       "      <td style = \"text-align: right;\">1.4788</td>\n",
       "      <td style = \"text-align: right;\">0.1</td>\n",
       "      <td style = \"text-align: right;\">0.4254</td>\n",
       "      <td style = \"text-align: right;\">-2.257</td>\n",
       "      <td style = \"text-align: right;\">-0.7009</td>\n",
       "      <td style = \"text-align: right;\">-0.2004</td>\n",
       "      <td style = \"text-align: right;\">0.0014</td>\n",
       "      <td style = \"text-align: right;\">1.3793</td>\n",
       "      <td style = \"text-align: right;\">0.6706</td>\n",
       "      <td style = \"text-align: right;\">0.1537</td>\n",
       "    </tr>\n",
       "    <tr>\n",
       "      <td class = \"rowLabel\" style = \"font-weight: bold; text-align: right;\">World_ex_USA</td>\n",
       "      <td style = \"text-align: right;\">0.1682</td>\n",
       "      <td style = \"text-align: right;\">1.7129</td>\n",
       "      <td style = \"text-align: right;\">0.0543</td>\n",
       "      <td style = \"text-align: right;\">0.4165</td>\n",
       "      <td style = \"text-align: right;\">-2.7986</td>\n",
       "      <td style = \"text-align: right;\">-0.6171</td>\n",
       "      <td style = \"text-align: right;\">-0.2752</td>\n",
       "      <td style = \"text-align: right;\">0.0571</td>\n",
       "      <td style = \"text-align: right;\">1.6003</td>\n",
       "      <td style = \"text-align: right;\">0.323</td>\n",
       "      <td style = \"text-align: right;\">0.0992</td>\n",
       "    </tr>\n",
       "    <tr>\n",
       "      <td class = \"rowLabel\" style = \"font-weight: bold; text-align: right;\">EM_Net</td>\n",
       "      <td style = \"text-align: right;\">0.2239</td>\n",
       "      <td style = \"text-align: right;\">2.0825</td>\n",
       "      <td style = \"text-align: right;\">0.0877</td>\n",
       "      <td style = \"text-align: right;\">0.5565</td>\n",
       "      <td style = \"text-align: right;\">-4.1</td>\n",
       "      <td style = \"text-align: right;\">-0.8932</td>\n",
       "      <td style = \"text-align: right;\">-0.3138</td>\n",
       "      <td style = \"text-align: right;\">0.1422</td>\n",
       "      <td style = \"text-align: right;\">3.1066</td>\n",
       "      <td style = \"text-align: right;\">0.3914</td>\n",
       "      <td style = \"text-align: right;\">0.1224</td>\n",
       "    </tr>\n",
       "  </tbody>\n",
       "</table>\n"
      ]
     },
     "metadata": {},
     "output_type": "display_data"
    }
   ],
   "source": [
    "returns_summarystats(returns_usd,12)"
   ]
  },
  {
   "cell_type": "code",
   "execution_count": 39,
   "metadata": {},
   "outputs": [
    {
     "name": "stdout",
     "output_type": "stream",
     "text": [
      "StatsModels.TableRegressionModel{LinearModel{GLM.LmResp{Vector{Float64}}, GLM.DensePredChol{Float64, CholeskyPivoted{Float64, Matrix{Float64}, Vector{Int64}}}}, Matrix{Float64}}\n",
      "\n",
      "USA_Net ~ 1 + MwigTR\n",
      "\n",
      "Coefficients:\n",
      "──────────────────────────────────────────────────────────────────────────────\n",
      "                  Coef.  Std. Error      t  Pr(>|t|)     Lower 95%   Upper 95%\n",
      "──────────────────────────────────────────────────────────────────────────────\n",
      "(Intercept)  0.00370211  0.00199595   1.85    0.0648  -0.000228753  0.00763297\n",
      "MwigTR       0.470608    0.031373    15.00    <1e-36   0.408822     0.532395\n",
      "──────────────────────────────────────────────────────────────────────────────\n",
      "0.47171242027894034\n"
     ]
    }
   ],
   "source": [
    "ols = lm(@formula(USA_Net ~ MwigTR), returns_pln)\n",
    "println(ols)\n",
    "println(r2(ols))"
   ]
  },
  {
   "cell_type": "code",
   "execution_count": 47,
   "metadata": {},
   "outputs": [
    {
     "name": "stdout",
     "output_type": "stream",
     "text": [
      "StatsModels.TableRegressionModel{LinearModel{GLM.LmResp{Vector{Float64}}, GLM.DensePredChol{Float64, CholeskyPivoted{Float64, Matrix{Float64}, Vector{Int64}}}}, Matrix{Float64}}\n",
      "\n",
      "MwigTR ~ 1 + USA_Net\n",
      "\n",
      "Coefficients:\n",
      "─────────────────────────────────────────────────────────────────────────────\n",
      "                  Coef.  Std. Error      t  Pr(>|t|)    Lower 95%   Upper 95%\n",
      "─────────────────────────────────────────────────────────────────────────────\n",
      "(Intercept)  0.00149191  0.00293123   0.51    0.6112  -0.00428091  0.00726474\n",
      "USA_Net      1.00235     0.0668212   15.00    <1e-36   0.870747    1.13395\n",
      "─────────────────────────────────────────────────────────────────────────────\n",
      "0.47171242027894\n"
     ]
    }
   ],
   "source": [
    "ols = lm(@formula(MwigTR ~ USA_Net), returns_pln)\n",
    "println(ols)\n",
    "println(r2(ols))"
   ]
  },
  {
   "cell_type": "code",
   "execution_count": 48,
   "metadata": {},
   "outputs": [
    {
     "name": "stdout",
     "output_type": "stream",
     "text": [
      "StatsModels.TableRegressionModel{LinearModel{GLM.LmResp{Vector{Float64}}, GLM.DensePredChol{Float64, CholeskyPivoted{Float64, Matrix{Float64}, Vector{Int64}}}}, Matrix{Float64}}\n",
      "\n",
      "MwigTR ~ 1 + USA_Net_1 + USA_Net\n",
      "\n",
      "Coefficients:\n",
      "──────────────────────────────────────────────────────────────────────────────\n",
      "                   Coef.  Std. Error      t  Pr(>|t|)    Lower 95%   Upper 95%\n",
      "──────────────────────────────────────────────────────────────────────────────\n",
      "(Intercept)  0.000679217  0.00298097   0.23    0.8199  -0.00519179  0.00655022\n",
      "USA_Net_1    0.108191     0.0668057    1.62    0.1066  -0.0233824   0.239765\n",
      "USA_Net      0.999189     0.0668003   14.96    <1e-35   0.867626    1.13075\n",
      "──────────────────────────────────────────────────────────────────────────────\n",
      "0.47753223872719375\n"
     ]
    }
   ],
   "source": [
    "returns_lag = merge(returns_pln, TimeSeries.lead(returns_pln,1))\n",
    "ols = lm(@formula(MwigTR ~  USA_Net_1 + USA_Net), returns_lag)\n",
    "println(ols)\n",
    "println(r2(ols))"
   ]
  },
  {
   "cell_type": "code",
   "execution_count": 54,
   "metadata": {},
   "outputs": [
    {
     "name": "stdout",
     "output_type": "stream",
     "text": [
      "StatsModels.TableRegressionModel{LinearModel{GLM.LmResp{Vector{Float64}}, GLM.DensePredChol{Float64, CholeskyPivoted{Float64, Matrix{Float64}, Vector{Int64}}}}, Matrix{Float64}}\n",
      "\n",
      "World_ex_USA ~ 1 + MwigTR\n",
      "\n",
      "Coefficients:\n",
      "──────────────────────────────────────────────────────────────────────────────\n",
      "                   Coef.  Std. Error      t  Pr(>|t|)    Lower 95%   Upper 95%\n",
      "──────────────────────────────────────────────────────────────────────────────\n",
      "(Intercept)  0.000668284  0.00218435   0.31    0.7599  -0.00363363  0.00497019\n",
      "MwigTR       0.544382     0.0343344   15.86    <1e-39   0.476763    0.612001\n",
      "──────────────────────────────────────────────────────────────────────────────\n",
      "0.4993949288596782\n"
     ]
    }
   ],
   "source": [
    "ols = lm(@formula(World_ex_USA ~ MwigTR), returns_pln)\n",
    "println(ols)\n",
    "println(r2(ols))"
   ]
  },
  {
   "cell_type": "code",
   "execution_count": 55,
   "metadata": {},
   "outputs": [
    {
     "name": "stdout",
     "output_type": "stream",
     "text": [
      "StatsModels.TableRegressionModel{LinearModel{GLM.LmResp{Vector{Float64}}, GLM.DensePredChol{Float64, CholeskyPivoted{Float64, Matrix{Float64}, Vector{Int64}}}}, Matrix{Float64}}\n",
      "\n",
      "EM_Net ~ 1 + MwigTR\n",
      "\n",
      "Coefficients:\n",
      "─────────────────────────────────────────────────────────────────────────────\n",
      "                   Coef.  Std. Error      t  Pr(>|t|)   Lower 95%   Upper 95%\n",
      "─────────────────────────────────────────────────────────────────────────────\n",
      "(Intercept)  0.000866209  0.00289832   0.30    0.7653  -0.0048418  0.00657422\n",
      "MwigTR       0.628798     0.0455567   13.80    <1e-31   0.539077   0.718518\n",
      "─────────────────────────────────────────────────────────────────────────────\n",
      "0.43052065797049277\n"
     ]
    }
   ],
   "source": [
    "ols = lm(@formula(EM_Net ~ MwigTR), returns_pln)\n",
    "println(ols)\n",
    "println(r2(ols))"
   ]
  },
  {
   "cell_type": "code",
   "execution_count": 56,
   "metadata": {},
   "outputs": [
    {
     "data": {
      "text/plain": [
       "435×3 TimeArray{Float64, 2, Date, Matrix{Float64}} 1988-01-31 to 2024-03-31\n",
       "┌────────────┬────────────┬──────────────┬─────────────┐\n",
       "│\u001b[1m            \u001b[0m│\u001b[1m USA_Net    \u001b[0m│\u001b[1m World_ex_USA \u001b[0m│\u001b[1m EM_Net      \u001b[0m│\n",
       "├────────────┼────────────┼──────────────┼─────────────┤\n",
       "│ 1988-01-31 │  0.0410122 │    0.0153553 │   0.0935834 │\n",
       "│ 1988-02-29 │  0.0401109 │    0.0640862 │   0.0031132 │\n",
       "│ 1988-03-31 │ -0.0349774 │    0.0592025 │     0.10175 │\n",
       "│ 1988-04-30 │ 0.00818061 │    0.0140195 │   0.0517417 │\n",
       "│ 1988-05-31 │ 0.00760205 │   -0.0326806 │   0.0292525 │\n",
       "│ 1988-06-30 │  0.0445733 │   -0.0229028 │   0.0331365 │\n",
       "│ 1988-07-31 │ -0.0040323 │    0.0288082 │  -0.0260317 │\n",
       "│ 1988-08-31 │  -0.035096 │   -0.0667177 │  -0.0274362 │\n",
       "│     ⋮      │     ⋮      │      ⋮       │      ⋮      │\n",
       "│ 2023-09-30 │ -0.0483353 │   -0.0342956 │  -0.0264995 │\n",
       "│ 2023-10-31 │ -0.0235616 │   -0.0431263 │   -0.039629 │\n",
       "│ 2023-11-30 │  0.0895259 │    0.0898198 │   0.0769883 │\n",
       "│ 2023-12-31 │  0.0456572 │    0.0532219 │   0.0383487 │\n",
       "│ 2024-01-31 │  0.0151977 │   0.00429701 │  -0.0475452 │\n",
       "│ 2024-02-29 │  0.0518111 │    0.0169284 │    0.046475 │\n",
       "│ 2024-03-31 │  0.0309855 │    0.0331842 │   0.0244778 │\n",
       "└────────────┴────────────┴──────────────┴─────────────┘\n",
       "\u001b[36m                                        420 rows omitted\u001b[0m"
      ]
     },
     "metadata": {},
     "output_type": "display_data"
    }
   ],
   "source": [
    "columns = [:Date, :USA_Net, :World_ex_USA, :EM_Net]\n",
    "data_df = DataFrame(XLSX.readtable(\"../data/assets_data_03.24.xlsx\", \"Indexes\"; infer_eltypes=true))[2:end, columns]\n",
    "dropmissing!(data_df, disallowmissing=true)\n",
    "returns_usd = data_df |> \n",
    "            x -> TimeArray(x; timestamp = :Date) |> \n",
    "            x -> percentchange(x, :log)"
   ]
  },
  {
   "cell_type": "code",
   "execution_count": 57,
   "metadata": {},
   "outputs": [
    {
     "name": "stdout",
     "output_type": "stream",
     "text": [
      "StatsModels.TableRegressionModel{LinearModel{GLM.LmResp{Vector{Float64}}, GLM.DensePredChol{Float64, CholeskyPivoted{Float64, Matrix{Float64}, Vector{Int64}}}}, Matrix{Float64}}\n",
      "\n",
      "USA_Net ~ 1 + MwigTR\n",
      "\n",
      "Coefficients:\n",
      "──────────────────────────────────────────────────────────────────────────────\n",
      "                  Coef.  Std. Error      t  Pr(>|t|)     Lower 95%   Upper 95%\n",
      "──────────────────────────────────────────────────────────────────────────────\n",
      "(Intercept)  0.00370211  0.00199595   1.85    0.0648  -0.000228753  0.00763297\n",
      "MwigTR       0.470608    0.031373    15.00    <1e-36   0.408822     0.532395\n",
      "──────────────────────────────────────────────────────────────────────────────\n",
      "0.4717124202789381\n"
     ]
    }
   ],
   "source": [
    "data = merge(returns_pln[:MwigTR], returns_usd[:USA_Net])\n",
    "ols = lm(@formula(USA_Net ~ MwigTR), data)\n",
    "println(ols)\n",
    "println(r2(ols))"
   ]
  },
  {
   "cell_type": "code",
   "execution_count": 58,
   "metadata": {},
   "outputs": [
    {
     "data": {
      "text/plain": [
       "0.47244094488188976"
      ]
     },
     "metadata": {},
     "output_type": "display_data"
    }
   ],
   "source": [
    "# number of month wig20 > mwig40\n",
    "\n",
    "n_wig20Gr = values(returns_pln[:WIG20TR] .> returns_pln[:MwigTR])  |> count\n",
    "n_wig20Gr / length(returns_pln)\n"
   ]
  }
 ],
 "metadata": {
  "kernelspec": {
   "display_name": "Julia 1.10.2",
   "language": "julia",
   "name": "julia-1.10"
  },
  "language_info": {
   "file_extension": ".jl",
   "mimetype": "application/julia",
   "name": "julia",
   "version": "1.10.2"
  }
 },
 "nbformat": 4,
 "nbformat_minor": 2
}
