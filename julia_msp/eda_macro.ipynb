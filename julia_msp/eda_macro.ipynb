{
 "cells": [
  {
   "cell_type": "code",
   "execution_count": 5,
   "metadata": {},
   "outputs": [
    {
     "data": {
      "text/plain": [
       "print_percentiles (generic function with 1 method)"
      ]
     },
     "metadata": {},
     "output_type": "display_data"
    }
   ],
   "source": [
    "using XLSX, DataFrames, TimeSeries\n",
    "using StatsBase\n",
    "using Plots, StatsPlots\n",
    "using LinearAlgebra\n",
    "using GLM\n",
    "using FredData\n",
    "include(\"utils.jl\")\n"
   ]
  },
  {
   "cell_type": "code",
   "execution_count": 93,
   "metadata": {},
   "outputs": [
    {
     "data": {
      "text/plain": [
       "210×15 TimeArray{Any, 2, Date, Matrix{Any}} 1971-10-01 to 2024-01-01\n",
       "┌────────────┬───────────────┬─────────────────┬─────────────────┬──────────────\n",
       "│\u001b[1m            \u001b[0m│\u001b[1m NGDPRSAXDCPLQ \u001b[0m│\u001b[1m POLCPIALLQINMEI \u001b[0m│\u001b[1m IRLTLT01PLM156N \u001b[0m│\u001b[1m IR3TIB01PLQ\u001b[0m ⋯\n",
       "├────────────┼───────────────┼─────────────────┼─────────────────┼──────────────\n",
       "│ 1971-10-01 │       missing │         missing │         missing │         mis ⋯\n",
       "│ 1972-01-01 │       missing │         missing │         missing │         mis ⋯\n",
       "│ 1972-04-01 │       missing │         missing │         missing │         mis ⋯\n",
       "│ 1972-07-01 │       missing │         missing │         missing │         mis ⋯\n",
       "│ 1972-10-01 │       missing │         missing │         missing │         mis ⋯\n",
       "│ 1973-01-01 │       missing │         missing │         missing │         mis ⋯\n",
       "│ 1973-04-01 │       missing │         missing │         missing │         mis ⋯\n",
       "│ 1973-07-01 │       missing │         missing │         missing │         mis ⋯\n",
       "│     ⋮      │       ⋮       │        ⋮        │        ⋮        │        ⋮    ⋱\n",
       "│ 2022-07-01 │     5.56647e5 │         133.768 │            6.15 │             ⋯\n",
       "│ 2022-10-01 │     5.48545e5 │         138.679 │         7.22333 │             ⋯\n",
       "│ 2023-01-01 │     5.52848e5 │         144.295 │         6.11333 │         6.9 ⋯\n",
       "│ 2023-04-01 │      5.5169e5 │         147.008 │            5.97 │             ⋯\n",
       "│ 2023-07-01 │     5.57901e5 │         146.493 │            5.61 │             ⋯\n",
       "│ 2023-10-01 │      5.5765e5 │          147.28 │            5.53 │         5.7 ⋯\n",
       "│ 2024-01-01 │      5.6026e5 │         148.691 │         5.33333 │         5.8 ⋯\n",
       "└────────────┴───────────────┴─────────────────┴─────────────────┴──────────────\n",
       "\u001b[36m                                                 12 columns and 195 rows omitted\u001b[0m"
      ]
     },
     "metadata": {},
     "output_type": "display_data"
    }
   ],
   "source": [
    "data = DataFrame(XLSX.readtable(\"assets_data_03.24.xlsx\", \"Macro_Data\"; infer_eltypes=true))\n",
    "data = TimeArray(data,timestamp=:Date)"
   ]
  },
  {
   "cell_type": "code",
   "execution_count": 100,
   "metadata": {},
   "outputs": [
    {
     "ename": "TypeError",
     "evalue": "TypeError: non-boolean (Missing) used in boolean context",
     "output_type": "error",
     "traceback": [
      "TypeError: non-boolean (Missing) used in boolean context\n",
      "\n",
      "Stacktrace:\n",
      " [1] allequal(x::Tuple{DataFrame, DataFrame})\n",
      "   @ TimeSeries C:\\Users\\matsz\\.julia\\packages\\TimeSeries\\zx7sJ\\src\\utilities.jl:107\n",
      " [2] copy(bc′::Base.Broadcast.Broadcasted{TimeSeries.TimeArrayStyle{2}, Nothing, Base.Broadcast.var\"#12#14\"{Base.Broadcast.var\"#18#20\"{Base.Broadcast.var\"#15#16\"{Base.Broadcast.var\"#11#13\"}, Base.Broadcast.var\"#15#16\"{Base.Broadcast.var\"#15#16\"{Base.Broadcast.var\"#17#19\"}}, Base.Broadcast.var\"#25#26\"{Base.Broadcast.var\"#25#26\"{Base.Broadcast.var\"#27#28\"}}, Base.Broadcast.var\"#21#22\"{Base.Broadcast.var\"#21#22\"{Base.Broadcast.var\"#23#24\"}}, typeof(/)}, typeof(-)}, Tuple{TimeArray{Any, 2, Date, Matrix{Any}}, Int64, TimeArray{Any, 2, Date, Matrix{Any}}}})\n",
      "   @ TimeSeries C:\\Users\\matsz\\.julia\\packages\\TimeSeries\\zx7sJ\\src\\broadcast.jl:26\n",
      " [3] materialize(bc::Base.Broadcast.Broadcasted{TimeSeries.TimeArrayStyle{2}, Nothing, typeof(-), Tuple{Base.Broadcast.Broadcasted{TimeSeries.TimeArrayStyle{2}, Nothing, typeof(/), Tuple{TimeArray{Any, 2, Date, Matrix{Any}}, Int64}}, TimeArray{Any, 2, Date, Matrix{Any}}}})\n",
      "   @ Base.Broadcast .\\broadcast.jl:903\n",
      " [4] top-level scope\n",
      "   @ c:\\Users\\matsz\\programowanie\\Optymalizacja_portfela\\julia_msp\\eda_macro.ipynb:2"
     ]
    }
   ],
   "source": [
    "cpi = from(data[:,[:cpi_pl, :cpi_us, :cpi_ez]],Date(2001,01,01))\n",
    "real_short = from(data[:,[:IR3TIB01PLQ156N, :IR3TIB01USQ156N, :IR3TIB01EZQ156N]],Date(2001,01,01))./100 .- cpi"
   ]
  },
  {
   "cell_type": "code",
   "execution_count": 91,
   "metadata": {},
   "outputs": [
    {
     "ename": "MethodError",
     "evalue": "MethodError: no method matching skewness(::Vector{Any})\n\nClosest candidates are:\n  skewness(!Matched::Distributions.Chernoff)\n   @ Distributions C:\\Users\\matsz\\.julia\\packages\\Distributions\\UaWBm\\src\\univariate\\continuous\\chernoff.jl:210\n  skewness(!Matched::Distributions.DiscreteUniform)\n   @ Distributions C:\\Users\\matsz\\.julia\\packages\\Distributions\\UaWBm\\src\\univariate\\discrete\\discreteuniform.jl:58\n  skewness(!Matched::Distributions.Hypergeometric)\n   @ Distributions C:\\Users\\matsz\\.julia\\packages\\Distributions\\UaWBm\\src\\univariate\\discrete\\hypergeometric.jl:66\n  ...\n",
     "output_type": "error",
     "traceback": [
      "MethodError: no method matching skewness(::Vector{Any})\n",
      "\n",
      "Closest candidates are:\n",
      "  skewness(!Matched::Distributions.Chernoff)\n",
      "   @ Distributions C:\\Users\\matsz\\.julia\\packages\\Distributions\\UaWBm\\src\\univariate\\continuous\\chernoff.jl:210\n",
      "  skewness(!Matched::Distributions.DiscreteUniform)\n",
      "   @ Distributions C:\\Users\\matsz\\.julia\\packages\\Distributions\\UaWBm\\src\\univariate\\discrete\\discreteuniform.jl:58\n",
      "  skewness(!Matched::Distributions.Hypergeometric)\n",
      "   @ Distributions C:\\Users\\matsz\\.julia\\packages\\Distributions\\UaWBm\\src\\univariate\\discrete\\hypergeometric.jl:66\n",
      "  ...\n",
      "\n",
      "\n",
      "Stacktrace:\n",
      " [1] (::var\"#13#14\"{Int64, Transpose{Any, Matrix{Any}}})(i::Int64)\n",
      "   @ Main .\\none:0\n",
      " [2] iterate\n",
      "   @ .\\generator.jl:47 [inlined]\n",
      " [3] collect\n",
      "   @ .\\array.jl:834 [inlined]\n",
      " [4] returns_summarystats(data::TimeArray{Any, 2, Date, Matrix{Any}}, t::Int64)\n",
      "   @ Main c:\\Users\\matsz\\programowanie\\Optymalizacja_portfela\\julia_msp\\utils.jl:9\n",
      " [5] top-level scope\n",
      "   @ c:\\Users\\matsz\\programowanie\\Optymalizacja_portfela\\julia_msp\\eda_macro.ipynb:1"
     ]
    }
   ],
   "source": [
    "real_rates = "
   ]
  },
  {
   "cell_type": "code",
   "execution_count": 13,
   "metadata": {},
   "outputs": [
    {
     "ename": "TypeError",
     "evalue": "TypeError: non-boolean (Missing) used in boolean context",
     "output_type": "error",
     "traceback": [
      "TypeError: non-boolean (Missing) used in boolean context\n",
      "\n",
      "Stacktrace:\n",
      " [1] allequal(x::Tuple{DataFrame, DataFrame})\n",
      "   @ TimeSeries C:\\Users\\matsz\\.julia\\packages\\TimeSeries\\zx7sJ\\src\\utilities.jl:107\n",
      " [2] copy(bc′::Base.Broadcast.Broadcasted{TimeSeries.TimeArrayStyle{1}, Nothing, typeof(-), Tuple{TimeArray{Float64, 1, Date, Vector{Float64}}, TimeArray{Float64, 1, Date, Vector{Float64}}}})\n",
      "   @ TimeSeries C:\\Users\\matsz\\.julia\\packages\\TimeSeries\\zx7sJ\\src\\broadcast.jl:26\n",
      " [3] materialize(bc::Base.Broadcast.Broadcasted{TimeSeries.TimeArrayStyle{1}, Nothing, typeof(-), Tuple{TimeArray{Float64, 1, Date, Vector{Float64}}, TimeArray{Float64, 1, Date, Vector{Float64}}}})\n",
      "   @ Base.Broadcast .\\broadcast.jl:903\n",
      " [4] diff(ta::TimeArray{Float64, 1, Date, Vector{Float64}}, n::Int64; padding::Bool, differences::Int64)\n",
      "   @ TimeSeries C:\\Users\\matsz\\.julia\\packages\\TimeSeries\\zx7sJ\\src\\apply.jl:55\n",
      " [5] diff\n",
      "   @ C:\\Users\\matsz\\.julia\\packages\\TimeSeries\\zx7sJ\\src\\apply.jl:52 [inlined]\n",
      " [6] percentchange(ta::TimeArray{Any, 1, Date, Vector{Any}}, returns::Symbol; padding::Bool, method::String) (repeats 2 times)\n",
      "   @ TimeSeries C:\\Users\\matsz\\.julia\\packages\\TimeSeries\\zx7sJ\\src\\apply.jl:72\n",
      " [7] percentchange\n",
      "   @ C:\\Users\\matsz\\.julia\\packages\\TimeSeries\\zx7sJ\\src\\apply.jl:63 [inlined]\n",
      " [8] percentchange(ta::TimeArray{Any, 1, Date, Vector{Any}})\n",
      "   @ TimeSeries C:\\Users\\matsz\\.julia\\packages\\TimeSeries\\zx7sJ\\src\\apply.jl:63\n",
      " [9] top-level scope\n",
      "   @ c:\\Users\\matsz\\programowanie\\Optymalizacja_portfela\\julia_msp\\eda_macro.ipynb:1"
     ]
    }
   ],
   "source": [
    "inflation = percentchange(cpi,:log)\n"
   ]
  },
  {
   "cell_type": "code",
   "execution_count": 72,
   "metadata": {},
   "outputs": [
    {
     "data": {
      "text/plain": [
       "93×6 TimeArray{Float64, 2, Date, Matrix{Float64}} 2001-01-01 to 2024-01-01\n",
       "┌────────────┬─────────────────┬─────────────────┬─────────────────┬────────────\n",
       "│\u001b[1m            \u001b[0m│\u001b[1m IRLTLT01PLM156N \u001b[0m│\u001b[1m IR3TIB01PLQ156N \u001b[0m│\u001b[1m IRLTLT01USQ156N \u001b[0m│\u001b[1m IR3TIB01U\u001b[0m ⋯\n",
       "├────────────┼─────────────────┼─────────────────┼─────────────────┼────────────\n",
       "│ 2001-01-01 │       0.0991815 │        0.166982 │       0.0492662 │       0.0 ⋯\n",
       "│ 2001-04-01 │         0.10595 │        0.155293 │       0.0513583 │       0.0 ⋯\n",
       "│ 2001-07-01 │        0.110766 │        0.141123 │       0.0485997 │       0.0 ⋯\n",
       "│ 2001-10-01 │       0.0899321 │        0.119855 │       0.0465973 │        0. ⋯\n",
       "│ 2002-01-01 │       0.0797965 │       0.0989399 │       0.0495201 │       0.0 ⋯\n",
       "│ 2002-04-01 │       0.0762818 │       0.0912717 │       0.0497421 │       0.0 ⋯\n",
       "│ 2002-07-01 │       0.0696193 │       0.0792732 │       0.0417176 │       0.0 ⋯\n",
       "│ 2002-10-01 │       0.0580802 │       0.0665677 │       0.0392848 │       0.0 ⋯\n",
       "│     ⋮      │        ⋮        │        ⋮        │        ⋮        │        ⋮  ⋱\n",
       "│ 2022-07-01 │        0.059683 │       0.0686862 │       0.0305939 │       0.0 ⋯\n",
       "│ 2022-10-01 │       0.0697437 │       0.0701788 │       0.0375848 │       0.0 ⋯\n",
       "│ 2023-01-01 │       0.0593375 │       0.0669731 │       0.0358175 │       0.0 ⋯\n",
       "│ 2023-04-01 │       0.0579858 │       0.0667236 │       0.0353028 │       0.0 ⋯\n",
       "│ 2023-07-01 │       0.0545829 │        0.062787 │        0.040662 │       0.0 ⋯\n",
       "│ 2023-10-01 │       0.0538251 │       0.0560652 │       0.0434426 │       0.0 ⋯\n",
       "│ 2024-01-01 │       0.0519597 │       0.0569788 │        0.040758 │       0.0 ⋯\n",
       "└────────────┴─────────────────┴─────────────────┴─────────────────┴────────────\n",
       "\u001b[36m                                                   3 columns and 78 rows omitted\u001b[0m"
      ]
     },
     "metadata": {},
     "output_type": "display_data"
    }
   ],
   "source": [
    "log1p.(short_data[:,[:IRLTLT01PLM156N, :IR3TIB01PLQ156N, :IRLTLT01USQ156N, :IR3TIB01USQ156N, :IRLTLT01EZM156N, :IR3TIB01EZQ156N]] ./ 100)"
   ]
  },
  {
   "cell_type": "code",
   "execution_count": 80,
   "metadata": {},
   "outputs": [
    {
     "data": {
      "text/plain": [
       "93×3 TimeArray{Any, 2, Date, Matrix{Any}} 2001-01-01 to 2024-01-01\n",
       "┌────────────┬─────────────────┬─────────────────┬────────────────────┐\n",
       "│\u001b[1m            \u001b[0m│\u001b[1m POLCPIALLQINMEI \u001b[0m│\u001b[1m USACPIALLMINMEI \u001b[0m│\u001b[1m CP0000EZ19M086NEST \u001b[0m│\n",
       "├────────────┼─────────────────┼─────────────────┼────────────────────┤\n",
       "│ 2001-01-01 │          73.028 │         74.1297 │              76.72 │\n",
       "│ 2001-04-01 │         74.3877 │         74.9032 │              77.82 │\n",
       "│ 2001-07-01 │         74.3408 │         75.0016 │              77.87 │\n",
       "│ 2001-10-01 │         74.7863 │         74.7907 │              78.14 │\n",
       "│ 2002-01-01 │         75.6303 │         75.0579 │              78.68 │\n",
       "│ 2002-04-01 │         75.9116 │         75.8736 │              79.46 │\n",
       "│ 2002-07-01 │         75.2083 │         76.1971 │              79.51 │\n",
       "│ 2002-10-01 │         75.4427 │         76.4361 │              79.94 │\n",
       "│     ⋮      │        ⋮        │        ⋮        │         ⋮          │\n",
       "│ 2022-07-01 │         133.768 │         125.062 │             118.08 │\n",
       "│ 2022-10-01 │         138.679 │         125.521 │             120.83 │\n",
       "│ 2023-01-01 │         144.295 │         126.833 │             121.28 │\n",
       "│ 2023-04-01 │         147.008 │         128.345 │             123.23 │\n",
       "│ 2023-07-01 │         146.493 │         129.457 │             123.91 │\n",
       "│ 2023-10-01 │          147.28 │         129.592 │             124.12 │\n",
       "│ 2024-01-01 │         148.691 │         130.944 │             124.41 │\n",
       "└────────────┴─────────────────┴─────────────────┴────────────────────┘\n",
       "\u001b[36m                                                        78 rows omitted\u001b[0m"
      ]
     },
     "metadata": {},
     "output_type": "display_data"
    }
   ],
   "source": [
    "cpi = short_data[:POLCPIALLQINMEI, :USACPIALLMINMEI, :CP0000EZ19M086NEST]\n"
   ]
  }
 ],
 "metadata": {
  "kernelspec": {
   "display_name": "Julia 1.10.2",
   "language": "julia",
   "name": "julia-1.10"
  },
  "language_info": {
   "file_extension": ".jl",
   "mimetype": "application/julia",
   "name": "julia",
   "version": "1.10.2"
  }
 },
 "nbformat": 4,
 "nbformat_minor": 2
}
