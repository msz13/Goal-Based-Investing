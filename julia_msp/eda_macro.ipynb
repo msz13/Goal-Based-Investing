{
 "cells": [
  {
   "cell_type": "code",
   "execution_count": 5,
   "metadata": {},
   "outputs": [
    {
     "data": {
      "text/plain": [
       "print_percentiles (generic function with 1 method)"
      ]
     },
     "metadata": {},
     "output_type": "display_data"
    }
   ],
   "source": [
    "using XLSX, DataFrames, TimeSeries\n",
    "using StatsBase\n",
    "using Plots, StatsPlots\n",
    "using LinearAlgebra\n",
    "using GLM\n",
    "using FredData\n",
    "include(\"utils.jl\")\n"
   ]
  },
  {
   "cell_type": "code",
   "execution_count": 54,
   "metadata": {},
   "outputs": [
    {
     "data": {
      "text/plain": [
       "210×12 TimeArray{Any, 2, Date, Matrix{Any}} 1971-10-01 to 2024-01-01\n",
       "┌────────────┬───────────────┬─────────────────┬─────────────────┬──────────────\n",
       "│\u001b[1m            \u001b[0m│\u001b[1m NGDPRSAXDCPLQ \u001b[0m│\u001b[1m POLCPIALLQINMEI \u001b[0m│\u001b[1m IRLTLT01PLM156N \u001b[0m│\u001b[1m IR3TIB01PLQ\u001b[0m ⋯\n",
       "├────────────┼───────────────┼─────────────────┼─────────────────┼──────────────\n",
       "│ 1971-10-01 │       missing │         missing │         missing │         mis ⋯\n",
       "│ 1972-01-01 │       missing │         missing │         missing │         mis ⋯\n",
       "│ 1972-04-01 │       missing │         missing │         missing │         mis ⋯\n",
       "│ 1972-07-01 │       missing │         missing │         missing │         mis ⋯\n",
       "│ 1972-10-01 │       missing │         missing │         missing │         mis ⋯\n",
       "│ 1973-01-01 │       missing │         missing │         missing │         mis ⋯\n",
       "│ 1973-04-01 │       missing │         missing │         missing │         mis ⋯\n",
       "│ 1973-07-01 │       missing │         missing │         missing │         mis ⋯\n",
       "│     ⋮      │       ⋮       │        ⋮        │        ⋮        │        ⋮    ⋱\n",
       "│ 2022-07-01 │     5.56647e5 │         133.768 │            6.15 │             ⋯\n",
       "│ 2022-10-01 │     5.48545e5 │         138.679 │         7.22333 │             ⋯\n",
       "│ 2023-01-01 │     5.52848e5 │         144.295 │         6.11333 │         6.9 ⋯\n",
       "│ 2023-04-01 │      5.5169e5 │         147.008 │            5.97 │             ⋯\n",
       "│ 2023-07-01 │     5.57901e5 │         146.493 │            5.61 │             ⋯\n",
       "│ 2023-10-01 │      5.5765e5 │          147.28 │            5.53 │         5.7 ⋯\n",
       "│ 2024-01-01 │      5.6026e5 │         148.691 │         5.33333 │         5.8 ⋯\n",
       "└────────────┴───────────────┴─────────────────┴─────────────────┴──────────────\n",
       "\u001b[36m                                                  9 columns and 195 rows omitted\u001b[0m"
      ]
     },
     "metadata": {},
     "output_type": "display_data"
    }
   ],
   "source": [
    "data = DataFrame(XLSX.readtable(\"assets_data_03.24.xlsx\", \"Macro_Data\"; infer_eltypes=true))\n",
    "data = TimeArray(data,timestamp=:Date)\n"
   ]
  },
  {
   "cell_type": "code",
   "execution_count": 55,
   "metadata": {},
   "outputs": [
    {
     "data": {
      "text/plain": [
       "93×12 TimeArray{Any, 2, Date, Matrix{Any}} 2001-01-01 to 2024-01-01\n",
       "┌────────────┬───────────────┬─────────────────┬─────────────────┬──────────────\n",
       "│\u001b[1m            \u001b[0m│\u001b[1m NGDPRSAXDCPLQ \u001b[0m│\u001b[1m POLCPIALLQINMEI \u001b[0m│\u001b[1m IRLTLT01PLM156N \u001b[0m│\u001b[1m IR3TIB01PLQ\u001b[0m ⋯\n",
       "├────────────┼───────────────┼─────────────────┼─────────────────┼──────────────\n",
       "│ 2001-01-01 │     2.49527e5 │          73.028 │         10.4267 │         18. ⋯\n",
       "│ 2001-04-01 │     2.48736e5 │         74.3877 │         11.1767 │             ⋯\n",
       "│ 2001-07-01 │      249960.0 │         74.3408 │         11.7133 │         15. ⋯\n",
       "│ 2001-10-01 │     2.50033e5 │         74.7863 │            9.41 │         12. ⋯\n",
       "│ 2002-01-01 │     2.51671e5 │         75.6303 │         8.30667 │             ⋯\n",
       "│ 2002-04-01 │     2.53462e5 │         75.9116 │         7.92667 │         9.5 ⋯\n",
       "│ 2002-07-01 │     2.55909e5 │         75.2083 │            7.21 │             ⋯\n",
       "│ 2002-10-01 │     2.57161e5 │         75.4427 │            5.98 │         6.8 ⋯\n",
       "│     ⋮      │       ⋮       │        ⋮        │        ⋮        │        ⋮    ⋱\n",
       "│ 2022-07-01 │     5.56647e5 │         133.768 │            6.15 │             ⋯\n",
       "│ 2022-10-01 │     5.48545e5 │         138.679 │         7.22333 │             ⋯\n",
       "│ 2023-01-01 │     5.52848e5 │         144.295 │         6.11333 │         6.9 ⋯\n",
       "│ 2023-04-01 │      5.5169e5 │         147.008 │            5.97 │             ⋯\n",
       "│ 2023-07-01 │     5.57901e5 │         146.493 │            5.61 │             ⋯\n",
       "│ 2023-10-01 │      5.5765e5 │          147.28 │            5.53 │         5.7 ⋯\n",
       "│ 2024-01-01 │      5.6026e5 │         148.691 │         5.33333 │         5.8 ⋯\n",
       "└────────────┴───────────────┴─────────────────┴─────────────────┴──────────────\n",
       "\u001b[36m                                                   9 columns and 78 rows omitted\u001b[0m"
      ]
     },
     "metadata": {},
     "output_type": "display_data"
    }
   ],
   "source": [
    "short_data = from(data[:,[:NGDPRSAXDCPLQ, :POLCPIALLQINMEI, :IRLTLT01PLM156N, :IR3TIB01PLQ156N, :NGDPRSAXDCUSQ, :USACPIALLMINMEI, :IRLTLT01USQ156N, :IR3TIB01USQ156N, :CLVMEURSCAB1GQEA19, :CP0000EZ19M086NEST, :IRLTLT01EZM156N, :IR3TIB01EZQ156N]],Date(2001,1,1))"
   ]
  },
  {
   "cell_type": "code",
   "execution_count": 56,
   "metadata": {},
   "outputs": [
    {
     "ename": "TypeError",
     "evalue": "TypeError: non-boolean (Missing) used in boolean context",
     "output_type": "error",
     "traceback": [
      "TypeError: non-boolean (Missing) used in boolean context\n",
      "\n",
      "Stacktrace:\n",
      " [1] allequal(x::Tuple{DataFrame, DataFrame})\n",
      "   @ TimeSeries C:\\Users\\matsz\\.julia\\packages\\TimeSeries\\zx7sJ\\src\\utilities.jl:107\n",
      " [2] copy(bc′::Base.Broadcast.Broadcasted{TimeSeries.TimeArrayStyle{2}, Nothing, typeof(-), Tuple{TimeArray{Float64, 2, Date, Matrix{Float64}}, TimeArray{Float64, 2, Date, Matrix{Float64}}}})\n",
      "   @ TimeSeries C:\\Users\\matsz\\.julia\\packages\\TimeSeries\\zx7sJ\\src\\broadcast.jl:26\n",
      " [3] materialize(bc::Base.Broadcast.Broadcasted{TimeSeries.TimeArrayStyle{2}, Nothing, typeof(-), Tuple{TimeArray{Float64, 2, Date, Matrix{Float64}}, TimeArray{Float64, 2, Date, Matrix{Float64}}}})\n",
      "   @ Base.Broadcast .\\broadcast.jl:903\n",
      " [4] diff(ta::TimeArray{Float64, 2, Date, Matrix{Float64}}, n::Int64; padding::Bool, differences::Int64)\n",
      "   @ TimeSeries C:\\Users\\matsz\\.julia\\packages\\TimeSeries\\zx7sJ\\src\\apply.jl:55\n",
      " [5] diff\n",
      "   @ C:\\Users\\matsz\\.julia\\packages\\TimeSeries\\zx7sJ\\src\\apply.jl:52 [inlined]\n",
      " [6] percentchange(ta::TimeArray{Any, 2, Date, Matrix{Any}}, returns::Symbol; padding::Bool, method::String) (repeats 2 times)\n",
      "   @ TimeSeries C:\\Users\\matsz\\.julia\\packages\\TimeSeries\\zx7sJ\\src\\apply.jl:72\n",
      " [7] percentchange\n",
      "   @ C:\\Users\\matsz\\.julia\\packages\\TimeSeries\\zx7sJ\\src\\apply.jl:63 [inlined]\n",
      " [8] percentchange(ta::TimeArray{Any, 2, Date, Matrix{Any}})\n",
      "   @ TimeSeries C:\\Users\\matsz\\.julia\\packages\\TimeSeries\\zx7sJ\\src\\apply.jl:63\n",
      " [9] top-level scope\n",
      "   @ c:\\Users\\matsz\\programowanie\\Optymalizacja_portfela\\julia_msp\\eda_macro.ipynb:1"
     ]
    }
   ],
   "source": [
    "returns = percentchange(short_data[:,[:NGDPRSAXDCPLQ, :POLCPIALLQINMEI, :NGDPRSAXDCUSQ, :USACPIALLMINMEI, :CLVMEURSCAB1GQEA19, :CP0000EZ19M086NEST]])"
   ]
  },
  {
   "cell_type": "code",
   "execution_count": 57,
   "metadata": {},
   "outputs": [
    {
     "ename": "UndefVarError",
     "evalue": "UndefVarError: `cpi` not defined",
     "output_type": "error",
     "traceback": [
      "UndefVarError: `cpi` not defined\n",
      "\n",
      "Stacktrace:\n",
      " [1] top-level scope\n",
      "   @ c:\\Users\\matsz\\programowanie\\Optymalizacja_portfela\\julia_msp\\eda_macro.ipynb:1"
     ]
    }
   ],
   "source": [
    "ar = lm(@formula(CPI_PLN ~ GLM.lag(CPI_PLN,1)),cpi)"
   ]
  },
  {
   "cell_type": "code",
   "execution_count": 13,
   "metadata": {},
   "outputs": [
    {
     "ename": "TypeError",
     "evalue": "TypeError: non-boolean (Missing) used in boolean context",
     "output_type": "error",
     "traceback": [
      "TypeError: non-boolean (Missing) used in boolean context\n",
      "\n",
      "Stacktrace:\n",
      " [1] allequal(x::Tuple{DataFrame, DataFrame})\n",
      "   @ TimeSeries C:\\Users\\matsz\\.julia\\packages\\TimeSeries\\zx7sJ\\src\\utilities.jl:107\n",
      " [2] copy(bc′::Base.Broadcast.Broadcasted{TimeSeries.TimeArrayStyle{1}, Nothing, typeof(-), Tuple{TimeArray{Float64, 1, Date, Vector{Float64}}, TimeArray{Float64, 1, Date, Vector{Float64}}}})\n",
      "   @ TimeSeries C:\\Users\\matsz\\.julia\\packages\\TimeSeries\\zx7sJ\\src\\broadcast.jl:26\n",
      " [3] materialize(bc::Base.Broadcast.Broadcasted{TimeSeries.TimeArrayStyle{1}, Nothing, typeof(-), Tuple{TimeArray{Float64, 1, Date, Vector{Float64}}, TimeArray{Float64, 1, Date, Vector{Float64}}}})\n",
      "   @ Base.Broadcast .\\broadcast.jl:903\n",
      " [4] diff(ta::TimeArray{Float64, 1, Date, Vector{Float64}}, n::Int64; padding::Bool, differences::Int64)\n",
      "   @ TimeSeries C:\\Users\\matsz\\.julia\\packages\\TimeSeries\\zx7sJ\\src\\apply.jl:55\n",
      " [5] diff\n",
      "   @ C:\\Users\\matsz\\.julia\\packages\\TimeSeries\\zx7sJ\\src\\apply.jl:52 [inlined]\n",
      " [6] percentchange(ta::TimeArray{Any, 1, Date, Vector{Any}}, returns::Symbol; padding::Bool, method::String) (repeats 2 times)\n",
      "   @ TimeSeries C:\\Users\\matsz\\.julia\\packages\\TimeSeries\\zx7sJ\\src\\apply.jl:72\n",
      " [7] percentchange\n",
      "   @ C:\\Users\\matsz\\.julia\\packages\\TimeSeries\\zx7sJ\\src\\apply.jl:63 [inlined]\n",
      " [8] percentchange(ta::TimeArray{Any, 1, Date, Vector{Any}})\n",
      "   @ TimeSeries C:\\Users\\matsz\\.julia\\packages\\TimeSeries\\zx7sJ\\src\\apply.jl:63\n",
      " [9] top-level scope\n",
      "   @ c:\\Users\\matsz\\programowanie\\Optymalizacja_portfela\\julia_msp\\eda_macro.ipynb:1"
     ]
    }
   ],
   "source": [
    "inflation = percentchange(cpi,:log)\n"
   ]
  }
 ],
 "metadata": {
  "kernelspec": {
   "display_name": "Julia 1.10.2",
   "language": "julia",
   "name": "julia-1.10"
  },
  "language_info": {
   "file_extension": ".jl",
   "mimetype": "application/julia",
   "name": "julia",
   "version": "1.10.2"
  }
 },
 "nbformat": 4,
 "nbformat_minor": 2
}
