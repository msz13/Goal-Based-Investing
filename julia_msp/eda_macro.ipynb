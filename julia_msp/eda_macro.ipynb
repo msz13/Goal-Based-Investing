{
 "cells": [
  {
   "cell_type": "code",
   "execution_count": 1,
   "metadata": {},
   "outputs": [
    {
     "data": {
      "text/plain": [
       "print_percentiles (generic function with 1 method)"
      ]
     },
     "metadata": {},
     "output_type": "display_data"
    }
   ],
   "source": [
    "using XLSX, DataFrames, TimeSeries\n",
    "using StatsBase\n",
    "using Plots, StatsPlots\n",
    "using LinearAlgebra\n",
    "using GLM\n",
    "using FredData\n",
    "include(\"utils.jl\")\n"
   ]
  },
  {
   "cell_type": "code",
   "execution_count": 8,
   "metadata": {},
   "outputs": [
    {
     "data": {
      "text/plain": [
       "256×1 TimeArray{Any, 1, Date, Vector{Any}} 2002-12-31 to 2024-03-31\n",
       "┌────────────┬─────────┐\n",
       "│\u001b[1m            \u001b[0m│\u001b[1m CPI_PLN \u001b[0m│\n",
       "├────────────┼─────────┤\n",
       "│ 2002-12-31 │ 75.4661 │\n",
       "│ 2003-01-31 │ 75.7475 │\n",
       "│ 2003-02-28 │ 75.8178 │\n",
       "│ 2003-03-31 │ 76.0288 │\n",
       "│ 2003-04-30 │ 76.1695 │\n",
       "│ 2003-05-31 │ 76.1695 │\n",
       "│ 2003-06-30 │ 76.0991 │\n",
       "│ 2003-07-31 │ 75.8178 │\n",
       "│     ⋮      │    ⋮    │\n",
       "│ 2023-09-30 │ 146.113 │\n",
       "│ 2023-10-31 │  146.52 │\n",
       "│ 2023-11-30 │ 147.578 │\n",
       "│ 2023-12-31 │ 147.741 │\n",
       "│ 2024-01-31 │ 148.311 │\n",
       "│ 2024-02-29 │ 148.718 │\n",
       "│ 2024-03-31 │ 149.043 │\n",
       "└────────────┴─────────┘\n",
       "\u001b[36m        241 rows omitted\u001b[0m"
      ]
     },
     "metadata": {},
     "output_type": "display_data"
    }
   ],
   "source": [
    "data = DataFrame(XLSX.readtable(\"assets_data_03.24.xlsx\", \"Makro\"; infer_eltypes=true))\n",
    "data = TimeArray(data,timestamp=:Date)\n",
    "cpi = from(data[:CPI_PLN],Date(2002,12,01))"
   ]
  },
  {
   "cell_type": "code",
   "execution_count": 14,
   "metadata": {},
   "outputs": [
    {
     "data": {
      "text/plain": [
       "256×1 TimeArray{Float64, 1, Date, Vector{Float64}} 2002-12-31 to 2024-03-31\n",
       "┌────────────┬─────────┐\n",
       "│\u001b[1m            \u001b[0m│\u001b[1m CPI_PLN \u001b[0m│\n",
       "├────────────┼─────────┤\n",
       "│ 2002-12-31 │ 4.32368 │\n",
       "│ 2003-01-31 │ 4.32741 │\n",
       "│ 2003-02-28 │ 4.32833 │\n",
       "│ 2003-03-31 │ 4.33111 │\n",
       "│ 2003-04-30 │ 4.33296 │\n",
       "│ 2003-05-31 │ 4.33296 │\n",
       "│ 2003-06-30 │ 4.33204 │\n",
       "│ 2003-07-31 │ 4.32833 │\n",
       "│     ⋮      │    ⋮    │\n",
       "│ 2023-09-30 │ 4.98438 │\n",
       "│ 2023-10-31 │ 4.98716 │\n",
       "│ 2023-11-30 │ 4.99436 │\n",
       "│ 2023-12-31 │ 4.99546 │\n",
       "│ 2024-01-31 │ 4.99931 │\n",
       "│ 2024-02-29 │ 5.00205 │\n",
       "│ 2024-03-31 │ 5.00424 │\n",
       "└────────────┴─────────┘\n",
       "\u001b[36m        241 rows omitted\u001b[0m"
      ]
     },
     "metadata": {},
     "output_type": "display_data"
    }
   ],
   "source": [
    "log.(cpi)"
   ]
  },
  {
   "cell_type": "code",
   "execution_count": 17,
   "metadata": {},
   "outputs": [
    {
     "ename": "MethodError",
     "evalue": "MethodError: Cannot `convert` an object of type Missing to an object of type Float64\n\nClosest candidates are:\n  convert(::Type{Float64}, !Matched::Measures.AbsoluteLength)\n   @ Measures C:\\Users\\matsz\\.julia\\packages\\Measures\\PKOxJ\\src\\length.jl:12\n  convert(::Type{T}, !Matched::DualNumbers.Dual) where T<:Union{Real, Complex}\n   @ DualNumbers C:\\Users\\matsz\\.julia\\packages\\DualNumbers\\5knFX\\src\\dual.jl:24\n  convert(::Type{T}, !Matched::Ratios.SimpleRatio{S}) where {T<:AbstractFloat, S}\n   @ Ratios C:\\Users\\matsz\\.julia\\packages\\Ratios\\FsiCW\\src\\Ratios.jl:51\n  ...\n",
     "output_type": "error",
     "traceback": [
      "MethodError: Cannot `convert` an object of type Missing to an object of type Float64\n",
      "\n",
      "Closest candidates are:\n",
      "  convert(::Type{Float64}, !Matched::Measures.AbsoluteLength)\n",
      "   @ Measures C:\\Users\\matsz\\.julia\\packages\\Measures\\PKOxJ\\src\\length.jl:12\n",
      "  convert(::Type{T}, !Matched::DualNumbers.Dual) where T<:Union{Real, Complex}\n",
      "   @ DualNumbers C:\\Users\\matsz\\.julia\\packages\\DualNumbers\\5knFX\\src\\dual.jl:24\n",
      "  convert(::Type{T}, !Matched::Ratios.SimpleRatio{S}) where {T<:AbstractFloat, S}\n",
      "   @ Ratios C:\\Users\\matsz\\.julia\\packages\\Ratios\\FsiCW\\src\\Ratios.jl:51\n",
      "  ...\n",
      "\n",
      "\n",
      "Stacktrace:\n",
      "  [1] setindex!(A::Matrix{Float64}, x::Missing, i1::Int64)\n",
      "    @ Base .\\array.jl:1021\n",
      "  [2] copyto_unaliased!(deststyle::IndexLinear, dest::Matrix{Float64}, srcstyle::IndexLinear, src::Base.ReshapedArray{Union{Missing, Float64}, 2, Matrix{Union{Missing, Float64}}, Tuple{}})\n",
      "    @ Base .\\abstractarray.jl:1088\n",
      "  [3] copyto!\n",
      "    @ .\\abstractarray.jl:1068 [inlined]\n",
      "  [4] copyto_axcheck!(dest::Matrix{Float64}, src::Base.ReshapedArray{Union{Missing, Float64}, 2, Matrix{Union{Missing, Float64}}, Tuple{}})\n",
      "    @ Base .\\abstractarray.jl:1177\n",
      "  [5] Array\n",
      "    @ .\\array.jl:673 [inlined]\n",
      "  [6] convert(::Type{Matrix{Float64}}, a::Base.ReshapedArray{Union{Missing, Float64}, 2, Matrix{Union{Missing, Float64}}, Tuple{}})\n",
      "    @ Base .\\array.jl:665\n",
      "  [7] ModelMatrix{Matrix{Float64}}(mf::ModelFrame{@NamedTuple{CPI_PLN::Vector{Any}}, LinearModel})\n",
      "    @ StatsModels C:\\Users\\matsz\\.julia\\packages\\StatsModels\\syVEq\\src\\modelframe.jl:226\n",
      "  [8] ModelMatrix(mf::ModelFrame{@NamedTuple{CPI_PLN::Vector{Any}}, LinearModel})\n",
      "    @ StatsModels C:\\Users\\matsz\\.julia\\packages\\StatsModels\\syVEq\\src\\modelframe.jl:229\n",
      "  [9] fit(::Type{LinearModel}, f::FormulaTerm{Term, FunctionTerm{typeof(ShiftedArrays.lag), Vector{AbstractTerm}}}, data::TimeArray{Any, 1, Date, Vector{Any}}, args::Nothing; contrasts::Dict{Symbol, Any}, kwargs::@Kwargs{})\n",
      "    @ StatsModels C:\\Users\\matsz\\.julia\\packages\\StatsModels\\syVEq\\src\\statsmodel.jl:86\n",
      " [10] fit\n",
      "    @ C:\\Users\\matsz\\.julia\\packages\\StatsModels\\syVEq\\src\\statsmodel.jl:78 [inlined]\n",
      " [11] lm\n",
      "    @ C:\\Users\\matsz\\.julia\\packages\\GLM\\vM20T\\src\\lm.jl:157 [inlined]\n",
      " [12] lm(X::FormulaTerm{Term, FunctionTerm{typeof(ShiftedArrays.lag), Vector{AbstractTerm}}}, y::TimeArray{Any, 1, Date, Vector{Any}})\n",
      "    @ GLM C:\\Users\\matsz\\.julia\\packages\\GLM\\vM20T\\src\\lm.jl:157\n",
      " [13] top-level scope\n",
      "    @ c:\\Users\\matsz\\programowanie\\Optymalizacja_portfela\\julia_msp\\eda_macro.ipynb:1"
     ]
    }
   ],
   "source": [
    "ar = lm(@formula(CPI_PLN ~ GLM.lag(CPI_PLN,1)),cpi)"
   ]
  },
  {
   "cell_type": "code",
   "execution_count": 13,
   "metadata": {},
   "outputs": [
    {
     "ename": "TypeError",
     "evalue": "TypeError: non-boolean (Missing) used in boolean context",
     "output_type": "error",
     "traceback": [
      "TypeError: non-boolean (Missing) used in boolean context\n",
      "\n",
      "Stacktrace:\n",
      " [1] allequal(x::Tuple{DataFrame, DataFrame})\n",
      "   @ TimeSeries C:\\Users\\matsz\\.julia\\packages\\TimeSeries\\zx7sJ\\src\\utilities.jl:107\n",
      " [2] copy(bc′::Base.Broadcast.Broadcasted{TimeSeries.TimeArrayStyle{1}, Nothing, typeof(-), Tuple{TimeArray{Float64, 1, Date, Vector{Float64}}, TimeArray{Float64, 1, Date, Vector{Float64}}}})\n",
      "   @ TimeSeries C:\\Users\\matsz\\.julia\\packages\\TimeSeries\\zx7sJ\\src\\broadcast.jl:26\n",
      " [3] materialize(bc::Base.Broadcast.Broadcasted{TimeSeries.TimeArrayStyle{1}, Nothing, typeof(-), Tuple{TimeArray{Float64, 1, Date, Vector{Float64}}, TimeArray{Float64, 1, Date, Vector{Float64}}}})\n",
      "   @ Base.Broadcast .\\broadcast.jl:903\n",
      " [4] diff(ta::TimeArray{Float64, 1, Date, Vector{Float64}}, n::Int64; padding::Bool, differences::Int64)\n",
      "   @ TimeSeries C:\\Users\\matsz\\.julia\\packages\\TimeSeries\\zx7sJ\\src\\apply.jl:55\n",
      " [5] diff\n",
      "   @ C:\\Users\\matsz\\.julia\\packages\\TimeSeries\\zx7sJ\\src\\apply.jl:52 [inlined]\n",
      " [6] percentchange(ta::TimeArray{Any, 1, Date, Vector{Any}}, returns::Symbol; padding::Bool, method::String) (repeats 2 times)\n",
      "   @ TimeSeries C:\\Users\\matsz\\.julia\\packages\\TimeSeries\\zx7sJ\\src\\apply.jl:72\n",
      " [7] percentchange\n",
      "   @ C:\\Users\\matsz\\.julia\\packages\\TimeSeries\\zx7sJ\\src\\apply.jl:63 [inlined]\n",
      " [8] percentchange(ta::TimeArray{Any, 1, Date, Vector{Any}})\n",
      "   @ TimeSeries C:\\Users\\matsz\\.julia\\packages\\TimeSeries\\zx7sJ\\src\\apply.jl:63\n",
      " [9] top-level scope\n",
      "   @ c:\\Users\\matsz\\programowanie\\Optymalizacja_portfela\\julia_msp\\eda_macro.ipynb:1"
     ]
    }
   ],
   "source": [
    "inflation = percentchange(cpi,:log)\n"
   ]
  }
 ],
 "metadata": {
  "kernelspec": {
   "display_name": "Julia 1.10.2",
   "language": "julia",
   "name": "julia-1.10"
  },
  "language_info": {
   "file_extension": ".jl",
   "mimetype": "application/julia",
   "name": "julia",
   "version": "1.10.2"
  }
 },
 "nbformat": 4,
 "nbformat_minor": 2
}
