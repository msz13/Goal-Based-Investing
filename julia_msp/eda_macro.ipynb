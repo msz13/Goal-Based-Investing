{
 "cells": [
  {
   "cell_type": "code",
   "execution_count": 5,
   "metadata": {},
   "outputs": [
    {
     "data": {
      "text/plain": [
       "print_percentiles (generic function with 1 method)"
      ]
     },
     "metadata": {},
     "output_type": "display_data"
    }
   ],
   "source": [
    "using XLSX, DataFrames, TimeSeries\n",
    "using StatsBase\n",
    "using Plots, StatsPlots\n",
    "using LinearAlgebra\n",
    "using GLM\n",
    "using FredData\n",
    "include(\"utils.jl\")\n"
   ]
  },
  {
   "cell_type": "code",
   "execution_count": 41,
   "metadata": {},
   "outputs": [
    {
     "data": {
      "text/html": [
       "<div><div style = \"float: left;\"><span>210×13 DataFrame</span></div><div style = \"float: right;\"><span style = \"font-style: italic;\">185 rows omitted</span></div><div style = \"clear: both;\"></div></div><div class = \"data-frame\" style = \"overflow-x: scroll;\"><table class = \"data-frame\" style = \"margin-bottom: 6px;\"><thead><tr class = \"header\"><th class = \"rowNumber\" style = \"font-weight: bold; text-align: right;\">Row</th><th style = \"text-align: left;\">Date</th><th style = \"text-align: left;\">NGDPRSAXDCPLQ</th><th style = \"text-align: left;\">POLCPIALLQINMEI</th><th style = \"text-align: left;\">IRLTLT01PLM156N</th><th style = \"text-align: left;\">IR3TIB01PLQ156N</th><th style = \"text-align: left;\">NGDPRSAXDCUSQ</th><th style = \"text-align: left;\">USACPIALLMINMEI</th><th style = \"text-align: left;\">IRLTLT01USQ156N</th><th style = \"text-align: left;\">IR3TIB01USQ156N</th><th style = \"text-align: left;\">CLVMEURSCAB1GQEA19</th><th style = \"text-align: left;\">CP0000EZ19M086NEST</th><th style = \"text-align: left;\">IRLTLT01EZM156N</th><th style = \"text-align: left;\">IR3TIB01EZQ156N</th></tr><tr class = \"subheader headerLastRow\"><th class = \"rowNumber\" style = \"font-weight: bold; text-align: right;\"></th><th title = \"Date\" style = \"text-align: left;\">Date</th><th title = \"Union{Missing, Float64}\" style = \"text-align: left;\">Float64?</th><th title = \"Union{Missing, Float64}\" style = \"text-align: left;\">Float64?</th><th title = \"Union{Missing, Float64}\" style = \"text-align: left;\">Float64?</th><th title = \"Union{Missing, Float64}\" style = \"text-align: left;\">Float64?</th><th title = \"Float64\" style = \"text-align: left;\">Float64</th><th title = \"Float64\" style = \"text-align: left;\">Float64</th><th title = \"Float64\" style = \"text-align: left;\">Float64</th><th title = \"Any\" style = \"text-align: left;\">Any</th><th title = \"Union{Missing, Float64}\" style = \"text-align: left;\">Float64?</th><th title = \"Union{Missing, Float64}\" style = \"text-align: left;\">Float64?</th><th title = \"Float64\" style = \"text-align: left;\">Float64</th><th title = \"Any\" style = \"text-align: left;\">Any</th></tr></thead><tbody><tr><td class = \"rowNumber\" style = \"font-weight: bold; text-align: right;\">1</td><td style = \"text-align: left;\">1971-10-01</td><td style = \"font-style: italic; text-align: right;\">missing</td><td style = \"font-style: italic; text-align: right;\">missing</td><td style = \"font-style: italic; text-align: right;\">missing</td><td style = \"font-style: italic; text-align: right;\">missing</td><td style = \"text-align: right;\">1.38276e6</td><td style = \"text-align: right;\">17.2843</td><td style = \"text-align: right;\">5.89</td><td style = \"text-align: left;\">4.93</td><td style = \"font-style: italic; text-align: right;\">missing</td><td style = \"font-style: italic; text-align: right;\">missing</td><td style = \"text-align: right;\">7.84603</td><td style = \"font-style: italic; text-align: left;\">missing</td></tr><tr><td class = \"rowNumber\" style = \"font-weight: bold; text-align: right;\">2</td><td style = \"text-align: left;\">1972-01-01</td><td style = \"font-style: italic; text-align: right;\">missing</td><td style = \"font-style: italic; text-align: right;\">missing</td><td style = \"font-style: italic; text-align: right;\">missing</td><td style = \"font-style: italic; text-align: right;\">missing</td><td style = \"text-align: right;\">1.40816e6</td><td style = \"text-align: right;\">17.4108</td><td style = \"text-align: right;\">6.03333</td><td style = \"text-align: left;\">3.88</td><td style = \"font-style: italic; text-align: right;\">missing</td><td style = \"font-style: italic; text-align: right;\">missing</td><td style = \"text-align: right;\">7.58765</td><td style = \"font-style: italic; text-align: left;\">missing</td></tr><tr><td class = \"rowNumber\" style = \"font-weight: bold; text-align: right;\">3</td><td style = \"text-align: left;\">1972-04-01</td><td style = \"font-style: italic; text-align: right;\">missing</td><td style = \"font-style: italic; text-align: right;\">missing</td><td style = \"font-style: italic; text-align: right;\">missing</td><td style = \"font-style: italic; text-align: right;\">missing</td><td style = \"text-align: right;\">1.44012e6</td><td style = \"text-align: right;\">17.5515</td><td style = \"text-align: right;\">6.14333</td><td style = \"text-align: left;\">4.55</td><td style = \"font-style: italic; text-align: right;\">missing</td><td style = \"font-style: italic; text-align: right;\">missing</td><td style = \"text-align: right;\">7.54971</td><td style = \"font-style: italic; text-align: left;\">missing</td></tr><tr><td class = \"rowNumber\" style = \"font-weight: bold; text-align: right;\">4</td><td style = \"text-align: left;\">1972-07-01</td><td style = \"font-style: italic; text-align: right;\">missing</td><td style = \"font-style: italic; text-align: right;\">missing</td><td style = \"font-style: italic; text-align: right;\">missing</td><td style = \"font-style: italic; text-align: right;\">missing</td><td style = \"text-align: right;\">1.45371e6</td><td style = \"text-align: right;\">17.7203</td><td style = \"text-align: right;\">6.29</td><td style = \"text-align: left;\">4.93333</td><td style = \"font-style: italic; text-align: right;\">missing</td><td style = \"font-style: italic; text-align: right;\">missing</td><td style = \"text-align: right;\">7.58279</td><td style = \"font-style: italic; text-align: left;\">missing</td></tr><tr><td class = \"rowNumber\" style = \"font-weight: bold; text-align: right;\">5</td><td style = \"text-align: left;\">1972-10-01</td><td style = \"font-style: italic; text-align: right;\">missing</td><td style = \"font-style: italic; text-align: right;\">missing</td><td style = \"font-style: italic; text-align: right;\">missing</td><td style = \"font-style: italic; text-align: right;\">missing</td><td style = \"text-align: right;\">1.47806e6</td><td style = \"text-align: right;\">17.889</td><td style = \"text-align: right;\">6.37333</td><td style = \"text-align: left;\">5.3</td><td style = \"font-style: italic; text-align: right;\">missing</td><td style = \"font-style: italic; text-align: right;\">missing</td><td style = \"text-align: right;\">7.81468</td><td style = \"font-style: italic; text-align: left;\">missing</td></tr><tr><td class = \"rowNumber\" style = \"font-weight: bold; text-align: right;\">6</td><td style = \"text-align: left;\">1973-01-01</td><td style = \"font-style: italic; text-align: right;\">missing</td><td style = \"font-style: italic; text-align: right;\">missing</td><td style = \"font-style: italic; text-align: right;\">missing</td><td style = \"font-style: italic; text-align: right;\">missing</td><td style = \"text-align: right;\">1.51464e6</td><td style = \"text-align: right;\">18.114</td><td style = \"text-align: right;\">6.60333</td><td style = \"text-align: left;\">6.4</td><td style = \"font-style: italic; text-align: right;\">missing</td><td style = \"font-style: italic; text-align: right;\">missing</td><td style = \"text-align: right;\">7.97585</td><td style = \"font-style: italic; text-align: left;\">missing</td></tr><tr><td class = \"rowNumber\" style = \"font-weight: bold; text-align: right;\">7</td><td style = \"text-align: left;\">1973-04-01</td><td style = \"font-style: italic; text-align: right;\">missing</td><td style = \"font-style: italic; text-align: right;\">missing</td><td style = \"font-style: italic; text-align: right;\">missing</td><td style = \"font-style: italic; text-align: right;\">missing</td><td style = \"text-align: right;\">1.53113e6</td><td style = \"text-align: right;\">18.5219</td><td style = \"text-align: right;\">6.80667</td><td style = \"text-align: left;\">7.67333</td><td style = \"font-style: italic; text-align: right;\">missing</td><td style = \"font-style: italic; text-align: right;\">missing</td><td style = \"text-align: right;\">8.30518</td><td style = \"font-style: italic; text-align: left;\">missing</td></tr><tr><td class = \"rowNumber\" style = \"font-weight: bold; text-align: right;\">8</td><td style = \"text-align: left;\">1973-07-01</td><td style = \"font-style: italic; text-align: right;\">missing</td><td style = \"font-style: italic; text-align: right;\">missing</td><td style = \"font-style: italic; text-align: right;\">missing</td><td style = \"font-style: italic; text-align: right;\">missing</td><td style = \"text-align: right;\">1.52308e6</td><td style = \"text-align: right;\">18.9297</td><td style = \"text-align: right;\">7.20667</td><td style = \"text-align: left;\">10.3533</td><td style = \"font-style: italic; text-align: right;\">missing</td><td style = \"font-style: italic; text-align: right;\">missing</td><td style = \"text-align: right;\">8.60193</td><td style = \"font-style: italic; text-align: left;\">missing</td></tr><tr><td class = \"rowNumber\" style = \"font-weight: bold; text-align: right;\">9</td><td style = \"text-align: left;\">1973-10-01</td><td style = \"font-style: italic; text-align: right;\">missing</td><td style = \"font-style: italic; text-align: right;\">missing</td><td style = \"font-style: italic; text-align: right;\">missing</td><td style = \"font-style: italic; text-align: right;\">missing</td><td style = \"text-align: right;\">1.53753e6</td><td style = \"text-align: right;\">19.3657</td><td style = \"text-align: right;\">6.75333</td><td style = \"text-align: left;\">9.23667</td><td style = \"font-style: italic; text-align: right;\">missing</td><td style = \"font-style: italic; text-align: right;\">missing</td><td style = \"text-align: right;\">8.71593</td><td style = \"font-style: italic; text-align: left;\">missing</td></tr><tr><td class = \"rowNumber\" style = \"font-weight: bold; text-align: right;\">10</td><td style = \"text-align: left;\">1974-01-01</td><td style = \"font-style: italic; text-align: right;\">missing</td><td style = \"font-style: italic; text-align: right;\">missing</td><td style = \"font-style: italic; text-align: right;\">missing</td><td style = \"font-style: italic; text-align: right;\">missing</td><td style = \"text-align: right;\">1.52431e6</td><td style = \"text-align: right;\">19.9142</td><td style = \"text-align: right;\">7.05333</td><td style = \"text-align: left;\">8.64</td><td style = \"font-style: italic; text-align: right;\">missing</td><td style = \"font-style: italic; text-align: right;\">missing</td><td style = \"text-align: right;\">9.34029</td><td style = \"font-style: italic; text-align: left;\">missing</td></tr><tr><td class = \"rowNumber\" style = \"font-weight: bold; text-align: right;\">11</td><td style = \"text-align: left;\">1974-04-01</td><td style = \"font-style: italic; text-align: right;\">missing</td><td style = \"font-style: italic; text-align: right;\">missing</td><td style = \"font-style: italic; text-align: right;\">missing</td><td style = \"font-style: italic; text-align: right;\">missing</td><td style = \"text-align: right;\">1.52794e6</td><td style = \"text-align: right;\">20.4767</td><td style = \"text-align: right;\">7.54333</td><td style = \"text-align: left;\">10.9433</td><td style = \"font-style: italic; text-align: right;\">missing</td><td style = \"font-style: italic; text-align: right;\">missing</td><td style = \"text-align: right;\">10.0645</td><td style = \"font-style: italic; text-align: left;\">missing</td></tr><tr><td class = \"rowNumber\" style = \"font-weight: bold; text-align: right;\">12</td><td style = \"text-align: left;\">1974-07-01</td><td style = \"font-style: italic; text-align: right;\">missing</td><td style = \"font-style: italic; text-align: right;\">missing</td><td style = \"font-style: italic; text-align: right;\">missing</td><td style = \"font-style: italic; text-align: right;\">missing</td><td style = \"text-align: right;\">1.51349e6</td><td style = \"text-align: right;\">21.0955</td><td style = \"text-align: right;\">7.96333</td><td style = \"text-align: left;\">12.0267</td><td style = \"font-style: italic; text-align: right;\">missing</td><td style = \"font-style: italic; text-align: right;\">missing</td><td style = \"text-align: right;\">10.6979</td><td style = \"font-style: italic; text-align: left;\">missing</td></tr><tr><td class = \"rowNumber\" style = \"font-weight: bold; text-align: right;\">13</td><td style = \"text-align: left;\">1974-10-01</td><td style = \"font-style: italic; text-align: right;\">missing</td><td style = \"font-style: italic; text-align: right;\">missing</td><td style = \"font-style: italic; text-align: right;\">missing</td><td style = \"font-style: italic; text-align: right;\">missing</td><td style = \"text-align: right;\">1.50762e6</td><td style = \"text-align: right;\">21.7284</td><td style = \"text-align: right;\">7.67</td><td style = \"text-align: left;\">9.36667</td><td style = \"font-style: italic; text-align: right;\">missing</td><td style = \"font-style: italic; text-align: right;\">missing</td><td style = \"text-align: right;\">10.5872</td><td style = \"font-style: italic; text-align: left;\">missing</td></tr><tr><td style = \"text-align: right;\">&vellip;</td><td style = \"text-align: right;\">&vellip;</td><td style = \"text-align: right;\">&vellip;</td><td style = \"text-align: right;\">&vellip;</td><td style = \"text-align: right;\">&vellip;</td><td style = \"text-align: right;\">&vellip;</td><td style = \"text-align: right;\">&vellip;</td><td style = \"text-align: right;\">&vellip;</td><td style = \"text-align: right;\">&vellip;</td><td style = \"text-align: right;\">&vellip;</td><td style = \"text-align: right;\">&vellip;</td><td style = \"text-align: right;\">&vellip;</td><td style = \"text-align: right;\">&vellip;</td><td style = \"text-align: right;\">&vellip;</td></tr><tr><td class = \"rowNumber\" style = \"font-weight: bold; text-align: right;\">199</td><td style = \"text-align: left;\">2021-04-01</td><td style = \"text-align: right;\">5.18948e5</td><td style = \"text-align: right;\">113.797</td><td style = \"text-align: right;\">1.71667</td><td style = \"text-align: right;\">0.21</td><td style = \"text-align: right;\">5.32739e6</td><td style = \"text-align: right;\">113.627</td><td style = \"text-align: right;\">1.59333</td><td style = \"text-align: left;\">0.1</td><td style = \"text-align: right;\">2.64485e6</td><td style = \"text-align: right;\">107.42</td><td style = \"text-align: right;\">0.2953</td><td style = \"text-align: left;\">-0.540385</td></tr><tr><td class = \"rowNumber\" style = \"font-weight: bold; text-align: right;\">200</td><td style = \"text-align: left;\">2021-07-01</td><td style = \"text-align: right;\">5.2971e5</td><td style = \"text-align: right;\">114.937</td><td style = \"text-align: right;\">1.69333</td><td style = \"text-align: right;\">0.22</td><td style = \"text-align: right;\">5.37077e6</td><td style = \"text-align: right;\">115.446</td><td style = \"text-align: right;\">1.32333</td><td style = \"text-align: left;\">0.1</td><td style = \"text-align: right;\">2.69856e6</td><td style = \"text-align: right;\">108.02</td><td style = \"text-align: right;\">0.14016</td><td style = \"text-align: left;\">-0.545818</td></tr><tr><td class = \"rowNumber\" style = \"font-weight: bold; text-align: right;\">201</td><td style = \"text-align: left;\">2021-10-01</td><td style = \"text-align: right;\">5.40762e5</td><td style = \"text-align: right;\">118.003</td><td style = \"text-align: right;\">3.02667</td><td style = \"text-align: right;\">1.78</td><td style = \"text-align: right;\">5.4619e6</td><td style = \"text-align: right;\">117.198</td><td style = \"text-align: right;\">1.53667</td><td style = \"text-align: left;\">0.14</td><td style = \"text-align: right;\">2.71357e6</td><td style = \"text-align: right;\">109.89</td><td style = \"text-align: right;\">0.314566</td><td style = \"text-align: left;\">-0.566377</td></tr><tr><td class = \"rowNumber\" style = \"font-weight: bold; text-align: right;\">202</td><td style = \"text-align: left;\">2022-01-01</td><td style = \"text-align: right;\">5.59133e5</td><td style = \"text-align: right;\">122.48</td><td style = \"text-align: right;\">4.26</td><td style = \"text-align: right;\">3.81333</td><td style = \"text-align: right;\">5.43472e6</td><td style = \"text-align: right;\">119.874</td><td style = \"text-align: right;\">1.94</td><td style = \"text-align: left;\">0.443333</td><td style = \"text-align: right;\">2.73067e6</td><td style = \"text-align: right;\">112.3</td><td style = \"text-align: right;\">0.844118</td><td style = \"text-align: left;\">-0.529026</td></tr><tr><td class = \"rowNumber\" style = \"font-weight: bold; text-align: right;\">203</td><td style = \"text-align: left;\">2022-04-01</td><td style = \"text-align: right;\">5.54194e5</td><td style = \"text-align: right;\">129.67</td><td style = \"text-align: right;\">6.58</td><td style = \"text-align: right;\">6.56333</td><td style = \"text-align: right;\">5.42704e6</td><td style = \"text-align: right;\">123.439</td><td style = \"text-align: right;\">2.93</td><td style = \"text-align: left;\">1.37</td><td style = \"text-align: right;\">2.75232e6</td><td style = \"text-align: right;\">116.06</td><td style = \"text-align: right;\">1.95991</td><td style = \"text-align: left;\">-0.357616</td></tr><tr><td class = \"rowNumber\" style = \"font-weight: bold; text-align: right;\">204</td><td style = \"text-align: left;\">2022-07-01</td><td style = \"text-align: right;\">5.56647e5</td><td style = \"text-align: right;\">133.768</td><td style = \"text-align: right;\">6.15</td><td style = \"text-align: right;\">7.11</td><td style = \"text-align: right;\">5.46278e6</td><td style = \"text-align: right;\">125.062</td><td style = \"text-align: right;\">3.10667</td><td style = \"text-align: left;\">2.82333</td><td style = \"text-align: right;\">2.76497e6</td><td style = \"text-align: right;\">118.08</td><td style = \"text-align: right;\">2.3215</td><td style = \"text-align: left;\">0.480741</td></tr><tr><td class = \"rowNumber\" style = \"font-weight: bold; text-align: right;\">205</td><td style = \"text-align: left;\">2022-10-01</td><td style = \"text-align: right;\">5.48545e5</td><td style = \"text-align: right;\">138.679</td><td style = \"text-align: right;\">7.22333</td><td style = \"text-align: right;\">7.27</td><td style = \"text-align: right;\">5.4975e6</td><td style = \"text-align: right;\">125.521</td><td style = \"text-align: right;\">3.83</td><td style = \"text-align: left;\">4.27333</td><td style = \"text-align: right;\">2.76411e6</td><td style = \"text-align: right;\">120.83</td><td style = \"text-align: right;\">3.03976</td><td style = \"text-align: left;\">1.77212</td></tr><tr><td class = \"rowNumber\" style = \"font-weight: bold; text-align: right;\">206</td><td style = \"text-align: left;\">2023-01-01</td><td style = \"text-align: right;\">5.52848e5</td><td style = \"text-align: right;\">144.295</td><td style = \"text-align: right;\">6.11333</td><td style = \"text-align: right;\">6.92667</td><td style = \"text-align: right;\">5.52808e6</td><td style = \"text-align: right;\">126.833</td><td style = \"text-align: right;\">3.64667</td><td style = \"text-align: left;\">4.75333</td><td style = \"text-align: right;\">2.76644e6</td><td style = \"text-align: right;\">121.28</td><td style = \"text-align: right;\">3.16665</td><td style = \"text-align: left;\">2.63193</td></tr><tr><td class = \"rowNumber\" style = \"font-weight: bold; text-align: right;\">207</td><td style = \"text-align: left;\">2023-04-01</td><td style = \"text-align: right;\">5.5169e5</td><td style = \"text-align: right;\">147.008</td><td style = \"text-align: right;\">5.97</td><td style = \"text-align: right;\">6.9</td><td style = \"text-align: right;\">5.55634e6</td><td style = \"text-align: right;\">128.345</td><td style = \"text-align: right;\">3.59333</td><td style = \"text-align: left;\">5.13333</td><td style = \"text-align: right;\">2.76947e6</td><td style = \"text-align: right;\">123.23</td><td style = \"text-align: right;\">3.18781</td><td style = \"text-align: left;\">3.35643</td></tr><tr><td class = \"rowNumber\" style = \"font-weight: bold; text-align: right;\">208</td><td style = \"text-align: left;\">2023-07-01</td><td style = \"text-align: right;\">5.57901e5</td><td style = \"text-align: right;\">146.493</td><td style = \"text-align: right;\">5.61</td><td style = \"text-align: right;\">6.48</td><td style = \"text-align: right;\">5.62267e6</td><td style = \"text-align: right;\">129.457</td><td style = \"text-align: right;\">4.15</td><td style = \"text-align: left;\">5.42667</td><td style = \"text-align: right;\">2.76998e6</td><td style = \"text-align: right;\">123.91</td><td style = \"text-align: right;\">3.37253</td><td style = \"text-align: left;\">3.77739</td></tr><tr><td class = \"rowNumber\" style = \"font-weight: bold; text-align: right;\">209</td><td style = \"text-align: left;\">2023-10-01</td><td style = \"text-align: right;\">5.5765e5</td><td style = \"text-align: right;\">147.28</td><td style = \"text-align: right;\">5.53</td><td style = \"text-align: right;\">5.76667</td><td style = \"text-align: right;\">5.66821e6</td><td style = \"text-align: right;\">129.592</td><td style = \"text-align: right;\">4.44</td><td style = \"text-align: left;\">5.39667</td><td style = \"text-align: right;\">2.76797e6</td><td style = \"text-align: right;\">124.12</td><td style = \"text-align: right;\">3.3366</td><td style = \"text-align: left;\">3.95746</td></tr><tr><td class = \"rowNumber\" style = \"font-weight: bold; text-align: right;\">210</td><td style = \"text-align: left;\">2024-01-01</td><td style = \"text-align: right;\">5.6026e5</td><td style = \"text-align: right;\">148.691</td><td style = \"text-align: right;\">5.33333</td><td style = \"text-align: right;\">5.86333</td><td style = \"text-align: right;\">5.66821e6</td><td style = \"text-align: right;\">130.944</td><td style = \"text-align: right;\">4.16</td><td style = \"text-align: left;\">5.25667</td><td style = \"text-align: right;\">2.77652e6</td><td style = \"text-align: right;\">124.41</td><td style = \"text-align: right;\">2.96041</td><td style = \"text-align: left;\">3.92361</td></tr></tbody></table></div>"
      ],
      "text/latex": [
       "\\begin{tabular}{r|ccccccc}\n",
       "\t& Date & NGDPRSAXDCPLQ & POLCPIALLQINMEI & IRLTLT01PLM156N & IR3TIB01PLQ156N & NGDPRSAXDCUSQ & \\\\\n",
       "\t\\hline\n",
       "\t& Date & Float64? & Float64? & Float64? & Float64? & Float64 & \\\\\n",
       "\t\\hline\n",
       "\t1 & 1971-10-01 & \\emph{missing} & \\emph{missing} & \\emph{missing} & \\emph{missing} & 1.38276e6 & $\\dots$ \\\\\n",
       "\t2 & 1972-01-01 & \\emph{missing} & \\emph{missing} & \\emph{missing} & \\emph{missing} & 1.40816e6 & $\\dots$ \\\\\n",
       "\t3 & 1972-04-01 & \\emph{missing} & \\emph{missing} & \\emph{missing} & \\emph{missing} & 1.44012e6 & $\\dots$ \\\\\n",
       "\t4 & 1972-07-01 & \\emph{missing} & \\emph{missing} & \\emph{missing} & \\emph{missing} & 1.45371e6 & $\\dots$ \\\\\n",
       "\t5 & 1972-10-01 & \\emph{missing} & \\emph{missing} & \\emph{missing} & \\emph{missing} & 1.47806e6 & $\\dots$ \\\\\n",
       "\t6 & 1973-01-01 & \\emph{missing} & \\emph{missing} & \\emph{missing} & \\emph{missing} & 1.51464e6 & $\\dots$ \\\\\n",
       "\t7 & 1973-04-01 & \\emph{missing} & \\emph{missing} & \\emph{missing} & \\emph{missing} & 1.53113e6 & $\\dots$ \\\\\n",
       "\t8 & 1973-07-01 & \\emph{missing} & \\emph{missing} & \\emph{missing} & \\emph{missing} & 1.52308e6 & $\\dots$ \\\\\n",
       "\t9 & 1973-10-01 & \\emph{missing} & \\emph{missing} & \\emph{missing} & \\emph{missing} & 1.53753e6 & $\\dots$ \\\\\n",
       "\t10 & 1974-01-01 & \\emph{missing} & \\emph{missing} & \\emph{missing} & \\emph{missing} & 1.52431e6 & $\\dots$ \\\\\n",
       "\t11 & 1974-04-01 & \\emph{missing} & \\emph{missing} & \\emph{missing} & \\emph{missing} & 1.52794e6 & $\\dots$ \\\\\n",
       "\t12 & 1974-07-01 & \\emph{missing} & \\emph{missing} & \\emph{missing} & \\emph{missing} & 1.51349e6 & $\\dots$ \\\\\n",
       "\t13 & 1974-10-01 & \\emph{missing} & \\emph{missing} & \\emph{missing} & \\emph{missing} & 1.50762e6 & $\\dots$ \\\\\n",
       "\t14 & 1975-01-01 & \\emph{missing} & \\emph{missing} & \\emph{missing} & \\emph{missing} & 1.48926e6 & $\\dots$ \\\\\n",
       "\t15 & 1975-04-01 & \\emph{missing} & \\emph{missing} & \\emph{missing} & \\emph{missing} & 1.4999e6 & $\\dots$ \\\\\n",
       "\t16 & 1975-07-01 & \\emph{missing} & \\emph{missing} & \\emph{missing} & \\emph{missing} & 1.52558e6 & $\\dots$ \\\\\n",
       "\t17 & 1975-10-01 & \\emph{missing} & \\emph{missing} & \\emph{missing} & \\emph{missing} & 1.54613e6 & $\\dots$ \\\\\n",
       "\t18 & 1976-01-01 & \\emph{missing} & \\emph{missing} & \\emph{missing} & \\emph{missing} & 1.58091e6 & $\\dots$ \\\\\n",
       "\t19 & 1976-04-01 & \\emph{missing} & \\emph{missing} & \\emph{missing} & \\emph{missing} & 1.59251e6 & $\\dots$ \\\\\n",
       "\t20 & 1976-07-01 & \\emph{missing} & \\emph{missing} & \\emph{missing} & \\emph{missing} & 1.60122e6 & $\\dots$ \\\\\n",
       "\t21 & 1976-10-01 & \\emph{missing} & \\emph{missing} & \\emph{missing} & \\emph{missing} & 1.61279e6 & $\\dots$ \\\\\n",
       "\t22 & 1977-01-01 & \\emph{missing} & \\emph{missing} & \\emph{missing} & \\emph{missing} & 1.63193e6 & $\\dots$ \\\\\n",
       "\t23 & 1977-04-01 & \\emph{missing} & \\emph{missing} & \\emph{missing} & \\emph{missing} & 1.66362e6 & $\\dots$ \\\\\n",
       "\t24 & 1977-07-01 & \\emph{missing} & \\emph{missing} & \\emph{missing} & \\emph{missing} & 1.69361e6 & $\\dots$ \\\\\n",
       "\t$\\dots$ & $\\dots$ & $\\dots$ & $\\dots$ & $\\dots$ & $\\dots$ & $\\dots$ &  \\\\\n",
       "\\end{tabular}\n"
      ],
      "text/plain": [
       "\u001b[1m210×13 DataFrame\u001b[0m\n",
       "\u001b[1m Row \u001b[0m│\u001b[1m Date       \u001b[0m\u001b[1m NGDPRSAXDCPLQ   \u001b[0m\u001b[1m POLCPIALLQINMEI \u001b[0m\u001b[1m IRLTLT01PLM156N \u001b[0m\u001b[1m IR3TIB01\u001b[0m ⋯\n",
       "     │\u001b[90m Date       \u001b[0m\u001b[90m Float64?        \u001b[0m\u001b[90m Float64?        \u001b[0m\u001b[90m Float64?        \u001b[0m\u001b[90m Float64?\u001b[0m ⋯\n",
       "─────┼──────────────────────────────────────────────────────────────────────────\n",
       "   1 │ 1971-10-01 \u001b[90m missing         \u001b[0m\u001b[90m     missing     \u001b[0m\u001b[90m   missing       \u001b[0m\u001b[90m   missin\u001b[0m ⋯\n",
       "   2 │ 1972-01-01 \u001b[90m missing         \u001b[0m\u001b[90m     missing     \u001b[0m\u001b[90m   missing       \u001b[0m\u001b[90m   missin\u001b[0m\n",
       "   3 │ 1972-04-01 \u001b[90m missing         \u001b[0m\u001b[90m     missing     \u001b[0m\u001b[90m   missing       \u001b[0m\u001b[90m   missin\u001b[0m\n",
       "   4 │ 1972-07-01 \u001b[90m missing         \u001b[0m\u001b[90m     missing     \u001b[0m\u001b[90m   missing       \u001b[0m\u001b[90m   missin\u001b[0m\n",
       "   5 │ 1972-10-01 \u001b[90m missing         \u001b[0m\u001b[90m     missing     \u001b[0m\u001b[90m   missing       \u001b[0m\u001b[90m   missin\u001b[0m ⋯\n",
       "   6 │ 1973-01-01 \u001b[90m missing         \u001b[0m\u001b[90m     missing     \u001b[0m\u001b[90m   missing       \u001b[0m\u001b[90m   missin\u001b[0m\n",
       "   7 │ 1973-04-01 \u001b[90m missing         \u001b[0m\u001b[90m     missing     \u001b[0m\u001b[90m   missing       \u001b[0m\u001b[90m   missin\u001b[0m\n",
       "   8 │ 1973-07-01 \u001b[90m missing         \u001b[0m\u001b[90m     missing     \u001b[0m\u001b[90m   missing       \u001b[0m\u001b[90m   missin\u001b[0m\n",
       "  ⋮  │     ⋮              ⋮                ⋮                ⋮                ⋮ ⋱\n",
       " 204 │ 2022-07-01        5.56647e5          133.768          6.15              ⋯\n",
       " 205 │ 2022-10-01        5.48545e5          138.679          7.22333\n",
       " 206 │ 2023-01-01        5.52848e5          144.295          6.11333\n",
       " 207 │ 2023-04-01        5.5169e5           147.008          5.97\n",
       " 208 │ 2023-07-01        5.57901e5          146.493          5.61              ⋯\n",
       " 209 │ 2023-10-01        5.5765e5           147.28           5.53\n",
       " 210 │ 2024-01-01        5.6026e5           148.691          5.33333\n",
       "\u001b[36m                                                  9 columns and 195 rows omitted\u001b[0m"
      ]
     },
     "metadata": {},
     "output_type": "display_data"
    }
   ],
   "source": [
    "data = DataFrame(XLSX.readtable(\"assets_data_03.24.xlsx\", \"Macro_Data\"; infer_eltypes=true))\n",
    "data = TimeArray(data,timestamp=:Date)\n"
   ]
  },
  {
   "cell_type": "code",
   "execution_count": 37,
   "metadata": {},
   "outputs": [
    {
     "data": {
      "text/plain": [
       "93×12 TimeArray{Any, 2, Date, Matrix{Any}} 2001-01-01 to 2024-01-01\n",
       "┌────────────┬─────────────────┬─────────────────┬─────────────────┬────────────\n",
       "│\u001b[1m            \u001b[0m│\u001b[1m NGDPRSAXDCPLQ   \u001b[0m│\u001b[1m POLCPIALLQINMEI \u001b[0m│\u001b[1m IRLTLT01PLM156N \u001b[0m│\u001b[1m IR3TIB01P\u001b[0m ⋯\n",
       "├────────────┼─────────────────┼─────────────────┼─────────────────┼────────────\n",
       "│ 2001-01-01 │ 249526.68951654 │          73.028 │         10.4267 │         1 ⋯\n",
       "│ 2001-04-01 │ 248735.92502119 │         74.3877 │         11.1767 │           ⋯\n",
       "│ 2001-07-01 │ 249959.95965744 │         74.3408 │         11.7133 │         1 ⋯\n",
       "│ 2001-10-01 │ 250032.57424543 │         74.7863 │            9.41 │         1 ⋯\n",
       "│ 2002-01-01 │ 251670.81885544 │         75.6303 │         8.30667 │           ⋯\n",
       "│ 2002-04-01 │ 253462.10266113 │         75.9116 │         7.92667 │         9 ⋯\n",
       "│ 2002-07-01 │ 255909.05621653 │         75.2083 │            7.21 │           ⋯\n",
       "│ 2002-10-01 │ 257161.35568601 │         75.4427 │            5.98 │         6 ⋯\n",
       "│     ⋮      │        ⋮        │        ⋮        │        ⋮        │        ⋮  ⋱\n",
       "│ 2022-07-01 │ 556647.43959941 │         133.768 │            6.15 │           ⋯\n",
       "│ 2022-10-01 │ 548544.91605891 │         138.679 │         7.22333 │           ⋯\n",
       "│ 2023-01-01 │ 552847.77203544 │         144.295 │         6.11333 │         6 ⋯\n",
       "│ 2023-04-01 │  551690.1225667 │         147.008 │            5.97 │           ⋯\n",
       "│ 2023-07-01 │ 557901.41264453 │         146.493 │            5.61 │           ⋯\n",
       "│ 2023-10-01 │ 557650.19034395 │          147.28 │            5.53 │         5 ⋯\n",
       "│ 2024-01-01 │ 560260.31752537 │         148.691 │         5.33333 │         5 ⋯\n",
       "└────────────┴─────────────────┴─────────────────┴─────────────────┴────────────\n",
       "\u001b[36m                                                   9 columns and 78 rows omitted\u001b[0m"
      ]
     },
     "metadata": {},
     "output_type": "display_data"
    }
   ],
   "source": [
    "short_data = from(data[:,[:NGDPRSAXDCPLQ, :POLCPIALLQINMEI, :IRLTLT01PLM156N, :IR3TIB01PLQ156N, :NGDPRSAXDCUSQ, :USACPIALLMINMEI, :IRLTLT01USQ156N, :IR3TIB01USQ156N, :CLVMEURSCAB1GQEA19, :CP0000EZ19M086NEST, :IRLTLT01EZM156N, :IR3TIB01EZQ156N]],Date(2001,1,1))"
   ]
  },
  {
   "cell_type": "code",
   "execution_count": 38,
   "metadata": {},
   "outputs": [
    {
     "ename": "MethodError",
     "evalue": "MethodError: no method matching log(::String)\n\nClosest candidates are:\n  log(!Matched::ComplexF16)\n   @ Base math.jl:1559\n  log(!Matched::Float64)\n   @ Base special\\log.jl:267\n  log(!Matched::Missing, !Matched::Missing)\n   @ Base math.jl:1584\n  ...\n",
     "output_type": "error",
     "traceback": [
      "MethodError: no method matching log(::String)\n",
      "\n",
      "Closest candidates are:\n",
      "  log(!Matched::ComplexF16)\n",
      "   @ Base math.jl:1559\n",
      "  log(!Matched::Float64)\n",
      "   @ Base special\\log.jl:267\n",
      "  log(!Matched::Missing, !Matched::Missing)\n",
      "   @ Base math.jl:1584\n",
      "  ...\n",
      "\n",
      "\n",
      "Stacktrace:\n",
      "  [1] _broadcast_getindex_evalf\n",
      "    @ .\\broadcast.jl:709 [inlined]\n",
      "  [2] _broadcast_getindex\n",
      "    @ .\\broadcast.jl:682 [inlined]\n",
      "  [3] getindex\n",
      "    @ .\\broadcast.jl:636 [inlined]\n",
      "  [4] copy\n",
      "    @ .\\broadcast.jl:942 [inlined]\n",
      "  [5] materialize\n",
      "    @ .\\broadcast.jl:903 [inlined]\n",
      "  [6] broadcast(f::typeof(log), As::SubArray{Any, 2, Matrix{Any}, Tuple{Base.OneTo{Int64}, Base.Slice{Base.OneTo{Int64}}}, false})\n",
      "    @ Base.Broadcast .\\broadcast.jl:841\n",
      "  [7] copy(bc′::Base.Broadcast.Broadcasted{TimeSeries.TimeArrayStyle{2}, Nothing, typeof(log), Tuple{TimeArray{Any, 2, Date, Matrix{Any}}}})\n",
      "    @ TimeSeries C:\\Users\\matsz\\.julia\\packages\\TimeSeries\\zx7sJ\\src\\broadcast.jl:48\n",
      "  [8] materialize\n",
      "    @ .\\broadcast.jl:903 [inlined]\n",
      "  [9] percentchange(ta::TimeArray{Any, 2, Date, Matrix{Any}}, returns::Symbol; padding::Bool, method::String) (repeats 2 times)\n",
      "    @ TimeSeries C:\\Users\\matsz\\.julia\\packages\\TimeSeries\\zx7sJ\\src\\apply.jl:72\n",
      " [10] percentchange\n",
      "    @ C:\\Users\\matsz\\.julia\\packages\\TimeSeries\\zx7sJ\\src\\apply.jl:63 [inlined]\n",
      " [11] percentchange(ta::TimeArray{Any, 2, Date, Matrix{Any}})\n",
      "    @ TimeSeries C:\\Users\\matsz\\.julia\\packages\\TimeSeries\\zx7sJ\\src\\apply.jl:63\n",
      " [12] top-level scope\n",
      "    @ c:\\Users\\matsz\\programowanie\\Optymalizacja_portfela\\julia_msp\\eda_macro.ipynb:1"
     ]
    }
   ],
   "source": [
    "returns = percentchange(short_data)"
   ]
  },
  {
   "cell_type": "code",
   "execution_count": 17,
   "metadata": {},
   "outputs": [
    {
     "ename": "MethodError",
     "evalue": "MethodError: Cannot `convert` an object of type Missing to an object of type Float64\n\nClosest candidates are:\n  convert(::Type{Float64}, !Matched::Measures.AbsoluteLength)\n   @ Measures C:\\Users\\matsz\\.julia\\packages\\Measures\\PKOxJ\\src\\length.jl:12\n  convert(::Type{T}, !Matched::DualNumbers.Dual) where T<:Union{Real, Complex}\n   @ DualNumbers C:\\Users\\matsz\\.julia\\packages\\DualNumbers\\5knFX\\src\\dual.jl:24\n  convert(::Type{T}, !Matched::Ratios.SimpleRatio{S}) where {T<:AbstractFloat, S}\n   @ Ratios C:\\Users\\matsz\\.julia\\packages\\Ratios\\FsiCW\\src\\Ratios.jl:51\n  ...\n",
     "output_type": "error",
     "traceback": [
      "MethodError: Cannot `convert` an object of type Missing to an object of type Float64\n",
      "\n",
      "Closest candidates are:\n",
      "  convert(::Type{Float64}, !Matched::Measures.AbsoluteLength)\n",
      "   @ Measures C:\\Users\\matsz\\.julia\\packages\\Measures\\PKOxJ\\src\\length.jl:12\n",
      "  convert(::Type{T}, !Matched::DualNumbers.Dual) where T<:Union{Real, Complex}\n",
      "   @ DualNumbers C:\\Users\\matsz\\.julia\\packages\\DualNumbers\\5knFX\\src\\dual.jl:24\n",
      "  convert(::Type{T}, !Matched::Ratios.SimpleRatio{S}) where {T<:AbstractFloat, S}\n",
      "   @ Ratios C:\\Users\\matsz\\.julia\\packages\\Ratios\\FsiCW\\src\\Ratios.jl:51\n",
      "  ...\n",
      "\n",
      "\n",
      "Stacktrace:\n",
      "  [1] setindex!(A::Matrix{Float64}, x::Missing, i1::Int64)\n",
      "    @ Base .\\array.jl:1021\n",
      "  [2] copyto_unaliased!(deststyle::IndexLinear, dest::Matrix{Float64}, srcstyle::IndexLinear, src::Base.ReshapedArray{Union{Missing, Float64}, 2, Matrix{Union{Missing, Float64}}, Tuple{}})\n",
      "    @ Base .\\abstractarray.jl:1088\n",
      "  [3] copyto!\n",
      "    @ .\\abstractarray.jl:1068 [inlined]\n",
      "  [4] copyto_axcheck!(dest::Matrix{Float64}, src::Base.ReshapedArray{Union{Missing, Float64}, 2, Matrix{Union{Missing, Float64}}, Tuple{}})\n",
      "    @ Base .\\abstractarray.jl:1177\n",
      "  [5] Array\n",
      "    @ .\\array.jl:673 [inlined]\n",
      "  [6] convert(::Type{Matrix{Float64}}, a::Base.ReshapedArray{Union{Missing, Float64}, 2, Matrix{Union{Missing, Float64}}, Tuple{}})\n",
      "    @ Base .\\array.jl:665\n",
      "  [7] ModelMatrix{Matrix{Float64}}(mf::ModelFrame{@NamedTuple{CPI_PLN::Vector{Any}}, LinearModel})\n",
      "    @ StatsModels C:\\Users\\matsz\\.julia\\packages\\StatsModels\\syVEq\\src\\modelframe.jl:226\n",
      "  [8] ModelMatrix(mf::ModelFrame{@NamedTuple{CPI_PLN::Vector{Any}}, LinearModel})\n",
      "    @ StatsModels C:\\Users\\matsz\\.julia\\packages\\StatsModels\\syVEq\\src\\modelframe.jl:229\n",
      "  [9] fit(::Type{LinearModel}, f::FormulaTerm{Term, FunctionTerm{typeof(ShiftedArrays.lag), Vector{AbstractTerm}}}, data::TimeArray{Any, 1, Date, Vector{Any}}, args::Nothing; contrasts::Dict{Symbol, Any}, kwargs::@Kwargs{})\n",
      "    @ StatsModels C:\\Users\\matsz\\.julia\\packages\\StatsModels\\syVEq\\src\\statsmodel.jl:86\n",
      " [10] fit\n",
      "    @ C:\\Users\\matsz\\.julia\\packages\\StatsModels\\syVEq\\src\\statsmodel.jl:78 [inlined]\n",
      " [11] lm\n",
      "    @ C:\\Users\\matsz\\.julia\\packages\\GLM\\vM20T\\src\\lm.jl:157 [inlined]\n",
      " [12] lm(X::FormulaTerm{Term, FunctionTerm{typeof(ShiftedArrays.lag), Vector{AbstractTerm}}}, y::TimeArray{Any, 1, Date, Vector{Any}})\n",
      "    @ GLM C:\\Users\\matsz\\.julia\\packages\\GLM\\vM20T\\src\\lm.jl:157\n",
      " [13] top-level scope\n",
      "    @ c:\\Users\\matsz\\programowanie\\Optymalizacja_portfela\\julia_msp\\eda_macro.ipynb:1"
     ]
    }
   ],
   "source": [
    "ar = lm(@formula(CPI_PLN ~ GLM.lag(CPI_PLN,1)),cpi)"
   ]
  },
  {
   "cell_type": "code",
   "execution_count": 13,
   "metadata": {},
   "outputs": [
    {
     "ename": "TypeError",
     "evalue": "TypeError: non-boolean (Missing) used in boolean context",
     "output_type": "error",
     "traceback": [
      "TypeError: non-boolean (Missing) used in boolean context\n",
      "\n",
      "Stacktrace:\n",
      " [1] allequal(x::Tuple{DataFrame, DataFrame})\n",
      "   @ TimeSeries C:\\Users\\matsz\\.julia\\packages\\TimeSeries\\zx7sJ\\src\\utilities.jl:107\n",
      " [2] copy(bc′::Base.Broadcast.Broadcasted{TimeSeries.TimeArrayStyle{1}, Nothing, typeof(-), Tuple{TimeArray{Float64, 1, Date, Vector{Float64}}, TimeArray{Float64, 1, Date, Vector{Float64}}}})\n",
      "   @ TimeSeries C:\\Users\\matsz\\.julia\\packages\\TimeSeries\\zx7sJ\\src\\broadcast.jl:26\n",
      " [3] materialize(bc::Base.Broadcast.Broadcasted{TimeSeries.TimeArrayStyle{1}, Nothing, typeof(-), Tuple{TimeArray{Float64, 1, Date, Vector{Float64}}, TimeArray{Float64, 1, Date, Vector{Float64}}}})\n",
      "   @ Base.Broadcast .\\broadcast.jl:903\n",
      " [4] diff(ta::TimeArray{Float64, 1, Date, Vector{Float64}}, n::Int64; padding::Bool, differences::Int64)\n",
      "   @ TimeSeries C:\\Users\\matsz\\.julia\\packages\\TimeSeries\\zx7sJ\\src\\apply.jl:55\n",
      " [5] diff\n",
      "   @ C:\\Users\\matsz\\.julia\\packages\\TimeSeries\\zx7sJ\\src\\apply.jl:52 [inlined]\n",
      " [6] percentchange(ta::TimeArray{Any, 1, Date, Vector{Any}}, returns::Symbol; padding::Bool, method::String) (repeats 2 times)\n",
      "   @ TimeSeries C:\\Users\\matsz\\.julia\\packages\\TimeSeries\\zx7sJ\\src\\apply.jl:72\n",
      " [7] percentchange\n",
      "   @ C:\\Users\\matsz\\.julia\\packages\\TimeSeries\\zx7sJ\\src\\apply.jl:63 [inlined]\n",
      " [8] percentchange(ta::TimeArray{Any, 1, Date, Vector{Any}})\n",
      "   @ TimeSeries C:\\Users\\matsz\\.julia\\packages\\TimeSeries\\zx7sJ\\src\\apply.jl:63\n",
      " [9] top-level scope\n",
      "   @ c:\\Users\\matsz\\programowanie\\Optymalizacja_portfela\\julia_msp\\eda_macro.ipynb:1"
     ]
    }
   ],
   "source": [
    "inflation = percentchange(cpi,:log)\n"
   ]
  }
 ],
 "metadata": {
  "kernelspec": {
   "display_name": "Julia 1.10.2",
   "language": "julia",
   "name": "julia-1.10"
  },
  "language_info": {
   "file_extension": ".jl",
   "mimetype": "application/julia",
   "name": "julia",
   "version": "1.10.2"
  }
 },
 "nbformat": 4,
 "nbformat_minor": 2
}
