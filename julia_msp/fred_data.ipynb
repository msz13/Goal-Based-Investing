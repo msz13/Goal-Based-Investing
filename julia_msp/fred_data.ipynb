{
 "cells": [
  {
   "cell_type": "code",
   "execution_count": 1,
   "metadata": {},
   "outputs": [
    {
     "data": {
      "text/plain": [
       "print_percentiles (generic function with 1 method)"
      ]
     },
     "metadata": {},
     "output_type": "display_data"
    }
   ],
   "source": [
    "using XLSX, DataFrames, TimeSeries\n",
    "using StatsBase\n",
    "using Plots, StatsPlots\n",
    "using LinearAlgebra\n",
    "using GLM\n",
    "using FredData\n",
    "include(\"utils.jl\")"
   ]
  },
  {
   "cell_type": "code",
   "execution_count": 2,
   "metadata": {},
   "outputs": [
    {
     "data": {
      "text/plain": [
       "FRED API Connection\n",
       "\turl: https://api.stlouisfed.org/fred/\n",
       "\tkey: b258d550a51a3c02c25400cc4267b3a8\n"
      ]
     },
     "metadata": {},
     "output_type": "display_data"
    }
   ],
   "source": [
    "f = Fred(\"b258d550a51a3c02c25400cc4267b3a8\")"
   ]
  },
  {
   "cell_type": "code",
   "execution_count": 165,
   "metadata": {},
   "outputs": [
    {
     "data": {
      "text/plain": [
       "211-element Vector{Date}:\n",
       " 1971-10-01\n",
       " 1972-01-01\n",
       " 1972-04-01\n",
       " 1972-07-01\n",
       " 1972-10-01\n",
       " 1973-01-01\n",
       " 1973-04-01\n",
       " 1973-07-01\n",
       " 1973-10-01\n",
       " 1974-01-01\n",
       " ⋮\n",
       " 2022-04-01\n",
       " 2022-07-01\n",
       " 2022-10-01\n",
       " 2023-01-01\n",
       " 2023-04-01\n",
       " 2023-07-01\n",
       " 2023-10-01\n",
       " 2024-01-01\n",
       " 2024-04-01"
      ]
     },
     "metadata": {},
     "output_type": "display_data"
    }
   ],
   "source": [
    "Date(1971,10,1):Quarter(1):Date(2024,6,1) |> collect"
   ]
  },
  {
   "cell_type": "code",
   "execution_count": 169,
   "metadata": {},
   "outputs": [
    {
     "data": {
      "text/html": [
       "<div><div style = \"float: left;\"><span>114×2 DataFrame</span></div><div style = \"float: right;\"><span style = \"font-style: italic;\">89 rows omitted</span></div><div style = \"clear: both;\"></div></div><div class = \"data-frame\" style = \"overflow-x: scroll;\"><table class = \"data-frame\" style = \"margin-bottom: 6px;\"><thead><tr class = \"header\"><th class = \"rowNumber\" style = \"font-weight: bold; text-align: right;\">Row</th><th style = \"text-align: left;\">date</th><th style = \"text-align: left;\">value</th></tr><tr class = \"subheader headerLastRow\"><th class = \"rowNumber\" style = \"font-weight: bold; text-align: right;\"></th><th title = \"Date\" style = \"text-align: left;\">Date</th><th title = \"Float64\" style = \"text-align: left;\">Float64</th></tr></thead><tbody><tr><td class = \"rowNumber\" style = \"font-weight: bold; text-align: right;\">1</td><td style = \"text-align: left;\">1996-01-01</td><td style = \"text-align: right;\">70.71</td></tr><tr><td class = \"rowNumber\" style = \"font-weight: bold; text-align: right;\">2</td><td style = \"text-align: left;\">1996-04-01</td><td style = \"text-align: right;\">71.26</td></tr><tr><td class = \"rowNumber\" style = \"font-weight: bold; text-align: right;\">3</td><td style = \"text-align: left;\">1996-07-01</td><td style = \"text-align: right;\">71.34</td></tr><tr><td class = \"rowNumber\" style = \"font-weight: bold; text-align: right;\">4</td><td style = \"text-align: left;\">1996-10-01</td><td style = \"text-align: right;\">71.59</td></tr><tr><td class = \"rowNumber\" style = \"font-weight: bold; text-align: right;\">5</td><td style = \"text-align: left;\">1997-01-01</td><td style = \"text-align: right;\">72.09</td></tr><tr><td class = \"rowNumber\" style = \"font-weight: bold; text-align: right;\">6</td><td style = \"text-align: left;\">1997-04-01</td><td style = \"text-align: right;\">72.32</td></tr><tr><td class = \"rowNumber\" style = \"font-weight: bold; text-align: right;\">7</td><td style = \"text-align: left;\">1997-07-01</td><td style = \"text-align: right;\">72.56</td></tr><tr><td class = \"rowNumber\" style = \"font-weight: bold; text-align: right;\">8</td><td style = \"text-align: left;\">1997-10-01</td><td style = \"text-align: right;\">72.79</td></tr><tr><td class = \"rowNumber\" style = \"font-weight: bold; text-align: right;\">9</td><td style = \"text-align: left;\">1998-01-01</td><td style = \"text-align: right;\">72.97</td></tr><tr><td class = \"rowNumber\" style = \"font-weight: bold; text-align: right;\">10</td><td style = \"text-align: left;\">1998-04-01</td><td style = \"text-align: right;\">73.39</td></tr><tr><td class = \"rowNumber\" style = \"font-weight: bold; text-align: right;\">11</td><td style = \"text-align: left;\">1998-07-01</td><td style = \"text-align: right;\">73.48</td></tr><tr><td class = \"rowNumber\" style = \"font-weight: bold; text-align: right;\">12</td><td style = \"text-align: left;\">1998-10-01</td><td style = \"text-align: right;\">73.46</td></tr><tr><td class = \"rowNumber\" style = \"font-weight: bold; text-align: right;\">13</td><td style = \"text-align: left;\">1999-01-01</td><td style = \"text-align: right;\">73.63</td></tr><tr><td style = \"text-align: right;\">&vellip;</td><td style = \"text-align: right;\">&vellip;</td><td style = \"text-align: right;\">&vellip;</td></tr><tr><td class = \"rowNumber\" style = \"font-weight: bold; text-align: right;\">103</td><td style = \"text-align: left;\">2021-07-01</td><td style = \"text-align: right;\">108.02</td></tr><tr><td class = \"rowNumber\" style = \"font-weight: bold; text-align: right;\">104</td><td style = \"text-align: left;\">2021-10-01</td><td style = \"text-align: right;\">109.89</td></tr><tr><td class = \"rowNumber\" style = \"font-weight: bold; text-align: right;\">105</td><td style = \"text-align: left;\">2022-01-01</td><td style = \"text-align: right;\">112.3</td></tr><tr><td class = \"rowNumber\" style = \"font-weight: bold; text-align: right;\">106</td><td style = \"text-align: left;\">2022-04-01</td><td style = \"text-align: right;\">116.06</td></tr><tr><td class = \"rowNumber\" style = \"font-weight: bold; text-align: right;\">107</td><td style = \"text-align: left;\">2022-07-01</td><td style = \"text-align: right;\">118.08</td></tr><tr><td class = \"rowNumber\" style = \"font-weight: bold; text-align: right;\">108</td><td style = \"text-align: left;\">2022-10-01</td><td style = \"text-align: right;\">120.83</td></tr><tr><td class = \"rowNumber\" style = \"font-weight: bold; text-align: right;\">109</td><td style = \"text-align: left;\">2023-01-01</td><td style = \"text-align: right;\">121.28</td></tr><tr><td class = \"rowNumber\" style = \"font-weight: bold; text-align: right;\">110</td><td style = \"text-align: left;\">2023-04-01</td><td style = \"text-align: right;\">123.23</td></tr><tr><td class = \"rowNumber\" style = \"font-weight: bold; text-align: right;\">111</td><td style = \"text-align: left;\">2023-07-01</td><td style = \"text-align: right;\">123.91</td></tr><tr><td class = \"rowNumber\" style = \"font-weight: bold; text-align: right;\">112</td><td style = \"text-align: left;\">2023-10-01</td><td style = \"text-align: right;\">124.12</td></tr><tr><td class = \"rowNumber\" style = \"font-weight: bold; text-align: right;\">113</td><td style = \"text-align: left;\">2024-01-01</td><td style = \"text-align: right;\">124.41</td></tr><tr><td class = \"rowNumber\" style = \"font-weight: bold; text-align: right;\">114</td><td style = \"text-align: left;\">2024-04-01</td><td style = \"text-align: right;\">NaN</td></tr></tbody></table></div>"
      ],
      "text/latex": [
       "\\begin{tabular}{r|cc}\n",
       "\t& date & value\\\\\n",
       "\t\\hline\n",
       "\t& Date & Float64\\\\\n",
       "\t\\hline\n",
       "\t1 & 1996-01-01 & 70.71 \\\\\n",
       "\t2 & 1996-04-01 & 71.26 \\\\\n",
       "\t3 & 1996-07-01 & 71.34 \\\\\n",
       "\t4 & 1996-10-01 & 71.59 \\\\\n",
       "\t5 & 1997-01-01 & 72.09 \\\\\n",
       "\t6 & 1997-04-01 & 72.32 \\\\\n",
       "\t7 & 1997-07-01 & 72.56 \\\\\n",
       "\t8 & 1997-10-01 & 72.79 \\\\\n",
       "\t9 & 1998-01-01 & 72.97 \\\\\n",
       "\t10 & 1998-04-01 & 73.39 \\\\\n",
       "\t11 & 1998-07-01 & 73.48 \\\\\n",
       "\t12 & 1998-10-01 & 73.46 \\\\\n",
       "\t13 & 1999-01-01 & 73.63 \\\\\n",
       "\t14 & 1999-04-01 & 74.14 \\\\\n",
       "\t15 & 1999-07-01 & 74.35 \\\\\n",
       "\t16 & 1999-10-01 & 74.62 \\\\\n",
       "\t17 & 2000-01-01 & 75.11 \\\\\n",
       "\t18 & 2000-04-01 & 75.6 \\\\\n",
       "\t19 & 2000-07-01 & 76.02 \\\\\n",
       "\t20 & 2000-10-01 & 76.5 \\\\\n",
       "\t21 & 2001-01-01 & 76.72 \\\\\n",
       "\t22 & 2001-04-01 & 77.82 \\\\\n",
       "\t23 & 2001-07-01 & 77.87 \\\\\n",
       "\t24 & 2001-10-01 & 78.14 \\\\\n",
       "\t$\\dots$ & $\\dots$ & $\\dots$ \\\\\n",
       "\\end{tabular}\n"
      ],
      "text/plain": [
       "\u001b[1m114×2 DataFrame\u001b[0m\n",
       "\u001b[1m Row \u001b[0m│\u001b[1m date       \u001b[0m\u001b[1m value   \u001b[0m\n",
       "     │\u001b[90m Date       \u001b[0m\u001b[90m Float64 \u001b[0m\n",
       "─────┼─────────────────────\n",
       "   1 │ 1996-01-01    70.71\n",
       "   2 │ 1996-04-01    71.26\n",
       "   3 │ 1996-07-01    71.34\n",
       "   4 │ 1996-10-01    71.59\n",
       "   5 │ 1997-01-01    72.09\n",
       "   6 │ 1997-04-01    72.32\n",
       "   7 │ 1997-07-01    72.56\n",
       "   8 │ 1997-10-01    72.79\n",
       "  ⋮  │     ⋮          ⋮\n",
       " 108 │ 2022-10-01   120.83\n",
       " 109 │ 2023-01-01   121.28\n",
       " 110 │ 2023-04-01   123.23\n",
       " 111 │ 2023-07-01   123.91\n",
       " 112 │ 2023-10-01   124.12\n",
       " 113 │ 2024-01-01   124.41\n",
       " 114 │ 2024-04-01   NaN\n",
       "\u001b[36m            99 rows omitted\u001b[0m"
      ]
     },
     "metadata": {},
     "output_type": "display_data"
    }
   ],
   "source": [
    "get_data(f, string(\"CP0000EZ19M086NEST\");observation_start=\"1971-10-01\", frequency=\"q\").data[:,[:date, :value]]"
   ]
  },
  {
   "cell_type": "code",
   "execution_count": 170,
   "metadata": {},
   "outputs": [
    {
     "name": "stderr",
     "output_type": "stream",
     "text": [
      "┌ Warning: Metadata 'notes' not returned from server.\n",
      "└ @ FredData C:\\Users\\matsz\\.julia\\packages\\FredData\\5M7x4\\src\\get_data.jl:77\n",
      "┌ Warning: Metadata 'notes' not returned from server.\n",
      "└ @ FredData C:\\Users\\matsz\\.julia\\packages\\FredData\\5M7x4\\src\\get_data.jl:77\n"
     ]
    },
    {
     "data": {
      "text/plain": [
       "211×13 TimeArray{Float64, 2, Date, Matrix{Float64}} 1971-10-01 to 2024-04-01\n",
       "┌────────────┬──────────────┬───────────────┬─────────────────┬─────────────────\n",
       "│\u001b[1m            \u001b[0m│\u001b[1m empty        \u001b[0m│\u001b[1m NGDPRSAXDCPLQ \u001b[0m│\u001b[1m POLCPIALLQINMEI \u001b[0m│\u001b[1m IRLTLT01PLM156\u001b[0m ⋯\n",
       "├────────────┼──────────────┼───────────────┼─────────────────┼─────────────────\n",
       "│ 1971-10-01 │    6.47e-322 │           NaN │             NaN │             Na ⋯\n",
       "│ 1972-01-01 │   1.764e-321 │           NaN │             NaN │             Na ⋯\n",
       "│ 1972-04-01 │     4.1e-322 │           NaN │             NaN │             Na ⋯\n",
       "│ 1972-07-01 │ 1.08086e-311 │           NaN │             NaN │             Na ⋯\n",
       "│ 1972-10-01 │    5.63e-322 │           NaN │             NaN │             Na ⋯\n",
       "│ 1973-01-01 │    1.78e-321 │           NaN │             NaN │             Na ⋯\n",
       "│ 1973-04-01 │   3.083e-321 │           NaN │             NaN │             Na ⋯\n",
       "│ 1973-07-01 │     1.5e-322 │           NaN │             NaN │             Na ⋯\n",
       "│     ⋮      │      ⋮       │       ⋮       │        ⋮        │        ⋮       ⋱\n",
       "│ 2022-10-01 │   3.607e-321 │     5.48545e5 │         138.679 │         7.2233 ⋯\n",
       "│ 2023-01-01 │    3.61e-321 │     5.52848e5 │         144.295 │         6.1133 ⋯\n",
       "│ 2023-04-01 │          0.0 │      5.5169e5 │         147.008 │            5.9 ⋯\n",
       "│ 2023-07-01 │          0.0 │     5.57901e5 │         146.493 │            5.6 ⋯\n",
       "│ 2023-10-01 │          0.0 │      5.5765e5 │          147.28 │            5.5 ⋯\n",
       "│ 2024-01-01 │          0.0 │      5.6026e5 │         148.691 │         5.3333 ⋯\n",
       "│ 2024-04-01 │          0.0 │           NaN │             NaN │             Na ⋯\n",
       "└────────────┴──────────────┴───────────────┴─────────────────┴─────────────────\n",
       "\u001b[36m                                                 10 columns and 196 rows omitted\u001b[0m"
      ]
     },
     "metadata": {},
     "output_type": "display_data"
    }
   ],
   "source": [
    "macro_data = TimeArray((date = Date(1971,10,1):Quarter(1):Date(2024,6,1), empty = Array{Float64}(undef,211)); timestamp = :date)\n",
    "factors = [:NGDPRSAXDCPLQ, :POLCPIALLQINMEI, :IRLTLT01PLM156N, :IR3TIB01PLQ156N, :NGDPRSAXDCUSQ, :USACPIALLMINMEI, :IRLTLT01USQ156N, :IR3TIB01USQ156N, :CLVMEURSCAB1GQEA19, :CP0000EZ19M086NEST, :IRLTLT01EZM156N, :IR3TIB01EZQ156N]\n",
    "for factor in factors\n",
    "    temp = get_data(f, string(factor);observation_start=\"1971-10-01\", frequency=\"q\").data[:,[:date, :value]]\n",
    "    temp = TimeArray(temp, timestamp = :date)\n",
    "    TimeSeries.rename!(temp,[factor])\n",
    "    macro_data = merge(macro_data, temp; method = :left)\n",
    "end\n",
    "macro_data\n"
   ]
  },
  {
   "cell_type": "code",
   "execution_count": 171,
   "metadata": {},
   "outputs": [
    {
     "data": {
      "text/plain": [
       "\"macro_data.csv\""
      ]
     },
     "metadata": {},
     "output_type": "display_data"
    }
   ],
   "source": [
    "using CSV\n",
    "CSV.write(\"macro_data.csv\", macro_data[:,[:NGDPRSAXDCPLQ, :POLCPIALLQINMEI, :IRLTLT01PLM156N, :IR3TIB01PLQ156N, :NGDPRSAXDCUSQ, :USACPIALLMINMEI, :IRLTLT01USQ156N, :IR3TIB01USQ156N, :CLVMEURSCAB1GQEA19, :CP0000EZ19M086NEST, :IRLTLT01EZM156N, :IR3TIB01EZQ156N]])"
   ]
  }
 ],
 "metadata": {
  "kernelspec": {
   "display_name": "Julia 1.10.2",
   "language": "julia",
   "name": "julia-1.10"
  },
  "language_info": {
   "file_extension": ".jl",
   "mimetype": "application/julia",
   "name": "julia",
   "version": "1.10.2"
  }
 },
 "nbformat": 4,
 "nbformat_minor": 2
}
