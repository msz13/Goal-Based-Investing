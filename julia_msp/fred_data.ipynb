{
 "cells": [
  {
   "cell_type": "code",
   "execution_count": 1,
   "metadata": {},
   "outputs": [
    {
     "data": {
      "text/plain": [
       "print_percentiles (generic function with 1 method)"
      ]
     },
     "metadata": {},
     "output_type": "display_data"
    }
   ],
   "source": [
    "using XLSX, DataFrames, TimeSeries\n",
    "using StatsBase\n",
    "using Plots, StatsPlots\n",
    "using LinearAlgebra\n",
    "using GLM\n",
    "using FredData\n",
    "include(\"utils.jl\")"
   ]
  },
  {
   "cell_type": "code",
   "execution_count": 2,
   "metadata": {},
   "outputs": [
    {
     "data": {
      "text/plain": [
       "FRED API Connection\n",
       "\turl: https://api.stlouisfed.org/fred/\n",
       "\tkey: b258d550a51a3c02c25400cc4267b3a8\n"
      ]
     },
     "metadata": {},
     "output_type": "display_data"
    }
   ],
   "source": [
    "f = Fred(\"b258d550a51a3c02c25400cc4267b3a8\")"
   ]
  },
  {
   "cell_type": "code",
   "execution_count": 149,
   "metadata": {},
   "outputs": [
    {
     "name": "stderr",
     "output_type": "stream",
     "text": [
      "┌ Warning: Metadata 'notes' not returned from server.\n",
      "└ @ FredData C:\\Users\\matsz\\.julia\\packages\\FredData\\5M7x4\\src\\get_data.jl:77\n",
      "┌ Warning: Metadata 'notes' not returned from server.\n",
      "└ @ FredData C:\\Users\\matsz\\.julia\\packages\\FredData\\5M7x4\\src\\get_data.jl:77\n"
     ]
    },
    {
     "data": {
      "text/plain": [
       "107×13 TimeArray{Float64, 2, Date, Matrix{Float64}} 1997-10-01 to 2024-04-01\n",
       "┌────────────┬──────────────┬───────┬─────────┬─────────┬─────────┬─────────┬───\n",
       "│\u001b[1m            \u001b[0m│\u001b[1m empty        \u001b[0m│\u001b[1m value \u001b[0m│\u001b[1m value_1 \u001b[0m│\u001b[1m value_2 \u001b[0m│\u001b[1m value_3 \u001b[0m│\u001b[1m value_4 \u001b[0m│\u001b[1m \u001b[0m ⋯\n",
       "├────────────┼──────────────┼───────┼─────────┼─────────┼─────────┼─────────┼───\n",
       "│ 1997-10-01 │     1.0e-323 │ 24.15 │   24.15 │   24.15 │   24.15 │   24.15 │  ⋯\n",
       "│ 1998-01-01 │     5.0e-324 │ 24.98 │   24.98 │   24.98 │   24.98 │   24.98 │  ⋯\n",
       "│ 1998-04-01 │     3.8e-321 │ 22.74 │   22.74 │   22.74 │   22.74 │   22.74 │  ⋯\n",
       "│ 1998-07-01 │     2.0e-323 │ 18.87 │   18.87 │   18.87 │   18.87 │   18.87 │  ⋯\n",
       "│ 1998-10-01 │     1.0e-323 │ 15.78 │   15.78 │   15.78 │   15.78 │   15.78 │  ⋯\n",
       "│ 1999-01-01 │  1.0803e-311 │  12.6 │    12.6 │    12.6 │    12.6 │    12.6 │  ⋯\n",
       "│ 1999-04-01 │     1.5e-323 │ 12.95 │   12.95 │   12.95 │   12.95 │   12.95 │  ⋯\n",
       "│ 1999-07-01 │     1.0e-323 │ 13.46 │   13.46 │   13.46 │   13.46 │   13.46 │  ⋯\n",
       "│     ⋮      │      ⋮       │   ⋮   │    ⋮    │    ⋮    │    ⋮    │    ⋮    │  ⋱\n",
       "│ 2022-10-01 │    1.14e-322 │  7.51 │    7.51 │    7.51 │    7.51 │    7.51 │  ⋯\n",
       "│ 2023-01-01 │ 1.08054e-311 │  6.95 │    6.95 │    6.95 │    6.95 │    6.95 │  ⋯\n",
       "│ 2023-04-01 │     1.3e-322 │   6.9 │     6.9 │     6.9 │     6.9 │     6.9 │  ⋯\n",
       "│ 2023-07-01 │     1.2e-322 │  6.76 │    6.76 │    6.76 │    6.76 │    6.76 │  ⋯\n",
       "│ 2023-10-01 │          0.0 │  5.68 │    5.68 │    5.68 │    5.68 │    5.68 │  ⋯\n",
       "│ 2024-01-01 │    1.24e-322 │  5.87 │    5.87 │    5.87 │    5.87 │    5.87 │  ⋯\n",
       "│ 2024-04-01 │     1.2e-322 │  5.86 │    5.86 │    5.86 │    5.86 │    5.86 │  ⋯\n",
       "└────────────┴──────────────┴───────┴─────────┴─────────┴─────────┴─────────┴───\n",
       "\u001b[36m                                                   7 columns and 92 rows omitted\u001b[0m"
      ]
     },
     "metadata": {},
     "output_type": "display_data"
    }
   ],
   "source": [
    "macro_data = TimeArray((date = Date(1997,10,1):Quarter(1):Date(2024,6,1), empty = Array{Float64}(undef,107)); timestamp = :date)\n",
    "factors = [:NGDPRSAXDCPLQ, :POLCPIALLQINMEI, :IRLTLT01PLM156N, :IR3TIB01PLQ156N, :NGDPRSAXDCUSQ, :USACPIALLMINMEI, :IRLTLT01USQ156N, :IR3TIB01USQ156N, :CLVMEURSCAB1GQEA19, :EA19CPALTT01IXOBQ, :IRLTLT01EZM156N, :IR3TIB01EZQ156N]\n",
    "for factor in factors\n",
    "    temp = get_data(f, string(factor);observation_start=\"1997-10-01\").data[:,[:date, :value]]\n",
    "    temp = TimeArray(temp, timestamp = :date)\n",
    "    macro_data = merge(macro_data, data; method = :left)\n",
    "end\n",
    "macro_data\n"
   ]
  },
  {
   "cell_type": "code",
   "execution_count": 150,
   "metadata": {},
   "outputs": [
    {
     "data": {
      "text/plain": [
       "107×12 TimeArray{Float64, 2, Date, Matrix{Float64}} 1997-10-01 to 2024-04-01\n",
       "┌────────────┬───────────────┬─────────────────┬─────────────────┬──────────────\n",
       "│\u001b[1m            \u001b[0m│\u001b[1m NGDPRSAXDCPLQ \u001b[0m│\u001b[1m POLCPIALLQINMEI \u001b[0m│\u001b[1m IRLTLT01PLM156N \u001b[0m│\u001b[1m IR3TIB01PLQ\u001b[0m ⋯\n",
       "├────────────┼───────────────┼─────────────────┼─────────────────┼──────────────\n",
       "│ 1997-10-01 │         24.15 │           24.15 │           24.15 │           2 ⋯\n",
       "│ 1998-01-01 │         24.98 │           24.98 │           24.98 │           2 ⋯\n",
       "│ 1998-04-01 │         22.74 │           22.74 │           22.74 │           2 ⋯\n",
       "│ 1998-07-01 │         18.87 │           18.87 │           18.87 │           1 ⋯\n",
       "│ 1998-10-01 │         15.78 │           15.78 │           15.78 │           1 ⋯\n",
       "│ 1999-01-01 │          12.6 │            12.6 │            12.6 │             ⋯\n",
       "│ 1999-04-01 │         12.95 │           12.95 │           12.95 │           1 ⋯\n",
       "│ 1999-07-01 │         13.46 │           13.46 │           13.46 │           1 ⋯\n",
       "│     ⋮      │       ⋮       │        ⋮        │        ⋮        │        ⋮    ⋱\n",
       "│ 2022-10-01 │          7.51 │            7.51 │            7.51 │             ⋯\n",
       "│ 2023-01-01 │          6.95 │            6.95 │            6.95 │             ⋯\n",
       "│ 2023-04-01 │           6.9 │             6.9 │             6.9 │             ⋯\n",
       "│ 2023-07-01 │          6.76 │            6.76 │            6.76 │             ⋯\n",
       "│ 2023-10-01 │          5.68 │            5.68 │            5.68 │             ⋯\n",
       "│ 2024-01-01 │          5.87 │            5.87 │            5.87 │             ⋯\n",
       "│ 2024-04-01 │          5.86 │            5.86 │            5.86 │             ⋯\n",
       "└────────────┴───────────────┴─────────────────┴─────────────────┴──────────────\n",
       "\u001b[36m                                                   9 columns and 92 rows omitted\u001b[0m"
      ]
     },
     "metadata": {},
     "output_type": "display_data"
    }
   ],
   "source": [
    "result = TimeSeries.rename!(macro_data,[:empty, :NGDPRSAXDCPLQ, :POLCPIALLQINMEI, :IRLTLT01PLM156N, :IR3TIB01PLQ156N, :NGDPRSAXDCUSQ, :USACPIALLMINMEI, :IRLTLT01USQ156N, :IR3TIB01USQ156N, :CLVMEURSCAB1GQEA19, :EA19CPALTT01IXOBQ, :IRLTLT01EZM156N, :IR3TIB01EZQ156N])[:,[:NGDPRSAXDCPLQ, :POLCPIALLQINMEI, :IRLTLT01PLM156N, :IR3TIB01PLQ156N, :NGDPRSAXDCUSQ, :USACPIALLMINMEI, :IRLTLT01USQ156N, :IR3TIB01USQ156N, :CLVMEURSCAB1GQEA19, :EA19CPALTT01IXOBQ, :IRLTLT01EZM156N, :IR3TIB01EZQ156N]]"
   ]
  },
  {
   "cell_type": "code",
   "execution_count": 151,
   "metadata": {},
   "outputs": [
    {
     "data": {
      "text/plain": [
       "\"macro_data.csv\""
      ]
     },
     "metadata": {},
     "output_type": "display_data"
    }
   ],
   "source": [
    "using CSV\n",
    "CSV.write(\"macro_data.csv\", result)"
   ]
  }
 ],
 "metadata": {
  "kernelspec": {
   "display_name": "Julia 1.10.2",
   "language": "julia",
   "name": "julia-1.10"
  },
  "language_info": {
   "file_extension": ".jl",
   "mimetype": "application/julia",
   "name": "julia",
   "version": "1.10.2"
  }
 },
 "nbformat": 4,
 "nbformat_minor": 2
}
