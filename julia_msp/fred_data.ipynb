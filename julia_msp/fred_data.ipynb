{
 "cells": [
  {
   "cell_type": "code",
   "execution_count": 1,
   "metadata": {},
   "outputs": [
    {
     "data": {
      "text/plain": [
       "print_percentiles (generic function with 1 method)"
      ]
     },
     "metadata": {},
     "output_type": "display_data"
    }
   ],
   "source": [
    "using XLSX, DataFrames, TimeSeries\n",
    "using StatsBase\n",
    "using Plots, StatsPlots\n",
    "using LinearAlgebra\n",
    "using GLM\n",
    "using FredData\n",
    "include(\"utils.jl\")"
   ]
  },
  {
   "cell_type": "code",
   "execution_count": 2,
   "metadata": {},
   "outputs": [
    {
     "data": {
      "text/plain": [
       "FRED API Connection\n",
       "\turl: https://api.stlouisfed.org/fred/\n",
       "\tkey: b258d550a51a3c02c25400cc4267b3a8\n"
      ]
     },
     "metadata": {},
     "output_type": "display_data"
    }
   ],
   "source": [
    "f = Fred(\"b258d550a51a3c02c25400cc4267b3a8\")"
   ]
  },
  {
   "cell_type": "code",
   "execution_count": 67,
   "metadata": {},
   "outputs": [
    {
     "ename": "ArgumentError",
     "evalue": "ArgumentError: New columns must have the same length as old columns",
     "output_type": "error",
     "traceback": [
      "ArgumentError: New columns must have the same length as old columns\n",
      "\n",
      "Stacktrace:\n",
      " [1] insert_single_column!(df::DataFrame, v::Vector{Float64}, col_ind::String)\n",
      "   @ DataFrames C:\\Users\\matsz\\.julia\\packages\\DataFrames\\58MUJ\\src\\dataframe\\dataframe.jl:643\n",
      " [2] setindex!(df::DataFrame, v::Vector{Float64}, ::typeof(!), col_ind::String)\n",
      "   @ DataFrames C:\\Users\\matsz\\.julia\\packages\\DataFrames\\58MUJ\\src\\dataframe\\dataframe.jl:675\n",
      " [3] top-level scope\n",
      "   @ c:\\Users\\matsz\\programowanie\\Optymalizacja_portfela\\julia_msp\\fred_data.ipynb:6"
     ]
    }
   ],
   "source": [
    "macro_data = DataFrame([])\n",
    "factors = [\"CLVMNACSCAB1GQPL\", \"POLCPIALLQINMEI\", \"IRLTLT01PLM156N\", \"IR3TIB01PLM156N\"]\n",
    "\n",
    "for factor in factors\n",
    "    temp = get_data(f, factor;observation_start=\"1997-12-01\").data[:,[:value]]\n",
    "    macro_data[!,factor] = temp[!,:value]\n",
    "end\n",
    "\n",
    "macro_data\n"
   ]
  },
  {
   "cell_type": "code",
   "execution_count": 49,
   "metadata": {},
   "outputs": [
    {
     "data": {
      "text/html": [
       "<div><div style = \"float: left;\"><span>106×1 DataFrame</span></div><div style = \"float: right;\"><span style = \"font-style: italic;\">81 rows omitted</span></div><div style = \"clear: both;\"></div></div><div class = \"data-frame\" style = \"overflow-x: scroll;\"><table class = \"data-frame\" style = \"margin-bottom: 6px;\"><thead><tr class = \"header\"><th class = \"rowNumber\" style = \"font-weight: bold; text-align: right;\">Row</th><th style = \"text-align: left;\">value</th></tr><tr class = \"subheader headerLastRow\"><th class = \"rowNumber\" style = \"font-weight: bold; text-align: right;\"></th><th title = \"Float64\" style = \"text-align: left;\">Float64</th></tr></thead><tbody><tr><td class = \"rowNumber\" style = \"font-weight: bold; text-align: right;\">1</td><td style = \"text-align: right;\">55.5388</td></tr><tr><td class = \"rowNumber\" style = \"font-weight: bold; text-align: right;\">2</td><td style = \"text-align: right;\">58.6568</td></tr><tr><td class = \"rowNumber\" style = \"font-weight: bold; text-align: right;\">3</td><td style = \"text-align: right;\">59.8525</td></tr><tr><td class = \"rowNumber\" style = \"font-weight: bold; text-align: right;\">4</td><td style = \"text-align: right;\">59.7821</td></tr><tr><td class = \"rowNumber\" style = \"font-weight: bold; text-align: right;\">5</td><td style = \"text-align: right;\">60.6027</td></tr><tr><td class = \"rowNumber\" style = \"font-weight: bold; text-align: right;\">6</td><td style = \"text-align: right;\">62.1968</td></tr><tr><td class = \"rowNumber\" style = \"font-weight: bold; text-align: right;\">7</td><td style = \"text-align: right;\">63.5566</td></tr><tr><td class = \"rowNumber\" style = \"font-weight: bold; text-align: right;\">8</td><td style = \"text-align: right;\">64.1193</td></tr><tr><td class = \"rowNumber\" style = \"font-weight: bold; text-align: right;\">9</td><td style = \"text-align: right;\">66.112</td></tr><tr><td class = \"rowNumber\" style = \"font-weight: bold; text-align: right;\">10</td><td style = \"text-align: right;\">68.4564</td></tr><tr><td class = \"rowNumber\" style = \"font-weight: bold; text-align: right;\">11</td><td style = \"text-align: right;\">69.8396</td></tr><tr><td class = \"rowNumber\" style = \"font-weight: bold; text-align: right;\">12</td><td style = \"text-align: right;\">70.918</td></tr><tr><td class = \"rowNumber\" style = \"font-weight: bold; text-align: right;\">13</td><td style = \"text-align: right;\">72.1137</td></tr><tr><td style = \"text-align: right;\">&vellip;</td><td style = \"text-align: right;\">&vellip;</td></tr><tr><td class = \"rowNumber\" style = \"font-weight: bold; text-align: right;\">95</td><td style = \"text-align: right;\">113.797</td></tr><tr><td class = \"rowNumber\" style = \"font-weight: bold; text-align: right;\">96</td><td style = \"text-align: right;\">114.937</td></tr><tr><td class = \"rowNumber\" style = \"font-weight: bold; text-align: right;\">97</td><td style = \"text-align: right;\">118.003</td></tr><tr><td class = \"rowNumber\" style = \"font-weight: bold; text-align: right;\">98</td><td style = \"text-align: right;\">122.48</td></tr><tr><td class = \"rowNumber\" style = \"font-weight: bold; text-align: right;\">99</td><td style = \"text-align: right;\">129.67</td></tr><tr><td class = \"rowNumber\" style = \"font-weight: bold; text-align: right;\">100</td><td style = \"text-align: right;\">133.768</td></tr><tr><td class = \"rowNumber\" style = \"font-weight: bold; text-align: right;\">101</td><td style = \"text-align: right;\">138.679</td></tr><tr><td class = \"rowNumber\" style = \"font-weight: bold; text-align: right;\">102</td><td style = \"text-align: right;\">144.295</td></tr><tr><td class = \"rowNumber\" style = \"font-weight: bold; text-align: right;\">103</td><td style = \"text-align: right;\">147.008</td></tr><tr><td class = \"rowNumber\" style = \"font-weight: bold; text-align: right;\">104</td><td style = \"text-align: right;\">146.493</td></tr><tr><td class = \"rowNumber\" style = \"font-weight: bold; text-align: right;\">105</td><td style = \"text-align: right;\">147.28</td></tr><tr><td class = \"rowNumber\" style = \"font-weight: bold; text-align: right;\">106</td><td style = \"text-align: right;\">148.691</td></tr></tbody></table></div>"
      ],
      "text/latex": [
       "\\begin{tabular}{r|c}\n",
       "\t& value\\\\\n",
       "\t\\hline\n",
       "\t& Float64\\\\\n",
       "\t\\hline\n",
       "\t1 & 55.5388 \\\\\n",
       "\t2 & 58.6568 \\\\\n",
       "\t3 & 59.8525 \\\\\n",
       "\t4 & 59.7821 \\\\\n",
       "\t5 & 60.6027 \\\\\n",
       "\t6 & 62.1968 \\\\\n",
       "\t7 & 63.5566 \\\\\n",
       "\t8 & 64.1193 \\\\\n",
       "\t9 & 66.112 \\\\\n",
       "\t10 & 68.4564 \\\\\n",
       "\t11 & 69.8396 \\\\\n",
       "\t12 & 70.918 \\\\\n",
       "\t13 & 72.1137 \\\\\n",
       "\t14 & 73.028 \\\\\n",
       "\t15 & 74.3877 \\\\\n",
       "\t16 & 74.3408 \\\\\n",
       "\t17 & 74.7863 \\\\\n",
       "\t18 & 75.6303 \\\\\n",
       "\t19 & 75.9116 \\\\\n",
       "\t20 & 75.2083 \\\\\n",
       "\t21 & 75.4427 \\\\\n",
       "\t22 & 75.8647 \\\\\n",
       "\t23 & 76.146 \\\\\n",
       "\t24 & 75.7475 \\\\\n",
       "\t$\\dots$ & $\\dots$ \\\\\n",
       "\\end{tabular}\n"
      ],
      "text/plain": [
       "\u001b[1m106×1 DataFrame\u001b[0m\n",
       "\u001b[1m Row \u001b[0m│\u001b[1m value    \u001b[0m\n",
       "     │\u001b[90m Float64  \u001b[0m\n",
       "─────┼──────────\n",
       "   1 │  55.5388\n",
       "   2 │  58.6568\n",
       "   3 │  59.8525\n",
       "   4 │  59.7821\n",
       "   5 │  60.6027\n",
       "   6 │  62.1968\n",
       "   7 │  63.5566\n",
       "   8 │  64.1193\n",
       "  ⋮  │    ⋮\n",
       " 100 │ 133.768\n",
       " 101 │ 138.679\n",
       " 102 │ 144.295\n",
       " 103 │ 147.008\n",
       " 104 │ 146.493\n",
       " 105 │ 147.28\n",
       " 106 │ 148.691\n",
       "\u001b[36m 91 rows omitted\u001b[0m"
      ]
     },
     "metadata": {},
     "output_type": "display_data"
    }
   ],
   "source": [
    "cpi = get_data(f, \"POLCPIALLQINMEI\";observation_start=\"1997-12-01\").data[:,[:value]]"
   ]
  },
  {
   "cell_type": "code",
   "execution_count": 58,
   "metadata": {},
   "outputs": [
    {
     "data": {
      "text/html": [
       "<div><div style = \"float: left;\"><span>0×0 DataFrame</span></div><div style = \"clear: both;\"></div></div><div class = \"data-frame\" style = \"overflow-x: scroll;\"><table class = \"data-frame\" style = \"margin-bottom: 6px;\"></table></div>"
      ],
      "text/latex": [
       "\\begin{tabular}{r|}\n",
       "\t& \\\\\n",
       "\t\\hline\n",
       "\t& \\\\\n",
       "\t\\hline\n",
       "\\end{tabular}\n"
      ],
      "text/plain": [
       "\u001b[1m0×0 DataFrame\u001b[0m"
      ]
     },
     "metadata": {},
     "output_type": "display_data"
    }
   ],
   "source": [
    "macro_data = DataFrame([])\n",
    "macro_data"
   ]
  },
  {
   "cell_type": "code",
   "execution_count": 65,
   "metadata": {},
   "outputs": [
    {
     "data": {
      "text/plain": [
       "106-element Vector{Float64}:\n",
       "  55.538759999999996\n",
       "  58.65681\n",
       "  59.85246\n",
       "  59.78211999999999\n",
       "  60.60266\n",
       "  62.19685\n",
       "  63.55661\n",
       "  64.11926\n",
       "  66.112\n",
       "  68.4564\n",
       "   ⋮\n",
       " 122.48\n",
       " 129.6703\n",
       " 133.7675\n",
       " 138.6786\n",
       " 144.2952\n",
       " 147.0085\n",
       " 146.493\n",
       " 147.2799\n",
       " 148.6908"
      ]
     },
     "metadata": {},
     "output_type": "display_data"
    }
   ],
   "source": [
    "macro_data[!,:cpit] = cpi[!,:value]"
   ]
  },
  {
   "cell_type": "code",
   "execution_count": 64,
   "metadata": {},
   "outputs": [
    {
     "data": {
      "text/html": [
       "<div><div style = \"float: left;\"><span>106×1 DataFrame</span></div><div style = \"float: right;\"><span style = \"font-style: italic;\">81 rows omitted</span></div><div style = \"clear: both;\"></div></div><div class = \"data-frame\" style = \"overflow-x: scroll;\"><table class = \"data-frame\" style = \"margin-bottom: 6px;\"><thead><tr class = \"header\"><th class = \"rowNumber\" style = \"font-weight: bold; text-align: right;\">Row</th><th style = \"text-align: left;\">cpit</th></tr><tr class = \"subheader headerLastRow\"><th class = \"rowNumber\" style = \"font-weight: bold; text-align: right;\"></th><th title = \"Float64\" style = \"text-align: left;\">Float64</th></tr></thead><tbody><tr><td class = \"rowNumber\" style = \"font-weight: bold; text-align: right;\">1</td><td style = \"text-align: right;\">55.5388</td></tr><tr><td class = \"rowNumber\" style = \"font-weight: bold; text-align: right;\">2</td><td style = \"text-align: right;\">58.6568</td></tr><tr><td class = \"rowNumber\" style = \"font-weight: bold; text-align: right;\">3</td><td style = \"text-align: right;\">59.8525</td></tr><tr><td class = \"rowNumber\" style = \"font-weight: bold; text-align: right;\">4</td><td style = \"text-align: right;\">59.7821</td></tr><tr><td class = \"rowNumber\" style = \"font-weight: bold; text-align: right;\">5</td><td style = \"text-align: right;\">60.6027</td></tr><tr><td class = \"rowNumber\" style = \"font-weight: bold; text-align: right;\">6</td><td style = \"text-align: right;\">62.1968</td></tr><tr><td class = \"rowNumber\" style = \"font-weight: bold; text-align: right;\">7</td><td style = \"text-align: right;\">63.5566</td></tr><tr><td class = \"rowNumber\" style = \"font-weight: bold; text-align: right;\">8</td><td style = \"text-align: right;\">64.1193</td></tr><tr><td class = \"rowNumber\" style = \"font-weight: bold; text-align: right;\">9</td><td style = \"text-align: right;\">66.112</td></tr><tr><td class = \"rowNumber\" style = \"font-weight: bold; text-align: right;\">10</td><td style = \"text-align: right;\">68.4564</td></tr><tr><td class = \"rowNumber\" style = \"font-weight: bold; text-align: right;\">11</td><td style = \"text-align: right;\">69.8396</td></tr><tr><td class = \"rowNumber\" style = \"font-weight: bold; text-align: right;\">12</td><td style = \"text-align: right;\">70.918</td></tr><tr><td class = \"rowNumber\" style = \"font-weight: bold; text-align: right;\">13</td><td style = \"text-align: right;\">72.1137</td></tr><tr><td style = \"text-align: right;\">&vellip;</td><td style = \"text-align: right;\">&vellip;</td></tr><tr><td class = \"rowNumber\" style = \"font-weight: bold; text-align: right;\">95</td><td style = \"text-align: right;\">113.797</td></tr><tr><td class = \"rowNumber\" style = \"font-weight: bold; text-align: right;\">96</td><td style = \"text-align: right;\">114.937</td></tr><tr><td class = \"rowNumber\" style = \"font-weight: bold; text-align: right;\">97</td><td style = \"text-align: right;\">118.003</td></tr><tr><td class = \"rowNumber\" style = \"font-weight: bold; text-align: right;\">98</td><td style = \"text-align: right;\">122.48</td></tr><tr><td class = \"rowNumber\" style = \"font-weight: bold; text-align: right;\">99</td><td style = \"text-align: right;\">129.67</td></tr><tr><td class = \"rowNumber\" style = \"font-weight: bold; text-align: right;\">100</td><td style = \"text-align: right;\">133.768</td></tr><tr><td class = \"rowNumber\" style = \"font-weight: bold; text-align: right;\">101</td><td style = \"text-align: right;\">138.679</td></tr><tr><td class = \"rowNumber\" style = \"font-weight: bold; text-align: right;\">102</td><td style = \"text-align: right;\">144.295</td></tr><tr><td class = \"rowNumber\" style = \"font-weight: bold; text-align: right;\">103</td><td style = \"text-align: right;\">147.008</td></tr><tr><td class = \"rowNumber\" style = \"font-weight: bold; text-align: right;\">104</td><td style = \"text-align: right;\">146.493</td></tr><tr><td class = \"rowNumber\" style = \"font-weight: bold; text-align: right;\">105</td><td style = \"text-align: right;\">147.28</td></tr><tr><td class = \"rowNumber\" style = \"font-weight: bold; text-align: right;\">106</td><td style = \"text-align: right;\">148.691</td></tr></tbody></table></div>"
      ],
      "text/latex": [
       "\\begin{tabular}{r|c}\n",
       "\t& cpit\\\\\n",
       "\t\\hline\n",
       "\t& Float64\\\\\n",
       "\t\\hline\n",
       "\t1 & 55.5388 \\\\\n",
       "\t2 & 58.6568 \\\\\n",
       "\t3 & 59.8525 \\\\\n",
       "\t4 & 59.7821 \\\\\n",
       "\t5 & 60.6027 \\\\\n",
       "\t6 & 62.1968 \\\\\n",
       "\t7 & 63.5566 \\\\\n",
       "\t8 & 64.1193 \\\\\n",
       "\t9 & 66.112 \\\\\n",
       "\t10 & 68.4564 \\\\\n",
       "\t11 & 69.8396 \\\\\n",
       "\t12 & 70.918 \\\\\n",
       "\t13 & 72.1137 \\\\\n",
       "\t14 & 73.028 \\\\\n",
       "\t15 & 74.3877 \\\\\n",
       "\t16 & 74.3408 \\\\\n",
       "\t17 & 74.7863 \\\\\n",
       "\t18 & 75.6303 \\\\\n",
       "\t19 & 75.9116 \\\\\n",
       "\t20 & 75.2083 \\\\\n",
       "\t21 & 75.4427 \\\\\n",
       "\t22 & 75.8647 \\\\\n",
       "\t23 & 76.146 \\\\\n",
       "\t24 & 75.7475 \\\\\n",
       "\t$\\dots$ & $\\dots$ \\\\\n",
       "\\end{tabular}\n"
      ],
      "text/plain": [
       "\u001b[1m106×1 DataFrame\u001b[0m\n",
       "\u001b[1m Row \u001b[0m│\u001b[1m cpit     \u001b[0m\n",
       "     │\u001b[90m Float64  \u001b[0m\n",
       "─────┼──────────\n",
       "   1 │  55.5388\n",
       "   2 │  58.6568\n",
       "   3 │  59.8525\n",
       "   4 │  59.7821\n",
       "   5 │  60.6027\n",
       "   6 │  62.1968\n",
       "   7 │  63.5566\n",
       "   8 │  64.1193\n",
       "  ⋮  │    ⋮\n",
       " 100 │ 133.768\n",
       " 101 │ 138.679\n",
       " 102 │ 144.295\n",
       " 103 │ 147.008\n",
       " 104 │ 146.493\n",
       " 105 │ 147.28\n",
       " 106 │ 148.691\n",
       "\u001b[36m 91 rows omitted\u001b[0m"
      ]
     },
     "metadata": {},
     "output_type": "display_data"
    }
   ],
   "source": [
    "macro_data"
   ]
  }
 ],
 "metadata": {
  "kernelspec": {
   "display_name": "Julia 1.10.2",
   "language": "julia",
   "name": "julia-1.10"
  },
  "language_info": {
   "file_extension": ".jl",
   "mimetype": "application/julia",
   "name": "julia",
   "version": "1.10.2"
  }
 },
 "nbformat": 4,
 "nbformat_minor": 2
}
