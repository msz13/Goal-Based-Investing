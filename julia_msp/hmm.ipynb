{
 "cells": [
  {
   "cell_type": "code",
   "execution_count": 15,
   "metadata": {},
   "outputs": [
    {
     "name": "stderr",
     "output_type": "stream",
     "text": [
      "\u001b[32m\u001b[1m   Resolving\u001b[22m\u001b[39m package versions...\n",
      "\u001b[32m\u001b[1m  No Changes\u001b[22m\u001b[39m to `C:\\Users\\matsz\\.julia\\environments\\v1.10\\Project.toml`\n",
      "\u001b[32m\u001b[1m  No Changes\u001b[22m\u001b[39m to `C:\\Users\\matsz\\.julia\\environments\\v1.10\\Manifest.toml`\n",
      "\u001b[32m\u001b[1m   Resolving\u001b[22m\u001b[39m package versions...\n",
      "\u001b[32m\u001b[1m  No Changes\u001b[22m\u001b[39m to `C:\\Users\\matsz\\.julia\\environments\\v1.10\\Project.toml`\n",
      "\u001b[32m\u001b[1m  No Changes\u001b[22m\u001b[39m to `C:\\Users\\matsz\\.julia\\environments\\v1.10\\Manifest.toml`\n",
      "\u001b[32m\u001b[1m   Resolving\u001b[22m\u001b[39m package versions...\n",
      "\u001b[32m\u001b[1m   Installed\u001b[22m\u001b[39m StableRNGs ─ v1.0.1\n",
      "\u001b[32m\u001b[1m    Updating\u001b[22m\u001b[39m `C:\\Users\\matsz\\.julia\\environments\\v1.10\\Project.toml`\n",
      "  \u001b[90m[860ef19b] \u001b[39m\u001b[92m+ StableRNGs v1.0.1\u001b[39m\n",
      "\u001b[32m\u001b[1m    Updating\u001b[22m\u001b[39m `C:\\Users\\matsz\\.julia\\environments\\v1.10\\Manifest.toml`\n",
      "  \u001b[90m[860ef19b] \u001b[39m\u001b[92m+ StableRNGs v1.0.1\u001b[39m\n",
      "\u001b[32m\u001b[1mPrecompiling\u001b[22m\u001b[39m project...\n",
      "\u001b[32m  ✓ \u001b[39mStableRNGs\n",
      "  1 dependency successfully precompiled in 3 seconds. 394 already precompiled.\n"
     ]
    }
   ],
   "source": [
    "import Pkg\n",
    "\n",
    "Pkg.add(\"HiddenMarkovModels\")\n",
    "Pkg.add(\"Distributions\")\n",
    "Pkg.add(\"StableRNGs\")\n"
   ]
  },
  {
   "cell_type": "code",
   "execution_count": 16,
   "metadata": {},
   "outputs": [],
   "source": [
    "using HiddenMarkovModels, Distributions\n",
    "using LinearAlgebra\n",
    "using StableRNGs"
   ]
  },
  {
   "cell_type": "code",
   "execution_count": 17,
   "metadata": {},
   "outputs": [],
   "source": [
    "rng = StableRNG(63);"
   ]
  },
  {
   "cell_type": "code",
   "execution_count": 18,
   "metadata": {},
   "outputs": [
    {
     "data": {
      "text/plain": [
       "Hidden Markov Model with:\n",
       " - initialization: [0.6, 0.4]\n",
       " - transition matrix: [0.7 0.3; 0.2 0.8]\n",
       " - observation distributions: [IsoNormal(\n",
       "dim: 2\n",
       "μ: [-0.5, -0.8]\n",
       "Σ: [1.0 0.0; 0.0 1.0]\n",
       ")\n",
       ", IsoNormal(\n",
       "dim: 2\n",
       "μ: [0.5, 0.8]\n",
       "Σ: [1.0 0.0; 0.0 1.0]\n",
       ")\n",
       "]"
      ]
     },
     "metadata": {},
     "output_type": "display_data"
    }
   ],
   "source": [
    "init = [0.6, 0.4]\n",
    "trans = [0.7 0.3; 0.2 0.8]\n",
    "dists = [MvNormal([-0.5, -0.8], I), MvNormal([0.5, 0.8], I)]\n",
    "hmm = HMM(init, trans, dists)"
   ]
  },
  {
   "cell_type": "code",
   "execution_count": 19,
   "metadata": {},
   "outputs": [],
   "source": [
    "\n",
    "init_guess = [0.5, 0.5]\n",
    "trans_guess = [0.6 0.4; 0.3 0.7]\n",
    "dists_guess = [MvNormal([-0.4, -0.7], I), MvNormal([0.4, 0.7], I)]\n",
    "hmm_guess = HMM(init_guess, trans_guess, dists_guess);"
   ]
  },
  {
   "cell_type": "code",
   "execution_count": 22,
   "metadata": {},
   "outputs": [
    {
     "data": {
      "text/plain": [
       "(state_seq = [1, 1, 1, 2, 1, 1, 1, 1, 1, 2  …  2, 2, 2, 2, 2, 2, 2, 1, 1, 1], obs_seq = [[-0.9519717318231875, -1.0102087593571034], [0.25930390607903675, -1.3459438609375318], [-2.4471322095519072, -1.0389249448197877], [0.1128777317927428, -0.3763664473545407], [0.0054566966495605, 0.33349441502245125], [-0.6055371255072928, -0.9377027235074087], [-0.8208596268628077, -1.45902827964301], [0.14417125211797444, -0.19127045147920596], [-0.1314378318233967, -1.247202792876466], [0.10848359617775932, 1.6927319492959723]  …  [0.6796445288658193, 0.8460945730121384], [-0.37468502793829617, -0.07541043213907905], [-1.0269083767159222, 0.6056173631866001], [0.36415310562507086, 1.1069233174659536], [-0.4196495941383094, -0.5334785935933555], [0.05444944174881672, 1.2565915704688677], [1.0080731730045807, -0.8958295615218537], [-0.16498929335700985, -1.030308491112538], [-1.196120499237034, -1.714832575035934], [-0.899630444716361, -1.0220415869196988]])"
      ]
     },
     "metadata": {},
     "output_type": "display_data"
    }
   ],
   "source": [
    "cos, long_obs_seq = rand(rng, hmm, 200)"
   ]
  },
  {
   "cell_type": "code",
   "execution_count": 35,
   "metadata": {},
   "outputs": [
    {
     "data": {
      "text/plain": [
       "(200,)"
      ]
     },
     "metadata": {},
     "output_type": "display_data"
    }
   ],
   "source": [
    "size(long_obs_seq)"
   ]
  },
  {
   "cell_type": "code",
   "execution_count": 32,
   "metadata": {},
   "outputs": [
    {
     "data": {
      "text/plain": [
       "2-element Vector{Float64}:\n",
       " -0.9519717318231875\n",
       " -1.0102087593571034"
      ]
     },
     "metadata": {},
     "output_type": "display_data"
    }
   ],
   "source": [
    "first(long_obs_seq)"
   ]
  },
  {
   "cell_type": "code",
   "execution_count": 25,
   "metadata": {},
   "outputs": [],
   "source": [
    "hmm_est, loglikelihood_evolution = baum_welch(hmm_guess, long_obs_seq);"
   ]
  },
  {
   "cell_type": "code",
   "execution_count": 37,
   "metadata": {},
   "outputs": [
    {
     "data": {
      "text/plain": [
       "2×2×2 Array{Float64, 3}:\n",
       "[:, :, 1] =\n",
       " 0.774461  0.225539\n",
       " 0.244659  0.755341\n",
       "\n",
       "[:, :, 2] =\n",
       " 0.7  0.3\n",
       " 0.2  0.8"
      ]
     },
     "metadata": {},
     "output_type": "display_data"
    }
   ],
   "source": [
    "cat(transition_matrix(hmm_est), transition_matrix(hmm); dims=3)"
   ]
  },
  {
   "cell_type": "code",
   "execution_count": 36,
   "metadata": {},
   "outputs": [
    {
     "data": {
      "text/plain": [
       "2×2 Matrix{Vector{Float64}}:\n",
       " [-0.508898, -0.844124]  [-0.5, -0.8]\n",
       " [0.444826, 0.969582]    [0.5, 0.8]"
      ]
     },
     "metadata": {},
     "output_type": "display_data"
    }
   ],
   "source": [
    "map(mean, hcat(obs_distributions(hmm_est), obs_distributions(hmm)))"
   ]
  },
  {
   "cell_type": "code",
   "execution_count": 38,
   "metadata": {},
   "outputs": [
    {
     "data": {
      "text/plain": [
       "Vector{Vector{Vector{Float64}}}\u001b[90m (alias for \u001b[39m\u001b[90mArray{Array{Array{Float64, 1}, 1}, 1}\u001b[39m\u001b[90m)\u001b[39m"
      ]
     },
     "metadata": {},
     "output_type": "display_data"
    }
   ],
   "source": [
    "nb_seqs = 100\n",
    "long_obs_seqs = [last(rand(rng, hmm, rand(rng, 100:200))) for k in 1:nb_seqs];\n",
    "typeof(long_obs_seqs)"
   ]
  },
  {
   "cell_type": "code",
   "execution_count": 46,
   "metadata": {},
   "outputs": [
    {
     "data": {
      "text/plain": [
       "(141,)"
      ]
     },
     "metadata": {},
     "output_type": "display_data"
    }
   ],
   "source": [
    "size(long_obs_seqs[1])"
   ]
  },
  {
   "cell_type": "code",
   "execution_count": 49,
   "metadata": {},
   "outputs": [
    {
     "data": {
      "text/plain": [
       "140-element Vector{Vector{Float64}}:\n",
       " [-3.1567126734317608, 0.34171428354817124]\n",
       " [0.9865398185448774, 0.4790982970111405]\n",
       " [-0.25494993969858815, 1.6512797456159363]\n",
       " [-0.01305711100509599, 1.9948552780275086]\n",
       " [0.23767512252680428, 0.3020680690956243]\n",
       " [0.0926661169606317, -0.2967408321465761]\n",
       " [0.7661011590061635, 1.209547680315247]\n",
       " [0.3713196395503653, 0.14813897918434193]\n",
       " [1.1361417800299305, 3.1006181679428586]\n",
       " [0.9408228600951382, 3.072771515411892]\n",
       " ⋮\n",
       " [0.614687730842862, 1.2701527606186904]\n",
       " [-0.6479937675597304, -0.9339845188314926]\n",
       " [-2.168517383517041, -2.3163333234826218]\n",
       " [0.006701120588462506, -0.8217032389757033]\n",
       " [-1.6893900788246798, -1.3906615926385149]\n",
       " [-2.4728240132201127, -0.6043483132491939]\n",
       " [0.12253067609037482, 0.09662730677425879]\n",
       " [-1.7423046164778768, -1.8440731935709378]\n",
       " [-1.5596586063095825, -0.15772841351864564]"
      ]
     },
     "metadata": {},
     "output_type": "display_data"
    }
   ],
   "source": [
    "long_obs_seqs[3]"
   ]
  }
 ],
 "metadata": {
  "kernelspec": {
   "display_name": "Julia 1.10.2",
   "language": "julia",
   "name": "julia-1.10"
  },
  "language_info": {
   "file_extension": ".jl",
   "mimetype": "application/julia",
   "name": "julia",
   "version": "1.10.2"
  }
 },
 "nbformat": 4,
 "nbformat_minor": 2
}
