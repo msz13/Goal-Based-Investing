{
 "cells": [
  {
   "cell_type": "code",
   "execution_count": 1,
   "metadata": {},
   "outputs": [
    {
     "name": "stderr",
     "output_type": "stream",
     "text": [
      "\u001b[32m\u001b[1m    Updating\u001b[22m\u001b[39m registry at `C:\\Users\\matsz\\.julia\\registries\\General.toml`\n",
      "\u001b[32m\u001b[1m   Resolving\u001b[22m\u001b[39m package versions...\n",
      "\u001b[32m\u001b[1m  No Changes\u001b[22m\u001b[39m to `C:\\Users\\matsz\\.julia\\environments\\v1.10\\Project.toml`\n",
      "\u001b[32m\u001b[1m  No Changes\u001b[22m\u001b[39m to `C:\\Users\\matsz\\.julia\\environments\\v1.10\\Manifest.toml`\n",
      "\u001b[32m\u001b[1m   Resolving\u001b[22m\u001b[39m package versions...\n",
      "\u001b[32m\u001b[1m  No Changes\u001b[22m\u001b[39m to `C:\\Users\\matsz\\.julia\\environments\\v1.10\\Project.toml`\n",
      "\u001b[32m\u001b[1m  No Changes\u001b[22m\u001b[39m to `C:\\Users\\matsz\\.julia\\environments\\v1.10\\Manifest.toml`\n",
      "\u001b[32m\u001b[1m   Resolving\u001b[22m\u001b[39m package versions...\n",
      "\u001b[32m\u001b[1m  No Changes\u001b[22m\u001b[39m to `C:\\Users\\matsz\\.julia\\environments\\v1.10\\Project.toml`\n",
      "\u001b[32m\u001b[1m  No Changes\u001b[22m\u001b[39m to `C:\\Users\\matsz\\.julia\\environments\\v1.10\\Manifest.toml`\n",
      "\u001b[32m\u001b[1m   Resolving\u001b[22m\u001b[39m package versions...\n",
      "\u001b[32m\u001b[1m  No Changes\u001b[22m\u001b[39m to `C:\\Users\\matsz\\.julia\\environments\\v1.10\\Project.toml`\n",
      "\u001b[32m\u001b[1m  No Changes\u001b[22m\u001b[39m to `C:\\Users\\matsz\\.julia\\environments\\v1.10\\Manifest.toml`\n"
     ]
    }
   ],
   "source": [
    "import Pkg\n",
    "\n",
    "Pkg.add(\"HiddenMarkovModels\")\n",
    "Pkg.add(\"Distributions\")\n",
    "Pkg.add(\"StableRNGs\")\n",
    "Pkg.add(\"XLSX\")\n"
   ]
  },
  {
   "cell_type": "code",
   "execution_count": 41,
   "metadata": {},
   "outputs": [],
   "source": [
    "using HiddenMarkovModels, Distributions\n",
    "using LinearAlgebra\n",
    "using StableRNGs\n",
    "using XLSX\n",
    "using DataFrames\n",
    "using Dates\n",
    "using Distributions\n",
    "using Statistics\n",
    "using CSV"
   ]
  },
  {
   "cell_type": "code",
   "execution_count": 3,
   "metadata": {},
   "outputs": [],
   "source": [
    "rng = StableRNG(63);"
   ]
  },
  {
   "cell_type": "code",
   "execution_count": 4,
   "metadata": {},
   "outputs": [
    {
     "data": {
      "text/html": [
       "<div><div style = \"float: left;\"><span>435×2 DataFrame</span></div><div style = \"float: right;\"><span style = \"font-style: italic;\">410 rows omitted</span></div><div style = \"clear: both;\"></div></div><div class = \"data-frame\" style = \"overflow-x: scroll;\"><table class = \"data-frame\" style = \"margin-bottom: 6px;\"><thead><tr class = \"header\"><th class = \"rowNumber\" style = \"font-weight: bold; text-align: right;\">Row</th><th style = \"text-align: left;\">Date</th><th style = \"text-align: left;\">ACWI</th></tr><tr class = \"subheader headerLastRow\"><th class = \"rowNumber\" style = \"font-weight: bold; text-align: right;\"></th><th title = \"Date\" style = \"text-align: left;\">Date</th><th title = \"Float64\" style = \"text-align: left;\">Float64</th></tr></thead><tbody><tr><td class = \"rowNumber\" style = \"font-weight: bold; text-align: right;\">1</td><td style = \"text-align: left;\">1988-01-29</td><td style = \"text-align: right;\">0.0249309</td></tr><tr><td class = \"rowNumber\" style = \"font-weight: bold; text-align: right;\">2</td><td style = \"text-align: left;\">1988-02-29</td><td style = \"text-align: right;\">0.0576797</td></tr><tr><td class = \"rowNumber\" style = \"font-weight: bold; text-align: right;\">3</td><td style = \"text-align: left;\">1988-03-31</td><td style = \"text-align: right;\">0.0307011</td></tr><tr><td class = \"rowNumber\" style = \"font-weight: bold; text-align: right;\">4</td><td style = \"text-align: left;\">1988-04-29</td><td style = \"text-align: right;\">0.0125812</td></tr><tr><td class = \"rowNumber\" style = \"font-weight: bold; text-align: right;\">5</td><td style = \"text-align: left;\">1988-05-31</td><td style = \"text-align: right;\">-0.0199201</td></tr><tr><td class = \"rowNumber\" style = \"font-weight: bold; text-align: right;\">6</td><td style = \"text-align: left;\">1988-06-30</td><td style = \"text-align: right;\">-0.00119118</td></tr><tr><td class = \"rowNumber\" style = \"font-weight: bold; text-align: right;\">7</td><td style = \"text-align: left;\">1988-07-29</td><td style = \"text-align: right;\">0.0183463</td></tr><tr><td class = \"rowNumber\" style = \"font-weight: bold; text-align: right;\">8</td><td style = \"text-align: left;\">1988-08-31</td><td style = \"text-align: right;\">-0.0551142</td></tr><tr><td class = \"rowNumber\" style = \"font-weight: bold; text-align: right;\">9</td><td style = \"text-align: left;\">1988-09-30</td><td style = \"text-align: right;\">0.0428067</td></tr><tr><td class = \"rowNumber\" style = \"font-weight: bold; text-align: right;\">10</td><td style = \"text-align: left;\">1988-10-31</td><td style = \"text-align: right;\">0.0652627</td></tr><tr><td class = \"rowNumber\" style = \"font-weight: bold; text-align: right;\">11</td><td style = \"text-align: left;\">1988-11-30</td><td style = \"text-align: right;\">0.0333328</td></tr><tr><td class = \"rowNumber\" style = \"font-weight: bold; text-align: right;\">12</td><td style = \"text-align: left;\">1988-12-30</td><td style = \"text-align: right;\">0.00882291</td></tr><tr><td class = \"rowNumber\" style = \"font-weight: bold; text-align: right;\">13</td><td style = \"text-align: left;\">1989-01-31</td><td style = \"text-align: right;\">0.0358213</td></tr><tr><td style = \"text-align: right;\">&vellip;</td><td style = \"text-align: right;\">&vellip;</td><td style = \"text-align: right;\">&vellip;</td></tr><tr><td class = \"rowNumber\" style = \"font-weight: bold; text-align: right;\">424</td><td style = \"text-align: left;\">2023-04-28</td><td style = \"text-align: right;\">0.0143719</td></tr><tr><td class = \"rowNumber\" style = \"font-weight: bold; text-align: right;\">425</td><td style = \"text-align: left;\">2023-05-31</td><td style = \"text-align: right;\">-0.0107115</td></tr><tr><td class = \"rowNumber\" style = \"font-weight: bold; text-align: right;\">426</td><td style = \"text-align: left;\">2023-06-30</td><td style = \"text-align: right;\">0.0580616</td></tr><tr><td class = \"rowNumber\" style = \"font-weight: bold; text-align: right;\">427</td><td style = \"text-align: left;\">2023-07-31</td><td style = \"text-align: right;\">0.0366085</td></tr><tr><td class = \"rowNumber\" style = \"font-weight: bold; text-align: right;\">428</td><td style = \"text-align: left;\">2023-08-31</td><td style = \"text-align: right;\">-0.0279443</td></tr><tr><td class = \"rowNumber\" style = \"font-weight: bold; text-align: right;\">429</td><td style = \"text-align: left;\">2023-09-29</td><td style = \"text-align: right;\">-0.0413498</td></tr><tr><td class = \"rowNumber\" style = \"font-weight: bold; text-align: right;\">430</td><td style = \"text-align: left;\">2023-10-31</td><td style = \"text-align: right;\">-0.0300677</td></tr><tr><td class = \"rowNumber\" style = \"font-weight: bold; text-align: right;\">431</td><td style = \"text-align: left;\">2023-11-30</td><td style = \"text-align: right;\">0.0922975</td></tr><tr><td class = \"rowNumber\" style = \"font-weight: bold; text-align: right;\">432</td><td style = \"text-align: left;\">2023-12-29</td><td style = \"text-align: right;\">0.0480334</td></tr><tr><td class = \"rowNumber\" style = \"font-weight: bold; text-align: right;\">433</td><td style = \"text-align: left;\">2024-01-31</td><td style = \"text-align: right;\">0.00586168</td></tr><tr><td class = \"rowNumber\" style = \"font-weight: bold; text-align: right;\">434</td><td style = \"text-align: left;\">2024-02-29</td><td style = \"text-align: right;\">0.0429136</td></tr><tr><td class = \"rowNumber\" style = \"font-weight: bold; text-align: right;\">435</td><td style = \"text-align: left;\">2024-03-29</td><td style = \"text-align: right;\">0.0313969</td></tr></tbody></table></div>"
      ],
      "text/latex": [
       "\\begin{tabular}{r|cc}\n",
       "\t& Date & ACWI\\\\\n",
       "\t\\hline\n",
       "\t& Date & Float64\\\\\n",
       "\t\\hline\n",
       "\t1 & 1988-01-29 & 0.0249309 \\\\\n",
       "\t2 & 1988-02-29 & 0.0576797 \\\\\n",
       "\t3 & 1988-03-31 & 0.0307011 \\\\\n",
       "\t4 & 1988-04-29 & 0.0125812 \\\\\n",
       "\t5 & 1988-05-31 & -0.0199201 \\\\\n",
       "\t6 & 1988-06-30 & -0.00119118 \\\\\n",
       "\t7 & 1988-07-29 & 0.0183463 \\\\\n",
       "\t8 & 1988-08-31 & -0.0551142 \\\\\n",
       "\t9 & 1988-09-30 & 0.0428067 \\\\\n",
       "\t10 & 1988-10-31 & 0.0652627 \\\\\n",
       "\t11 & 1988-11-30 & 0.0333328 \\\\\n",
       "\t12 & 1988-12-30 & 0.00882291 \\\\\n",
       "\t13 & 1989-01-31 & 0.0358213 \\\\\n",
       "\t14 & 1989-02-28 & -0.00630656 \\\\\n",
       "\t15 & 1989-03-31 & -0.00590322 \\\\\n",
       "\t16 & 1989-04-28 & 0.0247701 \\\\\n",
       "\t17 & 1989-05-31 & -0.0239828 \\\\\n",
       "\t18 & 1989-06-30 & -0.0142808 \\\\\n",
       "\t19 & 1989-07-31 & 0.112616 \\\\\n",
       "\t20 & 1989-08-31 & -0.0239031 \\\\\n",
       "\t21 & 1989-09-29 & 0.0298788 \\\\\n",
       "\t22 & 1989-10-31 & -0.032565 \\\\\n",
       "\t23 & 1989-11-30 & 0.0389515 \\\\\n",
       "\t24 & 1989-12-29 & 0.0324697 \\\\\n",
       "\t$\\dots$ & $\\dots$ & $\\dots$ \\\\\n",
       "\\end{tabular}\n"
      ],
      "text/plain": [
       "\u001b[1m435×2 DataFrame\u001b[0m\n",
       "\u001b[1m Row \u001b[0m│\u001b[1m Date       \u001b[0m\u001b[1m ACWI        \u001b[0m\n",
       "     │\u001b[90m Date       \u001b[0m\u001b[90m Float64     \u001b[0m\n",
       "─────┼─────────────────────────\n",
       "   1 │ 1988-01-29   0.0249309\n",
       "   2 │ 1988-02-29   0.0576797\n",
       "   3 │ 1988-03-31   0.0307011\n",
       "   4 │ 1988-04-29   0.0125812\n",
       "   5 │ 1988-05-31  -0.0199201\n",
       "   6 │ 1988-06-30  -0.00119118\n",
       "   7 │ 1988-07-29   0.0183463\n",
       "   8 │ 1988-08-31  -0.0551142\n",
       "  ⋮  │     ⋮            ⋮\n",
       " 429 │ 2023-09-29  -0.0413498\n",
       " 430 │ 2023-10-31  -0.0300677\n",
       " 431 │ 2023-11-30   0.0922975\n",
       " 432 │ 2023-12-29   0.0480334\n",
       " 433 │ 2024-01-31   0.00586168\n",
       " 434 │ 2024-02-29   0.0429136\n",
       " 435 │ 2024-03-29   0.0313969\n",
       "\u001b[36m               420 rows omitted\u001b[0m"
      ]
     },
     "metadata": {},
     "output_type": "display_data"
    }
   ],
   "source": [
    "acwi = DataFrame(XLSX.readtable(\"../esg/acwi_usd_net_03.04.24.xlsx\",\"acwi_usd_net_full\", header=true, infer_eltypes=true))\n",
    "acwi.Date = Date.(acwi.Date, dateformat\"u d, Y\")\n",
    "acwi"
   ]
  },
  {
   "cell_type": "code",
   "execution_count": 5,
   "metadata": {},
   "outputs": [
    {
     "name": "stdout",
     "output_type": "stream",
     "text": [
      "Summary Stats:\n",
      "Length:         435\n",
      "Missing Count:  0\n",
      "Mean:           0.007221\n",
      "Std. Deviation: 0.043966\n",
      "Minimum:        -0.198150\n",
      "1st Quartile:   -0.017986\n",
      "Median:         0.012573\n",
      "3rd Quartile:   0.033632\n",
      "Maximum:        0.123263\n",
      "Type:           Float64\n"
     ]
    }
   ],
   "source": [
    "describe(acwi.ACWI)"
   ]
  },
  {
   "cell_type": "code",
   "execution_count": 6,
   "metadata": {},
   "outputs": [],
   "source": [
    "#= init_guess = [0.5, 0.5]\n",
    "trans_guess = [0.6 0.4; 0.3 0.7]\n",
    "dists_guess = [MvNormal([-0.4, -0.7], I), MvNormal([0.4, 0.7], I)]\n",
    "hmm_guess = HMM(init_guess, trans_guess, dists_guess); =#\n",
    "\n",
    "init_guess = [0.5, 0.5]\n",
    "trans_guess = [0.9 0.1; 0.9 0.1]\n",
    "#dists_guess = [MvNormal([-0.1, -0.7], I), MvNormal([0.4, 0.7], I)]\n",
    "dists_guess = [Normal(-0.07,0.20),Normal(0.14,0.07)]\n",
    "hmm_guess = HMM(init_guess, trans_guess, dists_guess);"
   ]
  },
  {
   "cell_type": "code",
   "execution_count": 7,
   "metadata": {},
   "outputs": [],
   "source": [
    "hmm_est, loglikelihood_evolution = baum_welch(hmm_guess, acwi.ACWI);"
   ]
  },
  {
   "cell_type": "code",
   "execution_count": 8,
   "metadata": {},
   "outputs": [
    {
     "data": {
      "text/plain": [
       "774.9155810120484"
      ]
     },
     "metadata": {},
     "output_type": "display_data"
    }
   ],
   "source": [
    "last(loglikelihood_evolution)"
   ]
  },
  {
   "cell_type": "code",
   "execution_count": 9,
   "metadata": {},
   "outputs": [
    {
     "data": {
      "text/plain": [
       "2×2 Matrix{Float64}:\n",
       " 0.953852   0.0461485\n",
       " 0.0537106  0.946289"
      ]
     },
     "metadata": {},
     "output_type": "display_data"
    }
   ],
   "source": [
    "transition_matrix(hmm_est)"
   ]
  },
  {
   "cell_type": "code",
   "execution_count": 10,
   "metadata": {},
   "outputs": [
    {
     "data": {
      "text/plain": [
       "2-element Vector{Normal{Float64}}:\n",
       " Normal{Float64}(μ=0.0015860352863334213, σ=0.05502964773221741)\n",
       " Normal{Float64}(μ=0.013469406460119963, σ=0.025198679554070277)"
      ]
     },
     "metadata": {},
     "output_type": "display_data"
    }
   ],
   "source": [
    "obs_distributions(hmm_est)"
   ]
  },
  {
   "cell_type": "code",
   "execution_count": 11,
   "metadata": {},
   "outputs": [
    {
     "name": "stdout",
     "output_type": "stream",
     "text": [
      "regime 1\n",
      "0.019032423436001054\n",
      "0.190628291589636\n",
      "regime 2\n",
      "0.16163287752143957\n",
      "0.08729078654259356\n"
     ]
    }
   ],
   "source": [
    "println(\"regime 1\")\n",
    "println(mean(obs_distributions(hmm_est)[1])*12)\n",
    "println(std(obs_distributions(hmm_est)[1])* 12^0.5)\n",
    "println(\"regime 2\")\n",
    "println(mean(obs_distributions(hmm_est)[2])*12)\n",
    "println(std(obs_distributions(hmm_est)[2])* 12^0.5)"
   ]
  },
  {
   "cell_type": "code",
   "execution_count": 12,
   "metadata": {},
   "outputs": [
    {
     "data": {
      "text/html": [
       "<div><div style = \"float: left;\"><span>255×2 DataFrame</span></div><div style = \"float: right;\"><span style = \"font-style: italic;\">230 rows omitted</span></div><div style = \"clear: both;\"></div></div><div class = \"data-frame\" style = \"overflow-x: scroll;\"><table class = \"data-frame\" style = \"margin-bottom: 6px;\"><thead><tr class = \"header\"><th class = \"rowNumber\" style = \"font-weight: bold; text-align: right;\">Row</th><th style = \"text-align: left;\">Date</th><th style = \"text-align: left;\">ACWI</th></tr><tr class = \"subheader headerLastRow\"><th class = \"rowNumber\" style = \"font-weight: bold; text-align: right;\"></th><th title = \"Date\" style = \"text-align: left;\">Date</th><th title = \"Float64\" style = \"text-align: left;\">Float64</th></tr></thead><tbody><tr><td class = \"rowNumber\" style = \"font-weight: bold; text-align: right;\">1</td><td style = \"text-align: left;\">2003-01-31</td><td style = \"text-align: right;\">-0.0294357</td></tr><tr><td class = \"rowNumber\" style = \"font-weight: bold; text-align: right;\">2</td><td style = \"text-align: left;\">2003-02-28</td><td style = \"text-align: right;\">-0.017938</td></tr><tr><td class = \"rowNumber\" style = \"font-weight: bold; text-align: right;\">3</td><td style = \"text-align: left;\">2003-03-31</td><td style = \"text-align: right;\">-0.00431422</td></tr><tr><td class = \"rowNumber\" style = \"font-weight: bold; text-align: right;\">4</td><td style = \"text-align: left;\">2003-04-30</td><td style = \"text-align: right;\">0.0886378</td></tr><tr><td class = \"rowNumber\" style = \"font-weight: bold; text-align: right;\">5</td><td style = \"text-align: left;\">2003-05-30</td><td style = \"text-align: right;\">0.0574971</td></tr><tr><td class = \"rowNumber\" style = \"font-weight: bold; text-align: right;\">6</td><td style = \"text-align: left;\">2003-06-30</td><td style = \"text-align: right;\">0.0187239</td></tr><tr><td class = \"rowNumber\" style = \"font-weight: bold; text-align: right;\">7</td><td style = \"text-align: left;\">2003-07-31</td><td style = \"text-align: right;\">0.0218749</td></tr><tr><td class = \"rowNumber\" style = \"font-weight: bold; text-align: right;\">8</td><td style = \"text-align: left;\">2003-08-29</td><td style = \"text-align: right;\">0.0233834</td></tr><tr><td class = \"rowNumber\" style = \"font-weight: bold; text-align: right;\">9</td><td style = \"text-align: left;\">2003-09-30</td><td style = \"text-align: right;\">0.00607447</td></tr><tr><td class = \"rowNumber\" style = \"font-weight: bold; text-align: right;\">10</td><td style = \"text-align: left;\">2003-10-31</td><td style = \"text-align: right;\">0.0603779</td></tr><tr><td class = \"rowNumber\" style = \"font-weight: bold; text-align: right;\">11</td><td style = \"text-align: left;\">2003-11-28</td><td style = \"text-align: right;\">0.0149736</td></tr><tr><td class = \"rowNumber\" style = \"font-weight: bold; text-align: right;\">12</td><td style = \"text-align: left;\">2003-12-31</td><td style = \"text-align: right;\">0.0631066</td></tr><tr><td class = \"rowNumber\" style = \"font-weight: bold; text-align: right;\">13</td><td style = \"text-align: left;\">2004-01-30</td><td style = \"text-align: right;\">0.0168908</td></tr><tr><td style = \"text-align: right;\">&vellip;</td><td style = \"text-align: right;\">&vellip;</td><td style = \"text-align: right;\">&vellip;</td></tr><tr><td class = \"rowNumber\" style = \"font-weight: bold; text-align: right;\">244</td><td style = \"text-align: left;\">2023-04-28</td><td style = \"text-align: right;\">0.0143719</td></tr><tr><td class = \"rowNumber\" style = \"font-weight: bold; text-align: right;\">245</td><td style = \"text-align: left;\">2023-05-31</td><td style = \"text-align: right;\">-0.0107115</td></tr><tr><td class = \"rowNumber\" style = \"font-weight: bold; text-align: right;\">246</td><td style = \"text-align: left;\">2023-06-30</td><td style = \"text-align: right;\">0.0580616</td></tr><tr><td class = \"rowNumber\" style = \"font-weight: bold; text-align: right;\">247</td><td style = \"text-align: left;\">2023-07-31</td><td style = \"text-align: right;\">0.0366085</td></tr><tr><td class = \"rowNumber\" style = \"font-weight: bold; text-align: right;\">248</td><td style = \"text-align: left;\">2023-08-31</td><td style = \"text-align: right;\">-0.0279443</td></tr><tr><td class = \"rowNumber\" style = \"font-weight: bold; text-align: right;\">249</td><td style = \"text-align: left;\">2023-09-29</td><td style = \"text-align: right;\">-0.0413498</td></tr><tr><td class = \"rowNumber\" style = \"font-weight: bold; text-align: right;\">250</td><td style = \"text-align: left;\">2023-10-31</td><td style = \"text-align: right;\">-0.0300677</td></tr><tr><td class = \"rowNumber\" style = \"font-weight: bold; text-align: right;\">251</td><td style = \"text-align: left;\">2023-11-30</td><td style = \"text-align: right;\">0.0922975</td></tr><tr><td class = \"rowNumber\" style = \"font-weight: bold; text-align: right;\">252</td><td style = \"text-align: left;\">2023-12-29</td><td style = \"text-align: right;\">0.0480334</td></tr><tr><td class = \"rowNumber\" style = \"font-weight: bold; text-align: right;\">253</td><td style = \"text-align: left;\">2024-01-31</td><td style = \"text-align: right;\">0.00586168</td></tr><tr><td class = \"rowNumber\" style = \"font-weight: bold; text-align: right;\">254</td><td style = \"text-align: left;\">2024-02-29</td><td style = \"text-align: right;\">0.0429136</td></tr><tr><td class = \"rowNumber\" style = \"font-weight: bold; text-align: right;\">255</td><td style = \"text-align: left;\">2024-03-29</td><td style = \"text-align: right;\">0.0313969</td></tr></tbody></table></div>"
      ],
      "text/latex": [
       "\\begin{tabular}{r|cc}\n",
       "\t& Date & ACWI\\\\\n",
       "\t\\hline\n",
       "\t& Date & Float64\\\\\n",
       "\t\\hline\n",
       "\t1 & 2003-01-31 & -0.0294357 \\\\\n",
       "\t2 & 2003-02-28 & -0.017938 \\\\\n",
       "\t3 & 2003-03-31 & -0.00431422 \\\\\n",
       "\t4 & 2003-04-30 & 0.0886378 \\\\\n",
       "\t5 & 2003-05-30 & 0.0574971 \\\\\n",
       "\t6 & 2003-06-30 & 0.0187239 \\\\\n",
       "\t7 & 2003-07-31 & 0.0218749 \\\\\n",
       "\t8 & 2003-08-29 & 0.0233834 \\\\\n",
       "\t9 & 2003-09-30 & 0.00607447 \\\\\n",
       "\t10 & 2003-10-31 & 0.0603779 \\\\\n",
       "\t11 & 2003-11-28 & 0.0149736 \\\\\n",
       "\t12 & 2003-12-31 & 0.0631066 \\\\\n",
       "\t13 & 2004-01-30 & 0.0168908 \\\\\n",
       "\t14 & 2004-02-27 & 0.0180975 \\\\\n",
       "\t15 & 2004-03-31 & -0.00571557 \\\\\n",
       "\t16 & 2004-04-30 & -0.023487 \\\\\n",
       "\t17 & 2004-05-31 & 0.00776471 \\\\\n",
       "\t18 & 2004-06-30 & 0.0197908 \\\\\n",
       "\t19 & 2004-07-30 & -0.0320061 \\\\\n",
       "\t20 & 2004-08-31 & 0.00609399 \\\\\n",
       "\t21 & 2004-09-30 & 0.0207609 \\\\\n",
       "\t22 & 2004-10-29 & 0.024445 \\\\\n",
       "\t23 & 2004-11-30 & 0.0545021 \\\\\n",
       "\t24 & 2004-12-31 & 0.0386893 \\\\\n",
       "\t$\\dots$ & $\\dots$ & $\\dots$ \\\\\n",
       "\\end{tabular}\n"
      ],
      "text/plain": [
       "\u001b[1m255×2 DataFrame\u001b[0m\n",
       "\u001b[1m Row \u001b[0m│\u001b[1m Date       \u001b[0m\u001b[1m ACWI        \u001b[0m\n",
       "     │\u001b[90m Date       \u001b[0m\u001b[90m Float64     \u001b[0m\n",
       "─────┼─────────────────────────\n",
       "   1 │ 2003-01-31  -0.0294357\n",
       "   2 │ 2003-02-28  -0.017938\n",
       "   3 │ 2003-03-31  -0.00431422\n",
       "   4 │ 2003-04-30   0.0886378\n",
       "   5 │ 2003-05-30   0.0574971\n",
       "   6 │ 2003-06-30   0.0187239\n",
       "   7 │ 2003-07-31   0.0218749\n",
       "   8 │ 2003-08-29   0.0233834\n",
       "  ⋮  │     ⋮            ⋮\n",
       " 249 │ 2023-09-29  -0.0413498\n",
       " 250 │ 2023-10-31  -0.0300677\n",
       " 251 │ 2023-11-30   0.0922975\n",
       " 252 │ 2023-12-29   0.0480334\n",
       " 253 │ 2024-01-31   0.00586168\n",
       " 254 │ 2024-02-29   0.0429136\n",
       " 255 │ 2024-03-29   0.0313969\n",
       "\u001b[36m               240 rows omitted\u001b[0m"
      ]
     },
     "metadata": {},
     "output_type": "display_data"
    }
   ],
   "source": [
    "acwi_short = acwi[Date(2003,01,01) .<= acwi.Date .<= Date(2024,03,31), :]"
   ]
  },
  {
   "cell_type": "code",
   "execution_count": 13,
   "metadata": {},
   "outputs": [
    {
     "name": "stdout",
     "output_type": "stream",
     "text": [
      "0.007221256079983577\n",
      "0.04396581164211372\n",
      "0.00820031798641316\n",
      "0.044712591384382244\n"
     ]
    }
   ],
   "source": [
    "println(mean(acwi.ACWI))\n",
    "println(std(acwi.ACWI))\n",
    "println(mean(acwi_short.ACWI))\n",
    "println(std(acwi_short.ACWI))\n"
   ]
  },
  {
   "cell_type": "code",
   "execution_count": 14,
   "metadata": {},
   "outputs": [],
   "source": [
    "hmm_est, loglikelihood_evolution = baum_welch(hmm_guess, acwi_short.ACWI);"
   ]
  },
  {
   "cell_type": "code",
   "execution_count": 15,
   "metadata": {},
   "outputs": [
    {
     "data": {
      "text/plain": [
       "459.13892457264535"
      ]
     },
     "metadata": {},
     "output_type": "display_data"
    }
   ],
   "source": [
    "last(loglikelihood_evolution)"
   ]
  },
  {
   "cell_type": "code",
   "execution_count": 16,
   "metadata": {},
   "outputs": [
    {
     "data": {
      "text/plain": [
       "HMM{Vector{Float64}, Matrix{Float64}, Vector{Normal{Float64}}}"
      ]
     },
     "metadata": {},
     "output_type": "display_data"
    }
   ],
   "source": [
    "typeof(hmm_est)"
   ]
  },
  {
   "cell_type": "code",
   "execution_count": 17,
   "metadata": {},
   "outputs": [
    {
     "data": {
      "text/plain": [
       "2×2 Matrix{Float64}:\n",
       " 0.932483   0.0675174\n",
       " 0.0569406  0.943059"
      ]
     },
     "metadata": {},
     "output_type": "display_data"
    }
   ],
   "source": [
    "transition_matrix(hmm_est)"
   ]
  },
  {
   "cell_type": "code",
   "execution_count": 18,
   "metadata": {},
   "outputs": [
    {
     "data": {
      "text/plain": [
       "2-element Vector{Normal{Float64}}:\n",
       " Normal{Float64}(μ=0.001677850881617401, σ=0.05909238647054062)\n",
       " Normal{Float64}(μ=0.014143605791660168, σ=0.02345202862629552)"
      ]
     },
     "metadata": {},
     "output_type": "display_data"
    }
   ],
   "source": [
    "obs_distributions(hmm_est)"
   ]
  },
  {
   "cell_type": "code",
   "execution_count": 19,
   "metadata": {},
   "outputs": [
    {
     "name": "stdout",
     "output_type": "stream",
     "text": [
      "regime 1\n",
      "0.020134210579408812\n",
      "0.20470203141494414\n",
      "regime 2\n",
      "0.169723269499922\n",
      "0.08124021024260716\n"
     ]
    }
   ],
   "source": [
    "println(\"regime 1\")\n",
    "println(mean(obs_distributions(hmm_est)[1])*12)\n",
    "println(std(obs_distributions(hmm_est)[1])* 12^0.5)\n",
    "println(\"regime 2\")\n",
    "println(mean(obs_distributions(hmm_est)[2])*12)\n",
    "println(std(obs_distributions(hmm_est)[2])* 12^0.5)"
   ]
  },
  {
   "cell_type": "code",
   "execution_count": 20,
   "metadata": {},
   "outputs": [
    {
     "data": {
      "text/plain": [
       "2-element Vector{Float64}:\n",
       " 1.0\n",
       " 5.644524055265908e-50"
      ]
     },
     "metadata": {},
     "output_type": "display_data"
    }
   ],
   "source": [
    "initialization(hmm_est)"
   ]
  },
  {
   "cell_type": "code",
   "execution_count": 42,
   "metadata": {},
   "outputs": [
    {
     "data": {
      "text/html": [
       "<div><div style = \"float: left;\"><span>255×2 DataFrame</span></div><div style = \"float: right;\"><span style = \"font-style: italic;\">230 rows omitted</span></div><div style = \"clear: both;\"></div></div><div class = \"data-frame\" style = \"overflow-x: scroll;\"><table class = \"data-frame\" style = \"margin-bottom: 6px;\"><thead><tr class = \"header\"><th class = \"rowNumber\" style = \"font-weight: bold; text-align: right;\">Row</th><th style = \"text-align: left;\">Data</th><th style = \"text-align: left;\">Zamkniecie</th></tr><tr class = \"subheader headerLastRow\"><th class = \"rowNumber\" style = \"font-weight: bold; text-align: right;\"></th><th title = \"Date\" style = \"text-align: left;\">Date</th><th title = \"Float64\" style = \"text-align: left;\">Float64</th></tr></thead><tbody><tr><td class = \"rowNumber\" style = \"font-weight: bold; text-align: right;\">1</td><td style = \"text-align: left;\">2002-12-31</td><td style = \"text-align: right;\">0.8</td></tr><tr><td class = \"rowNumber\" style = \"font-weight: bold; text-align: right;\">2</td><td style = \"text-align: left;\">2003-01-31</td><td style = \"text-align: right;\">0.5</td></tr><tr><td class = \"rowNumber\" style = \"font-weight: bold; text-align: right;\">3</td><td style = \"text-align: left;\">2003-02-28</td><td style = \"text-align: right;\">0.5</td></tr><tr><td class = \"rowNumber\" style = \"font-weight: bold; text-align: right;\">4</td><td style = \"text-align: left;\">2003-03-31</td><td style = \"text-align: right;\">0.6</td></tr><tr><td class = \"rowNumber\" style = \"font-weight: bold; text-align: right;\">5</td><td style = \"text-align: left;\">2003-04-30</td><td style = \"text-align: right;\">0.3</td></tr><tr><td class = \"rowNumber\" style = \"font-weight: bold; text-align: right;\">6</td><td style = \"text-align: left;\">2003-05-31</td><td style = \"text-align: right;\">0.4</td></tr><tr><td class = \"rowNumber\" style = \"font-weight: bold; text-align: right;\">7</td><td style = \"text-align: left;\">2003-06-30</td><td style = \"text-align: right;\">0.8</td></tr><tr><td class = \"rowNumber\" style = \"font-weight: bold; text-align: right;\">8</td><td style = \"text-align: left;\">2003-07-31</td><td style = \"text-align: right;\">0.8</td></tr><tr><td class = \"rowNumber\" style = \"font-weight: bold; text-align: right;\">9</td><td style = \"text-align: left;\">2003-08-31</td><td style = \"text-align: right;\">0.7</td></tr><tr><td class = \"rowNumber\" style = \"font-weight: bold; text-align: right;\">10</td><td style = \"text-align: left;\">2003-09-30</td><td style = \"text-align: right;\">0.9</td></tr><tr><td class = \"rowNumber\" style = \"font-weight: bold; text-align: right;\">11</td><td style = \"text-align: left;\">2003-10-31</td><td style = \"text-align: right;\">1.3</td></tr><tr><td class = \"rowNumber\" style = \"font-weight: bold; text-align: right;\">12</td><td style = \"text-align: left;\">2003-11-30</td><td style = \"text-align: right;\">1.6</td></tr><tr><td class = \"rowNumber\" style = \"font-weight: bold; text-align: right;\">13</td><td style = \"text-align: left;\">2003-12-31</td><td style = \"text-align: right;\">1.7</td></tr><tr><td style = \"text-align: right;\">&vellip;</td><td style = \"text-align: right;\">&vellip;</td><td style = \"text-align: right;\">&vellip;</td></tr><tr><td class = \"rowNumber\" style = \"font-weight: bold; text-align: right;\">244</td><td style = \"text-align: left;\">2023-03-31</td><td style = \"text-align: right;\">16.1</td></tr><tr><td class = \"rowNumber\" style = \"font-weight: bold; text-align: right;\">245</td><td style = \"text-align: left;\">2023-04-30</td><td style = \"text-align: right;\">14.7</td></tr><tr><td class = \"rowNumber\" style = \"font-weight: bold; text-align: right;\">246</td><td style = \"text-align: left;\">2023-05-31</td><td style = \"text-align: right;\">13.0</td></tr><tr><td class = \"rowNumber\" style = \"font-weight: bold; text-align: right;\">247</td><td style = \"text-align: left;\">2023-06-30</td><td style = \"text-align: right;\">11.5</td></tr><tr><td class = \"rowNumber\" style = \"font-weight: bold; text-align: right;\">248</td><td style = \"text-align: left;\">2023-07-31</td><td style = \"text-align: right;\">10.8</td></tr><tr><td class = \"rowNumber\" style = \"font-weight: bold; text-align: right;\">249</td><td style = \"text-align: left;\">2023-08-31</td><td style = \"text-align: right;\">10.1</td></tr><tr><td class = \"rowNumber\" style = \"font-weight: bold; text-align: right;\">250</td><td style = \"text-align: left;\">2023-09-30</td><td style = \"text-align: right;\">8.2</td></tr><tr><td class = \"rowNumber\" style = \"font-weight: bold; text-align: right;\">251</td><td style = \"text-align: left;\">2023-10-31</td><td style = \"text-align: right;\">6.6</td></tr><tr><td class = \"rowNumber\" style = \"font-weight: bold; text-align: right;\">252</td><td style = \"text-align: left;\">2023-11-30</td><td style = \"text-align: right;\">6.6</td></tr><tr><td class = \"rowNumber\" style = \"font-weight: bold; text-align: right;\">253</td><td style = \"text-align: left;\">2023-12-31</td><td style = \"text-align: right;\">6.2</td></tr><tr><td class = \"rowNumber\" style = \"font-weight: bold; text-align: right;\">254</td><td style = \"text-align: left;\">2024-01-31</td><td style = \"text-align: right;\">3.9</td></tr><tr><td class = \"rowNumber\" style = \"font-weight: bold; text-align: right;\">255</td><td style = \"text-align: left;\">2024-02-29</td><td style = \"text-align: right;\">2.8</td></tr></tbody></table></div>"
      ],
      "text/latex": [
       "\\begin{tabular}{r|cc}\n",
       "\t& Data & Zamkniecie\\\\\n",
       "\t\\hline\n",
       "\t& Date & Float64\\\\\n",
       "\t\\hline\n",
       "\t1 & 2002-12-31 & 0.8 \\\\\n",
       "\t2 & 2003-01-31 & 0.5 \\\\\n",
       "\t3 & 2003-02-28 & 0.5 \\\\\n",
       "\t4 & 2003-03-31 & 0.6 \\\\\n",
       "\t5 & 2003-04-30 & 0.3 \\\\\n",
       "\t6 & 2003-05-31 & 0.4 \\\\\n",
       "\t7 & 2003-06-30 & 0.8 \\\\\n",
       "\t8 & 2003-07-31 & 0.8 \\\\\n",
       "\t9 & 2003-08-31 & 0.7 \\\\\n",
       "\t10 & 2003-09-30 & 0.9 \\\\\n",
       "\t11 & 2003-10-31 & 1.3 \\\\\n",
       "\t12 & 2003-11-30 & 1.6 \\\\\n",
       "\t13 & 2003-12-31 & 1.7 \\\\\n",
       "\t14 & 2004-01-31 & 1.6 \\\\\n",
       "\t15 & 2004-02-29 & 1.6 \\\\\n",
       "\t16 & 2004-03-31 & 1.7 \\\\\n",
       "\t17 & 2004-04-30 & 2.2 \\\\\n",
       "\t18 & 2004-05-31 & 3.4 \\\\\n",
       "\t19 & 2004-06-30 & 4.4 \\\\\n",
       "\t20 & 2004-07-31 & 4.6 \\\\\n",
       "\t21 & 2004-08-31 & 4.6 \\\\\n",
       "\t22 & 2004-09-30 & 4.4 \\\\\n",
       "\t23 & 2004-10-31 & 4.5 \\\\\n",
       "\t24 & 2004-11-30 & 4.5 \\\\\n",
       "\t$\\dots$ & $\\dots$ & $\\dots$ \\\\\n",
       "\\end{tabular}\n"
      ],
      "text/plain": [
       "\u001b[1m255×2 DataFrame\u001b[0m\n",
       "\u001b[1m Row \u001b[0m│\u001b[1m Data       \u001b[0m\u001b[1m Zamkniecie \u001b[0m\n",
       "     │\u001b[90m Date       \u001b[0m\u001b[90m Float64    \u001b[0m\n",
       "─────┼────────────────────────\n",
       "   1 │ 2002-12-31         0.8\n",
       "   2 │ 2003-01-31         0.5\n",
       "   3 │ 2003-02-28         0.5\n",
       "   4 │ 2003-03-31         0.6\n",
       "   5 │ 2003-04-30         0.3\n",
       "   6 │ 2003-05-31         0.4\n",
       "   7 │ 2003-06-30         0.8\n",
       "   8 │ 2003-07-31         0.8\n",
       "  ⋮  │     ⋮           ⋮\n",
       " 249 │ 2023-08-31        10.1\n",
       " 250 │ 2023-09-30         8.2\n",
       " 251 │ 2023-10-31         6.6\n",
       " 252 │ 2023-11-30         6.6\n",
       " 253 │ 2023-12-31         6.2\n",
       " 254 │ 2024-01-31         3.9\n",
       " 255 │ 2024-02-29         2.8\n",
       "\u001b[36m              240 rows omitted\u001b[0m"
      ]
     },
     "metadata": {},
     "output_type": "display_data"
    }
   ],
   "source": [
    "cpipl = CSV.read(\"../esg/cpiypl_m.csv\", DataFrame)[:,[\"Data\",\"Zamkniecie\"]]"
   ]
  },
  {
   "cell_type": "code",
   "execution_count": 43,
   "metadata": {},
   "outputs": [
    {
     "data": {
      "text/plain": [
       "254-element Vector{Float64}:\n",
       " 0.0175\n",
       " 0.0175\n",
       " 0.018500000000000003\n",
       " 0.0155\n",
       " 0.0165\n",
       " 0.0205\n",
       " 0.0205\n",
       " 0.0195\n",
       " 0.021500000000000002\n",
       " 0.025500000000000002\n",
       " ⋮\n",
       " 0.1275\n",
       " 0.12050000000000001\n",
       " 0.11349999999999999\n",
       " 0.09449999999999999\n",
       " 0.0785\n",
       " 0.0785\n",
       " 0.0745\n",
       " 0.051500000000000004\n",
       " 0.040499999999999994"
      ]
     },
     "metadata": {},
     "output_type": "display_data"
    }
   ],
   "source": [
    "date_index = Date(2003,01,01) .<= cpipl.Data .<= Date(2024,02,29)\n",
    "edo = cpipl[date_index,\"Zamkniecie\"] ./100 .+ 0.0125"
   ]
  },
  {
   "cell_type": "code",
   "execution_count": 44,
   "metadata": {},
   "outputs": [
    {
     "data": {
      "text/plain": [
       "254-element Vector{Float64}:\n",
       " -0.029435692626285204\n",
       " -0.01793797150041898\n",
       " -0.0043142245259009115\n",
       "  0.08863778054862848\n",
       "  0.05749710080604764\n",
       "  0.018723853620892683\n",
       "  0.02187491693910637\n",
       "  0.023383446912552674\n",
       "  0.006074469437031604\n",
       "  0.06037793047696027\n",
       "  ⋮\n",
       "  0.05806157327945405\n",
       "  0.03660848514326154\n",
       " -0.027944324625502892\n",
       " -0.04134978511934306\n",
       " -0.030067745405442547\n",
       "  0.09229752768158961\n",
       "  0.04803335439585643\n",
       "  0.0058616798157242744\n",
       "  0.042913606684614525"
      ]
     },
     "metadata": {},
     "output_type": "display_data"
    }
   ],
   "source": [
    "acwi_s = acwi[Date(2003,01,01) .<= acwi.Date .<= Date(2024,02,29),\"ACWI\"]"
   ]
  },
  {
   "cell_type": "code",
   "execution_count": 45,
   "metadata": {},
   "outputs": [
    {
     "data": {
      "text/plain": [
       "254×2 Matrix{Float64}:\n",
       " -0.0294357   0.0175\n",
       " -0.017938    0.0175\n",
       " -0.00431422  0.0185\n",
       "  0.0886378   0.0155\n",
       "  0.0574971   0.0165\n",
       "  0.0187239   0.0205\n",
       "  0.0218749   0.0205\n",
       "  0.0233834   0.0195\n",
       "  0.00607447  0.0215\n",
       "  0.0603779   0.0255\n",
       "  ⋮           \n",
       "  0.0580616   0.1275\n",
       "  0.0366085   0.1205\n",
       " -0.0279443   0.1135\n",
       " -0.0413498   0.0945\n",
       " -0.0300677   0.0785\n",
       "  0.0922975   0.0785\n",
       "  0.0480334   0.0745\n",
       "  0.00586168  0.0515\n",
       "  0.0429136   0.0405"
      ]
     },
     "metadata": {},
     "output_type": "display_data"
    }
   ],
   "source": [
    "returns = hcat(acwi_s,edo)"
   ]
  },
  {
   "cell_type": "code",
   "execution_count": 46,
   "metadata": {},
   "outputs": [
    {
     "data": {
      "text/plain": [
       "254-element Vector{Vector{Float64}}:\n",
       " [-0.029435692626285204, 0.0175]\n",
       " [-0.01793797150041898, 0.0175]\n",
       " [-0.0043142245259009115, 0.018500000000000003]\n",
       " [0.08863778054862848, 0.0155]\n",
       " [0.05749710080604764, 0.0165]\n",
       " [0.018723853620892683, 0.0205]\n",
       " [0.02187491693910637, 0.0205]\n",
       " [0.023383446912552674, 0.0195]\n",
       " [0.006074469437031604, 0.021500000000000002]\n",
       " [0.06037793047696027, 0.025500000000000002]\n",
       " ⋮\n",
       " [0.05806157327945405, 0.1275]\n",
       " [0.03660848514326154, 0.12050000000000001]\n",
       " [-0.027944324625502892, 0.11349999999999999]\n",
       " [-0.04134978511934306, 0.09449999999999999]\n",
       " [-0.030067745405442547, 0.0785]\n",
       " [0.09229752768158961, 0.0785]\n",
       " [0.04803335439585643, 0.0745]\n",
       " [0.0058616798157242744, 0.051500000000000004]\n",
       " [0.042913606684614525, 0.040499999999999994]"
      ]
     },
     "metadata": {},
     "output_type": "display_data"
    }
   ],
   "source": [
    "returns = [returns[i,:] for i in 1:size(returns,1)]"
   ]
  },
  {
   "cell_type": "code",
   "execution_count": 93,
   "metadata": {},
   "outputs": [],
   "source": [
    "init_guess = [0.25, 0.25, 0.25, 0.25]\n",
    "trans_guess = [0.25 0.25 0.25 0.25; 0.25 0.25 0.25 0.25; 0.25 0.25 0.25 0.25; 0.25 0.25 0.25 0.25]\n",
    "dists_guess = [MvNormal([-0.05, 0.012], I), MvNormal([0.2, 0.037], I), MvNormal([0.07, 0.049], I), MvNormal([-0.2, 0.082], I)]\n",
    "hmm_guess = HMM(init_guess, trans_guess, dists_guess);"
   ]
  },
  {
   "cell_type": "code",
   "execution_count": 94,
   "metadata": {},
   "outputs": [],
   "source": [
    "hmm_est, loglikelihood_evolution = baum_welch(hmm_guess, returns);"
   ]
  },
  {
   "cell_type": "code",
   "execution_count": 95,
   "metadata": {},
   "outputs": [
    {
     "data": {
      "text/plain": [
       "1086.0423474913564"
      ]
     },
     "metadata": {},
     "output_type": "display_data"
    }
   ],
   "source": [
    "last(loglikelihood_evolution)"
   ]
  },
  {
   "cell_type": "code",
   "execution_count": 96,
   "metadata": {},
   "outputs": [
    {
     "data": {
      "text/plain": [
       "4×4 Matrix{Float64}:\n",
       " 0.425494     0.234221     0.283825     0.0564599\n",
       " 0.187719     0.812281     7.55407e-13  3.11054e-20\n",
       " 0.217072     0.644388     0.13854      5.46727e-28\n",
       " 4.81994e-21  8.57241e-37  0.0942793    0.905721"
      ]
     },
     "metadata": {},
     "output_type": "display_data"
    }
   ],
   "source": [
    "transition_matrix(hmm_est)"
   ]
  },
  {
   "cell_type": "code",
   "execution_count": 98,
   "metadata": {},
   "outputs": [
    {
     "data": {
      "text/plain": [
       "4-element Vector{IsoNormal}:\n",
       " IsoNormal(\n",
       "dim: 2\n",
       "μ: [-0.03129398017170018, 0.03477600738241481]\n",
       "Σ: [0.0005866814416253256 0.0; 0.0 0.0005866814416253256]\n",
       ")\n",
       "\n",
       " IsoNormal(\n",
       "dim: 2\n",
       "μ: [0.019660866124438896, 0.032555661006222585]\n",
       "Σ: [0.00030808785285821175 0.0; 0.0 0.00030808785285821175]\n",
       ")\n",
       "\n",
       " IsoNormal(\n",
       "dim: 2\n",
       "μ: [0.07926253831291416, 0.037884960896446176]\n",
       "Σ: [0.0004508494595335847 0.0; 0.0 0.0004508494595335847]\n",
       ")\n",
       "\n",
       " IsoNormal(\n",
       "dim: 2\n",
       "μ: [-0.021833161896736286, 0.1185034538258361]\n",
       "Σ: [0.003512190550272683 0.0; 0.0 0.003512190550272683]\n",
       ")\n"
      ]
     },
     "metadata": {},
     "output_type": "display_data"
    }
   ],
   "source": [
    "obs_distributions(hmm_est)"
   ]
  },
  {
   "cell_type": "code",
   "execution_count": 52,
   "metadata": {},
   "outputs": [
    {
     "data": {
      "text/plain": [
       "IsoNormal(\n",
       "dim: 2\n",
       "μ: [-0.007180069470621233, 0.07578098201327435]\n",
       "Σ: [0.0036875320284281313 0.0; 0.0 0.0036875320284281313]\n",
       ")\n"
      ]
     },
     "metadata": {},
     "output_type": "display_data"
    }
   ],
   "source": [
    "regime1 = obs_distributions(hmm_est)[1]"
   ]
  },
  {
   "cell_type": "code",
   "execution_count": 53,
   "metadata": {},
   "outputs": [
    {
     "data": {
      "text/plain": [
       "2×2 Matrix{Float64}:\n",
       " -0.0861608  -0.00718007\n",
       "  0.909372    0.075781"
      ]
     },
     "metadata": {},
     "output_type": "display_data"
    }
   ],
   "source": [
    "mean(regime1) * [12. 1.]"
   ]
  },
  {
   "cell_type": "code",
   "execution_count": 54,
   "metadata": {},
   "outputs": [
    {
     "data": {
      "text/plain": [
       "2×2 Matrix{Float64}:\n",
       " 0.00368753  0.0\n",
       " 0.0         0.00368753"
      ]
     },
     "metadata": {},
     "output_type": "display_data"
    }
   ],
   "source": [
    "cov(regime1)"
   ]
  },
  {
   "cell_type": "code",
   "execution_count": 55,
   "metadata": {},
   "outputs": [
    {
     "data": {
      "text/plain": [
       "0.01277398565555009"
      ]
     },
     "metadata": {},
     "output_type": "display_data"
    }
   ],
   "source": [
    "cov(regime1)[1,1]*12^0.5"
   ]
  },
  {
   "cell_type": "code",
   "execution_count": 56,
   "metadata": {},
   "outputs": [
    {
     "data": {
      "text/plain": [
       "Hidden Markov Model with:\n",
       " - initialization: [0.6, 0.4]\n",
       " - transition matrix: [0.7 0.3; 0.2 0.8]\n",
       " - observation distributions: [IsoNormal(\n",
       "dim: 2\n",
       "μ: [-0.5, -0.8]\n",
       "Σ: [1.0 0.0; 0.0 1.0]\n",
       ")\n",
       ", IsoNormal(\n",
       "dim: 2\n",
       "μ: [0.5, 0.8]\n",
       "Σ: [1.0 0.0; 0.0 1.0]\n",
       ")\n",
       "]"
      ]
     },
     "metadata": {},
     "output_type": "display_data"
    }
   ],
   "source": [
    "init = [0.6, 0.4]\n",
    "trans = [0.7 0.3; 0.2 0.8]\n",
    "dists = [MvNormal([-0.5, -0.8], I), MvNormal([0.5, 0.8], I)]\n",
    "hmm = HMM(init, trans, dists)"
   ]
  },
  {
   "cell_type": "code",
   "execution_count": 65,
   "metadata": {},
   "outputs": [
    {
     "data": {
      "text/plain": [
       "Vector{Vector{Vector{Float64}}}\u001b[90m (alias for \u001b[39m\u001b[90mArray{Array{Array{Float64, 1}, 1}, 1}\u001b[39m\u001b[90m)\u001b[39m"
      ]
     },
     "metadata": {},
     "output_type": "display_data"
    }
   ],
   "source": [
    "nb_seqs = 100\n",
    "long_obs_seqs = [last(rand(rng, hmm, 120)) for k in 1:nb_seqs];\n",
    "typeof(long_obs_seqs)"
   ]
  },
  {
   "cell_type": "code",
   "execution_count": 66,
   "metadata": {},
   "outputs": [
    {
     "data": {
      "text/plain": [
       "Vector{Vector{Float64}}\u001b[90m (alias for \u001b[39m\u001b[90mArray{Array{Float64, 1}, 1}\u001b[39m\u001b[90m)\u001b[39m"
      ]
     },
     "metadata": {},
     "output_type": "display_data"
    }
   ],
   "source": [
    "long_obs_seq_concat = reduce(vcat, long_obs_seqs)\n",
    "typeof(long_obs_seq_concat)"
   ]
  },
  {
   "cell_type": "code",
   "execution_count": 67,
   "metadata": {},
   "outputs": [
    {
     "data": {
      "text/plain": [
       "1×100 adjoint(::Vector{Int64}) with eltype Int64:\n",
       " 120  240  360  480  600  720  840  960  …  11520  11640  11760  11880  12000"
      ]
     },
     "metadata": {},
     "output_type": "display_data"
    }
   ],
   "source": [
    "seq_ends = cumsum(length.(long_obs_seqs))\n",
    "seq_ends'"
   ]
  },
  {
   "cell_type": "code",
   "execution_count": 68,
   "metadata": {},
   "outputs": [],
   "source": [
    "init_guess = [0.5, 0.5]\n",
    "trans_guess = [0.6 0.4; 0.3 0.7]\n",
    "dists_guess = [MvNormal([-0.4, -0.7], I), MvNormal([0.4, 0.7], I)]\n",
    "hmm_guess = HMM(init_guess, trans_guess, dists_guess);"
   ]
  },
  {
   "cell_type": "code",
   "execution_count": 75,
   "metadata": {},
   "outputs": [],
   "source": [
    "hmm_est_concat, _ = baum_welch(hmm_guess, long_obs_seq_concat,; seq_ends);"
   ]
  },
  {
   "cell_type": "code",
   "execution_count": 76,
   "metadata": {},
   "outputs": [
    {
     "data": {
      "text/plain": [
       "2×2 Matrix{Float64}:\n",
       " 0.686014  0.313986\n",
       " 0.1935    0.8065"
      ]
     },
     "metadata": {},
     "output_type": "display_data"
    }
   ],
   "source": [
    "transition_matrix(hmm_est_concat)"
   ]
  },
  {
   "cell_type": "code",
   "execution_count": 77,
   "metadata": {},
   "outputs": [
    {
     "data": {
      "text/plain": [
       "2-element Vector{IsoNormal}:\n",
       " IsoNormal(\n",
       "dim: 2\n",
       "μ: [-0.007180069470621233, 0.07578098201327435]\n",
       "Σ: [0.0036875320284281313 0.0; 0.0 0.0036875320284281313]\n",
       ")\n",
       "\n",
       " IsoNormal(\n",
       "dim: 2\n",
       "μ: [0.014715723918157661, 0.03150717749765352]\n",
       "Σ: [0.00048574567964616865 0.0; 0.0 0.00048574567964616865]\n",
       ")\n"
      ]
     },
     "metadata": {},
     "output_type": "display_data"
    }
   ],
   "source": [
    "obs_distributions(hmm_est)"
   ]
  },
  {
   "cell_type": "code",
   "execution_count": null,
   "metadata": {},
   "outputs": [],
   "source": []
  },
  {
   "cell_type": "code",
   "execution_count": null,
   "metadata": {},
   "outputs": [],
   "source": []
  },
  {
   "cell_type": "code",
   "execution_count": 60,
   "metadata": {},
   "outputs": [
    {
     "data": {
      "text/plain": [
       "1000×50 Matrix{Float64}:\n",
       "  0.183608   0.040727   0.130638  …   0.310636   0.259417   0.106576\n",
       "  0.057796  -0.015669   0.01473       0.181475   0.038817   0.09112\n",
       " -0.042034   0.071062   0.211914      0.271774   0.03051    0.014144\n",
       "  0.048233   0.002585   0.069304      0.161997   0.150916  -0.458586\n",
       " -0.097277   0.278737   0.249458      0.054621   0.20249    0.148626\n",
       "  0.168582   0.058298   0.174671  …  -0.057467  -0.037438   0.030723\n",
       "  0.096997   0.214256  -0.246285      0.148997   0.192833   0.181174\n",
       "  0.254872   0.054849   0.014113      0.13077    0.066608  -0.076274\n",
       "  0.263792   0.213822   0.260164      0.309639   0.022386   0.268776\n",
       "  0.065249  -0.206639   0.347267      0.165357   0.180862   0.298468\n",
       "  ⋮                               ⋱                        \n",
       "  0.313924   0.116269   0.06669       0.226258   0.172806   0.186851\n",
       "  0.296246  -0.045214   0.231189      0.156628   0.218297  -0.019684\n",
       " -0.071925  -0.124002  -0.197512      0.287149  -0.01889    0.176335\n",
       "  0.184442   0.25052    0.034399      0.194625   0.45393    0.242302\n",
       "  0.101056   0.231068   0.14968   …   0.201442   0.278008   0.175155\n",
       "  0.16811   -0.059544   0.18523       0.167594   0.056485   0.097455\n",
       "  0.225259   0.343085  -0.10246       0.32211    0.005146  -0.074045\n",
       "  0.214919   0.258416   0.265878      0.007766  -0.220639  -0.240624\n",
       " -0.006306   0.003264  -0.168227      0.129483   0.165093   0.100469"
      ]
     },
     "metadata": {},
     "output_type": "display_data"
    }
   ],
   "source": [
    "simulated_ACWI = Matrix(CSV.read(\"../sb_gbi/equity_scenarios.csv\",DataFrame))[1:1000,:]"
   ]
  }
 ],
 "metadata": {
  "kernelspec": {
   "display_name": "Julia 1.10.2",
   "language": "julia",
   "name": "julia-1.10"
  },
  "language_info": {
   "file_extension": ".jl",
   "mimetype": "application/julia",
   "name": "julia",
   "version": "1.10.2"
  }
 },
 "nbformat": 4,
 "nbformat_minor": 2
}
