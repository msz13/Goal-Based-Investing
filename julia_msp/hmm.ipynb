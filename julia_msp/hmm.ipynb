{
 "cells": [
  {
   "cell_type": "code",
   "execution_count": 64,
   "metadata": {},
   "outputs": [
    {
     "name": "stderr",
     "output_type": "stream",
     "text": [
      "\u001b[32m\u001b[1m   Resolving\u001b[22m\u001b[39m package versions...\n",
      "\u001b[32m\u001b[1m  No Changes\u001b[22m\u001b[39m to `C:\\Users\\matsz\\.julia\\environments\\v1.10\\Project.toml`\n",
      "\u001b[32m\u001b[1m  No Changes\u001b[22m\u001b[39m to `C:\\Users\\matsz\\.julia\\environments\\v1.10\\Manifest.toml`\n",
      "\u001b[32m\u001b[1m   Resolving\u001b[22m\u001b[39m package versions...\n",
      "\u001b[32m\u001b[1m  No Changes\u001b[22m\u001b[39m to `C:\\Users\\matsz\\.julia\\environments\\v1.10\\Project.toml`\n",
      "\u001b[32m\u001b[1m  No Changes\u001b[22m\u001b[39m to `C:\\Users\\matsz\\.julia\\environments\\v1.10\\Manifest.toml`\n",
      "\u001b[32m\u001b[1m   Resolving\u001b[22m\u001b[39m package versions...\n",
      "\u001b[32m\u001b[1m  No Changes\u001b[22m\u001b[39m to `C:\\Users\\matsz\\.julia\\environments\\v1.10\\Project.toml`\n",
      "\u001b[32m\u001b[1m  No Changes\u001b[22m\u001b[39m to `C:\\Users\\matsz\\.julia\\environments\\v1.10\\Manifest.toml`\n",
      "\u001b[32m\u001b[1m   Resolving\u001b[22m\u001b[39m package versions...\n",
      "\u001b[32m\u001b[1m  No Changes\u001b[22m\u001b[39m to `C:\\Users\\matsz\\.julia\\environments\\v1.10\\Project.toml`\n",
      "\u001b[32m\u001b[1m  No Changes\u001b[22m\u001b[39m to `C:\\Users\\matsz\\.julia\\environments\\v1.10\\Manifest.toml`\n"
     ]
    }
   ],
   "source": [
    "import Pkg\n",
    "\n",
    "Pkg.add(\"HiddenMarkovModels\")\n",
    "Pkg.add(\"Distributions\")\n",
    "Pkg.add(\"StableRNGs\")\n",
    "Pkg.add(\"XLSX\")\n"
   ]
  },
  {
   "cell_type": "code",
   "execution_count": 140,
   "metadata": {},
   "outputs": [],
   "source": [
    "using HiddenMarkovModels, Distributions\n",
    "using LinearAlgebra\n",
    "using StableRNGs\n",
    "using XLSX\n",
    "using DataFrames\n",
    "using Dates\n",
    "using Distributions\n",
    "using Statistics"
   ]
  },
  {
   "cell_type": "code",
   "execution_count": 17,
   "metadata": {},
   "outputs": [],
   "source": [
    "rng = StableRNG(63);"
   ]
  },
  {
   "cell_type": "code",
   "execution_count": 90,
   "metadata": {},
   "outputs": [
    {
     "data": {
      "text/html": [
       "<div><div style = \"float: left;\"><span>435×2 DataFrame</span></div><div style = \"float: right;\"><span style = \"font-style: italic;\">410 rows omitted</span></div><div style = \"clear: both;\"></div></div><div class = \"data-frame\" style = \"overflow-x: scroll;\"><table class = \"data-frame\" style = \"margin-bottom: 6px;\"><thead><tr class = \"header\"><th class = \"rowNumber\" style = \"font-weight: bold; text-align: right;\">Row</th><th style = \"text-align: left;\">Date</th><th style = \"text-align: left;\">ACWI</th></tr><tr class = \"subheader headerLastRow\"><th class = \"rowNumber\" style = \"font-weight: bold; text-align: right;\"></th><th title = \"Date\" style = \"text-align: left;\">Date</th><th title = \"Float64\" style = \"text-align: left;\">Float64</th></tr></thead><tbody><tr><td class = \"rowNumber\" style = \"font-weight: bold; text-align: right;\">1</td><td style = \"text-align: left;\">1988-01-29</td><td style = \"text-align: right;\">0.0249309</td></tr><tr><td class = \"rowNumber\" style = \"font-weight: bold; text-align: right;\">2</td><td style = \"text-align: left;\">1988-02-29</td><td style = \"text-align: right;\">0.0576797</td></tr><tr><td class = \"rowNumber\" style = \"font-weight: bold; text-align: right;\">3</td><td style = \"text-align: left;\">1988-03-31</td><td style = \"text-align: right;\">0.0307011</td></tr><tr><td class = \"rowNumber\" style = \"font-weight: bold; text-align: right;\">4</td><td style = \"text-align: left;\">1988-04-29</td><td style = \"text-align: right;\">0.0125812</td></tr><tr><td class = \"rowNumber\" style = \"font-weight: bold; text-align: right;\">5</td><td style = \"text-align: left;\">1988-05-31</td><td style = \"text-align: right;\">-0.0199201</td></tr><tr><td class = \"rowNumber\" style = \"font-weight: bold; text-align: right;\">6</td><td style = \"text-align: left;\">1988-06-30</td><td style = \"text-align: right;\">-0.00119118</td></tr><tr><td class = \"rowNumber\" style = \"font-weight: bold; text-align: right;\">7</td><td style = \"text-align: left;\">1988-07-29</td><td style = \"text-align: right;\">0.0183463</td></tr><tr><td class = \"rowNumber\" style = \"font-weight: bold; text-align: right;\">8</td><td style = \"text-align: left;\">1988-08-31</td><td style = \"text-align: right;\">-0.0551142</td></tr><tr><td class = \"rowNumber\" style = \"font-weight: bold; text-align: right;\">9</td><td style = \"text-align: left;\">1988-09-30</td><td style = \"text-align: right;\">0.0428067</td></tr><tr><td class = \"rowNumber\" style = \"font-weight: bold; text-align: right;\">10</td><td style = \"text-align: left;\">1988-10-31</td><td style = \"text-align: right;\">0.0652627</td></tr><tr><td class = \"rowNumber\" style = \"font-weight: bold; text-align: right;\">11</td><td style = \"text-align: left;\">1988-11-30</td><td style = \"text-align: right;\">0.0333328</td></tr><tr><td class = \"rowNumber\" style = \"font-weight: bold; text-align: right;\">12</td><td style = \"text-align: left;\">1988-12-30</td><td style = \"text-align: right;\">0.00882291</td></tr><tr><td class = \"rowNumber\" style = \"font-weight: bold; text-align: right;\">13</td><td style = \"text-align: left;\">1989-01-31</td><td style = \"text-align: right;\">0.0358213</td></tr><tr><td style = \"text-align: right;\">&vellip;</td><td style = \"text-align: right;\">&vellip;</td><td style = \"text-align: right;\">&vellip;</td></tr><tr><td class = \"rowNumber\" style = \"font-weight: bold; text-align: right;\">424</td><td style = \"text-align: left;\">2023-04-28</td><td style = \"text-align: right;\">0.0143719</td></tr><tr><td class = \"rowNumber\" style = \"font-weight: bold; text-align: right;\">425</td><td style = \"text-align: left;\">2023-05-31</td><td style = \"text-align: right;\">-0.0107115</td></tr><tr><td class = \"rowNumber\" style = \"font-weight: bold; text-align: right;\">426</td><td style = \"text-align: left;\">2023-06-30</td><td style = \"text-align: right;\">0.0580616</td></tr><tr><td class = \"rowNumber\" style = \"font-weight: bold; text-align: right;\">427</td><td style = \"text-align: left;\">2023-07-31</td><td style = \"text-align: right;\">0.0366085</td></tr><tr><td class = \"rowNumber\" style = \"font-weight: bold; text-align: right;\">428</td><td style = \"text-align: left;\">2023-08-31</td><td style = \"text-align: right;\">-0.0279443</td></tr><tr><td class = \"rowNumber\" style = \"font-weight: bold; text-align: right;\">429</td><td style = \"text-align: left;\">2023-09-29</td><td style = \"text-align: right;\">-0.0413498</td></tr><tr><td class = \"rowNumber\" style = \"font-weight: bold; text-align: right;\">430</td><td style = \"text-align: left;\">2023-10-31</td><td style = \"text-align: right;\">-0.0300677</td></tr><tr><td class = \"rowNumber\" style = \"font-weight: bold; text-align: right;\">431</td><td style = \"text-align: left;\">2023-11-30</td><td style = \"text-align: right;\">0.0922975</td></tr><tr><td class = \"rowNumber\" style = \"font-weight: bold; text-align: right;\">432</td><td style = \"text-align: left;\">2023-12-29</td><td style = \"text-align: right;\">0.0480334</td></tr><tr><td class = \"rowNumber\" style = \"font-weight: bold; text-align: right;\">433</td><td style = \"text-align: left;\">2024-01-31</td><td style = \"text-align: right;\">0.00586168</td></tr><tr><td class = \"rowNumber\" style = \"font-weight: bold; text-align: right;\">434</td><td style = \"text-align: left;\">2024-02-29</td><td style = \"text-align: right;\">0.0429136</td></tr><tr><td class = \"rowNumber\" style = \"font-weight: bold; text-align: right;\">435</td><td style = \"text-align: left;\">2024-03-29</td><td style = \"text-align: right;\">0.0313969</td></tr></tbody></table></div>"
      ],
      "text/latex": [
       "\\begin{tabular}{r|cc}\n",
       "\t& Date & ACWI\\\\\n",
       "\t\\hline\n",
       "\t& Date & Float64\\\\\n",
       "\t\\hline\n",
       "\t1 & 1988-01-29 & 0.0249309 \\\\\n",
       "\t2 & 1988-02-29 & 0.0576797 \\\\\n",
       "\t3 & 1988-03-31 & 0.0307011 \\\\\n",
       "\t4 & 1988-04-29 & 0.0125812 \\\\\n",
       "\t5 & 1988-05-31 & -0.0199201 \\\\\n",
       "\t6 & 1988-06-30 & -0.00119118 \\\\\n",
       "\t7 & 1988-07-29 & 0.0183463 \\\\\n",
       "\t8 & 1988-08-31 & -0.0551142 \\\\\n",
       "\t9 & 1988-09-30 & 0.0428067 \\\\\n",
       "\t10 & 1988-10-31 & 0.0652627 \\\\\n",
       "\t11 & 1988-11-30 & 0.0333328 \\\\\n",
       "\t12 & 1988-12-30 & 0.00882291 \\\\\n",
       "\t13 & 1989-01-31 & 0.0358213 \\\\\n",
       "\t14 & 1989-02-28 & -0.00630656 \\\\\n",
       "\t15 & 1989-03-31 & -0.00590322 \\\\\n",
       "\t16 & 1989-04-28 & 0.0247701 \\\\\n",
       "\t17 & 1989-05-31 & -0.0239828 \\\\\n",
       "\t18 & 1989-06-30 & -0.0142808 \\\\\n",
       "\t19 & 1989-07-31 & 0.112616 \\\\\n",
       "\t20 & 1989-08-31 & -0.0239031 \\\\\n",
       "\t21 & 1989-09-29 & 0.0298788 \\\\\n",
       "\t22 & 1989-10-31 & -0.032565 \\\\\n",
       "\t23 & 1989-11-30 & 0.0389515 \\\\\n",
       "\t24 & 1989-12-29 & 0.0324697 \\\\\n",
       "\t$\\dots$ & $\\dots$ & $\\dots$ \\\\\n",
       "\\end{tabular}\n"
      ],
      "text/plain": [
       "\u001b[1m435×2 DataFrame\u001b[0m\n",
       "\u001b[1m Row \u001b[0m│\u001b[1m Date       \u001b[0m\u001b[1m ACWI        \u001b[0m\n",
       "     │\u001b[90m Date       \u001b[0m\u001b[90m Float64     \u001b[0m\n",
       "─────┼─────────────────────────\n",
       "   1 │ 1988-01-29   0.0249309\n",
       "   2 │ 1988-02-29   0.0576797\n",
       "   3 │ 1988-03-31   0.0307011\n",
       "   4 │ 1988-04-29   0.0125812\n",
       "   5 │ 1988-05-31  -0.0199201\n",
       "   6 │ 1988-06-30  -0.00119118\n",
       "   7 │ 1988-07-29   0.0183463\n",
       "   8 │ 1988-08-31  -0.0551142\n",
       "  ⋮  │     ⋮            ⋮\n",
       " 429 │ 2023-09-29  -0.0413498\n",
       " 430 │ 2023-10-31  -0.0300677\n",
       " 431 │ 2023-11-30   0.0922975\n",
       " 432 │ 2023-12-29   0.0480334\n",
       " 433 │ 2024-01-31   0.00586168\n",
       " 434 │ 2024-02-29   0.0429136\n",
       " 435 │ 2024-03-29   0.0313969\n",
       "\u001b[36m               420 rows omitted\u001b[0m"
      ]
     },
     "metadata": {},
     "output_type": "display_data"
    }
   ],
   "source": [
    "acwi = DataFrame(XLSX.readtable(\"../esg/acwi_usd_net_03.04.24.xlsx\",\"acwi_usd_net_full\", header=true, infer_eltypes=true))\n",
    "acwi.Date = Date.(acwi.Date, dateformat\"u d, Y\")\n",
    "acwi"
   ]
  },
  {
   "cell_type": "code",
   "execution_count": 91,
   "metadata": {},
   "outputs": [
    {
     "name": "stdout",
     "output_type": "stream",
     "text": [
      "Summary Stats:\n",
      "Length:         435\n",
      "Missing Count:  0\n",
      "Mean:           0.007221\n",
      "Std. Deviation: 0.043966\n",
      "Minimum:        -0.198150\n",
      "1st Quartile:   -0.017986\n",
      "Median:         0.012573\n",
      "3rd Quartile:   0.033632\n",
      "Maximum:        0.123263\n",
      "Type:           Float64\n"
     ]
    }
   ],
   "source": [
    "describe(acwi.ACWI)"
   ]
  },
  {
   "cell_type": "code",
   "execution_count": 227,
   "metadata": {},
   "outputs": [],
   "source": [
    "#= init_guess = [0.5, 0.5]\n",
    "trans_guess = [0.6 0.4; 0.3 0.7]\n",
    "dists_guess = [MvNormal([-0.4, -0.7], I), MvNormal([0.4, 0.7], I)]\n",
    "hmm_guess = HMM(init_guess, trans_guess, dists_guess); =#\n",
    "\n",
    "init_guess = [0.5, 0.5]\n",
    "trans_guess = [0.9 0.1; 0.9 0.1]\n",
    "#dists_guess = [MvNormal([-0.1, -0.7], I), MvNormal([0.4, 0.7], I)]\n",
    "dists_guess = [Normal(-0.07,0.20),Normal(0.14,0.07)]\n",
    "hmm_guess = HMM(init_guess, trans_guess, dists_guess);"
   ]
  },
  {
   "cell_type": "code",
   "execution_count": 194,
   "metadata": {},
   "outputs": [],
   "source": [
    "hmm_est, loglikelihood_evolution = baum_welch(hmm_guess, acwi.ACWI);"
   ]
  },
  {
   "cell_type": "code",
   "execution_count": 195,
   "metadata": {},
   "outputs": [
    {
     "data": {
      "text/plain": [
       "774.9155810120484"
      ]
     },
     "metadata": {},
     "output_type": "display_data"
    }
   ],
   "source": [
    "last(loglikelihood_evolution)"
   ]
  },
  {
   "cell_type": "code",
   "execution_count": 104,
   "metadata": {},
   "outputs": [
    {
     "data": {
      "text/plain": [
       "2×2 Matrix{Float64}:\n",
       " 0.953852   0.0461485\n",
       " 0.0537106  0.946289"
      ]
     },
     "metadata": {},
     "output_type": "display_data"
    }
   ],
   "source": [
    "transition_matrix(hmm_est)"
   ]
  },
  {
   "cell_type": "code",
   "execution_count": 128,
   "metadata": {},
   "outputs": [
    {
     "data": {
      "text/plain": [
       "2-element Vector{Normal{Float64}}:\n",
       " Normal{Float64}(μ=0.0015860352863334213, σ=0.05502964773221741)\n",
       " Normal{Float64}(μ=0.013469406460119963, σ=0.025198679554070277)"
      ]
     },
     "metadata": {},
     "output_type": "display_data"
    }
   ],
   "source": [
    "obs_distributions(hmm_est)"
   ]
  },
  {
   "cell_type": "code",
   "execution_count": 130,
   "metadata": {},
   "outputs": [
    {
     "name": "stdout",
     "output_type": "stream",
     "text": [
      "regime 1\n",
      "0.019032423436001054\n",
      "0.190628291589636\n",
      "regime 2\n",
      "0.16163287752143957\n",
      "0.08729078654259356\n"
     ]
    }
   ],
   "source": [
    "println(\"regime 1\")\n",
    "println(mean(obs_distributions(hmm_est)[1])*12)\n",
    "println(std(obs_distributions(hmm_est)[1])* 12^0.5)\n",
    "println(\"regime 2\")\n",
    "println(mean(obs_distributions(hmm_est)[2])*12)\n",
    "println(std(obs_distributions(hmm_est)[2])* 12^0.5)"
   ]
  },
  {
   "cell_type": "code",
   "execution_count": 115,
   "metadata": {},
   "outputs": [
    {
     "data": {
      "text/html": [
       "<div><div style = \"float: left;\"><span>255×2 DataFrame</span></div><div style = \"float: right;\"><span style = \"font-style: italic;\">230 rows omitted</span></div><div style = \"clear: both;\"></div></div><div class = \"data-frame\" style = \"overflow-x: scroll;\"><table class = \"data-frame\" style = \"margin-bottom: 6px;\"><thead><tr class = \"header\"><th class = \"rowNumber\" style = \"font-weight: bold; text-align: right;\">Row</th><th style = \"text-align: left;\">Date</th><th style = \"text-align: left;\">ACWI</th></tr><tr class = \"subheader headerLastRow\"><th class = \"rowNumber\" style = \"font-weight: bold; text-align: right;\"></th><th title = \"Date\" style = \"text-align: left;\">Date</th><th title = \"Float64\" style = \"text-align: left;\">Float64</th></tr></thead><tbody><tr><td class = \"rowNumber\" style = \"font-weight: bold; text-align: right;\">1</td><td style = \"text-align: left;\">2003-01-31</td><td style = \"text-align: right;\">-0.0294357</td></tr><tr><td class = \"rowNumber\" style = \"font-weight: bold; text-align: right;\">2</td><td style = \"text-align: left;\">2003-02-28</td><td style = \"text-align: right;\">-0.017938</td></tr><tr><td class = \"rowNumber\" style = \"font-weight: bold; text-align: right;\">3</td><td style = \"text-align: left;\">2003-03-31</td><td style = \"text-align: right;\">-0.00431422</td></tr><tr><td class = \"rowNumber\" style = \"font-weight: bold; text-align: right;\">4</td><td style = \"text-align: left;\">2003-04-30</td><td style = \"text-align: right;\">0.0886378</td></tr><tr><td class = \"rowNumber\" style = \"font-weight: bold; text-align: right;\">5</td><td style = \"text-align: left;\">2003-05-30</td><td style = \"text-align: right;\">0.0574971</td></tr><tr><td class = \"rowNumber\" style = \"font-weight: bold; text-align: right;\">6</td><td style = \"text-align: left;\">2003-06-30</td><td style = \"text-align: right;\">0.0187239</td></tr><tr><td class = \"rowNumber\" style = \"font-weight: bold; text-align: right;\">7</td><td style = \"text-align: left;\">2003-07-31</td><td style = \"text-align: right;\">0.0218749</td></tr><tr><td class = \"rowNumber\" style = \"font-weight: bold; text-align: right;\">8</td><td style = \"text-align: left;\">2003-08-29</td><td style = \"text-align: right;\">0.0233834</td></tr><tr><td class = \"rowNumber\" style = \"font-weight: bold; text-align: right;\">9</td><td style = \"text-align: left;\">2003-09-30</td><td style = \"text-align: right;\">0.00607447</td></tr><tr><td class = \"rowNumber\" style = \"font-weight: bold; text-align: right;\">10</td><td style = \"text-align: left;\">2003-10-31</td><td style = \"text-align: right;\">0.0603779</td></tr><tr><td class = \"rowNumber\" style = \"font-weight: bold; text-align: right;\">11</td><td style = \"text-align: left;\">2003-11-28</td><td style = \"text-align: right;\">0.0149736</td></tr><tr><td class = \"rowNumber\" style = \"font-weight: bold; text-align: right;\">12</td><td style = \"text-align: left;\">2003-12-31</td><td style = \"text-align: right;\">0.0631066</td></tr><tr><td class = \"rowNumber\" style = \"font-weight: bold; text-align: right;\">13</td><td style = \"text-align: left;\">2004-01-30</td><td style = \"text-align: right;\">0.0168908</td></tr><tr><td style = \"text-align: right;\">&vellip;</td><td style = \"text-align: right;\">&vellip;</td><td style = \"text-align: right;\">&vellip;</td></tr><tr><td class = \"rowNumber\" style = \"font-weight: bold; text-align: right;\">244</td><td style = \"text-align: left;\">2023-04-28</td><td style = \"text-align: right;\">0.0143719</td></tr><tr><td class = \"rowNumber\" style = \"font-weight: bold; text-align: right;\">245</td><td style = \"text-align: left;\">2023-05-31</td><td style = \"text-align: right;\">-0.0107115</td></tr><tr><td class = \"rowNumber\" style = \"font-weight: bold; text-align: right;\">246</td><td style = \"text-align: left;\">2023-06-30</td><td style = \"text-align: right;\">0.0580616</td></tr><tr><td class = \"rowNumber\" style = \"font-weight: bold; text-align: right;\">247</td><td style = \"text-align: left;\">2023-07-31</td><td style = \"text-align: right;\">0.0366085</td></tr><tr><td class = \"rowNumber\" style = \"font-weight: bold; text-align: right;\">248</td><td style = \"text-align: left;\">2023-08-31</td><td style = \"text-align: right;\">-0.0279443</td></tr><tr><td class = \"rowNumber\" style = \"font-weight: bold; text-align: right;\">249</td><td style = \"text-align: left;\">2023-09-29</td><td style = \"text-align: right;\">-0.0413498</td></tr><tr><td class = \"rowNumber\" style = \"font-weight: bold; text-align: right;\">250</td><td style = \"text-align: left;\">2023-10-31</td><td style = \"text-align: right;\">-0.0300677</td></tr><tr><td class = \"rowNumber\" style = \"font-weight: bold; text-align: right;\">251</td><td style = \"text-align: left;\">2023-11-30</td><td style = \"text-align: right;\">0.0922975</td></tr><tr><td class = \"rowNumber\" style = \"font-weight: bold; text-align: right;\">252</td><td style = \"text-align: left;\">2023-12-29</td><td style = \"text-align: right;\">0.0480334</td></tr><tr><td class = \"rowNumber\" style = \"font-weight: bold; text-align: right;\">253</td><td style = \"text-align: left;\">2024-01-31</td><td style = \"text-align: right;\">0.00586168</td></tr><tr><td class = \"rowNumber\" style = \"font-weight: bold; text-align: right;\">254</td><td style = \"text-align: left;\">2024-02-29</td><td style = \"text-align: right;\">0.0429136</td></tr><tr><td class = \"rowNumber\" style = \"font-weight: bold; text-align: right;\">255</td><td style = \"text-align: left;\">2024-03-29</td><td style = \"text-align: right;\">0.0313969</td></tr></tbody></table></div>"
      ],
      "text/latex": [
       "\\begin{tabular}{r|cc}\n",
       "\t& Date & ACWI\\\\\n",
       "\t\\hline\n",
       "\t& Date & Float64\\\\\n",
       "\t\\hline\n",
       "\t1 & 2003-01-31 & -0.0294357 \\\\\n",
       "\t2 & 2003-02-28 & -0.017938 \\\\\n",
       "\t3 & 2003-03-31 & -0.00431422 \\\\\n",
       "\t4 & 2003-04-30 & 0.0886378 \\\\\n",
       "\t5 & 2003-05-30 & 0.0574971 \\\\\n",
       "\t6 & 2003-06-30 & 0.0187239 \\\\\n",
       "\t7 & 2003-07-31 & 0.0218749 \\\\\n",
       "\t8 & 2003-08-29 & 0.0233834 \\\\\n",
       "\t9 & 2003-09-30 & 0.00607447 \\\\\n",
       "\t10 & 2003-10-31 & 0.0603779 \\\\\n",
       "\t11 & 2003-11-28 & 0.0149736 \\\\\n",
       "\t12 & 2003-12-31 & 0.0631066 \\\\\n",
       "\t13 & 2004-01-30 & 0.0168908 \\\\\n",
       "\t14 & 2004-02-27 & 0.0180975 \\\\\n",
       "\t15 & 2004-03-31 & -0.00571557 \\\\\n",
       "\t16 & 2004-04-30 & -0.023487 \\\\\n",
       "\t17 & 2004-05-31 & 0.00776471 \\\\\n",
       "\t18 & 2004-06-30 & 0.0197908 \\\\\n",
       "\t19 & 2004-07-30 & -0.0320061 \\\\\n",
       "\t20 & 2004-08-31 & 0.00609399 \\\\\n",
       "\t21 & 2004-09-30 & 0.0207609 \\\\\n",
       "\t22 & 2004-10-29 & 0.024445 \\\\\n",
       "\t23 & 2004-11-30 & 0.0545021 \\\\\n",
       "\t24 & 2004-12-31 & 0.0386893 \\\\\n",
       "\t$\\dots$ & $\\dots$ & $\\dots$ \\\\\n",
       "\\end{tabular}\n"
      ],
      "text/plain": [
       "\u001b[1m255×2 DataFrame\u001b[0m\n",
       "\u001b[1m Row \u001b[0m│\u001b[1m Date       \u001b[0m\u001b[1m ACWI        \u001b[0m\n",
       "     │\u001b[90m Date       \u001b[0m\u001b[90m Float64     \u001b[0m\n",
       "─────┼─────────────────────────\n",
       "   1 │ 2003-01-31  -0.0294357\n",
       "   2 │ 2003-02-28  -0.017938\n",
       "   3 │ 2003-03-31  -0.00431422\n",
       "   4 │ 2003-04-30   0.0886378\n",
       "   5 │ 2003-05-30   0.0574971\n",
       "   6 │ 2003-06-30   0.0187239\n",
       "   7 │ 2003-07-31   0.0218749\n",
       "   8 │ 2003-08-29   0.0233834\n",
       "  ⋮  │     ⋮            ⋮\n",
       " 249 │ 2023-09-29  -0.0413498\n",
       " 250 │ 2023-10-31  -0.0300677\n",
       " 251 │ 2023-11-30   0.0922975\n",
       " 252 │ 2023-12-29   0.0480334\n",
       " 253 │ 2024-01-31   0.00586168\n",
       " 254 │ 2024-02-29   0.0429136\n",
       " 255 │ 2024-03-29   0.0313969\n",
       "\u001b[36m               240 rows omitted\u001b[0m"
      ]
     },
     "metadata": {},
     "output_type": "display_data"
    }
   ],
   "source": [
    "acwi_short = acwi[Date(2003,01,01) .<= acwi.Date .<= Date(2024,03,31), :]"
   ]
  },
  {
   "cell_type": "code",
   "execution_count": 143,
   "metadata": {},
   "outputs": [
    {
     "name": "stdout",
     "output_type": "stream",
     "text": [
      "0.007221256079983577\n",
      "0.04396581164211372\n",
      "0.00820031798641316\n",
      "0.044712591384382244\n"
     ]
    }
   ],
   "source": [
    "println(mean(acwi.ACWI))\n",
    "println(std(acwi.ACWI))\n",
    "println(mean(acwi_short.ACWI))\n",
    "println(std(acwi_short.ACWI))\n"
   ]
  },
  {
   "cell_type": "code",
   "execution_count": 131,
   "metadata": {},
   "outputs": [],
   "source": [
    "hmm_est, loglikelihood_evolution = baum_welch(hmm_guess, acwi_short.ACWI);"
   ]
  },
  {
   "cell_type": "code",
   "execution_count": 174,
   "metadata": {},
   "outputs": [
    {
     "data": {
      "text/plain": [
       "21406.816838901992"
      ]
     },
     "metadata": {},
     "output_type": "display_data"
    }
   ],
   "source": [
    "last(loglikelihood_evolution)"
   ]
  },
  {
   "cell_type": "code",
   "execution_count": 136,
   "metadata": {},
   "outputs": [
    {
     "data": {
      "text/plain": [
       "HMM{Vector{Float64}, Matrix{Float64}, Vector{Normal{Float64}}}"
      ]
     },
     "metadata": {},
     "output_type": "display_data"
    }
   ],
   "source": [
    "typeof(hmm_est)"
   ]
  },
  {
   "cell_type": "code",
   "execution_count": 132,
   "metadata": {},
   "outputs": [
    {
     "data": {
      "text/plain": [
       "2×2 Matrix{Float64}:\n",
       " 0.932483   0.0675174\n",
       " 0.0569406  0.943059"
      ]
     },
     "metadata": {},
     "output_type": "display_data"
    }
   ],
   "source": [
    "transition_matrix(hmm_est)"
   ]
  },
  {
   "cell_type": "code",
   "execution_count": 133,
   "metadata": {},
   "outputs": [
    {
     "data": {
      "text/plain": [
       "2-element Vector{Normal{Float64}}:\n",
       " Normal{Float64}(μ=0.001677850881617401, σ=0.05909238647054062)\n",
       " Normal{Float64}(μ=0.014143605791660168, σ=0.02345202862629552)"
      ]
     },
     "metadata": {},
     "output_type": "display_data"
    }
   ],
   "source": [
    "obs_distributions(hmm_est)"
   ]
  },
  {
   "cell_type": "code",
   "execution_count": 135,
   "metadata": {},
   "outputs": [
    {
     "name": "stdout",
     "output_type": "stream",
     "text": [
      "regime 1\n",
      "0.020134210579408812\n",
      "0.20470203141494414\n",
      "regime 2\n",
      "0.169723269499922\n",
      "0.08124021024260716\n"
     ]
    }
   ],
   "source": [
    "println(\"regime 1\")\n",
    "println(mean(obs_distributions(hmm_est)[1])*12)\n",
    "println(std(obs_distributions(hmm_est)[1])* 12^0.5)\n",
    "println(\"regime 2\")\n",
    "println(mean(obs_distributions(hmm_est)[2])*12)\n",
    "println(std(obs_distributions(hmm_est)[2])* 12^0.5)"
   ]
  },
  {
   "cell_type": "code",
   "execution_count": 137,
   "metadata": {},
   "outputs": [
    {
     "data": {
      "text/plain": [
       "2-element Vector{Float64}:\n",
       " 1.0\n",
       " 5.644524055265908e-50"
      ]
     },
     "metadata": {},
     "output_type": "display_data"
    }
   ],
   "source": [
    "initialization(hmm_est)"
   ]
  },
  {
   "cell_type": "code",
   "execution_count": 216,
   "metadata": {},
   "outputs": [
    {
     "data": {
      "text/plain": [
       "1000×50 Matrix{Float64}:\n",
       "  0.183608   0.040727   0.130638  …   0.310636   0.259417   0.106576\n",
       "  0.057796  -0.015669   0.01473       0.181475   0.038817   0.09112\n",
       " -0.042034   0.071062   0.211914      0.271774   0.03051    0.014144\n",
       "  0.048233   0.002585   0.069304      0.161997   0.150916  -0.458586\n",
       " -0.097277   0.278737   0.249458      0.054621   0.20249    0.148626\n",
       "  0.168582   0.058298   0.174671  …  -0.057467  -0.037438   0.030723\n",
       "  0.096997   0.214256  -0.246285      0.148997   0.192833   0.181174\n",
       "  0.254872   0.054849   0.014113      0.13077    0.066608  -0.076274\n",
       "  0.263792   0.213822   0.260164      0.309639   0.022386   0.268776\n",
       "  0.065249  -0.206639   0.347267      0.165357   0.180862   0.298468\n",
       "  ⋮                               ⋱                        \n",
       "  0.313924   0.116269   0.06669       0.226258   0.172806   0.186851\n",
       "  0.296246  -0.045214   0.231189      0.156628   0.218297  -0.019684\n",
       " -0.071925  -0.124002  -0.197512      0.287149  -0.01889    0.176335\n",
       "  0.184442   0.25052    0.034399      0.194625   0.45393    0.242302\n",
       "  0.101056   0.231068   0.14968   …   0.201442   0.278008   0.175155\n",
       "  0.16811   -0.059544   0.18523       0.167594   0.056485   0.097455\n",
       "  0.225259   0.343085  -0.10246       0.32211    0.005146  -0.074045\n",
       "  0.214919   0.258416   0.265878      0.007766  -0.220639  -0.240624\n",
       " -0.006306   0.003264  -0.168227      0.129483   0.165093   0.100469"
      ]
     },
     "metadata": {},
     "output_type": "display_data"
    }
   ],
   "source": [
    "simulated_ACWI = Matrix(CSV.read(\"../sb_gbi/equity_scenarios.csv\",DataFrame))[1:1000,:]"
   ]
  },
  {
   "cell_type": "code",
   "execution_count": 217,
   "metadata": {},
   "outputs": [
    {
     "data": {
      "text/plain": [
       "(1000, 50)"
      ]
     },
     "metadata": {},
     "output_type": "display_data"
    }
   ],
   "source": [
    "size(simulated_ACWI)"
   ]
  },
  {
   "cell_type": "code",
   "execution_count": 218,
   "metadata": {},
   "outputs": [
    {
     "data": {
      "text/plain": [
       "1000-element Vector{SubArray{Float64, 1, Matrix{Float64}, Tuple{Int64, Base.Slice{Base.OneTo{Int64}}}, true}}:\n",
       " [0.183608, 0.040727, 0.130638, 0.167958, -0.178384, 0.032183, 0.122386, -0.049013, -0.230813, -0.230181  …  0.005541, 0.204203, 0.084194, -0.195554, 0.164883, 0.105274, 0.357969, 0.310636, 0.259417, 0.106576]\n",
       " [0.057796, -0.015669, 0.01473, 0.15795, -0.133039, -0.024649, -0.002556, 0.101583, 0.042812, 0.170594  …  0.049197, 0.108522, 0.101433, 0.089037, -0.170575, 0.116987, 0.206452, 0.181475, 0.038817, 0.09112]\n",
       " [-0.042034, 0.071062, 0.211914, 0.19843, 0.246116, 0.020742, 0.222028, 0.107744, 0.092587, -0.058472  …  0.102718, -0.002485, 0.148345, 0.101275, 0.009295, -0.09912, 0.207978, 0.271774, 0.03051, 0.014144]\n",
       " [0.048233, 0.002585, 0.069304, -0.053078, -0.156461, 0.279966, 0.010687, -0.049629, -0.09302, 0.076925  …  0.148934, 0.199687, 0.071429, 0.031693, -0.138951, -0.069515, 0.008906, 0.161997, 0.150916, -0.458586]\n",
       " [-0.097277, 0.278737, 0.249458, 0.093802, 0.071716, 0.007833, -0.044492, 0.27408, 0.007423, 0.120966  …  0.069595, 0.084146, 0.252396, 0.066664, -0.01117, 0.187069, 0.16909, 0.054621, 0.20249, 0.148626]\n",
       " [0.168582, 0.058298, 0.174671, 0.053517, 0.120783, -0.026617, -0.128085, 0.263776, 0.222432, -0.43126  …  -0.105375, 0.053958, 0.212825, 0.09488, -0.14029, 0.305078, 0.117021, -0.057467, -0.037438, 0.030723]\n",
       " [0.096997, 0.214256, -0.246285, 0.101426, -0.013663, 0.091762, 0.16234, 0.156753, 0.262639, 0.265522  …  0.313971, 0.300262, -0.062998, 0.125314, -0.00479, 0.22549, -0.03921, 0.148997, 0.192833, 0.181174]\n",
       " [0.254872, 0.054849, 0.014113, 0.050083, 0.096513, 0.194278, 0.174557, -0.026266, 0.150205, 0.215805  …  -0.164164, 0.254279, 0.220169, 0.424164, -0.203533, 0.065705, 0.244337, 0.13077, 0.066608, -0.076274]\n",
       " [0.263792, 0.213822, 0.260164, 0.165852, -0.095746, 0.118661, 0.380304, 0.07162, 0.217015, 0.120915  …  -0.052968, 0.302246, -0.056706, 0.079528, -0.019712, -0.060261, 0.350791, 0.309639, 0.022386, 0.268776]\n",
       " [0.065249, -0.206639, 0.347267, 0.139976, 0.096268, 0.295499, -0.036365, -0.051369, 0.229933, 0.158859  …  0.151086, 0.087186, -0.017823, 0.27387, 0.046145, 0.263622, 0.30375, 0.165357, 0.180862, 0.298468]\n",
       " ⋮\n",
       " [0.313924, 0.116269, 0.06669, 0.193185, 0.251809, 0.1943, 0.128416, 0.077085, 0.046387, -0.235545  …  0.113613, 0.217161, 0.023309, -0.120849, -0.090722, 0.032606, 0.183244, 0.226258, 0.172806, 0.186851]\n",
       " [0.296246, -0.045214, 0.231189, 0.376381, 0.078314, 0.010838, -0.258677, -0.204192, 0.12811, -0.079875  …  0.077766, -0.023828, 0.431024, 0.17327, 0.100539, 0.020666, 0.049058, 0.156628, 0.218297, -0.019684]\n",
       " [-0.071925, -0.124002, -0.197512, -0.197372, -0.018476, -0.085989, 0.13312, -0.04578, 0.001198, -0.107408  …  -0.023506, 0.305839, 0.243996, 0.210333, 0.031297, 0.35298, 0.264177, 0.287149, -0.01889, 0.176335]\n",
       " [0.184442, 0.25052, 0.034399, 0.169406, 0.248912, 0.092772, 0.064621, 0.228597, -0.090253, -0.213636  …  -0.131431, 0.192934, 0.197379, 0.161435, 0.173789, -0.143916, 0.094062, 0.194625, 0.45393, 0.242302]\n",
       " [0.101056, 0.231068, 0.14968, 0.112059, 0.049651, 0.015231, 0.037451, 0.356026, 0.088309, 0.23431  …  0.120966, -0.20399, -0.285041, -0.02051, 0.147409, 0.149745, 0.147472, 0.201442, 0.278008, 0.175155]\n",
       " [0.16811, -0.059544, 0.18523, 0.160326, 0.057354, 0.084926, 0.198039, -0.03069, 0.172924, 0.193134  …  0.116784, 0.202264, -0.076838, 0.061043, 0.252179, -0.015819, -0.095575, 0.167594, 0.056485, 0.097455]\n",
       " [0.225259, 0.343085, -0.10246, -0.17801, 0.273577, 0.032287, 0.050325, 0.2387, 0.090046, 0.300772  …  0.114698, 0.218164, 0.087214, 0.093594, 0.161714, 0.131338, 0.015505, 0.32211, 0.005146, -0.074045]\n",
       " [0.214919, 0.258416, 0.265878, 0.171645, 0.150923, 0.087339, -0.017744, 0.154115, 0.01101, -0.002324  …  0.118329, -0.234962, 0.115707, 0.326801, 0.027538, 0.079447, 0.210272, 0.007766, -0.220639, -0.240624]\n",
       " [-0.006306, 0.003264, -0.168227, -0.181723, 0.06904, 0.473684, 0.225315, -0.038902, -0.160279, 0.15773  …  -0.204997, -0.167158, -0.16384, 0.079, 0.037215, -0.039934, -0.097223, 0.129483, 0.165093, 0.100469]"
      ]
     },
     "metadata": {},
     "output_type": "display_data"
    }
   ],
   "source": [
    "simulated_ACWI = [row for row in eachrow(simulated_ACWI)]"
   ]
  },
  {
   "cell_type": "code",
   "execution_count": 234,
   "metadata": {},
   "outputs": [
    {
     "data": {
      "text/plain": [
       "1000-element Vector{Int64}:\n",
       "    50\n",
       "   100\n",
       "   150\n",
       "   200\n",
       "   250\n",
       "   300\n",
       "   350\n",
       "   400\n",
       "   450\n",
       "   500\n",
       "     ⋮\n",
       " 49600\n",
       " 49650\n",
       " 49700\n",
       " 49750\n",
       " 49800\n",
       " 49850\n",
       " 49900\n",
       " 49950\n",
       " 50000"
      ]
     },
     "metadata": {},
     "output_type": "display_data"
    }
   ],
   "source": [
    "seq_ends = cumsum(length.(simulated_ACWI))"
   ]
  },
  {
   "cell_type": "code",
   "execution_count": 233,
   "metadata": {},
   "outputs": [
    {
     "data": {
      "text/plain": [
       "1000-element Vector{Int64}:\n",
       "    1\n",
       "    2\n",
       "    3\n",
       "    4\n",
       "    5\n",
       "    6\n",
       "    7\n",
       "    8\n",
       "    9\n",
       "   10\n",
       "    ⋮\n",
       "  992\n",
       "  993\n",
       "  994\n",
       "  995\n",
       "  996\n",
       "  997\n",
       "  998\n",
       "  999\n",
       " 1000"
      ]
     },
     "metadata": {},
     "output_type": "display_data"
    }
   ],
   "source": [
    "seq_end = cumsum(size(simulated_ACWI,2) for s in 1:size(simulated_ACWI,1))\n",
    "seq_end"
   ]
  },
  {
   "cell_type": "code",
   "execution_count": 212,
   "metadata": {},
   "outputs": [
    {
     "data": {
      "text/plain": [
       "50000"
      ]
     },
     "metadata": {},
     "output_type": "display_data"
    }
   ],
   "source": [
    "length(simulated_ACWI)"
   ]
  },
  {
   "cell_type": "code",
   "execution_count": 222,
   "metadata": {},
   "outputs": [
    {
     "data": {
      "text/plain": [
       "50000-element Vector{Float64}:\n",
       "  0.183608\n",
       "  0.040727\n",
       "  0.130638\n",
       "  0.167958\n",
       " -0.178384\n",
       "  0.032183\n",
       "  0.122386\n",
       " -0.049013\n",
       " -0.230813\n",
       " -0.230181\n",
       "  ⋮\n",
       " -0.167158\n",
       " -0.16384\n",
       "  0.079\n",
       "  0.037215\n",
       " -0.039934\n",
       " -0.097223\n",
       "  0.129483\n",
       "  0.165093\n",
       "  0.100469"
      ]
     },
     "metadata": {},
     "output_type": "display_data"
    }
   ],
   "source": [
    "seq_concat = reduce(vcat, simulated_ACWI)"
   ]
  },
  {
   "cell_type": "code",
   "execution_count": 223,
   "metadata": {},
   "outputs": [
    {
     "data": {
      "text/plain": [
       "Vector{Int64}\u001b[90m (alias for \u001b[39m\u001b[90mArray{Int64, 1}\u001b[39m\u001b[90m)\u001b[39m"
      ]
     },
     "metadata": {},
     "output_type": "display_data"
    }
   ],
   "source": [
    "typeof(seq_end)"
   ]
  },
  {
   "cell_type": "code",
   "execution_count": 235,
   "metadata": {},
   "outputs": [
    {
     "ename": "MethodError",
     "evalue": "MethodError: no method matching baum_welch(::HMM{Vector{Float64}, Matrix{Float64}, Vector{Normal{Float64}}}, ::Vector{Float64}, ::FillArrays.Fill{Nothing, 1, Tuple{Base.OneTo{Int64}}}; seq_end::Vector{Int64})\n\nClosest candidates are:\n  baum_welch(::AbstractHMM, ::AbstractVector, ::AbstractVector; seq_ends, atol, max_iterations, loglikelihood_increasing) got unsupported keyword argument \"seq_end\"\n   @ HiddenMarkovModels C:\\Users\\matsz\\.julia\\packages\\HiddenMarkovModels\\y95cy\\src\\inference\\baum_welch.jl:54\n  baum_welch(::AbstractHMM, ::AbstractVector; ...)\n   @ HiddenMarkovModels C:\\Users\\matsz\\.julia\\packages\\HiddenMarkovModels\\y95cy\\src\\inference\\baum_welch.jl:54\n",
     "output_type": "error",
     "traceback": [
      "MethodError: no method matching baum_welch(::HMM{Vector{Float64}, Matrix{Float64}, Vector{Normal{Float64}}}, ::Vector{Float64}, ::FillArrays.Fill{Nothing, 1, Tuple{Base.OneTo{Int64}}}; seq_end::Vector{Int64})\n",
      "\n",
      "Closest candidates are:\n",
      "  baum_welch(::AbstractHMM, ::AbstractVector, ::AbstractVector; seq_ends, atol, max_iterations, loglikelihood_increasing) got unsupported keyword argument \"seq_end\"\n",
      "   @ HiddenMarkovModels C:\\Users\\matsz\\.julia\\packages\\HiddenMarkovModels\\y95cy\\src\\inference\\baum_welch.jl:54\n",
      "  baum_welch(::AbstractHMM, ::AbstractVector; ...)\n",
      "   @ HiddenMarkovModels C:\\Users\\matsz\\.julia\\packages\\HiddenMarkovModels\\y95cy\\src\\inference\\baum_welch.jl:54\n",
      "\n",
      "\n",
      "Stacktrace:\n",
      " [1] kwerr(::@NamedTuple{seq_end::Vector{Int64}}, ::Function, ::HMM{Vector{Float64}, Matrix{Float64}, Vector{Normal{Float64}}}, ::Vector{Float64}, ::FillArrays.Fill{Nothing, 1, Tuple{Base.OneTo{Int64}}})\n",
      "   @ Base .\\error.jl:165\n",
      " [2] top-level scope\n",
      "   @ c:\\Users\\matsz\\programowanie\\Optymalizacja portfela\\julia_msp\\hmm.ipynb:1"
     ]
    }
   ],
   "source": [
    "hmm_est, _ = baum_welch(hmm_guess, seq_concat;seq_end);"
   ]
  },
  {
   "cell_type": "code",
   "execution_count": 231,
   "metadata": {},
   "outputs": [
    {
     "data": {
      "text/plain": [
       "2-element Vector{Normal{Float64}}:\n",
       " Normal{Float64}(μ=0.03021809892555822, σ=0.1671953920109272)\n",
       " Normal{Float64}(μ=0.1479416812996293, σ=0.11580532147295382)"
      ]
     },
     "metadata": {},
     "output_type": "display_data"
    }
   ],
   "source": [
    "obs_distributions(hmm_est)"
   ]
  },
  {
   "cell_type": "code",
   "execution_count": 232,
   "metadata": {},
   "outputs": [
    {
     "data": {
      "text/plain": [
       "2×2 Matrix{Float64}:\n",
       " 0.791468  0.208532\n",
       " 0.288195  0.711805"
      ]
     },
     "metadata": {},
     "output_type": "display_data"
    }
   ],
   "source": [
    "transition_matrix(hmm_est)"
   ]
  },
  {
   "cell_type": "code",
   "execution_count": 214,
   "metadata": {},
   "outputs": [
    {
     "data": {
      "text/plain": [
       "Vector{Vector{Vector{Float64}}}\u001b[90m (alias for \u001b[39m\u001b[90mArray{Array{Array{Float64, 1}, 1}, 1}\u001b[39m\u001b[90m)\u001b[39m"
      ]
     },
     "metadata": {},
     "output_type": "display_data"
    }
   ],
   "source": [
    "nb_seqs = 100\n",
    "long_obs_seqs = [last(rand(rng, hmm, rand(rng, 100:200))) for k in 1:nb_seqs];\n",
    "typeof(long_obs_seqs)"
   ]
  },
  {
   "cell_type": "code",
   "execution_count": 213,
   "metadata": {},
   "outputs": [
    {
     "data": {
      "text/plain": [
       "Vector{Vector{Float64}}\u001b[90m (alias for \u001b[39m\u001b[90mArray{Array{Float64, 1}, 1}\u001b[39m\u001b[90m)\u001b[39m"
      ]
     },
     "metadata": {},
     "output_type": "display_data"
    }
   ],
   "source": [
    "long_obs_seq_concat = reduce(vcat, long_obs_seqs)\n",
    "typeof(long_obs_seq_concat)"
   ]
  },
  {
   "cell_type": "code",
   "execution_count": 207,
   "metadata": {},
   "outputs": [
    {
     "data": {
      "text/plain": [
       "100-element Vector{Int64}:\n",
       "   147\n",
       "   312\n",
       "   512\n",
       "   624\n",
       "   780\n",
       "   902\n",
       "  1050\n",
       "  1208\n",
       "  1371\n",
       "  1569\n",
       "     ⋮\n",
       " 14155\n",
       " 14266\n",
       " 14385\n",
       " 14521\n",
       " 14660\n",
       " 14804\n",
       " 14987\n",
       " 15093\n",
       " 15261"
      ]
     },
     "metadata": {},
     "output_type": "display_data"
    }
   ],
   "source": [
    "seq_ends = cumsum(length.(long_obs_seqs))\n",
    "seq_ends"
   ]
  },
  {
   "cell_type": "code",
   "execution_count": 225,
   "metadata": {},
   "outputs": [],
   "source": [
    "init_guess = [0.5, 0.5]\n",
    "trans_guess = [0.6 0.4; 0.3 0.7]\n",
    "dists_guess = [MvNormal([-0.4, -0.7], I), MvNormal([0.4, 0.7], I)]\n",
    "hmm_guess = HMM(init_guess, trans_guess, dists_guess);"
   ]
  },
  {
   "cell_type": "code",
   "execution_count": 204,
   "metadata": {},
   "outputs": [],
   "source": [
    "hmm_est_concat, _ = baum_welch(hmm_guess, long_obs_seq_concat; seq_ends);"
   ]
  }
 ],
 "metadata": {
  "kernelspec": {
   "display_name": "Julia 1.10.2",
   "language": "julia",
   "name": "julia-1.10"
  },
  "language_info": {
   "file_extension": ".jl",
   "mimetype": "application/julia",
   "name": "julia",
   "version": "1.10.2"
  }
 },
 "nbformat": 4,
 "nbformat_minor": 2
}
