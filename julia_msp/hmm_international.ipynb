{
 "cells": [
  {
   "cell_type": "code",
   "execution_count": 14,
   "metadata": {},
   "outputs": [
    {
     "data": {
      "text/plain": [
       "regime_summary (generic function with 1 method)"
      ]
     },
     "metadata": {},
     "output_type": "display_data"
    }
   ],
   "source": [
    "using XLSX\n",
    "using DataFrames, TimeSeries\n",
    "using StatsPlots\n",
    "using Plots\n",
    "using LinearAlgebra\n",
    "using CSV\n",
    "using StatsBase\n",
    "using GLM\n",
    "include(\"utils.jl\")\n",
    "include(\"hmm_est.jl\")"
   ]
  },
  {
   "cell_type": "code",
   "execution_count": 188,
   "metadata": {},
   "outputs": [
    {
     "data": {
      "text/plain": [
       "435×4 TimeArray{Float64, 2, Date, Matrix{Float64}} 1988-01-31 to 2024-03-31\n",
       "┌────────────┬────────────┬──────────────┬─────────────┬─────────────┐\n",
       "│\u001b[1m            \u001b[0m│\u001b[1m USA_Net    \u001b[0m│\u001b[1m World_ex_USA \u001b[0m│\u001b[1m EM_Net      \u001b[0m│\u001b[1m ACWI_Net    \u001b[0m│\n",
       "├────────────┼────────────┼──────────────┼─────────────┼─────────────┤\n",
       "│ 1988-01-31 │  0.0410122 │    0.0153553 │   0.0935834 │   0.0246253 │\n",
       "│ 1988-02-29 │  0.0401109 │    0.0640862 │   0.0031132 │   0.0560778 │\n",
       "│ 1988-03-31 │ -0.0349774 │    0.0592025 │     0.10175 │   0.0302388 │\n",
       "│ 1988-04-30 │ 0.00818061 │    0.0140195 │   0.0517417 │   0.0125024 │\n",
       "│ 1988-05-31 │ 0.00760205 │   -0.0326806 │   0.0292525 │  -0.0201209 │\n",
       "│ 1988-06-30 │  0.0445733 │   -0.0229028 │   0.0331365 │ -0.00119203 │\n",
       "│ 1988-07-31 │ -0.0040323 │    0.0288082 │  -0.0260317 │     0.01818 │\n",
       "│ 1988-08-31 │  -0.035096 │   -0.0667177 │  -0.0274362 │  -0.0566908 │\n",
       "│     ⋮      │     ⋮      │      ⋮       │      ⋮      │      ⋮      │\n",
       "│ 2023-09-30 │ -0.0483353 │   -0.0342956 │  -0.0264995 │   -0.042229 │\n",
       "│ 2023-10-31 │ -0.0235616 │   -0.0431263 │   -0.039629 │   -0.030529 │\n",
       "│ 2023-11-30 │  0.0895259 │    0.0898198 │   0.0769883 │   0.0882833 │\n",
       "│ 2023-12-31 │  0.0456572 │    0.0532219 │   0.0383487 │   0.0469154 │\n",
       "│ 2024-01-31 │  0.0151977 │   0.00429701 │  -0.0475452 │  0.00584454 │\n",
       "│ 2024-02-29 │  0.0518111 │    0.0169284 │    0.046475 │   0.0420184 │\n",
       "│ 2024-03-31 │  0.0309855 │    0.0331842 │   0.0244778 │   0.0309141 │\n",
       "└────────────┴────────────┴──────────────┴─────────────┴─────────────┘\n",
       "\u001b[36m                                                      420 rows omitted\u001b[0m"
      ]
     },
     "metadata": {},
     "output_type": "display_data"
    }
   ],
   "source": [
    "#columns = [:Date, :USA_Net, :World_ex_USA, :EM_Net, :ACWI_Net]\n",
    "columns = [:Date, :USA_Net, :World_ex_USA, :EM_Net, :ACWI_Net]\n",
    "assets = [:USA_Net]\n",
    "data_df = DataFrame(XLSX.readtable(\"data/assets_data_03.24.xlsx\", \"Indexes\"; infer_eltypes=true))[2:end, columns]\n",
    "dropmissing!(data_df, disallowmissing=true)\n",
    "returns_usd = data_df |> \n",
    "            x -> TimeArray(x; timestamp = :Date) |> \n",
    "            x -> percentchange(x, :log)"
   ]
  },
  {
   "cell_type": "code",
   "execution_count": 189,
   "metadata": {},
   "outputs": [
    {
     "data": {
      "text/plain": [
       "417×1 TimeArray{Float64, 2, Date, Matrix{Float64}} 1988-01-31 to 2022-09-30\n",
       "┌────────────┬─────────────┐\n",
       "│\u001b[1m            \u001b[0m│\u001b[1m USA_Net     \u001b[0m│\n",
       "├────────────┼─────────────┤\n",
       "│ 1988-01-31 │   0.0410122 │\n",
       "│ 1988-02-29 │   0.0401109 │\n",
       "│ 1988-03-31 │  -0.0349774 │\n",
       "│ 1988-04-30 │  0.00818061 │\n",
       "│ 1988-05-31 │  0.00760205 │\n",
       "│ 1988-06-30 │   0.0445733 │\n",
       "│ 1988-07-31 │  -0.0040323 │\n",
       "│ 1988-08-31 │   -0.035096 │\n",
       "│     ⋮      │      ⋮      │\n",
       "│ 2022-03-31 │     0.03417 │\n",
       "│ 2022-04-30 │  -0.0952756 │\n",
       "│ 2022-05-31 │ -0.00270982 │\n",
       "│ 2022-06-30 │  -0.0868359 │\n",
       "│ 2022-07-31 │   0.0888659 │\n",
       "│ 2022-08-31 │  -0.0404618 │\n",
       "│ 2022-09-30 │  -0.0977404 │\n",
       "└────────────┴─────────────┘\n",
       "\u001b[36m            402 rows omitted\u001b[0m"
      ]
     },
     "metadata": {},
     "output_type": "display_data"
    }
   ],
   "source": [
    "period_returns = returns_usd[assets] |> x -> from(x, Date(1987, 12,1 )) |> x -> to(x, Date(2022,09,30))"
   ]
  },
  {
   "cell_type": "code",
   "execution_count": 194,
   "metadata": {},
   "outputs": [
    {
     "data": {
      "text/html": [
       "<table>\n",
       "  <thead>\n",
       "    <tr class = \"header headerLastRow\">\n",
       "      <th class = \"rowLabel\" style = \"font-weight: bold; text-align: right;\"></th>\n",
       "      <th style = \"text-align: right;\">std</th>\n",
       "      <th style = \"text-align: right;\">max</th>\n",
       "      <th style = \"text-align: right;\">mean</th>\n",
       "      <th style = \"text-align: right;\">p75th</th>\n",
       "      <th style = \"text-align: right;\">min</th>\n",
       "      <th style = \"text-align: right;\">skewness</th>\n",
       "      <th style = \"text-align: right;\">p25th</th>\n",
       "      <th style = \"text-align: right;\">autocor</th>\n",
       "      <th style = \"text-align: right;\">kurtosis</th>\n",
       "      <th style = \"text-align: right;\">sr</th>\n",
       "      <th style = \"text-align: right;\">median</th>\n",
       "    </tr>\n",
       "  </thead>\n",
       "  <tbody>\n",
       "    <tr>\n",
       "      <td class = \"rowLabel\" style = \"font-weight: bold; text-align: right;\">USA_Net</td>\n",
       "      <td style = \"text-align: right;\">0.1489</td>\n",
       "      <td style = \"text-align: right;\">1.4788</td>\n",
       "      <td style = \"text-align: right;\">0.0928</td>\n",
       "      <td style = \"text-align: right;\">0.4192</td>\n",
       "      <td style = \"text-align: right;\">-2.257</td>\n",
       "      <td style = \"text-align: right;\">-0.718</td>\n",
       "      <td style = \"text-align: right;\">-0.1985</td>\n",
       "      <td style = \"text-align: right;\">0.0114</td>\n",
       "      <td style = \"text-align: right;\">1.4606</td>\n",
       "      <td style = \"text-align: right;\">0.6231</td>\n",
       "      <td style = \"text-align: right;\">0.1528</td>\n",
       "    </tr>\n",
       "  </tbody>\n",
       "</table>\n"
      ]
     },
     "metadata": {},
     "output_type": "display_data"
    }
   ],
   "source": [
    "period_returns = returns_usd[assets] |> x -> from(x, Date(1987, 12,1 )) |> x -> to(x, Date(2022,09,30))\n",
    "returns_summarystats(period_returns, 12)"
   ]
  },
  {
   "cell_type": "code",
   "execution_count": 197,
   "metadata": {},
   "outputs": [
    {
     "name": "stdout",
     "output_type": "stream",
     "text": [
      "Means\n",
      "Standard deviations\n",
      "Regimes transition matrix\n"
     ]
    },
    {
     "data": {
      "text/html": [
       "<table>\n",
       "  <thead>\n",
       "    <tr class = \"header headerLastRow\">\n",
       "      <th class = \"rowNumber\" style = \"font-weight: bold; text-align: right;\">Regime</th>\n",
       "      <th style = \"text-align: right;\">USA_Net</th>\n",
       "    </tr>\n",
       "  </thead>\n",
       "  <tbody>\n",
       "    <tr>\n",
       "      <td class = \"rowNumber\" style = \"font-weight: bold; text-align: right;\">1</td>\n",
       "      <td style = \"text-align: right;\">2.660</td>\n",
       "    </tr>\n",
       "    <tr>\n",
       "      <td class = \"rowNumber\" style = \"font-weight: bold; text-align: right;\">2</td>\n",
       "      <td style = \"text-align: right;\">0.489</td>\n",
       "    </tr>\n",
       "    <tr>\n",
       "      <td class = \"rowNumber\" style = \"font-weight: bold; text-align: right;\">3</td>\n",
       "      <td style = \"text-align: right;\">-0.972</td>\n",
       "    </tr>\n",
       "  </tbody>\n",
       "</table>\n"
      ]
     },
     "metadata": {},
     "output_type": "display_data"
    },
    {
     "data": {
      "text/html": [
       "<table>\n",
       "  <thead>\n",
       "    <tr class = \"header headerLastRow\">\n",
       "      <th class = \"rowNumber\" style = \"font-weight: bold; text-align: right;\">Regime</th>\n",
       "      <th style = \"text-align: right;\">USA_Net</th>\n",
       "    </tr>\n",
       "  </thead>\n",
       "  <tbody>\n",
       "    <tr>\n",
       "      <td class = \"rowNumber\" style = \"font-weight: bold; text-align: right;\">1</td>\n",
       "      <td style = \"text-align: right;\">0.114</td>\n",
       "    </tr>\n",
       "    <tr>\n",
       "      <td class = \"rowNumber\" style = \"font-weight: bold; text-align: right;\">2</td>\n",
       "      <td style = \"text-align: right;\">0.158</td>\n",
       "    </tr>\n",
       "    <tr>\n",
       "      <td class = \"rowNumber\" style = \"font-weight: bold; text-align: right;\">3</td>\n",
       "      <td style = \"text-align: right;\">0.314</td>\n",
       "    </tr>\n",
       "  </tbody>\n",
       "</table>\n"
      ]
     },
     "metadata": {},
     "output_type": "display_data"
    },
    {
     "data": {
      "text/plain": [
       "\"Correlations in regime 1\""
      ]
     },
     "metadata": {},
     "output_type": "display_data"
    },
    {
     "data": {
      "text/html": [
       "<table>\n",
       "  <thead>\n",
       "    <tr class = \"header headerLastRow\">\n",
       "      <th class = \"rowLabel\" style = \"font-weight: bold; text-align: right;\"></th>\n",
       "      <th style = \"text-align: right;\">USA_Net</th>\n",
       "    </tr>\n",
       "  </thead>\n",
       "  <tbody>\n",
       "    <tr>\n",
       "      <td class = \"rowLabel\" style = \"font-weight: bold; text-align: right;\">USA_Net</td>\n",
       "      <td style = \"text-align: right;\">1.000</td>\n",
       "    </tr>\n",
       "  </tbody>\n",
       "</table>\n"
      ]
     },
     "metadata": {},
     "output_type": "display_data"
    },
    {
     "data": {
      "text/plain": [
       "\"Correlations in regime 2\""
      ]
     },
     "metadata": {},
     "output_type": "display_data"
    },
    {
     "data": {
      "text/html": [
       "<table>\n",
       "  <thead>\n",
       "    <tr class = \"header headerLastRow\">\n",
       "      <th class = \"rowLabel\" style = \"font-weight: bold; text-align: right;\"></th>\n",
       "      <th style = \"text-align: right;\">USA_Net</th>\n",
       "    </tr>\n",
       "  </thead>\n",
       "  <tbody>\n",
       "    <tr>\n",
       "      <td class = \"rowLabel\" style = \"font-weight: bold; text-align: right;\">USA_Net</td>\n",
       "      <td style = \"text-align: right;\">1.000</td>\n",
       "    </tr>\n",
       "  </tbody>\n",
       "</table>\n"
      ]
     },
     "metadata": {},
     "output_type": "display_data"
    },
    {
     "data": {
      "text/plain": [
       "\"Correlations in regime 3\""
      ]
     },
     "metadata": {},
     "output_type": "display_data"
    },
    {
     "data": {
      "text/html": [
       "<table>\n",
       "  <thead>\n",
       "    <tr class = \"header headerLastRow\">\n",
       "      <th class = \"rowLabel\" style = \"font-weight: bold; text-align: right;\"></th>\n",
       "      <th style = \"text-align: right;\">USA_Net</th>\n",
       "    </tr>\n",
       "  </thead>\n",
       "  <tbody>\n",
       "    <tr>\n",
       "      <td class = \"rowLabel\" style = \"font-weight: bold; text-align: right;\">USA_Net</td>\n",
       "      <td style = \"text-align: right;\">1.000</td>\n",
       "    </tr>\n",
       "  </tbody>\n",
       "</table>\n"
      ]
     },
     "metadata": {},
     "output_type": "display_data"
    },
    {
     "data": {
      "text/html": [
       "<table>\n",
       "  <thead>\n",
       "    <tr class = \"header headerLastRow\">\n",
       "      <th class = \"rowNumber\" style = \"font-weight: bold; text-align: right;\">Regime</th>\n",
       "      <th style = \"text-align: right;\">1</th>\n",
       "      <th style = \"text-align: right;\">2</th>\n",
       "      <th style = \"text-align: right;\">3</th>\n",
       "    </tr>\n",
       "  </thead>\n",
       "  <tbody>\n",
       "    <tr>\n",
       "      <td class = \"rowNumber\" style = \"font-weight: bold; text-align: right;\">1</td>\n",
       "      <td style = \"text-align: right;\">0.128</td>\n",
       "      <td style = \"text-align: right;\">0.533</td>\n",
       "      <td style = \"text-align: right;\">0.339</td>\n",
       "    </tr>\n",
       "    <tr>\n",
       "      <td class = \"rowNumber\" style = \"font-weight: bold; text-align: right;\">2</td>\n",
       "      <td style = \"text-align: right;\">0.000</td>\n",
       "      <td style = \"text-align: right;\">0.937</td>\n",
       "      <td style = \"text-align: right;\">0.063</td>\n",
       "    </tr>\n",
       "    <tr>\n",
       "      <td class = \"rowNumber\" style = \"font-weight: bold; text-align: right;\">3</td>\n",
       "      <td style = \"text-align: right;\">0.257</td>\n",
       "      <td style = \"text-align: right;\">0.000</td>\n",
       "      <td style = \"text-align: right;\">0.743</td>\n",
       "    </tr>\n",
       "  </tbody>\n",
       "</table>\n"
      ]
     },
     "metadata": {},
     "output_type": "display_data"
    }
   ],
   "source": [
    "hmm = hmm_est(period_returns, 3)\n",
    "regime_summary(hmm[1], assets, 36)"
   ]
  },
  {
   "cell_type": "code",
   "execution_count": 192,
   "metadata": {},
   "outputs": [
    {
     "data": {
      "text/html": [
       "<table>\n",
       "  <caption style = \"text-align: left;\">USA_Net</caption>\n",
       "  <thead>\n",
       "    <tr class = \"header headerLastRow\">\n",
       "      <th class = \"rowLabel\" style = \"font-weight: bold; text-align: right;\"></th>\n",
       "      <th style = \"text-align: right;\">1</th>\n",
       "      <th style = \"text-align: right;\">2</th>\n",
       "      <th style = \"text-align: right;\">3</th>\n",
       "      <th style = \"text-align: right;\">4</th>\n",
       "      <th style = \"text-align: right;\">5</th>\n",
       "      <th style = \"text-align: right;\">6</th>\n",
       "      <th style = \"text-align: right;\">7</th>\n",
       "      <th style = \"text-align: right;\">8</th>\n",
       "      <th style = \"text-align: right;\">9</th>\n",
       "      <th style = \"text-align: right;\">10</th>\n",
       "      <th style = \"text-align: right;\">11</th>\n",
       "      <th style = \"text-align: right;\">12</th>\n",
       "      <th style = \"text-align: right;\">13</th>\n",
       "      <th style = \"text-align: right;\">14</th>\n",
       "      <th style = \"text-align: right;\">15</th>\n",
       "    </tr>\n",
       "  </thead>\n",
       "  <tbody>\n",
       "    <tr>\n",
       "      <td class = \"rowLabel\" style = \"font-weight: bold; text-align: right;\">0.1</td>\n",
       "      <td style = \"text-align: right;\">-0.0757</td>\n",
       "      <td style = \"text-align: right;\">-0.1335</td>\n",
       "      <td style = \"text-align: right;\">-0.1372</td>\n",
       "      <td style = \"text-align: right;\">-0.1402</td>\n",
       "      <td style = \"text-align: right;\">-0.1389</td>\n",
       "      <td style = \"text-align: right;\">-0.137</td>\n",
       "      <td style = \"text-align: right;\">-0.1396</td>\n",
       "      <td style = \"text-align: right;\">-0.1381</td>\n",
       "      <td style = \"text-align: right;\">-0.136</td>\n",
       "      <td style = \"text-align: right;\">-0.1381</td>\n",
       "      <td style = \"text-align: right;\">-0.1359</td>\n",
       "      <td style = \"text-align: right;\">-0.1376</td>\n",
       "      <td style = \"text-align: right;\">-0.1394</td>\n",
       "      <td style = \"text-align: right;\">-0.1373</td>\n",
       "      <td style = \"text-align: right;\">-0.1361</td>\n",
       "    </tr>\n",
       "    <tr>\n",
       "      <td class = \"rowLabel\" style = \"font-weight: bold; text-align: right;\">0.3</td>\n",
       "      <td style = \"text-align: right;\">0.0617</td>\n",
       "      <td style = \"text-align: right;\">0.0366</td>\n",
       "      <td style = \"text-align: right;\">0.0341</td>\n",
       "      <td style = \"text-align: right;\">0.0335</td>\n",
       "      <td style = \"text-align: right;\">0.035</td>\n",
       "      <td style = \"text-align: right;\">0.0357</td>\n",
       "      <td style = \"text-align: right;\">0.034</td>\n",
       "      <td style = \"text-align: right;\">0.0349</td>\n",
       "      <td style = \"text-align: right;\">0.0343</td>\n",
       "      <td style = \"text-align: right;\">0.0353</td>\n",
       "      <td style = \"text-align: right;\">0.0353</td>\n",
       "      <td style = \"text-align: right;\">0.0344</td>\n",
       "      <td style = \"text-align: right;\">0.0344</td>\n",
       "      <td style = \"text-align: right;\">0.035</td>\n",
       "      <td style = \"text-align: right;\">0.0352</td>\n",
       "    </tr>\n",
       "    <tr>\n",
       "      <td class = \"rowLabel\" style = \"font-weight: bold; text-align: right;\">0.5</td>\n",
       "      <td style = \"text-align: right;\">0.1301</td>\n",
       "      <td style = \"text-align: right;\">0.1185</td>\n",
       "      <td style = \"text-align: right;\">0.1177</td>\n",
       "      <td style = \"text-align: right;\">0.1168</td>\n",
       "      <td style = \"text-align: right;\">0.118</td>\n",
       "      <td style = \"text-align: right;\">0.1181</td>\n",
       "      <td style = \"text-align: right;\">0.1176</td>\n",
       "      <td style = \"text-align: right;\">0.1185</td>\n",
       "      <td style = \"text-align: right;\">0.1174</td>\n",
       "      <td style = \"text-align: right;\">0.1179</td>\n",
       "      <td style = \"text-align: right;\">0.118</td>\n",
       "      <td style = \"text-align: right;\">0.117</td>\n",
       "      <td style = \"text-align: right;\">0.118</td>\n",
       "      <td style = \"text-align: right;\">0.1176</td>\n",
       "      <td style = \"text-align: right;\">0.1175</td>\n",
       "    </tr>\n",
       "    <tr>\n",
       "      <td class = \"rowLabel\" style = \"font-weight: bold; text-align: right;\">0.7</td>\n",
       "      <td style = \"text-align: right;\">0.1897</td>\n",
       "      <td style = \"text-align: right;\">0.1872</td>\n",
       "      <td style = \"text-align: right;\">0.1864</td>\n",
       "      <td style = \"text-align: right;\">0.1861</td>\n",
       "      <td style = \"text-align: right;\">0.1869</td>\n",
       "      <td style = \"text-align: right;\">0.1865</td>\n",
       "      <td style = \"text-align: right;\">0.1864</td>\n",
       "      <td style = \"text-align: right;\">0.1869</td>\n",
       "      <td style = \"text-align: right;\">0.1862</td>\n",
       "      <td style = \"text-align: right;\">0.1865</td>\n",
       "      <td style = \"text-align: right;\">0.1866</td>\n",
       "      <td style = \"text-align: right;\">0.1862</td>\n",
       "      <td style = \"text-align: right;\">0.1868</td>\n",
       "      <td style = \"text-align: right;\">0.1866</td>\n",
       "      <td style = \"text-align: right;\">0.1865</td>\n",
       "    </tr>\n",
       "    <tr>\n",
       "      <td class = \"rowLabel\" style = \"font-weight: bold; text-align: right;\">0.9</td>\n",
       "      <td style = \"text-align: right;\">0.2724</td>\n",
       "      <td style = \"text-align: right;\">0.2771</td>\n",
       "      <td style = \"text-align: right;\">0.2767</td>\n",
       "      <td style = \"text-align: right;\">0.2766</td>\n",
       "      <td style = \"text-align: right;\">0.277</td>\n",
       "      <td style = \"text-align: right;\">0.2776</td>\n",
       "      <td style = \"text-align: right;\">0.2775</td>\n",
       "      <td style = \"text-align: right;\">0.2773</td>\n",
       "      <td style = \"text-align: right;\">0.2773</td>\n",
       "      <td style = \"text-align: right;\">0.2769</td>\n",
       "      <td style = \"text-align: right;\">0.2775</td>\n",
       "      <td style = \"text-align: right;\">0.2757</td>\n",
       "      <td style = \"text-align: right;\">0.278</td>\n",
       "      <td style = \"text-align: right;\">0.277</td>\n",
       "      <td style = \"text-align: right;\">0.2771</td>\n",
       "    </tr>\n",
       "  </tbody>\n",
       "</table>\n"
      ]
     },
     "metadata": {},
     "output_type": "display_data"
    }
   ],
   "source": [
    "n_assets = length(assets)\n",
    "scenarios = simulate_hmm(hmm[1], n_assets, 180, 100_000)\n",
    "\n",
    "for a in 1:n_assets\n",
    "    print_percentiles(scenarios[a,:,:], [0.1, 0.3, 0.5, 0.7, 0.9], 12, string(assets[a]))\n",
    "end "
   ]
  },
  {
   "cell_type": "code",
   "execution_count": 193,
   "metadata": {},
   "outputs": [
    {
     "ename": "DimensionMismatch",
     "evalue": "DimensionMismatch: second dimension of A, 1, does not match length of x, 2",
     "output_type": "error",
     "traceback": [
      "DimensionMismatch: second dimension of A, 1, does not match length of x, 2\n",
      "\n",
      "Stacktrace:\n",
      " [1] gemv!(y::Vector{Float64}, tA::Char, A::Matrix{Float64}, x::Vector{Float64}, α::Int64, β::Bool)\n",
      "   @ LinearAlgebra C:\\Users\\matsz\\.julia\\juliaup\\julia-1.10.2+0.x64.w64.mingw32\\share\\julia\\stdlib\\v1.10\\LinearAlgebra\\src\\matmul.jl:404\n",
      " [2] generic_matvecmul!\n",
      "   @ C:\\Users\\matsz\\.julia\\juliaup\\julia-1.10.2+0.x64.w64.mingw32\\share\\julia\\stdlib\\v1.10\\LinearAlgebra\\src\\matmul.jl:71 [inlined]\n",
      " [3] mul!\n",
      "   @ C:\\Users\\matsz\\.julia\\juliaup\\julia-1.10.2+0.x64.w64.mingw32\\share\\julia\\stdlib\\v1.10\\LinearAlgebra\\src\\matmul.jl:66 [inlined]\n",
      " [4] _mat_vec_scalar\n",
      "   @ C:\\Users\\matsz\\.julia\\juliaup\\julia-1.10.2+0.x64.w64.mingw32\\share\\julia\\stdlib\\v1.10\\LinearAlgebra\\src\\matmul.jl:1185 [inlined]\n",
      " [5] mat_vec_scalar\n",
      "   @ C:\\Users\\matsz\\.julia\\juliaup\\julia-1.10.2+0.x64.w64.mingw32\\share\\julia\\stdlib\\v1.10\\LinearAlgebra\\src\\matmul.jl:1179 [inlined]\n",
      " [6] *(A::Adjoint{Float64, Matrix{Float64}}, x::Vector{Float64}, γ::Int64)\n",
      "   @ LinearAlgebra C:\\Users\\matsz\\.julia\\juliaup\\julia-1.10.2+0.x64.w64.mingw32\\share\\julia\\stdlib\\v1.10\\LinearAlgebra\\src\\matmul.jl:1149\n",
      " [7] top-level scope\n",
      "   @ c:\\Users\\matsz\\programowanie\\Optymalizacja_portfela\\julia_msp\\jl_notebook_cell_df34fa98e69747e1a8f8a730347b8e2f_X10sZmlsZQ==.jl:7"
     ]
    }
   ],
   "source": [
    "#weights = [0.62, 0.26, 0.12]\n",
    "weights = [.7, .3]\n",
    "acwi_cum_ret = cumprod(scenarios .+ 1, dims=3)\n",
    "\n",
    "acwi = zeros(100_000, 180)\n",
    "for t in 1:180\n",
    "    acwi[:,t] = acwi_cum_ret[:,:,t]' * weights * 100\n",
    "end\n",
    "\n",
    "acwi = acwi[:, 2:end] ./ acwi[:,1:end-1] .-1\n",
    "\n",
    "print_percentiles(expm1.(acwi),[0.05, 0.1, 0.3, 0.5, 0.7, 0.9, 0.95], 12)"
   ]
  }
 ],
 "metadata": {
  "kernelspec": {
   "display_name": "Julia 1.10.2",
   "language": "julia",
   "name": "julia-1.10"
  },
  "language_info": {
   "file_extension": ".jl",
   "mimetype": "application/julia",
   "name": "julia",
   "version": "1.10.2"
  }
 },
 "nbformat": 4,
 "nbformat_minor": 2
}
