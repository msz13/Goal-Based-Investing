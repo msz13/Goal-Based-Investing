{
 "cells": [
  {
   "cell_type": "code",
   "execution_count": 12,
   "metadata": {},
   "outputs": [
    {
     "data": {
      "text/plain": [
       "regime_summary (generic function with 1 method)"
      ]
     },
     "metadata": {},
     "output_type": "display_data"
    }
   ],
   "source": [
    "using XLSX\n",
    "using DataFrames, TimeSeries\n",
    "using StatsPlots\n",
    "using Plots\n",
    "using LinearAlgebra\n",
    "using CSV\n",
    "using StatsBase\n",
    "using GLM\n",
    "include(\"utils.jl\")\n",
    "include(\"hmm_est.jl\")"
   ]
  },
  {
   "cell_type": "code",
   "execution_count": 13,
   "metadata": {},
   "outputs": [
    {
     "data": {
      "text/plain": [
       "435×4 TimeArray{Float64, 2, Date, Matrix{Float64}} 1988-01-31 to 2024-03-31\n",
       "┌────────────┬────────────┬──────────────┬─────────────┬─────────────┐\n",
       "│\u001b[1m            \u001b[0m│\u001b[1m USA_Net    \u001b[0m│\u001b[1m World_ex_USA \u001b[0m│\u001b[1m EM_Net      \u001b[0m│\u001b[1m ACWI_Net    \u001b[0m│\n",
       "├────────────┼────────────┼──────────────┼─────────────┼─────────────┤\n",
       "│ 1988-01-31 │  0.0410122 │    0.0153553 │   0.0935834 │   0.0246253 │\n",
       "│ 1988-02-29 │  0.0401109 │    0.0640862 │   0.0031132 │   0.0560778 │\n",
       "│ 1988-03-31 │ -0.0349774 │    0.0592025 │     0.10175 │   0.0302388 │\n",
       "│ 1988-04-30 │ 0.00818061 │    0.0140195 │   0.0517417 │   0.0125024 │\n",
       "│ 1988-05-31 │ 0.00760205 │   -0.0326806 │   0.0292525 │  -0.0201209 │\n",
       "│ 1988-06-30 │  0.0445733 │   -0.0229028 │   0.0331365 │ -0.00119203 │\n",
       "│ 1988-07-31 │ -0.0040323 │    0.0288082 │  -0.0260317 │     0.01818 │\n",
       "│ 1988-08-31 │  -0.035096 │   -0.0667177 │  -0.0274362 │  -0.0566908 │\n",
       "│     ⋮      │     ⋮      │      ⋮       │      ⋮      │      ⋮      │\n",
       "│ 2023-09-30 │ -0.0483353 │   -0.0342956 │  -0.0264995 │   -0.042229 │\n",
       "│ 2023-10-31 │ -0.0235616 │   -0.0431263 │   -0.039629 │   -0.030529 │\n",
       "│ 2023-11-30 │  0.0895259 │    0.0898198 │   0.0769883 │   0.0882833 │\n",
       "│ 2023-12-31 │  0.0456572 │    0.0532219 │   0.0383487 │   0.0469154 │\n",
       "│ 2024-01-31 │  0.0151977 │   0.00429701 │  -0.0475452 │  0.00584454 │\n",
       "│ 2024-02-29 │  0.0518111 │    0.0169284 │    0.046475 │   0.0420184 │\n",
       "│ 2024-03-31 │  0.0309855 │    0.0331842 │   0.0244778 │   0.0309141 │\n",
       "└────────────┴────────────┴──────────────┴─────────────┴─────────────┘\n",
       "\u001b[36m                                                      420 rows omitted\u001b[0m"
      ]
     },
     "metadata": {},
     "output_type": "display_data"
    }
   ],
   "source": [
    "#columns = [:Date, :USA_Net, :World_ex_USA, :EM_Net, :ACWI_Net]\n",
    "columns = [:Date, :USA_Net, :World_ex_USA, :EM_Net, :ACWI_Net]\n",
    "assets = [:USA_Net, :World_ex_USA, :EM_Net]\n",
    "data_df = DataFrame(XLSX.readtable(\"data/assets_data_03.24.xlsx\", \"Indexes\"; infer_eltypes=true))[2:end, columns]\n",
    "dropmissing!(data_df, disallowmissing=true)\n",
    "returns_usd = data_df |> \n",
    "            x -> TimeArray(x; timestamp = :Date) |> \n",
    "            x -> percentchange(x, :log)"
   ]
  },
  {
   "cell_type": "code",
   "execution_count": 14,
   "metadata": {},
   "outputs": [
    {
     "data": {
      "text/plain": [
       "417×3 TimeArray{Float64, 2, Date, Matrix{Float64}} 1988-01-31 to 2022-09-30\n",
       "┌────────────┬─────────────┬──────────────┬─────────────┐\n",
       "│\u001b[1m            \u001b[0m│\u001b[1m USA_Net     \u001b[0m│\u001b[1m World_ex_USA \u001b[0m│\u001b[1m EM_Net      \u001b[0m│\n",
       "├────────────┼─────────────┼──────────────┼─────────────┤\n",
       "│ 1988-01-31 │   0.0410122 │    0.0153553 │   0.0935834 │\n",
       "│ 1988-02-29 │   0.0401109 │    0.0640862 │   0.0031132 │\n",
       "│ 1988-03-31 │  -0.0349774 │    0.0592025 │     0.10175 │\n",
       "│ 1988-04-30 │  0.00818061 │    0.0140195 │   0.0517417 │\n",
       "│ 1988-05-31 │  0.00760205 │   -0.0326806 │   0.0292525 │\n",
       "│ 1988-06-30 │   0.0445733 │   -0.0229028 │   0.0331365 │\n",
       "│ 1988-07-31 │  -0.0040323 │    0.0288082 │  -0.0260317 │\n",
       "│ 1988-08-31 │   -0.035096 │   -0.0667177 │  -0.0274362 │\n",
       "│     ⋮      │      ⋮      │      ⋮       │      ⋮      │\n",
       "│ 2022-03-31 │     0.03417 │    0.0115373 │  -0.0228443 │\n",
       "│ 2022-04-30 │  -0.0952756 │   -0.0679247 │  -0.0572341 │\n",
       "│ 2022-05-31 │ -0.00270982 │    0.0082682 │   0.0043937 │\n",
       "│ 2022-06-30 │  -0.0868359 │   -0.0988188 │  -0.0687611 │\n",
       "│ 2022-07-31 │   0.0888659 │    0.0485227 │ -0.00245985 │\n",
       "│ 2022-08-31 │  -0.0404618 │   -0.0478424 │   0.0041668 │\n",
       "│ 2022-09-30 │  -0.0977404 │   -0.0971375 │   -0.124694 │\n",
       "└────────────┴─────────────┴──────────────┴─────────────┘\n",
       "\u001b[36m                                         402 rows omitted\u001b[0m"
      ]
     },
     "metadata": {},
     "output_type": "display_data"
    }
   ],
   "source": [
    "period_returns = returns_usd[assets] |> x -> from(x, Date(1987, 12,1 )) |> x -> to(x, Date(2022,09,30))"
   ]
  },
  {
   "cell_type": "code",
   "execution_count": 15,
   "metadata": {},
   "outputs": [
    {
     "data": {
      "text/plain": [
       "4-element Vector{Symbol}:\n",
       " :USA_Net\n",
       " :World_ex_USA\n",
       " :EM_Net\n",
       " :ACWI_Net"
      ]
     },
     "metadata": {},
     "output_type": "display_data"
    }
   ],
   "source": [
    "[assets; :ACWI_Net]"
   ]
  },
  {
   "cell_type": "code",
   "execution_count": 34,
   "metadata": {},
   "outputs": [
    {
     "data": {
      "text/html": [
       "<table>\n",
       "  <thead>\n",
       "    <tr class = \"header headerLastRow\">\n",
       "      <th class = \"rowLabel\" style = \"font-weight: bold; text-align: right;\"></th>\n",
       "      <th style = \"text-align: right;\">std</th>\n",
       "      <th style = \"text-align: right;\">max</th>\n",
       "      <th style = \"text-align: right;\">mean</th>\n",
       "      <th style = \"text-align: right;\">p75th</th>\n",
       "      <th style = \"text-align: right;\">min</th>\n",
       "      <th style = \"text-align: right;\">skewness</th>\n",
       "      <th style = \"text-align: right;\">p25th</th>\n",
       "      <th style = \"text-align: right;\">autocor</th>\n",
       "      <th style = \"text-align: right;\">kurtosis</th>\n",
       "      <th style = \"text-align: right;\">sr</th>\n",
       "      <th style = \"text-align: right;\">median</th>\n",
       "    </tr>\n",
       "  </thead>\n",
       "  <tbody>\n",
       "    <tr>\n",
       "      <td class = \"rowLabel\" style = \"font-weight: bold; text-align: right;\">USA_Net</td>\n",
       "      <td style = \"text-align: right;\">0.1507</td>\n",
       "      <td style = \"text-align: right;\">1.246</td>\n",
       "      <td style = \"text-align: right;\">0.0676</td>\n",
       "      <td style = \"text-align: right;\">0.4027</td>\n",
       "      <td style = \"text-align: right;\">-2.257</td>\n",
       "      <td style = \"text-align: right;\">-0.84</td>\n",
       "      <td style = \"text-align: right;\">-0.2075</td>\n",
       "      <td style = \"text-align: right;\">0.0703</td>\n",
       "      <td style = \"text-align: right;\">1.6368</td>\n",
       "      <td style = \"text-align: right;\">0.4485</td>\n",
       "      <td style = \"text-align: right;\">0.1412</td>\n",
       "    </tr>\n",
       "    <tr>\n",
       "      <td class = \"rowLabel\" style = \"font-weight: bold; text-align: right;\">World_ex_USA</td>\n",
       "      <td style = \"text-align: right;\">0.1653</td>\n",
       "      <td style = \"text-align: right;\">1.4555</td>\n",
       "      <td style = \"text-align: right;\">0.0499</td>\n",
       "      <td style = \"text-align: right;\">0.4126</td>\n",
       "      <td style = \"text-align: right;\">-2.7986</td>\n",
       "      <td style = \"text-align: right;\">-0.913</td>\n",
       "      <td style = \"text-align: right;\">-0.2363</td>\n",
       "      <td style = \"text-align: right;\">0.1497</td>\n",
       "      <td style = \"text-align: right;\">2.4191</td>\n",
       "      <td style = \"text-align: right;\">0.3017</td>\n",
       "      <td style = \"text-align: right;\">0.1038</td>\n",
       "    </tr>\n",
       "    <tr>\n",
       "      <td class = \"rowLabel\" style = \"font-weight: bold; text-align: right;\">EM_Net</td>\n",
       "      <td style = \"text-align: right;\">0.233</td>\n",
       "      <td style = \"text-align: right;\">1.893</td>\n",
       "      <td style = \"text-align: right;\">0.0684</td>\n",
       "      <td style = \"text-align: right;\">0.5702</td>\n",
       "      <td style = \"text-align: right;\">-4.1</td>\n",
       "      <td style = \"text-align: right;\">-1.0973</td>\n",
       "      <td style = \"text-align: right;\">-0.3213</td>\n",
       "      <td style = \"text-align: right;\">0.1423</td>\n",
       "      <td style = \"text-align: right;\">3.896</td>\n",
       "      <td style = \"text-align: right;\">0.2936</td>\n",
       "      <td style = \"text-align: right;\">0.1038</td>\n",
       "    </tr>\n",
       "  </tbody>\n",
       "</table>\n"
      ]
     },
     "metadata": {},
     "output_type": "display_data"
    }
   ],
   "source": [
    "period_returns = returns_usd[assets] |> x -> from(x, Date(1998, 01, 01 )) |> x -> to(x, Date(2019,12,31))\n",
    "returns_summarystats(period_returns, 12)"
   ]
  },
  {
   "cell_type": "code",
   "execution_count": 69,
   "metadata": {},
   "outputs": [
    {
     "name": "stdout",
     "output_type": "stream",
     "text": [
      "Means\n",
      "Standard deviations\n",
      "Regimes transition matrix\n"
     ]
    },
    {
     "data": {
      "text/html": [
       "<table>\n",
       "  <thead>\n",
       "    <tr class = \"header headerLastRow\">\n",
       "      <th class = \"rowNumber\" style = \"font-weight: bold; text-align: right;\">Regime</th>\n",
       "      <th style = \"text-align: right;\">USA_Net</th>\n",
       "      <th style = \"text-align: right;\">World_ex_USA</th>\n",
       "      <th style = \"text-align: right;\">EM_Net</th>\n",
       "    </tr>\n",
       "  </thead>\n",
       "  <tbody>\n",
       "    <tr>\n",
       "      <td class = \"rowNumber\" style = \"font-weight: bold; text-align: right;\">1</td>\n",
       "      <td style = \"text-align: right;\">-0.041</td>\n",
       "      <td style = \"text-align: right;\">-0.076</td>\n",
       "      <td style = \"text-align: right;\">-0.062</td>\n",
       "    </tr>\n",
       "    <tr>\n",
       "      <td class = \"rowNumber\" style = \"font-weight: bold; text-align: right;\">2</td>\n",
       "      <td style = \"text-align: right;\">0.219</td>\n",
       "      <td style = \"text-align: right;\">0.304</td>\n",
       "      <td style = \"text-align: right;\">0.398</td>\n",
       "    </tr>\n",
       "    <tr>\n",
       "      <td class = \"rowNumber\" style = \"font-weight: bold; text-align: right;\">3</td>\n",
       "      <td style = \"text-align: right;\">-0.025</td>\n",
       "      <td style = \"text-align: right;\">-0.253</td>\n",
       "      <td style = \"text-align: right;\">-0.409</td>\n",
       "    </tr>\n",
       "  </tbody>\n",
       "</table>\n"
      ]
     },
     "metadata": {},
     "output_type": "display_data"
    },
    {
     "data": {
      "text/html": [
       "<table>\n",
       "  <thead>\n",
       "    <tr class = \"header headerLastRow\">\n",
       "      <th class = \"rowNumber\" style = \"font-weight: bold; text-align: right;\">Regime</th>\n",
       "      <th style = \"text-align: right;\">USA_Net</th>\n",
       "      <th style = \"text-align: right;\">World_ex_USA</th>\n",
       "      <th style = \"text-align: right;\">EM_Net</th>\n",
       "    </tr>\n",
       "  </thead>\n",
       "  <tbody>\n",
       "    <tr>\n",
       "      <td class = \"rowNumber\" style = \"font-weight: bold; text-align: right;\">1</td>\n",
       "      <td style = \"text-align: right;\">0.201</td>\n",
       "      <td style = \"text-align: right;\">0.216</td>\n",
       "      <td style = \"text-align: right;\">0.302</td>\n",
       "    </tr>\n",
       "    <tr>\n",
       "      <td class = \"rowNumber\" style = \"font-weight: bold; text-align: right;\">2</td>\n",
       "      <td style = \"text-align: right;\">0.078</td>\n",
       "      <td style = \"text-align: right;\">0.081</td>\n",
       "      <td style = \"text-align: right;\">0.114</td>\n",
       "    </tr>\n",
       "    <tr>\n",
       "      <td class = \"rowNumber\" style = \"font-weight: bold; text-align: right;\">3</td>\n",
       "      <td style = \"text-align: right;\">0.094</td>\n",
       "      <td style = \"text-align: right;\">0.059</td>\n",
       "      <td style = \"text-align: right;\">0.116</td>\n",
       "    </tr>\n",
       "  </tbody>\n",
       "</table>\n"
      ]
     },
     "metadata": {},
     "output_type": "display_data"
    },
    {
     "data": {
      "text/plain": [
       "\"Correlations in regime 1\""
      ]
     },
     "metadata": {},
     "output_type": "display_data"
    },
    {
     "data": {
      "text/html": [
       "<table>\n",
       "  <thead>\n",
       "    <tr class = \"header headerLastRow\">\n",
       "      <th class = \"rowLabel\" style = \"font-weight: bold; text-align: right;\"></th>\n",
       "      <th style = \"text-align: right;\">USA_Net</th>\n",
       "      <th style = \"text-align: right;\">World_ex_USA</th>\n",
       "      <th style = \"text-align: right;\">EM_Net</th>\n",
       "    </tr>\n",
       "  </thead>\n",
       "  <tbody>\n",
       "    <tr>\n",
       "      <td class = \"rowLabel\" style = \"font-weight: bold; text-align: right;\">USA_Net</td>\n",
       "      <td style = \"text-align: right;\">1.000</td>\n",
       "      <td style = \"text-align: right;\">0.889</td>\n",
       "      <td style = \"text-align: right;\">0.801</td>\n",
       "    </tr>\n",
       "    <tr>\n",
       "      <td class = \"rowLabel\" style = \"font-weight: bold; text-align: right;\">World_ex_USA</td>\n",
       "      <td style = \"text-align: right;\">0.889</td>\n",
       "      <td style = \"text-align: right;\">1.000</td>\n",
       "      <td style = \"text-align: right;\">0.842</td>\n",
       "    </tr>\n",
       "    <tr>\n",
       "      <td class = \"rowLabel\" style = \"font-weight: bold; text-align: right;\">EM_Net</td>\n",
       "      <td style = \"text-align: right;\">0.801</td>\n",
       "      <td style = \"text-align: right;\">0.842</td>\n",
       "      <td style = \"text-align: right;\">1.000</td>\n",
       "    </tr>\n",
       "  </tbody>\n",
       "</table>\n"
      ]
     },
     "metadata": {},
     "output_type": "display_data"
    },
    {
     "data": {
      "text/plain": [
       "\"Correlations in regime 2\""
      ]
     },
     "metadata": {},
     "output_type": "display_data"
    },
    {
     "data": {
      "text/html": [
       "<table>\n",
       "  <thead>\n",
       "    <tr class = \"header headerLastRow\">\n",
       "      <th class = \"rowLabel\" style = \"font-weight: bold; text-align: right;\"></th>\n",
       "      <th style = \"text-align: right;\">USA_Net</th>\n",
       "      <th style = \"text-align: right;\">World_ex_USA</th>\n",
       "      <th style = \"text-align: right;\">EM_Net</th>\n",
       "    </tr>\n",
       "  </thead>\n",
       "  <tbody>\n",
       "    <tr>\n",
       "      <td class = \"rowLabel\" style = \"font-weight: bold; text-align: right;\">USA_Net</td>\n",
       "      <td style = \"text-align: right;\">1.000</td>\n",
       "      <td style = \"text-align: right;\">0.768</td>\n",
       "      <td style = \"text-align: right;\">0.492</td>\n",
       "    </tr>\n",
       "    <tr>\n",
       "      <td class = \"rowLabel\" style = \"font-weight: bold; text-align: right;\">World_ex_USA</td>\n",
       "      <td style = \"text-align: right;\">0.768</td>\n",
       "      <td style = \"text-align: right;\">1.000</td>\n",
       "      <td style = \"text-align: right;\">0.667</td>\n",
       "    </tr>\n",
       "    <tr>\n",
       "      <td class = \"rowLabel\" style = \"font-weight: bold; text-align: right;\">EM_Net</td>\n",
       "      <td style = \"text-align: right;\">0.492</td>\n",
       "      <td style = \"text-align: right;\">0.667</td>\n",
       "      <td style = \"text-align: right;\">1.000</td>\n",
       "    </tr>\n",
       "  </tbody>\n",
       "</table>\n"
      ]
     },
     "metadata": {},
     "output_type": "display_data"
    },
    {
     "data": {
      "text/plain": [
       "\"Correlations in regime 3\""
      ]
     },
     "metadata": {},
     "output_type": "display_data"
    },
    {
     "data": {
      "text/html": [
       "<table>\n",
       "  <thead>\n",
       "    <tr class = \"header headerLastRow\">\n",
       "      <th class = \"rowLabel\" style = \"font-weight: bold; text-align: right;\"></th>\n",
       "      <th style = \"text-align: right;\">USA_Net</th>\n",
       "      <th style = \"text-align: right;\">World_ex_USA</th>\n",
       "      <th style = \"text-align: right;\">EM_Net</th>\n",
       "    </tr>\n",
       "  </thead>\n",
       "  <tbody>\n",
       "    <tr>\n",
       "      <td class = \"rowLabel\" style = \"font-weight: bold; text-align: right;\">USA_Net</td>\n",
       "      <td style = \"text-align: right;\">1.000</td>\n",
       "      <td style = \"text-align: right;\">0.847</td>\n",
       "      <td style = \"text-align: right;\">0.657</td>\n",
       "    </tr>\n",
       "    <tr>\n",
       "      <td class = \"rowLabel\" style = \"font-weight: bold; text-align: right;\">World_ex_USA</td>\n",
       "      <td style = \"text-align: right;\">0.847</td>\n",
       "      <td style = \"text-align: right;\">1.000</td>\n",
       "      <td style = \"text-align: right;\">0.775</td>\n",
       "    </tr>\n",
       "    <tr>\n",
       "      <td class = \"rowLabel\" style = \"font-weight: bold; text-align: right;\">EM_Net</td>\n",
       "      <td style = \"text-align: right;\">0.657</td>\n",
       "      <td style = \"text-align: right;\">0.775</td>\n",
       "      <td style = \"text-align: right;\">1.000</td>\n",
       "    </tr>\n",
       "  </tbody>\n",
       "</table>\n"
      ]
     },
     "metadata": {},
     "output_type": "display_data"
    },
    {
     "data": {
      "text/html": [
       "<table>\n",
       "  <thead>\n",
       "    <tr class = \"header headerLastRow\">\n",
       "      <th class = \"rowNumber\" style = \"font-weight: bold; text-align: right;\">Regime</th>\n",
       "      <th style = \"text-align: right;\">1</th>\n",
       "      <th style = \"text-align: right;\">2</th>\n",
       "      <th style = \"text-align: right;\">3</th>\n",
       "    </tr>\n",
       "  </thead>\n",
       "  <tbody>\n",
       "    <tr>\n",
       "      <td class = \"rowNumber\" style = \"font-weight: bold; text-align: right;\">1</td>\n",
       "      <td style = \"text-align: right;\">0.921</td>\n",
       "      <td style = \"text-align: right;\">0.041</td>\n",
       "      <td style = \"text-align: right;\">0.038</td>\n",
       "    </tr>\n",
       "    <tr>\n",
       "      <td class = \"rowNumber\" style = \"font-weight: bold; text-align: right;\">2</td>\n",
       "      <td style = \"text-align: right;\">0.000</td>\n",
       "      <td style = \"text-align: right;\">0.775</td>\n",
       "      <td style = \"text-align: right;\">0.225</td>\n",
       "    </tr>\n",
       "    <tr>\n",
       "      <td class = \"rowNumber\" style = \"font-weight: bold; text-align: right;\">3</td>\n",
       "      <td style = \"text-align: right;\">0.185</td>\n",
       "      <td style = \"text-align: right;\">0.472</td>\n",
       "      <td style = \"text-align: right;\">0.343</td>\n",
       "    </tr>\n",
       "  </tbody>\n",
       "</table>\n"
      ]
     },
     "metadata": {},
     "output_type": "display_data"
    }
   ],
   "source": [
    "hmm = hmm_est(period_returns, 3)\n",
    "regime_summary(hmm[1], assets, 12)\n"
   ]
  },
  {
   "cell_type": "code",
   "execution_count": 70,
   "metadata": {},
   "outputs": [
    {
     "data": {
      "text/html": [
       "<table>\n",
       "  <caption style = \"text-align: left;\">USA_Net</caption>\n",
       "  <thead>\n",
       "    <tr class = \"header headerLastRow\">\n",
       "      <th class = \"rowLabel\" style = \"font-weight: bold; text-align: right;\"></th>\n",
       "      <th style = \"text-align: right;\">1</th>\n",
       "      <th style = \"text-align: right;\">2</th>\n",
       "      <th style = \"text-align: right;\">3</th>\n",
       "      <th style = \"text-align: right;\">4</th>\n",
       "      <th style = \"text-align: right;\">5</th>\n",
       "      <th style = \"text-align: right;\">6</th>\n",
       "      <th style = \"text-align: right;\">7</th>\n",
       "      <th style = \"text-align: right;\">8</th>\n",
       "      <th style = \"text-align: right;\">9</th>\n",
       "      <th style = \"text-align: right;\">10</th>\n",
       "      <th style = \"text-align: right;\">11</th>\n",
       "      <th style = \"text-align: right;\">12</th>\n",
       "      <th style = \"text-align: right;\">13</th>\n",
       "      <th style = \"text-align: right;\">14</th>\n",
       "      <th style = \"text-align: right;\">15</th>\n",
       "    </tr>\n",
       "  </thead>\n",
       "  <tbody>\n",
       "    <tr>\n",
       "      <td class = \"rowLabel\" style = \"font-weight: bold; text-align: right;\">0.02</td>\n",
       "      <td style = \"text-align: right;\">-0.3999</td>\n",
       "      <td style = \"text-align: right;\">-0.3534</td>\n",
       "      <td style = \"text-align: right;\">-0.3366</td>\n",
       "      <td style = \"text-align: right;\">-0.3309</td>\n",
       "      <td style = \"text-align: right;\">-0.3354</td>\n",
       "      <td style = \"text-align: right;\">-0.3312</td>\n",
       "      <td style = \"text-align: right;\">-0.3334</td>\n",
       "      <td style = \"text-align: right;\">-0.3313</td>\n",
       "      <td style = \"text-align: right;\">-0.3326</td>\n",
       "      <td style = \"text-align: right;\">-0.333</td>\n",
       "      <td style = \"text-align: right;\">-0.3356</td>\n",
       "      <td style = \"text-align: right;\">-0.3332</td>\n",
       "      <td style = \"text-align: right;\">-0.3329</td>\n",
       "      <td style = \"text-align: right;\">-0.333</td>\n",
       "      <td style = \"text-align: right;\">-0.3323</td>\n",
       "    </tr>\n",
       "    <tr>\n",
       "      <td class = \"rowLabel\" style = \"font-weight: bold; text-align: right;\">0.05</td>\n",
       "      <td style = \"text-align: right;\">-0.3119</td>\n",
       "      <td style = \"text-align: right;\">-0.2601</td>\n",
       "      <td style = \"text-align: right;\">-0.245</td>\n",
       "      <td style = \"text-align: right;\">-0.2401</td>\n",
       "      <td style = \"text-align: right;\">-0.2392</td>\n",
       "      <td style = \"text-align: right;\">-0.2374</td>\n",
       "      <td style = \"text-align: right;\">-0.2397</td>\n",
       "      <td style = \"text-align: right;\">-0.238</td>\n",
       "      <td style = \"text-align: right;\">-0.2396</td>\n",
       "      <td style = \"text-align: right;\">-0.2392</td>\n",
       "      <td style = \"text-align: right;\">-0.2404</td>\n",
       "      <td style = \"text-align: right;\">-0.2408</td>\n",
       "      <td style = \"text-align: right;\">-0.2392</td>\n",
       "      <td style = \"text-align: right;\">-0.2414</td>\n",
       "      <td style = \"text-align: right;\">-0.24</td>\n",
       "    </tr>\n",
       "    <tr>\n",
       "      <td class = \"rowLabel\" style = \"font-weight: bold; text-align: right;\">0.25</td>\n",
       "      <td style = \"text-align: right;\">-0.1087</td>\n",
       "      <td style = \"text-align: right;\">-0.0421</td>\n",
       "      <td style = \"text-align: right;\">-0.0259</td>\n",
       "      <td style = \"text-align: right;\">-0.022</td>\n",
       "      <td style = \"text-align: right;\">-0.0199</td>\n",
       "      <td style = \"text-align: right;\">-0.0203</td>\n",
       "      <td style = \"text-align: right;\">-0.0208</td>\n",
       "      <td style = \"text-align: right;\">-0.0195</td>\n",
       "      <td style = \"text-align: right;\">-0.0205</td>\n",
       "      <td style = \"text-align: right;\">-0.0204</td>\n",
       "      <td style = \"text-align: right;\">-0.0206</td>\n",
       "      <td style = \"text-align: right;\">-0.0214</td>\n",
       "      <td style = \"text-align: right;\">-0.0197</td>\n",
       "      <td style = \"text-align: right;\">-0.0214</td>\n",
       "      <td style = \"text-align: right;\">-0.0206</td>\n",
       "    </tr>\n",
       "    <tr>\n",
       "      <td class = \"rowLabel\" style = \"font-weight: bold; text-align: right;\">0.5</td>\n",
       "      <td style = \"text-align: right;\">0.0234</td>\n",
       "      <td style = \"text-align: right;\">0.0843</td>\n",
       "      <td style = \"text-align: right;\">0.095</td>\n",
       "      <td style = \"text-align: right;\">0.0981</td>\n",
       "      <td style = \"text-align: right;\">0.0975</td>\n",
       "      <td style = \"text-align: right;\">0.0978</td>\n",
       "      <td style = \"text-align: right;\">0.0982</td>\n",
       "      <td style = \"text-align: right;\">0.0995</td>\n",
       "      <td style = \"text-align: right;\">0.0982</td>\n",
       "      <td style = \"text-align: right;\">0.0983</td>\n",
       "      <td style = \"text-align: right;\">0.0985</td>\n",
       "      <td style = \"text-align: right;\">0.0973</td>\n",
       "      <td style = \"text-align: right;\">0.0989</td>\n",
       "      <td style = \"text-align: right;\">0.0977</td>\n",
       "      <td style = \"text-align: right;\">0.0992</td>\n",
       "    </tr>\n",
       "    <tr>\n",
       "      <td class = \"rowLabel\" style = \"font-weight: bold; text-align: right;\">0.75</td>\n",
       "      <td style = \"text-align: right;\">0.1419</td>\n",
       "      <td style = \"text-align: right;\">0.1812</td>\n",
       "      <td style = \"text-align: right;\">0.1868</td>\n",
       "      <td style = \"text-align: right;\">0.1884</td>\n",
       "      <td style = \"text-align: right;\">0.1883</td>\n",
       "      <td style = \"text-align: right;\">0.1885</td>\n",
       "      <td style = \"text-align: right;\">0.1883</td>\n",
       "      <td style = \"text-align: right;\">0.1898</td>\n",
       "      <td style = \"text-align: right;\">0.1879</td>\n",
       "      <td style = \"text-align: right;\">0.1883</td>\n",
       "      <td style = \"text-align: right;\">0.1883</td>\n",
       "      <td style = \"text-align: right;\">0.1878</td>\n",
       "      <td style = \"text-align: right;\">0.1884</td>\n",
       "      <td style = \"text-align: right;\">0.1874</td>\n",
       "      <td style = \"text-align: right;\">0.1892</td>\n",
       "    </tr>\n",
       "    <tr>\n",
       "      <td class = \"rowLabel\" style = \"font-weight: bold; text-align: right;\">0.95</td>\n",
       "      <td style = \"text-align: right;\">0.303</td>\n",
       "      <td style = \"text-align: right;\">0.3007</td>\n",
       "      <td style = \"text-align: right;\">0.3024</td>\n",
       "      <td style = \"text-align: right;\">0.3027</td>\n",
       "      <td style = \"text-align: right;\">0.302</td>\n",
       "      <td style = \"text-align: right;\">0.3027</td>\n",
       "      <td style = \"text-align: right;\">0.3018</td>\n",
       "      <td style = \"text-align: right;\">0.3023</td>\n",
       "      <td style = \"text-align: right;\">0.3017</td>\n",
       "      <td style = \"text-align: right;\">0.302</td>\n",
       "      <td style = \"text-align: right;\">0.3021</td>\n",
       "      <td style = \"text-align: right;\">0.3024</td>\n",
       "      <td style = \"text-align: right;\">0.3024</td>\n",
       "      <td style = \"text-align: right;\">0.3006</td>\n",
       "      <td style = \"text-align: right;\">0.3039</td>\n",
       "    </tr>\n",
       "    <tr>\n",
       "      <td class = \"rowLabel\" style = \"font-weight: bold; text-align: right;\">0.98</td>\n",
       "      <td style = \"text-align: right;\">0.3708</td>\n",
       "      <td style = \"text-align: right;\">0.3533</td>\n",
       "      <td style = \"text-align: right;\">0.3526</td>\n",
       "      <td style = \"text-align: right;\">0.3531</td>\n",
       "      <td style = \"text-align: right;\">0.351</td>\n",
       "      <td style = \"text-align: right;\">0.3546</td>\n",
       "      <td style = \"text-align: right;\">0.3523</td>\n",
       "      <td style = \"text-align: right;\">0.3541</td>\n",
       "      <td style = \"text-align: right;\">0.3531</td>\n",
       "      <td style = \"text-align: right;\">0.3517</td>\n",
       "      <td style = \"text-align: right;\">0.3515</td>\n",
       "      <td style = \"text-align: right;\">0.3527</td>\n",
       "      <td style = \"text-align: right;\">0.3543</td>\n",
       "      <td style = \"text-align: right;\">0.3514</td>\n",
       "      <td style = \"text-align: right;\">0.3547</td>\n",
       "    </tr>\n",
       "  </tbody>\n",
       "</table>\n"
      ]
     },
     "metadata": {},
     "output_type": "display_data"
    },
    {
     "data": {
      "text/html": [
       "<table>\n",
       "  <caption style = \"text-align: left;\">World_ex_USA</caption>\n",
       "  <thead>\n",
       "    <tr class = \"header headerLastRow\">\n",
       "      <th class = \"rowLabel\" style = \"font-weight: bold; text-align: right;\"></th>\n",
       "      <th style = \"text-align: right;\">1</th>\n",
       "      <th style = \"text-align: right;\">2</th>\n",
       "      <th style = \"text-align: right;\">3</th>\n",
       "      <th style = \"text-align: right;\">4</th>\n",
       "      <th style = \"text-align: right;\">5</th>\n",
       "      <th style = \"text-align: right;\">6</th>\n",
       "      <th style = \"text-align: right;\">7</th>\n",
       "      <th style = \"text-align: right;\">8</th>\n",
       "      <th style = \"text-align: right;\">9</th>\n",
       "      <th style = \"text-align: right;\">10</th>\n",
       "      <th style = \"text-align: right;\">11</th>\n",
       "      <th style = \"text-align: right;\">12</th>\n",
       "      <th style = \"text-align: right;\">13</th>\n",
       "      <th style = \"text-align: right;\">14</th>\n",
       "      <th style = \"text-align: right;\">15</th>\n",
       "    </tr>\n",
       "  </thead>\n",
       "  <tbody>\n",
       "    <tr>\n",
       "      <td class = \"rowLabel\" style = \"font-weight: bold; text-align: right;\">0.02</td>\n",
       "      <td style = \"text-align: right;\">-0.4656</td>\n",
       "      <td style = \"text-align: right;\">-0.4145</td>\n",
       "      <td style = \"text-align: right;\">-0.3983</td>\n",
       "      <td style = \"text-align: right;\">-0.3965</td>\n",
       "      <td style = \"text-align: right;\">-0.3978</td>\n",
       "      <td style = \"text-align: right;\">-0.3927</td>\n",
       "      <td style = \"text-align: right;\">-0.3972</td>\n",
       "      <td style = \"text-align: right;\">-0.3926</td>\n",
       "      <td style = \"text-align: right;\">-0.3981</td>\n",
       "      <td style = \"text-align: right;\">-0.3965</td>\n",
       "      <td style = \"text-align: right;\">-0.3962</td>\n",
       "      <td style = \"text-align: right;\">-0.3958</td>\n",
       "      <td style = \"text-align: right;\">-0.3957</td>\n",
       "      <td style = \"text-align: right;\">-0.3977</td>\n",
       "      <td style = \"text-align: right;\">-0.3933</td>\n",
       "    </tr>\n",
       "    <tr>\n",
       "      <td class = \"rowLabel\" style = \"font-weight: bold; text-align: right;\">0.05</td>\n",
       "      <td style = \"text-align: right;\">-0.3728</td>\n",
       "      <td style = \"text-align: right;\">-0.316</td>\n",
       "      <td style = \"text-align: right;\">-0.2995</td>\n",
       "      <td style = \"text-align: right;\">-0.2961</td>\n",
       "      <td style = \"text-align: right;\">-0.2979</td>\n",
       "      <td style = \"text-align: right;\">-0.2929</td>\n",
       "      <td style = \"text-align: right;\">-0.295</td>\n",
       "      <td style = \"text-align: right;\">-0.2922</td>\n",
       "      <td style = \"text-align: right;\">-0.2997</td>\n",
       "      <td style = \"text-align: right;\">-0.2946</td>\n",
       "      <td style = \"text-align: right;\">-0.2963</td>\n",
       "      <td style = \"text-align: right;\">-0.298</td>\n",
       "      <td style = \"text-align: right;\">-0.2947</td>\n",
       "      <td style = \"text-align: right;\">-0.2983</td>\n",
       "      <td style = \"text-align: right;\">-0.2951</td>\n",
       "    </tr>\n",
       "    <tr>\n",
       "      <td class = \"rowLabel\" style = \"font-weight: bold; text-align: right;\">0.25</td>\n",
       "      <td style = \"text-align: right;\">-0.1525</td>\n",
       "      <td style = \"text-align: right;\">-0.0822</td>\n",
       "      <td style = \"text-align: right;\">-0.0648</td>\n",
       "      <td style = \"text-align: right;\">-0.0596</td>\n",
       "      <td style = \"text-align: right;\">-0.059</td>\n",
       "      <td style = \"text-align: right;\">-0.0579</td>\n",
       "      <td style = \"text-align: right;\">-0.0585</td>\n",
       "      <td style = \"text-align: right;\">-0.0566</td>\n",
       "      <td style = \"text-align: right;\">-0.0589</td>\n",
       "      <td style = \"text-align: right;\">-0.0585</td>\n",
       "      <td style = \"text-align: right;\">-0.0584</td>\n",
       "      <td style = \"text-align: right;\">-0.0587</td>\n",
       "      <td style = \"text-align: right;\">-0.0577</td>\n",
       "      <td style = \"text-align: right;\">-0.0601</td>\n",
       "      <td style = \"text-align: right;\">-0.0572</td>\n",
       "    </tr>\n",
       "    <tr>\n",
       "      <td class = \"rowLabel\" style = \"font-weight: bold; text-align: right;\">0.5</td>\n",
       "      <td style = \"text-align: right;\">-0.0069</td>\n",
       "      <td style = \"text-align: right;\">0.0641</td>\n",
       "      <td style = \"text-align: right;\">0.0776</td>\n",
       "      <td style = \"text-align: right;\">0.0815</td>\n",
       "      <td style = \"text-align: right;\">0.0821</td>\n",
       "      <td style = \"text-align: right;\">0.0822</td>\n",
       "      <td style = \"text-align: right;\">0.082</td>\n",
       "      <td style = \"text-align: right;\">0.0838</td>\n",
       "      <td style = \"text-align: right;\">0.0818</td>\n",
       "      <td style = \"text-align: right;\">0.0816</td>\n",
       "      <td style = \"text-align: right;\">0.0824</td>\n",
       "      <td style = \"text-align: right;\">0.0817</td>\n",
       "      <td style = \"text-align: right;\">0.0827</td>\n",
       "      <td style = \"text-align: right;\">0.0813</td>\n",
       "      <td style = \"text-align: right;\">0.083</td>\n",
       "    </tr>\n",
       "    <tr>\n",
       "      <td class = \"rowLabel\" style = \"font-weight: bold; text-align: right;\">0.75</td>\n",
       "      <td style = \"text-align: right;\">0.1272</td>\n",
       "      <td style = \"text-align: right;\">0.1825</td>\n",
       "      <td style = \"text-align: right;\">0.1913</td>\n",
       "      <td style = \"text-align: right;\">0.1934</td>\n",
       "      <td style = \"text-align: right;\">0.1932</td>\n",
       "      <td style = \"text-align: right;\">0.1933</td>\n",
       "      <td style = \"text-align: right;\">0.1942</td>\n",
       "      <td style = \"text-align: right;\">0.1949</td>\n",
       "      <td style = \"text-align: right;\">0.1931</td>\n",
       "      <td style = \"text-align: right;\">0.1937</td>\n",
       "      <td style = \"text-align: right;\">0.1939</td>\n",
       "      <td style = \"text-align: right;\">0.1936</td>\n",
       "      <td style = \"text-align: right;\">0.1933</td>\n",
       "      <td style = \"text-align: right;\">0.1926</td>\n",
       "      <td style = \"text-align: right;\">0.1952</td>\n",
       "    </tr>\n",
       "    <tr>\n",
       "      <td class = \"rowLabel\" style = \"font-weight: bold; text-align: right;\">0.95</td>\n",
       "      <td style = \"text-align: right;\">0.305</td>\n",
       "      <td style = \"text-align: right;\">0.322</td>\n",
       "      <td style = \"text-align: right;\">0.3261</td>\n",
       "      <td style = \"text-align: right;\">0.326</td>\n",
       "      <td style = \"text-align: right;\">0.3272</td>\n",
       "      <td style = \"text-align: right;\">0.3269</td>\n",
       "      <td style = \"text-align: right;\">0.3273</td>\n",
       "      <td style = \"text-align: right;\">0.3263</td>\n",
       "      <td style = \"text-align: right;\">0.3264</td>\n",
       "      <td style = \"text-align: right;\">0.328</td>\n",
       "      <td style = \"text-align: right;\">0.3272</td>\n",
       "      <td style = \"text-align: right;\">0.3274</td>\n",
       "      <td style = \"text-align: right;\">0.3261</td>\n",
       "      <td style = \"text-align: right;\">0.3252</td>\n",
       "      <td style = \"text-align: right;\">0.3276</td>\n",
       "    </tr>\n",
       "    <tr>\n",
       "      <td class = \"rowLabel\" style = \"font-weight: bold; text-align: right;\">0.98</td>\n",
       "      <td style = \"text-align: right;\">0.3807</td>\n",
       "      <td style = \"text-align: right;\">0.3783</td>\n",
       "      <td style = \"text-align: right;\">0.3804</td>\n",
       "      <td style = \"text-align: right;\">0.3803</td>\n",
       "      <td style = \"text-align: right;\">0.3801</td>\n",
       "      <td style = \"text-align: right;\">0.3789</td>\n",
       "      <td style = \"text-align: right;\">0.3796</td>\n",
       "      <td style = \"text-align: right;\">0.3799</td>\n",
       "      <td style = \"text-align: right;\">0.3787</td>\n",
       "      <td style = \"text-align: right;\">0.3791</td>\n",
       "      <td style = \"text-align: right;\">0.3805</td>\n",
       "      <td style = \"text-align: right;\">0.3803</td>\n",
       "      <td style = \"text-align: right;\">0.3802</td>\n",
       "      <td style = \"text-align: right;\">0.3793</td>\n",
       "      <td style = \"text-align: right;\">0.3798</td>\n",
       "    </tr>\n",
       "  </tbody>\n",
       "</table>\n"
      ]
     },
     "metadata": {},
     "output_type": "display_data"
    },
    {
     "data": {
      "text/html": [
       "<table>\n",
       "  <caption style = \"text-align: left;\">EM_Net</caption>\n",
       "  <thead>\n",
       "    <tr class = \"header headerLastRow\">\n",
       "      <th class = \"rowLabel\" style = \"font-weight: bold; text-align: right;\"></th>\n",
       "      <th style = \"text-align: right;\">1</th>\n",
       "      <th style = \"text-align: right;\">2</th>\n",
       "      <th style = \"text-align: right;\">3</th>\n",
       "      <th style = \"text-align: right;\">4</th>\n",
       "      <th style = \"text-align: right;\">5</th>\n",
       "      <th style = \"text-align: right;\">6</th>\n",
       "      <th style = \"text-align: right;\">7</th>\n",
       "      <th style = \"text-align: right;\">8</th>\n",
       "      <th style = \"text-align: right;\">9</th>\n",
       "      <th style = \"text-align: right;\">10</th>\n",
       "      <th style = \"text-align: right;\">11</th>\n",
       "      <th style = \"text-align: right;\">12</th>\n",
       "      <th style = \"text-align: right;\">13</th>\n",
       "      <th style = \"text-align: right;\">14</th>\n",
       "      <th style = \"text-align: right;\">15</th>\n",
       "    </tr>\n",
       "  </thead>\n",
       "  <tbody>\n",
       "    <tr>\n",
       "      <td class = \"rowLabel\" style = \"font-weight: bold; text-align: right;\">0.02</td>\n",
       "      <td style = \"text-align: right;\">-0.6134</td>\n",
       "      <td style = \"text-align: right;\">-0.5499</td>\n",
       "      <td style = \"text-align: right;\">-0.5319</td>\n",
       "      <td style = \"text-align: right;\">-0.5237</td>\n",
       "      <td style = \"text-align: right;\">-0.5266</td>\n",
       "      <td style = \"text-align: right;\">-0.5237</td>\n",
       "      <td style = \"text-align: right;\">-0.5289</td>\n",
       "      <td style = \"text-align: right;\">-0.5195</td>\n",
       "      <td style = \"text-align: right;\">-0.5273</td>\n",
       "      <td style = \"text-align: right;\">-0.5271</td>\n",
       "      <td style = \"text-align: right;\">-0.5242</td>\n",
       "      <td style = \"text-align: right;\">-0.5287</td>\n",
       "      <td style = \"text-align: right;\">-0.5229</td>\n",
       "      <td style = \"text-align: right;\">-0.5263</td>\n",
       "      <td style = \"text-align: right;\">-0.5237</td>\n",
       "    </tr>\n",
       "    <tr>\n",
       "      <td class = \"rowLabel\" style = \"font-weight: bold; text-align: right;\">0.05</td>\n",
       "      <td style = \"text-align: right;\">-0.4875</td>\n",
       "      <td style = \"text-align: right;\">-0.4145</td>\n",
       "      <td style = \"text-align: right;\">-0.3954</td>\n",
       "      <td style = \"text-align: right;\">-0.3915</td>\n",
       "      <td style = \"text-align: right;\">-0.3902</td>\n",
       "      <td style = \"text-align: right;\">-0.3875</td>\n",
       "      <td style = \"text-align: right;\">-0.3923</td>\n",
       "      <td style = \"text-align: right;\">-0.3866</td>\n",
       "      <td style = \"text-align: right;\">-0.3918</td>\n",
       "      <td style = \"text-align: right;\">-0.3895</td>\n",
       "      <td style = \"text-align: right;\">-0.39</td>\n",
       "      <td style = \"text-align: right;\">-0.3928</td>\n",
       "      <td style = \"text-align: right;\">-0.3898</td>\n",
       "      <td style = \"text-align: right;\">-0.3913</td>\n",
       "      <td style = \"text-align: right;\">-0.387</td>\n",
       "    </tr>\n",
       "    <tr>\n",
       "      <td class = \"rowLabel\" style = \"font-weight: bold; text-align: right;\">0.25</td>\n",
       "      <td style = \"text-align: right;\">-0.1889</td>\n",
       "      <td style = \"text-align: right;\">-0.1058</td>\n",
       "      <td style = \"text-align: right;\">-0.0854</td>\n",
       "      <td style = \"text-align: right;\">-0.0819</td>\n",
       "      <td style = \"text-align: right;\">-0.0801</td>\n",
       "      <td style = \"text-align: right;\">-0.0793</td>\n",
       "      <td style = \"text-align: right;\">-0.0811</td>\n",
       "      <td style = \"text-align: right;\">-0.0778</td>\n",
       "      <td style = \"text-align: right;\">-0.0806</td>\n",
       "      <td style = \"text-align: right;\">-0.0788</td>\n",
       "      <td style = \"text-align: right;\">-0.0815</td>\n",
       "      <td style = \"text-align: right;\">-0.0811</td>\n",
       "      <td style = \"text-align: right;\">-0.0794</td>\n",
       "      <td style = \"text-align: right;\">-0.0806</td>\n",
       "      <td style = \"text-align: right;\">-0.0786</td>\n",
       "    </tr>\n",
       "    <tr>\n",
       "      <td class = \"rowLabel\" style = \"font-weight: bold; text-align: right;\">0.5</td>\n",
       "      <td style = \"text-align: right;\">0.0079</td>\n",
       "      <td style = \"text-align: right;\">0.0842</td>\n",
       "      <td style = \"text-align: right;\">0.0992</td>\n",
       "      <td style = \"text-align: right;\">0.1031</td>\n",
       "      <td style = \"text-align: right;\">0.1028</td>\n",
       "      <td style = \"text-align: right;\">0.1051</td>\n",
       "      <td style = \"text-align: right;\">0.104</td>\n",
       "      <td style = \"text-align: right;\">0.105</td>\n",
       "      <td style = \"text-align: right;\">0.1033</td>\n",
       "      <td style = \"text-align: right;\">0.1042</td>\n",
       "      <td style = \"text-align: right;\">0.1041</td>\n",
       "      <td style = \"text-align: right;\">0.1045</td>\n",
       "      <td style = \"text-align: right;\">0.1038</td>\n",
       "      <td style = \"text-align: right;\">0.1023</td>\n",
       "      <td style = \"text-align: right;\">0.1057</td>\n",
       "    </tr>\n",
       "    <tr>\n",
       "      <td class = \"rowLabel\" style = \"font-weight: bold; text-align: right;\">0.75</td>\n",
       "      <td style = \"text-align: right;\">0.1929</td>\n",
       "      <td style = \"text-align: right;\">0.245</td>\n",
       "      <td style = \"text-align: right;\">0.2548</td>\n",
       "      <td style = \"text-align: right;\">0.2553</td>\n",
       "      <td style = \"text-align: right;\">0.2566</td>\n",
       "      <td style = \"text-align: right;\">0.2564</td>\n",
       "      <td style = \"text-align: right;\">0.2574</td>\n",
       "      <td style = \"text-align: right;\">0.2576</td>\n",
       "      <td style = \"text-align: right;\">0.2562</td>\n",
       "      <td style = \"text-align: right;\">0.2577</td>\n",
       "      <td style = \"text-align: right;\">0.2563</td>\n",
       "      <td style = \"text-align: right;\">0.256</td>\n",
       "      <td style = \"text-align: right;\">0.2571</td>\n",
       "      <td style = \"text-align: right;\">0.256</td>\n",
       "      <td style = \"text-align: right;\">0.2569</td>\n",
       "    </tr>\n",
       "    <tr>\n",
       "      <td class = \"rowLabel\" style = \"font-weight: bold; text-align: right;\">0.95</td>\n",
       "      <td style = \"text-align: right;\">0.4438</td>\n",
       "      <td style = \"text-align: right;\">0.4431</td>\n",
       "      <td style = \"text-align: right;\">0.4475</td>\n",
       "      <td style = \"text-align: right;\">0.4477</td>\n",
       "      <td style = \"text-align: right;\">0.4468</td>\n",
       "      <td style = \"text-align: right;\">0.4459</td>\n",
       "      <td style = \"text-align: right;\">0.4477</td>\n",
       "      <td style = \"text-align: right;\">0.448</td>\n",
       "      <td style = \"text-align: right;\">0.4437</td>\n",
       "      <td style = \"text-align: right;\">0.4469</td>\n",
       "      <td style = \"text-align: right;\">0.4467</td>\n",
       "      <td style = \"text-align: right;\">0.4464</td>\n",
       "      <td style = \"text-align: right;\">0.445</td>\n",
       "      <td style = \"text-align: right;\">0.4467</td>\n",
       "      <td style = \"text-align: right;\">0.4474</td>\n",
       "    </tr>\n",
       "    <tr>\n",
       "      <td class = \"rowLabel\" style = \"font-weight: bold; text-align: right;\">0.98</td>\n",
       "      <td style = \"text-align: right;\">0.5507</td>\n",
       "      <td style = \"text-align: right;\">0.5267</td>\n",
       "      <td style = \"text-align: right;\">0.5289</td>\n",
       "      <td style = \"text-align: right;\">0.5261</td>\n",
       "      <td style = \"text-align: right;\">0.5253</td>\n",
       "      <td style = \"text-align: right;\">0.5231</td>\n",
       "      <td style = \"text-align: right;\">0.5265</td>\n",
       "      <td style = \"text-align: right;\">0.527</td>\n",
       "      <td style = \"text-align: right;\">0.522</td>\n",
       "      <td style = \"text-align: right;\">0.526</td>\n",
       "      <td style = \"text-align: right;\">0.5226</td>\n",
       "      <td style = \"text-align: right;\">0.5239</td>\n",
       "      <td style = \"text-align: right;\">0.5246</td>\n",
       "      <td style = \"text-align: right;\">0.5268</td>\n",
       "      <td style = \"text-align: right;\">0.5277</td>\n",
       "    </tr>\n",
       "  </tbody>\n",
       "</table>\n"
      ]
     },
     "metadata": {},
     "output_type": "display_data"
    }
   ],
   "source": [
    "n_assets = length(assets)\n",
    "scenarios = simulate_hmm(hmm[1], n_assets, 180, 100_000)\n",
    "\n",
    "for a in 1:n_assets\n",
    "    print_percentiles(scenarios[a,:,:], [0.02, 0.05, 0.25, 0.5, 0.75, 0.95, 0.98], 12, string(assets[a]))\n",
    "end "
   ]
  },
  {
   "cell_type": "code",
   "execution_count": 71,
   "metadata": {},
   "outputs": [
    {
     "data": {
      "text/plain": [
       "\"mean\""
      ]
     },
     "metadata": {},
     "output_type": "display_data"
    },
    {
     "data": {
      "text/plain": [
       "0.07374883373683425"
      ]
     },
     "metadata": {},
     "output_type": "display_data"
    },
    {
     "data": {
      "text/plain": [
       "\"std\""
      ]
     },
     "metadata": {},
     "output_type": "display_data"
    },
    {
     "data": {
      "text/plain": [
       "0.165463074431944"
      ]
     },
     "metadata": {},
     "output_type": "display_data"
    },
    {
     "data": {
      "text/plain": [
       "\"skewness\""
      ]
     },
     "metadata": {},
     "output_type": "display_data"
    },
    {
     "data": {
      "text/plain": [
       "-0.6761395434471701"
      ]
     },
     "metadata": {},
     "output_type": "display_data"
    },
    {
     "data": {
      "text/plain": [
       "\"kurtosis\""
      ]
     },
     "metadata": {},
     "output_type": "display_data"
    },
    {
     "data": {
      "text/plain": [
       "0.6797054354900056"
      ]
     },
     "metadata": {},
     "output_type": "display_data"
    }
   ],
   "source": [
    "y_data = annualise(scenarios[1, :, 61:73],12)\n",
    "display(\"mean\")\n",
    "display(mean(y_data))\n",
    "display(\"std\")\n",
    "display(std(y_data))\n",
    "display(\"skewness\")\n",
    "display(skewness(y_data))\n",
    "display(\"kurtosis\")\n",
    "display(kurtosis(y_data)) "
   ]
  },
  {
   "cell_type": "code",
   "execution_count": 72,
   "metadata": {},
   "outputs": [
    {
     "data": {
      "text/html": [
       "<table>\n",
       "  <thead>\n",
       "    <tr class = \"header headerLastRow\">\n",
       "      <th class = \"rowLabel\" style = \"font-weight: bold; text-align: right;\"></th>\n",
       "      <th style = \"text-align: right;\">1</th>\n",
       "      <th style = \"text-align: right;\">2</th>\n",
       "      <th style = \"text-align: right;\">3</th>\n",
       "      <th style = \"text-align: right;\">4</th>\n",
       "      <th style = \"text-align: right;\">5</th>\n",
       "      <th style = \"text-align: right;\">6</th>\n",
       "      <th style = \"text-align: right;\">7</th>\n",
       "      <th style = \"text-align: right;\">8</th>\n",
       "      <th style = \"text-align: right;\">9</th>\n",
       "      <th style = \"text-align: right;\">10</th>\n",
       "      <th style = \"text-align: right;\">11</th>\n",
       "      <th style = \"text-align: right;\">12</th>\n",
       "      <th style = \"text-align: right;\">13</th>\n",
       "      <th style = \"text-align: right;\">14</th>\n",
       "    </tr>\n",
       "  </thead>\n",
       "  <tbody>\n",
       "    <tr>\n",
       "      <td class = \"rowLabel\" style = \"font-weight: bold; text-align: right;\">0.02</td>\n",
       "      <td style = \"text-align: right;\">-0.4268</td>\n",
       "      <td style = \"text-align: right;\">-0.3827</td>\n",
       "      <td style = \"text-align: right;\">-0.3708</td>\n",
       "      <td style = \"text-align: right;\">-0.3658</td>\n",
       "      <td style = \"text-align: right;\">-0.3684</td>\n",
       "      <td style = \"text-align: right;\">-0.3655</td>\n",
       "      <td style = \"text-align: right;\">-0.3639</td>\n",
       "      <td style = \"text-align: right;\">-0.362</td>\n",
       "      <td style = \"text-align: right;\">-0.366</td>\n",
       "      <td style = \"text-align: right;\">-0.3639</td>\n",
       "      <td style = \"text-align: right;\">-0.3628</td>\n",
       "      <td style = \"text-align: right;\">-0.3638</td>\n",
       "      <td style = \"text-align: right;\">-0.3632</td>\n",
       "      <td style = \"text-align: right;\">-0.3648</td>\n",
       "    </tr>\n",
       "    <tr>\n",
       "      <td class = \"rowLabel\" style = \"font-weight: bold; text-align: right;\">0.05</td>\n",
       "      <td style = \"text-align: right;\">-0.3371</td>\n",
       "      <td style = \"text-align: right;\">-0.2864</td>\n",
       "      <td style = \"text-align: right;\">-0.2753</td>\n",
       "      <td style = \"text-align: right;\">-0.2706</td>\n",
       "      <td style = \"text-align: right;\">-0.2705</td>\n",
       "      <td style = \"text-align: right;\">-0.2654</td>\n",
       "      <td style = \"text-align: right;\">-0.2703</td>\n",
       "      <td style = \"text-align: right;\">-0.268</td>\n",
       "      <td style = \"text-align: right;\">-0.2706</td>\n",
       "      <td style = \"text-align: right;\">-0.2697</td>\n",
       "      <td style = \"text-align: right;\">-0.2693</td>\n",
       "      <td style = \"text-align: right;\">-0.2703</td>\n",
       "      <td style = \"text-align: right;\">-0.2682</td>\n",
       "      <td style = \"text-align: right;\">-0.2691</td>\n",
       "    </tr>\n",
       "    <tr>\n",
       "      <td class = \"rowLabel\" style = \"font-weight: bold; text-align: right;\">0.25</td>\n",
       "      <td style = \"text-align: right;\">-0.1259</td>\n",
       "      <td style = \"text-align: right;\">-0.0643</td>\n",
       "      <td style = \"text-align: right;\">-0.0487</td>\n",
       "      <td style = \"text-align: right;\">-0.0429</td>\n",
       "      <td style = \"text-align: right;\">-0.0427</td>\n",
       "      <td style = \"text-align: right;\">-0.0417</td>\n",
       "      <td style = \"text-align: right;\">-0.0433</td>\n",
       "      <td style = \"text-align: right;\">-0.0403</td>\n",
       "      <td style = \"text-align: right;\">-0.042</td>\n",
       "      <td style = \"text-align: right;\">-0.0419</td>\n",
       "      <td style = \"text-align: right;\">-0.0413</td>\n",
       "      <td style = \"text-align: right;\">-0.0416</td>\n",
       "      <td style = \"text-align: right;\">-0.0416</td>\n",
       "      <td style = \"text-align: right;\">-0.042</td>\n",
       "    </tr>\n",
       "    <tr>\n",
       "      <td class = \"rowLabel\" style = \"font-weight: bold; text-align: right;\">0.5</td>\n",
       "      <td style = \"text-align: right;\">0.0132</td>\n",
       "      <td style = \"text-align: right;\">0.0749</td>\n",
       "      <td style = \"text-align: right;\">0.0851</td>\n",
       "      <td style = \"text-align: right;\">0.0886</td>\n",
       "      <td style = \"text-align: right;\">0.0885</td>\n",
       "      <td style = \"text-align: right;\">0.0893</td>\n",
       "      <td style = \"text-align: right;\">0.0888</td>\n",
       "      <td style = \"text-align: right;\">0.0902</td>\n",
       "      <td style = \"text-align: right;\">0.0883</td>\n",
       "      <td style = \"text-align: right;\">0.0891</td>\n",
       "      <td style = \"text-align: right;\">0.0889</td>\n",
       "      <td style = \"text-align: right;\">0.0892</td>\n",
       "      <td style = \"text-align: right;\">0.0899</td>\n",
       "      <td style = \"text-align: right;\">0.0891</td>\n",
       "    </tr>\n",
       "    <tr>\n",
       "      <td class = \"rowLabel\" style = \"font-weight: bold; text-align: right;\">0.75</td>\n",
       "      <td style = \"text-align: right;\">0.1385</td>\n",
       "      <td style = \"text-align: right;\">0.1818</td>\n",
       "      <td style = \"text-align: right;\">0.1871</td>\n",
       "      <td style = \"text-align: right;\">0.1896</td>\n",
       "      <td style = \"text-align: right;\">0.1898</td>\n",
       "      <td style = \"text-align: right;\">0.1896</td>\n",
       "      <td style = \"text-align: right;\">0.1899</td>\n",
       "      <td style = \"text-align: right;\">0.1908</td>\n",
       "      <td style = \"text-align: right;\">0.189</td>\n",
       "      <td style = \"text-align: right;\">0.1899</td>\n",
       "      <td style = \"text-align: right;\">0.1901</td>\n",
       "      <td style = \"text-align: right;\">0.1902</td>\n",
       "      <td style = \"text-align: right;\">0.1895</td>\n",
       "      <td style = \"text-align: right;\">0.1892</td>\n",
       "    </tr>\n",
       "    <tr>\n",
       "      <td class = \"rowLabel\" style = \"font-weight: bold; text-align: right;\">0.95</td>\n",
       "      <td style = \"text-align: right;\">0.2982</td>\n",
       "      <td style = \"text-align: right;\">0.3079</td>\n",
       "      <td style = \"text-align: right;\">0.3115</td>\n",
       "      <td style = \"text-align: right;\">0.311</td>\n",
       "      <td style = \"text-align: right;\">0.3114</td>\n",
       "      <td style = \"text-align: right;\">0.311</td>\n",
       "      <td style = \"text-align: right;\">0.3117</td>\n",
       "      <td style = \"text-align: right;\">0.3103</td>\n",
       "      <td style = \"text-align: right;\">0.3093</td>\n",
       "      <td style = \"text-align: right;\">0.3109</td>\n",
       "      <td style = \"text-align: right;\">0.3098</td>\n",
       "      <td style = \"text-align: right;\">0.3095</td>\n",
       "      <td style = \"text-align: right;\">0.309</td>\n",
       "      <td style = \"text-align: right;\">0.3091</td>\n",
       "    </tr>\n",
       "    <tr>\n",
       "      <td class = \"rowLabel\" style = \"font-weight: bold; text-align: right;\">0.98</td>\n",
       "      <td style = \"text-align: right;\">0.3641</td>\n",
       "      <td style = \"text-align: right;\">0.3595</td>\n",
       "      <td style = \"text-align: right;\">0.361</td>\n",
       "      <td style = \"text-align: right;\">0.3597</td>\n",
       "      <td style = \"text-align: right;\">0.3613</td>\n",
       "      <td style = \"text-align: right;\">0.3609</td>\n",
       "      <td style = \"text-align: right;\">0.3607</td>\n",
       "      <td style = \"text-align: right;\">0.36</td>\n",
       "      <td style = \"text-align: right;\">0.3597</td>\n",
       "      <td style = \"text-align: right;\">0.3589</td>\n",
       "      <td style = \"text-align: right;\">0.3611</td>\n",
       "      <td style = \"text-align: right;\">0.3591</td>\n",
       "      <td style = \"text-align: right;\">0.3591</td>\n",
       "      <td style = \"text-align: right;\">0.3589</td>\n",
       "    </tr>\n",
       "  </tbody>\n",
       "</table>\n"
      ]
     },
     "metadata": {},
     "output_type": "display_data"
    }
   ],
   "source": [
    "weights = [0.321, 0.67, 0.009]\n",
    "#weights = [.7, .3]\n",
    "acwi_cum_ret = cumprod(scenarios .+ 1, dims=3)\n",
    "\n",
    "acwi = zeros(100_000, 180)\n",
    "for t in 1:180\n",
    "    acwi[:,t] = acwi_cum_ret[:,:,t]' * weights * 100\n",
    "end\n",
    "\n",
    "acwi = acwi[:, 2:end] ./ acwi[:,1:end-1] .-1\n",
    "\n",
    "print_percentiles(acwi, [0.02, 0.05, 0.25, 0.5, 0.75, 0.95, 0.98], 12)"
   ]
  },
  {
   "cell_type": "code",
   "execution_count": 73,
   "metadata": {},
   "outputs": [
    {
     "data": {
      "text/plain": [
       "\"mean\""
      ]
     },
     "metadata": {},
     "output_type": "display_data"
    },
    {
     "data": {
      "text/plain": [
       "0.06360769501319016"
      ]
     },
     "metadata": {},
     "output_type": "display_data"
    },
    {
     "data": {
      "text/plain": [
       "\"std\""
      ]
     },
     "metadata": {},
     "output_type": "display_data"
    },
    {
     "data": {
      "text/plain": [
       "0.1772543851441384"
      ]
     },
     "metadata": {},
     "output_type": "display_data"
    },
    {
     "data": {
      "text/plain": [
       "\"skewness\""
      ]
     },
     "metadata": {},
     "output_type": "display_data"
    },
    {
     "data": {
      "text/plain": [
       "-0.6376396508191977"
      ]
     },
     "metadata": {},
     "output_type": "display_data"
    },
    {
     "data": {
      "text/plain": [
       "\"kurtosis\""
      ]
     },
     "metadata": {},
     "output_type": "display_data"
    },
    {
     "data": {
      "text/plain": [
       "0.42225630462892916"
      ]
     },
     "metadata": {},
     "output_type": "display_data"
    }
   ],
   "source": [
    "display(\"mean\")\n",
    "display(mean(annualise(acwi[:,60:72],12)))\n",
    "display(\"std\")\n",
    "display(std(annualise(acwi[:,60:72],12)))\n",
    "display(\"skewness\")\n",
    "display(skewness(annualise(acwi[:,60:72],12)))\n",
    "display(\"kurtosis\")\n",
    "display(kurtosis(annualise(acwi[:,60:72],12)))"
   ]
  },
  {
   "cell_type": "code",
   "execution_count": 74,
   "metadata": {},
   "outputs": [
    {
     "data": {
      "text/html": [
       "<table>\n",
       "  <thead>\n",
       "    <tr class = \"header headerLastRow\">\n",
       "      <th class = \"rowLabel\" style = \"font-weight: bold; text-align: right;\"></th>\n",
       "      <th style = \"text-align: right;\">std</th>\n",
       "      <th style = \"text-align: right;\">max</th>\n",
       "      <th style = \"text-align: right;\">mean</th>\n",
       "      <th style = \"text-align: right;\">p75th</th>\n",
       "      <th style = \"text-align: right;\">min</th>\n",
       "      <th style = \"text-align: right;\">skewness</th>\n",
       "      <th style = \"text-align: right;\">p25th</th>\n",
       "      <th style = \"text-align: right;\">autocor</th>\n",
       "      <th style = \"text-align: right;\">kurtosis</th>\n",
       "      <th style = \"text-align: right;\">sr</th>\n",
       "      <th style = \"text-align: right;\">median</th>\n",
       "    </tr>\n",
       "  </thead>\n",
       "  <tbody>\n",
       "    <tr>\n",
       "      <td class = \"rowLabel\" style = \"font-weight: bold; text-align: right;\">ACWI_Net</td>\n",
       "      <td style = \"text-align: right;\">0.1562</td>\n",
       "      <td style = \"text-align: right;\">1.339</td>\n",
       "      <td style = \"text-align: right;\">0.0595</td>\n",
       "      <td style = \"text-align: right;\">0.3651</td>\n",
       "      <td style = \"text-align: right;\">-2.65</td>\n",
       "      <td style = \"text-align: right;\">-0.9712</td>\n",
       "      <td style = \"text-align: right;\">-0.2175</td>\n",
       "      <td style = \"text-align: right;\">0.122</td>\n",
       "      <td style = \"text-align: right;\">2.553</td>\n",
       "      <td style = \"text-align: right;\">0.381</td>\n",
       "      <td style = \"text-align: right;\">0.1197</td>\n",
       "    </tr>\n",
       "  </tbody>\n",
       "</table>\n"
      ]
     },
     "metadata": {},
     "output_type": "display_data"
    }
   ],
   "source": [
    "ACWI_period_returns = returns_usd[:ACWI_Net] |> x -> from(x, Date(1998, 01, 01 )) |> x -> to(x, Date(2019,12,31))\n",
    "returns_summarystats(ACWI_period_returns, 12)"
   ]
  },
  {
   "cell_type": "code",
   "execution_count": 75,
   "metadata": {},
   "outputs": [
    {
     "data": {
      "text/plain": [
       "3×3 Matrix{Float64}:\n",
       " 0.333333  0.666667  1.0\n",
       " 0.666667  2.33333   4.0\n",
       " 1.0       4.0       7.0"
      ]
     },
     "metadata": {},
     "output_type": "display_data"
    }
   ],
   "source": [
    "M = [1 2 1; 3 4 1; 5 6 1]\n",
    "cov(M')"
   ]
  },
  {
   "cell_type": "code",
   "execution_count": 76,
   "metadata": {},
   "outputs": [
    {
     "ename": "MethodError",
     "evalue": "MethodError: Cannot `convert` an object of type Missing to an object of type Float64\n\nClosest candidates are:\n  convert(::Type{Float64}, !Matched::Measures.AbsoluteLength)\n   @ Measures C:\\Users\\matsz\\.julia\\packages\\Measures\\PKOxJ\\src\\length.jl:12\n  convert(::Type{T}, !Matched::DualNumbers.Dual) where T<:Union{Real, Complex}\n   @ DualNumbers C:\\Users\\matsz\\.julia\\packages\\DualNumbers\\5knFX\\src\\dual.jl:24\n  convert(::Type{T}, !Matched::Ratios.SimpleRatio{S}) where {T<:AbstractFloat, S}\n   @ Ratios C:\\Users\\matsz\\.julia\\packages\\Ratios\\FsiCW\\src\\Ratios.jl:51\n  ...\n",
     "output_type": "error",
     "traceback": [
      "MethodError: Cannot `convert` an object of type Missing to an object of type Float64\n",
      "\n",
      "Closest candidates are:\n",
      "  convert(::Type{Float64}, !Matched::Measures.AbsoluteLength)\n",
      "   @ Measures C:\\Users\\matsz\\.julia\\packages\\Measures\\PKOxJ\\src\\length.jl:12\n",
      "  convert(::Type{T}, !Matched::DualNumbers.Dual) where T<:Union{Real, Complex}\n",
      "   @ DualNumbers C:\\Users\\matsz\\.julia\\packages\\DualNumbers\\5knFX\\src\\dual.jl:24\n",
      "  convert(::Type{T}, !Matched::Ratios.SimpleRatio{S}) where {T<:AbstractFloat, S}\n",
      "   @ Ratios C:\\Users\\matsz\\.julia\\packages\\Ratios\\FsiCW\\src\\Ratios.jl:51\n",
      "  ...\n",
      "\n",
      "\n",
      "Stacktrace:\n",
      "  [1] setindex!\n",
      "    @ .\\array.jl:1024 [inlined]\n",
      "  [2] setindex!\n",
      "    @ .\\permuteddimsarray.jl:77 [inlined]\n",
      "  [3] _setindex!\n",
      "    @ .\\abstractarray.jl:1426 [inlined]\n",
      "  [4] setindex!\n",
      "    @ .\\abstractarray.jl:1396 [inlined]\n",
      "  [5] macro expansion\n",
      "    @ .\\reducedim.jl:317 [inlined]\n",
      "  [6] macro expansion\n",
      "    @ .\\simdloop.jl:77 [inlined]\n",
      "  [7] _mapreducedim!(f::ComposedFunction{Statistics.var\"#4#6\"{typeof(identity), Float64}, typeof(adjoint)}, op::typeof(Base.add_sum), R::PermutedDimsArray{Float64, 2, (2, 1), (2, 1), Matrix{Float64}}, A::Matrix{Union{Missing, Int64}})\n",
      "    @ Base .\\reducedim.jl:316\n",
      "  [8] mapreducedim!(f::Function, op::Function, R::PermutedDimsArray{Float64, 2, (2, 1), (2, 1), Matrix{Float64}}, A::Matrix{Union{Missing, Int64}})\n",
      "    @ Base .\\reducedim.jl:324\n",
      "  [9] mapreducedim!(f::Function, op::typeof(Base.add_sum), B::Matrix{Float64}, A::Adjoint{Union{Missing, Int64}, Matrix{Union{Missing, Int64}}})\n",
      "    @ LinearAlgebra C:\\Users\\matsz\\.julia\\juliaup\\julia-1.10.2+0.x64.w64.mingw32\\share\\julia\\stdlib\\v1.10\\LinearAlgebra\\src\\adjtrans.jl:427\n",
      " [10] _mapreduce_dim(f::Function, op::Function, ::Base._InitialValue, A::Adjoint{Union{Missing, Int64}, Matrix{Union{Missing, Int64}}}, dims::Int64)\n",
      "    @ Base .\\reducedim.jl:371\n",
      " [11] mapreduce\n",
      "    @ .\\reducedim.jl:357 [inlined]\n",
      " [12] _sum\n",
      "    @ .\\reducedim.jl:1039 [inlined]\n",
      " [13] sum\n",
      "    @ .\\reducedim.jl:1011 [inlined]\n",
      " [14] _mean(f::typeof(identity), A::Adjoint{Union{Missing, Int64}, Matrix{Union{Missing, Int64}}}, dims::Int64)\n",
      "    @ Statistics C:\\Users\\matsz\\.julia\\juliaup\\julia-1.10.2+0.x64.w64.mingw32\\share\\julia\\stdlib\\v1.10\\Statistics\\src\\Statistics.jl:187\n",
      " [15] mean\n",
      "    @ C:\\Users\\matsz\\.julia\\juliaup\\julia-1.10.2+0.x64.w64.mingw32\\share\\julia\\stdlib\\v1.10\\Statistics\\src\\Statistics.jl:174 [inlined]\n",
      " [16] _vmean\n",
      "    @ C:\\Users\\matsz\\.julia\\juliaup\\julia-1.10.2+0.x64.w64.mingw32\\share\\julia\\stdlib\\v1.10\\Statistics\\src\\Statistics.jl:524 [inlined]\n",
      " [17] cov(X::Adjoint{Union{Missing, Int64}, Matrix{Union{Missing, Int64}}}; dims::Int64, corrected::Bool)\n",
      "    @ Statistics C:\\Users\\matsz\\.julia\\juliaup\\julia-1.10.2+0.x64.w64.mingw32\\share\\julia\\stdlib\\v1.10\\Statistics\\src\\Statistics.jl:594\n",
      " [18] top-level scope\n",
      "    @ c:\\Users\\matsz\\programowanie\\Optymalizacja_portfela\\julia_msp\\jl_notebook_cell_df34fa98e69747e1a8f8a730347b8e2f_X12sZmlsZQ==.jl:2"
     ]
    }
   ],
   "source": [
    "M2 = [1 2 1; 3 4 1; 5 6 missing]\n",
    "cov(M2')"
   ]
  },
  {
   "cell_type": "code",
   "execution_count": 77,
   "metadata": {},
   "outputs": [],
   "source": []
  }
 ],
 "metadata": {
  "kernelspec": {
   "display_name": "Julia 1.10.2",
   "language": "julia",
   "name": "julia-1.10"
  },
  "language_info": {
   "file_extension": ".jl",
   "mimetype": "application/julia",
   "name": "julia",
   "version": "1.10.2"
  }
 },
 "nbformat": 4,
 "nbformat_minor": 2
}
