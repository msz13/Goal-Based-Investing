{
 "cells": [
  {
   "cell_type": "code",
   "execution_count": 12,
   "metadata": {},
   "outputs": [
    {
     "data": {
      "text/plain": [
       "regime_summary (generic function with 1 method)"
      ]
     },
     "metadata": {},
     "output_type": "display_data"
    }
   ],
   "source": [
    "using XLSX\n",
    "using DataFrames, TimeSeries\n",
    "using StatsPlots\n",
    "using Plots\n",
    "using LinearAlgebra\n",
    "using CSV\n",
    "using StatsBase\n",
    "using GLM\n",
    "include(\"utils.jl\")\n",
    "include(\"hmm_est.jl\")"
   ]
  },
  {
   "cell_type": "code",
   "execution_count": 13,
   "metadata": {},
   "outputs": [
    {
     "data": {
      "text/plain": [
       "435×4 TimeArray{Float64, 2, Date, Matrix{Float64}} 1988-01-31 to 2024-03-31\n",
       "┌────────────┬────────────┬──────────────┬─────────────┬─────────────┐\n",
       "│\u001b[1m            \u001b[0m│\u001b[1m USA_Net    \u001b[0m│\u001b[1m World_ex_USA \u001b[0m│\u001b[1m EM_Net      \u001b[0m│\u001b[1m ACWI_Net    \u001b[0m│\n",
       "├────────────┼────────────┼──────────────┼─────────────┼─────────────┤\n",
       "│ 1988-01-31 │  0.0410122 │    0.0153553 │   0.0935834 │   0.0246253 │\n",
       "│ 1988-02-29 │  0.0401109 │    0.0640862 │   0.0031132 │   0.0560778 │\n",
       "│ 1988-03-31 │ -0.0349774 │    0.0592025 │     0.10175 │   0.0302388 │\n",
       "│ 1988-04-30 │ 0.00818061 │    0.0140195 │   0.0517417 │   0.0125024 │\n",
       "│ 1988-05-31 │ 0.00760205 │   -0.0326806 │   0.0292525 │  -0.0201209 │\n",
       "│ 1988-06-30 │  0.0445733 │   -0.0229028 │   0.0331365 │ -0.00119203 │\n",
       "│ 1988-07-31 │ -0.0040323 │    0.0288082 │  -0.0260317 │     0.01818 │\n",
       "│ 1988-08-31 │  -0.035096 │   -0.0667177 │  -0.0274362 │  -0.0566908 │\n",
       "│     ⋮      │     ⋮      │      ⋮       │      ⋮      │      ⋮      │\n",
       "│ 2023-09-30 │ -0.0483353 │   -0.0342956 │  -0.0264995 │   -0.042229 │\n",
       "│ 2023-10-31 │ -0.0235616 │   -0.0431263 │   -0.039629 │   -0.030529 │\n",
       "│ 2023-11-30 │  0.0895259 │    0.0898198 │   0.0769883 │   0.0882833 │\n",
       "│ 2023-12-31 │  0.0456572 │    0.0532219 │   0.0383487 │   0.0469154 │\n",
       "│ 2024-01-31 │  0.0151977 │   0.00429701 │  -0.0475452 │  0.00584454 │\n",
       "│ 2024-02-29 │  0.0518111 │    0.0169284 │    0.046475 │   0.0420184 │\n",
       "│ 2024-03-31 │  0.0309855 │    0.0331842 │   0.0244778 │   0.0309141 │\n",
       "└────────────┴────────────┴──────────────┴─────────────┴─────────────┘\n",
       "\u001b[36m                                                      420 rows omitted\u001b[0m"
      ]
     },
     "metadata": {},
     "output_type": "display_data"
    }
   ],
   "source": [
    "#columns = [:Date, :USA_Net, :World_ex_USA, :EM_Net, :ACWI_Net]\n",
    "columns = [:Date, :USA_Net, :World_ex_USA, :EM_Net, :ACWI_Net]\n",
    "assets = [:USA_Net, :World_ex_USA, :EM_Net]\n",
    "data_df = DataFrame(XLSX.readtable(\"data/assets_data_03.24.xlsx\", \"Indexes\"; infer_eltypes=true))[2:end, columns]\n",
    "dropmissing!(data_df, disallowmissing=true)\n",
    "returns_usd = data_df |> \n",
    "            x -> TimeArray(x; timestamp = :Date) |> \n",
    "            x -> percentchange(x, :log)"
   ]
  },
  {
   "cell_type": "code",
   "execution_count": 14,
   "metadata": {},
   "outputs": [
    {
     "data": {
      "text/plain": [
       "417×3 TimeArray{Float64, 2, Date, Matrix{Float64}} 1988-01-31 to 2022-09-30\n",
       "┌────────────┬─────────────┬──────────────┬─────────────┐\n",
       "│\u001b[1m            \u001b[0m│\u001b[1m USA_Net     \u001b[0m│\u001b[1m World_ex_USA \u001b[0m│\u001b[1m EM_Net      \u001b[0m│\n",
       "├────────────┼─────────────┼──────────────┼─────────────┤\n",
       "│ 1988-01-31 │   0.0410122 │    0.0153553 │   0.0935834 │\n",
       "│ 1988-02-29 │   0.0401109 │    0.0640862 │   0.0031132 │\n",
       "│ 1988-03-31 │  -0.0349774 │    0.0592025 │     0.10175 │\n",
       "│ 1988-04-30 │  0.00818061 │    0.0140195 │   0.0517417 │\n",
       "│ 1988-05-31 │  0.00760205 │   -0.0326806 │   0.0292525 │\n",
       "│ 1988-06-30 │   0.0445733 │   -0.0229028 │   0.0331365 │\n",
       "│ 1988-07-31 │  -0.0040323 │    0.0288082 │  -0.0260317 │\n",
       "│ 1988-08-31 │   -0.035096 │   -0.0667177 │  -0.0274362 │\n",
       "│     ⋮      │      ⋮      │      ⋮       │      ⋮      │\n",
       "│ 2022-03-31 │     0.03417 │    0.0115373 │  -0.0228443 │\n",
       "│ 2022-04-30 │  -0.0952756 │   -0.0679247 │  -0.0572341 │\n",
       "│ 2022-05-31 │ -0.00270982 │    0.0082682 │   0.0043937 │\n",
       "│ 2022-06-30 │  -0.0868359 │   -0.0988188 │  -0.0687611 │\n",
       "│ 2022-07-31 │   0.0888659 │    0.0485227 │ -0.00245985 │\n",
       "│ 2022-08-31 │  -0.0404618 │   -0.0478424 │   0.0041668 │\n",
       "│ 2022-09-30 │  -0.0977404 │   -0.0971375 │   -0.124694 │\n",
       "└────────────┴─────────────┴──────────────┴─────────────┘\n",
       "\u001b[36m                                         402 rows omitted\u001b[0m"
      ]
     },
     "metadata": {},
     "output_type": "display_data"
    }
   ],
   "source": [
    "period_returns = returns_usd[assets] |> x -> from(x, Date(1987, 12,1 )) |> x -> to(x, Date(2022,09,30))"
   ]
  },
  {
   "cell_type": "code",
   "execution_count": 15,
   "metadata": {},
   "outputs": [
    {
     "data": {
      "text/plain": [
       "4-element Vector{Symbol}:\n",
       " :USA_Net\n",
       " :World_ex_USA\n",
       " :EM_Net\n",
       " :ACWI_Net"
      ]
     },
     "metadata": {},
     "output_type": "display_data"
    }
   ],
   "source": [
    "[assets; :ACWI_Net]"
   ]
  },
  {
   "cell_type": "code",
   "execution_count": 34,
   "metadata": {},
   "outputs": [
    {
     "data": {
      "text/html": [
       "<table>\n",
       "  <thead>\n",
       "    <tr class = \"header headerLastRow\">\n",
       "      <th class = \"rowLabel\" style = \"font-weight: bold; text-align: right;\"></th>\n",
       "      <th style = \"text-align: right;\">std</th>\n",
       "      <th style = \"text-align: right;\">max</th>\n",
       "      <th style = \"text-align: right;\">mean</th>\n",
       "      <th style = \"text-align: right;\">p75th</th>\n",
       "      <th style = \"text-align: right;\">min</th>\n",
       "      <th style = \"text-align: right;\">skewness</th>\n",
       "      <th style = \"text-align: right;\">p25th</th>\n",
       "      <th style = \"text-align: right;\">autocor</th>\n",
       "      <th style = \"text-align: right;\">kurtosis</th>\n",
       "      <th style = \"text-align: right;\">sr</th>\n",
       "      <th style = \"text-align: right;\">median</th>\n",
       "    </tr>\n",
       "  </thead>\n",
       "  <tbody>\n",
       "    <tr>\n",
       "      <td class = \"rowLabel\" style = \"font-weight: bold; text-align: right;\">USA_Net</td>\n",
       "      <td style = \"text-align: right;\">0.1507</td>\n",
       "      <td style = \"text-align: right;\">1.246</td>\n",
       "      <td style = \"text-align: right;\">0.0676</td>\n",
       "      <td style = \"text-align: right;\">0.4027</td>\n",
       "      <td style = \"text-align: right;\">-2.257</td>\n",
       "      <td style = \"text-align: right;\">-0.84</td>\n",
       "      <td style = \"text-align: right;\">-0.2075</td>\n",
       "      <td style = \"text-align: right;\">0.0703</td>\n",
       "      <td style = \"text-align: right;\">1.6368</td>\n",
       "      <td style = \"text-align: right;\">0.4485</td>\n",
       "      <td style = \"text-align: right;\">0.1412</td>\n",
       "    </tr>\n",
       "    <tr>\n",
       "      <td class = \"rowLabel\" style = \"font-weight: bold; text-align: right;\">World_ex_USA</td>\n",
       "      <td style = \"text-align: right;\">0.1653</td>\n",
       "      <td style = \"text-align: right;\">1.4555</td>\n",
       "      <td style = \"text-align: right;\">0.0499</td>\n",
       "      <td style = \"text-align: right;\">0.4126</td>\n",
       "      <td style = \"text-align: right;\">-2.7986</td>\n",
       "      <td style = \"text-align: right;\">-0.913</td>\n",
       "      <td style = \"text-align: right;\">-0.2363</td>\n",
       "      <td style = \"text-align: right;\">0.1497</td>\n",
       "      <td style = \"text-align: right;\">2.4191</td>\n",
       "      <td style = \"text-align: right;\">0.3017</td>\n",
       "      <td style = \"text-align: right;\">0.1038</td>\n",
       "    </tr>\n",
       "    <tr>\n",
       "      <td class = \"rowLabel\" style = \"font-weight: bold; text-align: right;\">EM_Net</td>\n",
       "      <td style = \"text-align: right;\">0.233</td>\n",
       "      <td style = \"text-align: right;\">1.893</td>\n",
       "      <td style = \"text-align: right;\">0.0684</td>\n",
       "      <td style = \"text-align: right;\">0.5702</td>\n",
       "      <td style = \"text-align: right;\">-4.1</td>\n",
       "      <td style = \"text-align: right;\">-1.0973</td>\n",
       "      <td style = \"text-align: right;\">-0.3213</td>\n",
       "      <td style = \"text-align: right;\">0.1423</td>\n",
       "      <td style = \"text-align: right;\">3.896</td>\n",
       "      <td style = \"text-align: right;\">0.2936</td>\n",
       "      <td style = \"text-align: right;\">0.1038</td>\n",
       "    </tr>\n",
       "  </tbody>\n",
       "</table>\n"
      ]
     },
     "metadata": {},
     "output_type": "display_data"
    }
   ],
   "source": [
    "period_returns = returns_usd[assets] |> x -> from(x, Date(1998, 01, 01 )) |> x -> to(x, Date(2019,12,31))\n",
    "returns_summarystats(period_returns, 12)"
   ]
  },
  {
   "cell_type": "code",
   "execution_count": 45,
   "metadata": {},
   "outputs": [
    {
     "name": "stdout",
     "output_type": "stream",
     "text": [
      "Means\n",
      "Standard deviations\n",
      "Regimes transition matrix\n"
     ]
    },
    {
     "data": {
      "text/html": [
       "<table>\n",
       "  <thead>\n",
       "    <tr class = \"header headerLastRow\">\n",
       "      <th class = \"rowNumber\" style = \"font-weight: bold; text-align: right;\">Regime</th>\n",
       "      <th style = \"text-align: right;\">USA_Net</th>\n",
       "      <th style = \"text-align: right;\">World_ex_USA</th>\n",
       "      <th style = \"text-align: right;\">EM_Net</th>\n",
       "    </tr>\n",
       "  </thead>\n",
       "  <tbody>\n",
       "    <tr>\n",
       "      <td class = \"rowNumber\" style = \"font-weight: bold; text-align: right;\">1</td>\n",
       "      <td style = \"text-align: right;\">-0.235</td>\n",
       "      <td style = \"text-align: right;\">-0.323</td>\n",
       "      <td style = \"text-align: right;\">-0.306</td>\n",
       "    </tr>\n",
       "    <tr>\n",
       "      <td class = \"rowNumber\" style = \"font-weight: bold; text-align: right;\">2</td>\n",
       "      <td style = \"text-align: right;\">0.468</td>\n",
       "      <td style = \"text-align: right;\">0.436</td>\n",
       "      <td style = \"text-align: right;\">0.515</td>\n",
       "    </tr>\n",
       "  </tbody>\n",
       "</table>\n"
      ]
     },
     "metadata": {},
     "output_type": "display_data"
    },
    {
     "data": {
      "text/html": [
       "<table>\n",
       "  <thead>\n",
       "    <tr class = \"header headerLastRow\">\n",
       "      <th class = \"rowNumber\" style = \"font-weight: bold; text-align: right;\">Regime</th>\n",
       "      <th style = \"text-align: right;\">USA_Net</th>\n",
       "      <th style = \"text-align: right;\">World_ex_USA</th>\n",
       "      <th style = \"text-align: right;\">EM_Net</th>\n",
       "    </tr>\n",
       "  </thead>\n",
       "  <tbody>\n",
       "    <tr>\n",
       "      <td class = \"rowNumber\" style = \"font-weight: bold; text-align: right;\">1</td>\n",
       "      <td style = \"text-align: right;\">0.356</td>\n",
       "      <td style = \"text-align: right;\">0.375</td>\n",
       "      <td style = \"text-align: right;\">0.542</td>\n",
       "    </tr>\n",
       "    <tr>\n",
       "      <td class = \"rowNumber\" style = \"font-weight: bold; text-align: right;\">2</td>\n",
       "      <td style = \"text-align: right;\">0.165</td>\n",
       "      <td style = \"text-align: right;\">0.199</td>\n",
       "      <td style = \"text-align: right;\">0.275</td>\n",
       "    </tr>\n",
       "  </tbody>\n",
       "</table>\n"
      ]
     },
     "metadata": {},
     "output_type": "display_data"
    },
    {
     "data": {
      "text/plain": [
       "\"Correlations in regime 1\""
      ]
     },
     "metadata": {},
     "output_type": "display_data"
    },
    {
     "data": {
      "text/html": [
       "<table>\n",
       "  <thead>\n",
       "    <tr class = \"header headerLastRow\">\n",
       "      <th class = \"rowLabel\" style = \"font-weight: bold; text-align: right;\"></th>\n",
       "      <th style = \"text-align: right;\">USA_Net</th>\n",
       "      <th style = \"text-align: right;\">World_ex_USA</th>\n",
       "      <th style = \"text-align: right;\">EM_Net</th>\n",
       "    </tr>\n",
       "  </thead>\n",
       "  <tbody>\n",
       "    <tr>\n",
       "      <td class = \"rowLabel\" style = \"font-weight: bold; text-align: right;\">USA_Net</td>\n",
       "      <td style = \"text-align: right;\">1.000</td>\n",
       "      <td style = \"text-align: right;\">0.884</td>\n",
       "      <td style = \"text-align: right;\">0.794</td>\n",
       "    </tr>\n",
       "    <tr>\n",
       "      <td class = \"rowLabel\" style = \"font-weight: bold; text-align: right;\">World_ex_USA</td>\n",
       "      <td style = \"text-align: right;\">0.884</td>\n",
       "      <td style = \"text-align: right;\">1.000</td>\n",
       "      <td style = \"text-align: right;\">0.845</td>\n",
       "    </tr>\n",
       "    <tr>\n",
       "      <td class = \"rowLabel\" style = \"font-weight: bold; text-align: right;\">EM_Net</td>\n",
       "      <td style = \"text-align: right;\">0.794</td>\n",
       "      <td style = \"text-align: right;\">0.845</td>\n",
       "      <td style = \"text-align: right;\">1.000</td>\n",
       "    </tr>\n",
       "  </tbody>\n",
       "</table>\n"
      ]
     },
     "metadata": {},
     "output_type": "display_data"
    },
    {
     "data": {
      "text/plain": [
       "\"Correlations in regime 2\""
      ]
     },
     "metadata": {},
     "output_type": "display_data"
    },
    {
     "data": {
      "text/html": [
       "<table>\n",
       "  <thead>\n",
       "    <tr class = \"header headerLastRow\">\n",
       "      <th class = \"rowLabel\" style = \"font-weight: bold; text-align: right;\"></th>\n",
       "      <th style = \"text-align: right;\">USA_Net</th>\n",
       "      <th style = \"text-align: right;\">World_ex_USA</th>\n",
       "      <th style = \"text-align: right;\">EM_Net</th>\n",
       "    </tr>\n",
       "  </thead>\n",
       "  <tbody>\n",
       "    <tr>\n",
       "      <td class = \"rowLabel\" style = \"font-weight: bold; text-align: right;\">USA_Net</td>\n",
       "      <td style = \"text-align: right;\">1.000</td>\n",
       "      <td style = \"text-align: right;\">0.805</td>\n",
       "      <td style = \"text-align: right;\">0.653</td>\n",
       "    </tr>\n",
       "    <tr>\n",
       "      <td class = \"rowLabel\" style = \"font-weight: bold; text-align: right;\">World_ex_USA</td>\n",
       "      <td style = \"text-align: right;\">0.805</td>\n",
       "      <td style = \"text-align: right;\">1.000</td>\n",
       "      <td style = \"text-align: right;\">0.823</td>\n",
       "    </tr>\n",
       "    <tr>\n",
       "      <td class = \"rowLabel\" style = \"font-weight: bold; text-align: right;\">EM_Net</td>\n",
       "      <td style = \"text-align: right;\">0.653</td>\n",
       "      <td style = \"text-align: right;\">0.823</td>\n",
       "      <td style = \"text-align: right;\">1.000</td>\n",
       "    </tr>\n",
       "  </tbody>\n",
       "</table>\n"
      ]
     },
     "metadata": {},
     "output_type": "display_data"
    },
    {
     "data": {
      "text/html": [
       "<table>\n",
       "  <thead>\n",
       "    <tr class = \"header headerLastRow\">\n",
       "      <th class = \"rowNumber\" style = \"font-weight: bold; text-align: right;\">Regime</th>\n",
       "      <th style = \"text-align: right;\">1</th>\n",
       "      <th style = \"text-align: right;\">2</th>\n",
       "    </tr>\n",
       "  </thead>\n",
       "  <tbody>\n",
       "    <tr>\n",
       "      <td class = \"rowNumber\" style = \"font-weight: bold; text-align: right;\">1</td>\n",
       "      <td style = \"text-align: right;\">0.928</td>\n",
       "      <td style = \"text-align: right;\">0.072</td>\n",
       "    </tr>\n",
       "    <tr>\n",
       "      <td class = \"rowNumber\" style = \"font-weight: bold; text-align: right;\">2</td>\n",
       "      <td style = \"text-align: right;\">0.038</td>\n",
       "      <td style = \"text-align: right;\">0.962</td>\n",
       "    </tr>\n",
       "  </tbody>\n",
       "</table>\n"
      ]
     },
     "metadata": {},
     "output_type": "display_data"
    }
   ],
   "source": [
    "hmm = hmm_est(period_returns, 2)\n",
    "regime_summary(hmm[1], assets, 36)\n"
   ]
  },
  {
   "cell_type": "code",
   "execution_count": 46,
   "metadata": {},
   "outputs": [
    {
     "data": {
      "text/html": [
       "<table>\n",
       "  <caption style = \"text-align: left;\">USA_Net</caption>\n",
       "  <thead>\n",
       "    <tr class = \"header headerLastRow\">\n",
       "      <th class = \"rowLabel\" style = \"font-weight: bold; text-align: right;\"></th>\n",
       "      <th style = \"text-align: right;\">1</th>\n",
       "      <th style = \"text-align: right;\">2</th>\n",
       "      <th style = \"text-align: right;\">3</th>\n",
       "      <th style = \"text-align: right;\">4</th>\n",
       "      <th style = \"text-align: right;\">5</th>\n",
       "      <th style = \"text-align: right;\">6</th>\n",
       "      <th style = \"text-align: right;\">7</th>\n",
       "      <th style = \"text-align: right;\">8</th>\n",
       "      <th style = \"text-align: right;\">9</th>\n",
       "      <th style = \"text-align: right;\">10</th>\n",
       "      <th style = \"text-align: right;\">11</th>\n",
       "      <th style = \"text-align: right;\">12</th>\n",
       "      <th style = \"text-align: right;\">13</th>\n",
       "      <th style = \"text-align: right;\">14</th>\n",
       "      <th style = \"text-align: right;\">15</th>\n",
       "    </tr>\n",
       "  </thead>\n",
       "  <tbody>\n",
       "    <tr>\n",
       "      <td class = \"rowLabel\" style = \"font-weight: bold; text-align: right;\">0.02</td>\n",
       "      <td style = \"text-align: right;\">-0.4453</td>\n",
       "      <td style = \"text-align: right;\">-0.3847</td>\n",
       "      <td style = \"text-align: right;\">-0.3655</td>\n",
       "      <td style = \"text-align: right;\">-0.3529</td>\n",
       "      <td style = \"text-align: right;\">-0.3524</td>\n",
       "      <td style = \"text-align: right;\">-0.3554</td>\n",
       "      <td style = \"text-align: right;\">-0.3578</td>\n",
       "      <td style = \"text-align: right;\">-0.352</td>\n",
       "      <td style = \"text-align: right;\">-0.3584</td>\n",
       "      <td style = \"text-align: right;\">-0.3529</td>\n",
       "      <td style = \"text-align: right;\">-0.3522</td>\n",
       "      <td style = \"text-align: right;\">-0.3546</td>\n",
       "      <td style = \"text-align: right;\">-0.3569</td>\n",
       "      <td style = \"text-align: right;\">-0.3564</td>\n",
       "      <td style = \"text-align: right;\">-0.3544</td>\n",
       "    </tr>\n",
       "    <tr>\n",
       "      <td class = \"rowLabel\" style = \"font-weight: bold; text-align: right;\">0.05</td>\n",
       "      <td style = \"text-align: right;\">-0.3563</td>\n",
       "      <td style = \"text-align: right;\">-0.2849</td>\n",
       "      <td style = \"text-align: right;\">-0.2638</td>\n",
       "      <td style = \"text-align: right;\">-0.2533</td>\n",
       "      <td style = \"text-align: right;\">-0.251</td>\n",
       "      <td style = \"text-align: right;\">-0.2536</td>\n",
       "      <td style = \"text-align: right;\">-0.2538</td>\n",
       "      <td style = \"text-align: right;\">-0.2517</td>\n",
       "      <td style = \"text-align: right;\">-0.2548</td>\n",
       "      <td style = \"text-align: right;\">-0.2531</td>\n",
       "      <td style = \"text-align: right;\">-0.2488</td>\n",
       "      <td style = \"text-align: right;\">-0.2504</td>\n",
       "      <td style = \"text-align: right;\">-0.2543</td>\n",
       "      <td style = \"text-align: right;\">-0.2522</td>\n",
       "      <td style = \"text-align: right;\">-0.2535</td>\n",
       "    </tr>\n",
       "    <tr>\n",
       "      <td class = \"rowLabel\" style = \"font-weight: bold; text-align: right;\">0.25</td>\n",
       "      <td style = \"text-align: right;\">-0.1404</td>\n",
       "      <td style = \"text-align: right;\">-0.0507</td>\n",
       "      <td style = \"text-align: right;\">-0.023</td>\n",
       "      <td style = \"text-align: right;\">-0.0152</td>\n",
       "      <td style = \"text-align: right;\">-0.0151</td>\n",
       "      <td style = \"text-align: right;\">-0.0162</td>\n",
       "      <td style = \"text-align: right;\">-0.0143</td>\n",
       "      <td style = \"text-align: right;\">-0.0139</td>\n",
       "      <td style = \"text-align: right;\">-0.0149</td>\n",
       "      <td style = \"text-align: right;\">-0.013</td>\n",
       "      <td style = \"text-align: right;\">-0.0131</td>\n",
       "      <td style = \"text-align: right;\">-0.0135</td>\n",
       "      <td style = \"text-align: right;\">-0.0143</td>\n",
       "      <td style = \"text-align: right;\">-0.0132</td>\n",
       "      <td style = \"text-align: right;\">-0.0136</td>\n",
       "    </tr>\n",
       "    <tr>\n",
       "      <td class = \"rowLabel\" style = \"font-weight: bold; text-align: right;\">0.5</td>\n",
       "      <td style = \"text-align: right;\">-0.0003</td>\n",
       "      <td style = \"text-align: right;\">0.0812</td>\n",
       "      <td style = \"text-align: right;\">0.0972</td>\n",
       "      <td style = \"text-align: right;\">0.1004</td>\n",
       "      <td style = \"text-align: right;\">0.1011</td>\n",
       "      <td style = \"text-align: right;\">0.1014</td>\n",
       "      <td style = \"text-align: right;\">0.1013</td>\n",
       "      <td style = \"text-align: right;\">0.1017</td>\n",
       "      <td style = \"text-align: right;\">0.1002</td>\n",
       "      <td style = \"text-align: right;\">0.1019</td>\n",
       "      <td style = \"text-align: right;\">0.1018</td>\n",
       "      <td style = \"text-align: right;\">0.102</td>\n",
       "      <td style = \"text-align: right;\">0.1015</td>\n",
       "      <td style = \"text-align: right;\">0.1017</td>\n",
       "      <td style = \"text-align: right;\">0.1025</td>\n",
       "    </tr>\n",
       "    <tr>\n",
       "      <td class = \"rowLabel\" style = \"font-weight: bold; text-align: right;\">0.75</td>\n",
       "      <td style = \"text-align: right;\">0.1258</td>\n",
       "      <td style = \"text-align: right;\">0.18</td>\n",
       "      <td style = \"text-align: right;\">0.1888</td>\n",
       "      <td style = \"text-align: right;\">0.1896</td>\n",
       "      <td style = \"text-align: right;\">0.19</td>\n",
       "      <td style = \"text-align: right;\">0.1897</td>\n",
       "      <td style = \"text-align: right;\">0.1893</td>\n",
       "      <td style = \"text-align: right;\">0.1901</td>\n",
       "      <td style = \"text-align: right;\">0.1899</td>\n",
       "      <td style = \"text-align: right;\">0.1899</td>\n",
       "      <td style = \"text-align: right;\">0.1904</td>\n",
       "      <td style = \"text-align: right;\">0.1906</td>\n",
       "      <td style = \"text-align: right;\">0.1905</td>\n",
       "      <td style = \"text-align: right;\">0.1894</td>\n",
       "      <td style = \"text-align: right;\">0.1906</td>\n",
       "    </tr>\n",
       "    <tr>\n",
       "      <td class = \"rowLabel\" style = \"font-weight: bold; text-align: right;\">0.95</td>\n",
       "      <td style = \"text-align: right;\">0.2856</td>\n",
       "      <td style = \"text-align: right;\">0.303</td>\n",
       "      <td style = \"text-align: right;\">0.3058</td>\n",
       "      <td style = \"text-align: right;\">0.3057</td>\n",
       "      <td style = \"text-align: right;\">0.3057</td>\n",
       "      <td style = \"text-align: right;\">0.3045</td>\n",
       "      <td style = \"text-align: right;\">0.3046</td>\n",
       "      <td style = \"text-align: right;\">0.3071</td>\n",
       "      <td style = \"text-align: right;\">0.3036</td>\n",
       "      <td style = \"text-align: right;\">0.305</td>\n",
       "      <td style = \"text-align: right;\">0.3054</td>\n",
       "      <td style = \"text-align: right;\">0.3064</td>\n",
       "      <td style = \"text-align: right;\">0.3056</td>\n",
       "      <td style = \"text-align: right;\">0.305</td>\n",
       "      <td style = \"text-align: right;\">0.3068</td>\n",
       "    </tr>\n",
       "    <tr>\n",
       "      <td class = \"rowLabel\" style = \"font-weight: bold; text-align: right;\">0.98</td>\n",
       "      <td style = \"text-align: right;\">0.3542</td>\n",
       "      <td style = \"text-align: right;\">0.3552</td>\n",
       "      <td style = \"text-align: right;\">0.3562</td>\n",
       "      <td style = \"text-align: right;\">0.3554</td>\n",
       "      <td style = \"text-align: right;\">0.3558</td>\n",
       "      <td style = \"text-align: right;\">0.356</td>\n",
       "      <td style = \"text-align: right;\">0.3536</td>\n",
       "      <td style = \"text-align: right;\">0.3559</td>\n",
       "      <td style = \"text-align: right;\">0.3539</td>\n",
       "      <td style = \"text-align: right;\">0.3545</td>\n",
       "      <td style = \"text-align: right;\">0.3548</td>\n",
       "      <td style = \"text-align: right;\">0.3567</td>\n",
       "      <td style = \"text-align: right;\">0.3566</td>\n",
       "      <td style = \"text-align: right;\">0.356</td>\n",
       "      <td style = \"text-align: right;\">0.357</td>\n",
       "    </tr>\n",
       "  </tbody>\n",
       "</table>\n"
      ]
     },
     "metadata": {},
     "output_type": "display_data"
    },
    {
     "data": {
      "text/html": [
       "<table>\n",
       "  <caption style = \"text-align: left;\">World_ex_USA</caption>\n",
       "  <thead>\n",
       "    <tr class = \"header headerLastRow\">\n",
       "      <th class = \"rowLabel\" style = \"font-weight: bold; text-align: right;\"></th>\n",
       "      <th style = \"text-align: right;\">1</th>\n",
       "      <th style = \"text-align: right;\">2</th>\n",
       "      <th style = \"text-align: right;\">3</th>\n",
       "      <th style = \"text-align: right;\">4</th>\n",
       "      <th style = \"text-align: right;\">5</th>\n",
       "      <th style = \"text-align: right;\">6</th>\n",
       "      <th style = \"text-align: right;\">7</th>\n",
       "      <th style = \"text-align: right;\">8</th>\n",
       "      <th style = \"text-align: right;\">9</th>\n",
       "      <th style = \"text-align: right;\">10</th>\n",
       "      <th style = \"text-align: right;\">11</th>\n",
       "      <th style = \"text-align: right;\">12</th>\n",
       "      <th style = \"text-align: right;\">13</th>\n",
       "      <th style = \"text-align: right;\">14</th>\n",
       "      <th style = \"text-align: right;\">15</th>\n",
       "    </tr>\n",
       "  </thead>\n",
       "  <tbody>\n",
       "    <tr>\n",
       "      <td class = \"rowLabel\" style = \"font-weight: bold; text-align: right;\">0.02</td>\n",
       "      <td style = \"text-align: right;\">-0.493</td>\n",
       "      <td style = \"text-align: right;\">-0.4302</td>\n",
       "      <td style = \"text-align: right;\">-0.4072</td>\n",
       "      <td style = \"text-align: right;\">-0.3967</td>\n",
       "      <td style = \"text-align: right;\">-0.3991</td>\n",
       "      <td style = \"text-align: right;\">-0.4024</td>\n",
       "      <td style = \"text-align: right;\">-0.4033</td>\n",
       "      <td style = \"text-align: right;\">-0.3991</td>\n",
       "      <td style = \"text-align: right;\">-0.4007</td>\n",
       "      <td style = \"text-align: right;\">-0.3981</td>\n",
       "      <td style = \"text-align: right;\">-0.3971</td>\n",
       "      <td style = \"text-align: right;\">-0.4014</td>\n",
       "      <td style = \"text-align: right;\">-0.4014</td>\n",
       "      <td style = \"text-align: right;\">-0.3987</td>\n",
       "      <td style = \"text-align: right;\">-0.3982</td>\n",
       "    </tr>\n",
       "    <tr>\n",
       "      <td class = \"rowLabel\" style = \"font-weight: bold; text-align: right;\">0.05</td>\n",
       "      <td style = \"text-align: right;\">-0.399</td>\n",
       "      <td style = \"text-align: right;\">-0.3279</td>\n",
       "      <td style = \"text-align: right;\">-0.3026</td>\n",
       "      <td style = \"text-align: right;\">-0.2934</td>\n",
       "      <td style = \"text-align: right;\">-0.2914</td>\n",
       "      <td style = \"text-align: right;\">-0.2952</td>\n",
       "      <td style = \"text-align: right;\">-0.2969</td>\n",
       "      <td style = \"text-align: right;\">-0.2917</td>\n",
       "      <td style = \"text-align: right;\">-0.2948</td>\n",
       "      <td style = \"text-align: right;\">-0.2941</td>\n",
       "      <td style = \"text-align: right;\">-0.2892</td>\n",
       "      <td style = \"text-align: right;\">-0.2899</td>\n",
       "      <td style = \"text-align: right;\">-0.2945</td>\n",
       "      <td style = \"text-align: right;\">-0.2929</td>\n",
       "      <td style = \"text-align: right;\">-0.2918</td>\n",
       "    </tr>\n",
       "    <tr>\n",
       "      <td class = \"rowLabel\" style = \"font-weight: bold; text-align: right;\">0.25</td>\n",
       "      <td style = \"text-align: right;\">-0.1741</td>\n",
       "      <td style = \"text-align: right;\">-0.0821</td>\n",
       "      <td style = \"text-align: right;\">-0.0536</td>\n",
       "      <td style = \"text-align: right;\">-0.047</td>\n",
       "      <td style = \"text-align: right;\">-0.0453</td>\n",
       "      <td style = \"text-align: right;\">-0.0468</td>\n",
       "      <td style = \"text-align: right;\">-0.046</td>\n",
       "      <td style = \"text-align: right;\">-0.0457</td>\n",
       "      <td style = \"text-align: right;\">-0.0465</td>\n",
       "      <td style = \"text-align: right;\">-0.0448</td>\n",
       "      <td style = \"text-align: right;\">-0.0455</td>\n",
       "      <td style = \"text-align: right;\">-0.045</td>\n",
       "      <td style = \"text-align: right;\">-0.046</td>\n",
       "      <td style = \"text-align: right;\">-0.0443</td>\n",
       "      <td style = \"text-align: right;\">-0.0448</td>\n",
       "    </tr>\n",
       "    <tr>\n",
       "      <td class = \"rowLabel\" style = \"font-weight: bold; text-align: right;\">0.5</td>\n",
       "      <td style = \"text-align: right;\">-0.0261</td>\n",
       "      <td style = \"text-align: right;\">0.0597</td>\n",
       "      <td style = \"text-align: right;\">0.0775</td>\n",
       "      <td style = \"text-align: right;\">0.0815</td>\n",
       "      <td style = \"text-align: right;\">0.0814</td>\n",
       "      <td style = \"text-align: right;\">0.0813</td>\n",
       "      <td style = \"text-align: right;\">0.0816</td>\n",
       "      <td style = \"text-align: right;\">0.0828</td>\n",
       "      <td style = \"text-align: right;\">0.0826</td>\n",
       "      <td style = \"text-align: right;\">0.0824</td>\n",
       "      <td style = \"text-align: right;\">0.0821</td>\n",
       "      <td style = \"text-align: right;\">0.0819</td>\n",
       "      <td style = \"text-align: right;\">0.0831</td>\n",
       "      <td style = \"text-align: right;\">0.0826</td>\n",
       "      <td style = \"text-align: right;\">0.0827</td>\n",
       "    </tr>\n",
       "    <tr>\n",
       "      <td class = \"rowLabel\" style = \"font-weight: bold; text-align: right;\">0.75</td>\n",
       "      <td style = \"text-align: right;\">0.1097</td>\n",
       "      <td style = \"text-align: right;\">0.1722</td>\n",
       "      <td style = \"text-align: right;\">0.1829</td>\n",
       "      <td style = \"text-align: right;\">0.184</td>\n",
       "      <td style = \"text-align: right;\">0.1854</td>\n",
       "      <td style = \"text-align: right;\">0.1847</td>\n",
       "      <td style = \"text-align: right;\">0.184</td>\n",
       "      <td style = \"text-align: right;\">0.1861</td>\n",
       "      <td style = \"text-align: right;\">0.1853</td>\n",
       "      <td style = \"text-align: right;\">0.1855</td>\n",
       "      <td style = \"text-align: right;\">0.1862</td>\n",
       "      <td style = \"text-align: right;\">0.1858</td>\n",
       "      <td style = \"text-align: right;\">0.1853</td>\n",
       "      <td style = \"text-align: right;\">0.1845</td>\n",
       "      <td style = \"text-align: right;\">0.186</td>\n",
       "    </tr>\n",
       "    <tr>\n",
       "      <td class = \"rowLabel\" style = \"font-weight: bold; text-align: right;\">0.95</td>\n",
       "      <td style = \"text-align: right;\">0.2862</td>\n",
       "      <td style = \"text-align: right;\">0.3148</td>\n",
       "      <td style = \"text-align: right;\">0.319</td>\n",
       "      <td style = \"text-align: right;\">0.3196</td>\n",
       "      <td style = \"text-align: right;\">0.3192</td>\n",
       "      <td style = \"text-align: right;\">0.3208</td>\n",
       "      <td style = \"text-align: right;\">0.3193</td>\n",
       "      <td style = \"text-align: right;\">0.3203</td>\n",
       "      <td style = \"text-align: right;\">0.3179</td>\n",
       "      <td style = \"text-align: right;\">0.3191</td>\n",
       "      <td style = \"text-align: right;\">0.3205</td>\n",
       "      <td style = \"text-align: right;\">0.3203</td>\n",
       "      <td style = \"text-align: right;\">0.3199</td>\n",
       "      <td style = \"text-align: right;\">0.32</td>\n",
       "      <td style = \"text-align: right;\">0.3219</td>\n",
       "    </tr>\n",
       "    <tr>\n",
       "      <td class = \"rowLabel\" style = \"font-weight: bold; text-align: right;\">0.98</td>\n",
       "      <td style = \"text-align: right;\">0.3599</td>\n",
       "      <td style = \"text-align: right;\">0.3742</td>\n",
       "      <td style = \"text-align: right;\">0.3732</td>\n",
       "      <td style = \"text-align: right;\">0.3769</td>\n",
       "      <td style = \"text-align: right;\">0.3748</td>\n",
       "      <td style = \"text-align: right;\">0.3762</td>\n",
       "      <td style = \"text-align: right;\">0.3745</td>\n",
       "      <td style = \"text-align: right;\">0.3773</td>\n",
       "      <td style = \"text-align: right;\">0.3737</td>\n",
       "      <td style = \"text-align: right;\">0.3755</td>\n",
       "      <td style = \"text-align: right;\">0.3771</td>\n",
       "      <td style = \"text-align: right;\">0.3765</td>\n",
       "      <td style = \"text-align: right;\">0.3751</td>\n",
       "      <td style = \"text-align: right;\">0.3757</td>\n",
       "      <td style = \"text-align: right;\">0.379</td>\n",
       "    </tr>\n",
       "  </tbody>\n",
       "</table>\n"
      ]
     },
     "metadata": {},
     "output_type": "display_data"
    },
    {
     "data": {
      "text/html": [
       "<table>\n",
       "  <caption style = \"text-align: left;\">EM_Net</caption>\n",
       "  <thead>\n",
       "    <tr class = \"header headerLastRow\">\n",
       "      <th class = \"rowLabel\" style = \"font-weight: bold; text-align: right;\"></th>\n",
       "      <th style = \"text-align: right;\">1</th>\n",
       "      <th style = \"text-align: right;\">2</th>\n",
       "      <th style = \"text-align: right;\">3</th>\n",
       "      <th style = \"text-align: right;\">4</th>\n",
       "      <th style = \"text-align: right;\">5</th>\n",
       "      <th style = \"text-align: right;\">6</th>\n",
       "      <th style = \"text-align: right;\">7</th>\n",
       "      <th style = \"text-align: right;\">8</th>\n",
       "      <th style = \"text-align: right;\">9</th>\n",
       "      <th style = \"text-align: right;\">10</th>\n",
       "      <th style = \"text-align: right;\">11</th>\n",
       "      <th style = \"text-align: right;\">12</th>\n",
       "      <th style = \"text-align: right;\">13</th>\n",
       "      <th style = \"text-align: right;\">14</th>\n",
       "      <th style = \"text-align: right;\">15</th>\n",
       "    </tr>\n",
       "  </thead>\n",
       "  <tbody>\n",
       "    <tr>\n",
       "      <td class = \"rowLabel\" style = \"font-weight: bold; text-align: right;\">0.02</td>\n",
       "      <td style = \"text-align: right;\">-0.6646</td>\n",
       "      <td style = \"text-align: right;\">-0.5742</td>\n",
       "      <td style = \"text-align: right;\">-0.5448</td>\n",
       "      <td style = \"text-align: right;\">-0.5318</td>\n",
       "      <td style = \"text-align: right;\">-0.5283</td>\n",
       "      <td style = \"text-align: right;\">-0.5378</td>\n",
       "      <td style = \"text-align: right;\">-0.5338</td>\n",
       "      <td style = \"text-align: right;\">-0.5359</td>\n",
       "      <td style = \"text-align: right;\">-0.5368</td>\n",
       "      <td style = \"text-align: right;\">-0.5299</td>\n",
       "      <td style = \"text-align: right;\">-0.5309</td>\n",
       "      <td style = \"text-align: right;\">-0.5319</td>\n",
       "      <td style = \"text-align: right;\">-0.5379</td>\n",
       "      <td style = \"text-align: right;\">-0.5318</td>\n",
       "      <td style = \"text-align: right;\">-0.5295</td>\n",
       "    </tr>\n",
       "    <tr>\n",
       "      <td class = \"rowLabel\" style = \"font-weight: bold; text-align: right;\">0.05</td>\n",
       "      <td style = \"text-align: right;\">-0.5274</td>\n",
       "      <td style = \"text-align: right;\">-0.4321</td>\n",
       "      <td style = \"text-align: right;\">-0.3942</td>\n",
       "      <td style = \"text-align: right;\">-0.3828</td>\n",
       "      <td style = \"text-align: right;\">-0.3806</td>\n",
       "      <td style = \"text-align: right;\">-0.388</td>\n",
       "      <td style = \"text-align: right;\">-0.3885</td>\n",
       "      <td style = \"text-align: right;\">-0.3839</td>\n",
       "      <td style = \"text-align: right;\">-0.3879</td>\n",
       "      <td style = \"text-align: right;\">-0.3799</td>\n",
       "      <td style = \"text-align: right;\">-0.3794</td>\n",
       "      <td style = \"text-align: right;\">-0.3803</td>\n",
       "      <td style = \"text-align: right;\">-0.3863</td>\n",
       "      <td style = \"text-align: right;\">-0.3814</td>\n",
       "      <td style = \"text-align: right;\">-0.385</td>\n",
       "    </tr>\n",
       "    <tr>\n",
       "      <td class = \"rowLabel\" style = \"font-weight: bold; text-align: right;\">0.25</td>\n",
       "      <td style = \"text-align: right;\">-0.2122</td>\n",
       "      <td style = \"text-align: right;\">-0.1012</td>\n",
       "      <td style = \"text-align: right;\">-0.069</td>\n",
       "      <td style = \"text-align: right;\">-0.0605</td>\n",
       "      <td style = \"text-align: right;\">-0.0606</td>\n",
       "      <td style = \"text-align: right;\">-0.0622</td>\n",
       "      <td style = \"text-align: right;\">-0.061</td>\n",
       "      <td style = \"text-align: right;\">-0.0578</td>\n",
       "      <td style = \"text-align: right;\">-0.0607</td>\n",
       "      <td style = \"text-align: right;\">-0.06</td>\n",
       "      <td style = \"text-align: right;\">-0.0594</td>\n",
       "      <td style = \"text-align: right;\">-0.0569</td>\n",
       "      <td style = \"text-align: right;\">-0.0595</td>\n",
       "      <td style = \"text-align: right;\">-0.0593</td>\n",
       "      <td style = \"text-align: right;\">-0.0601</td>\n",
       "    </tr>\n",
       "    <tr>\n",
       "      <td class = \"rowLabel\" style = \"font-weight: bold; text-align: right;\">0.5</td>\n",
       "      <td style = \"text-align: right;\">-0.01</td>\n",
       "      <td style = \"text-align: right;\">0.0804</td>\n",
       "      <td style = \"text-align: right;\">0.1</td>\n",
       "      <td style = \"text-align: right;\">0.1029</td>\n",
       "      <td style = \"text-align: right;\">0.103</td>\n",
       "      <td style = \"text-align: right;\">0.103</td>\n",
       "      <td style = \"text-align: right;\">0.103</td>\n",
       "      <td style = \"text-align: right;\">0.1053</td>\n",
       "      <td style = \"text-align: right;\">0.1035</td>\n",
       "      <td style = \"text-align: right;\">0.1049</td>\n",
       "      <td style = \"text-align: right;\">0.1033</td>\n",
       "      <td style = \"text-align: right;\">0.1045</td>\n",
       "      <td style = \"text-align: right;\">0.1047</td>\n",
       "      <td style = \"text-align: right;\">0.1045</td>\n",
       "      <td style = \"text-align: right;\">0.1056</td>\n",
       "    </tr>\n",
       "    <tr>\n",
       "      <td class = \"rowLabel\" style = \"font-weight: bold; text-align: right;\">0.75</td>\n",
       "      <td style = \"text-align: right;\">0.1755</td>\n",
       "      <td style = \"text-align: right;\">0.2297</td>\n",
       "      <td style = \"text-align: right;\">0.2416</td>\n",
       "      <td style = \"text-align: right;\">0.2432</td>\n",
       "      <td style = \"text-align: right;\">0.2431</td>\n",
       "      <td style = \"text-align: right;\">0.2431</td>\n",
       "      <td style = \"text-align: right;\">0.2428</td>\n",
       "      <td style = \"text-align: right;\">0.2442</td>\n",
       "      <td style = \"text-align: right;\">0.243</td>\n",
       "      <td style = \"text-align: right;\">0.2419</td>\n",
       "      <td style = \"text-align: right;\">0.2431</td>\n",
       "      <td style = \"text-align: right;\">0.2438</td>\n",
       "      <td style = \"text-align: right;\">0.2433</td>\n",
       "      <td style = \"text-align: right;\">0.2444</td>\n",
       "      <td style = \"text-align: right;\">0.2444</td>\n",
       "    </tr>\n",
       "    <tr>\n",
       "      <td class = \"rowLabel\" style = \"font-weight: bold; text-align: right;\">0.95</td>\n",
       "      <td style = \"text-align: right;\">0.4278</td>\n",
       "      <td style = \"text-align: right;\">0.4328</td>\n",
       "      <td style = \"text-align: right;\">0.4335</td>\n",
       "      <td style = \"text-align: right;\">0.4318</td>\n",
       "      <td style = \"text-align: right;\">0.4319</td>\n",
       "      <td style = \"text-align: right;\">0.4354</td>\n",
       "      <td style = \"text-align: right;\">0.4315</td>\n",
       "      <td style = \"text-align: right;\">0.4362</td>\n",
       "      <td style = \"text-align: right;\">0.4304</td>\n",
       "      <td style = \"text-align: right;\">0.4328</td>\n",
       "      <td style = \"text-align: right;\">0.4329</td>\n",
       "      <td style = \"text-align: right;\">0.4343</td>\n",
       "      <td style = \"text-align: right;\">0.4345</td>\n",
       "      <td style = \"text-align: right;\">0.4354</td>\n",
       "      <td style = \"text-align: right;\">0.4334</td>\n",
       "    </tr>\n",
       "    <tr>\n",
       "      <td class = \"rowLabel\" style = \"font-weight: bold; text-align: right;\">0.98</td>\n",
       "      <td style = \"text-align: right;\">0.5372</td>\n",
       "      <td style = \"text-align: right;\">0.5204</td>\n",
       "      <td style = \"text-align: right;\">0.5198</td>\n",
       "      <td style = \"text-align: right;\">0.5165</td>\n",
       "      <td style = \"text-align: right;\">0.5168</td>\n",
       "      <td style = \"text-align: right;\">0.518</td>\n",
       "      <td style = \"text-align: right;\">0.5168</td>\n",
       "      <td style = \"text-align: right;\">0.5193</td>\n",
       "      <td style = \"text-align: right;\">0.5153</td>\n",
       "      <td style = \"text-align: right;\">0.517</td>\n",
       "      <td style = \"text-align: right;\">0.5163</td>\n",
       "      <td style = \"text-align: right;\">0.5177</td>\n",
       "      <td style = \"text-align: right;\">0.5176</td>\n",
       "      <td style = \"text-align: right;\">0.5173</td>\n",
       "      <td style = \"text-align: right;\">0.5173</td>\n",
       "    </tr>\n",
       "  </tbody>\n",
       "</table>\n"
      ]
     },
     "metadata": {},
     "output_type": "display_data"
    }
   ],
   "source": [
    "n_assets = length(assets)\n",
    "scenarios = simulate_hmm(hmm[1], n_assets, 180, 100_000)\n",
    "\n",
    "for a in 1:n_assets\n",
    "    print_percentiles(scenarios[a,:,:], [0.02, 0.05, 0.25, 0.5, 0.75, 0.95, 0.98], 12, string(assets[a]))\n",
    "end "
   ]
  },
  {
   "cell_type": "code",
   "execution_count": null,
   "metadata": {},
   "outputs": [
    {
     "data": {
      "text/plain": [
       "\"mean\""
      ]
     },
     "metadata": {},
     "output_type": "display_data"
    },
    {
     "data": {
      "text/plain": [
       "0.07390805936756287"
      ]
     },
     "metadata": {},
     "output_type": "display_data"
    },
    {
     "data": {
      "text/plain": [
       "0.1013562411057124"
      ]
     },
     "metadata": {},
     "output_type": "display_data"
    },
    {
     "data": {
      "text/plain": [
       "\"std\""
      ]
     },
     "metadata": {},
     "output_type": "display_data"
    },
    {
     "data": {
      "text/plain": [
       "0.169924210958029"
      ]
     },
     "metadata": {},
     "output_type": "display_data"
    },
    {
     "data": {
      "text/plain": [
       "\"skewness\""
      ]
     },
     "metadata": {},
     "output_type": "display_data"
    },
    {
     "data": {
      "text/plain": [
       "-0.8005888840836739"
      ]
     },
     "metadata": {},
     "output_type": "display_data"
    },
    {
     "data": {
      "text/plain": [
       "\"kurtosis\""
      ]
     },
     "metadata": {},
     "output_type": "display_data"
    },
    {
     "data": {
      "text/plain": [
       "0.9418571728582332"
      ]
     },
     "metadata": {},
     "output_type": "display_data"
    }
   ],
   "source": [
    "y_data = annualise(scenarios[1, :, 61:73],12)\n",
    "display(\"mean\")\n",
    "display(mean(y_data))\n",
    "display(\"std\")\n",
    "display(std(y_data))\n",
    "display(\"skewness\")\n",
    "display(skewness(y_data))\n",
    "display(\"kurtosis\")\n",
    "display(kurtosis(y_data)) "
   ]
  },
  {
   "cell_type": "code",
   "execution_count": 48,
   "metadata": {},
   "outputs": [
    {
     "data": {
      "text/html": [
       "<table>\n",
       "  <thead>\n",
       "    <tr class = \"header headerLastRow\">\n",
       "      <th class = \"rowLabel\" style = \"font-weight: bold; text-align: right;\"></th>\n",
       "      <th style = \"text-align: right;\">1</th>\n",
       "      <th style = \"text-align: right;\">2</th>\n",
       "      <th style = \"text-align: right;\">3</th>\n",
       "      <th style = \"text-align: right;\">4</th>\n",
       "      <th style = \"text-align: right;\">5</th>\n",
       "      <th style = \"text-align: right;\">6</th>\n",
       "      <th style = \"text-align: right;\">7</th>\n",
       "      <th style = \"text-align: right;\">8</th>\n",
       "      <th style = \"text-align: right;\">9</th>\n",
       "      <th style = \"text-align: right;\">10</th>\n",
       "      <th style = \"text-align: right;\">11</th>\n",
       "      <th style = \"text-align: right;\">12</th>\n",
       "      <th style = \"text-align: right;\">13</th>\n",
       "      <th style = \"text-align: right;\">14</th>\n",
       "    </tr>\n",
       "  </thead>\n",
       "  <tbody>\n",
       "    <tr>\n",
       "      <td class = \"rowLabel\" style = \"font-weight: bold; text-align: right;\">0.02</td>\n",
       "      <td style = \"text-align: right;\">-0.4632</td>\n",
       "      <td style = \"text-align: right;\">-0.4044</td>\n",
       "      <td style = \"text-align: right;\">-0.382</td>\n",
       "      <td style = \"text-align: right;\">-0.3753</td>\n",
       "      <td style = \"text-align: right;\">-0.374</td>\n",
       "      <td style = \"text-align: right;\">-0.3814</td>\n",
       "      <td style = \"text-align: right;\">-0.3796</td>\n",
       "      <td style = \"text-align: right;\">-0.3772</td>\n",
       "      <td style = \"text-align: right;\">-0.3768</td>\n",
       "      <td style = \"text-align: right;\">-0.3744</td>\n",
       "      <td style = \"text-align: right;\">-0.3723</td>\n",
       "      <td style = \"text-align: right;\">-0.3736</td>\n",
       "      <td style = \"text-align: right;\">-0.3761</td>\n",
       "      <td style = \"text-align: right;\">-0.3776</td>\n",
       "    </tr>\n",
       "    <tr>\n",
       "      <td class = \"rowLabel\" style = \"font-weight: bold; text-align: right;\">0.05</td>\n",
       "      <td style = \"text-align: right;\">-0.3687</td>\n",
       "      <td style = \"text-align: right;\">-0.3027</td>\n",
       "      <td style = \"text-align: right;\">-0.2828</td>\n",
       "      <td style = \"text-align: right;\">-0.273</td>\n",
       "      <td style = \"text-align: right;\">-0.2717</td>\n",
       "      <td style = \"text-align: right;\">-0.2755</td>\n",
       "      <td style = \"text-align: right;\">-0.275</td>\n",
       "      <td style = \"text-align: right;\">-0.2724</td>\n",
       "      <td style = \"text-align: right;\">-0.2753</td>\n",
       "      <td style = \"text-align: right;\">-0.2708</td>\n",
       "      <td style = \"text-align: right;\">-0.2678</td>\n",
       "      <td style = \"text-align: right;\">-0.2692</td>\n",
       "      <td style = \"text-align: right;\">-0.2737</td>\n",
       "      <td style = \"text-align: right;\">-0.2708</td>\n",
       "    </tr>\n",
       "    <tr>\n",
       "      <td class = \"rowLabel\" style = \"font-weight: bold; text-align: right;\">0.25</td>\n",
       "      <td style = \"text-align: right;\">-0.1496</td>\n",
       "      <td style = \"text-align: right;\">-0.0647</td>\n",
       "      <td style = \"text-align: right;\">-0.039</td>\n",
       "      <td style = \"text-align: right;\">-0.0318</td>\n",
       "      <td style = \"text-align: right;\">-0.0332</td>\n",
       "      <td style = \"text-align: right;\">-0.0334</td>\n",
       "      <td style = \"text-align: right;\">-0.0316</td>\n",
       "      <td style = \"text-align: right;\">-0.0314</td>\n",
       "      <td style = \"text-align: right;\">-0.0322</td>\n",
       "      <td style = \"text-align: right;\">-0.0296</td>\n",
       "      <td style = \"text-align: right;\">-0.0307</td>\n",
       "      <td style = \"text-align: right;\">-0.0295</td>\n",
       "      <td style = \"text-align: right;\">-0.0308</td>\n",
       "      <td style = \"text-align: right;\">-0.0294</td>\n",
       "    </tr>\n",
       "    <tr>\n",
       "      <td class = \"rowLabel\" style = \"font-weight: bold; text-align: right;\">0.5</td>\n",
       "      <td style = \"text-align: right;\">-0.0045</td>\n",
       "      <td style = \"text-align: right;\">0.0696</td>\n",
       "      <td style = \"text-align: right;\">0.0853</td>\n",
       "      <td style = \"text-align: right;\">0.0878</td>\n",
       "      <td style = \"text-align: right;\">0.0888</td>\n",
       "      <td style = \"text-align: right;\">0.089</td>\n",
       "      <td style = \"text-align: right;\">0.0897</td>\n",
       "      <td style = \"text-align: right;\">0.0897</td>\n",
       "      <td style = \"text-align: right;\">0.0893</td>\n",
       "      <td style = \"text-align: right;\">0.0907</td>\n",
       "      <td style = \"text-align: right;\">0.0904</td>\n",
       "      <td style = \"text-align: right;\">0.0905</td>\n",
       "      <td style = \"text-align: right;\">0.0913</td>\n",
       "      <td style = \"text-align: right;\">0.0899</td>\n",
       "    </tr>\n",
       "    <tr>\n",
       "      <td class = \"rowLabel\" style = \"font-weight: bold; text-align: right;\">0.75</td>\n",
       "      <td style = \"text-align: right;\">0.1237</td>\n",
       "      <td style = \"text-align: right;\">0.1737</td>\n",
       "      <td style = \"text-align: right;\">0.1824</td>\n",
       "      <td style = \"text-align: right;\">0.1837</td>\n",
       "      <td style = \"text-align: right;\">0.1846</td>\n",
       "      <td style = \"text-align: right;\">0.1848</td>\n",
       "      <td style = \"text-align: right;\">0.1837</td>\n",
       "      <td style = \"text-align: right;\">0.1853</td>\n",
       "      <td style = \"text-align: right;\">0.1849</td>\n",
       "      <td style = \"text-align: right;\">0.1853</td>\n",
       "      <td style = \"text-align: right;\">0.1851</td>\n",
       "      <td style = \"text-align: right;\">0.185</td>\n",
       "      <td style = \"text-align: right;\">0.1851</td>\n",
       "      <td style = \"text-align: right;\">0.1849</td>\n",
       "    </tr>\n",
       "    <tr>\n",
       "      <td class = \"rowLabel\" style = \"font-weight: bold; text-align: right;\">0.95</td>\n",
       "      <td style = \"text-align: right;\">0.2844</td>\n",
       "      <td style = \"text-align: right;\">0.3051</td>\n",
       "      <td style = \"text-align: right;\">0.3077</td>\n",
       "      <td style = \"text-align: right;\">0.3087</td>\n",
       "      <td style = \"text-align: right;\">0.3078</td>\n",
       "      <td style = \"text-align: right;\">0.3084</td>\n",
       "      <td style = \"text-align: right;\">0.3067</td>\n",
       "      <td style = \"text-align: right;\">0.3094</td>\n",
       "      <td style = \"text-align: right;\">0.306</td>\n",
       "      <td style = \"text-align: right;\">0.3066</td>\n",
       "      <td style = \"text-align: right;\">0.3077</td>\n",
       "      <td style = \"text-align: right;\">0.3076</td>\n",
       "      <td style = \"text-align: right;\">0.3071</td>\n",
       "      <td style = \"text-align: right;\">0.306</td>\n",
       "    </tr>\n",
       "    <tr>\n",
       "      <td class = \"rowLabel\" style = \"font-weight: bold; text-align: right;\">0.98</td>\n",
       "      <td style = \"text-align: right;\">0.3522</td>\n",
       "      <td style = \"text-align: right;\">0.3599</td>\n",
       "      <td style = \"text-align: right;\">0.3598</td>\n",
       "      <td style = \"text-align: right;\">0.3595</td>\n",
       "      <td style = \"text-align: right;\">0.3593</td>\n",
       "      <td style = \"text-align: right;\">0.3602</td>\n",
       "      <td style = \"text-align: right;\">0.3584</td>\n",
       "      <td style = \"text-align: right;\">0.3619</td>\n",
       "      <td style = \"text-align: right;\">0.3576</td>\n",
       "      <td style = \"text-align: right;\">0.3586</td>\n",
       "      <td style = \"text-align: right;\">0.3574</td>\n",
       "      <td style = \"text-align: right;\">0.36</td>\n",
       "      <td style = \"text-align: right;\">0.3595</td>\n",
       "      <td style = \"text-align: right;\">0.3583</td>\n",
       "    </tr>\n",
       "  </tbody>\n",
       "</table>\n"
      ]
     },
     "metadata": {},
     "output_type": "display_data"
    }
   ],
   "source": [
    "weights = [0.321, 0.67, 0.009]\n",
    "#weights = [.7, .3]\n",
    "acwi_cum_ret = cumprod(scenarios .+ 1, dims=3)\n",
    "\n",
    "acwi = zeros(100_000, 180)\n",
    "for t in 1:180\n",
    "    acwi[:,t] = acwi_cum_ret[:,:,t]' * weights * 100\n",
    "end\n",
    "\n",
    "acwi = acwi[:, 2:end] ./ acwi[:,1:end-1] .-1\n",
    "\n",
    "print_percentiles(acwi, [0.02, 0.05, 0.25, 0.5, 0.75, 0.95, 0.98], 12)"
   ]
  },
  {
   "cell_type": "code",
   "execution_count": 56,
   "metadata": {},
   "outputs": [
    {
     "data": {
      "text/plain": [
       "\"mean\""
      ]
     },
     "metadata": {},
     "output_type": "display_data"
    },
    {
     "data": {
      "text/plain": [
       "0.0630025155804051"
      ]
     },
     "metadata": {},
     "output_type": "display_data"
    },
    {
     "data": {
      "text/plain": [
       "\"std\""
      ]
     },
     "metadata": {},
     "output_type": "display_data"
    },
    {
     "data": {
      "text/plain": [
       "0.17698557151531455"
      ]
     },
     "metadata": {},
     "output_type": "display_data"
    },
    {
     "data": {
      "text/plain": [
       "\"skewness\""
      ]
     },
     "metadata": {},
     "output_type": "display_data"
    },
    {
     "data": {
      "text/plain": [
       "-0.744092532275397"
      ]
     },
     "metadata": {},
     "output_type": "display_data"
    },
    {
     "data": {
      "text/plain": [
       "\"kurtosis\""
      ]
     },
     "metadata": {},
     "output_type": "display_data"
    },
    {
     "data": {
      "text/plain": [
       "0.7989998205031514"
      ]
     },
     "metadata": {},
     "output_type": "display_data"
    }
   ],
   "source": [
    "display(\"mean\")\n",
    "display(mean(annualise(acwi[:,60:72],12)))\n",
    "display(\"std\")\n",
    "display(std(annualise(acwi[:,60:72],12)))\n",
    "display(\"skewness\")\n",
    "display(skewness(annualise(acwi[:,60:72],12)))\n",
    "display(\"kurtosis\")\n",
    "display(kurtosis(annualise(acwi[:,60:72],12)))"
   ]
  },
  {
   "cell_type": "code",
   "execution_count": 49,
   "metadata": {},
   "outputs": [
    {
     "data": {
      "text/html": [
       "<table>\n",
       "  <thead>\n",
       "    <tr class = \"header headerLastRow\">\n",
       "      <th class = \"rowLabel\" style = \"font-weight: bold; text-align: right;\"></th>\n",
       "      <th style = \"text-align: right;\">std</th>\n",
       "      <th style = \"text-align: right;\">max</th>\n",
       "      <th style = \"text-align: right;\">mean</th>\n",
       "      <th style = \"text-align: right;\">p75th</th>\n",
       "      <th style = \"text-align: right;\">min</th>\n",
       "      <th style = \"text-align: right;\">skewness</th>\n",
       "      <th style = \"text-align: right;\">p25th</th>\n",
       "      <th style = \"text-align: right;\">autocor</th>\n",
       "      <th style = \"text-align: right;\">kurtosis</th>\n",
       "      <th style = \"text-align: right;\">sr</th>\n",
       "      <th style = \"text-align: right;\">median</th>\n",
       "    </tr>\n",
       "  </thead>\n",
       "  <tbody>\n",
       "    <tr>\n",
       "      <td class = \"rowLabel\" style = \"font-weight: bold; text-align: right;\">ACWI_Net</td>\n",
       "      <td style = \"text-align: right;\">0.1562</td>\n",
       "      <td style = \"text-align: right;\">1.339</td>\n",
       "      <td style = \"text-align: right;\">0.0595</td>\n",
       "      <td style = \"text-align: right;\">0.3651</td>\n",
       "      <td style = \"text-align: right;\">-2.65</td>\n",
       "      <td style = \"text-align: right;\">-0.9712</td>\n",
       "      <td style = \"text-align: right;\">-0.2175</td>\n",
       "      <td style = \"text-align: right;\">0.122</td>\n",
       "      <td style = \"text-align: right;\">2.553</td>\n",
       "      <td style = \"text-align: right;\">0.381</td>\n",
       "      <td style = \"text-align: right;\">0.1197</td>\n",
       "    </tr>\n",
       "  </tbody>\n",
       "</table>\n"
      ]
     },
     "metadata": {},
     "output_type": "display_data"
    }
   ],
   "source": [
    "ACWI_period_returns = returns_usd[:ACWI_Net] |> x -> from(x, Date(1998, 01, 01 )) |> x -> to(x, Date(2019,12,31))\n",
    "returns_summarystats(ACWI_period_returns, 12)"
   ]
  },
  {
   "cell_type": "code",
   "execution_count": 38,
   "metadata": {},
   "outputs": [
    {
     "data": {
      "text/plain": [
       "3×3 Matrix{Float64}:\n",
       " 0.333333  0.666667  1.0\n",
       " 0.666667  2.33333   4.0\n",
       " 1.0       4.0       7.0"
      ]
     },
     "metadata": {},
     "output_type": "display_data"
    }
   ],
   "source": [
    "M = [1 2 1; 3 4 1; 5 6 1]\n",
    "cov(M')"
   ]
  },
  {
   "cell_type": "code",
   "execution_count": 39,
   "metadata": {},
   "outputs": [
    {
     "ename": "MethodError",
     "evalue": "MethodError: Cannot `convert` an object of type Missing to an object of type Float64\n\nClosest candidates are:\n  convert(::Type{Float64}, !Matched::Measures.AbsoluteLength)\n   @ Measures C:\\Users\\matsz\\.julia\\packages\\Measures\\PKOxJ\\src\\length.jl:12\n  convert(::Type{T}, !Matched::DualNumbers.Dual) where T<:Union{Real, Complex}\n   @ DualNumbers C:\\Users\\matsz\\.julia\\packages\\DualNumbers\\5knFX\\src\\dual.jl:24\n  convert(::Type{T}, !Matched::Ratios.SimpleRatio{S}) where {T<:AbstractFloat, S}\n   @ Ratios C:\\Users\\matsz\\.julia\\packages\\Ratios\\FsiCW\\src\\Ratios.jl:51\n  ...\n",
     "output_type": "error",
     "traceback": [
      "MethodError: Cannot `convert` an object of type Missing to an object of type Float64\n",
      "\n",
      "Closest candidates are:\n",
      "  convert(::Type{Float64}, !Matched::Measures.AbsoluteLength)\n",
      "   @ Measures C:\\Users\\matsz\\.julia\\packages\\Measures\\PKOxJ\\src\\length.jl:12\n",
      "  convert(::Type{T}, !Matched::DualNumbers.Dual) where T<:Union{Real, Complex}\n",
      "   @ DualNumbers C:\\Users\\matsz\\.julia\\packages\\DualNumbers\\5knFX\\src\\dual.jl:24\n",
      "  convert(::Type{T}, !Matched::Ratios.SimpleRatio{S}) where {T<:AbstractFloat, S}\n",
      "   @ Ratios C:\\Users\\matsz\\.julia\\packages\\Ratios\\FsiCW\\src\\Ratios.jl:51\n",
      "  ...\n",
      "\n",
      "\n",
      "Stacktrace:\n",
      "  [1] setindex!\n",
      "    @ .\\array.jl:1024 [inlined]\n",
      "  [2] setindex!\n",
      "    @ .\\permuteddimsarray.jl:77 [inlined]\n",
      "  [3] _setindex!\n",
      "    @ .\\abstractarray.jl:1426 [inlined]\n",
      "  [4] setindex!\n",
      "    @ .\\abstractarray.jl:1396 [inlined]\n",
      "  [5] macro expansion\n",
      "    @ .\\reducedim.jl:317 [inlined]\n",
      "  [6] macro expansion\n",
      "    @ .\\simdloop.jl:77 [inlined]\n",
      "  [7] _mapreducedim!(f::ComposedFunction{Statistics.var\"#4#6\"{typeof(identity), Float64}, typeof(adjoint)}, op::typeof(Base.add_sum), R::PermutedDimsArray{Float64, 2, (2, 1), (2, 1), Matrix{Float64}}, A::Matrix{Union{Missing, Int64}})\n",
      "    @ Base .\\reducedim.jl:316\n",
      "  [8] mapreducedim!(f::Function, op::Function, R::PermutedDimsArray{Float64, 2, (2, 1), (2, 1), Matrix{Float64}}, A::Matrix{Union{Missing, Int64}})\n",
      "    @ Base .\\reducedim.jl:324\n",
      "  [9] mapreducedim!(f::Function, op::typeof(Base.add_sum), B::Matrix{Float64}, A::Adjoint{Union{Missing, Int64}, Matrix{Union{Missing, Int64}}})\n",
      "    @ LinearAlgebra C:\\Users\\matsz\\.julia\\juliaup\\julia-1.10.2+0.x64.w64.mingw32\\share\\julia\\stdlib\\v1.10\\LinearAlgebra\\src\\adjtrans.jl:427\n",
      " [10] _mapreduce_dim(f::Function, op::Function, ::Base._InitialValue, A::Adjoint{Union{Missing, Int64}, Matrix{Union{Missing, Int64}}}, dims::Int64)\n",
      "    @ Base .\\reducedim.jl:371\n",
      " [11] mapreduce\n",
      "    @ .\\reducedim.jl:357 [inlined]\n",
      " [12] _sum\n",
      "    @ .\\reducedim.jl:1039 [inlined]\n",
      " [13] sum\n",
      "    @ .\\reducedim.jl:1011 [inlined]\n",
      " [14] _mean(f::typeof(identity), A::Adjoint{Union{Missing, Int64}, Matrix{Union{Missing, Int64}}}, dims::Int64)\n",
      "    @ Statistics C:\\Users\\matsz\\.julia\\juliaup\\julia-1.10.2+0.x64.w64.mingw32\\share\\julia\\stdlib\\v1.10\\Statistics\\src\\Statistics.jl:187\n",
      " [15] mean\n",
      "    @ C:\\Users\\matsz\\.julia\\juliaup\\julia-1.10.2+0.x64.w64.mingw32\\share\\julia\\stdlib\\v1.10\\Statistics\\src\\Statistics.jl:174 [inlined]\n",
      " [16] _vmean\n",
      "    @ C:\\Users\\matsz\\.julia\\juliaup\\julia-1.10.2+0.x64.w64.mingw32\\share\\julia\\stdlib\\v1.10\\Statistics\\src\\Statistics.jl:524 [inlined]\n",
      " [17] cov(X::Adjoint{Union{Missing, Int64}, Matrix{Union{Missing, Int64}}}; dims::Int64, corrected::Bool)\n",
      "    @ Statistics C:\\Users\\matsz\\.julia\\juliaup\\julia-1.10.2+0.x64.w64.mingw32\\share\\julia\\stdlib\\v1.10\\Statistics\\src\\Statistics.jl:594\n",
      " [18] top-level scope\n",
      "    @ c:\\Users\\matsz\\programowanie\\Optymalizacja_portfela\\julia_msp\\jl_notebook_cell_df34fa98e69747e1a8f8a730347b8e2f_X12sZmlsZQ==.jl:2"
     ]
    }
   ],
   "source": [
    "M2 = [1 2 1; 3 4 1; 5 6 missing]\n",
    "cov(M2')"
   ]
  },
  {
   "cell_type": "code",
   "execution_count": 40,
   "metadata": {},
   "outputs": [],
   "source": []
  }
 ],
 "metadata": {
  "kernelspec": {
   "display_name": "Julia 1.10.2",
   "language": "julia",
   "name": "julia-1.10"
  },
  "language_info": {
   "file_extension": ".jl",
   "mimetype": "application/julia",
   "name": "julia",
   "version": "1.10.2"
  }
 },
 "nbformat": 4,
 "nbformat_minor": 2
}
