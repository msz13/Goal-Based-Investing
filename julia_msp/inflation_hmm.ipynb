{
 "cells": [
  {
   "cell_type": "code",
   "execution_count": 2,
   "metadata": {},
   "outputs": [],
   "source": [
    "using DataFrames, FredData, XLSX, SHA, Dates, CSV, TimeSeries, StatsBase, HiddenMarkovModels, Distributions, Plots, PrettyTables"
   ]
  },
  {
   "cell_type": "code",
   "execution_count": 12,
   "metadata": {},
   "outputs": [
    {
     "data": {
      "text/plain": [
       "regime_summary (generic function with 2 methods)"
      ]
     },
     "metadata": {},
     "output_type": "display_data"
    }
   ],
   "source": [
    "function guess_init(n_scenarios)\n",
    "    regimes_probs = rand(1:100,n_scenarios)\n",
    "    return regimes_probs/sum(regimes_probs)\n",
    "end\n",
    "\n",
    "function guess_tmatrix(n_scenarios)\n",
    "    regimes_probs = rand(1:100,n_scenarios,n_scenarios)\n",
    "    return regimes_probs ./ sum(regimes_probs,dims=2)\n",
    "end\n",
    "\n",
    "function guess_distribution()\n",
    "    sigma = rand(Uniform(0,0.25))\n",
    "    means = rand(Uniform(-0.25,0.25))\n",
    "    return Normal(means,sigma)\n",
    "end\n",
    "\n",
    "function train_hmm(data, n_scenarios = 2)\n",
    "\n",
    "    function guess_distribution()\n",
    "        sigma = rand(Uniform(0,0.25))\n",
    "        means = rand(Uniform(-0.25,0.25))\n",
    "        return Normal(means,sigma)\n",
    "    end\n",
    "    \n",
    "    init_guess = guess_init(n_scenarios)\n",
    "    guess_matrix = guess_tmatrix(n_scenarios)\n",
    "    guess_dist = [guess_distribution() for s in 1:n_scenarios]\n",
    "    hmm_guess = HMM(init_guess, guess_matrix, guess_dist);\n",
    "    return hmm_est, loglikelihood_evolution = baum_welch(hmm_guess, data);\n",
    "end \n",
    "\n",
    "function regime_summary(loglikehood,hmm_est, freq = 1)\n",
    "    tm = transition_matrix(hmm_est)\n",
    "    \n",
    "return DataFrame(Dict(\n",
    "  \"mu1\" => mean(obs_distributions(hmm_est)[1]) * freq,\n",
    "  \"sig1\" => std(obs_distributions(hmm_est)[1]) *  freq^0.5,\n",
    "  \"mu2\" => mean(obs_distributions(hmm_est)[2]) * freq,\n",
    "  \"sig2\" => std(obs_distributions(hmm_est)[2]) * freq^0.5,       \n",
    "  \"p11\" =>  tm[1,1],\n",
    "  \"p21\" =>  tm[2,1],\n",
    "  \"loglikehood\" => last(loglikehood),\n",
    "  \"prob1\" =>  tm[2,1]/(tm[1,2]+tm[2,1])\n",
    "  \n",
    ")) \n",
    "end"
   ]
  },
  {
   "cell_type": "code",
   "execution_count": 7,
   "metadata": {},
   "outputs": [
    {
     "data": {
      "text/plain": [
       "830×1 TimeArray{Float64, 1, Date, Vector{Float64}} 1955-02-01 to 2024-03-01\n",
       "┌────────────┬─────────────────┐\n",
       "│\u001b[1m            \u001b[0m│\u001b[1m CPALTT01USM657N \u001b[0m│\n",
       "├────────────┼─────────────────┤\n",
       "│ 1955-02-01 │             0.0 │\n",
       "│ 1955-03-01 │             0.0 │\n",
       "│ 1955-04-01 │             0.0 │\n",
       "│ 1955-05-01 │             0.0 │\n",
       "│ 1955-06-01 │             0.0 │\n",
       "│ 1955-07-01 │      0.00374532 │\n",
       "│ 1955-08-01 │             0.0 │\n",
       "│ 1955-09-01 │      0.00373134 │\n",
       "│     ⋮      │        ⋮        │\n",
       "│ 2023-09-01 │      0.00248513 │\n",
       "│ 2023-10-01 │     -0.00038338 │\n",
       "│ 2023-11-01 │     -0.00201514 │\n",
       "│ 2023-12-01 │     -0.00099332 │\n",
       "│ 2024-01-01 │       0.0054475 │\n",
       "│ 2024-02-01 │      0.00618967 │\n",
       "│ 2024-03-01 │      0.00646417 │\n",
       "└────────────┴─────────────────┘\n",
       "\u001b[36m                815 rows omitted\u001b[0m"
      ]
     },
     "metadata": {},
     "output_type": "display_data"
    }
   ],
   "source": [
    "cpius_source = TimeArray(CSV.File(\"cpius.csv\", delim=';', dateformat=\"yyyy-mm-dd\", decimal=','),timestamp=:Date)\n",
    "cpi_us = cpius_source ./ 100\n"
   ]
  },
  {
   "cell_type": "code",
   "execution_count": 9,
   "metadata": {},
   "outputs": [
    {
     "name": "stdout",
     "output_type": "stream",
     "text": [
      "Summary Stats:\n",
      "Length:         830\n",
      "Missing Count:  0\n",
      "Mean:           0.002974\n",
      "Std. Deviation: 0.003559\n",
      "Minimum:        -0.019153\n",
      "1st Quartile:   0.000344\n",
      "Median:         0.002906\n",
      "3rd Quartile:   0.004985\n",
      "Maximum:        0.018059\n",
      "Type:           Float64\n"
     ]
    }
   ],
   "source": [
    "describe(values(cpi_us))"
   ]
  },
  {
   "cell_type": "code",
   "execution_count": 10,
   "metadata": {},
   "outputs": [
    {
     "data": {
      "text/plain": [
       "495×1 TimeArray{Float64, 1, Date, Vector{Float64}} 1983-01-01 to 2024-03-01\n",
       "┌────────────┬─────────────────┐\n",
       "│\u001b[1m            \u001b[0m│\u001b[1m CPALTT01USM657N \u001b[0m│\n",
       "├────────────┼─────────────────┤\n",
       "│ 1983-01-01 │      0.00204918 │\n",
       "│ 1983-02-01 │      0.00102249 │\n",
       "│ 1983-03-01 │             0.0 │\n",
       "│ 1983-04-01 │      0.00715015 │\n",
       "│ 1983-05-01 │      0.00608519 │\n",
       "│ 1983-06-01 │      0.00302419 │\n",
       "│ 1983-07-01 │       0.0040201 │\n",
       "│ 1983-08-01 │        0.003003 │\n",
       "│     ⋮      │        ⋮        │\n",
       "│ 2023-09-01 │      0.00248513 │\n",
       "│ 2023-10-01 │     -0.00038338 │\n",
       "│ 2023-11-01 │     -0.00201514 │\n",
       "│ 2023-12-01 │     -0.00099332 │\n",
       "│ 2024-01-01 │       0.0054475 │\n",
       "│ 2024-02-01 │      0.00618967 │\n",
       "│ 2024-03-01 │      0.00646417 │\n",
       "└────────────┴─────────────────┘\n",
       "\u001b[36m                480 rows omitted\u001b[0m"
      ]
     },
     "metadata": {},
     "output_type": "display_data"
    }
   ],
   "source": [
    "cpi_us_1983 = from(cpi_us,Date(1983,1,1))"
   ]
  },
  {
   "cell_type": "code",
   "execution_count": 11,
   "metadata": {},
   "outputs": [
    {
     "name": "stdout",
     "output_type": "stream",
     "text": [
      "Summary Stats:\n",
      "Length:         495\n",
      "Missing Count:  0\n",
      "Mean:           0.002358\n",
      "Std. Deviation: 0.003261\n",
      "Minimum:        -0.019153\n",
      "1st Quartile:   0.000610\n",
      "Median:         0.002404\n",
      "3rd Quartile:   0.004327\n",
      "Maximum:        0.013736\n",
      "Type:           Float64\n"
     ]
    }
   ],
   "source": [
    "describe(values(cpi_us_1983))"
   ]
  },
  {
   "cell_type": "code",
   "execution_count": 45,
   "metadata": {},
   "outputs": [
    {
     "name": "stdout",
     "output_type": "stream",
     "text": [
      "2235.3922836529314\n"
     ]
    },
    {
     "data": {
      "text/plain": [
       "Hidden Markov Model with:\n",
       " - initialization: [3.3882376918598465e-30, 0.9999999999999895, 4.703595486085791e-111, 1.057767403460179e-14, 4.640738136566136e-73, 0.0]\n",
       " - transition matrix: [0.6796174880886128 0.24209245223256715 1.4759752938365558e-5 5.3728702436623006e-5 0.07822134766193298 2.2356151211005015e-7; 0.0005364151380971921 0.003373768919871589 0.18631265777545689 0.8097771581532875 1.3286722602054602e-11 3.770001121410043e-30; 0.12553834302777137 4.82232457505938e-13 0.7139343778857989 2.5289051635250463e-10 0.00016014895632039582 0.16036712987673654; 0.39828069184627646 0.03981987329237119 0.025905466389236083 0.5359937332412739 2.352303974771947e-7 4.451121385624436e-13; 0.057870040149251775 0.3168158733482657 0.028518494425442242 0.002925878862527726 0.5938696131269512 1.0008756138214143e-7; 0.286225091148384 1.4364979929565913e-7 2.0100676502522134e-19 0.09083380973520677 0.6229409554666097 1.468575303828437e-16]\n",
       " - observation distributions: [Normal{Float64}(μ=0.0036444757855427726, σ=0.001410655551969694), Normal{Float64}(μ=0.0012994054328995615, σ=0.0015763252124597474), Normal{Float64}(μ=-0.0014263085943819337, σ=0.004550742887995216), Normal{Float64}(μ=0.0004923379558118247, σ=0.0013376974596855866), Normal{Float64}(μ=0.007295153014955631, σ=0.002435030670068141), Normal{Float64}(μ=0.005525145103218483, σ=0.00011017653093400303)]"
      ]
     },
     "metadata": {},
     "output_type": "display_data"
    }
   ],
   "source": [
    "n_regimes = 6\n",
    "hmm_est, loglikehood = train_hmm(values(cpi_us_1983),n_regimes)\n",
    "println(last(loglikehood))\n",
    "hmm_est"
   ]
  },
  {
   "cell_type": "code",
   "execution_count": 46,
   "metadata": {},
   "outputs": [
    {
     "name": "stdout",
     "output_type": "stream",
     "text": [
      "regime 1, mean: 0.04373370942651327, std: 0.004886654175981257)\n",
      "regime 2, mean: 0.015592865194794737, std: 0.005460550714464175)\n",
      "regime 3, mean: -0.017115703132583204, std: 0.01576423578838088)\n",
      "regime 4, mean: 0.005908055469741896, std: 0.004633919930662512)\n",
      "regime 5, mean: 0.08754183617946756, std: 0.008435193677093016)\n",
      "regime 6, mean: 0.06630174123862179, std: 0.00038166269875875464)\n"
     ]
    }
   ],
   "source": [
    "dists = obs_distributions(hmm_est)\n",
    "for r in 1:n_regimes\n",
    "    println(\"regime $r, mean: $(mean(dists[r])*12), std: $(std(dists[r])*12^0.5))\")\n",
    "end\n"
   ]
  }
 ],
 "metadata": {
  "kernelspec": {
   "display_name": "Julia 1.10.2",
   "language": "julia",
   "name": "julia-1.10"
  },
  "language_info": {
   "file_extension": ".jl",
   "mimetype": "application/julia",
   "name": "julia",
   "version": "1.10.2"
  }
 },
 "nbformat": 4,
 "nbformat_minor": 2
}
