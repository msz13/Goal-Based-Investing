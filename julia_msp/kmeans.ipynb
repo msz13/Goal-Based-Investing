{
 "cells": [
  {
   "cell_type": "code",
   "execution_count": 2,
   "metadata": {},
   "outputs": [
    {
     "name": "stderr",
     "output_type": "stream",
     "text": [
      "\u001b[32m\u001b[1m   Resolving\u001b[22m\u001b[39m package versions...\n",
      "\u001b[32m\u001b[1m   Installed\u001b[22m\u001b[39m NearestNeighbors ─ v0.4.16\n",
      "\u001b[32m\u001b[1m   Installed\u001b[22m\u001b[39m Clustering ─────── v0.15.7\n",
      "\u001b[32m\u001b[1m    Updating\u001b[22m\u001b[39m `C:\\Users\\matsz\\.julia\\environments\\v1.10\\Project.toml`\n",
      "  \u001b[90m[aaaa29a8] \u001b[39m\u001b[92m+ Clustering v0.15.7\u001b[39m\n",
      "\u001b[32m\u001b[1m    Updating\u001b[22m\u001b[39m `C:\\Users\\matsz\\.julia\\environments\\v1.10\\Manifest.toml`\n",
      "  \u001b[90m[aaaa29a8] \u001b[39m\u001b[92m+ Clustering v0.15.7\u001b[39m\n",
      "  \u001b[90m[b8a86587] \u001b[39m\u001b[92m+ NearestNeighbors v0.4.16\u001b[39m\n",
      "\u001b[32m\u001b[1mPrecompiling\u001b[22m\u001b[39m project...\n",
      "\u001b[32m  ✓ \u001b[39m\u001b[90mNearestNeighbors\u001b[39m\n",
      "\u001b[32m  ✓ \u001b[39mClustering\n",
      "  2 dependencies successfully precompiled in 24 seconds. 395 already precompiled.\n"
     ]
    }
   ],
   "source": [
    "import Pkg\n",
    "Pkg.add(\"Clustering\")"
   ]
  },
  {
   "cell_type": "code",
   "execution_count": 1,
   "metadata": {},
   "outputs": [],
   "source": [
    "using Clustering\n",
    "using CSV\n",
    "using DataFrames\n",
    "using Statistics"
   ]
  },
  {
   "cell_type": "code",
   "execution_count": 2,
   "metadata": {},
   "outputs": [
    {
     "data": {
      "text/plain": [
       "99999×50 Matrix{Float64}:\n",
       "  0.183608   0.040727   0.130638  …   0.310636   0.259417   0.106576\n",
       "  0.057796  -0.015669   0.01473       0.181475   0.038817   0.09112\n",
       " -0.042034   0.071062   0.211914      0.271774   0.03051    0.014144\n",
       "  0.048233   0.002585   0.069304      0.161997   0.150916  -0.458586\n",
       " -0.097277   0.278737   0.249458      0.054621   0.20249    0.148626\n",
       "  0.168582   0.058298   0.174671  …  -0.057467  -0.037438   0.030723\n",
       "  0.096997   0.214256  -0.246285      0.148997   0.192833   0.181174\n",
       "  0.254872   0.054849   0.014113      0.13077    0.066608  -0.076274\n",
       "  0.263792   0.213822   0.260164      0.309639   0.022386   0.268776\n",
       "  0.065249  -0.206639   0.347267      0.165357   0.180862   0.298468\n",
       "  ⋮                               ⋱                        \n",
       "  0.304079  -0.004624   0.041851  …  -0.008278   0.136057   0.139732\n",
       "  0.261117   0.094383  -0.240846      0.037133  -0.072158  -0.037526\n",
       " -0.050816   0.211829  -0.100711      0.158417  -0.021944   0.318735\n",
       "  0.370563   0.2798     0.055737      0.054807  -0.055942   0.024802\n",
       " -0.138423   0.062595   0.141441      0.10268    0.036239  -0.146841\n",
       " -0.130028   0.302331  -0.060284  …  -0.248784  -0.057881   0.170333\n",
       "  0.119115   0.095772  -0.292217      0.084165   0.118251   0.292593\n",
       " -0.145221  -0.393472   0.060243      0.142273   0.023003   0.115302\n",
       " -0.025328   0.014187   0.174296      0.012147   0.20869    0.170179"
      ]
     },
     "metadata": {},
     "output_type": "display_data"
    }
   ],
   "source": [
    "acwi = Matrix(CSV.read(\"../sb_gbi/equity_scenarios.csv\",DataFrame))"
   ]
  },
  {
   "cell_type": "code",
   "execution_count": 3,
   "metadata": {},
   "outputs": [
    {
     "data": {
      "text/plain": [
       "99999×50 Matrix{Float64}:\n",
       " 0.035158  0.031416  0.046096  0.018379  …  0.06628   0.09403   0.093851\n",
       " 0.013222  0.0123    0.043899  0.027086     0.019199  0.021789  0.020151\n",
       " 0.039912  0.040263  0.035394  0.0123       0.02551   0.0123    0.0123\n",
       " 0.016048  0.0123    0.0123    0.03366      0.056582  0.0123    0.0123\n",
       " 0.065174  0.052422  0.071214  0.05068      0.019615  0.058837  0.048566\n",
       " 0.051986  0.035766  0.026192  0.033541  …  0.052188  0.046143  0.026802\n",
       " 0.040925  0.025968  0.043467  0.024486     0.0786    0.047548  0.027347\n",
       " 0.0123    0.045685  0.022954  0.0123       0.019471  0.048676  0.043244\n",
       " 0.0123    0.014093  0.0123    0.0123       0.037708  0.071717  0.083529\n",
       " 0.0123    0.046767  0.048754  0.071964     0.058765  0.0123    0.024597\n",
       " ⋮                                       ⋱                      \n",
       " 0.05639   0.034089  0.038381  0.037493  …  0.037054  0.031733  0.02699\n",
       " 0.022314  0.042175  0.031607  0.039552     0.060712  0.045391  0.080075\n",
       " 0.078099  0.090769  0.052886  0.026244     0.037973  0.046298  0.055046\n",
       " 0.033872  0.053367  0.022564  0.08282      0.028893  0.0123    0.021959\n",
       " 0.060451  0.029764  0.0123    0.0123       0.041878  0.072729  0.033877\n",
       " 0.024683  0.050876  0.063715  0.044785  …  0.040408  0.062263  0.022981\n",
       " 0.064728  0.058533  0.036324  0.019063     0.0123    0.035531  0.045336\n",
       " 0.027103  0.059451  0.051567  0.04828      0.04997   0.0123    0.0123\n",
       " 0.0123    0.027505  0.0123    0.023295     0.065018  0.095034  0.057752"
      ]
     },
     "metadata": {},
     "output_type": "display_data"
    }
   ],
   "source": [
    "inflation = Matrix(CSV.read(\"../sb_gbi/inflation_scenarios.csv\", DataFrame))[:,2:end]"
   ]
  },
  {
   "cell_type": "code",
   "execution_count": 4,
   "metadata": {},
   "outputs": [
    {
     "data": {
      "text/plain": [
       "2×99999×50 Array{Float64, 3}:\n",
       "[:, :, 1] =\n",
       " 0.183608  0.057796  -0.042034  0.048233  …  0.119115  -0.145221  -0.025328\n",
       " 0.035158  0.013222   0.039912  0.016048     0.064728   0.027103   0.0123\n",
       "\n",
       "[:, :, 2] =\n",
       " 0.040727  -0.015669  0.071062  0.002585  …  0.095772  -0.393472  0.014187\n",
       " 0.031416   0.0123    0.040263  0.0123       0.058533   0.059451  0.027505\n",
       "\n",
       "[:, :, 3] =\n",
       " 0.130638  0.01473   0.211914  0.069304  …  -0.292217  0.060243  0.174296\n",
       " 0.046096  0.043899  0.035394  0.0123        0.036324  0.051567  0.0123\n",
       "\n",
       ";;; … \n",
       "\n",
       "[:, :, 48] =\n",
       " 0.310636  0.181475  0.271774  0.161997  …  0.084165  0.142273  0.012147\n",
       " 0.06628   0.019199  0.02551   0.056582     0.0123    0.04997   0.065018\n",
       "\n",
       "[:, :, 49] =\n",
       " 0.259417  0.038817  0.03051  0.150916  …  0.118251  0.023003  0.20869\n",
       " 0.09403   0.021789  0.0123   0.0123       0.035531  0.0123    0.095034\n",
       "\n",
       "[:, :, 50] =\n",
       " 0.106576  0.09112   0.014144  -0.458586  …  0.292593  0.115302  0.170179\n",
       " 0.093851  0.020151  0.0123     0.0123       0.045336  0.0123    0.057752"
      ]
     },
     "metadata": {},
     "output_type": "display_data"
    }
   ],
   "source": [
    "returns = stack([acwi,inflation],dims=1)"
   ]
  },
  {
   "cell_type": "code",
   "execution_count": 5,
   "metadata": {},
   "outputs": [
    {
     "data": {
      "text/plain": [
       "2×99999 Matrix{Float64}:\n",
       " 0.183608  0.057796  -0.042034  0.048233  …  0.119115  -0.145221  -0.025328\n",
       " 0.035158  0.013222   0.039912  0.016048     0.064728   0.027103   0.0123"
      ]
     },
     "metadata": {},
     "output_type": "display_data"
    }
   ],
   "source": [
    "period_1 = returns[:,:,1] \n"
   ]
  },
  {
   "cell_type": "code",
   "execution_count": 6,
   "metadata": {},
   "outputs": [
    {
     "data": {
      "text/plain": [
       "2-element Vector{Float64}:\n",
       " 0.183608\n",
       " 0.035158"
      ]
     },
     "metadata": {},
     "output_type": "display_data"
    }
   ],
   "source": [
    "period_1[:,1]"
   ]
  },
  {
   "cell_type": "code",
   "execution_count": 36,
   "metadata": {},
   "outputs": [
    {
     "data": {
      "text/plain": [
       "KmeansResult{Matrix{Float64}, Float64, Int64}([0.2934456596854095 -0.004574761044176742 … -0.22443359634649368 0.21067259321284412; 0.04065370817763006 0.0404033514056214 … 0.040916105185621575 0.040523216050404716], [8, 3, 2, 3, 6, 4, 3, 1, 1, 3  …  2, 1, 1, 6, 5, 6, 6, 4, 6, 2], [0.0007612777490442618, 0.0008767934436819703, 0.0014034360093532735, 0.0010555228545998246, 0.0006027699914391248, 0.0010059892861607259, 0.000733399101235873, 0.0022918599889479863, 0.0016832723001602712, 0.0008022157099152032  …  0.0006543155507749104, 0.00036069880656469655, 0.001381487133095688, 0.0034152418543370693, 0.001599857511279612, 0.002216422304996357, 0.0014341116040871849, 0.0009804129044085688, 0.0026364967347345357, 0.0012204952873853423], [11493, 14452, 19330, 20837, 4006, 8394, 3399, 18088], [11507, 14442, 19328, 20835, 4012, 8388, 3394, 18093], 120.67075122945576, 100, false)"
      ]
     },
     "metadata": {},
     "output_type": "display_data"
    }
   ],
   "source": [
    "n_clusters = 8\n",
    "result = kmeans(period_1,n_clusters)"
   ]
  },
  {
   "cell_type": "code",
   "execution_count": 37,
   "metadata": {},
   "outputs": [
    {
     "data": {
      "text/plain": [
       "8-element Vector{Int64}:\n",
       " 11493\n",
       " 14452\n",
       " 19330\n",
       " 20837\n",
       "  4006\n",
       "  8394\n",
       "  3399\n",
       " 18088"
      ]
     },
     "metadata": {},
     "output_type": "display_data"
    }
   ],
   "source": [
    "counts(result)"
   ]
  },
  {
   "cell_type": "code",
   "execution_count": 38,
   "metadata": {},
   "outputs": [
    {
     "data": {
      "text/plain": [
       "2×8 Matrix{Float64}:\n",
       " 0.293446   -0.00457476  0.0699245  …  -0.0956999  -0.224434   0.210673\n",
       " 0.0406537   0.0404034   0.0402349      0.0406733   0.0409161  0.0405232"
      ]
     },
     "metadata": {},
     "output_type": "display_data"
    }
   ],
   "source": [
    "centers =result.centers"
   ]
  },
  {
   "cell_type": "code",
   "execution_count": 39,
   "metadata": {},
   "outputs": [
    {
     "name": "stdout",
     "output_type": "stream",
     "text": [
      "equity: 0.2934456596854095, infl: 0.04065370817763006\n",
      "equity: -0.004574761044176742, infl: 0.0404033514056214\n",
      "equity: 0.06992445312500013, infl: 0.04023485006208428\n",
      "equity: 0.1390011300215991, infl: 0.04054216246700111\n",
      "equity: 0.41005131779661014, infl: 0.040238338733798715\n",
      "equity: -0.09569986540295648, infl: 0.040673333929422795\n",
      "equity: -0.22443359634649368, infl: 0.040916105185621575\n",
      "equity: 0.21067259321284412, infl: 0.040523216050404716\n"
     ]
    }
   ],
   "source": [
    "for cluster in 1:n_clusters\n",
    "    println(\"equity: $(centers[1,cluster]), infl: $(centers[2,cluster])\")\n",
    "end"
   ]
  },
  {
   "cell_type": "code",
   "execution_count": 40,
   "metadata": {},
   "outputs": [
    {
     "data": {
      "text/plain": [
       "99999-element Vector{Int64}:\n",
       " 8\n",
       " 3\n",
       " 2\n",
       " 3\n",
       " 6\n",
       " 4\n",
       " 3\n",
       " 1\n",
       " 1\n",
       " 3\n",
       " ⋮\n",
       " 1\n",
       " 1\n",
       " 6\n",
       " 5\n",
       " 6\n",
       " 6\n",
       " 4\n",
       " 6\n",
       " 2"
      ]
     },
     "metadata": {},
     "output_type": "display_data"
    }
   ],
   "source": [
    "clusters = assignments(result)"
   ]
  },
  {
   "cell_type": "code",
   "execution_count": 41,
   "metadata": {},
   "outputs": [
    {
     "name": "stdout",
     "output_type": "stream",
     "text": [
      "0.29354821239015105, 0.04064725850517612\n",
      "-0.00448599813174649, 0.0403949309438129\n",
      "0.07000607827211602, 0.040233171908947984\n",
      "0.13908219330997826, 0.04054832053558422\n",
      "0.4101387009485771, 0.040232542685971144\n",
      "-0.09560185632594698, 0.040677227186085116\n",
      "-0.22433900882612523, 0.040899589290967826\n",
      "0.21076788047324127, 0.04053126603272736\n"
     ]
    }
   ],
   "source": [
    "cluster_means = zeros((2,n_clusters))\n",
    "\n",
    "for cluster in 1:n_clusters\n",
    "    cluster_means[:,cluster] = mean(period_1[:,clusters .== cluster],dims=2) \n",
    "end\n",
    "\n",
    "\n",
    "for cluster in 1:n_clusters\n",
    "    println(\"$(cluster_means[1,cluster]), $(cluster_means[2,cluster])\")\n",
    "end"
   ]
  },
  {
   "cell_type": "code",
   "execution_count": 42,
   "metadata": {},
   "outputs": [
    {
     "data": {
      "text/plain": [
       "8-element Vector{Float64}:\n",
       " 0.11493114931149312\n",
       " 0.14452144521445215\n",
       " 0.19330193301933019\n",
       " 0.2083720837208372\n",
       " 0.04006040060400604\n",
       " 0.08394083940839409\n",
       " 0.03399033990339903\n",
       " 0.18088180881808819"
      ]
     },
     "metadata": {},
     "output_type": "display_data"
    }
   ],
   "source": [
    "probs = counts(result)/sum(counts(result))"
   ]
  },
  {
   "cell_type": "code",
   "execution_count": 43,
   "metadata": {},
   "outputs": [
    {
     "data": {
      "text/html": [
       "<div><div style = \"float: left;\"><span>8×3 DataFrame</span></div><div style = \"clear: both;\"></div></div><div class = \"data-frame\" style = \"overflow-x: scroll;\"><table class = \"data-frame\" style = \"margin-bottom: 6px;\"><thead><tr class = \"header\"><th class = \"rowNumber\" style = \"font-weight: bold; text-align: right;\">Row</th><th style = \"text-align: left;\">Equity</th><th style = \"text-align: left;\">EDO</th><th style = \"text-align: left;\">Probs</th></tr><tr class = \"subheader headerLastRow\"><th class = \"rowNumber\" style = \"font-weight: bold; text-align: right;\"></th><th title = \"Float64\" style = \"text-align: left;\">Float64</th><th title = \"Float64\" style = \"text-align: left;\">Float64</th><th title = \"Float64\" style = \"text-align: left;\">Float64</th></tr></thead><tbody><tr><td class = \"rowNumber\" style = \"font-weight: bold; text-align: right;\">1</td><td style = \"text-align: right;\">29.3548</td><td style = \"text-align: right;\">4.06473</td><td style = \"text-align: right;\">11.4931</td></tr><tr><td class = \"rowNumber\" style = \"font-weight: bold; text-align: right;\">2</td><td style = \"text-align: right;\">-0.4486</td><td style = \"text-align: right;\">4.03949</td><td style = \"text-align: right;\">14.4521</td></tr><tr><td class = \"rowNumber\" style = \"font-weight: bold; text-align: right;\">3</td><td style = \"text-align: right;\">7.00061</td><td style = \"text-align: right;\">4.02332</td><td style = \"text-align: right;\">19.3302</td></tr><tr><td class = \"rowNumber\" style = \"font-weight: bold; text-align: right;\">4</td><td style = \"text-align: right;\">13.9082</td><td style = \"text-align: right;\">4.05483</td><td style = \"text-align: right;\">20.8372</td></tr><tr><td class = \"rowNumber\" style = \"font-weight: bold; text-align: right;\">5</td><td style = \"text-align: right;\">41.0139</td><td style = \"text-align: right;\">4.02325</td><td style = \"text-align: right;\">4.00604</td></tr><tr><td class = \"rowNumber\" style = \"font-weight: bold; text-align: right;\">6</td><td style = \"text-align: right;\">-9.56019</td><td style = \"text-align: right;\">4.06772</td><td style = \"text-align: right;\">8.39408</td></tr><tr><td class = \"rowNumber\" style = \"font-weight: bold; text-align: right;\">7</td><td style = \"text-align: right;\">-22.4339</td><td style = \"text-align: right;\">4.08996</td><td style = \"text-align: right;\">3.39903</td></tr><tr><td class = \"rowNumber\" style = \"font-weight: bold; text-align: right;\">8</td><td style = \"text-align: right;\">21.0768</td><td style = \"text-align: right;\">4.05313</td><td style = \"text-align: right;\">18.0882</td></tr></tbody></table></div>"
      ],
      "text/latex": [
       "\\begin{tabular}{r|ccc}\n",
       "\t& Equity & EDO & Probs\\\\\n",
       "\t\\hline\n",
       "\t& Float64 & Float64 & Float64\\\\\n",
       "\t\\hline\n",
       "\t1 & 29.3548 & 4.06473 & 11.4931 \\\\\n",
       "\t2 & -0.4486 & 4.03949 & 14.4521 \\\\\n",
       "\t3 & 7.00061 & 4.02332 & 19.3302 \\\\\n",
       "\t4 & 13.9082 & 4.05483 & 20.8372 \\\\\n",
       "\t5 & 41.0139 & 4.02325 & 4.00604 \\\\\n",
       "\t6 & -9.56019 & 4.06772 & 8.39408 \\\\\n",
       "\t7 & -22.4339 & 4.08996 & 3.39903 \\\\\n",
       "\t8 & 21.0768 & 4.05313 & 18.0882 \\\\\n",
       "\\end{tabular}\n"
      ],
      "text/plain": [
       "\u001b[1m8×3 DataFrame\u001b[0m\n",
       "\u001b[1m Row \u001b[0m│\u001b[1m Equity    \u001b[0m\u001b[1m EDO     \u001b[0m\u001b[1m Probs    \u001b[0m\n",
       "     │\u001b[90m Float64   \u001b[0m\u001b[90m Float64 \u001b[0m\u001b[90m Float64  \u001b[0m\n",
       "─────┼──────────────────────────────\n",
       "   1 │  29.3548   4.06473  11.4931\n",
       "   2 │  -0.4486   4.03949  14.4521\n",
       "   3 │   7.00061  4.02332  19.3302\n",
       "   4 │  13.9082   4.05483  20.8372\n",
       "   5 │  41.0139   4.02325   4.00604\n",
       "   6 │  -9.56019  4.06772   8.39408\n",
       "   7 │ -22.4339   4.08996   3.39903\n",
       "   8 │  21.0768   4.05313  18.0882"
      ]
     },
     "metadata": {},
     "output_type": "display_data"
    }
   ],
   "source": [
    "scenario_period1 = DataFrame(Equity=cluster_means[1,:].*100,EDO=cluster_means[2,:].*100,Probs=probs*100)"
   ]
  },
  {
   "cell_type": "code",
   "execution_count": 24,
   "metadata": {},
   "outputs": [
    {
     "data": {
      "text/plain": [
       "7-element Vector{Float64}:\n",
       " -0.24365456\n",
       " -0.12870330000000002\n",
       "  0.0271735\n",
       "  0.119023\n",
       "  0.207915\n",
       "  0.3375451\n",
       "  0.43165099999999945"
      ]
     },
     "metadata": {},
     "output_type": "display_data"
    }
   ],
   "source": [
    "quantile(acwi[:,1],[0.01, 0.05,0.25,0.5,0.75,0.95,0.99])"
   ]
  },
  {
   "cell_type": "code",
   "execution_count": 25,
   "metadata": {},
   "outputs": [
    {
     "data": {
      "text/plain": [
       "4-element Vector{Float64}:\n",
       " 0.002427294170323284\n",
       " 0.1141016466473937\n",
       " 0.22301709649547785\n",
       " 0.2824087767625497"
      ]
     },
     "metadata": {},
     "output_type": "display_data"
    }
   ],
   "source": [
    "sort(cluster_means[1,:])"
   ]
  },
  {
   "cell_type": "code",
   "execution_count": 26,
   "metadata": {},
   "outputs": [
    {
     "data": {
      "text/plain": [
       "4-element Vector{Float64}:\n",
       " 0.024899468059312733\n",
       " 0.04054753926748374\n",
       " 0.04084875702199625\n",
       " 0.04128621907299637"
      ]
     },
     "metadata": {},
     "output_type": "display_data"
    }
   ],
   "source": [
    "sort(cluster_means[2,:])"
   ]
  },
  {
   "cell_type": "code",
   "execution_count": 27,
   "metadata": {},
   "outputs": [
    {
     "data": {
      "text/plain": [
       "7-element Vector{Float64}:\n",
       " 0.0123\n",
       " 0.0123\n",
       " 0.021725\n",
       " 0.038629\n",
       " 0.0554615\n",
       " 0.079651\n",
       " 0.09682603999999997"
      ]
     },
     "metadata": {},
     "output_type": "display_data"
    }
   ],
   "source": [
    "quantile(inflation[:,1],[0.01, 0.05,0.25,0.5,0.75,0.95,0.99])"
   ]
  },
  {
   "cell_type": "code",
   "execution_count": 19,
   "metadata": {},
   "outputs": [
    {
     "data": {
      "text/plain": [
       "99999×1 Matrix{Float64}:\n",
       "  0.183608\n",
       "  0.057796\n",
       " -0.042034\n",
       "  0.048233\n",
       " -0.097277\n",
       "  0.168582\n",
       "  0.096997\n",
       "  0.254872\n",
       "  0.263792\n",
       "  0.065249\n",
       "  ⋮\n",
       "  0.304079\n",
       "  0.261117\n",
       " -0.050816\n",
       "  0.370563\n",
       " -0.138423\n",
       " -0.130028\n",
       "  0.119115\n",
       " -0.145221\n",
       " -0.025328"
      ]
     },
     "metadata": {},
     "output_type": "display_data"
    }
   ],
   "source": [
    "acwi_1 = acwi[:,1]\n",
    "acwi_1 = reshape(acwi_1,99999,1)"
   ]
  },
  {
   "cell_type": "code",
   "execution_count": 20,
   "metadata": {},
   "outputs": [
    {
     "data": {
      "text/plain": [
       "KmeansResult{Matrix{Float64}, Float64, Int64}([0.183608; 0.057796; … ; -0.145221; -0.025328;;], [1], [0.0], [1], [1], 0.0, 0, true)"
      ]
     },
     "metadata": {},
     "output_type": "display_data"
    }
   ],
   "source": [
    "n_clusters = 4\n",
    "result_acwi = kmeans(acwi_1,1)"
   ]
  },
  {
   "cell_type": "code",
   "execution_count": 21,
   "metadata": {},
   "outputs": [
    {
     "data": {
      "text/plain": [
       "99999×1 Matrix{Float64}:\n",
       "  0.183608\n",
       "  0.057796\n",
       " -0.042034\n",
       "  0.048233\n",
       " -0.097277\n",
       "  0.168582\n",
       "  0.096997\n",
       "  0.254872\n",
       "  0.263792\n",
       "  0.065249\n",
       "  ⋮\n",
       "  0.304079\n",
       "  0.261117\n",
       " -0.050816\n",
       "  0.370563\n",
       " -0.138423\n",
       " -0.130028\n",
       "  0.119115\n",
       " -0.145221\n",
       " -0.025328"
      ]
     },
     "metadata": {},
     "output_type": "display_data"
    }
   ],
   "source": [
    "result_acwi.centers"
   ]
  }
 ],
 "metadata": {
  "kernelspec": {
   "display_name": "Julia 1.10.2",
   "language": "julia",
   "name": "julia-1.10"
  },
  "language_info": {
   "file_extension": ".jl",
   "mimetype": "application/julia",
   "name": "julia",
   "version": "1.10.2"
  }
 },
 "nbformat": 4,
 "nbformat_minor": 2
}
