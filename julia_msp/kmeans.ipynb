{
 "cells": [
  {
   "cell_type": "code",
   "execution_count": 2,
   "metadata": {},
   "outputs": [
    {
     "name": "stderr",
     "output_type": "stream",
     "text": [
      "\u001b[32m\u001b[1m   Resolving\u001b[22m\u001b[39m package versions...\n",
      "\u001b[32m\u001b[1m   Installed\u001b[22m\u001b[39m NearestNeighbors ─ v0.4.16\n",
      "\u001b[32m\u001b[1m   Installed\u001b[22m\u001b[39m Clustering ─────── v0.15.7\n",
      "\u001b[32m\u001b[1m    Updating\u001b[22m\u001b[39m `C:\\Users\\matsz\\.julia\\environments\\v1.10\\Project.toml`\n",
      "  \u001b[90m[aaaa29a8] \u001b[39m\u001b[92m+ Clustering v0.15.7\u001b[39m\n",
      "\u001b[32m\u001b[1m    Updating\u001b[22m\u001b[39m `C:\\Users\\matsz\\.julia\\environments\\v1.10\\Manifest.toml`\n",
      "  \u001b[90m[aaaa29a8] \u001b[39m\u001b[92m+ Clustering v0.15.7\u001b[39m\n",
      "  \u001b[90m[b8a86587] \u001b[39m\u001b[92m+ NearestNeighbors v0.4.16\u001b[39m\n",
      "\u001b[32m\u001b[1mPrecompiling\u001b[22m\u001b[39m project...\n",
      "\u001b[32m  ✓ \u001b[39m\u001b[90mNearestNeighbors\u001b[39m\n",
      "\u001b[32m  ✓ \u001b[39mClustering\n",
      "  2 dependencies successfully precompiled in 24 seconds. 395 already precompiled.\n"
     ]
    }
   ],
   "source": [
    "import Pkg\n",
    "Pkg.add(\"Clustering\")"
   ]
  },
  {
   "cell_type": "code",
   "execution_count": 15,
   "metadata": {},
   "outputs": [],
   "source": [
    "using Clustering\n",
    "using CSV\n",
    "using DataFrames\n",
    "using Statistics"
   ]
  },
  {
   "cell_type": "code",
   "execution_count": 288,
   "metadata": {},
   "outputs": [
    {
     "data": {
      "text/plain": [
       "99999×50 Matrix{Float64}:\n",
       "  0.183608   0.040727   0.130638  …   0.310636   0.259417   0.106576\n",
       "  0.057796  -0.015669   0.01473       0.181475   0.038817   0.09112\n",
       " -0.042034   0.071062   0.211914      0.271774   0.03051    0.014144\n",
       "  0.048233   0.002585   0.069304      0.161997   0.150916  -0.458586\n",
       " -0.097277   0.278737   0.249458      0.054621   0.20249    0.148626\n",
       "  0.168582   0.058298   0.174671  …  -0.057467  -0.037438   0.030723\n",
       "  0.096997   0.214256  -0.246285      0.148997   0.192833   0.181174\n",
       "  0.254872   0.054849   0.014113      0.13077    0.066608  -0.076274\n",
       "  0.263792   0.213822   0.260164      0.309639   0.022386   0.268776\n",
       "  0.065249  -0.206639   0.347267      0.165357   0.180862   0.298468\n",
       "  ⋮                               ⋱                        \n",
       "  0.304079  -0.004624   0.041851  …  -0.008278   0.136057   0.139732\n",
       "  0.261117   0.094383  -0.240846      0.037133  -0.072158  -0.037526\n",
       " -0.050816   0.211829  -0.100711      0.158417  -0.021944   0.318735\n",
       "  0.370563   0.2798     0.055737      0.054807  -0.055942   0.024802\n",
       " -0.138423   0.062595   0.141441      0.10268    0.036239  -0.146841\n",
       " -0.130028   0.302331  -0.060284  …  -0.248784  -0.057881   0.170333\n",
       "  0.119115   0.095772  -0.292217      0.084165   0.118251   0.292593\n",
       " -0.145221  -0.393472   0.060243      0.142273   0.023003   0.115302\n",
       " -0.025328   0.014187   0.174296      0.012147   0.20869    0.170179"
      ]
     },
     "metadata": {},
     "output_type": "display_data"
    }
   ],
   "source": [
    "acwi = Matrix(CSV.read(\"../sb_gbi/equity_scenarios.csv\",DataFrame))"
   ]
  },
  {
   "cell_type": "code",
   "execution_count": 48,
   "metadata": {},
   "outputs": [
    {
     "data": {
      "text/plain": [
       "99999×50 Matrix{Float64}:\n",
       " 0.035158  0.031416  0.046096  0.018379  …  0.06628   0.09403   0.093851\n",
       " 0.013222  0.0123    0.043899  0.027086     0.019199  0.021789  0.020151\n",
       " 0.039912  0.040263  0.035394  0.0123       0.02551   0.0123    0.0123\n",
       " 0.016048  0.0123    0.0123    0.03366      0.056582  0.0123    0.0123\n",
       " 0.065174  0.052422  0.071214  0.05068      0.019615  0.058837  0.048566\n",
       " 0.051986  0.035766  0.026192  0.033541  …  0.052188  0.046143  0.026802\n",
       " 0.040925  0.025968  0.043467  0.024486     0.0786    0.047548  0.027347\n",
       " 0.0123    0.045685  0.022954  0.0123       0.019471  0.048676  0.043244\n",
       " 0.0123    0.014093  0.0123    0.0123       0.037708  0.071717  0.083529\n",
       " 0.0123    0.046767  0.048754  0.071964     0.058765  0.0123    0.024597\n",
       " ⋮                                       ⋱                      \n",
       " 0.05639   0.034089  0.038381  0.037493  …  0.037054  0.031733  0.02699\n",
       " 0.022314  0.042175  0.031607  0.039552     0.060712  0.045391  0.080075\n",
       " 0.078099  0.090769  0.052886  0.026244     0.037973  0.046298  0.055046\n",
       " 0.033872  0.053367  0.022564  0.08282      0.028893  0.0123    0.021959\n",
       " 0.060451  0.029764  0.0123    0.0123       0.041878  0.072729  0.033877\n",
       " 0.024683  0.050876  0.063715  0.044785  …  0.040408  0.062263  0.022981\n",
       " 0.064728  0.058533  0.036324  0.019063     0.0123    0.035531  0.045336\n",
       " 0.027103  0.059451  0.051567  0.04828      0.04997   0.0123    0.0123\n",
       " 0.0123    0.027505  0.0123    0.023295     0.065018  0.095034  0.057752"
      ]
     },
     "metadata": {},
     "output_type": "display_data"
    }
   ],
   "source": [
    "inflation = Matrix(CSV.read(\"../sb_gbi/inflation_scenarios.csv\", DataFrame))[:,2:end]"
   ]
  },
  {
   "cell_type": "code",
   "execution_count": 73,
   "metadata": {},
   "outputs": [
    {
     "data": {
      "text/plain": [
       "2×99999×50 Array{Float64, 3}:\n",
       "[:, :, 1] =\n",
       " 0.183608  0.057796  -0.042034  0.048233  …  0.119115  -0.145221  -0.025328\n",
       " 0.035158  0.013222   0.039912  0.016048     0.064728   0.027103   0.0123\n",
       "\n",
       "[:, :, 2] =\n",
       " 0.040727  -0.015669  0.071062  0.002585  …  0.095772  -0.393472  0.014187\n",
       " 0.031416   0.0123    0.040263  0.0123       0.058533   0.059451  0.027505\n",
       "\n",
       "[:, :, 3] =\n",
       " 0.130638  0.01473   0.211914  0.069304  …  -0.292217  0.060243  0.174296\n",
       " 0.046096  0.043899  0.035394  0.0123        0.036324  0.051567  0.0123\n",
       "\n",
       ";;; … \n",
       "\n",
       "[:, :, 48] =\n",
       " 0.310636  0.181475  0.271774  0.161997  …  0.084165  0.142273  0.012147\n",
       " 0.06628   0.019199  0.02551   0.056582     0.0123    0.04997   0.065018\n",
       "\n",
       "[:, :, 49] =\n",
       " 0.259417  0.038817  0.03051  0.150916  …  0.118251  0.023003  0.20869\n",
       " 0.09403   0.021789  0.0123   0.0123       0.035531  0.0123    0.095034\n",
       "\n",
       "[:, :, 50] =\n",
       " 0.106576  0.09112   0.014144  -0.458586  …  0.292593  0.115302  0.170179\n",
       " 0.093851  0.020151  0.0123     0.0123       0.045336  0.0123    0.057752"
      ]
     },
     "metadata": {},
     "output_type": "display_data"
    }
   ],
   "source": [
    "returns = stack([acwi,inflation],dims=1)"
   ]
  },
  {
   "cell_type": "code",
   "execution_count": 124,
   "metadata": {},
   "outputs": [
    {
     "data": {
      "text/plain": [
       "2×99999 Matrix{Float64}:\n",
       " 0.183608  0.057796  -0.042034  0.048233  …  0.119115  -0.145221  -0.025328\n",
       " 0.035158  0.013222   0.039912  0.016048     0.064728   0.027103   0.0123"
      ]
     },
     "metadata": {},
     "output_type": "display_data"
    }
   ],
   "source": [
    "period_1 = returns[:,:,1] \n"
   ]
  },
  {
   "cell_type": "code",
   "execution_count": 131,
   "metadata": {},
   "outputs": [
    {
     "data": {
      "text/plain": [
       "2-element Vector{Float64}:\n",
       " 0.183608\n",
       " 0.035158"
      ]
     },
     "metadata": {},
     "output_type": "display_data"
    }
   ],
   "source": [
    "period_1[:,1]"
   ]
  },
  {
   "cell_type": "code",
   "execution_count": 253,
   "metadata": {},
   "outputs": [
    {
     "data": {
      "text/plain": [
       "KmeansResult{Matrix{Float64}, Float64, Int64}([0.16818623502048105 -0.25860468448365365 … 0.11123793435571366 -0.14583081772973008; 0.038084508088591464 0.04035417799688653 … 0.02504347007667944 0.041094225945946285], [1, 10, 4, 10, 4, 1, 11, 6, 6, 10  …  5, 6, 6, 4, 7, 12, 12, 8, 12, 5], [0.0002463952846761125, 0.0007065127247324913, 0.0004796971328582065, 0.0006217363692727403, 0.0017137370277039467, 0.00019340810728196017, 0.0004550272040290751, 0.001495108576262394, 0.001109426810356251, 0.0008385633488134266  …  0.0006093306147079468, 0.0007764560599860526, 0.0007369002390351653, 0.0015740054839335008, 0.0003045023600265484, 0.00042956046529659536, 0.0005190573852479757, 1.5911843333313302e-5, 0.0001961262811340167, 0.0014530249643849961], [14399, 1928, 1550, 7706, 10977, 8996, 5110, 7774, 12553, 13683, 10696, 4627], [14403, 1927, 1552, 7702, 10974, 8994, 5111, 7771, 12556, 13690, 10694, 4625], 81.81665448519425, 100, false)"
      ]
     },
     "metadata": {},
     "output_type": "display_data"
    }
   ],
   "source": [
    "n_clusters = 12\n",
    "result = kmeans(period_1,n_clusters)"
   ]
  },
  {
   "cell_type": "code",
   "execution_count": 254,
   "metadata": {},
   "outputs": [
    {
     "data": {
      "text/plain": [
       "12-element Vector{Int64}:\n",
       " 14399\n",
       "  1928\n",
       "  1550\n",
       "  7706\n",
       " 10977\n",
       "  8996\n",
       "  5110\n",
       "  7774\n",
       " 12553\n",
       " 13683\n",
       " 10696\n",
       "  4627"
      ]
     },
     "metadata": {},
     "output_type": "display_data"
    }
   ],
   "source": [
    "counts(result)"
   ]
  },
  {
   "cell_type": "code",
   "execution_count": 255,
   "metadata": {},
   "outputs": [
    {
     "data": {
      "text/plain": [
       "2×12 Matrix{Float64}:\n",
       " 0.168186   -0.258605   0.46345    …  0.0560013  0.111238   -0.145831\n",
       " 0.0380845   0.0403542  0.0402921     0.0397417  0.0250435   0.0410942"
      ]
     },
     "metadata": {},
     "output_type": "display_data"
    }
   ],
   "source": [
    "centers =result.centers"
   ]
  },
  {
   "cell_type": "code",
   "execution_count": 256,
   "metadata": {},
   "outputs": [
    {
     "name": "stdout",
     "output_type": "stream",
     "text": [
      "equity: 0.16818623502048105, infl: 0.038084508088591464\n",
      "equity: -0.25860468448365365, infl: 0.04035417799688653\n",
      "equity: 0.46345026353092805, infl: 0.04029209536082492\n",
      "equity: -0.06392344949363808, infl: 0.04065303557517541\n",
      "equity: 0.0004009842354656465, infl: 0.04042551038818952\n",
      "equity: 0.2809509330664888, infl: 0.04084816677785154\n",
      "equity: 0.3542111700254347, infl: 0.039964619839562274\n",
      "equity: 0.11526165062411567, infl: 0.06575928168832836\n",
      "equity: 0.22144475390251625, infl: 0.04126747610703937\n",
      "equity: 0.05600134733382003, infl: 0.03974165208181026\n",
      "equity: 0.11123793435571366, infl: 0.02504347007667944\n",
      "equity: -0.14583081772973008, infl: 0.041094225945946285\n"
     ]
    }
   ],
   "source": [
    "for cluster in 1:n_clusters\n",
    "    println(\"equity: $(centers[1,cluster]), infl: $(centers[2,cluster])\")\n",
    "end"
   ]
  },
  {
   "cell_type": "code",
   "execution_count": 257,
   "metadata": {},
   "outputs": [
    {
     "data": {
      "text/plain": [
       "99999-element Vector{Int64}:\n",
       "  1\n",
       " 10\n",
       "  4\n",
       " 10\n",
       "  4\n",
       "  1\n",
       " 11\n",
       "  6\n",
       "  6\n",
       " 10\n",
       "  ⋮\n",
       "  6\n",
       "  6\n",
       "  4\n",
       "  7\n",
       " 12\n",
       " 12\n",
       "  8\n",
       " 12\n",
       "  5"
      ]
     },
     "metadata": {},
     "output_type": "display_data"
    }
   ],
   "source": [
    "clusters = assignments(result)"
   ]
  },
  {
   "cell_type": "code",
   "execution_count": 277,
   "metadata": {},
   "outputs": [
    {
     "name": "stdout",
     "output_type": "stream",
     "text": [
      "0.16820545843461276, 0.03807259073546654\n",
      "-0.25857561410788404, 0.04038113485477196\n",
      "0.4635209264516131, 0.040231969677419537\n",
      "-0.06387829781988069, 0.040652384505580196\n",
      "0.00044675639974492144, 0.040420502778536205\n",
      "0.28096651445086696, 0.0408534413072473\n",
      "0.35425390606653556, 0.039974964383562184\n",
      "0.11529385914587123, 0.06576677180344734\n",
      "0.22145541233171304, 0.04127046004938951\n",
      "0.056027915515603016, 0.039744148578526824\n",
      "0.11124786415482439, 0.025046461293942585\n",
      "-0.14579200972552442, 0.041083429435919944\n"
     ]
    }
   ],
   "source": [
    "cluster_means = zeros((2,n_clusters))\n",
    "\n",
    "for cluster in 1:n_clusters\n",
    "    cluster_means[:,cluster] = mean(period_1[:,clusters .== cluster],dims=2) \n",
    "end\n",
    "\n",
    "\n",
    "for cluster in 1:n_clusters\n",
    "    println(\"$(cluster_means[1,cluster]), $(cluster_means[2,cluster])\")\n",
    "end"
   ]
  },
  {
   "cell_type": "code",
   "execution_count": 281,
   "metadata": {},
   "outputs": [
    {
     "data": {
      "text/plain": [
       "12-element Vector{Float64}:\n",
       " 0.14399143991439914\n",
       " 0.01928019280192802\n",
       " 0.015500155001550015\n",
       " 0.07706077060770608\n",
       " 0.10977109771097711\n",
       " 0.08996089960899609\n",
       " 0.05110051100511005\n",
       " 0.07774077740777408\n",
       " 0.12553125531255313\n",
       " 0.13683136831368314\n",
       " 0.10696106961069611\n",
       " 0.04627046270462705"
      ]
     },
     "metadata": {},
     "output_type": "display_data"
    }
   ],
   "source": [
    "probs = counts(result)/sum(counts(result))"
   ]
  },
  {
   "cell_type": "code",
   "execution_count": 287,
   "metadata": {},
   "outputs": [
    {
     "data": {
      "text/html": [
       "<div><div style = \"float: left;\"><span>12×3 DataFrame</span></div><div style = \"clear: both;\"></div></div><div class = \"data-frame\" style = \"overflow-x: scroll;\"><table class = \"data-frame\" style = \"margin-bottom: 6px;\"><thead><tr class = \"header\"><th class = \"rowNumber\" style = \"font-weight: bold; text-align: right;\">Row</th><th style = \"text-align: left;\">Equity</th><th style = \"text-align: left;\">EDO</th><th style = \"text-align: left;\">Probs</th></tr><tr class = \"subheader headerLastRow\"><th class = \"rowNumber\" style = \"font-weight: bold; text-align: right;\"></th><th title = \"Float64\" style = \"text-align: left;\">Float64</th><th title = \"Float64\" style = \"text-align: left;\">Float64</th><th title = \"Float64\" style = \"text-align: left;\">Float64</th></tr></thead><tbody><tr><td class = \"rowNumber\" style = \"font-weight: bold; text-align: right;\">1</td><td style = \"text-align: right;\">16.8205</td><td style = \"text-align: right;\">3.80726</td><td style = \"text-align: right;\">14.3991</td></tr><tr><td class = \"rowNumber\" style = \"font-weight: bold; text-align: right;\">2</td><td style = \"text-align: right;\">-25.8576</td><td style = \"text-align: right;\">4.03811</td><td style = \"text-align: right;\">1.92802</td></tr><tr><td class = \"rowNumber\" style = \"font-weight: bold; text-align: right;\">3</td><td style = \"text-align: right;\">46.3521</td><td style = \"text-align: right;\">4.0232</td><td style = \"text-align: right;\">1.55002</td></tr><tr><td class = \"rowNumber\" style = \"font-weight: bold; text-align: right;\">4</td><td style = \"text-align: right;\">-6.38783</td><td style = \"text-align: right;\">4.06524</td><td style = \"text-align: right;\">7.70608</td></tr><tr><td class = \"rowNumber\" style = \"font-weight: bold; text-align: right;\">5</td><td style = \"text-align: right;\">0.0446756</td><td style = \"text-align: right;\">4.04205</td><td style = \"text-align: right;\">10.9771</td></tr><tr><td class = \"rowNumber\" style = \"font-weight: bold; text-align: right;\">6</td><td style = \"text-align: right;\">28.0967</td><td style = \"text-align: right;\">4.08534</td><td style = \"text-align: right;\">8.99609</td></tr><tr><td class = \"rowNumber\" style = \"font-weight: bold; text-align: right;\">7</td><td style = \"text-align: right;\">35.4254</td><td style = \"text-align: right;\">3.9975</td><td style = \"text-align: right;\">5.11005</td></tr><tr><td class = \"rowNumber\" style = \"font-weight: bold; text-align: right;\">8</td><td style = \"text-align: right;\">11.5294</td><td style = \"text-align: right;\">6.57668</td><td style = \"text-align: right;\">7.77408</td></tr><tr><td class = \"rowNumber\" style = \"font-weight: bold; text-align: right;\">9</td><td style = \"text-align: right;\">22.1455</td><td style = \"text-align: right;\">4.12705</td><td style = \"text-align: right;\">12.5531</td></tr><tr><td class = \"rowNumber\" style = \"font-weight: bold; text-align: right;\">10</td><td style = \"text-align: right;\">5.60279</td><td style = \"text-align: right;\">3.97441</td><td style = \"text-align: right;\">13.6831</td></tr><tr><td class = \"rowNumber\" style = \"font-weight: bold; text-align: right;\">11</td><td style = \"text-align: right;\">11.1248</td><td style = \"text-align: right;\">2.50465</td><td style = \"text-align: right;\">10.6961</td></tr><tr><td class = \"rowNumber\" style = \"font-weight: bold; text-align: right;\">12</td><td style = \"text-align: right;\">-14.5792</td><td style = \"text-align: right;\">4.10834</td><td style = \"text-align: right;\">4.62705</td></tr></tbody></table></div>"
      ],
      "text/latex": [
       "\\begin{tabular}{r|ccc}\n",
       "\t& Equity & EDO & Probs\\\\\n",
       "\t\\hline\n",
       "\t& Float64 & Float64 & Float64\\\\\n",
       "\t\\hline\n",
       "\t1 & 16.8205 & 3.80726 & 14.3991 \\\\\n",
       "\t2 & -25.8576 & 4.03811 & 1.92802 \\\\\n",
       "\t3 & 46.3521 & 4.0232 & 1.55002 \\\\\n",
       "\t4 & -6.38783 & 4.06524 & 7.70608 \\\\\n",
       "\t5 & 0.0446756 & 4.04205 & 10.9771 \\\\\n",
       "\t6 & 28.0967 & 4.08534 & 8.99609 \\\\\n",
       "\t7 & 35.4254 & 3.9975 & 5.11005 \\\\\n",
       "\t8 & 11.5294 & 6.57668 & 7.77408 \\\\\n",
       "\t9 & 22.1455 & 4.12705 & 12.5531 \\\\\n",
       "\t10 & 5.60279 & 3.97441 & 13.6831 \\\\\n",
       "\t11 & 11.1248 & 2.50465 & 10.6961 \\\\\n",
       "\t12 & -14.5792 & 4.10834 & 4.62705 \\\\\n",
       "\\end{tabular}\n"
      ],
      "text/plain": [
       "\u001b[1m12×3 DataFrame\u001b[0m\n",
       "\u001b[1m Row \u001b[0m│\u001b[1m Equity      \u001b[0m\u001b[1m EDO     \u001b[0m\u001b[1m Probs    \u001b[0m\n",
       "     │\u001b[90m Float64     \u001b[0m\u001b[90m Float64 \u001b[0m\u001b[90m Float64  \u001b[0m\n",
       "─────┼────────────────────────────────\n",
       "   1 │  16.8205     3.80726  14.3991\n",
       "   2 │ -25.8576     4.03811   1.92802\n",
       "   3 │  46.3521     4.0232    1.55002\n",
       "   4 │  -6.38783    4.06524   7.70608\n",
       "   5 │   0.0446756  4.04205  10.9771\n",
       "   6 │  28.0967     4.08534   8.99609\n",
       "   7 │  35.4254     3.9975    5.11005\n",
       "   8 │  11.5294     6.57668   7.77408\n",
       "   9 │  22.1455     4.12705  12.5531\n",
       "  10 │   5.60279    3.97441  13.6831\n",
       "  11 │  11.1248     2.50465  10.6961\n",
       "  12 │ -14.5792     4.10834   4.62705"
      ]
     },
     "metadata": {},
     "output_type": "display_data"
    }
   ],
   "source": [
    "scenario_period1 = DataFrame(Equity=cluster_means[1,:].*100,EDO=cluster_means[2,:].*100,Probs=probs*100)"
   ]
  },
  {
   "cell_type": "code",
   "execution_count": 259,
   "metadata": {},
   "outputs": [
    {
     "data": {
      "text/plain": [
       "7-element Vector{Float64}:\n",
       " -0.24365456\n",
       " -0.12870330000000002\n",
       "  0.0271735\n",
       "  0.119023\n",
       "  0.207915\n",
       "  0.3375451\n",
       "  0.43165099999999945"
      ]
     },
     "metadata": {},
     "output_type": "display_data"
    }
   ],
   "source": [
    "quantile(acwi[:,1],[0.01, 0.05,0.25,0.5,0.75,0.95,0.99])"
   ]
  },
  {
   "cell_type": "code",
   "execution_count": 260,
   "metadata": {},
   "outputs": [
    {
     "data": {
      "text/plain": [
       "12-element Vector{Float64}:\n",
       " -0.25857561410788404\n",
       " -0.14579200972552442\n",
       " -0.06387829781988069\n",
       "  0.00044675639974492144\n",
       "  0.056027915515603016\n",
       "  0.11124786415482439\n",
       "  0.11529385914587123\n",
       "  0.16820545843461276\n",
       "  0.22145541233171304\n",
       "  0.28096651445086696\n",
       "  0.35425390606653556\n",
       "  0.4635209264516131"
      ]
     },
     "metadata": {},
     "output_type": "display_data"
    }
   ],
   "source": [
    "sort(cluster_means[1,:])"
   ]
  },
  {
   "cell_type": "code",
   "execution_count": 261,
   "metadata": {},
   "outputs": [
    {
     "data": {
      "text/plain": [
       "12-element Vector{Float64}:\n",
       " 0.025046461293942585\n",
       " 0.03807259073546654\n",
       " 0.039744148578526824\n",
       " 0.039974964383562184\n",
       " 0.040231969677419537\n",
       " 0.04038113485477196\n",
       " 0.040420502778536205\n",
       " 0.040652384505580196\n",
       " 0.0408534413072473\n",
       " 0.041083429435919944\n",
       " 0.04127046004938951\n",
       " 0.06576677180344734"
      ]
     },
     "metadata": {},
     "output_type": "display_data"
    }
   ],
   "source": [
    "sort(cluster_means[2,:])"
   ]
  },
  {
   "cell_type": "code",
   "execution_count": 262,
   "metadata": {},
   "outputs": [
    {
     "data": {
      "text/plain": [
       "7-element Vector{Float64}:\n",
       " 0.0123\n",
       " 0.0123\n",
       " 0.021725\n",
       " 0.038629\n",
       " 0.0554615\n",
       " 0.079651\n",
       " 0.09682603999999997"
      ]
     },
     "metadata": {},
     "output_type": "display_data"
    }
   ],
   "source": [
    "quantile(inflation[:,1],[0.01, 0.05,0.25,0.5,0.75,0.95,0.99])"
   ]
  },
  {
   "cell_type": "code",
   "execution_count": 297,
   "metadata": {},
   "outputs": [
    {
     "data": {
      "text/plain": [
       "99999×1 Matrix{Float64}:\n",
       "  0.183608\n",
       "  0.057796\n",
       " -0.042034\n",
       "  0.048233\n",
       " -0.097277\n",
       "  0.168582\n",
       "  0.096997\n",
       "  0.254872\n",
       "  0.263792\n",
       "  0.065249\n",
       "  ⋮\n",
       "  0.304079\n",
       "  0.261117\n",
       " -0.050816\n",
       "  0.370563\n",
       " -0.138423\n",
       " -0.130028\n",
       "  0.119115\n",
       " -0.145221\n",
       " -0.025328"
      ]
     },
     "metadata": {},
     "output_type": "display_data"
    }
   ],
   "source": [
    "acwi_1 = acwi[:,1]\n",
    "acwi_1 = reshape(acwi_1,99999,1)"
   ]
  },
  {
   "cell_type": "code",
   "execution_count": 303,
   "metadata": {},
   "outputs": [
    {
     "data": {
      "text/plain": [
       "KmeansResult{Matrix{Float64}, Float64, Int64}([0.183608; 0.057796; … ; -0.145221; -0.025328;;], [1], [0.0], [1], [1], 0.0, 0, true)"
      ]
     },
     "metadata": {},
     "output_type": "display_data"
    }
   ],
   "source": [
    "n_clusters = 4\n",
    "result_acwi = kmeans(acwi_1,1)"
   ]
  },
  {
   "cell_type": "code",
   "execution_count": 304,
   "metadata": {},
   "outputs": [
    {
     "data": {
      "text/plain": [
       "99999×1 Matrix{Float64}:\n",
       "  0.183608\n",
       "  0.057796\n",
       " -0.042034\n",
       "  0.048233\n",
       " -0.097277\n",
       "  0.168582\n",
       "  0.096997\n",
       "  0.254872\n",
       "  0.263792\n",
       "  0.065249\n",
       "  ⋮\n",
       "  0.304079\n",
       "  0.261117\n",
       " -0.050816\n",
       "  0.370563\n",
       " -0.138423\n",
       " -0.130028\n",
       "  0.119115\n",
       " -0.145221\n",
       " -0.025328"
      ]
     },
     "metadata": {},
     "output_type": "display_data"
    }
   ],
   "source": [
    "result_acwi.centers"
   ]
  }
 ],
 "metadata": {
  "kernelspec": {
   "display_name": "Julia 1.10.2",
   "language": "julia",
   "name": "julia-1.10"
  },
  "language_info": {
   "file_extension": ".jl",
   "mimetype": "application/julia",
   "name": "julia",
   "version": "1.10.2"
  }
 },
 "nbformat": 4,
 "nbformat_minor": 2
}
