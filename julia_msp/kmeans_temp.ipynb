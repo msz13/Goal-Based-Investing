{
 "cells": [
  {
   "cell_type": "code",
   "execution_count": 2,
   "metadata": {},
   "outputs": [
    {
     "name": "stderr",
     "output_type": "stream",
     "text": [
      "\u001b[32m\u001b[1m   Resolving\u001b[22m\u001b[39m package versions...\n",
      "\u001b[32m\u001b[1m   Installed\u001b[22m\u001b[39m NearestNeighbors ─ v0.4.16\n",
      "\u001b[32m\u001b[1m   Installed\u001b[22m\u001b[39m Clustering ─────── v0.15.7\n",
      "\u001b[32m\u001b[1m    Updating\u001b[22m\u001b[39m `C:\\Users\\matsz\\.julia\\environments\\v1.10\\Project.toml`\n",
      "  \u001b[90m[aaaa29a8] \u001b[39m\u001b[92m+ Clustering v0.15.7\u001b[39m\n",
      "\u001b[32m\u001b[1m    Updating\u001b[22m\u001b[39m `C:\\Users\\matsz\\.julia\\environments\\v1.10\\Manifest.toml`\n",
      "  \u001b[90m[aaaa29a8] \u001b[39m\u001b[92m+ Clustering v0.15.7\u001b[39m\n",
      "  \u001b[90m[b8a86587] \u001b[39m\u001b[92m+ NearestNeighbors v0.4.16\u001b[39m\n",
      "\u001b[32m\u001b[1mPrecompiling\u001b[22m\u001b[39m project...\n",
      "\u001b[32m  ✓ \u001b[39m\u001b[90mNearestNeighbors\u001b[39m\n",
      "\u001b[32m  ✓ \u001b[39mClustering\n",
      "  2 dependencies successfully precompiled in 24 seconds. 395 already precompiled.\n"
     ]
    }
   ],
   "source": [
    "import Pkg\n",
    "Pkg.add(\"Clustering\")"
   ]
  },
  {
   "cell_type": "code",
   "execution_count": 4,
   "metadata": {},
   "outputs": [],
   "source": [
    "using Clustering\n",
    "using CSV\n",
    "using DataFrames\n",
    "using Statistics\n",
    "using StatsBase\n",
    "using TimeSeries"
   ]
  },
  {
   "cell_type": "code",
   "execution_count": 91,
   "metadata": {},
   "outputs": [
    {
     "data": {
      "text/plain": [
       "99999×50 Matrix{Float64}:\n",
       "  0.183608   0.040727   0.130638  …   0.310636   0.259417   0.106576\n",
       "  0.057796  -0.015669   0.01473       0.181475   0.038817   0.09112\n",
       " -0.042034   0.071062   0.211914      0.271774   0.03051    0.014144\n",
       "  0.048233   0.002585   0.069304      0.161997   0.150916  -0.458586\n",
       " -0.097277   0.278737   0.249458      0.054621   0.20249    0.148626\n",
       "  0.168582   0.058298   0.174671  …  -0.057467  -0.037438   0.030723\n",
       "  0.096997   0.214256  -0.246285      0.148997   0.192833   0.181174\n",
       "  0.254872   0.054849   0.014113      0.13077    0.066608  -0.076274\n",
       "  0.263792   0.213822   0.260164      0.309639   0.022386   0.268776\n",
       "  0.065249  -0.206639   0.347267      0.165357   0.180862   0.298468\n",
       "  ⋮                               ⋱                        \n",
       "  0.304079  -0.004624   0.041851  …  -0.008278   0.136057   0.139732\n",
       "  0.261117   0.094383  -0.240846      0.037133  -0.072158  -0.037526\n",
       " -0.050816   0.211829  -0.100711      0.158417  -0.021944   0.318735\n",
       "  0.370563   0.2798     0.055737      0.054807  -0.055942   0.024802\n",
       " -0.138423   0.062595   0.141441      0.10268    0.036239  -0.146841\n",
       " -0.130028   0.302331  -0.060284  …  -0.248784  -0.057881   0.170333\n",
       "  0.119115   0.095772  -0.292217      0.084165   0.118251   0.292593\n",
       " -0.145221  -0.393472   0.060243      0.142273   0.023003   0.115302\n",
       " -0.025328   0.014187   0.174296      0.012147   0.20869    0.170179"
      ]
     },
     "metadata": {},
     "output_type": "display_data"
    }
   ],
   "source": [
    "acwi = Matrix(CSV.read(\"../sb_gbi/equity_scenarios.csv\",DataFrame))"
   ]
  },
  {
   "cell_type": "code",
   "execution_count": 92,
   "metadata": {},
   "outputs": [
    {
     "data": {
      "text/plain": [
       "99999×50 Matrix{Float64}:\n",
       " 0.035158  0.031416  0.046096  0.018379  …  0.06628   0.09403   0.093851\n",
       " 0.013222  0.0123    0.043899  0.027086     0.019199  0.021789  0.020151\n",
       " 0.039912  0.040263  0.035394  0.0123       0.02551   0.0123    0.0123\n",
       " 0.016048  0.0123    0.0123    0.03366      0.056582  0.0123    0.0123\n",
       " 0.065174  0.052422  0.071214  0.05068      0.019615  0.058837  0.048566\n",
       " 0.051986  0.035766  0.026192  0.033541  …  0.052188  0.046143  0.026802\n",
       " 0.040925  0.025968  0.043467  0.024486     0.0786    0.047548  0.027347\n",
       " 0.0123    0.045685  0.022954  0.0123       0.019471  0.048676  0.043244\n",
       " 0.0123    0.014093  0.0123    0.0123       0.037708  0.071717  0.083529\n",
       " 0.0123    0.046767  0.048754  0.071964     0.058765  0.0123    0.024597\n",
       " ⋮                                       ⋱                      \n",
       " 0.05639   0.034089  0.038381  0.037493  …  0.037054  0.031733  0.02699\n",
       " 0.022314  0.042175  0.031607  0.039552     0.060712  0.045391  0.080075\n",
       " 0.078099  0.090769  0.052886  0.026244     0.037973  0.046298  0.055046\n",
       " 0.033872  0.053367  0.022564  0.08282      0.028893  0.0123    0.021959\n",
       " 0.060451  0.029764  0.0123    0.0123       0.041878  0.072729  0.033877\n",
       " 0.024683  0.050876  0.063715  0.044785  …  0.040408  0.062263  0.022981\n",
       " 0.064728  0.058533  0.036324  0.019063     0.0123    0.035531  0.045336\n",
       " 0.027103  0.059451  0.051567  0.04828      0.04997   0.0123    0.0123\n",
       " 0.0123    0.027505  0.0123    0.023295     0.065018  0.095034  0.057752"
      ]
     },
     "metadata": {},
     "output_type": "display_data"
    }
   ],
   "source": [
    "inflation = Matrix(CSV.read(\"../sb_gbi/inflation_scenarios.csv\", DataFrame))[:,2:end]"
   ]
  },
  {
   "cell_type": "code",
   "execution_count": 93,
   "metadata": {},
   "outputs": [
    {
     "data": {
      "text/plain": [
       "2×99999×50 Array{Float64, 3}:\n",
       "[:, :, 1] =\n",
       " 0.183608  0.057796  -0.042034  0.048233  …  0.119115  -0.145221  -0.025328\n",
       " 0.035158  0.013222   0.039912  0.016048     0.064728   0.027103   0.0123\n",
       "\n",
       "[:, :, 2] =\n",
       " 0.040727  -0.015669  0.071062  0.002585  …  0.095772  -0.393472  0.014187\n",
       " 0.031416   0.0123    0.040263  0.0123       0.058533   0.059451  0.027505\n",
       "\n",
       "[:, :, 3] =\n",
       " 0.130638  0.01473   0.211914  0.069304  …  -0.292217  0.060243  0.174296\n",
       " 0.046096  0.043899  0.035394  0.0123        0.036324  0.051567  0.0123\n",
       "\n",
       ";;; … \n",
       "\n",
       "[:, :, 48] =\n",
       " 0.310636  0.181475  0.271774  0.161997  …  0.084165  0.142273  0.012147\n",
       " 0.06628   0.019199  0.02551   0.056582     0.0123    0.04997   0.065018\n",
       "\n",
       "[:, :, 49] =\n",
       " 0.259417  0.038817  0.03051  0.150916  …  0.118251  0.023003  0.20869\n",
       " 0.09403   0.021789  0.0123   0.0123       0.035531  0.0123    0.095034\n",
       "\n",
       "[:, :, 50] =\n",
       " 0.106576  0.09112   0.014144  -0.458586  …  0.292593  0.115302  0.170179\n",
       " 0.093851  0.020151  0.0123     0.0123       0.045336  0.0123    0.057752"
      ]
     },
     "metadata": {},
     "output_type": "display_data"
    }
   ],
   "source": [
    "returns = stack([acwi,inflation],dims=1)"
   ]
  },
  {
   "cell_type": "code",
   "execution_count": 94,
   "metadata": {},
   "outputs": [
    {
     "data": {
      "text/plain": [
       "2×99999 Matrix{Float64}:\n",
       " 0.183608  0.057796  -0.042034  0.048233  …  0.119115  -0.145221  -0.025328\n",
       " 0.035158  0.013222   0.039912  0.016048     0.064728   0.027103   0.0123"
      ]
     },
     "metadata": {},
     "output_type": "display_data"
    }
   ],
   "source": [
    "period_1 = returns[:,:,1] \n"
   ]
  },
  {
   "cell_type": "code",
   "execution_count": 95,
   "metadata": {},
   "outputs": [
    {
     "data": {
      "text/plain": [
       "2-element Vector{Float64}:\n",
       " 0.183608\n",
       " 0.035158"
      ]
     },
     "metadata": {},
     "output_type": "display_data"
    }
   ],
   "source": [
    "period_1[:,1]"
   ]
  },
  {
   "cell_type": "code",
   "execution_count": 96,
   "metadata": {},
   "outputs": [
    {
     "data": {
      "text/plain": [
       "KmeansResult{Matrix{Float64}, Float64, Int64}([0.2253154523059055 -0.14079174898456562 … -0.05810467428222364 0.17308855652609606; 0.04085042841738455 0.04103953432169 … 0.04050950201588278 0.04004276358559344], [12, 6, 11, 6, 11, 12, 8, 1, 9, 6  …  7, 9, 9, 11, 4, 2, 2, 10, 2, 7], [0.00013451960628781123, 0.0006286982387657229, 0.0002586235805443083, 0.0006610547443635104, 0.002142808562948087, 0.00016294994777329985, 0.0007880190231008173, 0.0016887164744094768, 0.0012449934299754162, 0.0006739110406751465  …  0.0006443437671831474, 0.0006265395534228169, 0.0008883691151426454, 0.0014660951314903001, 0.0001964695172221309, 0.00038241597153208795, 0.00038339450721935897, 2.3065076592720946e-5, 0.00021384525345737038, 0.001827495161968983], [12065, 4913, 1434, 4900, 2040, 13727, 11452, 10800, 8710, 7808, 8178, 13972], [12056, 4924, 1434, 4902, 2046, 13734, 11459, 10775, 8708, 7809, 8185, 13967], 81.89174815574594, 100, false)"
      ]
     },
     "metadata": {},
     "output_type": "display_data"
    }
   ],
   "source": [
    "n_clusters = 12\n",
    "result = kmeans(period_1,n_clusters)"
   ]
  },
  {
   "cell_type": "code",
   "execution_count": 97,
   "metadata": {},
   "outputs": [
    {
     "data": {
      "text/plain": [
       "12-element Vector{Int64}:\n",
       " 12065\n",
       "  4913\n",
       "  1434\n",
       "  4900\n",
       "  2040\n",
       " 13727\n",
       " 11452\n",
       " 10800\n",
       "  8710\n",
       "  7808\n",
       "  8178\n",
       " 13972"
      ]
     },
     "metadata": {},
     "output_type": "display_data"
    }
   ],
   "source": [
    "counts(result)"
   ]
  },
  {
   "cell_type": "code",
   "execution_count": 98,
   "metadata": {},
   "outputs": [
    {
     "data": {
      "text/plain": [
       "2×12 Matrix{Float64}:\n",
       " 0.225315   -0.140792   0.46779    …  0.114375   -0.0581047  0.173089\n",
       " 0.0408504   0.0410395  0.0404449     0.0655032   0.0405095  0.0400428"
      ]
     },
     "metadata": {},
     "output_type": "display_data"
    }
   ],
   "source": [
    "centers =result.centers"
   ]
  },
  {
   "cell_type": "code",
   "execution_count": 99,
   "metadata": {},
   "outputs": [
    {
     "name": "stdout",
     "output_type": "stream",
     "text": [
      "equity: 0.2253154523059055, infl: 0.04085042841738455\n",
      "equity: -0.14079174898456562, infl: 0.04103953432169\n",
      "equity: 0.46778991143654186, infl: 0.04044485634588581\n",
      "equity: 0.3578912794777632, infl: 0.03986341187270549\n",
      "equity: -0.2552018929618774, infl: 0.040349679374389165\n",
      "equity: 0.06161205191495527, infl: 0.03800376722003677\n",
      "equity: 0.006428221223492391, infl: 0.040918832533379045\n",
      "equity: 0.12001683972157773, infl: 0.024859322227379157\n",
      "equity: 0.2843649441892517, infl: 0.040966136770785234\n",
      "equity: 0.1143753703419134, infl: 0.06550323370469974\n",
      "equity: -0.05810467428222364, infl: 0.04050950201588278\n",
      "equity: 0.17308855652609606, infl: 0.04004276358559344\n"
     ]
    }
   ],
   "source": [
    "for cluster in 1:n_clusters\n",
    "    println(\"equity: $(centers[1,cluster]), infl: $(centers[2,cluster])\")\n",
    "end"
   ]
  },
  {
   "cell_type": "code",
   "execution_count": 100,
   "metadata": {},
   "outputs": [
    {
     "data": {
      "text/plain": [
       "99999-element Vector{Int64}:\n",
       " 12\n",
       "  6\n",
       " 11\n",
       "  6\n",
       " 11\n",
       " 12\n",
       "  8\n",
       "  1\n",
       "  9\n",
       "  6\n",
       "  ⋮\n",
       "  9\n",
       "  9\n",
       " 11\n",
       "  4\n",
       "  2\n",
       "  2\n",
       " 10\n",
       "  2\n",
       "  7"
      ]
     },
     "metadata": {},
     "output_type": "display_data"
    }
   ],
   "source": [
    "clusters = assignments(result)"
   ]
  },
  {
   "cell_type": "code",
   "execution_count": 101,
   "metadata": {},
   "outputs": [
    {
     "name": "stdout",
     "output_type": "stream",
     "text": [
      "0.22529584840447545, 0.040862305014503796\n",
      "-0.1410049027071038, 0.041045115204559654\n",
      "0.46778991143654186, 0.04044485634588581\n",
      "0.35790638775510103, 0.03986975836734742\n",
      "-0.25537023039215734, 0.0403465911764707\n",
      "0.06146688934217203, 0.03808216012238544\n",
      "0.006285096140412094, 0.04090456845965686\n",
      "0.119784838425926, 0.024867299907408352\n",
      "0.2843733376578649, 0.040957500344431436\n",
      "0.11451576498463137, 0.06553850755635249\n",
      "-0.058285417094644236, 0.04051099009537791\n",
      "0.1730425081591743, 0.039970957557971865\n"
     ]
    }
   ],
   "source": [
    "cluster_means = zeros((2,n_clusters))\n",
    "\n",
    "for cluster in 1:n_clusters\n",
    "    cluster_means[:,cluster] = mean(period_1[:,clusters .== cluster],dims=2) \n",
    "end\n",
    "\n",
    "\n",
    "for cluster in 1:n_clusters\n",
    "    println(\"$(cluster_means[1,cluster]), $(cluster_means[2,cluster])\")\n",
    "end"
   ]
  },
  {
   "cell_type": "code",
   "execution_count": 102,
   "metadata": {},
   "outputs": [
    {
     "data": {
      "text/plain": [
       "12-element Vector{Float64}:\n",
       " 0.12065120651206512\n",
       " 0.04913049130491305\n",
       " 0.014340143401434014\n",
       " 0.049000490004900046\n",
       " 0.02040020400204002\n",
       " 0.13727137271372714\n",
       " 0.11452114521145211\n",
       " 0.10800108001080011\n",
       " 0.08710087100871008\n",
       " 0.07808078080780807\n",
       " 0.08178081780817809\n",
       " 0.13972139721397214"
      ]
     },
     "metadata": {},
     "output_type": "display_data"
    }
   ],
   "source": [
    "probs = counts(result)/sum(counts(result))"
   ]
  },
  {
   "cell_type": "code",
   "execution_count": 103,
   "metadata": {},
   "outputs": [
    {
     "data": {
      "text/html": [
       "<div><div style = \"float: left;\"><span>12×3 DataFrame</span></div><div style = \"clear: both;\"></div></div><div class = \"data-frame\" style = \"overflow-x: scroll;\"><table class = \"data-frame\" style = \"margin-bottom: 6px;\"><thead><tr class = \"header\"><th class = \"rowNumber\" style = \"font-weight: bold; text-align: right;\">Row</th><th style = \"text-align: left;\">Equity</th><th style = \"text-align: left;\">EDO</th><th style = \"text-align: left;\">Probs</th></tr><tr class = \"subheader headerLastRow\"><th class = \"rowNumber\" style = \"font-weight: bold; text-align: right;\"></th><th title = \"Float64\" style = \"text-align: left;\">Float64</th><th title = \"Float64\" style = \"text-align: left;\">Float64</th><th title = \"Float64\" style = \"text-align: left;\">Float64</th></tr></thead><tbody><tr><td class = \"rowNumber\" style = \"font-weight: bold; text-align: right;\">1</td><td style = \"text-align: right;\">22.5296</td><td style = \"text-align: right;\">4.08623</td><td style = \"text-align: right;\">12.0651</td></tr><tr><td class = \"rowNumber\" style = \"font-weight: bold; text-align: right;\">2</td><td style = \"text-align: right;\">-14.1005</td><td style = \"text-align: right;\">4.10451</td><td style = \"text-align: right;\">4.91305</td></tr><tr><td class = \"rowNumber\" style = \"font-weight: bold; text-align: right;\">3</td><td style = \"text-align: right;\">46.779</td><td style = \"text-align: right;\">4.04449</td><td style = \"text-align: right;\">1.43401</td></tr><tr><td class = \"rowNumber\" style = \"font-weight: bold; text-align: right;\">4</td><td style = \"text-align: right;\">35.7906</td><td style = \"text-align: right;\">3.98698</td><td style = \"text-align: right;\">4.90005</td></tr><tr><td class = \"rowNumber\" style = \"font-weight: bold; text-align: right;\">5</td><td style = \"text-align: right;\">-25.537</td><td style = \"text-align: right;\">4.03466</td><td style = \"text-align: right;\">2.04002</td></tr><tr><td class = \"rowNumber\" style = \"font-weight: bold; text-align: right;\">6</td><td style = \"text-align: right;\">6.14669</td><td style = \"text-align: right;\">3.80822</td><td style = \"text-align: right;\">13.7271</td></tr><tr><td class = \"rowNumber\" style = \"font-weight: bold; text-align: right;\">7</td><td style = \"text-align: right;\">0.62851</td><td style = \"text-align: right;\">4.09046</td><td style = \"text-align: right;\">11.4521</td></tr><tr><td class = \"rowNumber\" style = \"font-weight: bold; text-align: right;\">8</td><td style = \"text-align: right;\">11.9785</td><td style = \"text-align: right;\">2.48673</td><td style = \"text-align: right;\">10.8001</td></tr><tr><td class = \"rowNumber\" style = \"font-weight: bold; text-align: right;\">9</td><td style = \"text-align: right;\">28.4373</td><td style = \"text-align: right;\">4.09575</td><td style = \"text-align: right;\">8.71009</td></tr><tr><td class = \"rowNumber\" style = \"font-weight: bold; text-align: right;\">10</td><td style = \"text-align: right;\">11.4516</td><td style = \"text-align: right;\">6.55385</td><td style = \"text-align: right;\">7.80808</td></tr><tr><td class = \"rowNumber\" style = \"font-weight: bold; text-align: right;\">11</td><td style = \"text-align: right;\">-5.82854</td><td style = \"text-align: right;\">4.0511</td><td style = \"text-align: right;\">8.17808</td></tr><tr><td class = \"rowNumber\" style = \"font-weight: bold; text-align: right;\">12</td><td style = \"text-align: right;\">17.3043</td><td style = \"text-align: right;\">3.9971</td><td style = \"text-align: right;\">13.9721</td></tr></tbody></table></div>"
      ],
      "text/latex": [
       "\\begin{tabular}{r|ccc}\n",
       "\t& Equity & EDO & Probs\\\\\n",
       "\t\\hline\n",
       "\t& Float64 & Float64 & Float64\\\\\n",
       "\t\\hline\n",
       "\t1 & 22.5296 & 4.08623 & 12.0651 \\\\\n",
       "\t2 & -14.1005 & 4.10451 & 4.91305 \\\\\n",
       "\t3 & 46.779 & 4.04449 & 1.43401 \\\\\n",
       "\t4 & 35.7906 & 3.98698 & 4.90005 \\\\\n",
       "\t5 & -25.537 & 4.03466 & 2.04002 \\\\\n",
       "\t6 & 6.14669 & 3.80822 & 13.7271 \\\\\n",
       "\t7 & 0.62851 & 4.09046 & 11.4521 \\\\\n",
       "\t8 & 11.9785 & 2.48673 & 10.8001 \\\\\n",
       "\t9 & 28.4373 & 4.09575 & 8.71009 \\\\\n",
       "\t10 & 11.4516 & 6.55385 & 7.80808 \\\\\n",
       "\t11 & -5.82854 & 4.0511 & 8.17808 \\\\\n",
       "\t12 & 17.3043 & 3.9971 & 13.9721 \\\\\n",
       "\\end{tabular}\n"
      ],
      "text/plain": [
       "\u001b[1m12×3 DataFrame\u001b[0m\n",
       "\u001b[1m Row \u001b[0m│\u001b[1m Equity    \u001b[0m\u001b[1m EDO     \u001b[0m\u001b[1m Probs    \u001b[0m\n",
       "     │\u001b[90m Float64   \u001b[0m\u001b[90m Float64 \u001b[0m\u001b[90m Float64  \u001b[0m\n",
       "─────┼──────────────────────────────\n",
       "   1 │  22.5296   4.08623  12.0651\n",
       "   2 │ -14.1005   4.10451   4.91305\n",
       "   3 │  46.779    4.04449   1.43401\n",
       "   4 │  35.7906   3.98698   4.90005\n",
       "   5 │ -25.537    4.03466   2.04002\n",
       "   6 │   6.14669  3.80822  13.7271\n",
       "   7 │   0.62851  4.09046  11.4521\n",
       "   8 │  11.9785   2.48673  10.8001\n",
       "   9 │  28.4373   4.09575   8.71009\n",
       "  10 │  11.4516   6.55385   7.80808\n",
       "  11 │  -5.82854  4.0511    8.17808\n",
       "  12 │  17.3043   3.9971   13.9721"
      ]
     },
     "metadata": {},
     "output_type": "display_data"
    }
   ],
   "source": [
    "scenario_period1 = DataFrame(Equity=cluster_means[1,:].*100,EDO=cluster_means[2,:].*100,Probs=probs*100)"
   ]
  },
  {
   "cell_type": "code",
   "execution_count": 216,
   "metadata": {},
   "outputs": [
    {
     "data": {
      "text/plain": [
       "2×99999 Matrix{Float64}:\n",
       " 0.183608  0.057796  -0.042034  0.048233  …  0.119115  -0.145221  -0.025328\n",
       " 0.035158  0.013222   0.039912  0.016048     0.064728   0.027103   0.0123"
      ]
     },
     "metadata": {},
     "output_type": "display_data"
    }
   ],
   "source": [
    "period_1"
   ]
  },
  {
   "cell_type": "code",
   "execution_count": 270,
   "metadata": {},
   "outputs": [
    {
     "data": {
      "text/html": [
       "<div><div style = \"float: left;\"><span>2×6 DataFrame</span></div><div style = \"clear: both;\"></div></div><div class = \"data-frame\" style = \"overflow-x: scroll;\"><table class = \"data-frame\" style = \"margin-bottom: 6px;\"><thead><tr class = \"header\"><th class = \"rowNumber\" style = \"font-weight: bold; text-align: right;\">Row</th><th style = \"text-align: left;\">x1</th><th style = \"text-align: left;\">x2</th><th style = \"text-align: left;\">x3</th><th style = \"text-align: left;\">x4</th><th style = \"text-align: left;\">x5</th><th style = \"text-align: left;\">x6</th></tr><tr class = \"subheader headerLastRow\"><th class = \"rowNumber\" style = \"font-weight: bold; text-align: right;\"></th><th title = \"Float64\" style = \"text-align: left;\">Float64</th><th title = \"Float64\" style = \"text-align: left;\">Float64</th><th title = \"Float64\" style = \"text-align: left;\">Float64</th><th title = \"Float64\" style = \"text-align: left;\">Float64</th><th title = \"Float64\" style = \"text-align: left;\">Float64</th><th title = \"Float64\" style = \"text-align: left;\">Float64</th></tr></thead><tbody><tr><td class = \"rowNumber\" style = \"font-weight: bold; text-align: right;\">1</td><td style = \"text-align: right;\">-0.00586575</td><td style = \"text-align: right;\">0.100723</td><td style = \"text-align: right;\">-0.100866</td><td style = \"text-align: right;\">0.238938</td><td style = \"text-align: right;\">0.287256</td><td style = \"text-align: right;\">0.109974</td></tr><tr><td class = \"rowNumber\" style = \"font-weight: bold; text-align: right;\">2</td><td style = \"text-align: right;\">0.0708532</td><td style = \"text-align: right;\">0.0180867</td><td style = \"text-align: right;\">0.0301647</td><td style = \"text-align: right;\">0.06814</td><td style = \"text-align: right;\">0.0271872</td><td style = \"text-align: right;\">0.0451161</td></tr></tbody></table></div>"
      ],
      "text/latex": [
       "\\begin{tabular}{r|cccccc}\n",
       "\t& x1 & x2 & x3 & x4 & x5 & x6\\\\\n",
       "\t\\hline\n",
       "\t& Float64 & Float64 & Float64 & Float64 & Float64 & Float64\\\\\n",
       "\t\\hline\n",
       "\t1 & -0.00586575 & 0.100723 & -0.100866 & 0.238938 & 0.287256 & 0.109974 \\\\\n",
       "\t2 & 0.0708532 & 0.0180867 & 0.0301647 & 0.06814 & 0.0271872 & 0.0451161 \\\\\n",
       "\\end{tabular}\n"
      ],
      "text/plain": [
       "\u001b[1m2×6 DataFrame\u001b[0m\n",
       "\u001b[1m Row \u001b[0m│\u001b[1m x1          \u001b[0m\u001b[1m x2        \u001b[0m\u001b[1m x3         \u001b[0m\u001b[1m x4       \u001b[0m\u001b[1m x5        \u001b[0m\u001b[1m x6        \u001b[0m\n",
       "     │\u001b[90m Float64     \u001b[0m\u001b[90m Float64   \u001b[0m\u001b[90m Float64    \u001b[0m\u001b[90m Float64  \u001b[0m\u001b[90m Float64   \u001b[0m\u001b[90m Float64   \u001b[0m\n",
       "─────┼────────────────────────────────────────────────────────────────────\n",
       "   1 │ -0.00586575  0.100723   -0.100866   0.238938  0.287256   0.109974\n",
       "   2 │  0.0708532   0.0180867   0.0301647  0.06814   0.0271872  0.0451161"
      ]
     },
     "metadata": {},
     "output_type": "display_data"
    },
    {
     "data": {
      "text/plain": [
       "6-element Vector{Float64}:\n",
       " 0.11873118731187311\n",
       " 0.21935219352193522\n",
       " 0.12762127621276212\n",
       " 0.13658136581365812\n",
       " 0.16708167081670816\n",
       " 0.23063230632306322"
      ]
     },
     "metadata": {},
     "output_type": "display_data"
    }
   ],
   "source": [
    "function cluster(data, n_clusters)\n",
    "    dt = fit(ZScoreTransform, data, dims=2)\n",
    "    standarized = StatsBase.transform(dt,data)\n",
    "\n",
    "    clusters = kmeans(standarized,n_clusters)\n",
    "\n",
    "    destandarised = StatsBase.reconstruct(dt, clusters.centers)\n",
    "\n",
    "    probs = counts(clusters)/sum(counts(clusters))\n",
    "\n",
    "    return destandarised, probs\n",
    "end\n",
    "\n",
    "grid, probs = cluster(period_1, 6)\n",
    "display(DataFrame(grid, :auto))\n",
    "display(probs)"
   ]
  },
  {
   "cell_type": "code",
   "execution_count": 107,
   "metadata": {},
   "outputs": [
    {
     "data": {
      "text/plain": [
       "615×5 TimeArray{Union{Missing, Float64}, 2, Date, Matrix{Union{Missing, Float64}}} 1973-01-31 to 2024-03-31\n",
       "┌────────────┬────────────┬─────────────┬──────────────┬──────────────┬─────────\n",
       "│\u001b[1m            \u001b[0m│\u001b[1m ACWI_Net   \u001b[0m│\u001b[1m USDPLN      \u001b[0m│\u001b[1m ACWI_Net_PLN \u001b[0m│\u001b[1m CPI_USA      \u001b[0m│\u001b[1m CPI_PL\u001b[0m ⋯\n",
       "├────────────┼────────────┼─────────────┼──────────────┼──────────────┼─────────\n",
       "│ 1973-01-31 │    missing │     missing │      missing │   0.00235067 │     mi ⋯\n",
       "│ 1973-02-28 │    missing │     missing │      missing │   0.00701905 │     mi ⋯\n",
       "│ 1973-03-31 │    missing │     missing │      missing │   0.00927727 │     mi ⋯\n",
       "│ 1973-04-30 │    missing │     missing │      missing │   0.00690598 │     mi ⋯\n",
       "│ 1973-05-31 │    missing │     missing │      missing │   0.00685862 │     mi ⋯\n",
       "│ 1973-06-30 │    missing │     missing │      missing │    0.0068119 │     mi ⋯\n",
       "│ 1973-07-31 │    missing │     missing │      missing │   0.00225501 │     mi ⋯\n",
       "│ 1973-08-31 │    missing │     missing │      missing │    0.0179014 │     mi ⋯\n",
       "│     ⋮      │     ⋮      │      ⋮      │      ⋮       │      ⋮       │      ⋮ ⋱\n",
       "│ 2023-09-30 │  -0.042229 │   0.0576333 │    0.0154043 │   0.00248268 │ -0.003 ⋯\n",
       "│ 2023-10-31 │  -0.030529 │  -0.0361159 │    -0.066645 │ -0.000383565 │  0.002 ⋯\n",
       "│ 2023-11-30 │  0.0882833 │  -0.0525834 │    0.0356998 │  -0.00201729 │  0.007 ⋯\n",
       "│ 2023-12-31 │  0.0469154 │  -0.0158441 │    0.0310713 │ -0.000993947 │  0.001 ⋯\n",
       "│ 2024-01-31 │ 0.00584454 │   0.0175065 │    0.0233511 │   0.00543262 │  0.003 ⋯\n",
       "│ 2024-02-29 │  0.0420184 │ -0.00252589 │    0.0394925 │   0.00617115 │  0.002 ⋯\n",
       "│ 2024-03-31 │  0.0309141 │ -0.00107732 │    0.0298368 │   0.00644296 │  0.002 ⋯\n",
       "└────────────┴────────────┴─────────────┴──────────────┴──────────────┴─────────\n",
       "\u001b[36m                                                   1 column and 600 rows omitted\u001b[0m"
      ]
     },
     "metadata": {},
     "output_type": "display_data"
    }
   ],
   "source": [
    "source_data = TimeArray(CSV.File(\"assets_data_03.24.csv\", delim=';', dateformat=Dict(\"Date\" => \"dd.mm.yyyy\"), decimal=','),timestamp=:Date)\n",
    "returns = percentchange(source_data, :log)\n"
   ]
  },
  {
   "cell_type": "code",
   "execution_count": 108,
   "metadata": {},
   "outputs": [
    {
     "data": {
      "text/plain": [
       "52×5 TimeArray{Union{Missing, Float64}, 2, Date, Matrix{Union{Missing, Float64}}} 1973-12-31 to 2024-03-31\n",
       "┌────────────┬────────────┬────────────┬──────────────┬────────────┬────────────\n",
       "│\u001b[1m            \u001b[0m│\u001b[1m ACWI_Net   \u001b[0m│\u001b[1m USDPLN     \u001b[0m│\u001b[1m ACWI_Net_PLN \u001b[0m│\u001b[1m CPI_USA    \u001b[0m│\u001b[1m CPI_PLN  \u001b[0m ⋯\n",
       "├────────────┼────────────┼────────────┼──────────────┼────────────┼────────────\n",
       "│ 1973-12-31 │    missing │    missing │      missing │  0.0870605 │     missi ⋯\n",
       "│ 1974-12-31 │    missing │    missing │      missing │   0.123377 │     missi ⋯\n",
       "│ 1975-12-31 │    missing │    missing │      missing │  0.0693605 │     missi ⋯\n",
       "│ 1976-12-31 │    missing │    missing │      missing │  0.0486505 │     missi ⋯\n",
       "│ 1977-12-31 │    missing │    missing │      missing │  0.0670123 │     missi ⋯\n",
       "│ 1978-12-31 │    missing │    missing │      missing │   0.090177 │     missi ⋯\n",
       "│ 1979-12-31 │    missing │    missing │      missing │   0.132939 │     missi ⋯\n",
       "│ 1980-12-31 │    missing │    missing │      missing │   0.125161 │     missi ⋯\n",
       "│     ⋮      │     ⋮      │     ⋮      │      ⋮       │     ⋮      │      ⋮    ⋱\n",
       "│ 2018-12-31 │ -0.0941432 │  0.0749063 │   -0.0262889 │  0.0191018 │   0.01190 ⋯\n",
       "│ 2019-12-31 │   0.265971 │  0.0141003 │     0.283821 │  0.0228514 │   0.03215 ⋯\n",
       "│ 2020-12-31 │   0.162549 │ -0.0156044 │     0.144409 │  0.0136202 │   0.02279 ⋯\n",
       "│ 2021-12-31 │   0.185376 │   0.080196 │     0.280438 │  0.0703633 │   0.08692 ⋯\n",
       "│ 2022-12-31 │  -0.183639 │  0.0858209 │    -0.113579 │  0.0645442 │    0.1681 ⋯\n",
       "│ 2023-12-31 │   0.222018 │  -0.101851 │    0.0975536 │  0.0335213 │   0.06202 ⋯\n",
       "│ 2024-03-31 │   0.081963 │  0.0140004 │     0.097111 │  0.0182106 │  0.008815 ⋯\n",
       "└────────────┴────────────┴────────────┴──────────────┴────────────┴────────────\n",
       "\u001b[36m                                                    1 column and 37 rows omitted\u001b[0m"
      ]
     },
     "metadata": {},
     "output_type": "display_data"
    }
   ],
   "source": [
    "returns_yearly = percentchange(collapse(source_data,year, last))"
   ]
  },
  {
   "cell_type": "code",
   "execution_count": 271,
   "metadata": {},
   "outputs": [
    {
     "data": {
      "text/plain": [
       "5-element Vector{Vector{Float64}}:\n",
       " [-0.1791646535637412, 0.050866825980199704, 0.13951720841975523, 0.21889844750843207, 0.3361762844747671]\n",
       " [-0.16789023904324368, -0.08309423208140795, 0.01405036560292702, 0.08138626868521559, 0.17291389833351883]\n",
       " [-0.11150993397204947, 0.03390535467137583, 0.09733228505343647, 0.19875932356089762, 0.30291930341482903]\n",
       " [0.007308352896474506, 0.015616012312351955, 0.02091860212971578, 0.03182293580839392, 0.06335757465785029]\n",
       " [-0.005813596241253867, 0.00972740828317448, 0.02302606076369674, 0.03842710017413295, 0.08567916010546725]"
      ]
     },
     "metadata": {},
     "output_type": "display_data"
    }
   ],
   "source": [
    "val = eachcol(values(from(returns_yearly,Date(2003,02,01))))\n",
    "\n",
    "[percentile(a,[5, 25, 50, 75, 95]) for a in val]"
   ]
  },
  {
   "cell_type": "code",
   "execution_count": 121,
   "metadata": {},
   "outputs": [
    {
     "data": {
      "text/plain": [
       "254×2 Matrix{Float64}:\n",
       "  0.0051036     0.000927653\n",
       "  0.0430686     0.00277912\n",
       "  0.0118412     0.0018489\n",
       "  0.0300994     0.0\n",
       "  0.0670022    -0.000924682\n",
       "  0.0132941    -0.00370334\n",
       "  0.0495565    -0.00371711\n",
       "  0.000195397   0.0046439\n",
       "  0.0782452     0.00554541\n",
       " -0.0161735     0.00276122\n",
       "  ⋮            \n",
       "  0.0208096    -0.00221661\n",
       "  0.000986609   0.0\n",
       "  0.0154043    -0.00389282\n",
       " -0.066645      0.00278164\n",
       "  0.0356998     0.00719694\n",
       "  0.0310713     0.00110186\n",
       "  0.0233511     0.00384933\n",
       "  0.0394925     0.00274048\n",
       "  0.0298368     0.00218699"
      ]
     },
     "metadata": {},
     "output_type": "display_data"
    }
   ],
   "source": [
    "acwi_cpipln = identity.(values(from(returns[:ACWI_Net_PLN,:CPI_PLN],Date(2003,02,01))))"
   ]
  },
  {
   "cell_type": "code",
   "execution_count": 218,
   "metadata": {},
   "outputs": [
    {
     "data": {
      "text/plain": [
       "2×254 transpose(::Matrix{Float64}) with eltype Float64:\n",
       " 0.0051036    0.0430686   0.0118412  …  0.0233511   0.0394925   0.0298368\n",
       " 0.000927653  0.00277912  0.0018489     0.00384933  0.00274048  0.00218699"
      ]
     },
     "metadata": {},
     "output_type": "display_data"
    }
   ],
   "source": [
    "transpose(acwi_cpipln)"
   ]
  },
  {
   "cell_type": "code",
   "execution_count": 229,
   "metadata": {},
   "outputs": [
    {
     "data": {
      "text/plain": [
       "2×4 Matrix{Float64}:\n",
       " -0.021201   -0.0412958  -0.741961   0.506915\n",
       "  0.0061562   0.138942    0.0357811  0.0235401"
      ]
     },
     "metadata": {},
     "output_type": "display_data"
    },
    {
     "data": {
      "text/plain": [
       "4-element Vector{Float64}:\n",
       " 0.4409448818897638\n",
       " 0.12992125984251968\n",
       " 0.09055118110236221\n",
       " 0.33858267716535434"
      ]
     },
     "metadata": {},
     "output_type": "display_data"
    }
   ],
   "source": [
    "state, probs = cluster(transpose(acwi_cpipln),4)\n",
    "display(state*12)\n",
    "display(probs)\n"
   ]
  },
  {
   "cell_type": "code",
   "execution_count": 268,
   "metadata": {},
   "outputs": [
    {
     "data": {
      "text/plain": [
       "2×3 Matrix{Float64}:\n",
       " 0.0167981   -0.0502935    0.0307706\n",
       " 0.00519076   0.00202026  -0.000120185"
      ]
     },
     "metadata": {},
     "output_type": "display_data"
    },
    {
     "data": {
      "text/plain": [
       "3-element Vector{Float64}:\n",
       " 0.3563218390804598\n",
       " 0.2413793103448276\n",
       " 0.40229885057471265"
      ]
     },
     "metadata": {},
     "output_type": "display_data"
    }
   ],
   "source": [
    "acwi_cpiusd = identity.(values(from(returns[:ACWI_Net,:CPI_USA],Date(1988,01,01))))\n",
    "\n",
    "state, probs = cluster(transpose(acwi_cpiusd),3)\n",
    "\n",
    "display(state)\n",
    "display(probs)"
   ]
  }
 ],
 "metadata": {
  "kernelspec": {
   "display_name": "Julia 1.10.2",
   "language": "julia",
   "name": "julia-1.10"
  },
  "language_info": {
   "file_extension": ".jl",
   "mimetype": "application/julia",
   "name": "julia",
   "version": "1.10.2"
  }
 },
 "nbformat": 4,
 "nbformat_minor": 2
}
