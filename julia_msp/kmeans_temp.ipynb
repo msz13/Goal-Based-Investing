{
 "cells": [
  {
   "cell_type": "code",
   "execution_count": 2,
   "metadata": {},
   "outputs": [
    {
     "name": "stderr",
     "output_type": "stream",
     "text": [
      "\u001b[32m\u001b[1m   Resolving\u001b[22m\u001b[39m package versions...\n",
      "\u001b[32m\u001b[1m   Installed\u001b[22m\u001b[39m NearestNeighbors ─ v0.4.16\n",
      "\u001b[32m\u001b[1m   Installed\u001b[22m\u001b[39m Clustering ─────── v0.15.7\n",
      "\u001b[32m\u001b[1m    Updating\u001b[22m\u001b[39m `C:\\Users\\matsz\\.julia\\environments\\v1.10\\Project.toml`\n",
      "  \u001b[90m[aaaa29a8] \u001b[39m\u001b[92m+ Clustering v0.15.7\u001b[39m\n",
      "\u001b[32m\u001b[1m    Updating\u001b[22m\u001b[39m `C:\\Users\\matsz\\.julia\\environments\\v1.10\\Manifest.toml`\n",
      "  \u001b[90m[aaaa29a8] \u001b[39m\u001b[92m+ Clustering v0.15.7\u001b[39m\n",
      "  \u001b[90m[b8a86587] \u001b[39m\u001b[92m+ NearestNeighbors v0.4.16\u001b[39m\n",
      "\u001b[32m\u001b[1mPrecompiling\u001b[22m\u001b[39m project...\n",
      "\u001b[32m  ✓ \u001b[39m\u001b[90mNearestNeighbors\u001b[39m\n",
      "\u001b[32m  ✓ \u001b[39mClustering\n",
      "  2 dependencies successfully precompiled in 24 seconds. 395 already precompiled.\n"
     ]
    }
   ],
   "source": [
    "import Pkg\n",
    "Pkg.add(\"Clustering\")"
   ]
  },
  {
   "cell_type": "code",
   "execution_count": 343,
   "metadata": {},
   "outputs": [],
   "source": [
    "using Clustering\n",
    "using CSV\n",
    "using DataFrames\n",
    "using Statistics\n",
    "using StatsBase\n",
    "using TimeSeries\n",
    "using HiddenMarkovModels\n"
   ]
  },
  {
   "cell_type": "code",
   "execution_count": 273,
   "metadata": {},
   "outputs": [
    {
     "data": {
      "text/plain": [
       "99999×50 Matrix{Float64}:\n",
       "  0.183608   0.040727   0.130638  …   0.310636   0.259417   0.106576\n",
       "  0.057796  -0.015669   0.01473       0.181475   0.038817   0.09112\n",
       " -0.042034   0.071062   0.211914      0.271774   0.03051    0.014144\n",
       "  0.048233   0.002585   0.069304      0.161997   0.150916  -0.458586\n",
       " -0.097277   0.278737   0.249458      0.054621   0.20249    0.148626\n",
       "  0.168582   0.058298   0.174671  …  -0.057467  -0.037438   0.030723\n",
       "  0.096997   0.214256  -0.246285      0.148997   0.192833   0.181174\n",
       "  0.254872   0.054849   0.014113      0.13077    0.066608  -0.076274\n",
       "  0.263792   0.213822   0.260164      0.309639   0.022386   0.268776\n",
       "  0.065249  -0.206639   0.347267      0.165357   0.180862   0.298468\n",
       "  ⋮                               ⋱                        \n",
       "  0.304079  -0.004624   0.041851  …  -0.008278   0.136057   0.139732\n",
       "  0.261117   0.094383  -0.240846      0.037133  -0.072158  -0.037526\n",
       " -0.050816   0.211829  -0.100711      0.158417  -0.021944   0.318735\n",
       "  0.370563   0.2798     0.055737      0.054807  -0.055942   0.024802\n",
       " -0.138423   0.062595   0.141441      0.10268    0.036239  -0.146841\n",
       " -0.130028   0.302331  -0.060284  …  -0.248784  -0.057881   0.170333\n",
       "  0.119115   0.095772  -0.292217      0.084165   0.118251   0.292593\n",
       " -0.145221  -0.393472   0.060243      0.142273   0.023003   0.115302\n",
       " -0.025328   0.014187   0.174296      0.012147   0.20869    0.170179"
      ]
     },
     "metadata": {},
     "output_type": "display_data"
    }
   ],
   "source": [
    "acwi = Matrix(CSV.read(\"../sb_gbi/equity_scenarios.csv\",DataFrame))"
   ]
  },
  {
   "cell_type": "code",
   "execution_count": 274,
   "metadata": {},
   "outputs": [
    {
     "data": {
      "text/plain": [
       "99999×50 Matrix{Float64}:\n",
       " 0.035158  0.031416  0.046096  0.018379  …  0.06628   0.09403   0.093851\n",
       " 0.013222  0.0123    0.043899  0.027086     0.019199  0.021789  0.020151\n",
       " 0.039912  0.040263  0.035394  0.0123       0.02551   0.0123    0.0123\n",
       " 0.016048  0.0123    0.0123    0.03366      0.056582  0.0123    0.0123\n",
       " 0.065174  0.052422  0.071214  0.05068      0.019615  0.058837  0.048566\n",
       " 0.051986  0.035766  0.026192  0.033541  …  0.052188  0.046143  0.026802\n",
       " 0.040925  0.025968  0.043467  0.024486     0.0786    0.047548  0.027347\n",
       " 0.0123    0.045685  0.022954  0.0123       0.019471  0.048676  0.043244\n",
       " 0.0123    0.014093  0.0123    0.0123       0.037708  0.071717  0.083529\n",
       " 0.0123    0.046767  0.048754  0.071964     0.058765  0.0123    0.024597\n",
       " ⋮                                       ⋱                      \n",
       " 0.05639   0.034089  0.038381  0.037493  …  0.037054  0.031733  0.02699\n",
       " 0.022314  0.042175  0.031607  0.039552     0.060712  0.045391  0.080075\n",
       " 0.078099  0.090769  0.052886  0.026244     0.037973  0.046298  0.055046\n",
       " 0.033872  0.053367  0.022564  0.08282      0.028893  0.0123    0.021959\n",
       " 0.060451  0.029764  0.0123    0.0123       0.041878  0.072729  0.033877\n",
       " 0.024683  0.050876  0.063715  0.044785  …  0.040408  0.062263  0.022981\n",
       " 0.064728  0.058533  0.036324  0.019063     0.0123    0.035531  0.045336\n",
       " 0.027103  0.059451  0.051567  0.04828      0.04997   0.0123    0.0123\n",
       " 0.0123    0.027505  0.0123    0.023295     0.065018  0.095034  0.057752"
      ]
     },
     "metadata": {},
     "output_type": "display_data"
    }
   ],
   "source": [
    "inflation = Matrix(CSV.read(\"../sb_gbi/inflation_scenarios.csv\", DataFrame))[:,2:end]"
   ]
  },
  {
   "cell_type": "code",
   "execution_count": 275,
   "metadata": {},
   "outputs": [
    {
     "data": {
      "text/plain": [
       "2×99999×50 Array{Float64, 3}:\n",
       "[:, :, 1] =\n",
       " 0.183608  0.057796  -0.042034  0.048233  …  0.119115  -0.145221  -0.025328\n",
       " 0.035158  0.013222   0.039912  0.016048     0.064728   0.027103   0.0123\n",
       "\n",
       "[:, :, 2] =\n",
       " 0.040727  -0.015669  0.071062  0.002585  …  0.095772  -0.393472  0.014187\n",
       " 0.031416   0.0123    0.040263  0.0123       0.058533   0.059451  0.027505\n",
       "\n",
       "[:, :, 3] =\n",
       " 0.130638  0.01473   0.211914  0.069304  …  -0.292217  0.060243  0.174296\n",
       " 0.046096  0.043899  0.035394  0.0123        0.036324  0.051567  0.0123\n",
       "\n",
       ";;; … \n",
       "\n",
       "[:, :, 48] =\n",
       " 0.310636  0.181475  0.271774  0.161997  …  0.084165  0.142273  0.012147\n",
       " 0.06628   0.019199  0.02551   0.056582     0.0123    0.04997   0.065018\n",
       "\n",
       "[:, :, 49] =\n",
       " 0.259417  0.038817  0.03051  0.150916  …  0.118251  0.023003  0.20869\n",
       " 0.09403   0.021789  0.0123   0.0123       0.035531  0.0123    0.095034\n",
       "\n",
       "[:, :, 50] =\n",
       " 0.106576  0.09112   0.014144  -0.458586  …  0.292593  0.115302  0.170179\n",
       " 0.093851  0.020151  0.0123     0.0123       0.045336  0.0123    0.057752"
      ]
     },
     "metadata": {},
     "output_type": "display_data"
    }
   ],
   "source": [
    "returns = stack([acwi,inflation],dims=1)"
   ]
  },
  {
   "cell_type": "code",
   "execution_count": 276,
   "metadata": {},
   "outputs": [
    {
     "data": {
      "text/plain": [
       "2×99999 Matrix{Float64}:\n",
       " 0.183608  0.057796  -0.042034  0.048233  …  0.119115  -0.145221  -0.025328\n",
       " 0.035158  0.013222   0.039912  0.016048     0.064728   0.027103   0.0123"
      ]
     },
     "metadata": {},
     "output_type": "display_data"
    }
   ],
   "source": [
    "period_1 = returns[:,:,1] \n"
   ]
  },
  {
   "cell_type": "code",
   "execution_count": 277,
   "metadata": {},
   "outputs": [
    {
     "data": {
      "text/plain": [
       "2-element Vector{Float64}:\n",
       " 0.183608\n",
       " 0.035158"
      ]
     },
     "metadata": {},
     "output_type": "display_data"
    }
   ],
   "source": [
    "period_1[:,1]"
   ]
  },
  {
   "cell_type": "code",
   "execution_count": 307,
   "metadata": {},
   "outputs": [
    {
     "data": {
      "text/plain": [
       "KmeansResult{Matrix{Float64}, Float64, Int64}([0.16296098013307034 -0.2607995752833247 … -0.14868747768853233 0.10388507706971659; 0.02547086955299499 0.04010536805180805 … 0.04120343908969239 0.03718827920751529], [1, 5, 8, 5, 8, 7, 12, 4, 4, 5  …  9, 4, 4, 8, 10, 11, 11, 12, 11, 9], [0.0005201399256826861, 0.000803386017654591, 0.0006296438464753473, 0.0006404017351488928, 0.001509075640955846, 0.00047008516119219357, 6.140868799934737e-5, 0.0013509614031674555, 0.0010209900769014568, 0.000993098144555525  …  0.000625418641668531, 0.000925805572992433, 0.0006286157278189985, 0.0016648237462993046, 0.0003839288010855091, 0.000475828103214386, 0.0006211010153250734, 0.0009903867737903853, 0.00021083885008722075, 0.0012657172098888734], [10672, 1854, 1594, 9380, 13579, 12832, 7540, 7447, 10602, 5315, 4490, 14694], [10671, 1853, 1595, 9384, 13587, 12841, 7536, 7442, 10597, 5323, 4482, 14688], 82.10616191144553, 100, false)"
      ]
     },
     "metadata": {},
     "output_type": "display_data"
    }
   ],
   "source": [
    "n_clusters = 12\n",
    "result = kmeans(period_1,n_clusters)"
   ]
  },
  {
   "cell_type": "code",
   "execution_count": 308,
   "metadata": {},
   "outputs": [
    {
     "data": {
      "text/plain": [
       "12-element Vector{Int64}:\n",
       " 10672\n",
       "  1854\n",
       "  1594\n",
       "  9380\n",
       " 13579\n",
       " 12832\n",
       "  7540\n",
       "  7447\n",
       " 10602\n",
       "  5315\n",
       "  4490\n",
       " 14694"
      ]
     },
     "metadata": {},
     "output_type": "display_data"
    }
   ],
   "source": [
    "counts(result)"
   ]
  },
  {
   "cell_type": "code",
   "execution_count": 309,
   "metadata": {},
   "outputs": [
    {
     "data": {
      "text/plain": [
       "2×12 Matrix{Float64}:\n",
       " 0.162961   -0.2608     0.461954   …  0.351953   -0.148687   0.103885\n",
       " 0.0254709   0.0401054  0.0401165     0.0400039   0.0412034  0.0371883"
      ]
     },
     "metadata": {},
     "output_type": "display_data"
    }
   ],
   "source": [
    "centers =result.centers"
   ]
  },
  {
   "cell_type": "code",
   "execution_count": 310,
   "metadata": {},
   "outputs": [
    {
     "name": "stdout",
     "output_type": "stream",
     "text": [
      "equity: 0.16296098013307034, infl: 0.02547086955299499\n",
      "equity: -0.2607995752833247, infl: 0.04010536805180805\n",
      "equity: 0.46195439059561116, infl: 0.04011652413793122\n",
      "equity: 0.27782815057544835, infl: 0.04100499179454338\n",
      "equity: 0.05229195510414353, infl: 0.04102652314712459\n",
      "equity: 0.2178176394361799, infl: 0.04114076356981431\n",
      "equity: 0.15181469413481977, infl: 0.06573163986199561\n",
      "equity: -0.06711453654931478, infl: 0.0406933660306371\n",
      "equity: -0.003215540058507103, infl: 0.040170348494856414\n",
      "equity: 0.35195310182228, infl: 0.04000392391508608\n",
      "equity: -0.14868747768853233, infl: 0.04120343908969239\n",
      "equity: 0.10388507706971659, infl: 0.03718827920751529\n"
     ]
    }
   ],
   "source": [
    "for cluster in 1:n_clusters\n",
    "    println(\"equity: $(centers[1,cluster]), infl: $(centers[2,cluster])\")\n",
    "end"
   ]
  },
  {
   "cell_type": "code",
   "execution_count": 311,
   "metadata": {},
   "outputs": [
    {
     "data": {
      "text/plain": [
       "99999-element Vector{Int64}:\n",
       "  1\n",
       "  5\n",
       "  8\n",
       "  5\n",
       "  8\n",
       "  7\n",
       " 12\n",
       "  4\n",
       "  4\n",
       "  5\n",
       "  ⋮\n",
       "  4\n",
       "  4\n",
       "  8\n",
       " 10\n",
       " 11\n",
       " 11\n",
       " 12\n",
       " 11\n",
       "  9"
      ]
     },
     "metadata": {},
     "output_type": "display_data"
    }
   ],
   "source": [
    "clusters = assignments(result)"
   ]
  },
  {
   "cell_type": "code",
   "execution_count": 312,
   "metadata": {},
   "outputs": [
    {
     "name": "stdout",
     "output_type": "stream",
     "text": [
      "0.16307093787481203, 0.025488097170165792\n",
      "-0.260769216289105, 0.040090370550161986\n",
      "0.46198891718946034, 0.04011359598494373\n",
      "0.2779050748400861, 0.04097765309168392\n",
      "0.052351660063332965, 0.04102963347816347\n",
      "0.21789597778989925, 0.04115732091645774\n",
      "0.15181621816976146, 0.06571632904509268\n",
      "-0.0670053844501142, 0.04067359795890979\n",
      "-0.0031234698170156377, 0.04017446161101617\n",
      "0.35202665776105296, 0.04003211194731951\n",
      "-0.14859332093541247, 0.04121935768374194\n",
      "0.10393540411052112, 0.0371736597250568\n"
     ]
    }
   ],
   "source": [
    "cluster_means = zeros((2,n_clusters))\n",
    "\n",
    "for cluster in 1:n_clusters\n",
    "    cluster_means[:,cluster] = mean(period_1[:,clusters .== cluster],dims=2) \n",
    "end\n",
    "\n",
    "\n",
    "for cluster in 1:n_clusters\n",
    "    println(\"$(cluster_means[1,cluster]), $(cluster_means[2,cluster])\")\n",
    "end"
   ]
  },
  {
   "cell_type": "code",
   "execution_count": 313,
   "metadata": {},
   "outputs": [
    {
     "data": {
      "text/plain": [
       "12-element Vector{Float64}:\n",
       " 0.10672106721067211\n",
       " 0.01854018540185402\n",
       " 0.015940159401594017\n",
       " 0.0938009380093801\n",
       " 0.13579135791357913\n",
       " 0.12832128321283212\n",
       " 0.07540075400754008\n",
       " 0.07447074470744708\n",
       " 0.1060210602106021\n",
       " 0.053150531505315055\n",
       " 0.04490044900449004\n",
       " 0.14694146941469416"
      ]
     },
     "metadata": {},
     "output_type": "display_data"
    }
   ],
   "source": [
    "probs = counts(result)/sum(counts(result))"
   ]
  },
  {
   "cell_type": "code",
   "execution_count": 314,
   "metadata": {},
   "outputs": [
    {
     "data": {
      "text/html": [
       "<div><div style = \"float: left;\"><span>12×3 DataFrame</span></div><div style = \"clear: both;\"></div></div><div class = \"data-frame\" style = \"overflow-x: scroll;\"><table class = \"data-frame\" style = \"margin-bottom: 6px;\"><thead><tr class = \"header\"><th class = \"rowNumber\" style = \"font-weight: bold; text-align: right;\">Row</th><th style = \"text-align: left;\">Equity</th><th style = \"text-align: left;\">EDO</th><th style = \"text-align: left;\">Probs</th></tr><tr class = \"subheader headerLastRow\"><th class = \"rowNumber\" style = \"font-weight: bold; text-align: right;\"></th><th title = \"Float64\" style = \"text-align: left;\">Float64</th><th title = \"Float64\" style = \"text-align: left;\">Float64</th><th title = \"Float64\" style = \"text-align: left;\">Float64</th></tr></thead><tbody><tr><td class = \"rowNumber\" style = \"font-weight: bold; text-align: right;\">1</td><td style = \"text-align: right;\">16.3071</td><td style = \"text-align: right;\">2.54881</td><td style = \"text-align: right;\">10.6721</td></tr><tr><td class = \"rowNumber\" style = \"font-weight: bold; text-align: right;\">2</td><td style = \"text-align: right;\">-26.0769</td><td style = \"text-align: right;\">4.00904</td><td style = \"text-align: right;\">1.85402</td></tr><tr><td class = \"rowNumber\" style = \"font-weight: bold; text-align: right;\">3</td><td style = \"text-align: right;\">46.1989</td><td style = \"text-align: right;\">4.01136</td><td style = \"text-align: right;\">1.59402</td></tr><tr><td class = \"rowNumber\" style = \"font-weight: bold; text-align: right;\">4</td><td style = \"text-align: right;\">27.7905</td><td style = \"text-align: right;\">4.09777</td><td style = \"text-align: right;\">9.38009</td></tr><tr><td class = \"rowNumber\" style = \"font-weight: bold; text-align: right;\">5</td><td style = \"text-align: right;\">5.23517</td><td style = \"text-align: right;\">4.10296</td><td style = \"text-align: right;\">13.5791</td></tr><tr><td class = \"rowNumber\" style = \"font-weight: bold; text-align: right;\">6</td><td style = \"text-align: right;\">21.7896</td><td style = \"text-align: right;\">4.11573</td><td style = \"text-align: right;\">12.8321</td></tr><tr><td class = \"rowNumber\" style = \"font-weight: bold; text-align: right;\">7</td><td style = \"text-align: right;\">15.1816</td><td style = \"text-align: right;\">6.57163</td><td style = \"text-align: right;\">7.54008</td></tr><tr><td class = \"rowNumber\" style = \"font-weight: bold; text-align: right;\">8</td><td style = \"text-align: right;\">-6.70054</td><td style = \"text-align: right;\">4.06736</td><td style = \"text-align: right;\">7.44707</td></tr><tr><td class = \"rowNumber\" style = \"font-weight: bold; text-align: right;\">9</td><td style = \"text-align: right;\">-0.312347</td><td style = \"text-align: right;\">4.01745</td><td style = \"text-align: right;\">10.6021</td></tr><tr><td class = \"rowNumber\" style = \"font-weight: bold; text-align: right;\">10</td><td style = \"text-align: right;\">35.2027</td><td style = \"text-align: right;\">4.00321</td><td style = \"text-align: right;\">5.31505</td></tr><tr><td class = \"rowNumber\" style = \"font-weight: bold; text-align: right;\">11</td><td style = \"text-align: right;\">-14.8593</td><td style = \"text-align: right;\">4.12194</td><td style = \"text-align: right;\">4.49004</td></tr><tr><td class = \"rowNumber\" style = \"font-weight: bold; text-align: right;\">12</td><td style = \"text-align: right;\">10.3935</td><td style = \"text-align: right;\">3.71737</td><td style = \"text-align: right;\">14.6941</td></tr></tbody></table></div>"
      ],
      "text/latex": [
       "\\begin{tabular}{r|ccc}\n",
       "\t& Equity & EDO & Probs\\\\\n",
       "\t\\hline\n",
       "\t& Float64 & Float64 & Float64\\\\\n",
       "\t\\hline\n",
       "\t1 & 16.3071 & 2.54881 & 10.6721 \\\\\n",
       "\t2 & -26.0769 & 4.00904 & 1.85402 \\\\\n",
       "\t3 & 46.1989 & 4.01136 & 1.59402 \\\\\n",
       "\t4 & 27.7905 & 4.09777 & 9.38009 \\\\\n",
       "\t5 & 5.23517 & 4.10296 & 13.5791 \\\\\n",
       "\t6 & 21.7896 & 4.11573 & 12.8321 \\\\\n",
       "\t7 & 15.1816 & 6.57163 & 7.54008 \\\\\n",
       "\t8 & -6.70054 & 4.06736 & 7.44707 \\\\\n",
       "\t9 & -0.312347 & 4.01745 & 10.6021 \\\\\n",
       "\t10 & 35.2027 & 4.00321 & 5.31505 \\\\\n",
       "\t11 & -14.8593 & 4.12194 & 4.49004 \\\\\n",
       "\t12 & 10.3935 & 3.71737 & 14.6941 \\\\\n",
       "\\end{tabular}\n"
      ],
      "text/plain": [
       "\u001b[1m12×3 DataFrame\u001b[0m\n",
       "\u001b[1m Row \u001b[0m│\u001b[1m Equity     \u001b[0m\u001b[1m EDO     \u001b[0m\u001b[1m Probs    \u001b[0m\n",
       "     │\u001b[90m Float64    \u001b[0m\u001b[90m Float64 \u001b[0m\u001b[90m Float64  \u001b[0m\n",
       "─────┼───────────────────────────────\n",
       "   1 │  16.3071    2.54881  10.6721\n",
       "   2 │ -26.0769    4.00904   1.85402\n",
       "   3 │  46.1989    4.01136   1.59402\n",
       "   4 │  27.7905    4.09777   9.38009\n",
       "   5 │   5.23517   4.10296  13.5791\n",
       "   6 │  21.7896    4.11573  12.8321\n",
       "   7 │  15.1816    6.57163   7.54008\n",
       "   8 │  -6.70054   4.06736   7.44707\n",
       "   9 │  -0.312347  4.01745  10.6021\n",
       "  10 │  35.2027    4.00321   5.31505\n",
       "  11 │ -14.8593    4.12194   4.49004\n",
       "  12 │  10.3935    3.71737  14.6941"
      ]
     },
     "metadata": {},
     "output_type": "display_data"
    }
   ],
   "source": [
    "scenario_period1 = DataFrame(Equity=cluster_means[1,:].*100,EDO=cluster_means[2,:].*100,Probs=probs*100)"
   ]
  },
  {
   "cell_type": "code",
   "execution_count": 324,
   "metadata": {},
   "outputs": [
    {
     "data": {
      "text/plain": [
       "2×99999 Matrix{Float64}:\n",
       " 0.183608  0.057796  -0.042034  0.048233  …  0.119115  -0.145221  -0.025328\n",
       " 0.035158  0.013222   0.039912  0.016048     0.064728   0.027103   0.0123"
      ]
     },
     "metadata": {},
     "output_type": "display_data"
    }
   ],
   "source": [
    "period_1"
   ]
  },
  {
   "cell_type": "code",
   "execution_count": 331,
   "metadata": {},
   "outputs": [
    {
     "data": {
      "text/html": [
       "<div><div style = \"float: left;\"><span>2×6 DataFrame</span></div><div style = \"clear: both;\"></div></div><div class = \"data-frame\" style = \"overflow-x: scroll;\"><table class = \"data-frame\" style = \"margin-bottom: 6px;\"><thead><tr class = \"header\"><th class = \"rowNumber\" style = \"font-weight: bold; text-align: right;\">Row</th><th style = \"text-align: left;\">x1</th><th style = \"text-align: left;\">x2</th><th style = \"text-align: left;\">x3</th><th style = \"text-align: left;\">x4</th><th style = \"text-align: left;\">x5</th><th style = \"text-align: left;\">x6</th></tr><tr class = \"subheader headerLastRow\"><th class = \"rowNumber\" style = \"font-weight: bold; text-align: right;\"></th><th title = \"Float64\" style = \"text-align: left;\">Float64</th><th title = \"Float64\" style = \"text-align: left;\">Float64</th><th title = \"Float64\" style = \"text-align: left;\">Float64</th><th title = \"Float64\" style = \"text-align: left;\">Float64</th><th title = \"Float64\" style = \"text-align: left;\">Float64</th><th title = \"Float64\" style = \"text-align: left;\">Float64</th></tr></thead><tbody><tr><td class = \"rowNumber\" style = \"font-weight: bold; text-align: right;\">1</td><td style = \"text-align: right;\">0.0951617</td><td style = \"text-align: right;\">0.000456613</td><td style = \"text-align: right;\">0.283282</td><td style = \"text-align: right;\">0.243415</td><td style = \"text-align: right;\">-0.105125</td><td style = \"text-align: right;\">0.108636</td></tr><tr><td class = \"rowNumber\" style = \"font-weight: bold; text-align: right;\">2</td><td style = \"text-align: right;\">0.0180806</td><td style = \"text-align: right;\">0.0715669</td><td style = \"text-align: right;\">0.026562</td><td style = \"text-align: right;\">0.0672825</td><td style = \"text-align: right;\">0.031034</td><td style = \"text-align: right;\">0.0450768</td></tr></tbody></table></div>"
      ],
      "text/latex": [
       "\\begin{tabular}{r|cccccc}\n",
       "\t& x1 & x2 & x3 & x4 & x5 & x6\\\\\n",
       "\t\\hline\n",
       "\t& Float64 & Float64 & Float64 & Float64 & Float64 & Float64\\\\\n",
       "\t\\hline\n",
       "\t1 & 0.0951617 & 0.000456613 & 0.283282 & 0.243415 & -0.105125 & 0.108636 \\\\\n",
       "\t2 & 0.0180806 & 0.0715669 & 0.026562 & 0.0672825 & 0.031034 & 0.0450768 \\\\\n",
       "\\end{tabular}\n"
      ],
      "text/plain": [
       "\u001b[1m2×6 DataFrame\u001b[0m\n",
       "\u001b[1m Row \u001b[0m│\u001b[1m x1        \u001b[0m\u001b[1m x2          \u001b[0m\u001b[1m x3       \u001b[0m\u001b[1m x4        \u001b[0m\u001b[1m x5        \u001b[0m\u001b[1m x6        \u001b[0m\n",
       "     │\u001b[90m Float64   \u001b[0m\u001b[90m Float64     \u001b[0m\u001b[90m Float64  \u001b[0m\u001b[90m Float64   \u001b[0m\u001b[90m Float64   \u001b[0m\u001b[90m Float64   \u001b[0m\n",
       "─────┼───────────────────────────────────────────────────────────────────\n",
       "   1 │ 0.0951617  0.000456613  0.283282  0.243415   -0.105125  0.108636\n",
       "   2 │ 0.0180806  0.0715669    0.026562  0.0672825   0.031034  0.0450768"
      ]
     },
     "metadata": {},
     "output_type": "display_data"
    },
    {
     "data": {
      "text/plain": [
       "6-element Vector{Float64}:\n",
       " 0.21789217892178922\n",
       " 0.11935119351193511\n",
       " 0.17094170941709416\n",
       " 0.13683136831368314\n",
       " 0.12454124541245412\n",
       " 0.23044230442304423"
      ]
     },
     "metadata": {},
     "output_type": "display_data"
    }
   ],
   "source": [
    "function cluster(data, n_clusters)\n",
    "    dt = fit(ZScoreTransform, data, dims=2)\n",
    "    standarized = StatsBase.transform(dt,data)\n",
    "\n",
    "    clusters = kmeans(standarized,n_clusters)\n",
    "\n",
    "    destandarised = StatsBase.reconstruct(dt, clusters.centers)\n",
    "\n",
    "    probs = counts(clusters)/sum(counts(clusters))\n",
    "\n",
    "    return destandarised, probs\n",
    "end\n",
    "\n",
    "grid, probs = cluster(period_1, 6)\n",
    "display(DataFrame(grid, :auto))\n",
    "display(probs)"
   ]
  },
  {
   "cell_type": "code",
   "execution_count": 360,
   "metadata": {},
   "outputs": [
    {
     "data": {
      "text/plain": [
       "([0.095549538055696 -0.0001921960472322236 … 0.28350519279859615 0.10882563169313489; 0.018078551039132463 0.07147965363034925 … 0.02660462154566618 0.04508088019612947], [0.0036114409415838535 -2.9988800968336833e-6; -2.9988800968336833e-6 4.138922750818814e-5;;; 0.007478499580348579 0.00015920509009783492; 0.00015920509009783492 0.00016593266471954903;;; 0.00634682104909424 -5.5400622283823644e-5; -5.5400622283823644e-5 0.0001729726331389562;;; 0.005956258029793182 -0.00014089998496450492; -0.00014089998496450492 0.000172267929365687;;; 0.0052332223456228195 5.921181675878272e-5; 5.921181675878272e-5 0.0001241432557807641;;; 0.0034121656096731553 -2.603569047684756e-6; -2.603569047684756e-6 5.85925271508015e-5])"
      ]
     },
     "metadata": {},
     "output_type": "display_data"
    }
   ],
   "source": [
    "function cluster_moments(data, n_clusters)\n",
    "    dt = fit(ZScoreTransform, data, dims=2)\n",
    "    standarized = StatsBase.transform(dt,data)\n",
    "\n",
    "    clusters = kmeans(standarized,n_clusters)\n",
    "    c = assignments(clusters)\n",
    "\n",
    "    cluster_means = zeros(2,n_clusters)\n",
    "    cluster_cov = zeros(2,2,n_clusters)\n",
    "\n",
    "    for cluster in 1:n_clusters\n",
    "        cluster_means[:,cluster] = mean(period_1[:,c .== cluster],dims=2) \n",
    "        cluster_cov[:,:,cluster] = cov(period_1[:,c .== cluster],dims=2) \n",
    "    end\n",
    "\n",
    "    return  cluster_means, cluster_cov \n",
    "end\n",
    "\n",
    "means, c_cov = cluster_moments(period_1,6)\n"
   ]
  },
  {
   "cell_type": "code",
   "execution_count": 351,
   "metadata": {},
   "outputs": [
    {
     "name": "stderr",
     "output_type": "stream",
     "text": [
      "WARNING: using Distributions.probs in module Main conflicts with an existing identifier.\n"
     ]
    }
   ],
   "source": [
    "function guess_init(n_scenarios)\n",
    "    regimes_probs = rand(1:100,n_scenarios)\n",
    "    return regimes_probs/sum(regimes_probs)\n",
    "end\n",
    "\n",
    "function guess_tmatrix(n_scenarios)\n",
    "    regimes_probs = rand(1:100,n_scenarios,n_scenarios)\n",
    "    return regimes_probs ./ sum(regimes_probs,dims=2)\n",
    "end\n",
    "function guess_distribution()\n",
    "    corr = Matrix(1.0I,2,2)\n",
    "    sigma = [rand(Uniform(0,0.25)),rand(Uniform(0,0.035))]\n",
    "    means = [rand(Uniform(-0.5,0.5)),rand(Uniform(-0.01,0.12))]\n",
    "    cov = cor2cov(corr,sigma)\n",
    "    return MvNormal(means,cov)\n",
    "end\n",
    "\n",
    "using LinearAlgebra, Distributions"
   ]
  },
  {
   "cell_type": "code",
   "execution_count": 366,
   "metadata": {},
   "outputs": [
    {
     "name": "stdout",
     "output_type": "stream",
     "text": [
      "Hidden Markov Model with:\n",
      " - initialization: [0.045774647887323945, 0.2676056338028169, 0.1795774647887324, 0.2640845070422535, 0.1056338028169014, 0.13732394366197184]\n",
      " - transition matrix: [0.19242902208201892 0.14195583596214512 0.09779179810725552 0.06624605678233439 0.28391167192429023 0.21766561514195584; 0.18662952646239556 0.116991643454039 0.12813370473537605 0.116991643454039 0.18662952646239556 0.2646239554317549; 0.23776223776223776 0.2902097902097902 0.1048951048951049 0.05244755244755245 0.17832167832167833 0.13636363636363635; 0.08917197452229299 0.2929936305732484 0.012738853503184714 0.1464968152866242 0.24522292993630573 0.21337579617834396; 0.06896551724137931 0.28448275862068967 0.23275862068965517 0.22413793103448276 0.10919540229885058 0.08045977011494253; 0.21739130434782608 0.2080745341614907 0.13975155279503104 0.12422360248447205 0.2204968944099379 0.09006211180124224]\n",
      " - observation distributions: [FullNormal(\n",
      "dim: 2\n",
      "μ: [-0.04483279065546819, 0.08710305753048896]\n",
      "Σ: [0.010487260719712567 0.0; 0.0 0.00016583681888645576]\n",
      ")\n",
      ", FullNormal(\n",
      "dim: 2\n",
      "μ: [0.02385409075856193, 0.10020258164750338]\n",
      "Σ: [0.028256735400982086 0.0; 0.0 0.0002851763762628515]\n",
      ")\n",
      ", FullNormal(\n",
      "dim: 2\n",
      "μ: [-0.19064246706964494, 0.11701098641038989]\n",
      "Σ: [0.029137194268956505 0.0; 0.0 0.0012106648962912515]\n",
      ")\n",
      ", FullNormal(\n",
      "dim: 2\n",
      "μ: [0.1819066322952292, 0.050628651229960034]\n",
      "Σ: [0.006324151678359866 0.0; 0.0 0.000529225229438512]\n",
      ")\n",
      ", FullNormal(\n",
      "dim: 2\n",
      "μ: [-0.30021063312119345, 0.08928461000217505]\n",
      "Σ: [0.019156668694069533 0.0; 0.0 0.00018232683230138085]\n",
      ")\n",
      ", FullNormal(\n",
      "dim: 2\n",
      "μ: [-0.29620757105198936, -0.0014245997945005664]\n",
      "Σ: [0.04427725063442243 0.0; 0.0 0.00022771105482158685]\n",
      ")\n",
      "]\n",
      "Hidden Markov Model with:\n",
      " - initialization: [4.057191263733909e-58, 8.58307770403401e-34, 3.522376617531163e-30, 1.0, 2.13452492606223e-70, 0.0]\n",
      " - transition matrix: [0.08162785050933843 0.12578264175977324 0.0292083305518417 0.5999289376466184 0.028914296436569557 0.13453794309585868; 0.07083091069559361 0.11807662310172207 0.033329344227112215 0.6014035445537554 0.023189023541915453 0.1531705538799011; 0.08950521994378781 0.1449451884624156 0.05072817185668049 0.5363641169187194 0.020759734533418315 0.15769756828497847; 0.050632057044251486 0.14090289833097958 0.020370114792142634 0.6095987359969572 0.032322058284570444 0.14617413555109865; 0.027478849112433708 0.1666630725107338 0.03616403108124411 0.608385736538321 0.026653839305742257 0.13465447145152534; 0.0476826279625842 0.133153593230571 0.02777814240724316 0.6194116746645544 0.027192126144850903 0.14478183559019636]\n",
      " - observation distributions: [FullNormal(\n",
      "dim: 2\n",
      "μ: [0.07361955859928039, 0.06589744656778986]\n",
      "Σ: [0.011583921705941509 0.0007187536324547843; 0.0007187536324547843 0.00021256925929568317]\n",
      ")\n",
      ", FullNormal(\n",
      "dim: 2\n",
      "μ: [0.14466175876378304, 0.07094996156224362]\n",
      "Σ: [0.018515289752669858 -0.00021540439347833738; -0.00021540439347833738 0.00025476072065482876]\n",
      ")\n",
      ", FullNormal(\n",
      "dim: 2\n",
      "μ: [-0.08924354085063477, 0.028703954775813646]\n",
      "Σ: [0.014011385733960408 6.64747219541934e-5; 6.64747219541934e-5 9.556273284176555e-5]\n",
      ")\n",
      ", FullNormal(\n",
      "dim: 2\n",
      "μ: [0.13269966732806096, 0.03782987995376803]\n",
      "Σ: [0.015699360009847948 -3.125982846534618e-6; -3.125982846534618e-6 0.00021011427123105477]\n",
      ")\n",
      ", FullNormal(\n",
      "dim: 2\n",
      "μ: [-0.14668004688969205, 0.056206938421529865]\n",
      "Σ: [0.009867988667763474 0.00022133753969860192; 0.00022133753969860192 0.0003603936317602492]\n",
      ")\n",
      ", FullNormal(\n",
      "dim: 2\n",
      "μ: [0.1138565867469055, 0.012300000000001688]\n",
      "Σ: [0.020011302843007513 -3.0846777324899687e-31; -3.0846777324899687e-31 2.8489589536246626e-30]\n",
      ")\n",
      "]\n"
     ]
    }
   ],
   "source": [
    "n_clusters = 6\n",
    "init_guess = guess_init(n_clusters)\n",
    "guess_matrix = guess_tmatrix(n_clusters)\n",
    "guess_dist = [guess_distribution() for s in 1:n_clusters]\n",
    "hmm_guess = HMM(init_guess, guess_matrix, guess_dist);\n",
    "println(hmm_guess)\n",
    "hmm_est_concat, _ = baum_welch(hmm_guess, eachcol(period_1));\n",
    "println(hmm_est_concat)"
   ]
  },
  {
   "cell_type": "code",
   "execution_count": null,
   "metadata": {},
   "outputs": [],
   "source": [
    "Hidden Markov Model with:\n",
    " - initialization: [4.057191263733909e-58, 8.58307770403401e-34, 3.522376617531163e-30, 1.0, 2.13452492606223e-70, 0.0]\n",
    " - transition matrix: [0.08162785050933843 0.12578264175977324 0.0292083305518417 0.5999289376466184 0.028914296436569557 0.13453794309585868; 0.07083091069559361 0.11807662310172207 0.033329344227112215 0.6014035445537554 0.023189023541915453 0.1531705538799011; 0.08950521994378781 0.1449451884624156 0.05072817185668049 0.5363641169187194 0.020759734533418315 0.15769756828497847; 0.050632057044251486 0.14090289833097958 0.020370114792142634 0.6095987359969572 0.032322058284570444 0.14617413555109865; 0.027478849112433708 0.1666630725107338 0.03616403108124411 0.608385736538321 0.026653839305742257 0.13465447145152534; 0.0476826279625842 0.133153593230571 0.02777814240724316 0.6194116746645544 0.027192126144850903 0.14478183559019636]\n",
    " - observation distributions: [FullNormal(\n",
    "dim: 2\n",
    "μ: [0.07361955859928039, 0.06589744656778986]\n",
    "Σ: [0.011583921705941509 0.0007187536324547843; 0.0007187536324547843 0.00021256925929568317]\n",
    ")\n",
    ", FullNormal(\n",
    "dim: 2\n",
    "μ: [0.14466175876378304, 0.07094996156224362]\n",
    "Σ: [0.018515289752669858 -0.00021540439347833738; -0.00021540439347833738 0.00025476072065482876]\n",
    ")\n",
    ", FullNormal(\n",
    "dim: 2\n",
    "μ: [-0.08924354085063477, 0.028703954775813646]\n",
    "Σ: [0.014011385733960408 6.64747219541934e-5; 6.64747219541934e-5 9.556273284176555e-5]\n",
    ")\n",
    ", FullNormal(\n",
    "dim: 2\n",
    "μ: [0.13269966732806096, 0.03782987995376803]\n",
    "Σ: [0.015699360009847948 -3.125982846534618e-6; -3.125982846534618e-6 0.00021011427123105477]\n",
    ")\n",
    ", FullNormal(\n",
    "dim: 2\n",
    "μ: [-0.14668004688969205, 0.056206938421529865]\n",
    "Σ: [0.009867988667763474 0.00022133753969860192; 0.00022133753969860192 0.0003603936317602492]\n",
    ")\n",
    ", FullNormal(\n",
    "dim: 2\n",
    "μ: [0.1138565867469055, 0.012300000000001688]\n",
    "Σ: [0.020011302843007513 -3.0846777324899687e-31; -3.0846777324899687e-31 2.8489589536246626e-30]\n",
    ")\n",
    "]\n"
   ]
  },
  {
   "cell_type": "code",
   "execution_count": 367,
   "metadata": {},
   "outputs": [
    {
     "name": "stdout",
     "output_type": "stream",
     "text": [
      "Hidden Markov Model with:\n",
      " - initialization: [0.2664359861591695, 0.1522491349480969, 0.27335640138408307, 0.1453287197231834, 0.0657439446366782, 0.09688581314878893]\n",
      " - transition matrix: [0.20556745182012848 0.21413276231263384 0.03854389721627409 0.21199143468950749 0.16916488222698073 0.16059957173447537; 0.2182890855457227 0.17994100294985252 0.2182890855457227 0.0029498525073746312 0.2713864306784661 0.10914454277286136; 0.1925925925925926 0.1 0.32222222222222224 0.24814814814814815 0.1037037037037037 0.03333333333333333; 0.32653061224489793 0.37755102040816324 0.02040816326530612 0.10714285714285714 0.030612244897959183 0.1377551020408163; 0.23310810810810811 0.2195945945945946 0.0033783783783783786 0.28040540540540543 0.18243243243243243 0.08108108108108109; 0.10397553516819572 0.29357798165137616 0.13149847094801223 0.1926605504587156 0.11314984709480122 0.1651376146788991]\n",
      " - observation distributions: [FullNormal(\n",
      "dim: 2\n",
      "μ: [0.095549538055696, 0.018078551039132463]\n",
      "Σ: [0.0036114409415838535 -2.9988800968336833e-6; -2.9988800968336833e-6 4.138922750818814e-5]\n",
      ")\n",
      ", FullNormal(\n",
      "dim: 2\n",
      "μ: [-0.0001921960472322236, 0.07147965363034925]\n",
      "Σ: [0.007478499580348579 0.00015920509009783492; 0.00015920509009783492 0.00016593266471954903]\n",
      ")\n",
      ", FullNormal(\n",
      "dim: 2\n",
      "μ: [-0.10480111594668447, 0.030960390958727723]\n",
      "Σ: [0.00634682104909424 -5.5400622283823644e-5; -5.5400622283823644e-5 0.0001729726331389562]\n",
      ")\n",
      ", FullNormal(\n",
      "dim: 2\n",
      "μ: [0.24304484533294415, 0.06737842087566692]\n",
      "Σ: [0.005956258029793182 -0.00014089998496450492; -0.00014089998496450492 0.000172267929365687]\n",
      ")\n",
      ", FullNormal(\n",
      "dim: 2\n",
      "μ: [0.28350519279859615, 0.02660462154566618]\n",
      "Σ: [0.0052332223456228195 5.921181675878272e-5; 5.921181675878272e-5 0.0001241432557807641]\n",
      ")\n",
      ", FullNormal(\n",
      "dim: 2\n",
      "μ: [0.10882563169313489, 0.04508088019612947]\n",
      "Σ: [0.0034121656096731553 -2.603569047684756e-6; -2.603569047684756e-6 5.85925271508015e-5]\n",
      ")\n",
      "]\n",
      "Hidden Markov Model with:\n",
      " - initialization: [0.0, 5.506266603129145e-35, 1.2360419849940215e-26, 9.166156952817547e-19, 0.9995505578623286, 0.0004494421376713598]\n",
      " - transition matrix: [0.14478183559017818 0.18132115158123324 0.08140277363511825 0.16558371093574914 0.17357833898338898 0.25333218927433226; 0.1424134098482857 0.21502628674409785 0.06883161353411733 0.12670696009864563 0.17673077285061817 0.2702909569242352; 0.14715363640360216 0.1862043022151603 0.08829611468061177 0.19219189737859685 0.1642836517997844 0.22187039752224452; 0.1559315662157372 0.18300304675758808 0.08704150855593899 0.17541048459943048 0.15590902956014174 0.24270436431116343; 0.14729583788084735 0.20615825981819508 0.07705693764142892 0.14504419089238094 0.16419676970435812 0.2602480040627896; 0.14306945010572408 0.1933087050728161 0.0737151232117841 0.15959275412532384 0.16929110454432691 0.26102286294002486]\n",
      " - observation distributions: [FullNormal(\n",
      "dim: 2\n",
      "μ: [0.11385658674690693, 0.012300000000002738]\n",
      "Σ: [0.020011302843007558 -1.0579975778869756e-30; -1.0579975778869756e-30 7.493323968186792e-30]\n",
      ")\n",
      ", FullNormal(\n",
      "dim: 2\n",
      "μ: [0.04519261499791618, 0.0638420995810877]\n",
      "Σ: [0.022468812744550835 0.000792095303295707; 0.000792095303295707 0.0003757837847281989]\n",
      ")\n",
      ", FullNormal(\n",
      "dim: 2\n",
      "μ: [-0.031021295161304228, 0.031561522755413025]\n",
      "Σ: [0.013871211997324656 0.00011142389242223676; 0.00011142389242223676 0.00011331386723773387]\n",
      ")\n",
      ", FullNormal(\n",
      "dim: 2\n",
      "μ: [0.2051301054069273, 0.056982047489017994]\n",
      "Σ: [0.014993007596771824 -0.00042747569038760003; -0.00042747569038760003 0.00021248413615301416]\n",
      ")\n",
      ", FullNormal(\n",
      "dim: 2\n",
      "μ: [0.18075140914223486, 0.02488042524292236]\n",
      "Σ: [0.013234172030043961 0.00013963841312327645; 0.00013963841312327645 6.045618159987285e-5]\n",
      ")\n",
      ", FullNormal(\n",
      "dim: 2\n",
      "μ: [0.11312284712633551, 0.04157544194288699]\n",
      "Σ: [0.008473883117019977 0.00011477490710790708; 0.00011477490710790708 0.00016426019403165625]\n",
      ")\n",
      "]\n"
     ]
    }
   ],
   "source": [
    "n_clusters = 6\n",
    "guess_dist = [MvNormal(means[:,s],c_cov[:,:,s]) for s in 1:n_clusters]\n",
    "init_guess = guess_init(n_clusters)\n",
    "guess_matrix = guess_tmatrix(n_clusters)\n",
    "hmm_guess = HMM(init_guess, guess_matrix, guess_dist);\n",
    "println(hmm_guess)\n",
    "hmm_est_concat, _ = baum_welch(hmm_guess, eachcol(period_1));\n",
    "println(hmm_est_concat)"
   ]
  },
  {
   "cell_type": "code",
   "execution_count": null,
   "metadata": {},
   "outputs": [],
   "source": [
    "Hidden Markov Model with:\n",
    " - initialization: [0.0, 5.506266603129145e-35, 1.2360419849940215e-26, 9.166156952817547e-19, 0.9995505578623286, 0.0004494421376713598]\n",
    " - transition matrix: [0.14478183559017818 0.18132115158123324 0.08140277363511825 0.16558371093574914 0.17357833898338898 0.25333218927433226; 0.1424134098482857 0.21502628674409785 0.06883161353411733 0.12670696009864563 0.17673077285061817 0.2702909569242352; 0.14715363640360216 0.1862043022151603 0.08829611468061177 0.19219189737859685 0.1642836517997844 0.22187039752224452; 0.1559315662157372 0.18300304675758808 0.08704150855593899 0.17541048459943048 0.15590902956014174 0.24270436431116343; 0.14729583788084735 0.20615825981819508 0.07705693764142892 0.14504419089238094 0.16419676970435812 0.2602480040627896; 0.14306945010572408 0.1933087050728161 0.0737151232117841 0.15959275412532384 0.16929110454432691 0.26102286294002486]\n",
    " - observation distributions: [FullNormal(\n",
    "dim: 2\n",
    "μ: [0.11385658674690693, 0.012300000000002738]\n",
    "Σ: [0.020011302843007558 -1.0579975778869756e-30; -1.0579975778869756e-30 7.493323968186792e-30]\n",
    ")\n",
    ", FullNormal(\n",
    "dim: 2\n",
    "μ: [0.04519261499791618, 0.0638420995810877]\n",
    "Σ: [0.022468812744550835 0.000792095303295707; 0.000792095303295707 0.0003757837847281989]\n",
    ")\n",
    ", FullNormal(\n",
    "dim: 2\n",
    "μ: [-0.031021295161304228, 0.031561522755413025]\n",
    "Σ: [0.013871211997324656 0.00011142389242223676; 0.00011142389242223676 0.00011331386723773387]\n",
    ")\n",
    ", FullNormal(\n",
    "dim: 2\n",
    "μ: [0.2051301054069273, 0.056982047489017994]\n",
    "Σ: [0.014993007596771824 -0.00042747569038760003; -0.00042747569038760003 0.00021248413615301416]\n",
    ")\n",
    ", FullNormal(\n",
    "dim: 2\n",
    "μ: [0.18075140914223486, 0.02488042524292236]\n",
    "Σ: [0.013234172030043961 0.00013963841312327645; 0.00013963841312327645 6.045618159987285e-5]\n",
    ")\n",
    ", FullNormal(\n",
    "dim: 2\n",
    "μ: [0.11312284712633551, 0.04157544194288699]\n",
    "Σ: [0.008473883117019977 0.00011477490710790708; 0.00011477490710790708 0.00016426019403165625]\n",
    ")\n",
    "]\n"
   ]
  },
  {
   "cell_type": "code",
   "execution_count": 317,
   "metadata": {},
   "outputs": [
    {
     "data": {
      "text/plain": [
       "615×5 TimeArray{Union{Missing, Float64}, 2, Date, Matrix{Union{Missing, Float64}}} 1973-01-31 to 2024-03-31\n",
       "┌────────────┬────────────┬─────────────┬──────────────┬──────────────┬─────────\n",
       "│\u001b[1m            \u001b[0m│\u001b[1m ACWI_Net   \u001b[0m│\u001b[1m USDPLN      \u001b[0m│\u001b[1m ACWI_Net_PLN \u001b[0m│\u001b[1m CPI_USA      \u001b[0m│\u001b[1m CPI_PL\u001b[0m ⋯\n",
       "├────────────┼────────────┼─────────────┼──────────────┼──────────────┼─────────\n",
       "│ 1973-01-31 │    missing │     missing │      missing │   0.00235067 │     mi ⋯\n",
       "│ 1973-02-28 │    missing │     missing │      missing │   0.00701905 │     mi ⋯\n",
       "│ 1973-03-31 │    missing │     missing │      missing │   0.00927727 │     mi ⋯\n",
       "│ 1973-04-30 │    missing │     missing │      missing │   0.00690598 │     mi ⋯\n",
       "│ 1973-05-31 │    missing │     missing │      missing │   0.00685862 │     mi ⋯\n",
       "│ 1973-06-30 │    missing │     missing │      missing │    0.0068119 │     mi ⋯\n",
       "│ 1973-07-31 │    missing │     missing │      missing │   0.00225501 │     mi ⋯\n",
       "│ 1973-08-31 │    missing │     missing │      missing │    0.0179014 │     mi ⋯\n",
       "│     ⋮      │     ⋮      │      ⋮      │      ⋮       │      ⋮       │      ⋮ ⋱\n",
       "│ 2023-09-30 │  -0.042229 │   0.0576333 │    0.0154043 │   0.00248268 │ -0.003 ⋯\n",
       "│ 2023-10-31 │  -0.030529 │  -0.0361159 │    -0.066645 │ -0.000383565 │  0.002 ⋯\n",
       "│ 2023-11-30 │  0.0882833 │  -0.0525834 │    0.0356998 │  -0.00201729 │  0.007 ⋯\n",
       "│ 2023-12-31 │  0.0469154 │  -0.0158441 │    0.0310713 │ -0.000993947 │  0.001 ⋯\n",
       "│ 2024-01-31 │ 0.00584454 │   0.0175065 │    0.0233511 │   0.00543262 │  0.003 ⋯\n",
       "│ 2024-02-29 │  0.0420184 │ -0.00252589 │    0.0394925 │   0.00617115 │  0.002 ⋯\n",
       "│ 2024-03-31 │  0.0309141 │ -0.00107732 │    0.0298368 │   0.00644296 │  0.002 ⋯\n",
       "└────────────┴────────────┴─────────────┴──────────────┴──────────────┴─────────\n",
       "\u001b[36m                                                   1 column and 600 rows omitted\u001b[0m"
      ]
     },
     "metadata": {},
     "output_type": "display_data"
    }
   ],
   "source": [
    "source_data = TimeArray(CSV.File(\"assets_data_03.24.csv\", delim=';', dateformat=Dict(\"Date\" => \"dd.mm.yyyy\"), decimal=','),timestamp=:Date)\n",
    "returns = percentchange(source_data, :log)\n"
   ]
  },
  {
   "cell_type": "code",
   "execution_count": 318,
   "metadata": {},
   "outputs": [
    {
     "data": {
      "text/plain": [
       "52×5 TimeArray{Union{Missing, Float64}, 2, Date, Matrix{Union{Missing, Float64}}} 1973-12-31 to 2024-03-31\n",
       "┌────────────┬────────────┬────────────┬──────────────┬────────────┬────────────\n",
       "│\u001b[1m            \u001b[0m│\u001b[1m ACWI_Net   \u001b[0m│\u001b[1m USDPLN     \u001b[0m│\u001b[1m ACWI_Net_PLN \u001b[0m│\u001b[1m CPI_USA    \u001b[0m│\u001b[1m CPI_PLN  \u001b[0m ⋯\n",
       "├────────────┼────────────┼────────────┼──────────────┼────────────┼────────────\n",
       "│ 1973-12-31 │    missing │    missing │      missing │  0.0870605 │     missi ⋯\n",
       "│ 1974-12-31 │    missing │    missing │      missing │   0.123377 │     missi ⋯\n",
       "│ 1975-12-31 │    missing │    missing │      missing │  0.0693605 │     missi ⋯\n",
       "│ 1976-12-31 │    missing │    missing │      missing │  0.0486505 │     missi ⋯\n",
       "│ 1977-12-31 │    missing │    missing │      missing │  0.0670123 │     missi ⋯\n",
       "│ 1978-12-31 │    missing │    missing │      missing │   0.090177 │     missi ⋯\n",
       "│ 1979-12-31 │    missing │    missing │      missing │   0.132939 │     missi ⋯\n",
       "│ 1980-12-31 │    missing │    missing │      missing │   0.125161 │     missi ⋯\n",
       "│     ⋮      │     ⋮      │     ⋮      │      ⋮       │     ⋮      │      ⋮    ⋱\n",
       "│ 2018-12-31 │ -0.0941432 │  0.0749063 │   -0.0262889 │  0.0191018 │   0.01190 ⋯\n",
       "│ 2019-12-31 │   0.265971 │  0.0141003 │     0.283821 │  0.0228514 │   0.03215 ⋯\n",
       "│ 2020-12-31 │   0.162549 │ -0.0156044 │     0.144409 │  0.0136202 │   0.02279 ⋯\n",
       "│ 2021-12-31 │   0.185376 │   0.080196 │     0.280438 │  0.0703633 │   0.08692 ⋯\n",
       "│ 2022-12-31 │  -0.183639 │  0.0858209 │    -0.113579 │  0.0645442 │    0.1681 ⋯\n",
       "│ 2023-12-31 │   0.222018 │  -0.101851 │    0.0975536 │  0.0335213 │   0.06202 ⋯\n",
       "│ 2024-03-31 │   0.081963 │  0.0140004 │     0.097111 │  0.0182106 │  0.008815 ⋯\n",
       "└────────────┴────────────┴────────────┴──────────────┴────────────┴────────────\n",
       "\u001b[36m                                                    1 column and 37 rows omitted\u001b[0m"
      ]
     },
     "metadata": {},
     "output_type": "display_data"
    }
   ],
   "source": [
    "returns_yearly = percentchange(collapse(source_data,year, last))"
   ]
  },
  {
   "cell_type": "code",
   "execution_count": 319,
   "metadata": {},
   "outputs": [
    {
     "data": {
      "text/plain": [
       "5-element Vector{Vector{Float64}}:\n",
       " [-0.1791646535637412, 0.050866825980199704, 0.13951720841975523, 0.21889844750843207, 0.3361762844747671]\n",
       " [-0.16789023904324368, -0.08309423208140795, 0.01405036560292702, 0.08138626868521559, 0.17291389833351883]\n",
       " [-0.11150993397204947, 0.03390535467137583, 0.09733228505343647, 0.19875932356089762, 0.30291930341482903]\n",
       " [0.007308352896474506, 0.015616012312351955, 0.02091860212971578, 0.03182293580839392, 0.06335757465785029]\n",
       " [-0.005813596241253867, 0.00972740828317448, 0.02302606076369674, 0.03842710017413295, 0.08567916010546725]"
      ]
     },
     "metadata": {},
     "output_type": "display_data"
    }
   ],
   "source": [
    "val = eachcol(values(from(returns_yearly,Date(2003,02,01))))\n",
    "\n",
    "[percentile(a,[5, 25, 50, 75, 95]) for a in val]"
   ]
  },
  {
   "cell_type": "code",
   "execution_count": 320,
   "metadata": {},
   "outputs": [
    {
     "data": {
      "text/plain": [
       "254×2 Matrix{Float64}:\n",
       "  0.0051036     0.000927653\n",
       "  0.0430686     0.00277912\n",
       "  0.0118412     0.0018489\n",
       "  0.0300994     0.0\n",
       "  0.0670022    -0.000924682\n",
       "  0.0132941    -0.00370334\n",
       "  0.0495565    -0.00371711\n",
       "  0.000195397   0.0046439\n",
       "  0.0782452     0.00554541\n",
       " -0.0161735     0.00276122\n",
       "  ⋮            \n",
       "  0.0208096    -0.00221661\n",
       "  0.000986609   0.0\n",
       "  0.0154043    -0.00389282\n",
       " -0.066645      0.00278164\n",
       "  0.0356998     0.00719694\n",
       "  0.0310713     0.00110186\n",
       "  0.0233511     0.00384933\n",
       "  0.0394925     0.00274048\n",
       "  0.0298368     0.00218699"
      ]
     },
     "metadata": {},
     "output_type": "display_data"
    }
   ],
   "source": [
    "acwi_cpipln = identity.(values(from(returns[:ACWI_Net_PLN,:CPI_PLN],Date(2003,02,01))))"
   ]
  },
  {
   "cell_type": "code",
   "execution_count": 321,
   "metadata": {},
   "outputs": [
    {
     "data": {
      "text/plain": [
       "2×254 transpose(::Matrix{Float64}) with eltype Float64:\n",
       " 0.0051036    0.0430686   0.0118412  …  0.0233511   0.0394925   0.0298368\n",
       " 0.000927653  0.00277912  0.0018489     0.00384933  0.00274048  0.00218699"
      ]
     },
     "metadata": {},
     "output_type": "display_data"
    }
   ],
   "source": [
    "transpose(acwi_cpipln)"
   ]
  },
  {
   "cell_type": "code",
   "execution_count": 322,
   "metadata": {},
   "outputs": [
    {
     "data": {
      "text/plain": [
       "2×4 Matrix{Float64}:\n",
       " 0.506915   -0.741961   -0.0241622  -0.0317024\n",
       " 0.0235401   0.0357811   0.0073365   0.143168"
      ]
     },
     "metadata": {},
     "output_type": "display_data"
    },
    {
     "data": {
      "text/plain": [
       "4-element Vector{Float64}:\n",
       " 0.33858267716535434\n",
       " 0.09055118110236221\n",
       " 0.44881889763779526\n",
       " 0.1220472440944882"
      ]
     },
     "metadata": {},
     "output_type": "display_data"
    }
   ],
   "source": [
    "state, probs = cluster(transpose(acwi_cpipln),4)\n",
    "display(state*12)\n",
    "display(probs)\n"
   ]
  },
  {
   "cell_type": "code",
   "execution_count": 323,
   "metadata": {},
   "outputs": [
    {
     "data": {
      "text/plain": [
       "2×3 Matrix{Float64}:\n",
       " 0.0208741    0.0300136    -0.0488946\n",
       " 0.00509747  -0.000185102   0.00239701"
      ]
     },
     "metadata": {},
     "output_type": "display_data"
    },
    {
     "data": {
      "text/plain": [
       "3-element Vector{Float64}:\n",
       " 0.34022988505747126\n",
       " 0.39770114942528734\n",
       " 0.2620689655172414"
      ]
     },
     "metadata": {},
     "output_type": "display_data"
    }
   ],
   "source": [
    "acwi_cpiusd = identity.(values(from(returns[:ACWI_Net,:CPI_USA],Date(1988,01,01))))\n",
    "\n",
    "state, probs = cluster(transpose(acwi_cpiusd),3)\n",
    "\n",
    "display(state)\n",
    "display(probs)"
   ]
  }
 ],
 "metadata": {
  "kernelspec": {
   "display_name": "Julia 1.10.2",
   "language": "julia",
   "name": "julia-1.10"
  },
  "language_info": {
   "file_extension": ".jl",
   "mimetype": "application/julia",
   "name": "julia",
   "version": "1.10.2"
  }
 },
 "nbformat": 4,
 "nbformat_minor": 2
}
