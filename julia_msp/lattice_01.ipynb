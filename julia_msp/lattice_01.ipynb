{
 "cells": [
  {
   "cell_type": "code",
   "execution_count": 20,
   "metadata": {},
   "outputs": [],
   "source": [
    "using TimeSeries, CSV, StatsBase"
   ]
  },
  {
   "cell_type": "code",
   "execution_count": 51,
   "metadata": {},
   "outputs": [
    {
     "data": {
      "text/plain": [
       "6-element Vector{Symbol}:\n",
       " :ACWI_Net\n",
       " :USDPLN\n",
       " :ACWI_Net_PLN\n",
       " :CPI_USA\n",
       " :CPI_PLN\n",
       " :ACWI_Net_PLN_CPI_PLN"
      ]
     },
     "metadata": {},
     "output_type": "display_data"
    }
   ],
   "source": [
    "source_data = TimeArray(CSV.File(\"assets_data_03.24.csv\", delim=';', dateformat=Dict(\"Date\" => \"dd.mm.yyyy\"), decimal=','),timestamp=:Date)\n",
    "returns = percentchange(from(source_data,Date(2002,12,31)), :log)\n",
    "B = returns[:ACWI_Net_PLN] .- returns[:CPI_PLN]\n",
    "returns = merge(returns,ACWI_PLN_Real,method = :left)\n",
    "colnames(returns)\n"
   ]
  },
  {
   "cell_type": "code",
   "execution_count": 57,
   "metadata": {},
   "outputs": [
    {
     "name": "stdout",
     "output_type": "stream",
     "text": [
      "Summary Stats:\n",
      "Length:         255\n",
      "Missing Count:  0\n",
      "Mean:           0.055864\n",
      "Std. Deviation: 0.427894\n",
      "Minimum:        -1.270050\n",
      "1st Quartile:   -0.196003\n",
      "Median:         0.075293\n",
      "3rd Quartile:   0.344870\n",
      "Maximum:        1.280321\n",
      "Type:           Float64\n"
     ]
    }
   ],
   "source": [
    "describe(values(returns[:ACWI_Net_PLN_CPI_PLN])*12)\n"
   ]
  },
  {
   "cell_type": "code",
   "execution_count": 59,
   "metadata": {},
   "outputs": [
    {
     "data": {
      "text/plain": [
       "52×5 TimeArray{Union{Missing, Float64}, 2, Date, Matrix{Union{Missing, Float64}}} 1973-12-31 to 2024-03-31\n",
       "┌────────────┬────────────┬────────────┬──────────────┬────────────┬────────────\n",
       "│\u001b[1m            \u001b[0m│\u001b[1m ACWI_Net   \u001b[0m│\u001b[1m USDPLN     \u001b[0m│\u001b[1m ACWI_Net_PLN \u001b[0m│\u001b[1m CPI_USA    \u001b[0m│\u001b[1m CPI_PLN  \u001b[0m ⋯\n",
       "├────────────┼────────────┼────────────┼──────────────┼────────────┼────────────\n",
       "│ 1973-12-31 │    missing │    missing │      missing │  0.0870605 │     missi ⋯\n",
       "│ 1974-12-31 │    missing │    missing │      missing │   0.123377 │     missi ⋯\n",
       "│ 1975-12-31 │    missing │    missing │      missing │  0.0693605 │     missi ⋯\n",
       "│ 1976-12-31 │    missing │    missing │      missing │  0.0486505 │     missi ⋯\n",
       "│ 1977-12-31 │    missing │    missing │      missing │  0.0670123 │     missi ⋯\n",
       "│ 1978-12-31 │    missing │    missing │      missing │   0.090177 │     missi ⋯\n",
       "│ 1979-12-31 │    missing │    missing │      missing │   0.132939 │     missi ⋯\n",
       "│ 1980-12-31 │    missing │    missing │      missing │   0.125161 │     missi ⋯\n",
       "│     ⋮      │     ⋮      │     ⋮      │      ⋮       │     ⋮      │      ⋮    ⋱\n",
       "│ 2018-12-31 │ -0.0941432 │  0.0749063 │   -0.0262889 │  0.0191018 │   0.01190 ⋯\n",
       "│ 2019-12-31 │   0.265971 │  0.0141003 │     0.283821 │  0.0228514 │   0.03215 ⋯\n",
       "│ 2020-12-31 │   0.162549 │ -0.0156044 │     0.144409 │  0.0136202 │   0.02279 ⋯\n",
       "│ 2021-12-31 │   0.185376 │   0.080196 │     0.280438 │  0.0703633 │   0.08692 ⋯\n",
       "│ 2022-12-31 │  -0.183639 │  0.0858209 │    -0.113579 │  0.0645442 │    0.1681 ⋯\n",
       "│ 2023-12-31 │   0.222018 │  -0.101851 │    0.0975536 │  0.0335213 │   0.06202 ⋯\n",
       "│ 2024-03-31 │   0.081963 │  0.0140004 │     0.097111 │  0.0182106 │  0.008815 ⋯\n",
       "└────────────┴────────────┴────────────┴──────────────┴────────────┴────────────\n",
       "\u001b[36m                                                    1 column and 37 rows omitted\u001b[0m"
      ]
     },
     "metadata": {},
     "output_type": "display_data"
    }
   ],
   "source": [
    "returns_yearly =  percentchange(collapse(source_data,year, last))"
   ]
  },
  {
   "cell_type": "code",
   "execution_count": null,
   "metadata": {},
   "outputs": [],
   "source": [
    "quantile(returns_yearly)"
   ]
  }
 ],
 "metadata": {
  "kernelspec": {
   "display_name": "Julia 1.10.2",
   "language": "julia",
   "name": "julia-1.10"
  },
  "language_info": {
   "file_extension": ".jl",
   "mimetype": "application/julia",
   "name": "julia",
   "version": "1.10.2"
  }
 },
 "nbformat": 4,
 "nbformat_minor": 2
}
