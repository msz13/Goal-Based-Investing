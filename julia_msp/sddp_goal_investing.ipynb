{
 "cells": [
  {
   "cell_type": "code",
   "execution_count": 1,
   "metadata": {},
   "outputs": [],
   "source": [
    "using Revise\n",
    "using Turing, MCMCChains\n",
    "using XLSX\n",
    "using DataFrames, TimeSeries\n",
    "using StatsPlots\n",
    "using LinearAlgebra\n",
    "using StatsBase\n",
    "include(\"utils.jl\")\n",
    "include(\"kmeans_moments_lattice.jl\")\n",
    "using .LatticeGeneration\n",
    "using JLD2\n",
    "using SDDP, HiGHS, Plots, XLSX, Mustache, PrettyTables"
   ]
  },
  {
   "cell_type": "code",
   "execution_count": 24,
   "metadata": {},
   "outputs": [],
   "source": [
    "includet(\"goal_investing_sddp_model.jl\")\n",
    "using .GoalInvestingSDDP"
   ]
  },
  {
   "cell_type": "code",
   "execution_count": 39,
   "metadata": {},
   "outputs": [
    {
     "name": "stdout",
     "output_type": "stream",
     "text": [
      "(6,)\n",
      "(5, 9, 3)\n"
     ]
    }
   ],
   "source": [
    "scenario_grid = load_object(\"scenario_grid.jld2\")\n",
    "println(size(scenario_grid.probs))\n",
    "println(size(scenario_grid.states))"
   ]
  },
  {
   "cell_type": "code",
   "execution_count": 40,
   "metadata": {},
   "outputs": [
    {
     "data": {
      "text/plain": [
       "Root\n",
       " (0, 1)\n",
       "Nodes\n",
       " (1, 1)\n",
       " (2, 1)\n",
       " (2, 2)\n",
       " (2, 3)\n",
       " (2, 4)\n",
       " (2, 5)\n",
       " (2, 6)\n",
       " (2, 7)\n",
       " (2, 8)\n",
       " (2, 9)\n",
       " (3, 1)\n",
       " (3, 2)\n",
       " (3, 3)\n",
       " (3, 4)\n",
       " (3, 5)\n",
       " (3, 6)\n",
       " (3, 7)\n",
       " (3, 8)\n",
       " (3, 9)\n",
       " (4, 1)\n",
       " (4, 2)\n",
       " (4, 3)\n",
       " (4, 4)\n",
       " (4, 5)\n",
       " (4, 6)\n",
       " (4, 7)\n",
       " (4, 8)\n",
       " (4, 9)\n",
       " (5, 1)\n",
       " (5, 2)\n",
       " (5, 3)\n",
       " (5, 4)\n",
       " (5, 5)\n",
       " (5, 6)\n",
       " (5, 7)\n",
       " (5, 8)\n",
       " (5, 9)\n",
       "Arcs\n",
       " (0, 1) => (1, 1) w.p. 1.0\n",
       " (1, 1) => (2, 1) w.p. 0.157\n",
       " (1, 1) => (2, 2) w.p. 0.10318\n",
       " (1, 1) => (2, 3) w.p. 0.0978\n",
       " (1, 1) => (2, 4) w.p. 0.07771\n",
       " (1, 1) => (2, 5) w.p. 0.13828\n",
       " (1, 1) => (2, 6) w.p. 0.10484\n",
       " (1, 1) => (2, 7) w.p. 0.12405\n",
       " (1, 1) => (2, 8) w.p. 0.07065\n",
       " (1, 1) => (2, 9) w.p. 0.12649\n",
       " (2, 1) => (3, 1) w.p. 0.09159235668789809\n",
       " (2, 1) => (3, 2) w.p. 0.08452229299363058\n",
       " (2, 1) => (3, 3) w.p. 0.1346496815286624\n",
       " (2, 1) => (3, 4) w.p. 0.13522292993630572\n",
       " (2, 1) => (3, 5) w.p. 0.1927388535031847\n",
       " (2, 1) => (3, 6) w.p. 0.09789808917197453\n",
       " (2, 1) => (3, 7) w.p. 0.07738853503184713\n",
       " (2, 1) => (3, 8) w.p. 0.15369426751592358\n",
       " (2, 1) => (3, 9) w.p. 0.032292993630573245\n",
       " (2, 2) => (3, 1) w.p. 0.016379143244814886\n",
       " (2, 2) => (3, 2) w.p. 0.1560379918588874\n",
       " (2, 2) => (3, 3) w.p. 0.154099631711572\n",
       " (2, 2) => (3, 4) w.p. 0.017639077340569877\n",
       " (2, 2) => (3, 5) w.p. 0.10457452994766428\n",
       " (2, 2) => (3, 6) w.p. 0.17222329908897074\n",
       " (2, 2) => (3, 7) w.p. 0.0012599340957549913\n",
       " (2, 2) => (3, 8) w.p. 0.013956193060670672\n",
       " (2, 2) => (3, 9) w.p. 0.3638301996510952\n",
       " (2, 3) => (3, 1) w.p. 0.05807770961145194\n",
       " (2, 3) => (3, 2) w.p. 0.2167689161554192\n",
       " (2, 3) => (3, 3) w.p. 0.14171779141104293\n",
       " (2, 3) => (3, 4) w.p. 0.035480572597137015\n",
       " (2, 3) => (3, 5) w.p. 0.16646216768916156\n",
       " (2, 3) => (3, 6) w.p. 0.11697341513292434\n",
       " (2, 3) => (3, 7) w.p. 0.005112474437627812\n",
       " (2, 3) => (3, 8) w.p. 0.022494887525562373\n",
       " (2, 3) => (3, 9) w.p. 0.2369120654396728\n",
       " (2, 4) => (3, 1) w.p. 0.09213743404967185\n",
       " (2, 4) => (3, 2) w.p. 0.19662849054175782\n",
       " (2, 4) => (3, 3) w.p. 0.18813537511259812\n",
       " (2, 4) => (3, 4) w.p. 0.16497233303307168\n",
       " (2, 4) => (3, 5) w.p. 0.11607257753184919\n",
       " (2, 4) => (3, 6) w.p. 0.05250289538025994\n",
       " (2, 4) => (3, 7) w.p. 0.0410500579076052\n",
       " (2, 4) => (3, 8) w.p. 0.05481919958821258\n",
       " (2, 4) => (3, 9) w.p. 0.09368163685497362\n",
       " (2, 5) => (3, 1) w.p. 0.08121203355510559\n",
       " (2, 5) => (3, 2) w.p. 0.2847844952270755\n",
       " (2, 5) => (3, 3) w.p. 0.1687156494070003\n",
       " (2, 5) => (3, 4) w.p. 0.07665606016777553\n",
       " (2, 5) => (3, 5) w.p. 0.13024298524732428\n",
       " (2, 5) => (3, 6) w.p. 0.059950824414231996\n",
       " (2, 5) => (3, 7) w.p. 0.007520971940989297\n",
       " (2, 5) => (3, 8) w.p. 0.020610355799826438\n",
       " (2, 5) => (3, 9) w.p. 0.1703066242406711\n",
       " (2, 6) => (3, 1) w.p. 0.06686379244563144\n",
       " (2, 6) => (3, 2) w.p. 0.07420831743609309\n",
       " (2, 6) => (3, 3) w.p. 0.17140404425791683\n",
       " (2, 6) => (3, 4) w.p. 0.14297977871041587\n",
       " (2, 6) => (3, 5) w.p. 0.15423502479969478\n",
       " (2, 6) => (3, 6) w.p. 0.11598626478443343\n",
       " (2, 6) => (3, 7) w.p. 0.06476535673407097\n",
       " (2, 6) => (3, 8) w.p. 0.16787485692483786\n",
       " (2, 6) => (3, 9) w.p. 0.041682563906905765\n",
       " (2, 7) => (3, 1) w.p. 0.18621523579201935\n",
       " (2, 7) => (3, 2) w.p. 0.116968964127368\n",
       " (2, 7) => (3, 3) w.p. 0.08456267634018541\n",
       " (2, 7) => (3, 4) w.p. 0.19411527609834744\n",
       " (2, 7) => (3, 5) w.p. 0.1384925433293027\n",
       " (2, 7) => (3, 6) w.p. 0.027408303103587262\n",
       " (2, 7) => (3, 7) w.p. 0.139621120515921\n",
       " (2, 7) => (3, 8) w.p. 0.09407496977025392\n",
       " (2, 7) => (3, 9) w.p. 0.018540910923014912\n",
       " (2, 8) => (3, 1) w.p. 0.20438782731776362\n",
       " (2, 8) => (3, 2) w.p. 0.21656050955414013\n",
       " (2, 8) => (3, 3) w.p. 0.09101203113941968\n",
       " (2, 8) => (3, 4) w.p. 0.22307147912243452\n",
       " (2, 8) => (3, 5) w.p. 0.08039631988676575\n",
       " (2, 8) => (3, 6) w.p. 0.013305024769992922\n",
       " (2, 8) => (3, 7) w.p. 0.09766454352441614\n",
       " (2, 8) => (3, 8) w.p. 0.04203821656050955\n",
       " (2, 8) => (3, 9) w.p. 0.03156404812455768\n",
       " (2, 9) => (3, 1) w.p. 0.1310775555379872\n",
       " (2, 9) => (3, 2) w.p. 0.04316546762589928\n",
       " (2, 9) => (3, 3) w.p. 0.06372045220966084\n",
       " (2, 9) => (3, 4) w.p. 0.2397027432998656\n",
       " (2, 9) => (3, 5) w.p. 0.08514507075658155\n",
       " (2, 9) => (3, 6) w.p. 0.02063404221677603\n",
       " (2, 9) => (3, 7) w.p. 0.24760850660131237\n",
       " (2, 9) => (3, 8) w.p. 0.16499328010119377\n",
       " (2, 9) => (3, 9) w.p. 0.003952881650723377\n",
       " (3, 1) => (4, 1) w.p. 0.14910634936308878\n",
       " (3, 1) => (4, 2) w.p. 0.2410388071492051\n",
       " (3, 1) => (4, 3) w.p. 0.012047003061123728\n",
       " (3, 1) => (4, 4) w.p. 0.14811889009578355\n",
       " (3, 1) => (4, 5) w.p. 0.04631183963661499\n",
       " (3, 1) => (4, 6) w.p. 0.16579441098054706\n",
       " (3, 1) => (4, 7) w.p. 0.054112767848326256\n",
       " (3, 1) => (4, 8) w.p. 0.14357657746617952\n",
       " (3, 1) => (4, 9) w.p. 0.03989335439913103\n",
       " (3, 2) => (4, 1) w.p. 0.10473428648502832\n",
       " (3, 2) => (4, 2) w.p. 0.14836795252225518\n",
       " (3, 2) => (4, 3) w.p. 0.03844078769894794\n",
       " (3, 2) => (4, 4) w.p. 0.1309684380900998\n",
       " (3, 2) => (4, 5) w.p. 0.0751955759374157\n",
       " (3, 2) => (4, 6) w.p. 0.16731858645805234\n",
       " (3, 2) => (4, 7) w.p. 0.10075532775829511\n",
       " (3, 2) => (4, 8) w.p. 0.17534394388993796\n",
       " (3, 2) => (4, 9) w.p. 0.05887510115996763\n",
       " (3, 3) => (4, 1) w.p. 0.04074355083459787\n",
       " (3, 3) => (4, 2) w.p. 0.015402124430955995\n",
       " (3, 3) => (4, 3) w.p. 0.16851289833080424\n",
       " (3, 3) => (4, 4) w.p. 0.10341426403641882\n",
       " (3, 3) => (4, 5) w.p. 0.2208649468892261\n",
       " (3, 3) => (4, 6) w.p. 0.07845220030349014\n",
       " (3, 3) => (4, 7) w.p. 0.13277693474962063\n",
       " (3, 3) => (4, 8) w.p. 0.1101669195751138\n",
       " (3, 3) => (4, 9) w.p. 0.1296661608497724\n",
       " (3, 4) => (4, 1) w.p. 0.06825079576578577\n",
       " (3, 4) => (4, 2) w.p. 0.017395810200607004\n",
       " (3, 4) => (4, 3) w.p. 0.1493078688281886\n",
       " (3, 4) => (4, 4) w.p. 0.11777333629432231\n",
       " (3, 4) => (4, 5) w.p. 0.18913317047893996\n",
       " (3, 4) => (4, 6) w.p. 0.05611074098748982\n",
       " (3, 4) => (4, 7) w.p. 0.08742319934858242\n",
       " (3, 4) => (4, 8) w.p. 0.11947590495225405\n",
       " (3, 4) => (4, 9) w.p. 0.19512917314383005\n",
       " (3, 5) => (4, 1) w.p. 0.0778175313059034\n",
       " (3, 5) => (4, 2) w.p. 0.1915623136553369\n",
       " (3, 5) => (4, 3) w.p. 0.01267143709004174\n",
       " (3, 5) => (4, 4) w.p. 0.16234347048300538\n",
       " (3, 5) => (4, 5) w.p. 0.07461240310077519\n",
       " (3, 5) => (4, 6) w.p. 0.23412343470483005\n",
       " (3, 5) => (4, 7) w.p. 0.08601669648181276\n",
       " (3, 5) => (4, 8) w.p. 0.13342277877161599\n",
       " (3, 5) => (4, 9) w.p. 0.027429934406678593\n",
       " (3, 6) => (4, 1) w.p. 0.027872732053641863\n",
       " (3, 6) => (4, 2) w.p. 0.075992637391533\n",
       " (3, 6) => (4, 3) w.p. 0.07941099132264003\n",
       " (3, 6) => (4, 4) w.p. 0.12976597423087036\n",
       " (3, 6) => (4, 5) w.p. 0.1832763607678149\n",
       " (3, 6) => (4, 6) w.p. 0.21285826978701025\n",
       " (3, 6) => (4, 7) w.p. 0.15619247962135158\n",
       " (3, 6) => (4, 8) w.p. 0.08769392584801472\n",
       " (3, 6) => (4, 9) w.p. 0.04693662897712332\n",
       " (3, 7) => (4, 1) w.p. 0.11809931938492564\n",
       " (3, 7) => (4, 2) w.p. 0.08911015881018401\n",
       " (3, 7) => (4, 3) w.p. 0.056339803377867405\n",
       " (3, 7) => (4, 4) w.p. 0.17973279556339802\n",
       " (3, 7) => (4, 5) w.p. 0.13473657675825562\n",
       " (3, 7) => (4, 6) w.p. 0.10738593395512983\n",
       " (3, 7) => (4, 7) w.p. 0.05848248046382657\n",
       " (3, 7) => (4, 8) w.p. 0.13133350138643812\n",
       " (3, 7) => (4, 9) w.p. 0.12477943029997479\n",
       " (3, 8) => (4, 1) w.p. 0.04352767359927264\n",
       " (3, 8) => (4, 2) w.p. 0.030117058756676893\n",
       " (3, 8) => (4, 3) w.p. 0.13376520059097624\n",
       " (3, 8) => (4, 4) w.p. 0.14012956017729286\n",
       " (3, 8) => (4, 5) w.p. 0.22684395954085693\n",
       " (3, 8) => (4, 6) w.p. 0.09557904307307649\n",
       " (3, 8) => (4, 7) w.p. 0.10307989544266394\n",
       " (3, 8) => (4, 8) w.p. 0.0968291851346744\n",
       " (3, 8) => (4, 9) w.p. 0.1301284236845096\n",
       " (3, 9) => (4, 1) w.p. 0.049712291293274216\n",
       " (3, 9) => (4, 2) w.p. 0.14932553532685597\n",
       " (3, 9) => (4, 3) w.p. 0.038864258088859543\n",
       " (3, 9) => (4, 4) w.p. 0.11659277426657863\n",
       " (3, 9) => (4, 5) w.p. 0.09187812470521649\n",
       " (3, 9) => (4, 6) w.p. 0.23893972266767285\n",
       " (3, 9) => (4, 7) w.p. 0.13234600509385908\n",
       " (3, 9) => (4, 8) w.p. 0.14706159796245638\n",
       " (3, 9) => (4, 9) w.p. 0.03527969059522686\n",
       " (4, 1) => (5, 1) w.p. 0.20655737704918034\n",
       " (4, 1) => (5, 2) w.p. 0.17154098360655737\n",
       " (4, 1) => (5, 3) w.p. 0.04222950819672131\n",
       " (4, 1) => (5, 4) w.p. 0.0899672131147541\n",
       " (4, 1) => (5, 5) w.p. 0.03357377049180328\n",
       " (4, 1) => (5, 6) w.p. 0.05757377049180328\n",
       " (4, 1) => (5, 7) w.p. 0.1598688524590164\n",
       " (4, 1) => (5, 8) w.p. 0.10688524590163935\n",
       " (4, 1) => (5, 9) w.p. 0.1318032786885246\n",
       " (4, 2) => (5, 1) w.p. 0.19810795770728992\n",
       " (4, 2) => (5, 2) w.p. 0.12289000185494342\n",
       " (4, 2) => (5, 3) w.p. 0.020218883324058617\n",
       " (4, 2) => (5, 4) w.p. 0.04674457429048414\n",
       " (4, 2) => (5, 5) w.p. 0.04405490632535708\n",
       " (4, 2) => (5, 6) w.p. 0.12901131515488778\n",
       " (4, 2) => (5, 7) w.p. 0.2451307735114079\n",
       " (4, 2) => (5, 8) w.p. 0.1390280096457058\n",
       " (4, 2) => (5, 9) w.p. 0.05481357818586533\n",
       " (4, 3) => (5, 1) w.p. 0.08604651162790698\n",
       " (4, 3) => (5, 2) w.p. 0.19483204134366924\n",
       " (4, 3) => (5, 3) w.p. 0.12467700258397933\n",
       " (4, 3) => (5, 4) w.p. 0.06214470284237726\n",
       " (4, 3) => (5, 5) w.p. 0.1165374677002584\n",
       " (4, 3) => (5, 6) w.p. 0.09160206718346253\n",
       " (4, 3) => (5, 7) w.p. 0.07493540051679587\n",
       " (4, 3) => (5, 8) w.p. 0.12144702842377261\n",
       " (4, 3) => (5, 9) w.p. 0.12777777777777777\n",
       " (4, 4) => (5, 1) w.p. 0.14112663495838287\n",
       " (4, 4) => (5, 2) w.p. 0.13934304399524375\n",
       " (4, 4) => (5, 3) w.p. 0.12470273483947682\n",
       " (4, 4) => (5, 4) w.p. 0.15747621878715815\n",
       " (4, 4) => (5, 5) w.p. 0.055291319857312726\n",
       " (4, 4) => (5, 6) w.p. 0.026010701545778836\n",
       " (4, 4) => (5, 7) w.p. 0.038941736028537455\n",
       " (4, 4) => (5, 8) w.p. 0.12566884661117717\n",
       " (4, 4) => (5, 9) w.p. 0.19143876337693222\n",
       " (4, 5) => (5, 1) w.p. 0.08083654701868882\n",
       " (4, 5) => (5, 2) w.p. 0.137422129931771\n",
       " (4, 5) => (5, 3) w.p. 0.1969000296647879\n",
       " (4, 5) => (5, 4) w.p. 0.1451349747849303\n",
       " (4, 5) => (5, 5) w.p. 0.08914268762978345\n",
       " (4, 5) => (5, 6) w.p. 0.025437555621477308\n",
       " (4, 5) => (5, 7) w.p. 0.020394541679026996\n",
       " (4, 5) => (5, 8) w.p. 0.1184366656778404\n",
       " (4, 5) => (5, 9) w.p. 0.18629486799169387\n",
       " (4, 6) => (5, 1) w.p. 0.1341545052885259\n",
       " (4, 6) => (5, 2) w.p. 0.13783639041371\n",
       " (4, 6) => (5, 3) w.p. 0.04592314901593252\n",
       " (4, 6) => (5, 4) w.p. 0.04953809077520418\n",
       " (4, 6) => (5, 5) w.p. 0.0903735439817914\n",
       " (4, 6) => (5, 6) w.p. 0.15430445842816976\n",
       " (4, 6) => (5, 7) w.p. 0.16427901994912303\n",
       " (4, 6) => (5, 8) w.p. 0.16501539697415987\n",
       " (4, 6) => (5, 9) w.p. 0.05857544517338332\n",
       " (4, 7) => (5, 1) w.p. 0.09822579046486273\n",
       " (4, 7) => (5, 2) w.p. 0.15026266230548121\n",
       " (4, 7) => (5, 3) w.p. 0.03340271582912083\n",
       " (4, 7) => (5, 4) w.p. 0.020517395182872437\n",
       " (4, 7) => (5, 5) w.p. 0.11874318564773516\n",
       " (4, 7) => (5, 6) w.p. 0.20448012687084943\n",
       " (4, 7) => (5, 7) w.p. 0.1832689067301021\n",
       " (4, 7) => (5, 8) w.p. 0.15402914064823076\n",
       " (4, 7) => (5, 9) w.p. 0.03707007632074537\n",
       " (4, 8) => (5, 1) w.p. 0.15993860322333078\n",
       " (4, 8) => (5, 2) w.p. 0.17498081350729086\n",
       " (4, 8) => (5, 3) w.p. 0.020184190330007675\n",
       " (4, 8) => (5, 4) w.p. 0.0227168073676132\n",
       " (4, 8) => (5, 5) w.p. 0.059861857252494245\n",
       " (4, 8) => (5, 6) w.p. 0.15686876438986952\n",
       " (4, 8) => (5, 7) w.p. 0.23537989255564082\n",
       " (4, 8) => (5, 8) w.p. 0.12087490406753645\n",
       " (4, 8) => (5, 9) w.p. 0.049194167306216424\n",
       " (4, 9) => (5, 1) w.p. 0.11427280939476062\n",
       " (4, 9) => (5, 2) w.p. 0.17615176151761516\n",
       " (4, 9) => (5, 3) w.p. 0.13098464317976513\n",
       " (4, 9) => (5, 4) w.p. 0.130420054200542\n",
       " (4, 9) => (5, 5) w.p. 0.05465221318879855\n",
       " (4, 9) => (5, 6) w.p. 0.031955736224028905\n",
       " (4, 9) => (5, 7) w.p. 0.047651309846431796\n",
       " (4, 9) => (5, 8) w.p. 0.08514001806684733\n",
       " (4, 9) => (5, 9) w.p. 0.22877145438121047"
      ]
     },
     "metadata": {},
     "output_type": "display_data"
    }
   ],
   "source": [
    "graph = SDDP.MarkovianGraph(scenario_grid.probs[1:end-1])"
   ]
  },
  {
   "cell_type": "code",
   "execution_count": 43,
   "metadata": {},
   "outputs": [
    {
     "data": {
      "text/html": [
       "<div><div style = \"float: left;\"><span>6×11 DataFrame</span></div><div style = \"clear: both;\"></div></div><div class = \"data-frame\" style = \"overflow-x: scroll;\"><table class = \"data-frame\" style = \"margin-bottom: 6px;\"><thead><tr class = \"header\"><th class = \"rowNumber\" style = \"font-weight: bold; text-align: right;\">Row</th><th style = \"text-align: left;\">t</th><th style = \"text-align: left;\">minimum_limit</th><th style = \"text-align: left;\">acceptable_limit</th><th style = \"text-align: left;\">desired_limit</th><th style = \"text-align: left;\">inflows</th><th style = \"text-align: left;\">priority</th><th style = \"text-align: left;\">minimum_utility</th><th style = \"text-align: left;\">acceptable_utility</th><th style = \"text-align: left;\">desired_utility</th><th style = \"text-align: left;\">above_desired_utility</th><th style = \"text-align: left;\">cashflows</th></tr><tr class = \"subheader headerLastRow\"><th class = \"rowNumber\" style = \"font-weight: bold; text-align: right;\"></th><th title = \"Float64\" style = \"text-align: left;\">Float64</th><th title = \"Float64\" style = \"text-align: left;\">Float64</th><th title = \"Float64\" style = \"text-align: left;\">Float64</th><th title = \"Float64\" style = \"text-align: left;\">Float64</th><th title = \"Float64\" style = \"text-align: left;\">Float64</th><th title = \"Float64\" style = \"text-align: left;\">Float64</th><th title = \"Float64\" style = \"text-align: left;\">Float64</th><th title = \"Float64\" style = \"text-align: left;\">Float64</th><th title = \"Float64\" style = \"text-align: left;\">Float64</th><th title = \"Float64\" style = \"text-align: left;\">Float64</th><th title = \"Float64\" style = \"text-align: left;\">Float64</th></tr></thead><tbody><tr><td class = \"rowNumber\" style = \"font-weight: bold; text-align: right;\">1</td><td style = \"text-align: right;\">1.0</td><td style = \"text-align: right;\">15.0</td><td style = \"text-align: right;\">20.0</td><td style = \"text-align: right;\">23.0</td><td style = \"text-align: right;\">16.0</td><td style = \"text-align: right;\">0.2</td><td style = \"text-align: right;\">0.333</td><td style = \"text-align: right;\">0.2</td><td style = \"text-align: right;\">0.067</td><td style = \"text-align: right;\">0.003</td><td style = \"text-align: right;\">-42.0</td></tr><tr><td class = \"rowNumber\" style = \"font-weight: bold; text-align: right;\">2</td><td style = \"text-align: right;\">2.0</td><td style = \"text-align: right;\">18.0</td><td style = \"text-align: right;\">24.0</td><td style = \"text-align: right;\">27.0</td><td style = \"text-align: right;\">34.0</td><td style = \"text-align: right;\">0.2</td><td style = \"text-align: right;\">0.278</td><td style = \"text-align: right;\">0.167</td><td style = \"text-align: right;\">0.067</td><td style = \"text-align: right;\">0.003</td><td style = \"text-align: right;\">-7.0</td></tr><tr><td class = \"rowNumber\" style = \"font-weight: bold; text-align: right;\">3</td><td style = \"text-align: right;\">3.0</td><td style = \"text-align: right;\">18.0</td><td style = \"text-align: right;\">24.0</td><td style = \"text-align: right;\">27.0</td><td style = \"text-align: right;\">33.0</td><td style = \"text-align: right;\">0.2</td><td style = \"text-align: right;\">0.278</td><td style = \"text-align: right;\">0.167</td><td style = \"text-align: right;\">0.067</td><td style = \"text-align: right;\">0.003</td><td style = \"text-align: right;\">-6.0</td></tr><tr><td class = \"rowNumber\" style = \"font-weight: bold; text-align: right;\">4</td><td style = \"text-align: right;\">4.0</td><td style = \"text-align: right;\">18.0</td><td style = \"text-align: right;\">24.0</td><td style = \"text-align: right;\">27.0</td><td style = \"text-align: right;\">33.0</td><td style = \"text-align: right;\">0.2</td><td style = \"text-align: right;\">0.278</td><td style = \"text-align: right;\">0.167</td><td style = \"text-align: right;\">0.067</td><td style = \"text-align: right;\">0.003</td><td style = \"text-align: right;\">-6.0</td></tr><tr><td class = \"rowNumber\" style = \"font-weight: bold; text-align: right;\">5</td><td style = \"text-align: right;\">5.0</td><td style = \"text-align: right;\">18.0</td><td style = \"text-align: right;\">24.0</td><td style = \"text-align: right;\">27.0</td><td style = \"text-align: right;\">33.0</td><td style = \"text-align: right;\">0.2</td><td style = \"text-align: right;\">0.278</td><td style = \"text-align: right;\">0.167</td><td style = \"text-align: right;\">0.067</td><td style = \"text-align: right;\">0.003</td><td style = \"text-align: right;\">-6.0</td></tr><tr><td class = \"rowNumber\" style = \"font-weight: bold; text-align: right;\">6</td><td style = \"text-align: right;\">6.0</td><td style = \"text-align: right;\">84.0</td><td style = \"text-align: right;\">132.0</td><td style = \"text-align: right;\">163.0</td><td style = \"text-align: right;\">16.0</td><td style = \"text-align: right;\">1.0</td><td style = \"text-align: right;\">0.298</td><td style = \"text-align: right;\">0.104</td><td style = \"text-align: right;\">0.032</td><td style = \"text-align: right;\">0.003</td><td style = \"text-align: right;\">147.0</td></tr></tbody></table></div>"
      ],
      "text/latex": [
       "\\begin{tabular}{r|cccccccc}\n",
       "\t& t & minimum\\_limit & acceptable\\_limit & desired\\_limit & inflows & priority & minimum\\_utility & \\\\\n",
       "\t\\hline\n",
       "\t& Float64 & Float64 & Float64 & Float64 & Float64 & Float64 & Float64 & \\\\\n",
       "\t\\hline\n",
       "\t1 & 1.0 & 15.0 & 20.0 & 23.0 & 16.0 & 0.2 & 0.333 & $\\dots$ \\\\\n",
       "\t2 & 2.0 & 18.0 & 24.0 & 27.0 & 34.0 & 0.2 & 0.278 & $\\dots$ \\\\\n",
       "\t3 & 3.0 & 18.0 & 24.0 & 27.0 & 33.0 & 0.2 & 0.278 & $\\dots$ \\\\\n",
       "\t4 & 4.0 & 18.0 & 24.0 & 27.0 & 33.0 & 0.2 & 0.278 & $\\dots$ \\\\\n",
       "\t5 & 5.0 & 18.0 & 24.0 & 27.0 & 33.0 & 0.2 & 0.278 & $\\dots$ \\\\\n",
       "\t6 & 6.0 & 84.0 & 132.0 & 163.0 & 16.0 & 1.0 & 0.298 & $\\dots$ \\\\\n",
       "\\end{tabular}\n"
      ],
      "text/plain": [
       "\u001b[1m6×11 DataFrame\u001b[0m\n",
       "\u001b[1m Row \u001b[0m│\u001b[1m t       \u001b[0m\u001b[1m minimum_limit \u001b[0m\u001b[1m acceptable_limit \u001b[0m\u001b[1m desired_limit \u001b[0m\u001b[1m inflows \u001b[0m\u001b[1m prior\u001b[0m ⋯\n",
       "     │\u001b[90m Float64 \u001b[0m\u001b[90m Float64       \u001b[0m\u001b[90m Float64          \u001b[0m\u001b[90m Float64       \u001b[0m\u001b[90m Float64 \u001b[0m\u001b[90m Float\u001b[0m ⋯\n",
       "─────┼──────────────────────────────────────────────────────────────────────────\n",
       "   1 │     1.0           15.0              20.0           23.0     16.0        ⋯\n",
       "   2 │     2.0           18.0              24.0           27.0     34.0\n",
       "   3 │     3.0           18.0              24.0           27.0     33.0\n",
       "   4 │     4.0           18.0              24.0           27.0     33.0\n",
       "   5 │     5.0           18.0              24.0           27.0     33.0        ⋯\n",
       "   6 │     6.0           84.0             132.0          163.0     16.0\n",
       "\u001b[36m                                                               6 columns omitted\u001b[0m"
      ]
     },
     "metadata": {},
     "output_type": "display_data"
    }
   ],
   "source": [
    "data_source = DataFrame(XLSX.readtable(\"./goal_data.xlsx\", \"goal_data_single_g_3y\")) \n",
    "data = round.(data_source[1:6,:],digits=3)"
   ]
  },
  {
   "cell_type": "code",
   "execution_count": 44,
   "metadata": {},
   "outputs": [
    {
     "data": {
      "text/plain": [
       "GoalsData3([15.0, 18.0, 18.0, 18.0, 18.0, 84.0], [20.0, 24.0, 24.0, 24.0, 24.0, 132.0], [23.0, 27.0, 27.0, 27.0, 27.0, 163.0], [16.0, 34.0, 33.0, 33.0, 33.0, 16.0], Float32[0.333, 0.278, 0.278, 0.278, 0.278, 0.298], Float32[0.2, 0.167, 0.167, 0.167, 0.167, 0.104], Float32[0.067, 0.067, 0.067, 0.067, 0.067, 0.032], Float32[0.003, 0.003, 0.003, 0.003, 0.003, 0.003], 35.0, 0.0029f0)"
      ]
     },
     "metadata": {},
     "output_type": "display_data"
    }
   ],
   "source": [
    "model_data = GoalsData3(\n",
    "    data.minimum_limit,\n",
    "    data.acceptable_limit,\n",
    "    data.desired_limit,\n",
    "    data.inflows,\n",
    "    data.minimum_utility,\n",
    "    data.acceptable_utility,\n",
    "    data.desired_utility,\n",
    "    data.above_desired_utility,\n",
    "    35.0,\n",
    "    0.0029\n",
    "    )"
   ]
  },
  {
   "cell_type": "code",
   "execution_count": 45,
   "metadata": {},
   "outputs": [
    {
     "data": {
      "text/plain": [
       "A policy graph with 46 nodes.\n",
       " Node indices: (1, 1), ..., (6, 9)\n"
      ]
     },
     "metadata": {},
     "output_type": "display_data"
    }
   ],
   "source": [
    "model = asset_management_alm(model_data, scenario_grid)"
   ]
  },
  {
   "cell_type": "code",
   "execution_count": 46,
   "metadata": {},
   "outputs": [
    {
     "name": "stdout",
     "output_type": "stream",
     "text": [
      "-------------------------------------------------------------------\n",
      "         SDDP.jl (c) Oscar Dowson and contributors, 2017-23\n",
      "-------------------------------------------------------------------\n",
      "problem\n",
      "  nodes           : 46\n",
      "  state variables : 3\n",
      "  scenarios       : 5.90490e+04\n",
      "  existing cuts   : false\n",
      "options\n",
      "  solver          : serial mode\n",
      "  risk measure    : SDDP.Expectation()\n",
      "  sampling scheme : SDDP.InSampleMonteCarlo\n",
      "subproblem structure\n",
      "  VariableRef                             : [18, 18]\n",
      "  AffExpr in MOI.EqualTo{Float64}         : [5, 5]\n",
      "  VariableRef in MOI.GreaterThan{Float64} : [15, 15]\n",
      "  VariableRef in MOI.LessThan{Float64}    : [3, 4]\n",
      "numerical stability report\n",
      "  matrix range     [9e-01, 2e+00]\n",
      "  objective range  [3e-03, 1e+00]\n",
      "  bounds range     [3e+00, 8e+01]\n",
      "  rhs range        [2e+01, 4e+01]\n",
      "-------------------------------------------------------------------\n",
      " iteration    simulation      bound        time (s)     solves  pid\n",
      "-------------------------------------------------------------------\n",
      "        50  -5.742130e+01 -5.794307e+01  6.009998e-01      2600   1\n",
      "       100  -6.098906e+01 -5.793149e+01  1.338000e+00      5200   1\n",
      "       150  -5.775523e+01 -5.792963e+01  2.218000e+00      7800   1\n",
      "       200  -6.042766e+01 -5.792749e+01  3.202000e+00     10400   1\n",
      "       250  -6.081592e+01 -5.792721e+01  4.359000e+00     13000   1\n",
      "       300  -5.603995e+01 -5.792695e+01  5.638000e+00     15600   1\n",
      "       350  -5.540243e+01 -5.792685e+01  6.988000e+00     18200   1\n",
      "       400  -5.636892e+01 -5.792659e+01  8.446000e+00     20800   1\n",
      "-------------------------------------------------------------------\n",
      "status         : iteration_limit\n",
      "total time (s) : 8.446000e+00\n",
      "total solves   : 20800\n",
      "best bound     : -5.792659e+01\n",
      "simulation ci  : -5.772206e+01 ± 2.612672e-01\n",
      "numeric issues : 0\n",
      "-------------------------------------------------------------------\n",
      "\n"
     ]
    }
   ],
   "source": [
    "SDDP.train(model; iteration_limit = 400, log_frequency = 50)\n"
   ]
  },
  {
   "cell_type": "code",
   "execution_count": 48,
   "metadata": {},
   "outputs": [
    {
     "data": {
      "text/plain": [
       "Main.GoalInvestingSDDP.Optimistion_Result(-57.9266, -58.0219, 0.1009, [18.535342662504497 24.0 … 24.0 136.31940488697452; 18.535342662504497 22.861102637467667 … 24.0 90.27886901256821; … ; 18.535342662504497 22.861102637467667 … 24.0 92.13339448759751; 18.535342662504497 24.0 … 20.96750486675486 114.0987777994722], [16.417047826777868 16.417047826777868 … 16.417047826777868 16.417047826777868; 0.0 0.0 … 0.0 0.0; 0.0 0.0 … 0.0 0.0;;; 38.05215338733643 28.92564215358688 … 28.92564215358688 31.7313784726017; 0.0 0.0 … 0.0 1.2391938932459097; 0.0 0.0 … 0.0 0.0;;; 51.97815149469203 44.636780103048814 … 38.15704875686087 40.48227241315219; 0.0 0.0 … 0.0 0.0; 0.0 0.0 … 0.0 0.0;;; 57.01598862897328 59.75107777675287 … 54.87896404145404 51.23537590677638; 0.0 0.0 … 0.0 0.0; 0.0 0.0 … 0.0 0.0;;; 84.80760586433976 68.61938054955343 … 81.96527449919242 65.21914879004825; 0.0 0.0 … 0.0 0.0; 0.0 0.0 … 0.0 0.0;;; 0.0 0.0 … 0.0 0.0; 0.0 0.0 … 0.0 0.0; 0.0 0.0 … 0.0 0.0])"
      ]
     },
     "metadata": {},
     "output_type": "display_data"
    }
   ],
   "source": [
    "result = simulate_policy(model)"
   ]
  },
  {
   "cell_type": "code",
   "execution_count": 49,
   "metadata": {},
   "outputs": [
    {
     "data": {
      "text/plain": [
       "-57.9266"
      ]
     },
     "metadata": {},
     "output_type": "display_data"
    }
   ],
   "source": [
    "# 3y returns\n",
    "result.lower_bound"
   ]
  },
  {
   "cell_type": "code",
   "execution_count": 34,
   "metadata": {},
   "outputs": [
    {
     "data": {
      "text/plain": [
       "-60.1278"
      ]
     },
     "metadata": {},
     "output_type": "display_data"
    }
   ],
   "source": [
    "result.lower_bound"
   ]
  },
  {
   "cell_type": "code",
   "execution_count": 50,
   "metadata": {},
   "outputs": [
    {
     "data": {
      "text/plain": [
       "calculate_perc (generic function with 2 methods)"
      ]
     },
     "metadata": {},
     "output_type": "display_data"
    }
   ],
   "source": [
    "\n",
    "function calculate_perc(data, perc = [0.05, 0.25, 0.5, 0.75, 0.95])\n",
    "    n_scenarios, n_stages = size(data)\n",
    "    \n",
    "    result = zeros(n_stages, length(perc)) \n",
    "\n",
    "    for t in 1:n_stages\n",
    "       result[t,:] = quantile(data[:,t], perc)\n",
    "    end\n",
    "\n",
    "    return DataFrame(round.(result,digits=2),string.(perc))\n",
    "  \n",
    "end"
   ]
  },
  {
   "cell_type": "code",
   "execution_count": 38,
   "metadata": {},
   "outputs": [
    {
     "data": {
      "text/html": [
       "<div><div style = \"float: left;\"><span>16×5 DataFrame</span></div><div style = \"clear: both;\"></div></div><div class = \"data-frame\" style = \"overflow-x: scroll;\"><table class = \"data-frame\" style = \"margin-bottom: 6px;\"><thead><tr class = \"header\"><th class = \"rowNumber\" style = \"font-weight: bold; text-align: right;\">Row</th><th style = \"text-align: left;\">0.05</th><th style = \"text-align: left;\">0.25</th><th style = \"text-align: left;\">0.5</th><th style = \"text-align: left;\">0.75</th><th style = \"text-align: left;\">0.95</th></tr><tr class = \"subheader headerLastRow\"><th class = \"rowNumber\" style = \"font-weight: bold; text-align: right;\"></th><th title = \"Float64\" style = \"text-align: left;\">Float64</th><th title = \"Float64\" style = \"text-align: left;\">Float64</th><th title = \"Float64\" style = \"text-align: left;\">Float64</th><th title = \"Float64\" style = \"text-align: left;\">Float64</th><th title = \"Float64\" style = \"text-align: left;\">Float64</th></tr></thead><tbody><tr><td class = \"rowNumber\" style = \"font-weight: bold; text-align: right;\">1</td><td style = \"text-align: right;\">8.0</td><td style = \"text-align: right;\">8.0</td><td style = \"text-align: right;\">8.0</td><td style = \"text-align: right;\">8.0</td><td style = \"text-align: right;\">8.0</td></tr><tr><td class = \"rowNumber\" style = \"font-weight: bold; text-align: right;\">2</td><td style = \"text-align: right;\">8.0</td><td style = \"text-align: right;\">8.0</td><td style = \"text-align: right;\">8.0</td><td style = \"text-align: right;\">8.0</td><td style = \"text-align: right;\">8.0</td></tr><tr><td class = \"rowNumber\" style = \"font-weight: bold; text-align: right;\">3</td><td style = \"text-align: right;\">8.0</td><td style = \"text-align: right;\">8.0</td><td style = \"text-align: right;\">8.0</td><td style = \"text-align: right;\">8.0</td><td style = \"text-align: right;\">9.0</td></tr><tr><td class = \"rowNumber\" style = \"font-weight: bold; text-align: right;\">4</td><td style = \"text-align: right;\">8.0</td><td style = \"text-align: right;\">8.0</td><td style = \"text-align: right;\">8.0</td><td style = \"text-align: right;\">8.45</td><td style = \"text-align: right;\">9.0</td></tr><tr><td class = \"rowNumber\" style = \"font-weight: bold; text-align: right;\">5</td><td style = \"text-align: right;\">8.0</td><td style = \"text-align: right;\">8.0</td><td style = \"text-align: right;\">8.0</td><td style = \"text-align: right;\">9.0</td><td style = \"text-align: right;\">9.0</td></tr><tr><td class = \"rowNumber\" style = \"font-weight: bold; text-align: right;\">6</td><td style = \"text-align: right;\">8.0</td><td style = \"text-align: right;\">8.0</td><td style = \"text-align: right;\">8.0</td><td style = \"text-align: right;\">9.0</td><td style = \"text-align: right;\">9.0</td></tr><tr><td class = \"rowNumber\" style = \"font-weight: bold; text-align: right;\">7</td><td style = \"text-align: right;\">8.0</td><td style = \"text-align: right;\">8.0</td><td style = \"text-align: right;\">8.0</td><td style = \"text-align: right;\">9.0</td><td style = \"text-align: right;\">9.0</td></tr><tr><td class = \"rowNumber\" style = \"font-weight: bold; text-align: right;\">8</td><td style = \"text-align: right;\">8.0</td><td style = \"text-align: right;\">8.0</td><td style = \"text-align: right;\">8.52</td><td style = \"text-align: right;\">9.0</td><td style = \"text-align: right;\">9.0</td></tr><tr><td class = \"rowNumber\" style = \"font-weight: bold; text-align: right;\">9</td><td style = \"text-align: right;\">8.0</td><td style = \"text-align: right;\">8.0</td><td style = \"text-align: right;\">9.0</td><td style = \"text-align: right;\">9.0</td><td style = \"text-align: right;\">9.0</td></tr><tr><td class = \"rowNumber\" style = \"font-weight: bold; text-align: right;\">10</td><td style = \"text-align: right;\">8.0</td><td style = \"text-align: right;\">8.0</td><td style = \"text-align: right;\">9.0</td><td style = \"text-align: right;\">9.0</td><td style = \"text-align: right;\">9.0</td></tr><tr><td class = \"rowNumber\" style = \"font-weight: bold; text-align: right;\">11</td><td style = \"text-align: right;\">8.0</td><td style = \"text-align: right;\">8.0</td><td style = \"text-align: right;\">9.0</td><td style = \"text-align: right;\">9.0</td><td style = \"text-align: right;\">9.0</td></tr><tr><td class = \"rowNumber\" style = \"font-weight: bold; text-align: right;\">12</td><td style = \"text-align: right;\">8.0</td><td style = \"text-align: right;\">8.0</td><td style = \"text-align: right;\">9.0</td><td style = \"text-align: right;\">9.0</td><td style = \"text-align: right;\">9.0</td></tr><tr><td class = \"rowNumber\" style = \"font-weight: bold; text-align: right;\">13</td><td style = \"text-align: right;\">8.0</td><td style = \"text-align: right;\">8.0</td><td style = \"text-align: right;\">9.0</td><td style = \"text-align: right;\">9.0</td><td style = \"text-align: right;\">9.0</td></tr><tr><td class = \"rowNumber\" style = \"font-weight: bold; text-align: right;\">14</td><td style = \"text-align: right;\">8.0</td><td style = \"text-align: right;\">8.0</td><td style = \"text-align: right;\">9.0</td><td style = \"text-align: right;\">9.0</td><td style = \"text-align: right;\">9.0</td></tr><tr><td class = \"rowNumber\" style = \"font-weight: bold; text-align: right;\">15</td><td style = \"text-align: right;\">8.0</td><td style = \"text-align: right;\">8.0</td><td style = \"text-align: right;\">9.0</td><td style = \"text-align: right;\">9.0</td><td style = \"text-align: right;\">9.0</td></tr><tr><td class = \"rowNumber\" style = \"font-weight: bold; text-align: right;\">16</td><td style = \"text-align: right;\">91.66</td><td style = \"text-align: right;\">117.76</td><td style = \"text-align: right;\">138.92</td><td style = \"text-align: right;\">159.0</td><td style = \"text-align: right;\">205.82</td></tr></tbody></table></div>"
      ],
      "text/latex": [
       "\\begin{tabular}{r|ccccc}\n",
       "\t& 0.05 & 0.25 & 0.5 & 0.75 & 0.95\\\\\n",
       "\t\\hline\n",
       "\t& Float64 & Float64 & Float64 & Float64 & Float64\\\\\n",
       "\t\\hline\n",
       "\t1 & 8.0 & 8.0 & 8.0 & 8.0 & 8.0 \\\\\n",
       "\t2 & 8.0 & 8.0 & 8.0 & 8.0 & 8.0 \\\\\n",
       "\t3 & 8.0 & 8.0 & 8.0 & 8.0 & 9.0 \\\\\n",
       "\t4 & 8.0 & 8.0 & 8.0 & 8.45 & 9.0 \\\\\n",
       "\t5 & 8.0 & 8.0 & 8.0 & 9.0 & 9.0 \\\\\n",
       "\t6 & 8.0 & 8.0 & 8.0 & 9.0 & 9.0 \\\\\n",
       "\t7 & 8.0 & 8.0 & 8.0 & 9.0 & 9.0 \\\\\n",
       "\t8 & 8.0 & 8.0 & 8.52 & 9.0 & 9.0 \\\\\n",
       "\t9 & 8.0 & 8.0 & 9.0 & 9.0 & 9.0 \\\\\n",
       "\t10 & 8.0 & 8.0 & 9.0 & 9.0 & 9.0 \\\\\n",
       "\t11 & 8.0 & 8.0 & 9.0 & 9.0 & 9.0 \\\\\n",
       "\t12 & 8.0 & 8.0 & 9.0 & 9.0 & 9.0 \\\\\n",
       "\t13 & 8.0 & 8.0 & 9.0 & 9.0 & 9.0 \\\\\n",
       "\t14 & 8.0 & 8.0 & 9.0 & 9.0 & 9.0 \\\\\n",
       "\t15 & 8.0 & 8.0 & 9.0 & 9.0 & 9.0 \\\\\n",
       "\t16 & 91.66 & 117.76 & 138.92 & 159.0 & 205.82 \\\\\n",
       "\\end{tabular}\n"
      ],
      "text/plain": [
       "\u001b[1m16×5 DataFrame\u001b[0m\n",
       "\u001b[1m Row \u001b[0m│\u001b[1m 0.05    \u001b[0m\u001b[1m 0.25    \u001b[0m\u001b[1m 0.5     \u001b[0m\u001b[1m 0.75    \u001b[0m\u001b[1m 0.95    \u001b[0m\n",
       "     │\u001b[90m Float64 \u001b[0m\u001b[90m Float64 \u001b[0m\u001b[90m Float64 \u001b[0m\u001b[90m Float64 \u001b[0m\u001b[90m Float64 \u001b[0m\n",
       "─────┼─────────────────────────────────────────────\n",
       "   1 │    8.0      8.0      8.0      8.0      8.0\n",
       "   2 │    8.0      8.0      8.0      8.0      8.0\n",
       "   3 │    8.0      8.0      8.0      8.0      9.0\n",
       "   4 │    8.0      8.0      8.0      8.45     9.0\n",
       "   5 │    8.0      8.0      8.0      9.0      9.0\n",
       "   6 │    8.0      8.0      8.0      9.0      9.0\n",
       "   7 │    8.0      8.0      8.0      9.0      9.0\n",
       "   8 │    8.0      8.0      8.52     9.0      9.0\n",
       "   9 │    8.0      8.0      9.0      9.0      9.0\n",
       "  10 │    8.0      8.0      9.0      9.0      9.0\n",
       "  11 │    8.0      8.0      9.0      9.0      9.0\n",
       "  12 │    8.0      8.0      9.0      9.0      9.0\n",
       "  13 │    8.0      8.0      9.0      9.0      9.0\n",
       "  14 │    8.0      8.0      9.0      9.0      9.0\n",
       "  15 │    8.0      8.0      9.0      9.0      9.0\n",
       "  16 │   91.66   117.76   138.92   159.0    205.82"
      ]
     },
     "metadata": {},
     "output_type": "display_data"
    }
   ],
   "source": [
    "calculate_perc(result.consumption_dist)"
   ]
  },
  {
   "cell_type": "code",
   "execution_count": 51,
   "metadata": {},
   "outputs": [
    {
     "data": {
      "text/html": [
       "<div><div style = \"float: left;\"><span>6×5 DataFrame</span></div><div style = \"clear: both;\"></div></div><div class = \"data-frame\" style = \"overflow-x: scroll;\"><table class = \"data-frame\" style = \"margin-bottom: 6px;\"><thead><tr class = \"header\"><th class = \"rowNumber\" style = \"font-weight: bold; text-align: right;\">Row</th><th style = \"text-align: left;\">0.05</th><th style = \"text-align: left;\">0.25</th><th style = \"text-align: left;\">0.5</th><th style = \"text-align: left;\">0.75</th><th style = \"text-align: left;\">0.95</th></tr><tr class = \"subheader headerLastRow\"><th class = \"rowNumber\" style = \"font-weight: bold; text-align: right;\"></th><th title = \"Float64\" style = \"text-align: left;\">Float64</th><th title = \"Float64\" style = \"text-align: left;\">Float64</th><th title = \"Float64\" style = \"text-align: left;\">Float64</th><th title = \"Float64\" style = \"text-align: left;\">Float64</th><th title = \"Float64\" style = \"text-align: left;\">Float64</th></tr></thead><tbody><tr><td class = \"rowNumber\" style = \"font-weight: bold; text-align: right;\">1</td><td style = \"text-align: right;\">18.54</td><td style = \"text-align: right;\">18.54</td><td style = \"text-align: right;\">18.54</td><td style = \"text-align: right;\">18.54</td><td style = \"text-align: right;\">18.54</td></tr><tr><td class = \"rowNumber\" style = \"font-weight: bold; text-align: right;\">2</td><td style = \"text-align: right;\">22.86</td><td style = \"text-align: right;\">24.0</td><td style = \"text-align: right;\">24.0</td><td style = \"text-align: right;\">24.0</td><td style = \"text-align: right;\">24.0</td></tr><tr><td class = \"rowNumber\" style = \"font-weight: bold; text-align: right;\">3</td><td style = \"text-align: right;\">22.59</td><td style = \"text-align: right;\">24.0</td><td style = \"text-align: right;\">24.0</td><td style = \"text-align: right;\">24.0</td><td style = \"text-align: right;\">24.0</td></tr><tr><td class = \"rowNumber\" style = \"font-weight: bold; text-align: right;\">4</td><td style = \"text-align: right;\">20.25</td><td style = \"text-align: right;\">24.0</td><td style = \"text-align: right;\">24.0</td><td style = \"text-align: right;\">24.0</td><td style = \"text-align: right;\">27.0</td></tr><tr><td class = \"rowNumber\" style = \"font-weight: bold; text-align: right;\">5</td><td style = \"text-align: right;\">18.0</td><td style = \"text-align: right;\">24.0</td><td style = \"text-align: right;\">24.0</td><td style = \"text-align: right;\">24.0</td><td style = \"text-align: right;\">27.0</td></tr><tr><td class = \"rowNumber\" style = \"font-weight: bold; text-align: right;\">6</td><td style = \"text-align: right;\">83.99</td><td style = \"text-align: right;\">102.66</td><td style = \"text-align: right;\">118.75</td><td style = \"text-align: right;\">139.06</td><td style = \"text-align: right;\">172.66</td></tr></tbody></table></div>"
      ],
      "text/latex": [
       "\\begin{tabular}{r|ccccc}\n",
       "\t& 0.05 & 0.25 & 0.5 & 0.75 & 0.95\\\\\n",
       "\t\\hline\n",
       "\t& Float64 & Float64 & Float64 & Float64 & Float64\\\\\n",
       "\t\\hline\n",
       "\t1 & 18.54 & 18.54 & 18.54 & 18.54 & 18.54 \\\\\n",
       "\t2 & 22.86 & 24.0 & 24.0 & 24.0 & 24.0 \\\\\n",
       "\t3 & 22.59 & 24.0 & 24.0 & 24.0 & 24.0 \\\\\n",
       "\t4 & 20.25 & 24.0 & 24.0 & 24.0 & 27.0 \\\\\n",
       "\t5 & 18.0 & 24.0 & 24.0 & 24.0 & 27.0 \\\\\n",
       "\t6 & 83.99 & 102.66 & 118.75 & 139.06 & 172.66 \\\\\n",
       "\\end{tabular}\n"
      ],
      "text/plain": [
       "\u001b[1m6×5 DataFrame\u001b[0m\n",
       "\u001b[1m Row \u001b[0m│\u001b[1m 0.05    \u001b[0m\u001b[1m 0.25    \u001b[0m\u001b[1m 0.5     \u001b[0m\u001b[1m 0.75    \u001b[0m\u001b[1m 0.95    \u001b[0m\n",
       "     │\u001b[90m Float64 \u001b[0m\u001b[90m Float64 \u001b[0m\u001b[90m Float64 \u001b[0m\u001b[90m Float64 \u001b[0m\u001b[90m Float64 \u001b[0m\n",
       "─────┼─────────────────────────────────────────────\n",
       "   1 │   18.54    18.54    18.54    18.54    18.54\n",
       "   2 │   22.86    24.0     24.0     24.0     24.0\n",
       "   3 │   22.59    24.0     24.0     24.0     24.0\n",
       "   4 │   20.25    24.0     24.0     24.0     27.0\n",
       "   5 │   18.0     24.0     24.0     24.0     27.0\n",
       "   6 │   83.99   102.66   118.75   139.06   172.66"
      ]
     },
     "metadata": {},
     "output_type": "display_data"
    }
   ],
   "source": [
    "# ret 3y\n",
    "\n",
    "calculate_perc(result.consumption_dist)"
   ]
  },
  {
   "cell_type": "code",
   "execution_count": 56,
   "metadata": {},
   "outputs": [
    {
     "data": {
      "text/html": [
       "<div><div style = \"float: left;\"><span>6×5 DataFrame</span></div><div style = \"clear: both;\"></div></div><div class = \"data-frame\" style = \"overflow-x: scroll;\"><table class = \"data-frame\" style = \"margin-bottom: 6px;\"><thead><tr class = \"header\"><th class = \"rowNumber\" style = \"font-weight: bold; text-align: right;\">Row</th><th style = \"text-align: left;\">0.05</th><th style = \"text-align: left;\">0.25</th><th style = \"text-align: left;\">0.5</th><th style = \"text-align: left;\">0.75</th><th style = \"text-align: left;\">0.95</th></tr><tr class = \"subheader headerLastRow\"><th class = \"rowNumber\" style = \"font-weight: bold; text-align: right;\"></th><th title = \"Float64\" style = \"text-align: left;\">Float64</th><th title = \"Float64\" style = \"text-align: left;\">Float64</th><th title = \"Float64\" style = \"text-align: left;\">Float64</th><th title = \"Float64\" style = \"text-align: left;\">Float64</th><th title = \"Float64\" style = \"text-align: left;\">Float64</th></tr></thead><tbody><tr><td class = \"rowNumber\" style = \"font-weight: bold; text-align: right;\">1</td><td style = \"text-align: right;\">0.0</td><td style = \"text-align: right;\">0.0</td><td style = \"text-align: right;\">0.0</td><td style = \"text-align: right;\">0.0</td><td style = \"text-align: right;\">0.0</td></tr><tr><td class = \"rowNumber\" style = \"font-weight: bold; text-align: right;\">2</td><td style = \"text-align: right;\">0.0</td><td style = \"text-align: right;\">0.0</td><td style = \"text-align: right;\">0.0</td><td style = \"text-align: right;\">0.0</td><td style = \"text-align: right;\">27.32</td></tr><tr><td class = \"rowNumber\" style = \"font-weight: bold; text-align: right;\">3</td><td style = \"text-align: right;\">0.0</td><td style = \"text-align: right;\">0.0</td><td style = \"text-align: right;\">0.0</td><td style = \"text-align: right;\">0.0</td><td style = \"text-align: right;\">3.37</td></tr><tr><td class = \"rowNumber\" style = \"font-weight: bold; text-align: right;\">4</td><td style = \"text-align: right;\">0.0</td><td style = \"text-align: right;\">0.0</td><td style = \"text-align: right;\">0.0</td><td style = \"text-align: right;\">0.0</td><td style = \"text-align: right;\">1.41</td></tr><tr><td class = \"rowNumber\" style = \"font-weight: bold; text-align: right;\">5</td><td style = \"text-align: right;\">0.0</td><td style = \"text-align: right;\">0.0</td><td style = \"text-align: right;\">0.0</td><td style = \"text-align: right;\">0.0</td><td style = \"text-align: right;\">46.9</td></tr><tr><td class = \"rowNumber\" style = \"font-weight: bold; text-align: right;\">6</td><td style = \"text-align: right;\">0.0</td><td style = \"text-align: right;\">0.0</td><td style = \"text-align: right;\">0.0</td><td style = \"text-align: right;\">0.0</td><td style = \"text-align: right;\">0.0</td></tr></tbody></table></div>"
      ],
      "text/latex": [
       "\\begin{tabular}{r|ccccc}\n",
       "\t& 0.05 & 0.25 & 0.5 & 0.75 & 0.95\\\\\n",
       "\t\\hline\n",
       "\t& Float64 & Float64 & Float64 & Float64 & Float64\\\\\n",
       "\t\\hline\n",
       "\t1 & 0.0 & 0.0 & 0.0 & 0.0 & 0.0 \\\\\n",
       "\t2 & 0.0 & 0.0 & 0.0 & 0.0 & 27.32 \\\\\n",
       "\t3 & 0.0 & 0.0 & 0.0 & 0.0 & 3.37 \\\\\n",
       "\t4 & 0.0 & 0.0 & 0.0 & 0.0 & 1.41 \\\\\n",
       "\t5 & 0.0 & 0.0 & 0.0 & 0.0 & 46.9 \\\\\n",
       "\t6 & 0.0 & 0.0 & 0.0 & 0.0 & 0.0 \\\\\n",
       "\\end{tabular}\n"
      ],
      "text/plain": [
       "\u001b[1m6×5 DataFrame\u001b[0m\n",
       "\u001b[1m Row \u001b[0m│\u001b[1m 0.05    \u001b[0m\u001b[1m 0.25    \u001b[0m\u001b[1m 0.5     \u001b[0m\u001b[1m 0.75    \u001b[0m\u001b[1m 0.95    \u001b[0m\n",
       "     │\u001b[90m Float64 \u001b[0m\u001b[90m Float64 \u001b[0m\u001b[90m Float64 \u001b[0m\u001b[90m Float64 \u001b[0m\u001b[90m Float64 \u001b[0m\n",
       "─────┼─────────────────────────────────────────────\n",
       "   1 │     0.0      0.0      0.0      0.0     0.0\n",
       "   2 │     0.0      0.0      0.0      0.0    27.32\n",
       "   3 │     0.0      0.0      0.0      0.0     3.37\n",
       "   4 │     0.0      0.0      0.0      0.0     1.41\n",
       "   5 │     0.0      0.0      0.0      0.0    46.9\n",
       "   6 │     0.0      0.0      0.0      0.0     0.0"
      ]
     },
     "metadata": {},
     "output_type": "display_data"
    }
   ],
   "source": [
    "# ret 3y\n",
    "calculate_perc(result.assets_dist[2,:,:])\n"
   ]
  },
  {
   "cell_type": "code",
   "execution_count": 35,
   "metadata": {},
   "outputs": [
    {
     "ename": "MethodError",
     "evalue": "MethodError: no method matching render(::String, ::Main.GoalInvestingSDDP.Optimistion_Result; TITLE::String, input_data::GoalsData3)\n\nClosest candidates are:\n  render(::AbstractString, ::Any; tags) got unsupported keyword arguments \"TITLE\", \"input_data\"\n   @ Mustache C:\\Users\\matsz\\.julia\\packages\\Mustache\\d3gWb\\src\\render.jl:55\n  render(!Matched::Mustache.MustacheTokens, ::Any) got unsupported keyword arguments \"TITLE\", \"input_data\"\n   @ Mustache C:\\Users\\matsz\\.julia\\packages\\Mustache\\d3gWb\\src\\render.jl:30\n  render(::AbstractString; kwargs...)\n   @ Mustache C:\\Users\\matsz\\.julia\\packages\\Mustache\\d3gWb\\src\\render.jl:56\n",
     "output_type": "error",
     "traceback": [
      "MethodError: no method matching render(::String, ::Main.GoalInvestingSDDP.Optimistion_Result; TITLE::String, input_data::GoalsData3)\n",
      "\n",
      "Closest candidates are:\n",
      "  render(::AbstractString, ::Any; tags) got unsupported keyword arguments \"TITLE\", \"input_data\"\n",
      "   @ Mustache C:\\Users\\matsz\\.julia\\packages\\Mustache\\d3gWb\\src\\render.jl:55\n",
      "  render(!Matched::Mustache.MustacheTokens, ::Any) got unsupported keyword arguments \"TITLE\", \"input_data\"\n",
      "   @ Mustache C:\\Users\\matsz\\.julia\\packages\\Mustache\\d3gWb\\src\\render.jl:30\n",
      "  render(::AbstractString; kwargs...)\n",
      "   @ Mustache C:\\Users\\matsz\\.julia\\packages\\Mustache\\d3gWb\\src\\render.jl:56\n",
      "\n",
      "\n",
      "Stacktrace:\n",
      " [1] kwerr(::@NamedTuple{TITLE::String, input_data::GoalsData3}, ::Function, ::String, ::Main.GoalInvestingSDDP.Optimistion_Result)\n",
      "   @ Base .\\error.jl:165\n",
      " [2] print_report(result::Main.GoalInvestingSDDP.Optimistion_Result, input_data::GoalsData3, tpl_path::String)\n",
      "   @ Main.GoalInvestingSDDP c:\\Users\\matsz\\programowanie\\Optymalizacja_portfela\\julia_msp\\goal_investing_sddp_model.jl:157\n",
      " [3] top-level scope\n",
      "   @ c:\\Users\\matsz\\programowanie\\Optymalizacja_portfela\\julia_msp\\jl_notebook_cell_df34fa98e69747e1a8f8a730347b8e2f_X34sZmlsZQ==.jl:1"
     ]
    }
   ],
   "source": [
    "report = print_report(result, model_data, \"c:\\\\Users\\\\matsz\\\\programowanie\\\\Optymalizacja_portfela\\\\julia_msp\\\\reports\\\\tpl.html\")"
   ]
  },
  {
   "cell_type": "markdown",
   "metadata": {},
   "source": [
    "- simulate policy\n",
    "- generate report summary\n",
    "- save report"
   ]
  }
 ],
 "metadata": {
  "kernelspec": {
   "display_name": "Julia 1.10.2",
   "language": "julia",
   "name": "julia-1.10"
  },
  "language_info": {
   "file_extension": ".jl",
   "mimetype": "application/julia",
   "name": "julia",
   "version": "1.10.2"
  }
 },
 "nbformat": 4,
 "nbformat_minor": 2
}
