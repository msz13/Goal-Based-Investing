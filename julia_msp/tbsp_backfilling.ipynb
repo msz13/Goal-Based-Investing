{
 "cells": [
  {
   "cell_type": "code",
   "execution_count": 54,
   "metadata": {},
   "outputs": [],
   "source": [
    "using GLM\n",
    "using TimeSeries, DataFrames\n",
    "using XLSX\n",
    "using StatsBase\n",
    "using PrettyTables\n"
   ]
  },
  {
   "cell_type": "code",
   "execution_count": 326,
   "metadata": {},
   "outputs": [
    {
     "data": {
      "text/plain": [
       "615×10 TimeArray{Any, 2, Date, Matrix{Any}} 1973-01-31 to 2024-03-31\n",
       "┌────────────┬────────────┬─────────────┬──────────────┬──────────────┬─────────\n",
       "│\u001b[1m            \u001b[0m│\u001b[1m ACWI_Net   \u001b[0m│\u001b[1m USDPLN      \u001b[0m│\u001b[1m ACWI_Net_PLN \u001b[0m│\u001b[1m CPI_USA      \u001b[0m│\u001b[1m CPI_PL\u001b[0m ⋯\n",
       "├────────────┼────────────┼─────────────┼──────────────┼──────────────┼─────────\n",
       "│ 1973-01-31 │    missing │     missing │      missing │   0.00235344 │     mi ⋯\n",
       "│ 1973-02-28 │    missing │     missing │      missing │   0.00704374 │     mi ⋯\n",
       "│ 1973-03-31 │    missing │     missing │      missing │   0.00932044 │     mi ⋯\n",
       "│ 1973-04-30 │    missing │     missing │      missing │   0.00692989 │     mi ⋯\n",
       "│ 1973-05-31 │    missing │     missing │      missing │   0.00688219 │     mi ⋯\n",
       "│ 1973-06-30 │    missing │     missing │      missing │   0.00683515 │     mi ⋯\n",
       "│ 1973-07-31 │    missing │     missing │      missing │   0.00225755 │     mi ⋯\n",
       "│ 1973-08-31 │    missing │     missing │      missing │    0.0180626 │     mi ⋯\n",
       "│     ⋮      │     ⋮      │      ⋮      │      ⋮       │      ⋮       │      ⋮ ⋱\n",
       "│ 2023-09-30 │ -0.0413498 │   0.0593264 │    0.0155235 │   0.00248577 │ -0.003 ⋯\n",
       "│ 2023-10-31 │ -0.0300677 │  -0.0354715 │   -0.0644727 │ -0.000383491 │  0.002 ⋯\n",
       "│ 2023-11-30 │  0.0922975 │  -0.0512248 │    0.0363447 │  -0.00201526 │   0.00 ⋯\n",
       "│ 2023-12-31 │  0.0480334 │  -0.0157193 │     0.031559 │ -0.000993453 │  0.001 ⋯\n",
       "│ 2024-01-31 │ 0.00586165 │   0.0176607 │    0.0236258 │   0.00544741 │  0.003 ⋯\n",
       "│ 2024-02-29 │  0.0429137 │  -0.0025227 │    0.0402827 │   0.00619023 │  0.002 ⋯\n",
       "│ 2024-03-31 │  0.0313969 │ -0.00107674 │    0.0302864 │   0.00646376 │  0.002 ⋯\n",
       "└────────────┴────────────┴─────────────┴──────────────┴──────────────┴─────────\n",
       "\u001b[36m                                                  6 columns and 600 rows omitted\u001b[0m"
      ]
     },
     "metadata": {},
     "output_type": "display_data"
    }
   ],
   "source": [
    "data = DataFrame(XLSX.readtable(\"assets_data_03.24.xlsx\", \"Returns\";infer_eltypes=true))\n",
    "data = TimeArray(data,timestamp=:Date)\n",
    "\n"
   ]
  },
  {
   "cell_type": "code",
   "execution_count": 40,
   "metadata": {},
   "outputs": [
    {
     "data": {
      "text/plain": [
       "8-element Vector{Symbol}:\n",
       " :ACWI_Net\n",
       " :USDPLN\n",
       " :ACWI_Net_PLN\n",
       " :CPI_USA\n",
       " :CPI_PLN\n",
       " :TBSP\n",
       " :WIBOR3m\n",
       " :TenYPL"
      ]
     },
     "metadata": {},
     "output_type": "display_data"
    }
   ],
   "source": [
    "colnames(data)"
   ]
  },
  {
   "cell_type": "code",
   "execution_count": 237,
   "metadata": {},
   "outputs": [
    {
     "data": {
      "text/plain": [
       "returns_summarystats (generic function with 1 method)"
      ]
     },
     "metadata": {},
     "output_type": "display_data"
    }
   ],
   "source": [
    "function returns_summarystats(data::TimeArray,t)\n",
    "    names = colnames(data)\n",
    "    returns = transpose(values(data))\n",
    "    n_assets = size(returns)[1]\n",
    "\n",
    "    stats = [ Dict(\n",
    "        :mean => mean(returns[i,:]) * t, \n",
    "        :std => std(returns[i,:]) * t^0.5,\n",
    "        :median => median(returns[i,:] * t),\n",
    "        :skewness => skewness(returns[i,:]),\n",
    "        :kurtosis => kurtosis(returns[i,:]),\n",
    "        :autocor => autocor(returns[i,:],[1])[1],\n",
    "        :p25th => percentile(returns[i,:],25) * t,\n",
    "        :p75th => percentile(returns[i,:],75) * t,\n",
    "        :min => minimum(returns[i,:]) * t,\n",
    "        :max => maximum(returns[i,:]) * t,\n",
    "        ) for i in 1:n_assets ]\n",
    "\n",
    "    short_stats = pretty_table(stats, backend = Val(:html), row_labels = names)\n",
    "    return short_stats\n",
    "end\n",
    "\n"
   ]
  },
  {
   "cell_type": "code",
   "execution_count": 238,
   "metadata": {},
   "outputs": [
    {
     "data": {
      "text/plain": [
       "207×3 TimeArray{Float64, 2, Date, Matrix{Float64}} 2007-01-31 to 2024-03-31\n",
       "┌────────────┬─────────────┬────────────┬────────────┐\n",
       "│\u001b[1m            \u001b[0m│\u001b[1m TBSP        \u001b[0m│\u001b[1m WIBOR3m    \u001b[0m│\u001b[1m TenYPL     \u001b[0m│\n",
       "├────────────┼─────────────┼────────────┼────────────┤\n",
       "│ 2007-01-31 │     0.00626 │ 0.00349167 │     0.0043 │\n",
       "│ 2007-02-28 │ 0.000149067 │ 0.00351667 │ 0.00435333 │\n",
       "│ 2007-03-31 │  0.00510726 │ 0.00353333 │ 0.00434083 │\n",
       "│ 2007-04-30 │ 0.000692007 │ 0.00366667 │ 0.00443917 │\n",
       "│ 2007-05-31 │  0.00362559 │     0.0037 │ 0.00443917 │\n",
       "│ 2007-06-30 │ -0.00847508 │   0.003925 │ 0.00470083 │\n",
       "│ 2007-07-31 │  0.00471553 │ 0.00400833 │ 0.00466583 │\n",
       "│ 2007-08-31 │ -0.00094856 │ 0.00419167 │ 0.00482417 │\n",
       "│     ⋮      │      ⋮      │     ⋮      │     ⋮      │\n",
       "│ 2023-09-30 │  0.00622425 │ 0.00480833 │ 0.00491583 │\n",
       "│ 2023-10-31 │   0.0057372 │ 0.00471667 │ 0.00471167 │\n",
       "│ 2023-11-30 │  0.00315821 │ 0.00485833 │   0.004585 │\n",
       "│ 2023-12-31 │   0.0171423 │     0.0049 │  0.0043475 │\n",
       "│ 2024-01-31 │   0.0045132 │ 0.00488333 │   0.004355 │\n",
       "│ 2024-02-29 │ -0.00240331 │ 0.00488333 │ 0.00442667 │\n",
       "│ 2024-03-31 │ 0.000278949 │     0.0049 │ 0.00452667 │\n",
       "└────────────┴─────────────┴────────────┴────────────┘\n",
       "\u001b[36m                                      192 rows omitted\u001b[0m"
      ]
     },
     "metadata": {},
     "output_type": "display_data"
    }
   ],
   "source": [
    "short = Float64.(from(data[:TBSP, :WIBOR3m, :TenYPL],Date(2007,01,01)))"
   ]
  },
  {
   "cell_type": "code",
   "execution_count": 239,
   "metadata": {},
   "outputs": [
    {
     "data": {
      "text/html": [
       "<table>\n",
       "  <thead>\n",
       "    <tr class = \"header headerLastRow\">\n",
       "      <th class = \"rowLabel\" style = \"font-weight: bold; text-align: right;\"></th>\n",
       "      <th style = \"text-align: right;\">std</th>\n",
       "      <th style = \"text-align: right;\">min</th>\n",
       "      <th style = \"text-align: right;\">max</th>\n",
       "      <th style = \"text-align: right;\">mean</th>\n",
       "      <th style = \"text-align: right;\">skewness</th>\n",
       "      <th style = \"text-align: right;\">p25th</th>\n",
       "      <th style = \"text-align: right;\">autocor</th>\n",
       "      <th style = \"text-align: right;\">kurtosis</th>\n",
       "      <th style = \"text-align: right;\">p75th</th>\n",
       "      <th style = \"text-align: right;\">median</th>\n",
       "    </tr>\n",
       "  </thead>\n",
       "  <tbody>\n",
       "    <tr>\n",
       "      <td class = \"rowLabel\" style = \"font-weight: bold; text-align: right;\">TBSP</td>\n",
       "      <td style = \"text-align: right;\">0.0428527</td>\n",
       "      <td style = \"text-align: right;\">-0.502584</td>\n",
       "      <td style = \"text-align: right;\">0.827558</td>\n",
       "      <td style = \"text-align: right;\">0.0403455</td>\n",
       "      <td style = \"text-align: right;\">0.342799</td>\n",
       "      <td style = \"text-align: right;\">-0.0282004</td>\n",
       "      <td style = \"text-align: right;\">0.0553435</td>\n",
       "      <td style = \"text-align: right;\">5.80245</td>\n",
       "      <td style = \"text-align: right;\">0.104502</td>\n",
       "      <td style = \"text-align: right;\">0.0448318</td>\n",
       "    </tr>\n",
       "    <tr>\n",
       "      <td class = \"rowLabel\" style = \"font-weight: bold; text-align: right;\">WIBOR3m</td>\n",
       "      <td style = \"text-align: right;\">0.00580118</td>\n",
       "      <td style = \"text-align: right;\">0.0021</td>\n",
       "      <td style = \"text-align: right;\">0.0751</td>\n",
       "      <td style = \"text-align: right;\">0.0337908</td>\n",
       "      <td style = \"text-align: right;\">0.271898</td>\n",
       "      <td style = \"text-align: right;\">0.0172</td>\n",
       "      <td style = \"text-align: right;\">0.988687</td>\n",
       "      <td style = \"text-align: right;\">-1.03315</td>\n",
       "      <td style = \"text-align: right;\">0.04915</td>\n",
       "      <td style = \"text-align: right;\">0.0274</td>\n",
       "    </tr>\n",
       "    <tr>\n",
       "      <td class = \"rowLabel\" style = \"font-weight: bold; text-align: right;\">TenYPL</td>\n",
       "      <td style = \"text-align: right;\">0.00476751</td>\n",
       "      <td style = \"text-align: right;\">0.01149</td>\n",
       "      <td style = \"text-align: right;\">0.08337</td>\n",
       "      <td style = \"text-align: right;\">0.042673</td>\n",
       "      <td style = \"text-align: right;\">-0.144031</td>\n",
       "      <td style = \"text-align: right;\">0.02954</td>\n",
       "      <td style = \"text-align: right;\">0.977263</td>\n",
       "      <td style = \"text-align: right;\">-1.17253</td>\n",
       "      <td style = \"text-align: right;\">0.057915</td>\n",
       "      <td style = \"text-align: right;\">0.04218</td>\n",
       "    </tr>\n",
       "  </tbody>\n",
       "</table>\n"
      ]
     },
     "metadata": {},
     "output_type": "display_data"
    }
   ],
   "source": [
    "returns_summarystats(short,12)"
   ]
  },
  {
   "cell_type": "code",
   "execution_count": 199,
   "metadata": {},
   "outputs": [
    {
     "data": {
      "text/html": [
       "<table>\n",
       "  <thead>\n",
       "    <tr class = \"header headerLastRow\">\n",
       "      <th class = \"rowLabel\" style = \"font-weight: bold; text-align: right;\"></th>\n",
       "      <th style = \"text-align: right;\">std</th>\n",
       "      <th style = \"text-align: right;\">min</th>\n",
       "      <th style = \"text-align: right;\">max</th>\n",
       "      <th style = \"text-align: right;\">mean</th>\n",
       "      <th style = \"text-align: right;\">skewness</th>\n",
       "      <th style = \"text-align: right;\">p25th</th>\n",
       "      <th style = \"text-align: right;\">autocor</th>\n",
       "      <th style = \"text-align: right;\">kurtosis</th>\n",
       "      <th style = \"text-align: right;\">p75th</th>\n",
       "      <th style = \"text-align: right;\">median</th>\n",
       "    </tr>\n",
       "  </thead>\n",
       "  <tbody>\n",
       "    <tr>\n",
       "      <td class = \"rowLabel\" style = \"font-weight: bold; text-align: right;\">WIBOR3m</td>\n",
       "      <td style = \"text-align: right;\">0.0026271</td>\n",
       "      <td style = \"text-align: right;\">0.0413</td>\n",
       "      <td style = \"text-align: right;\">0.07</td>\n",
       "      <td style = \"text-align: right;\">0.0532854</td>\n",
       "      <td style = \"text-align: right;\">0.168329</td>\n",
       "      <td style = \"text-align: right;\">0.04475</td>\n",
       "      <td style = \"text-align: right;\">0.937251</td>\n",
       "      <td style = \"text-align: right;\">-1.21056</td>\n",
       "      <td style = \"text-align: right;\">0.05985</td>\n",
       "      <td style = \"text-align: right;\">0.0542</td>\n",
       "    </tr>\n",
       "    <tr>\n",
       "      <td class = \"rowLabel\" style = \"font-weight: bold; text-align: right;\">TenYPL</td>\n",
       "      <td style = \"text-align: right;\">0.00246801</td>\n",
       "      <td style = \"text-align: right;\">0.04622</td>\n",
       "      <td style = \"text-align: right;\">0.07497</td>\n",
       "      <td style = \"text-align: right;\">0.0581775</td>\n",
       "      <td style = \"text-align: right;\">0.642365</td>\n",
       "      <td style = \"text-align: right;\">0.05172</td>\n",
       "      <td style = \"text-align: right;\">0.912227</td>\n",
       "      <td style = \"text-align: right;\">-0.865177</td>\n",
       "      <td style = \"text-align: right;\">0.0661475</td>\n",
       "      <td style = \"text-align: right;\">0.055605</td>\n",
       "    </tr>\n",
       "  </tbody>\n",
       "</table>\n"
      ]
     },
     "metadata": {},
     "output_type": "display_data"
    }
   ],
   "source": [
    "varls = to(Float64.(from(data[:WIBOR3m, :TenYPL],Date(2003,01,01))),Date(2006,12,31))\n",
    "returns_summarystats(varls,12)"
   ]
  },
  {
   "cell_type": "code",
   "execution_count": 200,
   "metadata": {},
   "outputs": [
    {
     "data": {
      "text/plain": [
       "48×2 TimeArray{Float64, 2, Date, Matrix{Float64}} 2003-01-31 to 2006-12-31\n",
       "┌────────────┬────────────┬────────────┐\n",
       "│\u001b[1m            \u001b[0m│\u001b[1m WIBOR3m    \u001b[0m│\u001b[1m TenYPL     \u001b[0m│\n",
       "├────────────┼────────────┼────────────┤\n",
       "│ 2003-01-31 │ 0.00539167 │ 0.00477833 │\n",
       "│ 2003-02-28 │   0.005225 │  0.0046275 │\n",
       "│ 2003-03-31 │ 0.00498333 │   0.004565 │\n",
       "│ 2003-04-30 │ 0.00474167 │ 0.00441583 │\n",
       "│ 2003-05-31 │     0.0045 │ 0.00421583 │\n",
       "│ 2003-06-30 │ 0.00443333 │  0.0042525 │\n",
       "│ 2003-07-31 │ 0.00436667 │ 0.00472417 │\n",
       "│ 2003-08-31 │ 0.00428333 │ 0.00471167 │\n",
       "│     ⋮      │     ⋮      │     ⋮      │\n",
       "│ 2006-06-30 │ 0.00350833 │  0.0047375 │\n",
       "│ 2006-07-31 │ 0.00348333 │  0.0046675 │\n",
       "│ 2006-08-31 │ 0.00349167 │ 0.00466167 │\n",
       "│ 2006-09-30 │ 0.00351667 │ 0.00459167 │\n",
       "│ 2006-10-31 │ 0.00350833 │  0.0044175 │\n",
       "│ 2006-11-30 │     0.0035 │ 0.00431083 │\n",
       "│ 2006-12-31 │     0.0035 │  0.0043525 │\n",
       "└────────────┴────────────┴────────────┘\n",
       "\u001b[36m                         33 rows omitted\u001b[0m"
      ]
     },
     "metadata": {},
     "output_type": "display_data"
    }
   ],
   "source": [
    "varls"
   ]
  },
  {
   "cell_type": "code",
   "execution_count": 278,
   "metadata": {},
   "outputs": [
    {
     "data": {
      "text/plain": [
       "1×2 TimeArray{Bool, 2, Date, BitMatrix} 2006-12-31 to 2006-12-31\n",
       "┌────────────┬─────────┬────────┐\n",
       "│\u001b[1m            \u001b[0m│\u001b[1m WIBOR3m \u001b[0m│\u001b[1m TenYPL \u001b[0m│\n",
       "├────────────┼─────────┼────────┤\n",
       "│ 2006-12-31 │   false │  false │\n",
       "└────────────┴─────────┴────────┘"
      ]
     },
     "metadata": {},
     "output_type": "display_data"
    }
   ],
   "source": [
    "any(ismissing.(varls))"
   ]
  },
  {
   "cell_type": "code",
   "execution_count": 282,
   "metadata": {},
   "outputs": [
    {
     "data": {
      "text/plain": [
       "47×2 TimeArray{Float64, 2, Date, Matrix{Float64}} 2003-01-31 to 2006-11-30\n",
       "┌────────────┬────────────┬────────────┐\n",
       "│\u001b[1m            \u001b[0m│\u001b[1m WIBOR3m    \u001b[0m│\u001b[1m TenYPL     \u001b[0m│\n",
       "├────────────┼────────────┼────────────┤\n",
       "│ 2003-01-31 │ 0.00539167 │ 0.00477833 │\n",
       "│ 2003-02-28 │   0.005225 │  0.0046275 │\n",
       "│ 2003-03-31 │ 0.00498333 │   0.004565 │\n",
       "│ 2003-04-30 │ 0.00474167 │ 0.00441583 │\n",
       "│ 2003-05-31 │     0.0045 │ 0.00421583 │\n",
       "│ 2003-06-30 │ 0.00443333 │  0.0042525 │\n",
       "│ 2003-07-31 │ 0.00436667 │ 0.00472417 │\n",
       "│ 2003-08-31 │ 0.00428333 │ 0.00471167 │\n",
       "│     ⋮      │     ⋮      │     ⋮      │\n",
       "│ 2006-05-31 │ 0.00345833 │  0.0044425 │\n",
       "│ 2006-06-30 │ 0.00350833 │  0.0047375 │\n",
       "│ 2006-07-31 │ 0.00348333 │  0.0046675 │\n",
       "│ 2006-08-31 │ 0.00349167 │ 0.00466167 │\n",
       "│ 2006-09-30 │ 0.00351667 │ 0.00459167 │\n",
       "│ 2006-10-31 │ 0.00350833 │  0.0044175 │\n",
       "│ 2006-11-30 │     0.0035 │ 0.00431083 │\n",
       "└────────────┴────────────┴────────────┘\n",
       "\u001b[36m                         32 rows omitted\u001b[0m"
      ]
     },
     "metadata": {},
     "output_type": "display_data"
    }
   ],
   "source": [
    "varls[1:end-1]"
   ]
  },
  {
   "cell_type": "code",
   "execution_count": 286,
   "metadata": {},
   "outputs": [
    {
     "ename": "TypeError",
     "evalue": "TypeError: non-boolean (Missing) used in boolean context",
     "output_type": "error",
     "traceback": [
      "TypeError: non-boolean (Missing) used in boolean context\n",
      "\n",
      "Stacktrace:\n",
      " [1] allequal(x::Tuple{DataFrame, DataFrame})\n",
      "   @ TimeSeries C:\\Users\\matsz\\.julia\\packages\\TimeSeries\\zx7sJ\\src\\utilities.jl:107\n",
      " [2] copy(bc′::Base.Broadcast.Broadcasted{TimeSeries.TimeArrayStyle{2}, Nothing, typeof(-), Tuple{TimeArray{Float64, 2, Date, Matrix{Float64}}, TimeArray{Float64, 2, Date, Matrix{Float64}}}})\n",
      "   @ TimeSeries C:\\Users\\matsz\\.julia\\packages\\TimeSeries\\zx7sJ\\src\\broadcast.jl:26\n",
      " [3] materialize(bc::Base.Broadcast.Broadcasted{TimeSeries.TimeArrayStyle{2}, Nothing, typeof(-), Tuple{TimeArray{Float64, 2, Date, Matrix{Float64}}, TimeArray{Float64, 2, Date, Matrix{Float64}}}})\n",
      "   @ Base.Broadcast .\\broadcast.jl:903\n",
      " [4] top-level scope\n",
      "   @ c:\\Users\\matsz\\programowanie\\Optymalizacja_portfela\\julia_msp\\tbsp_backfilling.ipynb:1"
     ]
    }
   ],
   "source": [
    "diff_varls = varls[2:end] .- varls[1:end-1]"
   ]
  },
  {
   "cell_type": "code",
   "execution_count": 287,
   "metadata": {},
   "outputs": [
    {
     "data": {
      "text/plain": [
       "StatsModels.TableRegressionModel{LinearModel{GLM.LmResp{Vector{Float64}}, GLM.DensePredChol{Float64, LinearAlgebra.CholeskyPivoted{Float64, Matrix{Float64}, Vector{Int64}}}}, Matrix{Float64}}\n",
       "\n",
       "TBSP ~ 1 + WIBOR3m + TenYPL\n",
       "\n",
       "Coefficients:\n",
       "──────────────────────────────────────────────────────────────────────────────\n",
       "                   Coef.  Std. Error      t  Pr(>|t|)    Lower 95%   Upper 95%\n",
       "──────────────────────────────────────────────────────────────────────────────\n",
       "(Intercept)   0.00787004  0.00266261   2.96    0.0035   0.00262028   0.0131198\n",
       "WIBOR3m       4.73141     1.18903      3.98    <1e-04   2.38705      7.07577\n",
       "TenYPL       -5.01425     1.44683     -3.47    0.0006  -7.86691     -2.16159\n",
       "──────────────────────────────────────────────────────────────────────────────"
      ]
     },
     "metadata": {},
     "output_type": "display_data"
    }
   ],
   "source": [
    "ols = lm(@formula(TBSP ~ WIBOR3m + TenYPL), short[:TBSP, :WIBOR3m, :TenYPL])"
   ]
  },
  {
   "cell_type": "code",
   "execution_count": 152,
   "metadata": {},
   "outputs": [
    {
     "name": "stdout",
     "output_type": "stream",
     "text": [
      "0.0726\n"
     ]
    }
   ],
   "source": [
    "println(round(r2(ols),digits=4))\n"
   ]
  },
  {
   "cell_type": "code",
   "execution_count": 163,
   "metadata": {},
   "outputs": [
    {
     "data": {
      "text/plain": [
       "207-element Vector{Float64}:\n",
       "  0.003430716591018009\n",
       " -0.0025310752522496593\n",
       "  0.002285585345042713\n",
       " -0.0022674570120775547\n",
       "  0.0005084084603820815\n",
       " -0.011344760884167953\n",
       "  0.0012760621939868766\n",
       " -0.004461530558817827\n",
       "  0.0027820739511106307\n",
       "  0.0011500434712708452\n",
       "  ⋮\n",
       "  0.005338244277345139\n",
       " -0.009133260284113345\n",
       "  0.00025321597553191674\n",
       " -0.0008238605338106754\n",
       " -0.004708281211956773\n",
       "  0.007887752722751981\n",
       " -0.004624845680767025\n",
       " -0.011182006298309195\n",
       " -0.00807717870245278"
      ]
     },
     "metadata": {},
     "output_type": "display_data"
    }
   ],
   "source": [
    "res = residuals(ols)"
   ]
  },
  {
   "cell_type": "code",
   "execution_count": 164,
   "metadata": {},
   "outputs": [
    {
     "data": {
      "text/plain": [
       "0.029236942219919678"
      ]
     },
     "metadata": {},
     "output_type": "display_data"
    }
   ],
   "source": [
    "deviance(ols)"
   ]
  },
  {
   "cell_type": "code",
   "execution_count": 169,
   "metadata": {},
   "outputs": [
    {
     "data": {
      "text/plain": [
       "0.00014331834421529255"
      ]
     },
     "metadata": {},
     "output_type": "display_data"
    }
   ],
   "source": [
    "(sum(res.^2)/(207-3))"
   ]
  },
  {
   "cell_type": "code",
   "execution_count": 196,
   "metadata": {},
   "outputs": [
    {
     "data": {
      "text/plain": [
       "0.05483928570743096"
      ]
     },
     "metadata": {},
     "output_type": "display_data"
    },
    {
     "data": {
      "text/plain": [
       "0.010535360864781951"
      ]
     },
     "metadata": {},
     "output_type": "display_data"
    }
   ],
   "source": [
    "predicted = predict(ols,varls)\n",
    "display(mean(predicted)*12)\n",
    "display(std(predicted)*12^0.5)"
   ]
  },
  {
   "cell_type": "code",
   "execution_count": 259,
   "metadata": {},
   "outputs": [
    {
     "data": {
      "text/plain": [
       "1×48 Matrix{Float64}:\n",
       " -3.40154e-5  7.98157e-7  0.000125823  2.92536e-5  …  0.000164779  6.23259e-5"
      ]
     },
     "metadata": {},
     "output_type": "display_data"
    }
   ],
   "source": [
    "random_res = mean(rand(res,(10000,48)),dims=1)"
   ]
  },
  {
   "cell_type": "code",
   "execution_count": 262,
   "metadata": {},
   "outputs": [
    {
     "data": {
      "text/plain": [
       "0.054431100620797424"
      ]
     },
     "metadata": {},
     "output_type": "display_data"
    },
    {
     "data": {
      "text/plain": [
       "0.010535360864781951"
      ]
     },
     "metadata": {},
     "output_type": "display_data"
    }
   ],
   "source": [
    "backfilled = predicted .+ random_res[1]\n",
    "display(mean(backfilled)*12)\n",
    "display(std(backfilled)*12^0.5)"
   ]
  },
  {
   "cell_type": "code",
   "execution_count": 263,
   "metadata": {},
   "outputs": [
    {
     "data": {
      "text/plain": [
       "48×1 TimeArray{Float64, 1, Date, Vector{Float64}} 2003-01-31 to 2006-12-31\n",
       "┌────────────┬─────────────┐\n",
       "│\u001b[1m            \u001b[0m│\u001b[1m TBSP        \u001b[0m│\n",
       "├────────────┼─────────────┤\n",
       "│ 2003-01-31 │  0.00938647 │\n",
       "│ 2003-02-28 │  0.00935422 │\n",
       "│ 2003-03-31 │  0.00852418 │\n",
       "│ 2003-04-30 │  0.00812872 │\n",
       "│ 2003-05-31 │  0.00798814 │\n",
       "│ 2003-06-30 │  0.00748886 │\n",
       "│ 2003-07-31 │  0.00480838 │\n",
       "│ 2003-08-31 │  0.00447677 │\n",
       "│     ⋮      │      ⋮      │\n",
       "│ 2006-06-30 │ 0.000680391 │\n",
       "│ 2006-07-31 │ 0.000913103 │\n",
       "│ 2006-08-31 │ 0.000981781 │\n",
       "│ 2006-09-30 │  0.00145106 │\n",
       "│ 2006-10-31 │  0.00228495 │\n",
       "│ 2006-11-30 │  0.00278038 │\n",
       "│ 2006-12-31 │  0.00257145 │\n",
       "└────────────┴─────────────┘\n",
       "\u001b[36m             33 rows omitted\u001b[0m"
      ]
     },
     "metadata": {},
     "output_type": "display_data"
    }
   ],
   "source": [
    "backfilled = TimeArray(timestamp(varls),backfilled,[:TBSP])"
   ]
  },
  {
   "cell_type": "code",
   "execution_count": 264,
   "metadata": {},
   "outputs": [
    {
     "data": {
      "text/plain": [
       "48×3 TimeArray{Float64, 2, Date, Matrix{Float64}} 2003-01-31 to 2006-12-31\n",
       "┌────────────┬─────────────┬────────────┬────────────┐\n",
       "│\u001b[1m            \u001b[0m│\u001b[1m TBSP        \u001b[0m│\u001b[1m WIBOR3m    \u001b[0m│\u001b[1m TenYPL     \u001b[0m│\n",
       "├────────────┼─────────────┼────────────┼────────────┤\n",
       "│ 2003-01-31 │  0.00938647 │ 0.00539167 │ 0.00477833 │\n",
       "│ 2003-02-28 │  0.00935422 │   0.005225 │  0.0046275 │\n",
       "│ 2003-03-31 │  0.00852418 │ 0.00498333 │   0.004565 │\n",
       "│ 2003-04-30 │  0.00812872 │ 0.00474167 │ 0.00441583 │\n",
       "│ 2003-05-31 │  0.00798814 │     0.0045 │ 0.00421583 │\n",
       "│ 2003-06-30 │  0.00748886 │ 0.00443333 │  0.0042525 │\n",
       "│ 2003-07-31 │  0.00480838 │ 0.00436667 │ 0.00472417 │\n",
       "│ 2003-08-31 │  0.00447677 │ 0.00428333 │ 0.00471167 │\n",
       "│     ⋮      │      ⋮      │     ⋮      │     ⋮      │\n",
       "│ 2006-06-30 │ 0.000680391 │ 0.00350833 │  0.0047375 │\n",
       "│ 2006-07-31 │ 0.000913103 │ 0.00348333 │  0.0046675 │\n",
       "│ 2006-08-31 │ 0.000981781 │ 0.00349167 │ 0.00466167 │\n",
       "│ 2006-09-30 │  0.00145106 │ 0.00351667 │ 0.00459167 │\n",
       "│ 2006-10-31 │  0.00228495 │ 0.00350833 │  0.0044175 │\n",
       "│ 2006-11-30 │  0.00278038 │     0.0035 │ 0.00431083 │\n",
       "│ 2006-12-31 │  0.00257145 │     0.0035 │  0.0043525 │\n",
       "└────────────┴─────────────┴────────────┴────────────┘\n",
       "\u001b[36m                                       33 rows omitted\u001b[0m"
      ]
     },
     "metadata": {},
     "output_type": "display_data"
    }
   ],
   "source": [
    "ls = merge(backfilled, varls)"
   ]
  },
  {
   "cell_type": "code",
   "execution_count": 265,
   "metadata": {},
   "outputs": [
    {
     "data": {
      "text/plain": [
       "\"tbsp_backfilled.csv\""
      ]
     },
     "metadata": {},
     "output_type": "display_data"
    }
   ],
   "source": [
    "CSV.write(\"tbsp_backfilled.csv\",ls)"
   ]
  },
  {
   "cell_type": "code",
   "execution_count": 328,
   "metadata": {},
   "outputs": [
    {
     "data": {
      "text/plain": [
       "207×3 TimeArray{Float64, 2, Date, Matrix{Float64}} 2007-01-31 to 2024-03-31\n",
       "┌────────────┬─────────────┬──────────┬──────────┐\n",
       "│\u001b[1m            \u001b[0m│\u001b[1m TBSP        \u001b[0m│\u001b[1m dWIBOR3m \u001b[0m│\u001b[1m dTenYPL  \u001b[0m│\n",
       "├────────────┼─────────────┼──────────┼──────────┤\n",
       "│ 2007-01-31 │     0.00626 │  -0.0001 │ -0.00063 │\n",
       "│ 2007-02-28 │ 0.000149067 │   0.0003 │  0.00064 │\n",
       "│ 2007-03-31 │  0.00510726 │   0.0002 │ -0.00015 │\n",
       "│ 2007-04-30 │ 0.000692007 │   0.0016 │  0.00118 │\n",
       "│ 2007-05-31 │  0.00362559 │   0.0004 │      0.0 │\n",
       "│ 2007-06-30 │ -0.00847508 │   0.0027 │  0.00314 │\n",
       "│ 2007-07-31 │  0.00471553 │    0.001 │ -0.00042 │\n",
       "│ 2007-08-31 │ -0.00094856 │   0.0022 │   0.0019 │\n",
       "│     ⋮      │      ⋮      │    ⋮     │    ⋮     │\n",
       "│ 2023-09-30 │  0.00622425 │  -0.0088 │  0.00329 │\n",
       "│ 2023-10-31 │   0.0057372 │  -0.0011 │ -0.00245 │\n",
       "│ 2023-11-30 │  0.00315821 │   0.0017 │ -0.00152 │\n",
       "│ 2023-12-31 │   0.0171423 │   0.0005 │ -0.00285 │\n",
       "│ 2024-01-31 │   0.0045132 │  -0.0002 │   9.0e-5 │\n",
       "│ 2024-02-29 │ -0.00240331 │      0.0 │  0.00086 │\n",
       "│ 2024-03-31 │ 0.000278949 │   0.0002 │   0.0012 │\n",
       "└────────────┴─────────────┴──────────┴──────────┘\n",
       "\u001b[36m                                  192 rows omitted\u001b[0m"
      ]
     },
     "metadata": {},
     "output_type": "display_data"
    }
   ],
   "source": [
    "shortd = Float64.(from(data[:TBSP, :dWIBOR3m, :dTenYPL],Date(2007,01,01)))"
   ]
  },
  {
   "cell_type": "code",
   "execution_count": 329,
   "metadata": {},
   "outputs": [
    {
     "data": {
      "text/plain": [
       "StatsModels.TableRegressionModel{LinearModel{GLM.LmResp{Vector{Float64}}, GLM.DensePredChol{Float64, LinearAlgebra.CholeskyPivoted{Float64, Matrix{Float64}, Vector{Int64}}}}, Matrix{Float64}}\n",
       "\n",
       "TBSP ~ 1 + dWIBOR3m + dTenYPL\n",
       "\n",
       "Coefficients:\n",
       "─────────────────────────────────────────────────────────────────────────────────\n",
       "                   Coef.   Std. Error       t  Pr(>|t|)    Lower 95%    Upper 95%\n",
       "─────────────────────────────────────────────────────────────────────────────────\n",
       "(Intercept)   0.00346296  0.000230418   15.03    <1e-34   0.00300865   0.00391726\n",
       "dWIBOR3m     -0.835608    0.103688      -8.06    <1e-13  -1.04005     -0.631171\n",
       "dTenYPL      -3.26993     0.0739324    -44.23    <1e-99  -3.4157      -3.12416\n",
       "─────────────────────────────────────────────────────────────────────────────────"
      ]
     },
     "metadata": {},
     "output_type": "display_data"
    }
   ],
   "source": [
    "olsd = lm(@formula(TBSP ~ dWIBOR3m + dTenYPL), shortd)"
   ]
  },
  {
   "cell_type": "code",
   "execution_count": 330,
   "metadata": {},
   "outputs": [
    {
     "data": {
      "text/plain": [
       "0.9289694570840676"
      ]
     },
     "metadata": {},
     "output_type": "display_data"
    }
   ],
   "source": [
    "r2(olsd)"
   ]
  },
  {
   "cell_type": "code",
   "execution_count": 333,
   "metadata": {},
   "outputs": [
    {
     "data": {
      "text/html": [
       "<table>\n",
       "  <thead>\n",
       "    <tr class = \"header headerLastRow\">\n",
       "      <th class = \"rowLabel\" style = \"font-weight: bold; text-align: right;\"></th>\n",
       "      <th style = \"text-align: right;\">std</th>\n",
       "      <th style = \"text-align: right;\">min</th>\n",
       "      <th style = \"text-align: right;\">max</th>\n",
       "      <th style = \"text-align: right;\">mean</th>\n",
       "      <th style = \"text-align: right;\">skewness</th>\n",
       "      <th style = \"text-align: right;\">p25th</th>\n",
       "      <th style = \"text-align: right;\">autocor</th>\n",
       "      <th style = \"text-align: right;\">kurtosis</th>\n",
       "      <th style = \"text-align: right;\">p75th</th>\n",
       "      <th style = \"text-align: right;\">median</th>\n",
       "    </tr>\n",
       "  </thead>\n",
       "  <tbody>\n",
       "    <tr>\n",
       "      <td class = \"rowLabel\" style = \"font-weight: bold; text-align: right;\">dWIBOR3m</td>\n",
       "      <td style = \"text-align: right;\">0.00757375</td>\n",
       "      <td style = \"text-align: right;\">-0.0648</td>\n",
       "      <td style = \"text-align: right;\">0.0744</td>\n",
       "      <td style = \"text-align: right;\">-0.00579574</td>\n",
       "      <td style = \"text-align: right;\">0.936545</td>\n",
       "      <td style = \"text-align: right;\">-0.021</td>\n",
       "      <td style = \"text-align: right;\">0.479925</td>\n",
       "      <td style = \"text-align: right;\">2.07982</td>\n",
       "      <td style = \"text-align: right;\">0.0018</td>\n",
       "      <td style = \"text-align: right;\">-0.0048</td>\n",
       "    </tr>\n",
       "    <tr>\n",
       "      <td class = \"rowLabel\" style = \"font-weight: bold; text-align: right;\">dTenYPL</td>\n",
       "      <td style = \"text-align: right;\">0.0121559</td>\n",
       "      <td style = \"text-align: right;\">-0.09552</td>\n",
       "      <td style = \"text-align: right;\">0.12468</td>\n",
       "      <td style = \"text-align: right;\">-0.00130468</td>\n",
       "      <td style = \"text-align: right;\">0.437535</td>\n",
       "      <td style = \"text-align: right;\">-0.02172</td>\n",
       "      <td style = \"text-align: right;\">0.0740282</td>\n",
       "      <td style = \"text-align: right;\">0.717512</td>\n",
       "      <td style = \"text-align: right;\">0.02088</td>\n",
       "      <td style = \"text-align: right;\">-0.00588</td>\n",
       "    </tr>\n",
       "  </tbody>\n",
       "</table>\n"
      ]
     },
     "metadata": {},
     "output_type": "display_data"
    }
   ],
   "source": [
    "vardls = to(Float64.(from(data[:dWIBOR3m, :dTenYPL],Date(2003,02,01))),Date(2006,12,31))\n",
    "returns_summarystats(vardls,12)"
   ]
  },
  {
   "cell_type": "code",
   "execution_count": 334,
   "metadata": {},
   "outputs": [
    {
     "data": {
      "text/plain": [
       "0.050664694874785296"
      ]
     },
     "metadata": {},
     "output_type": "display_data"
    },
    {
     "data": {
      "text/plain": [
       "0.04350609268871154"
      ]
     },
     "metadata": {},
     "output_type": "display_data"
    }
   ],
   "source": [
    "predictedd = predict(olsd,vardls)\n",
    "display(mean(predictedd)*12)\n",
    "display(std(predictedd)*12^0.5)"
   ]
  },
  {
   "cell_type": "code",
   "execution_count": 335,
   "metadata": {},
   "outputs": [
    {
     "data": {
      "text/plain": [
       "47-element Vector{Union{Missing, Float64}}:\n",
       "  0.011052751399214019\n",
       "  0.0083386712729715\n",
       "  0.011739400134342434\n",
       "  0.013734058408800414\n",
       "  0.0026926754821313343\n",
       " -0.01437636745667285\n",
       "  0.004789056761768258\n",
       " -0.012414334697508274\n",
       " -0.03569240121221049\n",
       " -0.004166893857709727\n",
       "  ⋮\n",
       " -0.0020232761327380775\n",
       " -0.002001451988527866\n",
       " -0.008613963929931015\n",
       "  0.006460383834074508\n",
       "  0.0036082932297641424\n",
       "  0.005959018922689272\n",
       "  0.010380676693786142\n",
       "  0.007732032099833799\n",
       "  0.0018279930377693046"
      ]
     },
     "metadata": {},
     "output_type": "display_data"
    }
   ],
   "source": [
    "predictedd"
   ]
  },
  {
   "cell_type": "code",
   "execution_count": 336,
   "metadata": {},
   "outputs": [
    {
     "data": {
      "text/plain": [
       "207-element Vector{Float64}:\n",
       "  0.0006534234385229907\n",
       " -0.0009704533168588005\n",
       "  0.001320935508712469\n",
       "  0.002424540861044975\n",
       "  0.0004968710023352872\n",
       "  0.00058569170309156\n",
       "  0.0007148075577032217\n",
       "  0.003639688845070375\n",
       "  0.0011546612105229155\n",
       " -0.0021040380642500314\n",
       "  ⋮\n",
       "  0.0013210354772392463\n",
       "  0.002368484560918753\n",
       "  0.006166015574676678\n",
       " -0.006656255524975235\n",
       " -0.0038545150589394655\n",
       "  0.004777806539335044\n",
       "  0.0011774175418032074\n",
       " -0.003054128666302041\n",
       "  0.0009070292338371217"
      ]
     },
     "metadata": {},
     "output_type": "display_data"
    }
   ],
   "source": [
    "res = residuals(olsd)"
   ]
  },
  {
   "cell_type": "code",
   "execution_count": 337,
   "metadata": {},
   "outputs": [
    {
     "data": {
      "text/plain": [
       "1×48 Matrix{Float64}:\n",
       " -1.75078e-5  2.03757e-5  -1.45367e-5  …  -1.18314e-5  1.05926e-5  1.81259e-5"
      ]
     },
     "metadata": {},
     "output_type": "display_data"
    }
   ],
   "source": [
    "mean(rand(res,(10000,48)),dims=1)"
   ]
  },
  {
   "cell_type": "code",
   "execution_count": 338,
   "metadata": {},
   "outputs": [
    {
     "data": {
      "text/plain": [
       "0.05076962652647489"
      ]
     },
     "metadata": {},
     "output_type": "display_data"
    },
    {
     "data": {
      "text/plain": [
       "0.043050496637368416"
      ]
     },
     "metadata": {},
     "output_type": "display_data"
    },
    {
     "data": {
      "text/plain": [
       "47-element Vector{Float64}:\n",
       "  0.011035265102862526\n",
       "  0.008321184976620008\n",
       "  0.011721913837990941\n",
       "  0.013716572112448921\n",
       "  0.0026751891857798417\n",
       " -0.014393853753024342\n",
       "  0.004771570465416765\n",
       " -0.012431820993859767\n",
       " -0.03570988750856199\n",
       " -0.004184380154061219\n",
       "  ⋮\n",
       " -0.00204076242908957\n",
       " -0.0020189382848793585\n",
       " -0.008631450226282507\n",
       "  0.006442897537723016\n",
       "  0.00359080693341265\n",
       "  0.00594153262633778\n",
       "  0.010363190397434649\n",
       "  0.0077145458034823065\n",
       "  0.001810506741417812"
      ]
     },
     "metadata": {},
     "output_type": "display_data"
    }
   ],
   "source": [
    "backfilledd = predictedd .+ mean(rand(res,(10000,48)),dims=1)\n",
    "display(mean(backfilledd)*12)\n",
    "display(std(backfilledd)*12^0.5)\n",
    "backfilledd[:,1]"
   ]
  },
  {
   "cell_type": "code",
   "execution_count": 339,
   "metadata": {},
   "outputs": [
    {
     "data": {
      "text/plain": [
       "47×1 TimeArray{Float64, 1, Date, Vector{Float64}} 2003-02-28 to 2006-12-31\n",
       "┌────────────┬─────────────┐\n",
       "│\u001b[1m            \u001b[0m│\u001b[1m TBSP        \u001b[0m│\n",
       "├────────────┼─────────────┤\n",
       "│ 2003-02-28 │   0.0110353 │\n",
       "│ 2003-03-31 │  0.00832118 │\n",
       "│ 2003-04-30 │   0.0117219 │\n",
       "│ 2003-05-31 │   0.0137166 │\n",
       "│ 2003-06-30 │  0.00267519 │\n",
       "│ 2003-07-31 │  -0.0143939 │\n",
       "│ 2003-08-31 │  0.00477157 │\n",
       "│ 2003-09-30 │  -0.0124318 │\n",
       "│     ⋮      │      ⋮      │\n",
       "│ 2006-06-30 │ -0.00863145 │\n",
       "│ 2006-07-31 │   0.0064429 │\n",
       "│ 2006-08-31 │  0.00359081 │\n",
       "│ 2006-09-30 │  0.00594153 │\n",
       "│ 2006-10-31 │   0.0103632 │\n",
       "│ 2006-11-30 │  0.00771455 │\n",
       "│ 2006-12-31 │  0.00181051 │\n",
       "└────────────┴─────────────┘\n",
       "\u001b[36m             32 rows omitted\u001b[0m"
      ]
     },
     "metadata": {},
     "output_type": "display_data"
    }
   ],
   "source": [
    "backfilled = TimeArray(timestamp(vardls),backfilledd[:,1],[:TBSP])"
   ]
  },
  {
   "cell_type": "code",
   "execution_count": 340,
   "metadata": {},
   "outputs": [
    {
     "data": {
      "text/plain": [
       "\"tbsp_backfilledd.csv\""
      ]
     },
     "metadata": {},
     "output_type": "display_data"
    }
   ],
   "source": [
    "CSV.write(\"tbsp_backfilledd.csv\",backfilled)"
   ]
  }
 ],
 "metadata": {
  "kernelspec": {
   "display_name": "Julia 1.10.2",
   "language": "julia",
   "name": "julia-1.10"
  },
  "language_info": {
   "file_extension": ".jl",
   "mimetype": "application/julia",
   "name": "julia",
   "version": "1.10.2"
  }
 },
 "nbformat": 4,
 "nbformat_minor": 2
}
