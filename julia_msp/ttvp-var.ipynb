{
 "cells": [
  {
   "cell_type": "code",
   "execution_count": 15,
   "metadata": {},
   "outputs": [],
   "source": [
    "using Revise\n",
    "using Test"
   ]
  },
  {
   "cell_type": "code",
   "execution_count": 3,
   "metadata": {},
   "outputs": [],
   "source": [
    "includet(\"tvp-var.jl\")"
   ]
  },
  {
   "cell_type": "code",
   "execution_count": 5,
   "metadata": {},
   "outputs": [
    {
     "data": {
      "text/plain": [
       "3×8 Matrix{Float64}:\n",
       " 0.2005  0.1922  0.2061  0.1942  0.1767  0.1941  0.1849  0.2033\n",
       " 0.171   0.2092  0.2996  0.3096  0.3328  0.2253  0.2735  0.2494\n",
       " 0.1802  0.184   0.1707  0.1827  0.1631  0.1556  0.1759  0.1765"
      ]
     },
     "metadata": {},
     "output_type": "display_data"
    }
   ],
   "source": [
    "Β =  generate_coeffs([.2, .2, .2], [.1, .8, .1], [.0001, .0001, .0001], [.02, .005, .01] , 8)\n",
    "round.(Β, digits=4)"
   ]
  },
  {
   "cell_type": "code",
   "execution_count": 6,
   "metadata": {},
   "outputs": [
    {
     "data": {
      "text/plain": [
       "3×8 Matrix{Float64}:\n",
       " 0.1908  0.1985  0.1225  0.1305   0.1172   0.3132  0.3139   0.3117\n",
       " 0.1331  0.1356  0.1902  0.0863  -0.0517  -0.0347  0.0005  -0.0148\n",
       " 0.191   0.1794  0.1848  0.1882   0.1928   0.1985  0.2084   0.1977"
      ]
     },
     "metadata": {},
     "output_type": "display_data"
    }
   ],
   "source": [
    "Β =  generate_coeffs([.2, .2, .2], [.1, .8, .1], [.0001, .0001, .0001], [.02, .005, .01] , 8)\n",
    "round.(Β, digits=4)"
   ]
  },
  {
   "cell_type": "code",
   "execution_count": 7,
   "metadata": {},
   "outputs": [
    {
     "data": {
      "text/plain": [
       "2×9 Matrix{Float64}:\n",
       " 0.03  -0.128  -0.15   -0.118  -0.156  -0.039   0.007  -0.008  -0.06\n",
       " 0.05   0.017   0.031   0.143  -0.059  -0.153  -0.063   0.063  -0.032"
      ]
     },
     "metadata": {},
     "output_type": "display_data"
    }
   ],
   "source": [
    "vol = drawStochVolatility([0.03, 0.05], [0.01, 0.02], [0.6, 0.3], [0.005, 0.007], 8)\n",
    "\n",
    "round.(vol, digits=3)"
   ]
  },
  {
   "cell_type": "code",
   "execution_count": 9,
   "metadata": {},
   "outputs": [
    {
     "data": {
      "text/plain": [
       "10-element Vector{Float64}:\n",
       " -0.3\n",
       "  0.84\n",
       "  0.69\n",
       " -0.59\n",
       " -0.27\n",
       "  0.46\n",
       "  0.49\n",
       " -0.58\n",
       "  0.49\n",
       " -0.77"
      ]
     },
     "metadata": {},
     "output_type": "display_data"
    }
   ],
   "source": [
    "round.(rand(Uniform(-1,1),10), digits=2)"
   ]
  },
  {
   "cell_type": "code",
   "execution_count": 22,
   "metadata": {},
   "outputs": [
    {
     "data": {
      "text/plain": [
       "2×2 Matrix{Float64}:\n",
       " 0.9  0.0\n",
       " 0.0  0.15"
      ]
     },
     "metadata": {},
     "output_type": "display_data"
    }
   ],
   "source": []
  },
  {
   "cell_type": "code",
   "execution_count": 92,
   "metadata": {},
   "outputs": [
    {
     "ename": "DimensionMismatch",
     "evalue": "DimensionMismatch: A has dimensions (2,1) but B has dimensions (2,2)",
     "output_type": "error",
     "traceback": [
      "DimensionMismatch: A has dimensions (2,1) but B has dimensions (2,2)\n",
      "\n",
      "Stacktrace:\n",
      " [1] gemm_wrapper!(C::Matrix{Float64}, tA::Char, tB::Char, A::Matrix{Float64}, B::Matrix{Float64}, _add::LinearAlgebra.MulAddMul{true, true, Bool, Bool})\n",
      "   @ LinearAlgebra C:\\Users\\matsz\\.julia\\juliaup\\julia-1.10.2+0.x64.w64.mingw32\\share\\julia\\stdlib\\v1.10\\LinearAlgebra\\src\\matmul.jl:577\n",
      " [2] generic_matmatmul!\n",
      "   @ C:\\Users\\matsz\\.julia\\juliaup\\julia-1.10.2+0.x64.w64.mingw32\\share\\julia\\stdlib\\v1.10\\LinearAlgebra\\src\\matmul.jl:352 [inlined]\n",
      " [3] mul!\n",
      "   @ C:\\Users\\matsz\\.julia\\juliaup\\julia-1.10.2+0.x64.w64.mingw32\\share\\julia\\stdlib\\v1.10\\LinearAlgebra\\src\\matmul.jl:263 [inlined]\n",
      " [4] mul!\n",
      "   @ C:\\Users\\matsz\\.julia\\juliaup\\julia-1.10.2+0.x64.w64.mingw32\\share\\julia\\stdlib\\v1.10\\LinearAlgebra\\src\\matmul.jl:237 [inlined]\n",
      " [5] *(A::Matrix{Float64}, B::Adjoint{Float64, Matrix{Float64}})\n",
      "   @ LinearAlgebra C:\\Users\\matsz\\.julia\\juliaup\\julia-1.10.2+0.x64.w64.mingw32\\share\\julia\\stdlib\\v1.10\\LinearAlgebra\\src\\matmul.jl:113\n",
      " [6] *\n",
      "   @ C:\\Users\\matsz\\.julia\\juliaup\\julia-1.10.2+0.x64.w64.mingw32\\share\\julia\\stdlib\\v1.10\\LinearAlgebra\\src\\matmul.jl:62 [inlined]\n",
      " [7] k_gain(P_predicted::Vector{Float64}, X::Matrix{Float64}, Σ::Vector{Float64})\n",
      "   @ Main c:\\Users\\matsz\\programowanie\\Optymalizacja_portfela\\julia_msp\\tvp-var.jl:95\n",
      " [8] top-level scope\n",
      "   @ c:\\Users\\matsz\\programowanie\\Optymalizacja_portfela\\julia_msp\\jl_notebook_cell_df34fa98e69747e1a8f8a730347b8e2f_X15sZmlsZQ==.jl:2"
     ]
    }
   ],
   "source": [
    "@test(residuals([0 0], [0.52 -0.35], [0.3 0.25]) == [-0.156 0.0875])\n",
    "k_gain([0.02; 0.01], [0.5 -0.35; 0.5 -0.35], [0.9; 0.15])"
   ]
  },
  {
   "cell_type": "code",
   "execution_count": 58,
   "metadata": {},
   "outputs": [
    {
     "ename": "DimensionMismatch",
     "evalue": "DimensionMismatch: A has dimensions (2,1) but B has dimensions (2,2)",
     "output_type": "error",
     "traceback": [
      "DimensionMismatch: A has dimensions (2,1) but B has dimensions (2,2)\n",
      "\n",
      "Stacktrace:\n",
      " [1] gemm_wrapper!(C::Matrix{Float64}, tA::Char, tB::Char, A::Matrix{Float64}, B::Matrix{Float64}, _add::LinearAlgebra.MulAddMul{true, true, Bool, Bool})\n",
      "   @ LinearAlgebra C:\\Users\\matsz\\.julia\\juliaup\\julia-1.10.2+0.x64.w64.mingw32\\share\\julia\\stdlib\\v1.10\\LinearAlgebra\\src\\matmul.jl:577\n",
      " [2] generic_matmatmul!\n",
      "   @ C:\\Users\\matsz\\.julia\\juliaup\\julia-1.10.2+0.x64.w64.mingw32\\share\\julia\\stdlib\\v1.10\\LinearAlgebra\\src\\matmul.jl:352 [inlined]\n",
      " [3] mul!\n",
      "   @ C:\\Users\\matsz\\.julia\\juliaup\\julia-1.10.2+0.x64.w64.mingw32\\share\\julia\\stdlib\\v1.10\\LinearAlgebra\\src\\matmul.jl:263 [inlined]\n",
      " [4] mul!\n",
      "   @ C:\\Users\\matsz\\.julia\\juliaup\\julia-1.10.2+0.x64.w64.mingw32\\share\\julia\\stdlib\\v1.10\\LinearAlgebra\\src\\matmul.jl:237 [inlined]\n",
      " [5] *(A::Matrix{Float64}, B::Adjoint{Float64, Matrix{Float64}})\n",
      "   @ LinearAlgebra C:\\Users\\matsz\\.julia\\juliaup\\julia-1.10.2+0.x64.w64.mingw32\\share\\julia\\stdlib\\v1.10\\LinearAlgebra\\src\\matmul.jl:113\n",
      " [6] *(a::Vector{Float64}, adjB::Adjoint{Float64, Matrix{Float64}})\n",
      "   @ LinearAlgebra C:\\Users\\matsz\\.julia\\juliaup\\julia-1.10.2+0.x64.w64.mingw32\\share\\julia\\stdlib\\v1.10\\LinearAlgebra\\src\\matmul.jl:62\n",
      " [7] top-level scope\n",
      "   @ c:\\Users\\matsz\\programowanie\\Optymalizacja_portfela\\julia_msp\\jl_notebook_cell_df34fa98e69747e1a8f8a730347b8e2f_X21sZmlsZQ==.jl:3"
     ]
    }
   ],
   "source": [
    "v = [0.5 -0.35; 0.5 -0.35] * [0.02, 0.01] \n",
    "\n",
    "v * [0.5 -0.35; 0.5 -0.35]'"
   ]
  },
  {
   "cell_type": "code",
   "execution_count": 73,
   "metadata": {},
   "outputs": [
    {
     "data": {
      "text/plain": [
       "2-element Vector{Int64}:\n",
       "  5\n",
       " 11"
      ]
     },
     "metadata": {},
     "output_type": "display_data"
    }
   ],
   "source": [
    "[1 2; 3 4] * [1, 2] "
   ]
  },
  {
   "cell_type": "code",
   "execution_count": 70,
   "metadata": {},
   "outputs": [
    {
     "data": {
      "text/plain": [
       "1×2 Matrix{Int64}:\n",
       " 27  59"
      ]
     },
     "metadata": {},
     "output_type": "display_data"
    }
   ],
   "source": [
    "[5 11] * [1 2; 3 4]'"
   ]
  },
  {
   "cell_type": "code",
   "execution_count": 72,
   "metadata": {},
   "outputs": [
    {
     "data": {
      "text/plain": [
       "2-element Vector{Int64}:\n",
       " 27\n",
       " 59"
      ]
     },
     "metadata": {},
     "output_type": "display_data"
    }
   ],
   "source": [
    "[1 2; 3 4] ^ 2 * [1, 2]"
   ]
  },
  {
   "cell_type": "code",
   "execution_count": 77,
   "metadata": {},
   "outputs": [
    {
     "ename": "DimensionMismatch",
     "evalue": "DimensionMismatch: matrix A has dimensions (2,1), matrix B has dimensions (2,2)",
     "output_type": "error",
     "traceback": [
      "DimensionMismatch: matrix A has dimensions (2,1), matrix B has dimensions (2,2)\n",
      "\n",
      "Stacktrace:\n",
      " [1] _generic_matmatmul!(C::Matrix{Int64}, tA::Char, tB::Char, A::Matrix{Int64}, B::Matrix{Int64}, _add::LinearAlgebra.MulAddMul{true, true, Bool, Bool})\n",
      "   @ LinearAlgebra C:\\Users\\matsz\\.julia\\juliaup\\julia-1.10.2+0.x64.w64.mingw32\\share\\julia\\stdlib\\v1.10\\LinearAlgebra\\src\\matmul.jl:794\n",
      " [2] generic_matmatmul!(C::Matrix{Int64}, tA::Char, tB::Char, A::Matrix{Int64}, B::Matrix{Int64}, _add::LinearAlgebra.MulAddMul{true, true, Bool, Bool})\n",
      "   @ LinearAlgebra C:\\Users\\matsz\\.julia\\juliaup\\julia-1.10.2+0.x64.w64.mingw32\\share\\julia\\stdlib\\v1.10\\LinearAlgebra\\src\\matmul.jl:783\n",
      " [3] mul!\n",
      "   @ C:\\Users\\matsz\\.julia\\juliaup\\julia-1.10.2+0.x64.w64.mingw32\\share\\julia\\stdlib\\v1.10\\LinearAlgebra\\src\\matmul.jl:263 [inlined]\n",
      " [4] mul!\n",
      "   @ C:\\Users\\matsz\\.julia\\juliaup\\julia-1.10.2+0.x64.w64.mingw32\\share\\julia\\stdlib\\v1.10\\LinearAlgebra\\src\\matmul.jl:237 [inlined]\n",
      " [5] *\n",
      "   @ C:\\Users\\matsz\\.julia\\juliaup\\julia-1.10.2+0.x64.w64.mingw32\\share\\julia\\stdlib\\v1.10\\LinearAlgebra\\src\\matmul.jl:106 [inlined]\n",
      " [6] *(a::Vector{Int64}, tB::Transpose{Int64, Matrix{Int64}})\n",
      "   @ LinearAlgebra C:\\Users\\matsz\\.julia\\juliaup\\julia-1.10.2+0.x64.w64.mingw32\\share\\julia\\stdlib\\v1.10\\LinearAlgebra\\src\\matmul.jl:61\n",
      " [7] *(::Matrix{Int64}, ::Vector{Int64}, ::Transpose{Int64, Matrix{Int64}})\n",
      "   @ Base .\\operators.jl:587\n",
      " [8] top-level scope\n",
      "   @ c:\\Users\\matsz\\programowanie\\Optymalizacja_portfela\\julia_msp\\jl_notebook_cell_df34fa98e69747e1a8f8a730347b8e2f_X25sZmlsZQ==.jl:1"
     ]
    }
   ],
   "source": []
  },
  {
   "cell_type": "code",
   "execution_count": 11,
   "metadata": {},
   "outputs": [
    {
     "ename": "UndefVarError",
     "evalue": "UndefVarError: `kalmanFilter` not defined",
     "output_type": "error",
     "traceback": [
      "UndefVarError: `kalmanFilter` not defined\n",
      "\n",
      "Stacktrace:\n",
      " [1] top-level scope\n",
      "   @ c:\\Users\\matsz\\programowanie\\Optymalizacja_portfela\\julia_msp\\jl_notebook_cell_df34fa98e69747e1a8f8a730347b8e2f_X13sZmlsZQ==.jl:7"
     ]
    }
   ],
   "source": [
    "Β0 = 0.3\n",
    "P0 = 0.03\n",
    "Σ = 0.15\n",
    "ν = 0.02\n",
    "X =  [0.52 -0.76 0.84 -0.99 0.44 -0.02 -0.21 0.95 -0.66 -0.59]\n",
    "Y = [-0.19 -0.48 0.78 -0.69 0.59 -0.1  0.37 0.57 -0.47 0.88]\n",
    "kalmanFilter(X, Β0, P0, Σ, ν)"
   ]
  },
  {
   "cell_type": "code",
   "execution_count": 12,
   "metadata": {},
   "outputs": [],
   "source": []
  }
 ],
 "metadata": {
  "kernelspec": {
   "display_name": "Julia 1.10.2",
   "language": "julia",
   "name": "julia-1.10"
  },
  "language_info": {
   "file_extension": ".jl",
   "mimetype": "application/julia",
   "name": "julia",
   "version": "1.10.2"
  }
 },
 "nbformat": 4,
 "nbformat_minor": 2
}
