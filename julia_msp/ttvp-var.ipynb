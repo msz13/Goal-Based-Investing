{
 "cells": [
  {
   "cell_type": "code",
   "execution_count": 1,
   "metadata": {},
   "outputs": [],
   "source": [
    "using Revise\n",
    "using Test"
   ]
  },
  {
   "cell_type": "code",
   "execution_count": 2,
   "metadata": {},
   "outputs": [],
   "source": [
    "includet(\"tvp-var.jl\")"
   ]
  },
  {
   "cell_type": "code",
   "execution_count": 242,
   "metadata": {},
   "outputs": [
    {
     "data": {
      "text/plain": [
       "80×1×2 Array{Float64, 3}:\n",
       "[:, :, 1] =\n",
       " 0.2025\n",
       " 0.1926\n",
       " 0.1979\n",
       " 0.1966\n",
       " 0.2143\n",
       " 0.22\n",
       " 0.2145\n",
       " 0.2379\n",
       " 0.2386\n",
       " 0.2487\n",
       " ⋮\n",
       " 0.3051\n",
       " 0.3047\n",
       " 0.2835\n",
       " 0.289\n",
       " 0.2771\n",
       " 0.2713\n",
       " 0.2918\n",
       " 0.303\n",
       " 0.3005\n",
       "\n",
       "[:, :, 2] =\n",
       " 0.4042\n",
       " 0.4004\n",
       " 0.4081\n",
       " 0.426\n",
       " 0.4019\n",
       " 0.3977\n",
       " 0.408\n",
       " 0.4097\n",
       " 0.4327\n",
       " 0.4214\n",
       " ⋮\n",
       " 0.2854\n",
       " 0.288\n",
       " 0.3025\n",
       " 0.326\n",
       " 0.3517\n",
       " 0.3523\n",
       " 0.3459\n",
       " 0.3171\n",
       " 0.2924"
      ]
     },
     "metadata": {},
     "output_type": "display_data"
    }
   ],
   "source": [
    "coef = generate_coeffs([0.2 0.4], [1. 1.], [0.001 0.001], [0.01 0.02], 80)\n",
    "\n",
    "round.(coef, digits=4)"
   ]
  },
  {
   "cell_type": "code",
   "execution_count": 243,
   "metadata": {},
   "outputs": [
    {
     "data": {
      "text/plain": [
       "2-element Vector{Float64}:\n",
       "  0.8\n",
       " -0.91"
      ]
     },
     "metadata": {},
     "output_type": "display_data"
    }
   ],
   "source": [
    "round.(rand(Uniform(-1,1),2), digits=2)"
   ]
  },
  {
   "cell_type": "code",
   "execution_count": 244,
   "metadata": {},
   "outputs": [
    {
     "data": {
      "text/plain": [
       "0.042300000000000004"
      ]
     },
     "metadata": {},
     "output_type": "display_data"
    },
    {
     "data": {
      "text/plain": [
       "2-element Vector{Float64}:\n",
       " 0.07092198581560283\n",
       " 0.02364066193853428"
      ]
     },
     "metadata": {},
     "output_type": "display_data"
    },
    {
     "data": {
      "text/plain": [
       "-0.125"
      ]
     },
     "metadata": {},
     "output_type": "display_data"
    },
    {
     "data": {
      "text/plain": [
       "2-element Vector{Float64}:\n",
       " 0.5911347517730496\n",
       " 0.39704491725768326"
      ]
     },
     "metadata": {},
     "output_type": "display_data"
    },
    {
     "data": {
      "text/plain": [
       "2×2 Matrix{Float64}:\n",
       "  0.0492908    -0.000212766\n",
       " -0.000236407   0.0299291"
      ]
     },
     "metadata": {},
     "output_type": "display_data"
    }
   ],
   "source": [
    "#init params\n",
    "B0 = [0.6, 0.4]\n",
    "P0 = diagm([.05, .03])\n",
    "ν = diagm([.015, .01])\n",
    "Y = .035\n",
    "X = [0.2, 0.1]'\n",
    "σ = 0.04\n",
    "\n",
    "\n",
    "S = measurement_cov(X, P0, σ)\n",
    "display(S)\n",
    "K = k_gain(X,ν, S)\n",
    "display(K)\n",
    "res = residuals(Y, X, B0)\n",
    "display(res)\n",
    "states = update_state(B0, K, res)\n",
    "display(states)\n",
    "filtered_cov = update_cov(P0, K, X) \n",
    "display(filtered_cov)\n",
    "#[0. 0.] + (K * res)' \n"
   ]
  },
  {
   "cell_type": "code",
   "execution_count": 245,
   "metadata": {},
   "outputs": [
    {
     "data": {
      "text/plain": [
       "2-element Vector{Float64}:\n",
       " 0.5622\n",
       " 0.3884"
      ]
     },
     "metadata": {},
     "output_type": "display_data"
    },
    {
     "data": {
      "text/plain": [
       "2×2 Matrix{Float64}:\n",
       "  0.0611  -0.0012\n",
       " -0.0012   0.0396"
      ]
     },
     "metadata": {},
     "output_type": "display_data"
    }
   ],
   "source": [
    "B0 = [0.6, 0.4]\n",
    "P0 = diagm([.05, .03])\n",
    "ν = diagm([.015, .01])\n",
    "Y = .035\n",
    "X = [0.2, 0.1]\n",
    "σ = 0.04\n",
    "\n",
    "res = kalman_step2(B0,P0, Y, X, σ, ν)\n",
    "\n",
    "display(round.(res[1], digits=4))\n",
    "display(round.(res[2], digits=4))"
   ]
  },
  {
   "cell_type": "code",
   "execution_count": 260,
   "metadata": {},
   "outputs": [
    {
     "data": {
      "text/plain": [
       "80×2 Matrix{Float64}:\n",
       "  0.2    0.13\n",
       "  0.09   0.08\n",
       "  0.07  -0.19\n",
       "  0.1   -0.03\n",
       "  0.0   -0.02\n",
       "  0.15   0.05\n",
       "  0.08  -0.02\n",
       " -0.14   0.15\n",
       "  0.08   0.09\n",
       " -0.04  -0.04\n",
       "  ⋮     \n",
       " -0.01  -0.12\n",
       " -0.16  -0.2\n",
       " -0.15  -0.08\n",
       "  0.03   0.08\n",
       " -0.0    0.23\n",
       "  0.13   0.18\n",
       "  0.07   0.19\n",
       " -0.04   0.06\n",
       " -0.08  -0.02"
      ]
     },
     "metadata": {},
     "output_type": "display_data"
    }
   ],
   "source": [
    "X1 = [.54 .92]\n",
    "\n",
    "\n",
    "X_test = round.(sample(X1, coef, .09, 80)', digits=2)[2:end,:]"
   ]
  },
  {
   "cell_type": "code",
   "execution_count": 261,
   "metadata": {},
   "outputs": [
    {
     "data": {
      "text/plain": [
       "79-element Vector{Float64}:\n",
       "  0.09\n",
       "  0.07\n",
       "  0.1\n",
       "  0.0\n",
       "  0.15\n",
       "  0.08\n",
       " -0.14\n",
       "  0.08\n",
       " -0.04\n",
       " -0.06\n",
       "  ⋮\n",
       " -0.01\n",
       " -0.16\n",
       " -0.15\n",
       "  0.03\n",
       " -0.0\n",
       "  0.13\n",
       "  0.07\n",
       " -0.04\n",
       " -0.08"
      ]
     },
     "metadata": {},
     "output_type": "display_data"
    }
   ],
   "source": [
    "Y = X_test[2:end,1]"
   ]
  },
  {
   "cell_type": "code",
   "execution_count": 272,
   "metadata": {},
   "outputs": [
    {
     "data": {
      "text/plain": [
       "2-element Vector{Float64}:\n",
       " 0.2\n",
       " 0.13"
      ]
     },
     "metadata": {},
     "output_type": "display_data"
    },
    {
     "data": {
      "text/plain": [
       "0.09"
      ]
     },
     "metadata": {},
     "output_type": "display_data"
    }
   ],
   "source": [
    "display(X_test[1, :])\n",
    "display(Y[1])\n"
   ]
  },
  {
   "cell_type": "code",
   "execution_count": 273,
   "metadata": {},
   "outputs": [
    {
     "data": {
      "text/plain": [
       "80×2 Matrix{Float64}:\n",
       "  0.0      0.0\n",
       "  0.002    0.0026\n",
       "  0.0034   0.005\n",
       "  0.0057  -0.0074\n",
       "  0.0056  -0.0074\n",
       "  0.0056  -0.0106\n",
       "  0.0134  -0.0055\n",
       "  0.0048  -0.0011\n",
       " -0.0045   0.019\n",
       " -0.0078   0.012\n",
       "  ⋮       \n",
       "  0.1441  -0.1859\n",
       "  0.1682  -0.0856\n",
       "  0.2471   0.0282\n",
       "  0.2144   0.0057\n",
       "  0.2137   0.0034\n",
       "  0.2137   0.1082\n",
       "  0.2224   0.1212\n",
       "  0.2093   0.0755\n",
       "  0.2214   0.059"
      ]
     },
     "metadata": {},
     "output_type": "display_data"
    },
    {
     "data": {
      "text/plain": [
       "\"cov\""
      ]
     },
     "metadata": {},
     "output_type": "display_data"
    },
    {
     "data": {
      "text/plain": [
       "80×2×2 Array{Float64, 3}:\n",
       "[:, :, 1] =\n",
       " 0.0      0.0\n",
       " 0.01    -0.0001\n",
       " 0.0199  -0.0001\n",
       " 0.0299   0.0001\n",
       " 0.0397   0.0002\n",
       " 0.0497   0.0002\n",
       " 0.0588  -0.0003\n",
       " 0.0685  -0.0002\n",
       " 0.0772   0.0026\n",
       " 0.0866   0.0013\n",
       " ⋮       \n",
       " 0.3138   0.0803\n",
       " 0.3221   0.0731\n",
       " 0.294    0.0181\n",
       " 0.2818   0.0029\n",
       " 0.2909  -0.0001\n",
       " 0.3009  -0.0001\n",
       " 0.2955  -0.0232\n",
       " 0.3027  -0.0331\n",
       " 0.3104  -0.0299\n",
       "\n",
       "[:, :, 2] =\n",
       "  0.0     0.0\n",
       " -0.0001  0.0199\n",
       " -0.0001  0.0398\n",
       "  0.0001  0.0584\n",
       "  0.0002  0.0784\n",
       "  0.0002  0.0983\n",
       " -0.0003  0.1179\n",
       " -0.0002  0.1378\n",
       "  0.0026  0.1519\n",
       "  0.0013  0.1693\n",
       "  ⋮       \n",
       "  0.0803  0.4197\n",
       "  0.0731  0.41\n",
       "  0.0181  0.3507\n",
       "  0.0029  0.3602\n",
       " -0.0001  0.3702\n",
       " -0.0001  0.3174\n",
       " -0.0232  0.3027\n",
       " -0.0331  0.2879\n",
       " -0.0299  0.3036"
      ]
     },
     "metadata": {},
     "output_type": "display_data"
    }
   ],
   "source": [
    "B0 = [0.0, 0.0]\n",
    "P0 = diagm([.00, .00])\n",
    "ν = diagm([.01, .02])\n",
    "σ = 0.09\n",
    "res = kalmanFilter2(X_test[1:end-1,:], Y, B0, P0, σ, ν)\n",
    "\n",
    "display(round.(res[1], digits=4))\n",
    "display(\"cov\")\n",
    "display(round.(res[2], digits=4))"
   ]
  },
  {
   "cell_type": "code",
   "execution_count": 274,
   "metadata": {},
   "outputs": [
    {
     "data": {
      "text/plain": [
       "2-element Vector{Float64}:\n",
       " 0.264\n",
       " 0.082"
      ]
     },
     "metadata": {},
     "output_type": "display_data"
    }
   ],
   "source": [
    "s = smooth_state([0.28, 0.09], [0.2, .05], diagm([0.04, 0.08]), diagm([0.01, 0.02]))\n",
    "\n",
    "round.(s, digits=4)"
   ]
  },
  {
   "cell_type": "code",
   "execution_count": 275,
   "metadata": {},
   "outputs": [
    {
     "data": {
      "text/plain": [
       "2×2 Matrix{Float64}:\n",
       " 0.008  0.0\n",
       " 0.0    0.016"
      ]
     },
     "metadata": {},
     "output_type": "display_data"
    }
   ],
   "source": [
    "c = smooth_cov(diagm([0.04, 0.08]), diagm([0.01, 0.02]))"
   ]
  },
  {
   "cell_type": "code",
   "execution_count": 276,
   "metadata": {},
   "outputs": [
    {
     "data": {
      "text/plain": [
       "80×2 Matrix{Float64}:\n",
       "  0.0      0.0\n",
       " -0.0601   0.0323\n",
       "  0.0252  -0.0679\n",
       "  0.0658  -0.2741\n",
       " -0.0409  -0.1932\n",
       "  0.0731  -0.1208\n",
       "  0.1292   0.0857\n",
       "  0.021    0.1077\n",
       "  0.0171   0.2395\n",
       "  0.1294   0.2381\n",
       "  ⋮       \n",
       "  0.6143   0.2032\n",
       "  0.3777   0.1563\n",
       "  0.4156   0.148\n",
       "  0.4285   0.3407\n",
       "  0.3727   0.1104\n",
       "  0.2734   0.2851\n",
       "  0.2376   0.5121\n",
       "  0.1624   0.6622\n",
       "  0.1701   0.4014"
      ]
     },
     "metadata": {},
     "output_type": "display_data"
    }
   ],
   "source": [
    "S_filtered = res[1]\n",
    "P_filtered = res[2]\n",
    "\n",
    "sampled = simulation_smoother(S_filtered, P_filtered, ν)\n",
    "\n",
    "round.(sampled, digits=4)"
   ]
  },
  {
   "cell_type": "code",
   "execution_count": 277,
   "metadata": {},
   "outputs": [],
   "source": [
    "n_draws = 10_000\n",
    "\n",
    "coeff_post = zeros(n_draws,80, 2)\n",
    "\n",
    "for d in 1:n_draws\n",
    "    coeff_post[d, :, :] = carter_kohn(X_test[1:end-1,:], Y, B0, P0, σ, ν)\n",
    "end"
   ]
  },
  {
   "cell_type": "code",
   "execution_count": 282,
   "metadata": {},
   "outputs": [
    {
     "data": {
      "text/plain": [
       "1×2 Matrix{Float64}:\n",
       " 0.0161428  0.00270553"
      ]
     },
     "metadata": {},
     "output_type": "display_data"
    }
   ],
   "source": [
    "mean(coeff_post[:,3,:], dims=1)"
   ]
  }
 ],
 "metadata": {
  "kernelspec": {
   "display_name": "Julia 1.10.2",
   "language": "julia",
   "name": "julia-1.10"
  },
  "language_info": {
   "file_extension": ".jl",
   "mimetype": "application/julia",
   "name": "julia",
   "version": "1.10.2"
  }
 },
 "nbformat": 4,
 "nbformat_minor": 2
}
