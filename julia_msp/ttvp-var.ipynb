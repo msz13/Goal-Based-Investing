{
 "cells": [
  {
   "cell_type": "code",
   "execution_count": 1,
   "metadata": {},
   "outputs": [],
   "source": [
    "using Revise"
   ]
  },
  {
   "cell_type": "code",
   "execution_count": 6,
   "metadata": {},
   "outputs": [],
   "source": [
    "includet(\"tvp-var.jl\")"
   ]
  },
  {
   "cell_type": "code",
   "execution_count": 7,
   "metadata": {},
   "outputs": [
    {
     "data": {
      "text/plain": [
       "0.2404662811790583"
      ]
     },
     "metadata": {},
     "output_type": "display_data"
    }
   ],
   "source": [
    "step(1, .4, 0.3, .001, 0.02, .09, SVparams(0.05, 0.7))"
   ]
  },
  {
   "cell_type": "code",
   "execution_count": 37,
   "metadata": {},
   "outputs": [
    {
     "data": {
      "text/plain": [
       "3×8 Matrix{Float64}:\n",
       " 0.202   0.2079  0.2205  0.2204  0.2136  0.2176  0.2215  0.202\n",
       " 0.0635  0.0952  0.117   0.1732  0.0934  0.1122  0.1099  0.0613\n",
       " 0.2015  0.2091  0.2048  0.2084  0.2155  0.2106  0.2127  0.1994"
      ]
     },
     "metadata": {},
     "output_type": "display_data"
    }
   ],
   "source": [
    "Β =  generate_coeffs([.2, .2, .2], [.1, .8, .1], [.0001, .0001, .0001], [.02, .005, .01] , 8)\n",
    "round.(Β, digits=4)"
   ]
  },
  {
   "cell_type": "code",
   "execution_count": 36,
   "metadata": {},
   "outputs": [
    {
     "data": {
      "text/plain": [
       "3×8 Matrix{Float64}:\n",
       " 0.3039  0.2887  0.2886  0.2785  0.276   0.286   0.2874  0.283\n",
       " 0.1804  0.1104  0.113   0.0608  0.0239  0.1181  0.1162  0.1093\n",
       " 0.2107  0.207   0.2228  0.2145  0.22    0.231   0.2213  0.216"
      ]
     },
     "metadata": {},
     "output_type": "display_data"
    }
   ],
   "source": [
    "Β =  generate_coeffs([.2, .2, .2], [.1, .8, .1], [.0001, .0001, .0001], [.02, .005, .01] , 8)\n",
    "round.(Β, digits=4)"
   ]
  }
 ],
 "metadata": {
  "kernelspec": {
   "display_name": "Julia 1.10.2",
   "language": "julia",
   "name": "julia-1.10"
  },
  "language_info": {
   "file_extension": ".jl",
   "mimetype": "application/julia",
   "name": "julia",
   "version": "1.10.2"
  }
 },
 "nbformat": 4,
 "nbformat_minor": 2
}
