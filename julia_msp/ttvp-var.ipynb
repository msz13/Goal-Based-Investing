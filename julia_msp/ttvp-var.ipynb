{
 "cells": [
  {
   "cell_type": "code",
   "execution_count": 1,
   "metadata": {},
   "outputs": [],
   "source": [
    "using Revise\n",
    "using Test"
   ]
  },
  {
   "cell_type": "code",
   "execution_count": 2,
   "metadata": {},
   "outputs": [],
   "source": [
    "includet(\"tvp-var.jl\")"
   ]
  },
  {
   "cell_type": "code",
   "execution_count": 3,
   "metadata": {},
   "outputs": [
    {
     "data": {
      "text/plain": [
       "8×2×2 Array{Float64, 3}:\n",
       "[:, :, 1] =\n",
       " 0.0449606  0.210534\n",
       " 0.047042   0.203877\n",
       " 0.0463575  0.212497\n",
       " 0.051806   0.211082\n",
       " 0.0521946  0.213788\n",
       " 0.0518883  0.212587\n",
       " 0.0586757  0.211801\n",
       " 0.0570373  0.207326\n",
       "\n",
       "[:, :, 2] =\n",
       " 0.0628069  0.415029\n",
       " 0.0630053  0.402155\n",
       " 0.0680509  0.389482\n",
       " 0.0675822  0.430523\n",
       " 0.0517099  0.418194\n",
       " 0.0548726  0.428162\n",
       " 0.0431382  0.426869\n",
       " 0.0345367  0.455174"
      ]
     },
     "metadata": {},
     "output_type": "display_data"
    }
   ],
   "source": [
    "coef = generate_coeffs([0.03 0.05; 0.2 0.4], [0.8 0.8; 0.8 0.8], [0.001 0.001; 0.001 0.001], [0.01 0.02; 0.01 0.02], 8)\n",
    "\n"
   ]
  },
  {
   "cell_type": "code",
   "execution_count": 4,
   "metadata": {},
   "outputs": [
    {
     "data": {
      "text/plain": [
       "2×2 Matrix{Float64}:\n",
       " 0.057  0.035\n",
       " 0.207  0.455"
      ]
     },
     "metadata": {},
     "output_type": "display_data"
    }
   ],
   "source": [
    "round.(coef[8, :, :], digits=3)"
   ]
  },
  {
   "cell_type": "code",
   "execution_count": 5,
   "metadata": {},
   "outputs": [
    {
     "data": {
      "text/plain": [
       "1×2 Matrix{Float64}:\n",
       " 0.035  0.01"
      ]
     },
     "metadata": {},
     "output_type": "display_data"
    }
   ],
   "source": [
    "coef = generate_coeffs([0.03 0.05], [0.6 0.6], [0.001 0.001], [0.01 0.02], 8)\n",
    "\n",
    "round.(coef[2, :, :], digits=3)"
   ]
  },
  {
   "cell_type": "code",
   "execution_count": 6,
   "metadata": {},
   "outputs": [
    {
     "name": "stdout",
     "output_type": "stream",
     "text": [
      "\u001b[91m\u001b[1mError During Test\u001b[22m\u001b[39m at \u001b[39m\u001b[1mc:\\Users\\matsz\\programowanie\\Optymalizacja_portfela\\julia_msp\\jl_notebook_cell_df34fa98e69747e1a8f8a730347b8e2f_W6sZmlsZQ==.jl:1\u001b[22m\n",
      "  Test threw exception\n",
      "  Expression: residuals([0 0], [0.52 -0.35], [0.3 0.25]) == [-0.156 0.0875]\n",
      "  DimensionMismatch: A has dimensions (1,2) but B has dimensions (1,2)\n",
      "  Stacktrace:\n",
      "   [1] \u001b[0m\u001b[1mgemm_wrapper!\u001b[22m\u001b[0m\u001b[1m(\u001b[22m\u001b[90mC\u001b[39m::\u001b[0mMatrix\u001b[90m{Float64}\u001b[39m, \u001b[90mtA\u001b[39m::\u001b[0mChar, \u001b[90mtB\u001b[39m::\u001b[0mChar, \u001b[90mA\u001b[39m::\u001b[0mMatrix\u001b[90m{Float64}\u001b[39m, \u001b[90mB\u001b[39m::\u001b[0mMatrix\u001b[90m{Float64}\u001b[39m, \u001b[90m_add\u001b[39m::\u001b[0mLinearAlgebra.MulAddMul\u001b[90m{true, true, Bool, Bool}\u001b[39m\u001b[0m\u001b[1m)\u001b[22m\n",
      "  \u001b[90m   @\u001b[39m \u001b[35mLinearAlgebra\u001b[39m \u001b[90mC:\\Users\\matsz\\.julia\\juliaup\\julia-1.10.2+0.x64.w64.mingw32\\share\\julia\\stdlib\\v1.10\\LinearAlgebra\\src\\\u001b[39m\u001b[90m\u001b[4mmatmul.jl:577\u001b[24m\u001b[39m\n",
      "   [2] \u001b[0m\u001b[1mgeneric_matmatmul!\u001b[22m\n",
      "  \u001b[90m   @\u001b[39m \u001b[90mC:\\Users\\matsz\\.julia\\juliaup\\julia-1.10.2+0.x64.w64.mingw32\\share\\julia\\stdlib\\v1.10\\LinearAlgebra\\src\\\u001b[39m\u001b[90m\u001b[4mmatmul.jl:352\u001b[24m\u001b[39m\u001b[90m [inlined]\u001b[39m\n",
      "   [3] \u001b[0m\u001b[1mmul!\u001b[22m\n",
      "  \u001b[90m   @\u001b[39m \u001b[90mC:\\Users\\matsz\\.julia\\juliaup\\julia-1.10.2+0.x64.w64.mingw32\\share\\julia\\stdlib\\v1.10\\LinearAlgebra\\src\\\u001b[39m\u001b[90m\u001b[4mmatmul.jl:263\u001b[24m\u001b[39m\u001b[90m [inlined]\u001b[39m\n",
      "   [4] \u001b[0m\u001b[1mmul!\u001b[22m\n",
      "  \u001b[90m   @\u001b[39m \u001b[90mC:\\Users\\matsz\\.julia\\juliaup\\julia-1.10.2+0.x64.w64.mingw32\\share\\julia\\stdlib\\v1.10\\LinearAlgebra\\src\\\u001b[39m\u001b[90m\u001b[4mmatmul.jl:237\u001b[24m\u001b[39m\u001b[90m [inlined]\u001b[39m\n",
      "   [5] \u001b[0m\u001b[1m*\u001b[22m\u001b[0m\u001b[1m(\u001b[22m\u001b[90mA\u001b[39m::\u001b[0mMatrix\u001b[90m{Float64}\u001b[39m, \u001b[90mB\u001b[39m::\u001b[0mMatrix\u001b[90m{Float64}\u001b[39m\u001b[0m\u001b[1m)\u001b[22m\n",
      "  \u001b[90m   @\u001b[39m \u001b[35mLinearAlgebra\u001b[39m \u001b[90mC:\\Users\\matsz\\.julia\\juliaup\\julia-1.10.2+0.x64.w64.mingw32\\share\\julia\\stdlib\\v1.10\\LinearAlgebra\\src\\\u001b[39m\u001b[90m\u001b[4mmatmul.jl:113\u001b[24m\u001b[39m\n",
      "   [6] \u001b[0m\u001b[1mresiduals\u001b[22m\u001b[0m\u001b[1m(\u001b[22m\u001b[90mY\u001b[39m::\u001b[0mMatrix\u001b[90m{Int64}\u001b[39m, \u001b[90mX\u001b[39m::\u001b[0mMatrix\u001b[90m{Float64}\u001b[39m, \u001b[90mΒ\u001b[39m::\u001b[0mMatrix\u001b[90m{Float64}\u001b[39m\u001b[0m\u001b[1m)\u001b[22m\n",
      "  \u001b[90m   @\u001b[39m \u001b[36mMain\u001b[39m \u001b[90mc:\\Users\\matsz\\programowanie\\Optymalizacja_portfela\\julia_msp\\\u001b[39m\u001b[90m\u001b[4mtvp-var.jl:105\u001b[24m\u001b[39m\n",
      "   [7] \u001b[0m\u001b[1mmacro expansion\u001b[22m\n",
      "  \u001b[90m   @\u001b[39m \u001b[90mC:\\Users\\matsz\\.julia\\juliaup\\julia-1.10.2+0.x64.w64.mingw32\\share\\julia\\stdlib\\v1.10\\Test\\src\\\u001b[39m\u001b[90m\u001b[4mTest.jl:669\u001b[24m\u001b[39m\u001b[90m [inlined]\u001b[39m\n",
      "   [8] top-level scope\n",
      "  \u001b[90m   @\u001b[39m \u001b[90mc:\\Users\\matsz\\programowanie\\Optymalizacja_portfela\\julia_msp\\\u001b[39m\u001b[90m\u001b[4mjl_notebook_cell_df34fa98e69747e1a8f8a730347b8e2f_W6sZmlsZQ==.jl:1\u001b[24m\u001b[39m\n"
     ]
    },
    {
     "ename": "Test.FallbackTestSetException",
     "evalue": "Test.FallbackTestSetException(\"There was an error during testing\")",
     "output_type": "error",
     "traceback": [
      "Test.FallbackTestSetException(\"There was an error during testing\")\n",
      "\n",
      "Stacktrace:\n",
      " [1] record(ts::Test.FallbackTestSet, t::Union{Test.Error, Test.Fail})\n",
      "   @ Test C:\\Users\\matsz\\.julia\\juliaup\\julia-1.10.2+0.x64.w64.mingw32\\share\\julia\\stdlib\\v1.10\\Test\\src\\Test.jl:1000\n",
      " [2] do_test(result::Test.ExecutionResult, orig_expr::Any)\n",
      "   @ Test C:\\Users\\matsz\\.julia\\juliaup\\julia-1.10.2+0.x64.w64.mingw32\\share\\julia\\stdlib\\v1.10\\Test\\src\\Test.jl:705\n",
      " [3] macro expansion\n",
      "   @ C:\\Users\\matsz\\.julia\\juliaup\\julia-1.10.2+0.x64.w64.mingw32\\share\\julia\\stdlib\\v1.10\\Test\\src\\Test.jl:672 [inlined]\n",
      " [4] top-level scope\n",
      "   @ c:\\Users\\matsz\\programowanie\\Optymalizacja_portfela\\julia_msp\\jl_notebook_cell_df34fa98e69747e1a8f8a730347b8e2f_W6sZmlsZQ==.jl:1"
     ]
    }
   ],
   "source": [
    "@test(residuals([0 0], [0.52 -0.35], [0.3 0.25]) == [-0.156 0.0875])\n"
   ]
  },
  {
   "cell_type": "code",
   "execution_count": 7,
   "metadata": {},
   "outputs": [
    {
     "data": {
      "text/plain": [
       "2×2 Matrix{Float64}:\n",
       " 0.0  0.0\n",
       " 0.0  0.0"
      ]
     },
     "metadata": {},
     "output_type": "display_data"
    }
   ],
   "source": [
    "k_gain([0.0 0.0; 0.0 0.0], [0.45 -0.36; 0.45 -0.36], diagm([0.09, 0.12]))"
   ]
  },
  {
   "cell_type": "code",
   "execution_count": 8,
   "metadata": {},
   "outputs": [
    {
     "data": {
      "text/plain": [
       "10×2×2 Array{Float64, 3}:\n",
       "[:, :, 1] =\n",
       "  0.0197017   0.218535\n",
       "  0.0169635   0.217458\n",
       "  0.0336107   0.21727\n",
       "  0.0452607   0.22559\n",
       "  0.0358599   0.217236\n",
       "  0.0285633   0.218658\n",
       "  0.00477769  0.232028\n",
       " -0.0103034   0.231827\n",
       " -0.0101963   0.232285\n",
       " -0.0163757   0.231108\n",
       "\n",
       "[:, :, 2] =\n",
       " 0.0363988  0.391332\n",
       " 0.0365803  0.380712\n",
       " 0.0378507  0.377771\n",
       " 0.036882   0.368546\n",
       " 0.0365219  0.351921\n",
       " 0.0368815  0.332802\n",
       " 0.0506529  0.359965\n",
       " 0.0492017  0.287499\n",
       " 0.0762839  0.270353\n",
       " 0.0758084  0.281279"
      ]
     },
     "metadata": {},
     "output_type": "display_data"
    }
   ],
   "source": [
    "Β = generate_coeffs([0.03 0.05; 0.2 0.4], [0.8 0.8; 0.8 0.8], [0.001 0.001; 0.001 0.001], [0.01 0.02; 0.01 0.02], 10)"
   ]
  },
  {
   "cell_type": "code",
   "execution_count": 9,
   "metadata": {},
   "outputs": [
    {
     "data": {
      "text/plain": [
       "2-element Vector{Float64}:\n",
       " -0.48\n",
       "  0.32"
      ]
     },
     "metadata": {},
     "output_type": "display_data"
    }
   ],
   "source": [
    "round.(rand(Uniform(-1,1),2), digits=2)"
   ]
  },
  {
   "cell_type": "code",
   "execution_count": 10,
   "metadata": {},
   "outputs": [
    {
     "data": {
      "text/plain": [
       "2×2 Matrix{Float64}:\n",
       " 0.0197017  0.0363988\n",
       " 0.218535   0.391332"
      ]
     },
     "metadata": {},
     "output_type": "display_data"
    }
   ],
   "source": [
    "Β[1,:,:]"
   ]
  },
  {
   "cell_type": "code",
   "execution_count": 11,
   "metadata": {},
   "outputs": [
    {
     "data": {
      "text/plain": [
       "-0.03312"
      ]
     },
     "metadata": {},
     "output_type": "display_data"
    }
   ],
   "source": [
    "0.029 * -0.48 + 0.04 * -0.48"
   ]
  },
  {
   "cell_type": "code",
   "execution_count": 12,
   "metadata": {},
   "outputs": [
    {
     "ename": "UndefVarError",
     "evalue": "UndefVarError: `X` not defined",
     "output_type": "error",
     "traceback": [
      "UndefVarError: `X` not defined\n",
      "\n",
      "Stacktrace:\n",
      " [1] top-level scope\n",
      "   @ c:\\Users\\matsz\\programowanie\\Optymalizacja_portfela\\julia_msp\\jl_notebook_cell_df34fa98e69747e1a8f8a730347b8e2f_X50sZmlsZQ==.jl:1"
     ]
    }
   ],
   "source": [
    "Β[1,:,:] * X[:,1]"
   ]
  },
  {
   "cell_type": "code",
   "execution_count": 139,
   "metadata": {},
   "outputs": [
    {
     "data": {
      "text/plain": [
       "9×2 Matrix{Float64}:\n",
       " 0.9    0.75\n",
       " 0.6    0.55\n",
       " 0.4    0.78\n",
       " 0.24   1.0\n",
       " 0.26   0.81\n",
       " 0.49   0.61\n",
       " 0.56   0.01\n",
       " 0.4   -0.38\n",
       " 0.05  -0.04"
      ]
     },
     "metadata": {},
     "output_type": "display_data"
    }
   ],
   "source": [
    "X1 = [.9 .75]\n",
    "Β0 = [0.9 0.6; 0.3 0.5 ]\n",
    "\n",
    "params = TTVAR_Result([.9 .9; .9 .9], \n",
    "    [.001 .001; .001 .001], \n",
    "    [.015 .015; .015 .015],\n",
    "    diagm([.1, .1])\n",
    "    )\n",
    "\n",
    "round.(sample(X1, Β0, params, 8)', digits=2)"
   ]
  },
  {
   "cell_type": "code",
   "execution_count": 15,
   "metadata": {},
   "outputs": [
    {
     "data": {
      "text/plain": [
       "2×2 Matrix{Float64}:\n",
       " 0.0101843   0.00522623\n",
       " 0.00675747  0.0160974"
      ]
     },
     "metadata": {},
     "output_type": "display_data"
    }
   ],
   "source": [
    "#init params\n",
    "B0 = [0 0; 0 0]\n",
    "P0 = [0 0; 0 0]\n",
    "ν = [.011 .007; .009 0.021]\n",
    "Y = [.035 .04]\n",
    "X = [.03 .045; .03 0.45]\n",
    "Σ = diagm([.01, .015])\n",
    "\n",
    "#predict \n",
    "Β1 = B0\n",
    "P1 = P0 +  ν\n",
    "\n",
    "\n",
    "F = X * P1 * X' + Σ  #state transision\n",
    "K = P1 * X' * inv(F) # kalman gain\n",
    "\n",
    "res = Y .- Β1 * X #residuals\n",
    "\n",
    "Β_f = B0 + K * res #Beta measurement\n",
    "P_f = P1 - K * X * P1 #covariance measurmenet"
   ]
  },
  {
   "cell_type": "code",
   "execution_count": 152,
   "metadata": {},
   "outputs": [
    {
     "data": {
      "text/plain": [
       "([0.008092924060680146 0.009249056069348739; 0.020620110247199317 0.023565840282513503], [0.01018431704856401 0.005226226564953576; 0.0067574702480278775 0.016097352342686905])"
      ]
     },
     "metadata": {},
     "output_type": "display_data"
    }
   ],
   "source": [
    "#init params\n",
    "B0 = [0 0; 0 0]\n",
    "P0 = [0 0; 0 0]\n",
    "ν = [.011 .007; .009 0.021]\n",
    "Y = [.035 .04]\n",
    "X = [.03 .045; .03 0.45]\n",
    "Σ = diagm([.01, .015])\n",
    "\n",
    "kalman_step(B0, P0, Y, X, Σ, ν)"
   ]
  },
  {
   "cell_type": "code",
   "execution_count": 174,
   "metadata": {},
   "outputs": [
    {
     "data": {
      "text/plain": [
       "8×2×2 Array{Float64, 3}:\n",
       "[:, :, 1] =\n",
       " 0.9    0.75\n",
       " 0.6    0.55\n",
       " 0.4    0.78\n",
       " 0.24   1.0\n",
       " 0.26   0.81\n",
       " 0.49   0.61\n",
       " 0.56   0.01\n",
       " 0.4   -0.38\n",
       "\n",
       "[:, :, 2] =\n",
       " 0.9    0.75\n",
       " 0.6    0.55\n",
       " 0.4    0.78\n",
       " 0.24   1.0\n",
       " 0.26   0.81\n",
       " 0.49   0.61\n",
       " 0.56   0.01\n",
       " 0.4   -0.38"
      ]
     },
     "metadata": {},
     "output_type": "display_data"
    }
   ],
   "source": [
    "X = [0.9 0.75;\n",
    "0.6 0.55;\n",
    "0.4 0.78;\n",
    "0.24 1.0;\n",
    "0.26 0.81;\n",
    "0.49 0.61;\n",
    "0.56 0.01;\n",
    "0.4 -0.38]\n",
    "\n",
    "reshape(repeat(X,1,2), (8,2,2))"
   ]
  },
  {
   "cell_type": "code",
   "execution_count": 184,
   "metadata": {},
   "outputs": [
    {
     "data": {
      "text/plain": [
       "9×2×2 Array{Float64, 3}:\n",
       "[:, :, 1] =\n",
       " 0.0       0.0\n",
       " 0.279468  0.349336\n",
       " 0.403874  0.504843\n",
       " 0.481627  0.602034\n",
       " 0.460683  0.575853\n",
       " 0.457667  0.572084\n",
       " 0.286507  0.358134\n",
       " 0.427008  0.53376\n",
       " 0.465071  0.581338\n",
       "\n",
       "[:, :, 2] =\n",
       " 0.0       0.0\n",
       " 0.279468  0.349336\n",
       " 0.403874  0.504843\n",
       " 0.481627  0.602034\n",
       " 0.460683  0.575853\n",
       " 0.457667  0.572084\n",
       " 0.286507  0.358134\n",
       " 0.427008  0.53376\n",
       " 0.465071  0.581338"
      ]
     },
     "metadata": {},
     "output_type": "display_data"
    }
   ],
   "source": [
    "X = [0.9 0.75;\n",
    "0.6 0.55;\n",
    "0.4 0.78;\n",
    "0.24 1.0;\n",
    "0.26 0.81;\n",
    "0.49 0.61;\n",
    "0.56 0.01;\n",
    "0.4 -0.38]\n",
    "\n",
    "X = reshape(repeat(X,1,2), (8,2,2))\n",
    "\n",
    "Y = [0.6 0.55;\n",
    "0.4 0.78;\n",
    "0.24 1.0;\n",
    "0.26 0.81;\n",
    "0.49 0.61;\n",
    "0.56 0.01;\n",
    "0.4 -0.38;\n",
    "0.05 -0.04]\n",
    "\n",
    "B0 = [0 0; 0 0]\n",
    "P0 = [0 0; 0 0]\n",
    "Σ = diagm([.01, .015])\n",
    "ν = [.015 .025; .015 .035]\n",
    "res = kalmanFilter(X, Y, B0, P0, Σ, ν)\n",
    "\n",
    "res[1]"
   ]
  },
  {
   "cell_type": "code",
   "execution_count": 183,
   "metadata": {},
   "outputs": [
    {
     "data": {
      "text/plain": [
       "9×2×2 Array{Float64, 3}:\n",
       "[:, :, 1] =\n",
       " 0.0          0.0\n",
       " 0.00280969  -0.000237891\n",
       " 0.00556446  -0.00054442\n",
       " 0.00724201  -0.00219749\n",
       " 0.00847471  -0.00440661\n",
       " 0.0107908   -0.00526147\n",
       " 0.0125456   -0.00681805\n",
       " 0.015307    -0.00711628\n",
       " 0.0          0.0\n",
       "\n",
       "[:, :, 2] =\n",
       "  0.0          0.0\n",
       "  0.000619374  0.00452422\n",
       "  0.00112893   0.00891116\n",
       " -0.000515986  0.010605\n",
       " -0.00305058   0.0111868\n",
       " -0.00341835   0.0144771\n",
       " -0.00490887   0.0163639\n",
       " -0.00438604   0.0207674\n",
       "  0.0          0.0"
      ]
     },
     "metadata": {},
     "output_type": "display_data"
    }
   ],
   "source": [
    "res[2]"
   ]
  },
  {
   "cell_type": "code",
   "execution_count": 166,
   "metadata": {},
   "outputs": [
    {
     "data": {
      "text/plain": [
       "8×4 Matrix{Float64}:\n",
       " 0.9    0.75  0.9    0.75\n",
       " 0.6    0.55  0.6    0.55\n",
       " 0.4    0.78  0.4    0.78\n",
       " 0.24   1.0   0.24   1.0\n",
       " 0.26   0.81  0.26   0.81\n",
       " 0.49   0.61  0.49   0.61\n",
       " 0.56   0.01  0.56   0.01\n",
       " 0.4   -0.38  0.4   -0.38"
      ]
     },
     "metadata": {},
     "output_type": "display_data"
    }
   ],
   "source": [
    "X = [0.9 0.75 0.9 0.75;\n",
    "0.6 0.55 0.6 0.55;\n",
    "0.4 0.78 0.4 0.78;\n",
    "0.24 1.0 0.24 1.0;\n",
    "0.26 0.81 0.26 0.81;\n",
    "0.49 0.61 0.49 0.61;\n",
    "0.56 0.01 0.56 0.01;\n",
    "0.4 -0.38 0.4 -0.38]\n"
   ]
  }
 ],
 "metadata": {
  "kernelspec": {
   "display_name": "Julia 1.10.2",
   "language": "julia",
   "name": "julia-1.10"
  },
  "language_info": {
   "file_extension": ".jl",
   "mimetype": "application/julia",
   "name": "julia",
   "version": "1.10.2"
  }
 },
 "nbformat": 4,
 "nbformat_minor": 2
}
