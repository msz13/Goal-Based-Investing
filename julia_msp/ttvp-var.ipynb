{
 "cells": [
  {
   "cell_type": "code",
   "execution_count": 1,
   "metadata": {},
   "outputs": [],
   "source": [
    "using Revise\n",
    "using Test"
   ]
  },
  {
   "cell_type": "code",
   "execution_count": 2,
   "metadata": {},
   "outputs": [],
   "source": [
    "includet(\"tvp-var.jl\")"
   ]
  },
  {
   "cell_type": "code",
   "execution_count": 3,
   "metadata": {},
   "outputs": [
    {
     "data": {
      "text/plain": [
       "8×2×2 Array{Float64, 3}:\n",
       "[:, :, 1] =\n",
       " 0.0365968  0.192449\n",
       " 0.0291533  0.196183\n",
       " 0.0287505  0.190696\n",
       " 0.0275426  0.206376\n",
       " 0.0284114  0.207423\n",
       " 0.0364869  0.198989\n",
       " 0.0415039  0.194783\n",
       " 0.0369918  0.190801\n",
       "\n",
       "[:, :, 2] =\n",
       " 0.0664064  0.399857\n",
       " 0.0595236  0.411104\n",
       " 0.0446536  0.417246\n",
       " 0.0438147  0.453049\n",
       " 0.0483545  0.45205\n",
       " 0.0720836  0.459659\n",
       " 0.0955081  0.488232\n",
       " 0.0941443  0.485894"
      ]
     },
     "metadata": {},
     "output_type": "display_data"
    }
   ],
   "source": [
    "coef = generate_coeffs([0.03 0.05; 0.2 0.4], [0.8 0.8; 0.8 0.8], [0.001 0.001; 0.001 0.001], [0.01 0.02; 0.01 0.02], 8)\n",
    "\n"
   ]
  },
  {
   "cell_type": "code",
   "execution_count": 4,
   "metadata": {},
   "outputs": [
    {
     "data": {
      "text/plain": [
       "2×2 Matrix{Float64}:\n",
       " 0.037  0.094\n",
       " 0.191  0.486"
      ]
     },
     "metadata": {},
     "output_type": "display_data"
    }
   ],
   "source": [
    "round.(coef[8, :, :], digits=3)"
   ]
  },
  {
   "cell_type": "code",
   "execution_count": 5,
   "metadata": {},
   "outputs": [
    {
     "data": {
      "text/plain": [
       "1×2 Matrix{Float64}:\n",
       " 0.03  0.046"
      ]
     },
     "metadata": {},
     "output_type": "display_data"
    }
   ],
   "source": [
    "coef = generate_coeffs([0.03 0.05], [0.6 0.6], [0.001 0.001], [0.01 0.02], 8)\n",
    "\n",
    "round.(coef[2, :, :], digits=3)"
   ]
  },
  {
   "cell_type": "code",
   "execution_count": 6,
   "metadata": {},
   "outputs": [
    {
     "name": "stdout",
     "output_type": "stream",
     "text": [
      "\u001b[91m\u001b[1mError During Test\u001b[22m\u001b[39m at \u001b[39m\u001b[1mc:\\Users\\matsz\\programowanie\\Optymalizacja_portfela\\julia_msp\\jl_notebook_cell_df34fa98e69747e1a8f8a730347b8e2f_W6sZmlsZQ==.jl:1\u001b[22m\n",
      "  Test threw exception\n",
      "  Expression: residuals([0 0], [0.52 -0.35], [0.3 0.25]) == [-0.156 0.0875]\n",
      "  DimensionMismatch: A has dimensions (1,2) but B has dimensions (1,2)\n",
      "  Stacktrace:\n",
      "   [1] \u001b[0m\u001b[1mgemm_wrapper!\u001b[22m\u001b[0m\u001b[1m(\u001b[22m\u001b[90mC\u001b[39m::\u001b[0mMatrix\u001b[90m{Float64}\u001b[39m, \u001b[90mtA\u001b[39m::\u001b[0mChar, \u001b[90mtB\u001b[39m::\u001b[0mChar, \u001b[90mA\u001b[39m::\u001b[0mMatrix\u001b[90m{Float64}\u001b[39m, \u001b[90mB\u001b[39m::\u001b[0mMatrix\u001b[90m{Float64}\u001b[39m, \u001b[90m_add\u001b[39m::\u001b[0mLinearAlgebra.MulAddMul\u001b[90m{true, true, Bool, Bool}\u001b[39m\u001b[0m\u001b[1m)\u001b[22m\n",
      "  \u001b[90m   @\u001b[39m \u001b[35mLinearAlgebra\u001b[39m \u001b[90mC:\\Users\\matsz\\.julia\\juliaup\\julia-1.10.2+0.x64.w64.mingw32\\share\\julia\\stdlib\\v1.10\\LinearAlgebra\\src\\\u001b[39m\u001b[90m\u001b[4mmatmul.jl:577\u001b[24m\u001b[39m\n",
      "   [2] \u001b[0m\u001b[1mgeneric_matmatmul!\u001b[22m\n",
      "  \u001b[90m   @\u001b[39m \u001b[90mC:\\Users\\matsz\\.julia\\juliaup\\julia-1.10.2+0.x64.w64.mingw32\\share\\julia\\stdlib\\v1.10\\LinearAlgebra\\src\\\u001b[39m\u001b[90m\u001b[4mmatmul.jl:352\u001b[24m\u001b[39m\u001b[90m [inlined]\u001b[39m\n",
      "   [3] \u001b[0m\u001b[1mmul!\u001b[22m\n",
      "  \u001b[90m   @\u001b[39m \u001b[90mC:\\Users\\matsz\\.julia\\juliaup\\julia-1.10.2+0.x64.w64.mingw32\\share\\julia\\stdlib\\v1.10\\LinearAlgebra\\src\\\u001b[39m\u001b[90m\u001b[4mmatmul.jl:263\u001b[24m\u001b[39m\u001b[90m [inlined]\u001b[39m\n",
      "   [4] \u001b[0m\u001b[1mmul!\u001b[22m\n",
      "  \u001b[90m   @\u001b[39m \u001b[90mC:\\Users\\matsz\\.julia\\juliaup\\julia-1.10.2+0.x64.w64.mingw32\\share\\julia\\stdlib\\v1.10\\LinearAlgebra\\src\\\u001b[39m\u001b[90m\u001b[4mmatmul.jl:237\u001b[24m\u001b[39m\u001b[90m [inlined]\u001b[39m\n",
      "   [5] \u001b[0m\u001b[1m*\u001b[22m\u001b[0m\u001b[1m(\u001b[22m\u001b[90mA\u001b[39m::\u001b[0mMatrix\u001b[90m{Float64}\u001b[39m, \u001b[90mB\u001b[39m::\u001b[0mMatrix\u001b[90m{Float64}\u001b[39m\u001b[0m\u001b[1m)\u001b[22m\n",
      "  \u001b[90m   @\u001b[39m \u001b[35mLinearAlgebra\u001b[39m \u001b[90mC:\\Users\\matsz\\.julia\\juliaup\\julia-1.10.2+0.x64.w64.mingw32\\share\\julia\\stdlib\\v1.10\\LinearAlgebra\\src\\\u001b[39m\u001b[90m\u001b[4mmatmul.jl:113\u001b[24m\u001b[39m\n",
      "   [6] \u001b[0m\u001b[1mresiduals\u001b[22m\u001b[0m\u001b[1m(\u001b[22m\u001b[90mY\u001b[39m::\u001b[0mMatrix\u001b[90m{Int64}\u001b[39m, \u001b[90mX\u001b[39m::\u001b[0mMatrix\u001b[90m{Float64}\u001b[39m, \u001b[90mΒ\u001b[39m::\u001b[0mMatrix\u001b[90m{Float64}\u001b[39m\u001b[0m\u001b[1m)\u001b[22m\n",
      "  \u001b[90m   @\u001b[39m \u001b[36mMain\u001b[39m \u001b[90mc:\\Users\\matsz\\programowanie\\Optymalizacja_portfela\\julia_msp\\\u001b[39m\u001b[90m\u001b[4mtvp-var.jl:130\u001b[24m\u001b[39m\n",
      "   [7] \u001b[0m\u001b[1mmacro expansion\u001b[22m\n",
      "  \u001b[90m   @\u001b[39m \u001b[90mC:\\Users\\matsz\\.julia\\juliaup\\julia-1.10.2+0.x64.w64.mingw32\\share\\julia\\stdlib\\v1.10\\Test\\src\\\u001b[39m\u001b[90m\u001b[4mTest.jl:669\u001b[24m\u001b[39m\u001b[90m [inlined]\u001b[39m\n",
      "   [8] top-level scope\n",
      "  \u001b[90m   @\u001b[39m \u001b[90mc:\\Users\\matsz\\programowanie\\Optymalizacja_portfela\\julia_msp\\\u001b[39m\u001b[90m\u001b[4mjl_notebook_cell_df34fa98e69747e1a8f8a730347b8e2f_W6sZmlsZQ==.jl:1\u001b[24m\u001b[39m\n"
     ]
    },
    {
     "ename": "Test.FallbackTestSetException",
     "evalue": "Test.FallbackTestSetException(\"There was an error during testing\")",
     "output_type": "error",
     "traceback": [
      "Test.FallbackTestSetException(\"There was an error during testing\")\n",
      "\n",
      "Stacktrace:\n",
      " [1] record(ts::Test.FallbackTestSet, t::Union{Test.Error, Test.Fail})\n",
      "   @ Test C:\\Users\\matsz\\.julia\\juliaup\\julia-1.10.2+0.x64.w64.mingw32\\share\\julia\\stdlib\\v1.10\\Test\\src\\Test.jl:1000\n",
      " [2] do_test(result::Test.ExecutionResult, orig_expr::Any)\n",
      "   @ Test C:\\Users\\matsz\\.julia\\juliaup\\julia-1.10.2+0.x64.w64.mingw32\\share\\julia\\stdlib\\v1.10\\Test\\src\\Test.jl:705\n",
      " [3] macro expansion\n",
      "   @ C:\\Users\\matsz\\.julia\\juliaup\\julia-1.10.2+0.x64.w64.mingw32\\share\\julia\\stdlib\\v1.10\\Test\\src\\Test.jl:672 [inlined]\n",
      " [4] top-level scope\n",
      "   @ c:\\Users\\matsz\\programowanie\\Optymalizacja_portfela\\julia_msp\\jl_notebook_cell_df34fa98e69747e1a8f8a730347b8e2f_W6sZmlsZQ==.jl:1"
     ]
    }
   ],
   "source": [
    "@test(residuals([0 0], [0.52 -0.35], [0.3 0.25]) == [-0.156 0.0875])\n"
   ]
  },
  {
   "cell_type": "code",
   "execution_count": 7,
   "metadata": {},
   "outputs": [
    {
     "data": {
      "text/plain": [
       "2×2 Matrix{Float64}:\n",
       " 0.0  0.0\n",
       " 0.0  0.0"
      ]
     },
     "metadata": {},
     "output_type": "display_data"
    }
   ],
   "source": [
    "k_gain([0.0 0.0; 0.0 0.0], [0.45 -0.36; 0.45 -0.36], diagm([0.09, 0.12]))"
   ]
  },
  {
   "cell_type": "code",
   "execution_count": 8,
   "metadata": {},
   "outputs": [
    {
     "data": {
      "text/plain": [
       "10×2×2 Array{Float64, 3}:\n",
       "[:, :, 1] =\n",
       " 0.013416   0.196836\n",
       " 0.0139441  0.201809\n",
       " 0.0224345  0.196965\n",
       " 0.0246831  0.200711\n",
       " 0.026805   0.200829\n",
       " 0.0270879  0.209903\n",
       " 0.0329985  0.206021\n",
       " 0.0340881  0.205957\n",
       " 0.0364829  0.194397\n",
       " 0.0221373  0.182834\n",
       "\n",
       "[:, :, 2] =\n",
       "  0.0394798   0.398401\n",
       "  0.0557359   0.397609\n",
       "  0.0586413   0.399075\n",
       "  0.0466846   0.405445\n",
       "  0.0380141   0.376369\n",
       "  0.0170884   0.377395\n",
       "  0.0170622   0.360645\n",
       " -0.0117183   0.359693\n",
       " -0.00424383  0.3706\n",
       " -0.00301466  0.368709"
      ]
     },
     "metadata": {},
     "output_type": "display_data"
    }
   ],
   "source": [
    "Β = generate_coeffs([0.03 0.05; 0.2 0.4], [0.8 0.8; 0.8 0.8], [0.001 0.001; 0.001 0.001], [0.01 0.02; 0.01 0.02], 10)"
   ]
  },
  {
   "cell_type": "code",
   "execution_count": 9,
   "metadata": {},
   "outputs": [
    {
     "data": {
      "text/plain": [
       "2-element Vector{Float64}:\n",
       " -0.35\n",
       " -0.71"
      ]
     },
     "metadata": {},
     "output_type": "display_data"
    }
   ],
   "source": [
    "round.(rand(Uniform(-1,1),2), digits=2)"
   ]
  },
  {
   "cell_type": "code",
   "execution_count": 10,
   "metadata": {},
   "outputs": [
    {
     "data": {
      "text/plain": [
       "2×2 Matrix{Float64}:\n",
       " 0.013416  0.0394798\n",
       " 0.196836  0.398401"
      ]
     },
     "metadata": {},
     "output_type": "display_data"
    }
   ],
   "source": [
    "Β[1,:,:]"
   ]
  },
  {
   "cell_type": "code",
   "execution_count": 11,
   "metadata": {},
   "outputs": [
    {
     "data": {
      "text/plain": [
       "-0.03312"
      ]
     },
     "metadata": {},
     "output_type": "display_data"
    }
   ],
   "source": [
    "0.029 * -0.48 + 0.04 * -0.48"
   ]
  },
  {
   "cell_type": "code",
   "execution_count": 12,
   "metadata": {},
   "outputs": [
    {
     "ename": "UndefVarError",
     "evalue": "UndefVarError: `X` not defined",
     "output_type": "error",
     "traceback": [
      "UndefVarError: `X` not defined\n",
      "\n",
      "Stacktrace:\n",
      " [1] top-level scope\n",
      "   @ c:\\Users\\matsz\\programowanie\\Optymalizacja_portfela\\julia_msp\\jl_notebook_cell_df34fa98e69747e1a8f8a730347b8e2f_X50sZmlsZQ==.jl:1"
     ]
    }
   ],
   "source": [
    "Β[1,:,:] * X[:,1]"
   ]
  },
  {
   "cell_type": "code",
   "execution_count": 13,
   "metadata": {},
   "outputs": [
    {
     "data": {
      "text/plain": [
       "9×2 Matrix{Float64}:\n",
       " 0.9    0.75\n",
       " 0.81   0.69\n",
       " 0.87   1.08\n",
       " 0.88   1.15\n",
       " 0.87   0.52\n",
       " 0.93   0.71\n",
       " 0.88  -0.03\n",
       " 1.04   0.29\n",
       " 0.06   0.02"
      ]
     },
     "metadata": {},
     "output_type": "display_data"
    }
   ],
   "source": [
    "X1 = [.9 .75]\n",
    "Β0 = [0.9 0.6; 0.3 0.5 ]\n",
    "\n",
    "params = TTVAR_Result([.9 .9; .9 .9], \n",
    "    [.001 .001; .001 .001], \n",
    "    [.015 .015; .015 .015],\n",
    "    diagm([.1, .1])\n",
    "    )\n",
    "\n",
    "round.(sample(X1, Β0, params, 8)', digits=2)"
   ]
  },
  {
   "cell_type": "code",
   "execution_count": 14,
   "metadata": {},
   "outputs": [
    {
     "data": {
      "text/plain": [
       "2×2 Matrix{Float64}:\n",
       " 0.0101843   0.00522623\n",
       " 0.00675747  0.0160974"
      ]
     },
     "metadata": {},
     "output_type": "display_data"
    }
   ],
   "source": [
    "#init params\n",
    "B0 = [0 0; 0 0]\n",
    "P0 = [0 0; 0 0]\n",
    "ν = [.011 .007; .009 0.021]\n",
    "Y = [.035 .04]\n",
    "X = [.03 .045; .03 0.45]\n",
    "Σ = diagm([.01, .015])\n",
    "\n",
    "#predict \n",
    "Β1 = B0\n",
    "P1 = P0 +  ν\n",
    "\n",
    "\n",
    "F = X * P1 * X' + Σ  #state transision\n",
    "K = P1 * X' * inv(F) # kalman gain\n",
    "\n",
    "res = Y .- Β1 * X #residuals\n",
    "\n",
    "Β_f = B0 + K * res #Beta measurement\n",
    "P_f = P1 - K * X * P1 #covariance measurmenet"
   ]
  },
  {
   "cell_type": "code",
   "execution_count": 15,
   "metadata": {},
   "outputs": [
    {
     "data": {
      "text/plain": [
       "2×2 Matrix{Float64}:\n",
       " 0.011  0.007\n",
       " 0.009  0.021"
      ]
     },
     "metadata": {},
     "output_type": "display_data"
    }
   ],
   "source": [
    "#init params\n",
    "B0 = [0 0; 0 0]\n",
    "P0 = [0 0; 0 0]\n",
    "ν = [.011 .007; .009 0.021]\n",
    "Y = [.035 .04]\n",
    "X = [.03 .045; .03 0.45]\n",
    "Σ = diagm([.01, .015])\n",
    "\n",
    "kalman_step(B0, P0, Y, X, Σ, ν)"
   ]
  },
  {
   "cell_type": "code",
   "execution_count": 16,
   "metadata": {},
   "outputs": [
    {
     "data": {
      "text/plain": [
       "8×2×2 Array{Float64, 3}:\n",
       "[:, :, 1] =\n",
       " 0.9    0.75\n",
       " 0.6    0.55\n",
       " 0.4    0.78\n",
       " 0.24   1.0\n",
       " 0.26   0.81\n",
       " 0.49   0.61\n",
       " 0.56   0.01\n",
       " 0.4   -0.38\n",
       "\n",
       "[:, :, 2] =\n",
       " 0.9    0.75\n",
       " 0.6    0.55\n",
       " 0.4    0.78\n",
       " 0.24   1.0\n",
       " 0.26   0.81\n",
       " 0.49   0.61\n",
       " 0.56   0.01\n",
       " 0.4   -0.38"
      ]
     },
     "metadata": {},
     "output_type": "display_data"
    }
   ],
   "source": [
    "X = [0.9 0.75;\n",
    "0.6 0.55;\n",
    "0.4 0.78;\n",
    "0.24 1.0;\n",
    "0.26 0.81;\n",
    "0.49 0.61;\n",
    "0.56 0.01;\n",
    "0.4 -0.38]\n",
    "\n",
    "reshape(repeat(X,1,2), (8,2,2))"
   ]
  },
  {
   "cell_type": "code",
   "execution_count": 17,
   "metadata": {},
   "outputs": [
    {
     "ename": "ArgumentError",
     "evalue": "ArgumentError: indexed assignment with a single value to possibly many locations is not supported; perhaps use broadcasting `.=` instead?",
     "output_type": "error",
     "traceback": [
      "ArgumentError: indexed assignment with a single value to possibly many locations is not supported; perhaps use broadcasting `.=` instead?\n",
      "\n",
      "Stacktrace:\n",
      " [1] setindex_shape_check(::Float64, ::Int64, ::Int64, ::Int64)\n",
      "   @ Base .\\indices.jl:261\n",
      " [2] macro expansion\n",
      "   @ .\\multidimensional.jl:953 [inlined]\n",
      " [3] _unsafe_setindex!(::IndexLinear, ::Array{Float64, 3}, ::Float64, ::Int64, ::Base.Slice{Base.OneTo{Int64}}, ::Base.Slice{Base.OneTo{Int64}})\n",
      "   @ Base .\\multidimensional.jl:967\n",
      " [4] _setindex!\n",
      "   @ .\\multidimensional.jl:944 [inlined]\n",
      " [5] setindex!\n",
      "   @ .\\abstractarray.jl:1396 [inlined]\n",
      " [6] kalmanFilter(X::Matrix{Float64}, Y::Matrix{Float64}, Β0::Matrix{Int64}, P0::Matrix{Int64}, Σ::Matrix{Float64}, ν::Matrix{Float64})\n",
      "   @ Main c:\\Users\\matsz\\programowanie\\Optymalizacja_portfela\\julia_msp\\tvp-var.jl:167\n",
      " [7] top-level scope\n",
      "   @ c:\\Users\\matsz\\programowanie\\Optymalizacja_portfela\\julia_msp\\jl_notebook_cell_df34fa98e69747e1a8f8a730347b8e2f_X21sZmlsZQ==.jl:27"
     ]
    }
   ],
   "source": [
    "X = [0.9 0.75;\n",
    "0.6 0.55;\n",
    "0.4 0.78;\n",
    "0.24 1.0;\n",
    "0.26 0.81;\n",
    "0.49 0.61;\n",
    "0.56 0.01;\n",
    "0.4 -0.38]\n",
    "\n",
    "#X = reshape(repeat(X,1,2), (8,2,2))\n",
    "\n",
    "#= Y = [0.6 0.55;\n",
    "0.4 0.78;\n",
    "0.24 1.0;\n",
    "0.26 0.81;\n",
    "0.49 0.61;\n",
    "0.56 0.01;\n",
    "0.4 -0.38;\n",
    "0.05 -0.04] =#\n",
    "\n",
    "Y = [0.6 0.4 0.24 1.0 0.26 0.81 0.49 0.61 0.56 0.01 0.4 -0.38 0.05 -0.04] \n",
    "\n",
    "B0 = [0 0; 0 0]\n",
    "P0 = [0 0; 0 0]\n",
    "Σ = diagm([.01, .015])\n",
    "ν = [.015 .025; .015 .035]\n",
    "res = kalmanFilter(X, Y, B0, P0, Σ, ν)\n",
    "\n",
    "res[1]"
   ]
  },
  {
   "cell_type": "code",
   "execution_count": 18,
   "metadata": {},
   "outputs": [
    {
     "data": {
      "text/plain": [
       "0.035"
      ]
     },
     "metadata": {},
     "output_type": "display_data"
    }
   ],
   "source": [
    "res[2]"
   ]
  },
  {
   "cell_type": "code",
   "execution_count": 19,
   "metadata": {},
   "outputs": [
    {
     "ename": "MethodError",
     "evalue": "MethodError: no method matching getindex(::Float64, ::Int64, ::Colon, ::Colon)\n\nClosest candidates are:\n  getindex(::Number, ::Integer)\n   @ Base number.jl:96\n  getindex(::Number, !Matched::Integer...)\n   @ Base number.jl:101\n  getindex(::Number)\n   @ Base number.jl:95\n  ...\n",
     "output_type": "error",
     "traceback": [
      "MethodError: no method matching getindex(::Float64, ::Int64, ::Colon, ::Colon)\n",
      "\n",
      "Closest candidates are:\n",
      "  getindex(::Number, ::Integer)\n",
      "   @ Base number.jl:96\n",
      "  getindex(::Number, !Matched::Integer...)\n",
      "   @ Base number.jl:101\n",
      "  getindex(::Number)\n",
      "   @ Base number.jl:95\n",
      "  ...\n",
      "\n",
      "\n",
      "Stacktrace:\n",
      " [1] top-level scope\n",
      "   @ c:\\Users\\matsz\\programowanie\\Optymalizacja_portfela\\julia_msp\\jl_notebook_cell_df34fa98e69747e1a8f8a730347b8e2f_Y103sZmlsZQ==.jl:1"
     ]
    }
   ],
   "source": [
    "println(res[1][end, :, :])\n",
    "println(res[2][end, :, :])"
   ]
  },
  {
   "cell_type": "code",
   "execution_count": 20,
   "metadata": {},
   "outputs": [
    {
     "ename": "BoundsError",
     "evalue": "BoundsError: attempt to access Tuple{} at index [1]",
     "output_type": "error",
     "traceback": [
      "BoundsError: attempt to access Tuple{} at index [1]\n",
      "\n",
      "Stacktrace:\n",
      " [1] indexed_iterate\n",
      "   @ .\\tuple.jl:92 [inlined]\n",
      " [2] indexed_iterate(t::Tuple{}, i::Int64)\n",
      "   @ Base .\\tuple.jl:92\n",
      " [3] smoother(S_filtered::Float64, P_filtered::Float64)\n",
      "   @ Main c:\\Users\\matsz\\programowanie\\Optymalizacja_portfela\\julia_msp\\tvp-var.jl:197\n",
      " [4] top-level scope\n",
      "   @ c:\\Users\\matsz\\programowanie\\Optymalizacja_portfela\\julia_msp\\jl_notebook_cell_df34fa98e69747e1a8f8a730347b8e2f_Y102sZmlsZQ==.jl:1"
     ]
    }
   ],
   "source": [
    "S_smoothed, P_smoothed = smoother(res[1], res[2])\n",
    "\n",
    "display(S_smoothed)\n",
    "\n",
    "display(P_smoothed)\n"
   ]
  },
  {
   "cell_type": "code",
   "execution_count": 21,
   "metadata": {},
   "outputs": [
    {
     "ename": "UndefVarError",
     "evalue": "UndefVarError: `prepare` not defined",
     "output_type": "error",
     "traceback": [
      "UndefVarError: `prepare` not defined\n",
      "\n",
      "Stacktrace:\n",
      " [1] top-level scope\n",
      "   @ c:\\Users\\matsz\\programowanie\\Optymalizacja_portfela\\julia_msp\\jl_notebook_cell_df34fa98e69747e1a8f8a730347b8e2f_Y112sZmlsZQ==.jl:1"
     ]
    }
   ],
   "source": [
    "display(prepare(X,1)[1])\n",
    "\n",
    "display(prepare(X,1)[2])\n"
   ]
  },
  {
   "cell_type": "code",
   "execution_count": 22,
   "metadata": {},
   "outputs": [
    {
     "data": {
      "text/plain": [
       "2×2 Matrix{Float64}:\n",
       " -0.062  0.038\n",
       " -0.035  0.065"
      ]
     },
     "metadata": {},
     "output_type": "display_data"
    }
   ],
   "source": [
    "Y = [.1 .2]\n",
    "\n",
    "X = [.15 .18]\n",
    "\n",
    "C = [.6 .4; .3 .5]\n",
    "\n",
    "Y .- C * X'"
   ]
  },
  {
   "cell_type": "code",
   "execution_count": 23,
   "metadata": {},
   "outputs": [
    {
     "data": {
      "text/plain": [
       "2×1 Matrix{Float64}:\n",
       " 0.162\n",
       " 0.135"
      ]
     },
     "metadata": {},
     "output_type": "display_data"
    }
   ],
   "source": [
    "C * X'"
   ]
  },
  {
   "cell_type": "code",
   "execution_count": 226,
   "metadata": {},
   "outputs": [
    {
     "data": {
      "text/plain": [
       "0.0125"
      ]
     },
     "metadata": {},
     "output_type": "display_data"
    },
    {
     "data": {
      "text/plain": [
       "2-element Vector{Float64}:\n",
       " 0.176\n",
       " 0.05600000000000001"
      ]
     },
     "metadata": {},
     "output_type": "display_data"
    },
    {
     "data": {
      "text/plain": [
       "-0.11500000000000002"
      ]
     },
     "metadata": {},
     "output_type": "display_data"
    },
    {
     "data": {
      "text/plain": [
       "2-element Vector{Float64}:\n",
       " 0.47976\n",
       " 0.49356"
      ]
     },
     "metadata": {},
     "output_type": "display_data"
    },
    {
     "data": {
      "text/plain": [
       "2-element Vector{Float64}:\n",
       " 0.4736\n",
       " 0.4916"
      ]
     },
     "metadata": {},
     "output_type": "display_data"
    }
   ],
   "source": [
    "#init params\n",
    "B0 = [0.5, 0.5]\n",
    "P0 = diagm([.05, .05])\n",
    "ν = diagm([.011, .007])\n",
    "Y = .035\n",
    "X = [0.2, 0.1]'\n",
    "σ = 0.01\n",
    "\n",
    "\n",
    "S = measurement_cov(X, P0, σ)\n",
    "display(S)\n",
    "K = k_gain(X,ν, S)\n",
    "display(K)\n",
    "res = residuals(Y, X, B0)\n",
    "display(res)\n",
    "states = update_state(B0, K, res)\n",
    "display(states)\n",
    "filtered_cov = update_cov(B0, K, X) \n",
    "\n",
    "#[0. 0.] + (K * res)' \n"
   ]
  },
  {
   "cell_type": "code",
   "execution_count": 227,
   "metadata": {},
   "outputs": [
    {
     "data": {
      "text/plain": [
       "2-element Vector{Float64}:\n",
       " 0.3921598770176787\n",
       " 0.44961568024596466"
      ]
     },
     "metadata": {},
     "output_type": "display_data"
    },
    {
     "data": {
      "text/plain": [
       "2×2 Matrix{Float64}:\n",
       "  0.0495596   -0.00534512\n",
       " -0.00534512   0.0545027"
      ]
     },
     "metadata": {},
     "output_type": "display_data"
    }
   ],
   "source": [
    "X = [0.2, 0.1]\n",
    "res = kalman_step2(B0,P0, Y, X, σ, ν)\n",
    "\n",
    "display(res[1])\n",
    "display(res[2])"
   ]
  },
  {
   "cell_type": "code",
   "execution_count": 189,
   "metadata": {},
   "outputs": [
    {
     "data": {
      "text/plain": [
       "1-element Vector{Float64}:\n",
       " 0.5"
      ]
     },
     "metadata": {},
     "output_type": "display_data"
    }
   ],
   "source": [
    "1 ./ [2.]"
   ]
  },
  {
   "cell_type": "code",
   "execution_count": 177,
   "metadata": {},
   "outputs": [
    {
     "data": {
      "text/plain": [
       "1×2 adjoint(::Vector{Int64}) with eltype Int64:\n",
       " 10  13"
      ]
     },
     "metadata": {},
     "output_type": "display_data"
    }
   ],
   "source": [
    "X = [1,2]'\n",
    "b = [2 3; 4 5]\n",
    "\n",
    "X * b"
   ]
  },
  {
   "cell_type": "code",
   "execution_count": 178,
   "metadata": {},
   "outputs": [
    {
     "data": {
      "text/plain": [
       "2×2 Matrix{Int64}:\n",
       " 2  3\n",
       " 4  5"
      ]
     },
     "metadata": {},
     "output_type": "display_data"
    }
   ],
   "source": [
    "b"
   ]
  },
  {
   "cell_type": "code",
   "execution_count": 126,
   "metadata": {},
   "outputs": [
    {
     "data": {
      "text/plain": [
       "1×1 Matrix{Int64}:\n",
       " 5"
      ]
     },
     "metadata": {},
     "output_type": "display_data"
    }
   ],
   "source": [
    "[1 2] * transpose([1 2])"
   ]
  },
  {
   "cell_type": "code",
   "execution_count": 66,
   "metadata": {},
   "outputs": [
    {
     "data": {
      "text/plain": [
       "2-element Vector{Int64}:\n",
       " 4\n",
       " 5"
      ]
     },
     "metadata": {},
     "output_type": "display_data"
    }
   ],
   "source": [
    "A = [1, 2]\n",
    "b = [3]\n",
    "\n",
    "A .+ b\n"
   ]
  },
  {
   "cell_type": "code",
   "execution_count": 94,
   "metadata": {},
   "outputs": [
    {
     "data": {
      "text/plain": [
       "10"
      ]
     },
     "metadata": {},
     "output_type": "display_data"
    }
   ],
   "source": [
    "[1,2]' * [2,4]"
   ]
  },
  {
   "cell_type": "code",
   "execution_count": 96,
   "metadata": {},
   "outputs": [
    {
     "data": {
      "text/plain": [
       "10"
      ]
     },
     "metadata": {},
     "output_type": "display_data"
    }
   ],
   "source": [
    "[1 2] ⋅ [2 4]"
   ]
  },
  {
   "cell_type": "markdown",
   "metadata": {},
   "source": [
    "albo Matrix \n",
    "\n",
    "albo vector z pierwszym transpose "
   ]
  },
  {
   "cell_type": "code",
   "execution_count": 31,
   "metadata": {},
   "outputs": [],
   "source": [
    "#= =#"
   ]
  },
  {
   "cell_type": "code",
   "execution_count": 32,
   "metadata": {},
   "outputs": [
    {
     "data": {
      "text/plain": [
       "2-element Vector{Int64}:\n",
       " 1\n",
       " 2"
      ]
     },
     "metadata": {},
     "output_type": "display_data"
    }
   ],
   "source": [
    "[1 2; 3 4][1,:]"
   ]
  },
  {
   "cell_type": "code",
   "execution_count": 35,
   "metadata": {},
   "outputs": [
    {
     "data": {
      "text/plain": [
       "1×2 Matrix{Float64}:\n",
       " 0.00033  0.000315"
      ]
     },
     "metadata": {},
     "output_type": "display_data"
    }
   ],
   "source": [
    "ν = diagm([.011, .007])\n",
    "\n",
    "X = [.03 .045]\n",
    "X * ν"
   ]
  },
  {
   "cell_type": "code",
   "execution_count": 36,
   "metadata": {},
   "outputs": [
    {
     "data": {
      "text/plain": [
       "1×2 Matrix{Float64}:\n",
       " 0.0100193  0.010029"
      ]
     },
     "metadata": {},
     "output_type": "display_data"
    }
   ],
   "source": [
    "ν = [.011, .007]\n",
    "X = [.03, .045]\n",
    "\n",
    "X ⋅ ν * transpose(X) .+ σ"
   ]
  },
  {
   "cell_type": "code",
   "execution_count": 37,
   "metadata": {},
   "outputs": [
    {
     "data": {
      "text/plain": [
       "10"
      ]
     },
     "metadata": {},
     "output_type": "display_data"
    }
   ],
   "source": [
    "tr(transpose([3 3; 4 7]))"
   ]
  },
  {
   "cell_type": "code",
   "execution_count": 38,
   "metadata": {},
   "outputs": [
    {
     "ename": "DimensionMismatch",
     "evalue": "DimensionMismatch: A has dimensions (1,1) but B has dimensions (2,1)",
     "output_type": "error",
     "traceback": [
      "DimensionMismatch: A has dimensions (1,1) but B has dimensions (2,1)\n",
      "\n",
      "Stacktrace:\n",
      " [1] gemm_wrapper!(C::Matrix{Float64}, tA::Char, tB::Char, A::Matrix{Float64}, B::Matrix{Float64}, _add::LinearAlgebra.MulAddMul{true, true, Bool, Bool})\n",
      "   @ LinearAlgebra C:\\Users\\matsz\\.julia\\juliaup\\julia-1.10.2+0.x64.w64.mingw32\\share\\julia\\stdlib\\v1.10\\LinearAlgebra\\src\\matmul.jl:577\n",
      " [2] generic_matmatmul!\n",
      "   @ C:\\Users\\matsz\\.julia\\juliaup\\julia-1.10.2+0.x64.w64.mingw32\\share\\julia\\stdlib\\v1.10\\LinearAlgebra\\src\\matmul.jl:352 [inlined]\n",
      " [3] mul!\n",
      "   @ C:\\Users\\matsz\\.julia\\juliaup\\julia-1.10.2+0.x64.w64.mingw32\\share\\julia\\stdlib\\v1.10\\LinearAlgebra\\src\\matmul.jl:263 [inlined]\n",
      " [4] mul!\n",
      "   @ C:\\Users\\matsz\\.julia\\juliaup\\julia-1.10.2+0.x64.w64.mingw32\\share\\julia\\stdlib\\v1.10\\LinearAlgebra\\src\\matmul.jl:237 [inlined]\n",
      " [5] *(A::Matrix{Float64}, B::Matrix{Float64})\n",
      "   @ LinearAlgebra C:\\Users\\matsz\\.julia\\juliaup\\julia-1.10.2+0.x64.w64.mingw32\\share\\julia\\stdlib\\v1.10\\LinearAlgebra\\src\\matmul.jl:113\n",
      " [6] *\n",
      "   @ C:\\Users\\matsz\\.julia\\juliaup\\julia-1.10.2+0.x64.w64.mingw32\\share\\julia\\stdlib\\v1.10\\LinearAlgebra\\src\\matmul.jl:63 [inlined]\n",
      " [7] *(::Adjoint{Float64, Matrix{Float64}}, ::Vector{Float64}, ::Matrix{Float64})\n",
      "   @ Base .\\operators.jl:587\n",
      " [8] top-level scope\n",
      "   @ c:\\Users\\matsz\\programowanie\\Optymalizacja_portfela\\julia_msp\\jl_notebook_cell_df34fa98e69747e1a8f8a730347b8e2f_Y144sZmlsZQ==.jl:2"
     ]
    }
   ],
   "source": [
    "#obliczyc gdy transpose jest pozniej\n",
    "X[:,:]' * ν * X[:,:] .+ σ\n"
   ]
  },
  {
   "cell_type": "code",
   "execution_count": 39,
   "metadata": {},
   "outputs": [],
   "source": []
  },
  {
   "cell_type": "code",
   "execution_count": 40,
   "metadata": {},
   "outputs": [
    {
     "data": {
      "text/plain": [
       "2-element Vector{Float64}:\n",
       " 0.01001935\n",
       " 0.010029025"
      ]
     },
     "metadata": {},
     "output_type": "display_data"
    }
   ],
   "source": [
    "transpose(X) * ν * X .+ σ"
   ]
  },
  {
   "cell_type": "code",
   "execution_count": 41,
   "metadata": {},
   "outputs": [
    {
     "ename": "DimensionMismatch",
     "evalue": "DimensionMismatch: tried to assign 2×2 array to 1×2 destination",
     "output_type": "error",
     "traceback": [
      "DimensionMismatch: tried to assign 2×2 array to 1×2 destination\n",
      "\n",
      "Stacktrace:\n",
      " [1] throw_setindex_mismatch(X::Matrix{Int64}, I::Tuple{Int64, Int64})\n",
      "   @ Base .\\indices.jl:193\n",
      " [2] setindex_shape_check\n",
      "   @ .\\indices.jl:253 [inlined]\n",
      " [3] _unsafe_setindex!(::IndexLinear, ::Matrix{Float64}, ::Matrix{Int64}, ::Int64, ::Base.Slice{Base.OneTo{Int64}})\n",
      "   @ Base .\\multidimensional.jl:953\n",
      " [4] _setindex!\n",
      "   @ .\\multidimensional.jl:944 [inlined]\n",
      " [5] setindex!\n",
      "   @ .\\abstractarray.jl:1396 [inlined]\n",
      " [6] kalmanFilter2(X::Matrix{Float64}, Y::Matrix{Float64}, Β0::Matrix{Int64}, P0::Matrix{Int64}, Σ::Vector{Float64}, ν::Vector{Float64})\n",
      "   @ Main c:\\Users\\matsz\\programowanie\\Optymalizacja_portfela\\julia_msp\\tvp-var.jl:182\n",
      " [7] top-level scope\n",
      "   @ c:\\Users\\matsz\\programowanie\\Optymalizacja_portfela\\julia_msp\\jl_notebook_cell_df34fa98e69747e1a8f8a730347b8e2f_Y142sZmlsZQ==.jl:12"
     ]
    }
   ],
   "source": [
    "X = [0.9 0.75;\n",
    "0.6 0.55;\n",
    "0.4 0.78;\n",
    "0.24 1.0;\n",
    "0.26 0.81;\n",
    "0.49 0.61;\n",
    "0.56 0.01;\n",
    "0.4 -0.38]\n",
    "\n",
    "Y = [0.6 0.4 0.24 1.0 0.26 0.81 0.49 0.61 0.56 0.01 0.4 -0.38 0.05 -0.04] \n",
    "\n",
    "kalmanFilter2(X, Y, B0, P0, σ, ν)"
   ]
  },
  {
   "cell_type": "code",
   "execution_count": 42,
   "metadata": {},
   "outputs": [
    {
     "data": {
      "text/plain": [
       "2-element Vector{Float64}:\n",
       " 0.9\n",
       " 0.75"
      ]
     },
     "metadata": {},
     "output_type": "display_data"
    }
   ],
   "source": [
    "X[1,:]"
   ]
  },
  {
   "cell_type": "code",
   "execution_count": 43,
   "metadata": {},
   "outputs": [
    {
     "ename": "DimensionMismatch",
     "evalue": "DimensionMismatch: second dimension of A, 2, does not match length of x, 16",
     "output_type": "error",
     "traceback": [
      "DimensionMismatch: second dimension of A, 2, does not match length of x, 16\n",
      "\n",
      "Stacktrace:\n",
      " [1] gemv!(y::Vector{Float64}, tA::Char, A::Matrix{Float64}, x::Vector{Float64}, α::Bool, β::Bool)\n",
      "   @ LinearAlgebra C:\\Users\\matsz\\.julia\\juliaup\\julia-1.10.2+0.x64.w64.mingw32\\share\\julia\\stdlib\\v1.10\\LinearAlgebra\\src\\matmul.jl:404\n",
      " [2] generic_matvecmul!\n",
      "   @ C:\\Users\\matsz\\.julia\\juliaup\\julia-1.10.2+0.x64.w64.mingw32\\share\\julia\\stdlib\\v1.10\\LinearAlgebra\\src\\matmul.jl:71 [inlined]\n",
      " [3] mul!\n",
      "   @ C:\\Users\\matsz\\.julia\\juliaup\\julia-1.10.2+0.x64.w64.mingw32\\share\\julia\\stdlib\\v1.10\\LinearAlgebra\\src\\matmul.jl:66 [inlined]\n",
      " [4] mul!\n",
      "   @ C:\\Users\\matsz\\.julia\\juliaup\\julia-1.10.2+0.x64.w64.mingw32\\share\\julia\\stdlib\\v1.10\\LinearAlgebra\\src\\matmul.jl:237 [inlined]\n",
      " [5] *\n",
      "   @ C:\\Users\\matsz\\.julia\\juliaup\\julia-1.10.2+0.x64.w64.mingw32\\share\\julia\\stdlib\\v1.10\\LinearAlgebra\\src\\matmul.jl:53 [inlined]\n",
      " [6] *(::Vector{Float64}, ::Matrix{Float64}, ::Vector{Float64})\n",
      "   @ Base .\\operators.jl:587\n",
      " [7] top-level scope\n",
      "   @ c:\\Users\\matsz\\programowanie\\Optymalizacja_portfela\\julia_msp\\jl_notebook_cell_df34fa98e69747e1a8f8a730347b8e2f_Y121sZmlsZQ==.jl:3"
     ]
    }
   ],
   "source": [
    "X = vec(X)\n",
    "coef = [.011 .007] \n",
    "X * coef * vec(X)"
   ]
  },
  {
   "cell_type": "code",
   "execution_count": 44,
   "metadata": {},
   "outputs": [
    {
     "data": {
      "text/plain": [
       "3×3 Matrix{Float64}:\n",
       "  0.161045  -0.507188    0.944215\n",
       " -0.208239  -1.25094     2.41617\n",
       "  1.35694   -0.00693013  0.420647"
      ]
     },
     "metadata": {},
     "output_type": "display_data"
    }
   ],
   "source": [
    "randn(3,3)"
   ]
  },
  {
   "cell_type": "code",
   "execution_count": 45,
   "metadata": {},
   "outputs": [
    {
     "data": {
      "text/plain": [
       "1×1 Matrix{Float64}:\n",
       " 0.01"
      ]
     },
     "metadata": {},
     "output_type": "display_data"
    }
   ],
   "source": [
    "diagm([.01])"
   ]
  },
  {
   "cell_type": "code",
   "execution_count": 46,
   "metadata": {},
   "outputs": [
    {
     "data": {
      "text/plain": [
       "2.175607694728655"
      ]
     },
     "metadata": {},
     "output_type": "display_data"
    }
   ],
   "source": [
    "using LinearAlgebra\n",
    "using Distributions\n",
    "\n",
    "# Define the dimensions\n",
    "n = 2  # Number of independent variables\n",
    "T = 100  # Number of time steps\n",
    "\n",
    "# Generate synthetic data\n",
    "X = randn(T, n)\n",
    "#= true_beta = [0.5 -0.2] .+ 0.1 .* randn(T, n)\n",
    "y = [X[t, :] * true_beta[t, :] + randn() for t in 1:T] =#\n",
    "\n",
    "#= \n",
    "# Define the state space model parameters\n",
    "F = I(n)  # State transition matrix (identity matrix)\n",
    "Q = 0.01 * I(n)  # Process noise covariance\n",
    "R = 0.1  # Observation noise variance\n",
    "\n",
    "# Kalman Filter initialization\n",
    "beta_pred = zeros(n, T)\n",
    "P_pred = zeros(n, n, T)\n",
    "beta_filt = zeros(n, T)\n",
    "P_filt = zeros(n, n, T)\n",
    "\n",
    "# Initial state\n",
    "beta_pred[:, 1] = zeros(n)\n",
    "P_pred[:, :, 1] = I(n)\n",
    "\n",
    "for t in 1:T\n",
    "    # Prediction step\n",
    "    if t > 1\n",
    "        beta_pred[:, t] = F * beta_filt[:, t-1]\n",
    "        P_pred[:, :, t] = F * P_filt[:, :, t-1] * F' + Q\n",
    "    end\n",
    "    \n",
    "    # Update step\n",
    "    K_t = P_pred[:, :, t] * X[t, :]' / (X[t, :] * P_pred[:, :, t] * X[t, :]' + R)\n",
    "    beta_filt[:, t] = beta_pred[:, t] + K_t * (y[t] - X[t, :] * beta_pred[:, t])\n",
    "    P_filt[:, :, t] = (I(n) - K_t * X[t, :]) * P_pred[:, :, t]\n",
    "end\n",
    "\n",
    "# Print results\n",
    "println(\"True coefficients:\")\n",
    "println(true_beta)\n",
    "println(\"Filtered coefficients:\")\n",
    "println(beta_filt)\n",
    " =#\n",
    "\n",
    " F = I(n)  # State transition matrix (identity matrix)\n",
    " Q = 0.01 * I(n)  # Process noise covariance\n",
    " R = 0.1  # Observation noise variance\n",
    " P_pred = zeros(n, n, T)\n",
    " P_pred[:, :, 1] = I(n)\n",
    " t = 1\n",
    "\n",
    "# K_t = P_pred[:, :, t] * X[t, :]' / (X[t, :] * P_pred[:, :, t] * X[t, :]' + R)\n",
    "\n",
    "(X[t, :]' * P_pred[:, :, t] * X[t, :] + R)"
   ]
  },
  {
   "cell_type": "code",
   "execution_count": 47,
   "metadata": {},
   "outputs": [],
   "source": []
  },
  {
   "cell_type": "code",
   "execution_count": 48,
   "metadata": {},
   "outputs": [
    {
     "ename": "DimensionMismatch",
     "evalue": "DimensionMismatch: A has dimensions (2,1) but B has dimensions (2,2)",
     "output_type": "error",
     "traceback": [
      "DimensionMismatch: A has dimensions (2,1) but B has dimensions (2,2)\n",
      "\n",
      "Stacktrace:\n",
      " [1] gemm_wrapper!(C::Matrix{Float64}, tA::Char, tB::Char, A::Matrix{Float64}, B::Matrix{Float64}, _add::LinearAlgebra.MulAddMul{true, true, Bool, Bool})\n",
      "   @ LinearAlgebra C:\\Users\\matsz\\.julia\\juliaup\\julia-1.10.2+0.x64.w64.mingw32\\share\\julia\\stdlib\\v1.10\\LinearAlgebra\\src\\matmul.jl:577\n",
      " [2] generic_matmatmul!\n",
      "   @ C:\\Users\\matsz\\.julia\\juliaup\\julia-1.10.2+0.x64.w64.mingw32\\share\\julia\\stdlib\\v1.10\\LinearAlgebra\\src\\matmul.jl:352 [inlined]\n",
      " [3] mul!\n",
      "   @ C:\\Users\\matsz\\.julia\\juliaup\\julia-1.10.2+0.x64.w64.mingw32\\share\\julia\\stdlib\\v1.10\\LinearAlgebra\\src\\matmul.jl:263 [inlined]\n",
      " [4] mul!\n",
      "   @ C:\\Users\\matsz\\.julia\\juliaup\\julia-1.10.2+0.x64.w64.mingw32\\share\\julia\\stdlib\\v1.10\\LinearAlgebra\\src\\matmul.jl:237 [inlined]\n",
      " [5] *(A::Matrix{Float64}, B::Matrix{Float64})\n",
      "   @ LinearAlgebra C:\\Users\\matsz\\.julia\\juliaup\\julia-1.10.2+0.x64.w64.mingw32\\share\\julia\\stdlib\\v1.10\\LinearAlgebra\\src\\matmul.jl:113\n",
      " [6] *(a::Vector{Float64}, B::Matrix{Float64})\n",
      "   @ LinearAlgebra C:\\Users\\matsz\\.julia\\juliaup\\julia-1.10.2+0.x64.w64.mingw32\\share\\julia\\stdlib\\v1.10\\LinearAlgebra\\src\\matmul.jl:63\n",
      " [7] top-level scope\n",
      "   @ c:\\Users\\matsz\\programowanie\\Optymalizacja_portfela\\julia_msp\\jl_notebook_cell_df34fa98e69747e1a8f8a730347b8e2f_Y125sZmlsZQ==.jl:5"
     ]
    }
   ],
   "source": [
    "X = [.03, .045]\n",
    "C = [.3 .5]\n",
    "P = diagm([.011, .007])\n",
    "\n",
    "X * P #* transpose(X)\n",
    "#dot(C, X)\n",
    "dot(X, P)"
   ]
  },
  {
   "cell_type": "code",
   "execution_count": 49,
   "metadata": {},
   "outputs": [
    {
     "data": {
      "text/plain": [
       "2-element Vector{Int64}:\n",
       "  8\n",
       " 18"
      ]
     },
     "metadata": {},
     "output_type": "display_data"
    }
   ],
   "source": [
    "A = [1 2; 3 4]\n",
    "B = [2, 3]\n",
    "A * B"
   ]
  },
  {
   "cell_type": "code",
   "execution_count": 50,
   "metadata": {},
   "outputs": [
    {
     "data": {
      "text/plain": [
       "1×1 Matrix{Int64}:\n",
       " 8"
      ]
     },
     "metadata": {},
     "output_type": "display_data"
    }
   ],
   "source": [
    "a = [1 2]\n",
    "b = [2 3]\n",
    "\n",
    "a * transpose(b)"
   ]
  },
  {
   "cell_type": "code",
   "execution_count": 51,
   "metadata": {},
   "outputs": [
    {
     "data": {
      "text/plain": [
       "2×2 Matrix{Float64}:\n",
       " -2.0   1.0\n",
       "  1.5  -0.5"
      ]
     },
     "metadata": {},
     "output_type": "display_data"
    }
   ],
   "source": [
    "inv([1 2; 3 4])"
   ]
  },
  {
   "cell_type": "code",
   "execution_count": 52,
   "metadata": {},
   "outputs": [
    {
     "data": {
      "text/plain": [
       "4×2 Matrix{Float64}:\n",
       " 0.03   0.0\n",
       " 0.045  0.0\n",
       " 0.0    0.03\n",
       " 0.0    0.045"
      ]
     },
     "metadata": {},
     "output_type": "display_data"
    }
   ],
   "source": [
    "kron(I(2), X)"
   ]
  }
 ],
 "metadata": {
  "kernelspec": {
   "display_name": "Julia 1.10.2",
   "language": "julia",
   "name": "julia-1.10"
  },
  "language_info": {
   "file_extension": ".jl",
   "mimetype": "application/julia",
   "name": "julia",
   "version": "1.10.2"
  }
 },
 "nbformat": 4,
 "nbformat_minor": 2
}
