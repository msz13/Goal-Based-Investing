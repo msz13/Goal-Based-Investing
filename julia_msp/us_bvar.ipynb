{
 "cells": [
  {
   "cell_type": "code",
   "execution_count": 2,
   "metadata": {},
   "outputs": [
    {
     "name": "stderr",
     "output_type": "stream",
     "text": [
      "WARNING: replacing module FinancialBVAR.\n"
     ]
    },
    {
     "data": {
      "text/plain": [
       "Main.FinancialBVAR"
      ]
     },
     "metadata": {},
     "output_type": "display_data"
    }
   ],
   "source": [
    "using Revise\n",
    "using Turing, MCMCChains\n",
    "using XLSX\n",
    "using DataFrames, TimeSeries\n",
    "using StatsPlots\n",
    "using LinearAlgebra\n",
    "using CSV\n",
    "using StatsBase\n",
    "include(\"utils.jl\")\n",
    "include(\"financial_bvar_temp.jl\")"
   ]
  },
  {
   "cell_type": "code",
   "execution_count": 15,
   "metadata": {},
   "outputs": [
    {
     "data": {
      "text/html": [
       "<div><div style = \"float: left;\"><span>20×14 DataFrame</span></div><div style = \"clear: both;\"></div></div><div class = \"data-frame\" style = \"overflow-x: scroll;\"><table class = \"data-frame\" style = \"margin-bottom: 6px;\"><thead><tr class = \"header\"><th class = \"rowNumber\" style = \"font-weight: bold; text-align: right;\">Row</th><th style = \"text-align: left;\">x1</th><th style = \"text-align: left;\">x2</th><th style = \"text-align: left;\">x3</th><th style = \"text-align: left;\">x4</th><th style = \"text-align: left;\">x5</th><th style = \"text-align: left;\">x6</th><th style = \"text-align: left;\">x7</th><th style = \"text-align: left;\">x8</th><th style = \"text-align: left;\">x9</th><th style = \"text-align: left;\">x10</th><th style = \"text-align: left;\">x11</th><th style = \"text-align: left;\">x12</th><th style = \"text-align: left;\">x13</th><th style = \"text-align: left;\">x14</th></tr><tr class = \"subheader headerLastRow\"><th class = \"rowNumber\" style = \"font-weight: bold; text-align: right;\"></th><th title = \"Any\" style = \"text-align: left;\">Any</th><th title = \"Any\" style = \"text-align: left;\">Any</th><th title = \"Any\" style = \"text-align: left;\">Any</th><th title = \"Any\" style = \"text-align: left;\">Any</th><th title = \"Any\" style = \"text-align: left;\">Any</th><th title = \"Any\" style = \"text-align: left;\">Any</th><th title = \"Any\" style = \"text-align: left;\">Any</th><th title = \"Any\" style = \"text-align: left;\">Any</th><th title = \"Any\" style = \"text-align: left;\">Any</th><th title = \"Any\" style = \"text-align: left;\">Any</th><th title = \"Any\" style = \"text-align: left;\">Any</th><th title = \"Any\" style = \"text-align: left;\">Any</th><th title = \"Any\" style = \"text-align: left;\">Any</th><th title = \"Any\" style = \"text-align: left;\">Any</th></tr></thead><tbody><tr><td class = \"rowNumber\" style = \"font-weight: bold; text-align: right;\">1</td><td style = \"text-align: left;\">2023.01</td><td style = \"text-align: left;\">3960.66</td><td style = \"text-align: left;\">67.35</td><td style = \"text-align: left;\">173.557</td><td style = \"text-align: left;\">299.17</td><td style = \"text-align: left;\">2023.04</td><td style = \"text-align: left;\">3.53</td><td style = \"text-align: left;\">4.54</td><td style = \"text-align: left;\">4160.36</td><td style = \"text-align: left;\">70.7459</td><td style = \"text-align: left;\">2.70958e6</td><td style = \"text-align: left;\">182.308</td><td style = \"text-align: left;\">1.18734e5</td><td style = \"text-align: left;\">28.3348</td></tr><tr><td class = \"rowNumber\" style = \"font-weight: bold; text-align: right;\">2</td><td style = \"text-align: left;\">2023.02</td><td style = \"text-align: left;\">4079.68</td><td style = \"text-align: left;\">67.78</td><td style = \"text-align: left;\">174.363</td><td style = \"text-align: left;\">300.84</td><td style = \"text-align: left;\">2023.12</td><td style = \"text-align: left;\">3.75</td><td style = \"text-align: left;\">4.65</td><td style = \"text-align: left;\">4261.6</td><td style = \"text-align: left;\">70.8023</td><td style = \"text-align: left;\">2.77936e6</td><td style = \"text-align: left;\">182.138</td><td style = \"text-align: left;\">1.18788e5</td><td style = \"text-align: left;\">28.9198</td></tr><tr><td class = \"rowNumber\" style = \"font-weight: bold; text-align: right;\">3</td><td style = \"text-align: left;\">2023.03</td><td style = \"text-align: left;\">3968.56</td><td style = \"text-align: left;\">68.21</td><td style = \"text-align: left;\">175.17</td><td style = \"text-align: left;\">301.836</td><td style = \"text-align: left;\">2023.21</td><td style = \"text-align: left;\">3.66</td><td style = \"text-align: left;\">4.69</td><td style = \"text-align: left;\">4131.84</td><td style = \"text-align: left;\">71.0164</td><td style = \"text-align: left;\">2.69859e6</td><td style = \"text-align: left;\">182.377</td><td style = \"text-align: left;\">1.19114e5</td><td style = \"text-align: left;\">27.9381</td></tr><tr><td class = \"rowNumber\" style = \"font-weight: bold; text-align: right;\">4</td><td style = \"text-align: left;\">2023.04</td><td style = \"text-align: left;\">4121.47</td><td style = \"text-align: left;\">68.3767</td><td style = \"text-align: left;\">177.117</td><td style = \"text-align: left;\">303.363</td><td style = \"text-align: left;\">2023.29</td><td style = \"text-align: left;\">3.46</td><td style = \"text-align: left;\">4.92</td><td style = \"text-align: left;\">4269.44</td><td style = \"text-align: left;\">70.8316</td><td style = \"text-align: left;\">2.79232e6</td><td style = \"text-align: left;\">183.476</td><td style = \"text-align: left;\">1.19997e5</td><td style = \"text-align: left;\">28.7648</td></tr><tr><td class = \"rowNumber\" style = \"font-weight: bold; text-align: right;\">5</td><td style = \"text-align: left;\">2023.05</td><td style = \"text-align: left;\">4146.17</td><td style = \"text-align: left;\">68.5433</td><td style = \"text-align: left;\">179.063</td><td style = \"text-align: left;\">304.127</td><td style = \"text-align: left;\">2023.37</td><td style = \"text-align: left;\">3.57</td><td style = \"text-align: left;\">5.14</td><td style = \"text-align: left;\">4284.24</td><td style = \"text-align: left;\">70.8258</td><td style = \"text-align: left;\">2.80586e6</td><td style = \"text-align: left;\">185.026</td><td style = \"text-align: left;\">1.21178e5</td><td style = \"text-align: left;\">28.7621</td></tr><tr><td class = \"rowNumber\" style = \"font-weight: bold; text-align: right;\">6</td><td style = \"text-align: left;\">2023.06</td><td style = \"text-align: left;\">4345.37</td><td style = \"text-align: left;\">68.71</td><td style = \"text-align: left;\">181.01</td><td style = \"text-align: left;\">305.109</td><td style = \"text-align: left;\">2023.46</td><td style = \"text-align: left;\">3.75</td><td style = \"text-align: left;\">5.16</td><td style = \"text-align: left;\">4475.62</td><td style = \"text-align: left;\">70.7696</td><td style = \"text-align: left;\">2.93506e6</td><td style = \"text-align: left;\">186.436</td><td style = \"text-align: left;\">1.22262e5</td><td style = \"text-align: left;\">29.94</td></tr><tr><td class = \"rowNumber\" style = \"font-weight: bold; text-align: right;\">7</td><td style = \"text-align: left;\">2023.07</td><td style = \"text-align: left;\">4508.08</td><td style = \"text-align: left;\">68.911</td><td style = \"text-align: left;\">182.09</td><td style = \"text-align: left;\">305.691</td><td style = \"text-align: left;\">2023.54</td><td style = \"text-align: left;\">3.9</td><td style = \"text-align: left;\">5.25</td><td style = \"text-align: left;\">4634.36</td><td style = \"text-align: left;\">70.8415</td><td style = \"text-align: left;\">3.04303e6</td><td style = \"text-align: left;\">187.191</td><td style = \"text-align: left;\">122914.0</td><td style = \"text-align: left;\">30.8917</td></tr><tr><td class = \"rowNumber\" style = \"font-weight: bold; text-align: right;\">8</td><td style = \"text-align: left;\">2023.08</td><td style = \"text-align: left;\">4457.36</td><td style = \"text-align: left;\">69.1121</td><td style = \"text-align: left;\">183.17</td><td style = \"text-align: left;\">307.026</td><td style = \"text-align: left;\">2023.62</td><td style = \"text-align: left;\">4.17</td><td style = \"text-align: left;\">5.3</td><td style = \"text-align: left;\">4562.3</td><td style = \"text-align: left;\">70.7392</td><td style = \"text-align: left;\">2.99958e6</td><td style = \"text-align: left;\">187.482</td><td style = \"text-align: left;\">1.23264e5</td><td style = \"text-align: left;\">30.3047</td></tr><tr><td class = \"rowNumber\" style = \"font-weight: bold; text-align: right;\">9</td><td style = \"text-align: left;\">2023.09</td><td style = \"text-align: left;\">4409.09</td><td style = \"text-align: left;\">69.3131</td><td style = \"text-align: left;\">184.25</td><td style = \"text-align: left;\">307.789</td><td style = \"text-align: left;\">2023.71</td><td style = \"text-align: left;\">4.38</td><td style = \"text-align: left;\">5.32</td><td style = \"text-align: left;\">4501.71</td><td style = \"text-align: left;\">70.7691</td><td style = \"text-align: left;\">2.96363e6</td><td style = \"text-align: left;\">188.12</td><td style = \"text-align: left;\">1.23846e5</td><td style = \"text-align: left;\">29.7997</td></tr><tr><td class = \"rowNumber\" style = \"font-weight: bold; text-align: right;\">10</td><td style = \"text-align: left;\">2023.1</td><td style = \"text-align: left;\">4269.4</td><td style = \"text-align: left;\">69.6433</td><td style = \"text-align: left;\">186.977</td><td style = \"text-align: left;\">307.671</td><td style = \"text-align: left;\">2023.79</td><td style = \"text-align: left;\">4.8</td><td style = \"text-align: left;\">5.34</td><td style = \"text-align: left;\">4360.76</td><td style = \"text-align: left;\">71.1335</td><td style = \"text-align: left;\">2.87473e6</td><td style = \"text-align: left;\">190.978</td><td style = \"text-align: left;\">1.25898e5</td><td style = \"text-align: left;\">28.7691</td></tr><tr><td class = \"rowNumber\" style = \"font-weight: bold; text-align: right;\">11</td><td style = \"text-align: left;\">2023.11</td><td style = \"text-align: left;\">4460.06</td><td style = \"text-align: left;\">69.9735</td><td style = \"text-align: left;\">189.703</td><td style = \"text-align: left;\">307.051</td><td style = \"text-align: left;\">2023.87</td><td style = \"text-align: left;\">4.5</td><td style = \"text-align: left;\">5.27</td><td style = \"text-align: left;\">4564.7</td><td style = \"text-align: left;\">71.6151</td><td style = \"text-align: left;\">3.01311e6</td><td style = \"text-align: left;\">194.154</td><td style = \"text-align: left;\">128159.0</td><td style = \"text-align: left;\">30.0132</td></tr><tr><td class = \"rowNumber\" style = \"font-weight: bold; text-align: right;\">12</td><td style = \"text-align: left;\">2023.12</td><td style = \"text-align: left;\">4685.05</td><td style = \"text-align: left;\">70.3037</td><td style = \"text-align: left;\">192.43</td><td style = \"text-align: left;\">306.746</td><td style = \"text-align: left;\">2023.96</td><td style = \"text-align: left;\">4.02</td><td style = \"text-align: left;\">5.24</td><td style = \"text-align: left;\">4799.73</td><td style = \"text-align: left;\">72.0246</td><td style = \"text-align: left;\">3.17222e6</td><td style = \"text-align: left;\">197.14</td><td style = \"text-align: left;\">130293.0</td><td style = \"text-align: left;\">31.4523</td></tr><tr><td class = \"rowNumber\" style = \"font-weight: bold; text-align: right;\">13</td><td style = \"text-align: left;\">2024.01</td><td style = \"text-align: left;\">4815.61</td><td style = \"text-align: left;\">70.4774</td><td style = \"text-align: left;\">192.083</td><td style = \"text-align: left;\">308.417</td><td style = \"text-align: left;\">2024.04</td><td style = \"text-align: left;\">4.06</td><td style = \"text-align: left;\">5.22</td><td style = \"text-align: left;\">4906.76</td><td style = \"text-align: left;\">71.8113</td><td style = \"text-align: left;\">3.24691e6</td><td style = \"text-align: left;\">195.719</td><td style = \"text-align: left;\">1.29511e5</td><td style = \"text-align: left;\">32.0451</td></tr><tr><td class = \"rowNumber\" style = \"font-weight: bold; text-align: right;\">14</td><td style = \"text-align: left;\">2024.02</td><td style = \"text-align: left;\">5011.96</td><td style = \"text-align: left;\">70.6511</td><td style = \"text-align: left;\">191.737</td><td style = \"text-align: left;\">310.326</td><td style = \"text-align: left;\">2024.12</td><td style = \"text-align: left;\">4.21</td><td style = \"text-align: left;\">5.24</td><td style = \"text-align: left;\">5075.41</td><td style = \"text-align: left;\">71.5455</td><td style = \"text-align: left;\">3.36245e6</td><td style = \"text-align: left;\">194.164</td><td style = \"text-align: left;\">1.28633e5</td><td style = \"text-align: left;\">33.0372</td></tr><tr><td class = \"rowNumber\" style = \"font-weight: bold; text-align: right;\">15</td><td style = \"text-align: left;\">2024.03</td><td style = \"text-align: left;\">5170.57</td><td style = \"text-align: left;\">70.8248</td><td style = \"text-align: left;\">191.39</td><td style = \"text-align: left;\">312.332</td><td style = \"text-align: left;\">2024.21</td><td style = \"text-align: left;\">4.21</td><td style = \"text-align: left;\">5.24</td><td style = \"text-align: left;\">5202.4</td><td style = \"text-align: left;\">71.2608</td><td style = \"text-align: left;\">3.45052e6</td><td style = \"text-align: left;\">192.568</td><td style = \"text-align: left;\">1.27722e5</td><td style = \"text-align: left;\">33.7549</td></tr><tr><td class = \"rowNumber\" style = \"font-weight: bold; text-align: right;\">16</td><td style = \"text-align: left;\">2024.04</td><td style = \"text-align: left;\">5112.49</td><td style = \"text-align: left;\">71.2085</td><td style = \"font-style: italic; text-align: left;\">missing</td><td style = \"text-align: left;\">313.548</td><td style = \"text-align: left;\">2024.29</td><td style = \"text-align: left;\">4.54</td><td style = \"text-align: left;\">5.24</td><td style = \"text-align: left;\">5124.01</td><td style = \"text-align: left;\">71.3689</td><td style = \"text-align: left;\">3.40247e6</td><td style = \"font-style: italic; text-align: left;\">missing</td><td style = \"font-style: italic; text-align: left;\">missing</td><td style = \"text-align: left;\">33.1416</td></tr><tr><td class = \"rowNumber\" style = \"font-weight: bold; text-align: right;\">17</td><td style = \"text-align: left;\">2024.05</td><td style = \"text-align: left;\">5235.23</td><td style = \"text-align: left;\">71.5921</td><td style = \"font-style: italic; text-align: left;\">missing</td><td style = \"text-align: left;\">314.069</td><td style = \"text-align: left;\">2024.37</td><td style = \"text-align: left;\">4.48</td><td style = \"text-align: left;\">5.25</td><td style = \"text-align: left;\">5238.32</td><td style = \"text-align: left;\">71.6344</td><td style = \"text-align: left;\">3.48234e6</td><td style = \"font-style: italic; text-align: left;\">missing</td><td style = \"font-style: italic; text-align: left;\">missing</td><td style = \"text-align: left;\">33.8443</td></tr><tr><td class = \"rowNumber\" style = \"font-weight: bold; text-align: right;\">18</td><td style = \"text-align: left;\">2024.06</td><td style = \"text-align: left;\">5415.14</td><td style = \"text-align: left;\">71.9758</td><td style = \"font-style: italic; text-align: left;\">missing</td><td style = \"text-align: left;\">314.175</td><td style = \"text-align: left;\">2024.46</td><td style = \"text-align: left;\">4.31</td><td style = \"text-align: left;\">5.24</td><td style = \"text-align: left;\">5416.51</td><td style = \"text-align: left;\">71.994</td><td style = \"text-align: left;\">3.60478e6</td><td style = \"font-style: italic; text-align: left;\">missing</td><td style = \"font-style: italic; text-align: left;\">missing</td><td style = \"text-align: left;\">34.9581</td></tr><tr><td class = \"rowNumber\" style = \"font-weight: bold; text-align: right;\">19</td><td style = \"text-align: left;\">2024.07</td><td style = \"text-align: left;\">5538.0</td><td style = \"font-style: italic; text-align: left;\">missing</td><td style = \"font-style: italic; text-align: left;\">missing</td><td style = \"text-align: left;\">314.228</td><td style = \"text-align: left;\">2024.54</td><td style = \"text-align: left;\">4.25</td><td style = \"text-align: left;\">5.2</td><td style = \"text-align: left;\">5538.47</td><td style = \"font-style: italic; text-align: left;\">missing</td><td style = \"text-align: left;\">3.68595e6</td><td style = \"font-style: italic; text-align: left;\">missing</td><td style = \"font-style: italic; text-align: left;\">missing</td><td style = \"text-align: left;\">35.7079</td></tr><tr><td class = \"rowNumber\" style = \"font-weight: bold; text-align: right;\">20</td><td style = \"text-align: left;\">2024.08</td><td style = \"text-align: left;\">5446.68</td><td style = \"font-style: italic; text-align: left;\">missing</td><td style = \"font-style: italic; text-align: left;\">missing</td><td style = \"text-align: left;\">314.255</td><td style = \"text-align: left;\">2024.62</td><td style = \"text-align: left;\">4.09</td><td style = \"font-style: italic; text-align: left;\">missing</td><td style = \"text-align: left;\">5446.68</td><td style = \"font-style: italic; text-align: left;\">missing</td><td style = \"text-align: left;\">3.62486e6</td><td style = \"font-style: italic; text-align: left;\">missing</td><td style = \"font-style: italic; text-align: left;\">missing</td><td style = \"text-align: left;\">35.0813</td></tr></tbody></table></div>"
      ],
      "text/latex": [
       "\\begin{tabular}{r|ccccccccccc}\n",
       "\t& x1 & x2 & x3 & x4 & x5 & x6 & x7 & x8 & x9 & x10 & \\\\\n",
       "\t\\hline\n",
       "\t& Any & Any & Any & Any & Any & Any & Any & Any & Any & Any & \\\\\n",
       "\t\\hline\n",
       "\t1 & 2023.01 & 3960.66 & 67.35 & 173.557 & 299.17 & 2023.04 & 3.53 & 4.54 & 4160.36 & 70.7459 & $\\dots$ \\\\\n",
       "\t2 & 2023.02 & 4079.68 & 67.78 & 174.363 & 300.84 & 2023.12 & 3.75 & 4.65 & 4261.6 & 70.8023 & $\\dots$ \\\\\n",
       "\t3 & 2023.03 & 3968.56 & 68.21 & 175.17 & 301.836 & 2023.21 & 3.66 & 4.69 & 4131.84 & 71.0164 & $\\dots$ \\\\\n",
       "\t4 & 2023.04 & 4121.47 & 68.3767 & 177.117 & 303.363 & 2023.29 & 3.46 & 4.92 & 4269.44 & 70.8316 & $\\dots$ \\\\\n",
       "\t5 & 2023.05 & 4146.17 & 68.5433 & 179.063 & 304.127 & 2023.37 & 3.57 & 5.14 & 4284.24 & 70.8258 & $\\dots$ \\\\\n",
       "\t6 & 2023.06 & 4345.37 & 68.71 & 181.01 & 305.109 & 2023.46 & 3.75 & 5.16 & 4475.62 & 70.7696 & $\\dots$ \\\\\n",
       "\t7 & 2023.07 & 4508.08 & 68.911 & 182.09 & 305.691 & 2023.54 & 3.9 & 5.25 & 4634.36 & 70.8415 & $\\dots$ \\\\\n",
       "\t8 & 2023.08 & 4457.36 & 69.1121 & 183.17 & 307.026 & 2023.62 & 4.17 & 5.3 & 4562.3 & 70.7392 & $\\dots$ \\\\\n",
       "\t9 & 2023.09 & 4409.09 & 69.3131 & 184.25 & 307.789 & 2023.71 & 4.38 & 5.32 & 4501.71 & 70.7691 & $\\dots$ \\\\\n",
       "\t10 & 2023.1 & 4269.4 & 69.6433 & 186.977 & 307.671 & 2023.79 & 4.8 & 5.34 & 4360.76 & 71.1335 & $\\dots$ \\\\\n",
       "\t11 & 2023.11 & 4460.06 & 69.9735 & 189.703 & 307.051 & 2023.87 & 4.5 & 5.27 & 4564.7 & 71.6151 & $\\dots$ \\\\\n",
       "\t12 & 2023.12 & 4685.05 & 70.3037 & 192.43 & 306.746 & 2023.96 & 4.02 & 5.24 & 4799.73 & 72.0246 & $\\dots$ \\\\\n",
       "\t13 & 2024.01 & 4815.61 & 70.4774 & 192.083 & 308.417 & 2024.04 & 4.06 & 5.22 & 4906.76 & 71.8113 & $\\dots$ \\\\\n",
       "\t14 & 2024.02 & 5011.96 & 70.6511 & 191.737 & 310.326 & 2024.12 & 4.21 & 5.24 & 5075.41 & 71.5455 & $\\dots$ \\\\\n",
       "\t15 & 2024.03 & 5170.57 & 70.8248 & 191.39 & 312.332 & 2024.21 & 4.21 & 5.24 & 5202.4 & 71.2608 & $\\dots$ \\\\\n",
       "\t16 & 2024.04 & 5112.49 & 71.2085 & \\emph{missing} & 313.548 & 2024.29 & 4.54 & 5.24 & 5124.01 & 71.3689 & $\\dots$ \\\\\n",
       "\t17 & 2024.05 & 5235.23 & 71.5921 & \\emph{missing} & 314.069 & 2024.37 & 4.48 & 5.25 & 5238.32 & 71.6344 & $\\dots$ \\\\\n",
       "\t18 & 2024.06 & 5415.14 & 71.9758 & \\emph{missing} & 314.175 & 2024.46 & 4.31 & 5.24 & 5416.51 & 71.994 & $\\dots$ \\\\\n",
       "\t19 & 2024.07 & 5538.0 & \\emph{missing} & \\emph{missing} & 314.228 & 2024.54 & 4.25 & 5.2 & 5538.47 & \\emph{missing} & $\\dots$ \\\\\n",
       "\t20 & 2024.08 & 5446.68 & \\emph{missing} & \\emph{missing} & 314.255 & 2024.62 & 4.09 & \\emph{missing} & 5446.68 & \\emph{missing} & $\\dots$ \\\\\n",
       "\\end{tabular}\n"
      ],
      "text/plain": [
       "\u001b[1m20×14 DataFrame\u001b[0m\n",
       "\u001b[1m Row \u001b[0m│\u001b[1m x1      \u001b[0m\u001b[1m x2      \u001b[0m\u001b[1m x3      \u001b[0m\u001b[1m x4      \u001b[0m\u001b[1m x5      \u001b[0m\u001b[1m x6      \u001b[0m\u001b[1m x7   \u001b[0m\u001b[1m x8      \u001b[0m\u001b[1m x9\u001b[0m ⋯\n",
       "     │\u001b[90m Any     \u001b[0m\u001b[90m Any     \u001b[0m\u001b[90m Any     \u001b[0m\u001b[90m Any     \u001b[0m\u001b[90m Any     \u001b[0m\u001b[90m Any     \u001b[0m\u001b[90m Any  \u001b[0m\u001b[90m Any     \u001b[0m\u001b[90m An\u001b[0m ⋯\n",
       "─────┼──────────────────────────────────────────────────────────────────────────\n",
       "   1 │ 2023.01  3960.66  67.35    173.557  299.17   2023.04  3.53  4.54     41 ⋯\n",
       "   2 │ 2023.02  4079.68  67.78    174.363  300.84   2023.12  3.75  4.65     42\n",
       "   3 │ 2023.03  3968.56  68.21    175.17   301.836  2023.21  3.66  4.69     41\n",
       "   4 │ 2023.04  4121.47  68.3767  177.117  303.363  2023.29  3.46  4.92     42\n",
       "   5 │ 2023.05  4146.17  68.5433  179.063  304.127  2023.37  3.57  5.14     42 ⋯\n",
       "   6 │ 2023.06  4345.37  68.71    181.01   305.109  2023.46  3.75  5.16     44\n",
       "   7 │ 2023.07  4508.08  68.911   182.09   305.691  2023.54  3.9   5.25     46\n",
       "   8 │ 2023.08  4457.36  69.1121  183.17   307.026  2023.62  4.17  5.3      45\n",
       "  ⋮  │    ⋮        ⋮        ⋮        ⋮        ⋮        ⋮      ⋮       ⋮        ⋱\n",
       "  14 │ 2024.02  5011.96  70.6511  191.737  310.326  2024.12  4.21  5.24     50 ⋯\n",
       "  15 │ 2024.03  5170.57  70.8248  191.39   312.332  2024.21  4.21  5.24     52\n",
       "  16 │ 2024.04  5112.49  71.2085 \u001b[90m missing \u001b[0m 313.548  2024.29  4.54  5.24     51\n",
       "  17 │ 2024.05  5235.23  71.5921 \u001b[90m missing \u001b[0m 314.069  2024.37  4.48  5.25     52\n",
       "  18 │ 2024.06  5415.14  71.9758 \u001b[90m missing \u001b[0m 314.175  2024.46  4.31  5.24     54 ⋯\n",
       "  19 │ 2024.07  5538.0  \u001b[90m missing \u001b[0m\u001b[90m missing \u001b[0m 314.228  2024.54  4.25  5.2      55\n",
       "  20 │ 2024.08  5446.68 \u001b[90m missing \u001b[0m\u001b[90m missing \u001b[0m 314.255  2024.62  4.09 \u001b[90m missing \u001b[0m 54\n",
       "\u001b[36m                                                    6 columns and 5 rows omitted\u001b[0m"
      ]
     },
     "metadata": {},
     "output_type": "display_data"
    }
   ],
   "source": [
    "data_df = DataFrame(XLSX.readdata(\"shiller_data.xlsx\", \"Data!A8:N1852\"), :auto)\n",
    "last(data_df,20)"
   ]
  },
  {
   "cell_type": "code",
   "execution_count": 4,
   "metadata": {},
   "outputs": [
    {
     "ename": "ArgumentError",
     "evalue": "ArgumentError: column name :Date not found in the data frame",
     "output_type": "error",
     "traceback": [
      "ArgumentError: column name :Date not found in the data frame\n",
      "\n",
      "Stacktrace:\n",
      " [1] lookupname\n",
      "   @ C:\\Users\\matsz\\.julia\\packages\\DataFrames\\58MUJ\\src\\other\\index.jl:413 [inlined]\n",
      " [2] getindex\n",
      "   @ C:\\Users\\matsz\\.julia\\packages\\DataFrames\\58MUJ\\src\\other\\index.jl:422 [inlined]\n",
      " [3] (::DataFrames.var\"#37#38\"{DataFrames.Index})(i::Symbol)\n",
      "   @ DataFrames .\\none:0\n",
      " [4] iterate\n",
      "   @ .\\generator.jl:47 [inlined]\n",
      " [5] collect(itr::Base.Generator{Vector{Symbol}, DataFrames.var\"#37#38\"{DataFrames.Index}})\n",
      "   @ Base .\\array.jl:834\n",
      " [6] getindex\n",
      "   @ C:\\Users\\matsz\\.julia\\packages\\DataFrames\\58MUJ\\src\\other\\index.jl:428 [inlined]\n",
      " [7] getindex(df::DataFrame, row_inds::UnitRange{Int64}, col_inds::Vector{Symbol})\n",
      "   @ DataFrames C:\\Users\\matsz\\.julia\\packages\\DataFrames\\58MUJ\\src\\dataframe\\dataframe.jl:584\n",
      " [8] top-level scope\n",
      "   @ c:\\Users\\matsz\\programowanie\\Optymalizacja_portfela\\julia_msp\\us_bvar.ipynb:2"
     ]
    }
   ],
   "source": [
    "columns = [:Date, :short_us, :real_us, :term_us]\n",
    "data_df = DataFrame(XLSX.readtable(\"shiller_data.xlsx\", \"Data\"; infer_eltypes=true))[2:end, columns]\n",
    "dropmissing!(data_df, disallowmissing=true)\n",
    "macro_data = TimeArray(data_df; timestamp = :Date)"
   ]
  }
 ],
 "metadata": {
  "kernelspec": {
   "display_name": "Julia 1.10.2",
   "language": "julia",
   "name": "julia-1.10"
  },
  "language_info": {
   "file_extension": ".jl",
   "mimetype": "application/julia",
   "name": "julia",
   "version": "1.10.2"
  }
 },
 "nbformat": 4,
 "nbformat_minor": 2
}
