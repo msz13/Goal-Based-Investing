{
 "cells": [
  {
   "cell_type": "code",
   "execution_count": 2,
   "metadata": {},
   "outputs": [
    {
     "name": "stderr",
     "output_type": "stream",
     "text": [
      "WARNING: replacing module FinancialBVAR.\n"
     ]
    },
    {
     "data": {
      "text/plain": [
       "Main.FinancialBVAR"
      ]
     },
     "metadata": {},
     "output_type": "display_data"
    }
   ],
   "source": [
    "using Revise\n",
    "using Turing, MCMCChains\n",
    "using XLSX\n",
    "using DataFrames, TimeSeries\n",
    "using StatsPlots\n",
    "using LinearAlgebra\n",
    "using CSV\n",
    "using StatsBase\n",
    "include(\"utils.jl\")\n",
    "include(\"financial_bvar_temp.jl\")"
   ]
  },
  {
   "cell_type": "code",
   "execution_count": 20,
   "metadata": {},
   "outputs": [
    {
     "data": {
      "text/html": [
       "<div><div style = \"float: left;\"><span>20×10 DataFrame</span></div><div style = \"clear: both;\"></div></div><div class = \"data-frame\" style = \"overflow-x: scroll;\"><table class = \"data-frame\" style = \"margin-bottom: 6px;\"><thead><tr class = \"header\"><th class = \"rowNumber\" style = \"font-weight: bold; text-align: right;\">Row</th><th style = \"text-align: left;\">Date</th><th style = \"text-align: left;\">10Y_Yeld</th><th style = \"text-align: left;\">10Y_Price</th><th style = \"text-align: left;\">Stock_Price</th><th style = \"text-align: left;\">Dividend</th><th style = \"text-align: left;\">E</th><th style = \"text-align: left;\">CAPE</th><th style = \"text-align: left;\">T-Bill</th><th style = \"text-align: left;\">CPI</th><th style = \"text-align: left;\">Dividend_Yeld</th></tr><tr class = \"subheader headerLastRow\"><th class = \"rowNumber\" style = \"font-weight: bold; text-align: right;\"></th><th title = \"Date\" style = \"text-align: left;\">Date</th><th title = \"Float64\" style = \"text-align: left;\">Float64</th><th title = \"Float64\" style = \"text-align: left;\">Float64</th><th title = \"Float64\" style = \"text-align: left;\">Float64</th><th title = \"Float64\" style = \"text-align: left;\">Float64</th><th title = \"Float64\" style = \"text-align: left;\">Float64</th><th title = \"Float64\" style = \"text-align: left;\">Float64</th><th title = \"Float64\" style = \"text-align: left;\">Float64</th><th title = \"Float64\" style = \"text-align: left;\">Float64</th><th title = \"Float64\" style = \"text-align: left;\">Float64</th></tr></thead><tbody><tr><td class = \"rowNumber\" style = \"font-weight: bold; text-align: right;\">1</td><td style = \"text-align: left;\">1951-12-01</td><td style = \"text-align: right;\">0.02513</td><td style = \"text-align: right;\">104.098</td><td style = \"text-align: right;\">24.19</td><td style = \"text-align: right;\">1.41333</td><td style = \"text-align: right;\">2.44</td><td style = \"text-align: right;\">12.5271</td><td style = \"text-align: right;\">1.73</td><td style = \"text-align: right;\">26.5</td><td style = \"text-align: right;\">0.0584262</td></tr><tr><td class = \"rowNumber\" style = \"font-weight: bold; text-align: right;\">2</td><td style = \"text-align: left;\">1952-01-01</td><td style = \"text-align: right;\">0.02463</td><td style = \"text-align: right;\">104.771</td><td style = \"text-align: right;\">23.75</td><td style = \"text-align: right;\">1.41667</td><td style = \"text-align: right;\">2.42667</td><td style = \"text-align: right;\">12.3641</td><td style = \"text-align: right;\">1.57</td><td style = \"text-align: right;\">26.3</td><td style = \"text-align: right;\">0.0596493</td></tr><tr><td class = \"rowNumber\" style = \"font-weight: bold; text-align: right;\">3</td><td style = \"text-align: left;\">1952-02-01</td><td style = \"text-align: right;\">0.02617</td><td style = \"text-align: right;\">103.585</td><td style = \"text-align: right;\">23.81</td><td style = \"text-align: right;\">1.42</td><td style = \"text-align: right;\">2.41333</td><td style = \"text-align: right;\">12.3623</td><td style = \"text-align: right;\">1.54</td><td style = \"text-align: right;\">26.3</td><td style = \"text-align: right;\">0.0596388</td></tr><tr><td class = \"rowNumber\" style = \"font-weight: bold; text-align: right;\">4</td><td style = \"text-align: left;\">1952-03-01</td><td style = \"text-align: right;\">0.02505</td><td style = \"text-align: right;\">104.824</td><td style = \"text-align: right;\">23.74</td><td style = \"text-align: right;\">1.43</td><td style = \"text-align: right;\">2.4</td><td style = \"text-align: right;\">12.2427</td><td style = \"text-align: right;\">1.59</td><td style = \"text-align: right;\">26.4</td><td style = \"text-align: right;\">0.0602359</td></tr><tr><td class = \"rowNumber\" style = \"font-weight: bold; text-align: right;\">5</td><td style = \"text-align: left;\">1952-04-01</td><td style = \"text-align: right;\">0.02422</td><td style = \"text-align: right;\">105.806</td><td style = \"text-align: right;\">23.73</td><td style = \"text-align: right;\">1.44</td><td style = \"text-align: right;\">2.38</td><td style = \"text-align: right;\">12.2005</td><td style = \"text-align: right;\">1.57</td><td style = \"text-align: right;\">26.4</td><td style = \"text-align: right;\">0.0606827</td></tr><tr><td class = \"rowNumber\" style = \"font-weight: bold; text-align: right;\">6</td><td style = \"text-align: left;\">1952-05-01</td><td style = \"text-align: right;\">0.02384</td><td style = \"text-align: right;\">106.373</td><td style = \"text-align: right;\">24.38</td><td style = \"text-align: right;\">1.45</td><td style = \"text-align: right;\">2.36</td><td style = \"text-align: right;\">12.4479</td><td style = \"text-align: right;\">1.67</td><td style = \"text-align: right;\">26.5</td><td style = \"text-align: right;\">0.059475</td></tr><tr><td class = \"rowNumber\" style = \"font-weight: bold; text-align: right;\">7</td><td style = \"text-align: left;\">1952-06-01</td><td style = \"text-align: right;\">0.02415</td><td style = \"text-align: right;\">106.295</td><td style = \"text-align: right;\">25.08</td><td style = \"text-align: right;\">1.45</td><td style = \"text-align: right;\">2.34</td><td style = \"text-align: right;\">12.6691</td><td style = \"text-align: right;\">1.7</td><td style = \"text-align: right;\">26.7</td><td style = \"text-align: right;\">0.057815</td></tr><tr><td class = \"rowNumber\" style = \"font-weight: bold; text-align: right;\">8</td><td style = \"text-align: left;\">1952-07-01</td><td style = \"text-align: right;\">0.02466</td><td style = \"text-align: right;\">106.034</td><td style = \"text-align: right;\">25.18</td><td style = \"text-align: right;\">1.45</td><td style = \"text-align: right;\">2.34667</td><td style = \"text-align: right;\">12.6784</td><td style = \"text-align: right;\">1.81</td><td style = \"text-align: right;\">26.7</td><td style = \"text-align: right;\">0.0575854</td></tr><tr><td class = \"rowNumber\" style = \"font-weight: bold; text-align: right;\">9</td><td style = \"text-align: left;\">1952-08-01</td><td style = \"text-align: right;\">0.02552</td><td style = \"text-align: right;\">105.458</td><td style = \"text-align: right;\">24.78</td><td style = \"text-align: right;\">1.45</td><td style = \"text-align: right;\">2.35333</td><td style = \"text-align: right;\">12.4347</td><td style = \"text-align: right;\">1.83</td><td style = \"text-align: right;\">26.7</td><td style = \"text-align: right;\">0.0585149</td></tr><tr><td class = \"rowNumber\" style = \"font-weight: bold; text-align: right;\">10</td><td style = \"text-align: left;\">1952-09-01</td><td style = \"text-align: right;\">0.02685</td><td style = \"text-align: right;\">104.468</td><td style = \"text-align: right;\">24.26</td><td style = \"text-align: right;\">1.43667</td><td style = \"text-align: right;\">2.36</td><td style = \"text-align: right;\">12.1312</td><td style = \"text-align: right;\">1.71</td><td style = \"text-align: right;\">26.7</td><td style = \"text-align: right;\">0.0592197</td></tr><tr><td class = \"rowNumber\" style = \"font-weight: bold; text-align: right;\">11</td><td style = \"text-align: left;\">1952-10-01</td><td style = \"text-align: right;\">0.02528</td><td style = \"text-align: right;\">106.132</td><td style = \"text-align: right;\">25.03</td><td style = \"text-align: right;\">1.42333</td><td style = \"text-align: right;\">2.37333</td><td style = \"text-align: right;\">12.4735</td><td style = \"text-align: right;\">1.74</td><td style = \"text-align: right;\">26.7</td><td style = \"text-align: right;\">0.056865</td></tr><tr><td class = \"rowNumber\" style = \"font-weight: bold; text-align: right;\">12</td><td style = \"text-align: left;\">1952-11-01</td><td style = \"text-align: right;\">0.0251</td><td style = \"text-align: right;\">106.523</td><td style = \"text-align: right;\">26.04</td><td style = \"text-align: right;\">1.41</td><td style = \"text-align: right;\">2.38667</td><td style = \"text-align: right;\">12.934</td><td style = \"text-align: right;\">1.85</td><td style = \"text-align: right;\">26.7</td><td style = \"text-align: right;\">0.0541475</td></tr><tr><td class = \"rowNumber\" style = \"font-weight: bold; text-align: right;\">13</td><td style = \"text-align: left;\">1952-12-01</td><td style = \"text-align: right;\">0.02547</td><td style = \"text-align: right;\">106.402</td><td style = \"text-align: right;\">26.18</td><td style = \"text-align: right;\">1.41</td><td style = \"text-align: right;\">2.4</td><td style = \"text-align: right;\">13.0108</td><td style = \"text-align: right;\">2.09</td><td style = \"text-align: right;\">26.6</td><td style = \"text-align: right;\">0.0538579</td></tr><tr><td class = \"rowNumber\" style = \"font-weight: bold; text-align: right;\">14</td><td style = \"text-align: left;\">1953-01-01</td><td style = \"text-align: right;\">0.0264</td><td style = \"text-align: right;\">105.769</td><td style = \"text-align: right;\">25.86</td><td style = \"text-align: right;\">1.41</td><td style = \"text-align: right;\">2.41</td><td style = \"text-align: right;\">12.8593</td><td style = \"text-align: right;\">1.96</td><td style = \"text-align: right;\">26.5</td><td style = \"text-align: right;\">0.0545244</td></tr><tr><td class = \"rowNumber\" style = \"font-weight: bold; text-align: right;\">15</td><td style = \"text-align: left;\">1953-02-01</td><td style = \"text-align: right;\">0.0271</td><td style = \"text-align: right;\">105.362</td><td style = \"text-align: right;\">25.99</td><td style = \"text-align: right;\">1.41</td><td style = \"text-align: right;\">2.42</td><td style = \"text-align: right;\">12.8348</td><td style = \"text-align: right;\">1.97</td><td style = \"text-align: right;\">26.6</td><td style = \"text-align: right;\">0.0542516</td></tr><tr><td class = \"rowNumber\" style = \"font-weight: bold; text-align: right;\">16</td><td style = \"text-align: left;\">1953-03-01</td><td style = \"text-align: right;\">0.02735</td><td style = \"text-align: right;\">105.373</td><td style = \"text-align: right;\">24.71</td><td style = \"text-align: right;\">1.41333</td><td style = \"text-align: right;\">2.43</td><td style = \"text-align: right;\">12.1639</td><td style = \"text-align: right;\">2.01</td><td style = \"text-align: right;\">26.6</td><td style = \"text-align: right;\">0.0571967</td></tr><tr><td class = \"rowNumber\" style = \"font-weight: bold; text-align: right;\">17</td><td style = \"text-align: left;\">1953-04-01</td><td style = \"text-align: right;\">0.02986</td><td style = \"text-align: right;\">103.357</td><td style = \"text-align: right;\">24.84</td><td style = \"text-align: right;\">1.41667</td><td style = \"text-align: right;\">2.45667</td><td style = \"text-align: right;\">12.142</td><td style = \"text-align: right;\">2.19</td><td style = \"text-align: right;\">26.7</td><td style = \"text-align: right;\">0.0570318</td></tr><tr><td class = \"rowNumber\" style = \"font-weight: bold; text-align: right;\">18</td><td style = \"text-align: left;\">1953-05-01</td><td style = \"text-align: right;\">0.03289</td><td style = \"text-align: right;\">100.983</td><td style = \"text-align: right;\">23.95</td><td style = \"text-align: right;\">1.42</td><td style = \"text-align: right;\">2.48333</td><td style = \"text-align: right;\">11.6244</td><td style = \"text-align: right;\">2.16</td><td style = \"text-align: right;\">26.8</td><td style = \"text-align: right;\">0.0592902</td></tr><tr><td class = \"rowNumber\" style = \"font-weight: bold; text-align: right;\">19</td><td style = \"text-align: left;\">1953-06-01</td><td style = \"text-align: right;\">0.02987</td><td style = \"text-align: right;\">103.86</td><td style = \"text-align: right;\">24.29</td><td style = \"text-align: right;\">1.42</td><td style = \"text-align: right;\">2.51</td><td style = \"text-align: right;\">11.7502</td><td style = \"text-align: right;\">2.11</td><td style = \"text-align: right;\">26.8</td><td style = \"text-align: right;\">0.0584603</td></tr><tr><td class = \"rowNumber\" style = \"font-weight: bold; text-align: right;\">20</td><td style = \"text-align: left;\">1953-07-01</td><td style = \"text-align: right;\">0.02972</td><td style = \"text-align: right;\">104.252</td><td style = \"text-align: right;\">24.39</td><td style = \"text-align: right;\">1.42</td><td style = \"text-align: right;\">2.52333</td><td style = \"text-align: right;\">11.7151</td><td style = \"text-align: right;\">2.04</td><td style = \"text-align: right;\">26.9</td><td style = \"text-align: right;\">0.0582206</td></tr></tbody></table></div>"
      ],
      "text/latex": [
       "\\begin{tabular}{r|ccccccccc}\n",
       "\t& Date & 10Y\\_Yeld & 10Y\\_Price & Stock\\_Price & Dividend & E & CAPE & T-Bill & \\\\\n",
       "\t\\hline\n",
       "\t& Date & Float64 & Float64 & Float64 & Float64 & Float64 & Float64 & Float64 & \\\\\n",
       "\t\\hline\n",
       "\t1 & 1951-12-01 & 0.02513 & 104.098 & 24.19 & 1.41333 & 2.44 & 12.5271 & 1.73 & $\\dots$ \\\\\n",
       "\t2 & 1952-01-01 & 0.02463 & 104.771 & 23.75 & 1.41667 & 2.42667 & 12.3641 & 1.57 & $\\dots$ \\\\\n",
       "\t3 & 1952-02-01 & 0.02617 & 103.585 & 23.81 & 1.42 & 2.41333 & 12.3623 & 1.54 & $\\dots$ \\\\\n",
       "\t4 & 1952-03-01 & 0.02505 & 104.824 & 23.74 & 1.43 & 2.4 & 12.2427 & 1.59 & $\\dots$ \\\\\n",
       "\t5 & 1952-04-01 & 0.02422 & 105.806 & 23.73 & 1.44 & 2.38 & 12.2005 & 1.57 & $\\dots$ \\\\\n",
       "\t6 & 1952-05-01 & 0.02384 & 106.373 & 24.38 & 1.45 & 2.36 & 12.4479 & 1.67 & $\\dots$ \\\\\n",
       "\t7 & 1952-06-01 & 0.02415 & 106.295 & 25.08 & 1.45 & 2.34 & 12.6691 & 1.7 & $\\dots$ \\\\\n",
       "\t8 & 1952-07-01 & 0.02466 & 106.034 & 25.18 & 1.45 & 2.34667 & 12.6784 & 1.81 & $\\dots$ \\\\\n",
       "\t9 & 1952-08-01 & 0.02552 & 105.458 & 24.78 & 1.45 & 2.35333 & 12.4347 & 1.83 & $\\dots$ \\\\\n",
       "\t10 & 1952-09-01 & 0.02685 & 104.468 & 24.26 & 1.43667 & 2.36 & 12.1312 & 1.71 & $\\dots$ \\\\\n",
       "\t11 & 1952-10-01 & 0.02528 & 106.132 & 25.03 & 1.42333 & 2.37333 & 12.4735 & 1.74 & $\\dots$ \\\\\n",
       "\t12 & 1952-11-01 & 0.0251 & 106.523 & 26.04 & 1.41 & 2.38667 & 12.934 & 1.85 & $\\dots$ \\\\\n",
       "\t13 & 1952-12-01 & 0.02547 & 106.402 & 26.18 & 1.41 & 2.4 & 13.0108 & 2.09 & $\\dots$ \\\\\n",
       "\t14 & 1953-01-01 & 0.0264 & 105.769 & 25.86 & 1.41 & 2.41 & 12.8593 & 1.96 & $\\dots$ \\\\\n",
       "\t15 & 1953-02-01 & 0.0271 & 105.362 & 25.99 & 1.41 & 2.42 & 12.8348 & 1.97 & $\\dots$ \\\\\n",
       "\t16 & 1953-03-01 & 0.02735 & 105.373 & 24.71 & 1.41333 & 2.43 & 12.1639 & 2.01 & $\\dots$ \\\\\n",
       "\t17 & 1953-04-01 & 0.02986 & 103.357 & 24.84 & 1.41667 & 2.45667 & 12.142 & 2.19 & $\\dots$ \\\\\n",
       "\t18 & 1953-05-01 & 0.03289 & 100.983 & 23.95 & 1.42 & 2.48333 & 11.6244 & 2.16 & $\\dots$ \\\\\n",
       "\t19 & 1953-06-01 & 0.02987 & 103.86 & 24.29 & 1.42 & 2.51 & 11.7502 & 2.11 & $\\dots$ \\\\\n",
       "\t20 & 1953-07-01 & 0.02972 & 104.252 & 24.39 & 1.42 & 2.52333 & 11.7151 & 2.04 & $\\dots$ \\\\\n",
       "\\end{tabular}\n"
      ],
      "text/plain": [
       "\u001b[1m20×10 DataFrame\u001b[0m\n",
       "\u001b[1m Row \u001b[0m│\u001b[1m Date       \u001b[0m\u001b[1m 10Y_Yeld \u001b[0m\u001b[1m 10Y_Price \u001b[0m\u001b[1m Stock_Price \u001b[0m\u001b[1m Dividend \u001b[0m\u001b[1m E       \u001b[0m\u001b[1m CAPE  \u001b[0m ⋯\n",
       "     │\u001b[90m Date       \u001b[0m\u001b[90m Float64  \u001b[0m\u001b[90m Float64   \u001b[0m\u001b[90m Float64     \u001b[0m\u001b[90m Float64  \u001b[0m\u001b[90m Float64 \u001b[0m\u001b[90m Float6\u001b[0m ⋯\n",
       "─────┼──────────────────────────────────────────────────────────────────────────\n",
       "   1 │ 1951-12-01   0.02513    104.098        24.19   1.41333  2.44     12.527 ⋯\n",
       "   2 │ 1952-01-01   0.02463    104.771        23.75   1.41667  2.42667  12.364\n",
       "   3 │ 1952-02-01   0.02617    103.585        23.81   1.42     2.41333  12.362\n",
       "   4 │ 1952-03-01   0.02505    104.824        23.74   1.43     2.4      12.242\n",
       "   5 │ 1952-04-01   0.02422    105.806        23.73   1.44     2.38     12.200 ⋯\n",
       "   6 │ 1952-05-01   0.02384    106.373        24.38   1.45     2.36     12.447\n",
       "   7 │ 1952-06-01   0.02415    106.295        25.08   1.45     2.34     12.669\n",
       "   8 │ 1952-07-01   0.02466    106.034        25.18   1.45     2.34667  12.678\n",
       "  ⋮  │     ⋮          ⋮          ⋮           ⋮          ⋮         ⋮        ⋮   ⋱\n",
       "  14 │ 1953-01-01   0.0264     105.769        25.86   1.41     2.41     12.859 ⋯\n",
       "  15 │ 1953-02-01   0.0271     105.362        25.99   1.41     2.42     12.834\n",
       "  16 │ 1953-03-01   0.02735    105.373        24.71   1.41333  2.43     12.163\n",
       "  17 │ 1953-04-01   0.02986    103.357        24.84   1.41667  2.45667  12.142\n",
       "  18 │ 1953-05-01   0.03289    100.983        23.95   1.42     2.48333  11.624 ⋯\n",
       "  19 │ 1953-06-01   0.02987    103.86         24.29   1.42     2.51     11.750\n",
       "  20 │ 1953-07-01   0.02972    104.252        24.39   1.42     2.52333  11.715\n",
       "\u001b[36m                                                    4 columns and 5 rows omitted\u001b[0m"
      ]
     },
     "metadata": {},
     "output_type": "display_data"
    }
   ],
   "source": [
    "data_df = DataFrame(XLSX.readtable(\"usa_var_data.xlsx\", \"Data\", infer_eltypes=true))\n",
    "first(data_df,20)"
   ]
  },
  {
   "cell_type": "code",
   "execution_count": 21,
   "metadata": {},
   "outputs": [
    {
     "data": {
      "text/html": [
       "<div><div style = \"float: left;\"><span>20×10 DataFrame</span></div><div style = \"clear: both;\"></div></div><div class = \"data-frame\" style = \"overflow-x: scroll;\"><table class = \"data-frame\" style = \"margin-bottom: 6px;\"><thead><tr class = \"header\"><th class = \"rowNumber\" style = \"font-weight: bold; text-align: right;\">Row</th><th style = \"text-align: left;\">Date</th><th style = \"text-align: left;\">10Y_Yeld</th><th style = \"text-align: left;\">10Y_Price</th><th style = \"text-align: left;\">Stock_Price</th><th style = \"text-align: left;\">Dividend</th><th style = \"text-align: left;\">E</th><th style = \"text-align: left;\">CAPE</th><th style = \"text-align: left;\">T-Bill</th><th style = \"text-align: left;\">CPI</th><th style = \"text-align: left;\">Dividend_Yeld</th></tr><tr class = \"subheader headerLastRow\"><th class = \"rowNumber\" style = \"font-weight: bold; text-align: right;\"></th><th title = \"Date\" style = \"text-align: left;\">Date</th><th title = \"Float64\" style = \"text-align: left;\">Float64</th><th title = \"Float64\" style = \"text-align: left;\">Float64</th><th title = \"Float64\" style = \"text-align: left;\">Float64</th><th title = \"Float64\" style = \"text-align: left;\">Float64</th><th title = \"Float64\" style = \"text-align: left;\">Float64</th><th title = \"Float64\" style = \"text-align: left;\">Float64</th><th title = \"Float64\" style = \"text-align: left;\">Float64</th><th title = \"Float64\" style = \"text-align: left;\">Float64</th><th title = \"Float64\" style = \"text-align: left;\">Float64</th></tr></thead><tbody><tr><td class = \"rowNumber\" style = \"font-weight: bold; text-align: right;\">1</td><td style = \"text-align: left;\">2022-12-01</td><td style = \"text-align: right;\">0.0388</td><td style = \"text-align: right;\">4337.28</td><td style = \"text-align: right;\">3960.66</td><td style = \"text-align: right;\">67.35</td><td style = \"text-align: right;\">172.75</td><td style = \"text-align: right;\">28.3348</td><td style = \"text-align: right;\">4.25</td><td style = \"text-align: right;\">299.17</td><td style = \"text-align: right;\">0.0170048</td></tr><tr><td class = \"rowNumber\" style = \"font-weight: bold; text-align: right;\">2</td><td style = \"text-align: left;\">2023-01-01</td><td style = \"text-align: right;\">0.0352</td><td style = \"text-align: right;\">4481.05</td><td style = \"text-align: right;\">4079.68</td><td style = \"text-align: right;\">67.78</td><td style = \"text-align: right;\">173.557</td><td style = \"text-align: right;\">28.9198</td><td style = \"text-align: right;\">4.54</td><td style = \"text-align: right;\">300.84</td><td style = \"text-align: right;\">0.016614</td></tr><tr><td class = \"rowNumber\" style = \"font-weight: bold; text-align: right;\">3</td><td style = \"text-align: left;\">2023-02-01</td><td style = \"text-align: right;\">0.0392</td><td style = \"text-align: right;\">4348.09</td><td style = \"text-align: right;\">3968.56</td><td style = \"text-align: right;\">68.21</td><td style = \"text-align: right;\">174.363</td><td style = \"text-align: right;\">27.9381</td><td style = \"text-align: right;\">4.65</td><td style = \"text-align: right;\">301.836</td><td style = \"text-align: right;\">0.0171876</td></tr><tr><td class = \"rowNumber\" style = \"font-weight: bold; text-align: right;\">4</td><td style = \"text-align: left;\">2023-03-01</td><td style = \"text-align: right;\">0.0348</td><td style = \"text-align: right;\">4521.58</td><td style = \"text-align: right;\">4121.47</td><td style = \"text-align: right;\">68.3767</td><td style = \"text-align: right;\">175.17</td><td style = \"text-align: right;\">28.7648</td><td style = \"text-align: right;\">4.69</td><td style = \"text-align: right;\">303.363</td><td style = \"text-align: right;\">0.0165904</td></tr><tr><td class = \"rowNumber\" style = \"font-weight: bold; text-align: right;\">5</td><td style = \"text-align: left;\">2023-04-01</td><td style = \"text-align: right;\">0.0344</td><td style = \"text-align: right;\">4549.79</td><td style = \"text-align: right;\">4146.17</td><td style = \"text-align: right;\">68.5433</td><td style = \"text-align: right;\">177.117</td><td style = \"text-align: right;\">28.7621</td><td style = \"text-align: right;\">4.92</td><td style = \"text-align: right;\">304.127</td><td style = \"text-align: right;\">0.0165317</td></tr><tr><td class = \"rowNumber\" style = \"font-weight: bold; text-align: right;\">6</td><td style = \"text-align: left;\">2023-05-01</td><td style = \"text-align: right;\">0.0364</td><td style = \"text-align: right;\">4487.65</td><td style = \"text-align: right;\">4345.37</td><td style = \"text-align: right;\">68.71</td><td style = \"text-align: right;\">179.063</td><td style = \"text-align: right;\">29.94</td><td style = \"text-align: right;\">5.14</td><td style = \"text-align: right;\">305.109</td><td style = \"text-align: right;\">0.0158122</td></tr><tr><td class = \"rowNumber\" style = \"font-weight: bold; text-align: right;\">7</td><td style = \"text-align: left;\">2023-06-01</td><td style = \"text-align: right;\">0.0381</td><td style = \"text-align: right;\">4438.75</td><td style = \"text-align: right;\">4508.08</td><td style = \"text-align: right;\">68.911</td><td style = \"text-align: right;\">181.01</td><td style = \"text-align: right;\">30.8917</td><td style = \"text-align: right;\">5.16</td><td style = \"text-align: right;\">305.691</td><td style = \"text-align: right;\">0.0152861</td></tr><tr><td class = \"rowNumber\" style = \"font-weight: bold; text-align: right;\">8</td><td style = \"text-align: left;\">2023-07-01</td><td style = \"text-align: right;\">0.0397</td><td style = \"text-align: right;\">4395.09</td><td style = \"text-align: right;\">4457.36</td><td style = \"text-align: right;\">69.1121</td><td style = \"text-align: right;\">182.09</td><td style = \"text-align: right;\">30.3047</td><td style = \"text-align: right;\">5.25</td><td style = \"text-align: right;\">307.026</td><td style = \"text-align: right;\">0.0155052</td></tr><tr><td class = \"rowNumber\" style = \"font-weight: bold; text-align: right;\">9</td><td style = \"text-align: left;\">2023-08-01</td><td style = \"text-align: right;\">0.0409</td><td style = \"text-align: right;\">4366.98</td><td style = \"text-align: right;\">4409.09</td><td style = \"text-align: right;\">69.3131</td><td style = \"text-align: right;\">183.17</td><td style = \"text-align: right;\">29.7997</td><td style = \"text-align: right;\">5.3</td><td style = \"text-align: right;\">307.789</td><td style = \"text-align: right;\">0.0157205</td></tr><tr><td class = \"rowNumber\" style = \"font-weight: bold; text-align: right;\">10</td><td style = \"text-align: left;\">2023-09-01</td><td style = \"text-align: right;\">0.0459</td><td style = \"text-align: right;\">4209.48</td><td style = \"text-align: right;\">4269.4</td><td style = \"text-align: right;\">69.6433</td><td style = \"text-align: right;\">184.25</td><td style = \"text-align: right;\">28.7691</td><td style = \"text-align: right;\">5.32</td><td style = \"text-align: right;\">307.671</td><td style = \"text-align: right;\">0.0163122</td></tr><tr><td class = \"rowNumber\" style = \"font-weight: bold; text-align: right;\">11</td><td style = \"text-align: left;\">2023-10-01</td><td style = \"text-align: right;\">0.0488</td><td style = \"text-align: right;\">4130.51</td><td style = \"text-align: right;\">4460.06</td><td style = \"text-align: right;\">69.9735</td><td style = \"text-align: right;\">186.977</td><td style = \"text-align: right;\">30.0132</td><td style = \"text-align: right;\">5.34</td><td style = \"text-align: right;\">307.051</td><td style = \"text-align: right;\">0.0156889</td></tr><tr><td class = \"rowNumber\" style = \"font-weight: bold; text-align: right;\">12</td><td style = \"text-align: left;\">2023-11-01</td><td style = \"text-align: right;\">0.0437</td><td style = \"text-align: right;\">4315.37</td><td style = \"text-align: right;\">4685.05</td><td style = \"text-align: right;\">70.3037</td><td style = \"text-align: right;\">189.703</td><td style = \"text-align: right;\">31.4523</td><td style = \"text-align: right;\">5.27</td><td style = \"text-align: right;\">306.746</td><td style = \"text-align: right;\">0.015006</td></tr><tr><td class = \"rowNumber\" style = \"font-weight: bold; text-align: right;\">13</td><td style = \"text-align: left;\">2023-12-01</td><td style = \"text-align: right;\">0.0388</td><td style = \"text-align: right;\">4503.77</td><td style = \"text-align: right;\">4815.61</td><td style = \"text-align: right;\">70.4774</td><td style = \"text-align: right;\">192.43</td><td style = \"text-align: right;\">32.0451</td><td style = \"text-align: right;\">5.24</td><td style = \"text-align: right;\">308.417</td><td style = \"text-align: right;\">0.0146352</td></tr><tr><td class = \"rowNumber\" style = \"font-weight: bold; text-align: right;\">14</td><td style = \"text-align: left;\">2024-01-01</td><td style = \"text-align: right;\">0.0399</td><td style = \"text-align: right;\">4478.09</td><td style = \"text-align: right;\">5011.96</td><td style = \"text-align: right;\">70.6511</td><td style = \"text-align: right;\">192.083</td><td style = \"text-align: right;\">33.0372</td><td style = \"text-align: right;\">5.22</td><td style = \"text-align: right;\">310.326</td><td style = \"text-align: right;\">0.0140965</td></tr><tr><td class = \"rowNumber\" style = \"font-weight: bold; text-align: right;\">15</td><td style = \"text-align: left;\">2024-02-01</td><td style = \"text-align: right;\">0.0425</td><td style = \"text-align: right;\">4399.56</td><td style = \"text-align: right;\">5170.57</td><td style = \"text-align: right;\">70.8248</td><td style = \"text-align: right;\">191.737</td><td style = \"text-align: right;\">33.7549</td><td style = \"text-align: right;\">5.24</td><td style = \"text-align: right;\">312.332</td><td style = \"text-align: right;\">0.0136977</td></tr><tr><td class = \"rowNumber\" style = \"font-weight: bold; text-align: right;\">16</td><td style = \"text-align: left;\">2024-03-01</td><td style = \"text-align: right;\">0.042</td><td style = \"text-align: right;\">4432.83</td><td style = \"text-align: right;\">5112.49</td><td style = \"text-align: right;\">71.2085</td><td style = \"text-align: right;\">191.39</td><td style = \"text-align: right;\">33.1416</td><td style = \"text-align: right;\">5.24</td><td style = \"text-align: right;\">313.548</td><td style = \"text-align: right;\">0.0139283</td></tr><tr><td class = \"rowNumber\" style = \"font-weight: bold; text-align: right;\">17</td><td style = \"text-align: left;\">2024-04-01</td><td style = \"text-align: right;\">0.0469</td><td style = \"text-align: right;\">4277.66</td><td style = \"text-align: right;\">5235.23</td><td style = \"text-align: right;\">71.5921</td><td style = \"text-align: right;\">191.39</td><td style = \"text-align: right;\">33.8443</td><td style = \"text-align: right;\">5.24</td><td style = \"text-align: right;\">314.069</td><td style = \"text-align: right;\">0.0136751</td></tr><tr><td class = \"rowNumber\" style = \"font-weight: bold; text-align: right;\">18</td><td style = \"text-align: left;\">2024-05-01</td><td style = \"text-align: right;\">0.0451</td><td style = \"text-align: right;\">4355.4</td><td style = \"text-align: right;\">5415.14</td><td style = \"text-align: right;\">71.9758</td><td style = \"text-align: right;\">191.39</td><td style = \"text-align: right;\">34.9581</td><td style = \"text-align: right;\">5.25</td><td style = \"text-align: right;\">314.175</td><td style = \"text-align: right;\">0.0132916</td></tr><tr><td class = \"rowNumber\" style = \"font-weight: bold; text-align: right;\">19</td><td style = \"text-align: left;\">2024-06-01</td><td style = \"text-align: right;\">0.0436</td><td style = \"text-align: right;\">4423.92</td><td style = \"text-align: right;\">5538.0</td><td style = \"text-align: right;\">71.9758</td><td style = \"text-align: right;\">191.39</td><td style = \"text-align: right;\">35.7079</td><td style = \"text-align: right;\">5.24</td><td style = \"text-align: right;\">314.228</td><td style = \"text-align: right;\">0.0129967</td></tr><tr><td class = \"rowNumber\" style = \"font-weight: bold; text-align: right;\">20</td><td style = \"text-align: left;\">2024-07-01</td><td style = \"text-align: right;\">0.0409</td><td style = \"text-align: right;\">4536.57</td><td style = \"text-align: right;\">5446.68</td><td style = \"text-align: right;\">71.9758</td><td style = \"text-align: right;\">191.39</td><td style = \"text-align: right;\">35.0813</td><td style = \"text-align: right;\">5.2</td><td style = \"text-align: right;\">314.255</td><td style = \"text-align: right;\">0.0132146</td></tr></tbody></table></div>"
      ],
      "text/latex": [
       "\\begin{tabular}{r|ccccccccc}\n",
       "\t& Date & 10Y\\_Yeld & 10Y\\_Price & Stock\\_Price & Dividend & E & CAPE & T-Bill & \\\\\n",
       "\t\\hline\n",
       "\t& Date & Float64 & Float64 & Float64 & Float64 & Float64 & Float64 & Float64 & \\\\\n",
       "\t\\hline\n",
       "\t1 & 2022-12-01 & 0.0388 & 4337.28 & 3960.66 & 67.35 & 172.75 & 28.3348 & 4.25 & $\\dots$ \\\\\n",
       "\t2 & 2023-01-01 & 0.0352 & 4481.05 & 4079.68 & 67.78 & 173.557 & 28.9198 & 4.54 & $\\dots$ \\\\\n",
       "\t3 & 2023-02-01 & 0.0392 & 4348.09 & 3968.56 & 68.21 & 174.363 & 27.9381 & 4.65 & $\\dots$ \\\\\n",
       "\t4 & 2023-03-01 & 0.0348 & 4521.58 & 4121.47 & 68.3767 & 175.17 & 28.7648 & 4.69 & $\\dots$ \\\\\n",
       "\t5 & 2023-04-01 & 0.0344 & 4549.79 & 4146.17 & 68.5433 & 177.117 & 28.7621 & 4.92 & $\\dots$ \\\\\n",
       "\t6 & 2023-05-01 & 0.0364 & 4487.65 & 4345.37 & 68.71 & 179.063 & 29.94 & 5.14 & $\\dots$ \\\\\n",
       "\t7 & 2023-06-01 & 0.0381 & 4438.75 & 4508.08 & 68.911 & 181.01 & 30.8917 & 5.16 & $\\dots$ \\\\\n",
       "\t8 & 2023-07-01 & 0.0397 & 4395.09 & 4457.36 & 69.1121 & 182.09 & 30.3047 & 5.25 & $\\dots$ \\\\\n",
       "\t9 & 2023-08-01 & 0.0409 & 4366.98 & 4409.09 & 69.3131 & 183.17 & 29.7997 & 5.3 & $\\dots$ \\\\\n",
       "\t10 & 2023-09-01 & 0.0459 & 4209.48 & 4269.4 & 69.6433 & 184.25 & 28.7691 & 5.32 & $\\dots$ \\\\\n",
       "\t11 & 2023-10-01 & 0.0488 & 4130.51 & 4460.06 & 69.9735 & 186.977 & 30.0132 & 5.34 & $\\dots$ \\\\\n",
       "\t12 & 2023-11-01 & 0.0437 & 4315.37 & 4685.05 & 70.3037 & 189.703 & 31.4523 & 5.27 & $\\dots$ \\\\\n",
       "\t13 & 2023-12-01 & 0.0388 & 4503.77 & 4815.61 & 70.4774 & 192.43 & 32.0451 & 5.24 & $\\dots$ \\\\\n",
       "\t14 & 2024-01-01 & 0.0399 & 4478.09 & 5011.96 & 70.6511 & 192.083 & 33.0372 & 5.22 & $\\dots$ \\\\\n",
       "\t15 & 2024-02-01 & 0.0425 & 4399.56 & 5170.57 & 70.8248 & 191.737 & 33.7549 & 5.24 & $\\dots$ \\\\\n",
       "\t16 & 2024-03-01 & 0.042 & 4432.83 & 5112.49 & 71.2085 & 191.39 & 33.1416 & 5.24 & $\\dots$ \\\\\n",
       "\t17 & 2024-04-01 & 0.0469 & 4277.66 & 5235.23 & 71.5921 & 191.39 & 33.8443 & 5.24 & $\\dots$ \\\\\n",
       "\t18 & 2024-05-01 & 0.0451 & 4355.4 & 5415.14 & 71.9758 & 191.39 & 34.9581 & 5.25 & $\\dots$ \\\\\n",
       "\t19 & 2024-06-01 & 0.0436 & 4423.92 & 5538.0 & 71.9758 & 191.39 & 35.7079 & 5.24 & $\\dots$ \\\\\n",
       "\t20 & 2024-07-01 & 0.0409 & 4536.57 & 5446.68 & 71.9758 & 191.39 & 35.0813 & 5.2 & $\\dots$ \\\\\n",
       "\\end{tabular}\n"
      ],
      "text/plain": [
       "\u001b[1m20×10 DataFrame\u001b[0m\n",
       "\u001b[1m Row \u001b[0m│\u001b[1m Date       \u001b[0m\u001b[1m 10Y_Yeld \u001b[0m\u001b[1m 10Y_Price \u001b[0m\u001b[1m Stock_Price \u001b[0m\u001b[1m Dividend \u001b[0m\u001b[1m E       \u001b[0m\u001b[1m CAPE  \u001b[0m ⋯\n",
       "     │\u001b[90m Date       \u001b[0m\u001b[90m Float64  \u001b[0m\u001b[90m Float64   \u001b[0m\u001b[90m Float64     \u001b[0m\u001b[90m Float64  \u001b[0m\u001b[90m Float64 \u001b[0m\u001b[90m Float6\u001b[0m ⋯\n",
       "─────┼──────────────────────────────────────────────────────────────────────────\n",
       "   1 │ 2022-12-01    0.0388    4337.28      3960.66   67.35    172.75   28.334 ⋯\n",
       "   2 │ 2023-01-01    0.0352    4481.05      4079.68   67.78    173.557  28.919\n",
       "   3 │ 2023-02-01    0.0392    4348.09      3968.56   68.21    174.363  27.938\n",
       "   4 │ 2023-03-01    0.0348    4521.58      4121.47   68.3767  175.17   28.764\n",
       "   5 │ 2023-04-01    0.0344    4549.79      4146.17   68.5433  177.117  28.762 ⋯\n",
       "   6 │ 2023-05-01    0.0364    4487.65      4345.37   68.71    179.063  29.94\n",
       "   7 │ 2023-06-01    0.0381    4438.75      4508.08   68.911   181.01   30.891\n",
       "   8 │ 2023-07-01    0.0397    4395.09      4457.36   69.1121  182.09   30.304\n",
       "  ⋮  │     ⋮          ⋮          ⋮           ⋮          ⋮         ⋮        ⋮   ⋱\n",
       "  14 │ 2024-01-01    0.0399    4478.09      5011.96   70.6511  192.083  33.037 ⋯\n",
       "  15 │ 2024-02-01    0.0425    4399.56      5170.57   70.8248  191.737  33.754\n",
       "  16 │ 2024-03-01    0.042     4432.83      5112.49   71.2085  191.39   33.141\n",
       "  17 │ 2024-04-01    0.0469    4277.66      5235.23   71.5921  191.39   33.844\n",
       "  18 │ 2024-05-01    0.0451    4355.4       5415.14   71.9758  191.39   34.958 ⋯\n",
       "  19 │ 2024-06-01    0.0436    4423.92      5538.0    71.9758  191.39   35.707\n",
       "  20 │ 2024-07-01    0.0409    4536.57      5446.68   71.9758  191.39   35.081\n",
       "\u001b[36m                                                    4 columns and 5 rows omitted\u001b[0m"
      ]
     },
     "metadata": {},
     "output_type": "display_data"
    }
   ],
   "source": [
    "last(data_df,20)"
   ]
  },
  {
   "cell_type": "code",
   "execution_count": 4,
   "metadata": {},
   "outputs": [
    {
     "ename": "ArgumentError",
     "evalue": "ArgumentError: column name :Date not found in the data frame",
     "output_type": "error",
     "traceback": [
      "ArgumentError: column name :Date not found in the data frame\n",
      "\n",
      "Stacktrace:\n",
      " [1] lookupname\n",
      "   @ C:\\Users\\matsz\\.julia\\packages\\DataFrames\\58MUJ\\src\\other\\index.jl:413 [inlined]\n",
      " [2] getindex\n",
      "   @ C:\\Users\\matsz\\.julia\\packages\\DataFrames\\58MUJ\\src\\other\\index.jl:422 [inlined]\n",
      " [3] (::DataFrames.var\"#37#38\"{DataFrames.Index})(i::Symbol)\n",
      "   @ DataFrames .\\none:0\n",
      " [4] iterate\n",
      "   @ .\\generator.jl:47 [inlined]\n",
      " [5] collect(itr::Base.Generator{Vector{Symbol}, DataFrames.var\"#37#38\"{DataFrames.Index}})\n",
      "   @ Base .\\array.jl:834\n",
      " [6] getindex\n",
      "   @ C:\\Users\\matsz\\.julia\\packages\\DataFrames\\58MUJ\\src\\other\\index.jl:428 [inlined]\n",
      " [7] getindex(df::DataFrame, row_inds::UnitRange{Int64}, col_inds::Vector{Symbol})\n",
      "   @ DataFrames C:\\Users\\matsz\\.julia\\packages\\DataFrames\\58MUJ\\src\\dataframe\\dataframe.jl:584\n",
      " [8] top-level scope\n",
      "   @ c:\\Users\\matsz\\programowanie\\Optymalizacja_portfela\\julia_msp\\us_bvar.ipynb:2"
     ]
    }
   ],
   "source": [
    "columns = [:Date, :short_us, :real_us, :term_us]\n",
    "data_df = DataFrame(XLSX.readtable(\"shiller_data.xlsx\", \"Data\"; infer_eltypes=true))[2:end, columns]\n",
    "dropmissing!(data_df, disallowmissing=true)\n",
    "macro_data = TimeArray(data_df; timestamp = :Date)"
   ]
  }
 ],
 "metadata": {
  "kernelspec": {
   "display_name": "Julia 1.10.2",
   "language": "julia",
   "name": "julia-1.10"
  },
  "language_info": {
   "file_extension": ".jl",
   "mimetype": "application/julia",
   "name": "julia",
   "version": "1.10.2"
  }
 },
 "nbformat": 4,
 "nbformat_minor": 2
}
