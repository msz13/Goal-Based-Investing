{
 "cells": [
  {
   "cell_type": "code",
   "execution_count": 2,
   "metadata": {},
   "outputs": [
    {
     "name": "stderr",
     "output_type": "stream",
     "text": [
      "\u001b[32m\u001b[1m     Cloning\u001b[22m\u001b[39m git-repo `https://github.com/lucabrugnolini/VectorAutoregressions.jl`\n",
      "\u001b[32m\u001b[1m    Updating\u001b[22m\u001b[39m git-repo `https://github.com/lucabrugnolini/VectorAutoregressions.jl`\n",
      "\u001b[32m\u001b[1m    Updating\u001b[22m\u001b[39m registry at `C:\\Users\\matsz\\.julia\\registries\\General.toml`\n",
      "\u001b[32m\u001b[1m   Resolving\u001b[22m\u001b[39m package versions...\n",
      "\u001b[32m\u001b[1m   Installed\u001b[22m\u001b[39m EllipsisNotation ─ v0.4.0\n",
      "\u001b[32m\u001b[1m   Installed\u001b[22m\u001b[39m GrowableArrays ─── v0.1.0\n",
      "\u001b[32m\u001b[1m    Updating\u001b[22m\u001b[39m `C:\\Users\\matsz\\.julia\\environments\\v1.10\\Project.toml`\n",
      "  \u001b[90m[dd6ac5f8] \u001b[39m\u001b[92m+ VectorAutoregressions v0.1.0 `https://github.com/lucabrugnolini/VectorAutoregressions.jl#master`\u001b[39m\n",
      "\u001b[32m\u001b[1m    Updating\u001b[22m\u001b[39m `C:\\Users\\matsz\\.julia\\environments\\v1.10\\Manifest.toml`\n",
      "\u001b[33m⌅\u001b[39m \u001b[90m[da5c29d0] \u001b[39m\u001b[92m+ EllipsisNotation v0.4.0\u001b[39m\n",
      "  \u001b[90m[7ebbc34c] \u001b[39m\u001b[92m+ GrowableArrays v0.1.0\u001b[39m\n",
      "  \u001b[90m[dd6ac5f8] \u001b[39m\u001b[92m+ VectorAutoregressions v0.1.0 `https://github.com/lucabrugnolini/VectorAutoregressions.jl#master`\u001b[39m\n",
      "\u001b[36m\u001b[1m        Info\u001b[22m\u001b[39m Packages marked with \u001b[33m⌅\u001b[39m have new versions available but compatibility constraints restrict them from upgrading. To see why use `status --outdated -m`\n",
      "\u001b[32m\u001b[1mPrecompiling\u001b[22m\u001b[39m project...\n",
      "\u001b[32m  ✓ \u001b[39m\u001b[90mEllipsisNotation\u001b[39m\n",
      "\u001b[32m  ✓ \u001b[39m\u001b[90mGrowableArrays\u001b[39m\n",
      "\u001b[32m  ✓ \u001b[39mVectorAutoregressions\n",
      "  3 dependencies successfully precompiled in 28 seconds. 531 already precompiled.\n"
     ]
    }
   ],
   "source": [
    "import Pkg\n",
    "Pkg.add(url=\"https://github.com/lucabrugnolini/VectorAutoregressions.jl\")"
   ]
  },
  {
   "cell_type": "code",
   "execution_count": 291,
   "metadata": {},
   "outputs": [
    {
     "data": {
      "text/plain": [
       "print_percentiles (generic function with 1 method)"
      ]
     },
     "metadata": {},
     "output_type": "display_data"
    }
   ],
   "source": [
    "using Turing, MCMCChains\n",
    "using XLSX\n",
    "using DataFrames, TimeSeries\n",
    "using StatsPlots\n",
    "using LinearAlgebra\n",
    "using VectorAutoregressions\n",
    "using CSV\n",
    "using Test\n",
    "using MCMCChains\n",
    "include(\"utils.jl\")"
   ]
  },
  {
   "cell_type": "code",
   "execution_count": 295,
   "metadata": {},
   "outputs": [
    {
     "data": {
      "text/plain": [
       "209×3 TimeArray{Float64, 2, Date, Matrix{Float64}} 1972-01-01 to 2024-01-01\n",
       "┌────────────┬────────────┬──────────────┬─────────────┐\n",
       "│\u001b[1m            \u001b[0m│\u001b[1m short_us   \u001b[0m│\u001b[1m real_us      \u001b[0m│\u001b[1m term_us     \u001b[0m│\n",
       "├────────────┼────────────┼──────────────┼─────────────┤\n",
       "│ 1972-01-01 │     0.0388 │    0.0023571 │   0.0215333 │\n",
       "│ 1972-04-01 │     0.0455 │   0.00326571 │   0.0159333 │\n",
       "│ 1972-07-01 │  0.0493333 │   0.00268831 │   0.0135667 │\n",
       "│ 1972-10-01 │      0.053 │   0.00368448 │   0.0107333 │\n",
       "│ 1973-01-01 │      0.064 │   0.00337313 │  0.00203333 │\n",
       "│ 1973-04-01 │  0.0767333 │  -0.00326431 │ -0.00866667 │\n",
       "│ 1973-07-01 │   0.103533 │   0.00377342 │  -0.0314667 │\n",
       "│ 1973-10-01 │  0.0923667 │   5.89786e-5 │  -0.0248333 │\n",
       "│     ⋮      │     ⋮      │      ⋮       │      ⋮      │\n",
       "│ 2022-07-01 │  0.0282333 │  -0.00602734 │  0.00283333 │\n",
       "│ 2022-10-01 │  0.0427333 │   0.00696215 │ -0.00443333 │\n",
       "│ 2023-01-01 │  0.0475333 │   0.00141827 │  -0.0110667 │\n",
       "│ 2023-04-01 │  0.0513333 │  0.000898898 │     -0.0154 │\n",
       "│ 2023-07-01 │  0.0542667 │   0.00484838 │  -0.0127667 │\n",
       "│ 2023-10-01 │  0.0539667 │    0.0123569 │ -0.00956667 │\n",
       "│ 2024-01-01 │  0.0525667 │   0.00268427 │  -0.0109667 │\n",
       "└────────────┴────────────┴──────────────┴─────────────┘\n",
       "\u001b[36m                                        194 rows omitted\u001b[0m"
      ]
     },
     "metadata": {},
     "output_type": "display_data"
    }
   ],
   "source": [
    "columns = [:Date, :short_us, :real_us, :term_us]\n",
    "data_df = DataFrame(XLSX.readtable(\"assets_data_03.24.xlsx\", \"Macro_Data\"; infer_eltypes=true))[2:end, columns]\n",
    "dropmissing!(data_df, disallowmissing=true)\n",
    "macro_data = TimeArray(data_df; timestamp = :Date)"
   ]
  },
  {
   "cell_type": "code",
   "execution_count": 296,
   "metadata": {},
   "outputs": [
    {
     "data": {
      "text/plain": [
       "205×1 TimeArray{Float64, 1, Date, Vector{Float64}} 1973-04-01 to 2024-04-01\n",
       "┌────────────┬────────────┐\n",
       "│\u001b[1m            \u001b[0m│\u001b[1m USA_Net    \u001b[0m│\n",
       "├────────────┼────────────┤\n",
       "│ 1973-04-01 │ -0.0833335 │\n",
       "│ 1973-07-01 │ -0.0532413 │\n",
       "│ 1973-10-01 │  0.0402782 │\n",
       "│ 1974-01-01 │ -0.0900348 │\n",
       "│ 1974-04-01 │ -0.0428685 │\n",
       "│ 1974-07-01 │ -0.0874197 │\n",
       "│ 1974-10-01 │  -0.301121 │\n",
       "│ 1975-01-01 │  0.0939096 │\n",
       "│     ⋮      │     ⋮      │\n",
       "│ 2022-10-01 │ -0.0493364 │\n",
       "│ 2023-01-01 │  0.0674734 │\n",
       "│ 2023-04-01 │  0.0731963 │\n",
       "│ 2023-07-01 │  0.0824719 │\n",
       "│ 2023-10-01 │ -0.0322941 │\n",
       "│ 2024-01-01 │   0.111622 │\n",
       "│ 2024-04-01 │  0.0979943 │\n",
       "└────────────┴────────────┘\n",
       "\u001b[36m           190 rows omitted\u001b[0m"
      ]
     },
     "metadata": {},
     "output_type": "display_data"
    }
   ],
   "source": [
    "data_df = DataFrame(XLSX.readtable(\"assets_data_03.24.xlsx\", \"Indexes\"; infer_eltypes=true))[1:end, [:Date, :USA_Net]]\n",
    "dropmissing!(data_df, disallowmissing=true)\n",
    "data = TimeArray(data_df; timestamp = :Date)\n",
    "data = collapse(data, Dates.quarter, last)\n",
    "\n",
    "dates = timestamp(data) .+ Day(1)\n",
    "\n",
    "data = TimeArray(data; timestamp = dates)\n",
    "\n",
    "equity = percentchange(data, :log)"
   ]
  },
  {
   "cell_type": "code",
   "execution_count": 297,
   "metadata": {},
   "outputs": [
    {
     "data": {
      "text/plain": [
       "1×1 TimeArray{Float64, 1, Date, Vector{Float64}} 2024-04-01 to 2024-04-01\n",
       "┌────────────┬───────────┐\n",
       "│\u001b[1m            \u001b[0m│\u001b[1m USA_Net   \u001b[0m│\n",
       "├────────────┼───────────┤\n",
       "│ 2024-04-01 │ 0.0917981 │\n",
       "└────────────┴───────────┘"
      ]
     },
     "metadata": {},
     "output_type": "display_data"
    }
   ],
   "source": [
    "mean(equity) .* 4"
   ]
  },
  {
   "cell_type": "code",
   "execution_count": 298,
   "metadata": {},
   "outputs": [
    {
     "data": {
      "text/plain": [
       "204×1 TimeArray{Float64, 1, Date, Vector{Float64}} 1973-04-01 to 2024-01-01\n",
       "┌────────────┬──────────────────┐\n",
       "│\u001b[1m            \u001b[0m│\u001b[1m USA_Net_short_us \u001b[0m│\n",
       "├────────────┼──────────────────┤\n",
       "│ 1973-04-01 │        -0.102517 │\n",
       "│ 1973-07-01 │       -0.0791246 │\n",
       "│ 1973-10-01 │        0.0171865 │\n",
       "│ 1974-01-01 │        -0.111635 │\n",
       "│ 1974-04-01 │       -0.0702268 │\n",
       "│ 1974-07-01 │        -0.117486 │\n",
       "│ 1974-10-01 │        -0.324538 │\n",
       "│ 1975-01-01 │        0.0771846 │\n",
       "│     ⋮      │        ⋮         │\n",
       "│ 2022-07-01 │         -0.19188 │\n",
       "│ 2022-10-01 │       -0.0600197 │\n",
       "│ 2023-01-01 │          0.05559 │\n",
       "│ 2023-04-01 │         0.060363 │\n",
       "│ 2023-07-01 │        0.0689052 │\n",
       "│ 2023-10-01 │       -0.0457858 │\n",
       "│ 2024-01-01 │        0.0984798 │\n",
       "└────────────┴──────────────────┘\n",
       "\u001b[36m                 189 rows omitted\u001b[0m"
      ]
     },
     "metadata": {},
     "output_type": "display_data"
    }
   ],
   "source": [
    "e_premium = equity .- macro_data[:short_us] ./ 4"
   ]
  },
  {
   "cell_type": "code",
   "execution_count": 299,
   "metadata": {},
   "outputs": [
    {
     "data": {
      "text/plain": [
       "1×1 TimeArray{Float64, 1, Date, Vector{Float64}} 2024-01-01 to 2024-01-01\n",
       "┌────────────┬──────────────────┐\n",
       "│\u001b[1m            \u001b[0m│\u001b[1m USA_Net_short_us \u001b[0m│\n",
       "├────────────┼──────────────────┤\n",
       "│ 2024-01-01 │        0.0403383 │\n",
       "└────────────┴──────────────────┘"
      ]
     },
     "metadata": {},
     "output_type": "display_data"
    }
   ],
   "source": [
    "mean(e_premium) .* 4"
   ]
  },
  {
   "cell_type": "code",
   "execution_count": 300,
   "metadata": {},
   "outputs": [
    {
     "data": {
      "text/plain": [
       "204×4 TimeArray{Float64, 2, Date, Matrix{Float64}} 1973-04-01 to 2024-01-01\n",
       "┌────────────┬────────────┬──────────────┬─────────────┬──────────────────┐\n",
       "│\u001b[1m            \u001b[0m│\u001b[1m short_us   \u001b[0m│\u001b[1m real_us      \u001b[0m│\u001b[1m term_us     \u001b[0m│\u001b[1m USA_Net_short_us \u001b[0m│\n",
       "├────────────┼────────────┼──────────────┼─────────────┼──────────────────┤\n",
       "│ 1973-04-01 │  0.0767333 │  -0.00326431 │ -0.00866667 │        -0.102517 │\n",
       "│ 1973-07-01 │   0.103533 │   0.00377342 │  -0.0314667 │       -0.0791246 │\n",
       "│ 1973-10-01 │  0.0923667 │   5.89786e-5 │  -0.0248333 │        0.0171865 │\n",
       "│ 1974-01-01 │     0.0864 │  -0.00655872 │  -0.0158667 │        -0.111635 │\n",
       "│ 1974-04-01 │   0.109433 │ -0.000866128 │      -0.034 │       -0.0702268 │\n",
       "│ 1974-07-01 │   0.120267 │ -0.000148683 │  -0.0406333 │        -0.117486 │\n",
       "│ 1974-10-01 │  0.0936667 │  -0.00641213 │  -0.0169667 │        -0.324538 │\n",
       "│ 1975-01-01 │     0.0669 │  -0.00137404 │      0.0085 │        0.0771846 │\n",
       "│     ⋮      │     ⋮      │      ⋮       │      ⋮      │        ⋮         │\n",
       "│ 2022-07-01 │  0.0282333 │  -0.00602734 │  0.00283333 │         -0.19188 │\n",
       "│ 2022-10-01 │  0.0427333 │   0.00696215 │ -0.00443333 │       -0.0600197 │\n",
       "│ 2023-01-01 │  0.0475333 │   0.00141827 │  -0.0110667 │          0.05559 │\n",
       "│ 2023-04-01 │  0.0513333 │  0.000898898 │     -0.0154 │         0.060363 │\n",
       "│ 2023-07-01 │  0.0542667 │   0.00484838 │  -0.0127667 │        0.0689052 │\n",
       "│ 2023-10-01 │  0.0539667 │    0.0123569 │ -0.00956667 │       -0.0457858 │\n",
       "│ 2024-01-01 │  0.0525667 │   0.00268427 │  -0.0109667 │        0.0984798 │\n",
       "└────────────┴────────────┴──────────────┴─────────────┴──────────────────┘\n",
       "\u001b[36m                                                           189 rows omitted\u001b[0m"
      ]
     },
     "metadata": {},
     "output_type": "display_data"
    }
   ],
   "source": [
    "returns = merge(macro_data, e_premium)"
   ]
  },
  {
   "cell_type": "code",
   "execution_count": 301,
   "metadata": {},
   "outputs": [
    {
     "data": {
      "text/html": [
       "<table>\n",
       "  <thead>\n",
       "    <tr class = \"header headerLastRow\">\n",
       "      <th class = \"rowLabel\" style = \"font-weight: bold; text-align: right;\"></th>\n",
       "      <th style = \"text-align: right;\">std</th>\n",
       "      <th style = \"text-align: right;\">max</th>\n",
       "      <th style = \"text-align: right;\">mean</th>\n",
       "      <th style = \"text-align: right;\">p75th</th>\n",
       "      <th style = \"text-align: right;\">min</th>\n",
       "      <th style = \"text-align: right;\">skewness</th>\n",
       "      <th style = \"text-align: right;\">p25th</th>\n",
       "      <th style = \"text-align: right;\">autocor</th>\n",
       "      <th style = \"text-align: right;\">kurtosis</th>\n",
       "      <th style = \"text-align: right;\">sr</th>\n",
       "      <th style = \"text-align: right;\">median</th>\n",
       "    </tr>\n",
       "  </thead>\n",
       "  <tbody>\n",
       "    <tr>\n",
       "      <td class = \"rowLabel\" style = \"font-weight: bold; text-align: right;\">short_us</td>\n",
       "      <td style = \"text-align: right;\">0.0388218</td>\n",
       "      <td style = \"text-align: right;\">0.1752</td>\n",
       "      <td style = \"text-align: right;\">0.0499883</td>\n",
       "      <td style = \"text-align: right;\">0.0701083</td>\n",
       "      <td style = \"text-align: right;\">0.001</td>\n",
       "      <td style = \"text-align: right;\">0.732581</td>\n",
       "      <td style = \"text-align: right;\">0.0145833</td>\n",
       "      <td style = \"text-align: right;\">0.970067</td>\n",
       "      <td style = \"text-align: right;\">0.306504</td>\n",
       "      <td style = \"text-align: right;\">1.28764</td>\n",
       "      <td style = \"text-align: right;\">0.0520833</td>\n",
       "    </tr>\n",
       "    <tr>\n",
       "      <td class = \"rowLabel\" style = \"font-weight: bold; text-align: right;\">real_us</td>\n",
       "      <td style = \"text-align: right;\">0.00869245</td>\n",
       "      <td style = \"text-align: right;\">0.0357101</td>\n",
       "      <td style = \"text-align: right;\">0.00267766</td>\n",
       "      <td style = \"text-align: right;\">0.00830319</td>\n",
       "      <td style = \"text-align: right;\">-0.0258859</td>\n",
       "      <td style = \"text-align: right;\">0.0123656</td>\n",
       "      <td style = \"text-align: right;\">-0.00245872</td>\n",
       "      <td style = \"text-align: right;\">0.642757</td>\n",
       "      <td style = \"text-align: right;\">1.23567</td>\n",
       "      <td style = \"text-align: right;\">0.308044</td>\n",
       "      <td style = \"text-align: right;\">0.00268779</td>\n",
       "    </tr>\n",
       "    <tr>\n",
       "      <td class = \"rowLabel\" style = \"font-weight: bold; text-align: right;\">term_us</td>\n",
       "      <td style = \"text-align: right;\">0.0156434</td>\n",
       "      <td style = \"text-align: right;\">0.0351</td>\n",
       "      <td style = \"text-align: right;\">0.00984224</td>\n",
       "      <td style = \"text-align: right;\">0.021925</td>\n",
       "      <td style = \"text-align: right;\">-0.0406333</td>\n",
       "      <td style = \"text-align: right;\">-0.802433</td>\n",
       "      <td style = \"text-align: right;\">0.000825</td>\n",
       "      <td style = \"text-align: right;\">0.882008</td>\n",
       "      <td style = \"text-align: right;\">0.499251</td>\n",
       "      <td style = \"text-align: right;\">0.629163</td>\n",
       "      <td style = \"text-align: right;\">0.0119833</td>\n",
       "    </tr>\n",
       "    <tr>\n",
       "      <td class = \"rowLabel\" style = \"font-weight: bold; text-align: right;\">USA_Net_short_us</td>\n",
       "      <td style = \"text-align: right;\">0.0856362</td>\n",
       "      <td style = \"text-align: right;\">0.195054</td>\n",
       "      <td style = \"text-align: right;\">0.0100846</td>\n",
       "      <td style = \"text-align: right;\">0.0620761</td>\n",
       "      <td style = \"text-align: right;\">-0.324538</td>\n",
       "      <td style = \"text-align: right;\">-0.868604</td>\n",
       "      <td style = \"text-align: right;\">-0.0312701</td>\n",
       "      <td style = \"text-align: right;\">0.0713791</td>\n",
       "      <td style = \"text-align: right;\">1.39014</td>\n",
       "      <td style = \"text-align: right;\">0.117761</td>\n",
       "      <td style = \"text-align: right;\">0.0231837</td>\n",
       "    </tr>\n",
       "  </tbody>\n",
       "</table>\n"
      ]
     },
     "metadata": {},
     "output_type": "display_data"
    }
   ],
   "source": [
    "returns_summarystats(returns,1)"
   ]
  },
  {
   "cell_type": "code",
   "execution_count": 302,
   "metadata": {},
   "outputs": [
    {
     "data": {
      "text/plain": [
       "\"usa.csv\""
      ]
     },
     "metadata": {},
     "output_type": "display_data"
    }
   ],
   "source": [
    "CSV.write(\"usa.csv\",returns)"
   ]
  },
  {
   "cell_type": "code",
   "execution_count": 303,
   "metadata": {},
   "outputs": [
    {
     "data": {
      "text/plain": [
       "VAR([0.0767333333333333 -0.0032643068090423034 -0.0086666666666666 -0.10251684479395795; 0.10353333333333299 0.003773416161491721 -0.031466666666666296 -0.07912463252540157; … ; 0.0539666666666666 0.012356876445824887 -0.009566666666666598 -0.045785771432493155; 0.052566666666666595 0.002684271890795644 -0.010966666666666597 0.09847984128758931], [0.10353333333333299 0.0923666666666666 … 0.0539666666666666 0.052566666666666595; 0.003773416161491721 5.897855263142099e-5 … 0.012356876445824887 0.002684271890795644; -0.031466666666666296 -0.02483333333333329 … -0.009566666666666598 -0.010966666666666597; -0.07912463252540157 0.017186488034891395 … -0.045785771432493155 0.09847984128758931], [1.0 1.0 … 1.0 1.0; 0.0767333333333333 0.10353333333333299 … 0.054266666666666595 0.0539666666666666; … ; -0.0086666666666666 -0.031466666666666296 … -0.012766666666666593 -0.009566666666666598; -0.10251684479395795 -0.07912463252540157 … 0.06890518427257061 -0.045785771432493155], [-0.001065667119790542 1.0168144325436272 … 0.05719808653521602 0.015635499810803; -0.004057743736211977 0.0925696718111192 … 0.09079929865343511 0.003038519212959826; 0.0017394653581008336 -0.017719876888045664 … 0.8897713709102486 -0.011675154464405296; 0.015426325364574268 -0.2837582114110242 … 0.7029648599575702 0.0344376239272063], [0.02792628223290161 -0.00794046617264857 … 0.0006167164969819658 0.002851997866208031; 0.003296832412174473 -0.004069507927365194 … 0.01015702672277986 -0.00281211783934232; -0.024913069718692695 0.0018519073670573427 … 0.0011971719147329668 -0.00535800467554214; -0.06062989674960052 0.053065137466688596 … -0.042961537607362495 0.09711222537506561], [8.264649933771699e-5 6.691323152513859e-6 -5.4295983319791906e-5 6.744602859347349e-5; 6.691323152513859e-6 3.9072829024372955e-5 -1.1375365565515058e-5 -1.2060632567050869e-5; -5.4295983319791906e-5 -1.1375365565515058e-5 5.04309026523261e-5 -1.4068848624011157e-5; 6.744602859347349e-5 -1.2060632567050869e-5 -1.4068848624011157e-5 0.007101136519287692], 1, VectorAutoregressions.Intercept())"
      ]
     },
     "metadata": {},
     "output_type": "display_data"
    }
   ],
   "source": [
    "model = VAR(values(returns), 1, true)"
   ]
  },
  {
   "cell_type": "code",
   "execution_count": 12,
   "metadata": {},
   "outputs": [
    {
     "data": {
      "text/plain": [
       "4×5 Matrix{Float64}:\n",
       " -0.001066   1.01681   -0.229077  0.057198   0.015635\n",
       " -0.004058   0.09257    0.450456  0.090799   0.003039\n",
       "  0.001739  -0.01772    0.128329  0.889771  -0.011675\n",
       "  0.015426  -0.283758   0.77338   0.702965   0.034438"
      ]
     },
     "metadata": {},
     "output_type": "display_data"
    }
   ],
   "source": [
    "round.(model.β, digits=6)"
   ]
  },
  {
   "cell_type": "code",
   "execution_count": 13,
   "metadata": {},
   "outputs": [
    {
     "data": {
      "text/plain": [
       "4×4 Matrix{Float64}:\n",
       "  0.0001   0.0  -0.0001   0.0001\n",
       "  0.0      0.0  -0.0     -0.0\n",
       " -0.0001  -0.0   0.0001  -0.0\n",
       "  0.0001  -0.0  -0.0      0.0071"
      ]
     },
     "metadata": {},
     "output_type": "display_data"
    }
   ],
   "source": [
    "round.(model.Σ, digits=4)"
   ]
  },
  {
   "cell_type": "code",
   "execution_count": 14,
   "metadata": {},
   "outputs": [
    {
     "data": {
      "text/plain": [
       "2×2 Matrix{Int64}:\n",
       " 1  2\n",
       " 3  4"
      ]
     },
     "metadata": {},
     "output_type": "display_data"
    }
   ],
   "source": [
    "A = [1 2; 3 4]\n"
   ]
  },
  {
   "cell_type": "code",
   "execution_count": 15,
   "metadata": {},
   "outputs": [
    {
     "data": {
      "text/plain": [
       "2×2 Matrix{Int64}:\n",
       " 1  2\n",
       " 3  4"
      ]
     },
     "metadata": {},
     "output_type": "display_data"
    }
   ],
   "source": [
    "B = [1 2; 3 4]"
   ]
  },
  {
   "cell_type": "code",
   "execution_count": 16,
   "metadata": {},
   "outputs": [
    {
     "data": {
      "text/plain": [
       "2×2 Matrix{Int64}:\n",
       "  7  10\n",
       " 15  22"
      ]
     },
     "metadata": {},
     "output_type": "display_data"
    }
   ],
   "source": [
    "A * B"
   ]
  },
  {
   "cell_type": "code",
   "execution_count": 17,
   "metadata": {},
   "outputs": [
    {
     "data": {
      "text/plain": [
       "30"
      ]
     },
     "metadata": {},
     "output_type": "display_data"
    }
   ],
   "source": [
    "dot(A,B)"
   ]
  },
  {
   "cell_type": "code",
   "execution_count": 18,
   "metadata": {},
   "outputs": [
    {
     "data": {
      "text/plain": [
       "4×4 Matrix{Int64}:\n",
       " 1   2   2   4\n",
       " 3   4   6   8\n",
       " 3   6   4   8\n",
       " 9  12  12  16"
      ]
     },
     "metadata": {},
     "output_type": "display_data"
    }
   ],
   "source": [
    "kron(A,B)"
   ]
  },
  {
   "cell_type": "markdown",
   "metadata": {},
   "source": [
    "- [ ] Normal Wishart Prior gibs sampler\n",
    "- [ ] draw posterior parameters\n",
    "- [ ] describe posterior parameters\n",
    "- [ ] simulate\n",
    "- [ ] plot simulation\n",
    "- [ ] estimate momoments estimation\n",
    "- [ ] calculate waic i inne miary"
   ]
  },
  {
   "cell_type": "code",
   "execution_count": 304,
   "metadata": {},
   "outputs": [
    {
     "data": {
      "text/plain": [
       "51×4 Matrix{Float64}:\n",
       " 0.00286667  -0.00336044    0.0214      -3.20364e-5\n",
       " 0.00423333   0.00257951    0.0162333   -0.153821\n",
       " 0.0033      -0.00710024    0.0170667    0.108295\n",
       " 0.003       -0.00749158    0.0152333    0.118372\n",
       " 0.00266667  -0.00152444    0.0137667   -0.0329988\n",
       " 0.00233333   0.000222809   0.0147333    0.0596389\n",
       " 0.0022      -0.00533607    0.0173      -0.00491949\n",
       " 0.00196667  -0.00490369    0.018        0.099248\n",
       " 0.00123333  -0.00346436    0.0258667    0.0251424\n",
       " 0.00126667   0.00311116    0.0262       0.0540249\n",
       " ⋮                                      \n",
       " 0.00443333  -0.0214703     0.0149667    0.0939515\n",
       " 0.0137      -0.0258859     0.0156      -0.05795\n",
       " 0.0282333   -0.00602734    0.00283333  -0.19188\n",
       " 0.0427333    0.00696215   -0.00443333  -0.0600197\n",
       " 0.0475333    0.00141827   -0.0110667    0.05559\n",
       " 0.0513333    0.000898898  -0.0154       0.060363\n",
       " 0.0542667    0.00484838   -0.0127667    0.0689052\n",
       " 0.0539667    0.0123569    -0.00956667  -0.0457858\n",
       " 0.0525667    0.00268427   -0.0109667    0.0984798"
      ]
     },
     "metadata": {},
     "output_type": "display_data"
    }
   ],
   "source": [
    "test_data = values(returns)[154:end,:]"
   ]
  },
  {
   "cell_type": "code",
   "execution_count": 270,
   "metadata": {},
   "outputs": [
    {
     "data": {
      "text/plain": [
       "4×5 Matrix{Float64}:\n",
       " -0.0048   1.2238  -0.2986   0.2416  -0.0187\n",
       " -0.0095   0.3539   0.3877   0.308    0.0039\n",
       "  0.0054  -0.2329   0.1603   0.7074   0.0179\n",
       "  0.1055  -2.8488   2.556   -3.155   -0.1553"
      ]
     },
     "metadata": {},
     "output_type": "display_data"
    }
   ],
   "source": [
    "model = VAR(test_data, 1, true)\n",
    "C_OLS = round.(model.β, digits=4)"
   ]
  },
  {
   "cell_type": "markdown",
   "metadata": {},
   "source": [
    "## Normal Wishart Prior gibs sampler\n",
    "- [x] draw covariance matrix\n",
    "- [] draw coeff - zrobić, aby działało\n",
    "- refactor, to ols model, i NormalWishartBVAR\n",
    "- zrobić testy"
   ]
  },
  {
   "cell_type": "code",
   "execution_count": 305,
   "metadata": {},
   "outputs": [
    {
     "name": "stderr",
     "output_type": "stream",
     "text": [
      "WARNING: replacing module FinancialBVAR.\n"
     ]
    },
    {
     "data": {
      "text/plain": [
       "5×4 Matrix{Float64}:\n",
       " -0.00477869  -0.0094609    0.00535864   0.10549\n",
       "  1.22379      0.353882    -0.232897    -2.84877\n",
       " -0.29864      0.387733     0.160339     2.556\n",
       "  0.241563     0.307988     0.707393    -3.15503\n",
       " -0.0186977    0.00388941   0.017932    -0.155301"
      ]
     },
     "metadata": {},
     "output_type": "display_data"
    }
   ],
   "source": [
    "include(\"financial_bvar_temp.jl\")\n",
    "\n",
    "model = FinancialBVAR.NormalWishartBVAR(test_data)\n",
    "\n",
    "round.(transpose(model.C_OLS), digits=4)\n",
    "\n",
    "model.C_OLS"
   ]
  },
  {
   "cell_type": "code",
   "execution_count": 278,
   "metadata": {},
   "outputs": [
    {
     "data": {
      "text/plain": [
       "4×4 Matrix{Float64}:\n",
       "  8.34999e-6  -1.243e-6     -2.59811e-6  -5.05592e-5\n",
       " -1.243e-6     5.57971e-5   -6.57071e-6  -0.000200666\n",
       " -2.59811e-6  -6.57071e-6    6.63328e-6   7.70649e-5\n",
       " -5.05592e-5  -0.000200666   7.70649e-5   0.00612377"
      ]
     },
     "metadata": {},
     "output_type": "display_data"
    }
   ],
   "source": [
    "FinancialBVAR.sample_posterior!(model, 10000,200)\n",
    "model.Σ[1,:,:]"
   ]
  },
  {
   "cell_type": "code",
   "execution_count": 279,
   "metadata": {},
   "outputs": [
    {
     "data": {
      "text/plain": [
       "10000×20 Matrix{Float64}:\n",
       " -0.00478961  1.20141  -0.388921  …   0.577794  -5.51982   -0.374186\n",
       " -0.0025586   1.12852  -0.230233      5.17035   -1.02995   -0.21223\n",
       " -0.00450325  1.14627  -0.240585      3.70762   -0.904746  -0.123654\n",
       " -0.00641407  1.26213  -0.245466     -0.223619   0.890941  -0.15739\n",
       " -0.00366954  1.20758  -0.251822      2.53751   -5.83654   -0.362944\n",
       " -0.00498232  1.22985  -0.265632  …   0.943141  -1.68455   -0.137337\n",
       " -0.00616851  1.22863  -0.300528      1.78942   -2.38486   -0.333851\n",
       " -0.00636337  1.29171  -0.402454      1.60287   -4.61405   -0.130468\n",
       " -0.00406473  1.18569  -0.422937      3.56568   -5.01503   -0.0819411\n",
       " -0.00415397  1.17349  -0.223824      1.15165   -1.11863   -0.0441608\n",
       "  ⋮                               ⋱                        \n",
       " -0.00451801  1.24633  -0.28962       5.15765   -3.46191   -0.176938\n",
       " -0.00172628  1.13456  -0.321215      3.16681   -1.67856    0.196215\n",
       " -0.00623901  1.24938  -0.334226      2.30814   -3.76939   -0.213948\n",
       " -0.00566002  1.22536  -0.237782     -0.763395  -7.55773   -0.486447\n",
       " -0.00583874  1.27193  -0.335418  …   1.86582    0.274155  -0.0637539\n",
       " -0.00314325  1.16103  -0.237154      2.77074   -1.02387   -0.112377\n",
       " -0.00229212  1.20205  -0.30779       5.02339   -4.36564   -0.0218639\n",
       " -0.00360954  1.23108  -0.269098      3.13211   -4.26581   -0.183712\n",
       " -0.00622563  1.269    -0.213319      2.30842   -2.73907   -0.106077"
      ]
     },
     "metadata": {},
     "output_type": "display_data"
    }
   ],
   "source": [
    "model.Β"
   ]
  },
  {
   "cell_type": "code",
   "execution_count": 280,
   "metadata": {},
   "outputs": [
    {
     "name": "stdout",
     "output_type": "stream",
     "text": [
      "Summary Stats:\n",
      "Length:         10000\n",
      "Missing Count:  0\n",
      "Mean:           -0.155138\n",
      "Std. Deviation: 0.155041\n",
      "Minimum:        -0.785657\n",
      "1st Quartile:   -0.257076\n",
      "Median:         -0.156115\n",
      "3rd Quartile:   -0.052497\n",
      "Maximum:        0.464472\n",
      "Type:           Float64\n"
     ]
    }
   ],
   "source": [
    "describe(model.Β[:,20])"
   ]
  },
  {
   "cell_type": "code",
   "execution_count": 281,
   "metadata": {},
   "outputs": [
    {
     "data": {
      "text/plain": [
       "1×20 Matrix{Float64}:\n",
       " -0.00478448  1.22416  -0.298119  0.241667  …  2.54899  -3.16355  -0.155138"
      ]
     },
     "metadata": {},
     "output_type": "display_data"
    }
   ],
   "source": [
    "mean(model.Β,dims=1)"
   ]
  },
  {
   "cell_type": "code",
   "execution_count": 287,
   "metadata": {},
   "outputs": [
    {
     "data": {
      "text/plain": [
       "Chains MCMC chain (10000×20×1 Array{Float64, 3}):\n",
       "\n",
       "Iterations        = 1:1:10000\n",
       "Number of chains  = 1\n",
       "Samples per chain = 10000\n",
       "parameters        = param_1, param_2, param_3, param_4, param_5, param_6, param_7, param_8, param_9, param_10, param_11, param_12, param_13, param_14, param_15, param_16, param_17, param_18, param_19, param_20\n",
       "\n",
       "Summary Statistics\n",
       " \u001b[1m parameters \u001b[0m \u001b[1m    mean \u001b[0m \u001b[1m     std \u001b[0m \u001b[1m    mcse \u001b[0m \u001b[1m   ess_bulk \u001b[0m \u001b[1m   ess_tail \u001b[0m \u001b[1m    rhat\u001b[0m ⋯\n",
       " \u001b[90m     Symbol \u001b[0m \u001b[90m Float64 \u001b[0m \u001b[90m Float64 \u001b[0m \u001b[90m Float64 \u001b[0m \u001b[90m    Float64 \u001b[0m \u001b[90m    Float64 \u001b[0m \u001b[90m Float64\u001b[0m ⋯\n",
       "\n",
       "     param_1   -0.0048    0.0018    0.0000   10173.6758    9960.6832    0.9999 ⋯\n",
       "     param_2    1.2242    0.0635    0.0006   10308.4592    9274.9620    1.0000 ⋯\n",
       "     param_3   -0.2981    0.0638    0.0006   10029.1601   10089.0557    1.0000 ⋯\n",
       "     param_4    0.2417    0.0912    0.0009   10094.4351    9798.2861    0.9999 ⋯\n",
       "     param_5   -0.0187    0.0060    0.0001    9192.2453    9565.5919    1.0000 ⋯\n",
       "     param_6   -0.0095    0.0038    0.0000   10150.7508    9915.2910    0.9999 ⋯\n",
       "     param_7    0.3567    0.1357    0.0014   10095.0307    9759.7069    1.0000 ⋯\n",
       "     param_8    0.3883    0.1385    0.0014    9822.0323    9920.6357    0.9999 ⋯\n",
       "     param_9    0.3122    0.1929    0.0019   10186.1684    9929.5051    1.0001 ⋯\n",
       "    param_10    0.0042    0.0128    0.0001    9263.8234    9998.7550    1.0000 ⋯\n",
       "    param_11    0.0053    0.0016    0.0000    9616.5191    9795.3712    1.0000 ⋯\n",
       "    param_12   -0.2327    0.0577    0.0006    9702.3723    9721.5563    1.0000 ⋯\n",
       "    param_13    0.1594    0.0579    0.0006    9510.6411    9877.0167    0.9999 ⋯\n",
       "    param_14    0.7079    0.0816    0.0008    9555.1189    9858.3926    1.0001 ⋯\n",
       "    param_15    0.0179    0.0054    0.0001    9810.1568    9640.1432    1.0000 ⋯\n",
       "    param_16    0.1055    0.0450    0.0004   10183.8717    9922.1040    1.0002 ⋯\n",
       "    param_17   -2.8519    1.6120    0.0162    9902.6356    9959.8476    1.0006 ⋯\n",
       "      ⋮           ⋮         ⋮         ⋮          ⋮            ⋮           ⋮    ⋱\n",
       "\u001b[36m                                                     1 column and 3 rows omitted\u001b[0m\n",
       "\n",
       "Quantiles\n",
       " \u001b[1m parameters \u001b[0m \u001b[1m    2.5% \u001b[0m \u001b[1m   25.0% \u001b[0m \u001b[1m   50.0% \u001b[0m \u001b[1m   75.0% \u001b[0m \u001b[1m   97.5% \u001b[0m\n",
       " \u001b[90m     Symbol \u001b[0m \u001b[90m Float64 \u001b[0m \u001b[90m Float64 \u001b[0m \u001b[90m Float64 \u001b[0m \u001b[90m Float64 \u001b[0m \u001b[90m Float64 \u001b[0m\n",
       "\n",
       "     param_1   -0.0082   -0.0060   -0.0048   -0.0036   -0.0013\n",
       "     param_2    1.0981    1.1824    1.2241    1.2666    1.3490\n",
       "     param_3   -0.4233   -0.3406   -0.2982   -0.2553   -0.1727\n",
       "     param_4    0.0608    0.1817    0.2415    0.3013    0.4189\n",
       "     param_5   -0.0305   -0.0227   -0.0188   -0.0147   -0.0068\n",
       "     param_6   -0.0168   -0.0121   -0.0096   -0.0070   -0.0020\n",
       "     param_7    0.0890    0.2654    0.3590    0.4471    0.6200\n",
       "     param_8    0.1191    0.2981    0.3881    0.4780    0.6629\n",
       "     param_9   -0.0686    0.1845    0.3160    0.4412    0.6834\n",
       "    param_10   -0.0206   -0.0044    0.0042    0.0127    0.0293\n",
       "    param_11    0.0022    0.0043    0.0054    0.0064    0.0085\n",
       "    param_12   -0.3482   -0.2703   -0.2324   -0.1946   -0.1197\n",
       "    param_13    0.0474    0.1203    0.1593    0.1977    0.2730\n",
       "    param_14    0.5472    0.6536    0.7072    0.7623    0.8673\n",
       "    param_15    0.0074    0.0143    0.0179    0.0215    0.0284\n",
       "    param_16    0.0194    0.0754    0.1052    0.1357    0.1929\n",
       "    param_17   -6.0412   -3.9365   -2.8499   -1.7619    0.2840\n",
       "      ⋮           ⋮         ⋮         ⋮         ⋮         ⋮\n",
       "\u001b[36m                                                  3 rows omitted\u001b[0m\n"
      ]
     },
     "metadata": {},
     "output_type": "display_data"
    }
   ],
   "source": [
    "chn = Chains(model.Β)"
   ]
  },
  {
   "cell_type": "code",
   "execution_count": 290,
   "metadata": {},
   "outputs": [
    {
     "data": {
      "text/plain": [
       "\n",
       " \u001b[1m parameters \u001b[0m \u001b[1m    mean \u001b[0m \u001b[1m     std \u001b[0m \u001b[1m    mcse \u001b[0m \u001b[1m   ess_bulk \u001b[0m \u001b[1m   ess_tail \u001b[0m \u001b[1m    rhat\u001b[0m ⋯\n",
       " \u001b[90m     Symbol \u001b[0m \u001b[90m Float64 \u001b[0m \u001b[90m Float64 \u001b[0m \u001b[90m Float64 \u001b[0m \u001b[90m    Float64 \u001b[0m \u001b[90m    Float64 \u001b[0m \u001b[90m Float64\u001b[0m ⋯\n",
       "\n",
       "     param_1   -0.0048    0.0018    0.0000   10173.6758    9960.6832    0.9999 ⋯\n",
       "     param_2    1.2242    0.0635    0.0006   10308.4592    9274.9620    1.0000 ⋯\n",
       "     param_3   -0.2981    0.0638    0.0006   10029.1601   10089.0557    1.0000 ⋯\n",
       "     param_4    0.2417    0.0912    0.0009   10094.4351    9798.2861    0.9999 ⋯\n",
       "     param_5   -0.0187    0.0060    0.0001    9192.2453    9565.5919    1.0000 ⋯\n",
       "     param_6   -0.0095    0.0038    0.0000   10150.7508    9915.2910    0.9999 ⋯\n",
       "     param_7    0.3567    0.1357    0.0014   10095.0307    9759.7069    1.0000 ⋯\n",
       "     param_8    0.3883    0.1385    0.0014    9822.0323    9920.6357    0.9999 ⋯\n",
       "     param_9    0.3122    0.1929    0.0019   10186.1684    9929.5051    1.0001 ⋯\n",
       "    param_10    0.0042    0.0128    0.0001    9263.8234    9998.7550    1.0000 ⋯\n",
       "    param_11    0.0053    0.0016    0.0000    9616.5191    9795.3712    1.0000 ⋯\n",
       "    param_12   -0.2327    0.0577    0.0006    9702.3723    9721.5563    1.0000 ⋯\n",
       "    param_13    0.1594    0.0579    0.0006    9510.6411    9877.0167    0.9999 ⋯\n",
       "    param_14    0.7079    0.0816    0.0008    9555.1189    9858.3926    1.0001 ⋯\n",
       "    param_15    0.0179    0.0054    0.0001    9810.1568    9640.1432    1.0000 ⋯\n",
       "    param_16    0.1055    0.0450    0.0004   10183.8717    9922.1040    1.0002 ⋯\n",
       "    param_17   -2.8519    1.6120    0.0162    9902.6356    9959.8476    1.0006 ⋯\n",
       "      ⋮           ⋮         ⋮         ⋮          ⋮            ⋮           ⋮    ⋱\n",
       "\u001b[36m                                                     1 column and 3 rows omitted\u001b[0m\n"
      ]
     },
     "metadata": {},
     "output_type": "display_data"
    }
   ],
   "source": [
    "summarize(chn)"
   ]
  },
  {
   "cell_type": "code",
   "execution_count": 310,
   "metadata": {},
   "outputs": [
    {
     "name": "stderr",
     "output_type": "stream",
     "text": [
      "WARNING: replacing module FinancialBVAR.\n"
     ]
    },
    {
     "data": {
      "text/plain": [
       "Main.FinancialBVAR.VARModel([0.00423333333333332 0.0025795105823884553 0.016233333333333377 -0.1538208820653177; 0.0033 -0.007100235312859051 0.017066666666666598 0.10829454953313074; … ; 0.0539666666666666 0.012356876445824887 -0.009566666666666598 -0.045785771432493155; 0.052566666666666595 0.002684271890795644 -0.010966666666666597 0.09847984128758931], [1.0 0.00286666666666666 … 0.02140000000000004 -3.203636796663648e-5; 1.0 0.00423333333333332 … 0.016233333333333377 -0.1538208820653177; … ; 1.0 0.054266666666666595 … -0.012766666666666593 0.06890518427257061; 1.0 0.0539666666666666 … -0.009566666666666598 -0.045785771432493155], [-0.004778689279757392 -0.009460899455677555 0.0053586412859994706 0.1054899451323232; 1.2237864561013927 0.3538815569760155 -0.23289736413220397 -2.8487737159716464; … ; 0.24156282197569665 0.3079877911536331 0.7073930241177909 -3.1550324945251758; -0.01869765913681341 0.00388941153748372 0.01793200513295851 -0.15530135158803102], [0.0004242587078846737 -0.0001361296519525877 -0.00013109577521493233 0.0003019756142043526; -0.0001361296519525877 0.0019240057023279494 -0.00011656937828170438 -0.008464952127131109; -0.00013109577521493233 -0.00011656937828170438 0.0003444681211960166 0.0014596813077073034; 0.0003019756142043526 -0.008464952127131109 0.0014596813077073034 0.27622980187720275])"
      ]
     },
     "metadata": {},
     "output_type": "display_data"
    }
   ],
   "source": [
    "include(\"financial_bvar_temp.jl\")\n",
    "model = FinancialBVAR.VARModel(test_data)"
   ]
  },
  {
   "cell_type": "code",
   "execution_count": 312,
   "metadata": {},
   "outputs": [
    {
     "data": {
      "text/plain": [
       "4×5 transpose(::Matrix{Float64}) with eltype Float64:\n",
       " -0.00477869   1.22379   -0.29864    0.241563  -0.0186977\n",
       " -0.0094609    0.353882   0.387733   0.307988   0.00388941\n",
       "  0.00535864  -0.232897   0.160339   0.707393   0.017932\n",
       "  0.10549     -2.84877    2.556     -3.15503   -0.155301"
      ]
     },
     "metadata": {},
     "output_type": "display_data"
    }
   ],
   "source": [
    "transpose(model.C)"
   ]
  },
  {
   "cell_type": "code",
   "execution_count": 316,
   "metadata": {},
   "outputs": [
    {
     "data": {
      "text/plain": [
       "4×4 Matrix{Float64}:\n",
       "  0.000424259  -0.00013613   -0.000131096   0.000301976\n",
       " -0.00013613    0.00192401   -0.000116569  -0.00846495\n",
       " -0.000131096  -0.000116569   0.000344468   0.00145968\n",
       "  0.000301976  -0.00846495    0.00145968    0.27623"
      ]
     },
     "metadata": {},
     "output_type": "display_data"
    }
   ],
   "source": [
    "model.Σ"
   ]
  },
  {
   "cell_type": "code",
   "execution_count": 324,
   "metadata": {},
   "outputs": [
    {
     "name": "stderr",
     "output_type": "stream",
     "text": [
      "WARNING: replacing module FinancialBVAR.\n"
     ]
    },
    {
     "ename": "MethodError",
     "evalue": "MethodError: no method matching simulate(::Main.FinancialBVAR.VARModel, ::Int64)\n\nClosest candidates are:\n  simulate(!Matched::Main.FinancialBVAR.VARModel, ::Int64)\n   @ Main.FinancialBVAR c:\\Users\\matsz\\programowanie\\Optymalizacja_portfela\\julia_msp\\financial_bvar_temp.jl:71\n",
     "output_type": "error",
     "traceback": [
      "MethodError: no method matching simulate(::Main.FinancialBVAR.VARModel, ::Int64)\n",
      "\n",
      "Closest candidates are:\n",
      "  simulate(!Matched::Main.FinancialBVAR.VARModel, ::Int64)\n",
      "   @ Main.FinancialBVAR c:\\Users\\matsz\\programowanie\\Optymalizacja_portfela\\julia_msp\\financial_bvar_temp.jl:71\n",
      "\n",
      "\n",
      "Stacktrace:\n",
      " [1] top-level scope\n",
      "   @ c:\\Users\\matsz\\programowanie\\Optymalizacja_portfela\\julia_msp\\usa_bvar_temp.ipynb:2"
     ]
    }
   ],
   "source": [
    "include(\"financial_bvar_temp.jl\")\n",
    "FinancialBVAR.simulate(model, 20)"
   ]
  }
 ],
 "metadata": {
  "kernelspec": {
   "display_name": "Julia 1.10.2",
   "language": "julia",
   "name": "julia-1.10"
  },
  "language_info": {
   "file_extension": ".jl",
   "mimetype": "application/julia",
   "name": "julia",
   "version": "1.10.2"
  }
 },
 "nbformat": 4,
 "nbformat_minor": 2
}
