{
 "cells": [
  {
   "cell_type": "code",
   "execution_count": 2,
   "metadata": {},
   "outputs": [
    {
     "name": "stderr",
     "output_type": "stream",
     "text": [
      "\u001b[32m\u001b[1m     Cloning\u001b[22m\u001b[39m git-repo `https://github.com/lucabrugnolini/VectorAutoregressions.jl`\n",
      "\u001b[32m\u001b[1m    Updating\u001b[22m\u001b[39m git-repo `https://github.com/lucabrugnolini/VectorAutoregressions.jl`\n",
      "\u001b[32m\u001b[1m    Updating\u001b[22m\u001b[39m registry at `C:\\Users\\matsz\\.julia\\registries\\General.toml`\n",
      "\u001b[32m\u001b[1m   Resolving\u001b[22m\u001b[39m package versions...\n",
      "\u001b[32m\u001b[1m   Installed\u001b[22m\u001b[39m EllipsisNotation ─ v0.4.0\n",
      "\u001b[32m\u001b[1m   Installed\u001b[22m\u001b[39m GrowableArrays ─── v0.1.0\n",
      "\u001b[32m\u001b[1m    Updating\u001b[22m\u001b[39m `C:\\Users\\matsz\\.julia\\environments\\v1.10\\Project.toml`\n",
      "  \u001b[90m[dd6ac5f8] \u001b[39m\u001b[92m+ VectorAutoregressions v0.1.0 `https://github.com/lucabrugnolini/VectorAutoregressions.jl#master`\u001b[39m\n",
      "\u001b[32m\u001b[1m    Updating\u001b[22m\u001b[39m `C:\\Users\\matsz\\.julia\\environments\\v1.10\\Manifest.toml`\n",
      "\u001b[33m⌅\u001b[39m \u001b[90m[da5c29d0] \u001b[39m\u001b[92m+ EllipsisNotation v0.4.0\u001b[39m\n",
      "  \u001b[90m[7ebbc34c] \u001b[39m\u001b[92m+ GrowableArrays v0.1.0\u001b[39m\n",
      "  \u001b[90m[dd6ac5f8] \u001b[39m\u001b[92m+ VectorAutoregressions v0.1.0 `https://github.com/lucabrugnolini/VectorAutoregressions.jl#master`\u001b[39m\n",
      "\u001b[36m\u001b[1m        Info\u001b[22m\u001b[39m Packages marked with \u001b[33m⌅\u001b[39m have new versions available but compatibility constraints restrict them from upgrading. To see why use `status --outdated -m`\n",
      "\u001b[32m\u001b[1mPrecompiling\u001b[22m\u001b[39m project...\n",
      "\u001b[32m  ✓ \u001b[39m\u001b[90mEllipsisNotation\u001b[39m\n",
      "\u001b[32m  ✓ \u001b[39m\u001b[90mGrowableArrays\u001b[39m\n",
      "\u001b[32m  ✓ \u001b[39mVectorAutoregressions\n",
      "  3 dependencies successfully precompiled in 28 seconds. 531 already precompiled.\n"
     ]
    }
   ],
   "source": [
    "import Pkg\n",
    "Pkg.add(url=\"https://github.com/lucabrugnolini/VectorAutoregressions.jl\")"
   ]
  },
  {
   "cell_type": "code",
   "execution_count": 1,
   "metadata": {},
   "outputs": [
    {
     "data": {
      "text/plain": [
       "print_percentiles (generic function with 1 method)"
      ]
     },
     "metadata": {},
     "output_type": "display_data"
    }
   ],
   "source": [
    "using Turing, MCMCChains\n",
    "using XLSX\n",
    "using DataFrames, TimeSeries\n",
    "using StatsPlots\n",
    "using LinearAlgebra\n",
    "using VectorAutoregressions\n",
    "using CSV\n",
    "using Test\n",
    "include(\"utils.jl\")"
   ]
  },
  {
   "cell_type": "code",
   "execution_count": 2,
   "metadata": {},
   "outputs": [
    {
     "data": {
      "text/plain": [
       "209×3 TimeArray{Float64, 2, Date, Matrix{Float64}} 1972-01-01 to 2024-01-01\n",
       "┌────────────┬────────────┬──────────────┬─────────────┐\n",
       "│\u001b[1m            \u001b[0m│\u001b[1m short_us   \u001b[0m│\u001b[1m real_us      \u001b[0m│\u001b[1m term_us     \u001b[0m│\n",
       "├────────────┼────────────┼──────────────┼─────────────┤\n",
       "│ 1972-01-01 │     0.0388 │    0.0023571 │   0.0215333 │\n",
       "│ 1972-04-01 │     0.0455 │   0.00326571 │   0.0159333 │\n",
       "│ 1972-07-01 │  0.0493333 │   0.00268831 │   0.0135667 │\n",
       "│ 1972-10-01 │      0.053 │   0.00368448 │   0.0107333 │\n",
       "│ 1973-01-01 │      0.064 │   0.00337313 │  0.00203333 │\n",
       "│ 1973-04-01 │  0.0767333 │  -0.00326431 │ -0.00866667 │\n",
       "│ 1973-07-01 │   0.103533 │   0.00377342 │  -0.0314667 │\n",
       "│ 1973-10-01 │  0.0923667 │   5.89786e-5 │  -0.0248333 │\n",
       "│     ⋮      │     ⋮      │      ⋮       │      ⋮      │\n",
       "│ 2022-07-01 │  0.0282333 │  -0.00602734 │  0.00283333 │\n",
       "│ 2022-10-01 │  0.0427333 │   0.00696215 │ -0.00443333 │\n",
       "│ 2023-01-01 │  0.0475333 │   0.00141827 │  -0.0110667 │\n",
       "│ 2023-04-01 │  0.0513333 │  0.000898898 │     -0.0154 │\n",
       "│ 2023-07-01 │  0.0542667 │   0.00484838 │  -0.0127667 │\n",
       "│ 2023-10-01 │  0.0539667 │    0.0123569 │ -0.00956667 │\n",
       "│ 2024-01-01 │  0.0525667 │   0.00268427 │  -0.0109667 │\n",
       "└────────────┴────────────┴──────────────┴─────────────┘\n",
       "\u001b[36m                                        194 rows omitted\u001b[0m"
      ]
     },
     "metadata": {},
     "output_type": "display_data"
    }
   ],
   "source": [
    "columns = [:Date, :short_us, :real_us, :term_us]\n",
    "data_df = DataFrame(XLSX.readtable(\"assets_data_03.24.xlsx\", \"Macro_Data\"; infer_eltypes=true))[2:end, columns]\n",
    "dropmissing!(data_df, disallowmissing=true)\n",
    "macro_data = TimeArray(data_df; timestamp = :Date)"
   ]
  },
  {
   "cell_type": "code",
   "execution_count": 3,
   "metadata": {},
   "outputs": [
    {
     "data": {
      "text/plain": [
       "205×1 TimeArray{Float64, 1, Date, Vector{Float64}} 1973-04-01 to 2024-04-01\n",
       "┌────────────┬────────────┐\n",
       "│\u001b[1m            \u001b[0m│\u001b[1m USA_Net    \u001b[0m│\n",
       "├────────────┼────────────┤\n",
       "│ 1973-04-01 │ -0.0833335 │\n",
       "│ 1973-07-01 │ -0.0532413 │\n",
       "│ 1973-10-01 │  0.0402782 │\n",
       "│ 1974-01-01 │ -0.0900348 │\n",
       "│ 1974-04-01 │ -0.0428685 │\n",
       "│ 1974-07-01 │ -0.0874197 │\n",
       "│ 1974-10-01 │  -0.301121 │\n",
       "│ 1975-01-01 │  0.0939096 │\n",
       "│     ⋮      │     ⋮      │\n",
       "│ 2022-10-01 │ -0.0493364 │\n",
       "│ 2023-01-01 │  0.0674734 │\n",
       "│ 2023-04-01 │  0.0731963 │\n",
       "│ 2023-07-01 │  0.0824719 │\n",
       "│ 2023-10-01 │ -0.0322941 │\n",
       "│ 2024-01-01 │   0.111622 │\n",
       "│ 2024-04-01 │  0.0979943 │\n",
       "└────────────┴────────────┘\n",
       "\u001b[36m           190 rows omitted\u001b[0m"
      ]
     },
     "metadata": {},
     "output_type": "display_data"
    }
   ],
   "source": [
    "data_df = DataFrame(XLSX.readtable(\"assets_data_03.24.xlsx\", \"Indexes\"; infer_eltypes=true))[1:end, [:Date, :USA_Net]]\n",
    "dropmissing!(data_df, disallowmissing=true)\n",
    "data = TimeArray(data_df; timestamp = :Date)\n",
    "data = collapse(data, Dates.quarter, last)\n",
    "\n",
    "dates = timestamp(data) .+ Day(1)\n",
    "\n",
    "data = TimeArray(data; timestamp = dates)\n",
    "\n",
    "equity = percentchange(data, :log)"
   ]
  },
  {
   "cell_type": "code",
   "execution_count": 4,
   "metadata": {},
   "outputs": [
    {
     "data": {
      "text/plain": [
       "1×1 TimeArray{Float64, 1, Date, Vector{Float64}} 2024-04-01 to 2024-04-01\n",
       "┌────────────┬───────────┐\n",
       "│\u001b[1m            \u001b[0m│\u001b[1m USA_Net   \u001b[0m│\n",
       "├────────────┼───────────┤\n",
       "│ 2024-04-01 │ 0.0917981 │\n",
       "└────────────┴───────────┘"
      ]
     },
     "metadata": {},
     "output_type": "display_data"
    }
   ],
   "source": [
    "mean(equity) .* 4"
   ]
  },
  {
   "cell_type": "code",
   "execution_count": 5,
   "metadata": {},
   "outputs": [
    {
     "data": {
      "text/plain": [
       "204×1 TimeArray{Float64, 1, Date, Vector{Float64}} 1973-04-01 to 2024-01-01\n",
       "┌────────────┬──────────────────┐\n",
       "│\u001b[1m            \u001b[0m│\u001b[1m USA_Net_short_us \u001b[0m│\n",
       "├────────────┼──────────────────┤\n",
       "│ 1973-04-01 │        -0.102517 │\n",
       "│ 1973-07-01 │       -0.0791246 │\n",
       "│ 1973-10-01 │        0.0171865 │\n",
       "│ 1974-01-01 │        -0.111635 │\n",
       "│ 1974-04-01 │       -0.0702268 │\n",
       "│ 1974-07-01 │        -0.117486 │\n",
       "│ 1974-10-01 │        -0.324538 │\n",
       "│ 1975-01-01 │        0.0771846 │\n",
       "│     ⋮      │        ⋮         │\n",
       "│ 2022-07-01 │         -0.19188 │\n",
       "│ 2022-10-01 │       -0.0600197 │\n",
       "│ 2023-01-01 │          0.05559 │\n",
       "│ 2023-04-01 │         0.060363 │\n",
       "│ 2023-07-01 │        0.0689052 │\n",
       "│ 2023-10-01 │       -0.0457858 │\n",
       "│ 2024-01-01 │        0.0984798 │\n",
       "└────────────┴──────────────────┘\n",
       "\u001b[36m                 189 rows omitted\u001b[0m"
      ]
     },
     "metadata": {},
     "output_type": "display_data"
    }
   ],
   "source": [
    "e_premium = equity .- macro_data[:short_us] ./ 4"
   ]
  },
  {
   "cell_type": "code",
   "execution_count": 6,
   "metadata": {},
   "outputs": [
    {
     "data": {
      "text/plain": [
       "1×1 TimeArray{Float64, 1, Date, Vector{Float64}} 2024-01-01 to 2024-01-01\n",
       "┌────────────┬──────────────────┐\n",
       "│\u001b[1m            \u001b[0m│\u001b[1m USA_Net_short_us \u001b[0m│\n",
       "├────────────┼──────────────────┤\n",
       "│ 2024-01-01 │        0.0403383 │\n",
       "└────────────┴──────────────────┘"
      ]
     },
     "metadata": {},
     "output_type": "display_data"
    }
   ],
   "source": [
    "mean(e_premium) .* 4"
   ]
  },
  {
   "cell_type": "code",
   "execution_count": 7,
   "metadata": {},
   "outputs": [
    {
     "data": {
      "text/plain": [
       "204×4 TimeArray{Float64, 2, Date, Matrix{Float64}} 1973-04-01 to 2024-01-01\n",
       "┌────────────┬────────────┬──────────────┬─────────────┬──────────────────┐\n",
       "│\u001b[1m            \u001b[0m│\u001b[1m short_us   \u001b[0m│\u001b[1m real_us      \u001b[0m│\u001b[1m term_us     \u001b[0m│\u001b[1m USA_Net_short_us \u001b[0m│\n",
       "├────────────┼────────────┼──────────────┼─────────────┼──────────────────┤\n",
       "│ 1973-04-01 │  0.0767333 │  -0.00326431 │ -0.00866667 │        -0.102517 │\n",
       "│ 1973-07-01 │   0.103533 │   0.00377342 │  -0.0314667 │       -0.0791246 │\n",
       "│ 1973-10-01 │  0.0923667 │   5.89786e-5 │  -0.0248333 │        0.0171865 │\n",
       "│ 1974-01-01 │     0.0864 │  -0.00655872 │  -0.0158667 │        -0.111635 │\n",
       "│ 1974-04-01 │   0.109433 │ -0.000866128 │      -0.034 │       -0.0702268 │\n",
       "│ 1974-07-01 │   0.120267 │ -0.000148683 │  -0.0406333 │        -0.117486 │\n",
       "│ 1974-10-01 │  0.0936667 │  -0.00641213 │  -0.0169667 │        -0.324538 │\n",
       "│ 1975-01-01 │     0.0669 │  -0.00137404 │      0.0085 │        0.0771846 │\n",
       "│     ⋮      │     ⋮      │      ⋮       │      ⋮      │        ⋮         │\n",
       "│ 2022-07-01 │  0.0282333 │  -0.00602734 │  0.00283333 │         -0.19188 │\n",
       "│ 2022-10-01 │  0.0427333 │   0.00696215 │ -0.00443333 │       -0.0600197 │\n",
       "│ 2023-01-01 │  0.0475333 │   0.00141827 │  -0.0110667 │          0.05559 │\n",
       "│ 2023-04-01 │  0.0513333 │  0.000898898 │     -0.0154 │         0.060363 │\n",
       "│ 2023-07-01 │  0.0542667 │   0.00484838 │  -0.0127667 │        0.0689052 │\n",
       "│ 2023-10-01 │  0.0539667 │    0.0123569 │ -0.00956667 │       -0.0457858 │\n",
       "│ 2024-01-01 │  0.0525667 │   0.00268427 │  -0.0109667 │        0.0984798 │\n",
       "└────────────┴────────────┴──────────────┴─────────────┴──────────────────┘\n",
       "\u001b[36m                                                           189 rows omitted\u001b[0m"
      ]
     },
     "metadata": {},
     "output_type": "display_data"
    }
   ],
   "source": [
    "returns = merge(macro_data, e_premium)"
   ]
  },
  {
   "cell_type": "code",
   "execution_count": 8,
   "metadata": {},
   "outputs": [
    {
     "data": {
      "text/html": [
       "<table>\n",
       "  <thead>\n",
       "    <tr class = \"header headerLastRow\">\n",
       "      <th class = \"rowLabel\" style = \"font-weight: bold; text-align: right;\"></th>\n",
       "      <th style = \"text-align: right;\">std</th>\n",
       "      <th style = \"text-align: right;\">max</th>\n",
       "      <th style = \"text-align: right;\">mean</th>\n",
       "      <th style = \"text-align: right;\">p75th</th>\n",
       "      <th style = \"text-align: right;\">min</th>\n",
       "      <th style = \"text-align: right;\">skewness</th>\n",
       "      <th style = \"text-align: right;\">p25th</th>\n",
       "      <th style = \"text-align: right;\">autocor</th>\n",
       "      <th style = \"text-align: right;\">kurtosis</th>\n",
       "      <th style = \"text-align: right;\">sr</th>\n",
       "      <th style = \"text-align: right;\">median</th>\n",
       "    </tr>\n",
       "  </thead>\n",
       "  <tbody>\n",
       "    <tr>\n",
       "      <td class = \"rowLabel\" style = \"font-weight: bold; text-align: right;\">short_us</td>\n",
       "      <td style = \"text-align: right;\">0.0388218</td>\n",
       "      <td style = \"text-align: right;\">0.1752</td>\n",
       "      <td style = \"text-align: right;\">0.0499883</td>\n",
       "      <td style = \"text-align: right;\">0.0701083</td>\n",
       "      <td style = \"text-align: right;\">0.001</td>\n",
       "      <td style = \"text-align: right;\">0.732581</td>\n",
       "      <td style = \"text-align: right;\">0.0145833</td>\n",
       "      <td style = \"text-align: right;\">0.970067</td>\n",
       "      <td style = \"text-align: right;\">0.306504</td>\n",
       "      <td style = \"text-align: right;\">1.28764</td>\n",
       "      <td style = \"text-align: right;\">0.0520833</td>\n",
       "    </tr>\n",
       "    <tr>\n",
       "      <td class = \"rowLabel\" style = \"font-weight: bold; text-align: right;\">real_us</td>\n",
       "      <td style = \"text-align: right;\">0.00869245</td>\n",
       "      <td style = \"text-align: right;\">0.0357101</td>\n",
       "      <td style = \"text-align: right;\">0.00267766</td>\n",
       "      <td style = \"text-align: right;\">0.00830319</td>\n",
       "      <td style = \"text-align: right;\">-0.0258859</td>\n",
       "      <td style = \"text-align: right;\">0.0123656</td>\n",
       "      <td style = \"text-align: right;\">-0.00245872</td>\n",
       "      <td style = \"text-align: right;\">0.642757</td>\n",
       "      <td style = \"text-align: right;\">1.23567</td>\n",
       "      <td style = \"text-align: right;\">0.308044</td>\n",
       "      <td style = \"text-align: right;\">0.00268779</td>\n",
       "    </tr>\n",
       "    <tr>\n",
       "      <td class = \"rowLabel\" style = \"font-weight: bold; text-align: right;\">term_us</td>\n",
       "      <td style = \"text-align: right;\">0.0156434</td>\n",
       "      <td style = \"text-align: right;\">0.0351</td>\n",
       "      <td style = \"text-align: right;\">0.00984224</td>\n",
       "      <td style = \"text-align: right;\">0.021925</td>\n",
       "      <td style = \"text-align: right;\">-0.0406333</td>\n",
       "      <td style = \"text-align: right;\">-0.802433</td>\n",
       "      <td style = \"text-align: right;\">0.000825</td>\n",
       "      <td style = \"text-align: right;\">0.882008</td>\n",
       "      <td style = \"text-align: right;\">0.499251</td>\n",
       "      <td style = \"text-align: right;\">0.629163</td>\n",
       "      <td style = \"text-align: right;\">0.0119833</td>\n",
       "    </tr>\n",
       "    <tr>\n",
       "      <td class = \"rowLabel\" style = \"font-weight: bold; text-align: right;\">USA_Net_short_us</td>\n",
       "      <td style = \"text-align: right;\">0.0856362</td>\n",
       "      <td style = \"text-align: right;\">0.195054</td>\n",
       "      <td style = \"text-align: right;\">0.0100846</td>\n",
       "      <td style = \"text-align: right;\">0.0620761</td>\n",
       "      <td style = \"text-align: right;\">-0.324538</td>\n",
       "      <td style = \"text-align: right;\">-0.868604</td>\n",
       "      <td style = \"text-align: right;\">-0.0312701</td>\n",
       "      <td style = \"text-align: right;\">0.0713791</td>\n",
       "      <td style = \"text-align: right;\">1.39014</td>\n",
       "      <td style = \"text-align: right;\">0.117761</td>\n",
       "      <td style = \"text-align: right;\">0.0231837</td>\n",
       "    </tr>\n",
       "  </tbody>\n",
       "</table>\n"
      ]
     },
     "metadata": {},
     "output_type": "display_data"
    }
   ],
   "source": [
    "returns_summarystats(returns,1)"
   ]
  },
  {
   "cell_type": "code",
   "execution_count": 9,
   "metadata": {},
   "outputs": [
    {
     "data": {
      "text/plain": [
       "\"usa.csv\""
      ]
     },
     "metadata": {},
     "output_type": "display_data"
    }
   ],
   "source": [
    "CSV.write(\"usa.csv\",returns)"
   ]
  },
  {
   "cell_type": "code",
   "execution_count": 11,
   "metadata": {},
   "outputs": [
    {
     "data": {
      "text/plain": [
       "VAR([0.0767333333333333 -0.0032643068090423034 -0.0086666666666666 -0.10251684479395795; 0.10353333333333299 0.003773416161491721 -0.031466666666666296 -0.07912463252540157; … ; 0.0539666666666666 0.012356876445824887 -0.009566666666666598 -0.045785771432493155; 0.052566666666666595 0.002684271890795644 -0.010966666666666597 0.09847984128758931], [0.10353333333333299 0.0923666666666666 … 0.0539666666666666 0.052566666666666595; 0.003773416161491721 5.897855263142099e-5 … 0.012356876445824887 0.002684271890795644; -0.031466666666666296 -0.02483333333333329 … -0.009566666666666598 -0.010966666666666597; -0.07912463252540157 0.017186488034891395 … -0.045785771432493155 0.09847984128758931], [1.0 1.0 … 1.0 1.0; 0.0767333333333333 0.10353333333333299 … 0.054266666666666595 0.0539666666666666; … ; -0.0086666666666666 -0.031466666666666296 … -0.012766666666666593 -0.009566666666666598; -0.10251684479395795 -0.07912463252540157 … 0.06890518427257061 -0.045785771432493155], [-0.001065667119790542 1.0168144325436272 … 0.05719808653521602 0.015635499810803; -0.004057743736211977 0.0925696718111192 … 0.09079929865343511 0.003038519212959826; 0.0017394653581008336 -0.017719876888045664 … 0.8897713709102486 -0.011675154464405296; 0.015426325364574268 -0.2837582114110242 … 0.7029648599575702 0.0344376239272063], [0.02792628223290161 -0.00794046617264857 … 0.0006167164969819658 0.002851997866208031; 0.003296832412174473 -0.004069507927365194 … 0.01015702672277986 -0.00281211783934232; -0.024913069718692695 0.0018519073670573427 … 0.0011971719147329668 -0.00535800467554214; -0.06062989674960052 0.053065137466688596 … -0.042961537607362495 0.09711222537506561], [8.264649933771699e-5 6.691323152513859e-6 -5.4295983319791906e-5 6.744602859347349e-5; 6.691323152513859e-6 3.9072829024372955e-5 -1.1375365565515058e-5 -1.2060632567050869e-5; -5.4295983319791906e-5 -1.1375365565515058e-5 5.04309026523261e-5 -1.4068848624011157e-5; 6.744602859347349e-5 -1.2060632567050869e-5 -1.4068848624011157e-5 0.007101136519287692], 1, VectorAutoregressions.Intercept())"
      ]
     },
     "metadata": {},
     "output_type": "display_data"
    }
   ],
   "source": [
    "model = VAR(values(returns), 1, true)"
   ]
  },
  {
   "cell_type": "code",
   "execution_count": 12,
   "metadata": {},
   "outputs": [
    {
     "data": {
      "text/plain": [
       "4×5 Matrix{Float64}:\n",
       " -0.001066   1.01681   -0.229077  0.057198   0.015635\n",
       " -0.004058   0.09257    0.450456  0.090799   0.003039\n",
       "  0.001739  -0.01772    0.128329  0.889771  -0.011675\n",
       "  0.015426  -0.283758   0.77338   0.702965   0.034438"
      ]
     },
     "metadata": {},
     "output_type": "display_data"
    }
   ],
   "source": [
    "round.(model.β, digits=6)"
   ]
  },
  {
   "cell_type": "code",
   "execution_count": 13,
   "metadata": {},
   "outputs": [
    {
     "data": {
      "text/plain": [
       "4×4 Matrix{Float64}:\n",
       "  0.0001   0.0  -0.0001   0.0001\n",
       "  0.0      0.0  -0.0     -0.0\n",
       " -0.0001  -0.0   0.0001  -0.0\n",
       "  0.0001  -0.0  -0.0      0.0071"
      ]
     },
     "metadata": {},
     "output_type": "display_data"
    }
   ],
   "source": [
    "round.(model.Σ, digits=4)"
   ]
  },
  {
   "cell_type": "code",
   "execution_count": 14,
   "metadata": {},
   "outputs": [
    {
     "data": {
      "text/plain": [
       "2×2 Matrix{Int64}:\n",
       " 1  2\n",
       " 3  4"
      ]
     },
     "metadata": {},
     "output_type": "display_data"
    }
   ],
   "source": [
    "A = [1 2; 3 4]\n"
   ]
  },
  {
   "cell_type": "code",
   "execution_count": 15,
   "metadata": {},
   "outputs": [
    {
     "data": {
      "text/plain": [
       "2×2 Matrix{Int64}:\n",
       " 1  2\n",
       " 3  4"
      ]
     },
     "metadata": {},
     "output_type": "display_data"
    }
   ],
   "source": [
    "B = [1 2; 3 4]"
   ]
  },
  {
   "cell_type": "code",
   "execution_count": 16,
   "metadata": {},
   "outputs": [
    {
     "data": {
      "text/plain": [
       "2×2 Matrix{Int64}:\n",
       "  7  10\n",
       " 15  22"
      ]
     },
     "metadata": {},
     "output_type": "display_data"
    }
   ],
   "source": [
    "A * B"
   ]
  },
  {
   "cell_type": "code",
   "execution_count": 17,
   "metadata": {},
   "outputs": [
    {
     "data": {
      "text/plain": [
       "30"
      ]
     },
     "metadata": {},
     "output_type": "display_data"
    }
   ],
   "source": [
    "dot(A,B)"
   ]
  },
  {
   "cell_type": "code",
   "execution_count": 18,
   "metadata": {},
   "outputs": [
    {
     "data": {
      "text/plain": [
       "4×4 Matrix{Int64}:\n",
       " 1   2   2   4\n",
       " 3   4   6   8\n",
       " 3   6   4   8\n",
       " 9  12  12  16"
      ]
     },
     "metadata": {},
     "output_type": "display_data"
    }
   ],
   "source": [
    "kron(A,B)"
   ]
  },
  {
   "cell_type": "markdown",
   "metadata": {},
   "source": [
    "- [ ] Normal Wishart Prior gibs sampler\n",
    "- [ ] draw posterior parameters\n",
    "- [ ] describe posterior parameters\n",
    "- [ ] simulate\n",
    "- [ ] plot simulation\n",
    "- [ ] estimate momoments estimation\n",
    "- [ ] calculate waic i inne miary"
   ]
  },
  {
   "cell_type": "code",
   "execution_count": 53,
   "metadata": {},
   "outputs": [
    {
     "data": {
      "text/plain": [
       "71×4 Matrix{Float64}:\n",
       " 0.0539333    0.00780662   -0.00496667  -0.0306939\n",
       " 0.0532333    0.0217775    -0.00693333   0.0376527\n",
       " 0.0531       0.00304751   -0.0063       0.0505816\n",
       " 0.0531667   -0.00578768   -0.0047      -0.00438775\n",
       " 0.0542333    0.0107117    -0.00693333   0.0446743\n",
       " 0.0502333    0.00539319   -0.00763333   0.00694396\n",
       " 0.0323      -0.00326106    0.00433333  -0.0417236\n",
       " 0.0275667   -0.0148479     0.0113      -0.10631\n",
       " 0.0305667   -0.00395082    0.00806667  -0.0300029\n",
       " 0.0281667    0.0357101     0.00436667  -0.102761\n",
       " ⋮                                      \n",
       " 0.00443333  -0.0214703     0.0149667    0.0939515\n",
       " 0.0137      -0.0258859     0.0156      -0.05795\n",
       " 0.0282333   -0.00602734    0.00283333  -0.19188\n",
       " 0.0427333    0.00696215   -0.00443333  -0.0600197\n",
       " 0.0475333    0.00141827   -0.0110667    0.05559\n",
       " 0.0513333    0.000898898  -0.0154       0.060363\n",
       " 0.0542667    0.00484838   -0.0127667    0.0689052\n",
       " 0.0539667    0.0123569    -0.00956667  -0.0457858\n",
       " 0.0525667    0.00268427   -0.0109667    0.0984798"
      ]
     },
     "metadata": {},
     "output_type": "display_data"
    }
   ],
   "source": [
    "test_data = values(returns)[134:end,:]"
   ]
  },
  {
   "cell_type": "code",
   "execution_count": 54,
   "metadata": {},
   "outputs": [
    {
     "data": {
      "text/plain": [
       "4×5 Matrix{Float64}:\n",
       " -0.0013   1.0381  -0.2897   0.0217  -0.0082\n",
       " -0.0083   0.292    0.2416   0.1802  -0.0011\n",
       "  0.0035  -0.1104   0.2116   0.8725   0.0052\n",
       "  0.0441  -1.1338  -0.2025  -0.7741   0.0347"
      ]
     },
     "metadata": {},
     "output_type": "display_data"
    }
   ],
   "source": [
    "model = VAR(test_data, 1, true)\n",
    "C_OLS = round.(model.β, digits=4)"
   ]
  },
  {
   "cell_type": "markdown",
   "metadata": {},
   "source": [
    "## Normal Wishart Prior gibs sampler\n",
    "- [x] draw covariance matrix\n",
    "- [] draw coeff - zrobić, aby działało\n",
    "- refactor, to ols model, i NormalWishartBVAR\n",
    "- zrobić testy"
   ]
  },
  {
   "cell_type": "code",
   "execution_count": 55,
   "metadata": {},
   "outputs": [
    {
     "name": "stderr",
     "output_type": "stream",
     "text": [
      "WARNING: replacing module FinancialBVAR.\n"
     ]
    },
    {
     "data": {
      "text/plain": [
       "5×4 Matrix{Float64}:\n",
       " -0.0013331   -0.00825192   0.00345063   0.0441006\n",
       "  1.03807      0.29205     -0.110432    -1.13381\n",
       " -0.289741     0.241632     0.21155     -0.202543\n",
       "  0.0216543    0.180209     0.872462    -0.774091\n",
       " -0.00815769  -0.00112187   0.00523774   0.0346563"
      ]
     },
     "metadata": {},
     "output_type": "display_data"
    }
   ],
   "source": [
    "include(\"financial_bvar_temp.jl\")\n",
    "\n",
    "model = FinancialBVAR.NormalWishartBVAR(test_data)\n",
    "\n",
    "round.(transpose(model.C_OLS), digits=4)\n",
    "\n",
    "model.C_OLS"
   ]
  },
  {
   "cell_type": "code",
   "execution_count": 56,
   "metadata": {},
   "outputs": [
    {
     "ename": "PosDefException",
     "evalue": "PosDefException: matrix is not Hermitian; Cholesky factorization failed.",
     "output_type": "error",
     "traceback": [
      "PosDefException: matrix is not Hermitian; Cholesky factorization failed.\n",
      "\n",
      "Stacktrace:\n",
      " [1] checkpositivedefinite(info::Int64)\n",
      "   @ LinearAlgebra C:\\Users\\matsz\\.julia\\juliaup\\julia-1.10.2+0.x64.w64.mingw32\\share\\julia\\stdlib\\v1.10\\LinearAlgebra\\src\\factorization.jl:67\n",
      " [2] cholesky!(A::Matrix{Float64}, ::NoPivot; check::Bool)\n",
      "   @ LinearAlgebra C:\\Users\\matsz\\.julia\\juliaup\\julia-1.10.2+0.x64.w64.mingw32\\share\\julia\\stdlib\\v1.10\\LinearAlgebra\\src\\cholesky.jl:298\n",
      " [3] cholesky! (repeats 2 times)\n",
      "   @ C:\\Users\\matsz\\.julia\\juliaup\\julia-1.10.2+0.x64.w64.mingw32\\share\\julia\\stdlib\\v1.10\\LinearAlgebra\\src\\cholesky.jl:295 [inlined]\n",
      " [4] cholesky (repeats 2 times)\n",
      "   @ C:\\Users\\matsz\\.julia\\juliaup\\julia-1.10.2+0.x64.w64.mingw32\\share\\julia\\stdlib\\v1.10\\LinearAlgebra\\src\\cholesky.jl:401 [inlined]\n",
      " [5] PDMats.PDMat(mat::Matrix{Float64})\n",
      "   @ PDMats C:\\Users\\matsz\\.julia\\packages\\PDMats\\cAM9h\\src\\pdmat.jl:19\n",
      " [6] MvNormal(μ::Vector{Float64}, Σ::Matrix{Float64})\n",
      "   @ Distributions C:\\Users\\matsz\\.julia\\packages\\Distributions\\UaWBm\\src\\multivariate\\mvnormal.jl:201\n",
      " [7] sample_posterior!(model::Main.FinancialBVAR.NormalWishartBVARmodel)\n",
      "   @ Main.FinancialBVAR c:\\Users\\matsz\\programowanie\\Optymalizacja_portfela\\julia_msp\\financial_bvar_temp.jl:37\n",
      " [8] top-level scope\n",
      "   @ c:\\Users\\matsz\\programowanie\\Optymalizacja_portfela\\julia_msp\\usa_bvar_temp.ipynb:1"
     ]
    }
   ],
   "source": [
    "FinancialBVAR.sample_posterior!(model)\n",
    "model.Σ"
   ]
  },
  {
   "cell_type": "code",
   "execution_count": 57,
   "metadata": {},
   "outputs": [
    {
     "data": {
      "text/plain": [
       "20-element Vector{Float64}:\n",
       " -0.0013331020531651863\n",
       "  1.0380747685218707\n",
       " -0.28974104935929673\n",
       "  0.021654290335881576\n",
       " -0.008157688735980348\n",
       " -0.008251915119291933\n",
       "  0.2920497124096815\n",
       "  0.2416324404680302\n",
       "  0.18020944931212102\n",
       " -0.0011218692583331528\n",
       "  0.003450631518553828\n",
       " -0.11043182655442896\n",
       "  0.2115500341078264\n",
       "  0.8724616374674453\n",
       "  0.00523773770710714\n",
       "  0.04410062611315093\n",
       " -1.1338054794291648\n",
       " -0.20254295639474978\n",
       " -0.7740911987533649\n",
       "  0.03465628762211287"
      ]
     },
     "metadata": {},
     "output_type": "display_data"
    }
   ],
   "source": [
    "m = vec(model.C_OLS)"
   ]
  },
  {
   "cell_type": "code",
   "execution_count": 58,
   "metadata": {},
   "outputs": [
    {
     "data": {
      "text/plain": [
       "20×20 Matrix{Float64}:\n",
       "  3.15224e-6   -8.93826e-5    1.63954e-5   …  -0.000464956  -3.14275e-6\n",
       " -8.93826e-5    0.00305215   -0.000776874      0.0129613     5.5649e-5\n",
       "  1.63954e-5   -0.000776874   0.00415647       0.000936783   0.000332107\n",
       " -0.000125409   0.00349594    0.000252671      0.0230755     4.19658e-5\n",
       " -8.47666e-7    1.50097e-5    8.95766e-5       4.19658e-5    0.00014877\n",
       " -1.94487e-7    5.51472e-6   -1.01157e-6   …   0.00306393    2.07098e-5\n",
       "  5.51472e-6   -0.000188312   4.79316e-5      -0.0854113    -0.000366711\n",
       " -1.01157e-6    4.79316e-5   -0.000256446     -0.00617313   -0.00218849\n",
       "  7.73746e-6   -0.000215693  -1.55893e-5      -0.152061     -0.000276542\n",
       "  5.22993e-8   -9.26071e-7   -5.52669e-6      -0.000276542  -0.000980354\n",
       " -1.72896e-6    4.90253e-5   -8.99271e-6   …  -0.000482188  -3.25922e-6\n",
       "  4.90253e-5   -0.00167407    0.000426106      0.0134417     5.77114e-5\n",
       " -8.99271e-6    0.000426106  -0.00227978       0.000971501   0.000344416\n",
       "  6.87851e-5   -0.00191748   -0.000138587      0.0239307     4.35211e-5\n",
       "  4.64935e-7   -8.23266e-6   -4.91317e-5       4.35211e-5    0.000154284\n",
       "  1.1687e-5    -0.000331388   6.07866e-5   …  -0.051796     -0.000350101\n",
       " -0.000331388   0.0113159    -0.00288028       1.44389       0.00619929\n",
       "  6.07866e-5   -0.00288028    0.0154102        0.104358      0.0369967\n",
       " -0.000464956   0.0129613     0.000936783      2.57061       0.00467498\n",
       " -3.14275e-6    5.5649e-5     0.000332107      0.00467498    0.016573"
      ]
     },
     "metadata": {},
     "output_type": "display_data"
    }
   ],
   "source": [
    "using LinearAlgebra\n",
    "p = kron(model.Σ[1],inv(transpose(model.X) * model.X))"
   ]
  },
  {
   "cell_type": "code",
   "execution_count": 59,
   "metadata": {},
   "outputs": [
    {
     "ename": "PosDefException",
     "evalue": "PosDefException: matrix is not Hermitian; Cholesky factorization failed.",
     "output_type": "error",
     "traceback": [
      "PosDefException: matrix is not Hermitian; Cholesky factorization failed.\n",
      "\n",
      "Stacktrace:\n",
      " [1] checkpositivedefinite(info::Int64)\n",
      "   @ LinearAlgebra C:\\Users\\matsz\\.julia\\juliaup\\julia-1.10.2+0.x64.w64.mingw32\\share\\julia\\stdlib\\v1.10\\LinearAlgebra\\src\\factorization.jl:67\n",
      " [2] cholesky!(A::Matrix{Float64}, ::NoPivot; check::Bool)\n",
      "   @ LinearAlgebra C:\\Users\\matsz\\.julia\\juliaup\\julia-1.10.2+0.x64.w64.mingw32\\share\\julia\\stdlib\\v1.10\\LinearAlgebra\\src\\cholesky.jl:298\n",
      " [3] cholesky! (repeats 2 times)\n",
      "   @ C:\\Users\\matsz\\.julia\\juliaup\\julia-1.10.2+0.x64.w64.mingw32\\share\\julia\\stdlib\\v1.10\\LinearAlgebra\\src\\cholesky.jl:295 [inlined]\n",
      " [4] cholesky (repeats 2 times)\n",
      "   @ C:\\Users\\matsz\\.julia\\juliaup\\julia-1.10.2+0.x64.w64.mingw32\\share\\julia\\stdlib\\v1.10\\LinearAlgebra\\src\\cholesky.jl:401 [inlined]\n",
      " [5] PDMats.PDMat(mat::Matrix{Float64})\n",
      "   @ PDMats C:\\Users\\matsz\\.julia\\packages\\PDMats\\cAM9h\\src\\pdmat.jl:19\n",
      " [6] MvNormal(μ::Vector{Float64}, Σ::Matrix{Float64})\n",
      "   @ Distributions C:\\Users\\matsz\\.julia\\packages\\Distributions\\UaWBm\\src\\multivariate\\mvnormal.jl:201\n",
      " [7] top-level scope\n",
      "   @ c:\\Users\\matsz\\programowanie\\Optymalizacja_portfela\\julia_msp\\usa_bvar_temp.ipynb:1"
     ]
    }
   ],
   "source": [
    "MvNormal(m,p)"
   ]
  },
  {
   "cell_type": "code",
   "execution_count": 115,
   "metadata": {},
   "outputs": [
    {
     "data": {
      "text/plain": [
       "2×2 Matrix{Float64}:\n",
       "  79.0  39.5\n",
       " 100.0  50.0"
      ]
     },
     "metadata": {},
     "output_type": "display_data"
    }
   ],
   "source": [
    "X = [1 2; 3 4; 5 6]\n",
    "\n",
    "Z = [3 1.5; 7 3.5; 11 5.5]\n",
    "\n",
    "transpose(X) * Z\n"
   ]
  },
  {
   "cell_type": "code",
   "execution_count": 141,
   "metadata": {},
   "outputs": [
    {
     "data": {
      "text/plain": [
       "2×2 Matrix{Float64}:\n",
       " 1.0       0.5\n",
       " 0.333333  0.25"
      ]
     },
     "metadata": {},
     "output_type": "display_data"
    }
   ],
   "source": [
    "1 ./ X[1:2,:]"
   ]
  },
  {
   "cell_type": "code",
   "execution_count": 139,
   "metadata": {},
   "outputs": [
    {
     "data": {
      "text/plain": [
       "2×2 Matrix{Float64}:\n",
       " -2.0   1.0\n",
       "  1.5  -0.5"
      ]
     },
     "metadata": {},
     "output_type": "display_data"
    }
   ],
   "source": [
    "inv(X[1:2,:])"
   ]
  }
 ],
 "metadata": {
  "kernelspec": {
   "display_name": "Julia 1.10.2",
   "language": "julia",
   "name": "julia-1.10"
  },
  "language_info": {
   "file_extension": ".jl",
   "mimetype": "application/julia",
   "name": "julia",
   "version": "1.10.2"
  }
 },
 "nbformat": 4,
 "nbformat_minor": 2
}
