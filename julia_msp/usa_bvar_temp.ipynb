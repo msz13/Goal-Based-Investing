{
 "cells": [
  {
   "cell_type": "code",
   "execution_count": 2,
   "metadata": {},
   "outputs": [
    {
     "name": "stderr",
     "output_type": "stream",
     "text": [
      "\u001b[32m\u001b[1m     Cloning\u001b[22m\u001b[39m git-repo `https://github.com/lucabrugnolini/VectorAutoregressions.jl`\n",
      "\u001b[32m\u001b[1m    Updating\u001b[22m\u001b[39m git-repo `https://github.com/lucabrugnolini/VectorAutoregressions.jl`\n",
      "\u001b[32m\u001b[1m    Updating\u001b[22m\u001b[39m registry at `C:\\Users\\matsz\\.julia\\registries\\General.toml`\n",
      "\u001b[32m\u001b[1m   Resolving\u001b[22m\u001b[39m package versions...\n",
      "\u001b[32m\u001b[1m   Installed\u001b[22m\u001b[39m EllipsisNotation ─ v0.4.0\n",
      "\u001b[32m\u001b[1m   Installed\u001b[22m\u001b[39m GrowableArrays ─── v0.1.0\n",
      "\u001b[32m\u001b[1m    Updating\u001b[22m\u001b[39m `C:\\Users\\matsz\\.julia\\environments\\v1.10\\Project.toml`\n",
      "  \u001b[90m[dd6ac5f8] \u001b[39m\u001b[92m+ VectorAutoregressions v0.1.0 `https://github.com/lucabrugnolini/VectorAutoregressions.jl#master`\u001b[39m\n",
      "\u001b[32m\u001b[1m    Updating\u001b[22m\u001b[39m `C:\\Users\\matsz\\.julia\\environments\\v1.10\\Manifest.toml`\n",
      "\u001b[33m⌅\u001b[39m \u001b[90m[da5c29d0] \u001b[39m\u001b[92m+ EllipsisNotation v0.4.0\u001b[39m\n",
      "  \u001b[90m[7ebbc34c] \u001b[39m\u001b[92m+ GrowableArrays v0.1.0\u001b[39m\n",
      "  \u001b[90m[dd6ac5f8] \u001b[39m\u001b[92m+ VectorAutoregressions v0.1.0 `https://github.com/lucabrugnolini/VectorAutoregressions.jl#master`\u001b[39m\n",
      "\u001b[36m\u001b[1m        Info\u001b[22m\u001b[39m Packages marked with \u001b[33m⌅\u001b[39m have new versions available but compatibility constraints restrict them from upgrading. To see why use `status --outdated -m`\n",
      "\u001b[32m\u001b[1mPrecompiling\u001b[22m\u001b[39m project...\n",
      "\u001b[32m  ✓ \u001b[39m\u001b[90mEllipsisNotation\u001b[39m\n",
      "\u001b[32m  ✓ \u001b[39m\u001b[90mGrowableArrays\u001b[39m\n",
      "\u001b[32m  ✓ \u001b[39mVectorAutoregressions\n",
      "  3 dependencies successfully precompiled in 28 seconds. 531 already precompiled.\n"
     ]
    }
   ],
   "source": [
    "import Pkg\n",
    "Pkg.add(url=\"https://github.com/lucabrugnolini/VectorAutoregressions.jl\")"
   ]
  },
  {
   "cell_type": "code",
   "execution_count": 1,
   "metadata": {},
   "outputs": [
    {
     "data": {
      "text/plain": [
       "print_percentiles (generic function with 1 method)"
      ]
     },
     "metadata": {},
     "output_type": "display_data"
    }
   ],
   "source": [
    "using Turing, MCMCChains\n",
    "using XLSX\n",
    "using DataFrames, TimeSeries\n",
    "using StatsPlots\n",
    "using LinearAlgebra\n",
    "using VectorAutoregressions\n",
    "using CSV\n",
    "using Test\n",
    "include(\"utils.jl\")"
   ]
  },
  {
   "cell_type": "code",
   "execution_count": 2,
   "metadata": {},
   "outputs": [
    {
     "data": {
      "text/plain": [
       "209×3 TimeArray{Float64, 2, Date, Matrix{Float64}} 1972-01-01 to 2024-01-01\n",
       "┌────────────┬────────────┬──────────────┬─────────────┐\n",
       "│\u001b[1m            \u001b[0m│\u001b[1m short_us   \u001b[0m│\u001b[1m real_us      \u001b[0m│\u001b[1m term_us     \u001b[0m│\n",
       "├────────────┼────────────┼──────────────┼─────────────┤\n",
       "│ 1972-01-01 │     0.0388 │    0.0023571 │   0.0215333 │\n",
       "│ 1972-04-01 │     0.0455 │   0.00326571 │   0.0159333 │\n",
       "│ 1972-07-01 │  0.0493333 │   0.00268831 │   0.0135667 │\n",
       "│ 1972-10-01 │      0.053 │   0.00368448 │   0.0107333 │\n",
       "│ 1973-01-01 │      0.064 │   0.00337313 │  0.00203333 │\n",
       "│ 1973-04-01 │  0.0767333 │  -0.00326431 │ -0.00866667 │\n",
       "│ 1973-07-01 │   0.103533 │   0.00377342 │  -0.0314667 │\n",
       "│ 1973-10-01 │  0.0923667 │   5.89786e-5 │  -0.0248333 │\n",
       "│     ⋮      │     ⋮      │      ⋮       │      ⋮      │\n",
       "│ 2022-07-01 │  0.0282333 │  -0.00602734 │  0.00283333 │\n",
       "│ 2022-10-01 │  0.0427333 │   0.00696215 │ -0.00443333 │\n",
       "│ 2023-01-01 │  0.0475333 │   0.00141827 │  -0.0110667 │\n",
       "│ 2023-04-01 │  0.0513333 │  0.000898898 │     -0.0154 │\n",
       "│ 2023-07-01 │  0.0542667 │   0.00484838 │  -0.0127667 │\n",
       "│ 2023-10-01 │  0.0539667 │    0.0123569 │ -0.00956667 │\n",
       "│ 2024-01-01 │  0.0525667 │   0.00268427 │  -0.0109667 │\n",
       "└────────────┴────────────┴──────────────┴─────────────┘\n",
       "\u001b[36m                                        194 rows omitted\u001b[0m"
      ]
     },
     "metadata": {},
     "output_type": "display_data"
    }
   ],
   "source": [
    "columns = [:Date, :short_us, :real_us, :term_us]\n",
    "data_df = DataFrame(XLSX.readtable(\"assets_data_03.24.xlsx\", \"Macro_Data\"; infer_eltypes=true))[2:end, columns]\n",
    "dropmissing!(data_df, disallowmissing=true)\n",
    "macro_data = TimeArray(data_df; timestamp = :Date)"
   ]
  },
  {
   "cell_type": "code",
   "execution_count": 3,
   "metadata": {},
   "outputs": [
    {
     "data": {
      "text/plain": [
       "205×1 TimeArray{Float64, 1, Date, Vector{Float64}} 1973-04-01 to 2024-04-01\n",
       "┌────────────┬────────────┐\n",
       "│\u001b[1m            \u001b[0m│\u001b[1m USA_Net    \u001b[0m│\n",
       "├────────────┼────────────┤\n",
       "│ 1973-04-01 │ -0.0833335 │\n",
       "│ 1973-07-01 │ -0.0532413 │\n",
       "│ 1973-10-01 │  0.0402782 │\n",
       "│ 1974-01-01 │ -0.0900348 │\n",
       "│ 1974-04-01 │ -0.0428685 │\n",
       "│ 1974-07-01 │ -0.0874197 │\n",
       "│ 1974-10-01 │  -0.301121 │\n",
       "│ 1975-01-01 │  0.0939096 │\n",
       "│     ⋮      │     ⋮      │\n",
       "│ 2022-10-01 │ -0.0493364 │\n",
       "│ 2023-01-01 │  0.0674734 │\n",
       "│ 2023-04-01 │  0.0731963 │\n",
       "│ 2023-07-01 │  0.0824719 │\n",
       "│ 2023-10-01 │ -0.0322941 │\n",
       "│ 2024-01-01 │   0.111622 │\n",
       "│ 2024-04-01 │  0.0979943 │\n",
       "└────────────┴────────────┘\n",
       "\u001b[36m           190 rows omitted\u001b[0m"
      ]
     },
     "metadata": {},
     "output_type": "display_data"
    }
   ],
   "source": [
    "data_df = DataFrame(XLSX.readtable(\"assets_data_03.24.xlsx\", \"Indexes\"; infer_eltypes=true))[1:end, [:Date, :USA_Net]]\n",
    "dropmissing!(data_df, disallowmissing=true)\n",
    "data = TimeArray(data_df; timestamp = :Date)\n",
    "data = collapse(data, Dates.quarter, last)\n",
    "\n",
    "dates = timestamp(data) .+ Day(1)\n",
    "\n",
    "data = TimeArray(data; timestamp = dates)\n",
    "\n",
    "equity = percentchange(data, :log)"
   ]
  },
  {
   "cell_type": "code",
   "execution_count": 4,
   "metadata": {},
   "outputs": [
    {
     "data": {
      "text/plain": [
       "1×1 TimeArray{Float64, 1, Date, Vector{Float64}} 2024-04-01 to 2024-04-01\n",
       "┌────────────┬───────────┐\n",
       "│\u001b[1m            \u001b[0m│\u001b[1m USA_Net   \u001b[0m│\n",
       "├────────────┼───────────┤\n",
       "│ 2024-04-01 │ 0.0917981 │\n",
       "└────────────┴───────────┘"
      ]
     },
     "metadata": {},
     "output_type": "display_data"
    }
   ],
   "source": [
    "mean(equity) .* 4"
   ]
  },
  {
   "cell_type": "code",
   "execution_count": 5,
   "metadata": {},
   "outputs": [
    {
     "data": {
      "text/plain": [
       "204×1 TimeArray{Float64, 1, Date, Vector{Float64}} 1973-04-01 to 2024-01-01\n",
       "┌────────────┬──────────────────┐\n",
       "│\u001b[1m            \u001b[0m│\u001b[1m USA_Net_short_us \u001b[0m│\n",
       "├────────────┼──────────────────┤\n",
       "│ 1973-04-01 │        -0.102517 │\n",
       "│ 1973-07-01 │       -0.0791246 │\n",
       "│ 1973-10-01 │        0.0171865 │\n",
       "│ 1974-01-01 │        -0.111635 │\n",
       "│ 1974-04-01 │       -0.0702268 │\n",
       "│ 1974-07-01 │        -0.117486 │\n",
       "│ 1974-10-01 │        -0.324538 │\n",
       "│ 1975-01-01 │        0.0771846 │\n",
       "│     ⋮      │        ⋮         │\n",
       "│ 2022-07-01 │         -0.19188 │\n",
       "│ 2022-10-01 │       -0.0600197 │\n",
       "│ 2023-01-01 │          0.05559 │\n",
       "│ 2023-04-01 │         0.060363 │\n",
       "│ 2023-07-01 │        0.0689052 │\n",
       "│ 2023-10-01 │       -0.0457858 │\n",
       "│ 2024-01-01 │        0.0984798 │\n",
       "└────────────┴──────────────────┘\n",
       "\u001b[36m                 189 rows omitted\u001b[0m"
      ]
     },
     "metadata": {},
     "output_type": "display_data"
    }
   ],
   "source": [
    "e_premium = equity .- macro_data[:short_us] ./ 4"
   ]
  },
  {
   "cell_type": "code",
   "execution_count": 6,
   "metadata": {},
   "outputs": [
    {
     "data": {
      "text/plain": [
       "1×1 TimeArray{Float64, 1, Date, Vector{Float64}} 2024-01-01 to 2024-01-01\n",
       "┌────────────┬──────────────────┐\n",
       "│\u001b[1m            \u001b[0m│\u001b[1m USA_Net_short_us \u001b[0m│\n",
       "├────────────┼──────────────────┤\n",
       "│ 2024-01-01 │        0.0403383 │\n",
       "└────────────┴──────────────────┘"
      ]
     },
     "metadata": {},
     "output_type": "display_data"
    }
   ],
   "source": [
    "mean(e_premium) .* 4"
   ]
  },
  {
   "cell_type": "code",
   "execution_count": 7,
   "metadata": {},
   "outputs": [
    {
     "data": {
      "text/plain": [
       "204×4 TimeArray{Float64, 2, Date, Matrix{Float64}} 1973-04-01 to 2024-01-01\n",
       "┌────────────┬────────────┬──────────────┬─────────────┬──────────────────┐\n",
       "│\u001b[1m            \u001b[0m│\u001b[1m short_us   \u001b[0m│\u001b[1m real_us      \u001b[0m│\u001b[1m term_us     \u001b[0m│\u001b[1m USA_Net_short_us \u001b[0m│\n",
       "├────────────┼────────────┼──────────────┼─────────────┼──────────────────┤\n",
       "│ 1973-04-01 │  0.0767333 │  -0.00326431 │ -0.00866667 │        -0.102517 │\n",
       "│ 1973-07-01 │   0.103533 │   0.00377342 │  -0.0314667 │       -0.0791246 │\n",
       "│ 1973-10-01 │  0.0923667 │   5.89786e-5 │  -0.0248333 │        0.0171865 │\n",
       "│ 1974-01-01 │     0.0864 │  -0.00655872 │  -0.0158667 │        -0.111635 │\n",
       "│ 1974-04-01 │   0.109433 │ -0.000866128 │      -0.034 │       -0.0702268 │\n",
       "│ 1974-07-01 │   0.120267 │ -0.000148683 │  -0.0406333 │        -0.117486 │\n",
       "│ 1974-10-01 │  0.0936667 │  -0.00641213 │  -0.0169667 │        -0.324538 │\n",
       "│ 1975-01-01 │     0.0669 │  -0.00137404 │      0.0085 │        0.0771846 │\n",
       "│     ⋮      │     ⋮      │      ⋮       │      ⋮      │        ⋮         │\n",
       "│ 2022-07-01 │  0.0282333 │  -0.00602734 │  0.00283333 │         -0.19188 │\n",
       "│ 2022-10-01 │  0.0427333 │   0.00696215 │ -0.00443333 │       -0.0600197 │\n",
       "│ 2023-01-01 │  0.0475333 │   0.00141827 │  -0.0110667 │          0.05559 │\n",
       "│ 2023-04-01 │  0.0513333 │  0.000898898 │     -0.0154 │         0.060363 │\n",
       "│ 2023-07-01 │  0.0542667 │   0.00484838 │  -0.0127667 │        0.0689052 │\n",
       "│ 2023-10-01 │  0.0539667 │    0.0123569 │ -0.00956667 │       -0.0457858 │\n",
       "│ 2024-01-01 │  0.0525667 │   0.00268427 │  -0.0109667 │        0.0984798 │\n",
       "└────────────┴────────────┴──────────────┴─────────────┴──────────────────┘\n",
       "\u001b[36m                                                           189 rows omitted\u001b[0m"
      ]
     },
     "metadata": {},
     "output_type": "display_data"
    }
   ],
   "source": [
    "returns = merge(macro_data, e_premium)"
   ]
  },
  {
   "cell_type": "code",
   "execution_count": 8,
   "metadata": {},
   "outputs": [
    {
     "data": {
      "text/html": [
       "<table>\n",
       "  <thead>\n",
       "    <tr class = \"header headerLastRow\">\n",
       "      <th class = \"rowLabel\" style = \"font-weight: bold; text-align: right;\"></th>\n",
       "      <th style = \"text-align: right;\">std</th>\n",
       "      <th style = \"text-align: right;\">max</th>\n",
       "      <th style = \"text-align: right;\">mean</th>\n",
       "      <th style = \"text-align: right;\">p75th</th>\n",
       "      <th style = \"text-align: right;\">min</th>\n",
       "      <th style = \"text-align: right;\">skewness</th>\n",
       "      <th style = \"text-align: right;\">p25th</th>\n",
       "      <th style = \"text-align: right;\">autocor</th>\n",
       "      <th style = \"text-align: right;\">kurtosis</th>\n",
       "      <th style = \"text-align: right;\">sr</th>\n",
       "      <th style = \"text-align: right;\">median</th>\n",
       "    </tr>\n",
       "  </thead>\n",
       "  <tbody>\n",
       "    <tr>\n",
       "      <td class = \"rowLabel\" style = \"font-weight: bold; text-align: right;\">short_us</td>\n",
       "      <td style = \"text-align: right;\">0.0388218</td>\n",
       "      <td style = \"text-align: right;\">0.1752</td>\n",
       "      <td style = \"text-align: right;\">0.0499883</td>\n",
       "      <td style = \"text-align: right;\">0.0701083</td>\n",
       "      <td style = \"text-align: right;\">0.001</td>\n",
       "      <td style = \"text-align: right;\">0.732581</td>\n",
       "      <td style = \"text-align: right;\">0.0145833</td>\n",
       "      <td style = \"text-align: right;\">0.970067</td>\n",
       "      <td style = \"text-align: right;\">0.306504</td>\n",
       "      <td style = \"text-align: right;\">1.28764</td>\n",
       "      <td style = \"text-align: right;\">0.0520833</td>\n",
       "    </tr>\n",
       "    <tr>\n",
       "      <td class = \"rowLabel\" style = \"font-weight: bold; text-align: right;\">real_us</td>\n",
       "      <td style = \"text-align: right;\">0.00869245</td>\n",
       "      <td style = \"text-align: right;\">0.0357101</td>\n",
       "      <td style = \"text-align: right;\">0.00267766</td>\n",
       "      <td style = \"text-align: right;\">0.00830319</td>\n",
       "      <td style = \"text-align: right;\">-0.0258859</td>\n",
       "      <td style = \"text-align: right;\">0.0123656</td>\n",
       "      <td style = \"text-align: right;\">-0.00245872</td>\n",
       "      <td style = \"text-align: right;\">0.642757</td>\n",
       "      <td style = \"text-align: right;\">1.23567</td>\n",
       "      <td style = \"text-align: right;\">0.308044</td>\n",
       "      <td style = \"text-align: right;\">0.00268779</td>\n",
       "    </tr>\n",
       "    <tr>\n",
       "      <td class = \"rowLabel\" style = \"font-weight: bold; text-align: right;\">term_us</td>\n",
       "      <td style = \"text-align: right;\">0.0156434</td>\n",
       "      <td style = \"text-align: right;\">0.0351</td>\n",
       "      <td style = \"text-align: right;\">0.00984224</td>\n",
       "      <td style = \"text-align: right;\">0.021925</td>\n",
       "      <td style = \"text-align: right;\">-0.0406333</td>\n",
       "      <td style = \"text-align: right;\">-0.802433</td>\n",
       "      <td style = \"text-align: right;\">0.000825</td>\n",
       "      <td style = \"text-align: right;\">0.882008</td>\n",
       "      <td style = \"text-align: right;\">0.499251</td>\n",
       "      <td style = \"text-align: right;\">0.629163</td>\n",
       "      <td style = \"text-align: right;\">0.0119833</td>\n",
       "    </tr>\n",
       "    <tr>\n",
       "      <td class = \"rowLabel\" style = \"font-weight: bold; text-align: right;\">USA_Net_short_us</td>\n",
       "      <td style = \"text-align: right;\">0.0856362</td>\n",
       "      <td style = \"text-align: right;\">0.195054</td>\n",
       "      <td style = \"text-align: right;\">0.0100846</td>\n",
       "      <td style = \"text-align: right;\">0.0620761</td>\n",
       "      <td style = \"text-align: right;\">-0.324538</td>\n",
       "      <td style = \"text-align: right;\">-0.868604</td>\n",
       "      <td style = \"text-align: right;\">-0.0312701</td>\n",
       "      <td style = \"text-align: right;\">0.0713791</td>\n",
       "      <td style = \"text-align: right;\">1.39014</td>\n",
       "      <td style = \"text-align: right;\">0.117761</td>\n",
       "      <td style = \"text-align: right;\">0.0231837</td>\n",
       "    </tr>\n",
       "  </tbody>\n",
       "</table>\n"
      ]
     },
     "metadata": {},
     "output_type": "display_data"
    }
   ],
   "source": [
    "returns_summarystats(returns,1)"
   ]
  },
  {
   "cell_type": "code",
   "execution_count": 9,
   "metadata": {},
   "outputs": [
    {
     "data": {
      "text/plain": [
       "\"usa.csv\""
      ]
     },
     "metadata": {},
     "output_type": "display_data"
    }
   ],
   "source": [
    "CSV.write(\"usa.csv\",returns)"
   ]
  },
  {
   "cell_type": "code",
   "execution_count": 91,
   "metadata": {},
   "outputs": [
    {
     "data": {
      "text/plain": [
       "VAR([0.0767333333333333 -0.0032643068090423034 -0.0086666666666666 -0.10251684479395795; 0.10353333333333299 0.003773416161491721 -0.031466666666666296 -0.07912463252540157; … ; 0.0539666666666666 0.012356876445824887 -0.009566666666666598 -0.045785771432493155; 0.052566666666666595 0.002684271890795644 -0.010966666666666597 0.09847984128758931], [0.10353333333333299 0.0923666666666666 … 0.0539666666666666 0.052566666666666595; 0.003773416161491721 5.897855263142099e-5 … 0.012356876445824887 0.002684271890795644; -0.031466666666666296 -0.02483333333333329 … -0.009566666666666598 -0.010966666666666597; -0.07912463252540157 0.017186488034891395 … -0.045785771432493155 0.09847984128758931], [1.0 1.0 … 1.0 1.0; 0.0767333333333333 0.10353333333333299 … 0.054266666666666595 0.0539666666666666; … ; -0.0086666666666666 -0.031466666666666296 … -0.012766666666666593 -0.009566666666666598; -0.10251684479395795 -0.07912463252540157 … 0.06890518427257061 -0.045785771432493155], [-0.001065667119790542 1.0168144325436272 … 0.05719808653521602 0.015635499810803; -0.004057743736211977 0.0925696718111192 … 0.09079929865343511 0.003038519212959826; 0.0017394653581008336 -0.017719876888045664 … 0.8897713709102486 -0.011675154464405296; 0.015426325364574268 -0.2837582114110242 … 0.7029648599575702 0.0344376239272063], [0.02792628223290161 -0.00794046617264857 … 0.0006167164969819658 0.002851997866208031; 0.003296832412174473 -0.004069507927365194 … 0.01015702672277986 -0.00281211783934232; -0.024913069718692695 0.0018519073670573427 … 0.0011971719147329668 -0.00535800467554214; -0.06062989674960052 0.053065137466688596 … -0.042961537607362495 0.09711222537506561], [8.264649933771699e-5 6.691323152513859e-6 -5.4295983319791906e-5 6.744602859347349e-5; 6.691323152513859e-6 3.9072829024372955e-5 -1.1375365565515058e-5 -1.2060632567050869e-5; -5.4295983319791906e-5 -1.1375365565515058e-5 5.04309026523261e-5 -1.4068848624011157e-5; 6.744602859347349e-5 -1.2060632567050869e-5 -1.4068848624011157e-5 0.007101136519287692], 1, VectorAutoregressions.Intercept())"
      ]
     },
     "metadata": {},
     "output_type": "display_data"
    }
   ],
   "source": [
    "model = VAR(values(returns), 1, true)"
   ]
  },
  {
   "cell_type": "code",
   "execution_count": 12,
   "metadata": {},
   "outputs": [
    {
     "data": {
      "text/plain": [
       "4×5 Matrix{Float64}:\n",
       " -0.001066   1.01681   -0.229077  0.057198   0.015635\n",
       " -0.004058   0.09257    0.450456  0.090799   0.003039\n",
       "  0.001739  -0.01772    0.128329  0.889771  -0.011675\n",
       "  0.015426  -0.283758   0.77338   0.702965   0.034438"
      ]
     },
     "metadata": {},
     "output_type": "display_data"
    }
   ],
   "source": [
    "round.(model.β, digits=6)"
   ]
  },
  {
   "cell_type": "code",
   "execution_count": 13,
   "metadata": {},
   "outputs": [
    {
     "data": {
      "text/plain": [
       "4×4 Matrix{Float64}:\n",
       "  0.0001   0.0  -0.0001   0.0001\n",
       "  0.0      0.0  -0.0     -0.0\n",
       " -0.0001  -0.0   0.0001  -0.0\n",
       "  0.0001  -0.0  -0.0      0.0071"
      ]
     },
     "metadata": {},
     "output_type": "display_data"
    }
   ],
   "source": [
    "round.(model.Σ, digits=4)"
   ]
  },
  {
   "cell_type": "code",
   "execution_count": 14,
   "metadata": {},
   "outputs": [
    {
     "data": {
      "text/plain": [
       "2×2 Matrix{Int64}:\n",
       " 1  2\n",
       " 3  4"
      ]
     },
     "metadata": {},
     "output_type": "display_data"
    }
   ],
   "source": [
    "A = [1 2; 3 4]\n"
   ]
  },
  {
   "cell_type": "code",
   "execution_count": 15,
   "metadata": {},
   "outputs": [
    {
     "data": {
      "text/plain": [
       "2×2 Matrix{Int64}:\n",
       " 1  2\n",
       " 3  4"
      ]
     },
     "metadata": {},
     "output_type": "display_data"
    }
   ],
   "source": [
    "B = [1 2; 3 4]"
   ]
  },
  {
   "cell_type": "code",
   "execution_count": 16,
   "metadata": {},
   "outputs": [
    {
     "data": {
      "text/plain": [
       "2×2 Matrix{Int64}:\n",
       "  7  10\n",
       " 15  22"
      ]
     },
     "metadata": {},
     "output_type": "display_data"
    }
   ],
   "source": [
    "A * B"
   ]
  },
  {
   "cell_type": "code",
   "execution_count": 17,
   "metadata": {},
   "outputs": [
    {
     "data": {
      "text/plain": [
       "30"
      ]
     },
     "metadata": {},
     "output_type": "display_data"
    }
   ],
   "source": [
    "dot(A,B)"
   ]
  },
  {
   "cell_type": "code",
   "execution_count": 18,
   "metadata": {},
   "outputs": [
    {
     "data": {
      "text/plain": [
       "4×4 Matrix{Int64}:\n",
       " 1   2   2   4\n",
       " 3   4   6   8\n",
       " 3   6   4   8\n",
       " 9  12  12  16"
      ]
     },
     "metadata": {},
     "output_type": "display_data"
    }
   ],
   "source": [
    "kron(A,B)"
   ]
  },
  {
   "cell_type": "markdown",
   "metadata": {},
   "source": [
    "- [ ] Normal Wishart Prior gibs sampler\n",
    "- [ ] draw posterior parameters\n",
    "- [ ] describe posterior parameters\n",
    "- [ ] simulate\n",
    "- [ ] plot simulation\n",
    "- [ ] estimate momoments estimation\n",
    "- [ ] calculate waic i inne miary"
   ]
  },
  {
   "cell_type": "code",
   "execution_count": 92,
   "metadata": {},
   "outputs": [
    {
     "data": {
      "text/plain": [
       "51×4 Matrix{Float64}:\n",
       " 0.00286667  -0.00336044    0.0214      -3.20364e-5\n",
       " 0.00423333   0.00257951    0.0162333   -0.153821\n",
       " 0.0033      -0.00710024    0.0170667    0.108295\n",
       " 0.003       -0.00749158    0.0152333    0.118372\n",
       " 0.00266667  -0.00152444    0.0137667   -0.0329988\n",
       " 0.00233333   0.000222809   0.0147333    0.0596389\n",
       " 0.0022      -0.00533607    0.0173      -0.00491949\n",
       " 0.00196667  -0.00490369    0.018        0.099248\n",
       " 0.00123333  -0.00346436    0.0258667    0.0251424\n",
       " 0.00126667   0.00311116    0.0262       0.0540249\n",
       " ⋮                                      \n",
       " 0.00443333  -0.0214703     0.0149667    0.0939515\n",
       " 0.0137      -0.0258859     0.0156      -0.05795\n",
       " 0.0282333   -0.00602734    0.00283333  -0.19188\n",
       " 0.0427333    0.00696215   -0.00443333  -0.0600197\n",
       " 0.0475333    0.00141827   -0.0110667    0.05559\n",
       " 0.0513333    0.000898898  -0.0154       0.060363\n",
       " 0.0542667    0.00484838   -0.0127667    0.0689052\n",
       " 0.0539667    0.0123569    -0.00956667  -0.0457858\n",
       " 0.0525667    0.00268427   -0.0109667    0.0984798"
      ]
     },
     "metadata": {},
     "output_type": "display_data"
    }
   ],
   "source": [
    "test_data = values(returns)[154:end,:]"
   ]
  },
  {
   "cell_type": "code",
   "execution_count": 270,
   "metadata": {},
   "outputs": [
    {
     "data": {
      "text/plain": [
       "4×5 Matrix{Float64}:\n",
       " -0.0048   1.2238  -0.2986   0.2416  -0.0187\n",
       " -0.0095   0.3539   0.3877   0.308    0.0039\n",
       "  0.0054  -0.2329   0.1603   0.7074   0.0179\n",
       "  0.1055  -2.8488   2.556   -3.155   -0.1553"
      ]
     },
     "metadata": {},
     "output_type": "display_data"
    }
   ],
   "source": [
    "model = VAR(test_data, 1, true)\n",
    "C_OLS = round.(model.β, digits=4)"
   ]
  },
  {
   "cell_type": "markdown",
   "metadata": {},
   "source": [
    "## Normal Wishart Prior gibs sampler\n",
    "- [x] draw covariance matrix\n",
    "- [] draw coeff - zrobić, aby działało\n",
    "- refactor, to ols model, i NormalWishartBVAR\n",
    "- zrobić testy"
   ]
  },
  {
   "cell_type": "code",
   "execution_count": 272,
   "metadata": {},
   "outputs": [
    {
     "name": "stderr",
     "output_type": "stream",
     "text": [
      "WARNING: replacing module FinancialBVAR.\n"
     ]
    },
    {
     "data": {
      "text/plain": [
       "5×4 Matrix{Float64}:\n",
       " -0.00477869  -0.0094609    0.00535864   0.10549\n",
       "  1.22379      0.353882    -0.232897    -2.84877\n",
       " -0.29864      0.387733     0.160339     2.556\n",
       "  0.241563     0.307988     0.707393    -3.15503\n",
       " -0.0186977    0.00388941   0.017932    -0.155301"
      ]
     },
     "metadata": {},
     "output_type": "display_data"
    }
   ],
   "source": [
    "include(\"financial_bvar_temp.jl\")\n",
    "\n",
    "model = FinancialBVAR.NormalWishartBVAR(test_data)\n",
    "\n",
    "round.(transpose(model.C_OLS), digits=4)\n",
    "\n",
    "model.C_OLS"
   ]
  },
  {
   "cell_type": "code",
   "execution_count": 273,
   "metadata": {},
   "outputs": [
    {
     "data": {
      "text/plain": [
       "4×4 Matrix{Float64}:\n",
       "  9.45585e-6  -1.32969e-6   -4.75393e-6   9.34711e-6\n",
       " -1.32969e-6   3.98504e-5   -4.22779e-6  -0.000194672\n",
       " -4.75393e-6  -4.22779e-6    1.1383e-5    1.13449e-5\n",
       "  9.34711e-6  -0.000194672   1.13449e-5   0.00687877"
      ]
     },
     "metadata": {},
     "output_type": "display_data"
    }
   ],
   "source": [
    "FinancialBVAR.sample_posterior!(model, 10000,200)\n",
    "model.Σ[1,:,:]"
   ]
  },
  {
   "cell_type": "code",
   "execution_count": 251,
   "metadata": {},
   "outputs": [
    {
     "data": {
      "text/plain": [
       "10000×20 Matrix{Float64}:\n",
       " -0.00153302  1.08039  -0.284477  …   3.52668   -4.69366   -0.0998646\n",
       " -0.00694381  1.29037  -0.245955      2.83605   -4.93536   -0.204073\n",
       " -0.00578276  1.28216  -0.236778     -0.950406  -4.29302   -0.371237\n",
       " -0.0037182   1.18051  -0.313215      5.27755   -5.52167    0.0556106\n",
       " -0.00347992  1.21986  -0.33489       2.2677    -5.60063   -0.23989\n",
       " -0.00689769  1.25632  -0.346281  …   2.75541   -1.69285   -0.190601\n",
       " -0.00293277  1.15456  -0.249611     -0.677433  -3.22159    0.0346669\n",
       " -0.0045738   1.20488  -0.247066      2.33441   -1.23931   -0.00406572\n",
       " -0.0067167   1.26475  -0.336699      3.67175   -1.99254   -0.0206607\n",
       " -0.00419137  1.18793  -0.288583     -0.183231  -5.77019   -0.335819\n",
       "  ⋮                               ⋱                        \n",
       " -0.00413037  1.18442  -0.172268      1.76381   -4.17437   -0.00533764\n",
       " -0.00404488  1.19809  -0.331694      0.784626  -6.99226   -0.251487\n",
       " -0.00507155  1.25046  -0.304968      3.30349   -0.529676  -0.0445924\n",
       " -0.00462716  1.21831  -0.340395      2.44222   -5.10555   -0.346173\n",
       " -0.00613706  1.30512  -0.334484  …   3.01224    0.791347   0.0254735\n",
       " -0.00478904  1.2533   -0.359644      5.38947   -2.41101   -0.0087977\n",
       " -0.0070439   1.30193  -0.290757      1.02494   -1.59466   -0.248203\n",
       " -0.00647962  1.32287  -0.319458      3.30347   -2.74695   -0.283256\n",
       " -0.00574965  1.23394  -0.486069     -0.305008  -5.02813   -0.563137"
      ]
     },
     "metadata": {},
     "output_type": "display_data"
    }
   ],
   "source": [
    "model.Β"
   ]
  },
  {
   "cell_type": "code",
   "execution_count": 274,
   "metadata": {},
   "outputs": [
    {
     "name": "stdout",
     "output_type": "stream",
     "text": [
      "Summary Stats:\n",
      "Length:         10000\n",
      "Missing Count:  0\n",
      "Mean:           -0.156145\n",
      "Std. Deviation: 0.152154\n",
      "Minimum:        -0.758955\n",
      "1st Quartile:   -0.257730\n",
      "Median:         -0.155969\n",
      "3rd Quartile:   -0.055819\n",
      "Maximum:        0.504281\n",
      "Type:           Float64\n"
     ]
    }
   ],
   "source": [
    "describe(model.Β[:,20])"
   ]
  },
  {
   "cell_type": "code",
   "execution_count": 258,
   "metadata": {},
   "outputs": [
    {
     "data": {
      "text/plain": [
       "1×20 Matrix{Float64}:\n",
       " -0.00475775  1.22277  -0.297738  0.240654  …  2.55522  -3.16203  -0.156027"
      ]
     },
     "metadata": {},
     "output_type": "display_data"
    }
   ],
   "source": [
    "mean(model.Β,dims=1)"
   ]
  },
  {
   "cell_type": "code",
   "execution_count": 267,
   "metadata": {},
   "outputs": [
    {
     "data": {
      "text/plain": [
       "4×3 Matrix{Int64}:\n",
       "  1   2   3\n",
       "  4   5   6\n",
       "  7   8   9\n",
       " 10  11  12"
      ]
     },
     "metadata": {},
     "output_type": "display_data"
    }
   ],
   "source": [
    "m = [1 2 3; 4 5 6; 7 8 9; 10 11 12]\n"
   ]
  },
  {
   "cell_type": "code",
   "execution_count": 269,
   "metadata": {},
   "outputs": [
    {
     "data": {
      "text/plain": [
       "12-element Vector{Int64}:\n",
       "  1\n",
       "  4\n",
       "  7\n",
       " 10\n",
       "  2\n",
       "  5\n",
       "  8\n",
       " 11\n",
       "  3\n",
       "  6\n",
       "  9\n",
       " 12"
      ]
     },
     "metadata": {},
     "output_type": "display_data"
    }
   ],
   "source": [
    "vec(m)"
   ]
  }
 ],
 "metadata": {
  "kernelspec": {
   "display_name": "Julia 1.10.2",
   "language": "julia",
   "name": "julia-1.10"
  },
  "language_info": {
   "file_extension": ".jl",
   "mimetype": "application/julia",
   "name": "julia",
   "version": "1.10.2"
  }
 },
 "nbformat": 4,
 "nbformat_minor": 2
}
