{
 "cells": [
  {
   "cell_type": "code",
   "execution_count": 166,
   "metadata": {},
   "outputs": [
    {
     "name": "stderr",
     "output_type": "stream",
     "text": [
      "\u001b[32m\u001b[1m   Resolving\u001b[22m\u001b[39m package versions...\n",
      "\u001b[32m\u001b[1m  No Changes\u001b[22m\u001b[39m to `C:\\Users\\matsz\\.julia\\environments\\v1.10\\Project.toml`\n",
      "\u001b[32m\u001b[1m  No Changes\u001b[22m\u001b[39m to `C:\\Users\\matsz\\.julia\\environments\\v1.10\\Manifest.toml`\n",
      "\u001b[32m\u001b[1m   Resolving\u001b[22m\u001b[39m package versions...\n",
      "\u001b[32m\u001b[1m  No Changes\u001b[22m\u001b[39m to `C:\\Users\\matsz\\.julia\\environments\\v1.10\\Project.toml`\n",
      "\u001b[32m\u001b[1m  No Changes\u001b[22m\u001b[39m to `C:\\Users\\matsz\\.julia\\environments\\v1.10\\Manifest.toml`\n",
      "\u001b[32m\u001b[1m   Resolving\u001b[22m\u001b[39m package versions...\n",
      "\u001b[32m\u001b[1m  No Changes\u001b[22m\u001b[39m to `C:\\Users\\matsz\\.julia\\environments\\v1.10\\Project.toml`\n",
      "\u001b[32m\u001b[1m  No Changes\u001b[22m\u001b[39m to `C:\\Users\\matsz\\.julia\\environments\\v1.10\\Manifest.toml`\n",
      "\u001b[32m\u001b[1m   Resolving\u001b[22m\u001b[39m package versions...\n",
      "\u001b[32m\u001b[1m  No Changes\u001b[22m\u001b[39m to `C:\\Users\\matsz\\.julia\\environments\\v1.10\\Project.toml`\n",
      "\u001b[32m\u001b[1m  No Changes\u001b[22m\u001b[39m to `C:\\Users\\matsz\\.julia\\environments\\v1.10\\Manifest.toml`\n",
      "\u001b[32m\u001b[1m   Resolving\u001b[22m\u001b[39m package versions...\n",
      "\u001b[32m\u001b[1m   Installed\u001b[22m\u001b[39m StatsBase ─ v0.34.3\n",
      "\u001b[32m\u001b[1m    Updating\u001b[22m\u001b[39m `C:\\Users\\matsz\\.julia\\environments\\v1.10\\Project.toml`\n",
      "  \u001b[90m[2913bbd2] \u001b[39m\u001b[92m+ StatsBase v0.34.3\u001b[39m\n",
      "\u001b[32m\u001b[1m    Updating\u001b[22m\u001b[39m `C:\\Users\\matsz\\.julia\\environments\\v1.10\\Manifest.toml`\n",
      "  \u001b[90m[2913bbd2] \u001b[39m\u001b[93m↑ StatsBase v0.34.2 ⇒ v0.34.3\u001b[39m\n",
      "\u001b[32m\u001b[1mPrecompiling\u001b[22m\u001b[39m project...\n",
      "\u001b[33m  ✓ \u001b[39mStatsBase\n",
      "  1 dependency successfully precompiled in 7 seconds. 396 already precompiled.\n",
      "  \u001b[33m1\u001b[39m dependency precompiled but a different version is currently loaded. Restart julia to access the new version\n"
     ]
    }
   ],
   "source": [
    "import Pkg\n",
    "\n",
    "Pkg.add(\"HiddenMarkovModels\")\n",
    "Pkg.add(\"Distributions\")\n",
    "Pkg.add(\"StableRNGs\")\n",
    "Pkg.add(\"XLSX\")\n",
    "Pkg.add(\"StatsBase\")"
   ]
  },
  {
   "cell_type": "code",
   "execution_count": 1,
   "metadata": {},
   "outputs": [],
   "source": [
    "using HiddenMarkovModels, Distributions\n",
    "using LinearAlgebra\n",
    "using StableRNGs\n",
    "using XLSX\n",
    "using DataFrames\n",
    "using Dates\n",
    "using Distributions\n",
    "using Statistics\n",
    "using CSV\n",
    "using StatsBase"
   ]
  },
  {
   "cell_type": "code",
   "execution_count": 2,
   "metadata": {},
   "outputs": [],
   "source": [
    "rng = StableRNG(63);"
   ]
  },
  {
   "cell_type": "code",
   "execution_count": 3,
   "metadata": {},
   "outputs": [
    {
     "data": {
      "text/html": [
       "<div><div style = \"float: left;\"><span>435×2 DataFrame</span></div><div style = \"float: right;\"><span style = \"font-style: italic;\">410 rows omitted</span></div><div style = \"clear: both;\"></div></div><div class = \"data-frame\" style = \"overflow-x: scroll;\"><table class = \"data-frame\" style = \"margin-bottom: 6px;\"><thead><tr class = \"header\"><th class = \"rowNumber\" style = \"font-weight: bold; text-align: right;\">Row</th><th style = \"text-align: left;\">Date</th><th style = \"text-align: left;\">ACWI</th></tr><tr class = \"subheader headerLastRow\"><th class = \"rowNumber\" style = \"font-weight: bold; text-align: right;\"></th><th title = \"Date\" style = \"text-align: left;\">Date</th><th title = \"Float64\" style = \"text-align: left;\">Float64</th></tr></thead><tbody><tr><td class = \"rowNumber\" style = \"font-weight: bold; text-align: right;\">1</td><td style = \"text-align: left;\">1988-01-29</td><td style = \"text-align: right;\">0.0249309</td></tr><tr><td class = \"rowNumber\" style = \"font-weight: bold; text-align: right;\">2</td><td style = \"text-align: left;\">1988-02-29</td><td style = \"text-align: right;\">0.0576797</td></tr><tr><td class = \"rowNumber\" style = \"font-weight: bold; text-align: right;\">3</td><td style = \"text-align: left;\">1988-03-31</td><td style = \"text-align: right;\">0.0307011</td></tr><tr><td class = \"rowNumber\" style = \"font-weight: bold; text-align: right;\">4</td><td style = \"text-align: left;\">1988-04-29</td><td style = \"text-align: right;\">0.0125812</td></tr><tr><td class = \"rowNumber\" style = \"font-weight: bold; text-align: right;\">5</td><td style = \"text-align: left;\">1988-05-31</td><td style = \"text-align: right;\">-0.0199201</td></tr><tr><td class = \"rowNumber\" style = \"font-weight: bold; text-align: right;\">6</td><td style = \"text-align: left;\">1988-06-30</td><td style = \"text-align: right;\">-0.00119118</td></tr><tr><td class = \"rowNumber\" style = \"font-weight: bold; text-align: right;\">7</td><td style = \"text-align: left;\">1988-07-29</td><td style = \"text-align: right;\">0.0183463</td></tr><tr><td class = \"rowNumber\" style = \"font-weight: bold; text-align: right;\">8</td><td style = \"text-align: left;\">1988-08-31</td><td style = \"text-align: right;\">-0.0551142</td></tr><tr><td class = \"rowNumber\" style = \"font-weight: bold; text-align: right;\">9</td><td style = \"text-align: left;\">1988-09-30</td><td style = \"text-align: right;\">0.0428067</td></tr><tr><td class = \"rowNumber\" style = \"font-weight: bold; text-align: right;\">10</td><td style = \"text-align: left;\">1988-10-31</td><td style = \"text-align: right;\">0.0652627</td></tr><tr><td class = \"rowNumber\" style = \"font-weight: bold; text-align: right;\">11</td><td style = \"text-align: left;\">1988-11-30</td><td style = \"text-align: right;\">0.0333328</td></tr><tr><td class = \"rowNumber\" style = \"font-weight: bold; text-align: right;\">12</td><td style = \"text-align: left;\">1988-12-30</td><td style = \"text-align: right;\">0.00882291</td></tr><tr><td class = \"rowNumber\" style = \"font-weight: bold; text-align: right;\">13</td><td style = \"text-align: left;\">1989-01-31</td><td style = \"text-align: right;\">0.0358213</td></tr><tr><td style = \"text-align: right;\">&vellip;</td><td style = \"text-align: right;\">&vellip;</td><td style = \"text-align: right;\">&vellip;</td></tr><tr><td class = \"rowNumber\" style = \"font-weight: bold; text-align: right;\">424</td><td style = \"text-align: left;\">2023-04-28</td><td style = \"text-align: right;\">0.0143719</td></tr><tr><td class = \"rowNumber\" style = \"font-weight: bold; text-align: right;\">425</td><td style = \"text-align: left;\">2023-05-31</td><td style = \"text-align: right;\">-0.0107115</td></tr><tr><td class = \"rowNumber\" style = \"font-weight: bold; text-align: right;\">426</td><td style = \"text-align: left;\">2023-06-30</td><td style = \"text-align: right;\">0.0580616</td></tr><tr><td class = \"rowNumber\" style = \"font-weight: bold; text-align: right;\">427</td><td style = \"text-align: left;\">2023-07-31</td><td style = \"text-align: right;\">0.0366085</td></tr><tr><td class = \"rowNumber\" style = \"font-weight: bold; text-align: right;\">428</td><td style = \"text-align: left;\">2023-08-31</td><td style = \"text-align: right;\">-0.0279443</td></tr><tr><td class = \"rowNumber\" style = \"font-weight: bold; text-align: right;\">429</td><td style = \"text-align: left;\">2023-09-29</td><td style = \"text-align: right;\">-0.0413498</td></tr><tr><td class = \"rowNumber\" style = \"font-weight: bold; text-align: right;\">430</td><td style = \"text-align: left;\">2023-10-31</td><td style = \"text-align: right;\">-0.0300677</td></tr><tr><td class = \"rowNumber\" style = \"font-weight: bold; text-align: right;\">431</td><td style = \"text-align: left;\">2023-11-30</td><td style = \"text-align: right;\">0.0922975</td></tr><tr><td class = \"rowNumber\" style = \"font-weight: bold; text-align: right;\">432</td><td style = \"text-align: left;\">2023-12-29</td><td style = \"text-align: right;\">0.0480334</td></tr><tr><td class = \"rowNumber\" style = \"font-weight: bold; text-align: right;\">433</td><td style = \"text-align: left;\">2024-01-31</td><td style = \"text-align: right;\">0.00586168</td></tr><tr><td class = \"rowNumber\" style = \"font-weight: bold; text-align: right;\">434</td><td style = \"text-align: left;\">2024-02-29</td><td style = \"text-align: right;\">0.0429136</td></tr><tr><td class = \"rowNumber\" style = \"font-weight: bold; text-align: right;\">435</td><td style = \"text-align: left;\">2024-03-29</td><td style = \"text-align: right;\">0.0313969</td></tr></tbody></table></div>"
      ],
      "text/latex": [
       "\\begin{tabular}{r|cc}\n",
       "\t& Date & ACWI\\\\\n",
       "\t\\hline\n",
       "\t& Date & Float64\\\\\n",
       "\t\\hline\n",
       "\t1 & 1988-01-29 & 0.0249309 \\\\\n",
       "\t2 & 1988-02-29 & 0.0576797 \\\\\n",
       "\t3 & 1988-03-31 & 0.0307011 \\\\\n",
       "\t4 & 1988-04-29 & 0.0125812 \\\\\n",
       "\t5 & 1988-05-31 & -0.0199201 \\\\\n",
       "\t6 & 1988-06-30 & -0.00119118 \\\\\n",
       "\t7 & 1988-07-29 & 0.0183463 \\\\\n",
       "\t8 & 1988-08-31 & -0.0551142 \\\\\n",
       "\t9 & 1988-09-30 & 0.0428067 \\\\\n",
       "\t10 & 1988-10-31 & 0.0652627 \\\\\n",
       "\t11 & 1988-11-30 & 0.0333328 \\\\\n",
       "\t12 & 1988-12-30 & 0.00882291 \\\\\n",
       "\t13 & 1989-01-31 & 0.0358213 \\\\\n",
       "\t14 & 1989-02-28 & -0.00630656 \\\\\n",
       "\t15 & 1989-03-31 & -0.00590322 \\\\\n",
       "\t16 & 1989-04-28 & 0.0247701 \\\\\n",
       "\t17 & 1989-05-31 & -0.0239828 \\\\\n",
       "\t18 & 1989-06-30 & -0.0142808 \\\\\n",
       "\t19 & 1989-07-31 & 0.112616 \\\\\n",
       "\t20 & 1989-08-31 & -0.0239031 \\\\\n",
       "\t21 & 1989-09-29 & 0.0298788 \\\\\n",
       "\t22 & 1989-10-31 & -0.032565 \\\\\n",
       "\t23 & 1989-11-30 & 0.0389515 \\\\\n",
       "\t24 & 1989-12-29 & 0.0324697 \\\\\n",
       "\t$\\dots$ & $\\dots$ & $\\dots$ \\\\\n",
       "\\end{tabular}\n"
      ],
      "text/plain": [
       "\u001b[1m435×2 DataFrame\u001b[0m\n",
       "\u001b[1m Row \u001b[0m│\u001b[1m Date       \u001b[0m\u001b[1m ACWI        \u001b[0m\n",
       "     │\u001b[90m Date       \u001b[0m\u001b[90m Float64     \u001b[0m\n",
       "─────┼─────────────────────────\n",
       "   1 │ 1988-01-29   0.0249309\n",
       "   2 │ 1988-02-29   0.0576797\n",
       "   3 │ 1988-03-31   0.0307011\n",
       "   4 │ 1988-04-29   0.0125812\n",
       "   5 │ 1988-05-31  -0.0199201\n",
       "   6 │ 1988-06-30  -0.00119118\n",
       "   7 │ 1988-07-29   0.0183463\n",
       "   8 │ 1988-08-31  -0.0551142\n",
       "  ⋮  │     ⋮            ⋮\n",
       " 429 │ 2023-09-29  -0.0413498\n",
       " 430 │ 2023-10-31  -0.0300677\n",
       " 431 │ 2023-11-30   0.0922975\n",
       " 432 │ 2023-12-29   0.0480334\n",
       " 433 │ 2024-01-31   0.00586168\n",
       " 434 │ 2024-02-29   0.0429136\n",
       " 435 │ 2024-03-29   0.0313969\n",
       "\u001b[36m               420 rows omitted\u001b[0m"
      ]
     },
     "metadata": {},
     "output_type": "display_data"
    }
   ],
   "source": [
    "acwi = DataFrame(XLSX.readtable(\"../esg/acwi_usd_net_03.04.24.xlsx\",\"acwi_usd_net_full\", header=true, infer_eltypes=true))\n",
    "acwi.Date = Date.(acwi.Date, dateformat\"u d, Y\")\n",
    "acwi"
   ]
  },
  {
   "cell_type": "code",
   "execution_count": 5,
   "metadata": {},
   "outputs": [
    {
     "name": "stdout",
     "output_type": "stream",
     "text": [
      "Summary Stats:\n",
      "Length:         435\n",
      "Missing Count:  0\n",
      "Mean:           0.007221\n",
      "Std. Deviation: 0.043966\n",
      "Minimum:        -0.198150\n",
      "1st Quartile:   -0.017986\n",
      "Median:         0.012573\n",
      "3rd Quartile:   0.033632\n",
      "Maximum:        0.123263\n",
      "Type:           Float64\n"
     ]
    }
   ],
   "source": [
    "describe(acwi.ACWI)"
   ]
  },
  {
   "cell_type": "code",
   "execution_count": 11,
   "metadata": {},
   "outputs": [
    {
     "data": {
      "text/plain": [
       "Hidden Markov Model with:\n",
       " - initialization: [0.5, 0.5]\n",
       " - transition matrix: [0.6 0.4; 0.3 0.7]\n",
       " - observation distributions: [IsoNormal(\n",
       "dim: 2\n",
       "μ: [-0.4, -0.7]\n",
       "Σ: [1.0 0.0; 0.0 1.0]\n",
       ")\n",
       ", IsoNormal(\n",
       "dim: 2\n",
       "μ: [0.4, 0.7]\n",
       "Σ: [1.0 0.0; 0.0 1.0]\n",
       ")\n",
       "]"
      ]
     },
     "metadata": {},
     "output_type": "display_data"
    }
   ],
   "source": [
    "init_guess = [0.5, 0.5]\n",
    "trans_guess = [0.6 0.4; 0.3 0.7]\n",
    "dists_guess = [MvNormal([-0.4, -0.7], I), MvNormal([0.4, 0.7], I)]\n",
    "hmm_guess = HMM(init_guess, trans_guess, dists_guess); \n",
    "\n",
    "#= init_guess = [0.25, 0.25, 0.25, 0.25]\n",
    "trans_guess = [0.85 0.05 0.05 0.05; 0.85 0.05 0.05 0.05; 0.85 0.05 0.05 0.05; 0.85 0.05 0.05 0.05]\n",
    "#dists_guess = [MvNormal([-0.1, -0.7], I), MvNormal([0.4, 0.7], I)]\n",
    "dists_guess = [Normal(-0.07,0.15),Normal(0.14,0.07), Normal(-0.14,0.2), Normal(0.24,0.01)]\n",
    "hmm_guess = HMM(init_guess, trans_guess, dists_guess); =#"
   ]
  },
  {
   "cell_type": "code",
   "execution_count": 12,
   "metadata": {},
   "outputs": [
    {
     "ename": "MethodError",
     "evalue": "MethodError: no method matching logpdf(::IsoNormal, ::Float64)\n\nClosest candidates are:\n  logpdf(!Matched::DiscreteUniform, ::Real)\n   @ Distributions C:\\Users\\matsz\\.julia\\packages\\Distributions\\UaWBm\\src\\univariate\\discrete\\discreteuniform.jl:74\n  logpdf(!Matched::Soliton, ::Real)\n   @ Distributions C:\\Users\\matsz\\.julia\\packages\\Distributions\\UaWBm\\src\\univariate\\discrete\\soliton.jl:98\n  logpdf(!Matched::Chernoff, ::Real)\n   @ Distributions C:\\Users\\matsz\\.julia\\packages\\Distributions\\UaWBm\\src\\univariate\\continuous\\chernoff.jl:155\n  ...\n",
     "output_type": "error",
     "traceback": [
      "MethodError: no method matching logpdf(::IsoNormal, ::Float64)\n",
      "\n",
      "Closest candidates are:\n",
      "  logpdf(!Matched::DiscreteUniform, ::Real)\n",
      "   @ Distributions C:\\Users\\matsz\\.julia\\packages\\Distributions\\UaWBm\\src\\univariate\\discrete\\discreteuniform.jl:74\n",
      "  logpdf(!Matched::Soliton, ::Real)\n",
      "   @ Distributions C:\\Users\\matsz\\.julia\\packages\\Distributions\\UaWBm\\src\\univariate\\discrete\\soliton.jl:98\n",
      "  logpdf(!Matched::Chernoff, ::Real)\n",
      "   @ Distributions C:\\Users\\matsz\\.julia\\packages\\Distributions\\UaWBm\\src\\univariate\\continuous\\chernoff.jl:155\n",
      "  ...\n",
      "\n",
      "\n",
      "Stacktrace:\n",
      " [1] logdensityof(d::IsoNormal, x::Float64)\n",
      "   @ DistributionsDensityInterfaceExt C:\\Users\\matsz\\.julia\\packages\\Distributions\\UaWBm\\ext\\DistributionsDensityInterfaceExt.jl:10\n",
      " [2] eltype(hmm::HMM{Vector{Float64}, Matrix{Float64}, Vector{IsoNormal}}, obs::Float64, control::Nothing)\n",
      "   @ HiddenMarkovModels C:\\Users\\matsz\\.julia\\packages\\HiddenMarkovModels\\y95cy\\src\\types\\abstract_hmm.jl:50\n",
      " [3] initialize_forward_backward(hmm::HMM{Vector{Float64}, Matrix{Float64}, Vector{IsoNormal}}, obs_seq::Vector{Float64}, control_seq::FillArrays.Fill{Nothing, 1, Tuple{Base.OneTo{Int64}}}; seq_ends::FillArrays.Fill{Int64, 1, Tuple{Base.OneTo{Int64}}}, transition_marginals::Bool)\n",
      "   @ HiddenMarkovModels C:\\Users\\matsz\\.julia\\packages\\HiddenMarkovModels\\y95cy\\src\\inference\\forward_backward.jl:37\n",
      " [4] baum_welch(hmm_guess::HMM{Vector{Float64}, Matrix{Float64}, Vector{IsoNormal}}, obs_seq::Vector{Float64}, control_seq::FillArrays.Fill{Nothing, 1, Tuple{Base.OneTo{Int64}}}; seq_ends::FillArrays.Fill{Int64, 1, Tuple{Base.OneTo{Int64}}}, atol::Float64, max_iterations::Int64, loglikelihood_increasing::Bool)\n",
      "   @ HiddenMarkovModels C:\\Users\\matsz\\.julia\\packages\\HiddenMarkovModels\\y95cy\\src\\inference\\baum_welch.jl:64\n",
      " [5] baum_welch(hmm_guess::HMM{Vector{Float64}, Matrix{Float64}, Vector{IsoNormal}}, obs_seq::Vector{Float64}, control_seq::FillArrays.Fill{Nothing, 1, Tuple{Base.OneTo{Int64}}})\n",
      "   @ HiddenMarkovModels C:\\Users\\matsz\\.julia\\packages\\HiddenMarkovModels\\y95cy\\src\\inference\\baum_welch.jl:54\n",
      " [6] top-level scope\n",
      "   @ c:\\Users\\matsz\\programowanie\\Optymalizacja portfela\\julia_msp\\hmm.ipynb:1"
     ]
    }
   ],
   "source": [
    "hmm_est, loglikelihood_evolution = baum_welch(hmm_guess, acwi.ACWI);"
   ]
  },
  {
   "cell_type": "code",
   "execution_count": 6,
   "metadata": {},
   "outputs": [
    {
     "ename": "UndefVarError",
     "evalue": "UndefVarError: `loglikelihood_evolution` not defined",
     "output_type": "error",
     "traceback": [
      "UndefVarError: `loglikelihood_evolution` not defined\n",
      "\n",
      "Stacktrace:\n",
      " [1] top-level scope\n",
      "   @ c:\\Users\\matsz\\programowanie\\Optymalizacja portfela\\julia_msp\\hmm.ipynb:1"
     ]
    }
   ],
   "source": [
    "last(loglikelihood_evolution)"
   ]
  },
  {
   "cell_type": "code",
   "execution_count": 7,
   "metadata": {},
   "outputs": [
    {
     "ename": "UndefVarError",
     "evalue": "UndefVarError: `hmm_est` not defined",
     "output_type": "error",
     "traceback": [
      "UndefVarError: `hmm_est` not defined\n",
      "\n",
      "Stacktrace:\n",
      " [1] top-level scope\n",
      "   @ c:\\Users\\matsz\\programowanie\\Optymalizacja portfela\\julia_msp\\hmm.ipynb:1"
     ]
    }
   ],
   "source": [
    "transition_matrix(hmm_est)"
   ]
  },
  {
   "cell_type": "code",
   "execution_count": 8,
   "metadata": {},
   "outputs": [
    {
     "ename": "UndefVarError",
     "evalue": "UndefVarError: `hmm_est` not defined",
     "output_type": "error",
     "traceback": [
      "UndefVarError: `hmm_est` not defined\n",
      "\n",
      "Stacktrace:\n",
      " [1] top-level scope\n",
      "   @ c:\\Users\\matsz\\programowanie\\Optymalizacja portfela\\julia_msp\\hmm.ipynb:1"
     ]
    }
   ],
   "source": [
    "obs_distributions(hmm_est)"
   ]
  },
  {
   "cell_type": "code",
   "execution_count": 11,
   "metadata": {},
   "outputs": [
    {
     "name": "stdout",
     "output_type": "stream",
     "text": [
      "regime 1\n",
      "0.019032423436001054\n",
      "0.190628291589636\n",
      "regime 2\n",
      "0.16163287752143957\n",
      "0.08729078654259356\n"
     ]
    }
   ],
   "source": [
    "println(\"regime 1\")\n",
    "println(mean(obs_distributions(hmm_est)[1])*12)\n",
    "println(std(obs_distributions(hmm_est)[1])* 12^0.5)\n",
    "println(\"regime 2\")\n",
    "println(mean(obs_distributions(hmm_est)[2])*12)\n",
    "println(std(obs_distributions(hmm_est)[2])* 12^0.5)"
   ]
  },
  {
   "cell_type": "code",
   "execution_count": 462,
   "metadata": {},
   "outputs": [
    {
     "data": {
      "text/html": [
       "<div><div style = \"float: left;\"><span>255×2 DataFrame</span></div><div style = \"float: right;\"><span style = \"font-style: italic;\">230 rows omitted</span></div><div style = \"clear: both;\"></div></div><div class = \"data-frame\" style = \"overflow-x: scroll;\"><table class = \"data-frame\" style = \"margin-bottom: 6px;\"><thead><tr class = \"header\"><th class = \"rowNumber\" style = \"font-weight: bold; text-align: right;\">Row</th><th style = \"text-align: left;\">Date</th><th style = \"text-align: left;\">ACWI</th></tr><tr class = \"subheader headerLastRow\"><th class = \"rowNumber\" style = \"font-weight: bold; text-align: right;\"></th><th title = \"Date\" style = \"text-align: left;\">Date</th><th title = \"Float64\" style = \"text-align: left;\">Float64</th></tr></thead><tbody><tr><td class = \"rowNumber\" style = \"font-weight: bold; text-align: right;\">1</td><td style = \"text-align: left;\">2003-01-31</td><td style = \"text-align: right;\">-0.0294357</td></tr><tr><td class = \"rowNumber\" style = \"font-weight: bold; text-align: right;\">2</td><td style = \"text-align: left;\">2003-02-28</td><td style = \"text-align: right;\">-0.017938</td></tr><tr><td class = \"rowNumber\" style = \"font-weight: bold; text-align: right;\">3</td><td style = \"text-align: left;\">2003-03-31</td><td style = \"text-align: right;\">-0.00431422</td></tr><tr><td class = \"rowNumber\" style = \"font-weight: bold; text-align: right;\">4</td><td style = \"text-align: left;\">2003-04-30</td><td style = \"text-align: right;\">0.0886378</td></tr><tr><td class = \"rowNumber\" style = \"font-weight: bold; text-align: right;\">5</td><td style = \"text-align: left;\">2003-05-30</td><td style = \"text-align: right;\">0.0574971</td></tr><tr><td class = \"rowNumber\" style = \"font-weight: bold; text-align: right;\">6</td><td style = \"text-align: left;\">2003-06-30</td><td style = \"text-align: right;\">0.0187239</td></tr><tr><td class = \"rowNumber\" style = \"font-weight: bold; text-align: right;\">7</td><td style = \"text-align: left;\">2003-07-31</td><td style = \"text-align: right;\">0.0218749</td></tr><tr><td class = \"rowNumber\" style = \"font-weight: bold; text-align: right;\">8</td><td style = \"text-align: left;\">2003-08-29</td><td style = \"text-align: right;\">0.0233834</td></tr><tr><td class = \"rowNumber\" style = \"font-weight: bold; text-align: right;\">9</td><td style = \"text-align: left;\">2003-09-30</td><td style = \"text-align: right;\">0.00607447</td></tr><tr><td class = \"rowNumber\" style = \"font-weight: bold; text-align: right;\">10</td><td style = \"text-align: left;\">2003-10-31</td><td style = \"text-align: right;\">0.0603779</td></tr><tr><td class = \"rowNumber\" style = \"font-weight: bold; text-align: right;\">11</td><td style = \"text-align: left;\">2003-11-28</td><td style = \"text-align: right;\">0.0149736</td></tr><tr><td class = \"rowNumber\" style = \"font-weight: bold; text-align: right;\">12</td><td style = \"text-align: left;\">2003-12-31</td><td style = \"text-align: right;\">0.0631066</td></tr><tr><td class = \"rowNumber\" style = \"font-weight: bold; text-align: right;\">13</td><td style = \"text-align: left;\">2004-01-30</td><td style = \"text-align: right;\">0.0168908</td></tr><tr><td style = \"text-align: right;\">&vellip;</td><td style = \"text-align: right;\">&vellip;</td><td style = \"text-align: right;\">&vellip;</td></tr><tr><td class = \"rowNumber\" style = \"font-weight: bold; text-align: right;\">244</td><td style = \"text-align: left;\">2023-04-28</td><td style = \"text-align: right;\">0.0143719</td></tr><tr><td class = \"rowNumber\" style = \"font-weight: bold; text-align: right;\">245</td><td style = \"text-align: left;\">2023-05-31</td><td style = \"text-align: right;\">-0.0107115</td></tr><tr><td class = \"rowNumber\" style = \"font-weight: bold; text-align: right;\">246</td><td style = \"text-align: left;\">2023-06-30</td><td style = \"text-align: right;\">0.0580616</td></tr><tr><td class = \"rowNumber\" style = \"font-weight: bold; text-align: right;\">247</td><td style = \"text-align: left;\">2023-07-31</td><td style = \"text-align: right;\">0.0366085</td></tr><tr><td class = \"rowNumber\" style = \"font-weight: bold; text-align: right;\">248</td><td style = \"text-align: left;\">2023-08-31</td><td style = \"text-align: right;\">-0.0279443</td></tr><tr><td class = \"rowNumber\" style = \"font-weight: bold; text-align: right;\">249</td><td style = \"text-align: left;\">2023-09-29</td><td style = \"text-align: right;\">-0.0413498</td></tr><tr><td class = \"rowNumber\" style = \"font-weight: bold; text-align: right;\">250</td><td style = \"text-align: left;\">2023-10-31</td><td style = \"text-align: right;\">-0.0300677</td></tr><tr><td class = \"rowNumber\" style = \"font-weight: bold; text-align: right;\">251</td><td style = \"text-align: left;\">2023-11-30</td><td style = \"text-align: right;\">0.0922975</td></tr><tr><td class = \"rowNumber\" style = \"font-weight: bold; text-align: right;\">252</td><td style = \"text-align: left;\">2023-12-29</td><td style = \"text-align: right;\">0.0480334</td></tr><tr><td class = \"rowNumber\" style = \"font-weight: bold; text-align: right;\">253</td><td style = \"text-align: left;\">2024-01-31</td><td style = \"text-align: right;\">0.00586168</td></tr><tr><td class = \"rowNumber\" style = \"font-weight: bold; text-align: right;\">254</td><td style = \"text-align: left;\">2024-02-29</td><td style = \"text-align: right;\">0.0429136</td></tr><tr><td class = \"rowNumber\" style = \"font-weight: bold; text-align: right;\">255</td><td style = \"text-align: left;\">2024-03-29</td><td style = \"text-align: right;\">0.0313969</td></tr></tbody></table></div>"
      ],
      "text/latex": [
       "\\begin{tabular}{r|cc}\n",
       "\t& Date & ACWI\\\\\n",
       "\t\\hline\n",
       "\t& Date & Float64\\\\\n",
       "\t\\hline\n",
       "\t1 & 2003-01-31 & -0.0294357 \\\\\n",
       "\t2 & 2003-02-28 & -0.017938 \\\\\n",
       "\t3 & 2003-03-31 & -0.00431422 \\\\\n",
       "\t4 & 2003-04-30 & 0.0886378 \\\\\n",
       "\t5 & 2003-05-30 & 0.0574971 \\\\\n",
       "\t6 & 2003-06-30 & 0.0187239 \\\\\n",
       "\t7 & 2003-07-31 & 0.0218749 \\\\\n",
       "\t8 & 2003-08-29 & 0.0233834 \\\\\n",
       "\t9 & 2003-09-30 & 0.00607447 \\\\\n",
       "\t10 & 2003-10-31 & 0.0603779 \\\\\n",
       "\t11 & 2003-11-28 & 0.0149736 \\\\\n",
       "\t12 & 2003-12-31 & 0.0631066 \\\\\n",
       "\t13 & 2004-01-30 & 0.0168908 \\\\\n",
       "\t14 & 2004-02-27 & 0.0180975 \\\\\n",
       "\t15 & 2004-03-31 & -0.00571557 \\\\\n",
       "\t16 & 2004-04-30 & -0.023487 \\\\\n",
       "\t17 & 2004-05-31 & 0.00776471 \\\\\n",
       "\t18 & 2004-06-30 & 0.0197908 \\\\\n",
       "\t19 & 2004-07-30 & -0.0320061 \\\\\n",
       "\t20 & 2004-08-31 & 0.00609399 \\\\\n",
       "\t21 & 2004-09-30 & 0.0207609 \\\\\n",
       "\t22 & 2004-10-29 & 0.024445 \\\\\n",
       "\t23 & 2004-11-30 & 0.0545021 \\\\\n",
       "\t24 & 2004-12-31 & 0.0386893 \\\\\n",
       "\t$\\dots$ & $\\dots$ & $\\dots$ \\\\\n",
       "\\end{tabular}\n"
      ],
      "text/plain": [
       "\u001b[1m255×2 DataFrame\u001b[0m\n",
       "\u001b[1m Row \u001b[0m│\u001b[1m Date       \u001b[0m\u001b[1m ACWI        \u001b[0m\n",
       "     │\u001b[90m Date       \u001b[0m\u001b[90m Float64     \u001b[0m\n",
       "─────┼─────────────────────────\n",
       "   1 │ 2003-01-31  -0.0294357\n",
       "   2 │ 2003-02-28  -0.017938\n",
       "   3 │ 2003-03-31  -0.00431422\n",
       "   4 │ 2003-04-30   0.0886378\n",
       "   5 │ 2003-05-30   0.0574971\n",
       "   6 │ 2003-06-30   0.0187239\n",
       "   7 │ 2003-07-31   0.0218749\n",
       "   8 │ 2003-08-29   0.0233834\n",
       "  ⋮  │     ⋮            ⋮\n",
       " 249 │ 2023-09-29  -0.0413498\n",
       " 250 │ 2023-10-31  -0.0300677\n",
       " 251 │ 2023-11-30   0.0922975\n",
       " 252 │ 2023-12-29   0.0480334\n",
       " 253 │ 2024-01-31   0.00586168\n",
       " 254 │ 2024-02-29   0.0429136\n",
       " 255 │ 2024-03-29   0.0313969\n",
       "\u001b[36m               240 rows omitted\u001b[0m"
      ]
     },
     "metadata": {},
     "output_type": "display_data"
    }
   ],
   "source": [
    "acwi_short = acwi[Date(2003,01,01) .<= acwi.Date .<= Date(2024,03,31), :]"
   ]
  },
  {
   "cell_type": "code",
   "execution_count": 13,
   "metadata": {},
   "outputs": [
    {
     "name": "stdout",
     "output_type": "stream",
     "text": [
      "0.007221256079983577\n",
      "0.04396581164211372\n",
      "0.00820031798641316\n",
      "0.044712591384382244\n"
     ]
    }
   ],
   "source": [
    "println(mean(acwi.ACWI))\n",
    "println(std(acwi.ACWI))\n",
    "println(mean(acwi_short.ACWI))\n",
    "println(std(acwi_short.ACWI))\n"
   ]
  },
  {
   "cell_type": "code",
   "execution_count": 14,
   "metadata": {},
   "outputs": [],
   "source": [
    "hmm_est, loglikelihood_evolution = baum_welch(hmm_guess, acwi_short.ACWI);"
   ]
  },
  {
   "cell_type": "code",
   "execution_count": 15,
   "metadata": {},
   "outputs": [
    {
     "data": {
      "text/plain": [
       "459.13892457264535"
      ]
     },
     "metadata": {},
     "output_type": "display_data"
    }
   ],
   "source": [
    "last(loglikelihood_evolution)"
   ]
  },
  {
   "cell_type": "code",
   "execution_count": 16,
   "metadata": {},
   "outputs": [
    {
     "data": {
      "text/plain": [
       "HMM{Vector{Float64}, Matrix{Float64}, Vector{Normal{Float64}}}"
      ]
     },
     "metadata": {},
     "output_type": "display_data"
    }
   ],
   "source": [
    "typeof(hmm_est)"
   ]
  },
  {
   "cell_type": "code",
   "execution_count": 17,
   "metadata": {},
   "outputs": [
    {
     "data": {
      "text/plain": [
       "2×2 Matrix{Float64}:\n",
       " 0.932483   0.0675174\n",
       " 0.0569406  0.943059"
      ]
     },
     "metadata": {},
     "output_type": "display_data"
    }
   ],
   "source": [
    "transition_matrix(hmm_est)"
   ]
  },
  {
   "cell_type": "code",
   "execution_count": 18,
   "metadata": {},
   "outputs": [
    {
     "data": {
      "text/plain": [
       "2-element Vector{Normal{Float64}}:\n",
       " Normal{Float64}(μ=0.001677850881617401, σ=0.05909238647054062)\n",
       " Normal{Float64}(μ=0.014143605791660168, σ=0.02345202862629552)"
      ]
     },
     "metadata": {},
     "output_type": "display_data"
    }
   ],
   "source": [
    "obs_distributions(hmm_est)"
   ]
  },
  {
   "cell_type": "code",
   "execution_count": 19,
   "metadata": {},
   "outputs": [
    {
     "name": "stdout",
     "output_type": "stream",
     "text": [
      "regime 1\n",
      "0.020134210579408812\n",
      "0.20470203141494414\n",
      "regime 2\n",
      "0.169723269499922\n",
      "0.08124021024260716\n"
     ]
    }
   ],
   "source": [
    "println(\"regime 1\")\n",
    "println(mean(obs_distributions(hmm_est)[1])*12)\n",
    "println(std(obs_distributions(hmm_est)[1])* 12^0.5)\n",
    "println(\"regime 2\")\n",
    "println(mean(obs_distributions(hmm_est)[2])*12)\n",
    "println(std(obs_distributions(hmm_est)[2])* 12^0.5)"
   ]
  },
  {
   "cell_type": "code",
   "execution_count": 20,
   "metadata": {},
   "outputs": [
    {
     "data": {
      "text/plain": [
       "2-element Vector{Float64}:\n",
       " 1.0\n",
       " 5.644524055265908e-50"
      ]
     },
     "metadata": {},
     "output_type": "display_data"
    }
   ],
   "source": [
    "initialization(hmm_est)"
   ]
  },
  {
   "cell_type": "code",
   "execution_count": 42,
   "metadata": {},
   "outputs": [
    {
     "data": {
      "text/html": [
       "<div><div style = \"float: left;\"><span>255×2 DataFrame</span></div><div style = \"float: right;\"><span style = \"font-style: italic;\">230 rows omitted</span></div><div style = \"clear: both;\"></div></div><div class = \"data-frame\" style = \"overflow-x: scroll;\"><table class = \"data-frame\" style = \"margin-bottom: 6px;\"><thead><tr class = \"header\"><th class = \"rowNumber\" style = \"font-weight: bold; text-align: right;\">Row</th><th style = \"text-align: left;\">Data</th><th style = \"text-align: left;\">Zamkniecie</th></tr><tr class = \"subheader headerLastRow\"><th class = \"rowNumber\" style = \"font-weight: bold; text-align: right;\"></th><th title = \"Date\" style = \"text-align: left;\">Date</th><th title = \"Float64\" style = \"text-align: left;\">Float64</th></tr></thead><tbody><tr><td class = \"rowNumber\" style = \"font-weight: bold; text-align: right;\">1</td><td style = \"text-align: left;\">2002-12-31</td><td style = \"text-align: right;\">0.8</td></tr><tr><td class = \"rowNumber\" style = \"font-weight: bold; text-align: right;\">2</td><td style = \"text-align: left;\">2003-01-31</td><td style = \"text-align: right;\">0.5</td></tr><tr><td class = \"rowNumber\" style = \"font-weight: bold; text-align: right;\">3</td><td style = \"text-align: left;\">2003-02-28</td><td style = \"text-align: right;\">0.5</td></tr><tr><td class = \"rowNumber\" style = \"font-weight: bold; text-align: right;\">4</td><td style = \"text-align: left;\">2003-03-31</td><td style = \"text-align: right;\">0.6</td></tr><tr><td class = \"rowNumber\" style = \"font-weight: bold; text-align: right;\">5</td><td style = \"text-align: left;\">2003-04-30</td><td style = \"text-align: right;\">0.3</td></tr><tr><td class = \"rowNumber\" style = \"font-weight: bold; text-align: right;\">6</td><td style = \"text-align: left;\">2003-05-31</td><td style = \"text-align: right;\">0.4</td></tr><tr><td class = \"rowNumber\" style = \"font-weight: bold; text-align: right;\">7</td><td style = \"text-align: left;\">2003-06-30</td><td style = \"text-align: right;\">0.8</td></tr><tr><td class = \"rowNumber\" style = \"font-weight: bold; text-align: right;\">8</td><td style = \"text-align: left;\">2003-07-31</td><td style = \"text-align: right;\">0.8</td></tr><tr><td class = \"rowNumber\" style = \"font-weight: bold; text-align: right;\">9</td><td style = \"text-align: left;\">2003-08-31</td><td style = \"text-align: right;\">0.7</td></tr><tr><td class = \"rowNumber\" style = \"font-weight: bold; text-align: right;\">10</td><td style = \"text-align: left;\">2003-09-30</td><td style = \"text-align: right;\">0.9</td></tr><tr><td class = \"rowNumber\" style = \"font-weight: bold; text-align: right;\">11</td><td style = \"text-align: left;\">2003-10-31</td><td style = \"text-align: right;\">1.3</td></tr><tr><td class = \"rowNumber\" style = \"font-weight: bold; text-align: right;\">12</td><td style = \"text-align: left;\">2003-11-30</td><td style = \"text-align: right;\">1.6</td></tr><tr><td class = \"rowNumber\" style = \"font-weight: bold; text-align: right;\">13</td><td style = \"text-align: left;\">2003-12-31</td><td style = \"text-align: right;\">1.7</td></tr><tr><td style = \"text-align: right;\">&vellip;</td><td style = \"text-align: right;\">&vellip;</td><td style = \"text-align: right;\">&vellip;</td></tr><tr><td class = \"rowNumber\" style = \"font-weight: bold; text-align: right;\">244</td><td style = \"text-align: left;\">2023-03-31</td><td style = \"text-align: right;\">16.1</td></tr><tr><td class = \"rowNumber\" style = \"font-weight: bold; text-align: right;\">245</td><td style = \"text-align: left;\">2023-04-30</td><td style = \"text-align: right;\">14.7</td></tr><tr><td class = \"rowNumber\" style = \"font-weight: bold; text-align: right;\">246</td><td style = \"text-align: left;\">2023-05-31</td><td style = \"text-align: right;\">13.0</td></tr><tr><td class = \"rowNumber\" style = \"font-weight: bold; text-align: right;\">247</td><td style = \"text-align: left;\">2023-06-30</td><td style = \"text-align: right;\">11.5</td></tr><tr><td class = \"rowNumber\" style = \"font-weight: bold; text-align: right;\">248</td><td style = \"text-align: left;\">2023-07-31</td><td style = \"text-align: right;\">10.8</td></tr><tr><td class = \"rowNumber\" style = \"font-weight: bold; text-align: right;\">249</td><td style = \"text-align: left;\">2023-08-31</td><td style = \"text-align: right;\">10.1</td></tr><tr><td class = \"rowNumber\" style = \"font-weight: bold; text-align: right;\">250</td><td style = \"text-align: left;\">2023-09-30</td><td style = \"text-align: right;\">8.2</td></tr><tr><td class = \"rowNumber\" style = \"font-weight: bold; text-align: right;\">251</td><td style = \"text-align: left;\">2023-10-31</td><td style = \"text-align: right;\">6.6</td></tr><tr><td class = \"rowNumber\" style = \"font-weight: bold; text-align: right;\">252</td><td style = \"text-align: left;\">2023-11-30</td><td style = \"text-align: right;\">6.6</td></tr><tr><td class = \"rowNumber\" style = \"font-weight: bold; text-align: right;\">253</td><td style = \"text-align: left;\">2023-12-31</td><td style = \"text-align: right;\">6.2</td></tr><tr><td class = \"rowNumber\" style = \"font-weight: bold; text-align: right;\">254</td><td style = \"text-align: left;\">2024-01-31</td><td style = \"text-align: right;\">3.9</td></tr><tr><td class = \"rowNumber\" style = \"font-weight: bold; text-align: right;\">255</td><td style = \"text-align: left;\">2024-02-29</td><td style = \"text-align: right;\">2.8</td></tr></tbody></table></div>"
      ],
      "text/latex": [
       "\\begin{tabular}{r|cc}\n",
       "\t& Data & Zamkniecie\\\\\n",
       "\t\\hline\n",
       "\t& Date & Float64\\\\\n",
       "\t\\hline\n",
       "\t1 & 2002-12-31 & 0.8 \\\\\n",
       "\t2 & 2003-01-31 & 0.5 \\\\\n",
       "\t3 & 2003-02-28 & 0.5 \\\\\n",
       "\t4 & 2003-03-31 & 0.6 \\\\\n",
       "\t5 & 2003-04-30 & 0.3 \\\\\n",
       "\t6 & 2003-05-31 & 0.4 \\\\\n",
       "\t7 & 2003-06-30 & 0.8 \\\\\n",
       "\t8 & 2003-07-31 & 0.8 \\\\\n",
       "\t9 & 2003-08-31 & 0.7 \\\\\n",
       "\t10 & 2003-09-30 & 0.9 \\\\\n",
       "\t11 & 2003-10-31 & 1.3 \\\\\n",
       "\t12 & 2003-11-30 & 1.6 \\\\\n",
       "\t13 & 2003-12-31 & 1.7 \\\\\n",
       "\t14 & 2004-01-31 & 1.6 \\\\\n",
       "\t15 & 2004-02-29 & 1.6 \\\\\n",
       "\t16 & 2004-03-31 & 1.7 \\\\\n",
       "\t17 & 2004-04-30 & 2.2 \\\\\n",
       "\t18 & 2004-05-31 & 3.4 \\\\\n",
       "\t19 & 2004-06-30 & 4.4 \\\\\n",
       "\t20 & 2004-07-31 & 4.6 \\\\\n",
       "\t21 & 2004-08-31 & 4.6 \\\\\n",
       "\t22 & 2004-09-30 & 4.4 \\\\\n",
       "\t23 & 2004-10-31 & 4.5 \\\\\n",
       "\t24 & 2004-11-30 & 4.5 \\\\\n",
       "\t$\\dots$ & $\\dots$ & $\\dots$ \\\\\n",
       "\\end{tabular}\n"
      ],
      "text/plain": [
       "\u001b[1m255×2 DataFrame\u001b[0m\n",
       "\u001b[1m Row \u001b[0m│\u001b[1m Data       \u001b[0m\u001b[1m Zamkniecie \u001b[0m\n",
       "     │\u001b[90m Date       \u001b[0m\u001b[90m Float64    \u001b[0m\n",
       "─────┼────────────────────────\n",
       "   1 │ 2002-12-31         0.8\n",
       "   2 │ 2003-01-31         0.5\n",
       "   3 │ 2003-02-28         0.5\n",
       "   4 │ 2003-03-31         0.6\n",
       "   5 │ 2003-04-30         0.3\n",
       "   6 │ 2003-05-31         0.4\n",
       "   7 │ 2003-06-30         0.8\n",
       "   8 │ 2003-07-31         0.8\n",
       "  ⋮  │     ⋮           ⋮\n",
       " 249 │ 2023-08-31        10.1\n",
       " 250 │ 2023-09-30         8.2\n",
       " 251 │ 2023-10-31         6.6\n",
       " 252 │ 2023-11-30         6.6\n",
       " 253 │ 2023-12-31         6.2\n",
       " 254 │ 2024-01-31         3.9\n",
       " 255 │ 2024-02-29         2.8\n",
       "\u001b[36m              240 rows omitted\u001b[0m"
      ]
     },
     "metadata": {},
     "output_type": "display_data"
    }
   ],
   "source": [
    "cpipl = CSV.read(\"../esg/cpiypl_m.csv\", DataFrame)[:,[\"Data\",\"Zamkniecie\"]]"
   ]
  },
  {
   "cell_type": "code",
   "execution_count": 43,
   "metadata": {},
   "outputs": [
    {
     "data": {
      "text/plain": [
       "254-element Vector{Float64}:\n",
       " 0.0175\n",
       " 0.0175\n",
       " 0.018500000000000003\n",
       " 0.0155\n",
       " 0.0165\n",
       " 0.0205\n",
       " 0.0205\n",
       " 0.0195\n",
       " 0.021500000000000002\n",
       " 0.025500000000000002\n",
       " ⋮\n",
       " 0.1275\n",
       " 0.12050000000000001\n",
       " 0.11349999999999999\n",
       " 0.09449999999999999\n",
       " 0.0785\n",
       " 0.0785\n",
       " 0.0745\n",
       " 0.051500000000000004\n",
       " 0.040499999999999994"
      ]
     },
     "metadata": {},
     "output_type": "display_data"
    }
   ],
   "source": [
    "date_index = Date(2003,01,01) .<= cpipl.Data .<= Date(2024,02,29)\n",
    "edo = cpipl[date_index,\"Zamkniecie\"] ./100 .+ 0.0125"
   ]
  },
  {
   "cell_type": "code",
   "execution_count": 44,
   "metadata": {},
   "outputs": [
    {
     "data": {
      "text/plain": [
       "254-element Vector{Float64}:\n",
       " -0.029435692626285204\n",
       " -0.01793797150041898\n",
       " -0.0043142245259009115\n",
       "  0.08863778054862848\n",
       "  0.05749710080604764\n",
       "  0.018723853620892683\n",
       "  0.02187491693910637\n",
       "  0.023383446912552674\n",
       "  0.006074469437031604\n",
       "  0.06037793047696027\n",
       "  ⋮\n",
       "  0.05806157327945405\n",
       "  0.03660848514326154\n",
       " -0.027944324625502892\n",
       " -0.04134978511934306\n",
       " -0.030067745405442547\n",
       "  0.09229752768158961\n",
       "  0.04803335439585643\n",
       "  0.0058616798157242744\n",
       "  0.042913606684614525"
      ]
     },
     "metadata": {},
     "output_type": "display_data"
    }
   ],
   "source": [
    "acwi_s = acwi[Date(2003,01,01) .<= acwi.Date .<= Date(2024,02,29),\"ACWI\"]"
   ]
  },
  {
   "cell_type": "code",
   "execution_count": 45,
   "metadata": {},
   "outputs": [
    {
     "data": {
      "text/plain": [
       "254×2 Matrix{Float64}:\n",
       " -0.0294357   0.0175\n",
       " -0.017938    0.0175\n",
       " -0.00431422  0.0185\n",
       "  0.0886378   0.0155\n",
       "  0.0574971   0.0165\n",
       "  0.0187239   0.0205\n",
       "  0.0218749   0.0205\n",
       "  0.0233834   0.0195\n",
       "  0.00607447  0.0215\n",
       "  0.0603779   0.0255\n",
       "  ⋮           \n",
       "  0.0580616   0.1275\n",
       "  0.0366085   0.1205\n",
       " -0.0279443   0.1135\n",
       " -0.0413498   0.0945\n",
       " -0.0300677   0.0785\n",
       "  0.0922975   0.0785\n",
       "  0.0480334   0.0745\n",
       "  0.00586168  0.0515\n",
       "  0.0429136   0.0405"
      ]
     },
     "metadata": {},
     "output_type": "display_data"
    }
   ],
   "source": [
    "returns = hcat(acwi_s,edo)"
   ]
  },
  {
   "cell_type": "code",
   "execution_count": 46,
   "metadata": {},
   "outputs": [
    {
     "data": {
      "text/plain": [
       "254-element Vector{Vector{Float64}}:\n",
       " [-0.029435692626285204, 0.0175]\n",
       " [-0.01793797150041898, 0.0175]\n",
       " [-0.0043142245259009115, 0.018500000000000003]\n",
       " [0.08863778054862848, 0.0155]\n",
       " [0.05749710080604764, 0.0165]\n",
       " [0.018723853620892683, 0.0205]\n",
       " [0.02187491693910637, 0.0205]\n",
       " [0.023383446912552674, 0.0195]\n",
       " [0.006074469437031604, 0.021500000000000002]\n",
       " [0.06037793047696027, 0.025500000000000002]\n",
       " ⋮\n",
       " [0.05806157327945405, 0.1275]\n",
       " [0.03660848514326154, 0.12050000000000001]\n",
       " [-0.027944324625502892, 0.11349999999999999]\n",
       " [-0.04134978511934306, 0.09449999999999999]\n",
       " [-0.030067745405442547, 0.0785]\n",
       " [0.09229752768158961, 0.0785]\n",
       " [0.04803335439585643, 0.0745]\n",
       " [0.0058616798157242744, 0.051500000000000004]\n",
       " [0.042913606684614525, 0.040499999999999994]"
      ]
     },
     "metadata": {},
     "output_type": "display_data"
    }
   ],
   "source": [
    "returns = [returns[i,:] for i in 1:size(returns,1)]"
   ]
  },
  {
   "cell_type": "code",
   "execution_count": 93,
   "metadata": {},
   "outputs": [],
   "source": [
    "init_guess = [0.25, 0.25, 0.25, 0.25]\n",
    "trans_guess = [0.25 0.25 0.25 0.25; 0.25 0.25 0.25 0.25; 0.25 0.25 0.25 0.25; 0.25 0.25 0.25 0.25]\n",
    "dists_guess = [MvNormal([-0.05, 0.012], I), MvNormal([0.2, 0.037], I), MvNormal([0.07, 0.049], I), MvNormal([-0.2, 0.082], I)]\n",
    "hmm_guess = HMM(init_guess, trans_guess, dists_guess);"
   ]
  },
  {
   "cell_type": "code",
   "execution_count": 94,
   "metadata": {},
   "outputs": [],
   "source": [
    "hmm_est, loglikelihood_evolution = baum_welch(hmm_guess, returns);"
   ]
  },
  {
   "cell_type": "code",
   "execution_count": 95,
   "metadata": {},
   "outputs": [
    {
     "data": {
      "text/plain": [
       "1086.0423474913564"
      ]
     },
     "metadata": {},
     "output_type": "display_data"
    }
   ],
   "source": [
    "last(loglikelihood_evolution)"
   ]
  },
  {
   "cell_type": "code",
   "execution_count": 96,
   "metadata": {},
   "outputs": [
    {
     "data": {
      "text/plain": [
       "4×4 Matrix{Float64}:\n",
       " 0.425494     0.234221     0.283825     0.0564599\n",
       " 0.187719     0.812281     7.55407e-13  3.11054e-20\n",
       " 0.217072     0.644388     0.13854      5.46727e-28\n",
       " 4.81994e-21  8.57241e-37  0.0942793    0.905721"
      ]
     },
     "metadata": {},
     "output_type": "display_data"
    }
   ],
   "source": [
    "transition_matrix(hmm_est)"
   ]
  },
  {
   "cell_type": "code",
   "execution_count": 396,
   "metadata": {},
   "outputs": [
    {
     "data": {
      "text/plain": [
       "4-element Vector{IsoNormal}:\n",
       " IsoNormal(\n",
       "dim: 2\n",
       "μ: [-0.03129398017170018, 0.03477600738241481]\n",
       "Σ: [0.0005866814416253256 0.0; 0.0 0.0005866814416253256]\n",
       ")\n",
       "\n",
       " IsoNormal(\n",
       "dim: 2\n",
       "μ: [0.019660866124438896, 0.032555661006222585]\n",
       "Σ: [0.00030808785285821175 0.0; 0.0 0.00030808785285821175]\n",
       ")\n",
       "\n",
       " IsoNormal(\n",
       "dim: 2\n",
       "μ: [0.07926253831291416, 0.037884960896446176]\n",
       "Σ: [0.0004508494595335847 0.0; 0.0 0.0004508494595335847]\n",
       ")\n",
       "\n",
       " IsoNormal(\n",
       "dim: 2\n",
       "μ: [-0.021833161896736286, 0.1185034538258361]\n",
       "Σ: [0.003512190550272683 0.0; 0.0 0.003512190550272683]\n",
       ")\n"
      ]
     },
     "metadata": {},
     "output_type": "display_data"
    }
   ],
   "source": [
    "acwi_regimes = obs_distributions(hmm_est)"
   ]
  },
  {
   "cell_type": "code",
   "execution_count": 402,
   "metadata": {},
   "outputs": [
    {
     "data": {
      "text/plain": [
       "2-element Vector{Float64}:\n",
       " -0.03129398017170018\n",
       "  0.03477600738241481"
      ]
     },
     "metadata": {},
     "output_type": "display_data"
    }
   ],
   "source": [
    "mean(acwi_regimes[1])"
   ]
  },
  {
   "cell_type": "code",
   "execution_count": 400,
   "metadata": {},
   "outputs": [
    {
     "ename": "MethodError",
     "evalue": "MethodError: no method matching iterate(::IsoNormal)\n\nClosest candidates are:\n  iterate(!Matched::Base.AsyncGenerator, !Matched::Base.AsyncGeneratorState)\n   @ Base asyncmap.jl:362\n  iterate(!Matched::Base.AsyncGenerator)\n   @ Base asyncmap.jl:362\n  iterate(!Matched::RegexMatch, Any...)\n   @ Base regex.jl:284\n  ...\n",
     "output_type": "error",
     "traceback": [
      "MethodError: no method matching iterate(::IsoNormal)\n",
      "\n",
      "Closest candidates are:\n",
      "  iterate(!Matched::Base.AsyncGenerator, !Matched::Base.AsyncGeneratorState)\n",
      "   @ Base asyncmap.jl:362\n",
      "  iterate(!Matched::Base.AsyncGenerator)\n",
      "   @ Base asyncmap.jl:362\n",
      "  iterate(!Matched::RegexMatch, Any...)\n",
      "   @ Base regex.jl:284\n",
      "  ...\n",
      "\n",
      "\n",
      "Stacktrace:\n",
      " [1] _var(iterable::IsoNormal, corrected::Bool, mean::Nothing)\n",
      "   @ Statistics C:\\Users\\matsz\\.julia\\juliaup\\julia-1.10.2+0.x64.w64.mingw32\\share\\julia\\stdlib\\v1.10\\Statistics\\src\\Statistics.jl:211\n",
      " [2] var(iterable::IsoNormal; corrected::Bool, mean::Nothing)\n",
      "   @ Statistics C:\\Users\\matsz\\.julia\\juliaup\\julia-1.10.2+0.x64.w64.mingw32\\share\\julia\\stdlib\\v1.10\\Statistics\\src\\Statistics.jl:208\n",
      " [3] std(iterable::IsoNormal; corrected::Bool, mean::Nothing)\n",
      "   @ Statistics C:\\Users\\matsz\\.julia\\juliaup\\julia-1.10.2+0.x64.w64.mingw32\\share\\julia\\stdlib\\v1.10\\Statistics\\src\\Statistics.jl:473\n",
      " [4] top-level scope\n",
      "   @ c:\\Users\\matsz\\programowanie\\Optymalizacja portfela\\julia_msp\\hmm.ipynb:1"
     ]
    }
   ],
   "source": [
    "println(\"$(mean(acwi_regimes[1])), $(std(acwi_regimes[1]))\")\n"
   ]
  },
  {
   "cell_type": "code",
   "execution_count": 52,
   "metadata": {},
   "outputs": [
    {
     "data": {
      "text/plain": [
       "IsoNormal(\n",
       "dim: 2\n",
       "μ: [-0.007180069470621233, 0.07578098201327435]\n",
       "Σ: [0.0036875320284281313 0.0; 0.0 0.0036875320284281313]\n",
       ")\n"
      ]
     },
     "metadata": {},
     "output_type": "display_data"
    }
   ],
   "source": [
    "regime1 = obs_distributions(hmm_est)[1]"
   ]
  },
  {
   "cell_type": "code",
   "execution_count": 53,
   "metadata": {},
   "outputs": [
    {
     "data": {
      "text/plain": [
       "2×2 Matrix{Float64}:\n",
       " -0.0861608  -0.00718007\n",
       "  0.909372    0.075781"
      ]
     },
     "metadata": {},
     "output_type": "display_data"
    }
   ],
   "source": [
    "mean(regime1) * [12. 1.]"
   ]
  },
  {
   "cell_type": "code",
   "execution_count": 54,
   "metadata": {},
   "outputs": [
    {
     "data": {
      "text/plain": [
       "2×2 Matrix{Float64}:\n",
       " 0.00368753  0.0\n",
       " 0.0         0.00368753"
      ]
     },
     "metadata": {},
     "output_type": "display_data"
    }
   ],
   "source": [
    "cov(regime1)"
   ]
  },
  {
   "cell_type": "code",
   "execution_count": 55,
   "metadata": {},
   "outputs": [
    {
     "data": {
      "text/plain": [
       "0.01277398565555009"
      ]
     },
     "metadata": {},
     "output_type": "display_data"
    }
   ],
   "source": [
    "cov(regime1)[1,1]*12^0.5"
   ]
  },
  {
   "cell_type": "code",
   "execution_count": 56,
   "metadata": {},
   "outputs": [
    {
     "data": {
      "text/plain": [
       "Hidden Markov Model with:\n",
       " - initialization: [0.6, 0.4]\n",
       " - transition matrix: [0.7 0.3; 0.2 0.8]\n",
       " - observation distributions: [IsoNormal(\n",
       "dim: 2\n",
       "μ: [-0.5, -0.8]\n",
       "Σ: [1.0 0.0; 0.0 1.0]\n",
       ")\n",
       ", IsoNormal(\n",
       "dim: 2\n",
       "μ: [0.5, 0.8]\n",
       "Σ: [1.0 0.0; 0.0 1.0]\n",
       ")\n",
       "]"
      ]
     },
     "metadata": {},
     "output_type": "display_data"
    }
   ],
   "source": [
    "init = [0.6, 0.4]\n",
    "trans = [0.7 0.3; 0.2 0.8]\n",
    "dists = [MvNormal([-0.5, -0.8], I), MvNormal([0.5, 0.8], I)]\n",
    "hmm = HMM(init, trans, dists)"
   ]
  },
  {
   "cell_type": "code",
   "execution_count": 65,
   "metadata": {},
   "outputs": [
    {
     "data": {
      "text/plain": [
       "Vector{Vector{Vector{Float64}}}\u001b[90m (alias for \u001b[39m\u001b[90mArray{Array{Array{Float64, 1}, 1}, 1}\u001b[39m\u001b[90m)\u001b[39m"
      ]
     },
     "metadata": {},
     "output_type": "display_data"
    }
   ],
   "source": [
    "nb_seqs = 100\n",
    "long_obs_seqs = [last(rand(rng, hmm, 120)) for k in 1:nb_seqs];\n",
    "typeof(long_obs_seqs)"
   ]
  },
  {
   "cell_type": "code",
   "execution_count": 66,
   "metadata": {},
   "outputs": [
    {
     "data": {
      "text/plain": [
       "Vector{Vector{Float64}}\u001b[90m (alias for \u001b[39m\u001b[90mArray{Array{Float64, 1}, 1}\u001b[39m\u001b[90m)\u001b[39m"
      ]
     },
     "metadata": {},
     "output_type": "display_data"
    }
   ],
   "source": [
    "long_obs_seq_concat = reduce(vcat, long_obs_seqs)\n",
    "typeof(long_obs_seq_concat)"
   ]
  },
  {
   "cell_type": "code",
   "execution_count": 67,
   "metadata": {},
   "outputs": [
    {
     "data": {
      "text/plain": [
       "1×100 adjoint(::Vector{Int64}) with eltype Int64:\n",
       " 120  240  360  480  600  720  840  960  …  11520  11640  11760  11880  12000"
      ]
     },
     "metadata": {},
     "output_type": "display_data"
    }
   ],
   "source": [
    "seq_ends = cumsum(length.(long_obs_seqs))\n",
    "seq_ends'"
   ]
  },
  {
   "cell_type": "code",
   "execution_count": 68,
   "metadata": {},
   "outputs": [],
   "source": [
    "init_guess = [0.5, 0.5]\n",
    "trans_guess = [0.6 0.4; 0.3 0.7]\n",
    "dists_guess = [MvNormal([-0.4, -0.7], I), MvNormal([0.4, 0.7], I)]\n",
    "hmm_guess = HMM(init_guess, trans_guess, dists_guess);"
   ]
  },
  {
   "cell_type": "code",
   "execution_count": 75,
   "metadata": {},
   "outputs": [],
   "source": [
    "hmm_est_concat, _ = baum_welch(hmm_guess, long_obs_seq_concat,; seq_ends);"
   ]
  },
  {
   "cell_type": "code",
   "execution_count": 76,
   "metadata": {},
   "outputs": [
    {
     "data": {
      "text/plain": [
       "2×2 Matrix{Float64}:\n",
       " 0.686014  0.313986\n",
       " 0.1935    0.8065"
      ]
     },
     "metadata": {},
     "output_type": "display_data"
    }
   ],
   "source": [
    "transition_matrix(hmm_est_concat)"
   ]
  },
  {
   "cell_type": "code",
   "execution_count": 77,
   "metadata": {},
   "outputs": [
    {
     "data": {
      "text/plain": [
       "2-element Vector{IsoNormal}:\n",
       " IsoNormal(\n",
       "dim: 2\n",
       "μ: [-0.007180069470621233, 0.07578098201327435]\n",
       "Σ: [0.0036875320284281313 0.0; 0.0 0.0036875320284281313]\n",
       ")\n",
       "\n",
       " IsoNormal(\n",
       "dim: 2\n",
       "μ: [0.014715723918157661, 0.03150717749765352]\n",
       "Σ: [0.00048574567964616865 0.0; 0.0 0.00048574567964616865]\n",
       ")\n"
      ]
     },
     "metadata": {},
     "output_type": "display_data"
    }
   ],
   "source": [
    "obs_distributions(hmm_est)"
   ]
  },
  {
   "cell_type": "markdown",
   "metadata": {},
   "source": [
    "#### HMM on scenarios"
   ]
  },
  {
   "cell_type": "code",
   "execution_count": 328,
   "metadata": {},
   "outputs": [
    {
     "data": {
      "text/plain": [
       "50000×1 reshape(transpose(::Matrix{Float64}), 50000, 1) with eltype Float64:\n",
       "  0.183608\n",
       "  0.040727\n",
       "  0.130638\n",
       "  0.167958\n",
       " -0.178384\n",
       "  0.032183\n",
       "  0.122386\n",
       " -0.049013\n",
       " -0.230813\n",
       " -0.230181\n",
       "  ⋮\n",
       " -0.167158\n",
       " -0.16384\n",
       "  0.079\n",
       "  0.037215\n",
       " -0.039934\n",
       " -0.097223\n",
       "  0.129483\n",
       "  0.165093\n",
       "  0.100469"
      ]
     },
     "metadata": {},
     "output_type": "display_data"
    }
   ],
   "source": [
    "simulated_ACWI = Matrix(CSV.read(\"../sb_gbi/equity_scenarios.csv\",DataFrame))[1:1000,:]\n",
    "simulated_ACWI = reshape(transpose(simulated_ACWI),(50000,1))"
   ]
  },
  {
   "cell_type": "code",
   "execution_count": 327,
   "metadata": {},
   "outputs": [
    {
     "data": {
      "text/plain": [
       "50000×1 reshape(transpose(::Matrix{Float64}), 50000, 1) with eltype Float64:\n",
       " 0.035158\n",
       " 0.031416\n",
       " 0.046096\n",
       " 0.018379\n",
       " 0.043002\n",
       " 0.029849\n",
       " 0.043892\n",
       " 0.033638\n",
       " 0.027528\n",
       " 0.079481\n",
       " ⋮\n",
       " 0.03732\n",
       " 0.083623\n",
       " 0.079181\n",
       " 0.114893\n",
       " 0.110842\n",
       " 0.077726\n",
       " 0.048074\n",
       " 0.026433\n",
       " 0.033942"
      ]
     },
     "metadata": {},
     "output_type": "display_data"
    }
   ],
   "source": [
    "inflation = Matrix(CSV.read(\"../sb_gbi/inflation_scenarios.csv\", DataFrame))[1:1000,2:end]\n",
    "edo= reshape(transpose(inflation),(50000,1))"
   ]
  },
  {
   "cell_type": "code",
   "execution_count": 331,
   "metadata": {},
   "outputs": [
    {
     "data": {
      "text/plain": [
       "50000×2 Matrix{Float64}:\n",
       "  0.183608  0.035158\n",
       "  0.040727  0.031416\n",
       "  0.130638  0.046096\n",
       "  0.167958  0.018379\n",
       " -0.178384  0.043002\n",
       "  0.032183  0.029849\n",
       "  0.122386  0.043892\n",
       " -0.049013  0.033638\n",
       " -0.230813  0.027528\n",
       " -0.230181  0.079481\n",
       "  ⋮         \n",
       " -0.167158  0.03732\n",
       " -0.16384   0.083623\n",
       "  0.079     0.079181\n",
       "  0.037215  0.114893\n",
       " -0.039934  0.110842\n",
       " -0.097223  0.077726\n",
       "  0.129483  0.048074\n",
       "  0.165093  0.026433\n",
       "  0.100469  0.033942"
      ]
     },
     "metadata": {},
     "output_type": "display_data"
    }
   ],
   "source": [
    "returns = cat(simulated_ACWI,edo,dims=2)"
   ]
  },
  {
   "cell_type": "code",
   "execution_count": 334,
   "metadata": {},
   "outputs": [
    {
     "data": {
      "text/plain": [
       "50000-element Vector{Vector{Float64}}:\n",
       " [0.183608, 0.035158]\n",
       " [0.040727, 0.031416]\n",
       " [0.130638, 0.046096]\n",
       " [0.167958, 0.018379]\n",
       " [-0.178384, 0.043002]\n",
       " [0.032183, 0.029849]\n",
       " [0.122386, 0.043892]\n",
       " [-0.049013, 0.033638]\n",
       " [-0.230813, 0.027528]\n",
       " [-0.230181, 0.079481]\n",
       " ⋮\n",
       " [-0.167158, 0.03732]\n",
       " [-0.16384, 0.083623]\n",
       " [0.079, 0.079181]\n",
       " [0.037215, 0.114893]\n",
       " [-0.039934, 0.110842]\n",
       " [-0.097223, 0.077726]\n",
       " [0.129483, 0.048074]\n",
       " [0.165093, 0.026433]\n",
       " [0.100469, 0.033942]"
      ]
     },
     "metadata": {},
     "output_type": "display_data"
    }
   ],
   "source": [
    "returns = [returns[i,:] for i in 1:size(returns,1)]"
   ]
  },
  {
   "cell_type": "code",
   "execution_count": 345,
   "metadata": {},
   "outputs": [
    {
     "data": {
      "text/plain": [
       "8"
      ]
     },
     "metadata": {},
     "output_type": "display_data"
    }
   ],
   "source": [
    "n_scenarios = 8"
   ]
  },
  {
   "cell_type": "code",
   "execution_count": 336,
   "metadata": {},
   "outputs": [
    {
     "data": {
      "text/plain": [
       "4×4 Matrix{Float64}:\n",
       " 0.115183  0.387435  0.235602   0.26178\n",
       " 0.215827  0.28777   0.151079   0.345324\n",
       " 0.178771  0.435754  0.0614525  0.324022\n",
       " 0.176056  0.309859  0.204225   0.309859"
      ]
     },
     "metadata": {},
     "output_type": "display_data"
    }
   ],
   "source": [
    "function guess_init(n_scenarios)\n",
    "    regimes_probs = rand(1:100,n_scenarios)\n",
    "    return regimes_probs/sum(regimes_probs)\n",
    "end\n",
    "\n",
    "function guess_tmatrix(n_scenarios)\n",
    "    regimes_probs = rand(1:100,n_scenarios,n_scenarios)\n",
    "    return regimes_probs ./ sum(regimes_probs,dims=2)\n",
    "end\n",
    "\n",
    "guess_tmatrix(4)"
   ]
  },
  {
   "cell_type": "code",
   "execution_count": 309,
   "metadata": {},
   "outputs": [
    {
     "data": {
      "text/plain": [
       "1×2 Matrix{Int64}:\n",
       " 4  6"
      ]
     },
     "metadata": {},
     "output_type": "display_data"
    }
   ],
   "source": [
    "x = [1 2; 3 4]\n",
    "sum(x,dims=1)"
   ]
  },
  {
   "cell_type": "code",
   "execution_count": 271,
   "metadata": {},
   "outputs": [
    {
     "data": {
      "text/plain": [
       "FullNormal(\n",
       "dim: 2\n",
       "μ: [-0.4682975640736762, 0.10606126486839945]\n",
       "Σ: [0.004287247891805659 0.0; 0.0 0.0006856618250164061]\n",
       ")\n"
      ]
     },
     "metadata": {},
     "output_type": "display_data"
    }
   ],
   "source": [
    "function guess_distribution()\n",
    "    corr = Matrix(1.0I,2,2)\n",
    "    sigma = [rand(Uniform(0,0.25)),rand(Uniform(0,0.035))]\n",
    "    means = [rand(Uniform(-0.5,0.5)),rand(Uniform(-0.01,0.12))]\n",
    "    cov = cor2cov(corr,sigma)\n",
    "    return MvNormal(means,cov)\n",
    "end\n",
    "\n",
    "guess_distribution()"
   ]
  },
  {
   "cell_type": "code",
   "execution_count": 302,
   "metadata": {},
   "outputs": [
    {
     "data": {
      "text/plain": [
       "4×1 Matrix{Matrix{Float64}}:\n",
       " [0.11347517730496454; 0.524822695035461; 0.2198581560283688; 0.14184397163120568;;]\n",
       " [0.46368715083798884; 0.07262569832402235; 0.2905027932960894; 0.17318435754189945;;]\n",
       " [0.2052401746724891; 0.4104803493449782; 0.33624454148471616; 0.048034934497816595;;]\n",
       " [0.3357664233576642; 0.2773722627737226; 0.3613138686131387; 0.025547445255474453;;]"
      ]
     },
     "metadata": {},
     "output_type": "display_data"
    }
   ],
   "source": [
    "guess_matrix = [guess_tmatrix(n_scenarios) for s in 1:n_scenarios][:,:]"
   ]
  },
  {
   "cell_type": "code",
   "execution_count": 413,
   "metadata": {},
   "outputs": [
    {
     "data": {
      "text/plain": [
       "8"
      ]
     },
     "metadata": {},
     "output_type": "display_data"
    }
   ],
   "source": [
    "n_scenarios = 8"
   ]
  },
  {
   "cell_type": "code",
   "execution_count": 414,
   "metadata": {},
   "outputs": [
    {
     "name": "stdout",
     "output_type": "stream",
     "text": [
      "Hidden Markov Model with:\n",
      " - initialization: [0.12813370473537605, 0.08913649025069638, 0.21727019498607242, 0.11977715877437325, 0.14484679665738162, 0.10863509749303621, 0.011142061281337047, 0.181058495821727]\n",
      " - transition matrix: [0.17429193899782136 0.1830065359477124 0.1721132897603486 0.11982570806100218 0.11328976034858387 0.15904139433551198 0.05010893246187364 0.02832244008714597; 0.22350230414746544 0.013824884792626729 0.06912442396313365 0.1336405529953917 0.08064516129032258 0.10599078341013825 0.14285714285714285 0.2304147465437788; 0.13164556962025317 0.1949367088607595 0.11139240506329114 0.10126582278481013 0.043037974683544304 0.1670886075949367 0.020253164556962026 0.23037974683544304; 0.17207792207792208 0.25 0.17532467532467533 0.17857142857142858 0.048701298701298704 0.1266233766233766 0.01948051948051948 0.02922077922077922; 0.10677083333333333 0.10416666666666667 0.19010416666666666 0.046875 0.18489583333333334 0.0546875 0.203125 0.109375; 0.16955684007707128 0.10404624277456648 0.1233140655105973 0.10789980732177264 0.17726396917148363 0.17533718689788053 0.05973025048169557 0.08285163776493257; 0.0889423076923077 0.09615384615384616 0.09134615384615384 0.057692307692307696 0.19951923076923078 0.23076923076923078 0.21394230769230768 0.021634615384615384; 0.04664723032069971 0.10204081632653061 0.06997084548104957 0.18075801749271136 0.21282798833819241 0.037900874635568516 0.10787172011661808 0.24198250728862974]\n",
      " - observation distributions: [FullNormal(\n",
      "dim: 2\n",
      "μ: [-0.34130212776869095, 0.05021157261421861]\n",
      "Σ: [4.979652200636536e-5 0.0; 0.0 5.711882466521373e-6]\n",
      ")\n",
      ", FullNormal(\n",
      "dim: 2\n",
      "μ: [0.113140367970202, -0.000350358447084264]\n",
      "Σ: [0.027237321636034272 0.0; 0.0 0.0006951202315246119]\n",
      ")\n",
      ", FullNormal(\n",
      "dim: 2\n",
      "μ: [0.031355896095685565, 0.05524741681220164]\n",
      "Σ: [0.011916838128973624 0.0; 0.0 0.0009842462180516722]\n",
      ")\n",
      ", FullNormal(\n",
      "dim: 2\n",
      "μ: [-0.07110389181766075, -0.008980431613707363]\n",
      "Σ: [0.04422718135612505 0.0; 0.0 0.0004204265176312154]\n",
      ")\n",
      ", FullNormal(\n",
      "dim: 2\n",
      "μ: [-0.011991568713021206, 0.0857672157714215]\n",
      "Σ: [0.01750733619811936 0.0; 0.0 0.00027660291324261107]\n",
      ")\n",
      ", FullNormal(\n",
      "dim: 2\n",
      "μ: [-0.11442563184970334, 0.09837419798931443]\n",
      "Σ: [0.02600472742636157 0.0; 0.0 7.440475676526456e-5]\n",
      ")\n",
      ", FullNormal(\n",
      "dim: 2\n",
      "μ: [0.12878523974375866, 0.07963823772071786]\n",
      "Σ: [0.0219686608643014 0.0; 0.0 0.0007933490355791731]\n",
      ")\n",
      ", FullNormal(\n",
      "dim: 2\n",
      "μ: [0.006824513971310786, 0.11169988592329533]\n",
      "Σ: [0.03643627059438328 0.0; 0.0 0.0002569065424338709]\n",
      ")\n",
      "]\n"
     ]
    }
   ],
   "source": [
    "init_guess = guess_init(n_scenarios)\n",
    "guess_matrix = guess_tmatrix(n_scenarios)\n",
    "guess_dist = [guess_distribution() for s in 1:n_scenarios]\n",
    "hmm_guess = HMM(init_guess, guess_matrix, guess_dist);\n",
    "println(hmm_guess)"
   ]
  },
  {
   "cell_type": "code",
   "execution_count": 415,
   "metadata": {},
   "outputs": [],
   "source": [
    "hmm_est_concat, _ = baum_welch(hmm_guess, returns);"
   ]
  },
  {
   "cell_type": "code",
   "execution_count": 416,
   "metadata": {},
   "outputs": [
    {
     "data": {
      "text/plain": [
       "8×8 Matrix{Float64}:\n",
       " 0.124894    0.0778872  0.364417   …  0.0012784    0.00396535  1.99943e-5\n",
       " 0.00517672  0.210788   0.241252      0.00110419   0.213919    0.00141429\n",
       " 0.00607577  0.262033   0.338491      0.00636439   0.0719698   0.0147117\n",
       " 0.0025987   0.272332   0.19364       0.000329305  0.0897576   0.0010582\n",
       " 0.00661068  0.0485615  0.241535      0.0263314    0.231744    0.07482\n",
       " 2.33756e-5  0.0274464  0.146455   …  0.131038     0.173441    0.121758\n",
       " 8.22636e-5  0.116186   0.165916      0.0340987    0.449113    0.0174527\n",
       " 8.52012e-7  0.0371716  0.0768737     0.052661     0.218088    0.394288"
      ]
     },
     "metadata": {},
     "output_type": "display_data"
    }
   ],
   "source": [
    "transition_matrix(hmm_est_concat)"
   ]
  },
  {
   "cell_type": "code",
   "execution_count": 417,
   "metadata": {},
   "outputs": [
    {
     "data": {
      "text/plain": [
       "8-element Vector{FullNormal}:\n",
       " FullNormal(\n",
       "dim: 2\n",
       "μ: [-0.2870289938238464, 0.04038257697366846]\n",
       "Σ: [0.0015098833411718228 -0.00023224108192998577; -0.00023224108192998577 0.00027245047146650324]\n",
       ")\n",
       "\n",
       " FullNormal(\n",
       "dim: 2\n",
       "μ: [0.09743041957177664, 0.023627291841069813]\n",
       "Σ: [0.02264085374741083 4.011535373175166e-5; 4.011535373175166e-5 4.888966658536926e-5]\n",
       ")\n",
       "\n",
       " FullNormal(\n",
       "dim: 2\n",
       "μ: [0.05075159098217517, 0.03944159751197723]\n",
       "Σ: [0.027882740736259612 9.466614628477535e-5; 9.466614628477535e-5 0.0001415836773600475]\n",
       ")\n",
       "\n",
       " FullNormal(\n",
       "dim: 2\n",
       "μ: [0.08085442741766322, 0.012299999999998711]\n",
       "Σ: [0.02503255696613832 4.1535086663141225e-31; 4.1535086663141225e-31 1.6612620310453574e-30]\n",
       ")\n",
       "\n",
       " FullNormal(\n",
       "dim: 2\n",
       "μ: [0.007180478306713866, 0.06568102679492421]\n",
       "Σ: [0.025270089225719387 0.00042801217240780106; 0.00042801217240780106 0.00020258906151481368]\n",
       ")\n",
       "\n",
       " FullNormal(\n",
       "dim: 2\n",
       "μ: [0.021842174635699554, 0.08832061282552156]\n",
       "Σ: [0.026487472671298487 7.631210798899707e-5; 7.631210798899707e-5 0.000112894506243901]\n",
       ")\n",
       "\n",
       " FullNormal(\n",
       "dim: 2\n",
       "μ: [0.14564540911946344, 0.0529343847805527]\n",
       "Σ: [0.01294322006889209 3.995170155419444e-5; 3.995170155419444e-5 0.00021252483167232567]\n",
       ")\n",
       "\n",
       " FullNormal(\n",
       "dim: 2\n",
       "μ: [0.13310253631978025, 0.08976867058940229]\n",
       "Σ: [0.023127952271895905 -0.000751108362470447; -0.000751108362470447 0.0003281926501206454]\n",
       ")\n"
      ]
     },
     "metadata": {},
     "output_type": "display_data"
    }
   ],
   "source": [
    "obs_distributions(hmm_est_concat)"
   ]
  },
  {
   "cell_type": "code",
   "execution_count": 487,
   "metadata": {},
   "outputs": [
    {
     "data": {
      "text/plain": [
       "0.28867513459481287"
      ]
     },
     "metadata": {},
     "output_type": "display_data"
    }
   ],
   "source": [
    "dt = sqrt(1/12)"
   ]
  },
  {
   "cell_type": "code",
   "execution_count": 489,
   "metadata": {},
   "outputs": [
    {
     "name": "stdout",
     "output_type": "stream",
     "text": [
      "Hidden Markov Model with:\n",
      " - initialization: [0.3509933774834437, 0.08609271523178808, 0.18543046357615894, 0.37748344370860926]\n",
      " - transition matrix: [0.43636363636363634 0.3151515151515151 0.13333333333333333 0.11515151515151516; 0.379746835443038 0.21518987341772153 0.3628691983122363 0.04219409282700422; 0.10179640718562874 0.1497005988023952 0.32335329341317365 0.4251497005988024; 0.23684210526315788 0.15789473684210525 0.5789473684210527 0.02631578947368421]\n",
      " - observation distributions: [Normal{Float64}(μ=-0.020833333333333332, σ=0.057735026918962574), Normal{Float64}(μ=0.0, σ=0.028867513459481287), Normal{Float64}(μ=0.016666666666666666, σ=0.028867513459481287), Normal{Float64}(μ=0.024166666666666666, σ=0.057735026918962574)]\n"
     ]
    }
   ],
   "source": [
    "n_scenarios = 4\n",
    "\n",
    "init_guess = guess_init(n_scenarios)\n",
    "guess_matrix = guess_tmatrix(n_scenarios)\n",
    "guess_dist = [Normal(-0.25/12,0.2*dt),Normal(0.0/12,0.1*dt),Normal(0.2/12,0.1*dt),Normal(0.29/12,0.2*dt)]\n",
    "hmm_guess = HMM(init_guess, guess_matrix, guess_dist);\n",
    "println(hmm_guess)"
   ]
  },
  {
   "cell_type": "code",
   "execution_count": 490,
   "metadata": {},
   "outputs": [],
   "source": [
    "hmm_est_acwi, _ = baum_welch(hmm_guess, acwi.ACWI);"
   ]
  },
  {
   "cell_type": "code",
   "execution_count": 491,
   "metadata": {},
   "outputs": [
    {
     "data": {
      "text/plain": [
       "4×4 Matrix{Float64}:\n",
       " 0.923315    2.13206e-5  0.0766638  1.29378e-9\n",
       " 0.424579    0.0022659   0.573134   2.1781e-5\n",
       " 6.8342e-6   0.0115333   0.491766   0.496694\n",
       " 0.00163101  0.386883    0.610195   0.00129055"
      ]
     },
     "metadata": {},
     "output_type": "display_data"
    }
   ],
   "source": [
    "transition_matrix(hmm_est_acwi)"
   ]
  },
  {
   "cell_type": "code",
   "execution_count": 492,
   "metadata": {},
   "outputs": [
    {
     "data": {
      "text/plain": [
       "4-element Vector{Float64}:\n",
       "  0.001041078203392006\n",
       " -0.10824173729011502\n",
       "  0.3335081424409114\n",
       " -0.13867385512961183"
      ]
     },
     "metadata": {},
     "output_type": "display_data"
    }
   ],
   "source": [
    "mean.(obs_distributions(hmm_est_acwi)) .* 12"
   ]
  },
  {
   "cell_type": "code",
   "execution_count": 493,
   "metadata": {},
   "outputs": [
    {
     "data": {
      "text/plain": [
       "4-element Vector{Float64}:\n",
       " 0.20674763970848187\n",
       " 0.05621377894130931\n",
       " 0.0647863067897706\n",
       " 0.09070018137218788"
      ]
     },
     "metadata": {},
     "output_type": "display_data"
    }
   ],
   "source": [
    "std.(obs_distributions(hmm_est_acwi)) .* sqrt(12)"
   ]
  }
 ],
 "metadata": {
  "kernelspec": {
   "display_name": "Julia 1.10.2",
   "language": "julia",
   "name": "julia-1.10"
  },
  "language_info": {
   "file_extension": ".jl",
   "mimetype": "application/julia",
   "name": "julia",
   "version": "1.10.2"
  }
 },
 "nbformat": 4,
 "nbformat_minor": 2
}
