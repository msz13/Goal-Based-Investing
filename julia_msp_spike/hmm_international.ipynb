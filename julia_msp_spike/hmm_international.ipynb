{
 "cells": [
  {
   "cell_type": "code",
   "execution_count": 1,
   "metadata": {},
   "outputs": [
    {
     "data": {
      "text/plain": [
       "regime_summary (generic function with 1 method)"
      ]
     },
     "metadata": {},
     "output_type": "display_data"
    }
   ],
   "source": [
    "using XLSX\n",
    "using DataFrames, TimeSeries\n",
    "using StatsPlots\n",
    "using Plots\n",
    "using LinearAlgebra\n",
    "using CSV\n",
    "using StatsBase\n",
    "using GLM\n",
    "include(\"utils.jl\")\n",
    "include(\"hmm_est.jl\")"
   ]
  },
  {
   "cell_type": "code",
   "execution_count": 2,
   "metadata": {},
   "outputs": [
    {
     "data": {
      "text/plain": [
       "435×4 TimeArray{Float64, 2, Date, Matrix{Float64}} 1988-01-31 to 2024-03-31\n",
       "┌────────────┬────────────┬──────────────┬─────────────┬─────────────┐\n",
       "│\u001b[1m            \u001b[0m│\u001b[1m USA_Net    \u001b[0m│\u001b[1m World_ex_USA \u001b[0m│\u001b[1m EM_Net      \u001b[0m│\u001b[1m ACWI_Net    \u001b[0m│\n",
       "├────────────┼────────────┼──────────────┼─────────────┼─────────────┤\n",
       "│ 1988-01-31 │  0.0410122 │    0.0153553 │   0.0935834 │   0.0246253 │\n",
       "│ 1988-02-29 │  0.0401109 │    0.0640862 │   0.0031132 │   0.0560778 │\n",
       "│ 1988-03-31 │ -0.0349774 │    0.0592025 │     0.10175 │   0.0302388 │\n",
       "│ 1988-04-30 │ 0.00818061 │    0.0140195 │   0.0517417 │   0.0125024 │\n",
       "│ 1988-05-31 │ 0.00760205 │   -0.0326806 │   0.0292525 │  -0.0201209 │\n",
       "│ 1988-06-30 │  0.0445733 │   -0.0229028 │   0.0331365 │ -0.00119203 │\n",
       "│ 1988-07-31 │ -0.0040323 │    0.0288082 │  -0.0260317 │     0.01818 │\n",
       "│ 1988-08-31 │  -0.035096 │   -0.0667177 │  -0.0274362 │  -0.0566908 │\n",
       "│     ⋮      │     ⋮      │      ⋮       │      ⋮      │      ⋮      │\n",
       "│ 2023-09-30 │ -0.0483353 │   -0.0342956 │  -0.0264995 │   -0.042229 │\n",
       "│ 2023-10-31 │ -0.0235616 │   -0.0431263 │   -0.039629 │   -0.030529 │\n",
       "│ 2023-11-30 │  0.0895259 │    0.0898198 │   0.0769883 │   0.0882833 │\n",
       "│ 2023-12-31 │  0.0456572 │    0.0532219 │   0.0383487 │   0.0469154 │\n",
       "│ 2024-01-31 │  0.0151977 │   0.00429701 │  -0.0475452 │  0.00584454 │\n",
       "│ 2024-02-29 │  0.0518111 │    0.0169284 │    0.046475 │   0.0420184 │\n",
       "│ 2024-03-31 │  0.0309855 │    0.0331842 │   0.0244778 │   0.0309141 │\n",
       "└────────────┴────────────┴──────────────┴─────────────┴─────────────┘\n",
       "\u001b[36m                                                      420 rows omitted\u001b[0m"
      ]
     },
     "metadata": {},
     "output_type": "display_data"
    }
   ],
   "source": [
    "#columns = [:Date, :USA_Net, :World_ex_USA, :EM_Net, :ACWI_Net]\n",
    "columns = [:Date, :USA_Net, :World_ex_USA, :EM_Net, :ACWI_Net]\n",
    "assets = [:USA_Net, :World_ex_USA, :EM_Net]\n",
    "data_df = DataFrame(XLSX.readtable(\"data/assets_data_03.24.xlsx\", \"Indexes\"; infer_eltypes=true))[2:end, columns]\n",
    "dropmissing!(data_df, disallowmissing=true)\n",
    "returns_usd = data_df |> \n",
    "            x -> TimeArray(x; timestamp = :Date) |> \n",
    "            x -> percentchange(x, :log)"
   ]
  },
  {
   "cell_type": "code",
   "execution_count": 3,
   "metadata": {},
   "outputs": [
    {
     "data": {
      "text/plain": [
       "417×3 TimeArray{Float64, 2, Date, Matrix{Float64}} 1988-01-31 to 2022-09-30\n",
       "┌────────────┬─────────────┬──────────────┬─────────────┐\n",
       "│\u001b[1m            \u001b[0m│\u001b[1m USA_Net     \u001b[0m│\u001b[1m World_ex_USA \u001b[0m│\u001b[1m EM_Net      \u001b[0m│\n",
       "├────────────┼─────────────┼──────────────┼─────────────┤\n",
       "│ 1988-01-31 │   0.0410122 │    0.0153553 │   0.0935834 │\n",
       "│ 1988-02-29 │   0.0401109 │    0.0640862 │   0.0031132 │\n",
       "│ 1988-03-31 │  -0.0349774 │    0.0592025 │     0.10175 │\n",
       "│ 1988-04-30 │  0.00818061 │    0.0140195 │   0.0517417 │\n",
       "│ 1988-05-31 │  0.00760205 │   -0.0326806 │   0.0292525 │\n",
       "│ 1988-06-30 │   0.0445733 │   -0.0229028 │   0.0331365 │\n",
       "│ 1988-07-31 │  -0.0040323 │    0.0288082 │  -0.0260317 │\n",
       "│ 1988-08-31 │   -0.035096 │   -0.0667177 │  -0.0274362 │\n",
       "│     ⋮      │      ⋮      │      ⋮       │      ⋮      │\n",
       "│ 2022-03-31 │     0.03417 │    0.0115373 │  -0.0228443 │\n",
       "│ 2022-04-30 │  -0.0952756 │   -0.0679247 │  -0.0572341 │\n",
       "│ 2022-05-31 │ -0.00270982 │    0.0082682 │   0.0043937 │\n",
       "│ 2022-06-30 │  -0.0868359 │   -0.0988188 │  -0.0687611 │\n",
       "│ 2022-07-31 │   0.0888659 │    0.0485227 │ -0.00245985 │\n",
       "│ 2022-08-31 │  -0.0404618 │   -0.0478424 │   0.0041668 │\n",
       "│ 2022-09-30 │  -0.0977404 │   -0.0971375 │   -0.124694 │\n",
       "└────────────┴─────────────┴──────────────┴─────────────┘\n",
       "\u001b[36m                                         402 rows omitted\u001b[0m"
      ]
     },
     "metadata": {},
     "output_type": "display_data"
    }
   ],
   "source": [
    "period_returns = returns_usd[assets] |> x -> from(x, Date(1987, 12,1 )) |> x -> to(x, Date(2022,09,30))"
   ]
  },
  {
   "cell_type": "code",
   "execution_count": 4,
   "metadata": {},
   "outputs": [
    {
     "data": {
      "text/plain": [
       "4-element Vector{Symbol}:\n",
       " :USA_Net\n",
       " :World_ex_USA\n",
       " :EM_Net\n",
       " :ACWI_Net"
      ]
     },
     "metadata": {},
     "output_type": "display_data"
    }
   ],
   "source": [
    "[assets; :ACWI_Net]"
   ]
  },
  {
   "cell_type": "code",
   "execution_count": 5,
   "metadata": {},
   "outputs": [
    {
     "data": {
      "text/html": [
       "<table>\n",
       "  <thead>\n",
       "    <tr class = \"header headerLastRow\">\n",
       "      <th class = \"rowLabel\" style = \"font-weight: bold; text-align: right;\"></th>\n",
       "      <th style = \"text-align: right;\">std</th>\n",
       "      <th style = \"text-align: right;\">max</th>\n",
       "      <th style = \"text-align: right;\">mean</th>\n",
       "      <th style = \"text-align: right;\">p75th</th>\n",
       "      <th style = \"text-align: right;\">min</th>\n",
       "      <th style = \"text-align: right;\">skewness</th>\n",
       "      <th style = \"text-align: right;\">p25th</th>\n",
       "      <th style = \"text-align: right;\">autocor</th>\n",
       "      <th style = \"text-align: right;\">kurtosis</th>\n",
       "      <th style = \"text-align: right;\">sr</th>\n",
       "      <th style = \"text-align: right;\">median</th>\n",
       "    </tr>\n",
       "  </thead>\n",
       "  <tbody>\n",
       "    <tr>\n",
       "      <td class = \"rowLabel\" style = \"font-weight: bold; text-align: right;\">USA_Net</td>\n",
       "      <td style = \"text-align: right;\">0.1507</td>\n",
       "      <td style = \"text-align: right;\">1.246</td>\n",
       "      <td style = \"text-align: right;\">0.0676</td>\n",
       "      <td style = \"text-align: right;\">0.4027</td>\n",
       "      <td style = \"text-align: right;\">-2.257</td>\n",
       "      <td style = \"text-align: right;\">-0.84</td>\n",
       "      <td style = \"text-align: right;\">-0.2075</td>\n",
       "      <td style = \"text-align: right;\">0.0703</td>\n",
       "      <td style = \"text-align: right;\">1.6368</td>\n",
       "      <td style = \"text-align: right;\">0.4485</td>\n",
       "      <td style = \"text-align: right;\">0.1412</td>\n",
       "    </tr>\n",
       "    <tr>\n",
       "      <td class = \"rowLabel\" style = \"font-weight: bold; text-align: right;\">World_ex_USA</td>\n",
       "      <td style = \"text-align: right;\">0.1653</td>\n",
       "      <td style = \"text-align: right;\">1.4555</td>\n",
       "      <td style = \"text-align: right;\">0.0499</td>\n",
       "      <td style = \"text-align: right;\">0.4126</td>\n",
       "      <td style = \"text-align: right;\">-2.7986</td>\n",
       "      <td style = \"text-align: right;\">-0.913</td>\n",
       "      <td style = \"text-align: right;\">-0.2363</td>\n",
       "      <td style = \"text-align: right;\">0.1497</td>\n",
       "      <td style = \"text-align: right;\">2.4191</td>\n",
       "      <td style = \"text-align: right;\">0.3017</td>\n",
       "      <td style = \"text-align: right;\">0.1038</td>\n",
       "    </tr>\n",
       "    <tr>\n",
       "      <td class = \"rowLabel\" style = \"font-weight: bold; text-align: right;\">EM_Net</td>\n",
       "      <td style = \"text-align: right;\">0.233</td>\n",
       "      <td style = \"text-align: right;\">1.893</td>\n",
       "      <td style = \"text-align: right;\">0.0684</td>\n",
       "      <td style = \"text-align: right;\">0.5702</td>\n",
       "      <td style = \"text-align: right;\">-4.1</td>\n",
       "      <td style = \"text-align: right;\">-1.0973</td>\n",
       "      <td style = \"text-align: right;\">-0.3213</td>\n",
       "      <td style = \"text-align: right;\">0.1423</td>\n",
       "      <td style = \"text-align: right;\">3.896</td>\n",
       "      <td style = \"text-align: right;\">0.2936</td>\n",
       "      <td style = \"text-align: right;\">0.1038</td>\n",
       "    </tr>\n",
       "  </tbody>\n",
       "</table>\n"
      ]
     },
     "metadata": {},
     "output_type": "display_data"
    }
   ],
   "source": [
    "period_returns = returns_usd[assets] |> x -> from(x, Date(1998, 01, 01 )) |> x -> to(x, Date(2019,12,31))\n",
    "returns_summarystats(period_returns, 12)"
   ]
  },
  {
   "cell_type": "code",
   "execution_count": 6,
   "metadata": {},
   "outputs": [
    {
     "name": "stdout",
     "output_type": "stream",
     "text": [
      "Means\n",
      "Standard deviations\n",
      "Regimes transition matrix\n"
     ]
    },
    {
     "data": {
      "text/html": [
       "<table>\n",
       "  <thead>\n",
       "    <tr class = \"header headerLastRow\">\n",
       "      <th class = \"rowNumber\" style = \"font-weight: bold; text-align: right;\">Regime</th>\n",
       "      <th style = \"text-align: right;\">USA_Net</th>\n",
       "      <th style = \"text-align: right;\">World_ex_USA</th>\n",
       "      <th style = \"text-align: right;\">EM_Net</th>\n",
       "    </tr>\n",
       "  </thead>\n",
       "  <tbody>\n",
       "    <tr>\n",
       "      <td class = \"rowNumber\" style = \"font-weight: bold; text-align: right;\">1</td>\n",
       "      <td style = \"text-align: right;\">0.111</td>\n",
       "      <td style = \"text-align: right;\">0.073</td>\n",
       "      <td style = \"text-align: right;\">0.152</td>\n",
       "    </tr>\n",
       "    <tr>\n",
       "      <td class = \"rowNumber\" style = \"font-weight: bold; text-align: right;\">2</td>\n",
       "      <td style = \"text-align: right;\">-0.031</td>\n",
       "      <td style = \"text-align: right;\">-0.075</td>\n",
       "      <td style = \"text-align: right;\">-0.058</td>\n",
       "    </tr>\n",
       "    <tr>\n",
       "      <td class = \"rowNumber\" style = \"font-weight: bold; text-align: right;\">3</td>\n",
       "      <td style = \"text-align: right;\">0.323</td>\n",
       "      <td style = \"text-align: right;\">0.485</td>\n",
       "      <td style = \"text-align: right;\">0.301</td>\n",
       "    </tr>\n",
       "  </tbody>\n",
       "</table>\n"
      ]
     },
     "metadata": {},
     "output_type": "display_data"
    },
    {
     "data": {
      "text/html": [
       "<table>\n",
       "  <thead>\n",
       "    <tr class = \"header headerLastRow\">\n",
       "      <th class = \"rowNumber\" style = \"font-weight: bold; text-align: right;\">Regime</th>\n",
       "      <th style = \"text-align: right;\">USA_Net</th>\n",
       "      <th style = \"text-align: right;\">World_ex_USA</th>\n",
       "      <th style = \"text-align: right;\">EM_Net</th>\n",
       "    </tr>\n",
       "  </thead>\n",
       "  <tbody>\n",
       "    <tr>\n",
       "      <td class = \"rowNumber\" style = \"font-weight: bold; text-align: right;\">1</td>\n",
       "      <td style = \"text-align: right;\">0.080</td>\n",
       "      <td style = \"text-align: right;\">0.091</td>\n",
       "      <td style = \"text-align: right;\">0.156</td>\n",
       "    </tr>\n",
       "    <tr>\n",
       "      <td class = \"rowNumber\" style = \"font-weight: bold; text-align: right;\">2</td>\n",
       "      <td style = \"text-align: right;\">0.195</td>\n",
       "      <td style = \"text-align: right;\">0.209</td>\n",
       "      <td style = \"text-align: right;\">0.295</td>\n",
       "    </tr>\n",
       "    <tr>\n",
       "      <td class = \"rowNumber\" style = \"font-weight: bold; text-align: right;\">3</td>\n",
       "      <td style = \"text-align: right;\">0.074</td>\n",
       "      <td style = \"text-align: right;\">0.057</td>\n",
       "      <td style = \"text-align: right;\">0.085</td>\n",
       "    </tr>\n",
       "  </tbody>\n",
       "</table>\n"
      ]
     },
     "metadata": {},
     "output_type": "display_data"
    },
    {
     "data": {
      "text/plain": [
       "\"Correlations in regime 1\""
      ]
     },
     "metadata": {},
     "output_type": "display_data"
    },
    {
     "data": {
      "text/html": [
       "<table>\n",
       "  <thead>\n",
       "    <tr class = \"header headerLastRow\">\n",
       "      <th class = \"rowLabel\" style = \"font-weight: bold; text-align: right;\"></th>\n",
       "      <th style = \"text-align: right;\">USA_Net</th>\n",
       "      <th style = \"text-align: right;\">World_ex_USA</th>\n",
       "      <th style = \"text-align: right;\">EM_Net</th>\n",
       "    </tr>\n",
       "  </thead>\n",
       "  <tbody>\n",
       "    <tr>\n",
       "      <td class = \"rowLabel\" style = \"font-weight: bold; text-align: right;\">USA_Net</td>\n",
       "      <td style = \"text-align: right;\">1.000</td>\n",
       "      <td style = \"text-align: right;\">0.702</td>\n",
       "      <td style = \"text-align: right;\">0.582</td>\n",
       "    </tr>\n",
       "    <tr>\n",
       "      <td class = \"rowLabel\" style = \"font-weight: bold; text-align: right;\">World_ex_USA</td>\n",
       "      <td style = \"text-align: right;\">0.702</td>\n",
       "      <td style = \"text-align: right;\">1.000</td>\n",
       "      <td style = \"text-align: right;\">0.887</td>\n",
       "    </tr>\n",
       "    <tr>\n",
       "      <td class = \"rowLabel\" style = \"font-weight: bold; text-align: right;\">EM_Net</td>\n",
       "      <td style = \"text-align: right;\">0.582</td>\n",
       "      <td style = \"text-align: right;\">0.887</td>\n",
       "      <td style = \"text-align: right;\">1.000</td>\n",
       "    </tr>\n",
       "  </tbody>\n",
       "</table>\n"
      ]
     },
     "metadata": {},
     "output_type": "display_data"
    },
    {
     "data": {
      "text/plain": [
       "\"Correlations in regime 2\""
      ]
     },
     "metadata": {},
     "output_type": "display_data"
    },
    {
     "data": {
      "text/html": [
       "<table>\n",
       "  <thead>\n",
       "    <tr class = \"header headerLastRow\">\n",
       "      <th class = \"rowLabel\" style = \"font-weight: bold; text-align: right;\"></th>\n",
       "      <th style = \"text-align: right;\">USA_Net</th>\n",
       "      <th style = \"text-align: right;\">World_ex_USA</th>\n",
       "      <th style = \"text-align: right;\">EM_Net</th>\n",
       "    </tr>\n",
       "  </thead>\n",
       "  <tbody>\n",
       "    <tr>\n",
       "      <td class = \"rowLabel\" style = \"font-weight: bold; text-align: right;\">USA_Net</td>\n",
       "      <td style = \"text-align: right;\">1.000</td>\n",
       "      <td style = \"text-align: right;\">0.888</td>\n",
       "      <td style = \"text-align: right;\">0.796</td>\n",
       "    </tr>\n",
       "    <tr>\n",
       "      <td class = \"rowLabel\" style = \"font-weight: bold; text-align: right;\">World_ex_USA</td>\n",
       "      <td style = \"text-align: right;\">0.888</td>\n",
       "      <td style = \"text-align: right;\">1.000</td>\n",
       "      <td style = \"text-align: right;\">0.846</td>\n",
       "    </tr>\n",
       "    <tr>\n",
       "      <td class = \"rowLabel\" style = \"font-weight: bold; text-align: right;\">EM_Net</td>\n",
       "      <td style = \"text-align: right;\">0.796</td>\n",
       "      <td style = \"text-align: right;\">0.846</td>\n",
       "      <td style = \"text-align: right;\">1.000</td>\n",
       "    </tr>\n",
       "  </tbody>\n",
       "</table>\n"
      ]
     },
     "metadata": {},
     "output_type": "display_data"
    },
    {
     "data": {
      "text/plain": [
       "\"Correlations in regime 3\""
      ]
     },
     "metadata": {},
     "output_type": "display_data"
    },
    {
     "data": {
      "text/html": [
       "<table>\n",
       "  <thead>\n",
       "    <tr class = \"header headerLastRow\">\n",
       "      <th class = \"rowLabel\" style = \"font-weight: bold; text-align: right;\"></th>\n",
       "      <th style = \"text-align: right;\">USA_Net</th>\n",
       "      <th style = \"text-align: right;\">World_ex_USA</th>\n",
       "      <th style = \"text-align: right;\">EM_Net</th>\n",
       "    </tr>\n",
       "  </thead>\n",
       "  <tbody>\n",
       "    <tr>\n",
       "      <td class = \"rowLabel\" style = \"font-weight: bold; text-align: right;\">USA_Net</td>\n",
       "      <td style = \"text-align: right;\">1.000</td>\n",
       "      <td style = \"text-align: right;\">0.777</td>\n",
       "      <td style = \"text-align: right;\">0.578</td>\n",
       "    </tr>\n",
       "    <tr>\n",
       "      <td class = \"rowLabel\" style = \"font-weight: bold; text-align: right;\">World_ex_USA</td>\n",
       "      <td style = \"text-align: right;\">0.777</td>\n",
       "      <td style = \"text-align: right;\">1.000</td>\n",
       "      <td style = \"text-align: right;\">0.753</td>\n",
       "    </tr>\n",
       "    <tr>\n",
       "      <td class = \"rowLabel\" style = \"font-weight: bold; text-align: right;\">EM_Net</td>\n",
       "      <td style = \"text-align: right;\">0.578</td>\n",
       "      <td style = \"text-align: right;\">0.753</td>\n",
       "      <td style = \"text-align: right;\">1.000</td>\n",
       "    </tr>\n",
       "  </tbody>\n",
       "</table>\n"
      ]
     },
     "metadata": {},
     "output_type": "display_data"
    },
    {
     "data": {
      "text/html": [
       "<table>\n",
       "  <thead>\n",
       "    <tr class = \"header headerLastRow\">\n",
       "      <th class = \"rowNumber\" style = \"font-weight: bold; text-align: right;\">Regime</th>\n",
       "      <th style = \"text-align: right;\">1</th>\n",
       "      <th style = \"text-align: right;\">2</th>\n",
       "      <th style = \"text-align: right;\">3</th>\n",
       "    </tr>\n",
       "  </thead>\n",
       "  <tbody>\n",
       "    <tr>\n",
       "      <td class = \"rowNumber\" style = \"font-weight: bold; text-align: right;\">1</td>\n",
       "      <td style = \"text-align: right;\">0.713</td>\n",
       "      <td style = \"text-align: right;\">0.063</td>\n",
       "      <td style = \"text-align: right;\">0.224</td>\n",
       "    </tr>\n",
       "    <tr>\n",
       "      <td class = \"rowNumber\" style = \"font-weight: bold; text-align: right;\">2</td>\n",
       "      <td style = \"text-align: right;\">0.000</td>\n",
       "      <td style = \"text-align: right;\">0.941</td>\n",
       "      <td style = \"text-align: right;\">0.059</td>\n",
       "    </tr>\n",
       "    <tr>\n",
       "      <td class = \"rowNumber\" style = \"font-weight: bold; text-align: right;\">3</td>\n",
       "      <td style = \"text-align: right;\">1.000</td>\n",
       "      <td style = \"text-align: right;\">0.000</td>\n",
       "      <td style = \"text-align: right;\">0.000</td>\n",
       "    </tr>\n",
       "  </tbody>\n",
       "</table>\n"
      ]
     },
     "metadata": {},
     "output_type": "display_data"
    }
   ],
   "source": [
    "hmm = hmm_est(period_returns, 3)\n",
    "regime_summary(hmm[1], assets, 12)\n"
   ]
  },
  {
   "cell_type": "code",
   "execution_count": 7,
   "metadata": {},
   "outputs": [
    {
     "data": {
      "text/html": [
       "<table>\n",
       "  <caption style = \"text-align: left;\">USA_Net</caption>\n",
       "  <thead>\n",
       "    <tr class = \"header headerLastRow\">\n",
       "      <th class = \"rowLabel\" style = \"font-weight: bold; text-align: right;\"></th>\n",
       "      <th style = \"text-align: right;\">1</th>\n",
       "      <th style = \"text-align: right;\">2</th>\n",
       "      <th style = \"text-align: right;\">3</th>\n",
       "      <th style = \"text-align: right;\">4</th>\n",
       "      <th style = \"text-align: right;\">5</th>\n",
       "      <th style = \"text-align: right;\">6</th>\n",
       "      <th style = \"text-align: right;\">7</th>\n",
       "      <th style = \"text-align: right;\">8</th>\n",
       "      <th style = \"text-align: right;\">9</th>\n",
       "      <th style = \"text-align: right;\">10</th>\n",
       "      <th style = \"text-align: right;\">11</th>\n",
       "      <th style = \"text-align: right;\">12</th>\n",
       "      <th style = \"text-align: right;\">13</th>\n",
       "      <th style = \"text-align: right;\">14</th>\n",
       "      <th style = \"text-align: right;\">15</th>\n",
       "    </tr>\n",
       "  </thead>\n",
       "  <tbody>\n",
       "    <tr>\n",
       "      <td class = \"rowLabel\" style = \"font-weight: bold; text-align: right;\">0.02</td>\n",
       "      <td style = \"text-align: right;\">-0.3831</td>\n",
       "      <td style = \"text-align: right;\">-0.3419</td>\n",
       "      <td style = \"text-align: right;\">-0.3295</td>\n",
       "      <td style = \"text-align: right;\">-0.328</td>\n",
       "      <td style = \"text-align: right;\">-0.3226</td>\n",
       "      <td style = \"text-align: right;\">-0.3224</td>\n",
       "      <td style = \"text-align: right;\">-0.3245</td>\n",
       "      <td style = \"text-align: right;\">-0.3207</td>\n",
       "      <td style = \"text-align: right;\">-0.3252</td>\n",
       "      <td style = \"text-align: right;\">-0.3248</td>\n",
       "      <td style = \"text-align: right;\">-0.3258</td>\n",
       "      <td style = \"text-align: right;\">-0.3251</td>\n",
       "      <td style = \"text-align: right;\">-0.326</td>\n",
       "      <td style = \"text-align: right;\">-0.3255</td>\n",
       "      <td style = \"text-align: right;\">-0.3264</td>\n",
       "    </tr>\n",
       "    <tr>\n",
       "      <td class = \"rowLabel\" style = \"font-weight: bold; text-align: right;\">0.05</td>\n",
       "      <td style = \"text-align: right;\">-0.3008</td>\n",
       "      <td style = \"text-align: right;\">-0.2531</td>\n",
       "      <td style = \"text-align: right;\">-0.237</td>\n",
       "      <td style = \"text-align: right;\">-0.2344</td>\n",
       "      <td style = \"text-align: right;\">-0.231</td>\n",
       "      <td style = \"text-align: right;\">-0.2321</td>\n",
       "      <td style = \"text-align: right;\">-0.2332</td>\n",
       "      <td style = \"text-align: right;\">-0.2324</td>\n",
       "      <td style = \"text-align: right;\">-0.2336</td>\n",
       "      <td style = \"text-align: right;\">-0.2328</td>\n",
       "      <td style = \"text-align: right;\">-0.2316</td>\n",
       "      <td style = \"text-align: right;\">-0.2345</td>\n",
       "      <td style = \"text-align: right;\">-0.2332</td>\n",
       "      <td style = \"text-align: right;\">-0.2362</td>\n",
       "      <td style = \"text-align: right;\">-0.2323</td>\n",
       "    </tr>\n",
       "    <tr>\n",
       "      <td class = \"rowLabel\" style = \"font-weight: bold; text-align: right;\">0.25</td>\n",
       "      <td style = \"text-align: right;\">-0.101</td>\n",
       "      <td style = \"text-align: right;\">-0.0405</td>\n",
       "      <td style = \"text-align: right;\">-0.0211</td>\n",
       "      <td style = \"text-align: right;\">-0.017</td>\n",
       "      <td style = \"text-align: right;\">-0.0155</td>\n",
       "      <td style = \"text-align: right;\">-0.0158</td>\n",
       "      <td style = \"text-align: right;\">-0.0169</td>\n",
       "      <td style = \"text-align: right;\">-0.0189</td>\n",
       "      <td style = \"text-align: right;\">-0.0172</td>\n",
       "      <td style = \"text-align: right;\">-0.0171</td>\n",
       "      <td style = \"text-align: right;\">-0.0186</td>\n",
       "      <td style = \"text-align: right;\">-0.0188</td>\n",
       "      <td style = \"text-align: right;\">-0.0175</td>\n",
       "      <td style = \"text-align: right;\">-0.0176</td>\n",
       "      <td style = \"text-align: right;\">-0.0163</td>\n",
       "    </tr>\n",
       "    <tr>\n",
       "      <td class = \"rowLabel\" style = \"font-weight: bold; text-align: right;\">0.5</td>\n",
       "      <td style = \"text-align: right;\">0.0294</td>\n",
       "      <td style = \"text-align: right;\">0.0846</td>\n",
       "      <td style = \"text-align: right;\">0.0944</td>\n",
       "      <td style = \"text-align: right;\">0.0983</td>\n",
       "      <td style = \"text-align: right;\">0.0985</td>\n",
       "      <td style = \"text-align: right;\">0.0973</td>\n",
       "      <td style = \"text-align: right;\">0.0983</td>\n",
       "      <td style = \"text-align: right;\">0.0967</td>\n",
       "      <td style = \"text-align: right;\">0.0977</td>\n",
       "      <td style = \"text-align: right;\">0.0976</td>\n",
       "      <td style = \"text-align: right;\">0.0971</td>\n",
       "      <td style = \"text-align: right;\">0.0977</td>\n",
       "      <td style = \"text-align: right;\">0.0978</td>\n",
       "      <td style = \"text-align: right;\">0.0979</td>\n",
       "      <td style = \"text-align: right;\">0.0983</td>\n",
       "    </tr>\n",
       "    <tr>\n",
       "      <td class = \"rowLabel\" style = \"font-weight: bold; text-align: right;\">0.75</td>\n",
       "      <td style = \"text-align: right;\">0.1475</td>\n",
       "      <td style = \"text-align: right;\">0.1773</td>\n",
       "      <td style = \"text-align: right;\">0.1817</td>\n",
       "      <td style = \"text-align: right;\">0.1836</td>\n",
       "      <td style = \"text-align: right;\">0.1828</td>\n",
       "      <td style = \"text-align: right;\">0.1834</td>\n",
       "      <td style = \"text-align: right;\">0.1829</td>\n",
       "      <td style = \"text-align: right;\">0.1816</td>\n",
       "      <td style = \"text-align: right;\">0.1841</td>\n",
       "      <td style = \"text-align: right;\">0.1826</td>\n",
       "      <td style = \"text-align: right;\">0.1832</td>\n",
       "      <td style = \"text-align: right;\">0.183</td>\n",
       "      <td style = \"text-align: right;\">0.183</td>\n",
       "      <td style = \"text-align: right;\">0.183</td>\n",
       "      <td style = \"text-align: right;\">0.1835</td>\n",
       "    </tr>\n",
       "    <tr>\n",
       "      <td class = \"rowLabel\" style = \"font-weight: bold; text-align: right;\">0.95</td>\n",
       "      <td style = \"text-align: right;\">0.3033</td>\n",
       "      <td style = \"text-align: right;\">0.2981</td>\n",
       "      <td style = \"text-align: right;\">0.2961</td>\n",
       "      <td style = \"text-align: right;\">0.297</td>\n",
       "      <td style = \"text-align: right;\">0.2972</td>\n",
       "      <td style = \"text-align: right;\">0.2971</td>\n",
       "      <td style = \"text-align: right;\">0.2988</td>\n",
       "      <td style = \"text-align: right;\">0.2948</td>\n",
       "      <td style = \"text-align: right;\">0.2965</td>\n",
       "      <td style = \"text-align: right;\">0.2977</td>\n",
       "      <td style = \"text-align: right;\">0.2975</td>\n",
       "      <td style = \"text-align: right;\">0.2972</td>\n",
       "      <td style = \"text-align: right;\">0.297</td>\n",
       "      <td style = \"text-align: right;\">0.2968</td>\n",
       "      <td style = \"text-align: right;\">0.2975</td>\n",
       "    </tr>\n",
       "    <tr>\n",
       "      <td class = \"rowLabel\" style = \"font-weight: bold; text-align: right;\">0.98</td>\n",
       "      <td style = \"text-align: right;\">0.3704</td>\n",
       "      <td style = \"text-align: right;\">0.3548</td>\n",
       "      <td style = \"text-align: right;\">0.3501</td>\n",
       "      <td style = \"text-align: right;\">0.3517</td>\n",
       "      <td style = \"text-align: right;\">0.3503</td>\n",
       "      <td style = \"text-align: right;\">0.3511</td>\n",
       "      <td style = \"text-align: right;\">0.3519</td>\n",
       "      <td style = \"text-align: right;\">0.3487</td>\n",
       "      <td style = \"text-align: right;\">0.3511</td>\n",
       "      <td style = \"text-align: right;\">0.3514</td>\n",
       "      <td style = \"text-align: right;\">0.3513</td>\n",
       "      <td style = \"text-align: right;\">0.3518</td>\n",
       "      <td style = \"text-align: right;\">0.3496</td>\n",
       "      <td style = \"text-align: right;\">0.3507</td>\n",
       "      <td style = \"text-align: right;\">0.3513</td>\n",
       "    </tr>\n",
       "  </tbody>\n",
       "</table>\n"
      ]
     },
     "metadata": {},
     "output_type": "display_data"
    },
    {
     "data": {
      "text/html": [
       "<table>\n",
       "  <caption style = \"text-align: left;\">World_ex_USA</caption>\n",
       "  <thead>\n",
       "    <tr class = \"header headerLastRow\">\n",
       "      <th class = \"rowLabel\" style = \"font-weight: bold; text-align: right;\"></th>\n",
       "      <th style = \"text-align: right;\">1</th>\n",
       "      <th style = \"text-align: right;\">2</th>\n",
       "      <th style = \"text-align: right;\">3</th>\n",
       "      <th style = \"text-align: right;\">4</th>\n",
       "      <th style = \"text-align: right;\">5</th>\n",
       "      <th style = \"text-align: right;\">6</th>\n",
       "      <th style = \"text-align: right;\">7</th>\n",
       "      <th style = \"text-align: right;\">8</th>\n",
       "      <th style = \"text-align: right;\">9</th>\n",
       "      <th style = \"text-align: right;\">10</th>\n",
       "      <th style = \"text-align: right;\">11</th>\n",
       "      <th style = \"text-align: right;\">12</th>\n",
       "      <th style = \"text-align: right;\">13</th>\n",
       "      <th style = \"text-align: right;\">14</th>\n",
       "      <th style = \"text-align: right;\">15</th>\n",
       "    </tr>\n",
       "  </thead>\n",
       "  <tbody>\n",
       "    <tr>\n",
       "      <td class = \"rowLabel\" style = \"font-weight: bold; text-align: right;\">0.02</td>\n",
       "      <td style = \"text-align: right;\">-0.4506</td>\n",
       "      <td style = \"text-align: right;\">-0.4074</td>\n",
       "      <td style = \"text-align: right;\">-0.3957</td>\n",
       "      <td style = \"text-align: right;\">-0.3899</td>\n",
       "      <td style = \"text-align: right;\">-0.3848</td>\n",
       "      <td style = \"text-align: right;\">-0.3841</td>\n",
       "      <td style = \"text-align: right;\">-0.388</td>\n",
       "      <td style = \"text-align: right;\">-0.3825</td>\n",
       "      <td style = \"text-align: right;\">-0.3866</td>\n",
       "      <td style = \"text-align: right;\">-0.3879</td>\n",
       "      <td style = \"text-align: right;\">-0.3878</td>\n",
       "      <td style = \"text-align: right;\">-0.3897</td>\n",
       "      <td style = \"text-align: right;\">-0.3863</td>\n",
       "      <td style = \"text-align: right;\">-0.3881</td>\n",
       "      <td style = \"text-align: right;\">-0.3887</td>\n",
       "    </tr>\n",
       "    <tr>\n",
       "      <td class = \"rowLabel\" style = \"font-weight: bold; text-align: right;\">0.05</td>\n",
       "      <td style = \"text-align: right;\">-0.362</td>\n",
       "      <td style = \"text-align: right;\">-0.3098</td>\n",
       "      <td style = \"text-align: right;\">-0.2929</td>\n",
       "      <td style = \"text-align: right;\">-0.2889</td>\n",
       "      <td style = \"text-align: right;\">-0.2856</td>\n",
       "      <td style = \"text-align: right;\">-0.2841</td>\n",
       "      <td style = \"text-align: right;\">-0.2887</td>\n",
       "      <td style = \"text-align: right;\">-0.2826</td>\n",
       "      <td style = \"text-align: right;\">-0.2872</td>\n",
       "      <td style = \"text-align: right;\">-0.2879</td>\n",
       "      <td style = \"text-align: right;\">-0.2867</td>\n",
       "      <td style = \"text-align: right;\">-0.2895</td>\n",
       "      <td style = \"text-align: right;\">-0.2885</td>\n",
       "      <td style = \"text-align: right;\">-0.2881</td>\n",
       "      <td style = \"text-align: right;\">-0.2863</td>\n",
       "    </tr>\n",
       "    <tr>\n",
       "      <td class = \"rowLabel\" style = \"font-weight: bold; text-align: right;\">0.25</td>\n",
       "      <td style = \"text-align: right;\">-0.1423</td>\n",
       "      <td style = \"text-align: right;\">-0.0745</td>\n",
       "      <td style = \"text-align: right;\">-0.0528</td>\n",
       "      <td style = \"text-align: right;\">-0.0473</td>\n",
       "      <td style = \"text-align: right;\">-0.046</td>\n",
       "      <td style = \"text-align: right;\">-0.0466</td>\n",
       "      <td style = \"text-align: right;\">-0.0478</td>\n",
       "      <td style = \"text-align: right;\">-0.0487</td>\n",
       "      <td style = \"text-align: right;\">-0.047</td>\n",
       "      <td style = \"text-align: right;\">-0.0471</td>\n",
       "      <td style = \"text-align: right;\">-0.0482</td>\n",
       "      <td style = \"text-align: right;\">-0.0487</td>\n",
       "      <td style = \"text-align: right;\">-0.0468</td>\n",
       "      <td style = \"text-align: right;\">-0.0474</td>\n",
       "      <td style = \"text-align: right;\">-0.0473</td>\n",
       "    </tr>\n",
       "    <tr>\n",
       "      <td class = \"rowLabel\" style = \"font-weight: bold; text-align: right;\">0.5</td>\n",
       "      <td style = \"text-align: right;\">0.0029</td>\n",
       "      <td style = \"text-align: right;\">0.0692</td>\n",
       "      <td style = \"text-align: right;\">0.0812</td>\n",
       "      <td style = \"text-align: right;\">0.0858</td>\n",
       "      <td style = \"text-align: right;\">0.0855</td>\n",
       "      <td style = \"text-align: right;\">0.0855</td>\n",
       "      <td style = \"text-align: right;\">0.0857</td>\n",
       "      <td style = \"text-align: right;\">0.0844</td>\n",
       "      <td style = \"text-align: right;\">0.0858</td>\n",
       "      <td style = \"text-align: right;\">0.085</td>\n",
       "      <td style = \"text-align: right;\">0.0846</td>\n",
       "      <td style = \"text-align: right;\">0.0845</td>\n",
       "      <td style = \"text-align: right;\">0.0852</td>\n",
       "      <td style = \"text-align: right;\">0.0852</td>\n",
       "      <td style = \"text-align: right;\">0.0855</td>\n",
       "    </tr>\n",
       "    <tr>\n",
       "      <td class = \"rowLabel\" style = \"font-weight: bold; text-align: right;\">0.75</td>\n",
       "      <td style = \"text-align: right;\">0.1346</td>\n",
       "      <td style = \"text-align: right;\">0.176</td>\n",
       "      <td style = \"text-align: right;\">0.1811</td>\n",
       "      <td style = \"text-align: right;\">0.1843</td>\n",
       "      <td style = \"text-align: right;\">0.1832</td>\n",
       "      <td style = \"text-align: right;\">0.1837</td>\n",
       "      <td style = \"text-align: right;\">0.1835</td>\n",
       "      <td style = \"text-align: right;\">0.1825</td>\n",
       "      <td style = \"text-align: right;\">0.1839</td>\n",
       "      <td style = \"text-align: right;\">0.183</td>\n",
       "      <td style = \"text-align: right;\">0.183</td>\n",
       "      <td style = \"text-align: right;\">0.183</td>\n",
       "      <td style = \"text-align: right;\">0.1824</td>\n",
       "      <td style = \"text-align: right;\">0.1828</td>\n",
       "      <td style = \"text-align: right;\">0.1832</td>\n",
       "    </tr>\n",
       "    <tr>\n",
       "      <td class = \"rowLabel\" style = \"font-weight: bold; text-align: right;\">0.95</td>\n",
       "      <td style = \"text-align: right;\">0.303</td>\n",
       "      <td style = \"text-align: right;\">0.3054</td>\n",
       "      <td style = \"text-align: right;\">0.3051</td>\n",
       "      <td style = \"text-align: right;\">0.3055</td>\n",
       "      <td style = \"text-align: right;\">0.3056</td>\n",
       "      <td style = \"text-align: right;\">0.3051</td>\n",
       "      <td style = \"text-align: right;\">0.3071</td>\n",
       "      <td style = \"text-align: right;\">0.3051</td>\n",
       "      <td style = \"text-align: right;\">0.3062</td>\n",
       "      <td style = \"text-align: right;\">0.3058</td>\n",
       "      <td style = \"text-align: right;\">0.3068</td>\n",
       "      <td style = \"text-align: right;\">0.3057</td>\n",
       "      <td style = \"text-align: right;\">0.3064</td>\n",
       "      <td style = \"text-align: right;\">0.3051</td>\n",
       "      <td style = \"text-align: right;\">0.307</td>\n",
       "    </tr>\n",
       "    <tr>\n",
       "      <td class = \"rowLabel\" style = \"font-weight: bold; text-align: right;\">0.98</td>\n",
       "      <td style = \"text-align: right;\">0.3723</td>\n",
       "      <td style = \"text-align: right;\">0.3633</td>\n",
       "      <td style = \"text-align: right;\">0.3588</td>\n",
       "      <td style = \"text-align: right;\">0.3607</td>\n",
       "      <td style = \"text-align: right;\">0.3602</td>\n",
       "      <td style = \"text-align: right;\">0.358</td>\n",
       "      <td style = \"text-align: right;\">0.3641</td>\n",
       "      <td style = \"text-align: right;\">0.3588</td>\n",
       "      <td style = \"text-align: right;\">0.3598</td>\n",
       "      <td style = \"text-align: right;\">0.3595</td>\n",
       "      <td style = \"text-align: right;\">0.3611</td>\n",
       "      <td style = \"text-align: right;\">0.3611</td>\n",
       "      <td style = \"text-align: right;\">0.3604</td>\n",
       "      <td style = \"text-align: right;\">0.3577</td>\n",
       "      <td style = \"text-align: right;\">0.3608</td>\n",
       "    </tr>\n",
       "  </tbody>\n",
       "</table>\n"
      ]
     },
     "metadata": {},
     "output_type": "display_data"
    },
    {
     "data": {
      "text/html": [
       "<table>\n",
       "  <caption style = \"text-align: left;\">EM_Net</caption>\n",
       "  <thead>\n",
       "    <tr class = \"header headerLastRow\">\n",
       "      <th class = \"rowLabel\" style = \"font-weight: bold; text-align: right;\"></th>\n",
       "      <th style = \"text-align: right;\">1</th>\n",
       "      <th style = \"text-align: right;\">2</th>\n",
       "      <th style = \"text-align: right;\">3</th>\n",
       "      <th style = \"text-align: right;\">4</th>\n",
       "      <th style = \"text-align: right;\">5</th>\n",
       "      <th style = \"text-align: right;\">6</th>\n",
       "      <th style = \"text-align: right;\">7</th>\n",
       "      <th style = \"text-align: right;\">8</th>\n",
       "      <th style = \"text-align: right;\">9</th>\n",
       "      <th style = \"text-align: right;\">10</th>\n",
       "      <th style = \"text-align: right;\">11</th>\n",
       "      <th style = \"text-align: right;\">12</th>\n",
       "      <th style = \"text-align: right;\">13</th>\n",
       "      <th style = \"text-align: right;\">14</th>\n",
       "      <th style = \"text-align: right;\">15</th>\n",
       "    </tr>\n",
       "  </thead>\n",
       "  <tbody>\n",
       "    <tr>\n",
       "      <td class = \"rowLabel\" style = \"font-weight: bold; text-align: right;\">0.02</td>\n",
       "      <td style = \"text-align: right;\">-0.5982</td>\n",
       "      <td style = \"text-align: right;\">-0.5369</td>\n",
       "      <td style = \"text-align: right;\">-0.519</td>\n",
       "      <td style = \"text-align: right;\">-0.5092</td>\n",
       "      <td style = \"text-align: right;\">-0.5152</td>\n",
       "      <td style = \"text-align: right;\">-0.5079</td>\n",
       "      <td style = \"text-align: right;\">-0.508</td>\n",
       "      <td style = \"text-align: right;\">-0.5065</td>\n",
       "      <td style = \"text-align: right;\">-0.5122</td>\n",
       "      <td style = \"text-align: right;\">-0.5094</td>\n",
       "      <td style = \"text-align: right;\">-0.5067</td>\n",
       "      <td style = \"text-align: right;\">-0.5131</td>\n",
       "      <td style = \"text-align: right;\">-0.5123</td>\n",
       "      <td style = \"text-align: right;\">-0.5069</td>\n",
       "      <td style = \"text-align: right;\">-0.5108</td>\n",
       "    </tr>\n",
       "    <tr>\n",
       "      <td class = \"rowLabel\" style = \"font-weight: bold; text-align: right;\">0.05</td>\n",
       "      <td style = \"text-align: right;\">-0.4718</td>\n",
       "      <td style = \"text-align: right;\">-0.401</td>\n",
       "      <td style = \"text-align: right;\">-0.3811</td>\n",
       "      <td style = \"text-align: right;\">-0.3769</td>\n",
       "      <td style = \"text-align: right;\">-0.3765</td>\n",
       "      <td style = \"text-align: right;\">-0.3711</td>\n",
       "      <td style = \"text-align: right;\">-0.3747</td>\n",
       "      <td style = \"text-align: right;\">-0.3726</td>\n",
       "      <td style = \"text-align: right;\">-0.3755</td>\n",
       "      <td style = \"text-align: right;\">-0.3751</td>\n",
       "      <td style = \"text-align: right;\">-0.3735</td>\n",
       "      <td style = \"text-align: right;\">-0.3791</td>\n",
       "      <td style = \"text-align: right;\">-0.3719</td>\n",
       "      <td style = \"text-align: right;\">-0.3745</td>\n",
       "      <td style = \"text-align: right;\">-0.3747</td>\n",
       "    </tr>\n",
       "    <tr>\n",
       "      <td class = \"rowLabel\" style = \"font-weight: bold; text-align: right;\">0.25</td>\n",
       "      <td style = \"text-align: right;\">-0.1774</td>\n",
       "      <td style = \"text-align: right;\">-0.0936</td>\n",
       "      <td style = \"text-align: right;\">-0.0712</td>\n",
       "      <td style = \"text-align: right;\">-0.0652</td>\n",
       "      <td style = \"text-align: right;\">-0.0642</td>\n",
       "      <td style = \"text-align: right;\">-0.0639</td>\n",
       "      <td style = \"text-align: right;\">-0.0665</td>\n",
       "      <td style = \"text-align: right;\">-0.0657</td>\n",
       "      <td style = \"text-align: right;\">-0.0639</td>\n",
       "      <td style = \"text-align: right;\">-0.065</td>\n",
       "      <td style = \"text-align: right;\">-0.0659</td>\n",
       "      <td style = \"text-align: right;\">-0.0678</td>\n",
       "      <td style = \"text-align: right;\">-0.0651</td>\n",
       "      <td style = \"text-align: right;\">-0.0651</td>\n",
       "      <td style = \"text-align: right;\">-0.0644</td>\n",
       "    </tr>\n",
       "    <tr>\n",
       "      <td class = \"rowLabel\" style = \"font-weight: bold; text-align: right;\">0.5</td>\n",
       "      <td style = \"text-align: right;\">0.0162</td>\n",
       "      <td style = \"text-align: right;\">0.0849</td>\n",
       "      <td style = \"text-align: right;\">0.0981</td>\n",
       "      <td style = \"text-align: right;\">0.1029</td>\n",
       "      <td style = \"text-align: right;\">0.1037</td>\n",
       "      <td style = \"text-align: right;\">0.1037</td>\n",
       "      <td style = \"text-align: right;\">0.1038</td>\n",
       "      <td style = \"text-align: right;\">0.1017</td>\n",
       "      <td style = \"text-align: right;\">0.1027</td>\n",
       "      <td style = \"text-align: right;\">0.1036</td>\n",
       "      <td style = \"text-align: right;\">0.1028</td>\n",
       "      <td style = \"text-align: right;\">0.1011</td>\n",
       "      <td style = \"text-align: right;\">0.1024</td>\n",
       "      <td style = \"text-align: right;\">0.1024</td>\n",
       "      <td style = \"text-align: right;\">0.1027</td>\n",
       "    </tr>\n",
       "    <tr>\n",
       "      <td class = \"rowLabel\" style = \"font-weight: bold; text-align: right;\">0.75</td>\n",
       "      <td style = \"text-align: right;\">0.1931</td>\n",
       "      <td style = \"text-align: right;\">0.2327</td>\n",
       "      <td style = \"text-align: right;\">0.2393</td>\n",
       "      <td style = \"text-align: right;\">0.2427</td>\n",
       "      <td style = \"text-align: right;\">0.2427</td>\n",
       "      <td style = \"text-align: right;\">0.2423</td>\n",
       "      <td style = \"text-align: right;\">0.2424</td>\n",
       "      <td style = \"text-align: right;\">0.2411</td>\n",
       "      <td style = \"text-align: right;\">0.2415</td>\n",
       "      <td style = \"text-align: right;\">0.2418</td>\n",
       "      <td style = \"text-align: right;\">0.2414</td>\n",
       "      <td style = \"text-align: right;\">0.2413</td>\n",
       "      <td style = \"text-align: right;\">0.2411</td>\n",
       "      <td style = \"text-align: right;\">0.2411</td>\n",
       "      <td style = \"text-align: right;\">0.2411</td>\n",
       "    </tr>\n",
       "    <tr>\n",
       "      <td class = \"rowLabel\" style = \"font-weight: bold; text-align: right;\">0.95</td>\n",
       "      <td style = \"text-align: right;\">0.4364</td>\n",
       "      <td style = \"text-align: right;\">0.431</td>\n",
       "      <td style = \"text-align: right;\">0.4305</td>\n",
       "      <td style = \"text-align: right;\">0.4318</td>\n",
       "      <td style = \"text-align: right;\">0.4314</td>\n",
       "      <td style = \"text-align: right;\">0.4297</td>\n",
       "      <td style = \"text-align: right;\">0.433</td>\n",
       "      <td style = \"text-align: right;\">0.4286</td>\n",
       "      <td style = \"text-align: right;\">0.431</td>\n",
       "      <td style = \"text-align: right;\">0.4302</td>\n",
       "      <td style = \"text-align: right;\">0.432</td>\n",
       "      <td style = \"text-align: right;\">0.4302</td>\n",
       "      <td style = \"text-align: right;\">0.4319</td>\n",
       "      <td style = \"text-align: right;\">0.4296</td>\n",
       "      <td style = \"text-align: right;\">0.4331</td>\n",
       "    </tr>\n",
       "    <tr>\n",
       "      <td class = \"rowLabel\" style = \"font-weight: bold; text-align: right;\">0.98</td>\n",
       "      <td style = \"text-align: right;\">0.5397</td>\n",
       "      <td style = \"text-align: right;\">0.523</td>\n",
       "      <td style = \"text-align: right;\">0.5186</td>\n",
       "      <td style = \"text-align: right;\">0.5192</td>\n",
       "      <td style = \"text-align: right;\">0.5166</td>\n",
       "      <td style = \"text-align: right;\">0.5134</td>\n",
       "      <td style = \"text-align: right;\">0.5196</td>\n",
       "      <td style = \"text-align: right;\">0.5145</td>\n",
       "      <td style = \"text-align: right;\">0.5196</td>\n",
       "      <td style = \"text-align: right;\">0.5171</td>\n",
       "      <td style = \"text-align: right;\">0.5179</td>\n",
       "      <td style = \"text-align: right;\">0.5144</td>\n",
       "      <td style = \"text-align: right;\">0.5173</td>\n",
       "      <td style = \"text-align: right;\">0.5178</td>\n",
       "      <td style = \"text-align: right;\">0.5212</td>\n",
       "    </tr>\n",
       "  </tbody>\n",
       "</table>\n"
      ]
     },
     "metadata": {},
     "output_type": "display_data"
    }
   ],
   "source": [
    "n_assets = length(assets)\n",
    "scenarios = simulate_hmm(hmm[1], n_assets, 180, 100_000)\n",
    "\n",
    "for a in 1:n_assets\n",
    "    print_percentiles(scenarios[a,:,:], [0.02, 0.05, 0.25, 0.5, 0.75, 0.95, 0.98], 12, string(assets[a]))\n",
    "end "
   ]
  },
  {
   "cell_type": "code",
   "execution_count": 19,
   "metadata": {},
   "outputs": [
    {
     "data": {
      "text/plain": [
       "\"mean\""
      ]
     },
     "metadata": {},
     "output_type": "display_data"
    },
    {
     "data": {
      "text/plain": [
       "0.07002120044189371"
      ]
     },
     "metadata": {},
     "output_type": "display_data"
    },
    {
     "data": {
      "text/plain": [
       "\"std\""
      ]
     },
     "metadata": {},
     "output_type": "display_data"
    },
    {
     "data": {
      "text/plain": [
       "0.163224694079844"
      ]
     },
     "metadata": {},
     "output_type": "display_data"
    },
    {
     "data": {
      "text/plain": [
       "\"skewness\""
      ]
     },
     "metadata": {},
     "output_type": "display_data"
    },
    {
     "data": {
      "text/plain": [
       "-0.686740153265794"
      ]
     },
     "metadata": {},
     "output_type": "display_data"
    },
    {
     "data": {
      "text/plain": [
       "\"kurtosis\""
      ]
     },
     "metadata": {},
     "output_type": "display_data"
    },
    {
     "data": {
      "text/plain": [
       "0.7693066012745633"
      ]
     },
     "metadata": {},
     "output_type": "display_data"
    }
   ],
   "source": [
    "y_data = annualise(scenarios[1, :, 25:36],12)\n",
    "display(\"mean\")\n",
    "display(mean(y_data))\n",
    "display(\"std\")\n",
    "display(std(y_data))\n",
    "display(\"skewness\")\n",
    "display(skewness(y_data))\n",
    "display(\"kurtosis\")\n",
    "display(kurtosis(y_data)) "
   ]
  },
  {
   "cell_type": "code",
   "execution_count": 9,
   "metadata": {},
   "outputs": [
    {
     "data": {
      "text/html": [
       "<table>\n",
       "  <thead>\n",
       "    <tr class = \"header headerLastRow\">\n",
       "      <th class = \"rowLabel\" style = \"font-weight: bold; text-align: right;\"></th>\n",
       "      <th style = \"text-align: right;\">1</th>\n",
       "      <th style = \"text-align: right;\">2</th>\n",
       "      <th style = \"text-align: right;\">3</th>\n",
       "      <th style = \"text-align: right;\">4</th>\n",
       "      <th style = \"text-align: right;\">5</th>\n",
       "      <th style = \"text-align: right;\">6</th>\n",
       "      <th style = \"text-align: right;\">7</th>\n",
       "      <th style = \"text-align: right;\">8</th>\n",
       "      <th style = \"text-align: right;\">9</th>\n",
       "      <th style = \"text-align: right;\">10</th>\n",
       "      <th style = \"text-align: right;\">11</th>\n",
       "      <th style = \"text-align: right;\">12</th>\n",
       "      <th style = \"text-align: right;\">13</th>\n",
       "      <th style = \"text-align: right;\">14</th>\n",
       "    </tr>\n",
       "  </thead>\n",
       "  <tbody>\n",
       "    <tr>\n",
       "      <td class = \"rowLabel\" style = \"font-weight: bold; text-align: right;\">0.02</td>\n",
       "      <td style = \"text-align: right;\">-0.4165</td>\n",
       "      <td style = \"text-align: right;\">-0.3768</td>\n",
       "      <td style = \"text-align: right;\">-0.3614</td>\n",
       "      <td style = \"text-align: right;\">-0.3572</td>\n",
       "      <td style = \"text-align: right;\">-0.3549</td>\n",
       "      <td style = \"text-align: right;\">-0.3539</td>\n",
       "      <td style = \"text-align: right;\">-0.3563</td>\n",
       "      <td style = \"text-align: right;\">-0.3529</td>\n",
       "      <td style = \"text-align: right;\">-0.3541</td>\n",
       "      <td style = \"text-align: right;\">-0.3559</td>\n",
       "      <td style = \"text-align: right;\">-0.3562</td>\n",
       "      <td style = \"text-align: right;\">-0.3559</td>\n",
       "      <td style = \"text-align: right;\">-0.3565</td>\n",
       "      <td style = \"text-align: right;\">-0.3546</td>\n",
       "    </tr>\n",
       "    <tr>\n",
       "      <td class = \"rowLabel\" style = \"font-weight: bold; text-align: right;\">0.05</td>\n",
       "      <td style = \"text-align: right;\">-0.329</td>\n",
       "      <td style = \"text-align: right;\">-0.2813</td>\n",
       "      <td style = \"text-align: right;\">-0.2669</td>\n",
       "      <td style = \"text-align: right;\">-0.2624</td>\n",
       "      <td style = \"text-align: right;\">-0.2608</td>\n",
       "      <td style = \"text-align: right;\">-0.2594</td>\n",
       "      <td style = \"text-align: right;\">-0.2636</td>\n",
       "      <td style = \"text-align: right;\">-0.259</td>\n",
       "      <td style = \"text-align: right;\">-0.2589</td>\n",
       "      <td style = \"text-align: right;\">-0.26</td>\n",
       "      <td style = \"text-align: right;\">-0.261</td>\n",
       "      <td style = \"text-align: right;\">-0.2606</td>\n",
       "      <td style = \"text-align: right;\">-0.2596</td>\n",
       "      <td style = \"text-align: right;\">-0.2615</td>\n",
       "    </tr>\n",
       "    <tr>\n",
       "      <td class = \"rowLabel\" style = \"font-weight: bold; text-align: right;\">0.25</td>\n",
       "      <td style = \"text-align: right;\">-0.1175</td>\n",
       "      <td style = \"text-align: right;\">-0.0562</td>\n",
       "      <td style = \"text-align: right;\">-0.0382</td>\n",
       "      <td style = \"text-align: right;\">-0.0343</td>\n",
       "      <td style = \"text-align: right;\">-0.0326</td>\n",
       "      <td style = \"text-align: right;\">-0.0323</td>\n",
       "      <td style = \"text-align: right;\">-0.0335</td>\n",
       "      <td style = \"text-align: right;\">-0.0347</td>\n",
       "      <td style = \"text-align: right;\">-0.033</td>\n",
       "      <td style = \"text-align: right;\">-0.0333</td>\n",
       "      <td style = \"text-align: right;\">-0.0344</td>\n",
       "      <td style = \"text-align: right;\">-0.0334</td>\n",
       "      <td style = \"text-align: right;\">-0.0326</td>\n",
       "      <td style = \"text-align: right;\">-0.0325</td>\n",
       "    </tr>\n",
       "    <tr>\n",
       "      <td class = \"rowLabel\" style = \"font-weight: bold; text-align: right;\">0.5</td>\n",
       "      <td style = \"text-align: right;\">0.0224</td>\n",
       "      <td style = \"text-align: right;\">0.0779</td>\n",
       "      <td style = \"text-align: right;\">0.0874</td>\n",
       "      <td style = \"text-align: right;\">0.0912</td>\n",
       "      <td style = \"text-align: right;\">0.0917</td>\n",
       "      <td style = \"text-align: right;\">0.091</td>\n",
       "      <td style = \"text-align: right;\">0.0908</td>\n",
       "      <td style = \"text-align: right;\">0.0899</td>\n",
       "      <td style = \"text-align: right;\">0.0911</td>\n",
       "      <td style = \"text-align: right;\">0.091</td>\n",
       "      <td style = \"text-align: right;\">0.0906</td>\n",
       "      <td style = \"text-align: right;\">0.0908</td>\n",
       "      <td style = \"text-align: right;\">0.091</td>\n",
       "      <td style = \"text-align: right;\">0.0911</td>\n",
       "    </tr>\n",
       "    <tr>\n",
       "      <td class = \"rowLabel\" style = \"font-weight: bold; text-align: right;\">0.75</td>\n",
       "      <td style = \"text-align: right;\">0.1464</td>\n",
       "      <td style = \"text-align: right;\">0.1744</td>\n",
       "      <td style = \"text-align: right;\">0.1783</td>\n",
       "      <td style = \"text-align: right;\">0.1815</td>\n",
       "      <td style = \"text-align: right;\">0.1806</td>\n",
       "      <td style = \"text-align: right;\">0.1806</td>\n",
       "      <td style = \"text-align: right;\">0.1806</td>\n",
       "      <td style = \"text-align: right;\">0.1799</td>\n",
       "      <td style = \"text-align: right;\">0.1814</td>\n",
       "      <td style = \"text-align: right;\">0.1808</td>\n",
       "      <td style = \"text-align: right;\">0.1805</td>\n",
       "      <td style = \"text-align: right;\">0.1803</td>\n",
       "      <td style = \"text-align: right;\">0.1802</td>\n",
       "      <td style = \"text-align: right;\">0.181</td>\n",
       "    </tr>\n",
       "    <tr>\n",
       "      <td class = \"rowLabel\" style = \"font-weight: bold; text-align: right;\">0.95</td>\n",
       "      <td style = \"text-align: right;\">0.2986</td>\n",
       "      <td style = \"text-align: right;\">0.2955</td>\n",
       "      <td style = \"text-align: right;\">0.2954</td>\n",
       "      <td style = \"text-align: right;\">0.295</td>\n",
       "      <td style = \"text-align: right;\">0.295</td>\n",
       "      <td style = \"text-align: right;\">0.2935</td>\n",
       "      <td style = \"text-align: right;\">0.2956</td>\n",
       "      <td style = \"text-align: right;\">0.2931</td>\n",
       "      <td style = \"text-align: right;\">0.295</td>\n",
       "      <td style = \"text-align: right;\">0.2945</td>\n",
       "      <td style = \"text-align: right;\">0.2952</td>\n",
       "      <td style = \"text-align: right;\">0.2945</td>\n",
       "      <td style = \"text-align: right;\">0.2937</td>\n",
       "      <td style = \"text-align: right;\">0.2932</td>\n",
       "    </tr>\n",
       "    <tr>\n",
       "      <td class = \"rowLabel\" style = \"font-weight: bold; text-align: right;\">0.98</td>\n",
       "      <td style = \"text-align: right;\">0.3618</td>\n",
       "      <td style = \"text-align: right;\">0.3498</td>\n",
       "      <td style = \"text-align: right;\">0.3485</td>\n",
       "      <td style = \"text-align: right;\">0.347</td>\n",
       "      <td style = \"text-align: right;\">0.3463</td>\n",
       "      <td style = \"text-align: right;\">0.3464</td>\n",
       "      <td style = \"text-align: right;\">0.3486</td>\n",
       "      <td style = \"text-align: right;\">0.3456</td>\n",
       "      <td style = \"text-align: right;\">0.3486</td>\n",
       "      <td style = \"text-align: right;\">0.3464</td>\n",
       "      <td style = \"text-align: right;\">0.3475</td>\n",
       "      <td style = \"text-align: right;\">0.3483</td>\n",
       "      <td style = \"text-align: right;\">0.3452</td>\n",
       "      <td style = \"text-align: right;\">0.346</td>\n",
       "    </tr>\n",
       "  </tbody>\n",
       "</table>\n"
      ]
     },
     "metadata": {},
     "output_type": "display_data"
    }
   ],
   "source": [
    "weights = [0.321, 0.67, 0.009]\n",
    "#weights = [.7, .3]\n",
    "acwi_cum_ret = cumprod(scenarios .+ 1, dims=3)\n",
    "\n",
    "acwi = zeros(100_000, 180)\n",
    "for t in 1:180\n",
    "    acwi[:,t] = acwi_cum_ret[:,:,t]' * weights * 100\n",
    "end\n",
    "\n",
    "acwi = acwi[:, 2:end] ./ acwi[:,1:end-1] .-1\n",
    "\n",
    "print_percentiles(acwi, [0.02, 0.05, 0.25, 0.5, 0.75, 0.95, 0.98], 12)"
   ]
  },
  {
   "cell_type": "code",
   "execution_count": 10,
   "metadata": {},
   "outputs": [
    {
     "data": {
      "text/plain": [
       "\"mean\""
      ]
     },
     "metadata": {},
     "output_type": "display_data"
    },
    {
     "data": {
      "text/plain": [
       "0.06311478501465455"
      ]
     },
     "metadata": {},
     "output_type": "display_data"
    },
    {
     "data": {
      "text/plain": [
       "\"std\""
      ]
     },
     "metadata": {},
     "output_type": "display_data"
    },
    {
     "data": {
      "text/plain": [
       "0.16972004257514808"
      ]
     },
     "metadata": {},
     "output_type": "display_data"
    },
    {
     "data": {
      "text/plain": [
       "\"skewness\""
      ]
     },
     "metadata": {},
     "output_type": "display_data"
    },
    {
     "data": {
      "text/plain": [
       "-0.7135443517974893"
      ]
     },
     "metadata": {},
     "output_type": "display_data"
    },
    {
     "data": {
      "text/plain": [
       "\"kurtosis\""
      ]
     },
     "metadata": {},
     "output_type": "display_data"
    },
    {
     "data": {
      "text/plain": [
       "0.6358447495651003"
      ]
     },
     "metadata": {},
     "output_type": "display_data"
    }
   ],
   "source": [
    "display(\"mean\")\n",
    "display(mean(annualise(acwi[:,60:72],12)))\n",
    "display(\"std\")\n",
    "display(std(annualise(acwi[:,60:72],12)))\n",
    "display(\"skewness\")\n",
    "display(skewness(annualise(acwi[:,60:72],12)))\n",
    "display(\"kurtosis\")\n",
    "display(kurtosis(annualise(acwi[:,60:72],12)))"
   ]
  },
  {
   "cell_type": "code",
   "execution_count": 11,
   "metadata": {},
   "outputs": [
    {
     "data": {
      "text/html": [
       "<table>\n",
       "  <thead>\n",
       "    <tr class = \"header headerLastRow\">\n",
       "      <th class = \"rowLabel\" style = \"font-weight: bold; text-align: right;\"></th>\n",
       "      <th style = \"text-align: right;\">std</th>\n",
       "      <th style = \"text-align: right;\">max</th>\n",
       "      <th style = \"text-align: right;\">mean</th>\n",
       "      <th style = \"text-align: right;\">p75th</th>\n",
       "      <th style = \"text-align: right;\">min</th>\n",
       "      <th style = \"text-align: right;\">skewness</th>\n",
       "      <th style = \"text-align: right;\">p25th</th>\n",
       "      <th style = \"text-align: right;\">autocor</th>\n",
       "      <th style = \"text-align: right;\">kurtosis</th>\n",
       "      <th style = \"text-align: right;\">sr</th>\n",
       "      <th style = \"text-align: right;\">median</th>\n",
       "    </tr>\n",
       "  </thead>\n",
       "  <tbody>\n",
       "    <tr>\n",
       "      <td class = \"rowLabel\" style = \"font-weight: bold; text-align: right;\">ACWI_Net</td>\n",
       "      <td style = \"text-align: right;\">0.1562</td>\n",
       "      <td style = \"text-align: right;\">1.339</td>\n",
       "      <td style = \"text-align: right;\">0.0595</td>\n",
       "      <td style = \"text-align: right;\">0.3651</td>\n",
       "      <td style = \"text-align: right;\">-2.65</td>\n",
       "      <td style = \"text-align: right;\">-0.9712</td>\n",
       "      <td style = \"text-align: right;\">-0.2175</td>\n",
       "      <td style = \"text-align: right;\">0.122</td>\n",
       "      <td style = \"text-align: right;\">2.553</td>\n",
       "      <td style = \"text-align: right;\">0.381</td>\n",
       "      <td style = \"text-align: right;\">0.1197</td>\n",
       "    </tr>\n",
       "  </tbody>\n",
       "</table>\n"
      ]
     },
     "metadata": {},
     "output_type": "display_data"
    }
   ],
   "source": [
    "ACWI_period_returns = returns_usd[:ACWI_Net] |> x -> from(x, Date(1998, 01, 01 )) |> x -> to(x, Date(2019,12,31))\n",
    "returns_summarystats(ACWI_period_returns, 12)"
   ]
  },
  {
   "cell_type": "code",
   "execution_count": 12,
   "metadata": {},
   "outputs": [
    {
     "data": {
      "text/plain": [
       "3×3 Matrix{Float64}:\n",
       " 0.333333  0.666667  1.0\n",
       " 0.666667  2.33333   4.0\n",
       " 1.0       4.0       7.0"
      ]
     },
     "metadata": {},
     "output_type": "display_data"
    }
   ],
   "source": [
    "M = [1 2 1; 3 4 1; 5 6 1]\n",
    "cov(M')"
   ]
  },
  {
   "cell_type": "code",
   "execution_count": 13,
   "metadata": {},
   "outputs": [
    {
     "ename": "MethodError",
     "evalue": "MethodError: Cannot `convert` an object of type Missing to an object of type Float64\nThe function `convert` exists, but no method is defined for this combination of argument types.\n\nClosest candidates are:\n  convert(::Type{T}, !Matched::T) where T\n   @ Base Base.jl:126\n  convert(::Type{T}, !Matched::AbstractChar) where T<:Number\n   @ Base char.jl:185\n  convert(::Type{T}, !Matched::Gray) where T<:Real\n   @ ColorTypes C:\\Users\\matsz\\.julia\\packages\\ColorTypes\\vpFgh\\src\\conversions.jl:113\n  ...\n",
     "output_type": "error",
     "traceback": [
      "MethodError: Cannot `convert` an object of type Missing to an object of type Float64\n",
      "The function `convert` exists, but no method is defined for this combination of argument types.\n",
      "\n",
      "Closest candidates are:\n",
      "  convert(::Type{T}, !Matched::T) where T\n",
      "   @ Base Base.jl:126\n",
      "  convert(::Type{T}, !Matched::AbstractChar) where T<:Number\n",
      "   @ Base char.jl:185\n",
      "  convert(::Type{T}, !Matched::Gray) where T<:Real\n",
      "   @ ColorTypes C:\\Users\\matsz\\.julia\\packages\\ColorTypes\\vpFgh\\src\\conversions.jl:113\n",
      "  ...\n",
      "\n",
      "\n",
      "Stacktrace:\n",
      "  [1] setindex!\n",
      "    @ .\\array.jl:994 [inlined]\n",
      "  [2] setindex!\n",
      "    @ .\\permuteddimsarray.jl:75 [inlined]\n",
      "  [3] macro expansion\n",
      "    @ .\\reducedim.jl:289 [inlined]\n",
      "  [4] macro expansion\n",
      "    @ .\\simdloop.jl:77 [inlined]\n",
      "  [5] _mapreducedim!(f::ComposedFunction{Statistics.var\"#4#6\"{typeof(identity), Float64}, typeof(adjoint)}, op::typeof(Base.add_sum), R::PermutedDimsArray{Float64, 2, (2, 1), (2, 1), Matrix{Float64}}, A::Matrix{Union{Missing, Int64}})\n",
      "    @ Base .\\reducedim.jl:287\n",
      "  [6] mapreducedim!(f::Function, op::Function, R::PermutedDimsArray{Float64, 2, (2, 1), (2, 1), Matrix{Float64}}, A::Matrix{Union{Missing, Int64}})\n",
      "    @ Base .\\reducedim.jl:296\n",
      "  [7] mapreducedim!(f::Function, op::typeof(Base.add_sum), B::Matrix{Float64}, A::Adjoint{Union{Missing, Int64}, Matrix{Union{Missing, Int64}}})\n",
      "    @ LinearAlgebra C:\\Users\\matsz\\.julia\\juliaup\\julia-1.11.2+0.x64.w64.mingw32\\share\\julia\\stdlib\\v1.11\\LinearAlgebra\\src\\adjtrans.jl:443\n",
      "  [8] _mapreduce_dim(f::Function, op::Function, ::Base._InitialValue, A::Adjoint{Union{Missing, Int64}, Matrix{Union{Missing, Int64}}}, dims::Int64)\n",
      "    @ Base .\\reducedim.jl:343\n",
      "  [9] mapreduce\n",
      "    @ .\\reducedim.jl:329 [inlined]\n",
      " [10] _sum\n",
      "    @ .\\reducedim.jl:1011 [inlined]\n",
      " [11] sum\n",
      "    @ .\\reducedim.jl:983 [inlined]\n",
      " [12] _mean(f::typeof(identity), A::Adjoint{Union{Missing, Int64}, Matrix{Union{Missing, Int64}}}, dims::Int64)\n",
      "    @ Statistics C:\\Users\\matsz\\.julia\\juliaup\\julia-1.11.2+0.x64.w64.mingw32\\share\\julia\\stdlib\\v1.11\\Statistics\\src\\Statistics.jl:191\n",
      " [13] mean\n",
      "    @ C:\\Users\\matsz\\.julia\\juliaup\\julia-1.11.2+0.x64.w64.mingw32\\share\\julia\\stdlib\\v1.11\\Statistics\\src\\Statistics.jl:178 [inlined]\n",
      " [14] _vmean\n",
      "    @ C:\\Users\\matsz\\.julia\\juliaup\\julia-1.11.2+0.x64.w64.mingw32\\share\\julia\\stdlib\\v1.11\\Statistics\\src\\Statistics.jl:526 [inlined]\n",
      " [15] cov(X::Adjoint{Union{Missing, Int64}, Matrix{Union{Missing, Int64}}}; dims::Int64, corrected::Bool)\n",
      "    @ Statistics C:\\Users\\matsz\\.julia\\juliaup\\julia-1.11.2+0.x64.w64.mingw32\\share\\julia\\stdlib\\v1.11\\Statistics\\src\\Statistics.jl:596\n",
      " [16] top-level scope\n",
      "    @ c:\\Users\\matsz\\programowanie\\Optymalizacja_portfela\\julia_msp_spike\\jl_notebook_cell_df34fa98e69747e1a8f8a730347b8e2f_X15sZmlsZQ==.jl:2"
     ]
    }
   ],
   "source": [
    "M2 = [1 2 1; 3 4 1; 5 6 missing]\n",
    "cov(M2')"
   ]
  },
  {
   "cell_type": "code",
   "execution_count": 14,
   "metadata": {},
   "outputs": [],
   "source": []
  }
 ],
 "metadata": {
  "kernelspec": {
   "display_name": "Julia 1.11.2",
   "language": "julia",
   "name": "julia-1.11"
  },
  "language_info": {
   "file_extension": ".jl",
   "mimetype": "application/julia",
   "name": "julia",
   "version": "1.11.2"
  }
 },
 "nbformat": 4,
 "nbformat_minor": 2
}
