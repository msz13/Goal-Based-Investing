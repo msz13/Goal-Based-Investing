{
 "cells": [
  {
   "cell_type": "code",
   "execution_count": 2,
   "metadata": {},
   "outputs": [],
   "source": [
    "using DataFrames, FredData, XLSX, SHA, Dates, CSV, TimeSeries, StatsBase, HiddenMarkovModels, Distributions, Plots, PrettyTables"
   ]
  },
  {
   "cell_type": "code",
   "execution_count": 3,
   "metadata": {},
   "outputs": [
    {
     "data": {
      "text/plain": [
       "regime_summary (generic function with 2 methods)"
      ]
     },
     "metadata": {},
     "output_type": "display_data"
    }
   ],
   "source": [
    "function guess_init(n_scenarios)\n",
    "    regimes_probs = rand(1:100,n_scenarios)\n",
    "    return regimes_probs/sum(regimes_probs)\n",
    "end\n",
    "\n",
    "function guess_tmatrix(n_scenarios)\n",
    "    regimes_probs = rand(1:100,n_scenarios,n_scenarios)\n",
    "    return regimes_probs ./ sum(regimes_probs,dims=2)\n",
    "end\n",
    "\n",
    "function guess_distribution()\n",
    "    sigma = rand(Uniform(0,0.25))\n",
    "    means = rand(Uniform(-0.25,0.25))\n",
    "    return Normal(means,sigma)\n",
    "end\n",
    "\n",
    "function train_hmm(data, n_scenarios = 2)\n",
    "\n",
    "    function guess_distribution()\n",
    "        sigma = rand(Uniform(0,0.25))\n",
    "        means = rand(Uniform(-0.25,0.25))\n",
    "        return Normal(means,sigma)\n",
    "    end\n",
    "    \n",
    "    init_guess = guess_init(n_scenarios)\n",
    "    guess_matrix = guess_tmatrix(n_scenarios)\n",
    "    guess_dist = [guess_distribution() for s in 1:n_scenarios]\n",
    "    hmm_guess = HMM(init_guess, guess_matrix, guess_dist);\n",
    "    return hmm_est, loglikelihood_evolution = baum_welch(hmm_guess, data);\n",
    "end \n",
    "\n",
    "function regime_summary(loglikehood,hmm_est, freq = 1)\n",
    "    tm = transition_matrix(hmm_est)\n",
    "    \n",
    "return DataFrame(Dict(\n",
    "  \"mu1\" => mean(obs_distributions(hmm_est)[1]) * freq,\n",
    "  \"sig1\" => std(obs_distributions(hmm_est)[1]) *  freq^0.5,\n",
    "  \"mu2\" => mean(obs_distributions(hmm_est)[2]) * freq,\n",
    "  \"sig2\" => std(obs_distributions(hmm_est)[2]) * freq^0.5,       \n",
    "  \"p11\" =>  tm[1,1],\n",
    "  \"p21\" =>  tm[2,1],\n",
    "  \"loglikehood\" => last(loglikehood),\n",
    "  \"prob1\" =>  tm[2,1]/(tm[1,2]+tm[2,1])\n",
    "  \n",
    ")) \n",
    "end"
   ]
  },
  {
   "cell_type": "code",
   "execution_count": 4,
   "metadata": {},
   "outputs": [
    {
     "data": {
      "text/plain": [
       "830×1 TimeArray{Float64, 1, Date, Vector{Float64}} 1955-02-01 to 2024-03-01\n",
       "┌────────────┬─────────────────┐\n",
       "│\u001b[1m            \u001b[0m│\u001b[1m CPALTT01USM657N \u001b[0m│\n",
       "├────────────┼─────────────────┤\n",
       "│ 1955-02-01 │             0.0 │\n",
       "│ 1955-03-01 │             0.0 │\n",
       "│ 1955-04-01 │             0.0 │\n",
       "│ 1955-05-01 │             0.0 │\n",
       "│ 1955-06-01 │             0.0 │\n",
       "│ 1955-07-01 │      0.00374532 │\n",
       "│ 1955-08-01 │             0.0 │\n",
       "│ 1955-09-01 │      0.00373134 │\n",
       "│     ⋮      │        ⋮        │\n",
       "│ 2023-09-01 │      0.00248513 │\n",
       "│ 2023-10-01 │     -0.00038338 │\n",
       "│ 2023-11-01 │     -0.00201514 │\n",
       "│ 2023-12-01 │     -0.00099332 │\n",
       "│ 2024-01-01 │       0.0054475 │\n",
       "│ 2024-02-01 │      0.00618967 │\n",
       "│ 2024-03-01 │      0.00646417 │\n",
       "└────────────┴─────────────────┘\n",
       "\u001b[36m                815 rows omitted\u001b[0m"
      ]
     },
     "metadata": {},
     "output_type": "display_data"
    }
   ],
   "source": [
    "cpius_source = TimeArray(CSV.File(\"cpius.csv\", delim=';', dateformat=\"yyyy-mm-dd\", decimal=','),timestamp=:Date)\n",
    "cpi_us = cpius_source ./ 100\n"
   ]
  },
  {
   "cell_type": "code",
   "execution_count": 5,
   "metadata": {},
   "outputs": [
    {
     "name": "stdout",
     "output_type": "stream",
     "text": [
      "Summary Stats:\n",
      "Length:         830\n",
      "Missing Count:  0\n",
      "Mean:           0.002974\n",
      "Std. Deviation: 0.003559\n",
      "Minimum:        -0.019153\n",
      "1st Quartile:   0.000344\n",
      "Median:         0.002906\n",
      "3rd Quartile:   0.004985\n",
      "Maximum:        0.018059\n",
      "Type:           Float64\n"
     ]
    }
   ],
   "source": [
    "describe(values(cpi_us))"
   ]
  },
  {
   "cell_type": "code",
   "execution_count": 6,
   "metadata": {},
   "outputs": [
    {
     "data": {
      "text/plain": [
       "495×1 TimeArray{Float64, 1, Date, Vector{Float64}} 1983-01-01 to 2024-03-01\n",
       "┌────────────┬─────────────────┐\n",
       "│\u001b[1m            \u001b[0m│\u001b[1m CPALTT01USM657N \u001b[0m│\n",
       "├────────────┼─────────────────┤\n",
       "│ 1983-01-01 │      0.00204918 │\n",
       "│ 1983-02-01 │      0.00102249 │\n",
       "│ 1983-03-01 │             0.0 │\n",
       "│ 1983-04-01 │      0.00715015 │\n",
       "│ 1983-05-01 │      0.00608519 │\n",
       "│ 1983-06-01 │      0.00302419 │\n",
       "│ 1983-07-01 │       0.0040201 │\n",
       "│ 1983-08-01 │        0.003003 │\n",
       "│     ⋮      │        ⋮        │\n",
       "│ 2023-09-01 │      0.00248513 │\n",
       "│ 2023-10-01 │     -0.00038338 │\n",
       "│ 2023-11-01 │     -0.00201514 │\n",
       "│ 2023-12-01 │     -0.00099332 │\n",
       "│ 2024-01-01 │       0.0054475 │\n",
       "│ 2024-02-01 │      0.00618967 │\n",
       "│ 2024-03-01 │      0.00646417 │\n",
       "└────────────┴─────────────────┘\n",
       "\u001b[36m                480 rows omitted\u001b[0m"
      ]
     },
     "metadata": {},
     "output_type": "display_data"
    }
   ],
   "source": [
    "cpi_us_1983 = from(cpi_us,Date(1983,1,1))"
   ]
  },
  {
   "cell_type": "code",
   "execution_count": 7,
   "metadata": {},
   "outputs": [
    {
     "name": "stdout",
     "output_type": "stream",
     "text": [
      "Summary Stats:\n",
      "Length:         495\n",
      "Missing Count:  0\n",
      "Mean:           0.002358\n",
      "Std. Deviation: 0.003261\n",
      "Minimum:        -0.019153\n",
      "1st Quartile:   0.000610\n",
      "Median:         0.002404\n",
      "3rd Quartile:   0.004327\n",
      "Maximum:        0.013736\n",
      "Type:           Float64\n"
     ]
    }
   ],
   "source": [
    "describe(values(cpi_us_1983))"
   ]
  },
  {
   "cell_type": "code",
   "execution_count": 27,
   "metadata": {},
   "outputs": [
    {
     "name": "stdout",
     "output_type": "stream",
     "text": [
      "2199.3702415457697\n"
     ]
    },
    {
     "data": {
      "text/plain": [
       "Hidden Markov Model with:\n",
       " - initialization: [1.0, 1.512262037478013e-72, 3.4493781766279777e-59]\n",
       " - transition matrix: [0.8590144104972102 0.0795824859574773 0.06140310354531249; 0.26558993839865985 0.7012705337388168 0.033139527862523485; 1.7907258377002065e-8 0.24068609278410485 0.7593138893086366]\n",
       " - observation distributions: [Normal{Float64}(μ=0.001665537926398226, σ=0.0017637878340031588), Normal{Float64}(μ=0.004949659096574292, σ=0.001998092874921631), Normal{Float64}(μ=0.00034257797888757527, σ=0.005286307294722554)]"
      ]
     },
     "metadata": {},
     "output_type": "display_data"
    }
   ],
   "source": [
    "n_regimes = 3\n",
    "hmm_est, loglikehood = train_hmm(values(cpi_us_1983),n_regimes)\n",
    "println(last(loglikehood))\n",
    "hmm_est"
   ]
  },
  {
   "cell_type": "code",
   "execution_count": 28,
   "metadata": {},
   "outputs": [
    {
     "name": "stdout",
     "output_type": "stream",
     "text": [
      "regime 1, mean: 0.019986455116778712, std: 0.006109940284530664)\n",
      "regime 2, mean: 0.05939590915889151, std: 0.006921596755211262)\n",
      "regime 3, mean: 0.004110935746650903, std: 0.018312305637762892)\n"
     ]
    }
   ],
   "source": [
    "dists = obs_distributions(hmm_est)\n",
    "for r in 1:n_regimes\n",
    "    println(\"regime $r, mean: $(mean(dists[r])*12), std: $(std(dists[r])*12^0.5))\")\n",
    "end\n"
   ]
  }
 ],
 "metadata": {
  "kernelspec": {
   "display_name": "Julia 1.10.2",
   "language": "julia",
   "name": "julia-1.10"
  },
  "language_info": {
   "file_extension": ".jl",
   "mimetype": "application/julia",
   "name": "julia",
   "version": "1.10.2"
  }
 },
 "nbformat": 4,
 "nbformat_minor": 2
}
