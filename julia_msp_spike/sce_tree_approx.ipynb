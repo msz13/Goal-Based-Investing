{
 "cells": [
  {
   "cell_type": "code",
   "execution_count": 11,
   "metadata": {},
   "outputs": [],
   "source": [
    "using Distributions\n",
    "using ScenTrees\n",
    "using Plots"
   ]
  },
  {
   "cell_type": "code",
   "execution_count": 49,
   "metadata": {},
   "outputs": [
    {
     "data": {
      "text/plain": [
       "sampler (generic function with 1 method)"
      ]
     },
     "metadata": {},
     "output_type": "display_data"
    }
   ],
   "source": [
    "function sampler()\n",
    "    t = 5\n",
    "    rand(Normal(.08*t, 0.16*t^.5),4)\n",
    "end\n"
   ]
  },
  {
   "cell_type": "code",
   "execution_count": 50,
   "metadata": {},
   "outputs": [
    {
     "data": {
      "text/plain": [
       "PyObject <matplotlib.collections.PolyCollection object at 0x00000249A5EB47F0>"
      ]
     },
     "metadata": {},
     "output_type": "display_data"
    }
   ],
   "source": [
    "tree = Tree([1,25,6,3],1)\n",
    "res = tree_approximation!(tree, sampler, 100_000, 2, 2)\n",
    "tree_plot(res)"
   ]
  },
  {
   "cell_type": "code",
   "execution_count": 51,
   "metadata": {},
   "outputs": [
    {
     "data": {
      "text/plain": [
       "([177, 178, 179, 180, 181, 182, 183, 184, 185, 186  …  617, 618, 619, 620, 621, 622, 623, 624, 625, 626], 1:450, [0.00499, 0.00412, 0.00295, 0.00471, 0.00239, 0.00376, 0.0031799999999999997, 0.00149, 0.0032799999999999995, 0.0034400000000000003  …  0.0005099999999999999, 0.0008000000000000001, 0.0005, 0.0006199999999999999, 0.00041999999999999996, 0.00017999999999999998, 0.0002999999999999999, 0.00033000000000000005, 0.00055, 0.00034999999999999994])"
      ]
     },
     "metadata": {},
     "output_type": "display_data"
    }
   ],
   "source": [
    "leaves(tree)"
   ]
  },
  {
   "cell_type": "code",
   "execution_count": 60,
   "metadata": {},
   "outputs": [
    {
     "name": "stdout",
     "output_type": "stream",
     "text": [
      "0.17427854548329036\n",
      "0.9416803667369925\n",
      "0.5854987506483653\n",
      "-0.2735402693433303\n",
      "0.7705902745004756\n",
      "0.427272712170366\n",
      "0.1175855724796059\n",
      "0.698839775900892\n",
      "0.5318539706302373\n",
      "0.3753723114324153\n",
      "-0.17120365802080112\n",
      "0.4765253517035662\n",
      "0.32543733054943846\n",
      "-0.6733634619138756\n",
      "1.2076001360527213\n",
      "-0.4269903034970305\n",
      "1.0558934692570539\n",
      "0.05457585353402156\n",
      "0.8484608805816385\n",
      "0.22637066123762248\n",
      "-0.01143215546107632\n",
      "0.6406106028218057\n",
      "-0.08650587192740354\n",
      "1.4406117615202045\n",
      "0.1247871983977852\n"
     ]
    }
   ],
   "source": [
    "for i in 1:25\n",
    "    println(tree.state[2+i])\n",
    "end"
   ]
  },
  {
   "cell_type": "code",
   "execution_count": 53,
   "metadata": {},
   "outputs": [
    {
     "data": {
      "text/plain": [
       "0.49060811191079895"
      ]
     },
     "metadata": {},
     "output_type": "display_data"
    }
   ],
   "source": [
    "tree.state[621]"
   ]
  },
  {
   "cell_type": "code",
   "execution_count": 48,
   "metadata": {},
   "outputs": [
    {
     "data": {
      "text/plain": [
       "175"
      ]
     },
     "metadata": {},
     "output_type": "display_data"
    }
   ],
   "source": [
    "tree.parent[623]"
   ]
  },
  {
   "cell_type": "code",
   "execution_count": 32,
   "metadata": {},
   "outputs": [
    {
     "data": {
      "text/plain": [
       "6-element Vector{Int64}:\n",
       " 171\n",
       " 172\n",
       " 173\n",
       " 174\n",
       " 175\n",
       " 176"
      ]
     },
     "metadata": {},
     "output_type": "display_data"
    }
   ],
   "source": [
    "tree.children[27]"
   ]
  }
 ],
 "metadata": {
  "kernelspec": {
   "display_name": "Julia 1.10.2",
   "language": "julia",
   "name": "julia-1.10"
  },
  "language_info": {
   "file_extension": ".jl",
   "mimetype": "application/julia",
   "name": "julia",
   "version": "1.10.2"
  }
 },
 "nbformat": 4,
 "nbformat_minor": 2
}
