{
 "cells": [
  {
   "cell_type": "code",
   "execution_count": 21,
   "metadata": {},
   "outputs": [
    {
     "name": "stderr",
     "output_type": "stream",
     "text": [
      "WARNING: using Distributions.sampler in module Main conflicts with an existing identifier.\n"
     ]
    }
   ],
   "source": [
    "using Turing\n",
    "using MCMCChains\n",
    "using Distributions\n",
    "\n",
    "using Random\n",
    "Random.seed!(12); # Set seed for reproducibility"
   ]
  },
  {
   "cell_type": "code",
   "execution_count": 12,
   "metadata": {},
   "outputs": [],
   "source": [
    "# Unconditioned coinflip model with `N` observations.\n",
    "@model function coinflip(; N::Int)\n",
    "    # Our prior belief about the probability of heads in a coin toss.\n",
    "    p ~ Beta(1, 1)\n",
    "\n",
    "    # Heads or tails of a coin are drawn from `N` independent and identically\n",
    "    # distributed Bernoulli distributions with success rate `p`.\n",
    "    y ~ filldist(Bernoulli(p), N)\n",
    "\n",
    "    return y\n",
    "end;"
   ]
  },
  {
   "cell_type": "code",
   "execution_count": 10,
   "metadata": {},
   "outputs": [],
   "source": [
    "N = 100;\n",
    "p_true = 0.5;\n",
    "data = rand(Bernoulli(p_true), N);"
   ]
  },
  {
   "cell_type": "code",
   "execution_count": 11,
   "metadata": {},
   "outputs": [
    {
     "data": {
      "text/plain": [
       "5-element Vector{Bool}:\n",
       " 1\n",
       " 0\n",
       " 1\n",
       " 1\n",
       " 1"
      ]
     },
     "metadata": {},
     "output_type": "display_data"
    }
   ],
   "source": [
    "data[1:5]"
   ]
  },
  {
   "cell_type": "code",
   "execution_count": 13,
   "metadata": {},
   "outputs": [
    {
     "data": {
      "text/plain": [
       "(p = 0.33281931361374656, y = Bool[0, 0, 1, 0, 0, 0, 0, 1, 0, 0  …  0, 1, 0, 0, 0, 0, 0, 0, 0, 0])"
      ]
     },
     "metadata": {},
     "output_type": "display_data"
    }
   ],
   "source": [
    "\n",
    "rand(coinflip(; N))"
   ]
  },
  {
   "cell_type": "code",
   "execution_count": 15,
   "metadata": {},
   "outputs": [],
   "source": [
    "coinflip(y::AbstractVector{<:Real}) = coinflip(; N=length(y)) | (; y)\n",
    "model = coinflip(data);"
   ]
  },
  {
   "cell_type": "code",
   "execution_count": 18,
   "metadata": {},
   "outputs": [
    {
     "name": "stderr",
     "output_type": "stream",
     "text": [
      "\u001b[32mSampling   0%|█                                         |  ETA: N/A\u001b[39m\n",
      "┌ Info: Found initial step size\n",
      "│   ϵ = 0.8\n",
      "└ @ Turing.Inference C:\\Users\\matsz\\.julia\\packages\\Turing\\duwEY\\src\\mcmc\\hmc.jl:212\n",
      "\u001b[32mSampling   0%|█                                         |  ETA: 0:05:41\u001b[39m\n",
      "\u001b[32mSampling   1%|█                                         |  ETA: 0:02:52\u001b[39m\n",
      "\u001b[32mSampling   2%|█                                         |  ETA: 0:01:54\u001b[39m\n",
      "\u001b[32mSampling   2%|█                                         |  ETA: 0:01:25\u001b[39m\n",
      "\u001b[32mSampling   2%|██                                        |  ETA: 0:01:08\u001b[39m\n",
      "\u001b[32mSampling   3%|██                                        |  ETA: 0:00:56\u001b[39m\n",
      "\u001b[32mSampling   4%|██                                        |  ETA: 0:00:48\u001b[39m\n",
      "\u001b[32mSampling   4%|██                                        |  ETA: 0:00:42\u001b[39m\n",
      "\u001b[32mSampling   4%|██                                        |  ETA: 0:00:37\u001b[39m\n",
      "\u001b[32mSampling   5%|███                                       |  ETA: 0:00:33\u001b[39m\n",
      "\u001b[32mSampling   6%|███                                       |  ETA: 0:00:30\u001b[39m\n",
      "\u001b[32mSampling   6%|███                                       |  ETA: 0:00:27\u001b[39m\n",
      "\u001b[32mSampling   6%|███                                       |  ETA: 0:00:25\u001b[39m\n",
      "\u001b[32mSampling   7%|███                                       |  ETA: 0:00:23\u001b[39m\n",
      "\u001b[32mSampling   8%|████                                      |  ETA: 0:00:22\u001b[39m\n",
      "\u001b[32mSampling   8%|████                                      |  ETA: 0:00:20\u001b[39m\n",
      "\u001b[32mSampling   8%|████                                      |  ETA: 0:00:19\u001b[39m\n",
      "\u001b[32mSampling   9%|████                                      |  ETA: 0:00:18\u001b[39m\n",
      "\u001b[32mSampling  10%|████                                      |  ETA: 0:00:17\u001b[39m\n",
      "\u001b[32mSampling  10%|█████                                     |  ETA: 0:00:16\u001b[39m\n",
      "\u001b[32mSampling  10%|█████                                     |  ETA: 0:00:15\u001b[39m\n",
      "\u001b[32mSampling  11%|█████                                     |  ETA: 0:00:14\u001b[39m\n",
      "\u001b[32mSampling  12%|█████                                     |  ETA: 0:00:14\u001b[39m\n",
      "\u001b[32mSampling  12%|██████                                    |  ETA: 0:00:13\u001b[39m\n",
      "\u001b[32mSampling  12%|██████                                    |  ETA: 0:00:12\u001b[39m\n",
      "\u001b[32mSampling  13%|██████                                    |  ETA: 0:00:12\u001b[39m\n",
      "\u001b[32mSampling  14%|██████                                    |  ETA: 0:00:11\u001b[39m\n",
      "\u001b[32mSampling  14%|██████                                    |  ETA: 0:00:11\u001b[39m\n",
      "\u001b[32mSampling  14%|███████                                   |  ETA: 0:00:10\u001b[39m\n",
      "\u001b[32mSampling  15%|███████                                   |  ETA: 0:00:10\u001b[39m\n",
      "\u001b[32mSampling  16%|███████                                   |  ETA: 0:00:10\u001b[39m\n",
      "\u001b[32mSampling  16%|███████                                   |  ETA: 0:00:09\u001b[39m\n",
      "\u001b[32mSampling  16%|███████                                   |  ETA: 0:00:09\u001b[39m\n",
      "\u001b[32mSampling  17%|████████                                  |  ETA: 0:00:09\u001b[39m\n",
      "\u001b[32mSampling  18%|████████                                  |  ETA: 0:00:08\u001b[39m\n",
      "\u001b[32mSampling  18%|████████                                  |  ETA: 0:00:08\u001b[39m\n",
      "\u001b[32mSampling  18%|████████                                  |  ETA: 0:00:08\u001b[39m\n",
      "\u001b[32mSampling  19%|████████                                  |  ETA: 0:00:08\u001b[39m\n",
      "\u001b[32mSampling  20%|█████████                                 |  ETA: 0:00:07\u001b[39m\n",
      "\u001b[32mSampling  20%|█████████                                 |  ETA: 0:00:07\u001b[39m\n",
      "\u001b[32mSampling  20%|█████████                                 |  ETA: 0:00:07\u001b[39m\n",
      "\u001b[32mSampling  21%|█████████                                 |  ETA: 0:00:07\u001b[39m\n",
      "\u001b[32mSampling  22%|██████████                                |  ETA: 0:00:07\u001b[39m\n",
      "\u001b[32mSampling  22%|██████████                                |  ETA: 0:00:06\u001b[39m\n",
      "\u001b[32mSampling  22%|██████████                                |  ETA: 0:00:06\u001b[39m\n",
      "\u001b[32mSampling  23%|██████████                                |  ETA: 0:00:06\u001b[39m\n",
      "\u001b[32mSampling  24%|██████████                                |  ETA: 0:00:06\u001b[39m\n",
      "\u001b[32mSampling  24%|███████████                               |  ETA: 0:00:06\u001b[39m\n",
      "\u001b[32mSampling  24%|███████████                               |  ETA: 0:00:06\u001b[39m\n",
      "\u001b[32mSampling  25%|███████████                               |  ETA: 0:00:05\u001b[39m\n",
      "\u001b[32mSampling  26%|███████████                               |  ETA: 0:00:05\u001b[39m\n",
      "\u001b[32mSampling  26%|███████████                               |  ETA: 0:00:05\u001b[39m\n",
      "\u001b[32mSampling  26%|████████████                              |  ETA: 0:00:05\u001b[39m\n",
      "\u001b[32mSampling  27%|████████████                              |  ETA: 0:00:05\u001b[39m\n",
      "\u001b[32mSampling  28%|████████████                              |  ETA: 0:00:05\u001b[39m\n",
      "\u001b[32mSampling  28%|████████████                              |  ETA: 0:00:05\u001b[39m\n",
      "\u001b[32mSampling  28%|████████████                              |  ETA: 0:00:05\u001b[39m\n",
      "\u001b[32mSampling  29%|█████████████                             |  ETA: 0:00:04\u001b[39m\n",
      "\u001b[32mSampling  30%|█████████████                             |  ETA: 0:00:04\u001b[39m\n",
      "\u001b[32mSampling  30%|█████████████                             |  ETA: 0:00:04\u001b[39m\n",
      "\u001b[32mSampling  30%|█████████████                             |  ETA: 0:00:04\u001b[39m\n",
      "\u001b[32mSampling  31%|██████████████                            |  ETA: 0:00:04\u001b[39m\n",
      "\u001b[32mSampling  32%|██████████████                            |  ETA: 0:00:04\u001b[39m\n",
      "\u001b[32mSampling  32%|██████████████                            |  ETA: 0:00:04\u001b[39m\n",
      "\u001b[32mSampling  32%|██████████████                            |  ETA: 0:00:04\u001b[39m\n",
      "\u001b[32mSampling  33%|██████████████                            |  ETA: 0:00:04\u001b[39m\n",
      "\u001b[32mSampling  34%|███████████████                           |  ETA: 0:00:04\u001b[39m\n",
      "\u001b[32mSampling  34%|███████████████                           |  ETA: 0:00:04\u001b[39m\n",
      "\u001b[32mSampling  34%|███████████████                           |  ETA: 0:00:04\u001b[39m\n",
      "\u001b[32mSampling  35%|███████████████                           |  ETA: 0:00:03\u001b[39m\n",
      "\u001b[32mSampling  36%|███████████████                           |  ETA: 0:00:03\u001b[39m\n",
      "\u001b[32mSampling  36%|████████████████                          |  ETA: 0:00:03\u001b[39m\n",
      "\u001b[32mSampling  36%|████████████████                          |  ETA: 0:00:03\u001b[39m\n",
      "\u001b[32mSampling  37%|████████████████                          |  ETA: 0:00:03\u001b[39m\n",
      "\u001b[32mSampling  38%|████████████████                          |  ETA: 0:00:03\u001b[39m\n",
      "\u001b[32mSampling  38%|████████████████                          |  ETA: 0:00:03\u001b[39m\n",
      "\u001b[32mSampling  38%|█████████████████                         |  ETA: 0:00:03\u001b[39m\n",
      "\u001b[32mSampling  39%|█████████████████                         |  ETA: 0:00:03\u001b[39m\n",
      "\u001b[32mSampling  40%|█████████████████                         |  ETA: 0:00:03\u001b[39m\n",
      "\u001b[32mSampling  40%|█████████████████                         |  ETA: 0:00:03\u001b[39m\n",
      "\u001b[32mSampling  40%|██████████████████                        |  ETA: 0:00:03\u001b[39m\n",
      "\u001b[32mSampling  41%|██████████████████                        |  ETA: 0:00:03\u001b[39m\n",
      "\u001b[32mSampling  42%|██████████████████                        |  ETA: 0:00:03\u001b[39m\n",
      "\u001b[32mSampling  42%|██████████████████                        |  ETA: 0:00:03\u001b[39m\n",
      "\u001b[32mSampling  42%|██████████████████                        |  ETA: 0:00:03\u001b[39m\n",
      "\u001b[32mSampling  43%|███████████████████                       |  ETA: 0:00:02\u001b[39m\n",
      "\u001b[32mSampling  44%|███████████████████                       |  ETA: 0:00:02\u001b[39m\n",
      "\u001b[32mSampling  44%|███████████████████                       |  ETA: 0:00:02\u001b[39m\n",
      "\u001b[32mSampling  44%|███████████████████                       |  ETA: 0:00:02\u001b[39m\n",
      "\u001b[32mSampling  45%|███████████████████                       |  ETA: 0:00:02\u001b[39m\n",
      "\u001b[32mSampling  46%|████████████████████                      |  ETA: 0:00:02\u001b[39m\n",
      "\u001b[32mSampling  46%|████████████████████                      |  ETA: 0:00:02\u001b[39m\n",
      "\u001b[32mSampling  46%|████████████████████                      |  ETA: 0:00:02\u001b[39m\n",
      "\u001b[32mSampling  47%|████████████████████                      |  ETA: 0:00:02\u001b[39m\n",
      "\u001b[32mSampling  48%|████████████████████                      |  ETA: 0:00:02\u001b[39m\n",
      "\u001b[32mSampling  48%|█████████████████████                     |  ETA: 0:00:02\u001b[39m\n",
      "\u001b[32mSampling  48%|█████████████████████                     |  ETA: 0:00:02\u001b[39m\n",
      "\u001b[32mSampling  49%|█████████████████████                     |  ETA: 0:00:02\u001b[39m\n",
      "\u001b[32mSampling  50%|█████████████████████                     |  ETA: 0:00:02\u001b[39m\n",
      "\u001b[32mSampling  50%|██████████████████████                    |  ETA: 0:00:02\u001b[39m\n",
      "\u001b[32mSampling  50%|██████████████████████                    |  ETA: 0:00:02\u001b[39m\n",
      "\u001b[32mSampling  51%|██████████████████████                    |  ETA: 0:00:02\u001b[39m\n",
      "\u001b[32mSampling  52%|██████████████████████                    |  ETA: 0:00:02\u001b[39m\n",
      "\u001b[32mSampling  52%|██████████████████████                    |  ETA: 0:00:02\u001b[39m\n",
      "\u001b[32mSampling  52%|███████████████████████                   |  ETA: 0:00:02\u001b[39m\n",
      "\u001b[32mSampling  53%|███████████████████████                   |  ETA: 0:00:02\u001b[39m\n",
      "\u001b[32mSampling  54%|███████████████████████                   |  ETA: 0:00:02\u001b[39m\n",
      "\u001b[32mSampling  54%|███████████████████████                   |  ETA: 0:00:02\u001b[39m\n",
      "\u001b[32mSampling  55%|███████████████████████                   |  ETA: 0:00:02\u001b[39m\n",
      "\u001b[32mSampling  55%|████████████████████████                  |  ETA: 0:00:02\u001b[39m\n",
      "\u001b[32mSampling  56%|████████████████████████                  |  ETA: 0:00:02\u001b[39m\n",
      "\u001b[32mSampling  56%|████████████████████████                  |  ETA: 0:00:02\u001b[39m\n",
      "\u001b[32mSampling  56%|████████████████████████                  |  ETA: 0:00:01\u001b[39m\n",
      "\u001b[32mSampling  57%|████████████████████████                  |  ETA: 0:00:01\u001b[39m\n",
      "\u001b[32mSampling  57%|█████████████████████████                 |  ETA: 0:00:01\u001b[39m\n",
      "\u001b[32mSampling  58%|█████████████████████████                 |  ETA: 0:00:01\u001b[39m\n",
      "\u001b[32mSampling  58%|█████████████████████████                 |  ETA: 0:00:01\u001b[39m\n",
      "\u001b[32mSampling  59%|█████████████████████████                 |  ETA: 0:00:01\u001b[39m\n",
      "\u001b[32mSampling  60%|█████████████████████████                 |  ETA: 0:00:01\u001b[39m\n",
      "\u001b[32mSampling  60%|██████████████████████████                |  ETA: 0:00:01\u001b[39m\n",
      "\u001b[32mSampling  60%|██████████████████████████                |  ETA: 0:00:01\u001b[39m\n",
      "\u001b[32mSampling  61%|██████████████████████████                |  ETA: 0:00:01\u001b[39m\n",
      "\u001b[32mSampling  62%|██████████████████████████                |  ETA: 0:00:01\u001b[39m\n",
      "\u001b[32mSampling  62%|███████████████████████████               |  ETA: 0:00:01\u001b[39m\n",
      "\u001b[32mSampling  62%|███████████████████████████               |  ETA: 0:00:01\u001b[39m\n",
      "\u001b[32mSampling  63%|███████████████████████████               |  ETA: 0:00:01\u001b[39m\n",
      "\u001b[32mSampling  64%|███████████████████████████               |  ETA: 0:00:01\u001b[39m\n",
      "\u001b[32mSampling  64%|███████████████████████████               |  ETA: 0:00:01\u001b[39m\n",
      "\u001b[32mSampling  64%|████████████████████████████              |  ETA: 0:00:01\u001b[39m\n",
      "\u001b[32mSampling  65%|████████████████████████████              |  ETA: 0:00:01\u001b[39m\n",
      "\u001b[32mSampling  66%|████████████████████████████              |  ETA: 0:00:01\u001b[39m\n",
      "\u001b[32mSampling  66%|████████████████████████████              |  ETA: 0:00:01\u001b[39m\n",
      "\u001b[32mSampling  66%|████████████████████████████              |  ETA: 0:00:01\u001b[39m\n",
      "\u001b[32mSampling  67%|█████████████████████████████             |  ETA: 0:00:01\u001b[39m\n",
      "\u001b[32mSampling  68%|█████████████████████████████             |  ETA: 0:00:01\u001b[39m\n",
      "\u001b[32mSampling  68%|█████████████████████████████             |  ETA: 0:00:01\u001b[39m\n",
      "\u001b[32mSampling  68%|█████████████████████████████             |  ETA: 0:00:01\u001b[39m\n",
      "\u001b[32mSampling  69%|█████████████████████████████             |  ETA: 0:00:01\u001b[39m\n",
      "\u001b[32mSampling  70%|██████████████████████████████            |  ETA: 0:00:01\u001b[39m\n",
      "\u001b[32mSampling  70%|██████████████████████████████            |  ETA: 0:00:01\u001b[39m\n",
      "\u001b[32mSampling  70%|██████████████████████████████            |  ETA: 0:00:01\u001b[39m\n",
      "\u001b[32mSampling  71%|██████████████████████████████            |  ETA: 0:00:01\u001b[39m\n",
      "\u001b[32mSampling  72%|███████████████████████████████           |  ETA: 0:00:01\u001b[39m\n",
      "\u001b[32mSampling  72%|███████████████████████████████           |  ETA: 0:00:01\u001b[39m\n",
      "\u001b[32mSampling  72%|███████████████████████████████           |  ETA: 0:00:01\u001b[39m\n",
      "\u001b[32mSampling  73%|███████████████████████████████           |  ETA: 0:00:01\u001b[39m\n",
      "\u001b[32mSampling  74%|███████████████████████████████           |  ETA: 0:00:01\u001b[39m\n",
      "\u001b[32mSampling  74%|████████████████████████████████          |  ETA: 0:00:01\u001b[39m\n",
      "\u001b[32mSampling  74%|████████████████████████████████          |  ETA: 0:00:01\u001b[39m\n",
      "\u001b[32mSampling  75%|████████████████████████████████          |  ETA: 0:00:01\u001b[39m\n",
      "\u001b[32mSampling  76%|████████████████████████████████          |  ETA: 0:00:01\u001b[39m\n",
      "\u001b[32mSampling  76%|████████████████████████████████          |  ETA: 0:00:01\u001b[39m\n",
      "\u001b[32mSampling  76%|█████████████████████████████████         |  ETA: 0:00:01\u001b[39m\n",
      "\u001b[32mSampling  77%|█████████████████████████████████         |  ETA: 0:00:01\u001b[39m\n",
      "\u001b[32mSampling  78%|█████████████████████████████████         |  ETA: 0:00:01\u001b[39m\n",
      "\u001b[32mSampling  78%|█████████████████████████████████         |  ETA: 0:00:01\u001b[39m\n",
      "\u001b[32mSampling  78%|█████████████████████████████████         |  ETA: 0:00:01\u001b[39m\n",
      "\u001b[32mSampling  79%|██████████████████████████████████        |  ETA: 0:00:01\u001b[39m\n",
      "\u001b[32mSampling  80%|██████████████████████████████████        |  ETA: 0:00:01\u001b[39m\n",
      "\u001b[32mSampling  80%|██████████████████████████████████        |  ETA: 0:00:01\u001b[39m\n",
      "\u001b[32mSampling  80%|██████████████████████████████████        |  ETA: 0:00:00\u001b[39m\n",
      "\u001b[32mSampling  81%|███████████████████████████████████       |  ETA: 0:00:00\u001b[39m\n",
      "\u001b[32mSampling  82%|███████████████████████████████████       |  ETA: 0:00:00\u001b[39m\n",
      "\u001b[32mSampling  82%|███████████████████████████████████       |  ETA: 0:00:00\u001b[39m\n",
      "\u001b[32mSampling  82%|███████████████████████████████████       |  ETA: 0:00:00\u001b[39m\n",
      "\u001b[32mSampling  83%|███████████████████████████████████       |  ETA: 0:00:00\u001b[39m\n",
      "\u001b[32mSampling  84%|████████████████████████████████████      |  ETA: 0:00:00\u001b[39m\n",
      "\u001b[32mSampling  84%|████████████████████████████████████      |  ETA: 0:00:00\u001b[39m\n",
      "\u001b[32mSampling  84%|████████████████████████████████████      |  ETA: 0:00:00\u001b[39m\n",
      "\u001b[32mSampling  85%|████████████████████████████████████      |  ETA: 0:00:00\u001b[39m\n",
      "\u001b[32mSampling  86%|████████████████████████████████████      |  ETA: 0:00:00\u001b[39m\n",
      "\u001b[32mSampling  86%|█████████████████████████████████████     |  ETA: 0:00:00\u001b[39m\n",
      "\u001b[32mSampling  86%|█████████████████████████████████████     |  ETA: 0:00:00\u001b[39m\n",
      "\u001b[32mSampling  87%|█████████████████████████████████████     |  ETA: 0:00:00\u001b[39m\n",
      "\u001b[32mSampling  88%|█████████████████████████████████████     |  ETA: 0:00:00\u001b[39m\n",
      "\u001b[32mSampling  88%|█████████████████████████████████████     |  ETA: 0:00:00\u001b[39m\n",
      "\u001b[32mSampling  88%|██████████████████████████████████████    |  ETA: 0:00:00\u001b[39m\n",
      "\u001b[32mSampling  89%|██████████████████████████████████████    |  ETA: 0:00:00\u001b[39m\n",
      "\u001b[32mSampling  90%|██████████████████████████████████████    |  ETA: 0:00:00\u001b[39m\n",
      "\u001b[32mSampling  90%|██████████████████████████████████████    |  ETA: 0:00:00\u001b[39m\n",
      "\u001b[32mSampling  90%|███████████████████████████████████████   |  ETA: 0:00:00\u001b[39m\n",
      "\u001b[32mSampling  91%|███████████████████████████████████████   |  ETA: 0:00:00\u001b[39m\n",
      "\u001b[32mSampling  92%|███████████████████████████████████████   |  ETA: 0:00:00\u001b[39m\n",
      "\u001b[32mSampling  92%|███████████████████████████████████████   |  ETA: 0:00:00\u001b[39m\n",
      "\u001b[32mSampling  92%|███████████████████████████████████████   |  ETA: 0:00:00\u001b[39m\n",
      "\u001b[32mSampling  93%|████████████████████████████████████████  |  ETA: 0:00:00\u001b[39m\n",
      "\u001b[32mSampling  94%|████████████████████████████████████████  |  ETA: 0:00:00\u001b[39m\n",
      "\u001b[32mSampling  94%|████████████████████████████████████████  |  ETA: 0:00:00\u001b[39m\n",
      "\u001b[32mSampling  94%|████████████████████████████████████████  |  ETA: 0:00:00\u001b[39m\n",
      "\u001b[32mSampling  95%|████████████████████████████████████████  |  ETA: 0:00:00\u001b[39m\n",
      "\u001b[32mSampling  96%|█████████████████████████████████████████ |  ETA: 0:00:00\u001b[39m\n",
      "\u001b[32mSampling  96%|█████████████████████████████████████████ |  ETA: 0:00:00\u001b[39m\n",
      "\u001b[32mSampling  96%|█████████████████████████████████████████ |  ETA: 0:00:00\u001b[39m\n",
      "\u001b[32mSampling  97%|█████████████████████████████████████████ |  ETA: 0:00:00\u001b[39m\n",
      "\u001b[32mSampling  98%|█████████████████████████████████████████ |  ETA: 0:00:00\u001b[39m\n",
      "\u001b[32mSampling  98%|██████████████████████████████████████████|  ETA: 0:00:00\u001b[39m\n",
      "\u001b[32mSampling  98%|██████████████████████████████████████████|  ETA: 0:00:00\u001b[39m\n",
      "\u001b[32mSampling  99%|██████████████████████████████████████████|  ETA: 0:00:00\u001b[39m\n",
      "\u001b[32mSampling 100%|██████████████████████████████████████████|  ETA: 0:00:00\u001b[39m\n",
      "\u001b[32mSampling 100%|██████████████████████████████████████████| Time: 0:00:02\u001b[39m\n",
      "\u001b[90mSampling 100%|██████████████████████████████████████████| Time: 0:00:02\u001b[39m\n"
     ]
    }
   ],
   "source": [
    "sampler = NUTS();\n",
    "chain = sample(model, sampler, 2_000, progress=true);"
   ]
  },
  {
   "cell_type": "code",
   "execution_count": 24,
   "metadata": {},
   "outputs": [
    {
     "data": {
      "text/plain": [
       "2-element Vector{ChainDataFrame}:\n",
       " Summary Statistics (1 x 8)\n",
       " Quantiles (1 x 6)"
      ]
     },
     "metadata": {},
     "output_type": "display_data"
    }
   ],
   "source": [
    "describe(chain)"
   ]
  },
  {
   "cell_type": "code",
   "execution_count": 23,
   "metadata": {},
   "outputs": [
    {
     "ename": "UndefVarError",
     "evalue": "UndefVarError: `density` not defined",
     "output_type": "error",
     "traceback": [
      "UndefVarError: `density` not defined\n",
      "\n",
      "Stacktrace:\n",
      " [1] top-level scope\n",
      "   @ c:\\Users\\matsz\\programowanie\\Optymalizacja_portfela\\julia_msp\\turing-spike.ipynb:1"
     ]
    }
   ],
   "source": [
    "density(chain; xlim=(0, 1), legend=:best, w=2, c=:blue)"
   ]
  }
 ],
 "metadata": {
  "kernelspec": {
   "display_name": "Julia 1.10.2",
   "language": "julia",
   "name": "julia-1.10"
  },
  "language_info": {
   "file_extension": ".jl",
   "mimetype": "application/julia",
   "name": "julia",
   "version": "1.10.2"
  }
 },
 "nbformat": 4,
 "nbformat_minor": 2
}
