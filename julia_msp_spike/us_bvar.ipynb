{
 "cells": [
  {
   "cell_type": "code",
   "execution_count": 4,
   "metadata": {},
   "outputs": [
    {
     "ename": "LoadError",
     "evalue": "LoadError: ArgumentError: Package PrettyTables not found in current path, maybe you meant `import/using .PrettyTables`.\n- Otherwise, run `import Pkg; Pkg.add(\"PrettyTables\")` to install the PrettyTables package.\nin expression starting at c:\\Users\\matsz\\programowanie\\Optymalizacja_portfela\\julia_msp_spike\\utils.jl:2",
     "output_type": "error",
     "traceback": [
      "LoadError: ArgumentError: Package PrettyTables not found in current path, maybe you meant `import/using .PrettyTables`.\n",
      "- Otherwise, run `import Pkg; Pkg.add(\"PrettyTables\")` to install the PrettyTables package.\n",
      "in expression starting at c:\\Users\\matsz\\programowanie\\Optymalizacja_portfela\\julia_msp_spike\\utils.jl:2\n",
      "\n",
      "Stacktrace:\n",
      " [1] macro expansion\n",
      "   @ .\\loading.jl:2296 [inlined]\n",
      " [2] macro expansion\n",
      "   @ .\\lock.jl:273 [inlined]\n",
      " [3] __require(into::Module, mod::Symbol)\n",
      "   @ Base .\\loading.jl:2271\n",
      " [4] #invoke_in_world#3\n",
      "   @ .\\essentials.jl:1089 [inlined]\n",
      " [5] invoke_in_world\n",
      "   @ .\\essentials.jl:1086 [inlined]\n",
      " [6] require(into::Module, mod::Symbol)\n",
      "   @ Base .\\loading.jl:2260\n",
      " [7] include(fname::String)\n",
      "   @ Main .\\sysimg.jl:38\n",
      " [8] top-level scope\n",
      "   @ c:\\Users\\matsz\\programowanie\\Optymalizacja_portfela\\julia_msp_spike\\jl_notebook_cell_df34fa98e69747e1a8f8a730347b8e2f_W0sZmlsZQ==.jl:8"
     ]
    }
   ],
   "source": [
    "using Revise\n",
    "#using Turing, MCMCChains\n",
    "using XLSX\n",
    "using DataFrames, TimeSeries\n",
    "#using StatsPlots\n",
    "using LinearAlgebra\n",
    "using StatsBase\n",
    "include(\"utils.jl\")\n",
    "include(\"financial_bvar_temp.jl\")\n",
    "using .FinancialBVAR"
   ]
  },
  {
   "cell_type": "code",
   "execution_count": 5,
   "metadata": {},
   "outputs": [
    {
     "data": {
      "text/plain": [
       "292×11 TimeArray{Float64, 2, Date, Matrix{Float64}} 1951-12-01 to 2024-07-01\n",
       "┌────────────┬──────────┬───────────┬─────────────┬──────────┬────────┬─────────\n",
       "│\u001b[1m            \u001b[0m│\u001b[1m Yeld_10Y \u001b[0m│\u001b[1m Price_10Y \u001b[0m│\u001b[1m Stock_Price \u001b[0m│\u001b[1m Dividend \u001b[0m│\u001b[1m E      \u001b[0m│\u001b[1m CAPE  \u001b[0m ⋯\n",
       "├────────────┼──────────┼───────────┼─────────────┼──────────┼────────┼─────────\n",
       "│ 1951-12-01 │  0.02513 │   104.098 │       24.19 │  1.41333 │   2.44 │ 12.527 ⋯\n",
       "│ 1952-03-01 │  0.02505 │   104.824 │       23.74 │     1.43 │    2.4 │ 12.242 ⋯\n",
       "│ 1952-06-01 │  0.02415 │   106.295 │       25.08 │     1.45 │   2.34 │ 12.669 ⋯\n",
       "│ 1952-09-01 │  0.02685 │   104.468 │       24.26 │  1.43667 │   2.36 │ 12.131 ⋯\n",
       "│ 1952-12-01 │  0.02547 │   106.402 │       26.18 │     1.41 │    2.4 │ 13.010 ⋯\n",
       "│ 1953-03-01 │  0.02735 │   105.373 │       24.71 │  1.41333 │   2.43 │ 12.163 ⋯\n",
       "│ 1953-06-01 │  0.02987 │    103.86 │       24.29 │     1.42 │   2.51 │ 11.750 ⋯\n",
       "│ 1953-09-01 │  0.02636 │    107.81 │       23.97 │     1.43 │   2.55 │ 11.391 ⋯\n",
       "│     ⋮      │    ⋮     │     ⋮     │      ⋮      │    ⋮     │   ⋮    │    ⋮   ⋱\n",
       "│ 2023-03-01 │   0.0348 │   4521.58 │     4121.47 │  68.3767 │ 175.17 │ 28.764 ⋯\n",
       "│ 2023-06-01 │   0.0381 │   4438.75 │     4508.08 │   68.911 │ 181.01 │ 30.891 ⋯\n",
       "│ 2023-09-01 │   0.0459 │   4209.48 │      4269.4 │  69.6433 │ 184.25 │ 28.769 ⋯\n",
       "│ 2023-12-01 │   0.0388 │   4503.77 │     4815.61 │  70.4774 │ 192.43 │ 32.045 ⋯\n",
       "│ 2024-03-01 │    0.042 │   4432.83 │     5112.49 │  71.2085 │ 191.39 │ 33.141 ⋯\n",
       "│ 2024-06-01 │   0.0436 │   4423.92 │      5538.0 │  71.9758 │ 191.39 │ 35.707 ⋯\n",
       "│ 2024-07-01 │   0.0409 │   4536.57 │     5446.68 │  71.9758 │ 191.39 │ 35.081 ⋯\n",
       "└────────────┴──────────┴───────────┴─────────────┴──────────┴────────┴─────────\n",
       "\u001b[36m                                                  6 columns and 277 rows omitted\u001b[0m"
      ]
     },
     "metadata": {},
     "output_type": "display_data"
    }
   ],
   "source": [
    "df = DataFrame(XLSX.readtable(\"usa_var_data.xlsx\", \"Data\", infer_eltypes=true))\n",
    "data_source = collapse(TimeArray(df; timestamp = :Date), Dates.quarter, last)"
   ]
  },
  {
   "cell_type": "code",
   "execution_count": 6,
   "metadata": {},
   "outputs": [
    {
     "data": {
      "text/plain": [
       "11-element Vector{Symbol}:\n",
       " :Yeld_10Y\n",
       " :Price_10Y\n",
       " :Stock_Price\n",
       " :Dividend\n",
       " :E\n",
       " :CAPE\n",
       " :T_Bill\n",
       " :CPI\n",
       " :Dividend_Yeld\n",
       " :Total_Stock_2\n",
       " :Total_Stock"
      ]
     },
     "metadata": {},
     "output_type": "display_data"
    }
   ],
   "source": [
    "colnames(data_source)"
   ]
  },
  {
   "cell_type": "code",
   "execution_count": 7,
   "metadata": {},
   "outputs": [
    {
     "data": {
      "text/plain": [
       "291×5 TimeArray{Float64, 2, Date, Matrix{Float64}} 1952-03-01 to 2024-07-01\n",
       "┌────────────┬────────────────────┬─────────────┬─────────────────┬─────────────\n",
       "│\u001b[1m            \u001b[0m│\u001b[1m Total_Stock_T_Bill \u001b[0m│\u001b[1m T_Bill_CPI  \u001b[0m│\u001b[1m Yeld_10Y_T_Bill \u001b[0m│\u001b[1m CPI       \u001b[0m ⋯\n",
       "├────────────┼────────────────────┼─────────────┼─────────────────┼─────────────\n",
       "│ 1952-03-01 │        -0.00772801 │  0.00772445 │       0.0022875 │ -0.0037807 ⋯\n",
       "│ 1952-06-01 │          0.0651996 │ -0.00708528 │       0.0017875 │   0.011299 ⋯\n",
       "│ 1952-09-01 │         -0.0227685 │  0.00423886 │       0.0024375 │         0. ⋯\n",
       "│ 1952-12-01 │            0.08432 │   0.0089235 │       0.0011425 │ -0.0037523 ⋯\n",
       "│ 1953-03-01 │         -0.0487217 │  0.00497517 │       0.0018125 │         0. ⋯\n",
       "│ 1953-06-01 │        -0.00778441 │ -0.00227055 │       0.0021925 │  0.0074906 ⋯\n",
       "│ 1953-09-01 │        -0.00277599 │ -0.00299956 │        0.002115 │  0.0074349 ⋯\n",
       "│ 1953-12-01 │          0.0705234 │  0.00767892 │       0.0021725 │ -0.0037105 ⋯\n",
       "│     ⋮      │         ⋮          │      ⋮      │        ⋮        │      ⋮     ⋱\n",
       "│ 2023-03-01 │          0.0322876 │ -0.00245978 │       -0.003025 │   0.013918 ⋯\n",
       "│ 2023-06-01 │          0.0806957 │  0.00493352 │       -0.003375 │  0.0076446 ⋯\n",
       "│ 2023-09-01 │         -0.0635769 │  0.00650204 │       -0.001825 │  0.0064562 ⋯\n",
       "│ 2023-12-01 │           0.111001 │   0.0103466 │         -0.0034 │  0.0024217 ⋯\n",
       "│ 2024-03-01 │          0.0502157 │ -0.00373138 │         -0.0026 │   0.016499 ⋯\n",
       "│ 2024-06-01 │          0.0701732 │   0.0106019 │         -0.0022 │  0.0021663 ⋯\n",
       "│ 2024-07-01 │         -0.0284252 │   0.0125889 │       -0.002775 │  8.43301e- ⋯\n",
       "└────────────┴────────────────────┴─────────────┴─────────────────┴─────────────\n",
       "\u001b[36m                                                  2 columns and 276 rows omitted\u001b[0m"
      ]
     },
     "metadata": {},
     "output_type": "display_data"
    }
   ],
   "source": [
    "freq = 4\n",
    "#:Price_10Y\n",
    "returns = percentchange(data_source[:Total_Stock], :log)\n",
    "#returns = merge(returns, log1p.(data_source[:T_Bill])./freq)\n",
    "cpi = percentchange(data_source[:CPI], :log)\n",
    "real_t_bill = log1p.(data_source[:T_Bill])./freq .- cpi\n",
    "excess_returns = returns .- log1p.(data_source[:T_Bill]./freq)\n",
    "term = data_source[:Yeld_10Y] ./freq .- data_source[:T_Bill] ./freq\n",
    "dy = log.(data_source[:Dividend_Yeld])\n",
    "data = merge(excess_returns, real_t_bill, term, cpi, dy)"
   ]
  },
  {
   "cell_type": "code",
   "execution_count": 35,
   "metadata": {},
   "outputs": [
    {
     "ename": "UndefVarError",
     "evalue": "UndefVarError: `CSV` not defined in `Main`\nSuggestion: check for spelling errors or missing imports.",
     "output_type": "error",
     "traceback": [
      "UndefVarError: `CSV` not defined in `Main`\n",
      "Suggestion: check for spelling errors or missing imports.\n",
      "\n",
      "Stacktrace:\n",
      " [1] top-level scope\n",
      "   @ c:\\Users\\matsz\\programowanie\\Optymalizacja_portfela\\julia_msp_spike\\jl_notebook_cell_df34fa98e69747e1a8f8a730347b8e2f_W4sZmlsZQ==.jl:1"
     ]
    }
   ],
   "source": [
    "CSV.write(\"usa_data_transformed.csv\", data)"
   ]
  },
  {
   "cell_type": "code",
   "execution_count": 8,
   "metadata": {},
   "outputs": [
    {
     "ename": "UndefVarError",
     "evalue": "UndefVarError: `returns_summarystats` not defined in `Main`\nSuggestion: check for spelling errors or missing imports.",
     "output_type": "error",
     "traceback": [
      "UndefVarError: `returns_summarystats` not defined in `Main`\n",
      "Suggestion: check for spelling errors or missing imports.\n",
      "\n",
      "Stacktrace:\n",
      " [1] top-level scope\n",
      "   @ c:\\Users\\matsz\\programowanie\\Optymalizacja_portfela\\julia_msp_spike\\jl_notebook_cell_df34fa98e69747e1a8f8a730347b8e2f_W5sZmlsZQ==.jl:5"
     ]
    }
   ],
   "source": [
    "start = Date(1998,01,01)\n",
    "end_d = Date(2019, 12, 31)\n",
    "s_data = to(from(data, start),end_d)\n",
    "\n",
    "returns_summarystats(to(from(returns, start),end_d), freq)"
   ]
  },
  {
   "cell_type": "code",
   "execution_count": 37,
   "metadata": {},
   "outputs": [
    {
     "ename": "UndefVarError",
     "evalue": "UndefVarError: `returns_summarystats` not defined in `Main`\nSuggestion: check for spelling errors or missing imports.",
     "output_type": "error",
     "traceback": [
      "UndefVarError: `returns_summarystats` not defined in `Main`\n",
      "Suggestion: check for spelling errors or missing imports.\n",
      "\n",
      "Stacktrace:\n",
      " [1] top-level scope\n",
      "   @ c:\\Users\\matsz\\programowanie\\Optymalizacja_portfela\\julia_msp_spike\\jl_notebook_cell_df34fa98e69747e1a8f8a730347b8e2f_W6sZmlsZQ==.jl:1"
     ]
    }
   ],
   "source": [
    "returns_summarystats(s_data, 1)"
   ]
  },
  {
   "cell_type": "code",
   "execution_count": 38,
   "metadata": {},
   "outputs": [
    {
     "ename": "UndefVarError",
     "evalue": "UndefVarError: `returns_summarystats` not defined in `Main`\nSuggestion: check for spelling errors or missing imports.",
     "output_type": "error",
     "traceback": [
      "UndefVarError: `returns_summarystats` not defined in `Main`\n",
      "Suggestion: check for spelling errors or missing imports.\n",
      "\n",
      "Stacktrace:\n",
      " [1] top-level scope\n",
      "   @ c:\\Users\\matsz\\programowanie\\Optymalizacja_portfela\\julia_msp_spike\\jl_notebook_cell_df34fa98e69747e1a8f8a730347b8e2f_X10sZmlsZQ==.jl:1"
     ]
    }
   ],
   "source": [
    "returns_summarystats(s_data, freq)"
   ]
  },
  {
   "cell_type": "code",
   "execution_count": 39,
   "metadata": {},
   "outputs": [
    {
     "ename": "UndefVarError",
     "evalue": "UndefVarError: `VARModel` not defined in `Main`\nSuggestion: check for spelling errors or missing imports.",
     "output_type": "error",
     "traceback": [
      "UndefVarError: `VARModel` not defined in `Main`\n",
      "Suggestion: check for spelling errors or missing imports.\n",
      "\n",
      "Stacktrace:\n",
      " [1] top-level scope\n",
      "   @ c:\\Users\\matsz\\programowanie\\Optymalizacja_portfela\\julia_msp_spike\\jl_notebook_cell_df34fa98e69747e1a8f8a730347b8e2f_X11sZmlsZQ==.jl:1"
     ]
    }
   ],
   "source": [
    "vmodel = VARModel(s_data)\n",
    "model_summary(vmodel)"
   ]
  },
  {
   "cell_type": "code",
   "execution_count": 40,
   "metadata": {},
   "outputs": [
    {
     "ename": "UndefVarError",
     "evalue": "UndefVarError: `NormalWishartBVAR` not defined in `Main`\nSuggestion: check for spelling errors or missing imports.",
     "output_type": "error",
     "traceback": [
      "UndefVarError: `NormalWishartBVAR` not defined in `Main`\n",
      "Suggestion: check for spelling errors or missing imports.\n",
      "\n",
      "Stacktrace:\n",
      " [1] top-level scope\n",
      "   @ c:\\Users\\matsz\\programowanie\\Optymalizacja_portfela\\julia_msp_spike\\jl_notebook_cell_df34fa98e69747e1a8f8a730347b8e2f_X12sZmlsZQ==.jl:1"
     ]
    }
   ],
   "source": [
    "bmodel = NormalWishartBVAR(s_data)\n",
    "sample_posterior!(bmodel,10000, 2000)\n",
    "posterior_summary(bmodel)"
   ]
  },
  {
   "cell_type": "code",
   "execution_count": 41,
   "metadata": {},
   "outputs": [
    {
     "ename": "UndefVarError",
     "evalue": "UndefVarError: `colnames` not defined in `Main`\nSuggestion: check for spelling errors or missing imports.",
     "output_type": "error",
     "traceback": [
      "UndefVarError: `colnames` not defined in `Main`\n",
      "Suggestion: check for spelling errors or missing imports.\n",
      "\n",
      "Stacktrace:\n",
      " [1] top-level scope\n",
      "   @ c:\\Users\\matsz\\programowanie\\Optymalizacja_portfela\\julia_msp_spike\\jl_notebook_cell_df34fa98e69747e1a8f8a730347b8e2f_X13sZmlsZQ==.jl:1"
     ]
    }
   ],
   "source": [
    "assets_names = colnames(s_data)\n",
    "scenarios = simulate(vmodel, freq * 15)\n",
    "\n",
    "for n in 1:length(assets_names)\n",
    "   print_percentiles(scenarios[n, :, 2:end], [0.02, 0.05, 0.25, 0.5, 0.75, 0.95, 0.98], freq, string(assets_names[n]))\n",
    "end"
   ]
  },
  {
   "cell_type": "code",
   "execution_count": 42,
   "metadata": {},
   "outputs": [
    {
     "ename": "UndefVarError",
     "evalue": "UndefVarError: `annualise` not defined in `Main`\nSuggestion: check for spelling errors or missing imports.",
     "output_type": "error",
     "traceback": [
      "UndefVarError: `annualise` not defined in `Main`\n",
      "Suggestion: check for spelling errors or missing imports.\n",
      "\n",
      "Stacktrace:\n",
      " [1] top-level scope\n",
      "   @ c:\\Users\\matsz\\programowanie\\Optymalizacja_portfela\\julia_msp_spike\\jl_notebook_cell_df34fa98e69747e1a8f8a730347b8e2f_X14sZmlsZQ==.jl:1"
     ]
    }
   ],
   "source": [
    "y_data = annualise(scenarios[1, :, 21:25],4)\n",
    "display(\"mean\")\n",
    "display(mean(y_data))\n",
    "display(\"std\")\n",
    "display(std(y_data))\n",
    "display(\"skewness\")\n",
    "display(skewness(y_data))\n",
    "display(\"kurtosis\")\n",
    "display(kurtosis(y_data)) "
   ]
  },
  {
   "cell_type": "code",
   "execution_count": 43,
   "metadata": {},
   "outputs": [
    {
     "ename": "UndefVarError",
     "evalue": "UndefVarError: `simulate` not defined in `Main`\nSuggestion: check for spelling errors or missing imports.",
     "output_type": "error",
     "traceback": [
      "UndefVarError: `simulate` not defined in `Main`\n",
      "Suggestion: check for spelling errors or missing imports.\n",
      "\n",
      "Stacktrace:\n",
      " [1] top-level scope\n",
      "   @ c:\\Users\\matsz\\programowanie\\Optymalizacja_portfela\\julia_msp_spike\\jl_notebook_cell_df34fa98e69747e1a8f8a730347b8e2f_X15sZmlsZQ==.jl:1"
     ]
    }
   ],
   "source": [
    "scenarios_b = simulate(bmodel,freq * 15, 10)\n",
    "\n",
    "for n in 1:4\n",
    "    print_percentiles(scenarios_b[n, :, 2:end], [0.05, 0.25, 0.5, 0.75, 0.95], freq, string(assets_names[n]))\n",
    " end"
   ]
  },
  {
   "cell_type": "code",
   "execution_count": 44,
   "metadata": {},
   "outputs": [
    {
     "ename": "UndefVarError",
     "evalue": "UndefVarError: `scenarios` not defined in `Main`\nSuggestion: check for spelling errors or missing imports.",
     "output_type": "error",
     "traceback": [
      "UndefVarError: `scenarios` not defined in `Main`\n",
      "Suggestion: check for spelling errors or missing imports.\n",
      "\n",
      "Stacktrace:\n",
      " [1] top-level scope\n",
      "   @ c:\\Users\\matsz\\programowanie\\Optymalizacja_portfela\\julia_msp_spike\\jl_notebook_cell_df34fa98e69747e1a8f8a730347b8e2f_X16sZmlsZQ==.jl:3"
     ]
    }
   ],
   "source": [
    "# annualised compounded returns for 1, 5, 10, 15 years\n",
    "for n in 1:3\n",
    "    cum_ret = cumsum(scenarios[n,:,2:end]; dims=2)\n",
    "    print_percentiles(expm1.(cum_ret[:,[1 * freq, freq * 5, freq * 10, freq * 15]] ./ [1 5 10 15]),[.02, .1, .25, .5, .75, .9, .98], 1, string(assets_names[n]))    \n",
    "end"
   ]
  },
  {
   "cell_type": "code",
   "execution_count": 45,
   "metadata": {},
   "outputs": [
    {
     "ename": "UndefVarError",
     "evalue": "UndefVarError: `print_percentiles` not defined in `Main`\nSuggestion: check for spelling errors or missing imports.",
     "output_type": "error",
     "traceback": [
      "UndefVarError: `print_percentiles` not defined in `Main`\n",
      "Suggestion: check for spelling errors or missing imports.\n",
      "\n",
      "Stacktrace:\n",
      " [1] top-level scope\n",
      "   @ c:\\Users\\matsz\\programowanie\\Optymalizacja_portfela\\julia_msp_spike\\jl_notebook_cell_df34fa98e69747e1a8f8a730347b8e2f_X20sZmlsZQ==.jl:2"
     ]
    }
   ],
   "source": [
    "for n in 1:3\n",
    "    print_percentiles(scenarios[n, :, 2:end],[.05, .15, .25, .35, .45, .55, .65, 0.75, .85, 0.95], freq*5, string(assets_names[n]))\n",
    "end\n"
   ]
  },
  {
   "cell_type": "code",
   "execution_count": 46,
   "metadata": {},
   "outputs": [
    {
     "ename": "UndefVarError",
     "evalue": "UndefVarError: `s_data` not defined in `Main`\nSuggestion: check for spelling errors or missing imports.",
     "output_type": "error",
     "traceback": [
      "UndefVarError: `s_data` not defined in `Main`\n",
      "Suggestion: check for spelling errors or missing imports.\n",
      "\n",
      "Stacktrace:\n",
      " [1] top-level scope\n",
      "   @ c:\\Users\\matsz\\programowanie\\Optymalizacja_portfela\\julia_msp_spike\\jl_notebook_cell_df34fa98e69747e1a8f8a730347b8e2f_X21sZmlsZQ==.jl:1"
     ]
    }
   ],
   "source": [
    " cov_m = cov(values(s_data[:Total_Stock_T_Bill, :Price_10Y_T_Bill, :T_Bill_CPI])) \n",
    " mu = mean(values(s_data[:Total_Stock_T_Bill, :Price_10Y_T_Bill, :T_Bill_CPI]), dims=1) "
   ]
  },
  {
   "cell_type": "code",
   "execution_count": 47,
   "metadata": {},
   "outputs": [
    {
     "ename": "UndefVarError",
     "evalue": "UndefVarError: `mu` not defined in `Main`\nSuggestion: check for spelling errors or missing imports.",
     "output_type": "error",
     "traceback": [
      "UndefVarError: `mu` not defined in `Main`\n",
      "Suggestion: check for spelling errors or missing imports.\n",
      "\n",
      "Stacktrace:\n",
      " [1] top-level scope\n",
      "   @ c:\\Users\\matsz\\programowanie\\Optymalizacja_portfela\\julia_msp_spike\\jl_notebook_cell_df34fa98e69747e1a8f8a730347b8e2f_X22sZmlsZQ==.jl:5"
     ]
    }
   ],
   "source": [
    "using Distributions\n",
    "scenarios_n = zeros(3,100_000,freq*15)\n",
    "\n",
    "for t in 1:freq*15\n",
    "    scenarios_n[:,:,t] = rand(MvNormal(vec(mu), cov_m), 100_000)\n",
    "end\n",
    "\n"
   ]
  },
  {
   "cell_type": "code",
   "execution_count": 48,
   "metadata": {},
   "outputs": [
    {
     "ename": "UndefVarError",
     "evalue": "UndefVarError: `print_percentiles` not defined in `Main`\nSuggestion: check for spelling errors or missing imports.",
     "output_type": "error",
     "traceback": [
      "UndefVarError: `print_percentiles` not defined in `Main`\n",
      "Suggestion: check for spelling errors or missing imports.\n",
      "\n",
      "Stacktrace:\n",
      " [1] top-level scope\n",
      "   @ c:\\Users\\matsz\\programowanie\\Optymalizacja_portfela\\julia_msp_spike\\jl_notebook_cell_df34fa98e69747e1a8f8a730347b8e2f_X23sZmlsZQ==.jl:2"
     ]
    }
   ],
   "source": [
    "for n in 1:3\n",
    "    print_percentiles(scenarios_n[n, :, 1:end],[0.02, 0.25, 0.5, 0.75, 0.98], 12, string(assets_names[n]))\n",
    "end"
   ]
  },
  {
   "cell_type": "code",
   "execution_count": 49,
   "metadata": {},
   "outputs": [
    {
     "ename": "UndefVarError",
     "evalue": "UndefVarError: `returns_summarystats` not defined in `Main`\nSuggestion: check for spelling errors or missing imports.",
     "output_type": "error",
     "traceback": [
      "UndefVarError: `returns_summarystats` not defined in `Main`\n",
      "Suggestion: check for spelling errors or missing imports.\n",
      "\n",
      "Stacktrace:\n",
      " [1] top-level scope\n",
      "   @ c:\\Users\\matsz\\programowanie\\Optymalizacja_portfela\\julia_msp_spike\\jl_notebook_cell_df34fa98e69747e1a8f8a730347b8e2f_X24sZmlsZQ==.jl:1"
     ]
    }
   ],
   "source": [
    "returns_summarystats(data_source[:Yeld_10Y],1)"
   ]
  },
  {
   "cell_type": "code",
   "execution_count": 50,
   "metadata": {},
   "outputs": [
    {
     "ename": "UndefVarError",
     "evalue": "UndefVarError: `scenarios` not defined in `Main`\nSuggestion: check for spelling errors or missing imports.",
     "output_type": "error",
     "traceback": [
      "UndefVarError: `scenarios` not defined in `Main`\n",
      "Suggestion: check for spelling errors or missing imports.\n",
      "\n",
      "Stacktrace:\n",
      " [1] top-level scope\n",
      "   @ c:\\Users\\matsz\\programowanie\\Optymalizacja_portfela\\julia_msp_spike\\jl_notebook_cell_df34fa98e69747e1a8f8a730347b8e2f_X25sZmlsZQ==.jl:1"
     ]
    }
   ],
   "source": [
    "yelds10y = dropdims(sum(scenarios[[3,5,6],:,:], dims=1), dims=1)\n",
    "print_percentiles(annualise(yelds10y,4), [0.02, 0.25, 0.5, 0.75, 0.98])"
   ]
  },
  {
   "cell_type": "code",
   "execution_count": 51,
   "metadata": {},
   "outputs": [
    {
     "name": "stderr",
     "output_type": "stream",
     "text": [
      "WARNING: replacing module Bonds.\n"
     ]
    },
    {
     "ename": "UndefVarError",
     "evalue": "UndefVarError: `yelds10y` not defined in `Main`\nSuggestion: check for spelling errors or missing imports.",
     "output_type": "error",
     "traceback": [
      "UndefVarError: `yelds10y` not defined in `Main`\n",
      "Suggestion: check for spelling errors or missing imports.\n",
      "\n",
      "Stacktrace:\n",
      " [1] top-level scope\n",
      "   @ c:\\Users\\matsz\\programowanie\\Optymalizacja_portfela\\julia_msp_spike\\jl_notebook_cell_df34fa98e69747e1a8f8a730347b8e2f_X26sZmlsZQ==.jl:5"
     ]
    }
   ],
   "source": [
    "include(\"generate_bond_temp.jl\")\n",
    "\n",
    "using .Bonds\n",
    "\n",
    "bond_returns = Bonds.scenarios_bond_returns(yelds10y, 10, freq)\n",
    "print_percentiles(bond_returns, [0.02, 0.25, 0.5, 0.75, 0.98], freq)"
   ]
  },
  {
   "cell_type": "code",
   "execution_count": 52,
   "metadata": {},
   "outputs": [
    {
     "ename": "UndefVarError",
     "evalue": "UndefVarError: `scenarios` not defined in `Main`\nSuggestion: check for spelling errors or missing imports.",
     "output_type": "error",
     "traceback": [
      "UndefVarError: `scenarios` not defined in `Main`\n",
      "Suggestion: check for spelling errors or missing imports.\n",
      "\n",
      "Stacktrace:\n",
      " [1] top-level scope\n",
      "   @ c:\\Users\\matsz\\programowanie\\Optymalizacja_portfela\\julia_msp_spike\\jl_notebook_cell_df34fa98e69747e1a8f8a730347b8e2f_X30sZmlsZQ==.jl:2"
     ]
    }
   ],
   "source": [
    "#cpi_ann = annualise(scenarios[6,:,2:end],4)\n",
    "t_bill = scenarios[3,:,2:end]\n",
    "excess_bond_returns = bond_returns .- t_bill\n",
    "print_percentiles(expm1.(excess_bond_returns), [0.02, 0.25, 0.5, 0.75, 0.98], freq)"
   ]
  },
  {
   "cell_type": "code",
   "execution_count": 53,
   "metadata": {},
   "outputs": [
    {
     "ename": "UndefVarError",
     "evalue": "UndefVarError: `yelds10y` not defined in `Main`\nSuggestion: check for spelling errors or missing imports.",
     "output_type": "error",
     "traceback": [
      "UndefVarError: `yelds10y` not defined in `Main`\n",
      "Suggestion: check for spelling errors or missing imports.\n",
      "\n",
      "Stacktrace:\n",
      " [1] top-level scope\n",
      "   @ c:\\Users\\matsz\\programowanie\\Optymalizacja_portfela\\julia_msp_spike\\jl_notebook_cell_df34fa98e69747e1a8f8a730347b8e2f_X31sZmlsZQ==.jl:2"
     ]
    }
   ],
   "source": [
    "scenario = 3\n",
    "plot(yelds10y[scenario,:], label=\"yeld\")\n",
    "plot!(twinx(), bond_returns[scenario,:], label=\"bond returns\", color=:orange)"
   ]
  },
  {
   "cell_type": "code",
   "execution_count": 54,
   "metadata": {},
   "outputs": [
    {
     "data": {
      "text/plain": [
       "5-element Vector{Float64}:\n",
       " -0.1829501420163906\n",
       " -0.02774021741262327\n",
       "  0.08058665402014775\n",
       "  0.1876438889977062\n",
       "  0.3427007624671199"
      ]
     },
     "metadata": {},
     "output_type": "display_data"
    }
   ],
   "source": [
    "sim = rand(Normal(.08, .16), 100_000)\n",
    "quantile(sim, [.05, .25, .5, .75, .95])"
   ]
  },
  {
   "cell_type": "code",
   "execution_count": 55,
   "metadata": {},
   "outputs": [
    {
     "data": {
      "text/plain": [
       "5-element Vector{Float64}:\n",
       " -0.18413922684495396\n",
       " -0.027373339913322862\n",
       "  0.0808094150943468\n",
       "  0.18853023800657984\n",
       "  0.34284237873092704"
      ]
     },
     "metadata": {},
     "output_type": "display_data"
    }
   ],
   "source": [
    "sim = rand(Normal(.08, .16), 100_000)\n",
    "quantile(sim, [.05, .25, .5, .75, .95])"
   ]
  },
  {
   "cell_type": "code",
   "execution_count": 56,
   "metadata": {},
   "outputs": [
    {
     "data": {
      "text/plain": [
       "5-element Vector{Float64}:\n",
       " -0.25356624059034005\n",
       " -0.018194266686793498\n",
       "  0.040347832023202204\n",
       "  0.09897408495627744\n",
       "  0.33721538836876624"
      ]
     },
     "metadata": {},
     "output_type": "display_data"
    }
   ],
   "source": [
    "simt = rand(LocationScale(.04, .075, TDist(2.5)), 100_000)\n",
    "quantile(simt, [.02, .25, .5, .75, .98])"
   ]
  },
  {
   "cell_type": "code",
   "execution_count": 57,
   "metadata": {},
   "outputs": [
    {
     "data": {
      "text/plain": [
       "-0.007937168395933782"
      ]
     },
     "metadata": {},
     "output_type": "display_data"
    },
    {
     "data": {
      "text/plain": [
       "-0.05553383435527426"
      ]
     },
     "metadata": {},
     "output_type": "display_data"
    }
   ],
   "source": [
    "r = rand(Normal(0,3),10_000)\n",
    "display(skewness(r))\n",
    "display(kurtosis(r))"
   ]
  },
  {
   "cell_type": "code",
   "execution_count": 58,
   "metadata": {},
   "outputs": [],
   "source": []
  }
 ],
 "metadata": {
  "kernelspec": {
   "display_name": "Julia 1.11.2",
   "language": "julia",
   "name": "julia-1.11"
  },
  "language_info": {
   "file_extension": ".jl",
   "mimetype": "application/julia",
   "name": "julia",
   "version": "1.11.2"
  }
 },
 "nbformat": 4,
 "nbformat_minor": 2
}
