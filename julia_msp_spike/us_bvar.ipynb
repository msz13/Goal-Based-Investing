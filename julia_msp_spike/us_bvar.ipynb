{
 "cells": [
  {
   "cell_type": "code",
   "execution_count": 4,
   "metadata": {},
   "outputs": [
    {
     "name": "stderr",
     "output_type": "stream",
     "text": [
      "WARNING: replacing module FinancialBVAR.\n"
     ]
    }
   ],
   "source": [
    "using Revise\n",
    "#using Turing, MCMCChains\n",
    "using XLSX\n",
    "using DataFrames, TimeSeries\n",
    "#using StatsPlots\n",
    "using LinearAlgebra\n",
    "using StatsBase\n",
    "include(\"utils.jl\")\n",
    "include(\"financial_bvar_temp.jl\")\n",
    "using .FinancialBVAR"
   ]
  },
  {
   "cell_type": "code",
   "execution_count": 5,
   "metadata": {},
   "outputs": [
    {
     "data": {
      "text/plain": [
       "292×11 TimeArray{Float64, 2, Date, Matrix{Float64}} 1951-12-01 to 2024-07-01\n",
       "┌────────────┬──────────┬───────────┬─────────────┬──────────┬────────┬─────────\n",
       "│\u001b[1m            \u001b[0m│\u001b[1m Yeld_10Y \u001b[0m│\u001b[1m Price_10Y \u001b[0m│\u001b[1m Stock_Price \u001b[0m│\u001b[1m Dividend \u001b[0m│\u001b[1m E      \u001b[0m│\u001b[1m CAPE  \u001b[0m ⋯\n",
       "├────────────┼──────────┼───────────┼─────────────┼──────────┼────────┼─────────\n",
       "│ 1951-12-01 │  0.02513 │   104.098 │       24.19 │  1.41333 │   2.44 │ 12.527 ⋯\n",
       "│ 1952-03-01 │  0.02505 │   104.824 │       23.74 │     1.43 │    2.4 │ 12.242 ⋯\n",
       "│ 1952-06-01 │  0.02415 │   106.295 │       25.08 │     1.45 │   2.34 │ 12.669 ⋯\n",
       "│ 1952-09-01 │  0.02685 │   104.468 │       24.26 │  1.43667 │   2.36 │ 12.131 ⋯\n",
       "│ 1952-12-01 │  0.02547 │   106.402 │       26.18 │     1.41 │    2.4 │ 13.010 ⋯\n",
       "│ 1953-03-01 │  0.02735 │   105.373 │       24.71 │  1.41333 │   2.43 │ 12.163 ⋯\n",
       "│ 1953-06-01 │  0.02987 │    103.86 │       24.29 │     1.42 │   2.51 │ 11.750 ⋯\n",
       "│ 1953-09-01 │  0.02636 │    107.81 │       23.97 │     1.43 │   2.55 │ 11.391 ⋯\n",
       "│     ⋮      │    ⋮     │     ⋮     │      ⋮      │    ⋮     │   ⋮    │    ⋮   ⋱\n",
       "│ 2023-03-01 │   0.0348 │   4521.58 │     4121.47 │  68.3767 │ 175.17 │ 28.764 ⋯\n",
       "│ 2023-06-01 │   0.0381 │   4438.75 │     4508.08 │   68.911 │ 181.01 │ 30.891 ⋯\n",
       "│ 2023-09-01 │   0.0459 │   4209.48 │      4269.4 │  69.6433 │ 184.25 │ 28.769 ⋯\n",
       "│ 2023-12-01 │   0.0388 │   4503.77 │     4815.61 │  70.4774 │ 192.43 │ 32.045 ⋯\n",
       "│ 2024-03-01 │    0.042 │   4432.83 │     5112.49 │  71.2085 │ 191.39 │ 33.141 ⋯\n",
       "│ 2024-06-01 │   0.0436 │   4423.92 │      5538.0 │  71.9758 │ 191.39 │ 35.707 ⋯\n",
       "│ 2024-07-01 │   0.0409 │   4536.57 │     5446.68 │  71.9758 │ 191.39 │ 35.081 ⋯\n",
       "└────────────┴──────────┴───────────┴─────────────┴──────────┴────────┴─────────\n",
       "\u001b[36m                                                  6 columns and 277 rows omitted\u001b[0m"
      ]
     },
     "metadata": {},
     "output_type": "display_data"
    }
   ],
   "source": [
    "df = DataFrame(XLSX.readtable(\"usa_var_data.xlsx\", \"Data\", infer_eltypes=true))\n",
    "data_source = collapse(TimeArray(df; timestamp = :Date), Dates.quarter, last)"
   ]
  },
  {
   "cell_type": "code",
   "execution_count": 6,
   "metadata": {},
   "outputs": [
    {
     "data": {
      "text/plain": [
       "11-element Vector{Symbol}:\n",
       " :Yeld_10Y\n",
       " :Price_10Y\n",
       " :Stock_Price\n",
       " :Dividend\n",
       " :E\n",
       " :CAPE\n",
       " :T_Bill\n",
       " :CPI\n",
       " :Dividend_Yeld\n",
       " :Total_Stock_2\n",
       " :Total_Stock"
      ]
     },
     "metadata": {},
     "output_type": "display_data"
    }
   ],
   "source": [
    "colnames(data_source)"
   ]
  },
  {
   "cell_type": "code",
   "execution_count": 7,
   "metadata": {},
   "outputs": [
    {
     "data": {
      "text/plain": [
       "291×5 TimeArray{Float64, 2, Date, Matrix{Float64}} 1952-03-01 to 2024-07-01\n",
       "┌────────────┬────────────────────┬─────────────┬─────────────────┬─────────────\n",
       "│\u001b[1m            \u001b[0m│\u001b[1m Total_Stock_T_Bill \u001b[0m│\u001b[1m T_Bill_CPI  \u001b[0m│\u001b[1m Yeld_10Y_T_Bill \u001b[0m│\u001b[1m CPI       \u001b[0m ⋯\n",
       "├────────────┼────────────────────┼─────────────┼─────────────────┼─────────────\n",
       "│ 1952-03-01 │        -0.00772801 │  0.00772445 │       0.0022875 │ -0.0037807 ⋯\n",
       "│ 1952-06-01 │          0.0651996 │ -0.00708528 │       0.0017875 │   0.011299 ⋯\n",
       "│ 1952-09-01 │         -0.0227685 │  0.00423886 │       0.0024375 │         0. ⋯\n",
       "│ 1952-12-01 │            0.08432 │   0.0089235 │       0.0011425 │ -0.0037523 ⋯\n",
       "│ 1953-03-01 │         -0.0487217 │  0.00497517 │       0.0018125 │         0. ⋯\n",
       "│ 1953-06-01 │        -0.00778441 │ -0.00227055 │       0.0021925 │  0.0074906 ⋯\n",
       "│ 1953-09-01 │        -0.00277599 │ -0.00299956 │        0.002115 │  0.0074349 ⋯\n",
       "│ 1953-12-01 │          0.0705234 │  0.00767892 │       0.0021725 │ -0.0037105 ⋯\n",
       "│     ⋮      │         ⋮          │      ⋮      │        ⋮        │      ⋮     ⋱\n",
       "│ 2023-03-01 │          0.0322876 │ -0.00245978 │       -0.003025 │   0.013918 ⋯\n",
       "│ 2023-06-01 │          0.0806957 │  0.00493352 │       -0.003375 │  0.0076446 ⋯\n",
       "│ 2023-09-01 │         -0.0635769 │  0.00650204 │       -0.001825 │  0.0064562 ⋯\n",
       "│ 2023-12-01 │           0.111001 │   0.0103466 │         -0.0034 │  0.0024217 ⋯\n",
       "│ 2024-03-01 │          0.0502157 │ -0.00373138 │         -0.0026 │   0.016499 ⋯\n",
       "│ 2024-06-01 │          0.0701732 │   0.0106019 │         -0.0022 │  0.0021663 ⋯\n",
       "│ 2024-07-01 │         -0.0284252 │   0.0125889 │       -0.002775 │  8.43301e- ⋯\n",
       "└────────────┴────────────────────┴─────────────┴─────────────────┴─────────────\n",
       "\u001b[36m                                                  2 columns and 276 rows omitted\u001b[0m"
      ]
     },
     "metadata": {},
     "output_type": "display_data"
    }
   ],
   "source": [
    "freq = 4\n",
    "#:Price_10Y\n",
    "returns = percentchange(data_source[:Total_Stock], :log)\n",
    "#returns = merge(returns, log1p.(data_source[:T_Bill])./freq)\n",
    "cpi = percentchange(data_source[:CPI], :log)\n",
    "real_t_bill = log1p.(data_source[:T_Bill])./freq .- cpi\n",
    "excess_returns = returns .- log1p.(data_source[:T_Bill]./freq)\n",
    "term = data_source[:Yeld_10Y] ./freq .- data_source[:T_Bill] ./freq\n",
    "dy = log.(data_source[:Dividend_Yeld])\n",
    "data = merge(excess_returns, real_t_bill, term, cpi, dy)"
   ]
  },
  {
   "cell_type": "code",
   "execution_count": 8,
   "metadata": {},
   "outputs": [
    {
     "ename": "UndefVarError",
     "evalue": "UndefVarError: `CSV` not defined in `Main`\nSuggestion: check for spelling errors or missing imports.",
     "output_type": "error",
     "traceback": [
      "UndefVarError: `CSV` not defined in `Main`\n",
      "Suggestion: check for spelling errors or missing imports.\n",
      "\n",
      "Stacktrace:\n",
      " [1] top-level scope\n",
      "   @ c:\\Users\\matsz\\programowanie\\Optymalizacja_portfela\\julia_msp_spike\\jl_notebook_cell_df34fa98e69747e1a8f8a730347b8e2f_W4sZmlsZQ==.jl:1"
     ]
    }
   ],
   "source": [
    "CSV.write(\"usa_data_transformed.csv\", data)"
   ]
  },
  {
   "cell_type": "code",
   "execution_count": 82,
   "metadata": {},
   "outputs": [
    {
     "data": {
      "text/html": [
       "<table>\n",
       "  <thead>\n",
       "    <tr class = \"header headerLastRow\">\n",
       "      <th class = \"rowLabel\" style = \"font-weight: bold; text-align: right;\"></th>\n",
       "      <th style = \"text-align: right;\">std</th>\n",
       "      <th style = \"text-align: right;\">max</th>\n",
       "      <th style = \"text-align: right;\">mean</th>\n",
       "      <th style = \"text-align: right;\">p75th</th>\n",
       "      <th style = \"text-align: right;\">min</th>\n",
       "      <th style = \"text-align: right;\">skewness</th>\n",
       "      <th style = \"text-align: right;\">p25th</th>\n",
       "      <th style = \"text-align: right;\">autocor</th>\n",
       "      <th style = \"text-align: right;\">kurtosis</th>\n",
       "      <th style = \"text-align: right;\">sr</th>\n",
       "      <th style = \"text-align: right;\">median</th>\n",
       "    </tr>\n",
       "  </thead>\n",
       "  <tbody>\n",
       "    <tr>\n",
       "      <td class = \"rowLabel\" style = \"font-weight: bold; text-align: right;\">Total_Stock</td>\n",
       "      <td style = \"text-align: right;\">0.1395</td>\n",
       "      <td style = \"text-align: right;\">0.8255</td>\n",
       "      <td style = \"text-align: right;\">0.1138</td>\n",
       "      <td style = \"text-align: right;\">0.2722</td>\n",
       "      <td style = \"text-align: right;\">-1.0147</td>\n",
       "      <td style = \"text-align: right;\">-0.6321</td>\n",
       "      <td style = \"text-align: right;\">-0.0168</td>\n",
       "      <td style = \"text-align: right;\">0.0909</td>\n",
       "      <td style = \"text-align: right;\">1.6908</td>\n",
       "      <td style = \"text-align: right;\">0.8155</td>\n",
       "      <td style = \"text-align: right;\">0.1398</td>\n",
       "    </tr>\n",
       "  </tbody>\n",
       "</table>\n"
      ]
     },
     "metadata": {},
     "output_type": "display_data"
    }
   ],
   "source": [
    "start = Date(1975,01,01)\n",
    "end_d = Date(2020, 12, 31)\n",
    "s_data = to(from(data, start),end_d)\n",
    "\n",
    "returns_summarystats(to(from(returns, start),end_d), freq)"
   ]
  },
  {
   "cell_type": "code",
   "execution_count": 83,
   "metadata": {},
   "outputs": [
    {
     "data": {
      "text/html": [
       "<table>\n",
       "  <thead>\n",
       "    <tr class = \"header headerLastRow\">\n",
       "      <th class = \"rowLabel\" style = \"font-weight: bold; text-align: right;\"></th>\n",
       "      <th style = \"text-align: right;\">std</th>\n",
       "      <th style = \"text-align: right;\">max</th>\n",
       "      <th style = \"text-align: right;\">mean</th>\n",
       "      <th style = \"text-align: right;\">p75th</th>\n",
       "      <th style = \"text-align: right;\">min</th>\n",
       "      <th style = \"text-align: right;\">skewness</th>\n",
       "      <th style = \"text-align: right;\">p25th</th>\n",
       "      <th style = \"text-align: right;\">autocor</th>\n",
       "      <th style = \"text-align: right;\">kurtosis</th>\n",
       "      <th style = \"text-align: right;\">sr</th>\n",
       "      <th style = \"text-align: right;\">median</th>\n",
       "    </tr>\n",
       "  </thead>\n",
       "  <tbody>\n",
       "    <tr>\n",
       "      <td class = \"rowLabel\" style = \"font-weight: bold; text-align: right;\">Total_Stock_T_Bill</td>\n",
       "      <td style = \"text-align: right;\">0.0701</td>\n",
       "      <td style = \"text-align: right;\">0.1868</td>\n",
       "      <td style = \"text-align: right;\">0.0175</td>\n",
       "      <td style = \"text-align: right;\">0.0623</td>\n",
       "      <td style = \"text-align: right;\">-0.2565</td>\n",
       "      <td style = \"text-align: right;\">-0.5872</td>\n",
       "      <td style = \"text-align: right;\">-0.0166</td>\n",
       "      <td style = \"text-align: right;\">0.0868</td>\n",
       "      <td style = \"text-align: right;\">1.3255</td>\n",
       "      <td style = \"text-align: right;\">0.2501</td>\n",
       "      <td style = \"text-align: right;\">0.0218</td>\n",
       "    </tr>\n",
       "    <tr>\n",
       "      <td class = \"rowLabel\" style = \"font-weight: bold; text-align: right;\">T_Bill_CPI</td>\n",
       "      <td style = \"text-align: right;\">0.0083</td>\n",
       "      <td style = \"text-align: right;\">0.0255</td>\n",
       "      <td style = \"text-align: right;\">0.0019</td>\n",
       "      <td style = \"text-align: right;\">0.0073</td>\n",
       "      <td style = \"text-align: right;\">-0.0208</td>\n",
       "      <td style = \"text-align: right;\">0.0704</td>\n",
       "      <td style = \"text-align: right;\">-0.0038</td>\n",
       "      <td style = \"text-align: right;\">0.3505</td>\n",
       "      <td style = \"text-align: right;\">0.2942</td>\n",
       "      <td style = \"text-align: right;\">0.2237</td>\n",
       "      <td style = \"text-align: right;\">0.0024</td>\n",
       "    </tr>\n",
       "    <tr>\n",
       "      <td class = \"rowLabel\" style = \"font-weight: bold; text-align: right;\">Yeld_10Y_T_Bill</td>\n",
       "      <td style = \"text-align: right;\">0.0031</td>\n",
       "      <td style = \"text-align: right;\">0.0099</td>\n",
       "      <td style = \"text-align: right;\">0.0043</td>\n",
       "      <td style = \"text-align: right;\">0.0066</td>\n",
       "      <td style = \"text-align: right;\">-0.0077</td>\n",
       "      <td style = \"text-align: right;\">-0.7037</td>\n",
       "      <td style = \"text-align: right;\">0.0021</td>\n",
       "      <td style = \"text-align: right;\">0.769</td>\n",
       "      <td style = \"text-align: right;\">0.7198</td>\n",
       "      <td style = \"text-align: right;\">1.3822</td>\n",
       "      <td style = \"text-align: right;\">0.0048</td>\n",
       "    </tr>\n",
       "    <tr>\n",
       "      <td class = \"rowLabel\" style = \"font-weight: bold; text-align: right;\">CPI</td>\n",
       "      <td style = \"text-align: right;\">0.009</td>\n",
       "      <td style = \"text-align: right;\">0.0403</td>\n",
       "      <td style = \"text-align: right;\">0.0088</td>\n",
       "      <td style = \"text-align: right;\">0.0124</td>\n",
       "      <td style = \"text-align: right;\">-0.0254</td>\n",
       "      <td style = \"text-align: right;\">0.3024</td>\n",
       "      <td style = \"text-align: right;\">0.004</td>\n",
       "      <td style = \"text-align: right;\">0.4101</td>\n",
       "      <td style = \"text-align: right;\">2.0781</td>\n",
       "      <td style = \"text-align: right;\">0.9769</td>\n",
       "      <td style = \"text-align: right;\">0.0082</td>\n",
       "    </tr>\n",
       "    <tr>\n",
       "      <td class = \"rowLabel\" style = \"font-weight: bold; text-align: right;\">Dividend_Yeld</td>\n",
       "      <td style = \"text-align: right;\">0.4315</td>\n",
       "      <td style = \"text-align: right;\">-2.7747</td>\n",
       "      <td style = \"text-align: right;\">-3.6729</td>\n",
       "      <td style = \"text-align: right;\">-3.3352</td>\n",
       "      <td style = \"text-align: right;\">-4.4867</td>\n",
       "      <td style = \"text-align: right;\">0.2391</td>\n",
       "      <td style = \"text-align: right;\">-4.0007</td>\n",
       "      <td style = \"text-align: right;\">0.9781</td>\n",
       "      <td style = \"text-align: right;\">-1.0182</td>\n",
       "      <td style = \"text-align: right;\">-8.5116</td>\n",
       "      <td style = \"text-align: right;\">-3.8214</td>\n",
       "    </tr>\n",
       "  </tbody>\n",
       "</table>\n"
      ]
     },
     "metadata": {},
     "output_type": "display_data"
    }
   ],
   "source": [
    "returns_summarystats(s_data, 1)"
   ]
  },
  {
   "cell_type": "code",
   "execution_count": 84,
   "metadata": {},
   "outputs": [
    {
     "data": {
      "text/html": [
       "<table>\n",
       "  <thead>\n",
       "    <tr class = \"header headerLastRow\">\n",
       "      <th class = \"rowLabel\" style = \"font-weight: bold; text-align: right;\"></th>\n",
       "      <th style = \"text-align: right;\">std</th>\n",
       "      <th style = \"text-align: right;\">max</th>\n",
       "      <th style = \"text-align: right;\">mean</th>\n",
       "      <th style = \"text-align: right;\">p75th</th>\n",
       "      <th style = \"text-align: right;\">min</th>\n",
       "      <th style = \"text-align: right;\">skewness</th>\n",
       "      <th style = \"text-align: right;\">p25th</th>\n",
       "      <th style = \"text-align: right;\">autocor</th>\n",
       "      <th style = \"text-align: right;\">kurtosis</th>\n",
       "      <th style = \"text-align: right;\">sr</th>\n",
       "      <th style = \"text-align: right;\">median</th>\n",
       "    </tr>\n",
       "  </thead>\n",
       "  <tbody>\n",
       "    <tr>\n",
       "      <td class = \"rowLabel\" style = \"font-weight: bold; text-align: right;\">Total_Stock_T_Bill</td>\n",
       "      <td style = \"text-align: right;\">0.1402</td>\n",
       "      <td style = \"text-align: right;\">0.7471</td>\n",
       "      <td style = \"text-align: right;\">0.0702</td>\n",
       "      <td style = \"text-align: right;\">0.2492</td>\n",
       "      <td style = \"text-align: right;\">-1.026</td>\n",
       "      <td style = \"text-align: right;\">-0.5872</td>\n",
       "      <td style = \"text-align: right;\">-0.0662</td>\n",
       "      <td style = \"text-align: right;\">0.0868</td>\n",
       "      <td style = \"text-align: right;\">1.3255</td>\n",
       "      <td style = \"text-align: right;\">0.5003</td>\n",
       "      <td style = \"text-align: right;\">0.0873</td>\n",
       "    </tr>\n",
       "    <tr>\n",
       "      <td class = \"rowLabel\" style = \"font-weight: bold; text-align: right;\">T_Bill_CPI</td>\n",
       "      <td style = \"text-align: right;\">0.0166</td>\n",
       "      <td style = \"text-align: right;\">0.1019</td>\n",
       "      <td style = \"text-align: right;\">0.0074</td>\n",
       "      <td style = \"text-align: right;\">0.0291</td>\n",
       "      <td style = \"text-align: right;\">-0.0832</td>\n",
       "      <td style = \"text-align: right;\">0.0704</td>\n",
       "      <td style = \"text-align: right;\">-0.0152</td>\n",
       "      <td style = \"text-align: right;\">0.3505</td>\n",
       "      <td style = \"text-align: right;\">0.2942</td>\n",
       "      <td style = \"text-align: right;\">0.4474</td>\n",
       "      <td style = \"text-align: right;\">0.0095</td>\n",
       "    </tr>\n",
       "    <tr>\n",
       "      <td class = \"rowLabel\" style = \"font-weight: bold; text-align: right;\">Yeld_10Y_T_Bill</td>\n",
       "      <td style = \"text-align: right;\">0.0062</td>\n",
       "      <td style = \"text-align: right;\">0.0397</td>\n",
       "      <td style = \"text-align: right;\">0.0172</td>\n",
       "      <td style = \"text-align: right;\">0.0264</td>\n",
       "      <td style = \"text-align: right;\">-0.0306</td>\n",
       "      <td style = \"text-align: right;\">-0.7037</td>\n",
       "      <td style = \"text-align: right;\">0.0084</td>\n",
       "      <td style = \"text-align: right;\">0.769</td>\n",
       "      <td style = \"text-align: right;\">0.7198</td>\n",
       "      <td style = \"text-align: right;\">2.7644</td>\n",
       "      <td style = \"text-align: right;\">0.019</td>\n",
       "    </tr>\n",
       "    <tr>\n",
       "      <td class = \"rowLabel\" style = \"font-weight: bold; text-align: right;\">CPI</td>\n",
       "      <td style = \"text-align: right;\">0.018</td>\n",
       "      <td style = \"text-align: right;\">0.1612</td>\n",
       "      <td style = \"text-align: right;\">0.0351</td>\n",
       "      <td style = \"text-align: right;\">0.0496</td>\n",
       "      <td style = \"text-align: right;\">-0.1016</td>\n",
       "      <td style = \"text-align: right;\">0.3024</td>\n",
       "      <td style = \"text-align: right;\">0.0159</td>\n",
       "      <td style = \"text-align: right;\">0.4101</td>\n",
       "      <td style = \"text-align: right;\">2.0781</td>\n",
       "      <td style = \"text-align: right;\">1.9539</td>\n",
       "      <td style = \"text-align: right;\">0.0326</td>\n",
       "    </tr>\n",
       "    <tr>\n",
       "      <td class = \"rowLabel\" style = \"font-weight: bold; text-align: right;\">Dividend_Yeld</td>\n",
       "      <td style = \"text-align: right;\">0.863</td>\n",
       "      <td style = \"text-align: right;\">-11.0987</td>\n",
       "      <td style = \"text-align: right;\">-14.6915</td>\n",
       "      <td style = \"text-align: right;\">-13.3408</td>\n",
       "      <td style = \"text-align: right;\">-17.9466</td>\n",
       "      <td style = \"text-align: right;\">0.2391</td>\n",
       "      <td style = \"text-align: right;\">-16.0028</td>\n",
       "      <td style = \"text-align: right;\">0.9781</td>\n",
       "      <td style = \"text-align: right;\">-1.0182</td>\n",
       "      <td style = \"text-align: right;\">-17.0231</td>\n",
       "      <td style = \"text-align: right;\">-15.2855</td>\n",
       "    </tr>\n",
       "  </tbody>\n",
       "</table>\n"
      ]
     },
     "metadata": {},
     "output_type": "display_data"
    }
   ],
   "source": [
    "returns_summarystats(s_data, freq)"
   ]
  },
  {
   "cell_type": "code",
   "execution_count": 85,
   "metadata": {},
   "outputs": [
    {
     "data": {
      "text/html": [
       "<table>\n",
       "  <caption style = \"text-align: left;\">correlatio matrix</caption>\n",
       "  <thead>\n",
       "    <tr class = \"header headerLastRow\">\n",
       "      <th class = \"rowLabel\" style = \"font-weight: bold; text-align: right;\"></th>\n",
       "      <th style = \"text-align: right;\">Total_Stock_T_Bill</th>\n",
       "      <th style = \"text-align: right;\">T_Bill_CPI</th>\n",
       "      <th style = \"text-align: right;\">Yeld_10Y_T_Bill</th>\n",
       "      <th style = \"text-align: right;\">CPI</th>\n",
       "      <th style = \"text-align: right;\">Dividend_Yeld</th>\n",
       "    </tr>\n",
       "  </thead>\n",
       "  <tbody>\n",
       "    <tr>\n",
       "      <td class = \"rowLabel\" style = \"font-weight: bold; text-align: right;\">Total_Stock_T_Bill</td>\n",
       "      <td style = \"text-align: right;\">1.0</td>\n",
       "      <td style = \"text-align: right;\">-0.0600267</td>\n",
       "      <td style = \"text-align: right;\">0.0491574</td>\n",
       "      <td style = \"text-align: right;\">-0.0402203</td>\n",
       "      <td style = \"text-align: right;\">-0.0897381</td>\n",
       "    </tr>\n",
       "    <tr>\n",
       "      <td class = \"rowLabel\" style = \"font-weight: bold; text-align: right;\">T_Bill_CPI</td>\n",
       "      <td style = \"text-align: right;\">-0.0600267</td>\n",
       "      <td style = \"text-align: right;\">1.0</td>\n",
       "      <td style = \"text-align: right;\">-0.0795142</td>\n",
       "      <td style = \"text-align: right;\">-0.530145</td>\n",
       "      <td style = \"text-align: right;\">0.189184</td>\n",
       "    </tr>\n",
       "    <tr>\n",
       "      <td class = \"rowLabel\" style = \"font-weight: bold; text-align: right;\">Yeld_10Y_T_Bill</td>\n",
       "      <td style = \"text-align: right;\">0.0491574</td>\n",
       "      <td style = \"text-align: right;\">-0.0795142</td>\n",
       "      <td style = \"text-align: right;\">1.0</td>\n",
       "      <td style = \"text-align: right;\">-0.258195</td>\n",
       "      <td style = \"text-align: right;\">0.0791524</td>\n",
       "    </tr>\n",
       "    <tr>\n",
       "      <td class = \"rowLabel\" style = \"font-weight: bold; text-align: right;\">CPI</td>\n",
       "      <td style = \"text-align: right;\">-0.0402203</td>\n",
       "      <td style = \"text-align: right;\">-0.530145</td>\n",
       "      <td style = \"text-align: right;\">-0.258195</td>\n",
       "      <td style = \"text-align: right;\">1.0</td>\n",
       "      <td style = \"text-align: right;\">0.464042</td>\n",
       "    </tr>\n",
       "    <tr>\n",
       "      <td class = \"rowLabel\" style = \"font-weight: bold; text-align: right;\">Dividend_Yeld</td>\n",
       "      <td style = \"text-align: right;\">-0.0897381</td>\n",
       "      <td style = \"text-align: right;\">0.189184</td>\n",
       "      <td style = \"text-align: right;\">0.0791524</td>\n",
       "      <td style = \"text-align: right;\">0.464042</td>\n",
       "      <td style = \"text-align: right;\">1.0</td>\n",
       "    </tr>\n",
       "  </tbody>\n",
       "</table>\n"
      ]
     },
     "metadata": {},
     "output_type": "display_data"
    }
   ],
   "source": [
    "s_data_cor = cor(values(s_data))\n",
    "pretty_table(s_data_cor, backend = Val(:html),header=colnames(s_data), row_labels=colnames(s_data), title=\"correlatio matrix\")"
   ]
  },
  {
   "cell_type": "code",
   "execution_count": 86,
   "metadata": {},
   "outputs": [
    {
     "data": {
      "text/html": [
       "<table>\n",
       "  <caption style = \"text-align: left;\">Coefficients</caption>\n",
       "  <thead>\n",
       "    <tr class = \"header headerLastRow\">\n",
       "      <th class = \"rowLabel\" style = \"font-weight: bold; text-align: right;\"></th>\n",
       "      <th style = \"text-align: right;\">const</th>\n",
       "      <th style = \"text-align: right;\">Total_Stock_T_Bill</th>\n",
       "      <th style = \"text-align: right;\">T_Bill_CPI</th>\n",
       "      <th style = \"text-align: right;\">Yeld_10Y_T_Bill</th>\n",
       "      <th style = \"text-align: right;\">CPI</th>\n",
       "      <th style = \"text-align: right;\">Dividend_Yeld</th>\n",
       "      <th style = \"text-align: right;\">std</th>\n",
       "    </tr>\n",
       "  </thead>\n",
       "  <tbody>\n",
       "    <tr>\n",
       "      <td class = \"rowLabel\" style = \"font-weight: bold; text-align: right;\">Total_Stock_T_Bill</td>\n",
       "      <td style = \"text-align: right;\">0.2481</td>\n",
       "      <td style = \"text-align: right;\">0.0922</td>\n",
       "      <td style = \"text-align: right;\">-2.1897</td>\n",
       "      <td style = \"text-align: right;\">-3.4561</td>\n",
       "      <td style = \"text-align: right;\">-3.1543</td>\n",
       "      <td style = \"text-align: right;\">0.0507</td>\n",
       "      <td style = \"text-align: right;\">0.0684</td>\n",
       "    </tr>\n",
       "    <tr>\n",
       "      <td class = \"rowLabel\" style = \"font-weight: bold; text-align: right;\">T_Bill_CPI</td>\n",
       "      <td style = \"text-align: right;\">-0.0344</td>\n",
       "      <td style = \"text-align: right;\">-0.0119</td>\n",
       "      <td style = \"text-align: right;\">0.855</td>\n",
       "      <td style = \"text-align: right;\">0.7645</td>\n",
       "      <td style = \"text-align: right;\">0.7257</td>\n",
       "      <td style = \"text-align: right;\">-0.0069</td>\n",
       "      <td style = \"text-align: right;\">0.007</td>\n",
       "    </tr>\n",
       "    <tr>\n",
       "      <td class = \"rowLabel\" style = \"font-weight: bold; text-align: right;\">Yeld_10Y_T_Bill</td>\n",
       "      <td style = \"text-align: right;\">0.0017</td>\n",
       "      <td style = \"text-align: right;\">-0.0036</td>\n",
       "      <td style = \"text-align: right;\">-0.002</td>\n",
       "      <td style = \"text-align: right;\">0.7703</td>\n",
       "      <td style = \"text-align: right;\">-0.0041</td>\n",
       "      <td style = \"text-align: right;\">0.0002</td>\n",
       "      <td style = \"text-align: right;\">0.002</td>\n",
       "    </tr>\n",
       "    <tr>\n",
       "      <td class = \"rowLabel\" style = \"font-weight: bold; text-align: right;\">CPI</td>\n",
       "      <td style = \"text-align: right;\">0.0361</td>\n",
       "      <td style = \"text-align: right;\">0.02</td>\n",
       "      <td style = \"text-align: right;\">0.1018</td>\n",
       "      <td style = \"text-align: right;\">-0.6647</td>\n",
       "      <td style = \"text-align: right;\">0.2425</td>\n",
       "      <td style = \"text-align: right;\">0.0074</td>\n",
       "      <td style = \"text-align: right;\">0.0074</td>\n",
       "    </tr>\n",
       "    <tr>\n",
       "      <td class = \"rowLabel\" style = \"font-weight: bold; text-align: right;\">Dividend_Yeld</td>\n",
       "      <td style = \"text-align: right;\">-0.1911</td>\n",
       "      <td style = \"text-align: right;\">-0.0795</td>\n",
       "      <td style = \"text-align: right;\">0.927</td>\n",
       "      <td style = \"text-align: right;\">2.5259</td>\n",
       "      <td style = \"text-align: right;\">2.2616</td>\n",
       "      <td style = \"text-align: right;\">0.958</td>\n",
       "      <td style = \"text-align: right;\">0.0713</td>\n",
       "    </tr>\n",
       "  </tbody>\n",
       "</table>\n"
      ]
     },
     "metadata": {},
     "output_type": "display_data"
    },
    {
     "data": {
      "text/html": [
       "<table>\n",
       "  <caption style = \"text-align: left;\">Residuals correlations</caption>\n",
       "  <thead>\n",
       "    <tr class = \"header headerLastRow\">\n",
       "      <th class = \"rowLabel\" style = \"font-weight: bold; text-align: right;\"></th>\n",
       "      <th style = \"text-align: right;\">Total_Stock_T_Bill</th>\n",
       "      <th style = \"text-align: right;\">T_Bill_CPI</th>\n",
       "      <th style = \"text-align: right;\">Yeld_10Y_T_Bill</th>\n",
       "      <th style = \"text-align: right;\">CPI</th>\n",
       "      <th style = \"text-align: right;\">Dividend_Yeld</th>\n",
       "    </tr>\n",
       "  </thead>\n",
       "  <tbody>\n",
       "    <tr>\n",
       "      <td class = \"rowLabel\" style = \"font-weight: bold; text-align: right;\">Total_Stock_T_Bill</td>\n",
       "      <td style = \"text-align: right;\">1.0</td>\n",
       "      <td style = \"text-align: right;\">0.03</td>\n",
       "      <td style = \"text-align: right;\">0.08</td>\n",
       "      <td style = \"text-align: right;\">-0.08</td>\n",
       "      <td style = \"text-align: right;\">-0.97</td>\n",
       "    </tr>\n",
       "    <tr>\n",
       "      <td class = \"rowLabel\" style = \"font-weight: bold; text-align: right;\">T_Bill_CPI</td>\n",
       "      <td style = \"text-align: right;\">0.03</td>\n",
       "      <td style = \"text-align: right;\">1.0</td>\n",
       "      <td style = \"text-align: right;\">-0.14</td>\n",
       "      <td style = \"text-align: right;\">-0.95</td>\n",
       "      <td style = \"text-align: right;\">-0.05</td>\n",
       "    </tr>\n",
       "    <tr>\n",
       "      <td class = \"rowLabel\" style = \"font-weight: bold; text-align: right;\">Yeld_10Y_T_Bill</td>\n",
       "      <td style = \"text-align: right;\">0.08</td>\n",
       "      <td style = \"text-align: right;\">-0.14</td>\n",
       "      <td style = \"text-align: right;\">1.0</td>\n",
       "      <td style = \"text-align: right;\">-0.11</td>\n",
       "      <td style = \"text-align: right;\">-0.08</td>\n",
       "    </tr>\n",
       "    <tr>\n",
       "      <td class = \"rowLabel\" style = \"font-weight: bold; text-align: right;\">CPI</td>\n",
       "      <td style = \"text-align: right;\">-0.08</td>\n",
       "      <td style = \"text-align: right;\">-0.95</td>\n",
       "      <td style = \"text-align: right;\">-0.11</td>\n",
       "      <td style = \"text-align: right;\">1.0</td>\n",
       "      <td style = \"text-align: right;\">0.09</td>\n",
       "    </tr>\n",
       "    <tr>\n",
       "      <td class = \"rowLabel\" style = \"font-weight: bold; text-align: right;\">Dividend_Yeld</td>\n",
       "      <td style = \"text-align: right;\">-0.97</td>\n",
       "      <td style = \"text-align: right;\">-0.05</td>\n",
       "      <td style = \"text-align: right;\">-0.08</td>\n",
       "      <td style = \"text-align: right;\">0.09</td>\n",
       "      <td style = \"text-align: right;\">1.0</td>\n",
       "    </tr>\n",
       "  </tbody>\n",
       "</table>\n"
      ]
     },
     "metadata": {},
     "output_type": "display_data"
    }
   ],
   "source": [
    "vmodel = VARModel(s_data)\n",
    "model_summary(vmodel)"
   ]
  },
  {
   "cell_type": "code",
   "execution_count": 87,
   "metadata": {},
   "outputs": [
    {
     "data": {
      "text/plain": [
       "false"
      ]
     },
     "metadata": {},
     "output_type": "display_data"
    }
   ],
   "source": [
    "isposdef(vmodel.Σ)"
   ]
  },
  {
   "cell_type": "code",
   "execution_count": 72,
   "metadata": {},
   "outputs": [
    {
     "ename": "PosDefException",
     "evalue": "PosDefException: matrix is not Hermitian; Factorization failed.",
     "output_type": "error",
     "traceback": [
      "PosDefException: matrix is not Hermitian; Factorization failed.\n",
      "\n",
      "Stacktrace:\n",
      "  [1] checkpositivedefinite(info::Int64)\n",
      "    @ LinearAlgebra C:\\Users\\matsz\\.julia\\juliaup\\julia-1.11.2+0.x64.w64.mingw32\\share\\julia\\stdlib\\v1.11\\LinearAlgebra\\src\\factorization.jl:68\n",
      "  [2] #cholesky!#164\n",
      "    @ C:\\Users\\matsz\\.julia\\juliaup\\julia-1.11.2+0.x64.w64.mingw32\\share\\julia\\stdlib\\v1.11\\LinearAlgebra\\src\\cholesky.jl:298 [inlined]\n",
      "  [3] cholesky! (repeats 2 times)\n",
      "    @ C:\\Users\\matsz\\.julia\\juliaup\\julia-1.11.2+0.x64.w64.mingw32\\share\\julia\\stdlib\\v1.11\\LinearAlgebra\\src\\cholesky.jl:295 [inlined]\n",
      "  [4] _cholesky\n",
      "    @ C:\\Users\\matsz\\.julia\\juliaup\\julia-1.11.2+0.x64.w64.mingw32\\share\\julia\\stdlib\\v1.11\\LinearAlgebra\\src\\cholesky.jl:411 [inlined]\n",
      "  [5] cholesky(A::Matrix{Float64}, ::NoPivot; check::Bool)\n",
      "    @ LinearAlgebra C:\\Users\\matsz\\.julia\\juliaup\\julia-1.11.2+0.x64.w64.mingw32\\share\\julia\\stdlib\\v1.11\\LinearAlgebra\\src\\cholesky.jl:401\n",
      "  [6] cholesky (repeats 2 times)\n",
      "    @ C:\\Users\\matsz\\.julia\\juliaup\\julia-1.11.2+0.x64.w64.mingw32\\share\\julia\\stdlib\\v1.11\\LinearAlgebra\\src\\cholesky.jl:401 [inlined]\n",
      "  [7] PDMat\n",
      "    @ C:\\Users\\matsz\\.julia\\packages\\PDMats\\iX2rk\\src\\pdmat.jl:40 [inlined]\n",
      "  [8] InverseWishart(df::Int64, Ψ::Matrix{Float64})\n",
      "    @ Distributions C:\\Users\\matsz\\.julia\\packages\\Distributions\\fi8Qd\\src\\matrix\\inversewishart.jl:45\n",
      "  [9] sample_posterior!(model::NormalWishartBVARmodel, n_samples::Int64, burnin::Int64)\n",
      "    @ Main.FinancialBVAR c:\\Users\\matsz\\programowanie\\Optymalizacja_portfela\\julia_msp_spike\\financial_bvar_temp.jl:47\n",
      " [10] top-level scope\n",
      "    @ c:\\Users\\matsz\\programowanie\\Optymalizacja_portfela\\julia_msp_spike\\jl_notebook_cell_df34fa98e69747e1a8f8a730347b8e2f_X12sZmlsZQ==.jl:2"
     ]
    }
   ],
   "source": [
    "bmodel = NormalWishartBVAR(s_data)\n",
    "sample_posterior!(bmodel,10000, 2000)\n",
    "posterior_summary(bmodel)"
   ]
  },
  {
   "cell_type": "code",
   "execution_count": 74,
   "metadata": {},
   "outputs": [
    {
     "ename": "PosDefException",
     "evalue": "PosDefException: matrix is not Hermitian; Factorization failed.",
     "output_type": "error",
     "traceback": [
      "PosDefException: matrix is not Hermitian; Factorization failed.\n",
      "\n",
      "Stacktrace:\n",
      "  [1] checkpositivedefinite(info::Int64)\n",
      "    @ LinearAlgebra C:\\Users\\matsz\\.julia\\juliaup\\julia-1.11.2+0.x64.w64.mingw32\\share\\julia\\stdlib\\v1.11\\LinearAlgebra\\src\\factorization.jl:68\n",
      "  [2] #cholesky!#164\n",
      "    @ C:\\Users\\matsz\\.julia\\juliaup\\julia-1.11.2+0.x64.w64.mingw32\\share\\julia\\stdlib\\v1.11\\LinearAlgebra\\src\\cholesky.jl:298 [inlined]\n",
      "  [3] cholesky! (repeats 2 times)\n",
      "    @ C:\\Users\\matsz\\.julia\\juliaup\\julia-1.11.2+0.x64.w64.mingw32\\share\\julia\\stdlib\\v1.11\\LinearAlgebra\\src\\cholesky.jl:295 [inlined]\n",
      "  [4] _cholesky\n",
      "    @ C:\\Users\\matsz\\.julia\\juliaup\\julia-1.11.2+0.x64.w64.mingw32\\share\\julia\\stdlib\\v1.11\\LinearAlgebra\\src\\cholesky.jl:411 [inlined]\n",
      "  [5] cholesky(A::Matrix{Float64}, ::NoPivot; check::Bool)\n",
      "    @ LinearAlgebra C:\\Users\\matsz\\.julia\\juliaup\\julia-1.11.2+0.x64.w64.mingw32\\share\\julia\\stdlib\\v1.11\\LinearAlgebra\\src\\cholesky.jl:401\n",
      "  [6] cholesky (repeats 2 times)\n",
      "    @ C:\\Users\\matsz\\.julia\\juliaup\\julia-1.11.2+0.x64.w64.mingw32\\share\\julia\\stdlib\\v1.11\\LinearAlgebra\\src\\cholesky.jl:401 [inlined]\n",
      "  [7] PDMat\n",
      "    @ C:\\Users\\matsz\\.julia\\packages\\PDMats\\iX2rk\\src\\pdmat.jl:40 [inlined]\n",
      "  [8] MvNormal(μ::Vector{Float64}, Σ::Matrix{Float64})\n",
      "    @ Distributions C:\\Users\\matsz\\.julia\\packages\\Distributions\\fi8Qd\\src\\multivariate\\mvnormal.jl:201\n",
      "  [9] simulate(model::VARModel, n_steps::Int64, n_scenarios::Int64)\n",
      "    @ Main.FinancialBVAR c:\\Users\\matsz\\programowanie\\Optymalizacja_portfela\\julia_msp_spike\\financial_bvar_temp.jl:183\n",
      " [10] simulate(model::VARModel, n_steps::Int64)\n",
      "    @ Main.FinancialBVAR c:\\Users\\matsz\\programowanie\\Optymalizacja_portfela\\julia_msp_spike\\financial_bvar_temp.jl:175\n",
      " [11] top-level scope\n",
      "    @ c:\\Users\\matsz\\programowanie\\Optymalizacja_portfela\\julia_msp_spike\\jl_notebook_cell_df34fa98e69747e1a8f8a730347b8e2f_X13sZmlsZQ==.jl:2"
     ]
    }
   ],
   "source": [
    "assets_names = colnames(s_data)\n",
    "scenarios = simulate(vmodel, freq * 15)\n",
    "\n",
    "for n in 1:length(assets_names)\n",
    "   print_percentiles(scenarios[n, :, 2:end], [0.02, 0.05, 0.25, 0.5, 0.75, 0.95, 0.98], freq, string(assets_names[n]))\n",
    "end"
   ]
  },
  {
   "cell_type": "code",
   "execution_count": 66,
   "metadata": {},
   "outputs": [
    {
     "ename": "UndefVarError",
     "evalue": "UndefVarError: `scenarios` not defined in `Main`\nSuggestion: check for spelling errors or missing imports.",
     "output_type": "error",
     "traceback": [
      "UndefVarError: `scenarios` not defined in `Main`\n",
      "Suggestion: check for spelling errors or missing imports.\n",
      "\n",
      "Stacktrace:\n",
      " [1] top-level scope\n",
      "   @ c:\\Users\\matsz\\programowanie\\Optymalizacja_portfela\\julia_msp_spike\\jl_notebook_cell_df34fa98e69747e1a8f8a730347b8e2f_X14sZmlsZQ==.jl:1"
     ]
    }
   ],
   "source": [
    "y_data = annualise(scenarios[1, :, 21:25],4)\n",
    "display(\"mean\")\n",
    "display(mean(y_data))\n",
    "display(\"std\")\n",
    "display(std(y_data))\n",
    "display(\"skewness\")\n",
    "display(skewness(y_data))\n",
    "display(\"kurtosis\")\n",
    "display(kurtosis(y_data)) "
   ]
  },
  {
   "cell_type": "code",
   "execution_count": 39,
   "metadata": {},
   "outputs": [
    {
     "ename": "MethodError",
     "evalue": "MethodError: no method matching size(::Missing)\nThe function `size` exists, but no method is defined for this combination of argument types.\n\nClosest candidates are:\n  size(!Matched::Base.MethodList)\n   @ Base reflection.jl:1193\n  size(!Matched::Core.Compiler.StmtRange)\n   @ Base show.jl:2820\n  size(!Matched::XLSX.CellRange)\n   @ XLSX C:\\Users\\matsz\\.julia\\packages\\XLSX\\vzApD\\src\\cellref.jl:200\n  ...\n",
     "output_type": "error",
     "traceback": [
      "MethodError: no method matching size(::Missing)\n",
      "The function `size` exists, but no method is defined for this combination of argument types.\n",
      "\n",
      "Closest candidates are:\n",
      "  size(!Matched::Base.MethodList)\n",
      "   @ Base reflection.jl:1193\n",
      "  size(!Matched::Core.Compiler.StmtRange)\n",
      "   @ Base show.jl:2820\n",
      "  size(!Matched::XLSX.CellRange)\n",
      "   @ XLSX C:\\Users\\matsz\\.julia\\packages\\XLSX\\vzApD\\src\\cellref.jl:200\n",
      "  ...\n",
      "\n",
      "\n",
      "Stacktrace:\n",
      " [1] simulate(model::NormalWishartBVARmodel, n_steps::Int64, d::Int64)\n",
      "   @ Main.FinancialBVAR c:\\Users\\matsz\\programowanie\\Optymalizacja_portfela\\julia_msp_spike\\financial_bvar_temp.jl:108\n",
      " [2] top-level scope\n",
      "   @ c:\\Users\\matsz\\programowanie\\Optymalizacja_portfela\\julia_msp_spike\\jl_notebook_cell_df34fa98e69747e1a8f8a730347b8e2f_X15sZmlsZQ==.jl:1"
     ]
    }
   ],
   "source": [
    "scenarios_b = simulate(bmodel,freq * 15, 10)\n",
    "\n",
    "for n in 1:4\n",
    "    print_percentiles(scenarios_b[n, :, 2:end], [0.05, 0.25, 0.5, 0.75, 0.95], freq, string(assets_names[n]))\n",
    " end"
   ]
  },
  {
   "cell_type": "code",
   "execution_count": 40,
   "metadata": {},
   "outputs": [
    {
     "ename": "UndefVarError",
     "evalue": "UndefVarError: `scenarios` not defined in `Main`\nSuggestion: check for spelling errors or missing imports.",
     "output_type": "error",
     "traceback": [
      "UndefVarError: `scenarios` not defined in `Main`\n",
      "Suggestion: check for spelling errors or missing imports.\n",
      "\n",
      "Stacktrace:\n",
      " [1] top-level scope\n",
      "   @ c:\\Users\\matsz\\programowanie\\Optymalizacja_portfela\\julia_msp_spike\\jl_notebook_cell_df34fa98e69747e1a8f8a730347b8e2f_X16sZmlsZQ==.jl:3"
     ]
    }
   ],
   "source": [
    "# annualised compounded returns for 1, 5, 10, 15 years\n",
    "for n in 1:3\n",
    "    cum_ret = cumsum(scenarios[n,:,2:end]; dims=2)\n",
    "    print_percentiles(expm1.(cum_ret[:,[1 * freq, freq * 5, freq * 10, freq * 15]] ./ [1 5 10 15]),[.02, .1, .25, .5, .75, .9, .98], 1, string(assets_names[n]))    \n",
    "end"
   ]
  },
  {
   "cell_type": "code",
   "execution_count": 41,
   "metadata": {},
   "outputs": [
    {
     "ename": "UndefVarError",
     "evalue": "UndefVarError: `scenarios` not defined in `Main`\nSuggestion: check for spelling errors or missing imports.",
     "output_type": "error",
     "traceback": [
      "UndefVarError: `scenarios` not defined in `Main`\n",
      "Suggestion: check for spelling errors or missing imports.\n",
      "\n",
      "Stacktrace:\n",
      " [1] top-level scope\n",
      "   @ c:\\Users\\matsz\\programowanie\\Optymalizacja_portfela\\julia_msp_spike\\jl_notebook_cell_df34fa98e69747e1a8f8a730347b8e2f_X20sZmlsZQ==.jl:2"
     ]
    }
   ],
   "source": [
    "for n in 1:3\n",
    "    print_percentiles(scenarios[n, :, 2:end],[.05, .15, .25, .35, .45, .55, .65, 0.75, .85, 0.95], freq*5, string(assets_names[n]))\n",
    "end\n"
   ]
  },
  {
   "cell_type": "code",
   "execution_count": 42,
   "metadata": {},
   "outputs": [
    {
     "ename": "KeyError",
     "evalue": "KeyError: key :Price_10Y_T_Bill not found",
     "output_type": "error",
     "traceback": [
      "KeyError: key :Price_10Y_T_Bill not found\n",
      "\n",
      "Stacktrace:\n",
      "  [1] findcol\n",
      "    @ C:\\Users\\matsz\\.julia\\packages\\TimeSeries\\zx7sJ\\src\\utilities.jl:178 [inlined]\n",
      "  [2] findcol\n",
      "    @ C:\\Users\\matsz\\.julia\\packages\\TimeSeries\\zx7sJ\\src\\utilities.jl:174 [inlined]\n",
      "  [3] #19\n",
      "    @ C:\\Users\\matsz\\.julia\\packages\\TimeSeries\\zx7sJ\\src\\timearray.jl:275 [inlined]\n",
      "  [4] iterate\n",
      "    @ .\\generator.jl:48 [inlined]\n",
      "  [5] collect_to!(dest::Vector{Int64}, itr::Base.Generator{Vector{Symbol}, TimeSeries.var\"#19#20\"{TimeArray{Float64, 2, Date, Matrix{Float64}}}}, offs::Int64, st::Int64)\n",
      "    @ Base .\\array.jl:849\n",
      "  [6] collect_to_with_first!\n",
      "    @ .\\array.jl:827 [inlined]\n",
      "  [7] _collect(c::Vector{Symbol}, itr::Base.Generator{Vector{Symbol}, TimeSeries.var\"#19#20\"{TimeArray{Float64, 2, Date, Matrix{Float64}}}}, ::Base.EltypeUnknown, isz::Base.HasShape{1})\n",
      "    @ Base .\\array.jl:821\n",
      "  [8] collect_similar\n",
      "    @ .\\array.jl:720 [inlined]\n",
      "  [9] map\n",
      "    @ .\\abstractarray.jl:3371 [inlined]\n",
      " [10] getindex\n",
      "    @ C:\\Users\\matsz\\.julia\\packages\\TimeSeries\\zx7sJ\\src\\timearray.jl:274 [inlined]\n",
      " [11] getindex(::TimeArray{Float64, 2, Date, Matrix{Float64}}, ::Symbol, ::Symbol, ::Symbol)\n",
      "    @ TimeSeries C:\\Users\\matsz\\.julia\\packages\\TimeSeries\\zx7sJ\\src\\timearray.jl:273\n",
      " [12] top-level scope\n",
      "    @ c:\\Users\\matsz\\programowanie\\Optymalizacja_portfela\\julia_msp_spike\\jl_notebook_cell_df34fa98e69747e1a8f8a730347b8e2f_X21sZmlsZQ==.jl:1"
     ]
    }
   ],
   "source": [
    " cov_m = cov(values(s_data[:Total_Stock_T_Bill, :Price_10Y_T_Bill, :T_Bill_CPI])) \n",
    " mu = mean(values(s_data[:Total_Stock_T_Bill, :Price_10Y_T_Bill, :T_Bill_CPI]), dims=1) "
   ]
  },
  {
   "cell_type": "code",
   "execution_count": 43,
   "metadata": {},
   "outputs": [
    {
     "ename": "UndefVarError",
     "evalue": "UndefVarError: `mu` not defined in `Main`\nSuggestion: check for spelling errors or missing imports.",
     "output_type": "error",
     "traceback": [
      "UndefVarError: `mu` not defined in `Main`\n",
      "Suggestion: check for spelling errors or missing imports.\n",
      "\n",
      "Stacktrace:\n",
      " [1] top-level scope\n",
      "   @ c:\\Users\\matsz\\programowanie\\Optymalizacja_portfela\\julia_msp_spike\\jl_notebook_cell_df34fa98e69747e1a8f8a730347b8e2f_X22sZmlsZQ==.jl:5"
     ]
    }
   ],
   "source": [
    "using Distributions\n",
    "scenarios_n = zeros(3,100_000,freq*15)\n",
    "\n",
    "for t in 1:freq*15\n",
    "    scenarios_n[:,:,t] = rand(MvNormal(vec(mu), cov_m), 100_000)\n",
    "end\n",
    "\n"
   ]
  },
  {
   "cell_type": "code",
   "execution_count": 44,
   "metadata": {},
   "outputs": [
    {
     "data": {
      "text/html": [
       "<table>\n",
       "  <caption style = \"text-align: left;\">Total_Stock_T_Bill</caption>\n",
       "  <thead>\n",
       "    <tr class = \"header headerLastRow\">\n",
       "      <th class = \"rowLabel\" style = \"font-weight: bold; text-align: right;\"></th>\n",
       "      <th style = \"text-align: right;\">1</th>\n",
       "      <th style = \"text-align: right;\">2</th>\n",
       "      <th style = \"text-align: right;\">3</th>\n",
       "      <th style = \"text-align: right;\">4</th>\n",
       "      <th style = \"text-align: right;\">5</th>\n",
       "    </tr>\n",
       "  </thead>\n",
       "  <tbody>\n",
       "    <tr>\n",
       "      <td class = \"rowLabel\" style = \"font-weight: bold; text-align: right;\">0.02</td>\n",
       "      <td style = \"text-align: right;\">0.0</td>\n",
       "      <td style = \"text-align: right;\">0.0</td>\n",
       "      <td style = \"text-align: right;\">0.0</td>\n",
       "      <td style = \"text-align: right;\">0.0</td>\n",
       "      <td style = \"text-align: right;\">0.0</td>\n",
       "    </tr>\n",
       "    <tr>\n",
       "      <td class = \"rowLabel\" style = \"font-weight: bold; text-align: right;\">0.25</td>\n",
       "      <td style = \"text-align: right;\">0.0</td>\n",
       "      <td style = \"text-align: right;\">0.0</td>\n",
       "      <td style = \"text-align: right;\">0.0</td>\n",
       "      <td style = \"text-align: right;\">0.0</td>\n",
       "      <td style = \"text-align: right;\">0.0</td>\n",
       "    </tr>\n",
       "    <tr>\n",
       "      <td class = \"rowLabel\" style = \"font-weight: bold; text-align: right;\">0.5</td>\n",
       "      <td style = \"text-align: right;\">0.0</td>\n",
       "      <td style = \"text-align: right;\">0.0</td>\n",
       "      <td style = \"text-align: right;\">0.0</td>\n",
       "      <td style = \"text-align: right;\">0.0</td>\n",
       "      <td style = \"text-align: right;\">0.0</td>\n",
       "    </tr>\n",
       "    <tr>\n",
       "      <td class = \"rowLabel\" style = \"font-weight: bold; text-align: right;\">0.75</td>\n",
       "      <td style = \"text-align: right;\">0.0</td>\n",
       "      <td style = \"text-align: right;\">0.0</td>\n",
       "      <td style = \"text-align: right;\">0.0</td>\n",
       "      <td style = \"text-align: right;\">0.0</td>\n",
       "      <td style = \"text-align: right;\">0.0</td>\n",
       "    </tr>\n",
       "    <tr>\n",
       "      <td class = \"rowLabel\" style = \"font-weight: bold; text-align: right;\">0.98</td>\n",
       "      <td style = \"text-align: right;\">0.0</td>\n",
       "      <td style = \"text-align: right;\">0.0</td>\n",
       "      <td style = \"text-align: right;\">0.0</td>\n",
       "      <td style = \"text-align: right;\">0.0</td>\n",
       "      <td style = \"text-align: right;\">0.0</td>\n",
       "    </tr>\n",
       "  </tbody>\n",
       "</table>\n"
      ]
     },
     "metadata": {},
     "output_type": "display_data"
    },
    {
     "data": {
      "text/html": [
       "<table>\n",
       "  <caption style = \"text-align: left;\">T_Bill_CPI</caption>\n",
       "  <thead>\n",
       "    <tr class = \"header headerLastRow\">\n",
       "      <th class = \"rowLabel\" style = \"font-weight: bold; text-align: right;\"></th>\n",
       "      <th style = \"text-align: right;\">1</th>\n",
       "      <th style = \"text-align: right;\">2</th>\n",
       "      <th style = \"text-align: right;\">3</th>\n",
       "      <th style = \"text-align: right;\">4</th>\n",
       "      <th style = \"text-align: right;\">5</th>\n",
       "    </tr>\n",
       "  </thead>\n",
       "  <tbody>\n",
       "    <tr>\n",
       "      <td class = \"rowLabel\" style = \"font-weight: bold; text-align: right;\">0.02</td>\n",
       "      <td style = \"text-align: right;\">0.0</td>\n",
       "      <td style = \"text-align: right;\">0.0</td>\n",
       "      <td style = \"text-align: right;\">0.0</td>\n",
       "      <td style = \"text-align: right;\">0.0</td>\n",
       "      <td style = \"text-align: right;\">0.0</td>\n",
       "    </tr>\n",
       "    <tr>\n",
       "      <td class = \"rowLabel\" style = \"font-weight: bold; text-align: right;\">0.25</td>\n",
       "      <td style = \"text-align: right;\">0.0</td>\n",
       "      <td style = \"text-align: right;\">0.0</td>\n",
       "      <td style = \"text-align: right;\">0.0</td>\n",
       "      <td style = \"text-align: right;\">0.0</td>\n",
       "      <td style = \"text-align: right;\">0.0</td>\n",
       "    </tr>\n",
       "    <tr>\n",
       "      <td class = \"rowLabel\" style = \"font-weight: bold; text-align: right;\">0.5</td>\n",
       "      <td style = \"text-align: right;\">0.0</td>\n",
       "      <td style = \"text-align: right;\">0.0</td>\n",
       "      <td style = \"text-align: right;\">0.0</td>\n",
       "      <td style = \"text-align: right;\">0.0</td>\n",
       "      <td style = \"text-align: right;\">0.0</td>\n",
       "    </tr>\n",
       "    <tr>\n",
       "      <td class = \"rowLabel\" style = \"font-weight: bold; text-align: right;\">0.75</td>\n",
       "      <td style = \"text-align: right;\">0.0</td>\n",
       "      <td style = \"text-align: right;\">0.0</td>\n",
       "      <td style = \"text-align: right;\">0.0</td>\n",
       "      <td style = \"text-align: right;\">0.0</td>\n",
       "      <td style = \"text-align: right;\">0.0</td>\n",
       "    </tr>\n",
       "    <tr>\n",
       "      <td class = \"rowLabel\" style = \"font-weight: bold; text-align: right;\">0.98</td>\n",
       "      <td style = \"text-align: right;\">0.0</td>\n",
       "      <td style = \"text-align: right;\">0.0</td>\n",
       "      <td style = \"text-align: right;\">0.0</td>\n",
       "      <td style = \"text-align: right;\">0.0</td>\n",
       "      <td style = \"text-align: right;\">0.0</td>\n",
       "    </tr>\n",
       "  </tbody>\n",
       "</table>\n"
      ]
     },
     "metadata": {},
     "output_type": "display_data"
    },
    {
     "data": {
      "text/html": [
       "<table>\n",
       "  <caption style = \"text-align: left;\">Yeld_10Y_T_Bill</caption>\n",
       "  <thead>\n",
       "    <tr class = \"header headerLastRow\">\n",
       "      <th class = \"rowLabel\" style = \"font-weight: bold; text-align: right;\"></th>\n",
       "      <th style = \"text-align: right;\">1</th>\n",
       "      <th style = \"text-align: right;\">2</th>\n",
       "      <th style = \"text-align: right;\">3</th>\n",
       "      <th style = \"text-align: right;\">4</th>\n",
       "      <th style = \"text-align: right;\">5</th>\n",
       "    </tr>\n",
       "  </thead>\n",
       "  <tbody>\n",
       "    <tr>\n",
       "      <td class = \"rowLabel\" style = \"font-weight: bold; text-align: right;\">0.02</td>\n",
       "      <td style = \"text-align: right;\">0.0</td>\n",
       "      <td style = \"text-align: right;\">0.0</td>\n",
       "      <td style = \"text-align: right;\">0.0</td>\n",
       "      <td style = \"text-align: right;\">0.0</td>\n",
       "      <td style = \"text-align: right;\">0.0</td>\n",
       "    </tr>\n",
       "    <tr>\n",
       "      <td class = \"rowLabel\" style = \"font-weight: bold; text-align: right;\">0.25</td>\n",
       "      <td style = \"text-align: right;\">0.0</td>\n",
       "      <td style = \"text-align: right;\">0.0</td>\n",
       "      <td style = \"text-align: right;\">0.0</td>\n",
       "      <td style = \"text-align: right;\">0.0</td>\n",
       "      <td style = \"text-align: right;\">0.0</td>\n",
       "    </tr>\n",
       "    <tr>\n",
       "      <td class = \"rowLabel\" style = \"font-weight: bold; text-align: right;\">0.5</td>\n",
       "      <td style = \"text-align: right;\">0.0</td>\n",
       "      <td style = \"text-align: right;\">0.0</td>\n",
       "      <td style = \"text-align: right;\">0.0</td>\n",
       "      <td style = \"text-align: right;\">0.0</td>\n",
       "      <td style = \"text-align: right;\">0.0</td>\n",
       "    </tr>\n",
       "    <tr>\n",
       "      <td class = \"rowLabel\" style = \"font-weight: bold; text-align: right;\">0.75</td>\n",
       "      <td style = \"text-align: right;\">0.0</td>\n",
       "      <td style = \"text-align: right;\">0.0</td>\n",
       "      <td style = \"text-align: right;\">0.0</td>\n",
       "      <td style = \"text-align: right;\">0.0</td>\n",
       "      <td style = \"text-align: right;\">0.0</td>\n",
       "    </tr>\n",
       "    <tr>\n",
       "      <td class = \"rowLabel\" style = \"font-weight: bold; text-align: right;\">0.98</td>\n",
       "      <td style = \"text-align: right;\">0.0</td>\n",
       "      <td style = \"text-align: right;\">0.0</td>\n",
       "      <td style = \"text-align: right;\">0.0</td>\n",
       "      <td style = \"text-align: right;\">0.0</td>\n",
       "      <td style = \"text-align: right;\">0.0</td>\n",
       "    </tr>\n",
       "  </tbody>\n",
       "</table>\n"
      ]
     },
     "metadata": {},
     "output_type": "display_data"
    }
   ],
   "source": [
    "for n in 1:3\n",
    "    print_percentiles(scenarios_n[n, :, 1:end],[0.02, 0.25, 0.5, 0.75, 0.98], 12, string(assets_names[n]))\n",
    "end"
   ]
  },
  {
   "cell_type": "code",
   "execution_count": 45,
   "metadata": {},
   "outputs": [
    {
     "data": {
      "text/html": [
       "<table>\n",
       "  <thead>\n",
       "    <tr class = \"header headerLastRow\">\n",
       "      <th class = \"rowLabel\" style = \"font-weight: bold; text-align: right;\"></th>\n",
       "      <th style = \"text-align: right;\">std</th>\n",
       "      <th style = \"text-align: right;\">max</th>\n",
       "      <th style = \"text-align: right;\">mean</th>\n",
       "      <th style = \"text-align: right;\">p75th</th>\n",
       "      <th style = \"text-align: right;\">min</th>\n",
       "      <th style = \"text-align: right;\">skewness</th>\n",
       "      <th style = \"text-align: right;\">p25th</th>\n",
       "      <th style = \"text-align: right;\">autocor</th>\n",
       "      <th style = \"text-align: right;\">kurtosis</th>\n",
       "      <th style = \"text-align: right;\">sr</th>\n",
       "      <th style = \"text-align: right;\">median</th>\n",
       "    </tr>\n",
       "  </thead>\n",
       "  <tbody>\n",
       "    <tr>\n",
       "      <td class = \"rowLabel\" style = \"font-weight: bold; text-align: right;\">Yeld_10Y</td>\n",
       "      <td style = \"text-align: right;\">0.0292</td>\n",
       "      <td style = \"text-align: right;\">0.1584</td>\n",
       "      <td style = \"text-align: right;\">0.0548</td>\n",
       "      <td style = \"text-align: right;\">0.0736</td>\n",
       "      <td style = \"text-align: right;\">0.0066</td>\n",
       "      <td style = \"text-align: right;\">0.9377</td>\n",
       "      <td style = \"text-align: right;\">0.0333</td>\n",
       "      <td style = \"text-align: right;\">0.9774</td>\n",
       "      <td style = \"text-align: right;\">0.6945</td>\n",
       "      <td style = \"text-align: right;\">1.8772</td>\n",
       "      <td style = \"text-align: right;\">0.0468</td>\n",
       "    </tr>\n",
       "  </tbody>\n",
       "</table>\n"
      ]
     },
     "metadata": {},
     "output_type": "display_data"
    }
   ],
   "source": [
    "returns_summarystats(data_source[:Yeld_10Y],1)"
   ]
  },
  {
   "cell_type": "code",
   "execution_count": 46,
   "metadata": {},
   "outputs": [
    {
     "ename": "UndefVarError",
     "evalue": "UndefVarError: `scenarios` not defined in `Main`\nSuggestion: check for spelling errors or missing imports.",
     "output_type": "error",
     "traceback": [
      "UndefVarError: `scenarios` not defined in `Main`\n",
      "Suggestion: check for spelling errors or missing imports.\n",
      "\n",
      "Stacktrace:\n",
      " [1] top-level scope\n",
      "   @ c:\\Users\\matsz\\programowanie\\Optymalizacja_portfela\\julia_msp_spike\\jl_notebook_cell_df34fa98e69747e1a8f8a730347b8e2f_X25sZmlsZQ==.jl:1"
     ]
    }
   ],
   "source": [
    "yelds10y = dropdims(sum(scenarios[[3,5,6],:,:], dims=1), dims=1)\n",
    "print_percentiles(annualise(yelds10y,4), [0.02, 0.25, 0.5, 0.75, 0.98])"
   ]
  },
  {
   "cell_type": "code",
   "execution_count": 47,
   "metadata": {},
   "outputs": [
    {
     "name": "stderr",
     "output_type": "stream",
     "text": [
      "WARNING: replacing module Bonds.\n"
     ]
    },
    {
     "ename": "UndefVarError",
     "evalue": "UndefVarError: `yelds10y` not defined in `Main`\nSuggestion: check for spelling errors or missing imports.",
     "output_type": "error",
     "traceback": [
      "UndefVarError: `yelds10y` not defined in `Main`\n",
      "Suggestion: check for spelling errors or missing imports.\n",
      "\n",
      "Stacktrace:\n",
      " [1] top-level scope\n",
      "   @ c:\\Users\\matsz\\programowanie\\Optymalizacja_portfela\\julia_msp_spike\\jl_notebook_cell_df34fa98e69747e1a8f8a730347b8e2f_X26sZmlsZQ==.jl:5"
     ]
    }
   ],
   "source": [
    "include(\"generate_bond_temp.jl\")\n",
    "\n",
    "using .Bonds\n",
    "\n",
    "bond_returns = Bonds.scenarios_bond_returns(yelds10y, 10, freq)\n",
    "print_percentiles(bond_returns, [0.02, 0.25, 0.5, 0.75, 0.98], freq)"
   ]
  },
  {
   "cell_type": "code",
   "execution_count": 48,
   "metadata": {},
   "outputs": [
    {
     "ename": "UndefVarError",
     "evalue": "UndefVarError: `scenarios` not defined in `Main`\nSuggestion: check for spelling errors or missing imports.",
     "output_type": "error",
     "traceback": [
      "UndefVarError: `scenarios` not defined in `Main`\n",
      "Suggestion: check for spelling errors or missing imports.\n",
      "\n",
      "Stacktrace:\n",
      " [1] top-level scope\n",
      "   @ c:\\Users\\matsz\\programowanie\\Optymalizacja_portfela\\julia_msp_spike\\jl_notebook_cell_df34fa98e69747e1a8f8a730347b8e2f_X30sZmlsZQ==.jl:2"
     ]
    }
   ],
   "source": [
    "#cpi_ann = annualise(scenarios[6,:,2:end],4)\n",
    "t_bill = scenarios[3,:,2:end]\n",
    "excess_bond_returns = bond_returns .- t_bill\n",
    "print_percentiles(expm1.(excess_bond_returns), [0.02, 0.25, 0.5, 0.75, 0.98], freq)"
   ]
  },
  {
   "cell_type": "code",
   "execution_count": 49,
   "metadata": {},
   "outputs": [
    {
     "ename": "UndefVarError",
     "evalue": "UndefVarError: `yelds10y` not defined in `Main`\nSuggestion: check for spelling errors or missing imports.",
     "output_type": "error",
     "traceback": [
      "UndefVarError: `yelds10y` not defined in `Main`\n",
      "Suggestion: check for spelling errors or missing imports.\n",
      "\n",
      "Stacktrace:\n",
      " [1] top-level scope\n",
      "   @ c:\\Users\\matsz\\programowanie\\Optymalizacja_portfela\\julia_msp_spike\\jl_notebook_cell_df34fa98e69747e1a8f8a730347b8e2f_X31sZmlsZQ==.jl:2"
     ]
    }
   ],
   "source": [
    "scenario = 3\n",
    "plot(yelds10y[scenario,:], label=\"yeld\")\n",
    "plot!(twinx(), bond_returns[scenario,:], label=\"bond returns\", color=:orange)"
   ]
  },
  {
   "cell_type": "code",
   "execution_count": 50,
   "metadata": {},
   "outputs": [
    {
     "data": {
      "text/plain": [
       "5-element Vector{Float64}:\n",
       " -0.18202307073348617\n",
       " -0.02765639847268144\n",
       "  0.07979295713853621\n",
       "  0.18722984282522268\n",
       "  0.3425419454786437"
      ]
     },
     "metadata": {},
     "output_type": "display_data"
    }
   ],
   "source": [
    "sim = rand(Normal(.08, .16), 100_000)\n",
    "quantile(sim, [.05, .25, .5, .75, .95])"
   ]
  },
  {
   "cell_type": "code",
   "execution_count": 51,
   "metadata": {},
   "outputs": [
    {
     "data": {
      "text/plain": [
       "5-element Vector{Float64}:\n",
       " -0.18362104611967509\n",
       " -0.02647412363134339\n",
       "  0.08104147818774934\n",
       "  0.18828392285982776\n",
       "  0.3407729685167871"
      ]
     },
     "metadata": {},
     "output_type": "display_data"
    }
   ],
   "source": [
    "sim = rand(Normal(.08, .16), 100_000)\n",
    "quantile(sim, [.05, .25, .5, .75, .95])"
   ]
  },
  {
   "cell_type": "code",
   "execution_count": 52,
   "metadata": {},
   "outputs": [
    {
     "data": {
      "text/plain": [
       "5-element Vector{Float64}:\n",
       " -0.25965526319176224\n",
       " -0.018917595580195047\n",
       "  0.03984357221170979\n",
       "  0.09899454850125108\n",
       "  0.33237652565958525"
      ]
     },
     "metadata": {},
     "output_type": "display_data"
    }
   ],
   "source": [
    "simt = rand(LocationScale(.04, .075, TDist(2.5)), 100_000)\n",
    "quantile(simt, [.02, .25, .5, .75, .98])"
   ]
  },
  {
   "cell_type": "code",
   "execution_count": 53,
   "metadata": {},
   "outputs": [
    {
     "data": {
      "text/plain": [
       "-0.005607860428916721"
      ]
     },
     "metadata": {},
     "output_type": "display_data"
    },
    {
     "data": {
      "text/plain": [
       "-0.01752304277342054"
      ]
     },
     "metadata": {},
     "output_type": "display_data"
    }
   ],
   "source": [
    "r = rand(Normal(0,3),10_000)\n",
    "display(skewness(r))\n",
    "display(kurtosis(r))"
   ]
  },
  {
   "cell_type": "code",
   "execution_count": 54,
   "metadata": {},
   "outputs": [],
   "source": []
  }
 ],
 "metadata": {
  "kernelspec": {
   "display_name": "Julia 1.11.2",
   "language": "julia",
   "name": "julia-1.11"
  },
  "language_info": {
   "file_extension": ".jl",
   "mimetype": "application/julia",
   "name": "julia",
   "version": "1.11.2"
  }
 },
 "nbformat": 4,
 "nbformat_minor": 2
}
