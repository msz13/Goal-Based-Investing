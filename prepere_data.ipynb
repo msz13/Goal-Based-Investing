{
 "cells": [
  {
   "cell_type": "code",
   "execution_count": 1,
   "metadata": {},
   "outputs": [],
   "source": [
    "import pandas as pd\n"
   ]
  },
  {
   "cell_type": "code",
   "execution_count": 2,
   "metadata": {},
   "outputs": [],
   "source": [
    "xl = pd.ExcelFile('wartosci_walorow.xlsx')\n",
    "sheets = xl.sheet_names\n",
    "\n",
    "merged = xl.parse(sheets.pop(0))\n",
    "\n",
    "for sheet in sheets:\n",
    "    data = xl.parse(sheet)    \n",
    "    merged = merged.merge(data, on='Date', how='left')\n",
    "\n",
    "xl.close()\n"
   ]
  },
  {
   "cell_type": "code",
   "execution_count": 3,
   "metadata": {},
   "outputs": [
    {
     "name": "stdout",
     "output_type": "stream",
     "text": [
      "<class 'pandas.core.frame.DataFrame'>\n",
      "Int64Index: 413 entries, 0 to 412\n",
      "Data columns (total 21 columns):\n",
      " #   Column    Non-Null Count  Dtype         \n",
      "---  ------    --------------  -----         \n",
      " 0   Date      413 non-null    datetime64[ns]\n",
      " 1   EM        413 non-null    float64       \n",
      " 2   JPN       413 non-null    float64       \n",
      " 3   Pacyfic   413 non-null    float64       \n",
      " 4   Europe    413 non-null    float64       \n",
      " 5   SP500     363 non-null    float64       \n",
      " 6   ACWI      413 non-null    float64       \n",
      " 7   GAB       98 non-null     float64       \n",
      " 8   USDPLN    267 non-null    float64       \n",
      " 9   World     413 non-null    float64       \n",
      " 10  EURPLN    247 non-null    float64       \n",
      " 11  TBSP      184 non-null    float64       \n",
      " 12  GAC       116 non-null    float64       \n",
      " 13  GABHDG    98 non-null     float64       \n",
      " 14  Mwig40tr  148 non-null    float64       \n",
      " 15  Mwig40    245 non-null    float64       \n",
      " 16  Swig80tr  148 non-null    float64       \n",
      " 17  Swig80    245 non-null    float64       \n",
      " 18  Wig20tr   208 non-null    float64       \n",
      " 19  Gold      413 non-null    float64       \n",
      " 20  Wig20     246 non-null    float64       \n",
      "dtypes: datetime64[ns](1), float64(20)\n",
      "memory usage: 71.0 KB\n"
     ]
    }
   ],
   "source": [
    "merged.info()"
   ]
  },
  {
   "cell_type": "code",
   "execution_count": 4,
   "metadata": {},
   "outputs": [],
   "source": [
    "assets = merged.columns[1:]\n",
    "price_changes = merged[assets].pct_change()\n",
    "price_changes.set_index(merged['Date'], inplace=True)"
   ]
  },
  {
   "cell_type": "code",
   "execution_count": 5,
   "metadata": {},
   "outputs": [],
   "source": [
    "price_changes.to_excel('oryginal_price_changes.xlsx')"
   ]
  },
  {
   "cell_type": "code",
   "execution_count": 6,
   "metadata": {},
   "outputs": [],
   "source": [
    "euro_assets = ['ACWI', 'World', 'EM', 'JPN', 'Pacyfic', 'Europe', 'SP500', 'Gold', 'GAC']\n",
    "pln_assets = ['Mwig40tr', 'Mwig40', 'Swig80tr', 'Swig80', 'Wig20tr', 'Wig20', 'TBSP', 'EURPLN', 'USDPLN']\n",
    "unused = ['GAB', 'GABHDG']\n",
    "\n",
    "pln = merged[euro_assets].apply(lambda x: x * merged['EURPLN'])\n",
    "pln_chng = pln.pct_change()\n",
    "pln_chng.set_index(merged['Date'], inplace=True)\n",
    "pln_chng = pd.merge(price_changes[pln_assets], pln_chng, left_index=True, right_index=True)"
   ]
  },
  {
   "cell_type": "code",
   "execution_count": 7,
   "metadata": {},
   "outputs": [],
   "source": [
    "pln_chng.to_excel('pln_price_changes.xlsx')"
   ]
  }
 ],
 "metadata": {
  "interpreter": {
   "hash": "4bef00bc7c9a78db1045a379974b3641e8d6d719796f9d93b631987f459ca5f0"
  },
  "kernelspec": {
   "display_name": "Python 3.9.12 ('portfolio-optimisation')",
   "language": "python",
   "name": "python3"
  },
  "language_info": {
   "codemirror_mode": {
    "name": "ipython",
    "version": 3
   },
   "file_extension": ".py",
   "mimetype": "text/x-python",
   "name": "python",
   "nbconvert_exporter": "python",
   "pygments_lexer": "ipython3",
   "version": "3.9.12"
  },
  "orig_nbformat": 4
 },
 "nbformat": 4,
 "nbformat_minor": 2
}
