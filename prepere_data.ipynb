{
 "cells": [
  {
   "cell_type": "code",
   "execution_count": 44,
   "metadata": {},
   "outputs": [],
   "source": [
    "import pandas as pd\n"
   ]
  },
  {
   "cell_type": "code",
   "execution_count": 45,
   "metadata": {},
   "outputs": [
    {
     "name": "stdout",
     "output_type": "stream",
     "text": [
      "['MSCI ACWI', 'MWITR', 'TBSP', 'EURPLN', 'Bloomberg Barclays Global Aggre', 'Gold spot price', 'Global aggregate euro hdg']\n"
     ]
    }
   ],
   "source": [
    "xl = pd.ExcelFile('wartosci_walorow_12_22.xlsx')\n",
    "sheets = xl.sheet_names\n",
    "\n",
    "merged = xl.parse(sheets.pop(0))\n",
    "print(sheets)\n",
    "\n",
    "for sheet in sheets:\n",
    "    data = xl.parse(sheet)    \n",
    "    merged = merged.merge(data, on='Date', how='left') \n",
    "\n",
    "xl.close()\n"
   ]
  },
  {
   "cell_type": "code",
   "execution_count": 46,
   "metadata": {},
   "outputs": [
    {
     "name": "stdout",
     "output_type": "stream",
     "text": [
      "<class 'pandas.core.frame.DataFrame'>\n",
      "Int64Index: 456 entries, 0 to 455\n",
      "Data columns (total 9 columns):\n",
      " #   Column           Non-Null Count  Dtype         \n",
      "---  ------           --------------  -----         \n",
      " 0   Date             456 non-null    datetime64[ns]\n",
      " 1   GovBondG7        456 non-null    float64       \n",
      " 2   ACWI             421 non-null    float64       \n",
      " 3   Mwig40tr         156 non-null    float64       \n",
      " 4   TBSP             192 non-null    float64       \n",
      " 5   EURPLN           255 non-null    float64       \n",
      " 6   GlobalCorporate  124 non-null    float64       \n",
      " 7   Gold             456 non-null    float64       \n",
      " 8   GABHDG           62 non-null     float64       \n",
      "dtypes: datetime64[ns](1), float64(8)\n",
      "memory usage: 35.6 KB\n"
     ]
    }
   ],
   "source": [
    "merged.info()"
   ]
  },
  {
   "cell_type": "code",
   "execution_count": 47,
   "metadata": {},
   "outputs": [],
   "source": [
    "assets = merged.columns[1:]\n",
    "price_changes = merged[assets].pct_change()\n",
    "price_changes.set_index(merged['Date'], inplace=True)"
   ]
  },
  {
   "cell_type": "code",
   "execution_count": 48,
   "metadata": {},
   "outputs": [],
   "source": [
    "price_changes.to_excel('oryginal_price_changes.xlsx')"
   ]
  },
  {
   "cell_type": "code",
   "execution_count": 60,
   "metadata": {},
   "outputs": [],
   "source": [
    "euro_assets = ['ACWI', 'GovBondG7', 'GlobalCorporate', 'Gold', 'GABHDG']\n",
    "pln_assets = ['Mwig40tr', 'TBSP']\n",
    "\n",
    "pln = merged[euro_assets].apply(lambda x: x * merged['EURPLN'])\n",
    "pln_chng = pln.pct_change()\n",
    "pln_chng.set_index(merged['Date'], inplace=True)\n",
    "pln_chng = pd.merge(price_changes[pln_assets], pln_chng, left_index=True, right_index=True)"
   ]
  },
  {
   "cell_type": "code",
   "execution_count": 61,
   "metadata": {},
   "outputs": [
    {
     "name": "stdout",
     "output_type": "stream",
     "text": [
      "<class 'pandas.core.frame.DataFrame'>\n",
      "DatetimeIndex: 456 entries, 1985-01-01 to 2022-12-01\n",
      "Data columns (total 7 columns):\n",
      " #   Column           Non-Null Count  Dtype  \n",
      "---  ------           --------------  -----  \n",
      " 0   Mwig40tr         155 non-null    float64\n",
      " 1   TBSP             191 non-null    float64\n",
      " 2   ACWI             254 non-null    float64\n",
      " 3   GovBondG7        254 non-null    float64\n",
      " 4   GlobalCorporate  123 non-null    float64\n",
      " 5   Gold             254 non-null    float64\n",
      " 6   GABHDG           61 non-null     float64\n",
      "dtypes: float64(7)\n",
      "memory usage: 44.7 KB\n"
     ]
    }
   ],
   "source": [
    "pln_chng.info()"
   ]
  },
  {
   "cell_type": "code",
   "execution_count": 62,
   "metadata": {},
   "outputs": [],
   "source": [
    "#pln_chng.to_excel('pln_price_changes2.xlsx')\n",
    "pln_chng.to_csv('pln_price_changes2.csv', float_format='%.3f')"
   ]
  },
  {
   "cell_type": "code",
   "execution_count": null,
   "metadata": {},
   "outputs": [],
   "source": [
    "assets = pln_chng"
   ]
  }
 ],
 "metadata": {
  "interpreter": {
   "hash": "4bef00bc7c9a78db1045a379974b3641e8d6d719796f9d93b631987f459ca5f0"
  },
  "kernelspec": {
   "display_name": "Python 3.9.12 ('portfolio-optimisation')",
   "language": "python",
   "name": "python3"
  },
  "language_info": {
   "codemirror_mode": {
    "name": "ipython",
    "version": 3
   },
   "file_extension": ".py",
   "mimetype": "text/x-python",
   "name": "python",
   "nbconvert_exporter": "python",
   "pygments_lexer": "ipython3",
   "version": "3.9.12"
  },
  "orig_nbformat": 4
 },
 "nbformat": 4,
 "nbformat_minor": 2
}
