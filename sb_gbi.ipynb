{
 "cells": [
  {
   "cell_type": "code",
   "execution_count": 120,
   "metadata": {},
   "outputs": [
    {
     "name": "stdout",
     "output_type": "stream",
     "text": [
      "The autoreload extension is already loaded. To reload it, use:\n",
      "  %reload_ext autoreload\n"
     ]
    }
   ],
   "source": [
    "from scipy.stats import multivariate_normal\n",
    "import numpy as np\n",
    "import tensorflow as tf\n",
    "\n",
    "%load_ext autoreload\n",
    "%autoreload 2"
   ]
  },
  {
   "cell_type": "code",
   "execution_count": 121,
   "metadata": {},
   "outputs": [
    {
     "data": {
      "text/plain": [
       "array([[[-0.30923623, -0.12396889],\n",
       "        [-0.09091859, -0.72404968],\n",
       "        [ 0.16654057,  0.01827234],\n",
       "        [ 0.01959816,  0.39269803],\n",
       "        [-0.2730689 , -0.34866914]]])"
      ]
     },
     "execution_count": 121,
     "metadata": {},
     "output_type": "execute_result"
    }
   ],
   "source": [
    "scenario_count = 1\n",
    "t = 5\n",
    "returns = np.zeros((scenario_count,t,2))\n",
    "means = np.array([0.035, 0.085])\n",
    "cov = np.array([[0.05,0.04],\n",
    "                [0.04, 0.11]])\n",
    "\n",
    "for i in range(0,scenario_count):\n",
    "    returns[i] = multivariate_normal.rvs(means,cov=cov, size=t)\n",
    "\n",
    "#prices = returns + np.ones_like(returns)\n",
    "#prices = np.cumprod(prices,axis=0)\n",
    "#prices = prices * np.[10,5]\n",
    "#prices\n",
    "returns"
   ]
  },
  {
   "cell_type": "code",
   "execution_count": 122,
   "metadata": {},
   "outputs": [
    {
     "data": {
      "text/plain": [
       "array([[32.7 ],\n",
       "       [25.18],\n",
       "       [23.67],\n",
       "       [31.48],\n",
       "       [36.2 ]])"
      ]
     },
     "execution_count": 122,
     "metadata": {},
     "output_type": "execute_result"
    }
   ],
   "source": [
    "prices = np.array([\n",
    "32.7,\n",
    "25.18,\n",
    "23.67,\n",
    "31.48,\n",
    "36.20\n",
    "])\n",
    "returns = prices.reshape((5,1))\n",
    "returns"
   ]
  },
  {
   "cell_type": "code",
   "execution_count": 123,
   "metadata": {},
   "outputs": [
    {
     "data": {
      "text/plain": [
       "7.158196134574087"
      ]
     },
     "execution_count": 123,
     "metadata": {},
     "output_type": "execute_result"
    }
   ],
   "source": [
    "400 / 55.88"
   ]
  },
  {
   "cell_type": "code",
   "execution_count": 124,
   "metadata": {},
   "outputs": [
    {
     "data": {
      "text/plain": [
       "array([[86.3736379 , 27.81133275],\n",
       "       [81.06811809, 30.63410807]])"
      ]
     },
     "execution_count": 124,
     "metadata": {},
     "output_type": "execute_result"
    }
   ],
   "source": [
    "prices= np.array([[[32.7, 51.5],\n",
    "                        [25.18, 56.14],\n",
    "                        [23.67, 56.70],\n",
    "                        [30.53, 57.83],\n",
    "                        [34.2, 59.57]],\n",
    "                        [[28.2, 52.00],\n",
    "                        [26.4, 47.84],\n",
    "                        [25.8, 51.67],\n",
    "                        [32.1, 54.25],\n",
    "                        [36.6, 55.88]]])\n",
    "\n",
    "inflows = np.array([0,1000,1000,1000,1000])\n",
    "weights = np.array([0.6,0.4])\n",
    "\n",
    "shares = np.zeros((len(inflows),2,2))\n",
    "\n",
    "for t in range (len(inflows)):\n",
    "    shares[t] = (inflows[t]*weights) / prices[:,t]\n",
    "\n",
    "shares.sum(0)\n",
    "    \n"
   ]
  },
  {
   "cell_type": "code",
   "execution_count": 125,
   "metadata": {},
   "outputs": [
    {
     "data": {
      "text/plain": [
       "3"
      ]
     },
     "execution_count": 125,
     "metadata": {},
     "output_type": "execute_result"
    }
   ],
   "source": [
    "from dataclasses import dataclass\n",
    "\n",
    "\n",
    "@dataclass\n",
    "class Spike:\n",
    "    rank: int = 1\n",
    "\n",
    "Spike(3).rank\n",
    "\n"
   ]
  },
  {
   "cell_type": "code",
   "execution_count": 126,
   "metadata": {},
   "outputs": [
    {
     "name": "stdout",
     "output_type": "stream",
     "text": [
      "[[285 107]\n",
      " [292 109]]\n"
     ]
    },
    {
     "data": {
      "text/plain": [
       "array([[228.,  85.],\n",
       "       [233.,  87.]])"
      ]
     },
     "execution_count": 126,
     "metadata": {},
     "output_type": "execute_result"
    }
   ],
   "source": [
    "@dataclass\n",
    "class Transaction:\n",
    "    delta_shares: np.array\n",
    "    outflows: int = 0\n",
    "\n",
    "assets_weights = np.array([0.6,0.4])\n",
    "prices = np.array([[34.2, 59.57],[31.42, 55.88]])\n",
    "shares_owned = np.array([[285, 107],[292, 109]])\n",
    "inflow = 0\n",
    "goal = (13000,0.8)\n",
    "\n",
    "cashflow = inflow - goal[0]\n",
    "current_value = np.sum(shares_owned * prices, 1) \n",
    "      \n",
    "delta_shares = np.where(np.abs(cashflow) <= current_value, np.fix((cashflow*assets_weights) / prices), -shares_owned)\n",
    "outflows = np.abs(np.sum(delta_shares * prices,axis=1))\n",
    "\n",
    "print(shares_owned)\n",
    "\n",
    "max_outflow_value = current_value * goal[1]\n",
    "np.fix(shares_owned * goal[1])\n",
    "\n"
   ]
  },
  {
   "cell_type": "code",
   "execution_count": 127,
   "metadata": {},
   "outputs": [],
   "source": [
    "goal = (14000,1)\n",
    "assets_weights = np.array([0.6,0.4])\n",
    "prices = np.array([[34.2, 59.57],[31.42, 55.88]])\n",
    "#shares_owned = np.array([[282, 99],[290, 91]])\n",
    "shares_owned = np.array([[0, 0],[0, 0]])\n",
    "inflow = 10000"
   ]
  },
  {
   "cell_type": "code",
   "execution_count": 128,
   "metadata": {},
   "outputs": [
    {
     "name": "stdout",
     "output_type": "stream",
     "text": [
      "[-4000. -4000.]\n",
      "[0.6 0.4]\n"
     ]
    },
    {
     "data": {
      "text/plain": [
       "array([[70.1754386 , 26.85915729],\n",
       "       [76.38446849, 28.63278454]])"
      ]
     },
     "execution_count": 128,
     "metadata": {},
     "output_type": "execute_result"
    }
   ],
   "source": [
    "goal_target = goal[0] \n",
    "goal_max_outflow_percent = goal[1]\n",
    "current_assets_value = shares_owned * prices\n",
    "current_value = np.sum(current_assets_value, 1) \n",
    "expected_value = current_value + inflow - goal_target\n",
    "#max_outflow_value = current_value * goal_max_outflow_percent\n",
    "    \n",
    "delta_value = expected_value.reshape((2,1)) * assets_weights - current_assets_value\n",
    "    \n",
    "#delta_shares = - np.fix(delta_value / prices)\n",
    "delta_shares = - delta_value / prices\n",
    "\n",
    "#outflows = np.round(np.abs(np.sum(delta_shares * prices,axis=1)),2)\n",
    "\n",
    "#print(outflows)    \n",
    "#Transaction(delta_shares, outflows)\n",
    "print(expected_value)\n",
    "print(assets_weights)\n",
    "delta_shares\n",
    "\n"
   ]
  },
  {
   "cell_type": "code",
   "execution_count": 129,
   "metadata": {},
   "outputs": [
    {
     "data": {
      "text/plain": [
       "array([2904.7 , 3009.08])"
      ]
     },
     "execution_count": 129,
     "metadata": {},
     "output_type": "execute_result"
    }
   ],
   "source": [
    "shares_owned = np.array([[25,15],[24,17]])\n",
    "delta = np.array([[5,5],[4,7]])\n",
    "shares_owned += delta\n",
    "np.sum(shares_owned * prices[:,1],1)"
   ]
  },
  {
   "cell_type": "code",
   "execution_count": 130,
   "metadata": {},
   "outputs": [
    {
     "data": {
      "text/plain": [
       "array([40., 60.])"
      ]
     },
     "execution_count": 130,
     "metadata": {},
     "output_type": "execute_result"
    }
   ],
   "source": [
    "class PorfoliosSumulator:\n",
    "    def __init__(self) -> None:\n",
    "        pass\n",
    "\n",
    "assets_weights = np.array([0.4,0.6])\n",
    "shares = np.zeros((scenario_count,t,assets_weights.shape[0]))\n",
    "initial_wealth =100\n",
    "\n",
    "#shares[0] = \n",
    "\n",
    "initial_wealth *assets_weights\n"
   ]
  },
  {
   "attachments": {},
   "cell_type": "markdown",
   "metadata": {},
   "source": [
    "Portfolio class:\n",
    "- [ ] get withrowals for\n",
    "    - no goal\n",
    "    - single goal\n",
    "    - multiple goals in different times    \n",
    "    - dla emerytury - coroczne dla kilku celow\n",
    "- add infusions\n",
    "- rebalance\n",
    "- include costs\n",
    "\n"
   ]
  },
  {
   "cell_type": "code",
   "execution_count": 131,
   "metadata": {},
   "outputs": [],
   "source": [
    "import tensorflow as tf"
   ]
  },
  {
   "cell_type": "code",
   "execution_count": 132,
   "metadata": {},
   "outputs": [
    {
     "data": {
      "text/plain": [
       "[<tf.Tensor: shape=(3,), dtype=float32, numpy=array([0.035, 0.085, 0.06 ], dtype=float32)>,\n",
       " None]"
      ]
     },
     "execution_count": 132,
     "metadata": {},
     "output_type": "execute_result"
    }
   ],
   "source": [
    "weights = tf.Variable([0.3,0.4,0.3])\n",
    "returns = tf.constant([0.035, 0.085, 0.06])\n",
    "\n",
    "def loss(weights, returns):\n",
    "    return tf.tensordot(weights,returns,axes=1)\n",
    "\n",
    "y = loss(weights, returns)\n",
    "\n",
    "with tf.GradientTape() as type:\n",
    "    y = loss(weights, returns)\n",
    "\n",
    "weights.assign([0.5,0.3,0.2])\n",
    "\n",
    "type.gradient(y, [weights, returns])\n",
    "\n"
   ]
  },
  {
   "cell_type": "code",
   "execution_count": 133,
   "metadata": {},
   "outputs": [
    {
     "data": {
      "text/plain": [
       "(2, 6, 2)"
      ]
     },
     "execution_count": 133,
     "metadata": {},
     "output_type": "execute_result"
    }
   ],
   "source": [
    "arr = np.array([[[30.00, 50.00],       \n",
    "                        [32.7, 51.5],\n",
    "                        [25.18, 56.14],\n",
    "                        [23.67, 56.70],\n",
    "                        [30.53, 57.83],\n",
    "                        [34.2, 59.57]],\n",
    "                        [[30.0,\t50.0],\n",
    "                         [28.2,\t52.00],\n",
    "                         [24.82, 47.84],\n",
    "                         [24.07, 51.67],\n",
    "                         [25.76, 54.25],\n",
    "                         [31.42, 55.88]]])\n",
    "arr.shape"
   ]
  },
  {
   "cell_type": "code",
   "execution_count": 137,
   "metadata": {},
   "outputs": [
    {
     "data": {
      "text/plain": [
       "(600, 121, 4)"
      ]
     },
     "execution_count": 137,
     "metadata": {},
     "output_type": "execute_result"
    }
   ],
   "source": [
    "means = [0.03, 0.05, 0.06, 0.09]\n",
    "cov = [[0.02, -0.00, -0.00, -0.00],[0.00, 0.04, 0.03, 0.04],[-0.00, 0.03, 0.20, -0.00], [-0.00,0.04, -0.00, 0.13]]      \n",
    "\n",
    "number_of_scenarios = 600\n",
    "T = 121\n",
    "prices = []         \n",
    "\n",
    "for i in range (number_of_scenarios):\n",
    "    returns = multivariate_normal.rvs(means,cov, T) + 1\n",
    "    prices.append(np.cumprod(returns,axis=0)*100)\n",
    "    #prices.append(returns)\n",
    "\n",
    "prices = np.absolute(prices)\n",
    "np.round(prices,2)\n",
    "\n",
    "prices.shape\n",
    "\n",
    "            "
   ]
  },
  {
   "cell_type": "code",
   "execution_count": 146,
   "metadata": {},
   "outputs": [
    {
     "data": {
      "text/plain": [
       "<tf.Tensor: shape=(600, 121, 4), dtype=float32, numpy=\n",
       "array([[[1.0413000e+02, 8.8419998e+01, 6.7900002e+01, 8.0800003e+01],\n",
       "        [1.0923000e+02, 1.3114000e+02, 1.4261000e+02, 1.5532001e+02],\n",
       "        [7.8370003e+01, 1.0760000e+02, 1.9350000e+02, 6.9550003e+01],\n",
       "        ...,\n",
       "        [2.2861201e+03, 2.9873999e+02, 0.0000000e+00, 6.3049999e+01],\n",
       "        [2.5875901e+03, 2.7731000e+02, 0.0000000e+00, 7.3279999e+01],\n",
       "        [3.2558799e+03, 2.6398999e+02, 0.0000000e+00, 5.0380001e+01]],\n",
       "\n",
       "       [[1.3389000e+02, 1.3350000e+02, 5.3080002e+01, 1.7348000e+02],\n",
       "        [1.4439999e+02, 1.5888000e+02, 7.7830002e+01, 2.2782001e+02],\n",
       "        [1.2782000e+02, 1.9970000e+02, 1.0106000e+02, 2.9879001e+02],\n",
       "        ...,\n",
       "        [1.3655000e+02, 5.5691998e+02, 0.0000000e+00, 1.1652513e+05],\n",
       "        [1.7305000e+02, 4.9834000e+02, 0.0000000e+00, 8.8875094e+04],\n",
       "        [1.5719000e+02, 7.0419000e+02, 0.0000000e+00, 8.4603367e+04]],\n",
       "\n",
       "       [[8.4519997e+01, 8.7300003e+01, 1.5627000e+02, 6.3520000e+01],\n",
       "        [6.8870003e+01, 1.3498000e+02, 1.8087000e+02, 1.0850000e+02],\n",
       "        [7.7790001e+01, 1.1172000e+02, 1.6867999e+02, 5.2860001e+01],\n",
       "        ...,\n",
       "        [1.9067000e+02, 3.0464001e+02, 0.0000000e+00, 2.9139001e+02],\n",
       "        [1.9891000e+02, 3.8294000e+02, 0.0000000e+00, 3.3751999e+02],\n",
       "        [2.0661000e+02, 4.3619000e+02, 0.0000000e+00, 5.5490997e+02]],\n",
       "\n",
       "       ...,\n",
       "\n",
       "       [[1.0376000e+02, 6.6959999e+01, 9.9660004e+01, 1.1298000e+02],\n",
       "        [1.2068000e+02, 8.6949997e+01, 1.6264000e+02, 1.5009000e+02],\n",
       "        [1.0384000e+02, 3.7020000e+01, 6.6309998e+01, 9.9760002e+01],\n",
       "        ...,\n",
       "        [1.3680400e+03, 4.6570000e+01, 0.0000000e+00, 9.5454999e+02],\n",
       "        [1.0963199e+03, 6.2970001e+01, 9.9999998e-03, 1.6621600e+03],\n",
       "        [9.1596002e+02, 9.3910004e+01, 9.9999998e-03, 2.5141499e+03]],\n",
       "\n",
       "       [[8.8870003e+01, 8.7760002e+01, 6.2759998e+01, 1.0188000e+02],\n",
       "        [9.3110001e+01, 4.9540001e+01, 5.3630001e+01, 6.0450001e+01],\n",
       "        [9.4750000e+01, 5.3570000e+01, 8.0540001e+01, 2.6049999e+01],\n",
       "        ...,\n",
       "        [3.9529001e+02, 1.8662800e+03, 0.0000000e+00, 6.1700001e+00],\n",
       "        [3.9917999e+02, 1.5414301e+03, 0.0000000e+00, 6.2700000e+00],\n",
       "        [3.4884000e+02, 1.5126200e+03, 0.0000000e+00, 6.2600002e+00]],\n",
       "\n",
       "       [[8.5000000e+01, 1.1236000e+02, 2.3775999e+02, 1.0059000e+02],\n",
       "        [9.1349998e+01, 1.4406000e+02, 2.6937000e+02, 1.2964999e+02],\n",
       "        [1.1214000e+02, 1.5105000e+02, 2.4835001e+02, 1.8569000e+02],\n",
       "        ...,\n",
       "        [5.5360001e+01, 5.0730098e+03, 0.0000000e+00, 4.8141201e+03],\n",
       "        [5.4060001e+01, 4.3882798e+03, 0.0000000e+00, 5.4115200e+03],\n",
       "        [3.8650002e+01, 5.1388301e+03, 0.0000000e+00, 9.1327305e+03]]],\n",
       "      dtype=float32)>"
      ]
     },
     "execution_count": 146,
     "metadata": {},
     "output_type": "execute_result"
    }
   ],
   "source": [
    "from sb_gbi.tf.porfolios_simulator_tf import PortfoliosSimulator\n",
    "%reload_ext autoreload\n",
    "%autoreload 2\n",
    "\n",
    "inflows = np.full(T, 1000.0)\n",
    "inflows[0] = 10000.0\n",
    "prices = tf.constant(np.round(prices,2), dtype=tf.float32)\n",
    "\n",
    "#assets_weights = np.full((T,4),[0.25,0.25, 0.25, 0.25])\n",
    "assets_weights = tf.Variable(tf.fill((T,4),0.25))\n",
    "\n",
    "goals = {\n",
    "        120: (240000.0,1.0)\n",
    "    }  \n",
    "\n",
    "\n",
    "portfolios_simulator = PortfoliosSimulator()\n",
    "\n"
   ]
  },
  {
   "cell_type": "code",
   "execution_count": 144,
   "metadata": {},
   "outputs": [
    {
     "ename": "TypeError",
     "evalue": "in user code:\n\n    File \"c:\\Users\\matsz\\programowanie\\Optymalizacja portfela\\sb_gbi\\tf\\porfolios_simulator_tf.py\", line 18, in transaction  *\n        current_assets_value = tf.multiply(shares_owned, prices)\n\n    TypeError: Input 'y' of 'Mul' Op has type float32 that does not match type float64 of argument 'x'.\n",
     "output_type": "error",
     "traceback": [
      "\u001b[1;31m---------------------------------------------------------------------------\u001b[0m",
      "\u001b[1;31mTypeError\u001b[0m                                 Traceback (most recent call last)",
      "\u001b[1;32mc:\\Users\\matsz\\programowanie\\Optymalizacja portfela\\sb_gbi.ipynb Cell 17\u001b[0m in \u001b[0;36m<cell line: 26>\u001b[1;34m()\u001b[0m\n\u001b[0;32m     <a href='vscode-notebook-cell:/c%3A/Users/matsz/programowanie/Optymalizacja%20portfela/sb_gbi.ipynb#X22sZmlsZQ%3D%3D?line=25'>26</a>\u001b[0m \u001b[39mfor\u001b[39;00m i \u001b[39min\u001b[39;00m \u001b[39mrange\u001b[39m(\u001b[39m100\u001b[39m):\n\u001b[0;32m     <a href='vscode-notebook-cell:/c%3A/Users/matsz/programowanie/Optymalizacja%20portfela/sb_gbi.ipynb#X22sZmlsZQ%3D%3D?line=26'>27</a>\u001b[0m         portfolios_simulator\u001b[39m.\u001b[39mset_params(\n\u001b[0;32m     <a href='vscode-notebook-cell:/c%3A/Users/matsz/programowanie/Optymalizacja%20portfela/sb_gbi.ipynb#X22sZmlsZQ%3D%3D?line=27'>28</a>\u001b[0m         assets_prices\u001b[39m=\u001b[39mprices,        \n\u001b[0;32m     <a href='vscode-notebook-cell:/c%3A/Users/matsz/programowanie/Optymalizacja%20portfela/sb_gbi.ipynb#X22sZmlsZQ%3D%3D?line=28'>29</a>\u001b[0m         assets_weights\u001b[39m=\u001b[39m assets_weights,       \n\u001b[0;32m     <a href='vscode-notebook-cell:/c%3A/Users/matsz/programowanie/Optymalizacja%20portfela/sb_gbi.ipynb#X22sZmlsZQ%3D%3D?line=29'>30</a>\u001b[0m         inflows \u001b[39m=\u001b[39m inflows,\n\u001b[0;32m     <a href='vscode-notebook-cell:/c%3A/Users/matsz/programowanie/Optymalizacja%20portfela/sb_gbi.ipynb#X22sZmlsZQ%3D%3D?line=30'>31</a>\u001b[0m         goals \u001b[39m=\u001b[39m goals\n\u001b[0;32m     <a href='vscode-notebook-cell:/c%3A/Users/matsz/programowanie/Optymalizacja%20portfela/sb_gbi.ipynb#X22sZmlsZQ%3D%3D?line=31'>32</a>\u001b[0m         )\n\u001b[1;32m---> <a href='vscode-notebook-cell:/c%3A/Users/matsz/programowanie/Optymalizacja%20portfela/sb_gbi.ipynb#X22sZmlsZQ%3D%3D?line=32'>33</a>\u001b[0m         outflows \u001b[39m=\u001b[39m portfolios_simulator()\n\u001b[0;32m     <a href='vscode-notebook-cell:/c%3A/Users/matsz/programowanie/Optymalizacja%20portfela/sb_gbi.ipynb#X22sZmlsZQ%3D%3D?line=34'>35</a>\u001b[0m outflows\n",
      "File \u001b[1;32mc:\\Users\\matsz\\miniconda3\\envs\\portfolio-optimisation\\lib\\site-packages\\tensorflow\\python\\util\\traceback_utils.py:153\u001b[0m, in \u001b[0;36mfilter_traceback.<locals>.error_handler\u001b[1;34m(*args, **kwargs)\u001b[0m\n\u001b[0;32m    151\u001b[0m \u001b[39mexcept\u001b[39;00m \u001b[39mException\u001b[39;00m \u001b[39mas\u001b[39;00m e:\n\u001b[0;32m    152\u001b[0m   filtered_tb \u001b[39m=\u001b[39m _process_traceback_frames(e\u001b[39m.\u001b[39m__traceback__)\n\u001b[1;32m--> 153\u001b[0m   \u001b[39mraise\u001b[39;00m e\u001b[39m.\u001b[39mwith_traceback(filtered_tb) \u001b[39mfrom\u001b[39;00m \u001b[39mNone\u001b[39m\n\u001b[0;32m    154\u001b[0m \u001b[39mfinally\u001b[39;00m:\n\u001b[0;32m    155\u001b[0m   \u001b[39mdel\u001b[39;00m filtered_tb\n",
      "File \u001b[1;32mc:\\Users\\matsz\\programowanie\\Optymalizacja portfela\\sb_gbi\\tf\\porfolios_simulator_tf.py:65\u001b[0m, in \u001b[0;36mPortfoliosSimulator.__call__\u001b[1;34m(self)\u001b[0m\n\u001b[0;32m     61\u001b[0m \u001b[39mself\u001b[39m\u001b[39m.\u001b[39m__outflows \u001b[39m=\u001b[39m []\n\u001b[0;32m     64\u001b[0m \u001b[39mfor\u001b[39;00m t \u001b[39min\u001b[39;00m \u001b[39mrange\u001b[39m (\u001b[39mself\u001b[39m\u001b[39m.\u001b[39mT):\n\u001b[1;32m---> 65\u001b[0m     delta_shares, t_outflows\u001b[39m=\u001b[39m transaction(\u001b[39mself\u001b[39;49m\u001b[39m.\u001b[39;49m__inflows[t], \u001b[39mself\u001b[39;49m\u001b[39m.\u001b[39;49m__shares, \u001b[39mself\u001b[39;49m\u001b[39m.\u001b[39;49m__assets_weights[t],\u001b[39mself\u001b[39;49m\u001b[39m.\u001b[39;49m__prices[:,t], \u001b[39mself\u001b[39;49m\u001b[39m.\u001b[39;49m__goals\u001b[39m.\u001b[39;49mget(t))\n\u001b[0;32m     66\u001b[0m     \u001b[39mself\u001b[39m\u001b[39m.\u001b[39m__shares \u001b[39m+\u001b[39m\u001b[39m=\u001b[39m delta_shares\n\u001b[0;32m     67\u001b[0m     \u001b[39mif\u001b[39;00m (\u001b[39mself\u001b[39m\u001b[39m.\u001b[39m__goals\u001b[39m.\u001b[39mget(t) \u001b[39mis\u001b[39;00m \u001b[39mnot\u001b[39;00m \u001b[39mNone\u001b[39;00m):\n",
      "File \u001b[1;32m~\\AppData\\Local\\Temp\\__autograph_generated_filemkt_btqi.py:10\u001b[0m, in \u001b[0;36mouter_factory.<locals>.inner_factory.<locals>.tf__transaction\u001b[1;34m(inflow, shares_owned, assets_weights, prices, goal)\u001b[0m\n\u001b[0;32m      8\u001b[0m do_return \u001b[39m=\u001b[39m \u001b[39mFalse\u001b[39;00m\n\u001b[0;32m      9\u001b[0m retval_ \u001b[39m=\u001b[39m ag__\u001b[39m.\u001b[39mUndefinedReturnValue()\n\u001b[1;32m---> 10\u001b[0m current_assets_value \u001b[39m=\u001b[39m ag__\u001b[39m.\u001b[39mconverted_call(ag__\u001b[39m.\u001b[39mld(tf)\u001b[39m.\u001b[39mmultiply, (ag__\u001b[39m.\u001b[39mld(shares_owned), ag__\u001b[39m.\u001b[39mld(prices)), \u001b[39mNone\u001b[39;00m, fscope)\n\u001b[0;32m     11\u001b[0m current_value \u001b[39m=\u001b[39m ag__\u001b[39m.\u001b[39mconverted_call(ag__\u001b[39m.\u001b[39mld(tf)\u001b[39m.\u001b[39mreduce_sum, (ag__\u001b[39m.\u001b[39mld(current_assets_value),), \u001b[39mdict\u001b[39m(axis\u001b[39m=\u001b[39m\u001b[39m1\u001b[39m), fscope) \u001b[39m+\u001b[39m ag__\u001b[39m.\u001b[39mld(inflow)\n\u001b[0;32m     12\u001b[0m outflows \u001b[39m=\u001b[39m ag__\u001b[39m.\u001b[39mconverted_call(ag__\u001b[39m.\u001b[39mld(calculate_outflows), (ag__\u001b[39m.\u001b[39mld(goal), ag__\u001b[39m.\u001b[39mld(current_value)), \u001b[39mNone\u001b[39;00m, fscope)\n",
      "\u001b[1;31mTypeError\u001b[0m: in user code:\n\n    File \"c:\\Users\\matsz\\programowanie\\Optymalizacja portfela\\sb_gbi\\tf\\porfolios_simulator_tf.py\", line 18, in transaction  *\n        current_assets_value = tf.multiply(shares_owned, prices)\n\n    TypeError: Input 'y' of 'Mul' Op has type float32 that does not match type float64 of argument 'x'.\n"
     ]
    }
   ],
   "source": [
    "portfolios_simulator.set_params(\n",
    "        assets_prices=prices,        \n",
    "        assets_weights= assets_weights,       \n",
    "        inflows = inflows,\n",
    "        goals = goals\n",
    "        )\n",
    "\n",
    "for i in range(100):\n",
    "        portfolios_simulator.set_params(\n",
    "        assets_prices=prices,        \n",
    "        assets_weights= assets_weights,       \n",
    "        inflows = inflows,\n",
    "        goals = goals\n",
    "        )\n",
    "        outflows = portfolios_simulator()\n",
    "\n",
    "outflows"
   ]
  },
  {
   "cell_type": "code",
   "execution_count": null,
   "metadata": {},
   "outputs": [
    {
     "name": "stdout",
     "output_type": "stream",
     "text": [
      "None\n"
     ]
    }
   ],
   "source": [
    "with tf.GradientTape() as tape:\n",
    "    tape.watch(assets_weights)\n",
    "    portfolios_simulator.run()\n",
    "    probs = portfolios_simulator.get_goals_achevement_probabilities()\n",
    "\n",
    "print(tape.gradient(probs, assets_weights))"
   ]
  },
  {
   "cell_type": "code",
   "execution_count": null,
   "metadata": {},
   "outputs": [
    {
     "data": {
      "text/plain": [
       "580.28"
      ]
     },
     "execution_count": 244,
     "metadata": {},
     "output_type": "execute_result"
    }
   ],
   "source": [
    "prices = np.array([[[30.00, 50.00],       \n",
    "                        [32.7, 51.5],\n",
    "                        [25.18, 56.14],\n",
    "                        [23.67, 56.70],\n",
    "                        [30.53, 57.83],\n",
    "                        [34.2, 59.57]],\n",
    "                        [[30.0,\t50.0],\n",
    "                         [28.2,\t52.00],\n",
    "                         [24.82, 47.84],\n",
    "                         [24.07, 51.67],\n",
    "                         [25.76, 54.25],\n",
    "                         [31.42, 55.88]]])\n",
    "\n",
    "shares = [[10,4],[0,0]]\n",
    "\n",
    "np.sum(shares * prices[:,-1])"
   ]
  },
  {
   "cell_type": "code",
   "execution_count": null,
   "metadata": {},
   "outputs": [
    {
     "data": {
      "text/plain": [
       "array([1.     , 0.98126])"
      ]
     },
     "execution_count": 22,
     "metadata": {},
     "output_type": "execute_result"
    }
   ],
   "source": [
    "def calculate_prob_of_goal_achivement(goals_targets: np.ndarray, goals_outflows: np.ndarray):\n",
    "    number_of_scenarios = goals_outflows.shape[1]\n",
    "    total_goals_outflows = np.sum(goals_outflows, axis=1)\n",
    "    probabilities = total_goals_outflows / np.multiply(goals_targets, number_of_scenarios)\n",
    "    return probabilities\n",
    "\n",
    "goal_outflows0 = np.asarray([[0,0],[0,0]])\n",
    "goal_outflows1 = np.array([[8000, 8000, 8000], [6000, 5775.12, 6000], [6000,6000,6000], [0,0,0]])\n",
    "goal_target = [8000,6000, 12000, 4000]\n",
    "\n",
    "calculate_prob_of_goal_achivement(goal_target, goal_outflows1)\n",
    "\n",
    "calculate_prob_of_goal_achivement([8000,6000], np.array([[8000, 8000], [6000, 5775.12]]))"
   ]
  },
  {
   "cell_type": "code",
   "execution_count": null,
   "metadata": {},
   "outputs": [
    {
     "data": {
      "text/plain": [
       "[8000, 6000]"
      ]
     },
     "execution_count": 28,
     "metadata": {},
     "output_type": "execute_result"
    }
   ],
   "source": [
    "goals = {3: (8000,1), 5: (6000,1)}\n",
    "\n",
    "list(map(lambda x: x[0],  list(goals.values())))"
   ]
  },
  {
   "attachments": {},
   "cell_type": "markdown",
   "metadata": {},
   "source": [
    "trainable_variables: assets_weights, max_goal_withroval\n",
    "\n",
    "non_trainable_variables: prices, inflows, goals_target, goals_utilities\n",
    "\n",
    "output: utilitiy_function (probs * goal_utilities)\n",
    "\n",
    "secondary_outputs: portfolio irr, portfolio_final_value \n",
    "\n",
    "requiremnts:\n",
    "porfolios_simulator() -> probs\n",
    "\n",
    "\n"
   ]
  }
 ],
 "metadata": {
  "kernelspec": {
   "display_name": "portfolio-optimisation",
   "language": "python",
   "name": "python3"
  },
  "language_info": {
   "codemirror_mode": {
    "name": "ipython",
    "version": 3
   },
   "file_extension": ".py",
   "mimetype": "text/x-python",
   "name": "python",
   "nbconvert_exporter": "python",
   "pygments_lexer": "ipython3",
   "version": "3.9.12"
  },
  "orig_nbformat": 4
 },
 "nbformat": 4,
 "nbformat_minor": 2
}
