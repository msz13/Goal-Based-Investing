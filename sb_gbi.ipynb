{
 "cells": [
  {
   "cell_type": "code",
   "execution_count": 1,
   "metadata": {},
   "outputs": [],
   "source": [
    "from scipy.stats import multivariate_normal\n",
    "import numpy as np\n",
    "import tensorflow as tf\n",
    "\n",
    "%load_ext autoreload\n",
    "%autoreload 2"
   ]
  },
  {
   "cell_type": "code",
   "execution_count": 121,
   "metadata": {},
   "outputs": [
    {
     "data": {
      "text/plain": [
       "array([[[-0.30923623, -0.12396889],\n",
       "        [-0.09091859, -0.72404968],\n",
       "        [ 0.16654057,  0.01827234],\n",
       "        [ 0.01959816,  0.39269803],\n",
       "        [-0.2730689 , -0.34866914]]])"
      ]
     },
     "execution_count": 121,
     "metadata": {},
     "output_type": "execute_result"
    }
   ],
   "source": [
    "scenario_count = 1\n",
    "t = 5\n",
    "returns = np.zeros((scenario_count,t,2))\n",
    "means = np.array([0.035, 0.085])\n",
    "cov = np.array([[0.05,0.04],\n",
    "                [0.04, 0.11]])\n",
    "\n",
    "for i in range(0,scenario_count):\n",
    "    returns[i] = multivariate_normal.rvs(means,cov=cov, size=t)\n",
    "\n",
    "#prices = returns + np.ones_like(returns)\n",
    "#prices = np.cumprod(prices,axis=0)\n",
    "#prices = prices * np.[10,5]\n",
    "#prices\n",
    "returns"
   ]
  },
  {
   "cell_type": "code",
   "execution_count": 122,
   "metadata": {},
   "outputs": [
    {
     "data": {
      "text/plain": [
       "array([[32.7 ],\n",
       "       [25.18],\n",
       "       [23.67],\n",
       "       [31.48],\n",
       "       [36.2 ]])"
      ]
     },
     "execution_count": 122,
     "metadata": {},
     "output_type": "execute_result"
    }
   ],
   "source": [
    "prices = np.array([\n",
    "32.7,\n",
    "25.18,\n",
    "23.67,\n",
    "31.48,\n",
    "36.20\n",
    "])\n",
    "returns = prices.reshape((5,1))\n",
    "returns"
   ]
  },
  {
   "cell_type": "code",
   "execution_count": 123,
   "metadata": {},
   "outputs": [
    {
     "data": {
      "text/plain": [
       "7.158196134574087"
      ]
     },
     "execution_count": 123,
     "metadata": {},
     "output_type": "execute_result"
    }
   ],
   "source": [
    "400 / 55.88"
   ]
  },
  {
   "cell_type": "code",
   "execution_count": 124,
   "metadata": {},
   "outputs": [
    {
     "data": {
      "text/plain": [
       "array([[86.3736379 , 27.81133275],\n",
       "       [81.06811809, 30.63410807]])"
      ]
     },
     "execution_count": 124,
     "metadata": {},
     "output_type": "execute_result"
    }
   ],
   "source": [
    "prices= np.array([[[32.7, 51.5],\n",
    "                        [25.18, 56.14],\n",
    "                        [23.67, 56.70],\n",
    "                        [30.53, 57.83],\n",
    "                        [34.2, 59.57]],\n",
    "                        [[28.2, 52.00],\n",
    "                        [26.4, 47.84],\n",
    "                        [25.8, 51.67],\n",
    "                        [32.1, 54.25],\n",
    "                        [36.6, 55.88]]])\n",
    "\n",
    "inflows = np.array([0,1000,1000,1000,1000])\n",
    "weights = np.array([0.6,0.4])\n",
    "\n",
    "shares = np.zeros((len(inflows),2,2))\n",
    "\n",
    "for t in range (len(inflows)):\n",
    "    shares[t] = (inflows[t]*weights) / prices[:,t]\n",
    "\n",
    "shares.sum(0)\n",
    "    \n"
   ]
  },
  {
   "cell_type": "code",
   "execution_count": 125,
   "metadata": {},
   "outputs": [
    {
     "data": {
      "text/plain": [
       "3"
      ]
     },
     "execution_count": 125,
     "metadata": {},
     "output_type": "execute_result"
    }
   ],
   "source": [
    "from dataclasses import dataclass\n",
    "\n",
    "\n",
    "@dataclass\n",
    "class Spike:\n",
    "    rank: int = 1\n",
    "\n",
    "Spike(3).rank\n",
    "\n"
   ]
  },
  {
   "cell_type": "code",
   "execution_count": 126,
   "metadata": {},
   "outputs": [
    {
     "name": "stdout",
     "output_type": "stream",
     "text": [
      "[[285 107]\n",
      " [292 109]]\n"
     ]
    },
    {
     "data": {
      "text/plain": [
       "array([[228.,  85.],\n",
       "       [233.,  87.]])"
      ]
     },
     "execution_count": 126,
     "metadata": {},
     "output_type": "execute_result"
    }
   ],
   "source": [
    "@dataclass\n",
    "class Transaction:\n",
    "    delta_shares: np.array\n",
    "    outflows: int = 0\n",
    "\n",
    "assets_weights = np.array([0.6,0.4])\n",
    "prices = np.array([[34.2, 59.57],[31.42, 55.88]])\n",
    "shares_owned = np.array([[285, 107],[292, 109]])\n",
    "inflow = 0\n",
    "goal = (13000,0.8)\n",
    "\n",
    "cashflow = inflow - goal[0]\n",
    "current_value = np.sum(shares_owned * prices, 1) \n",
    "      \n",
    "delta_shares = np.where(np.abs(cashflow) <= current_value, np.fix((cashflow*assets_weights) / prices), -shares_owned)\n",
    "outflows = np.abs(np.sum(delta_shares * prices,axis=1))\n",
    "\n",
    "print(shares_owned)\n",
    "\n",
    "max_outflow_value = current_value * goal[1]\n",
    "np.fix(shares_owned * goal[1])\n",
    "\n"
   ]
  },
  {
   "cell_type": "code",
   "execution_count": 127,
   "metadata": {},
   "outputs": [],
   "source": [
    "goal = (14000,1)\n",
    "assets_weights = np.array([0.6,0.4])\n",
    "prices = np.array([[34.2, 59.57],[31.42, 55.88]])\n",
    "#shares_owned = np.array([[282, 99],[290, 91]])\n",
    "shares_owned = np.array([[0, 0],[0, 0]])\n",
    "inflow = 10000"
   ]
  },
  {
   "cell_type": "code",
   "execution_count": 128,
   "metadata": {},
   "outputs": [
    {
     "name": "stdout",
     "output_type": "stream",
     "text": [
      "[-4000. -4000.]\n",
      "[0.6 0.4]\n"
     ]
    },
    {
     "data": {
      "text/plain": [
       "array([[70.1754386 , 26.85915729],\n",
       "       [76.38446849, 28.63278454]])"
      ]
     },
     "execution_count": 128,
     "metadata": {},
     "output_type": "execute_result"
    }
   ],
   "source": [
    "goal_target = goal[0] \n",
    "goal_max_outflow_percent = goal[1]\n",
    "current_assets_value = shares_owned * prices\n",
    "current_value = np.sum(current_assets_value, 1) \n",
    "expected_value = current_value + inflow - goal_target\n",
    "#max_outflow_value = current_value * goal_max_outflow_percent\n",
    "    \n",
    "delta_value = expected_value.reshape((2,1)) * assets_weights - current_assets_value\n",
    "    \n",
    "#delta_shares = - np.fix(delta_value / prices)\n",
    "delta_shares = - delta_value / prices\n",
    "\n",
    "#outflows = np.round(np.abs(np.sum(delta_shares * prices,axis=1)),2)\n",
    "\n",
    "#print(outflows)    \n",
    "#Transaction(delta_shares, outflows)\n",
    "print(expected_value)\n",
    "print(assets_weights)\n",
    "delta_shares\n",
    "\n"
   ]
  },
  {
   "cell_type": "code",
   "execution_count": 129,
   "metadata": {},
   "outputs": [
    {
     "data": {
      "text/plain": [
       "array([2904.7 , 3009.08])"
      ]
     },
     "execution_count": 129,
     "metadata": {},
     "output_type": "execute_result"
    }
   ],
   "source": [
    "shares_owned = np.array([[25,15],[24,17]])\n",
    "delta = np.array([[5,5],[4,7]])\n",
    "shares_owned += delta\n",
    "np.sum(shares_owned * prices[:,1],1)"
   ]
  },
  {
   "cell_type": "code",
   "execution_count": 130,
   "metadata": {},
   "outputs": [
    {
     "data": {
      "text/plain": [
       "array([40., 60.])"
      ]
     },
     "execution_count": 130,
     "metadata": {},
     "output_type": "execute_result"
    }
   ],
   "source": [
    "class PorfoliosSumulator:\n",
    "    def __init__(self) -> None:\n",
    "        pass\n",
    "\n",
    "assets_weights = np.array([0.4,0.6])\n",
    "shares = np.zeros((scenario_count,t,assets_weights.shape[0]))\n",
    "initial_wealth =100\n",
    "\n",
    "#shares[0] = \n",
    "\n",
    "initial_wealth *assets_weights\n"
   ]
  },
  {
   "attachments": {},
   "cell_type": "markdown",
   "metadata": {},
   "source": [
    "Portfolio class:\n",
    "- [ ] get withrowals for\n",
    "    - no goal\n",
    "    - single goal\n",
    "    - multiple goals in different times    \n",
    "    - dla emerytury - coroczne dla kilku celow\n",
    "- add infusions\n",
    "- rebalance\n",
    "- include costs\n",
    "\n"
   ]
  },
  {
   "cell_type": "code",
   "execution_count": 131,
   "metadata": {},
   "outputs": [],
   "source": [
    "import tensorflow as tf"
   ]
  },
  {
   "cell_type": "code",
   "execution_count": 132,
   "metadata": {},
   "outputs": [
    {
     "data": {
      "text/plain": [
       "[<tf.Tensor: shape=(3,), dtype=float32, numpy=array([0.035, 0.085, 0.06 ], dtype=float32)>,\n",
       " None]"
      ]
     },
     "execution_count": 132,
     "metadata": {},
     "output_type": "execute_result"
    }
   ],
   "source": [
    "weights = tf.Variable([0.3,0.4,0.3])\n",
    "returns = tf.constant([0.035, 0.085, 0.06])\n",
    "\n",
    "def loss(weights, returns):\n",
    "    return tf.tensordot(weights,returns,axes=1)\n",
    "\n",
    "y = loss(weights, returns)\n",
    "\n",
    "with tf.GradientTape() as type:\n",
    "    y = loss(weights, returns)\n",
    "\n",
    "weights.assign([0.5,0.3,0.2])\n",
    "\n",
    "type.gradient(y, [weights, returns])\n",
    "\n"
   ]
  },
  {
   "cell_type": "code",
   "execution_count": 133,
   "metadata": {},
   "outputs": [
    {
     "data": {
      "text/plain": [
       "(2, 6, 2)"
      ]
     },
     "execution_count": 133,
     "metadata": {},
     "output_type": "execute_result"
    }
   ],
   "source": [
    "arr = np.array([[[30.00, 50.00],       \n",
    "                        [32.7, 51.5],\n",
    "                        [25.18, 56.14],\n",
    "                        [23.67, 56.70],\n",
    "                        [30.53, 57.83],\n",
    "                        [34.2, 59.57]],\n",
    "                        [[30.0,\t50.0],\n",
    "                         [28.2,\t52.00],\n",
    "                         [24.82, 47.84],\n",
    "                         [24.07, 51.67],\n",
    "                         [25.76, 54.25],\n",
    "                         [31.42, 55.88]]])\n",
    "arr.shape"
   ]
  },
  {
   "cell_type": "code",
   "execution_count": 154,
   "metadata": {},
   "outputs": [
    {
     "data": {
      "text/plain": [
       "(600, 121, 4)"
      ]
     },
     "execution_count": 154,
     "metadata": {},
     "output_type": "execute_result"
    }
   ],
   "source": [
    "means = [0.03, 0.05, 0.06, 0.09]\n",
    "cov = [[0.02, -0.00, -0.00, -0.00],[0.00, 0.04, 0.03, 0.04],[-0.00, 0.03, 0.20, -0.00], [-0.00,0.04, -0.00, 0.13]]      \n",
    "\n",
    "number_of_scenarios = 600\n",
    "T = 121\n",
    "prices = []         \n",
    "\n",
    "for i in range (number_of_scenarios):\n",
    "    returns = multivariate_normal.rvs(means,cov, T) + 1\n",
    "    prices.append(np.cumprod(returns,axis=0)*100)\n",
    "    #prices.append(returns)\n",
    "\n",
    "prices = np.absolute(prices)\n",
    "np.round(prices,2)\n",
    "\n",
    "prices.shape\n",
    "            "
   ]
  },
  {
   "cell_type": "code",
   "execution_count": 155,
   "metadata": {},
   "outputs": [],
   "source": [
    "from sb_gbi.portfolio_simulator_tf_numpy import PortfoliosSimulator\n",
    "%reload_ext autoreload\n",
    "%autoreload 2\n",
    "\n",
    "inflows = tf.fill(T, 1000.0)\n",
    "#inflows[0] = 10000.0\n",
    "prices = tf.constant(np.round(prices,2), dtype=tf.float32)\n",
    "\n",
    "#assets_weights = np.full((T,4),[0.25,0.25, 0.25, 0.25])\n",
    "assets_weights = tf.Variable(tf.fill((T,4),0.25))\n",
    "\n",
    "goals = {\n",
    "        120: (240000.0,1.0)\n",
    "    }  \n",
    "\n",
    "\n",
    "portfolios_simulator = PortfoliosSimulator()\n",
    "\n"
   ]
  },
  {
   "cell_type": "code",
   "execution_count": 159,
   "metadata": {},
   "outputs": [
    {
     "data": {
      "text/plain": [
       "[<tf.Tensor 'truediv_240:0' shape=(600,) dtype=float64>]"
      ]
     },
     "execution_count": 159,
     "metadata": {},
     "output_type": "execute_result"
    }
   ],
   "source": [
    "portfolios_simulator.set_params(\n",
    "        assets_prices=prices,        \n",
    "        assets_weights= assets_weights,       \n",
    "        inflows = inflows,\n",
    "        goals = goals\n",
    "        )\n",
    "\n",
    "for i in range(50):\n",
    "        portfolios_simulator.set_params(\n",
    "        assets_prices=prices,        \n",
    "        assets_weights= assets_weights,       \n",
    "        inflows = inflows,\n",
    "        goals = goals\n",
    "        )\n",
    "        outflows = portfolios_simulator.run()\n",
    "\n",
    "portfolios_simulator.get_outflows()"
   ]
  },
  {
   "cell_type": "code",
   "execution_count": 157,
   "metadata": {},
   "outputs": [],
   "source": [
    "outflows"
   ]
  },
  {
   "cell_type": "code",
   "execution_count": 160,
   "metadata": {},
   "outputs": [
    {
     "ename": "TypeError",
     "evalue": "<tf.Tensor 'truediv_240:0' shape=(600,) dtype=float64> is out of scope and cannot be used here. Use return values, explicit Python locals or TensorFlow collections to access it.\nPlease see https://www.tensorflow.org/guide/function#all_outputs_of_a_tffunction_must_be_return_values for more information.\n\n<tf.Tensor 'truediv_240:0' shape=(600,) dtype=float64> was defined here:\n    File \"c:\\Users\\matsz\\miniconda3\\envs\\portfolio-optimisation\\lib\\runpy.py\", line 197, in _run_module_as_main\n      return _run_code(code, main_globals, None,\n    File \"c:\\Users\\matsz\\miniconda3\\envs\\portfolio-optimisation\\lib\\runpy.py\", line 87, in _run_code\n      exec(code, run_globals)\n    File \"c:\\Users\\matsz\\miniconda3\\envs\\portfolio-optimisation\\lib\\site-packages\\ipykernel_launcher.py\", line 16, in <module>\n      app.launch_new_instance()\n    File \"c:\\Users\\matsz\\miniconda3\\envs\\portfolio-optimisation\\lib\\site-packages\\traitlets\\config\\application.py\", line 846, in launch_instance\n      app.start()\n    File \"c:\\Users\\matsz\\miniconda3\\envs\\portfolio-optimisation\\lib\\site-packages\\ipykernel\\kernelapp.py\", line 677, in start\n      self.io_loop.start()\n    File \"c:\\Users\\matsz\\miniconda3\\envs\\portfolio-optimisation\\lib\\site-packages\\tornado\\platform\\asyncio.py\", line 199, in start\n      self.asyncio_loop.run_forever()\n    File \"c:\\Users\\matsz\\miniconda3\\envs\\portfolio-optimisation\\lib\\asyncio\\base_events.py\", line 601, in run_forever\n      self._run_once()\n    File \"c:\\Users\\matsz\\miniconda3\\envs\\portfolio-optimisation\\lib\\asyncio\\base_events.py\", line 1905, in _run_once\n      handle._run()\n    File \"c:\\Users\\matsz\\miniconda3\\envs\\portfolio-optimisation\\lib\\asyncio\\events.py\", line 80, in _run\n      self._context.run(self._callback, *self._args)\n    File \"c:\\Users\\matsz\\miniconda3\\envs\\portfolio-optimisation\\lib\\site-packages\\ipykernel\\kernelbase.py\", line 471, in dispatch_queue\n      await self.process_one()\n    File \"c:\\Users\\matsz\\miniconda3\\envs\\portfolio-optimisation\\lib\\site-packages\\ipykernel\\kernelbase.py\", line 460, in process_one\n      await dispatch(*args)\n    File \"c:\\Users\\matsz\\miniconda3\\envs\\portfolio-optimisation\\lib\\site-packages\\ipykernel\\kernelbase.py\", line 367, in dispatch_shell\n      await result\n    File \"c:\\Users\\matsz\\miniconda3\\envs\\portfolio-optimisation\\lib\\site-packages\\ipykernel\\kernelbase.py\", line 662, in execute_request\n      reply_content = await reply_content\n    File \"c:\\Users\\matsz\\miniconda3\\envs\\portfolio-optimisation\\lib\\site-packages\\ipykernel\\ipkernel.py\", line 360, in do_execute\n      res = shell.run_cell(code, store_history=store_history, silent=silent)\n    File \"c:\\Users\\matsz\\miniconda3\\envs\\portfolio-optimisation\\lib\\site-packages\\ipykernel\\zmqshell.py\", line 532, in run_cell\n      return super().run_cell(*args, **kwargs)\n    File \"c:\\Users\\matsz\\miniconda3\\envs\\portfolio-optimisation\\lib\\site-packages\\IPython\\core\\interactiveshell.py\", line 2880, in run_cell\n      result = self._run_cell(\n    File \"c:\\Users\\matsz\\miniconda3\\envs\\portfolio-optimisation\\lib\\site-packages\\IPython\\core\\interactiveshell.py\", line 2935, in _run_cell\n      return runner(coro)\n    File \"c:\\Users\\matsz\\miniconda3\\envs\\portfolio-optimisation\\lib\\site-packages\\IPython\\core\\async_helpers.py\", line 129, in _pseudo_sync_runner\n      coro.send(None)\n    File \"c:\\Users\\matsz\\miniconda3\\envs\\portfolio-optimisation\\lib\\site-packages\\IPython\\core\\interactiveshell.py\", line 3134, in run_cell_async\n      has_raised = await self.run_ast_nodes(code_ast.body, cell_name,\n    File \"c:\\Users\\matsz\\miniconda3\\envs\\portfolio-optimisation\\lib\\site-packages\\IPython\\core\\interactiveshell.py\", line 3337, in run_ast_nodes\n      if await self.run_code(code, result, async_=asy):\n    File \"c:\\Users\\matsz\\miniconda3\\envs\\portfolio-optimisation\\lib\\site-packages\\IPython\\core\\interactiveshell.py\", line 3397, in run_code\n      exec(code_obj, self.user_global_ns, self.user_ns)\n    File \"C:\\Users\\matsz\\AppData\\Local\\Temp\\ipykernel_41772\\3645487140.py\", line 15, in <cell line: 8>\n      outflows = portfolios_simulator.run()\n    File \"c:\\Users\\matsz\\miniconda3\\envs\\portfolio-optimisation\\lib\\site-packages\\tensorflow\\python\\util\\traceback_utils.py\", line 150, in error_handler\n      return fn(*args, **kwargs)\n    File \"c:\\Users\\matsz\\miniconda3\\envs\\portfolio-optimisation\\lib\\site-packages\\tensorflow\\python\\eager\\polymorphic_function\\polymorphic_function.py\", line 894, in __call__\n      result = self._call(*args, **kwds)\n    File \"c:\\Users\\matsz\\miniconda3\\envs\\portfolio-optimisation\\lib\\site-packages\\tensorflow\\python\\eager\\polymorphic_function\\polymorphic_function.py\", line 942, in _call\n      self._initialize(args, kwds, add_initializers_to=initializers)\n    File \"c:\\Users\\matsz\\miniconda3\\envs\\portfolio-optimisation\\lib\\site-packages\\tensorflow\\python\\eager\\polymorphic_function\\polymorphic_function.py\", line 763, in _initialize\n      self._variable_creation_fn    # pylint: disable=protected-access\n    File \"c:\\Users\\matsz\\miniconda3\\envs\\portfolio-optimisation\\lib\\site-packages\\tensorflow\\python\\eager\\polymorphic_function\\tracing_compiler.py\", line 171, in _get_concrete_function_internal_garbage_collected\n      concrete_function, _ = self._maybe_define_concrete_function(args, kwargs)\n    File \"c:\\Users\\matsz\\miniconda3\\envs\\portfolio-optimisation\\lib\\site-packages\\tensorflow\\python\\eager\\polymorphic_function\\tracing_compiler.py\", line 166, in _maybe_define_concrete_function\n      return self._maybe_define_function(args, kwargs)\n    File \"c:\\Users\\matsz\\miniconda3\\envs\\portfolio-optimisation\\lib\\site-packages\\tensorflow\\python\\eager\\polymorphic_function\\tracing_compiler.py\", line 396, in _maybe_define_function\n      concrete_function = self._create_concrete_function(\n    File \"c:\\Users\\matsz\\miniconda3\\envs\\portfolio-optimisation\\lib\\site-packages\\tensorflow\\python\\eager\\polymorphic_function\\tracing_compiler.py\", line 300, in _create_concrete_function\n      func_graph_module.func_graph_from_py_func(\n    File \"c:\\Users\\matsz\\miniconda3\\envs\\portfolio-optimisation\\lib\\site-packages\\tensorflow\\python\\framework\\func_graph.py\", line 1214, in func_graph_from_py_func\n      func_outputs = python_func(*func_args, **func_kwargs)\n    File \"c:\\Users\\matsz\\miniconda3\\envs\\portfolio-optimisation\\lib\\site-packages\\tensorflow\\python\\eager\\polymorphic_function\\polymorphic_function.py\", line 667, in wrapped_fn\n      out = weak_wrapped_fn().__wrapped__(*args, **kwds)\n    File \"c:\\Users\\matsz\\miniconda3\\envs\\portfolio-optimisation\\lib\\site-packages\\tensorflow\\python\\eager\\polymorphic_function\\tracing_compiler.py\", line 484, in bound_method_wrapper\n      return wrapped_fn(*args, **kwargs)\n    File \"c:\\Users\\matsz\\miniconda3\\envs\\portfolio-optimisation\\lib\\site-packages\\tensorflow\\python\\framework\\func_graph.py\", line 1189, in autograph_handler\n      return autograph.converted_call(\n    File \"c:\\Users\\matsz\\miniconda3\\envs\\portfolio-optimisation\\lib\\site-packages\\tensorflow\\python\\autograph\\impl\\api.py\", line 331, in converted_call\n      return _call_unconverted(f, args, kwargs, options, False)\n    File \"c:\\Users\\matsz\\miniconda3\\envs\\portfolio-optimisation\\lib\\site-packages\\tensorflow\\python\\autograph\\impl\\api.py\", line 455, in _call_unconverted\n      return f.__self__.call(args, kwargs)\n    File \"c:\\Users\\matsz\\miniconda3\\envs\\portfolio-optimisation\\lib\\site-packages\\tensorflow\\python\\eager\\polymorphic_function\\tracing_compiler.py\", line 447, in call\n      return wrapped_fn(self.weakrefself_target__(), *args, **kwargs)\n    File \"c:\\Users\\matsz\\programowanie\\Optymalizacja portfela\\sb_gbi\\portfolio_simulator_tf_numpy.py\", line 109, in run\n      delta_shares, outflows = transactions(self.__inflows[t], self.__shares, self.__assets_weights[t],self.__prices[:,t], self.__goals.get(t))\n    File \"c:\\Users\\matsz\\programowanie\\Optymalizacja portfela\\sb_gbi\\portfolio_simulator_tf_numpy.py\", line 54, in transactions\n      outflows = np.round(np.where(goal_allocation >= goal_target, goal_target, goal_allocation),2)\n    File \"c:\\Users\\matsz\\miniconda3\\envs\\portfolio-optimisation\\lib\\site-packages\\tensorflow\\python\\ops\\numpy_ops\\__init__.py\", line 196, in round\n      return around(a, decimals=decimals)\n    File \"c:\\Users\\matsz\\miniconda3\\envs\\portfolio-optimisation\\lib\\site-packages\\tensorflow\\python\\ops\\numpy_ops\\np_array_ops.py\", line 737, in around\n      a = math_ops.divide(a, factor)\n    File \"c:\\Users\\matsz\\miniconda3\\envs\\portfolio-optimisation\\lib\\site-packages\\tensorflow\\python\\util\\traceback_utils.py\", line 150, in error_handler\n      return fn(*args, **kwargs)\n    File \"c:\\Users\\matsz\\miniconda3\\envs\\portfolio-optimisation\\lib\\site-packages\\tensorflow\\python\\util\\dispatch.py\", line 1176, in op_dispatch_handler\n      return dispatch_target(*args, **kwargs)\n    File \"c:\\Users\\matsz\\miniconda3\\envs\\portfolio-optimisation\\lib\\site-packages\\tensorflow\\python\\ops\\math_ops.py\", line 478, in divide\n      return x / y\n    File \"c:\\Users\\matsz\\miniconda3\\envs\\portfolio-optimisation\\lib\\site-packages\\tensorflow\\python\\util\\traceback_utils.py\", line 150, in error_handler\n      return fn(*args, **kwargs)\n    File \"c:\\Users\\matsz\\miniconda3\\envs\\portfolio-optimisation\\lib\\site-packages\\tensorflow\\python\\ops\\math_ops.py\", line 1459, in binary_op_wrapper\n      return func(x, y, name=name)\n    File \"c:\\Users\\matsz\\miniconda3\\envs\\portfolio-optimisation\\lib\\site-packages\\tensorflow\\python\\util\\traceback_utils.py\", line 150, in error_handler\n      return fn(*args, **kwargs)\n    File \"c:\\Users\\matsz\\miniconda3\\envs\\portfolio-optimisation\\lib\\site-packages\\tensorflow\\python\\util\\dispatch.py\", line 1176, in op_dispatch_handler\n      return dispatch_target(*args, **kwargs)\n    File \"c:\\Users\\matsz\\miniconda3\\envs\\portfolio-optimisation\\lib\\site-packages\\tensorflow\\python\\ops\\math_ops.py\", line 1642, in truediv\n      return _truediv_python3(x, y, name)\n    File \"c:\\Users\\matsz\\miniconda3\\envs\\portfolio-optimisation\\lib\\site-packages\\tensorflow\\python\\ops\\math_ops.py\", line 1580, in _truediv_python3\n      return gen_math_ops.real_div(x, y, name=name)\n    File \"c:\\Users\\matsz\\miniconda3\\envs\\portfolio-optimisation\\lib\\site-packages\\tensorflow\\python\\ops\\gen_math_ops.py\", line 8730, in real_div\n      _, _, _op, _outputs = _op_def_library._apply_op_helper(\n    File \"c:\\Users\\matsz\\miniconda3\\envs\\portfolio-optimisation\\lib\\site-packages\\tensorflow\\python\\framework\\op_def_library.py\", line 795, in _apply_op_helper\n      op = g._create_op_internal(op_type_name, inputs, dtypes=None,\n    File \"c:\\Users\\matsz\\miniconda3\\envs\\portfolio-optimisation\\lib\\site-packages\\tensorflow\\python\\framework\\func_graph.py\", line 707, in _create_op_internal\n      return super()._create_op_internal(  # pylint: disable=protected-access\n    File \"c:\\Users\\matsz\\miniconda3\\envs\\portfolio-optimisation\\lib\\site-packages\\tensorflow\\python\\framework\\ops.py\", line 3814, in _create_op_internal\n      ret = Operation(\n\nThe tensor <tf.Tensor 'truediv_240:0' shape=(600,) dtype=float64> cannot be accessed from here, because it was defined in FuncGraph(name=run, id=1263724338960), which is out of scope.",
     "output_type": "error",
     "traceback": [
      "\u001b[1;31m---------------------------------------------------------------------------\u001b[0m",
      "\u001b[1;31mTypeError\u001b[0m                                 Traceback (most recent call last)",
      "\u001b[1;32mc:\\Users\\matsz\\programowanie\\Optymalizacja portfela\\sb_gbi.ipynb Cell 20\u001b[0m in \u001b[0;36m<cell line: 1>\u001b[1;34m()\u001b[0m\n\u001b[0;32m      <a href='vscode-notebook-cell:/c%3A/Users/matsz/programowanie/Optymalizacja%20portfela/sb_gbi.ipynb#X33sZmlsZQ%3D%3D?line=1'>2</a>\u001b[0m     tape\u001b[39m.\u001b[39mwatch(assets_weights)\n\u001b[0;32m      <a href='vscode-notebook-cell:/c%3A/Users/matsz/programowanie/Optymalizacja%20portfela/sb_gbi.ipynb#X33sZmlsZQ%3D%3D?line=2'>3</a>\u001b[0m     portfolios_simulator\u001b[39m.\u001b[39mrun()\n\u001b[1;32m----> <a href='vscode-notebook-cell:/c%3A/Users/matsz/programowanie/Optymalizacja%20portfela/sb_gbi.ipynb#X33sZmlsZQ%3D%3D?line=3'>4</a>\u001b[0m     probs \u001b[39m=\u001b[39m portfolios_simulator\u001b[39m.\u001b[39;49mget_goals_achevement_probabilities()\n\u001b[0;32m      <a href='vscode-notebook-cell:/c%3A/Users/matsz/programowanie/Optymalizacja%20portfela/sb_gbi.ipynb#X33sZmlsZQ%3D%3D?line=5'>6</a>\u001b[0m \u001b[39mprint\u001b[39m(tape\u001b[39m.\u001b[39mgradient(probs, assets_weights))\n",
      "File \u001b[1;32mc:\\Users\\matsz\\programowanie\\Optymalizacja portfela\\sb_gbi\\portfolio_simulator_tf_numpy.py:100\u001b[0m, in \u001b[0;36mPortfoliosSimulator.get_goals_achevement_probabilities\u001b[1;34m(self)\u001b[0m\n\u001b[0;32m     98\u001b[0m \u001b[39mdef\u001b[39;00m \u001b[39mget_goals_achevement_probabilities\u001b[39m(\u001b[39mself\u001b[39m):\n\u001b[0;32m     99\u001b[0m     goals_targets \u001b[39m=\u001b[39m \u001b[39mlist\u001b[39m(\u001b[39mmap\u001b[39m(\u001b[39mlambda\u001b[39;00m x: x[\u001b[39m0\u001b[39m],  \u001b[39mlist\u001b[39m(\u001b[39mself\u001b[39m\u001b[39m.\u001b[39m__goals\u001b[39m.\u001b[39mvalues())))\n\u001b[1;32m--> 100\u001b[0m     \u001b[39mreturn\u001b[39;00m calculate_prob_of_goal_achivement(goals_targets, \u001b[39mself\u001b[39;49m\u001b[39m.\u001b[39;49mget_outflows())\n",
      "File \u001b[1;32mc:\\Users\\matsz\\programowanie\\Optymalizacja portfela\\sb_gbi\\portfolio_simulator_tf_numpy.py:69\u001b[0m, in \u001b[0;36mcalculate_prob_of_goal_achivement\u001b[1;34m(goals_targets, goals_outflows)\u001b[0m\n\u001b[0;32m     67\u001b[0m \u001b[39mdef\u001b[39;00m \u001b[39mcalculate_prob_of_goal_achivement\u001b[39m(goals_targets: np\u001b[39m.\u001b[39mndarray, goals_outflows: np\u001b[39m.\u001b[39mndarray):\n\u001b[1;32m---> 69\u001b[0m     number_of_scenarios \u001b[39m=\u001b[39m np\u001b[39m.\u001b[39;49marray(goals_outflows)\u001b[39m.\u001b[39mshape[\u001b[39m0\u001b[39m]\n\u001b[0;32m     70\u001b[0m     total_goals_outflows \u001b[39m=\u001b[39m np\u001b[39m.\u001b[39msum(goals_outflows, axis\u001b[39m=\u001b[39m\u001b[39m1\u001b[39m)\n\u001b[0;32m     71\u001b[0m     probabilities \u001b[39m=\u001b[39m total_goals_outflows \u001b[39m/\u001b[39m np\u001b[39m.\u001b[39mmultiply(goals_targets, number_of_scenarios)\n",
      "File \u001b[1;32mc:\\Users\\matsz\\miniconda3\\envs\\portfolio-optimisation\\lib\\site-packages\\tensorflow\\python\\ops\\numpy_ops\\np_array_ops.py:205\u001b[0m, in \u001b[0;36marray\u001b[1;34m(val, dtype, copy, ndmin)\u001b[0m\n\u001b[0;32m    203\u001b[0m \u001b[39mif\u001b[39;00m dtype:\n\u001b[0;32m    204\u001b[0m   dtype \u001b[39m=\u001b[39m np_utils\u001b[39m.\u001b[39mresult_type(dtype)\n\u001b[1;32m--> 205\u001b[0m \u001b[39mreturn\u001b[39;00m _array_internal(val, dtype, copy, ndmin)\n",
      "File \u001b[1;32mc:\\Users\\matsz\\miniconda3\\envs\\portfolio-optimisation\\lib\\site-packages\\tensorflow\\python\\ops\\numpy_ops\\np_array_ops.py:164\u001b[0m, in \u001b[0;36m_array_internal\u001b[1;34m(val, dtype, copy, ndmin)\u001b[0m\n\u001b[0;32m    151\u001b[0m   dtype \u001b[39m=\u001b[39m np_utils\u001b[39m.\u001b[39mresult_type_unary(result_t, dtype)\n\u001b[0;32m    152\u001b[0m   \u001b[39m# We can't call `convert_to_tensor(result_t, dtype=dtype)` here because\u001b[39;00m\n\u001b[0;32m    153\u001b[0m   \u001b[39m# convert_to_tensor doesn't allow incompatible arguments such as (5.5, int)\u001b[39;00m\n\u001b[0;32m    154\u001b[0m   \u001b[39m# while np.array allows them. We need to convert-then-cast.\u001b[39;00m\n\u001b[1;32m   (...)\u001b[0m\n\u001b[0;32m    162\u001b[0m   \u001b[39m# supply that information so that convert_to_tensor will do best-effort\u001b[39;00m\n\u001b[0;32m    163\u001b[0m   \u001b[39m# conversion to that dtype first.\u001b[39;00m\n\u001b[1;32m--> 164\u001b[0m   result_t \u001b[39m=\u001b[39m np_arrays\u001b[39m.\u001b[39;49mconvert_to_tensor(result_t, dtype_hint\u001b[39m=\u001b[39;49mdtype)\n\u001b[0;32m    165\u001b[0m   result_t \u001b[39m=\u001b[39m math_ops\u001b[39m.\u001b[39mcast(result_t, dtype\u001b[39m=\u001b[39mdtype)\n\u001b[0;32m    166\u001b[0m \u001b[39melif\u001b[39;00m dtype:\n",
      "File \u001b[1;32mc:\\Users\\matsz\\miniconda3\\envs\\portfolio-optimisation\\lib\\site-packages\\tensorflow\\python\\ops\\numpy_ops\\np_arrays.py:45\u001b[0m, in \u001b[0;36mconvert_to_tensor\u001b[1;34m(value, dtype, dtype_hint)\u001b[0m\n\u001b[0;32m     43\u001b[0m \u001b[39melif\u001b[39;00m dtype \u001b[39mis\u001b[39;00m \u001b[39mNone\u001b[39;00m \u001b[39mand\u001b[39;00m dtype_hint \u001b[39mis\u001b[39;00m \u001b[39mNone\u001b[39;00m \u001b[39mand\u001b[39;00m \u001b[39misinstance\u001b[39m(value, \u001b[39mfloat\u001b[39m):\n\u001b[0;32m     44\u001b[0m   dtype \u001b[39m=\u001b[39m np_dtypes\u001b[39m.\u001b[39mdefault_float_type()\n\u001b[1;32m---> 45\u001b[0m \u001b[39mreturn\u001b[39;00m ops\u001b[39m.\u001b[39;49mconvert_to_tensor(value, dtype\u001b[39m=\u001b[39;49mdtype, dtype_hint\u001b[39m=\u001b[39;49mdtype_hint)\n",
      "File \u001b[1;32mc:\\Users\\matsz\\miniconda3\\envs\\portfolio-optimisation\\lib\\site-packages\\tensorflow\\python\\profiler\\trace.py:183\u001b[0m, in \u001b[0;36mtrace_wrapper.<locals>.inner_wrapper.<locals>.wrapped\u001b[1;34m(*args, **kwargs)\u001b[0m\n\u001b[0;32m    181\u001b[0m   \u001b[39mwith\u001b[39;00m Trace(trace_name, \u001b[39m*\u001b[39m\u001b[39m*\u001b[39mtrace_kwargs):\n\u001b[0;32m    182\u001b[0m     \u001b[39mreturn\u001b[39;00m func(\u001b[39m*\u001b[39margs, \u001b[39m*\u001b[39m\u001b[39m*\u001b[39mkwargs)\n\u001b[1;32m--> 183\u001b[0m \u001b[39mreturn\u001b[39;00m func(\u001b[39m*\u001b[39margs, \u001b[39m*\u001b[39m\u001b[39m*\u001b[39mkwargs)\n",
      "File \u001b[1;32mc:\\Users\\matsz\\miniconda3\\envs\\portfolio-optimisation\\lib\\site-packages\\tensorflow\\python\\framework\\ops.py:1642\u001b[0m, in \u001b[0;36mconvert_to_tensor\u001b[1;34m(value, dtype, name, as_ref, preferred_dtype, dtype_hint, ctx, accepted_result_types)\u001b[0m\n\u001b[0;32m   1633\u001b[0m       \u001b[39mraise\u001b[39;00m \u001b[39mRuntimeError\u001b[39;00m(\n\u001b[0;32m   1634\u001b[0m           _add_error_prefix(\n\u001b[0;32m   1635\u001b[0m               \u001b[39mf\u001b[39m\u001b[39m\"\u001b[39m\u001b[39mConversion function \u001b[39m\u001b[39m{\u001b[39;00mconversion_func\u001b[39m!r}\u001b[39;00m\u001b[39m for type \u001b[39m\u001b[39m\"\u001b[39m\n\u001b[1;32m   (...)\u001b[0m\n\u001b[0;32m   1638\u001b[0m               \u001b[39mf\u001b[39m\u001b[39m\"\u001b[39m\u001b[39mactual = \u001b[39m\u001b[39m{\u001b[39;00mret\u001b[39m.\u001b[39mdtype\u001b[39m.\u001b[39mbase_dtype\u001b[39m.\u001b[39mname\u001b[39m}\u001b[39;00m\u001b[39m\"\u001b[39m,\n\u001b[0;32m   1639\u001b[0m               name\u001b[39m=\u001b[39mname))\n\u001b[0;32m   1641\u001b[0m \u001b[39mif\u001b[39;00m ret \u001b[39mis\u001b[39;00m \u001b[39mNone\u001b[39;00m:\n\u001b[1;32m-> 1642\u001b[0m   ret \u001b[39m=\u001b[39m conversion_func(value, dtype\u001b[39m=\u001b[39;49mdtype, name\u001b[39m=\u001b[39;49mname, as_ref\u001b[39m=\u001b[39;49mas_ref)\n\u001b[0;32m   1644\u001b[0m \u001b[39mif\u001b[39;00m ret \u001b[39mis\u001b[39;00m \u001b[39mNotImplemented\u001b[39m:\n\u001b[0;32m   1645\u001b[0m   \u001b[39mcontinue\u001b[39;00m\n",
      "File \u001b[1;32mc:\\Users\\matsz\\miniconda3\\envs\\portfolio-optimisation\\lib\\site-packages\\tensorflow\\python\\ops\\array_ops.py:1607\u001b[0m, in \u001b[0;36m_autopacking_conversion_function\u001b[1;34m(v, dtype, name, as_ref)\u001b[0m\n\u001b[0;32m   1605\u001b[0m \u001b[39melif\u001b[39;00m dtype \u001b[39m!=\u001b[39m inferred_dtype:\n\u001b[0;32m   1606\u001b[0m   v \u001b[39m=\u001b[39m nest\u001b[39m.\u001b[39mmap_structure(_cast_nested_seqs_to_dtype(dtype), v)\n\u001b[1;32m-> 1607\u001b[0m \u001b[39mreturn\u001b[39;00m _autopacking_helper(v, dtype, name \u001b[39mor\u001b[39;49;00m \u001b[39m\"\u001b[39;49m\u001b[39mpacked\u001b[39;49m\u001b[39m\"\u001b[39;49m)\n",
      "File \u001b[1;32mc:\\Users\\matsz\\miniconda3\\envs\\portfolio-optimisation\\lib\\site-packages\\tensorflow\\python\\ops\\array_ops.py:1514\u001b[0m, in \u001b[0;36m_autopacking_helper\u001b[1;34m(list_or_tuple, dtype, name)\u001b[0m\n\u001b[0;32m   1510\u001b[0m \u001b[39mif\u001b[39;00m context\u001b[39m.\u001b[39mexecuting_eagerly():\n\u001b[0;32m   1511\u001b[0m   \u001b[39m# NOTE: Fast path when all the items are tensors, this doesn't do any type\u001b[39;00m\n\u001b[0;32m   1512\u001b[0m   \u001b[39m# checking.\u001b[39;00m\n\u001b[0;32m   1513\u001b[0m   \u001b[39mif\u001b[39;00m \u001b[39mall\u001b[39m(\u001b[39misinstance\u001b[39m(elem, core\u001b[39m.\u001b[39mTensor) \u001b[39mfor\u001b[39;00m elem \u001b[39min\u001b[39;00m list_or_tuple):\n\u001b[1;32m-> 1514\u001b[0m     \u001b[39mreturn\u001b[39;00m gen_array_ops\u001b[39m.\u001b[39;49mpack(list_or_tuple, name\u001b[39m=\u001b[39;49mname)\n\u001b[0;32m   1515\u001b[0m must_pack \u001b[39m=\u001b[39m \u001b[39mFalse\u001b[39;00m\n\u001b[0;32m   1516\u001b[0m converted_elems \u001b[39m=\u001b[39m []\n",
      "File \u001b[1;32mc:\\Users\\matsz\\miniconda3\\envs\\portfolio-optimisation\\lib\\site-packages\\tensorflow\\python\\ops\\gen_array_ops.py:8288\u001b[0m, in \u001b[0;36mpack\u001b[1;34m(values, axis, name)\u001b[0m\n\u001b[0;32m   8286\u001b[0m   \u001b[39mpass\u001b[39;00m\n\u001b[0;32m   8287\u001b[0m \u001b[39mtry\u001b[39;00m:\n\u001b[1;32m-> 8288\u001b[0m   \u001b[39mreturn\u001b[39;00m pack_eager_fallback(\n\u001b[0;32m   8289\u001b[0m       values, axis\u001b[39m=\u001b[39;49maxis, name\u001b[39m=\u001b[39;49mname, ctx\u001b[39m=\u001b[39;49m_ctx)\n\u001b[0;32m   8290\u001b[0m \u001b[39mexcept\u001b[39;00m _core\u001b[39m.\u001b[39m_SymbolicException:\n\u001b[0;32m   8291\u001b[0m   \u001b[39mpass\u001b[39;00m  \u001b[39m# Add nodes to the TensorFlow graph.\u001b[39;00m\n",
      "File \u001b[1;32mc:\\Users\\matsz\\miniconda3\\envs\\portfolio-optimisation\\lib\\site-packages\\tensorflow\\python\\ops\\gen_array_ops.py:8328\u001b[0m, in \u001b[0;36mpack_eager_fallback\u001b[1;34m(values, axis, name, ctx)\u001b[0m\n\u001b[0;32m   8326\u001b[0m _inputs_flat \u001b[39m=\u001b[39m \u001b[39mlist\u001b[39m(values)\n\u001b[0;32m   8327\u001b[0m _attrs \u001b[39m=\u001b[39m (\u001b[39m\"\u001b[39m\u001b[39mN\u001b[39m\u001b[39m\"\u001b[39m, _attr_N, \u001b[39m\"\u001b[39m\u001b[39mT\u001b[39m\u001b[39m\"\u001b[39m, _attr_T, \u001b[39m\"\u001b[39m\u001b[39maxis\u001b[39m\u001b[39m\"\u001b[39m, axis)\n\u001b[1;32m-> 8328\u001b[0m _result \u001b[39m=\u001b[39m _execute\u001b[39m.\u001b[39;49mexecute(\u001b[39mb\u001b[39;49m\u001b[39m\"\u001b[39;49m\u001b[39mPack\u001b[39;49m\u001b[39m\"\u001b[39;49m, \u001b[39m1\u001b[39;49m, inputs\u001b[39m=\u001b[39;49m_inputs_flat, attrs\u001b[39m=\u001b[39;49m_attrs,\n\u001b[0;32m   8329\u001b[0m                            ctx\u001b[39m=\u001b[39;49mctx, name\u001b[39m=\u001b[39;49mname)\n\u001b[0;32m   8330\u001b[0m \u001b[39mif\u001b[39;00m _execute\u001b[39m.\u001b[39mmust_record_gradient():\n\u001b[0;32m   8331\u001b[0m   _execute\u001b[39m.\u001b[39mrecord_gradient(\n\u001b[0;32m   8332\u001b[0m       \u001b[39m\"\u001b[39m\u001b[39mPack\u001b[39m\u001b[39m\"\u001b[39m, _inputs_flat, _attrs, _result)\n",
      "File \u001b[1;32mc:\\Users\\matsz\\miniconda3\\envs\\portfolio-optimisation\\lib\\site-packages\\tensorflow\\python\\eager\\execute.py:66\u001b[0m, in \u001b[0;36mquick_execute\u001b[1;34m(op_name, num_outputs, inputs, attrs, ctx, name)\u001b[0m\n\u001b[0;32m     62\u001b[0m   \u001b[39mif\u001b[39;00m keras_symbolic_tensors:\n\u001b[0;32m     63\u001b[0m     \u001b[39mraise\u001b[39;00m core\u001b[39m.\u001b[39m_SymbolicException(\n\u001b[0;32m     64\u001b[0m         \u001b[39m\"\u001b[39m\u001b[39mInputs to eager execution function cannot be Keras symbolic \u001b[39m\u001b[39m\"\u001b[39m\n\u001b[0;32m     65\u001b[0m         \u001b[39m\"\u001b[39m\u001b[39mtensors, but found \u001b[39m\u001b[39m{}\u001b[39;00m\u001b[39m\"\u001b[39m\u001b[39m.\u001b[39mformat(keras_symbolic_tensors))\n\u001b[1;32m---> 66\u001b[0m   \u001b[39mraise\u001b[39;00m e\n\u001b[0;32m     67\u001b[0m \u001b[39m# pylint: enable=protected-access\u001b[39;00m\n\u001b[0;32m     68\u001b[0m \u001b[39mreturn\u001b[39;00m tensors\n",
      "File \u001b[1;32mc:\\Users\\matsz\\miniconda3\\envs\\portfolio-optimisation\\lib\\site-packages\\tensorflow\\python\\eager\\execute.py:52\u001b[0m, in \u001b[0;36mquick_execute\u001b[1;34m(op_name, num_outputs, inputs, attrs, ctx, name)\u001b[0m\n\u001b[0;32m     50\u001b[0m \u001b[39mtry\u001b[39;00m:\n\u001b[0;32m     51\u001b[0m   ctx\u001b[39m.\u001b[39mensure_initialized()\n\u001b[1;32m---> 52\u001b[0m   tensors \u001b[39m=\u001b[39m pywrap_tfe\u001b[39m.\u001b[39;49mTFE_Py_Execute(ctx\u001b[39m.\u001b[39;49m_handle, device_name, op_name,\n\u001b[0;32m     53\u001b[0m                                       inputs, attrs, num_outputs)\n\u001b[0;32m     54\u001b[0m \u001b[39mexcept\u001b[39;00m core\u001b[39m.\u001b[39m_NotOkStatusException \u001b[39mas\u001b[39;00m e:\n\u001b[0;32m     55\u001b[0m   \u001b[39mif\u001b[39;00m name \u001b[39mis\u001b[39;00m \u001b[39mnot\u001b[39;00m \u001b[39mNone\u001b[39;00m:\n",
      "\u001b[1;31mTypeError\u001b[0m: <tf.Tensor 'truediv_240:0' shape=(600,) dtype=float64> is out of scope and cannot be used here. Use return values, explicit Python locals or TensorFlow collections to access it.\nPlease see https://www.tensorflow.org/guide/function#all_outputs_of_a_tffunction_must_be_return_values for more information.\n\n<tf.Tensor 'truediv_240:0' shape=(600,) dtype=float64> was defined here:\n    File \"c:\\Users\\matsz\\miniconda3\\envs\\portfolio-optimisation\\lib\\runpy.py\", line 197, in _run_module_as_main\n      return _run_code(code, main_globals, None,\n    File \"c:\\Users\\matsz\\miniconda3\\envs\\portfolio-optimisation\\lib\\runpy.py\", line 87, in _run_code\n      exec(code, run_globals)\n    File \"c:\\Users\\matsz\\miniconda3\\envs\\portfolio-optimisation\\lib\\site-packages\\ipykernel_launcher.py\", line 16, in <module>\n      app.launch_new_instance()\n    File \"c:\\Users\\matsz\\miniconda3\\envs\\portfolio-optimisation\\lib\\site-packages\\traitlets\\config\\application.py\", line 846, in launch_instance\n      app.start()\n    File \"c:\\Users\\matsz\\miniconda3\\envs\\portfolio-optimisation\\lib\\site-packages\\ipykernel\\kernelapp.py\", line 677, in start\n      self.io_loop.start()\n    File \"c:\\Users\\matsz\\miniconda3\\envs\\portfolio-optimisation\\lib\\site-packages\\tornado\\platform\\asyncio.py\", line 199, in start\n      self.asyncio_loop.run_forever()\n    File \"c:\\Users\\matsz\\miniconda3\\envs\\portfolio-optimisation\\lib\\asyncio\\base_events.py\", line 601, in run_forever\n      self._run_once()\n    File \"c:\\Users\\matsz\\miniconda3\\envs\\portfolio-optimisation\\lib\\asyncio\\base_events.py\", line 1905, in _run_once\n      handle._run()\n    File \"c:\\Users\\matsz\\miniconda3\\envs\\portfolio-optimisation\\lib\\asyncio\\events.py\", line 80, in _run\n      self._context.run(self._callback, *self._args)\n    File \"c:\\Users\\matsz\\miniconda3\\envs\\portfolio-optimisation\\lib\\site-packages\\ipykernel\\kernelbase.py\", line 471, in dispatch_queue\n      await self.process_one()\n    File \"c:\\Users\\matsz\\miniconda3\\envs\\portfolio-optimisation\\lib\\site-packages\\ipykernel\\kernelbase.py\", line 460, in process_one\n      await dispatch(*args)\n    File \"c:\\Users\\matsz\\miniconda3\\envs\\portfolio-optimisation\\lib\\site-packages\\ipykernel\\kernelbase.py\", line 367, in dispatch_shell\n      await result\n    File \"c:\\Users\\matsz\\miniconda3\\envs\\portfolio-optimisation\\lib\\site-packages\\ipykernel\\kernelbase.py\", line 662, in execute_request\n      reply_content = await reply_content\n    File \"c:\\Users\\matsz\\miniconda3\\envs\\portfolio-optimisation\\lib\\site-packages\\ipykernel\\ipkernel.py\", line 360, in do_execute\n      res = shell.run_cell(code, store_history=store_history, silent=silent)\n    File \"c:\\Users\\matsz\\miniconda3\\envs\\portfolio-optimisation\\lib\\site-packages\\ipykernel\\zmqshell.py\", line 532, in run_cell\n      return super().run_cell(*args, **kwargs)\n    File \"c:\\Users\\matsz\\miniconda3\\envs\\portfolio-optimisation\\lib\\site-packages\\IPython\\core\\interactiveshell.py\", line 2880, in run_cell\n      result = self._run_cell(\n    File \"c:\\Users\\matsz\\miniconda3\\envs\\portfolio-optimisation\\lib\\site-packages\\IPython\\core\\interactiveshell.py\", line 2935, in _run_cell\n      return runner(coro)\n    File \"c:\\Users\\matsz\\miniconda3\\envs\\portfolio-optimisation\\lib\\site-packages\\IPython\\core\\async_helpers.py\", line 129, in _pseudo_sync_runner\n      coro.send(None)\n    File \"c:\\Users\\matsz\\miniconda3\\envs\\portfolio-optimisation\\lib\\site-packages\\IPython\\core\\interactiveshell.py\", line 3134, in run_cell_async\n      has_raised = await self.run_ast_nodes(code_ast.body, cell_name,\n    File \"c:\\Users\\matsz\\miniconda3\\envs\\portfolio-optimisation\\lib\\site-packages\\IPython\\core\\interactiveshell.py\", line 3337, in run_ast_nodes\n      if await self.run_code(code, result, async_=asy):\n    File \"c:\\Users\\matsz\\miniconda3\\envs\\portfolio-optimisation\\lib\\site-packages\\IPython\\core\\interactiveshell.py\", line 3397, in run_code\n      exec(code_obj, self.user_global_ns, self.user_ns)\n    File \"C:\\Users\\matsz\\AppData\\Local\\Temp\\ipykernel_41772\\3645487140.py\", line 15, in <cell line: 8>\n      outflows = portfolios_simulator.run()\n    File \"c:\\Users\\matsz\\miniconda3\\envs\\portfolio-optimisation\\lib\\site-packages\\tensorflow\\python\\util\\traceback_utils.py\", line 150, in error_handler\n      return fn(*args, **kwargs)\n    File \"c:\\Users\\matsz\\miniconda3\\envs\\portfolio-optimisation\\lib\\site-packages\\tensorflow\\python\\eager\\polymorphic_function\\polymorphic_function.py\", line 894, in __call__\n      result = self._call(*args, **kwds)\n    File \"c:\\Users\\matsz\\miniconda3\\envs\\portfolio-optimisation\\lib\\site-packages\\tensorflow\\python\\eager\\polymorphic_function\\polymorphic_function.py\", line 942, in _call\n      self._initialize(args, kwds, add_initializers_to=initializers)\n    File \"c:\\Users\\matsz\\miniconda3\\envs\\portfolio-optimisation\\lib\\site-packages\\tensorflow\\python\\eager\\polymorphic_function\\polymorphic_function.py\", line 763, in _initialize\n      self._variable_creation_fn    # pylint: disable=protected-access\n    File \"c:\\Users\\matsz\\miniconda3\\envs\\portfolio-optimisation\\lib\\site-packages\\tensorflow\\python\\eager\\polymorphic_function\\tracing_compiler.py\", line 171, in _get_concrete_function_internal_garbage_collected\n      concrete_function, _ = self._maybe_define_concrete_function(args, kwargs)\n    File \"c:\\Users\\matsz\\miniconda3\\envs\\portfolio-optimisation\\lib\\site-packages\\tensorflow\\python\\eager\\polymorphic_function\\tracing_compiler.py\", line 166, in _maybe_define_concrete_function\n      return self._maybe_define_function(args, kwargs)\n    File \"c:\\Users\\matsz\\miniconda3\\envs\\portfolio-optimisation\\lib\\site-packages\\tensorflow\\python\\eager\\polymorphic_function\\tracing_compiler.py\", line 396, in _maybe_define_function\n      concrete_function = self._create_concrete_function(\n    File \"c:\\Users\\matsz\\miniconda3\\envs\\portfolio-optimisation\\lib\\site-packages\\tensorflow\\python\\eager\\polymorphic_function\\tracing_compiler.py\", line 300, in _create_concrete_function\n      func_graph_module.func_graph_from_py_func(\n    File \"c:\\Users\\matsz\\miniconda3\\envs\\portfolio-optimisation\\lib\\site-packages\\tensorflow\\python\\framework\\func_graph.py\", line 1214, in func_graph_from_py_func\n      func_outputs = python_func(*func_args, **func_kwargs)\n    File \"c:\\Users\\matsz\\miniconda3\\envs\\portfolio-optimisation\\lib\\site-packages\\tensorflow\\python\\eager\\polymorphic_function\\polymorphic_function.py\", line 667, in wrapped_fn\n      out = weak_wrapped_fn().__wrapped__(*args, **kwds)\n    File \"c:\\Users\\matsz\\miniconda3\\envs\\portfolio-optimisation\\lib\\site-packages\\tensorflow\\python\\eager\\polymorphic_function\\tracing_compiler.py\", line 484, in bound_method_wrapper\n      return wrapped_fn(*args, **kwargs)\n    File \"c:\\Users\\matsz\\miniconda3\\envs\\portfolio-optimisation\\lib\\site-packages\\tensorflow\\python\\framework\\func_graph.py\", line 1189, in autograph_handler\n      return autograph.converted_call(\n    File \"c:\\Users\\matsz\\miniconda3\\envs\\portfolio-optimisation\\lib\\site-packages\\tensorflow\\python\\autograph\\impl\\api.py\", line 331, in converted_call\n      return _call_unconverted(f, args, kwargs, options, False)\n    File \"c:\\Users\\matsz\\miniconda3\\envs\\portfolio-optimisation\\lib\\site-packages\\tensorflow\\python\\autograph\\impl\\api.py\", line 455, in _call_unconverted\n      return f.__self__.call(args, kwargs)\n    File \"c:\\Users\\matsz\\miniconda3\\envs\\portfolio-optimisation\\lib\\site-packages\\tensorflow\\python\\eager\\polymorphic_function\\tracing_compiler.py\", line 447, in call\n      return wrapped_fn(self.weakrefself_target__(), *args, **kwargs)\n    File \"c:\\Users\\matsz\\programowanie\\Optymalizacja portfela\\sb_gbi\\portfolio_simulator_tf_numpy.py\", line 109, in run\n      delta_shares, outflows = transactions(self.__inflows[t], self.__shares, self.__assets_weights[t],self.__prices[:,t], self.__goals.get(t))\n    File \"c:\\Users\\matsz\\programowanie\\Optymalizacja portfela\\sb_gbi\\portfolio_simulator_tf_numpy.py\", line 54, in transactions\n      outflows = np.round(np.where(goal_allocation >= goal_target, goal_target, goal_allocation),2)\n    File \"c:\\Users\\matsz\\miniconda3\\envs\\portfolio-optimisation\\lib\\site-packages\\tensorflow\\python\\ops\\numpy_ops\\__init__.py\", line 196, in round\n      return around(a, decimals=decimals)\n    File \"c:\\Users\\matsz\\miniconda3\\envs\\portfolio-optimisation\\lib\\site-packages\\tensorflow\\python\\ops\\numpy_ops\\np_array_ops.py\", line 737, in around\n      a = math_ops.divide(a, factor)\n    File \"c:\\Users\\matsz\\miniconda3\\envs\\portfolio-optimisation\\lib\\site-packages\\tensorflow\\python\\util\\traceback_utils.py\", line 150, in error_handler\n      return fn(*args, **kwargs)\n    File \"c:\\Users\\matsz\\miniconda3\\envs\\portfolio-optimisation\\lib\\site-packages\\tensorflow\\python\\util\\dispatch.py\", line 1176, in op_dispatch_handler\n      return dispatch_target(*args, **kwargs)\n    File \"c:\\Users\\matsz\\miniconda3\\envs\\portfolio-optimisation\\lib\\site-packages\\tensorflow\\python\\ops\\math_ops.py\", line 478, in divide\n      return x / y\n    File \"c:\\Users\\matsz\\miniconda3\\envs\\portfolio-optimisation\\lib\\site-packages\\tensorflow\\python\\util\\traceback_utils.py\", line 150, in error_handler\n      return fn(*args, **kwargs)\n    File \"c:\\Users\\matsz\\miniconda3\\envs\\portfolio-optimisation\\lib\\site-packages\\tensorflow\\python\\ops\\math_ops.py\", line 1459, in binary_op_wrapper\n      return func(x, y, name=name)\n    File \"c:\\Users\\matsz\\miniconda3\\envs\\portfolio-optimisation\\lib\\site-packages\\tensorflow\\python\\util\\traceback_utils.py\", line 150, in error_handler\n      return fn(*args, **kwargs)\n    File \"c:\\Users\\matsz\\miniconda3\\envs\\portfolio-optimisation\\lib\\site-packages\\tensorflow\\python\\util\\dispatch.py\", line 1176, in op_dispatch_handler\n      return dispatch_target(*args, **kwargs)\n    File \"c:\\Users\\matsz\\miniconda3\\envs\\portfolio-optimisation\\lib\\site-packages\\tensorflow\\python\\ops\\math_ops.py\", line 1642, in truediv\n      return _truediv_python3(x, y, name)\n    File \"c:\\Users\\matsz\\miniconda3\\envs\\portfolio-optimisation\\lib\\site-packages\\tensorflow\\python\\ops\\math_ops.py\", line 1580, in _truediv_python3\n      return gen_math_ops.real_div(x, y, name=name)\n    File \"c:\\Users\\matsz\\miniconda3\\envs\\portfolio-optimisation\\lib\\site-packages\\tensorflow\\python\\ops\\gen_math_ops.py\", line 8730, in real_div\n      _, _, _op, _outputs = _op_def_library._apply_op_helper(\n    File \"c:\\Users\\matsz\\miniconda3\\envs\\portfolio-optimisation\\lib\\site-packages\\tensorflow\\python\\framework\\op_def_library.py\", line 795, in _apply_op_helper\n      op = g._create_op_internal(op_type_name, inputs, dtypes=None,\n    File \"c:\\Users\\matsz\\miniconda3\\envs\\portfolio-optimisation\\lib\\site-packages\\tensorflow\\python\\framework\\func_graph.py\", line 707, in _create_op_internal\n      return super()._create_op_internal(  # pylint: disable=protected-access\n    File \"c:\\Users\\matsz\\miniconda3\\envs\\portfolio-optimisation\\lib\\site-packages\\tensorflow\\python\\framework\\ops.py\", line 3814, in _create_op_internal\n      ret = Operation(\n\nThe tensor <tf.Tensor 'truediv_240:0' shape=(600,) dtype=float64> cannot be accessed from here, because it was defined in FuncGraph(name=run, id=1263724338960), which is out of scope."
     ]
    }
   ],
   "source": [
    "with tf.GradientTape() as tape:\n",
    "    tape.watch(assets_weights)\n",
    "    portfolios_simulator.run()\n",
    "    probs = portfolios_simulator.get_goals_achevement_probabilities()\n",
    "\n",
    "print(tape.gradient(probs, assets_weights))"
   ]
  },
  {
   "cell_type": "code",
   "execution_count": null,
   "metadata": {},
   "outputs": [
    {
     "data": {
      "text/plain": [
       "580.28"
      ]
     },
     "execution_count": 244,
     "metadata": {},
     "output_type": "execute_result"
    }
   ],
   "source": [
    "prices = np.array([[[30.00, 50.00],       \n",
    "                        [32.7, 51.5],\n",
    "                        [25.18, 56.14],\n",
    "                        [23.67, 56.70],\n",
    "                        [30.53, 57.83],\n",
    "                        [34.2, 59.57]],\n",
    "                        [[30.0,\t50.0],\n",
    "                         [28.2,\t52.00],\n",
    "                         [24.82, 47.84],\n",
    "                         [24.07, 51.67],\n",
    "                         [25.76, 54.25],\n",
    "                         [31.42, 55.88]]])\n",
    "\n",
    "shares = [[10,4],[0,0]]\n",
    "\n",
    "np.sum(shares * prices[:,-1])"
   ]
  },
  {
   "cell_type": "code",
   "execution_count": null,
   "metadata": {},
   "outputs": [
    {
     "data": {
      "text/plain": [
       "array([1.     , 0.98126])"
      ]
     },
     "execution_count": 22,
     "metadata": {},
     "output_type": "execute_result"
    }
   ],
   "source": [
    "def calculate_prob_of_goal_achivement(goals_targets: np.ndarray, goals_outflows: np.ndarray):\n",
    "    number_of_scenarios = goals_outflows.shape[1]\n",
    "    total_goals_outflows = np.sum(goals_outflows, axis=1)\n",
    "    probabilities = total_goals_outflows / np.multiply(goals_targets, number_of_scenarios)\n",
    "    return probabilities\n",
    "\n",
    "goal_outflows0 = np.asarray([[0,0],[0,0]])\n",
    "goal_outflows1 = np.array([[8000, 8000, 8000], [6000, 5775.12, 6000], [6000,6000,6000], [0,0,0]])\n",
    "goal_target = [8000,6000, 12000, 4000]\n",
    "\n",
    "calculate_prob_of_goal_achivement(goal_target, goal_outflows1)\n",
    "\n",
    "calculate_prob_of_goal_achivement([8000,6000], np.array([[8000, 8000], [6000, 5775.12]]))"
   ]
  },
  {
   "cell_type": "code",
   "execution_count": null,
   "metadata": {},
   "outputs": [
    {
     "data": {
      "text/plain": [
       "[8000, 6000]"
      ]
     },
     "execution_count": 28,
     "metadata": {},
     "output_type": "execute_result"
    }
   ],
   "source": [
    "goals = {3: (8000,1), 5: (6000,1)}\n",
    "\n",
    "list(map(lambda x: x[0],  list(goals.values())))"
   ]
  },
  {
   "cell_type": "code",
   "execution_count": 44,
   "metadata": {},
   "outputs": [
    {
     "data": {
      "text/plain": [
       "[11, 13]"
      ]
     },
     "execution_count": 44,
     "metadata": {},
     "output_type": "execute_result"
    }
   ],
   "source": [
    "arr = [11,13,16,20]\n",
    "v = 12\n",
    "def find_nearest_values(array, value):\n",
    "    sub = np.subtract(arr,v)\n",
    "    i = np.argmin(np.abs(sub))\n",
    "    return [arr[i],arr[i+1]] if arr[i] < v else [arr[i-1],arr[i]]\n",
    "\n",
    "find_nearest_values(arr,v)\n"
   ]
  },
  {
   "cell_type": "code",
   "execution_count": 45,
   "metadata": {},
   "outputs": [
    {
     "data": {
      "text/plain": [
       "250.0"
      ]
     },
     "execution_count": 45,
     "metadata": {},
     "output_type": "execute_result"
    }
   ],
   "source": [
    "np.interp(v,arr,[200,300,350,400])"
   ]
  },
  {
   "cell_type": "code",
   "execution_count": 42,
   "metadata": {},
   "outputs": [
    {
     "ename": "ZeroDivisionError",
     "evalue": "division by zero",
     "output_type": "error",
     "traceback": [
      "\u001b[1;31m---------------------------------------------------------------------------\u001b[0m",
      "\u001b[1;31mZeroDivisionError\u001b[0m                         Traceback (most recent call last)",
      "\u001b[1;32mc:\\Users\\matsz\\programowanie\\Optymalizacja portfela\\sb_gbi.ipynb Cell 25\u001b[0m in \u001b[0;36m<cell line: 9>\u001b[1;34m()\u001b[0m\n\u001b[0;32m      <a href='vscode-notebook-cell:/c%3A/Users/matsz/programowanie/Optymalizacja%20portfela/sb_gbi.ipynb#X34sZmlsZQ%3D%3D?line=5'>6</a>\u001b[0m v1 \u001b[39m=\u001b[39m \u001b[39m300\u001b[39m\n\u001b[0;32m      <a href='vscode-notebook-cell:/c%3A/Users/matsz/programowanie/Optymalizacja%20portfela/sb_gbi.ipynb#X34sZmlsZQ%3D%3D?line=6'>7</a>\u001b[0m v2 \u001b[39m=\u001b[39m \u001b[39m350\u001b[39m\n\u001b[1;32m----> <a href='vscode-notebook-cell:/c%3A/Users/matsz/programowanie/Optymalizacja%20portfela/sb_gbi.ipynb#X34sZmlsZQ%3D%3D?line=8'>9</a>\u001b[0m v3 \u001b[39m=\u001b[39m v1 \u001b[39m+\u001b[39m (v2\u001b[39m-\u001b[39mv1)\u001b[39m*\u001b[39m((goal[\u001b[39m0\u001b[39;49m]\u001b[39m-\u001b[39;49mc1)\u001b[39m/\u001b[39;49m(c2\u001b[39m-\u001b[39;49mc1)) \u001b[39m+\u001b[39m goal[\u001b[39m1\u001b[39m]\n\u001b[0;32m     <a href='vscode-notebook-cell:/c%3A/Users/matsz/programowanie/Optymalizacja%20portfela/sb_gbi.ipynb#X34sZmlsZQ%3D%3D?line=10'>11</a>\u001b[0m v3\n",
      "\u001b[1;31mZeroDivisionError\u001b[0m: division by zero"
     ]
    }
   ],
   "source": [
    "#interpolate goal value\n",
    "goal = (1006, 500)\n",
    "c1= 1003\n",
    "c2 = 1003\n",
    "\n",
    "v1 = 300\n",
    "v2 = 350\n",
    "\n",
    "v3 = v1 + (v2-v1)*((goal[0]-c1)/(c2-c1)) + goal[1]\n",
    "\n",
    "v3\n"
   ]
  },
  {
   "attachments": {},
   "cell_type": "markdown",
   "metadata": {},
   "source": [
    "trainable_variables: assets_weights, max_goal_withroval\n",
    "\n",
    "non_trainable_variables: prices, inflows, goals_target, goals_utilities\n",
    "\n",
    "output: utilitiy_function (probs * goal_utilities)\n",
    "\n",
    "secondary_outputs: portfolio irr, portfolio_final_value \n",
    "\n",
    "requiremnts:\n",
    "porfolios_simulator() -> probs\n",
    "\n",
    "\n"
   ]
  }
 ],
 "metadata": {
  "kernelspec": {
   "display_name": "portfolio-optimisation",
   "language": "python",
   "name": "python3"
  },
  "language_info": {
   "codemirror_mode": {
    "name": "ipython",
    "version": 3
   },
   "file_extension": ".py",
   "mimetype": "text/x-python",
   "name": "python",
   "nbconvert_exporter": "python",
   "pygments_lexer": "ipython3",
   "version": "3.9.12"
  },
  "orig_nbformat": 4
 },
 "nbformat": 4,
 "nbformat_minor": 2
}
