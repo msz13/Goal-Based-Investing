{
 "cells": [
  {
   "cell_type": "code",
   "execution_count": 234,
   "metadata": {},
   "outputs": [],
   "source": [
    "from scipy.stats import multivariate_normal\n",
    "import numpy as np\n",
    "\n",
    "%load_ext autoreload\n",
    "%autoreload 2"
   ]
  },
  {
   "cell_type": "code",
   "execution_count": 45,
   "metadata": {},
   "outputs": [
    {
     "data": {
      "text/plain": [
       "array([[[-0.08004581,  0.03487759],\n",
       "        [ 0.18726262,  0.29438996],\n",
       "        [ 0.43617395,  0.05512082],\n",
       "        [-0.14975919, -0.18283747],\n",
       "        [-0.2819594 , -0.39066   ]]])"
      ]
     },
     "execution_count": 45,
     "metadata": {},
     "output_type": "execute_result"
    }
   ],
   "source": [
    "scenario_count = 1\n",
    "t = 5\n",
    "returns = np.zeros((scenario_count,t,2))\n",
    "means = np.array([0.035, 0.085])\n",
    "cov = np.array([[0.05,0.04],\n",
    "                [0.04, 0.11]])\n",
    "\n",
    "for i in range(0,scenario_count):\n",
    "    returns[i] = multivariate_normal.rvs(means,cov=cov, size=t)\n",
    "\n",
    "#prices = returns + np.ones_like(returns)\n",
    "#prices = np.cumprod(prices,axis=0)\n",
    "#prices = prices * np.[10,5]\n",
    "#prices\n",
    "returns"
   ]
  },
  {
   "cell_type": "code",
   "execution_count": 53,
   "metadata": {},
   "outputs": [
    {
     "data": {
      "text/plain": [
       "array([[32.7 ],\n",
       "       [25.18],\n",
       "       [23.67],\n",
       "       [31.48],\n",
       "       [36.2 ]])"
      ]
     },
     "execution_count": 53,
     "metadata": {},
     "output_type": "execute_result"
    }
   ],
   "source": [
    "prices = np.array([\n",
    "32.7,\n",
    "25.18,\n",
    "23.67,\n",
    "31.48,\n",
    "36.20\n",
    "])\n",
    "returns = prices.reshape((5,1))\n",
    "returns"
   ]
  },
  {
   "cell_type": "code",
   "execution_count": 69,
   "metadata": {},
   "outputs": [
    {
     "data": {
      "text/plain": [
       "7.158196134574087"
      ]
     },
     "execution_count": 69,
     "metadata": {},
     "output_type": "execute_result"
    }
   ],
   "source": [
    "400 / 55.88"
   ]
  },
  {
   "cell_type": "code",
   "execution_count": 78,
   "metadata": {},
   "outputs": [
    {
     "data": {
      "text/plain": [
       "array([[86.3736379 , 27.81133275],\n",
       "       [81.06811809, 30.63410807]])"
      ]
     },
     "execution_count": 78,
     "metadata": {},
     "output_type": "execute_result"
    }
   ],
   "source": [
    "prices= np.array([[[32.7, 51.5],\n",
    "                        [25.18, 56.14],\n",
    "                        [23.67, 56.70],\n",
    "                        [30.53, 57.83],\n",
    "                        [34.2, 59.57]],\n",
    "                        [[28.2, 52.00],\n",
    "                        [26.4, 47.84],\n",
    "                        [25.8, 51.67],\n",
    "                        [32.1, 54.25],\n",
    "                        [36.6, 55.88]]])\n",
    "\n",
    "inflows = np.array([0,1000,1000,1000,1000])\n",
    "weights = np.array([0.6,0.4])\n",
    "\n",
    "shares = np.zeros((len(inflows),2,2))\n",
    "\n",
    "for t in range (len(inflows)):\n",
    "    shares[t] = (inflows[t]*weights) / prices[:,t]\n",
    "\n",
    "shares.sum(0)\n",
    "    \n"
   ]
  },
  {
   "cell_type": "code",
   "execution_count": 90,
   "metadata": {},
   "outputs": [
    {
     "data": {
      "text/plain": [
       "3"
      ]
     },
     "execution_count": 90,
     "metadata": {},
     "output_type": "execute_result"
    }
   ],
   "source": [
    "from dataclasses import dataclass\n",
    "\n",
    "\n",
    "@dataclass\n",
    "class Spike:\n",
    "    rank: int = 1\n",
    "\n",
    "Spike(3).rank\n",
    "\n"
   ]
  },
  {
   "cell_type": "code",
   "execution_count": 113,
   "metadata": {},
   "outputs": [
    {
     "name": "stdout",
     "output_type": "stream",
     "text": [
      "[[285 107]\n",
      " [292 109]]\n"
     ]
    },
    {
     "data": {
      "text/plain": [
       "array([[228.,  85.],\n",
       "       [233.,  87.]])"
      ]
     },
     "execution_count": 113,
     "metadata": {},
     "output_type": "execute_result"
    }
   ],
   "source": [
    "@dataclass\n",
    "class Transaction:\n",
    "    delta_shares: np.array\n",
    "    outflows: int = 0\n",
    "\n",
    "assets_weights = np.array([0.6,0.4])\n",
    "prices = np.array([[34.2, 59.57],[31.42, 55.88]])\n",
    "shares_owned = np.array([[285, 107],[292, 109]])\n",
    "inflow = 0\n",
    "goal = (13000,0.8)\n",
    "\n",
    "cashflow = inflow - goal[0]\n",
    "current_value = np.sum(shares_owned * prices, 1) \n",
    "      \n",
    "delta_shares = np.where(np.abs(cashflow) <= current_value, np.fix((cashflow*assets_weights) / prices), -shares_owned)\n",
    "outflows = np.abs(np.sum(delta_shares * prices,axis=1))\n",
    "\n",
    "print(shares_owned)\n",
    "\n",
    "max_outflow_value = current_value * goal[1]\n",
    "np.fix(shares_owned * goal[1])\n",
    "\n"
   ]
  },
  {
   "cell_type": "code",
   "execution_count": 134,
   "metadata": {},
   "outputs": [],
   "source": [
    "goal = (14000,1)\n",
    "assets_weights = np.array([0.6,0.4])\n",
    "prices = np.array([[34.2, 59.57],[31.42, 55.88]])\n",
    "#shares_owned = np.array([[282, 99],[290, 91]])\n",
    "shares_owned = np.array([[0, 0],[0, 0]])\n",
    "inflow = 10000"
   ]
  },
  {
   "cell_type": "code",
   "execution_count": 136,
   "metadata": {},
   "outputs": [
    {
     "name": "stdout",
     "output_type": "stream",
     "text": [
      "[-4000. -4000.]\n",
      "[0.6 0.4]\n"
     ]
    },
    {
     "data": {
      "text/plain": [
       "array([[70.1754386 , 26.85915729],\n",
       "       [76.38446849, 28.63278454]])"
      ]
     },
     "execution_count": 136,
     "metadata": {},
     "output_type": "execute_result"
    }
   ],
   "source": [
    "goal_target = goal[0] \n",
    "goal_max_outflow_percent = goal[1]\n",
    "current_assets_value = shares_owned * prices\n",
    "current_value = np.sum(current_assets_value, 1) \n",
    "expected_value = current_value + inflow - goal_target\n",
    "#max_outflow_value = current_value * goal_max_outflow_percent\n",
    "    \n",
    "delta_value = expected_value.reshape((2,1)) * assets_weights - current_assets_value\n",
    "    \n",
    "#delta_shares = - np.fix(delta_value / prices)\n",
    "delta_shares = - delta_value / prices\n",
    "\n",
    "#outflows = np.round(np.abs(np.sum(delta_shares * prices,axis=1)),2)\n",
    "\n",
    "#print(outflows)    \n",
    "#Transaction(delta_shares, outflows)\n",
    "print(expected_value)\n",
    "print(assets_weights)\n",
    "delta_shares\n",
    "\n"
   ]
  },
  {
   "cell_type": "code",
   "execution_count": 149,
   "metadata": {},
   "outputs": [
    {
     "data": {
      "text/plain": [
       "array([2011. , 2037.6])"
      ]
     },
     "execution_count": 149,
     "metadata": {},
     "output_type": "execute_result"
    }
   ],
   "source": [
    "shares_owned = np.array([[25,15],[24,17]])\n",
    "delta = np.array([[5,5],[4,7]])\n",
    "shares_owned += delta\n",
    "np.sum(shares_owned * prices[:,1],1)"
   ]
  },
  {
   "cell_type": "code",
   "execution_count": 29,
   "metadata": {},
   "outputs": [
    {
     "data": {
      "text/plain": [
       "array([40., 60.])"
      ]
     },
     "execution_count": 29,
     "metadata": {},
     "output_type": "execute_result"
    }
   ],
   "source": [
    "class PorfoliosSumulator:\n",
    "    def __init__(self) -> None:\n",
    "        pass\n",
    "\n",
    "assets_weights = np.array([0.4,0.6])\n",
    "shares = np.zeros((scenario_count,t,assets_weights.shape[0]))\n",
    "initial_wealth =100\n",
    "\n",
    "#shares[0] = \n",
    "\n",
    "initial_wealth *assets_weights\n"
   ]
  },
  {
   "attachments": {},
   "cell_type": "markdown",
   "metadata": {},
   "source": [
    "Portfolio class:\n",
    "- [ ] get withrowals for\n",
    "    - no goal\n",
    "    - single goal\n",
    "    - multiple goals in different times    \n",
    "    - dla emerytury - coroczne dla kilku celow\n",
    "- add infusions\n",
    "- rebalance\n",
    "- include costs\n",
    "\n"
   ]
  },
  {
   "cell_type": "code",
   "execution_count": 150,
   "metadata": {},
   "outputs": [],
   "source": [
    "import tensorflow as tf"
   ]
  },
  {
   "cell_type": "code",
   "execution_count": 168,
   "metadata": {},
   "outputs": [
    {
     "data": {
      "text/plain": [
       "[<tf.Tensor: shape=(3,), dtype=float32, numpy=array([0.035, 0.085, 0.06 ], dtype=float32)>,\n",
       " None]"
      ]
     },
     "execution_count": 168,
     "metadata": {},
     "output_type": "execute_result"
    }
   ],
   "source": [
    "weights = tf.Variable([0.3,0.4,0.3])\n",
    "returns = tf.constant([0.035, 0.085, 0.06])\n",
    "\n",
    "def loss(weights, returns):\n",
    "    return tf.tensordot(weights,returns,axes=1)\n",
    "\n",
    "y = loss(weights, returns)\n",
    "\n",
    "with tf.GradientTape() as type:\n",
    "    y = loss(weights, returns)\n",
    "\n",
    "weights.assign([0.5,0.3,0.2])\n",
    "\n",
    "type.gradient(y, [weights, returns])\n",
    "\n"
   ]
  },
  {
   "cell_type": "code",
   "execution_count": 187,
   "metadata": {},
   "outputs": [
    {
     "ename": "ValueError",
     "evalue": "in user code:\n\n    File \"C:\\Users\\matsz\\AppData\\Local\\Temp\\ipykernel_33444\\49569053.py\", line 6, in mypower  *\n        t = tf.Variable(0.0)\n\n    ValueError: tf.function only supports singleton tf.Variables created on the first call. Make sure the tf.Variable is only created once or created outside tf.function. See https://www.tensorflow.org/guide/function#creating_tfvariables for more information.\n",
     "output_type": "error",
     "traceback": [
      "\u001b[1;31m---------------------------------------------------------------------------\u001b[0m",
      "\u001b[1;31mValueError\u001b[0m                                Traceback (most recent call last)",
      "\u001b[1;32mc:\\Users\\matsz\\programowanie\\Optymalizacja portfela\\sb_gbi.ipynb Cell 16\u001b[0m in \u001b[0;36m<cell line: 11>\u001b[1;34m()\u001b[0m\n\u001b[0;32m     <a href='vscode-notebook-cell:/c%3A/Users/matsz/programowanie/Optymalizacja%20portfela/sb_gbi.ipynb#X24sZmlsZQ%3D%3D?line=11'>12</a>\u001b[0m     tape\u001b[39m.\u001b[39mwatch(x)\n\u001b[0;32m     <a href='vscode-notebook-cell:/c%3A/Users/matsz/programowanie/Optymalizacja%20portfela/sb_gbi.ipynb#X24sZmlsZQ%3D%3D?line=12'>13</a>\u001b[0m     tape\u001b[39m.\u001b[39mwatch(y)\n\u001b[1;32m---> <a href='vscode-notebook-cell:/c%3A/Users/matsz/programowanie/Optymalizacja%20portfela/sb_gbi.ipynb#X24sZmlsZQ%3D%3D?line=13'>14</a>\u001b[0m     z \u001b[39m=\u001b[39m mypower(x,y)\n\u001b[0;32m     <a href='vscode-notebook-cell:/c%3A/Users/matsz/programowanie/Optymalizacja%20portfela/sb_gbi.ipynb#X24sZmlsZQ%3D%3D?line=15'>16</a>\u001b[0m \u001b[39mprint\u001b[39m(tape\u001b[39m.\u001b[39mgradient(z, [x,y]))\n\u001b[0;32m     <a href='vscode-notebook-cell:/c%3A/Users/matsz/programowanie/Optymalizacja%20portfela/sb_gbi.ipynb#X24sZmlsZQ%3D%3D?line=17'>18</a>\u001b[0m mypower(x,y)\n",
      "File \u001b[1;32mc:\\Users\\matsz\\miniconda3\\envs\\portfolio-optimisation\\lib\\site-packages\\tensorflow\\python\\util\\traceback_utils.py:153\u001b[0m, in \u001b[0;36mfilter_traceback.<locals>.error_handler\u001b[1;34m(*args, **kwargs)\u001b[0m\n\u001b[0;32m    151\u001b[0m \u001b[39mexcept\u001b[39;00m \u001b[39mException\u001b[39;00m \u001b[39mas\u001b[39;00m e:\n\u001b[0;32m    152\u001b[0m   filtered_tb \u001b[39m=\u001b[39m _process_traceback_frames(e\u001b[39m.\u001b[39m__traceback__)\n\u001b[1;32m--> 153\u001b[0m   \u001b[39mraise\u001b[39;00m e\u001b[39m.\u001b[39mwith_traceback(filtered_tb) \u001b[39mfrom\u001b[39;00m \u001b[39mNone\u001b[39m\n\u001b[0;32m    154\u001b[0m \u001b[39mfinally\u001b[39;00m:\n\u001b[0;32m    155\u001b[0m   \u001b[39mdel\u001b[39;00m filtered_tb\n",
      "File \u001b[1;32m~\\AppData\\Local\\Temp\\__autograph_generated_filek_iszyfr.py:10\u001b[0m, in \u001b[0;36mouter_factory.<locals>.inner_factory.<locals>.tf__mypower\u001b[1;34m(x, y)\u001b[0m\n\u001b[0;32m      8\u001b[0m do_return \u001b[39m=\u001b[39m \u001b[39mFalse\u001b[39;00m\n\u001b[0;32m      9\u001b[0m retval_ \u001b[39m=\u001b[39m ag__\u001b[39m.\u001b[39mUndefinedReturnValue()\n\u001b[1;32m---> 10\u001b[0m t \u001b[39m=\u001b[39m ag__\u001b[39m.\u001b[39mconverted_call(ag__\u001b[39m.\u001b[39mld(tf)\u001b[39m.\u001b[39mVariable, (\u001b[39m0.0\u001b[39m,), \u001b[39mNone\u001b[39;00m, fscope)\n\u001b[0;32m     12\u001b[0m \u001b[39mdef\u001b[39;00m \u001b[39mget_state\u001b[39m():\n\u001b[0;32m     13\u001b[0m     \u001b[39mreturn\u001b[39;00m ()\n",
      "\u001b[1;31mValueError\u001b[0m: in user code:\n\n    File \"C:\\Users\\matsz\\AppData\\Local\\Temp\\ipykernel_33444\\49569053.py\", line 6, in mypower  *\n        t = tf.Variable(0.0)\n\n    ValueError: tf.function only supports singleton tf.Variables created on the first call. Make sure the tf.Variable is only created once or created outside tf.function. See https://www.tensorflow.org/guide/function#creating_tfvariables for more information.\n"
     ]
    }
   ],
   "source": [
    "x = tf.Variable(8.0)\n",
    "y = tf.Variable(4.0)\n",
    "\n",
    "@tf.function\n",
    "def mypower(x,y):\n",
    "    t = tf.Variable(0.0)\n",
    "    for i in range(4):\n",
    "        t.assign_add(x + y)\n",
    "    return t \n",
    "\n",
    "with tf.GradientTape() as tape:\n",
    "    tape.watch(x)\n",
    "    tape.watch(y)\n",
    "    z = mypower(x,y)\n",
    "\n",
    "print(tape.gradient(z, [x,y]))\n",
    "\n",
    "mypower(x,y)"
   ]
  },
  {
   "cell_type": "code",
   "execution_count": 230,
   "metadata": {},
   "outputs": [
    {
     "data": {
      "text/plain": [
       "(2, 2)"
      ]
     },
     "execution_count": 230,
     "metadata": {},
     "output_type": "execute_result"
    }
   ],
   "source": [
    "arr = np.array([[[30.00, 50.00],       \n",
    "                        [32.7, 51.5],\n",
    "                        [25.18, 56.14],\n",
    "                        [23.67, 56.70],\n",
    "                        [30.53, 57.83],\n",
    "                        [34.2, 59.57]],\n",
    "                        [[30.0,\t50.0],\n",
    "                         [28.2,\t52.00],\n",
    "                         [24.82, 47.84],\n",
    "                         [24.07, 51.67],\n",
    "                         [25.76, 54.25],\n",
    "                         [31.42, 55.88]]])\n",
    "T = len(arr[:,0:3])\n",
    "arr[:,0:3]\n",
    "arr[:,-1].shape"
   ]
  },
  {
   "cell_type": "code",
   "execution_count": 240,
   "metadata": {},
   "outputs": [
    {
     "ename": "IndexError",
     "evalue": "tuple index out of range",
     "output_type": "error",
     "traceback": [
      "\u001b[1;31m---------------------------------------------------------------------------\u001b[0m",
      "\u001b[1;31mIndexError\u001b[0m                                Traceback (most recent call last)",
      "\u001b[1;32mc:\\Users\\matsz\\programowanie\\Optymalizacja portfela\\sb_gbi.ipynb Cell 17\u001b[0m in \u001b[0;36m<cell line: 15>\u001b[1;34m()\u001b[0m\n\u001b[0;32m     <a href='vscode-notebook-cell:/c%3A/Users/matsz/programowanie/Optymalizacja%20portfela/sb_gbi.ipynb#X33sZmlsZQ%3D%3D?line=10'>11</a>\u001b[0m expectet_outflows \u001b[39m=\u001b[39m np\u001b[39m.\u001b[39marray([[\u001b[39m16000.00\u001b[39m, \u001b[39m15398.00\u001b[39m]])\n\u001b[0;32m     <a href='vscode-notebook-cell:/c%3A/Users/matsz/programowanie/Optymalizacja%20portfela/sb_gbi.ipynb#X33sZmlsZQ%3D%3D?line=12'>13</a>\u001b[0m portfolios_simulator \u001b[39m=\u001b[39m PortfoliosSimulator()\n\u001b[1;32m---> <a href='vscode-notebook-cell:/c%3A/Users/matsz/programowanie/Optymalizacja%20portfela/sb_gbi.ipynb#X33sZmlsZQ%3D%3D?line=14'>15</a>\u001b[0m portfolios_simulator\u001b[39m.\u001b[39;49mset_params(\n\u001b[0;32m     <a href='vscode-notebook-cell:/c%3A/Users/matsz/programowanie/Optymalizacja%20portfela/sb_gbi.ipynb#X33sZmlsZQ%3D%3D?line=15'>16</a>\u001b[0m         assets_prices\u001b[39m=\u001b[39;49mprices,        \n\u001b[0;32m     <a href='vscode-notebook-cell:/c%3A/Users/matsz/programowanie/Optymalizacja%20portfela/sb_gbi.ipynb#X33sZmlsZQ%3D%3D?line=16'>17</a>\u001b[0m         assets_weights\u001b[39m=\u001b[39;49mnp\u001b[39m.\u001b[39;49marray([\u001b[39m0.6\u001b[39;49m,\u001b[39m0.4\u001b[39;49m]),       \n\u001b[0;32m     <a href='vscode-notebook-cell:/c%3A/Users/matsz/programowanie/Optymalizacja%20portfela/sb_gbi.ipynb#X33sZmlsZQ%3D%3D?line=17'>18</a>\u001b[0m         inflows \u001b[39m=\u001b[39;49m inflows,\n\u001b[0;32m     <a href='vscode-notebook-cell:/c%3A/Users/matsz/programowanie/Optymalizacja%20portfela/sb_gbi.ipynb#X33sZmlsZQ%3D%3D?line=18'>19</a>\u001b[0m         goals \u001b[39m=\u001b[39;49m goals\n\u001b[0;32m     <a href='vscode-notebook-cell:/c%3A/Users/matsz/programowanie/Optymalizacja%20portfela/sb_gbi.ipynb#X33sZmlsZQ%3D%3D?line=19'>20</a>\u001b[0m         )\n\u001b[0;32m     <a href='vscode-notebook-cell:/c%3A/Users/matsz/programowanie/Optymalizacja%20portfela/sb_gbi.ipynb#X33sZmlsZQ%3D%3D?line=22'>23</a>\u001b[0m portfolios_simulator\u001b[39m.\u001b[39mget_shares()\n",
      "File \u001b[1;32mc:\\Users\\matsz\\programowanie\\Optymalizacja portfela\\sb_gbi\\portfolio_simulator.py:74\u001b[0m, in \u001b[0;36mPortfoliosSimulator.set_params\u001b[1;34m(self, assets_prices, assets_weights, inflows, goals)\u001b[0m\n\u001b[0;32m     72\u001b[0m \u001b[39mself\u001b[39m\u001b[39m.\u001b[39m__goals \u001b[39m=\u001b[39m goals\n\u001b[0;32m     73\u001b[0m \u001b[39mself\u001b[39m\u001b[39m.\u001b[39mT \u001b[39m=\u001b[39m np\u001b[39m.\u001b[39mmax(\u001b[39mlist\u001b[39m(\u001b[39mself\u001b[39m\u001b[39m.\u001b[39m__goals\u001b[39m.\u001b[39mkeys()))\u001b[39m+\u001b[39m\u001b[39m1\u001b[39m\n\u001b[1;32m---> 74\u001b[0m \u001b[39mself\u001b[39m\u001b[39m.\u001b[39m__shares \u001b[39m=\u001b[39m np\u001b[39m.\u001b[39mzeros((\u001b[39mself\u001b[39m\u001b[39m.\u001b[39mT,\u001b[39mself\u001b[39m\u001b[39m.\u001b[39m__prices\u001b[39m.\u001b[39mshape[\u001b[39m0\u001b[39m],\u001b[39mself\u001b[39;49m\u001b[39m.\u001b[39;49m__prices\u001b[39m.\u001b[39;49mshape[\u001b[39m2\u001b[39;49m]))\n",
      "\u001b[1;31mIndexError\u001b[0m: tuple index out of range"
     ]
    }
   ],
   "source": [
    "from sb_gbi.portfolio_simulator import PortfoliosSimulator\n",
    "\n",
    "inflows = np.array([10000,1000,1000,1000,1000,0])\n",
    "  \n",
    "\n",
    "goals = {\n",
    "        5: (16000,1)\n",
    "    }  \n",
    "\n",
    "expected_final_value = np.array([873.39, 0])\n",
    "expectet_outflows = np.array([[16000.00, 15398.00]])\n",
    "\n",
    "portfolios_simulator = PortfoliosSimulator()\n",
    "    \n",
    "portfolios_simulator.set_params(\n",
    "        assets_prices=prices,        \n",
    "        assets_weights=np.array([0.6,0.4]),       \n",
    "        inflows = inflows,\n",
    "        goals = goals\n",
    "        )\n",
    "\n",
    "\n",
    "portfolios_simulator.get_shares()"
   ]
  },
  {
   "cell_type": "code",
   "execution_count": 228,
   "metadata": {},
   "outputs": [
    {
     "data": {
      "text/plain": [
       "array([15866.17, 14284.18])"
      ]
     },
     "execution_count": 228,
     "metadata": {},
     "output_type": "execute_result"
    }
   ],
   "source": [
    "prices = np.array([[34.2, 59.57],[31.42, 55.88]])\n",
    "shares_owned = np.array([[288, 101],[291, 92]])\n",
    "np.sum(prices * shares_owned,1)\n",
    "#9143.22 + 5140.96\n",
    "14284.18\n"
   ]
  }
 ],
 "metadata": {
  "kernelspec": {
   "display_name": "portfolio-optimisation",
   "language": "python",
   "name": "python3"
  },
  "language_info": {
   "codemirror_mode": {
    "name": "ipython",
    "version": 3
   },
   "file_extension": ".py",
   "mimetype": "text/x-python",
   "name": "python",
   "nbconvert_exporter": "python",
   "pygments_lexer": "ipython3",
   "version": "3.9.12"
  },
  "orig_nbformat": 4
 },
 "nbformat": 4,
 "nbformat_minor": 2
}
