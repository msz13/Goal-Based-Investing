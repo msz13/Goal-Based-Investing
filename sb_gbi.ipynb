{
 "cells": [
  {
   "cell_type": "code",
   "execution_count": 103,
   "metadata": {},
   "outputs": [
    {
     "name": "stdout",
     "output_type": "stream",
     "text": [
      "The autoreload extension is already loaded. To reload it, use:\n",
      "  %reload_ext autoreload\n"
     ]
    }
   ],
   "source": [
    "from scipy.stats import multivariate_normal\n",
    "import numpy as np\n",
    "import tensorflow as tf\n",
    "\n",
    "%load_ext autoreload\n",
    "%autoreload 2"
   ]
  },
  {
   "cell_type": "code",
   "execution_count": 45,
   "metadata": {},
   "outputs": [
    {
     "data": {
      "text/plain": [
       "array([[[-0.08004581,  0.03487759],\n",
       "        [ 0.18726262,  0.29438996],\n",
       "        [ 0.43617395,  0.05512082],\n",
       "        [-0.14975919, -0.18283747],\n",
       "        [-0.2819594 , -0.39066   ]]])"
      ]
     },
     "execution_count": 45,
     "metadata": {},
     "output_type": "execute_result"
    }
   ],
   "source": [
    "scenario_count = 1\n",
    "t = 5\n",
    "returns = np.zeros((scenario_count,t,2))\n",
    "means = np.array([0.035, 0.085])\n",
    "cov = np.array([[0.05,0.04],\n",
    "                [0.04, 0.11]])\n",
    "\n",
    "for i in range(0,scenario_count):\n",
    "    returns[i] = multivariate_normal.rvs(means,cov=cov, size=t)\n",
    "\n",
    "#prices = returns + np.ones_like(returns)\n",
    "#prices = np.cumprod(prices,axis=0)\n",
    "#prices = prices * np.[10,5]\n",
    "#prices\n",
    "returns"
   ]
  },
  {
   "cell_type": "code",
   "execution_count": 53,
   "metadata": {},
   "outputs": [
    {
     "data": {
      "text/plain": [
       "array([[32.7 ],\n",
       "       [25.18],\n",
       "       [23.67],\n",
       "       [31.48],\n",
       "       [36.2 ]])"
      ]
     },
     "execution_count": 53,
     "metadata": {},
     "output_type": "execute_result"
    }
   ],
   "source": [
    "prices = np.array([\n",
    "32.7,\n",
    "25.18,\n",
    "23.67,\n",
    "31.48,\n",
    "36.20\n",
    "])\n",
    "returns = prices.reshape((5,1))\n",
    "returns"
   ]
  },
  {
   "cell_type": "code",
   "execution_count": 69,
   "metadata": {},
   "outputs": [
    {
     "data": {
      "text/plain": [
       "7.158196134574087"
      ]
     },
     "execution_count": 69,
     "metadata": {},
     "output_type": "execute_result"
    }
   ],
   "source": [
    "400 / 55.88"
   ]
  },
  {
   "cell_type": "code",
   "execution_count": 78,
   "metadata": {},
   "outputs": [
    {
     "data": {
      "text/plain": [
       "array([[86.3736379 , 27.81133275],\n",
       "       [81.06811809, 30.63410807]])"
      ]
     },
     "execution_count": 78,
     "metadata": {},
     "output_type": "execute_result"
    }
   ],
   "source": [
    "prices= np.array([[[32.7, 51.5],\n",
    "                        [25.18, 56.14],\n",
    "                        [23.67, 56.70],\n",
    "                        [30.53, 57.83],\n",
    "                        [34.2, 59.57]],\n",
    "                        [[28.2, 52.00],\n",
    "                        [26.4, 47.84],\n",
    "                        [25.8, 51.67],\n",
    "                        [32.1, 54.25],\n",
    "                        [36.6, 55.88]]])\n",
    "\n",
    "inflows = np.array([0,1000,1000,1000,1000])\n",
    "weights = np.array([0.6,0.4])\n",
    "\n",
    "shares = np.zeros((len(inflows),2,2))\n",
    "\n",
    "for t in range (len(inflows)):\n",
    "    shares[t] = (inflows[t]*weights) / prices[:,t]\n",
    "\n",
    "shares.sum(0)\n",
    "    \n"
   ]
  },
  {
   "cell_type": "code",
   "execution_count": 90,
   "metadata": {},
   "outputs": [
    {
     "data": {
      "text/plain": [
       "3"
      ]
     },
     "execution_count": 90,
     "metadata": {},
     "output_type": "execute_result"
    }
   ],
   "source": [
    "from dataclasses import dataclass\n",
    "\n",
    "\n",
    "@dataclass\n",
    "class Spike:\n",
    "    rank: int = 1\n",
    "\n",
    "Spike(3).rank\n",
    "\n"
   ]
  },
  {
   "cell_type": "code",
   "execution_count": 113,
   "metadata": {},
   "outputs": [
    {
     "name": "stdout",
     "output_type": "stream",
     "text": [
      "[[285 107]\n",
      " [292 109]]\n"
     ]
    },
    {
     "data": {
      "text/plain": [
       "array([[228.,  85.],\n",
       "       [233.,  87.]])"
      ]
     },
     "execution_count": 113,
     "metadata": {},
     "output_type": "execute_result"
    }
   ],
   "source": [
    "@dataclass\n",
    "class Transaction:\n",
    "    delta_shares: np.array\n",
    "    outflows: int = 0\n",
    "\n",
    "assets_weights = np.array([0.6,0.4])\n",
    "prices = np.array([[34.2, 59.57],[31.42, 55.88]])\n",
    "shares_owned = np.array([[285, 107],[292, 109]])\n",
    "inflow = 0\n",
    "goal = (13000,0.8)\n",
    "\n",
    "cashflow = inflow - goal[0]\n",
    "current_value = np.sum(shares_owned * prices, 1) \n",
    "      \n",
    "delta_shares = np.where(np.abs(cashflow) <= current_value, np.fix((cashflow*assets_weights) / prices), -shares_owned)\n",
    "outflows = np.abs(np.sum(delta_shares * prices,axis=1))\n",
    "\n",
    "print(shares_owned)\n",
    "\n",
    "max_outflow_value = current_value * goal[1]\n",
    "np.fix(shares_owned * goal[1])\n",
    "\n"
   ]
  },
  {
   "cell_type": "code",
   "execution_count": 134,
   "metadata": {},
   "outputs": [],
   "source": [
    "goal = (14000,1)\n",
    "assets_weights = np.array([0.6,0.4])\n",
    "prices = np.array([[34.2, 59.57],[31.42, 55.88]])\n",
    "#shares_owned = np.array([[282, 99],[290, 91]])\n",
    "shares_owned = np.array([[0, 0],[0, 0]])\n",
    "inflow = 10000"
   ]
  },
  {
   "cell_type": "code",
   "execution_count": 136,
   "metadata": {},
   "outputs": [
    {
     "name": "stdout",
     "output_type": "stream",
     "text": [
      "[-4000. -4000.]\n",
      "[0.6 0.4]\n"
     ]
    },
    {
     "data": {
      "text/plain": [
       "array([[70.1754386 , 26.85915729],\n",
       "       [76.38446849, 28.63278454]])"
      ]
     },
     "execution_count": 136,
     "metadata": {},
     "output_type": "execute_result"
    }
   ],
   "source": [
    "goal_target = goal[0] \n",
    "goal_max_outflow_percent = goal[1]\n",
    "current_assets_value = shares_owned * prices\n",
    "current_value = np.sum(current_assets_value, 1) \n",
    "expected_value = current_value + inflow - goal_target\n",
    "#max_outflow_value = current_value * goal_max_outflow_percent\n",
    "    \n",
    "delta_value = expected_value.reshape((2,1)) * assets_weights - current_assets_value\n",
    "    \n",
    "#delta_shares = - np.fix(delta_value / prices)\n",
    "delta_shares = - delta_value / prices\n",
    "\n",
    "#outflows = np.round(np.abs(np.sum(delta_shares * prices,axis=1)),2)\n",
    "\n",
    "#print(outflows)    \n",
    "#Transaction(delta_shares, outflows)\n",
    "print(expected_value)\n",
    "print(assets_weights)\n",
    "delta_shares\n",
    "\n"
   ]
  },
  {
   "cell_type": "code",
   "execution_count": 149,
   "metadata": {},
   "outputs": [
    {
     "data": {
      "text/plain": [
       "array([2011. , 2037.6])"
      ]
     },
     "execution_count": 149,
     "metadata": {},
     "output_type": "execute_result"
    }
   ],
   "source": [
    "shares_owned = np.array([[25,15],[24,17]])\n",
    "delta = np.array([[5,5],[4,7]])\n",
    "shares_owned += delta\n",
    "np.sum(shares_owned * prices[:,1],1)"
   ]
  },
  {
   "cell_type": "code",
   "execution_count": 29,
   "metadata": {},
   "outputs": [
    {
     "data": {
      "text/plain": [
       "array([40., 60.])"
      ]
     },
     "execution_count": 29,
     "metadata": {},
     "output_type": "execute_result"
    }
   ],
   "source": [
    "class PorfoliosSumulator:\n",
    "    def __init__(self) -> None:\n",
    "        pass\n",
    "\n",
    "assets_weights = np.array([0.4,0.6])\n",
    "shares = np.zeros((scenario_count,t,assets_weights.shape[0]))\n",
    "initial_wealth =100\n",
    "\n",
    "#shares[0] = \n",
    "\n",
    "initial_wealth *assets_weights\n"
   ]
  },
  {
   "attachments": {},
   "cell_type": "markdown",
   "metadata": {},
   "source": [
    "Portfolio class:\n",
    "- [ ] get withrowals for\n",
    "    - no goal\n",
    "    - single goal\n",
    "    - multiple goals in different times    \n",
    "    - dla emerytury - coroczne dla kilku celow\n",
    "- add infusions\n",
    "- rebalance\n",
    "- include costs\n",
    "\n"
   ]
  },
  {
   "cell_type": "code",
   "execution_count": 150,
   "metadata": {},
   "outputs": [],
   "source": [
    "import tensorflow as tf"
   ]
  },
  {
   "cell_type": "code",
   "execution_count": 168,
   "metadata": {},
   "outputs": [
    {
     "data": {
      "text/plain": [
       "[<tf.Tensor: shape=(3,), dtype=float32, numpy=array([0.035, 0.085, 0.06 ], dtype=float32)>,\n",
       " None]"
      ]
     },
     "execution_count": 168,
     "metadata": {},
     "output_type": "execute_result"
    }
   ],
   "source": [
    "weights = tf.Variable([0.3,0.4,0.3])\n",
    "returns = tf.constant([0.035, 0.085, 0.06])\n",
    "\n",
    "def loss(weights, returns):\n",
    "    return tf.tensordot(weights,returns,axes=1)\n",
    "\n",
    "y = loss(weights, returns)\n",
    "\n",
    "with tf.GradientTape() as type:\n",
    "    y = loss(weights, returns)\n",
    "\n",
    "weights.assign([0.5,0.3,0.2])\n",
    "\n",
    "type.gradient(y, [weights, returns])\n",
    "\n"
   ]
  },
  {
   "cell_type": "code",
   "execution_count": 69,
   "metadata": {},
   "outputs": [
    {
     "data": {
      "text/plain": [
       "(2, 6, 2)"
      ]
     },
     "execution_count": 69,
     "metadata": {},
     "output_type": "execute_result"
    }
   ],
   "source": [
    "arr = np.array([[[30.00, 50.00],       \n",
    "                        [32.7, 51.5],\n",
    "                        [25.18, 56.14],\n",
    "                        [23.67, 56.70],\n",
    "                        [30.53, 57.83],\n",
    "                        [34.2, 59.57]],\n",
    "                        [[30.0,\t50.0],\n",
    "                         [28.2,\t52.00],\n",
    "                         [24.82, 47.84],\n",
    "                         [24.07, 51.67],\n",
    "                         [25.76, 54.25],\n",
    "                         [31.42, 55.88]]])\n",
    "arr.shape"
   ]
  },
  {
   "cell_type": "code",
   "execution_count": 97,
   "metadata": {},
   "outputs": [
    {
     "data": {
      "text/plain": [
       "(600, 121, 4)"
      ]
     },
     "execution_count": 97,
     "metadata": {},
     "output_type": "execute_result"
    }
   ],
   "source": [
    "means = [0.03, 0.05, 0.06, 0.09]\n",
    "cov = [[0.02, -0.00, -0.00, -0.00],[0.00, 0.04, 0.03, 0.04],[-0.00, 0.03, 0.20, -0.00], [-0.00,0.04, -0.00, 0.13]]      \n",
    "\n",
    "number_of_scenarios = 600\n",
    "T = 121\n",
    "prices = []         \n",
    "\n",
    "for i in range (number_of_scenarios):\n",
    "    returns = multivariate_normal.rvs(means,cov, T) + 1\n",
    "    prices.append(np.cumprod(returns,axis=0)*100)\n",
    "    #prices.append(returns)\n",
    "\n",
    "prices = np.absolute(prices)\n",
    "np.round(prices,2)\n",
    "\n",
    "prices.shape\n",
    "\n",
    "            "
   ]
  },
  {
   "cell_type": "code",
   "execution_count": 108,
   "metadata": {},
   "outputs": [
    {
     "data": {
      "text/plain": [
       "[PhysicalDevice(name='/physical_device:CPU:0', device_type='CPU')]"
      ]
     },
     "execution_count": 108,
     "metadata": {},
     "output_type": "execute_result"
    }
   ],
   "source": [
    "tf.config.list_physical_devices('CPU')"
   ]
  },
  {
   "cell_type": "code",
   "execution_count": 113,
   "metadata": {},
   "outputs": [
    {
     "data": {
      "text/plain": [
       "<tf.Tensor: shape=(1,), dtype=float64, numpy=array([0.99])>"
      ]
     },
     "execution_count": 113,
     "metadata": {},
     "output_type": "execute_result"
    }
   ],
   "source": [
    "from sb_gbi.portfolio_simulator_tf_numpy import PortfoliosSimulator\n",
    "%reload_ext autoreload\n",
    "%autoreload 2\n",
    "\n",
    "inflows = np.full(T, 1000)\n",
    "inflows[0] = 10000\n",
    "\n",
    "#assets_weights = np.full((T,4),[0.25,0.25, 0.25, 0.25])\n",
    "assets_weights = tf.Variable(tf.fill((T,4),0.25))\n",
    "\n",
    "goals = {\n",
    "        120: (240000,1)\n",
    "    }  \n",
    "\n",
    "\n",
    "portfolios_simulator = PortfoliosSimulator()\n",
    "    \n",
    "portfolios_simulator.set_params(\n",
    "        assets_prices=prices,        \n",
    "        assets_weights= assets_weights,       \n",
    "        inflows = inflows,\n",
    "        goals = goals\n",
    "        )\n",
    "\n",
    "for i in range(100):\n",
    "        portfolios_simulator.set_params(\n",
    "        assets_prices=prices,        \n",
    "        assets_weights= assets_weights,       \n",
    "        inflows = inflows,\n",
    "        goals = goals\n",
    "        )\n",
    "        portfolios_simulator.run()\n",
    "\n",
    "portfolios_simulator.get_goals_achevement_probabilities()"
   ]
  },
  {
   "cell_type": "code",
   "execution_count": 115,
   "metadata": {},
   "outputs": [
    {
     "name": "stdout",
     "output_type": "stream",
     "text": [
      "None\n"
     ]
    }
   ],
   "source": [
    "with tf.GradientTape() as tape:\n",
    "    tape.watch(assets_weights)\n",
    "    portfolios_simulator.run()\n",
    "    probs = portfolios_simulator.get_goals_achevement_probabilities()\n",
    "\n",
    "print(tape.gradient(probs, assets_weights))"
   ]
  },
  {
   "cell_type": "code",
   "execution_count": 242,
   "metadata": {},
   "outputs": [
    {
     "data": {
      "text/plain": [
       "array([15866.17, 14284.18])"
      ]
     },
     "execution_count": 242,
     "metadata": {},
     "output_type": "execute_result"
    }
   ],
   "source": [
    "prices = np.array([[34.2, 59.57],[31.42, 55.88]])\n",
    "shares_owned = np.array([[288, 101],[291, 92]])\n",
    "np.sum(prices * shares_owned,1)\n",
    "#9143.22 + 5140.96\n",
    "#14284.18\n"
   ]
  },
  {
   "cell_type": "code",
   "execution_count": 244,
   "metadata": {},
   "outputs": [
    {
     "data": {
      "text/plain": [
       "580.28"
      ]
     },
     "execution_count": 244,
     "metadata": {},
     "output_type": "execute_result"
    }
   ],
   "source": [
    "prices = np.array([[[30.00, 50.00],       \n",
    "                        [32.7, 51.5],\n",
    "                        [25.18, 56.14],\n",
    "                        [23.67, 56.70],\n",
    "                        [30.53, 57.83],\n",
    "                        [34.2, 59.57]],\n",
    "                        [[30.0,\t50.0],\n",
    "                         [28.2,\t52.00],\n",
    "                         [24.82, 47.84],\n",
    "                         [24.07, 51.67],\n",
    "                         [25.76, 54.25],\n",
    "                         [31.42, 55.88]]])\n",
    "\n",
    "shares = [[10,4],[0,0]]\n",
    "\n",
    "np.sum(shares * prices[:,-1])"
   ]
  },
  {
   "cell_type": "code",
   "execution_count": 22,
   "metadata": {},
   "outputs": [
    {
     "data": {
      "text/plain": [
       "array([1.     , 0.98126])"
      ]
     },
     "execution_count": 22,
     "metadata": {},
     "output_type": "execute_result"
    }
   ],
   "source": [
    "def calculate_prob_of_goal_achivement(goals_targets: np.ndarray, goals_outflows: np.ndarray):\n",
    "    number_of_scenarios = goals_outflows.shape[1]\n",
    "    total_goals_outflows = np.sum(goals_outflows, axis=1)\n",
    "    probabilities = total_goals_outflows / np.multiply(goals_targets, number_of_scenarios)\n",
    "    return probabilities\n",
    "\n",
    "goal_outflows0 = np.asarray([[0,0],[0,0]])\n",
    "goal_outflows1 = np.array([[8000, 8000, 8000], [6000, 5775.12, 6000], [6000,6000,6000], [0,0,0]])\n",
    "goal_target = [8000,6000, 12000, 4000]\n",
    "\n",
    "calculate_prob_of_goal_achivement(goal_target, goal_outflows1)\n",
    "\n",
    "calculate_prob_of_goal_achivement([8000,6000], np.array([[8000, 8000], [6000, 5775.12]]))"
   ]
  },
  {
   "cell_type": "code",
   "execution_count": 28,
   "metadata": {},
   "outputs": [
    {
     "data": {
      "text/plain": [
       "[8000, 6000]"
      ]
     },
     "execution_count": 28,
     "metadata": {},
     "output_type": "execute_result"
    }
   ],
   "source": [
    "goals = {3: (8000,1), 5: (6000,1)}\n",
    "\n",
    "list(map(lambda x: x[0],  list(goals.values())))"
   ]
  },
  {
   "cell_type": "code",
   "execution_count": 30,
   "metadata": {},
   "outputs": [
    {
     "data": {
      "text/plain": [
       "2"
      ]
     },
     "execution_count": 30,
     "metadata": {},
     "output_type": "execute_result"
    }
   ],
   "source": [
    "arr = np.array([[1,2],[3,4],[5,6]])\n",
    "len(arr[0])"
   ]
  }
 ],
 "metadata": {
  "kernelspec": {
   "display_name": "portfolio-optimisation",
   "language": "python",
   "name": "python3"
  },
  "language_info": {
   "codemirror_mode": {
    "name": "ipython",
    "version": 3
   },
   "file_extension": ".py",
   "mimetype": "text/x-python",
   "name": "python",
   "nbconvert_exporter": "python",
   "pygments_lexer": "ipython3",
   "version": "3.9.12"
  },
  "orig_nbformat": 4
 },
 "nbformat": 4,
 "nbformat_minor": 2
}
