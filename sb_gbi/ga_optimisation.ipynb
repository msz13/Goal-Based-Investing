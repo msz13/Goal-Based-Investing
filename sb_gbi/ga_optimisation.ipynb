{
 "cells": [
  {
   "cell_type": "code",
   "execution_count": 350,
   "metadata": {},
   "outputs": [],
   "source": [
    "import pygad \n",
    "import pandas as pd\n",
    "import numpy as np\n",
    "from scipy.stats import multivariate_normal, skew\n",
    "from numba import int32, float64   # import the types\n",
    "from portfolio_simulator import PortfoliosSimulator\n"
   ]
  },
  {
   "cell_type": "code",
   "execution_count": 434,
   "metadata": {},
   "outputs": [],
   "source": [
    "def expected_returns(period):\n",
    "    return pd.Series({\n",
    "\t\t'ACWI': 0.07/period,\n",
    "\t\t'^TBSP': 0.035/period,\n",
    "\t\t'XAUPLN': 0.05/period,\n",
    "\t\t'MWIG40': 0.065/period,\n",
    "\t\t'IHYU.L': 0.038/period,\n",
    "\t\t'PLOPLN3M': 0.03/period,\n",
    "\t\t'edo': 0.032/period\n",
    "})\n",
    "\n",
    "\"\"\" cov = np.array([[0.001265,\t0.000042],\n",
    "            \t[0.000042,\t0.000164]]) \"\"\"\n",
    "#acwi edo\n",
    "cov = np.array([[0.030276,\t0.0],\n",
    "            \t[0.0,\t0.00021]])\n",
    "cov_y = cov "
   ]
  },
  {
   "cell_type": "code",
   "execution_count": 435,
   "metadata": {},
   "outputs": [
    {
     "data": {
      "text/plain": [
       "0.00021"
      ]
     },
     "execution_count": 435,
     "metadata": {},
     "output_type": "execute_result"
    }
   ],
   "source": [
    "np.round(0.0145**2,6)"
   ]
  },
  {
   "cell_type": "code",
   "execution_count": 436,
   "metadata": {},
   "outputs": [
    {
     "data": {
      "text/plain": [
       "0.030276"
      ]
     },
     "execution_count": 436,
     "metadata": {},
     "output_type": "execute_result"
    }
   ],
   "source": [
    "np.sqrt(0.003211*12)\n",
    "np.round(0.174**2,6)\n"
   ]
  },
  {
   "cell_type": "code",
   "execution_count": 510,
   "metadata": {},
   "outputs": [
    {
     "data": {
      "text/plain": [
       "(1000, 50, 2)"
      ]
     },
     "execution_count": 510,
     "metadata": {},
     "output_type": "execute_result"
    }
   ],
   "source": [
    "assets = ['ACWI', 'edo']\n",
    "means = expected_returns(1)[assets]\n",
    "number_of_scenarios = 1000\n",
    "T = 50\n",
    "sim_returns = []\n",
    "\n",
    "for s in range (number_of_scenarios):\n",
    "    sim_returns.append(multivariate_normal.rvs(means,cov_y, T))\n",
    "\n",
    "sim_returns = np.array(sim_returns)\n",
    "sim_returns.shape"
   ]
  },
  {
   "cell_type": "code",
   "execution_count": 500,
   "metadata": {},
   "outputs": [
    {
     "data": {
      "text/html": [
       "<div>\n",
       "<style scoped>\n",
       "    .dataframe tbody tr th:only-of-type {\n",
       "        vertical-align: middle;\n",
       "    }\n",
       "\n",
       "    .dataframe tbody tr th {\n",
       "        vertical-align: top;\n",
       "    }\n",
       "\n",
       "    .dataframe thead th {\n",
       "        text-align: right;\n",
       "    }\n",
       "</style>\n",
       "<table border=\"1\" class=\"dataframe\">\n",
       "  <thead>\n",
       "    <tr style=\"text-align: right;\">\n",
       "      <th></th>\n",
       "      <th>mean</th>\n",
       "      <th>mean_ann</th>\n",
       "      <th>std</th>\n",
       "      <th>skewsness</th>\n",
       "    </tr>\n",
       "  </thead>\n",
       "  <tbody>\n",
       "    <tr>\n",
       "      <th>mean</th>\n",
       "      <td>0.039036</td>\n",
       "      <td>0.468432</td>\n",
       "      <td>0.006720</td>\n",
       "      <td>0.0</td>\n",
       "    </tr>\n",
       "    <tr>\n",
       "      <th>0.25</th>\n",
       "      <td>0.042115</td>\n",
       "      <td>0.505376</td>\n",
       "      <td>0.011457</td>\n",
       "      <td>NaN</td>\n",
       "    </tr>\n",
       "    <tr>\n",
       "      <th>0.5</th>\n",
       "      <td>0.051668</td>\n",
       "      <td>0.620012</td>\n",
       "      <td>0.019729</td>\n",
       "      <td>NaN</td>\n",
       "    </tr>\n",
       "    <tr>\n",
       "      <th>0.75</th>\n",
       "      <td>0.060675</td>\n",
       "      <td>0.728105</td>\n",
       "      <td>0.027340</td>\n",
       "      <td>NaN</td>\n",
       "    </tr>\n",
       "  </tbody>\n",
       "</table>\n",
       "</div>"
      ],
      "text/plain": [
       "          mean  mean_ann       std  skewsness\n",
       "mean  0.039036  0.468432  0.006720        0.0\n",
       "0.25  0.042115  0.505376  0.011457        NaN\n",
       "0.5   0.051668  0.620012  0.019729        NaN\n",
       "0.75  0.060675  0.728105  0.027340        NaN"
      ]
     },
     "execution_count": 500,
     "metadata": {},
     "output_type": "execute_result"
    }
   ],
   "source": [
    "means = sim_returns.mean(1)\n",
    "\n",
    "result = pd.DataFrame({},index=['mean','0.25','0.5','0.75'])\n",
    "result.loc['mean','mean'] = means[0].mean()\n",
    "result.loc['mean','mean_ann'] = means[0].mean() *12\n",
    "result.loc['mean','std'] = means[0].std()\n",
    "result.loc['mean','skewsness'] = skew(means[0])\n",
    "\n",
    "sorted = np.sort(means,0)\n",
    "result.loc['0.25','mean'] = sorted[len(means)//4*1].mean()\n",
    "result.loc['0.25','mean_ann'] = sorted[len(means)//4*1].mean() *12\n",
    "result.loc['0.25','std'] = sorted[len(means)//4*1].std() \n",
    "result.loc['0.5','mean'] = sorted[len(means)//4*2].mean()\n",
    "result.loc['0.5','mean_ann'] = sorted[len(means)//4*2].mean() *12\n",
    "result.loc['0.5','std'] = sorted[len(means)//4*2].std() \n",
    "result.loc['0.75','mean'] = sorted[len(means)//4*3].mean()\n",
    "result.loc['0.75','mean_ann'] = sorted[len(means)//4*3].mean() *12\n",
    "result.loc['0.75','std'] = sorted[len(means)//4*3].std() \n",
    "result\n"
   ]
  },
  {
   "cell_type": "code",
   "execution_count": 501,
   "metadata": {},
   "outputs": [],
   "source": [
    "spec = [\n",
    "    ('capital', float64),\n",
    "    ('returns', float64[:,:,:]),\n",
    "    ('strategy', float64[:,:]),\n",
    "    ('inflows', int32[:])\n",
    "]\n",
    "#@jitclass(spec)\n",
    "class Simulation():\n",
    "    def __init__(self, initial_value, inflows, returns, strategy) -> None:\n",
    "        self.capital = initial_value\n",
    "        self.returns = returns\n",
    "        self.strategy = strategy \n",
    "        self.inflows = inflows\n",
    "        \n",
    "    def step(self, current_value,inflow,weights,returns):\n",
    "        current_assets_value = np.expand_dims(current_value+inflow,axis=0).T * weights\n",
    "        next_assets_value =  np.round(current_assets_value * (1+returns),2)\n",
    "        return next_assets_value.sum(1)\n",
    "         \n",
    "    def run(self, T):\n",
    "        for t in range(T):\n",
    "            self.capital = self.step(self.capital,self.inflows[t],self.strategy[t],self.returns[:,t])\n"
   ]
  },
  {
   "cell_type": "code",
   "execution_count": 502,
   "metadata": {},
   "outputs": [],
   "source": [
    "portfolios = [[0.0,1.0],\n",
    "             [0.1,0.9],\n",
    "             [0.2,0.8],\n",
    "             [0.3,0.7],\n",
    "             [0.4,0.6],\n",
    "             [0.5,0.5],\n",
    "             [0.6,0.4],\n",
    "             [0.7,0.3],\n",
    "             [0.8,0.2],\n",
    "             [0.9,0.1],\n",
    "             [1.0,0.0]]"
   ]
  },
  {
   "cell_type": "code",
   "execution_count": 511,
   "metadata": {},
   "outputs": [
    {
     "data": {
      "text/plain": [
       "array([10, 10,  9, 10, 10,  9, 10, 10, 10, 10,  9, 10,  8, 10,  9,  9,  9,\n",
       "        9,  8,  8,  8,  8,  8,  8,  8,  9,  9,  9,  8,  8,  6,  6,  7,  7,\n",
       "        7,  8,  4,  6,  6,  4,  4,  5,  4,  4,  2,  2,  2,  1,  1,  0])"
      ]
     },
     "execution_count": 511,
     "metadata": {},
     "output_type": "execute_result"
    }
   ],
   "source": [
    "T = 50\n",
    "capital = 50000\n",
    "inflows = np.cumproduct(np.full(T,1.02))*26000\n",
    "\n",
    "l = np.arange(T,0,-1)\n",
    "risk = 30\n",
    "\n",
    "glide_paths = np.full(T+1,len(portfolios))\n",
    "perc = np.zeros((l.shape[0],len(portfolios)))\n",
    "\n",
    "for t in l:\n",
    "    \n",
    "    for portfolio in range(len(portfolios)):\n",
    "        solution = np.full(T,portfolio)\n",
    "        strategy = np.take(portfolios,solution, axis=0)\n",
    "        simulator = Simulation(capital,inflows, sim_returns,strategy)\n",
    "        simulator.run(t)\n",
    "        #perc.append(np.percentile(simulator.capital,risk))\n",
    "        perc[t-1,portfolio] = np.round(np.percentile(simulator.capital,risk))\n",
    "    glide_paths[t-1] = np.argmax(perc[t-1])\n",
    "\n",
    "#glide = list(glide_paths.values())\n",
    "np.flip(glide_paths)[1:]\n",
    "\n",
    "    #TODO for portfolio in range(len(portfolios)) na range(glide_paths[t-1])"
   ]
  },
  {
   "cell_type": "markdown",
   "metadata": {},
   "source": [
    "array([ 9, 10, 10, 10, 10, 10, 10, 10, 10,  9,  9,  9, 10,  9, 10, 10,  9,\n",
    "        9, 10,  8, 10,  9,  9,  9,  9,  9,  9,  8, 10, 10,  9,  8,  7,  6,\n",
    "        7,  7,  6,  4,  5,  2,  4,  3,  2,  3,  2,  1,  1,  1,  1,  0])"
   ]
  },
  {
   "cell_type": "markdown",
   "metadata": {},
   "source": [
    "10  \n",
    "[2, 2, 2, 2, 2, 2, 2, 2, 2, 2, 2, 1, 1, 1, 1, 1, 1, 1, 1, 1, 1, 1,\n",
    " 1, 1, 1, 1, 1, 1, 1, 1, 1, 1, 1, 1, 1, 1, 1, 1, 1, 1, 1, 1, 1, 1,\n",
    " 0, 0, 0, 0, 0, 0]\n",
    "\n",
    "20  \n",
    "  [7, 7, 6, 6, 6, 6, 6, 6, 6, 6, 5, 5, 5, 5, 5, 5, 5, 5, 5, 4, 4, 4,\n",
    "   4, 4, 4, 3, 3, 3, 3, 3, 2, 2, 2, 2, 2, 2, 1, 1, 1, 1, 1, 1, 1, 1,\n",
    "   1, 1, 1, 0, 0, 0]\n",
    "\n",
    "30\n",
    " [ 9,  9, 9,  9,  9,  9,  9,  9,  9, 9,  9, 9, 9,  9, 9, 9, 9,\n",
    "   9, 9,  9,  9,  9,  9,  9,  9,  9,  9,  9,  9,  9,  8,  8,  8,  8,\n",
    "   7,  6,  5,  5,  5,  3,  3,  3,  3,  2,  2,  2,  1,  1,  1,  1]\n",
    " \n",
    "\n",
    "40\n",
    "  [10, 10, 10, 10, 10, 10, 10, 10, 10, 10, 10, 10, 10, 10, 10, 10, 10,\n",
    "   10, 10, 10, 10, 10, 10, 10, 10, 10, 10, 10, 10, 10, 10, 10, 10, 10,\n",
    "   10, 10, 10, 10,  10, 10, 10, 10, 10, 10,  7,  7,  7,  7,  5,  3]\n",
    "\n",
    "50\n",
    "[10, 10, 10, 10, 10, 10, 10, 10, 10, 10, 10, 10, 10, 10, 10, 10, 10,\n",
    " 10, 10, 10, 10, 10, 10, 10, 10, 10, 10, 10, 10, 10, 10, 10, 10, 10,\n",
    " 10, 10, 10, 10, 10, 10, 10, 10, 10, 10, 10, 10, 10, 10, 10, 10])"
   ]
  },
  {
   "cell_type": "code",
   "execution_count": 100,
   "metadata": {},
   "outputs": [
    {
     "data": {
      "text/plain": [
       "368.34"
      ]
     },
     "execution_count": 100,
     "metadata": {},
     "output_type": "execute_result"
    }
   ],
   "source": [
    "fitness(None,glide,None)"
   ]
  },
  {
   "cell_type": "code",
   "execution_count": 101,
   "metadata": {},
   "outputs": [],
   "source": [
    "T=15\n",
    "risk = 0.25\n",
    "perc = []\n",
    "for portfolio in range(len(portfolios)):\n",
    "        solution = np.full(T,portfolio)\n",
    "        strategy = np.take(portfolios,solution, axis=0)\n",
    "        simulator = Simulation(capital,inflows, sim_returns,strategy)\n",
    "        simulator.run(t)\n",
    "        perc.append(np.percentile(simulator.capital,risk))"
   ]
  },
  {
   "cell_type": "code",
   "execution_count": 102,
   "metadata": {},
   "outputs": [],
   "source": [
    "simulator = Simulation(100,np.full(T,0), sim_returns,glide)\n",
    "simulator.run(T)\n",
    "#np.percentile(simulator.capital,risk)\n",
    "end_capital = simulator.capital"
   ]
  },
  {
   "cell_type": "code",
   "execution_count": 103,
   "metadata": {},
   "outputs": [],
   "source": [
    "r = 0.4\n",
    "T = 15\n",
    "def fitness(ga_instance, solution, solution_idx):\n",
    "    weights = np.take(portfolios, solution,axis=0)\n",
    "    portfolio_sim = Simulation(100,np.full(T,0),sim_returns, weights)\n",
    "    portfolio_sim.run(T)\n",
    "    return np.quantile(portfolio_sim.capital,r)\n",
    "    "
   ]
  },
  {
   "cell_type": "code",
   "execution_count": 104,
   "metadata": {},
   "outputs": [
    {
     "data": {
      "text/plain": [
       "170.29"
      ]
     },
     "execution_count": 104,
     "metadata": {},
     "output_type": "execute_result"
    }
   ],
   "source": [
    "fitness(None,glide,None)"
   ]
  },
  {
   "cell_type": "code",
   "execution_count": 450,
   "metadata": {},
   "outputs": [],
   "source": [
    "def initial_population(T,number_porfolios,solutions):\n",
    "    population = np.zeros((solutions,T))\n",
    "    population[11:,0] = np.random.randint(0,number_porfolios+1, solutions-11)\n",
    "    for t in range(1,T):\n",
    "        population[11:,t] = np.random.randint(0,population[11:,t-1]+1, solutions-11)\n",
    "    for p in range(0,11):\n",
    "        population[p,:] = p\n",
    "    return population"
   ]
  },
  {
   "cell_type": "code",
   "execution_count": 451,
   "metadata": {},
   "outputs": [],
   "source": [
    "def init2(portfolios,T, population_size):\n",
    "    population = np.zeros((population_size, T))\n",
    "    random_size = population_size-len(portfolios) \n",
    "    population[0:random_size] = np.random.choice(gen_space,(random_size,T))\n",
    "    for p in range(len(portfolios)):\n",
    "        population[random_size+p,:] = p\n",
    "    return np.flip(np.sort(population,1),1)"
   ]
  },
  {
   "cell_type": "code",
   "execution_count": 452,
   "metadata": {},
   "outputs": [],
   "source": [
    "def init3(portfolios,T, population_size):\n",
    "    population = np.zeros((len(portfolios), T))\n",
    "    for p in range(len(portfolios)):\n",
    "        population[p,:] = p  \n",
    "    ranges = [(3,11),(5,11),(7,21),(9,21),(11,21)]\n",
    "    for r in ranges:\n",
    "        rp = np.random.randint(0,r[0],(r[1],T))\n",
    "        population = np.append(population, rp, axis=0)\n",
    "    return np.flip(np.sort(population,1),1)\n"
   ]
  },
  {
   "cell_type": "code",
   "execution_count": 453,
   "metadata": {},
   "outputs": [],
   "source": [
    "def isDescending(arr):\n",
    "    diff = np.diff(arr)\n",
    "    return np.all(diff <= 0)\n",
    "\n",
    "def m_crossover_func(parents, offspring_size, ga_instance):\n",
    "    offspring = []\n",
    "    idx = 0\n",
    "    while len(offspring) != offspring_size[0]:\n",
    "        parent1 = parents[idx % parents.shape[0], :].copy()\n",
    "        parent2 = parents[(idx + 1) % parents.shape[0], :].copy()\n",
    "        random_split_point = np.random.choice(range(1,offspring_size[1]))\n",
    "\n",
    "        result = parent1.copy()\n",
    "        result[random_split_point:] = parent2[random_split_point:]\n",
    "        if isDescending(result) != True:\n",
    "            result = parent2.copy()\n",
    "            result[random_split_point:] = parent1[random_split_point:]\n",
    "           \n",
    "        offspring.append(result)      \n",
    "\n",
    "        idx += 1\n",
    "\n",
    "    return np.array(offspring)"
   ]
  },
  {
   "cell_type": "code",
   "execution_count": 454,
   "metadata": {},
   "outputs": [],
   "source": [
    "def m_crossover_func2(parents, offspring_size, ga_instance):\n",
    "    offspring = []\n",
    "   \n",
    "    while len(offspring) != offspring_size[0]:\n",
    "        \n",
    "        idx = np.random.choice(ga_instance.num_parents_mating,2)\n",
    "       \n",
    "        if (np.random.uniform() <= ga_instance.crossover_probability):\n",
    "            parent1 = parents[idx[0], :].copy()\n",
    "            parent2 = parents[idx[1], :].copy()\n",
    "            random_split_point = np.random.choice(range(1,offspring_size[1]))\n",
    "\n",
    "\n",
    "            result = parent1.copy()\n",
    "            result[random_split_point:] = parent2[random_split_point:]\n",
    "            if isDescending(result) != True:\n",
    "                result = parent2.copy()\n",
    "                result[random_split_point:] = parent1[random_split_point:]\n",
    "           \n",
    "            offspring.append(result)\n",
    "        else:\n",
    "            offspring.append(parents[idx[0], :].copy())      \n",
    "              \n",
    "    return np.array(offspring)"
   ]
  },
  {
   "cell_type": "code",
   "execution_count": 455,
   "metadata": {},
   "outputs": [],
   "source": [
    "def applyMutation(offset, mutation_idx, mutation_value):\n",
    "    result = offset\n",
    "    newValue = offset[mutation_idx] + mutation_value\n",
    "    result[mutation_idx] = newValue\n",
    "    if(mutation_value> 0):\n",
    "        diff = offset[0:mutation_idx] - newValue\n",
    "        result[0:mutation_idx] = np.where(diff < 0, offset[0:mutation_idx] - diff , offset[0:mutation_idx])\n",
    "    else:\n",
    "        diff = offset[mutation_idx+1:] - newValue\n",
    "        result[mutation_idx+1:] = np.where(diff > 0, offset[mutation_idx+1:] - diff , offset[mutation_idx+1:])\n",
    "    return result\n",
    "\n",
    "def mutation_func(offspring, ga_instance):\n",
    "    \n",
    "    for chromosome_idx in range(offspring.shape[0]):\n",
    "        if (np.random.random() <= ga_instance.mutation_probability):  \n",
    "            random_gene_idx = np.random.choice(range(offspring.shape[1]))\n",
    "            mutated_value = np.random.randint(ga_instance.random_mutation_min_val,ga_instance.random_mutation_max_val)\n",
    "            result = applyMutation(offspring[chromosome_idx],random_gene_idx,mutated_value)\n",
    "            result = np.where(result > np.max(ga_instance.gene_space), np.max(ga_instance.gene_space), result)\n",
    "            result = np.where(result < np.min(ga_instance.gene_space), np.min(ga_instance.gene_space), result)\n",
    "            offspring[chromosome_idx] = result\n",
    "            \n",
    "    return offspring\n",
    "\n",
    "#TODO zabezpieczyc mutation <= max porfolio"
   ]
  },
  {
   "cell_type": "code",
   "execution_count": 491,
   "metadata": {},
   "outputs": [],
   "source": [
    "r = 0.3\n",
    "T = 5\n",
    "inflows = np.cumproduct(np.full(T,1.02))*26000\n",
    "initial_capital = 50000 \n",
    "def fitness(ga_instance, solution, solution_idx):\n",
    "    weights = np.take(portfolios, solution,axis=0)\n",
    "    portfolio_sim = Simulation(initial_capital,inflows,sim_returns, weights)\n",
    "    portfolio_sim.run(T)\n",
    "    return np.quantile(portfolio_sim.capital,r) #// 1"
   ]
  },
  {
   "cell_type": "code",
   "execution_count": 492,
   "metadata": {},
   "outputs": [],
   "source": [
    "sol_per_pop = 100\n",
    "num_genes = T\n",
    "num_parents_mating = 10\n",
    "keep_parents = 1\n",
    "gene_type= int\n",
    "gen_space = [0,1,2,3,4,5,6,7,8,9,10]\n",
    "parent_selection_type = 'tournament'\n",
    "crossover_type = \"single_point\"\n",
    "num_generations= 200\n",
    "fitness_function = fitness\n",
    "mutation_type = mutation_func #\"random\"\n",
    "#mutation_percent_genes = 10\n",
    "random_mutation_min_val=-2.0\n",
    "random_mutation_max_val=2.0\n",
    "mutation_probability=0.4\n",
    "crossover_probability=0.6\n",
    "crossover_func=m_crossover_func2\n",
    "stop_criteria = \"saturate_200\"\n",
    "initial_pop = init3(portfolios,T,100) #initial_population(T,10,100)\n",
    "\n",
    "ga_instance = pygad.GA(num_generations=num_generations,\n",
    "                       num_parents_mating=num_parents_mating,\n",
    "                       fitness_func=fitness_function,\n",
    "                       initial_population = initial_pop,\n",
    "                       num_genes=num_genes,\n",
    "                       gene_type=gene_type,\n",
    "                       gene_space=gen_space,\n",
    "                       parent_selection_type=parent_selection_type,\n",
    "                       keep_parents=keep_parents,\n",
    "                       mutation_type=mutation_type,\n",
    "                       random_mutation_min_val=random_mutation_min_val,\n",
    "                       random_mutation_max_val=random_mutation_max_val,\n",
    "                       mutation_probability=mutation_probability,\n",
    "                       crossover_probability=crossover_probability,\n",
    "                       crossover_type= crossover_func,\n",
    "                       stop_criteria = stop_criteria,\n",
    "                       save_solutions=True\n",
    "                       )"
   ]
  },
  {
   "cell_type": "code",
   "execution_count": 493,
   "metadata": {},
   "outputs": [],
   "source": [
    "ga_instance.run()\n",
    "\n",
    "solution, solution_fitness, solution_idx = ga_instance.best_solution()"
   ]
  },
  {
   "cell_type": "code",
   "execution_count": 494,
   "metadata": {},
   "outputs": [
    {
     "name": "stdout",
     "output_type": "stream",
     "text": [
      "[3 3 2 1 1]\n",
      "209227.44999999998\n"
     ]
    }
   ],
   "source": [
    "print(solution)\n",
    "print(solution_fitness)"
   ]
  },
  {
   "cell_type": "code",
   "execution_count": 238,
   "metadata": {},
   "outputs": [
    {
     "data": {
      "text/plain": [
       "50"
      ]
     },
     "execution_count": 238,
     "metadata": {},
     "output_type": "execute_result"
    }
   ],
   "source": [
    "np.sum([8, 8, 6, 6, 4, 4, 4, 4, 3, 3])"
   ]
  },
  {
   "cell_type": "markdown",
   "metadata": {},
   "source": [
    "c =100 i=10  \n",
    "[6 5 4 4 4 4 4 4 4 4]  \n",
    "\n",
    "c=0 i=10  \n",
    "[10 10  5  5  5  5  5  5  5  5]\n",
    "\n",
    "g=0  \n",
    "[7 4 4 4 4 4 3 3 3 3]\n",
    "\n",
    "g=0.02  \n",
    "[10 10  6  5  5  5  5  4  4  4]\n",
    "\n",
    "g=0.06\n",
    "[8 6 6 4 4 4 4 4 4 3]"
   ]
  },
  {
   "cell_type": "code",
   "execution_count": 476,
   "metadata": {},
   "outputs": [
    {
     "data": {
      "text/plain": [
       "2.66"
      ]
     },
     "execution_count": 476,
     "metadata": {},
     "output_type": "execute_result"
    }
   ],
   "source": [
    "r = 0.30\n",
    "T = 25\n",
    "inflows = np.cumproduct(np.full(T,1.02))*0\n",
    "initial_capital = 1 #67746\n",
    "CV =0\n",
    "def fitness(ga_instance, solution, solution_idx):\n",
    "    weights = np.take(portfolios, solution,axis=0)\n",
    "    portfolio_sim = Simulation(initial_capital,inflows,sim_returns, weights)\n",
    "    portfolio_sim.run(T)\n",
    "    global CV \n",
    "    CV = np.sort(portfolio_sim.capital)\n",
    "    return np.quantile(portfolio_sim.capital,r) \n",
    "\n",
    "fitness(None,[ 9,  9, 9,  9,  9,  9,  9,  9,  9, 9,  9, 9, 9,  9, 9, 9, 9,\n",
    "   9, 9,  9,  9,  9,  9,  9,  9,  9,  9,  9,  9,  9,  8,  8,  8,  8,\n",
    "   7,  6,  5,  5,  5,  3,  3,  3,  3,  2,  2,  2,  1,  1,  1,  1],None)\n"
   ]
  },
  {
   "cell_type": "markdown",
   "metadata": {},
   "source": [
    "2.69\n",
    "2.66"
   ]
  },
  {
   "cell_type": "code",
   "execution_count": 481,
   "metadata": {},
   "outputs": [
    {
     "data": {
      "text/plain": [
       "418045.1127819549"
      ]
     },
     "execution_count": 481,
     "metadata": {},
     "output_type": "execute_result"
    }
   ],
   "source": [
    "goal = 1112000\n",
    "required_capital = goal/2.66\n",
    "required_capital"
   ]
  },
  {
   "cell_type": "code",
   "execution_count": null,
   "metadata": {},
   "outputs": [
    {
     "name": "stdout",
     "output_type": "stream",
     "text": [
      "67415.73033707865\n",
      "67570.0500871803\n"
     ]
    },
    {
     "data": {
      "text/plain": [
       "1.0"
      ]
     },
     "execution_count": 1445,
     "metadata": {},
     "output_type": "execute_result"
    }
   ],
   "source": [
    "A = 120000\n",
    "V = A/1.78\n",
    "print(V)\n",
    "inflows = np.cumproduct(np.full(T,1.02))*4300\n",
    "dr = 0.035\n",
    "d = np.cumproduct(np.full(T,1+dr))\n",
    "Ic = np.sum(inflows/d)\n",
    "print(Ic)\n",
    "np.round(V/Ic,2)\n"
   ]
  },
  {
   "cell_type": "code",
   "execution_count": null,
   "metadata": {},
   "outputs": [
    {
     "data": {
      "text/plain": [
       "1.0325526897590842"
      ]
     },
     "execution_count": 1420,
     "metadata": {},
     "output_type": "execute_result"
    }
   ],
   "source": [
    "1.78**(1/18)"
   ]
  },
  {
   "cell_type": "code",
   "execution_count": null,
   "metadata": {},
   "outputs": [
    {
     "data": {
      "text/plain": [
       "166.66666666666666"
      ]
     },
     "execution_count": 1388,
     "metadata": {},
     "output_type": "execute_result"
    }
   ],
   "source": [
    "2000/12\n",
    "#/14400"
   ]
  },
  {
   "cell_type": "code",
   "execution_count": 262,
   "metadata": {},
   "outputs": [
    {
     "data": {
      "image/png": "[encoded data removed]",
      "text/plain": [
       "<Figure size 432x288 with 1 Axes>"
      ]
     },
     "metadata": {
      "needs_background": "light"
     },
     "output_type": "display_data"
    },
    {
     "data": {
      "image/png": "[encoded data removed]",
      "text/plain": [
       "<Figure size 432x288 with 1 Axes>"
      ]
     },
     "execution_count": 262,
     "metadata": {},
     "output_type": "execute_result"
    }
   ],
   "source": [
    "ga_instance.plot_fitness()"
   ]
  },
  {
   "cell_type": "markdown",
   "metadata": {},
   "source": [
    "[ 0  0  0  7  3  0  8  6  0  5  4  2  8  4  1 10  6  8  9  3  9 10  8  9\n",
    "  9  3  4  7  1  5  3  3  7  5  1 10 10  9  8  4  4  4  5  9  7  6  5  5\n",
    "  6  8  5  1  3  9  2  4  5  2  0  7]\n",
    "129.62"
   ]
  },
  {
   "cell_type": "code",
   "execution_count": 257,
   "metadata": {},
   "outputs": [
    {
     "data": {
      "image/png": "[encoded data removed]",
      "text/plain": [
       "<Figure size 432x288 with 1 Axes>"
      ]
     },
     "metadata": {
      "needs_background": "light"
     },
     "output_type": "display_data"
    },
    {
     "data": {
      "image/png": "[encoded data removed]",
      "text/plain": [
       "<Figure size 432x288 with 1 Axes>"
      ]
     },
     "execution_count": 257,
     "metadata": {},
     "output_type": "execute_result"
    }
   ],
   "source": [
    "ga_instance.plot_new_solution_rate()"
   ]
  },
  {
   "cell_type": "code",
   "execution_count": null,
   "metadata": {},
   "outputs": [
    {
     "data": {
      "text/plain": [
       "1713.76"
      ]
     },
     "execution_count": 1623,
     "metadata": {},
     "output_type": "execute_result"
    }
   ],
   "source": [
    "#[6, 3, 3, 3, 2]\n",
    "fitness(None,[5, 5, 5, 5, 5, 5, 5, 5, 5, 5, 5, 5, 3, 3, 3, 3, 3, 3],0)\n"
   ]
  },
  {
   "cell_type": "code",
   "execution_count": null,
   "metadata": {},
   "outputs": [
    {
     "data": {
      "text/plain": [
       "array([[4, 3, 3, 2, 1]])"
      ]
     },
     "execution_count": 235,
     "metadata": {},
     "output_type": "execute_result"
    }
   ],
   "source": [
    "from unittest.mock import patch\n",
    "\n",
    "def mock_rand(range):\n",
    "        return 0\n",
    "\n",
    "\n",
    "parents = np.array([[4,3,3,2,2],\n",
    "                     [7,6,5,2,1]])\n",
    "\n",
    "result = None\n",
    "\n",
    "\"\"\" with patch('numpy.random.choice',mock_rand):\n",
    "    result = crossover_func(parents, (1,5), None) \"\"\"\n",
    "\n",
    "crossover_func(parents, (1,5), None)\n",
    "#result"
   ]
  },
  {
   "cell_type": "code",
   "execution_count": null,
   "metadata": {},
   "outputs": [
    {
     "data": {
      "text/plain": [
       "[]"
      ]
     },
     "execution_count": 236,
     "metadata": {},
     "output_type": "execute_result"
    }
   ],
   "source": [
    "arr = [4,3,3,3,3]\n",
    "arr[:0]"
   ]
  },
  {
   "cell_type": "code",
   "execution_count": null,
   "metadata": {},
   "outputs": [
    {
     "data": {
      "text/plain": [
       "array([[10, 10,  8,  8,  6,  6]])"
      ]
     },
     "execution_count": 412,
     "metadata": {},
     "output_type": "execute_result"
    }
   ],
   "source": [
    "offspring = np.array([[10,10,8,8,6,6]])\n",
    "mutation_func(offspring, ga_instance)"
   ]
  },
  {
   "cell_type": "code",
   "execution_count": null,
   "metadata": {},
   "outputs": [
    {
     "data": {
      "text/plain": [
       "[17, 9]"
      ]
     },
     "execution_count": 1267,
     "metadata": {},
     "output_type": "execute_result"
    }
   ],
   "source": [
    "import random\n",
    "probs = np.random.random(size=20)\n",
    "indices = np.where(probs <= 0.6)[0]\n",
    "random.sample(list(set(indices)), 2)"
   ]
  },
  {
   "cell_type": "code",
   "execution_count": null,
   "metadata": {},
   "outputs": [
    {
     "data": {
      "text/plain": [
       "4320.0"
      ]
     },
     "execution_count": 1371,
     "metadata": {},
     "output_type": "execute_result"
    }
   ],
   "source": [
    "4320.0"
   ]
  },
  {
   "cell_type": "code",
   "execution_count": null,
   "metadata": {},
   "outputs": [
    {
     "data": {
      "text/plain": [
       "array([[ 3,  3,  2,  2,  1,  1],\n",
       "       [12, 12, 11, 11, 10,  4],\n",
       "       [ 8,  8,  6,  6,  4,  4],\n",
       "       [12, 12, 11, 11, 10,  1]])"
      ]
     },
     "execution_count": 1479,
     "metadata": {},
     "output_type": "execute_result"
    }
   ],
   "source": [
    "parents = np.array([[9,9,7,7,5,5],\n",
    "                    [8,8,6,6,4,4],\n",
    "                    [3,3,2,2,1,1],\n",
    "                    [12,12,11,11,10,10]])\n",
    "class GA:\n",
    "    crossover_probability = 0.6\n",
    "    \n",
    "m_crossover_func2(parents,(4,6),GA())"
   ]
  },
  {
   "cell_type": "code",
   "execution_count": 134,
   "metadata": {},
   "outputs": [
    {
     "name": "stdout",
     "output_type": "stream",
     "text": [
      "[ 1  1  1  1  1  1  1  1  1  1  1  1  1  1  1  1  1  1  3  4  6  9 14 19\n",
      " 26 38 51 64 74 84]\n",
      "[ 1  1  1  1  1  1  3  4  5  5  5  9 10 11 12 13 15 18 20 23 26 32 32 37\n",
      " 38 35 28 21 13  3]\n",
      "[12 12 12 12 12 12 10  9  9  9 10 10 15 16 16 20 22 20 20 24 27 30 28 22\n",
      " 18 15  9  3  1  1]\n",
      "[ 1  1  1  3  4  7  8 10 14 15 16 16 12 14 17 17 17 24 28 30 25 16 13 11\n",
      "  7  1  1  1  1  1]\n",
      "[12 12 12 11 10 11 14 13 10 11 14 15 17 17 22 21 26 21 15  8  6  3  3  1\n",
      "  1  1  1  1  1  1]\n",
      "[ 1  2  7 10 12 13 12 13 13 16 15 16 18 18 13 12  6  5  5  2  1  1  1  1\n",
      "  1  1  1  1  1  1]\n",
      "[22 22 17 13 13 11 10 11 16 15 17 16 13 11 10  8  5  3  1  1  1  1  1  1\n",
      "  1  1  1  1  1  1]\n",
      "[ 2  5  6 11 12 14 14 18 16 16 11  9  7  5  2  1  1  1  1  1  1  1  1  1\n",
      "  1  1  1  1  1  1]\n",
      "[21 17 17 13 12 10 18 12  7  6  5  2  1  1  1  1  1  1  1  1  1  1  1  1\n",
      "  1  1  1  1  1  1]\n",
      "[ 1  5  7 10 15 13  5  4  4  1  1  1  1  1  1  1  1  1  1  1  1  1  1  1\n",
      "  1  1  1  1  1  1]\n",
      "[22 18 15 11  4  3  1  1  1  1  1  1  1  1  1  1  1  1  1  1  1  1  1  1\n",
      "  1  1  1  1  1  1]\n"
     ]
    }
   ],
   "source": [
    "print(np.count_nonzero(initial_pop == 0,axis=0))\n",
    "print(np.count_nonzero(initial_pop == 1,axis=0))\n",
    "print(np.count_nonzero(initial_pop == 2,axis=0))\n",
    "print(np.count_nonzero(initial_pop == 3,axis=0))\n",
    "print(np.count_nonzero(initial_pop == 4,axis=0))\n",
    "print(np.count_nonzero(initial_pop == 5,axis=0))\n",
    "print(np.count_nonzero(initial_pop == 6,axis=0))\n",
    "print(np.count_nonzero(initial_pop == 7,axis=0))\n",
    "print(np.count_nonzero(initial_pop == 8,axis=0))\n",
    "print(np.count_nonzero(initial_pop == 9,axis=0))\n",
    "print(np.count_nonzero(initial_pop == 10,axis=0))"
   ]
  },
  {
   "cell_type": "code",
   "execution_count": null,
   "metadata": {},
   "outputs": [],
   "source": [
    "def fitness(ga_instance, solution, solution_idx):\n",
    "    weights = np.take(portfolios, solution,axis=0)\n",
    "    portfolio_sim = Simulation(100,np.full(T,0),sim_returns, weights)\n",
    "    portfolio_sim.run(T)\n",
    "    return np.quantile(portfolio_sim.capital,r)\n",
    "\n",
    "class Fitness(simulator, objective_function):\n",
    "    \n",
    "    def __init__(self) -> None:\n",
    "        self.simulator = simulator\n",
    "        self.objective_function"
   ]
  },
  {
   "cell_type": "code",
   "execution_count": 318,
   "metadata": {},
   "outputs": [],
   "source": [
    "means = [0.07, 0.04]\n",
    "cov = np.array([[0.003211,\t0.0],\n",
    "            \t[0.0,\t0.000011]])\n",
    "cov = cov * 12\n",
    "\n",
    "number_of_scenarios = 1000\n",
    "T = 20\n",
    "prices = []\n",
    "\n",
    "for i in range (number_of_scenarios):\n",
    "    returns = multivariate_normal.rvs(means,cov, T) + 1\n",
    "    prices.append(np.cumprod(returns,axis=0)*100)\n",
    "    #prices.append(returns)\n",
    "\n",
    "prices = np.absolute(prices)\n",
    "prices = np.round(prices,2)"
   ]
  },
  {
   "cell_type": "code",
   "execution_count": 342,
   "metadata": {},
   "outputs": [],
   "source": [
    "model = PortfoliosSimulator()\n",
    "solution = np.full(T,6)\n",
    "weights = np.take(portfolios, solution,axis=0)\n",
    "goals = {\n",
    "    10: (60000,1),\n",
    "    18: (140000,1)}\n",
    "model.set_params(prices,weights,np.full(20,12000),goals)\n",
    "model.run()\n",
    "outflows = model.get_outflows()    \n"
   ]
  },
  {
   "cell_type": "code",
   "execution_count": 344,
   "metadata": {},
   "outputs": [
    {
     "data": {
      "text/plain": [
       "1973"
      ]
     },
     "execution_count": 344,
     "metadata": {},
     "output_type": "execute_result"
    }
   ],
   "source": [
    "np.count_nonzero(np.array(outflows) >= np.array([[60000],[140000]]))\n"
   ]
  },
  {
   "cell_type": "code",
   "execution_count": 348,
   "metadata": {},
   "outputs": [
    {
     "data": {
      "text/plain": [
       "True"
      ]
     },
     "execution_count": 348,
     "metadata": {},
     "output_type": "execute_result"
    }
   ],
   "source": [
    "arr1 = [[3,4],[5,6]]\n",
    "arr2 = [[2],[5]]\n",
    "np.all(arr1 > arr2,axis=0)"
   ]
  },
  {
   "cell_type": "code",
   "execution_count": null,
   "metadata": {},
   "outputs": [],
   "source": []
  }
 ],
 "metadata": {
  "kernelspec": {
   "display_name": "portfolio-optimisation",
   "language": "python",
   "name": "python3"
  },
  "language_info": {
   "codemirror_mode": {
    "name": "ipython",
    "version": 3
   },
   "file_extension": ".py",
   "mimetype": "text/x-python",
   "name": "python",
   "nbconvert_exporter": "python",
   "pygments_lexer": "ipython3",
   "version": "3.9.12"
  },
  "orig_nbformat": 4
 },
 "nbformat": 4,
 "nbformat_minor": 2
}
