{
 "cells": [
  {
   "cell_type": "code",
   "execution_count": 131,
   "metadata": {},
   "outputs": [],
   "source": [
    "import pygad \n",
    "import pandas as pd\n",
    "import numpy as np\n",
    "from scipy.stats import multivariate_normal, skew\n",
    "import pygad"
   ]
  },
  {
   "cell_type": "code",
   "execution_count": 184,
   "metadata": {},
   "outputs": [],
   "source": [
    "def expected_returns(period):\n",
    "    return pd.Series({\n",
    "\t\t'ACWI': 0.07/period,\n",
    "\t\t'^TBSP': 0.049/period,\n",
    "\t\t'XAUPLN': 0.05/period,\n",
    "\t\t'MWIG40': 0.065/period,\n",
    "\t\t'IHYU.L': 0.038/period,\n",
    "\t\t'PLOPLN3M': 0.03/period,\n",
    "\t\t'edo': 0.04/period\n",
    "})\n",
    "\n",
    "cov = np.array([[0.001265,\t0.000042],\n",
    "            \t[0.000042,\t0.000164]])\n",
    "cov_y = cov * 12"
   ]
  },
  {
   "cell_type": "code",
   "execution_count": 222,
   "metadata": {},
   "outputs": [
    {
     "data": {
      "text/plain": [
       "(1001, 20, 2)"
      ]
     },
     "execution_count": 222,
     "metadata": {},
     "output_type": "execute_result"
    }
   ],
   "source": [
    "assets = ['ACWI', '^TBSP']\n",
    "means = expected_returns(1)[assets]\n",
    "number_of_scenarios = 1001\n",
    "T = 20\n",
    "sim_returns = []\n",
    "\n",
    "for s in range (number_of_scenarios):\n",
    "    sim_returns.append(multivariate_normal.rvs(means,cov_y, T))\n",
    "\n",
    "sim_returns = np.array(sim_returns)\n",
    "sim_returns.shape"
   ]
  },
  {
   "cell_type": "code",
   "execution_count": 191,
   "metadata": {},
   "outputs": [
    {
     "data": {
      "text/html": [
       "<div>\n",
       "<style scoped>\n",
       "    .dataframe tbody tr th:only-of-type {\n",
       "        vertical-align: middle;\n",
       "    }\n",
       "\n",
       "    .dataframe tbody tr th {\n",
       "        vertical-align: top;\n",
       "    }\n",
       "\n",
       "    .dataframe thead th {\n",
       "        text-align: right;\n",
       "    }\n",
       "</style>\n",
       "<table border=\"1\" class=\"dataframe\">\n",
       "  <thead>\n",
       "    <tr style=\"text-align: right;\">\n",
       "      <th></th>\n",
       "      <th>mean</th>\n",
       "      <th>mean_ann</th>\n",
       "      <th>std</th>\n",
       "      <th>skewsness</th>\n",
       "    </tr>\n",
       "  </thead>\n",
       "  <tbody>\n",
       "    <tr>\n",
       "      <th>mean</th>\n",
       "      <td>0.061502</td>\n",
       "      <td>0.738028</td>\n",
       "      <td>0.003397</td>\n",
       "      <td>-3.122285e-15</td>\n",
       "    </tr>\n",
       "    <tr>\n",
       "      <th>0.25</th>\n",
       "      <td>0.047352</td>\n",
       "      <td>0.568220</td>\n",
       "      <td>0.004934</td>\n",
       "      <td>NaN</td>\n",
       "    </tr>\n",
       "    <tr>\n",
       "      <th>0.5</th>\n",
       "      <td>NaN</td>\n",
       "      <td>NaN</td>\n",
       "      <td>NaN</td>\n",
       "      <td>NaN</td>\n",
       "    </tr>\n",
       "    <tr>\n",
       "      <th>0.75</th>\n",
       "      <td>0.071454</td>\n",
       "      <td>0.857444</td>\n",
       "      <td>0.015981</td>\n",
       "      <td>NaN</td>\n",
       "    </tr>\n",
       "  </tbody>\n",
       "</table>\n",
       "</div>"
      ],
      "text/plain": [
       "          mean  mean_ann       std     skewsness\n",
       "mean  0.061502  0.738028  0.003397 -3.122285e-15\n",
       "0.25  0.047352  0.568220  0.004934           NaN\n",
       "0.5        NaN       NaN       NaN           NaN\n",
       "0.75  0.071454  0.857444  0.015981           NaN"
      ]
     },
     "execution_count": 191,
     "metadata": {},
     "output_type": "execute_result"
    }
   ],
   "source": [
    "means = sim_returns.mean(1)\n",
    "\n",
    "result = pd.DataFrame({},index=['mean','0.25','0.5','0.75'])\n",
    "result.loc['mean','mean'] = means[0].mean()\n",
    "result.loc['mean','mean_ann'] = means[0].mean() *12\n",
    "result.loc['mean','std'] = means[0].std()\n",
    "result.loc['mean','skewsness'] = skew(means[0])\n",
    "\n",
    "sorted = np.sort(means,0)\n",
    "result.loc['0.25','mean'] = sorted[len(means)//4*1].mean()\n",
    "result.loc['0.25','mean_ann'] = sorted[len(means)//4*1].mean() *12\n",
    "result.loc['0.25','std'] = sorted[len(means)//4*1].std() \n",
    "result.loc['0.75','mean'] = sorted[len(means)//4*3].mean()\n",
    "result.loc['0.75','mean_ann'] = sorted[len(means)//4*3].mean() *12\n",
    "result.loc['0.75','std'] = sorted[len(means)//4*3].std() \n",
    "result\n"
   ]
  },
  {
   "cell_type": "code",
   "execution_count": 100,
   "metadata": {},
   "outputs": [],
   "source": [
    "class Simulation():\n",
    "    def __init__(self, initial_value, inflows, returns, strategy) -> None:\n",
    "        self.capital = initial_value\n",
    "        self.returns = returns\n",
    "        self.strategy = strategy \n",
    "        self.inflows = inflows\n",
    "    \n",
    "   \n",
    "    def step(self, current_value,inflow,weights,returns):\n",
    "        current_assets_value = np.expand_dims(current_value,axis=0).T * weights\n",
    "        next_assets_value =  np.round(current_assets_value * (1+returns),2)\n",
    "        return next_assets_value.sum(1)\n",
    "    \n",
    "        \n",
    "    def run(self, T):\n",
    "        for t in range(T):\n",
    "            self.capital = self.step(self.capital,self.inflows[t],self.strategy[t],self.returns[:,t])\n"
   ]
  },
  {
   "cell_type": "code",
   "execution_count": 101,
   "metadata": {},
   "outputs": [],
   "source": [
    "portfolios = [[0.0,1.0],\n",
    "             [0.1,0.9],\n",
    "             [0.2,0.8],\n",
    "             [0.3,0.7],\n",
    "             [0.4,0.6],\n",
    "             [0.5,0.5],\n",
    "             [0.6,0.4],\n",
    "             [0.7,0.3],\n",
    "             [0.8,0.2],\n",
    "             [0.9,0.1],\n",
    "             [1.0,0.0]]"
   ]
  },
  {
   "cell_type": "code",
   "execution_count": 238,
   "metadata": {},
   "outputs": [],
   "source": [
    "capital = np.full(number_of_scenarios,100)\n",
    "inflows = np.full(T,0)\n",
    "\n",
    "l = np.arange(T,-1,-1)\n",
    "risk = 10\n",
    "\n",
    "glide_paths = {}\n",
    "\n",
    "for t in l:\n",
    "    perc = []\n",
    "    for portfolio in range(len(portfolios)):\n",
    "        solution = np.full(T,portfolio)\n",
    "        strategy = np.take(portfolios,solution, axis=0)\n",
    "        simulator = Simulation(capital,inflows, sim_returns,strategy)\n",
    "        simulator.run(t)\n",
    "        perc.append(np.percentile(simulator.capital,risk))\n",
    "    glide_paths[t] = np.argmax(perc)"
   ]
  },
  {
   "cell_type": "code",
   "execution_count": 239,
   "metadata": {},
   "outputs": [
    {
     "data": {
      "text/plain": [
       "[3, 3, 3, 3, 2, 3, 3, 3, 3, 3, 2, 2, 2, 3, 2, 1, 2, 1, 1, 1, 0]"
      ]
     },
     "execution_count": 239,
     "metadata": {},
     "output_type": "execute_result"
    }
   ],
   "source": [
    "glide = list(glide_paths.values())\n",
    "glide"
   ]
  },
  {
   "cell_type": "code",
   "execution_count": 234,
   "metadata": {},
   "outputs": [],
   "source": [
    "simulator = Simulation(100,np.full(T,0), sim_returns,glide)\n",
    "simulator.run(T)\n",
    "#np.percentile(simulator.capital,risk)\n",
    "end_capital = simulator.capital"
   ]
  },
  {
   "cell_type": "code",
   "execution_count": 244,
   "metadata": {},
   "outputs": [],
   "source": [
    "r = 0.1\n",
    "T = 20\n",
    "def fitness(ga_instance, solution, solution_idx):\n",
    "    weights = np.take(portfolios, solution,axis=0)\n",
    "    portfolio_sim = Simulation(100,np.full(T,0),sim_returns, weights)\n",
    "    portfolio_sim.run(T)\n",
    "    return np.quantile(portfolio_sim.capital,r)\n",
    "    "
   ]
  },
  {
   "cell_type": "code",
   "execution_count": 245,
   "metadata": {},
   "outputs": [
    {
     "data": {
      "text/plain": [
       "218.66"
      ]
     },
     "execution_count": 245,
     "metadata": {},
     "output_type": "execute_result"
    }
   ],
   "source": [
    "solution = np.full(60,2)\n",
    "fitness(None,glide,0)"
   ]
  },
  {
   "cell_type": "markdown",
   "metadata": {},
   "source": [
    "- 2,0.1 - 113\n",
    "- 8, 0.1 - 100\n",
    "- 8, 0.4 - 125\n",
    "- 2, 0.4 - 126"
   ]
  },
  {
   "cell_type": "code",
   "execution_count": 246,
   "metadata": {},
   "outputs": [],
   "source": [
    "def initial_population(T,number_porfolios,solutions):\n",
    "    population = np.zeros((solutions,T))\n",
    "    population[:,0] = np.random.randint(0,number_porfolios+1, solutions)\n",
    "    for t in range(1,T):\n",
    "        population[:,t] = np.random.randint(0,population[:,t-1]+1, solutions) \n",
    "    return population"
   ]
  },
  {
   "cell_type": "code",
   "execution_count": 247,
   "metadata": {},
   "outputs": [],
   "source": [
    "initial_pop = initial_population(T,10,100)"
   ]
  },
  {
   "cell_type": "code",
   "execution_count": 248,
   "metadata": {},
   "outputs": [],
   "source": [
    "sol_per_pop = 100\n",
    "num_genes = T\n",
    "num_parents_mating = 10\n",
    "keep_parents = 2\n",
    "gene_type= int\n",
    "gen_space = [0,1,2,3,4,5,6,7,8,9,10]\n",
    "parent_selection_type = 'tournament'\n",
    "crossover_type = \"single_point\"\n",
    "num_generations= 200\n",
    "fitness_function = fitness\n",
    "mutation_type = \"random\"\n",
    "mutation_percent_genes = 10\n",
    "random_mutation_min_val=-2.0\n",
    "random_mutation_max_val=2.0\n",
    "mutation_probability=0.4\n",
    "crossover_probability=0.4"
   ]
  },
  {
   "cell_type": "code",
   "execution_count": 249,
   "metadata": {},
   "outputs": [],
   "source": [
    "ga_instance = pygad.GA(num_generations=num_generations,\n",
    "                       num_parents_mating=num_parents_mating,\n",
    "                       fitness_func=fitness_function,\n",
    "                       #sol_per_pop=sol_per_pop,\n",
    "                       initial_population = initial_pop,\n",
    "                       #num_genes=num_genes,\n",
    "                       gene_type=gene_type,\n",
    "                       gene_space=gen_space,\n",
    "                       parent_selection_type=parent_selection_type,\n",
    "                       keep_parents=keep_parents,\n",
    "                       crossover_type=crossover_type,\n",
    "                       mutation_type=mutation_type,\n",
    "                       mutation_percent_genes=mutation_percent_genes,\n",
    "                       random_mutation_min_val=random_mutation_min_val,\n",
    "                       random_mutation_max_val=random_mutation_max_val,\n",
    "                       mutation_probability=mutation_probability,\n",
    "                       crossover_probability=crossover_probability)"
   ]
  },
  {
   "cell_type": "code",
   "execution_count": 250,
   "metadata": {},
   "outputs": [],
   "source": [
    "ga_instance.run()\n",
    "\n",
    "solution, solution_fitness, solution_idx = ga_instance.best_solution()"
   ]
  },
  {
   "cell_type": "code",
   "execution_count": 251,
   "metadata": {},
   "outputs": [
    {
     "name": "stdout",
     "output_type": "stream",
     "text": [
      "[0 5 7 2 3 1 6 5 4 3 3 5 6 5 3 3 2 5 4 3]\n",
      "219.83\n"
     ]
    }
   ],
   "source": [
    "print(solution)\n",
    "print(solution_fitness)"
   ]
  },
  {
   "cell_type": "code",
   "execution_count": 252,
   "metadata": {},
   "outputs": [
    {
     "data": {
      "image/png": "[encoded data removed]",
      "text/plain": [
       "<Figure size 432x288 with 1 Axes>"
      ]
     },
     "metadata": {
      "needs_background": "light"
     },
     "output_type": "display_data"
    },
    {
     "data": {
      "image/png": "[encoded data removed]",
      "text/plain": [
       "<Figure size 432x288 with 1 Axes>"
      ]
     },
     "execution_count": 252,
     "metadata": {},
     "output_type": "execute_result"
    }
   ],
   "source": [
    "ga_instance.plot_fitness()"
   ]
  },
  {
   "cell_type": "markdown",
   "metadata": {},
   "source": [
    "[ 0  0  0  7  3  0  8  6  0  5  4  2  8  4  1 10  6  8  9  3  9 10  8  9\n",
    "  9  3  4  7  1  5  3  3  7  5  1 10 10  9  8  4  4  4  5  9  7  6  5  5\n",
    "  6  8  5  1  3  9  2  4  5  2  0  7]\n",
    "129.62"
   ]
  },
  {
   "cell_type": "code",
   "execution_count": 257,
   "metadata": {},
   "outputs": [
    {
     "data": {
      "text/plain": [
       "218.66"
      ]
     },
     "execution_count": 257,
     "metadata": {},
     "output_type": "execute_result"
    }
   ],
   "source": [
    "fitness(None,glide,0)\n"
   ]
  },
  {
   "cell_type": "code",
   "execution_count": null,
   "metadata": {},
   "outputs": [],
   "source": []
  }
 ],
 "metadata": {
  "kernelspec": {
   "display_name": "portfolio-optimisation",
   "language": "python",
   "name": "python3"
  },
  "language_info": {
   "codemirror_mode": {
    "name": "ipython",
    "version": 3
   },
   "file_extension": ".py",
   "mimetype": "text/x-python",
   "name": "python",
   "nbconvert_exporter": "python",
   "pygments_lexer": "ipython3",
   "version": "3.9.12"
  },
  "orig_nbformat": 4
 },
 "nbformat": 4,
 "nbformat_minor": 2
}
