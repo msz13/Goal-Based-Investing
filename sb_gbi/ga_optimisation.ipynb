{
 "cells": [
  {
   "cell_type": "code",
   "execution_count": 561,
   "metadata": {},
   "outputs": [],
   "source": [
    "import pygad \n",
    "import pandas as pd\n",
    "import numpy as np\n",
    "from scipy.stats import multivariate_normal, skew\n",
    "import matplotlib.pyplot as plt\n",
    "from numba import int32, float32, float64, jit, types, typeof   # import the types\n",
    "from numba.experimental import jitclass"
   ]
  },
  {
   "cell_type": "code",
   "execution_count": 1074,
   "metadata": {},
   "outputs": [],
   "source": [
    "def expected_returns(period):\n",
    "    return pd.Series({\n",
    "\t\t'ACWI': 0.07/period,\n",
    "\t\t'^TBSP': 0.035/period,\n",
    "\t\t'XAUPLN': 0.05/period,\n",
    "\t\t'MWIG40': 0.065/period,\n",
    "\t\t'IHYU.L': 0.038/period,\n",
    "\t\t'PLOPLN3M': 0.03/period,\n",
    "\t\t'edo': 0.035/period\n",
    "})\n",
    "\n",
    "\"\"\" cov = np.array([[0.001265,\t0.000042],\n",
    "            \t[0.000042,\t0.000164]]) \"\"\"\n",
    "#acwi edo\n",
    "cov = np.array([[0.003211,\t0.0],\n",
    "            \t[0.0,\t0.000011]])\n",
    "cov_y = cov * 12"
   ]
  },
  {
   "cell_type": "code",
   "execution_count": 1075,
   "metadata": {},
   "outputs": [
    {
     "data": {
      "text/plain": [
       "(1501, 15, 2)"
      ]
     },
     "execution_count": 1075,
     "metadata": {},
     "output_type": "execute_result"
    }
   ],
   "source": [
    "assets = ['ACWI', 'edo']\n",
    "means = expected_returns(1)[assets]\n",
    "number_of_scenarios = 1501\n",
    "T = 15\n",
    "sim_returns = []\n",
    "\n",
    "for s in range (number_of_scenarios):\n",
    "    sim_returns.append(multivariate_normal.rvs(means,cov_y, T))\n",
    "\n",
    "sim_returns = np.array(sim_returns)\n",
    "sim_returns.shape"
   ]
  },
  {
   "cell_type": "code",
   "execution_count": 990,
   "metadata": {},
   "outputs": [
    {
     "data": {
      "text/html": [
       "<div>\n",
       "<style scoped>\n",
       "    .dataframe tbody tr th:only-of-type {\n",
       "        vertical-align: middle;\n",
       "    }\n",
       "\n",
       "    .dataframe tbody tr th {\n",
       "        vertical-align: top;\n",
       "    }\n",
       "\n",
       "    .dataframe thead th {\n",
       "        text-align: right;\n",
       "    }\n",
       "</style>\n",
       "<table border=\"1\" class=\"dataframe\">\n",
       "  <thead>\n",
       "    <tr style=\"text-align: right;\">\n",
       "      <th></th>\n",
       "      <th>mean</th>\n",
       "      <th>mean_ann</th>\n",
       "      <th>std</th>\n",
       "      <th>skewsness</th>\n",
       "    </tr>\n",
       "  </thead>\n",
       "  <tbody>\n",
       "    <tr>\n",
       "      <th>mean</th>\n",
       "      <td>0.062898</td>\n",
       "      <td>0.754771</td>\n",
       "      <td>0.028057</td>\n",
       "      <td>-3.835300e-16</td>\n",
       "    </tr>\n",
       "    <tr>\n",
       "      <th>0.25</th>\n",
       "      <td>0.034724</td>\n",
       "      <td>0.416683</td>\n",
       "      <td>0.001693</td>\n",
       "      <td>NaN</td>\n",
       "    </tr>\n",
       "    <tr>\n",
       "      <th>0.5</th>\n",
       "      <td>0.052058</td>\n",
       "      <td>0.624691</td>\n",
       "      <td>0.017084</td>\n",
       "      <td>NaN</td>\n",
       "    </tr>\n",
       "    <tr>\n",
       "      <th>0.75</th>\n",
       "      <td>0.069920</td>\n",
       "      <td>0.839037</td>\n",
       "      <td>0.033045</td>\n",
       "      <td>NaN</td>\n",
       "    </tr>\n",
       "  </tbody>\n",
       "</table>\n",
       "</div>"
      ],
      "text/plain": [
       "          mean  mean_ann       std     skewsness\n",
       "mean  0.062898  0.754771  0.028057 -3.835300e-16\n",
       "0.25  0.034724  0.416683  0.001693           NaN\n",
       "0.5   0.052058  0.624691  0.017084           NaN\n",
       "0.75  0.069920  0.839037  0.033045           NaN"
      ]
     },
     "execution_count": 990,
     "metadata": {},
     "output_type": "execute_result"
    }
   ],
   "source": [
    "means = sim_returns.mean(1)\n",
    "\n",
    "result = pd.DataFrame({},index=['mean','0.25','0.5','0.75'])\n",
    "result.loc['mean','mean'] = means[0].mean()\n",
    "result.loc['mean','mean_ann'] = means[0].mean() *12\n",
    "result.loc['mean','std'] = means[0].std()\n",
    "result.loc['mean','skewsness'] = skew(means[0])\n",
    "\n",
    "sorted = np.sort(means,0)\n",
    "result.loc['0.25','mean'] = sorted[len(means)//4*1].mean()\n",
    "result.loc['0.25','mean_ann'] = sorted[len(means)//4*1].mean() *12\n",
    "result.loc['0.25','std'] = sorted[len(means)//4*1].std() \n",
    "result.loc['0.5','mean'] = sorted[len(means)//4*2].mean()\n",
    "result.loc['0.5','mean_ann'] = sorted[len(means)//4*2].mean() *12\n",
    "result.loc['0.5','std'] = sorted[len(means)//4*2].std() \n",
    "result.loc['0.75','mean'] = sorted[len(means)//4*3].mean()\n",
    "result.loc['0.75','mean_ann'] = sorted[len(means)//4*3].mean() *12\n",
    "result.loc['0.75','std'] = sorted[len(means)//4*3].std() \n",
    "result\n"
   ]
  },
  {
   "cell_type": "code",
   "execution_count": 991,
   "metadata": {},
   "outputs": [],
   "source": [
    "def fanchart(hist,percentiles):\n",
    "    length = 19\n",
    "    x = np.linspace(0,length+1,length+1)\n",
    "    fig,ax = plt.subplots(figsize=(12,6))\n",
    "    ax.fill_between(x=x,y1=percentiles[0],y2=percentiles[4], color='blue', alpha=0.1)\n",
    "    ax.fill_between(x=x,y1=percentiles[1],y2=percentiles[3], color='blue', alpha=0.2)\n",
    "    ax.plot(percentiles[2],color='blue')"
   ]
  },
  {
   "cell_type": "code",
   "execution_count": 964,
   "metadata": {},
   "outputs": [
    {
     "ename": "ValueError",
     "evalue": "operands could not be broadcast together with shapes (20,) (180,) ",
     "output_type": "error",
     "traceback": [
      "\u001b[1;31m---------------------------------------------------------------------------\u001b[0m",
      "\u001b[1;31mValueError\u001b[0m                                Traceback (most recent call last)",
      "\u001b[1;32mc:\\Users\\matsz\\programowanie\\Optymalizacja portfela\\sb_gbi\\ga_optimisation.ipynb Cell 6\u001b[0m in \u001b[0;36m<cell line: 2>\u001b[1;34m()\u001b[0m\n\u001b[0;32m      <a href='vscode-notebook-cell:/c%3A/Users/matsz/programowanie/Optymalizacja%20portfela/sb_gbi/ga_optimisation.ipynb#W5sZmlsZQ%3D%3D?line=0'>1</a>\u001b[0m perc \u001b[39m=\u001b[39m np\u001b[39m.\u001b[39mpercentile(sim_returns[:,:,\u001b[39m0\u001b[39m],[\u001b[39m5\u001b[39m,\u001b[39m25\u001b[39m,\u001b[39m50\u001b[39m,\u001b[39m75\u001b[39m,\u001b[39m95\u001b[39m],axis\u001b[39m=\u001b[39m\u001b[39m0\u001b[39m)\n\u001b[1;32m----> <a href='vscode-notebook-cell:/c%3A/Users/matsz/programowanie/Optymalizacja%20portfela/sb_gbi/ga_optimisation.ipynb#W5sZmlsZQ%3D%3D?line=1'>2</a>\u001b[0m fanchart(\u001b[39mNone\u001b[39;49;00m,perc)\n",
      "\u001b[1;32mc:\\Users\\matsz\\programowanie\\Optymalizacja portfela\\sb_gbi\\ga_optimisation.ipynb Cell 6\u001b[0m in \u001b[0;36mfanchart\u001b[1;34m(hist, percentiles)\u001b[0m\n\u001b[0;32m      <a href='vscode-notebook-cell:/c%3A/Users/matsz/programowanie/Optymalizacja%20portfela/sb_gbi/ga_optimisation.ipynb#W5sZmlsZQ%3D%3D?line=2'>3</a>\u001b[0m x \u001b[39m=\u001b[39m np\u001b[39m.\u001b[39mlinspace(\u001b[39m0\u001b[39m,length\u001b[39m+\u001b[39m\u001b[39m1\u001b[39m,length\u001b[39m+\u001b[39m\u001b[39m1\u001b[39m)\n\u001b[0;32m      <a href='vscode-notebook-cell:/c%3A/Users/matsz/programowanie/Optymalizacja%20portfela/sb_gbi/ga_optimisation.ipynb#W5sZmlsZQ%3D%3D?line=3'>4</a>\u001b[0m fig,ax \u001b[39m=\u001b[39m plt\u001b[39m.\u001b[39msubplots(figsize\u001b[39m=\u001b[39m(\u001b[39m12\u001b[39m,\u001b[39m6\u001b[39m))\n\u001b[1;32m----> <a href='vscode-notebook-cell:/c%3A/Users/matsz/programowanie/Optymalizacja%20portfela/sb_gbi/ga_optimisation.ipynb#W5sZmlsZQ%3D%3D?line=4'>5</a>\u001b[0m ax\u001b[39m.\u001b[39;49mfill_between(x\u001b[39m=\u001b[39;49mx,y1\u001b[39m=\u001b[39;49mpercentiles[\u001b[39m0\u001b[39;49m],y2\u001b[39m=\u001b[39;49mpercentiles[\u001b[39m4\u001b[39;49m], color\u001b[39m=\u001b[39;49m\u001b[39m'\u001b[39;49m\u001b[39mblue\u001b[39;49m\u001b[39m'\u001b[39;49m, alpha\u001b[39m=\u001b[39;49m\u001b[39m0.1\u001b[39;49m)\n\u001b[0;32m      <a href='vscode-notebook-cell:/c%3A/Users/matsz/programowanie/Optymalizacja%20portfela/sb_gbi/ga_optimisation.ipynb#W5sZmlsZQ%3D%3D?line=5'>6</a>\u001b[0m ax\u001b[39m.\u001b[39mfill_between(x\u001b[39m=\u001b[39mx,y1\u001b[39m=\u001b[39mpercentiles[\u001b[39m1\u001b[39m],y2\u001b[39m=\u001b[39mpercentiles[\u001b[39m3\u001b[39m], color\u001b[39m=\u001b[39m\u001b[39m'\u001b[39m\u001b[39mblue\u001b[39m\u001b[39m'\u001b[39m, alpha\u001b[39m=\u001b[39m\u001b[39m0.2\u001b[39m)\n\u001b[0;32m      <a href='vscode-notebook-cell:/c%3A/Users/matsz/programowanie/Optymalizacja%20portfela/sb_gbi/ga_optimisation.ipynb#W5sZmlsZQ%3D%3D?line=6'>7</a>\u001b[0m ax\u001b[39m.\u001b[39mplot(percentiles[\u001b[39m2\u001b[39m],color\u001b[39m=\u001b[39m\u001b[39m'\u001b[39m\u001b[39mblue\u001b[39m\u001b[39m'\u001b[39m)\n",
      "File \u001b[1;32mc:\\Users\\matsz\\miniconda3\\envs\\portfolio-optimisation\\lib\\site-packages\\matplotlib\\__init__.py:1412\u001b[0m, in \u001b[0;36m_preprocess_data.<locals>.inner\u001b[1;34m(ax, data, *args, **kwargs)\u001b[0m\n\u001b[0;32m   1409\u001b[0m \u001b[39m@functools\u001b[39m\u001b[39m.\u001b[39mwraps(func)\n\u001b[0;32m   1410\u001b[0m \u001b[39mdef\u001b[39;00m \u001b[39minner\u001b[39m(ax, \u001b[39m*\u001b[39margs, data\u001b[39m=\u001b[39m\u001b[39mNone\u001b[39;00m, \u001b[39m*\u001b[39m\u001b[39m*\u001b[39mkwargs):\n\u001b[0;32m   1411\u001b[0m     \u001b[39mif\u001b[39;00m data \u001b[39mis\u001b[39;00m \u001b[39mNone\u001b[39;00m:\n\u001b[1;32m-> 1412\u001b[0m         \u001b[39mreturn\u001b[39;00m func(ax, \u001b[39m*\u001b[39m\u001b[39mmap\u001b[39m(sanitize_sequence, args), \u001b[39m*\u001b[39m\u001b[39m*\u001b[39mkwargs)\n\u001b[0;32m   1414\u001b[0m     bound \u001b[39m=\u001b[39m new_sig\u001b[39m.\u001b[39mbind(ax, \u001b[39m*\u001b[39margs, \u001b[39m*\u001b[39m\u001b[39m*\u001b[39mkwargs)\n\u001b[0;32m   1415\u001b[0m     auto_label \u001b[39m=\u001b[39m (bound\u001b[39m.\u001b[39marguments\u001b[39m.\u001b[39mget(label_namer)\n\u001b[0;32m   1416\u001b[0m                   \u001b[39mor\u001b[39;00m bound\u001b[39m.\u001b[39mkwargs\u001b[39m.\u001b[39mget(label_namer))\n",
      "File \u001b[1;32mc:\\Users\\matsz\\miniconda3\\envs\\portfolio-optimisation\\lib\\site-packages\\matplotlib\\axes\\_axes.py:5252\u001b[0m, in \u001b[0;36mAxes.fill_between\u001b[1;34m(self, x, y1, y2, where, interpolate, step, **kwargs)\u001b[0m\n\u001b[0;32m   5250\u001b[0m \u001b[39mdef\u001b[39;00m \u001b[39mfill_between\u001b[39m(\u001b[39mself\u001b[39m, x, y1, y2\u001b[39m=\u001b[39m\u001b[39m0\u001b[39m, where\u001b[39m=\u001b[39m\u001b[39mNone\u001b[39;00m, interpolate\u001b[39m=\u001b[39m\u001b[39mFalse\u001b[39;00m,\n\u001b[0;32m   5251\u001b[0m                  step\u001b[39m=\u001b[39m\u001b[39mNone\u001b[39;00m, \u001b[39m*\u001b[39m\u001b[39m*\u001b[39mkwargs):\n\u001b[1;32m-> 5252\u001b[0m     \u001b[39mreturn\u001b[39;00m \u001b[39mself\u001b[39m\u001b[39m.\u001b[39m_fill_between_x_or_y(\n\u001b[0;32m   5253\u001b[0m         \u001b[39m\"\u001b[39m\u001b[39mx\u001b[39m\u001b[39m\"\u001b[39m, x, y1, y2,\n\u001b[0;32m   5254\u001b[0m         where\u001b[39m=\u001b[39mwhere, interpolate\u001b[39m=\u001b[39minterpolate, step\u001b[39m=\u001b[39mstep, \u001b[39m*\u001b[39m\u001b[39m*\u001b[39mkwargs)\n",
      "File \u001b[1;32mc:\\Users\\matsz\\miniconda3\\envs\\portfolio-optimisation\\lib\\site-packages\\matplotlib\\axes\\_axes.py:5173\u001b[0m, in \u001b[0;36mAxes._fill_between_x_or_y\u001b[1;34m(self, ind_dir, ind, dep1, dep2, where, interpolate, step, **kwargs)\u001b[0m\n\u001b[0;32m   5170\u001b[0m     \u001b[39mif\u001b[39;00m where\u001b[39m.\u001b[39msize \u001b[39m!=\u001b[39m ind\u001b[39m.\u001b[39msize:\n\u001b[0;32m   5171\u001b[0m         \u001b[39mraise\u001b[39;00m \u001b[39mValueError\u001b[39;00m(\u001b[39mf\u001b[39m\u001b[39m\"\u001b[39m\u001b[39mwhere size (\u001b[39m\u001b[39m{\u001b[39;00mwhere\u001b[39m.\u001b[39msize\u001b[39m}\u001b[39;00m\u001b[39m) does not match \u001b[39m\u001b[39m\"\u001b[39m\n\u001b[0;32m   5172\u001b[0m                          \u001b[39mf\u001b[39m\u001b[39m\"\u001b[39m\u001b[39m{\u001b[39;00mind_dir\u001b[39m}\u001b[39;00m\u001b[39m size (\u001b[39m\u001b[39m{\u001b[39;00mind\u001b[39m.\u001b[39msize\u001b[39m}\u001b[39;00m\u001b[39m)\u001b[39m\u001b[39m\"\u001b[39m)\n\u001b[1;32m-> 5173\u001b[0m where \u001b[39m=\u001b[39m where \u001b[39m&\u001b[39m \u001b[39m~\u001b[39mfunctools\u001b[39m.\u001b[39;49mreduce(\n\u001b[0;32m   5174\u001b[0m     np\u001b[39m.\u001b[39;49mlogical_or, \u001b[39mmap\u001b[39;49m(np\u001b[39m.\u001b[39;49mma\u001b[39m.\u001b[39;49mgetmask, [ind, dep1, dep2]))\n\u001b[0;32m   5176\u001b[0m ind, dep1, dep2 \u001b[39m=\u001b[39m np\u001b[39m.\u001b[39mbroadcast_arrays(\n\u001b[0;32m   5177\u001b[0m     np\u001b[39m.\u001b[39matleast_1d(ind), dep1, dep2, subok\u001b[39m=\u001b[39m\u001b[39mTrue\u001b[39;00m)\n\u001b[0;32m   5179\u001b[0m polys \u001b[39m=\u001b[39m []\n",
      "\u001b[1;31mValueError\u001b[0m: operands could not be broadcast together with shapes (20,) (180,) "
     ]
    },
    {
     "data": {
      "image/png": "[encoded data removed]",
      "text/plain": [
       "<Figure size 864x432 with 1 Axes>"
      ]
     },
     "metadata": {
      "needs_background": "light"
     },
     "output_type": "display_data"
    }
   ],
   "source": [
    "perc = np.percentile(sim_returns[:,:,0],[5,25,50,75,95],axis=0)\n",
    "fanchart(None,perc)"
   ]
  },
  {
   "cell_type": "code",
   "execution_count": 992,
   "metadata": {},
   "outputs": [],
   "source": [
    "spec = [\n",
    "    ('capital', float64),\n",
    "    ('returns', float64[:,:,:]),\n",
    "    ('strategy', float64[:,:]),\n",
    "    ('inflows', int32[:])\n",
    "]\n",
    "#@jitclass(spec)\n",
    "class Simulation():\n",
    "    def __init__(self, initial_value, inflows, returns, strategy) -> None:\n",
    "        self.capital = initial_value\n",
    "        self.returns = returns\n",
    "        self.strategy = strategy \n",
    "        self.inflows = inflows\n",
    "        \n",
    "    def step(self, current_value,inflow,weights,returns):\n",
    "        current_assets_value = np.expand_dims(current_value,axis=0).T * weights\n",
    "        next_assets_value =  np.round(current_assets_value * (1+returns),2)\n",
    "        return next_assets_value.sum(1)\n",
    "         \n",
    "    def run(self, T):\n",
    "        for t in range(T):\n",
    "            self.capital = self.step(self.capital,self.inflows[t],self.strategy[t],self.returns[:,t])\n"
   ]
  },
  {
   "cell_type": "code",
   "execution_count": 993,
   "metadata": {},
   "outputs": [],
   "source": [
    "portfolios = [[0.0,1.0],\n",
    "             [0.1,0.9],\n",
    "             [0.2,0.8],\n",
    "             [0.3,0.7],\n",
    "             [0.4,0.6],\n",
    "             [0.5,0.5],\n",
    "             [0.6,0.4],\n",
    "             [0.7,0.3],\n",
    "             [0.8,0.2],\n",
    "             [0.9,0.1],\n",
    "             [1.0,0.0]]"
   ]
  },
  {
   "cell_type": "code",
   "execution_count": 1084,
   "metadata": {},
   "outputs": [
    {
     "data": {
      "text/plain": [
       "[2, 2, 3, 3, 2, 2, 2, 1, 1, 1, 1, 1, 1, 0, 0]"
      ]
     },
     "execution_count": 1084,
     "metadata": {},
     "output_type": "execute_result"
    }
   ],
   "source": [
    "T = 15\n",
    "capital = np.full(number_of_scenarios,100)\n",
    "inflows = np.full(T,0)\n",
    "\n",
    "l = np.arange(T,0,-1)\n",
    "risk = 30\n",
    "\n",
    "glide_paths = {}\n",
    "perc = np.zeros((l.shape[0]+1,len(portfolios)))\n",
    "\n",
    "for t in l:\n",
    "    \n",
    "    for portfolio in range(len(portfolios)):\n",
    "        solution = np.full(T,portfolio)\n",
    "        strategy = np.take(portfolios,solution, axis=0)\n",
    "        simulator = Simulation(capital,inflows, sim_returns,strategy)\n",
    "        simulator.run(t)\n",
    "        #perc.append(np.percentile(simulator.capital,risk))\n",
    "        perc[t,portfolio] = np.percentile(simulator.capital,risk)\n",
    "    glide_paths[t] = np.argmax(perc[t])\n",
    "\n",
    "glide = list(glide_paths.values())\n",
    "glide\n",
    "\n",
    "    #TODO for portfolio in range(len(portfolios)) na range(glide_paths[t-1])"
   ]
  },
  {
   "cell_type": "code",
   "execution_count": 931,
   "metadata": {},
   "outputs": [],
   "source": [
    "T=15\n",
    "risk = 0.25\n",
    "perc = []\n",
    "for portfolio in range(len(portfolios)):\n",
    "        solution = np.full(T,portfolio)\n",
    "        strategy = np.take(portfolios,solution, axis=0)\n",
    "        simulator = Simulation(capital,inflows, sim_returns,strategy)\n",
    "        simulator.run(t)\n",
    "        perc.append(np.percentile(simulator.capital,risk))"
   ]
  },
  {
   "cell_type": "code",
   "execution_count": 243,
   "metadata": {},
   "outputs": [],
   "source": [
    "simulator = Simulation(100,np.full(T,0), sim_returns,glide)\n",
    "simulator.run(T)\n",
    "#np.percentile(simulator.capital,risk)\n",
    "end_capital = simulator.capital"
   ]
  },
  {
   "cell_type": "code",
   "execution_count": 932,
   "metadata": {},
   "outputs": [],
   "source": [
    "r = 0.3\n",
    "T = 15\n",
    "def fitness(ga_instance, solution, solution_idx):\n",
    "    weights = np.take(portfolios, solution,axis=0)\n",
    "    portfolio_sim = Simulation(100,np.full(T,0),sim_returns, weights)\n",
    "    portfolio_sim.run(T)\n",
    "    return np.quantile(portfolio_sim.capital,r)\n",
    "    "
   ]
  },
  {
   "cell_type": "code",
   "execution_count": 1085,
   "metadata": {},
   "outputs": [
    {
     "data": {
      "text/plain": [
       "174.3"
      ]
     },
     "execution_count": 1085,
     "metadata": {},
     "output_type": "execute_result"
    }
   ],
   "source": [
    "fitness(None,glide,None)"
   ]
  },
  {
   "cell_type": "code",
   "execution_count": 1007,
   "metadata": {},
   "outputs": [],
   "source": [
    "def initial_population(T,number_porfolios,solutions):\n",
    "    population = np.zeros((solutions,T))\n",
    "    population[11:,0] = np.random.randint(0,number_porfolios+1, solutions-11)\n",
    "    for t in range(1,T):\n",
    "        population[11:,t] = np.random.randint(0,population[11:,t-1]+1, solutions-11)\n",
    "    for p in range(0,11):\n",
    "        population[p,:] = p\n",
    "    return population"
   ]
  },
  {
   "cell_type": "code",
   "execution_count": 1056,
   "metadata": {},
   "outputs": [],
   "source": [
    "def init2(portfolios,T, population_size):\n",
    "    population = np.zeros((population_size, T))\n",
    "    random_size = population_size-len(portfolios) \n",
    "    population[0:random_size] = np.random.choice(gen_space,(random_size,T))\n",
    "    for p in range(len(portfolios)):\n",
    "        population[random_size+p,:] = p\n",
    "    return np.flip(np.sort(population,1),1)"
   ]
  },
  {
   "cell_type": "code",
   "execution_count": 1008,
   "metadata": {},
   "outputs": [],
   "source": [
    "def isDescending(arr):\n",
    "    diff = np.diff(arr)\n",
    "    return np.all(diff <= 0)\n",
    "\n",
    "def m_crossover_func(parents, offspring_size, ga_instance):\n",
    "    offspring = []\n",
    "    idx = 0\n",
    "    while len(offspring) != offspring_size[0]:\n",
    "        parent1 = parents[idx % parents.shape[0], :].copy()\n",
    "        parent2 = parents[(idx + 1) % parents.shape[0], :].copy()\n",
    "        random_split_point = np.random.choice(range(1,offspring_size[1]))\n",
    "\n",
    "        result = parent1.copy()\n",
    "        result[random_split_point:] = parent2[random_split_point:]\n",
    "        if isDescending(result) != True:\n",
    "            result = parent2.copy()\n",
    "            result[random_split_point:] = parent1[random_split_point:]\n",
    "           \n",
    "        offspring.append(result)      \n",
    "\n",
    "        idx += 1\n",
    "\n",
    "    return np.array(offspring)"
   ]
  },
  {
   "cell_type": "code",
   "execution_count": 978,
   "metadata": {},
   "outputs": [],
   "source": [
    "def applyMutation(offset, mutation_idx, mutation_value):\n",
    "    result = offset\n",
    "    newValue = offset[mutation_idx] + mutation_value\n",
    "    result[mutation_idx] = newValue\n",
    "    if(mutation_value> 0):\n",
    "        diff = offset[0:mutation_idx] - newValue\n",
    "        result[0:mutation_idx] = np.where(diff < 0, offset[0:mutation_idx] - diff , offset[0:mutation_idx])\n",
    "    else:\n",
    "        diff = offset[mutation_idx+1:] - newValue\n",
    "        result[mutation_idx+1:] = np.where(diff > 0, offset[mutation_idx+1:] - diff , offset[mutation_idx+1:])\n",
    "    return result\n",
    "\n",
    "def mutation_func(offspring, ga_instance):\n",
    "    \n",
    "    for chromosome_idx in range(offspring.shape[0]):\n",
    "        if (np.random.random() <= ga_instance.mutation_probability):  \n",
    "            random_gene_idx = np.random.choice(range(offspring.shape[1]))\n",
    "            mutated_value = np.random.randint(ga_instance.random_mutation_min_val,ga_instance.random_mutation_max_val)\n",
    "            result = applyMutation(offspring[chromosome_idx],random_gene_idx,mutated_value)\n",
    "            result = np.where(result > np.max(ga_instance.gene_space), np.max(ga_instance.gene_space), result)\n",
    "            result = np.where(result < np.min(ga_instance.gene_space), np.min(ga_instance.gene_space), result)\n",
    "            offspring[chromosome_idx] = result\n",
    "            \n",
    "    return offspring\n",
    "\n",
    "#TODO zabezpieczyc mutation <= max porfolio"
   ]
  },
  {
   "cell_type": "code",
   "execution_count": 980,
   "metadata": {},
   "outputs": [
    {
     "data": {
      "text/plain": [
       "array([5, 4, 3, 1, 0])"
      ]
     },
     "execution_count": 980,
     "metadata": {},
     "output_type": "execute_result"
    }
   ],
   "source": [
    "gen_space = [0,1,2,3,4,5,6,7,8,9,10]\n",
    "offspring = np.array([5,4,3,0,0])\n",
    "result = applyMutation(offspring,3,1)\n",
    "result = np.where(result > np.max(gen_space), np.max(gen_space), result)\n",
    "result = np.where(result < np.min(gen_space), np.min(gen_space), result)\n",
    "result"
   ]
  },
  {
   "cell_type": "code",
   "execution_count": 1068,
   "metadata": {},
   "outputs": [],
   "source": [
    "r = 0.4\n",
    "T = 15\n",
    "def fitness(ga_instance, solution, solution_idx):\n",
    "    #print(solution)\n",
    "    weights = np.take(portfolios, solution,axis=0)\n",
    "    portfolio_sim = Simulation(100,np.full(T,0),sim_returns, weights)\n",
    "    portfolio_sim.run(T)\n",
    "    return np.quantile(portfolio_sim.capital,r)"
   ]
  },
  {
   "cell_type": "code",
   "execution_count": 1076,
   "metadata": {},
   "outputs": [],
   "source": [
    "initial_pop = init2(portfolios,T,100) #initial_population(T,10,100)"
   ]
  },
  {
   "cell_type": "code",
   "execution_count": 1077,
   "metadata": {},
   "outputs": [],
   "source": [
    "sol_per_pop = 100\n",
    "num_genes = T\n",
    "num_parents_mating = 10\n",
    "keep_parents = 1\n",
    "gene_type= int\n",
    "gen_space = [0,1,2,3,4,5,6,7,8,9,10]\n",
    "parent_selection_type = 'tournament'\n",
    "crossover_type = \"single_point\"\n",
    "num_generations= 200\n",
    "fitness_function = fitness\n",
    "mutation_type = mutation_func #\"random\"\n",
    "#mutation_percent_genes = 10\n",
    "random_mutation_min_val=-2.0\n",
    "random_mutation_max_val=2.0\n",
    "mutation_probability=0.4\n",
    "crossover_probability=0.6\n",
    "crossover_func=m_crossover_func\n",
    "stop_criteria = \"saturate_200\""
   ]
  },
  {
   "cell_type": "code",
   "execution_count": 1078,
   "metadata": {},
   "outputs": [
    {
     "name": "stderr",
     "output_type": "stream",
     "text": [
      "c:\\Users\\matsz\\miniconda3\\envs\\portfolio-optimisation\\lib\\site-packages\\pygad\\pygad.py:1146: UserWarning: Use the 'save_solutions' parameter with caution as it may cause memory overflow when either the number of generations, number of genes, or number of solutions in population is large.\n",
      "  warnings.warn(\"Use the 'save_solutions' parameter with caution as it may cause memory overflow when either the number of generations, number of genes, or number of solutions in population is large.\")\n"
     ]
    }
   ],
   "source": [
    "ga_instance = pygad.GA(num_generations=num_generations,\n",
    "                       num_parents_mating=num_parents_mating,\n",
    "                       fitness_func=fitness_function,\n",
    "                       #sol_per_pop=sol_per_pop,\n",
    "                       initial_population = initial_pop,\n",
    "                       num_genes=num_genes,\n",
    "                       gene_type=gene_type,\n",
    "                       gene_space=gen_space,\n",
    "                       parent_selection_type=parent_selection_type,\n",
    "                       keep_parents=keep_parents,\n",
    "                       #crossover_type=crossover_type,\n",
    "                       mutation_type=mutation_type,\n",
    "                       #mutation_percent_genes=mutation_percent_genes,\n",
    "                       random_mutation_min_val=random_mutation_min_val,\n",
    "                       random_mutation_max_val=random_mutation_max_val,\n",
    "                       mutation_probability=mutation_probability,\n",
    "                       crossover_probability=crossover_probability,\n",
    "                       crossover_type= crossover_func,\n",
    "                       stop_criteria = stop_criteria,\n",
    "                       save_solutions=True\n",
    "                       )"
   ]
  },
  {
   "cell_type": "code",
   "execution_count": 1079,
   "metadata": {},
   "outputs": [],
   "source": [
    "ga_instance.run()\n",
    "\n",
    "solution, solution_fitness, solution_idx = ga_instance.best_solution()"
   ]
  },
  {
   "cell_type": "code",
   "execution_count": 1080,
   "metadata": {},
   "outputs": [
    {
     "name": "stdout",
     "output_type": "stream",
     "text": [
      "[9 9 9 8 8 8 8 7 7 7 7 7 7 3 2]\n",
      "190.05\n"
     ]
    }
   ],
   "source": [
    "print(solution)\n",
    "print(solution_fitness)"
   ]
  },
  {
   "cell_type": "code",
   "execution_count": 1081,
   "metadata": {},
   "outputs": [
    {
     "name": "stdout",
     "output_type": "stream",
     "text": [
      "0: 9\n",
      "1: 9\n",
      "2: 9\n",
      "3: 8\n",
      "4: 8\n",
      "5: 8\n",
      "6: 8\n",
      "7: 7\n",
      "8: 7\n",
      "9: 7\n",
      "10: 7\n",
      "11: 7\n",
      "12: 7\n",
      "13: 3\n",
      "14: 2\n"
     ]
    }
   ],
   "source": [
    "for t in range(0,len(solution)):\n",
    "    print('{0}: {1}'.format(t, + solution[t]))"
   ]
  },
  {
   "cell_type": "code",
   "execution_count": 1082,
   "metadata": {},
   "outputs": [
    {
     "data": {
      "image/png": "[encoded data removed]",
      "text/plain": [
       "<Figure size 432x288 with 1 Axes>"
      ]
     },
     "metadata": {
      "needs_background": "light"
     },
     "output_type": "display_data"
    },
    {
     "data": {
      "image/png": "[encoded data removed]",
      "text/plain": [
       "<Figure size 432x288 with 1 Axes>"
      ]
     },
     "execution_count": 1082,
     "metadata": {},
     "output_type": "execute_result"
    }
   ],
   "source": [
    "ga_instance.plot_fitness()"
   ]
  },
  {
   "cell_type": "markdown",
   "metadata": {},
   "source": [
    "[ 0  0  0  7  3  0  8  6  0  5  4  2  8  4  1 10  6  8  9  3  9 10  8  9\n",
    "  9  3  4  7  1  5  3  3  7  5  1 10 10  9  8  4  4  4  5  9  7  6  5  5\n",
    "  6  8  5  1  3  9  2  4  5  2  0  7]\n",
    "129.62"
   ]
  },
  {
   "cell_type": "code",
   "execution_count": 1083,
   "metadata": {},
   "outputs": [
    {
     "data": {
      "image/png": "[encoded data removed]",
      "text/plain": [
       "<Figure size 432x288 with 1 Axes>"
      ]
     },
     "metadata": {
      "needs_background": "light"
     },
     "output_type": "display_data"
    },
    {
     "data": {
      "image/png": "[encoded data removed]",
      "text/plain": [
       "<Figure size 432x288 with 1 Axes>"
      ]
     },
     "execution_count": 1083,
     "metadata": {},
     "output_type": "execute_result"
    }
   ],
   "source": [
    "ga_instance.plot_new_solution_rate()"
   ]
  },
  {
   "cell_type": "code",
   "execution_count": 957,
   "metadata": {},
   "outputs": [
    {
     "data": {
      "text/plain": [
       "167.24"
      ]
     },
     "execution_count": 957,
     "metadata": {},
     "output_type": "execute_result"
    }
   ],
   "source": [
    "#[6, 3, 3, 3, 2]\n",
    "fitness(None,[3, 2, 2, 2, 2, 2, 2, 2, 2, 2, 2, 2, 2, 0, 0],0)\n"
   ]
  },
  {
   "cell_type": "code",
   "execution_count": null,
   "metadata": {},
   "outputs": [
    {
     "data": {
      "text/plain": [
       "array([[4, 3, 3, 2, 1]])"
      ]
     },
     "execution_count": 235,
     "metadata": {},
     "output_type": "execute_result"
    }
   ],
   "source": [
    "from unittest.mock import patch\n",
    "\n",
    "def mock_rand(range):\n",
    "        return 0\n",
    "\n",
    "\n",
    "parents = np.array([[4,3,3,2,2],\n",
    "                     [7,6,5,2,1]])\n",
    "\n",
    "result = None\n",
    "\n",
    "\"\"\" with patch('numpy.random.choice',mock_rand):\n",
    "    result = crossover_func(parents, (1,5), None) \"\"\"\n",
    "\n",
    "crossover_func(parents, (1,5), None)\n",
    "#result"
   ]
  },
  {
   "cell_type": "code",
   "execution_count": null,
   "metadata": {},
   "outputs": [
    {
     "data": {
      "text/plain": [
       "[]"
      ]
     },
     "execution_count": 236,
     "metadata": {},
     "output_type": "execute_result"
    }
   ],
   "source": [
    "arr = [4,3,3,3,3]\n",
    "arr[:0]"
   ]
  },
  {
   "cell_type": "code",
   "execution_count": null,
   "metadata": {},
   "outputs": [
    {
     "data": {
      "text/plain": [
       "array([[10, 10,  8,  8,  6,  6]])"
      ]
     },
     "execution_count": 412,
     "metadata": {},
     "output_type": "execute_result"
    }
   ],
   "source": [
    "offspring = np.array([[10,10,8,8,6,6]])\n",
    "mutation_func(offspring, ga_instance)"
   ]
  }
 ],
 "metadata": {
  "kernelspec": {
   "display_name": "portfolio-optimisation",
   "language": "python",
   "name": "python3"
  },
  "language_info": {
   "codemirror_mode": {
    "name": "ipython",
    "version": 3
   },
   "file_extension": ".py",
   "mimetype": "text/x-python",
   "name": "python",
   "nbconvert_exporter": "python",
   "pygments_lexer": "ipython3",
   "version": "3.9.12"
  },
  "orig_nbformat": 4
 },
 "nbformat": 4,
 "nbformat_minor": 2
}
