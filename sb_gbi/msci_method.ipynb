{
 "cells": [
  {
   "cell_type": "code",
   "execution_count": 1,
   "metadata": {},
   "outputs": [],
   "source": [
    "import pygad \n",
    "import pandas as pd\n",
    "import numpy as np\n",
    "from scipy.stats import multivariate_normal, skew\n",
    "from numba import int32, float64   # import the types\n",
    "from portfolio_simulator import PortfoliosSimulator"
   ]
  },
  {
   "cell_type": "code",
   "execution_count": 2,
   "metadata": {},
   "outputs": [
    {
     "data": {
      "text/plain": [
       "(10000, 50, 2)"
      ]
     },
     "execution_count": 2,
     "metadata": {},
     "output_type": "execute_result"
    }
   ],
   "source": [
    "def expected_returns(period):\n",
    "    return pd.Series({\n",
    "\t\t'ACWI': 0.07/period,\n",
    "\t\t'^TBSP': 0.035/period,\n",
    "\t\t'XAUPLN': 0.05/period,\n",
    "\t\t'MWIG40': 0.065/period,\n",
    "\t\t'IHYU.L': 0.038/period,\n",
    "\t\t'PLOPLN3M': 0.03/period,\n",
    "\t\t'edo': 0.032/period\n",
    "})\n",
    "\n",
    "\"\"\" cov = np.array([[0.001265,\t0.000042],\n",
    "            \t[0.000042,\t0.000164]]) \"\"\"\n",
    "#acwi edo\n",
    "cov = np.array([[0.030276,\t0.0],\n",
    "            \t[0.0,\t0.00021]])\n",
    "cov_y = cov \n",
    "\n",
    "assets = ['ACWI', 'edo']\n",
    "means = expected_returns(1)[assets]\n",
    "number_of_scenarios = 10000\n",
    "T = 50\n",
    "sim_returns = []\n",
    "\n",
    "for s in range (number_of_scenarios):\n",
    "    sim_returns.append(multivariate_normal.rvs(means,cov_y, T))\n",
    "\n",
    "sim_returns = np.array(sim_returns)\n",
    "sim_returns.shape"
   ]
  },
  {
   "cell_type": "code",
   "execution_count": 3,
   "metadata": {},
   "outputs": [],
   "source": [
    "class Simulation():\n",
    "    def __init__(self, initial_value, inflows, returns, strategy) -> None:\n",
    "        self.capital = initial_value\n",
    "        self.returns = returns\n",
    "        self.strategy = strategy \n",
    "        self.inflows = inflows\n",
    "        \n",
    "    def step(self, current_value,inflow,weights,returns):\n",
    "        current_assets_value = np.expand_dims(current_value+inflow,axis=0).T * weights\n",
    "        next_assets_value =  np.round(current_assets_value * (1+returns),2)\n",
    "        return next_assets_value.sum(1)\n",
    "         \n",
    "    def run(self, T):\n",
    "        for t in range(T):\n",
    "            self.capital = self.step(self.capital,self.inflows[t],self.strategy[t],self.returns[:,t])"
   ]
  },
  {
   "cell_type": "code",
   "execution_count": 5,
   "metadata": {},
   "outputs": [],
   "source": [
    "portfolios = [[0.0,1.0],\n",
    "             [0.1,0.9],\n",
    "             [0.2,0.8],\n",
    "             [0.3,0.7],\n",
    "             [0.4,0.6],\n",
    "             [0.5,0.5],\n",
    "             [0.6,0.4],\n",
    "             [0.7,0.3],\n",
    "             [0.8,0.2],\n",
    "             [0.9,0.1],\n",
    "             [1.0,0.0]] "
   ]
  },
  {
   "cell_type": "code",
   "execution_count": 6,
   "metadata": {},
   "outputs": [
    {
     "data": {
      "text/plain": [
       "array([2, 2, 2, 2, 2, 2, 2, 2, 2, 2, 2, 2, 1, 1, 1, 1, 1, 1, 1, 1, 1, 1,\n",
       "       1, 1, 1, 1, 1, 1, 1, 1, 1, 1, 1, 1, 1, 1, 1, 1, 1, 1, 1, 1, 1, 1,\n",
       "       0, 0, 0, 0, 0, 0])"
      ]
     },
     "execution_count": 6,
     "metadata": {},
     "output_type": "execute_result"
    }
   ],
   "source": [
    "T = 50\n",
    "capital = 50000\n",
    "inflows = np.cumproduct(np.full(T,1.02))*26000\n",
    "\n",
    "l = np.arange(T,0,-1)\n",
    "risk = 10\n",
    "\n",
    "glide_paths = np.full(T+1,len(portfolios))\n",
    "perc = np.zeros((l.shape[0],len(portfolios)))\n",
    "\n",
    "for t in l:\n",
    "    \n",
    "    for portfolio in range(len(portfolios)):\n",
    "        solution = np.full(T,portfolio)\n",
    "        strategy = np.take(portfolios,solution, axis=0)\n",
    "        simulator = Simulation(capital,inflows, sim_returns,strategy)\n",
    "        simulator.run(t)\n",
    "        #perc.append(np.percentile(simulator.capital,risk))\n",
    "        perc[t-1,portfolio] = np.round(np.percentile(simulator.capital,risk))\n",
    "    glide_paths[t-1] = np.argmax(perc[t-1])\n",
    "\n",
    "#glide = list(glide_paths.values())\n",
    "np.flip(glide_paths)[1:]"
   ]
  },
  {
   "cell_type": "code",
   "execution_count": 11,
   "metadata": {},
   "outputs": [],
   "source": [
    "from typing import Any\n",
    "\n",
    "class MaxPercentile():\n",
    "\n",
    "    def __init__(self, percentile) -> None:\n",
    "        self.percentile = percentile\n",
    "\n",
    "    def __call__(self, values: np.array) -> float:\n",
    "        return np.percentile(values,self.percentile)\n",
    "\n",
    "class Fitness:\n",
    "    def __init__(self,simulator,solution,objective) -> None:\n",
    "        self.simulator = simulator\n",
    "        self.solution = solution\n",
    "        self.objective\n",
    "\n",
    "    def __call__(self, *args: Any, **kwds: Any) -> Any:\n",
    "        pass"
   ]
  },
  {
   "cell_type": "code",
   "execution_count": 14,
   "metadata": {},
   "outputs": [
    {
     "data": {
      "text/plain": [
       "499.5"
      ]
     },
     "execution_count": 14,
     "metadata": {},
     "output_type": "execute_result"
    }
   ],
   "source": [
    "objective = MaxPercentile(50)\n",
    "\n",
    "objective(np.arange(1000))"
   ]
  },
  {
   "cell_type": "code",
   "execution_count": 7,
   "metadata": {},
   "outputs": [
    {
     "data": {
      "text/plain": [
       "array([2, 2, 2, 2, 2, 2, 2, 2, 2, 2, 2, 2, 1, 1, 1, 1, 1, 1, 1, 1, 1, 1,\n",
       "       1, 1, 1, 1, 1, 1, 1, 1, 1, 1, 1, 1, 1, 1, 1, 1, 1, 1, 1, 1, 1, 1,\n",
       "       0, 0, 0, 0, 0, 0])"
      ]
     },
     "execution_count": 7,
     "metadata": {},
     "output_type": "execute_result"
    }
   ],
   "source": [
    "T = 50\n",
    "capital = 50000\n",
    "inflows = np.cumproduct(np.full(T,1.02))*26000\n",
    "\n",
    "l = np.arange(T,0,-1)\n",
    "risk = 10\n",
    "\n",
    "glide_paths = np.full(T+1,len(portfolios))\n",
    "perc = np.zeros((l.shape[0],len(portfolios)))\n",
    "\n",
    "for t in l:\n",
    "    \n",
    "    for portfolio in range(len(portfolios)):\n",
    "        solution = np.full(T,portfolio)\n",
    "        strategy = np.take(portfolios,solution, axis=0)\n",
    "        simulator = Simulation(capital,inflows, sim_returns,strategy)\n",
    "        simulator.run(t)\n",
    "        #perc.append(np.percentile(simulator.capital,risk))\n",
    "        perc[t-1,portfolio] = np.round(np.percentile(simulator.capital,risk))\n",
    "    glide_paths[t-1] = np.argmax(perc[t-1])\n",
    "\n",
    "#glide = list(glide_paths.values())\n",
    "np.flip(glide_paths)[1:]"
   ]
  }
 ],
 "metadata": {
  "kernelspec": {
   "display_name": "portfolio-optimisation",
   "language": "python",
   "name": "python3"
  },
  "language_info": {
   "codemirror_mode": {
    "name": "ipython",
    "version": 3
   },
   "file_extension": ".py",
   "mimetype": "text/x-python",
   "name": "python",
   "nbconvert_exporter": "python",
   "pygments_lexer": "ipython3",
   "version": "3.9.12"
  },
  "orig_nbformat": 4
 },
 "nbformat": 4,
 "nbformat_minor": 2
}
