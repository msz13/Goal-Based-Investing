{
 "cells": [
  {
   "cell_type": "code",
   "execution_count": 5,
   "metadata": {},
   "outputs": [
    {
     "name": "stdout",
     "output_type": "stream",
     "text": [
      "The autoreload extension is already loaded. To reload it, use:\n",
      "  %reload_ext autoreload\n"
     ]
    }
   ],
   "source": [
    "from model.grid import generateGrid\n",
    "from model.propabilities import calculateTransitionPropabilitiesForAllPorfolios, select_probabilities_for_chosen_strategies, calculate_cumulative_propabilities\n",
    "from model.investment_planner import get_portfolios_strategies, get_optimal_strategies_for_T\n",
    "from model._utilities import Goals\n",
    "import numpy as np\n",
    "import pandas as pd\n",
    "import seaborn as sns\n",
    "\n",
    "%load_ext autoreload\n",
    "%autoreload 2"
   ]
  },
  {
   "cell_type": "code",
   "execution_count": 6,
   "metadata": {},
   "outputs": [],
   "source": [
    "portfolios = np.array([[0.0526, 0.037 ],\n",
    "       [0.0552, 0.0396],\n",
    "       [0.0577, 0.0463],\n",
    "       [0.0603, 0.0556],\n",
    "       [0.0629, 0.0664],\n",
    "       [0.0655, 0.0781],\n",
    "       [0.068 , 0.0904],\n",
    "       [0.0706, 0.1031],\n",
    "       [0.0732, 0.1159],\n",
    "       [0.0757, 0.129 ],\n",
    "       [0.0783, 0.1421],\n",
    "       [0.0809, 0.1554],\n",
    "       [0.0834, 0.1687],\n",
    "       [0.086 , 0.1821],\n",
    "       [0.0886, 0.1955]])"
   ]
  },
  {
   "cell_type": "code",
   "execution_count": 26,
   "metadata": {},
   "outputs": [],
   "source": [
    "W0 = 100\n",
    "iMax = 475\n",
    "\n",
    "goals = Goals([{\n",
    "        \"time\": 5,\n",
    "        \"cost\": 100,\n",
    "        \"utility\": 1000                \n",
    "    },\n",
    "    {\n",
    "        \"time\": 10,\n",
    "        \"cost\": 150,\n",
    "        \"utility\": 1000                \n",
    "    },  \n",
    "    ])\n",
    "T = goals.get_investment_period()\n",
    "goal_max_costs = goals.get_highest_costs()\n",
    "infusions = np.full(T,0)\n"
   ]
  },
  {
   "cell_type": "code",
   "execution_count": 27,
   "metadata": {},
   "outputs": [],
   "source": [
    "grid = generateGrid(W0,iMax,infusions,goal_max_costs,portfolios[0,0],portfolios[0,1],portfolios[-1,0],portfolios[-1,1])\n",
    "\n",
    "goals_strategies = np.zeros((T,iMax))\n",
    "portfolios_strategies = np.zeros((T,iMax))\n",
    "probabilities = np.zeros((T,iMax,iMax))\n",
    "V = np.zeros((T,iMax))\n",
    "selected_propabilities = np.zeros((T-1,iMax,iMax))\n",
    "\n",
    "for t in range(T-2,-1,-1):\n",
    "    probabilities = calculateTransitionPropabilitiesForAllPorfolios(portfolios,grid[t],grid[t+1],infusions[t],1)\n",
    "    result = get_optimal_strategies_for_T(goals.get_k_array(t),grid[t], probabilities, V[t+1])  \n",
    "    goals_strategies[t] = result.goals_strategies\n",
    "    portfolios_strategies[t] = result.porfolios_strategies\n",
    "    V[t] = result.values\n",
    "    goals_costs = goals.get_costs_for_time(t)\n",
    "    selected_propabilities[t] = select_probabilities_for_chosen_strategies(probabilities,result.porfolios_strategies,result.goals_strategies,goals_costs,grid[t])\n",
    "    "
   ]
  },
  {
   "cell_type": "code",
   "execution_count": 28,
   "metadata": {},
   "outputs": [
    {
     "data": {
      "text/plain": [
       "{1: {0.0: 1.0},\n",
       " 2: {0.0: 1.0},\n",
       " 3: {0.0: 1.0},\n",
       " 4: {0.0: 0.198, 1.0: 0.802},\n",
       " 5: {0.0: 1.0},\n",
       " 6: {0.0: 1.0},\n",
       " 7: {0.0: 1.0},\n",
       " 8: {0.0: 1.0},\n",
       " 9: {0.0: 0.941, 1.0: 0.059}}"
      ]
     },
     "execution_count": 28,
     "metadata": {},
     "output_type": "execute_result"
    }
   ],
   "source": [
    "W0index = np.where(grid[0]==W0)[0][0]\n",
    "calculate_cumulative_propabilities(selected_propabilities,goals_strategies[1:,:],W0index)"
   ]
  },
  {
   "cell_type": "code",
   "execution_count": 30,
   "metadata": {},
   "outputs": [],
   "source": [
    "df = pd.DataFrame(portfolios_strategies.T)\n",
    "df.insert(0,'W',grid[1].T)\n",
    "#df.set_index('W')\n",
    "#sns.heatmap(df.iloc[230:251])\n",
    "short = df.iloc[244:324]\n"
   ]
  },
  {
   "attachments": {},
   "cell_type": "markdown",
   "metadata": {},
   "source": [
    "TODO:\n",
    "* test get_portfolios_strategies when vt1 for all i\n",
    "* dodać wyświetlanie portfolios strategies i goal strategies a grid wealth values (data frame)\n",
    "* wyświetlić z multiple goals"
   ]
  },
  {
   "cell_type": "code",
   "execution_count": null,
   "metadata": {},
   "outputs": [],
   "source": []
  }
 ],
 "metadata": {
  "kernelspec": {
   "display_name": "portfolio-optimisation",
   "language": "python",
   "name": "python3"
  },
  "language_info": {
   "codemirror_mode": {
    "name": "ipython",
    "version": 3
   },
   "file_extension": ".py",
   "mimetype": "text/x-python",
   "name": "python",
   "nbconvert_exporter": "python",
   "pygments_lexer": "ipython3",
   "version": "3.9.12"
  },
  "orig_nbformat": 4
 },
 "nbformat": 4,
 "nbformat_minor": 2
}
