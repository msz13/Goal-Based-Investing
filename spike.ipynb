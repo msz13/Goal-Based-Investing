{
 "cells": [
  {
   "cell_type": "code",
   "execution_count": 6,
   "metadata": {},
   "outputs": [
    {
     "name": "stdout",
     "output_type": "stream",
     "text": [
      "The autoreload extension is already loaded. To reload it, use:\n",
      "  %reload_ext autoreload\n"
     ]
    }
   ],
   "source": [
    "import sys\n",
    "#sys.path.append('model')\n",
    "\n",
    "from model.grid import generateGrid\n",
    "from model.propabilities import calculateTransitionPropabilitiesForAllPorfolios\n",
    "from model.investment_planner import get_portfolios_strategies, get_optimal_strategies_for_T\n",
    "import numpy as np\n",
    "\n",
    "%load_ext autoreload\n",
    "%autoreload 2"
   ]
  },
  {
   "cell_type": "code",
   "execution_count": 7,
   "metadata": {},
   "outputs": [],
   "source": [
    "portfolios = np.array([[0.0526, 0.037 ],\n",
    "       [0.0552, 0.0396],\n",
    "       [0.0577, 0.0463],\n",
    "       [0.0603, 0.0556],\n",
    "       [0.0629, 0.0664],\n",
    "       [0.0655, 0.0781],\n",
    "       [0.068 , 0.0904],\n",
    "       [0.0706, 0.1031],\n",
    "       [0.0732, 0.1159],\n",
    "       [0.0757, 0.129 ],\n",
    "       [0.0783, 0.1421],\n",
    "       [0.0809, 0.1554],\n",
    "       [0.0834, 0.1687],\n",
    "       [0.086 , 0.1821],\n",
    "       [0.0886, 0.1955]])"
   ]
  },
  {
   "cell_type": "code",
   "execution_count": 12,
   "metadata": {},
   "outputs": [],
   "source": [
    "W0 = 30\n",
    "iMax = 200\n",
    "infusions = [5,5,5,5,5]\n",
    "infusions = [0,0,0,0,0]\n",
    "goals = [None,None,[20,50],None,[50,100]]\n",
    "goal_max_costs = [0,0,20,0,50]\n",
    "#infusions = [ 0]\n",
    "#goals = [20]\n"
   ]
  },
  {
   "cell_type": "code",
   "execution_count": 18,
   "metadata": {},
   "outputs": [
    {
     "ename": "IndexError",
     "evalue": "too many indices for array: array is 1-dimensional, but 2 were indexed",
     "output_type": "error",
     "traceback": [
      "\u001b[1;31m---------------------------------------------------------------------------\u001b[0m",
      "\u001b[1;31mIndexError\u001b[0m                                Traceback (most recent call last)",
      "\u001b[1;32mc:\\Users\\matsz\\programowanie\\Optymalizacja portfela\\spike.ipynb Cell 4\u001b[0m in \u001b[0;36m<cell line: 4>\u001b[1;34m()\u001b[0m\n\u001b[0;32m      <a href='vscode-notebook-cell:/c%3A/Users/matsz/programowanie/Optymalizacja%20portfela/spike.ipynb#W4sZmlsZQ%3D%3D?line=1'>2</a>\u001b[0m propabilities \u001b[39m=\u001b[39m calculateTransitionPropabilitiesForAllPorfolios(portfolios,grid[\u001b[39m0\u001b[39m],grid[\u001b[39m1\u001b[39m],infusions[\u001b[39m0\u001b[39m],\u001b[39m1\u001b[39m)\n\u001b[0;32m      <a href='vscode-notebook-cell:/c%3A/Users/matsz/programowanie/Optymalizacja%20portfela/spike.ipynb#W4sZmlsZQ%3D%3D?line=2'>3</a>\u001b[0m Vlast \u001b[39m=\u001b[39m np\u001b[39m.\u001b[39mzeros(iMax)\n\u001b[1;32m----> <a href='vscode-notebook-cell:/c%3A/Users/matsz/programowanie/Optymalizacja%20portfela/spike.ipynb#W4sZmlsZQ%3D%3D?line=3'>4</a>\u001b[0m result \u001b[39m=\u001b[39m get_optimal_strategies_for_T(goals[\u001b[39m4\u001b[39;49m],W0,propabilities,Vlast)\n\u001b[0;32m      <a href='vscode-notebook-cell:/c%3A/Users/matsz/programowanie/Optymalizacja%20portfela/spike.ipynb#W4sZmlsZQ%3D%3D?line=5'>6</a>\u001b[0m port_str \u001b[39m=\u001b[39m result\u001b[39m.\u001b[39mporfolios_strategies\n",
      "File \u001b[1;32mc:\\Users\\matsz\\programowanie\\Optymalizacja portfela\\model\\investment_planner.py:84\u001b[0m, in \u001b[0;36mget_optimal_strategies_for_T\u001b[1;34m(goals, W0, portfolios_probabilities, VT1)\u001b[0m\n\u001b[0;32m     81\u001b[0m \u001b[39mif\u001b[39;00m (goals \u001b[39mis\u001b[39;00m \u001b[39mNone\u001b[39;00m):\n\u001b[0;32m     82\u001b[0m     \u001b[39mreturn\u001b[39;00m OptimisationResult(portfolios_strategies,[\u001b[39m0\u001b[39m,\u001b[39m0\u001b[39m,\u001b[39m0\u001b[39m,\u001b[39m0\u001b[39m],VTK0)\n\u001b[1;32m---> 84\u001b[0m VT \u001b[39m=\u001b[39m get_goals_values(goals, VTK0,W0)\n\u001b[0;32m     86\u001b[0m goal_strategies \u001b[39m=\u001b[39m np\u001b[39m.\u001b[39mnanargmax(VT,\u001b[39m0\u001b[39m)\n\u001b[0;32m     88\u001b[0m goal_porfolios_strategies \u001b[39m=\u001b[39m np\u001b[39m.\u001b[39mzeros_like(W0)\n",
      "File \u001b[1;32mc:\\Users\\matsz\\programowanie\\Optymalizacja portfela\\model\\investment_planner.py:38\u001b[0m, in \u001b[0;36mget_goals_values\u001b[1;34m(goals, VTK0, W0)\u001b[0m\n\u001b[0;32m     37\u001b[0m \u001b[39mdef\u001b[39;00m \u001b[39mget_goals_values\u001b[39m(goals,VTK0,W0):\n\u001b[1;32m---> 38\u001b[0m     goals_costs \u001b[39m=\u001b[39m np\u001b[39m.\u001b[39;49masarray(goals)[:,\u001b[39m0\u001b[39;49m]\n\u001b[0;32m     39\u001b[0m     goals_utills \u001b[39m=\u001b[39m np\u001b[39m.\u001b[39masarray(goals)[:,\u001b[39m1\u001b[39m]\n\u001b[0;32m     40\u001b[0m     Wtc \u001b[39m=\u001b[39m calculateWtc(W0,goals_costs,\u001b[39m0\u001b[39m)\n",
      "\u001b[1;31mIndexError\u001b[0m: too many indices for array: array is 1-dimensional, but 2 were indexed"
     ]
    }
   ],
   "source": [
    "grid = generateGrid(W0,iMax,infusions,goal_max_costs,portfolios[0,0],portfolios[0,1],portfolios[-1,0],portfolios[-1,1])\n",
    "propabilities = calculateTransitionPropabilitiesForAllPorfolios(portfolios,grid[0],grid[1],infusions[0],1)\n",
    "Vlast = np.zeros(iMax)\n",
    "result = get_optimal_strategies_for_T(goals[4],W0,propabilities,Vlast)\n",
    "\n",
    "port_str = result.porfolios_strategies\n",
    "\n",
    "\n"
   ]
  },
  {
   "cell_type": "code",
   "execution_count": null,
   "metadata": {},
   "outputs": [
    {
     "data": {
      "text/plain": [
       "array([0, 0, 0, 1, 0, 0, 0], dtype=int64)"
      ]
     },
     "execution_count": 170,
     "metadata": {},
     "output_type": "execute_result"
    }
   ],
   "source": [
    "W0 = [4, 9, 95,98,100,103,105]\n",
    "propabilities = np.round(calculateTransitionPropabilitiesForAllPorfolios([portfolios[0],portfolios[2]],W0,W0,5),2)\n",
    "portfolios_strategies, VTK0, chosen_propabilieties = get_portfolios_strategies(np.array([60,65,70,80,85,90,90]),propabilities)\n",
    "portfolios_strategies"
   ]
  },
  {
   "cell_type": "code",
   "execution_count": null,
   "metadata": {},
   "outputs": [
    {
     "data": {
      "text/plain": [
       "array([-10,  -5,  25,  45])"
      ]
     },
     "execution_count": 208,
     "metadata": {},
     "output_type": "execute_result"
    }
   ],
   "source": [
    "W0 = np.array([25,30,60,80])\n",
    "wtc = W0 - 35\n",
    "wtc"
   ]
  },
  {
   "cell_type": "code",
   "execution_count": null,
   "metadata": {},
   "outputs": [
    {
     "data": {
      "text/plain": [
       "66.35"
      ]
     },
     "execution_count": 221,
     "metadata": {},
     "output_type": "execute_result"
    }
   ],
   "source": [
    "x = [30,60]\n",
    "y = [44.9, 87.8]\n",
    "np.interp(45, x, y)"
   ]
  },
  {
   "cell_type": "code",
   "execution_count": null,
   "metadata": {},
   "outputs": [
    {
     "data": {
      "text/plain": [
       "array([15, 15])"
      ]
     },
     "execution_count": 236,
     "metadata": {},
     "output_type": "execute_result"
    }
   ],
   "source": [
    "np.abs(np.subtract([30,60],45))\n"
   ]
  },
  {
   "cell_type": "code",
   "execution_count": null,
   "metadata": {},
   "outputs": [
    {
     "data": {
      "text/plain": [
       "2"
      ]
     },
     "execution_count": 246,
     "metadata": {},
     "output_type": "execute_result"
    }
   ],
   "source": [
    "np.argmin([2,3,1])"
   ]
  },
  {
   "cell_type": "code",
   "execution_count": null,
   "metadata": {},
   "outputs": [
    {
     "data": {
      "text/plain": [
       "0.525"
      ]
     },
     "execution_count": 218,
     "metadata": {},
     "output_type": "execute_result"
    }
   ],
   "source": [
    "x = [30,60]\n",
    "y = [0.45, 0.6]\n",
    "np.interp(45, x, y)"
   ]
  },
  {
   "cell_type": "code",
   "execution_count": null,
   "metadata": {},
   "outputs": [
    {
     "name": "stdout",
     "output_type": "stream",
     "text": [
      "[[[ 0.   0.   0.   0. ]\n",
      "  [ 0.   0.   0.8  0. ]\n",
      "  [ 0.   0.  24.4 63.4]\n",
      "  [ 0.   0.   7.5 90.8]]\n",
      "\n",
      " [[ 0.   0.  10.8  1.6]\n",
      "  [ 0.   0.  22.2 10.6]\n",
      "  [ 0.   0.  26.8 32.2]\n",
      "  [ 0.   0.  26.2 38.7]]\n",
      "\n",
      " [[ 0.   0.  22.5 13.3]\n",
      "  [ 0.   0.  24.7 20.2]\n",
      "  [ 0.   0.  25.6 27.1]\n",
      "  [ 0.   0.  25.7 28.8]]]\n"
     ]
    },
    {
     "data": {
      "text/plain": [
       "(array([2, 2, 0, 0], dtype=int64),\n",
       " array([35.8, 44.9, 87.8, 98.3]),\n",
       " array([[0.368, 0.275, 0.225, 0.133],\n",
       "        [0.287, 0.264, 0.247, 0.202],\n",
       "        [0.017, 0.105, 0.244, 0.634],\n",
       "        [0.001, 0.017, 0.075, 0.908]]))"
      ]
     },
     "execution_count": 206,
     "metadata": {},
     "output_type": "execute_result"
    }
   ],
   "source": [
    "probs =  np.array([[[1.,    0.,    0.,    0.   ],\n",
    "                                [0.926, 0.065, 0.008, 0.   ],\n",
    "                                [0.017, 0.105, 0.244, 0.634],\n",
    "                                [0.001, 0.017, 0.075, 0.908]],\n",
    "\n",
    "                                [[0.65, 0.226, 0.108, 0.016],\n",
    "                                [0.388, 0.284, 0.222, 0.106],\n",
    "                                [0.177, 0.234, 0.268, 0.322],\n",
    "                                [0.14, 0.211, 0.262, 0.387]],\n",
    "\n",
    "                                [[0.368, 0.275, 0.225, 0.133],\n",
    "                                [0.287, 0.264, 0.247, 0.202],\n",
    "                                [0.227, 0.246, 0.256, 0.271],\n",
    "                                [0.215, 0.241, 0.257, 0.288]]])\n",
    "VT1 = np.array([0,0,100,100])\n",
    "\n",
    "print(probs * VT1)\n",
    "\n",
    "get_portfolios_strategies(VT1,probs)"
   ]
  },
  {
   "cell_type": "code",
   "execution_count": null,
   "metadata": {},
   "outputs": [
    {
     "data": {
      "text/plain": [
       "array([0, 0, 0, 1], dtype=int64)"
      ]
     },
     "execution_count": 205,
     "metadata": {},
     "output_type": "execute_result"
    }
   ],
   "source": [
    "arr1 = [1,2,2,4]\n",
    "arr2 = [4,3,2,1]\n",
    "np.argmin([arr1,arr2],0)"
   ]
  }
 ],
 "metadata": {
  "kernelspec": {
   "display_name": "portfolio-optimisation",
   "language": "python",
   "name": "python3"
  },
  "language_info": {
   "codemirror_mode": {
    "name": "ipython",
    "version": 3
   },
   "file_extension": ".py",
   "mimetype": "text/x-python",
   "name": "python",
   "nbconvert_exporter": "python",
   "pygments_lexer": "ipython3",
   "version": "3.9.12"
  },
  "orig_nbformat": 4
 },
 "nbformat": 4,
 "nbformat_minor": 2
}
