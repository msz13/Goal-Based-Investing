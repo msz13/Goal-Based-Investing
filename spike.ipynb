{
 "cells": [
  {
   "cell_type": "code",
   "execution_count": 5,
   "metadata": {},
   "outputs": [
    {
     "name": "stdout",
     "output_type": "stream",
     "text": [
      "The autoreload extension is already loaded. To reload it, use:\n",
      "  %reload_ext autoreload\n"
     ]
    }
   ],
   "source": [
    "from model.grid import generateGrid\n",
    "from model.propabilities import calculateTransitionPropabilitiesForAllPorfolios, select_probabilities_for_chosen_strategies\n",
    "from model.investment_planner import get_portfolios_strategies, get_optimal_strategies_for_T\n",
    "import numpy as np\n",
    "import pandas as pd\n",
    "import seaborn as sns\n",
    "\n",
    "%load_ext autoreload\n",
    "%autoreload 2"
   ]
  },
  {
   "cell_type": "code",
   "execution_count": 6,
   "metadata": {},
   "outputs": [],
   "source": [
    "portfolios = np.array([[0.0526, 0.037 ],\n",
    "       [0.0552, 0.0396],\n",
    "       [0.0577, 0.0463],\n",
    "       [0.0603, 0.0556],\n",
    "       [0.0629, 0.0664],\n",
    "       [0.0655, 0.0781],\n",
    "       [0.068 , 0.0904],\n",
    "       [0.0706, 0.1031],\n",
    "       [0.0732, 0.1159],\n",
    "       [0.0757, 0.129 ],\n",
    "       [0.0783, 0.1421],\n",
    "       [0.0809, 0.1554],\n",
    "       [0.0834, 0.1687],\n",
    "       [0.086 , 0.1821],\n",
    "       [0.0886, 0.1955]])"
   ]
  },
  {
   "cell_type": "code",
   "execution_count": 7,
   "metadata": {},
   "outputs": [],
   "source": [
    "W0 = 100\n",
    "iMax = 401\n",
    "T = 12\n",
    "#infusions = [0,5,5,5,5,5,0]\n",
    "infusions = np.zeros(T)\n",
    "goals = [None,None,None,None,None,None,None,None,None,None,np.array([[200,1000]]),None]\n",
    "goal_max_costs = [0,0,0,0,0,0,0,0,0,0,200,0]\n",
    "\n",
    "#infusions = [ 0]\n",
    "#goals = [20]\n",
    "#"
   ]
  },
  {
   "cell_type": "code",
   "execution_count": 13,
   "metadata": {},
   "outputs": [],
   "source": [
    "grid = generateGrid(W0,iMax,infusions,goal_max_costs,portfolios[0,0],portfolios[0,1],portfolios[-1,0],portfolios[-1,1])\n",
    "\n",
    "goals_strategies = np.zeros((T,iMax))\n",
    "portfolios_strategies = np.zeros((T,iMax))\n",
    "probabilities = np.zeros((T,iMax,iMax))\n",
    "V = np.zeros((T,iMax))\n",
    "selected_propabilities = np.zeros((T,iMax,iMax))\n",
    "\n",
    "for t in range(T-2,-1,-1):\n",
    "    probabilities = calculateTransitionPropabilitiesForAllPorfolios(portfolios,grid[t],grid[t+1],infusions[t],1)\n",
    "    result = get_optimal_strategies_for_T(goals[t],grid[t], probabilities, V[t+1])  \n",
    "    goals_strategies[t] = result.goals_strategies\n",
    "    portfolios_strategies[t] = result.porfolios_strategies\n",
    "    V[t] = result.values\n",
    "    goals_costs = goals[t][:,0] if goals[t] is not None else None\n",
    "    selected_propabilities[t] = select_probabilities_for_chosen_strategies(probabilities,result.porfolios_strategies,result.goals_strategies,goals_costs,grid[t])\n",
    "    "
   ]
  },
  {
   "cell_type": "code",
   "execution_count": null,
   "metadata": {},
   "outputs": [
    {
     "name": "stdout",
     "output_type": "stream",
     "text": [
      "0.134689\n",
      "0.078925\n",
      "0.0038250000000000003\n",
      "0.000133\n"
     ]
    },
    {
     "data": {
      "text/plain": [
       "array([0.217572, 0.17799 , 0.136846, 0.875581])"
      ]
     },
     "execution_count": 130,
     "metadata": {},
     "output_type": "execute_result"
    }
   ],
   "source": [
    "arr = np.array([[[0.367, 0.275, 0.225, 0.133],\n",
    "                [0.287, 0.264, 0.247, 0.202],\n",
    "                [0.017, 0.105, 0.244, 0.634],\n",
    "                [0.001, 0.017, 0.075, 0.908]\n",
    "                ],\n",
    "                [[0.367, 0.275, 0.225, 0.133],\n",
    "                [0.287, 0.264, 0.247, 0.202],\n",
    "                [0.017, 0.105, 0.244, 0.634],\n",
    "                [0.001, 0.017, 0.075, 0.908]\n",
    "                ]])\n",
    "\n",
    "p = np.zeros(4)\n",
    "\n",
    "for i in range (4):\n",
    "    p[i] = arr[1,:,i] @ arr[0,i]\n",
    "\n",
    "print(arr[0,0,0]*arr[1,0,0])\n",
    "print(arr[0,0,1]*arr[1,1,0])\n",
    "print(arr[0,0,2]*arr[1,2,0])\n",
    "print(arr[0,0,3]*arr[1,3,0])\n",
    "\n",
    "arr[0,0,0]*arr[1,0,0]+arr[0,0,1]*arr[1,1,0]+arr[0,0,2]*arr[1,2,0]+arr[0,0,3]*arr[1,3,0]\n",
    "p\n"
   ]
  },
  {
   "cell_type": "code",
   "execution_count": null,
   "metadata": {},
   "outputs": [],
   "source": [
    "df = pd.DataFrame(portfolios_strategies.T)\n",
    "df.insert(0,'W',grid[1].T)\n",
    "#df.set_index('W')\n",
    "#sns.heatmap(df.iloc[230:251])\n",
    "short = df.iloc[200:281]\n"
   ]
  },
  {
   "attachments": {},
   "cell_type": "markdown",
   "metadata": {},
   "source": [
    "TODO:\n",
    "* test get_portfolios_strategies when vt1 for all i\n",
    "* dodać wyświetlanie portfolios strategies i goal strategies a grid wealth values (data frame)\n",
    "* wyświetlić z multiple goals"
   ]
  },
  {
   "cell_type": "code",
   "execution_count": null,
   "metadata": {},
   "outputs": [
    {
     "name": "stdout",
     "output_type": "stream",
     "text": [
      "0.2176\n",
      "0.1994\n",
      "0.2154\n",
      "0.3678\n"
     ]
    }
   ],
   "source": [
    "arr = np.array([[[0.367, 0.275, 0.225, 0.133],\n",
    "                      [0.287, 0.264, 0.247, 0.202],\n",
    "                      [0.017, 0.105, 0.244, 0.634],\n",
    "                      [0.001, 0.017, 0.075, 0.908]\n",
    "                      ]])  \n",
    "\n",
    "print(np.round(arr[0,0]@arr[0,:,0],4))\n",
    "print(np.round(arr[0,0]@arr[0,:,1],4))\n",
    "print(np.round(arr[0,0]@arr[0,:,2],4))\n",
    "print(np.round(arr[0,0]@arr[0,:,3],4))"
   ]
  },
  {
   "cell_type": "code",
   "execution_count": null,
   "metadata": {},
   "outputs": [],
   "source": [
    "goals = [None,np.array([(100,150),(200,300)])]\n",
    "t = 0\n",
    "#goals_costs = goals[t][:,0] if goals[t] is not None else None\n",
    "goals_costs = goals[t][:,0] if goals[t] is not None else None\n",
    "goals_costs"
   ]
  },
  {
   "cell_type": "code",
   "execution_count": null,
   "metadata": {},
   "outputs": [],
   "source": []
  }
 ],
 "metadata": {
  "kernelspec": {
   "display_name": "portfolio-optimisation",
   "language": "python",
   "name": "python3"
  },
  "language_info": {
   "codemirror_mode": {
    "name": "ipython",
    "version": 3
   },
   "file_extension": ".py",
   "mimetype": "text/x-python",
   "name": "python",
   "nbconvert_exporter": "python",
   "pygments_lexer": "ipython3",
   "version": "3.9.12"
  },
  "orig_nbformat": 4
 },
 "nbformat": 4,
 "nbformat_minor": 2
}
