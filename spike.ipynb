{
 "cells": [
  {
   "cell_type": "code",
   "execution_count": 1,
   "metadata": {},
   "outputs": [],
   "source": [
    "from model.grid import generateGrid\n",
    "from model.propabilities import calculateTransitionPropabilitiesForAllPorfolios\n",
    "from model.investment_planner import get_portfolios_strategies, get_optimal_strategies_for_T\n",
    "import numpy as np\n",
    "\n",
    "%load_ext autoreload\n",
    "%autoreload 2"
   ]
  },
  {
   "cell_type": "code",
   "execution_count": 2,
   "metadata": {},
   "outputs": [],
   "source": [
    "portfolios = np.array([[0.0526, 0.037 ],\n",
    "       [0.0552, 0.0396],\n",
    "       [0.0577, 0.0463],\n",
    "       [0.0603, 0.0556],\n",
    "       [0.0629, 0.0664],\n",
    "       [0.0655, 0.0781],\n",
    "       [0.068 , 0.0904],\n",
    "       [0.0706, 0.1031],\n",
    "       [0.0732, 0.1159],\n",
    "       [0.0757, 0.129 ],\n",
    "       [0.0783, 0.1421],\n",
    "       [0.0809, 0.1554],\n",
    "       [0.0834, 0.1687],\n",
    "       [0.086 , 0.1821],\n",
    "       [0.0886, 0.1955]])"
   ]
  },
  {
   "cell_type": "code",
   "execution_count": 43,
   "metadata": {},
   "outputs": [],
   "source": [
    "W0 = 100\n",
    "iMax = 401\n",
    "T = 12\n",
    "#infusions = [0,5,5,5,5,5,0]\n",
    "infusions = np.zeros(T)\n",
    "goals = [None,None,None,None,None,None,None,None,None,None,[[200,1000]],None]\n",
    "goal_max_costs = [0,0,0,0,0,0,0,0,0,0,200,0]\n",
    "\n",
    "#infusions = [ 0]\n",
    "#goals = [20]\n",
    "#"
   ]
  },
  {
   "cell_type": "code",
   "execution_count": 46,
   "metadata": {},
   "outputs": [],
   "source": [
    "grid = generateGrid(W0,iMax,infusions,goal_max_costs,portfolios[0,0],portfolios[0,1],portfolios[-1,0],portfolios[-1,1])\n",
    "\n",
    "goals_strategies = np.zeros((T,iMax))\n",
    "portfolios_strategies = np.zeros((T,iMax))\n",
    "probabilities = np.zeros((T,iMax,iMax))\n",
    "V = np.zeros((T,iMax))\n",
    "\n",
    "for t in range(T-2,-1,-1):\n",
    "    probabilities = calculateTransitionPropabilitiesForAllPorfolios(portfolios,grid[t],grid[t+1],infusions[t],1)\n",
    "    result = get_optimal_strategies_for_T(goals[t],grid[t], probabilities, V[t+1])  \n",
    "    goals_strategies[t] = result.goals_strategies\n",
    "    portfolios_strategies[t] = result.porfolios_strategies\n",
    "    V[t] = result.values \n"
   ]
  },
  {
   "attachments": {},
   "cell_type": "markdown",
   "metadata": {},
   "source": [
    "TODO:\n",
    "* test get_portfolios_strategies when vt1 for all i\n",
    "* dodać wyświetlanie portfolios strategies i goal strategies a grid wealth values (data frame)\n",
    "* wyświetlić z multiple goals"
   ]
  },
  {
   "cell_type": "code",
   "execution_count": 47,
   "metadata": {},
   "outputs": [
    {
     "data": {
      "text/plain": [
       "array([[1., 1., 1., 0., 0., 0.],\n",
       "       [1., 1., 1., 0., 0., 0.]])"
      ]
     },
     "execution_count": 47,
     "metadata": {},
     "output_type": "execute_result"
    }
   ],
   "source": [
    "np.c_[np.ones((2,3)),np.zeros((2,3))]"
   ]
  }
 ],
 "metadata": {
  "kernelspec": {
   "display_name": "portfolio-optimisation",
   "language": "python",
   "name": "python3"
  },
  "language_info": {
   "codemirror_mode": {
    "name": "ipython",
    "version": 3
   },
   "file_extension": ".py",
   "mimetype": "text/x-python",
   "name": "python",
   "nbconvert_exporter": "python",
   "pygments_lexer": "ipython3",
   "version": "3.9.12"
  },
  "orig_nbformat": 4
 },
 "nbformat": 4,
 "nbformat_minor": 2
}
