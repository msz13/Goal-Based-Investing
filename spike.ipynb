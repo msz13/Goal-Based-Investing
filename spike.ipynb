{
 "cells": [
  {
   "cell_type": "code",
   "execution_count": 66,
   "metadata": {},
   "outputs": [
    {
     "name": "stdout",
     "output_type": "stream",
     "text": [
      "The autoreload extension is already loaded. To reload it, use:\n",
      "  %reload_ext autoreload\n"
     ]
    }
   ],
   "source": [
    "from model.grid import generateGrid\n",
    "from model.propabilities import calculateTransitionPropabilitiesForAllPorfolios, select_probabilities_for_chosen_strategies\n",
    "from model.investment_planner import get_portfolios_strategies, get_optimal_strategies_for_T\n",
    "import numpy as np\n",
    "import pandas as pd\n",
    "import seaborn as sns\n",
    "\n",
    "%load_ext autoreload\n",
    "%autoreload 2"
   ]
  },
  {
   "cell_type": "code",
   "execution_count": 48,
   "metadata": {},
   "outputs": [],
   "source": [
    "portfolios = np.array([[0.0526, 0.037 ],\n",
    "       [0.0552, 0.0396],\n",
    "       [0.0577, 0.0463],\n",
    "       [0.0603, 0.0556],\n",
    "       [0.0629, 0.0664],\n",
    "       [0.0655, 0.0781],\n",
    "       [0.068 , 0.0904],\n",
    "       [0.0706, 0.1031],\n",
    "       [0.0732, 0.1159],\n",
    "       [0.0757, 0.129 ],\n",
    "       [0.0783, 0.1421],\n",
    "       [0.0809, 0.1554],\n",
    "       [0.0834, 0.1687],\n",
    "       [0.086 , 0.1821],\n",
    "       [0.0886, 0.1955]])"
   ]
  },
  {
   "cell_type": "code",
   "execution_count": 49,
   "metadata": {},
   "outputs": [],
   "source": [
    "W0 = 100\n",
    "iMax = 401\n",
    "T = 12\n",
    "#infusions = [0,5,5,5,5,5,0]\n",
    "infusions = np.zeros(T)\n",
    "goals = [None,None,None,None,None,None,None,None,None,None,[[200,1000]],None]\n",
    "goal_max_costs = [0,0,0,0,0,0,0,0,0,0,200,0]\n",
    "\n",
    "#infusions = [ 0]\n",
    "#goals = [20]\n",
    "#"
   ]
  },
  {
   "cell_type": "code",
   "execution_count": 76,
   "metadata": {},
   "outputs": [
    {
     "name": "stdout",
     "output_type": "stream",
     "text": [
      "Unexpected exception formatting exception. Falling back to standard exception\n"
     ]
    },
    {
     "name": "stderr",
     "output_type": "stream",
     "text": [
      "Traceback (most recent call last):\n",
      "  File \"c:\\Users\\matsz\\miniconda3\\envs\\portfolio-optimisation\\lib\\site-packages\\IPython\\core\\interactiveshell.py\", line 3397, in run_code\n",
      "    exec(code_obj, self.user_global_ns, self.user_ns)\n",
      "  File \"C:\\Users\\matsz\\AppData\\Local\\Temp\\ipykernel_70752\\3470440628.py\", line 16, in <cell line: 9>\n",
      "    selected_propabilities[t] = select_probabilities_for_chosen_strategies(probabilities,result.porfolios_strategies)\n",
      "  File \"c:\\Users\\matsz\\programowanie\\Optymalizacja portfela\\model\\propabilities.py\", line 59, in select_probabilities_for_chosen_strategies\n",
      "    return np.take_along_axis(p,s,1).squeeze(1)\n",
      "  File \"<__array_function__ internals>\", line 180, in take_along_axis\n",
      "  File \"c:\\Users\\matsz\\miniconda3\\envs\\portfolio-optimisation\\lib\\site-packages\\numpy\\lib\\shape_base.py\", line 170, in take_along_axis\n",
      "    return arr[_make_along_axis_idx(arr_shape, indices, axis)]\n",
      "  File \"c:\\Users\\matsz\\miniconda3\\envs\\portfolio-optimisation\\lib\\site-packages\\numpy\\lib\\shape_base.py\", line 32, in _make_along_axis_idx\n",
      "    raise IndexError('`indices` must be an integer array')\n",
      "IndexError: `indices` must be an integer array\n",
      "\n",
      "During handling of the above exception, another exception occurred:\n",
      "\n",
      "Traceback (most recent call last):\n",
      "  File \"c:\\Users\\matsz\\miniconda3\\envs\\portfolio-optimisation\\lib\\site-packages\\IPython\\core\\interactiveshell.py\", line 1992, in showtraceback\n",
      "    stb = self.InteractiveTB.structured_traceback(\n",
      "  File \"c:\\Users\\matsz\\miniconda3\\envs\\portfolio-optimisation\\lib\\site-packages\\IPython\\core\\ultratb.py\", line 1118, in structured_traceback\n",
      "    return FormattedTB.structured_traceback(\n",
      "  File \"c:\\Users\\matsz\\miniconda3\\envs\\portfolio-optimisation\\lib\\site-packages\\IPython\\core\\ultratb.py\", line 1012, in structured_traceback\n",
      "    return VerboseTB.structured_traceback(\n",
      "  File \"c:\\Users\\matsz\\miniconda3\\envs\\portfolio-optimisation\\lib\\site-packages\\IPython\\core\\ultratb.py\", line 865, in structured_traceback\n",
      "    formatted_exception = self.format_exception_as_a_whole(etype, evalue, etb, number_of_lines_of_context,\n",
      "  File \"c:\\Users\\matsz\\miniconda3\\envs\\portfolio-optimisation\\lib\\site-packages\\IPython\\core\\ultratb.py\", line 818, in format_exception_as_a_whole\n",
      "    frames.append(self.format_record(r))\n",
      "  File \"c:\\Users\\matsz\\miniconda3\\envs\\portfolio-optimisation\\lib\\site-packages\\IPython\\core\\ultratb.py\", line 736, in format_record\n",
      "    result += ''.join(_format_traceback_lines(frame_info.lines, Colors, self.has_colors, lvals))\n",
      "  File \"c:\\Users\\matsz\\miniconda3\\envs\\portfolio-optimisation\\lib\\site-packages\\stack_data\\utils.py\", line 145, in cached_property_wrapper\n",
      "    value = obj.__dict__[self.func.__name__] = self.func(obj)\n",
      "  File \"c:\\Users\\matsz\\miniconda3\\envs\\portfolio-optimisation\\lib\\site-packages\\stack_data\\core.py\", line 698, in lines\n",
      "    pieces = self.included_pieces\n",
      "  File \"c:\\Users\\matsz\\miniconda3\\envs\\portfolio-optimisation\\lib\\site-packages\\stack_data\\utils.py\", line 145, in cached_property_wrapper\n",
      "    value = obj.__dict__[self.func.__name__] = self.func(obj)\n",
      "  File \"c:\\Users\\matsz\\miniconda3\\envs\\portfolio-optimisation\\lib\\site-packages\\stack_data\\core.py\", line 649, in included_pieces\n",
      "    pos = scope_pieces.index(self.executing_piece)\n",
      "  File \"c:\\Users\\matsz\\miniconda3\\envs\\portfolio-optimisation\\lib\\site-packages\\stack_data\\utils.py\", line 145, in cached_property_wrapper\n",
      "    value = obj.__dict__[self.func.__name__] = self.func(obj)\n",
      "  File \"c:\\Users\\matsz\\miniconda3\\envs\\portfolio-optimisation\\lib\\site-packages\\stack_data\\core.py\", line 628, in executing_piece\n",
      "    return only(\n",
      "  File \"c:\\Users\\matsz\\miniconda3\\envs\\portfolio-optimisation\\lib\\site-packages\\executing\\executing.py\", line 164, in only\n",
      "    raise NotOneValueFound('Expected one value, found 0')\n",
      "executing.executing.NotOneValueFound: Expected one value, found 0\n"
     ]
    }
   ],
   "source": [
    "grid = generateGrid(W0,iMax,infusions,goal_max_costs,portfolios[0,0],portfolios[0,1],portfolios[-1,0],portfolios[-1,1])\n",
    "\n",
    "goals_strategies = np.zeros((T,iMax))\n",
    "portfolios_strategies = np.zeros((T,iMax))\n",
    "probabilities = np.zeros((T,iMax,iMax))\n",
    "V = np.zeros((T,iMax))\n",
    "selected_propabilities = np.zeros((T,iMax,iMax))\n",
    "\n",
    "for t in range(T-2,-1,-1):\n",
    "    probabilities = calculateTransitionPropabilitiesForAllPorfolios(portfolios,grid[t],grid[t+1],infusions[t],1)\n",
    "    result = get_optimal_strategies_for_T(goals[t],grid[t], probabilities, V[t+1])  \n",
    "    goals_strategies[t] = result.goals_strategies\n",
    "    portfolios_strategies[t] = result.porfolios_strategies\n",
    "    V[t] = result.values\n",
    "    selected_propabilities[t] = select_probabilities_for_chosen_strategies(probabilities,result.porfolios_strategies)\n",
    "    "
   ]
  },
  {
   "cell_type": "code",
   "execution_count": 105,
   "metadata": {},
   "outputs": [
    {
     "name": "stdout",
     "output_type": "stream",
     "text": [
      "0.134689\n",
      "0.078925\n",
      "0.0038250000000000003\n",
      "0.000133\n"
     ]
    },
    {
     "data": {
      "text/plain": [
       "array([0.217572, 0.17799 , 0.136846, 0.875581])"
      ]
     },
     "execution_count": 105,
     "metadata": {},
     "output_type": "execute_result"
    }
   ],
   "source": [
    "arr = np.array([[[0.367, 0.275, 0.225, 0.133],\n",
    "                [0.287, 0.264, 0.247, 0.202],\n",
    "                [0.017, 0.105, 0.244, 0.634],\n",
    "                [0.001, 0.017, 0.075, 0.908]\n",
    "                ],\n",
    "                [[0.367, 0.275, 0.225, 0.133],\n",
    "                [0.287, 0.264, 0.247, 0.202],\n",
    "                [0.017, 0.105, 0.244, 0.634],\n",
    "                [0.001, 0.017, 0.075, 0.908]\n",
    "                ]])\n",
    "\n",
    "p = np.zeros(4)\n",
    "\n",
    "for i in range (4):\n",
    "    p[i] = arr[1,:,i] @ arr[0,i]\n",
    "\n",
    "print(arr[0,0,0]*arr[1,0,0])\n",
    "print(arr[0,0,1]*arr[1,1,0])\n",
    "print(arr[0,0,2]*arr[1,2,0])\n",
    "print(arr[0,0,3]*arr[1,3,0])\n",
    "\n",
    "arr[0,0,0]*arr[1,0,0]+arr[0,0,1]*arr[1,1,0]+arr[0,0,2]*arr[1,2,0]+arr[0,0,3]*arr[1,3,0]\n",
    "p\n"
   ]
  },
  {
   "cell_type": "code",
   "execution_count": 85,
   "metadata": {},
   "outputs": [],
   "source": [
    "df = pd.DataFrame(portfolios_strategies.T)\n",
    "df.insert(0,'W',grid[1].T)\n",
    "#df.set_index('W')\n",
    "#sns.heatmap(df.iloc[230:251])\n",
    "short = df.iloc[200:281]\n"
   ]
  },
  {
   "attachments": {},
   "cell_type": "markdown",
   "metadata": {},
   "source": [
    "TODO:\n",
    "* test get_portfolios_strategies when vt1 for all i\n",
    "* dodać wyświetlanie portfolios strategies i goal strategies a grid wealth values (data frame)\n",
    "* wyświetlić z multiple goals"
   ]
  },
  {
   "cell_type": "code",
   "execution_count": 122,
   "metadata": {},
   "outputs": [
    {
     "name": "stdout",
     "output_type": "stream",
     "text": [
      "0.2176\n",
      "0.1994\n",
      "0.2154\n",
      "0.3678\n"
     ]
    }
   ],
   "source": [
    "arr = np.array([[[0.367, 0.275, 0.225, 0.133],\n",
    "                      [0.287, 0.264, 0.247, 0.202],\n",
    "                      [0.017, 0.105, 0.244, 0.634],\n",
    "                      [0.001, 0.017, 0.075, 0.908]\n",
    "                      ]])  \n",
    "\n",
    "print(np.round(arr[0,0]@arr[0,:,0],4))\n",
    "print(np.round(arr[0,0]@arr[0,:,1],4))\n",
    "print(np.round(arr[0,0]@arr[0,:,2],4))\n",
    "print(np.round(arr[0,0]@arr[0,:,3],4))"
   ]
  }
 ],
 "metadata": {
  "kernelspec": {
   "display_name": "portfolio-optimisation",
   "language": "python",
   "name": "python3"
  },
  "language_info": {
   "codemirror_mode": {
    "name": "ipython",
    "version": 3
   },
   "file_extension": ".py",
   "mimetype": "text/x-python",
   "name": "python",
   "nbconvert_exporter": "python",
   "pygments_lexer": "ipython3",
   "version": "3.9.12"
  },
  "orig_nbformat": 4
 },
 "nbformat": 4,
 "nbformat_minor": 2
}
